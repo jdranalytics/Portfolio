{
 "cells": [
  {
   "cell_type": "markdown",
   "metadata": {},
   "source": [
    "FORECASTING FROM https://huggingface.co/datasets/pkr7098/time-series-forecasting-datasets"
   ]
  },
  {
   "cell_type": "code",
   "execution_count": 16,
   "metadata": {},
   "outputs": [
    {
     "data": {
      "text/html": [
       "<div>\n",
       "<style scoped>\n",
       "    .dataframe tbody tr th:only-of-type {\n",
       "        vertical-align: middle;\n",
       "    }\n",
       "\n",
       "    .dataframe tbody tr th {\n",
       "        vertical-align: top;\n",
       "    }\n",
       "\n",
       "    .dataframe thead th {\n",
       "        text-align: right;\n",
       "    }\n",
       "</style>\n",
       "<table border=\"1\" class=\"dataframe\">\n",
       "  <thead>\n",
       "    <tr style=\"text-align: right;\">\n",
       "      <th></th>\n",
       "      <th>date</th>\n",
       "      <th>HUFL</th>\n",
       "      <th>HULL</th>\n",
       "      <th>MUFL</th>\n",
       "      <th>MULL</th>\n",
       "      <th>LUFL</th>\n",
       "      <th>LULL</th>\n",
       "      <th>OT</th>\n",
       "    </tr>\n",
       "  </thead>\n",
       "  <tbody>\n",
       "    <tr>\n",
       "      <th>17415</th>\n",
       "      <td>2018-06-26 15:00:00</td>\n",
       "      <td>39.202999</td>\n",
       "      <td>11.392</td>\n",
       "      <td>49.644001</td>\n",
       "      <td>11.929</td>\n",
       "      <td>-10.331</td>\n",
       "      <td>-1.258</td>\n",
       "      <td>47.084999</td>\n",
       "    </tr>\n",
       "    <tr>\n",
       "      <th>17416</th>\n",
       "      <td>2018-06-26 16:00:00</td>\n",
       "      <td>38.113998</td>\n",
       "      <td>10.974</td>\n",
       "      <td>48.759998</td>\n",
       "      <td>11.366</td>\n",
       "      <td>-10.331</td>\n",
       "      <td>-1.290</td>\n",
       "      <td>48.183498</td>\n",
       "    </tr>\n",
       "    <tr>\n",
       "      <th>17417</th>\n",
       "      <td>2018-06-26 17:00:00</td>\n",
       "      <td>39.622002</td>\n",
       "      <td>10.974</td>\n",
       "      <td>50.609001</td>\n",
       "      <td>11.661</td>\n",
       "      <td>-11.557</td>\n",
       "      <td>-1.418</td>\n",
       "      <td>48.183498</td>\n",
       "    </tr>\n",
       "    <tr>\n",
       "      <th>17418</th>\n",
       "      <td>2018-06-26 18:00:00</td>\n",
       "      <td>43.643002</td>\n",
       "      <td>13.403</td>\n",
       "      <td>54.737000</td>\n",
       "      <td>13.778</td>\n",
       "      <td>-10.299</td>\n",
       "      <td>-1.418</td>\n",
       "      <td>46.865501</td>\n",
       "    </tr>\n",
       "    <tr>\n",
       "      <th>17419</th>\n",
       "      <td>2018-06-26 19:00:00</td>\n",
       "      <td>38.868000</td>\n",
       "      <td>10.052</td>\n",
       "      <td>49.859001</td>\n",
       "      <td>10.669</td>\n",
       "      <td>-11.525</td>\n",
       "      <td>-1.418</td>\n",
       "      <td>45.986500</td>\n",
       "    </tr>\n",
       "  </tbody>\n",
       "</table>\n",
       "</div>"
      ],
      "text/plain": [
       "                     date       HUFL    HULL       MUFL    MULL    LUFL  \\\n",
       "17415 2018-06-26 15:00:00  39.202999  11.392  49.644001  11.929 -10.331   \n",
       "17416 2018-06-26 16:00:00  38.113998  10.974  48.759998  11.366 -10.331   \n",
       "17417 2018-06-26 17:00:00  39.622002  10.974  50.609001  11.661 -11.557   \n",
       "17418 2018-06-26 18:00:00  43.643002  13.403  54.737000  13.778 -10.299   \n",
       "17419 2018-06-26 19:00:00  38.868000  10.052  49.859001  10.669 -11.525   \n",
       "\n",
       "        LULL         OT  \n",
       "17415 -1.258  47.084999  \n",
       "17416 -1.290  48.183498  \n",
       "17417 -1.418  48.183498  \n",
       "17418 -1.418  46.865501  \n",
       "17419 -1.418  45.986500  "
      ]
     },
     "execution_count": 16,
     "metadata": {},
     "output_type": "execute_result"
    }
   ],
   "source": [
    "import pandas as pd\n",
    "\n",
    "data = pd.read_csv(\"https://huggingface.co/datasets/pkr7098/time-series-forecasting-datasets/resolve/main/ETTh2.csv\")\n",
    "data['date'] = pd.to_datetime(data['date'])\n",
    "\n",
    "data.tail(5)"
   ]
  },
  {
   "cell_type": "code",
   "execution_count": 34,
   "metadata": {},
   "outputs": [
    {
     "data": {
      "text/html": [
       "<div>\n",
       "<style scoped>\n",
       "    .dataframe tbody tr th:only-of-type {\n",
       "        vertical-align: middle;\n",
       "    }\n",
       "\n",
       "    .dataframe tbody tr th {\n",
       "        vertical-align: top;\n",
       "    }\n",
       "\n",
       "    .dataframe thead th {\n",
       "        text-align: right;\n",
       "    }\n",
       "</style>\n",
       "<table border=\"1\" class=\"dataframe\">\n",
       "  <thead>\n",
       "    <tr style=\"text-align: right;\">\n",
       "      <th></th>\n",
       "      <th>Metrics</th>\n",
       "      <th>HUFL</th>\n",
       "      <th>HULL</th>\n",
       "      <th>MUFL</th>\n",
       "      <th>MULL</th>\n",
       "      <th>LUFL</th>\n",
       "      <th>LULL</th>\n",
       "      <th>OT</th>\n",
       "      <th>OT-RF</th>\n",
       "      <th>OT-PR</th>\n",
       "    </tr>\n",
       "  </thead>\n",
       "  <tbody>\n",
       "    <tr>\n",
       "      <th>0</th>\n",
       "      <td>Seasonality</td>\n",
       "      <td>Yes</td>\n",
       "      <td>Yes</td>\n",
       "      <td>No</td>\n",
       "      <td>No</td>\n",
       "      <td>Yes</td>\n",
       "      <td>Yes</td>\n",
       "      <td>No</td>\n",
       "      <td>No</td>\n",
       "      <td>No</td>\n",
       "    </tr>\n",
       "    <tr>\n",
       "      <th>1</th>\n",
       "      <td>p-value (adfuller)</td>\n",
       "      <td>0.0307</td>\n",
       "      <td>0.0433</td>\n",
       "      <td>0.0577</td>\n",
       "      <td>0.0518</td>\n",
       "      <td>0.0072</td>\n",
       "      <td>0.0000</td>\n",
       "      <td>0.8257</td>\n",
       "      <td>0.8257</td>\n",
       "      <td>0.8257</td>\n",
       "    </tr>\n",
       "    <tr>\n",
       "      <th>2</th>\n",
       "      <td>Modelo</td>\n",
       "      <td>Arima</td>\n",
       "      <td>Arima</td>\n",
       "      <td>Arima</td>\n",
       "      <td>Arima</td>\n",
       "      <td>Arima</td>\n",
       "      <td>SES</td>\n",
       "      <td>Arima</td>\n",
       "      <td>Random Forest</td>\n",
       "      <td>Prophet</td>\n",
       "    </tr>\n",
       "    <tr>\n",
       "      <th>3</th>\n",
       "      <td>RMSE</td>\n",
       "      <td>6.03</td>\n",
       "      <td>1.88</td>\n",
       "      <td>5.67</td>\n",
       "      <td>1.26</td>\n",
       "      <td>0.51</td>\n",
       "      <td>0.37</td>\n",
       "      <td>5.53</td>\n",
       "      <td>7.35</td>\n",
       "      <td>6.98</td>\n",
       "    </tr>\n",
       "    <tr>\n",
       "      <th>4</th>\n",
       "      <td>MAE</td>\n",
       "      <td>5.38</td>\n",
       "      <td>1.57</td>\n",
       "      <td>5.09</td>\n",
       "      <td>0.96</td>\n",
       "      <td>0.44</td>\n",
       "      <td>0.26</td>\n",
       "      <td>4.03</td>\n",
       "      <td>5.26</td>\n",
       "      <td>5.82</td>\n",
       "    </tr>\n",
       "    <tr>\n",
       "      <th>5</th>\n",
       "      <td>RMSE naive</td>\n",
       "      <td>3.90</td>\n",
       "      <td>1.48</td>\n",
       "      <td>3.31</td>\n",
       "      <td>1.11</td>\n",
       "      <td>0.61</td>\n",
       "      <td>0.42</td>\n",
       "      <td>5.36</td>\n",
       "      <td>7.51</td>\n",
       "      <td>7.02</td>\n",
       "    </tr>\n",
       "    <tr>\n",
       "      <th>6</th>\n",
       "      <td>MAE naive</td>\n",
       "      <td>3.15</td>\n",
       "      <td>1.08</td>\n",
       "      <td>2.66</td>\n",
       "      <td>0.80</td>\n",
       "      <td>0.48</td>\n",
       "      <td>0.19</td>\n",
       "      <td>4.06</td>\n",
       "      <td>5.39</td>\n",
       "      <td>5.54</td>\n",
       "    </tr>\n",
       "    <tr>\n",
       "      <th>7</th>\n",
       "      <td>Min</td>\n",
       "      <td>48.08</td>\n",
       "      <td>16.13</td>\n",
       "      <td>43.99</td>\n",
       "      <td>12.64</td>\n",
       "      <td>4.45</td>\n",
       "      <td>1.33</td>\n",
       "      <td>25.59</td>\n",
       "      <td>25.59</td>\n",
       "      <td>25.59</td>\n",
       "    </tr>\n",
       "    <tr>\n",
       "      <th>8</th>\n",
       "      <td>Max</td>\n",
       "      <td>30.11</td>\n",
       "      <td>6.95</td>\n",
       "      <td>27.11</td>\n",
       "      <td>5.31</td>\n",
       "      <td>0.00</td>\n",
       "      <td>0.00</td>\n",
       "      <td>48.99</td>\n",
       "      <td>48.99</td>\n",
       "      <td>48.99</td>\n",
       "    </tr>\n",
       "    <tr>\n",
       "      <th>9</th>\n",
       "      <td>alpha (SES)</td>\n",
       "      <td>---</td>\n",
       "      <td>---</td>\n",
       "      <td>---</td>\n",
       "      <td>---</td>\n",
       "      <td>---</td>\n",
       "      <td>0.071</td>\n",
       "      <td>---</td>\n",
       "      <td>---</td>\n",
       "      <td>---</td>\n",
       "    </tr>\n",
       "    <tr>\n",
       "      <th>10</th>\n",
       "      <td>Forecast 07/07 00:00 (24 hrs)</td>\n",
       "      <td>38.4 ± 3.6</td>\n",
       "      <td>35.5 ± 7.1</td>\n",
       "      <td>35.5 ± 4.0</td>\n",
       "      <td>9.7 ± 1.7</td>\n",
       "      <td>3.1 ± 1.0</td>\n",
       "      <td>0.13 ± 0.6</td>\n",
       "      <td>35.5 ± 7.2</td>\n",
       "      <td>34.2 ± 10.2</td>\n",
       "      <td>30.46 ± 1.7</td>\n",
       "    </tr>\n",
       "  </tbody>\n",
       "</table>\n",
       "</div>"
      ],
      "text/plain": [
       "                          Metrics        HUFL        HULL        MUFL  \\\n",
       "0                     Seasonality         Yes         Yes          No   \n",
       "1              p-value (adfuller)      0.0307      0.0433      0.0577   \n",
       "2                          Modelo       Arima       Arima       Arima   \n",
       "3                            RMSE        6.03        1.88        5.67   \n",
       "4                             MAE        5.38        1.57        5.09   \n",
       "5                      RMSE naive        3.90        1.48        3.31   \n",
       "6                       MAE naive        3.15        1.08        2.66   \n",
       "7                             Min       48.08       16.13       43.99   \n",
       "8                             Max       30.11        6.95       27.11   \n",
       "9                     alpha (SES)         ---         ---         ---   \n",
       "10  Forecast 07/07 00:00 (24 hrs)  38.4 ± 3.6  35.5 ± 7.1  35.5 ± 4.0   \n",
       "\n",
       "         MULL       LUFL        LULL          OT          OT-RF        OT-PR  \n",
       "0          No        Yes         Yes          No             No           No  \n",
       "1      0.0518     0.0072      0.0000      0.8257         0.8257       0.8257  \n",
       "2       Arima      Arima         SES       Arima  Random Forest      Prophet  \n",
       "3        1.26       0.51        0.37        5.53           7.35         6.98  \n",
       "4        0.96       0.44        0.26        4.03           5.26         5.82  \n",
       "5        1.11       0.61        0.42        5.36           7.51         7.02  \n",
       "6        0.80       0.48        0.19        4.06           5.39         5.54  \n",
       "7       12.64       4.45        1.33       25.59          25.59        25.59  \n",
       "8        5.31       0.00        0.00       48.99          48.99        48.99  \n",
       "9         ---        ---       0.071         ---            ---          ---  \n",
       "10  9.7 ± 1.7  3.1 ± 1.0  0.13 ± 0.6  35.5 ± 7.2    34.2 ± 10.2  30.46 ± 1.7  "
      ]
     },
     "execution_count": 34,
     "metadata": {},
     "output_type": "execute_result"
    }
   ],
   "source": [
    "Resultado = {\n",
    "    'Metrics': ['Seasonality', 'p-value (adfuller)', 'Modelo', 'RMSE', 'MAE', 'RMSE naive', 'MAE naive', 'Min', 'Max', 'alpha (SES)', 'Forecast 07/07 00:00 (24 hrs)'],\n",
    "    'HUFL': ['Yes', '0.0307', 'Arima', '6.03', '5.38', '3.90', '3.15', '48.08', '30.11', '---', '38.4 ± 3.6'],\n",
    "    'HULL': ['Yes', '0.0433', 'Arima', '1.88', '1.57', '1.48', '1.08', '16.13', '6.95', '---', '35.5 ± 7.1'],\n",
    "    'MUFL': ['No', '0.0577', 'Arima', '5.67', '5.09', '3.31', '2.66', '43.99', '27.11', '---', '35.5 ± 4.0'],\n",
    "    'MULL': ['No', '0.0518', 'Arima', '1.26', '0.96', '1.11', '0.80', '12.64', '5.31', '---', '9.7 ± 1.7'],\n",
    "    'LUFL': ['Yes', '0.0072', 'Arima', '0.51', '0.44', '0.61', '0.48', '4.45', '0.00', '---', '3.1 ± 1.0'],\n",
    "    'LULL': ['Yes', '0.0000', 'SES', '0.37', '0.26', '0.42', '0.19', '1.33', '0.00', '0.071', '0.13 ± 0.6'],\n",
    "    'OT': ['No', '0.8257', 'Arima', '5.53', '4.03', '5.36', '4.06', '25.59', '48.99', '---', '35.5 ± 7.2'],\n",
    "    'OT-RF': ['No', '0.8257', 'Random Forest', '7.35', '5.26', '7.51', '5.39', '25.59', '48.99', '---', '34.2 ± 10.2'],\n",
    "    'OT-PR': ['No', '0.8257', 'Prophet', '6.98', '5.82', '7.02', '5.54', '25.59', '48.99', '---', '30.46 ± 1.7']\n",
    "}\n",
    "\n",
    "# Create DataFrame\n",
    "Resultado = pd.DataFrame(Resultado)\n",
    "Resultado"
   ]
  },
  {
   "cell_type": "markdown",
   "metadata": {},
   "source": [
    "CONCLUSIONS:\n",
    "\n",
    "1. Easiest Series to Predict: LUFL and LULL are the best, with very low errors and stable data. We can trust their forecasts.\n",
    "\n",
    "2. Hardest Series to Predict: OT is tricky because its data lacks a clear pattern, and our models don’t do much better than a simple guess (using the last value). It needs more work.\n",
    "\n",
    "3. Best Models: ARIMA works well for most series, but for LULL, a simpler model (SES) is better. For OT, no model stands out yet.\n",
    "\n",
    "4. Forecasts: The forecasts for July 7th are reasonable, but OT has more uncertainty (a wider error range). We can use them, but be cautious with OT.\n",
    "\n",
    "5. One-Week Challenge: Predicting a full week with just one or two days of data is tough. To improve, we need more data or better methods.\n",
    "\n",
    "Next Steps: \n",
    "\n",
    "-Keep using the current models for LUFL and LULL—they’re working fine.\n",
    "\n",
    "-For OT, find more data or try new ideas to make it better.\n",
    "\n",
    "-If we want longer forecasts, add more days of data."
   ]
  },
  {
   "cell_type": "code",
   "execution_count": 18,
   "metadata": {},
   "outputs": [
    {
     "name": "stdout",
     "output_type": "stream",
     "text": [
      "Resultados de la prueba de Dickey-Fuller para columna: OT\n",
      "Test Statistic                        -0.777276\n",
      "p-value                                0.825706\n",
      "No Lags Used                           6.000000\n",
      "Número de observaciones utilizadas    60.000000\n",
      "Critical Value (1%)                   -3.544369\n",
      "Critical Value (5%)                   -2.911073\n",
      "Critical Value (10%)                  -2.593190\n",
      "dtype: float64\n",
      "Conclusión: Los datos no son estacionarios\n"
     ]
    },
    {
     "data": {
      "application/vnd.plotly.v1+json": {
       "config": {
        "plotlyServerURL": "https://plot.ly"
       },
       "data": [
        {
         "line": {
          "color": "blue"
         },
         "mode": "lines",
         "name": "OT Histórico",
         "type": "scatter",
         "x": [
          "2016-07-04T14:00:00.000000000",
          "2016-07-04T16:00:00.000000000",
          "2016-07-04T18:00:00.000000000",
          "2016-07-04T20:00:00.000000000",
          "2016-07-04T22:00:00.000000000",
          "2016-07-05T00:00:00.000000000",
          "2016-07-05T02:00:00.000000000",
          "2016-07-05T04:00:00.000000000",
          "2016-07-05T06:00:00.000000000",
          "2016-07-05T08:00:00.000000000",
          "2016-07-05T10:00:00.000000000",
          "2016-07-05T12:00:00.000000000",
          "2016-07-05T14:00:00.000000000",
          "2016-07-05T16:00:00.000000000",
          "2016-07-05T18:00:00.000000000",
          "2016-07-05T20:00:00.000000000",
          "2016-07-05T22:00:00.000000000",
          "2016-07-06T00:00:00.000000000",
          "2016-07-06T02:00:00.000000000",
          "2016-07-06T04:00:00.000000000",
          "2016-07-06T06:00:00.000000000",
          "2016-07-06T08:00:00.000000000",
          "2016-07-06T10:00:00.000000000",
          "2016-07-06T12:00:00.000000000",
          "2016-07-06T14:00:00.000000000",
          "2016-07-06T16:00:00.000000000",
          "2016-07-06T18:00:00.000000000",
          "2016-07-06T20:00:00.000000000",
          "2016-07-06T22:00:00.000000000",
          "2016-07-07T00:00:00.000000000",
          "2016-07-07T02:00:00.000000000",
          "2016-07-07T04:00:00.000000000",
          "2016-07-07T06:00:00.000000000",
          "2016-07-07T08:00:00.000000000",
          "2016-07-07T10:00:00.000000000",
          "2016-07-07T12:00:00.000000000",
          "2016-07-07T14:00:00.000000000",
          "2016-07-07T16:00:00.000000000",
          "2016-07-07T18:00:00.000000000",
          "2016-07-07T20:00:00.000000000",
          "2016-07-07T22:00:00.000000000",
          "2016-07-08T00:00:00.000000000",
          "2016-07-08T02:00:00.000000000",
          "2016-07-08T04:00:00.000000000",
          "2016-07-08T06:00:00.000000000",
          "2016-07-08T08:00:00.000000000",
          "2016-07-08T10:00:00.000000000",
          "2016-07-08T12:00:00.000000000",
          "2016-07-08T14:00:00.000000000",
          "2016-07-08T16:00:00.000000000",
          "2016-07-08T18:00:00.000000000",
          "2016-07-08T20:00:00.000000000",
          "2016-07-08T22:00:00.000000000",
          "2016-07-09T00:00:00.000000000",
          "2016-07-09T02:00:00.000000000",
          "2016-07-09T04:00:00.000000000",
          "2016-07-09T06:00:00.000000000",
          "2016-07-09T08:00:00.000000000",
          "2016-07-09T10:00:00.000000000",
          "2016-07-09T12:00:00.000000000",
          "2016-07-09T14:00:00.000000000",
          "2016-07-09T16:00:00.000000000",
          "2016-07-09T18:00:00.000000000",
          "2016-07-09T20:00:00.000000000",
          "2016-07-09T22:00:00.000000000",
          "2016-07-10T00:00:00.000000000",
          "2016-07-10T02:00:00.000000000",
          "2016-07-10T04:00:00.000000000",
          "2016-07-10T06:00:00.000000000",
          "2016-07-10T08:00:00.000000000",
          "2016-07-10T10:00:00.000000000",
          "2016-07-10T12:00:00.000000000",
          "2016-07-10T14:00:00.000000000",
          "2016-07-10T16:00:00.000000000",
          "2016-07-10T18:00:00.000000000",
          "2016-07-10T20:00:00.000000000",
          "2016-07-10T22:00:00.000000000",
          "2016-07-11T00:00:00.000000000",
          "2016-07-11T02:00:00.000000000",
          "2016-07-11T04:00:00.000000000",
          "2016-07-11T06:00:00.000000000",
          "2016-07-11T08:00:00.000000000",
          "2016-07-11T10:00:00.000000000",
          "2016-07-11T12:00:00.000000000",
          "2016-07-11T14:00:00.000000000",
          "2016-07-11T16:00:00.000000000",
          "2016-07-11T18:00:00.000000000",
          "2016-07-11T20:00:00.000000000",
          "2016-07-11T22:00:00.000000000",
          "2016-07-12T00:00:00.000000000",
          "2016-07-12T02:00:00.000000000",
          "2016-07-12T04:00:00.000000000",
          "2016-07-12T06:00:00.000000000",
          "2016-07-12T08:00:00.000000000",
          "2016-07-12T10:00:00.000000000",
          "2016-07-12T12:00:00.000000000",
          "2016-07-12T14:00:00.000000000",
          "2016-07-12T16:00:00.000000000",
          "2016-07-12T18:00:00.000000000",
          "2016-07-12T20:00:00.000000000",
          "2016-07-12T22:00:00.000000000",
          "2016-07-13T00:00:00.000000000",
          "2016-07-13T02:00:00.000000000",
          "2016-07-13T04:00:00.000000000",
          "2016-07-13T06:00:00.000000000",
          "2016-07-13T08:00:00.000000000",
          "2016-07-13T10:00:00.000000000",
          "2016-07-13T12:00:00.000000000"
         ],
         "y": {
          "bdata": "AAAAwCDIQkAAAABA4a5BQAAAAFCNh0BAAAAAMDMzQEAAAABAiaE/QAAAADAGMT9A////T2TDPUAAAADAnxo9QAEAACBapD5AAAAAQImhP0AAAACQGPhAQAAAAFCNh0BAAAAAsJvcPkAAAAAIKzNAQAAAABDXv0BAAAAAwMqxQEAAAADAoZVAQAAAAMChlUBAAAAAQIl5QEAAAABAYF1AQAAAAPBTT0BAAAAAACszQEAAAABQjYdAQAEAAPB+WkFAAAAAAAAA+H8AAAAAAAD4fwAAAAAAAPh/AAAAAAAA+H8AAAAAAAD4fwAAAAAAAPh/AAAAAAAA+H8AAAAAAAD4fwAAAAAAAPh/AAAAAAAA+H8AAAAAAAD4fwAAAAAAAPh/AAAAAAAA+H8AAAAAAAD4fwAAAAAAAPh/AAAAAAAA+H8AAAAAAAD4fwAAAAAAAPh/AAAAAAAA+H8AAAAAAAD4fwAAAAAAAPh/AAAAAAAA+H8AAAAAAAD4fwAAAAAAAPh/AAAAAAAA+H8AAAAAAAD4fwAAAAAAAPh/AAAAAAAA+H8AAAAAAAD4fwAAAAAAAPh/AAAAAAAA+H8AAAAAAAD4fwAAAAAAAPh/AAAAAAAA+H8AAAAAAAD4fwAAAAAAAPh/AAAAAAAA+H8AAAAAAAD4fwAAAAAAAPh/AAAAAAAA+H8AAAAAAAD4fwAAAAAAAPh/AAAAAAAA+H8AAAAAAAD4fwAAAAAAAPh/AAAAAAAA+H8AAAAAAAD4fwAAAAAAAPh/AAAAAAAA+H8AAAAAAAD4fwAAAAAAAPh/AAAAAAAA+H8AAAAAAAD4fwAAAAAAAPh/AAAAAAAA+H8AAAAAAAD4fwAAAAAAAPh/AAAAAAAA+H8AAAAAAAD4fwAAAAAAAPh/AAAAAAAA+H8AAAAAAAD4fwAAAAAAAPh/AAAAAAAA+H8AAAAAAAD4fwAAAAAAAPh/AAAAAAAA+H8AAAAAAAD4fwAAAAAAAPh/AAAAAAAA+H8AAAAAAAD4fwAAAAAAAPh/AAAAAAAA+H8AAAAAAAD4fwAAAAAAAPh/AAAAAAAA+H8AAAAAAAD4fwAAAAAAAPh/AAAAAAAA+H8AAAAAAAD4fwAAAAAAAPh/AAAAAAAA+H8AAAAAAAD4fwAAAAAAAPh/",
          "dtype": "f8"
         }
        },
        {
         "line": {
          "color": "green",
          "dash": "dash"
         },
         "mode": "lines",
         "name": "OT Predicho (Actual)",
         "type": "scatter",
         "x": [
          "2016-07-04T14:00:00.000000000",
          "2016-07-04T16:00:00.000000000",
          "2016-07-04T18:00:00.000000000",
          "2016-07-04T20:00:00.000000000",
          "2016-07-04T22:00:00.000000000",
          "2016-07-05T00:00:00.000000000",
          "2016-07-05T02:00:00.000000000",
          "2016-07-05T04:00:00.000000000",
          "2016-07-05T06:00:00.000000000",
          "2016-07-05T08:00:00.000000000",
          "2016-07-05T10:00:00.000000000",
          "2016-07-05T12:00:00.000000000",
          "2016-07-05T14:00:00.000000000",
          "2016-07-05T16:00:00.000000000",
          "2016-07-05T18:00:00.000000000",
          "2016-07-05T20:00:00.000000000",
          "2016-07-05T22:00:00.000000000",
          "2016-07-06T00:00:00.000000000",
          "2016-07-06T02:00:00.000000000",
          "2016-07-06T04:00:00.000000000",
          "2016-07-06T06:00:00.000000000",
          "2016-07-06T08:00:00.000000000",
          "2016-07-06T10:00:00.000000000",
          "2016-07-06T12:00:00.000000000"
         ],
         "y": {
          "bdata": "AAAAAAAAAACNP292IchCQKS5ocKhQkFAjGcfMnZEQEBqJ6AbHTlAQMXY+BlzIz9A+/x4UHJWP0Diav5Rkbk8QMA0cQJAlz1Aa00nlcM6P0Cx9F8wUcQ/QHhkxXASskFAls/5wEcdP0ClUAryMyI/QN+EBV7OnEBAAnqBPD3AQED7eZIec6dAQAOd02dPi0BA90D6A2afQED6+QkZE1xAQM1yQQ0ZZUBA/4gv5cw9QECIBM9dfS9AQOwD6hp0yEBA",
          "dtype": "f8"
         }
        },
        {
         "line": {
          "color": "red"
         },
         "mode": "lines",
         "name": "OT Predicho (Futuro)",
         "type": "scatter",
         "x": [
          "2016-07-06T14:00:00.000000000",
          "2016-07-06T16:00:00.000000000",
          "2016-07-06T18:00:00.000000000",
          "2016-07-06T20:00:00.000000000",
          "2016-07-06T22:00:00.000000000",
          "2016-07-07T00:00:00.000000000",
          "2016-07-07T02:00:00.000000000",
          "2016-07-07T04:00:00.000000000",
          "2016-07-07T06:00:00.000000000",
          "2016-07-07T08:00:00.000000000",
          "2016-07-07T10:00:00.000000000",
          "2016-07-07T12:00:00.000000000",
          "2016-07-07T14:00:00.000000000",
          "2016-07-07T16:00:00.000000000",
          "2016-07-07T18:00:00.000000000",
          "2016-07-07T20:00:00.000000000",
          "2016-07-07T22:00:00.000000000",
          "2016-07-08T00:00:00.000000000",
          "2016-07-08T02:00:00.000000000",
          "2016-07-08T04:00:00.000000000",
          "2016-07-08T06:00:00.000000000",
          "2016-07-08T08:00:00.000000000",
          "2016-07-08T10:00:00.000000000",
          "2016-07-08T12:00:00.000000000",
          "2016-07-08T14:00:00.000000000",
          "2016-07-08T16:00:00.000000000",
          "2016-07-08T18:00:00.000000000",
          "2016-07-08T20:00:00.000000000",
          "2016-07-08T22:00:00.000000000",
          "2016-07-09T00:00:00.000000000",
          "2016-07-09T02:00:00.000000000",
          "2016-07-09T04:00:00.000000000",
          "2016-07-09T06:00:00.000000000",
          "2016-07-09T08:00:00.000000000",
          "2016-07-09T10:00:00.000000000",
          "2016-07-09T12:00:00.000000000",
          "2016-07-09T14:00:00.000000000",
          "2016-07-09T16:00:00.000000000",
          "2016-07-09T18:00:00.000000000",
          "2016-07-09T20:00:00.000000000",
          "2016-07-09T22:00:00.000000000",
          "2016-07-10T00:00:00.000000000",
          "2016-07-10T02:00:00.000000000",
          "2016-07-10T04:00:00.000000000",
          "2016-07-10T06:00:00.000000000",
          "2016-07-10T08:00:00.000000000",
          "2016-07-10T10:00:00.000000000",
          "2016-07-10T12:00:00.000000000",
          "2016-07-10T14:00:00.000000000",
          "2016-07-10T16:00:00.000000000",
          "2016-07-10T18:00:00.000000000",
          "2016-07-10T20:00:00.000000000",
          "2016-07-10T22:00:00.000000000",
          "2016-07-11T00:00:00.000000000",
          "2016-07-11T02:00:00.000000000",
          "2016-07-11T04:00:00.000000000",
          "2016-07-11T06:00:00.000000000",
          "2016-07-11T08:00:00.000000000",
          "2016-07-11T10:00:00.000000000",
          "2016-07-11T12:00:00.000000000",
          "2016-07-11T14:00:00.000000000",
          "2016-07-11T16:00:00.000000000",
          "2016-07-11T18:00:00.000000000",
          "2016-07-11T20:00:00.000000000",
          "2016-07-11T22:00:00.000000000",
          "2016-07-12T00:00:00.000000000",
          "2016-07-12T02:00:00.000000000",
          "2016-07-12T04:00:00.000000000",
          "2016-07-12T06:00:00.000000000",
          "2016-07-12T08:00:00.000000000",
          "2016-07-12T10:00:00.000000000",
          "2016-07-12T12:00:00.000000000",
          "2016-07-12T14:00:00.000000000",
          "2016-07-12T16:00:00.000000000",
          "2016-07-12T18:00:00.000000000",
          "2016-07-12T20:00:00.000000000",
          "2016-07-12T22:00:00.000000000",
          "2016-07-13T00:00:00.000000000",
          "2016-07-13T02:00:00.000000000",
          "2016-07-13T04:00:00.000000000",
          "2016-07-13T06:00:00.000000000",
          "2016-07-13T08:00:00.000000000",
          "2016-07-13T10:00:00.000000000",
          "2016-07-13T12:00:00.000000000"
         ],
         "y": {
          "bdata": "+g4ISQi2QUAJLPjp9KBBQLDueynPpUFAHtmKJLGkQUC/dSz/8qRBQNU1ltXjpEFA6M9LU+ekQUAAioaF5qRBQNcg57TmpEFAFJr+qeakQUD3j4Gs5qRBQGeG7avmpEFAEJwPrOakQUAKwwes5qRBQJuRCazmpEFAGicJrOakQUCfPwms5qRBQPo5CazmpEFARzsJrOakQUD6Ogms5qRBQAw7CazmpEFACDsJrOakQUAJOwms5qRBQAk7CazmpEFACTsJrOakQUAJOwms5qRBQAk7CazmpEFACTsJrOakQUAJOwms5qRBQAk7CazmpEFACTsJrOakQUAJOwms5qRBQAk7CazmpEFACTsJrOakQUAJOwms5qRBQAk7CazmpEFACTsJrOakQUAJOwms5qRBQAk7CazmpEFACTsJrOakQUAJOwms5qRBQAk7CazmpEFACTsJrOakQUAJOwms5qRBQAk7CazmpEFACTsJrOakQUAJOwms5qRBQAk7CazmpEFACTsJrOakQUAJOwms5qRBQAk7CazmpEFACTsJrOakQUAJOwms5qRBQAk7CazmpEFACTsJrOakQUAJOwms5qRBQAk7CazmpEFACTsJrOakQUAJOwms5qRBQAk7CazmpEFACTsJrOakQUAJOwms5qRBQAk7CazmpEFACTsJrOakQUAJOwms5qRBQAk7CazmpEFACTsJrOakQUAJOwms5qRBQAk7CazmpEFACTsJrOakQUAJOwms5qRBQAk7CazmpEFACTsJrOakQUAJOwms5qRBQAk7CazmpEFACTsJrOakQUAJOwms5qRBQAk7CazmpEFACTsJrOakQUAJOwms5qRBQAk7CazmpEFACTsJrOakQUAJOwms5qRBQAk7CazmpEFA",
          "dtype": "f8"
         }
        },
        {
         "line": {
          "color": "gray",
          "width": 0.5
         },
         "mode": "lines",
         "name": "Límite Superior (95% IC)",
         "type": "scatter",
         "x": [
          "2016-07-06T14:00:00.000000000",
          "2016-07-06T16:00:00.000000000",
          "2016-07-06T18:00:00.000000000",
          "2016-07-06T20:00:00.000000000",
          "2016-07-06T22:00:00.000000000",
          "2016-07-07T00:00:00.000000000",
          "2016-07-07T02:00:00.000000000",
          "2016-07-07T04:00:00.000000000",
          "2016-07-07T06:00:00.000000000",
          "2016-07-07T08:00:00.000000000",
          "2016-07-07T10:00:00.000000000",
          "2016-07-07T12:00:00.000000000",
          "2016-07-07T14:00:00.000000000",
          "2016-07-07T16:00:00.000000000",
          "2016-07-07T18:00:00.000000000",
          "2016-07-07T20:00:00.000000000",
          "2016-07-07T22:00:00.000000000",
          "2016-07-08T00:00:00.000000000",
          "2016-07-08T02:00:00.000000000",
          "2016-07-08T04:00:00.000000000",
          "2016-07-08T06:00:00.000000000",
          "2016-07-08T08:00:00.000000000",
          "2016-07-08T10:00:00.000000000",
          "2016-07-08T12:00:00.000000000",
          "2016-07-08T14:00:00.000000000",
          "2016-07-08T16:00:00.000000000",
          "2016-07-08T18:00:00.000000000",
          "2016-07-08T20:00:00.000000000",
          "2016-07-08T22:00:00.000000000",
          "2016-07-09T00:00:00.000000000",
          "2016-07-09T02:00:00.000000000",
          "2016-07-09T04:00:00.000000000",
          "2016-07-09T06:00:00.000000000",
          "2016-07-09T08:00:00.000000000",
          "2016-07-09T10:00:00.000000000",
          "2016-07-09T12:00:00.000000000",
          "2016-07-09T14:00:00.000000000",
          "2016-07-09T16:00:00.000000000",
          "2016-07-09T18:00:00.000000000",
          "2016-07-09T20:00:00.000000000",
          "2016-07-09T22:00:00.000000000",
          "2016-07-10T00:00:00.000000000",
          "2016-07-10T02:00:00.000000000",
          "2016-07-10T04:00:00.000000000",
          "2016-07-10T06:00:00.000000000",
          "2016-07-10T08:00:00.000000000",
          "2016-07-10T10:00:00.000000000",
          "2016-07-10T12:00:00.000000000",
          "2016-07-10T14:00:00.000000000",
          "2016-07-10T16:00:00.000000000",
          "2016-07-10T18:00:00.000000000",
          "2016-07-10T20:00:00.000000000",
          "2016-07-10T22:00:00.000000000",
          "2016-07-11T00:00:00.000000000",
          "2016-07-11T02:00:00.000000000",
          "2016-07-11T04:00:00.000000000",
          "2016-07-11T06:00:00.000000000",
          "2016-07-11T08:00:00.000000000",
          "2016-07-11T10:00:00.000000000",
          "2016-07-11T12:00:00.000000000",
          "2016-07-11T14:00:00.000000000",
          "2016-07-11T16:00:00.000000000",
          "2016-07-11T18:00:00.000000000",
          "2016-07-11T20:00:00.000000000",
          "2016-07-11T22:00:00.000000000",
          "2016-07-12T00:00:00.000000000",
          "2016-07-12T02:00:00.000000000",
          "2016-07-12T04:00:00.000000000",
          "2016-07-12T06:00:00.000000000",
          "2016-07-12T08:00:00.000000000",
          "2016-07-12T10:00:00.000000000",
          "2016-07-12T12:00:00.000000000",
          "2016-07-12T14:00:00.000000000",
          "2016-07-12T16:00:00.000000000",
          "2016-07-12T18:00:00.000000000",
          "2016-07-12T20:00:00.000000000",
          "2016-07-12T22:00:00.000000000",
          "2016-07-13T00:00:00.000000000",
          "2016-07-13T02:00:00.000000000",
          "2016-07-13T04:00:00.000000000",
          "2016-07-13T06:00:00.000000000",
          "2016-07-13T08:00:00.000000000",
          "2016-07-13T10:00:00.000000000",
          "2016-07-13T12:00:00.000000000"
         ],
         "y": {
          "bdata": "J45S3zasQkB0jhi874xDQN+aN3lDFkRAVvx2MxyHREAE1uzG7OhEQNixD+ViQEVAoqJxJUWQRUAQVkThPdpFQAePV8JzH0ZASM+GRbdgRkBTrIXeo55GQHKsmrWw2UZAvg81oDsSR0B3N7EMkEhHQErQZbTrfEdAfA/g24GvR0AwjdmlfeBHQFSuHMYDEEhAdN4rxjM+SECZlvr7KGtIQFvZcEj7lkhAGGifrL/BSEBbVBfAiOtIQN7u2g9nFElAzEZTa2k8SUA9DUkjnWNJQCp+3T0OiklAHiXGocevSUCQwYY609RJQN1aABc6+UlA+KJhgwQdSkDdHEwfOkBKQEk01vDhYkpAiRXxdAKFSkC8H5+toaZKQBBxUy7Fx0pArvbCJnLoSkCEnGJsrQhLQFj2w4J7KEtASXX5ouBHS0AIhiTC4GZLQJF5Spd/hUtAf5uIoMCjS0ApJLwnp8FLQJair0Y230tAruvc6nD8S0DYeNDYWRlMQM5UOa/zNUxA4DGv6UBSTEBY/TbjQ25MQBotjdj+iUxAgBc86nOlTEBy2oMepcBMQMaoGGOU20xAIr+7jkP2TEBPwLJitBBNQCjJIIzoKk1ADitEpeFETUB0Z5s2oV5NQES987coeE1AdFhjkXmRTUCZ+zAclapNQLDJqqN8w01Ai6rtZTHcTUDKnZ6UtPRNQCcul1UHDU5ApBiGwyolTkBiIIXuHz1OQPjvpNznVE5A9NNvioNsTkAzB2Tr84NOQLQ4Zuo5m05AguMsalayTkCIA6VFSslOQASmUFAW4E5AMMmfVrv2TkDv9EMeOg1PQDbtfmaTI09A6tZs6Mc5T0CMIEpX2E9PQHp5tWDFZU9AcxzurI97T0CyrA7fN5FPQNrfRJW+pk9A",
          "dtype": "f8"
         }
        },
        {
         "fill": "tonexty",
         "fillcolor": "rgba(200, 100, 200, 0.1)",
         "line": {
          "color": "gray",
          "width": 0.5
         },
         "mode": "lines",
         "name": "Límite Inferior (95% IC)",
         "type": "scatter",
         "x": [
          "2016-07-06T14:00:00.000000000",
          "2016-07-06T16:00:00.000000000",
          "2016-07-06T18:00:00.000000000",
          "2016-07-06T20:00:00.000000000",
          "2016-07-06T22:00:00.000000000",
          "2016-07-07T00:00:00.000000000",
          "2016-07-07T02:00:00.000000000",
          "2016-07-07T04:00:00.000000000",
          "2016-07-07T06:00:00.000000000",
          "2016-07-07T08:00:00.000000000",
          "2016-07-07T10:00:00.000000000",
          "2016-07-07T12:00:00.000000000",
          "2016-07-07T14:00:00.000000000",
          "2016-07-07T16:00:00.000000000",
          "2016-07-07T18:00:00.000000000",
          "2016-07-07T20:00:00.000000000",
          "2016-07-07T22:00:00.000000000",
          "2016-07-08T00:00:00.000000000",
          "2016-07-08T02:00:00.000000000",
          "2016-07-08T04:00:00.000000000",
          "2016-07-08T06:00:00.000000000",
          "2016-07-08T08:00:00.000000000",
          "2016-07-08T10:00:00.000000000",
          "2016-07-08T12:00:00.000000000",
          "2016-07-08T14:00:00.000000000",
          "2016-07-08T16:00:00.000000000",
          "2016-07-08T18:00:00.000000000",
          "2016-07-08T20:00:00.000000000",
          "2016-07-08T22:00:00.000000000",
          "2016-07-09T00:00:00.000000000",
          "2016-07-09T02:00:00.000000000",
          "2016-07-09T04:00:00.000000000",
          "2016-07-09T06:00:00.000000000",
          "2016-07-09T08:00:00.000000000",
          "2016-07-09T10:00:00.000000000",
          "2016-07-09T12:00:00.000000000",
          "2016-07-09T14:00:00.000000000",
          "2016-07-09T16:00:00.000000000",
          "2016-07-09T18:00:00.000000000",
          "2016-07-09T20:00:00.000000000",
          "2016-07-09T22:00:00.000000000",
          "2016-07-10T00:00:00.000000000",
          "2016-07-10T02:00:00.000000000",
          "2016-07-10T04:00:00.000000000",
          "2016-07-10T06:00:00.000000000",
          "2016-07-10T08:00:00.000000000",
          "2016-07-10T10:00:00.000000000",
          "2016-07-10T12:00:00.000000000",
          "2016-07-10T14:00:00.000000000",
          "2016-07-10T16:00:00.000000000",
          "2016-07-10T18:00:00.000000000",
          "2016-07-10T20:00:00.000000000",
          "2016-07-10T22:00:00.000000000",
          "2016-07-11T00:00:00.000000000",
          "2016-07-11T02:00:00.000000000",
          "2016-07-11T04:00:00.000000000",
          "2016-07-11T06:00:00.000000000",
          "2016-07-11T08:00:00.000000000",
          "2016-07-11T10:00:00.000000000",
          "2016-07-11T12:00:00.000000000",
          "2016-07-11T14:00:00.000000000",
          "2016-07-11T16:00:00.000000000",
          "2016-07-11T18:00:00.000000000",
          "2016-07-11T20:00:00.000000000",
          "2016-07-11T22:00:00.000000000",
          "2016-07-12T00:00:00.000000000",
          "2016-07-12T02:00:00.000000000",
          "2016-07-12T04:00:00.000000000",
          "2016-07-12T06:00:00.000000000",
          "2016-07-12T08:00:00.000000000",
          "2016-07-12T10:00:00.000000000",
          "2016-07-12T12:00:00.000000000",
          "2016-07-12T14:00:00.000000000",
          "2016-07-12T16:00:00.000000000",
          "2016-07-12T18:00:00.000000000",
          "2016-07-12T20:00:00.000000000",
          "2016-07-12T22:00:00.000000000",
          "2016-07-13T00:00:00.000000000",
          "2016-07-13T02:00:00.000000000",
          "2016-07-13T04:00:00.000000000",
          "2016-07-13T06:00:00.000000000",
          "2016-07-13T08:00:00.000000000",
          "2016-07-13T10:00:00.000000000",
          "2016-07-13T12:00:00.000000000"
         ],
         "y": {
          "bdata": "zY+9stm/QEA9k68v9Gk/QAKFgLO1aj5AzGs9K4yEPUD0Kthu8sE8QKVzOYzJEjxAXPpLAhNzO0Dge5FTHt86QE5l7U6zVDpAwMnsHCzSOUA25/r0UlY5QLjAgEQ54DhAxFDUbyNvOEA6nbyWegI4QNilWkfDmTdAcH1k+JY0N0Ab5HFkn9I2QECL6yOTczZANDDNIzMXNkC2vi+4SL01QHo5Qx+kZTVA8RvmVhsQNUBuQ/Yvibw0QGgOb5DMajRAjF5+2ccaNECq0ZJpYMwzQNDvaTR+fzNA56GYbAs0M0AEaRc79OkyQGo2JIImoTJANaZhqZFZMkBqsoxxJhMyQJKDeM7WzTFAEsFCxpWJMUCsrOZUV0YxQAQKflMQBDFAyP6eYrbCMEAds1/XP4IwQHT/nKqjQjBAkgEyatkDMEAowLdXsosvQATyHwM3ES9ATGon3jKYLkCkR1nBmCAuQO5Ni0Vcqi1AkinWtHE1LUDo9Af9zcEsQBKFZKNmTyxAyBCNuTHeK0Do4m3TJW4rQOAjFf45/ypASHpZt2WRKkCCbjrmoCQqQC4159PjuClAvttaJSdOKUAM137VY+QoQKizxi+TeyhAEiw5y64TKEB6OtyFsKwnQDjjeoCSRidAeHa8Gk/hJkDk6YXv4HwmQIqxntFCGSZAHC6TyG+2JUAeYc8NY1QlQKwf7QkY8yRAuHUxUoqSJEDCVjWmtTIkQGoYtu2V0yNAdoiKNid1I0B8u7myZRcjQHj1sLZNuiJAQkqWt9tdIkAmyrVJDAIiQDZABx/cpiFAiLPKBUhMIUCMBDrnTPIgQHAjTsbnmCBAoHyWvhVAIEAsrEIGqM8fQMDk57o/IB9A+MwiWe1xHkAASx7Iq8QdQMCxbBZ2GB1A",
          "dtype": "f8"
         }
        }
       ],
       "layout": {
        "hovermode": "x unified",
        "showlegend": true,
        "template": {
         "data": {
          "bar": [
           {
            "error_x": {
             "color": "#f2f5fa"
            },
            "error_y": {
             "color": "#f2f5fa"
            },
            "marker": {
             "line": {
              "color": "rgb(17,17,17)",
              "width": 0.5
             },
             "pattern": {
              "fillmode": "overlay",
              "size": 10,
              "solidity": 0.2
             }
            },
            "type": "bar"
           }
          ],
          "barpolar": [
           {
            "marker": {
             "line": {
              "color": "rgb(17,17,17)",
              "width": 0.5
             },
             "pattern": {
              "fillmode": "overlay",
              "size": 10,
              "solidity": 0.2
             }
            },
            "type": "barpolar"
           }
          ],
          "carpet": [
           {
            "aaxis": {
             "endlinecolor": "#A2B1C6",
             "gridcolor": "#506784",
             "linecolor": "#506784",
             "minorgridcolor": "#506784",
             "startlinecolor": "#A2B1C6"
            },
            "baxis": {
             "endlinecolor": "#A2B1C6",
             "gridcolor": "#506784",
             "linecolor": "#506784",
             "minorgridcolor": "#506784",
             "startlinecolor": "#A2B1C6"
            },
            "type": "carpet"
           }
          ],
          "choropleth": [
           {
            "colorbar": {
             "outlinewidth": 0,
             "ticks": ""
            },
            "type": "choropleth"
           }
          ],
          "contour": [
           {
            "colorbar": {
             "outlinewidth": 0,
             "ticks": ""
            },
            "colorscale": [
             [
              0,
              "#0d0887"
             ],
             [
              0.1111111111111111,
              "#46039f"
             ],
             [
              0.2222222222222222,
              "#7201a8"
             ],
             [
              0.3333333333333333,
              "#9c179e"
             ],
             [
              0.4444444444444444,
              "#bd3786"
             ],
             [
              0.5555555555555556,
              "#d8576b"
             ],
             [
              0.6666666666666666,
              "#ed7953"
             ],
             [
              0.7777777777777778,
              "#fb9f3a"
             ],
             [
              0.8888888888888888,
              "#fdca26"
             ],
             [
              1,
              "#f0f921"
             ]
            ],
            "type": "contour"
           }
          ],
          "contourcarpet": [
           {
            "colorbar": {
             "outlinewidth": 0,
             "ticks": ""
            },
            "type": "contourcarpet"
           }
          ],
          "heatmap": [
           {
            "colorbar": {
             "outlinewidth": 0,
             "ticks": ""
            },
            "colorscale": [
             [
              0,
              "#0d0887"
             ],
             [
              0.1111111111111111,
              "#46039f"
             ],
             [
              0.2222222222222222,
              "#7201a8"
             ],
             [
              0.3333333333333333,
              "#9c179e"
             ],
             [
              0.4444444444444444,
              "#bd3786"
             ],
             [
              0.5555555555555556,
              "#d8576b"
             ],
             [
              0.6666666666666666,
              "#ed7953"
             ],
             [
              0.7777777777777778,
              "#fb9f3a"
             ],
             [
              0.8888888888888888,
              "#fdca26"
             ],
             [
              1,
              "#f0f921"
             ]
            ],
            "type": "heatmap"
           }
          ],
          "histogram": [
           {
            "marker": {
             "pattern": {
              "fillmode": "overlay",
              "size": 10,
              "solidity": 0.2
             }
            },
            "type": "histogram"
           }
          ],
          "histogram2d": [
           {
            "colorbar": {
             "outlinewidth": 0,
             "ticks": ""
            },
            "colorscale": [
             [
              0,
              "#0d0887"
             ],
             [
              0.1111111111111111,
              "#46039f"
             ],
             [
              0.2222222222222222,
              "#7201a8"
             ],
             [
              0.3333333333333333,
              "#9c179e"
             ],
             [
              0.4444444444444444,
              "#bd3786"
             ],
             [
              0.5555555555555556,
              "#d8576b"
             ],
             [
              0.6666666666666666,
              "#ed7953"
             ],
             [
              0.7777777777777778,
              "#fb9f3a"
             ],
             [
              0.8888888888888888,
              "#fdca26"
             ],
             [
              1,
              "#f0f921"
             ]
            ],
            "type": "histogram2d"
           }
          ],
          "histogram2dcontour": [
           {
            "colorbar": {
             "outlinewidth": 0,
             "ticks": ""
            },
            "colorscale": [
             [
              0,
              "#0d0887"
             ],
             [
              0.1111111111111111,
              "#46039f"
             ],
             [
              0.2222222222222222,
              "#7201a8"
             ],
             [
              0.3333333333333333,
              "#9c179e"
             ],
             [
              0.4444444444444444,
              "#bd3786"
             ],
             [
              0.5555555555555556,
              "#d8576b"
             ],
             [
              0.6666666666666666,
              "#ed7953"
             ],
             [
              0.7777777777777778,
              "#fb9f3a"
             ],
             [
              0.8888888888888888,
              "#fdca26"
             ],
             [
              1,
              "#f0f921"
             ]
            ],
            "type": "histogram2dcontour"
           }
          ],
          "mesh3d": [
           {
            "colorbar": {
             "outlinewidth": 0,
             "ticks": ""
            },
            "type": "mesh3d"
           }
          ],
          "parcoords": [
           {
            "line": {
             "colorbar": {
              "outlinewidth": 0,
              "ticks": ""
             }
            },
            "type": "parcoords"
           }
          ],
          "pie": [
           {
            "automargin": true,
            "type": "pie"
           }
          ],
          "scatter": [
           {
            "marker": {
             "line": {
              "color": "#283442"
             }
            },
            "type": "scatter"
           }
          ],
          "scatter3d": [
           {
            "line": {
             "colorbar": {
              "outlinewidth": 0,
              "ticks": ""
             }
            },
            "marker": {
             "colorbar": {
              "outlinewidth": 0,
              "ticks": ""
             }
            },
            "type": "scatter3d"
           }
          ],
          "scattercarpet": [
           {
            "marker": {
             "colorbar": {
              "outlinewidth": 0,
              "ticks": ""
             }
            },
            "type": "scattercarpet"
           }
          ],
          "scattergeo": [
           {
            "marker": {
             "colorbar": {
              "outlinewidth": 0,
              "ticks": ""
             }
            },
            "type": "scattergeo"
           }
          ],
          "scattergl": [
           {
            "marker": {
             "line": {
              "color": "#283442"
             }
            },
            "type": "scattergl"
           }
          ],
          "scattermap": [
           {
            "marker": {
             "colorbar": {
              "outlinewidth": 0,
              "ticks": ""
             }
            },
            "type": "scattermap"
           }
          ],
          "scattermapbox": [
           {
            "marker": {
             "colorbar": {
              "outlinewidth": 0,
              "ticks": ""
             }
            },
            "type": "scattermapbox"
           }
          ],
          "scatterpolar": [
           {
            "marker": {
             "colorbar": {
              "outlinewidth": 0,
              "ticks": ""
             }
            },
            "type": "scatterpolar"
           }
          ],
          "scatterpolargl": [
           {
            "marker": {
             "colorbar": {
              "outlinewidth": 0,
              "ticks": ""
             }
            },
            "type": "scatterpolargl"
           }
          ],
          "scatterternary": [
           {
            "marker": {
             "colorbar": {
              "outlinewidth": 0,
              "ticks": ""
             }
            },
            "type": "scatterternary"
           }
          ],
          "surface": [
           {
            "colorbar": {
             "outlinewidth": 0,
             "ticks": ""
            },
            "colorscale": [
             [
              0,
              "#0d0887"
             ],
             [
              0.1111111111111111,
              "#46039f"
             ],
             [
              0.2222222222222222,
              "#7201a8"
             ],
             [
              0.3333333333333333,
              "#9c179e"
             ],
             [
              0.4444444444444444,
              "#bd3786"
             ],
             [
              0.5555555555555556,
              "#d8576b"
             ],
             [
              0.6666666666666666,
              "#ed7953"
             ],
             [
              0.7777777777777778,
              "#fb9f3a"
             ],
             [
              0.8888888888888888,
              "#fdca26"
             ],
             [
              1,
              "#f0f921"
             ]
            ],
            "type": "surface"
           }
          ],
          "table": [
           {
            "cells": {
             "fill": {
              "color": "#506784"
             },
             "line": {
              "color": "rgb(17,17,17)"
             }
            },
            "header": {
             "fill": {
              "color": "#2a3f5f"
             },
             "line": {
              "color": "rgb(17,17,17)"
             }
            },
            "type": "table"
           }
          ]
         },
         "layout": {
          "annotationdefaults": {
           "arrowcolor": "#f2f5fa",
           "arrowhead": 0,
           "arrowwidth": 1
          },
          "autotypenumbers": "strict",
          "coloraxis": {
           "colorbar": {
            "outlinewidth": 0,
            "ticks": ""
           }
          },
          "colorscale": {
           "diverging": [
            [
             0,
             "#8e0152"
            ],
            [
             0.1,
             "#c51b7d"
            ],
            [
             0.2,
             "#de77ae"
            ],
            [
             0.3,
             "#f1b6da"
            ],
            [
             0.4,
             "#fde0ef"
            ],
            [
             0.5,
             "#f7f7f7"
            ],
            [
             0.6,
             "#e6f5d0"
            ],
            [
             0.7,
             "#b8e186"
            ],
            [
             0.8,
             "#7fbc41"
            ],
            [
             0.9,
             "#4d9221"
            ],
            [
             1,
             "#276419"
            ]
           ],
           "sequential": [
            [
             0,
             "#0d0887"
            ],
            [
             0.1111111111111111,
             "#46039f"
            ],
            [
             0.2222222222222222,
             "#7201a8"
            ],
            [
             0.3333333333333333,
             "#9c179e"
            ],
            [
             0.4444444444444444,
             "#bd3786"
            ],
            [
             0.5555555555555556,
             "#d8576b"
            ],
            [
             0.6666666666666666,
             "#ed7953"
            ],
            [
             0.7777777777777778,
             "#fb9f3a"
            ],
            [
             0.8888888888888888,
             "#fdca26"
            ],
            [
             1,
             "#f0f921"
            ]
           ],
           "sequentialminus": [
            [
             0,
             "#0d0887"
            ],
            [
             0.1111111111111111,
             "#46039f"
            ],
            [
             0.2222222222222222,
             "#7201a8"
            ],
            [
             0.3333333333333333,
             "#9c179e"
            ],
            [
             0.4444444444444444,
             "#bd3786"
            ],
            [
             0.5555555555555556,
             "#d8576b"
            ],
            [
             0.6666666666666666,
             "#ed7953"
            ],
            [
             0.7777777777777778,
             "#fb9f3a"
            ],
            [
             0.8888888888888888,
             "#fdca26"
            ],
            [
             1,
             "#f0f921"
            ]
           ]
          },
          "colorway": [
           "#636efa",
           "#EF553B",
           "#00cc96",
           "#ab63fa",
           "#FFA15A",
           "#19d3f3",
           "#FF6692",
           "#B6E880",
           "#FF97FF",
           "#FECB52"
          ],
          "font": {
           "color": "#f2f5fa"
          },
          "geo": {
           "bgcolor": "rgb(17,17,17)",
           "lakecolor": "rgb(17,17,17)",
           "landcolor": "rgb(17,17,17)",
           "showlakes": true,
           "showland": true,
           "subunitcolor": "#506784"
          },
          "hoverlabel": {
           "align": "left"
          },
          "hovermode": "closest",
          "mapbox": {
           "style": "dark"
          },
          "paper_bgcolor": "rgb(17,17,17)",
          "plot_bgcolor": "rgb(17,17,17)",
          "polar": {
           "angularaxis": {
            "gridcolor": "#506784",
            "linecolor": "#506784",
            "ticks": ""
           },
           "bgcolor": "rgb(17,17,17)",
           "radialaxis": {
            "gridcolor": "#506784",
            "linecolor": "#506784",
            "ticks": ""
           }
          },
          "scene": {
           "xaxis": {
            "backgroundcolor": "rgb(17,17,17)",
            "gridcolor": "#506784",
            "gridwidth": 2,
            "linecolor": "#506784",
            "showbackground": true,
            "ticks": "",
            "zerolinecolor": "#C8D4E3"
           },
           "yaxis": {
            "backgroundcolor": "rgb(17,17,17)",
            "gridcolor": "#506784",
            "gridwidth": 2,
            "linecolor": "#506784",
            "showbackground": true,
            "ticks": "",
            "zerolinecolor": "#C8D4E3"
           },
           "zaxis": {
            "backgroundcolor": "rgb(17,17,17)",
            "gridcolor": "#506784",
            "gridwidth": 2,
            "linecolor": "#506784",
            "showbackground": true,
            "ticks": "",
            "zerolinecolor": "#C8D4E3"
           }
          },
          "shapedefaults": {
           "line": {
            "color": "#f2f5fa"
           }
          },
          "sliderdefaults": {
           "bgcolor": "#C8D4E3",
           "bordercolor": "rgb(17,17,17)",
           "borderwidth": 1,
           "tickwidth": 0
          },
          "ternary": {
           "aaxis": {
            "gridcolor": "#506784",
            "linecolor": "#506784",
            "ticks": ""
           },
           "baxis": {
            "gridcolor": "#506784",
            "linecolor": "#506784",
            "ticks": ""
           },
           "bgcolor": "rgb(17,17,17)",
           "caxis": {
            "gridcolor": "#506784",
            "linecolor": "#506784",
            "ticks": ""
           }
          },
          "title": {
           "x": 0.05
          },
          "updatemenudefaults": {
           "bgcolor": "#506784",
           "borderwidth": 0
          },
          "xaxis": {
           "automargin": true,
           "gridcolor": "#283442",
           "linecolor": "#506784",
           "ticks": "",
           "title": {
            "standoff": 15
           },
           "zerolinecolor": "#283442",
           "zerolinewidth": 2
          },
          "yaxis": {
           "automargin": true,
           "gridcolor": "#283442",
           "linecolor": "#506784",
           "ticks": "",
           "title": {
            "standoff": 15
           },
           "zerolinecolor": "#283442",
           "zerolinewidth": 2
          }
         }
        },
        "title": {
         "text": "Predicción del OT utilizando ARIMA con Intervalo de Confianza del 95%"
        },
        "xaxis": {
         "title": {
          "text": "Fecha"
         }
        },
        "yaxis": {
         "title": {
          "text": "OT"
         }
        }
       }
      }
     },
     "metadata": {},
     "output_type": "display_data"
    },
    {
     "name": "stdout",
     "output_type": "stream",
     "text": [
      "RMSE on test set: 5.526255114648235\n",
      "MAE on test set: 4.025126224471823\n",
      "Naive Forecast RMSE: 5.359593640549082\n",
      "Naive Forecast MAE: 4.064926035263959\n",
      "Máximo: 48.98900032043457\n",
      "Mínimo: 25.588250160217285\n"
     ]
    }
   ],
   "source": [
    "import numpy as np\n",
    "import pandas as pd\n",
    "import plotly.graph_objects as go\n",
    "from statsmodels.tsa.arima.model import ARIMA\n",
    "from statsmodels.tsa.stattools import adfuller\n",
    "from sklearn.metrics import mean_squared_error\n",
    "from math import sqrt\n",
    "import warnings\n",
    "warnings.filterwarnings(\"ignore\")\n",
    "from datetime import datetime, timedelta\n",
    "\n",
    "# Cargar datos\n",
    "data = pd.read_csv(\"https://huggingface.co/datasets/pkr7098/time-series-forecasting-datasets/resolve/main/ETTh2.csv\")\n",
    "data['date'] = pd.to_datetime(data['date'])\n",
    "data = data.head(168)\n",
    "data.set_index('date', inplace=True)\n",
    "data_2h = data.resample('2H').mean()\n",
    "ot_data = data_2h[['OT']].dropna()\n",
    "\n",
    "# Split the data into training and test sets (80% train, 20% test)\n",
    "total_rows = len(ot_data)\n",
    "train_size = int(total_rows * 0.8)\n",
    "test_size = total_rows - train_size\n",
    "train = ot_data['OT'][:train_size]\n",
    "test = ot_data['OT'][train_size:]\n",
    "\n",
    "# 3. Stationarity Testing (Dickey-Fuller)\n",
    "def dickey_fuller_test(series, column_name):\n",
    "    print(f'Resultados de la prueba de Dickey-Fuller para columna: {column_name}')\n",
    "    dftest = adfuller(series, autolag='AIC')\n",
    "    dfoutput = pd.Series(dftest[0:4], index=['Test Statistic', 'p-value', 'No Lags Used', 'Número de observaciones utilizadas'])\n",
    "    for key, value in dftest[4].items():\n",
    "        dfoutput[f'Critical Value ({key})'] = value\n",
    "    print(dfoutput)\n",
    "    if dftest[1] <= 0.05:\n",
    "        print(\"Conclusión: Los datos son estacionarios\")\n",
    "    else:\n",
    "        print(\"Conclusión: Los datos no son estacionarios\")\n",
    "    return dftest[1]  # Return p-value\n",
    "\n",
    "# Get p-value from first test\n",
    "p_value = dickey_fuller_test(train, \"OT\")\n",
    "\n",
    "# Use the last two days (24 points at 2-hour intervals) for modeling\n",
    "last_two_days = train[-24:]  # 2 days = 24 data points\n",
    "\n",
    "# Fit ARIMA model (p,d,q) - Usamos (1,1,1) como punto de partida\n",
    "# Si no es estacionaria, d=1; si es estacionaria, d=0\n",
    "d = 1 if p_value > 0.05 else 0\n",
    "model = ARIMA(last_two_days, order=(1, d, 1))\n",
    "model_fit = model.fit()\n",
    "\n",
    "# Forecast for one week (7 days = 7 * 12 = 84 data points at 2-hour intervals)\n",
    "forecast_steps = 84\n",
    "forecast = model_fit.forecast(steps=forecast_steps)\n",
    "\n",
    "# Confidence intervals from ARIMA\n",
    "forecast_obj = model_fit.get_forecast(steps=forecast_steps)\n",
    "ci_lower = forecast_obj.conf_int()['lower OT']\n",
    "ci_upper = forecast_obj.conf_int()['upper OT']\n",
    "\n",
    "# Create a date range for the forecast\n",
    "last_date = last_two_days.index[-1]\n",
    "forecast_dates = pd.date_range(start=last_date + timedelta(hours=2), periods=forecast_steps, freq='2H')\n",
    "\n",
    "# Create a DataFrame for the forecast with confidence intervals\n",
    "forecast_ci_df = pd.DataFrame({\n",
    "    'OT_Predicho': forecast,\n",
    "    'CI_Lower': ci_lower,\n",
    "    'CI_Upper': ci_upper\n",
    "}, index=forecast_dates)\n",
    "\n",
    "# Combine historical and forecast data\n",
    "historical_pred_df = pd.DataFrame({\n",
    "    'OT_Historico': last_two_days,\n",
    "    'OT_Predicho': model_fit.fittedvalues\n",
    "})\n",
    "\n",
    "combined_df = pd.concat([historical_pred_df, forecast_ci_df], axis=0)\n",
    "\n",
    "# Visualize the results\n",
    "fig = go.Figure()\n",
    "\n",
    "# Add historical values\n",
    "fig.add_trace(go.Scatter(\n",
    "    x=combined_df.index,\n",
    "    y=combined_df['OT_Historico'],\n",
    "    mode='lines',\n",
    "    name='OT Histórico',\n",
    "    line=dict(color='blue')\n",
    "))\n",
    "\n",
    "# Add predicted values for historical data\n",
    "fig.add_trace(go.Scatter(\n",
    "    x=combined_df.index[:len(last_two_days)],\n",
    "    y=combined_df['OT_Predicho'][:len(last_two_days)],\n",
    "    mode='lines',\n",
    "    name='OT Predicho (Actual)',\n",
    "    line=dict(color='green', dash='dash')\n",
    "))\n",
    "\n",
    "# Add future forecast\n",
    "fig.add_trace(go.Scatter(\n",
    "    x=forecast_ci_df.index,\n",
    "    y=forecast_ci_df['OT_Predicho'],\n",
    "    mode='lines',\n",
    "    name='OT Predicho (Futuro)',\n",
    "    line=dict(color='red')\n",
    "))\n",
    "\n",
    "# Add 95% confidence interval\n",
    "fig.add_trace(go.Scatter(\n",
    "    x=forecast_ci_df.index,\n",
    "    y=forecast_ci_df['CI_Upper'],\n",
    "    mode='lines',\n",
    "    name='Límite Superior (95% IC)',\n",
    "    line=dict(color='gray', width=0.5)\n",
    "))\n",
    "\n",
    "fig.add_trace(go.Scatter(\n",
    "    x=forecast_ci_df.index,\n",
    "    y=forecast_ci_df['CI_Lower'],\n",
    "    mode='lines',\n",
    "    name='Límite Inferior (95% IC)',\n",
    "    line=dict(color='gray', width=0.5),\n",
    "    fill='tonexty',\n",
    "    fillcolor='rgba(200, 100, 200, 0.1)'\n",
    "))\n",
    "\n",
    "# Customize the plot\n",
    "fig.update_layout(\n",
    "    title='Predicción del OT utilizando ARIMA con Intervalo de Confianza del 95%',\n",
    "    xaxis_title='Fecha',\n",
    "    yaxis_title='OT',\n",
    "    hovermode='x unified',\n",
    "    template=\"plotly_dark\",\n",
    "    showlegend=True\n",
    ")\n",
    "\n",
    "# Show the plot\n",
    "fig.show()\n",
    "\n",
    "# Calculate error metrics on the test set\n",
    "pred_test = model_fit.forecast(steps=len(test))\n",
    "rmse = sqrt(mean_squared_error(test, pred_test))\n",
    "mae = np.mean(np.abs(test - pred_test))\n",
    "print(f\"RMSE on test set: {rmse}\")\n",
    "print(f\"MAE on test set: {mae}\")\n",
    "\n",
    "# Naive forecast: Use the last value of the training set for all test predictions\n",
    "naive_forecast = np.full_like(test, test.iloc[0])\n",
    "\n",
    "# Calculate error metrics for the naive forecast\n",
    "rmse_naive = sqrt(mean_squared_error(test, naive_forecast))\n",
    "mae_naive = np.mean(np.abs(test - naive_forecast))\n",
    "\n",
    "print(f\"Naive Forecast RMSE: {rmse_naive}\")\n",
    "print(f\"Naive Forecast MAE: {mae_naive}\")\n",
    "\n",
    "# Print maximum and minimum of the series\n",
    "print(f\"Máximo: {ot_data['OT'].max()}\")\n",
    "print(f\"Mínimo: {ot_data['OT'].min()}\")"
   ]
  },
  {
   "cell_type": "code",
   "execution_count": 19,
   "metadata": {},
   "outputs": [
    {
     "name": "stderr",
     "output_type": "stream",
     "text": [
      "02:52:06 - cmdstanpy - INFO - Chain [1] start processing\n",
      "02:52:07 - cmdstanpy - INFO - Chain [1] done processing\n"
     ]
    },
    {
     "name": "stdout",
     "output_type": "stream",
     "text": [
      "                     OT_Predicho_Prophet\n",
      "Fecha                                   \n",
      "2016-07-06 14:00:00            34.947085\n",
      "2016-07-06 16:00:00            35.071839\n",
      "2016-07-06 18:00:00            35.418690\n",
      "2016-07-06 20:00:00            34.544274\n",
      "2016-07-06 22:00:00            34.257408\n",
      "...                                  ...\n",
      "2016-07-13 04:00:00            43.161341\n",
      "2016-07-13 06:00:00            43.139374\n",
      "2016-07-13 08:00:00            43.374546\n",
      "2016-07-13 10:00:00            44.292462\n",
      "2016-07-13 12:00:00            45.583453\n",
      "\n",
      "[84 rows x 1 columns]\n",
      "Prophet RMSE en prueba: 4.807041792528592\n",
      "Prophet MAE en prueba: 3.31974775067659\n"
     ]
    }
   ],
   "source": [
    "import numpy as np\n",
    "import pandas as pd\n",
    "from prophet import Prophet\n",
    "from sklearn.metrics import mean_squared_error, mean_absolute_error\n",
    "from math import sqrt\n",
    "\n",
    "# Cargar datos\n",
    "data = pd.read_csv(\"https://huggingface.co/datasets/pkr7098/time-series-forecasting-datasets/resolve/main/ETTh2.csv\")\n",
    "data['date'] = pd.to_datetime(data['date'])\n",
    "data = data.head(168)\n",
    "data.set_index('date', inplace=True)\n",
    "data_2h = data.resample('2H').mean()\n",
    "ot_data = data_2h[['OT']].dropna()\n",
    "\n",
    "# Preparar datos para Prophet (requiere columnas 'ds' y 'y')\n",
    "ot_data_prophet = ot_data.reset_index()\n",
    "ot_data_prophet.columns = ['ds', 'y']\n",
    "\n",
    "# Dividir en entrenamiento y prueba\n",
    "train_size = int(len(ot_data_prophet) * 0.8)\n",
    "train, test = ot_data_prophet.iloc[:train_size], ot_data_prophet.iloc[train_size:]\n",
    "\n",
    "# Entrenar el modelo de Prophet\n",
    "model = Prophet()\n",
    "model.fit(train)\n",
    "\n",
    "# Pronosticar en el conjunto de prueba\n",
    "future = model.make_future_dataframe(periods=len(test), freq='2H')\n",
    "forecast = model.predict(future)\n",
    "\n",
    "# Filtrar las predicciones para el conjunto de prueba\n",
    "forecast_test = forecast.iloc[-len(test):]\n",
    "\n",
    "# Calcular métricas de error en el conjunto de prueba\n",
    "rmse_prophet = sqrt(mean_squared_error(test['y'], forecast_test['yhat']))\n",
    "mae_prophet = mean_absolute_error(test['y'], forecast_test['yhat'])\n",
    "\n",
    "# Pronosticar una semana (84 puntos cada 2 horas)\n",
    "future_1week = model.make_future_dataframe(periods=84, freq='2H')\n",
    "forecast_1week = model.predict(future_1week)\n",
    "\n",
    "# Filtrar las predicciones para la próxima semana\n",
    "forecast_1week_filtered = forecast_1week.iloc[-84:]\n",
    "\n",
    "# Crear un DataFrame con los pronósticos\n",
    "forecast_df = forecast_1week_filtered[['ds', 'yhat']].rename(columns={'ds': 'Fecha', 'yhat': 'OT_Predicho_Prophet'}).set_index('Fecha')\n",
    "\n",
    "# Mostrar los pronósticos\n",
    "print(forecast_df)\n",
    "\n",
    "# Comparar métricas con ARIMA, Random Forest y Naive\n",
    "print(f\"Prophet RMSE en prueba: {rmse_prophet}\")\n",
    "print(f\"Prophet MAE en prueba: {mae_prophet}\")"
   ]
  },
  {
   "cell_type": "code",
   "execution_count": 33,
   "metadata": {},
   "outputs": [
    {
     "name": "stderr",
     "output_type": "stream",
     "text": [
      "03:01:55 - cmdstanpy - INFO - Chain [1] start processing\n",
      "03:01:55 - cmdstanpy - INFO - Chain [1] done processing\n"
     ]
    },
    {
     "data": {
      "application/vnd.plotly.v1+json": {
       "config": {
        "plotlyServerURL": "https://plot.ly"
       },
       "data": [
        {
         "line": {
          "color": "blue"
         },
         "mode": "lines",
         "name": "OT Histórico",
         "type": "scatter",
         "x": [
          "2024-07-04T14:00:00.000000000",
          "2024-07-04T16:00:00.000000000",
          "2024-07-04T18:00:00.000000000",
          "2024-07-04T20:00:00.000000000",
          "2024-07-04T22:00:00.000000000",
          "2024-07-05T00:00:00.000000000",
          "2024-07-05T02:00:00.000000000",
          "2024-07-05T04:00:00.000000000",
          "2024-07-05T06:00:00.000000000",
          "2024-07-05T08:00:00.000000000",
          "2024-07-05T10:00:00.000000000",
          "2024-07-05T12:00:00.000000000",
          "2024-07-05T14:00:00.000000000",
          "2024-07-05T16:00:00.000000000",
          "2024-07-05T18:00:00.000000000",
          "2024-07-05T20:00:00.000000000",
          "2024-07-05T22:00:00.000000000",
          "2024-07-06T00:00:00.000000000",
          "2024-07-06T02:00:00.000000000",
          "2024-07-06T04:00:00.000000000",
          "2024-07-06T06:00:00.000000000",
          "2024-07-06T08:00:00.000000000",
          "2024-07-06T10:00:00.000000000",
          "2024-07-06T12:00:00.000000000"
         ],
         "y": {
          "bdata": "AAAA0E3yQkAAAABAtIRBQAAAAMD1MD9AAAAA4KX7PUABAABw6W49QAAAAGC8dDtAAAAAwCDoOkABAABACMw6QAEAAKDvrzpAAAAAIIVbOkAAAAAQAus5QAAAAAAC6zlAAAAAkEMjOkAAAAAQAus5QAAAAHDpzjlAAAAAAALrOUAAAACQl5Y5QAAAAAAC6zlAAAAAMFw/OkAAAACwSQQ7QAAAAOBP5TtAAAAAsByqPEAAAADQ+W49QAAAAGDlkDtA",
          "dtype": "f8"
         }
        },
        {
         "line": {
          "color": "green",
          "dash": "dash"
         },
         "mode": "lines",
         "name": "OT Predicho (Histórico)",
         "type": "scatter",
         "x": [
          "2024-07-04T14:00:00.000000000",
          "2024-07-04T16:00:00.000000000",
          "2024-07-04T18:00:00.000000000",
          "2024-07-04T20:00:00.000000000",
          "2024-07-04T22:00:00.000000000",
          "2024-07-05T00:00:00.000000000",
          "2024-07-05T02:00:00.000000000",
          "2024-07-05T04:00:00.000000000",
          "2024-07-05T06:00:00.000000000",
          "2024-07-05T08:00:00.000000000",
          "2024-07-05T10:00:00.000000000",
          "2024-07-05T12:00:00.000000000",
          "2024-07-05T14:00:00.000000000",
          "2024-07-05T16:00:00.000000000",
          "2024-07-05T18:00:00.000000000",
          "2024-07-05T20:00:00.000000000",
          "2024-07-05T22:00:00.000000000",
          "2024-07-06T00:00:00.000000000",
          "2024-07-06T02:00:00.000000000",
          "2024-07-06T04:00:00.000000000",
          "2024-07-06T06:00:00.000000000",
          "2024-07-06T08:00:00.000000000",
          "2024-07-06T10:00:00.000000000",
          "2024-07-06T12:00:00.000000000"
         ],
         "y": {
          "bdata": "OWJtyesJQkDah5Y4hC5BQGHyv6ccU0BAirO+CXvvPkCOpCHRzzg9QKn5b0glgjtAsnYPz3UzO0CvKYT8X+U6QHqdtO6wlzpABeV8DGFKOkBRHGMNHf05QK7wyAGt9jlA7T4QqXfwOUB2Qav+a+o5QAHwk+Kf5DlA0UuxzhrrOUCo+MV3Mh86QGOHPd+OdDpANRHmECfKOkAWsv2Fvx87QPZSFftXdTtA1/MscPDKO0C5lETliCA8QJk1XFohdjxA",
          "dtype": "f8"
         }
        },
        {
         "line": {
          "color": "red"
         },
         "mode": "lines",
         "name": "OT Predicho (Futuro)",
         "type": "scatter",
         "x": [
          "2024-07-06T14:00:00.000000000",
          "2024-07-06T16:00:00.000000000",
          "2024-07-06T18:00:00.000000000",
          "2024-07-06T20:00:00.000000000",
          "2024-07-06T22:00:00.000000000",
          "2024-07-07T00:00:00.000000000",
          "2024-07-07T02:00:00.000000000",
          "2024-07-07T04:00:00.000000000",
          "2024-07-07T06:00:00.000000000",
          "2024-07-07T08:00:00.000000000",
          "2024-07-07T10:00:00.000000000",
          "2024-07-07T12:00:00.000000000",
          "2024-07-07T14:00:00.000000000",
          "2024-07-07T16:00:00.000000000",
          "2024-07-07T18:00:00.000000000",
          "2024-07-07T20:00:00.000000000",
          "2024-07-07T22:00:00.000000000",
          "2024-07-08T00:00:00.000000000",
          "2024-07-08T02:00:00.000000000",
          "2024-07-08T04:00:00.000000000",
          "2024-07-08T06:00:00.000000000",
          "2024-07-08T08:00:00.000000000",
          "2024-07-08T10:00:00.000000000",
          "2024-07-08T12:00:00.000000000",
          "2024-07-08T14:00:00.000000000",
          "2024-07-08T16:00:00.000000000",
          "2024-07-08T18:00:00.000000000",
          "2024-07-08T20:00:00.000000000",
          "2024-07-08T22:00:00.000000000",
          "2024-07-09T00:00:00.000000000",
          "2024-07-09T02:00:00.000000000",
          "2024-07-09T04:00:00.000000000",
          "2024-07-09T06:00:00.000000000",
          "2024-07-09T08:00:00.000000000",
          "2024-07-09T10:00:00.000000000",
          "2024-07-09T12:00:00.000000000",
          "2024-07-09T14:00:00.000000000",
          "2024-07-09T16:00:00.000000000",
          "2024-07-09T18:00:00.000000000",
          "2024-07-09T20:00:00.000000000",
          "2024-07-09T22:00:00.000000000",
          "2024-07-10T00:00:00.000000000",
          "2024-07-10T02:00:00.000000000",
          "2024-07-10T04:00:00.000000000",
          "2024-07-10T06:00:00.000000000",
          "2024-07-10T08:00:00.000000000",
          "2024-07-10T10:00:00.000000000",
          "2024-07-10T12:00:00.000000000",
          "2024-07-10T14:00:00.000000000",
          "2024-07-10T16:00:00.000000000",
          "2024-07-10T18:00:00.000000000",
          "2024-07-10T20:00:00.000000000",
          "2024-07-10T22:00:00.000000000",
          "2024-07-11T00:00:00.000000000",
          "2024-07-11T02:00:00.000000000",
          "2024-07-11T04:00:00.000000000",
          "2024-07-11T06:00:00.000000000",
          "2024-07-11T08:00:00.000000000",
          "2024-07-11T10:00:00.000000000",
          "2024-07-11T12:00:00.000000000",
          "2024-07-11T14:00:00.000000000",
          "2024-07-11T16:00:00.000000000",
          "2024-07-11T18:00:00.000000000",
          "2024-07-11T20:00:00.000000000",
          "2024-07-11T22:00:00.000000000",
          "2024-07-12T00:00:00.000000000",
          "2024-07-12T02:00:00.000000000",
          "2024-07-12T04:00:00.000000000",
          "2024-07-12T06:00:00.000000000",
          "2024-07-12T08:00:00.000000000",
          "2024-07-12T10:00:00.000000000",
          "2024-07-12T12:00:00.000000000",
          "2024-07-12T14:00:00.000000000",
          "2024-07-12T16:00:00.000000000",
          "2024-07-12T18:00:00.000000000",
          "2024-07-12T20:00:00.000000000",
          "2024-07-12T22:00:00.000000000",
          "2024-07-13T00:00:00.000000000",
          "2024-07-13T02:00:00.000000000",
          "2024-07-13T04:00:00.000000000",
          "2024-07-13T06:00:00.000000000",
          "2024-07-13T08:00:00.000000000",
          "2024-07-13T10:00:00.000000000",
          "2024-07-13T12:00:00.000000000",
          "2024-07-13T14:00:00.000000000",
          "2024-07-13T16:00:00.000000000",
          "2024-07-13T18:00:00.000000000",
          "2024-07-13T20:00:00.000000000",
          "2024-07-13T22:00:00.000000000",
          "2024-07-14T00:00:00.000000000",
          "2024-07-14T02:00:00.000000000",
          "2024-07-14T04:00:00.000000000",
          "2024-07-14T06:00:00.000000000",
          "2024-07-14T08:00:00.000000000",
          "2024-07-14T10:00:00.000000000",
          "2024-07-14T12:00:00.000000000",
          "2024-07-14T14:00:00.000000000",
          "2024-07-14T16:00:00.000000000",
          "2024-07-14T18:00:00.000000000",
          "2024-07-14T20:00:00.000000000",
          "2024-07-14T22:00:00.000000000",
          "2024-07-15T00:00:00.000000000",
          "2024-07-15T02:00:00.000000000",
          "2024-07-15T04:00:00.000000000",
          "2024-07-15T06:00:00.000000000",
          "2024-07-15T08:00:00.000000000",
          "2024-07-15T10:00:00.000000000",
          "2024-07-15T12:00:00.000000000",
          "2024-07-15T14:00:00.000000000",
          "2024-07-15T16:00:00.000000000",
          "2024-07-15T18:00:00.000000000",
          "2024-07-15T20:00:00.000000000",
          "2024-07-15T22:00:00.000000000",
          "2024-07-16T00:00:00.000000000",
          "2024-07-16T02:00:00.000000000",
          "2024-07-16T04:00:00.000000000",
          "2024-07-16T06:00:00.000000000",
          "2024-07-16T08:00:00.000000000",
          "2024-07-16T10:00:00.000000000",
          "2024-07-16T12:00:00.000000000",
          "2024-07-16T14:00:00.000000000",
          "2024-07-16T16:00:00.000000000",
          "2024-07-16T18:00:00.000000000",
          "2024-07-16T20:00:00.000000000",
          "2024-07-16T22:00:00.000000000",
          "2024-07-17T00:00:00.000000000",
          "2024-07-17T02:00:00.000000000",
          "2024-07-17T04:00:00.000000000",
          "2024-07-17T06:00:00.000000000",
          "2024-07-17T08:00:00.000000000",
          "2024-07-17T10:00:00.000000000",
          "2024-07-17T12:00:00.000000000",
          "2024-07-17T14:00:00.000000000",
          "2024-07-17T16:00:00.000000000",
          "2024-07-17T18:00:00.000000000",
          "2024-07-17T20:00:00.000000000",
          "2024-07-17T22:00:00.000000000",
          "2024-07-18T00:00:00.000000000",
          "2024-07-18T02:00:00.000000000",
          "2024-07-18T04:00:00.000000000",
          "2024-07-18T06:00:00.000000000",
          "2024-07-18T08:00:00.000000000",
          "2024-07-18T10:00:00.000000000",
          "2024-07-18T12:00:00.000000000"
         ],
         "y": {
          "bdata": "edZzz7nLPEBad4tEUiE9QDsYo7nqdj1AHLm6LoPMPUD8WdKjGyI+QN366Ri0dz5AvZsBjkzNPkCfPBkD5SI/QIDdMHh9eD9AYH5I7RXOP0CgDzAx1xFAQBHgu2ujPEBAgbBHpm9nQEDxgNPgO5JAQGJRXxsIvUBA0iHrVdTnQEBC8naQoBJBQLPCAstsPUFAI5OOBTloQUCTYxpABZNBQAQ0pnrRvUFAdQQytZ3oQUDl1L3vaRNCQFWlSSo2PkJAxXXVZAJpQkA2RmGfzpNCQKYW7dmavkJAFud4FGfpQkCHtwRPMxRDQPeHkIn/PkNAaFgcxMtpQ0DYKKj+l5RDQEj5Mzlkv0NAucm/czDqQ0Apmkuu/BREQJlq1+jIP0RACTtjI5VqREB5C+9dYZVEQOvbepgtwERAXKwG0/nqREDMfJINxhVFQDxNHkiSQEVArB2qgl5rRUAc7jW9KpZFQIy+wff2wEVA/Y5NMsPrRUBuX9lsjxZGQN4vZadbQUZATgDx4SdsRkC+0Hwc9JZGQC6hCFfAwUZAnnGUkYzsRkAPQiDMWBdHQIESrAYlQkdA8eI3QfFsR0Bhs8N7vZdHQNGDT7aJwkdAQVTb8FXtR0CyJGcrIhhIQCP18mXuQkhAk8V+oLptSEADlgrbhphIQHNmlhVTw0hA4zYiUB/uSEBUB66K6xhJQMTXOcW3Q0lANajF/4NuSUCleFE6UJlJQBVJ3XQcxElAhRlpr+juSUD36fTptBlKQGW6gCSBREpA14oMX01vSkBIW5iZGZpKQLgrJNTlxEpAKPyvDrLvSkCYzDtJfhpLQAidx4NKRUtAeW1TvhZwS0DqPd/44ppLQFoOazOvxUtAyt72bXvwS0A6r4KoRxtMQKt/DuMTRkxAHVCaHeBwTECLICZYrJtMQP3wsZJ4xkxAbcE9zUTxTEDdkckHERxNQE1iVULdRk1AvjLhfKlxTUAuA223dZxNQJ7T+PFBx01AD6SELA7yTUB/dBBn2hxOQO9EnKGmR05AYBUo3HJyTkDQ5bMWP51OQEC2P1ELyE5AsIbLi9fyTkAhV1fGox1PQJEn4wBwSE9AA/huOzxzT0BxyPp1CJ5PQOOYhrDUyE9AU2kS66DzT0DiHM+SNg9QQBoFFbCcJFBAUu1azQI6UECK1aDqaE9QQMK95gfPZFBA+qUsJTV6UEAyjnJCm49QQGt2uF8BpVBAo17+fGe6UEDbRkSazc9QQBQvircz5VBATBfQ1Jn6UECE/xXy/w9RQLznWw9mJVFA9M+hLMw6UUAsuOdJMlBRQGSgLWeYZVFAnYhzhP56UUDVcLmhZJBRQA1Z/77KpVFARUFF3DC7UUB9KYv5ltBRQLUR0Rb95VFA7vkWNGP7UUAm4lxRyRBSQF7Kom4vJlJAlrLoi5U7UkDPmi6p+1BSQAeDdMZhZlJAP2u648d7UkB3UwABLpFSQK87Rh6UplJA5yOMO/q7UkAgDNJYYNFSQFj0F3bG5lJAkNxdkyz8UkDJxKOwkhFTQACt6c34JlNA",
          "dtype": "f8"
         }
        },
        {
         "line": {
          "color": "gray",
          "width": 0.5
         },
         "mode": "lines",
         "name": "Límite Superior (95% IC)",
         "type": "scatter",
         "x": [
          "2024-07-06T14:00:00.000000000",
          "2024-07-06T16:00:00.000000000",
          "2024-07-06T18:00:00.000000000",
          "2024-07-06T20:00:00.000000000",
          "2024-07-06T22:00:00.000000000",
          "2024-07-07T00:00:00.000000000",
          "2024-07-07T02:00:00.000000000",
          "2024-07-07T04:00:00.000000000",
          "2024-07-07T06:00:00.000000000",
          "2024-07-07T08:00:00.000000000",
          "2024-07-07T10:00:00.000000000",
          "2024-07-07T12:00:00.000000000",
          "2024-07-07T14:00:00.000000000",
          "2024-07-07T16:00:00.000000000",
          "2024-07-07T18:00:00.000000000",
          "2024-07-07T20:00:00.000000000",
          "2024-07-07T22:00:00.000000000",
          "2024-07-08T00:00:00.000000000",
          "2024-07-08T02:00:00.000000000",
          "2024-07-08T04:00:00.000000000",
          "2024-07-08T06:00:00.000000000",
          "2024-07-08T08:00:00.000000000",
          "2024-07-08T10:00:00.000000000",
          "2024-07-08T12:00:00.000000000",
          "2024-07-08T14:00:00.000000000",
          "2024-07-08T16:00:00.000000000",
          "2024-07-08T18:00:00.000000000",
          "2024-07-08T20:00:00.000000000",
          "2024-07-08T22:00:00.000000000",
          "2024-07-09T00:00:00.000000000",
          "2024-07-09T02:00:00.000000000",
          "2024-07-09T04:00:00.000000000",
          "2024-07-09T06:00:00.000000000",
          "2024-07-09T08:00:00.000000000",
          "2024-07-09T10:00:00.000000000",
          "2024-07-09T12:00:00.000000000",
          "2024-07-09T14:00:00.000000000",
          "2024-07-09T16:00:00.000000000",
          "2024-07-09T18:00:00.000000000",
          "2024-07-09T20:00:00.000000000",
          "2024-07-09T22:00:00.000000000",
          "2024-07-10T00:00:00.000000000",
          "2024-07-10T02:00:00.000000000",
          "2024-07-10T04:00:00.000000000",
          "2024-07-10T06:00:00.000000000",
          "2024-07-10T08:00:00.000000000",
          "2024-07-10T10:00:00.000000000",
          "2024-07-10T12:00:00.000000000",
          "2024-07-10T14:00:00.000000000",
          "2024-07-10T16:00:00.000000000",
          "2024-07-10T18:00:00.000000000",
          "2024-07-10T20:00:00.000000000",
          "2024-07-10T22:00:00.000000000",
          "2024-07-11T00:00:00.000000000",
          "2024-07-11T02:00:00.000000000",
          "2024-07-11T04:00:00.000000000",
          "2024-07-11T06:00:00.000000000",
          "2024-07-11T08:00:00.000000000",
          "2024-07-11T10:00:00.000000000",
          "2024-07-11T12:00:00.000000000",
          "2024-07-11T14:00:00.000000000",
          "2024-07-11T16:00:00.000000000",
          "2024-07-11T18:00:00.000000000",
          "2024-07-11T20:00:00.000000000",
          "2024-07-11T22:00:00.000000000",
          "2024-07-12T00:00:00.000000000",
          "2024-07-12T02:00:00.000000000",
          "2024-07-12T04:00:00.000000000",
          "2024-07-12T06:00:00.000000000",
          "2024-07-12T08:00:00.000000000",
          "2024-07-12T10:00:00.000000000",
          "2024-07-12T12:00:00.000000000",
          "2024-07-12T14:00:00.000000000",
          "2024-07-12T16:00:00.000000000",
          "2024-07-12T18:00:00.000000000",
          "2024-07-12T20:00:00.000000000",
          "2024-07-12T22:00:00.000000000",
          "2024-07-13T00:00:00.000000000",
          "2024-07-13T02:00:00.000000000",
          "2024-07-13T04:00:00.000000000",
          "2024-07-13T06:00:00.000000000",
          "2024-07-13T08:00:00.000000000",
          "2024-07-13T10:00:00.000000000",
          "2024-07-13T12:00:00.000000000",
          "2024-07-13T14:00:00.000000000",
          "2024-07-13T16:00:00.000000000",
          "2024-07-13T18:00:00.000000000",
          "2024-07-13T20:00:00.000000000",
          "2024-07-13T22:00:00.000000000",
          "2024-07-14T00:00:00.000000000",
          "2024-07-14T02:00:00.000000000",
          "2024-07-14T04:00:00.000000000",
          "2024-07-14T06:00:00.000000000",
          "2024-07-14T08:00:00.000000000",
          "2024-07-14T10:00:00.000000000",
          "2024-07-14T12:00:00.000000000",
          "2024-07-14T14:00:00.000000000",
          "2024-07-14T16:00:00.000000000",
          "2024-07-14T18:00:00.000000000",
          "2024-07-14T20:00:00.000000000",
          "2024-07-14T22:00:00.000000000",
          "2024-07-15T00:00:00.000000000",
          "2024-07-15T02:00:00.000000000",
          "2024-07-15T04:00:00.000000000",
          "2024-07-15T06:00:00.000000000",
          "2024-07-15T08:00:00.000000000",
          "2024-07-15T10:00:00.000000000",
          "2024-07-15T12:00:00.000000000",
          "2024-07-15T14:00:00.000000000",
          "2024-07-15T16:00:00.000000000",
          "2024-07-15T18:00:00.000000000",
          "2024-07-15T20:00:00.000000000",
          "2024-07-15T22:00:00.000000000",
          "2024-07-16T00:00:00.000000000",
          "2024-07-16T02:00:00.000000000",
          "2024-07-16T04:00:00.000000000",
          "2024-07-16T06:00:00.000000000",
          "2024-07-16T08:00:00.000000000",
          "2024-07-16T10:00:00.000000000",
          "2024-07-16T12:00:00.000000000",
          "2024-07-16T14:00:00.000000000",
          "2024-07-16T16:00:00.000000000",
          "2024-07-16T18:00:00.000000000",
          "2024-07-16T20:00:00.000000000",
          "2024-07-16T22:00:00.000000000",
          "2024-07-17T00:00:00.000000000",
          "2024-07-17T02:00:00.000000000",
          "2024-07-17T04:00:00.000000000",
          "2024-07-17T06:00:00.000000000",
          "2024-07-17T08:00:00.000000000",
          "2024-07-17T10:00:00.000000000",
          "2024-07-17T12:00:00.000000000",
          "2024-07-17T14:00:00.000000000",
          "2024-07-17T16:00:00.000000000",
          "2024-07-17T18:00:00.000000000",
          "2024-07-17T20:00:00.000000000",
          "2024-07-17T22:00:00.000000000",
          "2024-07-18T00:00:00.000000000",
          "2024-07-18T02:00:00.000000000",
          "2024-07-18T04:00:00.000000000",
          "2024-07-18T06:00:00.000000000",
          "2024-07-18T08:00:00.000000000",
          "2024-07-18T10:00:00.000000000",
          "2024-07-18T12:00:00.000000000"
         ],
         "y": {
          "bdata": "CEK5qdSsPUD/JKb4Lxk+QCM9p6KWdT5AaOID5kMNP0DZMMVRV5g/QGtGEC98G0BAjLG2twR0QEAFcZSoRLdAQDzvnRqDNkFAE8jJDQu0QUBMhVM9vhFCQEUffFvFgUJADz9YDJcAQ0CFlSLaBo1DQCYL4PJZ3kNAtUp+teNPREDN47drsLtEQL0X3Y03IkVAP8wJ0f+rRUA1eOKHTzBGQFufsQaMtUZAJ6jWplAjR0CpxJNME8ZHQMz3cPHVE0hAnyOSBXK2SEB4rGuPglNJQPi8RI864UlAmHfcY7yESkAFmLaN1vpKQJPaXeklmEtAdI2I0torTEAw4dmjs9JMQP2cmyMidk1AxyTppRsATkBNYe9fBqJOQI9z+43MOU9A7GcTKDICUEBYcyqe10lQQMITSatAnFBA/UKpEbTvUEAvlze2zTVRQAQsc11je1FAfSUwnMfPUUAfnCtJwEZSQPOiNUfdlFJA0BEuAt3eUkAS/ThcmChTQAbCQF9AjVNA3Y4x7ojtU0Br9weQgUxUQKAROVB5w1RAb01/MQPqVEC1NA3raGxVQM6vCev2sVVAQ2fHyh8aVkBIFDPD1I9WQD+xCt3E3lZALL8F5SktV0ABvLWC9VNXQA/KvtVSwldAXYCI3fAJWEABkoCOkE5YQBZ+60KYr1hA37szAZQQWUA8JiBaaHpZQAQaAKJRv1lAfuQVygoBWkDgVvc7S7VaQBxsf5wZyVpAPqdcsXo3W0CYtgldRdBbQI+TasxGFVxA+725T1J7XEDIAQK48K1cQEtrLftBKl1A2NkqNnqCXUCI3XHKwM5dQGYakGKZLF5AMBTkt+xrXkDt6ZaHMe5eQDSvgHKLZ19AA0BjoT6RX0AYviVAbCFgQO4LeXI3Q2BAGRjIKX2DYECctk3RM7lgQPytfSU082BARp9f5PxCYUBBdcOaCXZhQK7BDCL+t2FAF081LbzqYUDuDiGBczxiQLZa4pazc2JAfzoKkZaaYkC1uhz2J81iQAA7TKKPCmNAZnqakFdEY0D2PR/ffH9jQB+TfRGlgGNAQ8rC8yTWY0BKIckrIwhkQJVeeK2WQmRAG+XHE9tnZEAdN8IguKtkQATABDedzWRA3pOgmlQOZUBtwqwzl0FlQNIJWTwmmGVAeDi+ipuoZUAn3A1jXRJmQM6E3O9kZGZAuOH9doajZkCunNHlj/VmQJQzPy+2EmdAfJE0kwBBZ0CKMGrgnWNnQLzzSY3HimdA4gkIxpHMZ0CAcgZ5FANoQMssrPxcOWhAo4RtDd14aED1jtE0L65oQPZgMKXH2GhACBlqH6gfaUARua1KDkBpQJJmA16VWGlAvNbR+eqGaUAXPCVFl/lpQMitNBrEIGpAy5kbk495akBhQll3VpFqQGjyyXv70mpAXtAorjIVa0APLZTEYFZrQLzkzG85e2tAOw6TdpW/a0AT2l9Hav1rQKmDTL45LWxAVBhvMMJ9bEC2JiVny7xsQAF3bbNS1WxAOKsCD1IYbUDXLj+MOTVtQEmZSWJcdW1A",
          "dtype": "f8"
         }
        },
        {
         "fill": "tonexty",
         "fillcolor": "rgba(200, 100, 200, 0.1)",
         "line": {
          "color": "gray",
          "width": 0.5
         },
         "mode": "lines",
         "name": "Límite Inferior (95% IC)",
         "type": "scatter",
         "x": [
          "2024-07-06T14:00:00.000000000",
          "2024-07-06T16:00:00.000000000",
          "2024-07-06T18:00:00.000000000",
          "2024-07-06T20:00:00.000000000",
          "2024-07-06T22:00:00.000000000",
          "2024-07-07T00:00:00.000000000",
          "2024-07-07T02:00:00.000000000",
          "2024-07-07T04:00:00.000000000",
          "2024-07-07T06:00:00.000000000",
          "2024-07-07T08:00:00.000000000",
          "2024-07-07T10:00:00.000000000",
          "2024-07-07T12:00:00.000000000",
          "2024-07-07T14:00:00.000000000",
          "2024-07-07T16:00:00.000000000",
          "2024-07-07T18:00:00.000000000",
          "2024-07-07T20:00:00.000000000",
          "2024-07-07T22:00:00.000000000",
          "2024-07-08T00:00:00.000000000",
          "2024-07-08T02:00:00.000000000",
          "2024-07-08T04:00:00.000000000",
          "2024-07-08T06:00:00.000000000",
          "2024-07-08T08:00:00.000000000",
          "2024-07-08T10:00:00.000000000",
          "2024-07-08T12:00:00.000000000",
          "2024-07-08T14:00:00.000000000",
          "2024-07-08T16:00:00.000000000",
          "2024-07-08T18:00:00.000000000",
          "2024-07-08T20:00:00.000000000",
          "2024-07-08T22:00:00.000000000",
          "2024-07-09T00:00:00.000000000",
          "2024-07-09T02:00:00.000000000",
          "2024-07-09T04:00:00.000000000",
          "2024-07-09T06:00:00.000000000",
          "2024-07-09T08:00:00.000000000",
          "2024-07-09T10:00:00.000000000",
          "2024-07-09T12:00:00.000000000",
          "2024-07-09T14:00:00.000000000",
          "2024-07-09T16:00:00.000000000",
          "2024-07-09T18:00:00.000000000",
          "2024-07-09T20:00:00.000000000",
          "2024-07-09T22:00:00.000000000",
          "2024-07-10T00:00:00.000000000",
          "2024-07-10T02:00:00.000000000",
          "2024-07-10T04:00:00.000000000",
          "2024-07-10T06:00:00.000000000",
          "2024-07-10T08:00:00.000000000",
          "2024-07-10T10:00:00.000000000",
          "2024-07-10T12:00:00.000000000",
          "2024-07-10T14:00:00.000000000",
          "2024-07-10T16:00:00.000000000",
          "2024-07-10T18:00:00.000000000",
          "2024-07-10T20:00:00.000000000",
          "2024-07-10T22:00:00.000000000",
          "2024-07-11T00:00:00.000000000",
          "2024-07-11T02:00:00.000000000",
          "2024-07-11T04:00:00.000000000",
          "2024-07-11T06:00:00.000000000",
          "2024-07-11T08:00:00.000000000",
          "2024-07-11T10:00:00.000000000",
          "2024-07-11T12:00:00.000000000",
          "2024-07-11T14:00:00.000000000",
          "2024-07-11T16:00:00.000000000",
          "2024-07-11T18:00:00.000000000",
          "2024-07-11T20:00:00.000000000",
          "2024-07-11T22:00:00.000000000",
          "2024-07-12T00:00:00.000000000",
          "2024-07-12T02:00:00.000000000",
          "2024-07-12T04:00:00.000000000",
          "2024-07-12T06:00:00.000000000",
          "2024-07-12T08:00:00.000000000",
          "2024-07-12T10:00:00.000000000",
          "2024-07-12T12:00:00.000000000",
          "2024-07-12T14:00:00.000000000",
          "2024-07-12T16:00:00.000000000",
          "2024-07-12T18:00:00.000000000",
          "2024-07-12T20:00:00.000000000",
          "2024-07-12T22:00:00.000000000",
          "2024-07-13T00:00:00.000000000",
          "2024-07-13T02:00:00.000000000",
          "2024-07-13T04:00:00.000000000",
          "2024-07-13T06:00:00.000000000",
          "2024-07-13T08:00:00.000000000",
          "2024-07-13T10:00:00.000000000",
          "2024-07-13T12:00:00.000000000",
          "2024-07-13T14:00:00.000000000",
          "2024-07-13T16:00:00.000000000",
          "2024-07-13T18:00:00.000000000",
          "2024-07-13T20:00:00.000000000",
          "2024-07-13T22:00:00.000000000",
          "2024-07-14T00:00:00.000000000",
          "2024-07-14T02:00:00.000000000",
          "2024-07-14T04:00:00.000000000",
          "2024-07-14T06:00:00.000000000",
          "2024-07-14T08:00:00.000000000",
          "2024-07-14T10:00:00.000000000",
          "2024-07-14T12:00:00.000000000",
          "2024-07-14T14:00:00.000000000",
          "2024-07-14T16:00:00.000000000",
          "2024-07-14T18:00:00.000000000",
          "2024-07-14T20:00:00.000000000",
          "2024-07-14T22:00:00.000000000",
          "2024-07-15T00:00:00.000000000",
          "2024-07-15T02:00:00.000000000",
          "2024-07-15T04:00:00.000000000",
          "2024-07-15T06:00:00.000000000",
          "2024-07-15T08:00:00.000000000",
          "2024-07-15T10:00:00.000000000",
          "2024-07-15T12:00:00.000000000",
          "2024-07-15T14:00:00.000000000",
          "2024-07-15T16:00:00.000000000",
          "2024-07-15T18:00:00.000000000",
          "2024-07-15T20:00:00.000000000",
          "2024-07-15T22:00:00.000000000",
          "2024-07-16T00:00:00.000000000",
          "2024-07-16T02:00:00.000000000",
          "2024-07-16T04:00:00.000000000",
          "2024-07-16T06:00:00.000000000",
          "2024-07-16T08:00:00.000000000",
          "2024-07-16T10:00:00.000000000",
          "2024-07-16T12:00:00.000000000",
          "2024-07-16T14:00:00.000000000",
          "2024-07-16T16:00:00.000000000",
          "2024-07-16T18:00:00.000000000",
          "2024-07-16T20:00:00.000000000",
          "2024-07-16T22:00:00.000000000",
          "2024-07-17T00:00:00.000000000",
          "2024-07-17T02:00:00.000000000",
          "2024-07-17T04:00:00.000000000",
          "2024-07-17T06:00:00.000000000",
          "2024-07-17T08:00:00.000000000",
          "2024-07-17T10:00:00.000000000",
          "2024-07-17T12:00:00.000000000",
          "2024-07-17T14:00:00.000000000",
          "2024-07-17T16:00:00.000000000",
          "2024-07-17T18:00:00.000000000",
          "2024-07-17T20:00:00.000000000",
          "2024-07-17T22:00:00.000000000",
          "2024-07-18T00:00:00.000000000",
          "2024-07-18T02:00:00.000000000",
          "2024-07-18T04:00:00.000000000",
          "2024-07-18T06:00:00.000000000",
          "2024-07-18T08:00:00.000000000",
          "2024-07-18T10:00:00.000000000",
          "2024-07-18T12:00:00.000000000"
         ],
         "y": {
          "bdata": "RonnHCjlO0D9TTfhPjI8QG784UE2eTxAHTH8ClGqPEDm/ndhUL08QBTVVKDuuDxAL0h+zVziPEBGmr/yiLE8QDOp6P7ZuTxAnbJQA1GjPECpkeU2t4c8QMfK76zFTTxA3eRb+xwhPEATbbUt0NM7QE6708ileTtA5LFA9S96O0BxQS46XQ47QHJ0deMPJTtAtvaRIZm1OkBVPSRKZRQ6QElqoXF1BTpAd+6STUUOOUD7had0VS45QIge+VL0yDhAtS8cTpAzOEBp6dROq/A3QNQX66vTujdA7BcvktMTN0DgXA6oC/c1QH6IRAph0DVA6SjSEy4nNUBen7igXro0QPQ5uQILbzRAtVO9TaHWM0DvO1QmJJIzQEYlW74jhDJA7HowvcbmMUAPFe1Sp5IxQF96gf7RozBAQ/MvDajvL0DspF23AX8tQNM2e+5OsCxAL/lN38YWK0Bc/YfP0yApQGwBWZ8QvydAoWtehbr2J0CFA4n4SxwmQNccJp90aSVAQGrFdwmdJEAKmntQ8ugjQKZ3p9PD1yJALFL7+XspIEB3lNQ9W4QbQDjz+DuEQBlA7QiZ5MJJGEDN2yGItRYVQDNzCTzZvxFAfqSnY81kDEAK6eCZLTwHQGnvbWViG/c/umN73VC67j8/66+oZQLPP3Ah6CN4K+e/6W8g72ed6r+32EWQ8B4DwKDoHZJNSwbAoIW2oBSZE8CQOtzq/A4WwOYLEahl4RnARJidguh+IMAdJVZ/58shwD3drlDW3CLA8BdPz4bJJcDAr6ZtmQInwJxaSB445yjAhJkvlBgkK8BODs6EMssswId8zynrKC/Azncp5ihTMcDTXMdknTUywHKpEE3uOTPA3iRDiN0qNMBmw4cW/sE1wG9CL0HFJDfAuYLBygAsOcDnOn5fKF86wDi4c6mU9jvAtEbySNCGPcBAUcHBnFc/wDBIV6N30UDAwwcOh8WzQcCprKg5muxBwBE0wdaUskLAflk1NByeQ8BW0lh3E2xEwGKBVgGNiUTAxtj8eHidRMD+oJemwIVFwB1saO6WE0bAcrxxMih+RsBf08a2YR9HwP1mBiXLZUfAW+hkMJb8R8Da95y2+ndIwCoo0KbjhkjARUlnzsN5ScCbqKniYUtKwGXSNhD1f0rADZ+AV4miS8AFwRHZsUdMwAQLjJf5GE3AtDMLmdupTcD20tVN3/tNwNqNkbLzoE7Av0taNkTnTsBvb90SvYJPwHWK25KWvk/AJ2f9IC5EUMCqwjbiU3NQwPBGhvok6FDAvNo6m+D9UMDTxI0zN3tRwCNaIxY2t1HA8Jmu9cosUsBnc60vVlRSwJhN6iTny1LAySr/C43VUsDpgfNFWmJTwO6nXPsQvlPAI5Wegxv1U8AYm7+d/8ZTwCmav7yuelTA13Bj4sysVMBT5pyn4ndVwNwDlXDj1VXA0tsaEiqpVsCSObAC0M5WwCj7vam+W1fATrJsNRe+V8AX9R0CyOtXwPMzJ/kMh1jA3WiBWeirWMAHmM2pMwRZwIWzSetwaVnA",
          "dtype": "f8"
         }
        }
       ],
       "layout": {
        "hovermode": "x unified",
        "showlegend": true,
        "template": {
         "data": {
          "bar": [
           {
            "error_x": {
             "color": "#f2f5fa"
            },
            "error_y": {
             "color": "#f2f5fa"
            },
            "marker": {
             "line": {
              "color": "rgb(17,17,17)",
              "width": 0.5
             },
             "pattern": {
              "fillmode": "overlay",
              "size": 10,
              "solidity": 0.2
             }
            },
            "type": "bar"
           }
          ],
          "barpolar": [
           {
            "marker": {
             "line": {
              "color": "rgb(17,17,17)",
              "width": 0.5
             },
             "pattern": {
              "fillmode": "overlay",
              "size": 10,
              "solidity": 0.2
             }
            },
            "type": "barpolar"
           }
          ],
          "carpet": [
           {
            "aaxis": {
             "endlinecolor": "#A2B1C6",
             "gridcolor": "#506784",
             "linecolor": "#506784",
             "minorgridcolor": "#506784",
             "startlinecolor": "#A2B1C6"
            },
            "baxis": {
             "endlinecolor": "#A2B1C6",
             "gridcolor": "#506784",
             "linecolor": "#506784",
             "minorgridcolor": "#506784",
             "startlinecolor": "#A2B1C6"
            },
            "type": "carpet"
           }
          ],
          "choropleth": [
           {
            "colorbar": {
             "outlinewidth": 0,
             "ticks": ""
            },
            "type": "choropleth"
           }
          ],
          "contour": [
           {
            "colorbar": {
             "outlinewidth": 0,
             "ticks": ""
            },
            "colorscale": [
             [
              0,
              "#0d0887"
             ],
             [
              0.1111111111111111,
              "#46039f"
             ],
             [
              0.2222222222222222,
              "#7201a8"
             ],
             [
              0.3333333333333333,
              "#9c179e"
             ],
             [
              0.4444444444444444,
              "#bd3786"
             ],
             [
              0.5555555555555556,
              "#d8576b"
             ],
             [
              0.6666666666666666,
              "#ed7953"
             ],
             [
              0.7777777777777778,
              "#fb9f3a"
             ],
             [
              0.8888888888888888,
              "#fdca26"
             ],
             [
              1,
              "#f0f921"
             ]
            ],
            "type": "contour"
           }
          ],
          "contourcarpet": [
           {
            "colorbar": {
             "outlinewidth": 0,
             "ticks": ""
            },
            "type": "contourcarpet"
           }
          ],
          "heatmap": [
           {
            "colorbar": {
             "outlinewidth": 0,
             "ticks": ""
            },
            "colorscale": [
             [
              0,
              "#0d0887"
             ],
             [
              0.1111111111111111,
              "#46039f"
             ],
             [
              0.2222222222222222,
              "#7201a8"
             ],
             [
              0.3333333333333333,
              "#9c179e"
             ],
             [
              0.4444444444444444,
              "#bd3786"
             ],
             [
              0.5555555555555556,
              "#d8576b"
             ],
             [
              0.6666666666666666,
              "#ed7953"
             ],
             [
              0.7777777777777778,
              "#fb9f3a"
             ],
             [
              0.8888888888888888,
              "#fdca26"
             ],
             [
              1,
              "#f0f921"
             ]
            ],
            "type": "heatmap"
           }
          ],
          "histogram": [
           {
            "marker": {
             "pattern": {
              "fillmode": "overlay",
              "size": 10,
              "solidity": 0.2
             }
            },
            "type": "histogram"
           }
          ],
          "histogram2d": [
           {
            "colorbar": {
             "outlinewidth": 0,
             "ticks": ""
            },
            "colorscale": [
             [
              0,
              "#0d0887"
             ],
             [
              0.1111111111111111,
              "#46039f"
             ],
             [
              0.2222222222222222,
              "#7201a8"
             ],
             [
              0.3333333333333333,
              "#9c179e"
             ],
             [
              0.4444444444444444,
              "#bd3786"
             ],
             [
              0.5555555555555556,
              "#d8576b"
             ],
             [
              0.6666666666666666,
              "#ed7953"
             ],
             [
              0.7777777777777778,
              "#fb9f3a"
             ],
             [
              0.8888888888888888,
              "#fdca26"
             ],
             [
              1,
              "#f0f921"
             ]
            ],
            "type": "histogram2d"
           }
          ],
          "histogram2dcontour": [
           {
            "colorbar": {
             "outlinewidth": 0,
             "ticks": ""
            },
            "colorscale": [
             [
              0,
              "#0d0887"
             ],
             [
              0.1111111111111111,
              "#46039f"
             ],
             [
              0.2222222222222222,
              "#7201a8"
             ],
             [
              0.3333333333333333,
              "#9c179e"
             ],
             [
              0.4444444444444444,
              "#bd3786"
             ],
             [
              0.5555555555555556,
              "#d8576b"
             ],
             [
              0.6666666666666666,
              "#ed7953"
             ],
             [
              0.7777777777777778,
              "#fb9f3a"
             ],
             [
              0.8888888888888888,
              "#fdca26"
             ],
             [
              1,
              "#f0f921"
             ]
            ],
            "type": "histogram2dcontour"
           }
          ],
          "mesh3d": [
           {
            "colorbar": {
             "outlinewidth": 0,
             "ticks": ""
            },
            "type": "mesh3d"
           }
          ],
          "parcoords": [
           {
            "line": {
             "colorbar": {
              "outlinewidth": 0,
              "ticks": ""
             }
            },
            "type": "parcoords"
           }
          ],
          "pie": [
           {
            "automargin": true,
            "type": "pie"
           }
          ],
          "scatter": [
           {
            "marker": {
             "line": {
              "color": "#283442"
             }
            },
            "type": "scatter"
           }
          ],
          "scatter3d": [
           {
            "line": {
             "colorbar": {
              "outlinewidth": 0,
              "ticks": ""
             }
            },
            "marker": {
             "colorbar": {
              "outlinewidth": 0,
              "ticks": ""
             }
            },
            "type": "scatter3d"
           }
          ],
          "scattercarpet": [
           {
            "marker": {
             "colorbar": {
              "outlinewidth": 0,
              "ticks": ""
             }
            },
            "type": "scattercarpet"
           }
          ],
          "scattergeo": [
           {
            "marker": {
             "colorbar": {
              "outlinewidth": 0,
              "ticks": ""
             }
            },
            "type": "scattergeo"
           }
          ],
          "scattergl": [
           {
            "marker": {
             "line": {
              "color": "#283442"
             }
            },
            "type": "scattergl"
           }
          ],
          "scattermap": [
           {
            "marker": {
             "colorbar": {
              "outlinewidth": 0,
              "ticks": ""
             }
            },
            "type": "scattermap"
           }
          ],
          "scattermapbox": [
           {
            "marker": {
             "colorbar": {
              "outlinewidth": 0,
              "ticks": ""
             }
            },
            "type": "scattermapbox"
           }
          ],
          "scatterpolar": [
           {
            "marker": {
             "colorbar": {
              "outlinewidth": 0,
              "ticks": ""
             }
            },
            "type": "scatterpolar"
           }
          ],
          "scatterpolargl": [
           {
            "marker": {
             "colorbar": {
              "outlinewidth": 0,
              "ticks": ""
             }
            },
            "type": "scatterpolargl"
           }
          ],
          "scatterternary": [
           {
            "marker": {
             "colorbar": {
              "outlinewidth": 0,
              "ticks": ""
             }
            },
            "type": "scatterternary"
           }
          ],
          "surface": [
           {
            "colorbar": {
             "outlinewidth": 0,
             "ticks": ""
            },
            "colorscale": [
             [
              0,
              "#0d0887"
             ],
             [
              0.1111111111111111,
              "#46039f"
             ],
             [
              0.2222222222222222,
              "#7201a8"
             ],
             [
              0.3333333333333333,
              "#9c179e"
             ],
             [
              0.4444444444444444,
              "#bd3786"
             ],
             [
              0.5555555555555556,
              "#d8576b"
             ],
             [
              0.6666666666666666,
              "#ed7953"
             ],
             [
              0.7777777777777778,
              "#fb9f3a"
             ],
             [
              0.8888888888888888,
              "#fdca26"
             ],
             [
              1,
              "#f0f921"
             ]
            ],
            "type": "surface"
           }
          ],
          "table": [
           {
            "cells": {
             "fill": {
              "color": "#506784"
             },
             "line": {
              "color": "rgb(17,17,17)"
             }
            },
            "header": {
             "fill": {
              "color": "#2a3f5f"
             },
             "line": {
              "color": "rgb(17,17,17)"
             }
            },
            "type": "table"
           }
          ]
         },
         "layout": {
          "annotationdefaults": {
           "arrowcolor": "#f2f5fa",
           "arrowhead": 0,
           "arrowwidth": 1
          },
          "autotypenumbers": "strict",
          "coloraxis": {
           "colorbar": {
            "outlinewidth": 0,
            "ticks": ""
           }
          },
          "colorscale": {
           "diverging": [
            [
             0,
             "#8e0152"
            ],
            [
             0.1,
             "#c51b7d"
            ],
            [
             0.2,
             "#de77ae"
            ],
            [
             0.3,
             "#f1b6da"
            ],
            [
             0.4,
             "#fde0ef"
            ],
            [
             0.5,
             "#f7f7f7"
            ],
            [
             0.6,
             "#e6f5d0"
            ],
            [
             0.7,
             "#b8e186"
            ],
            [
             0.8,
             "#7fbc41"
            ],
            [
             0.9,
             "#4d9221"
            ],
            [
             1,
             "#276419"
            ]
           ],
           "sequential": [
            [
             0,
             "#0d0887"
            ],
            [
             0.1111111111111111,
             "#46039f"
            ],
            [
             0.2222222222222222,
             "#7201a8"
            ],
            [
             0.3333333333333333,
             "#9c179e"
            ],
            [
             0.4444444444444444,
             "#bd3786"
            ],
            [
             0.5555555555555556,
             "#d8576b"
            ],
            [
             0.6666666666666666,
             "#ed7953"
            ],
            [
             0.7777777777777778,
             "#fb9f3a"
            ],
            [
             0.8888888888888888,
             "#fdca26"
            ],
            [
             1,
             "#f0f921"
            ]
           ],
           "sequentialminus": [
            [
             0,
             "#0d0887"
            ],
            [
             0.1111111111111111,
             "#46039f"
            ],
            [
             0.2222222222222222,
             "#7201a8"
            ],
            [
             0.3333333333333333,
             "#9c179e"
            ],
            [
             0.4444444444444444,
             "#bd3786"
            ],
            [
             0.5555555555555556,
             "#d8576b"
            ],
            [
             0.6666666666666666,
             "#ed7953"
            ],
            [
             0.7777777777777778,
             "#fb9f3a"
            ],
            [
             0.8888888888888888,
             "#fdca26"
            ],
            [
             1,
             "#f0f921"
            ]
           ]
          },
          "colorway": [
           "#636efa",
           "#EF553B",
           "#00cc96",
           "#ab63fa",
           "#FFA15A",
           "#19d3f3",
           "#FF6692",
           "#B6E880",
           "#FF97FF",
           "#FECB52"
          ],
          "font": {
           "color": "#f2f5fa"
          },
          "geo": {
           "bgcolor": "rgb(17,17,17)",
           "lakecolor": "rgb(17,17,17)",
           "landcolor": "rgb(17,17,17)",
           "showlakes": true,
           "showland": true,
           "subunitcolor": "#506784"
          },
          "hoverlabel": {
           "align": "left"
          },
          "hovermode": "closest",
          "mapbox": {
           "style": "dark"
          },
          "paper_bgcolor": "rgb(17,17,17)",
          "plot_bgcolor": "rgb(17,17,17)",
          "polar": {
           "angularaxis": {
            "gridcolor": "#506784",
            "linecolor": "#506784",
            "ticks": ""
           },
           "bgcolor": "rgb(17,17,17)",
           "radialaxis": {
            "gridcolor": "#506784",
            "linecolor": "#506784",
            "ticks": ""
           }
          },
          "scene": {
           "xaxis": {
            "backgroundcolor": "rgb(17,17,17)",
            "gridcolor": "#506784",
            "gridwidth": 2,
            "linecolor": "#506784",
            "showbackground": true,
            "ticks": "",
            "zerolinecolor": "#C8D4E3"
           },
           "yaxis": {
            "backgroundcolor": "rgb(17,17,17)",
            "gridcolor": "#506784",
            "gridwidth": 2,
            "linecolor": "#506784",
            "showbackground": true,
            "ticks": "",
            "zerolinecolor": "#C8D4E3"
           },
           "zaxis": {
            "backgroundcolor": "rgb(17,17,17)",
            "gridcolor": "#506784",
            "gridwidth": 2,
            "linecolor": "#506784",
            "showbackground": true,
            "ticks": "",
            "zerolinecolor": "#C8D4E3"
           }
          },
          "shapedefaults": {
           "line": {
            "color": "#f2f5fa"
           }
          },
          "sliderdefaults": {
           "bgcolor": "#C8D4E3",
           "bordercolor": "rgb(17,17,17)",
           "borderwidth": 1,
           "tickwidth": 0
          },
          "ternary": {
           "aaxis": {
            "gridcolor": "#506784",
            "linecolor": "#506784",
            "ticks": ""
           },
           "baxis": {
            "gridcolor": "#506784",
            "linecolor": "#506784",
            "ticks": ""
           },
           "bgcolor": "rgb(17,17,17)",
           "caxis": {
            "gridcolor": "#506784",
            "linecolor": "#506784",
            "ticks": ""
           }
          },
          "title": {
           "x": 0.05
          },
          "updatemenudefaults": {
           "bgcolor": "#506784",
           "borderwidth": 0
          },
          "xaxis": {
           "automargin": true,
           "gridcolor": "#283442",
           "linecolor": "#506784",
           "ticks": "",
           "title": {
            "standoff": 15
           },
           "zerolinecolor": "#283442",
           "zerolinewidth": 2
          },
          "yaxis": {
           "automargin": true,
           "gridcolor": "#283442",
           "linecolor": "#506784",
           "ticks": "",
           "title": {
            "standoff": 15
           },
           "zerolinecolor": "#283442",
           "zerolinewidth": 2
          }
         }
        },
        "title": {
         "text": "Predicción de OT usando Prophet con IC"
        },
        "xaxis": {
         "title": {
          "text": "Fecha"
         }
        },
        "yaxis": {
         "title": {
          "text": "OT"
         }
        }
       }
      }
     },
     "metadata": {},
     "output_type": "display_data"
    },
    {
     "name": "stdout",
     "output_type": "stream",
     "text": [
      "\n",
      "--- Pronósticos Prophet para OT (1 semana) ---\n",
      "                     OT_Predicho_Prophet\n",
      "Fecha                                   \n",
      "2024-07-11 14:00:00            48.857258\n",
      "2024-07-11 16:00:00            49.191615\n",
      "2024-07-11 18:00:00            49.525973\n",
      "2024-07-11 20:00:00            49.860331\n",
      "2024-07-11 22:00:00            50.194688\n",
      "...                                  ...\n",
      "2024-07-18 04:00:00            75.271506\n",
      "2024-07-18 06:00:00            75.605863\n",
      "2024-07-18 08:00:00            75.940221\n",
      "2024-07-18 10:00:00            76.274578\n",
      "2024-07-18 12:00:00            76.608936\n",
      "\n",
      "[84 rows x 1 columns]\n",
      "\n",
      "--- Métricas de error en datos no entrenados ---\n",
      "Prophet RMSE: 6.895055553016254\n",
      "Prophet MAE: 5.8230730073275065\n",
      "Naive RMSE: 7.024041346199312\n",
      "Naive MAE: 5.549870872497559\n"
     ]
    }
   ],
   "source": [
    "import numpy as np\n",
    "import pandas as pd\n",
    "from prophet import Prophet\n",
    "from sklearn.metrics import mean_squared_error, mean_absolute_error\n",
    "from math import sqrt\n",
    "import plotly.graph_objects as go\n",
    "from datetime import datetime\n",
    "\n",
    "# Cargar datos\n",
    "data = pd.read_csv(\"https://huggingface.co/datasets/pkr7098/time-series-forecasting-datasets/resolve/main/ETTh2.csv\")\n",
    "data['date'] = pd.to_datetime(data['date'])\n",
    "data = data.head(168)  # Limitamos a 168 filas originales\n",
    "data.set_index('date', inplace=True)\n",
    "data_2h = data.resample('2H').mean()\n",
    "ot_data = data_2h[['OT']].dropna()\n",
    "\n",
    "# Crear un nuevo índice de fechas comenzando el 04/07/2024 a las 14:00\n",
    "start_date = pd.Timestamp('2024-07-04 14:00:00')\n",
    "new_dates = pd.date_range(start=start_date, periods=len(ot_data), freq='2H')\n",
    "ot_data.index = new_dates\n",
    "\n",
    "# Preparar datos para Prophet (requiere columnas 'ds' y 'y')\n",
    "ot_data_prophet = ot_data.reset_index()\n",
    "ot_data_prophet.columns = ['ds', 'y']\n",
    "\n",
    "# Tomar los primeros 24 puntos como datos históricos (48 horas)\n",
    "train_size = 24\n",
    "train = ot_data_prophet.iloc[:train_size]\n",
    "\n",
    "# Entrenar el modelo de Prophet\n",
    "model = Prophet()\n",
    "model.fit(train)\n",
    "\n",
    "# Pronosticar desde el final de los datos históricos (24 puntos) hasta completar el resto\n",
    "future_periods = len(ot_data_prophet) - train_size + 84  # Resto de datos + 1 semana (84 puntos)\n",
    "future = model.make_future_dataframe(periods=future_periods, freq='2H')\n",
    "forecast = model.predict(future)\n",
    "\n",
    "# Filtrar las predicciones: datos históricos (train) y pronóstico futuro\n",
    "forecast_historical = forecast.iloc[:train_size]  # Predicciones sobre datos históricos\n",
    "forecast_future = forecast.iloc[train_size:]      # Pronóstico futuro\n",
    "\n",
    "# Calcular métricas de error para Prophet en el conjunto de datos no entrenados\n",
    "test = ot_data_prophet.iloc[train_size:]\n",
    "forecast_test = forecast.iloc[train_size:train_size + len(test)]\n",
    "rmse_prophet = sqrt(mean_squared_error(test['y'], forecast_test['yhat']))\n",
    "mae_prophet = mean_absolute_error(test['y'], forecast_test['yhat'])\n",
    "\n",
    "# Calcular pronóstico Naive (último valor histórico repetido)\n",
    "naive_forecast = np.full(len(test), train['y'].iloc[-1])\n",
    "rmse_naive = sqrt(mean_squared_error(test['y'], naive_forecast))\n",
    "mae_naive = mean_absolute_error(test['y'], naive_forecast)\n",
    "\n",
    "# Filtrar el pronóstico de una semana desde el final de los datos originales\n",
    "forecast_1week = forecast.iloc[-84:]\n",
    "forecast_df = forecast_1week[['ds', 'yhat']].rename(columns={'ds': 'Fecha', 'yhat': 'OT_Predicho_Prophet'}).set_index('Fecha')\n",
    "\n",
    "# --- Visualización con Plotly ---\n",
    "fig = go.Figure()\n",
    "\n",
    "# Datos históricos (24 puntos desde 04/07 14:00)\n",
    "fig.add_trace(go.Scatter(\n",
    "    x=train['ds'],\n",
    "    y=train['y'],\n",
    "    mode='lines',\n",
    "    name='OT Histórico',\n",
    "    line=dict(color='blue')\n",
    "))\n",
    "\n",
    "# Predicciones sobre datos históricos\n",
    "fig.add_trace(go.Scatter(\n",
    "    x=forecast_historical['ds'],\n",
    "    y=forecast_historical['yhat'],\n",
    "    mode='lines',\n",
    "    name='OT Predicho (Histórico)',\n",
    "    line=dict(color='green', dash='dash')\n",
    "))\n",
    "\n",
    "# Pronóstico futuro (resto + 1 semana)\n",
    "fig.add_trace(go.Scatter(\n",
    "    x=forecast_future['ds'],\n",
    "    y=forecast_future['yhat'],\n",
    "    mode='lines',\n",
    "    name='OT Predicho (Futuro)',\n",
    "    line=dict(color='red')\n",
    "))\n",
    "\n",
    "# Intervalos de confianza (95%) para el pronóstico futuro\n",
    "fig.add_trace(go.Scatter(\n",
    "    x=forecast_future['ds'],\n",
    "    y=forecast_future['yhat_upper'],\n",
    "    mode='lines',\n",
    "    name='Límite Superior (95% IC)',\n",
    "    line=dict(color='gray', width=0.5)\n",
    "))\n",
    "\n",
    "fig.add_trace(go.Scatter(\n",
    "    x=forecast_future['ds'],\n",
    "    y=forecast_future['yhat_lower'],\n",
    "    mode='lines',\n",
    "    name='Límite Inferior (95% IC)',\n",
    "    line=dict(color='gray', width=0.5),\n",
    "    fill='tonexty',  # Rellena el área entre los límites\n",
    "    fillcolor='rgba(200, 100, 200, 0.1)'  # Color del relleno con transparencia\n",
    "))\n",
    "\n",
    "\n",
    "\n",
    "# Personalizar la gráfica\n",
    "fig.update_layout(\n",
    "    title='Predicción de OT usando Prophet con IC',\n",
    "    xaxis_title='Fecha',\n",
    "    yaxis_title='OT',\n",
    "    hovermode='x unified',\n",
    "    template=\"plotly_dark\",\n",
    "    showlegend=True\n",
    ")\n",
    "\n",
    "# Mostrar la gráfica\n",
    "fig.show()\n",
    "\n",
    "# Mostrar los pronósticos de la próxima semana\n",
    "print(\"\\n--- Pronósticos Prophet para OT (1 semana) ---\")\n",
    "print(forecast_df)\n",
    "\n",
    "# Comparar métricas\n",
    "print(\"\\n--- Métricas de error en datos no entrenados ---\")\n",
    "print(f\"Prophet RMSE: {rmse_prophet}\")\n",
    "print(f\"Prophet MAE: {mae_prophet}\")\n",
    "print(f\"Naive RMSE: {rmse_naive}\")\n",
    "print(f\"Naive MAE: {mae_naive}\")"
   ]
  },
  {
   "cell_type": "code",
   "execution_count": 21,
   "metadata": {},
   "outputs": [
    {
     "name": "stdout",
     "output_type": "stream",
     "text": [
      "Resultados de la prueba de Dickey-Fuller para columna: HUFL\n",
      "Test Statistic                        -3.046248\n",
      "p-value                                0.030795\n",
      "No Lags Used                           0.000000\n",
      "Número de observaciones utilizadas    66.000000\n",
      "Critical Value (1%)                   -3.533560\n",
      "Critical Value (5%)                   -2.906444\n",
      "Critical Value (10%)                  -2.590724\n",
      "dtype: float64\n",
      "Conclusión: Los datos son estacionarios\n",
      "Performing stepwise search to minimize aic\n",
      " ARIMA(0,0,0)(0,0,0)[0]             : AIC=245.245, Time=0.03 sec\n",
      " ARIMA(1,0,0)(0,0,0)[0]             : AIC=inf, Time=0.06 sec\n",
      " ARIMA(0,0,1)(0,0,0)[0]             : AIC=inf, Time=0.11 sec\n",
      " ARIMA(1,0,1)(0,0,0)[0]             : AIC=110.342, Time=0.10 sec\n",
      " ARIMA(2,0,1)(0,0,0)[0]             : AIC=inf, Time=0.32 sec\n",
      " ARIMA(1,0,2)(0,0,0)[0]             : AIC=inf, Time=0.15 sec\n",
      " ARIMA(0,0,2)(0,0,0)[0]             : AIC=inf, Time=0.06 sec\n",
      " ARIMA(2,0,0)(0,0,0)[0]             : AIC=inf, Time=0.06 sec\n",
      " ARIMA(2,0,2)(0,0,0)[0]             : AIC=inf, Time=0.20 sec\n",
      " ARIMA(1,0,1)(0,0,0)[0] intercept   : AIC=99.274, Time=0.15 sec\n",
      " ARIMA(0,0,1)(0,0,0)[0] intercept   : AIC=98.124, Time=0.03 sec\n",
      " ARIMA(0,0,0)(0,0,0)[0] intercept   : AIC=101.157, Time=0.01 sec\n",
      " ARIMA(0,0,2)(0,0,0)[0] intercept   : AIC=98.812, Time=0.05 sec\n",
      " ARIMA(1,0,0)(0,0,0)[0] intercept   : AIC=97.404, Time=0.03 sec\n",
      " ARIMA(2,0,0)(0,0,0)[0] intercept   : AIC=99.154, Time=0.09 sec\n",
      " ARIMA(2,0,1)(0,0,0)[0] intercept   : AIC=101.109, Time=0.26 sec\n",
      "\n",
      "Best model:  ARIMA(1,0,0)(0,0,0)[0] intercept\n",
      "Total fit time: 1.712 seconds\n"
     ]
    },
    {
     "data": {
      "application/vnd.plotly.v1+json": {
       "config": {
        "plotlyServerURL": "https://plot.ly"
       },
       "data": [
        {
         "line": {
          "color": "blue"
         },
         "mode": "lines",
         "name": "HUFL Histórico",
         "type": "scatter",
         "x": [
          "2016-07-04T14:00:00.000000000",
          "2016-07-04T16:00:00.000000000",
          "2016-07-04T18:00:00.000000000",
          "2016-07-04T20:00:00.000000000",
          "2016-07-04T22:00:00.000000000",
          "2016-07-05T00:00:00.000000000",
          "2016-07-05T02:00:00.000000000",
          "2016-07-05T04:00:00.000000000",
          "2016-07-05T06:00:00.000000000",
          "2016-07-05T08:00:00.000000000",
          "2016-07-05T10:00:00.000000000",
          "2016-07-05T12:00:00.000000000",
          "2016-07-05T14:00:00.000000000",
          "2016-07-05T16:00:00.000000000",
          "2016-07-05T18:00:00.000000000",
          "2016-07-05T20:00:00.000000000",
          "2016-07-05T22:00:00.000000000",
          "2016-07-06T00:00:00.000000000",
          "2016-07-06T02:00:00.000000000",
          "2016-07-06T04:00:00.000000000",
          "2016-07-06T06:00:00.000000000",
          "2016-07-06T08:00:00.000000000",
          "2016-07-06T10:00:00.000000000",
          "2016-07-06T12:00:00.000000000",
          "2016-07-06T14:00:00.000000000",
          "2016-07-06T16:00:00.000000000",
          "2016-07-06T18:00:00.000000000",
          "2016-07-06T20:00:00.000000000",
          "2016-07-06T22:00:00.000000000",
          "2016-07-07T00:00:00.000000000",
          "2016-07-07T02:00:00.000000000",
          "2016-07-07T04:00:00.000000000",
          "2016-07-07T06:00:00.000000000",
          "2016-07-07T08:00:00.000000000",
          "2016-07-07T10:00:00.000000000",
          "2016-07-07T12:00:00.000000000",
          "2016-07-07T14:00:00.000000000",
          "2016-07-07T16:00:00.000000000",
          "2016-07-07T18:00:00.000000000",
          "2016-07-07T20:00:00.000000000",
          "2016-07-07T22:00:00.000000000",
          "2016-07-08T00:00:00.000000000",
          "2016-07-08T02:00:00.000000000",
          "2016-07-08T04:00:00.000000000",
          "2016-07-08T06:00:00.000000000",
          "2016-07-08T08:00:00.000000000",
          "2016-07-08T10:00:00.000000000",
          "2016-07-08T12:00:00.000000000",
          "2016-07-08T14:00:00.000000000",
          "2016-07-08T16:00:00.000000000",
          "2016-07-08T18:00:00.000000000",
          "2016-07-08T20:00:00.000000000",
          "2016-07-08T22:00:00.000000000",
          "2016-07-09T00:00:00.000000000",
          "2016-07-09T02:00:00.000000000",
          "2016-07-09T04:00:00.000000000",
          "2016-07-09T06:00:00.000000000",
          "2016-07-09T08:00:00.000000000",
          "2016-07-09T10:00:00.000000000",
          "2016-07-09T12:00:00.000000000",
          "2016-07-09T14:00:00.000000000",
          "2016-07-09T16:00:00.000000000",
          "2016-07-09T18:00:00.000000000",
          "2016-07-09T20:00:00.000000000",
          "2016-07-09T22:00:00.000000000",
          "2016-07-10T00:00:00.000000000",
          "2016-07-10T02:00:00.000000000",
          "2016-07-10T04:00:00.000000000",
          "2016-07-10T06:00:00.000000000",
          "2016-07-10T08:00:00.000000000",
          "2016-07-10T10:00:00.000000000",
          "2016-07-10T12:00:00.000000000",
          "2016-07-10T14:00:00.000000000",
          "2016-07-10T16:00:00.000000000",
          "2016-07-10T18:00:00.000000000",
          "2016-07-10T20:00:00.000000000",
          "2016-07-10T22:00:00.000000000",
          "2016-07-11T00:00:00.000000000",
          "2016-07-11T02:00:00.000000000",
          "2016-07-11T04:00:00.000000000",
          "2016-07-11T06:00:00.000000000",
          "2016-07-11T08:00:00.000000000",
          "2016-07-11T10:00:00.000000000",
          "2016-07-11T12:00:00.000000000",
          "2016-07-11T14:00:00.000000000",
          "2016-07-11T16:00:00.000000000",
          "2016-07-11T18:00:00.000000000",
          "2016-07-11T20:00:00.000000000",
          "2016-07-11T22:00:00.000000000",
          "2016-07-12T00:00:00.000000000",
          "2016-07-12T02:00:00.000000000",
          "2016-07-12T04:00:00.000000000",
          "2016-07-12T06:00:00.000000000",
          "2016-07-12T08:00:00.000000000",
          "2016-07-12T10:00:00.000000000",
          "2016-07-12T12:00:00.000000000",
          "2016-07-12T14:00:00.000000000",
          "2016-07-12T16:00:00.000000000",
          "2016-07-12T18:00:00.000000000",
          "2016-07-12T20:00:00.000000000",
          "2016-07-12T22:00:00.000000000",
          "2016-07-13T00:00:00.000000000",
          "2016-07-13T02:00:00.000000000",
          "2016-07-13T04:00:00.000000000",
          "2016-07-13T06:00:00.000000000",
          "2016-07-13T08:00:00.000000000",
          "2016-07-13T10:00:00.000000000",
          "2016-07-13T12:00:00.000000000"
         ],
         "y": {
          "bdata": "AAAA0MykQ0AAAAAwXJ9DQAAAABACW0RAAAAAcBJrREAAAABwEmNCQAAAALCbfEFAAAAAcBAoQkAAAACA6UZBQAAAADAKX0NAAAAAgEFIQkAAAAAw3/9DQAAAAMB29kRAAAAA0KOQREABAAAArJRDQAAAAEC200JAAAAAULgeQ0AAAAAQWBlDQAAAAMDKaUNAAAAAENfzQkAAAABQN/lCQAAAALCdz0NAAAAAsMguQ0AAAABAYB1CQAEAAADX80JAAAAAAAAA+H8AAAAAAAD4fwAAAAAAAPh/AAAAAAAA+H8AAAAAAAD4fwAAAAAAAPh/AAAAAAAA+H8AAAAAAAD4fwAAAAAAAPh/AAAAAAAA+H8AAAAAAAD4fwAAAAAAAPh/AAAAAAAA+H8AAAAAAAD4fwAAAAAAAPh/AAAAAAAA+H8AAAAAAAD4fwAAAAAAAPh/AAAAAAAA+H8AAAAAAAD4fwAAAAAAAPh/AAAAAAAA+H8AAAAAAAD4fwAAAAAAAPh/AAAAAAAA+H8AAAAAAAD4fwAAAAAAAPh/AAAAAAAA+H8AAAAAAAD4fwAAAAAAAPh/AAAAAAAA+H8AAAAAAAD4fwAAAAAAAPh/AAAAAAAA+H8AAAAAAAD4fwAAAAAAAPh/AAAAAAAA+H8AAAAAAAD4fwAAAAAAAPh/AAAAAAAA+H8AAAAAAAD4fwAAAAAAAPh/AAAAAAAA+H8AAAAAAAD4fwAAAAAAAPh/AAAAAAAA+H8AAAAAAAD4fwAAAAAAAPh/AAAAAAAA+H8AAAAAAAD4fwAAAAAAAPh/AAAAAAAA+H8AAAAAAAD4fwAAAAAAAPh/AAAAAAAA+H8AAAAAAAD4fwAAAAAAAPh/AAAAAAAA+H8AAAAAAAD4fwAAAAAAAPh/AAAAAAAA+H8AAAAAAAD4fwAAAAAAAPh/AAAAAAAA+H8AAAAAAAD4fwAAAAAAAPh/AAAAAAAA+H8AAAAAAAD4fwAAAAAAAPh/AAAAAAAA+H8AAAAAAAD4fwAAAAAAAPh/AAAAAAAA+H8AAAAAAAD4fwAAAAAAAPh/AAAAAAAA+H8AAAAAAAD4fwAAAAAAAPh/AAAAAAAA+H8AAAAAAAD4fwAAAAAAAPh/AAAAAAAA+H8AAAAAAAD4fwAAAAAAAPh/",
          "dtype": "f8"
         }
        },
        {
         "line": {
          "color": "green",
          "dash": "dash"
         },
         "mode": "lines",
         "name": "HUFL Predicho (Actual)",
         "type": "scatter",
         "x": [
          "2016-07-04T14:00:00.000000000",
          "2016-07-04T16:00:00.000000000",
          "2016-07-04T18:00:00.000000000",
          "2016-07-04T20:00:00.000000000",
          "2016-07-04T22:00:00.000000000",
          "2016-07-05T00:00:00.000000000",
          "2016-07-05T02:00:00.000000000",
          "2016-07-05T04:00:00.000000000",
          "2016-07-05T06:00:00.000000000",
          "2016-07-05T08:00:00.000000000",
          "2016-07-05T10:00:00.000000000",
          "2016-07-05T12:00:00.000000000",
          "2016-07-05T14:00:00.000000000",
          "2016-07-05T16:00:00.000000000",
          "2016-07-05T18:00:00.000000000",
          "2016-07-05T20:00:00.000000000",
          "2016-07-05T22:00:00.000000000",
          "2016-07-06T00:00:00.000000000",
          "2016-07-06T02:00:00.000000000",
          "2016-07-06T04:00:00.000000000",
          "2016-07-06T06:00:00.000000000",
          "2016-07-06T08:00:00.000000000",
          "2016-07-06T10:00:00.000000000",
          "2016-07-06T12:00:00.000000000"
         ],
         "y": {
          "bdata": "5GvVQDYyQ0APRUByHGhDQCSsh2SNZUNAtHQ2ING9Q0CcHSh6X8VDQB4/omLH0EJASgwJ819kQkAEGyrtBbVCQAzKJhweS0JAxbPlOUxHQ0Aoz1RNKsRCQIKyzefykkNA2TytbPAGREBYCMQ7C9dDQI7t+VyGYENA/pwu+8IFQ0CuB1EeCylDQDh3ZsSDJkNA0npB9VpMQ0DzlJi23xRDQGglgxBnF0NAVK8qJkB8Q0CWsEJ4mTBDQG5cnOX+r0JA",
          "dtype": "f8"
         }
        },
        {
         "line": {
          "color": "red"
         },
         "mode": "lines",
         "name": "HUFL Predicho (Futuro)",
         "type": "scatter",
         "x": [
          "2016-07-06T14:00:00.000000000",
          "2016-07-06T16:00:00.000000000",
          "2016-07-06T18:00:00.000000000",
          "2016-07-06T20:00:00.000000000",
          "2016-07-06T22:00:00.000000000",
          "2016-07-07T00:00:00.000000000",
          "2016-07-07T02:00:00.000000000",
          "2016-07-07T04:00:00.000000000",
          "2016-07-07T06:00:00.000000000",
          "2016-07-07T08:00:00.000000000",
          "2016-07-07T10:00:00.000000000",
          "2016-07-07T12:00:00.000000000",
          "2016-07-07T14:00:00.000000000",
          "2016-07-07T16:00:00.000000000",
          "2016-07-07T18:00:00.000000000",
          "2016-07-07T20:00:00.000000000",
          "2016-07-07T22:00:00.000000000",
          "2016-07-08T00:00:00.000000000",
          "2016-07-08T02:00:00.000000000",
          "2016-07-08T04:00:00.000000000",
          "2016-07-08T06:00:00.000000000",
          "2016-07-08T08:00:00.000000000",
          "2016-07-08T10:00:00.000000000",
          "2016-07-08T12:00:00.000000000",
          "2016-07-08T14:00:00.000000000",
          "2016-07-08T16:00:00.000000000",
          "2016-07-08T18:00:00.000000000",
          "2016-07-08T20:00:00.000000000",
          "2016-07-08T22:00:00.000000000",
          "2016-07-09T00:00:00.000000000",
          "2016-07-09T02:00:00.000000000",
          "2016-07-09T04:00:00.000000000",
          "2016-07-09T06:00:00.000000000",
          "2016-07-09T08:00:00.000000000",
          "2016-07-09T10:00:00.000000000",
          "2016-07-09T12:00:00.000000000",
          "2016-07-09T14:00:00.000000000",
          "2016-07-09T16:00:00.000000000",
          "2016-07-09T18:00:00.000000000",
          "2016-07-09T20:00:00.000000000",
          "2016-07-09T22:00:00.000000000",
          "2016-07-10T00:00:00.000000000",
          "2016-07-10T02:00:00.000000000",
          "2016-07-10T04:00:00.000000000",
          "2016-07-10T06:00:00.000000000",
          "2016-07-10T08:00:00.000000000",
          "2016-07-10T10:00:00.000000000",
          "2016-07-10T12:00:00.000000000",
          "2016-07-10T14:00:00.000000000",
          "2016-07-10T16:00:00.000000000",
          "2016-07-10T18:00:00.000000000",
          "2016-07-10T20:00:00.000000000",
          "2016-07-10T22:00:00.000000000",
          "2016-07-11T00:00:00.000000000",
          "2016-07-11T02:00:00.000000000",
          "2016-07-11T04:00:00.000000000",
          "2016-07-11T06:00:00.000000000",
          "2016-07-11T08:00:00.000000000",
          "2016-07-11T10:00:00.000000000",
          "2016-07-11T12:00:00.000000000",
          "2016-07-11T14:00:00.000000000",
          "2016-07-11T16:00:00.000000000",
          "2016-07-11T18:00:00.000000000",
          "2016-07-11T20:00:00.000000000",
          "2016-07-11T22:00:00.000000000",
          "2016-07-12T00:00:00.000000000",
          "2016-07-12T02:00:00.000000000",
          "2016-07-12T04:00:00.000000000",
          "2016-07-12T06:00:00.000000000",
          "2016-07-12T08:00:00.000000000",
          "2016-07-12T10:00:00.000000000",
          "2016-07-12T12:00:00.000000000",
          "2016-07-12T14:00:00.000000000",
          "2016-07-12T16:00:00.000000000",
          "2016-07-12T18:00:00.000000000",
          "2016-07-12T20:00:00.000000000",
          "2016-07-12T22:00:00.000000000",
          "2016-07-13T00:00:00.000000000",
          "2016-07-13T02:00:00.000000000",
          "2016-07-13T04:00:00.000000000",
          "2016-07-13T06:00:00.000000000",
          "2016-07-13T08:00:00.000000000",
          "2016-07-13T10:00:00.000000000",
          "2016-07-13T12:00:00.000000000"
         ],
         "y": {
          "bdata": "0O4Rr98UQ0AWpGd7aSRDQGyyNIi4K0NAEAm+nygvQ0AK2YGYxjBDQK16JVGJMUNABFmd6OQxQ0CeZa39DzJDQP8rdEEkMkNA1S+lyS0yQ0A4NnJFMjJDQIRMV2E0MkNA+wpLXzUyQ0Cg1L7WNTJDQO2+7g42MkNAJ45cKTYyQ0DmAss1NjJDQCH0ozs2MkNARxNkPjYyQ0B8Rq8/NjJDQB8QS0A2MkNAYVeUQDYyQ0A8z7ZANjJDQL0Fx0A2MkNABqbOQDYyQ0BUPNJANjJDQEbs00A2MkNAcrfUQDYyQ0AEF9VANjJDQPhD1UA2MkNAHVnVQDYyQ0APY9VANjJDQLxn1UA2MkNA8GnVQDYyQ0D5atVANjJDQHZr1UA2MkNAsGvVQDYyQ0DMa9VANjJDQNlr1UA2MkNA32vVQDYyQ0Dia9VANjJDQONr1UA2MkNA5GvVQDYyQ0Dka9VANjJDQORr1UA2MkNA5GvVQDYyQ0Dka9VANjJDQORr1UA2MkNA5GvVQDYyQ0Dka9VANjJDQORr1UA2MkNA5GvVQDYyQ0Dka9VANjJDQORr1UA2MkNA5GvVQDYyQ0Dka9VANjJDQORr1UA2MkNA5GvVQDYyQ0Dka9VANjJDQORr1UA2MkNA5GvVQDYyQ0Dka9VANjJDQORr1UA2MkNA5GvVQDYyQ0Dka9VANjJDQORr1UA2MkNA5GvVQDYyQ0Dka9VANjJDQORr1UA2MkNA5GvVQDYyQ0Dka9VANjJDQORr1UA2MkNA5GvVQDYyQ0Dka9VANjJDQORr1UA2MkNA5GvVQDYyQ0Dka9VANjJDQORr1UA2MkNA5GvVQDYyQ0Dka9VANjJDQORr1UA2MkNA5GvVQDYyQ0Dka9VANjJDQORr1UA2MkNA",
          "dtype": "f8"
         }
        },
        {
         "line": {
          "color": "gray",
          "width": 0.5
         },
         "mode": "lines",
         "name": "Límite Superior (95% IC)",
         "type": "scatter",
         "x": [
          "2016-07-06T14:00:00.000000000",
          "2016-07-06T16:00:00.000000000",
          "2016-07-06T18:00:00.000000000",
          "2016-07-06T20:00:00.000000000",
          "2016-07-06T22:00:00.000000000",
          "2016-07-07T00:00:00.000000000",
          "2016-07-07T02:00:00.000000000",
          "2016-07-07T04:00:00.000000000",
          "2016-07-07T06:00:00.000000000",
          "2016-07-07T08:00:00.000000000",
          "2016-07-07T10:00:00.000000000",
          "2016-07-07T12:00:00.000000000",
          "2016-07-07T14:00:00.000000000",
          "2016-07-07T16:00:00.000000000",
          "2016-07-07T18:00:00.000000000",
          "2016-07-07T20:00:00.000000000",
          "2016-07-07T22:00:00.000000000",
          "2016-07-08T00:00:00.000000000",
          "2016-07-08T02:00:00.000000000",
          "2016-07-08T04:00:00.000000000",
          "2016-07-08T06:00:00.000000000",
          "2016-07-08T08:00:00.000000000",
          "2016-07-08T10:00:00.000000000",
          "2016-07-08T12:00:00.000000000",
          "2016-07-08T14:00:00.000000000",
          "2016-07-08T16:00:00.000000000",
          "2016-07-08T18:00:00.000000000",
          "2016-07-08T20:00:00.000000000",
          "2016-07-08T22:00:00.000000000",
          "2016-07-09T00:00:00.000000000",
          "2016-07-09T02:00:00.000000000",
          "2016-07-09T04:00:00.000000000",
          "2016-07-09T06:00:00.000000000",
          "2016-07-09T08:00:00.000000000",
          "2016-07-09T10:00:00.000000000",
          "2016-07-09T12:00:00.000000000",
          "2016-07-09T14:00:00.000000000",
          "2016-07-09T16:00:00.000000000",
          "2016-07-09T18:00:00.000000000",
          "2016-07-09T20:00:00.000000000",
          "2016-07-09T22:00:00.000000000",
          "2016-07-10T00:00:00.000000000",
          "2016-07-10T02:00:00.000000000",
          "2016-07-10T04:00:00.000000000",
          "2016-07-10T06:00:00.000000000",
          "2016-07-10T08:00:00.000000000",
          "2016-07-10T10:00:00.000000000",
          "2016-07-10T12:00:00.000000000",
          "2016-07-10T14:00:00.000000000",
          "2016-07-10T16:00:00.000000000",
          "2016-07-10T18:00:00.000000000",
          "2016-07-10T20:00:00.000000000",
          "2016-07-10T22:00:00.000000000",
          "2016-07-11T00:00:00.000000000",
          "2016-07-11T02:00:00.000000000",
          "2016-07-11T04:00:00.000000000",
          "2016-07-11T06:00:00.000000000",
          "2016-07-11T08:00:00.000000000",
          "2016-07-11T10:00:00.000000000",
          "2016-07-11T12:00:00.000000000",
          "2016-07-11T14:00:00.000000000",
          "2016-07-11T16:00:00.000000000",
          "2016-07-11T18:00:00.000000000",
          "2016-07-11T20:00:00.000000000",
          "2016-07-11T22:00:00.000000000",
          "2016-07-12T00:00:00.000000000",
          "2016-07-12T02:00:00.000000000",
          "2016-07-12T04:00:00.000000000",
          "2016-07-12T06:00:00.000000000",
          "2016-07-12T08:00:00.000000000",
          "2016-07-12T10:00:00.000000000",
          "2016-07-12T12:00:00.000000000",
          "2016-07-12T14:00:00.000000000",
          "2016-07-12T16:00:00.000000000",
          "2016-07-12T18:00:00.000000000",
          "2016-07-12T20:00:00.000000000",
          "2016-07-12T22:00:00.000000000",
          "2016-07-13T00:00:00.000000000",
          "2016-07-13T02:00:00.000000000",
          "2016-07-13T04:00:00.000000000",
          "2016-07-13T06:00:00.000000000",
          "2016-07-13T08:00:00.000000000",
          "2016-07-13T10:00:00.000000000",
          "2016-07-13T12:00:00.000000000"
         ],
         "y": {
          "bdata": "FubnDViqRECoRNOBf+REQN+unvWy9ERABJyyvxT6REDov1KNIPxEQM6zTI/7/ERAlskvhlz9REBlv43LiP1EQExLqFKd/URAcLy+6ab9REBFfNdoq/1EQFU/d4Wt/URAHUuUg679REAdOBH7rv1EQAAoQzOv/URAvmmxTa/9REDT9x9ar/1EQKnu+F+v/URADQ+5Yq/9RECIQgRkr/1EQDsMoGSv/URAgFPpZK/9REBcywtlr/1EQN0BHGWv/URAJqIjZa/9REB0OCdlr/1EQGboKGWv/URAkrMpZa/9REAkEyplr/1EQBhAKmWv/URAPVUqZa/9REAvXyplr/1EQNxjKmWv/URAEGYqZa/9REAZZyplr/1EQJZnKmWv/URA0GcqZa/9REDsZyplr/1EQPlnKmWv/URA/2cqZa/9REACaCplr/1EQANoKmWv/URABGgqZa/9REAEaCplr/1EQARoKmWv/URABGgqZa/9REAEaCplr/1EQARoKmWv/URABGgqZa/9REAEaCplr/1EQARoKmWv/URABGgqZa/9REAEaCplr/1EQARoKmWv/URABGgqZa/9REAEaCplr/1EQARoKmWv/URABGgqZa/9REAEaCplr/1EQARoKmWv/URABGgqZa/9REAEaCplr/1EQARoKmWv/URABGgqZa/9REAEaCplr/1EQARoKmWv/URABGgqZa/9REAEaCplr/1EQARoKmWv/URABGgqZa/9REAEaCplr/1EQARoKmWv/URABGgqZa/9REAEaCplr/1EQARoKmWv/URABGgqZa/9REAEaCplr/1EQARoKmWv/URABGgqZa/9REAEaCplr/1EQARoKmWv/URABGgqZa/9REAEaCplr/1EQARoKmWv/URA",
          "dtype": "f8"
         }
        },
        {
         "fill": "tonexty",
         "fillcolor": "rgba(200, 100, 200, 0.1)",
         "line": {
          "color": "gray",
          "width": 0.5
         },
         "mode": "lines",
         "name": "Límite Inferior (95% IC)",
         "type": "scatter",
         "x": [
          "2016-07-06T14:00:00.000000000",
          "2016-07-06T16:00:00.000000000",
          "2016-07-06T18:00:00.000000000",
          "2016-07-06T20:00:00.000000000",
          "2016-07-06T22:00:00.000000000",
          "2016-07-07T00:00:00.000000000",
          "2016-07-07T02:00:00.000000000",
          "2016-07-07T04:00:00.000000000",
          "2016-07-07T06:00:00.000000000",
          "2016-07-07T08:00:00.000000000",
          "2016-07-07T10:00:00.000000000",
          "2016-07-07T12:00:00.000000000",
          "2016-07-07T14:00:00.000000000",
          "2016-07-07T16:00:00.000000000",
          "2016-07-07T18:00:00.000000000",
          "2016-07-07T20:00:00.000000000",
          "2016-07-07T22:00:00.000000000",
          "2016-07-08T00:00:00.000000000",
          "2016-07-08T02:00:00.000000000",
          "2016-07-08T04:00:00.000000000",
          "2016-07-08T06:00:00.000000000",
          "2016-07-08T08:00:00.000000000",
          "2016-07-08T10:00:00.000000000",
          "2016-07-08T12:00:00.000000000",
          "2016-07-08T14:00:00.000000000",
          "2016-07-08T16:00:00.000000000",
          "2016-07-08T18:00:00.000000000",
          "2016-07-08T20:00:00.000000000",
          "2016-07-08T22:00:00.000000000",
          "2016-07-09T00:00:00.000000000",
          "2016-07-09T02:00:00.000000000",
          "2016-07-09T04:00:00.000000000",
          "2016-07-09T06:00:00.000000000",
          "2016-07-09T08:00:00.000000000",
          "2016-07-09T10:00:00.000000000",
          "2016-07-09T12:00:00.000000000",
          "2016-07-09T14:00:00.000000000",
          "2016-07-09T16:00:00.000000000",
          "2016-07-09T18:00:00.000000000",
          "2016-07-09T20:00:00.000000000",
          "2016-07-09T22:00:00.000000000",
          "2016-07-10T00:00:00.000000000",
          "2016-07-10T02:00:00.000000000",
          "2016-07-10T04:00:00.000000000",
          "2016-07-10T06:00:00.000000000",
          "2016-07-10T08:00:00.000000000",
          "2016-07-10T10:00:00.000000000",
          "2016-07-10T12:00:00.000000000",
          "2016-07-10T14:00:00.000000000",
          "2016-07-10T16:00:00.000000000",
          "2016-07-10T18:00:00.000000000",
          "2016-07-10T20:00:00.000000000",
          "2016-07-10T22:00:00.000000000",
          "2016-07-11T00:00:00.000000000",
          "2016-07-11T02:00:00.000000000",
          "2016-07-11T04:00:00.000000000",
          "2016-07-11T06:00:00.000000000",
          "2016-07-11T08:00:00.000000000",
          "2016-07-11T10:00:00.000000000",
          "2016-07-11T12:00:00.000000000",
          "2016-07-11T14:00:00.000000000",
          "2016-07-11T16:00:00.000000000",
          "2016-07-11T18:00:00.000000000",
          "2016-07-11T20:00:00.000000000",
          "2016-07-11T22:00:00.000000000",
          "2016-07-12T00:00:00.000000000",
          "2016-07-12T02:00:00.000000000",
          "2016-07-12T04:00:00.000000000",
          "2016-07-12T06:00:00.000000000",
          "2016-07-12T08:00:00.000000000",
          "2016-07-12T10:00:00.000000000",
          "2016-07-12T12:00:00.000000000",
          "2016-07-12T14:00:00.000000000",
          "2016-07-12T16:00:00.000000000",
          "2016-07-12T18:00:00.000000000",
          "2016-07-12T20:00:00.000000000",
          "2016-07-12T22:00:00.000000000",
          "2016-07-13T00:00:00.000000000",
          "2016-07-13T02:00:00.000000000",
          "2016-07-13T04:00:00.000000000",
          "2016-07-13T06:00:00.000000000",
          "2016-07-13T08:00:00.000000000",
          "2016-07-13T10:00:00.000000000",
          "2016-07-13T12:00:00.000000000"
         ],
         "y": {
          "bdata": "ivc7UGd/QUCEA/x0U2RBQPm1yhq+YkFAHHbJfzxkQUAs8rCjbGVBQIxB/hIXZkFAcugKS21mQUDXC80vl2ZBQLIMQDCrZkFAOqOLqbRmQUAr8AwiuWZBQLNZNz27ZkFA2coBO7xmQUAjcWyyvGZBQNpVmuq8ZkFAkLIHBb1mQUD5DXYRvWZBQJn5The9ZkFAgRcPGr1mQUBwSlobvWZBQAMU9hu9ZkFAQls/HL1mQUAc02EcvWZBQJ0Jchy9ZkFA5ql5HL1mQUA0QH0cvWZBQCbwfhy9ZkFAUrt/HL1mQUDkGoAcvWZBQNhHgBy9ZkFA/VyAHL1mQUDvZoAcvWZBQJxrgBy9ZkFA0G2AHL1mQUDZboAcvWZBQFZvgBy9ZkFAkG+AHL1mQUCsb4AcvWZBQLlvgBy9ZkFAv2+AHL1mQUDCb4AcvWZBQMNvgBy9ZkFAxG+AHL1mQUDEb4AcvWZBQMRvgBy9ZkFAxG+AHL1mQUDEb4AcvWZBQMRvgBy9ZkFAxG+AHL1mQUDEb4AcvWZBQMRvgBy9ZkFAxG+AHL1mQUDEb4AcvWZBQMRvgBy9ZkFAxG+AHL1mQUDEb4AcvWZBQMRvgBy9ZkFAxG+AHL1mQUDEb4AcvWZBQMRvgBy9ZkFAxG+AHL1mQUDEb4AcvWZBQMRvgBy9ZkFAxG+AHL1mQUDEb4AcvWZBQMRvgBy9ZkFAxG+AHL1mQUDEb4AcvWZBQMRvgBy9ZkFAxG+AHL1mQUDEb4AcvWZBQMRvgBy9ZkFAxG+AHL1mQUDEb4AcvWZBQMRvgBy9ZkFAxG+AHL1mQUDEb4AcvWZBQMRvgBy9ZkFAxG+AHL1mQUDEb4AcvWZBQMRvgBy9ZkFAxG+AHL1mQUDEb4AcvWZBQMRvgBy9ZkFA",
          "dtype": "f8"
         }
        }
       ],
       "layout": {
        "hovermode": "x unified",
        "showlegend": true,
        "template": {
         "data": {
          "bar": [
           {
            "error_x": {
             "color": "#f2f5fa"
            },
            "error_y": {
             "color": "#f2f5fa"
            },
            "marker": {
             "line": {
              "color": "rgb(17,17,17)",
              "width": 0.5
             },
             "pattern": {
              "fillmode": "overlay",
              "size": 10,
              "solidity": 0.2
             }
            },
            "type": "bar"
           }
          ],
          "barpolar": [
           {
            "marker": {
             "line": {
              "color": "rgb(17,17,17)",
              "width": 0.5
             },
             "pattern": {
              "fillmode": "overlay",
              "size": 10,
              "solidity": 0.2
             }
            },
            "type": "barpolar"
           }
          ],
          "carpet": [
           {
            "aaxis": {
             "endlinecolor": "#A2B1C6",
             "gridcolor": "#506784",
             "linecolor": "#506784",
             "minorgridcolor": "#506784",
             "startlinecolor": "#A2B1C6"
            },
            "baxis": {
             "endlinecolor": "#A2B1C6",
             "gridcolor": "#506784",
             "linecolor": "#506784",
             "minorgridcolor": "#506784",
             "startlinecolor": "#A2B1C6"
            },
            "type": "carpet"
           }
          ],
          "choropleth": [
           {
            "colorbar": {
             "outlinewidth": 0,
             "ticks": ""
            },
            "type": "choropleth"
           }
          ],
          "contour": [
           {
            "colorbar": {
             "outlinewidth": 0,
             "ticks": ""
            },
            "colorscale": [
             [
              0,
              "#0d0887"
             ],
             [
              0.1111111111111111,
              "#46039f"
             ],
             [
              0.2222222222222222,
              "#7201a8"
             ],
             [
              0.3333333333333333,
              "#9c179e"
             ],
             [
              0.4444444444444444,
              "#bd3786"
             ],
             [
              0.5555555555555556,
              "#d8576b"
             ],
             [
              0.6666666666666666,
              "#ed7953"
             ],
             [
              0.7777777777777778,
              "#fb9f3a"
             ],
             [
              0.8888888888888888,
              "#fdca26"
             ],
             [
              1,
              "#f0f921"
             ]
            ],
            "type": "contour"
           }
          ],
          "contourcarpet": [
           {
            "colorbar": {
             "outlinewidth": 0,
             "ticks": ""
            },
            "type": "contourcarpet"
           }
          ],
          "heatmap": [
           {
            "colorbar": {
             "outlinewidth": 0,
             "ticks": ""
            },
            "colorscale": [
             [
              0,
              "#0d0887"
             ],
             [
              0.1111111111111111,
              "#46039f"
             ],
             [
              0.2222222222222222,
              "#7201a8"
             ],
             [
              0.3333333333333333,
              "#9c179e"
             ],
             [
              0.4444444444444444,
              "#bd3786"
             ],
             [
              0.5555555555555556,
              "#d8576b"
             ],
             [
              0.6666666666666666,
              "#ed7953"
             ],
             [
              0.7777777777777778,
              "#fb9f3a"
             ],
             [
              0.8888888888888888,
              "#fdca26"
             ],
             [
              1,
              "#f0f921"
             ]
            ],
            "type": "heatmap"
           }
          ],
          "histogram": [
           {
            "marker": {
             "pattern": {
              "fillmode": "overlay",
              "size": 10,
              "solidity": 0.2
             }
            },
            "type": "histogram"
           }
          ],
          "histogram2d": [
           {
            "colorbar": {
             "outlinewidth": 0,
             "ticks": ""
            },
            "colorscale": [
             [
              0,
              "#0d0887"
             ],
             [
              0.1111111111111111,
              "#46039f"
             ],
             [
              0.2222222222222222,
              "#7201a8"
             ],
             [
              0.3333333333333333,
              "#9c179e"
             ],
             [
              0.4444444444444444,
              "#bd3786"
             ],
             [
              0.5555555555555556,
              "#d8576b"
             ],
             [
              0.6666666666666666,
              "#ed7953"
             ],
             [
              0.7777777777777778,
              "#fb9f3a"
             ],
             [
              0.8888888888888888,
              "#fdca26"
             ],
             [
              1,
              "#f0f921"
             ]
            ],
            "type": "histogram2d"
           }
          ],
          "histogram2dcontour": [
           {
            "colorbar": {
             "outlinewidth": 0,
             "ticks": ""
            },
            "colorscale": [
             [
              0,
              "#0d0887"
             ],
             [
              0.1111111111111111,
              "#46039f"
             ],
             [
              0.2222222222222222,
              "#7201a8"
             ],
             [
              0.3333333333333333,
              "#9c179e"
             ],
             [
              0.4444444444444444,
              "#bd3786"
             ],
             [
              0.5555555555555556,
              "#d8576b"
             ],
             [
              0.6666666666666666,
              "#ed7953"
             ],
             [
              0.7777777777777778,
              "#fb9f3a"
             ],
             [
              0.8888888888888888,
              "#fdca26"
             ],
             [
              1,
              "#f0f921"
             ]
            ],
            "type": "histogram2dcontour"
           }
          ],
          "mesh3d": [
           {
            "colorbar": {
             "outlinewidth": 0,
             "ticks": ""
            },
            "type": "mesh3d"
           }
          ],
          "parcoords": [
           {
            "line": {
             "colorbar": {
              "outlinewidth": 0,
              "ticks": ""
             }
            },
            "type": "parcoords"
           }
          ],
          "pie": [
           {
            "automargin": true,
            "type": "pie"
           }
          ],
          "scatter": [
           {
            "marker": {
             "line": {
              "color": "#283442"
             }
            },
            "type": "scatter"
           }
          ],
          "scatter3d": [
           {
            "line": {
             "colorbar": {
              "outlinewidth": 0,
              "ticks": ""
             }
            },
            "marker": {
             "colorbar": {
              "outlinewidth": 0,
              "ticks": ""
             }
            },
            "type": "scatter3d"
           }
          ],
          "scattercarpet": [
           {
            "marker": {
             "colorbar": {
              "outlinewidth": 0,
              "ticks": ""
             }
            },
            "type": "scattercarpet"
           }
          ],
          "scattergeo": [
           {
            "marker": {
             "colorbar": {
              "outlinewidth": 0,
              "ticks": ""
             }
            },
            "type": "scattergeo"
           }
          ],
          "scattergl": [
           {
            "marker": {
             "line": {
              "color": "#283442"
             }
            },
            "type": "scattergl"
           }
          ],
          "scattermap": [
           {
            "marker": {
             "colorbar": {
              "outlinewidth": 0,
              "ticks": ""
             }
            },
            "type": "scattermap"
           }
          ],
          "scattermapbox": [
           {
            "marker": {
             "colorbar": {
              "outlinewidth": 0,
              "ticks": ""
             }
            },
            "type": "scattermapbox"
           }
          ],
          "scatterpolar": [
           {
            "marker": {
             "colorbar": {
              "outlinewidth": 0,
              "ticks": ""
             }
            },
            "type": "scatterpolar"
           }
          ],
          "scatterpolargl": [
           {
            "marker": {
             "colorbar": {
              "outlinewidth": 0,
              "ticks": ""
             }
            },
            "type": "scatterpolargl"
           }
          ],
          "scatterternary": [
           {
            "marker": {
             "colorbar": {
              "outlinewidth": 0,
              "ticks": ""
             }
            },
            "type": "scatterternary"
           }
          ],
          "surface": [
           {
            "colorbar": {
             "outlinewidth": 0,
             "ticks": ""
            },
            "colorscale": [
             [
              0,
              "#0d0887"
             ],
             [
              0.1111111111111111,
              "#46039f"
             ],
             [
              0.2222222222222222,
              "#7201a8"
             ],
             [
              0.3333333333333333,
              "#9c179e"
             ],
             [
              0.4444444444444444,
              "#bd3786"
             ],
             [
              0.5555555555555556,
              "#d8576b"
             ],
             [
              0.6666666666666666,
              "#ed7953"
             ],
             [
              0.7777777777777778,
              "#fb9f3a"
             ],
             [
              0.8888888888888888,
              "#fdca26"
             ],
             [
              1,
              "#f0f921"
             ]
            ],
            "type": "surface"
           }
          ],
          "table": [
           {
            "cells": {
             "fill": {
              "color": "#506784"
             },
             "line": {
              "color": "rgb(17,17,17)"
             }
            },
            "header": {
             "fill": {
              "color": "#2a3f5f"
             },
             "line": {
              "color": "rgb(17,17,17)"
             }
            },
            "type": "table"
           }
          ]
         },
         "layout": {
          "annotationdefaults": {
           "arrowcolor": "#f2f5fa",
           "arrowhead": 0,
           "arrowwidth": 1
          },
          "autotypenumbers": "strict",
          "coloraxis": {
           "colorbar": {
            "outlinewidth": 0,
            "ticks": ""
           }
          },
          "colorscale": {
           "diverging": [
            [
             0,
             "#8e0152"
            ],
            [
             0.1,
             "#c51b7d"
            ],
            [
             0.2,
             "#de77ae"
            ],
            [
             0.3,
             "#f1b6da"
            ],
            [
             0.4,
             "#fde0ef"
            ],
            [
             0.5,
             "#f7f7f7"
            ],
            [
             0.6,
             "#e6f5d0"
            ],
            [
             0.7,
             "#b8e186"
            ],
            [
             0.8,
             "#7fbc41"
            ],
            [
             0.9,
             "#4d9221"
            ],
            [
             1,
             "#276419"
            ]
           ],
           "sequential": [
            [
             0,
             "#0d0887"
            ],
            [
             0.1111111111111111,
             "#46039f"
            ],
            [
             0.2222222222222222,
             "#7201a8"
            ],
            [
             0.3333333333333333,
             "#9c179e"
            ],
            [
             0.4444444444444444,
             "#bd3786"
            ],
            [
             0.5555555555555556,
             "#d8576b"
            ],
            [
             0.6666666666666666,
             "#ed7953"
            ],
            [
             0.7777777777777778,
             "#fb9f3a"
            ],
            [
             0.8888888888888888,
             "#fdca26"
            ],
            [
             1,
             "#f0f921"
            ]
           ],
           "sequentialminus": [
            [
             0,
             "#0d0887"
            ],
            [
             0.1111111111111111,
             "#46039f"
            ],
            [
             0.2222222222222222,
             "#7201a8"
            ],
            [
             0.3333333333333333,
             "#9c179e"
            ],
            [
             0.4444444444444444,
             "#bd3786"
            ],
            [
             0.5555555555555556,
             "#d8576b"
            ],
            [
             0.6666666666666666,
             "#ed7953"
            ],
            [
             0.7777777777777778,
             "#fb9f3a"
            ],
            [
             0.8888888888888888,
             "#fdca26"
            ],
            [
             1,
             "#f0f921"
            ]
           ]
          },
          "colorway": [
           "#636efa",
           "#EF553B",
           "#00cc96",
           "#ab63fa",
           "#FFA15A",
           "#19d3f3",
           "#FF6692",
           "#B6E880",
           "#FF97FF",
           "#FECB52"
          ],
          "font": {
           "color": "#f2f5fa"
          },
          "geo": {
           "bgcolor": "rgb(17,17,17)",
           "lakecolor": "rgb(17,17,17)",
           "landcolor": "rgb(17,17,17)",
           "showlakes": true,
           "showland": true,
           "subunitcolor": "#506784"
          },
          "hoverlabel": {
           "align": "left"
          },
          "hovermode": "closest",
          "mapbox": {
           "style": "dark"
          },
          "paper_bgcolor": "rgb(17,17,17)",
          "plot_bgcolor": "rgb(17,17,17)",
          "polar": {
           "angularaxis": {
            "gridcolor": "#506784",
            "linecolor": "#506784",
            "ticks": ""
           },
           "bgcolor": "rgb(17,17,17)",
           "radialaxis": {
            "gridcolor": "#506784",
            "linecolor": "#506784",
            "ticks": ""
           }
          },
          "scene": {
           "xaxis": {
            "backgroundcolor": "rgb(17,17,17)",
            "gridcolor": "#506784",
            "gridwidth": 2,
            "linecolor": "#506784",
            "showbackground": true,
            "ticks": "",
            "zerolinecolor": "#C8D4E3"
           },
           "yaxis": {
            "backgroundcolor": "rgb(17,17,17)",
            "gridcolor": "#506784",
            "gridwidth": 2,
            "linecolor": "#506784",
            "showbackground": true,
            "ticks": "",
            "zerolinecolor": "#C8D4E3"
           },
           "zaxis": {
            "backgroundcolor": "rgb(17,17,17)",
            "gridcolor": "#506784",
            "gridwidth": 2,
            "linecolor": "#506784",
            "showbackground": true,
            "ticks": "",
            "zerolinecolor": "#C8D4E3"
           }
          },
          "shapedefaults": {
           "line": {
            "color": "#f2f5fa"
           }
          },
          "sliderdefaults": {
           "bgcolor": "#C8D4E3",
           "bordercolor": "rgb(17,17,17)",
           "borderwidth": 1,
           "tickwidth": 0
          },
          "ternary": {
           "aaxis": {
            "gridcolor": "#506784",
            "linecolor": "#506784",
            "ticks": ""
           },
           "baxis": {
            "gridcolor": "#506784",
            "linecolor": "#506784",
            "ticks": ""
           },
           "bgcolor": "rgb(17,17,17)",
           "caxis": {
            "gridcolor": "#506784",
            "linecolor": "#506784",
            "ticks": ""
           }
          },
          "title": {
           "x": 0.05
          },
          "updatemenudefaults": {
           "bgcolor": "#506784",
           "borderwidth": 0
          },
          "xaxis": {
           "automargin": true,
           "gridcolor": "#283442",
           "linecolor": "#506784",
           "ticks": "",
           "title": {
            "standoff": 15
           },
           "zerolinecolor": "#283442",
           "zerolinewidth": 2
          },
          "yaxis": {
           "automargin": true,
           "gridcolor": "#283442",
           "linecolor": "#506784",
           "ticks": "",
           "title": {
            "standoff": 15
           },
           "zerolinecolor": "#283442",
           "zerolinewidth": 2
          }
         }
        },
        "title": {
         "text": "Predicción del HUFL utilizando Auto-ARIMA con Intervalo de Confianza del 95%"
        },
        "xaxis": {
         "title": {
          "text": "Fecha"
         }
        },
        "yaxis": {
         "title": {
          "text": "HUFL"
         }
        }
       }
      }
     },
     "metadata": {},
     "output_type": "display_data"
    },
    {
     "name": "stdout",
     "output_type": "stream",
     "text": [
      "RMSE on test set: 6.0298914557522405\n",
      "MAE on test set: 5.377264412847701\n",
      "Naive Forecast RMSE: 3.8989387665752018\n",
      "Naive Forecast MAE: 3.146235858692842\n",
      "Máximo: 48.08249855041504\n",
      "Mínimo: 30.114500045776367\n",
      "Orden ARIMA seleccionado: (1, 0, 0)\n"
     ]
    }
   ],
   "source": [
    "import numpy as np\n",
    "import pandas as pd\n",
    "import plotly.graph_objects as go\n",
    "from pmdarima import auto_arima  # Importamos auto_arima\n",
    "from statsmodels.tsa.stattools import adfuller\n",
    "from sklearn.metrics import mean_squared_error\n",
    "from math import sqrt\n",
    "import warnings\n",
    "warnings.filterwarnings(\"ignore\")\n",
    "from datetime import datetime, timedelta\n",
    "\n",
    "# Cargar datos\n",
    "data = pd.read_csv(\"https://huggingface.co/datasets/pkr7098/time-series-forecasting-datasets/resolve/main/ETTh2.csv\")\n",
    "data['date'] = pd.to_datetime(data['date'])\n",
    "data = data.head(168)\n",
    "data.set_index('date', inplace=True)\n",
    "data_2h = data.resample('2H').mean()\n",
    "hull_data = data_2h[['HUFL']].dropna()  # Usamos HUFL como en el código anterior\n",
    "\n",
    "# Split the data into training and test sets (80% train, 20% test)\n",
    "total_rows = len(hull_data)\n",
    "train_size = int(total_rows * 0.8)\n",
    "test_size = total_rows - train_size\n",
    "train = hull_data['HUFL'][:train_size]\n",
    "test = hull_data['HUFL'][train_size:]\n",
    "\n",
    "# Stationarity Testing (Dickey-Fuller)\n",
    "def dickey_fuller_test(series, column_name):\n",
    "    print(f'Resultados de la prueba de Dickey-Fuller para columna: {column_name}')\n",
    "    dftest = adfuller(series, autolag='AIC')\n",
    "    dfoutput = pd.Series(dftest[0:4], index=['Test Statistic', 'p-value', 'No Lags Used', 'Número de observaciones utilizadas'])\n",
    "    for key, value in dftest[4].items():\n",
    "        dfoutput[f'Critical Value ({key})'] = value\n",
    "    print(dfoutput)\n",
    "    if dftest[1] <= 0.05:\n",
    "        print(\"Conclusión: Los datos son estacionarios\")\n",
    "    else:\n",
    "        print(\"Conclusión: Los datos no son estacionarios\")\n",
    "    return dftest[1]\n",
    "\n",
    "# Get p-value from test\n",
    "p_value = dickey_fuller_test(train, \"HUFL\")\n",
    "\n",
    "# Use the last two days (24 points at 2-hour intervals) for modeling\n",
    "last_two_days = train[-24:]\n",
    "\n",
    "# Fit auto_arima model - Optimiza automáticamente p, d, q\n",
    "model = auto_arima(last_two_days, \n",
    "                   seasonal=False,  # No asumimos estacionalidad\n",
    "                   start_p=0, start_q=0, max_p=5, max_q=5,  # Límites para p y q\n",
    "                   d=None,  # Deja que auto_arima determine d, pero sabemos que es estacionaria\n",
    "                   trace=True,  # Muestra el proceso de selección\n",
    "                   error_action='ignore', \n",
    "                   suppress_warnings=True)\n",
    "model_fit = model.fit(last_two_days)\n",
    "\n",
    "# Forecast for one week (7 days = 7 * 12 = 84 data points at 2-hour intervals)\n",
    "forecast_steps = 84\n",
    "forecast = model.predict(n_periods=forecast_steps)\n",
    "\n",
    "# Confidence intervals from the fitted model\n",
    "forecast_obj = model_fit.predict(n_periods=forecast_steps, return_conf_int=True)\n",
    "forecast, conf_int = forecast_obj[0], forecast_obj[1]\n",
    "ci_lower = conf_int[:, 0]  # Límite inferior\n",
    "ci_upper = conf_int[:, 1]  # Límite superior\n",
    "\n",
    "# Create a date range for the forecast\n",
    "last_date = last_two_days.index[-1]\n",
    "forecast_dates = pd.date_range(start=last_date + timedelta(hours=2), periods=forecast_steps, freq='2H')\n",
    "\n",
    "# Create a DataFrame for the forecast with confidence intervals\n",
    "forecast_ci_df = pd.DataFrame({\n",
    "    'HUFL_Predicho': forecast,\n",
    "    'CI_Lower': ci_lower,\n",
    "    'CI_Upper': ci_upper\n",
    "}, index=forecast_dates)\n",
    "\n",
    "# Combine historical and forecast data\n",
    "historical_pred_df = pd.DataFrame({\n",
    "    'HUFL_Historico': last_two_days,\n",
    "    'HUFL_Predicho': model.predict_in_sample()  # Predicciones en la muestra\n",
    "})\n",
    "\n",
    "combined_df = pd.concat([historical_pred_df, forecast_ci_df], axis=0)\n",
    "\n",
    "# Visualize the results\n",
    "fig = go.Figure()\n",
    "\n",
    "# Add historical values\n",
    "fig.add_trace(go.Scatter(\n",
    "    x=combined_df.index,\n",
    "    y=combined_df['HUFL_Historico'],\n",
    "    mode='lines',\n",
    "    name='HUFL Histórico',\n",
    "    line=dict(color='blue')\n",
    "))\n",
    "\n",
    "# Add predicted values for historical data\n",
    "fig.add_trace(go.Scatter(\n",
    "    x=combined_df.index[:len(last_two_days)],\n",
    "    y=combined_df['HUFL_Predicho'][:len(last_two_days)],\n",
    "    mode='lines',\n",
    "    name='HUFL Predicho (Actual)',\n",
    "    line=dict(color='green', dash='dash')\n",
    "))\n",
    "\n",
    "# Add future forecast\n",
    "fig.add_trace(go.Scatter(\n",
    "    x=forecast_ci_df.index,\n",
    "    y=forecast_ci_df['HUFL_Predicho'],\n",
    "    mode='lines',\n",
    "    name='HUFL Predicho (Futuro)',\n",
    "    line=dict(color='red')\n",
    "))\n",
    "\n",
    "# Add 95% confidence interval\n",
    "fig.add_trace(go.Scatter(\n",
    "    x=forecast_ci_df.index,\n",
    "    y=forecast_ci_df['CI_Upper'],\n",
    "    mode='lines',\n",
    "    name='Límite Superior (95% IC)',\n",
    "    line=dict(color='gray', width=0.5)\n",
    "))\n",
    "\n",
    "fig.add_trace(go.Scatter(\n",
    "    x=forecast_ci_df.index,\n",
    "    y=forecast_ci_df['CI_Lower'],\n",
    "    mode='lines',\n",
    "    name='Límite Inferior (95% IC)',\n",
    "    line=dict(color='gray', width=0.5),\n",
    "    fill='tonexty',\n",
    "    fillcolor='rgba(200, 100, 200, 0.1)'\n",
    "))\n",
    "\n",
    "# Customize the plot\n",
    "fig.update_layout(\n",
    "    title='Predicción del HUFL utilizando Auto-ARIMA con Intervalo de Confianza del 95%',\n",
    "    xaxis_title='Fecha',\n",
    "    yaxis_title='HUFL',\n",
    "    hovermode='x unified',\n",
    "    template=\"plotly_dark\",\n",
    "    showlegend=True\n",
    ")\n",
    "\n",
    "# Show the plot\n",
    "fig.show()\n",
    "\n",
    "# Calculate error metrics on the test set\n",
    "pred_test = model.predict(n_periods=len(test))\n",
    "rmse = sqrt(mean_squared_error(test, pred_test))\n",
    "mae = np.mean(np.abs(test - pred_test))\n",
    "print(f\"RMSE on test set: {rmse}\")\n",
    "print(f\"MAE on test set: {mae}\")\n",
    "\n",
    "# Naive forecast: Use the last value of the training set for all test predictions\n",
    "naive_forecast = np.full_like(test, test.iloc[0])\n",
    "\n",
    "# Calculate error metrics for the naive forecast\n",
    "rmse_naive = sqrt(mean_squared_error(test, naive_forecast))\n",
    "mae_naive = np.mean(np.abs(test - naive_forecast))\n",
    "\n",
    "print(f\"Naive Forecast RMSE: {rmse_naive}\")\n",
    "print(f\"Naive Forecast MAE: {mae_naive}\")\n",
    "\n",
    "# Print maximum and minimum of the series\n",
    "print(f\"Máximo: {hull_data['HUFL'].max()}\")\n",
    "print(f\"Mínimo: {hull_data['HUFL'].min()}\")\n",
    "\n",
    "# Mostrar el orden seleccionado por auto_arima\n",
    "print(f\"Orden ARIMA seleccionado: {model.order}\")"
   ]
  },
  {
   "cell_type": "code",
   "execution_count": 22,
   "metadata": {},
   "outputs": [
    {
     "name": "stdout",
     "output_type": "stream",
     "text": [
      "Resultados de la prueba de Dickey-Fuller para columna: HULL\n",
      "Test Statistic                        -2.917836\n",
      "p-value                                0.043313\n",
      "No Lags Used                           0.000000\n",
      "Número de observaciones utilizadas    66.000000\n",
      "Critical Value (1%)                   -3.533560\n",
      "Critical Value (5%)                   -2.906444\n",
      "Critical Value (10%)                  -2.590724\n",
      "dtype: float64\n",
      "Conclusión: Los datos son estacionarios\n",
      "Performing stepwise search to minimize aic\n",
      " ARIMA(0,0,0)(0,0,0)[0]             : AIC=188.664, Time=0.01 sec\n",
      " ARIMA(1,0,0)(0,0,0)[0]             : AIC=inf, Time=0.03 sec\n",
      " ARIMA(0,0,1)(0,0,0)[0]             : AIC=inf, Time=0.04 sec\n",
      " ARIMA(1,0,1)(0,0,0)[0]             : AIC=77.857, Time=0.05 sec\n",
      " ARIMA(2,0,1)(0,0,0)[0]             : AIC=79.634, Time=0.08 sec\n",
      " ARIMA(1,0,2)(0,0,0)[0]             : AIC=inf, Time=0.18 sec\n",
      " ARIMA(0,0,2)(0,0,0)[0]             : AIC=147.384, Time=0.13 sec\n",
      " ARIMA(2,0,0)(0,0,0)[0]             : AIC=inf, Time=0.06 sec\n",
      " ARIMA(2,0,2)(0,0,0)[0]             : AIC=inf, Time=0.25 sec\n",
      " ARIMA(1,0,1)(0,0,0)[0] intercept   : AIC=69.686, Time=0.14 sec\n",
      " ARIMA(0,0,1)(0,0,0)[0] intercept   : AIC=68.758, Time=0.04 sec\n",
      " ARIMA(0,0,0)(0,0,0)[0] intercept   : AIC=69.325, Time=0.03 sec\n",
      " ARIMA(0,0,2)(0,0,0)[0] intercept   : AIC=67.975, Time=0.07 sec\n",
      " ARIMA(1,0,2)(0,0,0)[0] intercept   : AIC=69.730, Time=0.40 sec\n",
      " ARIMA(0,0,3)(0,0,0)[0] intercept   : AIC=69.510, Time=0.28 sec\n",
      " ARIMA(1,0,3)(0,0,0)[0] intercept   : AIC=inf, Time=0.47 sec\n",
      "\n",
      "Best model:  ARIMA(0,0,2)(0,0,0)[0] intercept\n",
      "Total fit time: 2.274 seconds\n"
     ]
    },
    {
     "data": {
      "application/vnd.plotly.v1+json": {
       "config": {
        "plotlyServerURL": "https://plot.ly"
       },
       "data": [
        {
         "line": {
          "color": "blue"
         },
         "mode": "lines",
         "name": "HULL Histórico",
         "type": "scatter",
         "x": [
          "2016-07-04T14:00:00.000000000",
          "2016-07-04T16:00:00.000000000",
          "2016-07-04T18:00:00.000000000",
          "2016-07-04T20:00:00.000000000",
          "2016-07-04T22:00:00.000000000",
          "2016-07-05T00:00:00.000000000",
          "2016-07-05T02:00:00.000000000",
          "2016-07-05T04:00:00.000000000",
          "2016-07-05T06:00:00.000000000",
          "2016-07-05T08:00:00.000000000",
          "2016-07-05T10:00:00.000000000",
          "2016-07-05T12:00:00.000000000",
          "2016-07-05T14:00:00.000000000",
          "2016-07-05T16:00:00.000000000",
          "2016-07-05T18:00:00.000000000",
          "2016-07-05T20:00:00.000000000",
          "2016-07-05T22:00:00.000000000",
          "2016-07-06T00:00:00.000000000",
          "2016-07-06T02:00:00.000000000",
          "2016-07-06T04:00:00.000000000",
          "2016-07-06T06:00:00.000000000",
          "2016-07-06T08:00:00.000000000",
          "2016-07-06T10:00:00.000000000",
          "2016-07-06T12:00:00.000000000",
          "2016-07-06T14:00:00.000000000",
          "2016-07-06T16:00:00.000000000",
          "2016-07-06T18:00:00.000000000",
          "2016-07-06T20:00:00.000000000",
          "2016-07-06T22:00:00.000000000",
          "2016-07-07T00:00:00.000000000",
          "2016-07-07T02:00:00.000000000",
          "2016-07-07T04:00:00.000000000",
          "2016-07-07T06:00:00.000000000",
          "2016-07-07T08:00:00.000000000",
          "2016-07-07T10:00:00.000000000",
          "2016-07-07T12:00:00.000000000",
          "2016-07-07T14:00:00.000000000",
          "2016-07-07T16:00:00.000000000",
          "2016-07-07T18:00:00.000000000",
          "2016-07-07T20:00:00.000000000",
          "2016-07-07T22:00:00.000000000",
          "2016-07-08T00:00:00.000000000",
          "2016-07-08T02:00:00.000000000",
          "2016-07-08T04:00:00.000000000",
          "2016-07-08T06:00:00.000000000",
          "2016-07-08T08:00:00.000000000",
          "2016-07-08T10:00:00.000000000",
          "2016-07-08T12:00:00.000000000",
          "2016-07-08T14:00:00.000000000",
          "2016-07-08T16:00:00.000000000",
          "2016-07-08T18:00:00.000000000",
          "2016-07-08T20:00:00.000000000",
          "2016-07-08T22:00:00.000000000",
          "2016-07-09T00:00:00.000000000",
          "2016-07-09T02:00:00.000000000",
          "2016-07-09T04:00:00.000000000",
          "2016-07-09T06:00:00.000000000",
          "2016-07-09T08:00:00.000000000",
          "2016-07-09T10:00:00.000000000",
          "2016-07-09T12:00:00.000000000",
          "2016-07-09T14:00:00.000000000",
          "2016-07-09T16:00:00.000000000",
          "2016-07-09T18:00:00.000000000",
          "2016-07-09T20:00:00.000000000",
          "2016-07-09T22:00:00.000000000",
          "2016-07-10T00:00:00.000000000",
          "2016-07-10T02:00:00.000000000",
          "2016-07-10T04:00:00.000000000",
          "2016-07-10T06:00:00.000000000",
          "2016-07-10T08:00:00.000000000",
          "2016-07-10T10:00:00.000000000",
          "2016-07-10T12:00:00.000000000",
          "2016-07-10T14:00:00.000000000",
          "2016-07-10T16:00:00.000000000",
          "2016-07-10T18:00:00.000000000",
          "2016-07-10T20:00:00.000000000",
          "2016-07-10T22:00:00.000000000",
          "2016-07-11T00:00:00.000000000",
          "2016-07-11T02:00:00.000000000",
          "2016-07-11T04:00:00.000000000",
          "2016-07-11T06:00:00.000000000",
          "2016-07-11T08:00:00.000000000",
          "2016-07-11T10:00:00.000000000",
          "2016-07-11T12:00:00.000000000",
          "2016-07-11T14:00:00.000000000",
          "2016-07-11T16:00:00.000000000",
          "2016-07-11T18:00:00.000000000",
          "2016-07-11T20:00:00.000000000",
          "2016-07-11T22:00:00.000000000",
          "2016-07-12T00:00:00.000000000",
          "2016-07-12T02:00:00.000000000",
          "2016-07-12T04:00:00.000000000",
          "2016-07-12T06:00:00.000000000",
          "2016-07-12T08:00:00.000000000",
          "2016-07-12T10:00:00.000000000",
          "2016-07-12T12:00:00.000000000",
          "2016-07-12T14:00:00.000000000",
          "2016-07-12T16:00:00.000000000",
          "2016-07-12T18:00:00.000000000",
          "2016-07-12T20:00:00.000000000",
          "2016-07-12T22:00:00.000000000",
          "2016-07-13T00:00:00.000000000",
          "2016-07-13T02:00:00.000000000",
          "2016-07-13T04:00:00.000000000",
          "2016-07-13T06:00:00.000000000",
          "2016-07-13T08:00:00.000000000",
          "2016-07-13T10:00:00.000000000",
          "2016-07-13T12:00:00.000000000"
         ],
         "y": {
          "bdata": "AAAAwEt3KUAAAAAgBuEoQAAAAPB6dCdAAAAAEAJLKEAAAABQZJskQAAAALCdryNAAAAAoO8HJkAAAABA3+8jQAAAABCDYChAAAAAAKpxJUAAAAAghcsoQAEAAPBToypAAAAAUI23KUAAAAAwCEwpQAAAAFC28yZAAAAAgEEgKEAAAAAAgTUoQAAAAPB+CihAAAAAgL7fJ0AAAADwenQnQAAAAMBLdylAAAAAQAp3KUAAAADwpwYlQAAAADCyXSZAAAAAAAAA+H8AAAAAAAD4fwAAAAAAAPh/AAAAAAAA+H8AAAAAAAD4fwAAAAAAAPh/AAAAAAAA+H8AAAAAAAD4fwAAAAAAAPh/AAAAAAAA+H8AAAAAAAD4fwAAAAAAAPh/AAAAAAAA+H8AAAAAAAD4fwAAAAAAAPh/AAAAAAAA+H8AAAAAAAD4fwAAAAAAAPh/AAAAAAAA+H8AAAAAAAD4fwAAAAAAAPh/AAAAAAAA+H8AAAAAAAD4fwAAAAAAAPh/AAAAAAAA+H8AAAAAAAD4fwAAAAAAAPh/AAAAAAAA+H8AAAAAAAD4fwAAAAAAAPh/AAAAAAAA+H8AAAAAAAD4fwAAAAAAAPh/AAAAAAAA+H8AAAAAAAD4fwAAAAAAAPh/AAAAAAAA+H8AAAAAAAD4fwAAAAAAAPh/AAAAAAAA+H8AAAAAAAD4fwAAAAAAAPh/AAAAAAAA+H8AAAAAAAD4fwAAAAAAAPh/AAAAAAAA+H8AAAAAAAD4fwAAAAAAAPh/AAAAAAAA+H8AAAAAAAD4fwAAAAAAAPh/AAAAAAAA+H8AAAAAAAD4fwAAAAAAAPh/AAAAAAAA+H8AAAAAAAD4fwAAAAAAAPh/AAAAAAAA+H8AAAAAAAD4fwAAAAAAAPh/AAAAAAAA+H8AAAAAAAD4fwAAAAAAAPh/AAAAAAAA+H8AAAAAAAD4fwAAAAAAAPh/AAAAAAAA+H8AAAAAAAD4fwAAAAAAAPh/AAAAAAAA+H8AAAAAAAD4fwAAAAAAAPh/AAAAAAAA+H8AAAAAAAD4fwAAAAAAAPh/AAAAAAAA+H8AAAAAAAD4fwAAAAAAAPh/AAAAAAAA+H8AAAAAAAD4fwAAAAAAAPh/AAAAAAAA+H8AAAAAAAD4fwAAAAAAAPh/",
          "dtype": "f8"
         }
        },
        {
         "line": {
          "color": "green",
          "dash": "dash"
         },
         "mode": "lines",
         "name": "HULL Predicho (Actual)",
         "type": "scatter",
         "x": [
          "2016-07-04T14:00:00.000000000",
          "2016-07-04T16:00:00.000000000",
          "2016-07-04T18:00:00.000000000",
          "2016-07-04T20:00:00.000000000",
          "2016-07-04T22:00:00.000000000",
          "2016-07-05T00:00:00.000000000",
          "2016-07-05T02:00:00.000000000",
          "2016-07-05T04:00:00.000000000",
          "2016-07-05T06:00:00.000000000",
          "2016-07-05T08:00:00.000000000",
          "2016-07-05T10:00:00.000000000",
          "2016-07-05T12:00:00.000000000",
          "2016-07-05T14:00:00.000000000",
          "2016-07-05T16:00:00.000000000",
          "2016-07-05T18:00:00.000000000",
          "2016-07-05T20:00:00.000000000",
          "2016-07-05T22:00:00.000000000",
          "2016-07-06T00:00:00.000000000",
          "2016-07-06T02:00:00.000000000",
          "2016-07-06T04:00:00.000000000",
          "2016-07-06T06:00:00.000000000",
          "2016-07-06T08:00:00.000000000",
          "2016-07-06T10:00:00.000000000",
          "2016-07-06T12:00:00.000000000"
         ],
         "y": {
          "bdata": "YxgFv3CHJ0CxiacIuF8oQHSH4dQsiChASeRaz25bJ0DL5A4tOkInQAT5LflCFidAd1pXAMs4JECmlV4mY8IlQC6U9a1/FChAsPN14GlBJkAmffVDT2cnQP3EIceggSdApTAdZJIHKkCqu8YK/eYpQLH0E2umASdAW2vtHxADJ0AoCNe7rPsnQLMVdWyWiyhANouM0eN8J0C8URbzTEknQF6SGiZ97CdAEh/0ob1cKED++p6Rsk0pQE5iHpjogyZA",
          "dtype": "f8"
         }
        },
        {
         "line": {
          "color": "red"
         },
         "mode": "lines",
         "name": "HULL Predicho (Futuro)",
         "type": "scatter",
         "x": [
          "2016-07-06T14:00:00.000000000",
          "2016-07-06T16:00:00.000000000",
          "2016-07-06T18:00:00.000000000",
          "2016-07-06T20:00:00.000000000",
          "2016-07-06T22:00:00.000000000",
          "2016-07-07T00:00:00.000000000",
          "2016-07-07T02:00:00.000000000",
          "2016-07-07T04:00:00.000000000",
          "2016-07-07T06:00:00.000000000",
          "2016-07-07T08:00:00.000000000",
          "2016-07-07T10:00:00.000000000",
          "2016-07-07T12:00:00.000000000",
          "2016-07-07T14:00:00.000000000",
          "2016-07-07T16:00:00.000000000",
          "2016-07-07T18:00:00.000000000",
          "2016-07-07T20:00:00.000000000",
          "2016-07-07T22:00:00.000000000",
          "2016-07-08T00:00:00.000000000",
          "2016-07-08T02:00:00.000000000",
          "2016-07-08T04:00:00.000000000",
          "2016-07-08T06:00:00.000000000",
          "2016-07-08T08:00:00.000000000",
          "2016-07-08T10:00:00.000000000",
          "2016-07-08T12:00:00.000000000",
          "2016-07-08T14:00:00.000000000",
          "2016-07-08T16:00:00.000000000",
          "2016-07-08T18:00:00.000000000",
          "2016-07-08T20:00:00.000000000",
          "2016-07-08T22:00:00.000000000",
          "2016-07-09T00:00:00.000000000",
          "2016-07-09T02:00:00.000000000",
          "2016-07-09T04:00:00.000000000",
          "2016-07-09T06:00:00.000000000",
          "2016-07-09T08:00:00.000000000",
          "2016-07-09T10:00:00.000000000",
          "2016-07-09T12:00:00.000000000",
          "2016-07-09T14:00:00.000000000",
          "2016-07-09T16:00:00.000000000",
          "2016-07-09T18:00:00.000000000",
          "2016-07-09T20:00:00.000000000",
          "2016-07-09T22:00:00.000000000",
          "2016-07-10T00:00:00.000000000",
          "2016-07-10T02:00:00.000000000",
          "2016-07-10T04:00:00.000000000",
          "2016-07-10T06:00:00.000000000",
          "2016-07-10T08:00:00.000000000",
          "2016-07-10T10:00:00.000000000",
          "2016-07-10T12:00:00.000000000",
          "2016-07-10T14:00:00.000000000",
          "2016-07-10T16:00:00.000000000",
          "2016-07-10T18:00:00.000000000",
          "2016-07-10T20:00:00.000000000",
          "2016-07-10T22:00:00.000000000",
          "2016-07-11T00:00:00.000000000",
          "2016-07-11T02:00:00.000000000",
          "2016-07-11T04:00:00.000000000",
          "2016-07-11T06:00:00.000000000",
          "2016-07-11T08:00:00.000000000",
          "2016-07-11T10:00:00.000000000",
          "2016-07-11T12:00:00.000000000",
          "2016-07-11T14:00:00.000000000",
          "2016-07-11T16:00:00.000000000",
          "2016-07-11T18:00:00.000000000",
          "2016-07-11T20:00:00.000000000",
          "2016-07-11T22:00:00.000000000",
          "2016-07-12T00:00:00.000000000",
          "2016-07-12T02:00:00.000000000",
          "2016-07-12T04:00:00.000000000",
          "2016-07-12T06:00:00.000000000",
          "2016-07-12T08:00:00.000000000",
          "2016-07-12T10:00:00.000000000",
          "2016-07-12T12:00:00.000000000",
          "2016-07-12T14:00:00.000000000",
          "2016-07-12T16:00:00.000000000",
          "2016-07-12T18:00:00.000000000",
          "2016-07-12T20:00:00.000000000",
          "2016-07-12T22:00:00.000000000",
          "2016-07-13T00:00:00.000000000",
          "2016-07-13T02:00:00.000000000",
          "2016-07-13T04:00:00.000000000",
          "2016-07-13T06:00:00.000000000",
          "2016-07-13T08:00:00.000000000",
          "2016-07-13T10:00:00.000000000",
          "2016-07-13T12:00:00.000000000"
         ],
         "y": {
          "bdata": "XIMVsD/pI0DIq42QuGcnQGMYBb9whydAYxgFv3CHJ0BjGAW/cIcnQGMYBb9whydAYxgFv3CHJ0BjGAW/cIcnQGMYBb9whydAYxgFv3CHJ0BjGAW/cIcnQGMYBb9whydAYxgFv3CHJ0BjGAW/cIcnQGMYBb9whydAYxgFv3CHJ0BjGAW/cIcnQGMYBb9whydAYxgFv3CHJ0BjGAW/cIcnQGMYBb9whydAYxgFv3CHJ0BjGAW/cIcnQGMYBb9whydAYxgFv3CHJ0BjGAW/cIcnQGMYBb9whydAYxgFv3CHJ0BjGAW/cIcnQGMYBb9whydAYxgFv3CHJ0BjGAW/cIcnQGMYBb9whydAYxgFv3CHJ0BjGAW/cIcnQGMYBb9whydAYxgFv3CHJ0BjGAW/cIcnQGMYBb9whydAYxgFv3CHJ0BjGAW/cIcnQGMYBb9whydAYxgFv3CHJ0BjGAW/cIcnQGMYBb9whydAYxgFv3CHJ0BjGAW/cIcnQGMYBb9whydAYxgFv3CHJ0BjGAW/cIcnQGMYBb9whydAYxgFv3CHJ0BjGAW/cIcnQGMYBb9whydAYxgFv3CHJ0BjGAW/cIcnQGMYBb9whydAYxgFv3CHJ0BjGAW/cIcnQGMYBb9whydAYxgFv3CHJ0BjGAW/cIcnQGMYBb9whydAYxgFv3CHJ0BjGAW/cIcnQGMYBb9whydAYxgFv3CHJ0BjGAW/cIcnQGMYBb9whydAYxgFv3CHJ0BjGAW/cIcnQGMYBb9whydAYxgFv3CHJ0BjGAW/cIcnQGMYBb9whydAYxgFv3CHJ0BjGAW/cIcnQGMYBb9whydAYxgFv3CHJ0BjGAW/cIcnQGMYBb9whydAYxgFv3CHJ0BjGAW/cIcnQGMYBb9whydA",
          "dtype": "f8"
         }
        },
        {
         "line": {
          "color": "gray",
          "width": 0.5
         },
         "mode": "lines",
         "name": "Límite Superior (95% IC)",
         "type": "scatter",
         "x": [
          "2016-07-06T14:00:00.000000000",
          "2016-07-06T16:00:00.000000000",
          "2016-07-06T18:00:00.000000000",
          "2016-07-06T20:00:00.000000000",
          "2016-07-06T22:00:00.000000000",
          "2016-07-07T00:00:00.000000000",
          "2016-07-07T02:00:00.000000000",
          "2016-07-07T04:00:00.000000000",
          "2016-07-07T06:00:00.000000000",
          "2016-07-07T08:00:00.000000000",
          "2016-07-07T10:00:00.000000000",
          "2016-07-07T12:00:00.000000000",
          "2016-07-07T14:00:00.000000000",
          "2016-07-07T16:00:00.000000000",
          "2016-07-07T18:00:00.000000000",
          "2016-07-07T20:00:00.000000000",
          "2016-07-07T22:00:00.000000000",
          "2016-07-08T00:00:00.000000000",
          "2016-07-08T02:00:00.000000000",
          "2016-07-08T04:00:00.000000000",
          "2016-07-08T06:00:00.000000000",
          "2016-07-08T08:00:00.000000000",
          "2016-07-08T10:00:00.000000000",
          "2016-07-08T12:00:00.000000000",
          "2016-07-08T14:00:00.000000000",
          "2016-07-08T16:00:00.000000000",
          "2016-07-08T18:00:00.000000000",
          "2016-07-08T20:00:00.000000000",
          "2016-07-08T22:00:00.000000000",
          "2016-07-09T00:00:00.000000000",
          "2016-07-09T02:00:00.000000000",
          "2016-07-09T04:00:00.000000000",
          "2016-07-09T06:00:00.000000000",
          "2016-07-09T08:00:00.000000000",
          "2016-07-09T10:00:00.000000000",
          "2016-07-09T12:00:00.000000000",
          "2016-07-09T14:00:00.000000000",
          "2016-07-09T16:00:00.000000000",
          "2016-07-09T18:00:00.000000000",
          "2016-07-09T20:00:00.000000000",
          "2016-07-09T22:00:00.000000000",
          "2016-07-10T00:00:00.000000000",
          "2016-07-10T02:00:00.000000000",
          "2016-07-10T04:00:00.000000000",
          "2016-07-10T06:00:00.000000000",
          "2016-07-10T08:00:00.000000000",
          "2016-07-10T10:00:00.000000000",
          "2016-07-10T12:00:00.000000000",
          "2016-07-10T14:00:00.000000000",
          "2016-07-10T16:00:00.000000000",
          "2016-07-10T18:00:00.000000000",
          "2016-07-10T20:00:00.000000000",
          "2016-07-10T22:00:00.000000000",
          "2016-07-11T00:00:00.000000000",
          "2016-07-11T02:00:00.000000000",
          "2016-07-11T04:00:00.000000000",
          "2016-07-11T06:00:00.000000000",
          "2016-07-11T08:00:00.000000000",
          "2016-07-11T10:00:00.000000000",
          "2016-07-11T12:00:00.000000000",
          "2016-07-11T14:00:00.000000000",
          "2016-07-11T16:00:00.000000000",
          "2016-07-11T18:00:00.000000000",
          "2016-07-11T20:00:00.000000000",
          "2016-07-11T22:00:00.000000000",
          "2016-07-12T00:00:00.000000000",
          "2016-07-12T02:00:00.000000000",
          "2016-07-12T04:00:00.000000000",
          "2016-07-12T06:00:00.000000000",
          "2016-07-12T08:00:00.000000000",
          "2016-07-12T10:00:00.000000000",
          "2016-07-12T12:00:00.000000000",
          "2016-07-12T14:00:00.000000000",
          "2016-07-12T16:00:00.000000000",
          "2016-07-12T18:00:00.000000000",
          "2016-07-12T20:00:00.000000000",
          "2016-07-12T22:00:00.000000000",
          "2016-07-13T00:00:00.000000000",
          "2016-07-13T02:00:00.000000000",
          "2016-07-13T04:00:00.000000000",
          "2016-07-13T06:00:00.000000000",
          "2016-07-13T08:00:00.000000000",
          "2016-07-13T10:00:00.000000000",
          "2016-07-13T12:00:00.000000000"
         ],
         "y": {
          "bdata": "VvZbhdUPJ0Czfrj+idwqQNY9W5FB3StA1j1bkUHdK0DWPVuRQd0rQNY9W5FB3StA1j1bkUHdK0DWPVuRQd0rQNY9W5FB3StA1j1bkUHdK0DWPVuRQd0rQNY9W5FB3StA1j1bkUHdK0DWPVuRQd0rQNY9W5FB3StA1j1bkUHdK0DWPVuRQd0rQNY9W5FB3StA1j1bkUHdK0DWPVuRQd0rQNY9W5FB3StA1j1bkUHdK0DWPVuRQd0rQNY9W5FB3StA1j1bkUHdK0DWPVuRQd0rQNY9W5FB3StA1j1bkUHdK0DWPVuRQd0rQNY9W5FB3StA1j1bkUHdK0DWPVuRQd0rQNY9W5FB3StA1j1bkUHdK0DWPVuRQd0rQNY9W5FB3StA1j1bkUHdK0DWPVuRQd0rQNY9W5FB3StA1j1bkUHdK0DWPVuRQd0rQNY9W5FB3StA1j1bkUHdK0DWPVuRQd0rQNY9W5FB3StA1j1bkUHdK0DWPVuRQd0rQNY9W5FB3StA1j1bkUHdK0DWPVuRQd0rQNY9W5FB3StA1j1bkUHdK0DWPVuRQd0rQNY9W5FB3StA1j1bkUHdK0DWPVuRQd0rQNY9W5FB3StA1j1bkUHdK0DWPVuRQd0rQNY9W5FB3StA1j1bkUHdK0DWPVuRQd0rQNY9W5FB3StA1j1bkUHdK0DWPVuRQd0rQNY9W5FB3StA1j1bkUHdK0DWPVuRQd0rQNY9W5FB3StA1j1bkUHdK0DWPVuRQd0rQNY9W5FB3StA1j1bkUHdK0DWPVuRQd0rQNY9W5FB3StA1j1bkUHdK0DWPVuRQd0rQNY9W5FB3StA1j1bkUHdK0DWPVuRQd0rQNY9W5FB3StA1j1bkUHdK0DWPVuRQd0rQNY9W5FB3StA",
          "dtype": "f8"
         }
        },
        {
         "fill": "tonexty",
         "fillcolor": "rgba(200, 100, 200, 0.1)",
         "line": {
          "color": "gray",
          "width": 0.5
         },
         "mode": "lines",
         "name": "Límite Inferior (95% IC)",
         "type": "scatter",
         "x": [
          "2016-07-06T14:00:00.000000000",
          "2016-07-06T16:00:00.000000000",
          "2016-07-06T18:00:00.000000000",
          "2016-07-06T20:00:00.000000000",
          "2016-07-06T22:00:00.000000000",
          "2016-07-07T00:00:00.000000000",
          "2016-07-07T02:00:00.000000000",
          "2016-07-07T04:00:00.000000000",
          "2016-07-07T06:00:00.000000000",
          "2016-07-07T08:00:00.000000000",
          "2016-07-07T10:00:00.000000000",
          "2016-07-07T12:00:00.000000000",
          "2016-07-07T14:00:00.000000000",
          "2016-07-07T16:00:00.000000000",
          "2016-07-07T18:00:00.000000000",
          "2016-07-07T20:00:00.000000000",
          "2016-07-07T22:00:00.000000000",
          "2016-07-08T00:00:00.000000000",
          "2016-07-08T02:00:00.000000000",
          "2016-07-08T04:00:00.000000000",
          "2016-07-08T06:00:00.000000000",
          "2016-07-08T08:00:00.000000000",
          "2016-07-08T10:00:00.000000000",
          "2016-07-08T12:00:00.000000000",
          "2016-07-08T14:00:00.000000000",
          "2016-07-08T16:00:00.000000000",
          "2016-07-08T18:00:00.000000000",
          "2016-07-08T20:00:00.000000000",
          "2016-07-08T22:00:00.000000000",
          "2016-07-09T00:00:00.000000000",
          "2016-07-09T02:00:00.000000000",
          "2016-07-09T04:00:00.000000000",
          "2016-07-09T06:00:00.000000000",
          "2016-07-09T08:00:00.000000000",
          "2016-07-09T10:00:00.000000000",
          "2016-07-09T12:00:00.000000000",
          "2016-07-09T14:00:00.000000000",
          "2016-07-09T16:00:00.000000000",
          "2016-07-09T18:00:00.000000000",
          "2016-07-09T20:00:00.000000000",
          "2016-07-09T22:00:00.000000000",
          "2016-07-10T00:00:00.000000000",
          "2016-07-10T02:00:00.000000000",
          "2016-07-10T04:00:00.000000000",
          "2016-07-10T06:00:00.000000000",
          "2016-07-10T08:00:00.000000000",
          "2016-07-10T10:00:00.000000000",
          "2016-07-10T12:00:00.000000000",
          "2016-07-10T14:00:00.000000000",
          "2016-07-10T16:00:00.000000000",
          "2016-07-10T18:00:00.000000000",
          "2016-07-10T20:00:00.000000000",
          "2016-07-10T22:00:00.000000000",
          "2016-07-11T00:00:00.000000000",
          "2016-07-11T02:00:00.000000000",
          "2016-07-11T04:00:00.000000000",
          "2016-07-11T06:00:00.000000000",
          "2016-07-11T08:00:00.000000000",
          "2016-07-11T10:00:00.000000000",
          "2016-07-11T12:00:00.000000000",
          "2016-07-11T14:00:00.000000000",
          "2016-07-11T16:00:00.000000000",
          "2016-07-11T18:00:00.000000000",
          "2016-07-11T20:00:00.000000000",
          "2016-07-11T22:00:00.000000000",
          "2016-07-12T00:00:00.000000000",
          "2016-07-12T02:00:00.000000000",
          "2016-07-12T04:00:00.000000000",
          "2016-07-12T06:00:00.000000000",
          "2016-07-12T08:00:00.000000000",
          "2016-07-12T10:00:00.000000000",
          "2016-07-12T12:00:00.000000000",
          "2016-07-12T14:00:00.000000000",
          "2016-07-12T16:00:00.000000000",
          "2016-07-12T18:00:00.000000000",
          "2016-07-12T20:00:00.000000000",
          "2016-07-12T22:00:00.000000000",
          "2016-07-13T00:00:00.000000000",
          "2016-07-13T02:00:00.000000000",
          "2016-07-13T04:00:00.000000000",
          "2016-07-13T06:00:00.000000000",
          "2016-07-13T08:00:00.000000000",
          "2016-07-13T10:00:00.000000000",
          "2016-07-13T12:00:00.000000000"
         ],
         "y": {
          "bdata": "YhDP2qnCIEDd2GIi5/IjQPDyruyfMSNA8PKu7J8xI0Dw8q7snzEjQPDyruyfMSNA8PKu7J8xI0Dw8q7snzEjQPDyruyfMSNA8PKu7J8xI0Dw8q7snzEjQPDyruyfMSNA8PKu7J8xI0Dw8q7snzEjQPDyruyfMSNA8PKu7J8xI0Dw8q7snzEjQPDyruyfMSNA8PKu7J8xI0Dw8q7snzEjQPDyruyfMSNA8PKu7J8xI0Dw8q7snzEjQPDyruyfMSNA8PKu7J8xI0Dw8q7snzEjQPDyruyfMSNA8PKu7J8xI0Dw8q7snzEjQPDyruyfMSNA8PKu7J8xI0Dw8q7snzEjQPDyruyfMSNA8PKu7J8xI0Dw8q7snzEjQPDyruyfMSNA8PKu7J8xI0Dw8q7snzEjQPDyruyfMSNA8PKu7J8xI0Dw8q7snzEjQPDyruyfMSNA8PKu7J8xI0Dw8q7snzEjQPDyruyfMSNA8PKu7J8xI0Dw8q7snzEjQPDyruyfMSNA8PKu7J8xI0Dw8q7snzEjQPDyruyfMSNA8PKu7J8xI0Dw8q7snzEjQPDyruyfMSNA8PKu7J8xI0Dw8q7snzEjQPDyruyfMSNA8PKu7J8xI0Dw8q7snzEjQPDyruyfMSNA8PKu7J8xI0Dw8q7snzEjQPDyruyfMSNA8PKu7J8xI0Dw8q7snzEjQPDyruyfMSNA8PKu7J8xI0Dw8q7snzEjQPDyruyfMSNA8PKu7J8xI0Dw8q7snzEjQPDyruyfMSNA8PKu7J8xI0Dw8q7snzEjQPDyruyfMSNA8PKu7J8xI0Dw8q7snzEjQPDyruyfMSNA8PKu7J8xI0Dw8q7snzEjQPDyruyfMSNA8PKu7J8xI0Dw8q7snzEjQPDyruyfMSNA",
          "dtype": "f8"
         }
        }
       ],
       "layout": {
        "hovermode": "x unified",
        "showlegend": true,
        "template": {
         "data": {
          "bar": [
           {
            "error_x": {
             "color": "#f2f5fa"
            },
            "error_y": {
             "color": "#f2f5fa"
            },
            "marker": {
             "line": {
              "color": "rgb(17,17,17)",
              "width": 0.5
             },
             "pattern": {
              "fillmode": "overlay",
              "size": 10,
              "solidity": 0.2
             }
            },
            "type": "bar"
           }
          ],
          "barpolar": [
           {
            "marker": {
             "line": {
              "color": "rgb(17,17,17)",
              "width": 0.5
             },
             "pattern": {
              "fillmode": "overlay",
              "size": 10,
              "solidity": 0.2
             }
            },
            "type": "barpolar"
           }
          ],
          "carpet": [
           {
            "aaxis": {
             "endlinecolor": "#A2B1C6",
             "gridcolor": "#506784",
             "linecolor": "#506784",
             "minorgridcolor": "#506784",
             "startlinecolor": "#A2B1C6"
            },
            "baxis": {
             "endlinecolor": "#A2B1C6",
             "gridcolor": "#506784",
             "linecolor": "#506784",
             "minorgridcolor": "#506784",
             "startlinecolor": "#A2B1C6"
            },
            "type": "carpet"
           }
          ],
          "choropleth": [
           {
            "colorbar": {
             "outlinewidth": 0,
             "ticks": ""
            },
            "type": "choropleth"
           }
          ],
          "contour": [
           {
            "colorbar": {
             "outlinewidth": 0,
             "ticks": ""
            },
            "colorscale": [
             [
              0,
              "#0d0887"
             ],
             [
              0.1111111111111111,
              "#46039f"
             ],
             [
              0.2222222222222222,
              "#7201a8"
             ],
             [
              0.3333333333333333,
              "#9c179e"
             ],
             [
              0.4444444444444444,
              "#bd3786"
             ],
             [
              0.5555555555555556,
              "#d8576b"
             ],
             [
              0.6666666666666666,
              "#ed7953"
             ],
             [
              0.7777777777777778,
              "#fb9f3a"
             ],
             [
              0.8888888888888888,
              "#fdca26"
             ],
             [
              1,
              "#f0f921"
             ]
            ],
            "type": "contour"
           }
          ],
          "contourcarpet": [
           {
            "colorbar": {
             "outlinewidth": 0,
             "ticks": ""
            },
            "type": "contourcarpet"
           }
          ],
          "heatmap": [
           {
            "colorbar": {
             "outlinewidth": 0,
             "ticks": ""
            },
            "colorscale": [
             [
              0,
              "#0d0887"
             ],
             [
              0.1111111111111111,
              "#46039f"
             ],
             [
              0.2222222222222222,
              "#7201a8"
             ],
             [
              0.3333333333333333,
              "#9c179e"
             ],
             [
              0.4444444444444444,
              "#bd3786"
             ],
             [
              0.5555555555555556,
              "#d8576b"
             ],
             [
              0.6666666666666666,
              "#ed7953"
             ],
             [
              0.7777777777777778,
              "#fb9f3a"
             ],
             [
              0.8888888888888888,
              "#fdca26"
             ],
             [
              1,
              "#f0f921"
             ]
            ],
            "type": "heatmap"
           }
          ],
          "histogram": [
           {
            "marker": {
             "pattern": {
              "fillmode": "overlay",
              "size": 10,
              "solidity": 0.2
             }
            },
            "type": "histogram"
           }
          ],
          "histogram2d": [
           {
            "colorbar": {
             "outlinewidth": 0,
             "ticks": ""
            },
            "colorscale": [
             [
              0,
              "#0d0887"
             ],
             [
              0.1111111111111111,
              "#46039f"
             ],
             [
              0.2222222222222222,
              "#7201a8"
             ],
             [
              0.3333333333333333,
              "#9c179e"
             ],
             [
              0.4444444444444444,
              "#bd3786"
             ],
             [
              0.5555555555555556,
              "#d8576b"
             ],
             [
              0.6666666666666666,
              "#ed7953"
             ],
             [
              0.7777777777777778,
              "#fb9f3a"
             ],
             [
              0.8888888888888888,
              "#fdca26"
             ],
             [
              1,
              "#f0f921"
             ]
            ],
            "type": "histogram2d"
           }
          ],
          "histogram2dcontour": [
           {
            "colorbar": {
             "outlinewidth": 0,
             "ticks": ""
            },
            "colorscale": [
             [
              0,
              "#0d0887"
             ],
             [
              0.1111111111111111,
              "#46039f"
             ],
             [
              0.2222222222222222,
              "#7201a8"
             ],
             [
              0.3333333333333333,
              "#9c179e"
             ],
             [
              0.4444444444444444,
              "#bd3786"
             ],
             [
              0.5555555555555556,
              "#d8576b"
             ],
             [
              0.6666666666666666,
              "#ed7953"
             ],
             [
              0.7777777777777778,
              "#fb9f3a"
             ],
             [
              0.8888888888888888,
              "#fdca26"
             ],
             [
              1,
              "#f0f921"
             ]
            ],
            "type": "histogram2dcontour"
           }
          ],
          "mesh3d": [
           {
            "colorbar": {
             "outlinewidth": 0,
             "ticks": ""
            },
            "type": "mesh3d"
           }
          ],
          "parcoords": [
           {
            "line": {
             "colorbar": {
              "outlinewidth": 0,
              "ticks": ""
             }
            },
            "type": "parcoords"
           }
          ],
          "pie": [
           {
            "automargin": true,
            "type": "pie"
           }
          ],
          "scatter": [
           {
            "marker": {
             "line": {
              "color": "#283442"
             }
            },
            "type": "scatter"
           }
          ],
          "scatter3d": [
           {
            "line": {
             "colorbar": {
              "outlinewidth": 0,
              "ticks": ""
             }
            },
            "marker": {
             "colorbar": {
              "outlinewidth": 0,
              "ticks": ""
             }
            },
            "type": "scatter3d"
           }
          ],
          "scattercarpet": [
           {
            "marker": {
             "colorbar": {
              "outlinewidth": 0,
              "ticks": ""
             }
            },
            "type": "scattercarpet"
           }
          ],
          "scattergeo": [
           {
            "marker": {
             "colorbar": {
              "outlinewidth": 0,
              "ticks": ""
             }
            },
            "type": "scattergeo"
           }
          ],
          "scattergl": [
           {
            "marker": {
             "line": {
              "color": "#283442"
             }
            },
            "type": "scattergl"
           }
          ],
          "scattermap": [
           {
            "marker": {
             "colorbar": {
              "outlinewidth": 0,
              "ticks": ""
             }
            },
            "type": "scattermap"
           }
          ],
          "scattermapbox": [
           {
            "marker": {
             "colorbar": {
              "outlinewidth": 0,
              "ticks": ""
             }
            },
            "type": "scattermapbox"
           }
          ],
          "scatterpolar": [
           {
            "marker": {
             "colorbar": {
              "outlinewidth": 0,
              "ticks": ""
             }
            },
            "type": "scatterpolar"
           }
          ],
          "scatterpolargl": [
           {
            "marker": {
             "colorbar": {
              "outlinewidth": 0,
              "ticks": ""
             }
            },
            "type": "scatterpolargl"
           }
          ],
          "scatterternary": [
           {
            "marker": {
             "colorbar": {
              "outlinewidth": 0,
              "ticks": ""
             }
            },
            "type": "scatterternary"
           }
          ],
          "surface": [
           {
            "colorbar": {
             "outlinewidth": 0,
             "ticks": ""
            },
            "colorscale": [
             [
              0,
              "#0d0887"
             ],
             [
              0.1111111111111111,
              "#46039f"
             ],
             [
              0.2222222222222222,
              "#7201a8"
             ],
             [
              0.3333333333333333,
              "#9c179e"
             ],
             [
              0.4444444444444444,
              "#bd3786"
             ],
             [
              0.5555555555555556,
              "#d8576b"
             ],
             [
              0.6666666666666666,
              "#ed7953"
             ],
             [
              0.7777777777777778,
              "#fb9f3a"
             ],
             [
              0.8888888888888888,
              "#fdca26"
             ],
             [
              1,
              "#f0f921"
             ]
            ],
            "type": "surface"
           }
          ],
          "table": [
           {
            "cells": {
             "fill": {
              "color": "#506784"
             },
             "line": {
              "color": "rgb(17,17,17)"
             }
            },
            "header": {
             "fill": {
              "color": "#2a3f5f"
             },
             "line": {
              "color": "rgb(17,17,17)"
             }
            },
            "type": "table"
           }
          ]
         },
         "layout": {
          "annotationdefaults": {
           "arrowcolor": "#f2f5fa",
           "arrowhead": 0,
           "arrowwidth": 1
          },
          "autotypenumbers": "strict",
          "coloraxis": {
           "colorbar": {
            "outlinewidth": 0,
            "ticks": ""
           }
          },
          "colorscale": {
           "diverging": [
            [
             0,
             "#8e0152"
            ],
            [
             0.1,
             "#c51b7d"
            ],
            [
             0.2,
             "#de77ae"
            ],
            [
             0.3,
             "#f1b6da"
            ],
            [
             0.4,
             "#fde0ef"
            ],
            [
             0.5,
             "#f7f7f7"
            ],
            [
             0.6,
             "#e6f5d0"
            ],
            [
             0.7,
             "#b8e186"
            ],
            [
             0.8,
             "#7fbc41"
            ],
            [
             0.9,
             "#4d9221"
            ],
            [
             1,
             "#276419"
            ]
           ],
           "sequential": [
            [
             0,
             "#0d0887"
            ],
            [
             0.1111111111111111,
             "#46039f"
            ],
            [
             0.2222222222222222,
             "#7201a8"
            ],
            [
             0.3333333333333333,
             "#9c179e"
            ],
            [
             0.4444444444444444,
             "#bd3786"
            ],
            [
             0.5555555555555556,
             "#d8576b"
            ],
            [
             0.6666666666666666,
             "#ed7953"
            ],
            [
             0.7777777777777778,
             "#fb9f3a"
            ],
            [
             0.8888888888888888,
             "#fdca26"
            ],
            [
             1,
             "#f0f921"
            ]
           ],
           "sequentialminus": [
            [
             0,
             "#0d0887"
            ],
            [
             0.1111111111111111,
             "#46039f"
            ],
            [
             0.2222222222222222,
             "#7201a8"
            ],
            [
             0.3333333333333333,
             "#9c179e"
            ],
            [
             0.4444444444444444,
             "#bd3786"
            ],
            [
             0.5555555555555556,
             "#d8576b"
            ],
            [
             0.6666666666666666,
             "#ed7953"
            ],
            [
             0.7777777777777778,
             "#fb9f3a"
            ],
            [
             0.8888888888888888,
             "#fdca26"
            ],
            [
             1,
             "#f0f921"
            ]
           ]
          },
          "colorway": [
           "#636efa",
           "#EF553B",
           "#00cc96",
           "#ab63fa",
           "#FFA15A",
           "#19d3f3",
           "#FF6692",
           "#B6E880",
           "#FF97FF",
           "#FECB52"
          ],
          "font": {
           "color": "#f2f5fa"
          },
          "geo": {
           "bgcolor": "rgb(17,17,17)",
           "lakecolor": "rgb(17,17,17)",
           "landcolor": "rgb(17,17,17)",
           "showlakes": true,
           "showland": true,
           "subunitcolor": "#506784"
          },
          "hoverlabel": {
           "align": "left"
          },
          "hovermode": "closest",
          "mapbox": {
           "style": "dark"
          },
          "paper_bgcolor": "rgb(17,17,17)",
          "plot_bgcolor": "rgb(17,17,17)",
          "polar": {
           "angularaxis": {
            "gridcolor": "#506784",
            "linecolor": "#506784",
            "ticks": ""
           },
           "bgcolor": "rgb(17,17,17)",
           "radialaxis": {
            "gridcolor": "#506784",
            "linecolor": "#506784",
            "ticks": ""
           }
          },
          "scene": {
           "xaxis": {
            "backgroundcolor": "rgb(17,17,17)",
            "gridcolor": "#506784",
            "gridwidth": 2,
            "linecolor": "#506784",
            "showbackground": true,
            "ticks": "",
            "zerolinecolor": "#C8D4E3"
           },
           "yaxis": {
            "backgroundcolor": "rgb(17,17,17)",
            "gridcolor": "#506784",
            "gridwidth": 2,
            "linecolor": "#506784",
            "showbackground": true,
            "ticks": "",
            "zerolinecolor": "#C8D4E3"
           },
           "zaxis": {
            "backgroundcolor": "rgb(17,17,17)",
            "gridcolor": "#506784",
            "gridwidth": 2,
            "linecolor": "#506784",
            "showbackground": true,
            "ticks": "",
            "zerolinecolor": "#C8D4E3"
           }
          },
          "shapedefaults": {
           "line": {
            "color": "#f2f5fa"
           }
          },
          "sliderdefaults": {
           "bgcolor": "#C8D4E3",
           "bordercolor": "rgb(17,17,17)",
           "borderwidth": 1,
           "tickwidth": 0
          },
          "ternary": {
           "aaxis": {
            "gridcolor": "#506784",
            "linecolor": "#506784",
            "ticks": ""
           },
           "baxis": {
            "gridcolor": "#506784",
            "linecolor": "#506784",
            "ticks": ""
           },
           "bgcolor": "rgb(17,17,17)",
           "caxis": {
            "gridcolor": "#506784",
            "linecolor": "#506784",
            "ticks": ""
           }
          },
          "title": {
           "x": 0.05
          },
          "updatemenudefaults": {
           "bgcolor": "#506784",
           "borderwidth": 0
          },
          "xaxis": {
           "automargin": true,
           "gridcolor": "#283442",
           "linecolor": "#506784",
           "ticks": "",
           "title": {
            "standoff": 15
           },
           "zerolinecolor": "#283442",
           "zerolinewidth": 2
          },
          "yaxis": {
           "automargin": true,
           "gridcolor": "#283442",
           "linecolor": "#506784",
           "ticks": "",
           "title": {
            "standoff": 15
           },
           "zerolinecolor": "#283442",
           "zerolinewidth": 2
          }
         }
        },
        "title": {
         "text": "Predicción del HULL utilizando Auto-ARIMA con Intervalo de Confianza del 95%"
        },
        "xaxis": {
         "title": {
          "text": "Fecha"
         }
        },
        "yaxis": {
         "title": {
          "text": "HULL"
         }
        }
       }
      }
     },
     "metadata": {},
     "output_type": "display_data"
    },
    {
     "name": "stdout",
     "output_type": "stream",
     "text": [
      "RMSE on test set: 1.8817469605569106\n",
      "MAE on test set: 1.5673824656423838\n",
      "Naive Forecast RMSE: 1.4805364415505442\n",
      "Naive Forecast MAE: 1.0768823062672335\n",
      "Máximo: 16.125499725341797\n",
      "Mínimo: 6.952499866485596\n",
      "Orden ARIMA seleccionado: (0, 0, 2)\n"
     ]
    }
   ],
   "source": [
    "import numpy as np\n",
    "import pandas as pd\n",
    "import plotly.graph_objects as go\n",
    "from pmdarima import auto_arima  # Importamos auto_arima\n",
    "from statsmodels.tsa.stattools import adfuller\n",
    "from sklearn.metrics import mean_squared_error\n",
    "from math import sqrt\n",
    "import warnings\n",
    "warnings.filterwarnings(\"ignore\")\n",
    "from datetime import datetime, timedelta\n",
    "\n",
    "# Cargar datos\n",
    "data = pd.read_csv(\"https://huggingface.co/datasets/pkr7098/time-series-forecasting-datasets/resolve/main/ETTh2.csv\")\n",
    "data['date'] = pd.to_datetime(data['date'])\n",
    "data = data.head(168)\n",
    "data.set_index('date', inplace=True)\n",
    "data_2h = data.resample('2H').mean()\n",
    "hull_data = data_2h[['HULL']].dropna()  # Usamos HULL como en el código anterior\n",
    "\n",
    "# Split the data into training and test sets (80% train, 20% test)\n",
    "total_rows = len(hull_data)\n",
    "train_size = int(total_rows * 0.8)\n",
    "test_size = total_rows - train_size\n",
    "train = hull_data['HULL'][:train_size]\n",
    "test = hull_data['HULL'][train_size:]\n",
    "\n",
    "# Stationarity Testing (Dickey-Fuller)\n",
    "def dickey_fuller_test(series, column_name):\n",
    "    print(f'Resultados de la prueba de Dickey-Fuller para columna: {column_name}')\n",
    "    dftest = adfuller(series, autolag='AIC')\n",
    "    dfoutput = pd.Series(dftest[0:4], index=['Test Statistic', 'p-value', 'No Lags Used', 'Número de observaciones utilizadas'])\n",
    "    for key, value in dftest[4].items():\n",
    "        dfoutput[f'Critical Value ({key})'] = value\n",
    "    print(dfoutput)\n",
    "    if dftest[1] <= 0.05:\n",
    "        print(\"Conclusión: Los datos son estacionarios\")\n",
    "    else:\n",
    "        print(\"Conclusión: Los datos no son estacionarios\")\n",
    "    return dftest[1]\n",
    "\n",
    "# Get p-value from test\n",
    "p_value = dickey_fuller_test(train, \"HULL\")\n",
    "\n",
    "# Use the last two days (24 points at 2-hour intervals) for modeling\n",
    "last_two_days = train[-24:]\n",
    "\n",
    "# Fit auto_arima model - Optimiza automáticamente p, d, q\n",
    "model = auto_arima(last_two_days, \n",
    "                   seasonal=False,  # No asumimos estacionalidad\n",
    "                   start_p=0, start_q=0, max_p=5, max_q=5,  # Límites para p y q\n",
    "                   d=None,  # Deja que auto_arima determine d, pero sabemos que es estacionaria\n",
    "                   trace=True,  # Muestra el proceso de selección\n",
    "                   error_action='ignore', \n",
    "                   suppress_warnings=True)\n",
    "model_fit = model.fit(last_two_days)\n",
    "\n",
    "# Forecast for one week (7 days = 7 * 12 = 84 data points at 2-hour intervals)\n",
    "forecast_steps = 84\n",
    "forecast = model.predict(n_periods=forecast_steps)\n",
    "\n",
    "# Confidence intervals from the fitted model\n",
    "forecast_obj = model_fit.predict(n_periods=forecast_steps, return_conf_int=True)\n",
    "forecast, conf_int = forecast_obj[0], forecast_obj[1]\n",
    "ci_lower = conf_int[:, 0]  # Límite inferior\n",
    "ci_upper = conf_int[:, 1]  # Límite superior\n",
    "\n",
    "# Create a date range for the forecast\n",
    "last_date = last_two_days.index[-1]\n",
    "forecast_dates = pd.date_range(start=last_date + timedelta(hours=2), periods=forecast_steps, freq='2H')\n",
    "\n",
    "# Create a DataFrame for the forecast with confidence intervals\n",
    "forecast_ci_df = pd.DataFrame({\n",
    "    'HULL_Predicho': forecast,\n",
    "    'CI_Lower': ci_lower,\n",
    "    'CI_Upper': ci_upper\n",
    "}, index=forecast_dates)\n",
    "\n",
    "# Combine historical and forecast data\n",
    "historical_pred_df = pd.DataFrame({\n",
    "    'HULL_Historico': last_two_days,\n",
    "    'HULL_Predicho': model.predict_in_sample()  # Predicciones en la muestra\n",
    "})\n",
    "\n",
    "combined_df = pd.concat([historical_pred_df, forecast_ci_df], axis=0)\n",
    "\n",
    "# Visualize the results\n",
    "fig = go.Figure()\n",
    "\n",
    "# Add historical values\n",
    "fig.add_trace(go.Scatter(\n",
    "    x=combined_df.index,\n",
    "    y=combined_df['HULL_Historico'],\n",
    "    mode='lines',\n",
    "    name='HULL Histórico',\n",
    "    line=dict(color='blue')\n",
    "))\n",
    "\n",
    "# Add predicted values for historical data\n",
    "fig.add_trace(go.Scatter(\n",
    "    x=combined_df.index[:len(last_two_days)],\n",
    "    y=combined_df['HULL_Predicho'][:len(last_two_days)],\n",
    "    mode='lines',\n",
    "    name='HULL Predicho (Actual)',\n",
    "    line=dict(color='green', dash='dash')\n",
    "))\n",
    "\n",
    "# Add future forecast\n",
    "fig.add_trace(go.Scatter(\n",
    "    x=forecast_ci_df.index,\n",
    "    y=forecast_ci_df['HULL_Predicho'],\n",
    "    mode='lines',\n",
    "    name='HULL Predicho (Futuro)',\n",
    "    line=dict(color='red')\n",
    "))\n",
    "\n",
    "# Add 95% confidence interval\n",
    "fig.add_trace(go.Scatter(\n",
    "    x=forecast_ci_df.index,\n",
    "    y=forecast_ci_df['CI_Upper'],\n",
    "    mode='lines',\n",
    "    name='Límite Superior (95% IC)',\n",
    "    line=dict(color='gray', width=0.5)\n",
    "))\n",
    "\n",
    "fig.add_trace(go.Scatter(\n",
    "    x=forecast_ci_df.index,\n",
    "    y=forecast_ci_df['CI_Lower'],\n",
    "    mode='lines',\n",
    "    name='Límite Inferior (95% IC)',\n",
    "    line=dict(color='gray', width=0.5),\n",
    "    fill='tonexty',\n",
    "    fillcolor='rgba(200, 100, 200, 0.1)'\n",
    "))\n",
    "\n",
    "# Customize the plot\n",
    "fig.update_layout(\n",
    "    title='Predicción del HULL utilizando Auto-ARIMA con Intervalo de Confianza del 95%',\n",
    "    xaxis_title='Fecha',\n",
    "    yaxis_title='HULL',\n",
    "    hovermode='x unified',\n",
    "    template=\"plotly_dark\",\n",
    "    showlegend=True\n",
    ")\n",
    "\n",
    "# Show the plot\n",
    "fig.show()\n",
    "\n",
    "# Calculate error metrics on the test set\n",
    "pred_test = model.predict(n_periods=len(test))\n",
    "rmse = sqrt(mean_squared_error(test, pred_test))\n",
    "mae = np.mean(np.abs(test - pred_test))\n",
    "print(f\"RMSE on test set: {rmse}\")\n",
    "print(f\"MAE on test set: {mae}\")\n",
    "\n",
    "# Naive forecast: Use the last value of the training set for all test predictions\n",
    "naive_forecast = np.full_like(test, test.iloc[0])\n",
    "\n",
    "# Calculate error metrics for the naive forecast\n",
    "rmse_naive = sqrt(mean_squared_error(test, naive_forecast))\n",
    "mae_naive = np.mean(np.abs(test - naive_forecast))\n",
    "\n",
    "print(f\"Naive Forecast RMSE: {rmse_naive}\")\n",
    "print(f\"Naive Forecast MAE: {mae_naive}\")\n",
    "\n",
    "# Print maximum and minimum of the series\n",
    "print(f\"Máximo: {hull_data['HULL'].max()}\")\n",
    "print(f\"Mínimo: {hull_data['HULL'].min()}\")\n",
    "\n",
    "# Mostrar el orden seleccionado por auto_arima\n",
    "print(f\"Orden ARIMA seleccionado: {model.order}\")"
   ]
  },
  {
   "cell_type": "code",
   "execution_count": 23,
   "metadata": {},
   "outputs": [
    {
     "name": "stdout",
     "output_type": "stream",
     "text": [
      "Resultados de la prueba de Dickey-Fuller para columna: MUFL\n",
      "Test Statistic                        -2.803591\n",
      "p-value                                0.057763\n",
      "No Lags Used                           0.000000\n",
      "Número de observaciones utilizadas    66.000000\n",
      "Critical Value (1%)                   -3.533560\n",
      "Critical Value (5%)                   -2.906444\n",
      "Critical Value (10%)                  -2.590724\n",
      "dtype: float64\n",
      "Conclusión: Los datos no son estacionarios\n",
      "Performing stepwise search to minimize aic\n",
      " ARIMA(0,0,0)(0,0,0)[0]             : AIC=241.405, Time=0.01 sec\n",
      " ARIMA(1,0,0)(0,0,0)[0]             : AIC=inf, Time=0.03 sec\n",
      " ARIMA(0,0,1)(0,0,0)[0]             : AIC=inf, Time=0.06 sec\n",
      " ARIMA(1,0,1)(0,0,0)[0]             : AIC=113.226, Time=0.06 sec\n",
      " ARIMA(2,0,1)(0,0,0)[0]             : AIC=inf, Time=0.19 sec\n",
      " ARIMA(1,0,2)(0,0,0)[0]             : AIC=inf, Time=0.27 sec\n",
      " ARIMA(0,0,2)(0,0,0)[0]             : AIC=inf, Time=0.16 sec\n",
      " ARIMA(2,0,0)(0,0,0)[0]             : AIC=inf, Time=0.04 sec\n",
      " ARIMA(2,0,2)(0,0,0)[0]             : AIC=inf, Time=0.20 sec\n",
      " ARIMA(1,0,1)(0,0,0)[0] intercept   : AIC=102.782, Time=0.16 sec\n",
      " ARIMA(0,0,1)(0,0,0)[0] intercept   : AIC=101.847, Time=0.03 sec\n",
      " ARIMA(0,0,0)(0,0,0)[0] intercept   : AIC=106.102, Time=0.01 sec\n",
      " ARIMA(0,0,2)(0,0,0)[0] intercept   : AIC=102.215, Time=0.08 sec\n",
      " ARIMA(1,0,0)(0,0,0)[0] intercept   : AIC=101.012, Time=0.08 sec\n",
      " ARIMA(2,0,0)(0,0,0)[0] intercept   : AIC=102.557, Time=0.11 sec\n",
      " ARIMA(2,0,1)(0,0,0)[0] intercept   : AIC=104.923, Time=0.25 sec\n",
      "\n",
      "Best model:  ARIMA(1,0,0)(0,0,0)[0] intercept\n",
      "Total fit time: 1.761 seconds\n"
     ]
    },
    {
     "data": {
      "application/vnd.plotly.v1+json": {
       "config": {
        "plotlyServerURL": "https://plot.ly"
       },
       "data": [
        {
         "line": {
          "color": "blue"
         },
         "mode": "lines",
         "name": "MUFL Histórico",
         "type": "scatter",
         "x": [
          "2016-07-04T14:00:00.000000000",
          "2016-07-04T16:00:00.000000000",
          "2016-07-04T18:00:00.000000000",
          "2016-07-04T20:00:00.000000000",
          "2016-07-04T22:00:00.000000000",
          "2016-07-05T00:00:00.000000000",
          "2016-07-05T02:00:00.000000000",
          "2016-07-05T04:00:00.000000000",
          "2016-07-05T06:00:00.000000000",
          "2016-07-05T08:00:00.000000000",
          "2016-07-05T10:00:00.000000000",
          "2016-07-05T12:00:00.000000000",
          "2016-07-05T14:00:00.000000000",
          "2016-07-05T16:00:00.000000000",
          "2016-07-05T18:00:00.000000000",
          "2016-07-05T20:00:00.000000000",
          "2016-07-05T22:00:00.000000000",
          "2016-07-06T00:00:00.000000000",
          "2016-07-06T02:00:00.000000000",
          "2016-07-06T04:00:00.000000000",
          "2016-07-06T06:00:00.000000000",
          "2016-07-06T08:00:00.000000000",
          "2016-07-06T10:00:00.000000000",
          "2016-07-06T12:00:00.000000000",
          "2016-07-06T14:00:00.000000000",
          "2016-07-06T16:00:00.000000000",
          "2016-07-06T18:00:00.000000000",
          "2016-07-06T20:00:00.000000000",
          "2016-07-06T22:00:00.000000000",
          "2016-07-07T00:00:00.000000000",
          "2016-07-07T02:00:00.000000000",
          "2016-07-07T04:00:00.000000000",
          "2016-07-07T06:00:00.000000000",
          "2016-07-07T08:00:00.000000000",
          "2016-07-07T10:00:00.000000000",
          "2016-07-07T12:00:00.000000000",
          "2016-07-07T14:00:00.000000000",
          "2016-07-07T16:00:00.000000000",
          "2016-07-07T18:00:00.000000000",
          "2016-07-07T20:00:00.000000000",
          "2016-07-07T22:00:00.000000000",
          "2016-07-08T00:00:00.000000000",
          "2016-07-08T02:00:00.000000000",
          "2016-07-08T04:00:00.000000000",
          "2016-07-08T06:00:00.000000000",
          "2016-07-08T08:00:00.000000000",
          "2016-07-08T10:00:00.000000000",
          "2016-07-08T12:00:00.000000000",
          "2016-07-08T14:00:00.000000000",
          "2016-07-08T16:00:00.000000000",
          "2016-07-08T18:00:00.000000000",
          "2016-07-08T20:00:00.000000000",
          "2016-07-08T22:00:00.000000000",
          "2016-07-09T00:00:00.000000000",
          "2016-07-09T02:00:00.000000000",
          "2016-07-09T04:00:00.000000000",
          "2016-07-09T06:00:00.000000000",
          "2016-07-09T08:00:00.000000000",
          "2016-07-09T10:00:00.000000000",
          "2016-07-09T12:00:00.000000000",
          "2016-07-09T14:00:00.000000000",
          "2016-07-09T16:00:00.000000000",
          "2016-07-09T18:00:00.000000000",
          "2016-07-09T20:00:00.000000000",
          "2016-07-09T22:00:00.000000000",
          "2016-07-10T00:00:00.000000000",
          "2016-07-10T02:00:00.000000000",
          "2016-07-10T04:00:00.000000000",
          "2016-07-10T06:00:00.000000000",
          "2016-07-10T08:00:00.000000000",
          "2016-07-10T10:00:00.000000000",
          "2016-07-10T12:00:00.000000000",
          "2016-07-10T14:00:00.000000000",
          "2016-07-10T16:00:00.000000000",
          "2016-07-10T18:00:00.000000000",
          "2016-07-10T20:00:00.000000000",
          "2016-07-10T22:00:00.000000000",
          "2016-07-11T00:00:00.000000000",
          "2016-07-11T02:00:00.000000000",
          "2016-07-11T04:00:00.000000000",
          "2016-07-11T06:00:00.000000000",
          "2016-07-11T08:00:00.000000000",
          "2016-07-11T10:00:00.000000000",
          "2016-07-11T12:00:00.000000000",
          "2016-07-11T14:00:00.000000000",
          "2016-07-11T16:00:00.000000000",
          "2016-07-11T18:00:00.000000000",
          "2016-07-11T20:00:00.000000000",
          "2016-07-11T22:00:00.000000000",
          "2016-07-12T00:00:00.000000000",
          "2016-07-12T02:00:00.000000000",
          "2016-07-12T04:00:00.000000000",
          "2016-07-12T06:00:00.000000000",
          "2016-07-12T08:00:00.000000000",
          "2016-07-12T10:00:00.000000000",
          "2016-07-12T12:00:00.000000000",
          "2016-07-12T14:00:00.000000000",
          "2016-07-12T16:00:00.000000000",
          "2016-07-12T18:00:00.000000000",
          "2016-07-12T20:00:00.000000000",
          "2016-07-12T22:00:00.000000000",
          "2016-07-13T00:00:00.000000000",
          "2016-07-13T02:00:00.000000000",
          "2016-07-13T04:00:00.000000000",
          "2016-07-13T06:00:00.000000000",
          "2016-07-13T08:00:00.000000000",
          "2016-07-13T10:00:00.000000000",
          "2016-07-13T12:00:00.000000000"
         ],
         "y": {
          "bdata": "AAAAcLykQkAAAACQwm1CQAAAABBY0UJAAAAAINupQkAAAABgj5JAQAAAABCwsj9AAAAA8KeeQEAAAABgO68/QAAAAHCT8EFAAAAAAP4UQUAAAAAwCvdCQAAAABBa7ENAAAAAYDkUQ0AAAADw0PpBQAEAAJBDE0FAAAAAgGoMQUAAAADg0MpBQAAAAFAOpUFAAAAAwKF9QUAAAACQ729BQAAAAJDCJUJAAAAAMLLFQUAAAACwSWRAQAAAAACquUFAAAAAAAAA+H8AAAAAAAD4fwAAAAAAAPh/AAAAAAAA+H8AAAAAAAD4fwAAAAAAAPh/AAAAAAAA+H8AAAAAAAD4fwAAAAAAAPh/AAAAAAAA+H8AAAAAAAD4fwAAAAAAAPh/AAAAAAAA+H8AAAAAAAD4fwAAAAAAAPh/AAAAAAAA+H8AAAAAAAD4fwAAAAAAAPh/AAAAAAAA+H8AAAAAAAD4fwAAAAAAAPh/AAAAAAAA+H8AAAAAAAD4fwAAAAAAAPh/AAAAAAAA+H8AAAAAAAD4fwAAAAAAAPh/AAAAAAAA+H8AAAAAAAD4fwAAAAAAAPh/AAAAAAAA+H8AAAAAAAD4fwAAAAAAAPh/AAAAAAAA+H8AAAAAAAD4fwAAAAAAAPh/AAAAAAAA+H8AAAAAAAD4fwAAAAAAAPh/AAAAAAAA+H8AAAAAAAD4fwAAAAAAAPh/AAAAAAAA+H8AAAAAAAD4fwAAAAAAAPh/AAAAAAAA+H8AAAAAAAD4fwAAAAAAAPh/AAAAAAAA+H8AAAAAAAD4fwAAAAAAAPh/AAAAAAAA+H8AAAAAAAD4fwAAAAAAAPh/AAAAAAAA+H8AAAAAAAD4fwAAAAAAAPh/AAAAAAAA+H8AAAAAAAD4fwAAAAAAAPh/AAAAAAAA+H8AAAAAAAD4fwAAAAAAAPh/AAAAAAAA+H8AAAAAAAD4fwAAAAAAAPh/AAAAAAAA+H8AAAAAAAD4fwAAAAAAAPh/AAAAAAAA+H8AAAAAAAD4fwAAAAAAAPh/AAAAAAAA+H8AAAAAAAD4fwAAAAAAAPh/AAAAAAAA+H8AAAAAAAD4fwAAAAAAAPh/AAAAAAAA+H8AAAAAAAD4fwAAAAAAAPh/AAAAAAAA+H8AAAAAAAD4fwAAAAAAAPh/",
          "dtype": "f8"
         }
        },
        {
         "line": {
          "color": "green",
          "dash": "dash"
         },
         "mode": "lines",
         "name": "MUFL Predicho (Actual)",
         "type": "scatter",
         "x": [
          "2016-07-04T14:00:00.000000000",
          "2016-07-04T16:00:00.000000000",
          "2016-07-04T18:00:00.000000000",
          "2016-07-04T20:00:00.000000000",
          "2016-07-04T22:00:00.000000000",
          "2016-07-05T00:00:00.000000000",
          "2016-07-05T02:00:00.000000000",
          "2016-07-05T04:00:00.000000000",
          "2016-07-05T06:00:00.000000000",
          "2016-07-05T08:00:00.000000000",
          "2016-07-05T10:00:00.000000000",
          "2016-07-05T12:00:00.000000000",
          "2016-07-05T14:00:00.000000000",
          "2016-07-05T16:00:00.000000000",
          "2016-07-05T18:00:00.000000000",
          "2016-07-05T20:00:00.000000000",
          "2016-07-05T22:00:00.000000000",
          "2016-07-06T00:00:00.000000000",
          "2016-07-06T02:00:00.000000000",
          "2016-07-06T04:00:00.000000000",
          "2016-07-06T06:00:00.000000000",
          "2016-07-06T08:00:00.000000000",
          "2016-07-06T10:00:00.000000000",
          "2016-07-06T12:00:00.000000000"
         ],
         "y": {
          "bdata": "rqCXFze+QUAbCYgnejNCQB5D3gSDF0JAaOh3HitKQkC1qtvgFDZCQJjxDi3JJUFAxgS/0JHHQEBa7u5X8CtBQIMmh82wxkBAtMQ3NNXXQUC4JPhnImhBQOwtQfhXXUJAJLp8LCHaQkAMZ9BuMGxCQKcoJrcK3UFA5u2KWEFnQUDape2XxWNBQHQt5f2fxEFAM5aSx2qxQUDeGVzeXJ1BQGb5/VRllkFA4CIy++LyQUDai5FEBcJBQNecF3s/DkFA",
          "dtype": "f8"
         }
        },
        {
         "line": {
          "color": "red"
         },
         "mode": "lines",
         "name": "MUFL Predicho (Futuro)",
         "type": "scatter",
         "x": [
          "2016-07-06T14:00:00.000000000",
          "2016-07-06T16:00:00.000000000",
          "2016-07-06T18:00:00.000000000",
          "2016-07-06T20:00:00.000000000",
          "2016-07-06T22:00:00.000000000",
          "2016-07-07T00:00:00.000000000",
          "2016-07-07T02:00:00.000000000",
          "2016-07-07T04:00:00.000000000",
          "2016-07-07T06:00:00.000000000",
          "2016-07-07T08:00:00.000000000",
          "2016-07-07T10:00:00.000000000",
          "2016-07-07T12:00:00.000000000",
          "2016-07-07T14:00:00.000000000",
          "2016-07-07T16:00:00.000000000",
          "2016-07-07T18:00:00.000000000",
          "2016-07-07T20:00:00.000000000",
          "2016-07-07T22:00:00.000000000",
          "2016-07-08T00:00:00.000000000",
          "2016-07-08T02:00:00.000000000",
          "2016-07-08T04:00:00.000000000",
          "2016-07-08T06:00:00.000000000",
          "2016-07-08T08:00:00.000000000",
          "2016-07-08T10:00:00.000000000",
          "2016-07-08T12:00:00.000000000",
          "2016-07-08T14:00:00.000000000",
          "2016-07-08T16:00:00.000000000",
          "2016-07-08T18:00:00.000000000",
          "2016-07-08T20:00:00.000000000",
          "2016-07-08T22:00:00.000000000",
          "2016-07-09T00:00:00.000000000",
          "2016-07-09T02:00:00.000000000",
          "2016-07-09T04:00:00.000000000",
          "2016-07-09T06:00:00.000000000",
          "2016-07-09T08:00:00.000000000",
          "2016-07-09T10:00:00.000000000",
          "2016-07-09T12:00:00.000000000",
          "2016-07-09T14:00:00.000000000",
          "2016-07-09T16:00:00.000000000",
          "2016-07-09T18:00:00.000000000",
          "2016-07-09T20:00:00.000000000",
          "2016-07-09T22:00:00.000000000",
          "2016-07-10T00:00:00.000000000",
          "2016-07-10T02:00:00.000000000",
          "2016-07-10T04:00:00.000000000",
          "2016-07-10T06:00:00.000000000",
          "2016-07-10T08:00:00.000000000",
          "2016-07-10T10:00:00.000000000",
          "2016-07-10T12:00:00.000000000",
          "2016-07-10T14:00:00.000000000",
          "2016-07-10T16:00:00.000000000",
          "2016-07-10T18:00:00.000000000",
          "2016-07-10T20:00:00.000000000",
          "2016-07-10T22:00:00.000000000",
          "2016-07-11T00:00:00.000000000",
          "2016-07-11T02:00:00.000000000",
          "2016-07-11T04:00:00.000000000",
          "2016-07-11T06:00:00.000000000",
          "2016-07-11T08:00:00.000000000",
          "2016-07-11T10:00:00.000000000",
          "2016-07-11T12:00:00.000000000",
          "2016-07-11T14:00:00.000000000",
          "2016-07-11T16:00:00.000000000",
          "2016-07-11T18:00:00.000000000",
          "2016-07-11T20:00:00.000000000",
          "2016-07-11T22:00:00.000000000",
          "2016-07-12T00:00:00.000000000",
          "2016-07-12T02:00:00.000000000",
          "2016-07-12T04:00:00.000000000",
          "2016-07-12T06:00:00.000000000",
          "2016-07-12T08:00:00.000000000",
          "2016-07-12T10:00:00.000000000",
          "2016-07-12T12:00:00.000000000",
          "2016-07-12T14:00:00.000000000",
          "2016-07-12T16:00:00.000000000",
          "2016-07-12T18:00:00.000000000",
          "2016-07-12T20:00:00.000000000",
          "2016-07-12T22:00:00.000000000",
          "2016-07-13T00:00:00.000000000",
          "2016-07-13T02:00:00.000000000",
          "2016-07-13T04:00:00.000000000",
          "2016-07-13T06:00:00.000000000",
          "2016-07-13T08:00:00.000000000",
          "2016-07-13T10:00:00.000000000",
          "2016-07-13T12:00:00.000000000"
         ],
         "y": {
          "bdata": "dlAXbua7QUBK9oCdCb1BQHfucLydvUFArh4lFem9QUBOH/loD75BQLtVFOgivkFAXOj30iy+QUB2AHXeMb5BQI0zam80vkFAWg2ZvTW+QUAlSJdnNr5BQI4/EL42vkFAIvAM6ja+QUAWDm0AN75BQDjZzgs3vkFAaguZETe+QUAOA4sUN75BQMKKChY3vkFAGaPNFje+QUDq4DAXN75BQGlcYxc3vkFAXgp9Fze+QUBtGooXN75BQH6/kBc3vkFAyyCUFze+QUD12JUXN75BQNy4lhc3vkFAwiqXFze+QUCyZJcXN75BQCqClxc3vkFAKJGXFze+QUDImJcXN75BQKqclxc3vkFAo56XFze+QUCkn5cXN75BQCaglxc3vkFAaKCXFze+QUCKoJcXN75BQJyglxc3vkFApKCXFze+QUCooJcXN75BQKuglxc3vkFArKCXFze+QUCtoJcXN75BQK6glxc3vkFArqCXFze+QUCuoJcXN75BQK6glxc3vkFArqCXFze+QUCuoJcXN75BQK6glxc3vkFArqCXFze+QUCuoJcXN75BQK6glxc3vkFArqCXFze+QUCuoJcXN75BQK6glxc3vkFArqCXFze+QUCuoJcXN75BQK6glxc3vkFArqCXFze+QUCuoJcXN75BQK6glxc3vkFArqCXFze+QUCuoJcXN75BQK6glxc3vkFArqCXFze+QUCuoJcXN75BQK6glxc3vkFArqCXFze+QUCuoJcXN75BQK6glxc3vkFArqCXFze+QUCuoJcXN75BQK6glxc3vkFArqCXFze+QUCuoJcXN75BQK6glxc3vkFArqCXFze+QUCuoJcXN75BQK6glxc3vkFArqCXFze+QUCuoJcXN75BQK6glxc3vkFA",
          "dtype": "f8"
         }
        },
        {
         "line": {
          "color": "gray",
          "width": 0.5
         },
         "mode": "lines",
         "name": "Límite Superior (95% IC)",
         "type": "scatter",
         "x": [
          "2016-07-06T14:00:00.000000000",
          "2016-07-06T16:00:00.000000000",
          "2016-07-06T18:00:00.000000000",
          "2016-07-06T20:00:00.000000000",
          "2016-07-06T22:00:00.000000000",
          "2016-07-07T00:00:00.000000000",
          "2016-07-07T02:00:00.000000000",
          "2016-07-07T04:00:00.000000000",
          "2016-07-07T06:00:00.000000000",
          "2016-07-07T08:00:00.000000000",
          "2016-07-07T10:00:00.000000000",
          "2016-07-07T12:00:00.000000000",
          "2016-07-07T14:00:00.000000000",
          "2016-07-07T16:00:00.000000000",
          "2016-07-07T18:00:00.000000000",
          "2016-07-07T20:00:00.000000000",
          "2016-07-07T22:00:00.000000000",
          "2016-07-08T00:00:00.000000000",
          "2016-07-08T02:00:00.000000000",
          "2016-07-08T04:00:00.000000000",
          "2016-07-08T06:00:00.000000000",
          "2016-07-08T08:00:00.000000000",
          "2016-07-08T10:00:00.000000000",
          "2016-07-08T12:00:00.000000000",
          "2016-07-08T14:00:00.000000000",
          "2016-07-08T16:00:00.000000000",
          "2016-07-08T18:00:00.000000000",
          "2016-07-08T20:00:00.000000000",
          "2016-07-08T22:00:00.000000000",
          "2016-07-09T00:00:00.000000000",
          "2016-07-09T02:00:00.000000000",
          "2016-07-09T04:00:00.000000000",
          "2016-07-09T06:00:00.000000000",
          "2016-07-09T08:00:00.000000000",
          "2016-07-09T10:00:00.000000000",
          "2016-07-09T12:00:00.000000000",
          "2016-07-09T14:00:00.000000000",
          "2016-07-09T16:00:00.000000000",
          "2016-07-09T18:00:00.000000000",
          "2016-07-09T20:00:00.000000000",
          "2016-07-09T22:00:00.000000000",
          "2016-07-10T00:00:00.000000000",
          "2016-07-10T02:00:00.000000000",
          "2016-07-10T04:00:00.000000000",
          "2016-07-10T06:00:00.000000000",
          "2016-07-10T08:00:00.000000000",
          "2016-07-10T10:00:00.000000000",
          "2016-07-10T12:00:00.000000000",
          "2016-07-10T14:00:00.000000000",
          "2016-07-10T16:00:00.000000000",
          "2016-07-10T18:00:00.000000000",
          "2016-07-10T20:00:00.000000000",
          "2016-07-10T22:00:00.000000000",
          "2016-07-11T00:00:00.000000000",
          "2016-07-11T02:00:00.000000000",
          "2016-07-11T04:00:00.000000000",
          "2016-07-11T06:00:00.000000000",
          "2016-07-11T08:00:00.000000000",
          "2016-07-11T10:00:00.000000000",
          "2016-07-11T12:00:00.000000000",
          "2016-07-11T14:00:00.000000000",
          "2016-07-11T16:00:00.000000000",
          "2016-07-11T18:00:00.000000000",
          "2016-07-11T20:00:00.000000000",
          "2016-07-11T22:00:00.000000000",
          "2016-07-12T00:00:00.000000000",
          "2016-07-12T02:00:00.000000000",
          "2016-07-12T04:00:00.000000000",
          "2016-07-12T06:00:00.000000000",
          "2016-07-12T08:00:00.000000000",
          "2016-07-12T10:00:00.000000000",
          "2016-07-12T12:00:00.000000000",
          "2016-07-12T14:00:00.000000000",
          "2016-07-12T16:00:00.000000000",
          "2016-07-12T18:00:00.000000000",
          "2016-07-12T20:00:00.000000000",
          "2016-07-12T22:00:00.000000000",
          "2016-07-13T00:00:00.000000000",
          "2016-07-13T02:00:00.000000000",
          "2016-07-13T04:00:00.000000000",
          "2016-07-13T06:00:00.000000000",
          "2016-07-13T08:00:00.000000000",
          "2016-07-13T10:00:00.000000000",
          "2016-07-13T12:00:00.000000000"
         ],
         "y": {
          "bdata": "2v7qopFwQ0B2NV2V9KZDQPUhxx9ltENAeBbIyPa3Q0A5uG8m9bhDQMP6YH1AuUNANqRt2li5Q0DsTMeiYblDQB3SUytluUNAF4mTuWa5Q0BanSV0Z7lDQPO16M5nuUNA4IwB/Ge5Q0B+MasSaLlDQCQDIB5ouUNAnyHvI2i5Q0BeX+ImaLlDQHU7YihouUNAoWklKWi5Q0AZrYgpaLlDQA4quylouUNAZNjUKWi5Q0CM6OEpaLlDQKON6ClouUNA8u7rKWi5Q0Acp+0paLlDQASH7ilouUNA6vjuKWi5Q0DaMu8paLlDQFJQ7ylouUNAUF/vKWi5Q0DwZu8paLlDQNJq7ylouUNAy2zvKWi5Q0DMbe8paLlDQE5u7ylouUNAkG7vKWi5Q0Cybu8paLlDQMRu7ylouUNAzG7vKWi5Q0DQbu8paLlDQNNu7ylouUNA1G7vKWi5Q0DVbu8paLlDQNZu7ylouUNA1m7vKWi5Q0DWbu8paLlDQNZu7ylouUNA1m7vKWi5Q0DWbu8paLlDQNZu7ylouUNA1m7vKWi5Q0DWbu8paLlDQNZu7ylouUNA1m7vKWi5Q0DWbu8paLlDQNZu7ylouUNA1m7vKWi5Q0DWbu8paLlDQNZu7ylouUNA1m7vKWi5Q0DWbu8paLlDQNZu7ylouUNA1m7vKWi5Q0DWbu8paLlDQNZu7ylouUNA1m7vKWi5Q0DWbu8paLlDQNZu7ylouUNA1m7vKWi5Q0DWbu8paLlDQNZu7ylouUNA1m7vKWi5Q0DWbu8paLlDQNZu7ylouUNA1m7vKWi5Q0DWbu8paLlDQNZu7ylouUNA1m7vKWi5Q0DWbu8paLlDQNZu7ylouUNA1m7vKWi5Q0DWbu8paLlDQNZu7ylouUNA",
          "dtype": "f8"
         }
        },
        {
         "fill": "tonexty",
         "fillcolor": "rgba(200, 100, 200, 0.1)",
         "line": {
          "color": "gray",
          "width": 0.5
         },
         "mode": "lines",
         "name": "Límite Inferior (95% IC)",
         "type": "scatter",
         "x": [
          "2016-07-06T14:00:00.000000000",
          "2016-07-06T16:00:00.000000000",
          "2016-07-06T18:00:00.000000000",
          "2016-07-06T20:00:00.000000000",
          "2016-07-06T22:00:00.000000000",
          "2016-07-07T00:00:00.000000000",
          "2016-07-07T02:00:00.000000000",
          "2016-07-07T04:00:00.000000000",
          "2016-07-07T06:00:00.000000000",
          "2016-07-07T08:00:00.000000000",
          "2016-07-07T10:00:00.000000000",
          "2016-07-07T12:00:00.000000000",
          "2016-07-07T14:00:00.000000000",
          "2016-07-07T16:00:00.000000000",
          "2016-07-07T18:00:00.000000000",
          "2016-07-07T20:00:00.000000000",
          "2016-07-07T22:00:00.000000000",
          "2016-07-08T00:00:00.000000000",
          "2016-07-08T02:00:00.000000000",
          "2016-07-08T04:00:00.000000000",
          "2016-07-08T06:00:00.000000000",
          "2016-07-08T08:00:00.000000000",
          "2016-07-08T10:00:00.000000000",
          "2016-07-08T12:00:00.000000000",
          "2016-07-08T14:00:00.000000000",
          "2016-07-08T16:00:00.000000000",
          "2016-07-08T18:00:00.000000000",
          "2016-07-08T20:00:00.000000000",
          "2016-07-08T22:00:00.000000000",
          "2016-07-09T00:00:00.000000000",
          "2016-07-09T02:00:00.000000000",
          "2016-07-09T04:00:00.000000000",
          "2016-07-09T06:00:00.000000000",
          "2016-07-09T08:00:00.000000000",
          "2016-07-09T10:00:00.000000000",
          "2016-07-09T12:00:00.000000000",
          "2016-07-09T14:00:00.000000000",
          "2016-07-09T16:00:00.000000000",
          "2016-07-09T18:00:00.000000000",
          "2016-07-09T20:00:00.000000000",
          "2016-07-09T22:00:00.000000000",
          "2016-07-10T00:00:00.000000000",
          "2016-07-10T02:00:00.000000000",
          "2016-07-10T04:00:00.000000000",
          "2016-07-10T06:00:00.000000000",
          "2016-07-10T08:00:00.000000000",
          "2016-07-10T10:00:00.000000000",
          "2016-07-10T12:00:00.000000000",
          "2016-07-10T14:00:00.000000000",
          "2016-07-10T16:00:00.000000000",
          "2016-07-10T18:00:00.000000000",
          "2016-07-10T20:00:00.000000000",
          "2016-07-10T22:00:00.000000000",
          "2016-07-11T00:00:00.000000000",
          "2016-07-11T02:00:00.000000000",
          "2016-07-11T04:00:00.000000000",
          "2016-07-11T06:00:00.000000000",
          "2016-07-11T08:00:00.000000000",
          "2016-07-11T10:00:00.000000000",
          "2016-07-11T12:00:00.000000000",
          "2016-07-11T14:00:00.000000000",
          "2016-07-11T16:00:00.000000000",
          "2016-07-11T18:00:00.000000000",
          "2016-07-11T20:00:00.000000000",
          "2016-07-11T22:00:00.000000000",
          "2016-07-12T00:00:00.000000000",
          "2016-07-12T02:00:00.000000000",
          "2016-07-12T04:00:00.000000000",
          "2016-07-12T06:00:00.000000000",
          "2016-07-12T08:00:00.000000000",
          "2016-07-12T10:00:00.000000000",
          "2016-07-12T12:00:00.000000000",
          "2016-07-12T14:00:00.000000000",
          "2016-07-12T16:00:00.000000000",
          "2016-07-12T18:00:00.000000000",
          "2016-07-12T20:00:00.000000000",
          "2016-07-12T22:00:00.000000000",
          "2016-07-13T00:00:00.000000000",
          "2016-07-13T02:00:00.000000000",
          "2016-07-13T04:00:00.000000000",
          "2016-07-13T06:00:00.000000000",
          "2016-07-13T08:00:00.000000000",
          "2016-07-13T10:00:00.000000000",
          "2016-07-13T12:00:00.000000000"
         ],
         "y": {
          "bdata": "EqJDOTsHQEA8bklLPaY/QPJ1NbKsjT9AyU0Ew7aHP0DFDAVXU4Y/QGVhj6UKhj9ABFkElwGGP0AAaEU0BIY/QPspAWcHhj9AOiM9gwmGP0Df5RG2CoY/QFKSb1oLhj9AyKYwsAuGP0Bc1V3cC4Y/QJhe+/ILhj9Aa+qF/guGP0B7TWcEDIY/QB+0ZQcMhj9AIbnrCAyGP0B3KbIJDIY/QIgdFwoMhj9AsHhKCgyGP0CcmGQKDIY/QLHicQoMhj9ASKV4CgyGP0CbFXwKDIY/QGnVfQoMhj9ANbl+CgyGP0AVLX8KDIY/QAVofwoMhj9AAYZ/CgyGP0BBlX8KDIY/QAWdfwoMhj9A96B/CgyGP0D5on8KDIY/QP2jfwoMhj9AgaR/CgyGP0DFpH8KDIY/QOmkfwoMhj9A+aR/CgyGP0ABpX8KDIY/QAelfwoMhj9ACaV/CgyGP0ALpX8KDIY/QA2lfwoMhj9ADaV/CgyGP0ANpX8KDIY/QA2lfwoMhj9ADaV/CgyGP0ANpX8KDIY/QA2lfwoMhj9ADaV/CgyGP0ANpX8KDIY/QA2lfwoMhj9ADaV/CgyGP0ANpX8KDIY/QA2lfwoMhj9ADaV/CgyGP0ANpX8KDIY/QA2lfwoMhj9ADaV/CgyGP0ANpX8KDIY/QA2lfwoMhj9ADaV/CgyGP0ANpX8KDIY/QA2lfwoMhj9ADaV/CgyGP0ANpX8KDIY/QA2lfwoMhj9ADaV/CgyGP0ANpX8KDIY/QA2lfwoMhj9ADaV/CgyGP0ANpX8KDIY/QA2lfwoMhj9ADaV/CgyGP0ANpX8KDIY/QA2lfwoMhj9ADaV/CgyGP0ANpX8KDIY/QA2lfwoMhj9ADaV/CgyGP0ANpX8KDIY/QA2lfwoMhj9A",
          "dtype": "f8"
         }
        }
       ],
       "layout": {
        "hovermode": "x unified",
        "showlegend": true,
        "template": {
         "data": {
          "bar": [
           {
            "error_x": {
             "color": "#f2f5fa"
            },
            "error_y": {
             "color": "#f2f5fa"
            },
            "marker": {
             "line": {
              "color": "rgb(17,17,17)",
              "width": 0.5
             },
             "pattern": {
              "fillmode": "overlay",
              "size": 10,
              "solidity": 0.2
             }
            },
            "type": "bar"
           }
          ],
          "barpolar": [
           {
            "marker": {
             "line": {
              "color": "rgb(17,17,17)",
              "width": 0.5
             },
             "pattern": {
              "fillmode": "overlay",
              "size": 10,
              "solidity": 0.2
             }
            },
            "type": "barpolar"
           }
          ],
          "carpet": [
           {
            "aaxis": {
             "endlinecolor": "#A2B1C6",
             "gridcolor": "#506784",
             "linecolor": "#506784",
             "minorgridcolor": "#506784",
             "startlinecolor": "#A2B1C6"
            },
            "baxis": {
             "endlinecolor": "#A2B1C6",
             "gridcolor": "#506784",
             "linecolor": "#506784",
             "minorgridcolor": "#506784",
             "startlinecolor": "#A2B1C6"
            },
            "type": "carpet"
           }
          ],
          "choropleth": [
           {
            "colorbar": {
             "outlinewidth": 0,
             "ticks": ""
            },
            "type": "choropleth"
           }
          ],
          "contour": [
           {
            "colorbar": {
             "outlinewidth": 0,
             "ticks": ""
            },
            "colorscale": [
             [
              0,
              "#0d0887"
             ],
             [
              0.1111111111111111,
              "#46039f"
             ],
             [
              0.2222222222222222,
              "#7201a8"
             ],
             [
              0.3333333333333333,
              "#9c179e"
             ],
             [
              0.4444444444444444,
              "#bd3786"
             ],
             [
              0.5555555555555556,
              "#d8576b"
             ],
             [
              0.6666666666666666,
              "#ed7953"
             ],
             [
              0.7777777777777778,
              "#fb9f3a"
             ],
             [
              0.8888888888888888,
              "#fdca26"
             ],
             [
              1,
              "#f0f921"
             ]
            ],
            "type": "contour"
           }
          ],
          "contourcarpet": [
           {
            "colorbar": {
             "outlinewidth": 0,
             "ticks": ""
            },
            "type": "contourcarpet"
           }
          ],
          "heatmap": [
           {
            "colorbar": {
             "outlinewidth": 0,
             "ticks": ""
            },
            "colorscale": [
             [
              0,
              "#0d0887"
             ],
             [
              0.1111111111111111,
              "#46039f"
             ],
             [
              0.2222222222222222,
              "#7201a8"
             ],
             [
              0.3333333333333333,
              "#9c179e"
             ],
             [
              0.4444444444444444,
              "#bd3786"
             ],
             [
              0.5555555555555556,
              "#d8576b"
             ],
             [
              0.6666666666666666,
              "#ed7953"
             ],
             [
              0.7777777777777778,
              "#fb9f3a"
             ],
             [
              0.8888888888888888,
              "#fdca26"
             ],
             [
              1,
              "#f0f921"
             ]
            ],
            "type": "heatmap"
           }
          ],
          "histogram": [
           {
            "marker": {
             "pattern": {
              "fillmode": "overlay",
              "size": 10,
              "solidity": 0.2
             }
            },
            "type": "histogram"
           }
          ],
          "histogram2d": [
           {
            "colorbar": {
             "outlinewidth": 0,
             "ticks": ""
            },
            "colorscale": [
             [
              0,
              "#0d0887"
             ],
             [
              0.1111111111111111,
              "#46039f"
             ],
             [
              0.2222222222222222,
              "#7201a8"
             ],
             [
              0.3333333333333333,
              "#9c179e"
             ],
             [
              0.4444444444444444,
              "#bd3786"
             ],
             [
              0.5555555555555556,
              "#d8576b"
             ],
             [
              0.6666666666666666,
              "#ed7953"
             ],
             [
              0.7777777777777778,
              "#fb9f3a"
             ],
             [
              0.8888888888888888,
              "#fdca26"
             ],
             [
              1,
              "#f0f921"
             ]
            ],
            "type": "histogram2d"
           }
          ],
          "histogram2dcontour": [
           {
            "colorbar": {
             "outlinewidth": 0,
             "ticks": ""
            },
            "colorscale": [
             [
              0,
              "#0d0887"
             ],
             [
              0.1111111111111111,
              "#46039f"
             ],
             [
              0.2222222222222222,
              "#7201a8"
             ],
             [
              0.3333333333333333,
              "#9c179e"
             ],
             [
              0.4444444444444444,
              "#bd3786"
             ],
             [
              0.5555555555555556,
              "#d8576b"
             ],
             [
              0.6666666666666666,
              "#ed7953"
             ],
             [
              0.7777777777777778,
              "#fb9f3a"
             ],
             [
              0.8888888888888888,
              "#fdca26"
             ],
             [
              1,
              "#f0f921"
             ]
            ],
            "type": "histogram2dcontour"
           }
          ],
          "mesh3d": [
           {
            "colorbar": {
             "outlinewidth": 0,
             "ticks": ""
            },
            "type": "mesh3d"
           }
          ],
          "parcoords": [
           {
            "line": {
             "colorbar": {
              "outlinewidth": 0,
              "ticks": ""
             }
            },
            "type": "parcoords"
           }
          ],
          "pie": [
           {
            "automargin": true,
            "type": "pie"
           }
          ],
          "scatter": [
           {
            "marker": {
             "line": {
              "color": "#283442"
             }
            },
            "type": "scatter"
           }
          ],
          "scatter3d": [
           {
            "line": {
             "colorbar": {
              "outlinewidth": 0,
              "ticks": ""
             }
            },
            "marker": {
             "colorbar": {
              "outlinewidth": 0,
              "ticks": ""
             }
            },
            "type": "scatter3d"
           }
          ],
          "scattercarpet": [
           {
            "marker": {
             "colorbar": {
              "outlinewidth": 0,
              "ticks": ""
             }
            },
            "type": "scattercarpet"
           }
          ],
          "scattergeo": [
           {
            "marker": {
             "colorbar": {
              "outlinewidth": 0,
              "ticks": ""
             }
            },
            "type": "scattergeo"
           }
          ],
          "scattergl": [
           {
            "marker": {
             "line": {
              "color": "#283442"
             }
            },
            "type": "scattergl"
           }
          ],
          "scattermap": [
           {
            "marker": {
             "colorbar": {
              "outlinewidth": 0,
              "ticks": ""
             }
            },
            "type": "scattermap"
           }
          ],
          "scattermapbox": [
           {
            "marker": {
             "colorbar": {
              "outlinewidth": 0,
              "ticks": ""
             }
            },
            "type": "scattermapbox"
           }
          ],
          "scatterpolar": [
           {
            "marker": {
             "colorbar": {
              "outlinewidth": 0,
              "ticks": ""
             }
            },
            "type": "scatterpolar"
           }
          ],
          "scatterpolargl": [
           {
            "marker": {
             "colorbar": {
              "outlinewidth": 0,
              "ticks": ""
             }
            },
            "type": "scatterpolargl"
           }
          ],
          "scatterternary": [
           {
            "marker": {
             "colorbar": {
              "outlinewidth": 0,
              "ticks": ""
             }
            },
            "type": "scatterternary"
           }
          ],
          "surface": [
           {
            "colorbar": {
             "outlinewidth": 0,
             "ticks": ""
            },
            "colorscale": [
             [
              0,
              "#0d0887"
             ],
             [
              0.1111111111111111,
              "#46039f"
             ],
             [
              0.2222222222222222,
              "#7201a8"
             ],
             [
              0.3333333333333333,
              "#9c179e"
             ],
             [
              0.4444444444444444,
              "#bd3786"
             ],
             [
              0.5555555555555556,
              "#d8576b"
             ],
             [
              0.6666666666666666,
              "#ed7953"
             ],
             [
              0.7777777777777778,
              "#fb9f3a"
             ],
             [
              0.8888888888888888,
              "#fdca26"
             ],
             [
              1,
              "#f0f921"
             ]
            ],
            "type": "surface"
           }
          ],
          "table": [
           {
            "cells": {
             "fill": {
              "color": "#506784"
             },
             "line": {
              "color": "rgb(17,17,17)"
             }
            },
            "header": {
             "fill": {
              "color": "#2a3f5f"
             },
             "line": {
              "color": "rgb(17,17,17)"
             }
            },
            "type": "table"
           }
          ]
         },
         "layout": {
          "annotationdefaults": {
           "arrowcolor": "#f2f5fa",
           "arrowhead": 0,
           "arrowwidth": 1
          },
          "autotypenumbers": "strict",
          "coloraxis": {
           "colorbar": {
            "outlinewidth": 0,
            "ticks": ""
           }
          },
          "colorscale": {
           "diverging": [
            [
             0,
             "#8e0152"
            ],
            [
             0.1,
             "#c51b7d"
            ],
            [
             0.2,
             "#de77ae"
            ],
            [
             0.3,
             "#f1b6da"
            ],
            [
             0.4,
             "#fde0ef"
            ],
            [
             0.5,
             "#f7f7f7"
            ],
            [
             0.6,
             "#e6f5d0"
            ],
            [
             0.7,
             "#b8e186"
            ],
            [
             0.8,
             "#7fbc41"
            ],
            [
             0.9,
             "#4d9221"
            ],
            [
             1,
             "#276419"
            ]
           ],
           "sequential": [
            [
             0,
             "#0d0887"
            ],
            [
             0.1111111111111111,
             "#46039f"
            ],
            [
             0.2222222222222222,
             "#7201a8"
            ],
            [
             0.3333333333333333,
             "#9c179e"
            ],
            [
             0.4444444444444444,
             "#bd3786"
            ],
            [
             0.5555555555555556,
             "#d8576b"
            ],
            [
             0.6666666666666666,
             "#ed7953"
            ],
            [
             0.7777777777777778,
             "#fb9f3a"
            ],
            [
             0.8888888888888888,
             "#fdca26"
            ],
            [
             1,
             "#f0f921"
            ]
           ],
           "sequentialminus": [
            [
             0,
             "#0d0887"
            ],
            [
             0.1111111111111111,
             "#46039f"
            ],
            [
             0.2222222222222222,
             "#7201a8"
            ],
            [
             0.3333333333333333,
             "#9c179e"
            ],
            [
             0.4444444444444444,
             "#bd3786"
            ],
            [
             0.5555555555555556,
             "#d8576b"
            ],
            [
             0.6666666666666666,
             "#ed7953"
            ],
            [
             0.7777777777777778,
             "#fb9f3a"
            ],
            [
             0.8888888888888888,
             "#fdca26"
            ],
            [
             1,
             "#f0f921"
            ]
           ]
          },
          "colorway": [
           "#636efa",
           "#EF553B",
           "#00cc96",
           "#ab63fa",
           "#FFA15A",
           "#19d3f3",
           "#FF6692",
           "#B6E880",
           "#FF97FF",
           "#FECB52"
          ],
          "font": {
           "color": "#f2f5fa"
          },
          "geo": {
           "bgcolor": "rgb(17,17,17)",
           "lakecolor": "rgb(17,17,17)",
           "landcolor": "rgb(17,17,17)",
           "showlakes": true,
           "showland": true,
           "subunitcolor": "#506784"
          },
          "hoverlabel": {
           "align": "left"
          },
          "hovermode": "closest",
          "mapbox": {
           "style": "dark"
          },
          "paper_bgcolor": "rgb(17,17,17)",
          "plot_bgcolor": "rgb(17,17,17)",
          "polar": {
           "angularaxis": {
            "gridcolor": "#506784",
            "linecolor": "#506784",
            "ticks": ""
           },
           "bgcolor": "rgb(17,17,17)",
           "radialaxis": {
            "gridcolor": "#506784",
            "linecolor": "#506784",
            "ticks": ""
           }
          },
          "scene": {
           "xaxis": {
            "backgroundcolor": "rgb(17,17,17)",
            "gridcolor": "#506784",
            "gridwidth": 2,
            "linecolor": "#506784",
            "showbackground": true,
            "ticks": "",
            "zerolinecolor": "#C8D4E3"
           },
           "yaxis": {
            "backgroundcolor": "rgb(17,17,17)",
            "gridcolor": "#506784",
            "gridwidth": 2,
            "linecolor": "#506784",
            "showbackground": true,
            "ticks": "",
            "zerolinecolor": "#C8D4E3"
           },
           "zaxis": {
            "backgroundcolor": "rgb(17,17,17)",
            "gridcolor": "#506784",
            "gridwidth": 2,
            "linecolor": "#506784",
            "showbackground": true,
            "ticks": "",
            "zerolinecolor": "#C8D4E3"
           }
          },
          "shapedefaults": {
           "line": {
            "color": "#f2f5fa"
           }
          },
          "sliderdefaults": {
           "bgcolor": "#C8D4E3",
           "bordercolor": "rgb(17,17,17)",
           "borderwidth": 1,
           "tickwidth": 0
          },
          "ternary": {
           "aaxis": {
            "gridcolor": "#506784",
            "linecolor": "#506784",
            "ticks": ""
           },
           "baxis": {
            "gridcolor": "#506784",
            "linecolor": "#506784",
            "ticks": ""
           },
           "bgcolor": "rgb(17,17,17)",
           "caxis": {
            "gridcolor": "#506784",
            "linecolor": "#506784",
            "ticks": ""
           }
          },
          "title": {
           "x": 0.05
          },
          "updatemenudefaults": {
           "bgcolor": "#506784",
           "borderwidth": 0
          },
          "xaxis": {
           "automargin": true,
           "gridcolor": "#283442",
           "linecolor": "#506784",
           "ticks": "",
           "title": {
            "standoff": 15
           },
           "zerolinecolor": "#283442",
           "zerolinewidth": 2
          },
          "yaxis": {
           "automargin": true,
           "gridcolor": "#283442",
           "linecolor": "#506784",
           "ticks": "",
           "title": {
            "standoff": 15
           },
           "zerolinecolor": "#283442",
           "zerolinewidth": 2
          }
         }
        },
        "title": {
         "text": "Predicción del MUFL utilizando Auto-ARIMA con Intervalo de Confianza del 95%"
        },
        "xaxis": {
         "title": {
          "text": "Fecha"
         }
        },
        "yaxis": {
         "title": {
          "text": "MUFL"
         }
        }
       }
      }
     },
     "metadata": {},
     "output_type": "display_data"
    },
    {
     "name": "stdout",
     "output_type": "stream",
     "text": [
      "RMSE on test set: 5.6682848837493\n",
      "MAE on test set: 5.085785818440292\n",
      "Naive Forecast RMSE: 3.313182758253987\n",
      "Naive Forecast MAE: 2.6640883053050324\n",
      "Máximo: 43.98850059509277\n",
      "Mínimo: 27.113999366760254\n",
      "Orden ARIMA seleccionado: (1, 0, 0)\n"
     ]
    }
   ],
   "source": [
    "import numpy as np\n",
    "import pandas as pd\n",
    "import plotly.graph_objects as go\n",
    "from pmdarima import auto_arima  # Importamos auto_arima\n",
    "from statsmodels.tsa.stattools import adfuller\n",
    "from sklearn.metrics import mean_squared_error\n",
    "from math import sqrt\n",
    "import warnings\n",
    "warnings.filterwarnings(\"ignore\")\n",
    "from datetime import datetime, timedelta\n",
    "\n",
    "# Cargar datos\n",
    "data = pd.read_csv(\"https://huggingface.co/datasets/pkr7098/time-series-forecasting-datasets/resolve/main/ETTh2.csv\")\n",
    "data['date'] = pd.to_datetime(data['date'])\n",
    "data = data.head(168)\n",
    "data.set_index('date', inplace=True)\n",
    "data_2h = data.resample('2H').mean()\n",
    "hull_data = data_2h[['MUFL']].dropna()  # Usamos MUFL como en el código anterior\n",
    "\n",
    "# Split the data into training and test sets (80% train, 20% test)\n",
    "total_rows = len(hull_data)\n",
    "train_size = int(total_rows * 0.8)\n",
    "test_size = total_rows - train_size\n",
    "train = hull_data['MUFL'][:train_size]\n",
    "test = hull_data['MUFL'][train_size:]\n",
    "\n",
    "# Stationarity Testing (Dickey-Fuller)\n",
    "def dickey_fuller_test(series, column_name):\n",
    "    print(f'Resultados de la prueba de Dickey-Fuller para columna: {column_name}')\n",
    "    dftest = adfuller(series, autolag='AIC')\n",
    "    dfoutput = pd.Series(dftest[0:4], index=['Test Statistic', 'p-value', 'No Lags Used', 'Número de observaciones utilizadas'])\n",
    "    for key, value in dftest[4].items():\n",
    "        dfoutput[f'Critical Value ({key})'] = value\n",
    "    print(dfoutput)\n",
    "    if dftest[1] <= 0.05:\n",
    "        print(\"Conclusión: Los datos son estacionarios\")\n",
    "    else:\n",
    "        print(\"Conclusión: Los datos no son estacionarios\")\n",
    "    return dftest[1]\n",
    "\n",
    "# Get p-value from test\n",
    "p_value = dickey_fuller_test(train, \"MUFL\")\n",
    "\n",
    "# Use the last two days (24 points at 2-hour intervals) for modeling\n",
    "last_two_days = train[-24:]\n",
    "\n",
    "# Fit auto_arima model - Optimiza automáticamente p, d, q\n",
    "model = auto_arima(last_two_days, \n",
    "                   seasonal=False,  # No asumimos estacionalidad\n",
    "                   start_p=0, start_q=0, max_p=5, max_q=5,  # Límites para p y q\n",
    "                   d=None,  # Deja que auto_arima determine d, pero sabemos que es estacionaria\n",
    "                   trace=True,  # Muestra el proceso de selección\n",
    "                   error_action='ignore', \n",
    "                   suppress_warnings=True)\n",
    "model_fit = model.fit(last_two_days)\n",
    "\n",
    "# Forecast for one week (7 days = 7 * 12 = 84 data points at 2-hour intervals)\n",
    "forecast_steps = 84\n",
    "forecast = model.predict(n_periods=forecast_steps)\n",
    "\n",
    "# Confidence intervals from the fitted model\n",
    "forecast_obj = model_fit.predict(n_periods=forecast_steps, return_conf_int=True)\n",
    "forecast, conf_int = forecast_obj[0], forecast_obj[1]\n",
    "ci_lower = conf_int[:, 0]  # Límite inferior\n",
    "ci_upper = conf_int[:, 1]  # Límite superior\n",
    "\n",
    "# Create a date range for the forecast\n",
    "last_date = last_two_days.index[-1]\n",
    "forecast_dates = pd.date_range(start=last_date + timedelta(hours=2), periods=forecast_steps, freq='2H')\n",
    "\n",
    "# Create a DataFrame for the forecast with confidence intervals\n",
    "forecast_ci_df = pd.DataFrame({\n",
    "    'MUFL_Predicho': forecast,\n",
    "    'CI_Lower': ci_lower,\n",
    "    'CI_Upper': ci_upper\n",
    "}, index=forecast_dates)\n",
    "\n",
    "# Combine historical and forecast data\n",
    "historical_pred_df = pd.DataFrame({\n",
    "    'MUFL_Historico': last_two_days,\n",
    "    'MUFL_Predicho': model.predict_in_sample()  # Predicciones en la muestra\n",
    "})\n",
    "\n",
    "combined_df = pd.concat([historical_pred_df, forecast_ci_df], axis=0)\n",
    "\n",
    "# Visualize the results\n",
    "fig = go.Figure()\n",
    "\n",
    "# Add historical values\n",
    "fig.add_trace(go.Scatter(\n",
    "    x=combined_df.index,\n",
    "    y=combined_df['MUFL_Historico'],\n",
    "    mode='lines',\n",
    "    name='MUFL Histórico',\n",
    "    line=dict(color='blue')\n",
    "))\n",
    "\n",
    "# Add predicted values for historical data\n",
    "fig.add_trace(go.Scatter(\n",
    "    x=combined_df.index[:len(last_two_days)],\n",
    "    y=combined_df['MUFL_Predicho'][:len(last_two_days)],\n",
    "    mode='lines',\n",
    "    name='MUFL Predicho (Actual)',\n",
    "    line=dict(color='green', dash='dash')\n",
    "))\n",
    "\n",
    "# Add future forecast\n",
    "fig.add_trace(go.Scatter(\n",
    "    x=forecast_ci_df.index,\n",
    "    y=forecast_ci_df['MUFL_Predicho'],\n",
    "    mode='lines',\n",
    "    name='MUFL Predicho (Futuro)',\n",
    "    line=dict(color='red')\n",
    "))\n",
    "\n",
    "# Add 95% confidence interval\n",
    "fig.add_trace(go.Scatter(\n",
    "    x=forecast_ci_df.index,\n",
    "    y=forecast_ci_df['CI_Upper'],\n",
    "    mode='lines',\n",
    "    name='Límite Superior (95% IC)',\n",
    "    line=dict(color='gray', width=0.5)\n",
    "))\n",
    "\n",
    "fig.add_trace(go.Scatter(\n",
    "    x=forecast_ci_df.index,\n",
    "    y=forecast_ci_df['CI_Lower'],\n",
    "    mode='lines',\n",
    "    name='Límite Inferior (95% IC)',\n",
    "    line=dict(color='gray', width=0.5),\n",
    "    fill='tonexty',\n",
    "    fillcolor='rgba(200, 100, 200, 0.1)'\n",
    "))\n",
    "\n",
    "# Customize the plot\n",
    "fig.update_layout(\n",
    "    title='Predicción del MUFL utilizando Auto-ARIMA con Intervalo de Confianza del 95%',\n",
    "    xaxis_title='Fecha',\n",
    "    yaxis_title='MUFL',\n",
    "    hovermode='x unified',\n",
    "    template=\"plotly_dark\",\n",
    "    showlegend=True\n",
    ")\n",
    "\n",
    "# Show the plot\n",
    "fig.show()\n",
    "\n",
    "# Calculate error metrics on the test set\n",
    "pred_test = model.predict(n_periods=len(test))\n",
    "rmse = sqrt(mean_squared_error(test, pred_test))\n",
    "mae = np.mean(np.abs(test - pred_test))\n",
    "print(f\"RMSE on test set: {rmse}\")\n",
    "print(f\"MAE on test set: {mae}\")\n",
    "\n",
    "# Naive forecast: Use the last value of the training set for all test predictions\n",
    "naive_forecast = np.full_like(test, test.iloc[0])\n",
    "\n",
    "# Calculate error metrics for the naive forecast\n",
    "rmse_naive = sqrt(mean_squared_error(test, naive_forecast))\n",
    "mae_naive = np.mean(np.abs(test - naive_forecast))\n",
    "\n",
    "print(f\"Naive Forecast RMSE: {rmse_naive}\")\n",
    "print(f\"Naive Forecast MAE: {mae_naive}\")\n",
    "\n",
    "# Print maximum and minimum of the series\n",
    "print(f\"Máximo: {hull_data['MUFL'].max()}\")\n",
    "print(f\"Mínimo: {hull_data['MUFL'].min()}\")\n",
    "\n",
    "# Mostrar el orden seleccionado por auto_arima\n",
    "print(f\"Orden ARIMA seleccionado: {model.order}\")"
   ]
  },
  {
   "cell_type": "code",
   "execution_count": 24,
   "metadata": {},
   "outputs": [
    {
     "name": "stdout",
     "output_type": "stream",
     "text": [
      "Resultados de la prueba de Dickey-Fuller para columna: MULL\n",
      "Test Statistic                        -2.847443\n",
      "p-value                                0.051810\n",
      "No Lags Used                           0.000000\n",
      "Número de observaciones utilizadas    66.000000\n",
      "Critical Value (1%)                   -3.533560\n",
      "Critical Value (5%)                   -2.906444\n",
      "Critical Value (10%)                  -2.590724\n",
      "dtype: float64\n",
      "Conclusión: Los datos no son estacionarios\n",
      "Performing stepwise search to minimize aic\n",
      " ARIMA(0,0,0)(0,0,0)[0]             : AIC=179.370, Time=0.01 sec\n",
      " ARIMA(1,0,0)(0,0,0)[0]             : AIC=inf, Time=0.08 sec\n",
      " ARIMA(0,0,1)(0,0,0)[0]             : AIC=inf, Time=0.12 sec\n",
      " ARIMA(1,0,1)(0,0,0)[0]             : AIC=74.920, Time=0.07 sec\n",
      " ARIMA(2,0,1)(0,0,0)[0]             : AIC=76.504, Time=0.06 sec\n",
      " ARIMA(1,0,2)(0,0,0)[0]             : AIC=inf, Time=0.28 sec\n",
      " ARIMA(0,0,2)(0,0,0)[0]             : AIC=139.287, Time=0.08 sec\n",
      " ARIMA(2,0,0)(0,0,0)[0]             : AIC=inf, Time=0.22 sec\n",
      " ARIMA(2,0,2)(0,0,0)[0]             : AIC=inf, Time=0.21 sec\n",
      " ARIMA(1,0,1)(0,0,0)[0] intercept   : AIC=66.862, Time=0.09 sec\n",
      " ARIMA(0,0,1)(0,0,0)[0] intercept   : AIC=65.949, Time=0.03 sec\n",
      " ARIMA(0,0,0)(0,0,0)[0] intercept   : AIC=66.448, Time=0.02 sec\n",
      " ARIMA(0,0,2)(0,0,0)[0] intercept   : AIC=inf, Time=0.25 sec\n",
      " ARIMA(1,0,0)(0,0,0)[0] intercept   : AIC=65.040, Time=0.06 sec\n",
      " ARIMA(2,0,0)(0,0,0)[0] intercept   : AIC=66.659, Time=0.12 sec\n",
      " ARIMA(2,0,1)(0,0,0)[0] intercept   : AIC=68.560, Time=0.29 sec\n",
      "\n",
      "Best model:  ARIMA(1,0,0)(0,0,0)[0] intercept\n",
      "Total fit time: 2.010 seconds\n"
     ]
    },
    {
     "data": {
      "application/vnd.plotly.v1+json": {
       "config": {
        "plotlyServerURL": "https://plot.ly"
       },
       "data": [
        {
         "line": {
          "color": "blue"
         },
         "mode": "lines",
         "name": "MULL Histórico",
         "type": "scatter",
         "x": [
          "2016-07-04T14:00:00.000000000",
          "2016-07-04T16:00:00.000000000",
          "2016-07-04T18:00:00.000000000",
          "2016-07-04T20:00:00.000000000",
          "2016-07-04T22:00:00.000000000",
          "2016-07-05T00:00:00.000000000",
          "2016-07-05T02:00:00.000000000",
          "2016-07-05T04:00:00.000000000",
          "2016-07-05T06:00:00.000000000",
          "2016-07-05T08:00:00.000000000",
          "2016-07-05T10:00:00.000000000",
          "2016-07-05T12:00:00.000000000",
          "2016-07-05T14:00:00.000000000",
          "2016-07-05T16:00:00.000000000",
          "2016-07-05T18:00:00.000000000",
          "2016-07-05T20:00:00.000000000",
          "2016-07-05T22:00:00.000000000",
          "2016-07-06T00:00:00.000000000",
          "2016-07-06T02:00:00.000000000",
          "2016-07-06T04:00:00.000000000",
          "2016-07-06T06:00:00.000000000",
          "2016-07-06T08:00:00.000000000",
          "2016-07-06T10:00:00.000000000",
          "2016-07-06T12:00:00.000000000",
          "2016-07-06T14:00:00.000000000",
          "2016-07-06T16:00:00.000000000",
          "2016-07-06T18:00:00.000000000",
          "2016-07-06T20:00:00.000000000",
          "2016-07-06T22:00:00.000000000",
          "2016-07-07T00:00:00.000000000",
          "2016-07-07T02:00:00.000000000",
          "2016-07-07T04:00:00.000000000",
          "2016-07-07T06:00:00.000000000",
          "2016-07-07T08:00:00.000000000",
          "2016-07-07T10:00:00.000000000",
          "2016-07-07T12:00:00.000000000",
          "2016-07-07T14:00:00.000000000",
          "2016-07-07T16:00:00.000000000",
          "2016-07-07T18:00:00.000000000",
          "2016-07-07T20:00:00.000000000",
          "2016-07-07T22:00:00.000000000",
          "2016-07-08T00:00:00.000000000",
          "2016-07-08T02:00:00.000000000",
          "2016-07-08T04:00:00.000000000",
          "2016-07-08T06:00:00.000000000",
          "2016-07-08T08:00:00.000000000",
          "2016-07-08T10:00:00.000000000",
          "2016-07-08T12:00:00.000000000",
          "2016-07-08T14:00:00.000000000",
          "2016-07-08T16:00:00.000000000",
          "2016-07-08T18:00:00.000000000",
          "2016-07-08T20:00:00.000000000",
          "2016-07-08T22:00:00.000000000",
          "2016-07-09T00:00:00.000000000",
          "2016-07-09T02:00:00.000000000",
          "2016-07-09T04:00:00.000000000",
          "2016-07-09T06:00:00.000000000",
          "2016-07-09T08:00:00.000000000",
          "2016-07-09T10:00:00.000000000",
          "2016-07-09T12:00:00.000000000",
          "2016-07-09T14:00:00.000000000",
          "2016-07-09T16:00:00.000000000",
          "2016-07-09T18:00:00.000000000",
          "2016-07-09T20:00:00.000000000",
          "2016-07-09T22:00:00.000000000",
          "2016-07-10T00:00:00.000000000",
          "2016-07-10T02:00:00.000000000",
          "2016-07-10T04:00:00.000000000",
          "2016-07-10T06:00:00.000000000",
          "2016-07-10T08:00:00.000000000",
          "2016-07-10T10:00:00.000000000",
          "2016-07-10T12:00:00.000000000",
          "2016-07-10T14:00:00.000000000",
          "2016-07-10T16:00:00.000000000",
          "2016-07-10T18:00:00.000000000",
          "2016-07-10T20:00:00.000000000",
          "2016-07-10T22:00:00.000000000",
          "2016-07-11T00:00:00.000000000",
          "2016-07-11T02:00:00.000000000",
          "2016-07-11T04:00:00.000000000",
          "2016-07-11T06:00:00.000000000",
          "2016-07-11T08:00:00.000000000",
          "2016-07-11T10:00:00.000000000",
          "2016-07-11T12:00:00.000000000",
          "2016-07-11T14:00:00.000000000",
          "2016-07-11T16:00:00.000000000",
          "2016-07-11T18:00:00.000000000",
          "2016-07-11T20:00:00.000000000",
          "2016-07-11T22:00:00.000000000",
          "2016-07-12T00:00:00.000000000",
          "2016-07-12T02:00:00.000000000",
          "2016-07-12T04:00:00.000000000",
          "2016-07-12T06:00:00.000000000",
          "2016-07-12T08:00:00.000000000",
          "2016-07-12T10:00:00.000000000",
          "2016-07-12T12:00:00.000000000",
          "2016-07-12T14:00:00.000000000",
          "2016-07-12T16:00:00.000000000",
          "2016-07-12T18:00:00.000000000",
          "2016-07-12T20:00:00.000000000",
          "2016-07-12T22:00:00.000000000",
          "2016-07-13T00:00:00.000000000",
          "2016-07-13T02:00:00.000000000",
          "2016-07-13T04:00:00.000000000",
          "2016-07-13T06:00:00.000000000",
          "2016-07-13T08:00:00.000000000",
          "2016-07-13T10:00:00.000000000",
          "2016-07-13T12:00:00.000000000"
         ],
         "y": {
          "bdata": "AAAAEALLJUAAAAAAqrEkQAAAAFjjhSJAAAAAgGgxI0AAAACwSUwgQP7//3+T2B9AAAAAkO9HIkAAAAAYrmcgQP///w8ENiRAAAAA2M63IUAAAADA9zMlQAAAAAAAoCZAAAAAoBhkJUAAAADwfL8kQAAAAAisXCJAAAAAMIlhI0AAAABwaFEkQP///7+fWiNAAAAAUOOlI0AAAAAArHwjQAAAAACqsSRAAAAAoEVWJUAAAACg7ychQAAAAGAQ2CJAAAAAAAAA+H8AAAAAAAD4fwAAAAAAAPh/AAAAAAAA+H8AAAAAAAD4fwAAAAAAAPh/AAAAAAAA+H8AAAAAAAD4fwAAAAAAAPh/AAAAAAAA+H8AAAAAAAD4fwAAAAAAAPh/AAAAAAAA+H8AAAAAAAD4fwAAAAAAAPh/AAAAAAAA+H8AAAAAAAD4fwAAAAAAAPh/AAAAAAAA+H8AAAAAAAD4fwAAAAAAAPh/AAAAAAAA+H8AAAAAAAD4fwAAAAAAAPh/AAAAAAAA+H8AAAAAAAD4fwAAAAAAAPh/AAAAAAAA+H8AAAAAAAD4fwAAAAAAAPh/AAAAAAAA+H8AAAAAAAD4fwAAAAAAAPh/AAAAAAAA+H8AAAAAAAD4fwAAAAAAAPh/AAAAAAAA+H8AAAAAAAD4fwAAAAAAAPh/AAAAAAAA+H8AAAAAAAD4fwAAAAAAAPh/AAAAAAAA+H8AAAAAAAD4fwAAAAAAAPh/AAAAAAAA+H8AAAAAAAD4fwAAAAAAAPh/AAAAAAAA+H8AAAAAAAD4fwAAAAAAAPh/AAAAAAAA+H8AAAAAAAD4fwAAAAAAAPh/AAAAAAAA+H8AAAAAAAD4fwAAAAAAAPh/AAAAAAAA+H8AAAAAAAD4fwAAAAAAAPh/AAAAAAAA+H8AAAAAAAD4fwAAAAAAAPh/AAAAAAAA+H8AAAAAAAD4fwAAAAAAAPh/AAAAAAAA+H8AAAAAAAD4fwAAAAAAAPh/AAAAAAAA+H8AAAAAAAD4fwAAAAAAAPh/AAAAAAAA+H8AAAAAAAD4fwAAAAAAAPh/AAAAAAAA+H8AAAAAAAD4fwAAAAAAAPh/AAAAAAAA+H8AAAAAAAD4fwAAAAAAAPh/AAAAAAAA+H8AAAAAAAD4fwAAAAAAAPh/",
          "dtype": "f8"
         }
        },
        {
         "line": {
          "color": "green",
          "dash": "dash"
         },
         "mode": "lines",
         "name": "MULL Predicho (Actual)",
         "type": "scatter",
         "x": [
          "2016-07-04T14:00:00.000000000",
          "2016-07-04T16:00:00.000000000",
          "2016-07-04T18:00:00.000000000",
          "2016-07-04T20:00:00.000000000",
          "2016-07-04T22:00:00.000000000",
          "2016-07-05T00:00:00.000000000",
          "2016-07-05T02:00:00.000000000",
          "2016-07-05T04:00:00.000000000",
          "2016-07-05T06:00:00.000000000",
          "2016-07-05T08:00:00.000000000",
          "2016-07-05T10:00:00.000000000",
          "2016-07-05T12:00:00.000000000",
          "2016-07-05T14:00:00.000000000",
          "2016-07-05T16:00:00.000000000",
          "2016-07-05T18:00:00.000000000",
          "2016-07-05T20:00:00.000000000",
          "2016-07-05T22:00:00.000000000",
          "2016-07-06T00:00:00.000000000",
          "2016-07-06T02:00:00.000000000",
          "2016-07-06T04:00:00.000000000",
          "2016-07-06T06:00:00.000000000",
          "2016-07-06T08:00:00.000000000",
          "2016-07-06T10:00:00.000000000",
          "2016-07-06T12:00:00.000000000"
         ],
         "y": {
          "bdata": "Pq2QKktxI0ArOMnht1AkQAmax2BA6CNA/ezSZeIZI0DmV2J1klkjQB870FZiRiJAh5lz9rwiIkDfH45y4QIjQPTI0yOOUCJAze5O2Fa6I0D8tfoyXc0iQEtyRY+iGCRAMou3GM6fJEAqlGV3gSokQHm45G5i7SNA6bOqjZQKI0Cfxq9LcWsjQHIJWqKCxCNAmKqZR+BoI0C5EcOV0oQjQKXYmr2EdSNACZrHYEDoI0BYj1djXyUkQFRulkXxlyJA",
          "dtype": "f8"
         }
        },
        {
         "line": {
          "color": "red"
         },
         "mode": "lines",
         "name": "MULL Predicho (Futuro)",
         "type": "scatter",
         "x": [
          "2016-07-06T14:00:00.000000000",
          "2016-07-06T16:00:00.000000000",
          "2016-07-06T18:00:00.000000000",
          "2016-07-06T20:00:00.000000000",
          "2016-07-06T22:00:00.000000000",
          "2016-07-07T00:00:00.000000000",
          "2016-07-07T02:00:00.000000000",
          "2016-07-07T04:00:00.000000000",
          "2016-07-07T06:00:00.000000000",
          "2016-07-07T08:00:00.000000000",
          "2016-07-07T10:00:00.000000000",
          "2016-07-07T12:00:00.000000000",
          "2016-07-07T14:00:00.000000000",
          "2016-07-07T16:00:00.000000000",
          "2016-07-07T18:00:00.000000000",
          "2016-07-07T20:00:00.000000000",
          "2016-07-07T22:00:00.000000000",
          "2016-07-08T00:00:00.000000000",
          "2016-07-08T02:00:00.000000000",
          "2016-07-08T04:00:00.000000000",
          "2016-07-08T06:00:00.000000000",
          "2016-07-08T08:00:00.000000000",
          "2016-07-08T10:00:00.000000000",
          "2016-07-08T12:00:00.000000000",
          "2016-07-08T14:00:00.000000000",
          "2016-07-08T16:00:00.000000000",
          "2016-07-08T18:00:00.000000000",
          "2016-07-08T20:00:00.000000000",
          "2016-07-08T22:00:00.000000000",
          "2016-07-09T00:00:00.000000000",
          "2016-07-09T02:00:00.000000000",
          "2016-07-09T04:00:00.000000000",
          "2016-07-09T06:00:00.000000000",
          "2016-07-09T08:00:00.000000000",
          "2016-07-09T10:00:00.000000000",
          "2016-07-09T12:00:00.000000000",
          "2016-07-09T14:00:00.000000000",
          "2016-07-09T16:00:00.000000000",
          "2016-07-09T18:00:00.000000000",
          "2016-07-09T20:00:00.000000000",
          "2016-07-09T22:00:00.000000000",
          "2016-07-10T00:00:00.000000000",
          "2016-07-10T02:00:00.000000000",
          "2016-07-10T04:00:00.000000000",
          "2016-07-10T06:00:00.000000000",
          "2016-07-10T08:00:00.000000000",
          "2016-07-10T10:00:00.000000000",
          "2016-07-10T12:00:00.000000000",
          "2016-07-10T14:00:00.000000000",
          "2016-07-10T16:00:00.000000000",
          "2016-07-10T18:00:00.000000000",
          "2016-07-10T20:00:00.000000000",
          "2016-07-10T22:00:00.000000000",
          "2016-07-11T00:00:00.000000000",
          "2016-07-11T02:00:00.000000000",
          "2016-07-11T04:00:00.000000000",
          "2016-07-11T06:00:00.000000000",
          "2016-07-11T08:00:00.000000000",
          "2016-07-11T10:00:00.000000000",
          "2016-07-11T12:00:00.000000000",
          "2016-07-11T14:00:00.000000000",
          "2016-07-11T16:00:00.000000000",
          "2016-07-11T18:00:00.000000000",
          "2016-07-11T20:00:00.000000000",
          "2016-07-11T22:00:00.000000000",
          "2016-07-12T00:00:00.000000000",
          "2016-07-12T02:00:00.000000000",
          "2016-07-12T04:00:00.000000000",
          "2016-07-12T06:00:00.000000000",
          "2016-07-12T08:00:00.000000000",
          "2016-07-12T10:00:00.000000000",
          "2016-07-12T12:00:00.000000000",
          "2016-07-12T14:00:00.000000000",
          "2016-07-12T16:00:00.000000000",
          "2016-07-12T18:00:00.000000000",
          "2016-07-12T20:00:00.000000000",
          "2016-07-12T22:00:00.000000000",
          "2016-07-13T00:00:00.000000000",
          "2016-07-13T02:00:00.000000000",
          "2016-07-13T04:00:00.000000000",
          "2016-07-13T06:00:00.000000000",
          "2016-07-13T08:00:00.000000000",
          "2016-07-13T10:00:00.000000000",
          "2016-07-13T12:00:00.000000000"
         ],
         "y": {
          "bdata": "VuMKu2U4I0CTfu7SKlwjQNbV2PlyaSNAyouIf2FuI0AjyydKNnAjQCoDt1vkcCNAUZIF/iRxI0CEY+P9PHEjQJxFMOdFcSNA7R1ENklxI0BCIMxwSnEjQA5KluVKcSNAOOHzEEtxI0C9DA4hS3EjQL6qCCdLcSNAeAFBKUtxI0CeCRQqS3EjQINlYipLcSNABn5/KktxI0DBS4oqS3EjQLVOjipLcSNAB8yPKktxI0CeWZAqS3EjQDGOkCpLcSNAt6GQKktxI0D2qJAqS3EjQKerkCpLcSNAp6yQKktxI0AGrZAqS3EjQCqtkCpLcSNAN62QKktxI0A8rZAqS3EjQD6tkCpLcSNAPq2QKktxI0A+rZAqS3EjQD6tkCpLcSNAPq2QKktxI0A+rZAqS3EjQD6tkCpLcSNAPq2QKktxI0A+rZAqS3EjQD6tkCpLcSNAPq2QKktxI0A+rZAqS3EjQD6tkCpLcSNAPq2QKktxI0A+rZAqS3EjQD6tkCpLcSNAPq2QKktxI0A+rZAqS3EjQD6tkCpLcSNAPq2QKktxI0A+rZAqS3EjQD6tkCpLcSNAPq2QKktxI0A+rZAqS3EjQD6tkCpLcSNAPq2QKktxI0A+rZAqS3EjQD6tkCpLcSNAPq2QKktxI0A+rZAqS3EjQD6tkCpLcSNAPq2QKktxI0A+rZAqS3EjQD6tkCpLcSNAPq2QKktxI0A+rZAqS3EjQD6tkCpLcSNAPq2QKktxI0A+rZAqS3EjQD6tkCpLcSNAPq2QKktxI0A+rZAqS3EjQD6tkCpLcSNAPq2QKktxI0A+rZAqS3EjQD6tkCpLcSNAPq2QKktxI0A+rZAqS3EjQD6tkCpLcSNAPq2QKktxI0A+rZAqS3EjQD6tkCpLcSNA",
          "dtype": "f8"
         }
        },
        {
         "line": {
          "color": "gray",
          "width": 0.5
         },
         "mode": "lines",
         "name": "Límite Superior (95% IC)",
         "type": "scatter",
         "x": [
          "2016-07-06T14:00:00.000000000",
          "2016-07-06T16:00:00.000000000",
          "2016-07-06T18:00:00.000000000",
          "2016-07-06T20:00:00.000000000",
          "2016-07-06T22:00:00.000000000",
          "2016-07-07T00:00:00.000000000",
          "2016-07-07T02:00:00.000000000",
          "2016-07-07T04:00:00.000000000",
          "2016-07-07T06:00:00.000000000",
          "2016-07-07T08:00:00.000000000",
          "2016-07-07T10:00:00.000000000",
          "2016-07-07T12:00:00.000000000",
          "2016-07-07T14:00:00.000000000",
          "2016-07-07T16:00:00.000000000",
          "2016-07-07T18:00:00.000000000",
          "2016-07-07T20:00:00.000000000",
          "2016-07-07T22:00:00.000000000",
          "2016-07-08T00:00:00.000000000",
          "2016-07-08T02:00:00.000000000",
          "2016-07-08T04:00:00.000000000",
          "2016-07-08T06:00:00.000000000",
          "2016-07-08T08:00:00.000000000",
          "2016-07-08T10:00:00.000000000",
          "2016-07-08T12:00:00.000000000",
          "2016-07-08T14:00:00.000000000",
          "2016-07-08T16:00:00.000000000",
          "2016-07-08T18:00:00.000000000",
          "2016-07-08T20:00:00.000000000",
          "2016-07-08T22:00:00.000000000",
          "2016-07-09T00:00:00.000000000",
          "2016-07-09T02:00:00.000000000",
          "2016-07-09T04:00:00.000000000",
          "2016-07-09T06:00:00.000000000",
          "2016-07-09T08:00:00.000000000",
          "2016-07-09T10:00:00.000000000",
          "2016-07-09T12:00:00.000000000",
          "2016-07-09T14:00:00.000000000",
          "2016-07-09T16:00:00.000000000",
          "2016-07-09T18:00:00.000000000",
          "2016-07-09T20:00:00.000000000",
          "2016-07-09T22:00:00.000000000",
          "2016-07-10T00:00:00.000000000",
          "2016-07-10T02:00:00.000000000",
          "2016-07-10T04:00:00.000000000",
          "2016-07-10T06:00:00.000000000",
          "2016-07-10T08:00:00.000000000",
          "2016-07-10T10:00:00.000000000",
          "2016-07-10T12:00:00.000000000",
          "2016-07-10T14:00:00.000000000",
          "2016-07-10T16:00:00.000000000",
          "2016-07-10T18:00:00.000000000",
          "2016-07-10T20:00:00.000000000",
          "2016-07-10T22:00:00.000000000",
          "2016-07-11T00:00:00.000000000",
          "2016-07-11T02:00:00.000000000",
          "2016-07-11T04:00:00.000000000",
          "2016-07-11T06:00:00.000000000",
          "2016-07-11T08:00:00.000000000",
          "2016-07-11T10:00:00.000000000",
          "2016-07-11T12:00:00.000000000",
          "2016-07-11T14:00:00.000000000",
          "2016-07-11T16:00:00.000000000",
          "2016-07-11T18:00:00.000000000",
          "2016-07-11T20:00:00.000000000",
          "2016-07-11T22:00:00.000000000",
          "2016-07-12T00:00:00.000000000",
          "2016-07-12T02:00:00.000000000",
          "2016-07-12T04:00:00.000000000",
          "2016-07-12T06:00:00.000000000",
          "2016-07-12T08:00:00.000000000",
          "2016-07-12T10:00:00.000000000",
          "2016-07-12T12:00:00.000000000",
          "2016-07-12T14:00:00.000000000",
          "2016-07-12T16:00:00.000000000",
          "2016-07-12T18:00:00.000000000",
          "2016-07-12T20:00:00.000000000",
          "2016-07-12T22:00:00.000000000",
          "2016-07-13T00:00:00.000000000",
          "2016-07-13T02:00:00.000000000",
          "2016-07-13T04:00:00.000000000",
          "2016-07-13T06:00:00.000000000",
          "2016-07-13T08:00:00.000000000",
          "2016-07-13T10:00:00.000000000",
          "2016-07-13T12:00:00.000000000"
         ],
         "y": {
          "bdata": "V0l7FJB0JkCkC1G6lM8mQByoSxo25CZADsOyxybqJkBsWzckH+wmQNm6IB3S7CZASTyDbBPtJkA78T2EK+0mQJYU1XA07SZA2gxdwDftJkDiEfX6OO0mQMhwwW857SZA3FUfmzntJkAfjDmrOe0mQJsrNLE57SZAioJsszntJkC3ij+0Oe0mQJ3mjbQ57SZAIP+qtDntJkDbzLW0Oe0mQM/PubQ57SZAIU27tDntJkC42ru0Oe0mQEsPvLQ57SZA0SK8tDntJkAQKry0Oe0mQMEsvLQ57SZAwS28tDntJkAgLry0Oe0mQEQuvLQ57SZAUS68tDntJkBWLry0Oe0mQFguvLQ57SZAWC68tDntJkBYLry0Oe0mQFguvLQ57SZAWC68tDntJkBYLry0Oe0mQFguvLQ57SZAWC68tDntJkBYLry0Oe0mQFguvLQ57SZAWC68tDntJkBYLry0Oe0mQFguvLQ57SZAWC68tDntJkBYLry0Oe0mQFguvLQ57SZAWC68tDntJkBYLry0Oe0mQFguvLQ57SZAWC68tDntJkBYLry0Oe0mQFguvLQ57SZAWC68tDntJkBYLry0Oe0mQFguvLQ57SZAWC68tDntJkBYLry0Oe0mQFguvLQ57SZAWC68tDntJkBYLry0Oe0mQFguvLQ57SZAWC68tDntJkBYLry0Oe0mQFguvLQ57SZAWC68tDntJkBYLry0Oe0mQFguvLQ57SZAWC68tDntJkBYLry0Oe0mQFguvLQ57SZAWC68tDntJkBYLry0Oe0mQFguvLQ57SZAWC68tDntJkBYLry0Oe0mQFguvLQ57SZAWC68tDntJkBYLry0Oe0mQFguvLQ57SZAWC68tDntJkBYLry0Oe0mQFguvLQ57SZA",
          "dtype": "f8"
         }
        },
        {
         "fill": "tonexty",
         "fillcolor": "rgba(200, 100, 200, 0.1)",
         "line": {
          "color": "gray",
          "width": 0.5
         },
         "mode": "lines",
         "name": "Límite Inferior (95% IC)",
         "type": "scatter",
         "x": [
          "2016-07-06T14:00:00.000000000",
          "2016-07-06T16:00:00.000000000",
          "2016-07-06T18:00:00.000000000",
          "2016-07-06T20:00:00.000000000",
          "2016-07-06T22:00:00.000000000",
          "2016-07-07T00:00:00.000000000",
          "2016-07-07T02:00:00.000000000",
          "2016-07-07T04:00:00.000000000",
          "2016-07-07T06:00:00.000000000",
          "2016-07-07T08:00:00.000000000",
          "2016-07-07T10:00:00.000000000",
          "2016-07-07T12:00:00.000000000",
          "2016-07-07T14:00:00.000000000",
          "2016-07-07T16:00:00.000000000",
          "2016-07-07T18:00:00.000000000",
          "2016-07-07T20:00:00.000000000",
          "2016-07-07T22:00:00.000000000",
          "2016-07-08T00:00:00.000000000",
          "2016-07-08T02:00:00.000000000",
          "2016-07-08T04:00:00.000000000",
          "2016-07-08T06:00:00.000000000",
          "2016-07-08T08:00:00.000000000",
          "2016-07-08T10:00:00.000000000",
          "2016-07-08T12:00:00.000000000",
          "2016-07-08T14:00:00.000000000",
          "2016-07-08T16:00:00.000000000",
          "2016-07-08T18:00:00.000000000",
          "2016-07-08T20:00:00.000000000",
          "2016-07-08T22:00:00.000000000",
          "2016-07-09T00:00:00.000000000",
          "2016-07-09T02:00:00.000000000",
          "2016-07-09T04:00:00.000000000",
          "2016-07-09T06:00:00.000000000",
          "2016-07-09T08:00:00.000000000",
          "2016-07-09T10:00:00.000000000",
          "2016-07-09T12:00:00.000000000",
          "2016-07-09T14:00:00.000000000",
          "2016-07-09T16:00:00.000000000",
          "2016-07-09T18:00:00.000000000",
          "2016-07-09T20:00:00.000000000",
          "2016-07-09T22:00:00.000000000",
          "2016-07-10T00:00:00.000000000",
          "2016-07-10T02:00:00.000000000",
          "2016-07-10T04:00:00.000000000",
          "2016-07-10T06:00:00.000000000",
          "2016-07-10T08:00:00.000000000",
          "2016-07-10T10:00:00.000000000",
          "2016-07-10T12:00:00.000000000",
          "2016-07-10T14:00:00.000000000",
          "2016-07-10T16:00:00.000000000",
          "2016-07-10T18:00:00.000000000",
          "2016-07-10T20:00:00.000000000",
          "2016-07-10T22:00:00.000000000",
          "2016-07-11T00:00:00.000000000",
          "2016-07-11T02:00:00.000000000",
          "2016-07-11T04:00:00.000000000",
          "2016-07-11T06:00:00.000000000",
          "2016-07-11T08:00:00.000000000",
          "2016-07-11T10:00:00.000000000",
          "2016-07-11T12:00:00.000000000",
          "2016-07-11T14:00:00.000000000",
          "2016-07-11T16:00:00.000000000",
          "2016-07-11T18:00:00.000000000",
          "2016-07-11T20:00:00.000000000",
          "2016-07-11T22:00:00.000000000",
          "2016-07-12T00:00:00.000000000",
          "2016-07-12T02:00:00.000000000",
          "2016-07-12T04:00:00.000000000",
          "2016-07-12T06:00:00.000000000",
          "2016-07-12T08:00:00.000000000",
          "2016-07-12T10:00:00.000000000",
          "2016-07-12T12:00:00.000000000",
          "2016-07-12T14:00:00.000000000",
          "2016-07-12T16:00:00.000000000",
          "2016-07-12T18:00:00.000000000",
          "2016-07-12T20:00:00.000000000",
          "2016-07-12T22:00:00.000000000",
          "2016-07-13T00:00:00.000000000",
          "2016-07-13T02:00:00.000000000",
          "2016-07-13T04:00:00.000000000",
          "2016-07-13T06:00:00.000000000",
          "2016-07-13T08:00:00.000000000",
          "2016-07-13T10:00:00.000000000",
          "2016-07-13T12:00:00.000000000"
         ],
         "y": {
          "bdata": "qvo0w3b4H0AF4xfXgdEfQCAHzLJf3R9ADam8bjjlH0C1dTDgmugfQPaWmjTt6R9AsdAPH23qH0CaqxHvnOofQETtFruu6h9AAV5WWLXqH0BEXUbNt+ofQKdG1ra46h9AKNmQDbnqH0C2GsUtueofQMJTujm56h9AzQArPrnqH0ALEdE/ueofQNLIbUC56h9A2PmnQLnqH0BOlb1AueofQDabxUC56h9A2pXIQLnqH0AIsclAueofQC4aykC56h9AOkHKQLnqH0C4T8pAueofQBpVykC56h9AGlfKQLnqH0DYV8pAueofQCBYykC56h9AOljKQLnqH0BEWMpAueofQEhYykC56h9ASFjKQLnqH0BIWMpAueofQEhYykC56h9ASFjKQLnqH0BIWMpAueofQEhYykC56h9ASFjKQLnqH0BIWMpAueofQEhYykC56h9ASFjKQLnqH0BIWMpAueofQEhYykC56h9ASFjKQLnqH0BIWMpAueofQEhYykC56h9ASFjKQLnqH0BIWMpAueofQEhYykC56h9ASFjKQLnqH0BIWMpAueofQEhYykC56h9ASFjKQLnqH0BIWMpAueofQEhYykC56h9ASFjKQLnqH0BIWMpAueofQEhYykC56h9ASFjKQLnqH0BIWMpAueofQEhYykC56h9ASFjKQLnqH0BIWMpAueofQEhYykC56h9ASFjKQLnqH0BIWMpAueofQEhYykC56h9ASFjKQLnqH0BIWMpAueofQEhYykC56h9ASFjKQLnqH0BIWMpAueofQEhYykC56h9ASFjKQLnqH0BIWMpAueofQEhYykC56h9ASFjKQLnqH0BIWMpAueofQEhYykC56h9ASFjKQLnqH0BIWMpAueofQEhYykC56h9A",
          "dtype": "f8"
         }
        }
       ],
       "layout": {
        "hovermode": "x unified",
        "showlegend": true,
        "template": {
         "data": {
          "bar": [
           {
            "error_x": {
             "color": "#f2f5fa"
            },
            "error_y": {
             "color": "#f2f5fa"
            },
            "marker": {
             "line": {
              "color": "rgb(17,17,17)",
              "width": 0.5
             },
             "pattern": {
              "fillmode": "overlay",
              "size": 10,
              "solidity": 0.2
             }
            },
            "type": "bar"
           }
          ],
          "barpolar": [
           {
            "marker": {
             "line": {
              "color": "rgb(17,17,17)",
              "width": 0.5
             },
             "pattern": {
              "fillmode": "overlay",
              "size": 10,
              "solidity": 0.2
             }
            },
            "type": "barpolar"
           }
          ],
          "carpet": [
           {
            "aaxis": {
             "endlinecolor": "#A2B1C6",
             "gridcolor": "#506784",
             "linecolor": "#506784",
             "minorgridcolor": "#506784",
             "startlinecolor": "#A2B1C6"
            },
            "baxis": {
             "endlinecolor": "#A2B1C6",
             "gridcolor": "#506784",
             "linecolor": "#506784",
             "minorgridcolor": "#506784",
             "startlinecolor": "#A2B1C6"
            },
            "type": "carpet"
           }
          ],
          "choropleth": [
           {
            "colorbar": {
             "outlinewidth": 0,
             "ticks": ""
            },
            "type": "choropleth"
           }
          ],
          "contour": [
           {
            "colorbar": {
             "outlinewidth": 0,
             "ticks": ""
            },
            "colorscale": [
             [
              0,
              "#0d0887"
             ],
             [
              0.1111111111111111,
              "#46039f"
             ],
             [
              0.2222222222222222,
              "#7201a8"
             ],
             [
              0.3333333333333333,
              "#9c179e"
             ],
             [
              0.4444444444444444,
              "#bd3786"
             ],
             [
              0.5555555555555556,
              "#d8576b"
             ],
             [
              0.6666666666666666,
              "#ed7953"
             ],
             [
              0.7777777777777778,
              "#fb9f3a"
             ],
             [
              0.8888888888888888,
              "#fdca26"
             ],
             [
              1,
              "#f0f921"
             ]
            ],
            "type": "contour"
           }
          ],
          "contourcarpet": [
           {
            "colorbar": {
             "outlinewidth": 0,
             "ticks": ""
            },
            "type": "contourcarpet"
           }
          ],
          "heatmap": [
           {
            "colorbar": {
             "outlinewidth": 0,
             "ticks": ""
            },
            "colorscale": [
             [
              0,
              "#0d0887"
             ],
             [
              0.1111111111111111,
              "#46039f"
             ],
             [
              0.2222222222222222,
              "#7201a8"
             ],
             [
              0.3333333333333333,
              "#9c179e"
             ],
             [
              0.4444444444444444,
              "#bd3786"
             ],
             [
              0.5555555555555556,
              "#d8576b"
             ],
             [
              0.6666666666666666,
              "#ed7953"
             ],
             [
              0.7777777777777778,
              "#fb9f3a"
             ],
             [
              0.8888888888888888,
              "#fdca26"
             ],
             [
              1,
              "#f0f921"
             ]
            ],
            "type": "heatmap"
           }
          ],
          "histogram": [
           {
            "marker": {
             "pattern": {
              "fillmode": "overlay",
              "size": 10,
              "solidity": 0.2
             }
            },
            "type": "histogram"
           }
          ],
          "histogram2d": [
           {
            "colorbar": {
             "outlinewidth": 0,
             "ticks": ""
            },
            "colorscale": [
             [
              0,
              "#0d0887"
             ],
             [
              0.1111111111111111,
              "#46039f"
             ],
             [
              0.2222222222222222,
              "#7201a8"
             ],
             [
              0.3333333333333333,
              "#9c179e"
             ],
             [
              0.4444444444444444,
              "#bd3786"
             ],
             [
              0.5555555555555556,
              "#d8576b"
             ],
             [
              0.6666666666666666,
              "#ed7953"
             ],
             [
              0.7777777777777778,
              "#fb9f3a"
             ],
             [
              0.8888888888888888,
              "#fdca26"
             ],
             [
              1,
              "#f0f921"
             ]
            ],
            "type": "histogram2d"
           }
          ],
          "histogram2dcontour": [
           {
            "colorbar": {
             "outlinewidth": 0,
             "ticks": ""
            },
            "colorscale": [
             [
              0,
              "#0d0887"
             ],
             [
              0.1111111111111111,
              "#46039f"
             ],
             [
              0.2222222222222222,
              "#7201a8"
             ],
             [
              0.3333333333333333,
              "#9c179e"
             ],
             [
              0.4444444444444444,
              "#bd3786"
             ],
             [
              0.5555555555555556,
              "#d8576b"
             ],
             [
              0.6666666666666666,
              "#ed7953"
             ],
             [
              0.7777777777777778,
              "#fb9f3a"
             ],
             [
              0.8888888888888888,
              "#fdca26"
             ],
             [
              1,
              "#f0f921"
             ]
            ],
            "type": "histogram2dcontour"
           }
          ],
          "mesh3d": [
           {
            "colorbar": {
             "outlinewidth": 0,
             "ticks": ""
            },
            "type": "mesh3d"
           }
          ],
          "parcoords": [
           {
            "line": {
             "colorbar": {
              "outlinewidth": 0,
              "ticks": ""
             }
            },
            "type": "parcoords"
           }
          ],
          "pie": [
           {
            "automargin": true,
            "type": "pie"
           }
          ],
          "scatter": [
           {
            "marker": {
             "line": {
              "color": "#283442"
             }
            },
            "type": "scatter"
           }
          ],
          "scatter3d": [
           {
            "line": {
             "colorbar": {
              "outlinewidth": 0,
              "ticks": ""
             }
            },
            "marker": {
             "colorbar": {
              "outlinewidth": 0,
              "ticks": ""
             }
            },
            "type": "scatter3d"
           }
          ],
          "scattercarpet": [
           {
            "marker": {
             "colorbar": {
              "outlinewidth": 0,
              "ticks": ""
             }
            },
            "type": "scattercarpet"
           }
          ],
          "scattergeo": [
           {
            "marker": {
             "colorbar": {
              "outlinewidth": 0,
              "ticks": ""
             }
            },
            "type": "scattergeo"
           }
          ],
          "scattergl": [
           {
            "marker": {
             "line": {
              "color": "#283442"
             }
            },
            "type": "scattergl"
           }
          ],
          "scattermap": [
           {
            "marker": {
             "colorbar": {
              "outlinewidth": 0,
              "ticks": ""
             }
            },
            "type": "scattermap"
           }
          ],
          "scattermapbox": [
           {
            "marker": {
             "colorbar": {
              "outlinewidth": 0,
              "ticks": ""
             }
            },
            "type": "scattermapbox"
           }
          ],
          "scatterpolar": [
           {
            "marker": {
             "colorbar": {
              "outlinewidth": 0,
              "ticks": ""
             }
            },
            "type": "scatterpolar"
           }
          ],
          "scatterpolargl": [
           {
            "marker": {
             "colorbar": {
              "outlinewidth": 0,
              "ticks": ""
             }
            },
            "type": "scatterpolargl"
           }
          ],
          "scatterternary": [
           {
            "marker": {
             "colorbar": {
              "outlinewidth": 0,
              "ticks": ""
             }
            },
            "type": "scatterternary"
           }
          ],
          "surface": [
           {
            "colorbar": {
             "outlinewidth": 0,
             "ticks": ""
            },
            "colorscale": [
             [
              0,
              "#0d0887"
             ],
             [
              0.1111111111111111,
              "#46039f"
             ],
             [
              0.2222222222222222,
              "#7201a8"
             ],
             [
              0.3333333333333333,
              "#9c179e"
             ],
             [
              0.4444444444444444,
              "#bd3786"
             ],
             [
              0.5555555555555556,
              "#d8576b"
             ],
             [
              0.6666666666666666,
              "#ed7953"
             ],
             [
              0.7777777777777778,
              "#fb9f3a"
             ],
             [
              0.8888888888888888,
              "#fdca26"
             ],
             [
              1,
              "#f0f921"
             ]
            ],
            "type": "surface"
           }
          ],
          "table": [
           {
            "cells": {
             "fill": {
              "color": "#506784"
             },
             "line": {
              "color": "rgb(17,17,17)"
             }
            },
            "header": {
             "fill": {
              "color": "#2a3f5f"
             },
             "line": {
              "color": "rgb(17,17,17)"
             }
            },
            "type": "table"
           }
          ]
         },
         "layout": {
          "annotationdefaults": {
           "arrowcolor": "#f2f5fa",
           "arrowhead": 0,
           "arrowwidth": 1
          },
          "autotypenumbers": "strict",
          "coloraxis": {
           "colorbar": {
            "outlinewidth": 0,
            "ticks": ""
           }
          },
          "colorscale": {
           "diverging": [
            [
             0,
             "#8e0152"
            ],
            [
             0.1,
             "#c51b7d"
            ],
            [
             0.2,
             "#de77ae"
            ],
            [
             0.3,
             "#f1b6da"
            ],
            [
             0.4,
             "#fde0ef"
            ],
            [
             0.5,
             "#f7f7f7"
            ],
            [
             0.6,
             "#e6f5d0"
            ],
            [
             0.7,
             "#b8e186"
            ],
            [
             0.8,
             "#7fbc41"
            ],
            [
             0.9,
             "#4d9221"
            ],
            [
             1,
             "#276419"
            ]
           ],
           "sequential": [
            [
             0,
             "#0d0887"
            ],
            [
             0.1111111111111111,
             "#46039f"
            ],
            [
             0.2222222222222222,
             "#7201a8"
            ],
            [
             0.3333333333333333,
             "#9c179e"
            ],
            [
             0.4444444444444444,
             "#bd3786"
            ],
            [
             0.5555555555555556,
             "#d8576b"
            ],
            [
             0.6666666666666666,
             "#ed7953"
            ],
            [
             0.7777777777777778,
             "#fb9f3a"
            ],
            [
             0.8888888888888888,
             "#fdca26"
            ],
            [
             1,
             "#f0f921"
            ]
           ],
           "sequentialminus": [
            [
             0,
             "#0d0887"
            ],
            [
             0.1111111111111111,
             "#46039f"
            ],
            [
             0.2222222222222222,
             "#7201a8"
            ],
            [
             0.3333333333333333,
             "#9c179e"
            ],
            [
             0.4444444444444444,
             "#bd3786"
            ],
            [
             0.5555555555555556,
             "#d8576b"
            ],
            [
             0.6666666666666666,
             "#ed7953"
            ],
            [
             0.7777777777777778,
             "#fb9f3a"
            ],
            [
             0.8888888888888888,
             "#fdca26"
            ],
            [
             1,
             "#f0f921"
            ]
           ]
          },
          "colorway": [
           "#636efa",
           "#EF553B",
           "#00cc96",
           "#ab63fa",
           "#FFA15A",
           "#19d3f3",
           "#FF6692",
           "#B6E880",
           "#FF97FF",
           "#FECB52"
          ],
          "font": {
           "color": "#f2f5fa"
          },
          "geo": {
           "bgcolor": "rgb(17,17,17)",
           "lakecolor": "rgb(17,17,17)",
           "landcolor": "rgb(17,17,17)",
           "showlakes": true,
           "showland": true,
           "subunitcolor": "#506784"
          },
          "hoverlabel": {
           "align": "left"
          },
          "hovermode": "closest",
          "mapbox": {
           "style": "dark"
          },
          "paper_bgcolor": "rgb(17,17,17)",
          "plot_bgcolor": "rgb(17,17,17)",
          "polar": {
           "angularaxis": {
            "gridcolor": "#506784",
            "linecolor": "#506784",
            "ticks": ""
           },
           "bgcolor": "rgb(17,17,17)",
           "radialaxis": {
            "gridcolor": "#506784",
            "linecolor": "#506784",
            "ticks": ""
           }
          },
          "scene": {
           "xaxis": {
            "backgroundcolor": "rgb(17,17,17)",
            "gridcolor": "#506784",
            "gridwidth": 2,
            "linecolor": "#506784",
            "showbackground": true,
            "ticks": "",
            "zerolinecolor": "#C8D4E3"
           },
           "yaxis": {
            "backgroundcolor": "rgb(17,17,17)",
            "gridcolor": "#506784",
            "gridwidth": 2,
            "linecolor": "#506784",
            "showbackground": true,
            "ticks": "",
            "zerolinecolor": "#C8D4E3"
           },
           "zaxis": {
            "backgroundcolor": "rgb(17,17,17)",
            "gridcolor": "#506784",
            "gridwidth": 2,
            "linecolor": "#506784",
            "showbackground": true,
            "ticks": "",
            "zerolinecolor": "#C8D4E3"
           }
          },
          "shapedefaults": {
           "line": {
            "color": "#f2f5fa"
           }
          },
          "sliderdefaults": {
           "bgcolor": "#C8D4E3",
           "bordercolor": "rgb(17,17,17)",
           "borderwidth": 1,
           "tickwidth": 0
          },
          "ternary": {
           "aaxis": {
            "gridcolor": "#506784",
            "linecolor": "#506784",
            "ticks": ""
           },
           "baxis": {
            "gridcolor": "#506784",
            "linecolor": "#506784",
            "ticks": ""
           },
           "bgcolor": "rgb(17,17,17)",
           "caxis": {
            "gridcolor": "#506784",
            "linecolor": "#506784",
            "ticks": ""
           }
          },
          "title": {
           "x": 0.05
          },
          "updatemenudefaults": {
           "bgcolor": "#506784",
           "borderwidth": 0
          },
          "xaxis": {
           "automargin": true,
           "gridcolor": "#283442",
           "linecolor": "#506784",
           "ticks": "",
           "title": {
            "standoff": 15
           },
           "zerolinecolor": "#283442",
           "zerolinewidth": 2
          },
          "yaxis": {
           "automargin": true,
           "gridcolor": "#283442",
           "linecolor": "#506784",
           "ticks": "",
           "title": {
            "standoff": 15
           },
           "zerolinecolor": "#283442",
           "zerolinewidth": 2
          }
         }
        },
        "title": {
         "text": "Predicción del MULL utilizando Auto-ARIMA con Intervalo de Confianza del 95%"
        },
        "xaxis": {
         "title": {
          "text": "Fecha"
         }
        },
        "yaxis": {
         "title": {
          "text": "MULL"
         }
        }
       }
      }
     },
     "metadata": {},
     "output_type": "display_data"
    },
    {
     "name": "stdout",
     "output_type": "stream",
     "text": [
      "RMSE on test set: 1.2604189916529889\n",
      "MAE on test set: 0.9609899365682194\n",
      "Naive Forecast RMSE: 1.1077229151357082\n",
      "Naive Forecast MAE: 0.7970882443820729\n",
      "Máximo: 12.638999938964844\n",
      "Mínimo: 5.307500123977661\n",
      "Orden ARIMA seleccionado: (1, 0, 0)\n"
     ]
    }
   ],
   "source": [
    "import numpy as np\n",
    "import pandas as pd\n",
    "import plotly.graph_objects as go\n",
    "from pmdarima import auto_arima  # Importamos auto_arima\n",
    "from statsmodels.tsa.stattools import adfuller\n",
    "from sklearn.metrics import mean_squared_error\n",
    "from math import sqrt\n",
    "import warnings\n",
    "warnings.filterwarnings(\"ignore\")\n",
    "from datetime import datetime, timedelta\n",
    "\n",
    "# Cargar datos\n",
    "data = pd.read_csv(\"https://huggingface.co/datasets/pkr7098/time-series-forecasting-datasets/resolve/main/ETTh2.csv\")\n",
    "data['date'] = pd.to_datetime(data['date'])\n",
    "data = data.head(168)\n",
    "data.set_index('date', inplace=True)\n",
    "data_2h = data.resample('2H').mean()\n",
    "hull_data = data_2h[['MULL']].dropna()  # Usamos MULL como en el código anterior\n",
    "\n",
    "# Split the data into training and test sets (80% train, 20% test)\n",
    "total_rows = len(hull_data)\n",
    "train_size = int(total_rows * 0.8)\n",
    "test_size = total_rows - train_size\n",
    "train = hull_data['MULL'][:train_size]\n",
    "test = hull_data['MULL'][train_size:]\n",
    "\n",
    "# Stationarity Testing (Dickey-Fuller)\n",
    "def dickey_fuller_test(series, column_name):\n",
    "    print(f'Resultados de la prueba de Dickey-Fuller para columna: {column_name}')\n",
    "    dftest = adfuller(series, autolag='AIC')\n",
    "    dfoutput = pd.Series(dftest[0:4], index=['Test Statistic', 'p-value', 'No Lags Used', 'Número de observaciones utilizadas'])\n",
    "    for key, value in dftest[4].items():\n",
    "        dfoutput[f'Critical Value ({key})'] = value\n",
    "    print(dfoutput)\n",
    "    if dftest[1] <= 0.05:\n",
    "        print(\"Conclusión: Los datos son estacionarios\")\n",
    "    else:\n",
    "        print(\"Conclusión: Los datos no son estacionarios\")\n",
    "    return dftest[1]\n",
    "\n",
    "# Get p-value from test\n",
    "p_value = dickey_fuller_test(train, \"MULL\")\n",
    "\n",
    "# Use the last two days (24 points at 2-hour intervals) for modeling\n",
    "last_two_days = train[-24:]\n",
    "\n",
    "# Fit auto_arima model - Optimiza automáticamente p, d, q\n",
    "model = auto_arima(last_two_days, \n",
    "                   seasonal=False,  # No asumimos estacionalidad\n",
    "                   start_p=0, start_q=0, max_p=5, max_q=5,  # Límites para p y q\n",
    "                   d=None,  # Deja que auto_arima determine d, pero sabemos que es estacionaria\n",
    "                   trace=True,  # Muestra el proceso de selección\n",
    "                   error_action='ignore', \n",
    "                   suppress_warnings=True)\n",
    "model_fit = model.fit(last_two_days)\n",
    "\n",
    "# Forecast for one week (7 days = 7 * 12 = 84 data points at 2-hour intervals)\n",
    "forecast_steps = 84\n",
    "forecast = model.predict(n_periods=forecast_steps)\n",
    "\n",
    "# Confidence intervals from the fitted model\n",
    "forecast_obj = model_fit.predict(n_periods=forecast_steps, return_conf_int=True)\n",
    "forecast, conf_int = forecast_obj[0], forecast_obj[1]\n",
    "ci_lower = conf_int[:, 0]  # Límite inferior\n",
    "ci_upper = conf_int[:, 1]  # Límite superior\n",
    "\n",
    "# Create a date range for the forecast\n",
    "last_date = last_two_days.index[-1]\n",
    "forecast_dates = pd.date_range(start=last_date + timedelta(hours=2), periods=forecast_steps, freq='2H')\n",
    "\n",
    "# Create a DataFrame for the forecast with confidence intervals\n",
    "forecast_ci_df = pd.DataFrame({\n",
    "    'MULL_Predicho': forecast,\n",
    "    'CI_Lower': ci_lower,\n",
    "    'CI_Upper': ci_upper\n",
    "}, index=forecast_dates)\n",
    "\n",
    "# Combine historical and forecast data\n",
    "historical_pred_df = pd.DataFrame({\n",
    "    'MULL_Historico': last_two_days,\n",
    "    'MULL_Predicho': model.predict_in_sample()  # Predicciones en la muestra\n",
    "})\n",
    "\n",
    "combined_df = pd.concat([historical_pred_df, forecast_ci_df], axis=0)\n",
    "\n",
    "# Visualize the results\n",
    "fig = go.Figure()\n",
    "\n",
    "# Add historical values\n",
    "fig.add_trace(go.Scatter(\n",
    "    x=combined_df.index,\n",
    "    y=combined_df['MULL_Historico'],\n",
    "    mode='lines',\n",
    "    name='MULL Histórico',\n",
    "    line=dict(color='blue')\n",
    "))\n",
    "\n",
    "# Add predicted values for historical data\n",
    "fig.add_trace(go.Scatter(\n",
    "    x=combined_df.index[:len(last_two_days)],\n",
    "    y=combined_df['MULL_Predicho'][:len(last_two_days)],\n",
    "    mode='lines',\n",
    "    name='MULL Predicho (Actual)',\n",
    "    line=dict(color='green', dash='dash')\n",
    "))\n",
    "\n",
    "# Add future forecast\n",
    "fig.add_trace(go.Scatter(\n",
    "    x=forecast_ci_df.index,\n",
    "    y=forecast_ci_df['MULL_Predicho'],\n",
    "    mode='lines',\n",
    "    name='MULL Predicho (Futuro)',\n",
    "    line=dict(color='red')\n",
    "))\n",
    "\n",
    "# Add 95% confidence interval\n",
    "fig.add_trace(go.Scatter(\n",
    "    x=forecast_ci_df.index,\n",
    "    y=forecast_ci_df['CI_Upper'],\n",
    "    mode='lines',\n",
    "    name='Límite Superior (95% IC)',\n",
    "    line=dict(color='gray', width=0.5)\n",
    "))\n",
    "\n",
    "fig.add_trace(go.Scatter(\n",
    "    x=forecast_ci_df.index,\n",
    "    y=forecast_ci_df['CI_Lower'],\n",
    "    mode='lines',\n",
    "    name='Límite Inferior (95% IC)',\n",
    "    line=dict(color='gray', width=0.5),\n",
    "    fill='tonexty',\n",
    "    fillcolor='rgba(200, 100, 200, 0.1)'\n",
    "))\n",
    "\n",
    "# Customize the plot\n",
    "fig.update_layout(\n",
    "    title='Predicción del MULL utilizando Auto-ARIMA con Intervalo de Confianza del 95%',\n",
    "    xaxis_title='Fecha',\n",
    "    yaxis_title='MULL',\n",
    "    hovermode='x unified',\n",
    "    template=\"plotly_dark\",\n",
    "    showlegend=True\n",
    ")\n",
    "\n",
    "# Show the plot\n",
    "fig.show()\n",
    "\n",
    "# Calculate error metrics on the test set\n",
    "pred_test = model.predict(n_periods=len(test))\n",
    "rmse = sqrt(mean_squared_error(test, pred_test))\n",
    "mae = np.mean(np.abs(test - pred_test))\n",
    "print(f\"RMSE on test set: {rmse}\")\n",
    "print(f\"MAE on test set: {mae}\")\n",
    "\n",
    "# Naive forecast: Use the last value of the training set for all test predictions\n",
    "naive_forecast = np.full_like(test, test.iloc[0])\n",
    "\n",
    "# Calculate error metrics for the naive forecast\n",
    "rmse_naive = sqrt(mean_squared_error(test, naive_forecast))\n",
    "mae_naive = np.mean(np.abs(test - naive_forecast))\n",
    "\n",
    "print(f\"Naive Forecast RMSE: {rmse_naive}\")\n",
    "print(f\"Naive Forecast MAE: {mae_naive}\")\n",
    "\n",
    "# Print maximum and minimum of the series\n",
    "print(f\"Máximo: {hull_data['MULL'].max()}\")\n",
    "print(f\"Mínimo: {hull_data['MULL'].min()}\")\n",
    "\n",
    "# Mostrar el orden seleccionado por auto_arima\n",
    "print(f\"Orden ARIMA seleccionado: {model.order}\")"
   ]
  },
  {
   "cell_type": "code",
   "execution_count": 25,
   "metadata": {},
   "outputs": [
    {
     "name": "stdout",
     "output_type": "stream",
     "text": [
      "Resultados de la prueba de Dickey-Fuller para columna: LUFL\n",
      "Test Statistic                        -3.529044\n",
      "p-value                                0.007272\n",
      "No Lags Used                           0.000000\n",
      "Número de observaciones utilizadas    66.000000\n",
      "Critical Value (1%)                   -3.533560\n",
      "Critical Value (5%)                   -2.906444\n",
      "Critical Value (10%)                  -2.590724\n",
      "dtype: float64\n",
      "Conclusión: Los datos son estacionarios\n",
      "Performing stepwise search to minimize aic\n",
      " ARIMA(0,0,0)(0,0,0)[0]             : AIC=124.241, Time=0.04 sec\n",
      " ARIMA(1,0,0)(0,0,0)[0]             : AIC=51.789, Time=0.08 sec\n",
      " ARIMA(0,0,1)(0,0,0)[0]             : AIC=inf, Time=0.08 sec\n",
      " ARIMA(2,0,0)(0,0,0)[0]             : AIC=52.887, Time=0.05 sec\n",
      " ARIMA(1,0,1)(0,0,0)[0]             : AIC=52.951, Time=0.04 sec\n",
      " ARIMA(2,0,1)(0,0,0)[0]             : AIC=54.865, Time=0.07 sec\n",
      " ARIMA(1,0,0)(0,0,0)[0] intercept   : AIC=44.198, Time=0.05 sec\n",
      " ARIMA(0,0,0)(0,0,0)[0] intercept   : AIC=47.000, Time=0.03 sec\n",
      " ARIMA(2,0,0)(0,0,0)[0] intercept   : AIC=45.794, Time=0.07 sec\n",
      " ARIMA(1,0,1)(0,0,0)[0] intercept   : AIC=46.030, Time=0.12 sec\n",
      " ARIMA(0,0,1)(0,0,0)[0] intercept   : AIC=44.522, Time=0.03 sec\n",
      " ARIMA(2,0,1)(0,0,0)[0] intercept   : AIC=40.259, Time=0.31 sec\n",
      " ARIMA(3,0,1)(0,0,0)[0] intercept   : AIC=39.176, Time=0.44 sec\n",
      " ARIMA(3,0,0)(0,0,0)[0] intercept   : AIC=44.978, Time=0.17 sec\n",
      " ARIMA(4,0,1)(0,0,0)[0] intercept   : AIC=44.991, Time=0.41 sec\n",
      " ARIMA(3,0,2)(0,0,0)[0] intercept   : AIC=43.610, Time=0.47 sec\n",
      " ARIMA(2,0,2)(0,0,0)[0] intercept   : AIC=inf, Time=0.43 sec\n",
      " ARIMA(4,0,0)(0,0,0)[0] intercept   : AIC=43.399, Time=0.25 sec\n",
      " ARIMA(4,0,2)(0,0,0)[0] intercept   : AIC=43.635, Time=0.45 sec\n",
      " ARIMA(3,0,1)(0,0,0)[0]             : AIC=56.853, Time=0.10 sec\n",
      "\n",
      "Best model:  ARIMA(3,0,1)(0,0,0)[0] intercept\n",
      "Total fit time: 3.706 seconds\n"
     ]
    },
    {
     "data": {
      "application/vnd.plotly.v1+json": {
       "config": {
        "plotlyServerURL": "https://plot.ly"
       },
       "data": [
        {
         "line": {
          "color": "blue"
         },
         "mode": "lines",
         "name": "LUFL Histórico",
         "type": "scatter",
         "x": [
          "2016-07-04T14:00:00.000000000",
          "2016-07-04T16:00:00.000000000",
          "2016-07-04T18:00:00.000000000",
          "2016-07-04T20:00:00.000000000",
          "2016-07-04T22:00:00.000000000",
          "2016-07-05T00:00:00.000000000",
          "2016-07-05T02:00:00.000000000",
          "2016-07-05T04:00:00.000000000",
          "2016-07-05T06:00:00.000000000",
          "2016-07-05T08:00:00.000000000",
          "2016-07-05T10:00:00.000000000",
          "2016-07-05T12:00:00.000000000",
          "2016-07-05T14:00:00.000000000",
          "2016-07-05T16:00:00.000000000",
          "2016-07-05T18:00:00.000000000",
          "2016-07-05T20:00:00.000000000",
          "2016-07-05T22:00:00.000000000",
          "2016-07-06T00:00:00.000000000",
          "2016-07-06T02:00:00.000000000",
          "2016-07-06T04:00:00.000000000",
          "2016-07-06T06:00:00.000000000",
          "2016-07-06T08:00:00.000000000",
          "2016-07-06T10:00:00.000000000",
          "2016-07-06T12:00:00.000000000",
          "2016-07-06T14:00:00.000000000",
          "2016-07-06T16:00:00.000000000",
          "2016-07-06T18:00:00.000000000",
          "2016-07-06T20:00:00.000000000",
          "2016-07-06T22:00:00.000000000",
          "2016-07-07T00:00:00.000000000",
          "2016-07-07T02:00:00.000000000",
          "2016-07-07T04:00:00.000000000",
          "2016-07-07T06:00:00.000000000",
          "2016-07-07T08:00:00.000000000",
          "2016-07-07T10:00:00.000000000",
          "2016-07-07T12:00:00.000000000",
          "2016-07-07T14:00:00.000000000",
          "2016-07-07T16:00:00.000000000",
          "2016-07-07T18:00:00.000000000",
          "2016-07-07T20:00:00.000000000",
          "2016-07-07T22:00:00.000000000",
          "2016-07-08T00:00:00.000000000",
          "2016-07-08T02:00:00.000000000",
          "2016-07-08T04:00:00.000000000",
          "2016-07-08T06:00:00.000000000",
          "2016-07-08T08:00:00.000000000",
          "2016-07-08T10:00:00.000000000",
          "2016-07-08T12:00:00.000000000",
          "2016-07-08T14:00:00.000000000",
          "2016-07-08T16:00:00.000000000",
          "2016-07-08T18:00:00.000000000",
          "2016-07-08T20:00:00.000000000",
          "2016-07-08T22:00:00.000000000",
          "2016-07-09T00:00:00.000000000",
          "2016-07-09T02:00:00.000000000",
          "2016-07-09T04:00:00.000000000",
          "2016-07-09T06:00:00.000000000",
          "2016-07-09T08:00:00.000000000",
          "2016-07-09T10:00:00.000000000",
          "2016-07-09T12:00:00.000000000",
          "2016-07-09T14:00:00.000000000",
          "2016-07-09T16:00:00.000000000",
          "2016-07-09T18:00:00.000000000",
          "2016-07-09T20:00:00.000000000",
          "2016-07-09T22:00:00.000000000",
          "2016-07-10T00:00:00.000000000",
          "2016-07-10T02:00:00.000000000",
          "2016-07-10T04:00:00.000000000",
          "2016-07-10T06:00:00.000000000",
          "2016-07-10T08:00:00.000000000",
          "2016-07-10T10:00:00.000000000",
          "2016-07-10T12:00:00.000000000",
          "2016-07-10T14:00:00.000000000",
          "2016-07-10T16:00:00.000000000",
          "2016-07-10T18:00:00.000000000",
          "2016-07-10T20:00:00.000000000",
          "2016-07-10T22:00:00.000000000",
          "2016-07-11T00:00:00.000000000",
          "2016-07-11T02:00:00.000000000",
          "2016-07-11T04:00:00.000000000",
          "2016-07-11T06:00:00.000000000",
          "2016-07-11T08:00:00.000000000",
          "2016-07-11T10:00:00.000000000",
          "2016-07-11T12:00:00.000000000",
          "2016-07-11T14:00:00.000000000",
          "2016-07-11T16:00:00.000000000",
          "2016-07-11T18:00:00.000000000",
          "2016-07-11T20:00:00.000000000",
          "2016-07-11T22:00:00.000000000",
          "2016-07-12T00:00:00.000000000",
          "2016-07-12T02:00:00.000000000",
          "2016-07-12T04:00:00.000000000",
          "2016-07-12T06:00:00.000000000",
          "2016-07-12T08:00:00.000000000",
          "2016-07-12T10:00:00.000000000",
          "2016-07-12T12:00:00.000000000",
          "2016-07-12T14:00:00.000000000",
          "2016-07-12T16:00:00.000000000",
          "2016-07-12T18:00:00.000000000",
          "2016-07-12T20:00:00.000000000",
          "2016-07-12T22:00:00.000000000",
          "2016-07-13T00:00:00.000000000",
          "2016-07-13T02:00:00.000000000",
          "2016-07-13T04:00:00.000000000",
          "2016-07-13T06:00:00.000000000",
          "2016-07-13T08:00:00.000000000",
          "2016-07-13T10:00:00.000000000",
          "2016-07-13T12:00:00.000000000"
         ],
         "y": {
          "bdata": "////H1pk/z////8fWmT/PwEAACAGgQlAAAAAoBzaDUAAAADw0s0RQAAAAEAIrAlA/f//X4/CCUAAAACgR+EHQAAAAMDMzAdAAAAAwMzMB0AAAAB4lcMCQAAAAOjQogJAAAAAoEOLB0AAAACgQ4sHQAEAAND30wxAAAAAAFTjEEAAAADAzMwHQAAAAMD1qAxAAAAAUI0XBkAAAAAghesFQAAAAFA3CQtAAAAAYA4tBkAAAADASQwGQAAAACCF6wVAAAAAAAAA+H8AAAAAAAD4fwAAAAAAAPh/AAAAAAAA+H8AAAAAAAD4fwAAAAAAAPh/AAAAAAAA+H8AAAAAAAD4fwAAAAAAAPh/AAAAAAAA+H8AAAAAAAD4fwAAAAAAAPh/AAAAAAAA+H8AAAAAAAD4fwAAAAAAAPh/AAAAAAAA+H8AAAAAAAD4fwAAAAAAAPh/AAAAAAAA+H8AAAAAAAD4fwAAAAAAAPh/AAAAAAAA+H8AAAAAAAD4fwAAAAAAAPh/AAAAAAAA+H8AAAAAAAD4fwAAAAAAAPh/AAAAAAAA+H8AAAAAAAD4fwAAAAAAAPh/AAAAAAAA+H8AAAAAAAD4fwAAAAAAAPh/AAAAAAAA+H8AAAAAAAD4fwAAAAAAAPh/AAAAAAAA+H8AAAAAAAD4fwAAAAAAAPh/AAAAAAAA+H8AAAAAAAD4fwAAAAAAAPh/AAAAAAAA+H8AAAAAAAD4fwAAAAAAAPh/AAAAAAAA+H8AAAAAAAD4fwAAAAAAAPh/AAAAAAAA+H8AAAAAAAD4fwAAAAAAAPh/AAAAAAAA+H8AAAAAAAD4fwAAAAAAAPh/AAAAAAAA+H8AAAAAAAD4fwAAAAAAAPh/AAAAAAAA+H8AAAAAAAD4fwAAAAAAAPh/AAAAAAAA+H8AAAAAAAD4fwAAAAAAAPh/AAAAAAAA+H8AAAAAAAD4fwAAAAAAAPh/AAAAAAAA+H8AAAAAAAD4fwAAAAAAAPh/AAAAAAAA+H8AAAAAAAD4fwAAAAAAAPh/AAAAAAAA+H8AAAAAAAD4fwAAAAAAAPh/AAAAAAAA+H8AAAAAAAD4fwAAAAAAAPh/AAAAAAAA+H8AAAAAAAD4fwAAAAAAAPh/AAAAAAAA+H8AAAAAAAD4fwAAAAAAAPh/",
          "dtype": "f8"
         }
        },
        {
         "line": {
          "color": "green",
          "dash": "dash"
         },
         "mode": "lines",
         "name": "LUFL Predicho (Actual)",
         "type": "scatter",
         "x": [
          "2016-07-04T14:00:00.000000000",
          "2016-07-04T16:00:00.000000000",
          "2016-07-04T18:00:00.000000000",
          "2016-07-04T20:00:00.000000000",
          "2016-07-04T22:00:00.000000000",
          "2016-07-05T00:00:00.000000000",
          "2016-07-05T02:00:00.000000000",
          "2016-07-05T04:00:00.000000000",
          "2016-07-05T06:00:00.000000000",
          "2016-07-05T08:00:00.000000000",
          "2016-07-05T10:00:00.000000000",
          "2016-07-05T12:00:00.000000000",
          "2016-07-05T14:00:00.000000000",
          "2016-07-05T16:00:00.000000000",
          "2016-07-05T18:00:00.000000000",
          "2016-07-05T20:00:00.000000000",
          "2016-07-05T22:00:00.000000000",
          "2016-07-06T00:00:00.000000000",
          "2016-07-06T02:00:00.000000000",
          "2016-07-06T04:00:00.000000000",
          "2016-07-06T06:00:00.000000000",
          "2016-07-06T08:00:00.000000000",
          "2016-07-06T10:00:00.000000000",
          "2016-07-06T12:00:00.000000000"
         ],
         "y": {
          "bdata": "kdDTlY6ZCECS53bZpYAEQD1JrhgiYQVA6RtX5Ql/DEBZejoixesPQG7FftozUA9AdISZtsHSCUDSWzku8qAFQEt1xI0XSwVAfgHghLFZBUBwbu+2Ww8GQNKRnMwqLgZAKTqPi011B0BMZlT5y+oKQFI0U82kBg1A4YlN/wWlDUA7mQNTvV4NQLM6mQeWYwlA/bXmPFeABkAO5SWzjtMFQFAF4BRn8QRAEuDVqqXKBkBeQSlBdCcHQEqIi0bbxQZA",
          "dtype": "f8"
         }
        },
        {
         "line": {
          "color": "red"
         },
         "mode": "lines",
         "name": "LUFL Predicho (Futuro)",
         "type": "scatter",
         "x": [
          "2016-07-06T14:00:00.000000000",
          "2016-07-06T16:00:00.000000000",
          "2016-07-06T18:00:00.000000000",
          "2016-07-06T20:00:00.000000000",
          "2016-07-06T22:00:00.000000000",
          "2016-07-07T00:00:00.000000000",
          "2016-07-07T02:00:00.000000000",
          "2016-07-07T04:00:00.000000000",
          "2016-07-07T06:00:00.000000000",
          "2016-07-07T08:00:00.000000000",
          "2016-07-07T10:00:00.000000000",
          "2016-07-07T12:00:00.000000000",
          "2016-07-07T14:00:00.000000000",
          "2016-07-07T16:00:00.000000000",
          "2016-07-07T18:00:00.000000000",
          "2016-07-07T20:00:00.000000000",
          "2016-07-07T22:00:00.000000000",
          "2016-07-08T00:00:00.000000000",
          "2016-07-08T02:00:00.000000000",
          "2016-07-08T04:00:00.000000000",
          "2016-07-08T06:00:00.000000000",
          "2016-07-08T08:00:00.000000000",
          "2016-07-08T10:00:00.000000000",
          "2016-07-08T12:00:00.000000000",
          "2016-07-08T14:00:00.000000000",
          "2016-07-08T16:00:00.000000000",
          "2016-07-08T18:00:00.000000000",
          "2016-07-08T20:00:00.000000000",
          "2016-07-08T22:00:00.000000000",
          "2016-07-09T00:00:00.000000000",
          "2016-07-09T02:00:00.000000000",
          "2016-07-09T04:00:00.000000000",
          "2016-07-09T06:00:00.000000000",
          "2016-07-09T08:00:00.000000000",
          "2016-07-09T10:00:00.000000000",
          "2016-07-09T12:00:00.000000000",
          "2016-07-09T14:00:00.000000000",
          "2016-07-09T16:00:00.000000000",
          "2016-07-09T18:00:00.000000000",
          "2016-07-09T20:00:00.000000000",
          "2016-07-09T22:00:00.000000000",
          "2016-07-10T00:00:00.000000000",
          "2016-07-10T02:00:00.000000000",
          "2016-07-10T04:00:00.000000000",
          "2016-07-10T06:00:00.000000000",
          "2016-07-10T08:00:00.000000000",
          "2016-07-10T10:00:00.000000000",
          "2016-07-10T12:00:00.000000000",
          "2016-07-10T14:00:00.000000000",
          "2016-07-10T16:00:00.000000000",
          "2016-07-10T18:00:00.000000000",
          "2016-07-10T20:00:00.000000000",
          "2016-07-10T22:00:00.000000000",
          "2016-07-11T00:00:00.000000000",
          "2016-07-11T02:00:00.000000000",
          "2016-07-11T04:00:00.000000000",
          "2016-07-11T06:00:00.000000000",
          "2016-07-11T08:00:00.000000000",
          "2016-07-11T10:00:00.000000000",
          "2016-07-11T12:00:00.000000000",
          "2016-07-11T14:00:00.000000000",
          "2016-07-11T16:00:00.000000000",
          "2016-07-11T18:00:00.000000000",
          "2016-07-11T20:00:00.000000000",
          "2016-07-11T22:00:00.000000000",
          "2016-07-12T00:00:00.000000000",
          "2016-07-12T02:00:00.000000000",
          "2016-07-12T04:00:00.000000000",
          "2016-07-12T06:00:00.000000000",
          "2016-07-12T08:00:00.000000000",
          "2016-07-12T10:00:00.000000000",
          "2016-07-12T12:00:00.000000000",
          "2016-07-12T14:00:00.000000000",
          "2016-07-12T16:00:00.000000000",
          "2016-07-12T18:00:00.000000000",
          "2016-07-12T20:00:00.000000000",
          "2016-07-12T22:00:00.000000000",
          "2016-07-13T00:00:00.000000000",
          "2016-07-13T02:00:00.000000000",
          "2016-07-13T04:00:00.000000000",
          "2016-07-13T06:00:00.000000000",
          "2016-07-13T08:00:00.000000000",
          "2016-07-13T10:00:00.000000000",
          "2016-07-13T12:00:00.000000000"
         ],
         "y": {
          "bdata": "AIwnf94sCED0562FgbMJQCOKpFj7wgpAMwdaRCOrCkDRDeinLckJQFYZvo+6ighAAJigqoWHB0Cc2QyBTR0HQOuqNpAfYAdAfkaEOE0YCEBSfHOO0OcIQOzfXgvndQlA5O7tH/ySCUAcslevUUUJQLJt543cvQhAoD7HPlU9CEAmW8bSNvcHQHGRspDN/gdAGtVEIn9ECEBEJuS5yaEIQKjagwe17AhAiNvsT40JCUAroszu7fMIQGrkWtfNvAhAtNdQGB+ACECdhiNPm1cIQBYGEkCYUAhAmGEkDpFoCEC6dFncupAIQASIGLcLtghA6QGB1bPJCEBI6FQmf8YIQPX1tctqsQhA2LxS3faVCEBIhcGWZYAIQEeghPSXeAhAOEE1r4h/CEARygG1AZAIQLswNfK8oQhALmAdIEWtCEBSvHl24a4IQC7K2raBpwhAbOoGRZybCECEeRWEyZAIQIaCtBBLiwhAeHzAA4WMCECarwk04pIIQHLx+G/0mghAHIfK7CehCECagmoQQKMIQNj0WI4KoQhAAtQg/B+cCEDC5KvS8pYIQEA+GAmskwhAyJtKoVSTCEDG6g2Hl5UIQC/Nf64cmQhAMIEJgz+cCEC5HGdQx50IQOCGcd5VnQhAwtF522qbCEDQr9jsC5kIQIy7gxJElwhA2hEJibWWCEAvF9g/aJcIQK2D+2rfmAhARk8c7WGaCEB/iaTKT5sIQNcCAZZfmwhAcHrmj66aCEDJdk4rpJkIQKL6ycm7mAhAp+kOCk+YCECuedyJdpgIQGSzr0cKmQhA3Po+ZryZCECWc+YfP5oIQGSj3ZVkmghA2zngcyyaCECToJ2/vJkIQEtmrR5MmQhAnP+LzQiZCEDGKWgOB5kIQOyhhgw9mQhA",
          "dtype": "f8"
         }
        },
        {
         "line": {
          "color": "gray",
          "width": 0.5
         },
         "mode": "lines",
         "name": "Límite Superior (95% IC)",
         "type": "scatter",
         "x": [
          "2016-07-06T14:00:00.000000000",
          "2016-07-06T16:00:00.000000000",
          "2016-07-06T18:00:00.000000000",
          "2016-07-06T20:00:00.000000000",
          "2016-07-06T22:00:00.000000000",
          "2016-07-07T00:00:00.000000000",
          "2016-07-07T02:00:00.000000000",
          "2016-07-07T04:00:00.000000000",
          "2016-07-07T06:00:00.000000000",
          "2016-07-07T08:00:00.000000000",
          "2016-07-07T10:00:00.000000000",
          "2016-07-07T12:00:00.000000000",
          "2016-07-07T14:00:00.000000000",
          "2016-07-07T16:00:00.000000000",
          "2016-07-07T18:00:00.000000000",
          "2016-07-07T20:00:00.000000000",
          "2016-07-07T22:00:00.000000000",
          "2016-07-08T00:00:00.000000000",
          "2016-07-08T02:00:00.000000000",
          "2016-07-08T04:00:00.000000000",
          "2016-07-08T06:00:00.000000000",
          "2016-07-08T08:00:00.000000000",
          "2016-07-08T10:00:00.000000000",
          "2016-07-08T12:00:00.000000000",
          "2016-07-08T14:00:00.000000000",
          "2016-07-08T16:00:00.000000000",
          "2016-07-08T18:00:00.000000000",
          "2016-07-08T20:00:00.000000000",
          "2016-07-08T22:00:00.000000000",
          "2016-07-09T00:00:00.000000000",
          "2016-07-09T02:00:00.000000000",
          "2016-07-09T04:00:00.000000000",
          "2016-07-09T06:00:00.000000000",
          "2016-07-09T08:00:00.000000000",
          "2016-07-09T10:00:00.000000000",
          "2016-07-09T12:00:00.000000000",
          "2016-07-09T14:00:00.000000000",
          "2016-07-09T16:00:00.000000000",
          "2016-07-09T18:00:00.000000000",
          "2016-07-09T20:00:00.000000000",
          "2016-07-09T22:00:00.000000000",
          "2016-07-10T00:00:00.000000000",
          "2016-07-10T02:00:00.000000000",
          "2016-07-10T04:00:00.000000000",
          "2016-07-10T06:00:00.000000000",
          "2016-07-10T08:00:00.000000000",
          "2016-07-10T10:00:00.000000000",
          "2016-07-10T12:00:00.000000000",
          "2016-07-10T14:00:00.000000000",
          "2016-07-10T16:00:00.000000000",
          "2016-07-10T18:00:00.000000000",
          "2016-07-10T20:00:00.000000000",
          "2016-07-10T22:00:00.000000000",
          "2016-07-11T00:00:00.000000000",
          "2016-07-11T02:00:00.000000000",
          "2016-07-11T04:00:00.000000000",
          "2016-07-11T06:00:00.000000000",
          "2016-07-11T08:00:00.000000000",
          "2016-07-11T10:00:00.000000000",
          "2016-07-11T12:00:00.000000000",
          "2016-07-11T14:00:00.000000000",
          "2016-07-11T16:00:00.000000000",
          "2016-07-11T18:00:00.000000000",
          "2016-07-11T20:00:00.000000000",
          "2016-07-11T22:00:00.000000000",
          "2016-07-12T00:00:00.000000000",
          "2016-07-12T02:00:00.000000000",
          "2016-07-12T04:00:00.000000000",
          "2016-07-12T06:00:00.000000000",
          "2016-07-12T08:00:00.000000000",
          "2016-07-12T10:00:00.000000000",
          "2016-07-12T12:00:00.000000000",
          "2016-07-12T14:00:00.000000000",
          "2016-07-12T16:00:00.000000000",
          "2016-07-12T18:00:00.000000000",
          "2016-07-12T20:00:00.000000000",
          "2016-07-12T22:00:00.000000000",
          "2016-07-13T00:00:00.000000000",
          "2016-07-13T02:00:00.000000000",
          "2016-07-13T04:00:00.000000000",
          "2016-07-13T06:00:00.000000000",
          "2016-07-13T08:00:00.000000000",
          "2016-07-13T10:00:00.000000000",
          "2016-07-13T12:00:00.000000000"
         ],
         "y": {
          "bdata": "w+5foq9iDkBZ9namIOoPQPbgM8nPiBBAi3qEwPLqEECEtgtsSNUQQDnmMOWDWRBAl8PPHsGvD0AIqcERqGgPQJbX0/fB+w9AIXxfSNV3EED3HVuOI+YQQB+ooEreLRFAO27F0eZHEUDoznEy3TERQPLcy3Ax9xBA6L3Wcq23EECjBKzTKpYQQNPp3VpgoBBAUjXsoMzJEECx+OJC0foQQKlUscpDIBFAPOUPOiQwEUBNDnBRfSgRQH5DEztBDxFAlEzD52LxEECUwY7+NN0QQP0OF7Gw2hBA2rn0URHoEEBcBxxj3/wQQAq1VlOUDxFAdJQ/co4ZEUCXCxSsghgRQGP48TWFDhFAxjLkLvsAEUCtDBE0MvYQQIZdU5lt8hBA967x3iv2EEAZ3oPYmf4QQEz5kJiABxFAlsI89EYNEUD9SZnYKw4RQCi0SXeaChFAHnUd3LYEEUBBH7RITv8QQLL+77+S/BBAiOnjSzz9EEC8HGHJdgARQAGNNLWDBBFAW0mFbp0HEUAADXyorAgRQMzVavqXBxFArhJkzyYFEUBl29/pkAIRQOrFwsTtABFAMoRCG8QAEUBjkxUr6AERQBQhafqrAxFAosMZcT0FEUBj08GyAQYRQBCRZRXKBRFAWqInldUEEUAJastqpgMRQPkMwH3CAhFAr7VQg3sCEUDGUahl1QIRQDoDz1KRAxFAbYLaoFIEEUBDnWaWyQQRQCZW4arRBBFA16wPYXkEEUA6C21I9AMRQLtaWxiAAxFAJYEuwUkDEUDs/QaaXQMRQGYHoY6nAxFAkOr0owAEEUBZS98AQgQRQM7zqMJUBBFACJVavTgEEUAp13vqAAQRQEh99prIAxFAAGka86YDEUBv9LYXpgMRQEKBqRvBAxFA",
          "dtype": "f8"
         }
        },
        {
         "fill": "tonexty",
         "fillcolor": "rgba(200, 100, 200, 0.1)",
         "line": {
          "color": "gray",
          "width": 0.5
         },
         "mode": "lines",
         "name": "Límite Inferior (95% IC)",
         "type": "scatter",
         "x": [
          "2016-07-06T14:00:00.000000000",
          "2016-07-06T16:00:00.000000000",
          "2016-07-06T18:00:00.000000000",
          "2016-07-06T20:00:00.000000000",
          "2016-07-06T22:00:00.000000000",
          "2016-07-07T00:00:00.000000000",
          "2016-07-07T02:00:00.000000000",
          "2016-07-07T04:00:00.000000000",
          "2016-07-07T06:00:00.000000000",
          "2016-07-07T08:00:00.000000000",
          "2016-07-07T10:00:00.000000000",
          "2016-07-07T12:00:00.000000000",
          "2016-07-07T14:00:00.000000000",
          "2016-07-07T16:00:00.000000000",
          "2016-07-07T18:00:00.000000000",
          "2016-07-07T20:00:00.000000000",
          "2016-07-07T22:00:00.000000000",
          "2016-07-08T00:00:00.000000000",
          "2016-07-08T02:00:00.000000000",
          "2016-07-08T04:00:00.000000000",
          "2016-07-08T06:00:00.000000000",
          "2016-07-08T08:00:00.000000000",
          "2016-07-08T10:00:00.000000000",
          "2016-07-08T12:00:00.000000000",
          "2016-07-08T14:00:00.000000000",
          "2016-07-08T16:00:00.000000000",
          "2016-07-08T18:00:00.000000000",
          "2016-07-08T20:00:00.000000000",
          "2016-07-08T22:00:00.000000000",
          "2016-07-09T00:00:00.000000000",
          "2016-07-09T02:00:00.000000000",
          "2016-07-09T04:00:00.000000000",
          "2016-07-09T06:00:00.000000000",
          "2016-07-09T08:00:00.000000000",
          "2016-07-09T10:00:00.000000000",
          "2016-07-09T12:00:00.000000000",
          "2016-07-09T14:00:00.000000000",
          "2016-07-09T16:00:00.000000000",
          "2016-07-09T18:00:00.000000000",
          "2016-07-09T20:00:00.000000000",
          "2016-07-09T22:00:00.000000000",
          "2016-07-10T00:00:00.000000000",
          "2016-07-10T02:00:00.000000000",
          "2016-07-10T04:00:00.000000000",
          "2016-07-10T06:00:00.000000000",
          "2016-07-10T08:00:00.000000000",
          "2016-07-10T10:00:00.000000000",
          "2016-07-10T12:00:00.000000000",
          "2016-07-10T14:00:00.000000000",
          "2016-07-10T16:00:00.000000000",
          "2016-07-10T18:00:00.000000000",
          "2016-07-10T20:00:00.000000000",
          "2016-07-10T22:00:00.000000000",
          "2016-07-11T00:00:00.000000000",
          "2016-07-11T02:00:00.000000000",
          "2016-07-11T04:00:00.000000000",
          "2016-07-11T06:00:00.000000000",
          "2016-07-11T08:00:00.000000000",
          "2016-07-11T10:00:00.000000000",
          "2016-07-11T12:00:00.000000000",
          "2016-07-11T14:00:00.000000000",
          "2016-07-11T16:00:00.000000000",
          "2016-07-11T18:00:00.000000000",
          "2016-07-11T20:00:00.000000000",
          "2016-07-11T22:00:00.000000000",
          "2016-07-12T00:00:00.000000000",
          "2016-07-12T02:00:00.000000000",
          "2016-07-12T04:00:00.000000000",
          "2016-07-12T06:00:00.000000000",
          "2016-07-12T08:00:00.000000000",
          "2016-07-12T10:00:00.000000000",
          "2016-07-12T12:00:00.000000000",
          "2016-07-12T14:00:00.000000000",
          "2016-07-12T16:00:00.000000000",
          "2016-07-12T18:00:00.000000000",
          "2016-07-12T20:00:00.000000000",
          "2016-07-12T22:00:00.000000000",
          "2016-07-13T00:00:00.000000000",
          "2016-07-13T02:00:00.000000000",
          "2016-07-13T04:00:00.000000000",
          "2016-07-13T06:00:00.000000000",
          "2016-07-13T08:00:00.000000000",
          "2016-07-13T10:00:00.000000000",
          "2016-07-13T12:00:00.000000000"
         ],
         "y": {
          "bdata": "PSnvWw33AUCP2eRk4nwDQFpS4R5XdARAUBmrB2GAA0Carrh3yucBQDpmGlVtYgBA0tjibJS+/j9fFLDg5aP9P3/8MlH6iP0/dCmTwN+B/j+2vDAAWgMAQJpvfIERkABAUgFRnCqWAEBoxsv56CYAQAJDbnSsGv8/4QLCL58W/j8LWmn8L4T9P3eeUte0ef0/In9iBcrq/T9NtgTc4Zv+P/wXSvPEMf8/MNlzV6Rl/z93T3J1wi3/P6+DHnEytv4/fiw2wvA6/j8jFFNCmen9P2Xc6zue1/0/+Z6+8P4B/j96tfXkbU/+P+dLB4/dmf4/0rUFjZXA/j/FcgPp8bf+P0f2D1eWi/4/Rii6ue5T/j9s4sGKzSj+PwMLxWypGP4/BUkOQXMl/j/hr/dxn0X+P73dkGbxaP4/YnaCr/h//j9VyYF31oL+PxZYRP6cc/4/OtWlo5Vb/j8NaYXt7EX+P1EPEkPhOv4/wEty3yI9/j92S6KqrUn+P8SREevCWf4/BfcU+Slm/j9p1rmfTWr+PzJ8uE/KZf4/UgXzsuRb/j9zJTCjh1H+P1nhVRH5Sv4/WF4gGEJK/j+MXeFvvU7+P22wWtDCVf4/Ofa+Rwhc/j9YJZV2Fl/+P0LXLyQvXv4/oL1IGVVa/j8dFzUIllX+P026DlMGUv4/q3DhFuhQ/j+iFb9oS1L+P8oBsmA4Vf4/YzMHMT1Y/j/wsPfQGFr+P8ayfqw3Wv4/ZDZbu9RY/j89roWLv1b+P5x/usXuVP4/CaKBIxVU/j8I71W/Y1T+P/avOuSKVf4/MEEoCe9W/j/1oBx89Ff+P1a+0kw/WP4/TZMW2s5X/j+oJYdU71b+Pw6k2w4OVv4/cFrGaYdV/j9b1cTag1X+P6aCdMPvVf4/",
          "dtype": "f8"
         }
        }
       ],
       "layout": {
        "hovermode": "x unified",
        "showlegend": true,
        "template": {
         "data": {
          "bar": [
           {
            "error_x": {
             "color": "#f2f5fa"
            },
            "error_y": {
             "color": "#f2f5fa"
            },
            "marker": {
             "line": {
              "color": "rgb(17,17,17)",
              "width": 0.5
             },
             "pattern": {
              "fillmode": "overlay",
              "size": 10,
              "solidity": 0.2
             }
            },
            "type": "bar"
           }
          ],
          "barpolar": [
           {
            "marker": {
             "line": {
              "color": "rgb(17,17,17)",
              "width": 0.5
             },
             "pattern": {
              "fillmode": "overlay",
              "size": 10,
              "solidity": 0.2
             }
            },
            "type": "barpolar"
           }
          ],
          "carpet": [
           {
            "aaxis": {
             "endlinecolor": "#A2B1C6",
             "gridcolor": "#506784",
             "linecolor": "#506784",
             "minorgridcolor": "#506784",
             "startlinecolor": "#A2B1C6"
            },
            "baxis": {
             "endlinecolor": "#A2B1C6",
             "gridcolor": "#506784",
             "linecolor": "#506784",
             "minorgridcolor": "#506784",
             "startlinecolor": "#A2B1C6"
            },
            "type": "carpet"
           }
          ],
          "choropleth": [
           {
            "colorbar": {
             "outlinewidth": 0,
             "ticks": ""
            },
            "type": "choropleth"
           }
          ],
          "contour": [
           {
            "colorbar": {
             "outlinewidth": 0,
             "ticks": ""
            },
            "colorscale": [
             [
              0,
              "#0d0887"
             ],
             [
              0.1111111111111111,
              "#46039f"
             ],
             [
              0.2222222222222222,
              "#7201a8"
             ],
             [
              0.3333333333333333,
              "#9c179e"
             ],
             [
              0.4444444444444444,
              "#bd3786"
             ],
             [
              0.5555555555555556,
              "#d8576b"
             ],
             [
              0.6666666666666666,
              "#ed7953"
             ],
             [
              0.7777777777777778,
              "#fb9f3a"
             ],
             [
              0.8888888888888888,
              "#fdca26"
             ],
             [
              1,
              "#f0f921"
             ]
            ],
            "type": "contour"
           }
          ],
          "contourcarpet": [
           {
            "colorbar": {
             "outlinewidth": 0,
             "ticks": ""
            },
            "type": "contourcarpet"
           }
          ],
          "heatmap": [
           {
            "colorbar": {
             "outlinewidth": 0,
             "ticks": ""
            },
            "colorscale": [
             [
              0,
              "#0d0887"
             ],
             [
              0.1111111111111111,
              "#46039f"
             ],
             [
              0.2222222222222222,
              "#7201a8"
             ],
             [
              0.3333333333333333,
              "#9c179e"
             ],
             [
              0.4444444444444444,
              "#bd3786"
             ],
             [
              0.5555555555555556,
              "#d8576b"
             ],
             [
              0.6666666666666666,
              "#ed7953"
             ],
             [
              0.7777777777777778,
              "#fb9f3a"
             ],
             [
              0.8888888888888888,
              "#fdca26"
             ],
             [
              1,
              "#f0f921"
             ]
            ],
            "type": "heatmap"
           }
          ],
          "histogram": [
           {
            "marker": {
             "pattern": {
              "fillmode": "overlay",
              "size": 10,
              "solidity": 0.2
             }
            },
            "type": "histogram"
           }
          ],
          "histogram2d": [
           {
            "colorbar": {
             "outlinewidth": 0,
             "ticks": ""
            },
            "colorscale": [
             [
              0,
              "#0d0887"
             ],
             [
              0.1111111111111111,
              "#46039f"
             ],
             [
              0.2222222222222222,
              "#7201a8"
             ],
             [
              0.3333333333333333,
              "#9c179e"
             ],
             [
              0.4444444444444444,
              "#bd3786"
             ],
             [
              0.5555555555555556,
              "#d8576b"
             ],
             [
              0.6666666666666666,
              "#ed7953"
             ],
             [
              0.7777777777777778,
              "#fb9f3a"
             ],
             [
              0.8888888888888888,
              "#fdca26"
             ],
             [
              1,
              "#f0f921"
             ]
            ],
            "type": "histogram2d"
           }
          ],
          "histogram2dcontour": [
           {
            "colorbar": {
             "outlinewidth": 0,
             "ticks": ""
            },
            "colorscale": [
             [
              0,
              "#0d0887"
             ],
             [
              0.1111111111111111,
              "#46039f"
             ],
             [
              0.2222222222222222,
              "#7201a8"
             ],
             [
              0.3333333333333333,
              "#9c179e"
             ],
             [
              0.4444444444444444,
              "#bd3786"
             ],
             [
              0.5555555555555556,
              "#d8576b"
             ],
             [
              0.6666666666666666,
              "#ed7953"
             ],
             [
              0.7777777777777778,
              "#fb9f3a"
             ],
             [
              0.8888888888888888,
              "#fdca26"
             ],
             [
              1,
              "#f0f921"
             ]
            ],
            "type": "histogram2dcontour"
           }
          ],
          "mesh3d": [
           {
            "colorbar": {
             "outlinewidth": 0,
             "ticks": ""
            },
            "type": "mesh3d"
           }
          ],
          "parcoords": [
           {
            "line": {
             "colorbar": {
              "outlinewidth": 0,
              "ticks": ""
             }
            },
            "type": "parcoords"
           }
          ],
          "pie": [
           {
            "automargin": true,
            "type": "pie"
           }
          ],
          "scatter": [
           {
            "marker": {
             "line": {
              "color": "#283442"
             }
            },
            "type": "scatter"
           }
          ],
          "scatter3d": [
           {
            "line": {
             "colorbar": {
              "outlinewidth": 0,
              "ticks": ""
             }
            },
            "marker": {
             "colorbar": {
              "outlinewidth": 0,
              "ticks": ""
             }
            },
            "type": "scatter3d"
           }
          ],
          "scattercarpet": [
           {
            "marker": {
             "colorbar": {
              "outlinewidth": 0,
              "ticks": ""
             }
            },
            "type": "scattercarpet"
           }
          ],
          "scattergeo": [
           {
            "marker": {
             "colorbar": {
              "outlinewidth": 0,
              "ticks": ""
             }
            },
            "type": "scattergeo"
           }
          ],
          "scattergl": [
           {
            "marker": {
             "line": {
              "color": "#283442"
             }
            },
            "type": "scattergl"
           }
          ],
          "scattermap": [
           {
            "marker": {
             "colorbar": {
              "outlinewidth": 0,
              "ticks": ""
             }
            },
            "type": "scattermap"
           }
          ],
          "scattermapbox": [
           {
            "marker": {
             "colorbar": {
              "outlinewidth": 0,
              "ticks": ""
             }
            },
            "type": "scattermapbox"
           }
          ],
          "scatterpolar": [
           {
            "marker": {
             "colorbar": {
              "outlinewidth": 0,
              "ticks": ""
             }
            },
            "type": "scatterpolar"
           }
          ],
          "scatterpolargl": [
           {
            "marker": {
             "colorbar": {
              "outlinewidth": 0,
              "ticks": ""
             }
            },
            "type": "scatterpolargl"
           }
          ],
          "scatterternary": [
           {
            "marker": {
             "colorbar": {
              "outlinewidth": 0,
              "ticks": ""
             }
            },
            "type": "scatterternary"
           }
          ],
          "surface": [
           {
            "colorbar": {
             "outlinewidth": 0,
             "ticks": ""
            },
            "colorscale": [
             [
              0,
              "#0d0887"
             ],
             [
              0.1111111111111111,
              "#46039f"
             ],
             [
              0.2222222222222222,
              "#7201a8"
             ],
             [
              0.3333333333333333,
              "#9c179e"
             ],
             [
              0.4444444444444444,
              "#bd3786"
             ],
             [
              0.5555555555555556,
              "#d8576b"
             ],
             [
              0.6666666666666666,
              "#ed7953"
             ],
             [
              0.7777777777777778,
              "#fb9f3a"
             ],
             [
              0.8888888888888888,
              "#fdca26"
             ],
             [
              1,
              "#f0f921"
             ]
            ],
            "type": "surface"
           }
          ],
          "table": [
           {
            "cells": {
             "fill": {
              "color": "#506784"
             },
             "line": {
              "color": "rgb(17,17,17)"
             }
            },
            "header": {
             "fill": {
              "color": "#2a3f5f"
             },
             "line": {
              "color": "rgb(17,17,17)"
             }
            },
            "type": "table"
           }
          ]
         },
         "layout": {
          "annotationdefaults": {
           "arrowcolor": "#f2f5fa",
           "arrowhead": 0,
           "arrowwidth": 1
          },
          "autotypenumbers": "strict",
          "coloraxis": {
           "colorbar": {
            "outlinewidth": 0,
            "ticks": ""
           }
          },
          "colorscale": {
           "diverging": [
            [
             0,
             "#8e0152"
            ],
            [
             0.1,
             "#c51b7d"
            ],
            [
             0.2,
             "#de77ae"
            ],
            [
             0.3,
             "#f1b6da"
            ],
            [
             0.4,
             "#fde0ef"
            ],
            [
             0.5,
             "#f7f7f7"
            ],
            [
             0.6,
             "#e6f5d0"
            ],
            [
             0.7,
             "#b8e186"
            ],
            [
             0.8,
             "#7fbc41"
            ],
            [
             0.9,
             "#4d9221"
            ],
            [
             1,
             "#276419"
            ]
           ],
           "sequential": [
            [
             0,
             "#0d0887"
            ],
            [
             0.1111111111111111,
             "#46039f"
            ],
            [
             0.2222222222222222,
             "#7201a8"
            ],
            [
             0.3333333333333333,
             "#9c179e"
            ],
            [
             0.4444444444444444,
             "#bd3786"
            ],
            [
             0.5555555555555556,
             "#d8576b"
            ],
            [
             0.6666666666666666,
             "#ed7953"
            ],
            [
             0.7777777777777778,
             "#fb9f3a"
            ],
            [
             0.8888888888888888,
             "#fdca26"
            ],
            [
             1,
             "#f0f921"
            ]
           ],
           "sequentialminus": [
            [
             0,
             "#0d0887"
            ],
            [
             0.1111111111111111,
             "#46039f"
            ],
            [
             0.2222222222222222,
             "#7201a8"
            ],
            [
             0.3333333333333333,
             "#9c179e"
            ],
            [
             0.4444444444444444,
             "#bd3786"
            ],
            [
             0.5555555555555556,
             "#d8576b"
            ],
            [
             0.6666666666666666,
             "#ed7953"
            ],
            [
             0.7777777777777778,
             "#fb9f3a"
            ],
            [
             0.8888888888888888,
             "#fdca26"
            ],
            [
             1,
             "#f0f921"
            ]
           ]
          },
          "colorway": [
           "#636efa",
           "#EF553B",
           "#00cc96",
           "#ab63fa",
           "#FFA15A",
           "#19d3f3",
           "#FF6692",
           "#B6E880",
           "#FF97FF",
           "#FECB52"
          ],
          "font": {
           "color": "#f2f5fa"
          },
          "geo": {
           "bgcolor": "rgb(17,17,17)",
           "lakecolor": "rgb(17,17,17)",
           "landcolor": "rgb(17,17,17)",
           "showlakes": true,
           "showland": true,
           "subunitcolor": "#506784"
          },
          "hoverlabel": {
           "align": "left"
          },
          "hovermode": "closest",
          "mapbox": {
           "style": "dark"
          },
          "paper_bgcolor": "rgb(17,17,17)",
          "plot_bgcolor": "rgb(17,17,17)",
          "polar": {
           "angularaxis": {
            "gridcolor": "#506784",
            "linecolor": "#506784",
            "ticks": ""
           },
           "bgcolor": "rgb(17,17,17)",
           "radialaxis": {
            "gridcolor": "#506784",
            "linecolor": "#506784",
            "ticks": ""
           }
          },
          "scene": {
           "xaxis": {
            "backgroundcolor": "rgb(17,17,17)",
            "gridcolor": "#506784",
            "gridwidth": 2,
            "linecolor": "#506784",
            "showbackground": true,
            "ticks": "",
            "zerolinecolor": "#C8D4E3"
           },
           "yaxis": {
            "backgroundcolor": "rgb(17,17,17)",
            "gridcolor": "#506784",
            "gridwidth": 2,
            "linecolor": "#506784",
            "showbackground": true,
            "ticks": "",
            "zerolinecolor": "#C8D4E3"
           },
           "zaxis": {
            "backgroundcolor": "rgb(17,17,17)",
            "gridcolor": "#506784",
            "gridwidth": 2,
            "linecolor": "#506784",
            "showbackground": true,
            "ticks": "",
            "zerolinecolor": "#C8D4E3"
           }
          },
          "shapedefaults": {
           "line": {
            "color": "#f2f5fa"
           }
          },
          "sliderdefaults": {
           "bgcolor": "#C8D4E3",
           "bordercolor": "rgb(17,17,17)",
           "borderwidth": 1,
           "tickwidth": 0
          },
          "ternary": {
           "aaxis": {
            "gridcolor": "#506784",
            "linecolor": "#506784",
            "ticks": ""
           },
           "baxis": {
            "gridcolor": "#506784",
            "linecolor": "#506784",
            "ticks": ""
           },
           "bgcolor": "rgb(17,17,17)",
           "caxis": {
            "gridcolor": "#506784",
            "linecolor": "#506784",
            "ticks": ""
           }
          },
          "title": {
           "x": 0.05
          },
          "updatemenudefaults": {
           "bgcolor": "#506784",
           "borderwidth": 0
          },
          "xaxis": {
           "automargin": true,
           "gridcolor": "#283442",
           "linecolor": "#506784",
           "ticks": "",
           "title": {
            "standoff": 15
           },
           "zerolinecolor": "#283442",
           "zerolinewidth": 2
          },
          "yaxis": {
           "automargin": true,
           "gridcolor": "#283442",
           "linecolor": "#506784",
           "ticks": "",
           "title": {
            "standoff": 15
           },
           "zerolinecolor": "#283442",
           "zerolinewidth": 2
          }
         }
        },
        "title": {
         "text": "Predicción del LUFL utilizando Auto-ARIMA con Intervalo de Confianza del 95%"
        },
        "xaxis": {
         "title": {
          "text": "Fecha"
         }
        },
        "yaxis": {
         "title": {
          "text": "LUFL"
         }
        }
       }
      }
     },
     "metadata": {},
     "output_type": "display_data"
    },
    {
     "name": "stdout",
     "output_type": "stream",
     "text": [
      "RMSE on test set: 0.5134220643025986\n",
      "MAE on test set: 0.44105556799142387\n",
      "Naive Forecast RMSE: 0.612142233890129\n",
      "Naive Forecast MAE: 0.4763235134236953\n",
      "Máximo: 4.450999975204468\n",
      "Mínimo: 0.0\n",
      "Orden ARIMA seleccionado: (3, 0, 1)\n"
     ]
    }
   ],
   "source": [
    "import numpy as np\n",
    "import pandas as pd\n",
    "import plotly.graph_objects as go\n",
    "from pmdarima import auto_arima  # Importamos auto_arima\n",
    "from statsmodels.tsa.stattools import adfuller\n",
    "from sklearn.metrics import mean_squared_error\n",
    "from math import sqrt\n",
    "import warnings\n",
    "warnings.filterwarnings(\"ignore\")\n",
    "from datetime import datetime, timedelta\n",
    "\n",
    "# Cargar datos\n",
    "data = pd.read_csv(\"https://huggingface.co/datasets/pkr7098/time-series-forecasting-datasets/resolve/main/ETTh2.csv\")\n",
    "data['date'] = pd.to_datetime(data['date'])\n",
    "data = data.head(168)\n",
    "data.set_index('date', inplace=True)\n",
    "data_2h = data.resample('2H').mean()\n",
    "hull_data = data_2h[['LUFL']].dropna()  # Usamos LUFL como en el código anterior\n",
    "\n",
    "# Split the data into training and test sets (80% train, 20% test)\n",
    "total_rows = len(hull_data)\n",
    "train_size = int(total_rows * 0.8)\n",
    "test_size = total_rows - train_size\n",
    "train = hull_data['LUFL'][:train_size]\n",
    "test = hull_data['LUFL'][train_size:]\n",
    "\n",
    "# Stationarity Testing (Dickey-Fuller)\n",
    "def dickey_fuller_test(series, column_name):\n",
    "    print(f'Resultados de la prueba de Dickey-Fuller para columna: {column_name}')\n",
    "    dftest = adfuller(series, autolag='AIC')\n",
    "    dfoutput = pd.Series(dftest[0:4], index=['Test Statistic', 'p-value', 'No Lags Used', 'Número de observaciones utilizadas'])\n",
    "    for key, value in dftest[4].items():\n",
    "        dfoutput[f'Critical Value ({key})'] = value\n",
    "    print(dfoutput)\n",
    "    if dftest[1] <= 0.05:\n",
    "        print(\"Conclusión: Los datos son estacionarios\")\n",
    "    else:\n",
    "        print(\"Conclusión: Los datos no son estacionarios\")\n",
    "    return dftest[1]\n",
    "\n",
    "# Get p-value from test\n",
    "p_value = dickey_fuller_test(train, \"LUFL\")\n",
    "\n",
    "# Use the last two days (24 points at 2-hour intervals) for modeling\n",
    "last_two_days = train[-24:]\n",
    "\n",
    "# Fit auto_arima model - Optimiza automáticamente p, d, q\n",
    "model = auto_arima(last_two_days, \n",
    "                   seasonal=False,  # No asumimos estacionalidad\n",
    "                   start_p=0, start_q=0, max_p=5, max_q=5,  # Límites para p y q\n",
    "                   d=None,  # Deja que auto_arima determine d, pero sabemos que es estacionaria\n",
    "                   trace=True,  # Muestra el proceso de selección\n",
    "                   error_action='ignore', \n",
    "                   suppress_warnings=True)\n",
    "model_fit = model.fit(last_two_days)\n",
    "\n",
    "# Forecast for one week (7 days = 7 * 12 = 84 data points at 2-hour intervals)\n",
    "forecast_steps = 84\n",
    "forecast = model.predict(n_periods=forecast_steps)\n",
    "\n",
    "# Confidence intervals from the fitted model\n",
    "forecast_obj = model_fit.predict(n_periods=forecast_steps, return_conf_int=True)\n",
    "forecast, conf_int = forecast_obj[0], forecast_obj[1]\n",
    "ci_lower = conf_int[:, 0]  # Límite inferior\n",
    "ci_upper = conf_int[:, 1]  # Límite superior\n",
    "\n",
    "# Create a date range for the forecast\n",
    "last_date = last_two_days.index[-1]\n",
    "forecast_dates = pd.date_range(start=last_date + timedelta(hours=2), periods=forecast_steps, freq='2H')\n",
    "\n",
    "# Create a DataFrame for the forecast with confidence intervals\n",
    "forecast_ci_df = pd.DataFrame({\n",
    "    'LUFL_Predicho': forecast,\n",
    "    'CI_Lower': ci_lower,\n",
    "    'CI_Upper': ci_upper\n",
    "}, index=forecast_dates)\n",
    "\n",
    "# Combine historical and forecast data\n",
    "historical_pred_df = pd.DataFrame({\n",
    "    'LUFL_Historico': last_two_days,\n",
    "    'LUFL_Predicho': model.predict_in_sample()  # Predicciones en la muestra\n",
    "})\n",
    "\n",
    "combined_df = pd.concat([historical_pred_df, forecast_ci_df], axis=0)\n",
    "\n",
    "# Visualize the results\n",
    "fig = go.Figure()\n",
    "\n",
    "# Add historical values\n",
    "fig.add_trace(go.Scatter(\n",
    "    x=combined_df.index,\n",
    "    y=combined_df['LUFL_Historico'],\n",
    "    mode='lines',\n",
    "    name='LUFL Histórico',\n",
    "    line=dict(color='blue')\n",
    "))\n",
    "\n",
    "# Add predicted values for historical data\n",
    "fig.add_trace(go.Scatter(\n",
    "    x=combined_df.index[:len(last_two_days)],\n",
    "    y=combined_df['LUFL_Predicho'][:len(last_two_days)],\n",
    "    mode='lines',\n",
    "    name='LUFL Predicho (Actual)',\n",
    "    line=dict(color='green', dash='dash')\n",
    "))\n",
    "\n",
    "# Add future forecast\n",
    "fig.add_trace(go.Scatter(\n",
    "    x=forecast_ci_df.index,\n",
    "    y=forecast_ci_df['LUFL_Predicho'],\n",
    "    mode='lines',\n",
    "    name='LUFL Predicho (Futuro)',\n",
    "    line=dict(color='red')\n",
    "))\n",
    "\n",
    "# Add 95% confidence interval\n",
    "fig.add_trace(go.Scatter(\n",
    "    x=forecast_ci_df.index,\n",
    "    y=forecast_ci_df['CI_Upper'],\n",
    "    mode='lines',\n",
    "    name='Límite Superior (95% IC)',\n",
    "    line=dict(color='gray', width=0.5)\n",
    "))\n",
    "\n",
    "fig.add_trace(go.Scatter(\n",
    "    x=forecast_ci_df.index,\n",
    "    y=forecast_ci_df['CI_Lower'],\n",
    "    mode='lines',\n",
    "    name='Límite Inferior (95% IC)',\n",
    "    line=dict(color='gray', width=0.5),\n",
    "    fill='tonexty',\n",
    "    fillcolor='rgba(200, 100, 200, 0.1)'\n",
    "))\n",
    "\n",
    "# Customize the plot\n",
    "fig.update_layout(\n",
    "    title='Predicción del LUFL utilizando Auto-ARIMA con Intervalo de Confianza del 95%',\n",
    "    xaxis_title='Fecha',\n",
    "    yaxis_title='LUFL',\n",
    "    hovermode='x unified',\n",
    "    template=\"plotly_dark\",\n",
    "    showlegend=True\n",
    ")\n",
    "\n",
    "# Show the plot\n",
    "fig.show()\n",
    "\n",
    "# Calculate error metrics on the test set\n",
    "pred_test = model.predict(n_periods=len(test))\n",
    "rmse = sqrt(mean_squared_error(test, pred_test))\n",
    "mae = np.mean(np.abs(test - pred_test))\n",
    "print(f\"RMSE on test set: {rmse}\")\n",
    "print(f\"MAE on test set: {mae}\")\n",
    "\n",
    "# Naive forecast: Use the last value of the training set for all test predictions\n",
    "naive_forecast = np.full_like(test, test.iloc[0])\n",
    "\n",
    "# Calculate error metrics for the naive forecast\n",
    "rmse_naive = sqrt(mean_squared_error(test, naive_forecast))\n",
    "mae_naive = np.mean(np.abs(test - naive_forecast))\n",
    "\n",
    "print(f\"Naive Forecast RMSE: {rmse_naive}\")\n",
    "print(f\"Naive Forecast MAE: {mae_naive}\")\n",
    "\n",
    "# Print maximum and minimum of the series\n",
    "print(f\"Máximo: {hull_data['LUFL'].max()}\")\n",
    "print(f\"Mínimo: {hull_data['LUFL'].min()}\")\n",
    "\n",
    "# Mostrar el orden seleccionado por auto_arima\n",
    "print(f\"Orden ARIMA seleccionado: {model.order}\")"
   ]
  },
  {
   "cell_type": "code",
   "execution_count": 26,
   "metadata": {},
   "outputs": [
    {
     "name": "stdout",
     "output_type": "stream",
     "text": [
      "Resultados de la prueba de Dickey-Fuller para columna: LULL\n",
      "Test Statistic                        -4.688012\n",
      "p-value                                0.000089\n",
      "No Lags Used                           1.000000\n",
      "Número de observaciones utilizadas    65.000000\n",
      "Critical Value (1%)                   -3.535217\n",
      "Critical Value (5%)                   -2.907154\n",
      "Critical Value (10%)                  -2.591103\n",
      "dtype: float64\n",
      "Conclusión: Los datos son estacionarios\n",
      "Performing stepwise search to minimize aic\n",
      " ARIMA(0,0,0)(0,0,0)[0]             : AIC=21.945, Time=0.02 sec\n",
      " ARIMA(1,0,0)(0,0,0)[0]             : AIC=23.572, Time=0.02 sec\n",
      " ARIMA(0,0,1)(0,0,0)[0]             : AIC=23.689, Time=0.02 sec\n",
      " ARIMA(1,0,1)(0,0,0)[0]             : AIC=inf, Time=0.15 sec\n",
      " ARIMA(0,0,0)(0,0,0)[0] intercept   : AIC=18.991, Time=0.03 sec\n",
      " ARIMA(1,0,0)(0,0,0)[0] intercept   : AIC=20.828, Time=0.03 sec\n",
      " ARIMA(0,0,1)(0,0,0)[0] intercept   : AIC=20.842, Time=0.04 sec\n",
      " ARIMA(1,0,1)(0,0,0)[0] intercept   : AIC=22.771, Time=0.11 sec\n",
      "\n",
      "Best model:  ARIMA(0,0,0)(0,0,0)[0] intercept\n",
      "Total fit time: 0.434 seconds\n"
     ]
    },
    {
     "data": {
      "application/vnd.plotly.v1+json": {
       "config": {
        "plotlyServerURL": "https://plot.ly"
       },
       "data": [
        {
         "line": {
          "color": "blue"
         },
         "mode": "lines",
         "name": "LULL Histórico",
         "type": "scatter",
         "x": [
          "2016-07-04T14:00:00.000000000",
          "2016-07-04T16:00:00.000000000",
          "2016-07-04T18:00:00.000000000",
          "2016-07-04T20:00:00.000000000",
          "2016-07-04T22:00:00.000000000",
          "2016-07-05T00:00:00.000000000",
          "2016-07-05T02:00:00.000000000",
          "2016-07-05T04:00:00.000000000",
          "2016-07-05T06:00:00.000000000",
          "2016-07-05T08:00:00.000000000",
          "2016-07-05T10:00:00.000000000",
          "2016-07-05T12:00:00.000000000",
          "2016-07-05T14:00:00.000000000",
          "2016-07-05T16:00:00.000000000",
          "2016-07-05T18:00:00.000000000",
          "2016-07-05T20:00:00.000000000",
          "2016-07-05T22:00:00.000000000",
          "2016-07-06T00:00:00.000000000",
          "2016-07-06T02:00:00.000000000",
          "2016-07-06T04:00:00.000000000",
          "2016-07-06T06:00:00.000000000",
          "2016-07-06T08:00:00.000000000",
          "2016-07-06T10:00:00.000000000",
          "2016-07-06T12:00:00.000000000",
          "2016-07-06T14:00:00.000000000",
          "2016-07-06T16:00:00.000000000",
          "2016-07-06T18:00:00.000000000",
          "2016-07-06T20:00:00.000000000",
          "2016-07-06T22:00:00.000000000",
          "2016-07-07T00:00:00.000000000",
          "2016-07-07T02:00:00.000000000",
          "2016-07-07T04:00:00.000000000",
          "2016-07-07T06:00:00.000000000",
          "2016-07-07T08:00:00.000000000",
          "2016-07-07T10:00:00.000000000",
          "2016-07-07T12:00:00.000000000",
          "2016-07-07T14:00:00.000000000",
          "2016-07-07T16:00:00.000000000",
          "2016-07-07T18:00:00.000000000",
          "2016-07-07T20:00:00.000000000",
          "2016-07-07T22:00:00.000000000",
          "2016-07-08T00:00:00.000000000",
          "2016-07-08T02:00:00.000000000",
          "2016-07-08T04:00:00.000000000",
          "2016-07-08T06:00:00.000000000",
          "2016-07-08T08:00:00.000000000",
          "2016-07-08T10:00:00.000000000",
          "2016-07-08T12:00:00.000000000",
          "2016-07-08T14:00:00.000000000",
          "2016-07-08T16:00:00.000000000",
          "2016-07-08T18:00:00.000000000",
          "2016-07-08T20:00:00.000000000",
          "2016-07-08T22:00:00.000000000",
          "2016-07-09T00:00:00.000000000",
          "2016-07-09T02:00:00.000000000",
          "2016-07-09T04:00:00.000000000",
          "2016-07-09T06:00:00.000000000",
          "2016-07-09T08:00:00.000000000",
          "2016-07-09T10:00:00.000000000",
          "2016-07-09T12:00:00.000000000",
          "2016-07-09T14:00:00.000000000",
          "2016-07-09T16:00:00.000000000",
          "2016-07-09T18:00:00.000000000",
          "2016-07-09T20:00:00.000000000",
          "2016-07-09T22:00:00.000000000",
          "2016-07-10T00:00:00.000000000",
          "2016-07-10T02:00:00.000000000",
          "2016-07-10T04:00:00.000000000",
          "2016-07-10T06:00:00.000000000",
          "2016-07-10T08:00:00.000000000",
          "2016-07-10T10:00:00.000000000",
          "2016-07-10T12:00:00.000000000",
          "2016-07-10T14:00:00.000000000",
          "2016-07-10T16:00:00.000000000",
          "2016-07-10T18:00:00.000000000",
          "2016-07-10T20:00:00.000000000",
          "2016-07-10T22:00:00.000000000",
          "2016-07-11T00:00:00.000000000",
          "2016-07-11T02:00:00.000000000",
          "2016-07-11T04:00:00.000000000",
          "2016-07-11T06:00:00.000000000",
          "2016-07-11T08:00:00.000000000",
          "2016-07-11T10:00:00.000000000",
          "2016-07-11T12:00:00.000000000",
          "2016-07-11T14:00:00.000000000",
          "2016-07-11T16:00:00.000000000",
          "2016-07-11T18:00:00.000000000",
          "2016-07-11T20:00:00.000000000",
          "2016-07-11T22:00:00.000000000",
          "2016-07-12T00:00:00.000000000",
          "2016-07-12T02:00:00.000000000",
          "2016-07-12T04:00:00.000000000",
          "2016-07-12T06:00:00.000000000",
          "2016-07-12T08:00:00.000000000",
          "2016-07-12T10:00:00.000000000",
          "2016-07-12T12:00:00.000000000",
          "2016-07-12T14:00:00.000000000",
          "2016-07-12T16:00:00.000000000",
          "2016-07-12T18:00:00.000000000",
          "2016-07-12T20:00:00.000000000",
          "2016-07-12T22:00:00.000000000",
          "2016-07-13T00:00:00.000000000",
          "2016-07-13T02:00:00.000000000",
          "2016-07-13T04:00:00.000000000",
          "2016-07-13T06:00:00.000000000",
          "2016-07-13T08:00:00.000000000",
          "2016-07-13T10:00:00.000000000",
          "2016-07-13T12:00:00.000000000"
         ],
         "y": {
          "bdata": "AAAAAAAAAAAAAAAAAAAAAAAAAAAAAAAA////H9v55D8AAABAtvPjPwAAAAAAAAAAAAAAAAAAAAAAAAAAAAAAAAAAAAAAAAAAAAAAAAAAAAAAAAAAAAAAAAAAAAAAAAAAAAAAAAAAAAAAAAAAAAAAAAAAAAAAAAAAAAAAsMh29D8AAAAAAAAAAP/////STeQ/AAAAAAAAAAAAAAAAAAAAAP///9+jcOM/AAAAAAAAAAAAAAAAAAAAAAAAAAAAAAAAAAAAAAAA+H8AAAAAAAD4fwAAAAAAAPh/AAAAAAAA+H8AAAAAAAD4fwAAAAAAAPh/AAAAAAAA+H8AAAAAAAD4fwAAAAAAAPh/AAAAAAAA+H8AAAAAAAD4fwAAAAAAAPh/AAAAAAAA+H8AAAAAAAD4fwAAAAAAAPh/AAAAAAAA+H8AAAAAAAD4fwAAAAAAAPh/AAAAAAAA+H8AAAAAAAD4fwAAAAAAAPh/AAAAAAAA+H8AAAAAAAD4fwAAAAAAAPh/AAAAAAAA+H8AAAAAAAD4fwAAAAAAAPh/AAAAAAAA+H8AAAAAAAD4fwAAAAAAAPh/AAAAAAAA+H8AAAAAAAD4fwAAAAAAAPh/AAAAAAAA+H8AAAAAAAD4fwAAAAAAAPh/AAAAAAAA+H8AAAAAAAD4fwAAAAAAAPh/AAAAAAAA+H8AAAAAAAD4fwAAAAAAAPh/AAAAAAAA+H8AAAAAAAD4fwAAAAAAAPh/AAAAAAAA+H8AAAAAAAD4fwAAAAAAAPh/AAAAAAAA+H8AAAAAAAD4fwAAAAAAAPh/AAAAAAAA+H8AAAAAAAD4fwAAAAAAAPh/AAAAAAAA+H8AAAAAAAD4fwAAAAAAAPh/AAAAAAAA+H8AAAAAAAD4fwAAAAAAAPh/AAAAAAAA+H8AAAAAAAD4fwAAAAAAAPh/AAAAAAAA+H8AAAAAAAD4fwAAAAAAAPh/AAAAAAAA+H8AAAAAAAD4fwAAAAAAAPh/AAAAAAAA+H8AAAAAAAD4fwAAAAAAAPh/AAAAAAAA+H8AAAAAAAD4fwAAAAAAAPh/AAAAAAAA+H8AAAAAAAD4fwAAAAAAAPh/AAAAAAAA+H8AAAAAAAD4fwAAAAAAAPh/AAAAAAAA+H8AAAAAAAD4fwAAAAAAAPh/",
          "dtype": "f8"
         }
        },
        {
         "line": {
          "color": "green",
          "dash": "dash"
         },
         "mode": "lines",
         "name": "LULL Predicho (Actual)",
         "type": "scatter",
         "x": [
          "2016-07-04T14:00:00.000000000",
          "2016-07-04T16:00:00.000000000",
          "2016-07-04T18:00:00.000000000",
          "2016-07-04T20:00:00.000000000",
          "2016-07-04T22:00:00.000000000",
          "2016-07-05T00:00:00.000000000",
          "2016-07-05T02:00:00.000000000",
          "2016-07-05T04:00:00.000000000",
          "2016-07-05T06:00:00.000000000",
          "2016-07-05T08:00:00.000000000",
          "2016-07-05T10:00:00.000000000",
          "2016-07-05T12:00:00.000000000",
          "2016-07-05T14:00:00.000000000",
          "2016-07-05T16:00:00.000000000",
          "2016-07-05T18:00:00.000000000",
          "2016-07-05T20:00:00.000000000",
          "2016-07-05T22:00:00.000000000",
          "2016-07-06T00:00:00.000000000",
          "2016-07-06T02:00:00.000000000",
          "2016-07-06T04:00:00.000000000",
          "2016-07-06T06:00:00.000000000",
          "2016-07-06T08:00:00.000000000",
          "2016-07-06T10:00:00.000000000",
          "2016-07-06T12:00:00.000000000"
         ],
         "y": {
          "bdata": "FiwMRERExD8WLAxERETEPxYsDERERMQ/FiwMRERExD8WLAxERETEPxYsDERERMQ/FiwMRERExD8WLAxERETEPxYsDERERMQ/FiwMRERExD8WLAxERETEPxYsDERERMQ/FiwMRERExD8WLAxERETEPxYsDERERMQ/FiwMRERExD8WLAxERETEPxYsDERERMQ/FiwMRERExD8WLAxERETEPxYsDERERMQ/FiwMRERExD8WLAxERETEPxYsDERERMQ/",
          "dtype": "f8"
         }
        },
        {
         "line": {
          "color": "red"
         },
         "mode": "lines",
         "name": "LULL Predicho (Futuro)",
         "type": "scatter",
         "x": [
          "2016-07-06T14:00:00.000000000",
          "2016-07-06T16:00:00.000000000",
          "2016-07-06T18:00:00.000000000",
          "2016-07-06T20:00:00.000000000",
          "2016-07-06T22:00:00.000000000",
          "2016-07-07T00:00:00.000000000",
          "2016-07-07T02:00:00.000000000",
          "2016-07-07T04:00:00.000000000",
          "2016-07-07T06:00:00.000000000",
          "2016-07-07T08:00:00.000000000",
          "2016-07-07T10:00:00.000000000",
          "2016-07-07T12:00:00.000000000",
          "2016-07-07T14:00:00.000000000",
          "2016-07-07T16:00:00.000000000",
          "2016-07-07T18:00:00.000000000",
          "2016-07-07T20:00:00.000000000",
          "2016-07-07T22:00:00.000000000",
          "2016-07-08T00:00:00.000000000",
          "2016-07-08T02:00:00.000000000",
          "2016-07-08T04:00:00.000000000",
          "2016-07-08T06:00:00.000000000",
          "2016-07-08T08:00:00.000000000",
          "2016-07-08T10:00:00.000000000",
          "2016-07-08T12:00:00.000000000",
          "2016-07-08T14:00:00.000000000",
          "2016-07-08T16:00:00.000000000",
          "2016-07-08T18:00:00.000000000",
          "2016-07-08T20:00:00.000000000",
          "2016-07-08T22:00:00.000000000",
          "2016-07-09T00:00:00.000000000",
          "2016-07-09T02:00:00.000000000",
          "2016-07-09T04:00:00.000000000",
          "2016-07-09T06:00:00.000000000",
          "2016-07-09T08:00:00.000000000",
          "2016-07-09T10:00:00.000000000",
          "2016-07-09T12:00:00.000000000",
          "2016-07-09T14:00:00.000000000",
          "2016-07-09T16:00:00.000000000",
          "2016-07-09T18:00:00.000000000",
          "2016-07-09T20:00:00.000000000",
          "2016-07-09T22:00:00.000000000",
          "2016-07-10T00:00:00.000000000",
          "2016-07-10T02:00:00.000000000",
          "2016-07-10T04:00:00.000000000",
          "2016-07-10T06:00:00.000000000",
          "2016-07-10T08:00:00.000000000",
          "2016-07-10T10:00:00.000000000",
          "2016-07-10T12:00:00.000000000",
          "2016-07-10T14:00:00.000000000",
          "2016-07-10T16:00:00.000000000",
          "2016-07-10T18:00:00.000000000",
          "2016-07-10T20:00:00.000000000",
          "2016-07-10T22:00:00.000000000",
          "2016-07-11T00:00:00.000000000",
          "2016-07-11T02:00:00.000000000",
          "2016-07-11T04:00:00.000000000",
          "2016-07-11T06:00:00.000000000",
          "2016-07-11T08:00:00.000000000",
          "2016-07-11T10:00:00.000000000",
          "2016-07-11T12:00:00.000000000",
          "2016-07-11T14:00:00.000000000",
          "2016-07-11T16:00:00.000000000",
          "2016-07-11T18:00:00.000000000",
          "2016-07-11T20:00:00.000000000",
          "2016-07-11T22:00:00.000000000",
          "2016-07-12T00:00:00.000000000",
          "2016-07-12T02:00:00.000000000",
          "2016-07-12T04:00:00.000000000",
          "2016-07-12T06:00:00.000000000",
          "2016-07-12T08:00:00.000000000",
          "2016-07-12T10:00:00.000000000",
          "2016-07-12T12:00:00.000000000",
          "2016-07-12T14:00:00.000000000",
          "2016-07-12T16:00:00.000000000",
          "2016-07-12T18:00:00.000000000",
          "2016-07-12T20:00:00.000000000",
          "2016-07-12T22:00:00.000000000",
          "2016-07-13T00:00:00.000000000",
          "2016-07-13T02:00:00.000000000",
          "2016-07-13T04:00:00.000000000",
          "2016-07-13T06:00:00.000000000",
          "2016-07-13T08:00:00.000000000",
          "2016-07-13T10:00:00.000000000",
          "2016-07-13T12:00:00.000000000"
         ],
         "y": {
          "bdata": "FiwMRERExD8WLAxERETEPxYsDERERMQ/FiwMRERExD8WLAxERETEPxYsDERERMQ/FiwMRERExD8WLAxERETEPxYsDERERMQ/FiwMRERExD8WLAxERETEPxYsDERERMQ/FiwMRERExD8WLAxERETEPxYsDERERMQ/FiwMRERExD8WLAxERETEPxYsDERERMQ/FiwMRERExD8WLAxERETEPxYsDERERMQ/FiwMRERExD8WLAxERETEPxYsDERERMQ/FiwMRERExD8WLAxERETEPxYsDERERMQ/FiwMRERExD8WLAxERETEPxYsDERERMQ/FiwMRERExD8WLAxERETEPxYsDERERMQ/FiwMRERExD8WLAxERETEPxYsDERERMQ/FiwMRERExD8WLAxERETEPxYsDERERMQ/FiwMRERExD8WLAxERETEPxYsDERERMQ/FiwMRERExD8WLAxERETEPxYsDERERMQ/FiwMRERExD8WLAxERETEPxYsDERERMQ/FiwMRERExD8WLAxERETEPxYsDERERMQ/FiwMRERExD8WLAxERETEPxYsDERERMQ/FiwMRERExD8WLAxERETEPxYsDERERMQ/FiwMRERExD8WLAxERETEPxYsDERERMQ/FiwMRERExD8WLAxERETEPxYsDERERMQ/FiwMRERExD8WLAxERETEPxYsDERERMQ/FiwMRERExD8WLAxERETEPxYsDERERMQ/FiwMRERExD8WLAxERETEPxYsDERERMQ/FiwMRERExD8WLAxERETEPxYsDERERMQ/FiwMRERExD8WLAxERETEPxYsDERERMQ/FiwMRERExD8WLAxERETEPxYsDERERMQ/FiwMRERExD8WLAxERETEPxYsDERERMQ/",
          "dtype": "f8"
         }
        },
        {
         "line": {
          "color": "gray",
          "width": 0.5
         },
         "mode": "lines",
         "name": "Límite Superior (95% IC)",
         "type": "scatter",
         "x": [
          "2016-07-06T14:00:00.000000000",
          "2016-07-06T16:00:00.000000000",
          "2016-07-06T18:00:00.000000000",
          "2016-07-06T20:00:00.000000000",
          "2016-07-06T22:00:00.000000000",
          "2016-07-07T00:00:00.000000000",
          "2016-07-07T02:00:00.000000000",
          "2016-07-07T04:00:00.000000000",
          "2016-07-07T06:00:00.000000000",
          "2016-07-07T08:00:00.000000000",
          "2016-07-07T10:00:00.000000000",
          "2016-07-07T12:00:00.000000000",
          "2016-07-07T14:00:00.000000000",
          "2016-07-07T16:00:00.000000000",
          "2016-07-07T18:00:00.000000000",
          "2016-07-07T20:00:00.000000000",
          "2016-07-07T22:00:00.000000000",
          "2016-07-08T00:00:00.000000000",
          "2016-07-08T02:00:00.000000000",
          "2016-07-08T04:00:00.000000000",
          "2016-07-08T06:00:00.000000000",
          "2016-07-08T08:00:00.000000000",
          "2016-07-08T10:00:00.000000000",
          "2016-07-08T12:00:00.000000000",
          "2016-07-08T14:00:00.000000000",
          "2016-07-08T16:00:00.000000000",
          "2016-07-08T18:00:00.000000000",
          "2016-07-08T20:00:00.000000000",
          "2016-07-08T22:00:00.000000000",
          "2016-07-09T00:00:00.000000000",
          "2016-07-09T02:00:00.000000000",
          "2016-07-09T04:00:00.000000000",
          "2016-07-09T06:00:00.000000000",
          "2016-07-09T08:00:00.000000000",
          "2016-07-09T10:00:00.000000000",
          "2016-07-09T12:00:00.000000000",
          "2016-07-09T14:00:00.000000000",
          "2016-07-09T16:00:00.000000000",
          "2016-07-09T18:00:00.000000000",
          "2016-07-09T20:00:00.000000000",
          "2016-07-09T22:00:00.000000000",
          "2016-07-10T00:00:00.000000000",
          "2016-07-10T02:00:00.000000000",
          "2016-07-10T04:00:00.000000000",
          "2016-07-10T06:00:00.000000000",
          "2016-07-10T08:00:00.000000000",
          "2016-07-10T10:00:00.000000000",
          "2016-07-10T12:00:00.000000000",
          "2016-07-10T14:00:00.000000000",
          "2016-07-10T16:00:00.000000000",
          "2016-07-10T18:00:00.000000000",
          "2016-07-10T20:00:00.000000000",
          "2016-07-10T22:00:00.000000000",
          "2016-07-11T00:00:00.000000000",
          "2016-07-11T02:00:00.000000000",
          "2016-07-11T04:00:00.000000000",
          "2016-07-11T06:00:00.000000000",
          "2016-07-11T08:00:00.000000000",
          "2016-07-11T10:00:00.000000000",
          "2016-07-11T12:00:00.000000000",
          "2016-07-11T14:00:00.000000000",
          "2016-07-11T16:00:00.000000000",
          "2016-07-11T18:00:00.000000000",
          "2016-07-11T20:00:00.000000000",
          "2016-07-11T22:00:00.000000000",
          "2016-07-12T00:00:00.000000000",
          "2016-07-12T02:00:00.000000000",
          "2016-07-12T04:00:00.000000000",
          "2016-07-12T06:00:00.000000000",
          "2016-07-12T08:00:00.000000000",
          "2016-07-12T10:00:00.000000000",
          "2016-07-12T12:00:00.000000000",
          "2016-07-12T14:00:00.000000000",
          "2016-07-12T16:00:00.000000000",
          "2016-07-12T18:00:00.000000000",
          "2016-07-12T20:00:00.000000000",
          "2016-07-12T22:00:00.000000000",
          "2016-07-13T00:00:00.000000000",
          "2016-07-13T02:00:00.000000000",
          "2016-07-13T04:00:00.000000000",
          "2016-07-13T06:00:00.000000000",
          "2016-07-13T08:00:00.000000000",
          "2016-07-13T10:00:00.000000000",
          "2016-07-13T12:00:00.000000000"
         ],
         "y": {
          "bdata": "/J0Qr1fO6T/8nRCvV87pP/ydEK9Xzuk//J0Qr1fO6T/8nRCvV87pP/ydEK9Xzuk//J0Qr1fO6T/8nRCvV87pP/ydEK9Xzuk//J0Qr1fO6T/8nRCvV87pP/ydEK9Xzuk//J0Qr1fO6T/8nRCvV87pP/ydEK9Xzuk//J0Qr1fO6T/8nRCvV87pP/ydEK9Xzuk//J0Qr1fO6T/8nRCvV87pP/ydEK9Xzuk//J0Qr1fO6T/8nRCvV87pP/ydEK9Xzuk//J0Qr1fO6T/8nRCvV87pP/ydEK9Xzuk//J0Qr1fO6T/8nRCvV87pP/ydEK9Xzuk//J0Qr1fO6T/8nRCvV87pP/ydEK9Xzuk//J0Qr1fO6T/8nRCvV87pP/ydEK9Xzuk//J0Qr1fO6T/8nRCvV87pP/ydEK9Xzuk//J0Qr1fO6T/8nRCvV87pP/ydEK9Xzuk//J0Qr1fO6T/8nRCvV87pP/ydEK9Xzuk//J0Qr1fO6T/8nRCvV87pP/ydEK9Xzuk//J0Qr1fO6T/8nRCvV87pP/ydEK9Xzuk//J0Qr1fO6T/8nRCvV87pP/ydEK9Xzuk//J0Qr1fO6T/8nRCvV87pP/ydEK9Xzuk//J0Qr1fO6T/8nRCvV87pP/ydEK9Xzuk//J0Qr1fO6T/8nRCvV87pP/ydEK9Xzuk//J0Qr1fO6T/8nRCvV87pP/ydEK9Xzuk//J0Qr1fO6T/8nRCvV87pP/ydEK9Xzuk//J0Qr1fO6T/8nRCvV87pP/ydEK9Xzuk//J0Qr1fO6T/8nRCvV87pP/ydEK9Xzuk//J0Qr1fO6T/8nRCvV87pP/ydEK9Xzuk//J0Qr1fO6T/8nRCvV87pP/ydEK9Xzuk//J0Qr1fO6T/8nRCvV87pP/ydEK9Xzuk/",
          "dtype": "f8"
         }
        },
        {
         "fill": "tonexty",
         "fillcolor": "rgba(200, 100, 200, 0.1)",
         "line": {
          "color": "gray",
          "width": 0.5
         },
         "mode": "lines",
         "name": "Límite Inferior (95% IC)",
         "type": "scatter",
         "x": [
          "2016-07-06T14:00:00.000000000",
          "2016-07-06T16:00:00.000000000",
          "2016-07-06T18:00:00.000000000",
          "2016-07-06T20:00:00.000000000",
          "2016-07-06T22:00:00.000000000",
          "2016-07-07T00:00:00.000000000",
          "2016-07-07T02:00:00.000000000",
          "2016-07-07T04:00:00.000000000",
          "2016-07-07T06:00:00.000000000",
          "2016-07-07T08:00:00.000000000",
          "2016-07-07T10:00:00.000000000",
          "2016-07-07T12:00:00.000000000",
          "2016-07-07T14:00:00.000000000",
          "2016-07-07T16:00:00.000000000",
          "2016-07-07T18:00:00.000000000",
          "2016-07-07T20:00:00.000000000",
          "2016-07-07T22:00:00.000000000",
          "2016-07-08T00:00:00.000000000",
          "2016-07-08T02:00:00.000000000",
          "2016-07-08T04:00:00.000000000",
          "2016-07-08T06:00:00.000000000",
          "2016-07-08T08:00:00.000000000",
          "2016-07-08T10:00:00.000000000",
          "2016-07-08T12:00:00.000000000",
          "2016-07-08T14:00:00.000000000",
          "2016-07-08T16:00:00.000000000",
          "2016-07-08T18:00:00.000000000",
          "2016-07-08T20:00:00.000000000",
          "2016-07-08T22:00:00.000000000",
          "2016-07-09T00:00:00.000000000",
          "2016-07-09T02:00:00.000000000",
          "2016-07-09T04:00:00.000000000",
          "2016-07-09T06:00:00.000000000",
          "2016-07-09T08:00:00.000000000",
          "2016-07-09T10:00:00.000000000",
          "2016-07-09T12:00:00.000000000",
          "2016-07-09T14:00:00.000000000",
          "2016-07-09T16:00:00.000000000",
          "2016-07-09T18:00:00.000000000",
          "2016-07-09T20:00:00.000000000",
          "2016-07-09T22:00:00.000000000",
          "2016-07-10T00:00:00.000000000",
          "2016-07-10T02:00:00.000000000",
          "2016-07-10T04:00:00.000000000",
          "2016-07-10T06:00:00.000000000",
          "2016-07-10T08:00:00.000000000",
          "2016-07-10T10:00:00.000000000",
          "2016-07-10T12:00:00.000000000",
          "2016-07-10T14:00:00.000000000",
          "2016-07-10T16:00:00.000000000",
          "2016-07-10T18:00:00.000000000",
          "2016-07-10T20:00:00.000000000",
          "2016-07-10T22:00:00.000000000",
          "2016-07-11T00:00:00.000000000",
          "2016-07-11T02:00:00.000000000",
          "2016-07-11T04:00:00.000000000",
          "2016-07-11T06:00:00.000000000",
          "2016-07-11T08:00:00.000000000",
          "2016-07-11T10:00:00.000000000",
          "2016-07-11T12:00:00.000000000",
          "2016-07-11T14:00:00.000000000",
          "2016-07-11T16:00:00.000000000",
          "2016-07-11T18:00:00.000000000",
          "2016-07-11T20:00:00.000000000",
          "2016-07-11T22:00:00.000000000",
          "2016-07-12T00:00:00.000000000",
          "2016-07-12T02:00:00.000000000",
          "2016-07-12T04:00:00.000000000",
          "2016-07-12T06:00:00.000000000",
          "2016-07-12T08:00:00.000000000",
          "2016-07-12T10:00:00.000000000",
          "2016-07-12T12:00:00.000000000",
          "2016-07-12T14:00:00.000000000",
          "2016-07-12T16:00:00.000000000",
          "2016-07-12T18:00:00.000000000",
          "2016-07-12T20:00:00.000000000",
          "2016-07-12T22:00:00.000000000",
          "2016-07-13T00:00:00.000000000",
          "2016-07-13T02:00:00.000000000",
          "2016-07-13T04:00:00.000000000",
          "2016-07-13T06:00:00.000000000",
          "2016-07-13T08:00:00.000000000",
          "2016-07-13T10:00:00.000000000",
          "2016-07-13T12:00:00.000000000"
         ],
         "y": {
          "bdata": "4Q8VGmtY37/hDxUaa1jfv+EPFRprWN+/4Q8VGmtY37/hDxUaa1jfv+EPFRprWN+/4Q8VGmtY37/hDxUaa1jfv+EPFRprWN+/4Q8VGmtY37/hDxUaa1jfv+EPFRprWN+/4Q8VGmtY37/hDxUaa1jfv+EPFRprWN+/4Q8VGmtY37/hDxUaa1jfv+EPFRprWN+/4Q8VGmtY37/hDxUaa1jfv+EPFRprWN+/4Q8VGmtY37/hDxUaa1jfv+EPFRprWN+/4Q8VGmtY37/hDxUaa1jfv+EPFRprWN+/4Q8VGmtY37/hDxUaa1jfv+EPFRprWN+/4Q8VGmtY37/hDxUaa1jfv+EPFRprWN+/4Q8VGmtY37/hDxUaa1jfv+EPFRprWN+/4Q8VGmtY37/hDxUaa1jfv+EPFRprWN+/4Q8VGmtY37/hDxUaa1jfv+EPFRprWN+/4Q8VGmtY37/hDxUaa1jfv+EPFRprWN+/4Q8VGmtY37/hDxUaa1jfv+EPFRprWN+/4Q8VGmtY37/hDxUaa1jfv+EPFRprWN+/4Q8VGmtY37/hDxUaa1jfv+EPFRprWN+/4Q8VGmtY37/hDxUaa1jfv+EPFRprWN+/4Q8VGmtY37/hDxUaa1jfv+EPFRprWN+/4Q8VGmtY37/hDxUaa1jfv+EPFRprWN+/4Q8VGmtY37/hDxUaa1jfv+EPFRprWN+/4Q8VGmtY37/hDxUaa1jfv+EPFRprWN+/4Q8VGmtY37/hDxUaa1jfv+EPFRprWN+/4Q8VGmtY37/hDxUaa1jfv+EPFRprWN+/4Q8VGmtY37/hDxUaa1jfv+EPFRprWN+/4Q8VGmtY37/hDxUaa1jfv+EPFRprWN+/4Q8VGmtY37/hDxUaa1jfv+EPFRprWN+/",
          "dtype": "f8"
         }
        }
       ],
       "layout": {
        "hovermode": "x unified",
        "showlegend": true,
        "template": {
         "data": {
          "bar": [
           {
            "error_x": {
             "color": "#f2f5fa"
            },
            "error_y": {
             "color": "#f2f5fa"
            },
            "marker": {
             "line": {
              "color": "rgb(17,17,17)",
              "width": 0.5
             },
             "pattern": {
              "fillmode": "overlay",
              "size": 10,
              "solidity": 0.2
             }
            },
            "type": "bar"
           }
          ],
          "barpolar": [
           {
            "marker": {
             "line": {
              "color": "rgb(17,17,17)",
              "width": 0.5
             },
             "pattern": {
              "fillmode": "overlay",
              "size": 10,
              "solidity": 0.2
             }
            },
            "type": "barpolar"
           }
          ],
          "carpet": [
           {
            "aaxis": {
             "endlinecolor": "#A2B1C6",
             "gridcolor": "#506784",
             "linecolor": "#506784",
             "minorgridcolor": "#506784",
             "startlinecolor": "#A2B1C6"
            },
            "baxis": {
             "endlinecolor": "#A2B1C6",
             "gridcolor": "#506784",
             "linecolor": "#506784",
             "minorgridcolor": "#506784",
             "startlinecolor": "#A2B1C6"
            },
            "type": "carpet"
           }
          ],
          "choropleth": [
           {
            "colorbar": {
             "outlinewidth": 0,
             "ticks": ""
            },
            "type": "choropleth"
           }
          ],
          "contour": [
           {
            "colorbar": {
             "outlinewidth": 0,
             "ticks": ""
            },
            "colorscale": [
             [
              0,
              "#0d0887"
             ],
             [
              0.1111111111111111,
              "#46039f"
             ],
             [
              0.2222222222222222,
              "#7201a8"
             ],
             [
              0.3333333333333333,
              "#9c179e"
             ],
             [
              0.4444444444444444,
              "#bd3786"
             ],
             [
              0.5555555555555556,
              "#d8576b"
             ],
             [
              0.6666666666666666,
              "#ed7953"
             ],
             [
              0.7777777777777778,
              "#fb9f3a"
             ],
             [
              0.8888888888888888,
              "#fdca26"
             ],
             [
              1,
              "#f0f921"
             ]
            ],
            "type": "contour"
           }
          ],
          "contourcarpet": [
           {
            "colorbar": {
             "outlinewidth": 0,
             "ticks": ""
            },
            "type": "contourcarpet"
           }
          ],
          "heatmap": [
           {
            "colorbar": {
             "outlinewidth": 0,
             "ticks": ""
            },
            "colorscale": [
             [
              0,
              "#0d0887"
             ],
             [
              0.1111111111111111,
              "#46039f"
             ],
             [
              0.2222222222222222,
              "#7201a8"
             ],
             [
              0.3333333333333333,
              "#9c179e"
             ],
             [
              0.4444444444444444,
              "#bd3786"
             ],
             [
              0.5555555555555556,
              "#d8576b"
             ],
             [
              0.6666666666666666,
              "#ed7953"
             ],
             [
              0.7777777777777778,
              "#fb9f3a"
             ],
             [
              0.8888888888888888,
              "#fdca26"
             ],
             [
              1,
              "#f0f921"
             ]
            ],
            "type": "heatmap"
           }
          ],
          "histogram": [
           {
            "marker": {
             "pattern": {
              "fillmode": "overlay",
              "size": 10,
              "solidity": 0.2
             }
            },
            "type": "histogram"
           }
          ],
          "histogram2d": [
           {
            "colorbar": {
             "outlinewidth": 0,
             "ticks": ""
            },
            "colorscale": [
             [
              0,
              "#0d0887"
             ],
             [
              0.1111111111111111,
              "#46039f"
             ],
             [
              0.2222222222222222,
              "#7201a8"
             ],
             [
              0.3333333333333333,
              "#9c179e"
             ],
             [
              0.4444444444444444,
              "#bd3786"
             ],
             [
              0.5555555555555556,
              "#d8576b"
             ],
             [
              0.6666666666666666,
              "#ed7953"
             ],
             [
              0.7777777777777778,
              "#fb9f3a"
             ],
             [
              0.8888888888888888,
              "#fdca26"
             ],
             [
              1,
              "#f0f921"
             ]
            ],
            "type": "histogram2d"
           }
          ],
          "histogram2dcontour": [
           {
            "colorbar": {
             "outlinewidth": 0,
             "ticks": ""
            },
            "colorscale": [
             [
              0,
              "#0d0887"
             ],
             [
              0.1111111111111111,
              "#46039f"
             ],
             [
              0.2222222222222222,
              "#7201a8"
             ],
             [
              0.3333333333333333,
              "#9c179e"
             ],
             [
              0.4444444444444444,
              "#bd3786"
             ],
             [
              0.5555555555555556,
              "#d8576b"
             ],
             [
              0.6666666666666666,
              "#ed7953"
             ],
             [
              0.7777777777777778,
              "#fb9f3a"
             ],
             [
              0.8888888888888888,
              "#fdca26"
             ],
             [
              1,
              "#f0f921"
             ]
            ],
            "type": "histogram2dcontour"
           }
          ],
          "mesh3d": [
           {
            "colorbar": {
             "outlinewidth": 0,
             "ticks": ""
            },
            "type": "mesh3d"
           }
          ],
          "parcoords": [
           {
            "line": {
             "colorbar": {
              "outlinewidth": 0,
              "ticks": ""
             }
            },
            "type": "parcoords"
           }
          ],
          "pie": [
           {
            "automargin": true,
            "type": "pie"
           }
          ],
          "scatter": [
           {
            "marker": {
             "line": {
              "color": "#283442"
             }
            },
            "type": "scatter"
           }
          ],
          "scatter3d": [
           {
            "line": {
             "colorbar": {
              "outlinewidth": 0,
              "ticks": ""
             }
            },
            "marker": {
             "colorbar": {
              "outlinewidth": 0,
              "ticks": ""
             }
            },
            "type": "scatter3d"
           }
          ],
          "scattercarpet": [
           {
            "marker": {
             "colorbar": {
              "outlinewidth": 0,
              "ticks": ""
             }
            },
            "type": "scattercarpet"
           }
          ],
          "scattergeo": [
           {
            "marker": {
             "colorbar": {
              "outlinewidth": 0,
              "ticks": ""
             }
            },
            "type": "scattergeo"
           }
          ],
          "scattergl": [
           {
            "marker": {
             "line": {
              "color": "#283442"
             }
            },
            "type": "scattergl"
           }
          ],
          "scattermap": [
           {
            "marker": {
             "colorbar": {
              "outlinewidth": 0,
              "ticks": ""
             }
            },
            "type": "scattermap"
           }
          ],
          "scattermapbox": [
           {
            "marker": {
             "colorbar": {
              "outlinewidth": 0,
              "ticks": ""
             }
            },
            "type": "scattermapbox"
           }
          ],
          "scatterpolar": [
           {
            "marker": {
             "colorbar": {
              "outlinewidth": 0,
              "ticks": ""
             }
            },
            "type": "scatterpolar"
           }
          ],
          "scatterpolargl": [
           {
            "marker": {
             "colorbar": {
              "outlinewidth": 0,
              "ticks": ""
             }
            },
            "type": "scatterpolargl"
           }
          ],
          "scatterternary": [
           {
            "marker": {
             "colorbar": {
              "outlinewidth": 0,
              "ticks": ""
             }
            },
            "type": "scatterternary"
           }
          ],
          "surface": [
           {
            "colorbar": {
             "outlinewidth": 0,
             "ticks": ""
            },
            "colorscale": [
             [
              0,
              "#0d0887"
             ],
             [
              0.1111111111111111,
              "#46039f"
             ],
             [
              0.2222222222222222,
              "#7201a8"
             ],
             [
              0.3333333333333333,
              "#9c179e"
             ],
             [
              0.4444444444444444,
              "#bd3786"
             ],
             [
              0.5555555555555556,
              "#d8576b"
             ],
             [
              0.6666666666666666,
              "#ed7953"
             ],
             [
              0.7777777777777778,
              "#fb9f3a"
             ],
             [
              0.8888888888888888,
              "#fdca26"
             ],
             [
              1,
              "#f0f921"
             ]
            ],
            "type": "surface"
           }
          ],
          "table": [
           {
            "cells": {
             "fill": {
              "color": "#506784"
             },
             "line": {
              "color": "rgb(17,17,17)"
             }
            },
            "header": {
             "fill": {
              "color": "#2a3f5f"
             },
             "line": {
              "color": "rgb(17,17,17)"
             }
            },
            "type": "table"
           }
          ]
         },
         "layout": {
          "annotationdefaults": {
           "arrowcolor": "#f2f5fa",
           "arrowhead": 0,
           "arrowwidth": 1
          },
          "autotypenumbers": "strict",
          "coloraxis": {
           "colorbar": {
            "outlinewidth": 0,
            "ticks": ""
           }
          },
          "colorscale": {
           "diverging": [
            [
             0,
             "#8e0152"
            ],
            [
             0.1,
             "#c51b7d"
            ],
            [
             0.2,
             "#de77ae"
            ],
            [
             0.3,
             "#f1b6da"
            ],
            [
             0.4,
             "#fde0ef"
            ],
            [
             0.5,
             "#f7f7f7"
            ],
            [
             0.6,
             "#e6f5d0"
            ],
            [
             0.7,
             "#b8e186"
            ],
            [
             0.8,
             "#7fbc41"
            ],
            [
             0.9,
             "#4d9221"
            ],
            [
             1,
             "#276419"
            ]
           ],
           "sequential": [
            [
             0,
             "#0d0887"
            ],
            [
             0.1111111111111111,
             "#46039f"
            ],
            [
             0.2222222222222222,
             "#7201a8"
            ],
            [
             0.3333333333333333,
             "#9c179e"
            ],
            [
             0.4444444444444444,
             "#bd3786"
            ],
            [
             0.5555555555555556,
             "#d8576b"
            ],
            [
             0.6666666666666666,
             "#ed7953"
            ],
            [
             0.7777777777777778,
             "#fb9f3a"
            ],
            [
             0.8888888888888888,
             "#fdca26"
            ],
            [
             1,
             "#f0f921"
            ]
           ],
           "sequentialminus": [
            [
             0,
             "#0d0887"
            ],
            [
             0.1111111111111111,
             "#46039f"
            ],
            [
             0.2222222222222222,
             "#7201a8"
            ],
            [
             0.3333333333333333,
             "#9c179e"
            ],
            [
             0.4444444444444444,
             "#bd3786"
            ],
            [
             0.5555555555555556,
             "#d8576b"
            ],
            [
             0.6666666666666666,
             "#ed7953"
            ],
            [
             0.7777777777777778,
             "#fb9f3a"
            ],
            [
             0.8888888888888888,
             "#fdca26"
            ],
            [
             1,
             "#f0f921"
            ]
           ]
          },
          "colorway": [
           "#636efa",
           "#EF553B",
           "#00cc96",
           "#ab63fa",
           "#FFA15A",
           "#19d3f3",
           "#FF6692",
           "#B6E880",
           "#FF97FF",
           "#FECB52"
          ],
          "font": {
           "color": "#f2f5fa"
          },
          "geo": {
           "bgcolor": "rgb(17,17,17)",
           "lakecolor": "rgb(17,17,17)",
           "landcolor": "rgb(17,17,17)",
           "showlakes": true,
           "showland": true,
           "subunitcolor": "#506784"
          },
          "hoverlabel": {
           "align": "left"
          },
          "hovermode": "closest",
          "mapbox": {
           "style": "dark"
          },
          "paper_bgcolor": "rgb(17,17,17)",
          "plot_bgcolor": "rgb(17,17,17)",
          "polar": {
           "angularaxis": {
            "gridcolor": "#506784",
            "linecolor": "#506784",
            "ticks": ""
           },
           "bgcolor": "rgb(17,17,17)",
           "radialaxis": {
            "gridcolor": "#506784",
            "linecolor": "#506784",
            "ticks": ""
           }
          },
          "scene": {
           "xaxis": {
            "backgroundcolor": "rgb(17,17,17)",
            "gridcolor": "#506784",
            "gridwidth": 2,
            "linecolor": "#506784",
            "showbackground": true,
            "ticks": "",
            "zerolinecolor": "#C8D4E3"
           },
           "yaxis": {
            "backgroundcolor": "rgb(17,17,17)",
            "gridcolor": "#506784",
            "gridwidth": 2,
            "linecolor": "#506784",
            "showbackground": true,
            "ticks": "",
            "zerolinecolor": "#C8D4E3"
           },
           "zaxis": {
            "backgroundcolor": "rgb(17,17,17)",
            "gridcolor": "#506784",
            "gridwidth": 2,
            "linecolor": "#506784",
            "showbackground": true,
            "ticks": "",
            "zerolinecolor": "#C8D4E3"
           }
          },
          "shapedefaults": {
           "line": {
            "color": "#f2f5fa"
           }
          },
          "sliderdefaults": {
           "bgcolor": "#C8D4E3",
           "bordercolor": "rgb(17,17,17)",
           "borderwidth": 1,
           "tickwidth": 0
          },
          "ternary": {
           "aaxis": {
            "gridcolor": "#506784",
            "linecolor": "#506784",
            "ticks": ""
           },
           "baxis": {
            "gridcolor": "#506784",
            "linecolor": "#506784",
            "ticks": ""
           },
           "bgcolor": "rgb(17,17,17)",
           "caxis": {
            "gridcolor": "#506784",
            "linecolor": "#506784",
            "ticks": ""
           }
          },
          "title": {
           "x": 0.05
          },
          "updatemenudefaults": {
           "bgcolor": "#506784",
           "borderwidth": 0
          },
          "xaxis": {
           "automargin": true,
           "gridcolor": "#283442",
           "linecolor": "#506784",
           "ticks": "",
           "title": {
            "standoff": 15
           },
           "zerolinecolor": "#283442",
           "zerolinewidth": 2
          },
          "yaxis": {
           "automargin": true,
           "gridcolor": "#283442",
           "linecolor": "#506784",
           "ticks": "",
           "title": {
            "standoff": 15
           },
           "zerolinecolor": "#283442",
           "zerolinewidth": 2
          }
         }
        },
        "title": {
         "text": "Predicción del LULL utilizando Auto-ARIMA con Intervalo de Confianza del 95%"
        },
        "xaxis": {
         "title": {
          "text": "Fecha"
         }
        },
        "yaxis": {
         "title": {
          "text": "LULL"
         }
        }
       }
      }
     },
     "metadata": {},
     "output_type": "display_data"
    },
    {
     "name": "stdout",
     "output_type": "stream",
     "text": [
      "RMSE on test set: 0.37231282896641743\n",
      "MAE on test set: 0.272882352101779\n",
      "Naive Forecast RMSE: 0.41643249796880566\n",
      "Naive Forecast MAE: 0.1890588227440329\n",
      "Máximo: 1.3269999623298645\n",
      "Mínimo: 0.0\n",
      "Orden ARIMA seleccionado: (0, 0, 0)\n"
     ]
    }
   ],
   "source": [
    "import numpy as np\n",
    "import pandas as pd\n",
    "import plotly.graph_objects as go\n",
    "from pmdarima import auto_arima  # Importamos auto_arima\n",
    "from statsmodels.tsa.stattools import adfuller\n",
    "from sklearn.metrics import mean_squared_error\n",
    "from math import sqrt\n",
    "import warnings\n",
    "warnings.filterwarnings(\"ignore\")\n",
    "from datetime import datetime, timedelta\n",
    "\n",
    "# Cargar datos\n",
    "data = pd.read_csv(\"https://huggingface.co/datasets/pkr7098/time-series-forecasting-datasets/resolve/main/ETTh2.csv\")\n",
    "data['date'] = pd.to_datetime(data['date'])\n",
    "data = data.head(168)\n",
    "data.set_index('date', inplace=True)\n",
    "data_2h = data.resample('2H').mean()\n",
    "hull_data = data_2h[['LULL']].dropna()  # Usamos LULL como en el código anterior\n",
    "\n",
    "# Split the data into training and test sets (80% train, 20% test)\n",
    "total_rows = len(hull_data)\n",
    "train_size = int(total_rows * 0.8)\n",
    "test_size = total_rows - train_size\n",
    "train = hull_data['LULL'][:train_size]\n",
    "test = hull_data['LULL'][train_size:]\n",
    "\n",
    "# Stationarity Testing (Dickey-Fuller)\n",
    "def dickey_fuller_test(series, column_name):\n",
    "    print(f'Resultados de la prueba de Dickey-Fuller para columna: {column_name}')\n",
    "    dftest = adfuller(series, autolag='AIC')\n",
    "    dfoutput = pd.Series(dftest[0:4], index=['Test Statistic', 'p-value', 'No Lags Used', 'Número de observaciones utilizadas'])\n",
    "    for key, value in dftest[4].items():\n",
    "        dfoutput[f'Critical Value ({key})'] = value\n",
    "    print(dfoutput)\n",
    "    if dftest[1] <= 0.05:\n",
    "        print(\"Conclusión: Los datos son estacionarios\")\n",
    "    else:\n",
    "        print(\"Conclusión: Los datos no son estacionarios\")\n",
    "    return dftest[1]\n",
    "\n",
    "# Get p-value from test\n",
    "p_value = dickey_fuller_test(train, \"LULL\")\n",
    "\n",
    "# Use the last two days (24 points at 2-hour intervals) for modeling\n",
    "last_two_days = train[-24:]\n",
    "\n",
    "# Fit auto_arima model - Optimiza automáticamente p, d, q\n",
    "model = auto_arima(last_two_days, \n",
    "                   seasonal=False,  # No asumimos estacionalidad\n",
    "                   start_p=0, start_q=0, max_p=5, max_q=5,  # Límites para p y q\n",
    "                   d=None,  # Deja que auto_arima determine d, pero sabemos que es estacionaria\n",
    "                   trace=True,  # Muestra el proceso de selección\n",
    "                   error_action='ignore', \n",
    "                   suppress_warnings=True)\n",
    "model_fit = model.fit(last_two_days)\n",
    "\n",
    "# Forecast for one week (7 days = 7 * 12 = 84 data points at 2-hour intervals)\n",
    "forecast_steps = 84\n",
    "forecast = model.predict(n_periods=forecast_steps)\n",
    "\n",
    "# Confidence intervals from the fitted model\n",
    "forecast_obj = model_fit.predict(n_periods=forecast_steps, return_conf_int=True)\n",
    "forecast, conf_int = forecast_obj[0], forecast_obj[1]\n",
    "ci_lower = conf_int[:, 0]  # Límite inferior\n",
    "ci_upper = conf_int[:, 1]  # Límite superior\n",
    "\n",
    "# Create a date range for the forecast\n",
    "last_date = last_two_days.index[-1]\n",
    "forecast_dates = pd.date_range(start=last_date + timedelta(hours=2), periods=forecast_steps, freq='2H')\n",
    "\n",
    "# Create a DataFrame for the forecast with confidence intervals\n",
    "forecast_ci_df = pd.DataFrame({\n",
    "    'LULL_Predicho': forecast,\n",
    "    'CI_Lower': ci_lower,\n",
    "    'CI_Upper': ci_upper\n",
    "}, index=forecast_dates)\n",
    "\n",
    "# Combine historical and forecast data\n",
    "historical_pred_df = pd.DataFrame({\n",
    "    'LULL_Historico': last_two_days,\n",
    "    'LULL_Predicho': model.predict_in_sample()  # Predicciones en la muestra\n",
    "})\n",
    "\n",
    "combined_df = pd.concat([historical_pred_df, forecast_ci_df], axis=0)\n",
    "\n",
    "# Visualize the results\n",
    "fig = go.Figure()\n",
    "\n",
    "# Add historical values\n",
    "fig.add_trace(go.Scatter(\n",
    "    x=combined_df.index,\n",
    "    y=combined_df['LULL_Historico'],\n",
    "    mode='lines',\n",
    "    name='LULL Histórico',\n",
    "    line=dict(color='blue')\n",
    "))\n",
    "\n",
    "# Add predicted values for historical data\n",
    "fig.add_trace(go.Scatter(\n",
    "    x=combined_df.index[:len(last_two_days)],\n",
    "    y=combined_df['LULL_Predicho'][:len(last_two_days)],\n",
    "    mode='lines',\n",
    "    name='LULL Predicho (Actual)',\n",
    "    line=dict(color='green', dash='dash')\n",
    "))\n",
    "\n",
    "# Add future forecast\n",
    "fig.add_trace(go.Scatter(\n",
    "    x=forecast_ci_df.index,\n",
    "    y=forecast_ci_df['LULL_Predicho'],\n",
    "    mode='lines',\n",
    "    name='LULL Predicho (Futuro)',\n",
    "    line=dict(color='red')\n",
    "))\n",
    "\n",
    "# Add 95% confidence interval\n",
    "fig.add_trace(go.Scatter(\n",
    "    x=forecast_ci_df.index,\n",
    "    y=forecast_ci_df['CI_Upper'],\n",
    "    mode='lines',\n",
    "    name='Límite Superior (95% IC)',\n",
    "    line=dict(color='gray', width=0.5)\n",
    "))\n",
    "\n",
    "fig.add_trace(go.Scatter(\n",
    "    x=forecast_ci_df.index,\n",
    "    y=forecast_ci_df['CI_Lower'],\n",
    "    mode='lines',\n",
    "    name='Límite Inferior (95% IC)',\n",
    "    line=dict(color='gray', width=0.5),\n",
    "    fill='tonexty',\n",
    "    fillcolor='rgba(200, 100, 200, 0.1)'\n",
    "))\n",
    "\n",
    "# Customize the plot\n",
    "fig.update_layout(\n",
    "    title='Predicción del LULL utilizando Auto-ARIMA con Intervalo de Confianza del 95%',\n",
    "    xaxis_title='Fecha',\n",
    "    yaxis_title='LULL',\n",
    "    hovermode='x unified',\n",
    "    template=\"plotly_dark\",\n",
    "    showlegend=True\n",
    ")\n",
    "\n",
    "# Show the plot\n",
    "fig.show()\n",
    "\n",
    "# Calculate error metrics on the test set\n",
    "pred_test = model.predict(n_periods=len(test))\n",
    "rmse = sqrt(mean_squared_error(test, pred_test))\n",
    "mae = np.mean(np.abs(test - pred_test))\n",
    "print(f\"RMSE on test set: {rmse}\")\n",
    "print(f\"MAE on test set: {mae}\")\n",
    "\n",
    "# Naive forecast: Use the last value of the training set for all test predictions\n",
    "naive_forecast = np.full_like(test, test.iloc[0])\n",
    "\n",
    "# Calculate error metrics for the naive forecast\n",
    "rmse_naive = sqrt(mean_squared_error(test, naive_forecast))\n",
    "mae_naive = np.mean(np.abs(test - naive_forecast))\n",
    "\n",
    "print(f\"Naive Forecast RMSE: {rmse_naive}\")\n",
    "print(f\"Naive Forecast MAE: {mae_naive}\")\n",
    "\n",
    "# Print maximum and minimum of the series\n",
    "print(f\"Máximo: {hull_data['LULL'].max()}\")\n",
    "print(f\"Mínimo: {hull_data['LULL'].min()}\")\n",
    "\n",
    "# Mostrar el orden seleccionado por auto_arima\n",
    "print(f\"Orden ARIMA seleccionado: {model.order}\")"
   ]
  },
  {
   "cell_type": "code",
   "execution_count": 27,
   "metadata": {},
   "outputs": [
    {
     "name": "stdout",
     "output_type": "stream",
     "text": [
      "Resultados de la prueba de Dickey-Fuller para columna: LULL\n",
      "Test Statistic                        -4.688012\n",
      "p-value                                0.000089\n",
      "No Lags Used                           1.000000\n",
      "Número de observaciones utilizadas    65.000000\n",
      "Critical Value (1%)                   -3.535217\n",
      "Critical Value (5%)                   -2.907154\n",
      "Critical Value (10%)                  -2.591103\n",
      "dtype: float64\n",
      "Conclusión: Los datos son estacionarios\n"
     ]
    },
    {
     "data": {
      "application/vnd.plotly.v1+json": {
       "config": {
        "plotlyServerURL": "https://plot.ly"
       },
       "data": [
        {
         "line": {
          "color": "blue"
         },
         "mode": "lines",
         "name": "LULL Histórico",
         "type": "scatter",
         "x": [
          "2016-07-04T14:00:00.000000000",
          "2016-07-04T16:00:00.000000000",
          "2016-07-04T18:00:00.000000000",
          "2016-07-04T20:00:00.000000000",
          "2016-07-04T22:00:00.000000000",
          "2016-07-05T00:00:00.000000000",
          "2016-07-05T02:00:00.000000000",
          "2016-07-05T04:00:00.000000000",
          "2016-07-05T06:00:00.000000000",
          "2016-07-05T08:00:00.000000000",
          "2016-07-05T10:00:00.000000000",
          "2016-07-05T12:00:00.000000000",
          "2016-07-05T14:00:00.000000000",
          "2016-07-05T16:00:00.000000000",
          "2016-07-05T18:00:00.000000000",
          "2016-07-05T20:00:00.000000000",
          "2016-07-05T22:00:00.000000000",
          "2016-07-06T00:00:00.000000000",
          "2016-07-06T02:00:00.000000000",
          "2016-07-06T04:00:00.000000000",
          "2016-07-06T06:00:00.000000000",
          "2016-07-06T08:00:00.000000000",
          "2016-07-06T10:00:00.000000000",
          "2016-07-06T12:00:00.000000000",
          "2016-07-06T14:00:00.000000000",
          "2016-07-06T16:00:00.000000000",
          "2016-07-06T18:00:00.000000000",
          "2016-07-06T20:00:00.000000000",
          "2016-07-06T22:00:00.000000000",
          "2016-07-07T00:00:00.000000000",
          "2016-07-07T02:00:00.000000000",
          "2016-07-07T04:00:00.000000000",
          "2016-07-07T06:00:00.000000000",
          "2016-07-07T08:00:00.000000000",
          "2016-07-07T10:00:00.000000000",
          "2016-07-07T12:00:00.000000000",
          "2016-07-07T14:00:00.000000000",
          "2016-07-07T16:00:00.000000000",
          "2016-07-07T18:00:00.000000000",
          "2016-07-07T20:00:00.000000000",
          "2016-07-07T22:00:00.000000000",
          "2016-07-08T00:00:00.000000000",
          "2016-07-08T02:00:00.000000000",
          "2016-07-08T04:00:00.000000000",
          "2016-07-08T06:00:00.000000000",
          "2016-07-08T08:00:00.000000000",
          "2016-07-08T10:00:00.000000000",
          "2016-07-08T12:00:00.000000000",
          "2016-07-08T14:00:00.000000000",
          "2016-07-08T16:00:00.000000000",
          "2016-07-08T18:00:00.000000000",
          "2016-07-08T20:00:00.000000000",
          "2016-07-08T22:00:00.000000000",
          "2016-07-09T00:00:00.000000000",
          "2016-07-09T02:00:00.000000000",
          "2016-07-09T04:00:00.000000000",
          "2016-07-09T06:00:00.000000000",
          "2016-07-09T08:00:00.000000000",
          "2016-07-09T10:00:00.000000000",
          "2016-07-09T12:00:00.000000000",
          "2016-07-09T14:00:00.000000000",
          "2016-07-09T16:00:00.000000000",
          "2016-07-09T18:00:00.000000000",
          "2016-07-09T20:00:00.000000000",
          "2016-07-09T22:00:00.000000000",
          "2016-07-10T00:00:00.000000000",
          "2016-07-10T02:00:00.000000000",
          "2016-07-10T04:00:00.000000000",
          "2016-07-10T06:00:00.000000000",
          "2016-07-10T08:00:00.000000000",
          "2016-07-10T10:00:00.000000000",
          "2016-07-10T12:00:00.000000000",
          "2016-07-10T14:00:00.000000000",
          "2016-07-10T16:00:00.000000000",
          "2016-07-10T18:00:00.000000000",
          "2016-07-10T20:00:00.000000000",
          "2016-07-10T22:00:00.000000000",
          "2016-07-11T00:00:00.000000000",
          "2016-07-11T02:00:00.000000000",
          "2016-07-11T04:00:00.000000000",
          "2016-07-11T06:00:00.000000000",
          "2016-07-11T08:00:00.000000000",
          "2016-07-11T10:00:00.000000000",
          "2016-07-11T12:00:00.000000000",
          "2016-07-11T14:00:00.000000000",
          "2016-07-11T16:00:00.000000000",
          "2016-07-11T18:00:00.000000000",
          "2016-07-11T20:00:00.000000000",
          "2016-07-11T22:00:00.000000000",
          "2016-07-12T00:00:00.000000000",
          "2016-07-12T02:00:00.000000000",
          "2016-07-12T04:00:00.000000000",
          "2016-07-12T06:00:00.000000000",
          "2016-07-12T08:00:00.000000000",
          "2016-07-12T10:00:00.000000000",
          "2016-07-12T12:00:00.000000000",
          "2016-07-12T14:00:00.000000000",
          "2016-07-12T16:00:00.000000000",
          "2016-07-12T18:00:00.000000000",
          "2016-07-12T20:00:00.000000000",
          "2016-07-12T22:00:00.000000000",
          "2016-07-13T00:00:00.000000000",
          "2016-07-13T02:00:00.000000000",
          "2016-07-13T04:00:00.000000000",
          "2016-07-13T06:00:00.000000000",
          "2016-07-13T08:00:00.000000000",
          "2016-07-13T10:00:00.000000000",
          "2016-07-13T12:00:00.000000000"
         ],
         "y": {
          "bdata": "AAAAAAAAAAAAAAAAAAAAAAAAAAAAAAAA////H9v55D8AAABAtvPjPwAAAAAAAAAAAAAAAAAAAAAAAAAAAAAAAAAAAAAAAAAAAAAAAAAAAAAAAAAAAAAAAAAAAAAAAAAAAAAAAAAAAAAAAAAAAAAAAAAAAAAAAAAAAAAAsMh29D8AAAAAAAAAAP/////STeQ/AAAAAAAAAAAAAAAAAAAAAP///9+jcOM/AAAAAAAAAAAAAAAAAAAAAAAAAAAAAAAAAAAAAAAA+H8AAAAAAAD4fwAAAAAAAPh/AAAAAAAA+H8AAAAAAAD4fwAAAAAAAPh/AAAAAAAA+H8AAAAAAAD4fwAAAAAAAPh/AAAAAAAA+H8AAAAAAAD4fwAAAAAAAPh/AAAAAAAA+H8AAAAAAAD4fwAAAAAAAPh/AAAAAAAA+H8AAAAAAAD4fwAAAAAAAPh/AAAAAAAA+H8AAAAAAAD4fwAAAAAAAPh/AAAAAAAA+H8AAAAAAAD4fwAAAAAAAPh/AAAAAAAA+H8AAAAAAAD4fwAAAAAAAPh/AAAAAAAA+H8AAAAAAAD4fwAAAAAAAPh/AAAAAAAA+H8AAAAAAAD4fwAAAAAAAPh/AAAAAAAA+H8AAAAAAAD4fwAAAAAAAPh/AAAAAAAA+H8AAAAAAAD4fwAAAAAAAPh/AAAAAAAA+H8AAAAAAAD4fwAAAAAAAPh/AAAAAAAA+H8AAAAAAAD4fwAAAAAAAPh/AAAAAAAA+H8AAAAAAAD4fwAAAAAAAPh/AAAAAAAA+H8AAAAAAAD4fwAAAAAAAPh/AAAAAAAA+H8AAAAAAAD4fwAAAAAAAPh/AAAAAAAA+H8AAAAAAAD4fwAAAAAAAPh/AAAAAAAA+H8AAAAAAAD4fwAAAAAAAPh/AAAAAAAA+H8AAAAAAAD4fwAAAAAAAPh/AAAAAAAA+H8AAAAAAAD4fwAAAAAAAPh/AAAAAAAA+H8AAAAAAAD4fwAAAAAAAPh/AAAAAAAA+H8AAAAAAAD4fwAAAAAAAPh/AAAAAAAA+H8AAAAAAAD4fwAAAAAAAPh/AAAAAAAA+H8AAAAAAAD4fwAAAAAAAPh/AAAAAAAA+H8AAAAAAAD4fwAAAAAAAPh/AAAAAAAA+H8AAAAAAAD4fwAAAAAAAPh/",
          "dtype": "f8"
         }
        },
        {
         "line": {
          "color": "green",
          "dash": "dash"
         },
         "mode": "lines",
         "name": "LULL Predicho (Actual)",
         "type": "scatter",
         "x": [
          "2016-07-04T14:00:00.000000000",
          "2016-07-04T16:00:00.000000000",
          "2016-07-04T18:00:00.000000000",
          "2016-07-04T20:00:00.000000000",
          "2016-07-04T22:00:00.000000000",
          "2016-07-05T00:00:00.000000000",
          "2016-07-05T02:00:00.000000000",
          "2016-07-05T04:00:00.000000000",
          "2016-07-05T06:00:00.000000000",
          "2016-07-05T08:00:00.000000000",
          "2016-07-05T10:00:00.000000000",
          "2016-07-05T12:00:00.000000000",
          "2016-07-05T14:00:00.000000000",
          "2016-07-05T16:00:00.000000000",
          "2016-07-05T18:00:00.000000000",
          "2016-07-05T20:00:00.000000000",
          "2016-07-05T22:00:00.000000000",
          "2016-07-06T00:00:00.000000000",
          "2016-07-06T02:00:00.000000000",
          "2016-07-06T04:00:00.000000000",
          "2016-07-06T06:00:00.000000000",
          "2016-07-06T08:00:00.000000000",
          "2016-07-06T10:00:00.000000000",
          "2016-07-06T12:00:00.000000000"
         ],
         "y": {
          "bdata": "AAAAAAAAAAAAAAAAAAAAAAAAAAAAAAAAAAAAAAAAAAA+ppEFqr6nP5XgOTZCU7Y/CQFNque+tD+xheXBKEezP/8pjFf/6bE/Vkhv7omlsD+999g0EvCuPz7XJy66v6w/Dt2kFAe3qj8O1FffKtOoP+F4TlKKEac/1f2BZrlvpT/NkPM5A5DAP/g5PY8QyL4/QL+QvUEMxD8INkOAJqHCP/B4ttS7T8E/VmvzTZOWxT/WAHEukg/EP3R7Neo6pMI/",
          "dtype": "f8"
         }
        },
        {
         "line": {
          "color": "red"
         },
         "mode": "lines",
         "name": "LULL Predicho (Futuro)",
         "type": "scatter",
         "x": [
          "2016-07-06T14:00:00.000000000",
          "2016-07-06T16:00:00.000000000",
          "2016-07-06T18:00:00.000000000",
          "2016-07-06T20:00:00.000000000",
          "2016-07-06T22:00:00.000000000",
          "2016-07-07T00:00:00.000000000",
          "2016-07-07T02:00:00.000000000",
          "2016-07-07T04:00:00.000000000",
          "2016-07-07T06:00:00.000000000",
          "2016-07-07T08:00:00.000000000",
          "2016-07-07T10:00:00.000000000",
          "2016-07-07T12:00:00.000000000",
          "2016-07-07T14:00:00.000000000",
          "2016-07-07T16:00:00.000000000",
          "2016-07-07T18:00:00.000000000",
          "2016-07-07T20:00:00.000000000",
          "2016-07-07T22:00:00.000000000",
          "2016-07-08T00:00:00.000000000",
          "2016-07-08T02:00:00.000000000",
          "2016-07-08T04:00:00.000000000",
          "2016-07-08T06:00:00.000000000",
          "2016-07-08T08:00:00.000000000",
          "2016-07-08T10:00:00.000000000",
          "2016-07-08T12:00:00.000000000",
          "2016-07-08T14:00:00.000000000",
          "2016-07-08T16:00:00.000000000",
          "2016-07-08T18:00:00.000000000",
          "2016-07-08T20:00:00.000000000",
          "2016-07-08T22:00:00.000000000",
          "2016-07-09T00:00:00.000000000",
          "2016-07-09T02:00:00.000000000",
          "2016-07-09T04:00:00.000000000",
          "2016-07-09T06:00:00.000000000",
          "2016-07-09T08:00:00.000000000",
          "2016-07-09T10:00:00.000000000",
          "2016-07-09T12:00:00.000000000",
          "2016-07-09T14:00:00.000000000",
          "2016-07-09T16:00:00.000000000",
          "2016-07-09T18:00:00.000000000",
          "2016-07-09T20:00:00.000000000",
          "2016-07-09T22:00:00.000000000",
          "2016-07-10T00:00:00.000000000",
          "2016-07-10T02:00:00.000000000",
          "2016-07-10T04:00:00.000000000",
          "2016-07-10T06:00:00.000000000",
          "2016-07-10T08:00:00.000000000",
          "2016-07-10T10:00:00.000000000",
          "2016-07-10T12:00:00.000000000",
          "2016-07-10T14:00:00.000000000",
          "2016-07-10T16:00:00.000000000",
          "2016-07-10T18:00:00.000000000",
          "2016-07-10T20:00:00.000000000",
          "2016-07-10T22:00:00.000000000",
          "2016-07-11T00:00:00.000000000",
          "2016-07-11T02:00:00.000000000",
          "2016-07-11T04:00:00.000000000",
          "2016-07-11T06:00:00.000000000",
          "2016-07-11T08:00:00.000000000",
          "2016-07-11T10:00:00.000000000",
          "2016-07-11T12:00:00.000000000",
          "2016-07-11T14:00:00.000000000",
          "2016-07-11T16:00:00.000000000",
          "2016-07-11T18:00:00.000000000",
          "2016-07-11T20:00:00.000000000",
          "2016-07-11T22:00:00.000000000",
          "2016-07-12T00:00:00.000000000",
          "2016-07-12T02:00:00.000000000",
          "2016-07-12T04:00:00.000000000",
          "2016-07-12T06:00:00.000000000",
          "2016-07-12T08:00:00.000000000",
          "2016-07-12T10:00:00.000000000",
          "2016-07-12T12:00:00.000000000",
          "2016-07-12T14:00:00.000000000",
          "2016-07-12T16:00:00.000000000",
          "2016-07-12T18:00:00.000000000",
          "2016-07-12T20:00:00.000000000",
          "2016-07-12T22:00:00.000000000",
          "2016-07-13T00:00:00.000000000",
          "2016-07-13T02:00:00.000000000",
          "2016-07-13T04:00:00.000000000",
          "2016-07-13T06:00:00.000000000",
          "2016-07-13T08:00:00.000000000",
          "2016-07-13T10:00:00.000000000",
          "2016-07-13T12:00:00.000000000"
         ],
         "y": {
          "bdata": "jADwdphSwT+MAPB2mFLBP4wA8HaYUsE/jADwdphSwT+MAPB2mFLBP4wA8HaYUsE/jADwdphSwT+MAPB2mFLBP4wA8HaYUsE/jADwdphSwT+MAPB2mFLBP4wA8HaYUsE/jADwdphSwT+MAPB2mFLBP4wA8HaYUsE/jADwdphSwT+MAPB2mFLBP4wA8HaYUsE/jADwdphSwT+MAPB2mFLBP4wA8HaYUsE/jADwdphSwT+MAPB2mFLBP4wA8HaYUsE/jADwdphSwT+MAPB2mFLBP4wA8HaYUsE/jADwdphSwT+MAPB2mFLBP4wA8HaYUsE/jADwdphSwT+MAPB2mFLBP4wA8HaYUsE/jADwdphSwT+MAPB2mFLBP4wA8HaYUsE/jADwdphSwT+MAPB2mFLBP4wA8HaYUsE/jADwdphSwT+MAPB2mFLBP4wA8HaYUsE/jADwdphSwT+MAPB2mFLBP4wA8HaYUsE/jADwdphSwT+MAPB2mFLBP4wA8HaYUsE/jADwdphSwT+MAPB2mFLBP4wA8HaYUsE/jADwdphSwT+MAPB2mFLBP4wA8HaYUsE/jADwdphSwT+MAPB2mFLBP4wA8HaYUsE/jADwdphSwT+MAPB2mFLBP4wA8HaYUsE/jADwdphSwT+MAPB2mFLBP4wA8HaYUsE/jADwdphSwT+MAPB2mFLBP4wA8HaYUsE/jADwdphSwT+MAPB2mFLBP4wA8HaYUsE/jADwdphSwT+MAPB2mFLBP4wA8HaYUsE/jADwdphSwT+MAPB2mFLBP4wA8HaYUsE/jADwdphSwT+MAPB2mFLBP4wA8HaYUsE/jADwdphSwT+MAPB2mFLBP4wA8HaYUsE/jADwdphSwT+MAPB2mFLBP4wA8HaYUsE/",
          "dtype": "f8"
         }
        },
        {
         "line": {
          "color": "gray",
          "width": 0.5
         },
         "mode": "lines",
         "name": "Límite Superior (95% IC)",
         "type": "scatter",
         "x": [
          "2016-07-06T14:00:00.000000000",
          "2016-07-06T16:00:00.000000000",
          "2016-07-06T18:00:00.000000000",
          "2016-07-06T20:00:00.000000000",
          "2016-07-06T22:00:00.000000000",
          "2016-07-07T00:00:00.000000000",
          "2016-07-07T02:00:00.000000000",
          "2016-07-07T04:00:00.000000000",
          "2016-07-07T06:00:00.000000000",
          "2016-07-07T08:00:00.000000000",
          "2016-07-07T10:00:00.000000000",
          "2016-07-07T12:00:00.000000000",
          "2016-07-07T14:00:00.000000000",
          "2016-07-07T16:00:00.000000000",
          "2016-07-07T18:00:00.000000000",
          "2016-07-07T20:00:00.000000000",
          "2016-07-07T22:00:00.000000000",
          "2016-07-08T00:00:00.000000000",
          "2016-07-08T02:00:00.000000000",
          "2016-07-08T04:00:00.000000000",
          "2016-07-08T06:00:00.000000000",
          "2016-07-08T08:00:00.000000000",
          "2016-07-08T10:00:00.000000000",
          "2016-07-08T12:00:00.000000000",
          "2016-07-08T14:00:00.000000000",
          "2016-07-08T16:00:00.000000000",
          "2016-07-08T18:00:00.000000000",
          "2016-07-08T20:00:00.000000000",
          "2016-07-08T22:00:00.000000000",
          "2016-07-09T00:00:00.000000000",
          "2016-07-09T02:00:00.000000000",
          "2016-07-09T04:00:00.000000000",
          "2016-07-09T06:00:00.000000000",
          "2016-07-09T08:00:00.000000000",
          "2016-07-09T10:00:00.000000000",
          "2016-07-09T12:00:00.000000000",
          "2016-07-09T14:00:00.000000000",
          "2016-07-09T16:00:00.000000000",
          "2016-07-09T18:00:00.000000000",
          "2016-07-09T20:00:00.000000000",
          "2016-07-09T22:00:00.000000000",
          "2016-07-10T00:00:00.000000000",
          "2016-07-10T02:00:00.000000000",
          "2016-07-10T04:00:00.000000000",
          "2016-07-10T06:00:00.000000000",
          "2016-07-10T08:00:00.000000000",
          "2016-07-10T10:00:00.000000000",
          "2016-07-10T12:00:00.000000000",
          "2016-07-10T14:00:00.000000000",
          "2016-07-10T16:00:00.000000000",
          "2016-07-10T18:00:00.000000000",
          "2016-07-10T20:00:00.000000000",
          "2016-07-10T22:00:00.000000000",
          "2016-07-11T00:00:00.000000000",
          "2016-07-11T02:00:00.000000000",
          "2016-07-11T04:00:00.000000000",
          "2016-07-11T06:00:00.000000000",
          "2016-07-11T08:00:00.000000000",
          "2016-07-11T10:00:00.000000000",
          "2016-07-11T12:00:00.000000000",
          "2016-07-11T14:00:00.000000000",
          "2016-07-11T16:00:00.000000000",
          "2016-07-11T18:00:00.000000000",
          "2016-07-11T20:00:00.000000000",
          "2016-07-11T22:00:00.000000000",
          "2016-07-12T00:00:00.000000000",
          "2016-07-12T02:00:00.000000000",
          "2016-07-12T04:00:00.000000000",
          "2016-07-12T06:00:00.000000000",
          "2016-07-12T08:00:00.000000000",
          "2016-07-12T10:00:00.000000000",
          "2016-07-12T12:00:00.000000000",
          "2016-07-12T14:00:00.000000000",
          "2016-07-12T16:00:00.000000000",
          "2016-07-12T18:00:00.000000000",
          "2016-07-12T20:00:00.000000000",
          "2016-07-12T22:00:00.000000000",
          "2016-07-13T00:00:00.000000000",
          "2016-07-13T02:00:00.000000000",
          "2016-07-13T04:00:00.000000000",
          "2016-07-13T06:00:00.000000000",
          "2016-07-13T08:00:00.000000000",
          "2016-07-13T10:00:00.000000000",
          "2016-07-13T12:00:00.000000000"
         ],
         "y": {
          "bdata": "4jQFiZbI6T/iNAWJlsjpP+I0BYmWyOk/4jQFiZbI6T/iNAWJlsjpP+I0BYmWyOk/4jQFiZbI6T/iNAWJlsjpP+I0BYmWyOk/4jQFiZbI6T/iNAWJlsjpP+I0BYmWyOk/4jQFiZbI6T/iNAWJlsjpP+I0BYmWyOk/4jQFiZbI6T/iNAWJlsjpP+I0BYmWyOk/4jQFiZbI6T/iNAWJlsjpP+I0BYmWyOk/4jQFiZbI6T/iNAWJlsjpP+I0BYmWyOk/4jQFiZbI6T/iNAWJlsjpP+I0BYmWyOk/4jQFiZbI6T/iNAWJlsjpP+I0BYmWyOk/4jQFiZbI6T/iNAWJlsjpP+I0BYmWyOk/4jQFiZbI6T/iNAWJlsjpP+I0BYmWyOk/4jQFiZbI6T/iNAWJlsjpP+I0BYmWyOk/4jQFiZbI6T/iNAWJlsjpP+I0BYmWyOk/4jQFiZbI6T/iNAWJlsjpP+I0BYmWyOk/4jQFiZbI6T/iNAWJlsjpP+I0BYmWyOk/4jQFiZbI6T/iNAWJlsjpP+I0BYmWyOk/4jQFiZbI6T/iNAWJlsjpP+I0BYmWyOk/4jQFiZbI6T/iNAWJlsjpP+I0BYmWyOk/4jQFiZbI6T/iNAWJlsjpP+I0BYmWyOk/4jQFiZbI6T/iNAWJlsjpP+I0BYmWyOk/4jQFiZbI6T/iNAWJlsjpP+I0BYmWyOk/4jQFiZbI6T/iNAWJlsjpP+I0BYmWyOk/4jQFiZbI6T/iNAWJlsjpP+I0BYmWyOk/4jQFiZbI6T/iNAWJlsjpP+I0BYmWyOk/4jQFiZbI6T/iNAWJlsjpP+I0BYmWyOk/4jQFiZbI6T/iNAWJlsjpP+I0BYmWyOk/4jQFiZbI6T/iNAWJlsjpP+I0BYmWyOk/",
          "dtype": "f8"
         }
        },
        {
         "fill": "tonexty",
         "fillcolor": "rgba(200, 100, 200, 0.1)",
         "line": {
          "color": "gray",
          "width": 0.5
         },
         "mode": "lines",
         "name": "Límite Inferior (95% IC)",
         "type": "scatter",
         "x": [
          "2016-07-06T14:00:00.000000000",
          "2016-07-06T16:00:00.000000000",
          "2016-07-06T18:00:00.000000000",
          "2016-07-06T20:00:00.000000000",
          "2016-07-06T22:00:00.000000000",
          "2016-07-07T00:00:00.000000000",
          "2016-07-07T02:00:00.000000000",
          "2016-07-07T04:00:00.000000000",
          "2016-07-07T06:00:00.000000000",
          "2016-07-07T08:00:00.000000000",
          "2016-07-07T10:00:00.000000000",
          "2016-07-07T12:00:00.000000000",
          "2016-07-07T14:00:00.000000000",
          "2016-07-07T16:00:00.000000000",
          "2016-07-07T18:00:00.000000000",
          "2016-07-07T20:00:00.000000000",
          "2016-07-07T22:00:00.000000000",
          "2016-07-08T00:00:00.000000000",
          "2016-07-08T02:00:00.000000000",
          "2016-07-08T04:00:00.000000000",
          "2016-07-08T06:00:00.000000000",
          "2016-07-08T08:00:00.000000000",
          "2016-07-08T10:00:00.000000000",
          "2016-07-08T12:00:00.000000000",
          "2016-07-08T14:00:00.000000000",
          "2016-07-08T16:00:00.000000000",
          "2016-07-08T18:00:00.000000000",
          "2016-07-08T20:00:00.000000000",
          "2016-07-08T22:00:00.000000000",
          "2016-07-09T00:00:00.000000000",
          "2016-07-09T02:00:00.000000000",
          "2016-07-09T04:00:00.000000000",
          "2016-07-09T06:00:00.000000000",
          "2016-07-09T08:00:00.000000000",
          "2016-07-09T10:00:00.000000000",
          "2016-07-09T12:00:00.000000000",
          "2016-07-09T14:00:00.000000000",
          "2016-07-09T16:00:00.000000000",
          "2016-07-09T18:00:00.000000000",
          "2016-07-09T20:00:00.000000000",
          "2016-07-09T22:00:00.000000000",
          "2016-07-10T00:00:00.000000000",
          "2016-07-10T02:00:00.000000000",
          "2016-07-10T04:00:00.000000000",
          "2016-07-10T06:00:00.000000000",
          "2016-07-10T08:00:00.000000000",
          "2016-07-10T10:00:00.000000000",
          "2016-07-10T12:00:00.000000000",
          "2016-07-10T14:00:00.000000000",
          "2016-07-10T16:00:00.000000000",
          "2016-07-10T18:00:00.000000000",
          "2016-07-10T20:00:00.000000000",
          "2016-07-10T22:00:00.000000000",
          "2016-07-11T00:00:00.000000000",
          "2016-07-11T02:00:00.000000000",
          "2016-07-11T04:00:00.000000000",
          "2016-07-11T06:00:00.000000000",
          "2016-07-11T08:00:00.000000000",
          "2016-07-11T10:00:00.000000000",
          "2016-07-11T12:00:00.000000000",
          "2016-07-11T14:00:00.000000000",
          "2016-07-11T16:00:00.000000000",
          "2016-07-11T18:00:00.000000000",
          "2016-07-11T20:00:00.000000000",
          "2016-07-11T22:00:00.000000000",
          "2016-07-12T00:00:00.000000000",
          "2016-07-12T02:00:00.000000000",
          "2016-07-12T04:00:00.000000000",
          "2016-07-12T06:00:00.000000000",
          "2016-07-12T08:00:00.000000000",
          "2016-07-12T10:00:00.000000000",
          "2016-07-12T12:00:00.000000000",
          "2016-07-12T14:00:00.000000000",
          "2016-07-12T16:00:00.000000000",
          "2016-07-12T18:00:00.000000000",
          "2016-07-12T20:00:00.000000000",
          "2016-07-12T22:00:00.000000000",
          "2016-07-13T00:00:00.000000000",
          "2016-07-13T02:00:00.000000000",
          "2016-07-13T04:00:00.000000000",
          "2016-07-13T06:00:00.000000000",
          "2016-07-13T08:00:00.000000000",
          "2016-07-13T10:00:00.000000000",
          "2016-07-13T12:00:00.000000000"
         ],
         "y": {
          "bdata": "nDSNTUof4b+cNI1NSh/hv5w0jU1KH+G/nDSNTUof4b+cNI1NSh/hv5w0jU1KH+G/nDSNTUof4b+cNI1NSh/hv5w0jU1KH+G/nDSNTUof4b+cNI1NSh/hv5w0jU1KH+G/nDSNTUof4b+cNI1NSh/hv5w0jU1KH+G/nDSNTUof4b+cNI1NSh/hv5w0jU1KH+G/nDSNTUof4b+cNI1NSh/hv5w0jU1KH+G/nDSNTUof4b+cNI1NSh/hv5w0jU1KH+G/nDSNTUof4b+cNI1NSh/hv5w0jU1KH+G/nDSNTUof4b+cNI1NSh/hv5w0jU1KH+G/nDSNTUof4b+cNI1NSh/hv5w0jU1KH+G/nDSNTUof4b+cNI1NSh/hv5w0jU1KH+G/nDSNTUof4b+cNI1NSh/hv5w0jU1KH+G/nDSNTUof4b+cNI1NSh/hv5w0jU1KH+G/nDSNTUof4b+cNI1NSh/hv5w0jU1KH+G/nDSNTUof4b+cNI1NSh/hv5w0jU1KH+G/nDSNTUof4b+cNI1NSh/hv5w0jU1KH+G/nDSNTUof4b+cNI1NSh/hv5w0jU1KH+G/nDSNTUof4b+cNI1NSh/hv5w0jU1KH+G/nDSNTUof4b+cNI1NSh/hv5w0jU1KH+G/nDSNTUof4b+cNI1NSh/hv5w0jU1KH+G/nDSNTUof4b+cNI1NSh/hv5w0jU1KH+G/nDSNTUof4b+cNI1NSh/hv5w0jU1KH+G/nDSNTUof4b+cNI1NSh/hv5w0jU1KH+G/nDSNTUof4b+cNI1NSh/hv5w0jU1KH+G/nDSNTUof4b+cNI1NSh/hv5w0jU1KH+G/nDSNTUof4b+cNI1NSh/hv5w0jU1KH+G/nDSNTUof4b+cNI1NSh/hv5w0jU1KH+G/",
          "dtype": "f8"
         }
        }
       ],
       "layout": {
        "hovermode": "x unified",
        "showlegend": true,
        "template": {
         "data": {
          "bar": [
           {
            "error_x": {
             "color": "#f2f5fa"
            },
            "error_y": {
             "color": "#f2f5fa"
            },
            "marker": {
             "line": {
              "color": "rgb(17,17,17)",
              "width": 0.5
             },
             "pattern": {
              "fillmode": "overlay",
              "size": 10,
              "solidity": 0.2
             }
            },
            "type": "bar"
           }
          ],
          "barpolar": [
           {
            "marker": {
             "line": {
              "color": "rgb(17,17,17)",
              "width": 0.5
             },
             "pattern": {
              "fillmode": "overlay",
              "size": 10,
              "solidity": 0.2
             }
            },
            "type": "barpolar"
           }
          ],
          "carpet": [
           {
            "aaxis": {
             "endlinecolor": "#A2B1C6",
             "gridcolor": "#506784",
             "linecolor": "#506784",
             "minorgridcolor": "#506784",
             "startlinecolor": "#A2B1C6"
            },
            "baxis": {
             "endlinecolor": "#A2B1C6",
             "gridcolor": "#506784",
             "linecolor": "#506784",
             "minorgridcolor": "#506784",
             "startlinecolor": "#A2B1C6"
            },
            "type": "carpet"
           }
          ],
          "choropleth": [
           {
            "colorbar": {
             "outlinewidth": 0,
             "ticks": ""
            },
            "type": "choropleth"
           }
          ],
          "contour": [
           {
            "colorbar": {
             "outlinewidth": 0,
             "ticks": ""
            },
            "colorscale": [
             [
              0,
              "#0d0887"
             ],
             [
              0.1111111111111111,
              "#46039f"
             ],
             [
              0.2222222222222222,
              "#7201a8"
             ],
             [
              0.3333333333333333,
              "#9c179e"
             ],
             [
              0.4444444444444444,
              "#bd3786"
             ],
             [
              0.5555555555555556,
              "#d8576b"
             ],
             [
              0.6666666666666666,
              "#ed7953"
             ],
             [
              0.7777777777777778,
              "#fb9f3a"
             ],
             [
              0.8888888888888888,
              "#fdca26"
             ],
             [
              1,
              "#f0f921"
             ]
            ],
            "type": "contour"
           }
          ],
          "contourcarpet": [
           {
            "colorbar": {
             "outlinewidth": 0,
             "ticks": ""
            },
            "type": "contourcarpet"
           }
          ],
          "heatmap": [
           {
            "colorbar": {
             "outlinewidth": 0,
             "ticks": ""
            },
            "colorscale": [
             [
              0,
              "#0d0887"
             ],
             [
              0.1111111111111111,
              "#46039f"
             ],
             [
              0.2222222222222222,
              "#7201a8"
             ],
             [
              0.3333333333333333,
              "#9c179e"
             ],
             [
              0.4444444444444444,
              "#bd3786"
             ],
             [
              0.5555555555555556,
              "#d8576b"
             ],
             [
              0.6666666666666666,
              "#ed7953"
             ],
             [
              0.7777777777777778,
              "#fb9f3a"
             ],
             [
              0.8888888888888888,
              "#fdca26"
             ],
             [
              1,
              "#f0f921"
             ]
            ],
            "type": "heatmap"
           }
          ],
          "histogram": [
           {
            "marker": {
             "pattern": {
              "fillmode": "overlay",
              "size": 10,
              "solidity": 0.2
             }
            },
            "type": "histogram"
           }
          ],
          "histogram2d": [
           {
            "colorbar": {
             "outlinewidth": 0,
             "ticks": ""
            },
            "colorscale": [
             [
              0,
              "#0d0887"
             ],
             [
              0.1111111111111111,
              "#46039f"
             ],
             [
              0.2222222222222222,
              "#7201a8"
             ],
             [
              0.3333333333333333,
              "#9c179e"
             ],
             [
              0.4444444444444444,
              "#bd3786"
             ],
             [
              0.5555555555555556,
              "#d8576b"
             ],
             [
              0.6666666666666666,
              "#ed7953"
             ],
             [
              0.7777777777777778,
              "#fb9f3a"
             ],
             [
              0.8888888888888888,
              "#fdca26"
             ],
             [
              1,
              "#f0f921"
             ]
            ],
            "type": "histogram2d"
           }
          ],
          "histogram2dcontour": [
           {
            "colorbar": {
             "outlinewidth": 0,
             "ticks": ""
            },
            "colorscale": [
             [
              0,
              "#0d0887"
             ],
             [
              0.1111111111111111,
              "#46039f"
             ],
             [
              0.2222222222222222,
              "#7201a8"
             ],
             [
              0.3333333333333333,
              "#9c179e"
             ],
             [
              0.4444444444444444,
              "#bd3786"
             ],
             [
              0.5555555555555556,
              "#d8576b"
             ],
             [
              0.6666666666666666,
              "#ed7953"
             ],
             [
              0.7777777777777778,
              "#fb9f3a"
             ],
             [
              0.8888888888888888,
              "#fdca26"
             ],
             [
              1,
              "#f0f921"
             ]
            ],
            "type": "histogram2dcontour"
           }
          ],
          "mesh3d": [
           {
            "colorbar": {
             "outlinewidth": 0,
             "ticks": ""
            },
            "type": "mesh3d"
           }
          ],
          "parcoords": [
           {
            "line": {
             "colorbar": {
              "outlinewidth": 0,
              "ticks": ""
             }
            },
            "type": "parcoords"
           }
          ],
          "pie": [
           {
            "automargin": true,
            "type": "pie"
           }
          ],
          "scatter": [
           {
            "marker": {
             "line": {
              "color": "#283442"
             }
            },
            "type": "scatter"
           }
          ],
          "scatter3d": [
           {
            "line": {
             "colorbar": {
              "outlinewidth": 0,
              "ticks": ""
             }
            },
            "marker": {
             "colorbar": {
              "outlinewidth": 0,
              "ticks": ""
             }
            },
            "type": "scatter3d"
           }
          ],
          "scattercarpet": [
           {
            "marker": {
             "colorbar": {
              "outlinewidth": 0,
              "ticks": ""
             }
            },
            "type": "scattercarpet"
           }
          ],
          "scattergeo": [
           {
            "marker": {
             "colorbar": {
              "outlinewidth": 0,
              "ticks": ""
             }
            },
            "type": "scattergeo"
           }
          ],
          "scattergl": [
           {
            "marker": {
             "line": {
              "color": "#283442"
             }
            },
            "type": "scattergl"
           }
          ],
          "scattermap": [
           {
            "marker": {
             "colorbar": {
              "outlinewidth": 0,
              "ticks": ""
             }
            },
            "type": "scattermap"
           }
          ],
          "scattermapbox": [
           {
            "marker": {
             "colorbar": {
              "outlinewidth": 0,
              "ticks": ""
             }
            },
            "type": "scattermapbox"
           }
          ],
          "scatterpolar": [
           {
            "marker": {
             "colorbar": {
              "outlinewidth": 0,
              "ticks": ""
             }
            },
            "type": "scatterpolar"
           }
          ],
          "scatterpolargl": [
           {
            "marker": {
             "colorbar": {
              "outlinewidth": 0,
              "ticks": ""
             }
            },
            "type": "scatterpolargl"
           }
          ],
          "scatterternary": [
           {
            "marker": {
             "colorbar": {
              "outlinewidth": 0,
              "ticks": ""
             }
            },
            "type": "scatterternary"
           }
          ],
          "surface": [
           {
            "colorbar": {
             "outlinewidth": 0,
             "ticks": ""
            },
            "colorscale": [
             [
              0,
              "#0d0887"
             ],
             [
              0.1111111111111111,
              "#46039f"
             ],
             [
              0.2222222222222222,
              "#7201a8"
             ],
             [
              0.3333333333333333,
              "#9c179e"
             ],
             [
              0.4444444444444444,
              "#bd3786"
             ],
             [
              0.5555555555555556,
              "#d8576b"
             ],
             [
              0.6666666666666666,
              "#ed7953"
             ],
             [
              0.7777777777777778,
              "#fb9f3a"
             ],
             [
              0.8888888888888888,
              "#fdca26"
             ],
             [
              1,
              "#f0f921"
             ]
            ],
            "type": "surface"
           }
          ],
          "table": [
           {
            "cells": {
             "fill": {
              "color": "#506784"
             },
             "line": {
              "color": "rgb(17,17,17)"
             }
            },
            "header": {
             "fill": {
              "color": "#2a3f5f"
             },
             "line": {
              "color": "rgb(17,17,17)"
             }
            },
            "type": "table"
           }
          ]
         },
         "layout": {
          "annotationdefaults": {
           "arrowcolor": "#f2f5fa",
           "arrowhead": 0,
           "arrowwidth": 1
          },
          "autotypenumbers": "strict",
          "coloraxis": {
           "colorbar": {
            "outlinewidth": 0,
            "ticks": ""
           }
          },
          "colorscale": {
           "diverging": [
            [
             0,
             "#8e0152"
            ],
            [
             0.1,
             "#c51b7d"
            ],
            [
             0.2,
             "#de77ae"
            ],
            [
             0.3,
             "#f1b6da"
            ],
            [
             0.4,
             "#fde0ef"
            ],
            [
             0.5,
             "#f7f7f7"
            ],
            [
             0.6,
             "#e6f5d0"
            ],
            [
             0.7,
             "#b8e186"
            ],
            [
             0.8,
             "#7fbc41"
            ],
            [
             0.9,
             "#4d9221"
            ],
            [
             1,
             "#276419"
            ]
           ],
           "sequential": [
            [
             0,
             "#0d0887"
            ],
            [
             0.1111111111111111,
             "#46039f"
            ],
            [
             0.2222222222222222,
             "#7201a8"
            ],
            [
             0.3333333333333333,
             "#9c179e"
            ],
            [
             0.4444444444444444,
             "#bd3786"
            ],
            [
             0.5555555555555556,
             "#d8576b"
            ],
            [
             0.6666666666666666,
             "#ed7953"
            ],
            [
             0.7777777777777778,
             "#fb9f3a"
            ],
            [
             0.8888888888888888,
             "#fdca26"
            ],
            [
             1,
             "#f0f921"
            ]
           ],
           "sequentialminus": [
            [
             0,
             "#0d0887"
            ],
            [
             0.1111111111111111,
             "#46039f"
            ],
            [
             0.2222222222222222,
             "#7201a8"
            ],
            [
             0.3333333333333333,
             "#9c179e"
            ],
            [
             0.4444444444444444,
             "#bd3786"
            ],
            [
             0.5555555555555556,
             "#d8576b"
            ],
            [
             0.6666666666666666,
             "#ed7953"
            ],
            [
             0.7777777777777778,
             "#fb9f3a"
            ],
            [
             0.8888888888888888,
             "#fdca26"
            ],
            [
             1,
             "#f0f921"
            ]
           ]
          },
          "colorway": [
           "#636efa",
           "#EF553B",
           "#00cc96",
           "#ab63fa",
           "#FFA15A",
           "#19d3f3",
           "#FF6692",
           "#B6E880",
           "#FF97FF",
           "#FECB52"
          ],
          "font": {
           "color": "#f2f5fa"
          },
          "geo": {
           "bgcolor": "rgb(17,17,17)",
           "lakecolor": "rgb(17,17,17)",
           "landcolor": "rgb(17,17,17)",
           "showlakes": true,
           "showland": true,
           "subunitcolor": "#506784"
          },
          "hoverlabel": {
           "align": "left"
          },
          "hovermode": "closest",
          "mapbox": {
           "style": "dark"
          },
          "paper_bgcolor": "rgb(17,17,17)",
          "plot_bgcolor": "rgb(17,17,17)",
          "polar": {
           "angularaxis": {
            "gridcolor": "#506784",
            "linecolor": "#506784",
            "ticks": ""
           },
           "bgcolor": "rgb(17,17,17)",
           "radialaxis": {
            "gridcolor": "#506784",
            "linecolor": "#506784",
            "ticks": ""
           }
          },
          "scene": {
           "xaxis": {
            "backgroundcolor": "rgb(17,17,17)",
            "gridcolor": "#506784",
            "gridwidth": 2,
            "linecolor": "#506784",
            "showbackground": true,
            "ticks": "",
            "zerolinecolor": "#C8D4E3"
           },
           "yaxis": {
            "backgroundcolor": "rgb(17,17,17)",
            "gridcolor": "#506784",
            "gridwidth": 2,
            "linecolor": "#506784",
            "showbackground": true,
            "ticks": "",
            "zerolinecolor": "#C8D4E3"
           },
           "zaxis": {
            "backgroundcolor": "rgb(17,17,17)",
            "gridcolor": "#506784",
            "gridwidth": 2,
            "linecolor": "#506784",
            "showbackground": true,
            "ticks": "",
            "zerolinecolor": "#C8D4E3"
           }
          },
          "shapedefaults": {
           "line": {
            "color": "#f2f5fa"
           }
          },
          "sliderdefaults": {
           "bgcolor": "#C8D4E3",
           "bordercolor": "rgb(17,17,17)",
           "borderwidth": 1,
           "tickwidth": 0
          },
          "ternary": {
           "aaxis": {
            "gridcolor": "#506784",
            "linecolor": "#506784",
            "ticks": ""
           },
           "baxis": {
            "gridcolor": "#506784",
            "linecolor": "#506784",
            "ticks": ""
           },
           "bgcolor": "rgb(17,17,17)",
           "caxis": {
            "gridcolor": "#506784",
            "linecolor": "#506784",
            "ticks": ""
           }
          },
          "title": {
           "x": 0.05
          },
          "updatemenudefaults": {
           "bgcolor": "#506784",
           "borderwidth": 0
          },
          "xaxis": {
           "automargin": true,
           "gridcolor": "#283442",
           "linecolor": "#506784",
           "ticks": "",
           "title": {
            "standoff": 15
           },
           "zerolinecolor": "#283442",
           "zerolinewidth": 2
          },
          "yaxis": {
           "automargin": true,
           "gridcolor": "#283442",
           "linecolor": "#506784",
           "ticks": "",
           "title": {
            "standoff": 15
           },
           "zerolinecolor": "#283442",
           "zerolinewidth": 2
          }
         }
        },
        "title": {
         "text": "Predicción del LULL utilizando Suavizado Exponencial Simple con Intervalo de Confianza del 95%"
        },
        "xaxis": {
         "title": {
          "text": "Fecha"
         }
        },
        "yaxis": {
         "title": {
          "text": "LULL"
         }
        }
       }
      }
     },
     "metadata": {},
     "output_type": "display_data"
    },
    {
     "name": "stdout",
     "output_type": "stream",
     "text": [
      "RMSE on test set: 0.3749123076234599\n",
      "MAE on test set: 0.2607057668278973\n",
      "Naive Forecast RMSE: 0.41643249796880566\n",
      "Naive Forecast MAE: 0.1890588227440329\n",
      "Máximo: 1.3269999623298645\n",
      "Mínimo: 0.0\n",
      "Parámetro de suavizado (alpha): 0.07074985106811812\n"
     ]
    }
   ],
   "source": [
    "import numpy as np\n",
    "import pandas as pd\n",
    "import plotly.graph_objects as go\n",
    "from statsmodels.tsa.holtwinters import SimpleExpSmoothing\n",
    "from statsmodels.tsa.stattools import adfuller\n",
    "from sklearn.metrics import mean_squared_error\n",
    "from math import sqrt\n",
    "import warnings\n",
    "warnings.filterwarnings(\"ignore\")\n",
    "from datetime import datetime, timedelta\n",
    "\n",
    "# Cargar datos\n",
    "data = pd.read_csv(\"https://huggingface.co/datasets/pkr7098/time-series-forecasting-datasets/resolve/main/ETTh2.csv\")\n",
    "data['date'] = pd.to_datetime(data['date'])\n",
    "data = data.head(168)\n",
    "data.set_index('date', inplace=True)\n",
    "data_2h = data.resample('2H').mean()\n",
    "hull_data = data_2h[['LULL']].dropna()  # Usamos LULL\n",
    "\n",
    "# Split the data into training and test sets (80% train, 20% test)\n",
    "total_rows = len(hull_data)\n",
    "train_size = int(total_rows * 0.8)\n",
    "test_size = total_rows - train_size\n",
    "train = hull_data['LULL'][:train_size]\n",
    "test = hull_data['LULL'][train_size:]\n",
    "\n",
    "# Stationarity Testing (Dickey-Fuller)\n",
    "def dickey_fuller_test(series, column_name):\n",
    "    print(f'Resultados de la prueba de Dickey-Fuller para columna: {column_name}')\n",
    "    dftest = adfuller(series, autolag='AIC')\n",
    "    dfoutput = pd.Series(dftest[0:4], index=['Test Statistic', 'p-value', 'No Lags Used', 'Número de observaciones utilizadas'])\n",
    "    for key, value in dftest[4].items():\n",
    "        dfoutput[f'Critical Value ({key})'] = value\n",
    "    print(dfoutput)\n",
    "    if dftest[1] <= 0.05:\n",
    "        print(\"Conclusión: Los datos son estacionarios\")\n",
    "    else:\n",
    "        print(\"Conclusión: Los datos no son estacionarios\")\n",
    "    return dftest[1]\n",
    "\n",
    "# Get p-value from test\n",
    "p_value = dickey_fuller_test(train, \"LULL\")\n",
    "\n",
    "# Use the last two days (24 points at 2-hour intervals) for modeling\n",
    "last_two_days = train[-24:]\n",
    "\n",
    "# Fit Simple Exponential Smoothing model\n",
    "model = SimpleExpSmoothing(last_two_days)\n",
    "model_fit = model.fit(optimized=True)  # Optimiza automáticamente el parámetro de suavizado (alpha)\n",
    "\n",
    "# Forecast for one week (7 days = 7 * 12 = 84 data points at 2-hour intervals)\n",
    "forecast_steps = 84\n",
    "forecast = model_fit.forecast(steps=forecast_steps)\n",
    "\n",
    "# Confidence intervals (aproximación manual, SES no los proporciona directamente)\n",
    "fitted_values = model_fit.fittedvalues\n",
    "errors = last_two_days - fitted_values\n",
    "std_errors = np.std(errors)\n",
    "ci_lower = forecast - 1.96 * std_errors  # 95% IC\n",
    "ci_upper = forecast + 1.96 * std_errors\n",
    "\n",
    "# Create a date range for the forecast\n",
    "last_date = last_two_days.index[-1]\n",
    "forecast_dates = pd.date_range(start=last_date + timedelta(hours=2), periods=forecast_steps, freq='2H')\n",
    "\n",
    "# Create a DataFrame for the forecast with confidence intervals\n",
    "forecast_ci_df = pd.DataFrame({\n",
    "    'LULL_Predicho': forecast,\n",
    "    'CI_Lower': ci_lower,\n",
    "    'CI_Upper': ci_upper\n",
    "}, index=forecast_dates)\n",
    "\n",
    "# Combine historical and forecast data\n",
    "historical_pred_df = pd.DataFrame({\n",
    "    'LULL_Historico': last_two_days,\n",
    "    'LULL_Predicho': model_fit.fittedvalues\n",
    "})\n",
    "\n",
    "combined_df = pd.concat([historical_pred_df, forecast_ci_df], axis=0)\n",
    "\n",
    "# Visualize the results\n",
    "fig = go.Figure()\n",
    "\n",
    "# Add historical values\n",
    "fig.add_trace(go.Scatter(\n",
    "    x=combined_df.index,\n",
    "    y=combined_df['LULL_Historico'],\n",
    "    mode='lines',\n",
    "    name='LULL Histórico',\n",
    "    line=dict(color='blue')\n",
    "))\n",
    "\n",
    "# Add predicted values for historical data\n",
    "fig.add_trace(go.Scatter(\n",
    "    x=combined_df.index[:len(last_two_days)],\n",
    "    y=combined_df['LULL_Predicho'][:len(last_two_days)],\n",
    "    mode='lines',\n",
    "    name='LULL Predicho (Actual)',\n",
    "    line=dict(color='green', dash='dash')\n",
    "))\n",
    "\n",
    "# Add future forecast\n",
    "fig.add_trace(go.Scatter(\n",
    "    x=forecast_ci_df.index,\n",
    "    y=forecast_ci_df['LULL_Predicho'],\n",
    "    mode='lines',\n",
    "    name='LULL Predicho (Futuro)',\n",
    "    line=dict(color='red')\n",
    "))\n",
    "\n",
    "# Add 95% confidence interval\n",
    "fig.add_trace(go.Scatter(\n",
    "    x=forecast_ci_df.index,\n",
    "    y=forecast_ci_df['CI_Upper'],\n",
    "    mode='lines',\n",
    "    name='Límite Superior (95% IC)',\n",
    "    line=dict(color='gray', width=0.5)\n",
    "))\n",
    "\n",
    "fig.add_trace(go.Scatter(\n",
    "    x=forecast_ci_df.index,\n",
    "    y=forecast_ci_df['CI_Lower'],\n",
    "    mode='lines',\n",
    "    name='Límite Inferior (95% IC)',\n",
    "    line=dict(color='gray', width=0.5),\n",
    "    fill='tonexty',\n",
    "    fillcolor='rgba(200, 100, 200, 0.1)'\n",
    "))\n",
    "\n",
    "# Customize the plot\n",
    "fig.update_layout(\n",
    "    title='Predicción del LULL utilizando Suavizado Exponencial Simple con Intervalo de Confianza del 95%',\n",
    "    xaxis_title='Fecha',\n",
    "    yaxis_title='LULL',\n",
    "    hovermode='x unified',\n",
    "    template=\"plotly_dark\",\n",
    "    showlegend=True\n",
    ")\n",
    "\n",
    "# Show the plot\n",
    "fig.show()\n",
    "\n",
    "# Calculate error metrics on the test set\n",
    "pred_test = model_fit.forecast(steps=len(test))\n",
    "rmse = sqrt(mean_squared_error(test, pred_test))\n",
    "mae = np.mean(np.abs(test - pred_test))\n",
    "print(f\"RMSE on test set: {rmse}\")\n",
    "print(f\"MAE on test set: {mae}\")\n",
    "\n",
    "# Naive forecast: Use the last value of the training set for all test predictions\n",
    "naive_forecast = np.full_like(test, test.iloc[0])\n",
    "\n",
    "# Calculate error metrics for the naive forecast\n",
    "rmse_naive = sqrt(mean_squared_error(test, naive_forecast))\n",
    "mae_naive = np.mean(np.abs(test - naive_forecast))\n",
    "\n",
    "print(f\"Naive Forecast RMSE: {rmse_naive}\")\n",
    "print(f\"Naive Forecast MAE: {mae_naive}\")\n",
    "\n",
    "# Print maximum and minimum of the series\n",
    "print(f\"Máximo: {hull_data['LULL'].max()}\")\n",
    "print(f\"Mínimo: {hull_data['LULL'].min()}\")\n",
    "\n",
    "# Mostrar el parámetro alpha optimizado\n",
    "print(f\"Parámetro de suavizado (alpha): {model_fit.params['smoothing_level']}\")"
   ]
  }
 ],
 "metadata": {
  "kernelspec": {
   "display_name": "Python 3",
   "language": "python",
   "name": "python3"
  },
  "language_info": {
   "codemirror_mode": {
    "name": "ipython",
    "version": 3
   },
   "file_extension": ".py",
   "mimetype": "text/x-python",
   "name": "python",
   "nbconvert_exporter": "python",
   "pygments_lexer": "ipython3",
   "version": "3.11.9"
  }
 },
 "nbformat": 4,
 "nbformat_minor": 2
}
