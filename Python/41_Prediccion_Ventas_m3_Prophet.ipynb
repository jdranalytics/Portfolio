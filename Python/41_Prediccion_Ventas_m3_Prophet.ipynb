{
 "cells": [
  {
   "cell_type": "markdown",
   "id": "c804b161",
   "metadata": {},
   "source": [
    "# Predicción de Cantidades Vendidas por Región y Categoría con Prophet\n",
    "\n",
    "Este notebook replica el flujo de predicción de cantidades vendidas por región y categoría, usando Prophet y considerando variables exógenas (`AVG_PRECIO_LISTA`, `AVG_DESC_PORCENTAJE`). Se generan pronósticos para dos escenarios, siguiendo la lógica de los modelos implementados en Snowflake."
   ]
  },
  {
   "cell_type": "markdown",
   "id": "a0f91bb1",
   "metadata": {},
   "source": [
    "## 1. Importar Librerías y Configuración\n",
    "\n",
    "Importamos las librerías necesarias y configuramos el logging para trazabilidad."
   ]
  },
  {
   "cell_type": "code",
   "execution_count": 81,
   "id": "2f73edb2",
   "metadata": {},
   "outputs": [],
   "source": [
    "import pandas as pd\n",
    "import numpy as np\n",
    "import snowflake.connector\n",
    "import logging\n",
    "from datetime import datetime\n",
    "import os\n",
    "from prophet import Prophet\n",
    "from sklearn.metrics import mean_squared_error, mean_absolute_error, r2_score\n",
    "import plotly.subplots as sp\n",
    "import plotly.graph_objects as go\n",
    "import matplotlib.pyplot as plt\n",
    "from sklearn.linear_model import LinearRegression\n",
    "from pytz import timezone\n",
    "import os\n",
    "from datetime import datetime\n",
    "from tqdm import tqdm\n",
    "import warnings\n",
    "\n",
    "warnings.filterwarnings(\"ignore\")\n",
    "logging.basicConfig(\n",
    "    level=logging.INFO,\n",
    "    format='%(asctime)s - %(levelname)s - %(message)s',\n",
    "    handlers=[logging.StreamHandler()]\n",
    ")\n",
    "\n",
    "import logging\n",
    "for logger_name in ['prophet', 'fbprophet', 'cmdstanpy']:\n",
    "    logging.getLogger(logger_name).setLevel(logging.CRITICAL)"
   ]
  },
  {
   "cell_type": "markdown",
   "id": "8cd102e4",
   "metadata": {},
   "source": [
    "## 2. Carga de Datos desde Snowflake\n",
    "\n",
    "Cargamos los datos históricos y los dos escenarios de forecast desde las vistas generadas en Snowflake."
   ]
  },
  {
   "cell_type": "code",
   "execution_count": null,
   "id": "07f6c750",
   "metadata": {},
   "outputs": [
    {
     "name": "stderr",
     "output_type": "stream",
     "text": [
      "2025-06-29 00:39:02,783 - INFO - Snowflake Connector for Python Version: 3.15.0, Python Version: 3.10.11, Platform: Windows-10-10.0.19045-SP0\n",
      "2025-06-29 00:39:02,786 - INFO - Connecting to GLOBAL Snowflake domain\n",
      "2025-06-29 00:39:04,060 - INFO - Conexión a Snowflake exitosa\n",
      "2025-06-29 00:39:09,899 - INFO - Histórico: 3703 registros, Escenario 1: 1560, Escenario 2: 1560\n"
     ]
    },
    {
     "name": "stdout",
     "output_type": "stream",
     "text": [
      "Histórico: (3703, 6), Escenario 1: (1560, 5), Escenario 2: (1560, 5)\n"
     ]
    }
   ],
   "source": [
    "def get_snowflake_connection():\n",
    "    try:\n",
    "        conn = snowflake.connector.connect(\n",
    "            user='XXXXXXXXXXXX',  \n",
    "            password='XXXXXXXXXXXX',  \n",
    "            account='XXXXXXXXXX', \n",
    "            warehouse='COMPUTE_WH', \n",
    "            database='BEBIDAS_PROJECT',\n",
    "            schema='BEBIDAS_ANALYTICS'\n",
    "        )\n",
    "        logging.info(\"Conexión a Snowflake exitosa\")\n",
    "        return conn\n",
    "    except Exception as e:\n",
    "        logging.error(f\"Error de conexión a Snowflake: {e}\")\n",
    "        raise\n",
    "\n",
    "def load_snowflake_views():\n",
    "    conn = get_snowflake_connection()\n",
    "    try:\n",
    "        df_hist = pd.read_sql(\"SELECT * FROM VW_VENTAS_HISTORICO_M3\", conn)\n",
    "        df_fcst1 = pd.read_sql(\"SELECT * FROM VW_VENTAS_FCST_FEATURES_1\", conn)\n",
    "        df_fcst2 = pd.read_sql(\"SELECT * FROM VW_VENTAS_FCST_FEATURES_2\", conn)\n",
    "        logging.info(f\"Histórico: {len(df_hist)} registros, Escenario 1: {len(df_fcst1)}, Escenario 2: {len(df_fcst2)}\")\n",
    "        return df_hist, df_fcst1, df_fcst2\n",
    "    finally:\n",
    "        conn.close()\n",
    "\n",
    "df_hist, df_fcst1, df_fcst2 = load_snowflake_views()\n",
    "print(f\"Histórico: {df_hist.shape}, Escenario 1: {df_fcst1.shape}, Escenario 2: {df_fcst2.shape}\")"
   ]
  },
  {
   "cell_type": "code",
   "execution_count": 83,
   "id": "8f0a241d",
   "metadata": {},
   "outputs": [],
   "source": [
    "producto = \"Antioquia-Agua-Agua con Gas 500mL x 6uds\"\n",
    "df_hist = df_hist[df_hist['REGION_CATEGORIA_PRODUCTO'] == producto].copy()\n",
    "df_fcst1 = df_fcst1[df_fcst1['REGION_CATEGORIA_PRODUCTO'] == producto].copy()\n",
    "df_fcst2 = df_fcst2[df_fcst2['REGION_CATEGORIA_PRODUCTO'] == producto].copy()"
   ]
  },
  {
   "cell_type": "markdown",
   "id": "ca783cc5",
   "metadata": {},
   "source": [
    "## 3. Preparación de Datos para Prophet\n",
    "\n",
    "Prophet requiere las columnas `ds` (fecha) y `y` (target). Además, agregamos las variables exógenas."
   ]
  },
  {
   "cell_type": "code",
   "execution_count": 84,
   "id": "f36ee7b3",
   "metadata": {},
   "outputs": [],
   "source": [
    "# Convertir MES a datetime y renombrar columnas\n",
    "for df in [df_hist, df_fcst1, df_fcst2]:\n",
    "    df['ds'] = pd.to_datetime(df['MES'])\n",
    "df_hist['y'] = df_hist['M3_VENDIDOS']\n",
    "\n",
    "# Seleccionar variables exógenas\n",
    "exog_vars = ['AVG_PRECIO_LISTA', 'AVG_DESC_PORCENTAJE']\n",
    "from sklearn.preprocessing import StandardScaler\n",
    "\n",
    "# Escaladores para exógenas y target\n",
    "target_scaler = StandardScaler()\n",
    "exog_scaler = StandardScaler()\n",
    "\n",
    "# Escalar target (y) y exógenas en el histórico\n",
    "scaled_y = target_scaler.fit_transform(df_hist[['y']])\n",
    "scaled_exog = exog_scaler.fit_transform(df_hist[exog_vars])\n",
    "\n",
    "# Guardar escalado en el histórico\n",
    "df_hist['y_scaled'] = scaled_y\n",
    "for idx, var in enumerate(exog_vars):\n",
    "    df_hist[f'{var}_scaled'] = scaled_exog[:, idx]\n",
    "\n",
    "# Escalar exógenas en los escenarios\n",
    "def scale_exog(df):\n",
    "    scaled = exog_scaler.transform(df[exog_vars])\n",
    "    for idx, var in enumerate(exog_vars):\n",
    "        df[f'{var}_scaled'] = scaled[:, idx]\n",
    "    return df\n",
    "\n",
    "df_fcst1 = scale_exog(df_fcst1)\n",
    "df_fcst2 = scale_exog(df_fcst2)\n",
    "\n",
    "# Variables para Prophet (escaladas)\n",
    "exog_vars_scaled = [f'{v}_scaled' for v in exog_vars]"
   ]
  },
  {
   "cell_type": "markdown",
   "id": "c1bd6b5d",
   "metadata": {},
   "source": [
    "## 3.1. Análisis de Variables Exógenas\n",
    "\n",
    "Para entender por qué el modelo Prophet puede estar generando diferencias importantes entre los escenarios y la serie histórica, es fundamental analizar la evolución de las variables exógenas (`AVG_PRECIO_LISTA`, `AVG_DESC_PORCENTAJE`). Si los valores futuros de estas variables están fuera del rango observado en el histórico, el modelo puede extrapolar de forma poco confiable. A continuación, se grafican estas variables para el histórico y ambos escenarios."
   ]
  },
  {
   "cell_type": "code",
   "execution_count": 85,
   "id": "aa5cf80a",
   "metadata": {},
   "outputs": [
    {
     "data": {
      "application/vnd.plotly.v1+json": {
       "config": {
        "plotlyServerURL": "https://plot.ly"
       },
       "data": [
        {
         "line": {
          "color": "#36332E"
         },
         "mode": "lines",
         "name": "Histórico",
         "type": "scatter",
         "x": [
          "2023-01-01T00:00:00.000000000",
          "2023-02-01T00:00:00.000000000",
          "2023-03-01T00:00:00.000000000",
          "2023-04-01T00:00:00.000000000",
          "2023-05-01T00:00:00.000000000",
          "2023-06-01T00:00:00.000000000",
          "2023-07-01T00:00:00.000000000",
          "2023-08-01T00:00:00.000000000",
          "2023-09-01T00:00:00.000000000",
          "2023-10-01T00:00:00.000000000",
          "2023-11-01T00:00:00.000000000",
          "2023-12-01T00:00:00.000000000",
          "2024-01-01T00:00:00.000000000",
          "2024-02-01T00:00:00.000000000",
          "2024-03-01T00:00:00.000000000",
          "2024-04-01T00:00:00.000000000",
          "2024-05-01T00:00:00.000000000",
          "2024-06-01T00:00:00.000000000",
          "2024-07-01T00:00:00.000000000",
          "2024-08-01T00:00:00.000000000",
          "2024-09-01T00:00:00.000000000",
          "2024-10-01T00:00:00.000000000",
          "2024-11-01T00:00:00.000000000",
          "2024-12-01T00:00:00.000000000",
          "2025-01-01T00:00:00.000000000",
          "2025-02-01T00:00:00.000000000",
          "2025-03-01T00:00:00.000000000",
          "2025-04-01T00:00:00.000000000",
          "2025-05-01T00:00:00.000000000"
         ],
         "xaxis": "x",
         "y": {
          "bdata": "AAAAAABMvUD2KFyPgoi9QB+F61F49r1ArkfhehRnvkB7FK5HYYG+QArXo3D95r5ASOF6FK5xv0DsUbgexce/QMP1KFzPNMBA16NwPQprwEDsUbgeBaXAQM3MzMxsxcBAXI/C9SjuwEBSuB6FayrBQPYoXI/iRMFAKVyPwnV/wUAfhetRuLXBQNejcD0KAcJAUrgehUtDwkCuR+F69E3CQLgeheuRYMJAPQrXo1B5wkBxPQrXY4zCQD0K16NwqMJAFK5H4drXwkB7FK5H4THDQGZmZmYmMsNA4XoUrkeLw0CamZmZOc7DQA==",
          "dtype": "f8"
         },
         "yaxis": "y"
        },
        {
         "line": {
          "color": "#8B7557"
         },
         "mode": "lines",
         "name": "Escenario 1",
         "type": "scatter",
         "x": [
          "2025-06-01T00:00:00.000000000",
          "2025-07-01T00:00:00.000000000",
          "2025-08-01T00:00:00.000000000",
          "2025-09-01T00:00:00.000000000",
          "2025-10-01T00:00:00.000000000",
          "2025-11-01T00:00:00.000000000",
          "2025-12-01T00:00:00.000000000",
          "2026-01-01T00:00:00.000000000",
          "2026-02-01T00:00:00.000000000",
          "2026-03-01T00:00:00.000000000",
          "2026-04-01T00:00:00.000000000",
          "2026-05-01T00:00:00.000000000"
         ],
         "xaxis": "x",
         "y": {
          "bdata": "5CXkJeQlSCZIJkgmrCasJhAnECd0J9gn",
          "dtype": "i2"
         },
         "yaxis": "y"
        },
        {
         "line": {
          "color": "#57788B"
         },
         "mode": "lines",
         "name": "Escenario 2",
         "type": "scatter",
         "x": [
          "2025-06-01T00:00:00.000000000",
          "2025-07-01T00:00:00.000000000",
          "2025-08-01T00:00:00.000000000",
          "2025-09-01T00:00:00.000000000",
          "2025-10-01T00:00:00.000000000",
          "2025-11-01T00:00:00.000000000",
          "2025-12-01T00:00:00.000000000",
          "2026-01-01T00:00:00.000000000",
          "2026-02-01T00:00:00.000000000",
          "2026-03-01T00:00:00.000000000",
          "2026-04-01T00:00:00.000000000",
          "2026-05-01T00:00:00.000000000"
         ],
         "xaxis": "x",
         "y": {
          "bdata": "zCnMKcwpzCnMKcwpzCnMKcwpzCnMKcwp",
          "dtype": "i2"
         },
         "yaxis": "y"
        },
        {
         "line": {
          "color": "#36332E"
         },
         "mode": "lines",
         "name": "Histórico",
         "type": "scatter",
         "x": [
          "2023-01-01T00:00:00.000000000",
          "2023-02-01T00:00:00.000000000",
          "2023-03-01T00:00:00.000000000",
          "2023-04-01T00:00:00.000000000",
          "2023-05-01T00:00:00.000000000",
          "2023-06-01T00:00:00.000000000",
          "2023-07-01T00:00:00.000000000",
          "2023-08-01T00:00:00.000000000",
          "2023-09-01T00:00:00.000000000",
          "2023-10-01T00:00:00.000000000",
          "2023-11-01T00:00:00.000000000",
          "2023-12-01T00:00:00.000000000",
          "2024-01-01T00:00:00.000000000",
          "2024-02-01T00:00:00.000000000",
          "2024-03-01T00:00:00.000000000",
          "2024-04-01T00:00:00.000000000",
          "2024-05-01T00:00:00.000000000",
          "2024-06-01T00:00:00.000000000",
          "2024-07-01T00:00:00.000000000",
          "2024-08-01T00:00:00.000000000",
          "2024-09-01T00:00:00.000000000",
          "2024-10-01T00:00:00.000000000",
          "2024-11-01T00:00:00.000000000",
          "2024-12-01T00:00:00.000000000",
          "2025-01-01T00:00:00.000000000",
          "2025-02-01T00:00:00.000000000",
          "2025-03-01T00:00:00.000000000",
          "2025-04-01T00:00:00.000000000",
          "2025-05-01T00:00:00.000000000"
         ],
         "xaxis": "x2",
         "y": {
          "bdata": "ekj7lm6FHUBVg0mdux0pQPJIkE78/RtALLH73V4mIkAAAAAAAAAAAAAAAAAAAAAA6cWLsKExH0DDudY79CEuQKbR3DpjJitAJ5EPhnJLIUAtSghTZuIiQMKKnMxbCRJAQbqy7a9hF0BS0JXbCX4hQLQl5c3lACtAQaxnWnyBIEADiN+uTjkjQDpZYpW2Qh9AvScaWS7PIUD7FOREy/UiQP3IZOFBpiBAirWq81ACJEDlnwyaBUYTQEFb4a2ZPBlAaDlJ5Xh/EkAnwB6+TUIeQKmb41IQeyNA+XgJE+TcIkCv/zulMUIgQA==",
          "dtype": "f8"
         },
         "yaxis": "y2"
        },
        {
         "line": {
          "color": "#8B7557"
         },
         "mode": "lines",
         "name": "Escenario 1",
         "type": "scatter",
         "x": [
          "2025-06-01T00:00:00.000000000",
          "2025-07-01T00:00:00.000000000",
          "2025-08-01T00:00:00.000000000",
          "2025-09-01T00:00:00.000000000",
          "2025-10-01T00:00:00.000000000",
          "2025-11-01T00:00:00.000000000",
          "2025-12-01T00:00:00.000000000",
          "2026-01-01T00:00:00.000000000",
          "2026-02-01T00:00:00.000000000",
          "2026-03-01T00:00:00.000000000",
          "2026-04-01T00:00:00.000000000",
          "2026-05-01T00:00:00.000000000"
         ],
         "xaxis": "x2",
         "y": {
          "bdata": "CAgICAgHCAgJCQkI",
          "dtype": "i1"
         },
         "yaxis": "y2"
        },
        {
         "line": {
          "color": "#57788B"
         },
         "mode": "lines",
         "name": "Escenario 2",
         "type": "scatter",
         "x": [
          "2025-06-01T00:00:00.000000000",
          "2025-07-01T00:00:00.000000000",
          "2025-08-01T00:00:00.000000000",
          "2025-09-01T00:00:00.000000000",
          "2025-10-01T00:00:00.000000000",
          "2025-11-01T00:00:00.000000000",
          "2025-12-01T00:00:00.000000000",
          "2026-01-01T00:00:00.000000000",
          "2026-02-01T00:00:00.000000000",
          "2026-03-01T00:00:00.000000000",
          "2026-04-01T00:00:00.000000000",
          "2026-05-01T00:00:00.000000000"
         ],
         "xaxis": "x2",
         "y": {
          "bdata": "CAgICAgICAgICAgI",
          "dtype": "i1"
         },
         "yaxis": "y2"
        }
       ],
       "layout": {
        "annotations": [
         {
          "font": {
           "size": 16
          },
          "showarrow": false,
          "text": "Evolución de AVG_PRECIO_LISTA",
          "x": 0.5,
          "xanchor": "center",
          "xref": "paper",
          "y": 1,
          "yanchor": "bottom",
          "yref": "paper"
         },
         {
          "font": {
           "size": 16
          },
          "showarrow": false,
          "text": "Evolución de AVG_DESC_PORCENTAJE",
          "x": 0.5,
          "xanchor": "center",
          "xref": "paper",
          "y": 0.4,
          "yanchor": "bottom",
          "yref": "paper"
         }
        ],
        "height": 700,
        "legend": {
         "orientation": "h",
         "x": 0.5,
         "xanchor": "center",
         "y": -0.3,
         "yanchor": "bottom"
        },
        "template": {
         "data": {
          "bar": [
           {
            "error_x": {
             "color": "#2a3f5f"
            },
            "error_y": {
             "color": "#2a3f5f"
            },
            "marker": {
             "line": {
              "color": "white",
              "width": 0.5
             },
             "pattern": {
              "fillmode": "overlay",
              "size": 10,
              "solidity": 0.2
             }
            },
            "type": "bar"
           }
          ],
          "barpolar": [
           {
            "marker": {
             "line": {
              "color": "white",
              "width": 0.5
             },
             "pattern": {
              "fillmode": "overlay",
              "size": 10,
              "solidity": 0.2
             }
            },
            "type": "barpolar"
           }
          ],
          "carpet": [
           {
            "aaxis": {
             "endlinecolor": "#2a3f5f",
             "gridcolor": "#C8D4E3",
             "linecolor": "#C8D4E3",
             "minorgridcolor": "#C8D4E3",
             "startlinecolor": "#2a3f5f"
            },
            "baxis": {
             "endlinecolor": "#2a3f5f",
             "gridcolor": "#C8D4E3",
             "linecolor": "#C8D4E3",
             "minorgridcolor": "#C8D4E3",
             "startlinecolor": "#2a3f5f"
            },
            "type": "carpet"
           }
          ],
          "choropleth": [
           {
            "colorbar": {
             "outlinewidth": 0,
             "ticks": ""
            },
            "type": "choropleth"
           }
          ],
          "contour": [
           {
            "colorbar": {
             "outlinewidth": 0,
             "ticks": ""
            },
            "colorscale": [
             [
              0,
              "#0d0887"
             ],
             [
              0.1111111111111111,
              "#46039f"
             ],
             [
              0.2222222222222222,
              "#7201a8"
             ],
             [
              0.3333333333333333,
              "#9c179e"
             ],
             [
              0.4444444444444444,
              "#bd3786"
             ],
             [
              0.5555555555555556,
              "#d8576b"
             ],
             [
              0.6666666666666666,
              "#ed7953"
             ],
             [
              0.7777777777777778,
              "#fb9f3a"
             ],
             [
              0.8888888888888888,
              "#fdca26"
             ],
             [
              1,
              "#f0f921"
             ]
            ],
            "type": "contour"
           }
          ],
          "contourcarpet": [
           {
            "colorbar": {
             "outlinewidth": 0,
             "ticks": ""
            },
            "type": "contourcarpet"
           }
          ],
          "heatmap": [
           {
            "colorbar": {
             "outlinewidth": 0,
             "ticks": ""
            },
            "colorscale": [
             [
              0,
              "#0d0887"
             ],
             [
              0.1111111111111111,
              "#46039f"
             ],
             [
              0.2222222222222222,
              "#7201a8"
             ],
             [
              0.3333333333333333,
              "#9c179e"
             ],
             [
              0.4444444444444444,
              "#bd3786"
             ],
             [
              0.5555555555555556,
              "#d8576b"
             ],
             [
              0.6666666666666666,
              "#ed7953"
             ],
             [
              0.7777777777777778,
              "#fb9f3a"
             ],
             [
              0.8888888888888888,
              "#fdca26"
             ],
             [
              1,
              "#f0f921"
             ]
            ],
            "type": "heatmap"
           }
          ],
          "histogram": [
           {
            "marker": {
             "pattern": {
              "fillmode": "overlay",
              "size": 10,
              "solidity": 0.2
             }
            },
            "type": "histogram"
           }
          ],
          "histogram2d": [
           {
            "colorbar": {
             "outlinewidth": 0,
             "ticks": ""
            },
            "colorscale": [
             [
              0,
              "#0d0887"
             ],
             [
              0.1111111111111111,
              "#46039f"
             ],
             [
              0.2222222222222222,
              "#7201a8"
             ],
             [
              0.3333333333333333,
              "#9c179e"
             ],
             [
              0.4444444444444444,
              "#bd3786"
             ],
             [
              0.5555555555555556,
              "#d8576b"
             ],
             [
              0.6666666666666666,
              "#ed7953"
             ],
             [
              0.7777777777777778,
              "#fb9f3a"
             ],
             [
              0.8888888888888888,
              "#fdca26"
             ],
             [
              1,
              "#f0f921"
             ]
            ],
            "type": "histogram2d"
           }
          ],
          "histogram2dcontour": [
           {
            "colorbar": {
             "outlinewidth": 0,
             "ticks": ""
            },
            "colorscale": [
             [
              0,
              "#0d0887"
             ],
             [
              0.1111111111111111,
              "#46039f"
             ],
             [
              0.2222222222222222,
              "#7201a8"
             ],
             [
              0.3333333333333333,
              "#9c179e"
             ],
             [
              0.4444444444444444,
              "#bd3786"
             ],
             [
              0.5555555555555556,
              "#d8576b"
             ],
             [
              0.6666666666666666,
              "#ed7953"
             ],
             [
              0.7777777777777778,
              "#fb9f3a"
             ],
             [
              0.8888888888888888,
              "#fdca26"
             ],
             [
              1,
              "#f0f921"
             ]
            ],
            "type": "histogram2dcontour"
           }
          ],
          "mesh3d": [
           {
            "colorbar": {
             "outlinewidth": 0,
             "ticks": ""
            },
            "type": "mesh3d"
           }
          ],
          "parcoords": [
           {
            "line": {
             "colorbar": {
              "outlinewidth": 0,
              "ticks": ""
             }
            },
            "type": "parcoords"
           }
          ],
          "pie": [
           {
            "automargin": true,
            "type": "pie"
           }
          ],
          "scatter": [
           {
            "fillpattern": {
             "fillmode": "overlay",
             "size": 10,
             "solidity": 0.2
            },
            "type": "scatter"
           }
          ],
          "scatter3d": [
           {
            "line": {
             "colorbar": {
              "outlinewidth": 0,
              "ticks": ""
             }
            },
            "marker": {
             "colorbar": {
              "outlinewidth": 0,
              "ticks": ""
             }
            },
            "type": "scatter3d"
           }
          ],
          "scattercarpet": [
           {
            "marker": {
             "colorbar": {
              "outlinewidth": 0,
              "ticks": ""
             }
            },
            "type": "scattercarpet"
           }
          ],
          "scattergeo": [
           {
            "marker": {
             "colorbar": {
              "outlinewidth": 0,
              "ticks": ""
             }
            },
            "type": "scattergeo"
           }
          ],
          "scattergl": [
           {
            "marker": {
             "colorbar": {
              "outlinewidth": 0,
              "ticks": ""
             }
            },
            "type": "scattergl"
           }
          ],
          "scattermap": [
           {
            "marker": {
             "colorbar": {
              "outlinewidth": 0,
              "ticks": ""
             }
            },
            "type": "scattermap"
           }
          ],
          "scattermapbox": [
           {
            "marker": {
             "colorbar": {
              "outlinewidth": 0,
              "ticks": ""
             }
            },
            "type": "scattermapbox"
           }
          ],
          "scatterpolar": [
           {
            "marker": {
             "colorbar": {
              "outlinewidth": 0,
              "ticks": ""
             }
            },
            "type": "scatterpolar"
           }
          ],
          "scatterpolargl": [
           {
            "marker": {
             "colorbar": {
              "outlinewidth": 0,
              "ticks": ""
             }
            },
            "type": "scatterpolargl"
           }
          ],
          "scatterternary": [
           {
            "marker": {
             "colorbar": {
              "outlinewidth": 0,
              "ticks": ""
             }
            },
            "type": "scatterternary"
           }
          ],
          "surface": [
           {
            "colorbar": {
             "outlinewidth": 0,
             "ticks": ""
            },
            "colorscale": [
             [
              0,
              "#0d0887"
             ],
             [
              0.1111111111111111,
              "#46039f"
             ],
             [
              0.2222222222222222,
              "#7201a8"
             ],
             [
              0.3333333333333333,
              "#9c179e"
             ],
             [
              0.4444444444444444,
              "#bd3786"
             ],
             [
              0.5555555555555556,
              "#d8576b"
             ],
             [
              0.6666666666666666,
              "#ed7953"
             ],
             [
              0.7777777777777778,
              "#fb9f3a"
             ],
             [
              0.8888888888888888,
              "#fdca26"
             ],
             [
              1,
              "#f0f921"
             ]
            ],
            "type": "surface"
           }
          ],
          "table": [
           {
            "cells": {
             "fill": {
              "color": "#EBF0F8"
             },
             "line": {
              "color": "white"
             }
            },
            "header": {
             "fill": {
              "color": "#C8D4E3"
             },
             "line": {
              "color": "white"
             }
            },
            "type": "table"
           }
          ]
         },
         "layout": {
          "annotationdefaults": {
           "arrowcolor": "#2a3f5f",
           "arrowhead": 0,
           "arrowwidth": 1
          },
          "autotypenumbers": "strict",
          "coloraxis": {
           "colorbar": {
            "outlinewidth": 0,
            "ticks": ""
           }
          },
          "colorscale": {
           "diverging": [
            [
             0,
             "#8e0152"
            ],
            [
             0.1,
             "#c51b7d"
            ],
            [
             0.2,
             "#de77ae"
            ],
            [
             0.3,
             "#f1b6da"
            ],
            [
             0.4,
             "#fde0ef"
            ],
            [
             0.5,
             "#f7f7f7"
            ],
            [
             0.6,
             "#e6f5d0"
            ],
            [
             0.7,
             "#b8e186"
            ],
            [
             0.8,
             "#7fbc41"
            ],
            [
             0.9,
             "#4d9221"
            ],
            [
             1,
             "#276419"
            ]
           ],
           "sequential": [
            [
             0,
             "#0d0887"
            ],
            [
             0.1111111111111111,
             "#46039f"
            ],
            [
             0.2222222222222222,
             "#7201a8"
            ],
            [
             0.3333333333333333,
             "#9c179e"
            ],
            [
             0.4444444444444444,
             "#bd3786"
            ],
            [
             0.5555555555555556,
             "#d8576b"
            ],
            [
             0.6666666666666666,
             "#ed7953"
            ],
            [
             0.7777777777777778,
             "#fb9f3a"
            ],
            [
             0.8888888888888888,
             "#fdca26"
            ],
            [
             1,
             "#f0f921"
            ]
           ],
           "sequentialminus": [
            [
             0,
             "#0d0887"
            ],
            [
             0.1111111111111111,
             "#46039f"
            ],
            [
             0.2222222222222222,
             "#7201a8"
            ],
            [
             0.3333333333333333,
             "#9c179e"
            ],
            [
             0.4444444444444444,
             "#bd3786"
            ],
            [
             0.5555555555555556,
             "#d8576b"
            ],
            [
             0.6666666666666666,
             "#ed7953"
            ],
            [
             0.7777777777777778,
             "#fb9f3a"
            ],
            [
             0.8888888888888888,
             "#fdca26"
            ],
            [
             1,
             "#f0f921"
            ]
           ]
          },
          "colorway": [
           "#636efa",
           "#EF553B",
           "#00cc96",
           "#ab63fa",
           "#FFA15A",
           "#19d3f3",
           "#FF6692",
           "#B6E880",
           "#FF97FF",
           "#FECB52"
          ],
          "font": {
           "color": "#2a3f5f"
          },
          "geo": {
           "bgcolor": "white",
           "lakecolor": "white",
           "landcolor": "white",
           "showlakes": true,
           "showland": true,
           "subunitcolor": "#C8D4E3"
          },
          "hoverlabel": {
           "align": "left"
          },
          "hovermode": "closest",
          "mapbox": {
           "style": "light"
          },
          "paper_bgcolor": "white",
          "plot_bgcolor": "white",
          "polar": {
           "angularaxis": {
            "gridcolor": "#EBF0F8",
            "linecolor": "#EBF0F8",
            "ticks": ""
           },
           "bgcolor": "white",
           "radialaxis": {
            "gridcolor": "#EBF0F8",
            "linecolor": "#EBF0F8",
            "ticks": ""
           }
          },
          "scene": {
           "xaxis": {
            "backgroundcolor": "white",
            "gridcolor": "#DFE8F3",
            "gridwidth": 2,
            "linecolor": "#EBF0F8",
            "showbackground": true,
            "ticks": "",
            "zerolinecolor": "#EBF0F8"
           },
           "yaxis": {
            "backgroundcolor": "white",
            "gridcolor": "#DFE8F3",
            "gridwidth": 2,
            "linecolor": "#EBF0F8",
            "showbackground": true,
            "ticks": "",
            "zerolinecolor": "#EBF0F8"
           },
           "zaxis": {
            "backgroundcolor": "white",
            "gridcolor": "#DFE8F3",
            "gridwidth": 2,
            "linecolor": "#EBF0F8",
            "showbackground": true,
            "ticks": "",
            "zerolinecolor": "#EBF0F8"
           }
          },
          "shapedefaults": {
           "line": {
            "color": "#2a3f5f"
           }
          },
          "ternary": {
           "aaxis": {
            "gridcolor": "#DFE8F3",
            "linecolor": "#A2B1C6",
            "ticks": ""
           },
           "baxis": {
            "gridcolor": "#DFE8F3",
            "linecolor": "#A2B1C6",
            "ticks": ""
           },
           "bgcolor": "white",
           "caxis": {
            "gridcolor": "#DFE8F3",
            "linecolor": "#A2B1C6",
            "ticks": ""
           }
          },
          "title": {
           "x": 0.05
          },
          "xaxis": {
           "automargin": true,
           "gridcolor": "#EBF0F8",
           "linecolor": "#EBF0F8",
           "ticks": "",
           "title": {
            "standoff": 15
           },
           "zerolinecolor": "#EBF0F8",
           "zerolinewidth": 2
          },
          "yaxis": {
           "automargin": true,
           "gridcolor": "#EBF0F8",
           "linecolor": "#EBF0F8",
           "ticks": "",
           "title": {
            "standoff": 15
           },
           "zerolinecolor": "#EBF0F8",
           "zerolinewidth": 2
          }
         }
        },
        "title": {
         "text": "Evolución de Variables Exógenas"
        },
        "width": 1100,
        "xaxis": {
         "anchor": "y",
         "domain": [
          0,
          1
         ],
         "matches": "x2",
         "showticklabels": false,
         "title": {
          "text": "Fecha"
         }
        },
        "xaxis2": {
         "anchor": "y2",
         "domain": [
          0,
          1
         ],
         "title": {
          "text": "Fecha"
         }
        },
        "yaxis": {
         "anchor": "x",
         "domain": [
          0.6000000000000001,
          1
         ],
         "title": {
          "text": "AVG_PRECIO_LISTA"
         }
        },
        "yaxis2": {
         "anchor": "x2",
         "domain": [
          0,
          0.4
         ],
         "title": {
          "text": "AVG_DESC_PORCENTAJE"
         }
        }
       }
      }
     },
     "metadata": {},
     "output_type": "display_data"
    }
   ],
   "source": [
    "\n",
    "fig_exog = make_subplots(\n",
    "    rows=len(exog_vars), cols=1, shared_xaxes=True,\n",
    "    subplot_titles=[f'Evolución de {var}' for var in exog_vars],\n",
    "    vertical_spacing=0.2\n",
    ")\n",
    "\n",
    "for i, var in enumerate(exog_vars, 1):\n",
    "    fig_exog.add_trace(go.Scatter(\n",
    "        x=df_hist['ds'], y=df_hist[var], mode='lines',\n",
    "        name='Histórico', line=dict(color='#36332E')\n",
    "    ), row=i, col=1)\n",
    "    fig_exog.add_trace(go.Scatter(\n",
    "        x=df_fcst1['ds'], y=df_fcst1[var], mode='lines',\n",
    "        name='Escenario 1', line=dict(color= '#8B7557')\n",
    "    ), row=i, col=1)\n",
    "    fig_exog.add_trace(go.Scatter(\n",
    "        x=df_fcst2['ds'], y=df_fcst2[var], mode='lines',\n",
    "        name='Escenario 2', line=dict(color= '#57788B')\n",
    "    ), row=i, col=1)\n",
    "    fig_exog.update_yaxes(title_text=var, row=i, col=1)\n",
    "\n",
    "fig_exog.update_layout(\n",
    "    height=350 * len(exog_vars),\n",
    "    width=1100,\n",
    "    title_text=\"Evolución de Variables Exógenas\",\n",
    "    legend=dict(orientation='h', yanchor='bottom', y=-0.3, x=0.5, xanchor='center'),\n",
    "    template='plotly_white'\n",
    ")\n",
    "fig_exog.update_xaxes(title_text='Fecha')\n",
    "fig_exog.show()"
   ]
  },
  {
   "cell_type": "markdown",
   "id": "77ef7061",
   "metadata": {},
   "source": [
    "## 4. Entrenamiento del Modelo Prophet con Variables Exógenas"
   ]
  },
  {
   "cell_type": "code",
   "execution_count": 86,
   "id": "41f3be99",
   "metadata": {},
   "outputs": [
    {
     "data": {
      "text/plain": [
       "<prophet.forecaster.Prophet at 0x1a2da0a7be0>"
      ]
     },
     "execution_count": 86,
     "metadata": {},
     "output_type": "execute_result"
    }
   ],
   "source": [
    "# Instanciar y agregar variables exógenas escaladas\n",
    "m = Prophet(yearly_seasonality=True, weekly_seasonality=False, daily_seasonality=False)\n",
    "for var in exog_vars_scaled:\n",
    "    m.add_regressor(var)\n",
    "\n",
    "# Entrenar modelo con target y exógenas escaladas\n",
    "m.fit(df_hist[['ds', 'y_scaled'] + exog_vars_scaled].rename(columns={'y_scaled': 'y'}))"
   ]
  },
  {
   "cell_type": "markdown",
   "id": "04b2f95e",
   "metadata": {},
   "source": [
    "## 5. Predicción para Escenario 1 y Escenario 2\n",
    "\n",
    "Se generan predicciones para ambos escenarios, usando las variables exógenas correspondientes."
   ]
  },
  {
   "cell_type": "code",
   "execution_count": 87,
   "id": "3b775512",
   "metadata": {},
   "outputs": [],
   "source": [
    "# Preparar dataframes de forecast para Prophet (usando variables escaladas)\n",
    "def prepare_future_scaled(df_fcst):\n",
    "    return df_fcst[['ds'] + exog_vars_scaled].copy()\n",
    "\n",
    "future1 = prepare_future_scaled(df_fcst1)\n",
    "future2 = prepare_future_scaled(df_fcst2)\n",
    "\n",
    "# Predicción escenario 1 (escalado)\n",
    "forecast1 = m.predict(future1)\n",
    "df_fcst1['CANTIDAD_VENDIDA_PRED_SCALED'] = forecast1['yhat'].values\n",
    "df_fcst1['CANTIDAD_VENDIDA_PRED'] = target_scaler.inverse_transform(forecast1[['yhat']]).flatten()\n",
    "df_fcst1['IC_95_LOWER'] = target_scaler.inverse_transform(forecast1[['yhat_lower']]).flatten()\n",
    "df_fcst1['IC_95_UPPER'] = target_scaler.inverse_transform(forecast1[['yhat_upper']]).flatten()\n",
    "\n",
    "# Predicción escenario 2 (escalado)\n",
    "forecast2 = m.predict(future2)\n",
    "df_fcst2['CANTIDAD_VENDIDA_PRED_SCALED'] = forecast2['yhat'].values\n",
    "df_fcst2['CANTIDAD_VENDIDA_PRED'] = target_scaler.inverse_transform(forecast2[['yhat']]).flatten()\n",
    "df_fcst2['IC_95_LOWER'] = target_scaler.inverse_transform(forecast2[['yhat_lower']]).flatten()\n",
    "df_fcst2['IC_95_UPPER'] = target_scaler.inverse_transform(forecast2[['yhat_upper']]).flatten()"
   ]
  },
  {
   "cell_type": "markdown",
   "id": "f3e90283",
   "metadata": {},
   "source": [
    "## 6. Métricas de Desempeño en el Histórico Reciente\n",
    "\n",
    "Se evalúa el modelo en el histórico más reciente (por ejemplo, los últimos 7 meses)."
   ]
  },
  {
   "cell_type": "code",
   "execution_count": 88,
   "id": "93970e17",
   "metadata": {},
   "outputs": [
    {
     "name": "stdout",
     "output_type": "stream",
     "text": [
      "Evaluación últimos 7 meses del histórico:\n",
      "RMSE: 0.71\n",
      "MAE: 0.56\n",
      "SMAPE: 6.07%\n",
      "R2: 0.70\n"
     ]
    }
   ],
   "source": [
    "def smape(y_true, y_pred):\n",
    "    return 100 * np.mean(2 * np.abs(y_pred - y_true) / (np.abs(y_true) + np.abs(y_pred)))\n",
    "\n",
    "# Evaluar en los últimos 7 meses del histórico\n",
    "n_test = 7\n",
    "test_hist = df_hist.tail(n_test)\n",
    "future_test = test_hist[['ds'] + exog_vars_scaled]\n",
    "forecast_test = m.predict(future_test)\n",
    "\n",
    "# Desescalar valores reales y predichos\n",
    "y_true = target_scaler.inverse_transform(test_hist[['y_scaled']]).flatten()\n",
    "y_pred = target_scaler.inverse_transform(forecast_test[['yhat']]).flatten()\n",
    "\n",
    "print(\"Evaluación últimos 7 meses del histórico:\")\n",
    "rmse = np.sqrt(mean_squared_error(y_true, y_pred))\n",
    "print(f\"RMSE: {rmse:.2f}\")\n",
    "print(f\"MAE: {mean_absolute_error(y_true, y_pred):.2f}\")\n",
    "print(f\"SMAPE: {smape(y_true, y_pred):.2f}%\")\n",
    "print(f\"R2: {r2_score(y_true, y_pred):.2f}\")"
   ]
  },
  {
   "cell_type": "markdown",
   "id": "0188497c",
   "metadata": {},
   "source": [
    "## 7. Visualización de Resultados"
   ]
  },
  {
   "cell_type": "code",
   "execution_count": 89,
   "id": "0bed615b",
   "metadata": {},
   "outputs": [
    {
     "data": {
      "application/vnd.plotly.v1+json": {
       "config": {
        "plotlyServerURL": "https://plot.ly"
       },
       "data": [
        {
         "line": {
          "color": "#36332E"
         },
         "mode": "lines",
         "name": "Histórico Real",
         "type": "scatter",
         "x": [
          "2023-01-01T00:00:00.000000000",
          "2023-02-01T00:00:00.000000000",
          "2023-03-01T00:00:00.000000000",
          "2023-04-01T00:00:00.000000000",
          "2023-05-01T00:00:00.000000000",
          "2023-06-01T00:00:00.000000000",
          "2023-07-01T00:00:00.000000000",
          "2023-08-01T00:00:00.000000000",
          "2023-09-01T00:00:00.000000000",
          "2023-10-01T00:00:00.000000000",
          "2023-11-01T00:00:00.000000000",
          "2023-12-01T00:00:00.000000000",
          "2024-01-01T00:00:00.000000000",
          "2024-02-01T00:00:00.000000000",
          "2024-03-01T00:00:00.000000000",
          "2024-04-01T00:00:00.000000000",
          "2024-05-01T00:00:00.000000000",
          "2024-06-01T00:00:00.000000000",
          "2024-07-01T00:00:00.000000000",
          "2024-08-01T00:00:00.000000000",
          "2024-09-01T00:00:00.000000000",
          "2024-10-01T00:00:00.000000000",
          "2024-11-01T00:00:00.000000000",
          "2024-12-01T00:00:00.000000000",
          "2025-01-01T00:00:00.000000000",
          "2025-02-01T00:00:00.000000000",
          "2025-03-01T00:00:00.000000000",
          "2025-04-01T00:00:00.000000000",
          "2025-05-01T00:00:00.000000000"
         ],
         "y": {
          "bdata": "dZMYBFYOFkBEi2zn+6kUQM3MzMzMTBJAmpmZmZkZGkBiEFg5tEgWQD0K16NwPRtAEoPAyqHFHUAtsp3vp0YiQEJg5dAimyJAKVyPwvWoHkDLoUW28z0gQOf7qfHSDSJAQmDl0CLbGkAK16NwPYoeQN9PjZdu0iJAAiuHFtkOIUCuR+F6FC4eQHNoke18PyNA3SQGgZWDJEBiEFg5tEgpQOOlm8QgsCdALbKd76eGKkCLbOf7qTEjQPhT46WbRCdAXrpJDALrIkAbL90kBgEdQCGwcmiRbR9AQmDl0CIbIUBU46WbxGAiQA==",
          "dtype": "f8"
         }
        },
        {
         "line": {
          "color": "gray",
          "dash": "dot"
         },
         "mode": "lines",
         "name": "Tendencia (Histórico)",
         "type": "scatter",
         "x": [
          "2023-01-01T00:00:00.000000000",
          "2023-02-01T00:00:00.000000000",
          "2023-03-01T00:00:00.000000000",
          "2023-04-01T00:00:00.000000000",
          "2023-05-01T00:00:00.000000000",
          "2023-06-01T00:00:00.000000000",
          "2023-07-01T00:00:00.000000000",
          "2023-08-01T00:00:00.000000000",
          "2023-09-01T00:00:00.000000000",
          "2023-10-01T00:00:00.000000000",
          "2023-11-01T00:00:00.000000000",
          "2023-12-01T00:00:00.000000000",
          "2024-01-01T00:00:00.000000000",
          "2024-02-01T00:00:00.000000000",
          "2024-03-01T00:00:00.000000000",
          "2024-04-01T00:00:00.000000000",
          "2024-05-01T00:00:00.000000000",
          "2024-06-01T00:00:00.000000000",
          "2024-07-01T00:00:00.000000000",
          "2024-08-01T00:00:00.000000000",
          "2024-09-01T00:00:00.000000000",
          "2024-10-01T00:00:00.000000000",
          "2024-11-01T00:00:00.000000000",
          "2024-12-01T00:00:00.000000000",
          "2025-01-01T00:00:00.000000000",
          "2025-02-01T00:00:00.000000000",
          "2025-03-01T00:00:00.000000000",
          "2025-04-01T00:00:00.000000000",
          "2025-05-01T00:00:00.000000000"
         ],
         "y": {
          "bdata": "AMg2jdv7GEAA7nxcW6IZQABqQEm+OBpAAI6GGD7fGkAAJqHxXoAbQABK58DeJhxAAOIBmv/HHEAABkhpf24dQAAqjjj/FB5AAMKoESC2HkAA5u7gn1wfQAB+CbrA/R9AANGnRCBSIEAA40osYKUgQABowh1B8yBAAHplBYFGIUAAxvJxEZchQADYlVlR6iFAACQjxuE6IkAANsatIY4iQABJaZVh4SJAAJT2AfIxI0AAppnpMYUjQADyJlbC1SNAAATKPQIpJEAAF20lQnwkQADVzptzxyRAAOdxg7MaJUAAM//vQ2slQA==",
          "dtype": "f8"
         }
        },
        {
         "line": {
          "color": "#E09C41"
         },
         "mode": "lines",
         "name": "Histórico Test (Real)",
         "type": "scatter",
         "x": [
          "2024-11-01T00:00:00.000000000",
          "2024-12-01T00:00:00.000000000",
          "2025-01-01T00:00:00.000000000",
          "2025-02-01T00:00:00.000000000",
          "2025-03-01T00:00:00.000000000",
          "2025-04-01T00:00:00.000000000",
          "2025-05-01T00:00:00.000000000"
         ],
         "y": {
          "bdata": "i2zn+6kxI0D4U+Olm0QnQF66SQwC6yJAGy/dJAYBHUAhsHJokW0fQEJg5dAiGyFAVOOlm8RgIkA=",
          "dtype": "f8"
         }
        },
        {
         "line": {
          "color": "red",
          "dash": "dot"
         },
         "mode": "lines",
         "name": "Histórico Test (Predicción)",
         "type": "scatter",
         "x": [
          "2024-11-01T00:00:00.000000000",
          "2024-12-01T00:00:00.000000000",
          "2025-01-01T00:00:00.000000000",
          "2025-02-01T00:00:00.000000000",
          "2025-03-01T00:00:00.000000000",
          "2025-04-01T00:00:00.000000000",
          "2025-05-01T00:00:00.000000000"
         ],
         "y": {
          "bdata": "Bilb9i/lIUBw/B6bxikmQNhFjTJKXCJANr6O2R7SHEAlMKR4OmYiQJkrmqKnDSNAXZap+2t3IkA=",
          "dtype": "f8"
         }
        },
        {
         "customdata": {
          "bdata": "xQKhRH4IHkCZUl/1JvAhQHZ6/bjLJB9A8+62eTZqIkCXcb/pyPEjQA4M5LtW4CZAoW34+yfWIkBS6JlrS84lQORYdB+8zCJAK3eh1MrMJUCOZBj4OVYaQDljKuU8ISBABXqJbeqzIEDE/1PodK8jQASs1HymoRdAuD2uQtggHUCfbHF11h4TQJhNGVCIIRlAeIHDayGnFEBRe3ZBdm0aQJQ6Y4ATzxhADiBgq90eH0CTX5iRVrgVQL4SqR05yxtA",
          "dtype": "f8",
          "shape": "12, 2"
         },
         "hovertemplate": "<b>Fecha</b>: %{x|%Y-%m-%d}<br><b>Predicción</b>: %{y:.2f}<br><b>IC 95% Inferior</b>: %{customdata[0]:.2f}<br><b>IC 95% Superior</b>: %{customdata[1]:.2f}<extra></extra>",
         "line": {
          "color": "#8B7557"
         },
         "mode": "lines",
         "name": "Forecast Escenario 1",
         "type": "scatter",
         "x": [
          "2025-06-01T00:00:00.000000000",
          "2025-07-01T00:00:00.000000000",
          "2025-08-01T00:00:00.000000000",
          "2025-09-01T00:00:00.000000000",
          "2025-10-01T00:00:00.000000000",
          "2025-11-01T00:00:00.000000000",
          "2025-12-01T00:00:00.000000000",
          "2026-01-01T00:00:00.000000000",
          "2026-02-01T00:00:00.000000000",
          "2026-03-01T00:00:00.000000000",
          "2026-04-01T00:00:00.000000000",
          "2026-05-01T00:00:00.000000000"
         ],
         "y": {
          "bdata": "B7MSrZV7IEAGFhuapQchQDdC/0hJZCVAdhu8tHlTJECwlyS5mU8kQDTauhd9bx1A8+97VnAzIkC/S1mT21UaQF757Z2q/xVAVK3+Cu6lF0CWVvKt+cUbQL7jABPzxBhA",
          "dtype": "f8"
         }
        },
        {
         "fill": "toself",
         "fillcolor": "rgba(139,117,87,0.15)",
         "hoverinfo": "skip",
         "line": {
          "color": "rgba(255,255,255,0)"
         },
         "name": "IC 95% Escenario 1",
         "showlegend": true,
         "type": "scatter",
         "x": [
          "2025-06-01T00:00:00.000000000",
          "2025-07-01T00:00:00.000000000",
          "2025-08-01T00:00:00.000000000",
          "2025-09-01T00:00:00.000000000",
          "2025-10-01T00:00:00.000000000",
          "2025-11-01T00:00:00.000000000",
          "2025-12-01T00:00:00.000000000",
          "2026-01-01T00:00:00.000000000",
          "2026-02-01T00:00:00.000000000",
          "2026-03-01T00:00:00.000000000",
          "2026-04-01T00:00:00.000000000",
          "2026-05-01T00:00:00.000000000",
          "2026-05-01T00:00:00.000000000",
          "2026-04-01T00:00:00.000000000",
          "2026-03-01T00:00:00.000000000",
          "2026-02-01T00:00:00.000000000",
          "2026-01-01T00:00:00.000000000",
          "2025-12-01T00:00:00.000000000",
          "2025-11-01T00:00:00.000000000",
          "2025-10-01T00:00:00.000000000",
          "2025-09-01T00:00:00.000000000",
          "2025-08-01T00:00:00.000000000",
          "2025-07-01T00:00:00.000000000",
          "2025-06-01T00:00:00.000000000"
         ],
         "y": {
          "bdata": "mVJf9SbwIUDz7rZ5NmoiQA4M5LtW4CZAUuiZa0vOJUArd6HUyswlQDljKuU8ISBAxP9T6HSvI0C4Pa5C2CAdQJhNGVCIIRlAUXt2QXZtGkAOIGCr3R4fQL4SqR05yxtAk1+YkVa4FUCUOmOAE88YQHiBw2shpxRAn2xxddYeE0AErNR8pqEXQAV6iW3qsyBAjmQY+DlWGkDkWHQfvMwiQKFt+Psn1iJAl3G/6cjxI0B2ev24yyQfQMUCoUR+CB5A",
          "dtype": "f8"
         }
        },
        {
         "customdata": {
          "bdata": "ZarJzvdkKEASEz58nVYrQDxZdvwVxyhAHIofDPHRK0CEeBTqT08tQHJV48zeDTBAMXEdutIrK0AMg+9TThwuQAjEvZMqMitAaJnlTasoLkBQHjTyNHYlQIQhi/RVWShAWBPXniM5KED7Dyw2HjYrQFcquAtmFSNAB0BzGuQnJkBa2/jDUzkgQDzCDWXnPiNA61nU4fsgIUDh5Xj0PhMkQJ1SXJC/PCJAQr0HoT0bJUDNx5VFCgYfQOkmiE3kbyJA",
          "dtype": "f8",
          "shape": "12, 2"
         },
         "hovertemplate": "<b>Fecha</b>: %{x|%Y-%m-%d}<br><b>Predicción</b>: %{y:.2f}<br><b>IC 95% Inferior</b>: %{customdata[0]:.2f}<br><b>IC 95% Superior</b>: %{customdata[1]:.2f}<extra></extra>",
         "line": {
          "color": "#57788B"
         },
         "mode": "lines",
         "name": "Forecast Escenario 2",
         "type": "scatter",
         "x": [
          "2025-06-01T00:00:00.000000000",
          "2025-07-01T00:00:00.000000000",
          "2025-08-01T00:00:00.000000000",
          "2025-09-01T00:00:00.000000000",
          "2025-10-01T00:00:00.000000000",
          "2025-11-01T00:00:00.000000000",
          "2025-12-01T00:00:00.000000000",
          "2026-01-01T00:00:00.000000000",
          "2026-02-01T00:00:00.000000000",
          "2026-03-01T00:00:00.000000000",
          "2026-04-01T00:00:00.000000000",
          "2026-05-01T00:00:00.000000000"
         ],
         "y": {
          "bdata": "E1UoxHbJKUASuDCxhlUqQETkFGAqsi5AUC3pryqzLECIqVG0Sq8sQH3jtVoS5yZAl3HANfGkKUCDJ/GobpwkQJSJpz6DsyFAjuMv9aSGIkD7J8GqeqgjQOZCCxVqCSFA",
          "dtype": "f8"
         }
        },
        {
         "fill": "toself",
         "fillcolor": "rgba(87,120,139,0.15)",
         "hoverinfo": "skip",
         "line": {
          "color": "rgba(255,255,255,0)"
         },
         "name": "IC 95% Escenario 2",
         "showlegend": true,
         "type": "scatter",
         "x": [
          "2025-06-01T00:00:00.000000000",
          "2025-07-01T00:00:00.000000000",
          "2025-08-01T00:00:00.000000000",
          "2025-09-01T00:00:00.000000000",
          "2025-10-01T00:00:00.000000000",
          "2025-11-01T00:00:00.000000000",
          "2025-12-01T00:00:00.000000000",
          "2026-01-01T00:00:00.000000000",
          "2026-02-01T00:00:00.000000000",
          "2026-03-01T00:00:00.000000000",
          "2026-04-01T00:00:00.000000000",
          "2026-05-01T00:00:00.000000000",
          "2026-05-01T00:00:00.000000000",
          "2026-04-01T00:00:00.000000000",
          "2026-03-01T00:00:00.000000000",
          "2026-02-01T00:00:00.000000000",
          "2026-01-01T00:00:00.000000000",
          "2025-12-01T00:00:00.000000000",
          "2025-11-01T00:00:00.000000000",
          "2025-10-01T00:00:00.000000000",
          "2025-09-01T00:00:00.000000000",
          "2025-08-01T00:00:00.000000000",
          "2025-07-01T00:00:00.000000000",
          "2025-06-01T00:00:00.000000000"
         ],
         "y": {
          "bdata": "EhM+fJ1WK0Acih8M8dErQHJV48zeDTBADIPvU04cLkBomeVNqyguQIQhi/RVWShA+w8sNh42K0AHQHMa5CcmQDzCDWXnPiNA4eV49D4TJEBCvQehPRslQOkmiE3kbyJAzceVRQoGH0CdUlyQvzwiQOtZ1OH7ICFAWtv4w1M5IEBXKrgLZhUjQFgT154jOShAUB408jR2JUAIxL2TKjIrQDFxHbrSKytAhHgU6k9PLUA8WXb8FccoQGWqyc73ZChA",
          "dtype": "f8"
         }
        }
       ],
       "layout": {
        "height": 600,
        "legend": {
         "orientation": "h",
         "title": {
          "text": "Serie"
         },
         "x": 0.5,
         "xanchor": "center",
         "y": -0.25,
         "yanchor": "bottom"
        },
        "template": {
         "data": {
          "bar": [
           {
            "error_x": {
             "color": "#2a3f5f"
            },
            "error_y": {
             "color": "#2a3f5f"
            },
            "marker": {
             "line": {
              "color": "white",
              "width": 0.5
             },
             "pattern": {
              "fillmode": "overlay",
              "size": 10,
              "solidity": 0.2
             }
            },
            "type": "bar"
           }
          ],
          "barpolar": [
           {
            "marker": {
             "line": {
              "color": "white",
              "width": 0.5
             },
             "pattern": {
              "fillmode": "overlay",
              "size": 10,
              "solidity": 0.2
             }
            },
            "type": "barpolar"
           }
          ],
          "carpet": [
           {
            "aaxis": {
             "endlinecolor": "#2a3f5f",
             "gridcolor": "#C8D4E3",
             "linecolor": "#C8D4E3",
             "minorgridcolor": "#C8D4E3",
             "startlinecolor": "#2a3f5f"
            },
            "baxis": {
             "endlinecolor": "#2a3f5f",
             "gridcolor": "#C8D4E3",
             "linecolor": "#C8D4E3",
             "minorgridcolor": "#C8D4E3",
             "startlinecolor": "#2a3f5f"
            },
            "type": "carpet"
           }
          ],
          "choropleth": [
           {
            "colorbar": {
             "outlinewidth": 0,
             "ticks": ""
            },
            "type": "choropleth"
           }
          ],
          "contour": [
           {
            "colorbar": {
             "outlinewidth": 0,
             "ticks": ""
            },
            "colorscale": [
             [
              0,
              "#0d0887"
             ],
             [
              0.1111111111111111,
              "#46039f"
             ],
             [
              0.2222222222222222,
              "#7201a8"
             ],
             [
              0.3333333333333333,
              "#9c179e"
             ],
             [
              0.4444444444444444,
              "#bd3786"
             ],
             [
              0.5555555555555556,
              "#d8576b"
             ],
             [
              0.6666666666666666,
              "#ed7953"
             ],
             [
              0.7777777777777778,
              "#fb9f3a"
             ],
             [
              0.8888888888888888,
              "#fdca26"
             ],
             [
              1,
              "#f0f921"
             ]
            ],
            "type": "contour"
           }
          ],
          "contourcarpet": [
           {
            "colorbar": {
             "outlinewidth": 0,
             "ticks": ""
            },
            "type": "contourcarpet"
           }
          ],
          "heatmap": [
           {
            "colorbar": {
             "outlinewidth": 0,
             "ticks": ""
            },
            "colorscale": [
             [
              0,
              "#0d0887"
             ],
             [
              0.1111111111111111,
              "#46039f"
             ],
             [
              0.2222222222222222,
              "#7201a8"
             ],
             [
              0.3333333333333333,
              "#9c179e"
             ],
             [
              0.4444444444444444,
              "#bd3786"
             ],
             [
              0.5555555555555556,
              "#d8576b"
             ],
             [
              0.6666666666666666,
              "#ed7953"
             ],
             [
              0.7777777777777778,
              "#fb9f3a"
             ],
             [
              0.8888888888888888,
              "#fdca26"
             ],
             [
              1,
              "#f0f921"
             ]
            ],
            "type": "heatmap"
           }
          ],
          "histogram": [
           {
            "marker": {
             "pattern": {
              "fillmode": "overlay",
              "size": 10,
              "solidity": 0.2
             }
            },
            "type": "histogram"
           }
          ],
          "histogram2d": [
           {
            "colorbar": {
             "outlinewidth": 0,
             "ticks": ""
            },
            "colorscale": [
             [
              0,
              "#0d0887"
             ],
             [
              0.1111111111111111,
              "#46039f"
             ],
             [
              0.2222222222222222,
              "#7201a8"
             ],
             [
              0.3333333333333333,
              "#9c179e"
             ],
             [
              0.4444444444444444,
              "#bd3786"
             ],
             [
              0.5555555555555556,
              "#d8576b"
             ],
             [
              0.6666666666666666,
              "#ed7953"
             ],
             [
              0.7777777777777778,
              "#fb9f3a"
             ],
             [
              0.8888888888888888,
              "#fdca26"
             ],
             [
              1,
              "#f0f921"
             ]
            ],
            "type": "histogram2d"
           }
          ],
          "histogram2dcontour": [
           {
            "colorbar": {
             "outlinewidth": 0,
             "ticks": ""
            },
            "colorscale": [
             [
              0,
              "#0d0887"
             ],
             [
              0.1111111111111111,
              "#46039f"
             ],
             [
              0.2222222222222222,
              "#7201a8"
             ],
             [
              0.3333333333333333,
              "#9c179e"
             ],
             [
              0.4444444444444444,
              "#bd3786"
             ],
             [
              0.5555555555555556,
              "#d8576b"
             ],
             [
              0.6666666666666666,
              "#ed7953"
             ],
             [
              0.7777777777777778,
              "#fb9f3a"
             ],
             [
              0.8888888888888888,
              "#fdca26"
             ],
             [
              1,
              "#f0f921"
             ]
            ],
            "type": "histogram2dcontour"
           }
          ],
          "mesh3d": [
           {
            "colorbar": {
             "outlinewidth": 0,
             "ticks": ""
            },
            "type": "mesh3d"
           }
          ],
          "parcoords": [
           {
            "line": {
             "colorbar": {
              "outlinewidth": 0,
              "ticks": ""
             }
            },
            "type": "parcoords"
           }
          ],
          "pie": [
           {
            "automargin": true,
            "type": "pie"
           }
          ],
          "scatter": [
           {
            "fillpattern": {
             "fillmode": "overlay",
             "size": 10,
             "solidity": 0.2
            },
            "type": "scatter"
           }
          ],
          "scatter3d": [
           {
            "line": {
             "colorbar": {
              "outlinewidth": 0,
              "ticks": ""
             }
            },
            "marker": {
             "colorbar": {
              "outlinewidth": 0,
              "ticks": ""
             }
            },
            "type": "scatter3d"
           }
          ],
          "scattercarpet": [
           {
            "marker": {
             "colorbar": {
              "outlinewidth": 0,
              "ticks": ""
             }
            },
            "type": "scattercarpet"
           }
          ],
          "scattergeo": [
           {
            "marker": {
             "colorbar": {
              "outlinewidth": 0,
              "ticks": ""
             }
            },
            "type": "scattergeo"
           }
          ],
          "scattergl": [
           {
            "marker": {
             "colorbar": {
              "outlinewidth": 0,
              "ticks": ""
             }
            },
            "type": "scattergl"
           }
          ],
          "scattermap": [
           {
            "marker": {
             "colorbar": {
              "outlinewidth": 0,
              "ticks": ""
             }
            },
            "type": "scattermap"
           }
          ],
          "scattermapbox": [
           {
            "marker": {
             "colorbar": {
              "outlinewidth": 0,
              "ticks": ""
             }
            },
            "type": "scattermapbox"
           }
          ],
          "scatterpolar": [
           {
            "marker": {
             "colorbar": {
              "outlinewidth": 0,
              "ticks": ""
             }
            },
            "type": "scatterpolar"
           }
          ],
          "scatterpolargl": [
           {
            "marker": {
             "colorbar": {
              "outlinewidth": 0,
              "ticks": ""
             }
            },
            "type": "scatterpolargl"
           }
          ],
          "scatterternary": [
           {
            "marker": {
             "colorbar": {
              "outlinewidth": 0,
              "ticks": ""
             }
            },
            "type": "scatterternary"
           }
          ],
          "surface": [
           {
            "colorbar": {
             "outlinewidth": 0,
             "ticks": ""
            },
            "colorscale": [
             [
              0,
              "#0d0887"
             ],
             [
              0.1111111111111111,
              "#46039f"
             ],
             [
              0.2222222222222222,
              "#7201a8"
             ],
             [
              0.3333333333333333,
              "#9c179e"
             ],
             [
              0.4444444444444444,
              "#bd3786"
             ],
             [
              0.5555555555555556,
              "#d8576b"
             ],
             [
              0.6666666666666666,
              "#ed7953"
             ],
             [
              0.7777777777777778,
              "#fb9f3a"
             ],
             [
              0.8888888888888888,
              "#fdca26"
             ],
             [
              1,
              "#f0f921"
             ]
            ],
            "type": "surface"
           }
          ],
          "table": [
           {
            "cells": {
             "fill": {
              "color": "#EBF0F8"
             },
             "line": {
              "color": "white"
             }
            },
            "header": {
             "fill": {
              "color": "#C8D4E3"
             },
             "line": {
              "color": "white"
             }
            },
            "type": "table"
           }
          ]
         },
         "layout": {
          "annotationdefaults": {
           "arrowcolor": "#2a3f5f",
           "arrowhead": 0,
           "arrowwidth": 1
          },
          "autotypenumbers": "strict",
          "coloraxis": {
           "colorbar": {
            "outlinewidth": 0,
            "ticks": ""
           }
          },
          "colorscale": {
           "diverging": [
            [
             0,
             "#8e0152"
            ],
            [
             0.1,
             "#c51b7d"
            ],
            [
             0.2,
             "#de77ae"
            ],
            [
             0.3,
             "#f1b6da"
            ],
            [
             0.4,
             "#fde0ef"
            ],
            [
             0.5,
             "#f7f7f7"
            ],
            [
             0.6,
             "#e6f5d0"
            ],
            [
             0.7,
             "#b8e186"
            ],
            [
             0.8,
             "#7fbc41"
            ],
            [
             0.9,
             "#4d9221"
            ],
            [
             1,
             "#276419"
            ]
           ],
           "sequential": [
            [
             0,
             "#0d0887"
            ],
            [
             0.1111111111111111,
             "#46039f"
            ],
            [
             0.2222222222222222,
             "#7201a8"
            ],
            [
             0.3333333333333333,
             "#9c179e"
            ],
            [
             0.4444444444444444,
             "#bd3786"
            ],
            [
             0.5555555555555556,
             "#d8576b"
            ],
            [
             0.6666666666666666,
             "#ed7953"
            ],
            [
             0.7777777777777778,
             "#fb9f3a"
            ],
            [
             0.8888888888888888,
             "#fdca26"
            ],
            [
             1,
             "#f0f921"
            ]
           ],
           "sequentialminus": [
            [
             0,
             "#0d0887"
            ],
            [
             0.1111111111111111,
             "#46039f"
            ],
            [
             0.2222222222222222,
             "#7201a8"
            ],
            [
             0.3333333333333333,
             "#9c179e"
            ],
            [
             0.4444444444444444,
             "#bd3786"
            ],
            [
             0.5555555555555556,
             "#d8576b"
            ],
            [
             0.6666666666666666,
             "#ed7953"
            ],
            [
             0.7777777777777778,
             "#fb9f3a"
            ],
            [
             0.8888888888888888,
             "#fdca26"
            ],
            [
             1,
             "#f0f921"
            ]
           ]
          },
          "colorway": [
           "#636efa",
           "#EF553B",
           "#00cc96",
           "#ab63fa",
           "#FFA15A",
           "#19d3f3",
           "#FF6692",
           "#B6E880",
           "#FF97FF",
           "#FECB52"
          ],
          "font": {
           "color": "#2a3f5f"
          },
          "geo": {
           "bgcolor": "white",
           "lakecolor": "white",
           "landcolor": "white",
           "showlakes": true,
           "showland": true,
           "subunitcolor": "#C8D4E3"
          },
          "hoverlabel": {
           "align": "left"
          },
          "hovermode": "closest",
          "mapbox": {
           "style": "light"
          },
          "paper_bgcolor": "white",
          "plot_bgcolor": "white",
          "polar": {
           "angularaxis": {
            "gridcolor": "#EBF0F8",
            "linecolor": "#EBF0F8",
            "ticks": ""
           },
           "bgcolor": "white",
           "radialaxis": {
            "gridcolor": "#EBF0F8",
            "linecolor": "#EBF0F8",
            "ticks": ""
           }
          },
          "scene": {
           "xaxis": {
            "backgroundcolor": "white",
            "gridcolor": "#DFE8F3",
            "gridwidth": 2,
            "linecolor": "#EBF0F8",
            "showbackground": true,
            "ticks": "",
            "zerolinecolor": "#EBF0F8"
           },
           "yaxis": {
            "backgroundcolor": "white",
            "gridcolor": "#DFE8F3",
            "gridwidth": 2,
            "linecolor": "#EBF0F8",
            "showbackground": true,
            "ticks": "",
            "zerolinecolor": "#EBF0F8"
           },
           "zaxis": {
            "backgroundcolor": "white",
            "gridcolor": "#DFE8F3",
            "gridwidth": 2,
            "linecolor": "#EBF0F8",
            "showbackground": true,
            "ticks": "",
            "zerolinecolor": "#EBF0F8"
           }
          },
          "shapedefaults": {
           "line": {
            "color": "#2a3f5f"
           }
          },
          "ternary": {
           "aaxis": {
            "gridcolor": "#DFE8F3",
            "linecolor": "#A2B1C6",
            "ticks": ""
           },
           "baxis": {
            "gridcolor": "#DFE8F3",
            "linecolor": "#A2B1C6",
            "ticks": ""
           },
           "bgcolor": "white",
           "caxis": {
            "gridcolor": "#DFE8F3",
            "linecolor": "#A2B1C6",
            "ticks": ""
           }
          },
          "title": {
           "x": 0.05
          },
          "xaxis": {
           "automargin": true,
           "gridcolor": "#EBF0F8",
           "linecolor": "#EBF0F8",
           "ticks": "",
           "title": {
            "standoff": 15
           },
           "zerolinecolor": "#EBF0F8",
           "zerolinewidth": 2
          },
          "yaxis": {
           "automargin": true,
           "gridcolor": "#EBF0F8",
           "linecolor": "#EBF0F8",
           "ticks": "",
           "title": {
            "standoff": 15
           },
           "zerolinecolor": "#EBF0F8",
           "zerolinewidth": 2
          }
         }
        },
        "title": {
         "text": "Pronóstico de Cantidades Vendidas por Región y Categoría (Prophet)\nAntioquia-Agua-Agua con Gas 500mL x 6uds"
        },
        "width": 1200,
        "xaxis": {
         "title": {
          "text": "Fecha"
         }
        },
        "yaxis": {
         "title": {
          "text": "Cantidad Vendida (m3)"
         }
        }
       }
      }
     },
     "metadata": {},
     "output_type": "display_data"
    }
   ],
   "source": [
    "fig = go.Figure()\n",
    "\n",
    "# 1. Histórico real completo\n",
    "fig.add_trace(go.Scatter(\n",
    "    x=df_hist['ds'],\n",
    "    y=df_hist['y'],\n",
    "    mode='lines',\n",
    "    name='Histórico Real',\n",
    "    line=dict(color='#36332E')\n",
    "))\n",
    "\n",
    "# Línea de tendencia (regresión lineal sobre histórico)\n",
    "X_trend = df_hist['ds'].map(lambda x: x.toordinal()).values.reshape(-1, 1)\n",
    "y_trend = df_hist['y'].values\n",
    "reg = LinearRegression().fit(X_trend, y_trend)\n",
    "y_trend_pred = reg.predict(X_trend)\n",
    "fig.add_trace(go.Scatter(\n",
    "    x=df_hist['ds'],\n",
    "    y=y_trend_pred,\n",
    "    mode='lines',\n",
    "    name='Tendencia (Histórico)',\n",
    "    line=dict(color='gray', dash='dot')\n",
    "))\n",
    "\n",
    "# 2. Test real (últimos n_test meses)\n",
    "fig.add_trace(go.Scatter(\n",
    "    x=df_hist['ds'].tail(n_test),\n",
    "    y=y_true,\n",
    "    mode='lines',\n",
    "    name='Histórico Test (Real)',\n",
    "    line=dict(color='#E09C41')\n",
    "))\n",
    "\n",
    "# 3. Predicción test (últimos n_test meses)\n",
    "fig.add_trace(go.Scatter(\n",
    "    x=df_hist['ds'].tail(n_test),\n",
    "    y=y_pred,\n",
    "    mode='lines',\n",
    "    name='Histórico Test (Predicción)',\n",
    "    line=dict(color='red', dash='dot')\n",
    "))\n",
    "\n",
    "# 4. Forecast Escenario 1\n",
    "fig.add_trace(go.Scatter(\n",
    "    x=df_fcst1['ds'],\n",
    "    y=df_fcst1['CANTIDAD_VENDIDA_PRED'],\n",
    "    mode='lines',\n",
    "    name='Forecast Escenario 1',\n",
    "    line=dict(color='#8B7557'),\n",
    "    hovertemplate='<b>Fecha</b>: %{x|%Y-%m-%d}<br>' +\n",
    "                  '<b>Predicción</b>: %{y:.2f}<br>' +\n",
    "                  '<b>IC 95% Inferior</b>: %{customdata[0]:.2f}<br>' +\n",
    "                  '<b>IC 95% Superior</b>: %{customdata[1]:.2f}<extra></extra>',\n",
    "    customdata=np.stack((df_fcst1['IC_95_LOWER'], df_fcst1['IC_95_UPPER']), axis=-1)\n",
    "))\n",
    "# Banda de IC 95% Escenario 1\n",
    "fig.add_trace(go.Scatter(\n",
    "    x=pd.concat([df_fcst1['ds'], df_fcst1['ds'][::-1]]),\n",
    "    y=pd.concat([df_fcst1['IC_95_UPPER'], df_fcst1['IC_95_LOWER'][::-1]]),\n",
    "    fill='toself',\n",
    "    fillcolor='rgba(139,117,87,0.15)',\n",
    "    line=dict(color='rgba(255,255,255,0)'),\n",
    "    hoverinfo=\"skip\",\n",
    "    showlegend=True,\n",
    "    name='IC 95% Escenario 1'\n",
    "))\n",
    "\n",
    "# 5. Forecast Escenario 2\n",
    "fig.add_trace(go.Scatter(\n",
    "    x=df_fcst2['ds'],\n",
    "    y=df_fcst2['CANTIDAD_VENDIDA_PRED'],\n",
    "    mode='lines',\n",
    "    name='Forecast Escenario 2',\n",
    "    line=dict(color='#57788B'),\n",
    "    hovertemplate='<b>Fecha</b>: %{x|%Y-%m-%d}<br>' +\n",
    "                  '<b>Predicción</b>: %{y:.2f}<br>' +\n",
    "                  '<b>IC 95% Inferior</b>: %{customdata[0]:.2f}<br>' +\n",
    "                  '<b>IC 95% Superior</b>: %{customdata[1]:.2f}<extra></extra>',\n",
    "    customdata=np.stack((df_fcst2['IC_95_LOWER'], df_fcst2['IC_95_UPPER']), axis=-1)\n",
    "))\n",
    "# Banda de IC 95% Escenario 2\n",
    "fig.add_trace(go.Scatter(\n",
    "    x=pd.concat([df_fcst2['ds'], df_fcst2['ds'][::-1]]),\n",
    "    y=pd.concat([df_fcst2['IC_95_UPPER'], df_fcst2['IC_95_LOWER'][::-1]]),\n",
    "    fill='toself',\n",
    "    fillcolor='rgba(87,120,139,0.15)',\n",
    "    line=dict(color='rgba(255,255,255,0)'),\n",
    "    hoverinfo=\"skip\",\n",
    "    showlegend=True,\n",
    "    name='IC 95% Escenario 2'\n",
    "))\n",
    "\n",
    "fig.update_layout(\n",
    "    title=f'Pronóstico de Cantidades Vendidas por Región y Categoría (Prophet)\\n{producto}',\n",
    "    xaxis_title='Fecha',\n",
    "    yaxis_title='Cantidad Vendida (m3)',\n",
    "    legend_title='Serie',\n",
    "    legend=dict(\n",
    "        orientation='h',\n",
    "        yanchor='bottom',\n",
    "        y=-0.25,\n",
    "        x=0.5,\n",
    "        xanchor='center'),\n",
    "    template='plotly_white',\n",
    "    width=1200,\n",
    "    height=600\n",
    ")\n",
    "fig.show()"
   ]
  },
  {
   "cell_type": "markdown",
   "id": "b6fa1587",
   "metadata": {},
   "source": [
    "## 8. Diferencia porcentual mes a mes y consolidación de resultados\n",
    "\n",
    "\n",
    "Se calcula y grafica la variación porcentual mes a mes para el histórico y ambos escenarios."
   ]
  },
  {
   "cell_type": "code",
   "execution_count": 90,
   "id": "97316f39",
   "metadata": {},
   "outputs": [
    {
     "name": "stdout",
     "output_type": "stream",
     "text": [
      "                  REGION_CATEGORIA_PRODUCTO     REGION CATEGORIA  \\\n",
      "0  Antioquia-Agua-Agua con Gas 500mL x 6uds  Antioquia      Agua   \n",
      "1  Antioquia-Agua-Agua con Gas 500mL x 6uds  Antioquia      Agua   \n",
      "2  Antioquia-Agua-Agua con Gas 500mL x 6uds  Antioquia      Agua   \n",
      "3  Antioquia-Agua-Agua con Gas 500mL x 6uds  Antioquia      Agua   \n",
      "4  Antioquia-Agua-Agua con Gas 500mL x 6uds  Antioquia      Agua   \n",
      "\n",
      "                    PRODUCTO      FECHA       TIPO  M3_PRODUCTO  IC_95_LOWER  \\\n",
      "0  Agua con Gas 500mL x 6uds 2023-01-01  HISTÓRICO        5.514          NaN   \n",
      "1  Agua con Gas 500mL x 6uds 2023-02-01  HISTÓRICO        5.166          NaN   \n",
      "2  Agua con Gas 500mL x 6uds 2023-03-01  HISTÓRICO        4.575          NaN   \n",
      "3  Agua con Gas 500mL x 6uds 2023-04-01  HISTÓRICO        6.525          NaN   \n",
      "4  Agua con Gas 500mL x 6uds 2023-05-01  HISTÓRICO        5.571          NaN   \n",
      "\n",
      "   IC_95_UPPER    DIF_PCT  \n",
      "0          NaN        NaN  \n",
      "1          NaN  -6.311208  \n",
      "2          NaN -11.440186  \n",
      "3          NaN  42.622951  \n",
      "4          NaN -14.620690  \n"
     ]
    },
    {
     "data": {
      "application/vnd.plotly.v1+json": {
       "config": {
        "plotlyServerURL": "https://plot.ly"
       },
       "data": [
        {
         "marker": {
          "color": [
           "red",
           "red",
           "red",
           "green",
           "red",
           "green",
           "green",
           "green",
           "green",
           "red",
           "green",
           "green",
           "red",
           "green",
           "green",
           "red",
           "red",
           "green",
           "green",
           "green",
           "red",
           "green",
           "red",
           "green",
           "red",
           "red",
           "green",
           "green",
           "green"
          ]
         },
         "name": "Histórico",
         "text": [
          "",
          "-6.3%",
          "-11.4%",
          "42.6%",
          "-14.6%",
          "22.2%",
          "9.3%",
          "22.8%",
          "1.8%",
          "-17.6%",
          "5.9%",
          "11.2%",
          "-25.6%",
          "13.7%",
          "23.3%",
          "-9.4%",
          "-11.5%",
          "27.6%",
          "6.6%",
          "23.3%",
          "-6.3%",
          "12.0%",
          "-27.6%",
          "21.2%",
          "-18.7%",
          "-23.3%",
          "8.4%",
          "8.9%",
          "7.4%"
         ],
         "textposition": "outside",
         "type": "bar",
         "width": 1728000000,
         "x": [
          "2023-01-01T00:00:00.000000000",
          "2023-02-01T00:00:00.000000000",
          "2023-03-01T00:00:00.000000000",
          "2023-04-01T00:00:00.000000000",
          "2023-05-01T00:00:00.000000000",
          "2023-06-01T00:00:00.000000000",
          "2023-07-01T00:00:00.000000000",
          "2023-08-01T00:00:00.000000000",
          "2023-09-01T00:00:00.000000000",
          "2023-10-01T00:00:00.000000000",
          "2023-11-01T00:00:00.000000000",
          "2023-12-01T00:00:00.000000000",
          "2024-01-01T00:00:00.000000000",
          "2024-02-01T00:00:00.000000000",
          "2024-03-01T00:00:00.000000000",
          "2024-04-01T00:00:00.000000000",
          "2024-05-01T00:00:00.000000000",
          "2024-06-01T00:00:00.000000000",
          "2024-07-01T00:00:00.000000000",
          "2024-08-01T00:00:00.000000000",
          "2024-09-01T00:00:00.000000000",
          "2024-10-01T00:00:00.000000000",
          "2024-11-01T00:00:00.000000000",
          "2024-12-01T00:00:00.000000000",
          "2025-01-01T00:00:00.000000000",
          "2025-02-01T00:00:00.000000000",
          "2025-03-01T00:00:00.000000000",
          "2025-04-01T00:00:00.000000000",
          "2025-05-01T00:00:00.000000000"
         ],
         "xaxis": "x",
         "y": {
          "bdata": "AAAAAAAA+H8ygz9ErT4ZwHe3gwlg4SbADcE62rxPRUC33NMIyz0twAbg5+57PTZA7uQHcx6XIkC7qYNE6MU2QGzHqtjt4/w/MBBs/3KbMcDDfPny5csXQOByW4MBUCZADEDPfIWfOcAyRlPsaW8rQKLCgVbkQjdAnLvFSXi+IsBlw/Lo/xInwEBja/v+jTtAT9oKfylPGkAoCzEjnkA3QExqb5HJPxnA3FWv1CT2J0C25Q3QC6Q7wB27IrKyOTVAHHzc3vixMsDcN1DkxFc3wH1QiAkGtyBApsnDt3i3IUB/d095c74dQA==",
          "dtype": "f8"
         },
         "yaxis": "y"
        },
        {
         "marker": {
          "color": [
           "red",
           "green",
           "green",
           "red",
           "red",
           "red",
           "green",
           "red",
           "red",
           "green",
           "green",
           "red"
          ]
         },
         "name": "Escenario 1",
         "text": [
          "-10.9%",
          "3.3%",
          "25.6%",
          "-5.0%",
          "-0.1%",
          "-27.5%",
          "23.7%",
          "-27.7%",
          "-16.5%",
          "7.5%",
          "17.4%",
          "-10.8%"
         ],
         "textposition": "outside",
         "type": "bar",
         "width": 1728000000,
         "x": [
          "2025-06-01T00:00:00.000000000",
          "2025-07-01T00:00:00.000000000",
          "2025-08-01T00:00:00.000000000",
          "2025-09-01T00:00:00.000000000",
          "2025-10-01T00:00:00.000000000",
          "2025-11-01T00:00:00.000000000",
          "2025-12-01T00:00:00.000000000",
          "2026-01-01T00:00:00.000000000",
          "2026-02-01T00:00:00.000000000",
          "2026-03-01T00:00:00.000000000",
          "2026-04-01T00:00:00.000000000",
          "2026-05-01T00:00:00.000000000"
         ],
         "xaxis": "x2",
         "y": {
          "bdata": "4jLI2xm/JcDO7BVAAI4KQL8Y8h/ynDlAcO9OjjztE8Bge96DWBCzv2EeXP2tiTvAkpcH/KGqN0BJf3K4XKc7wDp4jZSWdzDAv+ytgvj9HUDkUJe+p3ExQMNvdsveoSXA",
          "dtype": "f8"
         },
         "yaxis": "y2"
        },
        {
         "marker": {
          "color": [
           "green",
           "green",
           "green",
           "red",
           "red",
           "red",
           "green",
           "red",
           "red",
           "green",
           "green",
           "red"
          ]
         },
         "name": "Escenario 2",
         "text": [
          "33.6%",
          "2.1%",
          "16.6%",
          "-6.5%",
          "-0.1%",
          "-20.2%",
          "12.0%",
          "-19.6%",
          "-14.1%",
          "4.7%",
          "6.1%",
          "-13.3%"
         ],
         "textposition": "outside",
         "type": "bar",
         "width": 1728000000,
         "x": [
          "2025-06-01T00:00:00.000000000",
          "2025-07-01T00:00:00.000000000",
          "2025-08-01T00:00:00.000000000",
          "2025-09-01T00:00:00.000000000",
          "2025-10-01T00:00:00.000000000",
          "2025-11-01T00:00:00.000000000",
          "2025-12-01T00:00:00.000000000",
          "2026-01-01T00:00:00.000000000",
          "2026-02-01T00:00:00.000000000",
          "2026-03-01T00:00:00.000000000",
          "2026-04-01T00:00:00.000000000",
          "2026-05-01T00:00:00.000000000"
         ],
         "xaxis": "x3",
         "y": {
          "bdata": "xLBgLZLGQEBGUG+DNfkAQEC31w1IkDBAGE+dT9cCGsBAc6GjzQCrv5dknWlOKDTAKI5D3ivxJ0DqsqPOi6AzwMLoR9FYPCzA7Dj6KAKjEkAe3ms763EYQJACI6JaqyrA",
          "dtype": "f8"
         },
         "yaxis": "y3"
        }
       ],
       "layout": {
        "annotations": [
         {
          "font": {
           "size": 16
          },
          "showarrow": false,
          "text": "Histórico",
          "x": 0.5,
          "xanchor": "center",
          "xref": "paper",
          "y": 1,
          "yanchor": "bottom",
          "yref": "paper"
         },
         {
          "font": {
           "size": 16
          },
          "showarrow": false,
          "text": "Escenario 1",
          "x": 0.5,
          "xanchor": "center",
          "xref": "paper",
          "y": 0.6266666666666667,
          "yanchor": "bottom",
          "yref": "paper"
         },
         {
          "font": {
           "size": 16
          },
          "showarrow": false,
          "text": "Escenario 2",
          "x": 0.5,
          "xanchor": "center",
          "xref": "paper",
          "y": 0.25333333333333335,
          "yanchor": "bottom",
          "yref": "paper"
         }
        ],
        "bargap": 0.25,
        "font": {
         "size": 12
        },
        "height": 1300,
        "margin": {
         "b": 40,
         "l": 40,
         "r": 40,
         "t": 40
        },
        "showlegend": false,
        "template": {
         "data": {
          "bar": [
           {
            "error_x": {
             "color": "#2a3f5f"
            },
            "error_y": {
             "color": "#2a3f5f"
            },
            "marker": {
             "line": {
              "color": "#E5ECF6",
              "width": 0.5
             },
             "pattern": {
              "fillmode": "overlay",
              "size": 10,
              "solidity": 0.2
             }
            },
            "type": "bar"
           }
          ],
          "barpolar": [
           {
            "marker": {
             "line": {
              "color": "#E5ECF6",
              "width": 0.5
             },
             "pattern": {
              "fillmode": "overlay",
              "size": 10,
              "solidity": 0.2
             }
            },
            "type": "barpolar"
           }
          ],
          "carpet": [
           {
            "aaxis": {
             "endlinecolor": "#2a3f5f",
             "gridcolor": "white",
             "linecolor": "white",
             "minorgridcolor": "white",
             "startlinecolor": "#2a3f5f"
            },
            "baxis": {
             "endlinecolor": "#2a3f5f",
             "gridcolor": "white",
             "linecolor": "white",
             "minorgridcolor": "white",
             "startlinecolor": "#2a3f5f"
            },
            "type": "carpet"
           }
          ],
          "choropleth": [
           {
            "colorbar": {
             "outlinewidth": 0,
             "ticks": ""
            },
            "type": "choropleth"
           }
          ],
          "contour": [
           {
            "colorbar": {
             "outlinewidth": 0,
             "ticks": ""
            },
            "colorscale": [
             [
              0,
              "#0d0887"
             ],
             [
              0.1111111111111111,
              "#46039f"
             ],
             [
              0.2222222222222222,
              "#7201a8"
             ],
             [
              0.3333333333333333,
              "#9c179e"
             ],
             [
              0.4444444444444444,
              "#bd3786"
             ],
             [
              0.5555555555555556,
              "#d8576b"
             ],
             [
              0.6666666666666666,
              "#ed7953"
             ],
             [
              0.7777777777777778,
              "#fb9f3a"
             ],
             [
              0.8888888888888888,
              "#fdca26"
             ],
             [
              1,
              "#f0f921"
             ]
            ],
            "type": "contour"
           }
          ],
          "contourcarpet": [
           {
            "colorbar": {
             "outlinewidth": 0,
             "ticks": ""
            },
            "type": "contourcarpet"
           }
          ],
          "heatmap": [
           {
            "colorbar": {
             "outlinewidth": 0,
             "ticks": ""
            },
            "colorscale": [
             [
              0,
              "#0d0887"
             ],
             [
              0.1111111111111111,
              "#46039f"
             ],
             [
              0.2222222222222222,
              "#7201a8"
             ],
             [
              0.3333333333333333,
              "#9c179e"
             ],
             [
              0.4444444444444444,
              "#bd3786"
             ],
             [
              0.5555555555555556,
              "#d8576b"
             ],
             [
              0.6666666666666666,
              "#ed7953"
             ],
             [
              0.7777777777777778,
              "#fb9f3a"
             ],
             [
              0.8888888888888888,
              "#fdca26"
             ],
             [
              1,
              "#f0f921"
             ]
            ],
            "type": "heatmap"
           }
          ],
          "histogram": [
           {
            "marker": {
             "pattern": {
              "fillmode": "overlay",
              "size": 10,
              "solidity": 0.2
             }
            },
            "type": "histogram"
           }
          ],
          "histogram2d": [
           {
            "colorbar": {
             "outlinewidth": 0,
             "ticks": ""
            },
            "colorscale": [
             [
              0,
              "#0d0887"
             ],
             [
              0.1111111111111111,
              "#46039f"
             ],
             [
              0.2222222222222222,
              "#7201a8"
             ],
             [
              0.3333333333333333,
              "#9c179e"
             ],
             [
              0.4444444444444444,
              "#bd3786"
             ],
             [
              0.5555555555555556,
              "#d8576b"
             ],
             [
              0.6666666666666666,
              "#ed7953"
             ],
             [
              0.7777777777777778,
              "#fb9f3a"
             ],
             [
              0.8888888888888888,
              "#fdca26"
             ],
             [
              1,
              "#f0f921"
             ]
            ],
            "type": "histogram2d"
           }
          ],
          "histogram2dcontour": [
           {
            "colorbar": {
             "outlinewidth": 0,
             "ticks": ""
            },
            "colorscale": [
             [
              0,
              "#0d0887"
             ],
             [
              0.1111111111111111,
              "#46039f"
             ],
             [
              0.2222222222222222,
              "#7201a8"
             ],
             [
              0.3333333333333333,
              "#9c179e"
             ],
             [
              0.4444444444444444,
              "#bd3786"
             ],
             [
              0.5555555555555556,
              "#d8576b"
             ],
             [
              0.6666666666666666,
              "#ed7953"
             ],
             [
              0.7777777777777778,
              "#fb9f3a"
             ],
             [
              0.8888888888888888,
              "#fdca26"
             ],
             [
              1,
              "#f0f921"
             ]
            ],
            "type": "histogram2dcontour"
           }
          ],
          "mesh3d": [
           {
            "colorbar": {
             "outlinewidth": 0,
             "ticks": ""
            },
            "type": "mesh3d"
           }
          ],
          "parcoords": [
           {
            "line": {
             "colorbar": {
              "outlinewidth": 0,
              "ticks": ""
             }
            },
            "type": "parcoords"
           }
          ],
          "pie": [
           {
            "automargin": true,
            "type": "pie"
           }
          ],
          "scatter": [
           {
            "fillpattern": {
             "fillmode": "overlay",
             "size": 10,
             "solidity": 0.2
            },
            "type": "scatter"
           }
          ],
          "scatter3d": [
           {
            "line": {
             "colorbar": {
              "outlinewidth": 0,
              "ticks": ""
             }
            },
            "marker": {
             "colorbar": {
              "outlinewidth": 0,
              "ticks": ""
             }
            },
            "type": "scatter3d"
           }
          ],
          "scattercarpet": [
           {
            "marker": {
             "colorbar": {
              "outlinewidth": 0,
              "ticks": ""
             }
            },
            "type": "scattercarpet"
           }
          ],
          "scattergeo": [
           {
            "marker": {
             "colorbar": {
              "outlinewidth": 0,
              "ticks": ""
             }
            },
            "type": "scattergeo"
           }
          ],
          "scattergl": [
           {
            "marker": {
             "colorbar": {
              "outlinewidth": 0,
              "ticks": ""
             }
            },
            "type": "scattergl"
           }
          ],
          "scattermap": [
           {
            "marker": {
             "colorbar": {
              "outlinewidth": 0,
              "ticks": ""
             }
            },
            "type": "scattermap"
           }
          ],
          "scattermapbox": [
           {
            "marker": {
             "colorbar": {
              "outlinewidth": 0,
              "ticks": ""
             }
            },
            "type": "scattermapbox"
           }
          ],
          "scatterpolar": [
           {
            "marker": {
             "colorbar": {
              "outlinewidth": 0,
              "ticks": ""
             }
            },
            "type": "scatterpolar"
           }
          ],
          "scatterpolargl": [
           {
            "marker": {
             "colorbar": {
              "outlinewidth": 0,
              "ticks": ""
             }
            },
            "type": "scatterpolargl"
           }
          ],
          "scatterternary": [
           {
            "marker": {
             "colorbar": {
              "outlinewidth": 0,
              "ticks": ""
             }
            },
            "type": "scatterternary"
           }
          ],
          "surface": [
           {
            "colorbar": {
             "outlinewidth": 0,
             "ticks": ""
            },
            "colorscale": [
             [
              0,
              "#0d0887"
             ],
             [
              0.1111111111111111,
              "#46039f"
             ],
             [
              0.2222222222222222,
              "#7201a8"
             ],
             [
              0.3333333333333333,
              "#9c179e"
             ],
             [
              0.4444444444444444,
              "#bd3786"
             ],
             [
              0.5555555555555556,
              "#d8576b"
             ],
             [
              0.6666666666666666,
              "#ed7953"
             ],
             [
              0.7777777777777778,
              "#fb9f3a"
             ],
             [
              0.8888888888888888,
              "#fdca26"
             ],
             [
              1,
              "#f0f921"
             ]
            ],
            "type": "surface"
           }
          ],
          "table": [
           {
            "cells": {
             "fill": {
              "color": "#EBF0F8"
             },
             "line": {
              "color": "white"
             }
            },
            "header": {
             "fill": {
              "color": "#C8D4E3"
             },
             "line": {
              "color": "white"
             }
            },
            "type": "table"
           }
          ]
         },
         "layout": {
          "annotationdefaults": {
           "arrowcolor": "#2a3f5f",
           "arrowhead": 0,
           "arrowwidth": 1
          },
          "autotypenumbers": "strict",
          "coloraxis": {
           "colorbar": {
            "outlinewidth": 0,
            "ticks": ""
           }
          },
          "colorscale": {
           "diverging": [
            [
             0,
             "#8e0152"
            ],
            [
             0.1,
             "#c51b7d"
            ],
            [
             0.2,
             "#de77ae"
            ],
            [
             0.3,
             "#f1b6da"
            ],
            [
             0.4,
             "#fde0ef"
            ],
            [
             0.5,
             "#f7f7f7"
            ],
            [
             0.6,
             "#e6f5d0"
            ],
            [
             0.7,
             "#b8e186"
            ],
            [
             0.8,
             "#7fbc41"
            ],
            [
             0.9,
             "#4d9221"
            ],
            [
             1,
             "#276419"
            ]
           ],
           "sequential": [
            [
             0,
             "#0d0887"
            ],
            [
             0.1111111111111111,
             "#46039f"
            ],
            [
             0.2222222222222222,
             "#7201a8"
            ],
            [
             0.3333333333333333,
             "#9c179e"
            ],
            [
             0.4444444444444444,
             "#bd3786"
            ],
            [
             0.5555555555555556,
             "#d8576b"
            ],
            [
             0.6666666666666666,
             "#ed7953"
            ],
            [
             0.7777777777777778,
             "#fb9f3a"
            ],
            [
             0.8888888888888888,
             "#fdca26"
            ],
            [
             1,
             "#f0f921"
            ]
           ],
           "sequentialminus": [
            [
             0,
             "#0d0887"
            ],
            [
             0.1111111111111111,
             "#46039f"
            ],
            [
             0.2222222222222222,
             "#7201a8"
            ],
            [
             0.3333333333333333,
             "#9c179e"
            ],
            [
             0.4444444444444444,
             "#bd3786"
            ],
            [
             0.5555555555555556,
             "#d8576b"
            ],
            [
             0.6666666666666666,
             "#ed7953"
            ],
            [
             0.7777777777777778,
             "#fb9f3a"
            ],
            [
             0.8888888888888888,
             "#fdca26"
            ],
            [
             1,
             "#f0f921"
            ]
           ]
          },
          "colorway": [
           "#636efa",
           "#EF553B",
           "#00cc96",
           "#ab63fa",
           "#FFA15A",
           "#19d3f3",
           "#FF6692",
           "#B6E880",
           "#FF97FF",
           "#FECB52"
          ],
          "font": {
           "color": "#2a3f5f"
          },
          "geo": {
           "bgcolor": "white",
           "lakecolor": "white",
           "landcolor": "#E5ECF6",
           "showlakes": true,
           "showland": true,
           "subunitcolor": "white"
          },
          "hoverlabel": {
           "align": "left"
          },
          "hovermode": "closest",
          "mapbox": {
           "style": "light"
          },
          "paper_bgcolor": "white",
          "plot_bgcolor": "#E5ECF6",
          "polar": {
           "angularaxis": {
            "gridcolor": "white",
            "linecolor": "white",
            "ticks": ""
           },
           "bgcolor": "#E5ECF6",
           "radialaxis": {
            "gridcolor": "white",
            "linecolor": "white",
            "ticks": ""
           }
          },
          "scene": {
           "xaxis": {
            "backgroundcolor": "#E5ECF6",
            "gridcolor": "white",
            "gridwidth": 2,
            "linecolor": "white",
            "showbackground": true,
            "ticks": "",
            "zerolinecolor": "white"
           },
           "yaxis": {
            "backgroundcolor": "#E5ECF6",
            "gridcolor": "white",
            "gridwidth": 2,
            "linecolor": "white",
            "showbackground": true,
            "ticks": "",
            "zerolinecolor": "white"
           },
           "zaxis": {
            "backgroundcolor": "#E5ECF6",
            "gridcolor": "white",
            "gridwidth": 2,
            "linecolor": "white",
            "showbackground": true,
            "ticks": "",
            "zerolinecolor": "white"
           }
          },
          "shapedefaults": {
           "line": {
            "color": "#2a3f5f"
           }
          },
          "ternary": {
           "aaxis": {
            "gridcolor": "white",
            "linecolor": "white",
            "ticks": ""
           },
           "baxis": {
            "gridcolor": "white",
            "linecolor": "white",
            "ticks": ""
           },
           "bgcolor": "#E5ECF6",
           "caxis": {
            "gridcolor": "white",
            "linecolor": "white",
            "ticks": ""
           }
          },
          "title": {
           "x": 0.05
          },
          "xaxis": {
           "automargin": true,
           "gridcolor": "white",
           "linecolor": "white",
           "ticks": "",
           "title": {
            "standoff": 15
           },
           "zerolinecolor": "white",
           "zerolinewidth": 2
          },
          "yaxis": {
           "automargin": true,
           "gridcolor": "white",
           "linecolor": "white",
           "ticks": "",
           "title": {
            "standoff": 15
           },
           "zerolinecolor": "white",
           "zerolinewidth": 2
          }
         }
        },
        "title": {
         "text": "Diferencia porcentual mes a mes"
        },
        "width": 1200,
        "xaxis": {
         "anchor": "y",
         "domain": [
          0,
          1
         ],
         "tickangle": 45,
         "tickformat": "%b-%Y"
        },
        "xaxis2": {
         "anchor": "y2",
         "domain": [
          0,
          1
         ],
         "tickangle": 45,
         "tickformat": "%b-%Y"
        },
        "xaxis3": {
         "anchor": "y3",
         "domain": [
          0,
          1
         ],
         "tickangle": 45,
         "tickformat": "%b-%Y"
        },
        "yaxis": {
         "anchor": "x",
         "domain": [
          0.7466666666666667,
          1
         ],
         "title": {
          "text": "% Dif."
         },
         "zeroline": true,
         "zerolinecolor": "gray"
        },
        "yaxis2": {
         "anchor": "x2",
         "domain": [
          0.37333333333333335,
          0.6266666666666667
         ],
         "title": {
          "text": "% Dif."
         },
         "zeroline": true,
         "zerolinecolor": "gray"
        },
        "yaxis3": {
         "anchor": "x3",
         "domain": [
          0,
          0.25333333333333335
         ],
         "title": {
          "text": "% Dif."
         },
         "zeroline": true,
         "zerolinecolor": "gray"
        }
       }
      }
     },
     "metadata": {},
     "output_type": "display_data"
    }
   ],
   "source": [
    "# Calcular diferencias antes de crear df_hist_tabla y los escenarios\n",
    "\n",
    "def calc_diff(df, col, first_ref=None):\n",
    "    diffs = df[col].pct_change() * 100\n",
    "    if first_ref is not None and len(diffs) > 0:\n",
    "        # Reemplaza el primer valor NaN por la diferencia con el último valor del histórico\n",
    "        diffs.iloc[0] = 100 * (df[col].iloc[0] - first_ref) / ((abs(df[col].iloc[0]) + abs(first_ref)) / 2)\n",
    "    return diffs\n",
    "\n",
    "# Último valor real del histórico (desescalado)\n",
    "last_hist = target_scaler.inverse_transform(df_hist[['y_scaled']]).flatten()[-1]\n",
    "\n",
    "# Calcular diferencias\n",
    "# Histórico: normal\n",
    "# Escenarios: primer punto vs último histórico\n",
    "df_hist['DIF_PCT'] = calc_diff(df_hist, 'y')\n",
    "df_fcst1['DIF_PCT'] = calc_diff(df_fcst1, 'CANTIDAD_VENDIDA_PRED', first_ref=last_hist)\n",
    "df_fcst2['DIF_PCT'] = calc_diff(df_fcst2, 'CANTIDAD_VENDIDA_PRED', first_ref=last_hist)\n",
    "\n",
    "# Unificar histórico y escenarios en una sola tabla para análisis y exportación\n",
    "\n",
    "# Copias para no modificar los originales\n",
    "df_hist_tabla = df_hist[['ds', 'REGION_CATEGORIA_PRODUCTO', 'y', 'DIF_PCT']].copy()\n",
    "df_hist_tabla['TIPO'] = 'HISTÓRICO'\n",
    "df_hist_tabla = df_hist_tabla.rename(columns={'y': 'M3_PRODUCTO'})\n",
    "df_hist_tabla['IC_95_LOWER'] = np.nan\n",
    "df_hist_tabla['IC_95_UPPER'] = np.nan\n",
    "\n",
    "# Escenario 1\n",
    "sc1 = df_fcst1[['ds', 'REGION_CATEGORIA_PRODUCTO', 'CANTIDAD_VENDIDA_PRED', 'IC_95_LOWER', 'IC_95_UPPER', 'DIF_PCT']].copy()\n",
    "sc1['TIPO'] = 'ESCENARIO 1'\n",
    "sc1 = sc1.rename(columns={'CANTIDAD_VENDIDA_PRED': 'M3_PRODUCTO'})\n",
    "\n",
    "# Escenario 2\n",
    "sc2 = df_fcst2[['ds', 'REGION_CATEGORIA_PRODUCTO', 'CANTIDAD_VENDIDA_PRED', 'IC_95_LOWER', 'IC_95_UPPER', 'DIF_PCT']].copy()\n",
    "sc2['TIPO'] = 'ESCENARIO 2'\n",
    "sc2 = sc2.rename(columns={'CANTIDAD_VENDIDA_PRED': 'M3_PRODUCTO'})\n",
    "\n",
    "# Unir todo\n",
    "df_resultados = pd.concat([df_hist_tabla, sc1, sc2], ignore_index=True)\n",
    "\n",
    "# Split de REGION_CATEGORIA_PRODUCTO\n",
    "df_resultados[['REGION', 'CATEGORIA', 'PRODUCTO']] = df_resultados['REGION_CATEGORIA_PRODUCTO'].str.split('-', n=2, expand=True)\n",
    "\n",
    "# Renombrar y reordenar columnas a mayúsculas\n",
    "df_resultados = df_resultados.rename(columns={\n",
    "    'REGION_CATEGORIA_PRODUCTO': 'REGION_CATEGORIA_PRODUCTO',\n",
    "    'ds': 'FECHA',\n",
    "    'TIPO': 'TIPO',\n",
    "    'M3_PRODUCTO': 'M3_PRODUCTO',\n",
    "    'IC_95_LOWER': 'IC_95_LOWER',\n",
    "    'IC_95_UPPER': 'IC_95_UPPER',\n",
    "    'DIF_PCT': 'DIF_PCT',\n",
    "    'REGION': 'REGION',\n",
    "    'CATEGORIA': 'CATEGORIA',\n",
    "    'PRODUCTO': 'PRODUCTO'\n",
    "})\n",
    "\n",
    "# Orden final de columnas\n",
    "columnas_final = [\n",
    "    'REGION_CATEGORIA_PRODUCTO',\n",
    "    'REGION', 'CATEGORIA', 'PRODUCTO',\n",
    "    'FECHA', 'TIPO', 'M3_PRODUCTO', 'IC_95_LOWER', 'IC_95_UPPER', 'DIF_PCT'\n",
    "]\n",
    "df_resultados = df_resultados[columnas_final]\n",
    "\n",
    "# Convertir nombres de columnas a mayúsculas (por si acaso)\n",
    "df_resultados.columns = [c.upper() for c in df_resultados.columns]\n",
    "\n",
    "# Mostrar tabla final\n",
    "print(df_resultados.head())\n",
    "df_resultados\n",
    "\n",
    "\n",
    "get_colors = lambda difs: [\n",
    "    'green' if d > 0 else 'yellow' if d == 0 else 'red' for d in difs\n",
    "]\n",
    "\n",
    "fig = sp.make_subplots(\n",
    "    rows=3, cols=1, \n",
    "    subplot_titles=['Histórico', 'Escenario 1', 'Escenario 2'],\n",
    "    vertical_spacing=0.12\n",
    ")\n",
    "\n",
    "# 1. Histórico\n",
    "fig.add_trace(\n",
    "    go.Bar(\n",
    "        x=df_hist['ds'],\n",
    "        y=df_hist['DIF_PCT'],\n",
    "        marker_color=get_colors(df_hist['DIF_PCT']),\n",
    "        text=[f'{v:.1f}%' if not pd.isnull(v) else '' for v in df_hist['DIF_PCT']],\n",
    "        textposition='outside',\n",
    "        name='Histórico',\n",
    "        width=20*24*60*60*1000\n",
    "    ), row=1, col=1\n",
    ")\n",
    "# 2. Escenario 1\n",
    "fig.add_trace(\n",
    "    go.Bar(\n",
    "        x=df_fcst1['ds'],\n",
    "        y=df_fcst1['DIF_PCT'],\n",
    "        marker_color=get_colors(df_fcst1['DIF_PCT']),\n",
    "        text=[f'{v:.1f}%' if not pd.isnull(v) else '' for v in df_fcst1['DIF_PCT']],\n",
    "        textposition='outside',\n",
    "        name='Escenario 1',\n",
    "        width=20*24*60*60*1000\n",
    "    ), row=2, col=1\n",
    ")\n",
    "# 3. Escenario 2\n",
    "fig.add_trace(\n",
    "    go.Bar(\n",
    "        x=df_fcst2['ds'],\n",
    "        y=df_fcst2['DIF_PCT'],\n",
    "        marker_color=get_colors(df_fcst2['DIF_PCT']),\n",
    "        text=[f'{v:.1f}%' if not pd.isnull(v) else '' for v in df_fcst2['DIF_PCT']],\n",
    "        textposition='outside',\n",
    "        name='Escenario 2',\n",
    "        width=20*24*60*60*1000\n",
    "    ), row=3, col=1\n",
    ")\n",
    "\n",
    "fig.update_layout(\n",
    "    title_text='Diferencia porcentual mes a mes',\n",
    "    showlegend=False,\n",
    "    height=1300,\n",
    "    width=1200,\n",
    "    bargap=0.25,\n",
    "    font=dict(size=12),\n",
    "    margin=dict(t=40, l=40, r=40, b=40)\n",
    ")\n",
    "for i in range(1, 4):\n",
    "    fig.update_yaxes(title_text='% Dif.', row=i, col=1, zeroline=True, zerolinecolor='gray')\n",
    "    fig.update_xaxes(tickformat='%b-%Y', row=i, col=1, tickangle=45)\n",
    "fig.show()"
   ]
  },
  {
   "cell_type": "code",
   "execution_count": 91,
   "id": "beac1f75",
   "metadata": {},
   "outputs": [
    {
     "name": "stdout",
     "output_type": "stream",
     "text": [
      "(53, 10)\n"
     ]
    },
    {
     "data": {
      "application/vnd.microsoft.datawrangler.viewer.v0+json": {
       "columns": [
        {
         "name": "index",
         "rawType": "int64",
         "type": "integer"
        },
        {
         "name": "REGION_CATEGORIA_PRODUCTO",
         "rawType": "object",
         "type": "string"
        },
        {
         "name": "REGION",
         "rawType": "object",
         "type": "string"
        },
        {
         "name": "CATEGORIA",
         "rawType": "object",
         "type": "string"
        },
        {
         "name": "PRODUCTO",
         "rawType": "object",
         "type": "string"
        },
        {
         "name": "FECHA",
         "rawType": "datetime64[ns]",
         "type": "datetime"
        },
        {
         "name": "TIPO",
         "rawType": "object",
         "type": "string"
        },
        {
         "name": "M3_PRODUCTO",
         "rawType": "float64",
         "type": "float"
        },
        {
         "name": "IC_95_LOWER",
         "rawType": "float64",
         "type": "float"
        },
        {
         "name": "IC_95_UPPER",
         "rawType": "float64",
         "type": "float"
        },
        {
         "name": "DIF_PCT",
         "rawType": "float64",
         "type": "float"
        }
       ],
       "ref": "f628bba9-9e5d-408d-b78d-6ca0613a1fc6",
       "rows": [
        [
         "0",
         "Antioquia-Agua-Agua con Gas 500mL x 6uds",
         "Antioquia",
         "Agua",
         "Agua con Gas 500mL x 6uds",
         "2023-01-01 00:00:00",
         "HISTÓRICO",
         "5.514",
         null,
         null,
         null
        ],
        [
         "1",
         "Antioquia-Agua-Agua con Gas 500mL x 6uds",
         "Antioquia",
         "Agua",
         "Agua con Gas 500mL x 6uds",
         "2023-02-01 00:00:00",
         "HISTÓRICO",
         "5.166",
         null,
         null,
         "-6.311207834602827"
        ],
        [
         "2",
         "Antioquia-Agua-Agua con Gas 500mL x 6uds",
         "Antioquia",
         "Agua",
         "Agua con Gas 500mL x 6uds",
         "2023-03-01 00:00:00",
         "HISTÓRICO",
         "4.575",
         null,
         null,
         "-11.440185830429739"
        ],
        [
         "3",
         "Antioquia-Agua-Agua con Gas 500mL x 6uds",
         "Antioquia",
         "Agua",
         "Agua con Gas 500mL x 6uds",
         "2023-04-01 00:00:00",
         "HISTÓRICO",
         "6.525",
         null,
         null,
         "42.622950819672134"
        ],
        [
         "4",
         "Antioquia-Agua-Agua con Gas 500mL x 6uds",
         "Antioquia",
         "Agua",
         "Agua con Gas 500mL x 6uds",
         "2023-05-01 00:00:00",
         "HISTÓRICO",
         "5.571",
         null,
         null,
         "-14.620689655172425"
        ],
        [
         "5",
         "Antioquia-Agua-Agua con Gas 500mL x 6uds",
         "Antioquia",
         "Agua",
         "Agua con Gas 500mL x 6uds",
         "2023-06-01 00:00:00",
         "HISTÓRICO",
         "6.81",
         null,
         null,
         "22.24017232094777"
        ],
        [
         "6",
         "Antioquia-Agua-Agua con Gas 500mL x 6uds",
         "Antioquia",
         "Agua",
         "Agua con Gas 500mL x 6uds",
         "2023-07-01 00:00:00",
         "HISTÓRICO",
         "7.443",
         null,
         null,
         "9.295154185022025"
        ],
        [
         "7",
         "Antioquia-Agua-Agua con Gas 500mL x 6uds",
         "Antioquia",
         "Agua",
         "Agua con Gas 500mL x 6uds",
         "2023-08-01 00:00:00",
         "HISTÓRICO",
         "9.138",
         null,
         null,
         "22.773075372833528"
        ],
        [
         "8",
         "Antioquia-Agua-Agua con Gas 500mL x 6uds",
         "Antioquia",
         "Agua",
         "Agua con Gas 500mL x 6uds",
         "2023-09-01 00:00:00",
         "HISTÓRICO",
         "9.303",
         null,
         null,
         "1.8056467498358542"
        ],
        [
         "9",
         "Antioquia-Agua-Agua con Gas 500mL x 6uds",
         "Antioquia",
         "Agua",
         "Agua con Gas 500mL x 6uds",
         "2023-10-01 00:00:00",
         "HISTÓRICO",
         "7.665",
         null,
         null,
         "-17.607223476297975"
        ],
        [
         "10",
         "Antioquia-Agua-Agua con Gas 500mL x 6uds",
         "Antioquia",
         "Agua",
         "Agua con Gas 500mL x 6uds",
         "2023-11-01 00:00:00",
         "HISTÓRICO",
         "8.121",
         null,
         null,
         "5.949119373776912"
        ],
        [
         "11",
         "Antioquia-Agua-Agua con Gas 500mL x 6uds",
         "Antioquia",
         "Agua",
         "Agua con Gas 500mL x 6uds",
         "2023-12-01 00:00:00",
         "HISTÓRICO",
         "9.027",
         null,
         null,
         "11.156261544144797"
        ],
        [
         "12",
         "Antioquia-Agua-Agua con Gas 500mL x 6uds",
         "Antioquia",
         "Agua",
         "Agua con Gas 500mL x 6uds",
         "2024-01-01 00:00:00",
         "HISTÓRICO",
         "6.714",
         null,
         null,
         "-25.623130608175458"
        ],
        [
         "13",
         "Antioquia-Agua-Agua con Gas 500mL x 6uds",
         "Antioquia",
         "Agua",
         "Agua con Gas 500mL x 6uds",
         "2024-02-01 00:00:00",
         "HISTÓRICO",
         "7.635",
         null,
         null,
         "13.717605004468258"
        ],
        [
         "14",
         "Antioquia-Agua-Agua con Gas 500mL x 6uds",
         "Antioquia",
         "Agua",
         "Agua con Gas 500mL x 6uds",
         "2024-03-01 00:00:00",
         "HISTÓRICO",
         "9.411",
         null,
         null,
         "23.26129666011787"
        ],
        [
         "15",
         "Antioquia-Agua-Agua con Gas 500mL x 6uds",
         "Antioquia",
         "Agua",
         "Agua con Gas 500mL x 6uds",
         "2024-04-01 00:00:00",
         "HISTÓRICO",
         "8.529",
         null,
         null,
         "-9.372011475932418"
        ],
        [
         "16",
         "Antioquia-Agua-Agua con Gas 500mL x 6uds",
         "Antioquia",
         "Agua",
         "Agua con Gas 500mL x 6uds",
         "2024-05-01 00:00:00",
         "HISTÓRICO",
         "7.545",
         null,
         null,
         "-11.537108688005626"
        ],
        [
         "17",
         "Antioquia-Agua-Agua con Gas 500mL x 6uds",
         "Antioquia",
         "Agua",
         "Agua con Gas 500mL x 6uds",
         "2024-06-01 00:00:00",
         "HISTÓRICO",
         "9.624",
         null,
         null,
         "27.55467196819086"
        ],
        [
         "18",
         "Antioquia-Agua-Agua con Gas 500mL x 6uds",
         "Antioquia",
         "Agua",
         "Agua con Gas 500mL x 6uds",
         "2024-07-01 00:00:00",
         "HISTÓRICO",
         "10.257",
         null,
         null,
         "6.5773067331670765"
        ],
        [
         "19",
         "Antioquia-Agua-Agua con Gas 500mL x 6uds",
         "Antioquia",
         "Agua",
         "Agua con Gas 500mL x 6uds",
         "2024-08-01 00:00:00",
         "HISTÓRICO",
         "12.642",
         null,
         null,
         "23.25241298625329"
        ],
        [
         "20",
         "Antioquia-Agua-Agua con Gas 500mL x 6uds",
         "Antioquia",
         "Agua",
         "Agua con Gas 500mL x 6uds",
         "2024-09-01 00:00:00",
         "HISTÓRICO",
         "11.844",
         null,
         null,
         "-6.312292358803983"
        ],
        [
         "21",
         "Antioquia-Agua-Agua con Gas 500mL x 6uds",
         "Antioquia",
         "Agua",
         "Agua con Gas 500mL x 6uds",
         "2024-10-01 00:00:00",
         "HISTÓRICO",
         "13.263",
         null,
         null,
         "11.980749746707197"
        ],
        [
         "22",
         "Antioquia-Agua-Agua con Gas 500mL x 6uds",
         "Antioquia",
         "Agua",
         "Agua con Gas 500mL x 6uds",
         "2024-11-01 00:00:00",
         "HISTÓRICO",
         "9.597",
         null,
         null,
         "-27.64080524768152"
        ],
        [
         "23",
         "Antioquia-Agua-Agua con Gas 500mL x 6uds",
         "Antioquia",
         "Agua",
         "Agua con Gas 500mL x 6uds",
         "2024-12-01 00:00:00",
         "HISTÓRICO",
         "11.634",
         null,
         null,
         "21.225382932166315"
        ],
        [
         "24",
         "Antioquia-Agua-Agua con Gas 500mL x 6uds",
         "Antioquia",
         "Agua",
         "Agua con Gas 500mL x 6uds",
         "2025-01-01 00:00:00",
         "HISTÓRICO",
         "9.459",
         null,
         null,
         "-18.69520371325426"
        ],
        [
         "25",
         "Antioquia-Agua-Agua con Gas 500mL x 6uds",
         "Antioquia",
         "Agua",
         "Agua con Gas 500mL x 6uds",
         "2025-02-01 00:00:00",
         "HISTÓRICO",
         "7.251",
         null,
         null,
         "-23.342848081192514"
        ],
        [
         "26",
         "Antioquia-Agua-Agua con Gas 500mL x 6uds",
         "Antioquia",
         "Agua",
         "Agua con Gas 500mL x 6uds",
         "2025-03-01 00:00:00",
         "HISTÓRICO",
         "7.857",
         null,
         null,
         "8.357467935457175"
        ],
        [
         "27",
         "Antioquia-Agua-Agua con Gas 500mL x 6uds",
         "Antioquia",
         "Agua",
         "Agua con Gas 500mL x 6uds",
         "2025-04-01 00:00:00",
         "HISTÓRICO",
         "8.553",
         null,
         null,
         "8.858342878961434"
        ],
        [
         "28",
         "Antioquia-Agua-Agua con Gas 500mL x 6uds",
         "Antioquia",
         "Agua",
         "Agua con Gas 500mL x 6uds",
         "2025-05-01 00:00:00",
         "HISTÓRICO",
         "9.189",
         null,
         null,
         "7.435987372851627"
        ],
        [
         "29",
         "Antioquia-Agua-Agua con Gas 500mL x 6uds",
         "Antioquia",
         "Agua",
         "Agua con Gas 500mL x 6uds",
         "2025-06-01 00:00:00",
         "ESCENARIO 1",
         "8.241376312763817",
         "7.508294174506493",
         "8.96904722965819",
         "-10.873244159878087"
        ],
        [
         "30",
         "Antioquia-Agua-Agua con Gas 500mL x 6uds",
         "Antioquia",
         "Agua",
         "Agua con Gas 500mL x 6uds",
         "2025-07-01 00:00:00",
         "ESCENARIO 1",
         "8.514935317808533",
         "7.785933390112964",
         "9.207446864681947",
         "3.31933641497526"
        ],
        [
         "31",
         "Antioquia-Agua-Agua con Gas 500mL x 6uds",
         "Antioquia",
         "Agua",
         "Agua con Gas 500mL x 6uds",
         "2025-08-01 00:00:00",
         "ESCENARIO 1",
         "10.695871621284011",
         "9.972235970134347",
         "11.43816172751215",
         "25.613069531064635"
        ],
        [
         "32",
         "Antioquia-Agua-Agua con Gas 500mL x 6uds",
         "Antioquia",
         "Agua",
         "Agua con Gas 500mL x 6uds",
         "2025-09-01 00:00:00",
         "ESCENARIO 1",
         "10.16303791805488",
         "9.418273805690491",
         "10.90291916135553",
         "-4.981676314895466"
        ],
        [
         "33",
         "Antioquia-Agua-Agua con Gas 500mL x 6uds",
         "Antioquia",
         "Agua",
         "Agua con Gas 500mL x 6uds",
         "2025-10-01 00:00:00",
         "ESCENARIO 1",
         "10.155469690052854",
         "9.39987276358847",
         "10.899984974584717",
         "-0.07446816653690069"
        ],
        [
         "34",
         "Antioquia-Agua-Agua con Gas 500mL x 6uds",
         "Antioquia",
         "Agua",
         "Agua con Gas 500mL x 6uds",
         "2025-11-01 00:00:00",
         "ESCENARIO 1",
         "7.358875628261149",
         "6.584205509651964",
         "8.064917718338267",
         "-27.53781112193099"
        ],
        [
         "35",
         "Antioquia-Agua-Agua con Gas 500mL x 6uds",
         "Antioquia",
         "Agua",
         "Agua con Gas 500mL x 6uds",
         "2025-12-01 00:00:00",
         "ESCENARIO 1",
         "9.100466444615426",
         "8.35139791777784",
         "9.8426888086832",
         "23.666534187177213"
        ],
        [
         "36",
         "Antioquia-Agua-Agua con Gas 500mL x 6uds",
         "Antioquia",
         "Agua",
         "Agua con Gas 500mL x 6uds",
         "2026-01-01 00:00:00",
         "ESCENARIO 1",
         "6.583845426869572",
         "5.907861662369218",
         "7.28207496822818",
         "-27.653758552506847"
        ],
        [
         "37",
         "Antioquia-Agua-Agua con Gas 500mL x 6uds",
         "Antioquia",
         "Agua",
         "Agua con Gas 500mL x 6uds",
         "2026-02-01 00:00:00",
         "ESCENARIO 1",
         "5.499674289369379",
         "4.780114970252867",
         "6.282746554893855",
         "-16.467141422785268"
        ],
        [
         "38",
         "Antioquia-Agua-Agua con Gas 500mL x 6uds",
         "Antioquia",
         "Agua",
         "Agua con Gas 500mL x 6uds",
         "2026-03-01 00:00:00",
         "ESCENARIO 1",
         "5.912040874284987",
         "5.163213428313945",
         "6.606896422249364",
         "7.498018304696585"
        ],
        [
         "39",
         "Antioquia-Agua-Agua con Gas 500mL x 6uds",
         "Antioquia",
         "Agua",
         "Agua con Gas 500mL x 6uds",
         "2026-04-01 00:00:00",
         "ESCENARIO 1",
         "6.9433352641259685",
         "6.202222829872557",
         "7.780142476789491",
         "17.44396582788694"
        ],
        [
         "40",
         "Antioquia-Agua-Agua con Gas 500mL x 6uds",
         "Antioquia",
         "Agua",
         "Agua con Gas 500mL x 6uds",
         "2026-05-01 00:00:00",
         "ESCENARIO 1",
         "6.192333504609392",
         "5.430017733502512",
         "6.948460067219171",
         "-10.816152914245214"
        ],
        [
         "41",
         "Antioquia-Agua-Agua con Gas 500mL x 6uds",
         "Antioquia",
         "Agua",
         "Agua con Gas 500mL x 6uds",
         "2025-06-01 00:00:00",
         "ESCENARIO 2",
         "12.893484239505176",
         "12.197203123204597",
         "13.669170267655804",
         "33.5513359758493"
        ],
        [
         "42",
         "Antioquia-Agua-Agua con Gas 500mL x 6uds",
         "Antioquia",
         "Agua",
         "Agua con Gas 500mL x 6uds",
         "2025-07-01 00:00:00",
         "ESCENARIO 2",
         "13.167043244549891",
         "12.388839616247985",
         "13.91004217038158",
         "2.1216840999932485"
        ],
        [
         "43",
         "Antioquia-Agua-Agua con Gas 500mL x 6uds",
         "Antioquia",
         "Agua",
         "Agua con Gas 500mL x 6uds",
         "2025-08-01 00:00:00",
         "ESCENARIO 2",
         "15.347979548025371",
         "14.654906573294518",
         "16.054180913449677",
         "16.563599457898135"
        ],
        [
         "44",
         "Antioquia-Agua-Agua con Gas 500mL x 6uds",
         "Antioquia",
         "Agua",
         "Agua con Gas 500mL x 6uds",
         "2025-09-01 00:00:00",
         "ESCENARIO 2",
         "14.349935052122106",
         "13.585592094511044",
         "15.05528509424905",
         "-6.50277447126043"
        ],
        [
         "45",
         "Antioquia-Agua-Agua con Gas 500mL x 6uds",
         "Antioquia",
         "Agua",
         "Agua con Gas 500mL x 6uds",
         "2025-10-01 00:00:00",
         "ESCENARIO 2",
         "14.342366824120077",
         "13.597981087603344",
         "15.079431947972537",
         "-0.052740503525205984"
        ],
        [
         "46",
         "Antioquia-Agua-Agua con Gas 500mL x 6uds",
         "Antioquia",
         "Agua",
         "Agua con Gas 500mL x 6uds",
         "2025-11-01 00:00:00",
         "ESCENARIO 2",
         "11.4513119074852",
         "10.730872696745024",
         "12.17448391149879",
         "-20.157446480680473"
        ],
        [
         "47",
         "Antioquia-Agua-Agua con Gas 500mL x 6uds",
         "Antioquia",
         "Agua",
         "Agua con Gas 500mL x 6uds",
         "2025-12-01 00:00:00",
         "ESCENARIO 2",
         "12.822152786008514",
         "12.111599887613622",
         "13.605699246290888",
         "11.971037812944886"
        ],
        [
         "48",
         "Antioquia-Agua-Agua con Gas 500mL x 6uds",
         "Antioquia",
         "Agua",
         "Agua con Gas 500mL x 6uds",
         "2026-01-01 00:00:00",
         "ESCENARIO 2",
         "10.305531768262659",
         "9.541794172507407",
         "11.077912165230385",
         "-19.627133288350628"
        ],
        [
         "49",
         "Antioquia-Agua-Agua con Gas 500mL x 6uds",
         "Antioquia",
         "Agua",
         "Agua con Gas 500mL x 6uds",
         "2026-02-01 00:00:00",
         "ESCENARIO 2",
         "8.850610692931504",
         "8.111967205169709",
         "9.622859151773007",
         "-14.117865123775463"
        ]
       ],
       "shape": {
        "columns": 10,
        "rows": 53
       }
      },
      "text/html": [
       "<div>\n",
       "<style scoped>\n",
       "    .dataframe tbody tr th:only-of-type {\n",
       "        vertical-align: middle;\n",
       "    }\n",
       "\n",
       "    .dataframe tbody tr th {\n",
       "        vertical-align: top;\n",
       "    }\n",
       "\n",
       "    .dataframe thead th {\n",
       "        text-align: right;\n",
       "    }\n",
       "</style>\n",
       "<table border=\"1\" class=\"dataframe\">\n",
       "  <thead>\n",
       "    <tr style=\"text-align: right;\">\n",
       "      <th></th>\n",
       "      <th>REGION_CATEGORIA_PRODUCTO</th>\n",
       "      <th>REGION</th>\n",
       "      <th>CATEGORIA</th>\n",
       "      <th>PRODUCTO</th>\n",
       "      <th>FECHA</th>\n",
       "      <th>TIPO</th>\n",
       "      <th>M3_PRODUCTO</th>\n",
       "      <th>IC_95_LOWER</th>\n",
       "      <th>IC_95_UPPER</th>\n",
       "      <th>DIF_PCT</th>\n",
       "    </tr>\n",
       "  </thead>\n",
       "  <tbody>\n",
       "    <tr>\n",
       "      <th>0</th>\n",
       "      <td>Antioquia-Agua-Agua con Gas 500mL x 6uds</td>\n",
       "      <td>Antioquia</td>\n",
       "      <td>Agua</td>\n",
       "      <td>Agua con Gas 500mL x 6uds</td>\n",
       "      <td>2023-01-01</td>\n",
       "      <td>HISTÓRICO</td>\n",
       "      <td>5.514000</td>\n",
       "      <td>NaN</td>\n",
       "      <td>NaN</td>\n",
       "      <td>NaN</td>\n",
       "    </tr>\n",
       "    <tr>\n",
       "      <th>1</th>\n",
       "      <td>Antioquia-Agua-Agua con Gas 500mL x 6uds</td>\n",
       "      <td>Antioquia</td>\n",
       "      <td>Agua</td>\n",
       "      <td>Agua con Gas 500mL x 6uds</td>\n",
       "      <td>2023-02-01</td>\n",
       "      <td>HISTÓRICO</td>\n",
       "      <td>5.166000</td>\n",
       "      <td>NaN</td>\n",
       "      <td>NaN</td>\n",
       "      <td>-6.311208</td>\n",
       "    </tr>\n",
       "    <tr>\n",
       "      <th>2</th>\n",
       "      <td>Antioquia-Agua-Agua con Gas 500mL x 6uds</td>\n",
       "      <td>Antioquia</td>\n",
       "      <td>Agua</td>\n",
       "      <td>Agua con Gas 500mL x 6uds</td>\n",
       "      <td>2023-03-01</td>\n",
       "      <td>HISTÓRICO</td>\n",
       "      <td>4.575000</td>\n",
       "      <td>NaN</td>\n",
       "      <td>NaN</td>\n",
       "      <td>-11.440186</td>\n",
       "    </tr>\n",
       "    <tr>\n",
       "      <th>3</th>\n",
       "      <td>Antioquia-Agua-Agua con Gas 500mL x 6uds</td>\n",
       "      <td>Antioquia</td>\n",
       "      <td>Agua</td>\n",
       "      <td>Agua con Gas 500mL x 6uds</td>\n",
       "      <td>2023-04-01</td>\n",
       "      <td>HISTÓRICO</td>\n",
       "      <td>6.525000</td>\n",
       "      <td>NaN</td>\n",
       "      <td>NaN</td>\n",
       "      <td>42.622951</td>\n",
       "    </tr>\n",
       "    <tr>\n",
       "      <th>4</th>\n",
       "      <td>Antioquia-Agua-Agua con Gas 500mL x 6uds</td>\n",
       "      <td>Antioquia</td>\n",
       "      <td>Agua</td>\n",
       "      <td>Agua con Gas 500mL x 6uds</td>\n",
       "      <td>2023-05-01</td>\n",
       "      <td>HISTÓRICO</td>\n",
       "      <td>5.571000</td>\n",
       "      <td>NaN</td>\n",
       "      <td>NaN</td>\n",
       "      <td>-14.620690</td>\n",
       "    </tr>\n",
       "    <tr>\n",
       "      <th>5</th>\n",
       "      <td>Antioquia-Agua-Agua con Gas 500mL x 6uds</td>\n",
       "      <td>Antioquia</td>\n",
       "      <td>Agua</td>\n",
       "      <td>Agua con Gas 500mL x 6uds</td>\n",
       "      <td>2023-06-01</td>\n",
       "      <td>HISTÓRICO</td>\n",
       "      <td>6.810000</td>\n",
       "      <td>NaN</td>\n",
       "      <td>NaN</td>\n",
       "      <td>22.240172</td>\n",
       "    </tr>\n",
       "    <tr>\n",
       "      <th>6</th>\n",
       "      <td>Antioquia-Agua-Agua con Gas 500mL x 6uds</td>\n",
       "      <td>Antioquia</td>\n",
       "      <td>Agua</td>\n",
       "      <td>Agua con Gas 500mL x 6uds</td>\n",
       "      <td>2023-07-01</td>\n",
       "      <td>HISTÓRICO</td>\n",
       "      <td>7.443000</td>\n",
       "      <td>NaN</td>\n",
       "      <td>NaN</td>\n",
       "      <td>9.295154</td>\n",
       "    </tr>\n",
       "    <tr>\n",
       "      <th>7</th>\n",
       "      <td>Antioquia-Agua-Agua con Gas 500mL x 6uds</td>\n",
       "      <td>Antioquia</td>\n",
       "      <td>Agua</td>\n",
       "      <td>Agua con Gas 500mL x 6uds</td>\n",
       "      <td>2023-08-01</td>\n",
       "      <td>HISTÓRICO</td>\n",
       "      <td>9.138000</td>\n",
       "      <td>NaN</td>\n",
       "      <td>NaN</td>\n",
       "      <td>22.773075</td>\n",
       "    </tr>\n",
       "    <tr>\n",
       "      <th>8</th>\n",
       "      <td>Antioquia-Agua-Agua con Gas 500mL x 6uds</td>\n",
       "      <td>Antioquia</td>\n",
       "      <td>Agua</td>\n",
       "      <td>Agua con Gas 500mL x 6uds</td>\n",
       "      <td>2023-09-01</td>\n",
       "      <td>HISTÓRICO</td>\n",
       "      <td>9.303000</td>\n",
       "      <td>NaN</td>\n",
       "      <td>NaN</td>\n",
       "      <td>1.805647</td>\n",
       "    </tr>\n",
       "    <tr>\n",
       "      <th>9</th>\n",
       "      <td>Antioquia-Agua-Agua con Gas 500mL x 6uds</td>\n",
       "      <td>Antioquia</td>\n",
       "      <td>Agua</td>\n",
       "      <td>Agua con Gas 500mL x 6uds</td>\n",
       "      <td>2023-10-01</td>\n",
       "      <td>HISTÓRICO</td>\n",
       "      <td>7.665000</td>\n",
       "      <td>NaN</td>\n",
       "      <td>NaN</td>\n",
       "      <td>-17.607223</td>\n",
       "    </tr>\n",
       "    <tr>\n",
       "      <th>10</th>\n",
       "      <td>Antioquia-Agua-Agua con Gas 500mL x 6uds</td>\n",
       "      <td>Antioquia</td>\n",
       "      <td>Agua</td>\n",
       "      <td>Agua con Gas 500mL x 6uds</td>\n",
       "      <td>2023-11-01</td>\n",
       "      <td>HISTÓRICO</td>\n",
       "      <td>8.121000</td>\n",
       "      <td>NaN</td>\n",
       "      <td>NaN</td>\n",
       "      <td>5.949119</td>\n",
       "    </tr>\n",
       "    <tr>\n",
       "      <th>11</th>\n",
       "      <td>Antioquia-Agua-Agua con Gas 500mL x 6uds</td>\n",
       "      <td>Antioquia</td>\n",
       "      <td>Agua</td>\n",
       "      <td>Agua con Gas 500mL x 6uds</td>\n",
       "      <td>2023-12-01</td>\n",
       "      <td>HISTÓRICO</td>\n",
       "      <td>9.027000</td>\n",
       "      <td>NaN</td>\n",
       "      <td>NaN</td>\n",
       "      <td>11.156262</td>\n",
       "    </tr>\n",
       "    <tr>\n",
       "      <th>12</th>\n",
       "      <td>Antioquia-Agua-Agua con Gas 500mL x 6uds</td>\n",
       "      <td>Antioquia</td>\n",
       "      <td>Agua</td>\n",
       "      <td>Agua con Gas 500mL x 6uds</td>\n",
       "      <td>2024-01-01</td>\n",
       "      <td>HISTÓRICO</td>\n",
       "      <td>6.714000</td>\n",
       "      <td>NaN</td>\n",
       "      <td>NaN</td>\n",
       "      <td>-25.623131</td>\n",
       "    </tr>\n",
       "    <tr>\n",
       "      <th>13</th>\n",
       "      <td>Antioquia-Agua-Agua con Gas 500mL x 6uds</td>\n",
       "      <td>Antioquia</td>\n",
       "      <td>Agua</td>\n",
       "      <td>Agua con Gas 500mL x 6uds</td>\n",
       "      <td>2024-02-01</td>\n",
       "      <td>HISTÓRICO</td>\n",
       "      <td>7.635000</td>\n",
       "      <td>NaN</td>\n",
       "      <td>NaN</td>\n",
       "      <td>13.717605</td>\n",
       "    </tr>\n",
       "    <tr>\n",
       "      <th>14</th>\n",
       "      <td>Antioquia-Agua-Agua con Gas 500mL x 6uds</td>\n",
       "      <td>Antioquia</td>\n",
       "      <td>Agua</td>\n",
       "      <td>Agua con Gas 500mL x 6uds</td>\n",
       "      <td>2024-03-01</td>\n",
       "      <td>HISTÓRICO</td>\n",
       "      <td>9.411000</td>\n",
       "      <td>NaN</td>\n",
       "      <td>NaN</td>\n",
       "      <td>23.261297</td>\n",
       "    </tr>\n",
       "    <tr>\n",
       "      <th>15</th>\n",
       "      <td>Antioquia-Agua-Agua con Gas 500mL x 6uds</td>\n",
       "      <td>Antioquia</td>\n",
       "      <td>Agua</td>\n",
       "      <td>Agua con Gas 500mL x 6uds</td>\n",
       "      <td>2024-04-01</td>\n",
       "      <td>HISTÓRICO</td>\n",
       "      <td>8.529000</td>\n",
       "      <td>NaN</td>\n",
       "      <td>NaN</td>\n",
       "      <td>-9.372011</td>\n",
       "    </tr>\n",
       "    <tr>\n",
       "      <th>16</th>\n",
       "      <td>Antioquia-Agua-Agua con Gas 500mL x 6uds</td>\n",
       "      <td>Antioquia</td>\n",
       "      <td>Agua</td>\n",
       "      <td>Agua con Gas 500mL x 6uds</td>\n",
       "      <td>2024-05-01</td>\n",
       "      <td>HISTÓRICO</td>\n",
       "      <td>7.545000</td>\n",
       "      <td>NaN</td>\n",
       "      <td>NaN</td>\n",
       "      <td>-11.537109</td>\n",
       "    </tr>\n",
       "    <tr>\n",
       "      <th>17</th>\n",
       "      <td>Antioquia-Agua-Agua con Gas 500mL x 6uds</td>\n",
       "      <td>Antioquia</td>\n",
       "      <td>Agua</td>\n",
       "      <td>Agua con Gas 500mL x 6uds</td>\n",
       "      <td>2024-06-01</td>\n",
       "      <td>HISTÓRICO</td>\n",
       "      <td>9.624000</td>\n",
       "      <td>NaN</td>\n",
       "      <td>NaN</td>\n",
       "      <td>27.554672</td>\n",
       "    </tr>\n",
       "    <tr>\n",
       "      <th>18</th>\n",
       "      <td>Antioquia-Agua-Agua con Gas 500mL x 6uds</td>\n",
       "      <td>Antioquia</td>\n",
       "      <td>Agua</td>\n",
       "      <td>Agua con Gas 500mL x 6uds</td>\n",
       "      <td>2024-07-01</td>\n",
       "      <td>HISTÓRICO</td>\n",
       "      <td>10.257000</td>\n",
       "      <td>NaN</td>\n",
       "      <td>NaN</td>\n",
       "      <td>6.577307</td>\n",
       "    </tr>\n",
       "    <tr>\n",
       "      <th>19</th>\n",
       "      <td>Antioquia-Agua-Agua con Gas 500mL x 6uds</td>\n",
       "      <td>Antioquia</td>\n",
       "      <td>Agua</td>\n",
       "      <td>Agua con Gas 500mL x 6uds</td>\n",
       "      <td>2024-08-01</td>\n",
       "      <td>HISTÓRICO</td>\n",
       "      <td>12.642000</td>\n",
       "      <td>NaN</td>\n",
       "      <td>NaN</td>\n",
       "      <td>23.252413</td>\n",
       "    </tr>\n",
       "    <tr>\n",
       "      <th>20</th>\n",
       "      <td>Antioquia-Agua-Agua con Gas 500mL x 6uds</td>\n",
       "      <td>Antioquia</td>\n",
       "      <td>Agua</td>\n",
       "      <td>Agua con Gas 500mL x 6uds</td>\n",
       "      <td>2024-09-01</td>\n",
       "      <td>HISTÓRICO</td>\n",
       "      <td>11.844000</td>\n",
       "      <td>NaN</td>\n",
       "      <td>NaN</td>\n",
       "      <td>-6.312292</td>\n",
       "    </tr>\n",
       "    <tr>\n",
       "      <th>21</th>\n",
       "      <td>Antioquia-Agua-Agua con Gas 500mL x 6uds</td>\n",
       "      <td>Antioquia</td>\n",
       "      <td>Agua</td>\n",
       "      <td>Agua con Gas 500mL x 6uds</td>\n",
       "      <td>2024-10-01</td>\n",
       "      <td>HISTÓRICO</td>\n",
       "      <td>13.263000</td>\n",
       "      <td>NaN</td>\n",
       "      <td>NaN</td>\n",
       "      <td>11.980750</td>\n",
       "    </tr>\n",
       "    <tr>\n",
       "      <th>22</th>\n",
       "      <td>Antioquia-Agua-Agua con Gas 500mL x 6uds</td>\n",
       "      <td>Antioquia</td>\n",
       "      <td>Agua</td>\n",
       "      <td>Agua con Gas 500mL x 6uds</td>\n",
       "      <td>2024-11-01</td>\n",
       "      <td>HISTÓRICO</td>\n",
       "      <td>9.597000</td>\n",
       "      <td>NaN</td>\n",
       "      <td>NaN</td>\n",
       "      <td>-27.640805</td>\n",
       "    </tr>\n",
       "    <tr>\n",
       "      <th>23</th>\n",
       "      <td>Antioquia-Agua-Agua con Gas 500mL x 6uds</td>\n",
       "      <td>Antioquia</td>\n",
       "      <td>Agua</td>\n",
       "      <td>Agua con Gas 500mL x 6uds</td>\n",
       "      <td>2024-12-01</td>\n",
       "      <td>HISTÓRICO</td>\n",
       "      <td>11.634000</td>\n",
       "      <td>NaN</td>\n",
       "      <td>NaN</td>\n",
       "      <td>21.225383</td>\n",
       "    </tr>\n",
       "    <tr>\n",
       "      <th>24</th>\n",
       "      <td>Antioquia-Agua-Agua con Gas 500mL x 6uds</td>\n",
       "      <td>Antioquia</td>\n",
       "      <td>Agua</td>\n",
       "      <td>Agua con Gas 500mL x 6uds</td>\n",
       "      <td>2025-01-01</td>\n",
       "      <td>HISTÓRICO</td>\n",
       "      <td>9.459000</td>\n",
       "      <td>NaN</td>\n",
       "      <td>NaN</td>\n",
       "      <td>-18.695204</td>\n",
       "    </tr>\n",
       "    <tr>\n",
       "      <th>25</th>\n",
       "      <td>Antioquia-Agua-Agua con Gas 500mL x 6uds</td>\n",
       "      <td>Antioquia</td>\n",
       "      <td>Agua</td>\n",
       "      <td>Agua con Gas 500mL x 6uds</td>\n",
       "      <td>2025-02-01</td>\n",
       "      <td>HISTÓRICO</td>\n",
       "      <td>7.251000</td>\n",
       "      <td>NaN</td>\n",
       "      <td>NaN</td>\n",
       "      <td>-23.342848</td>\n",
       "    </tr>\n",
       "    <tr>\n",
       "      <th>26</th>\n",
       "      <td>Antioquia-Agua-Agua con Gas 500mL x 6uds</td>\n",
       "      <td>Antioquia</td>\n",
       "      <td>Agua</td>\n",
       "      <td>Agua con Gas 500mL x 6uds</td>\n",
       "      <td>2025-03-01</td>\n",
       "      <td>HISTÓRICO</td>\n",
       "      <td>7.857000</td>\n",
       "      <td>NaN</td>\n",
       "      <td>NaN</td>\n",
       "      <td>8.357468</td>\n",
       "    </tr>\n",
       "    <tr>\n",
       "      <th>27</th>\n",
       "      <td>Antioquia-Agua-Agua con Gas 500mL x 6uds</td>\n",
       "      <td>Antioquia</td>\n",
       "      <td>Agua</td>\n",
       "      <td>Agua con Gas 500mL x 6uds</td>\n",
       "      <td>2025-04-01</td>\n",
       "      <td>HISTÓRICO</td>\n",
       "      <td>8.553000</td>\n",
       "      <td>NaN</td>\n",
       "      <td>NaN</td>\n",
       "      <td>8.858343</td>\n",
       "    </tr>\n",
       "    <tr>\n",
       "      <th>28</th>\n",
       "      <td>Antioquia-Agua-Agua con Gas 500mL x 6uds</td>\n",
       "      <td>Antioquia</td>\n",
       "      <td>Agua</td>\n",
       "      <td>Agua con Gas 500mL x 6uds</td>\n",
       "      <td>2025-05-01</td>\n",
       "      <td>HISTÓRICO</td>\n",
       "      <td>9.189000</td>\n",
       "      <td>NaN</td>\n",
       "      <td>NaN</td>\n",
       "      <td>7.435987</td>\n",
       "    </tr>\n",
       "    <tr>\n",
       "      <th>29</th>\n",
       "      <td>Antioquia-Agua-Agua con Gas 500mL x 6uds</td>\n",
       "      <td>Antioquia</td>\n",
       "      <td>Agua</td>\n",
       "      <td>Agua con Gas 500mL x 6uds</td>\n",
       "      <td>2025-06-01</td>\n",
       "      <td>ESCENARIO 1</td>\n",
       "      <td>8.241376</td>\n",
       "      <td>7.508294</td>\n",
       "      <td>8.969047</td>\n",
       "      <td>-10.873244</td>\n",
       "    </tr>\n",
       "    <tr>\n",
       "      <th>30</th>\n",
       "      <td>Antioquia-Agua-Agua con Gas 500mL x 6uds</td>\n",
       "      <td>Antioquia</td>\n",
       "      <td>Agua</td>\n",
       "      <td>Agua con Gas 500mL x 6uds</td>\n",
       "      <td>2025-07-01</td>\n",
       "      <td>ESCENARIO 1</td>\n",
       "      <td>8.514935</td>\n",
       "      <td>7.785933</td>\n",
       "      <td>9.207447</td>\n",
       "      <td>3.319336</td>\n",
       "    </tr>\n",
       "    <tr>\n",
       "      <th>31</th>\n",
       "      <td>Antioquia-Agua-Agua con Gas 500mL x 6uds</td>\n",
       "      <td>Antioquia</td>\n",
       "      <td>Agua</td>\n",
       "      <td>Agua con Gas 500mL x 6uds</td>\n",
       "      <td>2025-08-01</td>\n",
       "      <td>ESCENARIO 1</td>\n",
       "      <td>10.695872</td>\n",
       "      <td>9.972236</td>\n",
       "      <td>11.438162</td>\n",
       "      <td>25.613070</td>\n",
       "    </tr>\n",
       "    <tr>\n",
       "      <th>32</th>\n",
       "      <td>Antioquia-Agua-Agua con Gas 500mL x 6uds</td>\n",
       "      <td>Antioquia</td>\n",
       "      <td>Agua</td>\n",
       "      <td>Agua con Gas 500mL x 6uds</td>\n",
       "      <td>2025-09-01</td>\n",
       "      <td>ESCENARIO 1</td>\n",
       "      <td>10.163038</td>\n",
       "      <td>9.418274</td>\n",
       "      <td>10.902919</td>\n",
       "      <td>-4.981676</td>\n",
       "    </tr>\n",
       "    <tr>\n",
       "      <th>33</th>\n",
       "      <td>Antioquia-Agua-Agua con Gas 500mL x 6uds</td>\n",
       "      <td>Antioquia</td>\n",
       "      <td>Agua</td>\n",
       "      <td>Agua con Gas 500mL x 6uds</td>\n",
       "      <td>2025-10-01</td>\n",
       "      <td>ESCENARIO 1</td>\n",
       "      <td>10.155470</td>\n",
       "      <td>9.399873</td>\n",
       "      <td>10.899985</td>\n",
       "      <td>-0.074468</td>\n",
       "    </tr>\n",
       "    <tr>\n",
       "      <th>34</th>\n",
       "      <td>Antioquia-Agua-Agua con Gas 500mL x 6uds</td>\n",
       "      <td>Antioquia</td>\n",
       "      <td>Agua</td>\n",
       "      <td>Agua con Gas 500mL x 6uds</td>\n",
       "      <td>2025-11-01</td>\n",
       "      <td>ESCENARIO 1</td>\n",
       "      <td>7.358876</td>\n",
       "      <td>6.584206</td>\n",
       "      <td>8.064918</td>\n",
       "      <td>-27.537811</td>\n",
       "    </tr>\n",
       "    <tr>\n",
       "      <th>35</th>\n",
       "      <td>Antioquia-Agua-Agua con Gas 500mL x 6uds</td>\n",
       "      <td>Antioquia</td>\n",
       "      <td>Agua</td>\n",
       "      <td>Agua con Gas 500mL x 6uds</td>\n",
       "      <td>2025-12-01</td>\n",
       "      <td>ESCENARIO 1</td>\n",
       "      <td>9.100466</td>\n",
       "      <td>8.351398</td>\n",
       "      <td>9.842689</td>\n",
       "      <td>23.666534</td>\n",
       "    </tr>\n",
       "    <tr>\n",
       "      <th>36</th>\n",
       "      <td>Antioquia-Agua-Agua con Gas 500mL x 6uds</td>\n",
       "      <td>Antioquia</td>\n",
       "      <td>Agua</td>\n",
       "      <td>Agua con Gas 500mL x 6uds</td>\n",
       "      <td>2026-01-01</td>\n",
       "      <td>ESCENARIO 1</td>\n",
       "      <td>6.583845</td>\n",
       "      <td>5.907862</td>\n",
       "      <td>7.282075</td>\n",
       "      <td>-27.653759</td>\n",
       "    </tr>\n",
       "    <tr>\n",
       "      <th>37</th>\n",
       "      <td>Antioquia-Agua-Agua con Gas 500mL x 6uds</td>\n",
       "      <td>Antioquia</td>\n",
       "      <td>Agua</td>\n",
       "      <td>Agua con Gas 500mL x 6uds</td>\n",
       "      <td>2026-02-01</td>\n",
       "      <td>ESCENARIO 1</td>\n",
       "      <td>5.499674</td>\n",
       "      <td>4.780115</td>\n",
       "      <td>6.282747</td>\n",
       "      <td>-16.467141</td>\n",
       "    </tr>\n",
       "    <tr>\n",
       "      <th>38</th>\n",
       "      <td>Antioquia-Agua-Agua con Gas 500mL x 6uds</td>\n",
       "      <td>Antioquia</td>\n",
       "      <td>Agua</td>\n",
       "      <td>Agua con Gas 500mL x 6uds</td>\n",
       "      <td>2026-03-01</td>\n",
       "      <td>ESCENARIO 1</td>\n",
       "      <td>5.912041</td>\n",
       "      <td>5.163213</td>\n",
       "      <td>6.606896</td>\n",
       "      <td>7.498018</td>\n",
       "    </tr>\n",
       "    <tr>\n",
       "      <th>39</th>\n",
       "      <td>Antioquia-Agua-Agua con Gas 500mL x 6uds</td>\n",
       "      <td>Antioquia</td>\n",
       "      <td>Agua</td>\n",
       "      <td>Agua con Gas 500mL x 6uds</td>\n",
       "      <td>2026-04-01</td>\n",
       "      <td>ESCENARIO 1</td>\n",
       "      <td>6.943335</td>\n",
       "      <td>6.202223</td>\n",
       "      <td>7.780142</td>\n",
       "      <td>17.443966</td>\n",
       "    </tr>\n",
       "    <tr>\n",
       "      <th>40</th>\n",
       "      <td>Antioquia-Agua-Agua con Gas 500mL x 6uds</td>\n",
       "      <td>Antioquia</td>\n",
       "      <td>Agua</td>\n",
       "      <td>Agua con Gas 500mL x 6uds</td>\n",
       "      <td>2026-05-01</td>\n",
       "      <td>ESCENARIO 1</td>\n",
       "      <td>6.192334</td>\n",
       "      <td>5.430018</td>\n",
       "      <td>6.948460</td>\n",
       "      <td>-10.816153</td>\n",
       "    </tr>\n",
       "    <tr>\n",
       "      <th>41</th>\n",
       "      <td>Antioquia-Agua-Agua con Gas 500mL x 6uds</td>\n",
       "      <td>Antioquia</td>\n",
       "      <td>Agua</td>\n",
       "      <td>Agua con Gas 500mL x 6uds</td>\n",
       "      <td>2025-06-01</td>\n",
       "      <td>ESCENARIO 2</td>\n",
       "      <td>12.893484</td>\n",
       "      <td>12.197203</td>\n",
       "      <td>13.669170</td>\n",
       "      <td>33.551336</td>\n",
       "    </tr>\n",
       "    <tr>\n",
       "      <th>42</th>\n",
       "      <td>Antioquia-Agua-Agua con Gas 500mL x 6uds</td>\n",
       "      <td>Antioquia</td>\n",
       "      <td>Agua</td>\n",
       "      <td>Agua con Gas 500mL x 6uds</td>\n",
       "      <td>2025-07-01</td>\n",
       "      <td>ESCENARIO 2</td>\n",
       "      <td>13.167043</td>\n",
       "      <td>12.388840</td>\n",
       "      <td>13.910042</td>\n",
       "      <td>2.121684</td>\n",
       "    </tr>\n",
       "    <tr>\n",
       "      <th>43</th>\n",
       "      <td>Antioquia-Agua-Agua con Gas 500mL x 6uds</td>\n",
       "      <td>Antioquia</td>\n",
       "      <td>Agua</td>\n",
       "      <td>Agua con Gas 500mL x 6uds</td>\n",
       "      <td>2025-08-01</td>\n",
       "      <td>ESCENARIO 2</td>\n",
       "      <td>15.347980</td>\n",
       "      <td>14.654907</td>\n",
       "      <td>16.054181</td>\n",
       "      <td>16.563599</td>\n",
       "    </tr>\n",
       "    <tr>\n",
       "      <th>44</th>\n",
       "      <td>Antioquia-Agua-Agua con Gas 500mL x 6uds</td>\n",
       "      <td>Antioquia</td>\n",
       "      <td>Agua</td>\n",
       "      <td>Agua con Gas 500mL x 6uds</td>\n",
       "      <td>2025-09-01</td>\n",
       "      <td>ESCENARIO 2</td>\n",
       "      <td>14.349935</td>\n",
       "      <td>13.585592</td>\n",
       "      <td>15.055285</td>\n",
       "      <td>-6.502774</td>\n",
       "    </tr>\n",
       "    <tr>\n",
       "      <th>45</th>\n",
       "      <td>Antioquia-Agua-Agua con Gas 500mL x 6uds</td>\n",
       "      <td>Antioquia</td>\n",
       "      <td>Agua</td>\n",
       "      <td>Agua con Gas 500mL x 6uds</td>\n",
       "      <td>2025-10-01</td>\n",
       "      <td>ESCENARIO 2</td>\n",
       "      <td>14.342367</td>\n",
       "      <td>13.597981</td>\n",
       "      <td>15.079432</td>\n",
       "      <td>-0.052741</td>\n",
       "    </tr>\n",
       "    <tr>\n",
       "      <th>46</th>\n",
       "      <td>Antioquia-Agua-Agua con Gas 500mL x 6uds</td>\n",
       "      <td>Antioquia</td>\n",
       "      <td>Agua</td>\n",
       "      <td>Agua con Gas 500mL x 6uds</td>\n",
       "      <td>2025-11-01</td>\n",
       "      <td>ESCENARIO 2</td>\n",
       "      <td>11.451312</td>\n",
       "      <td>10.730873</td>\n",
       "      <td>12.174484</td>\n",
       "      <td>-20.157446</td>\n",
       "    </tr>\n",
       "    <tr>\n",
       "      <th>47</th>\n",
       "      <td>Antioquia-Agua-Agua con Gas 500mL x 6uds</td>\n",
       "      <td>Antioquia</td>\n",
       "      <td>Agua</td>\n",
       "      <td>Agua con Gas 500mL x 6uds</td>\n",
       "      <td>2025-12-01</td>\n",
       "      <td>ESCENARIO 2</td>\n",
       "      <td>12.822153</td>\n",
       "      <td>12.111600</td>\n",
       "      <td>13.605699</td>\n",
       "      <td>11.971038</td>\n",
       "    </tr>\n",
       "    <tr>\n",
       "      <th>48</th>\n",
       "      <td>Antioquia-Agua-Agua con Gas 500mL x 6uds</td>\n",
       "      <td>Antioquia</td>\n",
       "      <td>Agua</td>\n",
       "      <td>Agua con Gas 500mL x 6uds</td>\n",
       "      <td>2026-01-01</td>\n",
       "      <td>ESCENARIO 2</td>\n",
       "      <td>10.305532</td>\n",
       "      <td>9.541794</td>\n",
       "      <td>11.077912</td>\n",
       "      <td>-19.627133</td>\n",
       "    </tr>\n",
       "    <tr>\n",
       "      <th>49</th>\n",
       "      <td>Antioquia-Agua-Agua con Gas 500mL x 6uds</td>\n",
       "      <td>Antioquia</td>\n",
       "      <td>Agua</td>\n",
       "      <td>Agua con Gas 500mL x 6uds</td>\n",
       "      <td>2026-02-01</td>\n",
       "      <td>ESCENARIO 2</td>\n",
       "      <td>8.850611</td>\n",
       "      <td>8.111967</td>\n",
       "      <td>9.622859</td>\n",
       "      <td>-14.117865</td>\n",
       "    </tr>\n",
       "    <tr>\n",
       "      <th>50</th>\n",
       "      <td>Antioquia-Agua-Agua con Gas 500mL x 6uds</td>\n",
       "      <td>Antioquia</td>\n",
       "      <td>Agua</td>\n",
       "      <td>Agua con Gas 500mL x 6uds</td>\n",
       "      <td>2026-03-01</td>\n",
       "      <td>ESCENARIO 2</td>\n",
       "      <td>9.262977</td>\n",
       "      <td>8.564422</td>\n",
       "      <td>10.037590</td>\n",
       "      <td>4.659188</td>\n",
       "    </tr>\n",
       "    <tr>\n",
       "      <th>51</th>\n",
       "      <td>Antioquia-Agua-Agua con Gas 500mL x 6uds</td>\n",
       "      <td>Antioquia</td>\n",
       "      <td>Agua</td>\n",
       "      <td>Agua con Gas 500mL x 6uds</td>\n",
       "      <td>2026-04-01</td>\n",
       "      <td>ESCENARIO 2</td>\n",
       "      <td>9.829061</td>\n",
       "      <td>9.118649</td>\n",
       "      <td>10.553205</td>\n",
       "      <td>6.111249</td>\n",
       "    </tr>\n",
       "    <tr>\n",
       "      <th>52</th>\n",
       "      <td>Antioquia-Agua-Agua con Gas 500mL x 6uds</td>\n",
       "      <td>Antioquia</td>\n",
       "      <td>Agua</td>\n",
       "      <td>Agua con Gas 500mL x 6uds</td>\n",
       "      <td>2026-05-01</td>\n",
       "      <td>ESCENARIO 2</td>\n",
       "      <td>8.518387</td>\n",
       "      <td>7.755899</td>\n",
       "      <td>9.218539</td>\n",
       "      <td>-13.334676</td>\n",
       "    </tr>\n",
       "  </tbody>\n",
       "</table>\n",
       "</div>"
      ],
      "text/plain": [
       "                   REGION_CATEGORIA_PRODUCTO     REGION CATEGORIA  \\\n",
       "0   Antioquia-Agua-Agua con Gas 500mL x 6uds  Antioquia      Agua   \n",
       "1   Antioquia-Agua-Agua con Gas 500mL x 6uds  Antioquia      Agua   \n",
       "2   Antioquia-Agua-Agua con Gas 500mL x 6uds  Antioquia      Agua   \n",
       "3   Antioquia-Agua-Agua con Gas 500mL x 6uds  Antioquia      Agua   \n",
       "4   Antioquia-Agua-Agua con Gas 500mL x 6uds  Antioquia      Agua   \n",
       "5   Antioquia-Agua-Agua con Gas 500mL x 6uds  Antioquia      Agua   \n",
       "6   Antioquia-Agua-Agua con Gas 500mL x 6uds  Antioquia      Agua   \n",
       "7   Antioquia-Agua-Agua con Gas 500mL x 6uds  Antioquia      Agua   \n",
       "8   Antioquia-Agua-Agua con Gas 500mL x 6uds  Antioquia      Agua   \n",
       "9   Antioquia-Agua-Agua con Gas 500mL x 6uds  Antioquia      Agua   \n",
       "10  Antioquia-Agua-Agua con Gas 500mL x 6uds  Antioquia      Agua   \n",
       "11  Antioquia-Agua-Agua con Gas 500mL x 6uds  Antioquia      Agua   \n",
       "12  Antioquia-Agua-Agua con Gas 500mL x 6uds  Antioquia      Agua   \n",
       "13  Antioquia-Agua-Agua con Gas 500mL x 6uds  Antioquia      Agua   \n",
       "14  Antioquia-Agua-Agua con Gas 500mL x 6uds  Antioquia      Agua   \n",
       "15  Antioquia-Agua-Agua con Gas 500mL x 6uds  Antioquia      Agua   \n",
       "16  Antioquia-Agua-Agua con Gas 500mL x 6uds  Antioquia      Agua   \n",
       "17  Antioquia-Agua-Agua con Gas 500mL x 6uds  Antioquia      Agua   \n",
       "18  Antioquia-Agua-Agua con Gas 500mL x 6uds  Antioquia      Agua   \n",
       "19  Antioquia-Agua-Agua con Gas 500mL x 6uds  Antioquia      Agua   \n",
       "20  Antioquia-Agua-Agua con Gas 500mL x 6uds  Antioquia      Agua   \n",
       "21  Antioquia-Agua-Agua con Gas 500mL x 6uds  Antioquia      Agua   \n",
       "22  Antioquia-Agua-Agua con Gas 500mL x 6uds  Antioquia      Agua   \n",
       "23  Antioquia-Agua-Agua con Gas 500mL x 6uds  Antioquia      Agua   \n",
       "24  Antioquia-Agua-Agua con Gas 500mL x 6uds  Antioquia      Agua   \n",
       "25  Antioquia-Agua-Agua con Gas 500mL x 6uds  Antioquia      Agua   \n",
       "26  Antioquia-Agua-Agua con Gas 500mL x 6uds  Antioquia      Agua   \n",
       "27  Antioquia-Agua-Agua con Gas 500mL x 6uds  Antioquia      Agua   \n",
       "28  Antioquia-Agua-Agua con Gas 500mL x 6uds  Antioquia      Agua   \n",
       "29  Antioquia-Agua-Agua con Gas 500mL x 6uds  Antioquia      Agua   \n",
       "30  Antioquia-Agua-Agua con Gas 500mL x 6uds  Antioquia      Agua   \n",
       "31  Antioquia-Agua-Agua con Gas 500mL x 6uds  Antioquia      Agua   \n",
       "32  Antioquia-Agua-Agua con Gas 500mL x 6uds  Antioquia      Agua   \n",
       "33  Antioquia-Agua-Agua con Gas 500mL x 6uds  Antioquia      Agua   \n",
       "34  Antioquia-Agua-Agua con Gas 500mL x 6uds  Antioquia      Agua   \n",
       "35  Antioquia-Agua-Agua con Gas 500mL x 6uds  Antioquia      Agua   \n",
       "36  Antioquia-Agua-Agua con Gas 500mL x 6uds  Antioquia      Agua   \n",
       "37  Antioquia-Agua-Agua con Gas 500mL x 6uds  Antioquia      Agua   \n",
       "38  Antioquia-Agua-Agua con Gas 500mL x 6uds  Antioquia      Agua   \n",
       "39  Antioquia-Agua-Agua con Gas 500mL x 6uds  Antioquia      Agua   \n",
       "40  Antioquia-Agua-Agua con Gas 500mL x 6uds  Antioquia      Agua   \n",
       "41  Antioquia-Agua-Agua con Gas 500mL x 6uds  Antioquia      Agua   \n",
       "42  Antioquia-Agua-Agua con Gas 500mL x 6uds  Antioquia      Agua   \n",
       "43  Antioquia-Agua-Agua con Gas 500mL x 6uds  Antioquia      Agua   \n",
       "44  Antioquia-Agua-Agua con Gas 500mL x 6uds  Antioquia      Agua   \n",
       "45  Antioquia-Agua-Agua con Gas 500mL x 6uds  Antioquia      Agua   \n",
       "46  Antioquia-Agua-Agua con Gas 500mL x 6uds  Antioquia      Agua   \n",
       "47  Antioquia-Agua-Agua con Gas 500mL x 6uds  Antioquia      Agua   \n",
       "48  Antioquia-Agua-Agua con Gas 500mL x 6uds  Antioquia      Agua   \n",
       "49  Antioquia-Agua-Agua con Gas 500mL x 6uds  Antioquia      Agua   \n",
       "50  Antioquia-Agua-Agua con Gas 500mL x 6uds  Antioquia      Agua   \n",
       "51  Antioquia-Agua-Agua con Gas 500mL x 6uds  Antioquia      Agua   \n",
       "52  Antioquia-Agua-Agua con Gas 500mL x 6uds  Antioquia      Agua   \n",
       "\n",
       "                     PRODUCTO      FECHA         TIPO  M3_PRODUCTO  \\\n",
       "0   Agua con Gas 500mL x 6uds 2023-01-01    HISTÓRICO     5.514000   \n",
       "1   Agua con Gas 500mL x 6uds 2023-02-01    HISTÓRICO     5.166000   \n",
       "2   Agua con Gas 500mL x 6uds 2023-03-01    HISTÓRICO     4.575000   \n",
       "3   Agua con Gas 500mL x 6uds 2023-04-01    HISTÓRICO     6.525000   \n",
       "4   Agua con Gas 500mL x 6uds 2023-05-01    HISTÓRICO     5.571000   \n",
       "5   Agua con Gas 500mL x 6uds 2023-06-01    HISTÓRICO     6.810000   \n",
       "6   Agua con Gas 500mL x 6uds 2023-07-01    HISTÓRICO     7.443000   \n",
       "7   Agua con Gas 500mL x 6uds 2023-08-01    HISTÓRICO     9.138000   \n",
       "8   Agua con Gas 500mL x 6uds 2023-09-01    HISTÓRICO     9.303000   \n",
       "9   Agua con Gas 500mL x 6uds 2023-10-01    HISTÓRICO     7.665000   \n",
       "10  Agua con Gas 500mL x 6uds 2023-11-01    HISTÓRICO     8.121000   \n",
       "11  Agua con Gas 500mL x 6uds 2023-12-01    HISTÓRICO     9.027000   \n",
       "12  Agua con Gas 500mL x 6uds 2024-01-01    HISTÓRICO     6.714000   \n",
       "13  Agua con Gas 500mL x 6uds 2024-02-01    HISTÓRICO     7.635000   \n",
       "14  Agua con Gas 500mL x 6uds 2024-03-01    HISTÓRICO     9.411000   \n",
       "15  Agua con Gas 500mL x 6uds 2024-04-01    HISTÓRICO     8.529000   \n",
       "16  Agua con Gas 500mL x 6uds 2024-05-01    HISTÓRICO     7.545000   \n",
       "17  Agua con Gas 500mL x 6uds 2024-06-01    HISTÓRICO     9.624000   \n",
       "18  Agua con Gas 500mL x 6uds 2024-07-01    HISTÓRICO    10.257000   \n",
       "19  Agua con Gas 500mL x 6uds 2024-08-01    HISTÓRICO    12.642000   \n",
       "20  Agua con Gas 500mL x 6uds 2024-09-01    HISTÓRICO    11.844000   \n",
       "21  Agua con Gas 500mL x 6uds 2024-10-01    HISTÓRICO    13.263000   \n",
       "22  Agua con Gas 500mL x 6uds 2024-11-01    HISTÓRICO     9.597000   \n",
       "23  Agua con Gas 500mL x 6uds 2024-12-01    HISTÓRICO    11.634000   \n",
       "24  Agua con Gas 500mL x 6uds 2025-01-01    HISTÓRICO     9.459000   \n",
       "25  Agua con Gas 500mL x 6uds 2025-02-01    HISTÓRICO     7.251000   \n",
       "26  Agua con Gas 500mL x 6uds 2025-03-01    HISTÓRICO     7.857000   \n",
       "27  Agua con Gas 500mL x 6uds 2025-04-01    HISTÓRICO     8.553000   \n",
       "28  Agua con Gas 500mL x 6uds 2025-05-01    HISTÓRICO     9.189000   \n",
       "29  Agua con Gas 500mL x 6uds 2025-06-01  ESCENARIO 1     8.241376   \n",
       "30  Agua con Gas 500mL x 6uds 2025-07-01  ESCENARIO 1     8.514935   \n",
       "31  Agua con Gas 500mL x 6uds 2025-08-01  ESCENARIO 1    10.695872   \n",
       "32  Agua con Gas 500mL x 6uds 2025-09-01  ESCENARIO 1    10.163038   \n",
       "33  Agua con Gas 500mL x 6uds 2025-10-01  ESCENARIO 1    10.155470   \n",
       "34  Agua con Gas 500mL x 6uds 2025-11-01  ESCENARIO 1     7.358876   \n",
       "35  Agua con Gas 500mL x 6uds 2025-12-01  ESCENARIO 1     9.100466   \n",
       "36  Agua con Gas 500mL x 6uds 2026-01-01  ESCENARIO 1     6.583845   \n",
       "37  Agua con Gas 500mL x 6uds 2026-02-01  ESCENARIO 1     5.499674   \n",
       "38  Agua con Gas 500mL x 6uds 2026-03-01  ESCENARIO 1     5.912041   \n",
       "39  Agua con Gas 500mL x 6uds 2026-04-01  ESCENARIO 1     6.943335   \n",
       "40  Agua con Gas 500mL x 6uds 2026-05-01  ESCENARIO 1     6.192334   \n",
       "41  Agua con Gas 500mL x 6uds 2025-06-01  ESCENARIO 2    12.893484   \n",
       "42  Agua con Gas 500mL x 6uds 2025-07-01  ESCENARIO 2    13.167043   \n",
       "43  Agua con Gas 500mL x 6uds 2025-08-01  ESCENARIO 2    15.347980   \n",
       "44  Agua con Gas 500mL x 6uds 2025-09-01  ESCENARIO 2    14.349935   \n",
       "45  Agua con Gas 500mL x 6uds 2025-10-01  ESCENARIO 2    14.342367   \n",
       "46  Agua con Gas 500mL x 6uds 2025-11-01  ESCENARIO 2    11.451312   \n",
       "47  Agua con Gas 500mL x 6uds 2025-12-01  ESCENARIO 2    12.822153   \n",
       "48  Agua con Gas 500mL x 6uds 2026-01-01  ESCENARIO 2    10.305532   \n",
       "49  Agua con Gas 500mL x 6uds 2026-02-01  ESCENARIO 2     8.850611   \n",
       "50  Agua con Gas 500mL x 6uds 2026-03-01  ESCENARIO 2     9.262977   \n",
       "51  Agua con Gas 500mL x 6uds 2026-04-01  ESCENARIO 2     9.829061   \n",
       "52  Agua con Gas 500mL x 6uds 2026-05-01  ESCENARIO 2     8.518387   \n",
       "\n",
       "    IC_95_LOWER  IC_95_UPPER    DIF_PCT  \n",
       "0           NaN          NaN        NaN  \n",
       "1           NaN          NaN  -6.311208  \n",
       "2           NaN          NaN -11.440186  \n",
       "3           NaN          NaN  42.622951  \n",
       "4           NaN          NaN -14.620690  \n",
       "5           NaN          NaN  22.240172  \n",
       "6           NaN          NaN   9.295154  \n",
       "7           NaN          NaN  22.773075  \n",
       "8           NaN          NaN   1.805647  \n",
       "9           NaN          NaN -17.607223  \n",
       "10          NaN          NaN   5.949119  \n",
       "11          NaN          NaN  11.156262  \n",
       "12          NaN          NaN -25.623131  \n",
       "13          NaN          NaN  13.717605  \n",
       "14          NaN          NaN  23.261297  \n",
       "15          NaN          NaN  -9.372011  \n",
       "16          NaN          NaN -11.537109  \n",
       "17          NaN          NaN  27.554672  \n",
       "18          NaN          NaN   6.577307  \n",
       "19          NaN          NaN  23.252413  \n",
       "20          NaN          NaN  -6.312292  \n",
       "21          NaN          NaN  11.980750  \n",
       "22          NaN          NaN -27.640805  \n",
       "23          NaN          NaN  21.225383  \n",
       "24          NaN          NaN -18.695204  \n",
       "25          NaN          NaN -23.342848  \n",
       "26          NaN          NaN   8.357468  \n",
       "27          NaN          NaN   8.858343  \n",
       "28          NaN          NaN   7.435987  \n",
       "29     7.508294     8.969047 -10.873244  \n",
       "30     7.785933     9.207447   3.319336  \n",
       "31     9.972236    11.438162  25.613070  \n",
       "32     9.418274    10.902919  -4.981676  \n",
       "33     9.399873    10.899985  -0.074468  \n",
       "34     6.584206     8.064918 -27.537811  \n",
       "35     8.351398     9.842689  23.666534  \n",
       "36     5.907862     7.282075 -27.653759  \n",
       "37     4.780115     6.282747 -16.467141  \n",
       "38     5.163213     6.606896   7.498018  \n",
       "39     6.202223     7.780142  17.443966  \n",
       "40     5.430018     6.948460 -10.816153  \n",
       "41    12.197203    13.669170  33.551336  \n",
       "42    12.388840    13.910042   2.121684  \n",
       "43    14.654907    16.054181  16.563599  \n",
       "44    13.585592    15.055285  -6.502774  \n",
       "45    13.597981    15.079432  -0.052741  \n",
       "46    10.730873    12.174484 -20.157446  \n",
       "47    12.111600    13.605699  11.971038  \n",
       "48     9.541794    11.077912 -19.627133  \n",
       "49     8.111967     9.622859 -14.117865  \n",
       "50     8.564422    10.037590   4.659188  \n",
       "51     9.118649    10.553205   6.111249  \n",
       "52     7.755899     9.218539 -13.334676  "
      ]
     },
     "execution_count": 91,
     "metadata": {},
     "output_type": "execute_result"
    }
   ],
   "source": [
    "print(df_resultados.shape)\n",
    "df_resultados"
   ]
  },
  {
   "cell_type": "markdown",
   "id": "579e17b6",
   "metadata": {},
   "source": [
    "## 9. Almacenar Resultados\n",
    "\n",
    "Guardamos las predicciones y métricas en Snowflake utilizando `COPY INTO` en las predicciones e `INSERT INTO` para las métricas"
   ]
  },
  {
   "cell_type": "code",
   "execution_count": 92,
   "id": "43411c40",
   "metadata": {},
   "outputs": [
    {
     "name": "stderr",
     "output_type": "stream",
     "text": [
      "2025-06-29 00:39:15,256 - INFO - Snowflake Connector for Python Version: 3.15.0, Python Version: 3.10.11, Platform: Windows-10-10.0.19045-SP0\n",
      "2025-06-29 00:39:15,260 - INFO - Connecting to GLOBAL Snowflake domain\n",
      "2025-06-29 00:39:16,361 - INFO - Conexión a Snowflake exitosa\n"
     ]
    },
    {
     "name": "stdout",
     "output_type": "stream",
     "text": [
      "Exportación a Snowflake completada.\n"
     ]
    },
    {
     "name": "stderr",
     "output_type": "stream",
     "text": [
      "2025-06-29 00:39:23,042 - INFO - Snowflake Connector for Python Version: 3.15.0, Python Version: 3.10.11, Platform: Windows-10-10.0.19045-SP0\n",
      "2025-06-29 00:39:23,044 - INFO - Connecting to GLOBAL Snowflake domain\n",
      "2025-06-29 00:39:23,678 - INFO - Conexión a Snowflake exitosa\n"
     ]
    },
    {
     "name": "stdout",
     "output_type": "stream",
     "text": [
      "Número de Registros: 53\n",
      "Número de Registros: 282\n"
     ]
    }
   ],
   "source": [
    "import time\n",
    "from datetime import datetime\n",
    "\n",
    "def export_prophet_results_to_snowflake(df_resultados, df_hist, y_true, y_pred, producto):\n",
    "    conn = get_snowflake_connection()\n",
    "    cursor = conn.cursor()\n",
    "    timestamp_str = datetime.now().strftime('%Y-%m-%d %H:%M:%S')\n",
    "    temp_csv_path = 'temp_prophet_resultados.csv'\n",
    "    temp_metrics_path = 'temp_prophet_metrics.csv'\n",
    "    try:\n",
    "        # 1. Crear tabla de resultados\n",
    "        cursor.execute(\"\"\"\n",
    "            CREATE TABLE IF NOT EXISTS PROPHET_M3_RESULTADOS (\n",
    "                ID INTEGER AUTOINCREMENT,\n",
    "                TIMESTAMP_COL TIMESTAMP_NTZ,\n",
    "                REGION_CATEGORIA_PRODUCTO VARCHAR(300),\n",
    "                REGION VARCHAR(100),\n",
    "                CATEGORIA VARCHAR(100),\n",
    "                PRODUCTO VARCHAR(100),\n",
    "                FECHA DATE,\n",
    "                TIPO VARCHAR(30),\n",
    "                M3_PRODUCTO FLOAT,\n",
    "                IC_95_LOWER FLOAT,\n",
    "                IC_95_UPPER FLOAT,\n",
    "                DIF_PCT FLOAT\n",
    "            )\n",
    "        \"\"\")\n",
    "        # 2. Crear tabla de métricas\n",
    "        cursor.execute(\"\"\"\n",
    "            CREATE TABLE IF NOT EXISTS PROPHET_M3_METRICS (\n",
    "                ID INTEGER AUTOINCREMENT,\n",
    "                TIMESTAMP_COL TIMESTAMP_NTZ,\n",
    "                REGION_CATEGORIA_PRODUCTO VARCHAR(300),\n",
    "                RMSE FLOAT,\n",
    "                MAE FLOAT,\n",
    "                SMAPE FLOAT,\n",
    "                R2 FLOAT,\n",
    "                QUALITY VARCHAR(20)\n",
    "            )\n",
    "        \"\"\")\n",
    "        # 3. Exportar resultados (TRUNCATE + COPY INTO)\n",
    "        df_resultados['TIMESTAMP_COL'] = timestamp_str\n",
    "        cols_result = ['TIMESTAMP_COL'] + [c for c in df_resultados.columns]\n",
    "        df_resultados[cols_result].to_csv(temp_csv_path, index=False, header=False, encoding='utf-8')\n",
    "        cursor.execute(f\"PUT file://{temp_csv_path} @~/prophet_stage AUTO_COMPRESS = TRUE OVERWRITE = TRUE\")\n",
    "        cursor.execute(\"TRUNCATE TABLE PROPHET_M3_RESULTADOS\")\n",
    "        cursor.execute(f\"\"\"\n",
    "            COPY INTO PROPHET_M3_RESULTADOS (TIMESTAMP_COL, REGION_CATEGORIA_PRODUCTO, REGION, CATEGORIA, PRODUCTO, FECHA, TIPO, M3_PRODUCTO, IC_95_LOWER, IC_95_UPPER, DIF_PCT)\n",
    "            FROM @~/prophet_stage/{temp_csv_path}.gz\n",
    "            FILE_FORMAT = (TYPE = 'CSV' FIELD_DELIMITER = ',' SKIP_HEADER = 0 FIELD_OPTIONALLY_ENCLOSED_BY = '\"')\n",
    "        \"\"\")\n",
    "        # 4. Calcular métricas globales para la región-categoría-producto actual\n",
    "        from sklearn.metrics import mean_squared_error, mean_absolute_error, r2_score\n",
    "        def smape(y_true, y_pred):\n",
    "            return 100 * np.mean(2 * np.abs(y_pred - y_true) / (np.abs(y_true) + np.abs(y_pred)))\n",
    "        rmse = np.sqrt(mean_squared_error(y_true, y_pred))\n",
    "        mae = mean_absolute_error(y_true, y_pred)\n",
    "        smape_val = smape(y_true, y_pred)\n",
    "        r2 = r2_score(y_true, y_pred)\n",
    "        # Lógica de calidad\n",
    "        if (r2 >= 0.8) and (smape_val < 20):\n",
    "            quality = 'BUENO'\n",
    "        elif (r2 >= 0.5) or (smape_val < 30):\n",
    "            quality = 'ACEPTABLE'\n",
    "        else:\n",
    "            quality = 'POBRE'\n",
    "        # 5. Exportar métricas (INSERT INTO por COPY INTO)\n",
    "        metrics_row = [[timestamp_str, producto, rmse, mae, smape_val, r2, quality]]\n",
    "        import csv\n",
    "        with open(temp_metrics_path, 'w', newline='', encoding='utf-8') as f:\n",
    "            writer = csv.writer(f)\n",
    "            writer.writerows(metrics_row)\n",
    "        cursor.execute(f\"PUT file://{temp_metrics_path} @~/prophet_stage AUTO_COMPRESS = TRUE OVERWRITE = TRUE\")\n",
    "        cursor.execute(f\"\"\"\n",
    "            COPY INTO PROPHET_M3_METRICS (TIMESTAMP_COL, REGION_CATEGORIA_PRODUCTO, RMSE, MAE, SMAPE, R2, QUALITY)\n",
    "            FROM @~/prophet_stage/{temp_metrics_path}.gz\n",
    "            FILE_FORMAT = (TYPE = 'CSV' FIELD_DELIMITER = ',' SKIP_HEADER = 0 FIELD_OPTIONALLY_ENCLOSED_BY = '\"')\n",
    "        \"\"\")\n",
    "        conn.commit()\n",
    "        print('Exportación a Snowflake completada.')\n",
    "    except Exception as e:\n",
    "        conn.rollback()\n",
    "        print(f'Error al exportar a Snowflake: {e}')\n",
    "    finally:\n",
    "        cursor.close()\n",
    "        conn.close()\n",
    "        import os\n",
    "        if os.path.exists(temp_csv_path):\n",
    "            os.remove(temp_csv_path)\n",
    "        if os.path.exists(temp_metrics_path):\n",
    "            os.remove(temp_metrics_path)\n",
    "\n",
    "# Exportar resultados y métricas a Snowflake\n",
    "export_prophet_results_to_snowflake(df_resultados, df_hist, y_true, y_pred, producto)\n",
    "\n",
    "def print_snowflake_counts():\n",
    "    try:\n",
    "        conn = get_snowflake_connection()\n",
    "        cursor = conn.cursor()\n",
    "        cursor.execute('SELECT COUNT(*) FROM PROPHET_M3_RESULTADOS')\n",
    "        count_resultados = cursor.fetchone()[0]\n",
    "        print(f'Número de Registros: {count_resultados}')\n",
    "        cursor.execute('SELECT COUNT(*) FROM PROPHET_M3_METRICS')\n",
    "        count_metrics = cursor.fetchone()[0]\n",
    "        print(f'Número de Registros: {count_metrics}')\n",
    "        cursor.close()\n",
    "        conn.close()\n",
    "    except Exception as e:\n",
    "        print(f'Error al consultar tablas en Snowflake: {e}')\n",
    "\n",
    "# Llamar solo una vez para evitar duplicados\n",
    "print_snowflake_counts()\n"
   ]
  }
 ],
 "metadata": {
  "kernelspec": {
   "display_name": "Python 3",
   "language": "python",
   "name": "python3"
  },
  "language_info": {
   "codemirror_mode": {
    "name": "ipython",
    "version": 3
   },
   "file_extension": ".py",
   "mimetype": "text/x-python",
   "name": "python",
   "nbconvert_exporter": "python",
   "pygments_lexer": "ipython3",
   "version": "3.10.11"
  }
 },
 "nbformat": 4,
 "nbformat_minor": 5
}
