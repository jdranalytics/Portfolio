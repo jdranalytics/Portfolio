{
 "cells": [
  {
   "cell_type": "markdown",
   "id": "c804b161",
   "metadata": {},
   "source": [
    "# Predicción de Cantidades Vendidas por Región y Categoría con Prophet\n",
    "\n",
    "Este notebook replica el flujo de predicción de cantidades vendidas por región y categoría, usando Prophet y considerando variables exógenas (`AVG_PRECIO_LISTA`, `AVG_DESC_PORCENTAJE`). Se generan pronósticos para dos escenarios, siguiendo la lógica de los modelos implementados en Snowflake."
   ]
  },
  {
   "cell_type": "markdown",
   "id": "a0f91bb1",
   "metadata": {},
   "source": [
    "## 1. Importar Librerías y Configuración\n",
    "\n",
    "Importamos las librerías necesarias y configuramos el logging para trazabilidad."
   ]
  },
  {
   "cell_type": "code",
   "execution_count": 15,
   "id": "2f73edb2",
   "metadata": {},
   "outputs": [],
   "source": [
    "import pandas as pd\n",
    "import numpy as np\n",
    "import snowflake.connector\n",
    "import logging\n",
    "from datetime import datetime\n",
    "import os\n",
    "from prophet import Prophet\n",
    "from sklearn.metrics import mean_squared_error, mean_absolute_error, r2_score\n",
    "import plotly.subplots as sp\n",
    "import plotly.graph_objects as go\n",
    "import matplotlib.pyplot as plt\n",
    "from sklearn.linear_model import LinearRegression\n",
    "from pytz import timezone\n",
    "import os\n",
    "from datetime import datetime\n",
    "from tqdm import tqdm\n",
    "import warnings\n",
    "\n",
    "warnings.filterwarnings(\"ignore\")\n",
    "logging.basicConfig(\n",
    "    level=logging.INFO,\n",
    "    format='%(asctime)s - %(levelname)s - %(message)s',\n",
    "    handlers=[logging.StreamHandler()]\n",
    ")"
   ]
  },
  {
   "cell_type": "markdown",
   "id": "8cd102e4",
   "metadata": {},
   "source": [
    "## 2. Carga de Datos desde Snowflake\n",
    "\n",
    "Cargamos los datos históricos y los dos escenarios de forecast desde las vistas generadas en Snowflake."
   ]
  },
  {
   "cell_type": "code",
   "execution_count": null,
   "id": "07f6c750",
   "metadata": {},
   "outputs": [
    {
     "name": "stderr",
     "output_type": "stream",
     "text": [
      "2025-06-28 21:04:56,583 - INFO - Snowflake Connector for Python Version: 3.15.0, Python Version: 3.10.11, Platform: Windows-10-10.0.19045-SP0\n",
      "2025-06-28 21:04:56,588 - INFO - Connecting to GLOBAL Snowflake domain\n",
      "2025-06-28 21:04:56,588 - INFO - Connecting to GLOBAL Snowflake domain\n",
      "2025-06-28 21:04:57,812 - INFO - Conexión a Snowflake exitosa\n",
      "2025-06-28 21:04:57,812 - INFO - Conexión a Snowflake exitosa\n",
      "2025-06-28 21:05:03,591 - INFO - Histórico: 3984 registros, Escenario 1: 1680, Escenario 2: 1680\n",
      "2025-06-28 21:05:03,591 - INFO - Histórico: 3984 registros, Escenario 1: 1680, Escenario 2: 1680\n"
     ]
    },
    {
     "name": "stdout",
     "output_type": "stream",
     "text": [
      "Histórico: (3984, 6), Escenario 1: (1680, 5), Escenario 2: (1680, 5)\n"
     ]
    }
   ],
   "source": [
    "def get_snowflake_connection():\n",
    "    try:\n",
    "        conn = snowflake.connector.connect(\n",
    "            user='XXXXXXXXXXXXXXXXXX',  \n",
    "            password='XXXXXXXXXXXXX',  \n",
    "            account='XXXXXXXXXXXXX', \n",
    "            warehouse='COMPUTE_WH', \n",
    "            database='BEBIDAS_PROJECT',\n",
    "            schema='BEBIDAS_ANALYTICS'\n",
    "        )\n",
    "        logging.info(\"Conexión a Snowflake exitosa\")\n",
    "        return conn\n",
    "    except Exception as e:\n",
    "        logging.error(f\"Error de conexión a Snowflake: {e}\")\n",
    "        raise\n",
    "\n",
    "def load_snowflake_views():\n",
    "    conn = get_snowflake_connection()\n",
    "    try:\n",
    "        df_hist = pd.read_sql(\"SELECT * FROM VW_VENTAS_HISTORICO_M3\", conn)\n",
    "        df_fcst1 = pd.read_sql(\"SELECT * FROM VW_VENTAS_FCST_FEATURES_1\", conn)\n",
    "        df_fcst2 = pd.read_sql(\"SELECT * FROM VW_VENTAS_FCST_FEATURES_2\", conn)\n",
    "        logging.info(f\"Histórico: {len(df_hist)} registros, Escenario 1: {len(df_fcst1)}, Escenario 2: {len(df_fcst2)}\")\n",
    "        return df_hist, df_fcst1, df_fcst2\n",
    "    finally:\n",
    "        conn.close()\n",
    "\n",
    "df_hist, df_fcst1, df_fcst2 = load_snowflake_views()\n",
    "print(f\"Histórico: {df_hist.shape}, Escenario 1: {df_fcst1.shape}, Escenario 2: {df_fcst2.shape}\")"
   ]
  },
  {
   "cell_type": "code",
   "execution_count": 17,
   "id": "8f0a241d",
   "metadata": {},
   "outputs": [],
   "source": [
    "producto = \"Antioquia-Agua-Agua con Gas 500mL x 6uds\"\n",
    "df_hist = df_hist[df_hist['REGION_CATEGORIA_PRODUCTO'] == producto].copy()\n",
    "df_fcst1 = df_fcst1[df_fcst1['REGION_CATEGORIA_PRODUCTO'] == producto].copy()\n",
    "df_fcst2 = df_fcst2[df_fcst2['REGION_CATEGORIA_PRODUCTO'] == producto].copy()"
   ]
  },
  {
   "cell_type": "markdown",
   "id": "ca783cc5",
   "metadata": {},
   "source": [
    "## 3. Preparación de Datos para Prophet\n",
    "\n",
    "Prophet requiere las columnas `ds` (fecha) y `y` (target). Además, agregamos las variables exógenas."
   ]
  },
  {
   "cell_type": "code",
   "execution_count": 27,
   "id": "f36ee7b3",
   "metadata": {},
   "outputs": [],
   "source": [
    "# Convertir MES a datetime y renombrar columnas\n",
    "for df in [df_hist, df_fcst1, df_fcst2]:\n",
    "    df['ds'] = pd.to_datetime(df['MES'])\n",
    "df_hist['y'] = df_hist['M3_VENDIDOS']\n",
    "\n",
    "# Seleccionar variables exógenas\n",
    "exog_vars = ['AVG_PRECIO_LISTA', 'AVG_DESC_PORCENTAJE']\n",
    "from sklearn.preprocessing import StandardScaler\n",
    "\n",
    "# Escaladores para exógenas y target\n",
    "target_scaler = StandardScaler()\n",
    "exog_scaler = StandardScaler()\n",
    "\n",
    "# Escalar target (y) y exógenas en el histórico\n",
    "scaled_y = target_scaler.fit_transform(df_hist[['y']])\n",
    "scaled_exog = exog_scaler.fit_transform(df_hist[exog_vars])\n",
    "\n",
    "# Guardar escalado en el histórico\n",
    "df_hist['y_scaled'] = scaled_y\n",
    "for idx, var in enumerate(exog_vars):\n",
    "    df_hist[f'{var}_scaled'] = scaled_exog[:, idx]\n",
    "\n",
    "# Escalar exógenas en los escenarios\n",
    "def scale_exog(df):\n",
    "    scaled = exog_scaler.transform(df[exog_vars])\n",
    "    for idx, var in enumerate(exog_vars):\n",
    "        df[f'{var}_scaled'] = scaled[:, idx]\n",
    "    return df\n",
    "\n",
    "df_fcst1 = scale_exog(df_fcst1)\n",
    "df_fcst2 = scale_exog(df_fcst2)\n",
    "\n",
    "# Variables para Prophet (escaladas)\n",
    "exog_vars_scaled = [f'{v}_scaled' for v in exog_vars]"
   ]
  },
  {
   "cell_type": "markdown",
   "id": "c1bd6b5d",
   "metadata": {},
   "source": [
    "## 3.1. Análisis de Variables Exógenas\n",
    "\n",
    "Para entender por qué el modelo Prophet puede estar generando diferencias importantes entre los escenarios y la serie histórica, es fundamental analizar la evolución de las variables exógenas (`AVG_PRECIO_LISTA`, `AVG_DESC_PORCENTAJE`). Si los valores futuros de estas variables están fuera del rango observado en el histórico, el modelo puede extrapolar de forma poco confiable. A continuación, se grafican estas variables para el histórico y ambos escenarios."
   ]
  },
  {
   "cell_type": "code",
   "execution_count": 19,
   "id": "aa5cf80a",
   "metadata": {},
   "outputs": [
    {
     "data": {
      "image/png": "[encoded data removed]",
      "text/plain": [
       "<Figure size 1400x1000 with 2 Axes>"
      ]
     },
     "metadata": {},
     "output_type": "display_data"
    }
   ],
   "source": [
    "\n",
    "\n",
    "fig, axes = plt.subplots(len(exog_vars), 1, figsize=(14, 5 * len(exog_vars)), sharex=True)\n",
    "if len(exog_vars) == 1:\n",
    "    axes = [axes]\n",
    "\n",
    "for i, var in enumerate(exog_vars):\n",
    "    axes[i].plot(df_hist['ds'], df_hist[var], label='Histórico', color='black')\n",
    "    axes[i].plot(df_fcst1['ds'], df_fcst1[var], label='Escenario 1', color='tab:blue')\n",
    "    axes[i].plot(df_fcst2['ds'], df_fcst2[var], label='Escenario 2', color='tab:orange')\n",
    "    axes[i].set_title(f'Evolución de {var}')\n",
    "    axes[i].set_ylabel(var)\n",
    "    axes[i].legend()\n",
    "    axes[i].grid(True)\n",
    "plt.xlabel('Fecha')\n",
    "plt.tight_layout()\n",
    "plt.show()"
   ]
  },
  {
   "cell_type": "markdown",
   "id": "77ef7061",
   "metadata": {},
   "source": [
    "## 4. Entrenamiento del Modelo Prophet con Variables Exógenas"
   ]
  },
  {
   "cell_type": "code",
   "execution_count": 20,
   "id": "41f3be99",
   "metadata": {},
   "outputs": [
    {
     "name": "stderr",
     "output_type": "stream",
     "text": [
      "2025-06-28 21:05:05,714 - DEBUG - cmd: where.exe tbb.dll\n",
      "cwd: None\n",
      "2025-06-28 21:05:06,034 - DEBUG - TBB already found in load path\n",
      "2025-06-28 21:05:06,034 - DEBUG - TBB already found in load path\n",
      "2025-06-28 21:05:06,091 - INFO - n_changepoints greater than number of observations. Using 22.\n",
      "2025-06-28 21:05:06,102 - DEBUG - input tempfile: C:\\Users\\joey_\\AppData\\Local\\Temp\\tmpozn1sb__\\c4l08r4d.json\n",
      "2025-06-28 21:05:06,112 - DEBUG - input tempfile: C:\\Users\\joey_\\AppData\\Local\\Temp\\tmpozn1sb__\\7y6gxw16.json\n",
      "2025-06-28 21:05:06,091 - INFO - n_changepoints greater than number of observations. Using 22.\n",
      "2025-06-28 21:05:06,102 - DEBUG - input tempfile: C:\\Users\\joey_\\AppData\\Local\\Temp\\tmpozn1sb__\\c4l08r4d.json\n",
      "2025-06-28 21:05:06,112 - DEBUG - input tempfile: C:\\Users\\joey_\\AppData\\Local\\Temp\\tmpozn1sb__\\7y6gxw16.json\n",
      "2025-06-28 21:05:06,115 - DEBUG - idx 0\n",
      "2025-06-28 21:05:06,117 - DEBUG - running CmdStan, num_threads: None\n",
      "2025-06-28 21:05:06,119 - DEBUG - CmdStan args: ['C:\\\\Users\\\\joey_\\\\AppData\\\\Local\\\\Programs\\\\Python\\\\Python310\\\\Lib\\\\site-packages\\\\prophet\\\\stan_model\\\\prophet_model.bin', 'random', 'seed=9447', 'data', 'file=C:\\\\Users\\\\joey_\\\\AppData\\\\Local\\\\Temp\\\\tmpozn1sb__\\\\c4l08r4d.json', 'init=C:\\\\Users\\\\joey_\\\\AppData\\\\Local\\\\Temp\\\\tmpozn1sb__\\\\7y6gxw16.json', 'output', 'file=C:\\\\Users\\\\joey_\\\\AppData\\\\Local\\\\Temp\\\\tmpozn1sb__\\\\prophet_modeltrqnxzqy\\\\prophet_model-20250628210506.csv', 'method=optimize', 'algorithm=newton', 'iter=10000']\n",
      "21:05:06 - cmdstanpy - INFO - Chain [1] start processing\n",
      "2025-06-28 21:05:06,120 - INFO - Chain [1] start processing\n",
      "2025-06-28 21:05:06,115 - DEBUG - idx 0\n",
      "2025-06-28 21:05:06,117 - DEBUG - running CmdStan, num_threads: None\n",
      "2025-06-28 21:05:06,119 - DEBUG - CmdStan args: ['C:\\\\Users\\\\joey_\\\\AppData\\\\Local\\\\Programs\\\\Python\\\\Python310\\\\Lib\\\\site-packages\\\\prophet\\\\stan_model\\\\prophet_model.bin', 'random', 'seed=9447', 'data', 'file=C:\\\\Users\\\\joey_\\\\AppData\\\\Local\\\\Temp\\\\tmpozn1sb__\\\\c4l08r4d.json', 'init=C:\\\\Users\\\\joey_\\\\AppData\\\\Local\\\\Temp\\\\tmpozn1sb__\\\\7y6gxw16.json', 'output', 'file=C:\\\\Users\\\\joey_\\\\AppData\\\\Local\\\\Temp\\\\tmpozn1sb__\\\\prophet_modeltrqnxzqy\\\\prophet_model-20250628210506.csv', 'method=optimize', 'algorithm=newton', 'iter=10000']\n",
      "21:05:06 - cmdstanpy - INFO - Chain [1] start processing\n",
      "2025-06-28 21:05:06,120 - INFO - Chain [1] start processing\n",
      "21:05:06 - cmdstanpy - INFO - Chain [1] done processing\n",
      "2025-06-28 21:05:06,549 - INFO - Chain [1] done processing\n",
      "21:05:06 - cmdstanpy - INFO - Chain [1] done processing\n",
      "2025-06-28 21:05:06,549 - INFO - Chain [1] done processing\n"
     ]
    },
    {
     "data": {
      "text/plain": [
       "<prophet.forecaster.Prophet at 0x1a2d61b9510>"
      ]
     },
     "execution_count": 20,
     "metadata": {},
     "output_type": "execute_result"
    }
   ],
   "source": [
    "# Instanciar y agregar variables exógenas escaladas\n",
    "m = Prophet(yearly_seasonality=True, weekly_seasonality=False, daily_seasonality=False)\n",
    "for var in exog_vars_scaled:\n",
    "    m.add_regressor(var)\n",
    "\n",
    "# Entrenar modelo con target y exógenas escaladas\n",
    "m.fit(df_hist[['ds', 'y_scaled'] + exog_vars_scaled].rename(columns={'y_scaled': 'y'}))"
   ]
  },
  {
   "cell_type": "markdown",
   "id": "04b2f95e",
   "metadata": {},
   "source": [
    "## 5. Predicción para Escenario 1 y Escenario 2\n",
    "\n",
    "Se generan predicciones para ambos escenarios, usando las variables exógenas correspondientes."
   ]
  },
  {
   "cell_type": "code",
   "execution_count": 21,
   "id": "3b775512",
   "metadata": {},
   "outputs": [],
   "source": [
    "# Preparar dataframes de forecast para Prophet (usando variables escaladas)\n",
    "def prepare_future_scaled(df_fcst):\n",
    "    return df_fcst[['ds'] + exog_vars_scaled].copy()\n",
    "\n",
    "future1 = prepare_future_scaled(df_fcst1)\n",
    "future2 = prepare_future_scaled(df_fcst2)\n",
    "\n",
    "# Predicción escenario 1 (escalado)\n",
    "forecast1 = m.predict(future1)\n",
    "df_fcst1['CANTIDAD_VENDIDA_PRED_SCALED'] = forecast1['yhat'].values\n",
    "df_fcst1['CANTIDAD_VENDIDA_PRED'] = target_scaler.inverse_transform(forecast1[['yhat']]).flatten()\n",
    "df_fcst1['IC_95_LOWER'] = target_scaler.inverse_transform(forecast1[['yhat_lower']]).flatten()\n",
    "df_fcst1['IC_95_UPPER'] = target_scaler.inverse_transform(forecast1[['yhat_upper']]).flatten()\n",
    "\n",
    "# Predicción escenario 2 (escalado)\n",
    "forecast2 = m.predict(future2)\n",
    "df_fcst2['CANTIDAD_VENDIDA_PRED_SCALED'] = forecast2['yhat'].values\n",
    "df_fcst2['CANTIDAD_VENDIDA_PRED'] = target_scaler.inverse_transform(forecast2[['yhat']]).flatten()\n",
    "df_fcst2['IC_95_LOWER'] = target_scaler.inverse_transform(forecast2[['yhat_lower']]).flatten()\n",
    "df_fcst2['IC_95_UPPER'] = target_scaler.inverse_transform(forecast2[['yhat_upper']]).flatten()"
   ]
  },
  {
   "cell_type": "markdown",
   "id": "f3e90283",
   "metadata": {},
   "source": [
    "## 6. Métricas de Desempeño en el Histórico Reciente\n",
    "\n",
    "Se evalúa el modelo en el histórico más reciente (por ejemplo, los últimos 7 meses)."
   ]
  },
  {
   "cell_type": "code",
   "execution_count": 22,
   "id": "93970e17",
   "metadata": {},
   "outputs": [
    {
     "name": "stdout",
     "output_type": "stream",
     "text": [
      "Evaluación últimos 7 meses del histórico:\n",
      "RMSE: 0.09\n",
      "MAE: 0.07\n",
      "SMAPE: 4.60%\n",
      "R2: 0.90\n"
     ]
    }
   ],
   "source": [
    "def smape(y_true, y_pred):\n",
    "    return 100 * np.mean(2 * np.abs(y_pred - y_true) / (np.abs(y_true) + np.abs(y_pred)))\n",
    "\n",
    "# Evaluar en los últimos 7 meses del histórico\n",
    "n_test = 7\n",
    "test_hist = df_hist.tail(n_test)\n",
    "future_test = test_hist[['ds'] + exog_vars_scaled]\n",
    "forecast_test = m.predict(future_test)\n",
    "\n",
    "# Desescalar valores reales y predichos\n",
    "y_true = target_scaler.inverse_transform(test_hist[['y_scaled']]).flatten()\n",
    "y_pred = target_scaler.inverse_transform(forecast_test[['yhat']]).flatten()\n",
    "\n",
    "print(\"Evaluación últimos 7 meses del histórico:\")\n",
    "rmse = np.sqrt(mean_squared_error(y_true, y_pred))\n",
    "print(f\"RMSE: {rmse:.2f}\")\n",
    "print(f\"MAE: {mean_absolute_error(y_true, y_pred):.2f}\")\n",
    "print(f\"SMAPE: {smape(y_true, y_pred):.2f}%\")\n",
    "print(f\"R2: {r2_score(y_true, y_pred):.2f}\")"
   ]
  },
  {
   "cell_type": "markdown",
   "id": "0188497c",
   "metadata": {},
   "source": [
    "## 7. Visualización de Resultados"
   ]
  },
  {
   "cell_type": "code",
   "execution_count": 23,
   "id": "0bed615b",
   "metadata": {},
   "outputs": [
    {
     "data": {
      "application/vnd.plotly.v1+json": {
       "config": {
        "plotlyServerURL": "https://plot.ly"
       },
       "data": [
        {
         "line": {
          "color": "#36332E"
         },
         "mode": "lines",
         "name": "Histórico Real",
         "type": "scatter",
         "x": [
          "2023-01-01T00:00:00.000000000",
          "2023-02-01T00:00:00.000000000",
          "2023-03-01T00:00:00.000000000",
          "2023-04-01T00:00:00.000000000",
          "2023-05-01T00:00:00.000000000",
          "2023-06-01T00:00:00.000000000",
          "2023-07-01T00:00:00.000000000",
          "2023-08-01T00:00:00.000000000",
          "2023-09-01T00:00:00.000000000",
          "2023-10-01T00:00:00.000000000",
          "2023-11-01T00:00:00.000000000",
          "2023-12-01T00:00:00.000000000",
          "2024-01-01T00:00:00.000000000",
          "2024-02-01T00:00:00.000000000",
          "2024-03-01T00:00:00.000000000",
          "2024-04-01T00:00:00.000000000",
          "2024-05-01T00:00:00.000000000",
          "2024-06-01T00:00:00.000000000",
          "2024-07-01T00:00:00.000000000",
          "2024-08-01T00:00:00.000000000",
          "2024-09-01T00:00:00.000000000",
          "2024-10-01T00:00:00.000000000",
          "2024-11-01T00:00:00.000000000",
          "2024-12-01T00:00:00.000000000",
          "2025-01-01T00:00:00.000000000",
          "2025-02-01T00:00:00.000000000",
          "2025-03-01T00:00:00.000000000",
          "2025-04-01T00:00:00.000000000",
          "2025-05-01T00:00:00.000000000"
         ],
         "y": {
          "bdata": "001iEFg58D9oke18PzXqP0w3iUFg5ew/MzMzMzMz7z81XrpJDALvP2q8dJMYBOo/QmDl0CLb7T8j2/l+arz0P1yPwvUoXOs/kxgEVg4t8D8rhxbZzvfzP8P1KFyPwvE/6SYxCKwc9D+JQWDl0CLxP99PjZduEvU/SOF6FK5H8T/VeOkmMQjwP4lBYOXQIvc/9P3UeOkm8z+BlUOLbOfxP+XQItv5fvQ/+FPjpZvE+D89CtejcD34P2q8dJMYBAFAmpmZmZmZ9T9t5/up8dLzP65H4XoUrvk/dZMYBFYO8z/b+X5qvHT7Pw==",
          "dtype": "f8"
         }
        },
        {
         "line": {
          "color": "gray",
          "dash": "dot"
         },
         "mode": "lines",
         "name": "Tendencia (Histórico)",
         "type": "scatter",
         "x": [
          "2023-01-01T00:00:00.000000000",
          "2023-02-01T00:00:00.000000000",
          "2023-03-01T00:00:00.000000000",
          "2023-04-01T00:00:00.000000000",
          "2023-05-01T00:00:00.000000000",
          "2023-06-01T00:00:00.000000000",
          "2023-07-01T00:00:00.000000000",
          "2023-08-01T00:00:00.000000000",
          "2023-09-01T00:00:00.000000000",
          "2023-10-01T00:00:00.000000000",
          "2023-11-01T00:00:00.000000000",
          "2023-12-01T00:00:00.000000000",
          "2024-01-01T00:00:00.000000000",
          "2024-02-01T00:00:00.000000000",
          "2024-03-01T00:00:00.000000000",
          "2024-04-01T00:00:00.000000000",
          "2024-05-01T00:00:00.000000000",
          "2024-06-01T00:00:00.000000000",
          "2024-07-01T00:00:00.000000000",
          "2024-08-01T00:00:00.000000000",
          "2024-09-01T00:00:00.000000000",
          "2024-10-01T00:00:00.000000000",
          "2024-11-01T00:00:00.000000000",
          "2024-12-01T00:00:00.000000000",
          "2025-01-01T00:00:00.000000000",
          "2025-02-01T00:00:00.000000000",
          "2025-03-01T00:00:00.000000000",
          "2025-04-01T00:00:00.000000000",
          "2025-05-01T00:00:00.000000000"
         ],
         "y": {
          "bdata": "AERIqhNN6z8AoDo0USDsPwDwwm4d3+w/AEy1+Fqy7T8AoNkSyH7uPwD8y5wFUu8/ACp4WzkP8D8AVnEg2HjwPwCEauV24vA/ALB8cq1I8T8A3HU3TLLxPwAIiMSCGPI/ADaBiSGC8j8AYnpOwOvyPwCMpaOOTvM/ALqeaC248z8A5rD1Yx70PwASqroCiPQ/AD68Rznu9D8AbLUM2Ff1PwCYrtF2wfU/AMTAXq0n9j8A8rkjTJH2PwAezLCC9/Y/AErFdSFh9z8AeL46wMr3PwCgAlgmKvg/AM77HMWT+D8A+A2q+/n4Pw==",
          "dtype": "f8"
         }
        },
        {
         "line": {
          "color": "#E09C41"
         },
         "mode": "lines",
         "name": "Histórico Test (Real)",
         "type": "scatter",
         "x": [
          "2024-11-01T00:00:00.000000000",
          "2024-12-01T00:00:00.000000000",
          "2025-01-01T00:00:00.000000000",
          "2025-02-01T00:00:00.000000000",
          "2025-03-01T00:00:00.000000000",
          "2025-04-01T00:00:00.000000000",
          "2025-05-01T00:00:00.000000000"
         ],
         "y": {
          "bdata": "PQrXo3A9+D9qvHSTGAQBQJqZmZmZmfU/bef7qfHS8z+uR+F6FK75P3WTGARWDvM/2/l+arx0+z8=",
          "dtype": "f8"
         }
        },
        {
         "line": {
          "color": "red",
          "dash": "dot"
         },
         "mode": "lines",
         "name": "Histórico Test (Predicción)",
         "type": "scatter",
         "x": [
          "2024-11-01T00:00:00.000000000",
          "2024-12-01T00:00:00.000000000",
          "2025-01-01T00:00:00.000000000",
          "2025-02-01T00:00:00.000000000",
          "2025-03-01T00:00:00.000000000",
          "2025-04-01T00:00:00.000000000",
          "2025-05-01T00:00:00.000000000"
         ],
         "y": {
          "bdata": "44pz/ICH9z+gyjpJq80AQG4y17i6lPU/ibHvQfT98z8B6jOBXr36P382WHOxxPU/rj47CDLr+D8=",
          "dtype": "f8"
         }
        },
        {
         "customdata": {
          "bdata": "1r3rD3Oh+D/Y8i5lZ0z7P1eMIsjiP/c//C1NFdvr+T/Lyd12VUr3P1qw67kJ+fk/oo6QJ4nm9j+JnH+2nmn5P1eRJ++uefo/bseIoqUq/T/mCpIxWxL7PyixiDWgqP0/EjYwsIDAAEB+qU4VzBQCQCWG3DACWPk/8Jx1R1QN/D9Hy5+pNPz2P4LMKijwmfk/69Oh+VGH+j/qFVux9jP9P755iiIR+Pc/398HTVSB+j8wsLyBUhr7Px8v2Cgro/0/",
          "dtype": "f8",
          "shape": "12, 2"
         },
         "hovertemplate": "<b>Fecha</b>: %{x|%Y-%m-%d}<br><b>Predicción</b>: %{y:.2f}<br><b>IC 95% Inferior</b>: %{customdata[0]:.2f}<br><b>IC 95% Superior</b>: %{customdata[1]:.2f}<extra></extra>",
         "line": {
          "color": "#8B7557"
         },
         "mode": "lines",
         "name": "Forecast Escenario 1",
         "type": "scatter",
         "x": [
          "2025-06-01T00:00:00.000000000",
          "2025-07-01T00:00:00.000000000",
          "2025-08-01T00:00:00.000000000",
          "2025-09-01T00:00:00.000000000",
          "2025-10-01T00:00:00.000000000",
          "2025-11-01T00:00:00.000000000",
          "2025-12-01T00:00:00.000000000",
          "2026-01-01T00:00:00.000000000",
          "2026-02-01T00:00:00.000000000",
          "2026-03-01T00:00:00.000000000",
          "2026-04-01T00:00:00.000000000",
          "2026-05-01T00:00:00.000000000"
         ],
         "y": {
          "bdata": "nsIByJX7+T+sEqxz8Zv4Pyhb+pXFmPg/NyBDmlAS+D8eqYidTdf7Pxj+PBE4aPw/8q6Bld1qAUDYqisIgLX6P7TI3F9aU/g/h0gaggvf+z+XG1hpyjH5PzKq2qK0XPw/",
          "dtype": "f8"
         }
        },
        {
         "fill": "toself",
         "fillcolor": "rgba(139,117,87,0.15)",
         "hoverinfo": "skip",
         "line": {
          "color": "rgba(255,255,255,0)"
         },
         "name": "IC 95% Escenario 1",
         "showlegend": true,
         "type": "scatter",
         "x": [
          "2025-06-01T00:00:00.000000000",
          "2025-07-01T00:00:00.000000000",
          "2025-08-01T00:00:00.000000000",
          "2025-09-01T00:00:00.000000000",
          "2025-10-01T00:00:00.000000000",
          "2025-11-01T00:00:00.000000000",
          "2025-12-01T00:00:00.000000000",
          "2026-01-01T00:00:00.000000000",
          "2026-02-01T00:00:00.000000000",
          "2026-03-01T00:00:00.000000000",
          "2026-04-01T00:00:00.000000000",
          "2026-05-01T00:00:00.000000000",
          "2026-05-01T00:00:00.000000000",
          "2026-04-01T00:00:00.000000000",
          "2026-03-01T00:00:00.000000000",
          "2026-02-01T00:00:00.000000000",
          "2026-01-01T00:00:00.000000000",
          "2025-12-01T00:00:00.000000000",
          "2025-11-01T00:00:00.000000000",
          "2025-10-01T00:00:00.000000000",
          "2025-09-01T00:00:00.000000000",
          "2025-08-01T00:00:00.000000000",
          "2025-07-01T00:00:00.000000000",
          "2025-06-01T00:00:00.000000000"
         ],
         "y": {
          "bdata": "2PIuZWdM+z/8LU0V2+v5P1qw67kJ+fk/iZx/tp5p+T9ux4iipSr9PyixiDWgqP0/fqlOFcwUAkDwnHVHVA38P4LMKijwmfk/6hVbsfYz/T/f3wdNVIH6Px8v2Cgro/0/MLC8gVIa+z++eYoiEfj3P+vToflRh/o/R8ufqTT89j8lhtwwAlj5PxI2MLCAwABA5gqSMVsS+z9XkSfvrnn6P6KOkCeJ5vY/y8nddlVK9z9XjCLI4j/3P9a96w9zofg/",
          "dtype": "f8"
         }
        },
        {
         "customdata": {
          "bdata": "hgUcEgiJ+z/Ua/Tewy/+P55AzgviPPo/SoLDEc/Y/D/6hg/KjTj6P3ooTtILyPw/EAWvNzGb+T+i/oluTjv8Pwpao8uEZ/0/p270fUwDAECTk4/ZPer9P44EIIO/VgBABlGG9TEvAkCQDyKr7IEDQGc1JNyfSfw/wI8KVfUD/z9K7uTNRfT5P8qc1Mfjgvw/DCymz8th/T/Quuy3PAIAQFddSjDuu/o/2He7Il9O/T+M9BXWiPP9P7ibIgn+RgBA",
          "dtype": "f8",
          "shape": "12, 2"
         },
         "hovertemplate": "<b>Fecha</b>: %{x|%Y-%m-%d}<br><b>Predicción</b>: %{y:.2f}<br><b>IC 95% Inferior</b>: %{customdata[0]:.2f}<br><b>IC 95% Superior</b>: %{customdata[1]:.2f}<extra></extra>",
         "line": {
          "color": "#57788B"
         },
         "mode": "lines",
         "name": "Forecast Escenario 2",
         "type": "scatter",
         "x": [
          "2025-06-01T00:00:00.000000000",
          "2025-07-01T00:00:00.000000000",
          "2025-08-01T00:00:00.000000000",
          "2025-09-01T00:00:00.000000000",
          "2025-10-01T00:00:00.000000000",
          "2025-11-01T00:00:00.000000000",
          "2025-12-01T00:00:00.000000000",
          "2026-01-01T00:00:00.000000000",
          "2026-02-01T00:00:00.000000000",
          "2026-03-01T00:00:00.000000000",
          "2026-04-01T00:00:00.000000000",
          "2026-05-01T00:00:00.000000000"
         ],
         "y": {
          "bdata": "m80N8g3b/D+qHbidaXv7PyZmBsA9ePs/NCtPxMjx+j8btJTHxbb+PxYJSTuwR/8/cbSHqpnaAkDWtTcy+JT9P7LT6InSMvs/hFMmrIO+/j+VJmSTQhH8PzC15swsPP8/",
          "dtype": "f8"
         }
        },
        {
         "fill": "toself",
         "fillcolor": "rgba(87,120,139,0.15)",
         "hoverinfo": "skip",
         "line": {
          "color": "rgba(255,255,255,0)"
         },
         "name": "IC 95% Escenario 2",
         "showlegend": true,
         "type": "scatter",
         "x": [
          "2025-06-01T00:00:00.000000000",
          "2025-07-01T00:00:00.000000000",
          "2025-08-01T00:00:00.000000000",
          "2025-09-01T00:00:00.000000000",
          "2025-10-01T00:00:00.000000000",
          "2025-11-01T00:00:00.000000000",
          "2025-12-01T00:00:00.000000000",
          "2026-01-01T00:00:00.000000000",
          "2026-02-01T00:00:00.000000000",
          "2026-03-01T00:00:00.000000000",
          "2026-04-01T00:00:00.000000000",
          "2026-05-01T00:00:00.000000000",
          "2026-05-01T00:00:00.000000000",
          "2026-04-01T00:00:00.000000000",
          "2026-03-01T00:00:00.000000000",
          "2026-02-01T00:00:00.000000000",
          "2026-01-01T00:00:00.000000000",
          "2025-12-01T00:00:00.000000000",
          "2025-11-01T00:00:00.000000000",
          "2025-10-01T00:00:00.000000000",
          "2025-09-01T00:00:00.000000000",
          "2025-08-01T00:00:00.000000000",
          "2025-07-01T00:00:00.000000000",
          "2025-06-01T00:00:00.000000000"
         ],
         "y": {
          "bdata": "1Gv03sMv/j9KgsMRz9j8P3ooTtILyPw/ov6Jbk47/D+nbvR9TAMAQI4EIIO/VgBAkA8iq+yBA0DAjwpV9QP/P8qc1Mfjgvw/0LrstzwCAEDYd7siX079P7ibIgn+RgBAjPQV1ojz/T9XXUow7rv6Pwwsps/LYf0/Su7kzUX0+T9nNSTcn0n8PwZRhvUxLwJAk5OP2T3q/T8KWqPLhGf9PxAFrzcxm/k/+oYPyo04+j+eQM4L4jz6P4YFHBIIifs/",
          "dtype": "f8"
         }
        }
       ],
       "layout": {
        "height": 600,
        "legend": {
         "title": {
          "text": "Serie"
         }
        },
        "template": {
         "data": {
          "bar": [
           {
            "error_x": {
             "color": "#2a3f5f"
            },
            "error_y": {
             "color": "#2a3f5f"
            },
            "marker": {
             "line": {
              "color": "white",
              "width": 0.5
             },
             "pattern": {
              "fillmode": "overlay",
              "size": 10,
              "solidity": 0.2
             }
            },
            "type": "bar"
           }
          ],
          "barpolar": [
           {
            "marker": {
             "line": {
              "color": "white",
              "width": 0.5
             },
             "pattern": {
              "fillmode": "overlay",
              "size": 10,
              "solidity": 0.2
             }
            },
            "type": "barpolar"
           }
          ],
          "carpet": [
           {
            "aaxis": {
             "endlinecolor": "#2a3f5f",
             "gridcolor": "#C8D4E3",
             "linecolor": "#C8D4E3",
             "minorgridcolor": "#C8D4E3",
             "startlinecolor": "#2a3f5f"
            },
            "baxis": {
             "endlinecolor": "#2a3f5f",
             "gridcolor": "#C8D4E3",
             "linecolor": "#C8D4E3",
             "minorgridcolor": "#C8D4E3",
             "startlinecolor": "#2a3f5f"
            },
            "type": "carpet"
           }
          ],
          "choropleth": [
           {
            "colorbar": {
             "outlinewidth": 0,
             "ticks": ""
            },
            "type": "choropleth"
           }
          ],
          "contour": [
           {
            "colorbar": {
             "outlinewidth": 0,
             "ticks": ""
            },
            "colorscale": [
             [
              0,
              "#0d0887"
             ],
             [
              0.1111111111111111,
              "#46039f"
             ],
             [
              0.2222222222222222,
              "#7201a8"
             ],
             [
              0.3333333333333333,
              "#9c179e"
             ],
             [
              0.4444444444444444,
              "#bd3786"
             ],
             [
              0.5555555555555556,
              "#d8576b"
             ],
             [
              0.6666666666666666,
              "#ed7953"
             ],
             [
              0.7777777777777778,
              "#fb9f3a"
             ],
             [
              0.8888888888888888,
              "#fdca26"
             ],
             [
              1,
              "#f0f921"
             ]
            ],
            "type": "contour"
           }
          ],
          "contourcarpet": [
           {
            "colorbar": {
             "outlinewidth": 0,
             "ticks": ""
            },
            "type": "contourcarpet"
           }
          ],
          "heatmap": [
           {
            "colorbar": {
             "outlinewidth": 0,
             "ticks": ""
            },
            "colorscale": [
             [
              0,
              "#0d0887"
             ],
             [
              0.1111111111111111,
              "#46039f"
             ],
             [
              0.2222222222222222,
              "#7201a8"
             ],
             [
              0.3333333333333333,
              "#9c179e"
             ],
             [
              0.4444444444444444,
              "#bd3786"
             ],
             [
              0.5555555555555556,
              "#d8576b"
             ],
             [
              0.6666666666666666,
              "#ed7953"
             ],
             [
              0.7777777777777778,
              "#fb9f3a"
             ],
             [
              0.8888888888888888,
              "#fdca26"
             ],
             [
              1,
              "#f0f921"
             ]
            ],
            "type": "heatmap"
           }
          ],
          "histogram": [
           {
            "marker": {
             "pattern": {
              "fillmode": "overlay",
              "size": 10,
              "solidity": 0.2
             }
            },
            "type": "histogram"
           }
          ],
          "histogram2d": [
           {
            "colorbar": {
             "outlinewidth": 0,
             "ticks": ""
            },
            "colorscale": [
             [
              0,
              "#0d0887"
             ],
             [
              0.1111111111111111,
              "#46039f"
             ],
             [
              0.2222222222222222,
              "#7201a8"
             ],
             [
              0.3333333333333333,
              "#9c179e"
             ],
             [
              0.4444444444444444,
              "#bd3786"
             ],
             [
              0.5555555555555556,
              "#d8576b"
             ],
             [
              0.6666666666666666,
              "#ed7953"
             ],
             [
              0.7777777777777778,
              "#fb9f3a"
             ],
             [
              0.8888888888888888,
              "#fdca26"
             ],
             [
              1,
              "#f0f921"
             ]
            ],
            "type": "histogram2d"
           }
          ],
          "histogram2dcontour": [
           {
            "colorbar": {
             "outlinewidth": 0,
             "ticks": ""
            },
            "colorscale": [
             [
              0,
              "#0d0887"
             ],
             [
              0.1111111111111111,
              "#46039f"
             ],
             [
              0.2222222222222222,
              "#7201a8"
             ],
             [
              0.3333333333333333,
              "#9c179e"
             ],
             [
              0.4444444444444444,
              "#bd3786"
             ],
             [
              0.5555555555555556,
              "#d8576b"
             ],
             [
              0.6666666666666666,
              "#ed7953"
             ],
             [
              0.7777777777777778,
              "#fb9f3a"
             ],
             [
              0.8888888888888888,
              "#fdca26"
             ],
             [
              1,
              "#f0f921"
             ]
            ],
            "type": "histogram2dcontour"
           }
          ],
          "mesh3d": [
           {
            "colorbar": {
             "outlinewidth": 0,
             "ticks": ""
            },
            "type": "mesh3d"
           }
          ],
          "parcoords": [
           {
            "line": {
             "colorbar": {
              "outlinewidth": 0,
              "ticks": ""
             }
            },
            "type": "parcoords"
           }
          ],
          "pie": [
           {
            "automargin": true,
            "type": "pie"
           }
          ],
          "scatter": [
           {
            "fillpattern": {
             "fillmode": "overlay",
             "size": 10,
             "solidity": 0.2
            },
            "type": "scatter"
           }
          ],
          "scatter3d": [
           {
            "line": {
             "colorbar": {
              "outlinewidth": 0,
              "ticks": ""
             }
            },
            "marker": {
             "colorbar": {
              "outlinewidth": 0,
              "ticks": ""
             }
            },
            "type": "scatter3d"
           }
          ],
          "scattercarpet": [
           {
            "marker": {
             "colorbar": {
              "outlinewidth": 0,
              "ticks": ""
             }
            },
            "type": "scattercarpet"
           }
          ],
          "scattergeo": [
           {
            "marker": {
             "colorbar": {
              "outlinewidth": 0,
              "ticks": ""
             }
            },
            "type": "scattergeo"
           }
          ],
          "scattergl": [
           {
            "marker": {
             "colorbar": {
              "outlinewidth": 0,
              "ticks": ""
             }
            },
            "type": "scattergl"
           }
          ],
          "scattermap": [
           {
            "marker": {
             "colorbar": {
              "outlinewidth": 0,
              "ticks": ""
             }
            },
            "type": "scattermap"
           }
          ],
          "scattermapbox": [
           {
            "marker": {
             "colorbar": {
              "outlinewidth": 0,
              "ticks": ""
             }
            },
            "type": "scattermapbox"
           }
          ],
          "scatterpolar": [
           {
            "marker": {
             "colorbar": {
              "outlinewidth": 0,
              "ticks": ""
             }
            },
            "type": "scatterpolar"
           }
          ],
          "scatterpolargl": [
           {
            "marker": {
             "colorbar": {
              "outlinewidth": 0,
              "ticks": ""
             }
            },
            "type": "scatterpolargl"
           }
          ],
          "scatterternary": [
           {
            "marker": {
             "colorbar": {
              "outlinewidth": 0,
              "ticks": ""
             }
            },
            "type": "scatterternary"
           }
          ],
          "surface": [
           {
            "colorbar": {
             "outlinewidth": 0,
             "ticks": ""
            },
            "colorscale": [
             [
              0,
              "#0d0887"
             ],
             [
              0.1111111111111111,
              "#46039f"
             ],
             [
              0.2222222222222222,
              "#7201a8"
             ],
             [
              0.3333333333333333,
              "#9c179e"
             ],
             [
              0.4444444444444444,
              "#bd3786"
             ],
             [
              0.5555555555555556,
              "#d8576b"
             ],
             [
              0.6666666666666666,
              "#ed7953"
             ],
             [
              0.7777777777777778,
              "#fb9f3a"
             ],
             [
              0.8888888888888888,
              "#fdca26"
             ],
             [
              1,
              "#f0f921"
             ]
            ],
            "type": "surface"
           }
          ],
          "table": [
           {
            "cells": {
             "fill": {
              "color": "#EBF0F8"
             },
             "line": {
              "color": "white"
             }
            },
            "header": {
             "fill": {
              "color": "#C8D4E3"
             },
             "line": {
              "color": "white"
             }
            },
            "type": "table"
           }
          ]
         },
         "layout": {
          "annotationdefaults": {
           "arrowcolor": "#2a3f5f",
           "arrowhead": 0,
           "arrowwidth": 1
          },
          "autotypenumbers": "strict",
          "coloraxis": {
           "colorbar": {
            "outlinewidth": 0,
            "ticks": ""
           }
          },
          "colorscale": {
           "diverging": [
            [
             0,
             "#8e0152"
            ],
            [
             0.1,
             "#c51b7d"
            ],
            [
             0.2,
             "#de77ae"
            ],
            [
             0.3,
             "#f1b6da"
            ],
            [
             0.4,
             "#fde0ef"
            ],
            [
             0.5,
             "#f7f7f7"
            ],
            [
             0.6,
             "#e6f5d0"
            ],
            [
             0.7,
             "#b8e186"
            ],
            [
             0.8,
             "#7fbc41"
            ],
            [
             0.9,
             "#4d9221"
            ],
            [
             1,
             "#276419"
            ]
           ],
           "sequential": [
            [
             0,
             "#0d0887"
            ],
            [
             0.1111111111111111,
             "#46039f"
            ],
            [
             0.2222222222222222,
             "#7201a8"
            ],
            [
             0.3333333333333333,
             "#9c179e"
            ],
            [
             0.4444444444444444,
             "#bd3786"
            ],
            [
             0.5555555555555556,
             "#d8576b"
            ],
            [
             0.6666666666666666,
             "#ed7953"
            ],
            [
             0.7777777777777778,
             "#fb9f3a"
            ],
            [
             0.8888888888888888,
             "#fdca26"
            ],
            [
             1,
             "#f0f921"
            ]
           ],
           "sequentialminus": [
            [
             0,
             "#0d0887"
            ],
            [
             0.1111111111111111,
             "#46039f"
            ],
            [
             0.2222222222222222,
             "#7201a8"
            ],
            [
             0.3333333333333333,
             "#9c179e"
            ],
            [
             0.4444444444444444,
             "#bd3786"
            ],
            [
             0.5555555555555556,
             "#d8576b"
            ],
            [
             0.6666666666666666,
             "#ed7953"
            ],
            [
             0.7777777777777778,
             "#fb9f3a"
            ],
            [
             0.8888888888888888,
             "#fdca26"
            ],
            [
             1,
             "#f0f921"
            ]
           ]
          },
          "colorway": [
           "#636efa",
           "#EF553B",
           "#00cc96",
           "#ab63fa",
           "#FFA15A",
           "#19d3f3",
           "#FF6692",
           "#B6E880",
           "#FF97FF",
           "#FECB52"
          ],
          "font": {
           "color": "#2a3f5f"
          },
          "geo": {
           "bgcolor": "white",
           "lakecolor": "white",
           "landcolor": "white",
           "showlakes": true,
           "showland": true,
           "subunitcolor": "#C8D4E3"
          },
          "hoverlabel": {
           "align": "left"
          },
          "hovermode": "closest",
          "mapbox": {
           "style": "light"
          },
          "paper_bgcolor": "white",
          "plot_bgcolor": "white",
          "polar": {
           "angularaxis": {
            "gridcolor": "#EBF0F8",
            "linecolor": "#EBF0F8",
            "ticks": ""
           },
           "bgcolor": "white",
           "radialaxis": {
            "gridcolor": "#EBF0F8",
            "linecolor": "#EBF0F8",
            "ticks": ""
           }
          },
          "scene": {
           "xaxis": {
            "backgroundcolor": "white",
            "gridcolor": "#DFE8F3",
            "gridwidth": 2,
            "linecolor": "#EBF0F8",
            "showbackground": true,
            "ticks": "",
            "zerolinecolor": "#EBF0F8"
           },
           "yaxis": {
            "backgroundcolor": "white",
            "gridcolor": "#DFE8F3",
            "gridwidth": 2,
            "linecolor": "#EBF0F8",
            "showbackground": true,
            "ticks": "",
            "zerolinecolor": "#EBF0F8"
           },
           "zaxis": {
            "backgroundcolor": "white",
            "gridcolor": "#DFE8F3",
            "gridwidth": 2,
            "linecolor": "#EBF0F8",
            "showbackground": true,
            "ticks": "",
            "zerolinecolor": "#EBF0F8"
           }
          },
          "shapedefaults": {
           "line": {
            "color": "#2a3f5f"
           }
          },
          "ternary": {
           "aaxis": {
            "gridcolor": "#DFE8F3",
            "linecolor": "#A2B1C6",
            "ticks": ""
           },
           "baxis": {
            "gridcolor": "#DFE8F3",
            "linecolor": "#A2B1C6",
            "ticks": ""
           },
           "bgcolor": "white",
           "caxis": {
            "gridcolor": "#DFE8F3",
            "linecolor": "#A2B1C6",
            "ticks": ""
           }
          },
          "title": {
           "x": 0.05
          },
          "xaxis": {
           "automargin": true,
           "gridcolor": "#EBF0F8",
           "linecolor": "#EBF0F8",
           "ticks": "",
           "title": {
            "standoff": 15
           },
           "zerolinecolor": "#EBF0F8",
           "zerolinewidth": 2
          },
          "yaxis": {
           "automargin": true,
           "gridcolor": "#EBF0F8",
           "linecolor": "#EBF0F8",
           "ticks": "",
           "title": {
            "standoff": 15
           },
           "zerolinecolor": "#EBF0F8",
           "zerolinewidth": 2
          }
         }
        },
        "title": {
         "text": "Pronóstico de Cantidades Vendidas por Región y Categoría (Prophet)\nAntioquia-Agua-Agua con Gas 500mL x 6uds"
        },
        "width": 1200,
        "xaxis": {
         "title": {
          "text": "Fecha"
         }
        },
        "yaxis": {
         "title": {
          "text": "Cantidad Vendida (m3)"
         }
        }
       }
      }
     },
     "metadata": {},
     "output_type": "display_data"
    }
   ],
   "source": [
    "fig = go.Figure()\n",
    "\n",
    "# 1. Histórico real completo\n",
    "fig.add_trace(go.Scatter(\n",
    "    x=df_hist['ds'],\n",
    "    y=df_hist['y'],\n",
    "    mode='lines',\n",
    "    name='Histórico Real',\n",
    "    line=dict(color='#36332E')\n",
    "))\n",
    "\n",
    "# Línea de tendencia (regresión lineal sobre histórico)\n",
    "X_trend = df_hist['ds'].map(lambda x: x.toordinal()).values.reshape(-1, 1)\n",
    "y_trend = df_hist['y'].values\n",
    "reg = LinearRegression().fit(X_trend, y_trend)\n",
    "y_trend_pred = reg.predict(X_trend)\n",
    "fig.add_trace(go.Scatter(\n",
    "    x=df_hist['ds'],\n",
    "    y=y_trend_pred,\n",
    "    mode='lines',\n",
    "    name='Tendencia (Histórico)',\n",
    "    line=dict(color='gray', dash='dot')\n",
    "))\n",
    "\n",
    "# 2. Test real (últimos n_test meses)\n",
    "fig.add_trace(go.Scatter(\n",
    "    x=df_hist['ds'].tail(n_test),\n",
    "    y=y_true,\n",
    "    mode='lines',\n",
    "    name='Histórico Test (Real)',\n",
    "    line=dict(color='#E09C41')\n",
    "))\n",
    "\n",
    "# 3. Predicción test (últimos n_test meses)\n",
    "fig.add_trace(go.Scatter(\n",
    "    x=df_hist['ds'].tail(n_test),\n",
    "    y=y_pred,\n",
    "    mode='lines',\n",
    "    name='Histórico Test (Predicción)',\n",
    "    line=dict(color='red', dash='dot')\n",
    "))\n",
    "\n",
    "# 4. Forecast Escenario 1\n",
    "fig.add_trace(go.Scatter(\n",
    "    x=df_fcst1['ds'],\n",
    "    y=df_fcst1['CANTIDAD_VENDIDA_PRED'],\n",
    "    mode='lines',\n",
    "    name='Forecast Escenario 1',\n",
    "    line=dict(color='#8B7557'),\n",
    "    hovertemplate='<b>Fecha</b>: %{x|%Y-%m-%d}<br>' +\n",
    "                  '<b>Predicción</b>: %{y:.2f}<br>' +\n",
    "                  '<b>IC 95% Inferior</b>: %{customdata[0]:.2f}<br>' +\n",
    "                  '<b>IC 95% Superior</b>: %{customdata[1]:.2f}<extra></extra>',\n",
    "    customdata=np.stack((df_fcst1['IC_95_LOWER'], df_fcst1['IC_95_UPPER']), axis=-1)\n",
    "))\n",
    "# Banda de IC 95% Escenario 1\n",
    "fig.add_trace(go.Scatter(\n",
    "    x=pd.concat([df_fcst1['ds'], df_fcst1['ds'][::-1]]),\n",
    "    y=pd.concat([df_fcst1['IC_95_UPPER'], df_fcst1['IC_95_LOWER'][::-1]]),\n",
    "    fill='toself',\n",
    "    fillcolor='rgba(139,117,87,0.15)',\n",
    "    line=dict(color='rgba(255,255,255,0)'),\n",
    "    hoverinfo=\"skip\",\n",
    "    showlegend=True,\n",
    "    name='IC 95% Escenario 1'\n",
    "))\n",
    "\n",
    "# 5. Forecast Escenario 2\n",
    "fig.add_trace(go.Scatter(\n",
    "    x=df_fcst2['ds'],\n",
    "    y=df_fcst2['CANTIDAD_VENDIDA_PRED'],\n",
    "    mode='lines',\n",
    "    name='Forecast Escenario 2',\n",
    "    line=dict(color='#57788B'),\n",
    "    hovertemplate='<b>Fecha</b>: %{x|%Y-%m-%d}<br>' +\n",
    "                  '<b>Predicción</b>: %{y:.2f}<br>' +\n",
    "                  '<b>IC 95% Inferior</b>: %{customdata[0]:.2f}<br>' +\n",
    "                  '<b>IC 95% Superior</b>: %{customdata[1]:.2f}<extra></extra>',\n",
    "    customdata=np.stack((df_fcst2['IC_95_LOWER'], df_fcst2['IC_95_UPPER']), axis=-1)\n",
    "))\n",
    "# Banda de IC 95% Escenario 2\n",
    "fig.add_trace(go.Scatter(\n",
    "    x=pd.concat([df_fcst2['ds'], df_fcst2['ds'][::-1]]),\n",
    "    y=pd.concat([df_fcst2['IC_95_UPPER'], df_fcst2['IC_95_LOWER'][::-1]]),\n",
    "    fill='toself',\n",
    "    fillcolor='rgba(87,120,139,0.15)',\n",
    "    line=dict(color='rgba(255,255,255,0)'),\n",
    "    hoverinfo=\"skip\",\n",
    "    showlegend=True,\n",
    "    name='IC 95% Escenario 2'\n",
    "))\n",
    "\n",
    "fig.update_layout(\n",
    "    title=f'Pronóstico de Cantidades Vendidas por Región y Categoría (Prophet)\\n{producto}',\n",
    "    xaxis_title='Fecha',\n",
    "    yaxis_title='Cantidad Vendida (m3)',\n",
    "    legend_title='Serie',\n",
    "    template='plotly_white',\n",
    "    width=1200,\n",
    "    height=600\n",
    ")\n",
    "fig.show()"
   ]
  },
  {
   "cell_type": "markdown",
   "id": "b6fa1587",
   "metadata": {},
   "source": [
    "## 8. Diferencia porcentual mes a mes y consolidación de resultados\n",
    "\n",
    "\n",
    "Se calcula y grafica la variación porcentual mes a mes para el histórico y ambos escenarios."
   ]
  },
  {
   "cell_type": "code",
   "execution_count": 24,
   "id": "97316f39",
   "metadata": {},
   "outputs": [
    {
     "name": "stdout",
     "output_type": "stream",
     "text": [
      "                  REGION_CATEGORIA_PRODUCTO     REGION CATEGORIA  \\\n",
      "0  Antioquia-Agua-Agua con Gas 500mL x 6uds  Antioquia      Agua   \n",
      "1  Antioquia-Agua-Agua con Gas 500mL x 6uds  Antioquia      Agua   \n",
      "2  Antioquia-Agua-Agua con Gas 500mL x 6uds  Antioquia      Agua   \n",
      "3  Antioquia-Agua-Agua con Gas 500mL x 6uds  Antioquia      Agua   \n",
      "4  Antioquia-Agua-Agua con Gas 500mL x 6uds  Antioquia      Agua   \n",
      "\n",
      "                    PRODUCTO      FECHA       TIPO  M3_PRODUCTO  IC_95_LOWER  \\\n",
      "0  Agua con Gas 500mL x 6uds 2023-01-01  HISTÓRICO        1.014          NaN   \n",
      "1  Agua con Gas 500mL x 6uds 2023-02-01  HISTÓRICO        0.819          NaN   \n",
      "2  Agua con Gas 500mL x 6uds 2023-03-01  HISTÓRICO        0.903          NaN   \n",
      "3  Agua con Gas 500mL x 6uds 2023-04-01  HISTÓRICO        0.975          NaN   \n",
      "4  Agua con Gas 500mL x 6uds 2023-05-01  HISTÓRICO        0.969          NaN   \n",
      "\n",
      "   IC_95_UPPER    DIF_PCT  \n",
      "0          NaN        NaN  \n",
      "1          NaN -19.230769  \n",
      "2          NaN  10.256410  \n",
      "3          NaN   7.973422  \n",
      "4          NaN  -0.615385  \n"
     ]
    },
    {
     "data": {
      "application/vnd.plotly.v1+json": {
       "config": {
        "plotlyServerURL": "https://plot.ly"
       },
       "data": [
        {
         "marker": {
          "color": [
           "red",
           "red",
           "green",
           "green",
           "red",
           "red",
           "green",
           "green",
           "red",
           "green",
           "green",
           "red",
           "green",
           "red",
           "green",
           "red",
           "red",
           "green",
           "red",
           "red",
           "green",
           "green",
           "red",
           "green",
           "red",
           "red",
           "green",
           "red",
           "green"
          ]
         },
         "name": "Histórico",
         "text": [
          "",
          "-19.2%",
          "10.3%",
          "8.0%",
          "-0.6%",
          "-16.1%",
          "14.8%",
          "38.9%",
          "-34.0%",
          "18.2%",
          "23.4%",
          "-11.1%",
          "13.2%",
          "-14.8%",
          "23.0%",
          "-18.0%",
          "-7.2%",
          "44.3%",
          "-17.2%",
          "-6.5%",
          "14.5%",
          "20.8%",
          "-2.1%",
          "40.4%",
          "-36.5%",
          "-8.2%",
          "29.5%",
          "-25.8%",
          "44.1%"
         ],
         "textposition": "outside",
         "type": "bar",
         "width": 1728000000,
         "x": [
          "2023-01-01T00:00:00.000000000",
          "2023-02-01T00:00:00.000000000",
          "2023-03-01T00:00:00.000000000",
          "2023-04-01T00:00:00.000000000",
          "2023-05-01T00:00:00.000000000",
          "2023-06-01T00:00:00.000000000",
          "2023-07-01T00:00:00.000000000",
          "2023-08-01T00:00:00.000000000",
          "2023-09-01T00:00:00.000000000",
          "2023-10-01T00:00:00.000000000",
          "2023-11-01T00:00:00.000000000",
          "2023-12-01T00:00:00.000000000",
          "2024-01-01T00:00:00.000000000",
          "2024-02-01T00:00:00.000000000",
          "2024-03-01T00:00:00.000000000",
          "2024-04-01T00:00:00.000000000",
          "2024-05-01T00:00:00.000000000",
          "2024-06-01T00:00:00.000000000",
          "2024-07-01T00:00:00.000000000",
          "2024-08-01T00:00:00.000000000",
          "2024-09-01T00:00:00.000000000",
          "2024-10-01T00:00:00.000000000",
          "2024-11-01T00:00:00.000000000",
          "2024-12-01T00:00:00.000000000",
          "2025-01-01T00:00:00.000000000",
          "2025-02-01T00:00:00.000000000",
          "2025-03-01T00:00:00.000000000",
          "2025-04-01T00:00:00.000000000",
          "2025-05-01T00:00:00.000000000"
         ],
         "xaxis": "x",
         "y": {
          "bdata": "AAAAAAAA+H+0EzuxEzszwDlIgzRIgyRA6Se1t8jkH0AoO7ETO7Hjv3rjC7tcGTDA4fEAETKFLUCgpIh2EHRDQDmO4ziOA0HA6yO4j+A+MkDifonbL3E3QNWJndiJHSbAu2fdYIp8KkDw8fw2IpgtwLEc+K4c+DZAwtA2btX+McBCjuM4juMcwP4WpzXbJ0ZAekw4e0w4McAXoSuErhAawBhKxBpV9CxA0ulu1dTXNEBM3pA35A0BwCB3/WyxMkRA0ViCq+FDQsAbx3Ecx3EgwOQbL0Q6ij1Akgn0Tl3LOcD+utY/UQpGQA==",
          "dtype": "f8"
         },
         "yaxis": "y"
        },
        {
         "marker": {
          "color": [
           "red",
           "red",
           "red",
           "red",
           "green",
           "green",
           "green",
           "red",
           "red",
           "green",
           "red",
           "green"
          ]
         },
         "name": "Escenario 1",
         "text": [
          "-5.5%",
          "-5.3%",
          "-0.1%",
          "-2.1%",
          "15.7%",
          "2.0%",
          "22.6%",
          "-23.3%",
          "-8.9%",
          "14.6%",
          "-9.6%",
          "12.6%"
         ],
         "textposition": "outside",
         "type": "bar",
         "width": 1728000000,
         "x": [
          "2025-06-01T00:00:00.000000000",
          "2025-07-01T00:00:00.000000000",
          "2025-08-01T00:00:00.000000000",
          "2025-09-01T00:00:00.000000000",
          "2025-10-01T00:00:00.000000000",
          "2025-11-01T00:00:00.000000000",
          "2025-12-01T00:00:00.000000000",
          "2026-01-01T00:00:00.000000000",
          "2026-02-01T00:00:00.000000000",
          "2026-03-01T00:00:00.000000000",
          "2026-04-01T00:00:00.000000000",
          "2026-05-01T00:00:00.000000000"
         ],
         "xaxis": "x2",
         "y": {
          "bdata": "u01UehoOFsCopENgdyUVwEBE2OAUxqm/47O3yygVAcAHcI5Wq1EvQPYk7xoYRABA8HwpgpugNkCZk2NKsFM3wKMuJ1Da2CHAvqsSo9omLUAyy4TgRzUjwIfxHjg9JSlA",
          "dtype": "f8"
         },
         "yaxis": "y2"
        },
        {
         "marker": {
          "color": [
           "green",
           "red",
           "red",
           "red",
           "green",
           "green",
           "green",
           "red",
           "red",
           "green",
           "red",
           "green"
          ]
         },
         "name": "Escenario 2",
         "text": [
          "5.0%",
          "-4.8%",
          "-0.0%",
          "-1.9%",
          "14.0%",
          "1.8%",
          "20.5%",
          "-21.5%",
          "-8.1%",
          "13.0%",
          "-8.7%",
          "11.3%"
         ],
         "textposition": "outside",
         "type": "bar",
         "width": 1728000000,
         "x": [
          "2025-06-01T00:00:00.000000000",
          "2025-07-01T00:00:00.000000000",
          "2025-08-01T00:00:00.000000000",
          "2025-09-01T00:00:00.000000000",
          "2025-10-01T00:00:00.000000000",
          "2025-11-01T00:00:00.000000000",
          "2025-12-01T00:00:00.000000000",
          "2026-01-01T00:00:00.000000000",
          "2026-02-01T00:00:00.000000000",
          "2026-03-01T00:00:00.000000000",
          "2026-04-01T00:00:00.000000000",
          "2026-05-01T00:00:00.000000000"
         ],
         "xaxis": "x3",
         "y": {
          "bdata": "2+Xgv4DiE0DA4P68fQoTwMB8ZnhUFKe/APmZ+ZSX/r8jJpkTy/orQOAse04vff0/tjk3RJWMNEAKB9vptYw1wKwT6OQiHSDA/pfsOZESKkDJA5+cx2khwMMmSPJVkiZA",
          "dtype": "f8"
         },
         "yaxis": "y3"
        }
       ],
       "layout": {
        "annotations": [
         {
          "font": {
           "size": 16
          },
          "showarrow": false,
          "text": "Histórico",
          "x": 0.5,
          "xanchor": "center",
          "xref": "paper",
          "y": 1,
          "yanchor": "bottom",
          "yref": "paper"
         },
         {
          "font": {
           "size": 16
          },
          "showarrow": false,
          "text": "Escenario 1",
          "x": 0.5,
          "xanchor": "center",
          "xref": "paper",
          "y": 0.6266666666666667,
          "yanchor": "bottom",
          "yref": "paper"
         },
         {
          "font": {
           "size": 16
          },
          "showarrow": false,
          "text": "Escenario 2",
          "x": 0.5,
          "xanchor": "center",
          "xref": "paper",
          "y": 0.25333333333333335,
          "yanchor": "bottom",
          "yref": "paper"
         }
        ],
        "bargap": 0.25,
        "font": {
         "size": 12
        },
        "height": 1300,
        "margin": {
         "b": 40,
         "l": 40,
         "r": 40,
         "t": 40
        },
        "showlegend": false,
        "template": {
         "data": {
          "bar": [
           {
            "error_x": {
             "color": "#2a3f5f"
            },
            "error_y": {
             "color": "#2a3f5f"
            },
            "marker": {
             "line": {
              "color": "#E5ECF6",
              "width": 0.5
             },
             "pattern": {
              "fillmode": "overlay",
              "size": 10,
              "solidity": 0.2
             }
            },
            "type": "bar"
           }
          ],
          "barpolar": [
           {
            "marker": {
             "line": {
              "color": "#E5ECF6",
              "width": 0.5
             },
             "pattern": {
              "fillmode": "overlay",
              "size": 10,
              "solidity": 0.2
             }
            },
            "type": "barpolar"
           }
          ],
          "carpet": [
           {
            "aaxis": {
             "endlinecolor": "#2a3f5f",
             "gridcolor": "white",
             "linecolor": "white",
             "minorgridcolor": "white",
             "startlinecolor": "#2a3f5f"
            },
            "baxis": {
             "endlinecolor": "#2a3f5f",
             "gridcolor": "white",
             "linecolor": "white",
             "minorgridcolor": "white",
             "startlinecolor": "#2a3f5f"
            },
            "type": "carpet"
           }
          ],
          "choropleth": [
           {
            "colorbar": {
             "outlinewidth": 0,
             "ticks": ""
            },
            "type": "choropleth"
           }
          ],
          "contour": [
           {
            "colorbar": {
             "outlinewidth": 0,
             "ticks": ""
            },
            "colorscale": [
             [
              0,
              "#0d0887"
             ],
             [
              0.1111111111111111,
              "#46039f"
             ],
             [
              0.2222222222222222,
              "#7201a8"
             ],
             [
              0.3333333333333333,
              "#9c179e"
             ],
             [
              0.4444444444444444,
              "#bd3786"
             ],
             [
              0.5555555555555556,
              "#d8576b"
             ],
             [
              0.6666666666666666,
              "#ed7953"
             ],
             [
              0.7777777777777778,
              "#fb9f3a"
             ],
             [
              0.8888888888888888,
              "#fdca26"
             ],
             [
              1,
              "#f0f921"
             ]
            ],
            "type": "contour"
           }
          ],
          "contourcarpet": [
           {
            "colorbar": {
             "outlinewidth": 0,
             "ticks": ""
            },
            "type": "contourcarpet"
           }
          ],
          "heatmap": [
           {
            "colorbar": {
             "outlinewidth": 0,
             "ticks": ""
            },
            "colorscale": [
             [
              0,
              "#0d0887"
             ],
             [
              0.1111111111111111,
              "#46039f"
             ],
             [
              0.2222222222222222,
              "#7201a8"
             ],
             [
              0.3333333333333333,
              "#9c179e"
             ],
             [
              0.4444444444444444,
              "#bd3786"
             ],
             [
              0.5555555555555556,
              "#d8576b"
             ],
             [
              0.6666666666666666,
              "#ed7953"
             ],
             [
              0.7777777777777778,
              "#fb9f3a"
             ],
             [
              0.8888888888888888,
              "#fdca26"
             ],
             [
              1,
              "#f0f921"
             ]
            ],
            "type": "heatmap"
           }
          ],
          "histogram": [
           {
            "marker": {
             "pattern": {
              "fillmode": "overlay",
              "size": 10,
              "solidity": 0.2
             }
            },
            "type": "histogram"
           }
          ],
          "histogram2d": [
           {
            "colorbar": {
             "outlinewidth": 0,
             "ticks": ""
            },
            "colorscale": [
             [
              0,
              "#0d0887"
             ],
             [
              0.1111111111111111,
              "#46039f"
             ],
             [
              0.2222222222222222,
              "#7201a8"
             ],
             [
              0.3333333333333333,
              "#9c179e"
             ],
             [
              0.4444444444444444,
              "#bd3786"
             ],
             [
              0.5555555555555556,
              "#d8576b"
             ],
             [
              0.6666666666666666,
              "#ed7953"
             ],
             [
              0.7777777777777778,
              "#fb9f3a"
             ],
             [
              0.8888888888888888,
              "#fdca26"
             ],
             [
              1,
              "#f0f921"
             ]
            ],
            "type": "histogram2d"
           }
          ],
          "histogram2dcontour": [
           {
            "colorbar": {
             "outlinewidth": 0,
             "ticks": ""
            },
            "colorscale": [
             [
              0,
              "#0d0887"
             ],
             [
              0.1111111111111111,
              "#46039f"
             ],
             [
              0.2222222222222222,
              "#7201a8"
             ],
             [
              0.3333333333333333,
              "#9c179e"
             ],
             [
              0.4444444444444444,
              "#bd3786"
             ],
             [
              0.5555555555555556,
              "#d8576b"
             ],
             [
              0.6666666666666666,
              "#ed7953"
             ],
             [
              0.7777777777777778,
              "#fb9f3a"
             ],
             [
              0.8888888888888888,
              "#fdca26"
             ],
             [
              1,
              "#f0f921"
             ]
            ],
            "type": "histogram2dcontour"
           }
          ],
          "mesh3d": [
           {
            "colorbar": {
             "outlinewidth": 0,
             "ticks": ""
            },
            "type": "mesh3d"
           }
          ],
          "parcoords": [
           {
            "line": {
             "colorbar": {
              "outlinewidth": 0,
              "ticks": ""
             }
            },
            "type": "parcoords"
           }
          ],
          "pie": [
           {
            "automargin": true,
            "type": "pie"
           }
          ],
          "scatter": [
           {
            "fillpattern": {
             "fillmode": "overlay",
             "size": 10,
             "solidity": 0.2
            },
            "type": "scatter"
           }
          ],
          "scatter3d": [
           {
            "line": {
             "colorbar": {
              "outlinewidth": 0,
              "ticks": ""
             }
            },
            "marker": {
             "colorbar": {
              "outlinewidth": 0,
              "ticks": ""
             }
            },
            "type": "scatter3d"
           }
          ],
          "scattercarpet": [
           {
            "marker": {
             "colorbar": {
              "outlinewidth": 0,
              "ticks": ""
             }
            },
            "type": "scattercarpet"
           }
          ],
          "scattergeo": [
           {
            "marker": {
             "colorbar": {
              "outlinewidth": 0,
              "ticks": ""
             }
            },
            "type": "scattergeo"
           }
          ],
          "scattergl": [
           {
            "marker": {
             "colorbar": {
              "outlinewidth": 0,
              "ticks": ""
             }
            },
            "type": "scattergl"
           }
          ],
          "scattermap": [
           {
            "marker": {
             "colorbar": {
              "outlinewidth": 0,
              "ticks": ""
             }
            },
            "type": "scattermap"
           }
          ],
          "scattermapbox": [
           {
            "marker": {
             "colorbar": {
              "outlinewidth": 0,
              "ticks": ""
             }
            },
            "type": "scattermapbox"
           }
          ],
          "scatterpolar": [
           {
            "marker": {
             "colorbar": {
              "outlinewidth": 0,
              "ticks": ""
             }
            },
            "type": "scatterpolar"
           }
          ],
          "scatterpolargl": [
           {
            "marker": {
             "colorbar": {
              "outlinewidth": 0,
              "ticks": ""
             }
            },
            "type": "scatterpolargl"
           }
          ],
          "scatterternary": [
           {
            "marker": {
             "colorbar": {
              "outlinewidth": 0,
              "ticks": ""
             }
            },
            "type": "scatterternary"
           }
          ],
          "surface": [
           {
            "colorbar": {
             "outlinewidth": 0,
             "ticks": ""
            },
            "colorscale": [
             [
              0,
              "#0d0887"
             ],
             [
              0.1111111111111111,
              "#46039f"
             ],
             [
              0.2222222222222222,
              "#7201a8"
             ],
             [
              0.3333333333333333,
              "#9c179e"
             ],
             [
              0.4444444444444444,
              "#bd3786"
             ],
             [
              0.5555555555555556,
              "#d8576b"
             ],
             [
              0.6666666666666666,
              "#ed7953"
             ],
             [
              0.7777777777777778,
              "#fb9f3a"
             ],
             [
              0.8888888888888888,
              "#fdca26"
             ],
             [
              1,
              "#f0f921"
             ]
            ],
            "type": "surface"
           }
          ],
          "table": [
           {
            "cells": {
             "fill": {
              "color": "#EBF0F8"
             },
             "line": {
              "color": "white"
             }
            },
            "header": {
             "fill": {
              "color": "#C8D4E3"
             },
             "line": {
              "color": "white"
             }
            },
            "type": "table"
           }
          ]
         },
         "layout": {
          "annotationdefaults": {
           "arrowcolor": "#2a3f5f",
           "arrowhead": 0,
           "arrowwidth": 1
          },
          "autotypenumbers": "strict",
          "coloraxis": {
           "colorbar": {
            "outlinewidth": 0,
            "ticks": ""
           }
          },
          "colorscale": {
           "diverging": [
            [
             0,
             "#8e0152"
            ],
            [
             0.1,
             "#c51b7d"
            ],
            [
             0.2,
             "#de77ae"
            ],
            [
             0.3,
             "#f1b6da"
            ],
            [
             0.4,
             "#fde0ef"
            ],
            [
             0.5,
             "#f7f7f7"
            ],
            [
             0.6,
             "#e6f5d0"
            ],
            [
             0.7,
             "#b8e186"
            ],
            [
             0.8,
             "#7fbc41"
            ],
            [
             0.9,
             "#4d9221"
            ],
            [
             1,
             "#276419"
            ]
           ],
           "sequential": [
            [
             0,
             "#0d0887"
            ],
            [
             0.1111111111111111,
             "#46039f"
            ],
            [
             0.2222222222222222,
             "#7201a8"
            ],
            [
             0.3333333333333333,
             "#9c179e"
            ],
            [
             0.4444444444444444,
             "#bd3786"
            ],
            [
             0.5555555555555556,
             "#d8576b"
            ],
            [
             0.6666666666666666,
             "#ed7953"
            ],
            [
             0.7777777777777778,
             "#fb9f3a"
            ],
            [
             0.8888888888888888,
             "#fdca26"
            ],
            [
             1,
             "#f0f921"
            ]
           ],
           "sequentialminus": [
            [
             0,
             "#0d0887"
            ],
            [
             0.1111111111111111,
             "#46039f"
            ],
            [
             0.2222222222222222,
             "#7201a8"
            ],
            [
             0.3333333333333333,
             "#9c179e"
            ],
            [
             0.4444444444444444,
             "#bd3786"
            ],
            [
             0.5555555555555556,
             "#d8576b"
            ],
            [
             0.6666666666666666,
             "#ed7953"
            ],
            [
             0.7777777777777778,
             "#fb9f3a"
            ],
            [
             0.8888888888888888,
             "#fdca26"
            ],
            [
             1,
             "#f0f921"
            ]
           ]
          },
          "colorway": [
           "#636efa",
           "#EF553B",
           "#00cc96",
           "#ab63fa",
           "#FFA15A",
           "#19d3f3",
           "#FF6692",
           "#B6E880",
           "#FF97FF",
           "#FECB52"
          ],
          "font": {
           "color": "#2a3f5f"
          },
          "geo": {
           "bgcolor": "white",
           "lakecolor": "white",
           "landcolor": "#E5ECF6",
           "showlakes": true,
           "showland": true,
           "subunitcolor": "white"
          },
          "hoverlabel": {
           "align": "left"
          },
          "hovermode": "closest",
          "mapbox": {
           "style": "light"
          },
          "paper_bgcolor": "white",
          "plot_bgcolor": "#E5ECF6",
          "polar": {
           "angularaxis": {
            "gridcolor": "white",
            "linecolor": "white",
            "ticks": ""
           },
           "bgcolor": "#E5ECF6",
           "radialaxis": {
            "gridcolor": "white",
            "linecolor": "white",
            "ticks": ""
           }
          },
          "scene": {
           "xaxis": {
            "backgroundcolor": "#E5ECF6",
            "gridcolor": "white",
            "gridwidth": 2,
            "linecolor": "white",
            "showbackground": true,
            "ticks": "",
            "zerolinecolor": "white"
           },
           "yaxis": {
            "backgroundcolor": "#E5ECF6",
            "gridcolor": "white",
            "gridwidth": 2,
            "linecolor": "white",
            "showbackground": true,
            "ticks": "",
            "zerolinecolor": "white"
           },
           "zaxis": {
            "backgroundcolor": "#E5ECF6",
            "gridcolor": "white",
            "gridwidth": 2,
            "linecolor": "white",
            "showbackground": true,
            "ticks": "",
            "zerolinecolor": "white"
           }
          },
          "shapedefaults": {
           "line": {
            "color": "#2a3f5f"
           }
          },
          "ternary": {
           "aaxis": {
            "gridcolor": "white",
            "linecolor": "white",
            "ticks": ""
           },
           "baxis": {
            "gridcolor": "white",
            "linecolor": "white",
            "ticks": ""
           },
           "bgcolor": "#E5ECF6",
           "caxis": {
            "gridcolor": "white",
            "linecolor": "white",
            "ticks": ""
           }
          },
          "title": {
           "x": 0.05
          },
          "xaxis": {
           "automargin": true,
           "gridcolor": "white",
           "linecolor": "white",
           "ticks": "",
           "title": {
            "standoff": 15
           },
           "zerolinecolor": "white",
           "zerolinewidth": 2
          },
          "yaxis": {
           "automargin": true,
           "gridcolor": "white",
           "linecolor": "white",
           "ticks": "",
           "title": {
            "standoff": 15
           },
           "zerolinecolor": "white",
           "zerolinewidth": 2
          }
         }
        },
        "title": {
         "text": "Diferencia porcentual mes a mes"
        },
        "width": 1200,
        "xaxis": {
         "anchor": "y",
         "domain": [
          0,
          1
         ],
         "tickangle": 45,
         "tickformat": "%b-%Y"
        },
        "xaxis2": {
         "anchor": "y2",
         "domain": [
          0,
          1
         ],
         "tickangle": 45,
         "tickformat": "%b-%Y"
        },
        "xaxis3": {
         "anchor": "y3",
         "domain": [
          0,
          1
         ],
         "tickangle": 45,
         "tickformat": "%b-%Y"
        },
        "yaxis": {
         "anchor": "x",
         "domain": [
          0.7466666666666667,
          1
         ],
         "title": {
          "text": "% Dif."
         },
         "zeroline": true,
         "zerolinecolor": "gray"
        },
        "yaxis2": {
         "anchor": "x2",
         "domain": [
          0.37333333333333335,
          0.6266666666666667
         ],
         "title": {
          "text": "% Dif."
         },
         "zeroline": true,
         "zerolinecolor": "gray"
        },
        "yaxis3": {
         "anchor": "x3",
         "domain": [
          0,
          0.25333333333333335
         ],
         "title": {
          "text": "% Dif."
         },
         "zeroline": true,
         "zerolinecolor": "gray"
        }
       }
      }
     },
     "metadata": {},
     "output_type": "display_data"
    }
   ],
   "source": [
    "# Calcular diferencias antes de crear df_hist_tabla y los escenarios\n",
    "\n",
    "def calc_diff(df, col, first_ref=None):\n",
    "    diffs = df[col].pct_change() * 100\n",
    "    if first_ref is not None and len(diffs) > 0:\n",
    "        # Reemplaza el primer valor NaN por la diferencia con el último valor del histórico\n",
    "        diffs.iloc[0] = 100 * (df[col].iloc[0] - first_ref) / ((abs(df[col].iloc[0]) + abs(first_ref)) / 2)\n",
    "    return diffs\n",
    "\n",
    "# Último valor real del histórico (desescalado)\n",
    "last_hist = target_scaler.inverse_transform(df_hist[['y_scaled']]).flatten()[-1]\n",
    "\n",
    "# Calcular diferencias\n",
    "# Histórico: normal\n",
    "# Escenarios: primer punto vs último histórico\n",
    "df_hist['DIF_PCT'] = calc_diff(df_hist, 'y')\n",
    "df_fcst1['DIF_PCT'] = calc_diff(df_fcst1, 'CANTIDAD_VENDIDA_PRED', first_ref=last_hist)\n",
    "df_fcst2['DIF_PCT'] = calc_diff(df_fcst2, 'CANTIDAD_VENDIDA_PRED', first_ref=last_hist)\n",
    "\n",
    "# Unificar histórico y escenarios en una sola tabla para análisis y exportación\n",
    "\n",
    "# Copias para no modificar los originales\n",
    "df_hist_tabla = df_hist[['ds', 'REGION_CATEGORIA_PRODUCTO', 'y', 'DIF_PCT']].copy()\n",
    "df_hist_tabla['TIPO'] = 'HISTÓRICO'\n",
    "df_hist_tabla = df_hist_tabla.rename(columns={'y': 'M3_PRODUCTO'})\n",
    "df_hist_tabla['IC_95_LOWER'] = np.nan\n",
    "df_hist_tabla['IC_95_UPPER'] = np.nan\n",
    "\n",
    "# Escenario 1\n",
    "sc1 = df_fcst1[['ds', 'REGION_CATEGORIA_PRODUCTO', 'CANTIDAD_VENDIDA_PRED', 'IC_95_LOWER', 'IC_95_UPPER', 'DIF_PCT']].copy()\n",
    "sc1['TIPO'] = 'ESCENARIO 1'\n",
    "sc1 = sc1.rename(columns={'CANTIDAD_VENDIDA_PRED': 'M3_PRODUCTO'})\n",
    "\n",
    "# Escenario 2\n",
    "sc2 = df_fcst2[['ds', 'REGION_CATEGORIA_PRODUCTO', 'CANTIDAD_VENDIDA_PRED', 'IC_95_LOWER', 'IC_95_UPPER', 'DIF_PCT']].copy()\n",
    "sc2['TIPO'] = 'ESCENARIO 2'\n",
    "sc2 = sc2.rename(columns={'CANTIDAD_VENDIDA_PRED': 'M3_PRODUCTO'})\n",
    "\n",
    "# Unir todo\n",
    "df_resultados = pd.concat([df_hist_tabla, sc1, sc2], ignore_index=True)\n",
    "\n",
    "# Split de REGION_CATEGORIA_PRODUCTO\n",
    "df_resultados[['REGION', 'CATEGORIA', 'PRODUCTO']] = df_resultados['REGION_CATEGORIA_PRODUCTO'].str.split('-', n=2, expand=True)\n",
    "\n",
    "# Renombrar y reordenar columnas a mayúsculas\n",
    "df_resultados = df_resultados.rename(columns={\n",
    "    'REGION_CATEGORIA_PRODUCTO': 'REGION_CATEGORIA_PRODUCTO',\n",
    "    'ds': 'FECHA',\n",
    "    'TIPO': 'TIPO',\n",
    "    'M3_PRODUCTO': 'M3_PRODUCTO',\n",
    "    'IC_95_LOWER': 'IC_95_LOWER',\n",
    "    'IC_95_UPPER': 'IC_95_UPPER',\n",
    "    'DIF_PCT': 'DIF_PCT',\n",
    "    'REGION': 'REGION',\n",
    "    'CATEGORIA': 'CATEGORIA',\n",
    "    'PRODUCTO': 'PRODUCTO'\n",
    "})\n",
    "\n",
    "# Orden final de columnas\n",
    "columnas_final = [\n",
    "    'REGION_CATEGORIA_PRODUCTO',\n",
    "    'REGION', 'CATEGORIA', 'PRODUCTO',\n",
    "    'FECHA', 'TIPO', 'M3_PRODUCTO', 'IC_95_LOWER', 'IC_95_UPPER', 'DIF_PCT'\n",
    "]\n",
    "df_resultados = df_resultados[columnas_final]\n",
    "\n",
    "# Convertir nombres de columnas a mayúsculas (por si acaso)\n",
    "df_resultados.columns = [c.upper() for c in df_resultados.columns]\n",
    "\n",
    "# Mostrar tabla final\n",
    "print(df_resultados.head())\n",
    "df_resultados\n",
    "\n",
    "\n",
    "get_colors = lambda difs: [\n",
    "    'green' if d > 0 else 'yellow' if d == 0 else 'red' for d in difs\n",
    "]\n",
    "\n",
    "fig = sp.make_subplots(\n",
    "    rows=3, cols=1, \n",
    "    subplot_titles=['Histórico', 'Escenario 1', 'Escenario 2'],\n",
    "    vertical_spacing=0.12\n",
    ")\n",
    "\n",
    "# 1. Histórico\n",
    "fig.add_trace(\n",
    "    go.Bar(\n",
    "        x=df_hist['ds'],\n",
    "        y=df_hist['DIF_PCT'],\n",
    "        marker_color=get_colors(df_hist['DIF_PCT']),\n",
    "        text=[f'{v:.1f}%' if not pd.isnull(v) else '' for v in df_hist['DIF_PCT']],\n",
    "        textposition='outside',\n",
    "        name='Histórico',\n",
    "        width=20*24*60*60*1000\n",
    "    ), row=1, col=1\n",
    ")\n",
    "# 2. Escenario 1\n",
    "fig.add_trace(\n",
    "    go.Bar(\n",
    "        x=df_fcst1['ds'],\n",
    "        y=df_fcst1['DIF_PCT'],\n",
    "        marker_color=get_colors(df_fcst1['DIF_PCT']),\n",
    "        text=[f'{v:.1f}%' if not pd.isnull(v) else '' for v in df_fcst1['DIF_PCT']],\n",
    "        textposition='outside',\n",
    "        name='Escenario 1',\n",
    "        width=20*24*60*60*1000\n",
    "    ), row=2, col=1\n",
    ")\n",
    "# 3. Escenario 2\n",
    "fig.add_trace(\n",
    "    go.Bar(\n",
    "        x=df_fcst2['ds'],\n",
    "        y=df_fcst2['DIF_PCT'],\n",
    "        marker_color=get_colors(df_fcst2['DIF_PCT']),\n",
    "        text=[f'{v:.1f}%' if not pd.isnull(v) else '' for v in df_fcst2['DIF_PCT']],\n",
    "        textposition='outside',\n",
    "        name='Escenario 2',\n",
    "        width=20*24*60*60*1000\n",
    "    ), row=3, col=1\n",
    ")\n",
    "\n",
    "fig.update_layout(\n",
    "    title_text='Diferencia porcentual mes a mes',\n",
    "    showlegend=False,\n",
    "    height=1300,\n",
    "    width=1200,\n",
    "    bargap=0.25,\n",
    "    font=dict(size=12),\n",
    "    margin=dict(t=40, l=40, r=40, b=40)\n",
    ")\n",
    "for i in range(1, 4):\n",
    "    fig.update_yaxes(title_text='% Dif.', row=i, col=1, zeroline=True, zerolinecolor='gray')\n",
    "    fig.update_xaxes(tickformat='%b-%Y', row=i, col=1, tickangle=45)\n",
    "fig.show()"
   ]
  },
  {
   "cell_type": "code",
   "execution_count": 25,
   "id": "beac1f75",
   "metadata": {},
   "outputs": [
    {
     "name": "stdout",
     "output_type": "stream",
     "text": [
      "(53, 10)\n"
     ]
    },
    {
     "data": {
      "application/vnd.microsoft.datawrangler.viewer.v0+json": {
       "columns": [
        {
         "name": "index",
         "rawType": "int64",
         "type": "integer"
        },
        {
         "name": "REGION_CATEGORIA_PRODUCTO",
         "rawType": "object",
         "type": "string"
        },
        {
         "name": "REGION",
         "rawType": "object",
         "type": "string"
        },
        {
         "name": "CATEGORIA",
         "rawType": "object",
         "type": "string"
        },
        {
         "name": "PRODUCTO",
         "rawType": "object",
         "type": "string"
        },
        {
         "name": "FECHA",
         "rawType": "datetime64[ns]",
         "type": "datetime"
        },
        {
         "name": "TIPO",
         "rawType": "object",
         "type": "string"
        },
        {
         "name": "M3_PRODUCTO",
         "rawType": "float64",
         "type": "float"
        },
        {
         "name": "IC_95_LOWER",
         "rawType": "float64",
         "type": "float"
        },
        {
         "name": "IC_95_UPPER",
         "rawType": "float64",
         "type": "float"
        },
        {
         "name": "DIF_PCT",
         "rawType": "float64",
         "type": "float"
        }
       ],
       "ref": "90252569-112c-4031-9a77-6a4384246b08",
       "rows": [
        [
         "0",
         "Antioquia-Agua-Agua con Gas 500mL x 6uds",
         "Antioquia",
         "Agua",
         "Agua con Gas 500mL x 6uds",
         "2023-01-01 00:00:00",
         "HISTÓRICO",
         "1.014",
         null,
         null,
         null
        ],
        [
         "1",
         "Antioquia-Agua-Agua con Gas 500mL x 6uds",
         "Antioquia",
         "Agua",
         "Agua con Gas 500mL x 6uds",
         "2023-02-01 00:00:00",
         "HISTÓRICO",
         "0.819",
         null,
         null,
         "-19.23076923076924"
        ],
        [
         "2",
         "Antioquia-Agua-Agua con Gas 500mL x 6uds",
         "Antioquia",
         "Agua",
         "Agua con Gas 500mL x 6uds",
         "2023-03-01 00:00:00",
         "HISTÓRICO",
         "0.903",
         null,
         null,
         "10.256410256410264"
        ],
        [
         "3",
         "Antioquia-Agua-Agua con Gas 500mL x 6uds",
         "Antioquia",
         "Agua",
         "Agua con Gas 500mL x 6uds",
         "2023-04-01 00:00:00",
         "HISTÓRICO",
         "0.975",
         null,
         null,
         "7.973421926910285"
        ],
        [
         "4",
         "Antioquia-Agua-Agua con Gas 500mL x 6uds",
         "Antioquia",
         "Agua",
         "Agua con Gas 500mL x 6uds",
         "2023-05-01 00:00:00",
         "HISTÓRICO",
         "0.969",
         null,
         null,
         "-0.6153846153846176"
        ],
        [
         "5",
         "Antioquia-Agua-Agua con Gas 500mL x 6uds",
         "Antioquia",
         "Agua",
         "Agua con Gas 500mL x 6uds",
         "2023-06-01 00:00:00",
         "HISTÓRICO",
         "0.813",
         null,
         null,
         "-16.09907120743035"
        ],
        [
         "6",
         "Antioquia-Agua-Agua con Gas 500mL x 6uds",
         "Antioquia",
         "Agua",
         "Agua con Gas 500mL x 6uds",
         "2023-07-01 00:00:00",
         "HISTÓRICO",
         "0.933",
         null,
         null,
         "14.760147601476037"
        ],
        [
         "7",
         "Antioquia-Agua-Agua con Gas 500mL x 6uds",
         "Antioquia",
         "Agua",
         "Agua con Gas 500mL x 6uds",
         "2023-08-01 00:00:00",
         "HISTÓRICO",
         "1.296",
         null,
         null,
         "38.90675241157555"
        ],
        [
         "8",
         "Antioquia-Agua-Agua con Gas 500mL x 6uds",
         "Antioquia",
         "Agua",
         "Agua con Gas 500mL x 6uds",
         "2023-09-01 00:00:00",
         "HISTÓRICO",
         "0.855",
         null,
         null,
         "-34.02777777777778"
        ],
        [
         "9",
         "Antioquia-Agua-Agua con Gas 500mL x 6uds",
         "Antioquia",
         "Agua",
         "Agua con Gas 500mL x 6uds",
         "2023-10-01 00:00:00",
         "HISTÓRICO",
         "1.011",
         null,
         null,
         "18.24561403508771"
        ],
        [
         "10",
         "Antioquia-Agua-Agua con Gas 500mL x 6uds",
         "Antioquia",
         "Agua",
         "Agua con Gas 500mL x 6uds",
         "2023-11-01 00:00:00",
         "HISTÓRICO",
         "1.248",
         null,
         null,
         "23.44213649851634"
        ],
        [
         "11",
         "Antioquia-Agua-Agua con Gas 500mL x 6uds",
         "Antioquia",
         "Agua",
         "Agua con Gas 500mL x 6uds",
         "2023-12-01 00:00:00",
         "HISTÓRICO",
         "1.11",
         null,
         null,
         "-11.057692307692301"
        ],
        [
         "12",
         "Antioquia-Agua-Agua con Gas 500mL x 6uds",
         "Antioquia",
         "Agua",
         "Agua con Gas 500mL x 6uds",
         "2024-01-01 00:00:00",
         "HISTÓRICO",
         "1.257",
         null,
         null,
         "13.243243243243219"
        ],
        [
         "13",
         "Antioquia-Agua-Agua con Gas 500mL x 6uds",
         "Antioquia",
         "Agua",
         "Agua con Gas 500mL x 6uds",
         "2024-02-01 00:00:00",
         "HISTÓRICO",
         "1.071",
         null,
         null,
         "-14.797136038186153"
        ],
        [
         "14",
         "Antioquia-Agua-Agua con Gas 500mL x 6uds",
         "Antioquia",
         "Agua",
         "Agua con Gas 500mL x 6uds",
         "2024-03-01 00:00:00",
         "HISTÓRICO",
         "1.317",
         null,
         null,
         "22.969187675070035"
        ],
        [
         "15",
         "Antioquia-Agua-Agua con Gas 500mL x 6uds",
         "Antioquia",
         "Agua",
         "Agua con Gas 500mL x 6uds",
         "2024-04-01 00:00:00",
         "HISTÓRICO",
         "1.08",
         null,
         null,
         "-17.995444191343957"
        ],
        [
         "16",
         "Antioquia-Agua-Agua con Gas 500mL x 6uds",
         "Antioquia",
         "Agua",
         "Agua con Gas 500mL x 6uds",
         "2024-05-01 00:00:00",
         "HISTÓRICO",
         "1.002",
         null,
         null,
         "-7.22222222222223"
        ],
        [
         "17",
         "Antioquia-Agua-Agua con Gas 500mL x 6uds",
         "Antioquia",
         "Agua",
         "Agua con Gas 500mL x 6uds",
         "2024-06-01 00:00:00",
         "HISTÓRICO",
         "1.446",
         null,
         null,
         "44.31137724550898"
        ],
        [
         "18",
         "Antioquia-Agua-Agua con Gas 500mL x 6uds",
         "Antioquia",
         "Agua",
         "Agua con Gas 500mL x 6uds",
         "2024-07-01 00:00:00",
         "HISTÓRICO",
         "1.197",
         null,
         null,
         "-17.21991701244813"
        ],
        [
         "19",
         "Antioquia-Agua-Agua con Gas 500mL x 6uds",
         "Antioquia",
         "Agua",
         "Agua con Gas 500mL x 6uds",
         "2024-08-01 00:00:00",
         "HISTÓRICO",
         "1.119",
         null,
         null,
         "-6.516290726817053"
        ],
        [
         "20",
         "Antioquia-Agua-Agua con Gas 500mL x 6uds",
         "Antioquia",
         "Agua",
         "Agua con Gas 500mL x 6uds",
         "2024-09-01 00:00:00",
         "HISTÓRICO",
         "1.281",
         null,
         null,
         "14.477211796246635"
        ],
        [
         "21",
         "Antioquia-Agua-Agua con Gas 500mL x 6uds",
         "Antioquia",
         "Agua",
         "Agua con Gas 500mL x 6uds",
         "2024-10-01 00:00:00",
         "HISTÓRICO",
         "1.548",
         null,
         null,
         "20.843091334894616"
        ],
        [
         "22",
         "Antioquia-Agua-Agua con Gas 500mL x 6uds",
         "Antioquia",
         "Agua",
         "Agua con Gas 500mL x 6uds",
         "2024-11-01 00:00:00",
         "HISTÓRICO",
         "1.515",
         null,
         null,
         "-2.131782945736438"
        ],
        [
         "23",
         "Antioquia-Agua-Agua con Gas 500mL x 6uds",
         "Antioquia",
         "Agua",
         "Agua con Gas 500mL x 6uds",
         "2024-12-01 00:00:00",
         "HISTÓRICO",
         "2.127",
         null,
         null,
         "40.39603960396039"
        ],
        [
         "24",
         "Antioquia-Agua-Agua con Gas 500mL x 6uds",
         "Antioquia",
         "Agua",
         "Agua con Gas 500mL x 6uds",
         "2025-01-01 00:00:00",
         "HISTÓRICO",
         "1.35",
         null,
         null,
         "-36.53032440056416"
        ],
        [
         "25",
         "Antioquia-Agua-Agua con Gas 500mL x 6uds",
         "Antioquia",
         "Agua",
         "Agua con Gas 500mL x 6uds",
         "2025-02-01 00:00:00",
         "HISTÓRICO",
         "1.239",
         null,
         null,
         "-8.22222222222222"
        ],
        [
         "26",
         "Antioquia-Agua-Agua con Gas 500mL x 6uds",
         "Antioquia",
         "Agua",
         "Agua con Gas 500mL x 6uds",
         "2025-03-01 00:00:00",
         "HISTÓRICO",
         "1.605",
         null,
         null,
         "29.539951573849876"
        ],
        [
         "27",
         "Antioquia-Agua-Agua con Gas 500mL x 6uds",
         "Antioquia",
         "Agua",
         "Agua con Gas 500mL x 6uds",
         "2025-04-01 00:00:00",
         "HISTÓRICO",
         "1.191",
         null,
         null,
         "-25.794392523364486"
        ],
        [
         "28",
         "Antioquia-Agua-Agua con Gas 500mL x 6uds",
         "Antioquia",
         "Agua",
         "Agua con Gas 500mL x 6uds",
         "2025-05-01 00:00:00",
         "HISTÓRICO",
         "1.716",
         null,
         null,
         "44.08060453400502"
        ],
        [
         "29",
         "Antioquia-Agua-Agua con Gas 500mL x 6uds",
         "Antioquia",
         "Agua",
         "Agua con Gas 500mL x 6uds",
         "2025-06-01 00:00:00",
         "ESCENARIO 1",
         "1.6239221394318188",
         "1.5394163724812322",
         "1.7061532928921022",
         "-5.513772879977689"
        ],
        [
         "30",
         "Antioquia-Agua-Agua con Gas 500mL x 6uds",
         "Antioquia",
         "Agua",
         "Agua con Gas 500mL x 6uds",
         "2025-07-01 00:00:00",
         "ESCENARIO 1",
         "1.538072063297629",
         "1.45309713533131",
         "1.6200819809045006",
         "-5.286588195923436"
        ],
        [
         "31",
         "Antioquia-Agua-Agua con Gas 500mL x 6uds",
         "Antioquia",
         "Agua",
         "Agua con Gas 500mL x 6uds",
         "2025-08-01 00:00:00",
         "ESCENARIO 1",
         "1.537297807551747",
         "1.4556479113785936",
         "1.6233002913022774",
         "-0.05033936733901401"
        ],
        [
         "32",
         "Antioquia-Agua-Agua con Gas 500mL x 6uds",
         "Antioquia",
         "Agua",
         "Agua con Gas 500mL x 6uds",
         "2025-09-01 00:00:00",
         "ESCENARIO 1",
         "1.504471399866828",
         "1.4312831445212528",
         "1.5882861260268177",
         "-2.1353317180096254"
        ],
        [
         "33",
         "Antioquia-Agua-Agua con Gas 500mL x 6uds",
         "Antioquia",
         "Agua",
         "Agua con Gas 500mL x 6uds",
         "2025-10-01 00:00:00",
         "ESCENARIO 1",
         "1.7400642541566138",
         "1.6547078458762223",
         "1.8229118679996321",
         "15.659510331046489"
        ],
        [
         "34",
         "Antioquia-Agua-Agua con Gas 500mL x 6uds",
         "Antioquia",
         "Agua",
         "Agua con Gas 500mL x 6uds",
         "2025-11-01 00:00:00",
         "ESCENARIO 1",
         "1.7754440949792123",
         "1.6919815002772167",
         "1.8536684123201415",
         "2.0332491020423005"
        ],
        [
         "35",
         "Antioquia-Agua-Agua con Gas 500mL x 6uds",
         "Antioquia",
         "Agua",
         "Agua con Gas 500mL x 6uds",
         "2025-12-01 00:00:00",
         "ESCENARIO 1",
         "2.1771804504586436",
         "2.093995453330316",
         "2.260154882872654",
         "22.627372870568195"
        ],
        [
         "36",
         "Antioquia-Agua-Agua con Gas 500mL x 6uds",
         "Antioquia",
         "Agua",
         "Agua con Gas 500mL x 6uds",
         "2026-01-01 00:00:00",
         "ESCENARIO 1",
         "1.669311553875266",
         "1.5839864643716137",
         "1.7532542029746843",
         "-23.326908730803186"
        ],
        [
         "37",
         "Antioquia-Agua-Agua con Gas 500mL x 6uds",
         "Antioquia",
         "Agua",
         "Agua con Gas 500mL x 6uds",
         "2026-02-01 00:00:00",
         "ESCENARIO 1",
         "1.520349859678885",
         "1.436573660463823",
         "1.6000825470953548",
         "-8.923540596755009"
        ],
        [
         "38",
         "Antioquia-Agua-Agua con Gas 500mL x 6uds",
         "Antioquia",
         "Agua",
         "Agua con Gas 500mL x 6uds",
         "2026-03-01 00:00:00",
         "ESCENARIO 1",
         "1.7419543344626918",
         "1.6580371619468177",
         "1.8251864364586887",
         "14.575886817959937"
        ],
        [
         "39",
         "Antioquia-Agua-Agua con Gas 500mL x 6uds",
         "Antioquia",
         "Agua",
         "Agua con Gas 500mL x 6uds",
         "2026-04-01 00:00:00",
         "ESCENARIO 1",
         "1.5746559252745322",
         "1.4980632161383336",
         "1.6565745362295201",
         "-9.604064003191159"
        ],
        [
         "40",
         "Antioquia-Agua-Agua con Gas 500mL x 6uds",
         "Antioquia",
         "Agua",
         "Agua con Gas 500mL x 6uds",
         "2026-05-01 00:00:00",
         "ESCENARIO 1",
         "1.7726332055559735",
         "1.693926340852169",
         "1.8523360820281096",
         "12.572732690598754"
        ],
        [
         "41",
         "Antioquia-Agua-Agua con Gas 500mL x 6uds",
         "Antioquia",
         "Agua",
         "Agua con Gas 500mL x 6uds",
         "2025-06-01 00:00:00",
         "ESCENARIO 2",
         "1.8034800963622277",
         "1.7209549624825242",
         "1.8866614064379421",
         "4.971194265462567"
        ],
        [
         "42",
         "Antioquia-Agua-Agua con Gas 500mL x 6uds",
         "Antioquia",
         "Agua",
         "Agua con Gas 500mL x 6uds",
         "2025-07-01 00:00:00",
         "ESCENARIO 2",
         "1.7176300202280381",
         "1.6398640118750687",
         "1.8029318517584607",
         "-4.760245278412356"
        ],
        [
         "43",
         "Antioquia-Agua-Agua con Gas 500mL x 6uds",
         "Antioquia",
         "Agua",
         "Agua con Gas 500mL x 6uds",
         "2025-08-01 00:00:00",
         "ESCENARIO 2",
         "1.716855764482156",
         "1.6388070958132048",
         "1.7988393988657934",
         "-0.045076980302150016"
        ],
        [
         "44",
         "Antioquia-Agua-Agua con Gas 500mL x 6uds",
         "Antioquia",
         "Agua",
         "Agua con Gas 500mL x 6uds",
         "2025-09-01 00:00:00",
         "ESCENARIO 2",
         "1.6840293567972369",
         "1.6003887343543433",
         "1.764479095261699",
         "-1.9120073080117095"
        ],
        [
         "45",
         "Antioquia-Agua-Agua con Gas 500mL x 6uds",
         "Antioquia",
         "Agua",
         "Agua con Gas 500mL x 6uds",
         "2025-10-01 00:00:00",
         "ESCENARIO 2",
         "1.9196222110870227",
         "1.8377731279957765",
         "2.0016107406825827",
         "13.989830601162856"
        ],
        [
         "46",
         "Antioquia-Agua-Agua con Gas 500mL x 6uds",
         "Antioquia",
         "Agua",
         "Agua con Gas 500mL x 6uds",
         "2025-11-01 00:00:00",
         "ESCENARIO 2",
         "1.9550020519096214",
         "1.869687890860608",
         "2.0423574680467658",
         "1.8430626931829508"
        ],
        [
         "47",
         "Antioquia-Agua-Agua con Gas 500mL x 6uds",
         "Antioquia",
         "Agua",
         "Agua con Gas 500mL x 6uds",
         "2025-12-01 00:00:00",
         "ESCENARIO 2",
         "2.3567384073890527",
         "2.2730445081343786",
         "2.4384396905679253",
         "20.54915262554433"
        ],
        [
         "48",
         "Antioquia-Agua-Agua con Gas 500mL x 6uds",
         "Antioquia",
         "Agua",
         "Agua con Gas 500mL x 6uds",
         "2026-01-01 00:00:00",
         "ESCENARIO 2",
         "1.8488695108056752",
         "1.7679747199320788",
         "1.9384663888858853",
         "-21.549650779698858"
        ],
        [
         "49",
         "Antioquia-Agua-Agua con Gas 500mL x 6uds",
         "Antioquia",
         "Agua",
         "Agua con Gas 500mL x 6uds",
         "2026-02-01 00:00:00",
         "ESCENARIO 2",
         "1.699907816609294",
         "1.622136883043725",
         "1.781955509746512",
         "-8.056906846360867"
        ]
       ],
       "shape": {
        "columns": 10,
        "rows": 53
       }
      },
      "text/html": [
       "<div>\n",
       "<style scoped>\n",
       "    .dataframe tbody tr th:only-of-type {\n",
       "        vertical-align: middle;\n",
       "    }\n",
       "\n",
       "    .dataframe tbody tr th {\n",
       "        vertical-align: top;\n",
       "    }\n",
       "\n",
       "    .dataframe thead th {\n",
       "        text-align: right;\n",
       "    }\n",
       "</style>\n",
       "<table border=\"1\" class=\"dataframe\">\n",
       "  <thead>\n",
       "    <tr style=\"text-align: right;\">\n",
       "      <th></th>\n",
       "      <th>REGION_CATEGORIA_PRODUCTO</th>\n",
       "      <th>REGION</th>\n",
       "      <th>CATEGORIA</th>\n",
       "      <th>PRODUCTO</th>\n",
       "      <th>FECHA</th>\n",
       "      <th>TIPO</th>\n",
       "      <th>M3_PRODUCTO</th>\n",
       "      <th>IC_95_LOWER</th>\n",
       "      <th>IC_95_UPPER</th>\n",
       "      <th>DIF_PCT</th>\n",
       "    </tr>\n",
       "  </thead>\n",
       "  <tbody>\n",
       "    <tr>\n",
       "      <th>0</th>\n",
       "      <td>Antioquia-Agua-Agua con Gas 500mL x 6uds</td>\n",
       "      <td>Antioquia</td>\n",
       "      <td>Agua</td>\n",
       "      <td>Agua con Gas 500mL x 6uds</td>\n",
       "      <td>2023-01-01</td>\n",
       "      <td>HISTÓRICO</td>\n",
       "      <td>1.014000</td>\n",
       "      <td>NaN</td>\n",
       "      <td>NaN</td>\n",
       "      <td>NaN</td>\n",
       "    </tr>\n",
       "    <tr>\n",
       "      <th>1</th>\n",
       "      <td>Antioquia-Agua-Agua con Gas 500mL x 6uds</td>\n",
       "      <td>Antioquia</td>\n",
       "      <td>Agua</td>\n",
       "      <td>Agua con Gas 500mL x 6uds</td>\n",
       "      <td>2023-02-01</td>\n",
       "      <td>HISTÓRICO</td>\n",
       "      <td>0.819000</td>\n",
       "      <td>NaN</td>\n",
       "      <td>NaN</td>\n",
       "      <td>-19.230769</td>\n",
       "    </tr>\n",
       "    <tr>\n",
       "      <th>2</th>\n",
       "      <td>Antioquia-Agua-Agua con Gas 500mL x 6uds</td>\n",
       "      <td>Antioquia</td>\n",
       "      <td>Agua</td>\n",
       "      <td>Agua con Gas 500mL x 6uds</td>\n",
       "      <td>2023-03-01</td>\n",
       "      <td>HISTÓRICO</td>\n",
       "      <td>0.903000</td>\n",
       "      <td>NaN</td>\n",
       "      <td>NaN</td>\n",
       "      <td>10.256410</td>\n",
       "    </tr>\n",
       "    <tr>\n",
       "      <th>3</th>\n",
       "      <td>Antioquia-Agua-Agua con Gas 500mL x 6uds</td>\n",
       "      <td>Antioquia</td>\n",
       "      <td>Agua</td>\n",
       "      <td>Agua con Gas 500mL x 6uds</td>\n",
       "      <td>2023-04-01</td>\n",
       "      <td>HISTÓRICO</td>\n",
       "      <td>0.975000</td>\n",
       "      <td>NaN</td>\n",
       "      <td>NaN</td>\n",
       "      <td>7.973422</td>\n",
       "    </tr>\n",
       "    <tr>\n",
       "      <th>4</th>\n",
       "      <td>Antioquia-Agua-Agua con Gas 500mL x 6uds</td>\n",
       "      <td>Antioquia</td>\n",
       "      <td>Agua</td>\n",
       "      <td>Agua con Gas 500mL x 6uds</td>\n",
       "      <td>2023-05-01</td>\n",
       "      <td>HISTÓRICO</td>\n",
       "      <td>0.969000</td>\n",
       "      <td>NaN</td>\n",
       "      <td>NaN</td>\n",
       "      <td>-0.615385</td>\n",
       "    </tr>\n",
       "    <tr>\n",
       "      <th>5</th>\n",
       "      <td>Antioquia-Agua-Agua con Gas 500mL x 6uds</td>\n",
       "      <td>Antioquia</td>\n",
       "      <td>Agua</td>\n",
       "      <td>Agua con Gas 500mL x 6uds</td>\n",
       "      <td>2023-06-01</td>\n",
       "      <td>HISTÓRICO</td>\n",
       "      <td>0.813000</td>\n",
       "      <td>NaN</td>\n",
       "      <td>NaN</td>\n",
       "      <td>-16.099071</td>\n",
       "    </tr>\n",
       "    <tr>\n",
       "      <th>6</th>\n",
       "      <td>Antioquia-Agua-Agua con Gas 500mL x 6uds</td>\n",
       "      <td>Antioquia</td>\n",
       "      <td>Agua</td>\n",
       "      <td>Agua con Gas 500mL x 6uds</td>\n",
       "      <td>2023-07-01</td>\n",
       "      <td>HISTÓRICO</td>\n",
       "      <td>0.933000</td>\n",
       "      <td>NaN</td>\n",
       "      <td>NaN</td>\n",
       "      <td>14.760148</td>\n",
       "    </tr>\n",
       "    <tr>\n",
       "      <th>7</th>\n",
       "      <td>Antioquia-Agua-Agua con Gas 500mL x 6uds</td>\n",
       "      <td>Antioquia</td>\n",
       "      <td>Agua</td>\n",
       "      <td>Agua con Gas 500mL x 6uds</td>\n",
       "      <td>2023-08-01</td>\n",
       "      <td>HISTÓRICO</td>\n",
       "      <td>1.296000</td>\n",
       "      <td>NaN</td>\n",
       "      <td>NaN</td>\n",
       "      <td>38.906752</td>\n",
       "    </tr>\n",
       "    <tr>\n",
       "      <th>8</th>\n",
       "      <td>Antioquia-Agua-Agua con Gas 500mL x 6uds</td>\n",
       "      <td>Antioquia</td>\n",
       "      <td>Agua</td>\n",
       "      <td>Agua con Gas 500mL x 6uds</td>\n",
       "      <td>2023-09-01</td>\n",
       "      <td>HISTÓRICO</td>\n",
       "      <td>0.855000</td>\n",
       "      <td>NaN</td>\n",
       "      <td>NaN</td>\n",
       "      <td>-34.027778</td>\n",
       "    </tr>\n",
       "    <tr>\n",
       "      <th>9</th>\n",
       "      <td>Antioquia-Agua-Agua con Gas 500mL x 6uds</td>\n",
       "      <td>Antioquia</td>\n",
       "      <td>Agua</td>\n",
       "      <td>Agua con Gas 500mL x 6uds</td>\n",
       "      <td>2023-10-01</td>\n",
       "      <td>HISTÓRICO</td>\n",
       "      <td>1.011000</td>\n",
       "      <td>NaN</td>\n",
       "      <td>NaN</td>\n",
       "      <td>18.245614</td>\n",
       "    </tr>\n",
       "    <tr>\n",
       "      <th>10</th>\n",
       "      <td>Antioquia-Agua-Agua con Gas 500mL x 6uds</td>\n",
       "      <td>Antioquia</td>\n",
       "      <td>Agua</td>\n",
       "      <td>Agua con Gas 500mL x 6uds</td>\n",
       "      <td>2023-11-01</td>\n",
       "      <td>HISTÓRICO</td>\n",
       "      <td>1.248000</td>\n",
       "      <td>NaN</td>\n",
       "      <td>NaN</td>\n",
       "      <td>23.442136</td>\n",
       "    </tr>\n",
       "    <tr>\n",
       "      <th>11</th>\n",
       "      <td>Antioquia-Agua-Agua con Gas 500mL x 6uds</td>\n",
       "      <td>Antioquia</td>\n",
       "      <td>Agua</td>\n",
       "      <td>Agua con Gas 500mL x 6uds</td>\n",
       "      <td>2023-12-01</td>\n",
       "      <td>HISTÓRICO</td>\n",
       "      <td>1.110000</td>\n",
       "      <td>NaN</td>\n",
       "      <td>NaN</td>\n",
       "      <td>-11.057692</td>\n",
       "    </tr>\n",
       "    <tr>\n",
       "      <th>12</th>\n",
       "      <td>Antioquia-Agua-Agua con Gas 500mL x 6uds</td>\n",
       "      <td>Antioquia</td>\n",
       "      <td>Agua</td>\n",
       "      <td>Agua con Gas 500mL x 6uds</td>\n",
       "      <td>2024-01-01</td>\n",
       "      <td>HISTÓRICO</td>\n",
       "      <td>1.257000</td>\n",
       "      <td>NaN</td>\n",
       "      <td>NaN</td>\n",
       "      <td>13.243243</td>\n",
       "    </tr>\n",
       "    <tr>\n",
       "      <th>13</th>\n",
       "      <td>Antioquia-Agua-Agua con Gas 500mL x 6uds</td>\n",
       "      <td>Antioquia</td>\n",
       "      <td>Agua</td>\n",
       "      <td>Agua con Gas 500mL x 6uds</td>\n",
       "      <td>2024-02-01</td>\n",
       "      <td>HISTÓRICO</td>\n",
       "      <td>1.071000</td>\n",
       "      <td>NaN</td>\n",
       "      <td>NaN</td>\n",
       "      <td>-14.797136</td>\n",
       "    </tr>\n",
       "    <tr>\n",
       "      <th>14</th>\n",
       "      <td>Antioquia-Agua-Agua con Gas 500mL x 6uds</td>\n",
       "      <td>Antioquia</td>\n",
       "      <td>Agua</td>\n",
       "      <td>Agua con Gas 500mL x 6uds</td>\n",
       "      <td>2024-03-01</td>\n",
       "      <td>HISTÓRICO</td>\n",
       "      <td>1.317000</td>\n",
       "      <td>NaN</td>\n",
       "      <td>NaN</td>\n",
       "      <td>22.969188</td>\n",
       "    </tr>\n",
       "    <tr>\n",
       "      <th>15</th>\n",
       "      <td>Antioquia-Agua-Agua con Gas 500mL x 6uds</td>\n",
       "      <td>Antioquia</td>\n",
       "      <td>Agua</td>\n",
       "      <td>Agua con Gas 500mL x 6uds</td>\n",
       "      <td>2024-04-01</td>\n",
       "      <td>HISTÓRICO</td>\n",
       "      <td>1.080000</td>\n",
       "      <td>NaN</td>\n",
       "      <td>NaN</td>\n",
       "      <td>-17.995444</td>\n",
       "    </tr>\n",
       "    <tr>\n",
       "      <th>16</th>\n",
       "      <td>Antioquia-Agua-Agua con Gas 500mL x 6uds</td>\n",
       "      <td>Antioquia</td>\n",
       "      <td>Agua</td>\n",
       "      <td>Agua con Gas 500mL x 6uds</td>\n",
       "      <td>2024-05-01</td>\n",
       "      <td>HISTÓRICO</td>\n",
       "      <td>1.002000</td>\n",
       "      <td>NaN</td>\n",
       "      <td>NaN</td>\n",
       "      <td>-7.222222</td>\n",
       "    </tr>\n",
       "    <tr>\n",
       "      <th>17</th>\n",
       "      <td>Antioquia-Agua-Agua con Gas 500mL x 6uds</td>\n",
       "      <td>Antioquia</td>\n",
       "      <td>Agua</td>\n",
       "      <td>Agua con Gas 500mL x 6uds</td>\n",
       "      <td>2024-06-01</td>\n",
       "      <td>HISTÓRICO</td>\n",
       "      <td>1.446000</td>\n",
       "      <td>NaN</td>\n",
       "      <td>NaN</td>\n",
       "      <td>44.311377</td>\n",
       "    </tr>\n",
       "    <tr>\n",
       "      <th>18</th>\n",
       "      <td>Antioquia-Agua-Agua con Gas 500mL x 6uds</td>\n",
       "      <td>Antioquia</td>\n",
       "      <td>Agua</td>\n",
       "      <td>Agua con Gas 500mL x 6uds</td>\n",
       "      <td>2024-07-01</td>\n",
       "      <td>HISTÓRICO</td>\n",
       "      <td>1.197000</td>\n",
       "      <td>NaN</td>\n",
       "      <td>NaN</td>\n",
       "      <td>-17.219917</td>\n",
       "    </tr>\n",
       "    <tr>\n",
       "      <th>19</th>\n",
       "      <td>Antioquia-Agua-Agua con Gas 500mL x 6uds</td>\n",
       "      <td>Antioquia</td>\n",
       "      <td>Agua</td>\n",
       "      <td>Agua con Gas 500mL x 6uds</td>\n",
       "      <td>2024-08-01</td>\n",
       "      <td>HISTÓRICO</td>\n",
       "      <td>1.119000</td>\n",
       "      <td>NaN</td>\n",
       "      <td>NaN</td>\n",
       "      <td>-6.516291</td>\n",
       "    </tr>\n",
       "    <tr>\n",
       "      <th>20</th>\n",
       "      <td>Antioquia-Agua-Agua con Gas 500mL x 6uds</td>\n",
       "      <td>Antioquia</td>\n",
       "      <td>Agua</td>\n",
       "      <td>Agua con Gas 500mL x 6uds</td>\n",
       "      <td>2024-09-01</td>\n",
       "      <td>HISTÓRICO</td>\n",
       "      <td>1.281000</td>\n",
       "      <td>NaN</td>\n",
       "      <td>NaN</td>\n",
       "      <td>14.477212</td>\n",
       "    </tr>\n",
       "    <tr>\n",
       "      <th>21</th>\n",
       "      <td>Antioquia-Agua-Agua con Gas 500mL x 6uds</td>\n",
       "      <td>Antioquia</td>\n",
       "      <td>Agua</td>\n",
       "      <td>Agua con Gas 500mL x 6uds</td>\n",
       "      <td>2024-10-01</td>\n",
       "      <td>HISTÓRICO</td>\n",
       "      <td>1.548000</td>\n",
       "      <td>NaN</td>\n",
       "      <td>NaN</td>\n",
       "      <td>20.843091</td>\n",
       "    </tr>\n",
       "    <tr>\n",
       "      <th>22</th>\n",
       "      <td>Antioquia-Agua-Agua con Gas 500mL x 6uds</td>\n",
       "      <td>Antioquia</td>\n",
       "      <td>Agua</td>\n",
       "      <td>Agua con Gas 500mL x 6uds</td>\n",
       "      <td>2024-11-01</td>\n",
       "      <td>HISTÓRICO</td>\n",
       "      <td>1.515000</td>\n",
       "      <td>NaN</td>\n",
       "      <td>NaN</td>\n",
       "      <td>-2.131783</td>\n",
       "    </tr>\n",
       "    <tr>\n",
       "      <th>23</th>\n",
       "      <td>Antioquia-Agua-Agua con Gas 500mL x 6uds</td>\n",
       "      <td>Antioquia</td>\n",
       "      <td>Agua</td>\n",
       "      <td>Agua con Gas 500mL x 6uds</td>\n",
       "      <td>2024-12-01</td>\n",
       "      <td>HISTÓRICO</td>\n",
       "      <td>2.127000</td>\n",
       "      <td>NaN</td>\n",
       "      <td>NaN</td>\n",
       "      <td>40.396040</td>\n",
       "    </tr>\n",
       "    <tr>\n",
       "      <th>24</th>\n",
       "      <td>Antioquia-Agua-Agua con Gas 500mL x 6uds</td>\n",
       "      <td>Antioquia</td>\n",
       "      <td>Agua</td>\n",
       "      <td>Agua con Gas 500mL x 6uds</td>\n",
       "      <td>2025-01-01</td>\n",
       "      <td>HISTÓRICO</td>\n",
       "      <td>1.350000</td>\n",
       "      <td>NaN</td>\n",
       "      <td>NaN</td>\n",
       "      <td>-36.530324</td>\n",
       "    </tr>\n",
       "    <tr>\n",
       "      <th>25</th>\n",
       "      <td>Antioquia-Agua-Agua con Gas 500mL x 6uds</td>\n",
       "      <td>Antioquia</td>\n",
       "      <td>Agua</td>\n",
       "      <td>Agua con Gas 500mL x 6uds</td>\n",
       "      <td>2025-02-01</td>\n",
       "      <td>HISTÓRICO</td>\n",
       "      <td>1.239000</td>\n",
       "      <td>NaN</td>\n",
       "      <td>NaN</td>\n",
       "      <td>-8.222222</td>\n",
       "    </tr>\n",
       "    <tr>\n",
       "      <th>26</th>\n",
       "      <td>Antioquia-Agua-Agua con Gas 500mL x 6uds</td>\n",
       "      <td>Antioquia</td>\n",
       "      <td>Agua</td>\n",
       "      <td>Agua con Gas 500mL x 6uds</td>\n",
       "      <td>2025-03-01</td>\n",
       "      <td>HISTÓRICO</td>\n",
       "      <td>1.605000</td>\n",
       "      <td>NaN</td>\n",
       "      <td>NaN</td>\n",
       "      <td>29.539952</td>\n",
       "    </tr>\n",
       "    <tr>\n",
       "      <th>27</th>\n",
       "      <td>Antioquia-Agua-Agua con Gas 500mL x 6uds</td>\n",
       "      <td>Antioquia</td>\n",
       "      <td>Agua</td>\n",
       "      <td>Agua con Gas 500mL x 6uds</td>\n",
       "      <td>2025-04-01</td>\n",
       "      <td>HISTÓRICO</td>\n",
       "      <td>1.191000</td>\n",
       "      <td>NaN</td>\n",
       "      <td>NaN</td>\n",
       "      <td>-25.794393</td>\n",
       "    </tr>\n",
       "    <tr>\n",
       "      <th>28</th>\n",
       "      <td>Antioquia-Agua-Agua con Gas 500mL x 6uds</td>\n",
       "      <td>Antioquia</td>\n",
       "      <td>Agua</td>\n",
       "      <td>Agua con Gas 500mL x 6uds</td>\n",
       "      <td>2025-05-01</td>\n",
       "      <td>HISTÓRICO</td>\n",
       "      <td>1.716000</td>\n",
       "      <td>NaN</td>\n",
       "      <td>NaN</td>\n",
       "      <td>44.080605</td>\n",
       "    </tr>\n",
       "    <tr>\n",
       "      <th>29</th>\n",
       "      <td>Antioquia-Agua-Agua con Gas 500mL x 6uds</td>\n",
       "      <td>Antioquia</td>\n",
       "      <td>Agua</td>\n",
       "      <td>Agua con Gas 500mL x 6uds</td>\n",
       "      <td>2025-06-01</td>\n",
       "      <td>ESCENARIO 1</td>\n",
       "      <td>1.623922</td>\n",
       "      <td>1.539416</td>\n",
       "      <td>1.706153</td>\n",
       "      <td>-5.513773</td>\n",
       "    </tr>\n",
       "    <tr>\n",
       "      <th>30</th>\n",
       "      <td>Antioquia-Agua-Agua con Gas 500mL x 6uds</td>\n",
       "      <td>Antioquia</td>\n",
       "      <td>Agua</td>\n",
       "      <td>Agua con Gas 500mL x 6uds</td>\n",
       "      <td>2025-07-01</td>\n",
       "      <td>ESCENARIO 1</td>\n",
       "      <td>1.538072</td>\n",
       "      <td>1.453097</td>\n",
       "      <td>1.620082</td>\n",
       "      <td>-5.286588</td>\n",
       "    </tr>\n",
       "    <tr>\n",
       "      <th>31</th>\n",
       "      <td>Antioquia-Agua-Agua con Gas 500mL x 6uds</td>\n",
       "      <td>Antioquia</td>\n",
       "      <td>Agua</td>\n",
       "      <td>Agua con Gas 500mL x 6uds</td>\n",
       "      <td>2025-08-01</td>\n",
       "      <td>ESCENARIO 1</td>\n",
       "      <td>1.537298</td>\n",
       "      <td>1.455648</td>\n",
       "      <td>1.623300</td>\n",
       "      <td>-0.050339</td>\n",
       "    </tr>\n",
       "    <tr>\n",
       "      <th>32</th>\n",
       "      <td>Antioquia-Agua-Agua con Gas 500mL x 6uds</td>\n",
       "      <td>Antioquia</td>\n",
       "      <td>Agua</td>\n",
       "      <td>Agua con Gas 500mL x 6uds</td>\n",
       "      <td>2025-09-01</td>\n",
       "      <td>ESCENARIO 1</td>\n",
       "      <td>1.504471</td>\n",
       "      <td>1.431283</td>\n",
       "      <td>1.588286</td>\n",
       "      <td>-2.135332</td>\n",
       "    </tr>\n",
       "    <tr>\n",
       "      <th>33</th>\n",
       "      <td>Antioquia-Agua-Agua con Gas 500mL x 6uds</td>\n",
       "      <td>Antioquia</td>\n",
       "      <td>Agua</td>\n",
       "      <td>Agua con Gas 500mL x 6uds</td>\n",
       "      <td>2025-10-01</td>\n",
       "      <td>ESCENARIO 1</td>\n",
       "      <td>1.740064</td>\n",
       "      <td>1.654708</td>\n",
       "      <td>1.822912</td>\n",
       "      <td>15.659510</td>\n",
       "    </tr>\n",
       "    <tr>\n",
       "      <th>34</th>\n",
       "      <td>Antioquia-Agua-Agua con Gas 500mL x 6uds</td>\n",
       "      <td>Antioquia</td>\n",
       "      <td>Agua</td>\n",
       "      <td>Agua con Gas 500mL x 6uds</td>\n",
       "      <td>2025-11-01</td>\n",
       "      <td>ESCENARIO 1</td>\n",
       "      <td>1.775444</td>\n",
       "      <td>1.691982</td>\n",
       "      <td>1.853668</td>\n",
       "      <td>2.033249</td>\n",
       "    </tr>\n",
       "    <tr>\n",
       "      <th>35</th>\n",
       "      <td>Antioquia-Agua-Agua con Gas 500mL x 6uds</td>\n",
       "      <td>Antioquia</td>\n",
       "      <td>Agua</td>\n",
       "      <td>Agua con Gas 500mL x 6uds</td>\n",
       "      <td>2025-12-01</td>\n",
       "      <td>ESCENARIO 1</td>\n",
       "      <td>2.177180</td>\n",
       "      <td>2.093995</td>\n",
       "      <td>2.260155</td>\n",
       "      <td>22.627373</td>\n",
       "    </tr>\n",
       "    <tr>\n",
       "      <th>36</th>\n",
       "      <td>Antioquia-Agua-Agua con Gas 500mL x 6uds</td>\n",
       "      <td>Antioquia</td>\n",
       "      <td>Agua</td>\n",
       "      <td>Agua con Gas 500mL x 6uds</td>\n",
       "      <td>2026-01-01</td>\n",
       "      <td>ESCENARIO 1</td>\n",
       "      <td>1.669312</td>\n",
       "      <td>1.583986</td>\n",
       "      <td>1.753254</td>\n",
       "      <td>-23.326909</td>\n",
       "    </tr>\n",
       "    <tr>\n",
       "      <th>37</th>\n",
       "      <td>Antioquia-Agua-Agua con Gas 500mL x 6uds</td>\n",
       "      <td>Antioquia</td>\n",
       "      <td>Agua</td>\n",
       "      <td>Agua con Gas 500mL x 6uds</td>\n",
       "      <td>2026-02-01</td>\n",
       "      <td>ESCENARIO 1</td>\n",
       "      <td>1.520350</td>\n",
       "      <td>1.436574</td>\n",
       "      <td>1.600083</td>\n",
       "      <td>-8.923541</td>\n",
       "    </tr>\n",
       "    <tr>\n",
       "      <th>38</th>\n",
       "      <td>Antioquia-Agua-Agua con Gas 500mL x 6uds</td>\n",
       "      <td>Antioquia</td>\n",
       "      <td>Agua</td>\n",
       "      <td>Agua con Gas 500mL x 6uds</td>\n",
       "      <td>2026-03-01</td>\n",
       "      <td>ESCENARIO 1</td>\n",
       "      <td>1.741954</td>\n",
       "      <td>1.658037</td>\n",
       "      <td>1.825186</td>\n",
       "      <td>14.575887</td>\n",
       "    </tr>\n",
       "    <tr>\n",
       "      <th>39</th>\n",
       "      <td>Antioquia-Agua-Agua con Gas 500mL x 6uds</td>\n",
       "      <td>Antioquia</td>\n",
       "      <td>Agua</td>\n",
       "      <td>Agua con Gas 500mL x 6uds</td>\n",
       "      <td>2026-04-01</td>\n",
       "      <td>ESCENARIO 1</td>\n",
       "      <td>1.574656</td>\n",
       "      <td>1.498063</td>\n",
       "      <td>1.656575</td>\n",
       "      <td>-9.604064</td>\n",
       "    </tr>\n",
       "    <tr>\n",
       "      <th>40</th>\n",
       "      <td>Antioquia-Agua-Agua con Gas 500mL x 6uds</td>\n",
       "      <td>Antioquia</td>\n",
       "      <td>Agua</td>\n",
       "      <td>Agua con Gas 500mL x 6uds</td>\n",
       "      <td>2026-05-01</td>\n",
       "      <td>ESCENARIO 1</td>\n",
       "      <td>1.772633</td>\n",
       "      <td>1.693926</td>\n",
       "      <td>1.852336</td>\n",
       "      <td>12.572733</td>\n",
       "    </tr>\n",
       "    <tr>\n",
       "      <th>41</th>\n",
       "      <td>Antioquia-Agua-Agua con Gas 500mL x 6uds</td>\n",
       "      <td>Antioquia</td>\n",
       "      <td>Agua</td>\n",
       "      <td>Agua con Gas 500mL x 6uds</td>\n",
       "      <td>2025-06-01</td>\n",
       "      <td>ESCENARIO 2</td>\n",
       "      <td>1.803480</td>\n",
       "      <td>1.720955</td>\n",
       "      <td>1.886661</td>\n",
       "      <td>4.971194</td>\n",
       "    </tr>\n",
       "    <tr>\n",
       "      <th>42</th>\n",
       "      <td>Antioquia-Agua-Agua con Gas 500mL x 6uds</td>\n",
       "      <td>Antioquia</td>\n",
       "      <td>Agua</td>\n",
       "      <td>Agua con Gas 500mL x 6uds</td>\n",
       "      <td>2025-07-01</td>\n",
       "      <td>ESCENARIO 2</td>\n",
       "      <td>1.717630</td>\n",
       "      <td>1.639864</td>\n",
       "      <td>1.802932</td>\n",
       "      <td>-4.760245</td>\n",
       "    </tr>\n",
       "    <tr>\n",
       "      <th>43</th>\n",
       "      <td>Antioquia-Agua-Agua con Gas 500mL x 6uds</td>\n",
       "      <td>Antioquia</td>\n",
       "      <td>Agua</td>\n",
       "      <td>Agua con Gas 500mL x 6uds</td>\n",
       "      <td>2025-08-01</td>\n",
       "      <td>ESCENARIO 2</td>\n",
       "      <td>1.716856</td>\n",
       "      <td>1.638807</td>\n",
       "      <td>1.798839</td>\n",
       "      <td>-0.045077</td>\n",
       "    </tr>\n",
       "    <tr>\n",
       "      <th>44</th>\n",
       "      <td>Antioquia-Agua-Agua con Gas 500mL x 6uds</td>\n",
       "      <td>Antioquia</td>\n",
       "      <td>Agua</td>\n",
       "      <td>Agua con Gas 500mL x 6uds</td>\n",
       "      <td>2025-09-01</td>\n",
       "      <td>ESCENARIO 2</td>\n",
       "      <td>1.684029</td>\n",
       "      <td>1.600389</td>\n",
       "      <td>1.764479</td>\n",
       "      <td>-1.912007</td>\n",
       "    </tr>\n",
       "    <tr>\n",
       "      <th>45</th>\n",
       "      <td>Antioquia-Agua-Agua con Gas 500mL x 6uds</td>\n",
       "      <td>Antioquia</td>\n",
       "      <td>Agua</td>\n",
       "      <td>Agua con Gas 500mL x 6uds</td>\n",
       "      <td>2025-10-01</td>\n",
       "      <td>ESCENARIO 2</td>\n",
       "      <td>1.919622</td>\n",
       "      <td>1.837773</td>\n",
       "      <td>2.001611</td>\n",
       "      <td>13.989831</td>\n",
       "    </tr>\n",
       "    <tr>\n",
       "      <th>46</th>\n",
       "      <td>Antioquia-Agua-Agua con Gas 500mL x 6uds</td>\n",
       "      <td>Antioquia</td>\n",
       "      <td>Agua</td>\n",
       "      <td>Agua con Gas 500mL x 6uds</td>\n",
       "      <td>2025-11-01</td>\n",
       "      <td>ESCENARIO 2</td>\n",
       "      <td>1.955002</td>\n",
       "      <td>1.869688</td>\n",
       "      <td>2.042357</td>\n",
       "      <td>1.843063</td>\n",
       "    </tr>\n",
       "    <tr>\n",
       "      <th>47</th>\n",
       "      <td>Antioquia-Agua-Agua con Gas 500mL x 6uds</td>\n",
       "      <td>Antioquia</td>\n",
       "      <td>Agua</td>\n",
       "      <td>Agua con Gas 500mL x 6uds</td>\n",
       "      <td>2025-12-01</td>\n",
       "      <td>ESCENARIO 2</td>\n",
       "      <td>2.356738</td>\n",
       "      <td>2.273045</td>\n",
       "      <td>2.438440</td>\n",
       "      <td>20.549153</td>\n",
       "    </tr>\n",
       "    <tr>\n",
       "      <th>48</th>\n",
       "      <td>Antioquia-Agua-Agua con Gas 500mL x 6uds</td>\n",
       "      <td>Antioquia</td>\n",
       "      <td>Agua</td>\n",
       "      <td>Agua con Gas 500mL x 6uds</td>\n",
       "      <td>2026-01-01</td>\n",
       "      <td>ESCENARIO 2</td>\n",
       "      <td>1.848870</td>\n",
       "      <td>1.767975</td>\n",
       "      <td>1.938466</td>\n",
       "      <td>-21.549651</td>\n",
       "    </tr>\n",
       "    <tr>\n",
       "      <th>49</th>\n",
       "      <td>Antioquia-Agua-Agua con Gas 500mL x 6uds</td>\n",
       "      <td>Antioquia</td>\n",
       "      <td>Agua</td>\n",
       "      <td>Agua con Gas 500mL x 6uds</td>\n",
       "      <td>2026-02-01</td>\n",
       "      <td>ESCENARIO 2</td>\n",
       "      <td>1.699908</td>\n",
       "      <td>1.622137</td>\n",
       "      <td>1.781956</td>\n",
       "      <td>-8.056907</td>\n",
       "    </tr>\n",
       "    <tr>\n",
       "      <th>50</th>\n",
       "      <td>Antioquia-Agua-Agua con Gas 500mL x 6uds</td>\n",
       "      <td>Antioquia</td>\n",
       "      <td>Agua</td>\n",
       "      <td>Agua con Gas 500mL x 6uds</td>\n",
       "      <td>2026-03-01</td>\n",
       "      <td>ESCENARIO 2</td>\n",
       "      <td>1.921512</td>\n",
       "      <td>1.836376</td>\n",
       "      <td>2.001092</td>\n",
       "      <td>13.036264</td>\n",
       "    </tr>\n",
       "    <tr>\n",
       "      <th>51</th>\n",
       "      <td>Antioquia-Agua-Agua con Gas 500mL x 6uds</td>\n",
       "      <td>Antioquia</td>\n",
       "      <td>Agua</td>\n",
       "      <td>Agua con Gas 500mL x 6uds</td>\n",
       "      <td>2026-04-01</td>\n",
       "      <td>ESCENARIO 2</td>\n",
       "      <td>1.754214</td>\n",
       "      <td>1.670881</td>\n",
       "      <td>1.831634</td>\n",
       "      <td>-8.706601</td>\n",
       "    </tr>\n",
       "    <tr>\n",
       "      <th>52</th>\n",
       "      <td>Antioquia-Agua-Agua con Gas 500mL x 6uds</td>\n",
       "      <td>Antioquia</td>\n",
       "      <td>Agua</td>\n",
       "      <td>Agua con Gas 500mL x 6uds</td>\n",
       "      <td>2026-05-01</td>\n",
       "      <td>ESCENARIO 2</td>\n",
       "      <td>1.952191</td>\n",
       "      <td>1.871957</td>\n",
       "      <td>2.034664</td>\n",
       "      <td>11.285812</td>\n",
       "    </tr>\n",
       "  </tbody>\n",
       "</table>\n",
       "</div>"
      ],
      "text/plain": [
       "                   REGION_CATEGORIA_PRODUCTO     REGION CATEGORIA  \\\n",
       "0   Antioquia-Agua-Agua con Gas 500mL x 6uds  Antioquia      Agua   \n",
       "1   Antioquia-Agua-Agua con Gas 500mL x 6uds  Antioquia      Agua   \n",
       "2   Antioquia-Agua-Agua con Gas 500mL x 6uds  Antioquia      Agua   \n",
       "3   Antioquia-Agua-Agua con Gas 500mL x 6uds  Antioquia      Agua   \n",
       "4   Antioquia-Agua-Agua con Gas 500mL x 6uds  Antioquia      Agua   \n",
       "5   Antioquia-Agua-Agua con Gas 500mL x 6uds  Antioquia      Agua   \n",
       "6   Antioquia-Agua-Agua con Gas 500mL x 6uds  Antioquia      Agua   \n",
       "7   Antioquia-Agua-Agua con Gas 500mL x 6uds  Antioquia      Agua   \n",
       "8   Antioquia-Agua-Agua con Gas 500mL x 6uds  Antioquia      Agua   \n",
       "9   Antioquia-Agua-Agua con Gas 500mL x 6uds  Antioquia      Agua   \n",
       "10  Antioquia-Agua-Agua con Gas 500mL x 6uds  Antioquia      Agua   \n",
       "11  Antioquia-Agua-Agua con Gas 500mL x 6uds  Antioquia      Agua   \n",
       "12  Antioquia-Agua-Agua con Gas 500mL x 6uds  Antioquia      Agua   \n",
       "13  Antioquia-Agua-Agua con Gas 500mL x 6uds  Antioquia      Agua   \n",
       "14  Antioquia-Agua-Agua con Gas 500mL x 6uds  Antioquia      Agua   \n",
       "15  Antioquia-Agua-Agua con Gas 500mL x 6uds  Antioquia      Agua   \n",
       "16  Antioquia-Agua-Agua con Gas 500mL x 6uds  Antioquia      Agua   \n",
       "17  Antioquia-Agua-Agua con Gas 500mL x 6uds  Antioquia      Agua   \n",
       "18  Antioquia-Agua-Agua con Gas 500mL x 6uds  Antioquia      Agua   \n",
       "19  Antioquia-Agua-Agua con Gas 500mL x 6uds  Antioquia      Agua   \n",
       "20  Antioquia-Agua-Agua con Gas 500mL x 6uds  Antioquia      Agua   \n",
       "21  Antioquia-Agua-Agua con Gas 500mL x 6uds  Antioquia      Agua   \n",
       "22  Antioquia-Agua-Agua con Gas 500mL x 6uds  Antioquia      Agua   \n",
       "23  Antioquia-Agua-Agua con Gas 500mL x 6uds  Antioquia      Agua   \n",
       "24  Antioquia-Agua-Agua con Gas 500mL x 6uds  Antioquia      Agua   \n",
       "25  Antioquia-Agua-Agua con Gas 500mL x 6uds  Antioquia      Agua   \n",
       "26  Antioquia-Agua-Agua con Gas 500mL x 6uds  Antioquia      Agua   \n",
       "27  Antioquia-Agua-Agua con Gas 500mL x 6uds  Antioquia      Agua   \n",
       "28  Antioquia-Agua-Agua con Gas 500mL x 6uds  Antioquia      Agua   \n",
       "29  Antioquia-Agua-Agua con Gas 500mL x 6uds  Antioquia      Agua   \n",
       "30  Antioquia-Agua-Agua con Gas 500mL x 6uds  Antioquia      Agua   \n",
       "31  Antioquia-Agua-Agua con Gas 500mL x 6uds  Antioquia      Agua   \n",
       "32  Antioquia-Agua-Agua con Gas 500mL x 6uds  Antioquia      Agua   \n",
       "33  Antioquia-Agua-Agua con Gas 500mL x 6uds  Antioquia      Agua   \n",
       "34  Antioquia-Agua-Agua con Gas 500mL x 6uds  Antioquia      Agua   \n",
       "35  Antioquia-Agua-Agua con Gas 500mL x 6uds  Antioquia      Agua   \n",
       "36  Antioquia-Agua-Agua con Gas 500mL x 6uds  Antioquia      Agua   \n",
       "37  Antioquia-Agua-Agua con Gas 500mL x 6uds  Antioquia      Agua   \n",
       "38  Antioquia-Agua-Agua con Gas 500mL x 6uds  Antioquia      Agua   \n",
       "39  Antioquia-Agua-Agua con Gas 500mL x 6uds  Antioquia      Agua   \n",
       "40  Antioquia-Agua-Agua con Gas 500mL x 6uds  Antioquia      Agua   \n",
       "41  Antioquia-Agua-Agua con Gas 500mL x 6uds  Antioquia      Agua   \n",
       "42  Antioquia-Agua-Agua con Gas 500mL x 6uds  Antioquia      Agua   \n",
       "43  Antioquia-Agua-Agua con Gas 500mL x 6uds  Antioquia      Agua   \n",
       "44  Antioquia-Agua-Agua con Gas 500mL x 6uds  Antioquia      Agua   \n",
       "45  Antioquia-Agua-Agua con Gas 500mL x 6uds  Antioquia      Agua   \n",
       "46  Antioquia-Agua-Agua con Gas 500mL x 6uds  Antioquia      Agua   \n",
       "47  Antioquia-Agua-Agua con Gas 500mL x 6uds  Antioquia      Agua   \n",
       "48  Antioquia-Agua-Agua con Gas 500mL x 6uds  Antioquia      Agua   \n",
       "49  Antioquia-Agua-Agua con Gas 500mL x 6uds  Antioquia      Agua   \n",
       "50  Antioquia-Agua-Agua con Gas 500mL x 6uds  Antioquia      Agua   \n",
       "51  Antioquia-Agua-Agua con Gas 500mL x 6uds  Antioquia      Agua   \n",
       "52  Antioquia-Agua-Agua con Gas 500mL x 6uds  Antioquia      Agua   \n",
       "\n",
       "                     PRODUCTO      FECHA         TIPO  M3_PRODUCTO  \\\n",
       "0   Agua con Gas 500mL x 6uds 2023-01-01    HISTÓRICO     1.014000   \n",
       "1   Agua con Gas 500mL x 6uds 2023-02-01    HISTÓRICO     0.819000   \n",
       "2   Agua con Gas 500mL x 6uds 2023-03-01    HISTÓRICO     0.903000   \n",
       "3   Agua con Gas 500mL x 6uds 2023-04-01    HISTÓRICO     0.975000   \n",
       "4   Agua con Gas 500mL x 6uds 2023-05-01    HISTÓRICO     0.969000   \n",
       "5   Agua con Gas 500mL x 6uds 2023-06-01    HISTÓRICO     0.813000   \n",
       "6   Agua con Gas 500mL x 6uds 2023-07-01    HISTÓRICO     0.933000   \n",
       "7   Agua con Gas 500mL x 6uds 2023-08-01    HISTÓRICO     1.296000   \n",
       "8   Agua con Gas 500mL x 6uds 2023-09-01    HISTÓRICO     0.855000   \n",
       "9   Agua con Gas 500mL x 6uds 2023-10-01    HISTÓRICO     1.011000   \n",
       "10  Agua con Gas 500mL x 6uds 2023-11-01    HISTÓRICO     1.248000   \n",
       "11  Agua con Gas 500mL x 6uds 2023-12-01    HISTÓRICO     1.110000   \n",
       "12  Agua con Gas 500mL x 6uds 2024-01-01    HISTÓRICO     1.257000   \n",
       "13  Agua con Gas 500mL x 6uds 2024-02-01    HISTÓRICO     1.071000   \n",
       "14  Agua con Gas 500mL x 6uds 2024-03-01    HISTÓRICO     1.317000   \n",
       "15  Agua con Gas 500mL x 6uds 2024-04-01    HISTÓRICO     1.080000   \n",
       "16  Agua con Gas 500mL x 6uds 2024-05-01    HISTÓRICO     1.002000   \n",
       "17  Agua con Gas 500mL x 6uds 2024-06-01    HISTÓRICO     1.446000   \n",
       "18  Agua con Gas 500mL x 6uds 2024-07-01    HISTÓRICO     1.197000   \n",
       "19  Agua con Gas 500mL x 6uds 2024-08-01    HISTÓRICO     1.119000   \n",
       "20  Agua con Gas 500mL x 6uds 2024-09-01    HISTÓRICO     1.281000   \n",
       "21  Agua con Gas 500mL x 6uds 2024-10-01    HISTÓRICO     1.548000   \n",
       "22  Agua con Gas 500mL x 6uds 2024-11-01    HISTÓRICO     1.515000   \n",
       "23  Agua con Gas 500mL x 6uds 2024-12-01    HISTÓRICO     2.127000   \n",
       "24  Agua con Gas 500mL x 6uds 2025-01-01    HISTÓRICO     1.350000   \n",
       "25  Agua con Gas 500mL x 6uds 2025-02-01    HISTÓRICO     1.239000   \n",
       "26  Agua con Gas 500mL x 6uds 2025-03-01    HISTÓRICO     1.605000   \n",
       "27  Agua con Gas 500mL x 6uds 2025-04-01    HISTÓRICO     1.191000   \n",
       "28  Agua con Gas 500mL x 6uds 2025-05-01    HISTÓRICO     1.716000   \n",
       "29  Agua con Gas 500mL x 6uds 2025-06-01  ESCENARIO 1     1.623922   \n",
       "30  Agua con Gas 500mL x 6uds 2025-07-01  ESCENARIO 1     1.538072   \n",
       "31  Agua con Gas 500mL x 6uds 2025-08-01  ESCENARIO 1     1.537298   \n",
       "32  Agua con Gas 500mL x 6uds 2025-09-01  ESCENARIO 1     1.504471   \n",
       "33  Agua con Gas 500mL x 6uds 2025-10-01  ESCENARIO 1     1.740064   \n",
       "34  Agua con Gas 500mL x 6uds 2025-11-01  ESCENARIO 1     1.775444   \n",
       "35  Agua con Gas 500mL x 6uds 2025-12-01  ESCENARIO 1     2.177180   \n",
       "36  Agua con Gas 500mL x 6uds 2026-01-01  ESCENARIO 1     1.669312   \n",
       "37  Agua con Gas 500mL x 6uds 2026-02-01  ESCENARIO 1     1.520350   \n",
       "38  Agua con Gas 500mL x 6uds 2026-03-01  ESCENARIO 1     1.741954   \n",
       "39  Agua con Gas 500mL x 6uds 2026-04-01  ESCENARIO 1     1.574656   \n",
       "40  Agua con Gas 500mL x 6uds 2026-05-01  ESCENARIO 1     1.772633   \n",
       "41  Agua con Gas 500mL x 6uds 2025-06-01  ESCENARIO 2     1.803480   \n",
       "42  Agua con Gas 500mL x 6uds 2025-07-01  ESCENARIO 2     1.717630   \n",
       "43  Agua con Gas 500mL x 6uds 2025-08-01  ESCENARIO 2     1.716856   \n",
       "44  Agua con Gas 500mL x 6uds 2025-09-01  ESCENARIO 2     1.684029   \n",
       "45  Agua con Gas 500mL x 6uds 2025-10-01  ESCENARIO 2     1.919622   \n",
       "46  Agua con Gas 500mL x 6uds 2025-11-01  ESCENARIO 2     1.955002   \n",
       "47  Agua con Gas 500mL x 6uds 2025-12-01  ESCENARIO 2     2.356738   \n",
       "48  Agua con Gas 500mL x 6uds 2026-01-01  ESCENARIO 2     1.848870   \n",
       "49  Agua con Gas 500mL x 6uds 2026-02-01  ESCENARIO 2     1.699908   \n",
       "50  Agua con Gas 500mL x 6uds 2026-03-01  ESCENARIO 2     1.921512   \n",
       "51  Agua con Gas 500mL x 6uds 2026-04-01  ESCENARIO 2     1.754214   \n",
       "52  Agua con Gas 500mL x 6uds 2026-05-01  ESCENARIO 2     1.952191   \n",
       "\n",
       "    IC_95_LOWER  IC_95_UPPER    DIF_PCT  \n",
       "0           NaN          NaN        NaN  \n",
       "1           NaN          NaN -19.230769  \n",
       "2           NaN          NaN  10.256410  \n",
       "3           NaN          NaN   7.973422  \n",
       "4           NaN          NaN  -0.615385  \n",
       "5           NaN          NaN -16.099071  \n",
       "6           NaN          NaN  14.760148  \n",
       "7           NaN          NaN  38.906752  \n",
       "8           NaN          NaN -34.027778  \n",
       "9           NaN          NaN  18.245614  \n",
       "10          NaN          NaN  23.442136  \n",
       "11          NaN          NaN -11.057692  \n",
       "12          NaN          NaN  13.243243  \n",
       "13          NaN          NaN -14.797136  \n",
       "14          NaN          NaN  22.969188  \n",
       "15          NaN          NaN -17.995444  \n",
       "16          NaN          NaN  -7.222222  \n",
       "17          NaN          NaN  44.311377  \n",
       "18          NaN          NaN -17.219917  \n",
       "19          NaN          NaN  -6.516291  \n",
       "20          NaN          NaN  14.477212  \n",
       "21          NaN          NaN  20.843091  \n",
       "22          NaN          NaN  -2.131783  \n",
       "23          NaN          NaN  40.396040  \n",
       "24          NaN          NaN -36.530324  \n",
       "25          NaN          NaN  -8.222222  \n",
       "26          NaN          NaN  29.539952  \n",
       "27          NaN          NaN -25.794393  \n",
       "28          NaN          NaN  44.080605  \n",
       "29     1.539416     1.706153  -5.513773  \n",
       "30     1.453097     1.620082  -5.286588  \n",
       "31     1.455648     1.623300  -0.050339  \n",
       "32     1.431283     1.588286  -2.135332  \n",
       "33     1.654708     1.822912  15.659510  \n",
       "34     1.691982     1.853668   2.033249  \n",
       "35     2.093995     2.260155  22.627373  \n",
       "36     1.583986     1.753254 -23.326909  \n",
       "37     1.436574     1.600083  -8.923541  \n",
       "38     1.658037     1.825186  14.575887  \n",
       "39     1.498063     1.656575  -9.604064  \n",
       "40     1.693926     1.852336  12.572733  \n",
       "41     1.720955     1.886661   4.971194  \n",
       "42     1.639864     1.802932  -4.760245  \n",
       "43     1.638807     1.798839  -0.045077  \n",
       "44     1.600389     1.764479  -1.912007  \n",
       "45     1.837773     2.001611  13.989831  \n",
       "46     1.869688     2.042357   1.843063  \n",
       "47     2.273045     2.438440  20.549153  \n",
       "48     1.767975     1.938466 -21.549651  \n",
       "49     1.622137     1.781956  -8.056907  \n",
       "50     1.836376     2.001092  13.036264  \n",
       "51     1.670881     1.831634  -8.706601  \n",
       "52     1.871957     2.034664  11.285812  "
      ]
     },
     "execution_count": 25,
     "metadata": {},
     "output_type": "execute_result"
    }
   ],
   "source": [
    "print(df_resultados.shape)\n",
    "df_resultados"
   ]
  },
  {
   "cell_type": "markdown",
   "id": "579e17b6",
   "metadata": {},
   "source": [
    "## 9. Almacenar Resultados\n",
    "\n",
    "Guardamos las predicciones y métricas en Snowflake utilizando `COPY INTO` en las predicciones e `INSERT INTO` para las métricas"
   ]
  },
  {
   "cell_type": "code",
   "execution_count": 26,
   "id": "43411c40",
   "metadata": {},
   "outputs": [
    {
     "name": "stderr",
     "output_type": "stream",
     "text": [
      "2025-06-28 21:05:08,108 - INFO - Snowflake Connector for Python Version: 3.15.0, Python Version: 3.10.11, Platform: Windows-10-10.0.19045-SP0\n",
      "2025-06-28 21:05:08,111 - INFO - Connecting to GLOBAL Snowflake domain\n",
      "2025-06-28 21:05:08,854 - INFO - Conexión a Snowflake exitosa\n"
     ]
    },
    {
     "name": "stdout",
     "output_type": "stream",
     "text": [
      "Exportación a Snowflake completada.\n"
     ]
    },
    {
     "name": "stderr",
     "output_type": "stream",
     "text": [
      "2025-06-28 21:05:16,477 - INFO - Snowflake Connector for Python Version: 3.15.0, Python Version: 3.10.11, Platform: Windows-10-10.0.19045-SP0\n",
      "2025-06-28 21:05:16,479 - INFO - Connecting to GLOBAL Snowflake domain\n",
      "2025-06-28 21:05:17,293 - INFO - Conexión a Snowflake exitosa\n"
     ]
    },
    {
     "name": "stdout",
     "output_type": "stream",
     "text": [
      "Número de Registros: 53\n",
      "Número de Registros: 11\n"
     ]
    }
   ],
   "source": [
    "import time\n",
    "from datetime import datetime\n",
    "\n",
    "def export_prophet_results_to_snowflake(df_resultados, df_hist, y_true, y_pred, producto):\n",
    "    conn = get_snowflake_connection()\n",
    "    cursor = conn.cursor()\n",
    "    timestamp_str = datetime.now().strftime('%Y-%m-%d %H:%M:%S')\n",
    "    temp_csv_path = 'temp_prophet_resultados.csv'\n",
    "    temp_metrics_path = 'temp_prophet_metrics.csv'\n",
    "    try:\n",
    "        # 1. Crear tabla de resultados\n",
    "        cursor.execute(\"\"\"\n",
    "            CREATE TABLE IF NOT EXISTS PROPHET_M3_RESULTADOS (\n",
    "                ID INTEGER AUTOINCREMENT,\n",
    "                TIMESTAMP_COL TIMESTAMP_NTZ,\n",
    "                REGION_CATEGORIA_PRODUCTO VARCHAR(300),\n",
    "                REGION VARCHAR(100),\n",
    "                CATEGORIA VARCHAR(100),\n",
    "                PRODUCTO VARCHAR(100),\n",
    "                FECHA DATE,\n",
    "                TIPO VARCHAR(30),\n",
    "                M3_PRODUCTO FLOAT,\n",
    "                IC_95_LOWER FLOAT,\n",
    "                IC_95_UPPER FLOAT,\n",
    "                DIF_PCT FLOAT\n",
    "            )\n",
    "        \"\"\")\n",
    "        # 2. Crear tabla de métricas\n",
    "        cursor.execute(\"\"\"\n",
    "            CREATE TABLE IF NOT EXISTS PROPHET_M3_METRICS (\n",
    "                ID INTEGER AUTOINCREMENT,\n",
    "                TIMESTAMP_COL TIMESTAMP_NTZ,\n",
    "                REGION_CATEGORIA_PRODUCTO VARCHAR(300),\n",
    "                RMSE FLOAT,\n",
    "                MAE FLOAT,\n",
    "                SMAPE FLOAT,\n",
    "                R2 FLOAT,\n",
    "                QUALITY VARCHAR(20)\n",
    "            )\n",
    "        \"\"\")\n",
    "        # 3. Exportar resultados (TRUNCATE + COPY INTO)\n",
    "        df_resultados['TIMESTAMP_COL'] = timestamp_str\n",
    "        cols_result = ['TIMESTAMP_COL'] + [c for c in df_resultados.columns]\n",
    "        df_resultados[cols_result].to_csv(temp_csv_path, index=False, header=False, encoding='utf-8')\n",
    "        cursor.execute(f\"PUT file://{temp_csv_path} @~/prophet_stage AUTO_COMPRESS = TRUE OVERWRITE = TRUE\")\n",
    "        cursor.execute(\"TRUNCATE TABLE PROPHET_M3_RESULTADOS\")\n",
    "        cursor.execute(f\"\"\"\n",
    "            COPY INTO PROPHET_M3_RESULTADOS (TIMESTAMP_COL, REGION_CATEGORIA_PRODUCTO, REGION, CATEGORIA, PRODUCTO, FECHA, TIPO, M3_PRODUCTO, IC_95_LOWER, IC_95_UPPER, DIF_PCT)\n",
    "            FROM @~/prophet_stage/{temp_csv_path}.gz\n",
    "            FILE_FORMAT = (TYPE = 'CSV' FIELD_DELIMITER = ',' SKIP_HEADER = 0 FIELD_OPTIONALLY_ENCLOSED_BY = '\"')\n",
    "        \"\"\")\n",
    "        # 4. Calcular métricas globales para la región-categoría-producto actual\n",
    "        from sklearn.metrics import mean_squared_error, mean_absolute_error, r2_score\n",
    "        def smape(y_true, y_pred):\n",
    "            return 100 * np.mean(2 * np.abs(y_pred - y_true) / (np.abs(y_true) + np.abs(y_pred)))\n",
    "        rmse = np.sqrt(mean_squared_error(y_true, y_pred))\n",
    "        mae = mean_absolute_error(y_true, y_pred)\n",
    "        smape_val = smape(y_true, y_pred)\n",
    "        r2 = r2_score(y_true, y_pred)\n",
    "        # Lógica de calidad\n",
    "        if (r2 >= 0.8) and (smape_val < 20):\n",
    "            quality = 'BUENO'\n",
    "        elif (r2 >= 0.5) or (smape_val < 30):\n",
    "            quality = 'ACEPTABLE'\n",
    "        else:\n",
    "            quality = 'POBRE'\n",
    "        # 5. Exportar métricas (INSERT INTO por COPY INTO)\n",
    "        metrics_row = [[timestamp_str, producto, rmse, mae, smape_val, r2, quality]]\n",
    "        import csv\n",
    "        with open(temp_metrics_path, 'w', newline='', encoding='utf-8') as f:\n",
    "            writer = csv.writer(f)\n",
    "            writer.writerows(metrics_row)\n",
    "        cursor.execute(f\"PUT file://{temp_metrics_path} @~/prophet_stage AUTO_COMPRESS = TRUE OVERWRITE = TRUE\")\n",
    "        cursor.execute(f\"\"\"\n",
    "            COPY INTO PROPHET_M3_METRICS (TIMESTAMP_COL, REGION_CATEGORIA_PRODUCTO, RMSE, MAE, SMAPE, R2, QUALITY)\n",
    "            FROM @~/prophet_stage/{temp_metrics_path}.gz\n",
    "            FILE_FORMAT = (TYPE = 'CSV' FIELD_DELIMITER = ',' SKIP_HEADER = 0 FIELD_OPTIONALLY_ENCLOSED_BY = '\"')\n",
    "        \"\"\")\n",
    "        conn.commit()\n",
    "        print('Exportación a Snowflake completada.')\n",
    "    except Exception as e:\n",
    "        conn.rollback()\n",
    "        print(f'Error al exportar a Snowflake: {e}')\n",
    "    finally:\n",
    "        cursor.close()\n",
    "        conn.close()\n",
    "        import os\n",
    "        if os.path.exists(temp_csv_path):\n",
    "            os.remove(temp_csv_path)\n",
    "        if os.path.exists(temp_metrics_path):\n",
    "            os.remove(temp_metrics_path)\n",
    "\n",
    "# Exportar resultados y métricas a Snowflake\n",
    "export_prophet_results_to_snowflake(df_resultados, df_hist, y_true, y_pred, producto)\n",
    "\n",
    "def print_snowflake_counts():\n",
    "    try:\n",
    "        conn = get_snowflake_connection()\n",
    "        cursor = conn.cursor()\n",
    "        cursor.execute('SELECT COUNT(*) FROM PROPHET_M3_RESULTADOS')\n",
    "        count_resultados = cursor.fetchone()[0]\n",
    "        print(f'Número de Registros: {count_resultados}')\n",
    "        cursor.execute('SELECT COUNT(*) FROM PROPHET_M3_METRICS')\n",
    "        count_metrics = cursor.fetchone()[0]\n",
    "        print(f'Número de Registros: {count_metrics}')\n",
    "        cursor.close()\n",
    "        conn.close()\n",
    "    except Exception as e:\n",
    "        print(f'Error al consultar tablas en Snowflake: {e}')\n",
    "\n",
    "# Llamar solo una vez para evitar duplicados\n",
    "print_snowflake_counts()\n"
   ]
  }
 ],
 "metadata": {
  "kernelspec": {
   "display_name": "Python 3",
   "language": "python",
   "name": "python3"
  },
  "language_info": {
   "codemirror_mode": {
    "name": "ipython",
    "version": 3
   },
   "file_extension": ".py",
   "mimetype": "text/x-python",
   "name": "python",
   "nbconvert_exporter": "python",
   "pygments_lexer": "ipython3",
   "version": "3.10.11"
  }
 },
 "nbformat": 4,
 "nbformat_minor": 5
}
