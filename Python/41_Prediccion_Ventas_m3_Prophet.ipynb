{
 "cells": [
  {
   "cell_type": "markdown",
   "id": "c804b161",
   "metadata": {},
   "source": [
    "# Predicción de Cantidades Vendidas por Región y Categoría con Prophet\n",
    "\n",
    "Este notebook replica el flujo de predicción de cantidades vendidas por región y categoría, usando Prophet y considerando variables exógenas (`AVG_PRECIO_LISTA`, `AVG_DESC_PORCENTAJE`). Se generan pronósticos para dos escenarios, siguiendo la lógica de los modelos implementados en Snowflake."
   ]
  },
  {
   "cell_type": "markdown",
   "id": "a0f91bb1",
   "metadata": {},
   "source": [
    "## 1. Importar Librerías y Configuración\n",
    "\n",
    "Importamos las librerías necesarias y configuramos el logging para trazabilidad."
   ]
  },
  {
   "cell_type": "code",
   "execution_count": 14,
   "id": "2f73edb2",
   "metadata": {},
   "outputs": [],
   "source": [
    "import pandas as pd\n",
    "import numpy as np\n",
    "import snowflake.connector\n",
    "import logging\n",
    "from datetime import datetime\n",
    "import os\n",
    "from prophet import Prophet\n",
    "from sklearn.metrics import mean_squared_error, mean_absolute_error, r2_score\n",
    "import matplotlib.pyplot as plt\n",
    "import warnings\n",
    "\n",
    "warnings.filterwarnings(\"ignore\")\n",
    "logging.basicConfig(\n",
    "    level=logging.INFO,\n",
    "    format='%(asctime)s - %(levelname)s - %(message)s',\n",
    "    handlers=[logging.StreamHandler()]\n",
    ")"
   ]
  },
  {
   "cell_type": "markdown",
   "id": "8cd102e4",
   "metadata": {},
   "source": [
    "## 2. Carga de Datos desde Snowflake\n",
    "\n",
    "Cargamos los datos históricos y los dos escenarios de forecast desde las vistas generadas en Snowflake."
   ]
  },
  {
   "cell_type": "code",
   "execution_count": 15,
   "id": "07f6c750",
   "metadata": {},
   "outputs": [
    {
     "name": "stderr",
     "output_type": "stream",
     "text": [
      "2025-06-28 18:06:04,430 - INFO - Snowflake Connector for Python Version: 3.15.0, Python Version: 3.10.11, Platform: Windows-10-10.0.19045-SP0\n"
     ]
    },
    {
     "name": "stderr",
     "output_type": "stream",
     "text": [
      "2025-06-28 18:06:04,435 - INFO - Connecting to GLOBAL Snowflake domain\n",
      "2025-06-28 18:06:05,332 - INFO - Conexión a Snowflake exitosa\n",
      "2025-06-28 18:06:11,424 - INFO - Histórico: 3984 registros, Escenario 1: 1680, Escenario 2: 1680\n"
     ]
    },
    {
     "name": "stdout",
     "output_type": "stream",
     "text": [
      "Histórico: (3984, 6), Escenario 1: (1680, 5), Escenario 2: (1680, 5)\n"
     ]
    }
   ],
   "source": [
    "def get_snowflake_connection():\n",
    "    try:\n",
    "        conn = snowflake.connector.connect(\n",
    "            user='ringoquimicodev',  \n",
    "            password='Ch3cooch2ch2ch3',  \n",
    "            account='RSB72105', \n",
    "            warehouse='COMPUTE_WH', \n",
    "            database='BEBIDAS_PROJECT',\n",
    "            schema='BEBIDAS_ANALYTICS'\n",
    "        )\n",
    "        logging.info(\"Conexión a Snowflake exitosa\")\n",
    "        return conn\n",
    "    except Exception as e:\n",
    "        logging.error(f\"Error de conexión a Snowflake: {e}\")\n",
    "        raise\n",
    "\n",
    "def load_snowflake_views():\n",
    "    conn = get_snowflake_connection()\n",
    "    try:\n",
    "        df_hist = pd.read_sql(\"SELECT * FROM VW_VENTAS_HISTORICO_M3\", conn)\n",
    "        df_fcst1 = pd.read_sql(\"SELECT * FROM VW_VENTAS_FCST_FEATURES_1\", conn)\n",
    "        df_fcst2 = pd.read_sql(\"SELECT * FROM VW_VENTAS_FCST_FEATURES_2\", conn)\n",
    "        logging.info(f\"Histórico: {len(df_hist)} registros, Escenario 1: {len(df_fcst1)}, Escenario 2: {len(df_fcst2)}\")\n",
    "        return df_hist, df_fcst1, df_fcst2\n",
    "    finally:\n",
    "        conn.close()\n",
    "\n",
    "df_hist, df_fcst1, df_fcst2 = load_snowflake_views()\n",
    "print(f\"Histórico: {df_hist.shape}, Escenario 1: {df_fcst1.shape}, Escenario 2: {df_fcst2.shape}\")"
   ]
  },
  {
   "cell_type": "code",
   "execution_count": 16,
   "id": "8f0a241d",
   "metadata": {},
   "outputs": [],
   "source": [
    "producto = \"Antioquia-Agua-Agua con Gas 500mL x 6uds\"\n",
    "df_hist = df_hist[df_hist['REGION_CATEGORIA_PRODUCTO'] == producto].copy()\n",
    "df_fcst1 = df_fcst1[df_fcst1['REGION_CATEGORIA_PRODUCTO'] == producto].copy()\n",
    "df_fcst2 = df_fcst2[df_fcst2['REGION_CATEGORIA_PRODUCTO'] == producto].copy()"
   ]
  },
  {
   "cell_type": "markdown",
   "id": "ca783cc5",
   "metadata": {},
   "source": [
    "## 3. Preparación de Datos para Prophet\n",
    "\n",
    "Prophet requiere las columnas `ds` (fecha) y `y` (target). Además, agregamos las variables exógenas."
   ]
  },
  {
   "cell_type": "code",
   "execution_count": 17,
   "id": "f36ee7b3",
   "metadata": {},
   "outputs": [],
   "source": [
    "# Convertir MES a datetime y renombrar columnas\n",
    "for df in [df_hist, df_fcst1, df_fcst2]:\n",
    "    df['ds'] = pd.to_datetime(df['MES'])\n",
    "df_hist['y'] = df_hist['M3_VENDIDOS']\n",
    "\n",
    "# Seleccionar variables exógenas\n",
    "exog_vars = ['AVG_PRECIO_LISTA', 'AVG_DESC_PORCENTAJE']"
   ]
  },
  {
   "cell_type": "markdown",
   "id": "77ef7061",
   "metadata": {},
   "source": [
    "## 4. Entrenamiento del Modelo Prophet con Variables Exógenas"
   ]
  },
  {
   "cell_type": "code",
   "execution_count": 18,
   "id": "41f3be99",
   "metadata": {},
   "outputs": [
    {
     "name": "stderr",
     "output_type": "stream",
     "text": [
      "2025-06-28 18:06:12,124 - DEBUG - cmd: where.exe tbb.dll\n",
      "cwd: None\n"
     ]
    },
    {
     "name": "stderr",
     "output_type": "stream",
     "text": [
      "2025-06-28 18:06:12,694 - DEBUG - TBB already found in load path\n",
      "2025-06-28 18:06:12,746 - INFO - n_changepoints greater than number of observations. Using 22.\n",
      "2025-06-28 18:06:12,756 - DEBUG - input tempfile: C:\\Users\\joey_\\AppData\\Local\\Temp\\tmppdwpyuy0\\bfm5nwnl.json\n",
      "2025-06-28 18:06:12,766 - DEBUG - input tempfile: C:\\Users\\joey_\\AppData\\Local\\Temp\\tmppdwpyuy0\\ifijtnac.json\n",
      "2025-06-28 18:06:12,770 - DEBUG - idx 0\n",
      "2025-06-28 18:06:12,772 - DEBUG - running CmdStan, num_threads: None\n",
      "2025-06-28 18:06:12,774 - DEBUG - CmdStan args: ['C:\\\\Users\\\\joey_\\\\AppData\\\\Local\\\\Programs\\\\Python\\\\Python310\\\\Lib\\\\site-packages\\\\prophet\\\\stan_model\\\\prophet_model.bin', 'random', 'seed=12536', 'data', 'file=C:\\\\Users\\\\joey_\\\\AppData\\\\Local\\\\Temp\\\\tmppdwpyuy0\\\\bfm5nwnl.json', 'init=C:\\\\Users\\\\joey_\\\\AppData\\\\Local\\\\Temp\\\\tmppdwpyuy0\\\\ifijtnac.json', 'output', 'file=C:\\\\Users\\\\joey_\\\\AppData\\\\Local\\\\Temp\\\\tmppdwpyuy0\\\\prophet_model1jel4vxk\\\\prophet_model-20250628180612.csv', 'method=optimize', 'algorithm=newton', 'iter=10000']\n",
      "18:06:12 - cmdstanpy - INFO - Chain [1] start processing\n",
      "2025-06-28 18:06:12,775 - INFO - Chain [1] start processing\n",
      "18:06:13 - cmdstanpy - INFO - Chain [1] done processing\n",
      "2025-06-28 18:06:13,926 - INFO - Chain [1] done processing\n"
     ]
    },
    {
     "data": {
      "text/plain": [
       "<prophet.forecaster.Prophet at 0x18941c12fb0>"
      ]
     },
     "execution_count": 18,
     "metadata": {},
     "output_type": "execute_result"
    }
   ],
   "source": [
    "# Instanciar y agregar variables exógenas\n",
    "m = Prophet(yearly_seasonality=True, weekly_seasonality=False, daily_seasonality=False)\n",
    "for var in exog_vars:\n",
    "    m.add_regressor(var)\n",
    "\n",
    "# Entrenar modelo\n",
    "m.fit(df_hist[['ds', 'y'] + exog_vars])"
   ]
  },
  {
   "cell_type": "markdown",
   "id": "04b2f95e",
   "metadata": {},
   "source": [
    "## 5. Predicción para Escenario 1 y Escenario 2\n",
    "\n",
    "Se generan predicciones para ambos escenarios, usando las variables exógenas correspondientes."
   ]
  },
  {
   "cell_type": "code",
   "execution_count": 19,
   "id": "3b775512",
   "metadata": {},
   "outputs": [],
   "source": [
    "# Preparar dataframes de forecast para Prophet\n",
    "def prepare_future(df_fcst):\n",
    "    return df_fcst[['ds'] + exog_vars].copy()\n",
    "\n",
    "future1 = prepare_future(df_fcst1)\n",
    "future2 = prepare_future(df_fcst2)\n",
    "\n",
    "# Predicción escenario 1\n",
    "forecast1 = m.predict(future1)\n",
    "df_fcst1['CANTIDAD_VENDIDA_PRED'] = forecast1['yhat'].values\n",
    "\n",
    "# Predicción escenario 2\n",
    "forecast2 = m.predict(future2)\n",
    "df_fcst2['CANTIDAD_VENDIDA_PRED'] = forecast2['yhat'].values"
   ]
  },
  {
   "cell_type": "markdown",
   "id": "f3e90283",
   "metadata": {},
   "source": [
    "## 6. Métricas de Desempeño en el Histórico Reciente\n",
    "\n",
    "Se evalúa el modelo en el histórico más reciente (por ejemplo, los últimos 7 meses)."
   ]
  },
  {
   "cell_type": "code",
   "execution_count": 20,
   "id": "93970e17",
   "metadata": {},
   "outputs": [
    {
     "name": "stdout",
     "output_type": "stream",
     "text": [
      "Evaluación últimos 7 meses del histórico:\n",
      "RMSE: 0.09\n",
      "MAE: 0.07\n",
      "SMAPE: 4.60%\n",
      "R2: 0.90\n"
     ]
    }
   ],
   "source": [
    "def smape(y_true, y_pred):\n",
    "    return 100 * np.mean(2 * np.abs(y_pred - y_true) / (np.abs(y_true) + np.abs(y_pred)))\n",
    "\n",
    "# Evaluar en los últimos 7 meses del histórico\n",
    "n_test = 7\n",
    "test_hist = df_hist.tail(n_test)\n",
    "future_test = test_hist[['ds'] + exog_vars]\n",
    "forecast_test = m.predict(future_test)\n",
    "y_true = test_hist['y'].values\n",
    "y_pred = forecast_test['yhat'].values\n",
    "\n",
    "print(\"Evaluación últimos 7 meses del histórico:\")\n",
    "rmse = np.sqrt(mean_squared_error(y_true, y_pred))\n",
    "print(f\"RMSE: {rmse:.2f}\")\n",
    "print(f\"MAE: {mean_absolute_error(y_true, y_pred):.2f}\")\n",
    "print(f\"SMAPE: {smape(y_true, y_pred):.2f}%\")\n",
    "print(f\"R2: {r2_score(y_true, y_pred):.2f}\")"
   ]
  },
  {
   "cell_type": "markdown",
   "id": "0188497c",
   "metadata": {},
   "source": [
    "## 7. Visualización de Resultados"
   ]
  },
  {
   "cell_type": "code",
   "execution_count": 21,
   "id": "0bed615b",
   "metadata": {},
   "outputs": [
    {
     "data": {
      "application/vnd.plotly.v1+json": {
       "config": {
        "plotlyServerURL": "https://plot.ly"
       },
       "data": [
        {
         "line": {
          "color": "black"
         },
         "mode": "lines",
         "name": "Histórico Real",
         "type": "scatter",
         "x": [
          "2023-01-01T00:00:00.000000000",
          "2023-02-01T00:00:00.000000000",
          "2023-03-01T00:00:00.000000000",
          "2023-04-01T00:00:00.000000000",
          "2023-05-01T00:00:00.000000000",
          "2023-06-01T00:00:00.000000000",
          "2023-07-01T00:00:00.000000000",
          "2023-08-01T00:00:00.000000000",
          "2023-09-01T00:00:00.000000000",
          "2023-10-01T00:00:00.000000000",
          "2023-11-01T00:00:00.000000000",
          "2023-12-01T00:00:00.000000000",
          "2024-01-01T00:00:00.000000000",
          "2024-02-01T00:00:00.000000000",
          "2024-03-01T00:00:00.000000000",
          "2024-04-01T00:00:00.000000000",
          "2024-05-01T00:00:00.000000000",
          "2024-06-01T00:00:00.000000000",
          "2024-07-01T00:00:00.000000000",
          "2024-08-01T00:00:00.000000000",
          "2024-09-01T00:00:00.000000000",
          "2024-10-01T00:00:00.000000000",
          "2024-11-01T00:00:00.000000000",
          "2024-12-01T00:00:00.000000000",
          "2025-01-01T00:00:00.000000000",
          "2025-02-01T00:00:00.000000000",
          "2025-03-01T00:00:00.000000000",
          "2025-04-01T00:00:00.000000000",
          "2025-05-01T00:00:00.000000000"
         ],
         "y": {
          "bdata": "001iEFg58D9oke18PzXqP0w3iUFg5ew/MzMzMzMz7z81XrpJDALvP2q8dJMYBOo/QmDl0CLb7T8j2/l+arz0P1yPwvUoXOs/kxgEVg4t8D8rhxbZzvfzP8P1KFyPwvE/6SYxCKwc9D+JQWDl0CLxP99PjZduEvU/SOF6FK5H8T/VeOkmMQjwP4lBYOXQIvc/9P3UeOkm8z+BlUOLbOfxP+XQItv5fvQ/+FPjpZvE+D89CtejcD34P2q8dJMYBAFAmpmZmZmZ9T9t5/up8dLzP65H4XoUrvk/dZMYBFYO8z/b+X5qvHT7Pw==",
          "dtype": "f8"
         }
        },
        {
         "line": {
          "color": "gray",
          "dash": "dot"
         },
         "mode": "lines",
         "name": "Tendencia (Histórico)",
         "type": "scatter",
         "x": [
          "2023-01-01T00:00:00.000000000",
          "2023-02-01T00:00:00.000000000",
          "2023-03-01T00:00:00.000000000",
          "2023-04-01T00:00:00.000000000",
          "2023-05-01T00:00:00.000000000",
          "2023-06-01T00:00:00.000000000",
          "2023-07-01T00:00:00.000000000",
          "2023-08-01T00:00:00.000000000",
          "2023-09-01T00:00:00.000000000",
          "2023-10-01T00:00:00.000000000",
          "2023-11-01T00:00:00.000000000",
          "2023-12-01T00:00:00.000000000",
          "2024-01-01T00:00:00.000000000",
          "2024-02-01T00:00:00.000000000",
          "2024-03-01T00:00:00.000000000",
          "2024-04-01T00:00:00.000000000",
          "2024-05-01T00:00:00.000000000",
          "2024-06-01T00:00:00.000000000",
          "2024-07-01T00:00:00.000000000",
          "2024-08-01T00:00:00.000000000",
          "2024-09-01T00:00:00.000000000",
          "2024-10-01T00:00:00.000000000",
          "2024-11-01T00:00:00.000000000",
          "2024-12-01T00:00:00.000000000",
          "2025-01-01T00:00:00.000000000",
          "2025-02-01T00:00:00.000000000",
          "2025-03-01T00:00:00.000000000",
          "2025-04-01T00:00:00.000000000",
          "2025-05-01T00:00:00.000000000"
         ],
         "y": {
          "bdata": "AERIqhNN6z8AoDo0USDsPwDwwm4d3+w/AEy1+Fqy7T8AoNkSyH7uPwD8y5wFUu8/ACp4WzkP8D8AVnEg2HjwPwCEauV24vA/ALB8cq1I8T8A3HU3TLLxPwAIiMSCGPI/ADaBiSGC8j8AYnpOwOvyPwCMpaOOTvM/ALqeaC248z8A5rD1Yx70PwASqroCiPQ/AD68Rznu9D8AbLUM2Ff1PwCYrtF2wfU/AMTAXq0n9j8A8rkjTJH2PwAezLCC9/Y/AErFdSFh9z8AeL46wMr3PwCgAlgmKvg/AM77HMWT+D8A+A2q+/n4Pw==",
          "dtype": "f8"
         }
        },
        {
         "line": {
          "color": "orange",
          "dash": "dash"
         },
         "mode": "lines",
         "name": "Histórico Test (Real)",
         "type": "scatter",
         "x": [
          "2024-11-01T00:00:00.000000000",
          "2024-12-01T00:00:00.000000000",
          "2025-01-01T00:00:00.000000000",
          "2025-02-01T00:00:00.000000000",
          "2025-03-01T00:00:00.000000000",
          "2025-04-01T00:00:00.000000000",
          "2025-05-01T00:00:00.000000000"
         ],
         "y": {
          "bdata": "PQrXo3A9+D9qvHSTGAQBQJqZmZmZmfU/bef7qfHS8z+uR+F6FK75P3WTGARWDvM/2/l+arx0+z8=",
          "dtype": "f8"
         }
        },
        {
         "line": {
          "color": "red",
          "dash": "dash"
         },
         "mode": "lines",
         "name": "Histórico Test (Predicción)",
         "type": "scatter",
         "x": [
          "2024-11-01T00:00:00.000000000",
          "2024-12-01T00:00:00.000000000",
          "2025-01-01T00:00:00.000000000",
          "2025-02-01T00:00:00.000000000",
          "2025-03-01T00:00:00.000000000",
          "2025-04-01T00:00:00.000000000",
          "2025-05-01T00:00:00.000000000"
         ],
         "y": {
          "bdata": "90etzgWH9z9K6VbXuc4AQM4pOYirlvU/M8nxMb/+8z9gA/WhZb76P4cTYLAQxvU/tMEDXjHq+D8=",
          "dtype": "f8"
         }
        },
        {
         "line": {
          "color": "blue",
          "dash": "dash"
         },
         "mode": "lines",
         "name": "Forecast Escenario 1",
         "type": "scatter",
         "x": [
          "2025-06-01T00:00:00.000000000",
          "2025-07-01T00:00:00.000000000",
          "2025-08-01T00:00:00.000000000",
          "2025-09-01T00:00:00.000000000",
          "2025-10-01T00:00:00.000000000",
          "2025-11-01T00:00:00.000000000",
          "2025-12-01T00:00:00.000000000",
          "2026-01-01T00:00:00.000000000",
          "2026-02-01T00:00:00.000000000",
          "2026-03-01T00:00:00.000000000",
          "2026-04-01T00:00:00.000000000",
          "2026-05-01T00:00:00.000000000"
         ],
         "y": {
          "bdata": "UNqlt24l+j9Tr2yoF8n4P5L0+TDTyPg/+hxiFXlF+D9CiKHlnwz8P0G9R4bLnvw/xFf90fyGAUAaWT9xMfL6P4WpVa6BlPg/kVlvPfMg/D9xSszbNnr5PwuwMBECpvw/",
          "dtype": "f8"
         }
        },
        {
         "line": {
          "color": "green",
          "dash": "dash"
         },
         "mode": "lines",
         "name": "Forecast Escenario 2",
         "type": "scatter",
         "x": [
          "2025-06-01T00:00:00.000000000",
          "2025-07-01T00:00:00.000000000",
          "2025-08-01T00:00:00.000000000",
          "2025-09-01T00:00:00.000000000",
          "2025-10-01T00:00:00.000000000",
          "2025-11-01T00:00:00.000000000",
          "2025-12-01T00:00:00.000000000",
          "2026-01-01T00:00:00.000000000",
          "2026-02-01T00:00:00.000000000",
          "2026-03-01T00:00:00.000000000",
          "2026-04-01T00:00:00.000000000",
          "2026-05-01T00:00:00.000000000"
         ],
         "y": {
          "bdata": "aDWwqluc/D9qCnebBED7P6lPBCTAP/s/EnhsCGa8+j9a46vYjIP+P1kYUnm4Ff8/T4WCS3PCAkAytElkHmn9P50EYKFuC/s/qLR5MOCX/j+JpdbOI/H7PyMLOwTvHP8/",
          "dtype": "f8"
         }
        }
       ],
       "layout": {
        "height": 600,
        "legend": {
         "title": {
          "text": "Serie"
         }
        },
        "template": {
         "data": {
          "bar": [
           {
            "error_x": {
             "color": "#2a3f5f"
            },
            "error_y": {
             "color": "#2a3f5f"
            },
            "marker": {
             "line": {
              "color": "white",
              "width": 0.5
             },
             "pattern": {
              "fillmode": "overlay",
              "size": 10,
              "solidity": 0.2
             }
            },
            "type": "bar"
           }
          ],
          "barpolar": [
           {
            "marker": {
             "line": {
              "color": "white",
              "width": 0.5
             },
             "pattern": {
              "fillmode": "overlay",
              "size": 10,
              "solidity": 0.2
             }
            },
            "type": "barpolar"
           }
          ],
          "carpet": [
           {
            "aaxis": {
             "endlinecolor": "#2a3f5f",
             "gridcolor": "#C8D4E3",
             "linecolor": "#C8D4E3",
             "minorgridcolor": "#C8D4E3",
             "startlinecolor": "#2a3f5f"
            },
            "baxis": {
             "endlinecolor": "#2a3f5f",
             "gridcolor": "#C8D4E3",
             "linecolor": "#C8D4E3",
             "minorgridcolor": "#C8D4E3",
             "startlinecolor": "#2a3f5f"
            },
            "type": "carpet"
           }
          ],
          "choropleth": [
           {
            "colorbar": {
             "outlinewidth": 0,
             "ticks": ""
            },
            "type": "choropleth"
           }
          ],
          "contour": [
           {
            "colorbar": {
             "outlinewidth": 0,
             "ticks": ""
            },
            "colorscale": [
             [
              0,
              "#0d0887"
             ],
             [
              0.1111111111111111,
              "#46039f"
             ],
             [
              0.2222222222222222,
              "#7201a8"
             ],
             [
              0.3333333333333333,
              "#9c179e"
             ],
             [
              0.4444444444444444,
              "#bd3786"
             ],
             [
              0.5555555555555556,
              "#d8576b"
             ],
             [
              0.6666666666666666,
              "#ed7953"
             ],
             [
              0.7777777777777778,
              "#fb9f3a"
             ],
             [
              0.8888888888888888,
              "#fdca26"
             ],
             [
              1,
              "#f0f921"
             ]
            ],
            "type": "contour"
           }
          ],
          "contourcarpet": [
           {
            "colorbar": {
             "outlinewidth": 0,
             "ticks": ""
            },
            "type": "contourcarpet"
           }
          ],
          "heatmap": [
           {
            "colorbar": {
             "outlinewidth": 0,
             "ticks": ""
            },
            "colorscale": [
             [
              0,
              "#0d0887"
             ],
             [
              0.1111111111111111,
              "#46039f"
             ],
             [
              0.2222222222222222,
              "#7201a8"
             ],
             [
              0.3333333333333333,
              "#9c179e"
             ],
             [
              0.4444444444444444,
              "#bd3786"
             ],
             [
              0.5555555555555556,
              "#d8576b"
             ],
             [
              0.6666666666666666,
              "#ed7953"
             ],
             [
              0.7777777777777778,
              "#fb9f3a"
             ],
             [
              0.8888888888888888,
              "#fdca26"
             ],
             [
              1,
              "#f0f921"
             ]
            ],
            "type": "heatmap"
           }
          ],
          "histogram": [
           {
            "marker": {
             "pattern": {
              "fillmode": "overlay",
              "size": 10,
              "solidity": 0.2
             }
            },
            "type": "histogram"
           }
          ],
          "histogram2d": [
           {
            "colorbar": {
             "outlinewidth": 0,
             "ticks": ""
            },
            "colorscale": [
             [
              0,
              "#0d0887"
             ],
             [
              0.1111111111111111,
              "#46039f"
             ],
             [
              0.2222222222222222,
              "#7201a8"
             ],
             [
              0.3333333333333333,
              "#9c179e"
             ],
             [
              0.4444444444444444,
              "#bd3786"
             ],
             [
              0.5555555555555556,
              "#d8576b"
             ],
             [
              0.6666666666666666,
              "#ed7953"
             ],
             [
              0.7777777777777778,
              "#fb9f3a"
             ],
             [
              0.8888888888888888,
              "#fdca26"
             ],
             [
              1,
              "#f0f921"
             ]
            ],
            "type": "histogram2d"
           }
          ],
          "histogram2dcontour": [
           {
            "colorbar": {
             "outlinewidth": 0,
             "ticks": ""
            },
            "colorscale": [
             [
              0,
              "#0d0887"
             ],
             [
              0.1111111111111111,
              "#46039f"
             ],
             [
              0.2222222222222222,
              "#7201a8"
             ],
             [
              0.3333333333333333,
              "#9c179e"
             ],
             [
              0.4444444444444444,
              "#bd3786"
             ],
             [
              0.5555555555555556,
              "#d8576b"
             ],
             [
              0.6666666666666666,
              "#ed7953"
             ],
             [
              0.7777777777777778,
              "#fb9f3a"
             ],
             [
              0.8888888888888888,
              "#fdca26"
             ],
             [
              1,
              "#f0f921"
             ]
            ],
            "type": "histogram2dcontour"
           }
          ],
          "mesh3d": [
           {
            "colorbar": {
             "outlinewidth": 0,
             "ticks": ""
            },
            "type": "mesh3d"
           }
          ],
          "parcoords": [
           {
            "line": {
             "colorbar": {
              "outlinewidth": 0,
              "ticks": ""
             }
            },
            "type": "parcoords"
           }
          ],
          "pie": [
           {
            "automargin": true,
            "type": "pie"
           }
          ],
          "scatter": [
           {
            "fillpattern": {
             "fillmode": "overlay",
             "size": 10,
             "solidity": 0.2
            },
            "type": "scatter"
           }
          ],
          "scatter3d": [
           {
            "line": {
             "colorbar": {
              "outlinewidth": 0,
              "ticks": ""
             }
            },
            "marker": {
             "colorbar": {
              "outlinewidth": 0,
              "ticks": ""
             }
            },
            "type": "scatter3d"
           }
          ],
          "scattercarpet": [
           {
            "marker": {
             "colorbar": {
              "outlinewidth": 0,
              "ticks": ""
             }
            },
            "type": "scattercarpet"
           }
          ],
          "scattergeo": [
           {
            "marker": {
             "colorbar": {
              "outlinewidth": 0,
              "ticks": ""
             }
            },
            "type": "scattergeo"
           }
          ],
          "scattergl": [
           {
            "marker": {
             "colorbar": {
              "outlinewidth": 0,
              "ticks": ""
             }
            },
            "type": "scattergl"
           }
          ],
          "scattermap": [
           {
            "marker": {
             "colorbar": {
              "outlinewidth": 0,
              "ticks": ""
             }
            },
            "type": "scattermap"
           }
          ],
          "scattermapbox": [
           {
            "marker": {
             "colorbar": {
              "outlinewidth": 0,
              "ticks": ""
             }
            },
            "type": "scattermapbox"
           }
          ],
          "scatterpolar": [
           {
            "marker": {
             "colorbar": {
              "outlinewidth": 0,
              "ticks": ""
             }
            },
            "type": "scatterpolar"
           }
          ],
          "scatterpolargl": [
           {
            "marker": {
             "colorbar": {
              "outlinewidth": 0,
              "ticks": ""
             }
            },
            "type": "scatterpolargl"
           }
          ],
          "scatterternary": [
           {
            "marker": {
             "colorbar": {
              "outlinewidth": 0,
              "ticks": ""
             }
            },
            "type": "scatterternary"
           }
          ],
          "surface": [
           {
            "colorbar": {
             "outlinewidth": 0,
             "ticks": ""
            },
            "colorscale": [
             [
              0,
              "#0d0887"
             ],
             [
              0.1111111111111111,
              "#46039f"
             ],
             [
              0.2222222222222222,
              "#7201a8"
             ],
             [
              0.3333333333333333,
              "#9c179e"
             ],
             [
              0.4444444444444444,
              "#bd3786"
             ],
             [
              0.5555555555555556,
              "#d8576b"
             ],
             [
              0.6666666666666666,
              "#ed7953"
             ],
             [
              0.7777777777777778,
              "#fb9f3a"
             ],
             [
              0.8888888888888888,
              "#fdca26"
             ],
             [
              1,
              "#f0f921"
             ]
            ],
            "type": "surface"
           }
          ],
          "table": [
           {
            "cells": {
             "fill": {
              "color": "#EBF0F8"
             },
             "line": {
              "color": "white"
             }
            },
            "header": {
             "fill": {
              "color": "#C8D4E3"
             },
             "line": {
              "color": "white"
             }
            },
            "type": "table"
           }
          ]
         },
         "layout": {
          "annotationdefaults": {
           "arrowcolor": "#2a3f5f",
           "arrowhead": 0,
           "arrowwidth": 1
          },
          "autotypenumbers": "strict",
          "coloraxis": {
           "colorbar": {
            "outlinewidth": 0,
            "ticks": ""
           }
          },
          "colorscale": {
           "diverging": [
            [
             0,
             "#8e0152"
            ],
            [
             0.1,
             "#c51b7d"
            ],
            [
             0.2,
             "#de77ae"
            ],
            [
             0.3,
             "#f1b6da"
            ],
            [
             0.4,
             "#fde0ef"
            ],
            [
             0.5,
             "#f7f7f7"
            ],
            [
             0.6,
             "#e6f5d0"
            ],
            [
             0.7,
             "#b8e186"
            ],
            [
             0.8,
             "#7fbc41"
            ],
            [
             0.9,
             "#4d9221"
            ],
            [
             1,
             "#276419"
            ]
           ],
           "sequential": [
            [
             0,
             "#0d0887"
            ],
            [
             0.1111111111111111,
             "#46039f"
            ],
            [
             0.2222222222222222,
             "#7201a8"
            ],
            [
             0.3333333333333333,
             "#9c179e"
            ],
            [
             0.4444444444444444,
             "#bd3786"
            ],
            [
             0.5555555555555556,
             "#d8576b"
            ],
            [
             0.6666666666666666,
             "#ed7953"
            ],
            [
             0.7777777777777778,
             "#fb9f3a"
            ],
            [
             0.8888888888888888,
             "#fdca26"
            ],
            [
             1,
             "#f0f921"
            ]
           ],
           "sequentialminus": [
            [
             0,
             "#0d0887"
            ],
            [
             0.1111111111111111,
             "#46039f"
            ],
            [
             0.2222222222222222,
             "#7201a8"
            ],
            [
             0.3333333333333333,
             "#9c179e"
            ],
            [
             0.4444444444444444,
             "#bd3786"
            ],
            [
             0.5555555555555556,
             "#d8576b"
            ],
            [
             0.6666666666666666,
             "#ed7953"
            ],
            [
             0.7777777777777778,
             "#fb9f3a"
            ],
            [
             0.8888888888888888,
             "#fdca26"
            ],
            [
             1,
             "#f0f921"
            ]
           ]
          },
          "colorway": [
           "#636efa",
           "#EF553B",
           "#00cc96",
           "#ab63fa",
           "#FFA15A",
           "#19d3f3",
           "#FF6692",
           "#B6E880",
           "#FF97FF",
           "#FECB52"
          ],
          "font": {
           "color": "#2a3f5f"
          },
          "geo": {
           "bgcolor": "white",
           "lakecolor": "white",
           "landcolor": "white",
           "showlakes": true,
           "showland": true,
           "subunitcolor": "#C8D4E3"
          },
          "hoverlabel": {
           "align": "left"
          },
          "hovermode": "closest",
          "mapbox": {
           "style": "light"
          },
          "paper_bgcolor": "white",
          "plot_bgcolor": "white",
          "polar": {
           "angularaxis": {
            "gridcolor": "#EBF0F8",
            "linecolor": "#EBF0F8",
            "ticks": ""
           },
           "bgcolor": "white",
           "radialaxis": {
            "gridcolor": "#EBF0F8",
            "linecolor": "#EBF0F8",
            "ticks": ""
           }
          },
          "scene": {
           "xaxis": {
            "backgroundcolor": "white",
            "gridcolor": "#DFE8F3",
            "gridwidth": 2,
            "linecolor": "#EBF0F8",
            "showbackground": true,
            "ticks": "",
            "zerolinecolor": "#EBF0F8"
           },
           "yaxis": {
            "backgroundcolor": "white",
            "gridcolor": "#DFE8F3",
            "gridwidth": 2,
            "linecolor": "#EBF0F8",
            "showbackground": true,
            "ticks": "",
            "zerolinecolor": "#EBF0F8"
           },
           "zaxis": {
            "backgroundcolor": "white",
            "gridcolor": "#DFE8F3",
            "gridwidth": 2,
            "linecolor": "#EBF0F8",
            "showbackground": true,
            "ticks": "",
            "zerolinecolor": "#EBF0F8"
           }
          },
          "shapedefaults": {
           "line": {
            "color": "#2a3f5f"
           }
          },
          "ternary": {
           "aaxis": {
            "gridcolor": "#DFE8F3",
            "linecolor": "#A2B1C6",
            "ticks": ""
           },
           "baxis": {
            "gridcolor": "#DFE8F3",
            "linecolor": "#A2B1C6",
            "ticks": ""
           },
           "bgcolor": "white",
           "caxis": {
            "gridcolor": "#DFE8F3",
            "linecolor": "#A2B1C6",
            "ticks": ""
           }
          },
          "title": {
           "x": 0.05
          },
          "xaxis": {
           "automargin": true,
           "gridcolor": "#EBF0F8",
           "linecolor": "#EBF0F8",
           "ticks": "",
           "title": {
            "standoff": 15
           },
           "zerolinecolor": "#EBF0F8",
           "zerolinewidth": 2
          },
          "yaxis": {
           "automargin": true,
           "gridcolor": "#EBF0F8",
           "linecolor": "#EBF0F8",
           "ticks": "",
           "title": {
            "standoff": 15
           },
           "zerolinecolor": "#EBF0F8",
           "zerolinewidth": 2
          }
         }
        },
        "title": {
         "text": "Pronóstico de Cantidades Vendidas por Región y Categoría (Prophet)\nAntioquia-Agua-Agua con Gas 500mL x 6uds"
        },
        "width": 1200,
        "xaxis": {
         "title": {
          "text": "Fecha"
         }
        },
        "yaxis": {
         "title": {
          "text": "Cantidad Vendida (m3)"
         }
        }
       }
      }
     },
     "metadata": {},
     "output_type": "display_data"
    }
   ],
   "source": [
    "import plotly.graph_objects as go\n",
    "from sklearn.linear_model import LinearRegression\n",
    "\n",
    "fig = go.Figure()\n",
    "\n",
    "# 1. Histórico real completo\n",
    "fig.add_trace(go.Scatter(\n",
    "    x=df_hist['ds'],\n",
    "    y=df_hist['y'],\n",
    "    mode='lines',\n",
    "    name='Histórico Real',\n",
    "    line=dict(color='black')\n",
    "))\n",
    "\n",
    "# Línea de tendencia (regresión lineal sobre histórico)\n",
    "X_trend = df_hist['ds'].map(lambda x: x.toordinal()).values.reshape(-1, 1)\n",
    "y_trend = df_hist['y'].values\n",
    "reg = LinearRegression().fit(X_trend, y_trend)\n",
    "y_trend_pred = reg.predict(X_trend)\n",
    "fig.add_trace(go.Scatter(\n",
    "    x=df_hist['ds'],\n",
    "    y=y_trend_pred,\n",
    "    mode='lines',\n",
    "    name='Tendencia (Histórico)',\n",
    "    line=dict(color='gray', dash='dot')\n",
    "))\n",
    "\n",
    "# 2. Test real (últimos n_test meses)\n",
    "fig.add_trace(go.Scatter(\n",
    "    x=df_hist['ds'].tail(n_test),\n",
    "    y=y_true,\n",
    "    mode='lines',\n",
    "    name='Histórico Test (Real)',\n",
    "    line=dict(color='orange', dash='dash')\n",
    "))\n",
    "\n",
    "# 3. Predicción test (últimos n_test meses)\n",
    "fig.add_trace(go.Scatter(\n",
    "    x=df_hist['ds'].tail(n_test),\n",
    "    y=y_pred,\n",
    "    mode='lines',\n",
    "    name='Histórico Test (Predicción)',\n",
    "    line=dict(color='red', dash='dash')\n",
    "))\n",
    "\n",
    "# 4. Forecast Escenario 1\n",
    "fig.add_trace(go.Scatter(\n",
    "    x=df_fcst1['ds'],\n",
    "    y=df_fcst1['CANTIDAD_VENDIDA_PRED'],\n",
    "    mode='lines',\n",
    "    name='Forecast Escenario 1',\n",
    "    line=dict(color='blue', dash='dash')\n",
    "))\n",
    "\n",
    "# 5. Forecast Escenario 2\n",
    "fig.add_trace(go.Scatter(\n",
    "    x=df_fcst2['ds'],\n",
    "    y=df_fcst2['CANTIDAD_VENDIDA_PRED'],\n",
    "    mode='lines',\n",
    "    name='Forecast Escenario 2',\n",
    "    line=dict(color='green', dash='dash')\n",
    "))\n",
    "\n",
    "fig.update_layout(\n",
    "    title=f'Pronóstico de Cantidades Vendidas por Región y Categoría (Prophet)\\n{producto}',\n",
    "    xaxis_title='Fecha',\n",
    "    yaxis_title='Cantidad Vendida (m3)',\n",
    "    legend_title='Serie',\n",
    "    template='plotly_white',\n",
    "    width=1200,\n",
    "    height=600\n",
    ")\n",
    "fig.show()"
   ]
  },
  {
   "cell_type": "markdown",
   "id": "b6fa1587",
   "metadata": {},
   "source": [
    "## 8. Diferencia porcentual mes a mes\n",
    "\n",
    "Se calcula y grafica la variación porcentual mes a mes para el histórico y ambos escenarios."
   ]
  },
  {
   "cell_type": "code",
   "execution_count": 22,
   "id": "a8941e71",
   "metadata": {},
   "outputs": [
    {
     "data": {
      "application/vnd.plotly.v1+json": {
       "config": {
        "plotlyServerURL": "https://plot.ly"
       },
       "data": [
        {
         "marker": {
          "color": [
           "red",
           "red",
           "green",
           "green",
           "red",
           "red",
           "green",
           "green",
           "red",
           "green",
           "green",
           "red",
           "green",
           "red",
           "green",
           "red",
           "red",
           "green",
           "red",
           "red",
           "green",
           "green",
           "red",
           "green",
           "red",
           "red",
           "green",
           "red",
           "green"
          ]
         },
         "name": "Histórico",
         "text": [
          "",
          "-19.2%",
          "10.3%",
          "8.0%",
          "-0.6%",
          "-16.1%",
          "14.8%",
          "38.9%",
          "-34.0%",
          "18.2%",
          "23.4%",
          "-11.1%",
          "13.2%",
          "-14.8%",
          "23.0%",
          "-18.0%",
          "-7.2%",
          "44.3%",
          "-17.2%",
          "-6.5%",
          "14.5%",
          "20.8%",
          "-2.1%",
          "40.4%",
          "-36.5%",
          "-8.2%",
          "29.5%",
          "-25.8%",
          "44.1%"
         ],
         "textposition": "outside",
         "type": "bar",
         "width": 1728000000,
         "x": [
          "2023-01-01T00:00:00.000000000",
          "2023-02-01T00:00:00.000000000",
          "2023-03-01T00:00:00.000000000",
          "2023-04-01T00:00:00.000000000",
          "2023-05-01T00:00:00.000000000",
          "2023-06-01T00:00:00.000000000",
          "2023-07-01T00:00:00.000000000",
          "2023-08-01T00:00:00.000000000",
          "2023-09-01T00:00:00.000000000",
          "2023-10-01T00:00:00.000000000",
          "2023-11-01T00:00:00.000000000",
          "2023-12-01T00:00:00.000000000",
          "2024-01-01T00:00:00.000000000",
          "2024-02-01T00:00:00.000000000",
          "2024-03-01T00:00:00.000000000",
          "2024-04-01T00:00:00.000000000",
          "2024-05-01T00:00:00.000000000",
          "2024-06-01T00:00:00.000000000",
          "2024-07-01T00:00:00.000000000",
          "2024-08-01T00:00:00.000000000",
          "2024-09-01T00:00:00.000000000",
          "2024-10-01T00:00:00.000000000",
          "2024-11-01T00:00:00.000000000",
          "2024-12-01T00:00:00.000000000",
          "2025-01-01T00:00:00.000000000",
          "2025-02-01T00:00:00.000000000",
          "2025-03-01T00:00:00.000000000",
          "2025-04-01T00:00:00.000000000",
          "2025-05-01T00:00:00.000000000"
         ],
         "xaxis": "x",
         "y": {
          "bdata": "AAAAAAAA+H+0EzuxEzszwDlIgzRIgyRA6Se1t8jkH0AoO7ETO7Hjv3rjC7tcGTDA4fEAETKFLUCgpIh2EHRDQDmO4ziOA0HA6yO4j+A+MkDifonbL3E3QNWJndiJHSbAu2fdYIp8KkDw8fw2IpgtwLEc+K4c+DZAwtA2btX+McBCjuM4juMcwP4WpzXbJ0ZAekw4e0w4McAXoSuErhAawBhKxBpV9CxA0ulu1dTXNEBM3pA35A0BwCB3/WyxMkRA0ViCq+FDQsAbx3Ecx3EgwOQbL0Q6ij1Akgn0Tl3LOcD+utY/UQpGQA==",
          "dtype": "f8"
         },
         "yaxis": "y"
        },
        {
         "marker": {
          "color": [
           "red",
           "red",
           "red",
           "red",
           "green",
           "green",
           "green",
           "red",
           "red",
           "green",
           "red",
           "green"
          ]
         },
         "name": "Escenario 1",
         "text": [
          "-4.9%",
          "-5.2%",
          "-0.0%",
          "-2.1%",
          "15.6%",
          "2.0%",
          "22.5%",
          "-23.1%",
          "-8.8%",
          "14.4%",
          "-9.4%",
          "12.4%"
         ],
         "textposition": "outside",
         "type": "bar",
         "width": 1728000000,
         "x": [
          "2025-06-01T00:00:00.000000000",
          "2025-07-01T00:00:00.000000000",
          "2025-08-01T00:00:00.000000000",
          "2025-09-01T00:00:00.000000000",
          "2025-10-01T00:00:00.000000000",
          "2025-11-01T00:00:00.000000000",
          "2025-12-01T00:00:00.000000000",
          "2026-01-01T00:00:00.000000000",
          "2026-02-01T00:00:00.000000000",
          "2026-03-01T00:00:00.000000000",
          "2026-04-01T00:00:00.000000000",
          "2026-05-01T00:00:00.000000000"
         ],
         "xaxis": "x2",
         "y": {
          "bdata": "1xe4mlKME8DKg6SdG9EUwACMrNzHQ3G/4N4zutCPAMCKFD91eyEvQJwT64X0SABAZhX/l0l7NkB0NAHbkSE3wCjKCBCMjyHA/eqS1bLfLECSN/3l7dkiwCigB3mo5ChA",
          "dtype": "f8"
         },
         "yaxis": "y2"
        },
        {
         "marker": {
          "color": [
           "green",
           "red",
           "red",
           "red",
           "green",
           "green",
           "green",
           "red",
           "red",
           "green",
           "red",
           "green"
          ]
         },
         "name": "Escenario 2",
         "text": [
          "4.1%",
          "-4.8%",
          "-0.0%",
          "-1.9%",
          "14.1%",
          "1.9%",
          "20.7%",
          "-21.6%",
          "-8.0%",
          "13.1%",
          "-8.7%",
          "11.3%"
         ],
         "textposition": "outside",
         "type": "bar",
         "width": 1728000000,
         "x": [
          "2025-06-01T00:00:00.000000000",
          "2025-07-01T00:00:00.000000000",
          "2025-08-01T00:00:00.000000000",
          "2025-09-01T00:00:00.000000000",
          "2025-10-01T00:00:00.000000000",
          "2025-11-01T00:00:00.000000000",
          "2025-12-01T00:00:00.000000000",
          "2026-01-01T00:00:00.000000000",
          "2026-02-01T00:00:00.000000000",
          "2026-03-01T00:00:00.000000000",
          "2026-04-01T00:00:00.000000000",
          "2026-05-01T00:00:00.000000000"
         ],
         "xaxis": "x3",
         "y": {
          "bdata": "L7xajyR6EEBe4sz6DQYTwABI+NQXaG+/uLXtkq8g/r+4FHFR2EIsQJRW8LZ48P0/7kvJLfuyNECdCfYomJw1wDRcOTfUFiDApsAYrxk+KkDspXKmKFUhwFZQyrKSsiZA",
          "dtype": "f8"
         },
         "yaxis": "y3"
        }
       ],
       "layout": {
        "annotations": [
         {
          "font": {
           "size": 16
          },
          "showarrow": false,
          "text": "Histórico",
          "x": 0.5,
          "xanchor": "center",
          "xref": "paper",
          "y": 1,
          "yanchor": "bottom",
          "yref": "paper"
         },
         {
          "font": {
           "size": 16
          },
          "showarrow": false,
          "text": "Escenario 1",
          "x": 0.5,
          "xanchor": "center",
          "xref": "paper",
          "y": 0.6266666666666667,
          "yanchor": "bottom",
          "yref": "paper"
         },
         {
          "font": {
           "size": 16
          },
          "showarrow": false,
          "text": "Escenario 2",
          "x": 0.5,
          "xanchor": "center",
          "xref": "paper",
          "y": 0.25333333333333335,
          "yanchor": "bottom",
          "yref": "paper"
         }
        ],
        "bargap": 0.25,
        "font": {
         "size": 12
        },
        "height": 1300,
        "margin": {
         "b": 40,
         "l": 40,
         "r": 40,
         "t": 40
        },
        "showlegend": false,
        "template": {
         "data": {
          "bar": [
           {
            "error_x": {
             "color": "#2a3f5f"
            },
            "error_y": {
             "color": "#2a3f5f"
            },
            "marker": {
             "line": {
              "color": "#E5ECF6",
              "width": 0.5
             },
             "pattern": {
              "fillmode": "overlay",
              "size": 10,
              "solidity": 0.2
             }
            },
            "type": "bar"
           }
          ],
          "barpolar": [
           {
            "marker": {
             "line": {
              "color": "#E5ECF6",
              "width": 0.5
             },
             "pattern": {
              "fillmode": "overlay",
              "size": 10,
              "solidity": 0.2
             }
            },
            "type": "barpolar"
           }
          ],
          "carpet": [
           {
            "aaxis": {
             "endlinecolor": "#2a3f5f",
             "gridcolor": "white",
             "linecolor": "white",
             "minorgridcolor": "white",
             "startlinecolor": "#2a3f5f"
            },
            "baxis": {
             "endlinecolor": "#2a3f5f",
             "gridcolor": "white",
             "linecolor": "white",
             "minorgridcolor": "white",
             "startlinecolor": "#2a3f5f"
            },
            "type": "carpet"
           }
          ],
          "choropleth": [
           {
            "colorbar": {
             "outlinewidth": 0,
             "ticks": ""
            },
            "type": "choropleth"
           }
          ],
          "contour": [
           {
            "colorbar": {
             "outlinewidth": 0,
             "ticks": ""
            },
            "colorscale": [
             [
              0,
              "#0d0887"
             ],
             [
              0.1111111111111111,
              "#46039f"
             ],
             [
              0.2222222222222222,
              "#7201a8"
             ],
             [
              0.3333333333333333,
              "#9c179e"
             ],
             [
              0.4444444444444444,
              "#bd3786"
             ],
             [
              0.5555555555555556,
              "#d8576b"
             ],
             [
              0.6666666666666666,
              "#ed7953"
             ],
             [
              0.7777777777777778,
              "#fb9f3a"
             ],
             [
              0.8888888888888888,
              "#fdca26"
             ],
             [
              1,
              "#f0f921"
             ]
            ],
            "type": "contour"
           }
          ],
          "contourcarpet": [
           {
            "colorbar": {
             "outlinewidth": 0,
             "ticks": ""
            },
            "type": "contourcarpet"
           }
          ],
          "heatmap": [
           {
            "colorbar": {
             "outlinewidth": 0,
             "ticks": ""
            },
            "colorscale": [
             [
              0,
              "#0d0887"
             ],
             [
              0.1111111111111111,
              "#46039f"
             ],
             [
              0.2222222222222222,
              "#7201a8"
             ],
             [
              0.3333333333333333,
              "#9c179e"
             ],
             [
              0.4444444444444444,
              "#bd3786"
             ],
             [
              0.5555555555555556,
              "#d8576b"
             ],
             [
              0.6666666666666666,
              "#ed7953"
             ],
             [
              0.7777777777777778,
              "#fb9f3a"
             ],
             [
              0.8888888888888888,
              "#fdca26"
             ],
             [
              1,
              "#f0f921"
             ]
            ],
            "type": "heatmap"
           }
          ],
          "histogram": [
           {
            "marker": {
             "pattern": {
              "fillmode": "overlay",
              "size": 10,
              "solidity": 0.2
             }
            },
            "type": "histogram"
           }
          ],
          "histogram2d": [
           {
            "colorbar": {
             "outlinewidth": 0,
             "ticks": ""
            },
            "colorscale": [
             [
              0,
              "#0d0887"
             ],
             [
              0.1111111111111111,
              "#46039f"
             ],
             [
              0.2222222222222222,
              "#7201a8"
             ],
             [
              0.3333333333333333,
              "#9c179e"
             ],
             [
              0.4444444444444444,
              "#bd3786"
             ],
             [
              0.5555555555555556,
              "#d8576b"
             ],
             [
              0.6666666666666666,
              "#ed7953"
             ],
             [
              0.7777777777777778,
              "#fb9f3a"
             ],
             [
              0.8888888888888888,
              "#fdca26"
             ],
             [
              1,
              "#f0f921"
             ]
            ],
            "type": "histogram2d"
           }
          ],
          "histogram2dcontour": [
           {
            "colorbar": {
             "outlinewidth": 0,
             "ticks": ""
            },
            "colorscale": [
             [
              0,
              "#0d0887"
             ],
             [
              0.1111111111111111,
              "#46039f"
             ],
             [
              0.2222222222222222,
              "#7201a8"
             ],
             [
              0.3333333333333333,
              "#9c179e"
             ],
             [
              0.4444444444444444,
              "#bd3786"
             ],
             [
              0.5555555555555556,
              "#d8576b"
             ],
             [
              0.6666666666666666,
              "#ed7953"
             ],
             [
              0.7777777777777778,
              "#fb9f3a"
             ],
             [
              0.8888888888888888,
              "#fdca26"
             ],
             [
              1,
              "#f0f921"
             ]
            ],
            "type": "histogram2dcontour"
           }
          ],
          "mesh3d": [
           {
            "colorbar": {
             "outlinewidth": 0,
             "ticks": ""
            },
            "type": "mesh3d"
           }
          ],
          "parcoords": [
           {
            "line": {
             "colorbar": {
              "outlinewidth": 0,
              "ticks": ""
             }
            },
            "type": "parcoords"
           }
          ],
          "pie": [
           {
            "automargin": true,
            "type": "pie"
           }
          ],
          "scatter": [
           {
            "fillpattern": {
             "fillmode": "overlay",
             "size": 10,
             "solidity": 0.2
            },
            "type": "scatter"
           }
          ],
          "scatter3d": [
           {
            "line": {
             "colorbar": {
              "outlinewidth": 0,
              "ticks": ""
             }
            },
            "marker": {
             "colorbar": {
              "outlinewidth": 0,
              "ticks": ""
             }
            },
            "type": "scatter3d"
           }
          ],
          "scattercarpet": [
           {
            "marker": {
             "colorbar": {
              "outlinewidth": 0,
              "ticks": ""
             }
            },
            "type": "scattercarpet"
           }
          ],
          "scattergeo": [
           {
            "marker": {
             "colorbar": {
              "outlinewidth": 0,
              "ticks": ""
             }
            },
            "type": "scattergeo"
           }
          ],
          "scattergl": [
           {
            "marker": {
             "colorbar": {
              "outlinewidth": 0,
              "ticks": ""
             }
            },
            "type": "scattergl"
           }
          ],
          "scattermap": [
           {
            "marker": {
             "colorbar": {
              "outlinewidth": 0,
              "ticks": ""
             }
            },
            "type": "scattermap"
           }
          ],
          "scattermapbox": [
           {
            "marker": {
             "colorbar": {
              "outlinewidth": 0,
              "ticks": ""
             }
            },
            "type": "scattermapbox"
           }
          ],
          "scatterpolar": [
           {
            "marker": {
             "colorbar": {
              "outlinewidth": 0,
              "ticks": ""
             }
            },
            "type": "scatterpolar"
           }
          ],
          "scatterpolargl": [
           {
            "marker": {
             "colorbar": {
              "outlinewidth": 0,
              "ticks": ""
             }
            },
            "type": "scatterpolargl"
           }
          ],
          "scatterternary": [
           {
            "marker": {
             "colorbar": {
              "outlinewidth": 0,
              "ticks": ""
             }
            },
            "type": "scatterternary"
           }
          ],
          "surface": [
           {
            "colorbar": {
             "outlinewidth": 0,
             "ticks": ""
            },
            "colorscale": [
             [
              0,
              "#0d0887"
             ],
             [
              0.1111111111111111,
              "#46039f"
             ],
             [
              0.2222222222222222,
              "#7201a8"
             ],
             [
              0.3333333333333333,
              "#9c179e"
             ],
             [
              0.4444444444444444,
              "#bd3786"
             ],
             [
              0.5555555555555556,
              "#d8576b"
             ],
             [
              0.6666666666666666,
              "#ed7953"
             ],
             [
              0.7777777777777778,
              "#fb9f3a"
             ],
             [
              0.8888888888888888,
              "#fdca26"
             ],
             [
              1,
              "#f0f921"
             ]
            ],
            "type": "surface"
           }
          ],
          "table": [
           {
            "cells": {
             "fill": {
              "color": "#EBF0F8"
             },
             "line": {
              "color": "white"
             }
            },
            "header": {
             "fill": {
              "color": "#C8D4E3"
             },
             "line": {
              "color": "white"
             }
            },
            "type": "table"
           }
          ]
         },
         "layout": {
          "annotationdefaults": {
           "arrowcolor": "#2a3f5f",
           "arrowhead": 0,
           "arrowwidth": 1
          },
          "autotypenumbers": "strict",
          "coloraxis": {
           "colorbar": {
            "outlinewidth": 0,
            "ticks": ""
           }
          },
          "colorscale": {
           "diverging": [
            [
             0,
             "#8e0152"
            ],
            [
             0.1,
             "#c51b7d"
            ],
            [
             0.2,
             "#de77ae"
            ],
            [
             0.3,
             "#f1b6da"
            ],
            [
             0.4,
             "#fde0ef"
            ],
            [
             0.5,
             "#f7f7f7"
            ],
            [
             0.6,
             "#e6f5d0"
            ],
            [
             0.7,
             "#b8e186"
            ],
            [
             0.8,
             "#7fbc41"
            ],
            [
             0.9,
             "#4d9221"
            ],
            [
             1,
             "#276419"
            ]
           ],
           "sequential": [
            [
             0,
             "#0d0887"
            ],
            [
             0.1111111111111111,
             "#46039f"
            ],
            [
             0.2222222222222222,
             "#7201a8"
            ],
            [
             0.3333333333333333,
             "#9c179e"
            ],
            [
             0.4444444444444444,
             "#bd3786"
            ],
            [
             0.5555555555555556,
             "#d8576b"
            ],
            [
             0.6666666666666666,
             "#ed7953"
            ],
            [
             0.7777777777777778,
             "#fb9f3a"
            ],
            [
             0.8888888888888888,
             "#fdca26"
            ],
            [
             1,
             "#f0f921"
            ]
           ],
           "sequentialminus": [
            [
             0,
             "#0d0887"
            ],
            [
             0.1111111111111111,
             "#46039f"
            ],
            [
             0.2222222222222222,
             "#7201a8"
            ],
            [
             0.3333333333333333,
             "#9c179e"
            ],
            [
             0.4444444444444444,
             "#bd3786"
            ],
            [
             0.5555555555555556,
             "#d8576b"
            ],
            [
             0.6666666666666666,
             "#ed7953"
            ],
            [
             0.7777777777777778,
             "#fb9f3a"
            ],
            [
             0.8888888888888888,
             "#fdca26"
            ],
            [
             1,
             "#f0f921"
            ]
           ]
          },
          "colorway": [
           "#636efa",
           "#EF553B",
           "#00cc96",
           "#ab63fa",
           "#FFA15A",
           "#19d3f3",
           "#FF6692",
           "#B6E880",
           "#FF97FF",
           "#FECB52"
          ],
          "font": {
           "color": "#2a3f5f"
          },
          "geo": {
           "bgcolor": "white",
           "lakecolor": "white",
           "landcolor": "#E5ECF6",
           "showlakes": true,
           "showland": true,
           "subunitcolor": "white"
          },
          "hoverlabel": {
           "align": "left"
          },
          "hovermode": "closest",
          "mapbox": {
           "style": "light"
          },
          "paper_bgcolor": "white",
          "plot_bgcolor": "#E5ECF6",
          "polar": {
           "angularaxis": {
            "gridcolor": "white",
            "linecolor": "white",
            "ticks": ""
           },
           "bgcolor": "#E5ECF6",
           "radialaxis": {
            "gridcolor": "white",
            "linecolor": "white",
            "ticks": ""
           }
          },
          "scene": {
           "xaxis": {
            "backgroundcolor": "#E5ECF6",
            "gridcolor": "white",
            "gridwidth": 2,
            "linecolor": "white",
            "showbackground": true,
            "ticks": "",
            "zerolinecolor": "white"
           },
           "yaxis": {
            "backgroundcolor": "#E5ECF6",
            "gridcolor": "white",
            "gridwidth": 2,
            "linecolor": "white",
            "showbackground": true,
            "ticks": "",
            "zerolinecolor": "white"
           },
           "zaxis": {
            "backgroundcolor": "#E5ECF6",
            "gridcolor": "white",
            "gridwidth": 2,
            "linecolor": "white",
            "showbackground": true,
            "ticks": "",
            "zerolinecolor": "white"
           }
          },
          "shapedefaults": {
           "line": {
            "color": "#2a3f5f"
           }
          },
          "ternary": {
           "aaxis": {
            "gridcolor": "white",
            "linecolor": "white",
            "ticks": ""
           },
           "baxis": {
            "gridcolor": "white",
            "linecolor": "white",
            "ticks": ""
           },
           "bgcolor": "#E5ECF6",
           "caxis": {
            "gridcolor": "white",
            "linecolor": "white",
            "ticks": ""
           }
          },
          "title": {
           "x": 0.05
          },
          "xaxis": {
           "automargin": true,
           "gridcolor": "white",
           "linecolor": "white",
           "ticks": "",
           "title": {
            "standoff": 15
           },
           "zerolinecolor": "white",
           "zerolinewidth": 2
          },
          "yaxis": {
           "automargin": true,
           "gridcolor": "white",
           "linecolor": "white",
           "ticks": "",
           "title": {
            "standoff": 15
           },
           "zerolinecolor": "white",
           "zerolinewidth": 2
          }
         }
        },
        "title": {
         "text": "Diferencia porcentual mes a mes"
        },
        "width": 1200,
        "xaxis": {
         "anchor": "y",
         "domain": [
          0,
          1
         ],
         "tickangle": 45,
         "tickformat": "%b-%Y"
        },
        "xaxis2": {
         "anchor": "y2",
         "domain": [
          0,
          1
         ],
         "tickangle": 45,
         "tickformat": "%b-%Y"
        },
        "xaxis3": {
         "anchor": "y3",
         "domain": [
          0,
          1
         ],
         "tickangle": 45,
         "tickformat": "%b-%Y"
        },
        "yaxis": {
         "anchor": "x",
         "domain": [
          0.7466666666666667,
          1
         ],
         "title": {
          "text": "% Dif."
         },
         "zeroline": true,
         "zerolinecolor": "gray"
        },
        "yaxis2": {
         "anchor": "x2",
         "domain": [
          0.37333333333333335,
          0.6266666666666667
         ],
         "title": {
          "text": "% Dif."
         },
         "zeroline": true,
         "zerolinecolor": "gray"
        },
        "yaxis3": {
         "anchor": "x3",
         "domain": [
          0,
          0.25333333333333335
         ],
         "title": {
          "text": "% Dif."
         },
         "zeroline": true,
         "zerolinecolor": "gray"
        }
       }
      }
     },
     "metadata": {},
     "output_type": "display_data"
    }
   ],
   "source": [
    "import plotly.subplots as sp\n",
    "import plotly.graph_objects as go\n",
    "\n",
    "def calc_diff(df, col, first_ref=None):\n",
    "    diffs = df[col].pct_change() * 100\n",
    "    if first_ref is not None and len(diffs) > 0:\n",
    "        # Reemplaza el primer valor NaN por la diferencia con el último valor del histórico\n",
    "        diffs.iloc[0] = 100 * (df[col].iloc[0] - first_ref) / ((abs(df[col].iloc[0]) + abs(first_ref)) / 2)\n",
    "    return diffs\n",
    "\n",
    "# Último valor real del histórico\n",
    "last_hist = df_hist['y'].iloc[-1]\n",
    "\n",
    "# Calcular diferencias\n",
    "# Histórico: normal\n",
    "# Escenarios: primer punto vs último histórico\n",
    "\n",
    "df_hist['DIF_PCT'] = calc_diff(df_hist, 'y')\n",
    "df_fcst1['DIF_PCT'] = calc_diff(df_fcst1, 'CANTIDAD_VENDIDA_PRED', first_ref=last_hist)\n",
    "df_fcst2['DIF_PCT'] = calc_diff(df_fcst2, 'CANTIDAD_VENDIDA_PRED', first_ref=last_hist)\n",
    "\n",
    "get_colors = lambda difs: [\n",
    "    'green' if d > 0 else 'yellow' if d == 0 else 'red' for d in difs\n",
    "]\n",
    "\n",
    "fig = sp.make_subplots(\n",
    "    rows=3, cols=1, \n",
    "    subplot_titles=['Histórico', 'Escenario 1', 'Escenario 2'],\n",
    "    vertical_spacing=0.12\n",
    ")\n",
    "\n",
    "# 1. Histórico\n",
    "fig.add_trace(\n",
    "    go.Bar(\n",
    "        x=df_hist['ds'],\n",
    "        y=df_hist['DIF_PCT'],\n",
    "        marker_color=get_colors(df_hist['DIF_PCT']),\n",
    "        text=[f'{v:.1f}%' if not pd.isnull(v) else '' for v in df_hist['DIF_PCT']],\n",
    "        textposition='outside',\n",
    "        name='Histórico',\n",
    "        width=20*24*60*60*1000\n",
    "    ), row=1, col=1\n",
    ")\n",
    "# 2. Escenario 1\n",
    "fig.add_trace(\n",
    "    go.Bar(\n",
    "        x=df_fcst1['ds'],\n",
    "        y=df_fcst1['DIF_PCT'],\n",
    "        marker_color=get_colors(df_fcst1['DIF_PCT']),\n",
    "        text=[f'{v:.1f}%' if not pd.isnull(v) else '' for v in df_fcst1['DIF_PCT']],\n",
    "        textposition='outside',\n",
    "        name='Escenario 1',\n",
    "        width=20*24*60*60*1000\n",
    "    ), row=2, col=1\n",
    ")\n",
    "# 3. Escenario 2\n",
    "fig.add_trace(\n",
    "    go.Bar(\n",
    "        x=df_fcst2['ds'],\n",
    "        y=df_fcst2['DIF_PCT'],\n",
    "        marker_color=get_colors(df_fcst2['DIF_PCT']),\n",
    "        text=[f'{v:.1f}%' if not pd.isnull(v) else '' for v in df_fcst2['DIF_PCT']],\n",
    "        textposition='outside',\n",
    "        name='Escenario 2',\n",
    "        width=20*24*60*60*1000\n",
    "    ), row=3, col=1\n",
    ")\n",
    "\n",
    "fig.update_layout(\n",
    "    title_text='Diferencia porcentual mes a mes',\n",
    "    showlegend=False,\n",
    "    height=1300,\n",
    "    width=1200,\n",
    "    bargap=0.25,\n",
    "    font=dict(size=12),\n",
    "    margin=dict(t=40, l=40, r=40, b=40)\n",
    ")\n",
    "for i in range(1, 4):\n",
    "    fig.update_yaxes(title_text='% Dif.', row=i, col=1, zeroline=True, zerolinecolor='gray')\n",
    "    fig.update_xaxes(tickformat='%b-%Y', row=i, col=1, tickangle=45)\n",
    "fig.show()"
   ]
  }
 ],
 "metadata": {
  "kernelspec": {
   "display_name": "Python 3",
   "language": "python",
   "name": "python3"
  },
  "language_info": {
   "codemirror_mode": {
    "name": "ipython",
    "version": 3
   },
   "file_extension": ".py",
   "mimetype": "text/x-python",
   "name": "python",
   "nbconvert_exporter": "python",
   "pygments_lexer": "ipython3",
   "version": "3.10.11"
  }
 },
 "nbformat": 4,
 "nbformat_minor": 5
}
