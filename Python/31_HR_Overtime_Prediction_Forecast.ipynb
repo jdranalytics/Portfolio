{
 "cells": [
  {
   "cell_type": "markdown",
   "id": "404f6110",
   "metadata": {},
   "source": [
    "# HR Overtime Prediction and Forecasting\n",
    "\n",
    "# Predicción y Pronóstico de Horas Extra de RRHH\n",
    "\n",
    "Este notebook implementa el pronóstico de horas extra utilizando Prophet y visualiza datos históricos, predicciones e intervalos de confianza usando Plotly. Los componentes principales incluyen:\n",
    "- Carga de datos históricos de horas extra desde SQL Server\n",
    "- Entrenamiento de modelos SARIMA para cada departamento\n",
    "- Generación de predicciones con intervalos de confianza \n",
    "- Visualización interactiva con Plotly\n",
    "- Almacenamiento de modelos y predicciones en MS SQL SERVER\n",
    "\n",
    "Objetivo: Predecir las horas extras acumuladas por departamento semana a semana para las próximas 4 semanas."
   ]
  },
  {
   "cell_type": "markdown",
   "id": "a874cc3c",
   "metadata": {},
   "source": [
    "## 1. Importar Librerías and Setup\n"
   ]
  },
  {
   "cell_type": "code",
   "execution_count": 139,
   "id": "b4616d67",
   "metadata": {},
   "outputs": [],
   "source": [
    "import pandas as pd\n",
    "import numpy as np\n",
    "import pymssql\n",
    "import logging\n",
    "import datetime\n",
    "import warnings\n",
    "import os\n",
    "\n",
    "# Data visualization\n",
    "import plotly.express as px\n",
    "import plotly.graph_objects as go\n",
    "from plotly.subplots import make_subplots\n",
    "\n",
    "# Modelos y Tests\n",
    "from statsmodels.tsa.statespace.sarimax import SARIMAX\n",
    "from statsmodels.graphics.tsaplots import plot_acf, plot_pacf\n",
    "from statsmodels.tsa.seasonal import seasonal_decompose\n",
    "from statsmodels.tsa.stattools import adfuller, acf\n",
    "from statsmodels.stats.diagnostic import acorr_ljungbox\n",
    "from pmdarima import auto_arima\n",
    "\n",
    "# Métricas\n",
    "from sklearn.metrics import mean_squared_error, mean_absolute_error\n",
    "from sklearn.model_selection import train_test_split\n",
    "\n",
    "# Persistencia de modelo\n",
    "import joblib\n",
    "\n",
    "# Configure warnings and logging\n",
    "warnings.filterwarnings(\"ignore\")\n",
    "logging.basicConfig(level=logging.INFO)"
   ]
  },
  {
   "cell_type": "markdown",
   "id": "2ad66f3e",
   "metadata": {},
   "source": [
    "## 2. Conectar a la base de datos\n",
    "\n",
    "Setup de SQL Server"
   ]
  },
  {
   "cell_type": "code",
   "execution_count": 140,
   "id": "5b80caa8",
   "metadata": {},
   "outputs": [],
   "source": [
    "# SQL Server Setup\n",
    "SQL_SERVER = \"172.28.192.1:50121\"\n",
    "SQL_DB = \"HR_Analytics\"\n",
    "SQL_USER = \"sa\"\n",
    "SQL_PASSWORD = \"123456\"\n",
    "\n",
    "# Conectar a SQL Server\n",
    "def get_db_connection():\n",
    "    server_name = SQL_SERVER\n",
    "    try:\n",
    "        conn = pymssql.connect(\n",
    "            server=server_name,\n",
    "            database=SQL_DB,\n",
    "            user=SQL_USER,\n",
    "            password=SQL_PASSWORD\n",
    "        )\n",
    "        return conn\n",
    "    except Exception as e:\n",
    "        logging.error(f\"Error de conexión a la base de datos: {e}\")\n",
    "        raise"
   ]
  },
  {
   "cell_type": "markdown",
   "id": "35d90a13",
   "metadata": {},
   "source": [
    "## 3. Cargar y procesar datos históricos de horas extras\n",
    "\n",
    "Consulta y preparación"
   ]
  },
  {
   "cell_type": "code",
   "execution_count": 141,
   "id": "e8694bc7",
   "metadata": {},
   "outputs": [
    {
     "name": "stderr",
     "output_type": "stream",
     "text": [
      "INFO:root:Loaded data: 318 records\n"
     ]
    },
    {
     "name": "stdout",
     "output_type": "stream",
     "text": [
      "Raw data record count: 318\n",
      "Unique departments: ['Finance' 'HR' 'Inventory' 'IT' 'Marketing' 'Sales']\n",
      "Null departments: 0\n",
      "Unique work_date values: [Timestamp('2024-05-19 00:00:00'), Timestamp('2024-05-26 00:00:00'), Timestamp('2024-06-02 00:00:00'), Timestamp('2024-06-09 00:00:00'), Timestamp('2024-06-16 00:00:00'), Timestamp('2024-06-23 00:00:00'), Timestamp('2024-06-30 00:00:00'), Timestamp('2024-07-07 00:00:00'), Timestamp('2024-07-14 00:00:00'), Timestamp('2024-07-21 00:00:00'), Timestamp('2024-07-28 00:00:00'), Timestamp('2024-08-04 00:00:00'), Timestamp('2024-08-11 00:00:00'), Timestamp('2024-08-18 00:00:00'), Timestamp('2024-08-25 00:00:00'), Timestamp('2024-09-01 00:00:00'), Timestamp('2024-09-08 00:00:00'), Timestamp('2024-09-15 00:00:00'), Timestamp('2024-09-22 00:00:00'), Timestamp('2024-09-29 00:00:00'), Timestamp('2024-10-06 00:00:00'), Timestamp('2024-10-13 00:00:00'), Timestamp('2024-10-20 00:00:00'), Timestamp('2024-10-27 00:00:00'), Timestamp('2024-11-03 00:00:00'), Timestamp('2024-11-10 00:00:00'), Timestamp('2024-11-17 00:00:00'), Timestamp('2024-11-24 00:00:00'), Timestamp('2024-12-01 00:00:00'), Timestamp('2024-12-08 00:00:00'), Timestamp('2024-12-15 00:00:00'), Timestamp('2024-12-22 00:00:00'), Timestamp('2024-12-29 00:00:00'), Timestamp('2025-01-05 00:00:00'), Timestamp('2025-01-12 00:00:00'), Timestamp('2025-01-19 00:00:00'), Timestamp('2025-01-26 00:00:00'), Timestamp('2025-02-02 00:00:00'), Timestamp('2025-02-09 00:00:00'), Timestamp('2025-02-16 00:00:00'), Timestamp('2025-02-23 00:00:00'), Timestamp('2025-03-02 00:00:00'), Timestamp('2025-03-09 00:00:00'), Timestamp('2025-03-16 00:00:00'), Timestamp('2025-03-23 00:00:00'), Timestamp('2025-03-30 00:00:00'), Timestamp('2025-04-06 00:00:00'), Timestamp('2025-04-13 00:00:00'), Timestamp('2025-04-20 00:00:00'), Timestamp('2025-04-27 00:00:00'), Timestamp('2025-05-04 00:00:00'), Timestamp('2025-05-11 00:00:00'), Timestamp('2025-05-18 00:00:00')]\n",
      "Final record count: 318\n",
      "Unique work_date and department combinations: 318\n",
      "Muestra de datos históricos:\n"
     ]
    },
    {
     "data": {
      "application/vnd.microsoft.datawrangler.viewer.v0+json": {
       "columns": [
        {
         "name": "index",
         "rawType": "int64",
         "type": "integer"
        },
        {
         "name": "work_date",
         "rawType": "datetime64[ns]",
         "type": "datetime"
        },
        {
         "name": "department",
         "rawType": "object",
         "type": "string"
        },
        {
         "name": "total_overtime",
         "rawType": "float64",
         "type": "float"
        }
       ],
       "ref": "ea64c9a2-3062-483e-a951-92f69b35a95f",
       "rows": [
        [
         "317",
         "2025-05-18 00:00:00",
         "Sales",
         "1.57"
        ],
        [
         "316",
         "2025-05-18 00:00:00",
         "Marketing",
         "3.49"
        ],
        [
         "314",
         "2025-05-18 00:00:00",
         "Inventory",
         "2.89"
        ],
        [
         "315",
         "2025-05-18 00:00:00",
         "IT",
         "1.13"
        ],
        [
         "313",
         "2025-05-18 00:00:00",
         "HR",
         "1.92"
        ],
        [
         "312",
         "2025-05-18 00:00:00",
         "Finance",
         "1.6"
        ],
        [
         "311",
         "2025-05-11 00:00:00",
         "Sales",
         "0.0"
        ],
        [
         "310",
         "2025-05-11 00:00:00",
         "Marketing",
         "1.99"
        ],
        [
         "308",
         "2025-05-11 00:00:00",
         "Inventory",
         "8.03"
        ],
        [
         "309",
         "2025-05-11 00:00:00",
         "IT",
         "12.85"
        ],
        [
         "307",
         "2025-05-11 00:00:00",
         "HR",
         "9.27"
        ],
        [
         "306",
         "2025-05-11 00:00:00",
         "Finance",
         "12.54"
        ]
       ],
       "shape": {
        "columns": 3,
        "rows": 12
       }
      },
      "text/html": [
       "<div>\n",
       "<style scoped>\n",
       "    .dataframe tbody tr th:only-of-type {\n",
       "        vertical-align: middle;\n",
       "    }\n",
       "\n",
       "    .dataframe tbody tr th {\n",
       "        vertical-align: top;\n",
       "    }\n",
       "\n",
       "    .dataframe thead th {\n",
       "        text-align: right;\n",
       "    }\n",
       "</style>\n",
       "<table border=\"1\" class=\"dataframe\">\n",
       "  <thead>\n",
       "    <tr style=\"text-align: right;\">\n",
       "      <th></th>\n",
       "      <th>work_date</th>\n",
       "      <th>department</th>\n",
       "      <th>total_overtime</th>\n",
       "    </tr>\n",
       "  </thead>\n",
       "  <tbody>\n",
       "    <tr>\n",
       "      <th>317</th>\n",
       "      <td>2025-05-18</td>\n",
       "      <td>Sales</td>\n",
       "      <td>1.57</td>\n",
       "    </tr>\n",
       "    <tr>\n",
       "      <th>316</th>\n",
       "      <td>2025-05-18</td>\n",
       "      <td>Marketing</td>\n",
       "      <td>3.49</td>\n",
       "    </tr>\n",
       "    <tr>\n",
       "      <th>314</th>\n",
       "      <td>2025-05-18</td>\n",
       "      <td>Inventory</td>\n",
       "      <td>2.89</td>\n",
       "    </tr>\n",
       "    <tr>\n",
       "      <th>315</th>\n",
       "      <td>2025-05-18</td>\n",
       "      <td>IT</td>\n",
       "      <td>1.13</td>\n",
       "    </tr>\n",
       "    <tr>\n",
       "      <th>313</th>\n",
       "      <td>2025-05-18</td>\n",
       "      <td>HR</td>\n",
       "      <td>1.92</td>\n",
       "    </tr>\n",
       "    <tr>\n",
       "      <th>312</th>\n",
       "      <td>2025-05-18</td>\n",
       "      <td>Finance</td>\n",
       "      <td>1.60</td>\n",
       "    </tr>\n",
       "    <tr>\n",
       "      <th>311</th>\n",
       "      <td>2025-05-11</td>\n",
       "      <td>Sales</td>\n",
       "      <td>0.00</td>\n",
       "    </tr>\n",
       "    <tr>\n",
       "      <th>310</th>\n",
       "      <td>2025-05-11</td>\n",
       "      <td>Marketing</td>\n",
       "      <td>1.99</td>\n",
       "    </tr>\n",
       "    <tr>\n",
       "      <th>308</th>\n",
       "      <td>2025-05-11</td>\n",
       "      <td>Inventory</td>\n",
       "      <td>8.03</td>\n",
       "    </tr>\n",
       "    <tr>\n",
       "      <th>309</th>\n",
       "      <td>2025-05-11</td>\n",
       "      <td>IT</td>\n",
       "      <td>12.85</td>\n",
       "    </tr>\n",
       "    <tr>\n",
       "      <th>307</th>\n",
       "      <td>2025-05-11</td>\n",
       "      <td>HR</td>\n",
       "      <td>9.27</td>\n",
       "    </tr>\n",
       "    <tr>\n",
       "      <th>306</th>\n",
       "      <td>2025-05-11</td>\n",
       "      <td>Finance</td>\n",
       "      <td>12.54</td>\n",
       "    </tr>\n",
       "  </tbody>\n",
       "</table>\n",
       "</div>"
      ],
      "text/plain": [
       "     work_date department  total_overtime\n",
       "317 2025-05-18      Sales            1.57\n",
       "316 2025-05-18  Marketing            3.49\n",
       "314 2025-05-18  Inventory            2.89\n",
       "315 2025-05-18         IT            1.13\n",
       "313 2025-05-18         HR            1.92\n",
       "312 2025-05-18    Finance            1.60\n",
       "311 2025-05-11      Sales            0.00\n",
       "310 2025-05-11  Marketing            1.99\n",
       "308 2025-05-11  Inventory            8.03\n",
       "309 2025-05-11         IT           12.85\n",
       "307 2025-05-11         HR            9.27\n",
       "306 2025-05-11    Finance           12.54"
      ]
     },
     "metadata": {},
     "output_type": "display_data"
    }
   ],
   "source": [
    "\n",
    "def load_historical_data():\n",
    "    conn = get_db_connection()\n",
    "    query = \"SELECT work_date, department, total_overtime FROM vw_historical_data ORDER BY work_date, department ASC\"\n",
    "    \n",
    "    try:\n",
    "        df = pd.read_sql(query, conn)\n",
    "        print(\"Raw data record count:\", len(df))\n",
    "        print(\"Unique departments:\", df['department'].unique())\n",
    "        print(\"Null departments:\", df['department'].isna().sum())\n",
    "        print(\"Unique work_date values:\", sorted(df['work_date'].unique()))\n",
    "        \n",
    "        # Convert work_date to datetime and strip time component\n",
    "        df['work_date'] = pd.to_datetime(df['work_date']).dt.date\n",
    "        df['work_date'] = pd.to_datetime(df['work_date'])\n",
    "        \n",
    "        print(\"Final record count:\", len(df))\n",
    "        print(\"Unique work_date and department combinations:\", \n",
    "              df[['work_date', 'department']].drop_duplicates().shape[0])\n",
    "        \n",
    "        logging.info(f\"Loaded data: {len(df)} records\")\n",
    "        return df\n",
    "    \n",
    "    finally:\n",
    "        conn.close()\n",
    "\n",
    "# Load and display data\n",
    "historical_data = load_historical_data()\n",
    "print(\"Muestra de datos históricos:\")\n",
    "display(historical_data.tail(12).sort_values(by=['work_date', 'department'], ascending=False))"
   ]
  },
  {
   "cell_type": "markdown",
   "id": "6d4c4139",
   "metadata": {},
   "source": [
    "### 3.1. Evaluación de Estacionaridad (Dickey-Fuller Test)"
   ]
  },
  {
   "cell_type": "code",
   "execution_count": 142,
   "id": "260cc5e2",
   "metadata": {},
   "outputs": [
    {
     "name": "stdout",
     "output_type": "stream",
     "text": [
      "\n",
      "Análisis de Estacionalidad para Finance\n",
      "Resultados de la prueba de Dickey-Fuller para columna: total_overtime\n",
      "Test Statistic                        -5.567976\n",
      "p-value                                0.000001\n",
      "No Lags Used                           0.000000\n",
      "Número de observaciones utilizadas    52.000000\n",
      "Critical Value (1%)                   -3.562879\n",
      "Critical Value (5%)                   -2.918973\n",
      "Critical Value (10%)                  -2.597393\n",
      "dtype: float64\n",
      "\n",
      "Conclusión:====>\n",
      "Rechazar la hipótesis nula\n",
      "Los datos son estacionarios, no requieren diferenciación\n",
      "\n",
      "Análisis de Estacionalidad para HR\n",
      "Resultados de la prueba de Dickey-Fuller para columna: total_overtime\n",
      "Test Statistic                        -4.898444\n",
      "p-value                                0.000035\n",
      "No Lags Used                           2.000000\n",
      "Número de observaciones utilizadas    50.000000\n",
      "Critical Value (1%)                   -3.568486\n",
      "Critical Value (5%)                   -2.921360\n",
      "Critical Value (10%)                  -2.598662\n",
      "dtype: float64\n",
      "\n",
      "Conclusión:====>\n",
      "Rechazar la hipótesis nula\n",
      "Los datos son estacionarios, no requieren diferenciación\n",
      "\n",
      "Análisis de Estacionalidad para Inventory\n",
      "Resultados de la prueba de Dickey-Fuller para columna: total_overtime\n",
      "Test Statistic                        -2.117701\n",
      "p-value                                0.237457\n",
      "No Lags Used                           9.000000\n",
      "Número de observaciones utilizadas    43.000000\n",
      "Critical Value (1%)                   -3.592504\n",
      "Critical Value (5%)                   -2.931550\n",
      "Critical Value (10%)                  -2.604066\n",
      "dtype: float64\n",
      "\n",
      "Conclusión:====>\n",
      "No se puede rechazar la hipótesis nula\n",
      "Los datos no son estacionarios, requieren diferenciación\n",
      "\n",
      "Análisis de Estacionalidad para IT\n",
      "Resultados de la prueba de Dickey-Fuller para columna: total_overtime\n",
      "Test Statistic                        -2.881014\n",
      "p-value                                0.047601\n",
      "No Lags Used                           3.000000\n",
      "Número de observaciones utilizadas    49.000000\n",
      "Critical Value (1%)                   -3.571472\n",
      "Critical Value (5%)                   -2.922629\n",
      "Critical Value (10%)                  -2.599336\n",
      "dtype: float64\n",
      "\n",
      "Conclusión:====>\n",
      "Rechazar la hipótesis nula\n",
      "Los datos son estacionarios, no requieren diferenciación\n",
      "\n",
      "Análisis de Estacionalidad para Marketing\n",
      "Resultados de la prueba de Dickey-Fuller para columna: total_overtime\n",
      "Test Statistic                       -6.174558e+00\n",
      "p-value                               6.679154e-08\n",
      "No Lags Used                          0.000000e+00\n",
      "Número de observaciones utilizadas    5.200000e+01\n",
      "Critical Value (1%)                  -3.562879e+00\n",
      "Critical Value (5%)                  -2.918973e+00\n",
      "Critical Value (10%)                 -2.597393e+00\n",
      "dtype: float64\n",
      "\n",
      "Conclusión:====>\n",
      "Rechazar la hipótesis nula\n",
      "Los datos son estacionarios, no requieren diferenciación\n",
      "\n",
      "Análisis de Estacionalidad para Sales\n",
      "Resultados de la prueba de Dickey-Fuller para columna: total_overtime\n",
      "Test Statistic                        -3.986926\n",
      "p-value                                0.001481\n",
      "No Lags Used                           3.000000\n",
      "Número de observaciones utilizadas    49.000000\n",
      "Critical Value (1%)                   -3.571472\n",
      "Critical Value (5%)                   -2.922629\n",
      "Critical Value (10%)                  -2.599336\n",
      "dtype: float64\n",
      "\n",
      "Conclusión:====>\n",
      "Rechazar la hipótesis nula\n",
      "Los datos son estacionarios, no requieren diferenciación\n",
      "\n",
      "Resumen de Estacionaridad por Departamento:\n"
     ]
    },
    {
     "data": {
      "application/vnd.microsoft.datawrangler.viewer.v0+json": {
       "columns": [
        {
         "name": "index",
         "rawType": "int64",
         "type": "integer"
        },
        {
         "name": "department",
         "rawType": "object",
         "type": "string"
        },
        {
         "name": "test_statistic",
         "rawType": "float64",
         "type": "float"
        },
        {
         "name": "p_value",
         "rawType": "float64",
         "type": "float"
        },
        {
         "name": "is_stationary",
         "rawType": "bool",
         "type": "boolean"
        }
       ],
       "ref": "af78532c-4814-480a-9f3a-e129c73dad19",
       "rows": [
        [
         "0",
         "Finance",
         "-5.56797564339243",
         "1.4896811107943754e-06",
         "True"
        ],
        [
         "1",
         "HR",
         "-4.898444096803655",
         "3.511837367335008e-05",
         "True"
        ],
        [
         "2",
         "Inventory",
         "-2.117700601396259",
         "0.23745692255859485",
         "False"
        ],
        [
         "3",
         "IT",
         "-2.8810136507688084",
         "0.0476008182115166",
         "True"
        ],
        [
         "4",
         "Marketing",
         "-6.17455803129052",
         "6.679154086192161e-08",
         "True"
        ],
        [
         "5",
         "Sales",
         "-3.9869259554415746",
         "0.0014805394572770805",
         "True"
        ]
       ],
       "shape": {
        "columns": 4,
        "rows": 6
       }
      },
      "text/html": [
       "<div>\n",
       "<style scoped>\n",
       "    .dataframe tbody tr th:only-of-type {\n",
       "        vertical-align: middle;\n",
       "    }\n",
       "\n",
       "    .dataframe tbody tr th {\n",
       "        vertical-align: top;\n",
       "    }\n",
       "\n",
       "    .dataframe thead th {\n",
       "        text-align: right;\n",
       "    }\n",
       "</style>\n",
       "<table border=\"1\" class=\"dataframe\">\n",
       "  <thead>\n",
       "    <tr style=\"text-align: right;\">\n",
       "      <th></th>\n",
       "      <th>department</th>\n",
       "      <th>test_statistic</th>\n",
       "      <th>p_value</th>\n",
       "      <th>is_stationary</th>\n",
       "    </tr>\n",
       "  </thead>\n",
       "  <tbody>\n",
       "    <tr>\n",
       "      <th>0</th>\n",
       "      <td>Finance</td>\n",
       "      <td>-5.567976</td>\n",
       "      <td>1.489681e-06</td>\n",
       "      <td>True</td>\n",
       "    </tr>\n",
       "    <tr>\n",
       "      <th>1</th>\n",
       "      <td>HR</td>\n",
       "      <td>-4.898444</td>\n",
       "      <td>3.511837e-05</td>\n",
       "      <td>True</td>\n",
       "    </tr>\n",
       "    <tr>\n",
       "      <th>2</th>\n",
       "      <td>Inventory</td>\n",
       "      <td>-2.117701</td>\n",
       "      <td>2.374569e-01</td>\n",
       "      <td>False</td>\n",
       "    </tr>\n",
       "    <tr>\n",
       "      <th>3</th>\n",
       "      <td>IT</td>\n",
       "      <td>-2.881014</td>\n",
       "      <td>4.760082e-02</td>\n",
       "      <td>True</td>\n",
       "    </tr>\n",
       "    <tr>\n",
       "      <th>4</th>\n",
       "      <td>Marketing</td>\n",
       "      <td>-6.174558</td>\n",
       "      <td>6.679154e-08</td>\n",
       "      <td>True</td>\n",
       "    </tr>\n",
       "    <tr>\n",
       "      <th>5</th>\n",
       "      <td>Sales</td>\n",
       "      <td>-3.986926</td>\n",
       "      <td>1.480539e-03</td>\n",
       "      <td>True</td>\n",
       "    </tr>\n",
       "  </tbody>\n",
       "</table>\n",
       "</div>"
      ],
      "text/plain": [
       "  department  test_statistic       p_value  is_stationary\n",
       "0    Finance       -5.567976  1.489681e-06           True\n",
       "1         HR       -4.898444  3.511837e-05           True\n",
       "2  Inventory       -2.117701  2.374569e-01          False\n",
       "3         IT       -2.881014  4.760082e-02           True\n",
       "4  Marketing       -6.174558  6.679154e-08           True\n",
       "5      Sales       -3.986926  1.480539e-03           True"
      ]
     },
     "metadata": {},
     "output_type": "display_data"
    },
    {
     "name": "stdout",
     "output_type": "stream",
     "text": [
      "\n",
      "Generando visualizaciones individuales...\n"
     ]
    },
    {
     "data": {
      "application/vnd.plotly.v1+json": {
       "config": {
        "plotlyServerURL": "https://plot.ly"
       },
       "data": [
        {
         "line": {
          "color": "blue"
         },
         "mode": "lines+markers",
         "name": "Histórico",
         "type": "scatter",
         "x": [
          "2024-05-19T00:00:00.000000000",
          "2024-05-26T00:00:00.000000000",
          "2024-06-02T00:00:00.000000000",
          "2024-06-09T00:00:00.000000000",
          "2024-06-16T00:00:00.000000000",
          "2024-06-23T00:00:00.000000000",
          "2024-06-30T00:00:00.000000000",
          "2024-07-07T00:00:00.000000000",
          "2024-07-14T00:00:00.000000000",
          "2024-07-21T00:00:00.000000000",
          "2024-07-28T00:00:00.000000000",
          "2024-08-04T00:00:00.000000000",
          "2024-08-11T00:00:00.000000000",
          "2024-08-18T00:00:00.000000000",
          "2024-08-25T00:00:00.000000000",
          "2024-09-01T00:00:00.000000000",
          "2024-09-08T00:00:00.000000000",
          "2024-09-15T00:00:00.000000000",
          "2024-09-22T00:00:00.000000000",
          "2024-09-29T00:00:00.000000000",
          "2024-10-06T00:00:00.000000000",
          "2024-10-13T00:00:00.000000000",
          "2024-10-20T00:00:00.000000000",
          "2024-10-27T00:00:00.000000000",
          "2024-11-03T00:00:00.000000000",
          "2024-11-10T00:00:00.000000000",
          "2024-11-17T00:00:00.000000000",
          "2024-11-24T00:00:00.000000000",
          "2024-12-01T00:00:00.000000000",
          "2024-12-08T00:00:00.000000000",
          "2024-12-15T00:00:00.000000000",
          "2024-12-22T00:00:00.000000000",
          "2024-12-29T00:00:00.000000000",
          "2025-01-05T00:00:00.000000000",
          "2025-01-12T00:00:00.000000000",
          "2025-01-19T00:00:00.000000000",
          "2025-01-26T00:00:00.000000000",
          "2025-02-02T00:00:00.000000000",
          "2025-02-09T00:00:00.000000000",
          "2025-02-16T00:00:00.000000000",
          "2025-02-23T00:00:00.000000000",
          "2025-03-02T00:00:00.000000000",
          "2025-03-09T00:00:00.000000000",
          "2025-03-16T00:00:00.000000000",
          "2025-03-23T00:00:00.000000000",
          "2025-03-30T00:00:00.000000000",
          "2025-04-06T00:00:00.000000000",
          "2025-04-13T00:00:00.000000000",
          "2025-04-20T00:00:00.000000000",
          "2025-04-27T00:00:00.000000000",
          "2025-05-04T00:00:00.000000000",
          "2025-05-11T00:00:00.000000000",
          "2025-05-18T00:00:00.000000000"
         ],
         "y": {
          "bdata": "CtejcD0K+z/hehSuR+EYQKRwPQrXoxFASOF6FK5H8T+4HoXrUTghQLgehetRuBtArkfhehSuE0ApXI/C9SgYQBSuR+F6FBtAH4XrUbgeJkCkcD0K16MOQK5H4XoUrg9AAAAAAAAAAAB7FK5H4XoEQAAAAAAAAAAAAAAAAAAAAADNzMzMzMzsP9ejcD0K1/M/cT0K16NwFkB7FK5H4XoTQOF6FK5H4RdAUrgehetRGUCF61G4HgUiQArXo3A9CiRApHA9CtejAEDNzMzMzMwVQMP1KFyPwglAcT0K16PwI0DsUbgehesiQFyPwvUoXA9ASOF6FK5HEEC4HoXrUbgIQOF6FK5H4RRAXI/C9ShcE0A9CtejcD0RQNejcD0KVylAMzMzMzMzF0DsUbgehesXQD0K16NwPRxAAAAAAAAAHEBxPQrXo/AiQFyPwvUoXCNA4XoUrkfh/j8K16NwPQoDQLgehetRuBpAzczMzMzMEECF61G4HgUgQGZmZmZmZhtAMzMzMzMzEEA9CtejcD0UQBSuR+F6FCBAFK5H4XoUKUCamZmZmZn5Pw==",
          "dtype": "f8"
         }
        },
        {
         "line": {
          "color": "red",
          "dash": "dash"
         },
         "mode": "lines",
         "name": "Tendencia",
         "type": "scatter",
         "x": [
          "2024-05-19T00:00:00.000000000",
          "2024-05-26T00:00:00.000000000",
          "2024-06-02T00:00:00.000000000",
          "2024-06-09T00:00:00.000000000",
          "2024-06-16T00:00:00.000000000",
          "2024-06-23T00:00:00.000000000",
          "2024-06-30T00:00:00.000000000",
          "2024-07-07T00:00:00.000000000",
          "2024-07-14T00:00:00.000000000",
          "2024-07-21T00:00:00.000000000",
          "2024-07-28T00:00:00.000000000",
          "2024-08-04T00:00:00.000000000",
          "2024-08-11T00:00:00.000000000",
          "2024-08-18T00:00:00.000000000",
          "2024-08-25T00:00:00.000000000",
          "2024-09-01T00:00:00.000000000",
          "2024-09-08T00:00:00.000000000",
          "2024-09-15T00:00:00.000000000",
          "2024-09-22T00:00:00.000000000",
          "2024-09-29T00:00:00.000000000",
          "2024-10-06T00:00:00.000000000",
          "2024-10-13T00:00:00.000000000",
          "2024-10-20T00:00:00.000000000",
          "2024-10-27T00:00:00.000000000",
          "2024-11-03T00:00:00.000000000",
          "2024-11-10T00:00:00.000000000",
          "2024-11-17T00:00:00.000000000",
          "2024-11-24T00:00:00.000000000",
          "2024-12-01T00:00:00.000000000",
          "2024-12-08T00:00:00.000000000",
          "2024-12-15T00:00:00.000000000",
          "2024-12-22T00:00:00.000000000",
          "2024-12-29T00:00:00.000000000",
          "2025-01-05T00:00:00.000000000",
          "2025-01-12T00:00:00.000000000",
          "2025-01-19T00:00:00.000000000",
          "2025-01-26T00:00:00.000000000",
          "2025-02-02T00:00:00.000000000",
          "2025-02-09T00:00:00.000000000",
          "2025-02-16T00:00:00.000000000",
          "2025-02-23T00:00:00.000000000",
          "2025-03-02T00:00:00.000000000",
          "2025-03-09T00:00:00.000000000",
          "2025-03-16T00:00:00.000000000",
          "2025-03-23T00:00:00.000000000",
          "2025-03-30T00:00:00.000000000",
          "2025-04-06T00:00:00.000000000",
          "2025-04-13T00:00:00.000000000",
          "2025-04-20T00:00:00.000000000",
          "2025-04-27T00:00:00.000000000",
          "2025-05-04T00:00:00.000000000",
          "2025-05-11T00:00:00.000000000",
          "2025-05-18T00:00:00.000000000"
         ],
         "y": {
          "bdata": "JHyFXlmJEEAf+ZL2i7sQQBl2oI6+7RBAFPOtJvEfEUAOcLu+I1IRQAntyFZWhBFABGrW7oi2EUD+5uOGu+gRQPlj8R7uGhJA8+D+tiBNEkDuXQxPU38SQOjaGeeFsRJA41cnf7jjEkDe1DQX6xUTQNhRQq8dSBNA085PR1B6E0DNS13fgqwTQMjIane13hNAwkV4D+gQFEC9woWnGkMUQLg/kz9NdRRAsryg13+nFECtOa5vstkUQKi2uwflCxVAojPJnxc+FUCdsNY3SnAVQJct5M98ohVAkqrxZ6/UFUCMJ///4QYWQIekDJgUORZAgiEaMEdrFkB8nifIeZ0WQHcbNWCszxZAcZhC+N4BF0BsFVCQETQXQGaSXShEZhdAYQ9rwHaYF0BcjHhYqcoXQFYJhvDb/BdAUYaTiA4vGEBMA6EgQWEYQEaArrhzkxhAQP27UKbFGEA7esno2PcYQDb31oALKhlAMHTkGD5cGUAr8fGwcI4ZQCZu/0ijwBlAIOsM4dXyGUAaaBp5CCUaQBblJxE7VxpAEGI1qW2JGkAK30JBoLsaQA==",
          "dtype": "f8"
         }
        }
       ],
       "layout": {
        "height": 400,
        "legend": {
         "orientation": "h",
         "x": 0.5,
         "xanchor": "center",
         "y": -0.4,
         "yanchor": "bottom"
        },
        "showlegend": true,
        "template": {
         "data": {
          "bar": [
           {
            "error_x": {
             "color": "#2a3f5f"
            },
            "error_y": {
             "color": "#2a3f5f"
            },
            "marker": {
             "line": {
              "color": "white",
              "width": 0.5
             },
             "pattern": {
              "fillmode": "overlay",
              "size": 10,
              "solidity": 0.2
             }
            },
            "type": "bar"
           }
          ],
          "barpolar": [
           {
            "marker": {
             "line": {
              "color": "white",
              "width": 0.5
             },
             "pattern": {
              "fillmode": "overlay",
              "size": 10,
              "solidity": 0.2
             }
            },
            "type": "barpolar"
           }
          ],
          "carpet": [
           {
            "aaxis": {
             "endlinecolor": "#2a3f5f",
             "gridcolor": "#C8D4E3",
             "linecolor": "#C8D4E3",
             "minorgridcolor": "#C8D4E3",
             "startlinecolor": "#2a3f5f"
            },
            "baxis": {
             "endlinecolor": "#2a3f5f",
             "gridcolor": "#C8D4E3",
             "linecolor": "#C8D4E3",
             "minorgridcolor": "#C8D4E3",
             "startlinecolor": "#2a3f5f"
            },
            "type": "carpet"
           }
          ],
          "choropleth": [
           {
            "colorbar": {
             "outlinewidth": 0,
             "ticks": ""
            },
            "type": "choropleth"
           }
          ],
          "contour": [
           {
            "colorbar": {
             "outlinewidth": 0,
             "ticks": ""
            },
            "colorscale": [
             [
              0,
              "#0d0887"
             ],
             [
              0.1111111111111111,
              "#46039f"
             ],
             [
              0.2222222222222222,
              "#7201a8"
             ],
             [
              0.3333333333333333,
              "#9c179e"
             ],
             [
              0.4444444444444444,
              "#bd3786"
             ],
             [
              0.5555555555555556,
              "#d8576b"
             ],
             [
              0.6666666666666666,
              "#ed7953"
             ],
             [
              0.7777777777777778,
              "#fb9f3a"
             ],
             [
              0.8888888888888888,
              "#fdca26"
             ],
             [
              1,
              "#f0f921"
             ]
            ],
            "type": "contour"
           }
          ],
          "contourcarpet": [
           {
            "colorbar": {
             "outlinewidth": 0,
             "ticks": ""
            },
            "type": "contourcarpet"
           }
          ],
          "heatmap": [
           {
            "colorbar": {
             "outlinewidth": 0,
             "ticks": ""
            },
            "colorscale": [
             [
              0,
              "#0d0887"
             ],
             [
              0.1111111111111111,
              "#46039f"
             ],
             [
              0.2222222222222222,
              "#7201a8"
             ],
             [
              0.3333333333333333,
              "#9c179e"
             ],
             [
              0.4444444444444444,
              "#bd3786"
             ],
             [
              0.5555555555555556,
              "#d8576b"
             ],
             [
              0.6666666666666666,
              "#ed7953"
             ],
             [
              0.7777777777777778,
              "#fb9f3a"
             ],
             [
              0.8888888888888888,
              "#fdca26"
             ],
             [
              1,
              "#f0f921"
             ]
            ],
            "type": "heatmap"
           }
          ],
          "histogram": [
           {
            "marker": {
             "pattern": {
              "fillmode": "overlay",
              "size": 10,
              "solidity": 0.2
             }
            },
            "type": "histogram"
           }
          ],
          "histogram2d": [
           {
            "colorbar": {
             "outlinewidth": 0,
             "ticks": ""
            },
            "colorscale": [
             [
              0,
              "#0d0887"
             ],
             [
              0.1111111111111111,
              "#46039f"
             ],
             [
              0.2222222222222222,
              "#7201a8"
             ],
             [
              0.3333333333333333,
              "#9c179e"
             ],
             [
              0.4444444444444444,
              "#bd3786"
             ],
             [
              0.5555555555555556,
              "#d8576b"
             ],
             [
              0.6666666666666666,
              "#ed7953"
             ],
             [
              0.7777777777777778,
              "#fb9f3a"
             ],
             [
              0.8888888888888888,
              "#fdca26"
             ],
             [
              1,
              "#f0f921"
             ]
            ],
            "type": "histogram2d"
           }
          ],
          "histogram2dcontour": [
           {
            "colorbar": {
             "outlinewidth": 0,
             "ticks": ""
            },
            "colorscale": [
             [
              0,
              "#0d0887"
             ],
             [
              0.1111111111111111,
              "#46039f"
             ],
             [
              0.2222222222222222,
              "#7201a8"
             ],
             [
              0.3333333333333333,
              "#9c179e"
             ],
             [
              0.4444444444444444,
              "#bd3786"
             ],
             [
              0.5555555555555556,
              "#d8576b"
             ],
             [
              0.6666666666666666,
              "#ed7953"
             ],
             [
              0.7777777777777778,
              "#fb9f3a"
             ],
             [
              0.8888888888888888,
              "#fdca26"
             ],
             [
              1,
              "#f0f921"
             ]
            ],
            "type": "histogram2dcontour"
           }
          ],
          "mesh3d": [
           {
            "colorbar": {
             "outlinewidth": 0,
             "ticks": ""
            },
            "type": "mesh3d"
           }
          ],
          "parcoords": [
           {
            "line": {
             "colorbar": {
              "outlinewidth": 0,
              "ticks": ""
             }
            },
            "type": "parcoords"
           }
          ],
          "pie": [
           {
            "automargin": true,
            "type": "pie"
           }
          ],
          "scatter": [
           {
            "fillpattern": {
             "fillmode": "overlay",
             "size": 10,
             "solidity": 0.2
            },
            "type": "scatter"
           }
          ],
          "scatter3d": [
           {
            "line": {
             "colorbar": {
              "outlinewidth": 0,
              "ticks": ""
             }
            },
            "marker": {
             "colorbar": {
              "outlinewidth": 0,
              "ticks": ""
             }
            },
            "type": "scatter3d"
           }
          ],
          "scattercarpet": [
           {
            "marker": {
             "colorbar": {
              "outlinewidth": 0,
              "ticks": ""
             }
            },
            "type": "scattercarpet"
           }
          ],
          "scattergeo": [
           {
            "marker": {
             "colorbar": {
              "outlinewidth": 0,
              "ticks": ""
             }
            },
            "type": "scattergeo"
           }
          ],
          "scattergl": [
           {
            "marker": {
             "colorbar": {
              "outlinewidth": 0,
              "ticks": ""
             }
            },
            "type": "scattergl"
           }
          ],
          "scattermap": [
           {
            "marker": {
             "colorbar": {
              "outlinewidth": 0,
              "ticks": ""
             }
            },
            "type": "scattermap"
           }
          ],
          "scattermapbox": [
           {
            "marker": {
             "colorbar": {
              "outlinewidth": 0,
              "ticks": ""
             }
            },
            "type": "scattermapbox"
           }
          ],
          "scatterpolar": [
           {
            "marker": {
             "colorbar": {
              "outlinewidth": 0,
              "ticks": ""
             }
            },
            "type": "scatterpolar"
           }
          ],
          "scatterpolargl": [
           {
            "marker": {
             "colorbar": {
              "outlinewidth": 0,
              "ticks": ""
             }
            },
            "type": "scatterpolargl"
           }
          ],
          "scatterternary": [
           {
            "marker": {
             "colorbar": {
              "outlinewidth": 0,
              "ticks": ""
             }
            },
            "type": "scatterternary"
           }
          ],
          "surface": [
           {
            "colorbar": {
             "outlinewidth": 0,
             "ticks": ""
            },
            "colorscale": [
             [
              0,
              "#0d0887"
             ],
             [
              0.1111111111111111,
              "#46039f"
             ],
             [
              0.2222222222222222,
              "#7201a8"
             ],
             [
              0.3333333333333333,
              "#9c179e"
             ],
             [
              0.4444444444444444,
              "#bd3786"
             ],
             [
              0.5555555555555556,
              "#d8576b"
             ],
             [
              0.6666666666666666,
              "#ed7953"
             ],
             [
              0.7777777777777778,
              "#fb9f3a"
             ],
             [
              0.8888888888888888,
              "#fdca26"
             ],
             [
              1,
              "#f0f921"
             ]
            ],
            "type": "surface"
           }
          ],
          "table": [
           {
            "cells": {
             "fill": {
              "color": "#EBF0F8"
             },
             "line": {
              "color": "white"
             }
            },
            "header": {
             "fill": {
              "color": "#C8D4E3"
             },
             "line": {
              "color": "white"
             }
            },
            "type": "table"
           }
          ]
         },
         "layout": {
          "annotationdefaults": {
           "arrowcolor": "#2a3f5f",
           "arrowhead": 0,
           "arrowwidth": 1
          },
          "autotypenumbers": "strict",
          "coloraxis": {
           "colorbar": {
            "outlinewidth": 0,
            "ticks": ""
           }
          },
          "colorscale": {
           "diverging": [
            [
             0,
             "#8e0152"
            ],
            [
             0.1,
             "#c51b7d"
            ],
            [
             0.2,
             "#de77ae"
            ],
            [
             0.3,
             "#f1b6da"
            ],
            [
             0.4,
             "#fde0ef"
            ],
            [
             0.5,
             "#f7f7f7"
            ],
            [
             0.6,
             "#e6f5d0"
            ],
            [
             0.7,
             "#b8e186"
            ],
            [
             0.8,
             "#7fbc41"
            ],
            [
             0.9,
             "#4d9221"
            ],
            [
             1,
             "#276419"
            ]
           ],
           "sequential": [
            [
             0,
             "#0d0887"
            ],
            [
             0.1111111111111111,
             "#46039f"
            ],
            [
             0.2222222222222222,
             "#7201a8"
            ],
            [
             0.3333333333333333,
             "#9c179e"
            ],
            [
             0.4444444444444444,
             "#bd3786"
            ],
            [
             0.5555555555555556,
             "#d8576b"
            ],
            [
             0.6666666666666666,
             "#ed7953"
            ],
            [
             0.7777777777777778,
             "#fb9f3a"
            ],
            [
             0.8888888888888888,
             "#fdca26"
            ],
            [
             1,
             "#f0f921"
            ]
           ],
           "sequentialminus": [
            [
             0,
             "#0d0887"
            ],
            [
             0.1111111111111111,
             "#46039f"
            ],
            [
             0.2222222222222222,
             "#7201a8"
            ],
            [
             0.3333333333333333,
             "#9c179e"
            ],
            [
             0.4444444444444444,
             "#bd3786"
            ],
            [
             0.5555555555555556,
             "#d8576b"
            ],
            [
             0.6666666666666666,
             "#ed7953"
            ],
            [
             0.7777777777777778,
             "#fb9f3a"
            ],
            [
             0.8888888888888888,
             "#fdca26"
            ],
            [
             1,
             "#f0f921"
            ]
           ]
          },
          "colorway": [
           "#636efa",
           "#EF553B",
           "#00cc96",
           "#ab63fa",
           "#FFA15A",
           "#19d3f3",
           "#FF6692",
           "#B6E880",
           "#FF97FF",
           "#FECB52"
          ],
          "font": {
           "color": "#2a3f5f"
          },
          "geo": {
           "bgcolor": "white",
           "lakecolor": "white",
           "landcolor": "white",
           "showlakes": true,
           "showland": true,
           "subunitcolor": "#C8D4E3"
          },
          "hoverlabel": {
           "align": "left"
          },
          "hovermode": "closest",
          "mapbox": {
           "style": "light"
          },
          "paper_bgcolor": "white",
          "plot_bgcolor": "white",
          "polar": {
           "angularaxis": {
            "gridcolor": "#EBF0F8",
            "linecolor": "#EBF0F8",
            "ticks": ""
           },
           "bgcolor": "white",
           "radialaxis": {
            "gridcolor": "#EBF0F8",
            "linecolor": "#EBF0F8",
            "ticks": ""
           }
          },
          "scene": {
           "xaxis": {
            "backgroundcolor": "white",
            "gridcolor": "#DFE8F3",
            "gridwidth": 2,
            "linecolor": "#EBF0F8",
            "showbackground": true,
            "ticks": "",
            "zerolinecolor": "#EBF0F8"
           },
           "yaxis": {
            "backgroundcolor": "white",
            "gridcolor": "#DFE8F3",
            "gridwidth": 2,
            "linecolor": "#EBF0F8",
            "showbackground": true,
            "ticks": "",
            "zerolinecolor": "#EBF0F8"
           },
           "zaxis": {
            "backgroundcolor": "white",
            "gridcolor": "#DFE8F3",
            "gridwidth": 2,
            "linecolor": "#EBF0F8",
            "showbackground": true,
            "ticks": "",
            "zerolinecolor": "#EBF0F8"
           }
          },
          "shapedefaults": {
           "line": {
            "color": "#2a3f5f"
           }
          },
          "ternary": {
           "aaxis": {
            "gridcolor": "#DFE8F3",
            "linecolor": "#A2B1C6",
            "ticks": ""
           },
           "baxis": {
            "gridcolor": "#DFE8F3",
            "linecolor": "#A2B1C6",
            "ticks": ""
           },
           "bgcolor": "white",
           "caxis": {
            "gridcolor": "#DFE8F3",
            "linecolor": "#A2B1C6",
            "ticks": ""
           }
          },
          "title": {
           "x": 0.05
          },
          "xaxis": {
           "automargin": true,
           "gridcolor": "#EBF0F8",
           "linecolor": "#EBF0F8",
           "ticks": "",
           "title": {
            "standoff": 15
           },
           "zerolinecolor": "#EBF0F8",
           "zerolinewidth": 2
          },
          "yaxis": {
           "automargin": true,
           "gridcolor": "#EBF0F8",
           "linecolor": "#EBF0F8",
           "ticks": "",
           "title": {
            "standoff": 15
           },
           "zerolinecolor": "#EBF0F8",
           "zerolinewidth": 2
          }
         }
        },
        "title": {
         "text": "Tendencia de Horas Extra - Finance"
        },
        "xaxis": {
         "title": {
          "text": "Fecha"
         }
        },
        "yaxis": {
         "title": {
          "text": "Horas Extra"
         }
        }
       }
      }
     },
     "metadata": {},
     "output_type": "display_data"
    },
    {
     "name": "stdout",
     "output_type": "stream",
     "text": [
      "Visualización completada para Finance\n"
     ]
    },
    {
     "data": {
      "application/vnd.plotly.v1+json": {
       "config": {
        "plotlyServerURL": "https://plot.ly"
       },
       "data": [
        {
         "line": {
          "color": "blue"
         },
         "mode": "lines+markers",
         "name": "Histórico",
         "type": "scatter",
         "x": [
          "2024-05-19T00:00:00.000000000",
          "2024-05-26T00:00:00.000000000",
          "2024-06-02T00:00:00.000000000",
          "2024-06-09T00:00:00.000000000",
          "2024-06-16T00:00:00.000000000",
          "2024-06-23T00:00:00.000000000",
          "2024-06-30T00:00:00.000000000",
          "2024-07-07T00:00:00.000000000",
          "2024-07-14T00:00:00.000000000",
          "2024-07-21T00:00:00.000000000",
          "2024-07-28T00:00:00.000000000",
          "2024-08-04T00:00:00.000000000",
          "2024-08-11T00:00:00.000000000",
          "2024-08-18T00:00:00.000000000",
          "2024-08-25T00:00:00.000000000",
          "2024-09-01T00:00:00.000000000",
          "2024-09-08T00:00:00.000000000",
          "2024-09-15T00:00:00.000000000",
          "2024-09-22T00:00:00.000000000",
          "2024-09-29T00:00:00.000000000",
          "2024-10-06T00:00:00.000000000",
          "2024-10-13T00:00:00.000000000",
          "2024-10-20T00:00:00.000000000",
          "2024-10-27T00:00:00.000000000",
          "2024-11-03T00:00:00.000000000",
          "2024-11-10T00:00:00.000000000",
          "2024-11-17T00:00:00.000000000",
          "2024-11-24T00:00:00.000000000",
          "2024-12-01T00:00:00.000000000",
          "2024-12-08T00:00:00.000000000",
          "2024-12-15T00:00:00.000000000",
          "2024-12-22T00:00:00.000000000",
          "2024-12-29T00:00:00.000000000",
          "2025-01-05T00:00:00.000000000",
          "2025-01-12T00:00:00.000000000",
          "2025-01-19T00:00:00.000000000",
          "2025-01-26T00:00:00.000000000",
          "2025-02-02T00:00:00.000000000",
          "2025-02-09T00:00:00.000000000",
          "2025-02-16T00:00:00.000000000",
          "2025-02-23T00:00:00.000000000",
          "2025-03-02T00:00:00.000000000",
          "2025-03-09T00:00:00.000000000",
          "2025-03-16T00:00:00.000000000",
          "2025-03-23T00:00:00.000000000",
          "2025-03-30T00:00:00.000000000",
          "2025-04-06T00:00:00.000000000",
          "2025-04-13T00:00:00.000000000",
          "2025-04-20T00:00:00.000000000",
          "2025-04-27T00:00:00.000000000",
          "2025-05-04T00:00:00.000000000",
          "2025-05-11T00:00:00.000000000",
          "2025-05-18T00:00:00.000000000"
         ],
         "y": {
          "bdata": "rkfhehSuIUCuR+F6FK77PwAAAAAAAAAAw/UoXI/C5T8AAAAAAAAAAJqZmZmZmRNA7FG4HoXrwT8fhetRuB4SQDMzMzMzMxlAH4XrUbgeHUAAAAAAAAAAAFyPwvUoXBJAPQrXo3A9LkAAAAAAAAAAABSuR+F6lChA4XoUrkfh2j9SuB6F69EkQMP1KFyPwhxA16NwPQpXI0D2KFyPwvUEQI/C9ShcjxVAFK5H4XoUGkCuR+F6FK4PQMP1KFyPQjBA16NwPQrXG0AAAAAAAAAAAClcj8L1KPg/FK5H4XqUIECkcD0K12MwQGZmZmZmZgxAKVyPwvUo+D+kcD0K16MaQLgehetRuC9AXI/C9ShcI0BxPQrXo3AZQKRwPQrXowZAmpmZmZkZJUAAAAAAAAD4P3E9CtejcBtAXI/C9SjcI0DsUbgehesjQM3MzMzMzBpAw/UoXI/CE0D2KFyPwvUXQOF6FK5H4ShACtejcD0KFEBI4XoUrkcfQMP1KFyPwiNAXI/C9ShcHUAUrkfhehQnQJqZmZmZmQFACtejcD2KIkC4HoXrUbj+Pw==",
          "dtype": "f8"
         }
        },
        {
         "line": {
          "color": "red",
          "dash": "dash"
         },
         "mode": "lines",
         "name": "Tendencia",
         "type": "scatter",
         "x": [
          "2024-05-19T00:00:00.000000000",
          "2024-05-26T00:00:00.000000000",
          "2024-06-02T00:00:00.000000000",
          "2024-06-09T00:00:00.000000000",
          "2024-06-16T00:00:00.000000000",
          "2024-06-23T00:00:00.000000000",
          "2024-06-30T00:00:00.000000000",
          "2024-07-07T00:00:00.000000000",
          "2024-07-14T00:00:00.000000000",
          "2024-07-21T00:00:00.000000000",
          "2024-07-28T00:00:00.000000000",
          "2024-08-04T00:00:00.000000000",
          "2024-08-11T00:00:00.000000000",
          "2024-08-18T00:00:00.000000000",
          "2024-08-25T00:00:00.000000000",
          "2024-09-01T00:00:00.000000000",
          "2024-09-08T00:00:00.000000000",
          "2024-09-15T00:00:00.000000000",
          "2024-09-22T00:00:00.000000000",
          "2024-09-29T00:00:00.000000000",
          "2024-10-06T00:00:00.000000000",
          "2024-10-13T00:00:00.000000000",
          "2024-10-20T00:00:00.000000000",
          "2024-10-27T00:00:00.000000000",
          "2024-11-03T00:00:00.000000000",
          "2024-11-10T00:00:00.000000000",
          "2024-11-17T00:00:00.000000000",
          "2024-11-24T00:00:00.000000000",
          "2024-12-01T00:00:00.000000000",
          "2024-12-08T00:00:00.000000000",
          "2024-12-15T00:00:00.000000000",
          "2024-12-22T00:00:00.000000000",
          "2024-12-29T00:00:00.000000000",
          "2025-01-05T00:00:00.000000000",
          "2025-01-12T00:00:00.000000000",
          "2025-01-19T00:00:00.000000000",
          "2025-01-26T00:00:00.000000000",
          "2025-02-02T00:00:00.000000000",
          "2025-02-09T00:00:00.000000000",
          "2025-02-16T00:00:00.000000000",
          "2025-02-23T00:00:00.000000000",
          "2025-03-02T00:00:00.000000000",
          "2025-03-09T00:00:00.000000000",
          "2025-03-16T00:00:00.000000000",
          "2025-03-23T00:00:00.000000000",
          "2025-03-30T00:00:00.000000000",
          "2025-04-06T00:00:00.000000000",
          "2025-04-13T00:00:00.000000000",
          "2025-04-20T00:00:00.000000000",
          "2025-04-27T00:00:00.000000000",
          "2025-05-04T00:00:00.000000000",
          "2025-05-11T00:00:00.000000000",
          "2025-05-18T00:00:00.000000000"
         ],
         "y": {
          "bdata": "pw7Bo2TwEEDUjzETiUARQAERooKtkBFALZIS8tHgEUBaE4Nh9jASQIeU89AagRJAtBVkQD/REkDgltSvYyETQA0YRR+IcRNAOpm1jqzBE0BnGib+0BEUQJOblm31YRRAwBwH3RmyFEDtnXdMPgIVQBof6LtiUhVARqBYK4eiFUBzIcmaq/IVQKCiOQrQQhZAzSOqefSSFkD6pBrpGOMWQCYmi1g9MxdAU6f7x2GDF0CAKGw3htMXQKyp3KaqIxhA2ipNFs9zGEAGrL2F88MYQDMtLvUXFBlAYK6eZDxkGUCMLw/UYLQZQLmwf0OFBBpA5jHwsqlUGkASs2AizqQaQEA00ZHy9BpAbLVBARdFG0CZNrJwO5UbQMa3IuBf5RtA8jiTT4Q1HEAgugO/qIUcQEw7dC7N1RxAebzknfElHUCmPVUNFnYdQNK+xXw6xh1A/z827F4WHkAswaZbg2YeQFhCF8unth5AhsOHOswGH0CyRPip8FYfQN/FaBkVpx9ADEfZiDn3H0Ac5CT8riMgQLMk3TPBSyBASWWVa9NzIEDgpU2j5ZsgQA==",
          "dtype": "f8"
         }
        }
       ],
       "layout": {
        "height": 400,
        "legend": {
         "orientation": "h",
         "x": 0.5,
         "xanchor": "center",
         "y": -0.4,
         "yanchor": "bottom"
        },
        "showlegend": true,
        "template": {
         "data": {
          "bar": [
           {
            "error_x": {
             "color": "#2a3f5f"
            },
            "error_y": {
             "color": "#2a3f5f"
            },
            "marker": {
             "line": {
              "color": "white",
              "width": 0.5
             },
             "pattern": {
              "fillmode": "overlay",
              "size": 10,
              "solidity": 0.2
             }
            },
            "type": "bar"
           }
          ],
          "barpolar": [
           {
            "marker": {
             "line": {
              "color": "white",
              "width": 0.5
             },
             "pattern": {
              "fillmode": "overlay",
              "size": 10,
              "solidity": 0.2
             }
            },
            "type": "barpolar"
           }
          ],
          "carpet": [
           {
            "aaxis": {
             "endlinecolor": "#2a3f5f",
             "gridcolor": "#C8D4E3",
             "linecolor": "#C8D4E3",
             "minorgridcolor": "#C8D4E3",
             "startlinecolor": "#2a3f5f"
            },
            "baxis": {
             "endlinecolor": "#2a3f5f",
             "gridcolor": "#C8D4E3",
             "linecolor": "#C8D4E3",
             "minorgridcolor": "#C8D4E3",
             "startlinecolor": "#2a3f5f"
            },
            "type": "carpet"
           }
          ],
          "choropleth": [
           {
            "colorbar": {
             "outlinewidth": 0,
             "ticks": ""
            },
            "type": "choropleth"
           }
          ],
          "contour": [
           {
            "colorbar": {
             "outlinewidth": 0,
             "ticks": ""
            },
            "colorscale": [
             [
              0,
              "#0d0887"
             ],
             [
              0.1111111111111111,
              "#46039f"
             ],
             [
              0.2222222222222222,
              "#7201a8"
             ],
             [
              0.3333333333333333,
              "#9c179e"
             ],
             [
              0.4444444444444444,
              "#bd3786"
             ],
             [
              0.5555555555555556,
              "#d8576b"
             ],
             [
              0.6666666666666666,
              "#ed7953"
             ],
             [
              0.7777777777777778,
              "#fb9f3a"
             ],
             [
              0.8888888888888888,
              "#fdca26"
             ],
             [
              1,
              "#f0f921"
             ]
            ],
            "type": "contour"
           }
          ],
          "contourcarpet": [
           {
            "colorbar": {
             "outlinewidth": 0,
             "ticks": ""
            },
            "type": "contourcarpet"
           }
          ],
          "heatmap": [
           {
            "colorbar": {
             "outlinewidth": 0,
             "ticks": ""
            },
            "colorscale": [
             [
              0,
              "#0d0887"
             ],
             [
              0.1111111111111111,
              "#46039f"
             ],
             [
              0.2222222222222222,
              "#7201a8"
             ],
             [
              0.3333333333333333,
              "#9c179e"
             ],
             [
              0.4444444444444444,
              "#bd3786"
             ],
             [
              0.5555555555555556,
              "#d8576b"
             ],
             [
              0.6666666666666666,
              "#ed7953"
             ],
             [
              0.7777777777777778,
              "#fb9f3a"
             ],
             [
              0.8888888888888888,
              "#fdca26"
             ],
             [
              1,
              "#f0f921"
             ]
            ],
            "type": "heatmap"
           }
          ],
          "histogram": [
           {
            "marker": {
             "pattern": {
              "fillmode": "overlay",
              "size": 10,
              "solidity": 0.2
             }
            },
            "type": "histogram"
           }
          ],
          "histogram2d": [
           {
            "colorbar": {
             "outlinewidth": 0,
             "ticks": ""
            },
            "colorscale": [
             [
              0,
              "#0d0887"
             ],
             [
              0.1111111111111111,
              "#46039f"
             ],
             [
              0.2222222222222222,
              "#7201a8"
             ],
             [
              0.3333333333333333,
              "#9c179e"
             ],
             [
              0.4444444444444444,
              "#bd3786"
             ],
             [
              0.5555555555555556,
              "#d8576b"
             ],
             [
              0.6666666666666666,
              "#ed7953"
             ],
             [
              0.7777777777777778,
              "#fb9f3a"
             ],
             [
              0.8888888888888888,
              "#fdca26"
             ],
             [
              1,
              "#f0f921"
             ]
            ],
            "type": "histogram2d"
           }
          ],
          "histogram2dcontour": [
           {
            "colorbar": {
             "outlinewidth": 0,
             "ticks": ""
            },
            "colorscale": [
             [
              0,
              "#0d0887"
             ],
             [
              0.1111111111111111,
              "#46039f"
             ],
             [
              0.2222222222222222,
              "#7201a8"
             ],
             [
              0.3333333333333333,
              "#9c179e"
             ],
             [
              0.4444444444444444,
              "#bd3786"
             ],
             [
              0.5555555555555556,
              "#d8576b"
             ],
             [
              0.6666666666666666,
              "#ed7953"
             ],
             [
              0.7777777777777778,
              "#fb9f3a"
             ],
             [
              0.8888888888888888,
              "#fdca26"
             ],
             [
              1,
              "#f0f921"
             ]
            ],
            "type": "histogram2dcontour"
           }
          ],
          "mesh3d": [
           {
            "colorbar": {
             "outlinewidth": 0,
             "ticks": ""
            },
            "type": "mesh3d"
           }
          ],
          "parcoords": [
           {
            "line": {
             "colorbar": {
              "outlinewidth": 0,
              "ticks": ""
             }
            },
            "type": "parcoords"
           }
          ],
          "pie": [
           {
            "automargin": true,
            "type": "pie"
           }
          ],
          "scatter": [
           {
            "fillpattern": {
             "fillmode": "overlay",
             "size": 10,
             "solidity": 0.2
            },
            "type": "scatter"
           }
          ],
          "scatter3d": [
           {
            "line": {
             "colorbar": {
              "outlinewidth": 0,
              "ticks": ""
             }
            },
            "marker": {
             "colorbar": {
              "outlinewidth": 0,
              "ticks": ""
             }
            },
            "type": "scatter3d"
           }
          ],
          "scattercarpet": [
           {
            "marker": {
             "colorbar": {
              "outlinewidth": 0,
              "ticks": ""
             }
            },
            "type": "scattercarpet"
           }
          ],
          "scattergeo": [
           {
            "marker": {
             "colorbar": {
              "outlinewidth": 0,
              "ticks": ""
             }
            },
            "type": "scattergeo"
           }
          ],
          "scattergl": [
           {
            "marker": {
             "colorbar": {
              "outlinewidth": 0,
              "ticks": ""
             }
            },
            "type": "scattergl"
           }
          ],
          "scattermap": [
           {
            "marker": {
             "colorbar": {
              "outlinewidth": 0,
              "ticks": ""
             }
            },
            "type": "scattermap"
           }
          ],
          "scattermapbox": [
           {
            "marker": {
             "colorbar": {
              "outlinewidth": 0,
              "ticks": ""
             }
            },
            "type": "scattermapbox"
           }
          ],
          "scatterpolar": [
           {
            "marker": {
             "colorbar": {
              "outlinewidth": 0,
              "ticks": ""
             }
            },
            "type": "scatterpolar"
           }
          ],
          "scatterpolargl": [
           {
            "marker": {
             "colorbar": {
              "outlinewidth": 0,
              "ticks": ""
             }
            },
            "type": "scatterpolargl"
           }
          ],
          "scatterternary": [
           {
            "marker": {
             "colorbar": {
              "outlinewidth": 0,
              "ticks": ""
             }
            },
            "type": "scatterternary"
           }
          ],
          "surface": [
           {
            "colorbar": {
             "outlinewidth": 0,
             "ticks": ""
            },
            "colorscale": [
             [
              0,
              "#0d0887"
             ],
             [
              0.1111111111111111,
              "#46039f"
             ],
             [
              0.2222222222222222,
              "#7201a8"
             ],
             [
              0.3333333333333333,
              "#9c179e"
             ],
             [
              0.4444444444444444,
              "#bd3786"
             ],
             [
              0.5555555555555556,
              "#d8576b"
             ],
             [
              0.6666666666666666,
              "#ed7953"
             ],
             [
              0.7777777777777778,
              "#fb9f3a"
             ],
             [
              0.8888888888888888,
              "#fdca26"
             ],
             [
              1,
              "#f0f921"
             ]
            ],
            "type": "surface"
           }
          ],
          "table": [
           {
            "cells": {
             "fill": {
              "color": "#EBF0F8"
             },
             "line": {
              "color": "white"
             }
            },
            "header": {
             "fill": {
              "color": "#C8D4E3"
             },
             "line": {
              "color": "white"
             }
            },
            "type": "table"
           }
          ]
         },
         "layout": {
          "annotationdefaults": {
           "arrowcolor": "#2a3f5f",
           "arrowhead": 0,
           "arrowwidth": 1
          },
          "autotypenumbers": "strict",
          "coloraxis": {
           "colorbar": {
            "outlinewidth": 0,
            "ticks": ""
           }
          },
          "colorscale": {
           "diverging": [
            [
             0,
             "#8e0152"
            ],
            [
             0.1,
             "#c51b7d"
            ],
            [
             0.2,
             "#de77ae"
            ],
            [
             0.3,
             "#f1b6da"
            ],
            [
             0.4,
             "#fde0ef"
            ],
            [
             0.5,
             "#f7f7f7"
            ],
            [
             0.6,
             "#e6f5d0"
            ],
            [
             0.7,
             "#b8e186"
            ],
            [
             0.8,
             "#7fbc41"
            ],
            [
             0.9,
             "#4d9221"
            ],
            [
             1,
             "#276419"
            ]
           ],
           "sequential": [
            [
             0,
             "#0d0887"
            ],
            [
             0.1111111111111111,
             "#46039f"
            ],
            [
             0.2222222222222222,
             "#7201a8"
            ],
            [
             0.3333333333333333,
             "#9c179e"
            ],
            [
             0.4444444444444444,
             "#bd3786"
            ],
            [
             0.5555555555555556,
             "#d8576b"
            ],
            [
             0.6666666666666666,
             "#ed7953"
            ],
            [
             0.7777777777777778,
             "#fb9f3a"
            ],
            [
             0.8888888888888888,
             "#fdca26"
            ],
            [
             1,
             "#f0f921"
            ]
           ],
           "sequentialminus": [
            [
             0,
             "#0d0887"
            ],
            [
             0.1111111111111111,
             "#46039f"
            ],
            [
             0.2222222222222222,
             "#7201a8"
            ],
            [
             0.3333333333333333,
             "#9c179e"
            ],
            [
             0.4444444444444444,
             "#bd3786"
            ],
            [
             0.5555555555555556,
             "#d8576b"
            ],
            [
             0.6666666666666666,
             "#ed7953"
            ],
            [
             0.7777777777777778,
             "#fb9f3a"
            ],
            [
             0.8888888888888888,
             "#fdca26"
            ],
            [
             1,
             "#f0f921"
            ]
           ]
          },
          "colorway": [
           "#636efa",
           "#EF553B",
           "#00cc96",
           "#ab63fa",
           "#FFA15A",
           "#19d3f3",
           "#FF6692",
           "#B6E880",
           "#FF97FF",
           "#FECB52"
          ],
          "font": {
           "color": "#2a3f5f"
          },
          "geo": {
           "bgcolor": "white",
           "lakecolor": "white",
           "landcolor": "white",
           "showlakes": true,
           "showland": true,
           "subunitcolor": "#C8D4E3"
          },
          "hoverlabel": {
           "align": "left"
          },
          "hovermode": "closest",
          "mapbox": {
           "style": "light"
          },
          "paper_bgcolor": "white",
          "plot_bgcolor": "white",
          "polar": {
           "angularaxis": {
            "gridcolor": "#EBF0F8",
            "linecolor": "#EBF0F8",
            "ticks": ""
           },
           "bgcolor": "white",
           "radialaxis": {
            "gridcolor": "#EBF0F8",
            "linecolor": "#EBF0F8",
            "ticks": ""
           }
          },
          "scene": {
           "xaxis": {
            "backgroundcolor": "white",
            "gridcolor": "#DFE8F3",
            "gridwidth": 2,
            "linecolor": "#EBF0F8",
            "showbackground": true,
            "ticks": "",
            "zerolinecolor": "#EBF0F8"
           },
           "yaxis": {
            "backgroundcolor": "white",
            "gridcolor": "#DFE8F3",
            "gridwidth": 2,
            "linecolor": "#EBF0F8",
            "showbackground": true,
            "ticks": "",
            "zerolinecolor": "#EBF0F8"
           },
           "zaxis": {
            "backgroundcolor": "white",
            "gridcolor": "#DFE8F3",
            "gridwidth": 2,
            "linecolor": "#EBF0F8",
            "showbackground": true,
            "ticks": "",
            "zerolinecolor": "#EBF0F8"
           }
          },
          "shapedefaults": {
           "line": {
            "color": "#2a3f5f"
           }
          },
          "ternary": {
           "aaxis": {
            "gridcolor": "#DFE8F3",
            "linecolor": "#A2B1C6",
            "ticks": ""
           },
           "baxis": {
            "gridcolor": "#DFE8F3",
            "linecolor": "#A2B1C6",
            "ticks": ""
           },
           "bgcolor": "white",
           "caxis": {
            "gridcolor": "#DFE8F3",
            "linecolor": "#A2B1C6",
            "ticks": ""
           }
          },
          "title": {
           "x": 0.05
          },
          "xaxis": {
           "automargin": true,
           "gridcolor": "#EBF0F8",
           "linecolor": "#EBF0F8",
           "ticks": "",
           "title": {
            "standoff": 15
           },
           "zerolinecolor": "#EBF0F8",
           "zerolinewidth": 2
          },
          "yaxis": {
           "automargin": true,
           "gridcolor": "#EBF0F8",
           "linecolor": "#EBF0F8",
           "ticks": "",
           "title": {
            "standoff": 15
           },
           "zerolinecolor": "#EBF0F8",
           "zerolinewidth": 2
          }
         }
        },
        "title": {
         "text": "Tendencia de Horas Extra - HR"
        },
        "xaxis": {
         "title": {
          "text": "Fecha"
         }
        },
        "yaxis": {
         "title": {
          "text": "Horas Extra"
         }
        }
       }
      }
     },
     "metadata": {},
     "output_type": "display_data"
    },
    {
     "name": "stdout",
     "output_type": "stream",
     "text": [
      "Visualización completada para HR\n"
     ]
    },
    {
     "data": {
      "application/vnd.plotly.v1+json": {
       "config": {
        "plotlyServerURL": "https://plot.ly"
       },
       "data": [
        {
         "line": {
          "color": "blue"
         },
         "mode": "lines+markers",
         "name": "Histórico",
         "type": "scatter",
         "x": [
          "2024-05-19T00:00:00.000000000",
          "2024-05-26T00:00:00.000000000",
          "2024-06-02T00:00:00.000000000",
          "2024-06-09T00:00:00.000000000",
          "2024-06-16T00:00:00.000000000",
          "2024-06-23T00:00:00.000000000",
          "2024-06-30T00:00:00.000000000",
          "2024-07-07T00:00:00.000000000",
          "2024-07-14T00:00:00.000000000",
          "2024-07-21T00:00:00.000000000",
          "2024-07-28T00:00:00.000000000",
          "2024-08-04T00:00:00.000000000",
          "2024-08-11T00:00:00.000000000",
          "2024-08-18T00:00:00.000000000",
          "2024-08-25T00:00:00.000000000",
          "2024-09-01T00:00:00.000000000",
          "2024-09-08T00:00:00.000000000",
          "2024-09-15T00:00:00.000000000",
          "2024-09-22T00:00:00.000000000",
          "2024-09-29T00:00:00.000000000",
          "2024-10-06T00:00:00.000000000",
          "2024-10-13T00:00:00.000000000",
          "2024-10-20T00:00:00.000000000",
          "2024-10-27T00:00:00.000000000",
          "2024-11-03T00:00:00.000000000",
          "2024-11-10T00:00:00.000000000",
          "2024-11-17T00:00:00.000000000",
          "2024-11-24T00:00:00.000000000",
          "2024-12-01T00:00:00.000000000",
          "2024-12-08T00:00:00.000000000",
          "2024-12-15T00:00:00.000000000",
          "2024-12-22T00:00:00.000000000",
          "2024-12-29T00:00:00.000000000",
          "2025-01-05T00:00:00.000000000",
          "2025-01-12T00:00:00.000000000",
          "2025-01-19T00:00:00.000000000",
          "2025-01-26T00:00:00.000000000",
          "2025-02-02T00:00:00.000000000",
          "2025-02-09T00:00:00.000000000",
          "2025-02-16T00:00:00.000000000",
          "2025-02-23T00:00:00.000000000",
          "2025-03-02T00:00:00.000000000",
          "2025-03-09T00:00:00.000000000",
          "2025-03-16T00:00:00.000000000",
          "2025-03-23T00:00:00.000000000",
          "2025-03-30T00:00:00.000000000",
          "2025-04-06T00:00:00.000000000",
          "2025-04-13T00:00:00.000000000",
          "2025-04-20T00:00:00.000000000",
          "2025-04-27T00:00:00.000000000",
          "2025-05-04T00:00:00.000000000",
          "2025-05-11T00:00:00.000000000",
          "2025-05-18T00:00:00.000000000"
         ],
         "y": {
          "bdata": "H4XrUbgeHEBmZmZmZmb+P1yPwvUoXBBAexSuR+F6FUAK16NwPYojQB+F61G4Hg9AzczMzMzMG0AzMzMzMzPrP6RwPQrXo9A/j8L1KFyPDkCamZmZmRkjQEjhehSuRxBACtejcD0KFUAAAAAAAAAAAPYoXI/C9SBA16NwPQrXBUDhehSuR+EVQArXo3A9iiFAuB6F61G4GUDhehSuR+H+P83MzMzMzBRAMzMzMzMzIEBmZmZmZmYhQPYoXI/C9R5ArkfhehSuB0DXo3A9CtcLQAAAAAAAAAAAj8L1KFyPE0DNzMzMzMwaQHE9CtejcBlArkfhehSuFUAUrkfhehQeQK5H4XoUru8/w/UoXI/CFkDNzMzMzMwVQOxRuB6Fay1APQrXo3A9IkBSuB6F61EbQEjhehSuRxBAXI/C9ShcH0CF61G4HgUsQFyPwvUoXBJA16NwPQrXGkAAAAAAAIAmQM3MzMzMzBdA4XoUrkfhAEAAAAAAAAAAAPYoXI/C9RtArkfhehTuMUA9CtejcD0WQM3MzMzMzAZAj8L1KFwPIEAfhetRuB4HQA==",
          "dtype": "f8"
         }
        },
        {
         "line": {
          "color": "red",
          "dash": "dash"
         },
         "mode": "lines",
         "name": "Tendencia",
         "type": "scatter",
         "x": [
          "2024-05-19T00:00:00.000000000",
          "2024-05-26T00:00:00.000000000",
          "2024-06-02T00:00:00.000000000",
          "2024-06-09T00:00:00.000000000",
          "2024-06-16T00:00:00.000000000",
          "2024-06-23T00:00:00.000000000",
          "2024-06-30T00:00:00.000000000",
          "2024-07-07T00:00:00.000000000",
          "2024-07-14T00:00:00.000000000",
          "2024-07-21T00:00:00.000000000",
          "2024-07-28T00:00:00.000000000",
          "2024-08-04T00:00:00.000000000",
          "2024-08-11T00:00:00.000000000",
          "2024-08-18T00:00:00.000000000",
          "2024-08-25T00:00:00.000000000",
          "2024-09-01T00:00:00.000000000",
          "2024-09-08T00:00:00.000000000",
          "2024-09-15T00:00:00.000000000",
          "2024-09-22T00:00:00.000000000",
          "2024-09-29T00:00:00.000000000",
          "2024-10-06T00:00:00.000000000",
          "2024-10-13T00:00:00.000000000",
          "2024-10-20T00:00:00.000000000",
          "2024-10-27T00:00:00.000000000",
          "2024-11-03T00:00:00.000000000",
          "2024-11-10T00:00:00.000000000",
          "2024-11-17T00:00:00.000000000",
          "2024-11-24T00:00:00.000000000",
          "2024-12-01T00:00:00.000000000",
          "2024-12-08T00:00:00.000000000",
          "2024-12-15T00:00:00.000000000",
          "2024-12-22T00:00:00.000000000",
          "2024-12-29T00:00:00.000000000",
          "2025-01-05T00:00:00.000000000",
          "2025-01-12T00:00:00.000000000",
          "2025-01-19T00:00:00.000000000",
          "2025-01-26T00:00:00.000000000",
          "2025-02-02T00:00:00.000000000",
          "2025-02-09T00:00:00.000000000",
          "2025-02-16T00:00:00.000000000",
          "2025-02-23T00:00:00.000000000",
          "2025-03-02T00:00:00.000000000",
          "2025-03-09T00:00:00.000000000",
          "2025-03-16T00:00:00.000000000",
          "2025-03-23T00:00:00.000000000",
          "2025-03-30T00:00:00.000000000",
          "2025-04-06T00:00:00.000000000",
          "2025-04-13T00:00:00.000000000",
          "2025-04-20T00:00:00.000000000",
          "2025-04-27T00:00:00.000000000",
          "2025-05-04T00:00:00.000000000",
          "2025-05-11T00:00:00.000000000",
          "2025-05-18T00:00:00.000000000"
         ],
         "y": {
          "bdata": "MxRHjV/pEUBQS8nnVh0SQGyCS0JOURJAibnNnEWFEkCm8E/3PLkSQMIn0lE07RJA315UrCshE0D8ldYGI1UTQBjNWGEaiRNANQTbuxG9E0BSO10WCfETQG5y33AAJRRAi6lhy/dYFECo4OMl74wUQMQXZoDmwBRA4U7o2t30FED+hWo11SgVQBq97I/MXBVAN/Ru6sOQFUBUK/FEu8QVQHBic5+y+BVAjZn1+aksFkCq0HdUoWAWQMYH+q6YlBZA4z58CZDIFkAAdv5jh/wWQBytgL5+MBdAOeQCGXZkF0BWG4VzbZgXQHJSB85kzBdAj4mJKFwAGECswAuDUzQYQMj3jd1KaBhA5S4QOEKcGEACZpKSOdAYQB6dFO0wBBlAO9SWRyg4GUBYCxmiH2wZQHRCm/wWoBlAkXkdVw7UGUCusJ+xBQgaQMrnIQz9OxpA5x6kZvRvGkAEVibB66MaQCCNqBvj1xpAPcQqdtoLG0Ba+6zQ0T8bQHYyLyvJcxtAk2mxhcCnG0CwoDPgt9sbQMzXtTqvDxxA6g44laZDHEAGRrrvnXccQA==",
          "dtype": "f8"
         }
        }
       ],
       "layout": {
        "height": 400,
        "legend": {
         "orientation": "h",
         "x": 0.5,
         "xanchor": "center",
         "y": -0.4,
         "yanchor": "bottom"
        },
        "showlegend": true,
        "template": {
         "data": {
          "bar": [
           {
            "error_x": {
             "color": "#2a3f5f"
            },
            "error_y": {
             "color": "#2a3f5f"
            },
            "marker": {
             "line": {
              "color": "white",
              "width": 0.5
             },
             "pattern": {
              "fillmode": "overlay",
              "size": 10,
              "solidity": 0.2
             }
            },
            "type": "bar"
           }
          ],
          "barpolar": [
           {
            "marker": {
             "line": {
              "color": "white",
              "width": 0.5
             },
             "pattern": {
              "fillmode": "overlay",
              "size": 10,
              "solidity": 0.2
             }
            },
            "type": "barpolar"
           }
          ],
          "carpet": [
           {
            "aaxis": {
             "endlinecolor": "#2a3f5f",
             "gridcolor": "#C8D4E3",
             "linecolor": "#C8D4E3",
             "minorgridcolor": "#C8D4E3",
             "startlinecolor": "#2a3f5f"
            },
            "baxis": {
             "endlinecolor": "#2a3f5f",
             "gridcolor": "#C8D4E3",
             "linecolor": "#C8D4E3",
             "minorgridcolor": "#C8D4E3",
             "startlinecolor": "#2a3f5f"
            },
            "type": "carpet"
           }
          ],
          "choropleth": [
           {
            "colorbar": {
             "outlinewidth": 0,
             "ticks": ""
            },
            "type": "choropleth"
           }
          ],
          "contour": [
           {
            "colorbar": {
             "outlinewidth": 0,
             "ticks": ""
            },
            "colorscale": [
             [
              0,
              "#0d0887"
             ],
             [
              0.1111111111111111,
              "#46039f"
             ],
             [
              0.2222222222222222,
              "#7201a8"
             ],
             [
              0.3333333333333333,
              "#9c179e"
             ],
             [
              0.4444444444444444,
              "#bd3786"
             ],
             [
              0.5555555555555556,
              "#d8576b"
             ],
             [
              0.6666666666666666,
              "#ed7953"
             ],
             [
              0.7777777777777778,
              "#fb9f3a"
             ],
             [
              0.8888888888888888,
              "#fdca26"
             ],
             [
              1,
              "#f0f921"
             ]
            ],
            "type": "contour"
           }
          ],
          "contourcarpet": [
           {
            "colorbar": {
             "outlinewidth": 0,
             "ticks": ""
            },
            "type": "contourcarpet"
           }
          ],
          "heatmap": [
           {
            "colorbar": {
             "outlinewidth": 0,
             "ticks": ""
            },
            "colorscale": [
             [
              0,
              "#0d0887"
             ],
             [
              0.1111111111111111,
              "#46039f"
             ],
             [
              0.2222222222222222,
              "#7201a8"
             ],
             [
              0.3333333333333333,
              "#9c179e"
             ],
             [
              0.4444444444444444,
              "#bd3786"
             ],
             [
              0.5555555555555556,
              "#d8576b"
             ],
             [
              0.6666666666666666,
              "#ed7953"
             ],
             [
              0.7777777777777778,
              "#fb9f3a"
             ],
             [
              0.8888888888888888,
              "#fdca26"
             ],
             [
              1,
              "#f0f921"
             ]
            ],
            "type": "heatmap"
           }
          ],
          "histogram": [
           {
            "marker": {
             "pattern": {
              "fillmode": "overlay",
              "size": 10,
              "solidity": 0.2
             }
            },
            "type": "histogram"
           }
          ],
          "histogram2d": [
           {
            "colorbar": {
             "outlinewidth": 0,
             "ticks": ""
            },
            "colorscale": [
             [
              0,
              "#0d0887"
             ],
             [
              0.1111111111111111,
              "#46039f"
             ],
             [
              0.2222222222222222,
              "#7201a8"
             ],
             [
              0.3333333333333333,
              "#9c179e"
             ],
             [
              0.4444444444444444,
              "#bd3786"
             ],
             [
              0.5555555555555556,
              "#d8576b"
             ],
             [
              0.6666666666666666,
              "#ed7953"
             ],
             [
              0.7777777777777778,
              "#fb9f3a"
             ],
             [
              0.8888888888888888,
              "#fdca26"
             ],
             [
              1,
              "#f0f921"
             ]
            ],
            "type": "histogram2d"
           }
          ],
          "histogram2dcontour": [
           {
            "colorbar": {
             "outlinewidth": 0,
             "ticks": ""
            },
            "colorscale": [
             [
              0,
              "#0d0887"
             ],
             [
              0.1111111111111111,
              "#46039f"
             ],
             [
              0.2222222222222222,
              "#7201a8"
             ],
             [
              0.3333333333333333,
              "#9c179e"
             ],
             [
              0.4444444444444444,
              "#bd3786"
             ],
             [
              0.5555555555555556,
              "#d8576b"
             ],
             [
              0.6666666666666666,
              "#ed7953"
             ],
             [
              0.7777777777777778,
              "#fb9f3a"
             ],
             [
              0.8888888888888888,
              "#fdca26"
             ],
             [
              1,
              "#f0f921"
             ]
            ],
            "type": "histogram2dcontour"
           }
          ],
          "mesh3d": [
           {
            "colorbar": {
             "outlinewidth": 0,
             "ticks": ""
            },
            "type": "mesh3d"
           }
          ],
          "parcoords": [
           {
            "line": {
             "colorbar": {
              "outlinewidth": 0,
              "ticks": ""
             }
            },
            "type": "parcoords"
           }
          ],
          "pie": [
           {
            "automargin": true,
            "type": "pie"
           }
          ],
          "scatter": [
           {
            "fillpattern": {
             "fillmode": "overlay",
             "size": 10,
             "solidity": 0.2
            },
            "type": "scatter"
           }
          ],
          "scatter3d": [
           {
            "line": {
             "colorbar": {
              "outlinewidth": 0,
              "ticks": ""
             }
            },
            "marker": {
             "colorbar": {
              "outlinewidth": 0,
              "ticks": ""
             }
            },
            "type": "scatter3d"
           }
          ],
          "scattercarpet": [
           {
            "marker": {
             "colorbar": {
              "outlinewidth": 0,
              "ticks": ""
             }
            },
            "type": "scattercarpet"
           }
          ],
          "scattergeo": [
           {
            "marker": {
             "colorbar": {
              "outlinewidth": 0,
              "ticks": ""
             }
            },
            "type": "scattergeo"
           }
          ],
          "scattergl": [
           {
            "marker": {
             "colorbar": {
              "outlinewidth": 0,
              "ticks": ""
             }
            },
            "type": "scattergl"
           }
          ],
          "scattermap": [
           {
            "marker": {
             "colorbar": {
              "outlinewidth": 0,
              "ticks": ""
             }
            },
            "type": "scattermap"
           }
          ],
          "scattermapbox": [
           {
            "marker": {
             "colorbar": {
              "outlinewidth": 0,
              "ticks": ""
             }
            },
            "type": "scattermapbox"
           }
          ],
          "scatterpolar": [
           {
            "marker": {
             "colorbar": {
              "outlinewidth": 0,
              "ticks": ""
             }
            },
            "type": "scatterpolar"
           }
          ],
          "scatterpolargl": [
           {
            "marker": {
             "colorbar": {
              "outlinewidth": 0,
              "ticks": ""
             }
            },
            "type": "scatterpolargl"
           }
          ],
          "scatterternary": [
           {
            "marker": {
             "colorbar": {
              "outlinewidth": 0,
              "ticks": ""
             }
            },
            "type": "scatterternary"
           }
          ],
          "surface": [
           {
            "colorbar": {
             "outlinewidth": 0,
             "ticks": ""
            },
            "colorscale": [
             [
              0,
              "#0d0887"
             ],
             [
              0.1111111111111111,
              "#46039f"
             ],
             [
              0.2222222222222222,
              "#7201a8"
             ],
             [
              0.3333333333333333,
              "#9c179e"
             ],
             [
              0.4444444444444444,
              "#bd3786"
             ],
             [
              0.5555555555555556,
              "#d8576b"
             ],
             [
              0.6666666666666666,
              "#ed7953"
             ],
             [
              0.7777777777777778,
              "#fb9f3a"
             ],
             [
              0.8888888888888888,
              "#fdca26"
             ],
             [
              1,
              "#f0f921"
             ]
            ],
            "type": "surface"
           }
          ],
          "table": [
           {
            "cells": {
             "fill": {
              "color": "#EBF0F8"
             },
             "line": {
              "color": "white"
             }
            },
            "header": {
             "fill": {
              "color": "#C8D4E3"
             },
             "line": {
              "color": "white"
             }
            },
            "type": "table"
           }
          ]
         },
         "layout": {
          "annotationdefaults": {
           "arrowcolor": "#2a3f5f",
           "arrowhead": 0,
           "arrowwidth": 1
          },
          "autotypenumbers": "strict",
          "coloraxis": {
           "colorbar": {
            "outlinewidth": 0,
            "ticks": ""
           }
          },
          "colorscale": {
           "diverging": [
            [
             0,
             "#8e0152"
            ],
            [
             0.1,
             "#c51b7d"
            ],
            [
             0.2,
             "#de77ae"
            ],
            [
             0.3,
             "#f1b6da"
            ],
            [
             0.4,
             "#fde0ef"
            ],
            [
             0.5,
             "#f7f7f7"
            ],
            [
             0.6,
             "#e6f5d0"
            ],
            [
             0.7,
             "#b8e186"
            ],
            [
             0.8,
             "#7fbc41"
            ],
            [
             0.9,
             "#4d9221"
            ],
            [
             1,
             "#276419"
            ]
           ],
           "sequential": [
            [
             0,
             "#0d0887"
            ],
            [
             0.1111111111111111,
             "#46039f"
            ],
            [
             0.2222222222222222,
             "#7201a8"
            ],
            [
             0.3333333333333333,
             "#9c179e"
            ],
            [
             0.4444444444444444,
             "#bd3786"
            ],
            [
             0.5555555555555556,
             "#d8576b"
            ],
            [
             0.6666666666666666,
             "#ed7953"
            ],
            [
             0.7777777777777778,
             "#fb9f3a"
            ],
            [
             0.8888888888888888,
             "#fdca26"
            ],
            [
             1,
             "#f0f921"
            ]
           ],
           "sequentialminus": [
            [
             0,
             "#0d0887"
            ],
            [
             0.1111111111111111,
             "#46039f"
            ],
            [
             0.2222222222222222,
             "#7201a8"
            ],
            [
             0.3333333333333333,
             "#9c179e"
            ],
            [
             0.4444444444444444,
             "#bd3786"
            ],
            [
             0.5555555555555556,
             "#d8576b"
            ],
            [
             0.6666666666666666,
             "#ed7953"
            ],
            [
             0.7777777777777778,
             "#fb9f3a"
            ],
            [
             0.8888888888888888,
             "#fdca26"
            ],
            [
             1,
             "#f0f921"
            ]
           ]
          },
          "colorway": [
           "#636efa",
           "#EF553B",
           "#00cc96",
           "#ab63fa",
           "#FFA15A",
           "#19d3f3",
           "#FF6692",
           "#B6E880",
           "#FF97FF",
           "#FECB52"
          ],
          "font": {
           "color": "#2a3f5f"
          },
          "geo": {
           "bgcolor": "white",
           "lakecolor": "white",
           "landcolor": "white",
           "showlakes": true,
           "showland": true,
           "subunitcolor": "#C8D4E3"
          },
          "hoverlabel": {
           "align": "left"
          },
          "hovermode": "closest",
          "mapbox": {
           "style": "light"
          },
          "paper_bgcolor": "white",
          "plot_bgcolor": "white",
          "polar": {
           "angularaxis": {
            "gridcolor": "#EBF0F8",
            "linecolor": "#EBF0F8",
            "ticks": ""
           },
           "bgcolor": "white",
           "radialaxis": {
            "gridcolor": "#EBF0F8",
            "linecolor": "#EBF0F8",
            "ticks": ""
           }
          },
          "scene": {
           "xaxis": {
            "backgroundcolor": "white",
            "gridcolor": "#DFE8F3",
            "gridwidth": 2,
            "linecolor": "#EBF0F8",
            "showbackground": true,
            "ticks": "",
            "zerolinecolor": "#EBF0F8"
           },
           "yaxis": {
            "backgroundcolor": "white",
            "gridcolor": "#DFE8F3",
            "gridwidth": 2,
            "linecolor": "#EBF0F8",
            "showbackground": true,
            "ticks": "",
            "zerolinecolor": "#EBF0F8"
           },
           "zaxis": {
            "backgroundcolor": "white",
            "gridcolor": "#DFE8F3",
            "gridwidth": 2,
            "linecolor": "#EBF0F8",
            "showbackground": true,
            "ticks": "",
            "zerolinecolor": "#EBF0F8"
           }
          },
          "shapedefaults": {
           "line": {
            "color": "#2a3f5f"
           }
          },
          "ternary": {
           "aaxis": {
            "gridcolor": "#DFE8F3",
            "linecolor": "#A2B1C6",
            "ticks": ""
           },
           "baxis": {
            "gridcolor": "#DFE8F3",
            "linecolor": "#A2B1C6",
            "ticks": ""
           },
           "bgcolor": "white",
           "caxis": {
            "gridcolor": "#DFE8F3",
            "linecolor": "#A2B1C6",
            "ticks": ""
           }
          },
          "title": {
           "x": 0.05
          },
          "xaxis": {
           "automargin": true,
           "gridcolor": "#EBF0F8",
           "linecolor": "#EBF0F8",
           "ticks": "",
           "title": {
            "standoff": 15
           },
           "zerolinecolor": "#EBF0F8",
           "zerolinewidth": 2
          },
          "yaxis": {
           "automargin": true,
           "gridcolor": "#EBF0F8",
           "linecolor": "#EBF0F8",
           "ticks": "",
           "title": {
            "standoff": 15
           },
           "zerolinecolor": "#EBF0F8",
           "zerolinewidth": 2
          }
         }
        },
        "title": {
         "text": "Tendencia de Horas Extra - Inventory"
        },
        "xaxis": {
         "title": {
          "text": "Fecha"
         }
        },
        "yaxis": {
         "title": {
          "text": "Horas Extra"
         }
        }
       }
      }
     },
     "metadata": {},
     "output_type": "display_data"
    },
    {
     "name": "stdout",
     "output_type": "stream",
     "text": [
      "Visualización completada para Inventory\n"
     ]
    },
    {
     "data": {
      "application/vnd.plotly.v1+json": {
       "config": {
        "plotlyServerURL": "https://plot.ly"
       },
       "data": [
        {
         "line": {
          "color": "blue"
         },
         "mode": "lines+markers",
         "name": "Histórico",
         "type": "scatter",
         "x": [
          "2024-05-19T00:00:00.000000000",
          "2024-05-26T00:00:00.000000000",
          "2024-06-02T00:00:00.000000000",
          "2024-06-09T00:00:00.000000000",
          "2024-06-16T00:00:00.000000000",
          "2024-06-23T00:00:00.000000000",
          "2024-06-30T00:00:00.000000000",
          "2024-07-07T00:00:00.000000000",
          "2024-07-14T00:00:00.000000000",
          "2024-07-21T00:00:00.000000000",
          "2024-07-28T00:00:00.000000000",
          "2024-08-04T00:00:00.000000000",
          "2024-08-11T00:00:00.000000000",
          "2024-08-18T00:00:00.000000000",
          "2024-08-25T00:00:00.000000000",
          "2024-09-01T00:00:00.000000000",
          "2024-09-08T00:00:00.000000000",
          "2024-09-15T00:00:00.000000000",
          "2024-09-22T00:00:00.000000000",
          "2024-09-29T00:00:00.000000000",
          "2024-10-06T00:00:00.000000000",
          "2024-10-13T00:00:00.000000000",
          "2024-10-20T00:00:00.000000000",
          "2024-10-27T00:00:00.000000000",
          "2024-11-03T00:00:00.000000000",
          "2024-11-10T00:00:00.000000000",
          "2024-11-17T00:00:00.000000000",
          "2024-11-24T00:00:00.000000000",
          "2024-12-01T00:00:00.000000000",
          "2024-12-08T00:00:00.000000000",
          "2024-12-15T00:00:00.000000000",
          "2024-12-22T00:00:00.000000000",
          "2024-12-29T00:00:00.000000000",
          "2025-01-05T00:00:00.000000000",
          "2025-01-12T00:00:00.000000000",
          "2025-01-19T00:00:00.000000000",
          "2025-01-26T00:00:00.000000000",
          "2025-02-02T00:00:00.000000000",
          "2025-02-09T00:00:00.000000000",
          "2025-02-16T00:00:00.000000000",
          "2025-02-23T00:00:00.000000000",
          "2025-03-02T00:00:00.000000000",
          "2025-03-09T00:00:00.000000000",
          "2025-03-16T00:00:00.000000000",
          "2025-03-23T00:00:00.000000000",
          "2025-03-30T00:00:00.000000000",
          "2025-04-06T00:00:00.000000000",
          "2025-04-13T00:00:00.000000000",
          "2025-04-20T00:00:00.000000000",
          "2025-04-27T00:00:00.000000000",
          "2025-05-04T00:00:00.000000000",
          "2025-05-11T00:00:00.000000000",
          "2025-05-18T00:00:00.000000000"
         ],
         "y": {
          "bdata": "j8L1KFyPFECuR+F6FK4bQK5H4XoUrhVAH4XrUbgeF0CamZmZmZkQQBSuR+F6FCVAuB6F61G4HECkcD0K1yMjQI/C9ShcjydApHA9CtejFUBxPQrXo3AaQEjhehSuRyFA7FG4HoVrJECuR+F6FK4iQOxRuB6F6xxAKVyPwvUoDEDhehSuR+ETQD0K16NwPSNAUrgehetRCkBSuB6F61HYP3E9CtejcBZA9ihcj8L1HUCkcD0K1yMvQJqZmZmZmSdA4XoUrkfhIEBxPQrXo3D9PwAAAAAAgCNAcT0K16NwKUBmZmZmZmYjQOxRuB6F6wlAmpmZmZmZ/T+PwvUoXI8aQOF6FK5H4RdAmpmZmZmZG0BxPQrXo3AbQK5H4XoUrvM/SOF6FK7HKkBcj8L1KFwhQK5H4XoULiBAAAAAAAAAAADNzMzMzMz4P6RwPQrXoxBAH4XrUbieI0BI4XoUrkcPQD0K16NwPRNASOF6FK5HIkB7FK5H4XopQBSuR+F6FCNAzczMzMzMAEDNzMzMzMwjQEjhehSuxzNAMzMzMzOzKUAUrkfhehTyPw==",
          "dtype": "f8"
         }
        },
        {
         "line": {
          "color": "red",
          "dash": "dash"
         },
         "mode": "lines",
         "name": "Tendencia",
         "type": "scatter",
         "x": [
          "2024-05-19T00:00:00.000000000",
          "2024-05-26T00:00:00.000000000",
          "2024-06-02T00:00:00.000000000",
          "2024-06-09T00:00:00.000000000",
          "2024-06-16T00:00:00.000000000",
          "2024-06-23T00:00:00.000000000",
          "2024-06-30T00:00:00.000000000",
          "2024-07-07T00:00:00.000000000",
          "2024-07-14T00:00:00.000000000",
          "2024-07-21T00:00:00.000000000",
          "2024-07-28T00:00:00.000000000",
          "2024-08-04T00:00:00.000000000",
          "2024-08-11T00:00:00.000000000",
          "2024-08-18T00:00:00.000000000",
          "2024-08-25T00:00:00.000000000",
          "2024-09-01T00:00:00.000000000",
          "2024-09-08T00:00:00.000000000",
          "2024-09-15T00:00:00.000000000",
          "2024-09-22T00:00:00.000000000",
          "2024-09-29T00:00:00.000000000",
          "2024-10-06T00:00:00.000000000",
          "2024-10-13T00:00:00.000000000",
          "2024-10-20T00:00:00.000000000",
          "2024-10-27T00:00:00.000000000",
          "2024-11-03T00:00:00.000000000",
          "2024-11-10T00:00:00.000000000",
          "2024-11-17T00:00:00.000000000",
          "2024-11-24T00:00:00.000000000",
          "2024-12-01T00:00:00.000000000",
          "2024-12-08T00:00:00.000000000",
          "2024-12-15T00:00:00.000000000",
          "2024-12-22T00:00:00.000000000",
          "2024-12-29T00:00:00.000000000",
          "2025-01-05T00:00:00.000000000",
          "2025-01-12T00:00:00.000000000",
          "2025-01-19T00:00:00.000000000",
          "2025-01-26T00:00:00.000000000",
          "2025-02-02T00:00:00.000000000",
          "2025-02-09T00:00:00.000000000",
          "2025-02-16T00:00:00.000000000",
          "2025-02-23T00:00:00.000000000",
          "2025-03-02T00:00:00.000000000",
          "2025-03-09T00:00:00.000000000",
          "2025-03-16T00:00:00.000000000",
          "2025-03-23T00:00:00.000000000",
          "2025-03-30T00:00:00.000000000",
          "2025-04-06T00:00:00.000000000",
          "2025-04-13T00:00:00.000000000",
          "2025-04-20T00:00:00.000000000",
          "2025-04-27T00:00:00.000000000",
          "2025-05-04T00:00:00.000000000",
          "2025-05-11T00:00:00.000000000",
          "2025-05-18T00:00:00.000000000"
         ],
         "y": {
          "bdata": "J+Er9MpKG0BMkSILmVobQHBBGSJnahtAlfEPOTV6G0C5oQZQA4obQN5R/WbRmRtAAgL0fZ+pG0AnsuqUbbkbQEti4as7yRtAcBLYwgnZG0CUws7Z1+gbQLlyxfCl+BtA3SK8B3QIHEAC07IeQhgcQCeDqTUQKBxASzOgTN43HEBw45ZjrEccQJSTjXp6VxxAuUOEkUhnHEDd83qoFnccQAKkcb/khhxAJlRo1rKWHEBLBF/tgKYcQG+0VQRPthxAlGRMGx3GHEC4FEMy69UcQN3EOUm55RxAAnUwYIf1HEAmJSd3VQUdQEvVHY4jFR1Ab4UUpfEkHUCUNQu8vzQdQLjlAdONRB1A3ZX46VtUHUABRu8AKmQdQCb25Rf4cx1ASqbcLsaDHUBvVtNFlJMdQJMGylxiox1AuLbAczCzHUDcZreK/sIdQAEXrqHM0h1AJsekuJriHUBKd5vPaPIdQG8nkuY2Ah5Ak9eI/QQSHkC4h38U0yEeQNw3diuhMR5AAehsQm9BHkAlmGNZPVEeQEpIWnALYR5AbvhQh9lwHkCTqEeep4AeQA==",
          "dtype": "f8"
         }
        }
       ],
       "layout": {
        "height": 400,
        "legend": {
         "orientation": "h",
         "x": 0.5,
         "xanchor": "center",
         "y": -0.4,
         "yanchor": "bottom"
        },
        "showlegend": true,
        "template": {
         "data": {
          "bar": [
           {
            "error_x": {
             "color": "#2a3f5f"
            },
            "error_y": {
             "color": "#2a3f5f"
            },
            "marker": {
             "line": {
              "color": "white",
              "width": 0.5
             },
             "pattern": {
              "fillmode": "overlay",
              "size": 10,
              "solidity": 0.2
             }
            },
            "type": "bar"
           }
          ],
          "barpolar": [
           {
            "marker": {
             "line": {
              "color": "white",
              "width": 0.5
             },
             "pattern": {
              "fillmode": "overlay",
              "size": 10,
              "solidity": 0.2
             }
            },
            "type": "barpolar"
           }
          ],
          "carpet": [
           {
            "aaxis": {
             "endlinecolor": "#2a3f5f",
             "gridcolor": "#C8D4E3",
             "linecolor": "#C8D4E3",
             "minorgridcolor": "#C8D4E3",
             "startlinecolor": "#2a3f5f"
            },
            "baxis": {
             "endlinecolor": "#2a3f5f",
             "gridcolor": "#C8D4E3",
             "linecolor": "#C8D4E3",
             "minorgridcolor": "#C8D4E3",
             "startlinecolor": "#2a3f5f"
            },
            "type": "carpet"
           }
          ],
          "choropleth": [
           {
            "colorbar": {
             "outlinewidth": 0,
             "ticks": ""
            },
            "type": "choropleth"
           }
          ],
          "contour": [
           {
            "colorbar": {
             "outlinewidth": 0,
             "ticks": ""
            },
            "colorscale": [
             [
              0,
              "#0d0887"
             ],
             [
              0.1111111111111111,
              "#46039f"
             ],
             [
              0.2222222222222222,
              "#7201a8"
             ],
             [
              0.3333333333333333,
              "#9c179e"
             ],
             [
              0.4444444444444444,
              "#bd3786"
             ],
             [
              0.5555555555555556,
              "#d8576b"
             ],
             [
              0.6666666666666666,
              "#ed7953"
             ],
             [
              0.7777777777777778,
              "#fb9f3a"
             ],
             [
              0.8888888888888888,
              "#fdca26"
             ],
             [
              1,
              "#f0f921"
             ]
            ],
            "type": "contour"
           }
          ],
          "contourcarpet": [
           {
            "colorbar": {
             "outlinewidth": 0,
             "ticks": ""
            },
            "type": "contourcarpet"
           }
          ],
          "heatmap": [
           {
            "colorbar": {
             "outlinewidth": 0,
             "ticks": ""
            },
            "colorscale": [
             [
              0,
              "#0d0887"
             ],
             [
              0.1111111111111111,
              "#46039f"
             ],
             [
              0.2222222222222222,
              "#7201a8"
             ],
             [
              0.3333333333333333,
              "#9c179e"
             ],
             [
              0.4444444444444444,
              "#bd3786"
             ],
             [
              0.5555555555555556,
              "#d8576b"
             ],
             [
              0.6666666666666666,
              "#ed7953"
             ],
             [
              0.7777777777777778,
              "#fb9f3a"
             ],
             [
              0.8888888888888888,
              "#fdca26"
             ],
             [
              1,
              "#f0f921"
             ]
            ],
            "type": "heatmap"
           }
          ],
          "histogram": [
           {
            "marker": {
             "pattern": {
              "fillmode": "overlay",
              "size": 10,
              "solidity": 0.2
             }
            },
            "type": "histogram"
           }
          ],
          "histogram2d": [
           {
            "colorbar": {
             "outlinewidth": 0,
             "ticks": ""
            },
            "colorscale": [
             [
              0,
              "#0d0887"
             ],
             [
              0.1111111111111111,
              "#46039f"
             ],
             [
              0.2222222222222222,
              "#7201a8"
             ],
             [
              0.3333333333333333,
              "#9c179e"
             ],
             [
              0.4444444444444444,
              "#bd3786"
             ],
             [
              0.5555555555555556,
              "#d8576b"
             ],
             [
              0.6666666666666666,
              "#ed7953"
             ],
             [
              0.7777777777777778,
              "#fb9f3a"
             ],
             [
              0.8888888888888888,
              "#fdca26"
             ],
             [
              1,
              "#f0f921"
             ]
            ],
            "type": "histogram2d"
           }
          ],
          "histogram2dcontour": [
           {
            "colorbar": {
             "outlinewidth": 0,
             "ticks": ""
            },
            "colorscale": [
             [
              0,
              "#0d0887"
             ],
             [
              0.1111111111111111,
              "#46039f"
             ],
             [
              0.2222222222222222,
              "#7201a8"
             ],
             [
              0.3333333333333333,
              "#9c179e"
             ],
             [
              0.4444444444444444,
              "#bd3786"
             ],
             [
              0.5555555555555556,
              "#d8576b"
             ],
             [
              0.6666666666666666,
              "#ed7953"
             ],
             [
              0.7777777777777778,
              "#fb9f3a"
             ],
             [
              0.8888888888888888,
              "#fdca26"
             ],
             [
              1,
              "#f0f921"
             ]
            ],
            "type": "histogram2dcontour"
           }
          ],
          "mesh3d": [
           {
            "colorbar": {
             "outlinewidth": 0,
             "ticks": ""
            },
            "type": "mesh3d"
           }
          ],
          "parcoords": [
           {
            "line": {
             "colorbar": {
              "outlinewidth": 0,
              "ticks": ""
             }
            },
            "type": "parcoords"
           }
          ],
          "pie": [
           {
            "automargin": true,
            "type": "pie"
           }
          ],
          "scatter": [
           {
            "fillpattern": {
             "fillmode": "overlay",
             "size": 10,
             "solidity": 0.2
            },
            "type": "scatter"
           }
          ],
          "scatter3d": [
           {
            "line": {
             "colorbar": {
              "outlinewidth": 0,
              "ticks": ""
             }
            },
            "marker": {
             "colorbar": {
              "outlinewidth": 0,
              "ticks": ""
             }
            },
            "type": "scatter3d"
           }
          ],
          "scattercarpet": [
           {
            "marker": {
             "colorbar": {
              "outlinewidth": 0,
              "ticks": ""
             }
            },
            "type": "scattercarpet"
           }
          ],
          "scattergeo": [
           {
            "marker": {
             "colorbar": {
              "outlinewidth": 0,
              "ticks": ""
             }
            },
            "type": "scattergeo"
           }
          ],
          "scattergl": [
           {
            "marker": {
             "colorbar": {
              "outlinewidth": 0,
              "ticks": ""
             }
            },
            "type": "scattergl"
           }
          ],
          "scattermap": [
           {
            "marker": {
             "colorbar": {
              "outlinewidth": 0,
              "ticks": ""
             }
            },
            "type": "scattermap"
           }
          ],
          "scattermapbox": [
           {
            "marker": {
             "colorbar": {
              "outlinewidth": 0,
              "ticks": ""
             }
            },
            "type": "scattermapbox"
           }
          ],
          "scatterpolar": [
           {
            "marker": {
             "colorbar": {
              "outlinewidth": 0,
              "ticks": ""
             }
            },
            "type": "scatterpolar"
           }
          ],
          "scatterpolargl": [
           {
            "marker": {
             "colorbar": {
              "outlinewidth": 0,
              "ticks": ""
             }
            },
            "type": "scatterpolargl"
           }
          ],
          "scatterternary": [
           {
            "marker": {
             "colorbar": {
              "outlinewidth": 0,
              "ticks": ""
             }
            },
            "type": "scatterternary"
           }
          ],
          "surface": [
           {
            "colorbar": {
             "outlinewidth": 0,
             "ticks": ""
            },
            "colorscale": [
             [
              0,
              "#0d0887"
             ],
             [
              0.1111111111111111,
              "#46039f"
             ],
             [
              0.2222222222222222,
              "#7201a8"
             ],
             [
              0.3333333333333333,
              "#9c179e"
             ],
             [
              0.4444444444444444,
              "#bd3786"
             ],
             [
              0.5555555555555556,
              "#d8576b"
             ],
             [
              0.6666666666666666,
              "#ed7953"
             ],
             [
              0.7777777777777778,
              "#fb9f3a"
             ],
             [
              0.8888888888888888,
              "#fdca26"
             ],
             [
              1,
              "#f0f921"
             ]
            ],
            "type": "surface"
           }
          ],
          "table": [
           {
            "cells": {
             "fill": {
              "color": "#EBF0F8"
             },
             "line": {
              "color": "white"
             }
            },
            "header": {
             "fill": {
              "color": "#C8D4E3"
             },
             "line": {
              "color": "white"
             }
            },
            "type": "table"
           }
          ]
         },
         "layout": {
          "annotationdefaults": {
           "arrowcolor": "#2a3f5f",
           "arrowhead": 0,
           "arrowwidth": 1
          },
          "autotypenumbers": "strict",
          "coloraxis": {
           "colorbar": {
            "outlinewidth": 0,
            "ticks": ""
           }
          },
          "colorscale": {
           "diverging": [
            [
             0,
             "#8e0152"
            ],
            [
             0.1,
             "#c51b7d"
            ],
            [
             0.2,
             "#de77ae"
            ],
            [
             0.3,
             "#f1b6da"
            ],
            [
             0.4,
             "#fde0ef"
            ],
            [
             0.5,
             "#f7f7f7"
            ],
            [
             0.6,
             "#e6f5d0"
            ],
            [
             0.7,
             "#b8e186"
            ],
            [
             0.8,
             "#7fbc41"
            ],
            [
             0.9,
             "#4d9221"
            ],
            [
             1,
             "#276419"
            ]
           ],
           "sequential": [
            [
             0,
             "#0d0887"
            ],
            [
             0.1111111111111111,
             "#46039f"
            ],
            [
             0.2222222222222222,
             "#7201a8"
            ],
            [
             0.3333333333333333,
             "#9c179e"
            ],
            [
             0.4444444444444444,
             "#bd3786"
            ],
            [
             0.5555555555555556,
             "#d8576b"
            ],
            [
             0.6666666666666666,
             "#ed7953"
            ],
            [
             0.7777777777777778,
             "#fb9f3a"
            ],
            [
             0.8888888888888888,
             "#fdca26"
            ],
            [
             1,
             "#f0f921"
            ]
           ],
           "sequentialminus": [
            [
             0,
             "#0d0887"
            ],
            [
             0.1111111111111111,
             "#46039f"
            ],
            [
             0.2222222222222222,
             "#7201a8"
            ],
            [
             0.3333333333333333,
             "#9c179e"
            ],
            [
             0.4444444444444444,
             "#bd3786"
            ],
            [
             0.5555555555555556,
             "#d8576b"
            ],
            [
             0.6666666666666666,
             "#ed7953"
            ],
            [
             0.7777777777777778,
             "#fb9f3a"
            ],
            [
             0.8888888888888888,
             "#fdca26"
            ],
            [
             1,
             "#f0f921"
            ]
           ]
          },
          "colorway": [
           "#636efa",
           "#EF553B",
           "#00cc96",
           "#ab63fa",
           "#FFA15A",
           "#19d3f3",
           "#FF6692",
           "#B6E880",
           "#FF97FF",
           "#FECB52"
          ],
          "font": {
           "color": "#2a3f5f"
          },
          "geo": {
           "bgcolor": "white",
           "lakecolor": "white",
           "landcolor": "white",
           "showlakes": true,
           "showland": true,
           "subunitcolor": "#C8D4E3"
          },
          "hoverlabel": {
           "align": "left"
          },
          "hovermode": "closest",
          "mapbox": {
           "style": "light"
          },
          "paper_bgcolor": "white",
          "plot_bgcolor": "white",
          "polar": {
           "angularaxis": {
            "gridcolor": "#EBF0F8",
            "linecolor": "#EBF0F8",
            "ticks": ""
           },
           "bgcolor": "white",
           "radialaxis": {
            "gridcolor": "#EBF0F8",
            "linecolor": "#EBF0F8",
            "ticks": ""
           }
          },
          "scene": {
           "xaxis": {
            "backgroundcolor": "white",
            "gridcolor": "#DFE8F3",
            "gridwidth": 2,
            "linecolor": "#EBF0F8",
            "showbackground": true,
            "ticks": "",
            "zerolinecolor": "#EBF0F8"
           },
           "yaxis": {
            "backgroundcolor": "white",
            "gridcolor": "#DFE8F3",
            "gridwidth": 2,
            "linecolor": "#EBF0F8",
            "showbackground": true,
            "ticks": "",
            "zerolinecolor": "#EBF0F8"
           },
           "zaxis": {
            "backgroundcolor": "white",
            "gridcolor": "#DFE8F3",
            "gridwidth": 2,
            "linecolor": "#EBF0F8",
            "showbackground": true,
            "ticks": "",
            "zerolinecolor": "#EBF0F8"
           }
          },
          "shapedefaults": {
           "line": {
            "color": "#2a3f5f"
           }
          },
          "ternary": {
           "aaxis": {
            "gridcolor": "#DFE8F3",
            "linecolor": "#A2B1C6",
            "ticks": ""
           },
           "baxis": {
            "gridcolor": "#DFE8F3",
            "linecolor": "#A2B1C6",
            "ticks": ""
           },
           "bgcolor": "white",
           "caxis": {
            "gridcolor": "#DFE8F3",
            "linecolor": "#A2B1C6",
            "ticks": ""
           }
          },
          "title": {
           "x": 0.05
          },
          "xaxis": {
           "automargin": true,
           "gridcolor": "#EBF0F8",
           "linecolor": "#EBF0F8",
           "ticks": "",
           "title": {
            "standoff": 15
           },
           "zerolinecolor": "#EBF0F8",
           "zerolinewidth": 2
          },
          "yaxis": {
           "automargin": true,
           "gridcolor": "#EBF0F8",
           "linecolor": "#EBF0F8",
           "ticks": "",
           "title": {
            "standoff": 15
           },
           "zerolinecolor": "#EBF0F8",
           "zerolinewidth": 2
          }
         }
        },
        "title": {
         "text": "Tendencia de Horas Extra - IT"
        },
        "xaxis": {
         "title": {
          "text": "Fecha"
         }
        },
        "yaxis": {
         "title": {
          "text": "Horas Extra"
         }
        }
       }
      }
     },
     "metadata": {},
     "output_type": "display_data"
    },
    {
     "name": "stdout",
     "output_type": "stream",
     "text": [
      "Visualización completada para IT\n"
     ]
    },
    {
     "data": {
      "application/vnd.plotly.v1+json": {
       "config": {
        "plotlyServerURL": "https://plot.ly"
       },
       "data": [
        {
         "line": {
          "color": "blue"
         },
         "mode": "lines+markers",
         "name": "Histórico",
         "type": "scatter",
         "x": [
          "2024-05-19T00:00:00.000000000",
          "2024-05-26T00:00:00.000000000",
          "2024-06-02T00:00:00.000000000",
          "2024-06-09T00:00:00.000000000",
          "2024-06-16T00:00:00.000000000",
          "2024-06-23T00:00:00.000000000",
          "2024-06-30T00:00:00.000000000",
          "2024-07-07T00:00:00.000000000",
          "2024-07-14T00:00:00.000000000",
          "2024-07-21T00:00:00.000000000",
          "2024-07-28T00:00:00.000000000",
          "2024-08-04T00:00:00.000000000",
          "2024-08-11T00:00:00.000000000",
          "2024-08-18T00:00:00.000000000",
          "2024-08-25T00:00:00.000000000",
          "2024-09-01T00:00:00.000000000",
          "2024-09-08T00:00:00.000000000",
          "2024-09-15T00:00:00.000000000",
          "2024-09-22T00:00:00.000000000",
          "2024-09-29T00:00:00.000000000",
          "2024-10-06T00:00:00.000000000",
          "2024-10-13T00:00:00.000000000",
          "2024-10-20T00:00:00.000000000",
          "2024-10-27T00:00:00.000000000",
          "2024-11-03T00:00:00.000000000",
          "2024-11-10T00:00:00.000000000",
          "2024-11-17T00:00:00.000000000",
          "2024-11-24T00:00:00.000000000",
          "2024-12-01T00:00:00.000000000",
          "2024-12-08T00:00:00.000000000",
          "2024-12-15T00:00:00.000000000",
          "2024-12-22T00:00:00.000000000",
          "2024-12-29T00:00:00.000000000",
          "2025-01-05T00:00:00.000000000",
          "2025-01-12T00:00:00.000000000",
          "2025-01-19T00:00:00.000000000",
          "2025-01-26T00:00:00.000000000",
          "2025-02-02T00:00:00.000000000",
          "2025-02-09T00:00:00.000000000",
          "2025-02-16T00:00:00.000000000",
          "2025-02-23T00:00:00.000000000",
          "2025-03-02T00:00:00.000000000",
          "2025-03-09T00:00:00.000000000",
          "2025-03-16T00:00:00.000000000",
          "2025-03-23T00:00:00.000000000",
          "2025-03-30T00:00:00.000000000",
          "2025-04-06T00:00:00.000000000",
          "2025-04-13T00:00:00.000000000",
          "2025-04-20T00:00:00.000000000",
          "2025-04-27T00:00:00.000000000",
          "2025-05-04T00:00:00.000000000",
          "2025-05-11T00:00:00.000000000",
          "2025-05-18T00:00:00.000000000"
         ],
         "y": {
          "bdata": "AAAAAAAAGEAUrkfhehT+P6RwPQrXoxZAmpmZmZmZKUDNzMzMzMwKQAAAAAAAAAAAmpmZmZmZB0DNzMzMzEwhQOF6FK5H4SNAhetRuB6F/z+kcD0K16MXQClcj8L1KB5ACtejcD2KJkC4HoXrUbgmQPYoXI/C9S1AMzMzMzMzI0DsUbgehWsgQFyPwvUoXPM/FK5H4XoU8j8AAAAAAAAAAHsUrkfhehtAhetRuB6FD0AAAAAAAAAAAFK4HoXrURJAPQrXo3A9KUCF61G4HoUPQB+F61G4niBAFK5H4XoUJEBxPQrXo/AjQLgehetRuBFAUrgehetRG0AK16NwPQr7P65H4XoUrhRACtejcD0KC0DhehSuR+EEQM3MzMzMzCtA9ihcj8L1F0DsUbgehescQHsUrkfhehdAw/UoXI9CJkBcj8L1KFwqQJqZmZmZmRJApHA9CtejH0DNzMzMzMwcQIXrUbgehfs/MzMzMzMzF0A9CtejcD3aP65H4XoUbjRA4XoUrkfhGEB7FK5H4XoKQMP1KFyPwgNA16NwPQrX/z/sUbgehesLQA==",
          "dtype": "f8"
         }
        },
        {
         "line": {
          "color": "red",
          "dash": "dash"
         },
         "mode": "lines",
         "name": "Tendencia",
         "type": "scatter",
         "x": [
          "2024-05-19T00:00:00.000000000",
          "2024-05-26T00:00:00.000000000",
          "2024-06-02T00:00:00.000000000",
          "2024-06-09T00:00:00.000000000",
          "2024-06-16T00:00:00.000000000",
          "2024-06-23T00:00:00.000000000",
          "2024-06-30T00:00:00.000000000",
          "2024-07-07T00:00:00.000000000",
          "2024-07-14T00:00:00.000000000",
          "2024-07-21T00:00:00.000000000",
          "2024-07-28T00:00:00.000000000",
          "2024-08-04T00:00:00.000000000",
          "2024-08-11T00:00:00.000000000",
          "2024-08-18T00:00:00.000000000",
          "2024-08-25T00:00:00.000000000",
          "2024-09-01T00:00:00.000000000",
          "2024-09-08T00:00:00.000000000",
          "2024-09-15T00:00:00.000000000",
          "2024-09-22T00:00:00.000000000",
          "2024-09-29T00:00:00.000000000",
          "2024-10-06T00:00:00.000000000",
          "2024-10-13T00:00:00.000000000",
          "2024-10-20T00:00:00.000000000",
          "2024-10-27T00:00:00.000000000",
          "2024-11-03T00:00:00.000000000",
          "2024-11-10T00:00:00.000000000",
          "2024-11-17T00:00:00.000000000",
          "2024-11-24T00:00:00.000000000",
          "2024-12-01T00:00:00.000000000",
          "2024-12-08T00:00:00.000000000",
          "2024-12-15T00:00:00.000000000",
          "2024-12-22T00:00:00.000000000",
          "2024-12-29T00:00:00.000000000",
          "2025-01-05T00:00:00.000000000",
          "2025-01-12T00:00:00.000000000",
          "2025-01-19T00:00:00.000000000",
          "2025-01-26T00:00:00.000000000",
          "2025-02-02T00:00:00.000000000",
          "2025-02-09T00:00:00.000000000",
          "2025-02-16T00:00:00.000000000",
          "2025-02-23T00:00:00.000000000",
          "2025-03-02T00:00:00.000000000",
          "2025-03-09T00:00:00.000000000",
          "2025-03-16T00:00:00.000000000",
          "2025-03-23T00:00:00.000000000",
          "2025-03-30T00:00:00.000000000",
          "2025-04-06T00:00:00.000000000",
          "2025-04-13T00:00:00.000000000",
          "2025-04-20T00:00:00.000000000",
          "2025-04-27T00:00:00.000000000",
          "2025-05-04T00:00:00.000000000",
          "2025-05-11T00:00:00.000000000",
          "2025-05-18T00:00:00.000000000"
         ],
         "y": {
          "bdata": "Wzqd1BAwGUAAr3FFiy4ZQKUjRrYFLRlASpgaJ4ArGUDvDO+X+ikZQJSBwwh1KBlAOfaXee8mGUDeamzqaSUZQIPfQFvkIxlAKFQVzF4iGUDNyOk82SAZQHI9vq1THxlAF7KSHs4dGUC8JmePSBwZQGGbOwDDGhlABhAQcT0ZGUCrhOThtxcZQFD5uFIyFhlA9W2Nw6wUGUCa4mE0JxMZQD9XNqWhERlA5MsKFhwQGUCJQN+Glg4ZQC61s/cQDRlA0ymIaIsLGUB4nlzZBQoZQB0TMUqACBlAwocFu/oGGUBn/NkrdQUZQAxxrpzvAxlAseWCDWoCGUBWWld+5AAZQPvOK+9e/xhAoEMAYNn9GEBFuNTQU/wYQOosqUHO+hhAj6F9skj5GEA0FlIjw/cYQNmKJpQ99hhAfv/6BLj0GEAjdM91MvMYQMjoo+as8RhAbV14VyfwGEAS0kzIoe4YQLdGITkc7RhAXLv1qZbrGEABMMoaEeoYQKaknouL6BhASxlz/AXnGEDwjUdtgOUYQJUCHN764xhAOnfwTnXiGEDf68S/7+AYQA==",
          "dtype": "f8"
         }
        }
       ],
       "layout": {
        "height": 400,
        "legend": {
         "orientation": "h",
         "x": 0.5,
         "xanchor": "center",
         "y": -0.4,
         "yanchor": "bottom"
        },
        "showlegend": true,
        "template": {
         "data": {
          "bar": [
           {
            "error_x": {
             "color": "#2a3f5f"
            },
            "error_y": {
             "color": "#2a3f5f"
            },
            "marker": {
             "line": {
              "color": "white",
              "width": 0.5
             },
             "pattern": {
              "fillmode": "overlay",
              "size": 10,
              "solidity": 0.2
             }
            },
            "type": "bar"
           }
          ],
          "barpolar": [
           {
            "marker": {
             "line": {
              "color": "white",
              "width": 0.5
             },
             "pattern": {
              "fillmode": "overlay",
              "size": 10,
              "solidity": 0.2
             }
            },
            "type": "barpolar"
           }
          ],
          "carpet": [
           {
            "aaxis": {
             "endlinecolor": "#2a3f5f",
             "gridcolor": "#C8D4E3",
             "linecolor": "#C8D4E3",
             "minorgridcolor": "#C8D4E3",
             "startlinecolor": "#2a3f5f"
            },
            "baxis": {
             "endlinecolor": "#2a3f5f",
             "gridcolor": "#C8D4E3",
             "linecolor": "#C8D4E3",
             "minorgridcolor": "#C8D4E3",
             "startlinecolor": "#2a3f5f"
            },
            "type": "carpet"
           }
          ],
          "choropleth": [
           {
            "colorbar": {
             "outlinewidth": 0,
             "ticks": ""
            },
            "type": "choropleth"
           }
          ],
          "contour": [
           {
            "colorbar": {
             "outlinewidth": 0,
             "ticks": ""
            },
            "colorscale": [
             [
              0,
              "#0d0887"
             ],
             [
              0.1111111111111111,
              "#46039f"
             ],
             [
              0.2222222222222222,
              "#7201a8"
             ],
             [
              0.3333333333333333,
              "#9c179e"
             ],
             [
              0.4444444444444444,
              "#bd3786"
             ],
             [
              0.5555555555555556,
              "#d8576b"
             ],
             [
              0.6666666666666666,
              "#ed7953"
             ],
             [
              0.7777777777777778,
              "#fb9f3a"
             ],
             [
              0.8888888888888888,
              "#fdca26"
             ],
             [
              1,
              "#f0f921"
             ]
            ],
            "type": "contour"
           }
          ],
          "contourcarpet": [
           {
            "colorbar": {
             "outlinewidth": 0,
             "ticks": ""
            },
            "type": "contourcarpet"
           }
          ],
          "heatmap": [
           {
            "colorbar": {
             "outlinewidth": 0,
             "ticks": ""
            },
            "colorscale": [
             [
              0,
              "#0d0887"
             ],
             [
              0.1111111111111111,
              "#46039f"
             ],
             [
              0.2222222222222222,
              "#7201a8"
             ],
             [
              0.3333333333333333,
              "#9c179e"
             ],
             [
              0.4444444444444444,
              "#bd3786"
             ],
             [
              0.5555555555555556,
              "#d8576b"
             ],
             [
              0.6666666666666666,
              "#ed7953"
             ],
             [
              0.7777777777777778,
              "#fb9f3a"
             ],
             [
              0.8888888888888888,
              "#fdca26"
             ],
             [
              1,
              "#f0f921"
             ]
            ],
            "type": "heatmap"
           }
          ],
          "histogram": [
           {
            "marker": {
             "pattern": {
              "fillmode": "overlay",
              "size": 10,
              "solidity": 0.2
             }
            },
            "type": "histogram"
           }
          ],
          "histogram2d": [
           {
            "colorbar": {
             "outlinewidth": 0,
             "ticks": ""
            },
            "colorscale": [
             [
              0,
              "#0d0887"
             ],
             [
              0.1111111111111111,
              "#46039f"
             ],
             [
              0.2222222222222222,
              "#7201a8"
             ],
             [
              0.3333333333333333,
              "#9c179e"
             ],
             [
              0.4444444444444444,
              "#bd3786"
             ],
             [
              0.5555555555555556,
              "#d8576b"
             ],
             [
              0.6666666666666666,
              "#ed7953"
             ],
             [
              0.7777777777777778,
              "#fb9f3a"
             ],
             [
              0.8888888888888888,
              "#fdca26"
             ],
             [
              1,
              "#f0f921"
             ]
            ],
            "type": "histogram2d"
           }
          ],
          "histogram2dcontour": [
           {
            "colorbar": {
             "outlinewidth": 0,
             "ticks": ""
            },
            "colorscale": [
             [
              0,
              "#0d0887"
             ],
             [
              0.1111111111111111,
              "#46039f"
             ],
             [
              0.2222222222222222,
              "#7201a8"
             ],
             [
              0.3333333333333333,
              "#9c179e"
             ],
             [
              0.4444444444444444,
              "#bd3786"
             ],
             [
              0.5555555555555556,
              "#d8576b"
             ],
             [
              0.6666666666666666,
              "#ed7953"
             ],
             [
              0.7777777777777778,
              "#fb9f3a"
             ],
             [
              0.8888888888888888,
              "#fdca26"
             ],
             [
              1,
              "#f0f921"
             ]
            ],
            "type": "histogram2dcontour"
           }
          ],
          "mesh3d": [
           {
            "colorbar": {
             "outlinewidth": 0,
             "ticks": ""
            },
            "type": "mesh3d"
           }
          ],
          "parcoords": [
           {
            "line": {
             "colorbar": {
              "outlinewidth": 0,
              "ticks": ""
             }
            },
            "type": "parcoords"
           }
          ],
          "pie": [
           {
            "automargin": true,
            "type": "pie"
           }
          ],
          "scatter": [
           {
            "fillpattern": {
             "fillmode": "overlay",
             "size": 10,
             "solidity": 0.2
            },
            "type": "scatter"
           }
          ],
          "scatter3d": [
           {
            "line": {
             "colorbar": {
              "outlinewidth": 0,
              "ticks": ""
             }
            },
            "marker": {
             "colorbar": {
              "outlinewidth": 0,
              "ticks": ""
             }
            },
            "type": "scatter3d"
           }
          ],
          "scattercarpet": [
           {
            "marker": {
             "colorbar": {
              "outlinewidth": 0,
              "ticks": ""
             }
            },
            "type": "scattercarpet"
           }
          ],
          "scattergeo": [
           {
            "marker": {
             "colorbar": {
              "outlinewidth": 0,
              "ticks": ""
             }
            },
            "type": "scattergeo"
           }
          ],
          "scattergl": [
           {
            "marker": {
             "colorbar": {
              "outlinewidth": 0,
              "ticks": ""
             }
            },
            "type": "scattergl"
           }
          ],
          "scattermap": [
           {
            "marker": {
             "colorbar": {
              "outlinewidth": 0,
              "ticks": ""
             }
            },
            "type": "scattermap"
           }
          ],
          "scattermapbox": [
           {
            "marker": {
             "colorbar": {
              "outlinewidth": 0,
              "ticks": ""
             }
            },
            "type": "scattermapbox"
           }
          ],
          "scatterpolar": [
           {
            "marker": {
             "colorbar": {
              "outlinewidth": 0,
              "ticks": ""
             }
            },
            "type": "scatterpolar"
           }
          ],
          "scatterpolargl": [
           {
            "marker": {
             "colorbar": {
              "outlinewidth": 0,
              "ticks": ""
             }
            },
            "type": "scatterpolargl"
           }
          ],
          "scatterternary": [
           {
            "marker": {
             "colorbar": {
              "outlinewidth": 0,
              "ticks": ""
             }
            },
            "type": "scatterternary"
           }
          ],
          "surface": [
           {
            "colorbar": {
             "outlinewidth": 0,
             "ticks": ""
            },
            "colorscale": [
             [
              0,
              "#0d0887"
             ],
             [
              0.1111111111111111,
              "#46039f"
             ],
             [
              0.2222222222222222,
              "#7201a8"
             ],
             [
              0.3333333333333333,
              "#9c179e"
             ],
             [
              0.4444444444444444,
              "#bd3786"
             ],
             [
              0.5555555555555556,
              "#d8576b"
             ],
             [
              0.6666666666666666,
              "#ed7953"
             ],
             [
              0.7777777777777778,
              "#fb9f3a"
             ],
             [
              0.8888888888888888,
              "#fdca26"
             ],
             [
              1,
              "#f0f921"
             ]
            ],
            "type": "surface"
           }
          ],
          "table": [
           {
            "cells": {
             "fill": {
              "color": "#EBF0F8"
             },
             "line": {
              "color": "white"
             }
            },
            "header": {
             "fill": {
              "color": "#C8D4E3"
             },
             "line": {
              "color": "white"
             }
            },
            "type": "table"
           }
          ]
         },
         "layout": {
          "annotationdefaults": {
           "arrowcolor": "#2a3f5f",
           "arrowhead": 0,
           "arrowwidth": 1
          },
          "autotypenumbers": "strict",
          "coloraxis": {
           "colorbar": {
            "outlinewidth": 0,
            "ticks": ""
           }
          },
          "colorscale": {
           "diverging": [
            [
             0,
             "#8e0152"
            ],
            [
             0.1,
             "#c51b7d"
            ],
            [
             0.2,
             "#de77ae"
            ],
            [
             0.3,
             "#f1b6da"
            ],
            [
             0.4,
             "#fde0ef"
            ],
            [
             0.5,
             "#f7f7f7"
            ],
            [
             0.6,
             "#e6f5d0"
            ],
            [
             0.7,
             "#b8e186"
            ],
            [
             0.8,
             "#7fbc41"
            ],
            [
             0.9,
             "#4d9221"
            ],
            [
             1,
             "#276419"
            ]
           ],
           "sequential": [
            [
             0,
             "#0d0887"
            ],
            [
             0.1111111111111111,
             "#46039f"
            ],
            [
             0.2222222222222222,
             "#7201a8"
            ],
            [
             0.3333333333333333,
             "#9c179e"
            ],
            [
             0.4444444444444444,
             "#bd3786"
            ],
            [
             0.5555555555555556,
             "#d8576b"
            ],
            [
             0.6666666666666666,
             "#ed7953"
            ],
            [
             0.7777777777777778,
             "#fb9f3a"
            ],
            [
             0.8888888888888888,
             "#fdca26"
            ],
            [
             1,
             "#f0f921"
            ]
           ],
           "sequentialminus": [
            [
             0,
             "#0d0887"
            ],
            [
             0.1111111111111111,
             "#46039f"
            ],
            [
             0.2222222222222222,
             "#7201a8"
            ],
            [
             0.3333333333333333,
             "#9c179e"
            ],
            [
             0.4444444444444444,
             "#bd3786"
            ],
            [
             0.5555555555555556,
             "#d8576b"
            ],
            [
             0.6666666666666666,
             "#ed7953"
            ],
            [
             0.7777777777777778,
             "#fb9f3a"
            ],
            [
             0.8888888888888888,
             "#fdca26"
            ],
            [
             1,
             "#f0f921"
            ]
           ]
          },
          "colorway": [
           "#636efa",
           "#EF553B",
           "#00cc96",
           "#ab63fa",
           "#FFA15A",
           "#19d3f3",
           "#FF6692",
           "#B6E880",
           "#FF97FF",
           "#FECB52"
          ],
          "font": {
           "color": "#2a3f5f"
          },
          "geo": {
           "bgcolor": "white",
           "lakecolor": "white",
           "landcolor": "white",
           "showlakes": true,
           "showland": true,
           "subunitcolor": "#C8D4E3"
          },
          "hoverlabel": {
           "align": "left"
          },
          "hovermode": "closest",
          "mapbox": {
           "style": "light"
          },
          "paper_bgcolor": "white",
          "plot_bgcolor": "white",
          "polar": {
           "angularaxis": {
            "gridcolor": "#EBF0F8",
            "linecolor": "#EBF0F8",
            "ticks": ""
           },
           "bgcolor": "white",
           "radialaxis": {
            "gridcolor": "#EBF0F8",
            "linecolor": "#EBF0F8",
            "ticks": ""
           }
          },
          "scene": {
           "xaxis": {
            "backgroundcolor": "white",
            "gridcolor": "#DFE8F3",
            "gridwidth": 2,
            "linecolor": "#EBF0F8",
            "showbackground": true,
            "ticks": "",
            "zerolinecolor": "#EBF0F8"
           },
           "yaxis": {
            "backgroundcolor": "white",
            "gridcolor": "#DFE8F3",
            "gridwidth": 2,
            "linecolor": "#EBF0F8",
            "showbackground": true,
            "ticks": "",
            "zerolinecolor": "#EBF0F8"
           },
           "zaxis": {
            "backgroundcolor": "white",
            "gridcolor": "#DFE8F3",
            "gridwidth": 2,
            "linecolor": "#EBF0F8",
            "showbackground": true,
            "ticks": "",
            "zerolinecolor": "#EBF0F8"
           }
          },
          "shapedefaults": {
           "line": {
            "color": "#2a3f5f"
           }
          },
          "ternary": {
           "aaxis": {
            "gridcolor": "#DFE8F3",
            "linecolor": "#A2B1C6",
            "ticks": ""
           },
           "baxis": {
            "gridcolor": "#DFE8F3",
            "linecolor": "#A2B1C6",
            "ticks": ""
           },
           "bgcolor": "white",
           "caxis": {
            "gridcolor": "#DFE8F3",
            "linecolor": "#A2B1C6",
            "ticks": ""
           }
          },
          "title": {
           "x": 0.05
          },
          "xaxis": {
           "automargin": true,
           "gridcolor": "#EBF0F8",
           "linecolor": "#EBF0F8",
           "ticks": "",
           "title": {
            "standoff": 15
           },
           "zerolinecolor": "#EBF0F8",
           "zerolinewidth": 2
          },
          "yaxis": {
           "automargin": true,
           "gridcolor": "#EBF0F8",
           "linecolor": "#EBF0F8",
           "ticks": "",
           "title": {
            "standoff": 15
           },
           "zerolinecolor": "#EBF0F8",
           "zerolinewidth": 2
          }
         }
        },
        "title": {
         "text": "Tendencia de Horas Extra - Marketing"
        },
        "xaxis": {
         "title": {
          "text": "Fecha"
         }
        },
        "yaxis": {
         "title": {
          "text": "Horas Extra"
         }
        }
       }
      }
     },
     "metadata": {},
     "output_type": "display_data"
    },
    {
     "name": "stdout",
     "output_type": "stream",
     "text": [
      "Visualización completada para Marketing\n"
     ]
    },
    {
     "data": {
      "application/vnd.plotly.v1+json": {
       "config": {
        "plotlyServerURL": "https://plot.ly"
       },
       "data": [
        {
         "line": {
          "color": "blue"
         },
         "mode": "lines+markers",
         "name": "Histórico",
         "type": "scatter",
         "x": [
          "2024-05-19T00:00:00.000000000",
          "2024-05-26T00:00:00.000000000",
          "2024-06-02T00:00:00.000000000",
          "2024-06-09T00:00:00.000000000",
          "2024-06-16T00:00:00.000000000",
          "2024-06-23T00:00:00.000000000",
          "2024-06-30T00:00:00.000000000",
          "2024-07-07T00:00:00.000000000",
          "2024-07-14T00:00:00.000000000",
          "2024-07-21T00:00:00.000000000",
          "2024-07-28T00:00:00.000000000",
          "2024-08-04T00:00:00.000000000",
          "2024-08-11T00:00:00.000000000",
          "2024-08-18T00:00:00.000000000",
          "2024-08-25T00:00:00.000000000",
          "2024-09-01T00:00:00.000000000",
          "2024-09-08T00:00:00.000000000",
          "2024-09-15T00:00:00.000000000",
          "2024-09-22T00:00:00.000000000",
          "2024-09-29T00:00:00.000000000",
          "2024-10-06T00:00:00.000000000",
          "2024-10-13T00:00:00.000000000",
          "2024-10-20T00:00:00.000000000",
          "2024-10-27T00:00:00.000000000",
          "2024-11-03T00:00:00.000000000",
          "2024-11-10T00:00:00.000000000",
          "2024-11-17T00:00:00.000000000",
          "2024-11-24T00:00:00.000000000",
          "2024-12-01T00:00:00.000000000",
          "2024-12-08T00:00:00.000000000",
          "2024-12-15T00:00:00.000000000",
          "2024-12-22T00:00:00.000000000",
          "2024-12-29T00:00:00.000000000",
          "2025-01-05T00:00:00.000000000",
          "2025-01-12T00:00:00.000000000",
          "2025-01-19T00:00:00.000000000",
          "2025-01-26T00:00:00.000000000",
          "2025-02-02T00:00:00.000000000",
          "2025-02-09T00:00:00.000000000",
          "2025-02-16T00:00:00.000000000",
          "2025-02-23T00:00:00.000000000",
          "2025-03-02T00:00:00.000000000",
          "2025-03-09T00:00:00.000000000",
          "2025-03-16T00:00:00.000000000",
          "2025-03-23T00:00:00.000000000",
          "2025-03-30T00:00:00.000000000",
          "2025-04-06T00:00:00.000000000",
          "2025-04-13T00:00:00.000000000",
          "2025-04-20T00:00:00.000000000",
          "2025-04-27T00:00:00.000000000",
          "2025-05-04T00:00:00.000000000",
          "2025-05-11T00:00:00.000000000",
          "2025-05-18T00:00:00.000000000"
         ],
         "y": {
          "bdata": "zczMzMzMHUAAAAAAAAAAAClcj8L1KBRApHA9CtejEUDD9Shcj8IZQClcj8L1KCBA7FG4HoVrLkDXo3A9ClcsQAAAAAAAgCdAH4XrUbgeJkA9CtejcD0pQI/C9ShcDyhAXI/C9ShcDUDsUbgehesHQGZmZmZmZiRAAAAAAAAAAAA9CtejcD0YQArXo3A9iiBAmpmZmZmZEEBI4XoUrscnQOF6FK5H4QxA16NwPQrXA0C4HoXrUbgIQArXo3A9Cvc/CtejcD0KA0CPwvUoXI8aQEjhehSuxyRAj8L1KFyPG0DNzMzMzMwgQK5H4XoUrhNAXI/C9SjcI0DD9Shcj8IiQFK4HoXrURZAH4XrUbge1T8zMzMzMzPrP+xRuB6F6xJAUrgehetRFUBSuB6F69EgQFK4HoXrUR9AAAAAAAAAHED2KFyPwvUWQHE9CtejcA9AMzMzMzMzD0Bcj8L1KFwFQOxRuB6F6xFApHA9CtejDEAK16NwPYovQIXrUbgeBSdA4XoUrkdhJ0CamZmZmZkcQK5H4XoUrhZAAAAAAAAAAAAfhetRuB75Pw==",
          "dtype": "f8"
         }
        },
        {
         "line": {
          "color": "red",
          "dash": "dash"
         },
         "mode": "lines",
         "name": "Tendencia",
         "type": "scatter",
         "x": [
          "2024-05-19T00:00:00.000000000",
          "2024-05-26T00:00:00.000000000",
          "2024-06-02T00:00:00.000000000",
          "2024-06-09T00:00:00.000000000",
          "2024-06-16T00:00:00.000000000",
          "2024-06-23T00:00:00.000000000",
          "2024-06-30T00:00:00.000000000",
          "2024-07-07T00:00:00.000000000",
          "2024-07-14T00:00:00.000000000",
          "2024-07-21T00:00:00.000000000",
          "2024-07-28T00:00:00.000000000",
          "2024-08-04T00:00:00.000000000",
          "2024-08-11T00:00:00.000000000",
          "2024-08-18T00:00:00.000000000",
          "2024-08-25T00:00:00.000000000",
          "2024-09-01T00:00:00.000000000",
          "2024-09-08T00:00:00.000000000",
          "2024-09-15T00:00:00.000000000",
          "2024-09-22T00:00:00.000000000",
          "2024-09-29T00:00:00.000000000",
          "2024-10-06T00:00:00.000000000",
          "2024-10-13T00:00:00.000000000",
          "2024-10-20T00:00:00.000000000",
          "2024-10-27T00:00:00.000000000",
          "2024-11-03T00:00:00.000000000",
          "2024-11-10T00:00:00.000000000",
          "2024-11-17T00:00:00.000000000",
          "2024-11-24T00:00:00.000000000",
          "2024-12-01T00:00:00.000000000",
          "2024-12-08T00:00:00.000000000",
          "2024-12-15T00:00:00.000000000",
          "2024-12-22T00:00:00.000000000",
          "2024-12-29T00:00:00.000000000",
          "2025-01-05T00:00:00.000000000",
          "2025-01-12T00:00:00.000000000",
          "2025-01-19T00:00:00.000000000",
          "2025-01-26T00:00:00.000000000",
          "2025-02-02T00:00:00.000000000",
          "2025-02-09T00:00:00.000000000",
          "2025-02-16T00:00:00.000000000",
          "2025-02-23T00:00:00.000000000",
          "2025-03-02T00:00:00.000000000",
          "2025-03-09T00:00:00.000000000",
          "2025-03-16T00:00:00.000000000",
          "2025-03-23T00:00:00.000000000",
          "2025-03-30T00:00:00.000000000",
          "2025-04-06T00:00:00.000000000",
          "2025-04-13T00:00:00.000000000",
          "2025-04-20T00:00:00.000000000",
          "2025-04-27T00:00:00.000000000",
          "2025-05-04T00:00:00.000000000",
          "2025-05-11T00:00:00.000000000",
          "2025-05-18T00:00:00.000000000"
         ],
         "y": {
          "bdata": "f+UJp28zHkBMt9G7xwgeQBqJmdAf3h1A51ph5XezHUC0LCn6z4gdQIH+8A4oXh1AT9C4I4AzHUAcooA42AgdQOlzSE0w3hxAtkUQYoizHECEF9h24IgcQFHpn4s4XhxAHrtnoJAzHEDsjC+16AgcQLle98lA3htAhjC/3pizG0BTAofz8IgbQCHUTghJXhtA7qUWHaEzG0C7d94x+QgbQIhJpkZR3hpAVhtuW6mzGkAj7TVwAYkaQPC+/YRZXhpAvpDFmbEzGkCLYo2uCQkaQFg0VcNh3hlAJgYd2LmzGUDz1+TsEYkZQMCprAFqXhlAjXt0FsIzGUBaTTwrGgkZQCgfBEBy3hhA9fDLVMqzGEDCwpNpIokYQJCUW356XhhAXWYjk9IzGEAqOOunKgkYQPgJs7yC3hdAxdt60dqzF0CSrULmMokXQF9/CvuKXhdALFHSD+MzF0D6IpokOwkXQMf0YTmT3hZAlMYpTuuzFkBimPFiQ4kWQC9quXebXhZA/DuBjPMzFkDKDUmhSwkWQJbfELaj3hVAZLHYyvuzFUAxg6DfU4kVQA==",
          "dtype": "f8"
         }
        }
       ],
       "layout": {
        "height": 400,
        "legend": {
         "orientation": "h",
         "x": 0.5,
         "xanchor": "center",
         "y": -0.4,
         "yanchor": "bottom"
        },
        "showlegend": true,
        "template": {
         "data": {
          "bar": [
           {
            "error_x": {
             "color": "#2a3f5f"
            },
            "error_y": {
             "color": "#2a3f5f"
            },
            "marker": {
             "line": {
              "color": "white",
              "width": 0.5
             },
             "pattern": {
              "fillmode": "overlay",
              "size": 10,
              "solidity": 0.2
             }
            },
            "type": "bar"
           }
          ],
          "barpolar": [
           {
            "marker": {
             "line": {
              "color": "white",
              "width": 0.5
             },
             "pattern": {
              "fillmode": "overlay",
              "size": 10,
              "solidity": 0.2
             }
            },
            "type": "barpolar"
           }
          ],
          "carpet": [
           {
            "aaxis": {
             "endlinecolor": "#2a3f5f",
             "gridcolor": "#C8D4E3",
             "linecolor": "#C8D4E3",
             "minorgridcolor": "#C8D4E3",
             "startlinecolor": "#2a3f5f"
            },
            "baxis": {
             "endlinecolor": "#2a3f5f",
             "gridcolor": "#C8D4E3",
             "linecolor": "#C8D4E3",
             "minorgridcolor": "#C8D4E3",
             "startlinecolor": "#2a3f5f"
            },
            "type": "carpet"
           }
          ],
          "choropleth": [
           {
            "colorbar": {
             "outlinewidth": 0,
             "ticks": ""
            },
            "type": "choropleth"
           }
          ],
          "contour": [
           {
            "colorbar": {
             "outlinewidth": 0,
             "ticks": ""
            },
            "colorscale": [
             [
              0,
              "#0d0887"
             ],
             [
              0.1111111111111111,
              "#46039f"
             ],
             [
              0.2222222222222222,
              "#7201a8"
             ],
             [
              0.3333333333333333,
              "#9c179e"
             ],
             [
              0.4444444444444444,
              "#bd3786"
             ],
             [
              0.5555555555555556,
              "#d8576b"
             ],
             [
              0.6666666666666666,
              "#ed7953"
             ],
             [
              0.7777777777777778,
              "#fb9f3a"
             ],
             [
              0.8888888888888888,
              "#fdca26"
             ],
             [
              1,
              "#f0f921"
             ]
            ],
            "type": "contour"
           }
          ],
          "contourcarpet": [
           {
            "colorbar": {
             "outlinewidth": 0,
             "ticks": ""
            },
            "type": "contourcarpet"
           }
          ],
          "heatmap": [
           {
            "colorbar": {
             "outlinewidth": 0,
             "ticks": ""
            },
            "colorscale": [
             [
              0,
              "#0d0887"
             ],
             [
              0.1111111111111111,
              "#46039f"
             ],
             [
              0.2222222222222222,
              "#7201a8"
             ],
             [
              0.3333333333333333,
              "#9c179e"
             ],
             [
              0.4444444444444444,
              "#bd3786"
             ],
             [
              0.5555555555555556,
              "#d8576b"
             ],
             [
              0.6666666666666666,
              "#ed7953"
             ],
             [
              0.7777777777777778,
              "#fb9f3a"
             ],
             [
              0.8888888888888888,
              "#fdca26"
             ],
             [
              1,
              "#f0f921"
             ]
            ],
            "type": "heatmap"
           }
          ],
          "histogram": [
           {
            "marker": {
             "pattern": {
              "fillmode": "overlay",
              "size": 10,
              "solidity": 0.2
             }
            },
            "type": "histogram"
           }
          ],
          "histogram2d": [
           {
            "colorbar": {
             "outlinewidth": 0,
             "ticks": ""
            },
            "colorscale": [
             [
              0,
              "#0d0887"
             ],
             [
              0.1111111111111111,
              "#46039f"
             ],
             [
              0.2222222222222222,
              "#7201a8"
             ],
             [
              0.3333333333333333,
              "#9c179e"
             ],
             [
              0.4444444444444444,
              "#bd3786"
             ],
             [
              0.5555555555555556,
              "#d8576b"
             ],
             [
              0.6666666666666666,
              "#ed7953"
             ],
             [
              0.7777777777777778,
              "#fb9f3a"
             ],
             [
              0.8888888888888888,
              "#fdca26"
             ],
             [
              1,
              "#f0f921"
             ]
            ],
            "type": "histogram2d"
           }
          ],
          "histogram2dcontour": [
           {
            "colorbar": {
             "outlinewidth": 0,
             "ticks": ""
            },
            "colorscale": [
             [
              0,
              "#0d0887"
             ],
             [
              0.1111111111111111,
              "#46039f"
             ],
             [
              0.2222222222222222,
              "#7201a8"
             ],
             [
              0.3333333333333333,
              "#9c179e"
             ],
             [
              0.4444444444444444,
              "#bd3786"
             ],
             [
              0.5555555555555556,
              "#d8576b"
             ],
             [
              0.6666666666666666,
              "#ed7953"
             ],
             [
              0.7777777777777778,
              "#fb9f3a"
             ],
             [
              0.8888888888888888,
              "#fdca26"
             ],
             [
              1,
              "#f0f921"
             ]
            ],
            "type": "histogram2dcontour"
           }
          ],
          "mesh3d": [
           {
            "colorbar": {
             "outlinewidth": 0,
             "ticks": ""
            },
            "type": "mesh3d"
           }
          ],
          "parcoords": [
           {
            "line": {
             "colorbar": {
              "outlinewidth": 0,
              "ticks": ""
             }
            },
            "type": "parcoords"
           }
          ],
          "pie": [
           {
            "automargin": true,
            "type": "pie"
           }
          ],
          "scatter": [
           {
            "fillpattern": {
             "fillmode": "overlay",
             "size": 10,
             "solidity": 0.2
            },
            "type": "scatter"
           }
          ],
          "scatter3d": [
           {
            "line": {
             "colorbar": {
              "outlinewidth": 0,
              "ticks": ""
             }
            },
            "marker": {
             "colorbar": {
              "outlinewidth": 0,
              "ticks": ""
             }
            },
            "type": "scatter3d"
           }
          ],
          "scattercarpet": [
           {
            "marker": {
             "colorbar": {
              "outlinewidth": 0,
              "ticks": ""
             }
            },
            "type": "scattercarpet"
           }
          ],
          "scattergeo": [
           {
            "marker": {
             "colorbar": {
              "outlinewidth": 0,
              "ticks": ""
             }
            },
            "type": "scattergeo"
           }
          ],
          "scattergl": [
           {
            "marker": {
             "colorbar": {
              "outlinewidth": 0,
              "ticks": ""
             }
            },
            "type": "scattergl"
           }
          ],
          "scattermap": [
           {
            "marker": {
             "colorbar": {
              "outlinewidth": 0,
              "ticks": ""
             }
            },
            "type": "scattermap"
           }
          ],
          "scattermapbox": [
           {
            "marker": {
             "colorbar": {
              "outlinewidth": 0,
              "ticks": ""
             }
            },
            "type": "scattermapbox"
           }
          ],
          "scatterpolar": [
           {
            "marker": {
             "colorbar": {
              "outlinewidth": 0,
              "ticks": ""
             }
            },
            "type": "scatterpolar"
           }
          ],
          "scatterpolargl": [
           {
            "marker": {
             "colorbar": {
              "outlinewidth": 0,
              "ticks": ""
             }
            },
            "type": "scatterpolargl"
           }
          ],
          "scatterternary": [
           {
            "marker": {
             "colorbar": {
              "outlinewidth": 0,
              "ticks": ""
             }
            },
            "type": "scatterternary"
           }
          ],
          "surface": [
           {
            "colorbar": {
             "outlinewidth": 0,
             "ticks": ""
            },
            "colorscale": [
             [
              0,
              "#0d0887"
             ],
             [
              0.1111111111111111,
              "#46039f"
             ],
             [
              0.2222222222222222,
              "#7201a8"
             ],
             [
              0.3333333333333333,
              "#9c179e"
             ],
             [
              0.4444444444444444,
              "#bd3786"
             ],
             [
              0.5555555555555556,
              "#d8576b"
             ],
             [
              0.6666666666666666,
              "#ed7953"
             ],
             [
              0.7777777777777778,
              "#fb9f3a"
             ],
             [
              0.8888888888888888,
              "#fdca26"
             ],
             [
              1,
              "#f0f921"
             ]
            ],
            "type": "surface"
           }
          ],
          "table": [
           {
            "cells": {
             "fill": {
              "color": "#EBF0F8"
             },
             "line": {
              "color": "white"
             }
            },
            "header": {
             "fill": {
              "color": "#C8D4E3"
             },
             "line": {
              "color": "white"
             }
            },
            "type": "table"
           }
          ]
         },
         "layout": {
          "annotationdefaults": {
           "arrowcolor": "#2a3f5f",
           "arrowhead": 0,
           "arrowwidth": 1
          },
          "autotypenumbers": "strict",
          "coloraxis": {
           "colorbar": {
            "outlinewidth": 0,
            "ticks": ""
           }
          },
          "colorscale": {
           "diverging": [
            [
             0,
             "#8e0152"
            ],
            [
             0.1,
             "#c51b7d"
            ],
            [
             0.2,
             "#de77ae"
            ],
            [
             0.3,
             "#f1b6da"
            ],
            [
             0.4,
             "#fde0ef"
            ],
            [
             0.5,
             "#f7f7f7"
            ],
            [
             0.6,
             "#e6f5d0"
            ],
            [
             0.7,
             "#b8e186"
            ],
            [
             0.8,
             "#7fbc41"
            ],
            [
             0.9,
             "#4d9221"
            ],
            [
             1,
             "#276419"
            ]
           ],
           "sequential": [
            [
             0,
             "#0d0887"
            ],
            [
             0.1111111111111111,
             "#46039f"
            ],
            [
             0.2222222222222222,
             "#7201a8"
            ],
            [
             0.3333333333333333,
             "#9c179e"
            ],
            [
             0.4444444444444444,
             "#bd3786"
            ],
            [
             0.5555555555555556,
             "#d8576b"
            ],
            [
             0.6666666666666666,
             "#ed7953"
            ],
            [
             0.7777777777777778,
             "#fb9f3a"
            ],
            [
             0.8888888888888888,
             "#fdca26"
            ],
            [
             1,
             "#f0f921"
            ]
           ],
           "sequentialminus": [
            [
             0,
             "#0d0887"
            ],
            [
             0.1111111111111111,
             "#46039f"
            ],
            [
             0.2222222222222222,
             "#7201a8"
            ],
            [
             0.3333333333333333,
             "#9c179e"
            ],
            [
             0.4444444444444444,
             "#bd3786"
            ],
            [
             0.5555555555555556,
             "#d8576b"
            ],
            [
             0.6666666666666666,
             "#ed7953"
            ],
            [
             0.7777777777777778,
             "#fb9f3a"
            ],
            [
             0.8888888888888888,
             "#fdca26"
            ],
            [
             1,
             "#f0f921"
            ]
           ]
          },
          "colorway": [
           "#636efa",
           "#EF553B",
           "#00cc96",
           "#ab63fa",
           "#FFA15A",
           "#19d3f3",
           "#FF6692",
           "#B6E880",
           "#FF97FF",
           "#FECB52"
          ],
          "font": {
           "color": "#2a3f5f"
          },
          "geo": {
           "bgcolor": "white",
           "lakecolor": "white",
           "landcolor": "white",
           "showlakes": true,
           "showland": true,
           "subunitcolor": "#C8D4E3"
          },
          "hoverlabel": {
           "align": "left"
          },
          "hovermode": "closest",
          "mapbox": {
           "style": "light"
          },
          "paper_bgcolor": "white",
          "plot_bgcolor": "white",
          "polar": {
           "angularaxis": {
            "gridcolor": "#EBF0F8",
            "linecolor": "#EBF0F8",
            "ticks": ""
           },
           "bgcolor": "white",
           "radialaxis": {
            "gridcolor": "#EBF0F8",
            "linecolor": "#EBF0F8",
            "ticks": ""
           }
          },
          "scene": {
           "xaxis": {
            "backgroundcolor": "white",
            "gridcolor": "#DFE8F3",
            "gridwidth": 2,
            "linecolor": "#EBF0F8",
            "showbackground": true,
            "ticks": "",
            "zerolinecolor": "#EBF0F8"
           },
           "yaxis": {
            "backgroundcolor": "white",
            "gridcolor": "#DFE8F3",
            "gridwidth": 2,
            "linecolor": "#EBF0F8",
            "showbackground": true,
            "ticks": "",
            "zerolinecolor": "#EBF0F8"
           },
           "zaxis": {
            "backgroundcolor": "white",
            "gridcolor": "#DFE8F3",
            "gridwidth": 2,
            "linecolor": "#EBF0F8",
            "showbackground": true,
            "ticks": "",
            "zerolinecolor": "#EBF0F8"
           }
          },
          "shapedefaults": {
           "line": {
            "color": "#2a3f5f"
           }
          },
          "ternary": {
           "aaxis": {
            "gridcolor": "#DFE8F3",
            "linecolor": "#A2B1C6",
            "ticks": ""
           },
           "baxis": {
            "gridcolor": "#DFE8F3",
            "linecolor": "#A2B1C6",
            "ticks": ""
           },
           "bgcolor": "white",
           "caxis": {
            "gridcolor": "#DFE8F3",
            "linecolor": "#A2B1C6",
            "ticks": ""
           }
          },
          "title": {
           "x": 0.05
          },
          "xaxis": {
           "automargin": true,
           "gridcolor": "#EBF0F8",
           "linecolor": "#EBF0F8",
           "ticks": "",
           "title": {
            "standoff": 15
           },
           "zerolinecolor": "#EBF0F8",
           "zerolinewidth": 2
          },
          "yaxis": {
           "automargin": true,
           "gridcolor": "#EBF0F8",
           "linecolor": "#EBF0F8",
           "ticks": "",
           "title": {
            "standoff": 15
           },
           "zerolinecolor": "#EBF0F8",
           "zerolinewidth": 2
          }
         }
        },
        "title": {
         "text": "Tendencia de Horas Extra - Sales"
        },
        "xaxis": {
         "title": {
          "text": "Fecha"
         }
        },
        "yaxis": {
         "title": {
          "text": "Horas Extra"
         }
        }
       }
      }
     },
     "metadata": {},
     "output_type": "display_data"
    },
    {
     "name": "stdout",
     "output_type": "stream",
     "text": [
      "Visualización completada para Sales\n",
      "\n",
      "Todas las visualizaciones han sido generadas.\n"
     ]
    }
   ],
   "source": [
    "def Prueba_Dickey_Fuller(series, department, column_name):\n",
    "    \"\"\"\n",
    "    Realiza la prueba de Dickey-Fuller para analizar estacionaridad\n",
    "    \"\"\"\n",
    "    print(f'\\nAnálisis de Estacionalidad para {department}')\n",
    "    print(f'Resultados de la prueba de Dickey-Fuller para columna: {column_name}')\n",
    "    \n",
    "    # Realizar la prueba de Dickey-Fuller\n",
    "    dftest = adfuller(series, autolag='AIC')\n",
    "    \n",
    "    # Crear una serie de pandas con los resultados principales\n",
    "    dfoutput = pd.Series(dftest[0:4], index=['Test Statistic', 'p-value', 'No Lags Used', \n",
    "                                            'Número de observaciones utilizadas'])\n",
    "    \n",
    "    # Agregar los valores críticos al resultado\n",
    "    for key, value in dftest[4].items():\n",
    "        dfoutput[f'Critical Value ({key})'] = value\n",
    "    \n",
    "    # Mostrar los resultados\n",
    "    print(dfoutput)\n",
    "    \n",
    "    # Interpretar los resultados\n",
    "    if dftest[1] <= 0.05:\n",
    "        conclusion = \"Los datos son estacionarios, no requieren diferenciación\"\n",
    "        decision = \"Rechazar la hipótesis nula\"\n",
    "    else:\n",
    "        conclusion = \"Los datos no son estacionarios, requieren diferenciación\"\n",
    "        decision = \"No se puede rechazar la hipótesis nula\"\n",
    "    \n",
    "    print(\"\\nConclusión:====>\")\n",
    "    print(decision)\n",
    "    print(conclusion)\n",
    "    \n",
    "    return {\n",
    "        'department': department,\n",
    "        'test_statistic': dftest[0],\n",
    "        'p_value': dftest[1],\n",
    "        'is_stationary': dftest[1] <= 0.05\n",
    "    }\n",
    "\n",
    "# Realizar análisis de estacionaridad para cada departamento\n",
    "adf_results = []\n",
    "for department in historical_data['department'].unique():\n",
    "    dept_data = historical_data[historical_data['department'] == department]\n",
    "    \n",
    "    if len(dept_data) < 10:\n",
    "        print(f\"\\nAdvertencia: Datos insuficientes para {department}\")\n",
    "        continue\n",
    "        \n",
    "    result = Prueba_Dickey_Fuller(\n",
    "        dept_data[\"total_overtime\"],\n",
    "        department,\n",
    "        \"total_overtime\"\n",
    "    )\n",
    "    adf_results.append(result)\n",
    "\n",
    "# Crear DataFrame con resultados\n",
    "adf_df = pd.DataFrame(adf_results)\n",
    "print(\"\\nResumen de Estacionaridad por Departamento:\")\n",
    "display(adf_df)\n",
    "\n",
    "def plot_single_department(historical_data, department):\n",
    "    \"\"\"Visualiza tendencia para un departamento específico\"\"\"\n",
    "    dept_data = historical_data[historical_data['department'] == department]\n",
    "    \n",
    "    # Crear figura\n",
    "    fig = go.Figure()\n",
    "    \n",
    "    # Ajustar línea de tendencia\n",
    "    z = np.polyfit(range(len(dept_data)), dept_data['total_overtime'], 1)\n",
    "    trend = np.poly1d(z)\n",
    "    \n",
    "    # Datos históricos\n",
    "    fig.add_trace(\n",
    "        go.Scatter(\n",
    "            x=dept_data['work_date'],\n",
    "            y=dept_data['total_overtime'],\n",
    "            name='Histórico',\n",
    "            mode='lines+markers',\n",
    "            line=dict(color='blue')\n",
    "        )\n",
    "    )\n",
    "    \n",
    "    # Línea de tendencia\n",
    "    fig.add_trace(\n",
    "        go.Scatter(\n",
    "            x=dept_data['work_date'],\n",
    "            y=trend(range(len(dept_data))),\n",
    "            name='Tendencia',\n",
    "            mode='lines',\n",
    "            line=dict(color='red', dash='dash')\n",
    "        )\n",
    "    )\n",
    "    \n",
    "    # Actualizar diseño\n",
    "    fig.update_layout(\n",
    "        title=f'Tendencia de Horas Extra - {department}',\n",
    "        xaxis_title=\"Fecha\",\n",
    "        yaxis_title=\"Horas Extra\",\n",
    "        template='plotly_white',\n",
    "        showlegend=True,\n",
    "        height=400,\n",
    "        legend=dict(\n",
    "            orientation=\"h\",\n",
    "            yanchor=\"bottom\",\n",
    "            y=-0.4,\n",
    "            xanchor=\"center\",\n",
    "            x=0.5\n",
    "        )\n",
    "    )\n",
    "    \n",
    "    return fig\n",
    "\n",
    "# Generar y mostrar visualizaciones individuales\n",
    "print(\"\\nGenerando visualizaciones individuales...\")\n",
    "for department in historical_data['department'].unique():\n",
    "    fig = plot_single_department(historical_data, department)\n",
    "    fig.show()\n",
    "    print(f\"Visualización completada para {department}\")\n",
    "\n",
    "print(\"\\nTodas las visualizaciones han sido generadas.\")\n"
   ]
  },
  {
   "cell_type": "markdown",
   "id": "9b6e79e4",
   "metadata": {},
   "source": [
    "### 3.2. Evaluar Estacionalidad"
   ]
  },
  {
   "cell_type": "code",
   "execution_count": 143,
   "id": "1d03e01c",
   "metadata": {},
   "outputs": [
    {
     "name": "stdout",
     "output_type": "stream",
     "text": [
      "\n",
      "Analizando Finance...\n"
     ]
    },
    {
     "name": "stdout",
     "output_type": "stream",
     "text": [
      "\n",
      "Resultados del análisis de estacionalidad para Finance:\n",
      "----------------------------------------------------------------------\n",
      "Tipo de estacionalidad: No detectada\n",
      "Fuerza de la estacionalidad: 0.00\n",
      "Lags significativos: []\n"
     ]
    },
    {
     "data": {
      "application/vnd.plotly.v1+json": {
       "config": {
        "plotlyServerURL": "https://plot.ly"
       },
       "data": [
        {
         "line": {
          "color": "blue"
         },
         "mode": "lines",
         "name": "ACF",
         "type": "scatter",
         "x": {
          "bdata": "AAAAAAEAAAACAAAAAwAAAAQAAAAFAAAABgAAAAcAAAAIAAAACQAAAAoAAAALAAAADAAAAA0AAAAOAAAADwAAABAAAAARAAAAEgAAABMAAAAUAAAAFQAAABYAAAAXAAAAGAAAABkAAAAaAAAAGwAAABwAAAAdAAAAHgAAAB8AAAAgAAAAIQAAACIAAAAjAAAAJAAAACUAAAAmAAAAJwAAACgAAAApAAAAKgAAACsAAAAsAAAALQAAAC4AAAAvAAAAMAAAADEAAAAyAAAAMwAAADQAAAA=",
          "dtype": "i4"
         },
         "y": {
          "bdata": "AAAAAAAA8D98TtpJ+yXNP/2UdXsUqrQ/e6Gdzlh4rD9XHRHw+3+PPyDIrHIEV7s/BF26kgnzwb/69pLJMZHBvyudbqs9cs6/TxZCLVVtvL+vyo2l3Y55P6fCm+R5Aau/XbTC0ocdwj9eC2euMoDAP1rvkCsCZsM/IrB7GAbpl7+/IFterZ67PzRv9qNbXIg/5hv2Rnqzwj8uvoLlcMi2P1FaNqBXqcu/mJaUqgD1vr8jIzYKo2fAv1gY9e/F656/2mo2hDwDsL//UaUpTpzOv9PniaaW25U/Q1Hq2vIvsr+h2j5zvnK5P1w6G+bl34I/e0vRgLHtnj/Mgyvk0A7APzW//VmHc5a/QKjLidZuo78lKH74vIC8v8xOCsFH8Ly/l3lLO2RkrL+oPsk29dGjv73A2t00vLW/Fi/m3O7FsL+HbfOrDfORPxP5CV3zlZu//2gwJOeKwj/w1OV4J3mEv7GezhiGEqW/XhnXXM+xjz8xCnIty4aeP+mHwlLNik2/ALP+8xsntL8+SijVMTWZPz47otgmqTi/UDvAvxMqrb8c6yxDp+abPw==",
          "dtype": "f8"
         }
        },
        {
         "line": {
          "color": "red",
          "dash": "dash"
         },
         "mode": "lines",
         "name": "Límite de confianza superior",
         "type": "scatter",
         "x": {
          "bdata": "AAAAAAEAAAACAAAAAwAAAAQAAAAFAAAABgAAAAcAAAAIAAAACQAAAAoAAAALAAAADAAAAA0AAAAOAAAADwAAABAAAAARAAAAEgAAABMAAAAUAAAAFQAAABYAAAAXAAAAGAAAABkAAAAaAAAAGwAAABwAAAAdAAAAHgAAAB8AAAAgAAAAIQAAACIAAAAjAAAAJAAAACUAAAAmAAAAJwAAACgAAAApAAAAKgAAACsAAAAsAAAALQAAAC4AAAAvAAAAMAAAADEAAAAyAAAAMwAAADQAAAA=",
          "dtype": "i4"
         },
         "y": [
          0.2692267053394305,
          0.2692267053394305,
          0.2692267053394305,
          0.2692267053394305,
          0.2692267053394305,
          0.2692267053394305,
          0.2692267053394305,
          0.2692267053394305,
          0.2692267053394305,
          0.2692267053394305,
          0.2692267053394305,
          0.2692267053394305,
          0.2692267053394305,
          0.2692267053394305,
          0.2692267053394305,
          0.2692267053394305,
          0.2692267053394305,
          0.2692267053394305,
          0.2692267053394305,
          0.2692267053394305,
          0.2692267053394305,
          0.2692267053394305,
          0.2692267053394305,
          0.2692267053394305,
          0.2692267053394305,
          0.2692267053394305,
          0.2692267053394305,
          0.2692267053394305,
          0.2692267053394305,
          0.2692267053394305,
          0.2692267053394305,
          0.2692267053394305,
          0.2692267053394305,
          0.2692267053394305,
          0.2692267053394305,
          0.2692267053394305,
          0.2692267053394305,
          0.2692267053394305,
          0.2692267053394305,
          0.2692267053394305,
          0.2692267053394305,
          0.2692267053394305,
          0.2692267053394305,
          0.2692267053394305,
          0.2692267053394305,
          0.2692267053394305,
          0.2692267053394305,
          0.2692267053394305,
          0.2692267053394305,
          0.2692267053394305,
          0.2692267053394305,
          0.2692267053394305,
          0.2692267053394305
         ]
        },
        {
         "line": {
          "color": "red",
          "dash": "dash"
         },
         "mode": "lines",
         "name": "Límite de confianza inferior",
         "type": "scatter",
         "x": {
          "bdata": "AAAAAAEAAAACAAAAAwAAAAQAAAAFAAAABgAAAAcAAAAIAAAACQAAAAoAAAALAAAADAAAAA0AAAAOAAAADwAAABAAAAARAAAAEgAAABMAAAAUAAAAFQAAABYAAAAXAAAAGAAAABkAAAAaAAAAGwAAABwAAAAdAAAAHgAAAB8AAAAgAAAAIQAAACIAAAAjAAAAJAAAACUAAAAmAAAAJwAAACgAAAApAAAAKgAAACsAAAAsAAAALQAAAC4AAAAvAAAAMAAAADEAAAAyAAAAMwAAADQAAAA=",
          "dtype": "i4"
         },
         "y": [
          -0.2692267053394305,
          -0.2692267053394305,
          -0.2692267053394305,
          -0.2692267053394305,
          -0.2692267053394305,
          -0.2692267053394305,
          -0.2692267053394305,
          -0.2692267053394305,
          -0.2692267053394305,
          -0.2692267053394305,
          -0.2692267053394305,
          -0.2692267053394305,
          -0.2692267053394305,
          -0.2692267053394305,
          -0.2692267053394305,
          -0.2692267053394305,
          -0.2692267053394305,
          -0.2692267053394305,
          -0.2692267053394305,
          -0.2692267053394305,
          -0.2692267053394305,
          -0.2692267053394305,
          -0.2692267053394305,
          -0.2692267053394305,
          -0.2692267053394305,
          -0.2692267053394305,
          -0.2692267053394305,
          -0.2692267053394305,
          -0.2692267053394305,
          -0.2692267053394305,
          -0.2692267053394305,
          -0.2692267053394305,
          -0.2692267053394305,
          -0.2692267053394305,
          -0.2692267053394305,
          -0.2692267053394305,
          -0.2692267053394305,
          -0.2692267053394305,
          -0.2692267053394305,
          -0.2692267053394305,
          -0.2692267053394305,
          -0.2692267053394305,
          -0.2692267053394305,
          -0.2692267053394305,
          -0.2692267053394305,
          -0.2692267053394305,
          -0.2692267053394305,
          -0.2692267053394305,
          -0.2692267053394305,
          -0.2692267053394305,
          -0.2692267053394305,
          -0.2692267053394305,
          -0.2692267053394305
         ]
        }
       ],
       "layout": {
        "height": 400,
        "legend": {
         "orientation": "h",
         "x": 0.5,
         "xanchor": "center",
         "y": -0.4,
         "yanchor": "bottom"
        },
        "showlegend": true,
        "template": {
         "data": {
          "bar": [
           {
            "error_x": {
             "color": "#2a3f5f"
            },
            "error_y": {
             "color": "#2a3f5f"
            },
            "marker": {
             "line": {
              "color": "white",
              "width": 0.5
             },
             "pattern": {
              "fillmode": "overlay",
              "size": 10,
              "solidity": 0.2
             }
            },
            "type": "bar"
           }
          ],
          "barpolar": [
           {
            "marker": {
             "line": {
              "color": "white",
              "width": 0.5
             },
             "pattern": {
              "fillmode": "overlay",
              "size": 10,
              "solidity": 0.2
             }
            },
            "type": "barpolar"
           }
          ],
          "carpet": [
           {
            "aaxis": {
             "endlinecolor": "#2a3f5f",
             "gridcolor": "#C8D4E3",
             "linecolor": "#C8D4E3",
             "minorgridcolor": "#C8D4E3",
             "startlinecolor": "#2a3f5f"
            },
            "baxis": {
             "endlinecolor": "#2a3f5f",
             "gridcolor": "#C8D4E3",
             "linecolor": "#C8D4E3",
             "minorgridcolor": "#C8D4E3",
             "startlinecolor": "#2a3f5f"
            },
            "type": "carpet"
           }
          ],
          "choropleth": [
           {
            "colorbar": {
             "outlinewidth": 0,
             "ticks": ""
            },
            "type": "choropleth"
           }
          ],
          "contour": [
           {
            "colorbar": {
             "outlinewidth": 0,
             "ticks": ""
            },
            "colorscale": [
             [
              0,
              "#0d0887"
             ],
             [
              0.1111111111111111,
              "#46039f"
             ],
             [
              0.2222222222222222,
              "#7201a8"
             ],
             [
              0.3333333333333333,
              "#9c179e"
             ],
             [
              0.4444444444444444,
              "#bd3786"
             ],
             [
              0.5555555555555556,
              "#d8576b"
             ],
             [
              0.6666666666666666,
              "#ed7953"
             ],
             [
              0.7777777777777778,
              "#fb9f3a"
             ],
             [
              0.8888888888888888,
              "#fdca26"
             ],
             [
              1,
              "#f0f921"
             ]
            ],
            "type": "contour"
           }
          ],
          "contourcarpet": [
           {
            "colorbar": {
             "outlinewidth": 0,
             "ticks": ""
            },
            "type": "contourcarpet"
           }
          ],
          "heatmap": [
           {
            "colorbar": {
             "outlinewidth": 0,
             "ticks": ""
            },
            "colorscale": [
             [
              0,
              "#0d0887"
             ],
             [
              0.1111111111111111,
              "#46039f"
             ],
             [
              0.2222222222222222,
              "#7201a8"
             ],
             [
              0.3333333333333333,
              "#9c179e"
             ],
             [
              0.4444444444444444,
              "#bd3786"
             ],
             [
              0.5555555555555556,
              "#d8576b"
             ],
             [
              0.6666666666666666,
              "#ed7953"
             ],
             [
              0.7777777777777778,
              "#fb9f3a"
             ],
             [
              0.8888888888888888,
              "#fdca26"
             ],
             [
              1,
              "#f0f921"
             ]
            ],
            "type": "heatmap"
           }
          ],
          "histogram": [
           {
            "marker": {
             "pattern": {
              "fillmode": "overlay",
              "size": 10,
              "solidity": 0.2
             }
            },
            "type": "histogram"
           }
          ],
          "histogram2d": [
           {
            "colorbar": {
             "outlinewidth": 0,
             "ticks": ""
            },
            "colorscale": [
             [
              0,
              "#0d0887"
             ],
             [
              0.1111111111111111,
              "#46039f"
             ],
             [
              0.2222222222222222,
              "#7201a8"
             ],
             [
              0.3333333333333333,
              "#9c179e"
             ],
             [
              0.4444444444444444,
              "#bd3786"
             ],
             [
              0.5555555555555556,
              "#d8576b"
             ],
             [
              0.6666666666666666,
              "#ed7953"
             ],
             [
              0.7777777777777778,
              "#fb9f3a"
             ],
             [
              0.8888888888888888,
              "#fdca26"
             ],
             [
              1,
              "#f0f921"
             ]
            ],
            "type": "histogram2d"
           }
          ],
          "histogram2dcontour": [
           {
            "colorbar": {
             "outlinewidth": 0,
             "ticks": ""
            },
            "colorscale": [
             [
              0,
              "#0d0887"
             ],
             [
              0.1111111111111111,
              "#46039f"
             ],
             [
              0.2222222222222222,
              "#7201a8"
             ],
             [
              0.3333333333333333,
              "#9c179e"
             ],
             [
              0.4444444444444444,
              "#bd3786"
             ],
             [
              0.5555555555555556,
              "#d8576b"
             ],
             [
              0.6666666666666666,
              "#ed7953"
             ],
             [
              0.7777777777777778,
              "#fb9f3a"
             ],
             [
              0.8888888888888888,
              "#fdca26"
             ],
             [
              1,
              "#f0f921"
             ]
            ],
            "type": "histogram2dcontour"
           }
          ],
          "mesh3d": [
           {
            "colorbar": {
             "outlinewidth": 0,
             "ticks": ""
            },
            "type": "mesh3d"
           }
          ],
          "parcoords": [
           {
            "line": {
             "colorbar": {
              "outlinewidth": 0,
              "ticks": ""
             }
            },
            "type": "parcoords"
           }
          ],
          "pie": [
           {
            "automargin": true,
            "type": "pie"
           }
          ],
          "scatter": [
           {
            "fillpattern": {
             "fillmode": "overlay",
             "size": 10,
             "solidity": 0.2
            },
            "type": "scatter"
           }
          ],
          "scatter3d": [
           {
            "line": {
             "colorbar": {
              "outlinewidth": 0,
              "ticks": ""
             }
            },
            "marker": {
             "colorbar": {
              "outlinewidth": 0,
              "ticks": ""
             }
            },
            "type": "scatter3d"
           }
          ],
          "scattercarpet": [
           {
            "marker": {
             "colorbar": {
              "outlinewidth": 0,
              "ticks": ""
             }
            },
            "type": "scattercarpet"
           }
          ],
          "scattergeo": [
           {
            "marker": {
             "colorbar": {
              "outlinewidth": 0,
              "ticks": ""
             }
            },
            "type": "scattergeo"
           }
          ],
          "scattergl": [
           {
            "marker": {
             "colorbar": {
              "outlinewidth": 0,
              "ticks": ""
             }
            },
            "type": "scattergl"
           }
          ],
          "scattermap": [
           {
            "marker": {
             "colorbar": {
              "outlinewidth": 0,
              "ticks": ""
             }
            },
            "type": "scattermap"
           }
          ],
          "scattermapbox": [
           {
            "marker": {
             "colorbar": {
              "outlinewidth": 0,
              "ticks": ""
             }
            },
            "type": "scattermapbox"
           }
          ],
          "scatterpolar": [
           {
            "marker": {
             "colorbar": {
              "outlinewidth": 0,
              "ticks": ""
             }
            },
            "type": "scatterpolar"
           }
          ],
          "scatterpolargl": [
           {
            "marker": {
             "colorbar": {
              "outlinewidth": 0,
              "ticks": ""
             }
            },
            "type": "scatterpolargl"
           }
          ],
          "scatterternary": [
           {
            "marker": {
             "colorbar": {
              "outlinewidth": 0,
              "ticks": ""
             }
            },
            "type": "scatterternary"
           }
          ],
          "surface": [
           {
            "colorbar": {
             "outlinewidth": 0,
             "ticks": ""
            },
            "colorscale": [
             [
              0,
              "#0d0887"
             ],
             [
              0.1111111111111111,
              "#46039f"
             ],
             [
              0.2222222222222222,
              "#7201a8"
             ],
             [
              0.3333333333333333,
              "#9c179e"
             ],
             [
              0.4444444444444444,
              "#bd3786"
             ],
             [
              0.5555555555555556,
              "#d8576b"
             ],
             [
              0.6666666666666666,
              "#ed7953"
             ],
             [
              0.7777777777777778,
              "#fb9f3a"
             ],
             [
              0.8888888888888888,
              "#fdca26"
             ],
             [
              1,
              "#f0f921"
             ]
            ],
            "type": "surface"
           }
          ],
          "table": [
           {
            "cells": {
             "fill": {
              "color": "#EBF0F8"
             },
             "line": {
              "color": "white"
             }
            },
            "header": {
             "fill": {
              "color": "#C8D4E3"
             },
             "line": {
              "color": "white"
             }
            },
            "type": "table"
           }
          ]
         },
         "layout": {
          "annotationdefaults": {
           "arrowcolor": "#2a3f5f",
           "arrowhead": 0,
           "arrowwidth": 1
          },
          "autotypenumbers": "strict",
          "coloraxis": {
           "colorbar": {
            "outlinewidth": 0,
            "ticks": ""
           }
          },
          "colorscale": {
           "diverging": [
            [
             0,
             "#8e0152"
            ],
            [
             0.1,
             "#c51b7d"
            ],
            [
             0.2,
             "#de77ae"
            ],
            [
             0.3,
             "#f1b6da"
            ],
            [
             0.4,
             "#fde0ef"
            ],
            [
             0.5,
             "#f7f7f7"
            ],
            [
             0.6,
             "#e6f5d0"
            ],
            [
             0.7,
             "#b8e186"
            ],
            [
             0.8,
             "#7fbc41"
            ],
            [
             0.9,
             "#4d9221"
            ],
            [
             1,
             "#276419"
            ]
           ],
           "sequential": [
            [
             0,
             "#0d0887"
            ],
            [
             0.1111111111111111,
             "#46039f"
            ],
            [
             0.2222222222222222,
             "#7201a8"
            ],
            [
             0.3333333333333333,
             "#9c179e"
            ],
            [
             0.4444444444444444,
             "#bd3786"
            ],
            [
             0.5555555555555556,
             "#d8576b"
            ],
            [
             0.6666666666666666,
             "#ed7953"
            ],
            [
             0.7777777777777778,
             "#fb9f3a"
            ],
            [
             0.8888888888888888,
             "#fdca26"
            ],
            [
             1,
             "#f0f921"
            ]
           ],
           "sequentialminus": [
            [
             0,
             "#0d0887"
            ],
            [
             0.1111111111111111,
             "#46039f"
            ],
            [
             0.2222222222222222,
             "#7201a8"
            ],
            [
             0.3333333333333333,
             "#9c179e"
            ],
            [
             0.4444444444444444,
             "#bd3786"
            ],
            [
             0.5555555555555556,
             "#d8576b"
            ],
            [
             0.6666666666666666,
             "#ed7953"
            ],
            [
             0.7777777777777778,
             "#fb9f3a"
            ],
            [
             0.8888888888888888,
             "#fdca26"
            ],
            [
             1,
             "#f0f921"
            ]
           ]
          },
          "colorway": [
           "#636efa",
           "#EF553B",
           "#00cc96",
           "#ab63fa",
           "#FFA15A",
           "#19d3f3",
           "#FF6692",
           "#B6E880",
           "#FF97FF",
           "#FECB52"
          ],
          "font": {
           "color": "#2a3f5f"
          },
          "geo": {
           "bgcolor": "white",
           "lakecolor": "white",
           "landcolor": "white",
           "showlakes": true,
           "showland": true,
           "subunitcolor": "#C8D4E3"
          },
          "hoverlabel": {
           "align": "left"
          },
          "hovermode": "closest",
          "mapbox": {
           "style": "light"
          },
          "paper_bgcolor": "white",
          "plot_bgcolor": "white",
          "polar": {
           "angularaxis": {
            "gridcolor": "#EBF0F8",
            "linecolor": "#EBF0F8",
            "ticks": ""
           },
           "bgcolor": "white",
           "radialaxis": {
            "gridcolor": "#EBF0F8",
            "linecolor": "#EBF0F8",
            "ticks": ""
           }
          },
          "scene": {
           "xaxis": {
            "backgroundcolor": "white",
            "gridcolor": "#DFE8F3",
            "gridwidth": 2,
            "linecolor": "#EBF0F8",
            "showbackground": true,
            "ticks": "",
            "zerolinecolor": "#EBF0F8"
           },
           "yaxis": {
            "backgroundcolor": "white",
            "gridcolor": "#DFE8F3",
            "gridwidth": 2,
            "linecolor": "#EBF0F8",
            "showbackground": true,
            "ticks": "",
            "zerolinecolor": "#EBF0F8"
           },
           "zaxis": {
            "backgroundcolor": "white",
            "gridcolor": "#DFE8F3",
            "gridwidth": 2,
            "linecolor": "#EBF0F8",
            "showbackground": true,
            "ticks": "",
            "zerolinecolor": "#EBF0F8"
           }
          },
          "shapedefaults": {
           "line": {
            "color": "#2a3f5f"
           }
          },
          "ternary": {
           "aaxis": {
            "gridcolor": "#DFE8F3",
            "linecolor": "#A2B1C6",
            "ticks": ""
           },
           "baxis": {
            "gridcolor": "#DFE8F3",
            "linecolor": "#A2B1C6",
            "ticks": ""
           },
           "bgcolor": "white",
           "caxis": {
            "gridcolor": "#DFE8F3",
            "linecolor": "#A2B1C6",
            "ticks": ""
           }
          },
          "title": {
           "x": 0.05
          },
          "xaxis": {
           "automargin": true,
           "gridcolor": "#EBF0F8",
           "linecolor": "#EBF0F8",
           "ticks": "",
           "title": {
            "standoff": 15
           },
           "zerolinecolor": "#EBF0F8",
           "zerolinewidth": 2
          },
          "yaxis": {
           "automargin": true,
           "gridcolor": "#EBF0F8",
           "linecolor": "#EBF0F8",
           "ticks": "",
           "title": {
            "standoff": 15
           },
           "zerolinecolor": "#EBF0F8",
           "zerolinewidth": 2
          }
         }
        },
        "title": {
         "text": "Análisis de Autocorrelación - Finance"
        },
        "xaxis": {
         "title": {
          "text": "Lags"
         }
        },
        "yaxis": {
         "title": {
          "text": "Autocorrelación"
         }
        }
       }
      }
     },
     "metadata": {},
     "output_type": "display_data"
    },
    {
     "name": "stdout",
     "output_type": "stream",
     "text": [
      "\n",
      "Analizando HR...\n",
      "\n",
      "Resultados del análisis de estacionalidad para HR:\n",
      "----------------------------------------------------------------------\n",
      "Tipo de estacionalidad: No detectada\n",
      "Fuerza de la estacionalidad: 0.00\n",
      "Lags significativos: []\n"
     ]
    },
    {
     "data": {
      "application/vnd.plotly.v1+json": {
       "config": {
        "plotlyServerURL": "https://plot.ly"
       },
       "data": [
        {
         "line": {
          "color": "blue"
         },
         "mode": "lines",
         "name": "ACF",
         "type": "scatter",
         "x": {
          "bdata": "AAAAAAEAAAACAAAAAwAAAAQAAAAFAAAABgAAAAcAAAAIAAAACQAAAAoAAAALAAAADAAAAA0AAAAOAAAADwAAABAAAAARAAAAEgAAABMAAAAUAAAAFQAAABYAAAAXAAAAGAAAABkAAAAaAAAAGwAAABwAAAAdAAAAHgAAAB8AAAAgAAAAIQAAACIAAAAjAAAAJAAAACUAAAAmAAAAJwAAACgAAAApAAAAKgAAACsAAAAsAAAALQAAAC4AAAAvAAAAMAAAADEAAAAyAAAAMwAAADQAAAA=",
          "dtype": "i4"
         },
         "y": {
          "bdata": "AAAAAAAA8D84AI/0uQyyv71D2bKJkpS/oMVjRSGwwr8zsql1WmHQP/wgoXBZ3M4//uvAbG+6t7+QMZqnpTCHv6oKp+AesKW/Lvd/ErYtwD9d+QxqmtS8vzNo/5kk3Ls/Ktaps/5osz+Puz4SLDnBv7lyqvALPb6/TOXmkKthsT9qniENe0LOPwm1puwaWLC/d8phD0MhrL+J+sETvKivv6Yun074srM/uq1ueaCBjL/QxowbeGq2vwmDQSh82qA/9N7lDlHArj+NJeZzIJm4v2RWS/1LFau/WkpPh0lqiL/UkqNyqHGwP5iM9pBYf8K/DBA+sDkQtL9hDRzi/Jecv60aqzvY6aU/lZg8NdO4oD8/ZyZPGYy7v/YYxSN43rA/zHfEA/CLub/O8n3sGDuXPxvjzS2PIsO/RQ0Q5Clmlz9BnkqUWeOmv5jTiHe0Rqy/YdTP2Jk5oL9yZsu/U9Szv2YaumheSmS/5x84m4Vpsr+wJxArlAI/v0rtt5Sn3pG/Z76rfcdRjD9kgxoGr+ahP3AJrrBxWGg/twpwo9cymj+FcqF5v1WFvw==",
          "dtype": "f8"
         }
        },
        {
         "line": {
          "color": "red",
          "dash": "dash"
         },
         "mode": "lines",
         "name": "Límite de confianza superior",
         "type": "scatter",
         "x": {
          "bdata": "AAAAAAEAAAACAAAAAwAAAAQAAAAFAAAABgAAAAcAAAAIAAAACQAAAAoAAAALAAAADAAAAA0AAAAOAAAADwAAABAAAAARAAAAEgAAABMAAAAUAAAAFQAAABYAAAAXAAAAGAAAABkAAAAaAAAAGwAAABwAAAAdAAAAHgAAAB8AAAAgAAAAIQAAACIAAAAjAAAAJAAAACUAAAAmAAAAJwAAACgAAAApAAAAKgAAACsAAAAsAAAALQAAAC4AAAAvAAAAMAAAADEAAAAyAAAAMwAAADQAAAA=",
          "dtype": "i4"
         },
         "y": [
          0.2692267053394305,
          0.2692267053394305,
          0.2692267053394305,
          0.2692267053394305,
          0.2692267053394305,
          0.2692267053394305,
          0.2692267053394305,
          0.2692267053394305,
          0.2692267053394305,
          0.2692267053394305,
          0.2692267053394305,
          0.2692267053394305,
          0.2692267053394305,
          0.2692267053394305,
          0.2692267053394305,
          0.2692267053394305,
          0.2692267053394305,
          0.2692267053394305,
          0.2692267053394305,
          0.2692267053394305,
          0.2692267053394305,
          0.2692267053394305,
          0.2692267053394305,
          0.2692267053394305,
          0.2692267053394305,
          0.2692267053394305,
          0.2692267053394305,
          0.2692267053394305,
          0.2692267053394305,
          0.2692267053394305,
          0.2692267053394305,
          0.2692267053394305,
          0.2692267053394305,
          0.2692267053394305,
          0.2692267053394305,
          0.2692267053394305,
          0.2692267053394305,
          0.2692267053394305,
          0.2692267053394305,
          0.2692267053394305,
          0.2692267053394305,
          0.2692267053394305,
          0.2692267053394305,
          0.2692267053394305,
          0.2692267053394305,
          0.2692267053394305,
          0.2692267053394305,
          0.2692267053394305,
          0.2692267053394305,
          0.2692267053394305,
          0.2692267053394305,
          0.2692267053394305,
          0.2692267053394305
         ]
        },
        {
         "line": {
          "color": "red",
          "dash": "dash"
         },
         "mode": "lines",
         "name": "Límite de confianza inferior",
         "type": "scatter",
         "x": {
          "bdata": "AAAAAAEAAAACAAAAAwAAAAQAAAAFAAAABgAAAAcAAAAIAAAACQAAAAoAAAALAAAADAAAAA0AAAAOAAAADwAAABAAAAARAAAAEgAAABMAAAAUAAAAFQAAABYAAAAXAAAAGAAAABkAAAAaAAAAGwAAABwAAAAdAAAAHgAAAB8AAAAgAAAAIQAAACIAAAAjAAAAJAAAACUAAAAmAAAAJwAAACgAAAApAAAAKgAAACsAAAAsAAAALQAAAC4AAAAvAAAAMAAAADEAAAAyAAAAMwAAADQAAAA=",
          "dtype": "i4"
         },
         "y": [
          -0.2692267053394305,
          -0.2692267053394305,
          -0.2692267053394305,
          -0.2692267053394305,
          -0.2692267053394305,
          -0.2692267053394305,
          -0.2692267053394305,
          -0.2692267053394305,
          -0.2692267053394305,
          -0.2692267053394305,
          -0.2692267053394305,
          -0.2692267053394305,
          -0.2692267053394305,
          -0.2692267053394305,
          -0.2692267053394305,
          -0.2692267053394305,
          -0.2692267053394305,
          -0.2692267053394305,
          -0.2692267053394305,
          -0.2692267053394305,
          -0.2692267053394305,
          -0.2692267053394305,
          -0.2692267053394305,
          -0.2692267053394305,
          -0.2692267053394305,
          -0.2692267053394305,
          -0.2692267053394305,
          -0.2692267053394305,
          -0.2692267053394305,
          -0.2692267053394305,
          -0.2692267053394305,
          -0.2692267053394305,
          -0.2692267053394305,
          -0.2692267053394305,
          -0.2692267053394305,
          -0.2692267053394305,
          -0.2692267053394305,
          -0.2692267053394305,
          -0.2692267053394305,
          -0.2692267053394305,
          -0.2692267053394305,
          -0.2692267053394305,
          -0.2692267053394305,
          -0.2692267053394305,
          -0.2692267053394305,
          -0.2692267053394305,
          -0.2692267053394305,
          -0.2692267053394305,
          -0.2692267053394305,
          -0.2692267053394305,
          -0.2692267053394305,
          -0.2692267053394305,
          -0.2692267053394305
         ]
        }
       ],
       "layout": {
        "height": 400,
        "legend": {
         "orientation": "h",
         "x": 0.5,
         "xanchor": "center",
         "y": -0.4,
         "yanchor": "bottom"
        },
        "showlegend": true,
        "template": {
         "data": {
          "bar": [
           {
            "error_x": {
             "color": "#2a3f5f"
            },
            "error_y": {
             "color": "#2a3f5f"
            },
            "marker": {
             "line": {
              "color": "white",
              "width": 0.5
             },
             "pattern": {
              "fillmode": "overlay",
              "size": 10,
              "solidity": 0.2
             }
            },
            "type": "bar"
           }
          ],
          "barpolar": [
           {
            "marker": {
             "line": {
              "color": "white",
              "width": 0.5
             },
             "pattern": {
              "fillmode": "overlay",
              "size": 10,
              "solidity": 0.2
             }
            },
            "type": "barpolar"
           }
          ],
          "carpet": [
           {
            "aaxis": {
             "endlinecolor": "#2a3f5f",
             "gridcolor": "#C8D4E3",
             "linecolor": "#C8D4E3",
             "minorgridcolor": "#C8D4E3",
             "startlinecolor": "#2a3f5f"
            },
            "baxis": {
             "endlinecolor": "#2a3f5f",
             "gridcolor": "#C8D4E3",
             "linecolor": "#C8D4E3",
             "minorgridcolor": "#C8D4E3",
             "startlinecolor": "#2a3f5f"
            },
            "type": "carpet"
           }
          ],
          "choropleth": [
           {
            "colorbar": {
             "outlinewidth": 0,
             "ticks": ""
            },
            "type": "choropleth"
           }
          ],
          "contour": [
           {
            "colorbar": {
             "outlinewidth": 0,
             "ticks": ""
            },
            "colorscale": [
             [
              0,
              "#0d0887"
             ],
             [
              0.1111111111111111,
              "#46039f"
             ],
             [
              0.2222222222222222,
              "#7201a8"
             ],
             [
              0.3333333333333333,
              "#9c179e"
             ],
             [
              0.4444444444444444,
              "#bd3786"
             ],
             [
              0.5555555555555556,
              "#d8576b"
             ],
             [
              0.6666666666666666,
              "#ed7953"
             ],
             [
              0.7777777777777778,
              "#fb9f3a"
             ],
             [
              0.8888888888888888,
              "#fdca26"
             ],
             [
              1,
              "#f0f921"
             ]
            ],
            "type": "contour"
           }
          ],
          "contourcarpet": [
           {
            "colorbar": {
             "outlinewidth": 0,
             "ticks": ""
            },
            "type": "contourcarpet"
           }
          ],
          "heatmap": [
           {
            "colorbar": {
             "outlinewidth": 0,
             "ticks": ""
            },
            "colorscale": [
             [
              0,
              "#0d0887"
             ],
             [
              0.1111111111111111,
              "#46039f"
             ],
             [
              0.2222222222222222,
              "#7201a8"
             ],
             [
              0.3333333333333333,
              "#9c179e"
             ],
             [
              0.4444444444444444,
              "#bd3786"
             ],
             [
              0.5555555555555556,
              "#d8576b"
             ],
             [
              0.6666666666666666,
              "#ed7953"
             ],
             [
              0.7777777777777778,
              "#fb9f3a"
             ],
             [
              0.8888888888888888,
              "#fdca26"
             ],
             [
              1,
              "#f0f921"
             ]
            ],
            "type": "heatmap"
           }
          ],
          "histogram": [
           {
            "marker": {
             "pattern": {
              "fillmode": "overlay",
              "size": 10,
              "solidity": 0.2
             }
            },
            "type": "histogram"
           }
          ],
          "histogram2d": [
           {
            "colorbar": {
             "outlinewidth": 0,
             "ticks": ""
            },
            "colorscale": [
             [
              0,
              "#0d0887"
             ],
             [
              0.1111111111111111,
              "#46039f"
             ],
             [
              0.2222222222222222,
              "#7201a8"
             ],
             [
              0.3333333333333333,
              "#9c179e"
             ],
             [
              0.4444444444444444,
              "#bd3786"
             ],
             [
              0.5555555555555556,
              "#d8576b"
             ],
             [
              0.6666666666666666,
              "#ed7953"
             ],
             [
              0.7777777777777778,
              "#fb9f3a"
             ],
             [
              0.8888888888888888,
              "#fdca26"
             ],
             [
              1,
              "#f0f921"
             ]
            ],
            "type": "histogram2d"
           }
          ],
          "histogram2dcontour": [
           {
            "colorbar": {
             "outlinewidth": 0,
             "ticks": ""
            },
            "colorscale": [
             [
              0,
              "#0d0887"
             ],
             [
              0.1111111111111111,
              "#46039f"
             ],
             [
              0.2222222222222222,
              "#7201a8"
             ],
             [
              0.3333333333333333,
              "#9c179e"
             ],
             [
              0.4444444444444444,
              "#bd3786"
             ],
             [
              0.5555555555555556,
              "#d8576b"
             ],
             [
              0.6666666666666666,
              "#ed7953"
             ],
             [
              0.7777777777777778,
              "#fb9f3a"
             ],
             [
              0.8888888888888888,
              "#fdca26"
             ],
             [
              1,
              "#f0f921"
             ]
            ],
            "type": "histogram2dcontour"
           }
          ],
          "mesh3d": [
           {
            "colorbar": {
             "outlinewidth": 0,
             "ticks": ""
            },
            "type": "mesh3d"
           }
          ],
          "parcoords": [
           {
            "line": {
             "colorbar": {
              "outlinewidth": 0,
              "ticks": ""
             }
            },
            "type": "parcoords"
           }
          ],
          "pie": [
           {
            "automargin": true,
            "type": "pie"
           }
          ],
          "scatter": [
           {
            "fillpattern": {
             "fillmode": "overlay",
             "size": 10,
             "solidity": 0.2
            },
            "type": "scatter"
           }
          ],
          "scatter3d": [
           {
            "line": {
             "colorbar": {
              "outlinewidth": 0,
              "ticks": ""
             }
            },
            "marker": {
             "colorbar": {
              "outlinewidth": 0,
              "ticks": ""
             }
            },
            "type": "scatter3d"
           }
          ],
          "scattercarpet": [
           {
            "marker": {
             "colorbar": {
              "outlinewidth": 0,
              "ticks": ""
             }
            },
            "type": "scattercarpet"
           }
          ],
          "scattergeo": [
           {
            "marker": {
             "colorbar": {
              "outlinewidth": 0,
              "ticks": ""
             }
            },
            "type": "scattergeo"
           }
          ],
          "scattergl": [
           {
            "marker": {
             "colorbar": {
              "outlinewidth": 0,
              "ticks": ""
             }
            },
            "type": "scattergl"
           }
          ],
          "scattermap": [
           {
            "marker": {
             "colorbar": {
              "outlinewidth": 0,
              "ticks": ""
             }
            },
            "type": "scattermap"
           }
          ],
          "scattermapbox": [
           {
            "marker": {
             "colorbar": {
              "outlinewidth": 0,
              "ticks": ""
             }
            },
            "type": "scattermapbox"
           }
          ],
          "scatterpolar": [
           {
            "marker": {
             "colorbar": {
              "outlinewidth": 0,
              "ticks": ""
             }
            },
            "type": "scatterpolar"
           }
          ],
          "scatterpolargl": [
           {
            "marker": {
             "colorbar": {
              "outlinewidth": 0,
              "ticks": ""
             }
            },
            "type": "scatterpolargl"
           }
          ],
          "scatterternary": [
           {
            "marker": {
             "colorbar": {
              "outlinewidth": 0,
              "ticks": ""
             }
            },
            "type": "scatterternary"
           }
          ],
          "surface": [
           {
            "colorbar": {
             "outlinewidth": 0,
             "ticks": ""
            },
            "colorscale": [
             [
              0,
              "#0d0887"
             ],
             [
              0.1111111111111111,
              "#46039f"
             ],
             [
              0.2222222222222222,
              "#7201a8"
             ],
             [
              0.3333333333333333,
              "#9c179e"
             ],
             [
              0.4444444444444444,
              "#bd3786"
             ],
             [
              0.5555555555555556,
              "#d8576b"
             ],
             [
              0.6666666666666666,
              "#ed7953"
             ],
             [
              0.7777777777777778,
              "#fb9f3a"
             ],
             [
              0.8888888888888888,
              "#fdca26"
             ],
             [
              1,
              "#f0f921"
             ]
            ],
            "type": "surface"
           }
          ],
          "table": [
           {
            "cells": {
             "fill": {
              "color": "#EBF0F8"
             },
             "line": {
              "color": "white"
             }
            },
            "header": {
             "fill": {
              "color": "#C8D4E3"
             },
             "line": {
              "color": "white"
             }
            },
            "type": "table"
           }
          ]
         },
         "layout": {
          "annotationdefaults": {
           "arrowcolor": "#2a3f5f",
           "arrowhead": 0,
           "arrowwidth": 1
          },
          "autotypenumbers": "strict",
          "coloraxis": {
           "colorbar": {
            "outlinewidth": 0,
            "ticks": ""
           }
          },
          "colorscale": {
           "diverging": [
            [
             0,
             "#8e0152"
            ],
            [
             0.1,
             "#c51b7d"
            ],
            [
             0.2,
             "#de77ae"
            ],
            [
             0.3,
             "#f1b6da"
            ],
            [
             0.4,
             "#fde0ef"
            ],
            [
             0.5,
             "#f7f7f7"
            ],
            [
             0.6,
             "#e6f5d0"
            ],
            [
             0.7,
             "#b8e186"
            ],
            [
             0.8,
             "#7fbc41"
            ],
            [
             0.9,
             "#4d9221"
            ],
            [
             1,
             "#276419"
            ]
           ],
           "sequential": [
            [
             0,
             "#0d0887"
            ],
            [
             0.1111111111111111,
             "#46039f"
            ],
            [
             0.2222222222222222,
             "#7201a8"
            ],
            [
             0.3333333333333333,
             "#9c179e"
            ],
            [
             0.4444444444444444,
             "#bd3786"
            ],
            [
             0.5555555555555556,
             "#d8576b"
            ],
            [
             0.6666666666666666,
             "#ed7953"
            ],
            [
             0.7777777777777778,
             "#fb9f3a"
            ],
            [
             0.8888888888888888,
             "#fdca26"
            ],
            [
             1,
             "#f0f921"
            ]
           ],
           "sequentialminus": [
            [
             0,
             "#0d0887"
            ],
            [
             0.1111111111111111,
             "#46039f"
            ],
            [
             0.2222222222222222,
             "#7201a8"
            ],
            [
             0.3333333333333333,
             "#9c179e"
            ],
            [
             0.4444444444444444,
             "#bd3786"
            ],
            [
             0.5555555555555556,
             "#d8576b"
            ],
            [
             0.6666666666666666,
             "#ed7953"
            ],
            [
             0.7777777777777778,
             "#fb9f3a"
            ],
            [
             0.8888888888888888,
             "#fdca26"
            ],
            [
             1,
             "#f0f921"
            ]
           ]
          },
          "colorway": [
           "#636efa",
           "#EF553B",
           "#00cc96",
           "#ab63fa",
           "#FFA15A",
           "#19d3f3",
           "#FF6692",
           "#B6E880",
           "#FF97FF",
           "#FECB52"
          ],
          "font": {
           "color": "#2a3f5f"
          },
          "geo": {
           "bgcolor": "white",
           "lakecolor": "white",
           "landcolor": "white",
           "showlakes": true,
           "showland": true,
           "subunitcolor": "#C8D4E3"
          },
          "hoverlabel": {
           "align": "left"
          },
          "hovermode": "closest",
          "mapbox": {
           "style": "light"
          },
          "paper_bgcolor": "white",
          "plot_bgcolor": "white",
          "polar": {
           "angularaxis": {
            "gridcolor": "#EBF0F8",
            "linecolor": "#EBF0F8",
            "ticks": ""
           },
           "bgcolor": "white",
           "radialaxis": {
            "gridcolor": "#EBF0F8",
            "linecolor": "#EBF0F8",
            "ticks": ""
           }
          },
          "scene": {
           "xaxis": {
            "backgroundcolor": "white",
            "gridcolor": "#DFE8F3",
            "gridwidth": 2,
            "linecolor": "#EBF0F8",
            "showbackground": true,
            "ticks": "",
            "zerolinecolor": "#EBF0F8"
           },
           "yaxis": {
            "backgroundcolor": "white",
            "gridcolor": "#DFE8F3",
            "gridwidth": 2,
            "linecolor": "#EBF0F8",
            "showbackground": true,
            "ticks": "",
            "zerolinecolor": "#EBF0F8"
           },
           "zaxis": {
            "backgroundcolor": "white",
            "gridcolor": "#DFE8F3",
            "gridwidth": 2,
            "linecolor": "#EBF0F8",
            "showbackground": true,
            "ticks": "",
            "zerolinecolor": "#EBF0F8"
           }
          },
          "shapedefaults": {
           "line": {
            "color": "#2a3f5f"
           }
          },
          "ternary": {
           "aaxis": {
            "gridcolor": "#DFE8F3",
            "linecolor": "#A2B1C6",
            "ticks": ""
           },
           "baxis": {
            "gridcolor": "#DFE8F3",
            "linecolor": "#A2B1C6",
            "ticks": ""
           },
           "bgcolor": "white",
           "caxis": {
            "gridcolor": "#DFE8F3",
            "linecolor": "#A2B1C6",
            "ticks": ""
           }
          },
          "title": {
           "x": 0.05
          },
          "xaxis": {
           "automargin": true,
           "gridcolor": "#EBF0F8",
           "linecolor": "#EBF0F8",
           "ticks": "",
           "title": {
            "standoff": 15
           },
           "zerolinecolor": "#EBF0F8",
           "zerolinewidth": 2
          },
          "yaxis": {
           "automargin": true,
           "gridcolor": "#EBF0F8",
           "linecolor": "#EBF0F8",
           "ticks": "",
           "title": {
            "standoff": 15
           },
           "zerolinecolor": "#EBF0F8",
           "zerolinewidth": 2
          }
         }
        },
        "title": {
         "text": "Análisis de Autocorrelación - HR"
        },
        "xaxis": {
         "title": {
          "text": "Lags"
         }
        },
        "yaxis": {
         "title": {
          "text": "Autocorrelación"
         }
        }
       }
      }
     },
     "metadata": {},
     "output_type": "display_data"
    },
    {
     "name": "stdout",
     "output_type": "stream",
     "text": [
      "\n",
      "Analizando Inventory...\n",
      "\n",
      "Resultados del análisis de estacionalidad para Inventory:\n",
      "----------------------------------------------------------------------\n",
      "Tipo de estacionalidad: No detectada\n",
      "Fuerza de la estacionalidad: 0.00\n",
      "Lags significativos: []\n"
     ]
    },
    {
     "data": {
      "application/vnd.plotly.v1+json": {
       "config": {
        "plotlyServerURL": "https://plot.ly"
       },
       "data": [
        {
         "line": {
          "color": "blue"
         },
         "mode": "lines",
         "name": "ACF",
         "type": "scatter",
         "x": {
          "bdata": "AAAAAAEAAAACAAAAAwAAAAQAAAAFAAAABgAAAAcAAAAIAAAACQAAAAoAAAALAAAADAAAAA0AAAAOAAAADwAAABAAAAARAAAAEgAAABMAAAAUAAAAFQAAABYAAAAXAAAAGAAAABkAAAAaAAAAGwAAABwAAAAdAAAAHgAAAB8AAAAgAAAAIQAAACIAAAAjAAAAJAAAACUAAAAmAAAAJwAAACgAAAApAAAAKgAAACsAAAAsAAAALQAAAC4AAAAvAAAAMAAAADEAAAAyAAAAMwAAADQAAAA=",
          "dtype": "i4"
         },
         "y": {
          "bdata": "AAAAAAAA8D+T8q88uwO3P+IGqWgE9cm/z7svn51Lyb+kQaS1wU2zP80E49hPK8A/q0NQ3RPSvz/hgIjfgeGyP/HNj1gtb8w/2ohFLgkPy790YoVqTPLNv83VcbpdPqa/wXKEZ+vwwj86QTwxC5jNP8UeU7+OnBK/0NbuNCixwr8bFqny9EnKv/JHTRsBJ6o/Ewz4jVOEwD9qwsdtywvCP1GTt2ErzIk/AMjibuYFfL/pRlGPCBzGv+BDU97m0Ka/pONUDGe+ub/t5mq9ju2/P6eHMo7SX78/Bvp6CITfsr/+dWzffbLHv0daCmoNSbq/Bv4hXiR7kT/l9Qre/lC5P1kZovkRlLm/tfbzDGHklr9pB33hZfSNv3YJl+4kaca/M5RVuBdior8mar4xnluxP5BVO6/MR7A/U7Os5h0rhT/KkwH4IQ67v3z8MtJpf7S/X5uMiT9tpL+zHIzy0nx4Pw/Oi69ZH7s/2J5xjyy3pz/sQZybuOSyv7NQmM/tuKW/+Et7mvWRiD/B+VT34jOJPwHqMX+OiYW/0aVJdXGTlD8vUMsWpfF0vw==",
          "dtype": "f8"
         }
        },
        {
         "line": {
          "color": "red",
          "dash": "dash"
         },
         "mode": "lines",
         "name": "Límite de confianza superior",
         "type": "scatter",
         "x": {
          "bdata": "AAAAAAEAAAACAAAAAwAAAAQAAAAFAAAABgAAAAcAAAAIAAAACQAAAAoAAAALAAAADAAAAA0AAAAOAAAADwAAABAAAAARAAAAEgAAABMAAAAUAAAAFQAAABYAAAAXAAAAGAAAABkAAAAaAAAAGwAAABwAAAAdAAAAHgAAAB8AAAAgAAAAIQAAACIAAAAjAAAAJAAAACUAAAAmAAAAJwAAACgAAAApAAAAKgAAACsAAAAsAAAALQAAAC4AAAAvAAAAMAAAADEAAAAyAAAAMwAAADQAAAA=",
          "dtype": "i4"
         },
         "y": [
          0.2692267053394305,
          0.2692267053394305,
          0.2692267053394305,
          0.2692267053394305,
          0.2692267053394305,
          0.2692267053394305,
          0.2692267053394305,
          0.2692267053394305,
          0.2692267053394305,
          0.2692267053394305,
          0.2692267053394305,
          0.2692267053394305,
          0.2692267053394305,
          0.2692267053394305,
          0.2692267053394305,
          0.2692267053394305,
          0.2692267053394305,
          0.2692267053394305,
          0.2692267053394305,
          0.2692267053394305,
          0.2692267053394305,
          0.2692267053394305,
          0.2692267053394305,
          0.2692267053394305,
          0.2692267053394305,
          0.2692267053394305,
          0.2692267053394305,
          0.2692267053394305,
          0.2692267053394305,
          0.2692267053394305,
          0.2692267053394305,
          0.2692267053394305,
          0.2692267053394305,
          0.2692267053394305,
          0.2692267053394305,
          0.2692267053394305,
          0.2692267053394305,
          0.2692267053394305,
          0.2692267053394305,
          0.2692267053394305,
          0.2692267053394305,
          0.2692267053394305,
          0.2692267053394305,
          0.2692267053394305,
          0.2692267053394305,
          0.2692267053394305,
          0.2692267053394305,
          0.2692267053394305,
          0.2692267053394305,
          0.2692267053394305,
          0.2692267053394305,
          0.2692267053394305,
          0.2692267053394305
         ]
        },
        {
         "line": {
          "color": "red",
          "dash": "dash"
         },
         "mode": "lines",
         "name": "Límite de confianza inferior",
         "type": "scatter",
         "x": {
          "bdata": "AAAAAAEAAAACAAAAAwAAAAQAAAAFAAAABgAAAAcAAAAIAAAACQAAAAoAAAALAAAADAAAAA0AAAAOAAAADwAAABAAAAARAAAAEgAAABMAAAAUAAAAFQAAABYAAAAXAAAAGAAAABkAAAAaAAAAGwAAABwAAAAdAAAAHgAAAB8AAAAgAAAAIQAAACIAAAAjAAAAJAAAACUAAAAmAAAAJwAAACgAAAApAAAAKgAAACsAAAAsAAAALQAAAC4AAAAvAAAAMAAAADEAAAAyAAAAMwAAADQAAAA=",
          "dtype": "i4"
         },
         "y": [
          -0.2692267053394305,
          -0.2692267053394305,
          -0.2692267053394305,
          -0.2692267053394305,
          -0.2692267053394305,
          -0.2692267053394305,
          -0.2692267053394305,
          -0.2692267053394305,
          -0.2692267053394305,
          -0.2692267053394305,
          -0.2692267053394305,
          -0.2692267053394305,
          -0.2692267053394305,
          -0.2692267053394305,
          -0.2692267053394305,
          -0.2692267053394305,
          -0.2692267053394305,
          -0.2692267053394305,
          -0.2692267053394305,
          -0.2692267053394305,
          -0.2692267053394305,
          -0.2692267053394305,
          -0.2692267053394305,
          -0.2692267053394305,
          -0.2692267053394305,
          -0.2692267053394305,
          -0.2692267053394305,
          -0.2692267053394305,
          -0.2692267053394305,
          -0.2692267053394305,
          -0.2692267053394305,
          -0.2692267053394305,
          -0.2692267053394305,
          -0.2692267053394305,
          -0.2692267053394305,
          -0.2692267053394305,
          -0.2692267053394305,
          -0.2692267053394305,
          -0.2692267053394305,
          -0.2692267053394305,
          -0.2692267053394305,
          -0.2692267053394305,
          -0.2692267053394305,
          -0.2692267053394305,
          -0.2692267053394305,
          -0.2692267053394305,
          -0.2692267053394305,
          -0.2692267053394305,
          -0.2692267053394305,
          -0.2692267053394305,
          -0.2692267053394305,
          -0.2692267053394305,
          -0.2692267053394305
         ]
        }
       ],
       "layout": {
        "height": 400,
        "legend": {
         "orientation": "h",
         "x": 0.5,
         "xanchor": "center",
         "y": -0.4,
         "yanchor": "bottom"
        },
        "showlegend": true,
        "template": {
         "data": {
          "bar": [
           {
            "error_x": {
             "color": "#2a3f5f"
            },
            "error_y": {
             "color": "#2a3f5f"
            },
            "marker": {
             "line": {
              "color": "white",
              "width": 0.5
             },
             "pattern": {
              "fillmode": "overlay",
              "size": 10,
              "solidity": 0.2
             }
            },
            "type": "bar"
           }
          ],
          "barpolar": [
           {
            "marker": {
             "line": {
              "color": "white",
              "width": 0.5
             },
             "pattern": {
              "fillmode": "overlay",
              "size": 10,
              "solidity": 0.2
             }
            },
            "type": "barpolar"
           }
          ],
          "carpet": [
           {
            "aaxis": {
             "endlinecolor": "#2a3f5f",
             "gridcolor": "#C8D4E3",
             "linecolor": "#C8D4E3",
             "minorgridcolor": "#C8D4E3",
             "startlinecolor": "#2a3f5f"
            },
            "baxis": {
             "endlinecolor": "#2a3f5f",
             "gridcolor": "#C8D4E3",
             "linecolor": "#C8D4E3",
             "minorgridcolor": "#C8D4E3",
             "startlinecolor": "#2a3f5f"
            },
            "type": "carpet"
           }
          ],
          "choropleth": [
           {
            "colorbar": {
             "outlinewidth": 0,
             "ticks": ""
            },
            "type": "choropleth"
           }
          ],
          "contour": [
           {
            "colorbar": {
             "outlinewidth": 0,
             "ticks": ""
            },
            "colorscale": [
             [
              0,
              "#0d0887"
             ],
             [
              0.1111111111111111,
              "#46039f"
             ],
             [
              0.2222222222222222,
              "#7201a8"
             ],
             [
              0.3333333333333333,
              "#9c179e"
             ],
             [
              0.4444444444444444,
              "#bd3786"
             ],
             [
              0.5555555555555556,
              "#d8576b"
             ],
             [
              0.6666666666666666,
              "#ed7953"
             ],
             [
              0.7777777777777778,
              "#fb9f3a"
             ],
             [
              0.8888888888888888,
              "#fdca26"
             ],
             [
              1,
              "#f0f921"
             ]
            ],
            "type": "contour"
           }
          ],
          "contourcarpet": [
           {
            "colorbar": {
             "outlinewidth": 0,
             "ticks": ""
            },
            "type": "contourcarpet"
           }
          ],
          "heatmap": [
           {
            "colorbar": {
             "outlinewidth": 0,
             "ticks": ""
            },
            "colorscale": [
             [
              0,
              "#0d0887"
             ],
             [
              0.1111111111111111,
              "#46039f"
             ],
             [
              0.2222222222222222,
              "#7201a8"
             ],
             [
              0.3333333333333333,
              "#9c179e"
             ],
             [
              0.4444444444444444,
              "#bd3786"
             ],
             [
              0.5555555555555556,
              "#d8576b"
             ],
             [
              0.6666666666666666,
              "#ed7953"
             ],
             [
              0.7777777777777778,
              "#fb9f3a"
             ],
             [
              0.8888888888888888,
              "#fdca26"
             ],
             [
              1,
              "#f0f921"
             ]
            ],
            "type": "heatmap"
           }
          ],
          "histogram": [
           {
            "marker": {
             "pattern": {
              "fillmode": "overlay",
              "size": 10,
              "solidity": 0.2
             }
            },
            "type": "histogram"
           }
          ],
          "histogram2d": [
           {
            "colorbar": {
             "outlinewidth": 0,
             "ticks": ""
            },
            "colorscale": [
             [
              0,
              "#0d0887"
             ],
             [
              0.1111111111111111,
              "#46039f"
             ],
             [
              0.2222222222222222,
              "#7201a8"
             ],
             [
              0.3333333333333333,
              "#9c179e"
             ],
             [
              0.4444444444444444,
              "#bd3786"
             ],
             [
              0.5555555555555556,
              "#d8576b"
             ],
             [
              0.6666666666666666,
              "#ed7953"
             ],
             [
              0.7777777777777778,
              "#fb9f3a"
             ],
             [
              0.8888888888888888,
              "#fdca26"
             ],
             [
              1,
              "#f0f921"
             ]
            ],
            "type": "histogram2d"
           }
          ],
          "histogram2dcontour": [
           {
            "colorbar": {
             "outlinewidth": 0,
             "ticks": ""
            },
            "colorscale": [
             [
              0,
              "#0d0887"
             ],
             [
              0.1111111111111111,
              "#46039f"
             ],
             [
              0.2222222222222222,
              "#7201a8"
             ],
             [
              0.3333333333333333,
              "#9c179e"
             ],
             [
              0.4444444444444444,
              "#bd3786"
             ],
             [
              0.5555555555555556,
              "#d8576b"
             ],
             [
              0.6666666666666666,
              "#ed7953"
             ],
             [
              0.7777777777777778,
              "#fb9f3a"
             ],
             [
              0.8888888888888888,
              "#fdca26"
             ],
             [
              1,
              "#f0f921"
             ]
            ],
            "type": "histogram2dcontour"
           }
          ],
          "mesh3d": [
           {
            "colorbar": {
             "outlinewidth": 0,
             "ticks": ""
            },
            "type": "mesh3d"
           }
          ],
          "parcoords": [
           {
            "line": {
             "colorbar": {
              "outlinewidth": 0,
              "ticks": ""
             }
            },
            "type": "parcoords"
           }
          ],
          "pie": [
           {
            "automargin": true,
            "type": "pie"
           }
          ],
          "scatter": [
           {
            "fillpattern": {
             "fillmode": "overlay",
             "size": 10,
             "solidity": 0.2
            },
            "type": "scatter"
           }
          ],
          "scatter3d": [
           {
            "line": {
             "colorbar": {
              "outlinewidth": 0,
              "ticks": ""
             }
            },
            "marker": {
             "colorbar": {
              "outlinewidth": 0,
              "ticks": ""
             }
            },
            "type": "scatter3d"
           }
          ],
          "scattercarpet": [
           {
            "marker": {
             "colorbar": {
              "outlinewidth": 0,
              "ticks": ""
             }
            },
            "type": "scattercarpet"
           }
          ],
          "scattergeo": [
           {
            "marker": {
             "colorbar": {
              "outlinewidth": 0,
              "ticks": ""
             }
            },
            "type": "scattergeo"
           }
          ],
          "scattergl": [
           {
            "marker": {
             "colorbar": {
              "outlinewidth": 0,
              "ticks": ""
             }
            },
            "type": "scattergl"
           }
          ],
          "scattermap": [
           {
            "marker": {
             "colorbar": {
              "outlinewidth": 0,
              "ticks": ""
             }
            },
            "type": "scattermap"
           }
          ],
          "scattermapbox": [
           {
            "marker": {
             "colorbar": {
              "outlinewidth": 0,
              "ticks": ""
             }
            },
            "type": "scattermapbox"
           }
          ],
          "scatterpolar": [
           {
            "marker": {
             "colorbar": {
              "outlinewidth": 0,
              "ticks": ""
             }
            },
            "type": "scatterpolar"
           }
          ],
          "scatterpolargl": [
           {
            "marker": {
             "colorbar": {
              "outlinewidth": 0,
              "ticks": ""
             }
            },
            "type": "scatterpolargl"
           }
          ],
          "scatterternary": [
           {
            "marker": {
             "colorbar": {
              "outlinewidth": 0,
              "ticks": ""
             }
            },
            "type": "scatterternary"
           }
          ],
          "surface": [
           {
            "colorbar": {
             "outlinewidth": 0,
             "ticks": ""
            },
            "colorscale": [
             [
              0,
              "#0d0887"
             ],
             [
              0.1111111111111111,
              "#46039f"
             ],
             [
              0.2222222222222222,
              "#7201a8"
             ],
             [
              0.3333333333333333,
              "#9c179e"
             ],
             [
              0.4444444444444444,
              "#bd3786"
             ],
             [
              0.5555555555555556,
              "#d8576b"
             ],
             [
              0.6666666666666666,
              "#ed7953"
             ],
             [
              0.7777777777777778,
              "#fb9f3a"
             ],
             [
              0.8888888888888888,
              "#fdca26"
             ],
             [
              1,
              "#f0f921"
             ]
            ],
            "type": "surface"
           }
          ],
          "table": [
           {
            "cells": {
             "fill": {
              "color": "#EBF0F8"
             },
             "line": {
              "color": "white"
             }
            },
            "header": {
             "fill": {
              "color": "#C8D4E3"
             },
             "line": {
              "color": "white"
             }
            },
            "type": "table"
           }
          ]
         },
         "layout": {
          "annotationdefaults": {
           "arrowcolor": "#2a3f5f",
           "arrowhead": 0,
           "arrowwidth": 1
          },
          "autotypenumbers": "strict",
          "coloraxis": {
           "colorbar": {
            "outlinewidth": 0,
            "ticks": ""
           }
          },
          "colorscale": {
           "diverging": [
            [
             0,
             "#8e0152"
            ],
            [
             0.1,
             "#c51b7d"
            ],
            [
             0.2,
             "#de77ae"
            ],
            [
             0.3,
             "#f1b6da"
            ],
            [
             0.4,
             "#fde0ef"
            ],
            [
             0.5,
             "#f7f7f7"
            ],
            [
             0.6,
             "#e6f5d0"
            ],
            [
             0.7,
             "#b8e186"
            ],
            [
             0.8,
             "#7fbc41"
            ],
            [
             0.9,
             "#4d9221"
            ],
            [
             1,
             "#276419"
            ]
           ],
           "sequential": [
            [
             0,
             "#0d0887"
            ],
            [
             0.1111111111111111,
             "#46039f"
            ],
            [
             0.2222222222222222,
             "#7201a8"
            ],
            [
             0.3333333333333333,
             "#9c179e"
            ],
            [
             0.4444444444444444,
             "#bd3786"
            ],
            [
             0.5555555555555556,
             "#d8576b"
            ],
            [
             0.6666666666666666,
             "#ed7953"
            ],
            [
             0.7777777777777778,
             "#fb9f3a"
            ],
            [
             0.8888888888888888,
             "#fdca26"
            ],
            [
             1,
             "#f0f921"
            ]
           ],
           "sequentialminus": [
            [
             0,
             "#0d0887"
            ],
            [
             0.1111111111111111,
             "#46039f"
            ],
            [
             0.2222222222222222,
             "#7201a8"
            ],
            [
             0.3333333333333333,
             "#9c179e"
            ],
            [
             0.4444444444444444,
             "#bd3786"
            ],
            [
             0.5555555555555556,
             "#d8576b"
            ],
            [
             0.6666666666666666,
             "#ed7953"
            ],
            [
             0.7777777777777778,
             "#fb9f3a"
            ],
            [
             0.8888888888888888,
             "#fdca26"
            ],
            [
             1,
             "#f0f921"
            ]
           ]
          },
          "colorway": [
           "#636efa",
           "#EF553B",
           "#00cc96",
           "#ab63fa",
           "#FFA15A",
           "#19d3f3",
           "#FF6692",
           "#B6E880",
           "#FF97FF",
           "#FECB52"
          ],
          "font": {
           "color": "#2a3f5f"
          },
          "geo": {
           "bgcolor": "white",
           "lakecolor": "white",
           "landcolor": "white",
           "showlakes": true,
           "showland": true,
           "subunitcolor": "#C8D4E3"
          },
          "hoverlabel": {
           "align": "left"
          },
          "hovermode": "closest",
          "mapbox": {
           "style": "light"
          },
          "paper_bgcolor": "white",
          "plot_bgcolor": "white",
          "polar": {
           "angularaxis": {
            "gridcolor": "#EBF0F8",
            "linecolor": "#EBF0F8",
            "ticks": ""
           },
           "bgcolor": "white",
           "radialaxis": {
            "gridcolor": "#EBF0F8",
            "linecolor": "#EBF0F8",
            "ticks": ""
           }
          },
          "scene": {
           "xaxis": {
            "backgroundcolor": "white",
            "gridcolor": "#DFE8F3",
            "gridwidth": 2,
            "linecolor": "#EBF0F8",
            "showbackground": true,
            "ticks": "",
            "zerolinecolor": "#EBF0F8"
           },
           "yaxis": {
            "backgroundcolor": "white",
            "gridcolor": "#DFE8F3",
            "gridwidth": 2,
            "linecolor": "#EBF0F8",
            "showbackground": true,
            "ticks": "",
            "zerolinecolor": "#EBF0F8"
           },
           "zaxis": {
            "backgroundcolor": "white",
            "gridcolor": "#DFE8F3",
            "gridwidth": 2,
            "linecolor": "#EBF0F8",
            "showbackground": true,
            "ticks": "",
            "zerolinecolor": "#EBF0F8"
           }
          },
          "shapedefaults": {
           "line": {
            "color": "#2a3f5f"
           }
          },
          "ternary": {
           "aaxis": {
            "gridcolor": "#DFE8F3",
            "linecolor": "#A2B1C6",
            "ticks": ""
           },
           "baxis": {
            "gridcolor": "#DFE8F3",
            "linecolor": "#A2B1C6",
            "ticks": ""
           },
           "bgcolor": "white",
           "caxis": {
            "gridcolor": "#DFE8F3",
            "linecolor": "#A2B1C6",
            "ticks": ""
           }
          },
          "title": {
           "x": 0.05
          },
          "xaxis": {
           "automargin": true,
           "gridcolor": "#EBF0F8",
           "linecolor": "#EBF0F8",
           "ticks": "",
           "title": {
            "standoff": 15
           },
           "zerolinecolor": "#EBF0F8",
           "zerolinewidth": 2
          },
          "yaxis": {
           "automargin": true,
           "gridcolor": "#EBF0F8",
           "linecolor": "#EBF0F8",
           "ticks": "",
           "title": {
            "standoff": 15
           },
           "zerolinecolor": "#EBF0F8",
           "zerolinewidth": 2
          }
         }
        },
        "title": {
         "text": "Análisis de Autocorrelación - Inventory"
        },
        "xaxis": {
         "title": {
          "text": "Lags"
         }
        },
        "yaxis": {
         "title": {
          "text": "Autocorrelación"
         }
        }
       }
      }
     },
     "metadata": {},
     "output_type": "display_data"
    },
    {
     "name": "stdout",
     "output_type": "stream",
     "text": [
      "\n",
      "Analizando IT...\n",
      "\n",
      "Resultados del análisis de estacionalidad para IT:\n",
      "----------------------------------------------------------------------\n",
      "Tipo de estacionalidad: Moderada\n",
      "Fuerza de la estacionalidad: 0.35\n",
      "Posible período estacional: 7 semanas\n",
      "Lags significativos: [2, 7]\n"
     ]
    },
    {
     "data": {
      "application/vnd.plotly.v1+json": {
       "config": {
        "plotlyServerURL": "https://plot.ly"
       },
       "data": [
        {
         "line": {
          "color": "blue"
         },
         "mode": "lines",
         "name": "ACF",
         "type": "scatter",
         "x": {
          "bdata": "AAAAAAEAAAACAAAAAwAAAAQAAAAFAAAABgAAAAcAAAAIAAAACQAAAAoAAAALAAAADAAAAA0AAAAOAAAADwAAABAAAAARAAAAEgAAABMAAAAUAAAAFQAAABYAAAAXAAAAGAAAABkAAAAaAAAAGwAAABwAAAAdAAAAHgAAAB8AAAAgAAAAIQAAACIAAAAjAAAAJAAAACUAAAAmAAAAJwAAACgAAAApAAAAKgAAACsAAAAsAAAALQAAAC4AAAAvAAAAMAAAADEAAAAyAAAAMwAAADQAAAA=",
          "dtype": "i4"
         },
         "y": {
          "bdata": "AAAAAAAA8D8bGshpqn7MP54RMtsmD9O/foV97DLhzb8F1vYg/r7JP15c5G/ytMk/6A2EMhA4vr+Gd5js9LPWvze2Pl+mWca/yio4Tf3jwD84S1gWS4K1P6o9FE4FLcG/WBw2DFcoxb+ZLlS4bOOFv6M3W/iDQtA/hzGSpXA8vz9A880V2lSsv8B6c8ZMksa/9JiZLtSlvr/+9H+2KcuzP+GJhLIMMIq/MTUpt2CUvr913jisNjKGv9xvShGroMY/CGgH/gENvz8BT92EbPaWv9yMDlh/SbW/BzkZdBAPir/xwVVgqnm+P+0eNMTinbk/qyJB9SGNs7/Lk9EzF63Dv4q+MZ9JTMG/sLaMbXlSrD+bkCdnkL1ev+k+M99PR7O/MaHMXgNfpb+BDKTRHdy2PzOnlyyJ9LY/+llkz7mltT9lv0pwYtmQv55t1R8GRoG/Egrh4qObqj9gHYbr4nWmP1z7LzGMo0g/zOFI/rBVkz8Agxq2oDefv16ndIpoxbK/5xXVZbqFZL+Ng8NKWVKJv24vhxTp5JO/0B8JVEdCh7/L5idLV+6NPw==",
          "dtype": "f8"
         }
        },
        {
         "line": {
          "color": "red",
          "dash": "dash"
         },
         "mode": "lines",
         "name": "Límite de confianza superior",
         "type": "scatter",
         "x": {
          "bdata": "AAAAAAEAAAACAAAAAwAAAAQAAAAFAAAABgAAAAcAAAAIAAAACQAAAAoAAAALAAAADAAAAA0AAAAOAAAADwAAABAAAAARAAAAEgAAABMAAAAUAAAAFQAAABYAAAAXAAAAGAAAABkAAAAaAAAAGwAAABwAAAAdAAAAHgAAAB8AAAAgAAAAIQAAACIAAAAjAAAAJAAAACUAAAAmAAAAJwAAACgAAAApAAAAKgAAACsAAAAsAAAALQAAAC4AAAAvAAAAMAAAADEAAAAyAAAAMwAAADQAAAA=",
          "dtype": "i4"
         },
         "y": [
          0.2692267053394305,
          0.2692267053394305,
          0.2692267053394305,
          0.2692267053394305,
          0.2692267053394305,
          0.2692267053394305,
          0.2692267053394305,
          0.2692267053394305,
          0.2692267053394305,
          0.2692267053394305,
          0.2692267053394305,
          0.2692267053394305,
          0.2692267053394305,
          0.2692267053394305,
          0.2692267053394305,
          0.2692267053394305,
          0.2692267053394305,
          0.2692267053394305,
          0.2692267053394305,
          0.2692267053394305,
          0.2692267053394305,
          0.2692267053394305,
          0.2692267053394305,
          0.2692267053394305,
          0.2692267053394305,
          0.2692267053394305,
          0.2692267053394305,
          0.2692267053394305,
          0.2692267053394305,
          0.2692267053394305,
          0.2692267053394305,
          0.2692267053394305,
          0.2692267053394305,
          0.2692267053394305,
          0.2692267053394305,
          0.2692267053394305,
          0.2692267053394305,
          0.2692267053394305,
          0.2692267053394305,
          0.2692267053394305,
          0.2692267053394305,
          0.2692267053394305,
          0.2692267053394305,
          0.2692267053394305,
          0.2692267053394305,
          0.2692267053394305,
          0.2692267053394305,
          0.2692267053394305,
          0.2692267053394305,
          0.2692267053394305,
          0.2692267053394305,
          0.2692267053394305,
          0.2692267053394305
         ]
        },
        {
         "line": {
          "color": "red",
          "dash": "dash"
         },
         "mode": "lines",
         "name": "Límite de confianza inferior",
         "type": "scatter",
         "x": {
          "bdata": "AAAAAAEAAAACAAAAAwAAAAQAAAAFAAAABgAAAAcAAAAIAAAACQAAAAoAAAALAAAADAAAAA0AAAAOAAAADwAAABAAAAARAAAAEgAAABMAAAAUAAAAFQAAABYAAAAXAAAAGAAAABkAAAAaAAAAGwAAABwAAAAdAAAAHgAAAB8AAAAgAAAAIQAAACIAAAAjAAAAJAAAACUAAAAmAAAAJwAAACgAAAApAAAAKgAAACsAAAAsAAAALQAAAC4AAAAvAAAAMAAAADEAAAAyAAAAMwAAADQAAAA=",
          "dtype": "i4"
         },
         "y": [
          -0.2692267053394305,
          -0.2692267053394305,
          -0.2692267053394305,
          -0.2692267053394305,
          -0.2692267053394305,
          -0.2692267053394305,
          -0.2692267053394305,
          -0.2692267053394305,
          -0.2692267053394305,
          -0.2692267053394305,
          -0.2692267053394305,
          -0.2692267053394305,
          -0.2692267053394305,
          -0.2692267053394305,
          -0.2692267053394305,
          -0.2692267053394305,
          -0.2692267053394305,
          -0.2692267053394305,
          -0.2692267053394305,
          -0.2692267053394305,
          -0.2692267053394305,
          -0.2692267053394305,
          -0.2692267053394305,
          -0.2692267053394305,
          -0.2692267053394305,
          -0.2692267053394305,
          -0.2692267053394305,
          -0.2692267053394305,
          -0.2692267053394305,
          -0.2692267053394305,
          -0.2692267053394305,
          -0.2692267053394305,
          -0.2692267053394305,
          -0.2692267053394305,
          -0.2692267053394305,
          -0.2692267053394305,
          -0.2692267053394305,
          -0.2692267053394305,
          -0.2692267053394305,
          -0.2692267053394305,
          -0.2692267053394305,
          -0.2692267053394305,
          -0.2692267053394305,
          -0.2692267053394305,
          -0.2692267053394305,
          -0.2692267053394305,
          -0.2692267053394305,
          -0.2692267053394305,
          -0.2692267053394305,
          -0.2692267053394305,
          -0.2692267053394305,
          -0.2692267053394305,
          -0.2692267053394305
         ]
        }
       ],
       "layout": {
        "height": 400,
        "legend": {
         "orientation": "h",
         "x": 0.5,
         "xanchor": "center",
         "y": -0.4,
         "yanchor": "bottom"
        },
        "showlegend": true,
        "template": {
         "data": {
          "bar": [
           {
            "error_x": {
             "color": "#2a3f5f"
            },
            "error_y": {
             "color": "#2a3f5f"
            },
            "marker": {
             "line": {
              "color": "white",
              "width": 0.5
             },
             "pattern": {
              "fillmode": "overlay",
              "size": 10,
              "solidity": 0.2
             }
            },
            "type": "bar"
           }
          ],
          "barpolar": [
           {
            "marker": {
             "line": {
              "color": "white",
              "width": 0.5
             },
             "pattern": {
              "fillmode": "overlay",
              "size": 10,
              "solidity": 0.2
             }
            },
            "type": "barpolar"
           }
          ],
          "carpet": [
           {
            "aaxis": {
             "endlinecolor": "#2a3f5f",
             "gridcolor": "#C8D4E3",
             "linecolor": "#C8D4E3",
             "minorgridcolor": "#C8D4E3",
             "startlinecolor": "#2a3f5f"
            },
            "baxis": {
             "endlinecolor": "#2a3f5f",
             "gridcolor": "#C8D4E3",
             "linecolor": "#C8D4E3",
             "minorgridcolor": "#C8D4E3",
             "startlinecolor": "#2a3f5f"
            },
            "type": "carpet"
           }
          ],
          "choropleth": [
           {
            "colorbar": {
             "outlinewidth": 0,
             "ticks": ""
            },
            "type": "choropleth"
           }
          ],
          "contour": [
           {
            "colorbar": {
             "outlinewidth": 0,
             "ticks": ""
            },
            "colorscale": [
             [
              0,
              "#0d0887"
             ],
             [
              0.1111111111111111,
              "#46039f"
             ],
             [
              0.2222222222222222,
              "#7201a8"
             ],
             [
              0.3333333333333333,
              "#9c179e"
             ],
             [
              0.4444444444444444,
              "#bd3786"
             ],
             [
              0.5555555555555556,
              "#d8576b"
             ],
             [
              0.6666666666666666,
              "#ed7953"
             ],
             [
              0.7777777777777778,
              "#fb9f3a"
             ],
             [
              0.8888888888888888,
              "#fdca26"
             ],
             [
              1,
              "#f0f921"
             ]
            ],
            "type": "contour"
           }
          ],
          "contourcarpet": [
           {
            "colorbar": {
             "outlinewidth": 0,
             "ticks": ""
            },
            "type": "contourcarpet"
           }
          ],
          "heatmap": [
           {
            "colorbar": {
             "outlinewidth": 0,
             "ticks": ""
            },
            "colorscale": [
             [
              0,
              "#0d0887"
             ],
             [
              0.1111111111111111,
              "#46039f"
             ],
             [
              0.2222222222222222,
              "#7201a8"
             ],
             [
              0.3333333333333333,
              "#9c179e"
             ],
             [
              0.4444444444444444,
              "#bd3786"
             ],
             [
              0.5555555555555556,
              "#d8576b"
             ],
             [
              0.6666666666666666,
              "#ed7953"
             ],
             [
              0.7777777777777778,
              "#fb9f3a"
             ],
             [
              0.8888888888888888,
              "#fdca26"
             ],
             [
              1,
              "#f0f921"
             ]
            ],
            "type": "heatmap"
           }
          ],
          "histogram": [
           {
            "marker": {
             "pattern": {
              "fillmode": "overlay",
              "size": 10,
              "solidity": 0.2
             }
            },
            "type": "histogram"
           }
          ],
          "histogram2d": [
           {
            "colorbar": {
             "outlinewidth": 0,
             "ticks": ""
            },
            "colorscale": [
             [
              0,
              "#0d0887"
             ],
             [
              0.1111111111111111,
              "#46039f"
             ],
             [
              0.2222222222222222,
              "#7201a8"
             ],
             [
              0.3333333333333333,
              "#9c179e"
             ],
             [
              0.4444444444444444,
              "#bd3786"
             ],
             [
              0.5555555555555556,
              "#d8576b"
             ],
             [
              0.6666666666666666,
              "#ed7953"
             ],
             [
              0.7777777777777778,
              "#fb9f3a"
             ],
             [
              0.8888888888888888,
              "#fdca26"
             ],
             [
              1,
              "#f0f921"
             ]
            ],
            "type": "histogram2d"
           }
          ],
          "histogram2dcontour": [
           {
            "colorbar": {
             "outlinewidth": 0,
             "ticks": ""
            },
            "colorscale": [
             [
              0,
              "#0d0887"
             ],
             [
              0.1111111111111111,
              "#46039f"
             ],
             [
              0.2222222222222222,
              "#7201a8"
             ],
             [
              0.3333333333333333,
              "#9c179e"
             ],
             [
              0.4444444444444444,
              "#bd3786"
             ],
             [
              0.5555555555555556,
              "#d8576b"
             ],
             [
              0.6666666666666666,
              "#ed7953"
             ],
             [
              0.7777777777777778,
              "#fb9f3a"
             ],
             [
              0.8888888888888888,
              "#fdca26"
             ],
             [
              1,
              "#f0f921"
             ]
            ],
            "type": "histogram2dcontour"
           }
          ],
          "mesh3d": [
           {
            "colorbar": {
             "outlinewidth": 0,
             "ticks": ""
            },
            "type": "mesh3d"
           }
          ],
          "parcoords": [
           {
            "line": {
             "colorbar": {
              "outlinewidth": 0,
              "ticks": ""
             }
            },
            "type": "parcoords"
           }
          ],
          "pie": [
           {
            "automargin": true,
            "type": "pie"
           }
          ],
          "scatter": [
           {
            "fillpattern": {
             "fillmode": "overlay",
             "size": 10,
             "solidity": 0.2
            },
            "type": "scatter"
           }
          ],
          "scatter3d": [
           {
            "line": {
             "colorbar": {
              "outlinewidth": 0,
              "ticks": ""
             }
            },
            "marker": {
             "colorbar": {
              "outlinewidth": 0,
              "ticks": ""
             }
            },
            "type": "scatter3d"
           }
          ],
          "scattercarpet": [
           {
            "marker": {
             "colorbar": {
              "outlinewidth": 0,
              "ticks": ""
             }
            },
            "type": "scattercarpet"
           }
          ],
          "scattergeo": [
           {
            "marker": {
             "colorbar": {
              "outlinewidth": 0,
              "ticks": ""
             }
            },
            "type": "scattergeo"
           }
          ],
          "scattergl": [
           {
            "marker": {
             "colorbar": {
              "outlinewidth": 0,
              "ticks": ""
             }
            },
            "type": "scattergl"
           }
          ],
          "scattermap": [
           {
            "marker": {
             "colorbar": {
              "outlinewidth": 0,
              "ticks": ""
             }
            },
            "type": "scattermap"
           }
          ],
          "scattermapbox": [
           {
            "marker": {
             "colorbar": {
              "outlinewidth": 0,
              "ticks": ""
             }
            },
            "type": "scattermapbox"
           }
          ],
          "scatterpolar": [
           {
            "marker": {
             "colorbar": {
              "outlinewidth": 0,
              "ticks": ""
             }
            },
            "type": "scatterpolar"
           }
          ],
          "scatterpolargl": [
           {
            "marker": {
             "colorbar": {
              "outlinewidth": 0,
              "ticks": ""
             }
            },
            "type": "scatterpolargl"
           }
          ],
          "scatterternary": [
           {
            "marker": {
             "colorbar": {
              "outlinewidth": 0,
              "ticks": ""
             }
            },
            "type": "scatterternary"
           }
          ],
          "surface": [
           {
            "colorbar": {
             "outlinewidth": 0,
             "ticks": ""
            },
            "colorscale": [
             [
              0,
              "#0d0887"
             ],
             [
              0.1111111111111111,
              "#46039f"
             ],
             [
              0.2222222222222222,
              "#7201a8"
             ],
             [
              0.3333333333333333,
              "#9c179e"
             ],
             [
              0.4444444444444444,
              "#bd3786"
             ],
             [
              0.5555555555555556,
              "#d8576b"
             ],
             [
              0.6666666666666666,
              "#ed7953"
             ],
             [
              0.7777777777777778,
              "#fb9f3a"
             ],
             [
              0.8888888888888888,
              "#fdca26"
             ],
             [
              1,
              "#f0f921"
             ]
            ],
            "type": "surface"
           }
          ],
          "table": [
           {
            "cells": {
             "fill": {
              "color": "#EBF0F8"
             },
             "line": {
              "color": "white"
             }
            },
            "header": {
             "fill": {
              "color": "#C8D4E3"
             },
             "line": {
              "color": "white"
             }
            },
            "type": "table"
           }
          ]
         },
         "layout": {
          "annotationdefaults": {
           "arrowcolor": "#2a3f5f",
           "arrowhead": 0,
           "arrowwidth": 1
          },
          "autotypenumbers": "strict",
          "coloraxis": {
           "colorbar": {
            "outlinewidth": 0,
            "ticks": ""
           }
          },
          "colorscale": {
           "diverging": [
            [
             0,
             "#8e0152"
            ],
            [
             0.1,
             "#c51b7d"
            ],
            [
             0.2,
             "#de77ae"
            ],
            [
             0.3,
             "#f1b6da"
            ],
            [
             0.4,
             "#fde0ef"
            ],
            [
             0.5,
             "#f7f7f7"
            ],
            [
             0.6,
             "#e6f5d0"
            ],
            [
             0.7,
             "#b8e186"
            ],
            [
             0.8,
             "#7fbc41"
            ],
            [
             0.9,
             "#4d9221"
            ],
            [
             1,
             "#276419"
            ]
           ],
           "sequential": [
            [
             0,
             "#0d0887"
            ],
            [
             0.1111111111111111,
             "#46039f"
            ],
            [
             0.2222222222222222,
             "#7201a8"
            ],
            [
             0.3333333333333333,
             "#9c179e"
            ],
            [
             0.4444444444444444,
             "#bd3786"
            ],
            [
             0.5555555555555556,
             "#d8576b"
            ],
            [
             0.6666666666666666,
             "#ed7953"
            ],
            [
             0.7777777777777778,
             "#fb9f3a"
            ],
            [
             0.8888888888888888,
             "#fdca26"
            ],
            [
             1,
             "#f0f921"
            ]
           ],
           "sequentialminus": [
            [
             0,
             "#0d0887"
            ],
            [
             0.1111111111111111,
             "#46039f"
            ],
            [
             0.2222222222222222,
             "#7201a8"
            ],
            [
             0.3333333333333333,
             "#9c179e"
            ],
            [
             0.4444444444444444,
             "#bd3786"
            ],
            [
             0.5555555555555556,
             "#d8576b"
            ],
            [
             0.6666666666666666,
             "#ed7953"
            ],
            [
             0.7777777777777778,
             "#fb9f3a"
            ],
            [
             0.8888888888888888,
             "#fdca26"
            ],
            [
             1,
             "#f0f921"
            ]
           ]
          },
          "colorway": [
           "#636efa",
           "#EF553B",
           "#00cc96",
           "#ab63fa",
           "#FFA15A",
           "#19d3f3",
           "#FF6692",
           "#B6E880",
           "#FF97FF",
           "#FECB52"
          ],
          "font": {
           "color": "#2a3f5f"
          },
          "geo": {
           "bgcolor": "white",
           "lakecolor": "white",
           "landcolor": "white",
           "showlakes": true,
           "showland": true,
           "subunitcolor": "#C8D4E3"
          },
          "hoverlabel": {
           "align": "left"
          },
          "hovermode": "closest",
          "mapbox": {
           "style": "light"
          },
          "paper_bgcolor": "white",
          "plot_bgcolor": "white",
          "polar": {
           "angularaxis": {
            "gridcolor": "#EBF0F8",
            "linecolor": "#EBF0F8",
            "ticks": ""
           },
           "bgcolor": "white",
           "radialaxis": {
            "gridcolor": "#EBF0F8",
            "linecolor": "#EBF0F8",
            "ticks": ""
           }
          },
          "scene": {
           "xaxis": {
            "backgroundcolor": "white",
            "gridcolor": "#DFE8F3",
            "gridwidth": 2,
            "linecolor": "#EBF0F8",
            "showbackground": true,
            "ticks": "",
            "zerolinecolor": "#EBF0F8"
           },
           "yaxis": {
            "backgroundcolor": "white",
            "gridcolor": "#DFE8F3",
            "gridwidth": 2,
            "linecolor": "#EBF0F8",
            "showbackground": true,
            "ticks": "",
            "zerolinecolor": "#EBF0F8"
           },
           "zaxis": {
            "backgroundcolor": "white",
            "gridcolor": "#DFE8F3",
            "gridwidth": 2,
            "linecolor": "#EBF0F8",
            "showbackground": true,
            "ticks": "",
            "zerolinecolor": "#EBF0F8"
           }
          },
          "shapedefaults": {
           "line": {
            "color": "#2a3f5f"
           }
          },
          "ternary": {
           "aaxis": {
            "gridcolor": "#DFE8F3",
            "linecolor": "#A2B1C6",
            "ticks": ""
           },
           "baxis": {
            "gridcolor": "#DFE8F3",
            "linecolor": "#A2B1C6",
            "ticks": ""
           },
           "bgcolor": "white",
           "caxis": {
            "gridcolor": "#DFE8F3",
            "linecolor": "#A2B1C6",
            "ticks": ""
           }
          },
          "title": {
           "x": 0.05
          },
          "xaxis": {
           "automargin": true,
           "gridcolor": "#EBF0F8",
           "linecolor": "#EBF0F8",
           "ticks": "",
           "title": {
            "standoff": 15
           },
           "zerolinecolor": "#EBF0F8",
           "zerolinewidth": 2
          },
          "yaxis": {
           "automargin": true,
           "gridcolor": "#EBF0F8",
           "linecolor": "#EBF0F8",
           "ticks": "",
           "title": {
            "standoff": 15
           },
           "zerolinecolor": "#EBF0F8",
           "zerolinewidth": 2
          }
         }
        },
        "title": {
         "text": "Análisis de Autocorrelación - IT"
        },
        "xaxis": {
         "title": {
          "text": "Lags"
         }
        },
        "yaxis": {
         "title": {
          "text": "Autocorrelación"
         }
        }
       }
      }
     },
     "metadata": {},
     "output_type": "display_data"
    },
    {
     "name": "stdout",
     "output_type": "stream",
     "text": [
      "\n",
      "Analizando Marketing...\n",
      "\n",
      "Resultados del análisis de estacionalidad para Marketing:\n",
      "----------------------------------------------------------------------\n",
      "Tipo de estacionalidad: Débil\n",
      "Fuerza de la estacionalidad: 0.27\n",
      "Posible período estacional: 12 semanas\n",
      "Lags significativos: [12]\n"
     ]
    },
    {
     "data": {
      "application/vnd.plotly.v1+json": {
       "config": {
        "plotlyServerURL": "https://plot.ly"
       },
       "data": [
        {
         "line": {
          "color": "blue"
         },
         "mode": "lines",
         "name": "ACF",
         "type": "scatter",
         "x": {
          "bdata": "AAAAAAEAAAACAAAAAwAAAAQAAAAFAAAABgAAAAcAAAAIAAAACQAAAAoAAAALAAAADAAAAA0AAAAOAAAADwAAABAAAAARAAAAEgAAABMAAAAUAAAAFQAAABYAAAAXAAAAGAAAABkAAAAaAAAAGwAAABwAAAAdAAAAHgAAAB8AAAAgAAAAIQAAACIAAAAjAAAAJAAAACUAAAAmAAAAJwAAACgAAAApAAAAKgAAACsAAAAsAAAALQAAAC4AAAAvAAAAMAAAADEAAAAyAAAAMwAAADQAAAA=",
          "dtype": "i4"
         },
         "y": {
          "bdata": "AAAAAAAA8D9HKaSYjaDAPzrDtM18ape/AkkgP5ixur+vhi7kWX6Xvw0CAlpBTbS/SyCX7tKw0L+Ld7aq9PK3vweM1AaJ54u//bJsLvUHyb8mO1k8pPizv50kTU7ydZS/N33FU/130T8U5Zt6GJC5Py1lXsn0PGS/0rpDInRWkD/RpLmew7KMvx//3uUfYqG/vR3N+P72wr/ex/9NmN6nv0VN2KlfJ4G/47V3QJPkrz8886uJOkTAvy1a0Q3CbqY/mq7TRFScpz/iD+zqMkl4PytzktXJ5VG/dPRysU7lxD8UozLlgdycP/fkgMQ+MUm/v1zyDHsOwL/KvfCEw8OVv7o8JbaKSME/7WAOfGsnwT/J3n++Yi6Sv56jHUZbR1k/ucU6EapHqL/VuXKGYEejv5bjRS+zTMe/g6wWAUH0eT++UfPBuNSyP6VeZmoDtqW/S9jUp3vSs79JKvqRjrWvvzMX9G2i7rs/5d/telfQrD+GFzkE+rOgv7r2OywFNWo/OXJlkTcGc7/8m8cz4RpdP9I4QLhfpJU/JaK1J5DXij/VKvzSfDlHPw==",
          "dtype": "f8"
         }
        },
        {
         "line": {
          "color": "red",
          "dash": "dash"
         },
         "mode": "lines",
         "name": "Límite de confianza superior",
         "type": "scatter",
         "x": {
          "bdata": "AAAAAAEAAAACAAAAAwAAAAQAAAAFAAAABgAAAAcAAAAIAAAACQAAAAoAAAALAAAADAAAAA0AAAAOAAAADwAAABAAAAARAAAAEgAAABMAAAAUAAAAFQAAABYAAAAXAAAAGAAAABkAAAAaAAAAGwAAABwAAAAdAAAAHgAAAB8AAAAgAAAAIQAAACIAAAAjAAAAJAAAACUAAAAmAAAAJwAAACgAAAApAAAAKgAAACsAAAAsAAAALQAAAC4AAAAvAAAAMAAAADEAAAAyAAAAMwAAADQAAAA=",
          "dtype": "i4"
         },
         "y": [
          0.2692267053394305,
          0.2692267053394305,
          0.2692267053394305,
          0.2692267053394305,
          0.2692267053394305,
          0.2692267053394305,
          0.2692267053394305,
          0.2692267053394305,
          0.2692267053394305,
          0.2692267053394305,
          0.2692267053394305,
          0.2692267053394305,
          0.2692267053394305,
          0.2692267053394305,
          0.2692267053394305,
          0.2692267053394305,
          0.2692267053394305,
          0.2692267053394305,
          0.2692267053394305,
          0.2692267053394305,
          0.2692267053394305,
          0.2692267053394305,
          0.2692267053394305,
          0.2692267053394305,
          0.2692267053394305,
          0.2692267053394305,
          0.2692267053394305,
          0.2692267053394305,
          0.2692267053394305,
          0.2692267053394305,
          0.2692267053394305,
          0.2692267053394305,
          0.2692267053394305,
          0.2692267053394305,
          0.2692267053394305,
          0.2692267053394305,
          0.2692267053394305,
          0.2692267053394305,
          0.2692267053394305,
          0.2692267053394305,
          0.2692267053394305,
          0.2692267053394305,
          0.2692267053394305,
          0.2692267053394305,
          0.2692267053394305,
          0.2692267053394305,
          0.2692267053394305,
          0.2692267053394305,
          0.2692267053394305,
          0.2692267053394305,
          0.2692267053394305,
          0.2692267053394305,
          0.2692267053394305
         ]
        },
        {
         "line": {
          "color": "red",
          "dash": "dash"
         },
         "mode": "lines",
         "name": "Límite de confianza inferior",
         "type": "scatter",
         "x": {
          "bdata": "AAAAAAEAAAACAAAAAwAAAAQAAAAFAAAABgAAAAcAAAAIAAAACQAAAAoAAAALAAAADAAAAA0AAAAOAAAADwAAABAAAAARAAAAEgAAABMAAAAUAAAAFQAAABYAAAAXAAAAGAAAABkAAAAaAAAAGwAAABwAAAAdAAAAHgAAAB8AAAAgAAAAIQAAACIAAAAjAAAAJAAAACUAAAAmAAAAJwAAACgAAAApAAAAKgAAACsAAAAsAAAALQAAAC4AAAAvAAAAMAAAADEAAAAyAAAAMwAAADQAAAA=",
          "dtype": "i4"
         },
         "y": [
          -0.2692267053394305,
          -0.2692267053394305,
          -0.2692267053394305,
          -0.2692267053394305,
          -0.2692267053394305,
          -0.2692267053394305,
          -0.2692267053394305,
          -0.2692267053394305,
          -0.2692267053394305,
          -0.2692267053394305,
          -0.2692267053394305,
          -0.2692267053394305,
          -0.2692267053394305,
          -0.2692267053394305,
          -0.2692267053394305,
          -0.2692267053394305,
          -0.2692267053394305,
          -0.2692267053394305,
          -0.2692267053394305,
          -0.2692267053394305,
          -0.2692267053394305,
          -0.2692267053394305,
          -0.2692267053394305,
          -0.2692267053394305,
          -0.2692267053394305,
          -0.2692267053394305,
          -0.2692267053394305,
          -0.2692267053394305,
          -0.2692267053394305,
          -0.2692267053394305,
          -0.2692267053394305,
          -0.2692267053394305,
          -0.2692267053394305,
          -0.2692267053394305,
          -0.2692267053394305,
          -0.2692267053394305,
          -0.2692267053394305,
          -0.2692267053394305,
          -0.2692267053394305,
          -0.2692267053394305,
          -0.2692267053394305,
          -0.2692267053394305,
          -0.2692267053394305,
          -0.2692267053394305,
          -0.2692267053394305,
          -0.2692267053394305,
          -0.2692267053394305,
          -0.2692267053394305,
          -0.2692267053394305,
          -0.2692267053394305,
          -0.2692267053394305,
          -0.2692267053394305,
          -0.2692267053394305
         ]
        }
       ],
       "layout": {
        "height": 400,
        "legend": {
         "orientation": "h",
         "x": 0.5,
         "xanchor": "center",
         "y": -0.4,
         "yanchor": "bottom"
        },
        "showlegend": true,
        "template": {
         "data": {
          "bar": [
           {
            "error_x": {
             "color": "#2a3f5f"
            },
            "error_y": {
             "color": "#2a3f5f"
            },
            "marker": {
             "line": {
              "color": "white",
              "width": 0.5
             },
             "pattern": {
              "fillmode": "overlay",
              "size": 10,
              "solidity": 0.2
             }
            },
            "type": "bar"
           }
          ],
          "barpolar": [
           {
            "marker": {
             "line": {
              "color": "white",
              "width": 0.5
             },
             "pattern": {
              "fillmode": "overlay",
              "size": 10,
              "solidity": 0.2
             }
            },
            "type": "barpolar"
           }
          ],
          "carpet": [
           {
            "aaxis": {
             "endlinecolor": "#2a3f5f",
             "gridcolor": "#C8D4E3",
             "linecolor": "#C8D4E3",
             "minorgridcolor": "#C8D4E3",
             "startlinecolor": "#2a3f5f"
            },
            "baxis": {
             "endlinecolor": "#2a3f5f",
             "gridcolor": "#C8D4E3",
             "linecolor": "#C8D4E3",
             "minorgridcolor": "#C8D4E3",
             "startlinecolor": "#2a3f5f"
            },
            "type": "carpet"
           }
          ],
          "choropleth": [
           {
            "colorbar": {
             "outlinewidth": 0,
             "ticks": ""
            },
            "type": "choropleth"
           }
          ],
          "contour": [
           {
            "colorbar": {
             "outlinewidth": 0,
             "ticks": ""
            },
            "colorscale": [
             [
              0,
              "#0d0887"
             ],
             [
              0.1111111111111111,
              "#46039f"
             ],
             [
              0.2222222222222222,
              "#7201a8"
             ],
             [
              0.3333333333333333,
              "#9c179e"
             ],
             [
              0.4444444444444444,
              "#bd3786"
             ],
             [
              0.5555555555555556,
              "#d8576b"
             ],
             [
              0.6666666666666666,
              "#ed7953"
             ],
             [
              0.7777777777777778,
              "#fb9f3a"
             ],
             [
              0.8888888888888888,
              "#fdca26"
             ],
             [
              1,
              "#f0f921"
             ]
            ],
            "type": "contour"
           }
          ],
          "contourcarpet": [
           {
            "colorbar": {
             "outlinewidth": 0,
             "ticks": ""
            },
            "type": "contourcarpet"
           }
          ],
          "heatmap": [
           {
            "colorbar": {
             "outlinewidth": 0,
             "ticks": ""
            },
            "colorscale": [
             [
              0,
              "#0d0887"
             ],
             [
              0.1111111111111111,
              "#46039f"
             ],
             [
              0.2222222222222222,
              "#7201a8"
             ],
             [
              0.3333333333333333,
              "#9c179e"
             ],
             [
              0.4444444444444444,
              "#bd3786"
             ],
             [
              0.5555555555555556,
              "#d8576b"
             ],
             [
              0.6666666666666666,
              "#ed7953"
             ],
             [
              0.7777777777777778,
              "#fb9f3a"
             ],
             [
              0.8888888888888888,
              "#fdca26"
             ],
             [
              1,
              "#f0f921"
             ]
            ],
            "type": "heatmap"
           }
          ],
          "histogram": [
           {
            "marker": {
             "pattern": {
              "fillmode": "overlay",
              "size": 10,
              "solidity": 0.2
             }
            },
            "type": "histogram"
           }
          ],
          "histogram2d": [
           {
            "colorbar": {
             "outlinewidth": 0,
             "ticks": ""
            },
            "colorscale": [
             [
              0,
              "#0d0887"
             ],
             [
              0.1111111111111111,
              "#46039f"
             ],
             [
              0.2222222222222222,
              "#7201a8"
             ],
             [
              0.3333333333333333,
              "#9c179e"
             ],
             [
              0.4444444444444444,
              "#bd3786"
             ],
             [
              0.5555555555555556,
              "#d8576b"
             ],
             [
              0.6666666666666666,
              "#ed7953"
             ],
             [
              0.7777777777777778,
              "#fb9f3a"
             ],
             [
              0.8888888888888888,
              "#fdca26"
             ],
             [
              1,
              "#f0f921"
             ]
            ],
            "type": "histogram2d"
           }
          ],
          "histogram2dcontour": [
           {
            "colorbar": {
             "outlinewidth": 0,
             "ticks": ""
            },
            "colorscale": [
             [
              0,
              "#0d0887"
             ],
             [
              0.1111111111111111,
              "#46039f"
             ],
             [
              0.2222222222222222,
              "#7201a8"
             ],
             [
              0.3333333333333333,
              "#9c179e"
             ],
             [
              0.4444444444444444,
              "#bd3786"
             ],
             [
              0.5555555555555556,
              "#d8576b"
             ],
             [
              0.6666666666666666,
              "#ed7953"
             ],
             [
              0.7777777777777778,
              "#fb9f3a"
             ],
             [
              0.8888888888888888,
              "#fdca26"
             ],
             [
              1,
              "#f0f921"
             ]
            ],
            "type": "histogram2dcontour"
           }
          ],
          "mesh3d": [
           {
            "colorbar": {
             "outlinewidth": 0,
             "ticks": ""
            },
            "type": "mesh3d"
           }
          ],
          "parcoords": [
           {
            "line": {
             "colorbar": {
              "outlinewidth": 0,
              "ticks": ""
             }
            },
            "type": "parcoords"
           }
          ],
          "pie": [
           {
            "automargin": true,
            "type": "pie"
           }
          ],
          "scatter": [
           {
            "fillpattern": {
             "fillmode": "overlay",
             "size": 10,
             "solidity": 0.2
            },
            "type": "scatter"
           }
          ],
          "scatter3d": [
           {
            "line": {
             "colorbar": {
              "outlinewidth": 0,
              "ticks": ""
             }
            },
            "marker": {
             "colorbar": {
              "outlinewidth": 0,
              "ticks": ""
             }
            },
            "type": "scatter3d"
           }
          ],
          "scattercarpet": [
           {
            "marker": {
             "colorbar": {
              "outlinewidth": 0,
              "ticks": ""
             }
            },
            "type": "scattercarpet"
           }
          ],
          "scattergeo": [
           {
            "marker": {
             "colorbar": {
              "outlinewidth": 0,
              "ticks": ""
             }
            },
            "type": "scattergeo"
           }
          ],
          "scattergl": [
           {
            "marker": {
             "colorbar": {
              "outlinewidth": 0,
              "ticks": ""
             }
            },
            "type": "scattergl"
           }
          ],
          "scattermap": [
           {
            "marker": {
             "colorbar": {
              "outlinewidth": 0,
              "ticks": ""
             }
            },
            "type": "scattermap"
           }
          ],
          "scattermapbox": [
           {
            "marker": {
             "colorbar": {
              "outlinewidth": 0,
              "ticks": ""
             }
            },
            "type": "scattermapbox"
           }
          ],
          "scatterpolar": [
           {
            "marker": {
             "colorbar": {
              "outlinewidth": 0,
              "ticks": ""
             }
            },
            "type": "scatterpolar"
           }
          ],
          "scatterpolargl": [
           {
            "marker": {
             "colorbar": {
              "outlinewidth": 0,
              "ticks": ""
             }
            },
            "type": "scatterpolargl"
           }
          ],
          "scatterternary": [
           {
            "marker": {
             "colorbar": {
              "outlinewidth": 0,
              "ticks": ""
             }
            },
            "type": "scatterternary"
           }
          ],
          "surface": [
           {
            "colorbar": {
             "outlinewidth": 0,
             "ticks": ""
            },
            "colorscale": [
             [
              0,
              "#0d0887"
             ],
             [
              0.1111111111111111,
              "#46039f"
             ],
             [
              0.2222222222222222,
              "#7201a8"
             ],
             [
              0.3333333333333333,
              "#9c179e"
             ],
             [
              0.4444444444444444,
              "#bd3786"
             ],
             [
              0.5555555555555556,
              "#d8576b"
             ],
             [
              0.6666666666666666,
              "#ed7953"
             ],
             [
              0.7777777777777778,
              "#fb9f3a"
             ],
             [
              0.8888888888888888,
              "#fdca26"
             ],
             [
              1,
              "#f0f921"
             ]
            ],
            "type": "surface"
           }
          ],
          "table": [
           {
            "cells": {
             "fill": {
              "color": "#EBF0F8"
             },
             "line": {
              "color": "white"
             }
            },
            "header": {
             "fill": {
              "color": "#C8D4E3"
             },
             "line": {
              "color": "white"
             }
            },
            "type": "table"
           }
          ]
         },
         "layout": {
          "annotationdefaults": {
           "arrowcolor": "#2a3f5f",
           "arrowhead": 0,
           "arrowwidth": 1
          },
          "autotypenumbers": "strict",
          "coloraxis": {
           "colorbar": {
            "outlinewidth": 0,
            "ticks": ""
           }
          },
          "colorscale": {
           "diverging": [
            [
             0,
             "#8e0152"
            ],
            [
             0.1,
             "#c51b7d"
            ],
            [
             0.2,
             "#de77ae"
            ],
            [
             0.3,
             "#f1b6da"
            ],
            [
             0.4,
             "#fde0ef"
            ],
            [
             0.5,
             "#f7f7f7"
            ],
            [
             0.6,
             "#e6f5d0"
            ],
            [
             0.7,
             "#b8e186"
            ],
            [
             0.8,
             "#7fbc41"
            ],
            [
             0.9,
             "#4d9221"
            ],
            [
             1,
             "#276419"
            ]
           ],
           "sequential": [
            [
             0,
             "#0d0887"
            ],
            [
             0.1111111111111111,
             "#46039f"
            ],
            [
             0.2222222222222222,
             "#7201a8"
            ],
            [
             0.3333333333333333,
             "#9c179e"
            ],
            [
             0.4444444444444444,
             "#bd3786"
            ],
            [
             0.5555555555555556,
             "#d8576b"
            ],
            [
             0.6666666666666666,
             "#ed7953"
            ],
            [
             0.7777777777777778,
             "#fb9f3a"
            ],
            [
             0.8888888888888888,
             "#fdca26"
            ],
            [
             1,
             "#f0f921"
            ]
           ],
           "sequentialminus": [
            [
             0,
             "#0d0887"
            ],
            [
             0.1111111111111111,
             "#46039f"
            ],
            [
             0.2222222222222222,
             "#7201a8"
            ],
            [
             0.3333333333333333,
             "#9c179e"
            ],
            [
             0.4444444444444444,
             "#bd3786"
            ],
            [
             0.5555555555555556,
             "#d8576b"
            ],
            [
             0.6666666666666666,
             "#ed7953"
            ],
            [
             0.7777777777777778,
             "#fb9f3a"
            ],
            [
             0.8888888888888888,
             "#fdca26"
            ],
            [
             1,
             "#f0f921"
            ]
           ]
          },
          "colorway": [
           "#636efa",
           "#EF553B",
           "#00cc96",
           "#ab63fa",
           "#FFA15A",
           "#19d3f3",
           "#FF6692",
           "#B6E880",
           "#FF97FF",
           "#FECB52"
          ],
          "font": {
           "color": "#2a3f5f"
          },
          "geo": {
           "bgcolor": "white",
           "lakecolor": "white",
           "landcolor": "white",
           "showlakes": true,
           "showland": true,
           "subunitcolor": "#C8D4E3"
          },
          "hoverlabel": {
           "align": "left"
          },
          "hovermode": "closest",
          "mapbox": {
           "style": "light"
          },
          "paper_bgcolor": "white",
          "plot_bgcolor": "white",
          "polar": {
           "angularaxis": {
            "gridcolor": "#EBF0F8",
            "linecolor": "#EBF0F8",
            "ticks": ""
           },
           "bgcolor": "white",
           "radialaxis": {
            "gridcolor": "#EBF0F8",
            "linecolor": "#EBF0F8",
            "ticks": ""
           }
          },
          "scene": {
           "xaxis": {
            "backgroundcolor": "white",
            "gridcolor": "#DFE8F3",
            "gridwidth": 2,
            "linecolor": "#EBF0F8",
            "showbackground": true,
            "ticks": "",
            "zerolinecolor": "#EBF0F8"
           },
           "yaxis": {
            "backgroundcolor": "white",
            "gridcolor": "#DFE8F3",
            "gridwidth": 2,
            "linecolor": "#EBF0F8",
            "showbackground": true,
            "ticks": "",
            "zerolinecolor": "#EBF0F8"
           },
           "zaxis": {
            "backgroundcolor": "white",
            "gridcolor": "#DFE8F3",
            "gridwidth": 2,
            "linecolor": "#EBF0F8",
            "showbackground": true,
            "ticks": "",
            "zerolinecolor": "#EBF0F8"
           }
          },
          "shapedefaults": {
           "line": {
            "color": "#2a3f5f"
           }
          },
          "ternary": {
           "aaxis": {
            "gridcolor": "#DFE8F3",
            "linecolor": "#A2B1C6",
            "ticks": ""
           },
           "baxis": {
            "gridcolor": "#DFE8F3",
            "linecolor": "#A2B1C6",
            "ticks": ""
           },
           "bgcolor": "white",
           "caxis": {
            "gridcolor": "#DFE8F3",
            "linecolor": "#A2B1C6",
            "ticks": ""
           }
          },
          "title": {
           "x": 0.05
          },
          "xaxis": {
           "automargin": true,
           "gridcolor": "#EBF0F8",
           "linecolor": "#EBF0F8",
           "ticks": "",
           "title": {
            "standoff": 15
           },
           "zerolinecolor": "#EBF0F8",
           "zerolinewidth": 2
          },
          "yaxis": {
           "automargin": true,
           "gridcolor": "#EBF0F8",
           "linecolor": "#EBF0F8",
           "ticks": "",
           "title": {
            "standoff": 15
           },
           "zerolinecolor": "#EBF0F8",
           "zerolinewidth": 2
          }
         }
        },
        "title": {
         "text": "Análisis de Autocorrelación - Marketing"
        },
        "xaxis": {
         "title": {
          "text": "Lags"
         }
        },
        "yaxis": {
         "title": {
          "text": "Autocorrelación"
         }
        }
       }
      }
     },
     "metadata": {},
     "output_type": "display_data"
    },
    {
     "name": "stdout",
     "output_type": "stream",
     "text": [
      "\n",
      "Analizando Sales...\n",
      "\n",
      "Resultados del análisis de estacionalidad para Sales:\n",
      "----------------------------------------------------------------------\n",
      "Tipo de estacionalidad: Débil\n",
      "Fuerza de la estacionalidad: 0.27\n",
      "Posible período estacional: 5 semanas\n",
      "Lags significativos: [1, 5]\n"
     ]
    },
    {
     "data": {
      "application/vnd.plotly.v1+json": {
       "config": {
        "plotlyServerURL": "https://plot.ly"
       },
       "data": [
        {
         "line": {
          "color": "blue"
         },
         "mode": "lines",
         "name": "ACF",
         "type": "scatter",
         "x": {
          "bdata": "AAAAAAEAAAACAAAAAwAAAAQAAAAFAAAABgAAAAcAAAAIAAAACQAAAAoAAAALAAAADAAAAA0AAAAOAAAADwAAABAAAAARAAAAEgAAABMAAAAUAAAAFQAAABYAAAAXAAAAGAAAABkAAAAaAAAAGwAAABwAAAAdAAAAHgAAAB8AAAAgAAAAIQAAACIAAAAjAAAAJAAAACUAAAAmAAAAJwAAACgAAAApAAAAKgAAACsAAAAsAAAALQAAAC4AAAAvAAAAMAAAADEAAAAyAAAAMwAAADQAAAA=",
          "dtype": "i4"
         },
         "y": {
          "bdata": "AAAAAAAA8D85mkhyTMTbP2wcItLcPsw/y8+tkuVAcL/wAWzu/t/Ov9ohgcSWf9G/ho57HRy7zb++fKljBu65v3bSJOSpqJ8/gIAx6eOKuT9kOOqTycquP/gVAQ+QVb4/mnk7FstHZr+tAGkpG/bMv0DWt6TVqcu/HQNjRyQkzL8uRbVf1pOyv5kvGioMZI0/GAcACidCvD9P6syybMHHP9PKWqIMbc8/kvMQrJDkxj+a3ZBm7UWqP6ya0iHUCbW/95y7r6wLxL9nKWpHoXHMv4k6WrNZFsq/JiyjhhdDsL/9YtmskyaCPxwURpdhvK8/NVMVqf88sz9yxbZGvj+IP8PxXnAaeJE/4INTz7tstr8DAOsn2THAvyCW/K60a7S/67SVWy+Jjj9IV8NBlgKmP907E6BepLU/YokyrPckxT9j07UUKqPFPxH7dAWIi7A/+5vOUIJAnj8/MkTXlxqwv3bXZk3GN7q/McxX/Hgbyr/jtSHCz065v9BrJdYDOqW/jNNNwTUYkj9juehGfrydP7jRCSOLaqw/lrsuuUL0nT8vIUJl3sd2vw==",
          "dtype": "f8"
         }
        },
        {
         "line": {
          "color": "red",
          "dash": "dash"
         },
         "mode": "lines",
         "name": "Límite de confianza superior",
         "type": "scatter",
         "x": {
          "bdata": "AAAAAAEAAAACAAAAAwAAAAQAAAAFAAAABgAAAAcAAAAIAAAACQAAAAoAAAALAAAADAAAAA0AAAAOAAAADwAAABAAAAARAAAAEgAAABMAAAAUAAAAFQAAABYAAAAXAAAAGAAAABkAAAAaAAAAGwAAABwAAAAdAAAAHgAAAB8AAAAgAAAAIQAAACIAAAAjAAAAJAAAACUAAAAmAAAAJwAAACgAAAApAAAAKgAAACsAAAAsAAAALQAAAC4AAAAvAAAAMAAAADEAAAAyAAAAMwAAADQAAAA=",
          "dtype": "i4"
         },
         "y": [
          0.2692267053394305,
          0.2692267053394305,
          0.2692267053394305,
          0.2692267053394305,
          0.2692267053394305,
          0.2692267053394305,
          0.2692267053394305,
          0.2692267053394305,
          0.2692267053394305,
          0.2692267053394305,
          0.2692267053394305,
          0.2692267053394305,
          0.2692267053394305,
          0.2692267053394305,
          0.2692267053394305,
          0.2692267053394305,
          0.2692267053394305,
          0.2692267053394305,
          0.2692267053394305,
          0.2692267053394305,
          0.2692267053394305,
          0.2692267053394305,
          0.2692267053394305,
          0.2692267053394305,
          0.2692267053394305,
          0.2692267053394305,
          0.2692267053394305,
          0.2692267053394305,
          0.2692267053394305,
          0.2692267053394305,
          0.2692267053394305,
          0.2692267053394305,
          0.2692267053394305,
          0.2692267053394305,
          0.2692267053394305,
          0.2692267053394305,
          0.2692267053394305,
          0.2692267053394305,
          0.2692267053394305,
          0.2692267053394305,
          0.2692267053394305,
          0.2692267053394305,
          0.2692267053394305,
          0.2692267053394305,
          0.2692267053394305,
          0.2692267053394305,
          0.2692267053394305,
          0.2692267053394305,
          0.2692267053394305,
          0.2692267053394305,
          0.2692267053394305,
          0.2692267053394305,
          0.2692267053394305
         ]
        },
        {
         "line": {
          "color": "red",
          "dash": "dash"
         },
         "mode": "lines",
         "name": "Límite de confianza inferior",
         "type": "scatter",
         "x": {
          "bdata": "AAAAAAEAAAACAAAAAwAAAAQAAAAFAAAABgAAAAcAAAAIAAAACQAAAAoAAAALAAAADAAAAA0AAAAOAAAADwAAABAAAAARAAAAEgAAABMAAAAUAAAAFQAAABYAAAAXAAAAGAAAABkAAAAaAAAAGwAAABwAAAAdAAAAHgAAAB8AAAAgAAAAIQAAACIAAAAjAAAAJAAAACUAAAAmAAAAJwAAACgAAAApAAAAKgAAACsAAAAsAAAALQAAAC4AAAAvAAAAMAAAADEAAAAyAAAAMwAAADQAAAA=",
          "dtype": "i4"
         },
         "y": [
          -0.2692267053394305,
          -0.2692267053394305,
          -0.2692267053394305,
          -0.2692267053394305,
          -0.2692267053394305,
          -0.2692267053394305,
          -0.2692267053394305,
          -0.2692267053394305,
          -0.2692267053394305,
          -0.2692267053394305,
          -0.2692267053394305,
          -0.2692267053394305,
          -0.2692267053394305,
          -0.2692267053394305,
          -0.2692267053394305,
          -0.2692267053394305,
          -0.2692267053394305,
          -0.2692267053394305,
          -0.2692267053394305,
          -0.2692267053394305,
          -0.2692267053394305,
          -0.2692267053394305,
          -0.2692267053394305,
          -0.2692267053394305,
          -0.2692267053394305,
          -0.2692267053394305,
          -0.2692267053394305,
          -0.2692267053394305,
          -0.2692267053394305,
          -0.2692267053394305,
          -0.2692267053394305,
          -0.2692267053394305,
          -0.2692267053394305,
          -0.2692267053394305,
          -0.2692267053394305,
          -0.2692267053394305,
          -0.2692267053394305,
          -0.2692267053394305,
          -0.2692267053394305,
          -0.2692267053394305,
          -0.2692267053394305,
          -0.2692267053394305,
          -0.2692267053394305,
          -0.2692267053394305,
          -0.2692267053394305,
          -0.2692267053394305,
          -0.2692267053394305,
          -0.2692267053394305,
          -0.2692267053394305,
          -0.2692267053394305,
          -0.2692267053394305,
          -0.2692267053394305,
          -0.2692267053394305
         ]
        }
       ],
       "layout": {
        "height": 400,
        "legend": {
         "orientation": "h",
         "x": 0.5,
         "xanchor": "center",
         "y": -0.4,
         "yanchor": "bottom"
        },
        "showlegend": true,
        "template": {
         "data": {
          "bar": [
           {
            "error_x": {
             "color": "#2a3f5f"
            },
            "error_y": {
             "color": "#2a3f5f"
            },
            "marker": {
             "line": {
              "color": "white",
              "width": 0.5
             },
             "pattern": {
              "fillmode": "overlay",
              "size": 10,
              "solidity": 0.2
             }
            },
            "type": "bar"
           }
          ],
          "barpolar": [
           {
            "marker": {
             "line": {
              "color": "white",
              "width": 0.5
             },
             "pattern": {
              "fillmode": "overlay",
              "size": 10,
              "solidity": 0.2
             }
            },
            "type": "barpolar"
           }
          ],
          "carpet": [
           {
            "aaxis": {
             "endlinecolor": "#2a3f5f",
             "gridcolor": "#C8D4E3",
             "linecolor": "#C8D4E3",
             "minorgridcolor": "#C8D4E3",
             "startlinecolor": "#2a3f5f"
            },
            "baxis": {
             "endlinecolor": "#2a3f5f",
             "gridcolor": "#C8D4E3",
             "linecolor": "#C8D4E3",
             "minorgridcolor": "#C8D4E3",
             "startlinecolor": "#2a3f5f"
            },
            "type": "carpet"
           }
          ],
          "choropleth": [
           {
            "colorbar": {
             "outlinewidth": 0,
             "ticks": ""
            },
            "type": "choropleth"
           }
          ],
          "contour": [
           {
            "colorbar": {
             "outlinewidth": 0,
             "ticks": ""
            },
            "colorscale": [
             [
              0,
              "#0d0887"
             ],
             [
              0.1111111111111111,
              "#46039f"
             ],
             [
              0.2222222222222222,
              "#7201a8"
             ],
             [
              0.3333333333333333,
              "#9c179e"
             ],
             [
              0.4444444444444444,
              "#bd3786"
             ],
             [
              0.5555555555555556,
              "#d8576b"
             ],
             [
              0.6666666666666666,
              "#ed7953"
             ],
             [
              0.7777777777777778,
              "#fb9f3a"
             ],
             [
              0.8888888888888888,
              "#fdca26"
             ],
             [
              1,
              "#f0f921"
             ]
            ],
            "type": "contour"
           }
          ],
          "contourcarpet": [
           {
            "colorbar": {
             "outlinewidth": 0,
             "ticks": ""
            },
            "type": "contourcarpet"
           }
          ],
          "heatmap": [
           {
            "colorbar": {
             "outlinewidth": 0,
             "ticks": ""
            },
            "colorscale": [
             [
              0,
              "#0d0887"
             ],
             [
              0.1111111111111111,
              "#46039f"
             ],
             [
              0.2222222222222222,
              "#7201a8"
             ],
             [
              0.3333333333333333,
              "#9c179e"
             ],
             [
              0.4444444444444444,
              "#bd3786"
             ],
             [
              0.5555555555555556,
              "#d8576b"
             ],
             [
              0.6666666666666666,
              "#ed7953"
             ],
             [
              0.7777777777777778,
              "#fb9f3a"
             ],
             [
              0.8888888888888888,
              "#fdca26"
             ],
             [
              1,
              "#f0f921"
             ]
            ],
            "type": "heatmap"
           }
          ],
          "histogram": [
           {
            "marker": {
             "pattern": {
              "fillmode": "overlay",
              "size": 10,
              "solidity": 0.2
             }
            },
            "type": "histogram"
           }
          ],
          "histogram2d": [
           {
            "colorbar": {
             "outlinewidth": 0,
             "ticks": ""
            },
            "colorscale": [
             [
              0,
              "#0d0887"
             ],
             [
              0.1111111111111111,
              "#46039f"
             ],
             [
              0.2222222222222222,
              "#7201a8"
             ],
             [
              0.3333333333333333,
              "#9c179e"
             ],
             [
              0.4444444444444444,
              "#bd3786"
             ],
             [
              0.5555555555555556,
              "#d8576b"
             ],
             [
              0.6666666666666666,
              "#ed7953"
             ],
             [
              0.7777777777777778,
              "#fb9f3a"
             ],
             [
              0.8888888888888888,
              "#fdca26"
             ],
             [
              1,
              "#f0f921"
             ]
            ],
            "type": "histogram2d"
           }
          ],
          "histogram2dcontour": [
           {
            "colorbar": {
             "outlinewidth": 0,
             "ticks": ""
            },
            "colorscale": [
             [
              0,
              "#0d0887"
             ],
             [
              0.1111111111111111,
              "#46039f"
             ],
             [
              0.2222222222222222,
              "#7201a8"
             ],
             [
              0.3333333333333333,
              "#9c179e"
             ],
             [
              0.4444444444444444,
              "#bd3786"
             ],
             [
              0.5555555555555556,
              "#d8576b"
             ],
             [
              0.6666666666666666,
              "#ed7953"
             ],
             [
              0.7777777777777778,
              "#fb9f3a"
             ],
             [
              0.8888888888888888,
              "#fdca26"
             ],
             [
              1,
              "#f0f921"
             ]
            ],
            "type": "histogram2dcontour"
           }
          ],
          "mesh3d": [
           {
            "colorbar": {
             "outlinewidth": 0,
             "ticks": ""
            },
            "type": "mesh3d"
           }
          ],
          "parcoords": [
           {
            "line": {
             "colorbar": {
              "outlinewidth": 0,
              "ticks": ""
             }
            },
            "type": "parcoords"
           }
          ],
          "pie": [
           {
            "automargin": true,
            "type": "pie"
           }
          ],
          "scatter": [
           {
            "fillpattern": {
             "fillmode": "overlay",
             "size": 10,
             "solidity": 0.2
            },
            "type": "scatter"
           }
          ],
          "scatter3d": [
           {
            "line": {
             "colorbar": {
              "outlinewidth": 0,
              "ticks": ""
             }
            },
            "marker": {
             "colorbar": {
              "outlinewidth": 0,
              "ticks": ""
             }
            },
            "type": "scatter3d"
           }
          ],
          "scattercarpet": [
           {
            "marker": {
             "colorbar": {
              "outlinewidth": 0,
              "ticks": ""
             }
            },
            "type": "scattercarpet"
           }
          ],
          "scattergeo": [
           {
            "marker": {
             "colorbar": {
              "outlinewidth": 0,
              "ticks": ""
             }
            },
            "type": "scattergeo"
           }
          ],
          "scattergl": [
           {
            "marker": {
             "colorbar": {
              "outlinewidth": 0,
              "ticks": ""
             }
            },
            "type": "scattergl"
           }
          ],
          "scattermap": [
           {
            "marker": {
             "colorbar": {
              "outlinewidth": 0,
              "ticks": ""
             }
            },
            "type": "scattermap"
           }
          ],
          "scattermapbox": [
           {
            "marker": {
             "colorbar": {
              "outlinewidth": 0,
              "ticks": ""
             }
            },
            "type": "scattermapbox"
           }
          ],
          "scatterpolar": [
           {
            "marker": {
             "colorbar": {
              "outlinewidth": 0,
              "ticks": ""
             }
            },
            "type": "scatterpolar"
           }
          ],
          "scatterpolargl": [
           {
            "marker": {
             "colorbar": {
              "outlinewidth": 0,
              "ticks": ""
             }
            },
            "type": "scatterpolargl"
           }
          ],
          "scatterternary": [
           {
            "marker": {
             "colorbar": {
              "outlinewidth": 0,
              "ticks": ""
             }
            },
            "type": "scatterternary"
           }
          ],
          "surface": [
           {
            "colorbar": {
             "outlinewidth": 0,
             "ticks": ""
            },
            "colorscale": [
             [
              0,
              "#0d0887"
             ],
             [
              0.1111111111111111,
              "#46039f"
             ],
             [
              0.2222222222222222,
              "#7201a8"
             ],
             [
              0.3333333333333333,
              "#9c179e"
             ],
             [
              0.4444444444444444,
              "#bd3786"
             ],
             [
              0.5555555555555556,
              "#d8576b"
             ],
             [
              0.6666666666666666,
              "#ed7953"
             ],
             [
              0.7777777777777778,
              "#fb9f3a"
             ],
             [
              0.8888888888888888,
              "#fdca26"
             ],
             [
              1,
              "#f0f921"
             ]
            ],
            "type": "surface"
           }
          ],
          "table": [
           {
            "cells": {
             "fill": {
              "color": "#EBF0F8"
             },
             "line": {
              "color": "white"
             }
            },
            "header": {
             "fill": {
              "color": "#C8D4E3"
             },
             "line": {
              "color": "white"
             }
            },
            "type": "table"
           }
          ]
         },
         "layout": {
          "annotationdefaults": {
           "arrowcolor": "#2a3f5f",
           "arrowhead": 0,
           "arrowwidth": 1
          },
          "autotypenumbers": "strict",
          "coloraxis": {
           "colorbar": {
            "outlinewidth": 0,
            "ticks": ""
           }
          },
          "colorscale": {
           "diverging": [
            [
             0,
             "#8e0152"
            ],
            [
             0.1,
             "#c51b7d"
            ],
            [
             0.2,
             "#de77ae"
            ],
            [
             0.3,
             "#f1b6da"
            ],
            [
             0.4,
             "#fde0ef"
            ],
            [
             0.5,
             "#f7f7f7"
            ],
            [
             0.6,
             "#e6f5d0"
            ],
            [
             0.7,
             "#b8e186"
            ],
            [
             0.8,
             "#7fbc41"
            ],
            [
             0.9,
             "#4d9221"
            ],
            [
             1,
             "#276419"
            ]
           ],
           "sequential": [
            [
             0,
             "#0d0887"
            ],
            [
             0.1111111111111111,
             "#46039f"
            ],
            [
             0.2222222222222222,
             "#7201a8"
            ],
            [
             0.3333333333333333,
             "#9c179e"
            ],
            [
             0.4444444444444444,
             "#bd3786"
            ],
            [
             0.5555555555555556,
             "#d8576b"
            ],
            [
             0.6666666666666666,
             "#ed7953"
            ],
            [
             0.7777777777777778,
             "#fb9f3a"
            ],
            [
             0.8888888888888888,
             "#fdca26"
            ],
            [
             1,
             "#f0f921"
            ]
           ],
           "sequentialminus": [
            [
             0,
             "#0d0887"
            ],
            [
             0.1111111111111111,
             "#46039f"
            ],
            [
             0.2222222222222222,
             "#7201a8"
            ],
            [
             0.3333333333333333,
             "#9c179e"
            ],
            [
             0.4444444444444444,
             "#bd3786"
            ],
            [
             0.5555555555555556,
             "#d8576b"
            ],
            [
             0.6666666666666666,
             "#ed7953"
            ],
            [
             0.7777777777777778,
             "#fb9f3a"
            ],
            [
             0.8888888888888888,
             "#fdca26"
            ],
            [
             1,
             "#f0f921"
            ]
           ]
          },
          "colorway": [
           "#636efa",
           "#EF553B",
           "#00cc96",
           "#ab63fa",
           "#FFA15A",
           "#19d3f3",
           "#FF6692",
           "#B6E880",
           "#FF97FF",
           "#FECB52"
          ],
          "font": {
           "color": "#2a3f5f"
          },
          "geo": {
           "bgcolor": "white",
           "lakecolor": "white",
           "landcolor": "white",
           "showlakes": true,
           "showland": true,
           "subunitcolor": "#C8D4E3"
          },
          "hoverlabel": {
           "align": "left"
          },
          "hovermode": "closest",
          "mapbox": {
           "style": "light"
          },
          "paper_bgcolor": "white",
          "plot_bgcolor": "white",
          "polar": {
           "angularaxis": {
            "gridcolor": "#EBF0F8",
            "linecolor": "#EBF0F8",
            "ticks": ""
           },
           "bgcolor": "white",
           "radialaxis": {
            "gridcolor": "#EBF0F8",
            "linecolor": "#EBF0F8",
            "ticks": ""
           }
          },
          "scene": {
           "xaxis": {
            "backgroundcolor": "white",
            "gridcolor": "#DFE8F3",
            "gridwidth": 2,
            "linecolor": "#EBF0F8",
            "showbackground": true,
            "ticks": "",
            "zerolinecolor": "#EBF0F8"
           },
           "yaxis": {
            "backgroundcolor": "white",
            "gridcolor": "#DFE8F3",
            "gridwidth": 2,
            "linecolor": "#EBF0F8",
            "showbackground": true,
            "ticks": "",
            "zerolinecolor": "#EBF0F8"
           },
           "zaxis": {
            "backgroundcolor": "white",
            "gridcolor": "#DFE8F3",
            "gridwidth": 2,
            "linecolor": "#EBF0F8",
            "showbackground": true,
            "ticks": "",
            "zerolinecolor": "#EBF0F8"
           }
          },
          "shapedefaults": {
           "line": {
            "color": "#2a3f5f"
           }
          },
          "ternary": {
           "aaxis": {
            "gridcolor": "#DFE8F3",
            "linecolor": "#A2B1C6",
            "ticks": ""
           },
           "baxis": {
            "gridcolor": "#DFE8F3",
            "linecolor": "#A2B1C6",
            "ticks": ""
           },
           "bgcolor": "white",
           "caxis": {
            "gridcolor": "#DFE8F3",
            "linecolor": "#A2B1C6",
            "ticks": ""
           }
          },
          "title": {
           "x": 0.05
          },
          "xaxis": {
           "automargin": true,
           "gridcolor": "#EBF0F8",
           "linecolor": "#EBF0F8",
           "ticks": "",
           "title": {
            "standoff": 15
           },
           "zerolinecolor": "#EBF0F8",
           "zerolinewidth": 2
          },
          "yaxis": {
           "automargin": true,
           "gridcolor": "#EBF0F8",
           "linecolor": "#EBF0F8",
           "ticks": "",
           "title": {
            "standoff": 15
           },
           "zerolinecolor": "#EBF0F8",
           "zerolinewidth": 2
          }
         }
        },
        "title": {
         "text": "Análisis de Autocorrelación - Sales"
        },
        "xaxis": {
         "title": {
          "text": "Lags"
         }
        },
        "yaxis": {
         "title": {
          "text": "Autocorrelación"
         }
        }
       }
      }
     },
     "metadata": {},
     "output_type": "display_data"
    }
   ],
   "source": [
    "def analyze_seasonality(historical_data, department=None):\n",
    "    \"\"\"Analiza la estacionalidad para un departamento específico usando ACF\"\"\"\n",
    "    \n",
    "    if department is None:\n",
    "        departments = historical_data['department'].unique()\n",
    "    else:\n",
    "        departments = [department]\n",
    "        \n",
    "    # Crear figura para ACF\n",
    "    fig = go.Figure()\n",
    "    \n",
    "    # Diccionario para almacenar resultados\n",
    "    seasonality_results = {}\n",
    "    \n",
    "    # Analizar el departamento\n",
    "    dept_data = historical_data[historical_data['department'] == department]\n",
    "    \n",
    "    if len(dept_data) < 10:\n",
    "        print(f\"\\nAdvertencia: Datos insuficientes para {department}\")\n",
    "        return None, None\n",
    "        \n",
    "    # Calcular ACF\n",
    "    acf_values = acf(dept_data['total_overtime'], nlags=52, fft=True)\n",
    "    confidence_level = 1.96/np.sqrt(len(dept_data))\n",
    "    lags = np.arange(len(acf_values))\n",
    "    \n",
    "    # Agregar ACF plot\n",
    "    fig.add_trace(\n",
    "        go.Scatter(\n",
    "            x=lags,\n",
    "            y=acf_values,\n",
    "            mode='lines',\n",
    "            name='ACF',\n",
    "            line=dict(color='blue')\n",
    "        )\n",
    "    )\n",
    "    \n",
    "    # Agregar líneas de confianza\n",
    "    fig.add_trace(\n",
    "        go.Scatter(\n",
    "            x=lags,\n",
    "            y=[confidence_level]*len(lags),\n",
    "            mode='lines',\n",
    "            line=dict(dash='dash', color='red'),\n",
    "            name='Límite de confianza superior'\n",
    "        )\n",
    "    )\n",
    "    \n",
    "    fig.add_trace(\n",
    "        go.Scatter(\n",
    "            x=lags,\n",
    "            y=[-confidence_level]*len(lags),\n",
    "            mode='lines',\n",
    "            line=dict(dash='dash', color='red'),\n",
    "            name='Límite de confianza inferior'\n",
    "        )\n",
    "    )\n",
    "    \n",
    "    # Detectar estacionalidad\n",
    "    significant_lags = [i for i in range(1, len(acf_values)) \n",
    "                      if abs(acf_values[i]) > confidence_level]\n",
    "    \n",
    "    # Buscar patrones repetitivos\n",
    "    if len(significant_lags) > 0:\n",
    "        potential_seasons = [lag for lag in significant_lags if lag > 4]\n",
    "        seasonal_strength = np.mean([abs(acf_values[lag]) for lag in potential_seasons]) if potential_seasons else 0\n",
    "        \n",
    "        # Determinar tipo de estacionalidad\n",
    "        if seasonal_strength > 0.6:\n",
    "            seasonality_type = \"Fuerte\"\n",
    "        elif seasonal_strength > 0.3:\n",
    "            seasonality_type = \"Moderada\"\n",
    "        elif seasonal_strength > 0.1:\n",
    "            seasonality_type = \"Débil\"\n",
    "        else:\n",
    "            seasonality_type = \"No detectada\"\n",
    "            \n",
    "        # Identificar posible período estacional\n",
    "        if potential_seasons:\n",
    "            possible_period = min(potential_seasons)\n",
    "        else:\n",
    "            possible_period = None\n",
    "    else:\n",
    "        seasonality_type = \"No detectada\"\n",
    "        possible_period = None\n",
    "        seasonal_strength = 0\n",
    "    \n",
    "    # Almacenar resultados\n",
    "    seasonality_results = {\n",
    "        'seasonality_type': seasonality_type,\n",
    "        'seasonal_strength': seasonal_strength,\n",
    "        'possible_period': possible_period,\n",
    "        'significant_lags': significant_lags\n",
    "    }\n",
    "    \n",
    "    # Actualizar diseño con leyenda abajo al centro\n",
    "    fig.update_layout(\n",
    "        height=400,\n",
    "        title_text=f\"Análisis de Autocorrelación - {department}\",\n",
    "        showlegend=True,\n",
    "        template='plotly_white',\n",
    "        xaxis_title=\"Lags\",\n",
    "        yaxis_title=\"Autocorrelación\",\n",
    "        legend=dict(\n",
    "            orientation=\"h\",\n",
    "            yanchor=\"bottom\",\n",
    "            y=-0.4,\n",
    "            xanchor=\"center\",\n",
    "            x=0.5\n",
    "        )\n",
    "    )\n",
    "    \n",
    "    # Mostrar resultados\n",
    "    print(f\"\\nResultados del análisis de estacionalidad para {department}:\")\n",
    "    print(\"-\" * 70)\n",
    "    print(f\"Tipo de estacionalidad: {seasonality_type}\")\n",
    "    print(f\"Fuerza de la estacionalidad: {seasonal_strength:.2f}\")\n",
    "    if possible_period:\n",
    "        print(f\"Posible período estacional: {possible_period} semanas\")\n",
    "    print(f\"Lags significativos: {significant_lags}\")\n",
    "    \n",
    "    return fig, seasonality_results\n",
    "\n",
    "# Para usar la función para un departamento específico:\n",
    "departments = historical_data['department'].unique()\n",
    "for dept in departments:\n",
    "    print(f\"\\nAnalizando {dept}...\")\n",
    "    fig_acf, results = analyze_seasonality(historical_data, dept)\n",
    "    if isinstance(fig_acf, go.Figure):\n",
    "        fig_acf.show()\n"
   ]
  },
  {
   "cell_type": "markdown",
   "id": "1b8bd3ff",
   "metadata": {},
   "source": [
    "## 4. Entrenar Modelo SARIMA\n",
    "\n",
    "Crear y entrenar modelo SARIMA para cada departamento."
   ]
  },
  {
   "cell_type": "code",
   "execution_count": 144,
   "id": "7b095eea",
   "metadata": {},
   "outputs": [
    {
     "name": "stdout",
     "output_type": "stream",
     "text": [
      "Iniciando entrenamiento de modelos SARIMAX...\n",
      "\n",
      "Procesando departamento: Finance\n",
      "\n",
      "Resultados del análisis de estacionalidad para Finance:\n",
      "----------------------------------------------------------------------\n",
      "Tipo de estacionalidad: No detectada\n",
      "Fuerza de la estacionalidad: 0.00\n",
      "Lags significativos: []\n",
      "\n",
      "Configurando modelo SARIMA para Finance:\n",
      "Estacionalidad detectada: No detectada\n",
      "Fuerza estacional: 0.00\n",
      "Orden ARIMA seleccionado: (1, 0, 0)\n",
      "\n",
      "Resultados para Finance:\n",
      "Orden SARIMA: (1, 0, 0)\n",
      "Orden Seasonal: (0, 0, 0, 0)\n",
      "RMSE: 3.36\n",
      "MAE: 2.80\n",
      "SMAPE: 51.90%\n",
      "MASE: 1.09\n",
      "Calidad del modelo: Aceptable\n",
      "\n",
      "Procesando departamento: HR\n",
      "\n",
      "Resultados del análisis de estacionalidad para HR:\n",
      "----------------------------------------------------------------------\n",
      "Tipo de estacionalidad: No detectada\n",
      "Fuerza de la estacionalidad: 0.00\n",
      "Lags significativos: []\n",
      "\n",
      "Configurando modelo SARIMA para HR:\n",
      "Estacionalidad detectada: No detectada\n",
      "Fuerza estacional: 0.00\n",
      "Orden ARIMA seleccionado: (3, 1, 1)\n",
      "\n",
      "Resultados para HR:\n",
      "Orden SARIMA: (3, 1, 1)\n",
      "Orden Seasonal: (0, 0, 0, 0)\n",
      "RMSE: 3.20\n",
      "MAE: 2.63\n",
      "SMAPE: 41.08%\n",
      "MASE: 0.46\n",
      "Calidad del modelo: Bueno\n",
      "\n",
      "Procesando departamento: Inventory\n",
      "\n",
      "Resultados del análisis de estacionalidad para Inventory:\n",
      "----------------------------------------------------------------------\n",
      "Tipo de estacionalidad: No detectada\n",
      "Fuerza de la estacionalidad: 0.00\n",
      "Lags significativos: []\n",
      "\n",
      "Configurando modelo SARIMA para Inventory:\n",
      "Estacionalidad detectada: No detectada\n",
      "Fuerza estacional: 0.00\n",
      "Orden ARIMA seleccionado: (0, 0, 0)\n",
      "\n",
      "Resultados para Inventory:\n",
      "Orden SARIMA: (0, 0, 0)\n",
      "Orden Seasonal: (0, 0, 0, 0)\n",
      "RMSE: 4.69\n",
      "MAE: 3.46\n",
      "SMAPE: 59.97%\n",
      "MASE: 0.92\n",
      "Calidad del modelo: Bueno\n",
      "\n",
      "Procesando departamento: IT\n",
      "\n",
      "Resultados del análisis de estacionalidad para IT:\n",
      "----------------------------------------------------------------------\n",
      "Tipo de estacionalidad: Moderada\n",
      "Fuerza de la estacionalidad: 0.35\n",
      "Posible período estacional: 7 semanas\n",
      "Lags significativos: [2, 7]\n",
      "\n",
      "Configurando modelo SARIMA para IT:\n",
      "Estacionalidad detectada: Moderada\n",
      "Fuerza estacional: 0.35\n",
      "Período estacional: 7 semanas\n",
      "Orden ARIMA seleccionado: (0, 0, 0)\n",
      "Orden estacional seleccionado: (0, 0, 2, 7)\n",
      "\n",
      "Resultados para IT:\n",
      "Orden SARIMA: (0, 0, 0)\n",
      "Orden Seasonal: (0, 0, 2, 7)\n",
      "RMSE: 4.97\n",
      "MAE: 3.86\n",
      "SMAPE: 52.43%\n",
      "MASE: 1.09\n",
      "Calidad del modelo: Pobre\n",
      "\n",
      "Procesando departamento: Marketing\n",
      "\n",
      "Resultados del análisis de estacionalidad para Marketing:\n",
      "----------------------------------------------------------------------\n",
      "Tipo de estacionalidad: Débil\n",
      "Fuerza de la estacionalidad: 0.27\n",
      "Posible período estacional: 12 semanas\n",
      "Lags significativos: [12]\n",
      "\n",
      "Configurando modelo SARIMA para Marketing:\n",
      "Estacionalidad detectada: Débil\n",
      "Fuerza estacional: 0.27\n",
      "Orden ARIMA seleccionado: (0, 0, 1)\n",
      "\n",
      "Resultados para Marketing:\n",
      "Orden SARIMA: (0, 0, 1)\n",
      "Orden Seasonal: (0, 0, 0, 0)\n",
      "RMSE: 5.45\n",
      "MAE: 3.87\n",
      "SMAPE: 69.09%\n",
      "MASE: 0.92\n",
      "Calidad del modelo: Aceptable\n",
      "\n",
      "Procesando departamento: Sales\n",
      "\n",
      "Resultados del análisis de estacionalidad para Sales:\n",
      "----------------------------------------------------------------------\n",
      "Tipo de estacionalidad: Débil\n",
      "Fuerza de la estacionalidad: 0.27\n",
      "Posible período estacional: 5 semanas\n",
      "Lags significativos: [1, 5]\n",
      "\n",
      "Configurando modelo SARIMA para Sales:\n",
      "Estacionalidad detectada: Débil\n",
      "Fuerza estacional: 0.27\n",
      "Orden ARIMA seleccionado: (1, 0, 0)\n",
      "\n",
      "Resultados para Sales:\n",
      "Orden SARIMA: (1, 0, 0)\n",
      "Orden Seasonal: (0, 0, 0, 0)\n",
      "RMSE: 4.03\n",
      "MAE: 2.76\n",
      "SMAPE: 52.32%\n",
      "MASE: 0.85\n",
      "Calidad del modelo: Bueno\n"
     ]
    }
   ],
   "source": [
    "\n",
    "\n",
    "def calculate_smape(y_true, y_pred):\n",
    "    \"\"\"Calcula SMAPE para manejar valores cero.\"\"\"\n",
    "    denominator = (np.abs(y_true) + np.abs(y_pred)) / 2\n",
    "    non_zero_mask = denominator != 0\n",
    "    if np.any(non_zero_mask):\n",
    "        smape = np.mean(np.abs(y_true[non_zero_mask] - y_pred[non_zero_mask]) / \n",
    "                        denominator[non_zero_mask]) * 100\n",
    "        return min(smape, 100)\n",
    "    return np.mean(np.abs(y_true - y_pred))\n",
    "\n",
    "def calculate_mase(y_true, y_pred, train_data, period=1):\n",
    "    \"\"\"Calcula MASE comparando con un modelo ingenuo (shifted).\"\"\"\n",
    "    naive_forecast = train_data.shift(period).dropna()\n",
    "    naive_error = np.abs(naive_forecast - train_data[period:])\n",
    "    mean_naive_error = np.mean(naive_error) if len(naive_error) > 0 else np.inf\n",
    "    mae = np.mean(np.abs(y_true - y_pred))\n",
    "    return mae / mean_naive_error if mean_naive_error != 0 else np.inf\n",
    "\n",
    "def evaluate_model_quality(metrics, residuals, test_size):\n",
    "    \"\"\"\n",
    "    Evalúa la calidad del modelo según métricas y residuos.\n",
    "    Retorna una clasificación: 'Bueno', 'Aceptable' o 'Pobre'.\n",
    "    \"\"\"\n",
    "    rmse = metrics['rmse']\n",
    "    mae = metrics['mae']\n",
    "    smape = metrics['smape']\n",
    "    mase = metrics['mase']\n",
    "    \n",
    "    lb_test = acorr_ljungbox(residuals, lags=[min(4, len(residuals)-1)], return_df=True)\n",
    "    lb_pvalue = lb_test['lb_pvalue'].iloc[0] if len(lb_test) > 0 else 0\n",
    "    residual_mean = np.mean(residuals)\n",
    "    \n",
    "    is_good = (\n",
    "        rmse < 5.0 and\n",
    "        mae < 4.0 and\n",
    "        smape < 60 and\n",
    "        mase < 1.0 and\n",
    "        lb_pvalue > 0.05 and\n",
    "        abs(residual_mean) < 0.5\n",
    "    )\n",
    "    \n",
    "    is_acceptable = (\n",
    "        rmse < 7.0 and\n",
    "        mae < 6.0 and\n",
    "        smape < 85 and\n",
    "        mase < 1.5 and\n",
    "        lb_pvalue > 0.01 and\n",
    "        abs(residual_mean) < 1.0\n",
    "    )\n",
    "    \n",
    "    if is_good:\n",
    "        return \"Bueno\"\n",
    "    elif is_acceptable:\n",
    "        return \"Aceptable\"\n",
    "    else:\n",
    "        return \"Pobre\"\n",
    "\n",
    "def train_sarimax_model(dept_data, exog_cols=None):\n",
    "    \"\"\"\n",
    "    Entrena modelo SARIMAX con Auto-ARIMA ajustando estacionalidad según análisis previo.\n",
    "    \"\"\"\n",
    "    # Preparar datos \n",
    "    df = dept_data[['work_date', 'total_overtime'] + (exog_cols if exog_cols else [])].copy()\n",
    "    df.set_index('work_date', inplace=True)\n",
    "    \n",
    "    # Dividir datos en entrenamiento (80%) y prueba (20%)\n",
    "    train_size = int(len(df) * 0.8)\n",
    "    train = df[:train_size]\n",
    "    test = df[train_size:]\n",
    "    \n",
    "    # Preparar variables exógenas si existen\n",
    "    exog_train = train[exog_cols] if exog_cols else None\n",
    "    exog_test = test[exog_cols] if exog_cols else None\n",
    "    \n",
    "    # Obtener análisis de estacionalidad previo\n",
    "    _, seasonality_results = analyze_seasonality(historical_data, dept_data['department'].iloc[0])\n",
    "    \n",
    "    # Determinar parámetros de estacionalidad\n",
    "    has_seasonality = seasonality_results['seasonality_type'] in [\"Fuerte\", \"Moderada\"]\n",
    "    seasonal_period = seasonality_results['possible_period'] if has_seasonality else 1\n",
    "    \n",
    "    # Verificar datos faltantes y otras validaciones\n",
    "    # ... resto del código de validación ...\n",
    "    \n",
    "    # Log de configuración del modelo\n",
    "    print(f\"\\nConfigurando modelo SARIMA para {dept_data['department'].iloc[0]}:\")\n",
    "    print(f\"Estacionalidad detectada: {seasonality_results['seasonality_type']}\")\n",
    "    print(f\"Fuerza estacional: {seasonality_results['seasonal_strength']:.2f}\")\n",
    "    if has_seasonality:\n",
    "        print(f\"Período estacional: {seasonal_period} semanas\")\n",
    "    \n",
    "    # Encontrar mejores parámetros con Auto-ARIMA\n",
    "    try:\n",
    "        # Configuración base para no estacional\n",
    "        arima_params = {\n",
    "            'start_p': 0, \n",
    "            'd': None,  # Permitir que auto_arima determine d\n",
    "            'start_q': 0,\n",
    "            'max_p': 4, \n",
    "            'max_d': 2, \n",
    "            'max_q': 4,\n",
    "            'seasonal': False,\n",
    "            'm': 1\n",
    "        }\n",
    "        \n",
    "        # Ajustar configuración si hay estacionalidad\n",
    "        if has_seasonality:\n",
    "            arima_params.update({\n",
    "                'seasonal': True,\n",
    "                'm': seasonal_period,\n",
    "                'start_P': 0,\n",
    "                'D': None,  # Permitir que auto_arima determine D\n",
    "                'start_Q': 0,\n",
    "                'max_P': 2,\n",
    "                'max_D': 1,\n",
    "                'max_Q': 2\n",
    "            })\n",
    "        \n",
    "        # Entrenar modelo Auto-ARIMA\n",
    "        modelo_auto = auto_arima(\n",
    "            train['total_overtime'],\n",
    "            exogenous=exog_train,\n",
    "            error_action='warn',\n",
    "            trace=False,\n",
    "            suppress_warnings=True,\n",
    "            stepwise=True,\n",
    "            random_state=20,\n",
    "            n_fits=50,\n",
    "            **arima_params\n",
    "        )\n",
    "        \n",
    "        # Obtener orden del modelo\n",
    "        order = modelo_auto.order\n",
    "        seasonal_order = modelo_auto.seasonal_order if has_seasonality else (0, 0, 0, 0)\n",
    "        \n",
    "        # Log de órdenes seleccionados\n",
    "        print(f\"Orden ARIMA seleccionado: {order}\")\n",
    "        if has_seasonality:\n",
    "            print(f\"Orden estacional seleccionado: {seasonal_order}\")\n",
    "        \n",
    "        # Entrenar modelo final SARIMAX\n",
    "        final_model = SARIMAX(\n",
    "            df['total_overtime'],\n",
    "            exog=df[exog_cols] if exog_cols else None,\n",
    "            order=order,\n",
    "            seasonal_order=seasonal_order\n",
    "        )\n",
    "        model_fit = final_model.fit(disp=False)\n",
    "        \n",
    "        # Calcular predicciones y residuos\n",
    "        predictions = model_fit.get_prediction(start=train_size)\n",
    "        residuals = df['total_overtime'][train_size:] - predictions.predicted_mean\n",
    "        \n",
    "        # Calcular métricas\n",
    "        mae = np.mean(np.abs(residuals))\n",
    "        rmse = np.sqrt(np.mean(residuals**2))\n",
    "        smape = calculate_smape(df['total_overtime'][train_size:], predictions.predicted_mean)\n",
    "        mase = calculate_mase(df['total_overtime'][train_size:], predictions.predicted_mean, \n",
    "                            df['total_overtime'][:train_size])\n",
    "        \n",
    "        # Crear diccionario de métricas\n",
    "        metrics = {\n",
    "            'order': order,\n",
    "            'seasonal_order': seasonal_order,\n",
    "            'mae': mae,\n",
    "            'rmse': rmse,\n",
    "            'smape': smape,\n",
    "            'mase': mase,\n",
    "            'quality': evaluate_model_quality({\n",
    "                'mae': mae,\n",
    "                'rmse': rmse,\n",
    "                'smape': smape,\n",
    "                'mase': mase\n",
    "            }, residuals, len(df) - train_size)\n",
    "        }\n",
    "        \n",
    "        return model_fit, metrics\n",
    "        \n",
    "    except Exception as e:\n",
    "        logging.error(f\"Error entrenando modelo SARIMAX para {dept_data['department'].iloc[0]}: {str(e)}\")\n",
    "        return None, {'error': f\"Excepción: {str(e)}\"}\n",
    "\n",
    "def add_exogenous_variables(df):\n",
    "    \"\"\"\n",
    "    Agrega variables exógenas de ejemplo (is_weekend, month).\n",
    "    Modificar según variables reales disponibles.\n",
    "    \"\"\"\n",
    "    df = df.copy()\n",
    "    df['is_weekend'] = df['work_date'].dt.dayofweek.isin([5, 6]).astype(int)\n",
    "    df['month'] = df['work_date'].dt.month\n",
    "    return df\n",
    "\n",
    "# Reiniciar variables de almacenamiento\n",
    "department_models = {}\n",
    "metrics = {}\n",
    "department_forecasts = {}\n",
    "\n",
    "# Agregar variables exógenas al DataFrame\n",
    "historical_data = add_exogenous_variables(historical_data)\n",
    "\n",
    "# Definir columnas exógenas\n",
    "exog_cols = ['is_weekend', 'month']  # Ajustar según variables reales\n",
    "\n",
    "print(\"Iniciando entrenamiento de modelos SARIMAX...\")\n",
    "\n",
    "# Iterar sobre cada departamento\n",
    "for department in historical_data['department'].unique():\n",
    "    print(f\"\\nProcesando departamento: {department}\")\n",
    "    dept_data = historical_data[historical_data['department'] == department]\n",
    "    \n",
    "    if len(dept_data) < 10:\n",
    "        print(f\"Advertencia: Datos insuficientes para {department}\")\n",
    "        continue\n",
    "    \n",
    "    # Entrenar modelo SARIMAX\n",
    "    model, model_metrics = train_sarimax_model(dept_data, exog_cols=exog_cols)\n",
    "    \n",
    "    if model is None:\n",
    "        print(f\"Error: No se pudo entrenar el modelo para {department}: {model_metrics.get('error', 'Error desconocido')}\")\n",
    "        continue\n",
    "        \n",
    "    # Almacenar resultados\n",
    "    department_models[department] = model\n",
    "    metrics[department] = model_metrics\n",
    "    \n",
    "    # Mostrar resultados\n",
    "    print(f\"\\nResultados para {department}:\")\n",
    "    print(f\"Orden SARIMA: {model_metrics['order']}\")\n",
    "    print(f\"Orden Seasonal: {model_metrics['seasonal_order']}\")\n",
    "    print(f\"RMSE: {model_metrics['rmse']:.2f}\")\n",
    "    print(f\"MAE: {model_metrics['mae']:.2f}\")\n",
    "    print(f\"SMAPE: {model_metrics['smape']:.2f}%\")\n",
    "    print(f\"MASE: {model_metrics['mase']:.2f}\")\n",
    "    print(f\"Calidad del modelo: {model_metrics['quality']}\")"
   ]
  },
  {
   "cell_type": "markdown",
   "id": "c6d8a732",
   "metadata": {},
   "source": [
    "## 5. Generar Predicciones\n",
    "\n",
    "Predicción para las próximas 4 semanas de Overtime"
   ]
  },
  {
   "cell_type": "code",
   "execution_count": 145,
   "id": "0406a28e",
   "metadata": {},
   "outputs": [
    {
     "name": "stdout",
     "output_type": "stream",
     "text": [
      "\n",
      "Generando predicciones para las próximas 4 semanas...\n",
      "\n",
      "Procesando departamento: Finance\n",
      "\n",
      "Predicciones para Finance:\n",
      "\n",
      "Fecha\t\tPredicción\tIntervalo de Confianza\n",
      "------------------------------------------------------------\n",
      "2025-05-25\t4.79\t\t(0.00, 10.70)\n",
      "2025-06-01\t5.29\t\t(0.00, 11.32)\n",
      "2025-06-08\t5.42\t\t(0.00, 11.46)\n",
      "2025-06-15\t5.45\t\t(0.00, 11.49)\n",
      "\n",
      "Procesando departamento: HR\n",
      "\n",
      "Predicciones para HR:\n",
      "\n",
      "Fecha\t\tPredicción\tIntervalo de Confianza\n",
      "------------------------------------------------------------\n",
      "2025-05-25\t10.87\t\t(2.82, 18.91)\n",
      "2025-06-01\t6.56\t\t(0.00, 14.67)\n",
      "2025-06-08\t8.52\t\t(0.41, 16.64)\n",
      "2025-06-15\t5.20\t\t(0.00, 13.36)\n",
      "\n",
      "Procesando departamento: Inventory\n",
      "\n",
      "Predicciones para Inventory:\n",
      "\n",
      "Fecha\t\tPredicción\tIntervalo de Confianza\n",
      "------------------------------------------------------------\n",
      "2025-05-25\t6.26\t\t(0.00, 13.10)\n",
      "2025-06-01\t5.96\t\t(0.00, 12.80)\n",
      "2025-06-08\t5.96\t\t(0.00, 12.80)\n",
      "2025-06-15\t5.96\t\t(0.00, 12.80)\n",
      "\n",
      "Procesando departamento: IT\n",
      "\n",
      "Predicciones para IT:\n",
      "\n",
      "Fecha\t\tPredicción\tIntervalo de Confianza\n",
      "------------------------------------------------------------\n",
      "2025-05-25\t2.98\t\t(0.00, 9.93)\n",
      "2025-06-01\t5.51\t\t(0.00, 12.46)\n",
      "2025-06-08\t9.11\t\t(2.16, 16.07)\n",
      "2025-06-15\t5.02\t\t(0.00, 11.97)\n",
      "\n",
      "Procesando departamento: Marketing\n",
      "\n",
      "Predicciones para Marketing:\n",
      "\n",
      "Fecha\t\tPredicción\tIntervalo de Confianza\n",
      "------------------------------------------------------------\n",
      "2025-05-25\t6.03\t\t(0.00, 14.50)\n",
      "2025-06-01\t6.28\t\t(0.00, 14.82)\n",
      "2025-06-08\t6.28\t\t(0.00, 14.82)\n",
      "2025-06-15\t6.28\t\t(0.00, 14.82)\n",
      "\n",
      "Procesando departamento: Sales\n",
      "\n",
      "Predicciones para Sales:\n",
      "\n",
      "Fecha\t\tPredicción\tIntervalo de Confianza\n",
      "------------------------------------------------------------\n",
      "2025-05-25\t4.09\t\t(0.00, 11.14)\n",
      "2025-06-01\t5.41\t\t(0.00, 13.13)\n",
      "2025-06-08\t5.91\t\t(0.00, 13.76)\n",
      "2025-06-15\t6.13\t\t(0.00, 14.00)\n",
      "\n",
      "Predicciones generadas para departamentos: ['Finance', 'HR', 'Inventory', 'IT', 'Marketing', 'Sales']\n"
     ]
    }
   ],
   "source": [
    "\n",
    "\n",
    "def generate_predictions_sarimax(model, last_date, dept_data, exog_cols=None, periods=4, freq='W'):\n",
    "  \n",
    "    # Validar entradas\n",
    "    if model is None:\n",
    "        return pd.DataFrame(), f\"Modelo no válido para el departamento\"\n",
    "    \n",
    "    if not isinstance(last_date, pd.Timestamp):\n",
    "        try:\n",
    "            last_date = pd.to_datetime(last_date)\n",
    "        except:\n",
    "            return pd.DataFrame(), f\"Fecha inválida: {last_date}\"\n",
    "    \n",
    "    if periods < 1:\n",
    "        return pd.DataFrame(), f\"Número de períodos inválido: {periods}\"\n",
    "    \n",
    "    # Generar fechas futuras\n",
    "    future_dates = pd.date_range(start=last_date, periods=periods+1, freq=freq)[1:]\n",
    "    \n",
    "    # Preparar variables exógenas futuras\n",
    "    if exog_cols:\n",
    "        # Crear DataFrame para variables exógenas futuras\n",
    "        future_exog = pd.DataFrame(index=future_dates)\n",
    "        future_exog['is_weekend'] = future_exog.index.dayofweek.isin([5, 6]).astype(int)\n",
    "        future_exog['month'] = future_exog.index.month\n",
    "        \n",
    "        # Verificar que todas las columnas exógenas estén presentes\n",
    "        missing_cols = [col for col in exog_cols if col not in future_exog.columns]\n",
    "        if missing_cols:\n",
    "            return pd.DataFrame(), f\"Columnas exógenas faltantes: {missing_cols}\"\n",
    "    else:\n",
    "        future_exog = None\n",
    "    \n",
    "    # Obtener predicciones y sus intervalos de confianza\n",
    "    try:\n",
    "        forecast = model.get_forecast(steps=periods, exog=future_exog)\n",
    "        mean_forecast = forecast.predicted_mean\n",
    "        confidence_int = forecast.conf_int()\n",
    "        \n",
    "        # Truncar predicciones negativas a cero\n",
    "        mean_forecast = np.maximum(mean_forecast, 0)\n",
    "        confidence_int.iloc[:, 0] = np.maximum(confidence_int.iloc[:, 0], 0)  # yhat_lower\n",
    "        confidence_int.iloc[:, 1] = np.maximum(confidence_int.iloc[:, 1], 0)  # yhat_upper\n",
    "        \n",
    "        # Crear DataFrame con las predicciones\n",
    "        predictions_df = pd.DataFrame({\n",
    "            'ds': future_dates,\n",
    "            'yhat': mean_forecast,\n",
    "            'yhat_lower': confidence_int.iloc[:, 0],\n",
    "            'yhat_upper': confidence_int.iloc[:, 1]\n",
    "        })\n",
    "        \n",
    "        return predictions_df, None\n",
    "    \n",
    "    except Exception as e:\n",
    "        return pd.DataFrame(), f\"Error generando predicciones: {str(e)}\"\n",
    "\n",
    "# Generar predicciones para cada departamento\n",
    "department_forecasts = {}\n",
    "print(\"\\nGenerando predicciones para las próximas 4 semanas...\")\n",
    "\n",
    "for department, model in department_models.items():\n",
    "    print(f\"\\nProcesando departamento: {department}\")\n",
    "    \n",
    "    # Obtener datos históricos del departamento\n",
    "    dept_data = historical_data[historical_data['department'] == department]\n",
    "    if dept_data.empty:\n",
    "        print(f\"Error: No hay datos históricos para {department}\")\n",
    "        continue\n",
    "    \n",
    "    # Obtener última fecha de datos históricos\n",
    "    last_date = dept_data['work_date'].max()\n",
    "    \n",
    "    # Generar predicciones\n",
    "    forecast, error = generate_predictions_sarimax(\n",
    "        model, \n",
    "        last_date, \n",
    "        dept_data, \n",
    "        exog_cols=['is_weekend', 'month'],  # Ajustar según variables exógenas\n",
    "        periods=4,\n",
    "        freq='W'\n",
    "    )\n",
    "    \n",
    "    if error:\n",
    "        print(f\"Error generando predicciones para {department}: {error}\")\n",
    "        continue\n",
    "    \n",
    "    # Almacenar predicciones\n",
    "    department_forecasts[department] = forecast\n",
    "    \n",
    "    # Mostrar predicciones\n",
    "    print(f\"\\nPredicciones para {department}:\")\n",
    "    print(\"\\nFecha\\t\\tPredicción\\tIntervalo de Confianza\")\n",
    "    print(\"-\" * 60)\n",
    "    for _, row in forecast.iterrows():\n",
    "        print(f\"{row['ds'].strftime('%Y-%m-%d')}\\t{row['yhat']:.2f}\\t\\t({row['yhat_lower']:.2f}, {row['yhat_upper']:.2f})\")\n",
    "\n",
    "print(\"\\nPredicciones generadas para departamentos:\", list(department_forecasts.keys()))"
   ]
  },
  {
   "cell_type": "markdown",
   "id": "370e02cf",
   "metadata": {},
   "source": [
    "## 6. Visualización de Resultados\n",
    "\n",
    "Datos históricos de 24 semanas más pronósticos e intervalos de confianza para las próximas 4 semanas."
   ]
  },
  {
   "cell_type": "code",
   "execution_count": 146,
   "id": "fbb40784",
   "metadata": {},
   "outputs": [
    {
     "name": "stdout",
     "output_type": "stream",
     "text": [
      "\n",
      "Generando visualizaciones...\n"
     ]
    },
    {
     "data": {
      "application/vnd.plotly.v1+json": {
       "config": {
        "plotlyServerURL": "https://plot.ly"
       },
       "data": [
        {
         "hovertemplate": "<b>Fecha:</b> %{x}<br><b>Valor Real:</b> %{y:.1f}<extra></extra>",
         "line": {
          "color": "blue"
         },
         "mode": "markers+lines",
         "name": "Datos Históricos",
         "type": "scatter",
         "x": [
          "2024-12-08T00:00:00.000000000",
          "2024-12-15T00:00:00.000000000",
          "2024-12-22T00:00:00.000000000",
          "2024-12-29T00:00:00.000000000",
          "2025-01-05T00:00:00.000000000",
          "2025-01-12T00:00:00.000000000",
          "2025-01-19T00:00:00.000000000",
          "2025-01-26T00:00:00.000000000",
          "2025-02-02T00:00:00.000000000",
          "2025-02-09T00:00:00.000000000",
          "2025-02-16T00:00:00.000000000",
          "2025-02-23T00:00:00.000000000",
          "2025-03-02T00:00:00.000000000",
          "2025-03-09T00:00:00.000000000",
          "2025-03-16T00:00:00.000000000",
          "2025-03-23T00:00:00.000000000",
          "2025-03-30T00:00:00.000000000",
          "2025-04-06T00:00:00.000000000",
          "2025-04-13T00:00:00.000000000",
          "2025-04-20T00:00:00.000000000",
          "2025-04-27T00:00:00.000000000",
          "2025-05-04T00:00:00.000000000",
          "2025-05-11T00:00:00.000000000",
          "2025-05-18T00:00:00.000000000"
         ],
         "y": {
          "bdata": "XI/C9ShcD0BI4XoUrkcQQLgehetRuAhA4XoUrkfhFEBcj8L1KFwTQD0K16NwPRFA16NwPQpXKUAzMzMzMzMXQOxRuB6F6xdAPQrXo3A9HEAAAAAAAAAcQHE9Ctej8CJAXI/C9ShcI0DhehSuR+H+PwrXo3A9CgNAuB6F61G4GkDNzMzMzMwQQIXrUbgeBSBAZmZmZmZmG0AzMzMzMzMQQD0K16NwPRRAFK5H4XoUIEAUrkfhehQpQJqZmZmZmfk/",
          "dtype": "f8"
         }
        },
        {
         "hovertemplate": "<b>Fecha:</b> %{x}<br><b>Predicción:</b> %{y:.1f}<extra></extra>",
         "line": {
          "color": "red",
          "dash": "dash"
         },
         "mode": "lines",
         "name": "Predicción Histórica",
         "type": "scatter",
         "x": [
          "2024-12-08T00:00:00.000000000",
          "2024-12-15T00:00:00.000000000",
          "2024-12-22T00:00:00.000000000",
          "2024-12-29T00:00:00.000000000",
          "2025-01-05T00:00:00.000000000",
          "2025-01-12T00:00:00.000000000",
          "2025-01-19T00:00:00.000000000",
          "2025-01-26T00:00:00.000000000",
          "2025-02-02T00:00:00.000000000",
          "2025-02-09T00:00:00.000000000",
          "2025-02-16T00:00:00.000000000",
          "2025-02-23T00:00:00.000000000",
          "2025-03-02T00:00:00.000000000",
          "2025-03-09T00:00:00.000000000",
          "2025-03-16T00:00:00.000000000",
          "2025-03-23T00:00:00.000000000",
          "2025-03-30T00:00:00.000000000",
          "2025-04-06T00:00:00.000000000",
          "2025-04-13T00:00:00.000000000",
          "2025-04-20T00:00:00.000000000",
          "2025-04-27T00:00:00.000000000",
          "2025-05-04T00:00:00.000000000",
          "2025-05-11T00:00:00.000000000",
          "2025-05-18T00:00:00.000000000"
         ],
         "y": {
          "bdata": "csTrW2Q4FkCWK0eQR7URQMRTkh6O1BFApLMNnzgIEUCb6CvfcFUZQPAjnTzorxdAXPz5Z2ZBF0AM74lzfhAeQPYgTEU+3xdAE3FzceQjGED9KyqlEwUZQLfo2AWR+BhAcK2vYr5iGkAxn3/epa0aQByDVNG9XRRAqPs1fJG7FECMe6DAIjwYQEISx8U3nhVAYsiimLzXGEBxXio73+UXQF9wr4UPnhVAynp3aNLXFUD5uBlKSGQYQHBu6PaMDhxA",
          "dtype": "f8"
         }
        },
        {
         "customdata": {
          "bdata": "AAAAAAAAAAAAAAAAAAAAAAAAAAAAAAAAjGLQzZ5mJUAAAAAAAAAAAI4UYsaMpCZAAAAAAAAAAADCxNxEvuomQAAAAAAAAAAACEXKV5/4JkA=",
          "dtype": "f8",
          "shape": "5, 2"
         },
         "hovertemplate": "<b>Fecha:</b> %{x}<br><b>Predicción:</b> %{y:.1f}<br><b>IC Inferior:</b> %{customdata[0]:.1f}<br><b>IC Superior:</b> %{customdata[1]:.1f}<extra></extra>",
         "line": {
          "color": "red"
         },
         "mode": "lines",
         "name": "Pronóstico",
         "type": "scatter",
         "x": [
          "2025-05-18T00:00:00",
          "2025-05-25T00:00:00",
          "2025-06-01T00:00:00",
          "2025-06-08T00:00:00",
          "2025-06-15T00:00:00"
         ],
         "y": [
          7.014209611832129,
          4.786636958957164,
          5.286245271503767,
          5.418363183052187,
          5.445264668127161
         ]
        },
        {
         "fill": "toself",
         "fillcolor": "rgba(211,211,211,0.3)",
         "hoverinfo": "skip",
         "line": {
          "color": "rgba(255,255,255,0)"
         },
         "name": "Intervalo de Confianza 95%",
         "showlegend": true,
         "type": "scatter",
         "x": [
          "2025-05-25T00:00:00",
          "2025-06-01T00:00:00",
          "2025-06-08T00:00:00",
          "2025-06-15T00:00:00",
          "2025-06-15T00:00:00",
          "2025-06-08T00:00:00",
          "2025-06-01T00:00:00",
          "2025-05-25T00:00:00"
         ],
         "y": [
          10.700430328071228,
          11.321386527512256,
          11.458482887219706,
          11.485590690079803,
          0,
          0,
          0,
          0
         ]
        }
       ],
       "layout": {
        "hovermode": "x unified",
        "legend": {
         "orientation": "h",
         "x": 0.5,
         "xanchor": "center",
         "y": -0.4,
         "yanchor": "bottom"
        },
        "showlegend": true,
        "template": {
         "data": {
          "bar": [
           {
            "error_x": {
             "color": "#2a3f5f"
            },
            "error_y": {
             "color": "#2a3f5f"
            },
            "marker": {
             "line": {
              "color": "white",
              "width": 0.5
             },
             "pattern": {
              "fillmode": "overlay",
              "size": 10,
              "solidity": 0.2
             }
            },
            "type": "bar"
           }
          ],
          "barpolar": [
           {
            "marker": {
             "line": {
              "color": "white",
              "width": 0.5
             },
             "pattern": {
              "fillmode": "overlay",
              "size": 10,
              "solidity": 0.2
             }
            },
            "type": "barpolar"
           }
          ],
          "carpet": [
           {
            "aaxis": {
             "endlinecolor": "#2a3f5f",
             "gridcolor": "#C8D4E3",
             "linecolor": "#C8D4E3",
             "minorgridcolor": "#C8D4E3",
             "startlinecolor": "#2a3f5f"
            },
            "baxis": {
             "endlinecolor": "#2a3f5f",
             "gridcolor": "#C8D4E3",
             "linecolor": "#C8D4E3",
             "minorgridcolor": "#C8D4E3",
             "startlinecolor": "#2a3f5f"
            },
            "type": "carpet"
           }
          ],
          "choropleth": [
           {
            "colorbar": {
             "outlinewidth": 0,
             "ticks": ""
            },
            "type": "choropleth"
           }
          ],
          "contour": [
           {
            "colorbar": {
             "outlinewidth": 0,
             "ticks": ""
            },
            "colorscale": [
             [
              0,
              "#0d0887"
             ],
             [
              0.1111111111111111,
              "#46039f"
             ],
             [
              0.2222222222222222,
              "#7201a8"
             ],
             [
              0.3333333333333333,
              "#9c179e"
             ],
             [
              0.4444444444444444,
              "#bd3786"
             ],
             [
              0.5555555555555556,
              "#d8576b"
             ],
             [
              0.6666666666666666,
              "#ed7953"
             ],
             [
              0.7777777777777778,
              "#fb9f3a"
             ],
             [
              0.8888888888888888,
              "#fdca26"
             ],
             [
              1,
              "#f0f921"
             ]
            ],
            "type": "contour"
           }
          ],
          "contourcarpet": [
           {
            "colorbar": {
             "outlinewidth": 0,
             "ticks": ""
            },
            "type": "contourcarpet"
           }
          ],
          "heatmap": [
           {
            "colorbar": {
             "outlinewidth": 0,
             "ticks": ""
            },
            "colorscale": [
             [
              0,
              "#0d0887"
             ],
             [
              0.1111111111111111,
              "#46039f"
             ],
             [
              0.2222222222222222,
              "#7201a8"
             ],
             [
              0.3333333333333333,
              "#9c179e"
             ],
             [
              0.4444444444444444,
              "#bd3786"
             ],
             [
              0.5555555555555556,
              "#d8576b"
             ],
             [
              0.6666666666666666,
              "#ed7953"
             ],
             [
              0.7777777777777778,
              "#fb9f3a"
             ],
             [
              0.8888888888888888,
              "#fdca26"
             ],
             [
              1,
              "#f0f921"
             ]
            ],
            "type": "heatmap"
           }
          ],
          "histogram": [
           {
            "marker": {
             "pattern": {
              "fillmode": "overlay",
              "size": 10,
              "solidity": 0.2
             }
            },
            "type": "histogram"
           }
          ],
          "histogram2d": [
           {
            "colorbar": {
             "outlinewidth": 0,
             "ticks": ""
            },
            "colorscale": [
             [
              0,
              "#0d0887"
             ],
             [
              0.1111111111111111,
              "#46039f"
             ],
             [
              0.2222222222222222,
              "#7201a8"
             ],
             [
              0.3333333333333333,
              "#9c179e"
             ],
             [
              0.4444444444444444,
              "#bd3786"
             ],
             [
              0.5555555555555556,
              "#d8576b"
             ],
             [
              0.6666666666666666,
              "#ed7953"
             ],
             [
              0.7777777777777778,
              "#fb9f3a"
             ],
             [
              0.8888888888888888,
              "#fdca26"
             ],
             [
              1,
              "#f0f921"
             ]
            ],
            "type": "histogram2d"
           }
          ],
          "histogram2dcontour": [
           {
            "colorbar": {
             "outlinewidth": 0,
             "ticks": ""
            },
            "colorscale": [
             [
              0,
              "#0d0887"
             ],
             [
              0.1111111111111111,
              "#46039f"
             ],
             [
              0.2222222222222222,
              "#7201a8"
             ],
             [
              0.3333333333333333,
              "#9c179e"
             ],
             [
              0.4444444444444444,
              "#bd3786"
             ],
             [
              0.5555555555555556,
              "#d8576b"
             ],
             [
              0.6666666666666666,
              "#ed7953"
             ],
             [
              0.7777777777777778,
              "#fb9f3a"
             ],
             [
              0.8888888888888888,
              "#fdca26"
             ],
             [
              1,
              "#f0f921"
             ]
            ],
            "type": "histogram2dcontour"
           }
          ],
          "mesh3d": [
           {
            "colorbar": {
             "outlinewidth": 0,
             "ticks": ""
            },
            "type": "mesh3d"
           }
          ],
          "parcoords": [
           {
            "line": {
             "colorbar": {
              "outlinewidth": 0,
              "ticks": ""
             }
            },
            "type": "parcoords"
           }
          ],
          "pie": [
           {
            "automargin": true,
            "type": "pie"
           }
          ],
          "scatter": [
           {
            "fillpattern": {
             "fillmode": "overlay",
             "size": 10,
             "solidity": 0.2
            },
            "type": "scatter"
           }
          ],
          "scatter3d": [
           {
            "line": {
             "colorbar": {
              "outlinewidth": 0,
              "ticks": ""
             }
            },
            "marker": {
             "colorbar": {
              "outlinewidth": 0,
              "ticks": ""
             }
            },
            "type": "scatter3d"
           }
          ],
          "scattercarpet": [
           {
            "marker": {
             "colorbar": {
              "outlinewidth": 0,
              "ticks": ""
             }
            },
            "type": "scattercarpet"
           }
          ],
          "scattergeo": [
           {
            "marker": {
             "colorbar": {
              "outlinewidth": 0,
              "ticks": ""
             }
            },
            "type": "scattergeo"
           }
          ],
          "scattergl": [
           {
            "marker": {
             "colorbar": {
              "outlinewidth": 0,
              "ticks": ""
             }
            },
            "type": "scattergl"
           }
          ],
          "scattermap": [
           {
            "marker": {
             "colorbar": {
              "outlinewidth": 0,
              "ticks": ""
             }
            },
            "type": "scattermap"
           }
          ],
          "scattermapbox": [
           {
            "marker": {
             "colorbar": {
              "outlinewidth": 0,
              "ticks": ""
             }
            },
            "type": "scattermapbox"
           }
          ],
          "scatterpolar": [
           {
            "marker": {
             "colorbar": {
              "outlinewidth": 0,
              "ticks": ""
             }
            },
            "type": "scatterpolar"
           }
          ],
          "scatterpolargl": [
           {
            "marker": {
             "colorbar": {
              "outlinewidth": 0,
              "ticks": ""
             }
            },
            "type": "scatterpolargl"
           }
          ],
          "scatterternary": [
           {
            "marker": {
             "colorbar": {
              "outlinewidth": 0,
              "ticks": ""
             }
            },
            "type": "scatterternary"
           }
          ],
          "surface": [
           {
            "colorbar": {
             "outlinewidth": 0,
             "ticks": ""
            },
            "colorscale": [
             [
              0,
              "#0d0887"
             ],
             [
              0.1111111111111111,
              "#46039f"
             ],
             [
              0.2222222222222222,
              "#7201a8"
             ],
             [
              0.3333333333333333,
              "#9c179e"
             ],
             [
              0.4444444444444444,
              "#bd3786"
             ],
             [
              0.5555555555555556,
              "#d8576b"
             ],
             [
              0.6666666666666666,
              "#ed7953"
             ],
             [
              0.7777777777777778,
              "#fb9f3a"
             ],
             [
              0.8888888888888888,
              "#fdca26"
             ],
             [
              1,
              "#f0f921"
             ]
            ],
            "type": "surface"
           }
          ],
          "table": [
           {
            "cells": {
             "fill": {
              "color": "#EBF0F8"
             },
             "line": {
              "color": "white"
             }
            },
            "header": {
             "fill": {
              "color": "#C8D4E3"
             },
             "line": {
              "color": "white"
             }
            },
            "type": "table"
           }
          ]
         },
         "layout": {
          "annotationdefaults": {
           "arrowcolor": "#2a3f5f",
           "arrowhead": 0,
           "arrowwidth": 1
          },
          "autotypenumbers": "strict",
          "coloraxis": {
           "colorbar": {
            "outlinewidth": 0,
            "ticks": ""
           }
          },
          "colorscale": {
           "diverging": [
            [
             0,
             "#8e0152"
            ],
            [
             0.1,
             "#c51b7d"
            ],
            [
             0.2,
             "#de77ae"
            ],
            [
             0.3,
             "#f1b6da"
            ],
            [
             0.4,
             "#fde0ef"
            ],
            [
             0.5,
             "#f7f7f7"
            ],
            [
             0.6,
             "#e6f5d0"
            ],
            [
             0.7,
             "#b8e186"
            ],
            [
             0.8,
             "#7fbc41"
            ],
            [
             0.9,
             "#4d9221"
            ],
            [
             1,
             "#276419"
            ]
           ],
           "sequential": [
            [
             0,
             "#0d0887"
            ],
            [
             0.1111111111111111,
             "#46039f"
            ],
            [
             0.2222222222222222,
             "#7201a8"
            ],
            [
             0.3333333333333333,
             "#9c179e"
            ],
            [
             0.4444444444444444,
             "#bd3786"
            ],
            [
             0.5555555555555556,
             "#d8576b"
            ],
            [
             0.6666666666666666,
             "#ed7953"
            ],
            [
             0.7777777777777778,
             "#fb9f3a"
            ],
            [
             0.8888888888888888,
             "#fdca26"
            ],
            [
             1,
             "#f0f921"
            ]
           ],
           "sequentialminus": [
            [
             0,
             "#0d0887"
            ],
            [
             0.1111111111111111,
             "#46039f"
            ],
            [
             0.2222222222222222,
             "#7201a8"
            ],
            [
             0.3333333333333333,
             "#9c179e"
            ],
            [
             0.4444444444444444,
             "#bd3786"
            ],
            [
             0.5555555555555556,
             "#d8576b"
            ],
            [
             0.6666666666666666,
             "#ed7953"
            ],
            [
             0.7777777777777778,
             "#fb9f3a"
            ],
            [
             0.8888888888888888,
             "#fdca26"
            ],
            [
             1,
             "#f0f921"
            ]
           ]
          },
          "colorway": [
           "#636efa",
           "#EF553B",
           "#00cc96",
           "#ab63fa",
           "#FFA15A",
           "#19d3f3",
           "#FF6692",
           "#B6E880",
           "#FF97FF",
           "#FECB52"
          ],
          "font": {
           "color": "#2a3f5f"
          },
          "geo": {
           "bgcolor": "white",
           "lakecolor": "white",
           "landcolor": "white",
           "showlakes": true,
           "showland": true,
           "subunitcolor": "#C8D4E3"
          },
          "hoverlabel": {
           "align": "left"
          },
          "hovermode": "closest",
          "mapbox": {
           "style": "light"
          },
          "paper_bgcolor": "white",
          "plot_bgcolor": "white",
          "polar": {
           "angularaxis": {
            "gridcolor": "#EBF0F8",
            "linecolor": "#EBF0F8",
            "ticks": ""
           },
           "bgcolor": "white",
           "radialaxis": {
            "gridcolor": "#EBF0F8",
            "linecolor": "#EBF0F8",
            "ticks": ""
           }
          },
          "scene": {
           "xaxis": {
            "backgroundcolor": "white",
            "gridcolor": "#DFE8F3",
            "gridwidth": 2,
            "linecolor": "#EBF0F8",
            "showbackground": true,
            "ticks": "",
            "zerolinecolor": "#EBF0F8"
           },
           "yaxis": {
            "backgroundcolor": "white",
            "gridcolor": "#DFE8F3",
            "gridwidth": 2,
            "linecolor": "#EBF0F8",
            "showbackground": true,
            "ticks": "",
            "zerolinecolor": "#EBF0F8"
           },
           "zaxis": {
            "backgroundcolor": "white",
            "gridcolor": "#DFE8F3",
            "gridwidth": 2,
            "linecolor": "#EBF0F8",
            "showbackground": true,
            "ticks": "",
            "zerolinecolor": "#EBF0F8"
           }
          },
          "shapedefaults": {
           "line": {
            "color": "#2a3f5f"
           }
          },
          "ternary": {
           "aaxis": {
            "gridcolor": "#DFE8F3",
            "linecolor": "#A2B1C6",
            "ticks": ""
           },
           "baxis": {
            "gridcolor": "#DFE8F3",
            "linecolor": "#A2B1C6",
            "ticks": ""
           },
           "bgcolor": "white",
           "caxis": {
            "gridcolor": "#DFE8F3",
            "linecolor": "#A2B1C6",
            "ticks": ""
           }
          },
          "title": {
           "x": 0.05
          },
          "xaxis": {
           "automargin": true,
           "gridcolor": "#EBF0F8",
           "linecolor": "#EBF0F8",
           "ticks": "",
           "title": {
            "standoff": 15
           },
           "zerolinecolor": "#EBF0F8",
           "zerolinewidth": 2
          },
          "yaxis": {
           "automargin": true,
           "gridcolor": "#EBF0F8",
           "linecolor": "#EBF0F8",
           "ticks": "",
           "title": {
            "standoff": 15
           },
           "zerolinecolor": "#EBF0F8",
           "zerolinewidth": 2
          }
         }
        },
        "title": {
         "text": "Pronóstico de Horas Extra - Finance"
        },
        "xaxis": {
         "title": {
          "text": "Fecha"
         }
        },
        "yaxis": {
         "title": {
          "text": "Horas Extra"
         }
        }
       }
      }
     },
     "metadata": {},
     "output_type": "display_data"
    },
    {
     "name": "stdout",
     "output_type": "stream",
     "text": [
      "Visualización generada para Finance\n"
     ]
    },
    {
     "data": {
      "application/vnd.plotly.v1+json": {
       "config": {
        "plotlyServerURL": "https://plot.ly"
       },
       "data": [
        {
         "hovertemplate": "<b>Fecha:</b> %{x}<br><b>Valor Real:</b> %{y:.1f}<extra></extra>",
         "line": {
          "color": "blue"
         },
         "mode": "markers+lines",
         "name": "Datos Históricos",
         "type": "scatter",
         "x": [
          "2024-12-08T00:00:00.000000000",
          "2024-12-15T00:00:00.000000000",
          "2024-12-22T00:00:00.000000000",
          "2024-12-29T00:00:00.000000000",
          "2025-01-05T00:00:00.000000000",
          "2025-01-12T00:00:00.000000000",
          "2025-01-19T00:00:00.000000000",
          "2025-01-26T00:00:00.000000000",
          "2025-02-02T00:00:00.000000000",
          "2025-02-09T00:00:00.000000000",
          "2025-02-16T00:00:00.000000000",
          "2025-02-23T00:00:00.000000000",
          "2025-03-02T00:00:00.000000000",
          "2025-03-09T00:00:00.000000000",
          "2025-03-16T00:00:00.000000000",
          "2025-03-23T00:00:00.000000000",
          "2025-03-30T00:00:00.000000000",
          "2025-04-06T00:00:00.000000000",
          "2025-04-13T00:00:00.000000000",
          "2025-04-20T00:00:00.000000000",
          "2025-04-27T00:00:00.000000000",
          "2025-05-04T00:00:00.000000000",
          "2025-05-11T00:00:00.000000000",
          "2025-05-18T00:00:00.000000000"
         ],
         "y": {
          "bdata": "ZmZmZmZmDEApXI/C9Sj4P6RwPQrXoxpAuB6F61G4L0Bcj8L1KFwjQHE9CtejcBlApHA9CtejBkCamZmZmRklQAAAAAAAAPg/cT0K16NwG0Bcj8L1KNwjQOxRuB6F6yNAzczMzMzMGkDD9Shcj8ITQPYoXI/C9RdA4XoUrkfhKEAK16NwPQoUQEjhehSuRx9Aw/UoXI/CI0Bcj8L1KFwdQBSuR+F6FCdAmpmZmZmZAUAK16NwPYoiQLgehetRuP4/",
          "dtype": "f8"
         }
        },
        {
         "hovertemplate": "<b>Fecha:</b> %{x}<br><b>Predicción:</b> %{y:.1f}<extra></extra>",
         "line": {
          "color": "red",
          "dash": "dash"
         },
         "mode": "lines",
         "name": "Predicción Histórica",
         "type": "scatter",
         "x": [
          "2024-12-08T00:00:00.000000000",
          "2024-12-15T00:00:00.000000000",
          "2024-12-22T00:00:00.000000000",
          "2024-12-29T00:00:00.000000000",
          "2025-01-05T00:00:00.000000000",
          "2025-01-12T00:00:00.000000000",
          "2025-01-19T00:00:00.000000000",
          "2025-01-26T00:00:00.000000000",
          "2025-02-02T00:00:00.000000000",
          "2025-02-09T00:00:00.000000000",
          "2025-02-16T00:00:00.000000000",
          "2025-02-23T00:00:00.000000000",
          "2025-03-02T00:00:00.000000000",
          "2025-03-09T00:00:00.000000000",
          "2025-03-16T00:00:00.000000000",
          "2025-03-23T00:00:00.000000000",
          "2025-03-30T00:00:00.000000000",
          "2025-04-06T00:00:00.000000000",
          "2025-04-13T00:00:00.000000000",
          "2025-04-20T00:00:00.000000000",
          "2025-04-27T00:00:00.000000000",
          "2025-05-04T00:00:00.000000000",
          "2025-05-11T00:00:00.000000000",
          "2025-05-18T00:00:00.000000000"
         ],
         "y": {
          "bdata": "I9BKyTRwE0CUXUp+2c8PQMLEA0mD6RRAyT47LeshJEA3XamHPt8WQFxMJ1/kwwpAHmEmC5IDC0Dop6Q6958gQJDCk4GzHyFAdG0K8xhPIkCFQEjsou4XQAHfcaxoFyBAuhjvagx0FEAQLHHQSZIWQApFJ9CGvR1AlWeCPlF4IUCBckYKutkdQNAKluD6tRxAK9Vcosv9F0COkuFGslshQEv0xDSrex1A/F4IRXWgG0C9FEKOc2UiQMO1EqX44x5A",
          "dtype": "f8"
         }
        },
        {
         "customdata": {
          "bdata": "AAAAAAAAAAAAAAAAAAAAAMRncL7xlQZAPo/C/qDoMkAAAAAAAAAAAN+HIyZUVi1AwNiqo6Up2j/peelgv6IwQAAAAAAAAAAAfNAUnUO2KkA=",
          "dtype": "f8",
          "shape": "5, 2"
         },
         "hovertemplate": "<b>Fecha:</b> %{x}<br><b>Predicción:</b> %{y:.1f}<br><b>IC Inferior:</b> %{customdata[0]:.1f}<br><b>IC Superior:</b> %{customdata[1]:.1f}<extra></extra>",
         "line": {
          "color": "red"
         },
         "mode": "lines",
         "name": "Pronóstico",
         "type": "scatter",
         "x": [
          "2025-05-18T00:00:00",
          "2025-05-25T00:00:00",
          "2025-06-01T00:00:00",
          "2025-06-08T00:00:00",
          "2025-06-15T00:00:00"
         ],
         "y": [
          7.722628192202538,
          10.865960793640722,
          6.555584649933678,
          8.522262319008085,
          5.202023735871781
         ]
        },
        {
         "fill": "toself",
         "fillcolor": "rgba(211,211,211,0.3)",
         "hoverinfo": "skip",
         "line": {
          "color": "rgba(255,255,255,0)"
         },
         "name": "Intervalo de Confianza 95%",
         "showlegend": true,
         "type": "scatter",
         "x": [
          "2025-05-25T00:00:00",
          "2025-06-01T00:00:00",
          "2025-06-08T00:00:00",
          "2025-06-15T00:00:00",
          "2025-06-15T00:00:00",
          "2025-06-08T00:00:00",
          "2025-06-01T00:00:00",
          "2025-05-25T00:00:00"
         ],
         "y": [
          18.908706591129196,
          14.668610755765199,
          16.635732705117253,
          13.355984600821323,
          0,
          0.408791932898918,
          0,
          2.823214996152247
         ]
        }
       ],
       "layout": {
        "hovermode": "x unified",
        "legend": {
         "orientation": "h",
         "x": 0.5,
         "xanchor": "center",
         "y": -0.4,
         "yanchor": "bottom"
        },
        "showlegend": true,
        "template": {
         "data": {
          "bar": [
           {
            "error_x": {
             "color": "#2a3f5f"
            },
            "error_y": {
             "color": "#2a3f5f"
            },
            "marker": {
             "line": {
              "color": "white",
              "width": 0.5
             },
             "pattern": {
              "fillmode": "overlay",
              "size": 10,
              "solidity": 0.2
             }
            },
            "type": "bar"
           }
          ],
          "barpolar": [
           {
            "marker": {
             "line": {
              "color": "white",
              "width": 0.5
             },
             "pattern": {
              "fillmode": "overlay",
              "size": 10,
              "solidity": 0.2
             }
            },
            "type": "barpolar"
           }
          ],
          "carpet": [
           {
            "aaxis": {
             "endlinecolor": "#2a3f5f",
             "gridcolor": "#C8D4E3",
             "linecolor": "#C8D4E3",
             "minorgridcolor": "#C8D4E3",
             "startlinecolor": "#2a3f5f"
            },
            "baxis": {
             "endlinecolor": "#2a3f5f",
             "gridcolor": "#C8D4E3",
             "linecolor": "#C8D4E3",
             "minorgridcolor": "#C8D4E3",
             "startlinecolor": "#2a3f5f"
            },
            "type": "carpet"
           }
          ],
          "choropleth": [
           {
            "colorbar": {
             "outlinewidth": 0,
             "ticks": ""
            },
            "type": "choropleth"
           }
          ],
          "contour": [
           {
            "colorbar": {
             "outlinewidth": 0,
             "ticks": ""
            },
            "colorscale": [
             [
              0,
              "#0d0887"
             ],
             [
              0.1111111111111111,
              "#46039f"
             ],
             [
              0.2222222222222222,
              "#7201a8"
             ],
             [
              0.3333333333333333,
              "#9c179e"
             ],
             [
              0.4444444444444444,
              "#bd3786"
             ],
             [
              0.5555555555555556,
              "#d8576b"
             ],
             [
              0.6666666666666666,
              "#ed7953"
             ],
             [
              0.7777777777777778,
              "#fb9f3a"
             ],
             [
              0.8888888888888888,
              "#fdca26"
             ],
             [
              1,
              "#f0f921"
             ]
            ],
            "type": "contour"
           }
          ],
          "contourcarpet": [
           {
            "colorbar": {
             "outlinewidth": 0,
             "ticks": ""
            },
            "type": "contourcarpet"
           }
          ],
          "heatmap": [
           {
            "colorbar": {
             "outlinewidth": 0,
             "ticks": ""
            },
            "colorscale": [
             [
              0,
              "#0d0887"
             ],
             [
              0.1111111111111111,
              "#46039f"
             ],
             [
              0.2222222222222222,
              "#7201a8"
             ],
             [
              0.3333333333333333,
              "#9c179e"
             ],
             [
              0.4444444444444444,
              "#bd3786"
             ],
             [
              0.5555555555555556,
              "#d8576b"
             ],
             [
              0.6666666666666666,
              "#ed7953"
             ],
             [
              0.7777777777777778,
              "#fb9f3a"
             ],
             [
              0.8888888888888888,
              "#fdca26"
             ],
             [
              1,
              "#f0f921"
             ]
            ],
            "type": "heatmap"
           }
          ],
          "histogram": [
           {
            "marker": {
             "pattern": {
              "fillmode": "overlay",
              "size": 10,
              "solidity": 0.2
             }
            },
            "type": "histogram"
           }
          ],
          "histogram2d": [
           {
            "colorbar": {
             "outlinewidth": 0,
             "ticks": ""
            },
            "colorscale": [
             [
              0,
              "#0d0887"
             ],
             [
              0.1111111111111111,
              "#46039f"
             ],
             [
              0.2222222222222222,
              "#7201a8"
             ],
             [
              0.3333333333333333,
              "#9c179e"
             ],
             [
              0.4444444444444444,
              "#bd3786"
             ],
             [
              0.5555555555555556,
              "#d8576b"
             ],
             [
              0.6666666666666666,
              "#ed7953"
             ],
             [
              0.7777777777777778,
              "#fb9f3a"
             ],
             [
              0.8888888888888888,
              "#fdca26"
             ],
             [
              1,
              "#f0f921"
             ]
            ],
            "type": "histogram2d"
           }
          ],
          "histogram2dcontour": [
           {
            "colorbar": {
             "outlinewidth": 0,
             "ticks": ""
            },
            "colorscale": [
             [
              0,
              "#0d0887"
             ],
             [
              0.1111111111111111,
              "#46039f"
             ],
             [
              0.2222222222222222,
              "#7201a8"
             ],
             [
              0.3333333333333333,
              "#9c179e"
             ],
             [
              0.4444444444444444,
              "#bd3786"
             ],
             [
              0.5555555555555556,
              "#d8576b"
             ],
             [
              0.6666666666666666,
              "#ed7953"
             ],
             [
              0.7777777777777778,
              "#fb9f3a"
             ],
             [
              0.8888888888888888,
              "#fdca26"
             ],
             [
              1,
              "#f0f921"
             ]
            ],
            "type": "histogram2dcontour"
           }
          ],
          "mesh3d": [
           {
            "colorbar": {
             "outlinewidth": 0,
             "ticks": ""
            },
            "type": "mesh3d"
           }
          ],
          "parcoords": [
           {
            "line": {
             "colorbar": {
              "outlinewidth": 0,
              "ticks": ""
             }
            },
            "type": "parcoords"
           }
          ],
          "pie": [
           {
            "automargin": true,
            "type": "pie"
           }
          ],
          "scatter": [
           {
            "fillpattern": {
             "fillmode": "overlay",
             "size": 10,
             "solidity": 0.2
            },
            "type": "scatter"
           }
          ],
          "scatter3d": [
           {
            "line": {
             "colorbar": {
              "outlinewidth": 0,
              "ticks": ""
             }
            },
            "marker": {
             "colorbar": {
              "outlinewidth": 0,
              "ticks": ""
             }
            },
            "type": "scatter3d"
           }
          ],
          "scattercarpet": [
           {
            "marker": {
             "colorbar": {
              "outlinewidth": 0,
              "ticks": ""
             }
            },
            "type": "scattercarpet"
           }
          ],
          "scattergeo": [
           {
            "marker": {
             "colorbar": {
              "outlinewidth": 0,
              "ticks": ""
             }
            },
            "type": "scattergeo"
           }
          ],
          "scattergl": [
           {
            "marker": {
             "colorbar": {
              "outlinewidth": 0,
              "ticks": ""
             }
            },
            "type": "scattergl"
           }
          ],
          "scattermap": [
           {
            "marker": {
             "colorbar": {
              "outlinewidth": 0,
              "ticks": ""
             }
            },
            "type": "scattermap"
           }
          ],
          "scattermapbox": [
           {
            "marker": {
             "colorbar": {
              "outlinewidth": 0,
              "ticks": ""
             }
            },
            "type": "scattermapbox"
           }
          ],
          "scatterpolar": [
           {
            "marker": {
             "colorbar": {
              "outlinewidth": 0,
              "ticks": ""
             }
            },
            "type": "scatterpolar"
           }
          ],
          "scatterpolargl": [
           {
            "marker": {
             "colorbar": {
              "outlinewidth": 0,
              "ticks": ""
             }
            },
            "type": "scatterpolargl"
           }
          ],
          "scatterternary": [
           {
            "marker": {
             "colorbar": {
              "outlinewidth": 0,
              "ticks": ""
             }
            },
            "type": "scatterternary"
           }
          ],
          "surface": [
           {
            "colorbar": {
             "outlinewidth": 0,
             "ticks": ""
            },
            "colorscale": [
             [
              0,
              "#0d0887"
             ],
             [
              0.1111111111111111,
              "#46039f"
             ],
             [
              0.2222222222222222,
              "#7201a8"
             ],
             [
              0.3333333333333333,
              "#9c179e"
             ],
             [
              0.4444444444444444,
              "#bd3786"
             ],
             [
              0.5555555555555556,
              "#d8576b"
             ],
             [
              0.6666666666666666,
              "#ed7953"
             ],
             [
              0.7777777777777778,
              "#fb9f3a"
             ],
             [
              0.8888888888888888,
              "#fdca26"
             ],
             [
              1,
              "#f0f921"
             ]
            ],
            "type": "surface"
           }
          ],
          "table": [
           {
            "cells": {
             "fill": {
              "color": "#EBF0F8"
             },
             "line": {
              "color": "white"
             }
            },
            "header": {
             "fill": {
              "color": "#C8D4E3"
             },
             "line": {
              "color": "white"
             }
            },
            "type": "table"
           }
          ]
         },
         "layout": {
          "annotationdefaults": {
           "arrowcolor": "#2a3f5f",
           "arrowhead": 0,
           "arrowwidth": 1
          },
          "autotypenumbers": "strict",
          "coloraxis": {
           "colorbar": {
            "outlinewidth": 0,
            "ticks": ""
           }
          },
          "colorscale": {
           "diverging": [
            [
             0,
             "#8e0152"
            ],
            [
             0.1,
             "#c51b7d"
            ],
            [
             0.2,
             "#de77ae"
            ],
            [
             0.3,
             "#f1b6da"
            ],
            [
             0.4,
             "#fde0ef"
            ],
            [
             0.5,
             "#f7f7f7"
            ],
            [
             0.6,
             "#e6f5d0"
            ],
            [
             0.7,
             "#b8e186"
            ],
            [
             0.8,
             "#7fbc41"
            ],
            [
             0.9,
             "#4d9221"
            ],
            [
             1,
             "#276419"
            ]
           ],
           "sequential": [
            [
             0,
             "#0d0887"
            ],
            [
             0.1111111111111111,
             "#46039f"
            ],
            [
             0.2222222222222222,
             "#7201a8"
            ],
            [
             0.3333333333333333,
             "#9c179e"
            ],
            [
             0.4444444444444444,
             "#bd3786"
            ],
            [
             0.5555555555555556,
             "#d8576b"
            ],
            [
             0.6666666666666666,
             "#ed7953"
            ],
            [
             0.7777777777777778,
             "#fb9f3a"
            ],
            [
             0.8888888888888888,
             "#fdca26"
            ],
            [
             1,
             "#f0f921"
            ]
           ],
           "sequentialminus": [
            [
             0,
             "#0d0887"
            ],
            [
             0.1111111111111111,
             "#46039f"
            ],
            [
             0.2222222222222222,
             "#7201a8"
            ],
            [
             0.3333333333333333,
             "#9c179e"
            ],
            [
             0.4444444444444444,
             "#bd3786"
            ],
            [
             0.5555555555555556,
             "#d8576b"
            ],
            [
             0.6666666666666666,
             "#ed7953"
            ],
            [
             0.7777777777777778,
             "#fb9f3a"
            ],
            [
             0.8888888888888888,
             "#fdca26"
            ],
            [
             1,
             "#f0f921"
            ]
           ]
          },
          "colorway": [
           "#636efa",
           "#EF553B",
           "#00cc96",
           "#ab63fa",
           "#FFA15A",
           "#19d3f3",
           "#FF6692",
           "#B6E880",
           "#FF97FF",
           "#FECB52"
          ],
          "font": {
           "color": "#2a3f5f"
          },
          "geo": {
           "bgcolor": "white",
           "lakecolor": "white",
           "landcolor": "white",
           "showlakes": true,
           "showland": true,
           "subunitcolor": "#C8D4E3"
          },
          "hoverlabel": {
           "align": "left"
          },
          "hovermode": "closest",
          "mapbox": {
           "style": "light"
          },
          "paper_bgcolor": "white",
          "plot_bgcolor": "white",
          "polar": {
           "angularaxis": {
            "gridcolor": "#EBF0F8",
            "linecolor": "#EBF0F8",
            "ticks": ""
           },
           "bgcolor": "white",
           "radialaxis": {
            "gridcolor": "#EBF0F8",
            "linecolor": "#EBF0F8",
            "ticks": ""
           }
          },
          "scene": {
           "xaxis": {
            "backgroundcolor": "white",
            "gridcolor": "#DFE8F3",
            "gridwidth": 2,
            "linecolor": "#EBF0F8",
            "showbackground": true,
            "ticks": "",
            "zerolinecolor": "#EBF0F8"
           },
           "yaxis": {
            "backgroundcolor": "white",
            "gridcolor": "#DFE8F3",
            "gridwidth": 2,
            "linecolor": "#EBF0F8",
            "showbackground": true,
            "ticks": "",
            "zerolinecolor": "#EBF0F8"
           },
           "zaxis": {
            "backgroundcolor": "white",
            "gridcolor": "#DFE8F3",
            "gridwidth": 2,
            "linecolor": "#EBF0F8",
            "showbackground": true,
            "ticks": "",
            "zerolinecolor": "#EBF0F8"
           }
          },
          "shapedefaults": {
           "line": {
            "color": "#2a3f5f"
           }
          },
          "ternary": {
           "aaxis": {
            "gridcolor": "#DFE8F3",
            "linecolor": "#A2B1C6",
            "ticks": ""
           },
           "baxis": {
            "gridcolor": "#DFE8F3",
            "linecolor": "#A2B1C6",
            "ticks": ""
           },
           "bgcolor": "white",
           "caxis": {
            "gridcolor": "#DFE8F3",
            "linecolor": "#A2B1C6",
            "ticks": ""
           }
          },
          "title": {
           "x": 0.05
          },
          "xaxis": {
           "automargin": true,
           "gridcolor": "#EBF0F8",
           "linecolor": "#EBF0F8",
           "ticks": "",
           "title": {
            "standoff": 15
           },
           "zerolinecolor": "#EBF0F8",
           "zerolinewidth": 2
          },
          "yaxis": {
           "automargin": true,
           "gridcolor": "#EBF0F8",
           "linecolor": "#EBF0F8",
           "ticks": "",
           "title": {
            "standoff": 15
           },
           "zerolinecolor": "#EBF0F8",
           "zerolinewidth": 2
          }
         }
        },
        "title": {
         "text": "Pronóstico de Horas Extra - HR"
        },
        "xaxis": {
         "title": {
          "text": "Fecha"
         }
        },
        "yaxis": {
         "title": {
          "text": "Horas Extra"
         }
        }
       }
      }
     },
     "metadata": {},
     "output_type": "display_data"
    },
    {
     "name": "stdout",
     "output_type": "stream",
     "text": [
      "Visualización generada para HR\n"
     ]
    },
    {
     "data": {
      "application/vnd.plotly.v1+json": {
       "config": {
        "plotlyServerURL": "https://plot.ly"
       },
       "data": [
        {
         "hovertemplate": "<b>Fecha:</b> %{x}<br><b>Valor Real:</b> %{y:.1f}<extra></extra>",
         "line": {
          "color": "blue"
         },
         "mode": "markers+lines",
         "name": "Datos Históricos",
         "type": "scatter",
         "x": [
          "2024-12-08T00:00:00.000000000",
          "2024-12-15T00:00:00.000000000",
          "2024-12-22T00:00:00.000000000",
          "2024-12-29T00:00:00.000000000",
          "2025-01-05T00:00:00.000000000",
          "2025-01-12T00:00:00.000000000",
          "2025-01-19T00:00:00.000000000",
          "2025-01-26T00:00:00.000000000",
          "2025-02-02T00:00:00.000000000",
          "2025-02-09T00:00:00.000000000",
          "2025-02-16T00:00:00.000000000",
          "2025-02-23T00:00:00.000000000",
          "2025-03-02T00:00:00.000000000",
          "2025-03-09T00:00:00.000000000",
          "2025-03-16T00:00:00.000000000",
          "2025-03-23T00:00:00.000000000",
          "2025-03-30T00:00:00.000000000",
          "2025-04-06T00:00:00.000000000",
          "2025-04-13T00:00:00.000000000",
          "2025-04-20T00:00:00.000000000",
          "2025-04-27T00:00:00.000000000",
          "2025-05-04T00:00:00.000000000",
          "2025-05-11T00:00:00.000000000",
          "2025-05-18T00:00:00.000000000"
         ],
         "y": {
          "bdata": "cT0K16NwGUCuR+F6FK4VQBSuR+F6FB5ArkfhehSu7z/D9Shcj8IWQM3MzMzMzBVA7FG4HoVrLUA9CtejcD0iQFK4HoXrURtASOF6FK5HEEBcj8L1KFwfQIXrUbgeBSxAXI/C9ShcEkDXo3A9CtcaQAAAAAAAgCZAzczMzMzMF0DhehSuR+EAQAAAAAAAAAAA9ihcj8L1G0CuR+F6FO4xQD0K16NwPRZAzczMzMzMBkCPwvUoXA8gQB+F61G4HgdA",
          "dtype": "f8"
         }
        },
        {
         "hovertemplate": "<b>Fecha:</b> %{x}<br><b>Predicción:</b> %{y:.1f}<extra></extra>",
         "line": {
          "color": "red",
          "dash": "dash"
         },
         "mode": "lines",
         "name": "Predicción Histórica",
         "type": "scatter",
         "x": [
          "2024-12-08T00:00:00.000000000",
          "2024-12-15T00:00:00.000000000",
          "2024-12-22T00:00:00.000000000",
          "2024-12-29T00:00:00.000000000",
          "2025-01-05T00:00:00.000000000",
          "2025-01-12T00:00:00.000000000",
          "2025-01-19T00:00:00.000000000",
          "2025-01-26T00:00:00.000000000",
          "2025-02-02T00:00:00.000000000",
          "2025-02-09T00:00:00.000000000",
          "2025-02-16T00:00:00.000000000",
          "2025-02-23T00:00:00.000000000",
          "2025-03-02T00:00:00.000000000",
          "2025-03-09T00:00:00.000000000",
          "2025-03-16T00:00:00.000000000",
          "2025-03-23T00:00:00.000000000",
          "2025-03-30T00:00:00.000000000",
          "2025-04-06T00:00:00.000000000",
          "2025-04-13T00:00:00.000000000",
          "2025-04-20T00:00:00.000000000",
          "2025-04-27T00:00:00.000000000",
          "2025-05-04T00:00:00.000000000",
          "2025-05-11T00:00:00.000000000",
          "2025-05-18T00:00:00.000000000"
         ],
         "y": {
          "bdata": "Ctnv8E+vEEAK2e/wT68QQArZ7/BPrxBACtnv8E+vEEDxKSkQcc4dQPEpKRBxzh1A8SkpEHHOHUDxKSkQcc4dQDmuDPYQnRxAOa4M9hCdHEA5rgz2EJ0cQDmuDPYQnRxAgTLw27BrG0CBMvDbsGsbQIEy8NuwaxtAgTLw27BrG0CBMvDbsGsbQMq208FQOhpAyrbTwVA6GkDKttPBUDoaQMq208FQOhpAEju3p/AIGUASO7en8AgZQBI7t6fwCBlA",
          "dtype": "f8"
         }
        },
        {
         "customdata": {
          "bdata": "AAAAAAAAAAAAAAAAAAAAAAAAAAAAAAAAFsHp92MyKkAAAAAAAAAAADqD2+qzmSlAAAAAAAAAAAA6g9vqs5kpQAAAAAAAAAAAOoPb6rOZKUA=",
          "dtype": "f8",
          "shape": "5, 2"
         },
         "hovertemplate": "<b>Fecha:</b> %{x}<br><b>Predicción:</b> %{y:.1f}<br><b>IC Inferior:</b> %{customdata[0]:.1f}<br><b>IC Superior:</b> %{customdata[1]:.1f}<extra></extra>",
         "line": {
          "color": "red"
         },
         "mode": "lines",
         "name": "Pronóstico",
         "type": "scatter",
         "x": [
          "2025-05-18T00:00:00",
          "2025-05-25T00:00:00",
          "2025-06-01T00:00:00",
          "2025-06-08T00:00:00",
          "2025-06-15T00:00:00"
         ],
         "y": [
          6.258730526503102,
          6.258730526503102,
          5.960512363977466,
          5.960512363977466,
          5.960512363977466
         ]
        },
        {
         "fill": "toself",
         "fillcolor": "rgba(211,211,211,0.3)",
         "hoverinfo": "skip",
         "line": {
          "color": "rgba(255,255,255,0)"
         },
         "name": "Intervalo de Confianza 95%",
         "showlegend": true,
         "type": "scatter",
         "x": [
          "2025-05-25T00:00:00",
          "2025-06-01T00:00:00",
          "2025-06-08T00:00:00",
          "2025-06-15T00:00:00",
          "2025-06-15T00:00:00",
          "2025-06-08T00:00:00",
          "2025-06-01T00:00:00",
          "2025-05-25T00:00:00"
         ],
         "y": [
          13.098418948444799,
          12.800200785919163,
          12.800200785919163,
          12.800200785919163,
          0,
          0,
          0,
          0
         ]
        }
       ],
       "layout": {
        "hovermode": "x unified",
        "legend": {
         "orientation": "h",
         "x": 0.5,
         "xanchor": "center",
         "y": -0.4,
         "yanchor": "bottom"
        },
        "showlegend": true,
        "template": {
         "data": {
          "bar": [
           {
            "error_x": {
             "color": "#2a3f5f"
            },
            "error_y": {
             "color": "#2a3f5f"
            },
            "marker": {
             "line": {
              "color": "white",
              "width": 0.5
             },
             "pattern": {
              "fillmode": "overlay",
              "size": 10,
              "solidity": 0.2
             }
            },
            "type": "bar"
           }
          ],
          "barpolar": [
           {
            "marker": {
             "line": {
              "color": "white",
              "width": 0.5
             },
             "pattern": {
              "fillmode": "overlay",
              "size": 10,
              "solidity": 0.2
             }
            },
            "type": "barpolar"
           }
          ],
          "carpet": [
           {
            "aaxis": {
             "endlinecolor": "#2a3f5f",
             "gridcolor": "#C8D4E3",
             "linecolor": "#C8D4E3",
             "minorgridcolor": "#C8D4E3",
             "startlinecolor": "#2a3f5f"
            },
            "baxis": {
             "endlinecolor": "#2a3f5f",
             "gridcolor": "#C8D4E3",
             "linecolor": "#C8D4E3",
             "minorgridcolor": "#C8D4E3",
             "startlinecolor": "#2a3f5f"
            },
            "type": "carpet"
           }
          ],
          "choropleth": [
           {
            "colorbar": {
             "outlinewidth": 0,
             "ticks": ""
            },
            "type": "choropleth"
           }
          ],
          "contour": [
           {
            "colorbar": {
             "outlinewidth": 0,
             "ticks": ""
            },
            "colorscale": [
             [
              0,
              "#0d0887"
             ],
             [
              0.1111111111111111,
              "#46039f"
             ],
             [
              0.2222222222222222,
              "#7201a8"
             ],
             [
              0.3333333333333333,
              "#9c179e"
             ],
             [
              0.4444444444444444,
              "#bd3786"
             ],
             [
              0.5555555555555556,
              "#d8576b"
             ],
             [
              0.6666666666666666,
              "#ed7953"
             ],
             [
              0.7777777777777778,
              "#fb9f3a"
             ],
             [
              0.8888888888888888,
              "#fdca26"
             ],
             [
              1,
              "#f0f921"
             ]
            ],
            "type": "contour"
           }
          ],
          "contourcarpet": [
           {
            "colorbar": {
             "outlinewidth": 0,
             "ticks": ""
            },
            "type": "contourcarpet"
           }
          ],
          "heatmap": [
           {
            "colorbar": {
             "outlinewidth": 0,
             "ticks": ""
            },
            "colorscale": [
             [
              0,
              "#0d0887"
             ],
             [
              0.1111111111111111,
              "#46039f"
             ],
             [
              0.2222222222222222,
              "#7201a8"
             ],
             [
              0.3333333333333333,
              "#9c179e"
             ],
             [
              0.4444444444444444,
              "#bd3786"
             ],
             [
              0.5555555555555556,
              "#d8576b"
             ],
             [
              0.6666666666666666,
              "#ed7953"
             ],
             [
              0.7777777777777778,
              "#fb9f3a"
             ],
             [
              0.8888888888888888,
              "#fdca26"
             ],
             [
              1,
              "#f0f921"
             ]
            ],
            "type": "heatmap"
           }
          ],
          "histogram": [
           {
            "marker": {
             "pattern": {
              "fillmode": "overlay",
              "size": 10,
              "solidity": 0.2
             }
            },
            "type": "histogram"
           }
          ],
          "histogram2d": [
           {
            "colorbar": {
             "outlinewidth": 0,
             "ticks": ""
            },
            "colorscale": [
             [
              0,
              "#0d0887"
             ],
             [
              0.1111111111111111,
              "#46039f"
             ],
             [
              0.2222222222222222,
              "#7201a8"
             ],
             [
              0.3333333333333333,
              "#9c179e"
             ],
             [
              0.4444444444444444,
              "#bd3786"
             ],
             [
              0.5555555555555556,
              "#d8576b"
             ],
             [
              0.6666666666666666,
              "#ed7953"
             ],
             [
              0.7777777777777778,
              "#fb9f3a"
             ],
             [
              0.8888888888888888,
              "#fdca26"
             ],
             [
              1,
              "#f0f921"
             ]
            ],
            "type": "histogram2d"
           }
          ],
          "histogram2dcontour": [
           {
            "colorbar": {
             "outlinewidth": 0,
             "ticks": ""
            },
            "colorscale": [
             [
              0,
              "#0d0887"
             ],
             [
              0.1111111111111111,
              "#46039f"
             ],
             [
              0.2222222222222222,
              "#7201a8"
             ],
             [
              0.3333333333333333,
              "#9c179e"
             ],
             [
              0.4444444444444444,
              "#bd3786"
             ],
             [
              0.5555555555555556,
              "#d8576b"
             ],
             [
              0.6666666666666666,
              "#ed7953"
             ],
             [
              0.7777777777777778,
              "#fb9f3a"
             ],
             [
              0.8888888888888888,
              "#fdca26"
             ],
             [
              1,
              "#f0f921"
             ]
            ],
            "type": "histogram2dcontour"
           }
          ],
          "mesh3d": [
           {
            "colorbar": {
             "outlinewidth": 0,
             "ticks": ""
            },
            "type": "mesh3d"
           }
          ],
          "parcoords": [
           {
            "line": {
             "colorbar": {
              "outlinewidth": 0,
              "ticks": ""
             }
            },
            "type": "parcoords"
           }
          ],
          "pie": [
           {
            "automargin": true,
            "type": "pie"
           }
          ],
          "scatter": [
           {
            "fillpattern": {
             "fillmode": "overlay",
             "size": 10,
             "solidity": 0.2
            },
            "type": "scatter"
           }
          ],
          "scatter3d": [
           {
            "line": {
             "colorbar": {
              "outlinewidth": 0,
              "ticks": ""
             }
            },
            "marker": {
             "colorbar": {
              "outlinewidth": 0,
              "ticks": ""
             }
            },
            "type": "scatter3d"
           }
          ],
          "scattercarpet": [
           {
            "marker": {
             "colorbar": {
              "outlinewidth": 0,
              "ticks": ""
             }
            },
            "type": "scattercarpet"
           }
          ],
          "scattergeo": [
           {
            "marker": {
             "colorbar": {
              "outlinewidth": 0,
              "ticks": ""
             }
            },
            "type": "scattergeo"
           }
          ],
          "scattergl": [
           {
            "marker": {
             "colorbar": {
              "outlinewidth": 0,
              "ticks": ""
             }
            },
            "type": "scattergl"
           }
          ],
          "scattermap": [
           {
            "marker": {
             "colorbar": {
              "outlinewidth": 0,
              "ticks": ""
             }
            },
            "type": "scattermap"
           }
          ],
          "scattermapbox": [
           {
            "marker": {
             "colorbar": {
              "outlinewidth": 0,
              "ticks": ""
             }
            },
            "type": "scattermapbox"
           }
          ],
          "scatterpolar": [
           {
            "marker": {
             "colorbar": {
              "outlinewidth": 0,
              "ticks": ""
             }
            },
            "type": "scatterpolar"
           }
          ],
          "scatterpolargl": [
           {
            "marker": {
             "colorbar": {
              "outlinewidth": 0,
              "ticks": ""
             }
            },
            "type": "scatterpolargl"
           }
          ],
          "scatterternary": [
           {
            "marker": {
             "colorbar": {
              "outlinewidth": 0,
              "ticks": ""
             }
            },
            "type": "scatterternary"
           }
          ],
          "surface": [
           {
            "colorbar": {
             "outlinewidth": 0,
             "ticks": ""
            },
            "colorscale": [
             [
              0,
              "#0d0887"
             ],
             [
              0.1111111111111111,
              "#46039f"
             ],
             [
              0.2222222222222222,
              "#7201a8"
             ],
             [
              0.3333333333333333,
              "#9c179e"
             ],
             [
              0.4444444444444444,
              "#bd3786"
             ],
             [
              0.5555555555555556,
              "#d8576b"
             ],
             [
              0.6666666666666666,
              "#ed7953"
             ],
             [
              0.7777777777777778,
              "#fb9f3a"
             ],
             [
              0.8888888888888888,
              "#fdca26"
             ],
             [
              1,
              "#f0f921"
             ]
            ],
            "type": "surface"
           }
          ],
          "table": [
           {
            "cells": {
             "fill": {
              "color": "#EBF0F8"
             },
             "line": {
              "color": "white"
             }
            },
            "header": {
             "fill": {
              "color": "#C8D4E3"
             },
             "line": {
              "color": "white"
             }
            },
            "type": "table"
           }
          ]
         },
         "layout": {
          "annotationdefaults": {
           "arrowcolor": "#2a3f5f",
           "arrowhead": 0,
           "arrowwidth": 1
          },
          "autotypenumbers": "strict",
          "coloraxis": {
           "colorbar": {
            "outlinewidth": 0,
            "ticks": ""
           }
          },
          "colorscale": {
           "diverging": [
            [
             0,
             "#8e0152"
            ],
            [
             0.1,
             "#c51b7d"
            ],
            [
             0.2,
             "#de77ae"
            ],
            [
             0.3,
             "#f1b6da"
            ],
            [
             0.4,
             "#fde0ef"
            ],
            [
             0.5,
             "#f7f7f7"
            ],
            [
             0.6,
             "#e6f5d0"
            ],
            [
             0.7,
             "#b8e186"
            ],
            [
             0.8,
             "#7fbc41"
            ],
            [
             0.9,
             "#4d9221"
            ],
            [
             1,
             "#276419"
            ]
           ],
           "sequential": [
            [
             0,
             "#0d0887"
            ],
            [
             0.1111111111111111,
             "#46039f"
            ],
            [
             0.2222222222222222,
             "#7201a8"
            ],
            [
             0.3333333333333333,
             "#9c179e"
            ],
            [
             0.4444444444444444,
             "#bd3786"
            ],
            [
             0.5555555555555556,
             "#d8576b"
            ],
            [
             0.6666666666666666,
             "#ed7953"
            ],
            [
             0.7777777777777778,
             "#fb9f3a"
            ],
            [
             0.8888888888888888,
             "#fdca26"
            ],
            [
             1,
             "#f0f921"
            ]
           ],
           "sequentialminus": [
            [
             0,
             "#0d0887"
            ],
            [
             0.1111111111111111,
             "#46039f"
            ],
            [
             0.2222222222222222,
             "#7201a8"
            ],
            [
             0.3333333333333333,
             "#9c179e"
            ],
            [
             0.4444444444444444,
             "#bd3786"
            ],
            [
             0.5555555555555556,
             "#d8576b"
            ],
            [
             0.6666666666666666,
             "#ed7953"
            ],
            [
             0.7777777777777778,
             "#fb9f3a"
            ],
            [
             0.8888888888888888,
             "#fdca26"
            ],
            [
             1,
             "#f0f921"
            ]
           ]
          },
          "colorway": [
           "#636efa",
           "#EF553B",
           "#00cc96",
           "#ab63fa",
           "#FFA15A",
           "#19d3f3",
           "#FF6692",
           "#B6E880",
           "#FF97FF",
           "#FECB52"
          ],
          "font": {
           "color": "#2a3f5f"
          },
          "geo": {
           "bgcolor": "white",
           "lakecolor": "white",
           "landcolor": "white",
           "showlakes": true,
           "showland": true,
           "subunitcolor": "#C8D4E3"
          },
          "hoverlabel": {
           "align": "left"
          },
          "hovermode": "closest",
          "mapbox": {
           "style": "light"
          },
          "paper_bgcolor": "white",
          "plot_bgcolor": "white",
          "polar": {
           "angularaxis": {
            "gridcolor": "#EBF0F8",
            "linecolor": "#EBF0F8",
            "ticks": ""
           },
           "bgcolor": "white",
           "radialaxis": {
            "gridcolor": "#EBF0F8",
            "linecolor": "#EBF0F8",
            "ticks": ""
           }
          },
          "scene": {
           "xaxis": {
            "backgroundcolor": "white",
            "gridcolor": "#DFE8F3",
            "gridwidth": 2,
            "linecolor": "#EBF0F8",
            "showbackground": true,
            "ticks": "",
            "zerolinecolor": "#EBF0F8"
           },
           "yaxis": {
            "backgroundcolor": "white",
            "gridcolor": "#DFE8F3",
            "gridwidth": 2,
            "linecolor": "#EBF0F8",
            "showbackground": true,
            "ticks": "",
            "zerolinecolor": "#EBF0F8"
           },
           "zaxis": {
            "backgroundcolor": "white",
            "gridcolor": "#DFE8F3",
            "gridwidth": 2,
            "linecolor": "#EBF0F8",
            "showbackground": true,
            "ticks": "",
            "zerolinecolor": "#EBF0F8"
           }
          },
          "shapedefaults": {
           "line": {
            "color": "#2a3f5f"
           }
          },
          "ternary": {
           "aaxis": {
            "gridcolor": "#DFE8F3",
            "linecolor": "#A2B1C6",
            "ticks": ""
           },
           "baxis": {
            "gridcolor": "#DFE8F3",
            "linecolor": "#A2B1C6",
            "ticks": ""
           },
           "bgcolor": "white",
           "caxis": {
            "gridcolor": "#DFE8F3",
            "linecolor": "#A2B1C6",
            "ticks": ""
           }
          },
          "title": {
           "x": 0.05
          },
          "xaxis": {
           "automargin": true,
           "gridcolor": "#EBF0F8",
           "linecolor": "#EBF0F8",
           "ticks": "",
           "title": {
            "standoff": 15
           },
           "zerolinecolor": "#EBF0F8",
           "zerolinewidth": 2
          },
          "yaxis": {
           "automargin": true,
           "gridcolor": "#EBF0F8",
           "linecolor": "#EBF0F8",
           "ticks": "",
           "title": {
            "standoff": 15
           },
           "zerolinecolor": "#EBF0F8",
           "zerolinewidth": 2
          }
         }
        },
        "title": {
         "text": "Pronóstico de Horas Extra - Inventory"
        },
        "xaxis": {
         "title": {
          "text": "Fecha"
         }
        },
        "yaxis": {
         "title": {
          "text": "Horas Extra"
         }
        }
       }
      }
     },
     "metadata": {},
     "output_type": "display_data"
    },
    {
     "name": "stdout",
     "output_type": "stream",
     "text": [
      "Visualización generada para Inventory\n"
     ]
    },
    {
     "data": {
      "application/vnd.plotly.v1+json": {
       "config": {
        "plotlyServerURL": "https://plot.ly"
       },
       "data": [
        {
         "hovertemplate": "<b>Fecha:</b> %{x}<br><b>Valor Real:</b> %{y:.1f}<extra></extra>",
         "line": {
          "color": "blue"
         },
         "mode": "markers+lines",
         "name": "Datos Históricos",
         "type": "scatter",
         "x": [
          "2024-12-08T00:00:00.000000000",
          "2024-12-15T00:00:00.000000000",
          "2024-12-22T00:00:00.000000000",
          "2024-12-29T00:00:00.000000000",
          "2025-01-05T00:00:00.000000000",
          "2025-01-12T00:00:00.000000000",
          "2025-01-19T00:00:00.000000000",
          "2025-01-26T00:00:00.000000000",
          "2025-02-02T00:00:00.000000000",
          "2025-02-09T00:00:00.000000000",
          "2025-02-16T00:00:00.000000000",
          "2025-02-23T00:00:00.000000000",
          "2025-03-02T00:00:00.000000000",
          "2025-03-09T00:00:00.000000000",
          "2025-03-16T00:00:00.000000000",
          "2025-03-23T00:00:00.000000000",
          "2025-03-30T00:00:00.000000000",
          "2025-04-06T00:00:00.000000000",
          "2025-04-13T00:00:00.000000000",
          "2025-04-20T00:00:00.000000000",
          "2025-04-27T00:00:00.000000000",
          "2025-05-04T00:00:00.000000000",
          "2025-05-11T00:00:00.000000000",
          "2025-05-18T00:00:00.000000000"
         ],
         "y": {
          "bdata": "7FG4HoXrCUCamZmZmZn9P4/C9ShcjxpA4XoUrkfhF0CamZmZmZkbQHE9CtejcBtArkfhehSu8z9I4XoUrscqQFyPwvUoXCFArkfhehQuIEAAAAAAAAAAAM3MzMzMzPg/pHA9CtejEEAfhetRuJ4jQEjhehSuRw9APQrXo3A9E0BI4XoUrkciQHsUrkfheilAFK5H4XoUI0DNzMzMzMwAQM3MzMzMzCNASOF6FK7HM0AzMzMzM7MpQBSuR+F6FPI/",
          "dtype": "f8"
         }
        },
        {
         "hovertemplate": "<b>Fecha:</b> %{x}<br><b>Predicción:</b> %{y:.1f}<extra></extra>",
         "line": {
          "color": "red",
          "dash": "dash"
         },
         "mode": "lines",
         "name": "Predicción Histórica",
         "type": "scatter",
         "x": [
          "2024-12-08T00:00:00.000000000",
          "2024-12-15T00:00:00.000000000",
          "2024-12-22T00:00:00.000000000",
          "2024-12-29T00:00:00.000000000",
          "2025-01-05T00:00:00.000000000",
          "2025-01-12T00:00:00.000000000",
          "2025-01-19T00:00:00.000000000",
          "2025-01-26T00:00:00.000000000",
          "2025-02-02T00:00:00.000000000",
          "2025-02-09T00:00:00.000000000",
          "2025-02-16T00:00:00.000000000",
          "2025-02-23T00:00:00.000000000",
          "2025-03-02T00:00:00.000000000",
          "2025-03-09T00:00:00.000000000",
          "2025-03-16T00:00:00.000000000",
          "2025-03-23T00:00:00.000000000",
          "2025-03-30T00:00:00.000000000",
          "2025-04-06T00:00:00.000000000",
          "2025-04-13T00:00:00.000000000",
          "2025-04-20T00:00:00.000000000",
          "2025-04-27T00:00:00.000000000",
          "2025-05-04T00:00:00.000000000",
          "2025-05-11T00:00:00.000000000",
          "2025-05-18T00:00:00.000000000"
         ],
         "y": {
          "bdata": "0vqPT+BUEEDOnVfiG/0RQI4Ul3rhHRxAnt+3Xva3IkAJBpw0/ooWQMIPzI/22BJAIfG1AFBhGEDW6K4rRukiQCp4aB5kTCNA9fQO6zMXIECdceGedtsXQCVkgkd2CBdAzB5nvzRuHkB4qDiA0tIjQAollQ+UsxNA9MDV7NvZGUBnIxFj3FYbQFF1TGoF8SBAxZrHaSjGIkBOJJBuP70iQCPVKiKLMhVAkdunU0j0IUCi0ZVcftsdQERAUPRcPxhA",
          "dtype": "f8"
         }
        },
        {
         "customdata": {
          "bdata": "AAAAAAAAAAAAAAAAAAAAAAAAAAAAAAAAcq57tVXdI0AAAAAAAAAAANyZSrzL7ChA3DWYGkdGAUBE2O5BqxEwQAAAAAAAAAAALh3dzMDyJ0A=",
          "dtype": "f8",
          "shape": "5, 2"
         },
         "hovertemplate": "<b>Fecha:</b> %{x}<br><b>Predicción:</b> %{y:.1f}<br><b>IC Inferior:</b> %{customdata[0]:.1f}<br><b>IC Superior:</b> %{customdata[1]:.1f}<extra></extra>",
         "line": {
          "color": "red"
         },
         "mode": "lines",
         "name": "Pronóstico",
         "type": "scatter",
         "x": [
          "2025-05-18T00:00:00",
          "2025-05-25T00:00:00",
          "2025-06-01T00:00:00",
          "2025-06-08T00:00:00",
          "2025-06-15T00:00:00"
         ],
         "y": [
          6.061878030202994,
          2.9774424694318933,
          5.507639815889125,
          9.114167370119958,
          5.019991015986968
         ]
        },
        {
         "fill": "toself",
         "fillcolor": "rgba(211,211,211,0.3)",
         "hoverinfo": "skip",
         "line": {
          "color": "rgba(255,255,255,0)"
         },
         "name": "Intervalo de Confianza 95%",
         "showlegend": true,
         "type": "scatter",
         "x": [
          "2025-05-25T00:00:00",
          "2025-06-01T00:00:00",
          "2025-06-08T00:00:00",
          "2025-06-15T00:00:00",
          "2025-06-15T00:00:00",
          "2025-06-08T00:00:00",
          "2025-06-01T00:00:00",
          "2025-05-25T00:00:00"
         ],
         "y": [
          9.932294532153922,
          12.462491878611154,
          16.069019432841984,
          11.974127199164823,
          0,
          2.1593153073979305,
          0,
          0
         ]
        }
       ],
       "layout": {
        "hovermode": "x unified",
        "legend": {
         "orientation": "h",
         "x": 0.5,
         "xanchor": "center",
         "y": -0.4,
         "yanchor": "bottom"
        },
        "showlegend": true,
        "template": {
         "data": {
          "bar": [
           {
            "error_x": {
             "color": "#2a3f5f"
            },
            "error_y": {
             "color": "#2a3f5f"
            },
            "marker": {
             "line": {
              "color": "white",
              "width": 0.5
             },
             "pattern": {
              "fillmode": "overlay",
              "size": 10,
              "solidity": 0.2
             }
            },
            "type": "bar"
           }
          ],
          "barpolar": [
           {
            "marker": {
             "line": {
              "color": "white",
              "width": 0.5
             },
             "pattern": {
              "fillmode": "overlay",
              "size": 10,
              "solidity": 0.2
             }
            },
            "type": "barpolar"
           }
          ],
          "carpet": [
           {
            "aaxis": {
             "endlinecolor": "#2a3f5f",
             "gridcolor": "#C8D4E3",
             "linecolor": "#C8D4E3",
             "minorgridcolor": "#C8D4E3",
             "startlinecolor": "#2a3f5f"
            },
            "baxis": {
             "endlinecolor": "#2a3f5f",
             "gridcolor": "#C8D4E3",
             "linecolor": "#C8D4E3",
             "minorgridcolor": "#C8D4E3",
             "startlinecolor": "#2a3f5f"
            },
            "type": "carpet"
           }
          ],
          "choropleth": [
           {
            "colorbar": {
             "outlinewidth": 0,
             "ticks": ""
            },
            "type": "choropleth"
           }
          ],
          "contour": [
           {
            "colorbar": {
             "outlinewidth": 0,
             "ticks": ""
            },
            "colorscale": [
             [
              0,
              "#0d0887"
             ],
             [
              0.1111111111111111,
              "#46039f"
             ],
             [
              0.2222222222222222,
              "#7201a8"
             ],
             [
              0.3333333333333333,
              "#9c179e"
             ],
             [
              0.4444444444444444,
              "#bd3786"
             ],
             [
              0.5555555555555556,
              "#d8576b"
             ],
             [
              0.6666666666666666,
              "#ed7953"
             ],
             [
              0.7777777777777778,
              "#fb9f3a"
             ],
             [
              0.8888888888888888,
              "#fdca26"
             ],
             [
              1,
              "#f0f921"
             ]
            ],
            "type": "contour"
           }
          ],
          "contourcarpet": [
           {
            "colorbar": {
             "outlinewidth": 0,
             "ticks": ""
            },
            "type": "contourcarpet"
           }
          ],
          "heatmap": [
           {
            "colorbar": {
             "outlinewidth": 0,
             "ticks": ""
            },
            "colorscale": [
             [
              0,
              "#0d0887"
             ],
             [
              0.1111111111111111,
              "#46039f"
             ],
             [
              0.2222222222222222,
              "#7201a8"
             ],
             [
              0.3333333333333333,
              "#9c179e"
             ],
             [
              0.4444444444444444,
              "#bd3786"
             ],
             [
              0.5555555555555556,
              "#d8576b"
             ],
             [
              0.6666666666666666,
              "#ed7953"
             ],
             [
              0.7777777777777778,
              "#fb9f3a"
             ],
             [
              0.8888888888888888,
              "#fdca26"
             ],
             [
              1,
              "#f0f921"
             ]
            ],
            "type": "heatmap"
           }
          ],
          "histogram": [
           {
            "marker": {
             "pattern": {
              "fillmode": "overlay",
              "size": 10,
              "solidity": 0.2
             }
            },
            "type": "histogram"
           }
          ],
          "histogram2d": [
           {
            "colorbar": {
             "outlinewidth": 0,
             "ticks": ""
            },
            "colorscale": [
             [
              0,
              "#0d0887"
             ],
             [
              0.1111111111111111,
              "#46039f"
             ],
             [
              0.2222222222222222,
              "#7201a8"
             ],
             [
              0.3333333333333333,
              "#9c179e"
             ],
             [
              0.4444444444444444,
              "#bd3786"
             ],
             [
              0.5555555555555556,
              "#d8576b"
             ],
             [
              0.6666666666666666,
              "#ed7953"
             ],
             [
              0.7777777777777778,
              "#fb9f3a"
             ],
             [
              0.8888888888888888,
              "#fdca26"
             ],
             [
              1,
              "#f0f921"
             ]
            ],
            "type": "histogram2d"
           }
          ],
          "histogram2dcontour": [
           {
            "colorbar": {
             "outlinewidth": 0,
             "ticks": ""
            },
            "colorscale": [
             [
              0,
              "#0d0887"
             ],
             [
              0.1111111111111111,
              "#46039f"
             ],
             [
              0.2222222222222222,
              "#7201a8"
             ],
             [
              0.3333333333333333,
              "#9c179e"
             ],
             [
              0.4444444444444444,
              "#bd3786"
             ],
             [
              0.5555555555555556,
              "#d8576b"
             ],
             [
              0.6666666666666666,
              "#ed7953"
             ],
             [
              0.7777777777777778,
              "#fb9f3a"
             ],
             [
              0.8888888888888888,
              "#fdca26"
             ],
             [
              1,
              "#f0f921"
             ]
            ],
            "type": "histogram2dcontour"
           }
          ],
          "mesh3d": [
           {
            "colorbar": {
             "outlinewidth": 0,
             "ticks": ""
            },
            "type": "mesh3d"
           }
          ],
          "parcoords": [
           {
            "line": {
             "colorbar": {
              "outlinewidth": 0,
              "ticks": ""
             }
            },
            "type": "parcoords"
           }
          ],
          "pie": [
           {
            "automargin": true,
            "type": "pie"
           }
          ],
          "scatter": [
           {
            "fillpattern": {
             "fillmode": "overlay",
             "size": 10,
             "solidity": 0.2
            },
            "type": "scatter"
           }
          ],
          "scatter3d": [
           {
            "line": {
             "colorbar": {
              "outlinewidth": 0,
              "ticks": ""
             }
            },
            "marker": {
             "colorbar": {
              "outlinewidth": 0,
              "ticks": ""
             }
            },
            "type": "scatter3d"
           }
          ],
          "scattercarpet": [
           {
            "marker": {
             "colorbar": {
              "outlinewidth": 0,
              "ticks": ""
             }
            },
            "type": "scattercarpet"
           }
          ],
          "scattergeo": [
           {
            "marker": {
             "colorbar": {
              "outlinewidth": 0,
              "ticks": ""
             }
            },
            "type": "scattergeo"
           }
          ],
          "scattergl": [
           {
            "marker": {
             "colorbar": {
              "outlinewidth": 0,
              "ticks": ""
             }
            },
            "type": "scattergl"
           }
          ],
          "scattermap": [
           {
            "marker": {
             "colorbar": {
              "outlinewidth": 0,
              "ticks": ""
             }
            },
            "type": "scattermap"
           }
          ],
          "scattermapbox": [
           {
            "marker": {
             "colorbar": {
              "outlinewidth": 0,
              "ticks": ""
             }
            },
            "type": "scattermapbox"
           }
          ],
          "scatterpolar": [
           {
            "marker": {
             "colorbar": {
              "outlinewidth": 0,
              "ticks": ""
             }
            },
            "type": "scatterpolar"
           }
          ],
          "scatterpolargl": [
           {
            "marker": {
             "colorbar": {
              "outlinewidth": 0,
              "ticks": ""
             }
            },
            "type": "scatterpolargl"
           }
          ],
          "scatterternary": [
           {
            "marker": {
             "colorbar": {
              "outlinewidth": 0,
              "ticks": ""
             }
            },
            "type": "scatterternary"
           }
          ],
          "surface": [
           {
            "colorbar": {
             "outlinewidth": 0,
             "ticks": ""
            },
            "colorscale": [
             [
              0,
              "#0d0887"
             ],
             [
              0.1111111111111111,
              "#46039f"
             ],
             [
              0.2222222222222222,
              "#7201a8"
             ],
             [
              0.3333333333333333,
              "#9c179e"
             ],
             [
              0.4444444444444444,
              "#bd3786"
             ],
             [
              0.5555555555555556,
              "#d8576b"
             ],
             [
              0.6666666666666666,
              "#ed7953"
             ],
             [
              0.7777777777777778,
              "#fb9f3a"
             ],
             [
              0.8888888888888888,
              "#fdca26"
             ],
             [
              1,
              "#f0f921"
             ]
            ],
            "type": "surface"
           }
          ],
          "table": [
           {
            "cells": {
             "fill": {
              "color": "#EBF0F8"
             },
             "line": {
              "color": "white"
             }
            },
            "header": {
             "fill": {
              "color": "#C8D4E3"
             },
             "line": {
              "color": "white"
             }
            },
            "type": "table"
           }
          ]
         },
         "layout": {
          "annotationdefaults": {
           "arrowcolor": "#2a3f5f",
           "arrowhead": 0,
           "arrowwidth": 1
          },
          "autotypenumbers": "strict",
          "coloraxis": {
           "colorbar": {
            "outlinewidth": 0,
            "ticks": ""
           }
          },
          "colorscale": {
           "diverging": [
            [
             0,
             "#8e0152"
            ],
            [
             0.1,
             "#c51b7d"
            ],
            [
             0.2,
             "#de77ae"
            ],
            [
             0.3,
             "#f1b6da"
            ],
            [
             0.4,
             "#fde0ef"
            ],
            [
             0.5,
             "#f7f7f7"
            ],
            [
             0.6,
             "#e6f5d0"
            ],
            [
             0.7,
             "#b8e186"
            ],
            [
             0.8,
             "#7fbc41"
            ],
            [
             0.9,
             "#4d9221"
            ],
            [
             1,
             "#276419"
            ]
           ],
           "sequential": [
            [
             0,
             "#0d0887"
            ],
            [
             0.1111111111111111,
             "#46039f"
            ],
            [
             0.2222222222222222,
             "#7201a8"
            ],
            [
             0.3333333333333333,
             "#9c179e"
            ],
            [
             0.4444444444444444,
             "#bd3786"
            ],
            [
             0.5555555555555556,
             "#d8576b"
            ],
            [
             0.6666666666666666,
             "#ed7953"
            ],
            [
             0.7777777777777778,
             "#fb9f3a"
            ],
            [
             0.8888888888888888,
             "#fdca26"
            ],
            [
             1,
             "#f0f921"
            ]
           ],
           "sequentialminus": [
            [
             0,
             "#0d0887"
            ],
            [
             0.1111111111111111,
             "#46039f"
            ],
            [
             0.2222222222222222,
             "#7201a8"
            ],
            [
             0.3333333333333333,
             "#9c179e"
            ],
            [
             0.4444444444444444,
             "#bd3786"
            ],
            [
             0.5555555555555556,
             "#d8576b"
            ],
            [
             0.6666666666666666,
             "#ed7953"
            ],
            [
             0.7777777777777778,
             "#fb9f3a"
            ],
            [
             0.8888888888888888,
             "#fdca26"
            ],
            [
             1,
             "#f0f921"
            ]
           ]
          },
          "colorway": [
           "#636efa",
           "#EF553B",
           "#00cc96",
           "#ab63fa",
           "#FFA15A",
           "#19d3f3",
           "#FF6692",
           "#B6E880",
           "#FF97FF",
           "#FECB52"
          ],
          "font": {
           "color": "#2a3f5f"
          },
          "geo": {
           "bgcolor": "white",
           "lakecolor": "white",
           "landcolor": "white",
           "showlakes": true,
           "showland": true,
           "subunitcolor": "#C8D4E3"
          },
          "hoverlabel": {
           "align": "left"
          },
          "hovermode": "closest",
          "mapbox": {
           "style": "light"
          },
          "paper_bgcolor": "white",
          "plot_bgcolor": "white",
          "polar": {
           "angularaxis": {
            "gridcolor": "#EBF0F8",
            "linecolor": "#EBF0F8",
            "ticks": ""
           },
           "bgcolor": "white",
           "radialaxis": {
            "gridcolor": "#EBF0F8",
            "linecolor": "#EBF0F8",
            "ticks": ""
           }
          },
          "scene": {
           "xaxis": {
            "backgroundcolor": "white",
            "gridcolor": "#DFE8F3",
            "gridwidth": 2,
            "linecolor": "#EBF0F8",
            "showbackground": true,
            "ticks": "",
            "zerolinecolor": "#EBF0F8"
           },
           "yaxis": {
            "backgroundcolor": "white",
            "gridcolor": "#DFE8F3",
            "gridwidth": 2,
            "linecolor": "#EBF0F8",
            "showbackground": true,
            "ticks": "",
            "zerolinecolor": "#EBF0F8"
           },
           "zaxis": {
            "backgroundcolor": "white",
            "gridcolor": "#DFE8F3",
            "gridwidth": 2,
            "linecolor": "#EBF0F8",
            "showbackground": true,
            "ticks": "",
            "zerolinecolor": "#EBF0F8"
           }
          },
          "shapedefaults": {
           "line": {
            "color": "#2a3f5f"
           }
          },
          "ternary": {
           "aaxis": {
            "gridcolor": "#DFE8F3",
            "linecolor": "#A2B1C6",
            "ticks": ""
           },
           "baxis": {
            "gridcolor": "#DFE8F3",
            "linecolor": "#A2B1C6",
            "ticks": ""
           },
           "bgcolor": "white",
           "caxis": {
            "gridcolor": "#DFE8F3",
            "linecolor": "#A2B1C6",
            "ticks": ""
           }
          },
          "title": {
           "x": 0.05
          },
          "xaxis": {
           "automargin": true,
           "gridcolor": "#EBF0F8",
           "linecolor": "#EBF0F8",
           "ticks": "",
           "title": {
            "standoff": 15
           },
           "zerolinecolor": "#EBF0F8",
           "zerolinewidth": 2
          },
          "yaxis": {
           "automargin": true,
           "gridcolor": "#EBF0F8",
           "linecolor": "#EBF0F8",
           "ticks": "",
           "title": {
            "standoff": 15
           },
           "zerolinecolor": "#EBF0F8",
           "zerolinewidth": 2
          }
         }
        },
        "title": {
         "text": "Pronóstico de Horas Extra - IT"
        },
        "xaxis": {
         "title": {
          "text": "Fecha"
         }
        },
        "yaxis": {
         "title": {
          "text": "Horas Extra"
         }
        }
       }
      }
     },
     "metadata": {},
     "output_type": "display_data"
    },
    {
     "name": "stdout",
     "output_type": "stream",
     "text": [
      "Visualización generada para IT\n"
     ]
    },
    {
     "data": {
      "application/vnd.plotly.v1+json": {
       "config": {
        "plotlyServerURL": "https://plot.ly"
       },
       "data": [
        {
         "hovertemplate": "<b>Fecha:</b> %{x}<br><b>Valor Real:</b> %{y:.1f}<extra></extra>",
         "line": {
          "color": "blue"
         },
         "mode": "markers+lines",
         "name": "Datos Históricos",
         "type": "scatter",
         "x": [
          "2024-12-08T00:00:00.000000000",
          "2024-12-15T00:00:00.000000000",
          "2024-12-22T00:00:00.000000000",
          "2024-12-29T00:00:00.000000000",
          "2025-01-05T00:00:00.000000000",
          "2025-01-12T00:00:00.000000000",
          "2025-01-19T00:00:00.000000000",
          "2025-01-26T00:00:00.000000000",
          "2025-02-02T00:00:00.000000000",
          "2025-02-09T00:00:00.000000000",
          "2025-02-16T00:00:00.000000000",
          "2025-02-23T00:00:00.000000000",
          "2025-03-02T00:00:00.000000000",
          "2025-03-09T00:00:00.000000000",
          "2025-03-16T00:00:00.000000000",
          "2025-03-23T00:00:00.000000000",
          "2025-03-30T00:00:00.000000000",
          "2025-04-06T00:00:00.000000000",
          "2025-04-13T00:00:00.000000000",
          "2025-04-20T00:00:00.000000000",
          "2025-04-27T00:00:00.000000000",
          "2025-05-04T00:00:00.000000000",
          "2025-05-11T00:00:00.000000000",
          "2025-05-18T00:00:00.000000000"
         ],
         "y": {
          "bdata": "uB6F61G4EUBSuB6F61EbQArXo3A9Cvs/rkfhehSuFEAK16NwPQoLQOF6FK5H4QRAzczMzMzMK0D2KFyPwvUXQOxRuB6F6xxAexSuR+F6F0DD9Shcj0ImQFyPwvUoXCpAmpmZmZmZEkCkcD0K16MfQM3MzMzMzBxAhetRuB6F+z8zMzMzMzMXQD0K16NwPdo/rkfhehRuNEDhehSuR+EYQHsUrkfhegpAw/UoXI/CA0DXo3A9Ctf/P+xRuB6F6wtA",
          "dtype": "f8"
         }
        },
        {
         "hovertemplate": "<b>Fecha:</b> %{x}<br><b>Predicción:</b> %{y:.1f}<extra></extra>",
         "line": {
          "color": "red",
          "dash": "dash"
         },
         "mode": "lines",
         "name": "Predicción Histórica",
         "type": "scatter",
         "x": [
          "2024-12-08T00:00:00.000000000",
          "2024-12-15T00:00:00.000000000",
          "2024-12-22T00:00:00.000000000",
          "2024-12-29T00:00:00.000000000",
          "2025-01-05T00:00:00.000000000",
          "2025-01-12T00:00:00.000000000",
          "2025-01-19T00:00:00.000000000",
          "2025-01-26T00:00:00.000000000",
          "2025-02-02T00:00:00.000000000",
          "2025-02-09T00:00:00.000000000",
          "2025-02-16T00:00:00.000000000",
          "2025-02-23T00:00:00.000000000",
          "2025-03-02T00:00:00.000000000",
          "2025-03-09T00:00:00.000000000",
          "2025-03-16T00:00:00.000000000",
          "2025-03-23T00:00:00.000000000",
          "2025-03-30T00:00:00.000000000",
          "2025-04-06T00:00:00.000000000",
          "2025-04-13T00:00:00.000000000",
          "2025-04-20T00:00:00.000000000",
          "2025-04-27T00:00:00.000000000",
          "2025-05-04T00:00:00.000000000",
          "2025-05-11T00:00:00.000000000",
          "2025-05-18T00:00:00.000000000"
         ],
         "y": {
          "bdata": "A/4qyVyyGUB/7G7M+9kWQMP3ZCR1dBhAXGqSRnSZFUDYJDcm+AsaQIYfO6khjRhAOLo6mN5YGEAPfd/xFjEeQAh5Cd6NJxlAKMp4qklxGkBKwN6WYZMZQCIyeuzrZRxAvYRn3xXiHECFEZFNumwYQLLv2FjerRpAfa2VSdcFGkCtiq6lg0gXQDmaUXPxhxlAuUYbd7R2FkAc39WmjZYgQOevOngPeRhAQN8m1//iF0C96h4Mg4cXQOVsCQD5UxdA",
          "dtype": "f8"
         }
        },
        {
         "customdata": {
          "bdata": "AAAAAAAAAAAAAAAAAAAAAAAAAAAAAAAADKAiYOYALUAAAAAAAAAAAKg9yhuipC1AAAAAAAAAAACoPcoboqQtQAAAAAAAAAAAqD3KG6KkLUA=",
          "dtype": "f8",
          "shape": "5, 2"
         },
         "hovertemplate": "<b>Fecha:</b> %{x}<br><b>Predicción:</b> %{y:.1f}<br><b>IC Inferior:</b> %{customdata[0]:.1f}<br><b>IC Superior:</b> %{customdata[1]:.1f}<extra></extra>",
         "line": {
          "color": "red"
         },
         "mode": "lines",
         "name": "Pronóstico",
         "type": "scatter",
         "x": [
          "2025-05-18T00:00:00",
          "2025-05-25T00:00:00",
          "2025-06-01T00:00:00",
          "2025-06-08T00:00:00",
          "2025-06-15T00:00:00"
         ],
         "y": [
          5.832004547667769,
          6.031745573754572,
          6.281529113252948,
          6.281529113252948,
          6.281529113252948
         ]
        },
        {
         "fill": "toself",
         "fillcolor": "rgba(211,211,211,0.3)",
         "hoverinfo": "skip",
         "line": {
          "color": "rgba(255,255,255,0)"
         },
         "name": "Intervalo de Confianza 95%",
         "showlegend": true,
         "type": "scatter",
         "x": [
          "2025-05-25T00:00:00",
          "2025-06-01T00:00:00",
          "2025-06-08T00:00:00",
          "2025-06-15T00:00:00",
          "2025-06-15T00:00:00",
          "2025-06-08T00:00:00",
          "2025-06-01T00:00:00",
          "2025-05-25T00:00:00"
         ],
         "y": [
          14.501757625796039,
          14.8215492901207,
          14.8215492901207,
          14.8215492901207,
          0,
          0,
          0,
          0
         ]
        }
       ],
       "layout": {
        "hovermode": "x unified",
        "legend": {
         "orientation": "h",
         "x": 0.5,
         "xanchor": "center",
         "y": -0.4,
         "yanchor": "bottom"
        },
        "showlegend": true,
        "template": {
         "data": {
          "bar": [
           {
            "error_x": {
             "color": "#2a3f5f"
            },
            "error_y": {
             "color": "#2a3f5f"
            },
            "marker": {
             "line": {
              "color": "white",
              "width": 0.5
             },
             "pattern": {
              "fillmode": "overlay",
              "size": 10,
              "solidity": 0.2
             }
            },
            "type": "bar"
           }
          ],
          "barpolar": [
           {
            "marker": {
             "line": {
              "color": "white",
              "width": 0.5
             },
             "pattern": {
              "fillmode": "overlay",
              "size": 10,
              "solidity": 0.2
             }
            },
            "type": "barpolar"
           }
          ],
          "carpet": [
           {
            "aaxis": {
             "endlinecolor": "#2a3f5f",
             "gridcolor": "#C8D4E3",
             "linecolor": "#C8D4E3",
             "minorgridcolor": "#C8D4E3",
             "startlinecolor": "#2a3f5f"
            },
            "baxis": {
             "endlinecolor": "#2a3f5f",
             "gridcolor": "#C8D4E3",
             "linecolor": "#C8D4E3",
             "minorgridcolor": "#C8D4E3",
             "startlinecolor": "#2a3f5f"
            },
            "type": "carpet"
           }
          ],
          "choropleth": [
           {
            "colorbar": {
             "outlinewidth": 0,
             "ticks": ""
            },
            "type": "choropleth"
           }
          ],
          "contour": [
           {
            "colorbar": {
             "outlinewidth": 0,
             "ticks": ""
            },
            "colorscale": [
             [
              0,
              "#0d0887"
             ],
             [
              0.1111111111111111,
              "#46039f"
             ],
             [
              0.2222222222222222,
              "#7201a8"
             ],
             [
              0.3333333333333333,
              "#9c179e"
             ],
             [
              0.4444444444444444,
              "#bd3786"
             ],
             [
              0.5555555555555556,
              "#d8576b"
             ],
             [
              0.6666666666666666,
              "#ed7953"
             ],
             [
              0.7777777777777778,
              "#fb9f3a"
             ],
             [
              0.8888888888888888,
              "#fdca26"
             ],
             [
              1,
              "#f0f921"
             ]
            ],
            "type": "contour"
           }
          ],
          "contourcarpet": [
           {
            "colorbar": {
             "outlinewidth": 0,
             "ticks": ""
            },
            "type": "contourcarpet"
           }
          ],
          "heatmap": [
           {
            "colorbar": {
             "outlinewidth": 0,
             "ticks": ""
            },
            "colorscale": [
             [
              0,
              "#0d0887"
             ],
             [
              0.1111111111111111,
              "#46039f"
             ],
             [
              0.2222222222222222,
              "#7201a8"
             ],
             [
              0.3333333333333333,
              "#9c179e"
             ],
             [
              0.4444444444444444,
              "#bd3786"
             ],
             [
              0.5555555555555556,
              "#d8576b"
             ],
             [
              0.6666666666666666,
              "#ed7953"
             ],
             [
              0.7777777777777778,
              "#fb9f3a"
             ],
             [
              0.8888888888888888,
              "#fdca26"
             ],
             [
              1,
              "#f0f921"
             ]
            ],
            "type": "heatmap"
           }
          ],
          "histogram": [
           {
            "marker": {
             "pattern": {
              "fillmode": "overlay",
              "size": 10,
              "solidity": 0.2
             }
            },
            "type": "histogram"
           }
          ],
          "histogram2d": [
           {
            "colorbar": {
             "outlinewidth": 0,
             "ticks": ""
            },
            "colorscale": [
             [
              0,
              "#0d0887"
             ],
             [
              0.1111111111111111,
              "#46039f"
             ],
             [
              0.2222222222222222,
              "#7201a8"
             ],
             [
              0.3333333333333333,
              "#9c179e"
             ],
             [
              0.4444444444444444,
              "#bd3786"
             ],
             [
              0.5555555555555556,
              "#d8576b"
             ],
             [
              0.6666666666666666,
              "#ed7953"
             ],
             [
              0.7777777777777778,
              "#fb9f3a"
             ],
             [
              0.8888888888888888,
              "#fdca26"
             ],
             [
              1,
              "#f0f921"
             ]
            ],
            "type": "histogram2d"
           }
          ],
          "histogram2dcontour": [
           {
            "colorbar": {
             "outlinewidth": 0,
             "ticks": ""
            },
            "colorscale": [
             [
              0,
              "#0d0887"
             ],
             [
              0.1111111111111111,
              "#46039f"
             ],
             [
              0.2222222222222222,
              "#7201a8"
             ],
             [
              0.3333333333333333,
              "#9c179e"
             ],
             [
              0.4444444444444444,
              "#bd3786"
             ],
             [
              0.5555555555555556,
              "#d8576b"
             ],
             [
              0.6666666666666666,
              "#ed7953"
             ],
             [
              0.7777777777777778,
              "#fb9f3a"
             ],
             [
              0.8888888888888888,
              "#fdca26"
             ],
             [
              1,
              "#f0f921"
             ]
            ],
            "type": "histogram2dcontour"
           }
          ],
          "mesh3d": [
           {
            "colorbar": {
             "outlinewidth": 0,
             "ticks": ""
            },
            "type": "mesh3d"
           }
          ],
          "parcoords": [
           {
            "line": {
             "colorbar": {
              "outlinewidth": 0,
              "ticks": ""
             }
            },
            "type": "parcoords"
           }
          ],
          "pie": [
           {
            "automargin": true,
            "type": "pie"
           }
          ],
          "scatter": [
           {
            "fillpattern": {
             "fillmode": "overlay",
             "size": 10,
             "solidity": 0.2
            },
            "type": "scatter"
           }
          ],
          "scatter3d": [
           {
            "line": {
             "colorbar": {
              "outlinewidth": 0,
              "ticks": ""
             }
            },
            "marker": {
             "colorbar": {
              "outlinewidth": 0,
              "ticks": ""
             }
            },
            "type": "scatter3d"
           }
          ],
          "scattercarpet": [
           {
            "marker": {
             "colorbar": {
              "outlinewidth": 0,
              "ticks": ""
             }
            },
            "type": "scattercarpet"
           }
          ],
          "scattergeo": [
           {
            "marker": {
             "colorbar": {
              "outlinewidth": 0,
              "ticks": ""
             }
            },
            "type": "scattergeo"
           }
          ],
          "scattergl": [
           {
            "marker": {
             "colorbar": {
              "outlinewidth": 0,
              "ticks": ""
             }
            },
            "type": "scattergl"
           }
          ],
          "scattermap": [
           {
            "marker": {
             "colorbar": {
              "outlinewidth": 0,
              "ticks": ""
             }
            },
            "type": "scattermap"
           }
          ],
          "scattermapbox": [
           {
            "marker": {
             "colorbar": {
              "outlinewidth": 0,
              "ticks": ""
             }
            },
            "type": "scattermapbox"
           }
          ],
          "scatterpolar": [
           {
            "marker": {
             "colorbar": {
              "outlinewidth": 0,
              "ticks": ""
             }
            },
            "type": "scatterpolar"
           }
          ],
          "scatterpolargl": [
           {
            "marker": {
             "colorbar": {
              "outlinewidth": 0,
              "ticks": ""
             }
            },
            "type": "scatterpolargl"
           }
          ],
          "scatterternary": [
           {
            "marker": {
             "colorbar": {
              "outlinewidth": 0,
              "ticks": ""
             }
            },
            "type": "scatterternary"
           }
          ],
          "surface": [
           {
            "colorbar": {
             "outlinewidth": 0,
             "ticks": ""
            },
            "colorscale": [
             [
              0,
              "#0d0887"
             ],
             [
              0.1111111111111111,
              "#46039f"
             ],
             [
              0.2222222222222222,
              "#7201a8"
             ],
             [
              0.3333333333333333,
              "#9c179e"
             ],
             [
              0.4444444444444444,
              "#bd3786"
             ],
             [
              0.5555555555555556,
              "#d8576b"
             ],
             [
              0.6666666666666666,
              "#ed7953"
             ],
             [
              0.7777777777777778,
              "#fb9f3a"
             ],
             [
              0.8888888888888888,
              "#fdca26"
             ],
             [
              1,
              "#f0f921"
             ]
            ],
            "type": "surface"
           }
          ],
          "table": [
           {
            "cells": {
             "fill": {
              "color": "#EBF0F8"
             },
             "line": {
              "color": "white"
             }
            },
            "header": {
             "fill": {
              "color": "#C8D4E3"
             },
             "line": {
              "color": "white"
             }
            },
            "type": "table"
           }
          ]
         },
         "layout": {
          "annotationdefaults": {
           "arrowcolor": "#2a3f5f",
           "arrowhead": 0,
           "arrowwidth": 1
          },
          "autotypenumbers": "strict",
          "coloraxis": {
           "colorbar": {
            "outlinewidth": 0,
            "ticks": ""
           }
          },
          "colorscale": {
           "diverging": [
            [
             0,
             "#8e0152"
            ],
            [
             0.1,
             "#c51b7d"
            ],
            [
             0.2,
             "#de77ae"
            ],
            [
             0.3,
             "#f1b6da"
            ],
            [
             0.4,
             "#fde0ef"
            ],
            [
             0.5,
             "#f7f7f7"
            ],
            [
             0.6,
             "#e6f5d0"
            ],
            [
             0.7,
             "#b8e186"
            ],
            [
             0.8,
             "#7fbc41"
            ],
            [
             0.9,
             "#4d9221"
            ],
            [
             1,
             "#276419"
            ]
           ],
           "sequential": [
            [
             0,
             "#0d0887"
            ],
            [
             0.1111111111111111,
             "#46039f"
            ],
            [
             0.2222222222222222,
             "#7201a8"
            ],
            [
             0.3333333333333333,
             "#9c179e"
            ],
            [
             0.4444444444444444,
             "#bd3786"
            ],
            [
             0.5555555555555556,
             "#d8576b"
            ],
            [
             0.6666666666666666,
             "#ed7953"
            ],
            [
             0.7777777777777778,
             "#fb9f3a"
            ],
            [
             0.8888888888888888,
             "#fdca26"
            ],
            [
             1,
             "#f0f921"
            ]
           ],
           "sequentialminus": [
            [
             0,
             "#0d0887"
            ],
            [
             0.1111111111111111,
             "#46039f"
            ],
            [
             0.2222222222222222,
             "#7201a8"
            ],
            [
             0.3333333333333333,
             "#9c179e"
            ],
            [
             0.4444444444444444,
             "#bd3786"
            ],
            [
             0.5555555555555556,
             "#d8576b"
            ],
            [
             0.6666666666666666,
             "#ed7953"
            ],
            [
             0.7777777777777778,
             "#fb9f3a"
            ],
            [
             0.8888888888888888,
             "#fdca26"
            ],
            [
             1,
             "#f0f921"
            ]
           ]
          },
          "colorway": [
           "#636efa",
           "#EF553B",
           "#00cc96",
           "#ab63fa",
           "#FFA15A",
           "#19d3f3",
           "#FF6692",
           "#B6E880",
           "#FF97FF",
           "#FECB52"
          ],
          "font": {
           "color": "#2a3f5f"
          },
          "geo": {
           "bgcolor": "white",
           "lakecolor": "white",
           "landcolor": "white",
           "showlakes": true,
           "showland": true,
           "subunitcolor": "#C8D4E3"
          },
          "hoverlabel": {
           "align": "left"
          },
          "hovermode": "closest",
          "mapbox": {
           "style": "light"
          },
          "paper_bgcolor": "white",
          "plot_bgcolor": "white",
          "polar": {
           "angularaxis": {
            "gridcolor": "#EBF0F8",
            "linecolor": "#EBF0F8",
            "ticks": ""
           },
           "bgcolor": "white",
           "radialaxis": {
            "gridcolor": "#EBF0F8",
            "linecolor": "#EBF0F8",
            "ticks": ""
           }
          },
          "scene": {
           "xaxis": {
            "backgroundcolor": "white",
            "gridcolor": "#DFE8F3",
            "gridwidth": 2,
            "linecolor": "#EBF0F8",
            "showbackground": true,
            "ticks": "",
            "zerolinecolor": "#EBF0F8"
           },
           "yaxis": {
            "backgroundcolor": "white",
            "gridcolor": "#DFE8F3",
            "gridwidth": 2,
            "linecolor": "#EBF0F8",
            "showbackground": true,
            "ticks": "",
            "zerolinecolor": "#EBF0F8"
           },
           "zaxis": {
            "backgroundcolor": "white",
            "gridcolor": "#DFE8F3",
            "gridwidth": 2,
            "linecolor": "#EBF0F8",
            "showbackground": true,
            "ticks": "",
            "zerolinecolor": "#EBF0F8"
           }
          },
          "shapedefaults": {
           "line": {
            "color": "#2a3f5f"
           }
          },
          "ternary": {
           "aaxis": {
            "gridcolor": "#DFE8F3",
            "linecolor": "#A2B1C6",
            "ticks": ""
           },
           "baxis": {
            "gridcolor": "#DFE8F3",
            "linecolor": "#A2B1C6",
            "ticks": ""
           },
           "bgcolor": "white",
           "caxis": {
            "gridcolor": "#DFE8F3",
            "linecolor": "#A2B1C6",
            "ticks": ""
           }
          },
          "title": {
           "x": 0.05
          },
          "xaxis": {
           "automargin": true,
           "gridcolor": "#EBF0F8",
           "linecolor": "#EBF0F8",
           "ticks": "",
           "title": {
            "standoff": 15
           },
           "zerolinecolor": "#EBF0F8",
           "zerolinewidth": 2
          },
          "yaxis": {
           "automargin": true,
           "gridcolor": "#EBF0F8",
           "linecolor": "#EBF0F8",
           "ticks": "",
           "title": {
            "standoff": 15
           },
           "zerolinecolor": "#EBF0F8",
           "zerolinewidth": 2
          }
         }
        },
        "title": {
         "text": "Pronóstico de Horas Extra - Marketing"
        },
        "xaxis": {
         "title": {
          "text": "Fecha"
         }
        },
        "yaxis": {
         "title": {
          "text": "Horas Extra"
         }
        }
       }
      }
     },
     "metadata": {},
     "output_type": "display_data"
    },
    {
     "name": "stdout",
     "output_type": "stream",
     "text": [
      "Visualización generada para Marketing\n"
     ]
    },
    {
     "data": {
      "application/vnd.plotly.v1+json": {
       "config": {
        "plotlyServerURL": "https://plot.ly"
       },
       "data": [
        {
         "hovertemplate": "<b>Fecha:</b> %{x}<br><b>Valor Real:</b> %{y:.1f}<extra></extra>",
         "line": {
          "color": "blue"
         },
         "mode": "markers+lines",
         "name": "Datos Históricos",
         "type": "scatter",
         "x": [
          "2024-12-08T00:00:00.000000000",
          "2024-12-15T00:00:00.000000000",
          "2024-12-22T00:00:00.000000000",
          "2024-12-29T00:00:00.000000000",
          "2025-01-05T00:00:00.000000000",
          "2025-01-12T00:00:00.000000000",
          "2025-01-19T00:00:00.000000000",
          "2025-01-26T00:00:00.000000000",
          "2025-02-02T00:00:00.000000000",
          "2025-02-09T00:00:00.000000000",
          "2025-02-16T00:00:00.000000000",
          "2025-02-23T00:00:00.000000000",
          "2025-03-02T00:00:00.000000000",
          "2025-03-09T00:00:00.000000000",
          "2025-03-16T00:00:00.000000000",
          "2025-03-23T00:00:00.000000000",
          "2025-03-30T00:00:00.000000000",
          "2025-04-06T00:00:00.000000000",
          "2025-04-13T00:00:00.000000000",
          "2025-04-20T00:00:00.000000000",
          "2025-04-27T00:00:00.000000000",
          "2025-05-04T00:00:00.000000000",
          "2025-05-11T00:00:00.000000000",
          "2025-05-18T00:00:00.000000000"
         ],
         "y": {
          "bdata": "rkfhehSuE0Bcj8L1KNwjQMP1KFyPwiJAUrgehetRFkAfhetRuB7VPzMzMzMzM+s/7FG4HoXrEkBSuB6F61EVQFK4HoXr0SBAUrgehetRH0AAAAAAAAAcQPYoXI/C9RZAcT0K16NwD0AzMzMzMzMPQFyPwvUoXAVA7FG4HoXrEUCkcD0K16MMQArXo3A9ii9AhetRuB4FJ0DhehSuR2EnQJqZmZmZmRxArkfhehSuFkAAAAAAAAAAAB+F61G4Hvk/",
          "dtype": "f8"
         }
        },
        {
         "hovertemplate": "<b>Fecha:</b> %{x}<br><b>Predicción:</b> %{y:.1f}<extra></extra>",
         "line": {
          "color": "red",
          "dash": "dash"
         },
         "mode": "lines",
         "name": "Predicción Histórica",
         "type": "scatter",
         "x": [
          "2024-12-08T00:00:00.000000000",
          "2024-12-15T00:00:00.000000000",
          "2024-12-22T00:00:00.000000000",
          "2024-12-29T00:00:00.000000000",
          "2025-01-05T00:00:00.000000000",
          "2025-01-12T00:00:00.000000000",
          "2025-01-19T00:00:00.000000000",
          "2025-01-26T00:00:00.000000000",
          "2025-02-02T00:00:00.000000000",
          "2025-02-09T00:00:00.000000000",
          "2025-02-16T00:00:00.000000000",
          "2025-02-23T00:00:00.000000000",
          "2025-03-02T00:00:00.000000000",
          "2025-03-09T00:00:00.000000000",
          "2025-03-16T00:00:00.000000000",
          "2025-03-23T00:00:00.000000000",
          "2025-03-30T00:00:00.000000000",
          "2025-04-06T00:00:00.000000000",
          "2025-04-13T00:00:00.000000000",
          "2025-04-20T00:00:00.000000000",
          "2025-04-27T00:00:00.000000000",
          "2025-05-04T00:00:00.000000000",
          "2025-05-11T00:00:00.000000000",
          "2025-05-18T00:00:00.000000000"
         ],
         "y": {
          "bdata": "S0X+ivSqH0BcGFXDK3oZQEh/u1/bMSFAb9GqXp+0IEDzRoNula8RQH1HFa3oqghA+lFiyIWECkBWgZVnNCkUQGkCN+YXCxZAUjPfQu0oG0AqAUPMyyAaQN/TUeDQphhAqGQzKao5F0AxCaVbmqQTQLwyKufwlhNABtp9P81mEUDkZMZdEp8UQCYDahzd1RNApEu5fC+UJEA/0acuMMogQJ5UGIws8yBAzKJG932jGkBZfv8qtqQXQDdUnlg2HQtA",
          "dtype": "f8"
         }
        },
        {
         "customdata": {
          "bdata": "AAAAAAAAAAAAAAAAAAAAAAAAAAAAAAAAhErTjhpKJkAAAAAAAAAAAJoZC7zdRCpAAAAAAAAAAAA7ToFF2YMrQAAAAAAAAAAASntHB8UBLEA=",
          "dtype": "f8",
          "shape": "5, 2"
         },
         "hovertemplate": "<b>Fecha:</b> %{x}<br><b>Predicción:</b> %{y:.1f}<br><b>IC Inferior:</b> %{customdata[0]:.1f}<br><b>IC Superior:</b> %{customdata[1]:.1f}<extra></extra>",
         "line": {
          "color": "red"
         },
         "mode": "lines",
         "name": "Pronóstico",
         "type": "scatter",
         "x": [
          "2025-05-18T00:00:00",
          "2025-05-25T00:00:00",
          "2025-06-01T00:00:00",
          "2025-06-08T00:00:00",
          "2025-06-15T00:00:00"
         ],
         "y": [
          3.3892638133352437,
          4.087481122522449,
          5.410826151423926,
          5.908733045781183,
          6.130164391006585
         ]
        },
        {
         "fill": "toself",
         "fillcolor": "rgba(211,211,211,0.3)",
         "hoverinfo": "skip",
         "line": {
          "color": "rgba(255,255,255,0)"
         },
         "name": "Intervalo de Confianza 95%",
         "showlegend": true,
         "type": "scatter",
         "x": [
          "2025-05-25T00:00:00",
          "2025-06-01T00:00:00",
          "2025-06-08T00:00:00",
          "2025-06-15T00:00:00",
          "2025-06-15T00:00:00",
          "2025-06-08T00:00:00",
          "2025-06-01T00:00:00",
          "2025-05-25T00:00:00"
         ],
         "y": [
          11.14473387078511,
          13.134504200320226,
          13.757517025026678,
          14.003456332660466,
          0,
          0,
          0,
          0
         ]
        }
       ],
       "layout": {
        "hovermode": "x unified",
        "legend": {
         "orientation": "h",
         "x": 0.5,
         "xanchor": "center",
         "y": -0.4,
         "yanchor": "bottom"
        },
        "showlegend": true,
        "template": {
         "data": {
          "bar": [
           {
            "error_x": {
             "color": "#2a3f5f"
            },
            "error_y": {
             "color": "#2a3f5f"
            },
            "marker": {
             "line": {
              "color": "white",
              "width": 0.5
             },
             "pattern": {
              "fillmode": "overlay",
              "size": 10,
              "solidity": 0.2
             }
            },
            "type": "bar"
           }
          ],
          "barpolar": [
           {
            "marker": {
             "line": {
              "color": "white",
              "width": 0.5
             },
             "pattern": {
              "fillmode": "overlay",
              "size": 10,
              "solidity": 0.2
             }
            },
            "type": "barpolar"
           }
          ],
          "carpet": [
           {
            "aaxis": {
             "endlinecolor": "#2a3f5f",
             "gridcolor": "#C8D4E3",
             "linecolor": "#C8D4E3",
             "minorgridcolor": "#C8D4E3",
             "startlinecolor": "#2a3f5f"
            },
            "baxis": {
             "endlinecolor": "#2a3f5f",
             "gridcolor": "#C8D4E3",
             "linecolor": "#C8D4E3",
             "minorgridcolor": "#C8D4E3",
             "startlinecolor": "#2a3f5f"
            },
            "type": "carpet"
           }
          ],
          "choropleth": [
           {
            "colorbar": {
             "outlinewidth": 0,
             "ticks": ""
            },
            "type": "choropleth"
           }
          ],
          "contour": [
           {
            "colorbar": {
             "outlinewidth": 0,
             "ticks": ""
            },
            "colorscale": [
             [
              0,
              "#0d0887"
             ],
             [
              0.1111111111111111,
              "#46039f"
             ],
             [
              0.2222222222222222,
              "#7201a8"
             ],
             [
              0.3333333333333333,
              "#9c179e"
             ],
             [
              0.4444444444444444,
              "#bd3786"
             ],
             [
              0.5555555555555556,
              "#d8576b"
             ],
             [
              0.6666666666666666,
              "#ed7953"
             ],
             [
              0.7777777777777778,
              "#fb9f3a"
             ],
             [
              0.8888888888888888,
              "#fdca26"
             ],
             [
              1,
              "#f0f921"
             ]
            ],
            "type": "contour"
           }
          ],
          "contourcarpet": [
           {
            "colorbar": {
             "outlinewidth": 0,
             "ticks": ""
            },
            "type": "contourcarpet"
           }
          ],
          "heatmap": [
           {
            "colorbar": {
             "outlinewidth": 0,
             "ticks": ""
            },
            "colorscale": [
             [
              0,
              "#0d0887"
             ],
             [
              0.1111111111111111,
              "#46039f"
             ],
             [
              0.2222222222222222,
              "#7201a8"
             ],
             [
              0.3333333333333333,
              "#9c179e"
             ],
             [
              0.4444444444444444,
              "#bd3786"
             ],
             [
              0.5555555555555556,
              "#d8576b"
             ],
             [
              0.6666666666666666,
              "#ed7953"
             ],
             [
              0.7777777777777778,
              "#fb9f3a"
             ],
             [
              0.8888888888888888,
              "#fdca26"
             ],
             [
              1,
              "#f0f921"
             ]
            ],
            "type": "heatmap"
           }
          ],
          "histogram": [
           {
            "marker": {
             "pattern": {
              "fillmode": "overlay",
              "size": 10,
              "solidity": 0.2
             }
            },
            "type": "histogram"
           }
          ],
          "histogram2d": [
           {
            "colorbar": {
             "outlinewidth": 0,
             "ticks": ""
            },
            "colorscale": [
             [
              0,
              "#0d0887"
             ],
             [
              0.1111111111111111,
              "#46039f"
             ],
             [
              0.2222222222222222,
              "#7201a8"
             ],
             [
              0.3333333333333333,
              "#9c179e"
             ],
             [
              0.4444444444444444,
              "#bd3786"
             ],
             [
              0.5555555555555556,
              "#d8576b"
             ],
             [
              0.6666666666666666,
              "#ed7953"
             ],
             [
              0.7777777777777778,
              "#fb9f3a"
             ],
             [
              0.8888888888888888,
              "#fdca26"
             ],
             [
              1,
              "#f0f921"
             ]
            ],
            "type": "histogram2d"
           }
          ],
          "histogram2dcontour": [
           {
            "colorbar": {
             "outlinewidth": 0,
             "ticks": ""
            },
            "colorscale": [
             [
              0,
              "#0d0887"
             ],
             [
              0.1111111111111111,
              "#46039f"
             ],
             [
              0.2222222222222222,
              "#7201a8"
             ],
             [
              0.3333333333333333,
              "#9c179e"
             ],
             [
              0.4444444444444444,
              "#bd3786"
             ],
             [
              0.5555555555555556,
              "#d8576b"
             ],
             [
              0.6666666666666666,
              "#ed7953"
             ],
             [
              0.7777777777777778,
              "#fb9f3a"
             ],
             [
              0.8888888888888888,
              "#fdca26"
             ],
             [
              1,
              "#f0f921"
             ]
            ],
            "type": "histogram2dcontour"
           }
          ],
          "mesh3d": [
           {
            "colorbar": {
             "outlinewidth": 0,
             "ticks": ""
            },
            "type": "mesh3d"
           }
          ],
          "parcoords": [
           {
            "line": {
             "colorbar": {
              "outlinewidth": 0,
              "ticks": ""
             }
            },
            "type": "parcoords"
           }
          ],
          "pie": [
           {
            "automargin": true,
            "type": "pie"
           }
          ],
          "scatter": [
           {
            "fillpattern": {
             "fillmode": "overlay",
             "size": 10,
             "solidity": 0.2
            },
            "type": "scatter"
           }
          ],
          "scatter3d": [
           {
            "line": {
             "colorbar": {
              "outlinewidth": 0,
              "ticks": ""
             }
            },
            "marker": {
             "colorbar": {
              "outlinewidth": 0,
              "ticks": ""
             }
            },
            "type": "scatter3d"
           }
          ],
          "scattercarpet": [
           {
            "marker": {
             "colorbar": {
              "outlinewidth": 0,
              "ticks": ""
             }
            },
            "type": "scattercarpet"
           }
          ],
          "scattergeo": [
           {
            "marker": {
             "colorbar": {
              "outlinewidth": 0,
              "ticks": ""
             }
            },
            "type": "scattergeo"
           }
          ],
          "scattergl": [
           {
            "marker": {
             "colorbar": {
              "outlinewidth": 0,
              "ticks": ""
             }
            },
            "type": "scattergl"
           }
          ],
          "scattermap": [
           {
            "marker": {
             "colorbar": {
              "outlinewidth": 0,
              "ticks": ""
             }
            },
            "type": "scattermap"
           }
          ],
          "scattermapbox": [
           {
            "marker": {
             "colorbar": {
              "outlinewidth": 0,
              "ticks": ""
             }
            },
            "type": "scattermapbox"
           }
          ],
          "scatterpolar": [
           {
            "marker": {
             "colorbar": {
              "outlinewidth": 0,
              "ticks": ""
             }
            },
            "type": "scatterpolar"
           }
          ],
          "scatterpolargl": [
           {
            "marker": {
             "colorbar": {
              "outlinewidth": 0,
              "ticks": ""
             }
            },
            "type": "scatterpolargl"
           }
          ],
          "scatterternary": [
           {
            "marker": {
             "colorbar": {
              "outlinewidth": 0,
              "ticks": ""
             }
            },
            "type": "scatterternary"
           }
          ],
          "surface": [
           {
            "colorbar": {
             "outlinewidth": 0,
             "ticks": ""
            },
            "colorscale": [
             [
              0,
              "#0d0887"
             ],
             [
              0.1111111111111111,
              "#46039f"
             ],
             [
              0.2222222222222222,
              "#7201a8"
             ],
             [
              0.3333333333333333,
              "#9c179e"
             ],
             [
              0.4444444444444444,
              "#bd3786"
             ],
             [
              0.5555555555555556,
              "#d8576b"
             ],
             [
              0.6666666666666666,
              "#ed7953"
             ],
             [
              0.7777777777777778,
              "#fb9f3a"
             ],
             [
              0.8888888888888888,
              "#fdca26"
             ],
             [
              1,
              "#f0f921"
             ]
            ],
            "type": "surface"
           }
          ],
          "table": [
           {
            "cells": {
             "fill": {
              "color": "#EBF0F8"
             },
             "line": {
              "color": "white"
             }
            },
            "header": {
             "fill": {
              "color": "#C8D4E3"
             },
             "line": {
              "color": "white"
             }
            },
            "type": "table"
           }
          ]
         },
         "layout": {
          "annotationdefaults": {
           "arrowcolor": "#2a3f5f",
           "arrowhead": 0,
           "arrowwidth": 1
          },
          "autotypenumbers": "strict",
          "coloraxis": {
           "colorbar": {
            "outlinewidth": 0,
            "ticks": ""
           }
          },
          "colorscale": {
           "diverging": [
            [
             0,
             "#8e0152"
            ],
            [
             0.1,
             "#c51b7d"
            ],
            [
             0.2,
             "#de77ae"
            ],
            [
             0.3,
             "#f1b6da"
            ],
            [
             0.4,
             "#fde0ef"
            ],
            [
             0.5,
             "#f7f7f7"
            ],
            [
             0.6,
             "#e6f5d0"
            ],
            [
             0.7,
             "#b8e186"
            ],
            [
             0.8,
             "#7fbc41"
            ],
            [
             0.9,
             "#4d9221"
            ],
            [
             1,
             "#276419"
            ]
           ],
           "sequential": [
            [
             0,
             "#0d0887"
            ],
            [
             0.1111111111111111,
             "#46039f"
            ],
            [
             0.2222222222222222,
             "#7201a8"
            ],
            [
             0.3333333333333333,
             "#9c179e"
            ],
            [
             0.4444444444444444,
             "#bd3786"
            ],
            [
             0.5555555555555556,
             "#d8576b"
            ],
            [
             0.6666666666666666,
             "#ed7953"
            ],
            [
             0.7777777777777778,
             "#fb9f3a"
            ],
            [
             0.8888888888888888,
             "#fdca26"
            ],
            [
             1,
             "#f0f921"
            ]
           ],
           "sequentialminus": [
            [
             0,
             "#0d0887"
            ],
            [
             0.1111111111111111,
             "#46039f"
            ],
            [
             0.2222222222222222,
             "#7201a8"
            ],
            [
             0.3333333333333333,
             "#9c179e"
            ],
            [
             0.4444444444444444,
             "#bd3786"
            ],
            [
             0.5555555555555556,
             "#d8576b"
            ],
            [
             0.6666666666666666,
             "#ed7953"
            ],
            [
             0.7777777777777778,
             "#fb9f3a"
            ],
            [
             0.8888888888888888,
             "#fdca26"
            ],
            [
             1,
             "#f0f921"
            ]
           ]
          },
          "colorway": [
           "#636efa",
           "#EF553B",
           "#00cc96",
           "#ab63fa",
           "#FFA15A",
           "#19d3f3",
           "#FF6692",
           "#B6E880",
           "#FF97FF",
           "#FECB52"
          ],
          "font": {
           "color": "#2a3f5f"
          },
          "geo": {
           "bgcolor": "white",
           "lakecolor": "white",
           "landcolor": "white",
           "showlakes": true,
           "showland": true,
           "subunitcolor": "#C8D4E3"
          },
          "hoverlabel": {
           "align": "left"
          },
          "hovermode": "closest",
          "mapbox": {
           "style": "light"
          },
          "paper_bgcolor": "white",
          "plot_bgcolor": "white",
          "polar": {
           "angularaxis": {
            "gridcolor": "#EBF0F8",
            "linecolor": "#EBF0F8",
            "ticks": ""
           },
           "bgcolor": "white",
           "radialaxis": {
            "gridcolor": "#EBF0F8",
            "linecolor": "#EBF0F8",
            "ticks": ""
           }
          },
          "scene": {
           "xaxis": {
            "backgroundcolor": "white",
            "gridcolor": "#DFE8F3",
            "gridwidth": 2,
            "linecolor": "#EBF0F8",
            "showbackground": true,
            "ticks": "",
            "zerolinecolor": "#EBF0F8"
           },
           "yaxis": {
            "backgroundcolor": "white",
            "gridcolor": "#DFE8F3",
            "gridwidth": 2,
            "linecolor": "#EBF0F8",
            "showbackground": true,
            "ticks": "",
            "zerolinecolor": "#EBF0F8"
           },
           "zaxis": {
            "backgroundcolor": "white",
            "gridcolor": "#DFE8F3",
            "gridwidth": 2,
            "linecolor": "#EBF0F8",
            "showbackground": true,
            "ticks": "",
            "zerolinecolor": "#EBF0F8"
           }
          },
          "shapedefaults": {
           "line": {
            "color": "#2a3f5f"
           }
          },
          "ternary": {
           "aaxis": {
            "gridcolor": "#DFE8F3",
            "linecolor": "#A2B1C6",
            "ticks": ""
           },
           "baxis": {
            "gridcolor": "#DFE8F3",
            "linecolor": "#A2B1C6",
            "ticks": ""
           },
           "bgcolor": "white",
           "caxis": {
            "gridcolor": "#DFE8F3",
            "linecolor": "#A2B1C6",
            "ticks": ""
           }
          },
          "title": {
           "x": 0.05
          },
          "xaxis": {
           "automargin": true,
           "gridcolor": "#EBF0F8",
           "linecolor": "#EBF0F8",
           "ticks": "",
           "title": {
            "standoff": 15
           },
           "zerolinecolor": "#EBF0F8",
           "zerolinewidth": 2
          },
          "yaxis": {
           "automargin": true,
           "gridcolor": "#EBF0F8",
           "linecolor": "#EBF0F8",
           "ticks": "",
           "title": {
            "standoff": 15
           },
           "zerolinecolor": "#EBF0F8",
           "zerolinewidth": 2
          }
         }
        },
        "title": {
         "text": "Pronóstico de Horas Extra - Sales"
        },
        "xaxis": {
         "title": {
          "text": "Fecha"
         }
        },
        "yaxis": {
         "title": {
          "text": "Horas Extra"
         }
        }
       }
      }
     },
     "metadata": {},
     "output_type": "display_data"
    },
    {
     "name": "stdout",
     "output_type": "stream",
     "text": [
      "Visualización generada para Sales\n",
      "\n",
      "Proceso de visualización completado.\n"
     ]
    }
   ],
   "source": [
    "def generate_predictions_sarima(model, last_date, periods=4):\n",
    "    \"\"\"Generate predictions using a SARIMA model\n",
    "    \n",
    "    Args:\n",
    "        model: Fitted SARIMA model\n",
    "        last_date: Last date in the historical data\n",
    "        periods: Number of periods to forecast (default=4)\n",
    "    \n",
    "    Returns:\n",
    "        DataFrame with predictions and confidence intervals\n",
    "    \"\"\"\n",
    "    # Generate forecast for next 4 weeks\n",
    "    forecast = model.get_forecast(steps=periods)\n",
    "    \n",
    "    # Get prediction dates\n",
    "    prediction_dates = pd.date_range(\n",
    "        start=last_date + pd.Timedelta(days=7),\n",
    "        periods=periods,\n",
    "        freq='W-SUN'\n",
    "    )\n",
    "    \n",
    "    # Create DataFrame with predictions\n",
    "    forecast_df = pd.DataFrame({\n",
    "        'ds': prediction_dates,\n",
    "        'yhat': forecast.predicted_mean.clip(lower=0),\n",
    "        'yhat_lower': forecast.conf_int().iloc[:, 0].clip(lower=0),\n",
    "        'yhat_upper': forecast.conf_int().iloc[:, 1].clip(lower=0)\n",
    "    })\n",
    "    \n",
    "    forecast_df.set_index('ds', inplace=True)\n",
    "    \n",
    "    return forecast_df\n",
    "\n",
    "def plot_forecast(department, historical_data, forecast):\n",
    "    \"\"\"Create interactive plot for a department's forecast\"\"\"\n",
    "    \n",
    "    # Filter historical data for department\n",
    "    hist_dept = historical_data[historical_data['department'] == department]\n",
    "    last_24_weeks = hist_dept.tail(24).copy()\n",
    "    \n",
    "    # Create figure\n",
    "    fig = go.Figure()\n",
    "    \n",
    "    # Add historical data points\n",
    "    fig.add_trace(\n",
    "        go.Scatter(\n",
    "            x=last_24_weeks['work_date'],\n",
    "            y=last_24_weeks['total_overtime'],\n",
    "            name='Datos Históricos',\n",
    "            mode='markers+lines',\n",
    "            line=dict(color='blue'),\n",
    "            hovertemplate=\"<b>Fecha:</b> %{x}<br>\" +\n",
    "                         \"<b>Valor Real:</b> %{y:.1f}<extra></extra>\"\n",
    "        )\n",
    "    )\n",
    "    \n",
    "    # Get predictions for historical data\n",
    "    model = department_models[department]\n",
    "    historical_predictions = model.get_prediction(start=last_24_weeks['work_date'].min())\n",
    "    historical_mean = historical_predictions.predicted_mean.clip(lower=0)\n",
    "    \n",
    "    # Add historical predictions as dashed red line\n",
    "    fig.add_trace(\n",
    "        go.Scatter(\n",
    "            x=last_24_weeks['work_date'],\n",
    "            y=historical_mean,\n",
    "            name='Predicción Histórica',\n",
    "            mode='lines',\n",
    "            line=dict(color='red', dash='dash'),\n",
    "            hovertemplate=\"<b>Fecha:</b> %{x}<br>\" +\n",
    "                         \"<b>Predicción:</b> %{y:.1f}<extra></extra>\"\n",
    "        )\n",
    "    )\n",
    "    \n",
    "    # Add forecast line continuous from last historical point\n",
    "    fig.add_trace(\n",
    "        go.Scatter(\n",
    "            x=[last_24_weeks['work_date'].iloc[-1]] + forecast.index.tolist(),\n",
    "            y=[historical_mean.iloc[-1]] + forecast['yhat'].tolist(),\n",
    "            name='Pronóstico',\n",
    "            mode='lines',\n",
    "            line=dict(color='red'),\n",
    "            hovertemplate=\"<b>Fecha:</b> %{x}<br>\" +\n",
    "                         \"<b>Predicción:</b> %{y:.1f}<br>\" +\n",
    "                         \"<b>IC Inferior:</b> %{customdata[0]:.1f}<br>\" +\n",
    "                         \"<b>IC Superior:</b> %{customdata[1]:.1f}<extra></extra>\",\n",
    "            customdata=np.column_stack((\n",
    "                [0] + forecast['yhat_lower'].tolist(),\n",
    "                [0] + forecast['yhat_upper'].tolist()\n",
    "            ))\n",
    "        )\n",
    "    )\n",
    "    \n",
    "    # Add confidence interval for forecast period\n",
    "    fig.add_trace(\n",
    "        go.Scatter(\n",
    "            x=forecast.index.tolist() + forecast.index.tolist()[::-1],\n",
    "            y=forecast['yhat_upper'].tolist() + forecast['yhat_lower'].tolist()[::-1],\n",
    "            fill='toself',\n",
    "            fillcolor='rgba(211,211,211,0.3)',\n",
    "            line=dict(color='rgba(255,255,255,0)'),\n",
    "            name='Intervalo de Confianza 95%',\n",
    "            showlegend=True,\n",
    "            hoverinfo='skip'\n",
    "        )\n",
    "    )\n",
    "    \n",
    "    # Update layout\n",
    "    fig.update_layout(\n",
    "        title=f'Pronóstico de Horas Extra - {department}',\n",
    "        xaxis_title='Fecha',\n",
    "        yaxis_title='Horas Extra',\n",
    "        hovermode='x unified',\n",
    "        showlegend=True,\n",
    "        template='plotly_white',\n",
    "        legend=dict(\n",
    "            orientation=\"h\",\n",
    "            yanchor=\"bottom\",\n",
    "            y=-0.4,\n",
    "            xanchor=\"center\",\n",
    "            x=0.5\n",
    "        )\n",
    "    )\n",
    "    \n",
    "    return fig\n",
    "\n",
    "# Generar predicciones para cada departamento\n",
    "print(\"\\nGenerando visualizaciones...\")\n",
    "\n",
    "for department in department_models.keys():\n",
    "    try:\n",
    "        # Get last date and generate predictions if needed\n",
    "        dept_data = historical_data[historical_data['department'] == department]\n",
    "        last_date = dept_data['work_date'].max()\n",
    "        \n",
    "        if department not in department_forecasts:\n",
    "            forecast = generate_predictions_sarima(department_models[department], last_date)\n",
    "            department_forecasts[department] = forecast\n",
    "        \n",
    "        # Create and display plot\n",
    "        fig = plot_forecast(\n",
    "            department,\n",
    "            historical_data,\n",
    "            department_forecasts[department]\n",
    "        )\n",
    "        fig.show()\n",
    "        print(f\"Visualización generada para {department}\")\n",
    "        \n",
    "    except Exception as e:\n",
    "        print(f\"Error generando visualización para {department}: {e}\")\n",
    "        continue\n",
    "\n",
    "print(\"\\nProceso de visualización completado.\")"
   ]
  },
  {
   "cell_type": "markdown",
   "id": "77f4bf61",
   "metadata": {},
   "source": [
    "## 7. Guardar Modelo y Predicciones\n",
    "\n",
    "Almacenamiento del Modelo y Resultados en MS SQL SERVER"
   ]
  },
  {
   "cell_type": "code",
   "execution_count": 147,
   "id": "86b9d9bb",
   "metadata": {},
   "outputs": [
    {
     "name": "stdout",
     "output_type": "stream",
     "text": [
      "Modelo guardado en: Modelos Entrenados/overtime_forecast_model.pkl\n"
     ]
    },
    {
     "name": "stderr",
     "output_type": "stream",
     "text": [
      "INFO:root:Predicciones y métricas guardadas exitosamente\n"
     ]
    },
    {
     "name": "stdout",
     "output_type": "stream",
     "text": [
      "\n",
      "Resumen de predicciones guardadas:\n",
      "----------------------------------------------------------------------\n",
      "\n",
      "Departamento: Finance\n",
      "Fecha Predicha\t\tPredicción\tIntervalo de Confianza\n",
      "------------------------------------------------------------\n",
      "2025-05-25\t4.79\t\t(0.00, 10.70)\n",
      "2025-06-01\t5.29\t\t(0.00, 11.32)\n",
      "2025-06-08\t5.42\t\t(0.00, 11.46)\n",
      "2025-06-15\t5.45\t\t(0.00, 11.49)\n",
      "\n",
      "Métricas del modelo:\n",
      "RMSE: 3.36\n",
      "MAE: 2.80\n",
      "SMAPE: 51.90%\n",
      "MASE: 1.09\n",
      "Calidad del modelo: Aceptable\n",
      "----------------------------------------------------------------------\n",
      "\n",
      "Departamento: HR\n",
      "Fecha Predicha\t\tPredicción\tIntervalo de Confianza\n",
      "------------------------------------------------------------\n",
      "2025-05-25\t10.87\t\t(2.82, 18.91)\n",
      "2025-06-01\t6.56\t\t(0.00, 14.67)\n",
      "2025-06-08\t8.52\t\t(0.41, 16.64)\n",
      "2025-06-15\t5.20\t\t(0.00, 13.36)\n",
      "\n",
      "Métricas del modelo:\n",
      "RMSE: 3.20\n",
      "MAE: 2.63\n",
      "SMAPE: 41.08%\n",
      "MASE: 0.46\n",
      "Calidad del modelo: Bueno\n",
      "----------------------------------------------------------------------\n",
      "\n",
      "Departamento: Inventory\n",
      "Fecha Predicha\t\tPredicción\tIntervalo de Confianza\n",
      "------------------------------------------------------------\n",
      "2025-05-25\t6.26\t\t(0.00, 13.10)\n",
      "2025-06-01\t5.96\t\t(0.00, 12.80)\n",
      "2025-06-08\t5.96\t\t(0.00, 12.80)\n",
      "2025-06-15\t5.96\t\t(0.00, 12.80)\n",
      "\n",
      "Métricas del modelo:\n",
      "RMSE: 4.69\n",
      "MAE: 3.46\n",
      "SMAPE: 59.97%\n",
      "MASE: 0.92\n",
      "Calidad del modelo: Bueno\n",
      "----------------------------------------------------------------------\n",
      "\n",
      "Departamento: IT\n",
      "Fecha Predicha\t\tPredicción\tIntervalo de Confianza\n",
      "------------------------------------------------------------\n",
      "2025-05-25\t2.98\t\t(0.00, 9.93)\n",
      "2025-06-01\t5.51\t\t(0.00, 12.46)\n",
      "2025-06-08\t9.11\t\t(2.16, 16.07)\n",
      "2025-06-15\t5.02\t\t(0.00, 11.97)\n",
      "\n",
      "Métricas del modelo:\n",
      "RMSE: 4.97\n",
      "MAE: 3.86\n",
      "SMAPE: 52.43%\n",
      "MASE: 1.09\n",
      "Calidad del modelo: Pobre\n",
      "----------------------------------------------------------------------\n",
      "\n",
      "Departamento: Marketing\n",
      "Fecha Predicha\t\tPredicción\tIntervalo de Confianza\n",
      "------------------------------------------------------------\n",
      "2025-05-25\t6.03\t\t(0.00, 14.50)\n",
      "2025-06-01\t6.28\t\t(0.00, 14.82)\n",
      "2025-06-08\t6.28\t\t(0.00, 14.82)\n",
      "2025-06-15\t6.28\t\t(0.00, 14.82)\n",
      "\n",
      "Métricas del modelo:\n",
      "RMSE: 5.45\n",
      "MAE: 3.87\n",
      "SMAPE: 69.09%\n",
      "MASE: 0.92\n",
      "Calidad del modelo: Aceptable\n",
      "----------------------------------------------------------------------\n",
      "\n",
      "Departamento: Sales\n",
      "Fecha Predicha\t\tPredicción\tIntervalo de Confianza\n",
      "------------------------------------------------------------\n",
      "2025-05-25\t4.09\t\t(0.00, 11.14)\n",
      "2025-06-01\t5.41\t\t(0.00, 13.13)\n",
      "2025-06-08\t5.91\t\t(0.00, 13.76)\n",
      "2025-06-15\t6.13\t\t(0.00, 14.00)\n",
      "\n",
      "Métricas del modelo:\n",
      "RMSE: 4.03\n",
      "MAE: 2.76\n",
      "SMAPE: 52.32%\n",
      "MASE: 0.85\n",
      "Calidad del modelo: Bueno\n",
      "----------------------------------------------------------------------\n",
      "\n",
      "Datos guardados exitosamente en la base de datos.\n",
      "\n",
      "Registros en Overtime_Predictions: 168\n",
      "Registros en ML_Model_Metrics: 42\n"
     ]
    }
   ],
   "source": [
    "def save_predictions():\n",
    "\n",
    "    # Crear directorio si no existe\n",
    "    os.makedirs('Modelos Entrenados', exist_ok=True)\n",
    "\n",
    "    # Guardar modelo\n",
    "    model_path = 'Modelos Entrenados/overtime_forecast_model.pkl'\n",
    "    joblib.dump(model, model_path)\n",
    "    print(f\"Modelo guardado en: {model_path}\")\n",
    "\n",
    "    # Guardar predicciones y métricas en la base de datos\n",
    "    conn = get_db_connection()\n",
    "    cursor = conn.cursor()\n",
    "    timestamp = datetime.datetime.now()\n",
    "\n",
    "    try:\n",
    "        # 1. Crear tabla Overtime_Predictions si no existe\n",
    "        cursor.execute(\"\"\"\n",
    "            IF NOT EXISTS (SELECT * FROM sys.tables WHERE name = 'Overtime_Predictions')\n",
    "            CREATE TABLE Overtime_Predictions (\n",
    "                id INT IDENTITY(1,1) PRIMARY KEY,\n",
    "                timestamp DATETIME,\n",
    "                department VARCHAR(100),\n",
    "                prediction_date DATE,\n",
    "                predicted_value FLOAT,\n",
    "                confidence_lower FLOAT,\n",
    "                confidence_upper FLOAT\n",
    "            )\n",
    "        \"\"\")\n",
    "        \n",
    "        # 2. Crear tabla ML_Model_Metrics_Overtime_Predictions si no existe \n",
    "        cursor.execute(\"\"\"\n",
    "            IF NOT EXISTS (SELECT * FROM sys.tables WHERE name = 'ML_Model_Metrics_Overtime_Predictions')\n",
    "            CREATE TABLE ML_Model_Metrics_Overtime_Predictions (\n",
    "                id INT IDENTITY(1,1) PRIMARY KEY,\n",
    "                timestamp DATETIME,\n",
    "                department VARCHAR(100),\n",
    "                rmse FLOAT,\n",
    "                mae FLOAT,\n",
    "                smape FLOAT,\n",
    "                mase FLOAT,\n",
    "                model_quality VARCHAR(50)\n",
    "            )\n",
    "        \"\"\")\n",
    "        \n",
    "        # Guardar predicciones para cada departamento\n",
    "        for department, forecast in department_forecasts.items():\n",
    "            # Insertar predicciones\n",
    "            for _, row in forecast.iterrows():\n",
    "                cursor.execute(\"\"\"\n",
    "                    INSERT INTO Overtime_Predictions \n",
    "                    (timestamp, department, prediction_date, predicted_value, \n",
    "                     confidence_lower, confidence_upper)\n",
    "                    VALUES (%s, %s, %s, %s, %s, %s)\n",
    "                \"\"\", (\n",
    "                    timestamp,\n",
    "                    department, \n",
    "                    row['ds'],\n",
    "                    row['yhat'],\n",
    "                    row['yhat_lower'],\n",
    "                    row['yhat_upper']\n",
    "                ))\n",
    "            \n",
    "            # Insertar métricas del modelo\n",
    "            metric = metrics[department]\n",
    "            cursor.execute(\"\"\"\n",
    "                INSERT INTO ML_Model_Metrics_Overtime_Predictions \n",
    "                (timestamp, department, rmse, mae, smape, mase, model_quality)\n",
    "                VALUES (%s, %s, %s, %s, %s, %s, %s)\n",
    "            \"\"\", (\n",
    "                timestamp,\n",
    "                department,\n",
    "                metric['rmse'],\n",
    "                metric['mae'],\n",
    "                metric['smape'],\n",
    "                metric['mase'],\n",
    "                metric['quality']\n",
    "            ))\n",
    "        \n",
    "        conn.commit()\n",
    "        logging.info(\"Predicciones y métricas guardadas exitosamente\")\n",
    "        \n",
    "        # Mostrar resumen de lo guardado\n",
    "        print(\"\\nResumen de predicciones guardadas:\")\n",
    "        print(\"-\" * 70)\n",
    "        for department in department_forecasts.keys():\n",
    "            print(f\"\\nDepartamento: {department}\")\n",
    "            print(\"Fecha Predicha\\t\\tPredicción\\tIntervalo de Confianza\")\n",
    "            print(\"-\" * 60)\n",
    "            \n",
    "            forecast = department_forecasts[department]\n",
    "            for _, row in forecast.iterrows():\n",
    "                print(f\"{row['ds'].strftime('%Y-%m-%d')}\\t{row['yhat']:.2f}\\t\\t({row['yhat_lower']:.2f}, {row['yhat_upper']:.2f})\")\n",
    "            \n",
    "            # Mostrar métricas\n",
    "            metric = metrics[department]\n",
    "            print(f\"\\nMétricas del modelo:\")\n",
    "            print(f\"RMSE: {metric['rmse']:.2f}\")\n",
    "            print(f\"MAE: {metric['mae']:.2f}\")\n",
    "            print(f\"SMAPE: {metric['smape']:.2f}%\")\n",
    "            print(f\"MASE: {metric['mase']:.2f}\")\n",
    "            print(f\"Calidad del modelo: {metric['quality']}\")\n",
    "            print(\"-\" * 70)\n",
    "        \n",
    "    except Exception as e:\n",
    "        conn.rollback()\n",
    "        logging.error(f\"Error guardando datos: {e}\")\n",
    "        raise\n",
    "    finally:\n",
    "        conn.close()\n",
    "\n",
    "# Ejecutar el guardado de predicciones\n",
    "try:\n",
    "    save_predictions()\n",
    "    print(\"\\nDatos guardados exitosamente en la base de datos.\")\n",
    "except Exception as e:\n",
    "    print(f\"\\nError al guardar los datos: {str(e)}\")\n",
    "\n",
    "\n",
    "def verify_tables():\n",
    "    conn = get_db_connection()\n",
    "    cursor = conn.cursor()\n",
    "    try:\n",
    "        # Execute queries separately to get correct results\n",
    "        cursor.execute(\"SELECT COUNT(*) FROM Overtime_Predictions\")\n",
    "        pred_count = cursor.fetchone()[0]\n",
    "        \n",
    "        cursor.execute(\"SELECT COUNT(*) FROM ML_Model_Metrics_Overtime_Predictions\")\n",
    "        metrics_count = cursor.fetchone()[0]\n",
    "        \n",
    "        print(f\"\\nRegistros en Overtime_Predictions: {pred_count}\")\n",
    "        print(f\"Registros en ML_Model_Metrics: {metrics_count}\")\n",
    "    except Exception as e:\n",
    "        print(f\"Error verificando tablas: {e}\")\n",
    "    finally:\n",
    "        conn.close()\n",
    "\n",
    "# Verificar tablas\n",
    "verify_tables()    "
   ]
  }
 ],
 "metadata": {
  "kernelspec": {
   "display_name": "Python 3",
   "language": "python",
   "name": "python3"
  },
  "language_info": {
   "codemirror_mode": {
    "name": "ipython",
    "version": 3
   },
   "file_extension": ".py",
   "mimetype": "text/x-python",
   "name": "python",
   "nbconvert_exporter": "python",
   "pygments_lexer": "ipython3",
   "version": "3.10.11"
  }
 },
 "nbformat": 4,
 "nbformat_minor": 5
}
