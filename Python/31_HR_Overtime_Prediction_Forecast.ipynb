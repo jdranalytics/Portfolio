{
 "cells": [
  {
   "cell_type": "markdown",
   "id": "404f6110",
   "metadata": {},
   "source": [
    "# HR Overtime Prediction and Forecasting\n",
    "\n",
    "# Predicción y Pronóstico de Horas Extra de RRHH\n",
    "\n",
    "Este notebook implementa el pronóstico de horas extra utilizando Prophet y visualiza datos históricos, predicciones e intervalos de confianza usando Plotly. Los componentes principales incluyen:\n",
    "- Carga de datos históricos de horas extra desde SQL Server\n",
    "- Entrenamiento de modelos SARIMA para cada departamento\n",
    "- Generación de predicciones con intervalos de confianza \n",
    "- Visualización interactiva con Plotly\n",
    "- Almacenamiento de modelos y predicciones en MS SQL SERVER\n",
    "\n",
    "Objetivo: Predecir las horas extras acumuladas por departamento semana a semana para las próximas 4 semanas."
   ]
  },
  {
   "cell_type": "markdown",
   "id": "a874cc3c",
   "metadata": {},
   "source": [
    "## 1. Importar Librerías and Setup\n"
   ]
  },
  {
   "cell_type": "code",
   "execution_count": 86,
   "id": "b4616d67",
   "metadata": {},
   "outputs": [],
   "source": [
    "import pandas as pd\n",
    "import numpy as np\n",
    "import pymssql\n",
    "import logging\n",
    "import datetime\n",
    "import warnings\n",
    "import os\n",
    "\n",
    "# Data visualization\n",
    "import plotly.express as px\n",
    "import plotly.graph_objects as go\n",
    "from plotly.subplots import make_subplots\n",
    "\n",
    "# Modelos y Tests\n",
    "from statsmodels.tsa.statespace.sarimax import SARIMAX\n",
    "from statsmodels.graphics.tsaplots import plot_acf, plot_pacf\n",
    "from statsmodels.tsa.seasonal import seasonal_decompose\n",
    "from statsmodels.tsa.stattools import adfuller\n",
    "from statsmodels.stats.diagnostic import acorr_ljungbox\n",
    "from pmdarima import auto_arima\n",
    "\n",
    "# Métricas\n",
    "from sklearn.metrics import mean_squared_error, mean_absolute_error\n",
    "from sklearn.model_selection import train_test_split\n",
    "\n",
    "# Persistencia de modelo\n",
    "import joblib\n",
    "\n",
    "# Configure warnings and logging\n",
    "warnings.filterwarnings(\"ignore\")\n",
    "logging.basicConfig(level=logging.INFO)"
   ]
  },
  {
   "cell_type": "markdown",
   "id": "2ad66f3e",
   "metadata": {},
   "source": [
    "## 2. Conectar a la base de datos\n",
    "\n",
    "Setup de SQL Server"
   ]
  },
  {
   "cell_type": "code",
   "execution_count": null,
   "id": "5b80caa8",
   "metadata": {},
   "outputs": [],
   "source": [
    "# SQL Server SetupSSQL_SERVER = \"XXX.XXX.XXX.XXX\\\\SQLEXPRESS\"\n",
    "SQL_DB = \"HR_Analytics\"\n",
    "SQL_USER = \"sa\"\n",
    "SQL_PASSWORD = \"123456\"\n",
    "\n",
    "# Conectar a SQL Server\n",
    "def get_db_connection():\n",
    "    server_name = SQL_SERVER.split('\\\\')[0]\n",
    "    try:\n",
    "        conn = pymssql.connect(\n",
    "            server=server_name,\n",
    "            database=SQL_DB,\n",
    "            user=SQL_USER,\n",
    "            password=SQL_PASSWORD\n",
    "        )\n",
    "        return conn\n",
    "    except Exception as e:\n",
    "        logging.error(f\"Error de conexión a la base de datos: {e}\")\n",
    "        raise"
   ]
  },
  {
   "cell_type": "markdown",
   "id": "35d90a13",
   "metadata": {},
   "source": [
    "## 3. Cargar y procesar datos históricos de horas extras\n",
    "\n",
    "Consulta y preparación"
   ]
  },
  {
   "cell_type": "code",
   "execution_count": 88,
   "id": "e8694bc7",
   "metadata": {},
   "outputs": [
    {
     "name": "stderr",
     "output_type": "stream",
     "text": [
      "INFO:root:Loaded data: 324 records\n"
     ]
    },
    {
     "name": "stdout",
     "output_type": "stream",
     "text": [
      "Muestra de datos históricos:\n"
     ]
    },
    {
     "data": {
      "application/vnd.microsoft.datawrangler.viewer.v0+json": {
       "columns": [
        {
         "name": "index",
         "rawType": "int64",
         "type": "integer"
        },
        {
         "name": "work_date",
         "rawType": "datetime64[ns]",
         "type": "datetime"
        },
        {
         "name": "department",
         "rawType": "object",
         "type": "string"
        },
        {
         "name": "total_overtime",
         "rawType": "float64",
         "type": "float"
        }
       ],
       "ref": "68492fef-3be5-4b03-a3a1-8a362887dc7e",
       "rows": [
        [
         "0",
         "2024-05-19 00:00:00",
         "Finance",
         "0.0"
        ],
        [
         "1",
         "2024-05-19 00:00:00",
         "HR",
         "0.0"
        ],
        [
         "2",
         "2024-05-19 00:00:00",
         "IT",
         "1.29"
        ],
        [
         "3",
         "2024-05-19 00:00:00",
         "Inventory",
         "0.0"
        ],
        [
         "4",
         "2024-05-19 00:00:00",
         "Marketing",
         "3.04"
        ],
        [
         "5",
         "2024-05-19 00:00:00",
         "Sales",
         "2.44"
        ],
        [
         "6",
         "2024-05-26 00:00:00",
         "Finance",
         "1.69"
        ],
        [
         "7",
         "2024-05-26 00:00:00",
         "HR",
         "8.84"
        ],
        [
         "8",
         "2024-05-26 00:00:00",
         "IT",
         "3.85"
        ],
        [
         "9",
         "2024-05-26 00:00:00",
         "Inventory",
         "7.029999999999999"
        ]
       ],
       "shape": {
        "columns": 3,
        "rows": 10
       }
      },
      "text/html": [
       "<div>\n",
       "<style scoped>\n",
       "    .dataframe tbody tr th:only-of-type {\n",
       "        vertical-align: middle;\n",
       "    }\n",
       "\n",
       "    .dataframe tbody tr th {\n",
       "        vertical-align: top;\n",
       "    }\n",
       "\n",
       "    .dataframe thead th {\n",
       "        text-align: right;\n",
       "    }\n",
       "</style>\n",
       "<table border=\"1\" class=\"dataframe\">\n",
       "  <thead>\n",
       "    <tr style=\"text-align: right;\">\n",
       "      <th></th>\n",
       "      <th>work_date</th>\n",
       "      <th>department</th>\n",
       "      <th>total_overtime</th>\n",
       "    </tr>\n",
       "  </thead>\n",
       "  <tbody>\n",
       "    <tr>\n",
       "      <th>0</th>\n",
       "      <td>2024-05-19</td>\n",
       "      <td>Finance</td>\n",
       "      <td>0.00</td>\n",
       "    </tr>\n",
       "    <tr>\n",
       "      <th>1</th>\n",
       "      <td>2024-05-19</td>\n",
       "      <td>HR</td>\n",
       "      <td>0.00</td>\n",
       "    </tr>\n",
       "    <tr>\n",
       "      <th>2</th>\n",
       "      <td>2024-05-19</td>\n",
       "      <td>IT</td>\n",
       "      <td>1.29</td>\n",
       "    </tr>\n",
       "    <tr>\n",
       "      <th>3</th>\n",
       "      <td>2024-05-19</td>\n",
       "      <td>Inventory</td>\n",
       "      <td>0.00</td>\n",
       "    </tr>\n",
       "    <tr>\n",
       "      <th>4</th>\n",
       "      <td>2024-05-19</td>\n",
       "      <td>Marketing</td>\n",
       "      <td>3.04</td>\n",
       "    </tr>\n",
       "    <tr>\n",
       "      <th>5</th>\n",
       "      <td>2024-05-19</td>\n",
       "      <td>Sales</td>\n",
       "      <td>2.44</td>\n",
       "    </tr>\n",
       "    <tr>\n",
       "      <th>6</th>\n",
       "      <td>2024-05-26</td>\n",
       "      <td>Finance</td>\n",
       "      <td>1.69</td>\n",
       "    </tr>\n",
       "    <tr>\n",
       "      <th>7</th>\n",
       "      <td>2024-05-26</td>\n",
       "      <td>HR</td>\n",
       "      <td>8.84</td>\n",
       "    </tr>\n",
       "    <tr>\n",
       "      <th>8</th>\n",
       "      <td>2024-05-26</td>\n",
       "      <td>IT</td>\n",
       "      <td>3.85</td>\n",
       "    </tr>\n",
       "    <tr>\n",
       "      <th>9</th>\n",
       "      <td>2024-05-26</td>\n",
       "      <td>Inventory</td>\n",
       "      <td>7.03</td>\n",
       "    </tr>\n",
       "  </tbody>\n",
       "</table>\n",
       "</div>"
      ],
      "text/plain": [
       "   work_date department  total_overtime\n",
       "0 2024-05-19    Finance            0.00\n",
       "1 2024-05-19         HR            0.00\n",
       "2 2024-05-19         IT            1.29\n",
       "3 2024-05-19  Inventory            0.00\n",
       "4 2024-05-19  Marketing            3.04\n",
       "5 2024-05-19      Sales            2.44\n",
       "6 2024-05-26    Finance            1.69\n",
       "7 2024-05-26         HR            8.84\n",
       "8 2024-05-26         IT            3.85\n",
       "9 2024-05-26  Inventory            7.03"
      ]
     },
     "metadata": {},
     "output_type": "display_data"
    }
   ],
   "source": [
    "def load_historical_data():\n",
    "    conn = get_db_connection()\n",
    "    query = \"\"\"\n",
    "    SELECT k.work_date, w.department, SUM(k.overtime_hours) as total_overtime\n",
    "    FROM Kronos_TimeEntries k\n",
    "    JOIN Workday_Employees w ON k.employee_id = w.employee_id\n",
    "    GROUP BY k.work_date, w.department\n",
    "    \"\"\"\n",
    "    \n",
    "    try:\n",
    "        df = pd.read_sql(query, conn)\n",
    "        df['work_date'] = pd.to_datetime(df['work_date']).dt.strftime('%Y-%m-%d')\n",
    "        df['work_date'] = pd.to_datetime(df['work_date'])\n",
    "        \n",
    "        # Aggregate by week\n",
    "        df = df.groupby([pd.Grouper(key='work_date', freq='W'), 'department'])['total_overtime'].sum().reset_index()\n",
    "        \n",
    "        logging.info(f\"Loaded data: {len(df)} records\")\n",
    "        return df\n",
    "    \n",
    "    finally:\n",
    "        conn.close()\n",
    "\n",
    "# Load and display data\n",
    "historical_data = load_historical_data()\n",
    "print(\"Muestra de datos históricos:\")\n",
    "display(historical_data.head(10))"
   ]
  },
  {
   "cell_type": "markdown",
   "id": "6d4c4139",
   "metadata": {},
   "source": [
    "### 3.1 Evaluación de Estacionalidad (Dickey-Fuller Test)"
   ]
  },
  {
   "cell_type": "code",
   "execution_count": 89,
   "id": "260cc5e2",
   "metadata": {},
   "outputs": [
    {
     "name": "stdout",
     "output_type": "stream",
     "text": [
      "\n",
      "Análisis de Estacionalidad para Finance\n",
      "Resultados de la prueba de Dickey-Fuller para columna: total_overtime\n",
      "Test Statistic                       -5.967518e+00\n",
      "p-value                               1.971607e-07\n",
      "No Lags Used                          0.000000e+00\n",
      "Número de observaciones utilizadas    5.300000e+01\n",
      "Critical Value (1%)                  -3.560242e+00\n",
      "Critical Value (5%)                  -2.917850e+00\n",
      "Critical Value (10%)                 -2.596796e+00\n",
      "dtype: float64\n",
      "\n",
      "Conclusión:====>\n",
      "Rechazar la hipótesis nula\n",
      "Los datos tienen estacionalidad\n",
      "\n",
      "Análisis de Estacionalidad para HR\n",
      "Resultados de la prueba de Dickey-Fuller para columna: total_overtime\n",
      "Test Statistic                        -4.663216\n",
      "p-value                                0.000099\n",
      "No Lags Used                           2.000000\n",
      "Número de observaciones utilizadas    51.000000\n",
      "Critical Value (1%)                   -3.565624\n",
      "Critical Value (5%)                   -2.920142\n",
      "Critical Value (10%)                  -2.598015\n",
      "dtype: float64\n",
      "\n",
      "Conclusión:====>\n",
      "Rechazar la hipótesis nula\n",
      "Los datos tienen estacionalidad\n",
      "\n",
      "Análisis de Estacionalidad para IT\n",
      "Resultados de la prueba de Dickey-Fuller para columna: total_overtime\n",
      "Test Statistic                       -6.286076e+00\n",
      "p-value                               3.695386e-08\n",
      "No Lags Used                          1.000000e+00\n",
      "Número de observaciones utilizadas    5.200000e+01\n",
      "Critical Value (1%)                  -3.562879e+00\n",
      "Critical Value (5%)                  -2.918973e+00\n",
      "Critical Value (10%)                 -2.597393e+00\n",
      "dtype: float64\n",
      "\n",
      "Conclusión:====>\n",
      "Rechazar la hipótesis nula\n",
      "Los datos tienen estacionalidad\n",
      "\n",
      "Análisis de Estacionalidad para Inventory\n",
      "Resultados de la prueba de Dickey-Fuller para columna: total_overtime\n",
      "Test Statistic                       -5.828026e+00\n",
      "p-value                               4.036166e-07\n",
      "No Lags Used                          1.000000e+00\n",
      "Número de observaciones utilizadas    5.200000e+01\n",
      "Critical Value (1%)                  -3.562879e+00\n",
      "Critical Value (5%)                  -2.918973e+00\n",
      "Critical Value (10%)                 -2.597393e+00\n",
      "dtype: float64\n",
      "\n",
      "Conclusión:====>\n",
      "Rechazar la hipótesis nula\n",
      "Los datos tienen estacionalidad\n",
      "\n",
      "Análisis de Estacionalidad para Marketing\n",
      "Resultados de la prueba de Dickey-Fuller para columna: total_overtime\n",
      "Test Statistic                       -5.916445e+00\n",
      "p-value                               2.566149e-07\n",
      "No Lags Used                          0.000000e+00\n",
      "Número de observaciones utilizadas    5.300000e+01\n",
      "Critical Value (1%)                  -3.560242e+00\n",
      "Critical Value (5%)                  -2.917850e+00\n",
      "Critical Value (10%)                 -2.596796e+00\n",
      "dtype: float64\n",
      "\n",
      "Conclusión:====>\n",
      "Rechazar la hipótesis nula\n",
      "Los datos tienen estacionalidad\n",
      "\n",
      "Análisis de Estacionalidad para Sales\n",
      "Resultados de la prueba de Dickey-Fuller para columna: total_overtime\n",
      "Test Statistic                        -4.766825\n",
      "p-value                                0.000063\n",
      "No Lags Used                           0.000000\n",
      "Número de observaciones utilizadas    53.000000\n",
      "Critical Value (1%)                   -3.560242\n",
      "Critical Value (5%)                   -2.917850\n",
      "Critical Value (10%)                  -2.596796\n",
      "dtype: float64\n",
      "\n",
      "Conclusión:====>\n",
      "Rechazar la hipótesis nula\n",
      "Los datos tienen estacionalidad\n",
      "\n",
      "Resumen de Estacionalidad por Departamento:\n"
     ]
    },
    {
     "data": {
      "application/vnd.microsoft.datawrangler.viewer.v0+json": {
       "columns": [
        {
         "name": "index",
         "rawType": "int64",
         "type": "integer"
        },
        {
         "name": "department",
         "rawType": "object",
         "type": "string"
        },
        {
         "name": "test_statistic",
         "rawType": "float64",
         "type": "float"
        },
        {
         "name": "p_value",
         "rawType": "float64",
         "type": "float"
        },
        {
         "name": "is_seasonal",
         "rawType": "bool",
         "type": "boolean"
        }
       ],
       "ref": "8da5f5ae-299a-4cc8-948b-d2c6658728d9",
       "rows": [
        [
         "0",
         "Finance",
         "-5.967517670806733",
         "1.9716067956434957e-07",
         "True"
        ],
        [
         "1",
         "HR",
         "-4.663216055962168",
         "9.861228370862831e-05",
         "True"
        ],
        [
         "2",
         "IT",
         "-6.286075830207535",
         "3.6953856504658566e-08",
         "True"
        ],
        [
         "3",
         "Inventory",
         "-5.828026000485124",
         "4.036166126274566e-07",
         "True"
        ],
        [
         "4",
         "Marketing",
         "-5.9164446199602505",
         "2.566149216881257e-07",
         "True"
        ],
        [
         "5",
         "Sales",
         "-4.766824739516733",
         "6.291614328827817e-05",
         "True"
        ]
       ],
       "shape": {
        "columns": 4,
        "rows": 6
       }
      },
      "text/html": [
       "<div>\n",
       "<style scoped>\n",
       "    .dataframe tbody tr th:only-of-type {\n",
       "        vertical-align: middle;\n",
       "    }\n",
       "\n",
       "    .dataframe tbody tr th {\n",
       "        vertical-align: top;\n",
       "    }\n",
       "\n",
       "    .dataframe thead th {\n",
       "        text-align: right;\n",
       "    }\n",
       "</style>\n",
       "<table border=\"1\" class=\"dataframe\">\n",
       "  <thead>\n",
       "    <tr style=\"text-align: right;\">\n",
       "      <th></th>\n",
       "      <th>department</th>\n",
       "      <th>test_statistic</th>\n",
       "      <th>p_value</th>\n",
       "      <th>is_seasonal</th>\n",
       "    </tr>\n",
       "  </thead>\n",
       "  <tbody>\n",
       "    <tr>\n",
       "      <th>0</th>\n",
       "      <td>Finance</td>\n",
       "      <td>-5.967518</td>\n",
       "      <td>1.971607e-07</td>\n",
       "      <td>True</td>\n",
       "    </tr>\n",
       "    <tr>\n",
       "      <th>1</th>\n",
       "      <td>HR</td>\n",
       "      <td>-4.663216</td>\n",
       "      <td>9.861228e-05</td>\n",
       "      <td>True</td>\n",
       "    </tr>\n",
       "    <tr>\n",
       "      <th>2</th>\n",
       "      <td>IT</td>\n",
       "      <td>-6.286076</td>\n",
       "      <td>3.695386e-08</td>\n",
       "      <td>True</td>\n",
       "    </tr>\n",
       "    <tr>\n",
       "      <th>3</th>\n",
       "      <td>Inventory</td>\n",
       "      <td>-5.828026</td>\n",
       "      <td>4.036166e-07</td>\n",
       "      <td>True</td>\n",
       "    </tr>\n",
       "    <tr>\n",
       "      <th>4</th>\n",
       "      <td>Marketing</td>\n",
       "      <td>-5.916445</td>\n",
       "      <td>2.566149e-07</td>\n",
       "      <td>True</td>\n",
       "    </tr>\n",
       "    <tr>\n",
       "      <th>5</th>\n",
       "      <td>Sales</td>\n",
       "      <td>-4.766825</td>\n",
       "      <td>6.291614e-05</td>\n",
       "      <td>True</td>\n",
       "    </tr>\n",
       "  </tbody>\n",
       "</table>\n",
       "</div>"
      ],
      "text/plain": [
       "  department  test_statistic       p_value  is_seasonal\n",
       "0    Finance       -5.967518  1.971607e-07         True\n",
       "1         HR       -4.663216  9.861228e-05         True\n",
       "2         IT       -6.286076  3.695386e-08         True\n",
       "3  Inventory       -5.828026  4.036166e-07         True\n",
       "4  Marketing       -5.916445  2.566149e-07         True\n",
       "5      Sales       -4.766825  6.291614e-05         True"
      ]
     },
     "metadata": {},
     "output_type": "display_data"
    },
    {
     "data": {
      "application/vnd.plotly.v1+json": {
       "config": {
        "plotlyServerURL": "https://plot.ly"
       },
       "data": [
        {
         "mode": "lines+markers",
         "name": "Finance",
         "type": "scatter",
         "x": [
          "2024-05-19T00:00:00.000000000",
          "2024-05-26T00:00:00.000000000",
          "2024-06-02T00:00:00.000000000",
          "2024-06-09T00:00:00.000000000",
          "2024-06-16T00:00:00.000000000",
          "2024-06-23T00:00:00.000000000",
          "2024-06-30T00:00:00.000000000",
          "2024-07-07T00:00:00.000000000",
          "2024-07-14T00:00:00.000000000",
          "2024-07-21T00:00:00.000000000",
          "2024-07-28T00:00:00.000000000",
          "2024-08-04T00:00:00.000000000",
          "2024-08-11T00:00:00.000000000",
          "2024-08-18T00:00:00.000000000",
          "2024-08-25T00:00:00.000000000",
          "2024-09-01T00:00:00.000000000",
          "2024-09-08T00:00:00.000000000",
          "2024-09-15T00:00:00.000000000",
          "2024-09-22T00:00:00.000000000",
          "2024-09-29T00:00:00.000000000",
          "2024-10-06T00:00:00.000000000",
          "2024-10-13T00:00:00.000000000",
          "2024-10-20T00:00:00.000000000",
          "2024-10-27T00:00:00.000000000",
          "2024-11-03T00:00:00.000000000",
          "2024-11-10T00:00:00.000000000",
          "2024-11-17T00:00:00.000000000",
          "2024-11-24T00:00:00.000000000",
          "2024-12-01T00:00:00.000000000",
          "2024-12-08T00:00:00.000000000",
          "2024-12-15T00:00:00.000000000",
          "2024-12-22T00:00:00.000000000",
          "2024-12-29T00:00:00.000000000",
          "2025-01-05T00:00:00.000000000",
          "2025-01-12T00:00:00.000000000",
          "2025-01-19T00:00:00.000000000",
          "2025-01-26T00:00:00.000000000",
          "2025-02-02T00:00:00.000000000",
          "2025-02-09T00:00:00.000000000",
          "2025-02-16T00:00:00.000000000",
          "2025-02-23T00:00:00.000000000",
          "2025-03-02T00:00:00.000000000",
          "2025-03-09T00:00:00.000000000",
          "2025-03-16T00:00:00.000000000",
          "2025-03-23T00:00:00.000000000",
          "2025-03-30T00:00:00.000000000",
          "2025-04-06T00:00:00.000000000",
          "2025-04-13T00:00:00.000000000",
          "2025-04-20T00:00:00.000000000",
          "2025-04-27T00:00:00.000000000",
          "2025-05-04T00:00:00.000000000",
          "2025-05-11T00:00:00.000000000",
          "2025-05-18T00:00:00.000000000",
          "2025-05-25T00:00:00.000000000"
         ],
         "y": {
          "bdata": "AAAAAAAAAAAK16NwPQr7P+J6FK5H4RhApHA9CtejEUBI4XoUrkfxP1yPwvUo3CFAcT0K16NwGkCuR+F6FK4TQML1KFyPwiJAcT0K16NwHECG61G4HoUdQKRwPQrXow5ArkfhehSuD0AAAAAAAAAAAHsUrkfhegRAAAAAAAAAAAAAAAAAAAAAAM3MzMzMzPg/pHA9CtejAkD2KFyPwvUOQHsUrkfhehNA4XoUrkfhF0BSuB6F61EZQIXrUbgeBSJAAAAAAACAJUCamZmZmZn1P83MzMzMzBVAMzMzMzMzGECQwvUoXI8cQOxRuB6F6yJAXI/C9ShcD0BI4XoUrkcQQLgehetRuAhA4XoUrkfhFEBcj8L1KFwTQD4K16NwPRFA16NwPQpXKUCamZmZmRkiQNejcD0K1wVAFK5H4XqUJ0CamZmZmZkXQFyPwvUoXBdAXI/C9ShcI0DiehSuR+H+PwrXo3A9CglArkfhehSuGEB7FK5H4fogQAAAAAAAABNAUrgehetRFkAzMzMzMzMQQHsUrkfhehlA7FG4HoXrGkAUrkfhehQpQJqZmZmZmfk/",
          "dtype": "f8"
         }
        },
        {
         "mode": "lines+markers",
         "name": "HR",
         "type": "scatter",
         "x": [
          "2024-05-19T00:00:00.000000000",
          "2024-05-26T00:00:00.000000000",
          "2024-06-02T00:00:00.000000000",
          "2024-06-09T00:00:00.000000000",
          "2024-06-16T00:00:00.000000000",
          "2024-06-23T00:00:00.000000000",
          "2024-06-30T00:00:00.000000000",
          "2024-07-07T00:00:00.000000000",
          "2024-07-14T00:00:00.000000000",
          "2024-07-21T00:00:00.000000000",
          "2024-07-28T00:00:00.000000000",
          "2024-08-04T00:00:00.000000000",
          "2024-08-11T00:00:00.000000000",
          "2024-08-18T00:00:00.000000000",
          "2024-08-25T00:00:00.000000000",
          "2024-09-01T00:00:00.000000000",
          "2024-09-08T00:00:00.000000000",
          "2024-09-15T00:00:00.000000000",
          "2024-09-22T00:00:00.000000000",
          "2024-09-29T00:00:00.000000000",
          "2024-10-06T00:00:00.000000000",
          "2024-10-13T00:00:00.000000000",
          "2024-10-20T00:00:00.000000000",
          "2024-10-27T00:00:00.000000000",
          "2024-11-03T00:00:00.000000000",
          "2024-11-10T00:00:00.000000000",
          "2024-11-17T00:00:00.000000000",
          "2024-11-24T00:00:00.000000000",
          "2024-12-01T00:00:00.000000000",
          "2024-12-08T00:00:00.000000000",
          "2024-12-15T00:00:00.000000000",
          "2024-12-22T00:00:00.000000000",
          "2024-12-29T00:00:00.000000000",
          "2025-01-05T00:00:00.000000000",
          "2025-01-12T00:00:00.000000000",
          "2025-01-19T00:00:00.000000000",
          "2025-01-26T00:00:00.000000000",
          "2025-02-02T00:00:00.000000000",
          "2025-02-09T00:00:00.000000000",
          "2025-02-16T00:00:00.000000000",
          "2025-02-23T00:00:00.000000000",
          "2025-03-02T00:00:00.000000000",
          "2025-03-09T00:00:00.000000000",
          "2025-03-16T00:00:00.000000000",
          "2025-03-23T00:00:00.000000000",
          "2025-03-30T00:00:00.000000000",
          "2025-04-06T00:00:00.000000000",
          "2025-04-13T00:00:00.000000000",
          "2025-04-20T00:00:00.000000000",
          "2025-04-27T00:00:00.000000000",
          "2025-05-04T00:00:00.000000000",
          "2025-05-11T00:00:00.000000000",
          "2025-05-18T00:00:00.000000000",
          "2025-05-25T00:00:00.000000000"
         ],
         "y": {
          "bdata": "AAAAAAAAAACuR+F6FK4hQK5H4XoUrvs/AAAAAAAAAADD9Shcj8LlPwAAAAAAAARAMzMzMzMzA0DsUbgehevBPz0K16NwPRpAFa5H4XoUEUAfhetRuB4dQBSuR+F6FApASOF6FK5H9T89CtejcD0uQClcj8L1KAhACtejcD2KIkCZmZmZmZn9P/YoXI/C9SFAHoXrUbgeJkDD9Shcj8IaQK5H4XoUrvs/kML1KFyPFUAUrkfhehQaQK5H4XoUrg9Aw/UoXI9CMEDXo3A9CtcbQAAAAAAAAAAAKVyPwvUo+D9mZmZmZuYmQEjhehSuxzBAAAAAAAAAAAApXI/C9Sj4PwAAAAAAAB5ACtejcD0KLkBcj8L1KFwjQHA9CtejcBlApHA9CtejBkCamZmZmRklQD4K16NwPRFAUrgehetRGUCF61G4HoUhQDMzMzMzsyFASOF6FK7HJEAzMzMzMzP7Pyhcj8L1KBZAhetRuB6FK0CF61G4HoUNQEjhehSuRx9AwvUoXI/CI0BmZmZmZuYjQFyPwvUo3CFAKVyPwvUoGEBmZmZmZmYdQAAAAAAAAAAA",
          "dtype": "f8"
         }
        },
        {
         "mode": "lines+markers",
         "name": "IT",
         "type": "scatter",
         "x": [
          "2024-05-19T00:00:00.000000000",
          "2024-05-26T00:00:00.000000000",
          "2024-06-02T00:00:00.000000000",
          "2024-06-09T00:00:00.000000000",
          "2024-06-16T00:00:00.000000000",
          "2024-06-23T00:00:00.000000000",
          "2024-06-30T00:00:00.000000000",
          "2024-07-07T00:00:00.000000000",
          "2024-07-14T00:00:00.000000000",
          "2024-07-21T00:00:00.000000000",
          "2024-07-28T00:00:00.000000000",
          "2024-08-04T00:00:00.000000000",
          "2024-08-11T00:00:00.000000000",
          "2024-08-18T00:00:00.000000000",
          "2024-08-25T00:00:00.000000000",
          "2024-09-01T00:00:00.000000000",
          "2024-09-08T00:00:00.000000000",
          "2024-09-15T00:00:00.000000000",
          "2024-09-22T00:00:00.000000000",
          "2024-09-29T00:00:00.000000000",
          "2024-10-06T00:00:00.000000000",
          "2024-10-13T00:00:00.000000000",
          "2024-10-20T00:00:00.000000000",
          "2024-10-27T00:00:00.000000000",
          "2024-11-03T00:00:00.000000000",
          "2024-11-10T00:00:00.000000000",
          "2024-11-17T00:00:00.000000000",
          "2024-11-24T00:00:00.000000000",
          "2024-12-01T00:00:00.000000000",
          "2024-12-08T00:00:00.000000000",
          "2024-12-15T00:00:00.000000000",
          "2024-12-22T00:00:00.000000000",
          "2024-12-29T00:00:00.000000000",
          "2025-01-05T00:00:00.000000000",
          "2025-01-12T00:00:00.000000000",
          "2025-01-19T00:00:00.000000000",
          "2025-01-26T00:00:00.000000000",
          "2025-02-02T00:00:00.000000000",
          "2025-02-09T00:00:00.000000000",
          "2025-02-16T00:00:00.000000000",
          "2025-02-23T00:00:00.000000000",
          "2025-03-02T00:00:00.000000000",
          "2025-03-09T00:00:00.000000000",
          "2025-03-16T00:00:00.000000000",
          "2025-03-23T00:00:00.000000000",
          "2025-03-30T00:00:00.000000000",
          "2025-04-06T00:00:00.000000000",
          "2025-04-13T00:00:00.000000000",
          "2025-04-20T00:00:00.000000000",
          "2025-04-27T00:00:00.000000000",
          "2025-05-04T00:00:00.000000000",
          "2025-05-11T00:00:00.000000000",
          "2025-05-18T00:00:00.000000000",
          "2025-05-25T00:00:00.000000000"
         ],
         "y": {
          "bdata": "pHA9Ctej9D/NzMzMzMwOQK5H4XoUrhtAZmZmZmbmJEAAAAAAAADoPylcj8L1KB9AmpmZmZmZG0BSuB6F69EiQFyPwvUoXB1Aj8L1KFyPJ0CkcD0K16MVQBSuR+F6lCFAH4XrUbgeJEBwPQrXo3AaQK5H4XoUriJA61G4HoXrHEApXI/C9SgMQAAAAAAAABhArkfhehQuIUBcj8L1KFwNQAAAAAAAAAAAcD0K16NwFkDC9Shcj8IrQJmZmZmZGSRAXI/C9SjcJUDhehSuR+EgQEjhehSuRxRAFK5H4XoUGkBxPQrXo3ApQM3MzMzMTCVAZmZmZmZmEEAzMzMzMzP7P+xRuB6F6xNA9ihcj8L1HEDhehSuR+EXQBSuR+F6FBpAXI/C9ShcFEAVrkfhepQmQK5H4XoUrhtArkfhehQuIEAzMzMzMzP3P5qZmZmZmbk/pHA9CtejEEA+CtejcD0pQJmZmZmZmfE/PgrXo3A9E0BmZmZmZmYpQNejcD0KVydANDMzMzMzHEA+CtejcD0fQML1KFyPwhBAuB6F61E4NkBSuB6F69EkQBSuR+F6FPI/",
          "dtype": "f8"
         }
        },
        {
         "mode": "lines+markers",
         "name": "Inventory",
         "type": "scatter",
         "x": [
          "2024-05-19T00:00:00.000000000",
          "2024-05-26T00:00:00.000000000",
          "2024-06-02T00:00:00.000000000",
          "2024-06-09T00:00:00.000000000",
          "2024-06-16T00:00:00.000000000",
          "2024-06-23T00:00:00.000000000",
          "2024-06-30T00:00:00.000000000",
          "2024-07-07T00:00:00.000000000",
          "2024-07-14T00:00:00.000000000",
          "2024-07-21T00:00:00.000000000",
          "2024-07-28T00:00:00.000000000",
          "2024-08-04T00:00:00.000000000",
          "2024-08-11T00:00:00.000000000",
          "2024-08-18T00:00:00.000000000",
          "2024-08-25T00:00:00.000000000",
          "2024-09-01T00:00:00.000000000",
          "2024-09-08T00:00:00.000000000",
          "2024-09-15T00:00:00.000000000",
          "2024-09-22T00:00:00.000000000",
          "2024-09-29T00:00:00.000000000",
          "2024-10-06T00:00:00.000000000",
          "2024-10-13T00:00:00.000000000",
          "2024-10-20T00:00:00.000000000",
          "2024-10-27T00:00:00.000000000",
          "2024-11-03T00:00:00.000000000",
          "2024-11-10T00:00:00.000000000",
          "2024-11-17T00:00:00.000000000",
          "2024-11-24T00:00:00.000000000",
          "2024-12-01T00:00:00.000000000",
          "2024-12-08T00:00:00.000000000",
          "2024-12-15T00:00:00.000000000",
          "2024-12-22T00:00:00.000000000",
          "2024-12-29T00:00:00.000000000",
          "2025-01-05T00:00:00.000000000",
          "2025-01-12T00:00:00.000000000",
          "2025-01-19T00:00:00.000000000",
          "2025-01-26T00:00:00.000000000",
          "2025-02-02T00:00:00.000000000",
          "2025-02-09T00:00:00.000000000",
          "2025-02-16T00:00:00.000000000",
          "2025-02-23T00:00:00.000000000",
          "2025-03-02T00:00:00.000000000",
          "2025-03-09T00:00:00.000000000",
          "2025-03-16T00:00:00.000000000",
          "2025-03-23T00:00:00.000000000",
          "2025-03-30T00:00:00.000000000",
          "2025-04-06T00:00:00.000000000",
          "2025-04-13T00:00:00.000000000",
          "2025-04-20T00:00:00.000000000",
          "2025-04-27T00:00:00.000000000",
          "2025-05-04T00:00:00.000000000",
          "2025-05-11T00:00:00.000000000",
          "2025-05-18T00:00:00.000000000",
          "2025-05-25T00:00:00.000000000"
         ],
         "y": {
          "bdata": "AAAAAAAAAAAehetRuB4cQGZmZmZmZv4/XI/C9ShcEEAfhetRuJ4gQBSuR+F6lCJAmpmZmZmZEUDXo3A9CtcPQDMzMzMzM+s/FK5H4XoU3j/hehSuR+EMQClcj8L1qCNAexSuR+F6GEBwPQrXo3AHQAAAAAAAAAAA9ihcj8L1IEDXo3A9CtcFQOF6FK5H4RVAAAAAAACAJUDNzMzMzMwRQOJ6FK5H4f4/zczMzMzMFEAzMzMzMzMgQClcj8L1qCFAKVyPwvUoH0A9CtejcD0GQNejcD0K1wtApHA9Ctej9D/NzMzMzMwMQMzMzMzMzBpAFa5H4XoUHUAK16NwPQoSQBWuR+F6FB5ArkfhehSu7z/C9Shcj8IWQLgehetRuCJAmpmZmZmZJUBSuB6F61EkQClcj8L1KBdASOF6FK5HEEBdj8L1KFwfQOF6FK5H4S5AuB6F61G4GEBxPQrXo3AeQFK4HoXrUR1AzczMzMzMF0DhehSuR+EAQAAAAAAAAAAAZmZmZmZmIkCamZmZmZkxQHE9CtejcA1AuB6F61G4EUDNzMzMzMwZQB+F61G4HgdA",
          "dtype": "f8"
         }
        },
        {
         "mode": "lines+markers",
         "name": "Marketing",
         "type": "scatter",
         "x": [
          "2024-05-19T00:00:00.000000000",
          "2024-05-26T00:00:00.000000000",
          "2024-06-02T00:00:00.000000000",
          "2024-06-09T00:00:00.000000000",
          "2024-06-16T00:00:00.000000000",
          "2024-06-23T00:00:00.000000000",
          "2024-06-30T00:00:00.000000000",
          "2024-07-07T00:00:00.000000000",
          "2024-07-14T00:00:00.000000000",
          "2024-07-21T00:00:00.000000000",
          "2024-07-28T00:00:00.000000000",
          "2024-08-04T00:00:00.000000000",
          "2024-08-11T00:00:00.000000000",
          "2024-08-18T00:00:00.000000000",
          "2024-08-25T00:00:00.000000000",
          "2024-09-01T00:00:00.000000000",
          "2024-09-08T00:00:00.000000000",
          "2024-09-15T00:00:00.000000000",
          "2024-09-22T00:00:00.000000000",
          "2024-09-29T00:00:00.000000000",
          "2024-10-06T00:00:00.000000000",
          "2024-10-13T00:00:00.000000000",
          "2024-10-20T00:00:00.000000000",
          "2024-10-27T00:00:00.000000000",
          "2024-11-03T00:00:00.000000000",
          "2024-11-10T00:00:00.000000000",
          "2024-11-17T00:00:00.000000000",
          "2024-11-24T00:00:00.000000000",
          "2024-12-01T00:00:00.000000000",
          "2024-12-08T00:00:00.000000000",
          "2024-12-15T00:00:00.000000000",
          "2024-12-22T00:00:00.000000000",
          "2024-12-29T00:00:00.000000000",
          "2025-01-05T00:00:00.000000000",
          "2025-01-12T00:00:00.000000000",
          "2025-01-19T00:00:00.000000000",
          "2025-01-26T00:00:00.000000000",
          "2025-02-02T00:00:00.000000000",
          "2025-02-09T00:00:00.000000000",
          "2025-02-16T00:00:00.000000000",
          "2025-02-23T00:00:00.000000000",
          "2025-03-02T00:00:00.000000000",
          "2025-03-09T00:00:00.000000000",
          "2025-03-16T00:00:00.000000000",
          "2025-03-23T00:00:00.000000000",
          "2025-03-30T00:00:00.000000000",
          "2025-04-06T00:00:00.000000000",
          "2025-04-13T00:00:00.000000000",
          "2025-04-20T00:00:00.000000000",
          "2025-04-27T00:00:00.000000000",
          "2025-05-04T00:00:00.000000000",
          "2025-05-11T00:00:00.000000000",
          "2025-05-18T00:00:00.000000000",
          "2025-05-25T00:00:00.000000000"
         ],
         "y": {
          "bdata": "UrgehetRCEAfhetRuB4PQPYoXI/C9QpA9ihcj8L1FEDNzMzMzEwsQAAAAAAAAAAAAAAAAAAAAAAUrkfhehQbQFK4HoXrURNA4XoUrkfhI0CF61G4HoX/P6RwPQrXoxdAcT0K16NwH0BI4XoUrkcrQNejcD0KVyFA9ihcj8L1LUCF61G4HoUnQDMzMzMzMxhAXI/C9Shc8z8UrkfhehTyPwAAAAAAAPA/exSuR+F6F0CF61G4HoUPQAAAAAAAAAAAUrgehetREkA+CtejcD0pQIXrUbgehQ9AH4XrUbieIEApXI/C9agnQFyPwvUoXCBAuB6F61G4EUBSuB6F61EbQMzMzMzMzAxAFa5H4XoUCkAL16NwPQoLQOJ6FK5H4QRAzczMzMzMK0D2KFyPwvUXQOxRuB6F6xxAexSuR+F6F0DD9Shcj0ImQFyPwvUoXCpAmpmZmZmZEkCkcD0K16MfQHE9CtejcB1A9ihcj8L1+D8zMzMzMzMXQPYoXI/C9RBAmpmZmZmZMEDhehSuR+EYQB6F61G4HhdAZmZmZmZm8j9SuB6F61ERQAAAAAAAAAAA",
          "dtype": "f8"
         }
        },
        {
         "mode": "lines+markers",
         "name": "Sales",
         "type": "scatter",
         "x": [
          "2024-05-19T00:00:00.000000000",
          "2024-05-26T00:00:00.000000000",
          "2024-06-02T00:00:00.000000000",
          "2024-06-09T00:00:00.000000000",
          "2024-06-16T00:00:00.000000000",
          "2024-06-23T00:00:00.000000000",
          "2024-06-30T00:00:00.000000000",
          "2024-07-07T00:00:00.000000000",
          "2024-07-14T00:00:00.000000000",
          "2024-07-21T00:00:00.000000000",
          "2024-07-28T00:00:00.000000000",
          "2024-08-04T00:00:00.000000000",
          "2024-08-11T00:00:00.000000000",
          "2024-08-18T00:00:00.000000000",
          "2024-08-25T00:00:00.000000000",
          "2024-09-01T00:00:00.000000000",
          "2024-09-08T00:00:00.000000000",
          "2024-09-15T00:00:00.000000000",
          "2024-09-22T00:00:00.000000000",
          "2024-09-29T00:00:00.000000000",
          "2024-10-06T00:00:00.000000000",
          "2024-10-13T00:00:00.000000000",
          "2024-10-20T00:00:00.000000000",
          "2024-10-27T00:00:00.000000000",
          "2024-11-03T00:00:00.000000000",
          "2024-11-10T00:00:00.000000000",
          "2024-11-17T00:00:00.000000000",
          "2024-11-24T00:00:00.000000000",
          "2024-12-01T00:00:00.000000000",
          "2024-12-08T00:00:00.000000000",
          "2024-12-15T00:00:00.000000000",
          "2024-12-22T00:00:00.000000000",
          "2024-12-29T00:00:00.000000000",
          "2025-01-05T00:00:00.000000000",
          "2025-01-12T00:00:00.000000000",
          "2025-01-19T00:00:00.000000000",
          "2025-01-26T00:00:00.000000000",
          "2025-02-02T00:00:00.000000000",
          "2025-02-09T00:00:00.000000000",
          "2025-02-16T00:00:00.000000000",
          "2025-02-23T00:00:00.000000000",
          "2025-03-02T00:00:00.000000000",
          "2025-03-09T00:00:00.000000000",
          "2025-03-16T00:00:00.000000000",
          "2025-03-23T00:00:00.000000000",
          "2025-03-30T00:00:00.000000000",
          "2025-04-06T00:00:00.000000000",
          "2025-04-13T00:00:00.000000000",
          "2025-04-20T00:00:00.000000000",
          "2025-04-27T00:00:00.000000000",
          "2025-05-04T00:00:00.000000000",
          "2025-05-11T00:00:00.000000000",
          "2025-05-18T00:00:00.000000000",
          "2025-05-25T00:00:00.000000000"
         ],
         "y": {
          "bdata": "hetRuB6FA0AK16NwPQoUQAAAAAAAAAAAKVyPwvUoFECkcD0K16MRQML1KFyPwhlAhetRuB6FIEAK16NwPQoyQHE9Ctej8CxA4XoUrkfhIEAfhetRuJ4pQNejcD0KlzBAcT0K16PwIkBSuB6F61HgP5DC9ShcjwhAPQrXo3A9JEAAAAAAAAAAAIbrUbgehSRAR+F6FK5HEEB8FK5H4XocQNejcD0K1yFA4XoUrkfhDEDXo3A9CtcDQLgehetRuAhACtejcD0K9z+uR+F6FK4QQB6F61G4HiBAuB6F61G4HECamZmZmRkkQPYoXI/C9RRAFa5H4XoUGEApXI/C9aghQGZmZmZm5ihAFK5H4XoUBEAfhetRuB7VPzMzMzMzM+s/KVyPwvWoIUDMzMzMzMwXQD0K16NwPSBANDMzMzMzC0AAAAAAAAAcQGdmZmZmZhtAAQAAAAAACEDC9Shcj8INQFyPwvUoXBpA7FG4HoXr4T80MzMzMzMeQJqZmZmZmSxAUrgehevRKEBI4XoUrscgQK5H4XoULiRACtejcD0KBUAAAAAAAAAAAB+F61G4Hvk/",
          "dtype": "f8"
         }
        }
       ],
       "layout": {
        "showlegend": true,
        "template": {
         "data": {
          "bar": [
           {
            "error_x": {
             "color": "#2a3f5f"
            },
            "error_y": {
             "color": "#2a3f5f"
            },
            "marker": {
             "line": {
              "color": "white",
              "width": 0.5
             },
             "pattern": {
              "fillmode": "overlay",
              "size": 10,
              "solidity": 0.2
             }
            },
            "type": "bar"
           }
          ],
          "barpolar": [
           {
            "marker": {
             "line": {
              "color": "white",
              "width": 0.5
             },
             "pattern": {
              "fillmode": "overlay",
              "size": 10,
              "solidity": 0.2
             }
            },
            "type": "barpolar"
           }
          ],
          "carpet": [
           {
            "aaxis": {
             "endlinecolor": "#2a3f5f",
             "gridcolor": "#C8D4E3",
             "linecolor": "#C8D4E3",
             "minorgridcolor": "#C8D4E3",
             "startlinecolor": "#2a3f5f"
            },
            "baxis": {
             "endlinecolor": "#2a3f5f",
             "gridcolor": "#C8D4E3",
             "linecolor": "#C8D4E3",
             "minorgridcolor": "#C8D4E3",
             "startlinecolor": "#2a3f5f"
            },
            "type": "carpet"
           }
          ],
          "choropleth": [
           {
            "colorbar": {
             "outlinewidth": 0,
             "ticks": ""
            },
            "type": "choropleth"
           }
          ],
          "contour": [
           {
            "colorbar": {
             "outlinewidth": 0,
             "ticks": ""
            },
            "colorscale": [
             [
              0,
              "#0d0887"
             ],
             [
              0.1111111111111111,
              "#46039f"
             ],
             [
              0.2222222222222222,
              "#7201a8"
             ],
             [
              0.3333333333333333,
              "#9c179e"
             ],
             [
              0.4444444444444444,
              "#bd3786"
             ],
             [
              0.5555555555555556,
              "#d8576b"
             ],
             [
              0.6666666666666666,
              "#ed7953"
             ],
             [
              0.7777777777777778,
              "#fb9f3a"
             ],
             [
              0.8888888888888888,
              "#fdca26"
             ],
             [
              1,
              "#f0f921"
             ]
            ],
            "type": "contour"
           }
          ],
          "contourcarpet": [
           {
            "colorbar": {
             "outlinewidth": 0,
             "ticks": ""
            },
            "type": "contourcarpet"
           }
          ],
          "heatmap": [
           {
            "colorbar": {
             "outlinewidth": 0,
             "ticks": ""
            },
            "colorscale": [
             [
              0,
              "#0d0887"
             ],
             [
              0.1111111111111111,
              "#46039f"
             ],
             [
              0.2222222222222222,
              "#7201a8"
             ],
             [
              0.3333333333333333,
              "#9c179e"
             ],
             [
              0.4444444444444444,
              "#bd3786"
             ],
             [
              0.5555555555555556,
              "#d8576b"
             ],
             [
              0.6666666666666666,
              "#ed7953"
             ],
             [
              0.7777777777777778,
              "#fb9f3a"
             ],
             [
              0.8888888888888888,
              "#fdca26"
             ],
             [
              1,
              "#f0f921"
             ]
            ],
            "type": "heatmap"
           }
          ],
          "histogram": [
           {
            "marker": {
             "pattern": {
              "fillmode": "overlay",
              "size": 10,
              "solidity": 0.2
             }
            },
            "type": "histogram"
           }
          ],
          "histogram2d": [
           {
            "colorbar": {
             "outlinewidth": 0,
             "ticks": ""
            },
            "colorscale": [
             [
              0,
              "#0d0887"
             ],
             [
              0.1111111111111111,
              "#46039f"
             ],
             [
              0.2222222222222222,
              "#7201a8"
             ],
             [
              0.3333333333333333,
              "#9c179e"
             ],
             [
              0.4444444444444444,
              "#bd3786"
             ],
             [
              0.5555555555555556,
              "#d8576b"
             ],
             [
              0.6666666666666666,
              "#ed7953"
             ],
             [
              0.7777777777777778,
              "#fb9f3a"
             ],
             [
              0.8888888888888888,
              "#fdca26"
             ],
             [
              1,
              "#f0f921"
             ]
            ],
            "type": "histogram2d"
           }
          ],
          "histogram2dcontour": [
           {
            "colorbar": {
             "outlinewidth": 0,
             "ticks": ""
            },
            "colorscale": [
             [
              0,
              "#0d0887"
             ],
             [
              0.1111111111111111,
              "#46039f"
             ],
             [
              0.2222222222222222,
              "#7201a8"
             ],
             [
              0.3333333333333333,
              "#9c179e"
             ],
             [
              0.4444444444444444,
              "#bd3786"
             ],
             [
              0.5555555555555556,
              "#d8576b"
             ],
             [
              0.6666666666666666,
              "#ed7953"
             ],
             [
              0.7777777777777778,
              "#fb9f3a"
             ],
             [
              0.8888888888888888,
              "#fdca26"
             ],
             [
              1,
              "#f0f921"
             ]
            ],
            "type": "histogram2dcontour"
           }
          ],
          "mesh3d": [
           {
            "colorbar": {
             "outlinewidth": 0,
             "ticks": ""
            },
            "type": "mesh3d"
           }
          ],
          "parcoords": [
           {
            "line": {
             "colorbar": {
              "outlinewidth": 0,
              "ticks": ""
             }
            },
            "type": "parcoords"
           }
          ],
          "pie": [
           {
            "automargin": true,
            "type": "pie"
           }
          ],
          "scatter": [
           {
            "fillpattern": {
             "fillmode": "overlay",
             "size": 10,
             "solidity": 0.2
            },
            "type": "scatter"
           }
          ],
          "scatter3d": [
           {
            "line": {
             "colorbar": {
              "outlinewidth": 0,
              "ticks": ""
             }
            },
            "marker": {
             "colorbar": {
              "outlinewidth": 0,
              "ticks": ""
             }
            },
            "type": "scatter3d"
           }
          ],
          "scattercarpet": [
           {
            "marker": {
             "colorbar": {
              "outlinewidth": 0,
              "ticks": ""
             }
            },
            "type": "scattercarpet"
           }
          ],
          "scattergeo": [
           {
            "marker": {
             "colorbar": {
              "outlinewidth": 0,
              "ticks": ""
             }
            },
            "type": "scattergeo"
           }
          ],
          "scattergl": [
           {
            "marker": {
             "colorbar": {
              "outlinewidth": 0,
              "ticks": ""
             }
            },
            "type": "scattergl"
           }
          ],
          "scattermap": [
           {
            "marker": {
             "colorbar": {
              "outlinewidth": 0,
              "ticks": ""
             }
            },
            "type": "scattermap"
           }
          ],
          "scattermapbox": [
           {
            "marker": {
             "colorbar": {
              "outlinewidth": 0,
              "ticks": ""
             }
            },
            "type": "scattermapbox"
           }
          ],
          "scatterpolar": [
           {
            "marker": {
             "colorbar": {
              "outlinewidth": 0,
              "ticks": ""
             }
            },
            "type": "scatterpolar"
           }
          ],
          "scatterpolargl": [
           {
            "marker": {
             "colorbar": {
              "outlinewidth": 0,
              "ticks": ""
             }
            },
            "type": "scatterpolargl"
           }
          ],
          "scatterternary": [
           {
            "marker": {
             "colorbar": {
              "outlinewidth": 0,
              "ticks": ""
             }
            },
            "type": "scatterternary"
           }
          ],
          "surface": [
           {
            "colorbar": {
             "outlinewidth": 0,
             "ticks": ""
            },
            "colorscale": [
             [
              0,
              "#0d0887"
             ],
             [
              0.1111111111111111,
              "#46039f"
             ],
             [
              0.2222222222222222,
              "#7201a8"
             ],
             [
              0.3333333333333333,
              "#9c179e"
             ],
             [
              0.4444444444444444,
              "#bd3786"
             ],
             [
              0.5555555555555556,
              "#d8576b"
             ],
             [
              0.6666666666666666,
              "#ed7953"
             ],
             [
              0.7777777777777778,
              "#fb9f3a"
             ],
             [
              0.8888888888888888,
              "#fdca26"
             ],
             [
              1,
              "#f0f921"
             ]
            ],
            "type": "surface"
           }
          ],
          "table": [
           {
            "cells": {
             "fill": {
              "color": "#EBF0F8"
             },
             "line": {
              "color": "white"
             }
            },
            "header": {
             "fill": {
              "color": "#C8D4E3"
             },
             "line": {
              "color": "white"
             }
            },
            "type": "table"
           }
          ]
         },
         "layout": {
          "annotationdefaults": {
           "arrowcolor": "#2a3f5f",
           "arrowhead": 0,
           "arrowwidth": 1
          },
          "autotypenumbers": "strict",
          "coloraxis": {
           "colorbar": {
            "outlinewidth": 0,
            "ticks": ""
           }
          },
          "colorscale": {
           "diverging": [
            [
             0,
             "#8e0152"
            ],
            [
             0.1,
             "#c51b7d"
            ],
            [
             0.2,
             "#de77ae"
            ],
            [
             0.3,
             "#f1b6da"
            ],
            [
             0.4,
             "#fde0ef"
            ],
            [
             0.5,
             "#f7f7f7"
            ],
            [
             0.6,
             "#e6f5d0"
            ],
            [
             0.7,
             "#b8e186"
            ],
            [
             0.8,
             "#7fbc41"
            ],
            [
             0.9,
             "#4d9221"
            ],
            [
             1,
             "#276419"
            ]
           ],
           "sequential": [
            [
             0,
             "#0d0887"
            ],
            [
             0.1111111111111111,
             "#46039f"
            ],
            [
             0.2222222222222222,
             "#7201a8"
            ],
            [
             0.3333333333333333,
             "#9c179e"
            ],
            [
             0.4444444444444444,
             "#bd3786"
            ],
            [
             0.5555555555555556,
             "#d8576b"
            ],
            [
             0.6666666666666666,
             "#ed7953"
            ],
            [
             0.7777777777777778,
             "#fb9f3a"
            ],
            [
             0.8888888888888888,
             "#fdca26"
            ],
            [
             1,
             "#f0f921"
            ]
           ],
           "sequentialminus": [
            [
             0,
             "#0d0887"
            ],
            [
             0.1111111111111111,
             "#46039f"
            ],
            [
             0.2222222222222222,
             "#7201a8"
            ],
            [
             0.3333333333333333,
             "#9c179e"
            ],
            [
             0.4444444444444444,
             "#bd3786"
            ],
            [
             0.5555555555555556,
             "#d8576b"
            ],
            [
             0.6666666666666666,
             "#ed7953"
            ],
            [
             0.7777777777777778,
             "#fb9f3a"
            ],
            [
             0.8888888888888888,
             "#fdca26"
            ],
            [
             1,
             "#f0f921"
            ]
           ]
          },
          "colorway": [
           "#636efa",
           "#EF553B",
           "#00cc96",
           "#ab63fa",
           "#FFA15A",
           "#19d3f3",
           "#FF6692",
           "#B6E880",
           "#FF97FF",
           "#FECB52"
          ],
          "font": {
           "color": "#2a3f5f"
          },
          "geo": {
           "bgcolor": "white",
           "lakecolor": "white",
           "landcolor": "white",
           "showlakes": true,
           "showland": true,
           "subunitcolor": "#C8D4E3"
          },
          "hoverlabel": {
           "align": "left"
          },
          "hovermode": "closest",
          "mapbox": {
           "style": "light"
          },
          "paper_bgcolor": "white",
          "plot_bgcolor": "white",
          "polar": {
           "angularaxis": {
            "gridcolor": "#EBF0F8",
            "linecolor": "#EBF0F8",
            "ticks": ""
           },
           "bgcolor": "white",
           "radialaxis": {
            "gridcolor": "#EBF0F8",
            "linecolor": "#EBF0F8",
            "ticks": ""
           }
          },
          "scene": {
           "xaxis": {
            "backgroundcolor": "white",
            "gridcolor": "#DFE8F3",
            "gridwidth": 2,
            "linecolor": "#EBF0F8",
            "showbackground": true,
            "ticks": "",
            "zerolinecolor": "#EBF0F8"
           },
           "yaxis": {
            "backgroundcolor": "white",
            "gridcolor": "#DFE8F3",
            "gridwidth": 2,
            "linecolor": "#EBF0F8",
            "showbackground": true,
            "ticks": "",
            "zerolinecolor": "#EBF0F8"
           },
           "zaxis": {
            "backgroundcolor": "white",
            "gridcolor": "#DFE8F3",
            "gridwidth": 2,
            "linecolor": "#EBF0F8",
            "showbackground": true,
            "ticks": "",
            "zerolinecolor": "#EBF0F8"
           }
          },
          "shapedefaults": {
           "line": {
            "color": "#2a3f5f"
           }
          },
          "ternary": {
           "aaxis": {
            "gridcolor": "#DFE8F3",
            "linecolor": "#A2B1C6",
            "ticks": ""
           },
           "baxis": {
            "gridcolor": "#DFE8F3",
            "linecolor": "#A2B1C6",
            "ticks": ""
           },
           "bgcolor": "white",
           "caxis": {
            "gridcolor": "#DFE8F3",
            "linecolor": "#A2B1C6",
            "ticks": ""
           }
          },
          "title": {
           "x": 0.05
          },
          "xaxis": {
           "automargin": true,
           "gridcolor": "#EBF0F8",
           "linecolor": "#EBF0F8",
           "ticks": "",
           "title": {
            "standoff": 15
           },
           "zerolinecolor": "#EBF0F8",
           "zerolinewidth": 2
          },
          "yaxis": {
           "automargin": true,
           "gridcolor": "#EBF0F8",
           "linecolor": "#EBF0F8",
           "ticks": "",
           "title": {
            "standoff": 15
           },
           "zerolinecolor": "#EBF0F8",
           "zerolinewidth": 2
          }
         }
        },
        "title": {
         "text": "Distribución de Horas Extra por Departamento"
        },
        "xaxis": {
         "title": {
          "text": "Fecha"
         }
        },
        "yaxis": {
         "title": {
          "text": "Horas Extra"
         }
        }
       }
      }
     },
     "metadata": {},
     "output_type": "display_data"
    }
   ],
   "source": [
    "def Prueba_Dickey_Fuller(series, department, column_name):\n",
    "    \"\"\"\n",
    "    Realiza la prueba de Dickey-Fuller para analizar estacionalidad\n",
    "    \"\"\"\n",
    "    print(f'\\nAnálisis de Estacionalidad para {department}')\n",
    "    print(f'Resultados de la prueba de Dickey-Fuller para columna: {column_name}')\n",
    "    \n",
    "    # Realizar la prueba de Dickey-Fuller\n",
    "    dftest = adfuller(series, autolag='AIC')\n",
    "    \n",
    "    # Crear una serie de pandas con los resultados principales\n",
    "    dfoutput = pd.Series(dftest[0:4], index=['Test Statistic', 'p-value', 'No Lags Used', \n",
    "                                            'Número de observaciones utilizadas'])\n",
    "    \n",
    "    # Agregar los valores críticos al resultado\n",
    "    for key, value in dftest[4].items():\n",
    "        dfoutput[f'Critical Value ({key})'] = value\n",
    "    \n",
    "    # Mostrar los resultados\n",
    "    print(dfoutput)\n",
    "    \n",
    "    # Interpretar los resultados\n",
    "    if dftest[1] <= 0.05:\n",
    "        conclusion = \"Los datos tienen estacionalidad\"\n",
    "        decision = \"Rechazar la hipótesis nula\"\n",
    "    else:\n",
    "        conclusion = \"Los datos no tienen estacionalidad\"\n",
    "        decision = \"No se puede rechazar la hipótesis nula\"\n",
    "    \n",
    "    print(\"\\nConclusión:====>\")\n",
    "    print(decision)\n",
    "    print(conclusion)\n",
    "    \n",
    "    return {\n",
    "        'department': department,\n",
    "        'test_statistic': dftest[0],\n",
    "        'p_value': dftest[1],\n",
    "        'is_seasonal': dftest[1] <= 0.05\n",
    "    }\n",
    "\n",
    "# Realizar análisis de estacionalidad para cada departamento\n",
    "seasonality_results = []\n",
    "for department in historical_data['department'].unique():\n",
    "    dept_data = historical_data[historical_data['department'] == department]\n",
    "    \n",
    "    if len(dept_data) < 10:\n",
    "        print(f\"\\nAdvertencia: Datos insuficientes para {department}\")\n",
    "        continue\n",
    "        \n",
    "    result = Prueba_Dickey_Fuller(\n",
    "        dept_data[\"total_overtime\"],\n",
    "        department,\n",
    "        \"total_overtime\"\n",
    "    )\n",
    "    seasonality_results.append(result)\n",
    "\n",
    "# Crear DataFrame con resultados\n",
    "seasonality_df = pd.DataFrame(seasonality_results)\n",
    "print(\"\\nResumen de Estacionalidad por Departamento:\")\n",
    "display(seasonality_df)\n",
    "\n",
    "# Visualizar distribución de horas extra por departamento\n",
    "fig = go.Figure()\n",
    "for department in historical_data['department'].unique():\n",
    "    dept_data = historical_data[historical_data['department'] == department]\n",
    "    fig.add_trace(\n",
    "        go.Scatter(\n",
    "            x=dept_data['work_date'],\n",
    "            y=dept_data['total_overtime'],\n",
    "            name=department,\n",
    "            mode='lines+markers'\n",
    "        )\n",
    "    )\n",
    "\n",
    "fig.update_layout(\n",
    "    title='Distribución de Horas Extra por Departamento',\n",
    "    xaxis_title='Fecha',\n",
    "    yaxis_title='Horas Extra',\n",
    "    template='plotly_white',\n",
    "    showlegend=True\n",
    ")\n",
    "fig.show()"
   ]
  },
  {
   "cell_type": "markdown",
   "id": "1b8bd3ff",
   "metadata": {},
   "source": [
    "## 4. Entrenar Modelo SARIMA\n",
    "\n",
    "Crear y entrenar modelo SARIMA para cada departamento."
   ]
  },
  {
   "cell_type": "code",
   "execution_count": 90,
   "id": "7b095eea",
   "metadata": {},
   "outputs": [
    {
     "name": "stdout",
     "output_type": "stream",
     "text": [
      "Iniciando entrenamiento de modelos SARIMAX...\n",
      "\n",
      "Procesando departamento: Finance\n",
      "\n",
      "Resultados para Finance:\n",
      "Orden SARIMA: (0, 1, 1)\n",
      "Orden Seasonal: (0, 0, 0, 0)\n",
      "RMSE: 3.22\n",
      "MAE: 2.50\n",
      "SMAPE: 45.98%\n",
      "MASE: 0.89\n",
      "Calidad del modelo: Bueno\n",
      "\n",
      "Procesando departamento: HR\n",
      "\n",
      "Resultados para HR:\n",
      "Orden SARIMA: (3, 1, 1)\n",
      "Orden Seasonal: (0, 0, 0, 0)\n",
      "RMSE: 4.08\n",
      "MAE: 3.29\n",
      "SMAPE: 55.38%\n",
      "MASE: 0.64\n",
      "Calidad del modelo: Aceptable\n",
      "\n",
      "Procesando departamento: IT\n",
      "\n",
      "Resultados para IT:\n",
      "Orden SARIMA: (0, 1, 0)\n",
      "Orden Seasonal: (0, 0, 0, 0)\n",
      "RMSE: 8.88\n",
      "MAE: 7.34\n",
      "SMAPE: 89.34%\n",
      "MASE: 2.08\n",
      "Calidad del modelo: Pobre\n",
      "\n",
      "Procesando departamento: Inventory\n",
      "\n",
      "Resultados para Inventory:\n",
      "Orden SARIMA: (0, 1, 0)\n",
      "Orden Seasonal: (0, 0, 0, 0)\n",
      "RMSE: 6.09\n",
      "MAE: 4.36\n",
      "SMAPE: 79.45%\n",
      "MASE: 1.22\n",
      "Calidad del modelo: Aceptable\n",
      "\n",
      "Procesando departamento: Marketing\n",
      "\n",
      "Resultados para Marketing:\n",
      "Orden SARIMA: (2, 1, 0)\n",
      "Orden Seasonal: (0, 0, 0, 0)\n",
      "RMSE: 5.09\n",
      "MAE: 3.67\n",
      "SMAPE: 69.20%\n",
      "MASE: 0.87\n",
      "Calidad del modelo: Pobre\n",
      "\n",
      "Procesando departamento: Sales\n",
      "\n",
      "Resultados para Sales:\n",
      "Orden SARIMA: (0, 1, 1)\n",
      "Orden Seasonal: (0, 0, 0, 0)\n",
      "RMSE: 4.58\n",
      "MAE: 3.76\n",
      "SMAPE: 74.02%\n",
      "MASE: 0.93\n",
      "Calidad del modelo: Aceptable\n"
     ]
    }
   ],
   "source": [
    "\n",
    "\n",
    "def calculate_smape(y_true, y_pred):\n",
    "    \"\"\"Calcula SMAPE para manejar valores cero.\"\"\"\n",
    "    denominator = (np.abs(y_true) + np.abs(y_pred)) / 2\n",
    "    non_zero_mask = denominator != 0\n",
    "    if np.any(non_zero_mask):\n",
    "        smape = np.mean(np.abs(y_true[non_zero_mask] - y_pred[non_zero_mask]) / \n",
    "                        denominator[non_zero_mask]) * 100\n",
    "        return min(smape, 100)\n",
    "    return np.mean(np.abs(y_true - y_pred))\n",
    "\n",
    "def calculate_mase(y_true, y_pred, train_data, period=1):\n",
    "    \"\"\"Calcula MASE comparando con un modelo ingenuo (shifted).\"\"\"\n",
    "    naive_forecast = train_data.shift(period).dropna()\n",
    "    naive_error = np.abs(naive_forecast - train_data[period:])\n",
    "    mean_naive_error = np.mean(naive_error) if len(naive_error) > 0 else np.inf\n",
    "    mae = np.mean(np.abs(y_true - y_pred))\n",
    "    return mae / mean_naive_error if mean_naive_error != 0 else np.inf\n",
    "\n",
    "def evaluate_model_quality(metrics, residuals, test_size):\n",
    "    \"\"\"\n",
    "    Evalúa la calidad del modelo según métricas y residuos.\n",
    "    Retorna una clasificación: 'Bueno', 'Aceptable' o 'Pobre'.\n",
    "    \"\"\"\n",
    "    rmse = metrics['rmse']\n",
    "    mae = metrics['mae']\n",
    "    smape = metrics['smape']\n",
    "    mase = metrics['mase']\n",
    "    \n",
    "    lb_test = acorr_ljungbox(residuals, lags=[min(4, len(residuals)-1)], return_df=True)\n",
    "    lb_pvalue = lb_test['lb_pvalue'].iloc[0] if len(lb_test) > 0 else 0\n",
    "    residual_mean = np.mean(residuals)\n",
    "    \n",
    "    is_good = (\n",
    "        rmse < 5.0 and\n",
    "        mae < 4.0 and\n",
    "        smape < 60 and\n",
    "        mase < 1.0 and\n",
    "        lb_pvalue > 0.05 and\n",
    "        abs(residual_mean) < 0.5\n",
    "    )\n",
    "    \n",
    "    is_acceptable = (\n",
    "        rmse < 7.0 and\n",
    "        mae < 6.0 and\n",
    "        smape < 85 and\n",
    "        mase < 1.5 and\n",
    "        lb_pvalue > 0.01 and\n",
    "        abs(residual_mean) < 1.0\n",
    "    )\n",
    "    \n",
    "    if is_good:\n",
    "        return \"Bueno\"\n",
    "    elif is_acceptable:\n",
    "        return \"Aceptable\"\n",
    "    else:\n",
    "        return \"Pobre\"\n",
    "\n",
    "def train_sarimax_model(dept_data, exog_cols=None):\n",
    "    \"\"\"\n",
    "    Entrena modelo SARIMAX con Auto-ARIMA para datos de overtime.\n",
    "    exog_cols: lista de columnas exógenas, si existen.\n",
    "    \"\"\"\n",
    "    # Preparar datos \n",
    "    df = dept_data[['work_date', 'total_overtime'] + (exog_cols if exog_cols else [])].copy()\n",
    "    df.set_index('work_date', inplace=True)\n",
    "    \n",
    "    # Verificar datos faltantes\n",
    "    if df[exog_cols].isna().any().any() if exog_cols else False:\n",
    "        logging.error(f\"Datos faltantes en variables exógenas para {dept_data['department'].iloc[0]}\")\n",
    "        return None, {'error': 'Datos faltantes en variables exógenas'}\n",
    "    \n",
    "    # Split 80-20 manteniendo orden temporal\n",
    "    train_size = int(len(df) * 0.8)\n",
    "    train = df[:train_size]\n",
    "    test = df[train_size:]\n",
    "    \n",
    "    if len(test) < 2:\n",
    "        logging.error(f\"Datos de prueba insuficientes para {dept_data['department'].iloc[0]}\")\n",
    "        return None, {'error': 'Datos de prueba insuficientes'}\n",
    "    \n",
    "    # Verificar varianza en los datos\n",
    "    if train['total_overtime'].std() == 0:\n",
    "        logging.error(f\"Datos de entrenamiento sin varianza para {dept_data['department'].iloc[0]}\")\n",
    "        return None, {'error': 'Datos de entrenamiento sin varianza'}\n",
    "    \n",
    "    # Preparar variables exógenas\n",
    "    exog_train = train[exog_cols] if exog_cols else None\n",
    "    exog_test = test[exog_cols] if exog_cols else None\n",
    "    \n",
    "    # Encontrar mejores parámetros con Auto-ARIMA\n",
    "    try:\n",
    "        modelo_auto = auto_arima(\n",
    "            train['total_overtime'],\n",
    "            exogenous=exog_train,\n",
    "            start_p=0, d=1, start_q=0,\n",
    "            max_p=4, max_d=2, max_q=4, \n",
    "            start_P=0, D=1, start_Q=0,\n",
    "            max_P=2, max_D=1, max_Q=2,\n",
    "            m=13, seasonal=False,\n",
    "            error_action='warn',\n",
    "            trace=False,\n",
    "            suppress_warnings=True,\n",
    "            stepwise=True,\n",
    "            random_state=20,\n",
    "            n_fits=50\n",
    "        )\n",
    "        \n",
    "        # Obtener orden del modelo\n",
    "        order = modelo_auto.order\n",
    "        seasonal_order = modelo_auto.seasonal_order\n",
    "        \n",
    "        # Entrenar modelo final SARIMAX\n",
    "        final_model = SARIMAX(\n",
    "            df['total_overtime'],\n",
    "            exog=df[exog_cols] if exog_cols else None,\n",
    "            order=order,\n",
    "            seasonal_order=seasonal_order\n",
    "        )\n",
    "        model_fit = final_model.fit(disp=False)\n",
    "        \n",
    "        # Evaluar modelo en datos de prueba\n",
    "        predictions = model_fit.predict(\n",
    "            start=test.index[0], \n",
    "            end=test.index[-1],\n",
    "            exog=exog_test\n",
    "        )\n",
    "        y_true = test['total_overtime'].values\n",
    "        y_pred = predictions.values\n",
    "        \n",
    "        # Verificar si las predicciones son válidas\n",
    "        if np.any(np.isnan(y_pred)):\n",
    "            logging.error(f\"Predicciones inválidas (NaN) para {dept_data['department'].iloc[0]}\")\n",
    "            return None, {'error': 'Predicciones inválidas (NaN)'}\n",
    "        \n",
    "        # Calcular métricas\n",
    "        metrics = {\n",
    "            'rmse': np.sqrt(mean_squared_error(y_true, y_pred)),\n",
    "            'mae': mean_absolute_error(y_true, y_pred),\n",
    "            'smape': calculate_smape(y_true, y_pred),\n",
    "            'mase': calculate_mase(y_true, y_pred, train['total_overtime'], period=1),\n",
    "            'order': order,\n",
    "            'seasonal_order': seasonal_order,\n",
    "            'train_size': len(train),\n",
    "            'test_size': len(test)\n",
    "        }\n",
    "        \n",
    "        # Calcular residuos en datos de prueba\n",
    "        residuals = y_true - y_pred\n",
    "        \n",
    "        # Evaluar calidad del modelo\n",
    "        metrics['quality'] = evaluate_model_quality(metrics, residuals, len(test))\n",
    "        \n",
    "        return model_fit, metrics\n",
    "    \n",
    "    except Exception as e:\n",
    "        logging.error(f\"Error entrenando modelo SARIMAX para {dept_data['department'].iloc[0]}: {str(e)}\")\n",
    "        return None, {'error': f\"Excepción: {str(e)}\"}\n",
    "\n",
    "def add_exogenous_variables(df):\n",
    "    \"\"\"\n",
    "    Agrega variables exógenas de ejemplo (is_weekend, month).\n",
    "    Modificar según variables reales disponibles.\n",
    "    \"\"\"\n",
    "    df = df.copy()\n",
    "    df['is_weekend'] = df['work_date'].dt.dayofweek.isin([5, 6]).astype(int)\n",
    "    df['month'] = df['work_date'].dt.month\n",
    "    return df\n",
    "\n",
    "# Reiniciar variables de almacenamiento\n",
    "department_models = {}\n",
    "metrics = {}\n",
    "department_forecasts = {}\n",
    "\n",
    "# Agregar variables exógenas al DataFrame\n",
    "historical_data = add_exogenous_variables(historical_data)\n",
    "\n",
    "# Definir columnas exógenas\n",
    "exog_cols = ['is_weekend', 'month']  # Ajustar según variables reales\n",
    "\n",
    "print(\"Iniciando entrenamiento de modelos SARIMAX...\")\n",
    "\n",
    "# Iterar sobre cada departamento\n",
    "for department in historical_data['department'].unique():\n",
    "    print(f\"\\nProcesando departamento: {department}\")\n",
    "    dept_data = historical_data[historical_data['department'] == department]\n",
    "    \n",
    "    if len(dept_data) < 10:\n",
    "        print(f\"Advertencia: Datos insuficientes para {department}\")\n",
    "        continue\n",
    "    \n",
    "    # Entrenar modelo SARIMAX\n",
    "    model, model_metrics = train_sarimax_model(dept_data, exog_cols=exog_cols)\n",
    "    \n",
    "    if model is None:\n",
    "        print(f\"Error: No se pudo entrenar el modelo para {department}: {model_metrics.get('error', 'Error desconocido')}\")\n",
    "        continue\n",
    "        \n",
    "    # Almacenar resultados\n",
    "    department_models[department] = model\n",
    "    metrics[department] = model_metrics\n",
    "    \n",
    "    # Mostrar resultados\n",
    "    print(f\"\\nResultados para {department}:\")\n",
    "    print(f\"Orden SARIMA: {model_metrics['order']}\")\n",
    "    print(f\"Orden Seasonal: {model_metrics['seasonal_order']}\")\n",
    "    print(f\"RMSE: {model_metrics['rmse']:.2f}\")\n",
    "    print(f\"MAE: {model_metrics['mae']:.2f}\")\n",
    "    print(f\"SMAPE: {model_metrics['smape']:.2f}%\")\n",
    "    print(f\"MASE: {model_metrics['mase']:.2f}\")\n",
    "    print(f\"Calidad del modelo: {model_metrics['quality']}\")"
   ]
  },
  {
   "cell_type": "markdown",
   "id": "c6d8a732",
   "metadata": {},
   "source": [
    "## 5. Generar Predicciones\n",
    "\n",
    "Predicción para las próximas 4 semanas de Overtime"
   ]
  },
  {
   "cell_type": "code",
   "execution_count": 91,
   "id": "0406a28e",
   "metadata": {},
   "outputs": [
    {
     "name": "stdout",
     "output_type": "stream",
     "text": [
      "\n",
      "Generando predicciones para las próximas 4 semanas...\n",
      "\n",
      "Procesando departamento: Finance\n",
      "\n",
      "Predicciones para Finance:\n",
      "\n",
      "Fecha\t\tPredicción\tIntervalo de Confianza\n",
      "------------------------------------------------------------\n",
      "2025-06-01\t5.90\t\t(0.00, 12.20)\n",
      "2025-06-08\t5.90\t\t(0.00, 12.23)\n",
      "2025-06-15\t5.90\t\t(0.00, 12.25)\n",
      "2025-06-22\t5.90\t\t(0.00, 12.27)\n",
      "\n",
      "Procesando departamento: HR\n",
      "\n",
      "Predicciones para HR:\n",
      "\n",
      "Fecha\t\tPredicción\tIntervalo de Confianza\n",
      "------------------------------------------------------------\n",
      "2025-06-01\t9.47\t\t(1.54, 17.41)\n",
      "2025-06-08\t8.94\t\t(0.99, 16.89)\n",
      "2025-06-15\t7.60\t\t(0.00, 15.63)\n",
      "2025-06-22\t4.54\t\t(0.00, 12.57)\n",
      "\n",
      "Procesando departamento: IT\n",
      "\n",
      "Predicciones para IT:\n",
      "\n",
      "Fecha\t\tPredicción\tIntervalo de Confianza\n",
      "------------------------------------------------------------\n",
      "2025-06-01\t1.09\t\t(0.00, 11.79)\n",
      "2025-06-08\t1.09\t\t(0.00, 16.22)\n",
      "2025-06-15\t1.09\t\t(0.00, 19.62)\n",
      "2025-06-22\t1.09\t\t(0.00, 22.49)\n",
      "\n",
      "Procesando departamento: Inventory\n",
      "\n",
      "Predicciones para Inventory:\n",
      "\n",
      "Fecha\t\tPredicción\tIntervalo de Confianza\n",
      "------------------------------------------------------------\n",
      "2025-06-01\t3.41\t\t(0.00, 12.33)\n",
      "2025-06-08\t3.41\t\t(0.00, 16.03)\n",
      "2025-06-15\t3.41\t\t(0.00, 18.86)\n",
      "2025-06-22\t3.41\t\t(0.00, 21.25)\n",
      "\n",
      "Procesando departamento: Marketing\n",
      "\n",
      "Predicciones para Marketing:\n",
      "\n",
      "Fecha\t\tPredicción\tIntervalo de Confianza\n",
      "------------------------------------------------------------\n",
      "2025-06-01\t1.78\t\t(0.00, 11.08)\n",
      "2025-06-08\t2.00\t\t(0.00, 12.27)\n",
      "2025-06-15\t1.52\t\t(0.00, 12.85)\n",
      "2025-06-22\t1.72\t\t(0.00, 14.42)\n",
      "\n",
      "Procesando departamento: Sales\n",
      "\n",
      "Predicciones para Sales:\n",
      "\n",
      "Fecha\t\tPredicción\tIntervalo de Confianza\n",
      "------------------------------------------------------------\n",
      "2025-06-01\t2.88\t\t(0.00, 11.25)\n",
      "2025-06-08\t2.88\t\t(0.00, 12.44)\n",
      "2025-06-15\t2.88\t\t(0.00, 13.50)\n",
      "2025-06-22\t2.88\t\t(0.00, 14.47)\n",
      "\n",
      "Predicciones generadas para departamentos: ['Finance', 'HR', 'IT', 'Inventory', 'Marketing', 'Sales']\n"
     ]
    }
   ],
   "source": [
    "\n",
    "\n",
    "def generate_predictions_sarimax(model, last_date, dept_data, exog_cols=None, periods=4, freq='W'):\n",
    "  \n",
    "    # Validar entradas\n",
    "    if model is None:\n",
    "        return pd.DataFrame(), f\"Modelo no válido para el departamento\"\n",
    "    \n",
    "    if not isinstance(last_date, pd.Timestamp):\n",
    "        try:\n",
    "            last_date = pd.to_datetime(last_date)\n",
    "        except:\n",
    "            return pd.DataFrame(), f\"Fecha inválida: {last_date}\"\n",
    "    \n",
    "    if periods < 1:\n",
    "        return pd.DataFrame(), f\"Número de períodos inválido: {periods}\"\n",
    "    \n",
    "    # Generar fechas futuras\n",
    "    future_dates = pd.date_range(start=last_date, periods=periods+1, freq=freq)[1:]\n",
    "    \n",
    "    # Preparar variables exógenas futuras\n",
    "    if exog_cols:\n",
    "        # Crear DataFrame para variables exógenas futuras\n",
    "        future_exog = pd.DataFrame(index=future_dates)\n",
    "        future_exog['is_weekend'] = future_exog.index.dayofweek.isin([5, 6]).astype(int)\n",
    "        future_exog['month'] = future_exog.index.month\n",
    "        \n",
    "        # Verificar que todas las columnas exógenas estén presentes\n",
    "        missing_cols = [col for col in exog_cols if col not in future_exog.columns]\n",
    "        if missing_cols:\n",
    "            return pd.DataFrame(), f\"Columnas exógenas faltantes: {missing_cols}\"\n",
    "    else:\n",
    "        future_exog = None\n",
    "    \n",
    "    # Obtener predicciones y sus intervalos de confianza\n",
    "    try:\n",
    "        forecast = model.get_forecast(steps=periods, exog=future_exog)\n",
    "        mean_forecast = forecast.predicted_mean\n",
    "        confidence_int = forecast.conf_int()\n",
    "        \n",
    "        # Truncar predicciones negativas a cero\n",
    "        mean_forecast = np.maximum(mean_forecast, 0)\n",
    "        confidence_int.iloc[:, 0] = np.maximum(confidence_int.iloc[:, 0], 0)  # yhat_lower\n",
    "        confidence_int.iloc[:, 1] = np.maximum(confidence_int.iloc[:, 1], 0)  # yhat_upper\n",
    "        \n",
    "        # Crear DataFrame con las predicciones\n",
    "        predictions_df = pd.DataFrame({\n",
    "            'ds': future_dates,\n",
    "            'yhat': mean_forecast,\n",
    "            'yhat_lower': confidence_int.iloc[:, 0],\n",
    "            'yhat_upper': confidence_int.iloc[:, 1]\n",
    "        })\n",
    "        \n",
    "        return predictions_df, None\n",
    "    \n",
    "    except Exception as e:\n",
    "        return pd.DataFrame(), f\"Error generando predicciones: {str(e)}\"\n",
    "\n",
    "# Generar predicciones para cada departamento\n",
    "department_forecasts = {}\n",
    "print(\"\\nGenerando predicciones para las próximas 4 semanas...\")\n",
    "\n",
    "for department, model in department_models.items():\n",
    "    print(f\"\\nProcesando departamento: {department}\")\n",
    "    \n",
    "    # Obtener datos históricos del departamento\n",
    "    dept_data = historical_data[historical_data['department'] == department]\n",
    "    if dept_data.empty:\n",
    "        print(f\"Error: No hay datos históricos para {department}\")\n",
    "        continue\n",
    "    \n",
    "    # Obtener última fecha de datos históricos\n",
    "    last_date = dept_data['work_date'].max()\n",
    "    \n",
    "    # Generar predicciones\n",
    "    forecast, error = generate_predictions_sarimax(\n",
    "        model, \n",
    "        last_date, \n",
    "        dept_data, \n",
    "        exog_cols=['is_weekend', 'month'],  # Ajustar según variables exógenas\n",
    "        periods=4,\n",
    "        freq='W'\n",
    "    )\n",
    "    \n",
    "    if error:\n",
    "        print(f\"Error generando predicciones para {department}: {error}\")\n",
    "        continue\n",
    "    \n",
    "    # Almacenar predicciones\n",
    "    department_forecasts[department] = forecast\n",
    "    \n",
    "    # Mostrar predicciones\n",
    "    print(f\"\\nPredicciones para {department}:\")\n",
    "    print(\"\\nFecha\\t\\tPredicción\\tIntervalo de Confianza\")\n",
    "    print(\"-\" * 60)\n",
    "    for _, row in forecast.iterrows():\n",
    "        print(f\"{row['ds'].strftime('%Y-%m-%d')}\\t{row['yhat']:.2f}\\t\\t({row['yhat_lower']:.2f}, {row['yhat_upper']:.2f})\")\n",
    "\n",
    "print(\"\\nPredicciones generadas para departamentos:\", list(department_forecasts.keys()))"
   ]
  },
  {
   "cell_type": "markdown",
   "id": "370e02cf",
   "metadata": {},
   "source": [
    "## 6. Visualización de Resultados\n",
    "\n",
    "Datos históricos de 24 semanas más pronósticos e intervalos de confianza para las próximas 4 semanas."
   ]
  },
  {
   "cell_type": "code",
   "execution_count": 92,
   "id": "fbb40784",
   "metadata": {},
   "outputs": [
    {
     "name": "stdout",
     "output_type": "stream",
     "text": [
      "\n",
      "Generando visualizaciones...\n"
     ]
    },
    {
     "data": {
      "application/vnd.plotly.v1+json": {
       "config": {
        "plotlyServerURL": "https://plot.ly"
       },
       "data": [
        {
         "customdata": {
          "bdata": "kmlIsay2FEAAAAAAAAAAAPbKPCAV9iZA8t30zmxIFEAAAAAAAAAAAIJaiVO/viZAsISCQ9/wE0AAAAAAAAAAAGAUbILLkiZAY1xUQC2gF0AAAAAAAAAAAJEaL9JMaihAFhD7PUBkF0AAAAAAAAAAAPu7gMk2TChAXfK141QMF0AAAAAAAAAAAIK7uLkmIChAG5yutcGNFkAAAAAAAAAAAFLuUA3H4CdAKHX/W4mNGEAAAAAAAAAAANGeQmSY4ChAmlP/1RaLGUDA1H8fl+O1P/BTwKdPXylAqk4v4N9MGEAAAAAAAAAAAL+NQjgnwChAJES+xCY+GkAgw01h3qzQPwvWs9G/uClAQv6b9d2fGUCAvOpD0CW7P8koFFWSaSlAFuHW5qFuGUCAHvADNLWtP/jw0rLsUClAYGBgHHuPGkAwIG6hBcXVP17vVO9S4SlA+sHGn//1GEAAAAAAAAAAAIHk2NuPFClAEvv9gqTnF0AAAAAAAAAAAMoMN9ZdjShAzHr2nqyTF0AAAAAAAAAAADrpzCZeYyhA+DxiiUN1GEAAAAAAAAAAAKr1OXom1ChA0c7XW7D+F0AAAAAAAAAAADSL+0PamChAu8nSG07aF0AAAAAAAAAAAKS4n/GmhihASX2ixkLPFkAAAAAAAAAAAETLEHAfAShAMu43okMJF0AAAAAAAAAAAC6UbFMeHihA76QD8p5dF0AAAAAAAAAAALQL+7BKSChAXXo2SpOjGUBATzTmwCe8P74RashDaylA",
          "dtype": "f8",
          "shape": "24, 3"
         },
         "hovertemplate": "<b>Fecha:</b> %{x}<br><b>Valor Real:</b> %{y:.1f}<br><b>Predicción:</b> %{customdata[0]:.1f}<br><b>IC Inferior:</b> %{customdata[1]:.1f}<br><b>IC Superior:</b> %{customdata[2]:.1f}<extra></extra>",
         "line": {
          "color": "blue"
         },
         "mode": "markers+lines",
         "name": "Datos Históricos",
         "type": "scatter",
         "x": [
          "2024-12-15T00:00:00.000000000",
          "2024-12-22T00:00:00.000000000",
          "2024-12-29T00:00:00.000000000",
          "2025-01-05T00:00:00.000000000",
          "2025-01-12T00:00:00.000000000",
          "2025-01-19T00:00:00.000000000",
          "2025-01-26T00:00:00.000000000",
          "2025-02-02T00:00:00.000000000",
          "2025-02-09T00:00:00.000000000",
          "2025-02-16T00:00:00.000000000",
          "2025-02-23T00:00:00.000000000",
          "2025-03-02T00:00:00.000000000",
          "2025-03-09T00:00:00.000000000",
          "2025-03-16T00:00:00.000000000",
          "2025-03-23T00:00:00.000000000",
          "2025-03-30T00:00:00.000000000",
          "2025-04-06T00:00:00.000000000",
          "2025-04-13T00:00:00.000000000",
          "2025-04-20T00:00:00.000000000",
          "2025-04-27T00:00:00.000000000",
          "2025-05-04T00:00:00.000000000",
          "2025-05-11T00:00:00.000000000",
          "2025-05-18T00:00:00.000000000",
          "2025-05-25T00:00:00.000000000"
         ],
         "y": {
          "bdata": "XI/C9ShcD0BI4XoUrkcQQLgehetRuAhA4XoUrkfhFEBcj8L1KFwTQD4K16NwPRFA16NwPQpXKUCamZmZmRkiQNejcD0K1wVAFK5H4XqUJ0CamZmZmZkXQFyPwvUoXBdAXI/C9ShcI0DiehSuR+H+PwrXo3A9CglArkfhehSuGEB7FK5H4fogQAAAAAAAABNAUrgehetRFkAzMzMzMzMQQHsUrkfhehlA7FG4HoXrGkAUrkfhehQpQJqZmZmZmfk/",
          "dtype": "f8"
         }
        },
        {
         "customdata": {
          "bdata": "AAAAAAAAAAD2yjwgFfYmQAAAAAAAAAAAglqJU7++JkAAAAAAAAAAAGAUbILLkiZAAAAAAAAAAACRGi/STGooQAAAAAAAAAAA+7uAyTZMKEAAAAAAAAAAAIK7uLkmIChAAAAAAAAAAABS7lANx+AnQAAAAAAAAAAA0Z5CZJjgKEDA1H8fl+O1P/BTwKdPXylAAAAAAAAAAAC/jUI4J8AoQCDDTWHerNA/C9az0b+4KUCAvOpD0CW7P8koFFWSaSlAgB7wAzS1rT/48NKy7FApQDAgbqEFxdU/Xu9U71LhKUAAAAAAAAAAAIHk2NuPFClAAAAAAAAAAADKDDfWXY0oQAAAAAAAAAAAOunMJl5jKEAAAAAAAAAAAKr1OXom1ChAAAAAAAAAAAA0i/tD2pgoQAAAAAAAAAAApLif8aaGKEAAAAAAAAAAAETLEHAfAShAAAAAAAAAAAAulGxTHh4oQAAAAAAAAAAAtAv7sEpIKEBATzTmwCe8P74RashDaylAAAAAAAAAAAC6iqvE7mcoQAAAAAAAAAAA3y+tKIRzKEAAAAAAAAAAADQV1PkOfyhAAAAAAAAAAAAzXeBUj4ooQA==",
          "dtype": "f8",
          "shape": "28, 2"
         },
         "hovertemplate": "<b>Fecha:</b> %{x}<br><b>Predicción:</b> %{y:.1f}<br><b>IC Inferior:</b> %{customdata[0]:.1f}<br><b>IC Superior:</b> %{customdata[1]:.1f}<extra></extra>",
         "line": {
          "color": "red"
         },
         "mode": "lines",
         "name": "Predicción",
         "type": "scatter",
         "x": [
          "2024-12-15T00:00:00.000000000",
          "2024-12-22T00:00:00.000000000",
          "2024-12-29T00:00:00.000000000",
          "2025-01-05T00:00:00.000000000",
          "2025-01-12T00:00:00.000000000",
          "2025-01-19T00:00:00.000000000",
          "2025-01-26T00:00:00.000000000",
          "2025-02-02T00:00:00.000000000",
          "2025-02-09T00:00:00.000000000",
          "2025-02-16T00:00:00.000000000",
          "2025-02-23T00:00:00.000000000",
          "2025-03-02T00:00:00.000000000",
          "2025-03-09T00:00:00.000000000",
          "2025-03-16T00:00:00.000000000",
          "2025-03-23T00:00:00.000000000",
          "2025-03-30T00:00:00.000000000",
          "2025-04-06T00:00:00.000000000",
          "2025-04-13T00:00:00.000000000",
          "2025-04-20T00:00:00.000000000",
          "2025-04-27T00:00:00.000000000",
          "2025-05-04T00:00:00.000000000",
          "2025-05-11T00:00:00.000000000",
          "2025-05-18T00:00:00.000000000",
          "2025-05-25T00:00:00.000000000",
          "2025-06-01T00:00:00.000000000",
          "2025-06-08T00:00:00.000000000",
          "2025-06-15T00:00:00.000000000",
          "2025-06-22T00:00:00.000000000"
         ],
         "y": {
          "bdata": "kmlIsay2FEDy3fTObEgUQLCEgkPf8BNAY1xUQC2gF0AWEPs9QGQXQF3yteNUDBdAG5yutcGNFkAodf9biY0YQJpT/9UWixlAqk4v4N9MGEAkRL7EJj4aQEL+m/XdnxlAFuHW5qFuGUBgYGAce48aQPrBxp//9RhAEvv9gqTnF0DMevaerJMXQPg8YolDdRhA0c7XW7D+F0C7ydIbTtoXQEl9osZCzxZAMu43okMJF0DvpAPynl0XQF16NkqToxlAbk0mEuucF0BuTSYS65wXQG5NJhLrnBdAbk0mEuucF0A=",
          "dtype": "f8"
         }
        },
        {
         "fill": "toself",
         "fillcolor": "rgba(211,211,211,0.3)",
         "hoverinfo": "skip",
         "line": {
          "color": "rgba(255,255,255,0)"
         },
         "name": "Intervalo de Confianza 95%",
         "showlegend": true,
         "type": "scatter",
         "x": [
          "2024-12-15T00:00:00",
          "2024-12-22T00:00:00",
          "2024-12-29T00:00:00",
          "2025-01-05T00:00:00",
          "2025-01-12T00:00:00",
          "2025-01-19T00:00:00",
          "2025-01-26T00:00:00",
          "2025-02-02T00:00:00",
          "2025-02-09T00:00:00",
          "2025-02-16T00:00:00",
          "2025-02-23T00:00:00",
          "2025-03-02T00:00:00",
          "2025-03-09T00:00:00",
          "2025-03-16T00:00:00",
          "2025-03-23T00:00:00",
          "2025-03-30T00:00:00",
          "2025-04-06T00:00:00",
          "2025-04-13T00:00:00",
          "2025-04-20T00:00:00",
          "2025-04-27T00:00:00",
          "2025-05-04T00:00:00",
          "2025-05-11T00:00:00",
          "2025-05-18T00:00:00",
          "2025-05-25T00:00:00",
          "2025-06-01T00:00:00",
          "2025-06-08T00:00:00",
          "2025-06-15T00:00:00",
          "2025-06-22T00:00:00",
          "2025-06-22T00:00:00",
          "2025-06-15T00:00:00",
          "2025-06-08T00:00:00",
          "2025-06-01T00:00:00",
          "2025-05-25T00:00:00",
          "2025-05-18T00:00:00",
          "2025-05-11T00:00:00",
          "2025-05-04T00:00:00",
          "2025-04-27T00:00:00",
          "2025-04-20T00:00:00",
          "2025-04-13T00:00:00",
          "2025-04-06T00:00:00",
          "2025-03-30T00:00:00",
          "2025-03-23T00:00:00",
          "2025-03-16T00:00:00",
          "2025-03-09T00:00:00",
          "2025-03-02T00:00:00",
          "2025-02-23T00:00:00",
          "2025-02-16T00:00:00",
          "2025-02-09T00:00:00",
          "2025-02-02T00:00:00",
          "2025-01-26T00:00:00",
          "2025-01-19T00:00:00",
          "2025-01-12T00:00:00",
          "2025-01-05T00:00:00",
          "2024-12-29T00:00:00",
          "2024-12-22T00:00:00",
          "2024-12-15T00:00:00"
         ],
         "y": [
          11.480629928036688,
          11.372553453938284,
          11.286708903973874,
          12.207617347955678,
          12.148855492558132,
          12.062795451927517,
          11.939018646363511,
          12.438662655956621,
          12.68615459654572,
          12.375299223064642,
          12.860838463976526,
          12.706194552145819,
          12.658055866479557,
          12.940085867994352,
          12.540160055376193,
          12.276106542797056,
          12.194077694428973,
          12.414356059622907,
          12.29854023404696,
          12.262992430445884,
          12.002192976045656,
          12.058825118068935,
          12.14119484962962,
          12.709501517246164,
          12.202993532123731,
          12.22561766733264,
          12.248161131991402,
          12.270624782932464,
          0,
          0,
          0,
          0,
          0.10998159046385769,
          0,
          0,
          0,
          0,
          0,
          0,
          0,
          0,
          0,
          0.3401502682177151,
          0.05802309558935992,
          0.10604573877457035,
          0.26055106642074755,
          0,
          0.0855040027525602,
          0,
          0,
          0,
          0,
          0,
          0,
          0,
          0
         ]
        }
       ],
       "layout": {
        "hovermode": "x unified",
        "legend": {
         "orientation": "h",
         "x": 0.5,
         "xanchor": "center",
         "y": -0.4,
         "yanchor": "bottom"
        },
        "showlegend": true,
        "template": {
         "data": {
          "bar": [
           {
            "error_x": {
             "color": "#2a3f5f"
            },
            "error_y": {
             "color": "#2a3f5f"
            },
            "marker": {
             "line": {
              "color": "white",
              "width": 0.5
             },
             "pattern": {
              "fillmode": "overlay",
              "size": 10,
              "solidity": 0.2
             }
            },
            "type": "bar"
           }
          ],
          "barpolar": [
           {
            "marker": {
             "line": {
              "color": "white",
              "width": 0.5
             },
             "pattern": {
              "fillmode": "overlay",
              "size": 10,
              "solidity": 0.2
             }
            },
            "type": "barpolar"
           }
          ],
          "carpet": [
           {
            "aaxis": {
             "endlinecolor": "#2a3f5f",
             "gridcolor": "#C8D4E3",
             "linecolor": "#C8D4E3",
             "minorgridcolor": "#C8D4E3",
             "startlinecolor": "#2a3f5f"
            },
            "baxis": {
             "endlinecolor": "#2a3f5f",
             "gridcolor": "#C8D4E3",
             "linecolor": "#C8D4E3",
             "minorgridcolor": "#C8D4E3",
             "startlinecolor": "#2a3f5f"
            },
            "type": "carpet"
           }
          ],
          "choropleth": [
           {
            "colorbar": {
             "outlinewidth": 0,
             "ticks": ""
            },
            "type": "choropleth"
           }
          ],
          "contour": [
           {
            "colorbar": {
             "outlinewidth": 0,
             "ticks": ""
            },
            "colorscale": [
             [
              0,
              "#0d0887"
             ],
             [
              0.1111111111111111,
              "#46039f"
             ],
             [
              0.2222222222222222,
              "#7201a8"
             ],
             [
              0.3333333333333333,
              "#9c179e"
             ],
             [
              0.4444444444444444,
              "#bd3786"
             ],
             [
              0.5555555555555556,
              "#d8576b"
             ],
             [
              0.6666666666666666,
              "#ed7953"
             ],
             [
              0.7777777777777778,
              "#fb9f3a"
             ],
             [
              0.8888888888888888,
              "#fdca26"
             ],
             [
              1,
              "#f0f921"
             ]
            ],
            "type": "contour"
           }
          ],
          "contourcarpet": [
           {
            "colorbar": {
             "outlinewidth": 0,
             "ticks": ""
            },
            "type": "contourcarpet"
           }
          ],
          "heatmap": [
           {
            "colorbar": {
             "outlinewidth": 0,
             "ticks": ""
            },
            "colorscale": [
             [
              0,
              "#0d0887"
             ],
             [
              0.1111111111111111,
              "#46039f"
             ],
             [
              0.2222222222222222,
              "#7201a8"
             ],
             [
              0.3333333333333333,
              "#9c179e"
             ],
             [
              0.4444444444444444,
              "#bd3786"
             ],
             [
              0.5555555555555556,
              "#d8576b"
             ],
             [
              0.6666666666666666,
              "#ed7953"
             ],
             [
              0.7777777777777778,
              "#fb9f3a"
             ],
             [
              0.8888888888888888,
              "#fdca26"
             ],
             [
              1,
              "#f0f921"
             ]
            ],
            "type": "heatmap"
           }
          ],
          "histogram": [
           {
            "marker": {
             "pattern": {
              "fillmode": "overlay",
              "size": 10,
              "solidity": 0.2
             }
            },
            "type": "histogram"
           }
          ],
          "histogram2d": [
           {
            "colorbar": {
             "outlinewidth": 0,
             "ticks": ""
            },
            "colorscale": [
             [
              0,
              "#0d0887"
             ],
             [
              0.1111111111111111,
              "#46039f"
             ],
             [
              0.2222222222222222,
              "#7201a8"
             ],
             [
              0.3333333333333333,
              "#9c179e"
             ],
             [
              0.4444444444444444,
              "#bd3786"
             ],
             [
              0.5555555555555556,
              "#d8576b"
             ],
             [
              0.6666666666666666,
              "#ed7953"
             ],
             [
              0.7777777777777778,
              "#fb9f3a"
             ],
             [
              0.8888888888888888,
              "#fdca26"
             ],
             [
              1,
              "#f0f921"
             ]
            ],
            "type": "histogram2d"
           }
          ],
          "histogram2dcontour": [
           {
            "colorbar": {
             "outlinewidth": 0,
             "ticks": ""
            },
            "colorscale": [
             [
              0,
              "#0d0887"
             ],
             [
              0.1111111111111111,
              "#46039f"
             ],
             [
              0.2222222222222222,
              "#7201a8"
             ],
             [
              0.3333333333333333,
              "#9c179e"
             ],
             [
              0.4444444444444444,
              "#bd3786"
             ],
             [
              0.5555555555555556,
              "#d8576b"
             ],
             [
              0.6666666666666666,
              "#ed7953"
             ],
             [
              0.7777777777777778,
              "#fb9f3a"
             ],
             [
              0.8888888888888888,
              "#fdca26"
             ],
             [
              1,
              "#f0f921"
             ]
            ],
            "type": "histogram2dcontour"
           }
          ],
          "mesh3d": [
           {
            "colorbar": {
             "outlinewidth": 0,
             "ticks": ""
            },
            "type": "mesh3d"
           }
          ],
          "parcoords": [
           {
            "line": {
             "colorbar": {
              "outlinewidth": 0,
              "ticks": ""
             }
            },
            "type": "parcoords"
           }
          ],
          "pie": [
           {
            "automargin": true,
            "type": "pie"
           }
          ],
          "scatter": [
           {
            "fillpattern": {
             "fillmode": "overlay",
             "size": 10,
             "solidity": 0.2
            },
            "type": "scatter"
           }
          ],
          "scatter3d": [
           {
            "line": {
             "colorbar": {
              "outlinewidth": 0,
              "ticks": ""
             }
            },
            "marker": {
             "colorbar": {
              "outlinewidth": 0,
              "ticks": ""
             }
            },
            "type": "scatter3d"
           }
          ],
          "scattercarpet": [
           {
            "marker": {
             "colorbar": {
              "outlinewidth": 0,
              "ticks": ""
             }
            },
            "type": "scattercarpet"
           }
          ],
          "scattergeo": [
           {
            "marker": {
             "colorbar": {
              "outlinewidth": 0,
              "ticks": ""
             }
            },
            "type": "scattergeo"
           }
          ],
          "scattergl": [
           {
            "marker": {
             "colorbar": {
              "outlinewidth": 0,
              "ticks": ""
             }
            },
            "type": "scattergl"
           }
          ],
          "scattermap": [
           {
            "marker": {
             "colorbar": {
              "outlinewidth": 0,
              "ticks": ""
             }
            },
            "type": "scattermap"
           }
          ],
          "scattermapbox": [
           {
            "marker": {
             "colorbar": {
              "outlinewidth": 0,
              "ticks": ""
             }
            },
            "type": "scattermapbox"
           }
          ],
          "scatterpolar": [
           {
            "marker": {
             "colorbar": {
              "outlinewidth": 0,
              "ticks": ""
             }
            },
            "type": "scatterpolar"
           }
          ],
          "scatterpolargl": [
           {
            "marker": {
             "colorbar": {
              "outlinewidth": 0,
              "ticks": ""
             }
            },
            "type": "scatterpolargl"
           }
          ],
          "scatterternary": [
           {
            "marker": {
             "colorbar": {
              "outlinewidth": 0,
              "ticks": ""
             }
            },
            "type": "scatterternary"
           }
          ],
          "surface": [
           {
            "colorbar": {
             "outlinewidth": 0,
             "ticks": ""
            },
            "colorscale": [
             [
              0,
              "#0d0887"
             ],
             [
              0.1111111111111111,
              "#46039f"
             ],
             [
              0.2222222222222222,
              "#7201a8"
             ],
             [
              0.3333333333333333,
              "#9c179e"
             ],
             [
              0.4444444444444444,
              "#bd3786"
             ],
             [
              0.5555555555555556,
              "#d8576b"
             ],
             [
              0.6666666666666666,
              "#ed7953"
             ],
             [
              0.7777777777777778,
              "#fb9f3a"
             ],
             [
              0.8888888888888888,
              "#fdca26"
             ],
             [
              1,
              "#f0f921"
             ]
            ],
            "type": "surface"
           }
          ],
          "table": [
           {
            "cells": {
             "fill": {
              "color": "#EBF0F8"
             },
             "line": {
              "color": "white"
             }
            },
            "header": {
             "fill": {
              "color": "#C8D4E3"
             },
             "line": {
              "color": "white"
             }
            },
            "type": "table"
           }
          ]
         },
         "layout": {
          "annotationdefaults": {
           "arrowcolor": "#2a3f5f",
           "arrowhead": 0,
           "arrowwidth": 1
          },
          "autotypenumbers": "strict",
          "coloraxis": {
           "colorbar": {
            "outlinewidth": 0,
            "ticks": ""
           }
          },
          "colorscale": {
           "diverging": [
            [
             0,
             "#8e0152"
            ],
            [
             0.1,
             "#c51b7d"
            ],
            [
             0.2,
             "#de77ae"
            ],
            [
             0.3,
             "#f1b6da"
            ],
            [
             0.4,
             "#fde0ef"
            ],
            [
             0.5,
             "#f7f7f7"
            ],
            [
             0.6,
             "#e6f5d0"
            ],
            [
             0.7,
             "#b8e186"
            ],
            [
             0.8,
             "#7fbc41"
            ],
            [
             0.9,
             "#4d9221"
            ],
            [
             1,
             "#276419"
            ]
           ],
           "sequential": [
            [
             0,
             "#0d0887"
            ],
            [
             0.1111111111111111,
             "#46039f"
            ],
            [
             0.2222222222222222,
             "#7201a8"
            ],
            [
             0.3333333333333333,
             "#9c179e"
            ],
            [
             0.4444444444444444,
             "#bd3786"
            ],
            [
             0.5555555555555556,
             "#d8576b"
            ],
            [
             0.6666666666666666,
             "#ed7953"
            ],
            [
             0.7777777777777778,
             "#fb9f3a"
            ],
            [
             0.8888888888888888,
             "#fdca26"
            ],
            [
             1,
             "#f0f921"
            ]
           ],
           "sequentialminus": [
            [
             0,
             "#0d0887"
            ],
            [
             0.1111111111111111,
             "#46039f"
            ],
            [
             0.2222222222222222,
             "#7201a8"
            ],
            [
             0.3333333333333333,
             "#9c179e"
            ],
            [
             0.4444444444444444,
             "#bd3786"
            ],
            [
             0.5555555555555556,
             "#d8576b"
            ],
            [
             0.6666666666666666,
             "#ed7953"
            ],
            [
             0.7777777777777778,
             "#fb9f3a"
            ],
            [
             0.8888888888888888,
             "#fdca26"
            ],
            [
             1,
             "#f0f921"
            ]
           ]
          },
          "colorway": [
           "#636efa",
           "#EF553B",
           "#00cc96",
           "#ab63fa",
           "#FFA15A",
           "#19d3f3",
           "#FF6692",
           "#B6E880",
           "#FF97FF",
           "#FECB52"
          ],
          "font": {
           "color": "#2a3f5f"
          },
          "geo": {
           "bgcolor": "white",
           "lakecolor": "white",
           "landcolor": "white",
           "showlakes": true,
           "showland": true,
           "subunitcolor": "#C8D4E3"
          },
          "hoverlabel": {
           "align": "left"
          },
          "hovermode": "closest",
          "mapbox": {
           "style": "light"
          },
          "paper_bgcolor": "white",
          "plot_bgcolor": "white",
          "polar": {
           "angularaxis": {
            "gridcolor": "#EBF0F8",
            "linecolor": "#EBF0F8",
            "ticks": ""
           },
           "bgcolor": "white",
           "radialaxis": {
            "gridcolor": "#EBF0F8",
            "linecolor": "#EBF0F8",
            "ticks": ""
           }
          },
          "scene": {
           "xaxis": {
            "backgroundcolor": "white",
            "gridcolor": "#DFE8F3",
            "gridwidth": 2,
            "linecolor": "#EBF0F8",
            "showbackground": true,
            "ticks": "",
            "zerolinecolor": "#EBF0F8"
           },
           "yaxis": {
            "backgroundcolor": "white",
            "gridcolor": "#DFE8F3",
            "gridwidth": 2,
            "linecolor": "#EBF0F8",
            "showbackground": true,
            "ticks": "",
            "zerolinecolor": "#EBF0F8"
           },
           "zaxis": {
            "backgroundcolor": "white",
            "gridcolor": "#DFE8F3",
            "gridwidth": 2,
            "linecolor": "#EBF0F8",
            "showbackground": true,
            "ticks": "",
            "zerolinecolor": "#EBF0F8"
           }
          },
          "shapedefaults": {
           "line": {
            "color": "#2a3f5f"
           }
          },
          "ternary": {
           "aaxis": {
            "gridcolor": "#DFE8F3",
            "linecolor": "#A2B1C6",
            "ticks": ""
           },
           "baxis": {
            "gridcolor": "#DFE8F3",
            "linecolor": "#A2B1C6",
            "ticks": ""
           },
           "bgcolor": "white",
           "caxis": {
            "gridcolor": "#DFE8F3",
            "linecolor": "#A2B1C6",
            "ticks": ""
           }
          },
          "title": {
           "x": 0.05
          },
          "xaxis": {
           "automargin": true,
           "gridcolor": "#EBF0F8",
           "linecolor": "#EBF0F8",
           "ticks": "",
           "title": {
            "standoff": 15
           },
           "zerolinecolor": "#EBF0F8",
           "zerolinewidth": 2
          },
          "yaxis": {
           "automargin": true,
           "gridcolor": "#EBF0F8",
           "linecolor": "#EBF0F8",
           "ticks": "",
           "title": {
            "standoff": 15
           },
           "zerolinecolor": "#EBF0F8",
           "zerolinewidth": 2
          }
         }
        },
        "title": {
         "text": "Pronóstico de Horas Extra - Finance"
        },
        "xaxis": {
         "title": {
          "text": "Fecha"
         }
        },
        "yaxis": {
         "title": {
          "text": "Horas Extra"
         }
        }
       }
      }
     },
     "metadata": {},
     "output_type": "display_data"
    },
    {
     "name": "stdout",
     "output_type": "stream",
     "text": [
      "Visualización generada para Finance\n"
     ]
    },
    {
     "data": {
      "application/vnd.plotly.v1+json": {
       "config": {
        "plotlyServerURL": "https://plot.ly"
       },
       "data": [
        {
         "customdata": {
          "bdata": "Tq0ejtPtEEAAAAAAAAAAAMF0K2YAVyhAkpX9nw+QBEAAAAAAAAAAAIaQD4caBCVAp/QUus3cHUAAAAAAAAAAAIzvFHx9zi5AgcHLrvcSJ0DOGxA/hMsMQAe+6SaHeTNAYOBYrmQXGkAAAAAAAAAAANjcMvbI6yxAadA83f0HDUAAAAAAAAAAAC8BVRYWIidA7mm7vuItFUAAAAAAAAAAAMk1Y/4HdypAUYriOeICI0CMb+nWXBb5P1jzc2x8cTFAQmMH95X4I0A6YQhg/WEAQBtXBktW7DFAwMwkjUiQIEDgQ/HDPQbWP7AHFZYvODBAxrpb1qwgG0AAAAAAAAAAAAocMwptcC1AcYLJAf0MIEBA2CJiMXO2PzK/zqAT7S9ADNyE1cAjGUAAAAAAAAAAAN6pxwn3cSxAs5m1grDZF0AAAAAAAAAAAEIIYODuzCtAV1T1ywI7HEAAAAAAAAAAAGDl/wSY/S1AL/Q5FThTIUBIkUtjFzLnP6WXH1qnmTBA3GwKsEy+IUDoHFMQYePtP/XTh6cxzzBA+oU7VdMoFkAAAAAAAAAAAAX+okmA9CpArv1akmu1GEAAAAAAAAAAANy5MmjMOixAbOqESPBHIUCA9vqXmn3mP7gSxXMDlDBAPPiT3YF9GUAAAAAAAAAAACE3z43XnixAP2dKmsutGkAAAAAAAAAAAKJuKmz8Ni1AamkkAurmH0AAsvkMYl6jP7hvF6CL0y9A7IWLBsMgIkBIVzI8YwXyP3hgyNJsADFA",
          "dtype": "f8",
          "shape": "24, 3"
         },
         "hovertemplate": "<b>Fecha:</b> %{x}<br><b>Valor Real:</b> %{y:.1f}<br><b>Predicción:</b> %{customdata[0]:.1f}<br><b>IC Inferior:</b> %{customdata[1]:.1f}<br><b>IC Superior:</b> %{customdata[2]:.1f}<extra></extra>",
         "line": {
          "color": "blue"
         },
         "mode": "markers+lines",
         "name": "Datos Históricos",
         "type": "scatter",
         "x": [
          "2024-12-15T00:00:00.000000000",
          "2024-12-22T00:00:00.000000000",
          "2024-12-29T00:00:00.000000000",
          "2025-01-05T00:00:00.000000000",
          "2025-01-12T00:00:00.000000000",
          "2025-01-19T00:00:00.000000000",
          "2025-01-26T00:00:00.000000000",
          "2025-02-02T00:00:00.000000000",
          "2025-02-09T00:00:00.000000000",
          "2025-02-16T00:00:00.000000000",
          "2025-02-23T00:00:00.000000000",
          "2025-03-02T00:00:00.000000000",
          "2025-03-09T00:00:00.000000000",
          "2025-03-16T00:00:00.000000000",
          "2025-03-23T00:00:00.000000000",
          "2025-03-30T00:00:00.000000000",
          "2025-04-06T00:00:00.000000000",
          "2025-04-13T00:00:00.000000000",
          "2025-04-20T00:00:00.000000000",
          "2025-04-27T00:00:00.000000000",
          "2025-05-04T00:00:00.000000000",
          "2025-05-11T00:00:00.000000000",
          "2025-05-18T00:00:00.000000000",
          "2025-05-25T00:00:00.000000000"
         ],
         "y": {
          "bdata": "AAAAAAAAAAApXI/C9Sj4PwAAAAAAAB5ACtejcD0KLkBcj8L1KFwjQHA9CtejcBlApHA9CtejBkCamZmZmRklQD4K16NwPRFAUrgehetRGUCF61G4HoUhQDMzMzMzsyFASOF6FK7HJEAzMzMzMzP7Pyhcj8L1KBZAhetRuB6FK0CF61G4HoUNQEjhehSuRx9AwvUoXI/CI0BmZmZmZuYjQFyPwvUo3CFAKVyPwvUoGEBmZmZmZmYdQAAAAAAAAAAA",
          "dtype": "f8"
         }
        },
        {
         "customdata": {
          "bdata": "AAAAAAAAAADBdCtmAFcoQAAAAAAAAAAAhpAPhxoEJUAAAAAAAAAAAIzvFHx9zi5AzhsQP4TLDEAHvukmh3kzQAAAAAAAAAAA2Nwy9sjrLEAAAAAAAAAAAC8BVRYWIidAAAAAAAAAAADJNWP+B3cqQIxv6dZcFvk/WPNzbHxxMUA6YQhg/WEAQBtXBktW7DFA4EPxwz0G1j+wBxWWLzgwQAAAAAAAAAAAChwzCm1wLUBA2CJiMXO2PzK/zqAT7S9AAAAAAAAAAADeqccJ93EsQAAAAAAAAAAAQghg4O7MK0AAAAAAAAAAAGDl/wSY/S1ASJFLYxcy5z+llx9ap5kwQOgcUxBh4+0/9dOHpzHPMEAAAAAAAAAAAAX+okmA9CpAAAAAAAAAAADcuTJozDosQID2+peafeY/uBLFcwOUMEAAAAAAAAAAACE3z43XnixAAAAAAAAAAACibips/DYtQACy+QxiXqM/uG8XoIvTL0BIVzI8YwXyP3hgyNJsADFAoJb2wHOT+D9tpBTbTWkxQDDb4mEKi+8/kF9wxiLjMEAAAAAAAAAAAND/PzjxQS9AAAAAAAAAAADuSig9tCQpQA==",
          "dtype": "f8",
          "shape": "28, 2"
         },
         "hovertemplate": "<b>Fecha:</b> %{x}<br><b>Predicción:</b> %{y:.1f}<br><b>IC Inferior:</b> %{customdata[0]:.1f}<br><b>IC Superior:</b> %{customdata[1]:.1f}<extra></extra>",
         "line": {
          "color": "red"
         },
         "mode": "lines",
         "name": "Predicción",
         "type": "scatter",
         "x": [
          "2024-12-15T00:00:00.000000000",
          "2024-12-22T00:00:00.000000000",
          "2024-12-29T00:00:00.000000000",
          "2025-01-05T00:00:00.000000000",
          "2025-01-12T00:00:00.000000000",
          "2025-01-19T00:00:00.000000000",
          "2025-01-26T00:00:00.000000000",
          "2025-02-02T00:00:00.000000000",
          "2025-02-09T00:00:00.000000000",
          "2025-02-16T00:00:00.000000000",
          "2025-02-23T00:00:00.000000000",
          "2025-03-02T00:00:00.000000000",
          "2025-03-09T00:00:00.000000000",
          "2025-03-16T00:00:00.000000000",
          "2025-03-23T00:00:00.000000000",
          "2025-03-30T00:00:00.000000000",
          "2025-04-06T00:00:00.000000000",
          "2025-04-13T00:00:00.000000000",
          "2025-04-20T00:00:00.000000000",
          "2025-04-27T00:00:00.000000000",
          "2025-05-04T00:00:00.000000000",
          "2025-05-11T00:00:00.000000000",
          "2025-05-18T00:00:00.000000000",
          "2025-05-25T00:00:00.000000000",
          "2025-06-01T00:00:00.000000000",
          "2025-06-08T00:00:00.000000000",
          "2025-06-15T00:00:00.000000000",
          "2025-06-22T00:00:00.000000000"
         ],
         "y": {
          "bdata": "Tq0ejtPtEECSlf2fD5AEQKf0FLrN3B1AgcHLrvcSJ0Bg4FiuZBcaQGnQPN39Bw1A7mm7vuItFUBRiuI54gIjQEJjB/eV+CNAwMwkjUiQIEDGulvWrCAbQHGCyQH9DCBADNyE1cAjGUCzmbWCsNkXQFdU9csCOxxAL/Q5FThTIUDcbAqwTL4hQPqFO1XTKBZArv1akmu1GEBs6oRI8EchQDz4k92BfRlAP2dKmsutGkBqaSQC6uYfQOyFiwbDICJA1w0kF4XyIkBpdn8Ze98hQNX159VdZR5AKSjSZkAqEkA=",
          "dtype": "f8"
         }
        },
        {
         "fill": "toself",
         "fillcolor": "rgba(211,211,211,0.3)",
         "hoverinfo": "skip",
         "line": {
          "color": "rgba(255,255,255,0)"
         },
         "name": "Intervalo de Confianza 95%",
         "showlegend": true,
         "type": "scatter",
         "x": [
          "2024-12-15T00:00:00",
          "2024-12-22T00:00:00",
          "2024-12-29T00:00:00",
          "2025-01-05T00:00:00",
          "2025-01-12T00:00:00",
          "2025-01-19T00:00:00",
          "2025-01-26T00:00:00",
          "2025-02-02T00:00:00",
          "2025-02-09T00:00:00",
          "2025-02-16T00:00:00",
          "2025-02-23T00:00:00",
          "2025-03-02T00:00:00",
          "2025-03-09T00:00:00",
          "2025-03-16T00:00:00",
          "2025-03-23T00:00:00",
          "2025-03-30T00:00:00",
          "2025-04-06T00:00:00",
          "2025-04-13T00:00:00",
          "2025-04-20T00:00:00",
          "2025-04-27T00:00:00",
          "2025-05-04T00:00:00",
          "2025-05-11T00:00:00",
          "2025-05-18T00:00:00",
          "2025-05-25T00:00:00",
          "2025-06-01T00:00:00",
          "2025-06-08T00:00:00",
          "2025-06-15T00:00:00",
          "2025-06-22T00:00:00",
          "2025-06-22T00:00:00",
          "2025-06-15T00:00:00",
          "2025-06-08T00:00:00",
          "2025-06-01T00:00:00",
          "2025-05-25T00:00:00",
          "2025-05-18T00:00:00",
          "2025-05-11T00:00:00",
          "2025-05-04T00:00:00",
          "2025-04-27T00:00:00",
          "2025-04-20T00:00:00",
          "2025-04-13T00:00:00",
          "2025-04-06T00:00:00",
          "2025-03-30T00:00:00",
          "2025-03-23T00:00:00",
          "2025-03-16T00:00:00",
          "2025-03-09T00:00:00",
          "2025-03-02T00:00:00",
          "2025-02-23T00:00:00",
          "2025-02-16T00:00:00",
          "2025-02-09T00:00:00",
          "2025-02-02T00:00:00",
          "2025-01-26T00:00:00",
          "2025-01-19T00:00:00",
          "2025-01-12T00:00:00",
          "2025-01-05T00:00:00",
          "2024-12-29T00:00:00",
          "2024-12-22T00:00:00",
          "2024-12-15T00:00:00"
         ],
         "y": [
          12.169924919895836,
          10.508014889383286,
          15.403301122241622,
          19.474718505922308,
          14.460517591198752,
          11.56657476222662,
          13.23248286210118,
          17.44330480414223,
          17.92319172768394,
          16.21947610867909,
          14.719581907977062,
          15.963040375936178,
          14.222587876914016,
          13.900259982798278,
          14.995300441968254,
          16.600209839547137,
          16.80935141626465,
          13.477541257044331,
          14.114840751831188,
          16.578177676785998,
          14.310238296074717,
          14.607394581012446,
          15.913174631939782,
          17.00166051284802,
          17.411344234981176,
          16.887249376711736,
          15.62879348546258,
          12.571687613647978,
          0,
          0,
          0.9857227241362576,
          1.5359990632654572,
          1.1263153411322993,
          0.03782946022406364,
          0,
          0,
          0.7028325050702762,
          0,
          0,
          0.9340062445488941,
          0.7248646678313344,
          0,
          0,
          0,
          0.08769520421887567,
          0,
          0.3441309369564447,
          2.047846555953723,
          1.5679596323961702,
          0,
          0,
          0,
          3.599373333624931,
          0,
          0,
          0
         ]
        }
       ],
       "layout": {
        "hovermode": "x unified",
        "legend": {
         "orientation": "h",
         "x": 0.5,
         "xanchor": "center",
         "y": -0.4,
         "yanchor": "bottom"
        },
        "showlegend": true,
        "template": {
         "data": {
          "bar": [
           {
            "error_x": {
             "color": "#2a3f5f"
            },
            "error_y": {
             "color": "#2a3f5f"
            },
            "marker": {
             "line": {
              "color": "white",
              "width": 0.5
             },
             "pattern": {
              "fillmode": "overlay",
              "size": 10,
              "solidity": 0.2
             }
            },
            "type": "bar"
           }
          ],
          "barpolar": [
           {
            "marker": {
             "line": {
              "color": "white",
              "width": 0.5
             },
             "pattern": {
              "fillmode": "overlay",
              "size": 10,
              "solidity": 0.2
             }
            },
            "type": "barpolar"
           }
          ],
          "carpet": [
           {
            "aaxis": {
             "endlinecolor": "#2a3f5f",
             "gridcolor": "#C8D4E3",
             "linecolor": "#C8D4E3",
             "minorgridcolor": "#C8D4E3",
             "startlinecolor": "#2a3f5f"
            },
            "baxis": {
             "endlinecolor": "#2a3f5f",
             "gridcolor": "#C8D4E3",
             "linecolor": "#C8D4E3",
             "minorgridcolor": "#C8D4E3",
             "startlinecolor": "#2a3f5f"
            },
            "type": "carpet"
           }
          ],
          "choropleth": [
           {
            "colorbar": {
             "outlinewidth": 0,
             "ticks": ""
            },
            "type": "choropleth"
           }
          ],
          "contour": [
           {
            "colorbar": {
             "outlinewidth": 0,
             "ticks": ""
            },
            "colorscale": [
             [
              0,
              "#0d0887"
             ],
             [
              0.1111111111111111,
              "#46039f"
             ],
             [
              0.2222222222222222,
              "#7201a8"
             ],
             [
              0.3333333333333333,
              "#9c179e"
             ],
             [
              0.4444444444444444,
              "#bd3786"
             ],
             [
              0.5555555555555556,
              "#d8576b"
             ],
             [
              0.6666666666666666,
              "#ed7953"
             ],
             [
              0.7777777777777778,
              "#fb9f3a"
             ],
             [
              0.8888888888888888,
              "#fdca26"
             ],
             [
              1,
              "#f0f921"
             ]
            ],
            "type": "contour"
           }
          ],
          "contourcarpet": [
           {
            "colorbar": {
             "outlinewidth": 0,
             "ticks": ""
            },
            "type": "contourcarpet"
           }
          ],
          "heatmap": [
           {
            "colorbar": {
             "outlinewidth": 0,
             "ticks": ""
            },
            "colorscale": [
             [
              0,
              "#0d0887"
             ],
             [
              0.1111111111111111,
              "#46039f"
             ],
             [
              0.2222222222222222,
              "#7201a8"
             ],
             [
              0.3333333333333333,
              "#9c179e"
             ],
             [
              0.4444444444444444,
              "#bd3786"
             ],
             [
              0.5555555555555556,
              "#d8576b"
             ],
             [
              0.6666666666666666,
              "#ed7953"
             ],
             [
              0.7777777777777778,
              "#fb9f3a"
             ],
             [
              0.8888888888888888,
              "#fdca26"
             ],
             [
              1,
              "#f0f921"
             ]
            ],
            "type": "heatmap"
           }
          ],
          "histogram": [
           {
            "marker": {
             "pattern": {
              "fillmode": "overlay",
              "size": 10,
              "solidity": 0.2
             }
            },
            "type": "histogram"
           }
          ],
          "histogram2d": [
           {
            "colorbar": {
             "outlinewidth": 0,
             "ticks": ""
            },
            "colorscale": [
             [
              0,
              "#0d0887"
             ],
             [
              0.1111111111111111,
              "#46039f"
             ],
             [
              0.2222222222222222,
              "#7201a8"
             ],
             [
              0.3333333333333333,
              "#9c179e"
             ],
             [
              0.4444444444444444,
              "#bd3786"
             ],
             [
              0.5555555555555556,
              "#d8576b"
             ],
             [
              0.6666666666666666,
              "#ed7953"
             ],
             [
              0.7777777777777778,
              "#fb9f3a"
             ],
             [
              0.8888888888888888,
              "#fdca26"
             ],
             [
              1,
              "#f0f921"
             ]
            ],
            "type": "histogram2d"
           }
          ],
          "histogram2dcontour": [
           {
            "colorbar": {
             "outlinewidth": 0,
             "ticks": ""
            },
            "colorscale": [
             [
              0,
              "#0d0887"
             ],
             [
              0.1111111111111111,
              "#46039f"
             ],
             [
              0.2222222222222222,
              "#7201a8"
             ],
             [
              0.3333333333333333,
              "#9c179e"
             ],
             [
              0.4444444444444444,
              "#bd3786"
             ],
             [
              0.5555555555555556,
              "#d8576b"
             ],
             [
              0.6666666666666666,
              "#ed7953"
             ],
             [
              0.7777777777777778,
              "#fb9f3a"
             ],
             [
              0.8888888888888888,
              "#fdca26"
             ],
             [
              1,
              "#f0f921"
             ]
            ],
            "type": "histogram2dcontour"
           }
          ],
          "mesh3d": [
           {
            "colorbar": {
             "outlinewidth": 0,
             "ticks": ""
            },
            "type": "mesh3d"
           }
          ],
          "parcoords": [
           {
            "line": {
             "colorbar": {
              "outlinewidth": 0,
              "ticks": ""
             }
            },
            "type": "parcoords"
           }
          ],
          "pie": [
           {
            "automargin": true,
            "type": "pie"
           }
          ],
          "scatter": [
           {
            "fillpattern": {
             "fillmode": "overlay",
             "size": 10,
             "solidity": 0.2
            },
            "type": "scatter"
           }
          ],
          "scatter3d": [
           {
            "line": {
             "colorbar": {
              "outlinewidth": 0,
              "ticks": ""
             }
            },
            "marker": {
             "colorbar": {
              "outlinewidth": 0,
              "ticks": ""
             }
            },
            "type": "scatter3d"
           }
          ],
          "scattercarpet": [
           {
            "marker": {
             "colorbar": {
              "outlinewidth": 0,
              "ticks": ""
             }
            },
            "type": "scattercarpet"
           }
          ],
          "scattergeo": [
           {
            "marker": {
             "colorbar": {
              "outlinewidth": 0,
              "ticks": ""
             }
            },
            "type": "scattergeo"
           }
          ],
          "scattergl": [
           {
            "marker": {
             "colorbar": {
              "outlinewidth": 0,
              "ticks": ""
             }
            },
            "type": "scattergl"
           }
          ],
          "scattermap": [
           {
            "marker": {
             "colorbar": {
              "outlinewidth": 0,
              "ticks": ""
             }
            },
            "type": "scattermap"
           }
          ],
          "scattermapbox": [
           {
            "marker": {
             "colorbar": {
              "outlinewidth": 0,
              "ticks": ""
             }
            },
            "type": "scattermapbox"
           }
          ],
          "scatterpolar": [
           {
            "marker": {
             "colorbar": {
              "outlinewidth": 0,
              "ticks": ""
             }
            },
            "type": "scatterpolar"
           }
          ],
          "scatterpolargl": [
           {
            "marker": {
             "colorbar": {
              "outlinewidth": 0,
              "ticks": ""
             }
            },
            "type": "scatterpolargl"
           }
          ],
          "scatterternary": [
           {
            "marker": {
             "colorbar": {
              "outlinewidth": 0,
              "ticks": ""
             }
            },
            "type": "scatterternary"
           }
          ],
          "surface": [
           {
            "colorbar": {
             "outlinewidth": 0,
             "ticks": ""
            },
            "colorscale": [
             [
              0,
              "#0d0887"
             ],
             [
              0.1111111111111111,
              "#46039f"
             ],
             [
              0.2222222222222222,
              "#7201a8"
             ],
             [
              0.3333333333333333,
              "#9c179e"
             ],
             [
              0.4444444444444444,
              "#bd3786"
             ],
             [
              0.5555555555555556,
              "#d8576b"
             ],
             [
              0.6666666666666666,
              "#ed7953"
             ],
             [
              0.7777777777777778,
              "#fb9f3a"
             ],
             [
              0.8888888888888888,
              "#fdca26"
             ],
             [
              1,
              "#f0f921"
             ]
            ],
            "type": "surface"
           }
          ],
          "table": [
           {
            "cells": {
             "fill": {
              "color": "#EBF0F8"
             },
             "line": {
              "color": "white"
             }
            },
            "header": {
             "fill": {
              "color": "#C8D4E3"
             },
             "line": {
              "color": "white"
             }
            },
            "type": "table"
           }
          ]
         },
         "layout": {
          "annotationdefaults": {
           "arrowcolor": "#2a3f5f",
           "arrowhead": 0,
           "arrowwidth": 1
          },
          "autotypenumbers": "strict",
          "coloraxis": {
           "colorbar": {
            "outlinewidth": 0,
            "ticks": ""
           }
          },
          "colorscale": {
           "diverging": [
            [
             0,
             "#8e0152"
            ],
            [
             0.1,
             "#c51b7d"
            ],
            [
             0.2,
             "#de77ae"
            ],
            [
             0.3,
             "#f1b6da"
            ],
            [
             0.4,
             "#fde0ef"
            ],
            [
             0.5,
             "#f7f7f7"
            ],
            [
             0.6,
             "#e6f5d0"
            ],
            [
             0.7,
             "#b8e186"
            ],
            [
             0.8,
             "#7fbc41"
            ],
            [
             0.9,
             "#4d9221"
            ],
            [
             1,
             "#276419"
            ]
           ],
           "sequential": [
            [
             0,
             "#0d0887"
            ],
            [
             0.1111111111111111,
             "#46039f"
            ],
            [
             0.2222222222222222,
             "#7201a8"
            ],
            [
             0.3333333333333333,
             "#9c179e"
            ],
            [
             0.4444444444444444,
             "#bd3786"
            ],
            [
             0.5555555555555556,
             "#d8576b"
            ],
            [
             0.6666666666666666,
             "#ed7953"
            ],
            [
             0.7777777777777778,
             "#fb9f3a"
            ],
            [
             0.8888888888888888,
             "#fdca26"
            ],
            [
             1,
             "#f0f921"
            ]
           ],
           "sequentialminus": [
            [
             0,
             "#0d0887"
            ],
            [
             0.1111111111111111,
             "#46039f"
            ],
            [
             0.2222222222222222,
             "#7201a8"
            ],
            [
             0.3333333333333333,
             "#9c179e"
            ],
            [
             0.4444444444444444,
             "#bd3786"
            ],
            [
             0.5555555555555556,
             "#d8576b"
            ],
            [
             0.6666666666666666,
             "#ed7953"
            ],
            [
             0.7777777777777778,
             "#fb9f3a"
            ],
            [
             0.8888888888888888,
             "#fdca26"
            ],
            [
             1,
             "#f0f921"
            ]
           ]
          },
          "colorway": [
           "#636efa",
           "#EF553B",
           "#00cc96",
           "#ab63fa",
           "#FFA15A",
           "#19d3f3",
           "#FF6692",
           "#B6E880",
           "#FF97FF",
           "#FECB52"
          ],
          "font": {
           "color": "#2a3f5f"
          },
          "geo": {
           "bgcolor": "white",
           "lakecolor": "white",
           "landcolor": "white",
           "showlakes": true,
           "showland": true,
           "subunitcolor": "#C8D4E3"
          },
          "hoverlabel": {
           "align": "left"
          },
          "hovermode": "closest",
          "mapbox": {
           "style": "light"
          },
          "paper_bgcolor": "white",
          "plot_bgcolor": "white",
          "polar": {
           "angularaxis": {
            "gridcolor": "#EBF0F8",
            "linecolor": "#EBF0F8",
            "ticks": ""
           },
           "bgcolor": "white",
           "radialaxis": {
            "gridcolor": "#EBF0F8",
            "linecolor": "#EBF0F8",
            "ticks": ""
           }
          },
          "scene": {
           "xaxis": {
            "backgroundcolor": "white",
            "gridcolor": "#DFE8F3",
            "gridwidth": 2,
            "linecolor": "#EBF0F8",
            "showbackground": true,
            "ticks": "",
            "zerolinecolor": "#EBF0F8"
           },
           "yaxis": {
            "backgroundcolor": "white",
            "gridcolor": "#DFE8F3",
            "gridwidth": 2,
            "linecolor": "#EBF0F8",
            "showbackground": true,
            "ticks": "",
            "zerolinecolor": "#EBF0F8"
           },
           "zaxis": {
            "backgroundcolor": "white",
            "gridcolor": "#DFE8F3",
            "gridwidth": 2,
            "linecolor": "#EBF0F8",
            "showbackground": true,
            "ticks": "",
            "zerolinecolor": "#EBF0F8"
           }
          },
          "shapedefaults": {
           "line": {
            "color": "#2a3f5f"
           }
          },
          "ternary": {
           "aaxis": {
            "gridcolor": "#DFE8F3",
            "linecolor": "#A2B1C6",
            "ticks": ""
           },
           "baxis": {
            "gridcolor": "#DFE8F3",
            "linecolor": "#A2B1C6",
            "ticks": ""
           },
           "bgcolor": "white",
           "caxis": {
            "gridcolor": "#DFE8F3",
            "linecolor": "#A2B1C6",
            "ticks": ""
           }
          },
          "title": {
           "x": 0.05
          },
          "xaxis": {
           "automargin": true,
           "gridcolor": "#EBF0F8",
           "linecolor": "#EBF0F8",
           "ticks": "",
           "title": {
            "standoff": 15
           },
           "zerolinecolor": "#EBF0F8",
           "zerolinewidth": 2
          },
          "yaxis": {
           "automargin": true,
           "gridcolor": "#EBF0F8",
           "linecolor": "#EBF0F8",
           "ticks": "",
           "title": {
            "standoff": 15
           },
           "zerolinecolor": "#EBF0F8",
           "zerolinewidth": 2
          }
         }
        },
        "title": {
         "text": "Pronóstico de Horas Extra - HR"
        },
        "xaxis": {
         "title": {
          "text": "Fecha"
         }
        },
        "yaxis": {
         "title": {
          "text": "Horas Extra"
         }
        }
       }
      }
     },
     "metadata": {},
     "output_type": "display_data"
    },
    {
     "name": "stdout",
     "output_type": "stream",
     "text": [
      "Visualización generada para HR\n"
     ]
    },
    {
     "data": {
      "application/vnd.plotly.v1+json": {
       "config": {
        "plotlyServerURL": "https://plot.ly"
       },
       "data": [
        {
         "customdata": {
          "bdata": "zczMzMxMJUAAAAAAAAAAAKiAmixRWTVAZWZmZmZmEEAAAAAAAAAAALRnm78ImS1ANTMzMzMz+z8AAAAAAAAAAOmazvI7zChALnYtfTG/FUAAAAAAAAAAAMx3fyW3IjBA9ihcj8L1HEAAAAAAAAAAAH4kC2pb8DFA4XoUrkfhF0AAAAAAAAAAAPk4ubE8qzBAFK5H4XoUGkAAAAAAAAAAAMYFhn4JODFAP0Ys7aQxFEAAAAAAAAAAAKJX/gKofi9AFa5H4XqUJkAwmfdNVeriP0zx1zYo/TVArkfhehSuG0AAAAAAAAAAACxs7ORvnjFArkfhehQuIEAAAAAAAAAAABi+pAP1yTJAvQ7aECOJ9j8AAAAAAAAAAFp2g+75NihAo5mZmZmZuT8AAAAAAAAAALVnm78ImSVAo3A9CtejEEAAAAAAAAAAANTshhHBty1APgrXo3A9KUDgrXa72Lz+P2CfHxijUTdAoZmZmZmZ8T8AAAAAAAAAALZnm78ImSdAIcFAm+wSE0AAAAAAAAAAABKVCNpL7y5AZmZmZmZmKUCQx/hnQwIAQHRNZ/kdZjdA16NwPQpXJ0BQ9YYQSxPvPyxs7ORvXjZAMzMzMzMzHEAAAAAAAAAAAA7nAJO3vzFAIcFAm+wSH0AAAAAAAAAAAIlKBO2ldzJAwvUoXI/CEEAAAAAAAAAAAGOvfDodxy1AuB6F61E4NkDuCKJKzgonQHyc3FiedUBAU7gehevRJEAAAAAAAAAAAGp2w4jgGzVA",
          "dtype": "f8",
          "shape": "24, 3"
         },
         "hovertemplate": "<b>Fecha:</b> %{x}<br><b>Valor Real:</b> %{y:.1f}<br><b>Predicción:</b> %{customdata[0]:.1f}<br><b>IC Inferior:</b> %{customdata[1]:.1f}<br><b>IC Superior:</b> %{customdata[2]:.1f}<extra></extra>",
         "line": {
          "color": "blue"
         },
         "mode": "markers+lines",
         "name": "Datos Históricos",
         "type": "scatter",
         "x": [
          "2024-12-15T00:00:00.000000000",
          "2024-12-22T00:00:00.000000000",
          "2024-12-29T00:00:00.000000000",
          "2025-01-05T00:00:00.000000000",
          "2025-01-12T00:00:00.000000000",
          "2025-01-19T00:00:00.000000000",
          "2025-01-26T00:00:00.000000000",
          "2025-02-02T00:00:00.000000000",
          "2025-02-09T00:00:00.000000000",
          "2025-02-16T00:00:00.000000000",
          "2025-02-23T00:00:00.000000000",
          "2025-03-02T00:00:00.000000000",
          "2025-03-09T00:00:00.000000000",
          "2025-03-16T00:00:00.000000000",
          "2025-03-23T00:00:00.000000000",
          "2025-03-30T00:00:00.000000000",
          "2025-04-06T00:00:00.000000000",
          "2025-04-13T00:00:00.000000000",
          "2025-04-20T00:00:00.000000000",
          "2025-04-27T00:00:00.000000000",
          "2025-05-04T00:00:00.000000000",
          "2025-05-11T00:00:00.000000000",
          "2025-05-18T00:00:00.000000000",
          "2025-05-25T00:00:00.000000000"
         ],
         "y": {
          "bdata": "ZmZmZmZmEEAzMzMzMzP7P+xRuB6F6xNA9ihcj8L1HEDhehSuR+EXQBSuR+F6FBpAXI/C9ShcFEAVrkfhepQmQK5H4XoUrhtArkfhehQuIEAzMzMzMzP3P5qZmZmZmbk/pHA9CtejEEA+CtejcD0pQJmZmZmZmfE/PgrXo3A9E0BmZmZmZmYpQNejcD0KVydANDMzMzMzHEA+CtejcD0fQML1KFyPwhBAuB6F61E4NkBSuB6F69EkQBSuR+F6FPI/",
          "dtype": "f8"
         }
        },
        {
         "customdata": {
          "bdata": "AAAAAAAAAACogJosUVk1QAAAAAAAAAAAtGebvwiZLUAAAAAAAAAAAOmazvI7zChAAAAAAAAAAADMd38ltyIwQAAAAAAAAAAAfiQLalvwMUAAAAAAAAAAAPk4ubE8qzBAAAAAAAAAAADGBYZ+CTgxQAAAAAAAAAAAolf+Aqh+L0AwmfdNVeriP0zx1zYo/TVAAAAAAAAAAAAsbOzkb54xQAAAAAAAAAAAGL6kA/XJMkAAAAAAAAAAAFp2g+75NihAAAAAAAAAAAC1Z5u/CJklQAAAAAAAAAAA1OyGEcG3LUDgrXa72Lz+P2CfHxijUTdAAAAAAAAAAAC2Z5u/CJknQAAAAAAAAAAAEpUI2kvvLkCQx/hnQwIAQHRNZ/kdZjdAUPWGEEsT7z8sbOzkb142QAAAAAAAAAAADucAk7e/MUAAAAAAAAAAAIlKBO2ldzJAAAAAAAAAAABjr3w6HcctQO4IokrOCidAfJzcWJ51QEAAAAAAAAAAAGp2w4jgGzVAAAAAAAAAAAC2BUbkIpMnQAAAAAAAAAAA0KeMkxA4MEAAAAAAAAAAAGnkkDiYnjNAAAAAAAAAAAAcHVc4fHw2QA==",
          "dtype": "f8",
          "shape": "28, 2"
         },
         "hovertemplate": "<b>Fecha:</b> %{x}<br><b>Predicción:</b> %{y:.1f}<br><b>IC Inferior:</b> %{customdata[0]:.1f}<br><b>IC Superior:</b> %{customdata[1]:.1f}<extra></extra>",
         "line": {
          "color": "red"
         },
         "mode": "lines",
         "name": "Predicción",
         "type": "scatter",
         "x": [
          "2024-12-15T00:00:00.000000000",
          "2024-12-22T00:00:00.000000000",
          "2024-12-29T00:00:00.000000000",
          "2025-01-05T00:00:00.000000000",
          "2025-01-12T00:00:00.000000000",
          "2025-01-19T00:00:00.000000000",
          "2025-01-26T00:00:00.000000000",
          "2025-02-02T00:00:00.000000000",
          "2025-02-09T00:00:00.000000000",
          "2025-02-16T00:00:00.000000000",
          "2025-02-23T00:00:00.000000000",
          "2025-03-02T00:00:00.000000000",
          "2025-03-09T00:00:00.000000000",
          "2025-03-16T00:00:00.000000000",
          "2025-03-23T00:00:00.000000000",
          "2025-03-30T00:00:00.000000000",
          "2025-04-06T00:00:00.000000000",
          "2025-04-13T00:00:00.000000000",
          "2025-04-20T00:00:00.000000000",
          "2025-04-27T00:00:00.000000000",
          "2025-05-04T00:00:00.000000000",
          "2025-05-11T00:00:00.000000000",
          "2025-05-18T00:00:00.000000000",
          "2025-05-25T00:00:00.000000000",
          "2025-06-01T00:00:00.000000000",
          "2025-06-08T00:00:00.000000000",
          "2025-06-15T00:00:00.000000000",
          "2025-06-22T00:00:00.000000000"
         ],
         "y": {
          "bdata": "zczMzMxMJUBlZmZmZmYQQDUzMzMzM/s/LnYtfTG/FUD2KFyPwvUcQOF6FK5H4RdAFK5H4XoUGkA/RiztpDEUQBWuR+F6lCZArkfhehSuG0CuR+F6FC4gQL0O2hAjifY/o5mZmZmZuT+jcD0K16MQQD4K16NwPSlAoZmZmZmZ8T8hwUCb7BITQGZmZmZmZilA16NwPQpXJ0AzMzMzMzMcQCHBQJvsEh9AwvUoXI/CEEC4HoXrUTg2QFO4HoXr0SRAoonuvmpq8T+iie6+amrxP6KJ7r5qavE/oonuvmpq8T8=",
          "dtype": "f8"
         }
        },
        {
         "fill": "toself",
         "fillcolor": "rgba(211,211,211,0.3)",
         "hoverinfo": "skip",
         "line": {
          "color": "rgba(255,255,255,0)"
         },
         "name": "Intervalo de Confianza 95%",
         "showlegend": true,
         "type": "scatter",
         "x": [
          "2024-12-15T00:00:00",
          "2024-12-22T00:00:00",
          "2024-12-29T00:00:00",
          "2025-01-05T00:00:00",
          "2025-01-12T00:00:00",
          "2025-01-19T00:00:00",
          "2025-01-26T00:00:00",
          "2025-02-02T00:00:00",
          "2025-02-09T00:00:00",
          "2025-02-16T00:00:00",
          "2025-02-23T00:00:00",
          "2025-03-02T00:00:00",
          "2025-03-09T00:00:00",
          "2025-03-16T00:00:00",
          "2025-03-23T00:00:00",
          "2025-03-30T00:00:00",
          "2025-04-06T00:00:00",
          "2025-04-13T00:00:00",
          "2025-04-20T00:00:00",
          "2025-04-27T00:00:00",
          "2025-05-04T00:00:00",
          "2025-05-11T00:00:00",
          "2025-05-18T00:00:00",
          "2025-05-25T00:00:00",
          "2025-06-01T00:00:00",
          "2025-06-08T00:00:00",
          "2025-06-15T00:00:00",
          "2025-06-22T00:00:00",
          "2025-06-22T00:00:00",
          "2025-06-15T00:00:00",
          "2025-06-08T00:00:00",
          "2025-06-01T00:00:00",
          "2025-05-25T00:00:00",
          "2025-05-18T00:00:00",
          "2025-05-11T00:00:00",
          "2025-05-04T00:00:00",
          "2025-04-27T00:00:00",
          "2025-04-20T00:00:00",
          "2025-04-13T00:00:00",
          "2025-04-06T00:00:00",
          "2025-03-30T00:00:00",
          "2025-03-23T00:00:00",
          "2025-03-16T00:00:00",
          "2025-03-09T00:00:00",
          "2025-03-02T00:00:00",
          "2025-02-23T00:00:00",
          "2025-02-16T00:00:00",
          "2025-02-09T00:00:00",
          "2025-02-02T00:00:00",
          "2025-01-26T00:00:00",
          "2025-01-19T00:00:00",
          "2025-01-12T00:00:00",
          "2025-01-05T00:00:00",
          "2024-12-29T00:00:00",
          "2024-12-22T00:00:00",
          "2024-12-15T00:00:00"
         ],
         "y": [
          21.348894870491364,
          14.79889487049136,
          12.398894870491363,
          16.13560709344874,
          17.93889487049136,
          16.66889487049136,
          17.21889487049136,
          15.747375577495237,
          21.988894870491364,
          17.61889487049136,
          18.78889487049136,
          12.107375577495237,
          10.798894870491361,
          14.858894870491362,
          23.318894870491363,
          11.798894870491363,
          15.467375577495236,
          23.39889487049136,
          22.36889487049136,
          17.748894870491362,
          18.467375577495236,
          14.888894870491361,
          32.91889487049136,
          21.108894870491362,
          11.787375577495236,
          16.219002935256697,
          19.619510207532958,
          22.4862704479866,
          0,
          0,
          0,
          0,
          0,
          11.521105129508637,
          0,
          0,
          0,
          0.9711051295086381,
          2.0011051295086375,
          0,
          0,
          1.9211051295086392,
          0,
          0,
          0,
          0,
          0,
          0.5911051295086391,
          0,
          0,
          0,
          0,
          0,
          0,
          0,
          0
         ]
        }
       ],
       "layout": {
        "hovermode": "x unified",
        "legend": {
         "orientation": "h",
         "x": 0.5,
         "xanchor": "center",
         "y": -0.4,
         "yanchor": "bottom"
        },
        "showlegend": true,
        "template": {
         "data": {
          "bar": [
           {
            "error_x": {
             "color": "#2a3f5f"
            },
            "error_y": {
             "color": "#2a3f5f"
            },
            "marker": {
             "line": {
              "color": "white",
              "width": 0.5
             },
             "pattern": {
              "fillmode": "overlay",
              "size": 10,
              "solidity": 0.2
             }
            },
            "type": "bar"
           }
          ],
          "barpolar": [
           {
            "marker": {
             "line": {
              "color": "white",
              "width": 0.5
             },
             "pattern": {
              "fillmode": "overlay",
              "size": 10,
              "solidity": 0.2
             }
            },
            "type": "barpolar"
           }
          ],
          "carpet": [
           {
            "aaxis": {
             "endlinecolor": "#2a3f5f",
             "gridcolor": "#C8D4E3",
             "linecolor": "#C8D4E3",
             "minorgridcolor": "#C8D4E3",
             "startlinecolor": "#2a3f5f"
            },
            "baxis": {
             "endlinecolor": "#2a3f5f",
             "gridcolor": "#C8D4E3",
             "linecolor": "#C8D4E3",
             "minorgridcolor": "#C8D4E3",
             "startlinecolor": "#2a3f5f"
            },
            "type": "carpet"
           }
          ],
          "choropleth": [
           {
            "colorbar": {
             "outlinewidth": 0,
             "ticks": ""
            },
            "type": "choropleth"
           }
          ],
          "contour": [
           {
            "colorbar": {
             "outlinewidth": 0,
             "ticks": ""
            },
            "colorscale": [
             [
              0,
              "#0d0887"
             ],
             [
              0.1111111111111111,
              "#46039f"
             ],
             [
              0.2222222222222222,
              "#7201a8"
             ],
             [
              0.3333333333333333,
              "#9c179e"
             ],
             [
              0.4444444444444444,
              "#bd3786"
             ],
             [
              0.5555555555555556,
              "#d8576b"
             ],
             [
              0.6666666666666666,
              "#ed7953"
             ],
             [
              0.7777777777777778,
              "#fb9f3a"
             ],
             [
              0.8888888888888888,
              "#fdca26"
             ],
             [
              1,
              "#f0f921"
             ]
            ],
            "type": "contour"
           }
          ],
          "contourcarpet": [
           {
            "colorbar": {
             "outlinewidth": 0,
             "ticks": ""
            },
            "type": "contourcarpet"
           }
          ],
          "heatmap": [
           {
            "colorbar": {
             "outlinewidth": 0,
             "ticks": ""
            },
            "colorscale": [
             [
              0,
              "#0d0887"
             ],
             [
              0.1111111111111111,
              "#46039f"
             ],
             [
              0.2222222222222222,
              "#7201a8"
             ],
             [
              0.3333333333333333,
              "#9c179e"
             ],
             [
              0.4444444444444444,
              "#bd3786"
             ],
             [
              0.5555555555555556,
              "#d8576b"
             ],
             [
              0.6666666666666666,
              "#ed7953"
             ],
             [
              0.7777777777777778,
              "#fb9f3a"
             ],
             [
              0.8888888888888888,
              "#fdca26"
             ],
             [
              1,
              "#f0f921"
             ]
            ],
            "type": "heatmap"
           }
          ],
          "histogram": [
           {
            "marker": {
             "pattern": {
              "fillmode": "overlay",
              "size": 10,
              "solidity": 0.2
             }
            },
            "type": "histogram"
           }
          ],
          "histogram2d": [
           {
            "colorbar": {
             "outlinewidth": 0,
             "ticks": ""
            },
            "colorscale": [
             [
              0,
              "#0d0887"
             ],
             [
              0.1111111111111111,
              "#46039f"
             ],
             [
              0.2222222222222222,
              "#7201a8"
             ],
             [
              0.3333333333333333,
              "#9c179e"
             ],
             [
              0.4444444444444444,
              "#bd3786"
             ],
             [
              0.5555555555555556,
              "#d8576b"
             ],
             [
              0.6666666666666666,
              "#ed7953"
             ],
             [
              0.7777777777777778,
              "#fb9f3a"
             ],
             [
              0.8888888888888888,
              "#fdca26"
             ],
             [
              1,
              "#f0f921"
             ]
            ],
            "type": "histogram2d"
           }
          ],
          "histogram2dcontour": [
           {
            "colorbar": {
             "outlinewidth": 0,
             "ticks": ""
            },
            "colorscale": [
             [
              0,
              "#0d0887"
             ],
             [
              0.1111111111111111,
              "#46039f"
             ],
             [
              0.2222222222222222,
              "#7201a8"
             ],
             [
              0.3333333333333333,
              "#9c179e"
             ],
             [
              0.4444444444444444,
              "#bd3786"
             ],
             [
              0.5555555555555556,
              "#d8576b"
             ],
             [
              0.6666666666666666,
              "#ed7953"
             ],
             [
              0.7777777777777778,
              "#fb9f3a"
             ],
             [
              0.8888888888888888,
              "#fdca26"
             ],
             [
              1,
              "#f0f921"
             ]
            ],
            "type": "histogram2dcontour"
           }
          ],
          "mesh3d": [
           {
            "colorbar": {
             "outlinewidth": 0,
             "ticks": ""
            },
            "type": "mesh3d"
           }
          ],
          "parcoords": [
           {
            "line": {
             "colorbar": {
              "outlinewidth": 0,
              "ticks": ""
             }
            },
            "type": "parcoords"
           }
          ],
          "pie": [
           {
            "automargin": true,
            "type": "pie"
           }
          ],
          "scatter": [
           {
            "fillpattern": {
             "fillmode": "overlay",
             "size": 10,
             "solidity": 0.2
            },
            "type": "scatter"
           }
          ],
          "scatter3d": [
           {
            "line": {
             "colorbar": {
              "outlinewidth": 0,
              "ticks": ""
             }
            },
            "marker": {
             "colorbar": {
              "outlinewidth": 0,
              "ticks": ""
             }
            },
            "type": "scatter3d"
           }
          ],
          "scattercarpet": [
           {
            "marker": {
             "colorbar": {
              "outlinewidth": 0,
              "ticks": ""
             }
            },
            "type": "scattercarpet"
           }
          ],
          "scattergeo": [
           {
            "marker": {
             "colorbar": {
              "outlinewidth": 0,
              "ticks": ""
             }
            },
            "type": "scattergeo"
           }
          ],
          "scattergl": [
           {
            "marker": {
             "colorbar": {
              "outlinewidth": 0,
              "ticks": ""
             }
            },
            "type": "scattergl"
           }
          ],
          "scattermap": [
           {
            "marker": {
             "colorbar": {
              "outlinewidth": 0,
              "ticks": ""
             }
            },
            "type": "scattermap"
           }
          ],
          "scattermapbox": [
           {
            "marker": {
             "colorbar": {
              "outlinewidth": 0,
              "ticks": ""
             }
            },
            "type": "scattermapbox"
           }
          ],
          "scatterpolar": [
           {
            "marker": {
             "colorbar": {
              "outlinewidth": 0,
              "ticks": ""
             }
            },
            "type": "scatterpolar"
           }
          ],
          "scatterpolargl": [
           {
            "marker": {
             "colorbar": {
              "outlinewidth": 0,
              "ticks": ""
             }
            },
            "type": "scatterpolargl"
           }
          ],
          "scatterternary": [
           {
            "marker": {
             "colorbar": {
              "outlinewidth": 0,
              "ticks": ""
             }
            },
            "type": "scatterternary"
           }
          ],
          "surface": [
           {
            "colorbar": {
             "outlinewidth": 0,
             "ticks": ""
            },
            "colorscale": [
             [
              0,
              "#0d0887"
             ],
             [
              0.1111111111111111,
              "#46039f"
             ],
             [
              0.2222222222222222,
              "#7201a8"
             ],
             [
              0.3333333333333333,
              "#9c179e"
             ],
             [
              0.4444444444444444,
              "#bd3786"
             ],
             [
              0.5555555555555556,
              "#d8576b"
             ],
             [
              0.6666666666666666,
              "#ed7953"
             ],
             [
              0.7777777777777778,
              "#fb9f3a"
             ],
             [
              0.8888888888888888,
              "#fdca26"
             ],
             [
              1,
              "#f0f921"
             ]
            ],
            "type": "surface"
           }
          ],
          "table": [
           {
            "cells": {
             "fill": {
              "color": "#EBF0F8"
             },
             "line": {
              "color": "white"
             }
            },
            "header": {
             "fill": {
              "color": "#C8D4E3"
             },
             "line": {
              "color": "white"
             }
            },
            "type": "table"
           }
          ]
         },
         "layout": {
          "annotationdefaults": {
           "arrowcolor": "#2a3f5f",
           "arrowhead": 0,
           "arrowwidth": 1
          },
          "autotypenumbers": "strict",
          "coloraxis": {
           "colorbar": {
            "outlinewidth": 0,
            "ticks": ""
           }
          },
          "colorscale": {
           "diverging": [
            [
             0,
             "#8e0152"
            ],
            [
             0.1,
             "#c51b7d"
            ],
            [
             0.2,
             "#de77ae"
            ],
            [
             0.3,
             "#f1b6da"
            ],
            [
             0.4,
             "#fde0ef"
            ],
            [
             0.5,
             "#f7f7f7"
            ],
            [
             0.6,
             "#e6f5d0"
            ],
            [
             0.7,
             "#b8e186"
            ],
            [
             0.8,
             "#7fbc41"
            ],
            [
             0.9,
             "#4d9221"
            ],
            [
             1,
             "#276419"
            ]
           ],
           "sequential": [
            [
             0,
             "#0d0887"
            ],
            [
             0.1111111111111111,
             "#46039f"
            ],
            [
             0.2222222222222222,
             "#7201a8"
            ],
            [
             0.3333333333333333,
             "#9c179e"
            ],
            [
             0.4444444444444444,
             "#bd3786"
            ],
            [
             0.5555555555555556,
             "#d8576b"
            ],
            [
             0.6666666666666666,
             "#ed7953"
            ],
            [
             0.7777777777777778,
             "#fb9f3a"
            ],
            [
             0.8888888888888888,
             "#fdca26"
            ],
            [
             1,
             "#f0f921"
            ]
           ],
           "sequentialminus": [
            [
             0,
             "#0d0887"
            ],
            [
             0.1111111111111111,
             "#46039f"
            ],
            [
             0.2222222222222222,
             "#7201a8"
            ],
            [
             0.3333333333333333,
             "#9c179e"
            ],
            [
             0.4444444444444444,
             "#bd3786"
            ],
            [
             0.5555555555555556,
             "#d8576b"
            ],
            [
             0.6666666666666666,
             "#ed7953"
            ],
            [
             0.7777777777777778,
             "#fb9f3a"
            ],
            [
             0.8888888888888888,
             "#fdca26"
            ],
            [
             1,
             "#f0f921"
            ]
           ]
          },
          "colorway": [
           "#636efa",
           "#EF553B",
           "#00cc96",
           "#ab63fa",
           "#FFA15A",
           "#19d3f3",
           "#FF6692",
           "#B6E880",
           "#FF97FF",
           "#FECB52"
          ],
          "font": {
           "color": "#2a3f5f"
          },
          "geo": {
           "bgcolor": "white",
           "lakecolor": "white",
           "landcolor": "white",
           "showlakes": true,
           "showland": true,
           "subunitcolor": "#C8D4E3"
          },
          "hoverlabel": {
           "align": "left"
          },
          "hovermode": "closest",
          "mapbox": {
           "style": "light"
          },
          "paper_bgcolor": "white",
          "plot_bgcolor": "white",
          "polar": {
           "angularaxis": {
            "gridcolor": "#EBF0F8",
            "linecolor": "#EBF0F8",
            "ticks": ""
           },
           "bgcolor": "white",
           "radialaxis": {
            "gridcolor": "#EBF0F8",
            "linecolor": "#EBF0F8",
            "ticks": ""
           }
          },
          "scene": {
           "xaxis": {
            "backgroundcolor": "white",
            "gridcolor": "#DFE8F3",
            "gridwidth": 2,
            "linecolor": "#EBF0F8",
            "showbackground": true,
            "ticks": "",
            "zerolinecolor": "#EBF0F8"
           },
           "yaxis": {
            "backgroundcolor": "white",
            "gridcolor": "#DFE8F3",
            "gridwidth": 2,
            "linecolor": "#EBF0F8",
            "showbackground": true,
            "ticks": "",
            "zerolinecolor": "#EBF0F8"
           },
           "zaxis": {
            "backgroundcolor": "white",
            "gridcolor": "#DFE8F3",
            "gridwidth": 2,
            "linecolor": "#EBF0F8",
            "showbackground": true,
            "ticks": "",
            "zerolinecolor": "#EBF0F8"
           }
          },
          "shapedefaults": {
           "line": {
            "color": "#2a3f5f"
           }
          },
          "ternary": {
           "aaxis": {
            "gridcolor": "#DFE8F3",
            "linecolor": "#A2B1C6",
            "ticks": ""
           },
           "baxis": {
            "gridcolor": "#DFE8F3",
            "linecolor": "#A2B1C6",
            "ticks": ""
           },
           "bgcolor": "white",
           "caxis": {
            "gridcolor": "#DFE8F3",
            "linecolor": "#A2B1C6",
            "ticks": ""
           }
          },
          "title": {
           "x": 0.05
          },
          "xaxis": {
           "automargin": true,
           "gridcolor": "#EBF0F8",
           "linecolor": "#EBF0F8",
           "ticks": "",
           "title": {
            "standoff": 15
           },
           "zerolinecolor": "#EBF0F8",
           "zerolinewidth": 2
          },
          "yaxis": {
           "automargin": true,
           "gridcolor": "#EBF0F8",
           "linecolor": "#EBF0F8",
           "ticks": "",
           "title": {
            "standoff": 15
           },
           "zerolinecolor": "#EBF0F8",
           "zerolinewidth": 2
          }
         }
        },
        "title": {
         "text": "Pronóstico de Horas Extra - IT"
        },
        "xaxis": {
         "title": {
          "text": "Fecha"
         }
        },
        "yaxis": {
         "title": {
          "text": "Horas Extra"
         }
        }
       }
      }
     },
     "metadata": {},
     "output_type": "display_data"
    },
    {
     "name": "stdout",
     "output_type": "stream",
     "text": [
      "Visualización generada para IT\n"
     ]
    },
    {
     "data": {
      "application/vnd.plotly.v1+json": {
       "config": {
        "plotlyServerURL": "https://plot.ly"
       },
       "data": [
        {
         "customdata": {
          "bdata": "zMzMzMzMGkAAAAAAAAAAAHE/AuqQPS9AFa5H4XoUHUAAAAAAAAAAAAvYH/qzMDBACtejcD0KEkAAAAAAAAAAAJDE7TtJ3CpA3t6jXgtq/D8AAAAAAAAAAOdUcO9rZCVArEfhehSu7z8AAAAAAAAAAIbtScsL0iNAwfUoXI/CFkAAAAAAAAAAAOxTsDFyOC1AuB6F61G4IkCgtSj97CTcP+J7kDe+RzJAQRY4VPakJkDY9HBCLzcDQKb36WsQPjRAUrgehetRJEA4+hYMCNbzP65IXQSLFDNAKlyPwvUoF0AAAAAAAAAAACCH42Slay1ASOF6FK5HEEAAAAAAAAAAAK9J2Y0B+ylAVsR/NXG5IEAAAAAAAAAAALDOjdxNSDFA4noUrkfhLkCuQ/FUOhQaQPYp2Bg5XDhAtx6F61G4GEAAAAAAAAAAAGZoXnlTMy5AcT0K16NwHkAAAAAAAAAAAOJ7kDe+hzBAUrgehetRHUAAAAAAAAAAAJqaFSMQQDBAHMYJQobjGUAAAAAAAAAAABm8oKTtyC5A33oUrkfhAEAAAAAAAAAAAMP3IG98DyZAAAAAAAAAAAAAAAAAAAAAAAvZm4Mq1yFAZmZmZmZmIkBgq1FZfOfRP7gfAXXIHjJA7tfo9kcfMkDR1jVqZWciQHTEtjjdCjtAaD0K16NwDUAAAAAAAAAAAGVoXnlTMylAuB6F61G4EUAAAAAAAAAAAGdoXnlTsypAzszMzMzMGUAAAAAAAAAAAHI/AuqQvS5A",
          "dtype": "f8",
          "shape": "24, 3"
         },
         "hovertemplate": "<b>Fecha:</b> %{x}<br><b>Valor Real:</b> %{y:.1f}<br><b>Predicción:</b> %{customdata[0]:.1f}<br><b>IC Inferior:</b> %{customdata[1]:.1f}<br><b>IC Superior:</b> %{customdata[2]:.1f}<extra></extra>",
         "line": {
          "color": "blue"
         },
         "mode": "markers+lines",
         "name": "Datos Históricos",
         "type": "scatter",
         "x": [
          "2024-12-15T00:00:00.000000000",
          "2024-12-22T00:00:00.000000000",
          "2024-12-29T00:00:00.000000000",
          "2025-01-05T00:00:00.000000000",
          "2025-01-12T00:00:00.000000000",
          "2025-01-19T00:00:00.000000000",
          "2025-01-26T00:00:00.000000000",
          "2025-02-02T00:00:00.000000000",
          "2025-02-09T00:00:00.000000000",
          "2025-02-16T00:00:00.000000000",
          "2025-02-23T00:00:00.000000000",
          "2025-03-02T00:00:00.000000000",
          "2025-03-09T00:00:00.000000000",
          "2025-03-16T00:00:00.000000000",
          "2025-03-23T00:00:00.000000000",
          "2025-03-30T00:00:00.000000000",
          "2025-04-06T00:00:00.000000000",
          "2025-04-13T00:00:00.000000000",
          "2025-04-20T00:00:00.000000000",
          "2025-04-27T00:00:00.000000000",
          "2025-05-04T00:00:00.000000000",
          "2025-05-11T00:00:00.000000000",
          "2025-05-18T00:00:00.000000000",
          "2025-05-25T00:00:00.000000000"
         ],
         "y": {
          "bdata": "Fa5H4XoUHUAK16NwPQoSQBWuR+F6FB5ArkfhehSu7z/C9Shcj8IWQLgehetRuCJAmpmZmZmZJUBSuB6F61EkQClcj8L1KBdASOF6FK5HEEBdj8L1KFwfQOF6FK5H4S5AuB6F61G4GEBxPQrXo3AeQFK4HoXrUR1AzczMzMzMF0DhehSuR+EAQAAAAAAAAAAAZmZmZmZmIkCamZmZmZkxQHE9CtejcA1AuB6F61G4EUDNzMzMzMwZQB+F61G4HgdA",
          "dtype": "f8"
         }
        },
        {
         "customdata": {
          "bdata": "AAAAAAAAAABxPwLqkD0vQAAAAAAAAAAAC9gf+rMwMEAAAAAAAAAAAJDE7TtJ3CpAAAAAAAAAAADnVHDva2QlQAAAAAAAAAAAhu1JywvSI0AAAAAAAAAAAOxTsDFyOC1AoLUo/ewk3D/ie5A3vkcyQNj0cEIvNwNApvfpaxA+NEA4+hYMCNbzP65IXQSLFDNAAAAAAAAAAAAgh+NkpWstQAAAAAAAAAAAr0nZjQH7KUAAAAAAAAAAALDOjdxNSDFArkPxVDoUGkD2KdgYOVw4QAAAAAAAAAAAZmheeVMzLkAAAAAAAAAAAOJ7kDe+hzBAAAAAAAAAAACamhUjEEAwQAAAAAAAAAAAGbygpO3ILkAAAAAAAAAAAMP3IG98DyZAAAAAAAAAAAAL2ZuDKtchQGCrUVl859E/uB8BdcgeMkDR1jVqZWciQHTEtjjdCjtAAAAAAAAAAABlaF55UzMpQAAAAAAAAAAAZ2heeVOzKkAAAAAAAAAAAHI/AuqQvS5AAAAAAAAAAAD5NrVSNaooQAAAAAAAAAAACJAgxv4GMEAAAAAAAAAAAOr4P47N3DJAAAAAAAAAAAACiCjrr0A1QA==",
          "dtype": "f8",
          "shape": "28, 2"
         },
         "hovertemplate": "<b>Fecha:</b> %{x}<br><b>Predicción:</b> %{y:.1f}<br><b>IC Inferior:</b> %{customdata[0]:.1f}<br><b>IC Superior:</b> %{customdata[1]:.1f}<extra></extra>",
         "line": {
          "color": "red"
         },
         "mode": "lines",
         "name": "Predicción",
         "type": "scatter",
         "x": [
          "2024-12-15T00:00:00.000000000",
          "2024-12-22T00:00:00.000000000",
          "2024-12-29T00:00:00.000000000",
          "2025-01-05T00:00:00.000000000",
          "2025-01-12T00:00:00.000000000",
          "2025-01-19T00:00:00.000000000",
          "2025-01-26T00:00:00.000000000",
          "2025-02-02T00:00:00.000000000",
          "2025-02-09T00:00:00.000000000",
          "2025-02-16T00:00:00.000000000",
          "2025-02-23T00:00:00.000000000",
          "2025-03-02T00:00:00.000000000",
          "2025-03-09T00:00:00.000000000",
          "2025-03-16T00:00:00.000000000",
          "2025-03-23T00:00:00.000000000",
          "2025-03-30T00:00:00.000000000",
          "2025-04-06T00:00:00.000000000",
          "2025-04-13T00:00:00.000000000",
          "2025-04-20T00:00:00.000000000",
          "2025-04-27T00:00:00.000000000",
          "2025-05-04T00:00:00.000000000",
          "2025-05-11T00:00:00.000000000",
          "2025-05-18T00:00:00.000000000",
          "2025-05-25T00:00:00.000000000",
          "2025-06-01T00:00:00.000000000",
          "2025-06-08T00:00:00.000000000",
          "2025-06-15T00:00:00.000000000",
          "2025-06-22T00:00:00.000000000"
         ],
         "y": {
          "bdata": "zMzMzMzMGkAVrkfhehQdQArXo3A9ChJA3t6jXgtq/D+sR+F6FK7vP8H1KFyPwhZAuB6F61G4IkBBFjhU9qQmQFK4HoXrUSRAKlyPwvUoF0BI4XoUrkcQQFbEfzVxuSBA4noUrkfhLkC3HoXrUbgYQHE9CtejcB5AUrgehetRHUAcxglChuMZQN96FK5H4QBAAAAAAAAAAABmZmZmZmYiQO7X6PZHHzJAaD0K16NwDUC4HoXrUbgRQM7MzMzMzBlAuXdlPCtMC0C5d2U8K0wLQLl3ZTwrTAtAuXdlPCtMC0A=",
          "dtype": "f8"
         }
        },
        {
         "fill": "toself",
         "fillcolor": "rgba(211,211,211,0.3)",
         "hoverinfo": "skip",
         "line": {
          "color": "rgba(255,255,255,0)"
         },
         "name": "Intervalo de Confianza 95%",
         "showlegend": true,
         "type": "scatter",
         "x": [
          "2024-12-15T00:00:00",
          "2024-12-22T00:00:00",
          "2024-12-29T00:00:00",
          "2025-01-05T00:00:00",
          "2025-01-12T00:00:00",
          "2025-01-19T00:00:00",
          "2025-01-26T00:00:00",
          "2025-02-02T00:00:00",
          "2025-02-09T00:00:00",
          "2025-02-16T00:00:00",
          "2025-02-23T00:00:00",
          "2025-03-02T00:00:00",
          "2025-03-09T00:00:00",
          "2025-03-16T00:00:00",
          "2025-03-23T00:00:00",
          "2025-03-30T00:00:00",
          "2025-04-06T00:00:00",
          "2025-04-13T00:00:00",
          "2025-04-20T00:00:00",
          "2025-04-27T00:00:00",
          "2025-05-04T00:00:00",
          "2025-05-11T00:00:00",
          "2025-05-18T00:00:00",
          "2025-05-25T00:00:00",
          "2025-06-01T00:00:00",
          "2025-06-08T00:00:00",
          "2025-06-15T00:00:00",
          "2025-06-22T00:00:00",
          "2025-06-22T00:00:00",
          "2025-06-15T00:00:00",
          "2025-06-08T00:00:00",
          "2025-06-01T00:00:00",
          "2025-05-25T00:00:00",
          "2025-05-18T00:00:00",
          "2025-05-11T00:00:00",
          "2025-05-04T00:00:00",
          "2025-04-27T00:00:00",
          "2025-04-20T00:00:00",
          "2025-04-13T00:00:00",
          "2025-04-06T00:00:00",
          "2025-03-30T00:00:00",
          "2025-03-23T00:00:00",
          "2025-03-16T00:00:00",
          "2025-03-09T00:00:00",
          "2025-03-02T00:00:00",
          "2025-02-23T00:00:00",
          "2025-02-16T00:00:00",
          "2025-02-09T00:00:00",
          "2025-02-02T00:00:00",
          "2025-01-26T00:00:00",
          "2025-01-19T00:00:00",
          "2025-01-12T00:00:00",
          "2025-01-05T00:00:00",
          "2024-12-29T00:00:00",
          "2024-12-22T00:00:00",
          "2024-12-15T00:00:00"
         ],
         "y": [
          15.62024623181762,
          16.19024623181762,
          13.43024623181762,
          10.69613598104702,
          9.91024623181762,
          14.61024623181762,
          18.28024623181762,
          20.242438072796766,
          19.08024623181762,
          14.71024623181762,
          12.99024623181762,
          17.282438072796765,
          24.36024623181762,
          15.100246231817618,
          16.53024623181762,
          16.25024623181762,
          15.392438072796766,
          11.03024623181762,
          8.92024623181762,
          18.120246231817617,
          27.04243807279677,
          12.600246231817616,
          13.35024623181762,
          15.370246231817621,
          12.332438072796764,
          16.027325041723117,
          18.862511530512087,
          21.252684304614384,
          0,
          0,
          0,
          0,
          0,
          0,
          0,
          9.201945609161529,
          0.2797537681823794,
          0,
          0,
          0,
          0,
          0,
          0,
          6.519753768182381,
          0,
          0,
          0,
          1.2397537681823803,
          2.401945609161526,
          0.43975376818237955,
          0,
          0,
          0,
          0,
          0,
          0
         ]
        }
       ],
       "layout": {
        "hovermode": "x unified",
        "legend": {
         "orientation": "h",
         "x": 0.5,
         "xanchor": "center",
         "y": -0.4,
         "yanchor": "bottom"
        },
        "showlegend": true,
        "template": {
         "data": {
          "bar": [
           {
            "error_x": {
             "color": "#2a3f5f"
            },
            "error_y": {
             "color": "#2a3f5f"
            },
            "marker": {
             "line": {
              "color": "white",
              "width": 0.5
             },
             "pattern": {
              "fillmode": "overlay",
              "size": 10,
              "solidity": 0.2
             }
            },
            "type": "bar"
           }
          ],
          "barpolar": [
           {
            "marker": {
             "line": {
              "color": "white",
              "width": 0.5
             },
             "pattern": {
              "fillmode": "overlay",
              "size": 10,
              "solidity": 0.2
             }
            },
            "type": "barpolar"
           }
          ],
          "carpet": [
           {
            "aaxis": {
             "endlinecolor": "#2a3f5f",
             "gridcolor": "#C8D4E3",
             "linecolor": "#C8D4E3",
             "minorgridcolor": "#C8D4E3",
             "startlinecolor": "#2a3f5f"
            },
            "baxis": {
             "endlinecolor": "#2a3f5f",
             "gridcolor": "#C8D4E3",
             "linecolor": "#C8D4E3",
             "minorgridcolor": "#C8D4E3",
             "startlinecolor": "#2a3f5f"
            },
            "type": "carpet"
           }
          ],
          "choropleth": [
           {
            "colorbar": {
             "outlinewidth": 0,
             "ticks": ""
            },
            "type": "choropleth"
           }
          ],
          "contour": [
           {
            "colorbar": {
             "outlinewidth": 0,
             "ticks": ""
            },
            "colorscale": [
             [
              0,
              "#0d0887"
             ],
             [
              0.1111111111111111,
              "#46039f"
             ],
             [
              0.2222222222222222,
              "#7201a8"
             ],
             [
              0.3333333333333333,
              "#9c179e"
             ],
             [
              0.4444444444444444,
              "#bd3786"
             ],
             [
              0.5555555555555556,
              "#d8576b"
             ],
             [
              0.6666666666666666,
              "#ed7953"
             ],
             [
              0.7777777777777778,
              "#fb9f3a"
             ],
             [
              0.8888888888888888,
              "#fdca26"
             ],
             [
              1,
              "#f0f921"
             ]
            ],
            "type": "contour"
           }
          ],
          "contourcarpet": [
           {
            "colorbar": {
             "outlinewidth": 0,
             "ticks": ""
            },
            "type": "contourcarpet"
           }
          ],
          "heatmap": [
           {
            "colorbar": {
             "outlinewidth": 0,
             "ticks": ""
            },
            "colorscale": [
             [
              0,
              "#0d0887"
             ],
             [
              0.1111111111111111,
              "#46039f"
             ],
             [
              0.2222222222222222,
              "#7201a8"
             ],
             [
              0.3333333333333333,
              "#9c179e"
             ],
             [
              0.4444444444444444,
              "#bd3786"
             ],
             [
              0.5555555555555556,
              "#d8576b"
             ],
             [
              0.6666666666666666,
              "#ed7953"
             ],
             [
              0.7777777777777778,
              "#fb9f3a"
             ],
             [
              0.8888888888888888,
              "#fdca26"
             ],
             [
              1,
              "#f0f921"
             ]
            ],
            "type": "heatmap"
           }
          ],
          "histogram": [
           {
            "marker": {
             "pattern": {
              "fillmode": "overlay",
              "size": 10,
              "solidity": 0.2
             }
            },
            "type": "histogram"
           }
          ],
          "histogram2d": [
           {
            "colorbar": {
             "outlinewidth": 0,
             "ticks": ""
            },
            "colorscale": [
             [
              0,
              "#0d0887"
             ],
             [
              0.1111111111111111,
              "#46039f"
             ],
             [
              0.2222222222222222,
              "#7201a8"
             ],
             [
              0.3333333333333333,
              "#9c179e"
             ],
             [
              0.4444444444444444,
              "#bd3786"
             ],
             [
              0.5555555555555556,
              "#d8576b"
             ],
             [
              0.6666666666666666,
              "#ed7953"
             ],
             [
              0.7777777777777778,
              "#fb9f3a"
             ],
             [
              0.8888888888888888,
              "#fdca26"
             ],
             [
              1,
              "#f0f921"
             ]
            ],
            "type": "histogram2d"
           }
          ],
          "histogram2dcontour": [
           {
            "colorbar": {
             "outlinewidth": 0,
             "ticks": ""
            },
            "colorscale": [
             [
              0,
              "#0d0887"
             ],
             [
              0.1111111111111111,
              "#46039f"
             ],
             [
              0.2222222222222222,
              "#7201a8"
             ],
             [
              0.3333333333333333,
              "#9c179e"
             ],
             [
              0.4444444444444444,
              "#bd3786"
             ],
             [
              0.5555555555555556,
              "#d8576b"
             ],
             [
              0.6666666666666666,
              "#ed7953"
             ],
             [
              0.7777777777777778,
              "#fb9f3a"
             ],
             [
              0.8888888888888888,
              "#fdca26"
             ],
             [
              1,
              "#f0f921"
             ]
            ],
            "type": "histogram2dcontour"
           }
          ],
          "mesh3d": [
           {
            "colorbar": {
             "outlinewidth": 0,
             "ticks": ""
            },
            "type": "mesh3d"
           }
          ],
          "parcoords": [
           {
            "line": {
             "colorbar": {
              "outlinewidth": 0,
              "ticks": ""
             }
            },
            "type": "parcoords"
           }
          ],
          "pie": [
           {
            "automargin": true,
            "type": "pie"
           }
          ],
          "scatter": [
           {
            "fillpattern": {
             "fillmode": "overlay",
             "size": 10,
             "solidity": 0.2
            },
            "type": "scatter"
           }
          ],
          "scatter3d": [
           {
            "line": {
             "colorbar": {
              "outlinewidth": 0,
              "ticks": ""
             }
            },
            "marker": {
             "colorbar": {
              "outlinewidth": 0,
              "ticks": ""
             }
            },
            "type": "scatter3d"
           }
          ],
          "scattercarpet": [
           {
            "marker": {
             "colorbar": {
              "outlinewidth": 0,
              "ticks": ""
             }
            },
            "type": "scattercarpet"
           }
          ],
          "scattergeo": [
           {
            "marker": {
             "colorbar": {
              "outlinewidth": 0,
              "ticks": ""
             }
            },
            "type": "scattergeo"
           }
          ],
          "scattergl": [
           {
            "marker": {
             "colorbar": {
              "outlinewidth": 0,
              "ticks": ""
             }
            },
            "type": "scattergl"
           }
          ],
          "scattermap": [
           {
            "marker": {
             "colorbar": {
              "outlinewidth": 0,
              "ticks": ""
             }
            },
            "type": "scattermap"
           }
          ],
          "scattermapbox": [
           {
            "marker": {
             "colorbar": {
              "outlinewidth": 0,
              "ticks": ""
             }
            },
            "type": "scattermapbox"
           }
          ],
          "scatterpolar": [
           {
            "marker": {
             "colorbar": {
              "outlinewidth": 0,
              "ticks": ""
             }
            },
            "type": "scatterpolar"
           }
          ],
          "scatterpolargl": [
           {
            "marker": {
             "colorbar": {
              "outlinewidth": 0,
              "ticks": ""
             }
            },
            "type": "scatterpolargl"
           }
          ],
          "scatterternary": [
           {
            "marker": {
             "colorbar": {
              "outlinewidth": 0,
              "ticks": ""
             }
            },
            "type": "scatterternary"
           }
          ],
          "surface": [
           {
            "colorbar": {
             "outlinewidth": 0,
             "ticks": ""
            },
            "colorscale": [
             [
              0,
              "#0d0887"
             ],
             [
              0.1111111111111111,
              "#46039f"
             ],
             [
              0.2222222222222222,
              "#7201a8"
             ],
             [
              0.3333333333333333,
              "#9c179e"
             ],
             [
              0.4444444444444444,
              "#bd3786"
             ],
             [
              0.5555555555555556,
              "#d8576b"
             ],
             [
              0.6666666666666666,
              "#ed7953"
             ],
             [
              0.7777777777777778,
              "#fb9f3a"
             ],
             [
              0.8888888888888888,
              "#fdca26"
             ],
             [
              1,
              "#f0f921"
             ]
            ],
            "type": "surface"
           }
          ],
          "table": [
           {
            "cells": {
             "fill": {
              "color": "#EBF0F8"
             },
             "line": {
              "color": "white"
             }
            },
            "header": {
             "fill": {
              "color": "#C8D4E3"
             },
             "line": {
              "color": "white"
             }
            },
            "type": "table"
           }
          ]
         },
         "layout": {
          "annotationdefaults": {
           "arrowcolor": "#2a3f5f",
           "arrowhead": 0,
           "arrowwidth": 1
          },
          "autotypenumbers": "strict",
          "coloraxis": {
           "colorbar": {
            "outlinewidth": 0,
            "ticks": ""
           }
          },
          "colorscale": {
           "diverging": [
            [
             0,
             "#8e0152"
            ],
            [
             0.1,
             "#c51b7d"
            ],
            [
             0.2,
             "#de77ae"
            ],
            [
             0.3,
             "#f1b6da"
            ],
            [
             0.4,
             "#fde0ef"
            ],
            [
             0.5,
             "#f7f7f7"
            ],
            [
             0.6,
             "#e6f5d0"
            ],
            [
             0.7,
             "#b8e186"
            ],
            [
             0.8,
             "#7fbc41"
            ],
            [
             0.9,
             "#4d9221"
            ],
            [
             1,
             "#276419"
            ]
           ],
           "sequential": [
            [
             0,
             "#0d0887"
            ],
            [
             0.1111111111111111,
             "#46039f"
            ],
            [
             0.2222222222222222,
             "#7201a8"
            ],
            [
             0.3333333333333333,
             "#9c179e"
            ],
            [
             0.4444444444444444,
             "#bd3786"
            ],
            [
             0.5555555555555556,
             "#d8576b"
            ],
            [
             0.6666666666666666,
             "#ed7953"
            ],
            [
             0.7777777777777778,
             "#fb9f3a"
            ],
            [
             0.8888888888888888,
             "#fdca26"
            ],
            [
             1,
             "#f0f921"
            ]
           ],
           "sequentialminus": [
            [
             0,
             "#0d0887"
            ],
            [
             0.1111111111111111,
             "#46039f"
            ],
            [
             0.2222222222222222,
             "#7201a8"
            ],
            [
             0.3333333333333333,
             "#9c179e"
            ],
            [
             0.4444444444444444,
             "#bd3786"
            ],
            [
             0.5555555555555556,
             "#d8576b"
            ],
            [
             0.6666666666666666,
             "#ed7953"
            ],
            [
             0.7777777777777778,
             "#fb9f3a"
            ],
            [
             0.8888888888888888,
             "#fdca26"
            ],
            [
             1,
             "#f0f921"
            ]
           ]
          },
          "colorway": [
           "#636efa",
           "#EF553B",
           "#00cc96",
           "#ab63fa",
           "#FFA15A",
           "#19d3f3",
           "#FF6692",
           "#B6E880",
           "#FF97FF",
           "#FECB52"
          ],
          "font": {
           "color": "#2a3f5f"
          },
          "geo": {
           "bgcolor": "white",
           "lakecolor": "white",
           "landcolor": "white",
           "showlakes": true,
           "showland": true,
           "subunitcolor": "#C8D4E3"
          },
          "hoverlabel": {
           "align": "left"
          },
          "hovermode": "closest",
          "mapbox": {
           "style": "light"
          },
          "paper_bgcolor": "white",
          "plot_bgcolor": "white",
          "polar": {
           "angularaxis": {
            "gridcolor": "#EBF0F8",
            "linecolor": "#EBF0F8",
            "ticks": ""
           },
           "bgcolor": "white",
           "radialaxis": {
            "gridcolor": "#EBF0F8",
            "linecolor": "#EBF0F8",
            "ticks": ""
           }
          },
          "scene": {
           "xaxis": {
            "backgroundcolor": "white",
            "gridcolor": "#DFE8F3",
            "gridwidth": 2,
            "linecolor": "#EBF0F8",
            "showbackground": true,
            "ticks": "",
            "zerolinecolor": "#EBF0F8"
           },
           "yaxis": {
            "backgroundcolor": "white",
            "gridcolor": "#DFE8F3",
            "gridwidth": 2,
            "linecolor": "#EBF0F8",
            "showbackground": true,
            "ticks": "",
            "zerolinecolor": "#EBF0F8"
           },
           "zaxis": {
            "backgroundcolor": "white",
            "gridcolor": "#DFE8F3",
            "gridwidth": 2,
            "linecolor": "#EBF0F8",
            "showbackground": true,
            "ticks": "",
            "zerolinecolor": "#EBF0F8"
           }
          },
          "shapedefaults": {
           "line": {
            "color": "#2a3f5f"
           }
          },
          "ternary": {
           "aaxis": {
            "gridcolor": "#DFE8F3",
            "linecolor": "#A2B1C6",
            "ticks": ""
           },
           "baxis": {
            "gridcolor": "#DFE8F3",
            "linecolor": "#A2B1C6",
            "ticks": ""
           },
           "bgcolor": "white",
           "caxis": {
            "gridcolor": "#DFE8F3",
            "linecolor": "#A2B1C6",
            "ticks": ""
           }
          },
          "title": {
           "x": 0.05
          },
          "xaxis": {
           "automargin": true,
           "gridcolor": "#EBF0F8",
           "linecolor": "#EBF0F8",
           "ticks": "",
           "title": {
            "standoff": 15
           },
           "zerolinecolor": "#EBF0F8",
           "zerolinewidth": 2
          },
          "yaxis": {
           "automargin": true,
           "gridcolor": "#EBF0F8",
           "linecolor": "#EBF0F8",
           "ticks": "",
           "title": {
            "standoff": 15
           },
           "zerolinecolor": "#EBF0F8",
           "zerolinewidth": 2
          }
         }
        },
        "title": {
         "text": "Pronóstico de Horas Extra - Inventory"
        },
        "xaxis": {
         "title": {
          "text": "Fecha"
         }
        },
        "yaxis": {
         "title": {
          "text": "Horas Extra"
         }
        }
       }
      }
     },
     "metadata": {},
     "output_type": "display_data"
    },
    {
     "name": "stdout",
     "output_type": "stream",
     "text": [
      "Visualización generada para Inventory\n"
     ]
    },
    {
     "data": {
      "application/vnd.plotly.v1+json": {
       "config": {
        "plotlyServerURL": "https://plot.ly"
       },
       "data": [
        {
         "customdata": {
          "bdata": "Q035uPWqIkAAK0oz2AelPy6o38xxoDJA42AFxr8YHUAAAAAAAAAAAMVZ5OEmkTBA/d3YC1fMGUAAAAAAAAAAABZysmYZfC9AmKYdAFIGAEAAAAAAAAAAAL5szWCClyZAlh+qH6QSBkAAAAAAAAAAAP6KsOiWGihAeSJXgvb/BUAAAAAAAAAAALbLW4HrFShAvNommAzoB0AAAAAAAAAAAMe5zwbxjyhAVjdGlEW8IEAAAAAAAAAAADcdhroZqTFAUE2hr0uDHkAAAAAAAAAAAOBUS9zJ6zBApNLNFa0CIUAAAAAAAAAAAN7qSXtNzDFAOAtmCgouGUAAAAAAAAAAALQI+eXyLC9AVDcq8inYIUAAAAAAAAAAADYdeOkLNzJA1/rcoOT3JUD4vbcAtg/7P/h+0UDpRjRAbRiM4FV1IUAAAAAAAAAAAMINqeChBTJALmJHw45pIEAAAAAAAAAAAKOyBlK+fzFA7Hfm4VmEG0AAAAAAAAAAAIef3GgNLDBAGqDp2TsCFEAAAAAAAAAAACXTus0LlyxAY12R1o9BFEAAAAAAAAAAAMqxDsy1tixAuwBoTY56EEAAAAAAAAAAAHYDegc10ypAMyBlMbPhJEDY6PiEKl7yP6aRFYnQuzNAJDVDltENIkAAAAAAAAAAAB6chLvfUTJADrVWk+YyIUAAAAAAAAAAABNcDjpq5DFAjpC5KyQRDkAAAAAAAAAAADxntOs2GipARz3B+FL3DUAAAAAAAAAAAGpS9p7CEypA",
          "dtype": "f8",
          "shape": "24, 3"
         },
         "hovertemplate": "<b>Fecha:</b> %{x}<br><b>Valor Real:</b> %{y:.1f}<br><b>Predicción:</b> %{customdata[0]:.1f}<br><b>IC Inferior:</b> %{customdata[1]:.1f}<br><b>IC Superior:</b> %{customdata[2]:.1f}<extra></extra>",
         "line": {
          "color": "blue"
         },
         "mode": "markers+lines",
         "name": "Datos Históricos",
         "type": "scatter",
         "x": [
          "2024-12-15T00:00:00.000000000",
          "2024-12-22T00:00:00.000000000",
          "2024-12-29T00:00:00.000000000",
          "2025-01-05T00:00:00.000000000",
          "2025-01-12T00:00:00.000000000",
          "2025-01-19T00:00:00.000000000",
          "2025-01-26T00:00:00.000000000",
          "2025-02-02T00:00:00.000000000",
          "2025-02-09T00:00:00.000000000",
          "2025-02-16T00:00:00.000000000",
          "2025-02-23T00:00:00.000000000",
          "2025-03-02T00:00:00.000000000",
          "2025-03-09T00:00:00.000000000",
          "2025-03-16T00:00:00.000000000",
          "2025-03-23T00:00:00.000000000",
          "2025-03-30T00:00:00.000000000",
          "2025-04-06T00:00:00.000000000",
          "2025-04-13T00:00:00.000000000",
          "2025-04-20T00:00:00.000000000",
          "2025-04-27T00:00:00.000000000",
          "2025-05-04T00:00:00.000000000",
          "2025-05-11T00:00:00.000000000",
          "2025-05-18T00:00:00.000000000",
          "2025-05-25T00:00:00.000000000"
         ],
         "y": {
          "bdata": "uB6F61G4EUBSuB6F61EbQMzMzMzMzAxAFa5H4XoUCkAL16NwPQoLQOJ6FK5H4QRAzczMzMzMK0D2KFyPwvUXQOxRuB6F6xxAexSuR+F6F0DD9Shcj0ImQFyPwvUoXCpAmpmZmZmZEkCkcD0K16MfQHE9CtejcB1A9ihcj8L1+D8zMzMzMzMXQPYoXI/C9RBAmpmZmZmZMEDhehSuR+EYQB6F61G4HhdAZmZmZmZm8j9SuB6F61ERQAAAAAAAAAAA",
          "dtype": "f8"
         }
        },
        {
         "customdata": {
          "bdata": "ACtKM9gHpT8uqN/McaAyQAAAAAAAAAAAxVnk4SaRMEAAAAAAAAAAABZysmYZfC9AAAAAAAAAAAC+bM1ggpcmQAAAAAAAAAAA/oqw6JYaKEAAAAAAAAAAALbLW4HrFShAAAAAAAAAAADHuc8G8Y8oQAAAAAAAAAAANx2GuhmpMUAAAAAAAAAAAOBUS9zJ6zBAAAAAAAAAAADe6kl7TcwxQAAAAAAAAAAAtAj55fIsL0AAAAAAAAAAADYdeOkLNzJA+L23ALYP+z/4ftFA6UY0QAAAAAAAAAAAwg2p4KEFMkAAAAAAAAAAAKOyBlK+fzFAAAAAAAAAAACHn9xoDSwwQAAAAAAAAAAAJdO6zQuXLEAAAAAAAAAAAMqxDsy1tixAAAAAAAAAAAB2A3oHNdMqQNjo+IQqXvI/ppEVidC7M0AAAAAAAAAAAB6chLvfUTJAAAAAAAAAAAATXA46auQxQAAAAAAAAAAAPGe06zYaKkAAAAAAAAAAAGpS9p7CEypAAAAAAAAAAACNoEHb/SYmQAAAAAAAAAAAsx1Vd3mLKEAAAAAAAAAAAFWc/0vVtClAAAAAAAAAAAB63zmxldcsQA==",
          "dtype": "f8",
          "shape": "28, 2"
         },
         "hovertemplate": "<b>Fecha:</b> %{x}<br><b>Predicción:</b> %{y:.1f}<br><b>IC Inferior:</b> %{customdata[0]:.1f}<br><b>IC Superior:</b> %{customdata[1]:.1f}<extra></extra>",
         "line": {
          "color": "red"
         },
         "mode": "lines",
         "name": "Predicción",
         "type": "scatter",
         "x": [
          "2024-12-15T00:00:00.000000000",
          "2024-12-22T00:00:00.000000000",
          "2024-12-29T00:00:00.000000000",
          "2025-01-05T00:00:00.000000000",
          "2025-01-12T00:00:00.000000000",
          "2025-01-19T00:00:00.000000000",
          "2025-01-26T00:00:00.000000000",
          "2025-02-02T00:00:00.000000000",
          "2025-02-09T00:00:00.000000000",
          "2025-02-16T00:00:00.000000000",
          "2025-02-23T00:00:00.000000000",
          "2025-03-02T00:00:00.000000000",
          "2025-03-09T00:00:00.000000000",
          "2025-03-16T00:00:00.000000000",
          "2025-03-23T00:00:00.000000000",
          "2025-03-30T00:00:00.000000000",
          "2025-04-06T00:00:00.000000000",
          "2025-04-13T00:00:00.000000000",
          "2025-04-20T00:00:00.000000000",
          "2025-04-27T00:00:00.000000000",
          "2025-05-04T00:00:00.000000000",
          "2025-05-11T00:00:00.000000000",
          "2025-05-18T00:00:00.000000000",
          "2025-05-25T00:00:00.000000000",
          "2025-06-01T00:00:00.000000000",
          "2025-06-08T00:00:00.000000000",
          "2025-06-15T00:00:00.000000000",
          "2025-06-22T00:00:00.000000000"
         ],
         "y": {
          "bdata": "Q035uPWqIkDjYAXGvxgdQP3d2AtXzBlAmKYdAFIGAECWH6ofpBIGQHkiV4L2/wVAvNommAzoB0BWN0aURbwgQFBNoa9Lgx5ApNLNFa0CIUA4C2YKCi4ZQFQ3KvIp2CFA1/rcoOT3JUBtGIzgVXUhQC5iR8OOaSBA7Hfm4VmEG0AaoOnZOwIUQGNdkdaPQRRAuwBoTY56EEAzIGUxs+EkQCQ1Q5bRDSJADrVWk+YyIUCOkLkrJBEOQEc9wfhS9w1Aqevc03+I/D9qDatfQvT/P0vFpLaPVvg/T1yLHyiN+z8=",
          "dtype": "f8"
         }
        },
        {
         "fill": "toself",
         "fillcolor": "rgba(211,211,211,0.3)",
         "hoverinfo": "skip",
         "line": {
          "color": "rgba(255,255,255,0)"
         },
         "name": "Intervalo de Confianza 95%",
         "showlegend": true,
         "type": "scatter",
         "x": [
          "2024-12-15T00:00:00",
          "2024-12-22T00:00:00",
          "2024-12-29T00:00:00",
          "2025-01-05T00:00:00",
          "2025-01-12T00:00:00",
          "2025-01-19T00:00:00",
          "2025-01-26T00:00:00",
          "2025-02-02T00:00:00",
          "2025-02-09T00:00:00",
          "2025-02-16T00:00:00",
          "2025-02-23T00:00:00",
          "2025-03-02T00:00:00",
          "2025-03-09T00:00:00",
          "2025-03-16T00:00:00",
          "2025-03-23T00:00:00",
          "2025-03-30T00:00:00",
          "2025-04-06T00:00:00",
          "2025-04-13T00:00:00",
          "2025-04-20T00:00:00",
          "2025-04-27T00:00:00",
          "2025-05-04T00:00:00",
          "2025-05-11T00:00:00",
          "2025-05-18T00:00:00",
          "2025-05-25T00:00:00",
          "2025-06-01T00:00:00",
          "2025-06-08T00:00:00",
          "2025-06-15T00:00:00",
          "2025-06-22T00:00:00",
          "2025-06-22T00:00:00",
          "2025-06-15T00:00:00",
          "2025-06-08T00:00:00",
          "2025-06-01T00:00:00",
          "2025-05-25T00:00:00",
          "2025-05-18T00:00:00",
          "2025-05-11T00:00:00",
          "2025-05-04T00:00:00",
          "2025-04-27T00:00:00",
          "2025-04-20T00:00:00",
          "2025-04-13T00:00:00",
          "2025-04-06T00:00:00",
          "2025-03-30T00:00:00",
          "2025-03-23T00:00:00",
          "2025-03-16T00:00:00",
          "2025-03-09T00:00:00",
          "2025-03-02T00:00:00",
          "2025-02-23T00:00:00",
          "2025-02-16T00:00:00",
          "2025-02-09T00:00:00",
          "2025-02-02T00:00:00",
          "2025-01-26T00:00:00",
          "2025-01-19T00:00:00",
          "2025-01-12T00:00:00",
          "2025-01-05T00:00:00",
          "2024-12-29T00:00:00",
          "2024-12-22T00:00:00",
          "2024-12-15T00:00:00"
         ],
         "y": [
          18.62673645458579,
          16.56699954819648,
          15.742381295473972,
          11.295916581226603,
          12.051932593870784,
          12.042812387900863,
          12.281135762078419,
          17.660548837416368,
          16.921048897162905,
          17.798057275339367,
          15.587790667199762,
          18.215025512528165,
          20.27699666132591,
          18.022001305840384,
          17.4989978090622,
          16.1720796145087,
          14.2950119295652,
          14.356855751794587,
          13.412513955730656,
          19.733650748983244,
          18.319820136905143,
          17.892245892053392,
          13.051200261852152,
          13.038594214981647,
          11.076155521165015,
          12.272411088123453,
          12.853189825966334,
          14.421063936533518,
          0,
          0,
          0,
          0,
          0,
          0,
          0,
          0,
          1.147989768431719,
          0,
          0,
          0,
          0,
          0,
          0,
          1.691335680774385,
          0,
          0,
          0,
          0,
          0,
          0,
          0,
          0,
          0,
          0,
          0,
          0.04107547403426359
         ]
        }
       ],
       "layout": {
        "hovermode": "x unified",
        "legend": {
         "orientation": "h",
         "x": 0.5,
         "xanchor": "center",
         "y": -0.4,
         "yanchor": "bottom"
        },
        "showlegend": true,
        "template": {
         "data": {
          "bar": [
           {
            "error_x": {
             "color": "#2a3f5f"
            },
            "error_y": {
             "color": "#2a3f5f"
            },
            "marker": {
             "line": {
              "color": "white",
              "width": 0.5
             },
             "pattern": {
              "fillmode": "overlay",
              "size": 10,
              "solidity": 0.2
             }
            },
            "type": "bar"
           }
          ],
          "barpolar": [
           {
            "marker": {
             "line": {
              "color": "white",
              "width": 0.5
             },
             "pattern": {
              "fillmode": "overlay",
              "size": 10,
              "solidity": 0.2
             }
            },
            "type": "barpolar"
           }
          ],
          "carpet": [
           {
            "aaxis": {
             "endlinecolor": "#2a3f5f",
             "gridcolor": "#C8D4E3",
             "linecolor": "#C8D4E3",
             "minorgridcolor": "#C8D4E3",
             "startlinecolor": "#2a3f5f"
            },
            "baxis": {
             "endlinecolor": "#2a3f5f",
             "gridcolor": "#C8D4E3",
             "linecolor": "#C8D4E3",
             "minorgridcolor": "#C8D4E3",
             "startlinecolor": "#2a3f5f"
            },
            "type": "carpet"
           }
          ],
          "choropleth": [
           {
            "colorbar": {
             "outlinewidth": 0,
             "ticks": ""
            },
            "type": "choropleth"
           }
          ],
          "contour": [
           {
            "colorbar": {
             "outlinewidth": 0,
             "ticks": ""
            },
            "colorscale": [
             [
              0,
              "#0d0887"
             ],
             [
              0.1111111111111111,
              "#46039f"
             ],
             [
              0.2222222222222222,
              "#7201a8"
             ],
             [
              0.3333333333333333,
              "#9c179e"
             ],
             [
              0.4444444444444444,
              "#bd3786"
             ],
             [
              0.5555555555555556,
              "#d8576b"
             ],
             [
              0.6666666666666666,
              "#ed7953"
             ],
             [
              0.7777777777777778,
              "#fb9f3a"
             ],
             [
              0.8888888888888888,
              "#fdca26"
             ],
             [
              1,
              "#f0f921"
             ]
            ],
            "type": "contour"
           }
          ],
          "contourcarpet": [
           {
            "colorbar": {
             "outlinewidth": 0,
             "ticks": ""
            },
            "type": "contourcarpet"
           }
          ],
          "heatmap": [
           {
            "colorbar": {
             "outlinewidth": 0,
             "ticks": ""
            },
            "colorscale": [
             [
              0,
              "#0d0887"
             ],
             [
              0.1111111111111111,
              "#46039f"
             ],
             [
              0.2222222222222222,
              "#7201a8"
             ],
             [
              0.3333333333333333,
              "#9c179e"
             ],
             [
              0.4444444444444444,
              "#bd3786"
             ],
             [
              0.5555555555555556,
              "#d8576b"
             ],
             [
              0.6666666666666666,
              "#ed7953"
             ],
             [
              0.7777777777777778,
              "#fb9f3a"
             ],
             [
              0.8888888888888888,
              "#fdca26"
             ],
             [
              1,
              "#f0f921"
             ]
            ],
            "type": "heatmap"
           }
          ],
          "histogram": [
           {
            "marker": {
             "pattern": {
              "fillmode": "overlay",
              "size": 10,
              "solidity": 0.2
             }
            },
            "type": "histogram"
           }
          ],
          "histogram2d": [
           {
            "colorbar": {
             "outlinewidth": 0,
             "ticks": ""
            },
            "colorscale": [
             [
              0,
              "#0d0887"
             ],
             [
              0.1111111111111111,
              "#46039f"
             ],
             [
              0.2222222222222222,
              "#7201a8"
             ],
             [
              0.3333333333333333,
              "#9c179e"
             ],
             [
              0.4444444444444444,
              "#bd3786"
             ],
             [
              0.5555555555555556,
              "#d8576b"
             ],
             [
              0.6666666666666666,
              "#ed7953"
             ],
             [
              0.7777777777777778,
              "#fb9f3a"
             ],
             [
              0.8888888888888888,
              "#fdca26"
             ],
             [
              1,
              "#f0f921"
             ]
            ],
            "type": "histogram2d"
           }
          ],
          "histogram2dcontour": [
           {
            "colorbar": {
             "outlinewidth": 0,
             "ticks": ""
            },
            "colorscale": [
             [
              0,
              "#0d0887"
             ],
             [
              0.1111111111111111,
              "#46039f"
             ],
             [
              0.2222222222222222,
              "#7201a8"
             ],
             [
              0.3333333333333333,
              "#9c179e"
             ],
             [
              0.4444444444444444,
              "#bd3786"
             ],
             [
              0.5555555555555556,
              "#d8576b"
             ],
             [
              0.6666666666666666,
              "#ed7953"
             ],
             [
              0.7777777777777778,
              "#fb9f3a"
             ],
             [
              0.8888888888888888,
              "#fdca26"
             ],
             [
              1,
              "#f0f921"
             ]
            ],
            "type": "histogram2dcontour"
           }
          ],
          "mesh3d": [
           {
            "colorbar": {
             "outlinewidth": 0,
             "ticks": ""
            },
            "type": "mesh3d"
           }
          ],
          "parcoords": [
           {
            "line": {
             "colorbar": {
              "outlinewidth": 0,
              "ticks": ""
             }
            },
            "type": "parcoords"
           }
          ],
          "pie": [
           {
            "automargin": true,
            "type": "pie"
           }
          ],
          "scatter": [
           {
            "fillpattern": {
             "fillmode": "overlay",
             "size": 10,
             "solidity": 0.2
            },
            "type": "scatter"
           }
          ],
          "scatter3d": [
           {
            "line": {
             "colorbar": {
              "outlinewidth": 0,
              "ticks": ""
             }
            },
            "marker": {
             "colorbar": {
              "outlinewidth": 0,
              "ticks": ""
             }
            },
            "type": "scatter3d"
           }
          ],
          "scattercarpet": [
           {
            "marker": {
             "colorbar": {
              "outlinewidth": 0,
              "ticks": ""
             }
            },
            "type": "scattercarpet"
           }
          ],
          "scattergeo": [
           {
            "marker": {
             "colorbar": {
              "outlinewidth": 0,
              "ticks": ""
             }
            },
            "type": "scattergeo"
           }
          ],
          "scattergl": [
           {
            "marker": {
             "colorbar": {
              "outlinewidth": 0,
              "ticks": ""
             }
            },
            "type": "scattergl"
           }
          ],
          "scattermap": [
           {
            "marker": {
             "colorbar": {
              "outlinewidth": 0,
              "ticks": ""
             }
            },
            "type": "scattermap"
           }
          ],
          "scattermapbox": [
           {
            "marker": {
             "colorbar": {
              "outlinewidth": 0,
              "ticks": ""
             }
            },
            "type": "scattermapbox"
           }
          ],
          "scatterpolar": [
           {
            "marker": {
             "colorbar": {
              "outlinewidth": 0,
              "ticks": ""
             }
            },
            "type": "scatterpolar"
           }
          ],
          "scatterpolargl": [
           {
            "marker": {
             "colorbar": {
              "outlinewidth": 0,
              "ticks": ""
             }
            },
            "type": "scatterpolargl"
           }
          ],
          "scatterternary": [
           {
            "marker": {
             "colorbar": {
              "outlinewidth": 0,
              "ticks": ""
             }
            },
            "type": "scatterternary"
           }
          ],
          "surface": [
           {
            "colorbar": {
             "outlinewidth": 0,
             "ticks": ""
            },
            "colorscale": [
             [
              0,
              "#0d0887"
             ],
             [
              0.1111111111111111,
              "#46039f"
             ],
             [
              0.2222222222222222,
              "#7201a8"
             ],
             [
              0.3333333333333333,
              "#9c179e"
             ],
             [
              0.4444444444444444,
              "#bd3786"
             ],
             [
              0.5555555555555556,
              "#d8576b"
             ],
             [
              0.6666666666666666,
              "#ed7953"
             ],
             [
              0.7777777777777778,
              "#fb9f3a"
             ],
             [
              0.8888888888888888,
              "#fdca26"
             ],
             [
              1,
              "#f0f921"
             ]
            ],
            "type": "surface"
           }
          ],
          "table": [
           {
            "cells": {
             "fill": {
              "color": "#EBF0F8"
             },
             "line": {
              "color": "white"
             }
            },
            "header": {
             "fill": {
              "color": "#C8D4E3"
             },
             "line": {
              "color": "white"
             }
            },
            "type": "table"
           }
          ]
         },
         "layout": {
          "annotationdefaults": {
           "arrowcolor": "#2a3f5f",
           "arrowhead": 0,
           "arrowwidth": 1
          },
          "autotypenumbers": "strict",
          "coloraxis": {
           "colorbar": {
            "outlinewidth": 0,
            "ticks": ""
           }
          },
          "colorscale": {
           "diverging": [
            [
             0,
             "#8e0152"
            ],
            [
             0.1,
             "#c51b7d"
            ],
            [
             0.2,
             "#de77ae"
            ],
            [
             0.3,
             "#f1b6da"
            ],
            [
             0.4,
             "#fde0ef"
            ],
            [
             0.5,
             "#f7f7f7"
            ],
            [
             0.6,
             "#e6f5d0"
            ],
            [
             0.7,
             "#b8e186"
            ],
            [
             0.8,
             "#7fbc41"
            ],
            [
             0.9,
             "#4d9221"
            ],
            [
             1,
             "#276419"
            ]
           ],
           "sequential": [
            [
             0,
             "#0d0887"
            ],
            [
             0.1111111111111111,
             "#46039f"
            ],
            [
             0.2222222222222222,
             "#7201a8"
            ],
            [
             0.3333333333333333,
             "#9c179e"
            ],
            [
             0.4444444444444444,
             "#bd3786"
            ],
            [
             0.5555555555555556,
             "#d8576b"
            ],
            [
             0.6666666666666666,
             "#ed7953"
            ],
            [
             0.7777777777777778,
             "#fb9f3a"
            ],
            [
             0.8888888888888888,
             "#fdca26"
            ],
            [
             1,
             "#f0f921"
            ]
           ],
           "sequentialminus": [
            [
             0,
             "#0d0887"
            ],
            [
             0.1111111111111111,
             "#46039f"
            ],
            [
             0.2222222222222222,
             "#7201a8"
            ],
            [
             0.3333333333333333,
             "#9c179e"
            ],
            [
             0.4444444444444444,
             "#bd3786"
            ],
            [
             0.5555555555555556,
             "#d8576b"
            ],
            [
             0.6666666666666666,
             "#ed7953"
            ],
            [
             0.7777777777777778,
             "#fb9f3a"
            ],
            [
             0.8888888888888888,
             "#fdca26"
            ],
            [
             1,
             "#f0f921"
            ]
           ]
          },
          "colorway": [
           "#636efa",
           "#EF553B",
           "#00cc96",
           "#ab63fa",
           "#FFA15A",
           "#19d3f3",
           "#FF6692",
           "#B6E880",
           "#FF97FF",
           "#FECB52"
          ],
          "font": {
           "color": "#2a3f5f"
          },
          "geo": {
           "bgcolor": "white",
           "lakecolor": "white",
           "landcolor": "white",
           "showlakes": true,
           "showland": true,
           "subunitcolor": "#C8D4E3"
          },
          "hoverlabel": {
           "align": "left"
          },
          "hovermode": "closest",
          "mapbox": {
           "style": "light"
          },
          "paper_bgcolor": "white",
          "plot_bgcolor": "white",
          "polar": {
           "angularaxis": {
            "gridcolor": "#EBF0F8",
            "linecolor": "#EBF0F8",
            "ticks": ""
           },
           "bgcolor": "white",
           "radialaxis": {
            "gridcolor": "#EBF0F8",
            "linecolor": "#EBF0F8",
            "ticks": ""
           }
          },
          "scene": {
           "xaxis": {
            "backgroundcolor": "white",
            "gridcolor": "#DFE8F3",
            "gridwidth": 2,
            "linecolor": "#EBF0F8",
            "showbackground": true,
            "ticks": "",
            "zerolinecolor": "#EBF0F8"
           },
           "yaxis": {
            "backgroundcolor": "white",
            "gridcolor": "#DFE8F3",
            "gridwidth": 2,
            "linecolor": "#EBF0F8",
            "showbackground": true,
            "ticks": "",
            "zerolinecolor": "#EBF0F8"
           },
           "zaxis": {
            "backgroundcolor": "white",
            "gridcolor": "#DFE8F3",
            "gridwidth": 2,
            "linecolor": "#EBF0F8",
            "showbackground": true,
            "ticks": "",
            "zerolinecolor": "#EBF0F8"
           }
          },
          "shapedefaults": {
           "line": {
            "color": "#2a3f5f"
           }
          },
          "ternary": {
           "aaxis": {
            "gridcolor": "#DFE8F3",
            "linecolor": "#A2B1C6",
            "ticks": ""
           },
           "baxis": {
            "gridcolor": "#DFE8F3",
            "linecolor": "#A2B1C6",
            "ticks": ""
           },
           "bgcolor": "white",
           "caxis": {
            "gridcolor": "#DFE8F3",
            "linecolor": "#A2B1C6",
            "ticks": ""
           }
          },
          "title": {
           "x": 0.05
          },
          "xaxis": {
           "automargin": true,
           "gridcolor": "#EBF0F8",
           "linecolor": "#EBF0F8",
           "ticks": "",
           "title": {
            "standoff": 15
           },
           "zerolinecolor": "#EBF0F8",
           "zerolinewidth": 2
          },
          "yaxis": {
           "automargin": true,
           "gridcolor": "#EBF0F8",
           "linecolor": "#EBF0F8",
           "ticks": "",
           "title": {
            "standoff": 15
           },
           "zerolinecolor": "#EBF0F8",
           "zerolinewidth": 2
          }
         }
        },
        "title": {
         "text": "Pronóstico de Horas Extra - Marketing"
        },
        "xaxis": {
         "title": {
          "text": "Fecha"
         }
        },
        "yaxis": {
         "title": {
          "text": "Horas Extra"
         }
        }
       }
      }
     },
     "metadata": {},
     "output_type": "display_data"
    },
    {
     "name": "stdout",
     "output_type": "stream",
     "text": [
      "Visualización generada para Marketing\n"
     ]
    },
    {
     "data": {
      "application/vnd.plotly.v1+json": {
       "config": {
        "plotlyServerURL": "https://plot.ly"
       },
       "data": [
        {
         "customdata": {
          "bdata": "plnf/8R9G0AAAAAAAAAAALThL4mvfS5APuFKmhGbGUAAAAAAAAAAAIClZdZVjC1AnVNmsqX5HkAAAAAAAAAAAFivOfHPHTBArR6tM9eo+T8AAAAAAAAAALfYte/n8yNAyJH2BFbWAEAAAAAAAAAAAFPZfYpi9CRAsNx28NH68T8AAAAAAAAAAHcQT0cn/iJAiFOcNige7z8AAAAAAAAAABr6qYyvsCJAOt/P9e1wGEAAAAAAAAAAAH4kKARE9yxAJnr5dDUWGEAAAAAAAAAAAPTxvMPnySxAFw22tty5HEAAAAAAAAAAAGw7m2S7Gy9ATWxDgINdFEAAAAAAAAAAAAjrYcmO7SpAUtkqf5PDG0AAAAAAAAAAAIqh1ciWoC5AD4Se+BKQG0AAAAAAAAAAAOh2j4XWhi5A+lvpP+z1EkAAAAAAAAAAAN7iNCnDOSpAxRAALYK0EEAAAAAAAAAAAEQ9wB8OGSlAkO6jfa8KFkAAAAAAAAAAACksEsgkxCtAx+4D7uuMDEAAAAAAAAAAAJMwwQQI4idAbNxI5dQTF0AAAAAAAAAAABej5Hu3SCxA/0ddZxr4JEB4THR4NeUAQHC+Trhz2zJAblGbiQAZJ0A0cmwBzmgJQCjDbcnm6zNAbUDkyuoxJUAwLpAGd8wBQKc6Eupb+DJAnkrzjkuiJEDorZgt9Bv/P8C/GUyMsDJAK459s7lFGEAAAAAAAAAAAPb7/uKp4SxATK5c51G2BUAAAAAAAAAAAHRgF4NhLCZA",
          "dtype": "f8",
          "shape": "24, 3"
         },
         "hovertemplate": "<b>Fecha:</b> %{x}<br><b>Valor Real:</b> %{y:.1f}<br><b>Predicción:</b> %{customdata[0]:.1f}<br><b>IC Inferior:</b> %{customdata[1]:.1f}<br><b>IC Superior:</b> %{customdata[2]:.1f}<extra></extra>",
         "line": {
          "color": "blue"
         },
         "mode": "markers+lines",
         "name": "Datos Históricos",
         "type": "scatter",
         "x": [
          "2024-12-15T00:00:00.000000000",
          "2024-12-22T00:00:00.000000000",
          "2024-12-29T00:00:00.000000000",
          "2025-01-05T00:00:00.000000000",
          "2025-01-12T00:00:00.000000000",
          "2025-01-19T00:00:00.000000000",
          "2025-01-26T00:00:00.000000000",
          "2025-02-02T00:00:00.000000000",
          "2025-02-09T00:00:00.000000000",
          "2025-02-16T00:00:00.000000000",
          "2025-02-23T00:00:00.000000000",
          "2025-03-02T00:00:00.000000000",
          "2025-03-09T00:00:00.000000000",
          "2025-03-16T00:00:00.000000000",
          "2025-03-23T00:00:00.000000000",
          "2025-03-30T00:00:00.000000000",
          "2025-04-06T00:00:00.000000000",
          "2025-04-13T00:00:00.000000000",
          "2025-04-20T00:00:00.000000000",
          "2025-04-27T00:00:00.000000000",
          "2025-05-04T00:00:00.000000000",
          "2025-05-11T00:00:00.000000000",
          "2025-05-18T00:00:00.000000000",
          "2025-05-25T00:00:00.000000000"
         ],
         "y": {
          "bdata": "Fa5H4XoUGEApXI/C9aghQGZmZmZm5ihAFK5H4XoUBEAfhetRuB7VPzMzMzMzM+s/KVyPwvWoIUDMzMzMzMwXQD0K16NwPSBANDMzMzMzC0AAAAAAAAAcQGdmZmZmZhtAAQAAAAAACEDC9Shcj8INQFyPwvUoXBpA7FG4HoXr4T80MzMzMzMeQJqZmZmZmSxAUrgehevRKEBI4XoUrscgQK5H4XoULiRACtejcD0KBUAAAAAAAAAAAB+F61G4Hvk/",
          "dtype": "f8"
         }
        },
        {
         "customdata": {
          "bdata": "AAAAAAAAAAC04S+Jr30uQAAAAAAAAAAAgKVl1lWMLUAAAAAAAAAAAFivOfHPHTBAAAAAAAAAAAC32LXv5/MjQAAAAAAAAAAAU9l9imL0JEAAAAAAAAAAAHcQT0cn/iJAAAAAAAAAAAAa+qmMr7AiQAAAAAAAAAAAfiQoBET3LEAAAAAAAAAAAPTxvMPnySxAAAAAAAAAAABsO5tkuxsvQAAAAAAAAAAACOthyY7tKkAAAAAAAAAAAIqh1ciWoC5AAAAAAAAAAADodo+F1oYuQAAAAAAAAAAA3uI0KcM5KkAAAAAAAAAAAEQ9wB8OGSlAAAAAAAAAAAApLBLIJMQrQAAAAAAAAAAAkzDBBAjiJ0AAAAAAAAAAABej5Hu3SCxAeEx0eDXlAEBwvk64c9syQDRybAHOaAlAKMNtyebrM0AwLpAGd8wBQKc6Eupb+DJA6K2YLfQb/z/AvxlMjLAyQAAAAAAAAAAA9vv+4qnhLEAAAAAAAAAAAHRgF4NhLCZAAAAAAAAAAAB0bq67fX8mQAAAAAAAAAAA4nG708LiKEAAAAAAAAAAAFHYP3TJAStAAAAAAAAAAAAl+LLnVO8sQA==",
          "dtype": "f8",
          "shape": "28, 2"
         },
         "hovertemplate": "<b>Fecha:</b> %{x}<br><b>Predicción:</b> %{y:.1f}<br><b>IC Inferior:</b> %{customdata[0]:.1f}<br><b>IC Superior:</b> %{customdata[1]:.1f}<extra></extra>",
         "line": {
          "color": "red"
         },
         "mode": "lines",
         "name": "Predicción",
         "type": "scatter",
         "x": [
          "2024-12-15T00:00:00.000000000",
          "2024-12-22T00:00:00.000000000",
          "2024-12-29T00:00:00.000000000",
          "2025-01-05T00:00:00.000000000",
          "2025-01-12T00:00:00.000000000",
          "2025-01-19T00:00:00.000000000",
          "2025-01-26T00:00:00.000000000",
          "2025-02-02T00:00:00.000000000",
          "2025-02-09T00:00:00.000000000",
          "2025-02-16T00:00:00.000000000",
          "2025-02-23T00:00:00.000000000",
          "2025-03-02T00:00:00.000000000",
          "2025-03-09T00:00:00.000000000",
          "2025-03-16T00:00:00.000000000",
          "2025-03-23T00:00:00.000000000",
          "2025-03-30T00:00:00.000000000",
          "2025-04-06T00:00:00.000000000",
          "2025-04-13T00:00:00.000000000",
          "2025-04-20T00:00:00.000000000",
          "2025-04-27T00:00:00.000000000",
          "2025-05-04T00:00:00.000000000",
          "2025-05-11T00:00:00.000000000",
          "2025-05-18T00:00:00.000000000",
          "2025-05-25T00:00:00.000000000",
          "2025-06-01T00:00:00.000000000",
          "2025-06-08T00:00:00.000000000",
          "2025-06-15T00:00:00.000000000",
          "2025-06-22T00:00:00.000000000"
         ],
         "y": {
          "bdata": "plnf/8R9G0A+4UqaEZsZQJ1TZrKl+R5ArR6tM9eo+T/IkfYEVtYAQLDcdvDR+vE/iFOcNige7z8638/17XAYQCZ6+XQ1FhhAFw22tty5HEBNbEOAg10UQFLZKn+TwxtAD4Se+BKQG0D6W+k/7PUSQMUQAC2CtBBAkO6jfa8KFkDH7gPu64wMQGzcSOXUExdA/0ddZxr4JEBuUZuJABknQG1A5MrqMSVAnkrzjkuiJEArjn2zuUUYQEyuXOdRtgVATea4ycICB0BN5rjJwgIHQE3muMnCAgdATea4ycICB0A=",
          "dtype": "f8"
         }
        },
        {
         "fill": "toself",
         "fillcolor": "rgba(211,211,211,0.3)",
         "hoverinfo": "skip",
         "line": {
          "color": "rgba(255,255,255,0)"
         },
         "name": "Intervalo de Confianza 95%",
         "showlegend": true,
         "type": "scatter",
         "x": [
          "2024-12-15T00:00:00",
          "2024-12-22T00:00:00",
          "2024-12-29T00:00:00",
          "2025-01-05T00:00:00",
          "2025-01-12T00:00:00",
          "2025-01-19T00:00:00",
          "2025-01-26T00:00:00",
          "2025-02-02T00:00:00",
          "2025-02-09T00:00:00",
          "2025-02-16T00:00:00",
          "2025-02-23T00:00:00",
          "2025-03-02T00:00:00",
          "2025-03-09T00:00:00",
          "2025-03-16T00:00:00",
          "2025-03-23T00:00:00",
          "2025-03-30T00:00:00",
          "2025-04-06T00:00:00",
          "2025-04-13T00:00:00",
          "2025-04-20T00:00:00",
          "2025-04-27T00:00:00",
          "2025-05-04T00:00:00",
          "2025-05-11T00:00:00",
          "2025-05-18T00:00:00",
          "2025-05-25T00:00:00",
          "2025-06-01T00:00:00",
          "2025-06-08T00:00:00",
          "2025-06-15T00:00:00",
          "2025-06-22T00:00:00",
          "2025-06-22T00:00:00",
          "2025-06-15T00:00:00",
          "2025-06-08T00:00:00",
          "2025-06-01T00:00:00",
          "2025-05-25T00:00:00",
          "2025-05-18T00:00:00",
          "2025-05-11T00:00:00",
          "2025-05-04T00:00:00",
          "2025-04-27T00:00:00",
          "2025-04-20T00:00:00",
          "2025-04-13T00:00:00",
          "2025-04-06T00:00:00",
          "2025-03-30T00:00:00",
          "2025-03-23T00:00:00",
          "2025-03-16T00:00:00",
          "2025-03-09T00:00:00",
          "2025-03-02T00:00:00",
          "2025-02-23T00:00:00",
          "2025-02-16T00:00:00",
          "2025-02-09T00:00:00",
          "2025-02-02T00:00:00",
          "2025-01-26T00:00:00",
          "2025-01-19T00:00:00",
          "2025-01-12T00:00:00",
          "2025-01-05T00:00:00",
          "2024-12-29T00:00:00",
          "2024-12-22T00:00:00",
          "2024-12-15T00:00:00"
         ],
         "y": [
          15.245479857535294,
          14.774092388065355,
          16.11645419748615,
          9.976378909061493,
          10.477314308035295,
          9.496393421555906,
          9.345089336156025,
          14.482940797710622,
          14.394346348585692,
          15.55416407008098,
          13.463980000689403,
          15.313650394514088,
          15.263355420840028,
          13.112817084985576,
          12.548935882775034,
          13.88309312078316,
          11.941467426855786,
          14.14202487150173,
          18.85723449633082,
          19.92149027757401,
          18.97015250153586,
          18.689640766416915,
          14.440749257684711,
          11.086681458095178,
          11.249006142657187,
          12.44289266265054,
          13.503490097802713,
          14.467444649311867,
          0,
          0,
          0,
          0,
          0,
          0,
          1.944324663268043,
          2.2248363983869908,
          3.176174174425137,
          2.1119183931819485,
          0,
          0,
          0,
          0,
          0,
          0,
          0,
          0,
          0,
          0,
          0,
          0,
          0,
          0,
          0,
          0,
          0,
          0
         ]
        }
       ],
       "layout": {
        "hovermode": "x unified",
        "legend": {
         "orientation": "h",
         "x": 0.5,
         "xanchor": "center",
         "y": -0.4,
         "yanchor": "bottom"
        },
        "showlegend": true,
        "template": {
         "data": {
          "bar": [
           {
            "error_x": {
             "color": "#2a3f5f"
            },
            "error_y": {
             "color": "#2a3f5f"
            },
            "marker": {
             "line": {
              "color": "white",
              "width": 0.5
             },
             "pattern": {
              "fillmode": "overlay",
              "size": 10,
              "solidity": 0.2
             }
            },
            "type": "bar"
           }
          ],
          "barpolar": [
           {
            "marker": {
             "line": {
              "color": "white",
              "width": 0.5
             },
             "pattern": {
              "fillmode": "overlay",
              "size": 10,
              "solidity": 0.2
             }
            },
            "type": "barpolar"
           }
          ],
          "carpet": [
           {
            "aaxis": {
             "endlinecolor": "#2a3f5f",
             "gridcolor": "#C8D4E3",
             "linecolor": "#C8D4E3",
             "minorgridcolor": "#C8D4E3",
             "startlinecolor": "#2a3f5f"
            },
            "baxis": {
             "endlinecolor": "#2a3f5f",
             "gridcolor": "#C8D4E3",
             "linecolor": "#C8D4E3",
             "minorgridcolor": "#C8D4E3",
             "startlinecolor": "#2a3f5f"
            },
            "type": "carpet"
           }
          ],
          "choropleth": [
           {
            "colorbar": {
             "outlinewidth": 0,
             "ticks": ""
            },
            "type": "choropleth"
           }
          ],
          "contour": [
           {
            "colorbar": {
             "outlinewidth": 0,
             "ticks": ""
            },
            "colorscale": [
             [
              0,
              "#0d0887"
             ],
             [
              0.1111111111111111,
              "#46039f"
             ],
             [
              0.2222222222222222,
              "#7201a8"
             ],
             [
              0.3333333333333333,
              "#9c179e"
             ],
             [
              0.4444444444444444,
              "#bd3786"
             ],
             [
              0.5555555555555556,
              "#d8576b"
             ],
             [
              0.6666666666666666,
              "#ed7953"
             ],
             [
              0.7777777777777778,
              "#fb9f3a"
             ],
             [
              0.8888888888888888,
              "#fdca26"
             ],
             [
              1,
              "#f0f921"
             ]
            ],
            "type": "contour"
           }
          ],
          "contourcarpet": [
           {
            "colorbar": {
             "outlinewidth": 0,
             "ticks": ""
            },
            "type": "contourcarpet"
           }
          ],
          "heatmap": [
           {
            "colorbar": {
             "outlinewidth": 0,
             "ticks": ""
            },
            "colorscale": [
             [
              0,
              "#0d0887"
             ],
             [
              0.1111111111111111,
              "#46039f"
             ],
             [
              0.2222222222222222,
              "#7201a8"
             ],
             [
              0.3333333333333333,
              "#9c179e"
             ],
             [
              0.4444444444444444,
              "#bd3786"
             ],
             [
              0.5555555555555556,
              "#d8576b"
             ],
             [
              0.6666666666666666,
              "#ed7953"
             ],
             [
              0.7777777777777778,
              "#fb9f3a"
             ],
             [
              0.8888888888888888,
              "#fdca26"
             ],
             [
              1,
              "#f0f921"
             ]
            ],
            "type": "heatmap"
           }
          ],
          "histogram": [
           {
            "marker": {
             "pattern": {
              "fillmode": "overlay",
              "size": 10,
              "solidity": 0.2
             }
            },
            "type": "histogram"
           }
          ],
          "histogram2d": [
           {
            "colorbar": {
             "outlinewidth": 0,
             "ticks": ""
            },
            "colorscale": [
             [
              0,
              "#0d0887"
             ],
             [
              0.1111111111111111,
              "#46039f"
             ],
             [
              0.2222222222222222,
              "#7201a8"
             ],
             [
              0.3333333333333333,
              "#9c179e"
             ],
             [
              0.4444444444444444,
              "#bd3786"
             ],
             [
              0.5555555555555556,
              "#d8576b"
             ],
             [
              0.6666666666666666,
              "#ed7953"
             ],
             [
              0.7777777777777778,
              "#fb9f3a"
             ],
             [
              0.8888888888888888,
              "#fdca26"
             ],
             [
              1,
              "#f0f921"
             ]
            ],
            "type": "histogram2d"
           }
          ],
          "histogram2dcontour": [
           {
            "colorbar": {
             "outlinewidth": 0,
             "ticks": ""
            },
            "colorscale": [
             [
              0,
              "#0d0887"
             ],
             [
              0.1111111111111111,
              "#46039f"
             ],
             [
              0.2222222222222222,
              "#7201a8"
             ],
             [
              0.3333333333333333,
              "#9c179e"
             ],
             [
              0.4444444444444444,
              "#bd3786"
             ],
             [
              0.5555555555555556,
              "#d8576b"
             ],
             [
              0.6666666666666666,
              "#ed7953"
             ],
             [
              0.7777777777777778,
              "#fb9f3a"
             ],
             [
              0.8888888888888888,
              "#fdca26"
             ],
             [
              1,
              "#f0f921"
             ]
            ],
            "type": "histogram2dcontour"
           }
          ],
          "mesh3d": [
           {
            "colorbar": {
             "outlinewidth": 0,
             "ticks": ""
            },
            "type": "mesh3d"
           }
          ],
          "parcoords": [
           {
            "line": {
             "colorbar": {
              "outlinewidth": 0,
              "ticks": ""
             }
            },
            "type": "parcoords"
           }
          ],
          "pie": [
           {
            "automargin": true,
            "type": "pie"
           }
          ],
          "scatter": [
           {
            "fillpattern": {
             "fillmode": "overlay",
             "size": 10,
             "solidity": 0.2
            },
            "type": "scatter"
           }
          ],
          "scatter3d": [
           {
            "line": {
             "colorbar": {
              "outlinewidth": 0,
              "ticks": ""
             }
            },
            "marker": {
             "colorbar": {
              "outlinewidth": 0,
              "ticks": ""
             }
            },
            "type": "scatter3d"
           }
          ],
          "scattercarpet": [
           {
            "marker": {
             "colorbar": {
              "outlinewidth": 0,
              "ticks": ""
             }
            },
            "type": "scattercarpet"
           }
          ],
          "scattergeo": [
           {
            "marker": {
             "colorbar": {
              "outlinewidth": 0,
              "ticks": ""
             }
            },
            "type": "scattergeo"
           }
          ],
          "scattergl": [
           {
            "marker": {
             "colorbar": {
              "outlinewidth": 0,
              "ticks": ""
             }
            },
            "type": "scattergl"
           }
          ],
          "scattermap": [
           {
            "marker": {
             "colorbar": {
              "outlinewidth": 0,
              "ticks": ""
             }
            },
            "type": "scattermap"
           }
          ],
          "scattermapbox": [
           {
            "marker": {
             "colorbar": {
              "outlinewidth": 0,
              "ticks": ""
             }
            },
            "type": "scattermapbox"
           }
          ],
          "scatterpolar": [
           {
            "marker": {
             "colorbar": {
              "outlinewidth": 0,
              "ticks": ""
             }
            },
            "type": "scatterpolar"
           }
          ],
          "scatterpolargl": [
           {
            "marker": {
             "colorbar": {
              "outlinewidth": 0,
              "ticks": ""
             }
            },
            "type": "scatterpolargl"
           }
          ],
          "scatterternary": [
           {
            "marker": {
             "colorbar": {
              "outlinewidth": 0,
              "ticks": ""
             }
            },
            "type": "scatterternary"
           }
          ],
          "surface": [
           {
            "colorbar": {
             "outlinewidth": 0,
             "ticks": ""
            },
            "colorscale": [
             [
              0,
              "#0d0887"
             ],
             [
              0.1111111111111111,
              "#46039f"
             ],
             [
              0.2222222222222222,
              "#7201a8"
             ],
             [
              0.3333333333333333,
              "#9c179e"
             ],
             [
              0.4444444444444444,
              "#bd3786"
             ],
             [
              0.5555555555555556,
              "#d8576b"
             ],
             [
              0.6666666666666666,
              "#ed7953"
             ],
             [
              0.7777777777777778,
              "#fb9f3a"
             ],
             [
              0.8888888888888888,
              "#fdca26"
             ],
             [
              1,
              "#f0f921"
             ]
            ],
            "type": "surface"
           }
          ],
          "table": [
           {
            "cells": {
             "fill": {
              "color": "#EBF0F8"
             },
             "line": {
              "color": "white"
             }
            },
            "header": {
             "fill": {
              "color": "#C8D4E3"
             },
             "line": {
              "color": "white"
             }
            },
            "type": "table"
           }
          ]
         },
         "layout": {
          "annotationdefaults": {
           "arrowcolor": "#2a3f5f",
           "arrowhead": 0,
           "arrowwidth": 1
          },
          "autotypenumbers": "strict",
          "coloraxis": {
           "colorbar": {
            "outlinewidth": 0,
            "ticks": ""
           }
          },
          "colorscale": {
           "diverging": [
            [
             0,
             "#8e0152"
            ],
            [
             0.1,
             "#c51b7d"
            ],
            [
             0.2,
             "#de77ae"
            ],
            [
             0.3,
             "#f1b6da"
            ],
            [
             0.4,
             "#fde0ef"
            ],
            [
             0.5,
             "#f7f7f7"
            ],
            [
             0.6,
             "#e6f5d0"
            ],
            [
             0.7,
             "#b8e186"
            ],
            [
             0.8,
             "#7fbc41"
            ],
            [
             0.9,
             "#4d9221"
            ],
            [
             1,
             "#276419"
            ]
           ],
           "sequential": [
            [
             0,
             "#0d0887"
            ],
            [
             0.1111111111111111,
             "#46039f"
            ],
            [
             0.2222222222222222,
             "#7201a8"
            ],
            [
             0.3333333333333333,
             "#9c179e"
            ],
            [
             0.4444444444444444,
             "#bd3786"
            ],
            [
             0.5555555555555556,
             "#d8576b"
            ],
            [
             0.6666666666666666,
             "#ed7953"
            ],
            [
             0.7777777777777778,
             "#fb9f3a"
            ],
            [
             0.8888888888888888,
             "#fdca26"
            ],
            [
             1,
             "#f0f921"
            ]
           ],
           "sequentialminus": [
            [
             0,
             "#0d0887"
            ],
            [
             0.1111111111111111,
             "#46039f"
            ],
            [
             0.2222222222222222,
             "#7201a8"
            ],
            [
             0.3333333333333333,
             "#9c179e"
            ],
            [
             0.4444444444444444,
             "#bd3786"
            ],
            [
             0.5555555555555556,
             "#d8576b"
            ],
            [
             0.6666666666666666,
             "#ed7953"
            ],
            [
             0.7777777777777778,
             "#fb9f3a"
            ],
            [
             0.8888888888888888,
             "#fdca26"
            ],
            [
             1,
             "#f0f921"
            ]
           ]
          },
          "colorway": [
           "#636efa",
           "#EF553B",
           "#00cc96",
           "#ab63fa",
           "#FFA15A",
           "#19d3f3",
           "#FF6692",
           "#B6E880",
           "#FF97FF",
           "#FECB52"
          ],
          "font": {
           "color": "#2a3f5f"
          },
          "geo": {
           "bgcolor": "white",
           "lakecolor": "white",
           "landcolor": "white",
           "showlakes": true,
           "showland": true,
           "subunitcolor": "#C8D4E3"
          },
          "hoverlabel": {
           "align": "left"
          },
          "hovermode": "closest",
          "mapbox": {
           "style": "light"
          },
          "paper_bgcolor": "white",
          "plot_bgcolor": "white",
          "polar": {
           "angularaxis": {
            "gridcolor": "#EBF0F8",
            "linecolor": "#EBF0F8",
            "ticks": ""
           },
           "bgcolor": "white",
           "radialaxis": {
            "gridcolor": "#EBF0F8",
            "linecolor": "#EBF0F8",
            "ticks": ""
           }
          },
          "scene": {
           "xaxis": {
            "backgroundcolor": "white",
            "gridcolor": "#DFE8F3",
            "gridwidth": 2,
            "linecolor": "#EBF0F8",
            "showbackground": true,
            "ticks": "",
            "zerolinecolor": "#EBF0F8"
           },
           "yaxis": {
            "backgroundcolor": "white",
            "gridcolor": "#DFE8F3",
            "gridwidth": 2,
            "linecolor": "#EBF0F8",
            "showbackground": true,
            "ticks": "",
            "zerolinecolor": "#EBF0F8"
           },
           "zaxis": {
            "backgroundcolor": "white",
            "gridcolor": "#DFE8F3",
            "gridwidth": 2,
            "linecolor": "#EBF0F8",
            "showbackground": true,
            "ticks": "",
            "zerolinecolor": "#EBF0F8"
           }
          },
          "shapedefaults": {
           "line": {
            "color": "#2a3f5f"
           }
          },
          "ternary": {
           "aaxis": {
            "gridcolor": "#DFE8F3",
            "linecolor": "#A2B1C6",
            "ticks": ""
           },
           "baxis": {
            "gridcolor": "#DFE8F3",
            "linecolor": "#A2B1C6",
            "ticks": ""
           },
           "bgcolor": "white",
           "caxis": {
            "gridcolor": "#DFE8F3",
            "linecolor": "#A2B1C6",
            "ticks": ""
           }
          },
          "title": {
           "x": 0.05
          },
          "xaxis": {
           "automargin": true,
           "gridcolor": "#EBF0F8",
           "linecolor": "#EBF0F8",
           "ticks": "",
           "title": {
            "standoff": 15
           },
           "zerolinecolor": "#EBF0F8",
           "zerolinewidth": 2
          },
          "yaxis": {
           "automargin": true,
           "gridcolor": "#EBF0F8",
           "linecolor": "#EBF0F8",
           "ticks": "",
           "title": {
            "standoff": 15
           },
           "zerolinecolor": "#EBF0F8",
           "zerolinewidth": 2
          }
         }
        },
        "title": {
         "text": "Pronóstico de Horas Extra - Sales"
        },
        "xaxis": {
         "title": {
          "text": "Fecha"
         }
        },
        "yaxis": {
         "title": {
          "text": "Horas Extra"
         }
        }
       }
      }
     },
     "metadata": {},
     "output_type": "display_data"
    },
    {
     "name": "stdout",
     "output_type": "stream",
     "text": [
      "Visualización generada para Sales\n",
      "\n",
      "Proceso de visualización completado.\n"
     ]
    }
   ],
   "source": [
    "def plot_forecast(department, historical_data, forecast):\n",
    "    \"\"\"Create interactive plot for a department's forecast\"\"\"\n",
    "    \n",
    "    # Filter historical data for department\n",
    "    hist_dept = historical_data[historical_data['department'] == department]\n",
    "    last_24_weeks = hist_dept.tail(24).copy()\n",
    "    \n",
    "    # Create figure\n",
    "    fig = go.Figure()\n",
    "    \n",
    "    # Get predictions for historical and future data\n",
    "    model = department_models[department]\n",
    "    historical_predictions = model.get_prediction(start=last_24_weeks['work_date'].min())\n",
    "    historical_mean = historical_predictions.predicted_mean.clip(lower=0)\n",
    "    historical_ci = historical_predictions.conf_int().clip(lower=0)\n",
    "    \n",
    "    # Add historical data with hover\n",
    "    fig.add_trace(\n",
    "        go.Scatter(\n",
    "            x=last_24_weeks['work_date'],\n",
    "            y=last_24_weeks['total_overtime'],\n",
    "            name='Datos Históricos',\n",
    "            mode='markers+lines',\n",
    "            line=dict(color='blue'),\n",
    "            hovertemplate=\"<b>Fecha:</b> %{x}<br>\" +\n",
    "                         \"<b>Valor Real:</b> %{y:.1f}<br>\" +\n",
    "                         \"<b>Predicción:</b> %{customdata[0]:.1f}<br>\" +\n",
    "                         \"<b>IC Inferior:</b> %{customdata[1]:.1f}<br>\" +\n",
    "                         \"<b>IC Superior:</b> %{customdata[2]:.1f}<extra></extra>\",\n",
    "            customdata=np.column_stack((\n",
    "                historical_mean,\n",
    "                historical_ci.iloc[:, 0],\n",
    "                historical_ci.iloc[:, 1]\n",
    "            ))\n",
    "        )\n",
    "    )\n",
    "    \n",
    "    # Combine historical and future dates/predictions for continuous line\n",
    "    all_dates = pd.concat([pd.Series(last_24_weeks['work_date']), forecast['ds']])\n",
    "    all_predictions = pd.concat([pd.Series(historical_mean), forecast['yhat'].clip(lower=0)])\n",
    "    all_ci_lower = pd.concat([pd.Series(historical_ci.iloc[:, 0]), forecast['yhat_lower'].clip(lower=0)])\n",
    "    all_ci_upper = pd.concat([pd.Series(historical_ci.iloc[:, 1]), forecast['yhat_upper'].clip(lower=0)])\n",
    "    \n",
    "    # Add continuous prediction line\n",
    "    fig.add_trace(\n",
    "        go.Scatter(\n",
    "            x=all_dates,\n",
    "            y=all_predictions,\n",
    "            name='Predicción',\n",
    "            mode='lines',\n",
    "            line=dict(color='red'),\n",
    "            hovertemplate=\"<b>Fecha:</b> %{x}<br>\" +\n",
    "                         \"<b>Predicción:</b> %{y:.1f}<br>\" +\n",
    "                         \"<b>IC Inferior:</b> %{customdata[0]:.1f}<br>\" +\n",
    "                         \"<b>IC Superior:</b> %{customdata[1]:.1f}<extra></extra>\",\n",
    "            customdata=np.column_stack((all_ci_lower, all_ci_upper))\n",
    "        )\n",
    "    )\n",
    "    \n",
    "    # Add continuous confidence interval with light gray color\n",
    "    fig.add_trace(\n",
    "        go.Scatter(\n",
    "            x=all_dates.tolist() + all_dates.tolist()[::-1],\n",
    "            y=all_ci_upper.tolist() + all_ci_lower.tolist()[::-1],\n",
    "            fill='toself',\n",
    "            fillcolor='rgba(211,211,211,0.3)',  # Light gray with 0.3 opacity\n",
    "            line=dict(color='rgba(255,255,255,0)'),\n",
    "            name='Intervalo de Confianza 95%',\n",
    "            showlegend=True,\n",
    "            hoverinfo='skip'\n",
    "        )\n",
    "    )\n",
    "    \n",
    "    # Update layout\n",
    "    fig.update_layout(\n",
    "        title=f'Pronóstico de Horas Extra - {department}',\n",
    "        xaxis_title='Fecha',\n",
    "        yaxis_title='Horas Extra',\n",
    "        hovermode='x unified',\n",
    "        showlegend=True,\n",
    "        template='plotly_white',\n",
    "        legend=dict(\n",
    "            orientation=\"h\",\n",
    "            yanchor=\"bottom\",\n",
    "            y=-0.4,\n",
    "            xanchor=\"center\",\n",
    "            x=0.5\n",
    "        )\n",
    "    )\n",
    "    \n",
    "    return fig\n",
    "\n",
    "# Generar predicciones para cada departamento\n",
    "print(\"\\nGenerando visualizaciones...\")\n",
    "\n",
    "for department in department_models.keys():\n",
    "    try:\n",
    "        # Get last date and generate predictions if needed\n",
    "        dept_data = historical_data[historical_data['department'] == department]\n",
    "        last_date = dept_data['work_date'].max()\n",
    "        \n",
    "        if department not in department_forecasts:\n",
    "            forecast = generate_predictions_sarima(department_models[department], last_date)\n",
    "            department_forecasts[department] = forecast\n",
    "        \n",
    "        # Create and display plot\n",
    "        fig = plot_forecast(\n",
    "            department,\n",
    "            historical_data,\n",
    "            department_forecasts[department]\n",
    "        )\n",
    "        fig.show()\n",
    "        print(f\"Visualización generada para {department}\")\n",
    "        \n",
    "    except Exception as e:\n",
    "        print(f\"Error generando visualización para {department}: {e}\")\n",
    "        continue\n",
    "\n",
    "print(\"\\nProceso de visualización completado.\")"
   ]
  },
  {
   "cell_type": "markdown",
   "id": "77f4bf61",
   "metadata": {},
   "source": [
    "## 7. Guardar Modelo y Predicciones\n",
    "\n",
    "Almacenamiento del Modelo y Resultados en MS SQL SERVER"
   ]
  },
  {
   "cell_type": "code",
   "execution_count": 93,
   "id": "86b9d9bb",
   "metadata": {},
   "outputs": [
    {
     "name": "stderr",
     "output_type": "stream",
     "text": [
      "INFO:root:Predicciones y métricas guardadas exitosamente\n"
     ]
    },
    {
     "name": "stdout",
     "output_type": "stream",
     "text": [
      "Modelo guardado en: Modelos Entrenados/overtime_forecast_model.pkl\n",
      "\n",
      "Resumen de predicciones guardadas:\n",
      "----------------------------------------------------------------------\n",
      "\n",
      "Departamento: Finance\n",
      "Fecha Predicha\t\tPredicción\tIntervalo de Confianza\n",
      "------------------------------------------------------------\n",
      "2025-06-01\t5.90\t\t(0.00, 12.20)\n",
      "2025-06-08\t5.90\t\t(0.00, 12.23)\n",
      "2025-06-15\t5.90\t\t(0.00, 12.25)\n",
      "2025-06-22\t5.90\t\t(0.00, 12.27)\n",
      "\n",
      "Métricas del modelo:\n",
      "RMSE: 3.22\n",
      "MAE: 2.50\n",
      "SMAPE: 45.98%\n",
      "MASE: 0.89\n",
      "Calidad del modelo: Bueno\n",
      "----------------------------------------------------------------------\n",
      "\n",
      "Departamento: HR\n",
      "Fecha Predicha\t\tPredicción\tIntervalo de Confianza\n",
      "------------------------------------------------------------\n",
      "2025-06-01\t9.47\t\t(1.54, 17.41)\n",
      "2025-06-08\t8.94\t\t(0.99, 16.89)\n",
      "2025-06-15\t7.60\t\t(0.00, 15.63)\n",
      "2025-06-22\t4.54\t\t(0.00, 12.57)\n",
      "\n",
      "Métricas del modelo:\n",
      "RMSE: 4.08\n",
      "MAE: 3.29\n",
      "SMAPE: 55.38%\n",
      "MASE: 0.64\n",
      "Calidad del modelo: Aceptable\n",
      "----------------------------------------------------------------------\n",
      "\n",
      "Departamento: IT\n",
      "Fecha Predicha\t\tPredicción\tIntervalo de Confianza\n",
      "------------------------------------------------------------\n",
      "2025-06-01\t1.09\t\t(0.00, 11.79)\n",
      "2025-06-08\t1.09\t\t(0.00, 16.22)\n",
      "2025-06-15\t1.09\t\t(0.00, 19.62)\n",
      "2025-06-22\t1.09\t\t(0.00, 22.49)\n",
      "\n",
      "Métricas del modelo:\n",
      "RMSE: 8.88\n",
      "MAE: 7.34\n",
      "SMAPE: 89.34%\n",
      "MASE: 2.08\n",
      "Calidad del modelo: Pobre\n",
      "----------------------------------------------------------------------\n",
      "\n",
      "Departamento: Inventory\n",
      "Fecha Predicha\t\tPredicción\tIntervalo de Confianza\n",
      "------------------------------------------------------------\n",
      "2025-06-01\t3.41\t\t(0.00, 12.33)\n",
      "2025-06-08\t3.41\t\t(0.00, 16.03)\n",
      "2025-06-15\t3.41\t\t(0.00, 18.86)\n",
      "2025-06-22\t3.41\t\t(0.00, 21.25)\n",
      "\n",
      "Métricas del modelo:\n",
      "RMSE: 6.09\n",
      "MAE: 4.36\n",
      "SMAPE: 79.45%\n",
      "MASE: 1.22\n",
      "Calidad del modelo: Aceptable\n",
      "----------------------------------------------------------------------\n",
      "\n",
      "Departamento: Marketing\n",
      "Fecha Predicha\t\tPredicción\tIntervalo de Confianza\n",
      "------------------------------------------------------------\n",
      "2025-06-01\t1.78\t\t(0.00, 11.08)\n",
      "2025-06-08\t2.00\t\t(0.00, 12.27)\n",
      "2025-06-15\t1.52\t\t(0.00, 12.85)\n",
      "2025-06-22\t1.72\t\t(0.00, 14.42)\n",
      "\n",
      "Métricas del modelo:\n",
      "RMSE: 5.09\n",
      "MAE: 3.67\n",
      "SMAPE: 69.20%\n",
      "MASE: 0.87\n",
      "Calidad del modelo: Pobre\n",
      "----------------------------------------------------------------------\n",
      "\n",
      "Departamento: Sales\n",
      "Fecha Predicha\t\tPredicción\tIntervalo de Confianza\n",
      "------------------------------------------------------------\n",
      "2025-06-01\t2.88\t\t(0.00, 11.25)\n",
      "2025-06-08\t2.88\t\t(0.00, 12.44)\n",
      "2025-06-15\t2.88\t\t(0.00, 13.50)\n",
      "2025-06-22\t2.88\t\t(0.00, 14.47)\n",
      "\n",
      "Métricas del modelo:\n",
      "RMSE: 4.58\n",
      "MAE: 3.76\n",
      "SMAPE: 74.02%\n",
      "MASE: 0.93\n",
      "Calidad del modelo: Aceptable\n",
      "----------------------------------------------------------------------\n",
      "\n",
      "Datos guardados exitosamente en la base de datos.\n",
      "\n",
      "Registros en Overtime_Predictions: 48\n",
      "Error verificando tablas: list index out of range\n"
     ]
    }
   ],
   "source": [
    "def save_predictions():\n",
    "\n",
    "    # Crear directorio si no existe\n",
    "    os.makedirs('Modelos Entrenados', exist_ok=True)\n",
    "\n",
    "    # Guardar modelo\n",
    "    model_path = 'Modelos Entrenados/overtime_forecast_model.pkl'\n",
    "    joblib.dump(model, model_path)\n",
    "    print(f\"Modelo guardado en: {model_path}\")\n",
    "\n",
    "    # Guardar predicciones y métricas en la base de datos\n",
    "    conn = get_db_connection()\n",
    "    cursor = conn.cursor()\n",
    "    timestamp = datetime.datetime.now()\n",
    "\n",
    "    try:\n",
    "        # 1. Crear tabla Overtime_Predictions si no existe\n",
    "        cursor.execute(\"\"\"\n",
    "            IF NOT EXISTS (SELECT * FROM sys.tables WHERE name = 'Overtime_Predictions')\n",
    "            CREATE TABLE Overtime_Predictions (\n",
    "                id INT IDENTITY(1,1) PRIMARY KEY,\n",
    "                timestamp DATETIME,\n",
    "                department VARCHAR(100),\n",
    "                prediction_date DATE,\n",
    "                predicted_value FLOAT,\n",
    "                confidence_lower FLOAT,\n",
    "                confidence_upper FLOAT\n",
    "            )\n",
    "        \"\"\")\n",
    "        \n",
    "        # 2. Crear tabla ML_Model_Metrics_Overtime_Predictions si no existe \n",
    "        cursor.execute(\"\"\"\n",
    "            IF NOT EXISTS (SELECT * FROM sys.tables WHERE name = 'ML_Model_Metrics_Overtime_Predictions')\n",
    "            CREATE TABLE ML_Model_Metrics_Overtime_Predictions (\n",
    "                id INT IDENTITY(1,1) PRIMARY KEY,\n",
    "                timestamp DATETIME,\n",
    "                department VARCHAR(100),\n",
    "                rmse FLOAT,\n",
    "                mae FLOAT,\n",
    "                smape FLOAT,\n",
    "                mase FLOAT,\n",
    "                model_quality VARCHAR(50)\n",
    "            )\n",
    "        \"\"\")\n",
    "        \n",
    "        # Guardar predicciones para cada departamento\n",
    "        for department, forecast in department_forecasts.items():\n",
    "            # Insertar predicciones\n",
    "            for _, row in forecast.iterrows():\n",
    "                cursor.execute(\"\"\"\n",
    "                    INSERT INTO Overtime_Predictions \n",
    "                    (timestamp, department, prediction_date, predicted_value, \n",
    "                     confidence_lower, confidence_upper)\n",
    "                    VALUES (%s, %s, %s, %s, %s, %s)\n",
    "                \"\"\", (\n",
    "                    timestamp,\n",
    "                    department, \n",
    "                    row['ds'],\n",
    "                    row['yhat'],\n",
    "                    row['yhat_lower'],\n",
    "                    row['yhat_upper']\n",
    "                ))\n",
    "            \n",
    "            # Insertar métricas del modelo\n",
    "            metric = metrics[department]\n",
    "            cursor.execute(\"\"\"\n",
    "                INSERT INTO ML_Model_Metrics_Overtime_Predictions \n",
    "                (timestamp, department, rmse, mae, smape, mase, model_quality)\n",
    "                VALUES (%s, %s, %s, %s, %s, %s, %s)\n",
    "            \"\"\", (\n",
    "                timestamp,\n",
    "                department,\n",
    "                metric['rmse'],\n",
    "                metric['mae'],\n",
    "                metric['smape'],\n",
    "                metric['mase'],\n",
    "                metric['quality']\n",
    "            ))\n",
    "        \n",
    "        conn.commit()\n",
    "        logging.info(\"Predicciones y métricas guardadas exitosamente\")\n",
    "        \n",
    "        # Mostrar resumen de lo guardado\n",
    "        print(\"\\nResumen de predicciones guardadas:\")\n",
    "        print(\"-\" * 70)\n",
    "        for department in department_forecasts.keys():\n",
    "            print(f\"\\nDepartamento: {department}\")\n",
    "            print(\"Fecha Predicha\\t\\tPredicción\\tIntervalo de Confianza\")\n",
    "            print(\"-\" * 60)\n",
    "            \n",
    "            forecast = department_forecasts[department]\n",
    "            for _, row in forecast.iterrows():\n",
    "                print(f\"{row['ds'].strftime('%Y-%m-%d')}\\t{row['yhat']:.2f}\\t\\t({row['yhat_lower']:.2f}, {row['yhat_upper']:.2f})\")\n",
    "            \n",
    "            # Mostrar métricas\n",
    "            metric = metrics[department]\n",
    "            print(f\"\\nMétricas del modelo:\")\n",
    "            print(f\"RMSE: {metric['rmse']:.2f}\")\n",
    "            print(f\"MAE: {metric['mae']:.2f}\")\n",
    "            print(f\"SMAPE: {metric['smape']:.2f}%\")\n",
    "            print(f\"MASE: {metric['mase']:.2f}\")\n",
    "            print(f\"Calidad del modelo: {metric['quality']}\")\n",
    "            print(\"-\" * 70)\n",
    "        \n",
    "    except Exception as e:\n",
    "        conn.rollback()\n",
    "        logging.error(f\"Error guardando datos: {e}\")\n",
    "        raise\n",
    "    finally:\n",
    "        conn.close()\n",
    "\n",
    "# Ejecutar el guardado de predicciones\n",
    "try:\n",
    "    save_predictions()\n",
    "    print(\"\\nDatos guardados exitosamente en la base de datos.\")\n",
    "except Exception as e:\n",
    "    print(f\"\\nError al guardar los datos: {str(e)}\")\n",
    "\n",
    "\n",
    "def verify_tables():\n",
    "    conn = get_db_connection()\n",
    "    cursor = conn.cursor()\n",
    "    try:\n",
    "        cursor.execute(\"\"\"\n",
    "            SELECT COUNT(*) FROM Overtime_Predictions;\n",
    "            SELECT COUNT(*) FROM ML_Model_Metrics_Overtime_Predictions;\n",
    "        \"\"\")\n",
    "        results = cursor.fetchall()\n",
    "        print(f\"\\nRegistros en Overtime_Predictions: {results[0][0]}\")\n",
    "        print(f\"Registros en ML_Model_Metrics: {results[1][0]}\")\n",
    "    except Exception as e:\n",
    "        print(f\"Error verificando tablas: {e}\")\n",
    "    finally:\n",
    "        conn.close()\n",
    "\n",
    "# Verificar tablas\n",
    "verify_tables()    "
   ]
  }
 ],
 "metadata": {
  "kernelspec": {
   "display_name": "Python 3",
   "language": "python",
   "name": "python3"
  },
  "language_info": {
   "codemirror_mode": {
    "name": "ipython",
    "version": 3
   },
   "file_extension": ".py",
   "mimetype": "text/x-python",
   "name": "python",
   "nbconvert_exporter": "python",
   "pygments_lexer": "ipython3",
   "version": "3.10.11"
  }
 },
 "nbformat": 4,
 "nbformat_minor": 5
}
