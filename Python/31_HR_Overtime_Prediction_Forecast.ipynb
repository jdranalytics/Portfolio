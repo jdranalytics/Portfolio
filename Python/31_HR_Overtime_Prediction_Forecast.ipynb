{
 "cells": [
  {
   "cell_type": "markdown",
   "id": "404f6110",
   "metadata": {},
   "source": [
    "# HR Overtime Prediction and Forecasting\n",
    "\n",
    "# Predicción y Pronóstico de Horas Extra de RRHH\n",
    "\n",
    "Este notebook implementa el pronóstico de horas extra utilizando Prophet y visualiza datos históricos, predicciones e intervalos de confianza usando Plotly. Los componentes principales incluyen:\n",
    "- Carga de datos históricos de horas extra desde SQL Server\n",
    "- Entrenamiento de modelos SARIMA para cada departamento\n",
    "- Generación de predicciones con intervalos de confianza \n",
    "- Visualización interactiva con Plotly\n",
    "- Almacenamiento de modelos y predicciones en MS SQL SERVER\n",
    "\n",
    "Objetivo: Predecir las horas extras acumuladas por departamento semana a semana para las próximas 4 semanas."
   ]
  },
  {
   "cell_type": "markdown",
   "id": "a874cc3c",
   "metadata": {},
   "source": [
    "## 1. Importar Librerías and Setup\n"
   ]
  },
  {
   "cell_type": "code",
   "execution_count": 14,
   "id": "b4616d67",
   "metadata": {},
   "outputs": [],
   "source": [
    "import pandas as pd\n",
    "import numpy as np\n",
    "import pymssql\n",
    "import logging\n",
    "import datetime\n",
    "import warnings\n",
    "import os\n",
    "\n",
    "# Data visualization\n",
    "import plotly.express as px\n",
    "import plotly.graph_objects as go\n",
    "from plotly.subplots import make_subplots\n",
    "\n",
    "# Modelos y Tests\n",
    "from statsmodels.tsa.statespace.sarimax import SARIMAX\n",
    "from statsmodels.graphics.tsaplots import plot_acf, plot_pacf\n",
    "from statsmodels.tsa.seasonal import seasonal_decompose\n",
    "from statsmodels.tsa.stattools import adfuller\n",
    "from statsmodels.stats.diagnostic import acorr_ljungbox\n",
    "from pmdarima import auto_arima\n",
    "\n",
    "# Métricas\n",
    "from sklearn.metrics import mean_squared_error, mean_absolute_error\n",
    "from sklearn.model_selection import train_test_split\n",
    "\n",
    "# Persistencia de modelo\n",
    "import joblib\n",
    "\n",
    "# Configure warnings and logging\n",
    "warnings.filterwarnings(\"ignore\")\n",
    "logging.basicConfig(level=logging.INFO)"
   ]
  },
  {
   "cell_type": "markdown",
   "id": "2ad66f3e",
   "metadata": {},
   "source": [
    "## 2. Conectar a la base de datos\n",
    "\n",
    "Setup de SQL Server"
   ]
  },
  {
   "cell_type": "code",
   "execution_count": 15,
   "id": "5b80caa8",
   "metadata": {},
   "outputs": [],
   "source": [
    "# SQL Server Setup\n",
    "SQL_SERVER = \"172.28.192.1:50121\"\n",
    "SQL_DB = \"HR_Analytics\"\n",
    "SQL_USER = \"sa\"\n",
    "SQL_PASSWORD = \"123456\"\n",
    "\n",
    "# Conectar a SQL Server\n",
    "def get_db_connection():\n",
    "    server_name = SQL_SERVER\n",
    "    try:\n",
    "        conn = pymssql.connect(\n",
    "            server=server_name,\n",
    "            database=SQL_DB,\n",
    "            user=SQL_USER,\n",
    "            password=SQL_PASSWORD\n",
    "        )\n",
    "        return conn\n",
    "    except Exception as e:\n",
    "        logging.error(f\"Error de conexión a la base de datos: {e}\")\n",
    "        raise"
   ]
  },
  {
   "cell_type": "markdown",
   "id": "35d90a13",
   "metadata": {},
   "source": [
    "## 3. Cargar y procesar datos históricos de horas extras\n",
    "\n",
    "Consulta y preparación"
   ]
  },
  {
   "cell_type": "code",
   "execution_count": 16,
   "id": "e8694bc7",
   "metadata": {},
   "outputs": [
    {
     "name": "stderr",
     "output_type": "stream",
     "text": [
      "INFO:root:Loaded data: 324 records\n"
     ]
    },
    {
     "name": "stdout",
     "output_type": "stream",
     "text": [
      "Muestra de datos históricos:\n"
     ]
    },
    {
     "data": {
      "application/vnd.microsoft.datawrangler.viewer.v0+json": {
       "columns": [
        {
         "name": "index",
         "rawType": "int64",
         "type": "integer"
        },
        {
         "name": "work_date",
         "rawType": "datetime64[ns]",
         "type": "datetime"
        },
        {
         "name": "department",
         "rawType": "object",
         "type": "string"
        },
        {
         "name": "total_overtime",
         "rawType": "float64",
         "type": "float"
        }
       ],
       "ref": "2c67457b-d555-46d2-ae9b-3f368a134b9a",
       "rows": [
        [
         "0",
         "2024-05-19 00:00:00",
         "Finance",
         "0.0"
        ],
        [
         "1",
         "2024-05-19 00:00:00",
         "HR",
         "0.0"
        ],
        [
         "2",
         "2024-05-19 00:00:00",
         "IT",
         "1.29"
        ],
        [
         "3",
         "2024-05-19 00:00:00",
         "Inventory",
         "0.0"
        ],
        [
         "4",
         "2024-05-19 00:00:00",
         "Marketing",
         "3.04"
        ],
        [
         "5",
         "2024-05-19 00:00:00",
         "Sales",
         "2.44"
        ],
        [
         "6",
         "2024-05-26 00:00:00",
         "Finance",
         "1.69"
        ],
        [
         "7",
         "2024-05-26 00:00:00",
         "HR",
         "8.84"
        ],
        [
         "8",
         "2024-05-26 00:00:00",
         "IT",
         "3.85"
        ],
        [
         "9",
         "2024-05-26 00:00:00",
         "Inventory",
         "7.029999999999999"
        ]
       ],
       "shape": {
        "columns": 3,
        "rows": 10
       }
      },
      "text/html": [
       "<div>\n",
       "<style scoped>\n",
       "    .dataframe tbody tr th:only-of-type {\n",
       "        vertical-align: middle;\n",
       "    }\n",
       "\n",
       "    .dataframe tbody tr th {\n",
       "        vertical-align: top;\n",
       "    }\n",
       "\n",
       "    .dataframe thead th {\n",
       "        text-align: right;\n",
       "    }\n",
       "</style>\n",
       "<table border=\"1\" class=\"dataframe\">\n",
       "  <thead>\n",
       "    <tr style=\"text-align: right;\">\n",
       "      <th></th>\n",
       "      <th>work_date</th>\n",
       "      <th>department</th>\n",
       "      <th>total_overtime</th>\n",
       "    </tr>\n",
       "  </thead>\n",
       "  <tbody>\n",
       "    <tr>\n",
       "      <th>0</th>\n",
       "      <td>2024-05-19</td>\n",
       "      <td>Finance</td>\n",
       "      <td>0.00</td>\n",
       "    </tr>\n",
       "    <tr>\n",
       "      <th>1</th>\n",
       "      <td>2024-05-19</td>\n",
       "      <td>HR</td>\n",
       "      <td>0.00</td>\n",
       "    </tr>\n",
       "    <tr>\n",
       "      <th>2</th>\n",
       "      <td>2024-05-19</td>\n",
       "      <td>IT</td>\n",
       "      <td>1.29</td>\n",
       "    </tr>\n",
       "    <tr>\n",
       "      <th>3</th>\n",
       "      <td>2024-05-19</td>\n",
       "      <td>Inventory</td>\n",
       "      <td>0.00</td>\n",
       "    </tr>\n",
       "    <tr>\n",
       "      <th>4</th>\n",
       "      <td>2024-05-19</td>\n",
       "      <td>Marketing</td>\n",
       "      <td>3.04</td>\n",
       "    </tr>\n",
       "    <tr>\n",
       "      <th>5</th>\n",
       "      <td>2024-05-19</td>\n",
       "      <td>Sales</td>\n",
       "      <td>2.44</td>\n",
       "    </tr>\n",
       "    <tr>\n",
       "      <th>6</th>\n",
       "      <td>2024-05-26</td>\n",
       "      <td>Finance</td>\n",
       "      <td>1.69</td>\n",
       "    </tr>\n",
       "    <tr>\n",
       "      <th>7</th>\n",
       "      <td>2024-05-26</td>\n",
       "      <td>HR</td>\n",
       "      <td>8.84</td>\n",
       "    </tr>\n",
       "    <tr>\n",
       "      <th>8</th>\n",
       "      <td>2024-05-26</td>\n",
       "      <td>IT</td>\n",
       "      <td>3.85</td>\n",
       "    </tr>\n",
       "    <tr>\n",
       "      <th>9</th>\n",
       "      <td>2024-05-26</td>\n",
       "      <td>Inventory</td>\n",
       "      <td>7.03</td>\n",
       "    </tr>\n",
       "  </tbody>\n",
       "</table>\n",
       "</div>"
      ],
      "text/plain": [
       "   work_date department  total_overtime\n",
       "0 2024-05-19    Finance            0.00\n",
       "1 2024-05-19         HR            0.00\n",
       "2 2024-05-19         IT            1.29\n",
       "3 2024-05-19  Inventory            0.00\n",
       "4 2024-05-19  Marketing            3.04\n",
       "5 2024-05-19      Sales            2.44\n",
       "6 2024-05-26    Finance            1.69\n",
       "7 2024-05-26         HR            8.84\n",
       "8 2024-05-26         IT            3.85\n",
       "9 2024-05-26  Inventory            7.03"
      ]
     },
     "metadata": {},
     "output_type": "display_data"
    }
   ],
   "source": [
    "def load_historical_data():\n",
    "    conn = get_db_connection()\n",
    "    query = \"\"\"\n",
    "    SELECT k.work_date, w.department, SUM(k.overtime_hours) as total_overtime\n",
    "    FROM Kronos_TimeEntries k\n",
    "    JOIN Workday_Employees w ON k.employee_id = w.employee_id\n",
    "    GROUP BY k.work_date, w.department\n",
    "    \"\"\"\n",
    "    \n",
    "    try:\n",
    "        df = pd.read_sql(query, conn)\n",
    "        df['work_date'] = pd.to_datetime(df['work_date']).dt.strftime('%Y-%m-%d')\n",
    "        df['work_date'] = pd.to_datetime(df['work_date'])\n",
    "        \n",
    "        # Aggregate by week\n",
    "        df = df.groupby([pd.Grouper(key='work_date', freq='W'), 'department'])['total_overtime'].sum().reset_index()\n",
    "        \n",
    "        logging.info(f\"Loaded data: {len(df)} records\")\n",
    "        return df\n",
    "    \n",
    "    finally:\n",
    "        conn.close()\n",
    "\n",
    "# Load and display data\n",
    "historical_data = load_historical_data()\n",
    "print(\"Muestra de datos históricos:\")\n",
    "display(historical_data.head(10))"
   ]
  },
  {
   "cell_type": "markdown",
   "id": "6d4c4139",
   "metadata": {},
   "source": [
    "### 3.1. Evaluación de Estacionaridad (Dickey-Fuller Test)"
   ]
  },
  {
   "cell_type": "code",
   "execution_count": 17,
   "id": "260cc5e2",
   "metadata": {},
   "outputs": [
    {
     "name": "stdout",
     "output_type": "stream",
     "text": [
      "\n",
      "Análisis de Estacionalidad para Finance\n",
      "Resultados de la prueba de Dickey-Fuller para columna: total_overtime\n",
      "Test Statistic                       -5.967518e+00\n",
      "p-value                               1.971607e-07\n",
      "No Lags Used                          0.000000e+00\n",
      "Número de observaciones utilizadas    5.300000e+01\n",
      "Critical Value (1%)                  -3.560242e+00\n",
      "Critical Value (5%)                  -2.917850e+00\n",
      "Critical Value (10%)                 -2.596796e+00\n",
      "dtype: float64\n",
      "\n",
      "Conclusión:====>\n",
      "Rechazar la hipótesis nula\n",
      "Los datos son estacionarios, no requieren diferenciación\n",
      "\n",
      "Análisis de Estacionalidad para HR\n",
      "Resultados de la prueba de Dickey-Fuller para columna: total_overtime\n",
      "Test Statistic                        -4.663216\n",
      "p-value                                0.000099\n",
      "No Lags Used                           2.000000\n",
      "Número de observaciones utilizadas    51.000000\n",
      "Critical Value (1%)                   -3.565624\n",
      "Critical Value (5%)                   -2.920142\n",
      "Critical Value (10%)                  -2.598015\n",
      "dtype: float64\n",
      "\n",
      "Conclusión:====>\n",
      "Rechazar la hipótesis nula\n",
      "Los datos son estacionarios, no requieren diferenciación\n",
      "\n",
      "Análisis de Estacionalidad para IT\n",
      "Resultados de la prueba de Dickey-Fuller para columna: total_overtime\n",
      "Test Statistic                       -6.286076e+00\n",
      "p-value                               3.695386e-08\n",
      "No Lags Used                          1.000000e+00\n",
      "Número de observaciones utilizadas    5.200000e+01\n",
      "Critical Value (1%)                  -3.562879e+00\n",
      "Critical Value (5%)                  -2.918973e+00\n",
      "Critical Value (10%)                 -2.597393e+00\n",
      "dtype: float64\n",
      "\n",
      "Conclusión:====>\n",
      "Rechazar la hipótesis nula\n",
      "Los datos son estacionarios, no requieren diferenciación\n",
      "\n",
      "Análisis de Estacionalidad para Inventory\n",
      "Resultados de la prueba de Dickey-Fuller para columna: total_overtime\n",
      "Test Statistic                       -5.828026e+00\n",
      "p-value                               4.036166e-07\n",
      "No Lags Used                          1.000000e+00\n",
      "Número de observaciones utilizadas    5.200000e+01\n",
      "Critical Value (1%)                  -3.562879e+00\n",
      "Critical Value (5%)                  -2.918973e+00\n",
      "Critical Value (10%)                 -2.597393e+00\n",
      "dtype: float64\n",
      "\n",
      "Conclusión:====>\n",
      "Rechazar la hipótesis nula\n",
      "Los datos son estacionarios, no requieren diferenciación\n",
      "\n",
      "Análisis de Estacionalidad para Marketing\n",
      "Resultados de la prueba de Dickey-Fuller para columna: total_overtime\n",
      "Test Statistic                       -5.916445e+00\n",
      "p-value                               2.566149e-07\n",
      "No Lags Used                          0.000000e+00\n",
      "Número de observaciones utilizadas    5.300000e+01\n",
      "Critical Value (1%)                  -3.560242e+00\n",
      "Critical Value (5%)                  -2.917850e+00\n",
      "Critical Value (10%)                 -2.596796e+00\n",
      "dtype: float64\n",
      "\n",
      "Conclusión:====>\n",
      "Rechazar la hipótesis nula\n",
      "Los datos son estacionarios, no requieren diferenciación\n",
      "\n",
      "Análisis de Estacionalidad para Sales\n",
      "Resultados de la prueba de Dickey-Fuller para columna: total_overtime\n",
      "Test Statistic                        -4.766825\n",
      "p-value                                0.000063\n",
      "No Lags Used                           0.000000\n",
      "Número de observaciones utilizadas    53.000000\n",
      "Critical Value (1%)                   -3.560242\n",
      "Critical Value (5%)                   -2.917850\n",
      "Critical Value (10%)                  -2.596796\n",
      "dtype: float64\n",
      "\n",
      "Conclusión:====>\n",
      "Rechazar la hipótesis nula\n",
      "Los datos son estacionarios, no requieren diferenciación\n",
      "\n",
      "Resumen de Estacionalidad por Departamento:\n"
     ]
    },
    {
     "data": {
      "application/vnd.microsoft.datawrangler.viewer.v0+json": {
       "columns": [
        {
         "name": "index",
         "rawType": "int64",
         "type": "integer"
        },
        {
         "name": "department",
         "rawType": "object",
         "type": "string"
        },
        {
         "name": "test_statistic",
         "rawType": "float64",
         "type": "float"
        },
        {
         "name": "p_value",
         "rawType": "float64",
         "type": "float"
        },
        {
         "name": "is_seasonal",
         "rawType": "bool",
         "type": "boolean"
        }
       ],
       "ref": "325202c6-f006-451b-98ea-13456aa50800",
       "rows": [
        [
         "0",
         "Finance",
         "-5.967517670806733",
         "1.9716067956434957e-07",
         "True"
        ],
        [
         "1",
         "HR",
         "-4.663216055962168",
         "9.861228370862831e-05",
         "True"
        ],
        [
         "2",
         "IT",
         "-6.286075830207535",
         "3.6953856504658566e-08",
         "True"
        ],
        [
         "3",
         "Inventory",
         "-5.828026000485124",
         "4.036166126274566e-07",
         "True"
        ],
        [
         "4",
         "Marketing",
         "-5.9164446199602505",
         "2.566149216881257e-07",
         "True"
        ],
        [
         "5",
         "Sales",
         "-4.766824739516733",
         "6.291614328827817e-05",
         "True"
        ]
       ],
       "shape": {
        "columns": 4,
        "rows": 6
       }
      },
      "text/html": [
       "<div>\n",
       "<style scoped>\n",
       "    .dataframe tbody tr th:only-of-type {\n",
       "        vertical-align: middle;\n",
       "    }\n",
       "\n",
       "    .dataframe tbody tr th {\n",
       "        vertical-align: top;\n",
       "    }\n",
       "\n",
       "    .dataframe thead th {\n",
       "        text-align: right;\n",
       "    }\n",
       "</style>\n",
       "<table border=\"1\" class=\"dataframe\">\n",
       "  <thead>\n",
       "    <tr style=\"text-align: right;\">\n",
       "      <th></th>\n",
       "      <th>department</th>\n",
       "      <th>test_statistic</th>\n",
       "      <th>p_value</th>\n",
       "      <th>is_seasonal</th>\n",
       "    </tr>\n",
       "  </thead>\n",
       "  <tbody>\n",
       "    <tr>\n",
       "      <th>0</th>\n",
       "      <td>Finance</td>\n",
       "      <td>-5.967518</td>\n",
       "      <td>1.971607e-07</td>\n",
       "      <td>True</td>\n",
       "    </tr>\n",
       "    <tr>\n",
       "      <th>1</th>\n",
       "      <td>HR</td>\n",
       "      <td>-4.663216</td>\n",
       "      <td>9.861228e-05</td>\n",
       "      <td>True</td>\n",
       "    </tr>\n",
       "    <tr>\n",
       "      <th>2</th>\n",
       "      <td>IT</td>\n",
       "      <td>-6.286076</td>\n",
       "      <td>3.695386e-08</td>\n",
       "      <td>True</td>\n",
       "    </tr>\n",
       "    <tr>\n",
       "      <th>3</th>\n",
       "      <td>Inventory</td>\n",
       "      <td>-5.828026</td>\n",
       "      <td>4.036166e-07</td>\n",
       "      <td>True</td>\n",
       "    </tr>\n",
       "    <tr>\n",
       "      <th>4</th>\n",
       "      <td>Marketing</td>\n",
       "      <td>-5.916445</td>\n",
       "      <td>2.566149e-07</td>\n",
       "      <td>True</td>\n",
       "    </tr>\n",
       "    <tr>\n",
       "      <th>5</th>\n",
       "      <td>Sales</td>\n",
       "      <td>-4.766825</td>\n",
       "      <td>6.291614e-05</td>\n",
       "      <td>True</td>\n",
       "    </tr>\n",
       "  </tbody>\n",
       "</table>\n",
       "</div>"
      ],
      "text/plain": [
       "  department  test_statistic       p_value  is_seasonal\n",
       "0    Finance       -5.967518  1.971607e-07         True\n",
       "1         HR       -4.663216  9.861228e-05         True\n",
       "2         IT       -6.286076  3.695386e-08         True\n",
       "3  Inventory       -5.828026  4.036166e-07         True\n",
       "4  Marketing       -5.916445  2.566149e-07         True\n",
       "5      Sales       -4.766825  6.291614e-05         True"
      ]
     },
     "metadata": {},
     "output_type": "display_data"
    },
    {
     "data": {
      "application/vnd.plotly.v1+json": {
       "config": {
        "plotlyServerURL": "https://plot.ly"
       },
       "data": [
        {
         "mode": "lines+markers",
         "name": "Finance",
         "type": "scatter",
         "x": [
          "2024-05-19T00:00:00.000000000",
          "2024-05-26T00:00:00.000000000",
          "2024-06-02T00:00:00.000000000",
          "2024-06-09T00:00:00.000000000",
          "2024-06-16T00:00:00.000000000",
          "2024-06-23T00:00:00.000000000",
          "2024-06-30T00:00:00.000000000",
          "2024-07-07T00:00:00.000000000",
          "2024-07-14T00:00:00.000000000",
          "2024-07-21T00:00:00.000000000",
          "2024-07-28T00:00:00.000000000",
          "2024-08-04T00:00:00.000000000",
          "2024-08-11T00:00:00.000000000",
          "2024-08-18T00:00:00.000000000",
          "2024-08-25T00:00:00.000000000",
          "2024-09-01T00:00:00.000000000",
          "2024-09-08T00:00:00.000000000",
          "2024-09-15T00:00:00.000000000",
          "2024-09-22T00:00:00.000000000",
          "2024-09-29T00:00:00.000000000",
          "2024-10-06T00:00:00.000000000",
          "2024-10-13T00:00:00.000000000",
          "2024-10-20T00:00:00.000000000",
          "2024-10-27T00:00:00.000000000",
          "2024-11-03T00:00:00.000000000",
          "2024-11-10T00:00:00.000000000",
          "2024-11-17T00:00:00.000000000",
          "2024-11-24T00:00:00.000000000",
          "2024-12-01T00:00:00.000000000",
          "2024-12-08T00:00:00.000000000",
          "2024-12-15T00:00:00.000000000",
          "2024-12-22T00:00:00.000000000",
          "2024-12-29T00:00:00.000000000",
          "2025-01-05T00:00:00.000000000",
          "2025-01-12T00:00:00.000000000",
          "2025-01-19T00:00:00.000000000",
          "2025-01-26T00:00:00.000000000",
          "2025-02-02T00:00:00.000000000",
          "2025-02-09T00:00:00.000000000",
          "2025-02-16T00:00:00.000000000",
          "2025-02-23T00:00:00.000000000",
          "2025-03-02T00:00:00.000000000",
          "2025-03-09T00:00:00.000000000",
          "2025-03-16T00:00:00.000000000",
          "2025-03-23T00:00:00.000000000",
          "2025-03-30T00:00:00.000000000",
          "2025-04-06T00:00:00.000000000",
          "2025-04-13T00:00:00.000000000",
          "2025-04-20T00:00:00.000000000",
          "2025-04-27T00:00:00.000000000",
          "2025-05-04T00:00:00.000000000",
          "2025-05-11T00:00:00.000000000",
          "2025-05-18T00:00:00.000000000",
          "2025-05-25T00:00:00.000000000"
         ],
         "y": {
          "bdata": "AAAAAAAAAAAK16NwPQr7P+J6FK5H4RhApHA9CtejEUBI4XoUrkfxP1yPwvUo3CFAcT0K16NwGkCuR+F6FK4TQML1KFyPwiJAcT0K16NwHECG61G4HoUdQKRwPQrXow5ArkfhehSuD0AAAAAAAAAAAHsUrkfhegRAAAAAAAAAAAAAAAAAAAAAAM3MzMzMzPg/pHA9CtejAkD2KFyPwvUOQHsUrkfhehNA4XoUrkfhF0BSuB6F61EZQIXrUbgeBSJAAAAAAACAJUCamZmZmZn1P83MzMzMzBVAMzMzMzMzGECQwvUoXI8cQOxRuB6F6yJAXI/C9ShcD0BI4XoUrkcQQLgehetRuAhA4XoUrkfhFEBcj8L1KFwTQD4K16NwPRFA16NwPQpXKUCamZmZmRkiQNejcD0K1wVAFK5H4XqUJ0CamZmZmZkXQFyPwvUoXBdAXI/C9ShcI0DiehSuR+H+PwrXo3A9CglArkfhehSuGEB7FK5H4fogQAAAAAAAABNAUrgehetRFkAzMzMzMzMQQHsUrkfhehlA7FG4HoXrGkAUrkfhehQpQJqZmZmZmfk/",
          "dtype": "f8"
         }
        },
        {
         "mode": "lines+markers",
         "name": "HR",
         "type": "scatter",
         "x": [
          "2024-05-19T00:00:00.000000000",
          "2024-05-26T00:00:00.000000000",
          "2024-06-02T00:00:00.000000000",
          "2024-06-09T00:00:00.000000000",
          "2024-06-16T00:00:00.000000000",
          "2024-06-23T00:00:00.000000000",
          "2024-06-30T00:00:00.000000000",
          "2024-07-07T00:00:00.000000000",
          "2024-07-14T00:00:00.000000000",
          "2024-07-21T00:00:00.000000000",
          "2024-07-28T00:00:00.000000000",
          "2024-08-04T00:00:00.000000000",
          "2024-08-11T00:00:00.000000000",
          "2024-08-18T00:00:00.000000000",
          "2024-08-25T00:00:00.000000000",
          "2024-09-01T00:00:00.000000000",
          "2024-09-08T00:00:00.000000000",
          "2024-09-15T00:00:00.000000000",
          "2024-09-22T00:00:00.000000000",
          "2024-09-29T00:00:00.000000000",
          "2024-10-06T00:00:00.000000000",
          "2024-10-13T00:00:00.000000000",
          "2024-10-20T00:00:00.000000000",
          "2024-10-27T00:00:00.000000000",
          "2024-11-03T00:00:00.000000000",
          "2024-11-10T00:00:00.000000000",
          "2024-11-17T00:00:00.000000000",
          "2024-11-24T00:00:00.000000000",
          "2024-12-01T00:00:00.000000000",
          "2024-12-08T00:00:00.000000000",
          "2024-12-15T00:00:00.000000000",
          "2024-12-22T00:00:00.000000000",
          "2024-12-29T00:00:00.000000000",
          "2025-01-05T00:00:00.000000000",
          "2025-01-12T00:00:00.000000000",
          "2025-01-19T00:00:00.000000000",
          "2025-01-26T00:00:00.000000000",
          "2025-02-02T00:00:00.000000000",
          "2025-02-09T00:00:00.000000000",
          "2025-02-16T00:00:00.000000000",
          "2025-02-23T00:00:00.000000000",
          "2025-03-02T00:00:00.000000000",
          "2025-03-09T00:00:00.000000000",
          "2025-03-16T00:00:00.000000000",
          "2025-03-23T00:00:00.000000000",
          "2025-03-30T00:00:00.000000000",
          "2025-04-06T00:00:00.000000000",
          "2025-04-13T00:00:00.000000000",
          "2025-04-20T00:00:00.000000000",
          "2025-04-27T00:00:00.000000000",
          "2025-05-04T00:00:00.000000000",
          "2025-05-11T00:00:00.000000000",
          "2025-05-18T00:00:00.000000000",
          "2025-05-25T00:00:00.000000000"
         ],
         "y": {
          "bdata": "AAAAAAAAAACuR+F6FK4hQK5H4XoUrvs/AAAAAAAAAADD9Shcj8LlPwAAAAAAAARAMzMzMzMzA0DsUbgehevBPz0K16NwPRpAFa5H4XoUEUAfhetRuB4dQBSuR+F6FApASOF6FK5H9T89CtejcD0uQClcj8L1KAhACtejcD2KIkCZmZmZmZn9P/YoXI/C9SFAHoXrUbgeJkDD9Shcj8IaQK5H4XoUrvs/kML1KFyPFUAUrkfhehQaQK5H4XoUrg9Aw/UoXI9CMEDXo3A9CtcbQAAAAAAAAAAAKVyPwvUo+D9mZmZmZuYmQEjhehSuxzBAAAAAAAAAAAApXI/C9Sj4PwAAAAAAAB5ACtejcD0KLkBcj8L1KFwjQHA9CtejcBlApHA9CtejBkCamZmZmRklQD4K16NwPRFAUrgehetRGUCF61G4HoUhQDMzMzMzsyFASOF6FK7HJEAzMzMzMzP7Pyhcj8L1KBZAhetRuB6FK0CF61G4HoUNQEjhehSuRx9AwvUoXI/CI0BmZmZmZuYjQFyPwvUo3CFAKVyPwvUoGEBmZmZmZmYdQAAAAAAAAAAA",
          "dtype": "f8"
         }
        },
        {
         "mode": "lines+markers",
         "name": "IT",
         "type": "scatter",
         "x": [
          "2024-05-19T00:00:00.000000000",
          "2024-05-26T00:00:00.000000000",
          "2024-06-02T00:00:00.000000000",
          "2024-06-09T00:00:00.000000000",
          "2024-06-16T00:00:00.000000000",
          "2024-06-23T00:00:00.000000000",
          "2024-06-30T00:00:00.000000000",
          "2024-07-07T00:00:00.000000000",
          "2024-07-14T00:00:00.000000000",
          "2024-07-21T00:00:00.000000000",
          "2024-07-28T00:00:00.000000000",
          "2024-08-04T00:00:00.000000000",
          "2024-08-11T00:00:00.000000000",
          "2024-08-18T00:00:00.000000000",
          "2024-08-25T00:00:00.000000000",
          "2024-09-01T00:00:00.000000000",
          "2024-09-08T00:00:00.000000000",
          "2024-09-15T00:00:00.000000000",
          "2024-09-22T00:00:00.000000000",
          "2024-09-29T00:00:00.000000000",
          "2024-10-06T00:00:00.000000000",
          "2024-10-13T00:00:00.000000000",
          "2024-10-20T00:00:00.000000000",
          "2024-10-27T00:00:00.000000000",
          "2024-11-03T00:00:00.000000000",
          "2024-11-10T00:00:00.000000000",
          "2024-11-17T00:00:00.000000000",
          "2024-11-24T00:00:00.000000000",
          "2024-12-01T00:00:00.000000000",
          "2024-12-08T00:00:00.000000000",
          "2024-12-15T00:00:00.000000000",
          "2024-12-22T00:00:00.000000000",
          "2024-12-29T00:00:00.000000000",
          "2025-01-05T00:00:00.000000000",
          "2025-01-12T00:00:00.000000000",
          "2025-01-19T00:00:00.000000000",
          "2025-01-26T00:00:00.000000000",
          "2025-02-02T00:00:00.000000000",
          "2025-02-09T00:00:00.000000000",
          "2025-02-16T00:00:00.000000000",
          "2025-02-23T00:00:00.000000000",
          "2025-03-02T00:00:00.000000000",
          "2025-03-09T00:00:00.000000000",
          "2025-03-16T00:00:00.000000000",
          "2025-03-23T00:00:00.000000000",
          "2025-03-30T00:00:00.000000000",
          "2025-04-06T00:00:00.000000000",
          "2025-04-13T00:00:00.000000000",
          "2025-04-20T00:00:00.000000000",
          "2025-04-27T00:00:00.000000000",
          "2025-05-04T00:00:00.000000000",
          "2025-05-11T00:00:00.000000000",
          "2025-05-18T00:00:00.000000000",
          "2025-05-25T00:00:00.000000000"
         ],
         "y": {
          "bdata": "pHA9Ctej9D/NzMzMzMwOQK5H4XoUrhtAZmZmZmbmJEAAAAAAAADoPylcj8L1KB9AmpmZmZmZG0BSuB6F69EiQFyPwvUoXB1Aj8L1KFyPJ0CkcD0K16MVQBSuR+F6lCFAH4XrUbgeJEBwPQrXo3AaQK5H4XoUriJA61G4HoXrHEApXI/C9SgMQAAAAAAAABhArkfhehQuIUBcj8L1KFwNQAAAAAAAAAAAcD0K16NwFkDC9Shcj8IrQJmZmZmZGSRAXI/C9SjcJUDhehSuR+EgQEjhehSuRxRAFK5H4XoUGkBxPQrXo3ApQM3MzMzMTCVAZmZmZmZmEEAzMzMzMzP7P+xRuB6F6xNA9ihcj8L1HEDhehSuR+EXQBSuR+F6FBpAXI/C9ShcFEAVrkfhepQmQK5H4XoUrhtArkfhehQuIEAzMzMzMzP3P5qZmZmZmbk/pHA9CtejEEA+CtejcD0pQJmZmZmZmfE/PgrXo3A9E0BmZmZmZmYpQNejcD0KVydANDMzMzMzHEA+CtejcD0fQML1KFyPwhBAuB6F61E4NkBSuB6F69EkQBSuR+F6FPI/",
          "dtype": "f8"
         }
        },
        {
         "mode": "lines+markers",
         "name": "Inventory",
         "type": "scatter",
         "x": [
          "2024-05-19T00:00:00.000000000",
          "2024-05-26T00:00:00.000000000",
          "2024-06-02T00:00:00.000000000",
          "2024-06-09T00:00:00.000000000",
          "2024-06-16T00:00:00.000000000",
          "2024-06-23T00:00:00.000000000",
          "2024-06-30T00:00:00.000000000",
          "2024-07-07T00:00:00.000000000",
          "2024-07-14T00:00:00.000000000",
          "2024-07-21T00:00:00.000000000",
          "2024-07-28T00:00:00.000000000",
          "2024-08-04T00:00:00.000000000",
          "2024-08-11T00:00:00.000000000",
          "2024-08-18T00:00:00.000000000",
          "2024-08-25T00:00:00.000000000",
          "2024-09-01T00:00:00.000000000",
          "2024-09-08T00:00:00.000000000",
          "2024-09-15T00:00:00.000000000",
          "2024-09-22T00:00:00.000000000",
          "2024-09-29T00:00:00.000000000",
          "2024-10-06T00:00:00.000000000",
          "2024-10-13T00:00:00.000000000",
          "2024-10-20T00:00:00.000000000",
          "2024-10-27T00:00:00.000000000",
          "2024-11-03T00:00:00.000000000",
          "2024-11-10T00:00:00.000000000",
          "2024-11-17T00:00:00.000000000",
          "2024-11-24T00:00:00.000000000",
          "2024-12-01T00:00:00.000000000",
          "2024-12-08T00:00:00.000000000",
          "2024-12-15T00:00:00.000000000",
          "2024-12-22T00:00:00.000000000",
          "2024-12-29T00:00:00.000000000",
          "2025-01-05T00:00:00.000000000",
          "2025-01-12T00:00:00.000000000",
          "2025-01-19T00:00:00.000000000",
          "2025-01-26T00:00:00.000000000",
          "2025-02-02T00:00:00.000000000",
          "2025-02-09T00:00:00.000000000",
          "2025-02-16T00:00:00.000000000",
          "2025-02-23T00:00:00.000000000",
          "2025-03-02T00:00:00.000000000",
          "2025-03-09T00:00:00.000000000",
          "2025-03-16T00:00:00.000000000",
          "2025-03-23T00:00:00.000000000",
          "2025-03-30T00:00:00.000000000",
          "2025-04-06T00:00:00.000000000",
          "2025-04-13T00:00:00.000000000",
          "2025-04-20T00:00:00.000000000",
          "2025-04-27T00:00:00.000000000",
          "2025-05-04T00:00:00.000000000",
          "2025-05-11T00:00:00.000000000",
          "2025-05-18T00:00:00.000000000",
          "2025-05-25T00:00:00.000000000"
         ],
         "y": {
          "bdata": "AAAAAAAAAAAehetRuB4cQGZmZmZmZv4/XI/C9ShcEEAfhetRuJ4gQBSuR+F6lCJAmpmZmZmZEUDXo3A9CtcPQDMzMzMzM+s/FK5H4XoU3j/hehSuR+EMQClcj8L1qCNAexSuR+F6GEBwPQrXo3AHQAAAAAAAAAAA9ihcj8L1IEDXo3A9CtcFQOF6FK5H4RVAAAAAAACAJUDNzMzMzMwRQOJ6FK5H4f4/zczMzMzMFEAzMzMzMzMgQClcj8L1qCFAKVyPwvUoH0A9CtejcD0GQNejcD0K1wtApHA9Ctej9D/NzMzMzMwMQMzMzMzMzBpAFa5H4XoUHUAK16NwPQoSQBWuR+F6FB5ArkfhehSu7z/C9Shcj8IWQLgehetRuCJAmpmZmZmZJUBSuB6F61EkQClcj8L1KBdASOF6FK5HEEBdj8L1KFwfQOF6FK5H4S5AuB6F61G4GEBxPQrXo3AeQFK4HoXrUR1AzczMzMzMF0DhehSuR+EAQAAAAAAAAAAAZmZmZmZmIkCamZmZmZkxQHE9CtejcA1AuB6F61G4EUDNzMzMzMwZQB+F61G4HgdA",
          "dtype": "f8"
         }
        },
        {
         "mode": "lines+markers",
         "name": "Marketing",
         "type": "scatter",
         "x": [
          "2024-05-19T00:00:00.000000000",
          "2024-05-26T00:00:00.000000000",
          "2024-06-02T00:00:00.000000000",
          "2024-06-09T00:00:00.000000000",
          "2024-06-16T00:00:00.000000000",
          "2024-06-23T00:00:00.000000000",
          "2024-06-30T00:00:00.000000000",
          "2024-07-07T00:00:00.000000000",
          "2024-07-14T00:00:00.000000000",
          "2024-07-21T00:00:00.000000000",
          "2024-07-28T00:00:00.000000000",
          "2024-08-04T00:00:00.000000000",
          "2024-08-11T00:00:00.000000000",
          "2024-08-18T00:00:00.000000000",
          "2024-08-25T00:00:00.000000000",
          "2024-09-01T00:00:00.000000000",
          "2024-09-08T00:00:00.000000000",
          "2024-09-15T00:00:00.000000000",
          "2024-09-22T00:00:00.000000000",
          "2024-09-29T00:00:00.000000000",
          "2024-10-06T00:00:00.000000000",
          "2024-10-13T00:00:00.000000000",
          "2024-10-20T00:00:00.000000000",
          "2024-10-27T00:00:00.000000000",
          "2024-11-03T00:00:00.000000000",
          "2024-11-10T00:00:00.000000000",
          "2024-11-17T00:00:00.000000000",
          "2024-11-24T00:00:00.000000000",
          "2024-12-01T00:00:00.000000000",
          "2024-12-08T00:00:00.000000000",
          "2024-12-15T00:00:00.000000000",
          "2024-12-22T00:00:00.000000000",
          "2024-12-29T00:00:00.000000000",
          "2025-01-05T00:00:00.000000000",
          "2025-01-12T00:00:00.000000000",
          "2025-01-19T00:00:00.000000000",
          "2025-01-26T00:00:00.000000000",
          "2025-02-02T00:00:00.000000000",
          "2025-02-09T00:00:00.000000000",
          "2025-02-16T00:00:00.000000000",
          "2025-02-23T00:00:00.000000000",
          "2025-03-02T00:00:00.000000000",
          "2025-03-09T00:00:00.000000000",
          "2025-03-16T00:00:00.000000000",
          "2025-03-23T00:00:00.000000000",
          "2025-03-30T00:00:00.000000000",
          "2025-04-06T00:00:00.000000000",
          "2025-04-13T00:00:00.000000000",
          "2025-04-20T00:00:00.000000000",
          "2025-04-27T00:00:00.000000000",
          "2025-05-04T00:00:00.000000000",
          "2025-05-11T00:00:00.000000000",
          "2025-05-18T00:00:00.000000000",
          "2025-05-25T00:00:00.000000000"
         ],
         "y": {
          "bdata": "UrgehetRCEAfhetRuB4PQPYoXI/C9QpA9ihcj8L1FEDNzMzMzEwsQAAAAAAAAAAAAAAAAAAAAAAUrkfhehQbQFK4HoXrURNA4XoUrkfhI0CF61G4HoX/P6RwPQrXoxdAcT0K16NwH0BI4XoUrkcrQNejcD0KVyFA9ihcj8L1LUCF61G4HoUnQDMzMzMzMxhAXI/C9Shc8z8UrkfhehTyPwAAAAAAAPA/exSuR+F6F0CF61G4HoUPQAAAAAAAAAAAUrgehetREkA+CtejcD0pQIXrUbgehQ9AH4XrUbieIEApXI/C9agnQFyPwvUoXCBAuB6F61G4EUBSuB6F61EbQMzMzMzMzAxAFa5H4XoUCkAL16NwPQoLQOJ6FK5H4QRAzczMzMzMK0D2KFyPwvUXQOxRuB6F6xxAexSuR+F6F0DD9Shcj0ImQFyPwvUoXCpAmpmZmZmZEkCkcD0K16MfQHE9CtejcB1A9ihcj8L1+D8zMzMzMzMXQPYoXI/C9RBAmpmZmZmZMEDhehSuR+EYQB6F61G4HhdAZmZmZmZm8j9SuB6F61ERQAAAAAAAAAAA",
          "dtype": "f8"
         }
        },
        {
         "mode": "lines+markers",
         "name": "Sales",
         "type": "scatter",
         "x": [
          "2024-05-19T00:00:00.000000000",
          "2024-05-26T00:00:00.000000000",
          "2024-06-02T00:00:00.000000000",
          "2024-06-09T00:00:00.000000000",
          "2024-06-16T00:00:00.000000000",
          "2024-06-23T00:00:00.000000000",
          "2024-06-30T00:00:00.000000000",
          "2024-07-07T00:00:00.000000000",
          "2024-07-14T00:00:00.000000000",
          "2024-07-21T00:00:00.000000000",
          "2024-07-28T00:00:00.000000000",
          "2024-08-04T00:00:00.000000000",
          "2024-08-11T00:00:00.000000000",
          "2024-08-18T00:00:00.000000000",
          "2024-08-25T00:00:00.000000000",
          "2024-09-01T00:00:00.000000000",
          "2024-09-08T00:00:00.000000000",
          "2024-09-15T00:00:00.000000000",
          "2024-09-22T00:00:00.000000000",
          "2024-09-29T00:00:00.000000000",
          "2024-10-06T00:00:00.000000000",
          "2024-10-13T00:00:00.000000000",
          "2024-10-20T00:00:00.000000000",
          "2024-10-27T00:00:00.000000000",
          "2024-11-03T00:00:00.000000000",
          "2024-11-10T00:00:00.000000000",
          "2024-11-17T00:00:00.000000000",
          "2024-11-24T00:00:00.000000000",
          "2024-12-01T00:00:00.000000000",
          "2024-12-08T00:00:00.000000000",
          "2024-12-15T00:00:00.000000000",
          "2024-12-22T00:00:00.000000000",
          "2024-12-29T00:00:00.000000000",
          "2025-01-05T00:00:00.000000000",
          "2025-01-12T00:00:00.000000000",
          "2025-01-19T00:00:00.000000000",
          "2025-01-26T00:00:00.000000000",
          "2025-02-02T00:00:00.000000000",
          "2025-02-09T00:00:00.000000000",
          "2025-02-16T00:00:00.000000000",
          "2025-02-23T00:00:00.000000000",
          "2025-03-02T00:00:00.000000000",
          "2025-03-09T00:00:00.000000000",
          "2025-03-16T00:00:00.000000000",
          "2025-03-23T00:00:00.000000000",
          "2025-03-30T00:00:00.000000000",
          "2025-04-06T00:00:00.000000000",
          "2025-04-13T00:00:00.000000000",
          "2025-04-20T00:00:00.000000000",
          "2025-04-27T00:00:00.000000000",
          "2025-05-04T00:00:00.000000000",
          "2025-05-11T00:00:00.000000000",
          "2025-05-18T00:00:00.000000000",
          "2025-05-25T00:00:00.000000000"
         ],
         "y": {
          "bdata": "hetRuB6FA0AK16NwPQoUQAAAAAAAAAAAKVyPwvUoFECkcD0K16MRQML1KFyPwhlAhetRuB6FIEAK16NwPQoyQHE9Ctej8CxA4XoUrkfhIEAfhetRuJ4pQNejcD0KlzBAcT0K16PwIkBSuB6F61HgP5DC9ShcjwhAPQrXo3A9JEAAAAAAAAAAAIbrUbgehSRAR+F6FK5HEEB8FK5H4XocQNejcD0K1yFA4XoUrkfhDEDXo3A9CtcDQLgehetRuAhACtejcD0K9z+uR+F6FK4QQB6F61G4HiBAuB6F61G4HECamZmZmRkkQPYoXI/C9RRAFa5H4XoUGEApXI/C9aghQGZmZmZm5ihAFK5H4XoUBEAfhetRuB7VPzMzMzMzM+s/KVyPwvWoIUDMzMzMzMwXQD0K16NwPSBANDMzMzMzC0AAAAAAAAAcQGdmZmZmZhtAAQAAAAAACEDC9Shcj8INQFyPwvUoXBpA7FG4HoXr4T80MzMzMzMeQJqZmZmZmSxAUrgehevRKEBI4XoUrscgQK5H4XoULiRACtejcD0KBUAAAAAAAAAAAB+F61G4Hvk/",
          "dtype": "f8"
         }
        }
       ],
       "layout": {
        "showlegend": true,
        "template": {
         "data": {
          "bar": [
           {
            "error_x": {
             "color": "#2a3f5f"
            },
            "error_y": {
             "color": "#2a3f5f"
            },
            "marker": {
             "line": {
              "color": "white",
              "width": 0.5
             },
             "pattern": {
              "fillmode": "overlay",
              "size": 10,
              "solidity": 0.2
             }
            },
            "type": "bar"
           }
          ],
          "barpolar": [
           {
            "marker": {
             "line": {
              "color": "white",
              "width": 0.5
             },
             "pattern": {
              "fillmode": "overlay",
              "size": 10,
              "solidity": 0.2
             }
            },
            "type": "barpolar"
           }
          ],
          "carpet": [
           {
            "aaxis": {
             "endlinecolor": "#2a3f5f",
             "gridcolor": "#C8D4E3",
             "linecolor": "#C8D4E3",
             "minorgridcolor": "#C8D4E3",
             "startlinecolor": "#2a3f5f"
            },
            "baxis": {
             "endlinecolor": "#2a3f5f",
             "gridcolor": "#C8D4E3",
             "linecolor": "#C8D4E3",
             "minorgridcolor": "#C8D4E3",
             "startlinecolor": "#2a3f5f"
            },
            "type": "carpet"
           }
          ],
          "choropleth": [
           {
            "colorbar": {
             "outlinewidth": 0,
             "ticks": ""
            },
            "type": "choropleth"
           }
          ],
          "contour": [
           {
            "colorbar": {
             "outlinewidth": 0,
             "ticks": ""
            },
            "colorscale": [
             [
              0,
              "#0d0887"
             ],
             [
              0.1111111111111111,
              "#46039f"
             ],
             [
              0.2222222222222222,
              "#7201a8"
             ],
             [
              0.3333333333333333,
              "#9c179e"
             ],
             [
              0.4444444444444444,
              "#bd3786"
             ],
             [
              0.5555555555555556,
              "#d8576b"
             ],
             [
              0.6666666666666666,
              "#ed7953"
             ],
             [
              0.7777777777777778,
              "#fb9f3a"
             ],
             [
              0.8888888888888888,
              "#fdca26"
             ],
             [
              1,
              "#f0f921"
             ]
            ],
            "type": "contour"
           }
          ],
          "contourcarpet": [
           {
            "colorbar": {
             "outlinewidth": 0,
             "ticks": ""
            },
            "type": "contourcarpet"
           }
          ],
          "heatmap": [
           {
            "colorbar": {
             "outlinewidth": 0,
             "ticks": ""
            },
            "colorscale": [
             [
              0,
              "#0d0887"
             ],
             [
              0.1111111111111111,
              "#46039f"
             ],
             [
              0.2222222222222222,
              "#7201a8"
             ],
             [
              0.3333333333333333,
              "#9c179e"
             ],
             [
              0.4444444444444444,
              "#bd3786"
             ],
             [
              0.5555555555555556,
              "#d8576b"
             ],
             [
              0.6666666666666666,
              "#ed7953"
             ],
             [
              0.7777777777777778,
              "#fb9f3a"
             ],
             [
              0.8888888888888888,
              "#fdca26"
             ],
             [
              1,
              "#f0f921"
             ]
            ],
            "type": "heatmap"
           }
          ],
          "histogram": [
           {
            "marker": {
             "pattern": {
              "fillmode": "overlay",
              "size": 10,
              "solidity": 0.2
             }
            },
            "type": "histogram"
           }
          ],
          "histogram2d": [
           {
            "colorbar": {
             "outlinewidth": 0,
             "ticks": ""
            },
            "colorscale": [
             [
              0,
              "#0d0887"
             ],
             [
              0.1111111111111111,
              "#46039f"
             ],
             [
              0.2222222222222222,
              "#7201a8"
             ],
             [
              0.3333333333333333,
              "#9c179e"
             ],
             [
              0.4444444444444444,
              "#bd3786"
             ],
             [
              0.5555555555555556,
              "#d8576b"
             ],
             [
              0.6666666666666666,
              "#ed7953"
             ],
             [
              0.7777777777777778,
              "#fb9f3a"
             ],
             [
              0.8888888888888888,
              "#fdca26"
             ],
             [
              1,
              "#f0f921"
             ]
            ],
            "type": "histogram2d"
           }
          ],
          "histogram2dcontour": [
           {
            "colorbar": {
             "outlinewidth": 0,
             "ticks": ""
            },
            "colorscale": [
             [
              0,
              "#0d0887"
             ],
             [
              0.1111111111111111,
              "#46039f"
             ],
             [
              0.2222222222222222,
              "#7201a8"
             ],
             [
              0.3333333333333333,
              "#9c179e"
             ],
             [
              0.4444444444444444,
              "#bd3786"
             ],
             [
              0.5555555555555556,
              "#d8576b"
             ],
             [
              0.6666666666666666,
              "#ed7953"
             ],
             [
              0.7777777777777778,
              "#fb9f3a"
             ],
             [
              0.8888888888888888,
              "#fdca26"
             ],
             [
              1,
              "#f0f921"
             ]
            ],
            "type": "histogram2dcontour"
           }
          ],
          "mesh3d": [
           {
            "colorbar": {
             "outlinewidth": 0,
             "ticks": ""
            },
            "type": "mesh3d"
           }
          ],
          "parcoords": [
           {
            "line": {
             "colorbar": {
              "outlinewidth": 0,
              "ticks": ""
             }
            },
            "type": "parcoords"
           }
          ],
          "pie": [
           {
            "automargin": true,
            "type": "pie"
           }
          ],
          "scatter": [
           {
            "fillpattern": {
             "fillmode": "overlay",
             "size": 10,
             "solidity": 0.2
            },
            "type": "scatter"
           }
          ],
          "scatter3d": [
           {
            "line": {
             "colorbar": {
              "outlinewidth": 0,
              "ticks": ""
             }
            },
            "marker": {
             "colorbar": {
              "outlinewidth": 0,
              "ticks": ""
             }
            },
            "type": "scatter3d"
           }
          ],
          "scattercarpet": [
           {
            "marker": {
             "colorbar": {
              "outlinewidth": 0,
              "ticks": ""
             }
            },
            "type": "scattercarpet"
           }
          ],
          "scattergeo": [
           {
            "marker": {
             "colorbar": {
              "outlinewidth": 0,
              "ticks": ""
             }
            },
            "type": "scattergeo"
           }
          ],
          "scattergl": [
           {
            "marker": {
             "colorbar": {
              "outlinewidth": 0,
              "ticks": ""
             }
            },
            "type": "scattergl"
           }
          ],
          "scattermap": [
           {
            "marker": {
             "colorbar": {
              "outlinewidth": 0,
              "ticks": ""
             }
            },
            "type": "scattermap"
           }
          ],
          "scattermapbox": [
           {
            "marker": {
             "colorbar": {
              "outlinewidth": 0,
              "ticks": ""
             }
            },
            "type": "scattermapbox"
           }
          ],
          "scatterpolar": [
           {
            "marker": {
             "colorbar": {
              "outlinewidth": 0,
              "ticks": ""
             }
            },
            "type": "scatterpolar"
           }
          ],
          "scatterpolargl": [
           {
            "marker": {
             "colorbar": {
              "outlinewidth": 0,
              "ticks": ""
             }
            },
            "type": "scatterpolargl"
           }
          ],
          "scatterternary": [
           {
            "marker": {
             "colorbar": {
              "outlinewidth": 0,
              "ticks": ""
             }
            },
            "type": "scatterternary"
           }
          ],
          "surface": [
           {
            "colorbar": {
             "outlinewidth": 0,
             "ticks": ""
            },
            "colorscale": [
             [
              0,
              "#0d0887"
             ],
             [
              0.1111111111111111,
              "#46039f"
             ],
             [
              0.2222222222222222,
              "#7201a8"
             ],
             [
              0.3333333333333333,
              "#9c179e"
             ],
             [
              0.4444444444444444,
              "#bd3786"
             ],
             [
              0.5555555555555556,
              "#d8576b"
             ],
             [
              0.6666666666666666,
              "#ed7953"
             ],
             [
              0.7777777777777778,
              "#fb9f3a"
             ],
             [
              0.8888888888888888,
              "#fdca26"
             ],
             [
              1,
              "#f0f921"
             ]
            ],
            "type": "surface"
           }
          ],
          "table": [
           {
            "cells": {
             "fill": {
              "color": "#EBF0F8"
             },
             "line": {
              "color": "white"
             }
            },
            "header": {
             "fill": {
              "color": "#C8D4E3"
             },
             "line": {
              "color": "white"
             }
            },
            "type": "table"
           }
          ]
         },
         "layout": {
          "annotationdefaults": {
           "arrowcolor": "#2a3f5f",
           "arrowhead": 0,
           "arrowwidth": 1
          },
          "autotypenumbers": "strict",
          "coloraxis": {
           "colorbar": {
            "outlinewidth": 0,
            "ticks": ""
           }
          },
          "colorscale": {
           "diverging": [
            [
             0,
             "#8e0152"
            ],
            [
             0.1,
             "#c51b7d"
            ],
            [
             0.2,
             "#de77ae"
            ],
            [
             0.3,
             "#f1b6da"
            ],
            [
             0.4,
             "#fde0ef"
            ],
            [
             0.5,
             "#f7f7f7"
            ],
            [
             0.6,
             "#e6f5d0"
            ],
            [
             0.7,
             "#b8e186"
            ],
            [
             0.8,
             "#7fbc41"
            ],
            [
             0.9,
             "#4d9221"
            ],
            [
             1,
             "#276419"
            ]
           ],
           "sequential": [
            [
             0,
             "#0d0887"
            ],
            [
             0.1111111111111111,
             "#46039f"
            ],
            [
             0.2222222222222222,
             "#7201a8"
            ],
            [
             0.3333333333333333,
             "#9c179e"
            ],
            [
             0.4444444444444444,
             "#bd3786"
            ],
            [
             0.5555555555555556,
             "#d8576b"
            ],
            [
             0.6666666666666666,
             "#ed7953"
            ],
            [
             0.7777777777777778,
             "#fb9f3a"
            ],
            [
             0.8888888888888888,
             "#fdca26"
            ],
            [
             1,
             "#f0f921"
            ]
           ],
           "sequentialminus": [
            [
             0,
             "#0d0887"
            ],
            [
             0.1111111111111111,
             "#46039f"
            ],
            [
             0.2222222222222222,
             "#7201a8"
            ],
            [
             0.3333333333333333,
             "#9c179e"
            ],
            [
             0.4444444444444444,
             "#bd3786"
            ],
            [
             0.5555555555555556,
             "#d8576b"
            ],
            [
             0.6666666666666666,
             "#ed7953"
            ],
            [
             0.7777777777777778,
             "#fb9f3a"
            ],
            [
             0.8888888888888888,
             "#fdca26"
            ],
            [
             1,
             "#f0f921"
            ]
           ]
          },
          "colorway": [
           "#636efa",
           "#EF553B",
           "#00cc96",
           "#ab63fa",
           "#FFA15A",
           "#19d3f3",
           "#FF6692",
           "#B6E880",
           "#FF97FF",
           "#FECB52"
          ],
          "font": {
           "color": "#2a3f5f"
          },
          "geo": {
           "bgcolor": "white",
           "lakecolor": "white",
           "landcolor": "white",
           "showlakes": true,
           "showland": true,
           "subunitcolor": "#C8D4E3"
          },
          "hoverlabel": {
           "align": "left"
          },
          "hovermode": "closest",
          "mapbox": {
           "style": "light"
          },
          "paper_bgcolor": "white",
          "plot_bgcolor": "white",
          "polar": {
           "angularaxis": {
            "gridcolor": "#EBF0F8",
            "linecolor": "#EBF0F8",
            "ticks": ""
           },
           "bgcolor": "white",
           "radialaxis": {
            "gridcolor": "#EBF0F8",
            "linecolor": "#EBF0F8",
            "ticks": ""
           }
          },
          "scene": {
           "xaxis": {
            "backgroundcolor": "white",
            "gridcolor": "#DFE8F3",
            "gridwidth": 2,
            "linecolor": "#EBF0F8",
            "showbackground": true,
            "ticks": "",
            "zerolinecolor": "#EBF0F8"
           },
           "yaxis": {
            "backgroundcolor": "white",
            "gridcolor": "#DFE8F3",
            "gridwidth": 2,
            "linecolor": "#EBF0F8",
            "showbackground": true,
            "ticks": "",
            "zerolinecolor": "#EBF0F8"
           },
           "zaxis": {
            "backgroundcolor": "white",
            "gridcolor": "#DFE8F3",
            "gridwidth": 2,
            "linecolor": "#EBF0F8",
            "showbackground": true,
            "ticks": "",
            "zerolinecolor": "#EBF0F8"
           }
          },
          "shapedefaults": {
           "line": {
            "color": "#2a3f5f"
           }
          },
          "ternary": {
           "aaxis": {
            "gridcolor": "#DFE8F3",
            "linecolor": "#A2B1C6",
            "ticks": ""
           },
           "baxis": {
            "gridcolor": "#DFE8F3",
            "linecolor": "#A2B1C6",
            "ticks": ""
           },
           "bgcolor": "white",
           "caxis": {
            "gridcolor": "#DFE8F3",
            "linecolor": "#A2B1C6",
            "ticks": ""
           }
          },
          "title": {
           "x": 0.05
          },
          "xaxis": {
           "automargin": true,
           "gridcolor": "#EBF0F8",
           "linecolor": "#EBF0F8",
           "ticks": "",
           "title": {
            "standoff": 15
           },
           "zerolinecolor": "#EBF0F8",
           "zerolinewidth": 2
          },
          "yaxis": {
           "automargin": true,
           "gridcolor": "#EBF0F8",
           "linecolor": "#EBF0F8",
           "ticks": "",
           "title": {
            "standoff": 15
           },
           "zerolinecolor": "#EBF0F8",
           "zerolinewidth": 2
          }
         }
        },
        "title": {
         "text": "Distribución de Horas Extra por Departamento"
        },
        "xaxis": {
         "title": {
          "text": "Fecha"
         }
        },
        "yaxis": {
         "title": {
          "text": "Horas Extra"
         }
        }
       }
      }
     },
     "metadata": {},
     "output_type": "display_data"
    }
   ],
   "source": [
    "def Prueba_Dickey_Fuller(series, department, column_name):\n",
    "    \"\"\"\n",
    "    Realiza la prueba de Dickey-Fuller para analizar estacionalidad\n",
    "    \"\"\"\n",
    "    print(f'\\nAnálisis de Estacionalidad para {department}')\n",
    "    print(f'Resultados de la prueba de Dickey-Fuller para columna: {column_name}')\n",
    "    \n",
    "    # Realizar la prueba de Dickey-Fuller\n",
    "    dftest = adfuller(series, autolag='AIC')\n",
    "    \n",
    "    # Crear una serie de pandas con los resultados principales\n",
    "    dfoutput = pd.Series(dftest[0:4], index=['Test Statistic', 'p-value', 'No Lags Used', \n",
    "                                            'Número de observaciones utilizadas'])\n",
    "    \n",
    "    # Agregar los valores críticos al resultado\n",
    "    for key, value in dftest[4].items():\n",
    "        dfoutput[f'Critical Value ({key})'] = value\n",
    "    \n",
    "    # Mostrar los resultados\n",
    "    print(dfoutput)\n",
    "    \n",
    "    # Interpretar los resultados\n",
    "    if dftest[1] <= 0.05:\n",
    "        conclusion = \"Los datos son estacionarios, no requieren diferenciación\"\n",
    "        decision = \"Rechazar la hipótesis nula\"\n",
    "    else:\n",
    "        conclusion = \"Los datos no son estacionarios, requieren diferenciación\"\n",
    "        decision = \"No se puede rechazar la hipótesis nula\"\n",
    "    \n",
    "    print(\"\\nConclusión:====>\")\n",
    "    print(decision)\n",
    "    print(conclusion)\n",
    "    \n",
    "    return {\n",
    "        'department': department,\n",
    "        'test_statistic': dftest[0],\n",
    "        'p_value': dftest[1],\n",
    "        'is_seasonal': dftest[1] <= 0.05\n",
    "    }\n",
    "\n",
    "# Realizar análisis de estacionaridad para cada departamento\n",
    "seasonality_results = []\n",
    "for department in historical_data['department'].unique():\n",
    "    dept_data = historical_data[historical_data['department'] == department]\n",
    "    \n",
    "    if len(dept_data) < 10:\n",
    "        print(f\"\\nAdvertencia: Datos insuficientes para {department}\")\n",
    "        continue\n",
    "        \n",
    "    result = Prueba_Dickey_Fuller(\n",
    "        dept_data[\"total_overtime\"],\n",
    "        department,\n",
    "        \"total_overtime\"\n",
    "    )\n",
    "    seasonality_results.append(result)\n",
    "\n",
    "# Crear DataFrame con resultados\n",
    "seasonality_df = pd.DataFrame(seasonality_results)\n",
    "print(\"\\nResumen de Estacionalidad por Departamento:\")\n",
    "display(seasonality_df)\n",
    "\n",
    "# Visualizar distribución de horas extra por departamento\n",
    "fig = go.Figure()\n",
    "for department in historical_data['department'].unique():\n",
    "    dept_data = historical_data[historical_data['department'] == department]\n",
    "    fig.add_trace(\n",
    "        go.Scatter(\n",
    "            x=dept_data['work_date'],\n",
    "            y=dept_data['total_overtime'],\n",
    "            name=department,\n",
    "            mode='lines+markers'\n",
    "        )\n",
    "    )\n",
    "\n",
    "fig.update_layout(\n",
    "    title='Distribución de Horas Extra por Departamento',\n",
    "    xaxis_title='Fecha',\n",
    "    yaxis_title='Horas Extra',\n",
    "    template='plotly_white',\n",
    "    showlegend=True\n",
    ")\n",
    "fig.show()"
   ]
  },
  {
   "cell_type": "markdown",
   "id": "9b6e79e4",
   "metadata": {},
   "source": [
    "### 3.2. Evaluar Estacionalidad"
   ]
  },
  {
   "cell_type": "code",
   "execution_count": null,
   "id": "1d03e01c",
   "metadata": {},
   "outputs": [],
   "source": []
  },
  {
   "cell_type": "markdown",
   "id": "1b8bd3ff",
   "metadata": {},
   "source": [
    "## 4. Entrenar Modelo SARIMA\n",
    "\n",
    "Crear y entrenar modelo SARIMA para cada departamento."
   ]
  },
  {
   "cell_type": "code",
   "execution_count": 22,
   "id": "7b095eea",
   "metadata": {},
   "outputs": [
    {
     "name": "stdout",
     "output_type": "stream",
     "text": [
      "Iniciando entrenamiento de modelos SARIMAX...\n",
      "\n",
      "Procesando departamento: Finance\n",
      "\n",
      "Resultados para Finance:\n",
      "Orden SARIMA: (4, 0, 0)\n",
      "Orden Seasonal: (0, 0, 0, 0)\n",
      "RMSE: 3.46\n",
      "MAE: 2.71\n",
      "SMAPE: 50.14%\n",
      "MASE: 0.96\n",
      "Calidad del modelo: Bueno\n",
      "\n",
      "Procesando departamento: HR\n",
      "\n",
      "Resultados para HR:\n",
      "Orden SARIMA: (4, 0, 1)\n",
      "Orden Seasonal: (0, 0, 0, 0)\n",
      "RMSE: 3.99\n",
      "MAE: 3.22\n",
      "SMAPE: 55.81%\n",
      "MASE: 0.63\n",
      "Calidad del modelo: Bueno\n",
      "\n",
      "Procesando departamento: IT\n",
      "\n",
      "Resultados para IT:\n",
      "Orden SARIMA: (0, 0, 1)\n",
      "Orden Seasonal: (0, 0, 0, 0)\n",
      "RMSE: 6.24\n",
      "MAE: 4.56\n",
      "SMAPE: 60.28%\n",
      "MASE: 1.29\n",
      "Calidad del modelo: Pobre\n",
      "\n",
      "Procesando departamento: Inventory\n",
      "\n",
      "Resultados para Inventory:\n",
      "Orden SARIMA: (0, 0, 1)\n",
      "Orden Seasonal: (0, 0, 0, 0)\n",
      "RMSE: 4.34\n",
      "MAE: 3.23\n",
      "SMAPE: 59.39%\n",
      "MASE: 0.91\n",
      "Calidad del modelo: Bueno\n",
      "\n",
      "Procesando departamento: Marketing\n",
      "\n",
      "Resultados para Marketing:\n",
      "Orden SARIMA: (0, 0, 0)\n",
      "Orden Seasonal: (0, 0, 0, 0)\n",
      "RMSE: 4.31\n",
      "MAE: 3.06\n",
      "SMAPE: 61.40%\n",
      "MASE: 0.73\n",
      "Calidad del modelo: Aceptable\n",
      "\n",
      "Procesando departamento: Sales\n",
      "\n",
      "Resultados para Sales:\n",
      "Orden SARIMA: (1, 0, 0)\n",
      "Orden Seasonal: (0, 0, 0, 0)\n",
      "RMSE: 4.04\n",
      "MAE: 3.40\n",
      "SMAPE: 73.03%\n",
      "MASE: 0.84\n",
      "Calidad del modelo: Aceptable\n"
     ]
    }
   ],
   "source": [
    "\n",
    "\n",
    "def calculate_smape(y_true, y_pred):\n",
    "    \"\"\"Calcula SMAPE para manejar valores cero.\"\"\"\n",
    "    denominator = (np.abs(y_true) + np.abs(y_pred)) / 2\n",
    "    non_zero_mask = denominator != 0\n",
    "    if np.any(non_zero_mask):\n",
    "        smape = np.mean(np.abs(y_true[non_zero_mask] - y_pred[non_zero_mask]) / \n",
    "                        denominator[non_zero_mask]) * 100\n",
    "        return min(smape, 100)\n",
    "    return np.mean(np.abs(y_true - y_pred))\n",
    "\n",
    "def calculate_mase(y_true, y_pred, train_data, period=1):\n",
    "    \"\"\"Calcula MASE comparando con un modelo ingenuo (shifted).\"\"\"\n",
    "    naive_forecast = train_data.shift(period).dropna()\n",
    "    naive_error = np.abs(naive_forecast - train_data[period:])\n",
    "    mean_naive_error = np.mean(naive_error) if len(naive_error) > 0 else np.inf\n",
    "    mae = np.mean(np.abs(y_true - y_pred))\n",
    "    return mae / mean_naive_error if mean_naive_error != 0 else np.inf\n",
    "\n",
    "def evaluate_model_quality(metrics, residuals, test_size):\n",
    "    \"\"\"\n",
    "    Evalúa la calidad del modelo según métricas y residuos.\n",
    "    Retorna una clasificación: 'Bueno', 'Aceptable' o 'Pobre'.\n",
    "    \"\"\"\n",
    "    rmse = metrics['rmse']\n",
    "    mae = metrics['mae']\n",
    "    smape = metrics['smape']\n",
    "    mase = metrics['mase']\n",
    "    \n",
    "    lb_test = acorr_ljungbox(residuals, lags=[min(4, len(residuals)-1)], return_df=True)\n",
    "    lb_pvalue = lb_test['lb_pvalue'].iloc[0] if len(lb_test) > 0 else 0\n",
    "    residual_mean = np.mean(residuals)\n",
    "    \n",
    "    is_good = (\n",
    "        rmse < 5.0 and\n",
    "        mae < 4.0 and\n",
    "        smape < 60 and\n",
    "        mase < 1.0 and\n",
    "        lb_pvalue > 0.05 and\n",
    "        abs(residual_mean) < 0.5\n",
    "    )\n",
    "    \n",
    "    is_acceptable = (\n",
    "        rmse < 7.0 and\n",
    "        mae < 6.0 and\n",
    "        smape < 85 and\n",
    "        mase < 1.5 and\n",
    "        lb_pvalue > 0.01 and\n",
    "        abs(residual_mean) < 1.0\n",
    "    )\n",
    "    \n",
    "    if is_good:\n",
    "        return \"Bueno\"\n",
    "    elif is_acceptable:\n",
    "        return \"Aceptable\"\n",
    "    else:\n",
    "        return \"Pobre\"\n",
    "\n",
    "def train_sarimax_model(dept_data, exog_cols=None):\n",
    "    \"\"\"\n",
    "    Entrena modelo SARIMAX con Auto-ARIMA para datos de overtime.\n",
    "    exog_cols: lista de columnas exógenas, si existen.\n",
    "    \"\"\"\n",
    "    # Preparar datos \n",
    "    df = dept_data[['work_date', 'total_overtime'] + (exog_cols if exog_cols else [])].copy()\n",
    "    df.set_index('work_date', inplace=True)\n",
    "    \n",
    "    # Verificar datos faltantes\n",
    "    if df[exog_cols].isna().any().any() if exog_cols else False:\n",
    "        logging.error(f\"Datos faltantes en variables exógenas para {dept_data['department'].iloc[0]}\")\n",
    "        return None, {'error': 'Datos faltantes en variables exógenas'}\n",
    "    \n",
    "    # Split 80-20 manteniendo orden temporal\n",
    "    train_size = int(len(df) * 0.8)\n",
    "    train = df[:train_size]\n",
    "    test = df[train_size:]\n",
    "    \n",
    "    if len(test) < 2:\n",
    "        logging.error(f\"Datos de prueba insuficientes para {dept_data['department'].iloc[0]}\")\n",
    "        return None, {'error': 'Datos de prueba insuficientes'}\n",
    "    \n",
    "    # Verificar varianza en los datos\n",
    "    if train['total_overtime'].std() == 0:\n",
    "        logging.error(f\"Datos de entrenamiento sin varianza para {dept_data['department'].iloc[0]}\")\n",
    "        return None, {'error': 'Datos de entrenamiento sin varianza'}\n",
    "    \n",
    "    # Preparar variables exógenas\n",
    "    exog_train = train[exog_cols] if exog_cols else None\n",
    "    exog_test = test[exog_cols] if exog_cols else None\n",
    "    \n",
    "    # Encontrar mejores parámetros con Auto-ARIMA\n",
    "    try:\n",
    "        modelo_auto = auto_arima(\n",
    "            train['total_overtime'],\n",
    "            exogenous=exog_train,\n",
    "            start_p=0, d=0, start_q=0,\n",
    "            max_p=4, max_d=2, max_q=4, \n",
    "            start_P=0, D=1, start_Q=0,\n",
    "            max_P=2, max_D=1, max_Q=2,\n",
    "            m=13, seasonal=False,\n",
    "            error_action='warn',\n",
    "            trace=False,\n",
    "            suppress_warnings=True,\n",
    "            stepwise=True,\n",
    "            random_state=20,\n",
    "            n_fits=50\n",
    "        )\n",
    "        \n",
    "        # Obtener orden del modelo\n",
    "        order = modelo_auto.order\n",
    "        seasonal_order = modelo_auto.seasonal_order\n",
    "        \n",
    "        # Entrenar modelo final SARIMAX\n",
    "        final_model = SARIMAX(\n",
    "            df['total_overtime'],\n",
    "            exog=df[exog_cols] if exog_cols else None,\n",
    "            order=order,\n",
    "            seasonal_order=seasonal_order\n",
    "        )\n",
    "        model_fit = final_model.fit(disp=False)\n",
    "        \n",
    "        # Evaluar modelo en datos de prueba\n",
    "        predictions = model_fit.predict(\n",
    "            start=test.index[0], \n",
    "            end=test.index[-1],\n",
    "            exog=exog_test\n",
    "        )\n",
    "        y_true = test['total_overtime'].values\n",
    "        y_pred = predictions.values\n",
    "        \n",
    "        # Verificar si las predicciones son válidas\n",
    "        if np.any(np.isnan(y_pred)):\n",
    "            logging.error(f\"Predicciones inválidas (NaN) para {dept_data['department'].iloc[0]}\")\n",
    "            return None, {'error': 'Predicciones inválidas (NaN)'}\n",
    "        \n",
    "        # Calcular métricas\n",
    "        metrics = {\n",
    "            'rmse': np.sqrt(mean_squared_error(y_true, y_pred)),\n",
    "            'mae': mean_absolute_error(y_true, y_pred),\n",
    "            'smape': calculate_smape(y_true, y_pred),\n",
    "            'mase': calculate_mase(y_true, y_pred, train['total_overtime'], period=1),\n",
    "            'order': order,\n",
    "            'seasonal_order': seasonal_order,\n",
    "            'train_size': len(train),\n",
    "            'test_size': len(test)\n",
    "        }\n",
    "        \n",
    "        # Calcular residuos en datos de prueba\n",
    "        residuals = y_true - y_pred\n",
    "        \n",
    "        # Evaluar calidad del modelo\n",
    "        metrics['quality'] = evaluate_model_quality(metrics, residuals, len(test))\n",
    "        \n",
    "        return model_fit, metrics\n",
    "    \n",
    "    except Exception as e:\n",
    "        logging.error(f\"Error entrenando modelo SARIMAX para {dept_data['department'].iloc[0]}: {str(e)}\")\n",
    "        return None, {'error': f\"Excepción: {str(e)}\"}\n",
    "\n",
    "def add_exogenous_variables(df):\n",
    "    \"\"\"\n",
    "    Agrega variables exógenas de ejemplo (is_weekend, month).\n",
    "    Modificar según variables reales disponibles.\n",
    "    \"\"\"\n",
    "    df = df.copy()\n",
    "    df['is_weekend'] = df['work_date'].dt.dayofweek.isin([5, 6]).astype(int)\n",
    "    df['month'] = df['work_date'].dt.month\n",
    "    return df\n",
    "\n",
    "# Reiniciar variables de almacenamiento\n",
    "department_models = {}\n",
    "metrics = {}\n",
    "department_forecasts = {}\n",
    "\n",
    "# Agregar variables exógenas al DataFrame\n",
    "historical_data = add_exogenous_variables(historical_data)\n",
    "\n",
    "# Definir columnas exógenas\n",
    "exog_cols = ['is_weekend', 'month']  # Ajustar según variables reales\n",
    "\n",
    "print(\"Iniciando entrenamiento de modelos SARIMAX...\")\n",
    "\n",
    "# Iterar sobre cada departamento\n",
    "for department in historical_data['department'].unique():\n",
    "    print(f\"\\nProcesando departamento: {department}\")\n",
    "    dept_data = historical_data[historical_data['department'] == department]\n",
    "    \n",
    "    if len(dept_data) < 10:\n",
    "        print(f\"Advertencia: Datos insuficientes para {department}\")\n",
    "        continue\n",
    "    \n",
    "    # Entrenar modelo SARIMAX\n",
    "    model, model_metrics = train_sarimax_model(dept_data, exog_cols=exog_cols)\n",
    "    \n",
    "    if model is None:\n",
    "        print(f\"Error: No se pudo entrenar el modelo para {department}: {model_metrics.get('error', 'Error desconocido')}\")\n",
    "        continue\n",
    "        \n",
    "    # Almacenar resultados\n",
    "    department_models[department] = model\n",
    "    metrics[department] = model_metrics\n",
    "    \n",
    "    # Mostrar resultados\n",
    "    print(f\"\\nResultados para {department}:\")\n",
    "    print(f\"Orden SARIMA: {model_metrics['order']}\")\n",
    "    print(f\"Orden Seasonal: {model_metrics['seasonal_order']}\")\n",
    "    print(f\"RMSE: {model_metrics['rmse']:.2f}\")\n",
    "    print(f\"MAE: {model_metrics['mae']:.2f}\")\n",
    "    print(f\"SMAPE: {model_metrics['smape']:.2f}%\")\n",
    "    print(f\"MASE: {model_metrics['mase']:.2f}\")\n",
    "    print(f\"Calidad del modelo: {model_metrics['quality']}\")"
   ]
  },
  {
   "cell_type": "markdown",
   "id": "c6d8a732",
   "metadata": {},
   "source": [
    "## 5. Generar Predicciones\n",
    "\n",
    "Predicción para las próximas 4 semanas de Overtime"
   ]
  },
  {
   "cell_type": "code",
   "execution_count": 23,
   "id": "0406a28e",
   "metadata": {},
   "outputs": [
    {
     "name": "stdout",
     "output_type": "stream",
     "text": [
      "\n",
      "Generando predicciones para las próximas 4 semanas...\n",
      "\n",
      "Procesando departamento: Finance\n",
      "\n",
      "Predicciones para Finance:\n",
      "\n",
      "Fecha\t\tPredicción\tIntervalo de Confianza\n",
      "------------------------------------------------------------\n",
      "2025-06-01\t5.05\t\t(0.00, 10.90)\n",
      "2025-06-08\t6.75\t\t(0.81, 12.69)\n",
      "2025-06-15\t3.49\t\t(0.00, 9.44)\n",
      "2025-06-22\t5.55\t\t(0.00, 11.72)\n",
      "\n",
      "Procesando departamento: HR\n",
      "\n",
      "Predicciones para HR:\n",
      "\n",
      "Fecha\t\tPredicción\tIntervalo de Confianza\n",
      "------------------------------------------------------------\n",
      "2025-06-01\t8.76\t\t(0.89, 16.63)\n",
      "2025-06-08\t8.27\t\t(0.39, 16.16)\n",
      "2025-06-15\t7.12\t\t(0.00, 15.10)\n",
      "2025-06-22\t4.19\t\t(0.00, 12.17)\n",
      "\n",
      "Procesando departamento: IT\n",
      "\n",
      "Predicciones para IT:\n",
      "\n",
      "Fecha\t\tPredicción\tIntervalo de Confianza\n",
      "------------------------------------------------------------\n",
      "2025-06-01\t5.95\t\t(0.00, 13.90)\n",
      "2025-06-08\t7.02\t\t(0.00, 15.10)\n",
      "2025-06-15\t7.02\t\t(0.00, 15.10)\n",
      "2025-06-22\t7.02\t\t(0.00, 15.10)\n",
      "\n",
      "Procesando departamento: Inventory\n",
      "\n",
      "Predicciones para Inventory:\n",
      "\n",
      "Fecha\t\tPredicción\tIntervalo de Confianza\n",
      "------------------------------------------------------------\n",
      "2025-06-01\t4.85\t\t(0.00, 11.73)\n",
      "2025-06-08\t5.71\t\t(0.00, 12.85)\n",
      "2025-06-15\t5.71\t\t(0.00, 12.85)\n",
      "2025-06-22\t5.71\t\t(0.00, 12.85)\n",
      "\n",
      "Procesando departamento: Marketing\n",
      "\n",
      "Predicciones para Marketing:\n",
      "\n",
      "Fecha\t\tPredicción\tIntervalo de Confianza\n",
      "------------------------------------------------------------\n",
      "2025-06-01\t6.14\t\t(0.00, 14.41)\n",
      "2025-06-08\t6.14\t\t(0.00, 14.41)\n",
      "2025-06-15\t6.14\t\t(0.00, 14.41)\n",
      "2025-06-22\t6.14\t\t(0.00, 14.41)\n",
      "\n",
      "Procesando departamento: Sales\n",
      "\n",
      "Predicciones para Sales:\n",
      "\n",
      "Fecha\t\tPredicción\tIntervalo de Confianza\n",
      "------------------------------------------------------------\n",
      "2025-06-01\t4.35\t\t(0.00, 12.09)\n",
      "2025-06-08\t5.34\t\t(0.00, 13.73)\n",
      "2025-06-15\t5.76\t\t(0.00, 14.25)\n",
      "2025-06-22\t5.93\t\t(0.00, 14.44)\n",
      "\n",
      "Predicciones generadas para departamentos: ['Finance', 'HR', 'IT', 'Inventory', 'Marketing', 'Sales']\n"
     ]
    }
   ],
   "source": [
    "\n",
    "\n",
    "def generate_predictions_sarimax(model, last_date, dept_data, exog_cols=None, periods=4, freq='W'):\n",
    "  \n",
    "    # Validar entradas\n",
    "    if model is None:\n",
    "        return pd.DataFrame(), f\"Modelo no válido para el departamento\"\n",
    "    \n",
    "    if not isinstance(last_date, pd.Timestamp):\n",
    "        try:\n",
    "            last_date = pd.to_datetime(last_date)\n",
    "        except:\n",
    "            return pd.DataFrame(), f\"Fecha inválida: {last_date}\"\n",
    "    \n",
    "    if periods < 1:\n",
    "        return pd.DataFrame(), f\"Número de períodos inválido: {periods}\"\n",
    "    \n",
    "    # Generar fechas futuras\n",
    "    future_dates = pd.date_range(start=last_date, periods=periods+1, freq=freq)[1:]\n",
    "    \n",
    "    # Preparar variables exógenas futuras\n",
    "    if exog_cols:\n",
    "        # Crear DataFrame para variables exógenas futuras\n",
    "        future_exog = pd.DataFrame(index=future_dates)\n",
    "        future_exog['is_weekend'] = future_exog.index.dayofweek.isin([5, 6]).astype(int)\n",
    "        future_exog['month'] = future_exog.index.month\n",
    "        \n",
    "        # Verificar que todas las columnas exógenas estén presentes\n",
    "        missing_cols = [col for col in exog_cols if col not in future_exog.columns]\n",
    "        if missing_cols:\n",
    "            return pd.DataFrame(), f\"Columnas exógenas faltantes: {missing_cols}\"\n",
    "    else:\n",
    "        future_exog = None\n",
    "    \n",
    "    # Obtener predicciones y sus intervalos de confianza\n",
    "    try:\n",
    "        forecast = model.get_forecast(steps=periods, exog=future_exog)\n",
    "        mean_forecast = forecast.predicted_mean\n",
    "        confidence_int = forecast.conf_int()\n",
    "        \n",
    "        # Truncar predicciones negativas a cero\n",
    "        mean_forecast = np.maximum(mean_forecast, 0)\n",
    "        confidence_int.iloc[:, 0] = np.maximum(confidence_int.iloc[:, 0], 0)  # yhat_lower\n",
    "        confidence_int.iloc[:, 1] = np.maximum(confidence_int.iloc[:, 1], 0)  # yhat_upper\n",
    "        \n",
    "        # Crear DataFrame con las predicciones\n",
    "        predictions_df = pd.DataFrame({\n",
    "            'ds': future_dates,\n",
    "            'yhat': mean_forecast,\n",
    "            'yhat_lower': confidence_int.iloc[:, 0],\n",
    "            'yhat_upper': confidence_int.iloc[:, 1]\n",
    "        })\n",
    "        \n",
    "        return predictions_df, None\n",
    "    \n",
    "    except Exception as e:\n",
    "        return pd.DataFrame(), f\"Error generando predicciones: {str(e)}\"\n",
    "\n",
    "# Generar predicciones para cada departamento\n",
    "department_forecasts = {}\n",
    "print(\"\\nGenerando predicciones para las próximas 4 semanas...\")\n",
    "\n",
    "for department, model in department_models.items():\n",
    "    print(f\"\\nProcesando departamento: {department}\")\n",
    "    \n",
    "    # Obtener datos históricos del departamento\n",
    "    dept_data = historical_data[historical_data['department'] == department]\n",
    "    if dept_data.empty:\n",
    "        print(f\"Error: No hay datos históricos para {department}\")\n",
    "        continue\n",
    "    \n",
    "    # Obtener última fecha de datos históricos\n",
    "    last_date = dept_data['work_date'].max()\n",
    "    \n",
    "    # Generar predicciones\n",
    "    forecast, error = generate_predictions_sarimax(\n",
    "        model, \n",
    "        last_date, \n",
    "        dept_data, \n",
    "        exog_cols=['is_weekend', 'month'],  # Ajustar según variables exógenas\n",
    "        periods=4,\n",
    "        freq='W'\n",
    "    )\n",
    "    \n",
    "    if error:\n",
    "        print(f\"Error generando predicciones para {department}: {error}\")\n",
    "        continue\n",
    "    \n",
    "    # Almacenar predicciones\n",
    "    department_forecasts[department] = forecast\n",
    "    \n",
    "    # Mostrar predicciones\n",
    "    print(f\"\\nPredicciones para {department}:\")\n",
    "    print(\"\\nFecha\\t\\tPredicción\\tIntervalo de Confianza\")\n",
    "    print(\"-\" * 60)\n",
    "    for _, row in forecast.iterrows():\n",
    "        print(f\"{row['ds'].strftime('%Y-%m-%d')}\\t{row['yhat']:.2f}\\t\\t({row['yhat_lower']:.2f}, {row['yhat_upper']:.2f})\")\n",
    "\n",
    "print(\"\\nPredicciones generadas para departamentos:\", list(department_forecasts.keys()))"
   ]
  },
  {
   "cell_type": "markdown",
   "id": "370e02cf",
   "metadata": {},
   "source": [
    "## 6. Visualización de Resultados\n",
    "\n",
    "Datos históricos de 24 semanas más pronósticos e intervalos de confianza para las próximas 4 semanas."
   ]
  },
  {
   "cell_type": "code",
   "execution_count": 26,
   "id": "fbb40784",
   "metadata": {},
   "outputs": [
    {
     "name": "stdout",
     "output_type": "stream",
     "text": [
      "\n",
      "Generando visualizaciones...\n"
     ]
    },
    {
     "data": {
      "application/vnd.plotly.v1+json": {
       "config": {
        "plotlyServerURL": "https://plot.ly"
       },
       "data": [
        {
         "customdata": {
          "bdata": "IlnFufMdF0AAAAAAAAAAAEruQsUgQCdA2wg9NnVWFEAAAAAAAAAAACbGfoNh3CVA/noiNu1TFUAAAAAAAAAAADh/cYMdWyZAMPcq8HLPEkAAAAAAAAAAAFG9dWDgGCVAgOtcS17OFkAAAAAAAAAAAHm3Dg5WGCdAXIC26C+NFUAAAAAAAAAAAOeBu9y+dyZAFyS2ELqOFkAAAAAAAAAAAMRTu/CD+CZAZFmKdyQZG0CQr042tbbtP2tuJSS5PSlAa0xcmVhqGUDIR95EVkDgP+5nDjVTZihA2bFJhtlKHUCcuSTWLqL3P6YahauTVipAr9pstFM5GkDouWIdL7jmPxCvlsLQzShAwoZsKfFwEkAAAAAAAAAAABqFFn2f6SRAvAqDJazQHkAoHQpTebn9PxfHIft8GStAg9p1h2UBFkAAAAAAAAAAAPouG6zZsSZAj6mnT3mlFEAAAAAAAAAAAIAWNJDjAyZAtsH9UJJYGECAyKcHkMjOP5Qi3xBw3SdAFVEiFTHeD0AAAAAAAAAAAP7VqC2zqCNAWSA2hrQOGEDgnLOu1ozFP+ZReyuBuCdA2hUNEfkVGEAATZIJaHXGP6bM5nAjvCdA3qF64anOGEDA5qELwcXWP6iSHdl7GChA3JaKq3oIEkAAAAAAAAAAACeNJT5ktSRAE0f00BC1FkAAAAAAAAAAAEJl2lCvCydAOKJuFwE5FUAAAAAAAAAAANWSF3SnTSZAG/GM2AvbHECktjEf+OL1P0a6ptSsHipA",
          "dtype": "f8",
          "shape": "24, 3"
         },
         "hovertemplate": "<b>Fecha:</b> %{x}<br><b>Valor Real:</b> %{y:.1f}<br><b>Predicción:</b> %{customdata[0]:.1f}<br><b>IC Inferior:</b> %{customdata[1]:.1f}<br><b>IC Superior:</b> %{customdata[2]:.1f}<extra></extra>",
         "line": {
          "color": "blue"
         },
         "mode": "markers+lines",
         "name": "Datos Históricos",
         "type": "scatter",
         "x": [
          "2024-12-15T00:00:00.000000000",
          "2024-12-22T00:00:00.000000000",
          "2024-12-29T00:00:00.000000000",
          "2025-01-05T00:00:00.000000000",
          "2025-01-12T00:00:00.000000000",
          "2025-01-19T00:00:00.000000000",
          "2025-01-26T00:00:00.000000000",
          "2025-02-02T00:00:00.000000000",
          "2025-02-09T00:00:00.000000000",
          "2025-02-16T00:00:00.000000000",
          "2025-02-23T00:00:00.000000000",
          "2025-03-02T00:00:00.000000000",
          "2025-03-09T00:00:00.000000000",
          "2025-03-16T00:00:00.000000000",
          "2025-03-23T00:00:00.000000000",
          "2025-03-30T00:00:00.000000000",
          "2025-04-06T00:00:00.000000000",
          "2025-04-13T00:00:00.000000000",
          "2025-04-20T00:00:00.000000000",
          "2025-04-27T00:00:00.000000000",
          "2025-05-04T00:00:00.000000000",
          "2025-05-11T00:00:00.000000000",
          "2025-05-18T00:00:00.000000000",
          "2025-05-25T00:00:00.000000000"
         ],
         "y": {
          "bdata": "XI/C9ShcD0BI4XoUrkcQQLgehetRuAhA4XoUrkfhFEBcj8L1KFwTQD4K16NwPRFA16NwPQpXKUCamZmZmRkiQNejcD0K1wVAFK5H4XqUJ0CamZmZmZkXQFyPwvUoXBdAXI/C9ShcI0DiehSuR+H+PwrXo3A9CglArkfhehSuGEB7FK5H4fogQAAAAAAAABNAUrgehetRFkAzMzMzMzMQQHsUrkfhehlA7FG4HoXrGkAUrkfhehQpQJqZmZmZmfk/",
          "dtype": "f8"
         }
        },
        {
         "customdata": {
          "bdata": "AAAAAAAAAABK7kLFIEAnQAAAAAAAAAAAJsZ+g2HcJUAAAAAAAAAAADh/cYMdWyZAAAAAAAAAAABRvXVg4BglQAAAAAAAAAAAebcODlYYJ0AAAAAAAAAAAOeBu9y+dyZAAAAAAAAAAADEU7vwg/gmQJCvTja1tu0/a24lJLk9KUDIR95EVkDgP+5nDjVTZihAnLkk1i6i9z+mGoWrk1YqQOi5Yh0vuOY/EK+WwtDNKEAAAAAAAAAAABqFFn2f6SRAKB0KU3m5/T8XxyH7fBkrQAAAAAAAAAAA+i4brNmxJkAAAAAAAAAAAIAWNJDjAyZAgMinB5DIzj+UIt8QcN0nQAAAAAAAAAAA/tWoLbOoI0DgnLOu1ozFP+ZReyuBuCdAAE2SCWh1xj+mzOZwI7wnQMDmoQvBxdY/qJId2XsYKEAAAAAAAAAAACeNJT5ktSRAAAAAAAAAAABCZdpQrwsnQAAAAAAAAAAA1ZIXdKdNJkCktjEf+OL1P0a6ptSsHipAAAAAAAAAAAD+A2dg1MwlQMiArivZDeo/7FYkVxZiKUAAAAAAAAAAAFenijZj4yJAAAAAAAAAAAByKUsulW4nQA==",
          "dtype": "f8",
          "shape": "28, 2"
         },
         "hovertemplate": "<b>Fecha:</b> %{x}<br><b>Predicción:</b> %{y:.1f}<br><b>IC Inferior:</b> %{customdata[0]:.1f}<br><b>IC Superior:</b> %{customdata[1]:.1f}<extra></extra>",
         "line": {
          "color": "red"
         },
         "mode": "lines",
         "name": "Predicción",
         "type": "scatter",
         "x": [
          "2024-12-15T00:00:00.000000000",
          "2024-12-22T00:00:00.000000000",
          "2024-12-29T00:00:00.000000000",
          "2025-01-05T00:00:00.000000000",
          "2025-01-12T00:00:00.000000000",
          "2025-01-19T00:00:00.000000000",
          "2025-01-26T00:00:00.000000000",
          "2025-02-02T00:00:00.000000000",
          "2025-02-09T00:00:00.000000000",
          "2025-02-16T00:00:00.000000000",
          "2025-02-23T00:00:00.000000000",
          "2025-03-02T00:00:00.000000000",
          "2025-03-09T00:00:00.000000000",
          "2025-03-16T00:00:00.000000000",
          "2025-03-23T00:00:00.000000000",
          "2025-03-30T00:00:00.000000000",
          "2025-04-06T00:00:00.000000000",
          "2025-04-13T00:00:00.000000000",
          "2025-04-20T00:00:00.000000000",
          "2025-04-27T00:00:00.000000000",
          "2025-05-04T00:00:00.000000000",
          "2025-05-11T00:00:00.000000000",
          "2025-05-18T00:00:00.000000000",
          "2025-05-25T00:00:00.000000000",
          "2025-06-01T00:00:00.000000000",
          "2025-06-08T00:00:00.000000000",
          "2025-06-15T00:00:00.000000000",
          "2025-06-22T00:00:00.000000000"
         ],
         "y": {
          "bdata": "IlnFufMdF0DbCD02dVYUQP56IjbtUxVAMPcq8HLPEkCA61xLXs4WQFyAtugvjRVAFyS2ELqOFkBkWYp3JBkbQGtMXJlYahlA2bFJhtlKHUCv2my0UzkaQMKGbCnxcBJAvAqDJazQHkCD2nWHZQEWQI+pp095pRRAtsH9UJJYGEAVUSIVMd4PQFkgNoa0DhhA2hUNEfkVGEDeoXrhqc4YQNyWiqt6CBJAE0f00BC1FkA4om4XATkVQBvxjNgL2xxAi4QN8Fo3FED4Pt/p8wIbQIswMZmn8QtABYtPDFo3FkA=",
          "dtype": "f8"
         }
        },
        {
         "fill": "toself",
         "fillcolor": "rgba(211,211,211,0.3)",
         "hoverinfo": "skip",
         "line": {
          "color": "rgba(255,255,255,0)"
         },
         "name": "Intervalo de Confianza 95%",
         "showlegend": true,
         "type": "scatter",
         "x": [
          "2024-12-15T00:00:00",
          "2024-12-22T00:00:00",
          "2024-12-29T00:00:00",
          "2025-01-05T00:00:00",
          "2025-01-12T00:00:00",
          "2025-01-19T00:00:00",
          "2025-01-26T00:00:00",
          "2025-02-02T00:00:00",
          "2025-02-09T00:00:00",
          "2025-02-16T00:00:00",
          "2025-02-23T00:00:00",
          "2025-03-02T00:00:00",
          "2025-03-09T00:00:00",
          "2025-03-16T00:00:00",
          "2025-03-23T00:00:00",
          "2025-03-30T00:00:00",
          "2025-04-06T00:00:00",
          "2025-04-13T00:00:00",
          "2025-04-20T00:00:00",
          "2025-04-27T00:00:00",
          "2025-05-04T00:00:00",
          "2025-05-11T00:00:00",
          "2025-05-18T00:00:00",
          "2025-05-25T00:00:00",
          "2025-06-01T00:00:00",
          "2025-06-08T00:00:00",
          "2025-06-15T00:00:00",
          "2025-06-22T00:00:00",
          "2025-06-22T00:00:00",
          "2025-06-15T00:00:00",
          "2025-06-08T00:00:00",
          "2025-06-01T00:00:00",
          "2025-05-25T00:00:00",
          "2025-05-18T00:00:00",
          "2025-05-11T00:00:00",
          "2025-05-04T00:00:00",
          "2025-04-27T00:00:00",
          "2025-04-20T00:00:00",
          "2025-04-13T00:00:00",
          "2025-04-06T00:00:00",
          "2025-03-30T00:00:00",
          "2025-03-23T00:00:00",
          "2025-03-16T00:00:00",
          "2025-03-09T00:00:00",
          "2025-03-02T00:00:00",
          "2025-02-23T00:00:00",
          "2025-02-16T00:00:00",
          "2025-02-09T00:00:00",
          "2025-02-02T00:00:00",
          "2025-01-26T00:00:00",
          "2025-01-19T00:00:00",
          "2025-01-12T00:00:00",
          "2025-01-05T00:00:00",
          "2024-12-29T00:00:00",
          "2024-12-22T00:00:00",
          "2024-12-15T00:00:00"
         ],
         "y": [
          11.625250019474283,
          10.930431470132202,
          11.177959544758423,
          10.548586859104633,
          11.54753154687545,
          11.2338780383006,
          11.485381625048724,
          12.620553140229466,
          12.199853570946257,
          13.169095382688578,
          12.40198333825495,
          10.456294926642432,
          13.549781654237036,
          11.347363832777308,
          11.007595545156846,
          11.932495620001,
          9.829492022380688,
          11.860360487750722,
          11.867457893537289,
          12.047819886074038,
          10.354280416568669,
          11.522821928653347,
          11.15166819370044,
          13.059912343361372,
          10.900057804656168,
          12.691576693712214,
          9.444116310525414,
          11.715981909441982,
          0,
          0,
          0.8141904690892483,
          0,
          1.3679124086878938,
          0,
          0,
          0,
          0.35581995140055867,
          0.17545795886380944,
          0.16836055307724163,
          0,
          0.2404956853275202,
          0,
          0,
          1.8577817195635564,
          0,
          0.7099834035814725,
          1.4770954480150982,
          0.5078536362727784,
          0.9285532055559873,
          0,
          0,
          0,
          0,
          0,
          0,
          0
         ]
        }
       ],
       "layout": {
        "hovermode": "x unified",
        "legend": {
         "orientation": "h",
         "x": 0.5,
         "xanchor": "center",
         "y": -0.4,
         "yanchor": "bottom"
        },
        "showlegend": true,
        "template": {
         "data": {
          "bar": [
           {
            "error_x": {
             "color": "#2a3f5f"
            },
            "error_y": {
             "color": "#2a3f5f"
            },
            "marker": {
             "line": {
              "color": "white",
              "width": 0.5
             },
             "pattern": {
              "fillmode": "overlay",
              "size": 10,
              "solidity": 0.2
             }
            },
            "type": "bar"
           }
          ],
          "barpolar": [
           {
            "marker": {
             "line": {
              "color": "white",
              "width": 0.5
             },
             "pattern": {
              "fillmode": "overlay",
              "size": 10,
              "solidity": 0.2
             }
            },
            "type": "barpolar"
           }
          ],
          "carpet": [
           {
            "aaxis": {
             "endlinecolor": "#2a3f5f",
             "gridcolor": "#C8D4E3",
             "linecolor": "#C8D4E3",
             "minorgridcolor": "#C8D4E3",
             "startlinecolor": "#2a3f5f"
            },
            "baxis": {
             "endlinecolor": "#2a3f5f",
             "gridcolor": "#C8D4E3",
             "linecolor": "#C8D4E3",
             "minorgridcolor": "#C8D4E3",
             "startlinecolor": "#2a3f5f"
            },
            "type": "carpet"
           }
          ],
          "choropleth": [
           {
            "colorbar": {
             "outlinewidth": 0,
             "ticks": ""
            },
            "type": "choropleth"
           }
          ],
          "contour": [
           {
            "colorbar": {
             "outlinewidth": 0,
             "ticks": ""
            },
            "colorscale": [
             [
              0,
              "#0d0887"
             ],
             [
              0.1111111111111111,
              "#46039f"
             ],
             [
              0.2222222222222222,
              "#7201a8"
             ],
             [
              0.3333333333333333,
              "#9c179e"
             ],
             [
              0.4444444444444444,
              "#bd3786"
             ],
             [
              0.5555555555555556,
              "#d8576b"
             ],
             [
              0.6666666666666666,
              "#ed7953"
             ],
             [
              0.7777777777777778,
              "#fb9f3a"
             ],
             [
              0.8888888888888888,
              "#fdca26"
             ],
             [
              1,
              "#f0f921"
             ]
            ],
            "type": "contour"
           }
          ],
          "contourcarpet": [
           {
            "colorbar": {
             "outlinewidth": 0,
             "ticks": ""
            },
            "type": "contourcarpet"
           }
          ],
          "heatmap": [
           {
            "colorbar": {
             "outlinewidth": 0,
             "ticks": ""
            },
            "colorscale": [
             [
              0,
              "#0d0887"
             ],
             [
              0.1111111111111111,
              "#46039f"
             ],
             [
              0.2222222222222222,
              "#7201a8"
             ],
             [
              0.3333333333333333,
              "#9c179e"
             ],
             [
              0.4444444444444444,
              "#bd3786"
             ],
             [
              0.5555555555555556,
              "#d8576b"
             ],
             [
              0.6666666666666666,
              "#ed7953"
             ],
             [
              0.7777777777777778,
              "#fb9f3a"
             ],
             [
              0.8888888888888888,
              "#fdca26"
             ],
             [
              1,
              "#f0f921"
             ]
            ],
            "type": "heatmap"
           }
          ],
          "histogram": [
           {
            "marker": {
             "pattern": {
              "fillmode": "overlay",
              "size": 10,
              "solidity": 0.2
             }
            },
            "type": "histogram"
           }
          ],
          "histogram2d": [
           {
            "colorbar": {
             "outlinewidth": 0,
             "ticks": ""
            },
            "colorscale": [
             [
              0,
              "#0d0887"
             ],
             [
              0.1111111111111111,
              "#46039f"
             ],
             [
              0.2222222222222222,
              "#7201a8"
             ],
             [
              0.3333333333333333,
              "#9c179e"
             ],
             [
              0.4444444444444444,
              "#bd3786"
             ],
             [
              0.5555555555555556,
              "#d8576b"
             ],
             [
              0.6666666666666666,
              "#ed7953"
             ],
             [
              0.7777777777777778,
              "#fb9f3a"
             ],
             [
              0.8888888888888888,
              "#fdca26"
             ],
             [
              1,
              "#f0f921"
             ]
            ],
            "type": "histogram2d"
           }
          ],
          "histogram2dcontour": [
           {
            "colorbar": {
             "outlinewidth": 0,
             "ticks": ""
            },
            "colorscale": [
             [
              0,
              "#0d0887"
             ],
             [
              0.1111111111111111,
              "#46039f"
             ],
             [
              0.2222222222222222,
              "#7201a8"
             ],
             [
              0.3333333333333333,
              "#9c179e"
             ],
             [
              0.4444444444444444,
              "#bd3786"
             ],
             [
              0.5555555555555556,
              "#d8576b"
             ],
             [
              0.6666666666666666,
              "#ed7953"
             ],
             [
              0.7777777777777778,
              "#fb9f3a"
             ],
             [
              0.8888888888888888,
              "#fdca26"
             ],
             [
              1,
              "#f0f921"
             ]
            ],
            "type": "histogram2dcontour"
           }
          ],
          "mesh3d": [
           {
            "colorbar": {
             "outlinewidth": 0,
             "ticks": ""
            },
            "type": "mesh3d"
           }
          ],
          "parcoords": [
           {
            "line": {
             "colorbar": {
              "outlinewidth": 0,
              "ticks": ""
             }
            },
            "type": "parcoords"
           }
          ],
          "pie": [
           {
            "automargin": true,
            "type": "pie"
           }
          ],
          "scatter": [
           {
            "fillpattern": {
             "fillmode": "overlay",
             "size": 10,
             "solidity": 0.2
            },
            "type": "scatter"
           }
          ],
          "scatter3d": [
           {
            "line": {
             "colorbar": {
              "outlinewidth": 0,
              "ticks": ""
             }
            },
            "marker": {
             "colorbar": {
              "outlinewidth": 0,
              "ticks": ""
             }
            },
            "type": "scatter3d"
           }
          ],
          "scattercarpet": [
           {
            "marker": {
             "colorbar": {
              "outlinewidth": 0,
              "ticks": ""
             }
            },
            "type": "scattercarpet"
           }
          ],
          "scattergeo": [
           {
            "marker": {
             "colorbar": {
              "outlinewidth": 0,
              "ticks": ""
             }
            },
            "type": "scattergeo"
           }
          ],
          "scattergl": [
           {
            "marker": {
             "colorbar": {
              "outlinewidth": 0,
              "ticks": ""
             }
            },
            "type": "scattergl"
           }
          ],
          "scattermap": [
           {
            "marker": {
             "colorbar": {
              "outlinewidth": 0,
              "ticks": ""
             }
            },
            "type": "scattermap"
           }
          ],
          "scattermapbox": [
           {
            "marker": {
             "colorbar": {
              "outlinewidth": 0,
              "ticks": ""
             }
            },
            "type": "scattermapbox"
           }
          ],
          "scatterpolar": [
           {
            "marker": {
             "colorbar": {
              "outlinewidth": 0,
              "ticks": ""
             }
            },
            "type": "scatterpolar"
           }
          ],
          "scatterpolargl": [
           {
            "marker": {
             "colorbar": {
              "outlinewidth": 0,
              "ticks": ""
             }
            },
            "type": "scatterpolargl"
           }
          ],
          "scatterternary": [
           {
            "marker": {
             "colorbar": {
              "outlinewidth": 0,
              "ticks": ""
             }
            },
            "type": "scatterternary"
           }
          ],
          "surface": [
           {
            "colorbar": {
             "outlinewidth": 0,
             "ticks": ""
            },
            "colorscale": [
             [
              0,
              "#0d0887"
             ],
             [
              0.1111111111111111,
              "#46039f"
             ],
             [
              0.2222222222222222,
              "#7201a8"
             ],
             [
              0.3333333333333333,
              "#9c179e"
             ],
             [
              0.4444444444444444,
              "#bd3786"
             ],
             [
              0.5555555555555556,
              "#d8576b"
             ],
             [
              0.6666666666666666,
              "#ed7953"
             ],
             [
              0.7777777777777778,
              "#fb9f3a"
             ],
             [
              0.8888888888888888,
              "#fdca26"
             ],
             [
              1,
              "#f0f921"
             ]
            ],
            "type": "surface"
           }
          ],
          "table": [
           {
            "cells": {
             "fill": {
              "color": "#EBF0F8"
             },
             "line": {
              "color": "white"
             }
            },
            "header": {
             "fill": {
              "color": "#C8D4E3"
             },
             "line": {
              "color": "white"
             }
            },
            "type": "table"
           }
          ]
         },
         "layout": {
          "annotationdefaults": {
           "arrowcolor": "#2a3f5f",
           "arrowhead": 0,
           "arrowwidth": 1
          },
          "autotypenumbers": "strict",
          "coloraxis": {
           "colorbar": {
            "outlinewidth": 0,
            "ticks": ""
           }
          },
          "colorscale": {
           "diverging": [
            [
             0,
             "#8e0152"
            ],
            [
             0.1,
             "#c51b7d"
            ],
            [
             0.2,
             "#de77ae"
            ],
            [
             0.3,
             "#f1b6da"
            ],
            [
             0.4,
             "#fde0ef"
            ],
            [
             0.5,
             "#f7f7f7"
            ],
            [
             0.6,
             "#e6f5d0"
            ],
            [
             0.7,
             "#b8e186"
            ],
            [
             0.8,
             "#7fbc41"
            ],
            [
             0.9,
             "#4d9221"
            ],
            [
             1,
             "#276419"
            ]
           ],
           "sequential": [
            [
             0,
             "#0d0887"
            ],
            [
             0.1111111111111111,
             "#46039f"
            ],
            [
             0.2222222222222222,
             "#7201a8"
            ],
            [
             0.3333333333333333,
             "#9c179e"
            ],
            [
             0.4444444444444444,
             "#bd3786"
            ],
            [
             0.5555555555555556,
             "#d8576b"
            ],
            [
             0.6666666666666666,
             "#ed7953"
            ],
            [
             0.7777777777777778,
             "#fb9f3a"
            ],
            [
             0.8888888888888888,
             "#fdca26"
            ],
            [
             1,
             "#f0f921"
            ]
           ],
           "sequentialminus": [
            [
             0,
             "#0d0887"
            ],
            [
             0.1111111111111111,
             "#46039f"
            ],
            [
             0.2222222222222222,
             "#7201a8"
            ],
            [
             0.3333333333333333,
             "#9c179e"
            ],
            [
             0.4444444444444444,
             "#bd3786"
            ],
            [
             0.5555555555555556,
             "#d8576b"
            ],
            [
             0.6666666666666666,
             "#ed7953"
            ],
            [
             0.7777777777777778,
             "#fb9f3a"
            ],
            [
             0.8888888888888888,
             "#fdca26"
            ],
            [
             1,
             "#f0f921"
            ]
           ]
          },
          "colorway": [
           "#636efa",
           "#EF553B",
           "#00cc96",
           "#ab63fa",
           "#FFA15A",
           "#19d3f3",
           "#FF6692",
           "#B6E880",
           "#FF97FF",
           "#FECB52"
          ],
          "font": {
           "color": "#2a3f5f"
          },
          "geo": {
           "bgcolor": "white",
           "lakecolor": "white",
           "landcolor": "white",
           "showlakes": true,
           "showland": true,
           "subunitcolor": "#C8D4E3"
          },
          "hoverlabel": {
           "align": "left"
          },
          "hovermode": "closest",
          "mapbox": {
           "style": "light"
          },
          "paper_bgcolor": "white",
          "plot_bgcolor": "white",
          "polar": {
           "angularaxis": {
            "gridcolor": "#EBF0F8",
            "linecolor": "#EBF0F8",
            "ticks": ""
           },
           "bgcolor": "white",
           "radialaxis": {
            "gridcolor": "#EBF0F8",
            "linecolor": "#EBF0F8",
            "ticks": ""
           }
          },
          "scene": {
           "xaxis": {
            "backgroundcolor": "white",
            "gridcolor": "#DFE8F3",
            "gridwidth": 2,
            "linecolor": "#EBF0F8",
            "showbackground": true,
            "ticks": "",
            "zerolinecolor": "#EBF0F8"
           },
           "yaxis": {
            "backgroundcolor": "white",
            "gridcolor": "#DFE8F3",
            "gridwidth": 2,
            "linecolor": "#EBF0F8",
            "showbackground": true,
            "ticks": "",
            "zerolinecolor": "#EBF0F8"
           },
           "zaxis": {
            "backgroundcolor": "white",
            "gridcolor": "#DFE8F3",
            "gridwidth": 2,
            "linecolor": "#EBF0F8",
            "showbackground": true,
            "ticks": "",
            "zerolinecolor": "#EBF0F8"
           }
          },
          "shapedefaults": {
           "line": {
            "color": "#2a3f5f"
           }
          },
          "ternary": {
           "aaxis": {
            "gridcolor": "#DFE8F3",
            "linecolor": "#A2B1C6",
            "ticks": ""
           },
           "baxis": {
            "gridcolor": "#DFE8F3",
            "linecolor": "#A2B1C6",
            "ticks": ""
           },
           "bgcolor": "white",
           "caxis": {
            "gridcolor": "#DFE8F3",
            "linecolor": "#A2B1C6",
            "ticks": ""
           }
          },
          "title": {
           "x": 0.05
          },
          "xaxis": {
           "automargin": true,
           "gridcolor": "#EBF0F8",
           "linecolor": "#EBF0F8",
           "ticks": "",
           "title": {
            "standoff": 15
           },
           "zerolinecolor": "#EBF0F8",
           "zerolinewidth": 2
          },
          "yaxis": {
           "automargin": true,
           "gridcolor": "#EBF0F8",
           "linecolor": "#EBF0F8",
           "ticks": "",
           "title": {
            "standoff": 15
           },
           "zerolinecolor": "#EBF0F8",
           "zerolinewidth": 2
          }
         }
        },
        "title": {
         "text": "Pronóstico de Horas Extra - Finance"
        },
        "xaxis": {
         "title": {
          "text": "Fecha"
         }
        },
        "yaxis": {
         "title": {
          "text": "Horas Extra"
         }
        }
       }
      }
     },
     "metadata": {},
     "output_type": "display_data"
    },
    {
     "name": "stdout",
     "output_type": "stream",
     "text": [
      "Visualización generada para Finance\n"
     ]
    },
    {
     "data": {
      "application/vnd.plotly.v1+json": {
       "config": {
        "plotlyServerURL": "https://plot.ly"
       },
       "data": [
        {
         "customdata": {
          "bdata": "8vfoOE6RDUAAAAAAAAAAAF7XSO3RICdAnYcV0AfBAUAAAAAAAAAAAGvdE1PALCRANC0f4xl4HEAAAAAAAAAAAOwFnlCL+C1ANG+x6JOIJkBwE4wmVjALQMbs3yOJIjNAgbQzyj+0GEAAAAAAAAAAAJFCKESeFixAy00FoM/7CkAAAAAAAAAAAPC6D0dyeyZAzuuPS6ovFEAAAAAAAAAAAA1d1oRT1ClANoqrxtMzIkCcGek8q7rzP5z43BIp+DBA1EBY8ZfCIkAAz06SzDD4P+RTMyiLPzFAJ9kinljHHkAAAAAAAAAAAILTH64qIC9AO2Fz4en7GEAAAAAAAAAAAIoXyE9zOixA6uYqv2PsHUAAAAAAAAAAAGDaoz6wsi5A2BbDXHcJF0AAAAAAAAAAAFbybw06QStATgancgupFUAAAAAAAAAAABHqYRgEkSpAdJ4NItlKGkAAAAAAAAAAACQ2FfDq4SxAcjVWYjRQIEAA0flowHbSPy5OsmBZBjBA6gbB/692IEAAAFQWNEbXP+q2Zy+XGTBAPRYHvLQNFEAAAAAAAAAAAAjyEb1YwylAJVqJ6UOpFkAAAAAAAAAAAPwT01MgEStACr/7jXkaIEAACFa7y37HP/QlCu331i9AHukNSADkFkAAAAAAAAAAAHlbFYN+LitAZMEhNZfvF0AAAAAAAAAAAJxHn/lJtCtA/Ty19+wCHUAAAAAAAAAAAGgF6dr0PS5Axu8QQbCNIECAG1FAPCbaP1irD1AXJTBA",
          "dtype": "f8",
          "shape": "24, 3"
         },
         "hovertemplate": "<b>Fecha:</b> %{x}<br><b>Valor Real:</b> %{y:.1f}<br><b>Predicción:</b> %{customdata[0]:.1f}<br><b>IC Inferior:</b> %{customdata[1]:.1f}<br><b>IC Superior:</b> %{customdata[2]:.1f}<extra></extra>",
         "line": {
          "color": "blue"
         },
         "mode": "markers+lines",
         "name": "Datos Históricos",
         "type": "scatter",
         "x": [
          "2024-12-15T00:00:00.000000000",
          "2024-12-22T00:00:00.000000000",
          "2024-12-29T00:00:00.000000000",
          "2025-01-05T00:00:00.000000000",
          "2025-01-12T00:00:00.000000000",
          "2025-01-19T00:00:00.000000000",
          "2025-01-26T00:00:00.000000000",
          "2025-02-02T00:00:00.000000000",
          "2025-02-09T00:00:00.000000000",
          "2025-02-16T00:00:00.000000000",
          "2025-02-23T00:00:00.000000000",
          "2025-03-02T00:00:00.000000000",
          "2025-03-09T00:00:00.000000000",
          "2025-03-16T00:00:00.000000000",
          "2025-03-23T00:00:00.000000000",
          "2025-03-30T00:00:00.000000000",
          "2025-04-06T00:00:00.000000000",
          "2025-04-13T00:00:00.000000000",
          "2025-04-20T00:00:00.000000000",
          "2025-04-27T00:00:00.000000000",
          "2025-05-04T00:00:00.000000000",
          "2025-05-11T00:00:00.000000000",
          "2025-05-18T00:00:00.000000000",
          "2025-05-25T00:00:00.000000000"
         ],
         "y": {
          "bdata": "AAAAAAAAAAApXI/C9Sj4PwAAAAAAAB5ACtejcD0KLkBcj8L1KFwjQHA9CtejcBlApHA9CtejBkCamZmZmRklQD4K16NwPRFAUrgehetRGUCF61G4HoUhQDMzMzMzsyFASOF6FK7HJEAzMzMzMzP7Pyhcj8L1KBZAhetRuB6FK0CF61G4HoUNQEjhehSuRx9AwvUoXI/CI0BmZmZmZuYjQFyPwvUo3CFAKVyPwvUoGEBmZmZmZmYdQAAAAAAAAAAA",
          "dtype": "f8"
         }
        },
        {
         "customdata": {
          "bdata": "AAAAAAAAAABe10jt0SAnQAAAAAAAAAAAa90TU8AsJEAAAAAAAAAAAOwFnlCL+C1AcBOMJlYwC0DG7N8jiSIzQAAAAAAAAAAAkUIoRJ4WLEAAAAAAAAAAAPC6D0dyeyZAAAAAAAAAAAANXdaEU9QpQJwZ6TyruvM/nPjcEin4MEAAz06SzDD4P+RTMyiLPzFAAAAAAAAAAACC0x+uKiAvQAAAAAAAAAAAihfIT3M6LEAAAAAAAAAAAGDaoz6wsi5AAAAAAAAAAABW8m8NOkErQAAAAAAAAAAAEephGASRKkAAAAAAAAAAACQ2FfDq4SxAANH5aMB20j8uTrJgWQYwQAAAVBY0Rtc/6rZnL5cZMEAAAAAAAAAAAAjyEb1YwylAAAAAAAAAAAD8E9NTIBErQAAIVrvLfsc/9CUK7ffWL0AAAAAAAAAAAHlbFYN+LitAAAAAAAAAAACcR5/5SbQrQAAAAAAAAAAAaAXp2vQ9LkCAG1FAPCbaP1irD1AXJTBAkA2pgMKJ7D9WrxNzzKAwQMAaKu/4rtg//ZeYHuEpMEAAAAAAAAAAAGzFt6HDMi5AAAAAAAAAAAALw3uYmFkoQA==",
          "dtype": "f8",
          "shape": "28, 2"
         },
         "hovertemplate": "<b>Fecha:</b> %{x}<br><b>Predicción:</b> %{y:.1f}<br><b>IC Inferior:</b> %{customdata[0]:.1f}<br><b>IC Superior:</b> %{customdata[1]:.1f}<extra></extra>",
         "line": {
          "color": "red"
         },
         "mode": "lines",
         "name": "Predicción",
         "type": "scatter",
         "x": [
          "2024-12-15T00:00:00.000000000",
          "2024-12-22T00:00:00.000000000",
          "2024-12-29T00:00:00.000000000",
          "2025-01-05T00:00:00.000000000",
          "2025-01-12T00:00:00.000000000",
          "2025-01-19T00:00:00.000000000",
          "2025-01-26T00:00:00.000000000",
          "2025-02-02T00:00:00.000000000",
          "2025-02-09T00:00:00.000000000",
          "2025-02-16T00:00:00.000000000",
          "2025-02-23T00:00:00.000000000",
          "2025-03-02T00:00:00.000000000",
          "2025-03-09T00:00:00.000000000",
          "2025-03-16T00:00:00.000000000",
          "2025-03-23T00:00:00.000000000",
          "2025-03-30T00:00:00.000000000",
          "2025-04-06T00:00:00.000000000",
          "2025-04-13T00:00:00.000000000",
          "2025-04-20T00:00:00.000000000",
          "2025-04-27T00:00:00.000000000",
          "2025-05-04T00:00:00.000000000",
          "2025-05-11T00:00:00.000000000",
          "2025-05-18T00:00:00.000000000",
          "2025-05-25T00:00:00.000000000",
          "2025-06-01T00:00:00.000000000",
          "2025-06-08T00:00:00.000000000",
          "2025-06-15T00:00:00.000000000",
          "2025-06-22T00:00:00.000000000"
         ],
         "y": {
          "bdata": "8vfoOE6RDUCdhxXQB8EBQDQtH+MZeBxANG+x6JOIJkCBtDPKP7QYQMtNBaDP+wpAzuuPS6ovFEA2iqvG0zMiQNRAWPGXwiJAJ9kinljHHkA7YXPh6fsYQOrmKr9j7B1A2BbDXHcJF0BOBqdyC6kVQHSeDSLZShpAcjVWYjRQIEDqBsH/r3YgQD0WB7y0DRRAJVqJ6UOpFkAKv/uNeRogQB7pDUgA5BZAZMEhNZfvF0D9PLX37AIdQMbvEEGwjSBAw/cYhxqFIUBoQFUCnYwgQBw4dw9FdhxAgJd6dnDAEEA=",
          "dtype": "f8"
         }
        },
        {
         "fill": "toself",
         "fillcolor": "rgba(211,211,211,0.3)",
         "hoverinfo": "skip",
         "line": {
          "color": "rgba(255,255,255,0)"
         },
         "name": "Intervalo de Confianza 95%",
         "showlegend": true,
         "type": "scatter",
         "x": [
          "2024-12-15T00:00:00",
          "2024-12-22T00:00:00",
          "2024-12-29T00:00:00",
          "2025-01-05T00:00:00",
          "2025-01-12T00:00:00",
          "2025-01-19T00:00:00",
          "2025-01-26T00:00:00",
          "2025-02-02T00:00:00",
          "2025-02-09T00:00:00",
          "2025-02-16T00:00:00",
          "2025-02-23T00:00:00",
          "2025-03-02T00:00:00",
          "2025-03-09T00:00:00",
          "2025-03-16T00:00:00",
          "2025-03-23T00:00:00",
          "2025-03-30T00:00:00",
          "2025-04-06T00:00:00",
          "2025-04-13T00:00:00",
          "2025-04-20T00:00:00",
          "2025-04-27T00:00:00",
          "2025-05-04T00:00:00",
          "2025-05-11T00:00:00",
          "2025-05-18T00:00:00",
          "2025-05-25T00:00:00",
          "2025-06-01T00:00:00",
          "2025-06-08T00:00:00",
          "2025-06-15T00:00:00",
          "2025-06-22T00:00:00",
          "2025-06-22T00:00:00",
          "2025-06-15T00:00:00",
          "2025-06-08T00:00:00",
          "2025-06-01T00:00:00",
          "2025-05-25T00:00:00",
          "2025-05-18T00:00:00",
          "2025-05-11T00:00:00",
          "2025-05-04T00:00:00",
          "2025-04-27T00:00:00",
          "2025-04-20T00:00:00",
          "2025-04-13T00:00:00",
          "2025-04-06T00:00:00",
          "2025-03-30T00:00:00",
          "2025-03-23T00:00:00",
          "2025-03-16T00:00:00",
          "2025-03-09T00:00:00",
          "2025-03-02T00:00:00",
          "2025-02-23T00:00:00",
          "2025-02-16T00:00:00",
          "2025-02-09T00:00:00",
          "2025-02-02T00:00:00",
          "2025-01-26T00:00:00",
          "2025-01-19T00:00:00",
          "2025-01-12T00:00:00",
          "2025-01-05T00:00:00",
          "2024-12-29T00:00:00",
          "2024-12-22T00:00:00",
          "2024-12-15T00:00:00"
         ],
         "y": [
          11.564101615087278,
          10.087404819655339,
          14.985437888421949,
          19.134905092400707,
          14.044176225580744,
          11.241106243772691,
          12.914699698607842,
          16.96937673468402,
          17.24821711781614,
          15.562825623879466,
          14.114161008048331,
          15.349000890256491,
          13.627396030345306,
          13.28323436923259,
          14.441245558347028,
          16.02480129578742,
          16.099963152714658,
          12.881536396446805,
          13.533449763790479,
          15.919860274781037,
          13.590808960301489,
          13.852126885121656,
          15.121008721299134,
          16.144886974168315,
          16.62811965208615,
          16.163591301206896,
          15.09914880150128,
          12.174992337329533,
          0,
          0,
          0.38567946773438777,
          0.8918163788697928,
          0.40858370095195795,
          0,
          0,
          0,
          0.18355700156467947,
          0,
          0,
          0.36365987949830014,
          0.28849802257106205,
          0,
          0,
          0,
          0,
          0,
          0,
          1.5119138445997464,
          1.2330734614675753,
          0,
          0,
          0,
          3.3986018191812306,
          0,
          0,
          0
         ]
        }
       ],
       "layout": {
        "hovermode": "x unified",
        "legend": {
         "orientation": "h",
         "x": 0.5,
         "xanchor": "center",
         "y": -0.4,
         "yanchor": "bottom"
        },
        "showlegend": true,
        "template": {
         "data": {
          "bar": [
           {
            "error_x": {
             "color": "#2a3f5f"
            },
            "error_y": {
             "color": "#2a3f5f"
            },
            "marker": {
             "line": {
              "color": "white",
              "width": 0.5
             },
             "pattern": {
              "fillmode": "overlay",
              "size": 10,
              "solidity": 0.2
             }
            },
            "type": "bar"
           }
          ],
          "barpolar": [
           {
            "marker": {
             "line": {
              "color": "white",
              "width": 0.5
             },
             "pattern": {
              "fillmode": "overlay",
              "size": 10,
              "solidity": 0.2
             }
            },
            "type": "barpolar"
           }
          ],
          "carpet": [
           {
            "aaxis": {
             "endlinecolor": "#2a3f5f",
             "gridcolor": "#C8D4E3",
             "linecolor": "#C8D4E3",
             "minorgridcolor": "#C8D4E3",
             "startlinecolor": "#2a3f5f"
            },
            "baxis": {
             "endlinecolor": "#2a3f5f",
             "gridcolor": "#C8D4E3",
             "linecolor": "#C8D4E3",
             "minorgridcolor": "#C8D4E3",
             "startlinecolor": "#2a3f5f"
            },
            "type": "carpet"
           }
          ],
          "choropleth": [
           {
            "colorbar": {
             "outlinewidth": 0,
             "ticks": ""
            },
            "type": "choropleth"
           }
          ],
          "contour": [
           {
            "colorbar": {
             "outlinewidth": 0,
             "ticks": ""
            },
            "colorscale": [
             [
              0,
              "#0d0887"
             ],
             [
              0.1111111111111111,
              "#46039f"
             ],
             [
              0.2222222222222222,
              "#7201a8"
             ],
             [
              0.3333333333333333,
              "#9c179e"
             ],
             [
              0.4444444444444444,
              "#bd3786"
             ],
             [
              0.5555555555555556,
              "#d8576b"
             ],
             [
              0.6666666666666666,
              "#ed7953"
             ],
             [
              0.7777777777777778,
              "#fb9f3a"
             ],
             [
              0.8888888888888888,
              "#fdca26"
             ],
             [
              1,
              "#f0f921"
             ]
            ],
            "type": "contour"
           }
          ],
          "contourcarpet": [
           {
            "colorbar": {
             "outlinewidth": 0,
             "ticks": ""
            },
            "type": "contourcarpet"
           }
          ],
          "heatmap": [
           {
            "colorbar": {
             "outlinewidth": 0,
             "ticks": ""
            },
            "colorscale": [
             [
              0,
              "#0d0887"
             ],
             [
              0.1111111111111111,
              "#46039f"
             ],
             [
              0.2222222222222222,
              "#7201a8"
             ],
             [
              0.3333333333333333,
              "#9c179e"
             ],
             [
              0.4444444444444444,
              "#bd3786"
             ],
             [
              0.5555555555555556,
              "#d8576b"
             ],
             [
              0.6666666666666666,
              "#ed7953"
             ],
             [
              0.7777777777777778,
              "#fb9f3a"
             ],
             [
              0.8888888888888888,
              "#fdca26"
             ],
             [
              1,
              "#f0f921"
             ]
            ],
            "type": "heatmap"
           }
          ],
          "histogram": [
           {
            "marker": {
             "pattern": {
              "fillmode": "overlay",
              "size": 10,
              "solidity": 0.2
             }
            },
            "type": "histogram"
           }
          ],
          "histogram2d": [
           {
            "colorbar": {
             "outlinewidth": 0,
             "ticks": ""
            },
            "colorscale": [
             [
              0,
              "#0d0887"
             ],
             [
              0.1111111111111111,
              "#46039f"
             ],
             [
              0.2222222222222222,
              "#7201a8"
             ],
             [
              0.3333333333333333,
              "#9c179e"
             ],
             [
              0.4444444444444444,
              "#bd3786"
             ],
             [
              0.5555555555555556,
              "#d8576b"
             ],
             [
              0.6666666666666666,
              "#ed7953"
             ],
             [
              0.7777777777777778,
              "#fb9f3a"
             ],
             [
              0.8888888888888888,
              "#fdca26"
             ],
             [
              1,
              "#f0f921"
             ]
            ],
            "type": "histogram2d"
           }
          ],
          "histogram2dcontour": [
           {
            "colorbar": {
             "outlinewidth": 0,
             "ticks": ""
            },
            "colorscale": [
             [
              0,
              "#0d0887"
             ],
             [
              0.1111111111111111,
              "#46039f"
             ],
             [
              0.2222222222222222,
              "#7201a8"
             ],
             [
              0.3333333333333333,
              "#9c179e"
             ],
             [
              0.4444444444444444,
              "#bd3786"
             ],
             [
              0.5555555555555556,
              "#d8576b"
             ],
             [
              0.6666666666666666,
              "#ed7953"
             ],
             [
              0.7777777777777778,
              "#fb9f3a"
             ],
             [
              0.8888888888888888,
              "#fdca26"
             ],
             [
              1,
              "#f0f921"
             ]
            ],
            "type": "histogram2dcontour"
           }
          ],
          "mesh3d": [
           {
            "colorbar": {
             "outlinewidth": 0,
             "ticks": ""
            },
            "type": "mesh3d"
           }
          ],
          "parcoords": [
           {
            "line": {
             "colorbar": {
              "outlinewidth": 0,
              "ticks": ""
             }
            },
            "type": "parcoords"
           }
          ],
          "pie": [
           {
            "automargin": true,
            "type": "pie"
           }
          ],
          "scatter": [
           {
            "fillpattern": {
             "fillmode": "overlay",
             "size": 10,
             "solidity": 0.2
            },
            "type": "scatter"
           }
          ],
          "scatter3d": [
           {
            "line": {
             "colorbar": {
              "outlinewidth": 0,
              "ticks": ""
             }
            },
            "marker": {
             "colorbar": {
              "outlinewidth": 0,
              "ticks": ""
             }
            },
            "type": "scatter3d"
           }
          ],
          "scattercarpet": [
           {
            "marker": {
             "colorbar": {
              "outlinewidth": 0,
              "ticks": ""
             }
            },
            "type": "scattercarpet"
           }
          ],
          "scattergeo": [
           {
            "marker": {
             "colorbar": {
              "outlinewidth": 0,
              "ticks": ""
             }
            },
            "type": "scattergeo"
           }
          ],
          "scattergl": [
           {
            "marker": {
             "colorbar": {
              "outlinewidth": 0,
              "ticks": ""
             }
            },
            "type": "scattergl"
           }
          ],
          "scattermap": [
           {
            "marker": {
             "colorbar": {
              "outlinewidth": 0,
              "ticks": ""
             }
            },
            "type": "scattermap"
           }
          ],
          "scattermapbox": [
           {
            "marker": {
             "colorbar": {
              "outlinewidth": 0,
              "ticks": ""
             }
            },
            "type": "scattermapbox"
           }
          ],
          "scatterpolar": [
           {
            "marker": {
             "colorbar": {
              "outlinewidth": 0,
              "ticks": ""
             }
            },
            "type": "scatterpolar"
           }
          ],
          "scatterpolargl": [
           {
            "marker": {
             "colorbar": {
              "outlinewidth": 0,
              "ticks": ""
             }
            },
            "type": "scatterpolargl"
           }
          ],
          "scatterternary": [
           {
            "marker": {
             "colorbar": {
              "outlinewidth": 0,
              "ticks": ""
             }
            },
            "type": "scatterternary"
           }
          ],
          "surface": [
           {
            "colorbar": {
             "outlinewidth": 0,
             "ticks": ""
            },
            "colorscale": [
             [
              0,
              "#0d0887"
             ],
             [
              0.1111111111111111,
              "#46039f"
             ],
             [
              0.2222222222222222,
              "#7201a8"
             ],
             [
              0.3333333333333333,
              "#9c179e"
             ],
             [
              0.4444444444444444,
              "#bd3786"
             ],
             [
              0.5555555555555556,
              "#d8576b"
             ],
             [
              0.6666666666666666,
              "#ed7953"
             ],
             [
              0.7777777777777778,
              "#fb9f3a"
             ],
             [
              0.8888888888888888,
              "#fdca26"
             ],
             [
              1,
              "#f0f921"
             ]
            ],
            "type": "surface"
           }
          ],
          "table": [
           {
            "cells": {
             "fill": {
              "color": "#EBF0F8"
             },
             "line": {
              "color": "white"
             }
            },
            "header": {
             "fill": {
              "color": "#C8D4E3"
             },
             "line": {
              "color": "white"
             }
            },
            "type": "table"
           }
          ]
         },
         "layout": {
          "annotationdefaults": {
           "arrowcolor": "#2a3f5f",
           "arrowhead": 0,
           "arrowwidth": 1
          },
          "autotypenumbers": "strict",
          "coloraxis": {
           "colorbar": {
            "outlinewidth": 0,
            "ticks": ""
           }
          },
          "colorscale": {
           "diverging": [
            [
             0,
             "#8e0152"
            ],
            [
             0.1,
             "#c51b7d"
            ],
            [
             0.2,
             "#de77ae"
            ],
            [
             0.3,
             "#f1b6da"
            ],
            [
             0.4,
             "#fde0ef"
            ],
            [
             0.5,
             "#f7f7f7"
            ],
            [
             0.6,
             "#e6f5d0"
            ],
            [
             0.7,
             "#b8e186"
            ],
            [
             0.8,
             "#7fbc41"
            ],
            [
             0.9,
             "#4d9221"
            ],
            [
             1,
             "#276419"
            ]
           ],
           "sequential": [
            [
             0,
             "#0d0887"
            ],
            [
             0.1111111111111111,
             "#46039f"
            ],
            [
             0.2222222222222222,
             "#7201a8"
            ],
            [
             0.3333333333333333,
             "#9c179e"
            ],
            [
             0.4444444444444444,
             "#bd3786"
            ],
            [
             0.5555555555555556,
             "#d8576b"
            ],
            [
             0.6666666666666666,
             "#ed7953"
            ],
            [
             0.7777777777777778,
             "#fb9f3a"
            ],
            [
             0.8888888888888888,
             "#fdca26"
            ],
            [
             1,
             "#f0f921"
            ]
           ],
           "sequentialminus": [
            [
             0,
             "#0d0887"
            ],
            [
             0.1111111111111111,
             "#46039f"
            ],
            [
             0.2222222222222222,
             "#7201a8"
            ],
            [
             0.3333333333333333,
             "#9c179e"
            ],
            [
             0.4444444444444444,
             "#bd3786"
            ],
            [
             0.5555555555555556,
             "#d8576b"
            ],
            [
             0.6666666666666666,
             "#ed7953"
            ],
            [
             0.7777777777777778,
             "#fb9f3a"
            ],
            [
             0.8888888888888888,
             "#fdca26"
            ],
            [
             1,
             "#f0f921"
            ]
           ]
          },
          "colorway": [
           "#636efa",
           "#EF553B",
           "#00cc96",
           "#ab63fa",
           "#FFA15A",
           "#19d3f3",
           "#FF6692",
           "#B6E880",
           "#FF97FF",
           "#FECB52"
          ],
          "font": {
           "color": "#2a3f5f"
          },
          "geo": {
           "bgcolor": "white",
           "lakecolor": "white",
           "landcolor": "white",
           "showlakes": true,
           "showland": true,
           "subunitcolor": "#C8D4E3"
          },
          "hoverlabel": {
           "align": "left"
          },
          "hovermode": "closest",
          "mapbox": {
           "style": "light"
          },
          "paper_bgcolor": "white",
          "plot_bgcolor": "white",
          "polar": {
           "angularaxis": {
            "gridcolor": "#EBF0F8",
            "linecolor": "#EBF0F8",
            "ticks": ""
           },
           "bgcolor": "white",
           "radialaxis": {
            "gridcolor": "#EBF0F8",
            "linecolor": "#EBF0F8",
            "ticks": ""
           }
          },
          "scene": {
           "xaxis": {
            "backgroundcolor": "white",
            "gridcolor": "#DFE8F3",
            "gridwidth": 2,
            "linecolor": "#EBF0F8",
            "showbackground": true,
            "ticks": "",
            "zerolinecolor": "#EBF0F8"
           },
           "yaxis": {
            "backgroundcolor": "white",
            "gridcolor": "#DFE8F3",
            "gridwidth": 2,
            "linecolor": "#EBF0F8",
            "showbackground": true,
            "ticks": "",
            "zerolinecolor": "#EBF0F8"
           },
           "zaxis": {
            "backgroundcolor": "white",
            "gridcolor": "#DFE8F3",
            "gridwidth": 2,
            "linecolor": "#EBF0F8",
            "showbackground": true,
            "ticks": "",
            "zerolinecolor": "#EBF0F8"
           }
          },
          "shapedefaults": {
           "line": {
            "color": "#2a3f5f"
           }
          },
          "ternary": {
           "aaxis": {
            "gridcolor": "#DFE8F3",
            "linecolor": "#A2B1C6",
            "ticks": ""
           },
           "baxis": {
            "gridcolor": "#DFE8F3",
            "linecolor": "#A2B1C6",
            "ticks": ""
           },
           "bgcolor": "white",
           "caxis": {
            "gridcolor": "#DFE8F3",
            "linecolor": "#A2B1C6",
            "ticks": ""
           }
          },
          "title": {
           "x": 0.05
          },
          "xaxis": {
           "automargin": true,
           "gridcolor": "#EBF0F8",
           "linecolor": "#EBF0F8",
           "ticks": "",
           "title": {
            "standoff": 15
           },
           "zerolinecolor": "#EBF0F8",
           "zerolinewidth": 2
          },
          "yaxis": {
           "automargin": true,
           "gridcolor": "#EBF0F8",
           "linecolor": "#EBF0F8",
           "ticks": "",
           "title": {
            "standoff": 15
           },
           "zerolinecolor": "#EBF0F8",
           "zerolinewidth": 2
          }
         }
        },
        "title": {
         "text": "Pronóstico de Horas Extra - HR"
        },
        "xaxis": {
         "title": {
          "text": "Fecha"
         }
        },
        "yaxis": {
         "title": {
          "text": "Horas Extra"
         }
        }
       }
      }
     },
     "metadata": {},
     "output_type": "display_data"
    },
    {
     "name": "stdout",
     "output_type": "stream",
     "text": [
      "Visualización generada para HR\n"
     ]
    },
    {
     "data": {
      "application/vnd.plotly.v1+json": {
       "config": {
        "plotlyServerURL": "https://plot.ly"
       },
       "data": [
        {
         "customdata": {
          "bdata": "FbIj4A5tH0AAAAAAAAAAAE2L8qCAni9AEvrBHqAZG0AAAAAAAAAAAEyvQUDJdC1A2FNo9cQlGkAAAAAAAAAAAC7clKvb+ixABB4gEa96GUAAAAAAAAAAAETBcLlQpSxAu4HRF5A7G0AAAAAAAAAAACBzyTzBhS1A5dTAqZv/GUAAAAAAAAAAALUcwQXH5yxAbhAAzWSeGkAAAAAAAAAAAHq6YJcrNy1A+WoKVfLDGUAAAAAAAAAAAL/nZVvyySxAISB5kxFmHkAAAAAAAAAAAFNCnfoBGy9A8dF7CKBnGkAAAAAAAAAAADubHjXJGy1AO7Fag634G0AAAAAAAAAAAOAKjvJP5C1Akq1OR+cuF0AAAAAAAAAAAAwJiNRsfytAr7iMcJ0SF0AAAAAAAAAAAJoOJ+lHcStAGlYFVZsGGkAAAAAAAAAAAFBdY9tG6yxAyhGtb7aaH0AAAAAAAAAAACg7t2hUtS9Atac2azJGFkAAAAAAAAAAAB0GfGYSCytAzPcPdHLuGkAAAAAAAAAAACiu6GoyXy1ApCmsEFfKH0AAAAAAAAAAABTHNrkkzS9Ani/z/S4rHkAAAAAAAAAAABJK2q+Q/S5A6PDqkbYfG0AAAAAAAAAAALYq1nnUdy1A2A8JQcKDHEAAAAAAAAAAAC46ZVHaKS5AFyWsWPKlGUAAAAAAAAAAAM7ENl3yuixA7MXjdIiYI0BMnRggeoT9Pxc84tJAwDFAJKA0ZqU2HEAAAAAAAAAAAFQC++NLAy5A",
          "dtype": "f8",
          "shape": "24, 3"
         },
         "hovertemplate": "<b>Fecha:</b> %{x}<br><b>Valor Real:</b> %{y:.1f}<br><b>Predicción:</b> %{customdata[0]:.1f}<br><b>IC Inferior:</b> %{customdata[1]:.1f}<br><b>IC Superior:</b> %{customdata[2]:.1f}<extra></extra>",
         "line": {
          "color": "blue"
         },
         "mode": "markers+lines",
         "name": "Datos Históricos",
         "type": "scatter",
         "x": [
          "2024-12-15T00:00:00.000000000",
          "2024-12-22T00:00:00.000000000",
          "2024-12-29T00:00:00.000000000",
          "2025-01-05T00:00:00.000000000",
          "2025-01-12T00:00:00.000000000",
          "2025-01-19T00:00:00.000000000",
          "2025-01-26T00:00:00.000000000",
          "2025-02-02T00:00:00.000000000",
          "2025-02-09T00:00:00.000000000",
          "2025-02-16T00:00:00.000000000",
          "2025-02-23T00:00:00.000000000",
          "2025-03-02T00:00:00.000000000",
          "2025-03-09T00:00:00.000000000",
          "2025-03-16T00:00:00.000000000",
          "2025-03-23T00:00:00.000000000",
          "2025-03-30T00:00:00.000000000",
          "2025-04-06T00:00:00.000000000",
          "2025-04-13T00:00:00.000000000",
          "2025-04-20T00:00:00.000000000",
          "2025-04-27T00:00:00.000000000",
          "2025-05-04T00:00:00.000000000",
          "2025-05-11T00:00:00.000000000",
          "2025-05-18T00:00:00.000000000",
          "2025-05-25T00:00:00.000000000"
         ],
         "y": {
          "bdata": "ZmZmZmZmEEAzMzMzMzP7P+xRuB6F6xNA9ihcj8L1HEDhehSuR+EXQBSuR+F6FBpAXI/C9ShcFEAVrkfhepQmQK5H4XoUrhtArkfhehQuIEAzMzMzMzP3P5qZmZmZmbk/pHA9CtejEEA+CtejcD0pQJmZmZmZmfE/PgrXo3A9E0BmZmZmZmYpQNejcD0KVydANDMzMzMzHEA+CtejcD0fQML1KFyPwhBAuB6F61E4NkBSuB6F69EkQBSuR+F6FPI/",
          "dtype": "f8"
         }
        },
        {
         "customdata": {
          "bdata": "AAAAAAAAAABNi/KggJ4vQAAAAAAAAAAATK9BQMl0LUAAAAAAAAAAAC7clKvb+ixAAAAAAAAAAABEwXC5UKUsQAAAAAAAAAAAIHPJPMGFLUAAAAAAAAAAALUcwQXH5yxAAAAAAAAAAAB6umCXKzctQAAAAAAAAAAAv+dlW/LJLEAAAAAAAAAAAFNCnfoBGy9AAAAAAAAAAAA7mx41yRstQAAAAAAAAAAA4AqO8k/kLUAAAAAAAAAAAAwJiNRsfytAAAAAAAAAAACaDifpR3ErQAAAAAAAAAAAUF1j20brLEAAAAAAAAAAACg7t2hUtS9AAAAAAAAAAAAdBnxmEgsrQAAAAAAAAAAAKK7oajJfLUAAAAAAAAAAABTHNrkkzS9AAAAAAAAAAAASStqvkP0uQAAAAAAAAAAAtirWedR3LUAAAAAAAAAAAC46ZVHaKS5AAAAAAAAAAADOxDZd8rosQEydGCB6hP0/Fzzi0kDAMUAAAAAAAAAAAFQC++NLAy5AAAAAAAAAAAAY5d15S8wrQAAAAAAAAAAAacc8/e0xLkAAAAAAAAAAAGnHPP3tMS5AAAAAAAAAAABpxzz97TEuQA==",
          "dtype": "f8",
          "shape": "28, 2"
         },
         "hovertemplate": "<b>Fecha:</b> %{x}<br><b>Predicción:</b> %{y:.1f}<br><b>IC Inferior:</b> %{customdata[0]:.1f}<br><b>IC Superior:</b> %{customdata[1]:.1f}<extra></extra>",
         "line": {
          "color": "red"
         },
         "mode": "lines",
         "name": "Predicción",
         "type": "scatter",
         "x": [
          "2024-12-15T00:00:00.000000000",
          "2024-12-22T00:00:00.000000000",
          "2024-12-29T00:00:00.000000000",
          "2025-01-05T00:00:00.000000000",
          "2025-01-12T00:00:00.000000000",
          "2025-01-19T00:00:00.000000000",
          "2025-01-26T00:00:00.000000000",
          "2025-02-02T00:00:00.000000000",
          "2025-02-09T00:00:00.000000000",
          "2025-02-16T00:00:00.000000000",
          "2025-02-23T00:00:00.000000000",
          "2025-03-02T00:00:00.000000000",
          "2025-03-09T00:00:00.000000000",
          "2025-03-16T00:00:00.000000000",
          "2025-03-23T00:00:00.000000000",
          "2025-03-30T00:00:00.000000000",
          "2025-04-06T00:00:00.000000000",
          "2025-04-13T00:00:00.000000000",
          "2025-04-20T00:00:00.000000000",
          "2025-04-27T00:00:00.000000000",
          "2025-05-04T00:00:00.000000000",
          "2025-05-11T00:00:00.000000000",
          "2025-05-18T00:00:00.000000000",
          "2025-05-25T00:00:00.000000000",
          "2025-06-01T00:00:00.000000000",
          "2025-06-08T00:00:00.000000000",
          "2025-06-15T00:00:00.000000000",
          "2025-06-22T00:00:00.000000000"
         ],
         "y": {
          "bdata": "FbIj4A5tH0AS+sEeoBkbQNhTaPXEJRpABB4gEa96GUC7gdEXkDsbQOXUwKmb/xlAbhAAzWSeGkD5agpV8sMZQCEgeZMRZh5A8dF7CKBnGkA7sVqDrfgbQJKtTkfnLhdAr7iMcJ0SF0AaVgVVmwYaQMoRrW+2mh9Atac2azJGFkDM9w90cu4aQKQprBBXyh9Ani/z/S4rHkDo8OqRth8bQNgPCUHCgxxAFyWsWPKlGUDsxeN0iJgjQCSgNGalNhxArGX6kaTIF0A8NP7uJRAcQDw0/u4lEBxAPDT+7iUQHEA=",
          "dtype": "f8"
         }
        },
        {
         "fill": "toself",
         "fillcolor": "rgba(211,211,211,0.3)",
         "hoverinfo": "skip",
         "line": {
          "color": "rgba(255,255,255,0)"
         },
         "name": "Intervalo de Confianza 95%",
         "showlegend": true,
         "type": "scatter",
         "x": [
          "2024-12-15T00:00:00",
          "2024-12-22T00:00:00",
          "2024-12-29T00:00:00",
          "2025-01-05T00:00:00",
          "2025-01-12T00:00:00",
          "2025-01-19T00:00:00",
          "2025-01-26T00:00:00",
          "2025-02-02T00:00:00",
          "2025-02-09T00:00:00",
          "2025-02-16T00:00:00",
          "2025-02-23T00:00:00",
          "2025-03-02T00:00:00",
          "2025-03-09T00:00:00",
          "2025-03-16T00:00:00",
          "2025-03-23T00:00:00",
          "2025-03-30T00:00:00",
          "2025-04-06T00:00:00",
          "2025-04-13T00:00:00",
          "2025-04-20T00:00:00",
          "2025-04-27T00:00:00",
          "2025-05-04T00:00:00",
          "2025-05-11T00:00:00",
          "2025-05-18T00:00:00",
          "2025-05-25T00:00:00",
          "2025-06-01T00:00:00",
          "2025-06-08T00:00:00",
          "2025-06-15T00:00:00",
          "2025-06-22T00:00:00",
          "2025-06-22T00:00:00",
          "2025-06-15T00:00:00",
          "2025-06-08T00:00:00",
          "2025-06-01T00:00:00",
          "2025-05-25T00:00:00",
          "2025-05-18T00:00:00",
          "2025-05-11T00:00:00",
          "2025-05-04T00:00:00",
          "2025-04-27T00:00:00",
          "2025-04-20T00:00:00",
          "2025-04-13T00:00:00",
          "2025-04-06T00:00:00",
          "2025-03-30T00:00:00",
          "2025-03-23T00:00:00",
          "2025-03-16T00:00:00",
          "2025-03-09T00:00:00",
          "2025-03-02T00:00:00",
          "2025-02-23T00:00:00",
          "2025-02-16T00:00:00",
          "2025-02-09T00:00:00",
          "2025-02-02T00:00:00",
          "2025-01-26T00:00:00",
          "2025-01-19T00:00:00",
          "2025-01-12T00:00:00",
          "2025-01-05T00:00:00",
          "2024-12-29T00:00:00",
          "2024-12-22T00:00:00",
          "2024-12-15T00:00:00"
         ],
         "y": [
          15.809575109107437,
          14.728097923296126,
          14.489957200929066,
          14.322881503118545,
          14.761239909735707,
          14.452690296004542,
          14.607754450376195,
          14.394427162351233,
          15.552749473282494,
          14.554269466386918,
          14.945922450865908,
          13.748877183538319,
          13.721251760499673,
          14.45952497089334,
          15.854159614913058,
          13.521624758376726,
          14.685931530860287,
          15.900670803009724,
          15.495244498631141,
          14.734042937653935,
          15.08174375878033,
          14.365130341468468,
          17.75098913214978,
          15.00643837393833,
          13.899013336502819,
          15.09751883856707,
          15.09751883856707,
          15.09751883856707,
          0,
          0,
          0,
          0,
          0,
          1.8448430303340784,
          0,
          0,
          0,
          0,
          0,
          0,
          0,
          0,
          0,
          0,
          0,
          0,
          0,
          0,
          0,
          0,
          0,
          0,
          0,
          0,
          0,
          0
         ]
        }
       ],
       "layout": {
        "hovermode": "x unified",
        "legend": {
         "orientation": "h",
         "x": 0.5,
         "xanchor": "center",
         "y": -0.4,
         "yanchor": "bottom"
        },
        "showlegend": true,
        "template": {
         "data": {
          "bar": [
           {
            "error_x": {
             "color": "#2a3f5f"
            },
            "error_y": {
             "color": "#2a3f5f"
            },
            "marker": {
             "line": {
              "color": "white",
              "width": 0.5
             },
             "pattern": {
              "fillmode": "overlay",
              "size": 10,
              "solidity": 0.2
             }
            },
            "type": "bar"
           }
          ],
          "barpolar": [
           {
            "marker": {
             "line": {
              "color": "white",
              "width": 0.5
             },
             "pattern": {
              "fillmode": "overlay",
              "size": 10,
              "solidity": 0.2
             }
            },
            "type": "barpolar"
           }
          ],
          "carpet": [
           {
            "aaxis": {
             "endlinecolor": "#2a3f5f",
             "gridcolor": "#C8D4E3",
             "linecolor": "#C8D4E3",
             "minorgridcolor": "#C8D4E3",
             "startlinecolor": "#2a3f5f"
            },
            "baxis": {
             "endlinecolor": "#2a3f5f",
             "gridcolor": "#C8D4E3",
             "linecolor": "#C8D4E3",
             "minorgridcolor": "#C8D4E3",
             "startlinecolor": "#2a3f5f"
            },
            "type": "carpet"
           }
          ],
          "choropleth": [
           {
            "colorbar": {
             "outlinewidth": 0,
             "ticks": ""
            },
            "type": "choropleth"
           }
          ],
          "contour": [
           {
            "colorbar": {
             "outlinewidth": 0,
             "ticks": ""
            },
            "colorscale": [
             [
              0,
              "#0d0887"
             ],
             [
              0.1111111111111111,
              "#46039f"
             ],
             [
              0.2222222222222222,
              "#7201a8"
             ],
             [
              0.3333333333333333,
              "#9c179e"
             ],
             [
              0.4444444444444444,
              "#bd3786"
             ],
             [
              0.5555555555555556,
              "#d8576b"
             ],
             [
              0.6666666666666666,
              "#ed7953"
             ],
             [
              0.7777777777777778,
              "#fb9f3a"
             ],
             [
              0.8888888888888888,
              "#fdca26"
             ],
             [
              1,
              "#f0f921"
             ]
            ],
            "type": "contour"
           }
          ],
          "contourcarpet": [
           {
            "colorbar": {
             "outlinewidth": 0,
             "ticks": ""
            },
            "type": "contourcarpet"
           }
          ],
          "heatmap": [
           {
            "colorbar": {
             "outlinewidth": 0,
             "ticks": ""
            },
            "colorscale": [
             [
              0,
              "#0d0887"
             ],
             [
              0.1111111111111111,
              "#46039f"
             ],
             [
              0.2222222222222222,
              "#7201a8"
             ],
             [
              0.3333333333333333,
              "#9c179e"
             ],
             [
              0.4444444444444444,
              "#bd3786"
             ],
             [
              0.5555555555555556,
              "#d8576b"
             ],
             [
              0.6666666666666666,
              "#ed7953"
             ],
             [
              0.7777777777777778,
              "#fb9f3a"
             ],
             [
              0.8888888888888888,
              "#fdca26"
             ],
             [
              1,
              "#f0f921"
             ]
            ],
            "type": "heatmap"
           }
          ],
          "histogram": [
           {
            "marker": {
             "pattern": {
              "fillmode": "overlay",
              "size": 10,
              "solidity": 0.2
             }
            },
            "type": "histogram"
           }
          ],
          "histogram2d": [
           {
            "colorbar": {
             "outlinewidth": 0,
             "ticks": ""
            },
            "colorscale": [
             [
              0,
              "#0d0887"
             ],
             [
              0.1111111111111111,
              "#46039f"
             ],
             [
              0.2222222222222222,
              "#7201a8"
             ],
             [
              0.3333333333333333,
              "#9c179e"
             ],
             [
              0.4444444444444444,
              "#bd3786"
             ],
             [
              0.5555555555555556,
              "#d8576b"
             ],
             [
              0.6666666666666666,
              "#ed7953"
             ],
             [
              0.7777777777777778,
              "#fb9f3a"
             ],
             [
              0.8888888888888888,
              "#fdca26"
             ],
             [
              1,
              "#f0f921"
             ]
            ],
            "type": "histogram2d"
           }
          ],
          "histogram2dcontour": [
           {
            "colorbar": {
             "outlinewidth": 0,
             "ticks": ""
            },
            "colorscale": [
             [
              0,
              "#0d0887"
             ],
             [
              0.1111111111111111,
              "#46039f"
             ],
             [
              0.2222222222222222,
              "#7201a8"
             ],
             [
              0.3333333333333333,
              "#9c179e"
             ],
             [
              0.4444444444444444,
              "#bd3786"
             ],
             [
              0.5555555555555556,
              "#d8576b"
             ],
             [
              0.6666666666666666,
              "#ed7953"
             ],
             [
              0.7777777777777778,
              "#fb9f3a"
             ],
             [
              0.8888888888888888,
              "#fdca26"
             ],
             [
              1,
              "#f0f921"
             ]
            ],
            "type": "histogram2dcontour"
           }
          ],
          "mesh3d": [
           {
            "colorbar": {
             "outlinewidth": 0,
             "ticks": ""
            },
            "type": "mesh3d"
           }
          ],
          "parcoords": [
           {
            "line": {
             "colorbar": {
              "outlinewidth": 0,
              "ticks": ""
             }
            },
            "type": "parcoords"
           }
          ],
          "pie": [
           {
            "automargin": true,
            "type": "pie"
           }
          ],
          "scatter": [
           {
            "fillpattern": {
             "fillmode": "overlay",
             "size": 10,
             "solidity": 0.2
            },
            "type": "scatter"
           }
          ],
          "scatter3d": [
           {
            "line": {
             "colorbar": {
              "outlinewidth": 0,
              "ticks": ""
             }
            },
            "marker": {
             "colorbar": {
              "outlinewidth": 0,
              "ticks": ""
             }
            },
            "type": "scatter3d"
           }
          ],
          "scattercarpet": [
           {
            "marker": {
             "colorbar": {
              "outlinewidth": 0,
              "ticks": ""
             }
            },
            "type": "scattercarpet"
           }
          ],
          "scattergeo": [
           {
            "marker": {
             "colorbar": {
              "outlinewidth": 0,
              "ticks": ""
             }
            },
            "type": "scattergeo"
           }
          ],
          "scattergl": [
           {
            "marker": {
             "colorbar": {
              "outlinewidth": 0,
              "ticks": ""
             }
            },
            "type": "scattergl"
           }
          ],
          "scattermap": [
           {
            "marker": {
             "colorbar": {
              "outlinewidth": 0,
              "ticks": ""
             }
            },
            "type": "scattermap"
           }
          ],
          "scattermapbox": [
           {
            "marker": {
             "colorbar": {
              "outlinewidth": 0,
              "ticks": ""
             }
            },
            "type": "scattermapbox"
           }
          ],
          "scatterpolar": [
           {
            "marker": {
             "colorbar": {
              "outlinewidth": 0,
              "ticks": ""
             }
            },
            "type": "scatterpolar"
           }
          ],
          "scatterpolargl": [
           {
            "marker": {
             "colorbar": {
              "outlinewidth": 0,
              "ticks": ""
             }
            },
            "type": "scatterpolargl"
           }
          ],
          "scatterternary": [
           {
            "marker": {
             "colorbar": {
              "outlinewidth": 0,
              "ticks": ""
             }
            },
            "type": "scatterternary"
           }
          ],
          "surface": [
           {
            "colorbar": {
             "outlinewidth": 0,
             "ticks": ""
            },
            "colorscale": [
             [
              0,
              "#0d0887"
             ],
             [
              0.1111111111111111,
              "#46039f"
             ],
             [
              0.2222222222222222,
              "#7201a8"
             ],
             [
              0.3333333333333333,
              "#9c179e"
             ],
             [
              0.4444444444444444,
              "#bd3786"
             ],
             [
              0.5555555555555556,
              "#d8576b"
             ],
             [
              0.6666666666666666,
              "#ed7953"
             ],
             [
              0.7777777777777778,
              "#fb9f3a"
             ],
             [
              0.8888888888888888,
              "#fdca26"
             ],
             [
              1,
              "#f0f921"
             ]
            ],
            "type": "surface"
           }
          ],
          "table": [
           {
            "cells": {
             "fill": {
              "color": "#EBF0F8"
             },
             "line": {
              "color": "white"
             }
            },
            "header": {
             "fill": {
              "color": "#C8D4E3"
             },
             "line": {
              "color": "white"
             }
            },
            "type": "table"
           }
          ]
         },
         "layout": {
          "annotationdefaults": {
           "arrowcolor": "#2a3f5f",
           "arrowhead": 0,
           "arrowwidth": 1
          },
          "autotypenumbers": "strict",
          "coloraxis": {
           "colorbar": {
            "outlinewidth": 0,
            "ticks": ""
           }
          },
          "colorscale": {
           "diverging": [
            [
             0,
             "#8e0152"
            ],
            [
             0.1,
             "#c51b7d"
            ],
            [
             0.2,
             "#de77ae"
            ],
            [
             0.3,
             "#f1b6da"
            ],
            [
             0.4,
             "#fde0ef"
            ],
            [
             0.5,
             "#f7f7f7"
            ],
            [
             0.6,
             "#e6f5d0"
            ],
            [
             0.7,
             "#b8e186"
            ],
            [
             0.8,
             "#7fbc41"
            ],
            [
             0.9,
             "#4d9221"
            ],
            [
             1,
             "#276419"
            ]
           ],
           "sequential": [
            [
             0,
             "#0d0887"
            ],
            [
             0.1111111111111111,
             "#46039f"
            ],
            [
             0.2222222222222222,
             "#7201a8"
            ],
            [
             0.3333333333333333,
             "#9c179e"
            ],
            [
             0.4444444444444444,
             "#bd3786"
            ],
            [
             0.5555555555555556,
             "#d8576b"
            ],
            [
             0.6666666666666666,
             "#ed7953"
            ],
            [
             0.7777777777777778,
             "#fb9f3a"
            ],
            [
             0.8888888888888888,
             "#fdca26"
            ],
            [
             1,
             "#f0f921"
            ]
           ],
           "sequentialminus": [
            [
             0,
             "#0d0887"
            ],
            [
             0.1111111111111111,
             "#46039f"
            ],
            [
             0.2222222222222222,
             "#7201a8"
            ],
            [
             0.3333333333333333,
             "#9c179e"
            ],
            [
             0.4444444444444444,
             "#bd3786"
            ],
            [
             0.5555555555555556,
             "#d8576b"
            ],
            [
             0.6666666666666666,
             "#ed7953"
            ],
            [
             0.7777777777777778,
             "#fb9f3a"
            ],
            [
             0.8888888888888888,
             "#fdca26"
            ],
            [
             1,
             "#f0f921"
            ]
           ]
          },
          "colorway": [
           "#636efa",
           "#EF553B",
           "#00cc96",
           "#ab63fa",
           "#FFA15A",
           "#19d3f3",
           "#FF6692",
           "#B6E880",
           "#FF97FF",
           "#FECB52"
          ],
          "font": {
           "color": "#2a3f5f"
          },
          "geo": {
           "bgcolor": "white",
           "lakecolor": "white",
           "landcolor": "white",
           "showlakes": true,
           "showland": true,
           "subunitcolor": "#C8D4E3"
          },
          "hoverlabel": {
           "align": "left"
          },
          "hovermode": "closest",
          "mapbox": {
           "style": "light"
          },
          "paper_bgcolor": "white",
          "plot_bgcolor": "white",
          "polar": {
           "angularaxis": {
            "gridcolor": "#EBF0F8",
            "linecolor": "#EBF0F8",
            "ticks": ""
           },
           "bgcolor": "white",
           "radialaxis": {
            "gridcolor": "#EBF0F8",
            "linecolor": "#EBF0F8",
            "ticks": ""
           }
          },
          "scene": {
           "xaxis": {
            "backgroundcolor": "white",
            "gridcolor": "#DFE8F3",
            "gridwidth": 2,
            "linecolor": "#EBF0F8",
            "showbackground": true,
            "ticks": "",
            "zerolinecolor": "#EBF0F8"
           },
           "yaxis": {
            "backgroundcolor": "white",
            "gridcolor": "#DFE8F3",
            "gridwidth": 2,
            "linecolor": "#EBF0F8",
            "showbackground": true,
            "ticks": "",
            "zerolinecolor": "#EBF0F8"
           },
           "zaxis": {
            "backgroundcolor": "white",
            "gridcolor": "#DFE8F3",
            "gridwidth": 2,
            "linecolor": "#EBF0F8",
            "showbackground": true,
            "ticks": "",
            "zerolinecolor": "#EBF0F8"
           }
          },
          "shapedefaults": {
           "line": {
            "color": "#2a3f5f"
           }
          },
          "ternary": {
           "aaxis": {
            "gridcolor": "#DFE8F3",
            "linecolor": "#A2B1C6",
            "ticks": ""
           },
           "baxis": {
            "gridcolor": "#DFE8F3",
            "linecolor": "#A2B1C6",
            "ticks": ""
           },
           "bgcolor": "white",
           "caxis": {
            "gridcolor": "#DFE8F3",
            "linecolor": "#A2B1C6",
            "ticks": ""
           }
          },
          "title": {
           "x": 0.05
          },
          "xaxis": {
           "automargin": true,
           "gridcolor": "#EBF0F8",
           "linecolor": "#EBF0F8",
           "ticks": "",
           "title": {
            "standoff": 15
           },
           "zerolinecolor": "#EBF0F8",
           "zerolinewidth": 2
          },
          "yaxis": {
           "automargin": true,
           "gridcolor": "#EBF0F8",
           "linecolor": "#EBF0F8",
           "ticks": "",
           "title": {
            "standoff": 15
           },
           "zerolinecolor": "#EBF0F8",
           "zerolinewidth": 2
          }
         }
        },
        "title": {
         "text": "Pronóstico de Horas Extra - IT"
        },
        "xaxis": {
         "title": {
          "text": "Fecha"
         }
        },
        "yaxis": {
         "title": {
          "text": "Horas Extra"
         }
        }
       }
      }
     },
     "metadata": {},
     "output_type": "display_data"
    },
    {
     "name": "stdout",
     "output_type": "stream",
     "text": [
      "Visualización generada para IT\n"
     ]
    },
    {
     "data": {
      "application/vnd.plotly.v1+json": {
       "config": {
        "plotlyServerURL": "https://plot.ly"
       },
       "data": [
        {
         "customdata": {
          "bdata": "w5rJdA+7FUAAAAAAAAAAAKacVdhRnyhArwx2whKvFUAAAAAAAAAAAJzVK39TmShAZCfSie2kEkAAAAAAAAAAAPbi2eJAFCdAEG8iTKGoHEBwCA0E0VDSP8wGAsQaFixAwEN7p9+qEkAAAAAAAAAAACRxrvE5FydA6FN4HdigGkAAAAAAAAAAADj5rCw2EitAYQ6cCnV8HEAA+03XGRzPP3XWPqMEACxAPM458aMIHUAw+4JV+1DYP2K2jRYcRixAfD1/46ssHEBg3rPz9CLFPwJusA8g2CtArjVRiS6UF0AAAAAAAAAAABxqmWLhiylAq2TGf3zyFkAAAAAAAAAAAJoB1F0IOylAsWfQ1JjCGkAAAAAAAAAAAB0DWYgWIytAS4qU/UUOIUA02B393mP6P5BZhRsQ0C5Aqmw6jVTWFUAAAAAAAAAAAJoFjmT0rChAO38+gQvQGkAAAAAAAAAAAOIOkN7PKStALMRMEJUgGUAAAAAAAAAAAFoxF6YUUipAE3fFDyCJF0AAAAAAAAAAAM6K0yVahilAuIEIDoq6E0AAAAAAAAAAACAQ9SQPnydA3pWG7JdyEkAAAAAAAAAAADQaNBQW+yZAOkUzHCP6HEAQaxoF7mjXP+JxCqzbPixA3lI0apJpIUDMHBxiQj79PyIiJYhcKy9AInSigfHPEUAAAAAAAAAAAFYJwt7CqSZAOKYZNoRYF0AAAAAAAAAAAGCi/TgMbilAIH6BDsUMGEAAAAAAAAAAAFSOMaUsyClA",
          "dtype": "f8",
          "shape": "24, 3"
         },
         "hovertemplate": "<b>Fecha:</b> %{x}<br><b>Valor Real:</b> %{y:.1f}<br><b>Predicción:</b> %{customdata[0]:.1f}<br><b>IC Inferior:</b> %{customdata[1]:.1f}<br><b>IC Superior:</b> %{customdata[2]:.1f}<extra></extra>",
         "line": {
          "color": "blue"
         },
         "mode": "markers+lines",
         "name": "Datos Históricos",
         "type": "scatter",
         "x": [
          "2024-12-15T00:00:00.000000000",
          "2024-12-22T00:00:00.000000000",
          "2024-12-29T00:00:00.000000000",
          "2025-01-05T00:00:00.000000000",
          "2025-01-12T00:00:00.000000000",
          "2025-01-19T00:00:00.000000000",
          "2025-01-26T00:00:00.000000000",
          "2025-02-02T00:00:00.000000000",
          "2025-02-09T00:00:00.000000000",
          "2025-02-16T00:00:00.000000000",
          "2025-02-23T00:00:00.000000000",
          "2025-03-02T00:00:00.000000000",
          "2025-03-09T00:00:00.000000000",
          "2025-03-16T00:00:00.000000000",
          "2025-03-23T00:00:00.000000000",
          "2025-03-30T00:00:00.000000000",
          "2025-04-06T00:00:00.000000000",
          "2025-04-13T00:00:00.000000000",
          "2025-04-20T00:00:00.000000000",
          "2025-04-27T00:00:00.000000000",
          "2025-05-04T00:00:00.000000000",
          "2025-05-11T00:00:00.000000000",
          "2025-05-18T00:00:00.000000000",
          "2025-05-25T00:00:00.000000000"
         ],
         "y": {
          "bdata": "Fa5H4XoUHUAK16NwPQoSQBWuR+F6FB5ArkfhehSu7z/C9Shcj8IWQLgehetRuCJAmpmZmZmZJUBSuB6F61EkQClcj8L1KBdASOF6FK5HEEBdj8L1KFwfQOF6FK5H4S5AuB6F61G4GEBxPQrXo3AeQFK4HoXrUR1AzczMzMzMF0DhehSuR+EAQAAAAAAAAAAAZmZmZmZmIkCamZmZmZkxQHE9CtejcA1AuB6F61G4EUDNzMzMzMwZQB+F61G4HgdA",
          "dtype": "f8"
         }
        },
        {
         "customdata": {
          "bdata": "AAAAAAAAAACmnFXYUZ8oQAAAAAAAAAAAnNUrf1OZKEAAAAAAAAAAAPbi2eJAFCdAcAgNBNFQ0j/MBgLEGhYsQAAAAAAAAAAAJHGu8TkXJ0AAAAAAAAAAADj5rCw2EitAAPtN1xkczz911j6jBAAsQDD7glX7UNg/YraNFhxGLEBg3rPz9CLFPwJusA8g2CtAAAAAAAAAAAAcapli4YspQAAAAAAAAAAAmgHUXQg7KUAAAAAAAAAAAB0DWYgWIytANNgd/d5j+j+QWYUbENAuQAAAAAAAAAAAmgWOZPSsKEAAAAAAAAAAAOIOkN7PKStAAAAAAAAAAABaMRemFFIqQAAAAAAAAAAAzorTJVqGKUAAAAAAAAAAACAQ9SQPnydAAAAAAAAAAAA0GjQUFvsmQBBrGgXuaNc/4nEKrNs+LEDMHBxiQj79PyIiJYhcKy9AAAAAAAAAAABWCcLewqkmQAAAAAAAAAAAYKL9OAxuKUAAAAAAAAAAAFSOMaUsyClAAAAAAAAAAACUwA9yQXMnQAAAAAAAAAAAIlpdXnKxKUAAAAAAAAAAACJaXV5ysSlAAAAAAAAAAAAiWl1ecrEpQA==",
          "dtype": "f8",
          "shape": "28, 2"
         },
         "hovertemplate": "<b>Fecha:</b> %{x}<br><b>Predicción:</b> %{y:.1f}<br><b>IC Inferior:</b> %{customdata[0]:.1f}<br><b>IC Superior:</b> %{customdata[1]:.1f}<extra></extra>",
         "line": {
          "color": "red"
         },
         "mode": "lines",
         "name": "Predicción",
         "type": "scatter",
         "x": [
          "2024-12-15T00:00:00.000000000",
          "2024-12-22T00:00:00.000000000",
          "2024-12-29T00:00:00.000000000",
          "2025-01-05T00:00:00.000000000",
          "2025-01-12T00:00:00.000000000",
          "2025-01-19T00:00:00.000000000",
          "2025-01-26T00:00:00.000000000",
          "2025-02-02T00:00:00.000000000",
          "2025-02-09T00:00:00.000000000",
          "2025-02-16T00:00:00.000000000",
          "2025-02-23T00:00:00.000000000",
          "2025-03-02T00:00:00.000000000",
          "2025-03-09T00:00:00.000000000",
          "2025-03-16T00:00:00.000000000",
          "2025-03-23T00:00:00.000000000",
          "2025-03-30T00:00:00.000000000",
          "2025-04-06T00:00:00.000000000",
          "2025-04-13T00:00:00.000000000",
          "2025-04-20T00:00:00.000000000",
          "2025-04-27T00:00:00.000000000",
          "2025-05-04T00:00:00.000000000",
          "2025-05-11T00:00:00.000000000",
          "2025-05-18T00:00:00.000000000",
          "2025-05-25T00:00:00.000000000",
          "2025-06-01T00:00:00.000000000",
          "2025-06-08T00:00:00.000000000",
          "2025-06-15T00:00:00.000000000",
          "2025-06-22T00:00:00.000000000"
         ],
         "y": {
          "bdata": "w5rJdA+7FUCvDHbCEq8VQGQn0ontpBJAEG8iTKGoHEDAQ3un36oSQOhTeB3YoBpAYQ6cCnV8HEA8zjnxowgdQHw9f+OrLBxArjVRiS6UF0CrZMZ/fPIWQLFn0NSYwhpAS4qU/UUOIUCqbDqNVNYVQDt/PoEL0BpALMRMEJUgGUATd8UPIIkXQLiBCA6KuhNA3pWG7JdyEkA6RTMcI/ocQN5SNGqSaSFAInSigfHPEUA4phk2hFgXQCB+gQ7FDBhAoOI9qO5iE0DGi5VoBdcWQMaLlWgF1xZAxouVaAXXFkA=",
          "dtype": "f8"
         }
        },
        {
         "fill": "toself",
         "fillcolor": "rgba(211,211,211,0.3)",
         "hoverinfo": "skip",
         "line": {
          "color": "rgba(255,255,255,0)"
         },
         "name": "Intervalo de Confianza 95%",
         "showlegend": true,
         "type": "scatter",
         "x": [
          "2024-12-15T00:00:00",
          "2024-12-22T00:00:00",
          "2024-12-29T00:00:00",
          "2025-01-05T00:00:00",
          "2025-01-12T00:00:00",
          "2025-01-19T00:00:00",
          "2025-01-26T00:00:00",
          "2025-02-02T00:00:00",
          "2025-02-09T00:00:00",
          "2025-02-16T00:00:00",
          "2025-02-23T00:00:00",
          "2025-03-02T00:00:00",
          "2025-03-09T00:00:00",
          "2025-03-16T00:00:00",
          "2025-03-23T00:00:00",
          "2025-03-30T00:00:00",
          "2025-04-06T00:00:00",
          "2025-04-13T00:00:00",
          "2025-04-20T00:00:00",
          "2025-04-27T00:00:00",
          "2025-05-04T00:00:00",
          "2025-05-11T00:00:00",
          "2025-05-18T00:00:00",
          "2025-05-25T00:00:00",
          "2025-06-01T00:00:00",
          "2025-06-08T00:00:00",
          "2025-06-15T00:00:00",
          "2025-06-22T00:00:00",
          "2025-06-22T00:00:00",
          "2025-06-15T00:00:00",
          "2025-06-08T00:00:00",
          "2025-06-01T00:00:00",
          "2025-05-25T00:00:00",
          "2025-05-18T00:00:00",
          "2025-05-11T00:00:00",
          "2025-05-04T00:00:00",
          "2025-04-27T00:00:00",
          "2025-04-20T00:00:00",
          "2025-04-13T00:00:00",
          "2025-04-06T00:00:00",
          "2025-03-30T00:00:00",
          "2025-03-23T00:00:00",
          "2025-03-16T00:00:00",
          "2025-03-09T00:00:00",
          "2025-03-02T00:00:00",
          "2025-02-23T00:00:00",
          "2025-02-16T00:00:00",
          "2025-02-09T00:00:00",
          "2025-02-02T00:00:00",
          "2025-01-26T00:00:00",
          "2025-01-19T00:00:00",
          "2025-01-12T00:00:00",
          "2025-01-05T00:00:00",
          "2024-12-29T00:00:00",
          "2024-12-22T00:00:00",
          "2024-12-15T00:00:00"
         ],
         "y": [
          12.311171303225205,
          12.299465154744034,
          11.539557541940194,
          14.043172955748922,
          11.545363953155693,
          13.53556956874364,
          14.000035382671948,
          14.136933045195466,
          13.922119608198958,
          12.773203927256922,
          12.615298206453009,
          13.568531285157912,
          15.40637289049917,
          12.337802069031387,
          13.581664042554113,
          13.160313787776136,
          12.762406522820495,
          11.810662417330661,
          11.490402823791648,
          14.122769714617736,
          15.584690336735608,
          11.33156486624345,
          12.714937001191345,
          12.890965616511643,
          11.725108684943088,
          12.84657568826248,
          12.84657568826248,
          12.84657568826248,
          0,
          0,
          0,
          0,
          0,
          0,
          0,
          1.8277000267424226,
          0.36577940462454794,
          0,
          0,
          0,
          0,
          0,
          0,
          1.649382580505983,
          0,
          0,
          0,
          0.16512929820577238,
          0.37994273520228017,
          0.2430450726787612,
          0,
          0,
          0.28618264575573615,
          0,
          0,
          0
         ]
        }
       ],
       "layout": {
        "hovermode": "x unified",
        "legend": {
         "orientation": "h",
         "x": 0.5,
         "xanchor": "center",
         "y": -0.4,
         "yanchor": "bottom"
        },
        "showlegend": true,
        "template": {
         "data": {
          "bar": [
           {
            "error_x": {
             "color": "#2a3f5f"
            },
            "error_y": {
             "color": "#2a3f5f"
            },
            "marker": {
             "line": {
              "color": "white",
              "width": 0.5
             },
             "pattern": {
              "fillmode": "overlay",
              "size": 10,
              "solidity": 0.2
             }
            },
            "type": "bar"
           }
          ],
          "barpolar": [
           {
            "marker": {
             "line": {
              "color": "white",
              "width": 0.5
             },
             "pattern": {
              "fillmode": "overlay",
              "size": 10,
              "solidity": 0.2
             }
            },
            "type": "barpolar"
           }
          ],
          "carpet": [
           {
            "aaxis": {
             "endlinecolor": "#2a3f5f",
             "gridcolor": "#C8D4E3",
             "linecolor": "#C8D4E3",
             "minorgridcolor": "#C8D4E3",
             "startlinecolor": "#2a3f5f"
            },
            "baxis": {
             "endlinecolor": "#2a3f5f",
             "gridcolor": "#C8D4E3",
             "linecolor": "#C8D4E3",
             "minorgridcolor": "#C8D4E3",
             "startlinecolor": "#2a3f5f"
            },
            "type": "carpet"
           }
          ],
          "choropleth": [
           {
            "colorbar": {
             "outlinewidth": 0,
             "ticks": ""
            },
            "type": "choropleth"
           }
          ],
          "contour": [
           {
            "colorbar": {
             "outlinewidth": 0,
             "ticks": ""
            },
            "colorscale": [
             [
              0,
              "#0d0887"
             ],
             [
              0.1111111111111111,
              "#46039f"
             ],
             [
              0.2222222222222222,
              "#7201a8"
             ],
             [
              0.3333333333333333,
              "#9c179e"
             ],
             [
              0.4444444444444444,
              "#bd3786"
             ],
             [
              0.5555555555555556,
              "#d8576b"
             ],
             [
              0.6666666666666666,
              "#ed7953"
             ],
             [
              0.7777777777777778,
              "#fb9f3a"
             ],
             [
              0.8888888888888888,
              "#fdca26"
             ],
             [
              1,
              "#f0f921"
             ]
            ],
            "type": "contour"
           }
          ],
          "contourcarpet": [
           {
            "colorbar": {
             "outlinewidth": 0,
             "ticks": ""
            },
            "type": "contourcarpet"
           }
          ],
          "heatmap": [
           {
            "colorbar": {
             "outlinewidth": 0,
             "ticks": ""
            },
            "colorscale": [
             [
              0,
              "#0d0887"
             ],
             [
              0.1111111111111111,
              "#46039f"
             ],
             [
              0.2222222222222222,
              "#7201a8"
             ],
             [
              0.3333333333333333,
              "#9c179e"
             ],
             [
              0.4444444444444444,
              "#bd3786"
             ],
             [
              0.5555555555555556,
              "#d8576b"
             ],
             [
              0.6666666666666666,
              "#ed7953"
             ],
             [
              0.7777777777777778,
              "#fb9f3a"
             ],
             [
              0.8888888888888888,
              "#fdca26"
             ],
             [
              1,
              "#f0f921"
             ]
            ],
            "type": "heatmap"
           }
          ],
          "histogram": [
           {
            "marker": {
             "pattern": {
              "fillmode": "overlay",
              "size": 10,
              "solidity": 0.2
             }
            },
            "type": "histogram"
           }
          ],
          "histogram2d": [
           {
            "colorbar": {
             "outlinewidth": 0,
             "ticks": ""
            },
            "colorscale": [
             [
              0,
              "#0d0887"
             ],
             [
              0.1111111111111111,
              "#46039f"
             ],
             [
              0.2222222222222222,
              "#7201a8"
             ],
             [
              0.3333333333333333,
              "#9c179e"
             ],
             [
              0.4444444444444444,
              "#bd3786"
             ],
             [
              0.5555555555555556,
              "#d8576b"
             ],
             [
              0.6666666666666666,
              "#ed7953"
             ],
             [
              0.7777777777777778,
              "#fb9f3a"
             ],
             [
              0.8888888888888888,
              "#fdca26"
             ],
             [
              1,
              "#f0f921"
             ]
            ],
            "type": "histogram2d"
           }
          ],
          "histogram2dcontour": [
           {
            "colorbar": {
             "outlinewidth": 0,
             "ticks": ""
            },
            "colorscale": [
             [
              0,
              "#0d0887"
             ],
             [
              0.1111111111111111,
              "#46039f"
             ],
             [
              0.2222222222222222,
              "#7201a8"
             ],
             [
              0.3333333333333333,
              "#9c179e"
             ],
             [
              0.4444444444444444,
              "#bd3786"
             ],
             [
              0.5555555555555556,
              "#d8576b"
             ],
             [
              0.6666666666666666,
              "#ed7953"
             ],
             [
              0.7777777777777778,
              "#fb9f3a"
             ],
             [
              0.8888888888888888,
              "#fdca26"
             ],
             [
              1,
              "#f0f921"
             ]
            ],
            "type": "histogram2dcontour"
           }
          ],
          "mesh3d": [
           {
            "colorbar": {
             "outlinewidth": 0,
             "ticks": ""
            },
            "type": "mesh3d"
           }
          ],
          "parcoords": [
           {
            "line": {
             "colorbar": {
              "outlinewidth": 0,
              "ticks": ""
             }
            },
            "type": "parcoords"
           }
          ],
          "pie": [
           {
            "automargin": true,
            "type": "pie"
           }
          ],
          "scatter": [
           {
            "fillpattern": {
             "fillmode": "overlay",
             "size": 10,
             "solidity": 0.2
            },
            "type": "scatter"
           }
          ],
          "scatter3d": [
           {
            "line": {
             "colorbar": {
              "outlinewidth": 0,
              "ticks": ""
             }
            },
            "marker": {
             "colorbar": {
              "outlinewidth": 0,
              "ticks": ""
             }
            },
            "type": "scatter3d"
           }
          ],
          "scattercarpet": [
           {
            "marker": {
             "colorbar": {
              "outlinewidth": 0,
              "ticks": ""
             }
            },
            "type": "scattercarpet"
           }
          ],
          "scattergeo": [
           {
            "marker": {
             "colorbar": {
              "outlinewidth": 0,
              "ticks": ""
             }
            },
            "type": "scattergeo"
           }
          ],
          "scattergl": [
           {
            "marker": {
             "colorbar": {
              "outlinewidth": 0,
              "ticks": ""
             }
            },
            "type": "scattergl"
           }
          ],
          "scattermap": [
           {
            "marker": {
             "colorbar": {
              "outlinewidth": 0,
              "ticks": ""
             }
            },
            "type": "scattermap"
           }
          ],
          "scattermapbox": [
           {
            "marker": {
             "colorbar": {
              "outlinewidth": 0,
              "ticks": ""
             }
            },
            "type": "scattermapbox"
           }
          ],
          "scatterpolar": [
           {
            "marker": {
             "colorbar": {
              "outlinewidth": 0,
              "ticks": ""
             }
            },
            "type": "scatterpolar"
           }
          ],
          "scatterpolargl": [
           {
            "marker": {
             "colorbar": {
              "outlinewidth": 0,
              "ticks": ""
             }
            },
            "type": "scatterpolargl"
           }
          ],
          "scatterternary": [
           {
            "marker": {
             "colorbar": {
              "outlinewidth": 0,
              "ticks": ""
             }
            },
            "type": "scatterternary"
           }
          ],
          "surface": [
           {
            "colorbar": {
             "outlinewidth": 0,
             "ticks": ""
            },
            "colorscale": [
             [
              0,
              "#0d0887"
             ],
             [
              0.1111111111111111,
              "#46039f"
             ],
             [
              0.2222222222222222,
              "#7201a8"
             ],
             [
              0.3333333333333333,
              "#9c179e"
             ],
             [
              0.4444444444444444,
              "#bd3786"
             ],
             [
              0.5555555555555556,
              "#d8576b"
             ],
             [
              0.6666666666666666,
              "#ed7953"
             ],
             [
              0.7777777777777778,
              "#fb9f3a"
             ],
             [
              0.8888888888888888,
              "#fdca26"
             ],
             [
              1,
              "#f0f921"
             ]
            ],
            "type": "surface"
           }
          ],
          "table": [
           {
            "cells": {
             "fill": {
              "color": "#EBF0F8"
             },
             "line": {
              "color": "white"
             }
            },
            "header": {
             "fill": {
              "color": "#C8D4E3"
             },
             "line": {
              "color": "white"
             }
            },
            "type": "table"
           }
          ]
         },
         "layout": {
          "annotationdefaults": {
           "arrowcolor": "#2a3f5f",
           "arrowhead": 0,
           "arrowwidth": 1
          },
          "autotypenumbers": "strict",
          "coloraxis": {
           "colorbar": {
            "outlinewidth": 0,
            "ticks": ""
           }
          },
          "colorscale": {
           "diverging": [
            [
             0,
             "#8e0152"
            ],
            [
             0.1,
             "#c51b7d"
            ],
            [
             0.2,
             "#de77ae"
            ],
            [
             0.3,
             "#f1b6da"
            ],
            [
             0.4,
             "#fde0ef"
            ],
            [
             0.5,
             "#f7f7f7"
            ],
            [
             0.6,
             "#e6f5d0"
            ],
            [
             0.7,
             "#b8e186"
            ],
            [
             0.8,
             "#7fbc41"
            ],
            [
             0.9,
             "#4d9221"
            ],
            [
             1,
             "#276419"
            ]
           ],
           "sequential": [
            [
             0,
             "#0d0887"
            ],
            [
             0.1111111111111111,
             "#46039f"
            ],
            [
             0.2222222222222222,
             "#7201a8"
            ],
            [
             0.3333333333333333,
             "#9c179e"
            ],
            [
             0.4444444444444444,
             "#bd3786"
            ],
            [
             0.5555555555555556,
             "#d8576b"
            ],
            [
             0.6666666666666666,
             "#ed7953"
            ],
            [
             0.7777777777777778,
             "#fb9f3a"
            ],
            [
             0.8888888888888888,
             "#fdca26"
            ],
            [
             1,
             "#f0f921"
            ]
           ],
           "sequentialminus": [
            [
             0,
             "#0d0887"
            ],
            [
             0.1111111111111111,
             "#46039f"
            ],
            [
             0.2222222222222222,
             "#7201a8"
            ],
            [
             0.3333333333333333,
             "#9c179e"
            ],
            [
             0.4444444444444444,
             "#bd3786"
            ],
            [
             0.5555555555555556,
             "#d8576b"
            ],
            [
             0.6666666666666666,
             "#ed7953"
            ],
            [
             0.7777777777777778,
             "#fb9f3a"
            ],
            [
             0.8888888888888888,
             "#fdca26"
            ],
            [
             1,
             "#f0f921"
            ]
           ]
          },
          "colorway": [
           "#636efa",
           "#EF553B",
           "#00cc96",
           "#ab63fa",
           "#FFA15A",
           "#19d3f3",
           "#FF6692",
           "#B6E880",
           "#FF97FF",
           "#FECB52"
          ],
          "font": {
           "color": "#2a3f5f"
          },
          "geo": {
           "bgcolor": "white",
           "lakecolor": "white",
           "landcolor": "white",
           "showlakes": true,
           "showland": true,
           "subunitcolor": "#C8D4E3"
          },
          "hoverlabel": {
           "align": "left"
          },
          "hovermode": "closest",
          "mapbox": {
           "style": "light"
          },
          "paper_bgcolor": "white",
          "plot_bgcolor": "white",
          "polar": {
           "angularaxis": {
            "gridcolor": "#EBF0F8",
            "linecolor": "#EBF0F8",
            "ticks": ""
           },
           "bgcolor": "white",
           "radialaxis": {
            "gridcolor": "#EBF0F8",
            "linecolor": "#EBF0F8",
            "ticks": ""
           }
          },
          "scene": {
           "xaxis": {
            "backgroundcolor": "white",
            "gridcolor": "#DFE8F3",
            "gridwidth": 2,
            "linecolor": "#EBF0F8",
            "showbackground": true,
            "ticks": "",
            "zerolinecolor": "#EBF0F8"
           },
           "yaxis": {
            "backgroundcolor": "white",
            "gridcolor": "#DFE8F3",
            "gridwidth": 2,
            "linecolor": "#EBF0F8",
            "showbackground": true,
            "ticks": "",
            "zerolinecolor": "#EBF0F8"
           },
           "zaxis": {
            "backgroundcolor": "white",
            "gridcolor": "#DFE8F3",
            "gridwidth": 2,
            "linecolor": "#EBF0F8",
            "showbackground": true,
            "ticks": "",
            "zerolinecolor": "#EBF0F8"
           }
          },
          "shapedefaults": {
           "line": {
            "color": "#2a3f5f"
           }
          },
          "ternary": {
           "aaxis": {
            "gridcolor": "#DFE8F3",
            "linecolor": "#A2B1C6",
            "ticks": ""
           },
           "baxis": {
            "gridcolor": "#DFE8F3",
            "linecolor": "#A2B1C6",
            "ticks": ""
           },
           "bgcolor": "white",
           "caxis": {
            "gridcolor": "#DFE8F3",
            "linecolor": "#A2B1C6",
            "ticks": ""
           }
          },
          "title": {
           "x": 0.05
          },
          "xaxis": {
           "automargin": true,
           "gridcolor": "#EBF0F8",
           "linecolor": "#EBF0F8",
           "ticks": "",
           "title": {
            "standoff": 15
           },
           "zerolinecolor": "#EBF0F8",
           "zerolinewidth": 2
          },
          "yaxis": {
           "automargin": true,
           "gridcolor": "#EBF0F8",
           "linecolor": "#EBF0F8",
           "ticks": "",
           "title": {
            "standoff": 15
           },
           "zerolinecolor": "#EBF0F8",
           "zerolinewidth": 2
          }
         }
        },
        "title": {
         "text": "Pronóstico de Horas Extra - Inventory"
        },
        "xaxis": {
         "title": {
          "text": "Fecha"
         }
        },
        "yaxis": {
         "title": {
          "text": "Horas Extra"
         }
        }
       }
      }
     },
     "metadata": {},
     "output_type": "display_data"
    },
    {
     "name": "stdout",
     "output_type": "stream",
     "text": [
      "Visualización generada para Inventory\n"
     ]
    },
    {
     "data": {
      "application/vnd.plotly.v1+json": {
       "config": {
        "plotlyServerURL": "https://plot.ly"
       },
       "data": [
        {
         "customdata": {
          "bdata": "W+yLzv63GEAAAAAAAAAAAALIA7LU5yxAW+yLzv63GEAAAAAAAAAAAALIA7LU5yxAW+yLzv63GEAAAAAAAAAAAALIA7LU5yxABgiwX1lrGEAAAAAAAAAAANjVlfqBwSxABgiwX1lrGEAAAAAAAAAAANjVlfqBwSxABgiwX1lrGEAAAAAAAAAAANjVlfqBwSxABgiwX1lrGEAAAAAAAAAAANjVlfqBwSxAJZHyI1FyGEAAAAAAAAAAAGgat9z9xCxAJZHyI1FyGEAAAAAAAAAAAGgat9z9xCxAJZHyI1FyGEAAAAAAAAAAAGgat9z9xCxAJZHyI1FyGEAAAAAAAAAAAGgat9z9xCxARBo16Eh5GEAAAAAAAAAAAPde2L55yCxARBo16Eh5GEAAAAAAAAAAAPde2L55yCxARBo16Eh5GEAAAAAAAAAAAPde2L55yCxARBo16Eh5GEAAAAAAAAAAAPde2L55yCxARBo16Eh5GEAAAAAAAAAAAPde2L55yCxAY6N3rECAGEAAAAAAAAAAAIaj+aD1yyxAY6N3rECAGEAAAAAAAAAAAIaj+aD1yyxAY6N3rECAGEAAAAAAAAAAAIaj+aD1yyxAY6N3rECAGEAAAAAAAAAAAIaj+aD1yyxAgiy6cDiHGEAAAAAAAAAAABboGoNxzyxAgiy6cDiHGEAAAAAAAAAAABboGoNxzyxAgiy6cDiHGEAAAAAAAAAAABboGoNxzyxAgiy6cDiHGEAAAAAAAAAAABboGoNxzyxA",
          "dtype": "f8",
          "shape": "24, 3"
         },
         "hovertemplate": "<b>Fecha:</b> %{x}<br><b>Valor Real:</b> %{y:.1f}<br><b>Predicción:</b> %{customdata[0]:.1f}<br><b>IC Inferior:</b> %{customdata[1]:.1f}<br><b>IC Superior:</b> %{customdata[2]:.1f}<extra></extra>",
         "line": {
          "color": "blue"
         },
         "mode": "markers+lines",
         "name": "Datos Históricos",
         "type": "scatter",
         "x": [
          "2024-12-15T00:00:00.000000000",
          "2024-12-22T00:00:00.000000000",
          "2024-12-29T00:00:00.000000000",
          "2025-01-05T00:00:00.000000000",
          "2025-01-12T00:00:00.000000000",
          "2025-01-19T00:00:00.000000000",
          "2025-01-26T00:00:00.000000000",
          "2025-02-02T00:00:00.000000000",
          "2025-02-09T00:00:00.000000000",
          "2025-02-16T00:00:00.000000000",
          "2025-02-23T00:00:00.000000000",
          "2025-03-02T00:00:00.000000000",
          "2025-03-09T00:00:00.000000000",
          "2025-03-16T00:00:00.000000000",
          "2025-03-23T00:00:00.000000000",
          "2025-03-30T00:00:00.000000000",
          "2025-04-06T00:00:00.000000000",
          "2025-04-13T00:00:00.000000000",
          "2025-04-20T00:00:00.000000000",
          "2025-04-27T00:00:00.000000000",
          "2025-05-04T00:00:00.000000000",
          "2025-05-11T00:00:00.000000000",
          "2025-05-18T00:00:00.000000000",
          "2025-05-25T00:00:00.000000000"
         ],
         "y": {
          "bdata": "uB6F61G4EUBSuB6F61EbQMzMzMzMzAxAFa5H4XoUCkAL16NwPQoLQOJ6FK5H4QRAzczMzMzMK0D2KFyPwvUXQOxRuB6F6xxAexSuR+F6F0DD9Shcj0ImQFyPwvUoXCpAmpmZmZmZEkCkcD0K16MfQHE9CtejcB1A9ihcj8L1+D8zMzMzMzMXQPYoXI/C9RBAmpmZmZmZMEDhehSuR+EYQB6F61G4HhdAZmZmZmZm8j9SuB6F61ERQAAAAAAAAAAA",
          "dtype": "f8"
         }
        },
        {
         "customdata": {
          "bdata": "AAAAAAAAAAACyAOy1OcsQAAAAAAAAAAAAsgDstTnLEAAAAAAAAAAAALIA7LU5yxAAAAAAAAAAADY1ZX6gcEsQAAAAAAAAAAA2NWV+oHBLEAAAAAAAAAAANjVlfqBwSxAAAAAAAAAAADY1ZX6gcEsQAAAAAAAAAAAaBq33P3ELEAAAAAAAAAAAGgat9z9xCxAAAAAAAAAAABoGrfc/cQsQAAAAAAAAAAAaBq33P3ELEAAAAAAAAAAAPde2L55yCxAAAAAAAAAAAD3Xti+ecgsQAAAAAAAAAAA917YvnnILEAAAAAAAAAAAPde2L55yCxAAAAAAAAAAAD3Xti+ecgsQAAAAAAAAAAAhqP5oPXLLEAAAAAAAAAAAIaj+aD1yyxAAAAAAAAAAACGo/mg9cssQAAAAAAAAAAAhqP5oPXLLEAAAAAAAAAAABboGoNxzyxAAAAAAAAAAAAW6BqDcc8sQAAAAAAAAAAAFugag3HPLEAAAAAAAAAAABboGoNxzyxAAAAAAAAAAACmLDxl7dIsQAAAAAAAAAAApiw8Ze3SLEAAAAAAAAAAAKYsPGXt0ixAAAAAAAAAAACmLDxl7dIsQA==",
          "dtype": "f8",
          "shape": "28, 2"
         },
         "hovertemplate": "<b>Fecha:</b> %{x}<br><b>Predicción:</b> %{y:.1f}<br><b>IC Inferior:</b> %{customdata[0]:.1f}<br><b>IC Superior:</b> %{customdata[1]:.1f}<extra></extra>",
         "line": {
          "color": "red"
         },
         "mode": "lines",
         "name": "Predicción",
         "type": "scatter",
         "x": [
          "2024-12-15T00:00:00.000000000",
          "2024-12-22T00:00:00.000000000",
          "2024-12-29T00:00:00.000000000",
          "2025-01-05T00:00:00.000000000",
          "2025-01-12T00:00:00.000000000",
          "2025-01-19T00:00:00.000000000",
          "2025-01-26T00:00:00.000000000",
          "2025-02-02T00:00:00.000000000",
          "2025-02-09T00:00:00.000000000",
          "2025-02-16T00:00:00.000000000",
          "2025-02-23T00:00:00.000000000",
          "2025-03-02T00:00:00.000000000",
          "2025-03-09T00:00:00.000000000",
          "2025-03-16T00:00:00.000000000",
          "2025-03-23T00:00:00.000000000",
          "2025-03-30T00:00:00.000000000",
          "2025-04-06T00:00:00.000000000",
          "2025-04-13T00:00:00.000000000",
          "2025-04-20T00:00:00.000000000",
          "2025-04-27T00:00:00.000000000",
          "2025-05-04T00:00:00.000000000",
          "2025-05-11T00:00:00.000000000",
          "2025-05-18T00:00:00.000000000",
          "2025-05-25T00:00:00.000000000",
          "2025-06-01T00:00:00.000000000",
          "2025-06-08T00:00:00.000000000",
          "2025-06-15T00:00:00.000000000",
          "2025-06-22T00:00:00.000000000"
         ],
         "y": {
          "bdata": "W+yLzv63GEBb7IvO/rcYQFvsi87+txhABgiwX1lrGEAGCLBfWWsYQAYIsF9ZaxhABgiwX1lrGEAlkfIjUXIYQCWR8iNRchhAJZHyI1FyGEAlkfIjUXIYQEQaNehIeRhARBo16Eh5GEBEGjXoSHkYQEQaNehIeRhARBo16Eh5GEBjo3esQIAYQGOjd6xAgBhAY6N3rECAGEBjo3esQIAYQIIsunA4hxhAgiy6cDiHGECCLLpwOIcYQIIsunA4hxhAobX8NDCOGEChtfw0MI4YQKG1/DQwjhhAobX8NDCOGEA=",
          "dtype": "f8"
         }
        },
        {
         "fill": "toself",
         "fillcolor": "rgba(211,211,211,0.3)",
         "hoverinfo": "skip",
         "line": {
          "color": "rgba(255,255,255,0)"
         },
         "name": "Intervalo de Confianza 95%",
         "showlegend": true,
         "type": "scatter",
         "x": [
          "2024-12-15T00:00:00",
          "2024-12-22T00:00:00",
          "2024-12-29T00:00:00",
          "2025-01-05T00:00:00",
          "2025-01-12T00:00:00",
          "2025-01-19T00:00:00",
          "2025-01-26T00:00:00",
          "2025-02-02T00:00:00",
          "2025-02-09T00:00:00",
          "2025-02-16T00:00:00",
          "2025-02-23T00:00:00",
          "2025-03-02T00:00:00",
          "2025-03-09T00:00:00",
          "2025-03-16T00:00:00",
          "2025-03-23T00:00:00",
          "2025-03-30T00:00:00",
          "2025-04-06T00:00:00",
          "2025-04-13T00:00:00",
          "2025-04-20T00:00:00",
          "2025-04-27T00:00:00",
          "2025-05-04T00:00:00",
          "2025-05-11T00:00:00",
          "2025-05-18T00:00:00",
          "2025-05-25T00:00:00",
          "2025-06-01T00:00:00",
          "2025-06-08T00:00:00",
          "2025-06-15T00:00:00",
          "2025-06-22T00:00:00",
          "2025-06-22T00:00:00",
          "2025-06-15T00:00:00",
          "2025-06-08T00:00:00",
          "2025-06-01T00:00:00",
          "2025-05-25T00:00:00",
          "2025-05-18T00:00:00",
          "2025-05-11T00:00:00",
          "2025-05-04T00:00:00",
          "2025-04-27T00:00:00",
          "2025-04-20T00:00:00",
          "2025-04-13T00:00:00",
          "2025-04-06T00:00:00",
          "2025-03-30T00:00:00",
          "2025-03-23T00:00:00",
          "2025-03-16T00:00:00",
          "2025-03-09T00:00:00",
          "2025-03-02T00:00:00",
          "2025-02-23T00:00:00",
          "2025-02-16T00:00:00",
          "2025-02-09T00:00:00",
          "2025-02-02T00:00:00",
          "2025-01-26T00:00:00",
          "2025-01-19T00:00:00",
          "2025-01-12T00:00:00",
          "2025-01-05T00:00:00",
          "2024-12-29T00:00:00",
          "2024-12-22T00:00:00",
          "2024-12-15T00:00:00"
         ],
         "y": [
          14.452794611894209,
          14.452794611894209,
          14.452794611894209,
          14.377944784918256,
          14.377944784918256,
          14.377944784918256,
          14.377944784918256,
          14.384749314643344,
          14.384749314643344,
          14.384749314643344,
          14.384749314643344,
          14.39155384436843,
          14.39155384436843,
          14.39155384436843,
          14.39155384436843,
          14.39155384436843,
          14.398358374093515,
          14.398358374093515,
          14.398358374093515,
          14.398358374093515,
          14.405162903818603,
          14.405162903818603,
          14.405162903818603,
          14.405162903818603,
          14.41196743354369,
          14.41196743354369,
          14.41196743354369,
          14.41196743354369,
          0,
          0,
          0,
          0,
          0,
          0,
          0,
          0,
          0,
          0,
          0,
          0,
          0,
          0,
          0,
          0,
          0,
          0,
          0,
          0,
          0,
          0,
          0,
          0,
          0,
          0,
          0,
          0
         ]
        }
       ],
       "layout": {
        "hovermode": "x unified",
        "legend": {
         "orientation": "h",
         "x": 0.5,
         "xanchor": "center",
         "y": -0.4,
         "yanchor": "bottom"
        },
        "showlegend": true,
        "template": {
         "data": {
          "bar": [
           {
            "error_x": {
             "color": "#2a3f5f"
            },
            "error_y": {
             "color": "#2a3f5f"
            },
            "marker": {
             "line": {
              "color": "white",
              "width": 0.5
             },
             "pattern": {
              "fillmode": "overlay",
              "size": 10,
              "solidity": 0.2
             }
            },
            "type": "bar"
           }
          ],
          "barpolar": [
           {
            "marker": {
             "line": {
              "color": "white",
              "width": 0.5
             },
             "pattern": {
              "fillmode": "overlay",
              "size": 10,
              "solidity": 0.2
             }
            },
            "type": "barpolar"
           }
          ],
          "carpet": [
           {
            "aaxis": {
             "endlinecolor": "#2a3f5f",
             "gridcolor": "#C8D4E3",
             "linecolor": "#C8D4E3",
             "minorgridcolor": "#C8D4E3",
             "startlinecolor": "#2a3f5f"
            },
            "baxis": {
             "endlinecolor": "#2a3f5f",
             "gridcolor": "#C8D4E3",
             "linecolor": "#C8D4E3",
             "minorgridcolor": "#C8D4E3",
             "startlinecolor": "#2a3f5f"
            },
            "type": "carpet"
           }
          ],
          "choropleth": [
           {
            "colorbar": {
             "outlinewidth": 0,
             "ticks": ""
            },
            "type": "choropleth"
           }
          ],
          "contour": [
           {
            "colorbar": {
             "outlinewidth": 0,
             "ticks": ""
            },
            "colorscale": [
             [
              0,
              "#0d0887"
             ],
             [
              0.1111111111111111,
              "#46039f"
             ],
             [
              0.2222222222222222,
              "#7201a8"
             ],
             [
              0.3333333333333333,
              "#9c179e"
             ],
             [
              0.4444444444444444,
              "#bd3786"
             ],
             [
              0.5555555555555556,
              "#d8576b"
             ],
             [
              0.6666666666666666,
              "#ed7953"
             ],
             [
              0.7777777777777778,
              "#fb9f3a"
             ],
             [
              0.8888888888888888,
              "#fdca26"
             ],
             [
              1,
              "#f0f921"
             ]
            ],
            "type": "contour"
           }
          ],
          "contourcarpet": [
           {
            "colorbar": {
             "outlinewidth": 0,
             "ticks": ""
            },
            "type": "contourcarpet"
           }
          ],
          "heatmap": [
           {
            "colorbar": {
             "outlinewidth": 0,
             "ticks": ""
            },
            "colorscale": [
             [
              0,
              "#0d0887"
             ],
             [
              0.1111111111111111,
              "#46039f"
             ],
             [
              0.2222222222222222,
              "#7201a8"
             ],
             [
              0.3333333333333333,
              "#9c179e"
             ],
             [
              0.4444444444444444,
              "#bd3786"
             ],
             [
              0.5555555555555556,
              "#d8576b"
             ],
             [
              0.6666666666666666,
              "#ed7953"
             ],
             [
              0.7777777777777778,
              "#fb9f3a"
             ],
             [
              0.8888888888888888,
              "#fdca26"
             ],
             [
              1,
              "#f0f921"
             ]
            ],
            "type": "heatmap"
           }
          ],
          "histogram": [
           {
            "marker": {
             "pattern": {
              "fillmode": "overlay",
              "size": 10,
              "solidity": 0.2
             }
            },
            "type": "histogram"
           }
          ],
          "histogram2d": [
           {
            "colorbar": {
             "outlinewidth": 0,
             "ticks": ""
            },
            "colorscale": [
             [
              0,
              "#0d0887"
             ],
             [
              0.1111111111111111,
              "#46039f"
             ],
             [
              0.2222222222222222,
              "#7201a8"
             ],
             [
              0.3333333333333333,
              "#9c179e"
             ],
             [
              0.4444444444444444,
              "#bd3786"
             ],
             [
              0.5555555555555556,
              "#d8576b"
             ],
             [
              0.6666666666666666,
              "#ed7953"
             ],
             [
              0.7777777777777778,
              "#fb9f3a"
             ],
             [
              0.8888888888888888,
              "#fdca26"
             ],
             [
              1,
              "#f0f921"
             ]
            ],
            "type": "histogram2d"
           }
          ],
          "histogram2dcontour": [
           {
            "colorbar": {
             "outlinewidth": 0,
             "ticks": ""
            },
            "colorscale": [
             [
              0,
              "#0d0887"
             ],
             [
              0.1111111111111111,
              "#46039f"
             ],
             [
              0.2222222222222222,
              "#7201a8"
             ],
             [
              0.3333333333333333,
              "#9c179e"
             ],
             [
              0.4444444444444444,
              "#bd3786"
             ],
             [
              0.5555555555555556,
              "#d8576b"
             ],
             [
              0.6666666666666666,
              "#ed7953"
             ],
             [
              0.7777777777777778,
              "#fb9f3a"
             ],
             [
              0.8888888888888888,
              "#fdca26"
             ],
             [
              1,
              "#f0f921"
             ]
            ],
            "type": "histogram2dcontour"
           }
          ],
          "mesh3d": [
           {
            "colorbar": {
             "outlinewidth": 0,
             "ticks": ""
            },
            "type": "mesh3d"
           }
          ],
          "parcoords": [
           {
            "line": {
             "colorbar": {
              "outlinewidth": 0,
              "ticks": ""
             }
            },
            "type": "parcoords"
           }
          ],
          "pie": [
           {
            "automargin": true,
            "type": "pie"
           }
          ],
          "scatter": [
           {
            "fillpattern": {
             "fillmode": "overlay",
             "size": 10,
             "solidity": 0.2
            },
            "type": "scatter"
           }
          ],
          "scatter3d": [
           {
            "line": {
             "colorbar": {
              "outlinewidth": 0,
              "ticks": ""
             }
            },
            "marker": {
             "colorbar": {
              "outlinewidth": 0,
              "ticks": ""
             }
            },
            "type": "scatter3d"
           }
          ],
          "scattercarpet": [
           {
            "marker": {
             "colorbar": {
              "outlinewidth": 0,
              "ticks": ""
             }
            },
            "type": "scattercarpet"
           }
          ],
          "scattergeo": [
           {
            "marker": {
             "colorbar": {
              "outlinewidth": 0,
              "ticks": ""
             }
            },
            "type": "scattergeo"
           }
          ],
          "scattergl": [
           {
            "marker": {
             "colorbar": {
              "outlinewidth": 0,
              "ticks": ""
             }
            },
            "type": "scattergl"
           }
          ],
          "scattermap": [
           {
            "marker": {
             "colorbar": {
              "outlinewidth": 0,
              "ticks": ""
             }
            },
            "type": "scattermap"
           }
          ],
          "scattermapbox": [
           {
            "marker": {
             "colorbar": {
              "outlinewidth": 0,
              "ticks": ""
             }
            },
            "type": "scattermapbox"
           }
          ],
          "scatterpolar": [
           {
            "marker": {
             "colorbar": {
              "outlinewidth": 0,
              "ticks": ""
             }
            },
            "type": "scatterpolar"
           }
          ],
          "scatterpolargl": [
           {
            "marker": {
             "colorbar": {
              "outlinewidth": 0,
              "ticks": ""
             }
            },
            "type": "scatterpolargl"
           }
          ],
          "scatterternary": [
           {
            "marker": {
             "colorbar": {
              "outlinewidth": 0,
              "ticks": ""
             }
            },
            "type": "scatterternary"
           }
          ],
          "surface": [
           {
            "colorbar": {
             "outlinewidth": 0,
             "ticks": ""
            },
            "colorscale": [
             [
              0,
              "#0d0887"
             ],
             [
              0.1111111111111111,
              "#46039f"
             ],
             [
              0.2222222222222222,
              "#7201a8"
             ],
             [
              0.3333333333333333,
              "#9c179e"
             ],
             [
              0.4444444444444444,
              "#bd3786"
             ],
             [
              0.5555555555555556,
              "#d8576b"
             ],
             [
              0.6666666666666666,
              "#ed7953"
             ],
             [
              0.7777777777777778,
              "#fb9f3a"
             ],
             [
              0.8888888888888888,
              "#fdca26"
             ],
             [
              1,
              "#f0f921"
             ]
            ],
            "type": "surface"
           }
          ],
          "table": [
           {
            "cells": {
             "fill": {
              "color": "#EBF0F8"
             },
             "line": {
              "color": "white"
             }
            },
            "header": {
             "fill": {
              "color": "#C8D4E3"
             },
             "line": {
              "color": "white"
             }
            },
            "type": "table"
           }
          ]
         },
         "layout": {
          "annotationdefaults": {
           "arrowcolor": "#2a3f5f",
           "arrowhead": 0,
           "arrowwidth": 1
          },
          "autotypenumbers": "strict",
          "coloraxis": {
           "colorbar": {
            "outlinewidth": 0,
            "ticks": ""
           }
          },
          "colorscale": {
           "diverging": [
            [
             0,
             "#8e0152"
            ],
            [
             0.1,
             "#c51b7d"
            ],
            [
             0.2,
             "#de77ae"
            ],
            [
             0.3,
             "#f1b6da"
            ],
            [
             0.4,
             "#fde0ef"
            ],
            [
             0.5,
             "#f7f7f7"
            ],
            [
             0.6,
             "#e6f5d0"
            ],
            [
             0.7,
             "#b8e186"
            ],
            [
             0.8,
             "#7fbc41"
            ],
            [
             0.9,
             "#4d9221"
            ],
            [
             1,
             "#276419"
            ]
           ],
           "sequential": [
            [
             0,
             "#0d0887"
            ],
            [
             0.1111111111111111,
             "#46039f"
            ],
            [
             0.2222222222222222,
             "#7201a8"
            ],
            [
             0.3333333333333333,
             "#9c179e"
            ],
            [
             0.4444444444444444,
             "#bd3786"
            ],
            [
             0.5555555555555556,
             "#d8576b"
            ],
            [
             0.6666666666666666,
             "#ed7953"
            ],
            [
             0.7777777777777778,
             "#fb9f3a"
            ],
            [
             0.8888888888888888,
             "#fdca26"
            ],
            [
             1,
             "#f0f921"
            ]
           ],
           "sequentialminus": [
            [
             0,
             "#0d0887"
            ],
            [
             0.1111111111111111,
             "#46039f"
            ],
            [
             0.2222222222222222,
             "#7201a8"
            ],
            [
             0.3333333333333333,
             "#9c179e"
            ],
            [
             0.4444444444444444,
             "#bd3786"
            ],
            [
             0.5555555555555556,
             "#d8576b"
            ],
            [
             0.6666666666666666,
             "#ed7953"
            ],
            [
             0.7777777777777778,
             "#fb9f3a"
            ],
            [
             0.8888888888888888,
             "#fdca26"
            ],
            [
             1,
             "#f0f921"
            ]
           ]
          },
          "colorway": [
           "#636efa",
           "#EF553B",
           "#00cc96",
           "#ab63fa",
           "#FFA15A",
           "#19d3f3",
           "#FF6692",
           "#B6E880",
           "#FF97FF",
           "#FECB52"
          ],
          "font": {
           "color": "#2a3f5f"
          },
          "geo": {
           "bgcolor": "white",
           "lakecolor": "white",
           "landcolor": "white",
           "showlakes": true,
           "showland": true,
           "subunitcolor": "#C8D4E3"
          },
          "hoverlabel": {
           "align": "left"
          },
          "hovermode": "closest",
          "mapbox": {
           "style": "light"
          },
          "paper_bgcolor": "white",
          "plot_bgcolor": "white",
          "polar": {
           "angularaxis": {
            "gridcolor": "#EBF0F8",
            "linecolor": "#EBF0F8",
            "ticks": ""
           },
           "bgcolor": "white",
           "radialaxis": {
            "gridcolor": "#EBF0F8",
            "linecolor": "#EBF0F8",
            "ticks": ""
           }
          },
          "scene": {
           "xaxis": {
            "backgroundcolor": "white",
            "gridcolor": "#DFE8F3",
            "gridwidth": 2,
            "linecolor": "#EBF0F8",
            "showbackground": true,
            "ticks": "",
            "zerolinecolor": "#EBF0F8"
           },
           "yaxis": {
            "backgroundcolor": "white",
            "gridcolor": "#DFE8F3",
            "gridwidth": 2,
            "linecolor": "#EBF0F8",
            "showbackground": true,
            "ticks": "",
            "zerolinecolor": "#EBF0F8"
           },
           "zaxis": {
            "backgroundcolor": "white",
            "gridcolor": "#DFE8F3",
            "gridwidth": 2,
            "linecolor": "#EBF0F8",
            "showbackground": true,
            "ticks": "",
            "zerolinecolor": "#EBF0F8"
           }
          },
          "shapedefaults": {
           "line": {
            "color": "#2a3f5f"
           }
          },
          "ternary": {
           "aaxis": {
            "gridcolor": "#DFE8F3",
            "linecolor": "#A2B1C6",
            "ticks": ""
           },
           "baxis": {
            "gridcolor": "#DFE8F3",
            "linecolor": "#A2B1C6",
            "ticks": ""
           },
           "bgcolor": "white",
           "caxis": {
            "gridcolor": "#DFE8F3",
            "linecolor": "#A2B1C6",
            "ticks": ""
           }
          },
          "title": {
           "x": 0.05
          },
          "xaxis": {
           "automargin": true,
           "gridcolor": "#EBF0F8",
           "linecolor": "#EBF0F8",
           "ticks": "",
           "title": {
            "standoff": 15
           },
           "zerolinecolor": "#EBF0F8",
           "zerolinewidth": 2
          },
          "yaxis": {
           "automargin": true,
           "gridcolor": "#EBF0F8",
           "linecolor": "#EBF0F8",
           "ticks": "",
           "title": {
            "standoff": 15
           },
           "zerolinecolor": "#EBF0F8",
           "zerolinewidth": 2
          }
         }
        },
        "title": {
         "text": "Pronóstico de Horas Extra - Marketing"
        },
        "xaxis": {
         "title": {
          "text": "Fecha"
         }
        },
        "yaxis": {
         "title": {
          "text": "Horas Extra"
         }
        }
       }
      }
     },
     "metadata": {},
     "output_type": "display_data"
    },
    {
     "name": "stdout",
     "output_type": "stream",
     "text": [
      "Visualización generada para Marketing\n"
     ]
    },
    {
     "data": {
      "application/vnd.plotly.v1+json": {
       "config": {
        "plotlyServerURL": "https://plot.ly"
       },
       "data": [
        {
         "customdata": {
          "bdata": "WOyDK/VCHEAAAAAAAAAAAHgKG3WfnC1AUf2nIA+PHUAAAAAAAAAAAPQSrW+sQi5AtuiC4rwdIUCgRp0ygCnqP4H+7eBwTDBAMRljFdBIF0AAAAAAAAAAAOSgCuqMHytALJkaE6mdC0AAAAAAAAAAAJe6HySPYiZAOJbAfUxdBEAAAAAAAAAAANo5yf53kiRAglebxBkYBkAAAAAAAAAAACzqf1ArASVAjmDIpJvcGUAAAAAAAAAAAJNEvbFyaSxA/So+azBuFEAAAAAAAAAAAMop+BQ9silAYDmfvBwKGEAAAAAAAAAAAPywqD0zgCtANQeXGHkwEEAAAAAAAAAAAOaXpGthkydA4dIfUye4F0AAAAAAAAAAALz96Ig4VytAs9iT8xbUFkAAAAAAAAAAAKYAI1kw5SpATkNbCN9sEEAAAAAAAAAAAPO1hmOUsSdAvKG3JW2fEUAAAAAAAAAAACrlNHLbSihAYCjdoWNlFkAAAAAAAAAAAHyoR7DWrSpABgplJ8rRC0AAAAAAAAAAAM5WMmmXbyZAoYj6AdbkGEAAAAAAAAAAAJxYVuCP7StA+D6eKmUPIkBgVSlaAqL0P6Kp+wRFxTBABgMVpAp9IECg675LXB7gP1IXboMv+C9ApD+hdmPVG0AAAAAAAAAAAB60qZrWZS1A/fD3PgAFHkAAAAAAAAAAAMoM1f6kfS5AVpClx7+cEUAAAAAAAAAAAHfcK8OESShArqc9VfF5CkAAAAAAAAAAADh+qDShGSZA",
          "dtype": "f8",
          "shape": "24, 3"
         },
         "hovertemplate": "<b>Fecha:</b> %{x}<br><b>Valor Real:</b> %{y:.1f}<br><b>Predicción:</b> %{customdata[0]:.1f}<br><b>IC Inferior:</b> %{customdata[1]:.1f}<br><b>IC Superior:</b> %{customdata[2]:.1f}<extra></extra>",
         "line": {
          "color": "blue"
         },
         "mode": "markers+lines",
         "name": "Datos Históricos",
         "type": "scatter",
         "x": [
          "2024-12-15T00:00:00.000000000",
          "2024-12-22T00:00:00.000000000",
          "2024-12-29T00:00:00.000000000",
          "2025-01-05T00:00:00.000000000",
          "2025-01-12T00:00:00.000000000",
          "2025-01-19T00:00:00.000000000",
          "2025-01-26T00:00:00.000000000",
          "2025-02-02T00:00:00.000000000",
          "2025-02-09T00:00:00.000000000",
          "2025-02-16T00:00:00.000000000",
          "2025-02-23T00:00:00.000000000",
          "2025-03-02T00:00:00.000000000",
          "2025-03-09T00:00:00.000000000",
          "2025-03-16T00:00:00.000000000",
          "2025-03-23T00:00:00.000000000",
          "2025-03-30T00:00:00.000000000",
          "2025-04-06T00:00:00.000000000",
          "2025-04-13T00:00:00.000000000",
          "2025-04-20T00:00:00.000000000",
          "2025-04-27T00:00:00.000000000",
          "2025-05-04T00:00:00.000000000",
          "2025-05-11T00:00:00.000000000",
          "2025-05-18T00:00:00.000000000",
          "2025-05-25T00:00:00.000000000"
         ],
         "y": {
          "bdata": "Fa5H4XoUGEApXI/C9aghQGZmZmZm5ihAFK5H4XoUBEAfhetRuB7VPzMzMzMzM+s/KVyPwvWoIUDMzMzMzMwXQD0K16NwPSBANDMzMzMzC0AAAAAAAAAcQGdmZmZmZhtAAQAAAAAACEDC9Shcj8INQFyPwvUoXBpA7FG4HoXr4T80MzMzMzMeQJqZmZmZmSxAUrgehevRKEBI4XoUrscgQK5H4XoULiRACtejcD0KBUAAAAAAAAAAAB+F61G4Hvk/",
          "dtype": "f8"
         }
        },
        {
         "customdata": {
          "bdata": "AAAAAAAAAAB4Cht1n5wtQAAAAAAAAAAA9BKtb6xCLkCgRp0ygCnqP4H+7eBwTDBAAAAAAAAAAADkoArqjB8rQAAAAAAAAAAAl7ofJI9iJkAAAAAAAAAAANo5yf53kiRAAAAAAAAAAAAs6n9QKwElQAAAAAAAAAAAk0S9sXJpLEAAAAAAAAAAAMop+BQ9silAAAAAAAAAAAD8sKg9M4ArQAAAAAAAAAAA5peka2GTJ0AAAAAAAAAAALz96Ig4VytAAAAAAAAAAACmACNZMOUqQAAAAAAAAAAA87WGY5SxJ0AAAAAAAAAAACrlNHLbSihAAAAAAAAAAAB8qEew1q0qQAAAAAAAAAAAzlYyaZdvJkAAAAAAAAAAAJxYVuCP7StAYFUpWgKi9D+iqfsERcUwQKDrvktcHuA/Uhdugy/4L0AAAAAAAAAAAB60qZrWZS1AAAAAAAAAAADKDNX+pH0uQAAAAAAAAAAAd9wrw4RJKEAAAAAAAAAAADh+qDShGSZAAAAAAAAAAAB8AlD6Ty0oQAAAAAAAAAAArtJEOIlzK0AAAAAAAAAAAAY20bujfSxAAAAAAAAAAABmBcabA98sQA==",
          "dtype": "f8",
          "shape": "28, 2"
         },
         "hovertemplate": "<b>Fecha:</b> %{x}<br><b>Predicción:</b> %{y:.1f}<br><b>IC Inferior:</b> %{customdata[0]:.1f}<br><b>IC Superior:</b> %{customdata[1]:.1f}<extra></extra>",
         "line": {
          "color": "red"
         },
         "mode": "lines",
         "name": "Predicción",
         "type": "scatter",
         "x": [
          "2024-12-15T00:00:00.000000000",
          "2024-12-22T00:00:00.000000000",
          "2024-12-29T00:00:00.000000000",
          "2025-01-05T00:00:00.000000000",
          "2025-01-12T00:00:00.000000000",
          "2025-01-19T00:00:00.000000000",
          "2025-01-26T00:00:00.000000000",
          "2025-02-02T00:00:00.000000000",
          "2025-02-09T00:00:00.000000000",
          "2025-02-16T00:00:00.000000000",
          "2025-02-23T00:00:00.000000000",
          "2025-03-02T00:00:00.000000000",
          "2025-03-09T00:00:00.000000000",
          "2025-03-16T00:00:00.000000000",
          "2025-03-23T00:00:00.000000000",
          "2025-03-30T00:00:00.000000000",
          "2025-04-06T00:00:00.000000000",
          "2025-04-13T00:00:00.000000000",
          "2025-04-20T00:00:00.000000000",
          "2025-04-27T00:00:00.000000000",
          "2025-05-04T00:00:00.000000000",
          "2025-05-11T00:00:00.000000000",
          "2025-05-18T00:00:00.000000000",
          "2025-05-25T00:00:00.000000000",
          "2025-06-01T00:00:00.000000000",
          "2025-06-08T00:00:00.000000000",
          "2025-06-15T00:00:00.000000000",
          "2025-06-22T00:00:00.000000000"
         ],
         "y": {
          "bdata": "WOyDK/VCHEBR/acgD48dQLboguK8HSFAMRljFdBIF0AsmRoTqZ0LQDiWwH1MXQRAglebxBkYBkCOYMikm9wZQP0qPmswbhRAYDmfvBwKGEA1B5cYeTAQQOHSH1MnuBdAs9iT8xbUFkBOQ1sI32wQQLyhtyVtnxFAYCjdoWNlFkAGCmUnytELQKGI+gHW5BhA+D6eKmUPIkAGAxWkCn0gQKQ/oXZj1RtA/fD3PgAFHkBWkKXHv5wRQK6nPVXxeQpAX9ztNVZkEUAgYGGM7F4VQJG+VchxBhdAYcc+d4q2F0A=",
          "dtype": "f8"
         }
        },
        {
         "fill": "toself",
         "fillcolor": "rgba(211,211,211,0.3)",
         "hoverinfo": "skip",
         "line": {
          "color": "rgba(255,255,255,0)"
         },
         "name": "Intervalo de Confianza 95%",
         "showlegend": true,
         "type": "scatter",
         "x": [
          "2024-12-15T00:00:00",
          "2024-12-22T00:00:00",
          "2024-12-29T00:00:00",
          "2025-01-05T00:00:00",
          "2025-01-12T00:00:00",
          "2025-01-19T00:00:00",
          "2025-01-26T00:00:00",
          "2025-02-02T00:00:00",
          "2025-02-09T00:00:00",
          "2025-02-16T00:00:00",
          "2025-02-23T00:00:00",
          "2025-03-02T00:00:00",
          "2025-03-09T00:00:00",
          "2025-03-16T00:00:00",
          "2025-03-23T00:00:00",
          "2025-03-30T00:00:00",
          "2025-04-06T00:00:00",
          "2025-04-13T00:00:00",
          "2025-04-20T00:00:00",
          "2025-04-27T00:00:00",
          "2025-05-04T00:00:00",
          "2025-05-11T00:00:00",
          "2025-05-18T00:00:00",
          "2025-05-25T00:00:00",
          "2025-06-01T00:00:00",
          "2025-06-08T00:00:00",
          "2025-06-15T00:00:00",
          "2025-06-22T00:00:00",
          "2025-06-22T00:00:00",
          "2025-06-15T00:00:00",
          "2025-06-08T00:00:00",
          "2025-06-01T00:00:00",
          "2025-05-25T00:00:00",
          "2025-05-18T00:00:00",
          "2025-05-11T00:00:00",
          "2025-05-04T00:00:00",
          "2025-04-27T00:00:00",
          "2025-04-20T00:00:00",
          "2025-04-13T00:00:00",
          "2025-04-06T00:00:00",
          "2025-03-30T00:00:00",
          "2025-03-23T00:00:00",
          "2025-03-16T00:00:00",
          "2025-03-09T00:00:00",
          "2025-03-02T00:00:00",
          "2025-02-23T00:00:00",
          "2025-02-16T00:00:00",
          "2025-02-09T00:00:00",
          "2025-02-02T00:00:00",
          "2025-01-26T00:00:00",
          "2025-01-19T00:00:00",
          "2025-01-12T00:00:00",
          "2025-01-05T00:00:00",
          "2024-12-29T00:00:00",
          "2024-12-22T00:00:00",
          "2024-12-15T00:00:00"
         ],
         "y": [
          14.805904063750162,
          15.13022183406563,
          16.298597391227762,
          13.561621965215132,
          11.192498329995301,
          10.286071741164893,
          10.50228358804187,
          14.205953173021305,
          12.848122268002857,
          13.750390936701017,
          11.787852634279215,
          13.670353201333334,
          13.447634492419024,
          11.846835241502935,
          12.146205491024904,
          13.339528568980533,
          11.21795204867831,
          13.963988314190196,
          16.770584403458663,
          15.984737498463492,
          14.698902924743432,
          15.24539944029529,
          12.143591021637105,
          11.050058026855467,
          12.088500807062921,
          13.725656278992883,
          14.24538981369825,
          14.435574405596252,
          0,
          0,
          0,
          0,
          0,
          0,
          0,
          0,
          0.5037061194810697,
          1.2895530244762412,
          0,
          0,
          0,
          0,
          0,
          0,
          0,
          0,
          0,
          0,
          0,
          0,
          0,
          0,
          0,
          0.8175660122453401,
          0,
          0
         ]
        }
       ],
       "layout": {
        "hovermode": "x unified",
        "legend": {
         "orientation": "h",
         "x": 0.5,
         "xanchor": "center",
         "y": -0.4,
         "yanchor": "bottom"
        },
        "showlegend": true,
        "template": {
         "data": {
          "bar": [
           {
            "error_x": {
             "color": "#2a3f5f"
            },
            "error_y": {
             "color": "#2a3f5f"
            },
            "marker": {
             "line": {
              "color": "white",
              "width": 0.5
             },
             "pattern": {
              "fillmode": "overlay",
              "size": 10,
              "solidity": 0.2
             }
            },
            "type": "bar"
           }
          ],
          "barpolar": [
           {
            "marker": {
             "line": {
              "color": "white",
              "width": 0.5
             },
             "pattern": {
              "fillmode": "overlay",
              "size": 10,
              "solidity": 0.2
             }
            },
            "type": "barpolar"
           }
          ],
          "carpet": [
           {
            "aaxis": {
             "endlinecolor": "#2a3f5f",
             "gridcolor": "#C8D4E3",
             "linecolor": "#C8D4E3",
             "minorgridcolor": "#C8D4E3",
             "startlinecolor": "#2a3f5f"
            },
            "baxis": {
             "endlinecolor": "#2a3f5f",
             "gridcolor": "#C8D4E3",
             "linecolor": "#C8D4E3",
             "minorgridcolor": "#C8D4E3",
             "startlinecolor": "#2a3f5f"
            },
            "type": "carpet"
           }
          ],
          "choropleth": [
           {
            "colorbar": {
             "outlinewidth": 0,
             "ticks": ""
            },
            "type": "choropleth"
           }
          ],
          "contour": [
           {
            "colorbar": {
             "outlinewidth": 0,
             "ticks": ""
            },
            "colorscale": [
             [
              0,
              "#0d0887"
             ],
             [
              0.1111111111111111,
              "#46039f"
             ],
             [
              0.2222222222222222,
              "#7201a8"
             ],
             [
              0.3333333333333333,
              "#9c179e"
             ],
             [
              0.4444444444444444,
              "#bd3786"
             ],
             [
              0.5555555555555556,
              "#d8576b"
             ],
             [
              0.6666666666666666,
              "#ed7953"
             ],
             [
              0.7777777777777778,
              "#fb9f3a"
             ],
             [
              0.8888888888888888,
              "#fdca26"
             ],
             [
              1,
              "#f0f921"
             ]
            ],
            "type": "contour"
           }
          ],
          "contourcarpet": [
           {
            "colorbar": {
             "outlinewidth": 0,
             "ticks": ""
            },
            "type": "contourcarpet"
           }
          ],
          "heatmap": [
           {
            "colorbar": {
             "outlinewidth": 0,
             "ticks": ""
            },
            "colorscale": [
             [
              0,
              "#0d0887"
             ],
             [
              0.1111111111111111,
              "#46039f"
             ],
             [
              0.2222222222222222,
              "#7201a8"
             ],
             [
              0.3333333333333333,
              "#9c179e"
             ],
             [
              0.4444444444444444,
              "#bd3786"
             ],
             [
              0.5555555555555556,
              "#d8576b"
             ],
             [
              0.6666666666666666,
              "#ed7953"
             ],
             [
              0.7777777777777778,
              "#fb9f3a"
             ],
             [
              0.8888888888888888,
              "#fdca26"
             ],
             [
              1,
              "#f0f921"
             ]
            ],
            "type": "heatmap"
           }
          ],
          "histogram": [
           {
            "marker": {
             "pattern": {
              "fillmode": "overlay",
              "size": 10,
              "solidity": 0.2
             }
            },
            "type": "histogram"
           }
          ],
          "histogram2d": [
           {
            "colorbar": {
             "outlinewidth": 0,
             "ticks": ""
            },
            "colorscale": [
             [
              0,
              "#0d0887"
             ],
             [
              0.1111111111111111,
              "#46039f"
             ],
             [
              0.2222222222222222,
              "#7201a8"
             ],
             [
              0.3333333333333333,
              "#9c179e"
             ],
             [
              0.4444444444444444,
              "#bd3786"
             ],
             [
              0.5555555555555556,
              "#d8576b"
             ],
             [
              0.6666666666666666,
              "#ed7953"
             ],
             [
              0.7777777777777778,
              "#fb9f3a"
             ],
             [
              0.8888888888888888,
              "#fdca26"
             ],
             [
              1,
              "#f0f921"
             ]
            ],
            "type": "histogram2d"
           }
          ],
          "histogram2dcontour": [
           {
            "colorbar": {
             "outlinewidth": 0,
             "ticks": ""
            },
            "colorscale": [
             [
              0,
              "#0d0887"
             ],
             [
              0.1111111111111111,
              "#46039f"
             ],
             [
              0.2222222222222222,
              "#7201a8"
             ],
             [
              0.3333333333333333,
              "#9c179e"
             ],
             [
              0.4444444444444444,
              "#bd3786"
             ],
             [
              0.5555555555555556,
              "#d8576b"
             ],
             [
              0.6666666666666666,
              "#ed7953"
             ],
             [
              0.7777777777777778,
              "#fb9f3a"
             ],
             [
              0.8888888888888888,
              "#fdca26"
             ],
             [
              1,
              "#f0f921"
             ]
            ],
            "type": "histogram2dcontour"
           }
          ],
          "mesh3d": [
           {
            "colorbar": {
             "outlinewidth": 0,
             "ticks": ""
            },
            "type": "mesh3d"
           }
          ],
          "parcoords": [
           {
            "line": {
             "colorbar": {
              "outlinewidth": 0,
              "ticks": ""
             }
            },
            "type": "parcoords"
           }
          ],
          "pie": [
           {
            "automargin": true,
            "type": "pie"
           }
          ],
          "scatter": [
           {
            "fillpattern": {
             "fillmode": "overlay",
             "size": 10,
             "solidity": 0.2
            },
            "type": "scatter"
           }
          ],
          "scatter3d": [
           {
            "line": {
             "colorbar": {
              "outlinewidth": 0,
              "ticks": ""
             }
            },
            "marker": {
             "colorbar": {
              "outlinewidth": 0,
              "ticks": ""
             }
            },
            "type": "scatter3d"
           }
          ],
          "scattercarpet": [
           {
            "marker": {
             "colorbar": {
              "outlinewidth": 0,
              "ticks": ""
             }
            },
            "type": "scattercarpet"
           }
          ],
          "scattergeo": [
           {
            "marker": {
             "colorbar": {
              "outlinewidth": 0,
              "ticks": ""
             }
            },
            "type": "scattergeo"
           }
          ],
          "scattergl": [
           {
            "marker": {
             "colorbar": {
              "outlinewidth": 0,
              "ticks": ""
             }
            },
            "type": "scattergl"
           }
          ],
          "scattermap": [
           {
            "marker": {
             "colorbar": {
              "outlinewidth": 0,
              "ticks": ""
             }
            },
            "type": "scattermap"
           }
          ],
          "scattermapbox": [
           {
            "marker": {
             "colorbar": {
              "outlinewidth": 0,
              "ticks": ""
             }
            },
            "type": "scattermapbox"
           }
          ],
          "scatterpolar": [
           {
            "marker": {
             "colorbar": {
              "outlinewidth": 0,
              "ticks": ""
             }
            },
            "type": "scatterpolar"
           }
          ],
          "scatterpolargl": [
           {
            "marker": {
             "colorbar": {
              "outlinewidth": 0,
              "ticks": ""
             }
            },
            "type": "scatterpolargl"
           }
          ],
          "scatterternary": [
           {
            "marker": {
             "colorbar": {
              "outlinewidth": 0,
              "ticks": ""
             }
            },
            "type": "scatterternary"
           }
          ],
          "surface": [
           {
            "colorbar": {
             "outlinewidth": 0,
             "ticks": ""
            },
            "colorscale": [
             [
              0,
              "#0d0887"
             ],
             [
              0.1111111111111111,
              "#46039f"
             ],
             [
              0.2222222222222222,
              "#7201a8"
             ],
             [
              0.3333333333333333,
              "#9c179e"
             ],
             [
              0.4444444444444444,
              "#bd3786"
             ],
             [
              0.5555555555555556,
              "#d8576b"
             ],
             [
              0.6666666666666666,
              "#ed7953"
             ],
             [
              0.7777777777777778,
              "#fb9f3a"
             ],
             [
              0.8888888888888888,
              "#fdca26"
             ],
             [
              1,
              "#f0f921"
             ]
            ],
            "type": "surface"
           }
          ],
          "table": [
           {
            "cells": {
             "fill": {
              "color": "#EBF0F8"
             },
             "line": {
              "color": "white"
             }
            },
            "header": {
             "fill": {
              "color": "#C8D4E3"
             },
             "line": {
              "color": "white"
             }
            },
            "type": "table"
           }
          ]
         },
         "layout": {
          "annotationdefaults": {
           "arrowcolor": "#2a3f5f",
           "arrowhead": 0,
           "arrowwidth": 1
          },
          "autotypenumbers": "strict",
          "coloraxis": {
           "colorbar": {
            "outlinewidth": 0,
            "ticks": ""
           }
          },
          "colorscale": {
           "diverging": [
            [
             0,
             "#8e0152"
            ],
            [
             0.1,
             "#c51b7d"
            ],
            [
             0.2,
             "#de77ae"
            ],
            [
             0.3,
             "#f1b6da"
            ],
            [
             0.4,
             "#fde0ef"
            ],
            [
             0.5,
             "#f7f7f7"
            ],
            [
             0.6,
             "#e6f5d0"
            ],
            [
             0.7,
             "#b8e186"
            ],
            [
             0.8,
             "#7fbc41"
            ],
            [
             0.9,
             "#4d9221"
            ],
            [
             1,
             "#276419"
            ]
           ],
           "sequential": [
            [
             0,
             "#0d0887"
            ],
            [
             0.1111111111111111,
             "#46039f"
            ],
            [
             0.2222222222222222,
             "#7201a8"
            ],
            [
             0.3333333333333333,
             "#9c179e"
            ],
            [
             0.4444444444444444,
             "#bd3786"
            ],
            [
             0.5555555555555556,
             "#d8576b"
            ],
            [
             0.6666666666666666,
             "#ed7953"
            ],
            [
             0.7777777777777778,
             "#fb9f3a"
            ],
            [
             0.8888888888888888,
             "#fdca26"
            ],
            [
             1,
             "#f0f921"
            ]
           ],
           "sequentialminus": [
            [
             0,
             "#0d0887"
            ],
            [
             0.1111111111111111,
             "#46039f"
            ],
            [
             0.2222222222222222,
             "#7201a8"
            ],
            [
             0.3333333333333333,
             "#9c179e"
            ],
            [
             0.4444444444444444,
             "#bd3786"
            ],
            [
             0.5555555555555556,
             "#d8576b"
            ],
            [
             0.6666666666666666,
             "#ed7953"
            ],
            [
             0.7777777777777778,
             "#fb9f3a"
            ],
            [
             0.8888888888888888,
             "#fdca26"
            ],
            [
             1,
             "#f0f921"
            ]
           ]
          },
          "colorway": [
           "#636efa",
           "#EF553B",
           "#00cc96",
           "#ab63fa",
           "#FFA15A",
           "#19d3f3",
           "#FF6692",
           "#B6E880",
           "#FF97FF",
           "#FECB52"
          ],
          "font": {
           "color": "#2a3f5f"
          },
          "geo": {
           "bgcolor": "white",
           "lakecolor": "white",
           "landcolor": "white",
           "showlakes": true,
           "showland": true,
           "subunitcolor": "#C8D4E3"
          },
          "hoverlabel": {
           "align": "left"
          },
          "hovermode": "closest",
          "mapbox": {
           "style": "light"
          },
          "paper_bgcolor": "white",
          "plot_bgcolor": "white",
          "polar": {
           "angularaxis": {
            "gridcolor": "#EBF0F8",
            "linecolor": "#EBF0F8",
            "ticks": ""
           },
           "bgcolor": "white",
           "radialaxis": {
            "gridcolor": "#EBF0F8",
            "linecolor": "#EBF0F8",
            "ticks": ""
           }
          },
          "scene": {
           "xaxis": {
            "backgroundcolor": "white",
            "gridcolor": "#DFE8F3",
            "gridwidth": 2,
            "linecolor": "#EBF0F8",
            "showbackground": true,
            "ticks": "",
            "zerolinecolor": "#EBF0F8"
           },
           "yaxis": {
            "backgroundcolor": "white",
            "gridcolor": "#DFE8F3",
            "gridwidth": 2,
            "linecolor": "#EBF0F8",
            "showbackground": true,
            "ticks": "",
            "zerolinecolor": "#EBF0F8"
           },
           "zaxis": {
            "backgroundcolor": "white",
            "gridcolor": "#DFE8F3",
            "gridwidth": 2,
            "linecolor": "#EBF0F8",
            "showbackground": true,
            "ticks": "",
            "zerolinecolor": "#EBF0F8"
           }
          },
          "shapedefaults": {
           "line": {
            "color": "#2a3f5f"
           }
          },
          "ternary": {
           "aaxis": {
            "gridcolor": "#DFE8F3",
            "linecolor": "#A2B1C6",
            "ticks": ""
           },
           "baxis": {
            "gridcolor": "#DFE8F3",
            "linecolor": "#A2B1C6",
            "ticks": ""
           },
           "bgcolor": "white",
           "caxis": {
            "gridcolor": "#DFE8F3",
            "linecolor": "#A2B1C6",
            "ticks": ""
           }
          },
          "title": {
           "x": 0.05
          },
          "xaxis": {
           "automargin": true,
           "gridcolor": "#EBF0F8",
           "linecolor": "#EBF0F8",
           "ticks": "",
           "title": {
            "standoff": 15
           },
           "zerolinecolor": "#EBF0F8",
           "zerolinewidth": 2
          },
          "yaxis": {
           "automargin": true,
           "gridcolor": "#EBF0F8",
           "linecolor": "#EBF0F8",
           "ticks": "",
           "title": {
            "standoff": 15
           },
           "zerolinecolor": "#EBF0F8",
           "zerolinewidth": 2
          }
         }
        },
        "title": {
         "text": "Pronóstico de Horas Extra - Sales"
        },
        "xaxis": {
         "title": {
          "text": "Fecha"
         }
        },
        "yaxis": {
         "title": {
          "text": "Horas Extra"
         }
        }
       }
      }
     },
     "metadata": {},
     "output_type": "display_data"
    },
    {
     "name": "stdout",
     "output_type": "stream",
     "text": [
      "Visualización generada para Sales\n",
      "\n",
      "Proceso de visualización completado.\n"
     ]
    }
   ],
   "source": [
    "def generate_predictions_sarima(model, last_date, periods=4):\n",
    "    \"\"\"\n",
    "    Generate predictions using a SARIMA model\n",
    "    \n",
    "    Args:\n",
    "        model: Fitted SARIMA model\n",
    "        last_date: Last date in the training data\n",
    "        periods: Number of periods to forecast (default=4)\n",
    "    \n",
    "    Returns:\n",
    "        DataFrame with predictions and confidence intervals\n",
    "    \"\"\"\n",
    "    # Generate forecast\n",
    "    forecast = model.get_forecast(steps=periods)\n",
    "    \n",
    "    # Get predicted mean and confidence intervals\n",
    "    mean = forecast.predicted_mean\n",
    "    conf_int = forecast.conf_int()\n",
    "    \n",
    "    # Create dates for forecast period\n",
    "    dates = pd.date_range(start=last_date + pd.Timedelta(days=7), \n",
    "                         periods=periods, \n",
    "                         freq='W-SUN')\n",
    "    \n",
    "    # Create forecast DataFrame\n",
    "    forecast_df = pd.DataFrame({\n",
    "        'ds': dates,\n",
    "        'yhat': mean,\n",
    "        'yhat_lower': conf_int.iloc[:, 0],\n",
    "        'yhat_upper': conf_int.iloc[:, 1]\n",
    "    })\n",
    "    \n",
    "    return forecast_df\n",
    "\n",
    "def plot_forecast(department, historical_data, forecast):\n",
    "    \"\"\"Create interactive plot for a department's forecast\"\"\"\n",
    "    \n",
    "    # Filter historical data for department\n",
    "    hist_dept = historical_data[historical_data['department'] == department]\n",
    "    last_24_weeks = hist_dept.tail(24).copy()\n",
    "    \n",
    "    # Create figure\n",
    "    fig = go.Figure()\n",
    "    \n",
    "    # Get predictions for historical and future data\n",
    "    model = department_models[department]\n",
    "    historical_predictions = model.get_prediction(start=last_24_weeks['work_date'].min())\n",
    "    historical_mean = historical_predictions.predicted_mean.clip(lower=0)\n",
    "    historical_ci = historical_predictions.conf_int().clip(lower=0)\n",
    "    \n",
    "    # Add historical data with hover\n",
    "    fig.add_trace(\n",
    "        go.Scatter(\n",
    "            x=last_24_weeks['work_date'],\n",
    "            y=last_24_weeks['total_overtime'],\n",
    "            name='Datos Históricos',\n",
    "            mode='markers+lines',\n",
    "            line=dict(color='blue'),\n",
    "            hovertemplate=\"<b>Fecha:</b> %{x}<br>\" +\n",
    "                         \"<b>Valor Real:</b> %{y:.1f}<br>\" +\n",
    "                         \"<b>Predicción:</b> %{customdata[0]:.1f}<br>\" +\n",
    "                         \"<b>IC Inferior:</b> %{customdata[1]:.1f}<br>\" +\n",
    "                         \"<b>IC Superior:</b> %{customdata[2]:.1f}<extra></extra>\",\n",
    "            customdata=np.column_stack((\n",
    "                historical_mean,\n",
    "                historical_ci.iloc[:, 0],\n",
    "                historical_ci.iloc[:, 1]\n",
    "            ))\n",
    "        )\n",
    "    )\n",
    "    \n",
    "    # Combine historical and future dates/predictions for continuous line\n",
    "    all_dates = pd.concat([pd.Series(last_24_weeks['work_date']), forecast['ds']])\n",
    "    all_predictions = pd.concat([pd.Series(historical_mean), forecast['yhat'].clip(lower=0)])\n",
    "    all_ci_lower = pd.concat([pd.Series(historical_ci.iloc[:, 0]), forecast['yhat_lower'].clip(lower=0)])\n",
    "    all_ci_upper = pd.concat([pd.Series(historical_ci.iloc[:, 1]), forecast['yhat_upper'].clip(lower=0)])\n",
    "    \n",
    "    # Add continuous prediction line\n",
    "    fig.add_trace(\n",
    "        go.Scatter(\n",
    "            x=all_dates,\n",
    "            y=all_predictions,\n",
    "            name='Predicción',\n",
    "            mode='lines',\n",
    "            line=dict(color='red'),\n",
    "            hovertemplate=\"<b>Fecha:</b> %{x}<br>\" +\n",
    "                         \"<b>Predicción:</b> %{y:.1f}<br>\" +\n",
    "                         \"<b>IC Inferior:</b> %{customdata[0]:.1f}<br>\" +\n",
    "                         \"<b>IC Superior:</b> %{customdata[1]:.1f}<extra></extra>\",\n",
    "            customdata=np.column_stack((all_ci_lower, all_ci_upper))\n",
    "        )\n",
    "    )\n",
    "    \n",
    "    # Add continuous confidence interval with light gray color\n",
    "    fig.add_trace(\n",
    "        go.Scatter(\n",
    "            x=all_dates.tolist() + all_dates.tolist()[::-1],\n",
    "            y=all_ci_upper.tolist() + all_ci_lower.tolist()[::-1],\n",
    "            fill='toself',\n",
    "            fillcolor='rgba(211,211,211,0.3)',  # Light gray with 0.3 opacity\n",
    "            line=dict(color='rgba(255,255,255,0)'),\n",
    "            name='Intervalo de Confianza 95%',\n",
    "            showlegend=True,\n",
    "            hoverinfo='skip'\n",
    "        )\n",
    "    )\n",
    "    \n",
    "    # Update layout\n",
    "    fig.update_layout(\n",
    "        title=f'Pronóstico de Horas Extra - {department}',\n",
    "        xaxis_title='Fecha',\n",
    "        yaxis_title='Horas Extra',\n",
    "        hovermode='x unified',\n",
    "        showlegend=True,\n",
    "        template='plotly_white',\n",
    "        legend=dict(\n",
    "            orientation=\"h\",\n",
    "            yanchor=\"bottom\",\n",
    "            y=-0.4,\n",
    "            xanchor=\"center\",\n",
    "            x=0.5\n",
    "        )\n",
    "    )\n",
    "    \n",
    "    return fig\n",
    "\n",
    "# Generar predicciones para cada departamento\n",
    "print(\"\\nGenerando visualizaciones...\")\n",
    "\n",
    "for department in department_models.keys():\n",
    "    try:\n",
    "        # Get last date and generate predictions if needed\n",
    "        dept_data = historical_data[historical_data['department'] == department]\n",
    "        last_date = dept_data['work_date'].max()\n",
    "        \n",
    "        if department not in department_forecasts:\n",
    "            forecast = generate_predictions_sarima(department_models[department], last_date)\n",
    "            department_forecasts[department] = forecast\n",
    "        \n",
    "        # Create and display plot\n",
    "        fig = plot_forecast(\n",
    "            department,\n",
    "            historical_data,\n",
    "            department_forecasts[department]\n",
    "        )\n",
    "        fig.show()\n",
    "        print(f\"Visualización generada para {department}\")\n",
    "        \n",
    "    except Exception as e:\n",
    "        print(f\"Error generando visualización para {department}: {e}\")\n",
    "        continue\n",
    "\n",
    "print(\"\\nProceso de visualización completado.\")"
   ]
  },
  {
   "cell_type": "markdown",
   "id": "77f4bf61",
   "metadata": {},
   "source": [
    "## 7. Guardar Modelo y Predicciones\n",
    "\n",
    "Almacenamiento del Modelo y Resultados en MS SQL SERVER"
   ]
  },
  {
   "cell_type": "code",
   "execution_count": 25,
   "id": "86b9d9bb",
   "metadata": {},
   "outputs": [
    {
     "name": "stdout",
     "output_type": "stream",
     "text": [
      "Modelo guardado en: Modelos Entrenados/overtime_forecast_model.pkl\n"
     ]
    },
    {
     "name": "stderr",
     "output_type": "stream",
     "text": [
      "INFO:root:Predicciones y métricas guardadas exitosamente\n"
     ]
    },
    {
     "name": "stdout",
     "output_type": "stream",
     "text": [
      "\n",
      "Resumen de predicciones guardadas:\n",
      "----------------------------------------------------------------------\n",
      "\n",
      "Departamento: Finance\n",
      "Fecha Predicha\t\tPredicción\tIntervalo de Confianza\n",
      "------------------------------------------------------------\n",
      "2025-06-01\t5.05\t\t(0.00, 10.90)\n",
      "2025-06-08\t6.75\t\t(0.81, 12.69)\n",
      "2025-06-15\t3.49\t\t(0.00, 9.44)\n",
      "2025-06-22\t5.55\t\t(0.00, 11.72)\n",
      "\n",
      "Métricas del modelo:\n",
      "RMSE: 3.46\n",
      "MAE: 2.71\n",
      "SMAPE: 50.14%\n",
      "MASE: 0.96\n",
      "Calidad del modelo: Bueno\n",
      "----------------------------------------------------------------------\n",
      "\n",
      "Departamento: HR\n",
      "Fecha Predicha\t\tPredicción\tIntervalo de Confianza\n",
      "------------------------------------------------------------\n",
      "2025-06-01\t8.76\t\t(0.89, 16.63)\n",
      "2025-06-08\t8.27\t\t(0.39, 16.16)\n",
      "2025-06-15\t7.12\t\t(0.00, 15.10)\n",
      "2025-06-22\t4.19\t\t(0.00, 12.17)\n",
      "\n",
      "Métricas del modelo:\n",
      "RMSE: 3.99\n",
      "MAE: 3.22\n",
      "SMAPE: 55.81%\n",
      "MASE: 0.63\n",
      "Calidad del modelo: Bueno\n",
      "----------------------------------------------------------------------\n",
      "\n",
      "Departamento: IT\n",
      "Fecha Predicha\t\tPredicción\tIntervalo de Confianza\n",
      "------------------------------------------------------------\n",
      "2025-06-01\t5.95\t\t(0.00, 13.90)\n",
      "2025-06-08\t7.02\t\t(0.00, 15.10)\n",
      "2025-06-15\t7.02\t\t(0.00, 15.10)\n",
      "2025-06-22\t7.02\t\t(0.00, 15.10)\n",
      "\n",
      "Métricas del modelo:\n",
      "RMSE: 6.24\n",
      "MAE: 4.56\n",
      "SMAPE: 60.28%\n",
      "MASE: 1.29\n",
      "Calidad del modelo: Pobre\n",
      "----------------------------------------------------------------------\n",
      "\n",
      "Departamento: Inventory\n",
      "Fecha Predicha\t\tPredicción\tIntervalo de Confianza\n",
      "------------------------------------------------------------\n",
      "2025-06-01\t4.85\t\t(0.00, 11.73)\n",
      "2025-06-08\t5.71\t\t(0.00, 12.85)\n",
      "2025-06-15\t5.71\t\t(0.00, 12.85)\n",
      "2025-06-22\t5.71\t\t(0.00, 12.85)\n",
      "\n",
      "Métricas del modelo:\n",
      "RMSE: 4.34\n",
      "MAE: 3.23\n",
      "SMAPE: 59.39%\n",
      "MASE: 0.91\n",
      "Calidad del modelo: Bueno\n",
      "----------------------------------------------------------------------\n",
      "\n",
      "Departamento: Marketing\n",
      "Fecha Predicha\t\tPredicción\tIntervalo de Confianza\n",
      "------------------------------------------------------------\n",
      "2025-06-01\t6.14\t\t(0.00, 14.41)\n",
      "2025-06-08\t6.14\t\t(0.00, 14.41)\n",
      "2025-06-15\t6.14\t\t(0.00, 14.41)\n",
      "2025-06-22\t6.14\t\t(0.00, 14.41)\n",
      "\n",
      "Métricas del modelo:\n",
      "RMSE: 4.31\n",
      "MAE: 3.06\n",
      "SMAPE: 61.40%\n",
      "MASE: 0.73\n",
      "Calidad del modelo: Aceptable\n",
      "----------------------------------------------------------------------\n",
      "\n",
      "Departamento: Sales\n",
      "Fecha Predicha\t\tPredicción\tIntervalo de Confianza\n",
      "------------------------------------------------------------\n",
      "2025-06-01\t4.35\t\t(0.00, 12.09)\n",
      "2025-06-08\t5.34\t\t(0.00, 13.73)\n",
      "2025-06-15\t5.76\t\t(0.00, 14.25)\n",
      "2025-06-22\t5.93\t\t(0.00, 14.44)\n",
      "\n",
      "Métricas del modelo:\n",
      "RMSE: 4.04\n",
      "MAE: 3.40\n",
      "SMAPE: 73.03%\n",
      "MASE: 0.84\n",
      "Calidad del modelo: Aceptable\n",
      "----------------------------------------------------------------------\n",
      "\n",
      "Datos guardados exitosamente en la base de datos.\n",
      "\n",
      "Registros en Overtime_Predictions: 48\n",
      "Error verificando tablas: list index out of range\n"
     ]
    }
   ],
   "source": [
    "def save_predictions():\n",
    "\n",
    "    # Crear directorio si no existe\n",
    "    os.makedirs('Modelos Entrenados', exist_ok=True)\n",
    "\n",
    "    # Guardar modelo\n",
    "    model_path = 'Modelos Entrenados/overtime_forecast_model.pkl'\n",
    "    joblib.dump(model, model_path)\n",
    "    print(f\"Modelo guardado en: {model_path}\")\n",
    "\n",
    "    # Guardar predicciones y métricas en la base de datos\n",
    "    conn = get_db_connection()\n",
    "    cursor = conn.cursor()\n",
    "    timestamp = datetime.datetime.now()\n",
    "\n",
    "    try:\n",
    "        # 1. Crear tabla Overtime_Predictions si no existe\n",
    "        cursor.execute(\"\"\"\n",
    "            IF NOT EXISTS (SELECT * FROM sys.tables WHERE name = 'Overtime_Predictions')\n",
    "            CREATE TABLE Overtime_Predictions (\n",
    "                id INT IDENTITY(1,1) PRIMARY KEY,\n",
    "                timestamp DATETIME,\n",
    "                department VARCHAR(100),\n",
    "                prediction_date DATE,\n",
    "                predicted_value FLOAT,\n",
    "                confidence_lower FLOAT,\n",
    "                confidence_upper FLOAT\n",
    "            )\n",
    "        \"\"\")\n",
    "        \n",
    "        # 2. Crear tabla ML_Model_Metrics_Overtime_Predictions si no existe \n",
    "        cursor.execute(\"\"\"\n",
    "            IF NOT EXISTS (SELECT * FROM sys.tables WHERE name = 'ML_Model_Metrics_Overtime_Predictions')\n",
    "            CREATE TABLE ML_Model_Metrics_Overtime_Predictions (\n",
    "                id INT IDENTITY(1,1) PRIMARY KEY,\n",
    "                timestamp DATETIME,\n",
    "                department VARCHAR(100),\n",
    "                rmse FLOAT,\n",
    "                mae FLOAT,\n",
    "                smape FLOAT,\n",
    "                mase FLOAT,\n",
    "                model_quality VARCHAR(50)\n",
    "            )\n",
    "        \"\"\")\n",
    "        \n",
    "        # Guardar predicciones para cada departamento\n",
    "        for department, forecast in department_forecasts.items():\n",
    "            # Insertar predicciones\n",
    "            for _, row in forecast.iterrows():\n",
    "                cursor.execute(\"\"\"\n",
    "                    INSERT INTO Overtime_Predictions \n",
    "                    (timestamp, department, prediction_date, predicted_value, \n",
    "                     confidence_lower, confidence_upper)\n",
    "                    VALUES (%s, %s, %s, %s, %s, %s)\n",
    "                \"\"\", (\n",
    "                    timestamp,\n",
    "                    department, \n",
    "                    row['ds'],\n",
    "                    row['yhat'],\n",
    "                    row['yhat_lower'],\n",
    "                    row['yhat_upper']\n",
    "                ))\n",
    "            \n",
    "            # Insertar métricas del modelo\n",
    "            metric = metrics[department]\n",
    "            cursor.execute(\"\"\"\n",
    "                INSERT INTO ML_Model_Metrics_Overtime_Predictions \n",
    "                (timestamp, department, rmse, mae, smape, mase, model_quality)\n",
    "                VALUES (%s, %s, %s, %s, %s, %s, %s)\n",
    "            \"\"\", (\n",
    "                timestamp,\n",
    "                department,\n",
    "                metric['rmse'],\n",
    "                metric['mae'],\n",
    "                metric['smape'],\n",
    "                metric['mase'],\n",
    "                metric['quality']\n",
    "            ))\n",
    "        \n",
    "        conn.commit()\n",
    "        logging.info(\"Predicciones y métricas guardadas exitosamente\")\n",
    "        \n",
    "        # Mostrar resumen de lo guardado\n",
    "        print(\"\\nResumen de predicciones guardadas:\")\n",
    "        print(\"-\" * 70)\n",
    "        for department in department_forecasts.keys():\n",
    "            print(f\"\\nDepartamento: {department}\")\n",
    "            print(\"Fecha Predicha\\t\\tPredicción\\tIntervalo de Confianza\")\n",
    "            print(\"-\" * 60)\n",
    "            \n",
    "            forecast = department_forecasts[department]\n",
    "            for _, row in forecast.iterrows():\n",
    "                print(f\"{row['ds'].strftime('%Y-%m-%d')}\\t{row['yhat']:.2f}\\t\\t({row['yhat_lower']:.2f}, {row['yhat_upper']:.2f})\")\n",
    "            \n",
    "            # Mostrar métricas\n",
    "            metric = metrics[department]\n",
    "            print(f\"\\nMétricas del modelo:\")\n",
    "            print(f\"RMSE: {metric['rmse']:.2f}\")\n",
    "            print(f\"MAE: {metric['mae']:.2f}\")\n",
    "            print(f\"SMAPE: {metric['smape']:.2f}%\")\n",
    "            print(f\"MASE: {metric['mase']:.2f}\")\n",
    "            print(f\"Calidad del modelo: {metric['quality']}\")\n",
    "            print(\"-\" * 70)\n",
    "        \n",
    "    except Exception as e:\n",
    "        conn.rollback()\n",
    "        logging.error(f\"Error guardando datos: {e}\")\n",
    "        raise\n",
    "    finally:\n",
    "        conn.close()\n",
    "\n",
    "# Ejecutar el guardado de predicciones\n",
    "try:\n",
    "    save_predictions()\n",
    "    print(\"\\nDatos guardados exitosamente en la base de datos.\")\n",
    "except Exception as e:\n",
    "    print(f\"\\nError al guardar los datos: {str(e)}\")\n",
    "\n",
    "\n",
    "def verify_tables():\n",
    "    conn = get_db_connection()\n",
    "    cursor = conn.cursor()\n",
    "    try:\n",
    "        cursor.execute(\"\"\"\n",
    "            SELECT COUNT(*) FROM Overtime_Predictions;\n",
    "            SELECT COUNT(*) FROM ML_Model_Metrics_Overtime_Predictions;\n",
    "        \"\"\")\n",
    "        results = cursor.fetchall()\n",
    "        print(f\"\\nRegistros en Overtime_Predictions: {results[0][0]}\")\n",
    "        print(f\"Registros en ML_Model_Metrics: {results[1][0]}\")\n",
    "    except Exception as e:\n",
    "        print(f\"Error verificando tablas: {e}\")\n",
    "    finally:\n",
    "        conn.close()\n",
    "\n",
    "# Verificar tablas\n",
    "verify_tables()    "
   ]
  }
 ],
 "metadata": {
  "kernelspec": {
   "display_name": "Python 3",
   "language": "python",
   "name": "python3"
  },
  "language_info": {
   "codemirror_mode": {
    "name": "ipython",
    "version": 3
   },
   "file_extension": ".py",
   "mimetype": "text/x-python",
   "name": "python",
   "nbconvert_exporter": "python",
   "pygments_lexer": "ipython3",
   "version": "3.10.11"
  }
 },
 "nbformat": 4,
 "nbformat_minor": 5
}
