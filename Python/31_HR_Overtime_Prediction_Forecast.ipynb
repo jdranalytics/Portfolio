{
 "cells": [
  {
   "cell_type": "markdown",
   "id": "404f6110",
   "metadata": {},
   "source": [
    "# HR Overtime Prediction and Forecasting\n",
    "\n",
    "# Predicción y Pronóstico de Horas Extra de RRHH\n",
    "\n",
    "Este notebook implementa el pronóstico de horas extra utilizando Prophet y visualiza datos históricos, predicciones e intervalos de confianza usando Plotly. Los componentes principales incluyen:\n",
    "- Carga de datos históricos de horas extra desde SQL Server\n",
    "- Entrenamiento de modelos Prophet para cada departamento\n",
    "- Generación de predicciones con intervalos de incertidumbre \n",
    "- Visualización interactiva con Plotly\n",
    "- Almacenamiento de modelos y predicciones\n",
    "\n",
    "Objetivo: Predecir las horas extras acumuladas por departamento semana a semana para las próximas 4 semanas."
   ]
  },
  {
   "cell_type": "markdown",
   "id": "a874cc3c",
   "metadata": {},
   "source": [
    "## 1. Importar Librerías and Setup\n"
   ]
  },
  {
   "cell_type": "code",
   "execution_count": 11,
   "id": "b4616d67",
   "metadata": {},
   "outputs": [],
   "source": [
    "import pandas as pd\n",
    "import pymssql\n",
    "from prophet import Prophet\n",
    "from sklearn.metrics import mean_squared_error\n",
    "import numpy as np\n",
    "import joblib\n",
    "import datetime\n",
    "import logging\n",
    "import plotly.express as px\n",
    "import plotly.graph_objects as go\n",
    "from plotly.subplots import make_subplots\n",
    "\n",
    "# Configure logging\n",
    "logging.basicConfig(level=logging.INFO)"
   ]
  },
  {
   "cell_type": "markdown",
   "id": "2ad66f3e",
   "metadata": {},
   "source": [
    "## 2. Conectar a la base de datos\n",
    "\n",
    "Setup de SQL Server"
   ]
  },
  {
   "cell_type": "code",
   "execution_count": 12,
   "id": "5b80caa8",
   "metadata": {},
   "outputs": [],
   "source": [
    "# SQL Server Setup\n",
    "SQL_SERVER = \"172.28.192.1:50121\\\\SQLEXPRESS\"\n",
    "SQL_DB = \"HR_Analytics\"\n",
    "SQL_USER = \"sa\"\n",
    "SQL_PASSWORD = \"123456\"\n",
    "\n",
    "# Conectar a SQL Server\n",
    "def get_db_connection():\n",
    "    server_name = SQL_SERVER.split('\\\\')[0]\n",
    "    try:\n",
    "        conn = pymssql.connect(\n",
    "            server=server_name,\n",
    "            database=SQL_DB,\n",
    "            user=SQL_USER,\n",
    "            password=SQL_PASSWORD\n",
    "        )\n",
    "        return conn\n",
    "    except Exception as e:\n",
    "        logging.error(f\"Error de conexión a la base de datos: {e}\")\n",
    "        raise"
   ]
  },
  {
   "cell_type": "markdown",
   "id": "35d90a13",
   "metadata": {},
   "source": [
    "## 3. Cargar y procesar datos históricos de horas extras\n",
    "\n",
    "Consulta y preparación"
   ]
  },
  {
   "cell_type": "code",
   "execution_count": 13,
   "id": "e8694bc7",
   "metadata": {},
   "outputs": [
    {
     "name": "stderr",
     "output_type": "stream",
     "text": [
      "C:\\Users\\joey_\\AppData\\Local\\Temp\\ipykernel_13604\\595188091.py:11: UserWarning:\n",
      "\n",
      "pandas only supports SQLAlchemy connectable (engine/connection) or database string URI or sqlite3 DBAPI2 connection. Other DBAPI2 objects are not tested. Please consider using SQLAlchemy.\n",
      "\n",
      "INFO:root:Loaded data: 324 records\n"
     ]
    },
    {
     "name": "stdout",
     "output_type": "stream",
     "text": [
      "Muestra de datos históricos:\n"
     ]
    },
    {
     "data": {
      "application/vnd.microsoft.datawrangler.viewer.v0+json": {
       "columns": [
        {
         "name": "index",
         "rawType": "int64",
         "type": "integer"
        },
        {
         "name": "work_date",
         "rawType": "datetime64[ns]",
         "type": "datetime"
        },
        {
         "name": "department",
         "rawType": "object",
         "type": "string"
        },
        {
         "name": "total_overtime",
         "rawType": "float64",
         "type": "float"
        }
       ],
       "ref": "75fc7e95-009f-4611-bcac-54b452a174e1",
       "rows": [
        [
         "0",
         "2024-05-19 00:00:00",
         "Finance",
         "0.0"
        ],
        [
         "1",
         "2024-05-19 00:00:00",
         "HR",
         "0.0"
        ],
        [
         "2",
         "2024-05-19 00:00:00",
         "IT",
         "1.29"
        ],
        [
         "3",
         "2024-05-19 00:00:00",
         "Inventory",
         "0.0"
        ],
        [
         "4",
         "2024-05-19 00:00:00",
         "Marketing",
         "3.04"
        ],
        [
         "5",
         "2024-05-19 00:00:00",
         "Sales",
         "2.44"
        ],
        [
         "6",
         "2024-05-26 00:00:00",
         "Finance",
         "1.69"
        ],
        [
         "7",
         "2024-05-26 00:00:00",
         "HR",
         "8.84"
        ],
        [
         "8",
         "2024-05-26 00:00:00",
         "IT",
         "3.85"
        ],
        [
         "9",
         "2024-05-26 00:00:00",
         "Inventory",
         "7.029999999999999"
        ]
       ],
       "shape": {
        "columns": 3,
        "rows": 10
       }
      },
      "text/html": [
       "<div>\n",
       "<style scoped>\n",
       "    .dataframe tbody tr th:only-of-type {\n",
       "        vertical-align: middle;\n",
       "    }\n",
       "\n",
       "    .dataframe tbody tr th {\n",
       "        vertical-align: top;\n",
       "    }\n",
       "\n",
       "    .dataframe thead th {\n",
       "        text-align: right;\n",
       "    }\n",
       "</style>\n",
       "<table border=\"1\" class=\"dataframe\">\n",
       "  <thead>\n",
       "    <tr style=\"text-align: right;\">\n",
       "      <th></th>\n",
       "      <th>work_date</th>\n",
       "      <th>department</th>\n",
       "      <th>total_overtime</th>\n",
       "    </tr>\n",
       "  </thead>\n",
       "  <tbody>\n",
       "    <tr>\n",
       "      <th>0</th>\n",
       "      <td>2024-05-19</td>\n",
       "      <td>Finance</td>\n",
       "      <td>0.00</td>\n",
       "    </tr>\n",
       "    <tr>\n",
       "      <th>1</th>\n",
       "      <td>2024-05-19</td>\n",
       "      <td>HR</td>\n",
       "      <td>0.00</td>\n",
       "    </tr>\n",
       "    <tr>\n",
       "      <th>2</th>\n",
       "      <td>2024-05-19</td>\n",
       "      <td>IT</td>\n",
       "      <td>1.29</td>\n",
       "    </tr>\n",
       "    <tr>\n",
       "      <th>3</th>\n",
       "      <td>2024-05-19</td>\n",
       "      <td>Inventory</td>\n",
       "      <td>0.00</td>\n",
       "    </tr>\n",
       "    <tr>\n",
       "      <th>4</th>\n",
       "      <td>2024-05-19</td>\n",
       "      <td>Marketing</td>\n",
       "      <td>3.04</td>\n",
       "    </tr>\n",
       "    <tr>\n",
       "      <th>5</th>\n",
       "      <td>2024-05-19</td>\n",
       "      <td>Sales</td>\n",
       "      <td>2.44</td>\n",
       "    </tr>\n",
       "    <tr>\n",
       "      <th>6</th>\n",
       "      <td>2024-05-26</td>\n",
       "      <td>Finance</td>\n",
       "      <td>1.69</td>\n",
       "    </tr>\n",
       "    <tr>\n",
       "      <th>7</th>\n",
       "      <td>2024-05-26</td>\n",
       "      <td>HR</td>\n",
       "      <td>8.84</td>\n",
       "    </tr>\n",
       "    <tr>\n",
       "      <th>8</th>\n",
       "      <td>2024-05-26</td>\n",
       "      <td>IT</td>\n",
       "      <td>3.85</td>\n",
       "    </tr>\n",
       "    <tr>\n",
       "      <th>9</th>\n",
       "      <td>2024-05-26</td>\n",
       "      <td>Inventory</td>\n",
       "      <td>7.03</td>\n",
       "    </tr>\n",
       "  </tbody>\n",
       "</table>\n",
       "</div>"
      ],
      "text/plain": [
       "   work_date department  total_overtime\n",
       "0 2024-05-19    Finance            0.00\n",
       "1 2024-05-19         HR            0.00\n",
       "2 2024-05-19         IT            1.29\n",
       "3 2024-05-19  Inventory            0.00\n",
       "4 2024-05-19  Marketing            3.04\n",
       "5 2024-05-19      Sales            2.44\n",
       "6 2024-05-26    Finance            1.69\n",
       "7 2024-05-26         HR            8.84\n",
       "8 2024-05-26         IT            3.85\n",
       "9 2024-05-26  Inventory            7.03"
      ]
     },
     "metadata": {},
     "output_type": "display_data"
    }
   ],
   "source": [
    "def load_historical_data():\n",
    "    conn = get_db_connection()\n",
    "    query = \"\"\"\n",
    "    SELECT k.work_date, w.department, SUM(k.overtime_hours) as total_overtime\n",
    "    FROM Kronos_TimeEntries k\n",
    "    JOIN Workday_Employees w ON k.employee_id = w.employee_id\n",
    "    GROUP BY k.work_date, w.department\n",
    "    \"\"\"\n",
    "    \n",
    "    try:\n",
    "        df = pd.read_sql(query, conn)\n",
    "        df['work_date'] = pd.to_datetime(df['work_date']).dt.strftime('%Y-%m-%d')\n",
    "        df['work_date'] = pd.to_datetime(df['work_date'])\n",
    "        \n",
    "        # Aggregate by week\n",
    "        df = df.groupby([pd.Grouper(key='work_date', freq='W'), 'department'])['total_overtime'].sum().reset_index()\n",
    "        \n",
    "        logging.info(f\"Loaded data: {len(df)} records\")\n",
    "        return df\n",
    "    \n",
    "    finally:\n",
    "        conn.close()\n",
    "\n",
    "# Load and display data\n",
    "historical_data = load_historical_data()\n",
    "print(\"Muestra de datos históricos:\")\n",
    "display(historical_data.head(10))"
   ]
  },
  {
   "cell_type": "markdown",
   "id": "8022468c",
   "metadata": {},
   "source": [
    "## 4. Entrenar Modelo Prophet\n",
    "\n",
    "Crear y entrenar modelo Prophet para cada departamento."
   ]
  },
  {
   "cell_type": "code",
   "execution_count": 14,
   "id": "3595c986",
   "metadata": {},
   "outputs": [
    {
     "name": "stderr",
     "output_type": "stream",
     "text": [
      "DEBUG:cmdstanpy:cmd: where.exe tbb.dll\n",
      "cwd: None\n"
     ]
    },
    {
     "name": "stderr",
     "output_type": "stream",
     "text": [
      "DEBUG:cmdstanpy:TBB already found in load path\n",
      "DEBUG:cmdstanpy:input tempfile: C:\\Users\\joey_\\AppData\\Local\\Temp\\tmpbhueithd\\fn0ehijk.json\n",
      "DEBUG:cmdstanpy:input tempfile: C:\\Users\\joey_\\AppData\\Local\\Temp\\tmpbhueithd\\ntjgo6jq.json\n",
      "DEBUG:cmdstanpy:idx 0\n",
      "DEBUG:cmdstanpy:running CmdStan, num_threads: None\n",
      "DEBUG:cmdstanpy:CmdStan args: ['C:\\\\Users\\\\joey_\\\\AppData\\\\Local\\\\Programs\\\\Python\\\\Python310\\\\Lib\\\\site-packages\\\\prophet\\\\stan_model\\\\prophet_model.bin', 'random', 'seed=18630', 'data', 'file=C:\\\\Users\\\\joey_\\\\AppData\\\\Local\\\\Temp\\\\tmpbhueithd\\\\fn0ehijk.json', 'init=C:\\\\Users\\\\joey_\\\\AppData\\\\Local\\\\Temp\\\\tmpbhueithd\\\\ntjgo6jq.json', 'output', 'file=C:\\\\Users\\\\joey_\\\\AppData\\\\Local\\\\Temp\\\\tmpbhueithd\\\\prophet_modelu3hds9od\\\\prophet_model-20250521115732.csv', 'method=optimize', 'algorithm=newton', 'iter=10000']\n",
      "11:57:32 - cmdstanpy - INFO - Chain [1] start processing\n",
      "INFO:cmdstanpy:Chain [1] start processing\n",
      "11:57:33 - cmdstanpy - INFO - Chain [1] done processing\n",
      "INFO:cmdstanpy:Chain [1] done processing\n",
      "DEBUG:cmdstanpy:cmd: where.exe tbb.dll\n",
      "cwd: None\n"
     ]
    },
    {
     "name": "stdout",
     "output_type": "stream",
     "text": [
      "\n",
      "Métricas para departamento Finance:\n",
      "RMSE: 8.89\n",
      "MAPE: nan%\n",
      "R²: 1.00\n",
      "Calidad del modelo: Necesita mejoras\n"
     ]
    },
    {
     "name": "stderr",
     "output_type": "stream",
     "text": [
      "DEBUG:cmdstanpy:TBB already found in load path\n",
      "DEBUG:cmdstanpy:input tempfile: C:\\Users\\joey_\\AppData\\Local\\Temp\\tmpbhueithd\\5_hfpz2e.json\n",
      "DEBUG:cmdstanpy:input tempfile: C:\\Users\\joey_\\AppData\\Local\\Temp\\tmpbhueithd\\v9nutm1w.json\n",
      "DEBUG:cmdstanpy:idx 0\n",
      "DEBUG:cmdstanpy:running CmdStan, num_threads: None\n",
      "DEBUG:cmdstanpy:CmdStan args: ['C:\\\\Users\\\\joey_\\\\AppData\\\\Local\\\\Programs\\\\Python\\\\Python310\\\\Lib\\\\site-packages\\\\prophet\\\\stan_model\\\\prophet_model.bin', 'random', 'seed=5487', 'data', 'file=C:\\\\Users\\\\joey_\\\\AppData\\\\Local\\\\Temp\\\\tmpbhueithd\\\\5_hfpz2e.json', 'init=C:\\\\Users\\\\joey_\\\\AppData\\\\Local\\\\Temp\\\\tmpbhueithd\\\\v9nutm1w.json', 'output', 'file=C:\\\\Users\\\\joey_\\\\AppData\\\\Local\\\\Temp\\\\tmpbhueithd\\\\prophet_modelxqnzz1g7\\\\prophet_model-20250521115734.csv', 'method=optimize', 'algorithm=newton', 'iter=10000']\n",
      "11:57:34 - cmdstanpy - INFO - Chain [1] start processing\n",
      "INFO:cmdstanpy:Chain [1] start processing\n",
      "11:57:35 - cmdstanpy - INFO - Chain [1] done processing\n",
      "INFO:cmdstanpy:Chain [1] done processing\n",
      "DEBUG:cmdstanpy:cmd: where.exe tbb.dll\n",
      "cwd: None\n"
     ]
    },
    {
     "name": "stdout",
     "output_type": "stream",
     "text": [
      "\n",
      "Métricas para departamento HR:\n",
      "RMSE: 9.62\n",
      "MAPE: nan%\n",
      "R²: 1.00\n",
      "Calidad del modelo: Necesita mejoras\n"
     ]
    },
    {
     "name": "stderr",
     "output_type": "stream",
     "text": [
      "DEBUG:cmdstanpy:TBB already found in load path\n",
      "DEBUG:cmdstanpy:input tempfile: C:\\Users\\joey_\\AppData\\Local\\Temp\\tmpbhueithd\\4_e7j01l.json\n",
      "DEBUG:cmdstanpy:input tempfile: C:\\Users\\joey_\\AppData\\Local\\Temp\\tmpbhueithd\\6fhtu2gb.json\n",
      "DEBUG:cmdstanpy:idx 0\n",
      "DEBUG:cmdstanpy:running CmdStan, num_threads: None\n",
      "DEBUG:cmdstanpy:CmdStan args: ['C:\\\\Users\\\\joey_\\\\AppData\\\\Local\\\\Programs\\\\Python\\\\Python310\\\\Lib\\\\site-packages\\\\prophet\\\\stan_model\\\\prophet_model.bin', 'random', 'seed=49582', 'data', 'file=C:\\\\Users\\\\joey_\\\\AppData\\\\Local\\\\Temp\\\\tmpbhueithd\\\\4_e7j01l.json', 'init=C:\\\\Users\\\\joey_\\\\AppData\\\\Local\\\\Temp\\\\tmpbhueithd\\\\6fhtu2gb.json', 'output', 'file=C:\\\\Users\\\\joey_\\\\AppData\\\\Local\\\\Temp\\\\tmpbhueithd\\\\prophet_model91nzoyj5\\\\prophet_model-20250521115735.csv', 'method=optimize', 'algorithm=newton', 'iter=10000']\n",
      "11:57:35 - cmdstanpy - INFO - Chain [1] start processing\n",
      "INFO:cmdstanpy:Chain [1] start processing\n",
      "11:57:36 - cmdstanpy - INFO - Chain [1] done processing\n",
      "INFO:cmdstanpy:Chain [1] done processing\n",
      "DEBUG:cmdstanpy:cmd: where.exe tbb.dll\n",
      "cwd: None\n"
     ]
    },
    {
     "name": "stdout",
     "output_type": "stream",
     "text": [
      "\n",
      "Métricas para departamento IT:\n",
      "RMSE: 22.86\n",
      "MAPE: nan%\n",
      "R²: 1.00\n",
      "Calidad del modelo: Necesita mejoras\n"
     ]
    },
    {
     "name": "stderr",
     "output_type": "stream",
     "text": [
      "DEBUG:cmdstanpy:TBB already found in load path\n",
      "DEBUG:cmdstanpy:input tempfile: C:\\Users\\joey_\\AppData\\Local\\Temp\\tmpbhueithd\\25vmw971.json\n",
      "DEBUG:cmdstanpy:input tempfile: C:\\Users\\joey_\\AppData\\Local\\Temp\\tmpbhueithd\\6o0ruu7c.json\n",
      "DEBUG:cmdstanpy:idx 0\n",
      "DEBUG:cmdstanpy:running CmdStan, num_threads: None\n",
      "DEBUG:cmdstanpy:CmdStan args: ['C:\\\\Users\\\\joey_\\\\AppData\\\\Local\\\\Programs\\\\Python\\\\Python310\\\\Lib\\\\site-packages\\\\prophet\\\\stan_model\\\\prophet_model.bin', 'random', 'seed=65144', 'data', 'file=C:\\\\Users\\\\joey_\\\\AppData\\\\Local\\\\Temp\\\\tmpbhueithd\\\\25vmw971.json', 'init=C:\\\\Users\\\\joey_\\\\AppData\\\\Local\\\\Temp\\\\tmpbhueithd\\\\6o0ruu7c.json', 'output', 'file=C:\\\\Users\\\\joey_\\\\AppData\\\\Local\\\\Temp\\\\tmpbhueithd\\\\prophet_modelgjkofxvf\\\\prophet_model-20250521115737.csv', 'method=optimize', 'algorithm=newton', 'iter=10000']\n",
      "11:57:37 - cmdstanpy - INFO - Chain [1] start processing\n",
      "INFO:cmdstanpy:Chain [1] start processing\n",
      "11:57:38 - cmdstanpy - INFO - Chain [1] done processing\n",
      "INFO:cmdstanpy:Chain [1] done processing\n",
      "DEBUG:cmdstanpy:cmd: where.exe tbb.dll\n",
      "cwd: None\n"
     ]
    },
    {
     "name": "stdout",
     "output_type": "stream",
     "text": [
      "\n",
      "Métricas para departamento Inventory:\n",
      "RMSE: 60.10\n",
      "MAPE: nan%\n",
      "R²: 1.00\n",
      "Calidad del modelo: Necesita mejoras\n"
     ]
    },
    {
     "name": "stderr",
     "output_type": "stream",
     "text": [
      "DEBUG:cmdstanpy:TBB already found in load path\n",
      "DEBUG:cmdstanpy:input tempfile: C:\\Users\\joey_\\AppData\\Local\\Temp\\tmpbhueithd\\_y0bpd1_.json\n",
      "DEBUG:cmdstanpy:input tempfile: C:\\Users\\joey_\\AppData\\Local\\Temp\\tmpbhueithd\\8sbik3t5.json\n",
      "DEBUG:cmdstanpy:idx 0\n",
      "DEBUG:cmdstanpy:running CmdStan, num_threads: None\n",
      "DEBUG:cmdstanpy:CmdStan args: ['C:\\\\Users\\\\joey_\\\\AppData\\\\Local\\\\Programs\\\\Python\\\\Python310\\\\Lib\\\\site-packages\\\\prophet\\\\stan_model\\\\prophet_model.bin', 'random', 'seed=8047', 'data', 'file=C:\\\\Users\\\\joey_\\\\AppData\\\\Local\\\\Temp\\\\tmpbhueithd\\\\_y0bpd1_.json', 'init=C:\\\\Users\\\\joey_\\\\AppData\\\\Local\\\\Temp\\\\tmpbhueithd\\\\8sbik3t5.json', 'output', 'file=C:\\\\Users\\\\joey_\\\\AppData\\\\Local\\\\Temp\\\\tmpbhueithd\\\\prophet_modelj1ee3o5_\\\\prophet_model-20250521115739.csv', 'method=optimize', 'algorithm=newton', 'iter=10000']\n",
      "11:57:39 - cmdstanpy - INFO - Chain [1] start processing\n",
      "INFO:cmdstanpy:Chain [1] start processing\n",
      "11:57:39 - cmdstanpy - INFO - Chain [1] done processing\n",
      "INFO:cmdstanpy:Chain [1] done processing\n",
      "DEBUG:cmdstanpy:cmd: where.exe tbb.dll\n",
      "cwd: None\n"
     ]
    },
    {
     "name": "stdout",
     "output_type": "stream",
     "text": [
      "\n",
      "Métricas para departamento Marketing:\n",
      "RMSE: 26.64\n",
      "MAPE: nan%\n",
      "R²: 1.00\n",
      "Calidad del modelo: Necesita mejoras\n"
     ]
    },
    {
     "name": "stderr",
     "output_type": "stream",
     "text": [
      "DEBUG:cmdstanpy:TBB already found in load path\n",
      "DEBUG:cmdstanpy:input tempfile: C:\\Users\\joey_\\AppData\\Local\\Temp\\tmpbhueithd\\nvvktzdm.json\n",
      "DEBUG:cmdstanpy:input tempfile: C:\\Users\\joey_\\AppData\\Local\\Temp\\tmpbhueithd\\z2cgypy_.json\n",
      "DEBUG:cmdstanpy:idx 0\n",
      "DEBUG:cmdstanpy:running CmdStan, num_threads: None\n",
      "DEBUG:cmdstanpy:CmdStan args: ['C:\\\\Users\\\\joey_\\\\AppData\\\\Local\\\\Programs\\\\Python\\\\Python310\\\\Lib\\\\site-packages\\\\prophet\\\\stan_model\\\\prophet_model.bin', 'random', 'seed=596', 'data', 'file=C:\\\\Users\\\\joey_\\\\AppData\\\\Local\\\\Temp\\\\tmpbhueithd\\\\nvvktzdm.json', 'init=C:\\\\Users\\\\joey_\\\\AppData\\\\Local\\\\Temp\\\\tmpbhueithd\\\\z2cgypy_.json', 'output', 'file=C:\\\\Users\\\\joey_\\\\AppData\\\\Local\\\\Temp\\\\tmpbhueithd\\\\prophet_model_l729ahq\\\\prophet_model-20250521115740.csv', 'method=optimize', 'algorithm=newton', 'iter=10000']\n",
      "11:57:40 - cmdstanpy - INFO - Chain [1] start processing\n",
      "INFO:cmdstanpy:Chain [1] start processing\n",
      "11:57:40 - cmdstanpy - INFO - Chain [1] done processing\n",
      "INFO:cmdstanpy:Chain [1] done processing\n"
     ]
    },
    {
     "name": "stdout",
     "output_type": "stream",
     "text": [
      "\n",
      "Métricas para departamento Sales:\n",
      "RMSE: 4.27\n",
      "MAPE: nan%\n",
      "R²: 1.00\n",
      "Calidad del modelo: Necesita mejoras\n",
      "\n",
      "Resumen de calidad de modelos:\n"
     ]
    },
    {
     "data": {
      "application/vnd.microsoft.datawrangler.viewer.v0+json": {
       "columns": [
        {
         "name": "index",
         "rawType": "int64",
         "type": "integer"
        },
        {
         "name": "department",
         "rawType": "object",
         "type": "string"
        },
        {
         "name": "rmse",
         "rawType": "float64",
         "type": "float"
        },
        {
         "name": "mape",
         "rawType": "float64",
         "type": "float"
        },
        {
         "name": "r2",
         "rawType": "float64",
         "type": "float"
        },
        {
         "name": "model_quality",
         "rawType": "object",
         "type": "string"
        }
       ],
       "ref": "31a464cf-dfca-4363-b106-ac400bd624a0",
       "rows": [
        [
         "0",
         "Finance",
         "8.89133020323739",
         null,
         "1.0",
         "Necesita mejoras"
        ],
        [
         "1",
         "HR",
         "9.624972330181329",
         null,
         "1.0",
         "Necesita mejoras"
        ],
        [
         "2",
         "IT",
         "22.857597615150855",
         null,
         "1.0",
         "Necesita mejoras"
        ],
        [
         "3",
         "Inventory",
         "60.095095837240336",
         null,
         "1.0",
         "Necesita mejoras"
        ],
        [
         "4",
         "Marketing",
         "26.640832785973558",
         null,
         "1.0",
         "Necesita mejoras"
        ],
        [
         "5",
         "Sales",
         "4.2673924980219775",
         null,
         "1.0",
         "Necesita mejoras"
        ]
       ],
       "shape": {
        "columns": 5,
        "rows": 6
       }
      },
      "text/html": [
       "<div>\n",
       "<style scoped>\n",
       "    .dataframe tbody tr th:only-of-type {\n",
       "        vertical-align: middle;\n",
       "    }\n",
       "\n",
       "    .dataframe tbody tr th {\n",
       "        vertical-align: top;\n",
       "    }\n",
       "\n",
       "    .dataframe thead th {\n",
       "        text-align: right;\n",
       "    }\n",
       "</style>\n",
       "<table border=\"1\" class=\"dataframe\">\n",
       "  <thead>\n",
       "    <tr style=\"text-align: right;\">\n",
       "      <th></th>\n",
       "      <th>department</th>\n",
       "      <th>rmse</th>\n",
       "      <th>mape</th>\n",
       "      <th>r2</th>\n",
       "      <th>model_quality</th>\n",
       "    </tr>\n",
       "  </thead>\n",
       "  <tbody>\n",
       "    <tr>\n",
       "      <th>0</th>\n",
       "      <td>Finance</td>\n",
       "      <td>8.891330</td>\n",
       "      <td>NaN</td>\n",
       "      <td>1.0</td>\n",
       "      <td>Necesita mejoras</td>\n",
       "    </tr>\n",
       "    <tr>\n",
       "      <th>1</th>\n",
       "      <td>HR</td>\n",
       "      <td>9.624972</td>\n",
       "      <td>NaN</td>\n",
       "      <td>1.0</td>\n",
       "      <td>Necesita mejoras</td>\n",
       "    </tr>\n",
       "    <tr>\n",
       "      <th>2</th>\n",
       "      <td>IT</td>\n",
       "      <td>22.857598</td>\n",
       "      <td>NaN</td>\n",
       "      <td>1.0</td>\n",
       "      <td>Necesita mejoras</td>\n",
       "    </tr>\n",
       "    <tr>\n",
       "      <th>3</th>\n",
       "      <td>Inventory</td>\n",
       "      <td>60.095096</td>\n",
       "      <td>NaN</td>\n",
       "      <td>1.0</td>\n",
       "      <td>Necesita mejoras</td>\n",
       "    </tr>\n",
       "    <tr>\n",
       "      <th>4</th>\n",
       "      <td>Marketing</td>\n",
       "      <td>26.640833</td>\n",
       "      <td>NaN</td>\n",
       "      <td>1.0</td>\n",
       "      <td>Necesita mejoras</td>\n",
       "    </tr>\n",
       "    <tr>\n",
       "      <th>5</th>\n",
       "      <td>Sales</td>\n",
       "      <td>4.267392</td>\n",
       "      <td>NaN</td>\n",
       "      <td>1.0</td>\n",
       "      <td>Necesita mejoras</td>\n",
       "    </tr>\n",
       "  </tbody>\n",
       "</table>\n",
       "</div>"
      ],
      "text/plain": [
       "  department       rmse  mape   r2     model_quality\n",
       "0    Finance   8.891330   NaN  1.0  Necesita mejoras\n",
       "1         HR   9.624972   NaN  1.0  Necesita mejoras\n",
       "2         IT  22.857598   NaN  1.0  Necesita mejoras\n",
       "3  Inventory  60.095096   NaN  1.0  Necesita mejoras\n",
       "4  Marketing  26.640833   NaN  1.0  Necesita mejoras\n",
       "5      Sales   4.267392   NaN  1.0  Necesita mejoras"
      ]
     },
     "metadata": {},
     "output_type": "display_data"
    }
   ],
   "source": [
    "def train_prophet_model(dept_data):\n",
    "\n",
    "    \n",
    "    # Preparar datos para Prophet\n",
    "    df = dept_data[['work_date', 'total_overtime']].copy()\n",
    "    df.columns = ['ds', 'y']\n",
    "    \n",
    "    # Split de datos: usar últimas 4 semanas para evaluación\n",
    "    train = df.iloc[:-4] if len(df) > 4 else df\n",
    "    test = df.iloc[-4:] if len(df) > 4 else pd.DataFrame()\n",
    "    \n",
    "    # Crear y entrenar modelo\n",
    "    model = Prophet(\n",
    "        yearly_seasonality=True,\n",
    "        weekly_seasonality=True,\n",
    "        daily_seasonality=False,\n",
    "        interval_width=0.95\n",
    "    )\n",
    "    model.fit(train)\n",
    "    \n",
    "    # Evaluar modelo en datos de prueba\n",
    "    metrics = {}\n",
    "    if not test.empty:\n",
    "        # Generar predicciones para el período de prueba\n",
    "        forecast = model.predict(test[['ds']])\n",
    "        y_pred = forecast['yhat']\n",
    "        y_true = test['y']\n",
    "        \n",
    "        # Calcular métricas\n",
    "        rmse = np.sqrt(mean_squared_error(y_true, y_pred))\n",
    "        mape = np.mean(np.abs((y_true - y_pred) / y_true)) * 100\n",
    "        r2 = 1 - np.sum((y_true - y_pred) ** 2) / np.sum((y_true - y_true.mean()) ** 2)\n",
    "        \n",
    "        metrics = {\n",
    "            'rmse': rmse,\n",
    "            'mape': mape,\n",
    "            'r2': r2,\n",
    "            'model_quality': evaluate_model_quality(mape, r2)\n",
    "        }\n",
    "    \n",
    "    return model, metrics\n",
    "\n",
    "def evaluate_model_quality(mape, r2):\n",
    "    \"\"\"Evaluate model quality based on MAPE and R2\"\"\"\n",
    "    if mape <= 10 and r2 >= 0.8:\n",
    "        return \"Excelente\"\n",
    "    elif mape <= 20 and r2 >= 0.7:\n",
    "        return \"Bueno\"\n",
    "    elif mape <= 30 and r2 >= 0.6:\n",
    "        return \"Aceptable\"\n",
    "    else:\n",
    "        return \"Necesita mejoras\"\n",
    "\n",
    "# Entrenamiento por cada departamento\n",
    "department_models = {}\n",
    "metrics = {}\n",
    "\n",
    "for department in historical_data['department'].unique():\n",
    "    dept_data = historical_data[historical_data['department'] == department]\n",
    "    \n",
    "    if len(dept_data) < 10:\n",
    "        logging.warning(f\"Datos insuficientes para departamento: {department}\")\n",
    "        continue\n",
    "\n",
    "    # Entrenar y evaluar modelo\n",
    "    model, model_metrics = train_prophet_model(dept_data)\n",
    "    department_models[department] = model\n",
    "    metrics[department] = model_metrics\n",
    "    \n",
    "    # Mostrar métricas\n",
    "    print(f\"\\nMétricas para departamento {department}:\")\n",
    "    print(f\"RMSE: {model_metrics['rmse']:.2f}\")\n",
    "    print(f\"MAPE: {model_metrics['mape']:.2f}%\")\n",
    "    print(f\"R²: {model_metrics['r2']:.2f}\")\n",
    "    print(f\"Calidad del modelo: {model_metrics['model_quality']}\")\n",
    "\n",
    "# Guardar resultados\n",
    "results_df = pd.DataFrame([\n",
    "    {\n",
    "        'department': dept,\n",
    "        'rmse': metrics[dept]['rmse'],\n",
    "        'mape': metrics[dept]['mape'],\n",
    "        'r2': metrics[dept]['r2'],\n",
    "        'model_quality': metrics[dept]['model_quality']\n",
    "    }\n",
    "    for dept in metrics.keys()\n",
    "])\n",
    "\n",
    "print(\"\\nResumen de calidad de modelos:\")\n",
    "display(results_df)"
   ]
  },
  {
   "cell_type": "markdown",
   "id": "c6d8a732",
   "metadata": {},
   "source": [
    "## 5. Generar Predicciones\n",
    "\n",
    "Predicción para las próximas 4 semanas de Overtime"
   ]
  },
  {
   "cell_type": "code",
   "execution_count": 15,
   "id": "0406a28e",
   "metadata": {},
   "outputs": [
    {
     "name": "stdout",
     "output_type": "stream",
     "text": [
      "Generated predictions for departments: ['Finance', 'HR', 'IT', 'Inventory', 'Marketing', 'Sales']\n"
     ]
    }
   ],
   "source": [
    "def generate_predictions(model, periods=4):\n",
    "    \"\"\"Generate future predictions with confidence intervals\"\"\"\n",
    "    future = model.make_future_dataframe(periods=periods, freq='W')\n",
    "    forecast = model.predict(future)\n",
    "    return forecast\n",
    "\n",
    "# Generate predictions for each department\n",
    "department_forecasts = {}\n",
    "for department, model in department_models.items():\n",
    "    forecast = generate_predictions(model)\n",
    "    department_forecasts[department] = forecast\n",
    "\n",
    "print(\"Generated predictions for departments:\", list(department_forecasts.keys()))"
   ]
  },
  {
   "cell_type": "markdown",
   "id": "370e02cf",
   "metadata": {},
   "source": [
    "## 6. Visualize Results with Plotly\n",
    "\n",
    "Create interactive plots showing historical data, predictions, and confidence intervals."
   ]
  },
  {
   "cell_type": "code",
   "execution_count": 16,
   "id": "fbb40784",
   "metadata": {},
   "outputs": [
    {
     "data": {
      "application/vnd.plotly.v1+json": {
       "config": {
        "plotlyServerURL": "https://plot.ly"
       },
       "data": [
        {
         "line": {
          "color": "blue"
         },
         "mode": "markers+lines",
         "name": "Historical",
         "type": "scatter",
         "x": [
          "2024-05-19T00:00:00.000000000",
          "2024-05-26T00:00:00.000000000",
          "2024-06-02T00:00:00.000000000",
          "2024-06-09T00:00:00.000000000",
          "2024-06-16T00:00:00.000000000",
          "2024-06-23T00:00:00.000000000",
          "2024-06-30T00:00:00.000000000",
          "2024-07-07T00:00:00.000000000",
          "2024-07-14T00:00:00.000000000",
          "2024-07-21T00:00:00.000000000",
          "2024-07-28T00:00:00.000000000",
          "2024-08-04T00:00:00.000000000",
          "2024-08-11T00:00:00.000000000",
          "2024-08-18T00:00:00.000000000",
          "2024-08-25T00:00:00.000000000",
          "2024-09-01T00:00:00.000000000",
          "2024-09-08T00:00:00.000000000",
          "2024-09-15T00:00:00.000000000",
          "2024-09-22T00:00:00.000000000",
          "2024-09-29T00:00:00.000000000",
          "2024-10-06T00:00:00.000000000",
          "2024-10-13T00:00:00.000000000",
          "2024-10-20T00:00:00.000000000",
          "2024-10-27T00:00:00.000000000",
          "2024-11-03T00:00:00.000000000",
          "2024-11-10T00:00:00.000000000",
          "2024-11-17T00:00:00.000000000",
          "2024-11-24T00:00:00.000000000",
          "2024-12-01T00:00:00.000000000",
          "2024-12-08T00:00:00.000000000",
          "2024-12-15T00:00:00.000000000",
          "2024-12-22T00:00:00.000000000",
          "2024-12-29T00:00:00.000000000",
          "2025-01-05T00:00:00.000000000",
          "2025-01-12T00:00:00.000000000",
          "2025-01-19T00:00:00.000000000",
          "2025-01-26T00:00:00.000000000",
          "2025-02-02T00:00:00.000000000",
          "2025-02-09T00:00:00.000000000",
          "2025-02-16T00:00:00.000000000",
          "2025-02-23T00:00:00.000000000",
          "2025-03-02T00:00:00.000000000",
          "2025-03-09T00:00:00.000000000",
          "2025-03-16T00:00:00.000000000",
          "2025-03-23T00:00:00.000000000",
          "2025-03-30T00:00:00.000000000",
          "2025-04-06T00:00:00.000000000",
          "2025-04-13T00:00:00.000000000",
          "2025-04-20T00:00:00.000000000",
          "2025-04-27T00:00:00.000000000",
          "2025-05-04T00:00:00.000000000",
          "2025-05-11T00:00:00.000000000",
          "2025-05-18T00:00:00.000000000",
          "2025-05-25T00:00:00.000000000"
         ],
         "y": {
          "bdata": "AAAAAAAAAAAK16NwPQr7P+J6FK5H4RhApHA9CtejEUBI4XoUrkfxP1yPwvUo3CFAcT0K16NwGkCuR+F6FK4TQML1KFyPwiJAcT0K16NwHECG61G4HoUdQKRwPQrXow5ArkfhehSuD0AAAAAAAAAAAHsUrkfhegRAAAAAAAAAAAAAAAAAAAAAAM3MzMzMzPg/pHA9CtejAkD2KFyPwvUOQHsUrkfhehNA4XoUrkfhF0BSuB6F61EZQIXrUbgeBSJAAAAAAACAJUCamZmZmZn1P83MzMzMzBVAMzMzMzMzGECQwvUoXI8cQOxRuB6F6yJAXI/C9ShcD0BI4XoUrkcQQLgehetRuAhA4XoUrkfhFEBcj8L1KFwTQD4K16NwPRFA16NwPQpXKUCamZmZmRkiQNejcD0K1wVAFK5H4XqUJ0CamZmZmZkXQFyPwvUoXBdAXI/C9ShcI0DiehSuR+H+PwrXo3A9CglArkfhehSuGEB7FK5H4fogQAAAAAAAABNAUrgehetRFkAzMzMzMzMQQHsUrkfhehlA7FG4HoXrGkAUrkfhehQpQJqZmZmZmfk/",
          "dtype": "f8"
         }
        },
        {
         "line": {
          "color": "red"
         },
         "mode": "lines",
         "name": "Forecast",
         "type": "scatter",
         "x": [
          "2024-05-19T00:00:00.000000000",
          "2024-05-26T00:00:00.000000000",
          "2024-06-02T00:00:00.000000000",
          "2024-06-09T00:00:00.000000000",
          "2024-06-16T00:00:00.000000000",
          "2024-06-23T00:00:00.000000000",
          "2024-06-30T00:00:00.000000000",
          "2024-07-07T00:00:00.000000000",
          "2024-07-14T00:00:00.000000000",
          "2024-07-21T00:00:00.000000000",
          "2024-07-28T00:00:00.000000000",
          "2024-08-04T00:00:00.000000000",
          "2024-08-11T00:00:00.000000000",
          "2024-08-18T00:00:00.000000000",
          "2024-08-25T00:00:00.000000000",
          "2024-09-01T00:00:00.000000000",
          "2024-09-08T00:00:00.000000000",
          "2024-09-15T00:00:00.000000000",
          "2024-09-22T00:00:00.000000000",
          "2024-09-29T00:00:00.000000000",
          "2024-10-06T00:00:00.000000000",
          "2024-10-13T00:00:00.000000000",
          "2024-10-20T00:00:00.000000000",
          "2024-10-27T00:00:00.000000000",
          "2024-11-03T00:00:00.000000000",
          "2024-11-10T00:00:00.000000000",
          "2024-11-17T00:00:00.000000000",
          "2024-11-24T00:00:00.000000000",
          "2024-12-01T00:00:00.000000000",
          "2024-12-08T00:00:00.000000000",
          "2024-12-15T00:00:00.000000000",
          "2024-12-22T00:00:00.000000000",
          "2024-12-29T00:00:00.000000000",
          "2025-01-05T00:00:00.000000000",
          "2025-01-12T00:00:00.000000000",
          "2025-01-19T00:00:00.000000000",
          "2025-01-26T00:00:00.000000000",
          "2025-02-02T00:00:00.000000000",
          "2025-02-09T00:00:00.000000000",
          "2025-02-16T00:00:00.000000000",
          "2025-02-23T00:00:00.000000000",
          "2025-03-02T00:00:00.000000000",
          "2025-03-09T00:00:00.000000000",
          "2025-03-16T00:00:00.000000000",
          "2025-03-23T00:00:00.000000000",
          "2025-03-30T00:00:00.000000000",
          "2025-04-06T00:00:00.000000000",
          "2025-04-13T00:00:00.000000000",
          "2025-04-20T00:00:00.000000000",
          "2025-04-27T00:00:00.000000000",
          "2025-05-04T00:00:00.000000000",
          "2025-05-11T00:00:00.000000000",
          "2025-05-18T00:00:00.000000000",
          "2025-05-25T00:00:00.000000000"
         ],
         "y": {
          "bdata": "XHgsC0O817+LHmOCVvAIQIAIPa8KYhFA1v1XH3M7EUDU9BQor6wRQHc0ZSSwORVAPZSqbxZlGkBmd4rjf0oeQKBpU1kZTh9A8KEvb0uMHUAvBBE6pKYZQIeGlF039xNANCB08cMUCkBuWkg7RnH5P9h/9vmd1d8/cAYgOAJz0j9MkG2yvcrpP17K/avldPk/O6y5T829AkABC/dqEK8JQBW07XGEORJAkOcfkG11GUBgQDr0RbwfQIutzSTlnyBAzghUpZbdHEBcfkewJiAWQPD++Fco5RJAuF6emqQZFkCmq1KzGnocQK9YYsn0Fh9AMCVh6NnmGUBGCYG0Li8QQCAfr1xvGARAknTjdXIWCkAWFVq+mfwWQLZ9ypGGGCBAsNrhBGVtIUCEsfbMRQMgQA+zeI+nRB1A3mLf5PfxHUDEZXlpMqUfQEVDv24llR1A+50U5gDpFkCqo8i7DpEQQAqadTgnQxBAprcRR5ACFkCh7IdQeIYbQEI3ObOJnxpALCFgfBIeFEBwoWuMdeEPQJ7eRgMNFxZAgnygcuWgI0CbKT01yxAuQFTMtZEC6jJA",
          "dtype": "f8"
         }
        },
        {
         "fill": "toself",
         "fillcolor": "rgba(0,100,80,0.2)",
         "line": {
          "color": "rgba(255,255,255,0)"
         },
         "name": "95% Confidence Interval",
         "type": "scatter",
         "x": [
          "2024-05-19T00:00:00",
          "2024-05-26T00:00:00",
          "2024-06-02T00:00:00",
          "2024-06-09T00:00:00",
          "2024-06-16T00:00:00",
          "2024-06-23T00:00:00",
          "2024-06-30T00:00:00",
          "2024-07-07T00:00:00",
          "2024-07-14T00:00:00",
          "2024-07-21T00:00:00",
          "2024-07-28T00:00:00",
          "2024-08-04T00:00:00",
          "2024-08-11T00:00:00",
          "2024-08-18T00:00:00",
          "2024-08-25T00:00:00",
          "2024-09-01T00:00:00",
          "2024-09-08T00:00:00",
          "2024-09-15T00:00:00",
          "2024-09-22T00:00:00",
          "2024-09-29T00:00:00",
          "2024-10-06T00:00:00",
          "2024-10-13T00:00:00",
          "2024-10-20T00:00:00",
          "2024-10-27T00:00:00",
          "2024-11-03T00:00:00",
          "2024-11-10T00:00:00",
          "2024-11-17T00:00:00",
          "2024-11-24T00:00:00",
          "2024-12-01T00:00:00",
          "2024-12-08T00:00:00",
          "2024-12-15T00:00:00",
          "2024-12-22T00:00:00",
          "2024-12-29T00:00:00",
          "2025-01-05T00:00:00",
          "2025-01-12T00:00:00",
          "2025-01-19T00:00:00",
          "2025-01-26T00:00:00",
          "2025-02-02T00:00:00",
          "2025-02-09T00:00:00",
          "2025-02-16T00:00:00",
          "2025-02-23T00:00:00",
          "2025-03-02T00:00:00",
          "2025-03-09T00:00:00",
          "2025-03-16T00:00:00",
          "2025-03-23T00:00:00",
          "2025-03-30T00:00:00",
          "2025-04-06T00:00:00",
          "2025-04-13T00:00:00",
          "2025-04-20T00:00:00",
          "2025-04-27T00:00:00",
          "2025-05-04T00:00:00",
          "2025-05-11T00:00:00",
          "2025-05-18T00:00:00",
          "2025-05-25T00:00:00",
          "2025-05-25T00:00:00",
          "2025-05-18T00:00:00",
          "2025-05-11T00:00:00",
          "2025-05-04T00:00:00",
          "2025-04-27T00:00:00",
          "2025-04-20T00:00:00",
          "2025-04-13T00:00:00",
          "2025-04-06T00:00:00",
          "2025-03-30T00:00:00",
          "2025-03-23T00:00:00",
          "2025-03-16T00:00:00",
          "2025-03-09T00:00:00",
          "2025-03-02T00:00:00",
          "2025-02-23T00:00:00",
          "2025-02-16T00:00:00",
          "2025-02-09T00:00:00",
          "2025-02-02T00:00:00",
          "2025-01-26T00:00:00",
          "2025-01-19T00:00:00",
          "2025-01-12T00:00:00",
          "2025-01-05T00:00:00",
          "2024-12-29T00:00:00",
          "2024-12-22T00:00:00",
          "2024-12-15T00:00:00",
          "2024-12-08T00:00:00",
          "2024-12-01T00:00:00",
          "2024-11-24T00:00:00",
          "2024-11-17T00:00:00",
          "2024-11-10T00:00:00",
          "2024-11-03T00:00:00",
          "2024-10-27T00:00:00",
          "2024-10-20T00:00:00",
          "2024-10-13T00:00:00",
          "2024-10-06T00:00:00",
          "2024-09-29T00:00:00",
          "2024-09-22T00:00:00",
          "2024-09-15T00:00:00",
          "2024-09-08T00:00:00",
          "2024-09-01T00:00:00",
          "2024-08-25T00:00:00",
          "2024-08-18T00:00:00",
          "2024-08-11T00:00:00",
          "2024-08-04T00:00:00",
          "2024-07-28T00:00:00",
          "2024-07-21T00:00:00",
          "2024-07-14T00:00:00",
          "2024-07-07T00:00:00",
          "2024-06-30T00:00:00",
          "2024-06-23T00:00:00",
          "2024-06-16T00:00:00",
          "2024-06-09T00:00:00",
          "2024-06-02T00:00:00",
          "2024-05-26T00:00:00",
          "2024-05-19T00:00:00"
         ],
         "y": [
          3.6599796784724865,
          6.86133391776512,
          8.02544646478036,
          8.099203857456372,
          8.367354780195747,
          8.862193727959324,
          10.686328978588152,
          11.619950226536428,
          11.938916363559834,
          11.275651589433561,
          10.503118928531359,
          8.924463552358167,
          7.791647973818615,
          5.660203581356715,
          4.1862125676925075,
          4.141662941940477,
          4.570857841355611,
          5.752741164034017,
          6.2460297200217845,
          6.876664615862095,
          8.531223677061492,
          10.495798023052958,
          11.763493082714218,
          12.104511420319021,
          10.978347990811676,
          9.52385420919617,
          8.647616400341736,
          9.323715908919146,
          10.97523339416458,
          11.723063833258031,
          10.507436470533303,
          7.958257299975263,
          6.512584161867987,
          7.406057695824548,
          9.65306459802095,
          12.063937001314105,
          12.58909856360187,
          11.828132335533649,
          11.13961997263989,
          11.311849042614838,
          12.108692676969605,
          11.560192719139438,
          9.478878120751267,
          7.8435573158636,
          7.915731143290235,
          9.400017273397076,
          11.003265773583177,
          10.49713124339938,
          9.202400449874617,
          7.5336360468210275,
          9.563346913846484,
          13.656126829614989,
          18.99132841262581,
          22.694623440916924,
          14.878694035014611,
          11.092788127355309,
          5.706893538092849,
          1.5545475155174775,
          0.3437353628394397,
          1.074013163167913,
          2.7890443136909537,
          3.0693492683775063,
          1.3748249608244234,
          0.19499999769646317,
          0.2907355865868417,
          1.813106326882197,
          3.781115268911072,
          3.975926841972635,
          3.510288258581101,
          3.700697676505496,
          4.1593455400042485,
          4.829715992923495,
          4.034117644073165,
          1.62316867639027,
          -0.3626805948931632,
          -1.3948789922718905,
          0.047928878316473536,
          2.5408813620586383,
          3.705597890528744,
          3.214731335223409,
          1.7282186331281653,
          0.8716612677932434,
          1.721585922907163,
          3.202440660836742,
          4.324517294829287,
          3.8060689764512903,
          2.4022294209049115,
          0.6218616347429804,
          -0.9017549852919653,
          -1.5794916018549634,
          -2.534313010511659,
          -3.056388440566094,
          -3.4063804821065045,
          -3.4138939072112175,
          -2.2715202266518966,
          -0.6580108999994391,
          0.9756576542255008,
          2.6055290423098922,
          3.4666035339442187,
          3.8906151834626392,
          3.4278495679361676,
          2.791694194701066,
          1.386069431981224,
          0.342786813238676,
          0.09575092309393206,
          0.36850164477238184,
          -0.7754474404137727,
          -4.514763700296763
         ]
        }
       ],
       "layout": {
        "hovermode": "x unified",
        "showlegend": true,
        "template": {
         "data": {
          "bar": [
           {
            "error_x": {
             "color": "#2a3f5f"
            },
            "error_y": {
             "color": "#2a3f5f"
            },
            "marker": {
             "line": {
              "color": "white",
              "width": 0.5
             },
             "pattern": {
              "fillmode": "overlay",
              "size": 10,
              "solidity": 0.2
             }
            },
            "type": "bar"
           }
          ],
          "barpolar": [
           {
            "marker": {
             "line": {
              "color": "white",
              "width": 0.5
             },
             "pattern": {
              "fillmode": "overlay",
              "size": 10,
              "solidity": 0.2
             }
            },
            "type": "barpolar"
           }
          ],
          "carpet": [
           {
            "aaxis": {
             "endlinecolor": "#2a3f5f",
             "gridcolor": "#C8D4E3",
             "linecolor": "#C8D4E3",
             "minorgridcolor": "#C8D4E3",
             "startlinecolor": "#2a3f5f"
            },
            "baxis": {
             "endlinecolor": "#2a3f5f",
             "gridcolor": "#C8D4E3",
             "linecolor": "#C8D4E3",
             "minorgridcolor": "#C8D4E3",
             "startlinecolor": "#2a3f5f"
            },
            "type": "carpet"
           }
          ],
          "choropleth": [
           {
            "colorbar": {
             "outlinewidth": 0,
             "ticks": ""
            },
            "type": "choropleth"
           }
          ],
          "contour": [
           {
            "colorbar": {
             "outlinewidth": 0,
             "ticks": ""
            },
            "colorscale": [
             [
              0,
              "#0d0887"
             ],
             [
              0.1111111111111111,
              "#46039f"
             ],
             [
              0.2222222222222222,
              "#7201a8"
             ],
             [
              0.3333333333333333,
              "#9c179e"
             ],
             [
              0.4444444444444444,
              "#bd3786"
             ],
             [
              0.5555555555555556,
              "#d8576b"
             ],
             [
              0.6666666666666666,
              "#ed7953"
             ],
             [
              0.7777777777777778,
              "#fb9f3a"
             ],
             [
              0.8888888888888888,
              "#fdca26"
             ],
             [
              1,
              "#f0f921"
             ]
            ],
            "type": "contour"
           }
          ],
          "contourcarpet": [
           {
            "colorbar": {
             "outlinewidth": 0,
             "ticks": ""
            },
            "type": "contourcarpet"
           }
          ],
          "heatmap": [
           {
            "colorbar": {
             "outlinewidth": 0,
             "ticks": ""
            },
            "colorscale": [
             [
              0,
              "#0d0887"
             ],
             [
              0.1111111111111111,
              "#46039f"
             ],
             [
              0.2222222222222222,
              "#7201a8"
             ],
             [
              0.3333333333333333,
              "#9c179e"
             ],
             [
              0.4444444444444444,
              "#bd3786"
             ],
             [
              0.5555555555555556,
              "#d8576b"
             ],
             [
              0.6666666666666666,
              "#ed7953"
             ],
             [
              0.7777777777777778,
              "#fb9f3a"
             ],
             [
              0.8888888888888888,
              "#fdca26"
             ],
             [
              1,
              "#f0f921"
             ]
            ],
            "type": "heatmap"
           }
          ],
          "histogram": [
           {
            "marker": {
             "pattern": {
              "fillmode": "overlay",
              "size": 10,
              "solidity": 0.2
             }
            },
            "type": "histogram"
           }
          ],
          "histogram2d": [
           {
            "colorbar": {
             "outlinewidth": 0,
             "ticks": ""
            },
            "colorscale": [
             [
              0,
              "#0d0887"
             ],
             [
              0.1111111111111111,
              "#46039f"
             ],
             [
              0.2222222222222222,
              "#7201a8"
             ],
             [
              0.3333333333333333,
              "#9c179e"
             ],
             [
              0.4444444444444444,
              "#bd3786"
             ],
             [
              0.5555555555555556,
              "#d8576b"
             ],
             [
              0.6666666666666666,
              "#ed7953"
             ],
             [
              0.7777777777777778,
              "#fb9f3a"
             ],
             [
              0.8888888888888888,
              "#fdca26"
             ],
             [
              1,
              "#f0f921"
             ]
            ],
            "type": "histogram2d"
           }
          ],
          "histogram2dcontour": [
           {
            "colorbar": {
             "outlinewidth": 0,
             "ticks": ""
            },
            "colorscale": [
             [
              0,
              "#0d0887"
             ],
             [
              0.1111111111111111,
              "#46039f"
             ],
             [
              0.2222222222222222,
              "#7201a8"
             ],
             [
              0.3333333333333333,
              "#9c179e"
             ],
             [
              0.4444444444444444,
              "#bd3786"
             ],
             [
              0.5555555555555556,
              "#d8576b"
             ],
             [
              0.6666666666666666,
              "#ed7953"
             ],
             [
              0.7777777777777778,
              "#fb9f3a"
             ],
             [
              0.8888888888888888,
              "#fdca26"
             ],
             [
              1,
              "#f0f921"
             ]
            ],
            "type": "histogram2dcontour"
           }
          ],
          "mesh3d": [
           {
            "colorbar": {
             "outlinewidth": 0,
             "ticks": ""
            },
            "type": "mesh3d"
           }
          ],
          "parcoords": [
           {
            "line": {
             "colorbar": {
              "outlinewidth": 0,
              "ticks": ""
             }
            },
            "type": "parcoords"
           }
          ],
          "pie": [
           {
            "automargin": true,
            "type": "pie"
           }
          ],
          "scatter": [
           {
            "fillpattern": {
             "fillmode": "overlay",
             "size": 10,
             "solidity": 0.2
            },
            "type": "scatter"
           }
          ],
          "scatter3d": [
           {
            "line": {
             "colorbar": {
              "outlinewidth": 0,
              "ticks": ""
             }
            },
            "marker": {
             "colorbar": {
              "outlinewidth": 0,
              "ticks": ""
             }
            },
            "type": "scatter3d"
           }
          ],
          "scattercarpet": [
           {
            "marker": {
             "colorbar": {
              "outlinewidth": 0,
              "ticks": ""
             }
            },
            "type": "scattercarpet"
           }
          ],
          "scattergeo": [
           {
            "marker": {
             "colorbar": {
              "outlinewidth": 0,
              "ticks": ""
             }
            },
            "type": "scattergeo"
           }
          ],
          "scattergl": [
           {
            "marker": {
             "colorbar": {
              "outlinewidth": 0,
              "ticks": ""
             }
            },
            "type": "scattergl"
           }
          ],
          "scattermap": [
           {
            "marker": {
             "colorbar": {
              "outlinewidth": 0,
              "ticks": ""
             }
            },
            "type": "scattermap"
           }
          ],
          "scattermapbox": [
           {
            "marker": {
             "colorbar": {
              "outlinewidth": 0,
              "ticks": ""
             }
            },
            "type": "scattermapbox"
           }
          ],
          "scatterpolar": [
           {
            "marker": {
             "colorbar": {
              "outlinewidth": 0,
              "ticks": ""
             }
            },
            "type": "scatterpolar"
           }
          ],
          "scatterpolargl": [
           {
            "marker": {
             "colorbar": {
              "outlinewidth": 0,
              "ticks": ""
             }
            },
            "type": "scatterpolargl"
           }
          ],
          "scatterternary": [
           {
            "marker": {
             "colorbar": {
              "outlinewidth": 0,
              "ticks": ""
             }
            },
            "type": "scatterternary"
           }
          ],
          "surface": [
           {
            "colorbar": {
             "outlinewidth": 0,
             "ticks": ""
            },
            "colorscale": [
             [
              0,
              "#0d0887"
             ],
             [
              0.1111111111111111,
              "#46039f"
             ],
             [
              0.2222222222222222,
              "#7201a8"
             ],
             [
              0.3333333333333333,
              "#9c179e"
             ],
             [
              0.4444444444444444,
              "#bd3786"
             ],
             [
              0.5555555555555556,
              "#d8576b"
             ],
             [
              0.6666666666666666,
              "#ed7953"
             ],
             [
              0.7777777777777778,
              "#fb9f3a"
             ],
             [
              0.8888888888888888,
              "#fdca26"
             ],
             [
              1,
              "#f0f921"
             ]
            ],
            "type": "surface"
           }
          ],
          "table": [
           {
            "cells": {
             "fill": {
              "color": "#EBF0F8"
             },
             "line": {
              "color": "white"
             }
            },
            "header": {
             "fill": {
              "color": "#C8D4E3"
             },
             "line": {
              "color": "white"
             }
            },
            "type": "table"
           }
          ]
         },
         "layout": {
          "annotationdefaults": {
           "arrowcolor": "#2a3f5f",
           "arrowhead": 0,
           "arrowwidth": 1
          },
          "autotypenumbers": "strict",
          "coloraxis": {
           "colorbar": {
            "outlinewidth": 0,
            "ticks": ""
           }
          },
          "colorscale": {
           "diverging": [
            [
             0,
             "#8e0152"
            ],
            [
             0.1,
             "#c51b7d"
            ],
            [
             0.2,
             "#de77ae"
            ],
            [
             0.3,
             "#f1b6da"
            ],
            [
             0.4,
             "#fde0ef"
            ],
            [
             0.5,
             "#f7f7f7"
            ],
            [
             0.6,
             "#e6f5d0"
            ],
            [
             0.7,
             "#b8e186"
            ],
            [
             0.8,
             "#7fbc41"
            ],
            [
             0.9,
             "#4d9221"
            ],
            [
             1,
             "#276419"
            ]
           ],
           "sequential": [
            [
             0,
             "#0d0887"
            ],
            [
             0.1111111111111111,
             "#46039f"
            ],
            [
             0.2222222222222222,
             "#7201a8"
            ],
            [
             0.3333333333333333,
             "#9c179e"
            ],
            [
             0.4444444444444444,
             "#bd3786"
            ],
            [
             0.5555555555555556,
             "#d8576b"
            ],
            [
             0.6666666666666666,
             "#ed7953"
            ],
            [
             0.7777777777777778,
             "#fb9f3a"
            ],
            [
             0.8888888888888888,
             "#fdca26"
            ],
            [
             1,
             "#f0f921"
            ]
           ],
           "sequentialminus": [
            [
             0,
             "#0d0887"
            ],
            [
             0.1111111111111111,
             "#46039f"
            ],
            [
             0.2222222222222222,
             "#7201a8"
            ],
            [
             0.3333333333333333,
             "#9c179e"
            ],
            [
             0.4444444444444444,
             "#bd3786"
            ],
            [
             0.5555555555555556,
             "#d8576b"
            ],
            [
             0.6666666666666666,
             "#ed7953"
            ],
            [
             0.7777777777777778,
             "#fb9f3a"
            ],
            [
             0.8888888888888888,
             "#fdca26"
            ],
            [
             1,
             "#f0f921"
            ]
           ]
          },
          "colorway": [
           "#636efa",
           "#EF553B",
           "#00cc96",
           "#ab63fa",
           "#FFA15A",
           "#19d3f3",
           "#FF6692",
           "#B6E880",
           "#FF97FF",
           "#FECB52"
          ],
          "font": {
           "color": "#2a3f5f"
          },
          "geo": {
           "bgcolor": "white",
           "lakecolor": "white",
           "landcolor": "white",
           "showlakes": true,
           "showland": true,
           "subunitcolor": "#C8D4E3"
          },
          "hoverlabel": {
           "align": "left"
          },
          "hovermode": "closest",
          "mapbox": {
           "style": "light"
          },
          "paper_bgcolor": "white",
          "plot_bgcolor": "white",
          "polar": {
           "angularaxis": {
            "gridcolor": "#EBF0F8",
            "linecolor": "#EBF0F8",
            "ticks": ""
           },
           "bgcolor": "white",
           "radialaxis": {
            "gridcolor": "#EBF0F8",
            "linecolor": "#EBF0F8",
            "ticks": ""
           }
          },
          "scene": {
           "xaxis": {
            "backgroundcolor": "white",
            "gridcolor": "#DFE8F3",
            "gridwidth": 2,
            "linecolor": "#EBF0F8",
            "showbackground": true,
            "ticks": "",
            "zerolinecolor": "#EBF0F8"
           },
           "yaxis": {
            "backgroundcolor": "white",
            "gridcolor": "#DFE8F3",
            "gridwidth": 2,
            "linecolor": "#EBF0F8",
            "showbackground": true,
            "ticks": "",
            "zerolinecolor": "#EBF0F8"
           },
           "zaxis": {
            "backgroundcolor": "white",
            "gridcolor": "#DFE8F3",
            "gridwidth": 2,
            "linecolor": "#EBF0F8",
            "showbackground": true,
            "ticks": "",
            "zerolinecolor": "#EBF0F8"
           }
          },
          "shapedefaults": {
           "line": {
            "color": "#2a3f5f"
           }
          },
          "ternary": {
           "aaxis": {
            "gridcolor": "#DFE8F3",
            "linecolor": "#A2B1C6",
            "ticks": ""
           },
           "baxis": {
            "gridcolor": "#DFE8F3",
            "linecolor": "#A2B1C6",
            "ticks": ""
           },
           "bgcolor": "white",
           "caxis": {
            "gridcolor": "#DFE8F3",
            "linecolor": "#A2B1C6",
            "ticks": ""
           }
          },
          "title": {
           "x": 0.05
          },
          "xaxis": {
           "automargin": true,
           "gridcolor": "#EBF0F8",
           "linecolor": "#EBF0F8",
           "ticks": "",
           "title": {
            "standoff": 15
           },
           "zerolinecolor": "#EBF0F8",
           "zerolinewidth": 2
          },
          "yaxis": {
           "automargin": true,
           "gridcolor": "#EBF0F8",
           "linecolor": "#EBF0F8",
           "ticks": "",
           "title": {
            "standoff": 15
           },
           "zerolinecolor": "#EBF0F8",
           "zerolinewidth": 2
          }
         }
        },
        "title": {
         "text": "Overtime Forecast - Finance"
        },
        "xaxis": {
         "title": {
          "text": "Date"
         }
        },
        "yaxis": {
         "title": {
          "text": "Overtime Hours"
         }
        }
       }
      }
     },
     "metadata": {},
     "output_type": "display_data"
    },
    {
     "data": {
      "application/vnd.plotly.v1+json": {
       "config": {
        "plotlyServerURL": "https://plot.ly"
       },
       "data": [
        {
         "line": {
          "color": "blue"
         },
         "mode": "markers+lines",
         "name": "Historical",
         "type": "scatter",
         "x": [
          "2024-05-19T00:00:00.000000000",
          "2024-05-26T00:00:00.000000000",
          "2024-06-02T00:00:00.000000000",
          "2024-06-09T00:00:00.000000000",
          "2024-06-16T00:00:00.000000000",
          "2024-06-23T00:00:00.000000000",
          "2024-06-30T00:00:00.000000000",
          "2024-07-07T00:00:00.000000000",
          "2024-07-14T00:00:00.000000000",
          "2024-07-21T00:00:00.000000000",
          "2024-07-28T00:00:00.000000000",
          "2024-08-04T00:00:00.000000000",
          "2024-08-11T00:00:00.000000000",
          "2024-08-18T00:00:00.000000000",
          "2024-08-25T00:00:00.000000000",
          "2024-09-01T00:00:00.000000000",
          "2024-09-08T00:00:00.000000000",
          "2024-09-15T00:00:00.000000000",
          "2024-09-22T00:00:00.000000000",
          "2024-09-29T00:00:00.000000000",
          "2024-10-06T00:00:00.000000000",
          "2024-10-13T00:00:00.000000000",
          "2024-10-20T00:00:00.000000000",
          "2024-10-27T00:00:00.000000000",
          "2024-11-03T00:00:00.000000000",
          "2024-11-10T00:00:00.000000000",
          "2024-11-17T00:00:00.000000000",
          "2024-11-24T00:00:00.000000000",
          "2024-12-01T00:00:00.000000000",
          "2024-12-08T00:00:00.000000000",
          "2024-12-15T00:00:00.000000000",
          "2024-12-22T00:00:00.000000000",
          "2024-12-29T00:00:00.000000000",
          "2025-01-05T00:00:00.000000000",
          "2025-01-12T00:00:00.000000000",
          "2025-01-19T00:00:00.000000000",
          "2025-01-26T00:00:00.000000000",
          "2025-02-02T00:00:00.000000000",
          "2025-02-09T00:00:00.000000000",
          "2025-02-16T00:00:00.000000000",
          "2025-02-23T00:00:00.000000000",
          "2025-03-02T00:00:00.000000000",
          "2025-03-09T00:00:00.000000000",
          "2025-03-16T00:00:00.000000000",
          "2025-03-23T00:00:00.000000000",
          "2025-03-30T00:00:00.000000000",
          "2025-04-06T00:00:00.000000000",
          "2025-04-13T00:00:00.000000000",
          "2025-04-20T00:00:00.000000000",
          "2025-04-27T00:00:00.000000000",
          "2025-05-04T00:00:00.000000000",
          "2025-05-11T00:00:00.000000000",
          "2025-05-18T00:00:00.000000000",
          "2025-05-25T00:00:00.000000000"
         ],
         "y": {
          "bdata": "AAAAAAAAAACuR+F6FK4hQK5H4XoUrvs/AAAAAAAAAADD9Shcj8LlPwAAAAAAAARAMzMzMzMzA0DsUbgehevBPz0K16NwPRpAFa5H4XoUEUAfhetRuB4dQBSuR+F6FApASOF6FK5H9T89CtejcD0uQClcj8L1KAhACtejcD2KIkCZmZmZmZn9P/YoXI/C9SFAHoXrUbgeJkDD9Shcj8IaQK5H4XoUrvs/kML1KFyPFUAUrkfhehQaQK5H4XoUrg9Aw/UoXI9CMEDXo3A9CtcbQAAAAAAAAAAAKVyPwvUo+D9mZmZmZuYmQEjhehSuxzBAAAAAAAAAAAApXI/C9Sj4PwAAAAAAAB5ACtejcD0KLkBcj8L1KFwjQHA9CtejcBlApHA9CtejBkCamZmZmRklQD4K16NwPRFAUrgehetRGUCF61G4HoUhQDMzMzMzsyFASOF6FK7HJEAzMzMzMzP7Pyhcj8L1KBZAhetRuB6FK0CF61G4HoUNQEjhehSuRx9AwvUoXI/CI0BmZmZmZuYjQFyPwvUo3CFAKVyPwvUoGEBmZmZmZmYdQAAAAAAAAAAA",
          "dtype": "f8"
         }
        },
        {
         "line": {
          "color": "red"
         },
         "mode": "lines",
         "name": "Forecast",
         "type": "scatter",
         "x": [
          "2024-05-19T00:00:00.000000000",
          "2024-05-26T00:00:00.000000000",
          "2024-06-02T00:00:00.000000000",
          "2024-06-09T00:00:00.000000000",
          "2024-06-16T00:00:00.000000000",
          "2024-06-23T00:00:00.000000000",
          "2024-06-30T00:00:00.000000000",
          "2024-07-07T00:00:00.000000000",
          "2024-07-14T00:00:00.000000000",
          "2024-07-21T00:00:00.000000000",
          "2024-07-28T00:00:00.000000000",
          "2024-08-04T00:00:00.000000000",
          "2024-08-11T00:00:00.000000000",
          "2024-08-18T00:00:00.000000000",
          "2024-08-25T00:00:00.000000000",
          "2024-09-01T00:00:00.000000000",
          "2024-09-08T00:00:00.000000000",
          "2024-09-15T00:00:00.000000000",
          "2024-09-22T00:00:00.000000000",
          "2024-09-29T00:00:00.000000000",
          "2024-10-06T00:00:00.000000000",
          "2024-10-13T00:00:00.000000000",
          "2024-10-20T00:00:00.000000000",
          "2024-10-27T00:00:00.000000000",
          "2024-11-03T00:00:00.000000000",
          "2024-11-10T00:00:00.000000000",
          "2024-11-17T00:00:00.000000000",
          "2024-11-24T00:00:00.000000000",
          "2024-12-01T00:00:00.000000000",
          "2024-12-08T00:00:00.000000000",
          "2024-12-15T00:00:00.000000000",
          "2024-12-22T00:00:00.000000000",
          "2024-12-29T00:00:00.000000000",
          "2025-01-05T00:00:00.000000000",
          "2025-01-12T00:00:00.000000000",
          "2025-01-19T00:00:00.000000000",
          "2025-01-26T00:00:00.000000000",
          "2025-02-02T00:00:00.000000000",
          "2025-02-09T00:00:00.000000000",
          "2025-02-16T00:00:00.000000000",
          "2025-02-23T00:00:00.000000000",
          "2025-03-02T00:00:00.000000000",
          "2025-03-09T00:00:00.000000000",
          "2025-03-16T00:00:00.000000000",
          "2025-03-23T00:00:00.000000000",
          "2025-03-30T00:00:00.000000000",
          "2025-04-06T00:00:00.000000000",
          "2025-04-13T00:00:00.000000000",
          "2025-04-20T00:00:00.000000000",
          "2025-04-27T00:00:00.000000000",
          "2025-05-04T00:00:00.000000000",
          "2025-05-11T00:00:00.000000000",
          "2025-05-18T00:00:00.000000000",
          "2025-05-25T00:00:00.000000000"
         ],
         "y": {
          "bdata": "I/HrRiZrAkDw28KxiCENQFubS0FUYBBA2D9GNRZ3BECYeL7T9gnFP0TZ84Q/AeC/AixWZ3ap+T/7P3zqZhYSQNoePyJpDBZA3W7g5cZTEUDQiihAGJYLQLJZQZztRBNAIpr7h/BBHUAgO/QsQlwgQB4trYWxuhpA+AkwLZzPFEAR4xk+fagYQKa4D7DdVyFAzlKdZHW6IkCwng0dnNIaQBghigzikgpAIOqUvyc1CUC2uqXEmpYaQBWYzPKY8yNAPbudlYneIkCDmoNDlmYXQBR+Rt4ViwxApBqdF2/SFED/o6R9yR4hQJH0ONg64iJAvJQ4wHqoG0CMN8eu/9kRQJ7jgDr0jxZA46fHf6whI0CD1BU9TKMnQJHJy8lUWSNA9l/48zReFUDs7tKJghMLQC6kIjXAEhZAh9BM7R7pIUD/kcS7G+UjQG85VJyOAyBAOOzf8HOXF0Ci0JMxGsoXQB5UP25V9B1AHrvKx8uZIEBlIgjIYdQeQCBfDQ9dDh1A8wryclbyIED9luSHTKslQP5r85mHcilAHJb16uo4K0AvOEI1reEsQJx2XpcwiC9A",
          "dtype": "f8"
         }
        },
        {
         "fill": "toself",
         "fillcolor": "rgba(0,100,80,0.2)",
         "line": {
          "color": "rgba(255,255,255,0)"
         },
         "name": "95% Confidence Interval",
         "type": "scatter",
         "x": [
          "2024-05-19T00:00:00",
          "2024-05-26T00:00:00",
          "2024-06-02T00:00:00",
          "2024-06-09T00:00:00",
          "2024-06-16T00:00:00",
          "2024-06-23T00:00:00",
          "2024-06-30T00:00:00",
          "2024-07-07T00:00:00",
          "2024-07-14T00:00:00",
          "2024-07-21T00:00:00",
          "2024-07-28T00:00:00",
          "2024-08-04T00:00:00",
          "2024-08-11T00:00:00",
          "2024-08-18T00:00:00",
          "2024-08-25T00:00:00",
          "2024-09-01T00:00:00",
          "2024-09-08T00:00:00",
          "2024-09-15T00:00:00",
          "2024-09-22T00:00:00",
          "2024-09-29T00:00:00",
          "2024-10-06T00:00:00",
          "2024-10-13T00:00:00",
          "2024-10-20T00:00:00",
          "2024-10-27T00:00:00",
          "2024-11-03T00:00:00",
          "2024-11-10T00:00:00",
          "2024-11-17T00:00:00",
          "2024-11-24T00:00:00",
          "2024-12-01T00:00:00",
          "2024-12-08T00:00:00",
          "2024-12-15T00:00:00",
          "2024-12-22T00:00:00",
          "2024-12-29T00:00:00",
          "2025-01-05T00:00:00",
          "2025-01-12T00:00:00",
          "2025-01-19T00:00:00",
          "2025-01-26T00:00:00",
          "2025-02-02T00:00:00",
          "2025-02-09T00:00:00",
          "2025-02-16T00:00:00",
          "2025-02-23T00:00:00",
          "2025-03-02T00:00:00",
          "2025-03-09T00:00:00",
          "2025-03-16T00:00:00",
          "2025-03-23T00:00:00",
          "2025-03-30T00:00:00",
          "2025-04-06T00:00:00",
          "2025-04-13T00:00:00",
          "2025-04-20T00:00:00",
          "2025-04-27T00:00:00",
          "2025-05-04T00:00:00",
          "2025-05-11T00:00:00",
          "2025-05-18T00:00:00",
          "2025-05-25T00:00:00",
          "2025-05-25T00:00:00",
          "2025-05-18T00:00:00",
          "2025-05-11T00:00:00",
          "2025-05-04T00:00:00",
          "2025-04-27T00:00:00",
          "2025-04-20T00:00:00",
          "2025-04-13T00:00:00",
          "2025-04-06T00:00:00",
          "2025-03-30T00:00:00",
          "2025-03-23T00:00:00",
          "2025-03-16T00:00:00",
          "2025-03-09T00:00:00",
          "2025-03-02T00:00:00",
          "2025-02-23T00:00:00",
          "2025-02-16T00:00:00",
          "2025-02-09T00:00:00",
          "2025-02-02T00:00:00",
          "2025-01-26T00:00:00",
          "2025-01-19T00:00:00",
          "2025-01-12T00:00:00",
          "2025-01-05T00:00:00",
          "2024-12-29T00:00:00",
          "2024-12-22T00:00:00",
          "2024-12-15T00:00:00",
          "2024-12-08T00:00:00",
          "2024-12-01T00:00:00",
          "2024-11-24T00:00:00",
          "2024-11-17T00:00:00",
          "2024-11-10T00:00:00",
          "2024-11-03T00:00:00",
          "2024-10-27T00:00:00",
          "2024-10-20T00:00:00",
          "2024-10-13T00:00:00",
          "2024-10-06T00:00:00",
          "2024-09-29T00:00:00",
          "2024-09-22T00:00:00",
          "2024-09-15T00:00:00",
          "2024-09-08T00:00:00",
          "2024-09-01T00:00:00",
          "2024-08-25T00:00:00",
          "2024-08-18T00:00:00",
          "2024-08-11T00:00:00",
          "2024-08-04T00:00:00",
          "2024-07-28T00:00:00",
          "2024-07-21T00:00:00",
          "2024-07-14T00:00:00",
          "2024-07-07T00:00:00",
          "2024-06-30T00:00:00",
          "2024-06-23T00:00:00",
          "2024-06-16T00:00:00",
          "2024-06-09T00:00:00",
          "2024-06-02T00:00:00",
          "2024-05-26T00:00:00",
          "2024-05-19T00:00:00"
         ],
         "y": [
          8.973953112676961,
          10.913169598197223,
          10.699391545734608,
          9.68449801369859,
          7.919837270543683,
          6.593964616404579,
          8.84900912619863,
          10.900724384057392,
          12.625602619899013,
          11.640777036642053,
          10.369216448586858,
          11.354508937050069,
          14.387325211861347,
          15.357622098588424,
          13.81571505868839,
          12.119018510130893,
          13.224915055437394,
          15.890928700372802,
          17.293165458857843,
          13.46350978191585,
          10.686508675587216,
          10.20727064011722,
          13.747293870602967,
          17.019215277365184,
          16.84478196512767,
          12.89511981012629,
          10.949004434668733,
          12.529020862353192,
          16.041462678767434,
          16.587534244705996,
          14.077275505576972,
          11.56037928500466,
          12.544014870340057,
          17.038860843265017,
          18.755966681930264,
          17.14561752344573,
          12.439973311306726,
          10.92611751078311,
          12.786735388797082,
          15.554161406538782,
          17.39800127814539,
          14.807553147954133,
          13.13759555135377,
          13.430155100242347,
          14.92709518446104,
          15.041087170893817,
          14.794084696222427,
          13.925642575930812,
          15.601436980784156,
          18.54938114069017,
          19.573226494390205,
          20.82454528352729,
          21.492036637525505,
          23.004246091501578,
          8.676554007697726,
          7.343945174510399,
          5.985575704417794,
          5.158200733411391,
          3.3896191042552264,
          0.9432073532577839,
          -0.17701985331572972,
          1.0973645555908171,
          1.1991454995299804,
          -0.4907149702043151,
          -1.2992464364304472,
          -1.0729218858338274,
          0.9448248650288669,
          2.829501229354394,
          1.9153776223848995,
          -1.2441673664355093,
          -3.2285511358876544,
          -2.0421952541890365,
          2.726189562732637,
          4.11682728624361,
          2.5734264902763613,
          -1.6581627879449123,
          -3.33046822600628,
          0.07953250988205057,
          2.711507634357084,
          2.0447209827791184,
          -2.4412186792152375,
          -3.370064415627724,
          -1.6709980813754948,
          2.4045608642556706,
          3.214874168359142,
          -0.7123591082523544,
          -3.8760415756008415,
          -3.8750049928380643,
          -0.5921078645155657,
          2.1796126308693724,
          1.715863742925525,
          -0.869543907831848,
          -1.9139846792208492,
          -0.22900939325106048,
          1.0684513147646808,
          0.46928710697035986,
          -2.573512722175607,
          -4.040415578432077,
          -2.893798933125578,
          -1.105842840691331,
          -2.0353866871277417,
          -5.280163822150058,
          -7.939308103105394,
          -6.7533166327654275,
          -4.463811174787264,
          -3.4313169392313174,
          -3.6799442722673272,
          -5.130110222418428
         ]
        }
       ],
       "layout": {
        "hovermode": "x unified",
        "showlegend": true,
        "template": {
         "data": {
          "bar": [
           {
            "error_x": {
             "color": "#2a3f5f"
            },
            "error_y": {
             "color": "#2a3f5f"
            },
            "marker": {
             "line": {
              "color": "white",
              "width": 0.5
             },
             "pattern": {
              "fillmode": "overlay",
              "size": 10,
              "solidity": 0.2
             }
            },
            "type": "bar"
           }
          ],
          "barpolar": [
           {
            "marker": {
             "line": {
              "color": "white",
              "width": 0.5
             },
             "pattern": {
              "fillmode": "overlay",
              "size": 10,
              "solidity": 0.2
             }
            },
            "type": "barpolar"
           }
          ],
          "carpet": [
           {
            "aaxis": {
             "endlinecolor": "#2a3f5f",
             "gridcolor": "#C8D4E3",
             "linecolor": "#C8D4E3",
             "minorgridcolor": "#C8D4E3",
             "startlinecolor": "#2a3f5f"
            },
            "baxis": {
             "endlinecolor": "#2a3f5f",
             "gridcolor": "#C8D4E3",
             "linecolor": "#C8D4E3",
             "minorgridcolor": "#C8D4E3",
             "startlinecolor": "#2a3f5f"
            },
            "type": "carpet"
           }
          ],
          "choropleth": [
           {
            "colorbar": {
             "outlinewidth": 0,
             "ticks": ""
            },
            "type": "choropleth"
           }
          ],
          "contour": [
           {
            "colorbar": {
             "outlinewidth": 0,
             "ticks": ""
            },
            "colorscale": [
             [
              0,
              "#0d0887"
             ],
             [
              0.1111111111111111,
              "#46039f"
             ],
             [
              0.2222222222222222,
              "#7201a8"
             ],
             [
              0.3333333333333333,
              "#9c179e"
             ],
             [
              0.4444444444444444,
              "#bd3786"
             ],
             [
              0.5555555555555556,
              "#d8576b"
             ],
             [
              0.6666666666666666,
              "#ed7953"
             ],
             [
              0.7777777777777778,
              "#fb9f3a"
             ],
             [
              0.8888888888888888,
              "#fdca26"
             ],
             [
              1,
              "#f0f921"
             ]
            ],
            "type": "contour"
           }
          ],
          "contourcarpet": [
           {
            "colorbar": {
             "outlinewidth": 0,
             "ticks": ""
            },
            "type": "contourcarpet"
           }
          ],
          "heatmap": [
           {
            "colorbar": {
             "outlinewidth": 0,
             "ticks": ""
            },
            "colorscale": [
             [
              0,
              "#0d0887"
             ],
             [
              0.1111111111111111,
              "#46039f"
             ],
             [
              0.2222222222222222,
              "#7201a8"
             ],
             [
              0.3333333333333333,
              "#9c179e"
             ],
             [
              0.4444444444444444,
              "#bd3786"
             ],
             [
              0.5555555555555556,
              "#d8576b"
             ],
             [
              0.6666666666666666,
              "#ed7953"
             ],
             [
              0.7777777777777778,
              "#fb9f3a"
             ],
             [
              0.8888888888888888,
              "#fdca26"
             ],
             [
              1,
              "#f0f921"
             ]
            ],
            "type": "heatmap"
           }
          ],
          "histogram": [
           {
            "marker": {
             "pattern": {
              "fillmode": "overlay",
              "size": 10,
              "solidity": 0.2
             }
            },
            "type": "histogram"
           }
          ],
          "histogram2d": [
           {
            "colorbar": {
             "outlinewidth": 0,
             "ticks": ""
            },
            "colorscale": [
             [
              0,
              "#0d0887"
             ],
             [
              0.1111111111111111,
              "#46039f"
             ],
             [
              0.2222222222222222,
              "#7201a8"
             ],
             [
              0.3333333333333333,
              "#9c179e"
             ],
             [
              0.4444444444444444,
              "#bd3786"
             ],
             [
              0.5555555555555556,
              "#d8576b"
             ],
             [
              0.6666666666666666,
              "#ed7953"
             ],
             [
              0.7777777777777778,
              "#fb9f3a"
             ],
             [
              0.8888888888888888,
              "#fdca26"
             ],
             [
              1,
              "#f0f921"
             ]
            ],
            "type": "histogram2d"
           }
          ],
          "histogram2dcontour": [
           {
            "colorbar": {
             "outlinewidth": 0,
             "ticks": ""
            },
            "colorscale": [
             [
              0,
              "#0d0887"
             ],
             [
              0.1111111111111111,
              "#46039f"
             ],
             [
              0.2222222222222222,
              "#7201a8"
             ],
             [
              0.3333333333333333,
              "#9c179e"
             ],
             [
              0.4444444444444444,
              "#bd3786"
             ],
             [
              0.5555555555555556,
              "#d8576b"
             ],
             [
              0.6666666666666666,
              "#ed7953"
             ],
             [
              0.7777777777777778,
              "#fb9f3a"
             ],
             [
              0.8888888888888888,
              "#fdca26"
             ],
             [
              1,
              "#f0f921"
             ]
            ],
            "type": "histogram2dcontour"
           }
          ],
          "mesh3d": [
           {
            "colorbar": {
             "outlinewidth": 0,
             "ticks": ""
            },
            "type": "mesh3d"
           }
          ],
          "parcoords": [
           {
            "line": {
             "colorbar": {
              "outlinewidth": 0,
              "ticks": ""
             }
            },
            "type": "parcoords"
           }
          ],
          "pie": [
           {
            "automargin": true,
            "type": "pie"
           }
          ],
          "scatter": [
           {
            "fillpattern": {
             "fillmode": "overlay",
             "size": 10,
             "solidity": 0.2
            },
            "type": "scatter"
           }
          ],
          "scatter3d": [
           {
            "line": {
             "colorbar": {
              "outlinewidth": 0,
              "ticks": ""
             }
            },
            "marker": {
             "colorbar": {
              "outlinewidth": 0,
              "ticks": ""
             }
            },
            "type": "scatter3d"
           }
          ],
          "scattercarpet": [
           {
            "marker": {
             "colorbar": {
              "outlinewidth": 0,
              "ticks": ""
             }
            },
            "type": "scattercarpet"
           }
          ],
          "scattergeo": [
           {
            "marker": {
             "colorbar": {
              "outlinewidth": 0,
              "ticks": ""
             }
            },
            "type": "scattergeo"
           }
          ],
          "scattergl": [
           {
            "marker": {
             "colorbar": {
              "outlinewidth": 0,
              "ticks": ""
             }
            },
            "type": "scattergl"
           }
          ],
          "scattermap": [
           {
            "marker": {
             "colorbar": {
              "outlinewidth": 0,
              "ticks": ""
             }
            },
            "type": "scattermap"
           }
          ],
          "scattermapbox": [
           {
            "marker": {
             "colorbar": {
              "outlinewidth": 0,
              "ticks": ""
             }
            },
            "type": "scattermapbox"
           }
          ],
          "scatterpolar": [
           {
            "marker": {
             "colorbar": {
              "outlinewidth": 0,
              "ticks": ""
             }
            },
            "type": "scatterpolar"
           }
          ],
          "scatterpolargl": [
           {
            "marker": {
             "colorbar": {
              "outlinewidth": 0,
              "ticks": ""
             }
            },
            "type": "scatterpolargl"
           }
          ],
          "scatterternary": [
           {
            "marker": {
             "colorbar": {
              "outlinewidth": 0,
              "ticks": ""
             }
            },
            "type": "scatterternary"
           }
          ],
          "surface": [
           {
            "colorbar": {
             "outlinewidth": 0,
             "ticks": ""
            },
            "colorscale": [
             [
              0,
              "#0d0887"
             ],
             [
              0.1111111111111111,
              "#46039f"
             ],
             [
              0.2222222222222222,
              "#7201a8"
             ],
             [
              0.3333333333333333,
              "#9c179e"
             ],
             [
              0.4444444444444444,
              "#bd3786"
             ],
             [
              0.5555555555555556,
              "#d8576b"
             ],
             [
              0.6666666666666666,
              "#ed7953"
             ],
             [
              0.7777777777777778,
              "#fb9f3a"
             ],
             [
              0.8888888888888888,
              "#fdca26"
             ],
             [
              1,
              "#f0f921"
             ]
            ],
            "type": "surface"
           }
          ],
          "table": [
           {
            "cells": {
             "fill": {
              "color": "#EBF0F8"
             },
             "line": {
              "color": "white"
             }
            },
            "header": {
             "fill": {
              "color": "#C8D4E3"
             },
             "line": {
              "color": "white"
             }
            },
            "type": "table"
           }
          ]
         },
         "layout": {
          "annotationdefaults": {
           "arrowcolor": "#2a3f5f",
           "arrowhead": 0,
           "arrowwidth": 1
          },
          "autotypenumbers": "strict",
          "coloraxis": {
           "colorbar": {
            "outlinewidth": 0,
            "ticks": ""
           }
          },
          "colorscale": {
           "diverging": [
            [
             0,
             "#8e0152"
            ],
            [
             0.1,
             "#c51b7d"
            ],
            [
             0.2,
             "#de77ae"
            ],
            [
             0.3,
             "#f1b6da"
            ],
            [
             0.4,
             "#fde0ef"
            ],
            [
             0.5,
             "#f7f7f7"
            ],
            [
             0.6,
             "#e6f5d0"
            ],
            [
             0.7,
             "#b8e186"
            ],
            [
             0.8,
             "#7fbc41"
            ],
            [
             0.9,
             "#4d9221"
            ],
            [
             1,
             "#276419"
            ]
           ],
           "sequential": [
            [
             0,
             "#0d0887"
            ],
            [
             0.1111111111111111,
             "#46039f"
            ],
            [
             0.2222222222222222,
             "#7201a8"
            ],
            [
             0.3333333333333333,
             "#9c179e"
            ],
            [
             0.4444444444444444,
             "#bd3786"
            ],
            [
             0.5555555555555556,
             "#d8576b"
            ],
            [
             0.6666666666666666,
             "#ed7953"
            ],
            [
             0.7777777777777778,
             "#fb9f3a"
            ],
            [
             0.8888888888888888,
             "#fdca26"
            ],
            [
             1,
             "#f0f921"
            ]
           ],
           "sequentialminus": [
            [
             0,
             "#0d0887"
            ],
            [
             0.1111111111111111,
             "#46039f"
            ],
            [
             0.2222222222222222,
             "#7201a8"
            ],
            [
             0.3333333333333333,
             "#9c179e"
            ],
            [
             0.4444444444444444,
             "#bd3786"
            ],
            [
             0.5555555555555556,
             "#d8576b"
            ],
            [
             0.6666666666666666,
             "#ed7953"
            ],
            [
             0.7777777777777778,
             "#fb9f3a"
            ],
            [
             0.8888888888888888,
             "#fdca26"
            ],
            [
             1,
             "#f0f921"
            ]
           ]
          },
          "colorway": [
           "#636efa",
           "#EF553B",
           "#00cc96",
           "#ab63fa",
           "#FFA15A",
           "#19d3f3",
           "#FF6692",
           "#B6E880",
           "#FF97FF",
           "#FECB52"
          ],
          "font": {
           "color": "#2a3f5f"
          },
          "geo": {
           "bgcolor": "white",
           "lakecolor": "white",
           "landcolor": "white",
           "showlakes": true,
           "showland": true,
           "subunitcolor": "#C8D4E3"
          },
          "hoverlabel": {
           "align": "left"
          },
          "hovermode": "closest",
          "mapbox": {
           "style": "light"
          },
          "paper_bgcolor": "white",
          "plot_bgcolor": "white",
          "polar": {
           "angularaxis": {
            "gridcolor": "#EBF0F8",
            "linecolor": "#EBF0F8",
            "ticks": ""
           },
           "bgcolor": "white",
           "radialaxis": {
            "gridcolor": "#EBF0F8",
            "linecolor": "#EBF0F8",
            "ticks": ""
           }
          },
          "scene": {
           "xaxis": {
            "backgroundcolor": "white",
            "gridcolor": "#DFE8F3",
            "gridwidth": 2,
            "linecolor": "#EBF0F8",
            "showbackground": true,
            "ticks": "",
            "zerolinecolor": "#EBF0F8"
           },
           "yaxis": {
            "backgroundcolor": "white",
            "gridcolor": "#DFE8F3",
            "gridwidth": 2,
            "linecolor": "#EBF0F8",
            "showbackground": true,
            "ticks": "",
            "zerolinecolor": "#EBF0F8"
           },
           "zaxis": {
            "backgroundcolor": "white",
            "gridcolor": "#DFE8F3",
            "gridwidth": 2,
            "linecolor": "#EBF0F8",
            "showbackground": true,
            "ticks": "",
            "zerolinecolor": "#EBF0F8"
           }
          },
          "shapedefaults": {
           "line": {
            "color": "#2a3f5f"
           }
          },
          "ternary": {
           "aaxis": {
            "gridcolor": "#DFE8F3",
            "linecolor": "#A2B1C6",
            "ticks": ""
           },
           "baxis": {
            "gridcolor": "#DFE8F3",
            "linecolor": "#A2B1C6",
            "ticks": ""
           },
           "bgcolor": "white",
           "caxis": {
            "gridcolor": "#DFE8F3",
            "linecolor": "#A2B1C6",
            "ticks": ""
           }
          },
          "title": {
           "x": 0.05
          },
          "xaxis": {
           "automargin": true,
           "gridcolor": "#EBF0F8",
           "linecolor": "#EBF0F8",
           "ticks": "",
           "title": {
            "standoff": 15
           },
           "zerolinecolor": "#EBF0F8",
           "zerolinewidth": 2
          },
          "yaxis": {
           "automargin": true,
           "gridcolor": "#EBF0F8",
           "linecolor": "#EBF0F8",
           "ticks": "",
           "title": {
            "standoff": 15
           },
           "zerolinecolor": "#EBF0F8",
           "zerolinewidth": 2
          }
         }
        },
        "title": {
         "text": "Overtime Forecast - HR"
        },
        "xaxis": {
         "title": {
          "text": "Date"
         }
        },
        "yaxis": {
         "title": {
          "text": "Overtime Hours"
         }
        }
       }
      }
     },
     "metadata": {},
     "output_type": "display_data"
    },
    {
     "data": {
      "application/vnd.plotly.v1+json": {
       "config": {
        "plotlyServerURL": "https://plot.ly"
       },
       "data": [
        {
         "line": {
          "color": "blue"
         },
         "mode": "markers+lines",
         "name": "Historical",
         "type": "scatter",
         "x": [
          "2024-05-19T00:00:00.000000000",
          "2024-05-26T00:00:00.000000000",
          "2024-06-02T00:00:00.000000000",
          "2024-06-09T00:00:00.000000000",
          "2024-06-16T00:00:00.000000000",
          "2024-06-23T00:00:00.000000000",
          "2024-06-30T00:00:00.000000000",
          "2024-07-07T00:00:00.000000000",
          "2024-07-14T00:00:00.000000000",
          "2024-07-21T00:00:00.000000000",
          "2024-07-28T00:00:00.000000000",
          "2024-08-04T00:00:00.000000000",
          "2024-08-11T00:00:00.000000000",
          "2024-08-18T00:00:00.000000000",
          "2024-08-25T00:00:00.000000000",
          "2024-09-01T00:00:00.000000000",
          "2024-09-08T00:00:00.000000000",
          "2024-09-15T00:00:00.000000000",
          "2024-09-22T00:00:00.000000000",
          "2024-09-29T00:00:00.000000000",
          "2024-10-06T00:00:00.000000000",
          "2024-10-13T00:00:00.000000000",
          "2024-10-20T00:00:00.000000000",
          "2024-10-27T00:00:00.000000000",
          "2024-11-03T00:00:00.000000000",
          "2024-11-10T00:00:00.000000000",
          "2024-11-17T00:00:00.000000000",
          "2024-11-24T00:00:00.000000000",
          "2024-12-01T00:00:00.000000000",
          "2024-12-08T00:00:00.000000000",
          "2024-12-15T00:00:00.000000000",
          "2024-12-22T00:00:00.000000000",
          "2024-12-29T00:00:00.000000000",
          "2025-01-05T00:00:00.000000000",
          "2025-01-12T00:00:00.000000000",
          "2025-01-19T00:00:00.000000000",
          "2025-01-26T00:00:00.000000000",
          "2025-02-02T00:00:00.000000000",
          "2025-02-09T00:00:00.000000000",
          "2025-02-16T00:00:00.000000000",
          "2025-02-23T00:00:00.000000000",
          "2025-03-02T00:00:00.000000000",
          "2025-03-09T00:00:00.000000000",
          "2025-03-16T00:00:00.000000000",
          "2025-03-23T00:00:00.000000000",
          "2025-03-30T00:00:00.000000000",
          "2025-04-06T00:00:00.000000000",
          "2025-04-13T00:00:00.000000000",
          "2025-04-20T00:00:00.000000000",
          "2025-04-27T00:00:00.000000000",
          "2025-05-04T00:00:00.000000000",
          "2025-05-11T00:00:00.000000000",
          "2025-05-18T00:00:00.000000000",
          "2025-05-25T00:00:00.000000000"
         ],
         "y": {
          "bdata": "pHA9Ctej9D/NzMzMzMwOQK5H4XoUrhtAZmZmZmbmJEAAAAAAAADoPylcj8L1KB9AmpmZmZmZG0BSuB6F69EiQFyPwvUoXB1Aj8L1KFyPJ0CkcD0K16MVQBSuR+F6lCFAH4XrUbgeJEBwPQrXo3AaQK5H4XoUriJA61G4HoXrHEApXI/C9SgMQAAAAAAAABhArkfhehQuIUBcj8L1KFwNQAAAAAAAAAAAcD0K16NwFkDC9Shcj8IrQJmZmZmZGSRAXI/C9SjcJUDhehSuR+EgQEjhehSuRxRAFK5H4XoUGkBxPQrXo3ApQM3MzMzMTCVAZmZmZmZmEEAzMzMzMzP7P+xRuB6F6xNA9ihcj8L1HEDhehSuR+EXQBSuR+F6FBpAXI/C9ShcFEAVrkfhepQmQK5H4XoUrhtArkfhehQuIEAzMzMzMzP3P5qZmZmZmbk/pHA9CtejEEA+CtejcD0pQJmZmZmZmfE/PgrXo3A9E0BmZmZmZmYpQNejcD0KVydANDMzMzMzHEA+CtejcD0fQML1KFyPwhBAuB6F61E4NkBSuB6F69EkQBSuR+F6FPI/",
          "dtype": "f8"
         }
        },
        {
         "line": {
          "color": "red"
         },
         "mode": "lines",
         "name": "Forecast",
         "type": "scatter",
         "x": [
          "2024-05-19T00:00:00.000000000",
          "2024-05-26T00:00:00.000000000",
          "2024-06-02T00:00:00.000000000",
          "2024-06-09T00:00:00.000000000",
          "2024-06-16T00:00:00.000000000",
          "2024-06-23T00:00:00.000000000",
          "2024-06-30T00:00:00.000000000",
          "2024-07-07T00:00:00.000000000",
          "2024-07-14T00:00:00.000000000",
          "2024-07-21T00:00:00.000000000",
          "2024-07-28T00:00:00.000000000",
          "2024-08-04T00:00:00.000000000",
          "2024-08-11T00:00:00.000000000",
          "2024-08-18T00:00:00.000000000",
          "2024-08-25T00:00:00.000000000",
          "2024-09-01T00:00:00.000000000",
          "2024-09-08T00:00:00.000000000",
          "2024-09-15T00:00:00.000000000",
          "2024-09-22T00:00:00.000000000",
          "2024-09-29T00:00:00.000000000",
          "2024-10-06T00:00:00.000000000",
          "2024-10-13T00:00:00.000000000",
          "2024-10-20T00:00:00.000000000",
          "2024-10-27T00:00:00.000000000",
          "2024-11-03T00:00:00.000000000",
          "2024-11-10T00:00:00.000000000",
          "2024-11-17T00:00:00.000000000",
          "2024-11-24T00:00:00.000000000",
          "2024-12-01T00:00:00.000000000",
          "2024-12-08T00:00:00.000000000",
          "2024-12-15T00:00:00.000000000",
          "2024-12-22T00:00:00.000000000",
          "2024-12-29T00:00:00.000000000",
          "2025-01-05T00:00:00.000000000",
          "2025-01-12T00:00:00.000000000",
          "2025-01-19T00:00:00.000000000",
          "2025-01-26T00:00:00.000000000",
          "2025-02-02T00:00:00.000000000",
          "2025-02-09T00:00:00.000000000",
          "2025-02-16T00:00:00.000000000",
          "2025-02-23T00:00:00.000000000",
          "2025-03-02T00:00:00.000000000",
          "2025-03-09T00:00:00.000000000",
          "2025-03-16T00:00:00.000000000",
          "2025-03-23T00:00:00.000000000",
          "2025-03-30T00:00:00.000000000",
          "2025-04-06T00:00:00.000000000",
          "2025-04-13T00:00:00.000000000",
          "2025-04-20T00:00:00.000000000",
          "2025-04-27T00:00:00.000000000",
          "2025-05-04T00:00:00.000000000",
          "2025-05-11T00:00:00.000000000",
          "2025-05-18T00:00:00.000000000",
          "2025-05-25T00:00:00.000000000"
         ],
         "y": {
          "bdata": "pCcI+j2A5T8j1CFLnUISQFI2L47ckh9A9vXUqhqAHUByp0LSztwTQHZgHzfHbRJAKpuUVMLCHECl7idsk6UjQB/KeXy4myNAyJhnwv/DH0AqexERsZUcQFr7XwOt7SBAvuJVbnOsI0DC04PYBBkiQNStNYdcGBtAcimfaRt4FkDOCZ5mEvIZQI7J7BNFAx1AFW+JF/7AFkAY8C3IfwwHQIwshgP5dgNArgRTnqQyGEDjyShZWvQlQNLjA6dhgylAzoIhJ41uJEBOsEjxFO4aQEFkpMZ45xhANLK6x4FmIUCG4/jxtiUlQEb5stwPRSJAj7J4DTduFkBA48lMDvUKQPSuSQtVfA9AQDsCnwPeFkA4JFOmd3kaQM7SA2VApBpAjLsgs+XtHEA71gUpnNcgQP+E8Hzm2yBAiN5rD1RSGEAAIIquUJUHQMi7JEuxxf4/1BlDse1eDkBUyPD5s0oZQF5N9hb/rBxAukon3sqwG0DxQuEGRgIgQIEZup2mQSVAMcEzlR1wJkAsBiyO9ycYQFyYVOrv/w7ABjz+x6hDKcCkIBpLuwsuwHRNRpHVTCfA",
          "dtype": "f8"
         }
        },
        {
         "fill": "toself",
         "fillcolor": "rgba(0,100,80,0.2)",
         "line": {
          "color": "rgba(255,255,255,0)"
         },
         "name": "95% Confidence Interval",
         "type": "scatter",
         "x": [
          "2024-05-19T00:00:00",
          "2024-05-26T00:00:00",
          "2024-06-02T00:00:00",
          "2024-06-09T00:00:00",
          "2024-06-16T00:00:00",
          "2024-06-23T00:00:00",
          "2024-06-30T00:00:00",
          "2024-07-07T00:00:00",
          "2024-07-14T00:00:00",
          "2024-07-21T00:00:00",
          "2024-07-28T00:00:00",
          "2024-08-04T00:00:00",
          "2024-08-11T00:00:00",
          "2024-08-18T00:00:00",
          "2024-08-25T00:00:00",
          "2024-09-01T00:00:00",
          "2024-09-08T00:00:00",
          "2024-09-15T00:00:00",
          "2024-09-22T00:00:00",
          "2024-09-29T00:00:00",
          "2024-10-06T00:00:00",
          "2024-10-13T00:00:00",
          "2024-10-20T00:00:00",
          "2024-10-27T00:00:00",
          "2024-11-03T00:00:00",
          "2024-11-10T00:00:00",
          "2024-11-17T00:00:00",
          "2024-11-24T00:00:00",
          "2024-12-01T00:00:00",
          "2024-12-08T00:00:00",
          "2024-12-15T00:00:00",
          "2024-12-22T00:00:00",
          "2024-12-29T00:00:00",
          "2025-01-05T00:00:00",
          "2025-01-12T00:00:00",
          "2025-01-19T00:00:00",
          "2025-01-26T00:00:00",
          "2025-02-02T00:00:00",
          "2025-02-09T00:00:00",
          "2025-02-16T00:00:00",
          "2025-02-23T00:00:00",
          "2025-03-02T00:00:00",
          "2025-03-09T00:00:00",
          "2025-03-16T00:00:00",
          "2025-03-23T00:00:00",
          "2025-03-30T00:00:00",
          "2025-04-06T00:00:00",
          "2025-04-13T00:00:00",
          "2025-04-20T00:00:00",
          "2025-04-27T00:00:00",
          "2025-05-04T00:00:00",
          "2025-05-11T00:00:00",
          "2025-05-18T00:00:00",
          "2025-05-25T00:00:00",
          "2025-05-25T00:00:00",
          "2025-05-18T00:00:00",
          "2025-05-11T00:00:00",
          "2025-05-04T00:00:00",
          "2025-04-27T00:00:00",
          "2025-04-20T00:00:00",
          "2025-04-13T00:00:00",
          "2025-04-06T00:00:00",
          "2025-03-30T00:00:00",
          "2025-03-23T00:00:00",
          "2025-03-16T00:00:00",
          "2025-03-09T00:00:00",
          "2025-03-02T00:00:00",
          "2025-02-23T00:00:00",
          "2025-02-16T00:00:00",
          "2025-02-09T00:00:00",
          "2025-02-02T00:00:00",
          "2025-01-26T00:00:00",
          "2025-01-19T00:00:00",
          "2025-01-12T00:00:00",
          "2025-01-05T00:00:00",
          "2024-12-29T00:00:00",
          "2024-12-22T00:00:00",
          "2024-12-15T00:00:00",
          "2024-12-08T00:00:00",
          "2024-12-01T00:00:00",
          "2024-11-24T00:00:00",
          "2024-11-17T00:00:00",
          "2024-11-10T00:00:00",
          "2024-11-03T00:00:00",
          "2024-10-27T00:00:00",
          "2024-10-20T00:00:00",
          "2024-10-13T00:00:00",
          "2024-10-06T00:00:00",
          "2024-09-29T00:00:00",
          "2024-09-22T00:00:00",
          "2024-09-15T00:00:00",
          "2024-09-08T00:00:00",
          "2024-09-01T00:00:00",
          "2024-08-25T00:00:00",
          "2024-08-18T00:00:00",
          "2024-08-11T00:00:00",
          "2024-08-04T00:00:00",
          "2024-07-28T00:00:00",
          "2024-07-21T00:00:00",
          "2024-07-14T00:00:00",
          "2024-07-07T00:00:00",
          "2024-06-30T00:00:00",
          "2024-06-23T00:00:00",
          "2024-06-16T00:00:00",
          "2024-06-09T00:00:00",
          "2024-06-02T00:00:00",
          "2024-05-26T00:00:00",
          "2024-05-19T00:00:00"
         ],
         "y": [
          5.085522019286905,
          9.308933734259899,
          12.636909751822333,
          12.645344339048673,
          9.406752974242222,
          9.14628177167721,
          11.806776202291477,
          14.530246481392785,
          14.306413203120377,
          12.925463198383705,
          11.859370249572297,
          13.026654310587391,
          14.588345011955628,
          13.60986693176922,
          11.682832997909067,
          10.355231693278894,
          11.405586678361079,
          12.126049880915613,
          10.276260746609037,
          7.613749748674058,
          7.207282108326622,
          10.932305453920081,
          15.4851994567738,
          17.561180882605022,
          14.866036114072973,
          11.475647179461303,
          11.140218653089109,
          13.506449280360442,
          15.486541878232677,
          14.048292512529441,
          10.167839675268388,
          7.958279608740448,
          8.925401965061358,
          10.06455171332371,
          11.333719494998734,
          11.125070538326902,
          11.771930491563474,
          12.951478409194541,
          12.97877638034107,
          10.992986175271659,
          7.656444273231774,
          6.494959542796775,
          8.461424463199286,
          10.901915916594705,
          11.754492567879732,
          11.162950493122683,
          12.678810119248986,
          15.149363275754524,
          15.935661293407998,
          10.899327980303658,
          0.8142062092342801,
          -8.098152425680533,
          -10.469247091373992,
          -6.77887185208952,
          -16.420958327913738,
          -19.452755318842218,
          -17.299777474396745,
          -8.2901179140582,
          1.2228773384484124,
          6.522596111078349,
          6.088768239106081,
          3.533986487182104,
          1.9064479967262526,
          2.3432832431337753,
          1.481464794552502,
          -1.0865495682853215,
          -2.77637401891439,
          -1.5615113556783782,
          1.1014706770922564,
          3.7092455814159266,
          3.6693398012207203,
          2.680757787278257,
          2.0185814887036266,
          2.03273308074379,
          1.131950328209434,
          -0.8745983692778412,
          -1.3757055715110615,
          1.0437777343192898,
          4.5338825073377995,
          5.78299642099958,
          3.952930308412468,
          1.7119189431857758,
          1.949888954902562,
          5.91560475348455,
          7.4818076970418845,
          6.414074594111839,
          1.301984911245666,
          -2.356352590201964,
          -2.3660484056813065,
          0.763275772141314,
          2.8727449845409563,
          1.7512035241674984,
          0.9652299518643491,
          2.066899604475413,
          4.222846107524402,
          5.31822574185631,
          4.003208616659842,
          2.2624253693316807,
          3.1057467229243185,
          4.7130051737849,
          4.945213879167173,
          2.31681548878961,
          -0.4879430843202872,
          0.4501612463594246,
          2.076181957836997,
          3.557866088265675,
          -0.17108674553622455,
          -4.086331457628784
         ]
        }
       ],
       "layout": {
        "hovermode": "x unified",
        "showlegend": true,
        "template": {
         "data": {
          "bar": [
           {
            "error_x": {
             "color": "#2a3f5f"
            },
            "error_y": {
             "color": "#2a3f5f"
            },
            "marker": {
             "line": {
              "color": "white",
              "width": 0.5
             },
             "pattern": {
              "fillmode": "overlay",
              "size": 10,
              "solidity": 0.2
             }
            },
            "type": "bar"
           }
          ],
          "barpolar": [
           {
            "marker": {
             "line": {
              "color": "white",
              "width": 0.5
             },
             "pattern": {
              "fillmode": "overlay",
              "size": 10,
              "solidity": 0.2
             }
            },
            "type": "barpolar"
           }
          ],
          "carpet": [
           {
            "aaxis": {
             "endlinecolor": "#2a3f5f",
             "gridcolor": "#C8D4E3",
             "linecolor": "#C8D4E3",
             "minorgridcolor": "#C8D4E3",
             "startlinecolor": "#2a3f5f"
            },
            "baxis": {
             "endlinecolor": "#2a3f5f",
             "gridcolor": "#C8D4E3",
             "linecolor": "#C8D4E3",
             "minorgridcolor": "#C8D4E3",
             "startlinecolor": "#2a3f5f"
            },
            "type": "carpet"
           }
          ],
          "choropleth": [
           {
            "colorbar": {
             "outlinewidth": 0,
             "ticks": ""
            },
            "type": "choropleth"
           }
          ],
          "contour": [
           {
            "colorbar": {
             "outlinewidth": 0,
             "ticks": ""
            },
            "colorscale": [
             [
              0,
              "#0d0887"
             ],
             [
              0.1111111111111111,
              "#46039f"
             ],
             [
              0.2222222222222222,
              "#7201a8"
             ],
             [
              0.3333333333333333,
              "#9c179e"
             ],
             [
              0.4444444444444444,
              "#bd3786"
             ],
             [
              0.5555555555555556,
              "#d8576b"
             ],
             [
              0.6666666666666666,
              "#ed7953"
             ],
             [
              0.7777777777777778,
              "#fb9f3a"
             ],
             [
              0.8888888888888888,
              "#fdca26"
             ],
             [
              1,
              "#f0f921"
             ]
            ],
            "type": "contour"
           }
          ],
          "contourcarpet": [
           {
            "colorbar": {
             "outlinewidth": 0,
             "ticks": ""
            },
            "type": "contourcarpet"
           }
          ],
          "heatmap": [
           {
            "colorbar": {
             "outlinewidth": 0,
             "ticks": ""
            },
            "colorscale": [
             [
              0,
              "#0d0887"
             ],
             [
              0.1111111111111111,
              "#46039f"
             ],
             [
              0.2222222222222222,
              "#7201a8"
             ],
             [
              0.3333333333333333,
              "#9c179e"
             ],
             [
              0.4444444444444444,
              "#bd3786"
             ],
             [
              0.5555555555555556,
              "#d8576b"
             ],
             [
              0.6666666666666666,
              "#ed7953"
             ],
             [
              0.7777777777777778,
              "#fb9f3a"
             ],
             [
              0.8888888888888888,
              "#fdca26"
             ],
             [
              1,
              "#f0f921"
             ]
            ],
            "type": "heatmap"
           }
          ],
          "histogram": [
           {
            "marker": {
             "pattern": {
              "fillmode": "overlay",
              "size": 10,
              "solidity": 0.2
             }
            },
            "type": "histogram"
           }
          ],
          "histogram2d": [
           {
            "colorbar": {
             "outlinewidth": 0,
             "ticks": ""
            },
            "colorscale": [
             [
              0,
              "#0d0887"
             ],
             [
              0.1111111111111111,
              "#46039f"
             ],
             [
              0.2222222222222222,
              "#7201a8"
             ],
             [
              0.3333333333333333,
              "#9c179e"
             ],
             [
              0.4444444444444444,
              "#bd3786"
             ],
             [
              0.5555555555555556,
              "#d8576b"
             ],
             [
              0.6666666666666666,
              "#ed7953"
             ],
             [
              0.7777777777777778,
              "#fb9f3a"
             ],
             [
              0.8888888888888888,
              "#fdca26"
             ],
             [
              1,
              "#f0f921"
             ]
            ],
            "type": "histogram2d"
           }
          ],
          "histogram2dcontour": [
           {
            "colorbar": {
             "outlinewidth": 0,
             "ticks": ""
            },
            "colorscale": [
             [
              0,
              "#0d0887"
             ],
             [
              0.1111111111111111,
              "#46039f"
             ],
             [
              0.2222222222222222,
              "#7201a8"
             ],
             [
              0.3333333333333333,
              "#9c179e"
             ],
             [
              0.4444444444444444,
              "#bd3786"
             ],
             [
              0.5555555555555556,
              "#d8576b"
             ],
             [
              0.6666666666666666,
              "#ed7953"
             ],
             [
              0.7777777777777778,
              "#fb9f3a"
             ],
             [
              0.8888888888888888,
              "#fdca26"
             ],
             [
              1,
              "#f0f921"
             ]
            ],
            "type": "histogram2dcontour"
           }
          ],
          "mesh3d": [
           {
            "colorbar": {
             "outlinewidth": 0,
             "ticks": ""
            },
            "type": "mesh3d"
           }
          ],
          "parcoords": [
           {
            "line": {
             "colorbar": {
              "outlinewidth": 0,
              "ticks": ""
             }
            },
            "type": "parcoords"
           }
          ],
          "pie": [
           {
            "automargin": true,
            "type": "pie"
           }
          ],
          "scatter": [
           {
            "fillpattern": {
             "fillmode": "overlay",
             "size": 10,
             "solidity": 0.2
            },
            "type": "scatter"
           }
          ],
          "scatter3d": [
           {
            "line": {
             "colorbar": {
              "outlinewidth": 0,
              "ticks": ""
             }
            },
            "marker": {
             "colorbar": {
              "outlinewidth": 0,
              "ticks": ""
             }
            },
            "type": "scatter3d"
           }
          ],
          "scattercarpet": [
           {
            "marker": {
             "colorbar": {
              "outlinewidth": 0,
              "ticks": ""
             }
            },
            "type": "scattercarpet"
           }
          ],
          "scattergeo": [
           {
            "marker": {
             "colorbar": {
              "outlinewidth": 0,
              "ticks": ""
             }
            },
            "type": "scattergeo"
           }
          ],
          "scattergl": [
           {
            "marker": {
             "colorbar": {
              "outlinewidth": 0,
              "ticks": ""
             }
            },
            "type": "scattergl"
           }
          ],
          "scattermap": [
           {
            "marker": {
             "colorbar": {
              "outlinewidth": 0,
              "ticks": ""
             }
            },
            "type": "scattermap"
           }
          ],
          "scattermapbox": [
           {
            "marker": {
             "colorbar": {
              "outlinewidth": 0,
              "ticks": ""
             }
            },
            "type": "scattermapbox"
           }
          ],
          "scatterpolar": [
           {
            "marker": {
             "colorbar": {
              "outlinewidth": 0,
              "ticks": ""
             }
            },
            "type": "scatterpolar"
           }
          ],
          "scatterpolargl": [
           {
            "marker": {
             "colorbar": {
              "outlinewidth": 0,
              "ticks": ""
             }
            },
            "type": "scatterpolargl"
           }
          ],
          "scatterternary": [
           {
            "marker": {
             "colorbar": {
              "outlinewidth": 0,
              "ticks": ""
             }
            },
            "type": "scatterternary"
           }
          ],
          "surface": [
           {
            "colorbar": {
             "outlinewidth": 0,
             "ticks": ""
            },
            "colorscale": [
             [
              0,
              "#0d0887"
             ],
             [
              0.1111111111111111,
              "#46039f"
             ],
             [
              0.2222222222222222,
              "#7201a8"
             ],
             [
              0.3333333333333333,
              "#9c179e"
             ],
             [
              0.4444444444444444,
              "#bd3786"
             ],
             [
              0.5555555555555556,
              "#d8576b"
             ],
             [
              0.6666666666666666,
              "#ed7953"
             ],
             [
              0.7777777777777778,
              "#fb9f3a"
             ],
             [
              0.8888888888888888,
              "#fdca26"
             ],
             [
              1,
              "#f0f921"
             ]
            ],
            "type": "surface"
           }
          ],
          "table": [
           {
            "cells": {
             "fill": {
              "color": "#EBF0F8"
             },
             "line": {
              "color": "white"
             }
            },
            "header": {
             "fill": {
              "color": "#C8D4E3"
             },
             "line": {
              "color": "white"
             }
            },
            "type": "table"
           }
          ]
         },
         "layout": {
          "annotationdefaults": {
           "arrowcolor": "#2a3f5f",
           "arrowhead": 0,
           "arrowwidth": 1
          },
          "autotypenumbers": "strict",
          "coloraxis": {
           "colorbar": {
            "outlinewidth": 0,
            "ticks": ""
           }
          },
          "colorscale": {
           "diverging": [
            [
             0,
             "#8e0152"
            ],
            [
             0.1,
             "#c51b7d"
            ],
            [
             0.2,
             "#de77ae"
            ],
            [
             0.3,
             "#f1b6da"
            ],
            [
             0.4,
             "#fde0ef"
            ],
            [
             0.5,
             "#f7f7f7"
            ],
            [
             0.6,
             "#e6f5d0"
            ],
            [
             0.7,
             "#b8e186"
            ],
            [
             0.8,
             "#7fbc41"
            ],
            [
             0.9,
             "#4d9221"
            ],
            [
             1,
             "#276419"
            ]
           ],
           "sequential": [
            [
             0,
             "#0d0887"
            ],
            [
             0.1111111111111111,
             "#46039f"
            ],
            [
             0.2222222222222222,
             "#7201a8"
            ],
            [
             0.3333333333333333,
             "#9c179e"
            ],
            [
             0.4444444444444444,
             "#bd3786"
            ],
            [
             0.5555555555555556,
             "#d8576b"
            ],
            [
             0.6666666666666666,
             "#ed7953"
            ],
            [
             0.7777777777777778,
             "#fb9f3a"
            ],
            [
             0.8888888888888888,
             "#fdca26"
            ],
            [
             1,
             "#f0f921"
            ]
           ],
           "sequentialminus": [
            [
             0,
             "#0d0887"
            ],
            [
             0.1111111111111111,
             "#46039f"
            ],
            [
             0.2222222222222222,
             "#7201a8"
            ],
            [
             0.3333333333333333,
             "#9c179e"
            ],
            [
             0.4444444444444444,
             "#bd3786"
            ],
            [
             0.5555555555555556,
             "#d8576b"
            ],
            [
             0.6666666666666666,
             "#ed7953"
            ],
            [
             0.7777777777777778,
             "#fb9f3a"
            ],
            [
             0.8888888888888888,
             "#fdca26"
            ],
            [
             1,
             "#f0f921"
            ]
           ]
          },
          "colorway": [
           "#636efa",
           "#EF553B",
           "#00cc96",
           "#ab63fa",
           "#FFA15A",
           "#19d3f3",
           "#FF6692",
           "#B6E880",
           "#FF97FF",
           "#FECB52"
          ],
          "font": {
           "color": "#2a3f5f"
          },
          "geo": {
           "bgcolor": "white",
           "lakecolor": "white",
           "landcolor": "white",
           "showlakes": true,
           "showland": true,
           "subunitcolor": "#C8D4E3"
          },
          "hoverlabel": {
           "align": "left"
          },
          "hovermode": "closest",
          "mapbox": {
           "style": "light"
          },
          "paper_bgcolor": "white",
          "plot_bgcolor": "white",
          "polar": {
           "angularaxis": {
            "gridcolor": "#EBF0F8",
            "linecolor": "#EBF0F8",
            "ticks": ""
           },
           "bgcolor": "white",
           "radialaxis": {
            "gridcolor": "#EBF0F8",
            "linecolor": "#EBF0F8",
            "ticks": ""
           }
          },
          "scene": {
           "xaxis": {
            "backgroundcolor": "white",
            "gridcolor": "#DFE8F3",
            "gridwidth": 2,
            "linecolor": "#EBF0F8",
            "showbackground": true,
            "ticks": "",
            "zerolinecolor": "#EBF0F8"
           },
           "yaxis": {
            "backgroundcolor": "white",
            "gridcolor": "#DFE8F3",
            "gridwidth": 2,
            "linecolor": "#EBF0F8",
            "showbackground": true,
            "ticks": "",
            "zerolinecolor": "#EBF0F8"
           },
           "zaxis": {
            "backgroundcolor": "white",
            "gridcolor": "#DFE8F3",
            "gridwidth": 2,
            "linecolor": "#EBF0F8",
            "showbackground": true,
            "ticks": "",
            "zerolinecolor": "#EBF0F8"
           }
          },
          "shapedefaults": {
           "line": {
            "color": "#2a3f5f"
           }
          },
          "ternary": {
           "aaxis": {
            "gridcolor": "#DFE8F3",
            "linecolor": "#A2B1C6",
            "ticks": ""
           },
           "baxis": {
            "gridcolor": "#DFE8F3",
            "linecolor": "#A2B1C6",
            "ticks": ""
           },
           "bgcolor": "white",
           "caxis": {
            "gridcolor": "#DFE8F3",
            "linecolor": "#A2B1C6",
            "ticks": ""
           }
          },
          "title": {
           "x": 0.05
          },
          "xaxis": {
           "automargin": true,
           "gridcolor": "#EBF0F8",
           "linecolor": "#EBF0F8",
           "ticks": "",
           "title": {
            "standoff": 15
           },
           "zerolinecolor": "#EBF0F8",
           "zerolinewidth": 2
          },
          "yaxis": {
           "automargin": true,
           "gridcolor": "#EBF0F8",
           "linecolor": "#EBF0F8",
           "ticks": "",
           "title": {
            "standoff": 15
           },
           "zerolinecolor": "#EBF0F8",
           "zerolinewidth": 2
          }
         }
        },
        "title": {
         "text": "Overtime Forecast - IT"
        },
        "xaxis": {
         "title": {
          "text": "Date"
         }
        },
        "yaxis": {
         "title": {
          "text": "Overtime Hours"
         }
        }
       }
      }
     },
     "metadata": {},
     "output_type": "display_data"
    },
    {
     "data": {
      "application/vnd.plotly.v1+json": {
       "config": {
        "plotlyServerURL": "https://plot.ly"
       },
       "data": [
        {
         "line": {
          "color": "blue"
         },
         "mode": "markers+lines",
         "name": "Historical",
         "type": "scatter",
         "x": [
          "2024-05-19T00:00:00.000000000",
          "2024-05-26T00:00:00.000000000",
          "2024-06-02T00:00:00.000000000",
          "2024-06-09T00:00:00.000000000",
          "2024-06-16T00:00:00.000000000",
          "2024-06-23T00:00:00.000000000",
          "2024-06-30T00:00:00.000000000",
          "2024-07-07T00:00:00.000000000",
          "2024-07-14T00:00:00.000000000",
          "2024-07-21T00:00:00.000000000",
          "2024-07-28T00:00:00.000000000",
          "2024-08-04T00:00:00.000000000",
          "2024-08-11T00:00:00.000000000",
          "2024-08-18T00:00:00.000000000",
          "2024-08-25T00:00:00.000000000",
          "2024-09-01T00:00:00.000000000",
          "2024-09-08T00:00:00.000000000",
          "2024-09-15T00:00:00.000000000",
          "2024-09-22T00:00:00.000000000",
          "2024-09-29T00:00:00.000000000",
          "2024-10-06T00:00:00.000000000",
          "2024-10-13T00:00:00.000000000",
          "2024-10-20T00:00:00.000000000",
          "2024-10-27T00:00:00.000000000",
          "2024-11-03T00:00:00.000000000",
          "2024-11-10T00:00:00.000000000",
          "2024-11-17T00:00:00.000000000",
          "2024-11-24T00:00:00.000000000",
          "2024-12-01T00:00:00.000000000",
          "2024-12-08T00:00:00.000000000",
          "2024-12-15T00:00:00.000000000",
          "2024-12-22T00:00:00.000000000",
          "2024-12-29T00:00:00.000000000",
          "2025-01-05T00:00:00.000000000",
          "2025-01-12T00:00:00.000000000",
          "2025-01-19T00:00:00.000000000",
          "2025-01-26T00:00:00.000000000",
          "2025-02-02T00:00:00.000000000",
          "2025-02-09T00:00:00.000000000",
          "2025-02-16T00:00:00.000000000",
          "2025-02-23T00:00:00.000000000",
          "2025-03-02T00:00:00.000000000",
          "2025-03-09T00:00:00.000000000",
          "2025-03-16T00:00:00.000000000",
          "2025-03-23T00:00:00.000000000",
          "2025-03-30T00:00:00.000000000",
          "2025-04-06T00:00:00.000000000",
          "2025-04-13T00:00:00.000000000",
          "2025-04-20T00:00:00.000000000",
          "2025-04-27T00:00:00.000000000",
          "2025-05-04T00:00:00.000000000",
          "2025-05-11T00:00:00.000000000",
          "2025-05-18T00:00:00.000000000",
          "2025-05-25T00:00:00.000000000"
         ],
         "y": {
          "bdata": "AAAAAAAAAAAehetRuB4cQGZmZmZmZv4/XI/C9ShcEEAfhetRuJ4gQBSuR+F6lCJAmpmZmZmZEUDXo3A9CtcPQDMzMzMzM+s/FK5H4XoU3j/hehSuR+EMQClcj8L1qCNAexSuR+F6GEBwPQrXo3AHQAAAAAAAAAAA9ihcj8L1IEDXo3A9CtcFQOF6FK5H4RVAAAAAAACAJUDNzMzMzMwRQOJ6FK5H4f4/zczMzMzMFEAzMzMzMzMgQClcj8L1qCFAKVyPwvUoH0A9CtejcD0GQNejcD0K1wtApHA9Ctej9D/NzMzMzMwMQMzMzMzMzBpAFa5H4XoUHUAK16NwPQoSQBWuR+F6FB5ArkfhehSu7z/C9Shcj8IWQLgehetRuCJAmpmZmZmZJUBSuB6F61EkQClcj8L1KBdASOF6FK5HEEBdj8L1KFwfQOF6FK5H4S5AuB6F61G4GEBxPQrXo3AeQFK4HoXrUR1AzczMzMzMF0DhehSuR+EAQAAAAAAAAAAAZmZmZmZmIkCamZmZmZkxQHE9CtejcA1AuB6F61G4EUDNzMzMzMwZQB+F61G4HgdA",
          "dtype": "f8"
         }
        },
        {
         "line": {
          "color": "red"
         },
         "mode": "lines",
         "name": "Forecast",
         "type": "scatter",
         "x": [
          "2024-05-19T00:00:00.000000000",
          "2024-05-26T00:00:00.000000000",
          "2024-06-02T00:00:00.000000000",
          "2024-06-09T00:00:00.000000000",
          "2024-06-16T00:00:00.000000000",
          "2024-06-23T00:00:00.000000000",
          "2024-06-30T00:00:00.000000000",
          "2024-07-07T00:00:00.000000000",
          "2024-07-14T00:00:00.000000000",
          "2024-07-21T00:00:00.000000000",
          "2024-07-28T00:00:00.000000000",
          "2024-08-04T00:00:00.000000000",
          "2024-08-11T00:00:00.000000000",
          "2024-08-18T00:00:00.000000000",
          "2024-08-25T00:00:00.000000000",
          "2024-09-01T00:00:00.000000000",
          "2024-09-08T00:00:00.000000000",
          "2024-09-15T00:00:00.000000000",
          "2024-09-22T00:00:00.000000000",
          "2024-09-29T00:00:00.000000000",
          "2024-10-06T00:00:00.000000000",
          "2024-10-13T00:00:00.000000000",
          "2024-10-20T00:00:00.000000000",
          "2024-10-27T00:00:00.000000000",
          "2024-11-03T00:00:00.000000000",
          "2024-11-10T00:00:00.000000000",
          "2024-11-17T00:00:00.000000000",
          "2024-11-24T00:00:00.000000000",
          "2024-12-01T00:00:00.000000000",
          "2024-12-08T00:00:00.000000000",
          "2024-12-15T00:00:00.000000000",
          "2024-12-22T00:00:00.000000000",
          "2024-12-29T00:00:00.000000000",
          "2025-01-05T00:00:00.000000000",
          "2025-01-12T00:00:00.000000000",
          "2025-01-19T00:00:00.000000000",
          "2025-01-26T00:00:00.000000000",
          "2025-02-02T00:00:00.000000000",
          "2025-02-09T00:00:00.000000000",
          "2025-02-16T00:00:00.000000000",
          "2025-02-23T00:00:00.000000000",
          "2025-03-02T00:00:00.000000000",
          "2025-03-09T00:00:00.000000000",
          "2025-03-16T00:00:00.000000000",
          "2025-03-23T00:00:00.000000000",
          "2025-03-30T00:00:00.000000000",
          "2025-04-06T00:00:00.000000000",
          "2025-04-13T00:00:00.000000000",
          "2025-04-20T00:00:00.000000000",
          "2025-04-27T00:00:00.000000000",
          "2025-05-04T00:00:00.000000000",
          "2025-05-11T00:00:00.000000000",
          "2025-05-18T00:00:00.000000000",
          "2025-05-25T00:00:00.000000000"
         ],
         "y": {
          "bdata": "WIQSN0607D+6ozmZ5dsSQN9vXXzG7w9AFGPsIYs2EUCrOeVNc9cbQCVXjcOoqyFAuXnFwjLyG0AWzgiZiqMEQIBm8ajo9cq/gMUALtml8z92wxvKjsQUQM70yZTLlB5ACqIGRFX9GUCg1gDpbtwLQIB7IMwdVv8/uLoj9Wj8CkACNFXBc4YYQFx4bpPjXh5AJPU7EwXqGkAszhFy6UATQKhtFGo3Yw9ACD5IncsFFEAULAFdE7McQKgEhW5YCSFA9PaFYuJ6HkAMSPx5TQUTQEBZKrpqV/4/wPYLnPGd9D/QRZlMONQLQLDd8CwiRBpAcMKVc6wKH0Bg5UEnSFsYQCD2IrM7YwxAoIx7ZiSPCUCYd6TaAbwXQKTpofTP4iJApOR3h4UjJUDcBM6z11ghQEg5txbS6hhAANmPZkIaGED4tRyKmFogQGC67mWriiRACGQu8pNwJEDodVt+mZQgQPCpqO0sZRhAAIJRAoZ6EUCQWmp9kUYGQABiSI/OJwJAWBalNC9HGUC26ZkFkYcyQG5rPI7AGUNAlR6MgPmJTUC5OqaoXWRSQPKcYV1ds1NA",
          "dtype": "f8"
         }
        },
        {
         "fill": "toself",
         "fillcolor": "rgba(0,100,80,0.2)",
         "line": {
          "color": "rgba(255,255,255,0)"
         },
         "name": "95% Confidence Interval",
         "type": "scatter",
         "x": [
          "2024-05-19T00:00:00",
          "2024-05-26T00:00:00",
          "2024-06-02T00:00:00",
          "2024-06-09T00:00:00",
          "2024-06-16T00:00:00",
          "2024-06-23T00:00:00",
          "2024-06-30T00:00:00",
          "2024-07-07T00:00:00",
          "2024-07-14T00:00:00",
          "2024-07-21T00:00:00",
          "2024-07-28T00:00:00",
          "2024-08-04T00:00:00",
          "2024-08-11T00:00:00",
          "2024-08-18T00:00:00",
          "2024-08-25T00:00:00",
          "2024-09-01T00:00:00",
          "2024-09-08T00:00:00",
          "2024-09-15T00:00:00",
          "2024-09-22T00:00:00",
          "2024-09-29T00:00:00",
          "2024-10-06T00:00:00",
          "2024-10-13T00:00:00",
          "2024-10-20T00:00:00",
          "2024-10-27T00:00:00",
          "2024-11-03T00:00:00",
          "2024-11-10T00:00:00",
          "2024-11-17T00:00:00",
          "2024-11-24T00:00:00",
          "2024-12-01T00:00:00",
          "2024-12-08T00:00:00",
          "2024-12-15T00:00:00",
          "2024-12-22T00:00:00",
          "2024-12-29T00:00:00",
          "2025-01-05T00:00:00",
          "2025-01-12T00:00:00",
          "2025-01-19T00:00:00",
          "2025-01-26T00:00:00",
          "2025-02-02T00:00:00",
          "2025-02-09T00:00:00",
          "2025-02-16T00:00:00",
          "2025-02-23T00:00:00",
          "2025-03-02T00:00:00",
          "2025-03-09T00:00:00",
          "2025-03-16T00:00:00",
          "2025-03-23T00:00:00",
          "2025-03-30T00:00:00",
          "2025-04-06T00:00:00",
          "2025-04-13T00:00:00",
          "2025-04-20T00:00:00",
          "2025-04-27T00:00:00",
          "2025-05-04T00:00:00",
          "2025-05-11T00:00:00",
          "2025-05-18T00:00:00",
          "2025-05-25T00:00:00",
          "2025-05-25T00:00:00",
          "2025-05-18T00:00:00",
          "2025-05-11T00:00:00",
          "2025-05-04T00:00:00",
          "2025-04-27T00:00:00",
          "2025-04-20T00:00:00",
          "2025-04-13T00:00:00",
          "2025-04-06T00:00:00",
          "2025-03-30T00:00:00",
          "2025-03-23T00:00:00",
          "2025-03-16T00:00:00",
          "2025-03-09T00:00:00",
          "2025-03-02T00:00:00",
          "2025-02-23T00:00:00",
          "2025-02-16T00:00:00",
          "2025-02-09T00:00:00",
          "2025-02-02T00:00:00",
          "2025-01-26T00:00:00",
          "2025-01-19T00:00:00",
          "2025-01-12T00:00:00",
          "2025-01-05T00:00:00",
          "2024-12-29T00:00:00",
          "2024-12-22T00:00:00",
          "2024-12-15T00:00:00",
          "2024-12-08T00:00:00",
          "2024-12-01T00:00:00",
          "2024-11-24T00:00:00",
          "2024-11-17T00:00:00",
          "2024-11-10T00:00:00",
          "2024-11-03T00:00:00",
          "2024-10-27T00:00:00",
          "2024-10-20T00:00:00",
          "2024-10-13T00:00:00",
          "2024-10-06T00:00:00",
          "2024-09-29T00:00:00",
          "2024-09-22T00:00:00",
          "2024-09-15T00:00:00",
          "2024-09-08T00:00:00",
          "2024-09-01T00:00:00",
          "2024-08-25T00:00:00",
          "2024-08-18T00:00:00",
          "2024-08-11T00:00:00",
          "2024-08-04T00:00:00",
          "2024-07-28T00:00:00",
          "2024-07-21T00:00:00",
          "2024-07-14T00:00:00",
          "2024-07-07T00:00:00",
          "2024-06-30T00:00:00",
          "2024-06-23T00:00:00",
          "2024-06-16T00:00:00",
          "2024-06-09T00:00:00",
          "2024-06-02T00:00:00",
          "2024-05-26T00:00:00",
          "2024-05-19T00:00:00"
         ],
         "y": [
          4.810612791464173,
          8.782417956959218,
          7.67013648369384,
          8.087932884408827,
          10.654227633304712,
          12.591649258068978,
          10.599344941295021,
          6.38323957097301,
          4.075199078490357,
          4.960231615102137,
          9.613031607754225,
          11.373703689955539,
          10.432470494818961,
          7.031275721698026,
          5.854323591472848,
          7.375978521742684,
          10.095171165917188,
          11.343000815831637,
          10.536265149263771,
          8.809401879723906,
          7.834764766558802,
          8.95388945489618,
          11.046708677702874,
          12.607573768255236,
          11.290696822204426,
          8.922191492154605,
          5.673275202281961,
          5.224427893611136,
          7.250136834924698,
          10.592672123571369,
          11.68428815742389,
          10.045076642676523,
          7.432927950741504,
          7.208297655672281,
          9.68645925952401,
          13.557076672365774,
          14.160068508258382,
          12.52643340926275,
          10.058923239062407,
          10.004984962118028,
          12.104101350405807,
          13.700044472297435,
          14.391001140706134,
          12.380970903753308,
          10.528892707378928,
          8.48067479552402,
          6.61344249779021,
          5.934863334573432,
          10.17743418346554,
          22.213720493896528,
          42.23349682652024,
          63.010953798541586,
          77.32749288505052,
          82.42733822674074,
          74.71727378994574,
          69.92471613188661,
          55.20581158444935,
          34.627054047018305,
          14.454194757847512,
          2.5293654273760797,
          -1.9741466363302569,
          -1.0410084344464055,
          0.33540343983076515,
          2.1743893107240724,
          4.4200437838519075,
          6.208604026488389,
          6.356978025321918,
          4.166773143578195,
          2.0902942158912023,
          2.4326322356518766,
          4.991543911703938,
          6.499961916236271,
          5.699347403229021,
          2.0675485941650846,
          -0.7403071632730863,
          -0.14019659704066983,
          2.3027920865712925,
          4.026167901705815,
          2.754738548005888,
          -0.34800699006281116,
          -2.600032001172926,
          -2.0710559889529825,
          0.8763815205398662,
          3.3437726897026305,
          4.778488681372315,
          3.524816626181971,
          1.5017481320958606,
          0.2159411060554477,
          1.0125361450559922,
          2.7947021333293462,
          3.8274187432160978,
          2.6157099367733267,
          -0.5521468226596316,
          -2.231367191529846,
          -0.16180705714498905,
          2.7170445358093565,
          3.775173678282013,
          1.3942671022332065,
          -2.626198429628642,
          -4.148100404662214,
          -1.2558748053029,
          3.055532280123334,
          4.889802315367026,
          2.849638029414476,
          0.3787558905484798,
          0.046067303683458634,
          0.9053157768820473,
          -3.0037320862897303
         ]
        }
       ],
       "layout": {
        "hovermode": "x unified",
        "showlegend": true,
        "template": {
         "data": {
          "bar": [
           {
            "error_x": {
             "color": "#2a3f5f"
            },
            "error_y": {
             "color": "#2a3f5f"
            },
            "marker": {
             "line": {
              "color": "white",
              "width": 0.5
             },
             "pattern": {
              "fillmode": "overlay",
              "size": 10,
              "solidity": 0.2
             }
            },
            "type": "bar"
           }
          ],
          "barpolar": [
           {
            "marker": {
             "line": {
              "color": "white",
              "width": 0.5
             },
             "pattern": {
              "fillmode": "overlay",
              "size": 10,
              "solidity": 0.2
             }
            },
            "type": "barpolar"
           }
          ],
          "carpet": [
           {
            "aaxis": {
             "endlinecolor": "#2a3f5f",
             "gridcolor": "#C8D4E3",
             "linecolor": "#C8D4E3",
             "minorgridcolor": "#C8D4E3",
             "startlinecolor": "#2a3f5f"
            },
            "baxis": {
             "endlinecolor": "#2a3f5f",
             "gridcolor": "#C8D4E3",
             "linecolor": "#C8D4E3",
             "minorgridcolor": "#C8D4E3",
             "startlinecolor": "#2a3f5f"
            },
            "type": "carpet"
           }
          ],
          "choropleth": [
           {
            "colorbar": {
             "outlinewidth": 0,
             "ticks": ""
            },
            "type": "choropleth"
           }
          ],
          "contour": [
           {
            "colorbar": {
             "outlinewidth": 0,
             "ticks": ""
            },
            "colorscale": [
             [
              0,
              "#0d0887"
             ],
             [
              0.1111111111111111,
              "#46039f"
             ],
             [
              0.2222222222222222,
              "#7201a8"
             ],
             [
              0.3333333333333333,
              "#9c179e"
             ],
             [
              0.4444444444444444,
              "#bd3786"
             ],
             [
              0.5555555555555556,
              "#d8576b"
             ],
             [
              0.6666666666666666,
              "#ed7953"
             ],
             [
              0.7777777777777778,
              "#fb9f3a"
             ],
             [
              0.8888888888888888,
              "#fdca26"
             ],
             [
              1,
              "#f0f921"
             ]
            ],
            "type": "contour"
           }
          ],
          "contourcarpet": [
           {
            "colorbar": {
             "outlinewidth": 0,
             "ticks": ""
            },
            "type": "contourcarpet"
           }
          ],
          "heatmap": [
           {
            "colorbar": {
             "outlinewidth": 0,
             "ticks": ""
            },
            "colorscale": [
             [
              0,
              "#0d0887"
             ],
             [
              0.1111111111111111,
              "#46039f"
             ],
             [
              0.2222222222222222,
              "#7201a8"
             ],
             [
              0.3333333333333333,
              "#9c179e"
             ],
             [
              0.4444444444444444,
              "#bd3786"
             ],
             [
              0.5555555555555556,
              "#d8576b"
             ],
             [
              0.6666666666666666,
              "#ed7953"
             ],
             [
              0.7777777777777778,
              "#fb9f3a"
             ],
             [
              0.8888888888888888,
              "#fdca26"
             ],
             [
              1,
              "#f0f921"
             ]
            ],
            "type": "heatmap"
           }
          ],
          "histogram": [
           {
            "marker": {
             "pattern": {
              "fillmode": "overlay",
              "size": 10,
              "solidity": 0.2
             }
            },
            "type": "histogram"
           }
          ],
          "histogram2d": [
           {
            "colorbar": {
             "outlinewidth": 0,
             "ticks": ""
            },
            "colorscale": [
             [
              0,
              "#0d0887"
             ],
             [
              0.1111111111111111,
              "#46039f"
             ],
             [
              0.2222222222222222,
              "#7201a8"
             ],
             [
              0.3333333333333333,
              "#9c179e"
             ],
             [
              0.4444444444444444,
              "#bd3786"
             ],
             [
              0.5555555555555556,
              "#d8576b"
             ],
             [
              0.6666666666666666,
              "#ed7953"
             ],
             [
              0.7777777777777778,
              "#fb9f3a"
             ],
             [
              0.8888888888888888,
              "#fdca26"
             ],
             [
              1,
              "#f0f921"
             ]
            ],
            "type": "histogram2d"
           }
          ],
          "histogram2dcontour": [
           {
            "colorbar": {
             "outlinewidth": 0,
             "ticks": ""
            },
            "colorscale": [
             [
              0,
              "#0d0887"
             ],
             [
              0.1111111111111111,
              "#46039f"
             ],
             [
              0.2222222222222222,
              "#7201a8"
             ],
             [
              0.3333333333333333,
              "#9c179e"
             ],
             [
              0.4444444444444444,
              "#bd3786"
             ],
             [
              0.5555555555555556,
              "#d8576b"
             ],
             [
              0.6666666666666666,
              "#ed7953"
             ],
             [
              0.7777777777777778,
              "#fb9f3a"
             ],
             [
              0.8888888888888888,
              "#fdca26"
             ],
             [
              1,
              "#f0f921"
             ]
            ],
            "type": "histogram2dcontour"
           }
          ],
          "mesh3d": [
           {
            "colorbar": {
             "outlinewidth": 0,
             "ticks": ""
            },
            "type": "mesh3d"
           }
          ],
          "parcoords": [
           {
            "line": {
             "colorbar": {
              "outlinewidth": 0,
              "ticks": ""
             }
            },
            "type": "parcoords"
           }
          ],
          "pie": [
           {
            "automargin": true,
            "type": "pie"
           }
          ],
          "scatter": [
           {
            "fillpattern": {
             "fillmode": "overlay",
             "size": 10,
             "solidity": 0.2
            },
            "type": "scatter"
           }
          ],
          "scatter3d": [
           {
            "line": {
             "colorbar": {
              "outlinewidth": 0,
              "ticks": ""
             }
            },
            "marker": {
             "colorbar": {
              "outlinewidth": 0,
              "ticks": ""
             }
            },
            "type": "scatter3d"
           }
          ],
          "scattercarpet": [
           {
            "marker": {
             "colorbar": {
              "outlinewidth": 0,
              "ticks": ""
             }
            },
            "type": "scattercarpet"
           }
          ],
          "scattergeo": [
           {
            "marker": {
             "colorbar": {
              "outlinewidth": 0,
              "ticks": ""
             }
            },
            "type": "scattergeo"
           }
          ],
          "scattergl": [
           {
            "marker": {
             "colorbar": {
              "outlinewidth": 0,
              "ticks": ""
             }
            },
            "type": "scattergl"
           }
          ],
          "scattermap": [
           {
            "marker": {
             "colorbar": {
              "outlinewidth": 0,
              "ticks": ""
             }
            },
            "type": "scattermap"
           }
          ],
          "scattermapbox": [
           {
            "marker": {
             "colorbar": {
              "outlinewidth": 0,
              "ticks": ""
             }
            },
            "type": "scattermapbox"
           }
          ],
          "scatterpolar": [
           {
            "marker": {
             "colorbar": {
              "outlinewidth": 0,
              "ticks": ""
             }
            },
            "type": "scatterpolar"
           }
          ],
          "scatterpolargl": [
           {
            "marker": {
             "colorbar": {
              "outlinewidth": 0,
              "ticks": ""
             }
            },
            "type": "scatterpolargl"
           }
          ],
          "scatterternary": [
           {
            "marker": {
             "colorbar": {
              "outlinewidth": 0,
              "ticks": ""
             }
            },
            "type": "scatterternary"
           }
          ],
          "surface": [
           {
            "colorbar": {
             "outlinewidth": 0,
             "ticks": ""
            },
            "colorscale": [
             [
              0,
              "#0d0887"
             ],
             [
              0.1111111111111111,
              "#46039f"
             ],
             [
              0.2222222222222222,
              "#7201a8"
             ],
             [
              0.3333333333333333,
              "#9c179e"
             ],
             [
              0.4444444444444444,
              "#bd3786"
             ],
             [
              0.5555555555555556,
              "#d8576b"
             ],
             [
              0.6666666666666666,
              "#ed7953"
             ],
             [
              0.7777777777777778,
              "#fb9f3a"
             ],
             [
              0.8888888888888888,
              "#fdca26"
             ],
             [
              1,
              "#f0f921"
             ]
            ],
            "type": "surface"
           }
          ],
          "table": [
           {
            "cells": {
             "fill": {
              "color": "#EBF0F8"
             },
             "line": {
              "color": "white"
             }
            },
            "header": {
             "fill": {
              "color": "#C8D4E3"
             },
             "line": {
              "color": "white"
             }
            },
            "type": "table"
           }
          ]
         },
         "layout": {
          "annotationdefaults": {
           "arrowcolor": "#2a3f5f",
           "arrowhead": 0,
           "arrowwidth": 1
          },
          "autotypenumbers": "strict",
          "coloraxis": {
           "colorbar": {
            "outlinewidth": 0,
            "ticks": ""
           }
          },
          "colorscale": {
           "diverging": [
            [
             0,
             "#8e0152"
            ],
            [
             0.1,
             "#c51b7d"
            ],
            [
             0.2,
             "#de77ae"
            ],
            [
             0.3,
             "#f1b6da"
            ],
            [
             0.4,
             "#fde0ef"
            ],
            [
             0.5,
             "#f7f7f7"
            ],
            [
             0.6,
             "#e6f5d0"
            ],
            [
             0.7,
             "#b8e186"
            ],
            [
             0.8,
             "#7fbc41"
            ],
            [
             0.9,
             "#4d9221"
            ],
            [
             1,
             "#276419"
            ]
           ],
           "sequential": [
            [
             0,
             "#0d0887"
            ],
            [
             0.1111111111111111,
             "#46039f"
            ],
            [
             0.2222222222222222,
             "#7201a8"
            ],
            [
             0.3333333333333333,
             "#9c179e"
            ],
            [
             0.4444444444444444,
             "#bd3786"
            ],
            [
             0.5555555555555556,
             "#d8576b"
            ],
            [
             0.6666666666666666,
             "#ed7953"
            ],
            [
             0.7777777777777778,
             "#fb9f3a"
            ],
            [
             0.8888888888888888,
             "#fdca26"
            ],
            [
             1,
             "#f0f921"
            ]
           ],
           "sequentialminus": [
            [
             0,
             "#0d0887"
            ],
            [
             0.1111111111111111,
             "#46039f"
            ],
            [
             0.2222222222222222,
             "#7201a8"
            ],
            [
             0.3333333333333333,
             "#9c179e"
            ],
            [
             0.4444444444444444,
             "#bd3786"
            ],
            [
             0.5555555555555556,
             "#d8576b"
            ],
            [
             0.6666666666666666,
             "#ed7953"
            ],
            [
             0.7777777777777778,
             "#fb9f3a"
            ],
            [
             0.8888888888888888,
             "#fdca26"
            ],
            [
             1,
             "#f0f921"
            ]
           ]
          },
          "colorway": [
           "#636efa",
           "#EF553B",
           "#00cc96",
           "#ab63fa",
           "#FFA15A",
           "#19d3f3",
           "#FF6692",
           "#B6E880",
           "#FF97FF",
           "#FECB52"
          ],
          "font": {
           "color": "#2a3f5f"
          },
          "geo": {
           "bgcolor": "white",
           "lakecolor": "white",
           "landcolor": "white",
           "showlakes": true,
           "showland": true,
           "subunitcolor": "#C8D4E3"
          },
          "hoverlabel": {
           "align": "left"
          },
          "hovermode": "closest",
          "mapbox": {
           "style": "light"
          },
          "paper_bgcolor": "white",
          "plot_bgcolor": "white",
          "polar": {
           "angularaxis": {
            "gridcolor": "#EBF0F8",
            "linecolor": "#EBF0F8",
            "ticks": ""
           },
           "bgcolor": "white",
           "radialaxis": {
            "gridcolor": "#EBF0F8",
            "linecolor": "#EBF0F8",
            "ticks": ""
           }
          },
          "scene": {
           "xaxis": {
            "backgroundcolor": "white",
            "gridcolor": "#DFE8F3",
            "gridwidth": 2,
            "linecolor": "#EBF0F8",
            "showbackground": true,
            "ticks": "",
            "zerolinecolor": "#EBF0F8"
           },
           "yaxis": {
            "backgroundcolor": "white",
            "gridcolor": "#DFE8F3",
            "gridwidth": 2,
            "linecolor": "#EBF0F8",
            "showbackground": true,
            "ticks": "",
            "zerolinecolor": "#EBF0F8"
           },
           "zaxis": {
            "backgroundcolor": "white",
            "gridcolor": "#DFE8F3",
            "gridwidth": 2,
            "linecolor": "#EBF0F8",
            "showbackground": true,
            "ticks": "",
            "zerolinecolor": "#EBF0F8"
           }
          },
          "shapedefaults": {
           "line": {
            "color": "#2a3f5f"
           }
          },
          "ternary": {
           "aaxis": {
            "gridcolor": "#DFE8F3",
            "linecolor": "#A2B1C6",
            "ticks": ""
           },
           "baxis": {
            "gridcolor": "#DFE8F3",
            "linecolor": "#A2B1C6",
            "ticks": ""
           },
           "bgcolor": "white",
           "caxis": {
            "gridcolor": "#DFE8F3",
            "linecolor": "#A2B1C6",
            "ticks": ""
           }
          },
          "title": {
           "x": 0.05
          },
          "xaxis": {
           "automargin": true,
           "gridcolor": "#EBF0F8",
           "linecolor": "#EBF0F8",
           "ticks": "",
           "title": {
            "standoff": 15
           },
           "zerolinecolor": "#EBF0F8",
           "zerolinewidth": 2
          },
          "yaxis": {
           "automargin": true,
           "gridcolor": "#EBF0F8",
           "linecolor": "#EBF0F8",
           "ticks": "",
           "title": {
            "standoff": 15
           },
           "zerolinecolor": "#EBF0F8",
           "zerolinewidth": 2
          }
         }
        },
        "title": {
         "text": "Overtime Forecast - Inventory"
        },
        "xaxis": {
         "title": {
          "text": "Date"
         }
        },
        "yaxis": {
         "title": {
          "text": "Overtime Hours"
         }
        }
       }
      }
     },
     "metadata": {},
     "output_type": "display_data"
    },
    {
     "data": {
      "application/vnd.plotly.v1+json": {
       "config": {
        "plotlyServerURL": "https://plot.ly"
       },
       "data": [
        {
         "line": {
          "color": "blue"
         },
         "mode": "markers+lines",
         "name": "Historical",
         "type": "scatter",
         "x": [
          "2024-05-19T00:00:00.000000000",
          "2024-05-26T00:00:00.000000000",
          "2024-06-02T00:00:00.000000000",
          "2024-06-09T00:00:00.000000000",
          "2024-06-16T00:00:00.000000000",
          "2024-06-23T00:00:00.000000000",
          "2024-06-30T00:00:00.000000000",
          "2024-07-07T00:00:00.000000000",
          "2024-07-14T00:00:00.000000000",
          "2024-07-21T00:00:00.000000000",
          "2024-07-28T00:00:00.000000000",
          "2024-08-04T00:00:00.000000000",
          "2024-08-11T00:00:00.000000000",
          "2024-08-18T00:00:00.000000000",
          "2024-08-25T00:00:00.000000000",
          "2024-09-01T00:00:00.000000000",
          "2024-09-08T00:00:00.000000000",
          "2024-09-15T00:00:00.000000000",
          "2024-09-22T00:00:00.000000000",
          "2024-09-29T00:00:00.000000000",
          "2024-10-06T00:00:00.000000000",
          "2024-10-13T00:00:00.000000000",
          "2024-10-20T00:00:00.000000000",
          "2024-10-27T00:00:00.000000000",
          "2024-11-03T00:00:00.000000000",
          "2024-11-10T00:00:00.000000000",
          "2024-11-17T00:00:00.000000000",
          "2024-11-24T00:00:00.000000000",
          "2024-12-01T00:00:00.000000000",
          "2024-12-08T00:00:00.000000000",
          "2024-12-15T00:00:00.000000000",
          "2024-12-22T00:00:00.000000000",
          "2024-12-29T00:00:00.000000000",
          "2025-01-05T00:00:00.000000000",
          "2025-01-12T00:00:00.000000000",
          "2025-01-19T00:00:00.000000000",
          "2025-01-26T00:00:00.000000000",
          "2025-02-02T00:00:00.000000000",
          "2025-02-09T00:00:00.000000000",
          "2025-02-16T00:00:00.000000000",
          "2025-02-23T00:00:00.000000000",
          "2025-03-02T00:00:00.000000000",
          "2025-03-09T00:00:00.000000000",
          "2025-03-16T00:00:00.000000000",
          "2025-03-23T00:00:00.000000000",
          "2025-03-30T00:00:00.000000000",
          "2025-04-06T00:00:00.000000000",
          "2025-04-13T00:00:00.000000000",
          "2025-04-20T00:00:00.000000000",
          "2025-04-27T00:00:00.000000000",
          "2025-05-04T00:00:00.000000000",
          "2025-05-11T00:00:00.000000000",
          "2025-05-18T00:00:00.000000000",
          "2025-05-25T00:00:00.000000000"
         ],
         "y": {
          "bdata": "UrgehetRCEAfhetRuB4PQPYoXI/C9QpA9ihcj8L1FEDNzMzMzEwsQAAAAAAAAAAAAAAAAAAAAAAUrkfhehQbQFK4HoXrURNA4XoUrkfhI0CF61G4HoX/P6RwPQrXoxdAcT0K16NwH0BI4XoUrkcrQNejcD0KVyFA9ihcj8L1LUCF61G4HoUnQDMzMzMzMxhAXI/C9Shc8z8UrkfhehTyPwAAAAAAAPA/exSuR+F6F0CF61G4HoUPQAAAAAAAAAAAUrgehetREkA+CtejcD0pQIXrUbgehQ9AH4XrUbieIEApXI/C9agnQFyPwvUoXCBAuB6F61G4EUBSuB6F61EbQMzMzMzMzAxAFa5H4XoUCkAL16NwPQoLQOJ6FK5H4QRAzczMzMzMK0D2KFyPwvUXQOxRuB6F6xxAexSuR+F6F0DD9Shcj0ImQFyPwvUoXCpAmpmZmZmZEkCkcD0K16MfQHE9CtejcB1A9ihcj8L1+D8zMzMzMzMXQPYoXI/C9RBAmpmZmZmZMEDhehSuR+EYQB6F61G4HhdAZmZmZmZm8j9SuB6F61ERQAAAAAAAAAAA",
          "dtype": "f8"
         }
        },
        {
         "line": {
          "color": "red"
         },
         "mode": "lines",
         "name": "Forecast",
         "type": "scatter",
         "x": [
          "2024-05-19T00:00:00.000000000",
          "2024-05-26T00:00:00.000000000",
          "2024-06-02T00:00:00.000000000",
          "2024-06-09T00:00:00.000000000",
          "2024-06-16T00:00:00.000000000",
          "2024-06-23T00:00:00.000000000",
          "2024-06-30T00:00:00.000000000",
          "2024-07-07T00:00:00.000000000",
          "2024-07-14T00:00:00.000000000",
          "2024-07-21T00:00:00.000000000",
          "2024-07-28T00:00:00.000000000",
          "2024-08-04T00:00:00.000000000",
          "2024-08-11T00:00:00.000000000",
          "2024-08-18T00:00:00.000000000",
          "2024-08-25T00:00:00.000000000",
          "2024-09-01T00:00:00.000000000",
          "2024-09-08T00:00:00.000000000",
          "2024-09-15T00:00:00.000000000",
          "2024-09-22T00:00:00.000000000",
          "2024-09-29T00:00:00.000000000",
          "2024-10-06T00:00:00.000000000",
          "2024-10-13T00:00:00.000000000",
          "2024-10-20T00:00:00.000000000",
          "2024-10-27T00:00:00.000000000",
          "2024-11-03T00:00:00.000000000",
          "2024-11-10T00:00:00.000000000",
          "2024-11-17T00:00:00.000000000",
          "2024-11-24T00:00:00.000000000",
          "2024-12-01T00:00:00.000000000",
          "2024-12-08T00:00:00.000000000",
          "2024-12-15T00:00:00.000000000",
          "2024-12-22T00:00:00.000000000",
          "2024-12-29T00:00:00.000000000",
          "2025-01-05T00:00:00.000000000",
          "2025-01-12T00:00:00.000000000",
          "2025-01-19T00:00:00.000000000",
          "2025-01-26T00:00:00.000000000",
          "2025-02-02T00:00:00.000000000",
          "2025-02-09T00:00:00.000000000",
          "2025-02-16T00:00:00.000000000",
          "2025-02-23T00:00:00.000000000",
          "2025-03-02T00:00:00.000000000",
          "2025-03-09T00:00:00.000000000",
          "2025-03-16T00:00:00.000000000",
          "2025-03-23T00:00:00.000000000",
          "2025-03-30T00:00:00.000000000",
          "2025-04-06T00:00:00.000000000",
          "2025-04-13T00:00:00.000000000",
          "2025-04-20T00:00:00.000000000",
          "2025-04-27T00:00:00.000000000",
          "2025-05-04T00:00:00.000000000",
          "2025-05-11T00:00:00.000000000",
          "2025-05-18T00:00:00.000000000",
          "2025-05-25T00:00:00.000000000"
         ],
         "y": {
          "bdata": "uf0TRLkPDkBOry60gVD6PxFJp9yIAhRA2ObPB3cuIEDEiPVYSnQdQHOKHS+gXhBAtOcXEc3HAEAeyNozP8sKQBhJXPKXexhAZYpa3rRbHUA7KTAAft4YQJSlrLqGTBRASZWGiB9WGkDDNxhU0DMlQOomzPbGHixABZPfNp3mK0BJrIo8hU8kQBh5YMVLURVAoMKiuHc0AkB40AHG9yP7P9w4UgYpxQJAJLuE+BfzBkBMZJIwNdIIQCxatX5R2Q1Alv6iYP6GFEBUsIxRAo8bQHQ99bTLmyBA4s5lXxEOIkD8tQqd+yQiQEi3YeHX2yBAtChn2eIFHEDMs9UXyh8UQOgMmUfHlgpAaOMTOqIBB0Dg8tlzUx4QQDTrxcqpTBhAiFF6Ui4FH0CytXcBa5MgQGTWU40M9R9A+ClrNMSfH0Ci9nvx43AhQFCk+JcnxiNAjkQzloXTI0BA6YmhUjMfQLgv+vmP4BFAgJrdc2K/BEB8Y1wd24YRQFZxueG92iFAonJjb+OSJ0A41DFVlN8fQBhEKYZxtg3A0A9dqBHZMsBYWGlNXVY+wLAh31Uh70DA",
          "dtype": "f8"
         }
        },
        {
         "fill": "toself",
         "fillcolor": "rgba(0,100,80,0.2)",
         "line": {
          "color": "rgba(255,255,255,0)"
         },
         "name": "95% Confidence Interval",
         "type": "scatter",
         "x": [
          "2024-05-19T00:00:00",
          "2024-05-26T00:00:00",
          "2024-06-02T00:00:00",
          "2024-06-09T00:00:00",
          "2024-06-16T00:00:00",
          "2024-06-23T00:00:00",
          "2024-06-30T00:00:00",
          "2024-07-07T00:00:00",
          "2024-07-14T00:00:00",
          "2024-07-21T00:00:00",
          "2024-07-28T00:00:00",
          "2024-08-04T00:00:00",
          "2024-08-11T00:00:00",
          "2024-08-18T00:00:00",
          "2024-08-25T00:00:00",
          "2024-09-01T00:00:00",
          "2024-09-08T00:00:00",
          "2024-09-15T00:00:00",
          "2024-09-22T00:00:00",
          "2024-09-29T00:00:00",
          "2024-10-06T00:00:00",
          "2024-10-13T00:00:00",
          "2024-10-20T00:00:00",
          "2024-10-27T00:00:00",
          "2024-11-03T00:00:00",
          "2024-11-10T00:00:00",
          "2024-11-17T00:00:00",
          "2024-11-24T00:00:00",
          "2024-12-01T00:00:00",
          "2024-12-08T00:00:00",
          "2024-12-15T00:00:00",
          "2024-12-22T00:00:00",
          "2024-12-29T00:00:00",
          "2025-01-05T00:00:00",
          "2025-01-12T00:00:00",
          "2025-01-19T00:00:00",
          "2025-01-26T00:00:00",
          "2025-02-02T00:00:00",
          "2025-02-09T00:00:00",
          "2025-02-16T00:00:00",
          "2025-02-23T00:00:00",
          "2025-03-02T00:00:00",
          "2025-03-09T00:00:00",
          "2025-03-16T00:00:00",
          "2025-03-23T00:00:00",
          "2025-03-30T00:00:00",
          "2025-04-06T00:00:00",
          "2025-04-13T00:00:00",
          "2025-04-20T00:00:00",
          "2025-04-27T00:00:00",
          "2025-05-04T00:00:00",
          "2025-05-11T00:00:00",
          "2025-05-18T00:00:00",
          "2025-05-25T00:00:00",
          "2025-05-25T00:00:00",
          "2025-05-18T00:00:00",
          "2025-05-11T00:00:00",
          "2025-05-04T00:00:00",
          "2025-04-27T00:00:00",
          "2025-04-20T00:00:00",
          "2025-04-13T00:00:00",
          "2025-04-06T00:00:00",
          "2025-03-30T00:00:00",
          "2025-03-23T00:00:00",
          "2025-03-16T00:00:00",
          "2025-03-09T00:00:00",
          "2025-03-02T00:00:00",
          "2025-02-23T00:00:00",
          "2025-02-16T00:00:00",
          "2025-02-09T00:00:00",
          "2025-02-02T00:00:00",
          "2025-01-26T00:00:00",
          "2025-01-19T00:00:00",
          "2025-01-12T00:00:00",
          "2025-01-05T00:00:00",
          "2024-12-29T00:00:00",
          "2024-12-22T00:00:00",
          "2024-12-15T00:00:00",
          "2024-12-08T00:00:00",
          "2024-12-01T00:00:00",
          "2024-11-24T00:00:00",
          "2024-11-17T00:00:00",
          "2024-11-10T00:00:00",
          "2024-11-03T00:00:00",
          "2024-10-27T00:00:00",
          "2024-10-20T00:00:00",
          "2024-10-13T00:00:00",
          "2024-10-06T00:00:00",
          "2024-09-29T00:00:00",
          "2024-09-22T00:00:00",
          "2024-09-15T00:00:00",
          "2024-09-08T00:00:00",
          "2024-09-01T00:00:00",
          "2024-08-25T00:00:00",
          "2024-08-18T00:00:00",
          "2024-08-11T00:00:00",
          "2024-08-04T00:00:00",
          "2024-07-28T00:00:00",
          "2024-07-21T00:00:00",
          "2024-07-14T00:00:00",
          "2024-07-07T00:00:00",
          "2024-06-30T00:00:00",
          "2024-06-23T00:00:00",
          "2024-06-16T00:00:00",
          "2024-06-09T00:00:00",
          "2024-06-02T00:00:00",
          "2024-05-26T00:00:00",
          "2024-05-19T00:00:00"
         ],
         "y": [
          9.322875521446557,
          7.546042068827184,
          10.860663081082535,
          14.077946414209146,
          12.812609182203918,
          9.782727372875307,
          7.788605193290329,
          9.2336589735995,
          11.776117271333115,
          13.194532413555034,
          11.848294688814137,
          10.944790794211219,
          12.342768454758112,
          16.27936152891802,
          19.688503186245445,
          20.38296793713957,
          16.212939252521913,
          10.420231654259673,
          8.152353544975583,
          6.904561451582089,
          7.8982451977840435,
          8.429755794322343,
          9.518245403164523,
          8.967584811476307,
          10.411068727734232,
          13.029616855630003,
          14.374173498247636,
          14.736346968114242,
          14.887198832585414,
          14.113524850140351,
          12.4730744197261,
          10.8810646088583,
          9.430385849662999,
          8.648769299321012,
          10.151181146643898,
          11.821140470167188,
          13.300881031318463,
          14.834322160934349,
          14.200811591767977,
          13.751533607870275,
          14.332954366975457,
          15.724700327900345,
          15.501846667247952,
          13.587976396706486,
          10.272662129151735,
          8.030117894292044,
          9.973922603142618,
          14.381216281029648,
          17.376663147519398,
          13.640663211315756,
          2.0777041924679374,
          -12.996680809738677,
          -24.49121910485743,
          -28.32085819046847,
          -39.617397272163444,
          -36.07097240662236,
          -24.803827626649895,
          -9.443951658724133,
          2.077457582060312,
          5.7144661786828115,
          3.470819624654646,
          -1.8098105813269876,
          -2.9822637383004507,
          -1.4691970378903447,
          2.438075322085584,
          4.497860245534191,
          4.33775826597606,
          2.8076576017581907,
          1.9583562649531672,
          2.4682120645124455,
          2.8849816517976756,
          1.6505567351872523,
          0.2857543602369747,
          -1.9409371809322271,
          -2.523943901097896,
          -2.215714487852215,
          -0.893371095469986,
          1.178696673579035,
          2.5298729047160697,
          2.96008309326269,
          3.316918259153032,
          2.874997743433693,
          1.631098788125615,
          -0.6569321496681448,
          -1.792428435764022,
          -2.2904634027514152,
          -2.8930331352433045,
          -3.16601809251027,
          -3.8953289709472947,
          -3.2486069589775477,
          -0.3724300205402447,
          4.474099413553236,
          8.514864949204533,
          8.43300764182935,
          5.061021461583976,
          0.8159136665676682,
          -0.9726245387642305,
          0.5665830575297764,
          1.6508593615496785,
          0.23717770693776302,
          -1.8773588611147607,
          -3.695285053414805,
          -1.088065833871342,
          1.3186077618223488,
          2.812358993540282,
          -0.612185210043425,
          -3.905869034889094,
          -1.8957371980789797
         ]
        }
       ],
       "layout": {
        "hovermode": "x unified",
        "showlegend": true,
        "template": {
         "data": {
          "bar": [
           {
            "error_x": {
             "color": "#2a3f5f"
            },
            "error_y": {
             "color": "#2a3f5f"
            },
            "marker": {
             "line": {
              "color": "white",
              "width": 0.5
             },
             "pattern": {
              "fillmode": "overlay",
              "size": 10,
              "solidity": 0.2
             }
            },
            "type": "bar"
           }
          ],
          "barpolar": [
           {
            "marker": {
             "line": {
              "color": "white",
              "width": 0.5
             },
             "pattern": {
              "fillmode": "overlay",
              "size": 10,
              "solidity": 0.2
             }
            },
            "type": "barpolar"
           }
          ],
          "carpet": [
           {
            "aaxis": {
             "endlinecolor": "#2a3f5f",
             "gridcolor": "#C8D4E3",
             "linecolor": "#C8D4E3",
             "minorgridcolor": "#C8D4E3",
             "startlinecolor": "#2a3f5f"
            },
            "baxis": {
             "endlinecolor": "#2a3f5f",
             "gridcolor": "#C8D4E3",
             "linecolor": "#C8D4E3",
             "minorgridcolor": "#C8D4E3",
             "startlinecolor": "#2a3f5f"
            },
            "type": "carpet"
           }
          ],
          "choropleth": [
           {
            "colorbar": {
             "outlinewidth": 0,
             "ticks": ""
            },
            "type": "choropleth"
           }
          ],
          "contour": [
           {
            "colorbar": {
             "outlinewidth": 0,
             "ticks": ""
            },
            "colorscale": [
             [
              0,
              "#0d0887"
             ],
             [
              0.1111111111111111,
              "#46039f"
             ],
             [
              0.2222222222222222,
              "#7201a8"
             ],
             [
              0.3333333333333333,
              "#9c179e"
             ],
             [
              0.4444444444444444,
              "#bd3786"
             ],
             [
              0.5555555555555556,
              "#d8576b"
             ],
             [
              0.6666666666666666,
              "#ed7953"
             ],
             [
              0.7777777777777778,
              "#fb9f3a"
             ],
             [
              0.8888888888888888,
              "#fdca26"
             ],
             [
              1,
              "#f0f921"
             ]
            ],
            "type": "contour"
           }
          ],
          "contourcarpet": [
           {
            "colorbar": {
             "outlinewidth": 0,
             "ticks": ""
            },
            "type": "contourcarpet"
           }
          ],
          "heatmap": [
           {
            "colorbar": {
             "outlinewidth": 0,
             "ticks": ""
            },
            "colorscale": [
             [
              0,
              "#0d0887"
             ],
             [
              0.1111111111111111,
              "#46039f"
             ],
             [
              0.2222222222222222,
              "#7201a8"
             ],
             [
              0.3333333333333333,
              "#9c179e"
             ],
             [
              0.4444444444444444,
              "#bd3786"
             ],
             [
              0.5555555555555556,
              "#d8576b"
             ],
             [
              0.6666666666666666,
              "#ed7953"
             ],
             [
              0.7777777777777778,
              "#fb9f3a"
             ],
             [
              0.8888888888888888,
              "#fdca26"
             ],
             [
              1,
              "#f0f921"
             ]
            ],
            "type": "heatmap"
           }
          ],
          "histogram": [
           {
            "marker": {
             "pattern": {
              "fillmode": "overlay",
              "size": 10,
              "solidity": 0.2
             }
            },
            "type": "histogram"
           }
          ],
          "histogram2d": [
           {
            "colorbar": {
             "outlinewidth": 0,
             "ticks": ""
            },
            "colorscale": [
             [
              0,
              "#0d0887"
             ],
             [
              0.1111111111111111,
              "#46039f"
             ],
             [
              0.2222222222222222,
              "#7201a8"
             ],
             [
              0.3333333333333333,
              "#9c179e"
             ],
             [
              0.4444444444444444,
              "#bd3786"
             ],
             [
              0.5555555555555556,
              "#d8576b"
             ],
             [
              0.6666666666666666,
              "#ed7953"
             ],
             [
              0.7777777777777778,
              "#fb9f3a"
             ],
             [
              0.8888888888888888,
              "#fdca26"
             ],
             [
              1,
              "#f0f921"
             ]
            ],
            "type": "histogram2d"
           }
          ],
          "histogram2dcontour": [
           {
            "colorbar": {
             "outlinewidth": 0,
             "ticks": ""
            },
            "colorscale": [
             [
              0,
              "#0d0887"
             ],
             [
              0.1111111111111111,
              "#46039f"
             ],
             [
              0.2222222222222222,
              "#7201a8"
             ],
             [
              0.3333333333333333,
              "#9c179e"
             ],
             [
              0.4444444444444444,
              "#bd3786"
             ],
             [
              0.5555555555555556,
              "#d8576b"
             ],
             [
              0.6666666666666666,
              "#ed7953"
             ],
             [
              0.7777777777777778,
              "#fb9f3a"
             ],
             [
              0.8888888888888888,
              "#fdca26"
             ],
             [
              1,
              "#f0f921"
             ]
            ],
            "type": "histogram2dcontour"
           }
          ],
          "mesh3d": [
           {
            "colorbar": {
             "outlinewidth": 0,
             "ticks": ""
            },
            "type": "mesh3d"
           }
          ],
          "parcoords": [
           {
            "line": {
             "colorbar": {
              "outlinewidth": 0,
              "ticks": ""
             }
            },
            "type": "parcoords"
           }
          ],
          "pie": [
           {
            "automargin": true,
            "type": "pie"
           }
          ],
          "scatter": [
           {
            "fillpattern": {
             "fillmode": "overlay",
             "size": 10,
             "solidity": 0.2
            },
            "type": "scatter"
           }
          ],
          "scatter3d": [
           {
            "line": {
             "colorbar": {
              "outlinewidth": 0,
              "ticks": ""
             }
            },
            "marker": {
             "colorbar": {
              "outlinewidth": 0,
              "ticks": ""
             }
            },
            "type": "scatter3d"
           }
          ],
          "scattercarpet": [
           {
            "marker": {
             "colorbar": {
              "outlinewidth": 0,
              "ticks": ""
             }
            },
            "type": "scattercarpet"
           }
          ],
          "scattergeo": [
           {
            "marker": {
             "colorbar": {
              "outlinewidth": 0,
              "ticks": ""
             }
            },
            "type": "scattergeo"
           }
          ],
          "scattergl": [
           {
            "marker": {
             "colorbar": {
              "outlinewidth": 0,
              "ticks": ""
             }
            },
            "type": "scattergl"
           }
          ],
          "scattermap": [
           {
            "marker": {
             "colorbar": {
              "outlinewidth": 0,
              "ticks": ""
             }
            },
            "type": "scattermap"
           }
          ],
          "scattermapbox": [
           {
            "marker": {
             "colorbar": {
              "outlinewidth": 0,
              "ticks": ""
             }
            },
            "type": "scattermapbox"
           }
          ],
          "scatterpolar": [
           {
            "marker": {
             "colorbar": {
              "outlinewidth": 0,
              "ticks": ""
             }
            },
            "type": "scatterpolar"
           }
          ],
          "scatterpolargl": [
           {
            "marker": {
             "colorbar": {
              "outlinewidth": 0,
              "ticks": ""
             }
            },
            "type": "scatterpolargl"
           }
          ],
          "scatterternary": [
           {
            "marker": {
             "colorbar": {
              "outlinewidth": 0,
              "ticks": ""
             }
            },
            "type": "scatterternary"
           }
          ],
          "surface": [
           {
            "colorbar": {
             "outlinewidth": 0,
             "ticks": ""
            },
            "colorscale": [
             [
              0,
              "#0d0887"
             ],
             [
              0.1111111111111111,
              "#46039f"
             ],
             [
              0.2222222222222222,
              "#7201a8"
             ],
             [
              0.3333333333333333,
              "#9c179e"
             ],
             [
              0.4444444444444444,
              "#bd3786"
             ],
             [
              0.5555555555555556,
              "#d8576b"
             ],
             [
              0.6666666666666666,
              "#ed7953"
             ],
             [
              0.7777777777777778,
              "#fb9f3a"
             ],
             [
              0.8888888888888888,
              "#fdca26"
             ],
             [
              1,
              "#f0f921"
             ]
            ],
            "type": "surface"
           }
          ],
          "table": [
           {
            "cells": {
             "fill": {
              "color": "#EBF0F8"
             },
             "line": {
              "color": "white"
             }
            },
            "header": {
             "fill": {
              "color": "#C8D4E3"
             },
             "line": {
              "color": "white"
             }
            },
            "type": "table"
           }
          ]
         },
         "layout": {
          "annotationdefaults": {
           "arrowcolor": "#2a3f5f",
           "arrowhead": 0,
           "arrowwidth": 1
          },
          "autotypenumbers": "strict",
          "coloraxis": {
           "colorbar": {
            "outlinewidth": 0,
            "ticks": ""
           }
          },
          "colorscale": {
           "diverging": [
            [
             0,
             "#8e0152"
            ],
            [
             0.1,
             "#c51b7d"
            ],
            [
             0.2,
             "#de77ae"
            ],
            [
             0.3,
             "#f1b6da"
            ],
            [
             0.4,
             "#fde0ef"
            ],
            [
             0.5,
             "#f7f7f7"
            ],
            [
             0.6,
             "#e6f5d0"
            ],
            [
             0.7,
             "#b8e186"
            ],
            [
             0.8,
             "#7fbc41"
            ],
            [
             0.9,
             "#4d9221"
            ],
            [
             1,
             "#276419"
            ]
           ],
           "sequential": [
            [
             0,
             "#0d0887"
            ],
            [
             0.1111111111111111,
             "#46039f"
            ],
            [
             0.2222222222222222,
             "#7201a8"
            ],
            [
             0.3333333333333333,
             "#9c179e"
            ],
            [
             0.4444444444444444,
             "#bd3786"
            ],
            [
             0.5555555555555556,
             "#d8576b"
            ],
            [
             0.6666666666666666,
             "#ed7953"
            ],
            [
             0.7777777777777778,
             "#fb9f3a"
            ],
            [
             0.8888888888888888,
             "#fdca26"
            ],
            [
             1,
             "#f0f921"
            ]
           ],
           "sequentialminus": [
            [
             0,
             "#0d0887"
            ],
            [
             0.1111111111111111,
             "#46039f"
            ],
            [
             0.2222222222222222,
             "#7201a8"
            ],
            [
             0.3333333333333333,
             "#9c179e"
            ],
            [
             0.4444444444444444,
             "#bd3786"
            ],
            [
             0.5555555555555556,
             "#d8576b"
            ],
            [
             0.6666666666666666,
             "#ed7953"
            ],
            [
             0.7777777777777778,
             "#fb9f3a"
            ],
            [
             0.8888888888888888,
             "#fdca26"
            ],
            [
             1,
             "#f0f921"
            ]
           ]
          },
          "colorway": [
           "#636efa",
           "#EF553B",
           "#00cc96",
           "#ab63fa",
           "#FFA15A",
           "#19d3f3",
           "#FF6692",
           "#B6E880",
           "#FF97FF",
           "#FECB52"
          ],
          "font": {
           "color": "#2a3f5f"
          },
          "geo": {
           "bgcolor": "white",
           "lakecolor": "white",
           "landcolor": "white",
           "showlakes": true,
           "showland": true,
           "subunitcolor": "#C8D4E3"
          },
          "hoverlabel": {
           "align": "left"
          },
          "hovermode": "closest",
          "mapbox": {
           "style": "light"
          },
          "paper_bgcolor": "white",
          "plot_bgcolor": "white",
          "polar": {
           "angularaxis": {
            "gridcolor": "#EBF0F8",
            "linecolor": "#EBF0F8",
            "ticks": ""
           },
           "bgcolor": "white",
           "radialaxis": {
            "gridcolor": "#EBF0F8",
            "linecolor": "#EBF0F8",
            "ticks": ""
           }
          },
          "scene": {
           "xaxis": {
            "backgroundcolor": "white",
            "gridcolor": "#DFE8F3",
            "gridwidth": 2,
            "linecolor": "#EBF0F8",
            "showbackground": true,
            "ticks": "",
            "zerolinecolor": "#EBF0F8"
           },
           "yaxis": {
            "backgroundcolor": "white",
            "gridcolor": "#DFE8F3",
            "gridwidth": 2,
            "linecolor": "#EBF0F8",
            "showbackground": true,
            "ticks": "",
            "zerolinecolor": "#EBF0F8"
           },
           "zaxis": {
            "backgroundcolor": "white",
            "gridcolor": "#DFE8F3",
            "gridwidth": 2,
            "linecolor": "#EBF0F8",
            "showbackground": true,
            "ticks": "",
            "zerolinecolor": "#EBF0F8"
           }
          },
          "shapedefaults": {
           "line": {
            "color": "#2a3f5f"
           }
          },
          "ternary": {
           "aaxis": {
            "gridcolor": "#DFE8F3",
            "linecolor": "#A2B1C6",
            "ticks": ""
           },
           "baxis": {
            "gridcolor": "#DFE8F3",
            "linecolor": "#A2B1C6",
            "ticks": ""
           },
           "bgcolor": "white",
           "caxis": {
            "gridcolor": "#DFE8F3",
            "linecolor": "#A2B1C6",
            "ticks": ""
           }
          },
          "title": {
           "x": 0.05
          },
          "xaxis": {
           "automargin": true,
           "gridcolor": "#EBF0F8",
           "linecolor": "#EBF0F8",
           "ticks": "",
           "title": {
            "standoff": 15
           },
           "zerolinecolor": "#EBF0F8",
           "zerolinewidth": 2
          },
          "yaxis": {
           "automargin": true,
           "gridcolor": "#EBF0F8",
           "linecolor": "#EBF0F8",
           "ticks": "",
           "title": {
            "standoff": 15
           },
           "zerolinecolor": "#EBF0F8",
           "zerolinewidth": 2
          }
         }
        },
        "title": {
         "text": "Overtime Forecast - Marketing"
        },
        "xaxis": {
         "title": {
          "text": "Date"
         }
        },
        "yaxis": {
         "title": {
          "text": "Overtime Hours"
         }
        }
       }
      }
     },
     "metadata": {},
     "output_type": "display_data"
    },
    {
     "data": {
      "application/vnd.plotly.v1+json": {
       "config": {
        "plotlyServerURL": "https://plot.ly"
       },
       "data": [
        {
         "line": {
          "color": "blue"
         },
         "mode": "markers+lines",
         "name": "Historical",
         "type": "scatter",
         "x": [
          "2024-05-19T00:00:00.000000000",
          "2024-05-26T00:00:00.000000000",
          "2024-06-02T00:00:00.000000000",
          "2024-06-09T00:00:00.000000000",
          "2024-06-16T00:00:00.000000000",
          "2024-06-23T00:00:00.000000000",
          "2024-06-30T00:00:00.000000000",
          "2024-07-07T00:00:00.000000000",
          "2024-07-14T00:00:00.000000000",
          "2024-07-21T00:00:00.000000000",
          "2024-07-28T00:00:00.000000000",
          "2024-08-04T00:00:00.000000000",
          "2024-08-11T00:00:00.000000000",
          "2024-08-18T00:00:00.000000000",
          "2024-08-25T00:00:00.000000000",
          "2024-09-01T00:00:00.000000000",
          "2024-09-08T00:00:00.000000000",
          "2024-09-15T00:00:00.000000000",
          "2024-09-22T00:00:00.000000000",
          "2024-09-29T00:00:00.000000000",
          "2024-10-06T00:00:00.000000000",
          "2024-10-13T00:00:00.000000000",
          "2024-10-20T00:00:00.000000000",
          "2024-10-27T00:00:00.000000000",
          "2024-11-03T00:00:00.000000000",
          "2024-11-10T00:00:00.000000000",
          "2024-11-17T00:00:00.000000000",
          "2024-11-24T00:00:00.000000000",
          "2024-12-01T00:00:00.000000000",
          "2024-12-08T00:00:00.000000000",
          "2024-12-15T00:00:00.000000000",
          "2024-12-22T00:00:00.000000000",
          "2024-12-29T00:00:00.000000000",
          "2025-01-05T00:00:00.000000000",
          "2025-01-12T00:00:00.000000000",
          "2025-01-19T00:00:00.000000000",
          "2025-01-26T00:00:00.000000000",
          "2025-02-02T00:00:00.000000000",
          "2025-02-09T00:00:00.000000000",
          "2025-02-16T00:00:00.000000000",
          "2025-02-23T00:00:00.000000000",
          "2025-03-02T00:00:00.000000000",
          "2025-03-09T00:00:00.000000000",
          "2025-03-16T00:00:00.000000000",
          "2025-03-23T00:00:00.000000000",
          "2025-03-30T00:00:00.000000000",
          "2025-04-06T00:00:00.000000000",
          "2025-04-13T00:00:00.000000000",
          "2025-04-20T00:00:00.000000000",
          "2025-04-27T00:00:00.000000000",
          "2025-05-04T00:00:00.000000000",
          "2025-05-11T00:00:00.000000000",
          "2025-05-18T00:00:00.000000000",
          "2025-05-25T00:00:00.000000000"
         ],
         "y": {
          "bdata": "hetRuB6FA0AK16NwPQoUQAAAAAAAAAAAKVyPwvUoFECkcD0K16MRQML1KFyPwhlAhetRuB6FIEAK16NwPQoyQHE9Ctej8CxA4XoUrkfhIEAfhetRuJ4pQNejcD0KlzBAcT0K16PwIkBSuB6F61HgP5DC9ShcjwhAPQrXo3A9JEAAAAAAAAAAAIbrUbgehSRAR+F6FK5HEEB8FK5H4XocQNejcD0K1yFA4XoUrkfhDEDXo3A9CtcDQLgehetRuAhACtejcD0K9z+uR+F6FK4QQB6F61G4HiBAuB6F61G4HECamZmZmRkkQPYoXI/C9RRAFa5H4XoUGEApXI/C9aghQGZmZmZm5ihAFK5H4XoUBEAfhetRuB7VPzMzMzMzM+s/KVyPwvWoIUDMzMzMzMwXQD0K16NwPSBANDMzMzMzC0AAAAAAAAAcQGdmZmZmZhtAAQAAAAAACEDC9Shcj8INQFyPwvUoXBpA7FG4HoXr4T80MzMzMzMeQJqZmZmZmSxAUrgehevRKEBI4XoUrscgQK5H4XoULiRACtejcD0KBUAAAAAAAAAAAB+F61G4Hvk/",
          "dtype": "f8"
         }
        },
        {
         "line": {
          "color": "red"
         },
         "mode": "lines",
         "name": "Forecast",
         "type": "scatter",
         "x": [
          "2024-05-19T00:00:00.000000000",
          "2024-05-26T00:00:00.000000000",
          "2024-06-02T00:00:00.000000000",
          "2024-06-09T00:00:00.000000000",
          "2024-06-16T00:00:00.000000000",
          "2024-06-23T00:00:00.000000000",
          "2024-06-30T00:00:00.000000000",
          "2024-07-07T00:00:00.000000000",
          "2024-07-14T00:00:00.000000000",
          "2024-07-21T00:00:00.000000000",
          "2024-07-28T00:00:00.000000000",
          "2024-08-04T00:00:00.000000000",
          "2024-08-11T00:00:00.000000000",
          "2024-08-18T00:00:00.000000000",
          "2024-08-25T00:00:00.000000000",
          "2024-09-01T00:00:00.000000000",
          "2024-09-08T00:00:00.000000000",
          "2024-09-15T00:00:00.000000000",
          "2024-09-22T00:00:00.000000000",
          "2024-09-29T00:00:00.000000000",
          "2024-10-06T00:00:00.000000000",
          "2024-10-13T00:00:00.000000000",
          "2024-10-20T00:00:00.000000000",
          "2024-10-27T00:00:00.000000000",
          "2024-11-03T00:00:00.000000000",
          "2024-11-10T00:00:00.000000000",
          "2024-11-17T00:00:00.000000000",
          "2024-11-24T00:00:00.000000000",
          "2024-12-01T00:00:00.000000000",
          "2024-12-08T00:00:00.000000000",
          "2024-12-15T00:00:00.000000000",
          "2024-12-22T00:00:00.000000000",
          "2024-12-29T00:00:00.000000000",
          "2025-01-05T00:00:00.000000000",
          "2025-01-12T00:00:00.000000000",
          "2025-01-19T00:00:00.000000000",
          "2025-01-26T00:00:00.000000000",
          "2025-02-02T00:00:00.000000000",
          "2025-02-09T00:00:00.000000000",
          "2025-02-16T00:00:00.000000000",
          "2025-02-23T00:00:00.000000000",
          "2025-03-02T00:00:00.000000000",
          "2025-03-09T00:00:00.000000000",
          "2025-03-16T00:00:00.000000000",
          "2025-03-23T00:00:00.000000000",
          "2025-03-30T00:00:00.000000000",
          "2025-04-06T00:00:00.000000000",
          "2025-04-13T00:00:00.000000000",
          "2025-04-20T00:00:00.000000000",
          "2025-04-27T00:00:00.000000000",
          "2025-05-04T00:00:00.000000000",
          "2025-05-11T00:00:00.000000000",
          "2025-05-18T00:00:00.000000000",
          "2025-05-25T00:00:00.000000000"
         ],
         "y": {
          "bdata": "wa8K2Ig7BEBq0dTP5cAOQMfeFieGRAlAWGwlMZrRAUANO+uvF9UNQGnxNfaW3x5ApO4X2DUvJ0AJ+XKIeXwqQAQmIMUlXipAJMm0M1tHKkBgSgvqXqsqQGF+6ikKcyhAjbCv6vLiIUAUGq0WID4UQDa0A+SKXQlAhc18ilYoEEDtjB8GmLQXQIbP9aVyShtAPdPZ6JFuGkCkdZGRasYZQKpJK7OMQhpAeE/QWD0UF0D2cj6LLYYLQISLo4iCSvM/FH+lE96q+D+tN4ln79QSQGvef1Of/R9A4MoD00FPIUBw5MuBNEAcQJF1rd6bmhhAVaDX2+xPHkAq2uhiz+IiQN10IDlQJCFAqBmrLIDDEkCKHryPZAf0PxGUzhT2Dfo/6Yp1g1/XFECpuDFS4EUgQDSqTFgNHx9Atu9LBNcKFkDVW02dQvARQF6NM40G6BVAHycL75CEGEAuePd6diESQBzMWYeY5QJAAAalApnbCUDGHh09pQEgQAPS/THWzylALl2uX51aKkAk5SVC6WYgQJEjjNTEcwFAYGBgtmo+2r+Z2/8z0RPnP1wOJKiLawJA",
          "dtype": "f8"
         }
        },
        {
         "fill": "toself",
         "fillcolor": "rgba(0,100,80,0.2)",
         "line": {
          "color": "rgba(255,255,255,0)"
         },
         "name": "95% Confidence Interval",
         "type": "scatter",
         "x": [
          "2024-05-19T00:00:00",
          "2024-05-26T00:00:00",
          "2024-06-02T00:00:00",
          "2024-06-09T00:00:00",
          "2024-06-16T00:00:00",
          "2024-06-23T00:00:00",
          "2024-06-30T00:00:00",
          "2024-07-07T00:00:00",
          "2024-07-14T00:00:00",
          "2024-07-21T00:00:00",
          "2024-07-28T00:00:00",
          "2024-08-04T00:00:00",
          "2024-08-11T00:00:00",
          "2024-08-18T00:00:00",
          "2024-08-25T00:00:00",
          "2024-09-01T00:00:00",
          "2024-09-08T00:00:00",
          "2024-09-15T00:00:00",
          "2024-09-22T00:00:00",
          "2024-09-29T00:00:00",
          "2024-10-06T00:00:00",
          "2024-10-13T00:00:00",
          "2024-10-20T00:00:00",
          "2024-10-27T00:00:00",
          "2024-11-03T00:00:00",
          "2024-11-10T00:00:00",
          "2024-11-17T00:00:00",
          "2024-11-24T00:00:00",
          "2024-12-01T00:00:00",
          "2024-12-08T00:00:00",
          "2024-12-15T00:00:00",
          "2024-12-22T00:00:00",
          "2024-12-29T00:00:00",
          "2025-01-05T00:00:00",
          "2025-01-12T00:00:00",
          "2025-01-19T00:00:00",
          "2025-01-26T00:00:00",
          "2025-02-02T00:00:00",
          "2025-02-09T00:00:00",
          "2025-02-16T00:00:00",
          "2025-02-23T00:00:00",
          "2025-03-02T00:00:00",
          "2025-03-09T00:00:00",
          "2025-03-16T00:00:00",
          "2025-03-23T00:00:00",
          "2025-03-30T00:00:00",
          "2025-04-06T00:00:00",
          "2025-04-13T00:00:00",
          "2025-04-20T00:00:00",
          "2025-04-27T00:00:00",
          "2025-05-04T00:00:00",
          "2025-05-11T00:00:00",
          "2025-05-18T00:00:00",
          "2025-05-25T00:00:00",
          "2025-05-25T00:00:00",
          "2025-05-18T00:00:00",
          "2025-05-11T00:00:00",
          "2025-05-04T00:00:00",
          "2025-04-27T00:00:00",
          "2025-04-20T00:00:00",
          "2025-04-13T00:00:00",
          "2025-04-06T00:00:00",
          "2025-03-30T00:00:00",
          "2025-03-23T00:00:00",
          "2025-03-16T00:00:00",
          "2025-03-09T00:00:00",
          "2025-03-02T00:00:00",
          "2025-02-23T00:00:00",
          "2025-02-16T00:00:00",
          "2025-02-09T00:00:00",
          "2025-02-02T00:00:00",
          "2025-01-26T00:00:00",
          "2025-01-19T00:00:00",
          "2025-01-12T00:00:00",
          "2025-01-05T00:00:00",
          "2024-12-29T00:00:00",
          "2024-12-22T00:00:00",
          "2024-12-15T00:00:00",
          "2024-12-08T00:00:00",
          "2024-12-01T00:00:00",
          "2024-11-24T00:00:00",
          "2024-11-17T00:00:00",
          "2024-11-10T00:00:00",
          "2024-11-03T00:00:00",
          "2024-10-27T00:00:00",
          "2024-10-20T00:00:00",
          "2024-10-13T00:00:00",
          "2024-10-06T00:00:00",
          "2024-09-29T00:00:00",
          "2024-09-22T00:00:00",
          "2024-09-15T00:00:00",
          "2024-09-08T00:00:00",
          "2024-09-01T00:00:00",
          "2024-08-25T00:00:00",
          "2024-08-18T00:00:00",
          "2024-08-11T00:00:00",
          "2024-08-04T00:00:00",
          "2024-07-28T00:00:00",
          "2024-07-21T00:00:00",
          "2024-07-14T00:00:00",
          "2024-07-07T00:00:00",
          "2024-06-30T00:00:00",
          "2024-06-23T00:00:00",
          "2024-06-16T00:00:00",
          "2024-06-09T00:00:00",
          "2024-06-02T00:00:00",
          "2024-05-26T00:00:00",
          "2024-05-19T00:00:00"
         ],
         "y": [
          7.396476812994788,
          9.036880085230933,
          7.841062516523049,
          7.337697064592619,
          8.699628555618792,
          12.647352257511498,
          16.808286507108946,
          18.38840044959485,
          17.97375911869207,
          17.75482649018718,
          18.38406625783307,
          17.294889815036303,
          13.796727581325712,
          10.230766106200447,
          8.02096051876356,
          8.993861071447897,
          10.848456964964546,
          11.757430993333008,
          11.905021599179468,
          11.436947065496293,
          11.47562894919518,
          10.58951891724126,
          8.466001221761923,
          6.195194383155118,
          6.328280799237738,
          9.882689268554202,
          12.91469834274016,
          13.891847544721477,
          12.112789453389356,
          11.430224255147932,
          12.843624118095878,
          14.36788262325406,
          13.847909552197724,
          9.386055878746753,
          6.165645644386277,
          6.425232582174899,
          9.997199914751343,
          12.52775054461551,
          13.00219964364383,
          10.367163596605376,
          9.805419618297822,
          10.69889312496906,
          10.989062143437447,
          9.488479168305854,
          7.429390904348118,
          8.359923870594626,
          12.893729046373725,
          17.34091194412511,
          18.337346681960312,
          13.224089267397533,
          6.600639065824084,
          4.788358618875302,
          6.2159089229048305,
          7.471654709428493,
          -2.7486256071240804,
          -4.171982808100944,
          -5.282589680882435,
          -3.045897672104905,
          2.9910961752688565,
          8.118815801129955,
          8.27586916844125,
          2.8931587286332086,
          -1.7320112405324966,
          -2.8050478416869473,
          -0.49533001326906567,
          1.2493127022535269,
          0.465304320564097,
          -0.6013128706025912,
          0.4365785218117999,
          2.713054659714276,
          3.1066250888422227,
          0.05382504022525415,
          -3.3099375500137524,
          -3.394916992083286,
          -0.4528188349504704,
          3.9937615239678084,
          4.511980179329087,
          2.5303012715162683,
          0.9641970591802105,
          1.850634285547275,
          3.5709054567446294,
          2.87556554127246,
          -0.5493109404558433,
          -3.184070740460713,
          -4.096969437414849,
          -1.1193109075064462,
          0.5336826909065269,
          1.477810472137073,
          1.5325610793105444,
          1.460730451727476,
          1.7665820431119508,
          0.9045749310329531,
          -0.6216694476846529,
          -1.9862788244912342,
          0.31230257183014626,
          4.1136986622963585,
          7.200106688647292,
          8.428093964267477,
          8.253881442785278,
          7.81964689737102,
          8.459565721382154,
          6.592426302039998,
          2.5884629021597547,
          -1.456807250060452,
          -2.7875348212076996,
          -1.7478043466154525,
          -0.8685959264789582,
          -2.3654456884581845
         ]
        }
       ],
       "layout": {
        "hovermode": "x unified",
        "showlegend": true,
        "template": {
         "data": {
          "bar": [
           {
            "error_x": {
             "color": "#2a3f5f"
            },
            "error_y": {
             "color": "#2a3f5f"
            },
            "marker": {
             "line": {
              "color": "white",
              "width": 0.5
             },
             "pattern": {
              "fillmode": "overlay",
              "size": 10,
              "solidity": 0.2
             }
            },
            "type": "bar"
           }
          ],
          "barpolar": [
           {
            "marker": {
             "line": {
              "color": "white",
              "width": 0.5
             },
             "pattern": {
              "fillmode": "overlay",
              "size": 10,
              "solidity": 0.2
             }
            },
            "type": "barpolar"
           }
          ],
          "carpet": [
           {
            "aaxis": {
             "endlinecolor": "#2a3f5f",
             "gridcolor": "#C8D4E3",
             "linecolor": "#C8D4E3",
             "minorgridcolor": "#C8D4E3",
             "startlinecolor": "#2a3f5f"
            },
            "baxis": {
             "endlinecolor": "#2a3f5f",
             "gridcolor": "#C8D4E3",
             "linecolor": "#C8D4E3",
             "minorgridcolor": "#C8D4E3",
             "startlinecolor": "#2a3f5f"
            },
            "type": "carpet"
           }
          ],
          "choropleth": [
           {
            "colorbar": {
             "outlinewidth": 0,
             "ticks": ""
            },
            "type": "choropleth"
           }
          ],
          "contour": [
           {
            "colorbar": {
             "outlinewidth": 0,
             "ticks": ""
            },
            "colorscale": [
             [
              0,
              "#0d0887"
             ],
             [
              0.1111111111111111,
              "#46039f"
             ],
             [
              0.2222222222222222,
              "#7201a8"
             ],
             [
              0.3333333333333333,
              "#9c179e"
             ],
             [
              0.4444444444444444,
              "#bd3786"
             ],
             [
              0.5555555555555556,
              "#d8576b"
             ],
             [
              0.6666666666666666,
              "#ed7953"
             ],
             [
              0.7777777777777778,
              "#fb9f3a"
             ],
             [
              0.8888888888888888,
              "#fdca26"
             ],
             [
              1,
              "#f0f921"
             ]
            ],
            "type": "contour"
           }
          ],
          "contourcarpet": [
           {
            "colorbar": {
             "outlinewidth": 0,
             "ticks": ""
            },
            "type": "contourcarpet"
           }
          ],
          "heatmap": [
           {
            "colorbar": {
             "outlinewidth": 0,
             "ticks": ""
            },
            "colorscale": [
             [
              0,
              "#0d0887"
             ],
             [
              0.1111111111111111,
              "#46039f"
             ],
             [
              0.2222222222222222,
              "#7201a8"
             ],
             [
              0.3333333333333333,
              "#9c179e"
             ],
             [
              0.4444444444444444,
              "#bd3786"
             ],
             [
              0.5555555555555556,
              "#d8576b"
             ],
             [
              0.6666666666666666,
              "#ed7953"
             ],
             [
              0.7777777777777778,
              "#fb9f3a"
             ],
             [
              0.8888888888888888,
              "#fdca26"
             ],
             [
              1,
              "#f0f921"
             ]
            ],
            "type": "heatmap"
           }
          ],
          "histogram": [
           {
            "marker": {
             "pattern": {
              "fillmode": "overlay",
              "size": 10,
              "solidity": 0.2
             }
            },
            "type": "histogram"
           }
          ],
          "histogram2d": [
           {
            "colorbar": {
             "outlinewidth": 0,
             "ticks": ""
            },
            "colorscale": [
             [
              0,
              "#0d0887"
             ],
             [
              0.1111111111111111,
              "#46039f"
             ],
             [
              0.2222222222222222,
              "#7201a8"
             ],
             [
              0.3333333333333333,
              "#9c179e"
             ],
             [
              0.4444444444444444,
              "#bd3786"
             ],
             [
              0.5555555555555556,
              "#d8576b"
             ],
             [
              0.6666666666666666,
              "#ed7953"
             ],
             [
              0.7777777777777778,
              "#fb9f3a"
             ],
             [
              0.8888888888888888,
              "#fdca26"
             ],
             [
              1,
              "#f0f921"
             ]
            ],
            "type": "histogram2d"
           }
          ],
          "histogram2dcontour": [
           {
            "colorbar": {
             "outlinewidth": 0,
             "ticks": ""
            },
            "colorscale": [
             [
              0,
              "#0d0887"
             ],
             [
              0.1111111111111111,
              "#46039f"
             ],
             [
              0.2222222222222222,
              "#7201a8"
             ],
             [
              0.3333333333333333,
              "#9c179e"
             ],
             [
              0.4444444444444444,
              "#bd3786"
             ],
             [
              0.5555555555555556,
              "#d8576b"
             ],
             [
              0.6666666666666666,
              "#ed7953"
             ],
             [
              0.7777777777777778,
              "#fb9f3a"
             ],
             [
              0.8888888888888888,
              "#fdca26"
             ],
             [
              1,
              "#f0f921"
             ]
            ],
            "type": "histogram2dcontour"
           }
          ],
          "mesh3d": [
           {
            "colorbar": {
             "outlinewidth": 0,
             "ticks": ""
            },
            "type": "mesh3d"
           }
          ],
          "parcoords": [
           {
            "line": {
             "colorbar": {
              "outlinewidth": 0,
              "ticks": ""
             }
            },
            "type": "parcoords"
           }
          ],
          "pie": [
           {
            "automargin": true,
            "type": "pie"
           }
          ],
          "scatter": [
           {
            "fillpattern": {
             "fillmode": "overlay",
             "size": 10,
             "solidity": 0.2
            },
            "type": "scatter"
           }
          ],
          "scatter3d": [
           {
            "line": {
             "colorbar": {
              "outlinewidth": 0,
              "ticks": ""
             }
            },
            "marker": {
             "colorbar": {
              "outlinewidth": 0,
              "ticks": ""
             }
            },
            "type": "scatter3d"
           }
          ],
          "scattercarpet": [
           {
            "marker": {
             "colorbar": {
              "outlinewidth": 0,
              "ticks": ""
             }
            },
            "type": "scattercarpet"
           }
          ],
          "scattergeo": [
           {
            "marker": {
             "colorbar": {
              "outlinewidth": 0,
              "ticks": ""
             }
            },
            "type": "scattergeo"
           }
          ],
          "scattergl": [
           {
            "marker": {
             "colorbar": {
              "outlinewidth": 0,
              "ticks": ""
             }
            },
            "type": "scattergl"
           }
          ],
          "scattermap": [
           {
            "marker": {
             "colorbar": {
              "outlinewidth": 0,
              "ticks": ""
             }
            },
            "type": "scattermap"
           }
          ],
          "scattermapbox": [
           {
            "marker": {
             "colorbar": {
              "outlinewidth": 0,
              "ticks": ""
             }
            },
            "type": "scattermapbox"
           }
          ],
          "scatterpolar": [
           {
            "marker": {
             "colorbar": {
              "outlinewidth": 0,
              "ticks": ""
             }
            },
            "type": "scatterpolar"
           }
          ],
          "scatterpolargl": [
           {
            "marker": {
             "colorbar": {
              "outlinewidth": 0,
              "ticks": ""
             }
            },
            "type": "scatterpolargl"
           }
          ],
          "scatterternary": [
           {
            "marker": {
             "colorbar": {
              "outlinewidth": 0,
              "ticks": ""
             }
            },
            "type": "scatterternary"
           }
          ],
          "surface": [
           {
            "colorbar": {
             "outlinewidth": 0,
             "ticks": ""
            },
            "colorscale": [
             [
              0,
              "#0d0887"
             ],
             [
              0.1111111111111111,
              "#46039f"
             ],
             [
              0.2222222222222222,
              "#7201a8"
             ],
             [
              0.3333333333333333,
              "#9c179e"
             ],
             [
              0.4444444444444444,
              "#bd3786"
             ],
             [
              0.5555555555555556,
              "#d8576b"
             ],
             [
              0.6666666666666666,
              "#ed7953"
             ],
             [
              0.7777777777777778,
              "#fb9f3a"
             ],
             [
              0.8888888888888888,
              "#fdca26"
             ],
             [
              1,
              "#f0f921"
             ]
            ],
            "type": "surface"
           }
          ],
          "table": [
           {
            "cells": {
             "fill": {
              "color": "#EBF0F8"
             },
             "line": {
              "color": "white"
             }
            },
            "header": {
             "fill": {
              "color": "#C8D4E3"
             },
             "line": {
              "color": "white"
             }
            },
            "type": "table"
           }
          ]
         },
         "layout": {
          "annotationdefaults": {
           "arrowcolor": "#2a3f5f",
           "arrowhead": 0,
           "arrowwidth": 1
          },
          "autotypenumbers": "strict",
          "coloraxis": {
           "colorbar": {
            "outlinewidth": 0,
            "ticks": ""
           }
          },
          "colorscale": {
           "diverging": [
            [
             0,
             "#8e0152"
            ],
            [
             0.1,
             "#c51b7d"
            ],
            [
             0.2,
             "#de77ae"
            ],
            [
             0.3,
             "#f1b6da"
            ],
            [
             0.4,
             "#fde0ef"
            ],
            [
             0.5,
             "#f7f7f7"
            ],
            [
             0.6,
             "#e6f5d0"
            ],
            [
             0.7,
             "#b8e186"
            ],
            [
             0.8,
             "#7fbc41"
            ],
            [
             0.9,
             "#4d9221"
            ],
            [
             1,
             "#276419"
            ]
           ],
           "sequential": [
            [
             0,
             "#0d0887"
            ],
            [
             0.1111111111111111,
             "#46039f"
            ],
            [
             0.2222222222222222,
             "#7201a8"
            ],
            [
             0.3333333333333333,
             "#9c179e"
            ],
            [
             0.4444444444444444,
             "#bd3786"
            ],
            [
             0.5555555555555556,
             "#d8576b"
            ],
            [
             0.6666666666666666,
             "#ed7953"
            ],
            [
             0.7777777777777778,
             "#fb9f3a"
            ],
            [
             0.8888888888888888,
             "#fdca26"
            ],
            [
             1,
             "#f0f921"
            ]
           ],
           "sequentialminus": [
            [
             0,
             "#0d0887"
            ],
            [
             0.1111111111111111,
             "#46039f"
            ],
            [
             0.2222222222222222,
             "#7201a8"
            ],
            [
             0.3333333333333333,
             "#9c179e"
            ],
            [
             0.4444444444444444,
             "#bd3786"
            ],
            [
             0.5555555555555556,
             "#d8576b"
            ],
            [
             0.6666666666666666,
             "#ed7953"
            ],
            [
             0.7777777777777778,
             "#fb9f3a"
            ],
            [
             0.8888888888888888,
             "#fdca26"
            ],
            [
             1,
             "#f0f921"
            ]
           ]
          },
          "colorway": [
           "#636efa",
           "#EF553B",
           "#00cc96",
           "#ab63fa",
           "#FFA15A",
           "#19d3f3",
           "#FF6692",
           "#B6E880",
           "#FF97FF",
           "#FECB52"
          ],
          "font": {
           "color": "#2a3f5f"
          },
          "geo": {
           "bgcolor": "white",
           "lakecolor": "white",
           "landcolor": "white",
           "showlakes": true,
           "showland": true,
           "subunitcolor": "#C8D4E3"
          },
          "hoverlabel": {
           "align": "left"
          },
          "hovermode": "closest",
          "mapbox": {
           "style": "light"
          },
          "paper_bgcolor": "white",
          "plot_bgcolor": "white",
          "polar": {
           "angularaxis": {
            "gridcolor": "#EBF0F8",
            "linecolor": "#EBF0F8",
            "ticks": ""
           },
           "bgcolor": "white",
           "radialaxis": {
            "gridcolor": "#EBF0F8",
            "linecolor": "#EBF0F8",
            "ticks": ""
           }
          },
          "scene": {
           "xaxis": {
            "backgroundcolor": "white",
            "gridcolor": "#DFE8F3",
            "gridwidth": 2,
            "linecolor": "#EBF0F8",
            "showbackground": true,
            "ticks": "",
            "zerolinecolor": "#EBF0F8"
           },
           "yaxis": {
            "backgroundcolor": "white",
            "gridcolor": "#DFE8F3",
            "gridwidth": 2,
            "linecolor": "#EBF0F8",
            "showbackground": true,
            "ticks": "",
            "zerolinecolor": "#EBF0F8"
           },
           "zaxis": {
            "backgroundcolor": "white",
            "gridcolor": "#DFE8F3",
            "gridwidth": 2,
            "linecolor": "#EBF0F8",
            "showbackground": true,
            "ticks": "",
            "zerolinecolor": "#EBF0F8"
           }
          },
          "shapedefaults": {
           "line": {
            "color": "#2a3f5f"
           }
          },
          "ternary": {
           "aaxis": {
            "gridcolor": "#DFE8F3",
            "linecolor": "#A2B1C6",
            "ticks": ""
           },
           "baxis": {
            "gridcolor": "#DFE8F3",
            "linecolor": "#A2B1C6",
            "ticks": ""
           },
           "bgcolor": "white",
           "caxis": {
            "gridcolor": "#DFE8F3",
            "linecolor": "#A2B1C6",
            "ticks": ""
           }
          },
          "title": {
           "x": 0.05
          },
          "xaxis": {
           "automargin": true,
           "gridcolor": "#EBF0F8",
           "linecolor": "#EBF0F8",
           "ticks": "",
           "title": {
            "standoff": 15
           },
           "zerolinecolor": "#EBF0F8",
           "zerolinewidth": 2
          },
          "yaxis": {
           "automargin": true,
           "gridcolor": "#EBF0F8",
           "linecolor": "#EBF0F8",
           "ticks": "",
           "title": {
            "standoff": 15
           },
           "zerolinecolor": "#EBF0F8",
           "zerolinewidth": 2
          }
         }
        },
        "title": {
         "text": "Overtime Forecast - Sales"
        },
        "xaxis": {
         "title": {
          "text": "Date"
         }
        },
        "yaxis": {
         "title": {
          "text": "Overtime Hours"
         }
        }
       }
      }
     },
     "metadata": {},
     "output_type": "display_data"
    }
   ],
   "source": [
    "def plot_forecast(department, historical_data, forecast):\n",
    "    \"\"\"Create interactive plot for a department's forecast\"\"\"\n",
    "    \n",
    "    # Filter historical data for department\n",
    "    hist_dept = historical_data[historical_data['department'] == department]\n",
    "    \n",
    "    # Create figure with secondary y-axis\n",
    "    fig = go.Figure()\n",
    "    \n",
    "    # Add historical data\n",
    "    fig.add_trace(\n",
    "        go.Scatter(\n",
    "            x=hist_dept['work_date'],\n",
    "            y=hist_dept['total_overtime'],\n",
    "            name='Historical',\n",
    "            mode='markers+lines',\n",
    "            line=dict(color='blue')\n",
    "        )\n",
    "    )\n",
    "    \n",
    "    # Add forecast\n",
    "    fig.add_trace(\n",
    "        go.Scatter(\n",
    "            x=forecast['ds'],\n",
    "            y=forecast['yhat'],\n",
    "            name='Forecast',\n",
    "            mode='lines',\n",
    "            line=dict(color='red')\n",
    "        )\n",
    "    )\n",
    "    \n",
    "    # Add confidence interval\n",
    "    fig.add_trace(\n",
    "        go.Scatter(\n",
    "            x=forecast['ds'].tolist() + forecast['ds'].tolist()[::-1],\n",
    "            y=forecast['yhat_upper'].tolist() + forecast['yhat_lower'].tolist()[::-1],\n",
    "            fill='toself',\n",
    "            fillcolor='rgba(0,100,80,0.2)',\n",
    "            line=dict(color='rgba(255,255,255,0)'),\n",
    "            name='95% Confidence Interval'\n",
    "        )\n",
    "    )\n",
    "    \n",
    "    # Update layout\n",
    "    fig.update_layout(\n",
    "        title=f'Overtime Forecast - {department}',\n",
    "        xaxis_title='Date',\n",
    "        yaxis_title='Overtime Hours',\n",
    "        hovermode='x unified',\n",
    "        showlegend=True,\n",
    "        template='plotly_white'\n",
    "    )\n",
    "    \n",
    "    return fig\n",
    "\n",
    "# Create and display plots for each department\n",
    "for department in department_models.keys():\n",
    "    fig = plot_forecast(\n",
    "        department,\n",
    "        historical_data,\n",
    "        department_forecasts[department]\n",
    "    )\n",
    "    fig.show()"
   ]
  },
  {
   "cell_type": "markdown",
   "id": "77f4bf61",
   "metadata": {},
   "source": [
    "## 7. Save Model and Predictions\n",
    "\n",
    "Store trained models and predictions in the database."
   ]
  },
  {
   "cell_type": "code",
   "execution_count": null,
   "id": "86b9d9bb",
   "metadata": {},
   "outputs": [],
   "source": [
    "def save_predictions():\n",
    "    conn = get_db_connection()\n",
    "    cursor = conn.cursor()\n",
    "    \n",
    "    try:\n",
    "        # Save predictions for each department\n",
    "        for department, forecast in department_forecasts.items():\n",
    "            # Get future predictions only\n",
    "            future_predictions = forecast[forecast['ds'] > datetime.datetime.now()]\n",
    "            \n",
    "            for _, row in future_predictions.iterrows():\n",
    "                cursor.execute(\n",
    "                    \"\"\"\n",
    "                    INSERT INTO Overtime_Predictions \n",
    "                    (department, prediction_date, predicted_overtime)\n",
    "                    VALUES (%s, %s, %s)\n",
    "                    \"\"\",\n",
    "                    (department, row['ds'], row['yhat'])\n",
    "                )\n",
    "        \n",
    "        # Save model metrics\n",
    "        for department, metric in metrics.items():\n",
    "            cursor.execute(\n",
    "                \"\"\"\n",
    "                INSERT INTO ML_Model_Accuracy \n",
    "                (model_name, run_date, accuracy, precision, recall, f1_score)\n",
    "                VALUES (%s, %s, %s, %s, %s, %s)\n",
    "                \"\"\",\n",
    "                (f'Overtime_Forecast_{department}', \n",
    "                 datetime.datetime.now(),\n",
    "                 1 - metric['rmse']/100,  # Proxy accuracy\n",
    "                 0, 0, 0)\n",
    "            )\n",
    "        \n",
    "        conn.commit()\n",
    "        logging.info(\"Successfully saved predictions and metrics\")\n",
    "        \n",
    "    except Exception as e:\n",
    "        conn.rollback()\n",
    "        logging.error(f\"Error saving predictions: {e}\")\n",
    "        raise\n",
    "    finally:\n",
    "        conn.close()\n",
    "\n",
    "# Save models and predictions\n",
    "save_predictions()\n",
    "print(\"Models and predictions saved successfully\")"
   ]
  }
 ],
 "metadata": {
  "kernelspec": {
   "display_name": "Python 3",
   "language": "python",
   "name": "python3"
  },
  "language_info": {
   "codemirror_mode": {
    "name": "ipython",
    "version": 3
   },
   "file_extension": ".py",
   "mimetype": "text/x-python",
   "name": "python",
   "nbconvert_exporter": "python",
   "pygments_lexer": "ipython3",
   "version": "3.10.11"
  }
 },
 "nbformat": 4,
 "nbformat_minor": 5
}
