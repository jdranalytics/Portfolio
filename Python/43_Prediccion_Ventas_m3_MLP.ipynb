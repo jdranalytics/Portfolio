{
 "cells": [
  {
   "cell_type": "markdown",
   "id": "9828c733",
   "metadata": {},
   "source": [
    "# Predicción de Cantidades Vendidas por Región y Categoría con Red Neuronal (MLP)\n",
    "\n",
    "Este notebook realiza la predicción de cantidades vendidas por región y categoría utilizando una red neuronal (MLP), replicando la lógica de los modelos y vistas implementados en Snowflake. El flujo sigue los siguientes pasos:\n",
    "\n",
    "- **Carga de datos** desde las vistas `VW_VENTAS_HISTORICO_M3` (histórico), `VW_VENTAS_FCST_FEATURES_1` (escenario 1) y `VW_VENTAS_FCST_FEATURES_2` (escenario 2) en Snowflake.\n",
    "- **Preprocesamiento**: Manejo de valores nulos, codificación de variables categóricas, creación de características temporales y escalado de datos para los tres datasets.\n",
    "- **Selección de características**: Uso de Recursive Feature Elimination (RFE) para identificar las características más importantes.\n",
    "- **Entrenamiento del modelo**: Optimización de hiperparámetros mediante GridSearchCV sobre el histórico.\n",
    "- **Predicciones**: Generación de predicciones para los dos escenarios de forecast, con intervalos de confianza del 95% por región y categoría.\n",
    "- **Métricas**: Cálculo de RMSE, MAE, SMAPE y R² para entrenamiento, prueba y validación.\n",
    "- **Almacenamiento**: Guardado de predicciones en la tabla `FORECAST_M3_MLP` y métricas en Snowflake.\n",
    "- **Visualización**: Gráficas interactivas con Plotly mostrando el histórico y ambos escenarios de pronóstico por región y categoría.\n",
    "\n",
    "**Objetivo**: Generar pronósticos de cantidades vendidas de producto en metros cúbicos por región y categoría, considerando variables temporales y otras características relevantes como precios, descuentos y márgenes de ganancia, bajo la misma óptica de los modelos Snowflake pero usando MLP."
   ]
  },
  {
   "cell_type": "markdown",
   "id": "13bf7879",
   "metadata": {},
   "source": [
    "## 1. Importar Librerías y Configuración\n",
    "\n",
    "Importamos las librerías necesarias y configuramos el logging para trazabilidad."
   ]
  },
  {
   "cell_type": "code",
   "execution_count": 3,
   "id": "6bc31307",
   "metadata": {},
   "outputs": [
    {
     "name": "stderr",
     "output_type": "stream",
     "text": [
      "c:\\Users\\joey_\\AppData\\Local\\Programs\\Python\\Python310\\lib\\site-packages\\snowflake\\connector\\options.py:104: UserWarning: You have an incompatible version of 'pyarrow' installed (19.0.1), please install a version that adheres to: 'pyarrow<19.0.0; extra == \"pandas\"'\n",
      "  warn_incompatible_dep(\n"
     ]
    }
   ],
   "source": [
    "import pandas as pd\n",
    "import numpy as np\n",
    "import snowflake.connector\n",
    "import logging\n",
    "from datetime import datetime\n",
    "import os\n",
    "from sklearn.model_selection import train_test_split, GridSearchCV, TimeSeriesSplit\n",
    "from sklearn.preprocessing import StandardScaler, LabelEncoder, MinMaxScaler\n",
    "from sklearn.feature_selection import RFE\n",
    "from sklearn.metrics import mean_squared_error, mean_absolute_error, r2_score\n",
    "from sklearn.neural_network import MLPRegressor\n",
    "import joblib\n",
    "import plotly.express as px\n",
    "import plotly.graph_objects as go\n",
    "from plotly.subplots import make_subplots\n",
    "from tqdm import tqdm\n",
    "import matplotlib.pyplot as plt\n",
    "import warnings\n",
    "\n",
    "# Configurar advertencias y logging\n",
    "warnings.filterwarnings(\"ignore\")\n",
    "logging.basicConfig(\n",
    "    level=logging.INFO,\n",
    "    format='%(asctime)s - %(levelname)s - %(message)s',\n",
    "    handlers=[\n",
    "        logging.StreamHandler()\n",
    "    ]\n",
    ")\n"
   ]
  },
  {
   "cell_type": "markdown",
   "id": "5e8470e1",
   "metadata": {},
   "source": [
    "## 2. Carga de Datos desde Snowflake\n",
    "\n",
    "Cargamos los datos históricos y los dos escenarios de forecast desde las vistas generadas en Snowflake:\n",
    "- `VW_VENTAS_HISTORICO_M3` (histórico)\n",
    "- `VW_VENTAS_FCST_FEATURES_1` (escenario 1: precio promedio y descuento promedio)\n",
    "- `VW_VENTAS_FCST_FEATURES_2` (escenario 2: último precio con 20% incremento y descuento promedio)\n",
    "\n",
    "Esto permite replicar el flujo de predicción de Snowflake en Python con MLP."
   ]
  },
  {
   "cell_type": "code",
   "execution_count": null,
   "id": "c95ef679",
   "metadata": {},
   "outputs": [
    {
     "name": "stderr",
     "output_type": "stream",
     "text": [
      "2025-06-28 15:29:43,279 - INFO - Snowflake Connector for Python Version: 3.15.0, Python Version: 3.10.11, Platform: Windows-10-10.0.19045-SP0\n",
      "2025-06-28 15:29:43,281 - INFO - Connecting to GLOBAL Snowflake domain\n",
      "2025-06-28 15:29:47,078 - INFO - Conexión a Snowflake exitosa\n",
      "2025-06-28 15:29:58,228 - INFO - Histórico: 3984 registros, Escenario 1: 1680, Escenario 2: 1680\n"
     ]
    },
    {
     "name": "stdout",
     "output_type": "stream",
     "text": [
      "Histórico: (3984, 6), Escenario 1: (1680, 5), Escenario 2: (1680, 5)\n"
     ]
    },
    {
     "data": {
      "application/vnd.microsoft.datawrangler.viewer.v0+json": {
       "columns": [
        {
         "name": "index",
         "rawType": "int64",
         "type": "integer"
        },
        {
         "name": "MES",
         "rawType": "object",
         "type": "unknown"
        },
        {
         "name": "REGION_CATEGORIA_PRODUCTO",
         "rawType": "object",
         "type": "string"
        },
        {
         "name": "M3_VENDIDOS",
         "rawType": "float64",
         "type": "float"
        },
        {
         "name": "AVG_PRECIO_LISTA",
         "rawType": "float64",
         "type": "float"
        },
        {
         "name": "AVG_DESC_PORCENTAJE",
         "rawType": "float64",
         "type": "float"
        },
        {
         "name": "ORIGEN",
         "rawType": "object",
         "type": "string"
        }
       ],
       "ref": "16b1e3b0-7f53-4e00-9282-67f72ffb9d89",
       "rows": [
        [
         "0",
         "2023-01-01",
         "Antioquia-Bebida de Té-Té Negro 500mL x 6uds",
         "1.575",
         "168000.0",
         "3.6304761905",
         "Histórico"
        ],
        [
         "1",
         "2023-01-01",
         "Antioquia-Gaseosa-Uva 600mL x 24uds",
         "5.2704",
         "50400.0",
         "6.0901639344",
         "Histórico"
        ],
        [
         "2",
         "2023-01-01",
         "Antioquia-Jugo-Jugo Naranja 2000mL x 24uds",
         "21.792",
         "1800.0",
         "4.5220264317",
         "Histórico"
        ],
        [
         "3",
         "2023-01-01",
         "Antioquia-Agua-Agua Sin Gas 1L x 1uds",
         "0.485",
         "2500.0",
         "4.6288659794",
         "Histórico"
        ],
        [
         "4",
         "2023-01-01",
         "Antioquia-Jugo-Jugo Lima 2000mL x 12uds",
         "9.576",
         "96000.0",
         "3.6090225564",
         "Histórico"
        ]
       ],
       "shape": {
        "columns": 6,
        "rows": 5
       }
      },
      "text/html": [
       "<div>\n",
       "<style scoped>\n",
       "    .dataframe tbody tr th:only-of-type {\n",
       "        vertical-align: middle;\n",
       "    }\n",
       "\n",
       "    .dataframe tbody tr th {\n",
       "        vertical-align: top;\n",
       "    }\n",
       "\n",
       "    .dataframe thead th {\n",
       "        text-align: right;\n",
       "    }\n",
       "</style>\n",
       "<table border=\"1\" class=\"dataframe\">\n",
       "  <thead>\n",
       "    <tr style=\"text-align: right;\">\n",
       "      <th></th>\n",
       "      <th>MES</th>\n",
       "      <th>REGION_CATEGORIA_PRODUCTO</th>\n",
       "      <th>M3_VENDIDOS</th>\n",
       "      <th>AVG_PRECIO_LISTA</th>\n",
       "      <th>AVG_DESC_PORCENTAJE</th>\n",
       "      <th>ORIGEN</th>\n",
       "    </tr>\n",
       "  </thead>\n",
       "  <tbody>\n",
       "    <tr>\n",
       "      <th>0</th>\n",
       "      <td>2023-01-01</td>\n",
       "      <td>Antioquia-Bebida de Té-Té Negro 500mL x 6uds</td>\n",
       "      <td>1.5750</td>\n",
       "      <td>168000.0</td>\n",
       "      <td>3.630476</td>\n",
       "      <td>Histórico</td>\n",
       "    </tr>\n",
       "    <tr>\n",
       "      <th>1</th>\n",
       "      <td>2023-01-01</td>\n",
       "      <td>Antioquia-Gaseosa-Uva 600mL x 24uds</td>\n",
       "      <td>5.2704</td>\n",
       "      <td>50400.0</td>\n",
       "      <td>6.090164</td>\n",
       "      <td>Histórico</td>\n",
       "    </tr>\n",
       "    <tr>\n",
       "      <th>2</th>\n",
       "      <td>2023-01-01</td>\n",
       "      <td>Antioquia-Jugo-Jugo Naranja 2000mL x 24uds</td>\n",
       "      <td>21.7920</td>\n",
       "      <td>1800.0</td>\n",
       "      <td>4.522026</td>\n",
       "      <td>Histórico</td>\n",
       "    </tr>\n",
       "    <tr>\n",
       "      <th>3</th>\n",
       "      <td>2023-01-01</td>\n",
       "      <td>Antioquia-Agua-Agua Sin Gas 1L x 1uds</td>\n",
       "      <td>0.4850</td>\n",
       "      <td>2500.0</td>\n",
       "      <td>4.628866</td>\n",
       "      <td>Histórico</td>\n",
       "    </tr>\n",
       "    <tr>\n",
       "      <th>4</th>\n",
       "      <td>2023-01-01</td>\n",
       "      <td>Antioquia-Jugo-Jugo Lima 2000mL x 12uds</td>\n",
       "      <td>9.5760</td>\n",
       "      <td>96000.0</td>\n",
       "      <td>3.609023</td>\n",
       "      <td>Histórico</td>\n",
       "    </tr>\n",
       "  </tbody>\n",
       "</table>\n",
       "</div>"
      ],
      "text/plain": [
       "          MES                     REGION_CATEGORIA_PRODUCTO  M3_VENDIDOS  \\\n",
       "0  2023-01-01  Antioquia-Bebida de Té-Té Negro 500mL x 6uds       1.5750   \n",
       "1  2023-01-01           Antioquia-Gaseosa-Uva 600mL x 24uds       5.2704   \n",
       "2  2023-01-01    Antioquia-Jugo-Jugo Naranja 2000mL x 24uds      21.7920   \n",
       "3  2023-01-01         Antioquia-Agua-Agua Sin Gas 1L x 1uds       0.4850   \n",
       "4  2023-01-01       Antioquia-Jugo-Jugo Lima 2000mL x 12uds       9.5760   \n",
       "\n",
       "   AVG_PRECIO_LISTA  AVG_DESC_PORCENTAJE     ORIGEN  \n",
       "0          168000.0             3.630476  Histórico  \n",
       "1           50400.0             6.090164  Histórico  \n",
       "2            1800.0             4.522026  Histórico  \n",
       "3            2500.0             4.628866  Histórico  \n",
       "4           96000.0             3.609023  Histórico  "
      ]
     },
     "execution_count": 4,
     "metadata": {},
     "output_type": "execute_result"
    }
   ],
   "source": [
    "def get_snowflake_connection():\n",
    "    try:\n",
    "        conn = snowflake.connector.connect(\n",
    "        user='XXXXX',  \n",
    "        password='XXXXX',  \n",
    "        account='XXXXX', \n",
    "        warehouse='COMPUTE_WH', \n",
    "        database='BEBIDAS_PROJECT',\n",
    "        schema='BEBIDAS_ANALYTICS'\n",
    "        )\n",
    "        logging.info(\"Conexión a Snowflake exitosa\")\n",
    "        return conn\n",
    "    except Exception as e:\n",
    "        logging.error(f\"Error de conexión a Snowflake: {e}\")\n",
    "        raise\n",
    "    \n",
    "# Cargar los tres datasets desde Snowflake\n",
    "\n",
    "def load_snowflake_views():\n",
    "    conn = get_snowflake_connection()\n",
    "    try:\n",
    "        # Histórico\n",
    "        df_hist = pd.read_sql(\"SELECT * FROM VW_VENTAS_HISTORICO_M3\", conn)\n",
    "        # Escenario 1\n",
    "        df_fcst1 = pd.read_sql(\"SELECT * FROM VW_VENTAS_FCST_FEATURES_1\", conn)\n",
    "        # Escenario 2\n",
    "        df_fcst2 = pd.read_sql(\"SELECT * FROM VW_VENTAS_FCST_FEATURES_2\", conn)\n",
    "        logging.info(f\"Histórico: {len(df_hist)} registros, Escenario 1: {len(df_fcst1)}, Escenario 2: {len(df_fcst2)}\")\n",
    "        return df_hist, df_fcst1, df_fcst2\n",
    "    finally:\n",
    "        conn.close()\n",
    "\n",
    "df_hist, df_fcst1, df_fcst2 = load_snowflake_views()\n",
    "print(f\"Histórico: {df_hist.shape}, Escenario 1: {df_fcst1.shape}, Escenario 2: {df_fcst2.shape}\")\n",
    "df_hist.head()"
   ]
  },
  {
   "cell_type": "code",
   "execution_count": null,
   "id": "c0b439a1",
   "metadata": {},
   "outputs": [],
   "source": [
    "df_hist = df_hist[['REGION_CATEGORIA_PRODUCTO']]"
   ]
  }
 ],
 "metadata": {
  "kernelspec": {
   "display_name": "Python 3",
   "language": "python",
   "name": "python3"
  },
  "language_info": {
   "codemirror_mode": {
    "name": "ipython",
    "version": 3
   },
   "file_extension": ".py",
   "mimetype": "text/x-python",
   "name": "python",
   "nbconvert_exporter": "python",
   "pygments_lexer": "ipython3",
   "version": "3.10.11"
  }
 },
 "nbformat": 4,
 "nbformat_minor": 5
}
