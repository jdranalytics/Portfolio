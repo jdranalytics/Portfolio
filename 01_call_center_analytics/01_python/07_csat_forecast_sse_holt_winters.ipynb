{
 "cells": [
  {
   "cell_type": "markdown",
   "metadata": {},
   "source": [
    "FORECASTING DE CSAT SCORE SEMANAL PARA PREDECIR EL POSIBLE COMPORTAMIENTO PARA 10 SEMANAS EMPLEANDO ES-WINTERS"
   ]
  },
  {
   "cell_type": "code",
   "execution_count": 1,
   "metadata": {},
   "outputs": [],
   "source": [
    "### LIBRERÍAS\n",
    "\n",
    "import numpy as np\n",
    "import pandas as pd\n",
    "\n",
    "import plotly.express as px\n",
    "import matplotlib.pyplot as plt\n",
    "%matplotlib inline\n",
    "plt.style.use('ggplot')\n",
    "\n",
    "from statsmodels.tsa.holtwinters import ExponentialSmoothing\n",
    "\n",
    "from sklearn.metrics import mean_squared_error\n",
    "from statsmodels.tools.eval_measures import rmse\n",
    "from sklearn import metrics\n",
    "from math import sqrt\n",
    "\n",
    "import warnings\n",
    "warnings.filterwarnings(\"ignore\")\n",
    "from datetime import datetime\n",
    "import seaborn as sns"
   ]
  },
  {
   "cell_type": "code",
   "execution_count": 5,
   "metadata": {},
   "outputs": [
    {
     "data": {
      "text/html": [
       "<div>\n",
       "<style scoped>\n",
       "    .dataframe tbody tr th:only-of-type {\n",
       "        vertical-align: middle;\n",
       "    }\n",
       "\n",
       "    .dataframe tbody tr th {\n",
       "        vertical-align: top;\n",
       "    }\n",
       "\n",
       "    .dataframe thead th {\n",
       "        text-align: right;\n",
       "    }\n",
       "</style>\n",
       "<table border=\"1\" class=\"dataframe\">\n",
       "  <thead>\n",
       "    <tr style=\"text-align: right;\">\n",
       "      <th></th>\n",
       "      <th>WEEK</th>\n",
       "      <th>CSAT</th>\n",
       "    </tr>\n",
       "    <tr>\n",
       "      <th>Semana</th>\n",
       "      <th></th>\n",
       "      <th></th>\n",
       "    </tr>\n",
       "  </thead>\n",
       "  <tbody>\n",
       "    <tr>\n",
       "      <th>2023-12-03</th>\n",
       "      <td>49</td>\n",
       "      <td>0.68</td>\n",
       "    </tr>\n",
       "    <tr>\n",
       "      <th>2023-12-10</th>\n",
       "      <td>50</td>\n",
       "      <td>0.74</td>\n",
       "    </tr>\n",
       "    <tr>\n",
       "      <th>2023-12-17</th>\n",
       "      <td>51</td>\n",
       "      <td>0.71</td>\n",
       "    </tr>\n",
       "    <tr>\n",
       "      <th>2023-12-24</th>\n",
       "      <td>52</td>\n",
       "      <td>0.71</td>\n",
       "    </tr>\n",
       "    <tr>\n",
       "      <th>2023-12-31</th>\n",
       "      <td>53</td>\n",
       "      <td>0.68</td>\n",
       "    </tr>\n",
       "  </tbody>\n",
       "</table>\n",
       "</div>"
      ],
      "text/plain": [
       "            WEEK  CSAT\n",
       "Semana                \n",
       "2023-12-03    49  0.68\n",
       "2023-12-10    50  0.74\n",
       "2023-12-17    51  0.71\n",
       "2023-12-24    52  0.71\n",
       "2023-12-31    53  0.68"
      ]
     },
     "execution_count": 5,
     "metadata": {},
     "output_type": "execute_result"
    }
   ],
   "source": [
    "### FUENTE DE DATOS Y PREPARACION DE LOS DATOS\n",
    "\n",
    "ruta = \"C:/Users/joey_/Desktop/DESK 2025/DB (RESPALDOS)/CSAT.xlsx\"\n",
    "df = pd.read_excel(ruta, sheet_name=\"Sheet1\")\n",
    "\n",
    "df[\"Start of Week\"] = pd.to_datetime(df[\"Start of Week\"])\n",
    "df = df.rename(columns={\"% CSAT (LOOKER)\": \"CSAT\"})\n",
    "df = df.rename(columns={\"Start of Week\": \"Semana\"})\n",
    "df = df.drop(\"ID\", axis=1)\n",
    "df[\"CSAT\"] = round(df[\"CSAT\"]*1,2)\n",
    "df.set_index('Semana', inplace=True)\n",
    "df.tail(5)"
   ]
  },
  {
   "cell_type": "code",
   "execution_count": 6,
   "metadata": {},
   "outputs": [
    {
     "data": {
      "text/html": [
       "<div>\n",
       "<style scoped>\n",
       "    .dataframe tbody tr th:only-of-type {\n",
       "        vertical-align: middle;\n",
       "    }\n",
       "\n",
       "    .dataframe tbody tr th {\n",
       "        vertical-align: top;\n",
       "    }\n",
       "\n",
       "    .dataframe thead th {\n",
       "        text-align: right;\n",
       "    }\n",
       "</style>\n",
       "<table border=\"1\" class=\"dataframe\">\n",
       "  <thead>\n",
       "    <tr style=\"text-align: right;\">\n",
       "      <th></th>\n",
       "      <th>CSAT_Predicho</th>\n",
       "    </tr>\n",
       "    <tr>\n",
       "      <th>Semana</th>\n",
       "      <th></th>\n",
       "    </tr>\n",
       "  </thead>\n",
       "  <tbody>\n",
       "    <tr>\n",
       "      <th>2024-01-07</th>\n",
       "      <td>0.682582</td>\n",
       "    </tr>\n",
       "    <tr>\n",
       "      <th>2024-01-14</th>\n",
       "      <td>0.662735</td>\n",
       "    </tr>\n",
       "    <tr>\n",
       "      <th>2024-01-21</th>\n",
       "      <td>0.679351</td>\n",
       "    </tr>\n",
       "  </tbody>\n",
       "</table>\n",
       "</div>"
      ],
      "text/plain": [
       "            CSAT_Predicho\n",
       "Semana                   \n",
       "2024-01-07       0.682582\n",
       "2024-01-14       0.662735\n",
       "2024-01-21       0.679351"
      ]
     },
     "execution_count": 6,
     "metadata": {},
     "output_type": "execute_result"
    }
   ],
   "source": [
    "### MODELANDO LA SERIE DE TIEMPO CON HOLT-WINTERS\n",
    "\n",
    "# Ajustar el modelo de Holt-Winters\n",
    "model = ExponentialSmoothing(df['CSAT'], trend='add', seasonal='add', seasonal_periods=13)\n",
    "model_fit = model.fit()\n",
    "\n",
    "# Realizar la predicción para las próximas 10 semanas\n",
    "forecast = model_fit.forecast(steps=10)\n",
    "\n",
    "# Crear un DataFrame con las predicciones\n",
    "forecast_dates = pd.date_range(start=df.index[-1] + pd.Timedelta(weeks=1), periods=10, freq='W')\n",
    "forecast_df = pd.DataFrame({'Semana': forecast_dates, 'CSAT_Predicho': forecast})\n",
    "forecast_df.set_index('Semana', inplace=True)\n",
    "forecast_df.head(3)"
   ]
  },
  {
   "cell_type": "code",
   "execution_count": 7,
   "metadata": {},
   "outputs": [],
   "source": [
    "### SPLITEANDO LOS DATOS PARA ENTRENAMIENTO Y PRUEBA\n",
    "\n",
    "train = df['CSAT'][:-10]\n",
    "test = df['CSAT'][-10:]\n",
    "\n"
   ]
  },
  {
   "cell_type": "code",
   "execution_count": 8,
   "metadata": {},
   "outputs": [
    {
     "name": "stdout",
     "output_type": "stream",
     "text": [
      "RMSE: 0.04189457169532319\n"
     ]
    }
   ],
   "source": [
    "### AJUSTE DEL MODELO HOLT-WINTERS A LOS DATOS DE ENTRENAMIENTO, PREDICCIÓN Y CÁLCULO DEL RMSE\n",
    "\n",
    "model_train = ExponentialSmoothing(train, trend='add', seasonal='add', seasonal_periods=13)\n",
    "model_train_fit = model_train.fit()\n",
    "\n",
    "# Realizar la predicción en el conjunto de prueba\n",
    "pred_test = model_train_fit.forecast(steps=10)\n",
    "\n",
    "# Calcular el RMSE\n",
    "rmse = sqrt(mean_squared_error(test, pred_test))\n",
    "print(f'RMSE: {rmse}')"
   ]
  },
  {
   "cell_type": "code",
   "execution_count": 9,
   "metadata": {},
   "outputs": [],
   "source": [
    "### PREDICCION DE LOS DATOS HISTÓRICOS CON EL MODELO\n",
    "\n",
    "fitted_values = model_fit.fittedvalues\n",
    "\n",
    "# Calcular los errores de predicción en el conjunto de entrenamiento\n",
    "errors = train - model_train_fit.fittedvalues\n",
    "\n",
    "# Calcular la desviación estándar de los errores\n",
    "std_errors = np.std(errors)\n",
    "\n",
    "# Calcular el intervalo de confianza del 95% para las predicciones futuras\n",
    "forecast_ci_lower = forecast - 1.96 * std_errors\n",
    "forecast_ci_upper = forecast + 1.96 * std_errors\n",
    "\n",
    "# Crear un DataFrame para el intervalo de confianza\n",
    "forecast_ci_df = pd.DataFrame({\n",
    "    'Semana': forecast_dates,\n",
    "    'CSAT_Predicho': forecast,\n",
    "    'CI_Lower': forecast_ci_lower,\n",
    "    'CI_Upper': forecast_ci_upper\n",
    "})\n",
    "forecast_ci_df.set_index('Semana', inplace=True)"
   ]
  },
  {
   "cell_type": "code",
   "execution_count": 10,
   "metadata": {},
   "outputs": [
    {
     "data": {
      "text/html": [
       "<div>\n",
       "<style scoped>\n",
       "    .dataframe tbody tr th:only-of-type {\n",
       "        vertical-align: middle;\n",
       "    }\n",
       "\n",
       "    .dataframe tbody tr th {\n",
       "        vertical-align: top;\n",
       "    }\n",
       "\n",
       "    .dataframe thead th {\n",
       "        text-align: right;\n",
       "    }\n",
       "</style>\n",
       "<table border=\"1\" class=\"dataframe\">\n",
       "  <thead>\n",
       "    <tr style=\"text-align: right;\">\n",
       "      <th></th>\n",
       "      <th>CSAT_Historico</th>\n",
       "      <th>CSAT_Predicho</th>\n",
       "      <th>CI_Lower</th>\n",
       "      <th>CI_Upper</th>\n",
       "    </tr>\n",
       "    <tr>\n",
       "      <th>Semana</th>\n",
       "      <th></th>\n",
       "      <th></th>\n",
       "      <th></th>\n",
       "      <th></th>\n",
       "    </tr>\n",
       "  </thead>\n",
       "  <tbody>\n",
       "    <tr>\n",
       "      <th>2024-02-25</th>\n",
       "      <td>NaN</td>\n",
       "      <td>0.710993</td>\n",
       "      <td>0.656160</td>\n",
       "      <td>0.765826</td>\n",
       "    </tr>\n",
       "    <tr>\n",
       "      <th>2024-03-03</th>\n",
       "      <td>NaN</td>\n",
       "      <td>0.686085</td>\n",
       "      <td>0.631252</td>\n",
       "      <td>0.740918</td>\n",
       "    </tr>\n",
       "    <tr>\n",
       "      <th>2024-03-10</th>\n",
       "      <td>NaN</td>\n",
       "      <td>0.688383</td>\n",
       "      <td>0.633550</td>\n",
       "      <td>0.743216</td>\n",
       "    </tr>\n",
       "  </tbody>\n",
       "</table>\n",
       "</div>"
      ],
      "text/plain": [
       "            CSAT_Historico  CSAT_Predicho  CI_Lower  CI_Upper\n",
       "Semana                                                       \n",
       "2024-02-25             NaN       0.710993  0.656160  0.765826\n",
       "2024-03-03             NaN       0.686085  0.631252  0.740918\n",
       "2024-03-10             NaN       0.688383  0.633550  0.743216"
      ]
     },
     "execution_count": 10,
     "metadata": {},
     "output_type": "execute_result"
    }
   ],
   "source": [
    "### DATAFRAME CON LOS DATOS HISTÓRICOS Y LAS PREDICCIONES\n",
    "\n",
    "\n",
    "historical_pred_df = pd.DataFrame({\n",
    "    'CSAT_Historico': df['CSAT'],\n",
    "    'CSAT_Predicho': fitted_values\n",
    "})\n",
    "\n",
    "\n",
    "# Combinar los datos históricos, predicciones futuras y el intervalo de confianza\n",
    "combined_df = pd.concat([historical_pred_df, forecast_ci_df], axis=0)\n",
    "\n",
    "combined_df.tail(3)"
   ]
  },
  {
   "cell_type": "code",
   "execution_count": 12,
   "metadata": {},
   "outputs": [
    {
     "data": {
      "application/vnd.plotly.v1+json": {
       "config": {
        "plotlyServerURL": "https://plot.ly"
       },
       "data": [
        {
         "line": {
          "color": "blue"
         },
         "mode": "lines",
         "name": "CSAT Histórico",
         "type": "scatter",
         "x": [
          "2023-02-26T00:00:00",
          "2023-03-05T00:00:00",
          "2023-03-12T00:00:00",
          "2023-03-19T00:00:00",
          "2023-03-26T00:00:00",
          "2023-04-02T00:00:00",
          "2023-04-09T00:00:00",
          "2023-04-16T00:00:00",
          "2023-04-23T00:00:00",
          "2023-04-30T00:00:00",
          "2023-05-07T00:00:00",
          "2023-05-14T00:00:00",
          "2023-05-21T00:00:00",
          "2023-05-28T00:00:00",
          "2023-06-04T00:00:00",
          "2023-06-11T00:00:00",
          "2023-06-18T00:00:00",
          "2023-06-25T00:00:00",
          "2023-07-02T00:00:00",
          "2023-07-09T00:00:00",
          "2023-07-16T00:00:00",
          "2023-07-23T00:00:00",
          "2023-07-30T00:00:00",
          "2023-08-06T00:00:00",
          "2023-08-13T00:00:00",
          "2023-08-20T00:00:00",
          "2023-08-27T00:00:00",
          "2023-09-03T00:00:00",
          "2023-09-10T00:00:00",
          "2023-09-17T00:00:00",
          "2023-09-24T00:00:00",
          "2023-10-01T00:00:00",
          "2023-10-08T00:00:00",
          "2023-10-15T00:00:00",
          "2023-10-22T00:00:00",
          "2023-10-29T00:00:00",
          "2023-11-05T00:00:00",
          "2023-11-12T00:00:00",
          "2023-11-19T00:00:00",
          "2023-11-26T00:00:00",
          "2023-12-03T00:00:00",
          "2023-12-10T00:00:00",
          "2023-12-17T00:00:00",
          "2023-12-24T00:00:00",
          "2023-12-31T00:00:00",
          "2024-01-07T00:00:00",
          "2024-01-14T00:00:00",
          "2024-01-21T00:00:00",
          "2024-01-28T00:00:00",
          "2024-02-04T00:00:00",
          "2024-02-11T00:00:00",
          "2024-02-18T00:00:00",
          "2024-02-25T00:00:00",
          "2024-03-03T00:00:00",
          "2024-03-10T00:00:00"
         ],
         "y": {
          "bdata": "UrgehetR6D9SuB6F61HoP7gehetRuOY/pHA9Ctej6D+uR+F6FK7nP7gehetRuOY/UrgehetR6D8fhetRuB7lPxSuR+F6FOY/j8L1KFyP4j8UrkfhehTmP3sUrkfheuQ/FK5H4XoU5j9mZmZmZmbmPx+F61G4HuU/zczMzMzM5D+4HoXrUbjmP8P1KFyPwuU/CtejcD0K5z/NzMzMzMzkP3E9CtejcOU/uB6F61G45j8UrkfhehTmP3E9CtejcOU/zczMzMzM5D/D9Shcj8LlP1K4HoXrUeg/CtejcD0K5z9cj8L1KFznP1K4HoXrUeg/FK5H4XoU5j8UrkfhehTmP3E9CtejcOU/FK5H4XoU5j9xPQrXo3DlP2ZmZmZmZuY/H4XrUbge5T+4HoXrUbjmP8P1KFyPwuU/ZmZmZmZm5j/D9Shcj8LlP65H4XoUruc/uB6F61G45j+4HoXrUbjmP8P1KFyPwuU/AAAAAAAA+H8AAAAAAAD4fwAAAAAAAPh/AAAAAAAA+H8AAAAAAAD4fwAAAAAAAPh/AAAAAAAA+H8AAAAAAAD4fwAAAAAAAPh/AAAAAAAA+H8=",
          "dtype": "f8"
         }
        },
        {
         "line": {
          "color": "green",
          "dash": "dash"
         },
         "mode": "lines",
         "name": "CSAT Predicho (Actual)",
         "type": "scatter",
         "x": [
          "2023-02-26T00:00:00",
          "2023-03-05T00:00:00",
          "2023-03-12T00:00:00",
          "2023-03-19T00:00:00",
          "2023-03-26T00:00:00",
          "2023-04-02T00:00:00",
          "2023-04-09T00:00:00",
          "2023-04-16T00:00:00",
          "2023-04-23T00:00:00",
          "2023-04-30T00:00:00",
          "2023-05-07T00:00:00",
          "2023-05-14T00:00:00",
          "2023-05-21T00:00:00",
          "2023-05-28T00:00:00",
          "2023-06-04T00:00:00",
          "2023-06-11T00:00:00",
          "2023-06-18T00:00:00",
          "2023-06-25T00:00:00",
          "2023-07-02T00:00:00",
          "2023-07-09T00:00:00",
          "2023-07-16T00:00:00",
          "2023-07-23T00:00:00",
          "2023-07-30T00:00:00",
          "2023-08-06T00:00:00",
          "2023-08-13T00:00:00",
          "2023-08-20T00:00:00",
          "2023-08-27T00:00:00",
          "2023-09-03T00:00:00",
          "2023-09-10T00:00:00",
          "2023-09-17T00:00:00",
          "2023-09-24T00:00:00",
          "2023-10-01T00:00:00",
          "2023-10-08T00:00:00",
          "2023-10-15T00:00:00",
          "2023-10-22T00:00:00",
          "2023-10-29T00:00:00",
          "2023-11-05T00:00:00",
          "2023-11-12T00:00:00",
          "2023-11-19T00:00:00",
          "2023-11-26T00:00:00",
          "2023-12-03T00:00:00",
          "2023-12-10T00:00:00",
          "2023-12-17T00:00:00",
          "2023-12-24T00:00:00",
          "2023-12-31T00:00:00",
          "2024-01-07T00:00:00",
          "2024-01-14T00:00:00",
          "2024-01-21T00:00:00",
          "2024-01-28T00:00:00",
          "2024-02-04T00:00:00",
          "2024-02-11T00:00:00",
          "2024-02-18T00:00:00",
          "2024-02-25T00:00:00",
          "2024-03-03T00:00:00",
          "2024-03-10T00:00:00"
         ],
         "y": {
          "bdata": "d/7iXKcl6D9SaDE7smPnP3OsrTTWrOc/ij6hZoNr6D9No9iymG7nP3C5vAInU+c/OYAhYY7j5j8wIVQJfpTmPwxnenZlx+Y/iuvvIaCN5T9l9Rc9xGTlP8OniN8AV+U/+uVg2s2t5T9wzG5HZwDnP9zPoSA+EeY/WFsQT8fs5T8vmmrai6HmP0h3ytP6nOU/wCyASqF75T/jhvRZNorlP0fXwRpwvOQ/dqIAR6Rt5T/89vh2DajkP6Q76IX6gOU/3f6UB25H5T9KcqM6dbTlP59yLwrd8uY/Msvgvdl25j+Xj1IqSKvmPzppyhcIyuc/dugHA0Hf5j/ctz4xG4fmP8nyMDKtIOY/tcBVoPNV5T/IJ6l9ggnmP3ArUl+t1eQ/ony0z+C25T+IfK0zXV7lP576tW45NuY/cFpTawtX5z/IandzIVTmPz529j3FReY/Gg52J1eO5z+Ajx+gyVPmP7RCIEzKQOY/cu9iCLfX5T9qrWzYHzXlPzTxe4M+veU/NpYdpUOs5D9uzezgGjLlP++AHv1H/OQ/toave0SF5T80rL85dcDmP3USGn5o9OU/MvH5hTwH5j8=",
          "dtype": "f8"
         }
        },
        {
         "line": {
          "color": "red"
         },
         "mode": "lines",
         "name": "CSAT Predicho (Futuro)",
         "type": "scatter",
         "x": [
          "2024-01-07T00:00:00",
          "2024-01-14T00:00:00",
          "2024-01-21T00:00:00",
          "2024-01-28T00:00:00",
          "2024-02-04T00:00:00",
          "2024-02-11T00:00:00",
          "2024-02-18T00:00:00",
          "2024-02-25T00:00:00",
          "2024-03-03T00:00:00",
          "2024-03-10T00:00:00"
         ],
         "y": {
          "bdata": "cu9iCLfX5T9qrWzYHzXlPzTxe4M+veU/NpYdpUOs5D9uzezgGjLlP++AHv1H/OQ/toave0SF5T80rL85dcDmP3USGn5o9OU/MvH5hTwH5j8=",
          "dtype": "f8"
         }
        },
        {
         "line": {
          "color": "gray",
          "width": 0.5
         },
         "mode": "lines",
         "name": "Límite Superior (95% IC)",
         "type": "scatter",
         "x": [
          "2024-01-07T00:00:00",
          "2024-01-14T00:00:00",
          "2024-01-21T00:00:00",
          "2024-01-28T00:00:00",
          "2024-02-04T00:00:00",
          "2024-02-11T00:00:00",
          "2024-02-18T00:00:00",
          "2024-02-25T00:00:00",
          "2024-03-03T00:00:00",
          "2024-03-10T00:00:00"
         ],
         "y": {
          "bdata": "/2xdI+iY5z/3KmfzUPbmP8Fudp5vfuc/wxMYwHRt5j/7Suf7S/PmP3z+GBh5veY/QwSqlnVG5z/BKbpUpoHoPwKQFJmZtec/v270oG3I5z8=",
          "dtype": "f8"
         }
        },
        {
         "fill": "tonexty",
         "fillcolor": "rgba(200, 100, 200, 0.1)",
         "line": {
          "color": "gray",
          "width": 0.5
         },
         "mode": "lines",
         "name": "Límite Inferior (95% IC)",
         "type": "scatter",
         "x": [
          "2024-01-07T00:00:00",
          "2024-01-14T00:00:00",
          "2024-01-21T00:00:00",
          "2024-01-28T00:00:00",
          "2024-02-04T00:00:00",
          "2024-02-11T00:00:00",
          "2024-02-18T00:00:00",
          "2024-02-25T00:00:00",
          "2024-03-03T00:00:00",
          "2024-03-10T00:00:00"
         ],
         "y": {
          "bdata": "5XFo7YUW5D/dL3K97nPjP6dzgWgN/OM/qRgjihLr4j/hT/LF6XDjP2IDJOIWO+M/KQm1YBPE4z+nLsUeRP/kP+iUH2M3M+Q/pXP/agtG5D8=",
          "dtype": "f8"
         }
        }
       ],
       "layout": {
        "hovermode": "x unified",
        "legend": {
         "orientation": "h",
         "x": 0.5,
         "xanchor": "center",
         "y": -0.3
        },
        "showlegend": true,
        "template": {
         "data": {
          "bar": [
           {
            "error_x": {
             "color": "#f2f5fa"
            },
            "error_y": {
             "color": "#f2f5fa"
            },
            "marker": {
             "line": {
              "color": "rgb(17,17,17)",
              "width": 0.5
             },
             "pattern": {
              "fillmode": "overlay",
              "size": 10,
              "solidity": 0.2
             }
            },
            "type": "bar"
           }
          ],
          "barpolar": [
           {
            "marker": {
             "line": {
              "color": "rgb(17,17,17)",
              "width": 0.5
             },
             "pattern": {
              "fillmode": "overlay",
              "size": 10,
              "solidity": 0.2
             }
            },
            "type": "barpolar"
           }
          ],
          "carpet": [
           {
            "aaxis": {
             "endlinecolor": "#A2B1C6",
             "gridcolor": "#506784",
             "linecolor": "#506784",
             "minorgridcolor": "#506784",
             "startlinecolor": "#A2B1C6"
            },
            "baxis": {
             "endlinecolor": "#A2B1C6",
             "gridcolor": "#506784",
             "linecolor": "#506784",
             "minorgridcolor": "#506784",
             "startlinecolor": "#A2B1C6"
            },
            "type": "carpet"
           }
          ],
          "choropleth": [
           {
            "colorbar": {
             "outlinewidth": 0,
             "ticks": ""
            },
            "type": "choropleth"
           }
          ],
          "contour": [
           {
            "colorbar": {
             "outlinewidth": 0,
             "ticks": ""
            },
            "colorscale": [
             [
              0,
              "#0d0887"
             ],
             [
              0.1111111111111111,
              "#46039f"
             ],
             [
              0.2222222222222222,
              "#7201a8"
             ],
             [
              0.3333333333333333,
              "#9c179e"
             ],
             [
              0.4444444444444444,
              "#bd3786"
             ],
             [
              0.5555555555555556,
              "#d8576b"
             ],
             [
              0.6666666666666666,
              "#ed7953"
             ],
             [
              0.7777777777777778,
              "#fb9f3a"
             ],
             [
              0.8888888888888888,
              "#fdca26"
             ],
             [
              1,
              "#f0f921"
             ]
            ],
            "type": "contour"
           }
          ],
          "contourcarpet": [
           {
            "colorbar": {
             "outlinewidth": 0,
             "ticks": ""
            },
            "type": "contourcarpet"
           }
          ],
          "heatmap": [
           {
            "colorbar": {
             "outlinewidth": 0,
             "ticks": ""
            },
            "colorscale": [
             [
              0,
              "#0d0887"
             ],
             [
              0.1111111111111111,
              "#46039f"
             ],
             [
              0.2222222222222222,
              "#7201a8"
             ],
             [
              0.3333333333333333,
              "#9c179e"
             ],
             [
              0.4444444444444444,
              "#bd3786"
             ],
             [
              0.5555555555555556,
              "#d8576b"
             ],
             [
              0.6666666666666666,
              "#ed7953"
             ],
             [
              0.7777777777777778,
              "#fb9f3a"
             ],
             [
              0.8888888888888888,
              "#fdca26"
             ],
             [
              1,
              "#f0f921"
             ]
            ],
            "type": "heatmap"
           }
          ],
          "histogram": [
           {
            "marker": {
             "pattern": {
              "fillmode": "overlay",
              "size": 10,
              "solidity": 0.2
             }
            },
            "type": "histogram"
           }
          ],
          "histogram2d": [
           {
            "colorbar": {
             "outlinewidth": 0,
             "ticks": ""
            },
            "colorscale": [
             [
              0,
              "#0d0887"
             ],
             [
              0.1111111111111111,
              "#46039f"
             ],
             [
              0.2222222222222222,
              "#7201a8"
             ],
             [
              0.3333333333333333,
              "#9c179e"
             ],
             [
              0.4444444444444444,
              "#bd3786"
             ],
             [
              0.5555555555555556,
              "#d8576b"
             ],
             [
              0.6666666666666666,
              "#ed7953"
             ],
             [
              0.7777777777777778,
              "#fb9f3a"
             ],
             [
              0.8888888888888888,
              "#fdca26"
             ],
             [
              1,
              "#f0f921"
             ]
            ],
            "type": "histogram2d"
           }
          ],
          "histogram2dcontour": [
           {
            "colorbar": {
             "outlinewidth": 0,
             "ticks": ""
            },
            "colorscale": [
             [
              0,
              "#0d0887"
             ],
             [
              0.1111111111111111,
              "#46039f"
             ],
             [
              0.2222222222222222,
              "#7201a8"
             ],
             [
              0.3333333333333333,
              "#9c179e"
             ],
             [
              0.4444444444444444,
              "#bd3786"
             ],
             [
              0.5555555555555556,
              "#d8576b"
             ],
             [
              0.6666666666666666,
              "#ed7953"
             ],
             [
              0.7777777777777778,
              "#fb9f3a"
             ],
             [
              0.8888888888888888,
              "#fdca26"
             ],
             [
              1,
              "#f0f921"
             ]
            ],
            "type": "histogram2dcontour"
           }
          ],
          "mesh3d": [
           {
            "colorbar": {
             "outlinewidth": 0,
             "ticks": ""
            },
            "type": "mesh3d"
           }
          ],
          "parcoords": [
           {
            "line": {
             "colorbar": {
              "outlinewidth": 0,
              "ticks": ""
             }
            },
            "type": "parcoords"
           }
          ],
          "pie": [
           {
            "automargin": true,
            "type": "pie"
           }
          ],
          "scatter": [
           {
            "marker": {
             "line": {
              "color": "#283442"
             }
            },
            "type": "scatter"
           }
          ],
          "scatter3d": [
           {
            "line": {
             "colorbar": {
              "outlinewidth": 0,
              "ticks": ""
             }
            },
            "marker": {
             "colorbar": {
              "outlinewidth": 0,
              "ticks": ""
             }
            },
            "type": "scatter3d"
           }
          ],
          "scattercarpet": [
           {
            "marker": {
             "colorbar": {
              "outlinewidth": 0,
              "ticks": ""
             }
            },
            "type": "scattercarpet"
           }
          ],
          "scattergeo": [
           {
            "marker": {
             "colorbar": {
              "outlinewidth": 0,
              "ticks": ""
             }
            },
            "type": "scattergeo"
           }
          ],
          "scattergl": [
           {
            "marker": {
             "line": {
              "color": "#283442"
             }
            },
            "type": "scattergl"
           }
          ],
          "scattermap": [
           {
            "marker": {
             "colorbar": {
              "outlinewidth": 0,
              "ticks": ""
             }
            },
            "type": "scattermap"
           }
          ],
          "scattermapbox": [
           {
            "marker": {
             "colorbar": {
              "outlinewidth": 0,
              "ticks": ""
             }
            },
            "type": "scattermapbox"
           }
          ],
          "scatterpolar": [
           {
            "marker": {
             "colorbar": {
              "outlinewidth": 0,
              "ticks": ""
             }
            },
            "type": "scatterpolar"
           }
          ],
          "scatterpolargl": [
           {
            "marker": {
             "colorbar": {
              "outlinewidth": 0,
              "ticks": ""
             }
            },
            "type": "scatterpolargl"
           }
          ],
          "scatterternary": [
           {
            "marker": {
             "colorbar": {
              "outlinewidth": 0,
              "ticks": ""
             }
            },
            "type": "scatterternary"
           }
          ],
          "surface": [
           {
            "colorbar": {
             "outlinewidth": 0,
             "ticks": ""
            },
            "colorscale": [
             [
              0,
              "#0d0887"
             ],
             [
              0.1111111111111111,
              "#46039f"
             ],
             [
              0.2222222222222222,
              "#7201a8"
             ],
             [
              0.3333333333333333,
              "#9c179e"
             ],
             [
              0.4444444444444444,
              "#bd3786"
             ],
             [
              0.5555555555555556,
              "#d8576b"
             ],
             [
              0.6666666666666666,
              "#ed7953"
             ],
             [
              0.7777777777777778,
              "#fb9f3a"
             ],
             [
              0.8888888888888888,
              "#fdca26"
             ],
             [
              1,
              "#f0f921"
             ]
            ],
            "type": "surface"
           }
          ],
          "table": [
           {
            "cells": {
             "fill": {
              "color": "#506784"
             },
             "line": {
              "color": "rgb(17,17,17)"
             }
            },
            "header": {
             "fill": {
              "color": "#2a3f5f"
             },
             "line": {
              "color": "rgb(17,17,17)"
             }
            },
            "type": "table"
           }
          ]
         },
         "layout": {
          "annotationdefaults": {
           "arrowcolor": "#f2f5fa",
           "arrowhead": 0,
           "arrowwidth": 1
          },
          "autotypenumbers": "strict",
          "coloraxis": {
           "colorbar": {
            "outlinewidth": 0,
            "ticks": ""
           }
          },
          "colorscale": {
           "diverging": [
            [
             0,
             "#8e0152"
            ],
            [
             0.1,
             "#c51b7d"
            ],
            [
             0.2,
             "#de77ae"
            ],
            [
             0.3,
             "#f1b6da"
            ],
            [
             0.4,
             "#fde0ef"
            ],
            [
             0.5,
             "#f7f7f7"
            ],
            [
             0.6,
             "#e6f5d0"
            ],
            [
             0.7,
             "#b8e186"
            ],
            [
             0.8,
             "#7fbc41"
            ],
            [
             0.9,
             "#4d9221"
            ],
            [
             1,
             "#276419"
            ]
           ],
           "sequential": [
            [
             0,
             "#0d0887"
            ],
            [
             0.1111111111111111,
             "#46039f"
            ],
            [
             0.2222222222222222,
             "#7201a8"
            ],
            [
             0.3333333333333333,
             "#9c179e"
            ],
            [
             0.4444444444444444,
             "#bd3786"
            ],
            [
             0.5555555555555556,
             "#d8576b"
            ],
            [
             0.6666666666666666,
             "#ed7953"
            ],
            [
             0.7777777777777778,
             "#fb9f3a"
            ],
            [
             0.8888888888888888,
             "#fdca26"
            ],
            [
             1,
             "#f0f921"
            ]
           ],
           "sequentialminus": [
            [
             0,
             "#0d0887"
            ],
            [
             0.1111111111111111,
             "#46039f"
            ],
            [
             0.2222222222222222,
             "#7201a8"
            ],
            [
             0.3333333333333333,
             "#9c179e"
            ],
            [
             0.4444444444444444,
             "#bd3786"
            ],
            [
             0.5555555555555556,
             "#d8576b"
            ],
            [
             0.6666666666666666,
             "#ed7953"
            ],
            [
             0.7777777777777778,
             "#fb9f3a"
            ],
            [
             0.8888888888888888,
             "#fdca26"
            ],
            [
             1,
             "#f0f921"
            ]
           ]
          },
          "colorway": [
           "#636efa",
           "#EF553B",
           "#00cc96",
           "#ab63fa",
           "#FFA15A",
           "#19d3f3",
           "#FF6692",
           "#B6E880",
           "#FF97FF",
           "#FECB52"
          ],
          "font": {
           "color": "#f2f5fa"
          },
          "geo": {
           "bgcolor": "rgb(17,17,17)",
           "lakecolor": "rgb(17,17,17)",
           "landcolor": "rgb(17,17,17)",
           "showlakes": true,
           "showland": true,
           "subunitcolor": "#506784"
          },
          "hoverlabel": {
           "align": "left"
          },
          "hovermode": "closest",
          "mapbox": {
           "style": "dark"
          },
          "paper_bgcolor": "rgb(17,17,17)",
          "plot_bgcolor": "rgb(17,17,17)",
          "polar": {
           "angularaxis": {
            "gridcolor": "#506784",
            "linecolor": "#506784",
            "ticks": ""
           },
           "bgcolor": "rgb(17,17,17)",
           "radialaxis": {
            "gridcolor": "#506784",
            "linecolor": "#506784",
            "ticks": ""
           }
          },
          "scene": {
           "xaxis": {
            "backgroundcolor": "rgb(17,17,17)",
            "gridcolor": "#506784",
            "gridwidth": 2,
            "linecolor": "#506784",
            "showbackground": true,
            "ticks": "",
            "zerolinecolor": "#C8D4E3"
           },
           "yaxis": {
            "backgroundcolor": "rgb(17,17,17)",
            "gridcolor": "#506784",
            "gridwidth": 2,
            "linecolor": "#506784",
            "showbackground": true,
            "ticks": "",
            "zerolinecolor": "#C8D4E3"
           },
           "zaxis": {
            "backgroundcolor": "rgb(17,17,17)",
            "gridcolor": "#506784",
            "gridwidth": 2,
            "linecolor": "#506784",
            "showbackground": true,
            "ticks": "",
            "zerolinecolor": "#C8D4E3"
           }
          },
          "shapedefaults": {
           "line": {
            "color": "#f2f5fa"
           }
          },
          "sliderdefaults": {
           "bgcolor": "#C8D4E3",
           "bordercolor": "rgb(17,17,17)",
           "borderwidth": 1,
           "tickwidth": 0
          },
          "ternary": {
           "aaxis": {
            "gridcolor": "#506784",
            "linecolor": "#506784",
            "ticks": ""
           },
           "baxis": {
            "gridcolor": "#506784",
            "linecolor": "#506784",
            "ticks": ""
           },
           "bgcolor": "rgb(17,17,17)",
           "caxis": {
            "gridcolor": "#506784",
            "linecolor": "#506784",
            "ticks": ""
           }
          },
          "title": {
           "x": 0.05
          },
          "updatemenudefaults": {
           "bgcolor": "#506784",
           "borderwidth": 0
          },
          "xaxis": {
           "automargin": true,
           "gridcolor": "#283442",
           "linecolor": "#506784",
           "ticks": "",
           "title": {
            "standoff": 15
           },
           "zerolinecolor": "#283442",
           "zerolinewidth": 2
          },
          "yaxis": {
           "automargin": true,
           "gridcolor": "#283442",
           "linecolor": "#506784",
           "ticks": "",
           "title": {
            "standoff": 15
           },
           "zerolinecolor": "#283442",
           "zerolinewidth": 2
          }
         }
        },
        "title": {
         "text": "Predicción del CSAT Score utilizando Holt-Winters con Intervalo de Confianza del 95%"
        },
        "xaxis": {
         "title": {
          "text": "Fecha"
         }
        },
        "yaxis": {
         "title": {
          "text": "CSAT Score"
         }
        }
       }
      }
     },
     "metadata": {},
     "output_type": "display_data"
    }
   ],
   "source": [
    "### VISUALIZACIÓN DEL MODELO HOLT-WINTERS\n",
    "\n",
    "import plotly.graph_objects as go\n",
    "\n",
    "# Crear la figura\n",
    "fig = go.Figure()\n",
    "\n",
    "# Agregar los valores históricos\n",
    "fig.add_trace(go.Scatter(\n",
    "    x=combined_df.index,\n",
    "    y=combined_df['CSAT_Historico'],\n",
    "    mode='lines',\n",
    "    name='CSAT Histórico',\n",
    "    line=dict(color='blue')\n",
    "))\n",
    "\n",
    "# Agregar los valores predichos para los datos históricos\n",
    "fig.add_trace(go.Scatter(\n",
    "    x=combined_df.index,\n",
    "    y=combined_df['CSAT_Predicho'],\n",
    "    mode='lines',\n",
    "    name='CSAT Predicho (Actual)',\n",
    "    line=dict(color='green', dash='dash')\n",
    "))\n",
    "\n",
    "# Agregar las predicciones futuras\n",
    "fig.add_trace(go.Scatter(\n",
    "    x=forecast_ci_df.index,\n",
    "    y=forecast_ci_df['CSAT_Predicho'],\n",
    "    mode='lines',\n",
    "    name='CSAT Predicho (Futuro)',\n",
    "    line=dict(color='red')\n",
    "))\n",
    "\n",
    "# Agregar el intervalo de confianza del 95%\n",
    "fig.add_trace(go.Scatter(\n",
    "    x=forecast_ci_df.index,\n",
    "    y=forecast_ci_df['CI_Upper'],\n",
    "    mode='lines',\n",
    "    name='Límite Superior (95% IC)',\n",
    "    line=dict(color='gray', width=0.5)\n",
    "))\n",
    "fig.add_trace(go.Scatter(\n",
    "    x=forecast_ci_df.index,\n",
    "    y=forecast_ci_df['CI_Lower'],\n",
    "    mode='lines',\n",
    "    name='Límite Inferior (95% IC)',\n",
    "    line=dict(color='gray', width=0.5),\n",
    "    fill='tonexty',\n",
    "    fillcolor='rgba(200, 100, 200, 0.1)'\n",
    "))\n",
    "\n",
    "# Personalizar el gráfico\n",
    "fig.update_layout(\n",
    "    title='Predicción del CSAT Score utilizando Holt-Winters con Intervalo de Confianza del 95%',\n",
    "    xaxis_title='Fecha',\n",
    "    yaxis_title='CSAT Score',\n",
    "    hovermode='x unified',\n",
    "    template=\"plotly_dark\",\n",
    "    legend=dict(\n",
    "        orientation=\"h\",\n",
    "        y=-0.3,\n",
    "        x=0.5,\n",
    "        xanchor=\"center\"\n",
    "    ),\n",
    "    showlegend=True\n",
    ")\n",
    "\n",
    "# Mostrar el gráfico\n",
    "fig.show()"
   ]
  }
 ],
 "metadata": {
  "kernelspec": {
   "display_name": "Python 3",
   "language": "python",
   "name": "python3"
  },
  "language_info": {
   "codemirror_mode": {
    "name": "ipython",
    "version": 3
   },
   "file_extension": ".py",
   "mimetype": "text/x-python",
   "name": "python",
   "nbconvert_exporter": "python",
   "pygments_lexer": "ipython3",
   "version": "3.11.9"
  }
 },
 "nbformat": 4,
 "nbformat_minor": 2
}
