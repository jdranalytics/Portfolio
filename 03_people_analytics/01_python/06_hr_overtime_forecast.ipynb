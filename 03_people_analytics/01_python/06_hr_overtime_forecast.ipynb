{
 "cells": [
  {
   "cell_type": "markdown",
   "id": "300023e6",
   "metadata": {},
   "source": [
    "# HR Overtime Prediction and Forecasting\n",
    "## Predicción y Pronóstico de Horas Extra de RRHH\n",
    "\n",
    "Este notebook implementa un pipeline automatizado para el pronóstico de horas extra por departamento, utilizando datos históricos almacenados en SQL Server. El flujo incluye:\n",
    "\n",
    "- **Carga y limpieza de datos:** Importación desde SQL Server, agregación quincenal, interpolación de valores faltantes y detección/corrección de outliers con el filtro de Hampel.\n",
    "- **Análisis exploratorio y descomposición:** Selección automática del tipo de descomposición (aditiva o multiplicativa) según la varianza de los residuos y análisis de estacionariedad.\n",
    "- **Entrenamiento y comparación de modelos:** Se entrenan y comparan cuatro modelos de forecasting:\n",
    "  - ARIMA (selección automática de parámetros)\n",
    "  - Prophet (con modo de estacionalidad dinámico y silenciamiento de outputs)\n",
    "  - Holt-Winters (Suavización Exponencial)\n",
    "  - XGBoost (con variables de rezago y codificación seno/coseno del mes para capturar estacionalidad)\n",
    "- **Selección automática del mejor modelo:** Basada en métricas de validación cruzada (RMSE, MAPE, etc.), con lógica para evitar modelos de línea plana.\n",
    "- **Generación de pronósticos:** Predicción de las próximas 12 quincenas (6 meses) con intervalos de confianza, usando solo el mejor modelo por departamento.\n",
    "- **Visualización interactiva:** Gráficas con Plotly para históricos, descomposición y pronóstico.\n",
    "- **Trazabilidad y auditoría:** Almacenamiento de modelos, métricas y predicciones en SQL Server para seguimiento y control.\n",
    "- **Outputs limpios:** El notebook suprime mensajes innecesarios, especialmente de Prophet, y utiliza logging para trazabilidad.\n",
    "\n",
    "**Objetivo:** Proveer pronósticos robustos y auditables de horas extra, minimizando la intervención manual y maximizando la calidad y trazabilidad del proceso analítico."
   ]
  },
  {
   "cell_type": "markdown",
   "id": "8ff71e94",
   "metadata": {},
   "source": [
    "## 1. Importar Librerías y Configuración\n",
    "\n",
    "Importamos las librerías necesarias para análisis, modelado, visualización y conexión con la base de datos. Configuramos el logging para trazabilidad y suprimimos advertencias innecesarias para mantener un output limpio."
   ]
  },
  {
   "cell_type": "code",
   "execution_count": 56,
   "id": "fede85d1",
   "metadata": {},
   "outputs": [],
   "source": [
    "import pandas as pd\n",
    "import numpy as np\n",
    "import pymssql\n",
    "import logging\n",
    "import datetime\n",
    "from datetime import datetime\n",
    "import os\n",
    "from statsmodels.tsa.seasonal import seasonal_decompose\n",
    "from statsmodels.tsa.holtwinters import ExponentialSmoothing\n",
    "from statsmodels.tsa.stattools import adfuller\n",
    "from pmdarima import auto_arima\n",
    "from prophet import Prophet\n",
    "from sklearn.metrics import mean_squared_error, mean_absolute_error, mean_absolute_percentage_error\n",
    "from sklearn.model_selection import TimeSeriesSplit\n",
    "from scipy.stats import median_abs_deviation\n",
    "import joblib\n",
    "import plotly.express as px\n",
    "import plotly.graph_objects as go\n",
    "from plotly.subplots import make_subplots\n",
    "import warnings\n",
    "from xgboost import XGBRegressor\n",
    "import contextlib\n",
    "import sys\n",
    "import io\n",
    "\n",
    "# Configurar advertencias y logging\n",
    "warnings.filterwarnings(\"ignore\")\n",
    "logging.basicConfig(\n",
    "    level=logging.INFO,\n",
    "    format='%(asctime)s - %(levelname)s - %(message)s'\n",
    ")"
   ]
  },
  {
   "cell_type": "markdown",
   "id": "a04f107c",
   "metadata": {},
   "source": [
    "## 2. Conectar a la Base de Datos\n",
    "Establecemos una conexión segura a SQL Server para cargar datos históricos y almacenar resultados."
   ]
  },
  {
   "cell_type": "code",
   "execution_count": 57,
   "id": "d1955ac3",
   "metadata": {},
   "outputs": [],
   "source": [
    "def get_db_connection():\n",
    "    SQL_SERVER = \"172.28.192.1:50121\"\n",
    "    SQL_DB = \"HR_Analytics\"\n",
    "    SQL_USER = \"sa\"\n",
    "    SQL_PASSWORD = \"123456\"\n",
    "    try:\n",
    "        conn = pymssql.connect(\n",
    "            server=SQL_SERVER,\n",
    "            database=SQL_DB,\n",
    "            user=SQL_USER,\n",
    "            password=SQL_PASSWORD\n",
    "        )\n",
    "        logging.info(\"Conexión a la base de datos exitosa\")\n",
    "        return conn\n",
    "    except Exception as e:\n",
    "        logging.error(f\"Error de conexión a la base de datos: {e}\")\n",
    "        raise"
   ]
  },
  {
   "cell_type": "markdown",
   "id": "8f66e5fb",
   "metadata": {},
   "source": [
    "## 3. Cargar y Procesar Datos Históricos\n",
    "\n",
    "Cargamos los datos históricos con `work_date < 2025-05-01`, los agregamos mes a mes y manejamos datos faltantes con interpolación. Se aplica un filtrado de Hampel para detectar y corregir outliers. Finalmente, se realiza una descomposición de series de tiempo, seleccionando automáticamente el modelo (aditivo o multiplicativo) que mejor se ajuste a los datos según la varianza de los residuos."
   ]
  },
  {
   "cell_type": "code",
   "execution_count": 58,
   "id": "615deef2",
   "metadata": {},
   "outputs": [
    {
     "name": "stderr",
     "output_type": "stream",
     "text": [
      "2025-08-14 17:13:15,506 - INFO - Conexión a la base de datos exitosa\n",
      "2025-08-14 17:13:17,044 - INFO - Datos cargados: 1031 registros\n",
      "2025-08-14 17:13:17,044 - INFO - Datos cargados: 1031 registros\n",
      "2025-08-14 17:13:17,083 - INFO - Resumen de datos:\n",
      "Departamentos únicos: ['Finance' 'HR' 'IT' 'Inventory' 'Marketing' 'Sales']\n",
      "Fechas únicas: <DatetimeArray>\n",
      "['2022-02-01 00:00:00', '2022-03-01 00:00:00', '2022-04-01 00:00:00',\n",
      " '2022-05-01 00:00:00', '2022-06-01 00:00:00', '2022-07-01 00:00:00',\n",
      " '2022-08-01 00:00:00', '2022-09-01 00:00:00', '2022-10-01 00:00:00',\n",
      " '2022-11-01 00:00:00', '2022-12-01 00:00:00', '2023-01-01 00:00:00',\n",
      " '2023-02-01 00:00:00', '2023-03-01 00:00:00', '2023-04-01 00:00:00',\n",
      " '2023-05-01 00:00:00', '2023-06-01 00:00:00', '2023-07-01 00:00:00',\n",
      " '2023-08-01 00:00:00', '2023-09-01 00:00:00', '2023-10-01 00:00:00',\n",
      " '2023-11-01 00:00:00', '2023-12-01 00:00:00', '2024-01-01 00:00:00',\n",
      " '2024-02-01 00:00:00', '2024-03-01 00:00:00', '2024-04-01 00:00:00',\n",
      " '2024-05-01 00:00:00', '2024-06-01 00:00:00', '2024-07-01 00:00:00',\n",
      " '2024-08-01 00:00:00', '2024-09-01 00:00:00', '2024-10-01 00:00:00',\n",
      " '2024-11-01 00:00:00', '2024-12-01 00:00:00', '2025-01-01 00:00:00',\n",
      " '2025-02-01 00:00:00', '2025-03-01 00:00:00', '2025-04-01 00:00:00',\n",
      " '2022-01-01 00:00:00']\n",
      "Length: 40, dtype: datetime64[ns]\n",
      "Total registros: 239\n",
      "2025-08-14 17:13:17,083 - INFO - Resumen de datos:\n",
      "Departamentos únicos: ['Finance' 'HR' 'IT' 'Inventory' 'Marketing' 'Sales']\n",
      "Fechas únicas: <DatetimeArray>\n",
      "['2022-02-01 00:00:00', '2022-03-01 00:00:00', '2022-04-01 00:00:00',\n",
      " '2022-05-01 00:00:00', '2022-06-01 00:00:00', '2022-07-01 00:00:00',\n",
      " '2022-08-01 00:00:00', '2022-09-01 00:00:00', '2022-10-01 00:00:00',\n",
      " '2022-11-01 00:00:00', '2022-12-01 00:00:00', '2023-01-01 00:00:00',\n",
      " '2023-02-01 00:00:00', '2023-03-01 00:00:00', '2023-04-01 00:00:00',\n",
      " '2023-05-01 00:00:00', '2023-06-01 00:00:00', '2023-07-01 00:00:00',\n",
      " '2023-08-01 00:00:00', '2023-09-01 00:00:00', '2023-10-01 00:00:00',\n",
      " '2023-11-01 00:00:00', '2023-12-01 00:00:00', '2024-01-01 00:00:00',\n",
      " '2024-02-01 00:00:00', '2024-03-01 00:00:00', '2024-04-01 00:00:00',\n",
      " '2024-05-01 00:00:00', '2024-06-01 00:00:00', '2024-07-01 00:00:00',\n",
      " '2024-08-01 00:00:00', '2024-09-01 00:00:00', '2024-10-01 00:00:00',\n",
      " '2024-11-01 00:00:00', '2024-12-01 00:00:00', '2025-01-01 00:00:00',\n",
      " '2025-02-01 00:00:00', '2025-03-01 00:00:00', '2025-04-01 00:00:00',\n",
      " '2022-01-01 00:00:00']\n",
      "Length: 40, dtype: datetime64[ns]\n",
      "Total registros: 239\n",
      "2025-08-14 17:13:17,176 - WARNING - La serie contiene ceros o valores negativos. Solo se usará descomposición aditiva.\n",
      "2025-08-14 17:13:17,179 - INFO - Desviación estándar de los residuales aditivos: 30.10\n",
      "2025-08-14 17:13:17,181 - INFO - Desviación estándar de los residuales multiplicativos: N/A\n",
      "2025-08-14 17:13:17,186 - INFO - P-value del test ADF: 0.80\n",
      "2025-08-14 17:13:17,176 - WARNING - La serie contiene ceros o valores negativos. Solo se usará descomposición aditiva.\n",
      "2025-08-14 17:13:17,179 - INFO - Desviación estándar de los residuales aditivos: 30.10\n",
      "2025-08-14 17:13:17,181 - INFO - Desviación estándar de los residuales multiplicativos: N/A\n",
      "2025-08-14 17:13:17,186 - INFO - P-value del test ADF: 0.80\n",
      "2025-08-14 17:13:17,190 - INFO - La serie no es estacionaria y no tiene una tendencia clara. Se descarta ARIMA.\n",
      "2025-08-14 17:13:17,197 - INFO - El departamento Finance tiene una descomposición additive.\n",
      "2025-08-14 17:13:17,190 - INFO - La serie no es estacionaria y no tiene una tendencia clara. Se descarta ARIMA.\n",
      "2025-08-14 17:13:17,197 - INFO - El departamento Finance tiene una descomposición additive.\n"
     ]
    },
    {
     "data": {
      "application/vnd.plotly.v1+json": {
       "config": {
        "plotlyServerURL": "https://plot.ly"
       },
       "data": [
        {
         "mode": "lines",
         "name": "Original",
         "type": "scatter",
         "x": [
          "2022-02-01T00:00:00.000000000",
          "2022-03-01T00:00:00.000000000",
          "2022-04-01T00:00:00.000000000",
          "2022-05-01T00:00:00.000000000",
          "2022-06-01T00:00:00.000000000",
          "2022-07-01T00:00:00.000000000",
          "2022-08-01T00:00:00.000000000",
          "2022-09-01T00:00:00.000000000",
          "2022-10-01T00:00:00.000000000",
          "2022-11-01T00:00:00.000000000",
          "2022-12-01T00:00:00.000000000",
          "2023-01-01T00:00:00.000000000",
          "2023-02-01T00:00:00.000000000",
          "2023-03-01T00:00:00.000000000",
          "2023-04-01T00:00:00.000000000",
          "2023-05-01T00:00:00.000000000",
          "2023-06-01T00:00:00.000000000",
          "2023-07-01T00:00:00.000000000",
          "2023-08-01T00:00:00.000000000",
          "2023-09-01T00:00:00.000000000",
          "2023-10-01T00:00:00.000000000",
          "2023-11-01T00:00:00.000000000",
          "2023-12-01T00:00:00.000000000",
          "2024-01-01T00:00:00.000000000",
          "2024-02-01T00:00:00.000000000",
          "2024-03-01T00:00:00.000000000",
          "2024-04-01T00:00:00.000000000",
          "2024-05-01T00:00:00.000000000",
          "2024-06-01T00:00:00.000000000",
          "2024-07-01T00:00:00.000000000",
          "2024-08-01T00:00:00.000000000",
          "2024-09-01T00:00:00.000000000",
          "2024-10-01T00:00:00.000000000",
          "2024-11-01T00:00:00.000000000",
          "2024-12-01T00:00:00.000000000",
          "2025-01-01T00:00:00.000000000",
          "2025-02-01T00:00:00.000000000",
          "2025-03-01T00:00:00.000000000",
          "2025-04-01T00:00:00.000000000"
         ],
         "xaxis": "x",
         "y": {
          "bdata": "AAAAAAAAAAAK16NwPQoLQLgehetRuBxAwvUoXI+CMUDsUbgehatKQJqZmZmZmTNAj8L1KFwPLUBmZmZmZuYnQKRwPQrXIzJAj8L1KFxPRUAVrkfheuRZQNejcD0KV0VASOF6FK5HQUDiehSuRyE2QHE9CtejkEVAPgrXo3DdTECF61G4HrVgQBSuR+F61FBASOF6FK4HUED2KFyPwtVEQHsUrkfhOlFAPQrXo3DdUkBI4XoUrndxQClcj8L1iExAwvUoXI9SUEBSuB6F65FaQOF6FK5HcVBAXI/C9ShcVkCkcD0K13N1QOJ6FK5HkVtAXI/C9SisUUCkcD0K15NdQPYoXI/ChVZA4XoUrkfBU0BmZmZmZvZ5QGZmZmZmFlFAAAAAAAAAVUCQwvUoXP9aQClcj8L1mFRA",
          "dtype": "f8"
         },
         "yaxis": "y"
        },
        {
         "mode": "lines",
         "name": "Tendencia",
         "type": "scatter",
         "x": [
          "2022-02-01T00:00:00.000000000",
          "2022-03-01T00:00:00.000000000",
          "2022-04-01T00:00:00.000000000",
          "2022-05-01T00:00:00.000000000",
          "2022-06-01T00:00:00.000000000",
          "2022-07-01T00:00:00.000000000",
          "2022-08-01T00:00:00.000000000",
          "2022-09-01T00:00:00.000000000",
          "2022-10-01T00:00:00.000000000",
          "2022-11-01T00:00:00.000000000",
          "2022-12-01T00:00:00.000000000",
          "2023-01-01T00:00:00.000000000",
          "2023-02-01T00:00:00.000000000",
          "2023-03-01T00:00:00.000000000",
          "2023-04-01T00:00:00.000000000",
          "2023-05-01T00:00:00.000000000",
          "2023-06-01T00:00:00.000000000",
          "2023-07-01T00:00:00.000000000",
          "2023-08-01T00:00:00.000000000",
          "2023-09-01T00:00:00.000000000",
          "2023-10-01T00:00:00.000000000",
          "2023-11-01T00:00:00.000000000",
          "2023-12-01T00:00:00.000000000",
          "2024-01-01T00:00:00.000000000",
          "2024-02-01T00:00:00.000000000",
          "2024-03-01T00:00:00.000000000",
          "2024-04-01T00:00:00.000000000",
          "2024-05-01T00:00:00.000000000",
          "2024-06-01T00:00:00.000000000",
          "2024-07-01T00:00:00.000000000",
          "2024-08-01T00:00:00.000000000",
          "2024-09-01T00:00:00.000000000",
          "2024-10-01T00:00:00.000000000",
          "2024-11-01T00:00:00.000000000",
          "2024-12-01T00:00:00.000000000",
          "2025-01-01T00:00:00.000000000",
          "2025-02-01T00:00:00.000000000",
          "2025-03-01T00:00:00.000000000",
          "2025-04-01T00:00:00.000000000"
         ],
         "xaxis": "x2",
         "y": {
          "bdata": "AAAAAAAA+H8AAAAAAAD4fwAAAAAAAPh/AAAAAAAA+H8AAAAAAAD4fwAAAAAAAPh/cT0K16NQPUDhehSuR4k/QCz5xZJf6EBAN9BpA51+QkCx5BdLfgFFQCv5xZJfrEdAjsL1KFyzSUDyiyW/WFpLQEbhehSuB01ADXTaQKfFTkCx5BdLfo9RQChcj8L1ilNA4HoUrkcDVEDTBjptoDVVQGZmZmZmUlZAVlVVVVXjVkCTXyz5xWZZQJb8YskvCFxACtejcD2MXEAiIiIiImpdQChcj8L1bl5AtYFOG+iwXkCf0wY6bRJgQOQXS36x1mBAR+F6FK7+YEC0gU4b6BlhQPKLJb9YMmFAAAAAAAAA+H8AAAAAAAD4fwAAAAAAAPh/AAAAAAAA+H8AAAAAAAD4fwAAAAAAAPh/",
          "dtype": "f8"
         },
         "yaxis": "y2"
        },
        {
         "mode": "lines",
         "name": "Estacionalidad",
         "type": "scatter",
         "x": [
          "2022-02-01T00:00:00.000000000",
          "2022-03-01T00:00:00.000000000",
          "2022-04-01T00:00:00.000000000",
          "2022-05-01T00:00:00.000000000",
          "2022-06-01T00:00:00.000000000",
          "2022-07-01T00:00:00.000000000",
          "2022-08-01T00:00:00.000000000",
          "2022-09-01T00:00:00.000000000",
          "2022-10-01T00:00:00.000000000",
          "2022-11-01T00:00:00.000000000",
          "2022-12-01T00:00:00.000000000",
          "2023-01-01T00:00:00.000000000",
          "2023-02-01T00:00:00.000000000",
          "2023-03-01T00:00:00.000000000",
          "2023-04-01T00:00:00.000000000",
          "2023-05-01T00:00:00.000000000",
          "2023-06-01T00:00:00.000000000",
          "2023-07-01T00:00:00.000000000",
          "2023-08-01T00:00:00.000000000",
          "2023-09-01T00:00:00.000000000",
          "2023-10-01T00:00:00.000000000",
          "2023-11-01T00:00:00.000000000",
          "2023-12-01T00:00:00.000000000",
          "2024-01-01T00:00:00.000000000",
          "2024-02-01T00:00:00.000000000",
          "2024-03-01T00:00:00.000000000",
          "2024-04-01T00:00:00.000000000",
          "2024-05-01T00:00:00.000000000",
          "2024-06-01T00:00:00.000000000",
          "2024-07-01T00:00:00.000000000",
          "2024-08-01T00:00:00.000000000",
          "2024-09-01T00:00:00.000000000",
          "2024-10-01T00:00:00.000000000",
          "2024-11-01T00:00:00.000000000",
          "2024-12-01T00:00:00.000000000",
          "2025-01-01T00:00:00.000000000",
          "2025-02-01T00:00:00.000000000",
          "2025-03-01T00:00:00.000000000",
          "2025-04-01T00:00:00.000000000"
         ],
         "xaxis": "x3",
         "y": {
          "bdata": "+sWSX6zcQMA+CtejcNQ2wEGnDXRaJkLAnjbQaQNsM8BnZmZmBkZhQBGuR+F6fzLAnDbQaYNsQMAoXI/C9e87wHoUrkfhsTzA3i+W/GJVGMCdNtBpQ7ddQHTaQKcNtz7A+sWSX6zcQMA+CtejcNQ2wEGnDXRaJkLAnjbQaQNsM8BnZmZmBkZhQBGuR+F6fzLAnDbQaYNsQMAoXI/C9e87wHoUrkfhsTzA3i+W/GJVGMCdNtBpQ7ddQHTaQKcNtz7A+sWSX6zcQMA+CtejcNQ2wEGnDXRaJkLAnjbQaQNsM8BnZmZmBkZhQBGuR+F6fzLAnDbQaYNsQMAoXI/C9e87wHoUrkfhsTzA3i+W/GJVGMCdNtBpQ7ddQHTaQKcNtz7A+sWSX6zcQMA+CtejcNQ2wEGnDXRaJkLA",
          "dtype": "f8"
         },
         "yaxis": "y3"
        },
        {
         "mode": "lines",
         "name": "Residuos",
         "type": "scatter",
         "x": [
          "2022-02-01T00:00:00.000000000",
          "2022-03-01T00:00:00.000000000",
          "2022-04-01T00:00:00.000000000",
          "2022-05-01T00:00:00.000000000",
          "2022-06-01T00:00:00.000000000",
          "2022-07-01T00:00:00.000000000",
          "2022-08-01T00:00:00.000000000",
          "2022-09-01T00:00:00.000000000",
          "2022-10-01T00:00:00.000000000",
          "2022-11-01T00:00:00.000000000",
          "2022-12-01T00:00:00.000000000",
          "2023-01-01T00:00:00.000000000",
          "2023-02-01T00:00:00.000000000",
          "2023-03-01T00:00:00.000000000",
          "2023-04-01T00:00:00.000000000",
          "2023-05-01T00:00:00.000000000",
          "2023-06-01T00:00:00.000000000",
          "2023-07-01T00:00:00.000000000",
          "2023-08-01T00:00:00.000000000",
          "2023-09-01T00:00:00.000000000",
          "2023-10-01T00:00:00.000000000",
          "2023-11-01T00:00:00.000000000",
          "2023-12-01T00:00:00.000000000",
          "2024-01-01T00:00:00.000000000",
          "2024-02-01T00:00:00.000000000",
          "2024-03-01T00:00:00.000000000",
          "2024-04-01T00:00:00.000000000",
          "2024-05-01T00:00:00.000000000",
          "2024-06-01T00:00:00.000000000",
          "2024-07-01T00:00:00.000000000",
          "2024-08-01T00:00:00.000000000",
          "2024-09-01T00:00:00.000000000",
          "2024-10-01T00:00:00.000000000",
          "2024-11-01T00:00:00.000000000",
          "2024-12-01T00:00:00.000000000",
          "2025-01-01T00:00:00.000000000",
          "2025-02-01T00:00:00.000000000",
          "2025-03-01T00:00:00.000000000",
          "2025-04-01T00:00:00.000000000"
         ],
         "xaxis": "x4",
         "y": {
          "bdata": "AAAAAAAA+H8AAAAAAAD4fwAAAAAAAPh/AAAAAAAA+H8AAAAAAAD4fwAAAAAAAPh/DhEREREQMkD0KFyPwrMgQIwlv1jyCSpAT+F6FK5tJ0DB9ShcD6dMwMwvlvxiDDpAaMkvlvzhMECIJb9Y8n0jwNgGOm2gXjVAAMaSXyw3L0B12kCnTbFSwATXo3A9lh5A2AY6baDqMEBw2kCnDXYuwJyZmZmZpyBA2UCnDXQEJMDe3d3dXYFNQJJfLPnFVzjAWPKLJb9aLsD8xZJfLOcmQJo20GkDqjPAjCW/WPLNK8CEThvodB5TQByW/GLJwxfAyC+W/OI1QMAwIiIiIuAiQD6nDXTayTLAAAAAAAAA+H8AAAAAAAD4fwAAAAAAAPh/AAAAAAAA+H8AAAAAAAD4fwAAAAAAAPh/",
          "dtype": "f8"
         },
         "yaxis": "y4"
        }
       ],
       "layout": {
        "annotations": [
         {
          "font": {
           "size": 16
          },
          "showarrow": false,
          "text": "Original",
          "x": 0.5,
          "xanchor": "center",
          "xref": "paper",
          "y": 1,
          "yanchor": "bottom",
          "yref": "paper"
         },
         {
          "font": {
           "size": 16
          },
          "showarrow": false,
          "text": "Tendencia",
          "x": 0.5,
          "xanchor": "center",
          "xref": "paper",
          "y": 0.71875,
          "yanchor": "bottom",
          "yref": "paper"
         },
         {
          "font": {
           "size": 16
          },
          "showarrow": false,
          "text": "Estacionalidad",
          "x": 0.5,
          "xanchor": "center",
          "xref": "paper",
          "y": 0.4375,
          "yanchor": "bottom",
          "yref": "paper"
         },
         {
          "font": {
           "size": 16
          },
          "showarrow": false,
          "text": "Residuos",
          "x": 0.5,
          "xanchor": "center",
          "xref": "paper",
          "y": 0.15625,
          "yanchor": "bottom",
          "yref": "paper"
         }
        ],
        "height": 800,
        "template": {
         "data": {
          "bar": [
           {
            "error_x": {
             "color": "#2a3f5f"
            },
            "error_y": {
             "color": "#2a3f5f"
            },
            "marker": {
             "line": {
              "color": "#E5ECF6",
              "width": 0.5
             },
             "pattern": {
              "fillmode": "overlay",
              "size": 10,
              "solidity": 0.2
             }
            },
            "type": "bar"
           }
          ],
          "barpolar": [
           {
            "marker": {
             "line": {
              "color": "#E5ECF6",
              "width": 0.5
             },
             "pattern": {
              "fillmode": "overlay",
              "size": 10,
              "solidity": 0.2
             }
            },
            "type": "barpolar"
           }
          ],
          "carpet": [
           {
            "aaxis": {
             "endlinecolor": "#2a3f5f",
             "gridcolor": "white",
             "linecolor": "white",
             "minorgridcolor": "white",
             "startlinecolor": "#2a3f5f"
            },
            "baxis": {
             "endlinecolor": "#2a3f5f",
             "gridcolor": "white",
             "linecolor": "white",
             "minorgridcolor": "white",
             "startlinecolor": "#2a3f5f"
            },
            "type": "carpet"
           }
          ],
          "choropleth": [
           {
            "colorbar": {
             "outlinewidth": 0,
             "ticks": ""
            },
            "type": "choropleth"
           }
          ],
          "contour": [
           {
            "colorbar": {
             "outlinewidth": 0,
             "ticks": ""
            },
            "colorscale": [
             [
              0,
              "#0d0887"
             ],
             [
              0.1111111111111111,
              "#46039f"
             ],
             [
              0.2222222222222222,
              "#7201a8"
             ],
             [
              0.3333333333333333,
              "#9c179e"
             ],
             [
              0.4444444444444444,
              "#bd3786"
             ],
             [
              0.5555555555555556,
              "#d8576b"
             ],
             [
              0.6666666666666666,
              "#ed7953"
             ],
             [
              0.7777777777777778,
              "#fb9f3a"
             ],
             [
              0.8888888888888888,
              "#fdca26"
             ],
             [
              1,
              "#f0f921"
             ]
            ],
            "type": "contour"
           }
          ],
          "contourcarpet": [
           {
            "colorbar": {
             "outlinewidth": 0,
             "ticks": ""
            },
            "type": "contourcarpet"
           }
          ],
          "heatmap": [
           {
            "colorbar": {
             "outlinewidth": 0,
             "ticks": ""
            },
            "colorscale": [
             [
              0,
              "#0d0887"
             ],
             [
              0.1111111111111111,
              "#46039f"
             ],
             [
              0.2222222222222222,
              "#7201a8"
             ],
             [
              0.3333333333333333,
              "#9c179e"
             ],
             [
              0.4444444444444444,
              "#bd3786"
             ],
             [
              0.5555555555555556,
              "#d8576b"
             ],
             [
              0.6666666666666666,
              "#ed7953"
             ],
             [
              0.7777777777777778,
              "#fb9f3a"
             ],
             [
              0.8888888888888888,
              "#fdca26"
             ],
             [
              1,
              "#f0f921"
             ]
            ],
            "type": "heatmap"
           }
          ],
          "histogram": [
           {
            "marker": {
             "pattern": {
              "fillmode": "overlay",
              "size": 10,
              "solidity": 0.2
             }
            },
            "type": "histogram"
           }
          ],
          "histogram2d": [
           {
            "colorbar": {
             "outlinewidth": 0,
             "ticks": ""
            },
            "colorscale": [
             [
              0,
              "#0d0887"
             ],
             [
              0.1111111111111111,
              "#46039f"
             ],
             [
              0.2222222222222222,
              "#7201a8"
             ],
             [
              0.3333333333333333,
              "#9c179e"
             ],
             [
              0.4444444444444444,
              "#bd3786"
             ],
             [
              0.5555555555555556,
              "#d8576b"
             ],
             [
              0.6666666666666666,
              "#ed7953"
             ],
             [
              0.7777777777777778,
              "#fb9f3a"
             ],
             [
              0.8888888888888888,
              "#fdca26"
             ],
             [
              1,
              "#f0f921"
             ]
            ],
            "type": "histogram2d"
           }
          ],
          "histogram2dcontour": [
           {
            "colorbar": {
             "outlinewidth": 0,
             "ticks": ""
            },
            "colorscale": [
             [
              0,
              "#0d0887"
             ],
             [
              0.1111111111111111,
              "#46039f"
             ],
             [
              0.2222222222222222,
              "#7201a8"
             ],
             [
              0.3333333333333333,
              "#9c179e"
             ],
             [
              0.4444444444444444,
              "#bd3786"
             ],
             [
              0.5555555555555556,
              "#d8576b"
             ],
             [
              0.6666666666666666,
              "#ed7953"
             ],
             [
              0.7777777777777778,
              "#fb9f3a"
             ],
             [
              0.8888888888888888,
              "#fdca26"
             ],
             [
              1,
              "#f0f921"
             ]
            ],
            "type": "histogram2dcontour"
           }
          ],
          "mesh3d": [
           {
            "colorbar": {
             "outlinewidth": 0,
             "ticks": ""
            },
            "type": "mesh3d"
           }
          ],
          "parcoords": [
           {
            "line": {
             "colorbar": {
              "outlinewidth": 0,
              "ticks": ""
             }
            },
            "type": "parcoords"
           }
          ],
          "pie": [
           {
            "automargin": true,
            "type": "pie"
           }
          ],
          "scatter": [
           {
            "fillpattern": {
             "fillmode": "overlay",
             "size": 10,
             "solidity": 0.2
            },
            "type": "scatter"
           }
          ],
          "scatter3d": [
           {
            "line": {
             "colorbar": {
              "outlinewidth": 0,
              "ticks": ""
             }
            },
            "marker": {
             "colorbar": {
              "outlinewidth": 0,
              "ticks": ""
             }
            },
            "type": "scatter3d"
           }
          ],
          "scattercarpet": [
           {
            "marker": {
             "colorbar": {
              "outlinewidth": 0,
              "ticks": ""
             }
            },
            "type": "scattercarpet"
           }
          ],
          "scattergeo": [
           {
            "marker": {
             "colorbar": {
              "outlinewidth": 0,
              "ticks": ""
             }
            },
            "type": "scattergeo"
           }
          ],
          "scattergl": [
           {
            "marker": {
             "colorbar": {
              "outlinewidth": 0,
              "ticks": ""
             }
            },
            "type": "scattergl"
           }
          ],
          "scattermap": [
           {
            "marker": {
             "colorbar": {
              "outlinewidth": 0,
              "ticks": ""
             }
            },
            "type": "scattermap"
           }
          ],
          "scattermapbox": [
           {
            "marker": {
             "colorbar": {
              "outlinewidth": 0,
              "ticks": ""
             }
            },
            "type": "scattermapbox"
           }
          ],
          "scatterpolar": [
           {
            "marker": {
             "colorbar": {
              "outlinewidth": 0,
              "ticks": ""
             }
            },
            "type": "scatterpolar"
           }
          ],
          "scatterpolargl": [
           {
            "marker": {
             "colorbar": {
              "outlinewidth": 0,
              "ticks": ""
             }
            },
            "type": "scatterpolargl"
           }
          ],
          "scatterternary": [
           {
            "marker": {
             "colorbar": {
              "outlinewidth": 0,
              "ticks": ""
             }
            },
            "type": "scatterternary"
           }
          ],
          "surface": [
           {
            "colorbar": {
             "outlinewidth": 0,
             "ticks": ""
            },
            "colorscale": [
             [
              0,
              "#0d0887"
             ],
             [
              0.1111111111111111,
              "#46039f"
             ],
             [
              0.2222222222222222,
              "#7201a8"
             ],
             [
              0.3333333333333333,
              "#9c179e"
             ],
             [
              0.4444444444444444,
              "#bd3786"
             ],
             [
              0.5555555555555556,
              "#d8576b"
             ],
             [
              0.6666666666666666,
              "#ed7953"
             ],
             [
              0.7777777777777778,
              "#fb9f3a"
             ],
             [
              0.8888888888888888,
              "#fdca26"
             ],
             [
              1,
              "#f0f921"
             ]
            ],
            "type": "surface"
           }
          ],
          "table": [
           {
            "cells": {
             "fill": {
              "color": "#EBF0F8"
             },
             "line": {
              "color": "white"
             }
            },
            "header": {
             "fill": {
              "color": "#C8D4E3"
             },
             "line": {
              "color": "white"
             }
            },
            "type": "table"
           }
          ]
         },
         "layout": {
          "annotationdefaults": {
           "arrowcolor": "#2a3f5f",
           "arrowhead": 0,
           "arrowwidth": 1
          },
          "autotypenumbers": "strict",
          "coloraxis": {
           "colorbar": {
            "outlinewidth": 0,
            "ticks": ""
           }
          },
          "colorscale": {
           "diverging": [
            [
             0,
             "#8e0152"
            ],
            [
             0.1,
             "#c51b7d"
            ],
            [
             0.2,
             "#de77ae"
            ],
            [
             0.3,
             "#f1b6da"
            ],
            [
             0.4,
             "#fde0ef"
            ],
            [
             0.5,
             "#f7f7f7"
            ],
            [
             0.6,
             "#e6f5d0"
            ],
            [
             0.7,
             "#b8e186"
            ],
            [
             0.8,
             "#7fbc41"
            ],
            [
             0.9,
             "#4d9221"
            ],
            [
             1,
             "#276419"
            ]
           ],
           "sequential": [
            [
             0,
             "#0d0887"
            ],
            [
             0.1111111111111111,
             "#46039f"
            ],
            [
             0.2222222222222222,
             "#7201a8"
            ],
            [
             0.3333333333333333,
             "#9c179e"
            ],
            [
             0.4444444444444444,
             "#bd3786"
            ],
            [
             0.5555555555555556,
             "#d8576b"
            ],
            [
             0.6666666666666666,
             "#ed7953"
            ],
            [
             0.7777777777777778,
             "#fb9f3a"
            ],
            [
             0.8888888888888888,
             "#fdca26"
            ],
            [
             1,
             "#f0f921"
            ]
           ],
           "sequentialminus": [
            [
             0,
             "#0d0887"
            ],
            [
             0.1111111111111111,
             "#46039f"
            ],
            [
             0.2222222222222222,
             "#7201a8"
            ],
            [
             0.3333333333333333,
             "#9c179e"
            ],
            [
             0.4444444444444444,
             "#bd3786"
            ],
            [
             0.5555555555555556,
             "#d8576b"
            ],
            [
             0.6666666666666666,
             "#ed7953"
            ],
            [
             0.7777777777777778,
             "#fb9f3a"
            ],
            [
             0.8888888888888888,
             "#fdca26"
            ],
            [
             1,
             "#f0f921"
            ]
           ]
          },
          "colorway": [
           "#636efa",
           "#EF553B",
           "#00cc96",
           "#ab63fa",
           "#FFA15A",
           "#19d3f3",
           "#FF6692",
           "#B6E880",
           "#FF97FF",
           "#FECB52"
          ],
          "font": {
           "color": "#2a3f5f"
          },
          "geo": {
           "bgcolor": "white",
           "lakecolor": "white",
           "landcolor": "#E5ECF6",
           "showlakes": true,
           "showland": true,
           "subunitcolor": "white"
          },
          "hoverlabel": {
           "align": "left"
          },
          "hovermode": "closest",
          "mapbox": {
           "style": "light"
          },
          "paper_bgcolor": "white",
          "plot_bgcolor": "#E5ECF6",
          "polar": {
           "angularaxis": {
            "gridcolor": "white",
            "linecolor": "white",
            "ticks": ""
           },
           "bgcolor": "#E5ECF6",
           "radialaxis": {
            "gridcolor": "white",
            "linecolor": "white",
            "ticks": ""
           }
          },
          "scene": {
           "xaxis": {
            "backgroundcolor": "#E5ECF6",
            "gridcolor": "white",
            "gridwidth": 2,
            "linecolor": "white",
            "showbackground": true,
            "ticks": "",
            "zerolinecolor": "white"
           },
           "yaxis": {
            "backgroundcolor": "#E5ECF6",
            "gridcolor": "white",
            "gridwidth": 2,
            "linecolor": "white",
            "showbackground": true,
            "ticks": "",
            "zerolinecolor": "white"
           },
           "zaxis": {
            "backgroundcolor": "#E5ECF6",
            "gridcolor": "white",
            "gridwidth": 2,
            "linecolor": "white",
            "showbackground": true,
            "ticks": "",
            "zerolinecolor": "white"
           }
          },
          "shapedefaults": {
           "line": {
            "color": "#2a3f5f"
           }
          },
          "ternary": {
           "aaxis": {
            "gridcolor": "white",
            "linecolor": "white",
            "ticks": ""
           },
           "baxis": {
            "gridcolor": "white",
            "linecolor": "white",
            "ticks": ""
           },
           "bgcolor": "#E5ECF6",
           "caxis": {
            "gridcolor": "white",
            "linecolor": "white",
            "ticks": ""
           }
          },
          "title": {
           "x": 0.05
          },
          "xaxis": {
           "automargin": true,
           "gridcolor": "white",
           "linecolor": "white",
           "ticks": "",
           "title": {
            "standoff": 15
           },
           "zerolinecolor": "white",
           "zerolinewidth": 2
          },
          "yaxis": {
           "automargin": true,
           "gridcolor": "white",
           "linecolor": "white",
           "ticks": "",
           "title": {
            "standoff": 15
           },
           "zerolinecolor": "white",
           "zerolinewidth": 2
          }
         }
        },
        "title": {
         "text": "Descomposición de la Serie Temporal (Additive) para Finance"
        },
        "xaxis": {
         "anchor": "y",
         "domain": [
          0,
          1
         ]
        },
        "xaxis2": {
         "anchor": "y2",
         "domain": [
          0,
          1
         ]
        },
        "xaxis3": {
         "anchor": "y3",
         "domain": [
          0,
          1
         ]
        },
        "xaxis4": {
         "anchor": "y4",
         "domain": [
          0,
          1
         ]
        },
        "yaxis": {
         "anchor": "x",
         "domain": [
          0.84375,
          1
         ]
        },
        "yaxis2": {
         "anchor": "x2",
         "domain": [
          0.5625,
          0.71875
         ]
        },
        "yaxis3": {
         "anchor": "x3",
         "domain": [
          0.28125,
          0.4375
         ]
        },
        "yaxis4": {
         "anchor": "x4",
         "domain": [
          0,
          0.15625
         ]
        }
       }
      }
     },
     "metadata": {},
     "output_type": "display_data"
    },
    {
     "name": "stderr",
     "output_type": "stream",
     "text": [
      "2025-08-14 17:13:17,354 - INFO - Desviación estándar de los residuales aditivos: 21.38\n",
      "2025-08-14 17:13:17,356 - INFO - Desviación estándar de los residuales multiplicativos: 0.18835410543659423\n",
      "2025-08-14 17:13:17,357 - INFO - P-value del test ADF: 0.99\n",
      "2025-08-14 17:13:17,358 - INFO - Criterio de selección: La desviación estándar de los residuos multiplicative es menor.\n",
      "2025-08-14 17:13:17,359 - INFO - El departamento HR tiene una descomposición multiplicative.\n",
      "2025-08-14 17:13:17,356 - INFO - Desviación estándar de los residuales multiplicativos: 0.18835410543659423\n",
      "2025-08-14 17:13:17,357 - INFO - P-value del test ADF: 0.99\n",
      "2025-08-14 17:13:17,358 - INFO - Criterio de selección: La desviación estándar de los residuos multiplicative es menor.\n",
      "2025-08-14 17:13:17,359 - INFO - El departamento HR tiene una descomposición multiplicative.\n"
     ]
    },
    {
     "data": {
      "application/vnd.plotly.v1+json": {
       "config": {
        "plotlyServerURL": "https://plot.ly"
       },
       "data": [
        {
         "mode": "lines",
         "name": "Original",
         "type": "scatter",
         "x": [
          "2022-01-01T00:00:00.000000000",
          "2022-02-01T00:00:00.000000000",
          "2022-03-01T00:00:00.000000000",
          "2022-04-01T00:00:00.000000000",
          "2022-05-01T00:00:00.000000000",
          "2022-06-01T00:00:00.000000000",
          "2022-07-01T00:00:00.000000000",
          "2022-08-01T00:00:00.000000000",
          "2022-09-01T00:00:00.000000000",
          "2022-10-01T00:00:00.000000000",
          "2022-11-01T00:00:00.000000000",
          "2022-12-01T00:00:00.000000000",
          "2023-01-01T00:00:00.000000000",
          "2023-02-01T00:00:00.000000000",
          "2023-03-01T00:00:00.000000000",
          "2023-04-01T00:00:00.000000000",
          "2023-05-01T00:00:00.000000000",
          "2023-06-01T00:00:00.000000000",
          "2023-07-01T00:00:00.000000000",
          "2023-08-01T00:00:00.000000000",
          "2023-09-01T00:00:00.000000000",
          "2023-10-01T00:00:00.000000000",
          "2023-11-01T00:00:00.000000000",
          "2023-12-01T00:00:00.000000000",
          "2024-01-01T00:00:00.000000000",
          "2024-02-01T00:00:00.000000000",
          "2024-03-01T00:00:00.000000000",
          "2024-04-01T00:00:00.000000000",
          "2024-05-01T00:00:00.000000000",
          "2024-06-01T00:00:00.000000000",
          "2024-07-01T00:00:00.000000000",
          "2024-08-01T00:00:00.000000000",
          "2024-09-01T00:00:00.000000000",
          "2024-10-01T00:00:00.000000000",
          "2024-11-01T00:00:00.000000000",
          "2024-12-01T00:00:00.000000000",
          "2025-01-01T00:00:00.000000000",
          "2025-02-01T00:00:00.000000000",
          "2025-03-01T00:00:00.000000000",
          "2025-04-01T00:00:00.000000000"
         ],
         "xaxis": "x",
         "y": {
          "bdata": "16NwPQrXBUCuR+F6FK4DQPYoXI/C9SdAXI/C9SjcJ0CuR+F6FK4xQI/C9ShcH1BAKVyPwvVoOED2KFyPwjUyQClcj8L1CERAcT0K16MwQECF61G4HsU/QOxRuB6F+1lAUrgehetRSkBI4XoUrodAQHE9CtejcEBAhutRuB6lT0DiehSuRyFVQGZmZmZmZmdAMzMzMzPTTECkcD0K1+NLQNejcD0Kt0JAZmZmZmY2U0BSuB6F65FPQOtRuB6FW2lAKVyPwvXoREDMzMzMzOxPQNejcD0K905A4XoUrkeBUECkcD0K10NSQK5H4XoUrnNAuB6F61FIVEAzMzMzMzNXQArXo3A9+ltAuB6F61EoVEApXI/C9RhYQK5H4XoUnnpANDMzMzNzW0DsUbgehbtaQIXrUbgenWBAexSuR+FqV0A=",
          "dtype": "f8"
         },
         "yaxis": "y"
        },
        {
         "mode": "lines",
         "name": "Tendencia",
         "type": "scatter",
         "x": [
          "2022-01-01T00:00:00.000000000",
          "2022-02-01T00:00:00.000000000",
          "2022-03-01T00:00:00.000000000",
          "2022-04-01T00:00:00.000000000",
          "2022-05-01T00:00:00.000000000",
          "2022-06-01T00:00:00.000000000",
          "2022-07-01T00:00:00.000000000",
          "2022-08-01T00:00:00.000000000",
          "2022-09-01T00:00:00.000000000",
          "2022-10-01T00:00:00.000000000",
          "2022-11-01T00:00:00.000000000",
          "2022-12-01T00:00:00.000000000",
          "2023-01-01T00:00:00.000000000",
          "2023-02-01T00:00:00.000000000",
          "2023-03-01T00:00:00.000000000",
          "2023-04-01T00:00:00.000000000",
          "2023-05-01T00:00:00.000000000",
          "2023-06-01T00:00:00.000000000",
          "2023-07-01T00:00:00.000000000",
          "2023-08-01T00:00:00.000000000",
          "2023-09-01T00:00:00.000000000",
          "2023-10-01T00:00:00.000000000",
          "2023-11-01T00:00:00.000000000",
          "2023-12-01T00:00:00.000000000",
          "2024-01-01T00:00:00.000000000",
          "2024-02-01T00:00:00.000000000",
          "2024-03-01T00:00:00.000000000",
          "2024-04-01T00:00:00.000000000",
          "2024-05-01T00:00:00.000000000",
          "2024-06-01T00:00:00.000000000",
          "2024-07-01T00:00:00.000000000",
          "2024-08-01T00:00:00.000000000",
          "2024-09-01T00:00:00.000000000",
          "2024-10-01T00:00:00.000000000",
          "2024-11-01T00:00:00.000000000",
          "2024-12-01T00:00:00.000000000",
          "2025-01-01T00:00:00.000000000",
          "2025-02-01T00:00:00.000000000",
          "2025-03-01T00:00:00.000000000",
          "2025-04-01T00:00:00.000000000"
         ],
         "xaxis": "x2",
         "y": {
          "bdata": "AAAAAAAA+H8AAAAAAAD4fwAAAAAAAPh/AAAAAAAA+H8AAAAAAAD4fwAAAAAAAPh/jCW/WPIfQEBVVVVVVc1BQAAAAAAA4EJAyi+W/GJhREAwlvxiyddGQB+F61G4ykpA2UCnDXQKTkDotIFOG4RPQDMzMzMzH1BAWPKLJb+OUEBiyS+W/FhRQNpApw10tFJABJ020GmfU0CqqqqqqtRTQAnXo3A9dFRAYskvlvzIVECBThvotLFUQNQGOm2g51VAHoXrUbh6V0B02kCnDRxYQMkvlvxiRVlArkfhehQWWkAHOm2g03haQNBpA502JF1A57SBThsWYECW/GLJL6pgQEREREREQmFAkl8s+cXFYUAAAAAAAAD4fwAAAAAAAPh/AAAAAAAA+H8AAAAAAAD4fwAAAAAAAPh/AAAAAAAA+H8=",
          "dtype": "f8"
         },
         "yaxis": "y2"
        },
        {
         "mode": "lines",
         "name": "Estacionalidad",
         "type": "scatter",
         "x": [
          "2022-01-01T00:00:00.000000000",
          "2022-02-01T00:00:00.000000000",
          "2022-03-01T00:00:00.000000000",
          "2022-04-01T00:00:00.000000000",
          "2022-05-01T00:00:00.000000000",
          "2022-06-01T00:00:00.000000000",
          "2022-07-01T00:00:00.000000000",
          "2022-08-01T00:00:00.000000000",
          "2022-09-01T00:00:00.000000000",
          "2022-10-01T00:00:00.000000000",
          "2022-11-01T00:00:00.000000000",
          "2022-12-01T00:00:00.000000000",
          "2023-01-01T00:00:00.000000000",
          "2023-02-01T00:00:00.000000000",
          "2023-03-01T00:00:00.000000000",
          "2023-04-01T00:00:00.000000000",
          "2023-05-01T00:00:00.000000000",
          "2023-06-01T00:00:00.000000000",
          "2023-07-01T00:00:00.000000000",
          "2023-08-01T00:00:00.000000000",
          "2023-09-01T00:00:00.000000000",
          "2023-10-01T00:00:00.000000000",
          "2023-11-01T00:00:00.000000000",
          "2023-12-01T00:00:00.000000000",
          "2024-01-01T00:00:00.000000000",
          "2024-02-01T00:00:00.000000000",
          "2024-03-01T00:00:00.000000000",
          "2024-04-01T00:00:00.000000000",
          "2024-05-01T00:00:00.000000000",
          "2024-06-01T00:00:00.000000000",
          "2024-07-01T00:00:00.000000000",
          "2024-08-01T00:00:00.000000000",
          "2024-09-01T00:00:00.000000000",
          "2024-10-01T00:00:00.000000000",
          "2024-11-01T00:00:00.000000000",
          "2024-12-01T00:00:00.000000000",
          "2025-01-01T00:00:00.000000000",
          "2025-02-01T00:00:00.000000000",
          "2025-03-01T00:00:00.000000000",
          "2025-04-01T00:00:00.000000000"
         ],
         "xaxis": "x3",
         "y": {
          "bdata": "GGMpCB1Q5T/n9dFqUyPjP7IdUajbGuI/eH4kIBSe6T+p9kjiGcbuPzTxZt4U+wRAxJV4Y5jQ5j+3VD56kovkP7kmYcAyDOk/8fE0+w6U6D86Fvp3wYTnP4LN2BUBKAFAGGMpCB1Q5T/n9dFqUyPjP7IdUajbGuI/eH4kIBSe6T+p9kjiGcbuPzTxZt4U+wRAxJV4Y5jQ5j+3VD56kovkP7kmYcAyDOk/8fE0+w6U6D86Fvp3wYTnP4LN2BUBKAFAGGMpCB1Q5T/n9dFqUyPjP7IdUajbGuI/eH4kIBSe6T+p9kjiGcbuPzTxZt4U+wRAxJV4Y5jQ5j+3VD56kovkP7kmYcAyDOk/8fE0+w6U6D86Fvp3wYTnP4LN2BUBKAFAGGMpCB1Q5T/n9dFqUyPjP7IdUajbGuI/eH4kIBSe6T8=",
          "dtype": "f8"
         },
         "yaxis": "y3"
        },
        {
         "mode": "lines",
         "name": "Residuos",
         "type": "scatter",
         "x": [
          "2022-01-01T00:00:00.000000000",
          "2022-02-01T00:00:00.000000000",
          "2022-03-01T00:00:00.000000000",
          "2022-04-01T00:00:00.000000000",
          "2022-05-01T00:00:00.000000000",
          "2022-06-01T00:00:00.000000000",
          "2022-07-01T00:00:00.000000000",
          "2022-08-01T00:00:00.000000000",
          "2022-09-01T00:00:00.000000000",
          "2022-10-01T00:00:00.000000000",
          "2022-11-01T00:00:00.000000000",
          "2022-12-01T00:00:00.000000000",
          "2023-01-01T00:00:00.000000000",
          "2023-02-01T00:00:00.000000000",
          "2023-03-01T00:00:00.000000000",
          "2023-04-01T00:00:00.000000000",
          "2023-05-01T00:00:00.000000000",
          "2023-06-01T00:00:00.000000000",
          "2023-07-01T00:00:00.000000000",
          "2023-08-01T00:00:00.000000000",
          "2023-09-01T00:00:00.000000000",
          "2023-10-01T00:00:00.000000000",
          "2023-11-01T00:00:00.000000000",
          "2023-12-01T00:00:00.000000000",
          "2024-01-01T00:00:00.000000000",
          "2024-02-01T00:00:00.000000000",
          "2024-03-01T00:00:00.000000000",
          "2024-04-01T00:00:00.000000000",
          "2024-05-01T00:00:00.000000000",
          "2024-06-01T00:00:00.000000000",
          "2024-07-01T00:00:00.000000000",
          "2024-08-01T00:00:00.000000000",
          "2024-09-01T00:00:00.000000000",
          "2024-10-01T00:00:00.000000000",
          "2024-11-01T00:00:00.000000000",
          "2024-12-01T00:00:00.000000000",
          "2025-01-01T00:00:00.000000000",
          "2025-02-01T00:00:00.000000000",
          "2025-03-01T00:00:00.000000000",
          "2025-04-01T00:00:00.000000000"
         ],
         "xaxis": "x4",
         "y": {
          "bdata": "AAAAAAAA+H8AAAAAAAD4fwAAAAAAAPh/AAAAAAAA+H8AAAAAAAD4fwAAAAAAAPh/YsT4P3j88D/yFP5f333pP3TRpjKBsvU//JL5VleM8D9bzZoYH0fuP0pWJXgX8ew/YN62uygM9T/RsBMIThDsP14+/bxv1uw/E4B65FgZ8z+T5NNs3EP0P/bowOJah+4/WHGgPp578D/sEC39NIbxP5Zd81n9s+I/zRY+J1dB8z9/4ssUC5vwPwieBuUORvE/mdXEyuNk5T/EcA+dc7bxP/ypmsJiU/E/NJI9eYNK6T8yyYpofPXmP7HUuC/tevA/EXAZ5qJL7D9c0nlEw1jxP4RtBRJokfA//Ifc5nKg5z8AAAAAAAD4fwAAAAAAAPh/AAAAAAAA+H8AAAAAAAD4fwAAAAAAAPh/AAAAAAAA+H8=",
          "dtype": "f8"
         },
         "yaxis": "y4"
        }
       ],
       "layout": {
        "annotations": [
         {
          "font": {
           "size": 16
          },
          "showarrow": false,
          "text": "Original",
          "x": 0.5,
          "xanchor": "center",
          "xref": "paper",
          "y": 1,
          "yanchor": "bottom",
          "yref": "paper"
         },
         {
          "font": {
           "size": 16
          },
          "showarrow": false,
          "text": "Tendencia",
          "x": 0.5,
          "xanchor": "center",
          "xref": "paper",
          "y": 0.71875,
          "yanchor": "bottom",
          "yref": "paper"
         },
         {
          "font": {
           "size": 16
          },
          "showarrow": false,
          "text": "Estacionalidad",
          "x": 0.5,
          "xanchor": "center",
          "xref": "paper",
          "y": 0.4375,
          "yanchor": "bottom",
          "yref": "paper"
         },
         {
          "font": {
           "size": 16
          },
          "showarrow": false,
          "text": "Residuos",
          "x": 0.5,
          "xanchor": "center",
          "xref": "paper",
          "y": 0.15625,
          "yanchor": "bottom",
          "yref": "paper"
         }
        ],
        "height": 800,
        "template": {
         "data": {
          "bar": [
           {
            "error_x": {
             "color": "#2a3f5f"
            },
            "error_y": {
             "color": "#2a3f5f"
            },
            "marker": {
             "line": {
              "color": "#E5ECF6",
              "width": 0.5
             },
             "pattern": {
              "fillmode": "overlay",
              "size": 10,
              "solidity": 0.2
             }
            },
            "type": "bar"
           }
          ],
          "barpolar": [
           {
            "marker": {
             "line": {
              "color": "#E5ECF6",
              "width": 0.5
             },
             "pattern": {
              "fillmode": "overlay",
              "size": 10,
              "solidity": 0.2
             }
            },
            "type": "barpolar"
           }
          ],
          "carpet": [
           {
            "aaxis": {
             "endlinecolor": "#2a3f5f",
             "gridcolor": "white",
             "linecolor": "white",
             "minorgridcolor": "white",
             "startlinecolor": "#2a3f5f"
            },
            "baxis": {
             "endlinecolor": "#2a3f5f",
             "gridcolor": "white",
             "linecolor": "white",
             "minorgridcolor": "white",
             "startlinecolor": "#2a3f5f"
            },
            "type": "carpet"
           }
          ],
          "choropleth": [
           {
            "colorbar": {
             "outlinewidth": 0,
             "ticks": ""
            },
            "type": "choropleth"
           }
          ],
          "contour": [
           {
            "colorbar": {
             "outlinewidth": 0,
             "ticks": ""
            },
            "colorscale": [
             [
              0,
              "#0d0887"
             ],
             [
              0.1111111111111111,
              "#46039f"
             ],
             [
              0.2222222222222222,
              "#7201a8"
             ],
             [
              0.3333333333333333,
              "#9c179e"
             ],
             [
              0.4444444444444444,
              "#bd3786"
             ],
             [
              0.5555555555555556,
              "#d8576b"
             ],
             [
              0.6666666666666666,
              "#ed7953"
             ],
             [
              0.7777777777777778,
              "#fb9f3a"
             ],
             [
              0.8888888888888888,
              "#fdca26"
             ],
             [
              1,
              "#f0f921"
             ]
            ],
            "type": "contour"
           }
          ],
          "contourcarpet": [
           {
            "colorbar": {
             "outlinewidth": 0,
             "ticks": ""
            },
            "type": "contourcarpet"
           }
          ],
          "heatmap": [
           {
            "colorbar": {
             "outlinewidth": 0,
             "ticks": ""
            },
            "colorscale": [
             [
              0,
              "#0d0887"
             ],
             [
              0.1111111111111111,
              "#46039f"
             ],
             [
              0.2222222222222222,
              "#7201a8"
             ],
             [
              0.3333333333333333,
              "#9c179e"
             ],
             [
              0.4444444444444444,
              "#bd3786"
             ],
             [
              0.5555555555555556,
              "#d8576b"
             ],
             [
              0.6666666666666666,
              "#ed7953"
             ],
             [
              0.7777777777777778,
              "#fb9f3a"
             ],
             [
              0.8888888888888888,
              "#fdca26"
             ],
             [
              1,
              "#f0f921"
             ]
            ],
            "type": "heatmap"
           }
          ],
          "histogram": [
           {
            "marker": {
             "pattern": {
              "fillmode": "overlay",
              "size": 10,
              "solidity": 0.2
             }
            },
            "type": "histogram"
           }
          ],
          "histogram2d": [
           {
            "colorbar": {
             "outlinewidth": 0,
             "ticks": ""
            },
            "colorscale": [
             [
              0,
              "#0d0887"
             ],
             [
              0.1111111111111111,
              "#46039f"
             ],
             [
              0.2222222222222222,
              "#7201a8"
             ],
             [
              0.3333333333333333,
              "#9c179e"
             ],
             [
              0.4444444444444444,
              "#bd3786"
             ],
             [
              0.5555555555555556,
              "#d8576b"
             ],
             [
              0.6666666666666666,
              "#ed7953"
             ],
             [
              0.7777777777777778,
              "#fb9f3a"
             ],
             [
              0.8888888888888888,
              "#fdca26"
             ],
             [
              1,
              "#f0f921"
             ]
            ],
            "type": "histogram2d"
           }
          ],
          "histogram2dcontour": [
           {
            "colorbar": {
             "outlinewidth": 0,
             "ticks": ""
            },
            "colorscale": [
             [
              0,
              "#0d0887"
             ],
             [
              0.1111111111111111,
              "#46039f"
             ],
             [
              0.2222222222222222,
              "#7201a8"
             ],
             [
              0.3333333333333333,
              "#9c179e"
             ],
             [
              0.4444444444444444,
              "#bd3786"
             ],
             [
              0.5555555555555556,
              "#d8576b"
             ],
             [
              0.6666666666666666,
              "#ed7953"
             ],
             [
              0.7777777777777778,
              "#fb9f3a"
             ],
             [
              0.8888888888888888,
              "#fdca26"
             ],
             [
              1,
              "#f0f921"
             ]
            ],
            "type": "histogram2dcontour"
           }
          ],
          "mesh3d": [
           {
            "colorbar": {
             "outlinewidth": 0,
             "ticks": ""
            },
            "type": "mesh3d"
           }
          ],
          "parcoords": [
           {
            "line": {
             "colorbar": {
              "outlinewidth": 0,
              "ticks": ""
             }
            },
            "type": "parcoords"
           }
          ],
          "pie": [
           {
            "automargin": true,
            "type": "pie"
           }
          ],
          "scatter": [
           {
            "fillpattern": {
             "fillmode": "overlay",
             "size": 10,
             "solidity": 0.2
            },
            "type": "scatter"
           }
          ],
          "scatter3d": [
           {
            "line": {
             "colorbar": {
              "outlinewidth": 0,
              "ticks": ""
             }
            },
            "marker": {
             "colorbar": {
              "outlinewidth": 0,
              "ticks": ""
             }
            },
            "type": "scatter3d"
           }
          ],
          "scattercarpet": [
           {
            "marker": {
             "colorbar": {
              "outlinewidth": 0,
              "ticks": ""
             }
            },
            "type": "scattercarpet"
           }
          ],
          "scattergeo": [
           {
            "marker": {
             "colorbar": {
              "outlinewidth": 0,
              "ticks": ""
             }
            },
            "type": "scattergeo"
           }
          ],
          "scattergl": [
           {
            "marker": {
             "colorbar": {
              "outlinewidth": 0,
              "ticks": ""
             }
            },
            "type": "scattergl"
           }
          ],
          "scattermap": [
           {
            "marker": {
             "colorbar": {
              "outlinewidth": 0,
              "ticks": ""
             }
            },
            "type": "scattermap"
           }
          ],
          "scattermapbox": [
           {
            "marker": {
             "colorbar": {
              "outlinewidth": 0,
              "ticks": ""
             }
            },
            "type": "scattermapbox"
           }
          ],
          "scatterpolar": [
           {
            "marker": {
             "colorbar": {
              "outlinewidth": 0,
              "ticks": ""
             }
            },
            "type": "scatterpolar"
           }
          ],
          "scatterpolargl": [
           {
            "marker": {
             "colorbar": {
              "outlinewidth": 0,
              "ticks": ""
             }
            },
            "type": "scatterpolargl"
           }
          ],
          "scatterternary": [
           {
            "marker": {
             "colorbar": {
              "outlinewidth": 0,
              "ticks": ""
             }
            },
            "type": "scatterternary"
           }
          ],
          "surface": [
           {
            "colorbar": {
             "outlinewidth": 0,
             "ticks": ""
            },
            "colorscale": [
             [
              0,
              "#0d0887"
             ],
             [
              0.1111111111111111,
              "#46039f"
             ],
             [
              0.2222222222222222,
              "#7201a8"
             ],
             [
              0.3333333333333333,
              "#9c179e"
             ],
             [
              0.4444444444444444,
              "#bd3786"
             ],
             [
              0.5555555555555556,
              "#d8576b"
             ],
             [
              0.6666666666666666,
              "#ed7953"
             ],
             [
              0.7777777777777778,
              "#fb9f3a"
             ],
             [
              0.8888888888888888,
              "#fdca26"
             ],
             [
              1,
              "#f0f921"
             ]
            ],
            "type": "surface"
           }
          ],
          "table": [
           {
            "cells": {
             "fill": {
              "color": "#EBF0F8"
             },
             "line": {
              "color": "white"
             }
            },
            "header": {
             "fill": {
              "color": "#C8D4E3"
             },
             "line": {
              "color": "white"
             }
            },
            "type": "table"
           }
          ]
         },
         "layout": {
          "annotationdefaults": {
           "arrowcolor": "#2a3f5f",
           "arrowhead": 0,
           "arrowwidth": 1
          },
          "autotypenumbers": "strict",
          "coloraxis": {
           "colorbar": {
            "outlinewidth": 0,
            "ticks": ""
           }
          },
          "colorscale": {
           "diverging": [
            [
             0,
             "#8e0152"
            ],
            [
             0.1,
             "#c51b7d"
            ],
            [
             0.2,
             "#de77ae"
            ],
            [
             0.3,
             "#f1b6da"
            ],
            [
             0.4,
             "#fde0ef"
            ],
            [
             0.5,
             "#f7f7f7"
            ],
            [
             0.6,
             "#e6f5d0"
            ],
            [
             0.7,
             "#b8e186"
            ],
            [
             0.8,
             "#7fbc41"
            ],
            [
             0.9,
             "#4d9221"
            ],
            [
             1,
             "#276419"
            ]
           ],
           "sequential": [
            [
             0,
             "#0d0887"
            ],
            [
             0.1111111111111111,
             "#46039f"
            ],
            [
             0.2222222222222222,
             "#7201a8"
            ],
            [
             0.3333333333333333,
             "#9c179e"
            ],
            [
             0.4444444444444444,
             "#bd3786"
            ],
            [
             0.5555555555555556,
             "#d8576b"
            ],
            [
             0.6666666666666666,
             "#ed7953"
            ],
            [
             0.7777777777777778,
             "#fb9f3a"
            ],
            [
             0.8888888888888888,
             "#fdca26"
            ],
            [
             1,
             "#f0f921"
            ]
           ],
           "sequentialminus": [
            [
             0,
             "#0d0887"
            ],
            [
             0.1111111111111111,
             "#46039f"
            ],
            [
             0.2222222222222222,
             "#7201a8"
            ],
            [
             0.3333333333333333,
             "#9c179e"
            ],
            [
             0.4444444444444444,
             "#bd3786"
            ],
            [
             0.5555555555555556,
             "#d8576b"
            ],
            [
             0.6666666666666666,
             "#ed7953"
            ],
            [
             0.7777777777777778,
             "#fb9f3a"
            ],
            [
             0.8888888888888888,
             "#fdca26"
            ],
            [
             1,
             "#f0f921"
            ]
           ]
          },
          "colorway": [
           "#636efa",
           "#EF553B",
           "#00cc96",
           "#ab63fa",
           "#FFA15A",
           "#19d3f3",
           "#FF6692",
           "#B6E880",
           "#FF97FF",
           "#FECB52"
          ],
          "font": {
           "color": "#2a3f5f"
          },
          "geo": {
           "bgcolor": "white",
           "lakecolor": "white",
           "landcolor": "#E5ECF6",
           "showlakes": true,
           "showland": true,
           "subunitcolor": "white"
          },
          "hoverlabel": {
           "align": "left"
          },
          "hovermode": "closest",
          "mapbox": {
           "style": "light"
          },
          "paper_bgcolor": "white",
          "plot_bgcolor": "#E5ECF6",
          "polar": {
           "angularaxis": {
            "gridcolor": "white",
            "linecolor": "white",
            "ticks": ""
           },
           "bgcolor": "#E5ECF6",
           "radialaxis": {
            "gridcolor": "white",
            "linecolor": "white",
            "ticks": ""
           }
          },
          "scene": {
           "xaxis": {
            "backgroundcolor": "#E5ECF6",
            "gridcolor": "white",
            "gridwidth": 2,
            "linecolor": "white",
            "showbackground": true,
            "ticks": "",
            "zerolinecolor": "white"
           },
           "yaxis": {
            "backgroundcolor": "#E5ECF6",
            "gridcolor": "white",
            "gridwidth": 2,
            "linecolor": "white",
            "showbackground": true,
            "ticks": "",
            "zerolinecolor": "white"
           },
           "zaxis": {
            "backgroundcolor": "#E5ECF6",
            "gridcolor": "white",
            "gridwidth": 2,
            "linecolor": "white",
            "showbackground": true,
            "ticks": "",
            "zerolinecolor": "white"
           }
          },
          "shapedefaults": {
           "line": {
            "color": "#2a3f5f"
           }
          },
          "ternary": {
           "aaxis": {
            "gridcolor": "white",
            "linecolor": "white",
            "ticks": ""
           },
           "baxis": {
            "gridcolor": "white",
            "linecolor": "white",
            "ticks": ""
           },
           "bgcolor": "#E5ECF6",
           "caxis": {
            "gridcolor": "white",
            "linecolor": "white",
            "ticks": ""
           }
          },
          "title": {
           "x": 0.05
          },
          "xaxis": {
           "automargin": true,
           "gridcolor": "white",
           "linecolor": "white",
           "ticks": "",
           "title": {
            "standoff": 15
           },
           "zerolinecolor": "white",
           "zerolinewidth": 2
          },
          "yaxis": {
           "automargin": true,
           "gridcolor": "white",
           "linecolor": "white",
           "ticks": "",
           "title": {
            "standoff": 15
           },
           "zerolinecolor": "white",
           "zerolinewidth": 2
          }
         }
        },
        "title": {
         "text": "Descomposición de la Serie Temporal (Multiplicative) para HR"
        },
        "xaxis": {
         "anchor": "y",
         "domain": [
          0,
          1
         ]
        },
        "xaxis2": {
         "anchor": "y2",
         "domain": [
          0,
          1
         ]
        },
        "xaxis3": {
         "anchor": "y3",
         "domain": [
          0,
          1
         ]
        },
        "xaxis4": {
         "anchor": "y4",
         "domain": [
          0,
          1
         ]
        },
        "yaxis": {
         "anchor": "x",
         "domain": [
          0.84375,
          1
         ]
        },
        "yaxis2": {
         "anchor": "x2",
         "domain": [
          0.5625,
          0.71875
         ]
        },
        "yaxis3": {
         "anchor": "x3",
         "domain": [
          0.28125,
          0.4375
         ]
        },
        "yaxis4": {
         "anchor": "x4",
         "domain": [
          0,
          0.15625
         ]
        }
       }
      }
     },
     "metadata": {},
     "output_type": "display_data"
    },
    {
     "name": "stderr",
     "output_type": "stream",
     "text": [
      "2025-08-14 17:13:17,481 - INFO - Desviación estándar de los residuales aditivos: 24.20\n",
      "2025-08-14 17:13:17,483 - INFO - Desviación estándar de los residuales multiplicativos: 0.1301486444030368\n",
      "2025-08-14 17:13:17,485 - INFO - P-value del test ADF: 0.96\n",
      "2025-08-14 17:13:17,486 - INFO - Criterio de selección: La desviación estándar de los residuos multiplicative es menor.\n",
      "2025-08-14 17:13:17,490 - INFO - El departamento IT tiene una descomposición multiplicative.\n",
      "2025-08-14 17:13:17,483 - INFO - Desviación estándar de los residuales multiplicativos: 0.1301486444030368\n",
      "2025-08-14 17:13:17,485 - INFO - P-value del test ADF: 0.96\n",
      "2025-08-14 17:13:17,486 - INFO - Criterio de selección: La desviación estándar de los residuos multiplicative es menor.\n",
      "2025-08-14 17:13:17,490 - INFO - El departamento IT tiene una descomposición multiplicative.\n"
     ]
    },
    {
     "data": {
      "application/vnd.plotly.v1+json": {
       "config": {
        "plotlyServerURL": "https://plot.ly"
       },
       "data": [
        {
         "mode": "lines",
         "name": "Original",
         "type": "scatter",
         "x": [
          "2022-01-01T00:00:00.000000000",
          "2022-02-01T00:00:00.000000000",
          "2022-03-01T00:00:00.000000000",
          "2022-04-01T00:00:00.000000000",
          "2022-05-01T00:00:00.000000000",
          "2022-06-01T00:00:00.000000000",
          "2022-07-01T00:00:00.000000000",
          "2022-08-01T00:00:00.000000000",
          "2022-09-01T00:00:00.000000000",
          "2022-10-01T00:00:00.000000000",
          "2022-11-01T00:00:00.000000000",
          "2022-12-01T00:00:00.000000000",
          "2023-01-01T00:00:00.000000000",
          "2023-02-01T00:00:00.000000000",
          "2023-03-01T00:00:00.000000000",
          "2023-04-01T00:00:00.000000000",
          "2023-05-01T00:00:00.000000000",
          "2023-06-01T00:00:00.000000000",
          "2023-07-01T00:00:00.000000000",
          "2023-08-01T00:00:00.000000000",
          "2023-09-01T00:00:00.000000000",
          "2023-10-01T00:00:00.000000000",
          "2023-11-01T00:00:00.000000000",
          "2023-12-01T00:00:00.000000000",
          "2024-01-01T00:00:00.000000000",
          "2024-02-01T00:00:00.000000000",
          "2024-03-01T00:00:00.000000000",
          "2024-04-01T00:00:00.000000000",
          "2024-05-01T00:00:00.000000000",
          "2024-06-01T00:00:00.000000000",
          "2024-07-01T00:00:00.000000000",
          "2024-08-01T00:00:00.000000000",
          "2024-09-01T00:00:00.000000000",
          "2024-10-01T00:00:00.000000000",
          "2024-11-01T00:00:00.000000000",
          "2024-12-01T00:00:00.000000000",
          "2025-01-01T00:00:00.000000000",
          "2025-02-01T00:00:00.000000000",
          "2025-03-01T00:00:00.000000000",
          "2025-04-01T00:00:00.000000000"
         ],
         "xaxis": "x",
         "y": {
          "bdata": "4XoUrkfhCEBSuB6F61EnQBSuR+F6FBNAAAAAAADAP0A9CtejcP1EQClcj8L1EGNAwvUoXI/iS0AUrkfhejRPQJmZmZmZeUVAH4XrUbgOVECuR+F6FH5XQD4K16NwRW5A4XoUrkdBVkA9CtejcA1WQIXrUbgehVBAKVyPwvUAYUAUrkfherRgQDMzMzMzP3RAmpmZmZlRY0A+CtejcMVgQML1KFyP2mBAexSuR+FaZEAAAAAAAEBdQIXrUbgenXpAZmZmZmZmX0B7FK5H4bpjQLgehetREGhAZmZmZmaOZUAK16NwPQJlQDMzMzMzc31ASOF6FK6HZUBSuB6F6yFoQPYoXI/C1WlArkfhehT+a0C4HoXrUbhjQOtRuB6FqYNA7FG4HoXDZkC4HoXrUfBmQGZmZmZm8nNA4noUrke5b0A=",
          "dtype": "f8"
         },
         "yaxis": "y"
        },
        {
         "mode": "lines",
         "name": "Tendencia",
         "type": "scatter",
         "x": [
          "2022-01-01T00:00:00.000000000",
          "2022-02-01T00:00:00.000000000",
          "2022-03-01T00:00:00.000000000",
          "2022-04-01T00:00:00.000000000",
          "2022-05-01T00:00:00.000000000",
          "2022-06-01T00:00:00.000000000",
          "2022-07-01T00:00:00.000000000",
          "2022-08-01T00:00:00.000000000",
          "2022-09-01T00:00:00.000000000",
          "2022-10-01T00:00:00.000000000",
          "2022-11-01T00:00:00.000000000",
          "2022-12-01T00:00:00.000000000",
          "2023-01-01T00:00:00.000000000",
          "2023-02-01T00:00:00.000000000",
          "2023-03-01T00:00:00.000000000",
          "2023-04-01T00:00:00.000000000",
          "2023-05-01T00:00:00.000000000",
          "2023-06-01T00:00:00.000000000",
          "2023-07-01T00:00:00.000000000",
          "2023-08-01T00:00:00.000000000",
          "2023-09-01T00:00:00.000000000",
          "2023-10-01T00:00:00.000000000",
          "2023-11-01T00:00:00.000000000",
          "2023-12-01T00:00:00.000000000",
          "2024-01-01T00:00:00.000000000",
          "2024-02-01T00:00:00.000000000",
          "2024-03-01T00:00:00.000000000",
          "2024-04-01T00:00:00.000000000",
          "2024-05-01T00:00:00.000000000",
          "2024-06-01T00:00:00.000000000",
          "2024-07-01T00:00:00.000000000",
          "2024-08-01T00:00:00.000000000",
          "2024-09-01T00:00:00.000000000",
          "2024-10-01T00:00:00.000000000",
          "2024-11-01T00:00:00.000000000",
          "2024-12-01T00:00:00.000000000",
          "2025-01-01T00:00:00.000000000",
          "2025-02-01T00:00:00.000000000",
          "2025-03-01T00:00:00.000000000",
          "2025-04-01T00:00:00.000000000"
         ],
         "xaxis": "x2",
         "y": {
          "bdata": "AAAAAAAA+H8AAAAAAAD4fwAAAAAAAPh/AAAAAAAA+H8AAAAAAAD4fwAAAAAAAPh/OW2g0wYMUkCnDXTaQL1TQHsUrkfhLFVA2kCnDXTmVkAoXI/C9fBYQE0b6LSBrltA1qNwPQp/XkC1gU4b6CJgQEt+seQX/WBAWfKLJb/lYUCamZmZmXJiQPnFkl8shmNAaQOdNtCrZECf0wY6bTllQKRwPQrXPmZAxpJfLPkXZ0A8CtejcHZnQEfhehSuaGhAmpmZmZlEaUCAThvotKppQDptoNMGWWpAfrHkF0sKa0DotIFOG5JrQDbQaQOd12xAhOtRuB4ybkDkF0t+sZ9uQJJfLPnFam9A16NwPQpAcEAAAAAAAAD4fwAAAAAAAPh/AAAAAAAA+H8AAAAAAAD4fwAAAAAAAPh/AAAAAAAA+H8=",
          "dtype": "f8"
         },
         "yaxis": "y2"
        },
        {
         "mode": "lines",
         "name": "Estacionalidad",
         "type": "scatter",
         "x": [
          "2022-01-01T00:00:00.000000000",
          "2022-02-01T00:00:00.000000000",
          "2022-03-01T00:00:00.000000000",
          "2022-04-01T00:00:00.000000000",
          "2022-05-01T00:00:00.000000000",
          "2022-06-01T00:00:00.000000000",
          "2022-07-01T00:00:00.000000000",
          "2022-08-01T00:00:00.000000000",
          "2022-09-01T00:00:00.000000000",
          "2022-10-01T00:00:00.000000000",
          "2022-11-01T00:00:00.000000000",
          "2022-12-01T00:00:00.000000000",
          "2023-01-01T00:00:00.000000000",
          "2023-02-01T00:00:00.000000000",
          "2023-03-01T00:00:00.000000000",
          "2023-04-01T00:00:00.000000000",
          "2023-05-01T00:00:00.000000000",
          "2023-06-01T00:00:00.000000000",
          "2023-07-01T00:00:00.000000000",
          "2023-08-01T00:00:00.000000000",
          "2023-09-01T00:00:00.000000000",
          "2023-10-01T00:00:00.000000000",
          "2023-11-01T00:00:00.000000000",
          "2023-12-01T00:00:00.000000000",
          "2024-01-01T00:00:00.000000000",
          "2024-02-01T00:00:00.000000000",
          "2024-03-01T00:00:00.000000000",
          "2024-04-01T00:00:00.000000000",
          "2024-05-01T00:00:00.000000000",
          "2024-06-01T00:00:00.000000000",
          "2024-07-01T00:00:00.000000000",
          "2024-08-01T00:00:00.000000000",
          "2024-09-01T00:00:00.000000000",
          "2024-10-01T00:00:00.000000000",
          "2024-11-01T00:00:00.000000000",
          "2024-12-01T00:00:00.000000000",
          "2025-01-01T00:00:00.000000000",
          "2025-02-01T00:00:00.000000000",
          "2025-03-01T00:00:00.000000000",
          "2025-04-01T00:00:00.000000000"
         ],
         "xaxis": "x3",
         "y": {
          "bdata": "ujhgqfye5T839zFTYzznP5enkMZWZeY/3YegIub16z+bKxfJR6/qP6GQfqKidwBA8I+W3q7R6T+AcdEBBEXpP97h4yXfQ+Y/brA/W5bv6z8FgLbjQAzpP7JHeuBJeQFAujhgqfye5T839zFTYzznP5enkMZWZeY/3YegIub16z+bKxfJR6/qP6GQfqKidwBA8I+W3q7R6T+AcdEBBEXpP97h4yXfQ+Y/brA/W5bv6z8FgLbjQAzpP7JHeuBJeQFAujhgqfye5T839zFTYzznP5enkMZWZeY/3YegIub16z+bKxfJR6/qP6GQfqKidwBA8I+W3q7R6T+AcdEBBEXpP97h4yXfQ+Y/brA/W5bv6z8FgLbjQAzpP7JHeuBJeQFAujhgqfye5T839zFTYzznP5enkMZWZeY/3YegIub16z8=",
          "dtype": "f8"
         },
         "yaxis": "y3"
        },
        {
         "mode": "lines",
         "name": "Residuos",
         "type": "scatter",
         "x": [
          "2022-01-01T00:00:00.000000000",
          "2022-02-01T00:00:00.000000000",
          "2022-03-01T00:00:00.000000000",
          "2022-04-01T00:00:00.000000000",
          "2022-05-01T00:00:00.000000000",
          "2022-06-01T00:00:00.000000000",
          "2022-07-01T00:00:00.000000000",
          "2022-08-01T00:00:00.000000000",
          "2022-09-01T00:00:00.000000000",
          "2022-10-01T00:00:00.000000000",
          "2022-11-01T00:00:00.000000000",
          "2022-12-01T00:00:00.000000000",
          "2023-01-01T00:00:00.000000000",
          "2023-02-01T00:00:00.000000000",
          "2023-03-01T00:00:00.000000000",
          "2023-04-01T00:00:00.000000000",
          "2023-05-01T00:00:00.000000000",
          "2023-06-01T00:00:00.000000000",
          "2023-07-01T00:00:00.000000000",
          "2023-08-01T00:00:00.000000000",
          "2023-09-01T00:00:00.000000000",
          "2023-10-01T00:00:00.000000000",
          "2023-11-01T00:00:00.000000000",
          "2023-12-01T00:00:00.000000000",
          "2024-01-01T00:00:00.000000000",
          "2024-02-01T00:00:00.000000000",
          "2024-03-01T00:00:00.000000000",
          "2024-04-01T00:00:00.000000000",
          "2024-05-01T00:00:00.000000000",
          "2024-06-01T00:00:00.000000000",
          "2024-07-01T00:00:00.000000000",
          "2024-08-01T00:00:00.000000000",
          "2024-09-01T00:00:00.000000000",
          "2024-10-01T00:00:00.000000000",
          "2024-11-01T00:00:00.000000000",
          "2024-12-01T00:00:00.000000000",
          "2025-01-01T00:00:00.000000000",
          "2025-02-01T00:00:00.000000000",
          "2025-03-01T00:00:00.000000000",
          "2025-04-01T00:00:00.000000000"
         ],
         "xaxis": "x4",
         "y": {
          "bdata": "AAAAAAAA+H8AAAAAAAD4fwAAAAAAAPh/AAAAAAAA+H8AAAAAAAD4fwAAAAAAAPh/LHPo1fWj7j8kjjoN6gPwP2+OgagwUuc/XJ3d5HUN8D9jczgM50DzP/Vhg+pjBfA/lBswQf5H8T9ZuzmXFh3uPz6T+KkQO+Y/iGD0P6tl8T8SS15H4V/xPz7nswMWH/A/mhyAMW2I8j+lswlOrALwP327YP0MbPE/Y4TxL3sn8D/FfCjTm3vpP52fkhai8u8/ZSw5aW1t7T8Z1C+qKfDwPyZo0KAs4fQ/e6KwaxMy7T9nzdxcpz3tPw+VMeQ9v+8/8Gh9qE5H7D/Bkd0q8u7vP/SHER/q6PI/1NHHtzyS7z8AAAAAAAD4fwAAAAAAAPh/AAAAAAAA+H8AAAAAAAD4fwAAAAAAAPh/AAAAAAAA+H8=",
          "dtype": "f8"
         },
         "yaxis": "y4"
        }
       ],
       "layout": {
        "annotations": [
         {
          "font": {
           "size": 16
          },
          "showarrow": false,
          "text": "Original",
          "x": 0.5,
          "xanchor": "center",
          "xref": "paper",
          "y": 1,
          "yanchor": "bottom",
          "yref": "paper"
         },
         {
          "font": {
           "size": 16
          },
          "showarrow": false,
          "text": "Tendencia",
          "x": 0.5,
          "xanchor": "center",
          "xref": "paper",
          "y": 0.71875,
          "yanchor": "bottom",
          "yref": "paper"
         },
         {
          "font": {
           "size": 16
          },
          "showarrow": false,
          "text": "Estacionalidad",
          "x": 0.5,
          "xanchor": "center",
          "xref": "paper",
          "y": 0.4375,
          "yanchor": "bottom",
          "yref": "paper"
         },
         {
          "font": {
           "size": 16
          },
          "showarrow": false,
          "text": "Residuos",
          "x": 0.5,
          "xanchor": "center",
          "xref": "paper",
          "y": 0.15625,
          "yanchor": "bottom",
          "yref": "paper"
         }
        ],
        "height": 800,
        "template": {
         "data": {
          "bar": [
           {
            "error_x": {
             "color": "#2a3f5f"
            },
            "error_y": {
             "color": "#2a3f5f"
            },
            "marker": {
             "line": {
              "color": "#E5ECF6",
              "width": 0.5
             },
             "pattern": {
              "fillmode": "overlay",
              "size": 10,
              "solidity": 0.2
             }
            },
            "type": "bar"
           }
          ],
          "barpolar": [
           {
            "marker": {
             "line": {
              "color": "#E5ECF6",
              "width": 0.5
             },
             "pattern": {
              "fillmode": "overlay",
              "size": 10,
              "solidity": 0.2
             }
            },
            "type": "barpolar"
           }
          ],
          "carpet": [
           {
            "aaxis": {
             "endlinecolor": "#2a3f5f",
             "gridcolor": "white",
             "linecolor": "white",
             "minorgridcolor": "white",
             "startlinecolor": "#2a3f5f"
            },
            "baxis": {
             "endlinecolor": "#2a3f5f",
             "gridcolor": "white",
             "linecolor": "white",
             "minorgridcolor": "white",
             "startlinecolor": "#2a3f5f"
            },
            "type": "carpet"
           }
          ],
          "choropleth": [
           {
            "colorbar": {
             "outlinewidth": 0,
             "ticks": ""
            },
            "type": "choropleth"
           }
          ],
          "contour": [
           {
            "colorbar": {
             "outlinewidth": 0,
             "ticks": ""
            },
            "colorscale": [
             [
              0,
              "#0d0887"
             ],
             [
              0.1111111111111111,
              "#46039f"
             ],
             [
              0.2222222222222222,
              "#7201a8"
             ],
             [
              0.3333333333333333,
              "#9c179e"
             ],
             [
              0.4444444444444444,
              "#bd3786"
             ],
             [
              0.5555555555555556,
              "#d8576b"
             ],
             [
              0.6666666666666666,
              "#ed7953"
             ],
             [
              0.7777777777777778,
              "#fb9f3a"
             ],
             [
              0.8888888888888888,
              "#fdca26"
             ],
             [
              1,
              "#f0f921"
             ]
            ],
            "type": "contour"
           }
          ],
          "contourcarpet": [
           {
            "colorbar": {
             "outlinewidth": 0,
             "ticks": ""
            },
            "type": "contourcarpet"
           }
          ],
          "heatmap": [
           {
            "colorbar": {
             "outlinewidth": 0,
             "ticks": ""
            },
            "colorscale": [
             [
              0,
              "#0d0887"
             ],
             [
              0.1111111111111111,
              "#46039f"
             ],
             [
              0.2222222222222222,
              "#7201a8"
             ],
             [
              0.3333333333333333,
              "#9c179e"
             ],
             [
              0.4444444444444444,
              "#bd3786"
             ],
             [
              0.5555555555555556,
              "#d8576b"
             ],
             [
              0.6666666666666666,
              "#ed7953"
             ],
             [
              0.7777777777777778,
              "#fb9f3a"
             ],
             [
              0.8888888888888888,
              "#fdca26"
             ],
             [
              1,
              "#f0f921"
             ]
            ],
            "type": "heatmap"
           }
          ],
          "histogram": [
           {
            "marker": {
             "pattern": {
              "fillmode": "overlay",
              "size": 10,
              "solidity": 0.2
             }
            },
            "type": "histogram"
           }
          ],
          "histogram2d": [
           {
            "colorbar": {
             "outlinewidth": 0,
             "ticks": ""
            },
            "colorscale": [
             [
              0,
              "#0d0887"
             ],
             [
              0.1111111111111111,
              "#46039f"
             ],
             [
              0.2222222222222222,
              "#7201a8"
             ],
             [
              0.3333333333333333,
              "#9c179e"
             ],
             [
              0.4444444444444444,
              "#bd3786"
             ],
             [
              0.5555555555555556,
              "#d8576b"
             ],
             [
              0.6666666666666666,
              "#ed7953"
             ],
             [
              0.7777777777777778,
              "#fb9f3a"
             ],
             [
              0.8888888888888888,
              "#fdca26"
             ],
             [
              1,
              "#f0f921"
             ]
            ],
            "type": "histogram2d"
           }
          ],
          "histogram2dcontour": [
           {
            "colorbar": {
             "outlinewidth": 0,
             "ticks": ""
            },
            "colorscale": [
             [
              0,
              "#0d0887"
             ],
             [
              0.1111111111111111,
              "#46039f"
             ],
             [
              0.2222222222222222,
              "#7201a8"
             ],
             [
              0.3333333333333333,
              "#9c179e"
             ],
             [
              0.4444444444444444,
              "#bd3786"
             ],
             [
              0.5555555555555556,
              "#d8576b"
             ],
             [
              0.6666666666666666,
              "#ed7953"
             ],
             [
              0.7777777777777778,
              "#fb9f3a"
             ],
             [
              0.8888888888888888,
              "#fdca26"
             ],
             [
              1,
              "#f0f921"
             ]
            ],
            "type": "histogram2dcontour"
           }
          ],
          "mesh3d": [
           {
            "colorbar": {
             "outlinewidth": 0,
             "ticks": ""
            },
            "type": "mesh3d"
           }
          ],
          "parcoords": [
           {
            "line": {
             "colorbar": {
              "outlinewidth": 0,
              "ticks": ""
             }
            },
            "type": "parcoords"
           }
          ],
          "pie": [
           {
            "automargin": true,
            "type": "pie"
           }
          ],
          "scatter": [
           {
            "fillpattern": {
             "fillmode": "overlay",
             "size": 10,
             "solidity": 0.2
            },
            "type": "scatter"
           }
          ],
          "scatter3d": [
           {
            "line": {
             "colorbar": {
              "outlinewidth": 0,
              "ticks": ""
             }
            },
            "marker": {
             "colorbar": {
              "outlinewidth": 0,
              "ticks": ""
             }
            },
            "type": "scatter3d"
           }
          ],
          "scattercarpet": [
           {
            "marker": {
             "colorbar": {
              "outlinewidth": 0,
              "ticks": ""
             }
            },
            "type": "scattercarpet"
           }
          ],
          "scattergeo": [
           {
            "marker": {
             "colorbar": {
              "outlinewidth": 0,
              "ticks": ""
             }
            },
            "type": "scattergeo"
           }
          ],
          "scattergl": [
           {
            "marker": {
             "colorbar": {
              "outlinewidth": 0,
              "ticks": ""
             }
            },
            "type": "scattergl"
           }
          ],
          "scattermap": [
           {
            "marker": {
             "colorbar": {
              "outlinewidth": 0,
              "ticks": ""
             }
            },
            "type": "scattermap"
           }
          ],
          "scattermapbox": [
           {
            "marker": {
             "colorbar": {
              "outlinewidth": 0,
              "ticks": ""
             }
            },
            "type": "scattermapbox"
           }
          ],
          "scatterpolar": [
           {
            "marker": {
             "colorbar": {
              "outlinewidth": 0,
              "ticks": ""
             }
            },
            "type": "scatterpolar"
           }
          ],
          "scatterpolargl": [
           {
            "marker": {
             "colorbar": {
              "outlinewidth": 0,
              "ticks": ""
             }
            },
            "type": "scatterpolargl"
           }
          ],
          "scatterternary": [
           {
            "marker": {
             "colorbar": {
              "outlinewidth": 0,
              "ticks": ""
             }
            },
            "type": "scatterternary"
           }
          ],
          "surface": [
           {
            "colorbar": {
             "outlinewidth": 0,
             "ticks": ""
            },
            "colorscale": [
             [
              0,
              "#0d0887"
             ],
             [
              0.1111111111111111,
              "#46039f"
             ],
             [
              0.2222222222222222,
              "#7201a8"
             ],
             [
              0.3333333333333333,
              "#9c179e"
             ],
             [
              0.4444444444444444,
              "#bd3786"
             ],
             [
              0.5555555555555556,
              "#d8576b"
             ],
             [
              0.6666666666666666,
              "#ed7953"
             ],
             [
              0.7777777777777778,
              "#fb9f3a"
             ],
             [
              0.8888888888888888,
              "#fdca26"
             ],
             [
              1,
              "#f0f921"
             ]
            ],
            "type": "surface"
           }
          ],
          "table": [
           {
            "cells": {
             "fill": {
              "color": "#EBF0F8"
             },
             "line": {
              "color": "white"
             }
            },
            "header": {
             "fill": {
              "color": "#C8D4E3"
             },
             "line": {
              "color": "white"
             }
            },
            "type": "table"
           }
          ]
         },
         "layout": {
          "annotationdefaults": {
           "arrowcolor": "#2a3f5f",
           "arrowhead": 0,
           "arrowwidth": 1
          },
          "autotypenumbers": "strict",
          "coloraxis": {
           "colorbar": {
            "outlinewidth": 0,
            "ticks": ""
           }
          },
          "colorscale": {
           "diverging": [
            [
             0,
             "#8e0152"
            ],
            [
             0.1,
             "#c51b7d"
            ],
            [
             0.2,
             "#de77ae"
            ],
            [
             0.3,
             "#f1b6da"
            ],
            [
             0.4,
             "#fde0ef"
            ],
            [
             0.5,
             "#f7f7f7"
            ],
            [
             0.6,
             "#e6f5d0"
            ],
            [
             0.7,
             "#b8e186"
            ],
            [
             0.8,
             "#7fbc41"
            ],
            [
             0.9,
             "#4d9221"
            ],
            [
             1,
             "#276419"
            ]
           ],
           "sequential": [
            [
             0,
             "#0d0887"
            ],
            [
             0.1111111111111111,
             "#46039f"
            ],
            [
             0.2222222222222222,
             "#7201a8"
            ],
            [
             0.3333333333333333,
             "#9c179e"
            ],
            [
             0.4444444444444444,
             "#bd3786"
            ],
            [
             0.5555555555555556,
             "#d8576b"
            ],
            [
             0.6666666666666666,
             "#ed7953"
            ],
            [
             0.7777777777777778,
             "#fb9f3a"
            ],
            [
             0.8888888888888888,
             "#fdca26"
            ],
            [
             1,
             "#f0f921"
            ]
           ],
           "sequentialminus": [
            [
             0,
             "#0d0887"
            ],
            [
             0.1111111111111111,
             "#46039f"
            ],
            [
             0.2222222222222222,
             "#7201a8"
            ],
            [
             0.3333333333333333,
             "#9c179e"
            ],
            [
             0.4444444444444444,
             "#bd3786"
            ],
            [
             0.5555555555555556,
             "#d8576b"
            ],
            [
             0.6666666666666666,
             "#ed7953"
            ],
            [
             0.7777777777777778,
             "#fb9f3a"
            ],
            [
             0.8888888888888888,
             "#fdca26"
            ],
            [
             1,
             "#f0f921"
            ]
           ]
          },
          "colorway": [
           "#636efa",
           "#EF553B",
           "#00cc96",
           "#ab63fa",
           "#FFA15A",
           "#19d3f3",
           "#FF6692",
           "#B6E880",
           "#FF97FF",
           "#FECB52"
          ],
          "font": {
           "color": "#2a3f5f"
          },
          "geo": {
           "bgcolor": "white",
           "lakecolor": "white",
           "landcolor": "#E5ECF6",
           "showlakes": true,
           "showland": true,
           "subunitcolor": "white"
          },
          "hoverlabel": {
           "align": "left"
          },
          "hovermode": "closest",
          "mapbox": {
           "style": "light"
          },
          "paper_bgcolor": "white",
          "plot_bgcolor": "#E5ECF6",
          "polar": {
           "angularaxis": {
            "gridcolor": "white",
            "linecolor": "white",
            "ticks": ""
           },
           "bgcolor": "#E5ECF6",
           "radialaxis": {
            "gridcolor": "white",
            "linecolor": "white",
            "ticks": ""
           }
          },
          "scene": {
           "xaxis": {
            "backgroundcolor": "#E5ECF6",
            "gridcolor": "white",
            "gridwidth": 2,
            "linecolor": "white",
            "showbackground": true,
            "ticks": "",
            "zerolinecolor": "white"
           },
           "yaxis": {
            "backgroundcolor": "#E5ECF6",
            "gridcolor": "white",
            "gridwidth": 2,
            "linecolor": "white",
            "showbackground": true,
            "ticks": "",
            "zerolinecolor": "white"
           },
           "zaxis": {
            "backgroundcolor": "#E5ECF6",
            "gridcolor": "white",
            "gridwidth": 2,
            "linecolor": "white",
            "showbackground": true,
            "ticks": "",
            "zerolinecolor": "white"
           }
          },
          "shapedefaults": {
           "line": {
            "color": "#2a3f5f"
           }
          },
          "ternary": {
           "aaxis": {
            "gridcolor": "white",
            "linecolor": "white",
            "ticks": ""
           },
           "baxis": {
            "gridcolor": "white",
            "linecolor": "white",
            "ticks": ""
           },
           "bgcolor": "#E5ECF6",
           "caxis": {
            "gridcolor": "white",
            "linecolor": "white",
            "ticks": ""
           }
          },
          "title": {
           "x": 0.05
          },
          "xaxis": {
           "automargin": true,
           "gridcolor": "white",
           "linecolor": "white",
           "ticks": "",
           "title": {
            "standoff": 15
           },
           "zerolinecolor": "white",
           "zerolinewidth": 2
          },
          "yaxis": {
           "automargin": true,
           "gridcolor": "white",
           "linecolor": "white",
           "ticks": "",
           "title": {
            "standoff": 15
           },
           "zerolinecolor": "white",
           "zerolinewidth": 2
          }
         }
        },
        "title": {
         "text": "Descomposición de la Serie Temporal (Multiplicative) para IT"
        },
        "xaxis": {
         "anchor": "y",
         "domain": [
          0,
          1
         ]
        },
        "xaxis2": {
         "anchor": "y2",
         "domain": [
          0,
          1
         ]
        },
        "xaxis3": {
         "anchor": "y3",
         "domain": [
          0,
          1
         ]
        },
        "xaxis4": {
         "anchor": "y4",
         "domain": [
          0,
          1
         ]
        },
        "yaxis": {
         "anchor": "x",
         "domain": [
          0.84375,
          1
         ]
        },
        "yaxis2": {
         "anchor": "x2",
         "domain": [
          0.5625,
          0.71875
         ]
        },
        "yaxis3": {
         "anchor": "x3",
         "domain": [
          0.28125,
          0.4375
         ]
        },
        "yaxis4": {
         "anchor": "x4",
         "domain": [
          0,
          0.15625
         ]
        }
       }
      }
     },
     "metadata": {},
     "output_type": "display_data"
    },
    {
     "name": "stderr",
     "output_type": "stream",
     "text": [
      "2025-08-14 17:13:18,091 - INFO - Desviación estándar de los residuales aditivos: 50.32\n",
      "2025-08-14 17:13:18,093 - INFO - Desviación estándar de los residuales multiplicativos: 0.1478968553656041\n",
      "2025-08-14 17:13:18,097 - INFO - P-value del test ADF: 0.94\n",
      "2025-08-14 17:13:18,101 - INFO - Criterio de selección: La desviación estándar de los residuos multiplicative es menor.\n",
      "2025-08-14 17:13:18,103 - INFO - El departamento Inventory tiene una descomposición multiplicative.\n",
      "2025-08-14 17:13:18,093 - INFO - Desviación estándar de los residuales multiplicativos: 0.1478968553656041\n",
      "2025-08-14 17:13:18,097 - INFO - P-value del test ADF: 0.94\n",
      "2025-08-14 17:13:18,101 - INFO - Criterio de selección: La desviación estándar de los residuos multiplicative es menor.\n",
      "2025-08-14 17:13:18,103 - INFO - El departamento Inventory tiene una descomposición multiplicative.\n"
     ]
    },
    {
     "data": {
      "application/vnd.plotly.v1+json": {
       "config": {
        "plotlyServerURL": "https://plot.ly"
       },
       "data": [
        {
         "mode": "lines",
         "name": "Original",
         "type": "scatter",
         "x": [
          "2022-01-01T00:00:00.000000000",
          "2022-02-01T00:00:00.000000000",
          "2022-03-01T00:00:00.000000000",
          "2022-04-01T00:00:00.000000000",
          "2022-05-01T00:00:00.000000000",
          "2022-06-01T00:00:00.000000000",
          "2022-07-01T00:00:00.000000000",
          "2022-08-01T00:00:00.000000000",
          "2022-09-01T00:00:00.000000000",
          "2022-10-01T00:00:00.000000000",
          "2022-11-01T00:00:00.000000000",
          "2022-12-01T00:00:00.000000000",
          "2023-01-01T00:00:00.000000000",
          "2023-02-01T00:00:00.000000000",
          "2023-03-01T00:00:00.000000000",
          "2023-04-01T00:00:00.000000000",
          "2023-05-01T00:00:00.000000000",
          "2023-06-01T00:00:00.000000000",
          "2023-07-01T00:00:00.000000000",
          "2023-08-01T00:00:00.000000000",
          "2023-09-01T00:00:00.000000000",
          "2023-10-01T00:00:00.000000000",
          "2023-11-01T00:00:00.000000000",
          "2023-12-01T00:00:00.000000000",
          "2024-01-01T00:00:00.000000000",
          "2024-02-01T00:00:00.000000000",
          "2024-03-01T00:00:00.000000000",
          "2024-04-01T00:00:00.000000000",
          "2024-05-01T00:00:00.000000000",
          "2024-06-01T00:00:00.000000000",
          "2024-07-01T00:00:00.000000000",
          "2024-08-01T00:00:00.000000000",
          "2024-09-01T00:00:00.000000000",
          "2024-10-01T00:00:00.000000000",
          "2024-11-01T00:00:00.000000000",
          "2024-12-01T00:00:00.000000000",
          "2025-01-01T00:00:00.000000000",
          "2025-02-01T00:00:00.000000000",
          "2025-03-01T00:00:00.000000000",
          "2025-04-01T00:00:00.000000000"
         ],
         "xaxis": "x",
         "y": {
          "bdata": "UrgehetR8D8pXI/C9SgRQGZmZmZmZhxA16NwPQoXMED2KFyPwtVLQD4K16NwNWZAcD0K16MQSUC4HoXrURhJQJmZmZmZ+UVAzczMzMzMU0CuR+F6FI5YQFyPwvUoPoJAMzMzMzOzX0ApXI/C9fhZQFyPwvUonFdA4XoUrkfRYEBcj8L1KDxhQD4K16NwvXdArkfhehQeYkBI4XoUrgdnQM3MzMzMvFtAzczMzMwsZkA+CtejcA1mQHsUrkfhHIxAPQrXo3A9ZkCuR+F6FOZiQOxRuB6F82hAmpmZmZkBZUA0MzMzMxtmQHE9CtejToRApHA9CtdTZkCF61G4HvVoQM3MzMzMjGxApHA9CtebY0AzMzMzM5NqQHE9Ctej6ZdArkfhehSmbkAAAAAAAMhsQArXo3A9DnRAUrgeheuZbEA=",
          "dtype": "f8"
         },
         "yaxis": "y"
        },
        {
         "mode": "lines",
         "name": "Tendencia",
         "type": "scatter",
         "x": [
          "2022-01-01T00:00:00.000000000",
          "2022-02-01T00:00:00.000000000",
          "2022-03-01T00:00:00.000000000",
          "2022-04-01T00:00:00.000000000",
          "2022-05-01T00:00:00.000000000",
          "2022-06-01T00:00:00.000000000",
          "2022-07-01T00:00:00.000000000",
          "2022-08-01T00:00:00.000000000",
          "2022-09-01T00:00:00.000000000",
          "2022-10-01T00:00:00.000000000",
          "2022-11-01T00:00:00.000000000",
          "2022-12-01T00:00:00.000000000",
          "2023-01-01T00:00:00.000000000",
          "2023-02-01T00:00:00.000000000",
          "2023-03-01T00:00:00.000000000",
          "2023-04-01T00:00:00.000000000",
          "2023-05-01T00:00:00.000000000",
          "2023-06-01T00:00:00.000000000",
          "2023-07-01T00:00:00.000000000",
          "2023-08-01T00:00:00.000000000",
          "2023-09-01T00:00:00.000000000",
          "2023-10-01T00:00:00.000000000",
          "2023-11-01T00:00:00.000000000",
          "2023-12-01T00:00:00.000000000",
          "2024-01-01T00:00:00.000000000",
          "2024-02-01T00:00:00.000000000",
          "2024-03-01T00:00:00.000000000",
          "2024-04-01T00:00:00.000000000",
          "2024-05-01T00:00:00.000000000",
          "2024-06-01T00:00:00.000000000",
          "2024-07-01T00:00:00.000000000",
          "2024-08-01T00:00:00.000000000",
          "2024-09-01T00:00:00.000000000",
          "2024-10-01T00:00:00.000000000",
          "2024-11-01T00:00:00.000000000",
          "2024-12-01T00:00:00.000000000",
          "2025-01-01T00:00:00.000000000",
          "2025-02-01T00:00:00.000000000",
          "2025-03-01T00:00:00.000000000",
          "2025-04-01T00:00:00.000000000"
         ],
         "xaxis": "x2",
         "y": {
          "bdata": "AAAAAAAA+H8AAAAAAAD4fwAAAAAAAPh/AAAAAAAA+H8AAAAAAAD4fwAAAAAAAPh/nDbQaQOhWUA5baDTBvpbQIiIiIiI7F1ADXTaQKcIYEAzMzMzMxRhQCz5xZJfj2JA8Yslv1gbZECw5BdLfkxlQML1KFyPWGZABjptoNM0Z0A5baDTBiBoQAKdNtBpLWpA5BdLfrEWbEBSuB6F65lsQNBpA502ZW1AhOtRuB4ebkD1KFyPwn5uQECnDXRaDXBAzMzMzMzXcECIiIiIiPhwQDbQaQMdUXFAbaDTBrqRcUBcj8L1KJxxQGkDnTbQWHNA5BdLfjEqdUBY8oslv4t1QBvotIFOEXZAq6qqqqqKdkAAAAAAAAD4fwAAAAAAAPh/AAAAAAAA+H8AAAAAAAD4fwAAAAAAAPh/AAAAAAAA+H8=",
          "dtype": "f8"
         },
         "yaxis": "y2"
        },
        {
         "mode": "lines",
         "name": "Estacionalidad",
         "type": "scatter",
         "x": [
          "2022-01-01T00:00:00.000000000",
          "2022-02-01T00:00:00.000000000",
          "2022-03-01T00:00:00.000000000",
          "2022-04-01T00:00:00.000000000",
          "2022-05-01T00:00:00.000000000",
          "2022-06-01T00:00:00.000000000",
          "2022-07-01T00:00:00.000000000",
          "2022-08-01T00:00:00.000000000",
          "2022-09-01T00:00:00.000000000",
          "2022-10-01T00:00:00.000000000",
          "2022-11-01T00:00:00.000000000",
          "2022-12-01T00:00:00.000000000",
          "2023-01-01T00:00:00.000000000",
          "2023-02-01T00:00:00.000000000",
          "2023-03-01T00:00:00.000000000",
          "2023-04-01T00:00:00.000000000",
          "2023-05-01T00:00:00.000000000",
          "2023-06-01T00:00:00.000000000",
          "2023-07-01T00:00:00.000000000",
          "2023-08-01T00:00:00.000000000",
          "2023-09-01T00:00:00.000000000",
          "2023-10-01T00:00:00.000000000",
          "2023-11-01T00:00:00.000000000",
          "2023-12-01T00:00:00.000000000",
          "2024-01-01T00:00:00.000000000",
          "2024-02-01T00:00:00.000000000",
          "2024-03-01T00:00:00.000000000",
          "2024-04-01T00:00:00.000000000",
          "2024-05-01T00:00:00.000000000",
          "2024-06-01T00:00:00.000000000",
          "2024-07-01T00:00:00.000000000",
          "2024-08-01T00:00:00.000000000",
          "2024-09-01T00:00:00.000000000",
          "2024-10-01T00:00:00.000000000",
          "2024-11-01T00:00:00.000000000",
          "2024-12-01T00:00:00.000000000",
          "2025-01-01T00:00:00.000000000",
          "2025-02-01T00:00:00.000000000",
          "2025-03-01T00:00:00.000000000",
          "2025-04-01T00:00:00.000000000"
         ],
         "xaxis": "x3",
         "y": {
          "bdata": "Ijy9PVZX5z/mamvyFsziP342sxwsH+Q/MfM80ZFP5T9RSJHYPaDlP+kE4/T+hv8/F45EfUDZ4T+vU8wSobDjP4oXfouO7N8/b6Kp5ws34z/8W4ukkTznP0q8Yq/08g1AIjy9PVZX5z/mamvyFsziP342sxwsH+Q/MfM80ZFP5T9RSJHYPaDlP+kE4/T+hv8/F45EfUDZ4T+vU8wSobDjP4oXfouO7N8/b6Kp5ws34z/8W4ukkTznP0q8Yq/08g1AIjy9PVZX5z/mamvyFsziP342sxwsH+Q/MfM80ZFP5T9RSJHYPaDlP+kE4/T+hv8/F45EfUDZ4T+vU8wSobDjP4oXfouO7N8/b6Kp5ws34z/8W4ukkTznP0q8Yq/08g1AIjy9PVZX5z/mamvyFsziP342sxwsH+Q/MfM80ZFP5T8=",
          "dtype": "f8"
         },
         "yaxis": "y3"
        },
        {
         "mode": "lines",
         "name": "Residuos",
         "type": "scatter",
         "x": [
          "2022-01-01T00:00:00.000000000",
          "2022-02-01T00:00:00.000000000",
          "2022-03-01T00:00:00.000000000",
          "2022-04-01T00:00:00.000000000",
          "2022-05-01T00:00:00.000000000",
          "2022-06-01T00:00:00.000000000",
          "2022-07-01T00:00:00.000000000",
          "2022-08-01T00:00:00.000000000",
          "2022-09-01T00:00:00.000000000",
          "2022-10-01T00:00:00.000000000",
          "2022-11-01T00:00:00.000000000",
          "2022-12-01T00:00:00.000000000",
          "2023-01-01T00:00:00.000000000",
          "2023-02-01T00:00:00.000000000",
          "2023-03-01T00:00:00.000000000",
          "2023-04-01T00:00:00.000000000",
          "2023-05-01T00:00:00.000000000",
          "2023-06-01T00:00:00.000000000",
          "2023-07-01T00:00:00.000000000",
          "2023-08-01T00:00:00.000000000",
          "2023-09-01T00:00:00.000000000",
          "2023-10-01T00:00:00.000000000",
          "2023-11-01T00:00:00.000000000",
          "2023-12-01T00:00:00.000000000",
          "2024-01-01T00:00:00.000000000",
          "2024-02-01T00:00:00.000000000",
          "2024-03-01T00:00:00.000000000",
          "2024-04-01T00:00:00.000000000",
          "2024-05-01T00:00:00.000000000",
          "2024-06-01T00:00:00.000000000",
          "2024-07-01T00:00:00.000000000",
          "2024-08-01T00:00:00.000000000",
          "2024-09-01T00:00:00.000000000",
          "2024-10-01T00:00:00.000000000",
          "2024-11-01T00:00:00.000000000",
          "2024-12-01T00:00:00.000000000",
          "2025-01-01T00:00:00.000000000",
          "2025-02-01T00:00:00.000000000",
          "2025-03-01T00:00:00.000000000",
          "2025-04-01T00:00:00.000000000"
         ],
         "xaxis": "x4",
         "y": {
          "bdata": "AAAAAAAA+H8AAAAAAAD4fwAAAAAAAPh/AAAAAAAA+H8AAAAAAAD4fwAAAAAAAPh/hJdkq+8N7D8ywkS9IFPnP+LxKW4zjuc/uYSzjMxz8D9jkWfn7q3vP7z1WLixzfA/at7MgaFK8T/A0eN3hpvwPxkQObhr4uo/nmDb8zhp8T/YTvQO5OnwP4hTfJ+edO0/2S0gFqmA8j8lKl5OHfD0P6tyKvVeRO4/HxRWwmae8z/zLyQ/M97vP+DV2bW+8O0/ggTyIt/27D/YHcQ2FVXuP55YKTfbVPI/GQDVPrC57D+oI6MIWrjtP+e2h8PBC/E/zK4sYvFC7j+Gi9Df1x7uP7qePmvQv/Q/UXC+m8wt5z8AAAAAAAD4fwAAAAAAAPh/AAAAAAAA+H8AAAAAAAD4fwAAAAAAAPh/AAAAAAAA+H8=",
          "dtype": "f8"
         },
         "yaxis": "y4"
        }
       ],
       "layout": {
        "annotations": [
         {
          "font": {
           "size": 16
          },
          "showarrow": false,
          "text": "Original",
          "x": 0.5,
          "xanchor": "center",
          "xref": "paper",
          "y": 1,
          "yanchor": "bottom",
          "yref": "paper"
         },
         {
          "font": {
           "size": 16
          },
          "showarrow": false,
          "text": "Tendencia",
          "x": 0.5,
          "xanchor": "center",
          "xref": "paper",
          "y": 0.71875,
          "yanchor": "bottom",
          "yref": "paper"
         },
         {
          "font": {
           "size": 16
          },
          "showarrow": false,
          "text": "Estacionalidad",
          "x": 0.5,
          "xanchor": "center",
          "xref": "paper",
          "y": 0.4375,
          "yanchor": "bottom",
          "yref": "paper"
         },
         {
          "font": {
           "size": 16
          },
          "showarrow": false,
          "text": "Residuos",
          "x": 0.5,
          "xanchor": "center",
          "xref": "paper",
          "y": 0.15625,
          "yanchor": "bottom",
          "yref": "paper"
         }
        ],
        "height": 800,
        "template": {
         "data": {
          "bar": [
           {
            "error_x": {
             "color": "#2a3f5f"
            },
            "error_y": {
             "color": "#2a3f5f"
            },
            "marker": {
             "line": {
              "color": "#E5ECF6",
              "width": 0.5
             },
             "pattern": {
              "fillmode": "overlay",
              "size": 10,
              "solidity": 0.2
             }
            },
            "type": "bar"
           }
          ],
          "barpolar": [
           {
            "marker": {
             "line": {
              "color": "#E5ECF6",
              "width": 0.5
             },
             "pattern": {
              "fillmode": "overlay",
              "size": 10,
              "solidity": 0.2
             }
            },
            "type": "barpolar"
           }
          ],
          "carpet": [
           {
            "aaxis": {
             "endlinecolor": "#2a3f5f",
             "gridcolor": "white",
             "linecolor": "white",
             "minorgridcolor": "white",
             "startlinecolor": "#2a3f5f"
            },
            "baxis": {
             "endlinecolor": "#2a3f5f",
             "gridcolor": "white",
             "linecolor": "white",
             "minorgridcolor": "white",
             "startlinecolor": "#2a3f5f"
            },
            "type": "carpet"
           }
          ],
          "choropleth": [
           {
            "colorbar": {
             "outlinewidth": 0,
             "ticks": ""
            },
            "type": "choropleth"
           }
          ],
          "contour": [
           {
            "colorbar": {
             "outlinewidth": 0,
             "ticks": ""
            },
            "colorscale": [
             [
              0,
              "#0d0887"
             ],
             [
              0.1111111111111111,
              "#46039f"
             ],
             [
              0.2222222222222222,
              "#7201a8"
             ],
             [
              0.3333333333333333,
              "#9c179e"
             ],
             [
              0.4444444444444444,
              "#bd3786"
             ],
             [
              0.5555555555555556,
              "#d8576b"
             ],
             [
              0.6666666666666666,
              "#ed7953"
             ],
             [
              0.7777777777777778,
              "#fb9f3a"
             ],
             [
              0.8888888888888888,
              "#fdca26"
             ],
             [
              1,
              "#f0f921"
             ]
            ],
            "type": "contour"
           }
          ],
          "contourcarpet": [
           {
            "colorbar": {
             "outlinewidth": 0,
             "ticks": ""
            },
            "type": "contourcarpet"
           }
          ],
          "heatmap": [
           {
            "colorbar": {
             "outlinewidth": 0,
             "ticks": ""
            },
            "colorscale": [
             [
              0,
              "#0d0887"
             ],
             [
              0.1111111111111111,
              "#46039f"
             ],
             [
              0.2222222222222222,
              "#7201a8"
             ],
             [
              0.3333333333333333,
              "#9c179e"
             ],
             [
              0.4444444444444444,
              "#bd3786"
             ],
             [
              0.5555555555555556,
              "#d8576b"
             ],
             [
              0.6666666666666666,
              "#ed7953"
             ],
             [
              0.7777777777777778,
              "#fb9f3a"
             ],
             [
              0.8888888888888888,
              "#fdca26"
             ],
             [
              1,
              "#f0f921"
             ]
            ],
            "type": "heatmap"
           }
          ],
          "histogram": [
           {
            "marker": {
             "pattern": {
              "fillmode": "overlay",
              "size": 10,
              "solidity": 0.2
             }
            },
            "type": "histogram"
           }
          ],
          "histogram2d": [
           {
            "colorbar": {
             "outlinewidth": 0,
             "ticks": ""
            },
            "colorscale": [
             [
              0,
              "#0d0887"
             ],
             [
              0.1111111111111111,
              "#46039f"
             ],
             [
              0.2222222222222222,
              "#7201a8"
             ],
             [
              0.3333333333333333,
              "#9c179e"
             ],
             [
              0.4444444444444444,
              "#bd3786"
             ],
             [
              0.5555555555555556,
              "#d8576b"
             ],
             [
              0.6666666666666666,
              "#ed7953"
             ],
             [
              0.7777777777777778,
              "#fb9f3a"
             ],
             [
              0.8888888888888888,
              "#fdca26"
             ],
             [
              1,
              "#f0f921"
             ]
            ],
            "type": "histogram2d"
           }
          ],
          "histogram2dcontour": [
           {
            "colorbar": {
             "outlinewidth": 0,
             "ticks": ""
            },
            "colorscale": [
             [
              0,
              "#0d0887"
             ],
             [
              0.1111111111111111,
              "#46039f"
             ],
             [
              0.2222222222222222,
              "#7201a8"
             ],
             [
              0.3333333333333333,
              "#9c179e"
             ],
             [
              0.4444444444444444,
              "#bd3786"
             ],
             [
              0.5555555555555556,
              "#d8576b"
             ],
             [
              0.6666666666666666,
              "#ed7953"
             ],
             [
              0.7777777777777778,
              "#fb9f3a"
             ],
             [
              0.8888888888888888,
              "#fdca26"
             ],
             [
              1,
              "#f0f921"
             ]
            ],
            "type": "histogram2dcontour"
           }
          ],
          "mesh3d": [
           {
            "colorbar": {
             "outlinewidth": 0,
             "ticks": ""
            },
            "type": "mesh3d"
           }
          ],
          "parcoords": [
           {
            "line": {
             "colorbar": {
              "outlinewidth": 0,
              "ticks": ""
             }
            },
            "type": "parcoords"
           }
          ],
          "pie": [
           {
            "automargin": true,
            "type": "pie"
           }
          ],
          "scatter": [
           {
            "fillpattern": {
             "fillmode": "overlay",
             "size": 10,
             "solidity": 0.2
            },
            "type": "scatter"
           }
          ],
          "scatter3d": [
           {
            "line": {
             "colorbar": {
              "outlinewidth": 0,
              "ticks": ""
             }
            },
            "marker": {
             "colorbar": {
              "outlinewidth": 0,
              "ticks": ""
             }
            },
            "type": "scatter3d"
           }
          ],
          "scattercarpet": [
           {
            "marker": {
             "colorbar": {
              "outlinewidth": 0,
              "ticks": ""
             }
            },
            "type": "scattercarpet"
           }
          ],
          "scattergeo": [
           {
            "marker": {
             "colorbar": {
              "outlinewidth": 0,
              "ticks": ""
             }
            },
            "type": "scattergeo"
           }
          ],
          "scattergl": [
           {
            "marker": {
             "colorbar": {
              "outlinewidth": 0,
              "ticks": ""
             }
            },
            "type": "scattergl"
           }
          ],
          "scattermap": [
           {
            "marker": {
             "colorbar": {
              "outlinewidth": 0,
              "ticks": ""
             }
            },
            "type": "scattermap"
           }
          ],
          "scattermapbox": [
           {
            "marker": {
             "colorbar": {
              "outlinewidth": 0,
              "ticks": ""
             }
            },
            "type": "scattermapbox"
           }
          ],
          "scatterpolar": [
           {
            "marker": {
             "colorbar": {
              "outlinewidth": 0,
              "ticks": ""
             }
            },
            "type": "scatterpolar"
           }
          ],
          "scatterpolargl": [
           {
            "marker": {
             "colorbar": {
              "outlinewidth": 0,
              "ticks": ""
             }
            },
            "type": "scatterpolargl"
           }
          ],
          "scatterternary": [
           {
            "marker": {
             "colorbar": {
              "outlinewidth": 0,
              "ticks": ""
             }
            },
            "type": "scatterternary"
           }
          ],
          "surface": [
           {
            "colorbar": {
             "outlinewidth": 0,
             "ticks": ""
            },
            "colorscale": [
             [
              0,
              "#0d0887"
             ],
             [
              0.1111111111111111,
              "#46039f"
             ],
             [
              0.2222222222222222,
              "#7201a8"
             ],
             [
              0.3333333333333333,
              "#9c179e"
             ],
             [
              0.4444444444444444,
              "#bd3786"
             ],
             [
              0.5555555555555556,
              "#d8576b"
             ],
             [
              0.6666666666666666,
              "#ed7953"
             ],
             [
              0.7777777777777778,
              "#fb9f3a"
             ],
             [
              0.8888888888888888,
              "#fdca26"
             ],
             [
              1,
              "#f0f921"
             ]
            ],
            "type": "surface"
           }
          ],
          "table": [
           {
            "cells": {
             "fill": {
              "color": "#EBF0F8"
             },
             "line": {
              "color": "white"
             }
            },
            "header": {
             "fill": {
              "color": "#C8D4E3"
             },
             "line": {
              "color": "white"
             }
            },
            "type": "table"
           }
          ]
         },
         "layout": {
          "annotationdefaults": {
           "arrowcolor": "#2a3f5f",
           "arrowhead": 0,
           "arrowwidth": 1
          },
          "autotypenumbers": "strict",
          "coloraxis": {
           "colorbar": {
            "outlinewidth": 0,
            "ticks": ""
           }
          },
          "colorscale": {
           "diverging": [
            [
             0,
             "#8e0152"
            ],
            [
             0.1,
             "#c51b7d"
            ],
            [
             0.2,
             "#de77ae"
            ],
            [
             0.3,
             "#f1b6da"
            ],
            [
             0.4,
             "#fde0ef"
            ],
            [
             0.5,
             "#f7f7f7"
            ],
            [
             0.6,
             "#e6f5d0"
            ],
            [
             0.7,
             "#b8e186"
            ],
            [
             0.8,
             "#7fbc41"
            ],
            [
             0.9,
             "#4d9221"
            ],
            [
             1,
             "#276419"
            ]
           ],
           "sequential": [
            [
             0,
             "#0d0887"
            ],
            [
             0.1111111111111111,
             "#46039f"
            ],
            [
             0.2222222222222222,
             "#7201a8"
            ],
            [
             0.3333333333333333,
             "#9c179e"
            ],
            [
             0.4444444444444444,
             "#bd3786"
            ],
            [
             0.5555555555555556,
             "#d8576b"
            ],
            [
             0.6666666666666666,
             "#ed7953"
            ],
            [
             0.7777777777777778,
             "#fb9f3a"
            ],
            [
             0.8888888888888888,
             "#fdca26"
            ],
            [
             1,
             "#f0f921"
            ]
           ],
           "sequentialminus": [
            [
             0,
             "#0d0887"
            ],
            [
             0.1111111111111111,
             "#46039f"
            ],
            [
             0.2222222222222222,
             "#7201a8"
            ],
            [
             0.3333333333333333,
             "#9c179e"
            ],
            [
             0.4444444444444444,
             "#bd3786"
            ],
            [
             0.5555555555555556,
             "#d8576b"
            ],
            [
             0.6666666666666666,
             "#ed7953"
            ],
            [
             0.7777777777777778,
             "#fb9f3a"
            ],
            [
             0.8888888888888888,
             "#fdca26"
            ],
            [
             1,
             "#f0f921"
            ]
           ]
          },
          "colorway": [
           "#636efa",
           "#EF553B",
           "#00cc96",
           "#ab63fa",
           "#FFA15A",
           "#19d3f3",
           "#FF6692",
           "#B6E880",
           "#FF97FF",
           "#FECB52"
          ],
          "font": {
           "color": "#2a3f5f"
          },
          "geo": {
           "bgcolor": "white",
           "lakecolor": "white",
           "landcolor": "#E5ECF6",
           "showlakes": true,
           "showland": true,
           "subunitcolor": "white"
          },
          "hoverlabel": {
           "align": "left"
          },
          "hovermode": "closest",
          "mapbox": {
           "style": "light"
          },
          "paper_bgcolor": "white",
          "plot_bgcolor": "#E5ECF6",
          "polar": {
           "angularaxis": {
            "gridcolor": "white",
            "linecolor": "white",
            "ticks": ""
           },
           "bgcolor": "#E5ECF6",
           "radialaxis": {
            "gridcolor": "white",
            "linecolor": "white",
            "ticks": ""
           }
          },
          "scene": {
           "xaxis": {
            "backgroundcolor": "#E5ECF6",
            "gridcolor": "white",
            "gridwidth": 2,
            "linecolor": "white",
            "showbackground": true,
            "ticks": "",
            "zerolinecolor": "white"
           },
           "yaxis": {
            "backgroundcolor": "#E5ECF6",
            "gridcolor": "white",
            "gridwidth": 2,
            "linecolor": "white",
            "showbackground": true,
            "ticks": "",
            "zerolinecolor": "white"
           },
           "zaxis": {
            "backgroundcolor": "#E5ECF6",
            "gridcolor": "white",
            "gridwidth": 2,
            "linecolor": "white",
            "showbackground": true,
            "ticks": "",
            "zerolinecolor": "white"
           }
          },
          "shapedefaults": {
           "line": {
            "color": "#2a3f5f"
           }
          },
          "ternary": {
           "aaxis": {
            "gridcolor": "white",
            "linecolor": "white",
            "ticks": ""
           },
           "baxis": {
            "gridcolor": "white",
            "linecolor": "white",
            "ticks": ""
           },
           "bgcolor": "#E5ECF6",
           "caxis": {
            "gridcolor": "white",
            "linecolor": "white",
            "ticks": ""
           }
          },
          "title": {
           "x": 0.05
          },
          "xaxis": {
           "automargin": true,
           "gridcolor": "white",
           "linecolor": "white",
           "ticks": "",
           "title": {
            "standoff": 15
           },
           "zerolinecolor": "white",
           "zerolinewidth": 2
          },
          "yaxis": {
           "automargin": true,
           "gridcolor": "white",
           "linecolor": "white",
           "ticks": "",
           "title": {
            "standoff": 15
           },
           "zerolinecolor": "white",
           "zerolinewidth": 2
          }
         }
        },
        "title": {
         "text": "Descomposición de la Serie Temporal (Multiplicative) para Inventory"
        },
        "xaxis": {
         "anchor": "y",
         "domain": [
          0,
          1
         ]
        },
        "xaxis2": {
         "anchor": "y2",
         "domain": [
          0,
          1
         ]
        },
        "xaxis3": {
         "anchor": "y3",
         "domain": [
          0,
          1
         ]
        },
        "xaxis4": {
         "anchor": "y4",
         "domain": [
          0,
          1
         ]
        },
        "yaxis": {
         "anchor": "x",
         "domain": [
          0.84375,
          1
         ]
        },
        "yaxis2": {
         "anchor": "x2",
         "domain": [
          0.5625,
          0.71875
         ]
        },
        "yaxis3": {
         "anchor": "x3",
         "domain": [
          0.28125,
          0.4375
         ]
        },
        "yaxis4": {
         "anchor": "x4",
         "domain": [
          0,
          0.15625
         ]
        }
       }
      }
     },
     "metadata": {},
     "output_type": "display_data"
    },
    {
     "name": "stderr",
     "output_type": "stream",
     "text": [
      "2025-08-14 17:13:18,628 - INFO - Desviación estándar de los residuales aditivos: 34.11\n",
      "2025-08-14 17:13:18,631 - INFO - Desviación estándar de los residuales multiplicativos: 0.17471737636297135\n",
      "2025-08-14 17:13:18,633 - INFO - P-value del test ADF: 0.73\n",
      "2025-08-14 17:13:18,639 - INFO - Criterio de selección: La desviación estándar de los residuos multiplicative es menor.\n",
      "2025-08-14 17:13:18,641 - INFO - El departamento Marketing tiene una descomposición multiplicative.\n",
      "2025-08-14 17:13:18,631 - INFO - Desviación estándar de los residuales multiplicativos: 0.17471737636297135\n",
      "2025-08-14 17:13:18,633 - INFO - P-value del test ADF: 0.73\n",
      "2025-08-14 17:13:18,639 - INFO - Criterio de selección: La desviación estándar de los residuos multiplicative es menor.\n",
      "2025-08-14 17:13:18,641 - INFO - El departamento Marketing tiene una descomposición multiplicative.\n"
     ]
    },
    {
     "data": {
      "application/vnd.plotly.v1+json": {
       "config": {
        "plotlyServerURL": "https://plot.ly"
       },
       "data": [
        {
         "mode": "lines",
         "name": "Original",
         "type": "scatter",
         "x": [
          "2022-01-01T00:00:00.000000000",
          "2022-02-01T00:00:00.000000000",
          "2022-03-01T00:00:00.000000000",
          "2022-04-01T00:00:00.000000000",
          "2022-05-01T00:00:00.000000000",
          "2022-06-01T00:00:00.000000000",
          "2022-07-01T00:00:00.000000000",
          "2022-08-01T00:00:00.000000000",
          "2022-09-01T00:00:00.000000000",
          "2022-10-01T00:00:00.000000000",
          "2022-11-01T00:00:00.000000000",
          "2022-12-01T00:00:00.000000000",
          "2023-01-01T00:00:00.000000000",
          "2023-02-01T00:00:00.000000000",
          "2023-03-01T00:00:00.000000000",
          "2023-04-01T00:00:00.000000000",
          "2023-05-01T00:00:00.000000000",
          "2023-06-01T00:00:00.000000000",
          "2023-07-01T00:00:00.000000000",
          "2023-08-01T00:00:00.000000000",
          "2023-09-01T00:00:00.000000000",
          "2023-10-01T00:00:00.000000000",
          "2023-11-01T00:00:00.000000000",
          "2023-12-01T00:00:00.000000000",
          "2024-01-01T00:00:00.000000000",
          "2024-02-01T00:00:00.000000000",
          "2024-03-01T00:00:00.000000000",
          "2024-04-01T00:00:00.000000000",
          "2024-05-01T00:00:00.000000000",
          "2024-06-01T00:00:00.000000000",
          "2024-07-01T00:00:00.000000000",
          "2024-08-01T00:00:00.000000000",
          "2024-09-01T00:00:00.000000000",
          "2024-10-01T00:00:00.000000000",
          "2024-11-01T00:00:00.000000000",
          "2024-12-01T00:00:00.000000000",
          "2025-01-01T00:00:00.000000000",
          "2025-02-01T00:00:00.000000000",
          "2025-03-01T00:00:00.000000000",
          "2025-04-01T00:00:00.000000000"
         ],
         "xaxis": "x",
         "y": {
          "bdata": "zczMzMzM8D8+CtejcL0jQD0K16NwPQJA9ihcj8L1JEAAAAAAAABAQOJ6FK5HkVdAFK5H4XoUOEA9CtejcJ1EQAAAAAAAwDhASOF6FK6nR0D2KFyPwjVEQIXrUbge/WFAwvUoXI/iRkAUrkfhetREQM3MzMzMrERASOF6FK53UECQwvUoXK9SQML1KFyPKmRACtejcD06WED2KFyPwsVUQGZmZmZmNlBA9ihcj8IFVUDMzMzMzDxZQFyPwvUoTHRAexSuR+HaUEA0MzMzM1NWQIXrUbgeBVhA9ihcj8JVUkApXI/C9RhWQEjhehSub3hAAAAAAAAwVUApXI/C9dhUQOJ6FK5HcVtAMzMzMzNjVECuR+F6FA5TQJqZmZmZ2XZAw/UoXI+CXEDYo3A9CvdeQJqZmZmZQWFApHA9CtfTXEA=",
          "dtype": "f8"
         },
         "yaxis": "y"
        },
        {
         "mode": "lines",
         "name": "Tendencia",
         "type": "scatter",
         "x": [
          "2022-01-01T00:00:00.000000000",
          "2022-02-01T00:00:00.000000000",
          "2022-03-01T00:00:00.000000000",
          "2022-04-01T00:00:00.000000000",
          "2022-05-01T00:00:00.000000000",
          "2022-06-01T00:00:00.000000000",
          "2022-07-01T00:00:00.000000000",
          "2022-08-01T00:00:00.000000000",
          "2022-09-01T00:00:00.000000000",
          "2022-10-01T00:00:00.000000000",
          "2022-11-01T00:00:00.000000000",
          "2022-12-01T00:00:00.000000000",
          "2023-01-01T00:00:00.000000000",
          "2023-02-01T00:00:00.000000000",
          "2023-03-01T00:00:00.000000000",
          "2023-04-01T00:00:00.000000000",
          "2023-05-01T00:00:00.000000000",
          "2023-06-01T00:00:00.000000000",
          "2023-07-01T00:00:00.000000000",
          "2023-08-01T00:00:00.000000000",
          "2023-09-01T00:00:00.000000000",
          "2023-10-01T00:00:00.000000000",
          "2023-11-01T00:00:00.000000000",
          "2023-12-01T00:00:00.000000000",
          "2024-01-01T00:00:00.000000000",
          "2024-02-01T00:00:00.000000000",
          "2024-03-01T00:00:00.000000000",
          "2024-04-01T00:00:00.000000000",
          "2024-05-01T00:00:00.000000000",
          "2024-06-01T00:00:00.000000000",
          "2024-07-01T00:00:00.000000000",
          "2024-08-01T00:00:00.000000000",
          "2024-09-01T00:00:00.000000000",
          "2024-10-01T00:00:00.000000000",
          "2024-11-01T00:00:00.000000000",
          "2024-12-01T00:00:00.000000000",
          "2025-01-01T00:00:00.000000000",
          "2025-02-01T00:00:00.000000000",
          "2025-03-01T00:00:00.000000000",
          "2025-04-01T00:00:00.000000000"
         ],
         "xaxis": "x2",
         "y": {
          "bdata": "AAAAAAAA+H8AAAAAAAD4fwAAAAAAAPh/AAAAAAAA+H8AAAAAAAD4fwAAAAAAAPh/PQrXo3CVRECw5BdLfi1GQAOdNtBpp0dAMjMzMzOfSUDD9Shcj6pLQFuPwvUo9E1AhOtRuB5vUEApXI/C9aBRQOtRuB6Fe1JAiIiIiIhIU0A5baDTBkxUQIJOG+i0z1ZAgk4b6LTrWEAUrkfheqRZQHd3d3d3tVpAVVVVVVVbW0ANdNpAp5NbQNhApw10HF5A0GkDnTYwYEBmZmZmZiBgQOQXS36xXGBAMzMzMzOVYECkcD0K13BgQLgehetRhmBA7+7u7u76YED5xZJfLGdhQNBpA502zWFAIiIiIiI9YkAAAAAAAAD4fwAAAAAAAPh/AAAAAAAA+H8AAAAAAAD4fwAAAAAAAPh/AAAAAAAA+H8=",
          "dtype": "f8"
         },
         "yaxis": "y2"
        },
        {
         "mode": "lines",
         "name": "Estacionalidad",
         "type": "scatter",
         "x": [
          "2022-01-01T00:00:00.000000000",
          "2022-02-01T00:00:00.000000000",
          "2022-03-01T00:00:00.000000000",
          "2022-04-01T00:00:00.000000000",
          "2022-05-01T00:00:00.000000000",
          "2022-06-01T00:00:00.000000000",
          "2022-07-01T00:00:00.000000000",
          "2022-08-01T00:00:00.000000000",
          "2022-09-01T00:00:00.000000000",
          "2022-10-01T00:00:00.000000000",
          "2022-11-01T00:00:00.000000000",
          "2022-12-01T00:00:00.000000000",
          "2023-01-01T00:00:00.000000000",
          "2023-02-01T00:00:00.000000000",
          "2023-03-01T00:00:00.000000000",
          "2023-04-01T00:00:00.000000000",
          "2023-05-01T00:00:00.000000000",
          "2023-06-01T00:00:00.000000000",
          "2023-07-01T00:00:00.000000000",
          "2023-08-01T00:00:00.000000000",
          "2023-09-01T00:00:00.000000000",
          "2023-10-01T00:00:00.000000000",
          "2023-11-01T00:00:00.000000000",
          "2023-12-01T00:00:00.000000000",
          "2024-01-01T00:00:00.000000000",
          "2024-02-01T00:00:00.000000000",
          "2024-03-01T00:00:00.000000000",
          "2024-04-01T00:00:00.000000000",
          "2024-05-01T00:00:00.000000000",
          "2024-06-01T00:00:00.000000000",
          "2024-07-01T00:00:00.000000000",
          "2024-08-01T00:00:00.000000000",
          "2024-09-01T00:00:00.000000000",
          "2024-10-01T00:00:00.000000000",
          "2024-11-01T00:00:00.000000000",
          "2024-12-01T00:00:00.000000000",
          "2025-01-01T00:00:00.000000000",
          "2025-02-01T00:00:00.000000000",
          "2025-03-01T00:00:00.000000000",
          "2025-04-01T00:00:00.000000000"
         ],
         "xaxis": "x3",
         "y": {
          "bdata": "jaJRY0xv4z80Czyvon3kP2h2YqLzp+Q/dp92ku535j9M+l2WoG/pP+vhP0Bb3gJAGrldm+E45z+bICJtaeboP5PZP9WSPeQ/LzjaqJb25z+6RPOQiUjqP5Kia8KIWwRAjaJRY0xv4z80Czyvon3kP2h2YqLzp+Q/dp92ku535j9M+l2WoG/pP+vhP0Bb3gJAGrldm+E45z+bICJtaeboP5PZP9WSPeQ/LzjaqJb25z+6RPOQiUjqP5Kia8KIWwRAjaJRY0xv4z80Czyvon3kP2h2YqLzp+Q/dp92ku535j9M+l2WoG/pP+vhP0Bb3gJAGrldm+E45z+bICJtaeboP5PZP9WSPeQ/LzjaqJb25z+6RPOQiUjqP5Kia8KIWwRAjaJRY0xv4z80Czyvon3kP2h2YqLzp+Q/dp92ku535j8=",
          "dtype": "f8"
         },
         "yaxis": "y3"
        },
        {
         "mode": "lines",
         "name": "Residuos",
         "type": "scatter",
         "x": [
          "2022-01-01T00:00:00.000000000",
          "2022-02-01T00:00:00.000000000",
          "2022-03-01T00:00:00.000000000",
          "2022-04-01T00:00:00.000000000",
          "2022-05-01T00:00:00.000000000",
          "2022-06-01T00:00:00.000000000",
          "2022-07-01T00:00:00.000000000",
          "2022-08-01T00:00:00.000000000",
          "2022-09-01T00:00:00.000000000",
          "2022-10-01T00:00:00.000000000",
          "2022-11-01T00:00:00.000000000",
          "2022-12-01T00:00:00.000000000",
          "2023-01-01T00:00:00.000000000",
          "2023-02-01T00:00:00.000000000",
          "2023-03-01T00:00:00.000000000",
          "2023-04-01T00:00:00.000000000",
          "2023-05-01T00:00:00.000000000",
          "2023-06-01T00:00:00.000000000",
          "2023-07-01T00:00:00.000000000",
          "2023-08-01T00:00:00.000000000",
          "2023-09-01T00:00:00.000000000",
          "2023-10-01T00:00:00.000000000",
          "2023-11-01T00:00:00.000000000",
          "2023-12-01T00:00:00.000000000",
          "2024-01-01T00:00:00.000000000",
          "2024-02-01T00:00:00.000000000",
          "2024-03-01T00:00:00.000000000",
          "2024-04-01T00:00:00.000000000",
          "2024-05-01T00:00:00.000000000",
          "2024-06-01T00:00:00.000000000",
          "2024-07-01T00:00:00.000000000",
          "2024-08-01T00:00:00.000000000",
          "2024-09-01T00:00:00.000000000",
          "2024-10-01T00:00:00.000000000",
          "2024-11-01T00:00:00.000000000",
          "2024-12-01T00:00:00.000000000",
          "2025-01-01T00:00:00.000000000",
          "2025-02-01T00:00:00.000000000",
          "2025-03-01T00:00:00.000000000",
          "2025-04-01T00:00:00.000000000"
         ],
         "xaxis": "x4",
         "y": {
          "bdata": "AAAAAAAA+H8AAAAAAAD4fwAAAAAAAPh/AAAAAAAA+H8AAAAAAAD4fwAAAAAAAPh/5qvf2fXK6T9Zj9mLAx3zPxhIJOPId+o/TYBItdO58z/z35AqxHXsPwFCuD9JNe4/zWx47MRX8j9r9K1XOIbtP+TSi/Iuuus/ABHvYL918z8VZuW5wIfyPxXPO5wU/ec/z6QfZz9v9T/CuqC8NKjwP76lv+eite4/ajeB7jxr8D/8166029PxP/UmGyoZ9PA/Urb9uvFt6z/BTSCeoUvxP4ResVCmMfI/720Q0vwx6T/DwyMg+g3rP2pg2XszEPQ/XuLGtcSC6z+xQ/HMyKHoPwX1gMlmf/M/cGhSFhji5z8AAAAAAAD4fwAAAAAAAPh/AAAAAAAA+H8AAAAAAAD4fwAAAAAAAPh/AAAAAAAA+H8=",
          "dtype": "f8"
         },
         "yaxis": "y4"
        }
       ],
       "layout": {
        "annotations": [
         {
          "font": {
           "size": 16
          },
          "showarrow": false,
          "text": "Original",
          "x": 0.5,
          "xanchor": "center",
          "xref": "paper",
          "y": 1,
          "yanchor": "bottom",
          "yref": "paper"
         },
         {
          "font": {
           "size": 16
          },
          "showarrow": false,
          "text": "Tendencia",
          "x": 0.5,
          "xanchor": "center",
          "xref": "paper",
          "y": 0.71875,
          "yanchor": "bottom",
          "yref": "paper"
         },
         {
          "font": {
           "size": 16
          },
          "showarrow": false,
          "text": "Estacionalidad",
          "x": 0.5,
          "xanchor": "center",
          "xref": "paper",
          "y": 0.4375,
          "yanchor": "bottom",
          "yref": "paper"
         },
         {
          "font": {
           "size": 16
          },
          "showarrow": false,
          "text": "Residuos",
          "x": 0.5,
          "xanchor": "center",
          "xref": "paper",
          "y": 0.15625,
          "yanchor": "bottom",
          "yref": "paper"
         }
        ],
        "height": 800,
        "template": {
         "data": {
          "bar": [
           {
            "error_x": {
             "color": "#2a3f5f"
            },
            "error_y": {
             "color": "#2a3f5f"
            },
            "marker": {
             "line": {
              "color": "#E5ECF6",
              "width": 0.5
             },
             "pattern": {
              "fillmode": "overlay",
              "size": 10,
              "solidity": 0.2
             }
            },
            "type": "bar"
           }
          ],
          "barpolar": [
           {
            "marker": {
             "line": {
              "color": "#E5ECF6",
              "width": 0.5
             },
             "pattern": {
              "fillmode": "overlay",
              "size": 10,
              "solidity": 0.2
             }
            },
            "type": "barpolar"
           }
          ],
          "carpet": [
           {
            "aaxis": {
             "endlinecolor": "#2a3f5f",
             "gridcolor": "white",
             "linecolor": "white",
             "minorgridcolor": "white",
             "startlinecolor": "#2a3f5f"
            },
            "baxis": {
             "endlinecolor": "#2a3f5f",
             "gridcolor": "white",
             "linecolor": "white",
             "minorgridcolor": "white",
             "startlinecolor": "#2a3f5f"
            },
            "type": "carpet"
           }
          ],
          "choropleth": [
           {
            "colorbar": {
             "outlinewidth": 0,
             "ticks": ""
            },
            "type": "choropleth"
           }
          ],
          "contour": [
           {
            "colorbar": {
             "outlinewidth": 0,
             "ticks": ""
            },
            "colorscale": [
             [
              0,
              "#0d0887"
             ],
             [
              0.1111111111111111,
              "#46039f"
             ],
             [
              0.2222222222222222,
              "#7201a8"
             ],
             [
              0.3333333333333333,
              "#9c179e"
             ],
             [
              0.4444444444444444,
              "#bd3786"
             ],
             [
              0.5555555555555556,
              "#d8576b"
             ],
             [
              0.6666666666666666,
              "#ed7953"
             ],
             [
              0.7777777777777778,
              "#fb9f3a"
             ],
             [
              0.8888888888888888,
              "#fdca26"
             ],
             [
              1,
              "#f0f921"
             ]
            ],
            "type": "contour"
           }
          ],
          "contourcarpet": [
           {
            "colorbar": {
             "outlinewidth": 0,
             "ticks": ""
            },
            "type": "contourcarpet"
           }
          ],
          "heatmap": [
           {
            "colorbar": {
             "outlinewidth": 0,
             "ticks": ""
            },
            "colorscale": [
             [
              0,
              "#0d0887"
             ],
             [
              0.1111111111111111,
              "#46039f"
             ],
             [
              0.2222222222222222,
              "#7201a8"
             ],
             [
              0.3333333333333333,
              "#9c179e"
             ],
             [
              0.4444444444444444,
              "#bd3786"
             ],
             [
              0.5555555555555556,
              "#d8576b"
             ],
             [
              0.6666666666666666,
              "#ed7953"
             ],
             [
              0.7777777777777778,
              "#fb9f3a"
             ],
             [
              0.8888888888888888,
              "#fdca26"
             ],
             [
              1,
              "#f0f921"
             ]
            ],
            "type": "heatmap"
           }
          ],
          "histogram": [
           {
            "marker": {
             "pattern": {
              "fillmode": "overlay",
              "size": 10,
              "solidity": 0.2
             }
            },
            "type": "histogram"
           }
          ],
          "histogram2d": [
           {
            "colorbar": {
             "outlinewidth": 0,
             "ticks": ""
            },
            "colorscale": [
             [
              0,
              "#0d0887"
             ],
             [
              0.1111111111111111,
              "#46039f"
             ],
             [
              0.2222222222222222,
              "#7201a8"
             ],
             [
              0.3333333333333333,
              "#9c179e"
             ],
             [
              0.4444444444444444,
              "#bd3786"
             ],
             [
              0.5555555555555556,
              "#d8576b"
             ],
             [
              0.6666666666666666,
              "#ed7953"
             ],
             [
              0.7777777777777778,
              "#fb9f3a"
             ],
             [
              0.8888888888888888,
              "#fdca26"
             ],
             [
              1,
              "#f0f921"
             ]
            ],
            "type": "histogram2d"
           }
          ],
          "histogram2dcontour": [
           {
            "colorbar": {
             "outlinewidth": 0,
             "ticks": ""
            },
            "colorscale": [
             [
              0,
              "#0d0887"
             ],
             [
              0.1111111111111111,
              "#46039f"
             ],
             [
              0.2222222222222222,
              "#7201a8"
             ],
             [
              0.3333333333333333,
              "#9c179e"
             ],
             [
              0.4444444444444444,
              "#bd3786"
             ],
             [
              0.5555555555555556,
              "#d8576b"
             ],
             [
              0.6666666666666666,
              "#ed7953"
             ],
             [
              0.7777777777777778,
              "#fb9f3a"
             ],
             [
              0.8888888888888888,
              "#fdca26"
             ],
             [
              1,
              "#f0f921"
             ]
            ],
            "type": "histogram2dcontour"
           }
          ],
          "mesh3d": [
           {
            "colorbar": {
             "outlinewidth": 0,
             "ticks": ""
            },
            "type": "mesh3d"
           }
          ],
          "parcoords": [
           {
            "line": {
             "colorbar": {
              "outlinewidth": 0,
              "ticks": ""
             }
            },
            "type": "parcoords"
           }
          ],
          "pie": [
           {
            "automargin": true,
            "type": "pie"
           }
          ],
          "scatter": [
           {
            "fillpattern": {
             "fillmode": "overlay",
             "size": 10,
             "solidity": 0.2
            },
            "type": "scatter"
           }
          ],
          "scatter3d": [
           {
            "line": {
             "colorbar": {
              "outlinewidth": 0,
              "ticks": ""
             }
            },
            "marker": {
             "colorbar": {
              "outlinewidth": 0,
              "ticks": ""
             }
            },
            "type": "scatter3d"
           }
          ],
          "scattercarpet": [
           {
            "marker": {
             "colorbar": {
              "outlinewidth": 0,
              "ticks": ""
             }
            },
            "type": "scattercarpet"
           }
          ],
          "scattergeo": [
           {
            "marker": {
             "colorbar": {
              "outlinewidth": 0,
              "ticks": ""
             }
            },
            "type": "scattergeo"
           }
          ],
          "scattergl": [
           {
            "marker": {
             "colorbar": {
              "outlinewidth": 0,
              "ticks": ""
             }
            },
            "type": "scattergl"
           }
          ],
          "scattermap": [
           {
            "marker": {
             "colorbar": {
              "outlinewidth": 0,
              "ticks": ""
             }
            },
            "type": "scattermap"
           }
          ],
          "scattermapbox": [
           {
            "marker": {
             "colorbar": {
              "outlinewidth": 0,
              "ticks": ""
             }
            },
            "type": "scattermapbox"
           }
          ],
          "scatterpolar": [
           {
            "marker": {
             "colorbar": {
              "outlinewidth": 0,
              "ticks": ""
             }
            },
            "type": "scatterpolar"
           }
          ],
          "scatterpolargl": [
           {
            "marker": {
             "colorbar": {
              "outlinewidth": 0,
              "ticks": ""
             }
            },
            "type": "scatterpolargl"
           }
          ],
          "scatterternary": [
           {
            "marker": {
             "colorbar": {
              "outlinewidth": 0,
              "ticks": ""
             }
            },
            "type": "scatterternary"
           }
          ],
          "surface": [
           {
            "colorbar": {
             "outlinewidth": 0,
             "ticks": ""
            },
            "colorscale": [
             [
              0,
              "#0d0887"
             ],
             [
              0.1111111111111111,
              "#46039f"
             ],
             [
              0.2222222222222222,
              "#7201a8"
             ],
             [
              0.3333333333333333,
              "#9c179e"
             ],
             [
              0.4444444444444444,
              "#bd3786"
             ],
             [
              0.5555555555555556,
              "#d8576b"
             ],
             [
              0.6666666666666666,
              "#ed7953"
             ],
             [
              0.7777777777777778,
              "#fb9f3a"
             ],
             [
              0.8888888888888888,
              "#fdca26"
             ],
             [
              1,
              "#f0f921"
             ]
            ],
            "type": "surface"
           }
          ],
          "table": [
           {
            "cells": {
             "fill": {
              "color": "#EBF0F8"
             },
             "line": {
              "color": "white"
             }
            },
            "header": {
             "fill": {
              "color": "#C8D4E3"
             },
             "line": {
              "color": "white"
             }
            },
            "type": "table"
           }
          ]
         },
         "layout": {
          "annotationdefaults": {
           "arrowcolor": "#2a3f5f",
           "arrowhead": 0,
           "arrowwidth": 1
          },
          "autotypenumbers": "strict",
          "coloraxis": {
           "colorbar": {
            "outlinewidth": 0,
            "ticks": ""
           }
          },
          "colorscale": {
           "diverging": [
            [
             0,
             "#8e0152"
            ],
            [
             0.1,
             "#c51b7d"
            ],
            [
             0.2,
             "#de77ae"
            ],
            [
             0.3,
             "#f1b6da"
            ],
            [
             0.4,
             "#fde0ef"
            ],
            [
             0.5,
             "#f7f7f7"
            ],
            [
             0.6,
             "#e6f5d0"
            ],
            [
             0.7,
             "#b8e186"
            ],
            [
             0.8,
             "#7fbc41"
            ],
            [
             0.9,
             "#4d9221"
            ],
            [
             1,
             "#276419"
            ]
           ],
           "sequential": [
            [
             0,
             "#0d0887"
            ],
            [
             0.1111111111111111,
             "#46039f"
            ],
            [
             0.2222222222222222,
             "#7201a8"
            ],
            [
             0.3333333333333333,
             "#9c179e"
            ],
            [
             0.4444444444444444,
             "#bd3786"
            ],
            [
             0.5555555555555556,
             "#d8576b"
            ],
            [
             0.6666666666666666,
             "#ed7953"
            ],
            [
             0.7777777777777778,
             "#fb9f3a"
            ],
            [
             0.8888888888888888,
             "#fdca26"
            ],
            [
             1,
             "#f0f921"
            ]
           ],
           "sequentialminus": [
            [
             0,
             "#0d0887"
            ],
            [
             0.1111111111111111,
             "#46039f"
            ],
            [
             0.2222222222222222,
             "#7201a8"
            ],
            [
             0.3333333333333333,
             "#9c179e"
            ],
            [
             0.4444444444444444,
             "#bd3786"
            ],
            [
             0.5555555555555556,
             "#d8576b"
            ],
            [
             0.6666666666666666,
             "#ed7953"
            ],
            [
             0.7777777777777778,
             "#fb9f3a"
            ],
            [
             0.8888888888888888,
             "#fdca26"
            ],
            [
             1,
             "#f0f921"
            ]
           ]
          },
          "colorway": [
           "#636efa",
           "#EF553B",
           "#00cc96",
           "#ab63fa",
           "#FFA15A",
           "#19d3f3",
           "#FF6692",
           "#B6E880",
           "#FF97FF",
           "#FECB52"
          ],
          "font": {
           "color": "#2a3f5f"
          },
          "geo": {
           "bgcolor": "white",
           "lakecolor": "white",
           "landcolor": "#E5ECF6",
           "showlakes": true,
           "showland": true,
           "subunitcolor": "white"
          },
          "hoverlabel": {
           "align": "left"
          },
          "hovermode": "closest",
          "mapbox": {
           "style": "light"
          },
          "paper_bgcolor": "white",
          "plot_bgcolor": "#E5ECF6",
          "polar": {
           "angularaxis": {
            "gridcolor": "white",
            "linecolor": "white",
            "ticks": ""
           },
           "bgcolor": "#E5ECF6",
           "radialaxis": {
            "gridcolor": "white",
            "linecolor": "white",
            "ticks": ""
           }
          },
          "scene": {
           "xaxis": {
            "backgroundcolor": "#E5ECF6",
            "gridcolor": "white",
            "gridwidth": 2,
            "linecolor": "white",
            "showbackground": true,
            "ticks": "",
            "zerolinecolor": "white"
           },
           "yaxis": {
            "backgroundcolor": "#E5ECF6",
            "gridcolor": "white",
            "gridwidth": 2,
            "linecolor": "white",
            "showbackground": true,
            "ticks": "",
            "zerolinecolor": "white"
           },
           "zaxis": {
            "backgroundcolor": "#E5ECF6",
            "gridcolor": "white",
            "gridwidth": 2,
            "linecolor": "white",
            "showbackground": true,
            "ticks": "",
            "zerolinecolor": "white"
           }
          },
          "shapedefaults": {
           "line": {
            "color": "#2a3f5f"
           }
          },
          "ternary": {
           "aaxis": {
            "gridcolor": "white",
            "linecolor": "white",
            "ticks": ""
           },
           "baxis": {
            "gridcolor": "white",
            "linecolor": "white",
            "ticks": ""
           },
           "bgcolor": "#E5ECF6",
           "caxis": {
            "gridcolor": "white",
            "linecolor": "white",
            "ticks": ""
           }
          },
          "title": {
           "x": 0.05
          },
          "xaxis": {
           "automargin": true,
           "gridcolor": "white",
           "linecolor": "white",
           "ticks": "",
           "title": {
            "standoff": 15
           },
           "zerolinecolor": "white",
           "zerolinewidth": 2
          },
          "yaxis": {
           "automargin": true,
           "gridcolor": "white",
           "linecolor": "white",
           "ticks": "",
           "title": {
            "standoff": 15
           },
           "zerolinecolor": "white",
           "zerolinewidth": 2
          }
         }
        },
        "title": {
         "text": "Descomposición de la Serie Temporal (Multiplicative) para Marketing"
        },
        "xaxis": {
         "anchor": "y",
         "domain": [
          0,
          1
         ]
        },
        "xaxis2": {
         "anchor": "y2",
         "domain": [
          0,
          1
         ]
        },
        "xaxis3": {
         "anchor": "y3",
         "domain": [
          0,
          1
         ]
        },
        "xaxis4": {
         "anchor": "y4",
         "domain": [
          0,
          1
         ]
        },
        "yaxis": {
         "anchor": "x",
         "domain": [
          0.84375,
          1
         ]
        },
        "yaxis2": {
         "anchor": "x2",
         "domain": [
          0.5625,
          0.71875
         ]
        },
        "yaxis3": {
         "anchor": "x3",
         "domain": [
          0.28125,
          0.4375
         ]
        },
        "yaxis4": {
         "anchor": "x4",
         "domain": [
          0,
          0.15625
         ]
        }
       }
      }
     },
     "metadata": {},
     "output_type": "display_data"
    },
    {
     "name": "stderr",
     "output_type": "stream",
     "text": [
      "2025-08-14 17:13:19,461 - INFO - Desviación estándar de los residuales aditivos: 350.22\n",
      "2025-08-14 17:13:19,464 - INFO - Desviación estándar de los residuales multiplicativos: 0.09279681745875171\n",
      "2025-08-14 17:13:19,467 - INFO - P-value del test ADF: 0.84\n",
      "2025-08-14 17:13:19,469 - INFO - Criterio de selección: La desviación estándar de los residuos multiplicative es menor.\n",
      "2025-08-14 17:13:19,464 - INFO - Desviación estándar de los residuales multiplicativos: 0.09279681745875171\n",
      "2025-08-14 17:13:19,467 - INFO - P-value del test ADF: 0.84\n",
      "2025-08-14 17:13:19,469 - INFO - Criterio de selección: La desviación estándar de los residuos multiplicative es menor.\n",
      "2025-08-14 17:13:19,474 - INFO - El departamento Sales tiene una descomposición multiplicative.\n",
      "2025-08-14 17:13:19,474 - INFO - El departamento Sales tiene una descomposición multiplicative.\n"
     ]
    },
    {
     "data": {
      "application/vnd.plotly.v1+json": {
       "config": {
        "plotlyServerURL": "https://plot.ly"
       },
       "data": [
        {
         "mode": "lines",
         "name": "Original",
         "type": "scatter",
         "x": [
          "2022-01-01T00:00:00.000000000",
          "2022-02-01T00:00:00.000000000",
          "2022-03-01T00:00:00.000000000",
          "2022-04-01T00:00:00.000000000",
          "2022-05-01T00:00:00.000000000",
          "2022-06-01T00:00:00.000000000",
          "2022-07-01T00:00:00.000000000",
          "2022-08-01T00:00:00.000000000",
          "2022-09-01T00:00:00.000000000",
          "2022-10-01T00:00:00.000000000",
          "2022-11-01T00:00:00.000000000",
          "2022-12-01T00:00:00.000000000",
          "2023-01-01T00:00:00.000000000",
          "2023-02-01T00:00:00.000000000",
          "2023-03-01T00:00:00.000000000",
          "2023-04-01T00:00:00.000000000",
          "2023-05-01T00:00:00.000000000",
          "2023-06-01T00:00:00.000000000",
          "2023-07-01T00:00:00.000000000",
          "2023-08-01T00:00:00.000000000",
          "2023-09-01T00:00:00.000000000",
          "2023-10-01T00:00:00.000000000",
          "2023-11-01T00:00:00.000000000",
          "2023-12-01T00:00:00.000000000",
          "2024-01-01T00:00:00.000000000",
          "2024-02-01T00:00:00.000000000",
          "2024-03-01T00:00:00.000000000",
          "2024-04-01T00:00:00.000000000",
          "2024-05-01T00:00:00.000000000",
          "2024-06-01T00:00:00.000000000",
          "2024-07-01T00:00:00.000000000",
          "2024-08-01T00:00:00.000000000",
          "2024-09-01T00:00:00.000000000",
          "2024-10-01T00:00:00.000000000",
          "2024-11-01T00:00:00.000000000",
          "2024-12-01T00:00:00.000000000",
          "2025-01-01T00:00:00.000000000",
          "2025-02-01T00:00:00.000000000",
          "2025-03-01T00:00:00.000000000",
          "2025-04-01T00:00:00.000000000"
         ],
         "xaxis": "x",
         "y": {
          "bdata": "9ihcj8J1OkBI4XoUrndVQFK4HoXr4WBA4XoUrkcJbECQwvUoXHt6QPYoXI/CTY9AexSuR+H6ekCPwvUoXNN7QEjhehSu+3tA4noUrkephEDsUbgehU+IQLgehetR3apArkfhehSiiECQwvUoXAmEQOxRuB6FHYlA7FG4HoUxj0ApXI/C9T6RQJqZmZmZKadA16NwPQqdkkCPwvUoXB2PQFK4HoXr4YxA4noUrkd/lECkcD0K1yuUQBSuR+G65bdAhetRuB4akUB7FK5H4bWSQOxRuB6F+pdA7FG4HoX1lEAehetRuLGSQOxRuB7F/7FArkfhehQAlEAehetRuDKVQJDC9ShcQZlAZmZmZmZllUA9CtejcEWSQOF6FK6nxMBAj8L1KFyWlUC4HoXrUTyWQHE9Ctejo55AZmZmZmbEmUA=",
          "dtype": "f8"
         },
         "yaxis": "y"
        },
        {
         "mode": "lines",
         "name": "Tendencia",
         "type": "scatter",
         "x": [
          "2022-01-01T00:00:00.000000000",
          "2022-02-01T00:00:00.000000000",
          "2022-03-01T00:00:00.000000000",
          "2022-04-01T00:00:00.000000000",
          "2022-05-01T00:00:00.000000000",
          "2022-06-01T00:00:00.000000000",
          "2022-07-01T00:00:00.000000000",
          "2022-08-01T00:00:00.000000000",
          "2022-09-01T00:00:00.000000000",
          "2022-10-01T00:00:00.000000000",
          "2022-11-01T00:00:00.000000000",
          "2022-12-01T00:00:00.000000000",
          "2023-01-01T00:00:00.000000000",
          "2023-02-01T00:00:00.000000000",
          "2023-03-01T00:00:00.000000000",
          "2023-04-01T00:00:00.000000000",
          "2023-05-01T00:00:00.000000000",
          "2023-06-01T00:00:00.000000000",
          "2023-07-01T00:00:00.000000000",
          "2023-08-01T00:00:00.000000000",
          "2023-09-01T00:00:00.000000000",
          "2023-10-01T00:00:00.000000000",
          "2023-11-01T00:00:00.000000000",
          "2023-12-01T00:00:00.000000000",
          "2024-01-01T00:00:00.000000000",
          "2024-02-01T00:00:00.000000000",
          "2024-03-01T00:00:00.000000000",
          "2024-04-01T00:00:00.000000000",
          "2024-05-01T00:00:00.000000000",
          "2024-06-01T00:00:00.000000000",
          "2024-07-01T00:00:00.000000000",
          "2024-08-01T00:00:00.000000000",
          "2024-09-01T00:00:00.000000000",
          "2024-10-01T00:00:00.000000000",
          "2024-11-01T00:00:00.000000000",
          "2024-12-01T00:00:00.000000000",
          "2025-01-01T00:00:00.000000000",
          "2025-02-01T00:00:00.000000000",
          "2025-03-01T00:00:00.000000000",
          "2025-04-01T00:00:00.000000000"
         ],
         "xaxis": "x2",
         "y": {
          "bdata": "AAAAAAAA+H8AAAAAAAD4fwAAAAAAAPh/AAAAAAAA+H8AAAAAAAD4fwAAAAAAAPh/S36x5JcVhkDSBjptoMyHQD+nDXSaZIlAiiW/WHJFi0CicD0KFyqNQGkDnTaQTZBAo3A9ClcTkkBH4XoUru2SQHh3d3fXmJNA20CnDbRUlEBnZmZmphaVQNejcD2qKpdA8oslvzgcmUC7u7u7+6uZQJNfLPmFgppAUrgehYs1m0ARERERMX6bQEt+seR3n5xApHA9ChfAnUCh0wY6DQueQLgeheuRup5AIiIiIoI3n0CtR+F61CyfQAOdNtDpWaBAdnd3d3c/oUDTBjptMGqhQJ020GmDoKFASOF6FK7doUAAAAAAAAD4fwAAAAAAAPh/AAAAAAAA+H8AAAAAAAD4fwAAAAAAAPh/AAAAAAAA+H8=",
          "dtype": "f8"
         },
         "yaxis": "y2"
        },
        {
         "mode": "lines",
         "name": "Estacionalidad",
         "type": "scatter",
         "x": [
          "2022-01-01T00:00:00.000000000",
          "2022-02-01T00:00:00.000000000",
          "2022-03-01T00:00:00.000000000",
          "2022-04-01T00:00:00.000000000",
          "2022-05-01T00:00:00.000000000",
          "2022-06-01T00:00:00.000000000",
          "2022-07-01T00:00:00.000000000",
          "2022-08-01T00:00:00.000000000",
          "2022-09-01T00:00:00.000000000",
          "2022-10-01T00:00:00.000000000",
          "2022-11-01T00:00:00.000000000",
          "2022-12-01T00:00:00.000000000",
          "2023-01-01T00:00:00.000000000",
          "2023-02-01T00:00:00.000000000",
          "2023-03-01T00:00:00.000000000",
          "2023-04-01T00:00:00.000000000",
          "2023-05-01T00:00:00.000000000",
          "2023-06-01T00:00:00.000000000",
          "2023-07-01T00:00:00.000000000",
          "2023-08-01T00:00:00.000000000",
          "2023-09-01T00:00:00.000000000",
          "2023-10-01T00:00:00.000000000",
          "2023-11-01T00:00:00.000000000",
          "2023-12-01T00:00:00.000000000",
          "2024-01-01T00:00:00.000000000",
          "2024-02-01T00:00:00.000000000",
          "2024-03-01T00:00:00.000000000",
          "2024-04-01T00:00:00.000000000",
          "2024-05-01T00:00:00.000000000",
          "2024-06-01T00:00:00.000000000",
          "2024-07-01T00:00:00.000000000",
          "2024-08-01T00:00:00.000000000",
          "2024-09-01T00:00:00.000000000",
          "2024-10-01T00:00:00.000000000",
          "2024-11-01T00:00:00.000000000",
          "2024-12-01T00:00:00.000000000",
          "2025-01-01T00:00:00.000000000",
          "2025-02-01T00:00:00.000000000",
          "2025-03-01T00:00:00.000000000",
          "2025-04-01T00:00:00.000000000"
         ],
         "xaxis": "x3",
         "y": {
          "bdata": "AGM/V+zw4z/jM1AFi0niP8O7lvHtjuY/hwA9srvV5j+TZOKe93/mPywIjNkJrABAh6aD5K9x5D+ZQMkJQQrjP7j1RXU7LeM/n8Efh3ZT5j/lEV5hxuDoP8xdnqvVVApAAGM/V+zw4z/jM1AFi0niP8O7lvHtjuY/hwA9srvV5j+TZOKe93/mPywIjNkJrABAh6aD5K9x5D+ZQMkJQQrjP7j1RXU7LeM/n8Efh3ZT5j/lEV5hxuDoP8xdnqvVVApAAGM/V+zw4z/jM1AFi0niP8O7lvHtjuY/hwA9srvV5j+TZOKe93/mPywIjNkJrABAh6aD5K9x5D+ZQMkJQQrjP7j1RXU7LeM/n8Efh3ZT5j/lEV5hxuDoP8xdnqvVVApAAGM/V+zw4z/jM1AFi0niP8O7lvHtjuY/hwA9srvV5j8=",
          "dtype": "f8"
         },
         "yaxis": "y3"
        },
        {
         "mode": "lines",
         "name": "Residuos",
         "type": "scatter",
         "x": [
          "2022-01-01T00:00:00.000000000",
          "2022-02-01T00:00:00.000000000",
          "2022-03-01T00:00:00.000000000",
          "2022-04-01T00:00:00.000000000",
          "2022-05-01T00:00:00.000000000",
          "2022-06-01T00:00:00.000000000",
          "2022-07-01T00:00:00.000000000",
          "2022-08-01T00:00:00.000000000",
          "2022-09-01T00:00:00.000000000",
          "2022-10-01T00:00:00.000000000",
          "2022-11-01T00:00:00.000000000",
          "2022-12-01T00:00:00.000000000",
          "2023-01-01T00:00:00.000000000",
          "2023-02-01T00:00:00.000000000",
          "2023-03-01T00:00:00.000000000",
          "2023-04-01T00:00:00.000000000",
          "2023-05-01T00:00:00.000000000",
          "2023-06-01T00:00:00.000000000",
          "2023-07-01T00:00:00.000000000",
          "2023-08-01T00:00:00.000000000",
          "2023-09-01T00:00:00.000000000",
          "2023-10-01T00:00:00.000000000",
          "2023-11-01T00:00:00.000000000",
          "2023-12-01T00:00:00.000000000",
          "2024-01-01T00:00:00.000000000",
          "2024-02-01T00:00:00.000000000",
          "2024-03-01T00:00:00.000000000",
          "2024-04-01T00:00:00.000000000",
          "2024-05-01T00:00:00.000000000",
          "2024-06-01T00:00:00.000000000",
          "2024-07-01T00:00:00.000000000",
          "2024-08-01T00:00:00.000000000",
          "2024-09-01T00:00:00.000000000",
          "2024-10-01T00:00:00.000000000",
          "2024-11-01T00:00:00.000000000",
          "2024-12-01T00:00:00.000000000",
          "2025-01-01T00:00:00.000000000",
          "2025-02-01T00:00:00.000000000",
          "2025-03-01T00:00:00.000000000",
          "2025-04-01T00:00:00.000000000"
         ],
         "xaxis": "x4",
         "y": {
          "bdata": "AAAAAAAA+H8AAAAAAAD4fwAAAAAAAPh/AAAAAAAA+H8AAAAAAAD4fwAAAAAAAPh/rfM2wHuY7j+uarG4oXDvP9afasslbO0//ccOOdhf8T8rlpcOvifxP2mRHVNFBfA/5+PuFcV+8T+kb4eV/KLtPyQ1p1t8Fu0/9H35X2Yz8T+BEXo5/5vyP0aeN2lhtO4/bu1FAnSQ8j+O2lbwxUvwP8LqNpCyFu0/f9TPd5lG8T/u1QgBADPuP7lv/rv4O/A/djpa8vGE7T9RSVjEv2/xP5BmSOH/tfE/WwZFXq8b7j9C30OrfUrrPwAygFoN5/A/3TSRaFYK7T/NcfpJxl3wP2Q82ehwIPM/a8qWy9Z26z8AAAAAAAD4fwAAAAAAAPh/AAAAAAAA+H8AAAAAAAD4fwAAAAAAAPh/AAAAAAAA+H8=",
          "dtype": "f8"
         },
         "yaxis": "y4"
        }
       ],
       "layout": {
        "annotations": [
         {
          "font": {
           "size": 16
          },
          "showarrow": false,
          "text": "Original",
          "x": 0.5,
          "xanchor": "center",
          "xref": "paper",
          "y": 1,
          "yanchor": "bottom",
          "yref": "paper"
         },
         {
          "font": {
           "size": 16
          },
          "showarrow": false,
          "text": "Tendencia",
          "x": 0.5,
          "xanchor": "center",
          "xref": "paper",
          "y": 0.71875,
          "yanchor": "bottom",
          "yref": "paper"
         },
         {
          "font": {
           "size": 16
          },
          "showarrow": false,
          "text": "Estacionalidad",
          "x": 0.5,
          "xanchor": "center",
          "xref": "paper",
          "y": 0.4375,
          "yanchor": "bottom",
          "yref": "paper"
         },
         {
          "font": {
           "size": 16
          },
          "showarrow": false,
          "text": "Residuos",
          "x": 0.5,
          "xanchor": "center",
          "xref": "paper",
          "y": 0.15625,
          "yanchor": "bottom",
          "yref": "paper"
         }
        ],
        "height": 800,
        "template": {
         "data": {
          "bar": [
           {
            "error_x": {
             "color": "#2a3f5f"
            },
            "error_y": {
             "color": "#2a3f5f"
            },
            "marker": {
             "line": {
              "color": "#E5ECF6",
              "width": 0.5
             },
             "pattern": {
              "fillmode": "overlay",
              "size": 10,
              "solidity": 0.2
             }
            },
            "type": "bar"
           }
          ],
          "barpolar": [
           {
            "marker": {
             "line": {
              "color": "#E5ECF6",
              "width": 0.5
             },
             "pattern": {
              "fillmode": "overlay",
              "size": 10,
              "solidity": 0.2
             }
            },
            "type": "barpolar"
           }
          ],
          "carpet": [
           {
            "aaxis": {
             "endlinecolor": "#2a3f5f",
             "gridcolor": "white",
             "linecolor": "white",
             "minorgridcolor": "white",
             "startlinecolor": "#2a3f5f"
            },
            "baxis": {
             "endlinecolor": "#2a3f5f",
             "gridcolor": "white",
             "linecolor": "white",
             "minorgridcolor": "white",
             "startlinecolor": "#2a3f5f"
            },
            "type": "carpet"
           }
          ],
          "choropleth": [
           {
            "colorbar": {
             "outlinewidth": 0,
             "ticks": ""
            },
            "type": "choropleth"
           }
          ],
          "contour": [
           {
            "colorbar": {
             "outlinewidth": 0,
             "ticks": ""
            },
            "colorscale": [
             [
              0,
              "#0d0887"
             ],
             [
              0.1111111111111111,
              "#46039f"
             ],
             [
              0.2222222222222222,
              "#7201a8"
             ],
             [
              0.3333333333333333,
              "#9c179e"
             ],
             [
              0.4444444444444444,
              "#bd3786"
             ],
             [
              0.5555555555555556,
              "#d8576b"
             ],
             [
              0.6666666666666666,
              "#ed7953"
             ],
             [
              0.7777777777777778,
              "#fb9f3a"
             ],
             [
              0.8888888888888888,
              "#fdca26"
             ],
             [
              1,
              "#f0f921"
             ]
            ],
            "type": "contour"
           }
          ],
          "contourcarpet": [
           {
            "colorbar": {
             "outlinewidth": 0,
             "ticks": ""
            },
            "type": "contourcarpet"
           }
          ],
          "heatmap": [
           {
            "colorbar": {
             "outlinewidth": 0,
             "ticks": ""
            },
            "colorscale": [
             [
              0,
              "#0d0887"
             ],
             [
              0.1111111111111111,
              "#46039f"
             ],
             [
              0.2222222222222222,
              "#7201a8"
             ],
             [
              0.3333333333333333,
              "#9c179e"
             ],
             [
              0.4444444444444444,
              "#bd3786"
             ],
             [
              0.5555555555555556,
              "#d8576b"
             ],
             [
              0.6666666666666666,
              "#ed7953"
             ],
             [
              0.7777777777777778,
              "#fb9f3a"
             ],
             [
              0.8888888888888888,
              "#fdca26"
             ],
             [
              1,
              "#f0f921"
             ]
            ],
            "type": "heatmap"
           }
          ],
          "histogram": [
           {
            "marker": {
             "pattern": {
              "fillmode": "overlay",
              "size": 10,
              "solidity": 0.2
             }
            },
            "type": "histogram"
           }
          ],
          "histogram2d": [
           {
            "colorbar": {
             "outlinewidth": 0,
             "ticks": ""
            },
            "colorscale": [
             [
              0,
              "#0d0887"
             ],
             [
              0.1111111111111111,
              "#46039f"
             ],
             [
              0.2222222222222222,
              "#7201a8"
             ],
             [
              0.3333333333333333,
              "#9c179e"
             ],
             [
              0.4444444444444444,
              "#bd3786"
             ],
             [
              0.5555555555555556,
              "#d8576b"
             ],
             [
              0.6666666666666666,
              "#ed7953"
             ],
             [
              0.7777777777777778,
              "#fb9f3a"
             ],
             [
              0.8888888888888888,
              "#fdca26"
             ],
             [
              1,
              "#f0f921"
             ]
            ],
            "type": "histogram2d"
           }
          ],
          "histogram2dcontour": [
           {
            "colorbar": {
             "outlinewidth": 0,
             "ticks": ""
            },
            "colorscale": [
             [
              0,
              "#0d0887"
             ],
             [
              0.1111111111111111,
              "#46039f"
             ],
             [
              0.2222222222222222,
              "#7201a8"
             ],
             [
              0.3333333333333333,
              "#9c179e"
             ],
             [
              0.4444444444444444,
              "#bd3786"
             ],
             [
              0.5555555555555556,
              "#d8576b"
             ],
             [
              0.6666666666666666,
              "#ed7953"
             ],
             [
              0.7777777777777778,
              "#fb9f3a"
             ],
             [
              0.8888888888888888,
              "#fdca26"
             ],
             [
              1,
              "#f0f921"
             ]
            ],
            "type": "histogram2dcontour"
           }
          ],
          "mesh3d": [
           {
            "colorbar": {
             "outlinewidth": 0,
             "ticks": ""
            },
            "type": "mesh3d"
           }
          ],
          "parcoords": [
           {
            "line": {
             "colorbar": {
              "outlinewidth": 0,
              "ticks": ""
             }
            },
            "type": "parcoords"
           }
          ],
          "pie": [
           {
            "automargin": true,
            "type": "pie"
           }
          ],
          "scatter": [
           {
            "fillpattern": {
             "fillmode": "overlay",
             "size": 10,
             "solidity": 0.2
            },
            "type": "scatter"
           }
          ],
          "scatter3d": [
           {
            "line": {
             "colorbar": {
              "outlinewidth": 0,
              "ticks": ""
             }
            },
            "marker": {
             "colorbar": {
              "outlinewidth": 0,
              "ticks": ""
             }
            },
            "type": "scatter3d"
           }
          ],
          "scattercarpet": [
           {
            "marker": {
             "colorbar": {
              "outlinewidth": 0,
              "ticks": ""
             }
            },
            "type": "scattercarpet"
           }
          ],
          "scattergeo": [
           {
            "marker": {
             "colorbar": {
              "outlinewidth": 0,
              "ticks": ""
             }
            },
            "type": "scattergeo"
           }
          ],
          "scattergl": [
           {
            "marker": {
             "colorbar": {
              "outlinewidth": 0,
              "ticks": ""
             }
            },
            "type": "scattergl"
           }
          ],
          "scattermap": [
           {
            "marker": {
             "colorbar": {
              "outlinewidth": 0,
              "ticks": ""
             }
            },
            "type": "scattermap"
           }
          ],
          "scattermapbox": [
           {
            "marker": {
             "colorbar": {
              "outlinewidth": 0,
              "ticks": ""
             }
            },
            "type": "scattermapbox"
           }
          ],
          "scatterpolar": [
           {
            "marker": {
             "colorbar": {
              "outlinewidth": 0,
              "ticks": ""
             }
            },
            "type": "scatterpolar"
           }
          ],
          "scatterpolargl": [
           {
            "marker": {
             "colorbar": {
              "outlinewidth": 0,
              "ticks": ""
             }
            },
            "type": "scatterpolargl"
           }
          ],
          "scatterternary": [
           {
            "marker": {
             "colorbar": {
              "outlinewidth": 0,
              "ticks": ""
             }
            },
            "type": "scatterternary"
           }
          ],
          "surface": [
           {
            "colorbar": {
             "outlinewidth": 0,
             "ticks": ""
            },
            "colorscale": [
             [
              0,
              "#0d0887"
             ],
             [
              0.1111111111111111,
              "#46039f"
             ],
             [
              0.2222222222222222,
              "#7201a8"
             ],
             [
              0.3333333333333333,
              "#9c179e"
             ],
             [
              0.4444444444444444,
              "#bd3786"
             ],
             [
              0.5555555555555556,
              "#d8576b"
             ],
             [
              0.6666666666666666,
              "#ed7953"
             ],
             [
              0.7777777777777778,
              "#fb9f3a"
             ],
             [
              0.8888888888888888,
              "#fdca26"
             ],
             [
              1,
              "#f0f921"
             ]
            ],
            "type": "surface"
           }
          ],
          "table": [
           {
            "cells": {
             "fill": {
              "color": "#EBF0F8"
             },
             "line": {
              "color": "white"
             }
            },
            "header": {
             "fill": {
              "color": "#C8D4E3"
             },
             "line": {
              "color": "white"
             }
            },
            "type": "table"
           }
          ]
         },
         "layout": {
          "annotationdefaults": {
           "arrowcolor": "#2a3f5f",
           "arrowhead": 0,
           "arrowwidth": 1
          },
          "autotypenumbers": "strict",
          "coloraxis": {
           "colorbar": {
            "outlinewidth": 0,
            "ticks": ""
           }
          },
          "colorscale": {
           "diverging": [
            [
             0,
             "#8e0152"
            ],
            [
             0.1,
             "#c51b7d"
            ],
            [
             0.2,
             "#de77ae"
            ],
            [
             0.3,
             "#f1b6da"
            ],
            [
             0.4,
             "#fde0ef"
            ],
            [
             0.5,
             "#f7f7f7"
            ],
            [
             0.6,
             "#e6f5d0"
            ],
            [
             0.7,
             "#b8e186"
            ],
            [
             0.8,
             "#7fbc41"
            ],
            [
             0.9,
             "#4d9221"
            ],
            [
             1,
             "#276419"
            ]
           ],
           "sequential": [
            [
             0,
             "#0d0887"
            ],
            [
             0.1111111111111111,
             "#46039f"
            ],
            [
             0.2222222222222222,
             "#7201a8"
            ],
            [
             0.3333333333333333,
             "#9c179e"
            ],
            [
             0.4444444444444444,
             "#bd3786"
            ],
            [
             0.5555555555555556,
             "#d8576b"
            ],
            [
             0.6666666666666666,
             "#ed7953"
            ],
            [
             0.7777777777777778,
             "#fb9f3a"
            ],
            [
             0.8888888888888888,
             "#fdca26"
            ],
            [
             1,
             "#f0f921"
            ]
           ],
           "sequentialminus": [
            [
             0,
             "#0d0887"
            ],
            [
             0.1111111111111111,
             "#46039f"
            ],
            [
             0.2222222222222222,
             "#7201a8"
            ],
            [
             0.3333333333333333,
             "#9c179e"
            ],
            [
             0.4444444444444444,
             "#bd3786"
            ],
            [
             0.5555555555555556,
             "#d8576b"
            ],
            [
             0.6666666666666666,
             "#ed7953"
            ],
            [
             0.7777777777777778,
             "#fb9f3a"
            ],
            [
             0.8888888888888888,
             "#fdca26"
            ],
            [
             1,
             "#f0f921"
            ]
           ]
          },
          "colorway": [
           "#636efa",
           "#EF553B",
           "#00cc96",
           "#ab63fa",
           "#FFA15A",
           "#19d3f3",
           "#FF6692",
           "#B6E880",
           "#FF97FF",
           "#FECB52"
          ],
          "font": {
           "color": "#2a3f5f"
          },
          "geo": {
           "bgcolor": "white",
           "lakecolor": "white",
           "landcolor": "#E5ECF6",
           "showlakes": true,
           "showland": true,
           "subunitcolor": "white"
          },
          "hoverlabel": {
           "align": "left"
          },
          "hovermode": "closest",
          "mapbox": {
           "style": "light"
          },
          "paper_bgcolor": "white",
          "plot_bgcolor": "#E5ECF6",
          "polar": {
           "angularaxis": {
            "gridcolor": "white",
            "linecolor": "white",
            "ticks": ""
           },
           "bgcolor": "#E5ECF6",
           "radialaxis": {
            "gridcolor": "white",
            "linecolor": "white",
            "ticks": ""
           }
          },
          "scene": {
           "xaxis": {
            "backgroundcolor": "#E5ECF6",
            "gridcolor": "white",
            "gridwidth": 2,
            "linecolor": "white",
            "showbackground": true,
            "ticks": "",
            "zerolinecolor": "white"
           },
           "yaxis": {
            "backgroundcolor": "#E5ECF6",
            "gridcolor": "white",
            "gridwidth": 2,
            "linecolor": "white",
            "showbackground": true,
            "ticks": "",
            "zerolinecolor": "white"
           },
           "zaxis": {
            "backgroundcolor": "#E5ECF6",
            "gridcolor": "white",
            "gridwidth": 2,
            "linecolor": "white",
            "showbackground": true,
            "ticks": "",
            "zerolinecolor": "white"
           }
          },
          "shapedefaults": {
           "line": {
            "color": "#2a3f5f"
           }
          },
          "ternary": {
           "aaxis": {
            "gridcolor": "white",
            "linecolor": "white",
            "ticks": ""
           },
           "baxis": {
            "gridcolor": "white",
            "linecolor": "white",
            "ticks": ""
           },
           "bgcolor": "#E5ECF6",
           "caxis": {
            "gridcolor": "white",
            "linecolor": "white",
            "ticks": ""
           }
          },
          "title": {
           "x": 0.05
          },
          "xaxis": {
           "automargin": true,
           "gridcolor": "white",
           "linecolor": "white",
           "ticks": "",
           "title": {
            "standoff": 15
           },
           "zerolinecolor": "white",
           "zerolinewidth": 2
          },
          "yaxis": {
           "automargin": true,
           "gridcolor": "white",
           "linecolor": "white",
           "ticks": "",
           "title": {
            "standoff": 15
           },
           "zerolinecolor": "white",
           "zerolinewidth": 2
          }
         }
        },
        "title": {
         "text": "Descomposición de la Serie Temporal (Multiplicative) para Sales"
        },
        "xaxis": {
         "anchor": "y",
         "domain": [
          0,
          1
         ]
        },
        "xaxis2": {
         "anchor": "y2",
         "domain": [
          0,
          1
         ]
        },
        "xaxis3": {
         "anchor": "y3",
         "domain": [
          0,
          1
         ]
        },
        "xaxis4": {
         "anchor": "y4",
         "domain": [
          0,
          1
         ]
        },
        "yaxis": {
         "anchor": "x",
         "domain": [
          0.84375,
          1
         ]
        },
        "yaxis2": {
         "anchor": "x2",
         "domain": [
          0.5625,
          0.71875
         ]
        },
        "yaxis3": {
         "anchor": "x3",
         "domain": [
          0.28125,
          0.4375
         ]
        },
        "yaxis4": {
         "anchor": "x4",
         "domain": [
          0,
          0.15625
         ]
        }
       }
      }
     },
     "metadata": {},
     "output_type": "display_data"
    }
   ],
   "source": [
    "# Switch para eliminar outliers (por defecto False)\n",
    "REMOVE_OUTLIERS = False\n",
    "\n",
    "# Switches para selección de modelo\n",
    "AUTO_MODEL_SELECTION = True  # Si True, selecciona automáticamente el mejor modelo por métricas\n",
    "USE_XGBOOST = False          # Si AUTO_MODEL_SELECTION es False y este es True, usa XGBoost para todos los departamentos\n",
    "USE_ARIMA = False            # Si AUTO_MODEL_SELECTION es False y este es True, usa ARIMA para todos los departamentos\n",
    "USE_PROPHET = False          # Si AUTO_MODEL_SELECTION es False y este es True, usa Prophet para todos los departamentos\n",
    "USE_ES = False               # Si AUTO_MODEL_SELECTION es False y este es True, usa Exponential Smoothing para todos los departamentos\n",
    "\n",
    "def load_data():\n",
    "    try:\n",
    "        conn = get_db_connection()\n",
    "        query = \"SELECT work_date, department, total_overtime FROM vw_historical_data WHERE work_date < '2025-05-01' ORDER BY work_date\"\n",
    "        df = pd.read_sql(query, conn)\n",
    "        conn.close()\n",
    "        logging.info(f\"Datos cargados: {len(df)} registros\")\n",
    "        df['work_date'] = pd.to_datetime(df['work_date'])\n",
    "        \n",
    "        # Agrupar por mes (MoM) - ahora al inicio del mes\n",
    "        df.set_index('work_date', inplace=True)\n",
    "        df = df.groupby('department').resample('MS').sum(numeric_only=True).reset_index()  # 'MS' = Month Start\n",
    "        df.rename(columns={'work_date': 'ds', 'total_overtime': 'y'}, inplace=True)\n",
    "        \n",
    "        return df\n",
    "    except Exception as e:\n",
    "        logging.error(f\"Error al cargar datos: {e}\")\n",
    "        return pd.DataFrame()\n",
    "\n",
    "def handle_outliers(df):\n",
    "    df_cleaned = df.copy()\n",
    "    for dept in df_cleaned['department'].unique():\n",
    "        dept_data = df_cleaned[df_cleaned['department'] == dept]['y']\n",
    "        \n",
    "        # Filtrado de Hampel para detección de outliers\n",
    "        median = dept_data.median()\n",
    "        mad = median_abs_deviation(dept_data)\n",
    "        threshold = 3 * mad\n",
    "        \n",
    "        lower_bound = median - threshold\n",
    "        upper_bound = median + threshold\n",
    "        \n",
    "        outliers = dept_data[(dept_data < lower_bound) | (dept_data > upper_bound)]\n",
    "        if not outliers.empty:\n",
    "            logging.warning(f\"Outliers detectados en {dept}:\\n{df_cleaned[(df_cleaned['department'] == dept) & df_cleaned['y'].isin(outliers)]}\")\n",
    "            df_cleaned.loc[(df_cleaned['department'] == dept) & (df_cleaned['y'].isin(outliers)), 'y'] = np.nan\n",
    "        \n",
    "    df_cleaned['y'] = df_cleaned.groupby('department')['y'].transform(lambda x: x.interpolate(method='linear'))\n",
    "    return df_cleaned\n",
    "\n",
    "# Cargar datos y aplicar/remover outliers según el switch\n",
    "df_all_data = load_data()\n",
    "if REMOVE_OUTLIERS:\n",
    "    df_all_data = handle_outliers(df_all_data)\n",
    "\n",
    "logging.info(f\"Resumen de datos:\\nDepartamentos únicos: {df_all_data['department'].unique()}\\nFechas únicas: {df_all_data['ds'].unique()}\\nTotal registros: {len(df_all_data)}\")\n",
    "\n",
    "\n",
    "def select_decomposition_type(series):\n",
    "    # Rellenar valores nulos con la media de la serie para evitar errores\n",
    "    series_filled = series.fillna(series.mean())\n",
    "\n",
    "    # Realizar el test de Dickey-Fuller para verificar estacionalidad\n",
    "    adf_result = adfuller(series_filled)\n",
    "    is_stationary = adf_result[1] <= 0.05\n",
    "\n",
    "    # Descomposición aditiva\n",
    "    result_add = seasonal_decompose(series_filled, model='additive', period=12)\n",
    "    std_add = np.nanstd(result_add.resid)\n",
    "\n",
    "    # Verificar si hay ceros o negativos para evitar error en multiplicativa\n",
    "    if (series_filled <= 0).any():\n",
    "        logging.warning(\"La serie contiene ceros o valores negativos. Solo se usará descomposición aditiva.\")\n",
    "        std_mul = np.inf\n",
    "        decomposition_type = 'additive'\n",
    "    else:\n",
    "        # Descomposición multiplicativa solo si todos los valores son positivos\n",
    "        try:\n",
    "            result_mul = seasonal_decompose(series_filled, model='multiplicative', period=12)\n",
    "            std_mul = np.nanstd(result_mul.resid)\n",
    "            decomposition_type = 'aditive' if std_add < std_mul else 'multiplicative'\n",
    "        except Exception as e:\n",
    "            logging.warning(f\"No se pudo calcular la descomposición multiplicativa: {e}\")\n",
    "            std_mul = np.inf\n",
    "            decomposition_type = 'additive'\n",
    "\n",
    "    # Limpiar prints: solo logging\n",
    "    logging.info(f\"Desviación estándar de los residuales aditivos: {std_add:.2f}\")\n",
    "    logging.info(f\"Desviación estándar de los residuales multiplicativos: {std_mul if std_mul != np.inf else 'N/A'}\")\n",
    "    logging.info(f\"P-value del test ADF: {adf_result[1]:.2f}\")\n",
    "\n",
    "    if not is_stationary and decomposition_type == 'additive':\n",
    "        logging.info(\"La serie no es estacionaria y no tiene una tendencia clara. Se descarta ARIMA.\")\n",
    "        return decomposition_type, False\n",
    "\n",
    "    logging.info(f\"Criterio de selección: La desviación estándar de los residuos {decomposition_type} es menor.\")\n",
    "    return decomposition_type, True\n",
    "\n",
    "def plot_decomposition(series, decomposition_type, dept):\n",
    "    # Rellenar valores nulos con la media de la serie para una visualización completa\n",
    "    series_filled = series.fillna(series.mean())\n",
    "    result = seasonal_decompose(series_filled, model=decomposition_type, period=12)\n",
    "    fig = make_subplots(rows=4, cols=1, subplot_titles=['Original', 'Tendencia', 'Estacionalidad', 'Residuos'])\n",
    "    \n",
    "    fig.add_trace(go.Scatter(x=series.index, y=series, mode='lines', name='Original'), row=1, col=1)\n",
    "    fig.add_trace(go.Scatter(x=result.trend.index, y=result.trend, mode='lines', name='Tendencia'), row=2, col=1)\n",
    "    fig.add_trace(go.Scatter(x=result.seasonal.index, y=result.seasonal, mode='lines', name='Estacionalidad'), row=3, col=1)\n",
    "    fig.add_trace(go.Scatter(x=result.resid.index, y=result.resid, mode='lines', name='Residuos'), row=4, col=1)\n",
    "    \n",
    "    fig.update_layout(height=800, title_text=f\"Descomposición de la Serie Temporal ({decomposition_type.capitalize()}) para {dept}\")\n",
    "    fig.show()\n",
    "\n",
    "# Ejemplo de uso\n",
    "for dept in df_all_data['department'].unique():\n",
    "    dept_data = df_all_data[df_all_data['department'] == dept].set_index('ds')['y']\n",
    "    decomposition_type, _ = select_decomposition_type(dept_data)\n",
    "    logging.info(f\"El departamento {dept} tiene una descomposición {decomposition_type}.\")\n",
    "    plot_decomposition(dept_data, decomposition_type, dept)"
   ]
  },
  {
   "cell_type": "markdown",
   "id": "new_model_training",
   "metadata": {},
   "source": [
    "## 4. Entrenamiento y Selección de Modelos\n",
    "\n",
    "Para cada departamento, entrenamos y evaluamos tres modelos de pronóstico:\n",
    "\n",
    "1.  **ARIMA**: Se utiliza `auto_arima` para encontrar los parámetros óptimos. \n",
    "2.  **Prophet**: Actúa como un modelo robusto de respaldo. Su modo de estacionalidad (`additive` o `multiplicative`) se configura dinámicamente según el análisis de descomposición previo.\n",
    "3.  **Holt (Suavización Exponencial)**: Un modelo clásico que captura tendencias.\n",
    "\n",
    "Los modelos se evalúan mediante validación cruzada de series de tiempo. El mejor modelo se selecciona en función de su rendimiento en métricas clave (RMSE, MAE, SMAPE, MASE). Se genera una tabla comparativa para visualizar el rendimiento y la selección final."
   ]
  },
  {
   "cell_type": "code",
   "execution_count": 59,
   "id": "new_model_training_code",
   "metadata": {},
   "outputs": [
    {
     "name": "stderr",
     "output_type": "stream",
     "text": [
      "2025-08-14 17:13:32,751 - INFO - Optimizando ARIMA...\n",
      "2025-08-14 17:13:32,766 - WARNING - Error en ARIMA: zero-size array to reduction operation maximum which has no identity\n",
      "2025-08-14 17:13:32,787 - WARNING - Error en ARIMA: zero-size array to reduction operation maximum which has no identity\n"
     ]
    },
    {
     "name": "stdout",
     "output_type": "stream",
     "text": [
      "============================================================\n",
      "ENTRENAMIENTO Y SELECCIÓN DE MODELOS MEJORADO\n",
      "============================================================\n",
      "\n",
      "==================== DEPARTAMENTO: Finance ====================\n"
     ]
    },
    {
     "name": "stderr",
     "output_type": "stream",
     "text": [
      "2025-08-14 17:13:35,258 - INFO - Optimizando Prophet...\n",
      "2025-08-14 17:13:35,265 - DEBUG - cmd: where.exe tbb.dll\n",
      "cwd: None\n",
      "2025-08-14 17:13:35,685 - DEBUG - TBB already found in load path\n",
      "2025-08-14 17:13:35,709 - INFO - n_changepoints greater than number of observations. Using 20.\n",
      "2025-08-14 17:13:35,715 - DEBUG - input tempfile: C:\\Users\\joey_\\AppData\\Local\\Temp\\tmpzib1ovx4\\2s8nqucv.json\n",
      "2025-08-14 17:13:35,725 - DEBUG - input tempfile: C:\\Users\\joey_\\AppData\\Local\\Temp\\tmpzib1ovx4\\7nwgo2xz.json\n",
      "2025-08-14 17:13:35,729 - DEBUG - idx 0\n",
      "2025-08-14 17:13:35,731 - DEBUG - running CmdStan, num_threads: None\n",
      "2025-08-14 17:13:35,733 - DEBUG - CmdStan args: ['C:\\\\Users\\\\joey_\\\\AppData\\\\Local\\\\Programs\\\\Python\\\\Maestro_Yoda\\\\Lib\\\\site-packages\\\\prophet\\\\stan_model\\\\prophet_model.bin', 'random', 'seed=45338', 'data', 'file=C:\\\\Users\\\\joey_\\\\AppData\\\\Local\\\\Temp\\\\tmpzib1ovx4\\\\2s8nqucv.json', 'init=C:\\\\Users\\\\joey_\\\\AppData\\\\Local\\\\Temp\\\\tmpzib1ovx4\\\\7nwgo2xz.json', 'output', 'file=C:\\\\Users\\\\joey_\\\\AppData\\\\Local\\\\Temp\\\\tmpzib1ovx4\\\\prophet_modelsz5teo73\\\\prophet_model-20250814171335.csv', 'method=optimize', 'algorithm=newton', 'iter=10000']\n",
      "17:13:35 - cmdstanpy - INFO - Chain [1] start processing\n",
      "2025-08-14 17:13:35,738 - INFO - Chain [1] start processing\n",
      "17:13:36 - cmdstanpy - INFO - Chain [1] done processing\n",
      "2025-08-14 17:13:36,303 - INFO - Chain [1] done processing\n",
      "2025-08-14 17:13:36,436 - DEBUG - cmd: where.exe tbb.dll\n",
      "cwd: None\n",
      "2025-08-14 17:13:36,621 - DEBUG - TBB already found in load path\n",
      "2025-08-14 17:13:36,648 - INFO - n_changepoints greater than number of observations. Using 20.\n",
      "2025-08-14 17:13:36,654 - DEBUG - input tempfile: C:\\Users\\joey_\\AppData\\Local\\Temp\\tmpzib1ovx4\\0cmtoxof.json\n",
      "2025-08-14 17:13:36,665 - DEBUG - input tempfile: C:\\Users\\joey_\\AppData\\Local\\Temp\\tmpzib1ovx4\\e5f13ey9.json\n",
      "2025-08-14 17:13:36,669 - DEBUG - idx 0\n",
      "2025-08-14 17:13:36,673 - DEBUG - running CmdStan, num_threads: None\n",
      "2025-08-14 17:13:36,677 - DEBUG - CmdStan args: ['C:\\\\Users\\\\joey_\\\\AppData\\\\Local\\\\Programs\\\\Python\\\\Maestro_Yoda\\\\Lib\\\\site-packages\\\\prophet\\\\stan_model\\\\prophet_model.bin', 'random', 'seed=69059', 'data', 'file=C:\\\\Users\\\\joey_\\\\AppData\\\\Local\\\\Temp\\\\tmpzib1ovx4\\\\0cmtoxof.json', 'init=C:\\\\Users\\\\joey_\\\\AppData\\\\Local\\\\Temp\\\\tmpzib1ovx4\\\\e5f13ey9.json', 'output', 'file=C:\\\\Users\\\\joey_\\\\AppData\\\\Local\\\\Temp\\\\tmpzib1ovx4\\\\prophet_model7i4gn8u9\\\\prophet_model-20250814171336.csv', 'method=optimize', 'algorithm=newton', 'iter=10000']\n",
      "17:13:36 - cmdstanpy - INFO - Chain [1] start processing\n",
      "2025-08-14 17:13:36,678 - INFO - Chain [1] start processing\n",
      "17:14:04 - cmdstanpy - INFO - Chain [1] done processing\n",
      "2025-08-14 17:14:04,250 - INFO - Chain [1] done processing\n",
      "2025-08-14 17:14:04,337 - DEBUG - cmd: where.exe tbb.dll\n",
      "cwd: None\n",
      "2025-08-14 17:14:04,481 - DEBUG - TBB already found in load path\n",
      "2025-08-14 17:14:04,503 - INFO - n_changepoints greater than number of observations. Using 20.\n",
      "2025-08-14 17:14:04,509 - DEBUG - input tempfile: C:\\Users\\joey_\\AppData\\Local\\Temp\\tmpzib1ovx4\\_a6gw6u8.json\n",
      "2025-08-14 17:14:04,515 - DEBUG - input tempfile: C:\\Users\\joey_\\AppData\\Local\\Temp\\tmpzib1ovx4\\6k0w7eaq.json\n",
      "2025-08-14 17:14:04,518 - DEBUG - idx 0\n",
      "2025-08-14 17:14:04,519 - DEBUG - running CmdStan, num_threads: None\n",
      "2025-08-14 17:14:04,520 - DEBUG - CmdStan args: ['C:\\\\Users\\\\joey_\\\\AppData\\\\Local\\\\Programs\\\\Python\\\\Maestro_Yoda\\\\Lib\\\\site-packages\\\\prophet\\\\stan_model\\\\prophet_model.bin', 'random', 'seed=29592', 'data', 'file=C:\\\\Users\\\\joey_\\\\AppData\\\\Local\\\\Temp\\\\tmpzib1ovx4\\\\_a6gw6u8.json', 'init=C:\\\\Users\\\\joey_\\\\AppData\\\\Local\\\\Temp\\\\tmpzib1ovx4\\\\6k0w7eaq.json', 'output', 'file=C:\\\\Users\\\\joey_\\\\AppData\\\\Local\\\\Temp\\\\tmpzib1ovx4\\\\prophet_model5q8xwzh4\\\\prophet_model-20250814171404.csv', 'method=optimize', 'algorithm=newton', 'iter=10000']\n",
      "17:14:04 - cmdstanpy - INFO - Chain [1] start processing\n",
      "2025-08-14 17:14:04,521 - INFO - Chain [1] start processing\n",
      "17:14:04 - cmdstanpy - INFO - Chain [1] done processing\n",
      "2025-08-14 17:14:04,771 - INFO - Chain [1] done processing\n",
      "2025-08-14 17:14:04,852 - DEBUG - cmd: where.exe tbb.dll\n",
      "cwd: None\n",
      "2025-08-14 17:14:04,996 - DEBUG - TBB already found in load path\n",
      "2025-08-14 17:14:05,021 - DEBUG - input tempfile: C:\\Users\\joey_\\AppData\\Local\\Temp\\tmpzib1ovx4\\yng3rrht.json\n",
      "2025-08-14 17:14:05,033 - DEBUG - input tempfile: C:\\Users\\joey_\\AppData\\Local\\Temp\\tmpzib1ovx4\\dxl29tjb.json\n",
      "2025-08-14 17:14:05,036 - DEBUG - idx 0\n",
      "2025-08-14 17:14:05,037 - DEBUG - running CmdStan, num_threads: None\n",
      "2025-08-14 17:14:05,038 - DEBUG - CmdStan args: ['C:\\\\Users\\\\joey_\\\\AppData\\\\Local\\\\Programs\\\\Python\\\\Maestro_Yoda\\\\Lib\\\\site-packages\\\\prophet\\\\stan_model\\\\prophet_model.bin', 'random', 'seed=2220', 'data', 'file=C:\\\\Users\\\\joey_\\\\AppData\\\\Local\\\\Temp\\\\tmpzib1ovx4\\\\yng3rrht.json', 'init=C:\\\\Users\\\\joey_\\\\AppData\\\\Local\\\\Temp\\\\tmpzib1ovx4\\\\dxl29tjb.json', 'output', 'file=C:\\\\Users\\\\joey_\\\\AppData\\\\Local\\\\Temp\\\\tmpzib1ovx4\\\\prophet_modela6ploo2a\\\\prophet_model-20250814171405.csv', 'method=optimize', 'algorithm=newton', 'iter=10000']\n",
      "17:14:05 - cmdstanpy - INFO - Chain [1] start processing\n",
      "2025-08-14 17:14:05,039 - INFO - Chain [1] start processing\n",
      "17:14:05 - cmdstanpy - INFO - Chain [1] done processing\n",
      "2025-08-14 17:14:05,496 - INFO - Chain [1] done processing\n",
      "2025-08-14 17:14:05,585 - DEBUG - cmd: where.exe tbb.dll\n",
      "cwd: None\n",
      "2025-08-14 17:14:05,721 - DEBUG - TBB already found in load path\n",
      "2025-08-14 17:14:05,746 - INFO - n_changepoints greater than number of observations. Using 20.\n",
      "2025-08-14 17:14:05,752 - DEBUG - input tempfile: C:\\Users\\joey_\\AppData\\Local\\Temp\\tmpzib1ovx4\\gjia9ovg.json\n",
      "2025-08-14 17:14:05,757 - DEBUG - input tempfile: C:\\Users\\joey_\\AppData\\Local\\Temp\\tmpzib1ovx4\\h_tw4a4h.json\n",
      "2025-08-14 17:14:05,761 - DEBUG - idx 0\n",
      "2025-08-14 17:14:05,763 - DEBUG - running CmdStan, num_threads: None\n",
      "2025-08-14 17:14:05,764 - DEBUG - CmdStan args: ['C:\\\\Users\\\\joey_\\\\AppData\\\\Local\\\\Programs\\\\Python\\\\Maestro_Yoda\\\\Lib\\\\site-packages\\\\prophet\\\\stan_model\\\\prophet_model.bin', 'random', 'seed=50274', 'data', 'file=C:\\\\Users\\\\joey_\\\\AppData\\\\Local\\\\Temp\\\\tmpzib1ovx4\\\\gjia9ovg.json', 'init=C:\\\\Users\\\\joey_\\\\AppData\\\\Local\\\\Temp\\\\tmpzib1ovx4\\\\h_tw4a4h.json', 'output', 'file=C:\\\\Users\\\\joey_\\\\AppData\\\\Local\\\\Temp\\\\tmpzib1ovx4\\\\prophet_modelurxr_a3z\\\\prophet_model-20250814171405.csv', 'method=optimize', 'algorithm=newton', 'iter=10000']\n",
      "17:14:05 - cmdstanpy - INFO - Chain [1] start processing\n",
      "2025-08-14 17:14:05,766 - INFO - Chain [1] start processing\n",
      "17:14:35 - cmdstanpy - INFO - Chain [1] done processing\n",
      "2025-08-14 17:14:35,635 - INFO - Chain [1] done processing\n",
      "2025-08-14 17:14:35,733 - DEBUG - cmd: where.exe tbb.dll\n",
      "cwd: None\n",
      "2025-08-14 17:14:35,908 - DEBUG - TBB already found in load path\n",
      "2025-08-14 17:14:35,938 - DEBUG - input tempfile: C:\\Users\\joey_\\AppData\\Local\\Temp\\tmpzib1ovx4\\g3oprc0t.json\n",
      "2025-08-14 17:14:35,944 - DEBUG - input tempfile: C:\\Users\\joey_\\AppData\\Local\\Temp\\tmpzib1ovx4\\up0aqpsf.json\n",
      "2025-08-14 17:14:35,948 - DEBUG - idx 0\n",
      "2025-08-14 17:14:35,950 - DEBUG - running CmdStan, num_threads: None\n",
      "2025-08-14 17:14:35,951 - DEBUG - CmdStan args: ['C:\\\\Users\\\\joey_\\\\AppData\\\\Local\\\\Programs\\\\Python\\\\Maestro_Yoda\\\\Lib\\\\site-packages\\\\prophet\\\\stan_model\\\\prophet_model.bin', 'random', 'seed=43309', 'data', 'file=C:\\\\Users\\\\joey_\\\\AppData\\\\Local\\\\Temp\\\\tmpzib1ovx4\\\\g3oprc0t.json', 'init=C:\\\\Users\\\\joey_\\\\AppData\\\\Local\\\\Temp\\\\tmpzib1ovx4\\\\up0aqpsf.json', 'output', 'file=C:\\\\Users\\\\joey_\\\\AppData\\\\Local\\\\Temp\\\\tmpzib1ovx4\\\\prophet_modelwg29nd2m\\\\prophet_model-20250814171435.csv', 'method=optimize', 'algorithm=newton', 'iter=10000']\n",
      "17:14:35 - cmdstanpy - INFO - Chain [1] start processing\n",
      "2025-08-14 17:14:35,953 - INFO - Chain [1] start processing\n",
      "17:15:10 - cmdstanpy - INFO - Chain [1] done processing\n",
      "2025-08-14 17:15:10,642 - INFO - Chain [1] done processing\n",
      "2025-08-14 17:15:10,742 - INFO - Optimizando Exponential_Smoothing...\n",
      "2025-08-14 17:15:11,675 - WARNING - Error en Exponential Smoothing: endog must be strictly positive when usingmultiplicative trend or seasonal components.\n",
      "2025-08-14 17:15:11,677 - WARNING - Error en Exponential Smoothing: endog must be strictly positive when usingmultiplicative trend or seasonal components.\n",
      "2025-08-14 17:15:11,679 - WARNING - Error en Exponential Smoothing: endog must be strictly positive when usingmultiplicative trend or seasonal components.\n",
      "2025-08-14 17:15:11,681 - WARNING - Error en Exponential Smoothing: endog must be strictly positive when usingmultiplicative trend or seasonal components.\n",
      "2025-08-14 17:15:11,682 - WARNING - Error en Exponential Smoothing: endog must be strictly positive when usingmultiplicative trend or seasonal components.\n",
      "2025-08-14 17:15:11,683 - WARNING - Error en Exponential Smoothing: endog must be strictly positive when usingmultiplicative trend or seasonal components.\n",
      "2025-08-14 17:15:12,165 - INFO - Optimizando XGBoost...\n",
      "2025-08-14 17:15:13,632 - INFO - Mejor modelo seleccionado: Exponential_Smoothing\n",
      "2025-08-14 17:15:13,633 - INFO - Score compuesto: 0.9096\n",
      "2025-08-14 17:15:13,651 - INFO - Optimizando ARIMA...\n",
      "2025-08-14 17:15:13,673 - WARNING - Error en ARIMA: zero-size array to reduction operation maximum which has no identity\n",
      "2025-08-14 17:15:13,694 - WARNING - Error en ARIMA: zero-size array to reduction operation maximum which has no identity\n"
     ]
    },
    {
     "name": "stdout",
     "output_type": "stream",
     "text": [
      "\n",
      "Resultados para Finance:\n",
      "                Model     RMSE     MAE    MAPE   SMAPE  Composite_Score  Meets_Target\n",
      "Exponential_Smoothing  76.4656 48.9163 31.0879 31.0071           0.9096         False\n",
      "              Prophet  92.7835 69.4585 57.5364 44.0052           0.9136         False\n",
      "              XGBoost 135.6990 89.0772 60.9835 54.7763           0.9978         False\n",
      "\n",
      "🏆 MEJOR MODELO: Exponential_Smoothing\n",
      "   MAPE: 31.09%\n",
      "   SMAPE: 31.01%\n",
      "   RMSE: 76.4656\n",
      "   Score Compuesto: 0.9096\n",
      "   Cumple objetivos: ❌\n",
      "   Parámetros: {'trend': None, 'seasonal': 'add', 'damped_trend': False}\n",
      "\n",
      "==================== DEPARTAMENTO: HR ====================\n"
     ]
    },
    {
     "name": "stderr",
     "output_type": "stream",
     "text": [
      "2025-08-14 17:15:15,103 - INFO - Optimizando Prophet...\n",
      "2025-08-14 17:15:15,107 - DEBUG - cmd: where.exe tbb.dll\n",
      "cwd: None\n",
      "2025-08-14 17:15:15,268 - DEBUG - TBB already found in load path\n",
      "2025-08-14 17:15:15,293 - INFO - n_changepoints greater than number of observations. Using 21.\n",
      "2025-08-14 17:15:15,297 - DEBUG - input tempfile: C:\\Users\\joey_\\AppData\\Local\\Temp\\tmpzib1ovx4\\y0qgygwo.json\n",
      "2025-08-14 17:15:15,304 - DEBUG - input tempfile: C:\\Users\\joey_\\AppData\\Local\\Temp\\tmpzib1ovx4\\9i1nk5fc.json\n",
      "2025-08-14 17:15:15,307 - DEBUG - idx 0\n",
      "2025-08-14 17:15:15,308 - DEBUG - running CmdStan, num_threads: None\n",
      "2025-08-14 17:15:15,309 - DEBUG - CmdStan args: ['C:\\\\Users\\\\joey_\\\\AppData\\\\Local\\\\Programs\\\\Python\\\\Maestro_Yoda\\\\Lib\\\\site-packages\\\\prophet\\\\stan_model\\\\prophet_model.bin', 'random', 'seed=24220', 'data', 'file=C:\\\\Users\\\\joey_\\\\AppData\\\\Local\\\\Temp\\\\tmpzib1ovx4\\\\y0qgygwo.json', 'init=C:\\\\Users\\\\joey_\\\\AppData\\\\Local\\\\Temp\\\\tmpzib1ovx4\\\\9i1nk5fc.json', 'output', 'file=C:\\\\Users\\\\joey_\\\\AppData\\\\Local\\\\Temp\\\\tmpzib1ovx4\\\\prophet_modelcicpn1kg\\\\prophet_model-20250814171515.csv', 'method=optimize', 'algorithm=newton', 'iter=10000']\n",
      "17:15:15 - cmdstanpy - INFO - Chain [1] start processing\n",
      "2025-08-14 17:15:15,310 - INFO - Chain [1] start processing\n",
      "17:15:15 - cmdstanpy - INFO - Chain [1] done processing\n",
      "2025-08-14 17:15:15,574 - INFO - Chain [1] done processing\n",
      "2025-08-14 17:15:15,653 - DEBUG - cmd: where.exe tbb.dll\n",
      "cwd: None\n",
      "2025-08-14 17:15:15,798 - DEBUG - TBB already found in load path\n",
      "2025-08-14 17:15:15,820 - INFO - n_changepoints greater than number of observations. Using 21.\n",
      "2025-08-14 17:15:15,826 - DEBUG - input tempfile: C:\\Users\\joey_\\AppData\\Local\\Temp\\tmpzib1ovx4\\bw7jzuup.json\n",
      "2025-08-14 17:15:15,831 - DEBUG - input tempfile: C:\\Users\\joey_\\AppData\\Local\\Temp\\tmpzib1ovx4\\_w13z529.json\n",
      "2025-08-14 17:15:15,834 - DEBUG - idx 0\n",
      "2025-08-14 17:15:15,836 - DEBUG - running CmdStan, num_threads: None\n",
      "2025-08-14 17:15:15,838 - DEBUG - CmdStan args: ['C:\\\\Users\\\\joey_\\\\AppData\\\\Local\\\\Programs\\\\Python\\\\Maestro_Yoda\\\\Lib\\\\site-packages\\\\prophet\\\\stan_model\\\\prophet_model.bin', 'random', 'seed=99821', 'data', 'file=C:\\\\Users\\\\joey_\\\\AppData\\\\Local\\\\Temp\\\\tmpzib1ovx4\\\\bw7jzuup.json', 'init=C:\\\\Users\\\\joey_\\\\AppData\\\\Local\\\\Temp\\\\tmpzib1ovx4\\\\_w13z529.json', 'output', 'file=C:\\\\Users\\\\joey_\\\\AppData\\\\Local\\\\Temp\\\\tmpzib1ovx4\\\\prophet_modelxra9iste\\\\prophet_model-20250814171515.csv', 'method=optimize', 'algorithm=newton', 'iter=10000']\n",
      "17:15:15 - cmdstanpy - INFO - Chain [1] start processing\n",
      "2025-08-14 17:15:15,841 - INFO - Chain [1] start processing\n",
      "17:15:16 - cmdstanpy - INFO - Chain [1] done processing\n",
      "2025-08-14 17:15:16,306 - INFO - Chain [1] done processing\n",
      "2025-08-14 17:15:16,387 - DEBUG - cmd: where.exe tbb.dll\n",
      "cwd: None\n",
      "2025-08-14 17:15:16,528 - DEBUG - TBB already found in load path\n",
      "2025-08-14 17:15:16,550 - INFO - n_changepoints greater than number of observations. Using 21.\n",
      "2025-08-14 17:15:16,555 - DEBUG - input tempfile: C:\\Users\\joey_\\AppData\\Local\\Temp\\tmpzib1ovx4\\sw592fhu.json\n",
      "2025-08-14 17:15:16,561 - DEBUG - input tempfile: C:\\Users\\joey_\\AppData\\Local\\Temp\\tmpzib1ovx4\\qcbthdh_.json\n",
      "2025-08-14 17:15:16,565 - DEBUG - idx 0\n",
      "2025-08-14 17:15:16,566 - DEBUG - running CmdStan, num_threads: None\n",
      "2025-08-14 17:15:16,567 - DEBUG - CmdStan args: ['C:\\\\Users\\\\joey_\\\\AppData\\\\Local\\\\Programs\\\\Python\\\\Maestro_Yoda\\\\Lib\\\\site-packages\\\\prophet\\\\stan_model\\\\prophet_model.bin', 'random', 'seed=68930', 'data', 'file=C:\\\\Users\\\\joey_\\\\AppData\\\\Local\\\\Temp\\\\tmpzib1ovx4\\\\sw592fhu.json', 'init=C:\\\\Users\\\\joey_\\\\AppData\\\\Local\\\\Temp\\\\tmpzib1ovx4\\\\qcbthdh_.json', 'output', 'file=C:\\\\Users\\\\joey_\\\\AppData\\\\Local\\\\Temp\\\\tmpzib1ovx4\\\\prophet_modeliy_c0l5h\\\\prophet_model-20250814171516.csv', 'method=optimize', 'algorithm=newton', 'iter=10000']\n",
      "17:15:16 - cmdstanpy - INFO - Chain [1] start processing\n",
      "2025-08-14 17:15:16,567 - INFO - Chain [1] start processing\n",
      "17:15:16 - cmdstanpy - INFO - Chain [1] done processing\n",
      "2025-08-14 17:15:16,801 - INFO - Chain [1] done processing\n",
      "2025-08-14 17:15:16,881 - DEBUG - cmd: where.exe tbb.dll\n",
      "cwd: None\n",
      "2025-08-14 17:15:17,024 - DEBUG - TBB already found in load path\n",
      "2025-08-14 17:15:17,052 - DEBUG - input tempfile: C:\\Users\\joey_\\AppData\\Local\\Temp\\tmpzib1ovx4\\79x4h9sx.json\n",
      "2025-08-14 17:15:17,059 - DEBUG - input tempfile: C:\\Users\\joey_\\AppData\\Local\\Temp\\tmpzib1ovx4\\_uip4e7f.json\n",
      "2025-08-14 17:15:17,063 - DEBUG - idx 0\n",
      "2025-08-14 17:15:17,065 - DEBUG - running CmdStan, num_threads: None\n",
      "2025-08-14 17:15:17,066 - DEBUG - CmdStan args: ['C:\\\\Users\\\\joey_\\\\AppData\\\\Local\\\\Programs\\\\Python\\\\Maestro_Yoda\\\\Lib\\\\site-packages\\\\prophet\\\\stan_model\\\\prophet_model.bin', 'random', 'seed=6517', 'data', 'file=C:\\\\Users\\\\joey_\\\\AppData\\\\Local\\\\Temp\\\\tmpzib1ovx4\\\\79x4h9sx.json', 'init=C:\\\\Users\\\\joey_\\\\AppData\\\\Local\\\\Temp\\\\tmpzib1ovx4\\\\_uip4e7f.json', 'output', 'file=C:\\\\Users\\\\joey_\\\\AppData\\\\Local\\\\Temp\\\\tmpzib1ovx4\\\\prophet_modelm4_96om6\\\\prophet_model-20250814171517.csv', 'method=optimize', 'algorithm=newton', 'iter=10000']\n",
      "17:15:17 - cmdstanpy - INFO - Chain [1] start processing\n",
      "2025-08-14 17:15:17,067 - INFO - Chain [1] start processing\n",
      "17:15:17 - cmdstanpy - INFO - Chain [1] done processing\n",
      "2025-08-14 17:15:17,610 - INFO - Chain [1] done processing\n",
      "2025-08-14 17:15:17,686 - DEBUG - cmd: where.exe tbb.dll\n",
      "cwd: None\n",
      "2025-08-14 17:15:17,826 - DEBUG - TBB already found in load path\n",
      "2025-08-14 17:15:17,848 - INFO - n_changepoints greater than number of observations. Using 21.\n",
      "2025-08-14 17:15:17,854 - DEBUG - input tempfile: C:\\Users\\joey_\\AppData\\Local\\Temp\\tmpzib1ovx4\\q6p8kvb8.json\n",
      "2025-08-14 17:15:17,860 - DEBUG - input tempfile: C:\\Users\\joey_\\AppData\\Local\\Temp\\tmpzib1ovx4\\hzgy2q21.json\n",
      "2025-08-14 17:15:17,864 - DEBUG - idx 0\n",
      "2025-08-14 17:15:17,865 - DEBUG - running CmdStan, num_threads: None\n",
      "2025-08-14 17:15:17,866 - DEBUG - CmdStan args: ['C:\\\\Users\\\\joey_\\\\AppData\\\\Local\\\\Programs\\\\Python\\\\Maestro_Yoda\\\\Lib\\\\site-packages\\\\prophet\\\\stan_model\\\\prophet_model.bin', 'random', 'seed=73855', 'data', 'file=C:\\\\Users\\\\joey_\\\\AppData\\\\Local\\\\Temp\\\\tmpzib1ovx4\\\\q6p8kvb8.json', 'init=C:\\\\Users\\\\joey_\\\\AppData\\\\Local\\\\Temp\\\\tmpzib1ovx4\\\\hzgy2q21.json', 'output', 'file=C:\\\\Users\\\\joey_\\\\AppData\\\\Local\\\\Temp\\\\tmpzib1ovx4\\\\prophet_model05k38xei\\\\prophet_model-20250814171517.csv', 'method=optimize', 'algorithm=newton', 'iter=10000']\n",
      "17:15:17 - cmdstanpy - INFO - Chain [1] start processing\n",
      "2025-08-14 17:15:17,868 - INFO - Chain [1] start processing\n",
      "17:15:18 - cmdstanpy - INFO - Chain [1] done processing\n",
      "2025-08-14 17:15:18,344 - INFO - Chain [1] done processing\n",
      "2025-08-14 17:15:18,428 - DEBUG - cmd: where.exe tbb.dll\n",
      "cwd: None\n",
      "2025-08-14 17:15:18,577 - DEBUG - TBB already found in load path\n",
      "2025-08-14 17:15:18,604 - DEBUG - input tempfile: C:\\Users\\joey_\\AppData\\Local\\Temp\\tmpzib1ovx4\\6br9z0fp.json\n",
      "2025-08-14 17:15:18,610 - DEBUG - input tempfile: C:\\Users\\joey_\\AppData\\Local\\Temp\\tmpzib1ovx4\\hhew8zwk.json\n",
      "2025-08-14 17:15:18,614 - DEBUG - idx 0\n",
      "2025-08-14 17:15:18,616 - DEBUG - running CmdStan, num_threads: None\n",
      "2025-08-14 17:15:18,617 - DEBUG - CmdStan args: ['C:\\\\Users\\\\joey_\\\\AppData\\\\Local\\\\Programs\\\\Python\\\\Maestro_Yoda\\\\Lib\\\\site-packages\\\\prophet\\\\stan_model\\\\prophet_model.bin', 'random', 'seed=44755', 'data', 'file=C:\\\\Users\\\\joey_\\\\AppData\\\\Local\\\\Temp\\\\tmpzib1ovx4\\\\6br9z0fp.json', 'init=C:\\\\Users\\\\joey_\\\\AppData\\\\Local\\\\Temp\\\\tmpzib1ovx4\\\\hhew8zwk.json', 'output', 'file=C:\\\\Users\\\\joey_\\\\AppData\\\\Local\\\\Temp\\\\tmpzib1ovx4\\\\prophet_model5qixwijm\\\\prophet_model-20250814171518.csv', 'method=optimize', 'algorithm=newton', 'iter=10000']\n",
      "17:15:18 - cmdstanpy - INFO - Chain [1] start processing\n",
      "2025-08-14 17:15:18,618 - INFO - Chain [1] start processing\n",
      "17:15:19 - cmdstanpy - INFO - Chain [1] done processing\n",
      "2025-08-14 17:15:19,099 - INFO - Chain [1] done processing\n",
      "2025-08-14 17:15:19,176 - INFO - Optimizando Exponential_Smoothing...\n",
      "2025-08-14 17:15:23,038 - INFO - Optimizando XGBoost...\n",
      "2025-08-14 17:15:24,614 - INFO - Mejor modelo seleccionado: Exponential_Smoothing\n",
      "2025-08-14 17:15:24,616 - INFO - Score compuesto: 0.8305\n",
      "2025-08-14 17:15:24,632 - INFO - Optimizando ARIMA...\n",
      "2025-08-14 17:15:24,653 - WARNING - Error en ARIMA: zero-size array to reduction operation maximum which has no identity\n",
      "2025-08-14 17:15:24,674 - WARNING - Error en ARIMA: zero-size array to reduction operation maximum which has no identity\n"
     ]
    },
    {
     "name": "stdout",
     "output_type": "stream",
     "text": [
      "\n",
      "Resultados para HR:\n",
      "                Model     RMSE     MAE    MAPE   SMAPE  Composite_Score  Meets_Target\n",
      "Exponential_Smoothing  45.4617 34.0564 25.8290 25.5570           0.8305         False\n",
      "              Prophet  91.3998 70.3228 52.4688 61.9843           0.9844         False\n",
      "              XGBoost 134.9734 90.9395 55.2872 57.8229           1.0000         False\n",
      "\n",
      "🏆 MEJOR MODELO: Exponential_Smoothing\n",
      "   MAPE: 25.83%\n",
      "   SMAPE: 25.56%\n",
      "   RMSE: 45.4617\n",
      "   Score Compuesto: 0.8305\n",
      "   Cumple objetivos: ❌\n",
      "   Parámetros: {'trend': 'add', 'seasonal': 'mul', 'damped_trend': False}\n",
      "\n",
      "==================== DEPARTAMENTO: IT ====================\n"
     ]
    },
    {
     "name": "stderr",
     "output_type": "stream",
     "text": [
      "2025-08-14 17:15:26,377 - INFO - Optimizando Prophet...\n",
      "2025-08-14 17:15:26,381 - DEBUG - cmd: where.exe tbb.dll\n",
      "cwd: None\n",
      "2025-08-14 17:15:26,569 - DEBUG - TBB already found in load path\n",
      "2025-08-14 17:15:26,611 - INFO - n_changepoints greater than number of observations. Using 21.\n",
      "2025-08-14 17:15:26,621 - DEBUG - input tempfile: C:\\Users\\joey_\\AppData\\Local\\Temp\\tmpzib1ovx4\\c32_54_c.json\n",
      "2025-08-14 17:15:26,644 - DEBUG - input tempfile: C:\\Users\\joey_\\AppData\\Local\\Temp\\tmpzib1ovx4\\x92f7afc.json\n",
      "2025-08-14 17:15:26,662 - DEBUG - idx 0\n",
      "2025-08-14 17:15:26,665 - DEBUG - running CmdStan, num_threads: None\n",
      "2025-08-14 17:15:26,667 - DEBUG - CmdStan args: ['C:\\\\Users\\\\joey_\\\\AppData\\\\Local\\\\Programs\\\\Python\\\\Maestro_Yoda\\\\Lib\\\\site-packages\\\\prophet\\\\stan_model\\\\prophet_model.bin', 'random', 'seed=45417', 'data', 'file=C:\\\\Users\\\\joey_\\\\AppData\\\\Local\\\\Temp\\\\tmpzib1ovx4\\\\c32_54_c.json', 'init=C:\\\\Users\\\\joey_\\\\AppData\\\\Local\\\\Temp\\\\tmpzib1ovx4\\\\x92f7afc.json', 'output', 'file=C:\\\\Users\\\\joey_\\\\AppData\\\\Local\\\\Temp\\\\tmpzib1ovx4\\\\prophet_modelds59phz1\\\\prophet_model-20250814171526.csv', 'method=optimize', 'algorithm=newton', 'iter=10000']\n",
      "17:15:26 - cmdstanpy - INFO - Chain [1] start processing\n",
      "2025-08-14 17:15:26,671 - INFO - Chain [1] start processing\n",
      "17:15:27 - cmdstanpy - INFO - Chain [1] done processing\n",
      "2025-08-14 17:15:27,176 - INFO - Chain [1] done processing\n",
      "2025-08-14 17:15:27,256 - DEBUG - cmd: where.exe tbb.dll\n",
      "cwd: None\n",
      "2025-08-14 17:15:27,398 - DEBUG - TBB already found in load path\n",
      "2025-08-14 17:15:27,421 - INFO - n_changepoints greater than number of observations. Using 21.\n",
      "2025-08-14 17:15:27,428 - DEBUG - input tempfile: C:\\Users\\joey_\\AppData\\Local\\Temp\\tmpzib1ovx4\\a2qctwdh.json\n",
      "2025-08-14 17:15:27,433 - DEBUG - input tempfile: C:\\Users\\joey_\\AppData\\Local\\Temp\\tmpzib1ovx4\\a51wj50a.json\n",
      "2025-08-14 17:15:27,437 - DEBUG - idx 0\n",
      "2025-08-14 17:15:27,439 - DEBUG - running CmdStan, num_threads: None\n",
      "2025-08-14 17:15:27,442 - DEBUG - CmdStan args: ['C:\\\\Users\\\\joey_\\\\AppData\\\\Local\\\\Programs\\\\Python\\\\Maestro_Yoda\\\\Lib\\\\site-packages\\\\prophet\\\\stan_model\\\\prophet_model.bin', 'random', 'seed=15115', 'data', 'file=C:\\\\Users\\\\joey_\\\\AppData\\\\Local\\\\Temp\\\\tmpzib1ovx4\\\\a2qctwdh.json', 'init=C:\\\\Users\\\\joey_\\\\AppData\\\\Local\\\\Temp\\\\tmpzib1ovx4\\\\a51wj50a.json', 'output', 'file=C:\\\\Users\\\\joey_\\\\AppData\\\\Local\\\\Temp\\\\tmpzib1ovx4\\\\prophet_modeli29ikrai\\\\prophet_model-20250814171527.csv', 'method=optimize', 'algorithm=newton', 'iter=10000']\n",
      "17:15:27 - cmdstanpy - INFO - Chain [1] start processing\n",
      "2025-08-14 17:15:27,448 - INFO - Chain [1] start processing\n",
      "17:15:28 - cmdstanpy - INFO - Chain [1] done processing\n",
      "2025-08-14 17:15:28,710 - INFO - Chain [1] done processing\n",
      "2025-08-14 17:15:28,817 - DEBUG - cmd: where.exe tbb.dll\n",
      "cwd: None\n",
      "2025-08-14 17:15:29,032 - DEBUG - TBB already found in load path\n",
      "2025-08-14 17:15:29,064 - INFO - n_changepoints greater than number of observations. Using 21.\n",
      "2025-08-14 17:15:29,069 - DEBUG - input tempfile: C:\\Users\\joey_\\AppData\\Local\\Temp\\tmpzib1ovx4\\4ioyygjt.json\n",
      "2025-08-14 17:15:29,075 - DEBUG - input tempfile: C:\\Users\\joey_\\AppData\\Local\\Temp\\tmpzib1ovx4\\4sykj80g.json\n",
      "2025-08-14 17:15:29,080 - DEBUG - idx 0\n",
      "2025-08-14 17:15:29,082 - DEBUG - running CmdStan, num_threads: None\n",
      "2025-08-14 17:15:29,083 - DEBUG - CmdStan args: ['C:\\\\Users\\\\joey_\\\\AppData\\\\Local\\\\Programs\\\\Python\\\\Maestro_Yoda\\\\Lib\\\\site-packages\\\\prophet\\\\stan_model\\\\prophet_model.bin', 'random', 'seed=20474', 'data', 'file=C:\\\\Users\\\\joey_\\\\AppData\\\\Local\\\\Temp\\\\tmpzib1ovx4\\\\4ioyygjt.json', 'init=C:\\\\Users\\\\joey_\\\\AppData\\\\Local\\\\Temp\\\\tmpzib1ovx4\\\\4sykj80g.json', 'output', 'file=C:\\\\Users\\\\joey_\\\\AppData\\\\Local\\\\Temp\\\\tmpzib1ovx4\\\\prophet_modeljotyg2g5\\\\prophet_model-20250814171529.csv', 'method=optimize', 'algorithm=newton', 'iter=10000']\n",
      "17:15:29 - cmdstanpy - INFO - Chain [1] start processing\n",
      "2025-08-14 17:15:29,084 - INFO - Chain [1] start processing\n",
      "17:15:29 - cmdstanpy - INFO - Chain [1] done processing\n",
      "2025-08-14 17:15:29,435 - INFO - Chain [1] done processing\n",
      "2025-08-14 17:15:29,514 - DEBUG - cmd: where.exe tbb.dll\n",
      "cwd: None\n",
      "2025-08-14 17:15:29,665 - DEBUG - TBB already found in load path\n",
      "2025-08-14 17:15:29,689 - DEBUG - input tempfile: C:\\Users\\joey_\\AppData\\Local\\Temp\\tmpzib1ovx4\\9kwxfsyz.json\n",
      "2025-08-14 17:15:29,697 - DEBUG - input tempfile: C:\\Users\\joey_\\AppData\\Local\\Temp\\tmpzib1ovx4\\fqqk9nm_.json\n",
      "2025-08-14 17:15:29,701 - DEBUG - idx 0\n",
      "2025-08-14 17:15:29,702 - DEBUG - running CmdStan, num_threads: None\n",
      "2025-08-14 17:15:29,703 - DEBUG - CmdStan args: ['C:\\\\Users\\\\joey_\\\\AppData\\\\Local\\\\Programs\\\\Python\\\\Maestro_Yoda\\\\Lib\\\\site-packages\\\\prophet\\\\stan_model\\\\prophet_model.bin', 'random', 'seed=63838', 'data', 'file=C:\\\\Users\\\\joey_\\\\AppData\\\\Local\\\\Temp\\\\tmpzib1ovx4\\\\9kwxfsyz.json', 'init=C:\\\\Users\\\\joey_\\\\AppData\\\\Local\\\\Temp\\\\tmpzib1ovx4\\\\fqqk9nm_.json', 'output', 'file=C:\\\\Users\\\\joey_\\\\AppData\\\\Local\\\\Temp\\\\tmpzib1ovx4\\\\prophet_model6lunod2s\\\\prophet_model-20250814171529.csv', 'method=optimize', 'algorithm=newton', 'iter=10000']\n",
      "17:15:29 - cmdstanpy - INFO - Chain [1] start processing\n",
      "2025-08-14 17:15:29,703 - INFO - Chain [1] start processing\n",
      "17:15:30 - cmdstanpy - INFO - Chain [1] done processing\n",
      "2025-08-14 17:15:30,202 - INFO - Chain [1] done processing\n",
      "2025-08-14 17:15:30,279 - DEBUG - cmd: where.exe tbb.dll\n",
      "cwd: None\n",
      "2025-08-14 17:15:30,509 - DEBUG - TBB already found in load path\n",
      "2025-08-14 17:15:30,548 - INFO - n_changepoints greater than number of observations. Using 21.\n",
      "2025-08-14 17:15:30,556 - DEBUG - input tempfile: C:\\Users\\joey_\\AppData\\Local\\Temp\\tmpzib1ovx4\\n826jaxl.json\n",
      "2025-08-14 17:15:30,565 - DEBUG - input tempfile: C:\\Users\\joey_\\AppData\\Local\\Temp\\tmpzib1ovx4\\43o2zycb.json\n",
      "2025-08-14 17:15:30,570 - DEBUG - idx 0\n",
      "2025-08-14 17:15:30,572 - DEBUG - running CmdStan, num_threads: None\n",
      "2025-08-14 17:15:30,574 - DEBUG - CmdStan args: ['C:\\\\Users\\\\joey_\\\\AppData\\\\Local\\\\Programs\\\\Python\\\\Maestro_Yoda\\\\Lib\\\\site-packages\\\\prophet\\\\stan_model\\\\prophet_model.bin', 'random', 'seed=65055', 'data', 'file=C:\\\\Users\\\\joey_\\\\AppData\\\\Local\\\\Temp\\\\tmpzib1ovx4\\\\n826jaxl.json', 'init=C:\\\\Users\\\\joey_\\\\AppData\\\\Local\\\\Temp\\\\tmpzib1ovx4\\\\43o2zycb.json', 'output', 'file=C:\\\\Users\\\\joey_\\\\AppData\\\\Local\\\\Temp\\\\tmpzib1ovx4\\\\prophet_modelow3qcuwq\\\\prophet_model-20250814171530.csv', 'method=optimize', 'algorithm=newton', 'iter=10000']\n",
      "17:15:30 - cmdstanpy - INFO - Chain [1] start processing\n",
      "2025-08-14 17:15:30,576 - INFO - Chain [1] start processing\n",
      "17:15:31 - cmdstanpy - INFO - Chain [1] done processing\n",
      "2025-08-14 17:15:31,464 - INFO - Chain [1] done processing\n",
      "2025-08-14 17:15:31,542 - DEBUG - cmd: where.exe tbb.dll\n",
      "cwd: None\n",
      "2025-08-14 17:15:31,685 - DEBUG - TBB already found in load path\n",
      "2025-08-14 17:15:31,710 - DEBUG - input tempfile: C:\\Users\\joey_\\AppData\\Local\\Temp\\tmpzib1ovx4\\wtyqq413.json\n",
      "2025-08-14 17:15:31,716 - DEBUG - input tempfile: C:\\Users\\joey_\\AppData\\Local\\Temp\\tmpzib1ovx4\\koadwbrz.json\n",
      "2025-08-14 17:15:31,721 - DEBUG - idx 0\n",
      "2025-08-14 17:15:31,722 - DEBUG - running CmdStan, num_threads: None\n",
      "2025-08-14 17:15:31,723 - DEBUG - CmdStan args: ['C:\\\\Users\\\\joey_\\\\AppData\\\\Local\\\\Programs\\\\Python\\\\Maestro_Yoda\\\\Lib\\\\site-packages\\\\prophet\\\\stan_model\\\\prophet_model.bin', 'random', 'seed=78488', 'data', 'file=C:\\\\Users\\\\joey_\\\\AppData\\\\Local\\\\Temp\\\\tmpzib1ovx4\\\\wtyqq413.json', 'init=C:\\\\Users\\\\joey_\\\\AppData\\\\Local\\\\Temp\\\\tmpzib1ovx4\\\\koadwbrz.json', 'output', 'file=C:\\\\Users\\\\joey_\\\\AppData\\\\Local\\\\Temp\\\\tmpzib1ovx4\\\\prophet_modelqyu596sw\\\\prophet_model-20250814171531.csv', 'method=optimize', 'algorithm=newton', 'iter=10000']\n",
      "17:15:31 - cmdstanpy - INFO - Chain [1] start processing\n",
      "2025-08-14 17:15:31,724 - INFO - Chain [1] start processing\n",
      "17:15:32 - cmdstanpy - INFO - Chain [1] done processing\n",
      "2025-08-14 17:15:32,251 - INFO - Chain [1] done processing\n",
      "2025-08-14 17:15:32,328 - INFO - Optimizando Exponential_Smoothing...\n",
      "2025-08-14 17:15:37,033 - INFO - Optimizando XGBoost...\n",
      "2025-08-14 17:15:38,881 - INFO - Mejor modelo seleccionado: Exponential_Smoothing\n",
      "2025-08-14 17:15:38,884 - INFO - Score compuesto: 0.4810\n",
      "2025-08-14 17:15:38,937 - INFO - Optimizando ARIMA...\n",
      "2025-08-14 17:15:38,960 - WARNING - Error en ARIMA: zero-size array to reduction operation maximum which has no identity\n",
      "2025-08-14 17:15:38,980 - WARNING - Error en ARIMA: zero-size array to reduction operation maximum which has no identity\n"
     ]
    },
    {
     "name": "stdout",
     "output_type": "stream",
     "text": [
      "\n",
      "Resultados para IT:\n",
      "                Model     RMSE      MAE    MAPE   SMAPE  Composite_Score  Meets_Target\n",
      "Exponential_Smoothing  42.4840  32.4379 12.2890 12.7351           0.4810         False\n",
      "              Prophet 127.2692  99.2876 37.6471 45.1057           0.9497         False\n",
      "              XGBoost 183.9575 127.5920 45.3179 42.2464           0.9861         False\n",
      "\n",
      "🏆 MEJOR MODELO: Exponential_Smoothing\n",
      "   MAPE: 12.29%\n",
      "   SMAPE: 12.74%\n",
      "   RMSE: 42.4840\n",
      "   Score Compuesto: 0.4810\n",
      "   Cumple objetivos: ❌\n",
      "   Parámetros: {'trend': 'add', 'seasonal': 'mul', 'damped_trend': True}\n",
      "\n",
      "==================== DEPARTAMENTO: Inventory ====================\n"
     ]
    },
    {
     "name": "stderr",
     "output_type": "stream",
     "text": [
      "2025-08-14 17:15:40,668 - INFO - Optimizando Prophet...\n",
      "2025-08-14 17:15:40,674 - DEBUG - cmd: where.exe tbb.dll\n",
      "cwd: None\n",
      "2025-08-14 17:15:40,928 - DEBUG - TBB already found in load path\n",
      "2025-08-14 17:15:40,954 - INFO - n_changepoints greater than number of observations. Using 21.\n",
      "2025-08-14 17:15:40,961 - DEBUG - input tempfile: C:\\Users\\joey_\\AppData\\Local\\Temp\\tmpzib1ovx4\\fe1blrza.json\n",
      "2025-08-14 17:15:40,967 - DEBUG - input tempfile: C:\\Users\\joey_\\AppData\\Local\\Temp\\tmpzib1ovx4\\83gwwy5b.json\n",
      "2025-08-14 17:15:40,971 - DEBUG - idx 0\n",
      "2025-08-14 17:15:40,973 - DEBUG - running CmdStan, num_threads: None\n",
      "2025-08-14 17:15:40,974 - DEBUG - CmdStan args: ['C:\\\\Users\\\\joey_\\\\AppData\\\\Local\\\\Programs\\\\Python\\\\Maestro_Yoda\\\\Lib\\\\site-packages\\\\prophet\\\\stan_model\\\\prophet_model.bin', 'random', 'seed=34952', 'data', 'file=C:\\\\Users\\\\joey_\\\\AppData\\\\Local\\\\Temp\\\\tmpzib1ovx4\\\\fe1blrza.json', 'init=C:\\\\Users\\\\joey_\\\\AppData\\\\Local\\\\Temp\\\\tmpzib1ovx4\\\\83gwwy5b.json', 'output', 'file=C:\\\\Users\\\\joey_\\\\AppData\\\\Local\\\\Temp\\\\tmpzib1ovx4\\\\prophet_modelowehfg3q\\\\prophet_model-20250814171540.csv', 'method=optimize', 'algorithm=newton', 'iter=10000']\n",
      "17:15:40 - cmdstanpy - INFO - Chain [1] start processing\n",
      "2025-08-14 17:15:40,975 - INFO - Chain [1] start processing\n",
      "17:15:41 - cmdstanpy - INFO - Chain [1] done processing\n",
      "2025-08-14 17:15:41,830 - INFO - Chain [1] done processing\n",
      "2025-08-14 17:15:41,914 - DEBUG - cmd: where.exe tbb.dll\n",
      "cwd: None\n",
      "2025-08-14 17:15:42,063 - DEBUG - TBB already found in load path\n",
      "2025-08-14 17:15:42,087 - INFO - n_changepoints greater than number of observations. Using 21.\n",
      "2025-08-14 17:15:42,092 - DEBUG - input tempfile: C:\\Users\\joey_\\AppData\\Local\\Temp\\tmpzib1ovx4\\2ej4idwv.json\n",
      "2025-08-14 17:15:42,098 - DEBUG - input tempfile: C:\\Users\\joey_\\AppData\\Local\\Temp\\tmpzib1ovx4\\drihgps0.json\n",
      "2025-08-14 17:15:42,128 - DEBUG - idx 0\n",
      "2025-08-14 17:15:42,130 - DEBUG - running CmdStan, num_threads: None\n",
      "2025-08-14 17:15:42,131 - DEBUG - CmdStan args: ['C:\\\\Users\\\\joey_\\\\AppData\\\\Local\\\\Programs\\\\Python\\\\Maestro_Yoda\\\\Lib\\\\site-packages\\\\prophet\\\\stan_model\\\\prophet_model.bin', 'random', 'seed=82894', 'data', 'file=C:\\\\Users\\\\joey_\\\\AppData\\\\Local\\\\Temp\\\\tmpzib1ovx4\\\\2ej4idwv.json', 'init=C:\\\\Users\\\\joey_\\\\AppData\\\\Local\\\\Temp\\\\tmpzib1ovx4\\\\drihgps0.json', 'output', 'file=C:\\\\Users\\\\joey_\\\\AppData\\\\Local\\\\Temp\\\\tmpzib1ovx4\\\\prophet_modelnwokfuvv\\\\prophet_model-20250814171542.csv', 'method=optimize', 'algorithm=newton', 'iter=10000']\n",
      "17:15:42 - cmdstanpy - INFO - Chain [1] start processing\n",
      "2025-08-14 17:15:42,133 - INFO - Chain [1] start processing\n",
      "17:15:42 - cmdstanpy - INFO - Chain [1] done processing\n",
      "2025-08-14 17:15:42,568 - INFO - Chain [1] done processing\n",
      "2025-08-14 17:15:42,650 - DEBUG - cmd: where.exe tbb.dll\n",
      "cwd: None\n",
      "2025-08-14 17:15:42,792 - DEBUG - TBB already found in load path\n",
      "2025-08-14 17:15:42,815 - INFO - n_changepoints greater than number of observations. Using 21.\n",
      "2025-08-14 17:15:42,821 - DEBUG - input tempfile: C:\\Users\\joey_\\AppData\\Local\\Temp\\tmpzib1ovx4\\evzcyl7o.json\n",
      "2025-08-14 17:15:42,826 - DEBUG - input tempfile: C:\\Users\\joey_\\AppData\\Local\\Temp\\tmpzib1ovx4\\hk03xj_5.json\n",
      "2025-08-14 17:15:42,830 - DEBUG - idx 0\n",
      "2025-08-14 17:15:42,831 - DEBUG - running CmdStan, num_threads: None\n",
      "2025-08-14 17:15:42,833 - DEBUG - CmdStan args: ['C:\\\\Users\\\\joey_\\\\AppData\\\\Local\\\\Programs\\\\Python\\\\Maestro_Yoda\\\\Lib\\\\site-packages\\\\prophet\\\\stan_model\\\\prophet_model.bin', 'random', 'seed=92726', 'data', 'file=C:\\\\Users\\\\joey_\\\\AppData\\\\Local\\\\Temp\\\\tmpzib1ovx4\\\\evzcyl7o.json', 'init=C:\\\\Users\\\\joey_\\\\AppData\\\\Local\\\\Temp\\\\tmpzib1ovx4\\\\hk03xj_5.json', 'output', 'file=C:\\\\Users\\\\joey_\\\\AppData\\\\Local\\\\Temp\\\\tmpzib1ovx4\\\\prophet_modeldbugy56j\\\\prophet_model-20250814171542.csv', 'method=optimize', 'algorithm=newton', 'iter=10000']\n",
      "17:15:42 - cmdstanpy - INFO - Chain [1] start processing\n",
      "2025-08-14 17:15:42,834 - INFO - Chain [1] start processing\n",
      "17:15:43 - cmdstanpy - INFO - Chain [1] done processing\n",
      "2025-08-14 17:15:43,104 - INFO - Chain [1] done processing\n",
      "2025-08-14 17:15:43,227 - DEBUG - cmd: where.exe tbb.dll\n",
      "cwd: None\n",
      "2025-08-14 17:15:43,381 - DEBUG - TBB already found in load path\n",
      "2025-08-14 17:15:43,408 - DEBUG - input tempfile: C:\\Users\\joey_\\AppData\\Local\\Temp\\tmpzib1ovx4\\9llpzvuh.json\n",
      "2025-08-14 17:15:43,416 - DEBUG - input tempfile: C:\\Users\\joey_\\AppData\\Local\\Temp\\tmpzib1ovx4\\d9k1k386.json\n",
      "2025-08-14 17:15:43,419 - DEBUG - idx 0\n",
      "2025-08-14 17:15:43,421 - DEBUG - running CmdStan, num_threads: None\n",
      "2025-08-14 17:15:43,423 - DEBUG - CmdStan args: ['C:\\\\Users\\\\joey_\\\\AppData\\\\Local\\\\Programs\\\\Python\\\\Maestro_Yoda\\\\Lib\\\\site-packages\\\\prophet\\\\stan_model\\\\prophet_model.bin', 'random', 'seed=54609', 'data', 'file=C:\\\\Users\\\\joey_\\\\AppData\\\\Local\\\\Temp\\\\tmpzib1ovx4\\\\9llpzvuh.json', 'init=C:\\\\Users\\\\joey_\\\\AppData\\\\Local\\\\Temp\\\\tmpzib1ovx4\\\\d9k1k386.json', 'output', 'file=C:\\\\Users\\\\joey_\\\\AppData\\\\Local\\\\Temp\\\\tmpzib1ovx4\\\\prophet_modelk7kmfd33\\\\prophet_model-20250814171543.csv', 'method=optimize', 'algorithm=newton', 'iter=10000']\n",
      "17:15:43 - cmdstanpy - INFO - Chain [1] start processing\n",
      "2025-08-14 17:15:43,425 - INFO - Chain [1] start processing\n",
      "17:15:44 - cmdstanpy - INFO - Chain [1] done processing\n",
      "2025-08-14 17:15:44,154 - INFO - Chain [1] done processing\n",
      "2025-08-14 17:15:44,250 - DEBUG - cmd: where.exe tbb.dll\n",
      "cwd: None\n",
      "2025-08-14 17:15:44,519 - DEBUG - TBB already found in load path\n",
      "2025-08-14 17:15:44,551 - INFO - n_changepoints greater than number of observations. Using 21.\n",
      "2025-08-14 17:15:44,557 - DEBUG - input tempfile: C:\\Users\\joey_\\AppData\\Local\\Temp\\tmpzib1ovx4\\b5h4_84y.json\n",
      "2025-08-14 17:15:44,568 - DEBUG - input tempfile: C:\\Users\\joey_\\AppData\\Local\\Temp\\tmpzib1ovx4\\u1dcmpn9.json\n",
      "2025-08-14 17:15:44,572 - DEBUG - idx 0\n",
      "2025-08-14 17:15:44,575 - DEBUG - running CmdStan, num_threads: None\n",
      "2025-08-14 17:15:44,576 - DEBUG - CmdStan args: ['C:\\\\Users\\\\joey_\\\\AppData\\\\Local\\\\Programs\\\\Python\\\\Maestro_Yoda\\\\Lib\\\\site-packages\\\\prophet\\\\stan_model\\\\prophet_model.bin', 'random', 'seed=46875', 'data', 'file=C:\\\\Users\\\\joey_\\\\AppData\\\\Local\\\\Temp\\\\tmpzib1ovx4\\\\b5h4_84y.json', 'init=C:\\\\Users\\\\joey_\\\\AppData\\\\Local\\\\Temp\\\\tmpzib1ovx4\\\\u1dcmpn9.json', 'output', 'file=C:\\\\Users\\\\joey_\\\\AppData\\\\Local\\\\Temp\\\\tmpzib1ovx4\\\\prophet_modelnebesm8t\\\\prophet_model-20250814171544.csv', 'method=optimize', 'algorithm=newton', 'iter=10000']\n",
      "17:15:44 - cmdstanpy - INFO - Chain [1] start processing\n",
      "2025-08-14 17:15:44,578 - INFO - Chain [1] start processing\n",
      "17:15:45 - cmdstanpy - INFO - Chain [1] done processing\n",
      "2025-08-14 17:15:45,151 - INFO - Chain [1] done processing\n",
      "2025-08-14 17:15:45,346 - DEBUG - cmd: where.exe tbb.dll\n",
      "cwd: None\n",
      "2025-08-14 17:15:45,499 - DEBUG - TBB already found in load path\n",
      "2025-08-14 17:15:45,525 - DEBUG - input tempfile: C:\\Users\\joey_\\AppData\\Local\\Temp\\tmpzib1ovx4\\5qdb2671.json\n",
      "2025-08-14 17:15:45,533 - DEBUG - input tempfile: C:\\Users\\joey_\\AppData\\Local\\Temp\\tmpzib1ovx4\\xqy46jv2.json\n",
      "2025-08-14 17:15:45,556 - DEBUG - idx 0\n",
      "2025-08-14 17:15:45,558 - DEBUG - running CmdStan, num_threads: None\n",
      "2025-08-14 17:15:45,561 - DEBUG - CmdStan args: ['C:\\\\Users\\\\joey_\\\\AppData\\\\Local\\\\Programs\\\\Python\\\\Maestro_Yoda\\\\Lib\\\\site-packages\\\\prophet\\\\stan_model\\\\prophet_model.bin', 'random', 'seed=57749', 'data', 'file=C:\\\\Users\\\\joey_\\\\AppData\\\\Local\\\\Temp\\\\tmpzib1ovx4\\\\5qdb2671.json', 'init=C:\\\\Users\\\\joey_\\\\AppData\\\\Local\\\\Temp\\\\tmpzib1ovx4\\\\xqy46jv2.json', 'output', 'file=C:\\\\Users\\\\joey_\\\\AppData\\\\Local\\\\Temp\\\\tmpzib1ovx4\\\\prophet_modeli7chbm3o\\\\prophet_model-20250814171545.csv', 'method=optimize', 'algorithm=newton', 'iter=10000']\n",
      "17:15:45 - cmdstanpy - INFO - Chain [1] start processing\n",
      "2025-08-14 17:15:45,562 - INFO - Chain [1] start processing\n",
      "17:15:46 - cmdstanpy - INFO - Chain [1] done processing\n",
      "2025-08-14 17:15:46,920 - INFO - Chain [1] done processing\n",
      "2025-08-14 17:15:47,097 - INFO - Optimizando Exponential_Smoothing...\n",
      "2025-08-14 17:15:52,924 - INFO - Optimizando XGBoost...\n",
      "2025-08-14 17:15:55,518 - INFO - Mejor modelo seleccionado: Prophet\n",
      "2025-08-14 17:15:55,520 - INFO - Score compuesto: 0.6863\n",
      "2025-08-14 17:15:55,542 - INFO - Optimizando ARIMA...\n",
      "2025-08-14 17:15:55,600 - WARNING - Error en ARIMA: zero-size array to reduction operation maximum which has no identity\n",
      "2025-08-14 17:15:55,659 - WARNING - Error en ARIMA: zero-size array to reduction operation maximum which has no identity\n"
     ]
    },
    {
     "name": "stdout",
     "output_type": "stream",
     "text": [
      "\n",
      "Resultados para Inventory:\n",
      "                Model     RMSE      MAE    MAPE   SMAPE  Composite_Score  Meets_Target\n",
      "              Prophet 110.2352  83.2764 27.5081 36.4747           0.6863         False\n",
      "Exponential_Smoothing 179.1677 112.9101 25.0624 28.7752           0.8057         False\n",
      "              XGBoost 401.3134 236.4751 51.5301 50.8229           0.9529         False\n",
      "\n",
      "🏆 MEJOR MODELO: Prophet\n",
      "   MAPE: 27.51%\n",
      "   SMAPE: 36.47%\n",
      "   RMSE: 110.2352\n",
      "   Score Compuesto: 0.6863\n",
      "   Cumple objetivos: ❌\n",
      "   Parámetros: {'seasonality_mode': 'multiplicative', 'changepoint_prior_scale': 0.1, 'seasonality_prior_scale': 5.0, 'yearly_seasonality': True, 'weekly_seasonality': False, 'daily_seasonality': False}\n",
      "\n",
      "==================== DEPARTAMENTO: Marketing ====================\n"
     ]
    },
    {
     "name": "stderr",
     "output_type": "stream",
     "text": [
      "2025-08-14 17:15:57,441 - INFO - Optimizando Prophet...\n",
      "2025-08-14 17:15:57,444 - DEBUG - cmd: where.exe tbb.dll\n",
      "cwd: None\n",
      "2025-08-14 17:15:57,652 - DEBUG - TBB already found in load path\n",
      "2025-08-14 17:15:57,681 - INFO - n_changepoints greater than number of observations. Using 21.\n",
      "2025-08-14 17:15:57,689 - DEBUG - input tempfile: C:\\Users\\joey_\\AppData\\Local\\Temp\\tmpzib1ovx4\\jprmhms_.json\n",
      "2025-08-14 17:15:57,712 - DEBUG - input tempfile: C:\\Users\\joey_\\AppData\\Local\\Temp\\tmpzib1ovx4\\13gdrwos.json\n",
      "2025-08-14 17:15:57,723 - DEBUG - idx 0\n",
      "2025-08-14 17:15:57,727 - DEBUG - running CmdStan, num_threads: None\n",
      "2025-08-14 17:15:57,732 - DEBUG - CmdStan args: ['C:\\\\Users\\\\joey_\\\\AppData\\\\Local\\\\Programs\\\\Python\\\\Maestro_Yoda\\\\Lib\\\\site-packages\\\\prophet\\\\stan_model\\\\prophet_model.bin', 'random', 'seed=94457', 'data', 'file=C:\\\\Users\\\\joey_\\\\AppData\\\\Local\\\\Temp\\\\tmpzib1ovx4\\\\jprmhms_.json', 'init=C:\\\\Users\\\\joey_\\\\AppData\\\\Local\\\\Temp\\\\tmpzib1ovx4\\\\13gdrwos.json', 'output', 'file=C:\\\\Users\\\\joey_\\\\AppData\\\\Local\\\\Temp\\\\tmpzib1ovx4\\\\prophet_modeljgxd1g60\\\\prophet_model-20250814171557.csv', 'method=optimize', 'algorithm=newton', 'iter=10000']\n",
      "17:15:57 - cmdstanpy - INFO - Chain [1] start processing\n",
      "2025-08-14 17:15:57,735 - INFO - Chain [1] start processing\n",
      "17:15:58 - cmdstanpy - INFO - Chain [1] done processing\n",
      "2025-08-14 17:15:58,420 - INFO - Chain [1] done processing\n",
      "2025-08-14 17:15:58,553 - DEBUG - cmd: where.exe tbb.dll\n",
      "cwd: None\n",
      "2025-08-14 17:15:58,726 - DEBUG - TBB already found in load path\n",
      "2025-08-14 17:15:58,748 - INFO - n_changepoints greater than number of observations. Using 21.\n",
      "2025-08-14 17:15:58,754 - DEBUG - input tempfile: C:\\Users\\joey_\\AppData\\Local\\Temp\\tmpzib1ovx4\\byq1wfqo.json\n",
      "2025-08-14 17:15:58,759 - DEBUG - input tempfile: C:\\Users\\joey_\\AppData\\Local\\Temp\\tmpzib1ovx4\\8saz97h0.json\n",
      "2025-08-14 17:15:58,763 - DEBUG - idx 0\n",
      "2025-08-14 17:15:58,766 - DEBUG - running CmdStan, num_threads: None\n",
      "2025-08-14 17:15:58,767 - DEBUG - CmdStan args: ['C:\\\\Users\\\\joey_\\\\AppData\\\\Local\\\\Programs\\\\Python\\\\Maestro_Yoda\\\\Lib\\\\site-packages\\\\prophet\\\\stan_model\\\\prophet_model.bin', 'random', 'seed=24663', 'data', 'file=C:\\\\Users\\\\joey_\\\\AppData\\\\Local\\\\Temp\\\\tmpzib1ovx4\\\\byq1wfqo.json', 'init=C:\\\\Users\\\\joey_\\\\AppData\\\\Local\\\\Temp\\\\tmpzib1ovx4\\\\8saz97h0.json', 'output', 'file=C:\\\\Users\\\\joey_\\\\AppData\\\\Local\\\\Temp\\\\tmpzib1ovx4\\\\prophet_modelkdmegnm1\\\\prophet_model-20250814171558.csv', 'method=optimize', 'algorithm=newton', 'iter=10000']\n",
      "17:15:58 - cmdstanpy - INFO - Chain [1] start processing\n",
      "2025-08-14 17:15:58,768 - INFO - Chain [1] start processing\n",
      "17:15:59 - cmdstanpy - INFO - Chain [1] done processing\n",
      "2025-08-14 17:15:59,353 - INFO - Chain [1] done processing\n",
      "2025-08-14 17:15:59,477 - DEBUG - cmd: where.exe tbb.dll\n",
      "cwd: None\n",
      "2025-08-14 17:15:59,674 - DEBUG - TBB already found in load path\n",
      "2025-08-14 17:15:59,705 - INFO - n_changepoints greater than number of observations. Using 21.\n",
      "2025-08-14 17:15:59,712 - DEBUG - input tempfile: C:\\Users\\joey_\\AppData\\Local\\Temp\\tmpzib1ovx4\\dq54kpk5.json\n",
      "2025-08-14 17:15:59,721 - DEBUG - input tempfile: C:\\Users\\joey_\\AppData\\Local\\Temp\\tmpzib1ovx4\\hkxjkz_n.json\n",
      "2025-08-14 17:15:59,755 - DEBUG - idx 0\n",
      "2025-08-14 17:15:59,759 - DEBUG - running CmdStan, num_threads: None\n",
      "2025-08-14 17:15:59,765 - DEBUG - CmdStan args: ['C:\\\\Users\\\\joey_\\\\AppData\\\\Local\\\\Programs\\\\Python\\\\Maestro_Yoda\\\\Lib\\\\site-packages\\\\prophet\\\\stan_model\\\\prophet_model.bin', 'random', 'seed=46792', 'data', 'file=C:\\\\Users\\\\joey_\\\\AppData\\\\Local\\\\Temp\\\\tmpzib1ovx4\\\\dq54kpk5.json', 'init=C:\\\\Users\\\\joey_\\\\AppData\\\\Local\\\\Temp\\\\tmpzib1ovx4\\\\hkxjkz_n.json', 'output', 'file=C:\\\\Users\\\\joey_\\\\AppData\\\\Local\\\\Temp\\\\tmpzib1ovx4\\\\prophet_model6t69fzjp\\\\prophet_model-20250814171559.csv', 'method=optimize', 'algorithm=newton', 'iter=10000']\n",
      "17:15:59 - cmdstanpy - INFO - Chain [1] start processing\n",
      "2025-08-14 17:15:59,767 - INFO - Chain [1] start processing\n",
      "17:16:00 - cmdstanpy - INFO - Chain [1] done processing\n",
      "2025-08-14 17:16:00,071 - INFO - Chain [1] done processing\n",
      "2025-08-14 17:16:00,180 - DEBUG - cmd: where.exe tbb.dll\n",
      "cwd: None\n",
      "2025-08-14 17:16:00,367 - DEBUG - TBB already found in load path\n",
      "2025-08-14 17:16:00,394 - DEBUG - input tempfile: C:\\Users\\joey_\\AppData\\Local\\Temp\\tmpzib1ovx4\\cog0fdse.json\n",
      "2025-08-14 17:16:00,402 - DEBUG - input tempfile: C:\\Users\\joey_\\AppData\\Local\\Temp\\tmpzib1ovx4\\mznsukgm.json\n",
      "2025-08-14 17:16:00,407 - DEBUG - idx 0\n",
      "2025-08-14 17:16:00,409 - DEBUG - running CmdStan, num_threads: None\n",
      "2025-08-14 17:16:00,411 - DEBUG - CmdStan args: ['C:\\\\Users\\\\joey_\\\\AppData\\\\Local\\\\Programs\\\\Python\\\\Maestro_Yoda\\\\Lib\\\\site-packages\\\\prophet\\\\stan_model\\\\prophet_model.bin', 'random', 'seed=58513', 'data', 'file=C:\\\\Users\\\\joey_\\\\AppData\\\\Local\\\\Temp\\\\tmpzib1ovx4\\\\cog0fdse.json', 'init=C:\\\\Users\\\\joey_\\\\AppData\\\\Local\\\\Temp\\\\tmpzib1ovx4\\\\mznsukgm.json', 'output', 'file=C:\\\\Users\\\\joey_\\\\AppData\\\\Local\\\\Temp\\\\tmpzib1ovx4\\\\prophet_modelwc_bcp4p\\\\prophet_model-20250814171600.csv', 'method=optimize', 'algorithm=newton', 'iter=10000']\n",
      "17:16:00 - cmdstanpy - INFO - Chain [1] start processing\n",
      "2025-08-14 17:16:00,419 - INFO - Chain [1] start processing\n",
      "17:16:01 - cmdstanpy - INFO - Chain [1] done processing\n",
      "2025-08-14 17:16:01,666 - INFO - Chain [1] done processing\n",
      "2025-08-14 17:16:01,813 - DEBUG - cmd: where.exe tbb.dll\n",
      "cwd: None\n",
      "2025-08-14 17:16:02,005 - DEBUG - TBB already found in load path\n",
      "2025-08-14 17:16:02,029 - INFO - n_changepoints greater than number of observations. Using 21.\n",
      "2025-08-14 17:16:02,036 - DEBUG - input tempfile: C:\\Users\\joey_\\AppData\\Local\\Temp\\tmpzib1ovx4\\vcuuv1n3.json\n",
      "2025-08-14 17:16:02,045 - DEBUG - input tempfile: C:\\Users\\joey_\\AppData\\Local\\Temp\\tmpzib1ovx4\\6ldwkc8_.json\n",
      "2025-08-14 17:16:02,050 - DEBUG - idx 0\n",
      "2025-08-14 17:16:02,054 - DEBUG - running CmdStan, num_threads: None\n",
      "2025-08-14 17:16:02,057 - DEBUG - CmdStan args: ['C:\\\\Users\\\\joey_\\\\AppData\\\\Local\\\\Programs\\\\Python\\\\Maestro_Yoda\\\\Lib\\\\site-packages\\\\prophet\\\\stan_model\\\\prophet_model.bin', 'random', 'seed=36420', 'data', 'file=C:\\\\Users\\\\joey_\\\\AppData\\\\Local\\\\Temp\\\\tmpzib1ovx4\\\\vcuuv1n3.json', 'init=C:\\\\Users\\\\joey_\\\\AppData\\\\Local\\\\Temp\\\\tmpzib1ovx4\\\\6ldwkc8_.json', 'output', 'file=C:\\\\Users\\\\joey_\\\\AppData\\\\Local\\\\Temp\\\\tmpzib1ovx4\\\\prophet_modelqua38d62\\\\prophet_model-20250814171602.csv', 'method=optimize', 'algorithm=newton', 'iter=10000']\n",
      "17:16:02 - cmdstanpy - INFO - Chain [1] start processing\n",
      "2025-08-14 17:16:02,059 - INFO - Chain [1] start processing\n",
      "17:16:02 - cmdstanpy - INFO - Chain [1] done processing\n",
      "2025-08-14 17:16:02,578 - INFO - Chain [1] done processing\n",
      "2025-08-14 17:16:02,705 - DEBUG - cmd: where.exe tbb.dll\n",
      "cwd: None\n",
      "2025-08-14 17:16:02,886 - DEBUG - TBB already found in load path\n",
      "2025-08-14 17:16:02,919 - DEBUG - input tempfile: C:\\Users\\joey_\\AppData\\Local\\Temp\\tmpzib1ovx4\\mmrdbkiq.json\n",
      "2025-08-14 17:16:02,926 - DEBUG - input tempfile: C:\\Users\\joey_\\AppData\\Local\\Temp\\tmpzib1ovx4\\r6b42ghc.json\n",
      "2025-08-14 17:16:02,930 - DEBUG - idx 0\n",
      "2025-08-14 17:16:02,932 - DEBUG - running CmdStan, num_threads: None\n",
      "2025-08-14 17:16:02,935 - DEBUG - CmdStan args: ['C:\\\\Users\\\\joey_\\\\AppData\\\\Local\\\\Programs\\\\Python\\\\Maestro_Yoda\\\\Lib\\\\site-packages\\\\prophet\\\\stan_model\\\\prophet_model.bin', 'random', 'seed=33311', 'data', 'file=C:\\\\Users\\\\joey_\\\\AppData\\\\Local\\\\Temp\\\\tmpzib1ovx4\\\\mmrdbkiq.json', 'init=C:\\\\Users\\\\joey_\\\\AppData\\\\Local\\\\Temp\\\\tmpzib1ovx4\\\\r6b42ghc.json', 'output', 'file=C:\\\\Users\\\\joey_\\\\AppData\\\\Local\\\\Temp\\\\tmpzib1ovx4\\\\prophet_model8fsbube6\\\\prophet_model-20250814171602.csv', 'method=optimize', 'algorithm=newton', 'iter=10000']\n",
      "17:16:02 - cmdstanpy - INFO - Chain [1] start processing\n",
      "2025-08-14 17:16:02,938 - INFO - Chain [1] start processing\n",
      "17:16:03 - cmdstanpy - INFO - Chain [1] done processing\n",
      "2025-08-14 17:16:03,761 - INFO - Chain [1] done processing\n",
      "2025-08-14 17:16:03,892 - INFO - Optimizando Exponential_Smoothing...\n",
      "2025-08-14 17:16:08,702 - INFO - Optimizando XGBoost...\n",
      "2025-08-14 17:16:11,318 - INFO - Mejor modelo seleccionado: Exponential_Smoothing\n",
      "2025-08-14 17:16:11,321 - INFO - Score compuesto: 0.8164\n",
      "2025-08-14 17:16:11,340 - INFO - Optimizando ARIMA...\n",
      "2025-08-14 17:16:11,364 - WARNING - Error en ARIMA: zero-size array to reduction operation maximum which has no identity\n",
      "2025-08-14 17:16:11,392 - WARNING - Error en ARIMA: zero-size array to reduction operation maximum which has no identity\n"
     ]
    },
    {
     "name": "stdout",
     "output_type": "stream",
     "text": [
      "\n",
      "Resultados para Marketing:\n",
      "                Model     RMSE     MAE    MAPE   SMAPE  Composite_Score  Meets_Target\n",
      "Exponential_Smoothing  51.6125 42.6365 34.4347 28.9126           0.8164         False\n",
      "              Prophet  93.4692 81.7209 75.0029 59.3089           0.8815         False\n",
      "              XGBoost 136.2335 88.5466 51.2209 49.6340           0.9851         False\n",
      "\n",
      "🏆 MEJOR MODELO: Exponential_Smoothing\n",
      "   MAPE: 34.43%\n",
      "   SMAPE: 28.91%\n",
      "   RMSE: 51.6125\n",
      "   Score Compuesto: 0.8164\n",
      "   Cumple objetivos: ❌\n",
      "   Parámetros: {'trend': 'add', 'seasonal': 'mul', 'damped_trend': True}\n",
      "\n",
      "==================== DEPARTAMENTO: Sales ====================\n"
     ]
    },
    {
     "name": "stderr",
     "output_type": "stream",
     "text": [
      "2025-08-14 17:16:22,455 - INFO - Optimizando Prophet...\n",
      "2025-08-14 17:16:22,462 - DEBUG - cmd: where.exe tbb.dll\n",
      "cwd: None\n",
      "2025-08-14 17:16:22,768 - DEBUG - TBB already found in load path\n",
      "2025-08-14 17:16:22,799 - INFO - n_changepoints greater than number of observations. Using 21.\n",
      "2025-08-14 17:16:22,811 - DEBUG - input tempfile: C:\\Users\\joey_\\AppData\\Local\\Temp\\tmpzib1ovx4\\vsknhukz.json\n",
      "2025-08-14 17:16:22,831 - DEBUG - input tempfile: C:\\Users\\joey_\\AppData\\Local\\Temp\\tmpzib1ovx4\\dkcjezm2.json\n",
      "2025-08-14 17:16:22,852 - DEBUG - idx 0\n",
      "2025-08-14 17:16:22,860 - DEBUG - running CmdStan, num_threads: None\n",
      "2025-08-14 17:16:22,865 - DEBUG - CmdStan args: ['C:\\\\Users\\\\joey_\\\\AppData\\\\Local\\\\Programs\\\\Python\\\\Maestro_Yoda\\\\Lib\\\\site-packages\\\\prophet\\\\stan_model\\\\prophet_model.bin', 'random', 'seed=44355', 'data', 'file=C:\\\\Users\\\\joey_\\\\AppData\\\\Local\\\\Temp\\\\tmpzib1ovx4\\\\vsknhukz.json', 'init=C:\\\\Users\\\\joey_\\\\AppData\\\\Local\\\\Temp\\\\tmpzib1ovx4\\\\dkcjezm2.json', 'output', 'file=C:\\\\Users\\\\joey_\\\\AppData\\\\Local\\\\Temp\\\\tmpzib1ovx4\\\\prophet_model5ffed0nh\\\\prophet_model-20250814171622.csv', 'method=optimize', 'algorithm=newton', 'iter=10000']\n",
      "17:16:22 - cmdstanpy - INFO - Chain [1] start processing\n",
      "2025-08-14 17:16:22,868 - INFO - Chain [1] start processing\n",
      "17:16:23 - cmdstanpy - INFO - Chain [1] done processing\n",
      "2025-08-14 17:16:23,535 - INFO - Chain [1] done processing\n",
      "2025-08-14 17:16:23,664 - DEBUG - cmd: where.exe tbb.dll\n",
      "cwd: None\n",
      "2025-08-14 17:16:23,897 - DEBUG - TBB already found in load path\n",
      "2025-08-14 17:16:23,933 - INFO - n_changepoints greater than number of observations. Using 21.\n",
      "2025-08-14 17:16:23,942 - DEBUG - input tempfile: C:\\Users\\joey_\\AppData\\Local\\Temp\\tmpzib1ovx4\\ijfn0oex.json\n",
      "2025-08-14 17:16:23,955 - DEBUG - input tempfile: C:\\Users\\joey_\\AppData\\Local\\Temp\\tmpzib1ovx4\\t81q2d21.json\n",
      "2025-08-14 17:16:23,962 - DEBUG - idx 0\n",
      "2025-08-14 17:16:23,964 - DEBUG - running CmdStan, num_threads: None\n",
      "2025-08-14 17:16:23,966 - DEBUG - CmdStan args: ['C:\\\\Users\\\\joey_\\\\AppData\\\\Local\\\\Programs\\\\Python\\\\Maestro_Yoda\\\\Lib\\\\site-packages\\\\prophet\\\\stan_model\\\\prophet_model.bin', 'random', 'seed=12765', 'data', 'file=C:\\\\Users\\\\joey_\\\\AppData\\\\Local\\\\Temp\\\\tmpzib1ovx4\\\\ijfn0oex.json', 'init=C:\\\\Users\\\\joey_\\\\AppData\\\\Local\\\\Temp\\\\tmpzib1ovx4\\\\t81q2d21.json', 'output', 'file=C:\\\\Users\\\\joey_\\\\AppData\\\\Local\\\\Temp\\\\tmpzib1ovx4\\\\prophet_model1qc97yrc\\\\prophet_model-20250814171623.csv', 'method=optimize', 'algorithm=newton', 'iter=10000']\n",
      "17:16:23 - cmdstanpy - INFO - Chain [1] start processing\n",
      "2025-08-14 17:16:23,969 - INFO - Chain [1] start processing\n",
      "17:17:02 - cmdstanpy - INFO - Chain [1] done processing\n",
      "2025-08-14 17:17:02,112 - INFO - Chain [1] done processing\n",
      "2025-08-14 17:17:02,252 - DEBUG - cmd: where.exe tbb.dll\n",
      "cwd: None\n",
      "2025-08-14 17:17:02,436 - DEBUG - TBB already found in load path\n",
      "2025-08-14 17:17:02,466 - INFO - n_changepoints greater than number of observations. Using 21.\n",
      "2025-08-14 17:17:02,472 - DEBUG - input tempfile: C:\\Users\\joey_\\AppData\\Local\\Temp\\tmpzib1ovx4\\607rjff9.json\n",
      "2025-08-14 17:17:02,482 - DEBUG - input tempfile: C:\\Users\\joey_\\AppData\\Local\\Temp\\tmpzib1ovx4\\1bhdf2hs.json\n",
      "2025-08-14 17:17:02,489 - DEBUG - idx 0\n",
      "2025-08-14 17:17:02,494 - DEBUG - running CmdStan, num_threads: None\n",
      "2025-08-14 17:17:02,499 - DEBUG - CmdStan args: ['C:\\\\Users\\\\joey_\\\\AppData\\\\Local\\\\Programs\\\\Python\\\\Maestro_Yoda\\\\Lib\\\\site-packages\\\\prophet\\\\stan_model\\\\prophet_model.bin', 'random', 'seed=4214', 'data', 'file=C:\\\\Users\\\\joey_\\\\AppData\\\\Local\\\\Temp\\\\tmpzib1ovx4\\\\607rjff9.json', 'init=C:\\\\Users\\\\joey_\\\\AppData\\\\Local\\\\Temp\\\\tmpzib1ovx4\\\\1bhdf2hs.json', 'output', 'file=C:\\\\Users\\\\joey_\\\\AppData\\\\Local\\\\Temp\\\\tmpzib1ovx4\\\\prophet_modelf6_4h6ji\\\\prophet_model-20250814171702.csv', 'method=optimize', 'algorithm=newton', 'iter=10000']\n",
      "17:17:02 - cmdstanpy - INFO - Chain [1] start processing\n",
      "2025-08-14 17:17:02,505 - INFO - Chain [1] start processing\n",
      "17:17:02 - cmdstanpy - INFO - Chain [1] done processing\n",
      "2025-08-14 17:17:02,874 - INFO - Chain [1] done processing\n",
      "2025-08-14 17:17:02,986 - DEBUG - cmd: where.exe tbb.dll\n",
      "cwd: None\n",
      "2025-08-14 17:17:03,152 - DEBUG - TBB already found in load path\n",
      "2025-08-14 17:17:03,177 - DEBUG - input tempfile: C:\\Users\\joey_\\AppData\\Local\\Temp\\tmpzib1ovx4\\3xu63psu.json\n",
      "2025-08-14 17:17:03,188 - DEBUG - input tempfile: C:\\Users\\joey_\\AppData\\Local\\Temp\\tmpzib1ovx4\\xzzm1tdc.json\n",
      "2025-08-14 17:17:03,192 - DEBUG - idx 0\n",
      "2025-08-14 17:17:03,194 - DEBUG - running CmdStan, num_threads: None\n",
      "2025-08-14 17:17:03,196 - DEBUG - CmdStan args: ['C:\\\\Users\\\\joey_\\\\AppData\\\\Local\\\\Programs\\\\Python\\\\Maestro_Yoda\\\\Lib\\\\site-packages\\\\prophet\\\\stan_model\\\\prophet_model.bin', 'random', 'seed=88468', 'data', 'file=C:\\\\Users\\\\joey_\\\\AppData\\\\Local\\\\Temp\\\\tmpzib1ovx4\\\\3xu63psu.json', 'init=C:\\\\Users\\\\joey_\\\\AppData\\\\Local\\\\Temp\\\\tmpzib1ovx4\\\\xzzm1tdc.json', 'output', 'file=C:\\\\Users\\\\joey_\\\\AppData\\\\Local\\\\Temp\\\\tmpzib1ovx4\\\\prophet_modelryxzd0lm\\\\prophet_model-20250814171703.csv', 'method=optimize', 'algorithm=newton', 'iter=10000']\n",
      "17:17:03 - cmdstanpy - INFO - Chain [1] start processing\n",
      "2025-08-14 17:17:03,198 - INFO - Chain [1] start processing\n",
      "17:17:03 - cmdstanpy - INFO - Chain [1] done processing\n",
      "2025-08-14 17:17:03,939 - INFO - Chain [1] done processing\n",
      "2025-08-14 17:17:04,052 - DEBUG - cmd: where.exe tbb.dll\n",
      "cwd: None\n",
      "2025-08-14 17:17:04,253 - DEBUG - TBB already found in load path\n",
      "2025-08-14 17:17:04,280 - INFO - n_changepoints greater than number of observations. Using 21.\n",
      "2025-08-14 17:17:04,286 - DEBUG - input tempfile: C:\\Users\\joey_\\AppData\\Local\\Temp\\tmpzib1ovx4\\i08u1hyg.json\n",
      "2025-08-14 17:17:04,293 - DEBUG - input tempfile: C:\\Users\\joey_\\AppData\\Local\\Temp\\tmpzib1ovx4\\amv6sk4_.json\n",
      "2025-08-14 17:17:04,303 - DEBUG - idx 0\n",
      "2025-08-14 17:17:04,305 - DEBUG - running CmdStan, num_threads: None\n",
      "2025-08-14 17:17:04,309 - DEBUG - CmdStan args: ['C:\\\\Users\\\\joey_\\\\AppData\\\\Local\\\\Programs\\\\Python\\\\Maestro_Yoda\\\\Lib\\\\site-packages\\\\prophet\\\\stan_model\\\\prophet_model.bin', 'random', 'seed=834', 'data', 'file=C:\\\\Users\\\\joey_\\\\AppData\\\\Local\\\\Temp\\\\tmpzib1ovx4\\\\i08u1hyg.json', 'init=C:\\\\Users\\\\joey_\\\\AppData\\\\Local\\\\Temp\\\\tmpzib1ovx4\\\\amv6sk4_.json', 'output', 'file=C:\\\\Users\\\\joey_\\\\AppData\\\\Local\\\\Temp\\\\tmpzib1ovx4\\\\prophet_modelu2p7urne\\\\prophet_model-20250814171704.csv', 'method=optimize', 'algorithm=newton', 'iter=10000']\n",
      "17:17:04 - cmdstanpy - INFO - Chain [1] start processing\n",
      "2025-08-14 17:17:04,312 - INFO - Chain [1] start processing\n",
      "17:17:36 - cmdstanpy - INFO - Chain [1] done processing\n",
      "2025-08-14 17:17:36,983 - INFO - Chain [1] done processing\n",
      "2025-08-14 17:17:37,122 - DEBUG - cmd: where.exe tbb.dll\n",
      "cwd: None\n",
      "2025-08-14 17:17:37,319 - DEBUG - TBB already found in load path\n",
      "2025-08-14 17:17:37,345 - DEBUG - input tempfile: C:\\Users\\joey_\\AppData\\Local\\Temp\\tmpzib1ovx4\\dsk10qt9.json\n",
      "2025-08-14 17:17:37,353 - DEBUG - input tempfile: C:\\Users\\joey_\\AppData\\Local\\Temp\\tmpzib1ovx4\\y7a1e51c.json\n",
      "2025-08-14 17:17:37,358 - DEBUG - idx 0\n",
      "2025-08-14 17:17:37,360 - DEBUG - running CmdStan, num_threads: None\n",
      "2025-08-14 17:17:37,365 - DEBUG - CmdStan args: ['C:\\\\Users\\\\joey_\\\\AppData\\\\Local\\\\Programs\\\\Python\\\\Maestro_Yoda\\\\Lib\\\\site-packages\\\\prophet\\\\stan_model\\\\prophet_model.bin', 'random', 'seed=86266', 'data', 'file=C:\\\\Users\\\\joey_\\\\AppData\\\\Local\\\\Temp\\\\tmpzib1ovx4\\\\dsk10qt9.json', 'init=C:\\\\Users\\\\joey_\\\\AppData\\\\Local\\\\Temp\\\\tmpzib1ovx4\\\\y7a1e51c.json', 'output', 'file=C:\\\\Users\\\\joey_\\\\AppData\\\\Local\\\\Temp\\\\tmpzib1ovx4\\\\prophet_model698i8ijb\\\\prophet_model-20250814171737.csv', 'method=optimize', 'algorithm=newton', 'iter=10000']\n",
      "17:17:37 - cmdstanpy - INFO - Chain [1] start processing\n",
      "2025-08-14 17:17:37,368 - INFO - Chain [1] start processing\n",
      "17:17:38 - cmdstanpy - INFO - Chain [1] done processing\n",
      "2025-08-14 17:17:38,582 - INFO - Chain [1] done processing\n",
      "2025-08-14 17:17:38,768 - INFO - Optimizando Exponential_Smoothing...\n",
      "2025-08-14 17:17:44,454 - INFO - Optimizando XGBoost...\n",
      "2025-08-14 17:17:47,474 - INFO - Mejor modelo seleccionado: Exponential_Smoothing\n",
      "2025-08-14 17:17:47,477 - INFO - Score compuesto: 0.5424\n"
     ]
    },
    {
     "name": "stdout",
     "output_type": "stream",
     "text": [
      "\n",
      "Resultados para Sales:\n",
      "                Model      RMSE       MAE    MAPE   SMAPE  Composite_Score  Meets_Target\n",
      "Exponential_Smoothing  343.3263  292.8247 18.9139 16.6437           0.5424         False\n",
      "              Prophet  817.5866  636.1250 37.9879 29.2323           0.7702         False\n",
      "              XGBoost 2436.0958 1472.5340 55.3761 47.2319           0.9534         False\n",
      "                ARIMA 2012.1424 1579.4018 74.5594 60.0741           0.9887         False\n",
      "\n",
      "🏆 MEJOR MODELO: Exponential_Smoothing\n",
      "   MAPE: 18.91%\n",
      "   SMAPE: 16.64%\n",
      "   RMSE: 343.3263\n",
      "   Score Compuesto: 0.5424\n",
      "   Cumple objetivos: ❌\n",
      "   Parámetros: {'trend': 'add', 'seasonal': 'mul', 'damped_trend': True}\n"
     ]
    }
   ],
   "source": [
    "## 4. Entrenamiento y Selección de Modelos Mejorado\n",
    "\n",
    "import pandas as pd\n",
    "import numpy as np\n",
    "import warnings\n",
    "from prophet import Prophet\n",
    "import xgboost as xgb\n",
    "from statsmodels.tsa.holtwinters import ExponentialSmoothing\n",
    "from pmdarima import auto_arima\n",
    "from sklearn.metrics import mean_squared_error, mean_absolute_error, r2_score\n",
    "from sklearn.model_selection import TimeSeriesSplit, ParameterGrid\n",
    "import logging\n",
    "import contextlib\n",
    "import sys\n",
    "import io\n",
    "from itertools import product\n",
    "import joblib\n",
    "\n",
    "warnings.filterwarnings(\"ignore\")\n",
    "\n",
    "# =====================\n",
    "# FUNCIONES DE MÉTRICAS\n",
    "# =====================\n",
    "def calculate_mape(y_true, y_pred):\n",
    "    \"\"\"Calcula MAPE evitando división por cero\"\"\"\n",
    "    mask = y_true != 0\n",
    "    if mask.sum() == 0:\n",
    "        return float('inf')\n",
    "    return np.mean(np.abs((y_true[mask] - y_pred[mask]) / y_true[mask])) * 100\n",
    "\n",
    "def calculate_smape(y_true, y_pred):\n",
    "    \"\"\"Calcula SMAPE simétrico\"\"\"\n",
    "    numerator = 2 * np.abs(y_pred - y_true)\n",
    "    denominator = np.abs(y_true) + np.abs(y_pred)\n",
    "    mask = denominator != 0\n",
    "    if mask.sum() == 0:\n",
    "        return float('inf')\n",
    "    return np.mean(numerator[mask] / denominator[mask]) * 100\n",
    "\n",
    "def calculate_rmse(y_true, y_pred):\n",
    "    \"\"\"Calcula RMSE\"\"\"\n",
    "    return np.sqrt(mean_squared_error(y_true, y_pred))\n",
    "\n",
    "def calculate_mae(y_true, y_pred):\n",
    "    \"\"\"Calcula MAE\"\"\"\n",
    "    return mean_absolute_error(y_true, y_pred)\n",
    "\n",
    "def calculate_mase(y_true, y_pred, y_train):\n",
    "    \"\"\"Calcula MASE (Mean Absolute Scaled Error)\"\"\"\n",
    "    try:\n",
    "        naive_forecast = y_train.shift(1).dropna()\n",
    "        mae_naive = calculate_mae(y_train[1:], naive_forecast)\n",
    "        if mae_naive == 0:\n",
    "            return float('inf')\n",
    "        return calculate_mae(y_true, y_pred) / mae_naive\n",
    "    except:\n",
    "        return float('inf')\n",
    "\n",
    "def evaluate_model_performance(y_true, y_pred, y_train):\n",
    "    \"\"\"Evalúa el desempeño del modelo con múltiples métricas\"\"\"\n",
    "    metrics = {\n",
    "        'RMSE': calculate_rmse(y_true, y_pred),\n",
    "        'MAE': calculate_mae(y_true, y_pred),\n",
    "        'MAPE': calculate_mape(y_true, y_pred),\n",
    "        'SMAPE': calculate_smape(y_true, y_pred),\n",
    "        'MASE': calculate_mase(y_true, y_pred, y_train)\n",
    "    }\n",
    "    \n",
    "    # Score compuesto (menor es mejor)\n",
    "    weights = {'RMSE': 0.2, 'MAE': 0.2, 'MAPE': 0.3, 'SMAPE': 0.2, 'MASE': 0.1}\n",
    "    normalized_metrics = {}\n",
    "    \n",
    "    for metric, value in metrics.items():\n",
    "        if np.isfinite(value):\n",
    "            if metric in ['MAPE', 'SMAPE']:\n",
    "                normalized_metrics[metric] = min(value / 20, 1.0)  # Normalizar a 20%\n",
    "            elif metric == 'MASE':\n",
    "                normalized_metrics[metric] = min(value / 2.0, 1.0)  # Normalizar a 2.0\n",
    "            else:\n",
    "                # Para RMSE y MAE, normalizar por la desviación estándar\n",
    "                std_train = y_train.std()\n",
    "                normalized_metrics[metric] = min(value / std_train, 1.0) if std_train > 0 else 1.0\n",
    "        else:\n",
    "            normalized_metrics[metric] = 1.0\n",
    "    \n",
    "    composite_score = sum(normalized_metrics[metric] * weights[metric] for metric in weights.keys())\n",
    "    metrics['Composite_Score'] = composite_score\n",
    "    \n",
    "    return metrics\n",
    "\n",
    "# ==========================\n",
    "# VALIDACIÓN CRUZADA ROBUSTA\n",
    "# ==========================\n",
    "def time_series_cross_validation(series, model_func, model_params, n_splits=3, test_size=6, min_train_size=24):\n",
    "    \"\"\"\n",
    "    Validación cruzada específica para series temporales con grid search\n",
    "    \"\"\"\n",
    "    if len(series) < min_train_size + test_size:\n",
    "        return None\n",
    "    \n",
    "    # Crear splits de validación\n",
    "    total_length = len(series)\n",
    "    scores = []\n",
    "    \n",
    "    for i in range(n_splits):\n",
    "        # Calcular índices de entrenamiento y prueba\n",
    "        test_start = total_length - test_size * (n_splits - i)\n",
    "        train_end = test_start\n",
    "        \n",
    "        if train_end < min_train_size:\n",
    "            continue\n",
    "            \n",
    "        train_data = series.iloc[:train_end]\n",
    "        test_data = series.iloc[test_start:test_start + test_size]\n",
    "        \n",
    "        if len(train_data) < min_train_size or len(test_data) == 0:\n",
    "            continue\n",
    "        \n",
    "        try:\n",
    "            # Entrenar modelo con parámetros específicos\n",
    "            predictions = model_func(train_data, len(test_data), **model_params)\n",
    "            \n",
    "            if predictions is None or len(predictions) == 0:\n",
    "                continue\n",
    "            \n",
    "            # Ajustar longitud de predicciones\n",
    "            predictions = np.array(predictions)[:len(test_data)]\n",
    "            test_values = test_data.values[:len(predictions)]\n",
    "            \n",
    "            if len(predictions) == 0 or len(set(predictions)) <= 1:\n",
    "                continue\n",
    "            \n",
    "            # Evaluar métricas\n",
    "            metrics = evaluate_model_performance(test_values, predictions, train_data)\n",
    "            scores.append(metrics)\n",
    "            \n",
    "        except Exception as e:\n",
    "            logging.warning(f\"Error en validación cruzada: {e}\")\n",
    "            continue\n",
    "    \n",
    "    if not scores:\n",
    "        return None\n",
    "    \n",
    "    # Promediar métricas\n",
    "    avg_metrics = {}\n",
    "    for metric in ['RMSE', 'MAE', 'MAPE', 'SMAPE', 'MASE', 'Composite_Score']:\n",
    "        values = [score[metric] for score in scores if np.isfinite(score[metric])]\n",
    "        avg_metrics[metric] = np.mean(values) if values else float('inf')\n",
    "    \n",
    "    return avg_metrics\n",
    "\n",
    "# =====================================\n",
    "# MODELOS CON HIPERPARÁMETROS OPTIMIZADOS\n",
    "# =====================================\n",
    "\n",
    "class ARIMAOptimizer:\n",
    "    def __init__(self):\n",
    "        self.param_grid = [\n",
    "            {'seasonal': True, 'stepwise': True, 'approximation': False, 'max_p': 3, 'max_q': 3, 'max_P': 2, 'max_Q': 2},\n",
    "            {'seasonal': True, 'stepwise': False, 'approximation': True, 'max_p': 2, 'max_q': 2, 'max_P': 1, 'max_Q': 1},\n",
    "            {'seasonal': False, 'stepwise': True, 'approximation': False, 'max_p': 5, 'max_q': 5},\n",
    "        ]\n",
    "    \n",
    "    def fit_predict(self, train_data, horizon, **params):\n",
    "        try:\n",
    "            model = auto_arima(\n",
    "                train_data,\n",
    "                start_p=0, start_q=0,\n",
    "                max_p=params.get('max_p', 3),\n",
    "                max_q=params.get('max_q', 3),\n",
    "                start_P=0, start_Q=0,\n",
    "                max_P=params.get('max_P', 2),\n",
    "                max_Q=params.get('max_Q', 2),\n",
    "                seasonal=params.get('seasonal', True),\n",
    "                m=12,\n",
    "                stepwise=params.get('stepwise', True),\n",
    "                approximation=params.get('approximation', False),\n",
    "                suppress_warnings=True,\n",
    "                error_action='ignore',\n",
    "                trace=False,\n",
    "                random_state=42,\n",
    "                n_fits=30\n",
    "            )\n",
    "            \n",
    "            predictions = model.predict(n_periods=horizon)\n",
    "            return predictions, model\n",
    "        except Exception as e:\n",
    "            logging.warning(f\"Error en ARIMA: {e}\")\n",
    "            return None, None\n",
    "    \n",
    "    def optimize(self, series, horizon=6):\n",
    "        best_score = float('inf')\n",
    "        best_params = None\n",
    "        best_model = None\n",
    "        \n",
    "        for params in self.param_grid:\n",
    "            try:\n",
    "                metrics = time_series_cross_validation(\n",
    "                    series, \n",
    "                    lambda train, h, **p: self.fit_predict(train, h, **p)[0],\n",
    "                    params,\n",
    "                    n_splits=3,\n",
    "                    test_size=horizon\n",
    "                )\n",
    "                \n",
    "                if metrics and metrics['Composite_Score'] < best_score:\n",
    "                    best_score = metrics['Composite_Score']\n",
    "                    best_params = params\n",
    "                    \n",
    "            except Exception as e:\n",
    "                logging.warning(f\"Error optimizando ARIMA con params {params}: {e}\")\n",
    "                continue\n",
    "        \n",
    "        if best_params:\n",
    "            predictions, model = self.fit_predict(series, horizon, **best_params)\n",
    "            best_model = model\n",
    "        \n",
    "        return best_model, best_params, best_score\n",
    "\n",
    "class ProphetOptimizer:\n",
    "    def __init__(self):\n",
    "        self.param_grid = [\n",
    "            {\n",
    "                'seasonality_mode': 'additive',\n",
    "                'changepoint_prior_scale': 0.05,\n",
    "                'seasonality_prior_scale': 10.0,\n",
    "                'yearly_seasonality': True,\n",
    "                'weekly_seasonality': False,\n",
    "                'daily_seasonality': False\n",
    "            },\n",
    "            {\n",
    "                'seasonality_mode': 'multiplicative',\n",
    "                'changepoint_prior_scale': 0.1,\n",
    "                'seasonality_prior_scale': 5.0,\n",
    "                'yearly_seasonality': True,\n",
    "                'weekly_seasonality': False,\n",
    "                'daily_seasonality': False\n",
    "            },\n",
    "            {\n",
    "                'seasonality_mode': 'additive',\n",
    "                'changepoint_prior_scale': 0.01,\n",
    "                'seasonality_prior_scale': 15.0,\n",
    "                'yearly_seasonality': True,\n",
    "                'weekly_seasonality': False,\n",
    "                'daily_seasonality': False\n",
    "            }\n",
    "        ]\n",
    "    \n",
    "    def fit_predict(self, train_data, horizon, **params):\n",
    "        try:\n",
    "            df = pd.DataFrame({\n",
    "                'ds': train_data.index,\n",
    "                'y': train_data.values\n",
    "            })\n",
    "            \n",
    "            with contextlib.redirect_stdout(io.StringIO()), contextlib.redirect_stderr(io.StringIO()):\n",
    "                model = Prophet(**params)\n",
    "                model.fit(df)\n",
    "                \n",
    "                future = model.make_future_dataframe(periods=horizon, freq='MS')\n",
    "                forecast = model.predict(future)\n",
    "                \n",
    "                predictions = forecast['yhat'].tail(horizon).values\n",
    "                \n",
    "            return predictions, model\n",
    "        except Exception as e:\n",
    "            logging.warning(f\"Error en Prophet: {e}\")\n",
    "            return None, None\n",
    "    \n",
    "    def optimize(self, series, horizon=6):\n",
    "        best_score = float('inf')\n",
    "        best_params = None\n",
    "        best_model = None\n",
    "        \n",
    "        for params in self.param_grid:\n",
    "            try:\n",
    "                metrics = time_series_cross_validation(\n",
    "                    series,\n",
    "                    lambda train, h, **p: self.fit_predict(train, h, **p)[0],\n",
    "                    params,\n",
    "                    n_splits=3,\n",
    "                    test_size=horizon\n",
    "                )\n",
    "                \n",
    "                if metrics and metrics['Composite_Score'] < best_score:\n",
    "                    best_score = metrics['Composite_Score']\n",
    "                    best_params = params\n",
    "                    \n",
    "            except Exception as e:\n",
    "                logging.warning(f\"Error optimizando Prophet con params {params}: {e}\")\n",
    "                continue\n",
    "        \n",
    "        if best_params:\n",
    "            predictions, model = self.fit_predict(series, horizon, **best_params)\n",
    "            best_model = model\n",
    "        \n",
    "        return best_model, best_params, best_score\n",
    "\n",
    "class ExponentialSmoothingOptimizer:\n",
    "    def __init__(self):\n",
    "        self.param_grid = list(product(\n",
    "            ['add', 'mul', None],  # trend\n",
    "            ['add', 'mul', None],  # seasonal\n",
    "            [True, False]  # damped_trend\n",
    "        ))\n",
    "    \n",
    "    def fit_predict(self, train_data, horizon, **params):\n",
    "        try:\n",
    "            trend = params.get('trend')\n",
    "            seasonal = params.get('seasonal')\n",
    "            damped_trend = params.get('damped_trend', False)\n",
    "            \n",
    "            # Validaciones\n",
    "            if trend is None and damped_trend:\n",
    "                return None, None\n",
    "            if seasonal == 'mul' and (train_data <= 0).any():\n",
    "                seasonal = 'add'\n",
    "            \n",
    "            model = ExponentialSmoothing(\n",
    "                train_data,\n",
    "                trend=trend,\n",
    "                seasonal=seasonal,\n",
    "                seasonal_periods=12,\n",
    "                damped_trend=damped_trend\n",
    "            )\n",
    "            \n",
    "            fitted_model = model.fit(optimized=True, remove_bias=True)\n",
    "            predictions = fitted_model.forecast(horizon)\n",
    "            \n",
    "            return predictions.values if hasattr(predictions, 'values') else predictions, fitted_model\n",
    "        except Exception as e:\n",
    "            logging.warning(f\"Error en Exponential Smoothing: {e}\")\n",
    "            return None, None\n",
    "    \n",
    "    def optimize(self, series, horizon=6):\n",
    "        best_score = float('inf')\n",
    "        best_params = None\n",
    "        best_model = None\n",
    "        \n",
    "        for trend, seasonal, damped in self.param_grid:\n",
    "            params = {'trend': trend, 'seasonal': seasonal, 'damped_trend': damped}\n",
    "            \n",
    "            try:\n",
    "                metrics = time_series_cross_validation(\n",
    "                    series,\n",
    "                    lambda train, h, **p: self.fit_predict(train, h, **p)[0],\n",
    "                    params,\n",
    "                    n_splits=3,\n",
    "                    test_size=horizon\n",
    "                )\n",
    "                \n",
    "                if metrics and metrics['Composite_Score'] < best_score:\n",
    "                    best_score = metrics['Composite_Score']\n",
    "                    best_params = params\n",
    "                    \n",
    "            except Exception as e:\n",
    "                continue\n",
    "        \n",
    "        if best_params:\n",
    "            predictions, model = self.fit_predict(series, horizon, **best_params)\n",
    "            best_model = model\n",
    "        \n",
    "        return best_model, best_params, best_score\n",
    "\n",
    "class XGBoostOptimizer:\n",
    "    def __init__(self):\n",
    "        self.param_grid = [\n",
    "            {\n",
    "                'n_estimators': 200,\n",
    "                'max_depth': 4,\n",
    "                'learning_rate': 0.05,\n",
    "                'subsample': 0.8,\n",
    "                'colsample_bytree': 0.8,\n",
    "                'reg_alpha': 0.1,\n",
    "                'reg_lambda': 1.0,\n",
    "                'n_lags': 6\n",
    "            },\n",
    "            {\n",
    "                'n_estimators': 300,\n",
    "                'max_depth': 6,\n",
    "                'learning_rate': 0.03,\n",
    "                'subsample': 0.9,\n",
    "                'colsample_bytree': 0.9,\n",
    "                'reg_alpha': 0.05,\n",
    "                'reg_lambda': 0.5,\n",
    "                'n_lags': 12\n",
    "            },\n",
    "            {\n",
    "                'n_estimators': 500,\n",
    "                'max_depth': 3,\n",
    "                'learning_rate': 0.01,\n",
    "                'subsample': 0.85,\n",
    "                'colsample_bytree': 0.85,\n",
    "                'reg_alpha': 0.2,\n",
    "                'reg_lambda': 2.0,\n",
    "                'n_lags': 9\n",
    "            }\n",
    "        ]\n",
    "    \n",
    "    def create_features(self, series, n_lags=12):\n",
    "        \"\"\"Crear características para XGBoost\"\"\"\n",
    "        df = pd.DataFrame({'y': series.values}, index=series.index)\n",
    "        \n",
    "        # Características de rezago\n",
    "        for lag in range(1, n_lags + 1):\n",
    "            df[f'lag_{lag}'] = df['y'].shift(lag)\n",
    "        \n",
    "        # Características temporales\n",
    "        df['month'] = df.index.month\n",
    "        df['quarter'] = df.index.quarter\n",
    "        df['year'] = df.index.year\n",
    "        \n",
    "        # Características cíclicas\n",
    "        df['month_sin'] = np.sin(2 * np.pi * df['month'] / 12)\n",
    "        df['month_cos'] = np.cos(2 * np.pi * df['month'] / 12)\n",
    "        \n",
    "        # Estadísticas móviles\n",
    "        for window in [3, 6, 12]:\n",
    "            if len(series) > window:\n",
    "                df[f'ma_{window}'] = df['y'].rolling(window=window, min_periods=1).mean().shift(1)\n",
    "                df[f'std_{window}'] = df['y'].rolling(window=window, min_periods=1).std().shift(1).fillna(0)\n",
    "        \n",
    "        return df.dropna()\n",
    "    \n",
    "    def fit_predict(self, train_data, horizon, **params):\n",
    "        try:\n",
    "            n_lags = params.pop('n_lags', 12)\n",
    "            df = self.create_features(train_data, n_lags)\n",
    "            \n",
    "            if len(df) < 12:\n",
    "                return None, None\n",
    "            \n",
    "            X = df.drop('y', axis=1)\n",
    "            y = df['y']\n",
    "            \n",
    "            model = xgb.XGBRegressor(\n",
    "                random_state=42,\n",
    "                n_jobs=-1,\n",
    "                **params\n",
    "            )\n",
    "            \n",
    "            model.fit(X, y)\n",
    "            \n",
    "            # Predicciones recursivas\n",
    "            predictions = []\n",
    "            last_features = X.iloc[-1].values.copy()\n",
    "            feature_names = X.columns.tolist()\n",
    "            \n",
    "            for step in range(horizon):\n",
    "                pred = model.predict(last_features.reshape(1, -1))[0]\n",
    "                predictions.append(pred)\n",
    "                \n",
    "                # Actualizar características\n",
    "                n_lag_features = sum(1 for col in feature_names if col.startswith('lag_'))\n",
    "                if n_lag_features > 0:\n",
    "                    last_features[1:n_lag_features] = last_features[0:n_lag_features-1]\n",
    "                    last_features[0] = pred\n",
    "                \n",
    "                # Actualizar características temporales\n",
    "                current_date = train_data.index[-1] + pd.DateOffset(months=step+1)\n",
    "                \n",
    "                if 'month' in feature_names:\n",
    "                    last_features[feature_names.index('month')] = current_date.month\n",
    "                if 'quarter' in feature_names:\n",
    "                    last_features[feature_names.index('quarter')] = current_date.quarter\n",
    "                if 'year' in feature_names:\n",
    "                    last_features[feature_names.index('year')] = current_date.year\n",
    "                if 'month_sin' in feature_names:\n",
    "                    last_features[feature_names.index('month_sin')] = np.sin(2 * np.pi * current_date.month / 12)\n",
    "                if 'month_cos' in feature_names:\n",
    "                    last_features[feature_names.index('month_cos')] = np.cos(2 * np.pi * current_date.month / 12)\n",
    "            \n",
    "            return predictions, model\n",
    "        except Exception as e:\n",
    "            logging.warning(f\"Error en XGBoost: {e}\")\n",
    "            return None, None\n",
    "    \n",
    "    def optimize(self, series, horizon=6):\n",
    "        best_score = float('inf')\n",
    "        best_params = None\n",
    "        best_model = None\n",
    "        \n",
    "        for params in self.param_grid:\n",
    "            try:\n",
    "                metrics = time_series_cross_validation(\n",
    "                    series,\n",
    "                    lambda train, h, **p: self.fit_predict(train, h, **p)[0],\n",
    "                    params,\n",
    "                    n_splits=3,\n",
    "                    test_size=horizon\n",
    "                )\n",
    "                \n",
    "                if metrics and metrics['Composite_Score'] < best_score:\n",
    "                    best_score = metrics['Composite_Score']\n",
    "                    best_params = params\n",
    "                    \n",
    "            except Exception as e:\n",
    "                logging.warning(f\"Error optimizando XGBoost con params {params}: {e}\")\n",
    "                continue\n",
    "        \n",
    "        if best_params:\n",
    "            predictions, model = self.fit_predict(series, horizon, **best_params)\n",
    "            best_model = model\n",
    "        \n",
    "        return best_model, best_params, best_score\n",
    "\n",
    "# ==============================\n",
    "# ENTRENAMIENTO Y SELECCIÓN FINAL\n",
    "# ==============================\n",
    "def train_and_select_best_model_improved(series, horizon=12, switches=None):\n",
    "    \"\"\"\n",
    "    Entrena y selecciona el mejor modelo basado en switches y métricas\n",
    "    \"\"\"\n",
    "    if switches is None:\n",
    "        switches = {\n",
    "            'AUTO_MODEL_SELECTION': True,\n",
    "            'USE_XGBOOST': False,\n",
    "            'USE_ARIMA': False,\n",
    "            'USE_PROPHET': False,\n",
    "            'USE_ES': False\n",
    "        }\n",
    "    \n",
    "    models_to_train = []\n",
    "    \n",
    "    # Determinar qué modelos entrenar según switches\n",
    "    if switches.get('AUTO_MODEL_SELECTION', True):\n",
    "        models_to_train = ['ARIMA', 'Prophet', 'Exponential_Smoothing', 'XGBoost']\n",
    "    else:\n",
    "        if switches.get('USE_ARIMA', False):\n",
    "            models_to_train.append('ARIMA')\n",
    "        if switches.get('USE_PROPHET', False):\n",
    "            models_to_train.append('Prophet')\n",
    "        if switches.get('USE_ES', False):\n",
    "            models_to_train.append('Exponential_Smoothing')\n",
    "        if switches.get('USE_XGBOOST', False):\n",
    "            models_to_train.append('XGBoost')\n",
    "    \n",
    "    if not models_to_train:\n",
    "        logging.error(\"No se especificaron modelos para entrenar\")\n",
    "        return None, None, None\n",
    "    \n",
    "    results = []\n",
    "    trained_models = {}\n",
    "    \n",
    "    # Entrenar cada modelo\n",
    "    for model_name in models_to_train:\n",
    "        logging.info(f\"Optimizando {model_name}...\")\n",
    "        \n",
    "        try:\n",
    "            if model_name == 'ARIMA':\n",
    "                optimizer = ARIMAOptimizer()\n",
    "            elif model_name == 'Prophet':\n",
    "                optimizer = ProphetOptimizer()\n",
    "            elif model_name == 'Exponential_Smoothing':\n",
    "                optimizer = ExponentialSmoothingOptimizer()\n",
    "            elif model_name == 'XGBoost':\n",
    "                optimizer = XGBoostOptimizer()\n",
    "            \n",
    "            model, best_params, best_score = optimizer.optimize(series, horizon)\n",
    "            \n",
    "            if model is not None:\n",
    "                # Evaluar el modelo final\n",
    "                final_metrics = time_series_cross_validation(\n",
    "                    series,\n",
    "                    lambda train, h, **p: optimizer.fit_predict(train, h, **best_params)[0],\n",
    "                    best_params or {},\n",
    "                    n_splits=3,\n",
    "                    test_size=6\n",
    "                )\n",
    "                \n",
    "                if final_metrics:\n",
    "                    trained_models[model_name] = {\n",
    "                        'model': model,\n",
    "                        'params': best_params,\n",
    "                        'optimizer': optimizer\n",
    "                    }\n",
    "                    \n",
    "                    results.append({\n",
    "                        'Model': model_name,\n",
    "                        'RMSE': round(final_metrics['RMSE'], 4),\n",
    "                        'MAE': round(final_metrics['MAE'], 4),\n",
    "                        'MAPE': round(final_metrics['MAPE'], 4),\n",
    "                        'SMAPE': round(final_metrics['SMAPE'], 4),\n",
    "                        'MASE': round(final_metrics['MASE'], 4),\n",
    "                        'Composite_Score': round(final_metrics['Composite_Score'], 4),\n",
    "                        'Meets_Target': final_metrics['MAPE'] <= 10 and final_metrics['SMAPE'] <= 10,\n",
    "                        'Best_Params': str(best_params)\n",
    "                    })\n",
    "                    \n",
    "        except Exception as e:\n",
    "            logging.error(f\"Error entrenando {model_name}: {e}\")\n",
    "            continue\n",
    "    \n",
    "    if not results:\n",
    "        logging.error(\"No se pudieron entrenar modelos exitosamente\")\n",
    "        return None, None, None\n",
    "    \n",
    "    # Crear DataFrame de resultados\n",
    "    results_df = pd.DataFrame(results).sort_values('Composite_Score')\n",
    "    \n",
    "    # Seleccionar mejor modelo\n",
    "    best_model_name = results_df.iloc[0]['Model']\n",
    "    best_model_info = trained_models[best_model_name]\n",
    "    \n",
    "    logging.info(f\"Mejor modelo seleccionado: {best_model_name}\")\n",
    "    logging.info(f\"Score compuesto: {results_df.iloc[0]['Composite_Score']:.4f}\")\n",
    "    \n",
    "    return best_model_name, results_df, best_model_info\n",
    "\n",
    "# =================\n",
    "# EJECUCIÓN PRINCIPAL\n",
    "# =================\n",
    "def run_improved_model_training():\n",
    "    \"\"\"Ejecuta el entrenamiento mejorado para todos los departamentos\"\"\"\n",
    "    \n",
    "    # Usar switches definidos en el módulo 3\n",
    "    switches = {\n",
    "        'AUTO_MODEL_SELECTION': AUTO_MODEL_SELECTION,\n",
    "        'USE_XGBOOST': USE_XGBOOST,\n",
    "        'USE_ARIMA': USE_ARIMA,\n",
    "        'USE_PROPHET': USE_PROPHET,\n",
    "        'USE_ES': USE_ES\n",
    "    }\n",
    "    \n",
    "    all_metrics = {}\n",
    "    all_models = {}\n",
    "    \n",
    "    print(\"=\"*60)\n",
    "    print(\"ENTRENAMIENTO Y SELECCIÓN DE MODELOS MEJORADO\")\n",
    "    print(\"=\"*60)\n",
    "    \n",
    "    for dept in df_all_data['department'].unique():\n",
    "        print(f\"\\n{'='*20} DEPARTAMENTO: {dept} {'='*20}\")\n",
    "        \n",
    "        # Preparar datos del departamento\n",
    "        dept_series = (\n",
    "            df_all_data[df_all_data['department'] == dept]\n",
    "            .set_index('ds')['y']\n",
    "            .asfreq('MS')\n",
    "            .interpolate(method='linear')\n",
    "        )\n",
    "        \n",
    "        if len(dept_series) < 24:\n",
    "            logging.warning(f\"Datos insuficientes para {dept}: {len(dept_series)} meses\")\n",
    "            continue\n",
    "        \n",
    "        # Entrenar y seleccionar mejor modelo\n",
    "        best_model_name, metrics_df, best_model_info = train_and_select_best_model_improved(\n",
    "            dept_series, \n",
    "            horizon=12,\n",
    "            switches=switches\n",
    "        )\n",
    "        \n",
    "        if best_model_name is None:\n",
    "            logging.error(f\"No se pudo entrenar ningún modelo para {dept}\")\n",
    "            continue\n",
    "        \n",
    "        # Almacenar resultados\n",
    "        all_metrics[dept] = metrics_df\n",
    "        all_models[dept] = best_model_info\n",
    "        \n",
    "        # Mostrar resultados\n",
    "        print(f\"\\nResultados para {dept}:\")\n",
    "        print(metrics_df[['Model', 'RMSE', 'MAE', 'MAPE', 'SMAPE', 'Composite_Score', 'Meets_Target']].to_string(index=False))\n",
    "        print(f\"\\n🏆 MEJOR MODELO: {best_model_name}\")\n",
    "        \n",
    "        best_row = metrics_df.iloc[0]\n",
    "        print(f\"   MAPE: {best_row['MAPE']:.2f}%\")\n",
    "        print(f\"   SMAPE: {best_row['SMAPE']:.2f}%\")\n",
    "        print(f\"   RMSE: {best_row['RMSE']:.4f}\")\n",
    "        print(f\"   Score Compuesto: {best_row['Composite_Score']:.4f}\")\n",
    "        print(f\"   Cumple objetivos: {'✅' if best_row['Meets_Target'] else '❌'}\")\n",
    "        print(f\"   Parámetros: {best_row['Best_Params']}\")\n",
    "    \n",
    "    return all_metrics, all_models\n",
    "\n",
    "# Ejecutar entrenamiento mejorado\n",
    "all_metrics, all_models = run_improved_model_training()"
   ]
  },
  {
   "cell_type": "markdown",
   "id": "new_forecasting",
   "metadata": {},
   "source": [
    "## 5. Generar Predicciones\n",
    "\n",
    "Generamos predicciones para las próximas 12 quincenas con intervalos de confianza, utilizando el mejor modelo seleccionado para cada departamento."
   ]
  },
  {
   "cell_type": "code",
   "execution_count": 60,
   "id": "new_forecasting_code",
   "metadata": {},
   "outputs": [
    {
     "name": "stdout",
     "output_type": "stream",
     "text": [
      "🚀 Iniciando generación de predicciones...\n",
      "\n",
      "================================================================================\n",
      "🔮 GENERACIÓN UNIFICADA DE PREDICCIONES\n",
      "================================================================================\n",
      "\n",
      "🔍 Procesando Finance...\n"
     ]
    },
    {
     "data": {
      "application/vnd.plotly.v1+json": {
       "config": {
        "plotlyServerURL": "https://plot.ly"
       },
       "data": [
        {
         "hovertemplate": "<b>Fecha:</b> %{x}<br><b>Valor Real:</b> %{y:.2f}<extra></extra>",
         "line": {
          "color": "#1f77b4",
          "width": 2
         },
         "marker": {
          "size": 4
         },
         "mode": "lines+markers",
         "name": "Histórico Real",
         "type": "scatter",
         "x": [
          "2022-02-01T00:00:00.000000000",
          "2022-03-01T00:00:00.000000000",
          "2022-04-01T00:00:00.000000000",
          "2022-05-01T00:00:00.000000000",
          "2022-06-01T00:00:00.000000000",
          "2022-07-01T00:00:00.000000000",
          "2022-08-01T00:00:00.000000000",
          "2022-09-01T00:00:00.000000000",
          "2022-10-01T00:00:00.000000000",
          "2022-11-01T00:00:00.000000000",
          "2022-12-01T00:00:00.000000000",
          "2023-01-01T00:00:00.000000000",
          "2023-02-01T00:00:00.000000000",
          "2023-03-01T00:00:00.000000000",
          "2023-04-01T00:00:00.000000000",
          "2023-05-01T00:00:00.000000000",
          "2023-06-01T00:00:00.000000000",
          "2023-07-01T00:00:00.000000000",
          "2023-08-01T00:00:00.000000000",
          "2023-09-01T00:00:00.000000000",
          "2023-10-01T00:00:00.000000000",
          "2023-11-01T00:00:00.000000000",
          "2023-12-01T00:00:00.000000000",
          "2024-01-01T00:00:00.000000000",
          "2024-02-01T00:00:00.000000000",
          "2024-03-01T00:00:00.000000000",
          "2024-04-01T00:00:00.000000000",
          "2024-05-01T00:00:00.000000000",
          "2024-06-01T00:00:00.000000000",
          "2024-07-01T00:00:00.000000000",
          "2024-08-01T00:00:00.000000000",
          "2024-09-01T00:00:00.000000000",
          "2024-10-01T00:00:00.000000000",
          "2024-11-01T00:00:00.000000000",
          "2024-12-01T00:00:00.000000000",
          "2025-01-01T00:00:00.000000000",
          "2025-02-01T00:00:00.000000000",
          "2025-03-01T00:00:00.000000000",
          "2025-04-01T00:00:00.000000000"
         ],
         "xaxis": "x",
         "y": {
          "bdata": "AAAAAAAAAAAK16NwPQoLQLgehetRuBxAwvUoXI+CMUDsUbgehatKQJqZmZmZmTNAj8L1KFwPLUBmZmZmZuYnQKRwPQrXIzJAj8L1KFxPRUAVrkfheuRZQNejcD0KV0VASOF6FK5HQUDiehSuRyE2QHE9CtejkEVAPgrXo3DdTECF61G4HrVgQBSuR+F61FBASOF6FK4HUED2KFyPwtVEQHsUrkfhOlFAPQrXo3DdUkBI4XoUrndxQClcj8L1iExAwvUoXI9SUEBSuB6F65FaQOF6FK5HcVBAXI/C9ShcVkCkcD0K13N1QOJ6FK5HkVtAXI/C9SisUUCkcD0K15NdQPYoXI/ChVZA4XoUrkfBU0BmZmZmZvZ5QGZmZmZmFlFAAAAAAAAAVUCQwvUoXP9aQClcj8L1mFRA",
          "dtype": "f8"
         },
         "yaxis": "y"
        },
        {
         "hovertemplate": "<b>Fecha:</b> %{x}<br><b>Predicción:</b> %{y:.2f}<extra></extra>",
         "line": {
          "color": "#ff7f0e",
          "dash": "dash",
          "width": 2
         },
         "mode": "lines",
         "name": "Ajuste del Modelo",
         "opacity": 0.8,
         "type": "scatter",
         "x": [
          "2022-02-01T00:00:00.000000000",
          "2022-03-01T00:00:00.000000000",
          "2022-04-01T00:00:00.000000000",
          "2022-05-01T00:00:00.000000000",
          "2022-06-01T00:00:00.000000000",
          "2022-07-01T00:00:00.000000000",
          "2022-08-01T00:00:00.000000000",
          "2022-09-01T00:00:00.000000000",
          "2022-10-01T00:00:00.000000000",
          "2022-11-01T00:00:00.000000000",
          "2022-12-01T00:00:00.000000000",
          "2023-01-01T00:00:00.000000000",
          "2023-02-01T00:00:00.000000000",
          "2023-03-01T00:00:00.000000000",
          "2023-04-01T00:00:00.000000000",
          "2023-05-01T00:00:00.000000000",
          "2023-06-01T00:00:00.000000000",
          "2023-07-01T00:00:00.000000000",
          "2023-08-01T00:00:00.000000000",
          "2023-09-01T00:00:00.000000000",
          "2023-10-01T00:00:00.000000000",
          "2023-11-01T00:00:00.000000000",
          "2023-12-01T00:00:00.000000000",
          "2024-01-01T00:00:00.000000000",
          "2024-02-01T00:00:00.000000000",
          "2024-03-01T00:00:00.000000000",
          "2024-04-01T00:00:00.000000000",
          "2024-05-01T00:00:00.000000000",
          "2024-06-01T00:00:00.000000000",
          "2024-07-01T00:00:00.000000000",
          "2024-08-01T00:00:00.000000000",
          "2024-09-01T00:00:00.000000000",
          "2024-10-01T00:00:00.000000000",
          "2024-11-01T00:00:00.000000000",
          "2024-12-01T00:00:00.000000000",
          "2025-01-01T00:00:00.000000000",
          "2025-02-01T00:00:00.000000000",
          "2025-03-01T00:00:00.000000000",
          "2025-04-01T00:00:00.000000000"
         ],
         "xaxis": "x",
         "y": {
          "bdata": "5qs/UrjRFEDO6mzKfncyQDaWC6YVSxRAaB9FreKNOUABTZcptihiQMDOqf0IFihAVFC7y3FeAsAFdZKi0REiQMvEjUyokCZAvuqwZ1tnM0AYOEgC7iVsQMESvwQ0TCzAHsU4JMfYGEBi1blgrH07QHgtbC7fazBAsmLtxu5jRUDT97dKxf9kQM4R5q1lQ0hASmiDG6ZvQkBSMOxHv1hJQOTtDnNSC0lAp3II4g6JTkCOMtQW5ItwQEGJXW+g/kxAvn7lkEkjUEBM9aNB8c5TQPxED1QT+lJAhMeuJJ1dV0CpPxEtiMRqQBAkNWs6t2BAIKeFXn7+W0Bz/6+u/1pbQJWKSosxRlxAjIqJJkKFXEAF7kZnBB9zQApae4pfdF5AzahDocD0XED4rSlecq5eQKSJUlCiWltA",
          "dtype": "f8"
         },
         "yaxis": "y"
        },
        {
         "hovertemplate": "<b>Fecha:</b> %{x}<br><b>Pronóstico:</b> %{y:.2f}<extra></extra>",
         "line": {
          "color": "#d62728",
          "width": 3
         },
         "marker": {
          "size": 6,
          "symbol": "diamond"
         },
         "mode": "lines+markers",
         "name": "Pronóstico Futuro",
         "type": "scatter",
         "x": [
          "2025-05-01T00:00:00.000000000",
          "2025-06-01T00:00:00.000000000",
          "2025-07-01T00:00:00.000000000",
          "2025-08-01T00:00:00.000000000",
          "2025-09-01T00:00:00.000000000",
          "2025-10-01T00:00:00.000000000",
          "2025-11-01T00:00:00.000000000",
          "2025-12-01T00:00:00.000000000",
          "2026-01-01T00:00:00.000000000",
          "2026-02-01T00:00:00.000000000",
          "2026-03-01T00:00:00.000000000",
          "2026-04-01T00:00:00.000000000"
         ],
         "xaxis": "x",
         "y": {
          "bdata": "TdMqwee7XkCtPD+WvD9uQNY5ajChBGBALK2BhJdaW0C7K64BEIlcQH+I11jwRlxAMHPDYm5AXUC+K3N/gapzQHZjO9MDc1lA2Ws08qV/WkBqfjoAnHpdQFCnpLW9YlpA",
          "dtype": "f8"
         },
         "yaxis": "y"
        },
        {
         "fill": "toself",
         "fillcolor": "rgba(214, 39, 40, 0.2)",
         "hoverinfo": "skip",
         "line": {
          "color": "rgba(255,255,255,0)"
         },
         "name": "Intervalo de Confianza 95%",
         "showlegend": true,
         "type": "scatter",
         "x": [
          "2025-05-01T00:00:00",
          "2025-06-01T00:00:00",
          "2025-07-01T00:00:00",
          "2025-08-01T00:00:00",
          "2025-09-01T00:00:00",
          "2025-10-01T00:00:00",
          "2025-11-01T00:00:00",
          "2025-12-01T00:00:00",
          "2026-01-01T00:00:00",
          "2026-02-01T00:00:00",
          "2026-03-01T00:00:00",
          "2026-04-01T00:00:00",
          "2026-04-01T00:00:00",
          "2026-03-01T00:00:00",
          "2026-02-01T00:00:00",
          "2026-01-01T00:00:00",
          "2025-12-01T00:00:00",
          "2025-11-01T00:00:00",
          "2025-10-01T00:00:00",
          "2025-09-01T00:00:00",
          "2025-08-01T00:00:00",
          "2025-07-01T00:00:00",
          "2025-06-01T00:00:00",
          "2025-05-01T00:00:00"
         ],
         "xaxis": "x",
         "y": [
          161.55002363865637,
          296.60021825685624,
          195.02609228772783,
          186.643504826402,
          200.4851385895679,
          207.6930250292154,
          219.16978770163593,
          423.8735104757968,
          217.6391188557766,
          228.10270406726818,
          245.98393267875042,
          239.30566071438074,
          0,
          0,
          0,
          0,
          205.43972089681938,
          14.843687126834482,
          18.523814208916363,
          27.798065336687685,
          32.187490974831604,
          61.26326052498675,
          187.3833234673675,
          84.32201671287118
         ],
         "yaxis": "y"
        },
        {
         "hovertemplate": "<b>%{x}:</b> %{y:.2f}<extra></extra>",
         "marker": {
          "color": [
           "red",
           "red",
           "green",
           "green"
          ]
         },
         "name": "Métricas",
         "showlegend": false,
         "type": "bar",
         "x": [
          "MAPE (%)",
          "SMAPE (%)",
          "RMSE",
          "MAE"
         ],
         "xaxis": "x2",
         "y": [
          31.0879,
          31.0071,
          7646.5599999999995,
          4891.63
         ],
         "yaxis": "y2"
        },
        {
         "hovertemplate": "<b>Fecha:</b> %{x}<br><b>Residuo:</b> %{y:.2f}<extra></extra>",
         "line": {
          "color": "purple"
         },
         "marker": {
          "size": 6
         },
         "mode": "markers+lines",
         "name": "Residuos",
         "showlegend": false,
         "type": "scatter",
         "x": [
          "2024-05-01T00:00:00.000000000",
          "2024-06-01T00:00:00.000000000",
          "2024-07-01T00:00:00.000000000",
          "2024-08-01T00:00:00.000000000",
          "2024-09-01T00:00:00.000000000",
          "2024-10-01T00:00:00.000000000",
          "2024-11-01T00:00:00.000000000",
          "2024-12-01T00:00:00.000000000",
          "2025-01-01T00:00:00.000000000",
          "2025-02-01T00:00:00.000000000",
          "2025-03-01T00:00:00.000000000",
          "2025-04-01T00:00:00.000000000"
         ],
         "xaxis": "x3",
         "y": {
          "bdata": "gILD7kIXEMCfoWnnJSNgQPg0V6G0dDfAiC+G0aqkRMCIiWvcusYhQHyGue+7ATfAVh/q8PSHQcCE4X38h11bQEjnKUjyu0rANKMOhQLTP8BAW5+psXgtwOy1DDeyBjvA",
          "dtype": "f8"
         },
         "yaxis": "y3"
        }
       ],
       "layout": {
        "annotations": [
         {
          "font": {
           "size": 16
          },
          "showarrow": false,
          "text": "Pronóstico de Horas Extra - Finance",
          "x": 0.5,
          "xanchor": "center",
          "xref": "paper",
          "y": 1,
          "yanchor": "bottom",
          "yref": "paper"
         },
         {
          "font": {
           "size": 16
          },
          "showarrow": false,
          "text": "Métricas de Calidad del Modelo",
          "x": 0.225,
          "xanchor": "center",
          "xref": "paper",
          "y": 0.36000000000000004,
          "yanchor": "bottom",
          "yref": "paper"
         },
         {
          "font": {
           "size": 16
          },
          "showarrow": false,
          "text": "Análisis de Residuos (Últimos 12 meses)",
          "x": 0.775,
          "xanchor": "center",
          "xref": "paper",
          "y": 0.36000000000000004,
          "yanchor": "bottom",
          "yref": "paper"
         },
         {
          "align": "left",
          "bgcolor": "rgba(255,255,255,0.8)",
          "bordercolor": "gray",
          "borderwidth": 1,
          "font": {
           "size": 10
          },
          "showarrow": false,
          "text": "<b>Resumen:</b><br>Modelo: Exponential_Smoothing<br>Calidad: 🟡 Aceptable<br>Tendencia: 📉 Descendente<br>Cambio: -14.1%",
          "x": 0.02,
          "xref": "paper",
          "y": 0.98,
          "yref": "paper"
         }
        ],
        "font": {
         "size": 10
        },
        "height": 800,
        "shapes": [
         {
          "line": {
           "color": "gray",
           "dash": "dot"
          },
          "type": "line",
          "x0": "2025-04-01T00:00:00",
          "x1": "2025-04-01T00:00:00",
          "xref": "x",
          "y0": 0,
          "y1": 1,
          "yref": "y domain"
         },
         {
          "line": {
           "color": "gray",
           "dash": "dash"
          },
          "type": "line",
          "x0": 0,
          "x1": 1,
          "xref": "x3 domain",
          "y0": 0,
          "y1": 0,
          "yref": "y3"
         }
        ],
        "showlegend": true,
        "template": {
         "data": {
          "bar": [
           {
            "error_x": {
             "color": "#2a3f5f"
            },
            "error_y": {
             "color": "#2a3f5f"
            },
            "marker": {
             "line": {
              "color": "white",
              "width": 0.5
             },
             "pattern": {
              "fillmode": "overlay",
              "size": 10,
              "solidity": 0.2
             }
            },
            "type": "bar"
           }
          ],
          "barpolar": [
           {
            "marker": {
             "line": {
              "color": "white",
              "width": 0.5
             },
             "pattern": {
              "fillmode": "overlay",
              "size": 10,
              "solidity": 0.2
             }
            },
            "type": "barpolar"
           }
          ],
          "carpet": [
           {
            "aaxis": {
             "endlinecolor": "#2a3f5f",
             "gridcolor": "#C8D4E3",
             "linecolor": "#C8D4E3",
             "minorgridcolor": "#C8D4E3",
             "startlinecolor": "#2a3f5f"
            },
            "baxis": {
             "endlinecolor": "#2a3f5f",
             "gridcolor": "#C8D4E3",
             "linecolor": "#C8D4E3",
             "minorgridcolor": "#C8D4E3",
             "startlinecolor": "#2a3f5f"
            },
            "type": "carpet"
           }
          ],
          "choropleth": [
           {
            "colorbar": {
             "outlinewidth": 0,
             "ticks": ""
            },
            "type": "choropleth"
           }
          ],
          "contour": [
           {
            "colorbar": {
             "outlinewidth": 0,
             "ticks": ""
            },
            "colorscale": [
             [
              0,
              "#0d0887"
             ],
             [
              0.1111111111111111,
              "#46039f"
             ],
             [
              0.2222222222222222,
              "#7201a8"
             ],
             [
              0.3333333333333333,
              "#9c179e"
             ],
             [
              0.4444444444444444,
              "#bd3786"
             ],
             [
              0.5555555555555556,
              "#d8576b"
             ],
             [
              0.6666666666666666,
              "#ed7953"
             ],
             [
              0.7777777777777778,
              "#fb9f3a"
             ],
             [
              0.8888888888888888,
              "#fdca26"
             ],
             [
              1,
              "#f0f921"
             ]
            ],
            "type": "contour"
           }
          ],
          "contourcarpet": [
           {
            "colorbar": {
             "outlinewidth": 0,
             "ticks": ""
            },
            "type": "contourcarpet"
           }
          ],
          "heatmap": [
           {
            "colorbar": {
             "outlinewidth": 0,
             "ticks": ""
            },
            "colorscale": [
             [
              0,
              "#0d0887"
             ],
             [
              0.1111111111111111,
              "#46039f"
             ],
             [
              0.2222222222222222,
              "#7201a8"
             ],
             [
              0.3333333333333333,
              "#9c179e"
             ],
             [
              0.4444444444444444,
              "#bd3786"
             ],
             [
              0.5555555555555556,
              "#d8576b"
             ],
             [
              0.6666666666666666,
              "#ed7953"
             ],
             [
              0.7777777777777778,
              "#fb9f3a"
             ],
             [
              0.8888888888888888,
              "#fdca26"
             ],
             [
              1,
              "#f0f921"
             ]
            ],
            "type": "heatmap"
           }
          ],
          "histogram": [
           {
            "marker": {
             "pattern": {
              "fillmode": "overlay",
              "size": 10,
              "solidity": 0.2
             }
            },
            "type": "histogram"
           }
          ],
          "histogram2d": [
           {
            "colorbar": {
             "outlinewidth": 0,
             "ticks": ""
            },
            "colorscale": [
             [
              0,
              "#0d0887"
             ],
             [
              0.1111111111111111,
              "#46039f"
             ],
             [
              0.2222222222222222,
              "#7201a8"
             ],
             [
              0.3333333333333333,
              "#9c179e"
             ],
             [
              0.4444444444444444,
              "#bd3786"
             ],
             [
              0.5555555555555556,
              "#d8576b"
             ],
             [
              0.6666666666666666,
              "#ed7953"
             ],
             [
              0.7777777777777778,
              "#fb9f3a"
             ],
             [
              0.8888888888888888,
              "#fdca26"
             ],
             [
              1,
              "#f0f921"
             ]
            ],
            "type": "histogram2d"
           }
          ],
          "histogram2dcontour": [
           {
            "colorbar": {
             "outlinewidth": 0,
             "ticks": ""
            },
            "colorscale": [
             [
              0,
              "#0d0887"
             ],
             [
              0.1111111111111111,
              "#46039f"
             ],
             [
              0.2222222222222222,
              "#7201a8"
             ],
             [
              0.3333333333333333,
              "#9c179e"
             ],
             [
              0.4444444444444444,
              "#bd3786"
             ],
             [
              0.5555555555555556,
              "#d8576b"
             ],
             [
              0.6666666666666666,
              "#ed7953"
             ],
             [
              0.7777777777777778,
              "#fb9f3a"
             ],
             [
              0.8888888888888888,
              "#fdca26"
             ],
             [
              1,
              "#f0f921"
             ]
            ],
            "type": "histogram2dcontour"
           }
          ],
          "mesh3d": [
           {
            "colorbar": {
             "outlinewidth": 0,
             "ticks": ""
            },
            "type": "mesh3d"
           }
          ],
          "parcoords": [
           {
            "line": {
             "colorbar": {
              "outlinewidth": 0,
              "ticks": ""
             }
            },
            "type": "parcoords"
           }
          ],
          "pie": [
           {
            "automargin": true,
            "type": "pie"
           }
          ],
          "scatter": [
           {
            "fillpattern": {
             "fillmode": "overlay",
             "size": 10,
             "solidity": 0.2
            },
            "type": "scatter"
           }
          ],
          "scatter3d": [
           {
            "line": {
             "colorbar": {
              "outlinewidth": 0,
              "ticks": ""
             }
            },
            "marker": {
             "colorbar": {
              "outlinewidth": 0,
              "ticks": ""
             }
            },
            "type": "scatter3d"
           }
          ],
          "scattercarpet": [
           {
            "marker": {
             "colorbar": {
              "outlinewidth": 0,
              "ticks": ""
             }
            },
            "type": "scattercarpet"
           }
          ],
          "scattergeo": [
           {
            "marker": {
             "colorbar": {
              "outlinewidth": 0,
              "ticks": ""
             }
            },
            "type": "scattergeo"
           }
          ],
          "scattergl": [
           {
            "marker": {
             "colorbar": {
              "outlinewidth": 0,
              "ticks": ""
             }
            },
            "type": "scattergl"
           }
          ],
          "scattermap": [
           {
            "marker": {
             "colorbar": {
              "outlinewidth": 0,
              "ticks": ""
             }
            },
            "type": "scattermap"
           }
          ],
          "scattermapbox": [
           {
            "marker": {
             "colorbar": {
              "outlinewidth": 0,
              "ticks": ""
             }
            },
            "type": "scattermapbox"
           }
          ],
          "scatterpolar": [
           {
            "marker": {
             "colorbar": {
              "outlinewidth": 0,
              "ticks": ""
             }
            },
            "type": "scatterpolar"
           }
          ],
          "scatterpolargl": [
           {
            "marker": {
             "colorbar": {
              "outlinewidth": 0,
              "ticks": ""
             }
            },
            "type": "scatterpolargl"
           }
          ],
          "scatterternary": [
           {
            "marker": {
             "colorbar": {
              "outlinewidth": 0,
              "ticks": ""
             }
            },
            "type": "scatterternary"
           }
          ],
          "surface": [
           {
            "colorbar": {
             "outlinewidth": 0,
             "ticks": ""
            },
            "colorscale": [
             [
              0,
              "#0d0887"
             ],
             [
              0.1111111111111111,
              "#46039f"
             ],
             [
              0.2222222222222222,
              "#7201a8"
             ],
             [
              0.3333333333333333,
              "#9c179e"
             ],
             [
              0.4444444444444444,
              "#bd3786"
             ],
             [
              0.5555555555555556,
              "#d8576b"
             ],
             [
              0.6666666666666666,
              "#ed7953"
             ],
             [
              0.7777777777777778,
              "#fb9f3a"
             ],
             [
              0.8888888888888888,
              "#fdca26"
             ],
             [
              1,
              "#f0f921"
             ]
            ],
            "type": "surface"
           }
          ],
          "table": [
           {
            "cells": {
             "fill": {
              "color": "#EBF0F8"
             },
             "line": {
              "color": "white"
             }
            },
            "header": {
             "fill": {
              "color": "#C8D4E3"
             },
             "line": {
              "color": "white"
             }
            },
            "type": "table"
           }
          ]
         },
         "layout": {
          "annotationdefaults": {
           "arrowcolor": "#2a3f5f",
           "arrowhead": 0,
           "arrowwidth": 1
          },
          "autotypenumbers": "strict",
          "coloraxis": {
           "colorbar": {
            "outlinewidth": 0,
            "ticks": ""
           }
          },
          "colorscale": {
           "diverging": [
            [
             0,
             "#8e0152"
            ],
            [
             0.1,
             "#c51b7d"
            ],
            [
             0.2,
             "#de77ae"
            ],
            [
             0.3,
             "#f1b6da"
            ],
            [
             0.4,
             "#fde0ef"
            ],
            [
             0.5,
             "#f7f7f7"
            ],
            [
             0.6,
             "#e6f5d0"
            ],
            [
             0.7,
             "#b8e186"
            ],
            [
             0.8,
             "#7fbc41"
            ],
            [
             0.9,
             "#4d9221"
            ],
            [
             1,
             "#276419"
            ]
           ],
           "sequential": [
            [
             0,
             "#0d0887"
            ],
            [
             0.1111111111111111,
             "#46039f"
            ],
            [
             0.2222222222222222,
             "#7201a8"
            ],
            [
             0.3333333333333333,
             "#9c179e"
            ],
            [
             0.4444444444444444,
             "#bd3786"
            ],
            [
             0.5555555555555556,
             "#d8576b"
            ],
            [
             0.6666666666666666,
             "#ed7953"
            ],
            [
             0.7777777777777778,
             "#fb9f3a"
            ],
            [
             0.8888888888888888,
             "#fdca26"
            ],
            [
             1,
             "#f0f921"
            ]
           ],
           "sequentialminus": [
            [
             0,
             "#0d0887"
            ],
            [
             0.1111111111111111,
             "#46039f"
            ],
            [
             0.2222222222222222,
             "#7201a8"
            ],
            [
             0.3333333333333333,
             "#9c179e"
            ],
            [
             0.4444444444444444,
             "#bd3786"
            ],
            [
             0.5555555555555556,
             "#d8576b"
            ],
            [
             0.6666666666666666,
             "#ed7953"
            ],
            [
             0.7777777777777778,
             "#fb9f3a"
            ],
            [
             0.8888888888888888,
             "#fdca26"
            ],
            [
             1,
             "#f0f921"
            ]
           ]
          },
          "colorway": [
           "#636efa",
           "#EF553B",
           "#00cc96",
           "#ab63fa",
           "#FFA15A",
           "#19d3f3",
           "#FF6692",
           "#B6E880",
           "#FF97FF",
           "#FECB52"
          ],
          "font": {
           "color": "#2a3f5f"
          },
          "geo": {
           "bgcolor": "white",
           "lakecolor": "white",
           "landcolor": "white",
           "showlakes": true,
           "showland": true,
           "subunitcolor": "#C8D4E3"
          },
          "hoverlabel": {
           "align": "left"
          },
          "hovermode": "closest",
          "mapbox": {
           "style": "light"
          },
          "paper_bgcolor": "white",
          "plot_bgcolor": "white",
          "polar": {
           "angularaxis": {
            "gridcolor": "#EBF0F8",
            "linecolor": "#EBF0F8",
            "ticks": ""
           },
           "bgcolor": "white",
           "radialaxis": {
            "gridcolor": "#EBF0F8",
            "linecolor": "#EBF0F8",
            "ticks": ""
           }
          },
          "scene": {
           "xaxis": {
            "backgroundcolor": "white",
            "gridcolor": "#DFE8F3",
            "gridwidth": 2,
            "linecolor": "#EBF0F8",
            "showbackground": true,
            "ticks": "",
            "zerolinecolor": "#EBF0F8"
           },
           "yaxis": {
            "backgroundcolor": "white",
            "gridcolor": "#DFE8F3",
            "gridwidth": 2,
            "linecolor": "#EBF0F8",
            "showbackground": true,
            "ticks": "",
            "zerolinecolor": "#EBF0F8"
           },
           "zaxis": {
            "backgroundcolor": "white",
            "gridcolor": "#DFE8F3",
            "gridwidth": 2,
            "linecolor": "#EBF0F8",
            "showbackground": true,
            "ticks": "",
            "zerolinecolor": "#EBF0F8"
           }
          },
          "shapedefaults": {
           "line": {
            "color": "#2a3f5f"
           }
          },
          "ternary": {
           "aaxis": {
            "gridcolor": "#DFE8F3",
            "linecolor": "#A2B1C6",
            "ticks": ""
           },
           "baxis": {
            "gridcolor": "#DFE8F3",
            "linecolor": "#A2B1C6",
            "ticks": ""
           },
           "bgcolor": "white",
           "caxis": {
            "gridcolor": "#DFE8F3",
            "linecolor": "#A2B1C6",
            "ticks": ""
           }
          },
          "title": {
           "x": 0.05
          },
          "xaxis": {
           "automargin": true,
           "gridcolor": "#EBF0F8",
           "linecolor": "#EBF0F8",
           "ticks": "",
           "title": {
            "standoff": 15
           },
           "zerolinecolor": "#EBF0F8",
           "zerolinewidth": 2
          },
          "yaxis": {
           "automargin": true,
           "gridcolor": "#EBF0F8",
           "linecolor": "#EBF0F8",
           "ticks": "",
           "title": {
            "standoff": 15
           },
           "zerolinecolor": "#EBF0F8",
           "zerolinewidth": 2
          }
         }
        },
        "title": {
         "font": {
          "size": 16
         },
         "text": "Análisis Completo de Pronóstico - Finance (Modelo: Exponential_Smoothing)",
         "x": 0.5
        },
        "xaxis": {
         "anchor": "y",
         "domain": [
          0,
          1
         ],
         "title": {
          "text": "Fecha"
         }
        },
        "xaxis2": {
         "anchor": "y2",
         "domain": [
          0,
          0.45
         ],
         "title": {
          "text": "Métricas"
         }
        },
        "xaxis3": {
         "anchor": "y3",
         "domain": [
          0.55,
          1
         ],
         "title": {
          "text": "Fecha"
         }
        },
        "yaxis": {
         "anchor": "x",
         "domain": [
          0.4600000000000001,
          1
         ],
         "title": {
          "text": "Horas Extra"
         }
        },
        "yaxis2": {
         "anchor": "x2",
         "domain": [
          0,
          0.36000000000000004
         ],
         "title": {
          "text": "Valor"
         }
        },
        "yaxis3": {
         "anchor": "x3",
         "domain": [
          0,
          0.36000000000000004
         ],
         "title": {
          "text": "Residuos"
         }
        }
       }
      }
     },
     "metadata": {},
     "output_type": "display_data"
    },
    {
     "name": "stdout",
     "output_type": "stream",
     "text": [
      "   ✅ Predicciones generadas exitosamente\n",
      "   📊 Modelo seleccionado: Exponential_Smoothing\n",
      "   📈 Próximos 3 meses: [122.94, 241.99, 128.14]\n",
      "   🎯 MAPE: 31.09%, SMAPE: 31.01%\n",
      "\n",
      "🔍 Procesando HR...\n"
     ]
    },
    {
     "data": {
      "application/vnd.plotly.v1+json": {
       "config": {
        "plotlyServerURL": "https://plot.ly"
       },
       "data": [
        {
         "hovertemplate": "<b>Fecha:</b> %{x}<br><b>Valor Real:</b> %{y:.2f}<extra></extra>",
         "line": {
          "color": "#1f77b4",
          "width": 2
         },
         "marker": {
          "size": 4
         },
         "mode": "lines+markers",
         "name": "Histórico Real",
         "type": "scatter",
         "x": [
          "2022-01-01T00:00:00.000000000",
          "2022-02-01T00:00:00.000000000",
          "2022-03-01T00:00:00.000000000",
          "2022-04-01T00:00:00.000000000",
          "2022-05-01T00:00:00.000000000",
          "2022-06-01T00:00:00.000000000",
          "2022-07-01T00:00:00.000000000",
          "2022-08-01T00:00:00.000000000",
          "2022-09-01T00:00:00.000000000",
          "2022-10-01T00:00:00.000000000",
          "2022-11-01T00:00:00.000000000",
          "2022-12-01T00:00:00.000000000",
          "2023-01-01T00:00:00.000000000",
          "2023-02-01T00:00:00.000000000",
          "2023-03-01T00:00:00.000000000",
          "2023-04-01T00:00:00.000000000",
          "2023-05-01T00:00:00.000000000",
          "2023-06-01T00:00:00.000000000",
          "2023-07-01T00:00:00.000000000",
          "2023-08-01T00:00:00.000000000",
          "2023-09-01T00:00:00.000000000",
          "2023-10-01T00:00:00.000000000",
          "2023-11-01T00:00:00.000000000",
          "2023-12-01T00:00:00.000000000",
          "2024-01-01T00:00:00.000000000",
          "2024-02-01T00:00:00.000000000",
          "2024-03-01T00:00:00.000000000",
          "2024-04-01T00:00:00.000000000",
          "2024-05-01T00:00:00.000000000",
          "2024-06-01T00:00:00.000000000",
          "2024-07-01T00:00:00.000000000",
          "2024-08-01T00:00:00.000000000",
          "2024-09-01T00:00:00.000000000",
          "2024-10-01T00:00:00.000000000",
          "2024-11-01T00:00:00.000000000",
          "2024-12-01T00:00:00.000000000",
          "2025-01-01T00:00:00.000000000",
          "2025-02-01T00:00:00.000000000",
          "2025-03-01T00:00:00.000000000",
          "2025-04-01T00:00:00.000000000"
         ],
         "xaxis": "x",
         "y": {
          "bdata": "16NwPQrXBUCuR+F6FK4DQPYoXI/C9SdAXI/C9SjcJ0CuR+F6FK4xQI/C9ShcH1BAKVyPwvVoOED2KFyPwjUyQClcj8L1CERAcT0K16MwQECF61G4HsU/QOxRuB6F+1lAUrgehetRSkBI4XoUrodAQHE9CtejcEBAhutRuB6lT0DiehSuRyFVQGZmZmZmZmdAMzMzMzPTTECkcD0K1+NLQNejcD0Kt0JAZmZmZmY2U0BSuB6F65FPQOtRuB6FW2lAKVyPwvXoREDMzMzMzOxPQNejcD0K905A4XoUrkeBUECkcD0K10NSQK5H4XoUrnNAuB6F61FIVEAzMzMzMzNXQArXo3A9+ltAuB6F61EoVEApXI/C9RhYQK5H4XoUnnpANDMzMzNzW0DsUbgehbtaQIXrUbgenWBAexSuR+FqV0A=",
          "dtype": "f8"
         },
         "yaxis": "y"
        },
        {
         "hovertemplate": "<b>Fecha:</b> %{x}<br><b>Predicción:</b> %{y:.2f}<extra></extra>",
         "line": {
          "color": "#ff7f0e",
          "dash": "dash",
          "width": 2
         },
         "mode": "lines",
         "name": "Ajuste del Modelo",
         "opacity": 0.8,
         "type": "scatter",
         "x": [
          "2022-01-01T00:00:00.000000000",
          "2022-02-01T00:00:00.000000000",
          "2022-03-01T00:00:00.000000000",
          "2022-04-01T00:00:00.000000000",
          "2022-05-01T00:00:00.000000000",
          "2022-06-01T00:00:00.000000000",
          "2022-07-01T00:00:00.000000000",
          "2022-08-01T00:00:00.000000000",
          "2022-09-01T00:00:00.000000000",
          "2022-10-01T00:00:00.000000000",
          "2022-11-01T00:00:00.000000000",
          "2022-12-01T00:00:00.000000000",
          "2023-01-01T00:00:00.000000000",
          "2023-02-01T00:00:00.000000000",
          "2023-03-01T00:00:00.000000000",
          "2023-04-01T00:00:00.000000000",
          "2023-05-01T00:00:00.000000000",
          "2023-06-01T00:00:00.000000000",
          "2023-07-01T00:00:00.000000000",
          "2023-08-01T00:00:00.000000000",
          "2023-09-01T00:00:00.000000000",
          "2023-10-01T00:00:00.000000000",
          "2023-11-01T00:00:00.000000000",
          "2023-12-01T00:00:00.000000000",
          "2024-01-01T00:00:00.000000000",
          "2024-02-01T00:00:00.000000000",
          "2024-03-01T00:00:00.000000000",
          "2024-04-01T00:00:00.000000000",
          "2024-05-01T00:00:00.000000000",
          "2024-06-01T00:00:00.000000000",
          "2024-07-01T00:00:00.000000000",
          "2024-08-01T00:00:00.000000000",
          "2024-09-01T00:00:00.000000000",
          "2024-10-01T00:00:00.000000000",
          "2024-11-01T00:00:00.000000000",
          "2024-12-01T00:00:00.000000000",
          "2025-01-01T00:00:00.000000000",
          "2025-02-01T00:00:00.000000000",
          "2025-03-01T00:00:00.000000000",
          "2025-04-01T00:00:00.000000000"
         ],
         "xaxis": "x",
         "y": {
          "bdata": "Z5gjgJKqLkCMhsHM2OUuQKZNahxxdDFAcwFQGUj+L0A58MqoG0s1QARZ1oc1qVBAaN7SH0tSNEAC4Nd2Oqw2QNLHsYeVtjhA+P5iE393O0AKGf6s/zs9QH67IJLdF11Anyu5wE6FQECUcv1KyeZBQLRF/BBGd0VAtBuPkwo/QkBh2/wroRxLQNg8x1eB+WhAotvkjmRUSUAmipX0dYZLQKYiDRPhEk5A8C/HMWDcTUCgUoF9IllPQE4KP40xe3BA1arIhpHgUEDkM2Rd4WhQQAaCXJQclVNAXbwQmIgnUEAzBpDdzn9WQHXtsCm7hXNAUhQcBEn2UkAlVFW7KiZUQPtoEdrF+FVALNJuPAbUVkC3J5fJetJWQHSGAQ+aWHhAnwhpoazfWEAoh/uY0AtZQE5DHvfWEF5A6rWABaI3WUA=",
          "dtype": "f8"
         },
         "yaxis": "y"
        },
        {
         "hovertemplate": "<b>Fecha:</b> %{x}<br><b>Pronóstico:</b> %{y:.2f}<extra></extra>",
         "line": {
          "color": "#d62728",
          "width": 3
         },
         "marker": {
          "size": 6,
          "symbol": "diamond"
         },
         "mode": "lines+markers",
         "name": "Pronóstico Futuro",
         "type": "scatter",
         "x": [
          "2025-05-01T00:00:00.000000000",
          "2025-06-01T00:00:00.000000000",
          "2025-07-01T00:00:00.000000000",
          "2025-08-01T00:00:00.000000000",
          "2025-09-01T00:00:00.000000000",
          "2025-10-01T00:00:00.000000000",
          "2025-11-01T00:00:00.000000000",
          "2025-12-01T00:00:00.000000000",
          "2026-01-01T00:00:00.000000000",
          "2026-02-01T00:00:00.000000000",
          "2026-03-01T00:00:00.000000000",
          "2026-04-01T00:00:00.000000000"
         ],
         "xaxis": "x",
         "y": {
          "bdata": "ufR+C1F3YUAJP3F/hhp/QMXZksJBaF1AqW/nLKrJXkBaaMzvy2pgQLDzVDbBd2BAAULKcSp1YEDasEZn/IiBQILc+v5oaWFAvks9aIIsYUBCzsVv1k1kQLrSbyjao2BA",
          "dtype": "f8"
         },
         "yaxis": "y"
        },
        {
         "fill": "toself",
         "fillcolor": "rgba(214, 39, 40, 0.2)",
         "hoverinfo": "skip",
         "line": {
          "color": "rgba(255,255,255,0)"
         },
         "name": "Intervalo de Confianza 95%",
         "showlegend": true,
         "type": "scatter",
         "x": [
          "2025-05-01T00:00:00",
          "2025-06-01T00:00:00",
          "2025-07-01T00:00:00",
          "2025-08-01T00:00:00",
          "2025-09-01T00:00:00",
          "2025-10-01T00:00:00",
          "2025-11-01T00:00:00",
          "2025-12-01T00:00:00",
          "2026-01-01T00:00:00",
          "2026-02-01T00:00:00",
          "2026-03-01T00:00:00",
          "2026-04-01T00:00:00",
          "2026-04-01T00:00:00",
          "2026-03-01T00:00:00",
          "2026-02-01T00:00:00",
          "2026-01-01T00:00:00",
          "2025-12-01T00:00:00",
          "2025-11-01T00:00:00",
          "2025-10-01T00:00:00",
          "2025-09-01T00:00:00",
          "2025-08-01T00:00:00",
          "2025-07-01T00:00:00",
          "2025-06-01T00:00:00",
          "2025-05-01T00:00:00"
         ],
         "xaxis": "x",
         "y": [
          175.5004389803688,
          548.2467951578353,
          179.5875814845483,
          194.69460328926914,
          211.32556171184248,
          219.3649823790525,
          226.30470685836923,
          662.301161409741,
          246.60945430652498,
          250.51126957897554,
          281.0740511012418,
          257.03751622874296,
          9.203244991053396,
          43.79080158724091,
          24.27056811274825,
          31.978679486282772,
          459.9453263074528,
          37.018155566547634,
          44.119688576456085,
          51.349227524671875,
          51.6074200757743,
          55.67044586570354,
          447.0688776066912,
          103.95684737362141
         ],
         "yaxis": "y"
        },
        {
         "hovertemplate": "<b>%{x}:</b> %{y:.2f}<extra></extra>",
         "marker": {
          "color": [
           "red",
           "red",
           "green",
           "green"
          ]
         },
         "name": "Métricas",
         "showlegend": false,
         "type": "bar",
         "x": [
          "MAPE (%)",
          "SMAPE (%)",
          "RMSE",
          "MAE"
         ],
         "xaxis": "x2",
         "y": [
          25.829,
          25.557,
          4546.17,
          3405.6399999999994
         ],
         "yaxis": "y2"
        },
        {
         "hovertemplate": "<b>Fecha:</b> %{x}<br><b>Residuo:</b> %{y:.2f}<extra></extra>",
         "line": {
          "color": "purple"
         },
         "marker": {
          "size": 6
         },
         "mode": "markers+lines",
         "name": "Residuos",
         "showlegend": false,
         "type": "scatter",
         "x": [
          "2024-05-01T00:00:00.000000000",
          "2024-06-01T00:00:00.000000000",
          "2024-07-01T00:00:00.000000000",
          "2024-08-01T00:00:00.000000000",
          "2024-09-01T00:00:00.000000000",
          "2024-10-01T00:00:00.000000000",
          "2024-11-01T00:00:00.000000000",
          "2024-12-01T00:00:00.000000000",
          "2025-01-01T00:00:00.000000000",
          "2025-02-01T00:00:00.000000000",
          "2025-03-01T00:00:00.000000000",
          "2025-04-01T00:00:00.000000000"
         ],
         "xaxis": "x3",
         "y": {
          "bdata": "PFZKTd/vMMCAHC2YqCwEQGCmkHaOIBVAcPjuvkNoKEA8uEla3gU4QKCbTYeiXSXAIEeDj69nFEDQCf5e0ytCQKhUUY40nCRAQKzMW0j7GkDgnSzMM0spQPAWKt0LzBzA",
          "dtype": "f8"
         },
         "yaxis": "y3"
        }
       ],
       "layout": {
        "annotations": [
         {
          "font": {
           "size": 16
          },
          "showarrow": false,
          "text": "Pronóstico de Horas Extra - HR",
          "x": 0.5,
          "xanchor": "center",
          "xref": "paper",
          "y": 1,
          "yanchor": "bottom",
          "yref": "paper"
         },
         {
          "font": {
           "size": 16
          },
          "showarrow": false,
          "text": "Métricas de Calidad del Modelo",
          "x": 0.225,
          "xanchor": "center",
          "xref": "paper",
          "y": 0.36000000000000004,
          "yanchor": "bottom",
          "yref": "paper"
         },
         {
          "font": {
           "size": 16
          },
          "showarrow": false,
          "text": "Análisis de Residuos (Últimos 12 meses)",
          "x": 0.775,
          "xanchor": "center",
          "xref": "paper",
          "y": 0.36000000000000004,
          "yanchor": "bottom",
          "yref": "paper"
         },
         {
          "align": "left",
          "bgcolor": "rgba(255,255,255,0.8)",
          "bordercolor": "gray",
          "borderwidth": 1,
          "font": {
           "size": 10
          },
          "showarrow": false,
          "text": "<b>Resumen:</b><br>Modelo: Exponential_Smoothing<br>Calidad: 🟡 Aceptable<br>Tendencia: 📉 Descendente<br>Cambio: -4.7%",
          "x": 0.02,
          "xref": "paper",
          "y": 0.98,
          "yref": "paper"
         }
        ],
        "font": {
         "size": 10
        },
        "height": 800,
        "shapes": [
         {
          "line": {
           "color": "gray",
           "dash": "dot"
          },
          "type": "line",
          "x0": "2025-04-01T00:00:00",
          "x1": "2025-04-01T00:00:00",
          "xref": "x",
          "y0": 0,
          "y1": 1,
          "yref": "y domain"
         },
         {
          "line": {
           "color": "gray",
           "dash": "dash"
          },
          "type": "line",
          "x0": 0,
          "x1": 1,
          "xref": "x3 domain",
          "y0": 0,
          "y1": 0,
          "yref": "y3"
         }
        ],
        "showlegend": true,
        "template": {
         "data": {
          "bar": [
           {
            "error_x": {
             "color": "#2a3f5f"
            },
            "error_y": {
             "color": "#2a3f5f"
            },
            "marker": {
             "line": {
              "color": "white",
              "width": 0.5
             },
             "pattern": {
              "fillmode": "overlay",
              "size": 10,
              "solidity": 0.2
             }
            },
            "type": "bar"
           }
          ],
          "barpolar": [
           {
            "marker": {
             "line": {
              "color": "white",
              "width": 0.5
             },
             "pattern": {
              "fillmode": "overlay",
              "size": 10,
              "solidity": 0.2
             }
            },
            "type": "barpolar"
           }
          ],
          "carpet": [
           {
            "aaxis": {
             "endlinecolor": "#2a3f5f",
             "gridcolor": "#C8D4E3",
             "linecolor": "#C8D4E3",
             "minorgridcolor": "#C8D4E3",
             "startlinecolor": "#2a3f5f"
            },
            "baxis": {
             "endlinecolor": "#2a3f5f",
             "gridcolor": "#C8D4E3",
             "linecolor": "#C8D4E3",
             "minorgridcolor": "#C8D4E3",
             "startlinecolor": "#2a3f5f"
            },
            "type": "carpet"
           }
          ],
          "choropleth": [
           {
            "colorbar": {
             "outlinewidth": 0,
             "ticks": ""
            },
            "type": "choropleth"
           }
          ],
          "contour": [
           {
            "colorbar": {
             "outlinewidth": 0,
             "ticks": ""
            },
            "colorscale": [
             [
              0,
              "#0d0887"
             ],
             [
              0.1111111111111111,
              "#46039f"
             ],
             [
              0.2222222222222222,
              "#7201a8"
             ],
             [
              0.3333333333333333,
              "#9c179e"
             ],
             [
              0.4444444444444444,
              "#bd3786"
             ],
             [
              0.5555555555555556,
              "#d8576b"
             ],
             [
              0.6666666666666666,
              "#ed7953"
             ],
             [
              0.7777777777777778,
              "#fb9f3a"
             ],
             [
              0.8888888888888888,
              "#fdca26"
             ],
             [
              1,
              "#f0f921"
             ]
            ],
            "type": "contour"
           }
          ],
          "contourcarpet": [
           {
            "colorbar": {
             "outlinewidth": 0,
             "ticks": ""
            },
            "type": "contourcarpet"
           }
          ],
          "heatmap": [
           {
            "colorbar": {
             "outlinewidth": 0,
             "ticks": ""
            },
            "colorscale": [
             [
              0,
              "#0d0887"
             ],
             [
              0.1111111111111111,
              "#46039f"
             ],
             [
              0.2222222222222222,
              "#7201a8"
             ],
             [
              0.3333333333333333,
              "#9c179e"
             ],
             [
              0.4444444444444444,
              "#bd3786"
             ],
             [
              0.5555555555555556,
              "#d8576b"
             ],
             [
              0.6666666666666666,
              "#ed7953"
             ],
             [
              0.7777777777777778,
              "#fb9f3a"
             ],
             [
              0.8888888888888888,
              "#fdca26"
             ],
             [
              1,
              "#f0f921"
             ]
            ],
            "type": "heatmap"
           }
          ],
          "histogram": [
           {
            "marker": {
             "pattern": {
              "fillmode": "overlay",
              "size": 10,
              "solidity": 0.2
             }
            },
            "type": "histogram"
           }
          ],
          "histogram2d": [
           {
            "colorbar": {
             "outlinewidth": 0,
             "ticks": ""
            },
            "colorscale": [
             [
              0,
              "#0d0887"
             ],
             [
              0.1111111111111111,
              "#46039f"
             ],
             [
              0.2222222222222222,
              "#7201a8"
             ],
             [
              0.3333333333333333,
              "#9c179e"
             ],
             [
              0.4444444444444444,
              "#bd3786"
             ],
             [
              0.5555555555555556,
              "#d8576b"
             ],
             [
              0.6666666666666666,
              "#ed7953"
             ],
             [
              0.7777777777777778,
              "#fb9f3a"
             ],
             [
              0.8888888888888888,
              "#fdca26"
             ],
             [
              1,
              "#f0f921"
             ]
            ],
            "type": "histogram2d"
           }
          ],
          "histogram2dcontour": [
           {
            "colorbar": {
             "outlinewidth": 0,
             "ticks": ""
            },
            "colorscale": [
             [
              0,
              "#0d0887"
             ],
             [
              0.1111111111111111,
              "#46039f"
             ],
             [
              0.2222222222222222,
              "#7201a8"
             ],
             [
              0.3333333333333333,
              "#9c179e"
             ],
             [
              0.4444444444444444,
              "#bd3786"
             ],
             [
              0.5555555555555556,
              "#d8576b"
             ],
             [
              0.6666666666666666,
              "#ed7953"
             ],
             [
              0.7777777777777778,
              "#fb9f3a"
             ],
             [
              0.8888888888888888,
              "#fdca26"
             ],
             [
              1,
              "#f0f921"
             ]
            ],
            "type": "histogram2dcontour"
           }
          ],
          "mesh3d": [
           {
            "colorbar": {
             "outlinewidth": 0,
             "ticks": ""
            },
            "type": "mesh3d"
           }
          ],
          "parcoords": [
           {
            "line": {
             "colorbar": {
              "outlinewidth": 0,
              "ticks": ""
             }
            },
            "type": "parcoords"
           }
          ],
          "pie": [
           {
            "automargin": true,
            "type": "pie"
           }
          ],
          "scatter": [
           {
            "fillpattern": {
             "fillmode": "overlay",
             "size": 10,
             "solidity": 0.2
            },
            "type": "scatter"
           }
          ],
          "scatter3d": [
           {
            "line": {
             "colorbar": {
              "outlinewidth": 0,
              "ticks": ""
             }
            },
            "marker": {
             "colorbar": {
              "outlinewidth": 0,
              "ticks": ""
             }
            },
            "type": "scatter3d"
           }
          ],
          "scattercarpet": [
           {
            "marker": {
             "colorbar": {
              "outlinewidth": 0,
              "ticks": ""
             }
            },
            "type": "scattercarpet"
           }
          ],
          "scattergeo": [
           {
            "marker": {
             "colorbar": {
              "outlinewidth": 0,
              "ticks": ""
             }
            },
            "type": "scattergeo"
           }
          ],
          "scattergl": [
           {
            "marker": {
             "colorbar": {
              "outlinewidth": 0,
              "ticks": ""
             }
            },
            "type": "scattergl"
           }
          ],
          "scattermap": [
           {
            "marker": {
             "colorbar": {
              "outlinewidth": 0,
              "ticks": ""
             }
            },
            "type": "scattermap"
           }
          ],
          "scattermapbox": [
           {
            "marker": {
             "colorbar": {
              "outlinewidth": 0,
              "ticks": ""
             }
            },
            "type": "scattermapbox"
           }
          ],
          "scatterpolar": [
           {
            "marker": {
             "colorbar": {
              "outlinewidth": 0,
              "ticks": ""
             }
            },
            "type": "scatterpolar"
           }
          ],
          "scatterpolargl": [
           {
            "marker": {
             "colorbar": {
              "outlinewidth": 0,
              "ticks": ""
             }
            },
            "type": "scatterpolargl"
           }
          ],
          "scatterternary": [
           {
            "marker": {
             "colorbar": {
              "outlinewidth": 0,
              "ticks": ""
             }
            },
            "type": "scatterternary"
           }
          ],
          "surface": [
           {
            "colorbar": {
             "outlinewidth": 0,
             "ticks": ""
            },
            "colorscale": [
             [
              0,
              "#0d0887"
             ],
             [
              0.1111111111111111,
              "#46039f"
             ],
             [
              0.2222222222222222,
              "#7201a8"
             ],
             [
              0.3333333333333333,
              "#9c179e"
             ],
             [
              0.4444444444444444,
              "#bd3786"
             ],
             [
              0.5555555555555556,
              "#d8576b"
             ],
             [
              0.6666666666666666,
              "#ed7953"
             ],
             [
              0.7777777777777778,
              "#fb9f3a"
             ],
             [
              0.8888888888888888,
              "#fdca26"
             ],
             [
              1,
              "#f0f921"
             ]
            ],
            "type": "surface"
           }
          ],
          "table": [
           {
            "cells": {
             "fill": {
              "color": "#EBF0F8"
             },
             "line": {
              "color": "white"
             }
            },
            "header": {
             "fill": {
              "color": "#C8D4E3"
             },
             "line": {
              "color": "white"
             }
            },
            "type": "table"
           }
          ]
         },
         "layout": {
          "annotationdefaults": {
           "arrowcolor": "#2a3f5f",
           "arrowhead": 0,
           "arrowwidth": 1
          },
          "autotypenumbers": "strict",
          "coloraxis": {
           "colorbar": {
            "outlinewidth": 0,
            "ticks": ""
           }
          },
          "colorscale": {
           "diverging": [
            [
             0,
             "#8e0152"
            ],
            [
             0.1,
             "#c51b7d"
            ],
            [
             0.2,
             "#de77ae"
            ],
            [
             0.3,
             "#f1b6da"
            ],
            [
             0.4,
             "#fde0ef"
            ],
            [
             0.5,
             "#f7f7f7"
            ],
            [
             0.6,
             "#e6f5d0"
            ],
            [
             0.7,
             "#b8e186"
            ],
            [
             0.8,
             "#7fbc41"
            ],
            [
             0.9,
             "#4d9221"
            ],
            [
             1,
             "#276419"
            ]
           ],
           "sequential": [
            [
             0,
             "#0d0887"
            ],
            [
             0.1111111111111111,
             "#46039f"
            ],
            [
             0.2222222222222222,
             "#7201a8"
            ],
            [
             0.3333333333333333,
             "#9c179e"
            ],
            [
             0.4444444444444444,
             "#bd3786"
            ],
            [
             0.5555555555555556,
             "#d8576b"
            ],
            [
             0.6666666666666666,
             "#ed7953"
            ],
            [
             0.7777777777777778,
             "#fb9f3a"
            ],
            [
             0.8888888888888888,
             "#fdca26"
            ],
            [
             1,
             "#f0f921"
            ]
           ],
           "sequentialminus": [
            [
             0,
             "#0d0887"
            ],
            [
             0.1111111111111111,
             "#46039f"
            ],
            [
             0.2222222222222222,
             "#7201a8"
            ],
            [
             0.3333333333333333,
             "#9c179e"
            ],
            [
             0.4444444444444444,
             "#bd3786"
            ],
            [
             0.5555555555555556,
             "#d8576b"
            ],
            [
             0.6666666666666666,
             "#ed7953"
            ],
            [
             0.7777777777777778,
             "#fb9f3a"
            ],
            [
             0.8888888888888888,
             "#fdca26"
            ],
            [
             1,
             "#f0f921"
            ]
           ]
          },
          "colorway": [
           "#636efa",
           "#EF553B",
           "#00cc96",
           "#ab63fa",
           "#FFA15A",
           "#19d3f3",
           "#FF6692",
           "#B6E880",
           "#FF97FF",
           "#FECB52"
          ],
          "font": {
           "color": "#2a3f5f"
          },
          "geo": {
           "bgcolor": "white",
           "lakecolor": "white",
           "landcolor": "white",
           "showlakes": true,
           "showland": true,
           "subunitcolor": "#C8D4E3"
          },
          "hoverlabel": {
           "align": "left"
          },
          "hovermode": "closest",
          "mapbox": {
           "style": "light"
          },
          "paper_bgcolor": "white",
          "plot_bgcolor": "white",
          "polar": {
           "angularaxis": {
            "gridcolor": "#EBF0F8",
            "linecolor": "#EBF0F8",
            "ticks": ""
           },
           "bgcolor": "white",
           "radialaxis": {
            "gridcolor": "#EBF0F8",
            "linecolor": "#EBF0F8",
            "ticks": ""
           }
          },
          "scene": {
           "xaxis": {
            "backgroundcolor": "white",
            "gridcolor": "#DFE8F3",
            "gridwidth": 2,
            "linecolor": "#EBF0F8",
            "showbackground": true,
            "ticks": "",
            "zerolinecolor": "#EBF0F8"
           },
           "yaxis": {
            "backgroundcolor": "white",
            "gridcolor": "#DFE8F3",
            "gridwidth": 2,
            "linecolor": "#EBF0F8",
            "showbackground": true,
            "ticks": "",
            "zerolinecolor": "#EBF0F8"
           },
           "zaxis": {
            "backgroundcolor": "white",
            "gridcolor": "#DFE8F3",
            "gridwidth": 2,
            "linecolor": "#EBF0F8",
            "showbackground": true,
            "ticks": "",
            "zerolinecolor": "#EBF0F8"
           }
          },
          "shapedefaults": {
           "line": {
            "color": "#2a3f5f"
           }
          },
          "ternary": {
           "aaxis": {
            "gridcolor": "#DFE8F3",
            "linecolor": "#A2B1C6",
            "ticks": ""
           },
           "baxis": {
            "gridcolor": "#DFE8F3",
            "linecolor": "#A2B1C6",
            "ticks": ""
           },
           "bgcolor": "white",
           "caxis": {
            "gridcolor": "#DFE8F3",
            "linecolor": "#A2B1C6",
            "ticks": ""
           }
          },
          "title": {
           "x": 0.05
          },
          "xaxis": {
           "automargin": true,
           "gridcolor": "#EBF0F8",
           "linecolor": "#EBF0F8",
           "ticks": "",
           "title": {
            "standoff": 15
           },
           "zerolinecolor": "#EBF0F8",
           "zerolinewidth": 2
          },
          "yaxis": {
           "automargin": true,
           "gridcolor": "#EBF0F8",
           "linecolor": "#EBF0F8",
           "ticks": "",
           "title": {
            "standoff": 15
           },
           "zerolinecolor": "#EBF0F8",
           "zerolinewidth": 2
          }
         }
        },
        "title": {
         "font": {
          "size": 16
         },
         "text": "Análisis Completo de Pronóstico - HR (Modelo: Exponential_Smoothing)",
         "x": 0.5
        },
        "xaxis": {
         "anchor": "y",
         "domain": [
          0,
          1
         ],
         "title": {
          "text": "Fecha"
         }
        },
        "xaxis2": {
         "anchor": "y2",
         "domain": [
          0,
          0.45
         ],
         "title": {
          "text": "Métricas"
         }
        },
        "xaxis3": {
         "anchor": "y3",
         "domain": [
          0.55,
          1
         ],
         "title": {
          "text": "Fecha"
         }
        },
        "yaxis": {
         "anchor": "x",
         "domain": [
          0.4600000000000001,
          1
         ],
         "title": {
          "text": "Horas Extra"
         }
        },
        "yaxis2": {
         "anchor": "x2",
         "domain": [
          0,
          0.36000000000000004
         ],
         "title": {
          "text": "Valor"
         }
        },
        "yaxis3": {
         "anchor": "x3",
         "domain": [
          0,
          0.36000000000000004
         ],
         "title": {
          "text": "Residuos"
         }
        }
       }
      }
     },
     "metadata": {},
     "output_type": "display_data"
    },
    {
     "name": "stdout",
     "output_type": "stream",
     "text": [
      "   ✅ Predicciones generadas exitosamente\n",
      "   📊 Modelo seleccionado: Exponential_Smoothing\n",
      "   📈 Próximos 3 meses: [139.73, 497.66, 117.63]\n",
      "   🎯 MAPE: 25.83%, SMAPE: 25.56%\n",
      "\n",
      "🔍 Procesando IT...\n"
     ]
    },
    {
     "data": {
      "application/vnd.plotly.v1+json": {
       "config": {
        "plotlyServerURL": "https://plot.ly"
       },
       "data": [
        {
         "hovertemplate": "<b>Fecha:</b> %{x}<br><b>Valor Real:</b> %{y:.2f}<extra></extra>",
         "line": {
          "color": "#1f77b4",
          "width": 2
         },
         "marker": {
          "size": 4
         },
         "mode": "lines+markers",
         "name": "Histórico Real",
         "type": "scatter",
         "x": [
          "2022-01-01T00:00:00.000000000",
          "2022-02-01T00:00:00.000000000",
          "2022-03-01T00:00:00.000000000",
          "2022-04-01T00:00:00.000000000",
          "2022-05-01T00:00:00.000000000",
          "2022-06-01T00:00:00.000000000",
          "2022-07-01T00:00:00.000000000",
          "2022-08-01T00:00:00.000000000",
          "2022-09-01T00:00:00.000000000",
          "2022-10-01T00:00:00.000000000",
          "2022-11-01T00:00:00.000000000",
          "2022-12-01T00:00:00.000000000",
          "2023-01-01T00:00:00.000000000",
          "2023-02-01T00:00:00.000000000",
          "2023-03-01T00:00:00.000000000",
          "2023-04-01T00:00:00.000000000",
          "2023-05-01T00:00:00.000000000",
          "2023-06-01T00:00:00.000000000",
          "2023-07-01T00:00:00.000000000",
          "2023-08-01T00:00:00.000000000",
          "2023-09-01T00:00:00.000000000",
          "2023-10-01T00:00:00.000000000",
          "2023-11-01T00:00:00.000000000",
          "2023-12-01T00:00:00.000000000",
          "2024-01-01T00:00:00.000000000",
          "2024-02-01T00:00:00.000000000",
          "2024-03-01T00:00:00.000000000",
          "2024-04-01T00:00:00.000000000",
          "2024-05-01T00:00:00.000000000",
          "2024-06-01T00:00:00.000000000",
          "2024-07-01T00:00:00.000000000",
          "2024-08-01T00:00:00.000000000",
          "2024-09-01T00:00:00.000000000",
          "2024-10-01T00:00:00.000000000",
          "2024-11-01T00:00:00.000000000",
          "2024-12-01T00:00:00.000000000",
          "2025-01-01T00:00:00.000000000",
          "2025-02-01T00:00:00.000000000",
          "2025-03-01T00:00:00.000000000",
          "2025-04-01T00:00:00.000000000"
         ],
         "xaxis": "x",
         "y": {
          "bdata": "4XoUrkfhCEBSuB6F61EnQBSuR+F6FBNAAAAAAADAP0A9CtejcP1EQClcj8L1EGNAwvUoXI/iS0AUrkfhejRPQJmZmZmZeUVAH4XrUbgOVECuR+F6FH5XQD4K16NwRW5A4XoUrkdBVkA9CtejcA1WQIXrUbgehVBAKVyPwvUAYUAUrkfherRgQDMzMzMzP3RAmpmZmZlRY0A+CtejcMVgQML1KFyP2mBAexSuR+FaZEAAAAAAAEBdQIXrUbgenXpAZmZmZmZmX0B7FK5H4bpjQLgehetREGhAZmZmZmaOZUAK16NwPQJlQDMzMzMzc31ASOF6FK6HZUBSuB6F6yFoQPYoXI/C1WlArkfhehT+a0C4HoXrUbhjQOtRuB6FqYNA7FG4HoXDZkC4HoXrUfBmQGZmZmZm8nNA4noUrke5b0A=",
          "dtype": "f8"
         },
         "yaxis": "y"
        },
        {
         "hovertemplate": "<b>Fecha:</b> %{x}<br><b>Predicción:</b> %{y:.2f}<extra></extra>",
         "line": {
          "color": "#ff7f0e",
          "dash": "dash",
          "width": 2
         },
         "mode": "lines",
         "name": "Ajuste del Modelo",
         "opacity": 0.8,
         "type": "scatter",
         "x": [
          "2022-01-01T00:00:00.000000000",
          "2022-02-01T00:00:00.000000000",
          "2022-03-01T00:00:00.000000000",
          "2022-04-01T00:00:00.000000000",
          "2022-05-01T00:00:00.000000000",
          "2022-06-01T00:00:00.000000000",
          "2022-07-01T00:00:00.000000000",
          "2022-08-01T00:00:00.000000000",
          "2022-09-01T00:00:00.000000000",
          "2022-10-01T00:00:00.000000000",
          "2022-11-01T00:00:00.000000000",
          "2022-12-01T00:00:00.000000000",
          "2023-01-01T00:00:00.000000000",
          "2023-02-01T00:00:00.000000000",
          "2023-03-01T00:00:00.000000000",
          "2023-04-01T00:00:00.000000000",
          "2023-05-01T00:00:00.000000000",
          "2023-06-01T00:00:00.000000000",
          "2023-07-01T00:00:00.000000000",
          "2023-08-01T00:00:00.000000000",
          "2023-09-01T00:00:00.000000000",
          "2023-10-01T00:00:00.000000000",
          "2023-11-01T00:00:00.000000000",
          "2023-12-01T00:00:00.000000000",
          "2024-01-01T00:00:00.000000000",
          "2024-02-01T00:00:00.000000000",
          "2024-03-01T00:00:00.000000000",
          "2024-04-01T00:00:00.000000000",
          "2024-05-01T00:00:00.000000000",
          "2024-06-01T00:00:00.000000000",
          "2024-07-01T00:00:00.000000000",
          "2024-08-01T00:00:00.000000000",
          "2024-09-01T00:00:00.000000000",
          "2024-10-01T00:00:00.000000000",
          "2024-11-01T00:00:00.000000000",
          "2024-12-01T00:00:00.000000000",
          "2025-01-01T00:00:00.000000000",
          "2025-02-01T00:00:00.000000000",
          "2025-03-01T00:00:00.000000000",
          "2025-04-01T00:00:00.000000000"
         ],
         "xaxis": "x",
         "y": {
          "bdata": "MpujXiR6LEBw1Uv+8Ec0QLEWa1alAUJACp1YW5oSQ0BIH292vQlFQDzGP+yRn19AVXKngD4qS0DC7tPW+Q1OQPXrl2q4WFBAxFZEofPoU0C4tHOm6Q5PQPPWd9jhGW5AXm+dpVR/UkB3JVZJVKBUQN3URu5Aql5AiUm4f/d8XEB6f808SE1cQAhFJ8mYdXNARq47J4U3X0Cf6rwEgz9gQIfP2q5UxWBApE631K2BY0BPPsyZx0BdQHSTvJ81THtA6t61jdBGYEBD1447yKFhQP7K96slhmlAYcdiqhkpZ0B6bTcHd4RmQJj0WkuvVH5AobJ48bLnZ0CEjiAchXdoQKolu2Fc3GhAjJZ90IV+bEAM/OaNVxVlQCRZ024waYNAQzcAAr/jZkAVGmIPyYRoQOrSbXuRjnFAFbMG1PSMb0A=",
          "dtype": "f8"
         },
         "yaxis": "y"
        },
        {
         "hovertemplate": "<b>Fecha:</b> %{x}<br><b>Pronóstico:</b> %{y:.2f}<extra></extra>",
         "line": {
          "color": "#d62728",
          "width": 3
         },
         "marker": {
          "size": 6,
          "symbol": "diamond"
         },
         "mode": "lines+markers",
         "name": "Pronóstico Futuro",
         "type": "scatter",
         "x": [
          "2025-05-01T00:00:00.000000000",
          "2025-06-01T00:00:00.000000000",
          "2025-07-01T00:00:00.000000000",
          "2025-08-01T00:00:00.000000000",
          "2025-09-01T00:00:00.000000000",
          "2025-10-01T00:00:00.000000000",
          "2025-11-01T00:00:00.000000000",
          "2025-12-01T00:00:00.000000000",
          "2026-01-01T00:00:00.000000000",
          "2026-02-01T00:00:00.000000000",
          "2026-03-01T00:00:00.000000000",
          "2026-04-01T00:00:00.000000000"
         ],
         "xaxis": "x",
         "y": {
          "bdata": "t90uF9djbkBxy+uMu0eEQLS068Y+tm9AEkCl86cZcEBCpiKajzxwQCPrscvDeXJAuPssILUoa0C6gMUbMNWIQFN5Ggy7HG1AATs8brT/bkCpHystmBF2QCy+uf4AuXNA",
          "dtype": "f8"
         },
         "yaxis": "y"
        },
        {
         "fill": "toself",
         "fillcolor": "rgba(214, 39, 40, 0.2)",
         "hoverinfo": "skip",
         "line": {
          "color": "rgba(255,255,255,0)"
         },
         "name": "Intervalo de Confianza 95%",
         "showlegend": true,
         "type": "scatter",
         "x": [
          "2025-05-01T00:00:00",
          "2025-06-01T00:00:00",
          "2025-07-01T00:00:00",
          "2025-08-01T00:00:00",
          "2025-09-01T00:00:00",
          "2025-10-01T00:00:00",
          "2025-11-01T00:00:00",
          "2025-12-01T00:00:00",
          "2026-01-01T00:00:00",
          "2026-02-01T00:00:00",
          "2026-03-01T00:00:00",
          "2026-04-01T00:00:00",
          "2026-04-01T00:00:00",
          "2026-03-01T00:00:00",
          "2026-02-01T00:00:00",
          "2026-01-01T00:00:00",
          "2025-12-01T00:00:00",
          "2025-11-01T00:00:00",
          "2025-10-01T00:00:00",
          "2025-09-01T00:00:00",
          "2025-08-01T00:00:00",
          "2025-07-01T00:00:00",
          "2025-06-01T00:00:00",
          "2025-05-01T00:00:00"
         ],
         "xaxis": "x",
         "y": [
          295.1368472747681,
          722.5294995390789,
          343.79097485185576,
          361.6371860489014,
          376.0982517854817,
          423.0250204144165,
          354.8957356149225,
          941.7743347893497,
          388.9483562288883,
          412.4824697931691,
          525.6199971692832,
          495.7543662045965,
          135.37111964584832,
          180.57930773270166,
          83.49908064788175,
          76.84730961070153,
          647.5226461504981,
          79.64848452335636,
          168.19558294670213,
          143.4718664231162,
          153.56982163677685,
          163.59935157248168,
          575.403655219653,
          191.10316506870586
         ],
         "yaxis": "y"
        },
        {
         "hovertemplate": "<b>%{x}:</b> %{y:.2f}<extra></extra>",
         "marker": {
          "color": [
           "orange",
           "orange",
           "green",
           "green"
          ]
         },
         "name": "Métricas",
         "showlegend": false,
         "type": "bar",
         "x": [
          "MAPE (%)",
          "SMAPE (%)",
          "RMSE",
          "MAE"
         ],
         "xaxis": "x2",
         "y": [
          12.289,
          12.7351,
          4248.400000000001,
          3243.79
         ],
         "yaxis": "y2"
        },
        {
         "hovertemplate": "<b>Fecha:</b> %{x}<br><b>Residuo:</b> %{y:.2f}<extra></extra>",
         "line": {
          "color": "purple"
         },
         "marker": {
          "size": 6
         },
         "mode": "markers+lines",
         "name": "Residuos",
         "showlegend": false,
         "type": "scatter",
         "x": [
          "2024-05-01T00:00:00.000000000",
          "2024-06-01T00:00:00.000000000",
          "2024-07-01T00:00:00.000000000",
          "2024-08-01T00:00:00.000000000",
          "2024-09-01T00:00:00.000000000",
          "2024-10-01T00:00:00.000000000",
          "2024-11-01T00:00:00.000000000",
          "2024-12-01T00:00:00.000000000",
          "2025-01-01T00:00:00.000000000",
          "2025-02-01T00:00:00.000000000",
          "2025-03-01T00:00:00.000000000",
          "2025-04-01T00:00:00.000000000"
         ],
         "xaxis": "x3",
         "y": {
          "bdata": "AGc5aZkjKMCgLPgEgy8swMiK7ucmADPAgIx1wGVmBcCAaSC0xSwfQMDbibMqDhDAQNUdJlrQJcDAMT75KxUgQICr8qPxHPC/0LXPPXJHKcDgm8RXpx5DQIDm4wZtKfY/",
          "dtype": "f8"
         },
         "yaxis": "y3"
        }
       ],
       "layout": {
        "annotations": [
         {
          "font": {
           "size": 16
          },
          "showarrow": false,
          "text": "Pronóstico de Horas Extra - IT",
          "x": 0.5,
          "xanchor": "center",
          "xref": "paper",
          "y": 1,
          "yanchor": "bottom",
          "yref": "paper"
         },
         {
          "font": {
           "size": 16
          },
          "showarrow": false,
          "text": "Métricas de Calidad del Modelo",
          "x": 0.225,
          "xanchor": "center",
          "xref": "paper",
          "y": 0.36000000000000004,
          "yanchor": "bottom",
          "yref": "paper"
         },
         {
          "font": {
           "size": 16
          },
          "showarrow": false,
          "text": "Análisis de Residuos (Últimos 12 meses)",
          "x": 0.775,
          "xanchor": "center",
          "xref": "paper",
          "y": 0.36000000000000004,
          "yanchor": "bottom",
          "yref": "paper"
         },
         {
          "align": "left",
          "bgcolor": "rgba(255,255,255,0.8)",
          "bordercolor": "gray",
          "borderwidth": 1,
          "font": {
           "size": 10
          },
          "showarrow": false,
          "text": "<b>Resumen:</b><br>Modelo: Exponential_Smoothing<br>Calidad: 🟡 Aceptable<br>Tendencia: 📈 Ascendente<br>Cambio: +29.8%",
          "x": 0.02,
          "xref": "paper",
          "y": 0.98,
          "yref": "paper"
         }
        ],
        "font": {
         "size": 10
        },
        "height": 800,
        "shapes": [
         {
          "line": {
           "color": "gray",
           "dash": "dot"
          },
          "type": "line",
          "x0": "2025-04-01T00:00:00",
          "x1": "2025-04-01T00:00:00",
          "xref": "x",
          "y0": 0,
          "y1": 1,
          "yref": "y domain"
         },
         {
          "line": {
           "color": "gray",
           "dash": "dash"
          },
          "type": "line",
          "x0": 0,
          "x1": 1,
          "xref": "x3 domain",
          "y0": 0,
          "y1": 0,
          "yref": "y3"
         }
        ],
        "showlegend": true,
        "template": {
         "data": {
          "bar": [
           {
            "error_x": {
             "color": "#2a3f5f"
            },
            "error_y": {
             "color": "#2a3f5f"
            },
            "marker": {
             "line": {
              "color": "white",
              "width": 0.5
             },
             "pattern": {
              "fillmode": "overlay",
              "size": 10,
              "solidity": 0.2
             }
            },
            "type": "bar"
           }
          ],
          "barpolar": [
           {
            "marker": {
             "line": {
              "color": "white",
              "width": 0.5
             },
             "pattern": {
              "fillmode": "overlay",
              "size": 10,
              "solidity": 0.2
             }
            },
            "type": "barpolar"
           }
          ],
          "carpet": [
           {
            "aaxis": {
             "endlinecolor": "#2a3f5f",
             "gridcolor": "#C8D4E3",
             "linecolor": "#C8D4E3",
             "minorgridcolor": "#C8D4E3",
             "startlinecolor": "#2a3f5f"
            },
            "baxis": {
             "endlinecolor": "#2a3f5f",
             "gridcolor": "#C8D4E3",
             "linecolor": "#C8D4E3",
             "minorgridcolor": "#C8D4E3",
             "startlinecolor": "#2a3f5f"
            },
            "type": "carpet"
           }
          ],
          "choropleth": [
           {
            "colorbar": {
             "outlinewidth": 0,
             "ticks": ""
            },
            "type": "choropleth"
           }
          ],
          "contour": [
           {
            "colorbar": {
             "outlinewidth": 0,
             "ticks": ""
            },
            "colorscale": [
             [
              0,
              "#0d0887"
             ],
             [
              0.1111111111111111,
              "#46039f"
             ],
             [
              0.2222222222222222,
              "#7201a8"
             ],
             [
              0.3333333333333333,
              "#9c179e"
             ],
             [
              0.4444444444444444,
              "#bd3786"
             ],
             [
              0.5555555555555556,
              "#d8576b"
             ],
             [
              0.6666666666666666,
              "#ed7953"
             ],
             [
              0.7777777777777778,
              "#fb9f3a"
             ],
             [
              0.8888888888888888,
              "#fdca26"
             ],
             [
              1,
              "#f0f921"
             ]
            ],
            "type": "contour"
           }
          ],
          "contourcarpet": [
           {
            "colorbar": {
             "outlinewidth": 0,
             "ticks": ""
            },
            "type": "contourcarpet"
           }
          ],
          "heatmap": [
           {
            "colorbar": {
             "outlinewidth": 0,
             "ticks": ""
            },
            "colorscale": [
             [
              0,
              "#0d0887"
             ],
             [
              0.1111111111111111,
              "#46039f"
             ],
             [
              0.2222222222222222,
              "#7201a8"
             ],
             [
              0.3333333333333333,
              "#9c179e"
             ],
             [
              0.4444444444444444,
              "#bd3786"
             ],
             [
              0.5555555555555556,
              "#d8576b"
             ],
             [
              0.6666666666666666,
              "#ed7953"
             ],
             [
              0.7777777777777778,
              "#fb9f3a"
             ],
             [
              0.8888888888888888,
              "#fdca26"
             ],
             [
              1,
              "#f0f921"
             ]
            ],
            "type": "heatmap"
           }
          ],
          "histogram": [
           {
            "marker": {
             "pattern": {
              "fillmode": "overlay",
              "size": 10,
              "solidity": 0.2
             }
            },
            "type": "histogram"
           }
          ],
          "histogram2d": [
           {
            "colorbar": {
             "outlinewidth": 0,
             "ticks": ""
            },
            "colorscale": [
             [
              0,
              "#0d0887"
             ],
             [
              0.1111111111111111,
              "#46039f"
             ],
             [
              0.2222222222222222,
              "#7201a8"
             ],
             [
              0.3333333333333333,
              "#9c179e"
             ],
             [
              0.4444444444444444,
              "#bd3786"
             ],
             [
              0.5555555555555556,
              "#d8576b"
             ],
             [
              0.6666666666666666,
              "#ed7953"
             ],
             [
              0.7777777777777778,
              "#fb9f3a"
             ],
             [
              0.8888888888888888,
              "#fdca26"
             ],
             [
              1,
              "#f0f921"
             ]
            ],
            "type": "histogram2d"
           }
          ],
          "histogram2dcontour": [
           {
            "colorbar": {
             "outlinewidth": 0,
             "ticks": ""
            },
            "colorscale": [
             [
              0,
              "#0d0887"
             ],
             [
              0.1111111111111111,
              "#46039f"
             ],
             [
              0.2222222222222222,
              "#7201a8"
             ],
             [
              0.3333333333333333,
              "#9c179e"
             ],
             [
              0.4444444444444444,
              "#bd3786"
             ],
             [
              0.5555555555555556,
              "#d8576b"
             ],
             [
              0.6666666666666666,
              "#ed7953"
             ],
             [
              0.7777777777777778,
              "#fb9f3a"
             ],
             [
              0.8888888888888888,
              "#fdca26"
             ],
             [
              1,
              "#f0f921"
             ]
            ],
            "type": "histogram2dcontour"
           }
          ],
          "mesh3d": [
           {
            "colorbar": {
             "outlinewidth": 0,
             "ticks": ""
            },
            "type": "mesh3d"
           }
          ],
          "parcoords": [
           {
            "line": {
             "colorbar": {
              "outlinewidth": 0,
              "ticks": ""
             }
            },
            "type": "parcoords"
           }
          ],
          "pie": [
           {
            "automargin": true,
            "type": "pie"
           }
          ],
          "scatter": [
           {
            "fillpattern": {
             "fillmode": "overlay",
             "size": 10,
             "solidity": 0.2
            },
            "type": "scatter"
           }
          ],
          "scatter3d": [
           {
            "line": {
             "colorbar": {
              "outlinewidth": 0,
              "ticks": ""
             }
            },
            "marker": {
             "colorbar": {
              "outlinewidth": 0,
              "ticks": ""
             }
            },
            "type": "scatter3d"
           }
          ],
          "scattercarpet": [
           {
            "marker": {
             "colorbar": {
              "outlinewidth": 0,
              "ticks": ""
             }
            },
            "type": "scattercarpet"
           }
          ],
          "scattergeo": [
           {
            "marker": {
             "colorbar": {
              "outlinewidth": 0,
              "ticks": ""
             }
            },
            "type": "scattergeo"
           }
          ],
          "scattergl": [
           {
            "marker": {
             "colorbar": {
              "outlinewidth": 0,
              "ticks": ""
             }
            },
            "type": "scattergl"
           }
          ],
          "scattermap": [
           {
            "marker": {
             "colorbar": {
              "outlinewidth": 0,
              "ticks": ""
             }
            },
            "type": "scattermap"
           }
          ],
          "scattermapbox": [
           {
            "marker": {
             "colorbar": {
              "outlinewidth": 0,
              "ticks": ""
             }
            },
            "type": "scattermapbox"
           }
          ],
          "scatterpolar": [
           {
            "marker": {
             "colorbar": {
              "outlinewidth": 0,
              "ticks": ""
             }
            },
            "type": "scatterpolar"
           }
          ],
          "scatterpolargl": [
           {
            "marker": {
             "colorbar": {
              "outlinewidth": 0,
              "ticks": ""
             }
            },
            "type": "scatterpolargl"
           }
          ],
          "scatterternary": [
           {
            "marker": {
             "colorbar": {
              "outlinewidth": 0,
              "ticks": ""
             }
            },
            "type": "scatterternary"
           }
          ],
          "surface": [
           {
            "colorbar": {
             "outlinewidth": 0,
             "ticks": ""
            },
            "colorscale": [
             [
              0,
              "#0d0887"
             ],
             [
              0.1111111111111111,
              "#46039f"
             ],
             [
              0.2222222222222222,
              "#7201a8"
             ],
             [
              0.3333333333333333,
              "#9c179e"
             ],
             [
              0.4444444444444444,
              "#bd3786"
             ],
             [
              0.5555555555555556,
              "#d8576b"
             ],
             [
              0.6666666666666666,
              "#ed7953"
             ],
             [
              0.7777777777777778,
              "#fb9f3a"
             ],
             [
              0.8888888888888888,
              "#fdca26"
             ],
             [
              1,
              "#f0f921"
             ]
            ],
            "type": "surface"
           }
          ],
          "table": [
           {
            "cells": {
             "fill": {
              "color": "#EBF0F8"
             },
             "line": {
              "color": "white"
             }
            },
            "header": {
             "fill": {
              "color": "#C8D4E3"
             },
             "line": {
              "color": "white"
             }
            },
            "type": "table"
           }
          ]
         },
         "layout": {
          "annotationdefaults": {
           "arrowcolor": "#2a3f5f",
           "arrowhead": 0,
           "arrowwidth": 1
          },
          "autotypenumbers": "strict",
          "coloraxis": {
           "colorbar": {
            "outlinewidth": 0,
            "ticks": ""
           }
          },
          "colorscale": {
           "diverging": [
            [
             0,
             "#8e0152"
            ],
            [
             0.1,
             "#c51b7d"
            ],
            [
             0.2,
             "#de77ae"
            ],
            [
             0.3,
             "#f1b6da"
            ],
            [
             0.4,
             "#fde0ef"
            ],
            [
             0.5,
             "#f7f7f7"
            ],
            [
             0.6,
             "#e6f5d0"
            ],
            [
             0.7,
             "#b8e186"
            ],
            [
             0.8,
             "#7fbc41"
            ],
            [
             0.9,
             "#4d9221"
            ],
            [
             1,
             "#276419"
            ]
           ],
           "sequential": [
            [
             0,
             "#0d0887"
            ],
            [
             0.1111111111111111,
             "#46039f"
            ],
            [
             0.2222222222222222,
             "#7201a8"
            ],
            [
             0.3333333333333333,
             "#9c179e"
            ],
            [
             0.4444444444444444,
             "#bd3786"
            ],
            [
             0.5555555555555556,
             "#d8576b"
            ],
            [
             0.6666666666666666,
             "#ed7953"
            ],
            [
             0.7777777777777778,
             "#fb9f3a"
            ],
            [
             0.8888888888888888,
             "#fdca26"
            ],
            [
             1,
             "#f0f921"
            ]
           ],
           "sequentialminus": [
            [
             0,
             "#0d0887"
            ],
            [
             0.1111111111111111,
             "#46039f"
            ],
            [
             0.2222222222222222,
             "#7201a8"
            ],
            [
             0.3333333333333333,
             "#9c179e"
            ],
            [
             0.4444444444444444,
             "#bd3786"
            ],
            [
             0.5555555555555556,
             "#d8576b"
            ],
            [
             0.6666666666666666,
             "#ed7953"
            ],
            [
             0.7777777777777778,
             "#fb9f3a"
            ],
            [
             0.8888888888888888,
             "#fdca26"
            ],
            [
             1,
             "#f0f921"
            ]
           ]
          },
          "colorway": [
           "#636efa",
           "#EF553B",
           "#00cc96",
           "#ab63fa",
           "#FFA15A",
           "#19d3f3",
           "#FF6692",
           "#B6E880",
           "#FF97FF",
           "#FECB52"
          ],
          "font": {
           "color": "#2a3f5f"
          },
          "geo": {
           "bgcolor": "white",
           "lakecolor": "white",
           "landcolor": "white",
           "showlakes": true,
           "showland": true,
           "subunitcolor": "#C8D4E3"
          },
          "hoverlabel": {
           "align": "left"
          },
          "hovermode": "closest",
          "mapbox": {
           "style": "light"
          },
          "paper_bgcolor": "white",
          "plot_bgcolor": "white",
          "polar": {
           "angularaxis": {
            "gridcolor": "#EBF0F8",
            "linecolor": "#EBF0F8",
            "ticks": ""
           },
           "bgcolor": "white",
           "radialaxis": {
            "gridcolor": "#EBF0F8",
            "linecolor": "#EBF0F8",
            "ticks": ""
           }
          },
          "scene": {
           "xaxis": {
            "backgroundcolor": "white",
            "gridcolor": "#DFE8F3",
            "gridwidth": 2,
            "linecolor": "#EBF0F8",
            "showbackground": true,
            "ticks": "",
            "zerolinecolor": "#EBF0F8"
           },
           "yaxis": {
            "backgroundcolor": "white",
            "gridcolor": "#DFE8F3",
            "gridwidth": 2,
            "linecolor": "#EBF0F8",
            "showbackground": true,
            "ticks": "",
            "zerolinecolor": "#EBF0F8"
           },
           "zaxis": {
            "backgroundcolor": "white",
            "gridcolor": "#DFE8F3",
            "gridwidth": 2,
            "linecolor": "#EBF0F8",
            "showbackground": true,
            "ticks": "",
            "zerolinecolor": "#EBF0F8"
           }
          },
          "shapedefaults": {
           "line": {
            "color": "#2a3f5f"
           }
          },
          "ternary": {
           "aaxis": {
            "gridcolor": "#DFE8F3",
            "linecolor": "#A2B1C6",
            "ticks": ""
           },
           "baxis": {
            "gridcolor": "#DFE8F3",
            "linecolor": "#A2B1C6",
            "ticks": ""
           },
           "bgcolor": "white",
           "caxis": {
            "gridcolor": "#DFE8F3",
            "linecolor": "#A2B1C6",
            "ticks": ""
           }
          },
          "title": {
           "x": 0.05
          },
          "xaxis": {
           "automargin": true,
           "gridcolor": "#EBF0F8",
           "linecolor": "#EBF0F8",
           "ticks": "",
           "title": {
            "standoff": 15
           },
           "zerolinecolor": "#EBF0F8",
           "zerolinewidth": 2
          },
          "yaxis": {
           "automargin": true,
           "gridcolor": "#EBF0F8",
           "linecolor": "#EBF0F8",
           "ticks": "",
           "title": {
            "standoff": 15
           },
           "zerolinecolor": "#EBF0F8",
           "zerolinewidth": 2
          }
         }
        },
        "title": {
         "font": {
          "size": 16
         },
         "text": "Análisis Completo de Pronóstico - IT (Modelo: Exponential_Smoothing)",
         "x": 0.5
        },
        "xaxis": {
         "anchor": "y",
         "domain": [
          0,
          1
         ],
         "title": {
          "text": "Fecha"
         }
        },
        "xaxis2": {
         "anchor": "y2",
         "domain": [
          0,
          0.45
         ],
         "title": {
          "text": "Métricas"
         }
        },
        "xaxis3": {
         "anchor": "y3",
         "domain": [
          0.55,
          1
         ],
         "title": {
          "text": "Fecha"
         }
        },
        "yaxis": {
         "anchor": "x",
         "domain": [
          0.4600000000000001,
          1
         ],
         "title": {
          "text": "Horas Extra"
         }
        },
        "yaxis2": {
         "anchor": "x2",
         "domain": [
          0,
          0.36000000000000004
         ],
         "title": {
          "text": "Valor"
         }
        },
        "yaxis3": {
         "anchor": "x3",
         "domain": [
          0,
          0.36000000000000004
         ],
         "title": {
          "text": "Residuos"
         }
        }
       }
      }
     },
     "metadata": {},
     "output_type": "display_data"
    },
    {
     "name": "stdout",
     "output_type": "stream",
     "text": [
      "   ✅ Predicciones generadas exitosamente\n",
      "   📊 Modelo seleccionado: Exponential_Smoothing\n",
      "   📈 Próximos 3 meses: [243.12, 648.97, 253.7]\n",
      "   🎯 MAPE: 12.29%, SMAPE: 12.74%\n",
      "\n",
      "🔍 Procesando Inventory...\n"
     ]
    },
    {
     "data": {
      "application/vnd.plotly.v1+json": {
       "config": {
        "plotlyServerURL": "https://plot.ly"
       },
       "data": [
        {
         "hovertemplate": "<b>Fecha:</b> %{x}<br><b>Valor Real:</b> %{y:.2f}<extra></extra>",
         "line": {
          "color": "#1f77b4",
          "width": 2
         },
         "marker": {
          "size": 4
         },
         "mode": "lines+markers",
         "name": "Histórico Real",
         "type": "scatter",
         "x": [
          "2022-01-01T00:00:00.000000000",
          "2022-02-01T00:00:00.000000000",
          "2022-03-01T00:00:00.000000000",
          "2022-04-01T00:00:00.000000000",
          "2022-05-01T00:00:00.000000000",
          "2022-06-01T00:00:00.000000000",
          "2022-07-01T00:00:00.000000000",
          "2022-08-01T00:00:00.000000000",
          "2022-09-01T00:00:00.000000000",
          "2022-10-01T00:00:00.000000000",
          "2022-11-01T00:00:00.000000000",
          "2022-12-01T00:00:00.000000000",
          "2023-01-01T00:00:00.000000000",
          "2023-02-01T00:00:00.000000000",
          "2023-03-01T00:00:00.000000000",
          "2023-04-01T00:00:00.000000000",
          "2023-05-01T00:00:00.000000000",
          "2023-06-01T00:00:00.000000000",
          "2023-07-01T00:00:00.000000000",
          "2023-08-01T00:00:00.000000000",
          "2023-09-01T00:00:00.000000000",
          "2023-10-01T00:00:00.000000000",
          "2023-11-01T00:00:00.000000000",
          "2023-12-01T00:00:00.000000000",
          "2024-01-01T00:00:00.000000000",
          "2024-02-01T00:00:00.000000000",
          "2024-03-01T00:00:00.000000000",
          "2024-04-01T00:00:00.000000000",
          "2024-05-01T00:00:00.000000000",
          "2024-06-01T00:00:00.000000000",
          "2024-07-01T00:00:00.000000000",
          "2024-08-01T00:00:00.000000000",
          "2024-09-01T00:00:00.000000000",
          "2024-10-01T00:00:00.000000000",
          "2024-11-01T00:00:00.000000000",
          "2024-12-01T00:00:00.000000000",
          "2025-01-01T00:00:00.000000000",
          "2025-02-01T00:00:00.000000000",
          "2025-03-01T00:00:00.000000000",
          "2025-04-01T00:00:00.000000000"
         ],
         "xaxis": "x",
         "y": {
          "bdata": "UrgehetR8D8pXI/C9SgRQGZmZmZmZhxA16NwPQoXMED2KFyPwtVLQD4K16NwNWZAcD0K16MQSUC4HoXrURhJQJmZmZmZ+UVAzczMzMzMU0CuR+F6FI5YQFyPwvUoPoJAMzMzMzOzX0ApXI/C9fhZQFyPwvUonFdA4XoUrkfRYEBcj8L1KDxhQD4K16NwvXdArkfhehQeYkBI4XoUrgdnQM3MzMzMvFtAzczMzMwsZkA+CtejcA1mQHsUrkfhHIxAPQrXo3A9ZkCuR+F6FOZiQOxRuB6F82hAmpmZmZkBZUA0MzMzMxtmQHE9CtejToRApHA9CtdTZkCF61G4HvVoQM3MzMzMjGxApHA9CtebY0AzMzMzM5NqQHE9Ctej6ZdArkfhehSmbkAAAAAAAMhsQArXo3A9DnRAUrgeheuZbEA=",
          "dtype": "f8"
         },
         "yaxis": "y"
        },
        {
         "hovertemplate": "<b>Fecha:</b> %{x}<br><b>Predicción:</b> %{y:.2f}<extra></extra>",
         "line": {
          "color": "#ff7f0e",
          "dash": "dash",
          "width": 2
         },
         "mode": "lines",
         "name": "Ajuste del Modelo",
         "opacity": 0.8,
         "type": "scatter",
         "x": [
          "2022-01-01T00:00:00.000000000",
          "2022-02-01T00:00:00.000000000",
          "2022-03-01T00:00:00.000000000",
          "2022-04-01T00:00:00.000000000",
          "2022-05-01T00:00:00.000000000",
          "2022-06-01T00:00:00.000000000",
          "2022-07-01T00:00:00.000000000",
          "2022-08-01T00:00:00.000000000",
          "2022-09-01T00:00:00.000000000",
          "2022-10-01T00:00:00.000000000",
          "2022-11-01T00:00:00.000000000",
          "2022-12-01T00:00:00.000000000",
          "2023-01-01T00:00:00.000000000",
          "2023-02-01T00:00:00.000000000",
          "2023-03-01T00:00:00.000000000",
          "2023-04-01T00:00:00.000000000",
          "2023-05-01T00:00:00.000000000",
          "2023-06-01T00:00:00.000000000",
          "2023-07-01T00:00:00.000000000",
          "2023-08-01T00:00:00.000000000",
          "2023-09-01T00:00:00.000000000",
          "2023-10-01T00:00:00.000000000",
          "2023-11-01T00:00:00.000000000",
          "2023-12-01T00:00:00.000000000",
          "2024-01-01T00:00:00.000000000",
          "2024-02-01T00:00:00.000000000",
          "2024-03-01T00:00:00.000000000",
          "2024-04-01T00:00:00.000000000",
          "2024-05-01T00:00:00.000000000",
          "2024-06-01T00:00:00.000000000",
          "2024-07-01T00:00:00.000000000",
          "2024-08-01T00:00:00.000000000",
          "2024-09-01T00:00:00.000000000",
          "2024-10-01T00:00:00.000000000",
          "2024-11-01T00:00:00.000000000",
          "2024-12-01T00:00:00.000000000",
          "2025-01-01T00:00:00.000000000",
          "2025-02-01T00:00:00.000000000",
          "2025-03-01T00:00:00.000000000",
          "2025-04-01T00:00:00.000000000"
         ],
         "xaxis": "x",
         "y": {
          "bdata": "/jI5d4oqD8BerC4roicdQHMZ6nATSDRAJzxcnXbSPUCHvcd/wnVGQMs0grjPV2RARaLJ5UoYTUDyJrGUz8NSQORCvTvdBU5A065jaMhwVEBhXBQ91f9XQAjLv450IYJALi0Ar32ZXEBz7AHIStlZQF5fz9ADhV1ANrCPb6gnYEB+ngl0FhtiQAmRIpCn9HdAIz9w0wBCYUAhqZDt4TRlQLIDYGkxdlhAjuB5hcxDZUDEuW/dkLxlQEsNg0nGLYxAbPCAyRBpZ0BKCpR+Xt1jQA1MvkWw6WlAovowypwpYkA3pFi1Is5lQGQirWEqXIRAXPRvbuiaZkDz1VTC0DFpQNhIIrAq82xAz5QdgSkUZEA1wH2Tbt5qQAoE06A76ZdA1rWlqumCbkBrT2j8TSlsQG5B1XZ2CnNA3qxgmSyObkA=",
          "dtype": "f8"
         },
         "yaxis": "y"
        },
        {
         "hovertemplate": "<b>Fecha:</b> %{x}<br><b>Pronóstico:</b> %{y:.2f}<extra></extra>",
         "line": {
          "color": "#d62728",
          "width": 3
         },
         "marker": {
          "size": 6,
          "symbol": "diamond"
         },
         "mode": "lines+markers",
         "name": "Pronóstico Futuro",
         "type": "scatter",
         "x": [
          "2025-05-01T00:00:00.000000000",
          "2025-06-01T00:00:00.000000000",
          "2025-07-01T00:00:00.000000000",
          "2025-08-01T00:00:00.000000000",
          "2025-09-01T00:00:00.000000000",
          "2025-10-01T00:00:00.000000000",
          "2025-11-01T00:00:00.000000000",
          "2025-12-01T00:00:00.000000000",
          "2026-01-01T00:00:00.000000000",
          "2026-02-01T00:00:00.000000000",
          "2026-03-01T00:00:00.000000000",
          "2026-04-01T00:00:00.000000000"
         ],
         "xaxis": "x",
         "y": {
          "bdata": "FYpa5cOlcUABsHGILtCMQKpJyWphHnFAAP/wocWVc0DDvVfYKhdyQAQQu2OV83BAiVmYS/lWdED1ZNGLZhugQHSHl07DUXZAMnARvjD4c0DM6w+UN2N4QBO6Z0LteXZA",
          "dtype": "f8"
         },
         "yaxis": "y"
        },
        {
         "fill": "toself",
         "fillcolor": "rgba(214, 39, 40, 0.2)",
         "hoverinfo": "skip",
         "line": {
          "color": "rgba(255,255,255,0)"
         },
         "name": "Intervalo de Confianza 95%",
         "showlegend": true,
         "type": "scatter",
         "x": [
          "2025-05-01T00:00:00",
          "2025-06-01T00:00:00",
          "2025-07-01T00:00:00",
          "2025-08-01T00:00:00",
          "2025-09-01T00:00:00",
          "2025-10-01T00:00:00",
          "2025-11-01T00:00:00",
          "2025-12-01T00:00:00",
          "2026-01-01T00:00:00",
          "2026-02-01T00:00:00",
          "2026-03-01T00:00:00",
          "2026-04-01T00:00:00",
          "2026-04-01T00:00:00",
          "2026-03-01T00:00:00",
          "2026-02-01T00:00:00",
          "2026-01-01T00:00:00",
          "2025-12-01T00:00:00",
          "2025-11-01T00:00:00",
          "2025-10-01T00:00:00",
          "2025-09-01T00:00:00",
          "2025-08-01T00:00:00",
          "2025-07-01T00:00:00",
          "2025-06-01T00:00:00",
          "2025-05-01T00:00:00"
         ],
         "xaxis": "x",
         "y": [
          296.256309969215,
          937.5065678850463,
          286.7906336555536,
          326.74301133426644,
          303.39186852981476,
          285.450426166117,
          341.2231040870582,
          2117.7893200708922,
          374.06920113367096,
          336.75928750845685,
          410.72834828190923,
          380.377548697442,
          336.98078442899936,
          367.30489396594334,
          301.35849121388094,
          338.54408852342294,
          1998.8848318396338,
          309.55610183037686,
          257.15257264442937,
          275.00171140425084,
          300.22243538518023,
          260.1827919302833,
          907.0445903877367,
          268.43177786345285
         ],
         "yaxis": "y"
        },
        {
         "hovertemplate": "<b>%{x}:</b> %{y:.2f}<extra></extra>",
         "marker": {
          "color": [
           "red",
           "red",
           "green",
           "green"
          ]
         },
         "name": "Métricas",
         "showlegend": false,
         "type": "bar",
         "x": [
          "MAPE (%)",
          "SMAPE (%)",
          "RMSE",
          "MAE"
         ],
         "xaxis": "x2",
         "y": [
          27.5081,
          36.4747,
          11023.52,
          8327.64
         ],
         "yaxis": "y2"
        },
        {
         "hovertemplate": "<b>Fecha:</b> %{x}<br><b>Residuo:</b> %{y:.2f}<extra></extra>",
         "line": {
          "color": "purple"
         },
         "marker": {
          "size": 6
         },
         "mode": "markers+lines",
         "name": "Residuos",
         "showlegend": false,
         "type": "scatter",
         "x": [
          "2024-05-01T00:00:00.000000000",
          "2024-06-01T00:00:00.000000000",
          "2024-07-01T00:00:00.000000000",
          "2024-08-01T00:00:00.000000000",
          "2024-09-01T00:00:00.000000000",
          "2024-10-01T00:00:00.000000000",
          "2024-11-01T00:00:00.000000000",
          "2024-12-01T00:00:00.000000000",
          "2025-01-01T00:00:00.000000000",
          "2025-02-01T00:00:00.000000000",
          "2025-03-01T00:00:00.000000000",
          "2025-04-01T00:00:00.000000000"
         ],
         "xaxis": "x3",
         "y": {
          "bdata": "QL+jdh9EA0AA5slFFQ37vwDuoAxZxAHAADd1AQVZ/r/AAl/VeJcJwMAKCbidFA7AgECjEtjOAsAAwFnOjQ26PwDsyB1olfE/oBL2ckDWE0DAWemcbzwwQMBIH0QRRC/A",
          "dtype": "f8"
         },
         "yaxis": "y3"
        }
       ],
       "layout": {
        "annotations": [
         {
          "font": {
           "size": 16
          },
          "showarrow": false,
          "text": "Pronóstico de Horas Extra - Inventory",
          "x": 0.5,
          "xanchor": "center",
          "xref": "paper",
          "y": 1,
          "yanchor": "bottom",
          "yref": "paper"
         },
         {
          "font": {
           "size": 16
          },
          "showarrow": false,
          "text": "Métricas de Calidad del Modelo",
          "x": 0.225,
          "xanchor": "center",
          "xref": "paper",
          "y": 0.36000000000000004,
          "yanchor": "bottom",
          "yref": "paper"
         },
         {
          "font": {
           "size": 16
          },
          "showarrow": false,
          "text": "Análisis de Residuos (Últimos 12 meses)",
          "x": 0.775,
          "xanchor": "center",
          "xref": "paper",
          "y": 0.36000000000000004,
          "yanchor": "bottom",
          "yref": "paper"
         },
         {
          "align": "left",
          "bgcolor": "rgba(255,255,255,0.8)",
          "bordercolor": "gray",
          "borderwidth": 1,
          "font": {
           "size": 10
          },
          "showarrow": false,
          "text": "<b>Resumen:</b><br>Modelo: Prophet<br>Calidad: 🟡 Aceptable<br>Tendencia: 📈 Ascendente<br>Cambio: +27.4%",
          "x": 0.02,
          "xref": "paper",
          "y": 0.98,
          "yref": "paper"
         }
        ],
        "font": {
         "size": 10
        },
        "height": 800,
        "shapes": [
         {
          "line": {
           "color": "gray",
           "dash": "dot"
          },
          "type": "line",
          "x0": "2025-04-01T00:00:00",
          "x1": "2025-04-01T00:00:00",
          "xref": "x",
          "y0": 0,
          "y1": 1,
          "yref": "y domain"
         },
         {
          "line": {
           "color": "gray",
           "dash": "dash"
          },
          "type": "line",
          "x0": 0,
          "x1": 1,
          "xref": "x3 domain",
          "y0": 0,
          "y1": 0,
          "yref": "y3"
         }
        ],
        "showlegend": true,
        "template": {
         "data": {
          "bar": [
           {
            "error_x": {
             "color": "#2a3f5f"
            },
            "error_y": {
             "color": "#2a3f5f"
            },
            "marker": {
             "line": {
              "color": "white",
              "width": 0.5
             },
             "pattern": {
              "fillmode": "overlay",
              "size": 10,
              "solidity": 0.2
             }
            },
            "type": "bar"
           }
          ],
          "barpolar": [
           {
            "marker": {
             "line": {
              "color": "white",
              "width": 0.5
             },
             "pattern": {
              "fillmode": "overlay",
              "size": 10,
              "solidity": 0.2
             }
            },
            "type": "barpolar"
           }
          ],
          "carpet": [
           {
            "aaxis": {
             "endlinecolor": "#2a3f5f",
             "gridcolor": "#C8D4E3",
             "linecolor": "#C8D4E3",
             "minorgridcolor": "#C8D4E3",
             "startlinecolor": "#2a3f5f"
            },
            "baxis": {
             "endlinecolor": "#2a3f5f",
             "gridcolor": "#C8D4E3",
             "linecolor": "#C8D4E3",
             "minorgridcolor": "#C8D4E3",
             "startlinecolor": "#2a3f5f"
            },
            "type": "carpet"
           }
          ],
          "choropleth": [
           {
            "colorbar": {
             "outlinewidth": 0,
             "ticks": ""
            },
            "type": "choropleth"
           }
          ],
          "contour": [
           {
            "colorbar": {
             "outlinewidth": 0,
             "ticks": ""
            },
            "colorscale": [
             [
              0,
              "#0d0887"
             ],
             [
              0.1111111111111111,
              "#46039f"
             ],
             [
              0.2222222222222222,
              "#7201a8"
             ],
             [
              0.3333333333333333,
              "#9c179e"
             ],
             [
              0.4444444444444444,
              "#bd3786"
             ],
             [
              0.5555555555555556,
              "#d8576b"
             ],
             [
              0.6666666666666666,
              "#ed7953"
             ],
             [
              0.7777777777777778,
              "#fb9f3a"
             ],
             [
              0.8888888888888888,
              "#fdca26"
             ],
             [
              1,
              "#f0f921"
             ]
            ],
            "type": "contour"
           }
          ],
          "contourcarpet": [
           {
            "colorbar": {
             "outlinewidth": 0,
             "ticks": ""
            },
            "type": "contourcarpet"
           }
          ],
          "heatmap": [
           {
            "colorbar": {
             "outlinewidth": 0,
             "ticks": ""
            },
            "colorscale": [
             [
              0,
              "#0d0887"
             ],
             [
              0.1111111111111111,
              "#46039f"
             ],
             [
              0.2222222222222222,
              "#7201a8"
             ],
             [
              0.3333333333333333,
              "#9c179e"
             ],
             [
              0.4444444444444444,
              "#bd3786"
             ],
             [
              0.5555555555555556,
              "#d8576b"
             ],
             [
              0.6666666666666666,
              "#ed7953"
             ],
             [
              0.7777777777777778,
              "#fb9f3a"
             ],
             [
              0.8888888888888888,
              "#fdca26"
             ],
             [
              1,
              "#f0f921"
             ]
            ],
            "type": "heatmap"
           }
          ],
          "histogram": [
           {
            "marker": {
             "pattern": {
              "fillmode": "overlay",
              "size": 10,
              "solidity": 0.2
             }
            },
            "type": "histogram"
           }
          ],
          "histogram2d": [
           {
            "colorbar": {
             "outlinewidth": 0,
             "ticks": ""
            },
            "colorscale": [
             [
              0,
              "#0d0887"
             ],
             [
              0.1111111111111111,
              "#46039f"
             ],
             [
              0.2222222222222222,
              "#7201a8"
             ],
             [
              0.3333333333333333,
              "#9c179e"
             ],
             [
              0.4444444444444444,
              "#bd3786"
             ],
             [
              0.5555555555555556,
              "#d8576b"
             ],
             [
              0.6666666666666666,
              "#ed7953"
             ],
             [
              0.7777777777777778,
              "#fb9f3a"
             ],
             [
              0.8888888888888888,
              "#fdca26"
             ],
             [
              1,
              "#f0f921"
             ]
            ],
            "type": "histogram2d"
           }
          ],
          "histogram2dcontour": [
           {
            "colorbar": {
             "outlinewidth": 0,
             "ticks": ""
            },
            "colorscale": [
             [
              0,
              "#0d0887"
             ],
             [
              0.1111111111111111,
              "#46039f"
             ],
             [
              0.2222222222222222,
              "#7201a8"
             ],
             [
              0.3333333333333333,
              "#9c179e"
             ],
             [
              0.4444444444444444,
              "#bd3786"
             ],
             [
              0.5555555555555556,
              "#d8576b"
             ],
             [
              0.6666666666666666,
              "#ed7953"
             ],
             [
              0.7777777777777778,
              "#fb9f3a"
             ],
             [
              0.8888888888888888,
              "#fdca26"
             ],
             [
              1,
              "#f0f921"
             ]
            ],
            "type": "histogram2dcontour"
           }
          ],
          "mesh3d": [
           {
            "colorbar": {
             "outlinewidth": 0,
             "ticks": ""
            },
            "type": "mesh3d"
           }
          ],
          "parcoords": [
           {
            "line": {
             "colorbar": {
              "outlinewidth": 0,
              "ticks": ""
             }
            },
            "type": "parcoords"
           }
          ],
          "pie": [
           {
            "automargin": true,
            "type": "pie"
           }
          ],
          "scatter": [
           {
            "fillpattern": {
             "fillmode": "overlay",
             "size": 10,
             "solidity": 0.2
            },
            "type": "scatter"
           }
          ],
          "scatter3d": [
           {
            "line": {
             "colorbar": {
              "outlinewidth": 0,
              "ticks": ""
             }
            },
            "marker": {
             "colorbar": {
              "outlinewidth": 0,
              "ticks": ""
             }
            },
            "type": "scatter3d"
           }
          ],
          "scattercarpet": [
           {
            "marker": {
             "colorbar": {
              "outlinewidth": 0,
              "ticks": ""
             }
            },
            "type": "scattercarpet"
           }
          ],
          "scattergeo": [
           {
            "marker": {
             "colorbar": {
              "outlinewidth": 0,
              "ticks": ""
             }
            },
            "type": "scattergeo"
           }
          ],
          "scattergl": [
           {
            "marker": {
             "colorbar": {
              "outlinewidth": 0,
              "ticks": ""
             }
            },
            "type": "scattergl"
           }
          ],
          "scattermap": [
           {
            "marker": {
             "colorbar": {
              "outlinewidth": 0,
              "ticks": ""
             }
            },
            "type": "scattermap"
           }
          ],
          "scattermapbox": [
           {
            "marker": {
             "colorbar": {
              "outlinewidth": 0,
              "ticks": ""
             }
            },
            "type": "scattermapbox"
           }
          ],
          "scatterpolar": [
           {
            "marker": {
             "colorbar": {
              "outlinewidth": 0,
              "ticks": ""
             }
            },
            "type": "scatterpolar"
           }
          ],
          "scatterpolargl": [
           {
            "marker": {
             "colorbar": {
              "outlinewidth": 0,
              "ticks": ""
             }
            },
            "type": "scatterpolargl"
           }
          ],
          "scatterternary": [
           {
            "marker": {
             "colorbar": {
              "outlinewidth": 0,
              "ticks": ""
             }
            },
            "type": "scatterternary"
           }
          ],
          "surface": [
           {
            "colorbar": {
             "outlinewidth": 0,
             "ticks": ""
            },
            "colorscale": [
             [
              0,
              "#0d0887"
             ],
             [
              0.1111111111111111,
              "#46039f"
             ],
             [
              0.2222222222222222,
              "#7201a8"
             ],
             [
              0.3333333333333333,
              "#9c179e"
             ],
             [
              0.4444444444444444,
              "#bd3786"
             ],
             [
              0.5555555555555556,
              "#d8576b"
             ],
             [
              0.6666666666666666,
              "#ed7953"
             ],
             [
              0.7777777777777778,
              "#fb9f3a"
             ],
             [
              0.8888888888888888,
              "#fdca26"
             ],
             [
              1,
              "#f0f921"
             ]
            ],
            "type": "surface"
           }
          ],
          "table": [
           {
            "cells": {
             "fill": {
              "color": "#EBF0F8"
             },
             "line": {
              "color": "white"
             }
            },
            "header": {
             "fill": {
              "color": "#C8D4E3"
             },
             "line": {
              "color": "white"
             }
            },
            "type": "table"
           }
          ]
         },
         "layout": {
          "annotationdefaults": {
           "arrowcolor": "#2a3f5f",
           "arrowhead": 0,
           "arrowwidth": 1
          },
          "autotypenumbers": "strict",
          "coloraxis": {
           "colorbar": {
            "outlinewidth": 0,
            "ticks": ""
           }
          },
          "colorscale": {
           "diverging": [
            [
             0,
             "#8e0152"
            ],
            [
             0.1,
             "#c51b7d"
            ],
            [
             0.2,
             "#de77ae"
            ],
            [
             0.3,
             "#f1b6da"
            ],
            [
             0.4,
             "#fde0ef"
            ],
            [
             0.5,
             "#f7f7f7"
            ],
            [
             0.6,
             "#e6f5d0"
            ],
            [
             0.7,
             "#b8e186"
            ],
            [
             0.8,
             "#7fbc41"
            ],
            [
             0.9,
             "#4d9221"
            ],
            [
             1,
             "#276419"
            ]
           ],
           "sequential": [
            [
             0,
             "#0d0887"
            ],
            [
             0.1111111111111111,
             "#46039f"
            ],
            [
             0.2222222222222222,
             "#7201a8"
            ],
            [
             0.3333333333333333,
             "#9c179e"
            ],
            [
             0.4444444444444444,
             "#bd3786"
            ],
            [
             0.5555555555555556,
             "#d8576b"
            ],
            [
             0.6666666666666666,
             "#ed7953"
            ],
            [
             0.7777777777777778,
             "#fb9f3a"
            ],
            [
             0.8888888888888888,
             "#fdca26"
            ],
            [
             1,
             "#f0f921"
            ]
           ],
           "sequentialminus": [
            [
             0,
             "#0d0887"
            ],
            [
             0.1111111111111111,
             "#46039f"
            ],
            [
             0.2222222222222222,
             "#7201a8"
            ],
            [
             0.3333333333333333,
             "#9c179e"
            ],
            [
             0.4444444444444444,
             "#bd3786"
            ],
            [
             0.5555555555555556,
             "#d8576b"
            ],
            [
             0.6666666666666666,
             "#ed7953"
            ],
            [
             0.7777777777777778,
             "#fb9f3a"
            ],
            [
             0.8888888888888888,
             "#fdca26"
            ],
            [
             1,
             "#f0f921"
            ]
           ]
          },
          "colorway": [
           "#636efa",
           "#EF553B",
           "#00cc96",
           "#ab63fa",
           "#FFA15A",
           "#19d3f3",
           "#FF6692",
           "#B6E880",
           "#FF97FF",
           "#FECB52"
          ],
          "font": {
           "color": "#2a3f5f"
          },
          "geo": {
           "bgcolor": "white",
           "lakecolor": "white",
           "landcolor": "white",
           "showlakes": true,
           "showland": true,
           "subunitcolor": "#C8D4E3"
          },
          "hoverlabel": {
           "align": "left"
          },
          "hovermode": "closest",
          "mapbox": {
           "style": "light"
          },
          "paper_bgcolor": "white",
          "plot_bgcolor": "white",
          "polar": {
           "angularaxis": {
            "gridcolor": "#EBF0F8",
            "linecolor": "#EBF0F8",
            "ticks": ""
           },
           "bgcolor": "white",
           "radialaxis": {
            "gridcolor": "#EBF0F8",
            "linecolor": "#EBF0F8",
            "ticks": ""
           }
          },
          "scene": {
           "xaxis": {
            "backgroundcolor": "white",
            "gridcolor": "#DFE8F3",
            "gridwidth": 2,
            "linecolor": "#EBF0F8",
            "showbackground": true,
            "ticks": "",
            "zerolinecolor": "#EBF0F8"
           },
           "yaxis": {
            "backgroundcolor": "white",
            "gridcolor": "#DFE8F3",
            "gridwidth": 2,
            "linecolor": "#EBF0F8",
            "showbackground": true,
            "ticks": "",
            "zerolinecolor": "#EBF0F8"
           },
           "zaxis": {
            "backgroundcolor": "white",
            "gridcolor": "#DFE8F3",
            "gridwidth": 2,
            "linecolor": "#EBF0F8",
            "showbackground": true,
            "ticks": "",
            "zerolinecolor": "#EBF0F8"
           }
          },
          "shapedefaults": {
           "line": {
            "color": "#2a3f5f"
           }
          },
          "ternary": {
           "aaxis": {
            "gridcolor": "#DFE8F3",
            "linecolor": "#A2B1C6",
            "ticks": ""
           },
           "baxis": {
            "gridcolor": "#DFE8F3",
            "linecolor": "#A2B1C6",
            "ticks": ""
           },
           "bgcolor": "white",
           "caxis": {
            "gridcolor": "#DFE8F3",
            "linecolor": "#A2B1C6",
            "ticks": ""
           }
          },
          "title": {
           "x": 0.05
          },
          "xaxis": {
           "automargin": true,
           "gridcolor": "#EBF0F8",
           "linecolor": "#EBF0F8",
           "ticks": "",
           "title": {
            "standoff": 15
           },
           "zerolinecolor": "#EBF0F8",
           "zerolinewidth": 2
          },
          "yaxis": {
           "automargin": true,
           "gridcolor": "#EBF0F8",
           "linecolor": "#EBF0F8",
           "ticks": "",
           "title": {
            "standoff": 15
           },
           "zerolinecolor": "#EBF0F8",
           "zerolinewidth": 2
          }
         }
        },
        "title": {
         "font": {
          "size": 16
         },
         "text": "Análisis Completo de Pronóstico - Inventory (Modelo: Prophet)",
         "x": 0.5
        },
        "xaxis": {
         "anchor": "y",
         "domain": [
          0,
          1
         ],
         "title": {
          "text": "Fecha"
         }
        },
        "xaxis2": {
         "anchor": "y2",
         "domain": [
          0,
          0.45
         ],
         "title": {
          "text": "Métricas"
         }
        },
        "xaxis3": {
         "anchor": "y3",
         "domain": [
          0.55,
          1
         ],
         "title": {
          "text": "Fecha"
         }
        },
        "yaxis": {
         "anchor": "x",
         "domain": [
          0.4600000000000001,
          1
         ],
         "title": {
          "text": "Horas Extra"
         }
        },
        "yaxis2": {
         "anchor": "x2",
         "domain": [
          0,
          0.36000000000000004
         ],
         "title": {
          "text": "Valor"
         }
        },
        "yaxis3": {
         "anchor": "x3",
         "domain": [
          0,
          0.36000000000000004
         ],
         "title": {
          "text": "Residuos"
         }
        }
       }
      }
     },
     "metadata": {},
     "output_type": "display_data"
    },
    {
     "name": "stdout",
     "output_type": "stream",
     "text": [
      "   ✅ Predicciones generadas exitosamente\n",
      "   📊 Modelo seleccionado: Prophet\n",
      "   📈 Próximos 3 meses: [282.36, 922.02, 273.9]\n",
      "   🎯 MAPE: 27.51%, SMAPE: 36.47%\n",
      "\n",
      "🔍 Procesando Marketing...\n"
     ]
    },
    {
     "data": {
      "application/vnd.plotly.v1+json": {
       "config": {
        "plotlyServerURL": "https://plot.ly"
       },
       "data": [
        {
         "hovertemplate": "<b>Fecha:</b> %{x}<br><b>Valor Real:</b> %{y:.2f}<extra></extra>",
         "line": {
          "color": "#1f77b4",
          "width": 2
         },
         "marker": {
          "size": 4
         },
         "mode": "lines+markers",
         "name": "Histórico Real",
         "type": "scatter",
         "x": [
          "2022-01-01T00:00:00.000000000",
          "2022-02-01T00:00:00.000000000",
          "2022-03-01T00:00:00.000000000",
          "2022-04-01T00:00:00.000000000",
          "2022-05-01T00:00:00.000000000",
          "2022-06-01T00:00:00.000000000",
          "2022-07-01T00:00:00.000000000",
          "2022-08-01T00:00:00.000000000",
          "2022-09-01T00:00:00.000000000",
          "2022-10-01T00:00:00.000000000",
          "2022-11-01T00:00:00.000000000",
          "2022-12-01T00:00:00.000000000",
          "2023-01-01T00:00:00.000000000",
          "2023-02-01T00:00:00.000000000",
          "2023-03-01T00:00:00.000000000",
          "2023-04-01T00:00:00.000000000",
          "2023-05-01T00:00:00.000000000",
          "2023-06-01T00:00:00.000000000",
          "2023-07-01T00:00:00.000000000",
          "2023-08-01T00:00:00.000000000",
          "2023-09-01T00:00:00.000000000",
          "2023-10-01T00:00:00.000000000",
          "2023-11-01T00:00:00.000000000",
          "2023-12-01T00:00:00.000000000",
          "2024-01-01T00:00:00.000000000",
          "2024-02-01T00:00:00.000000000",
          "2024-03-01T00:00:00.000000000",
          "2024-04-01T00:00:00.000000000",
          "2024-05-01T00:00:00.000000000",
          "2024-06-01T00:00:00.000000000",
          "2024-07-01T00:00:00.000000000",
          "2024-08-01T00:00:00.000000000",
          "2024-09-01T00:00:00.000000000",
          "2024-10-01T00:00:00.000000000",
          "2024-11-01T00:00:00.000000000",
          "2024-12-01T00:00:00.000000000",
          "2025-01-01T00:00:00.000000000",
          "2025-02-01T00:00:00.000000000",
          "2025-03-01T00:00:00.000000000",
          "2025-04-01T00:00:00.000000000"
         ],
         "xaxis": "x",
         "y": {
          "bdata": "zczMzMzM8D8+CtejcL0jQD0K16NwPQJA9ihcj8L1JEAAAAAAAABAQOJ6FK5HkVdAFK5H4XoUOEA9CtejcJ1EQAAAAAAAwDhASOF6FK6nR0D2KFyPwjVEQIXrUbge/WFAwvUoXI/iRkAUrkfhetREQM3MzMzMrERASOF6FK53UECQwvUoXK9SQML1KFyPKmRACtejcD06WED2KFyPwsVUQGZmZmZmNlBA9ihcj8IFVUDMzMzMzDxZQFyPwvUoTHRAexSuR+HaUEA0MzMzM1NWQIXrUbgeBVhA9ihcj8JVUkApXI/C9RhWQEjhehSub3hAAAAAAAAwVUApXI/C9dhUQOJ6FK5HcVtAMzMzMzNjVECuR+F6FA5TQJqZmZmZ2XZAw/UoXI+CXEDYo3A9CvdeQJqZmZmZQWFApHA9CtfTXEA=",
          "dtype": "f8"
         },
         "yaxis": "y"
        },
        {
         "hovertemplate": "<b>Fecha:</b> %{x}<br><b>Predicción:</b> %{y:.2f}<extra></extra>",
         "line": {
          "color": "#ff7f0e",
          "dash": "dash",
          "width": 2
         },
         "mode": "lines",
         "name": "Ajuste del Modelo",
         "opacity": 0.8,
         "type": "scatter",
         "x": [
          "2022-01-01T00:00:00.000000000",
          "2022-02-01T00:00:00.000000000",
          "2022-03-01T00:00:00.000000000",
          "2022-04-01T00:00:00.000000000",
          "2022-05-01T00:00:00.000000000",
          "2022-06-01T00:00:00.000000000",
          "2022-07-01T00:00:00.000000000",
          "2022-08-01T00:00:00.000000000",
          "2022-09-01T00:00:00.000000000",
          "2022-10-01T00:00:00.000000000",
          "2022-11-01T00:00:00.000000000",
          "2022-12-01T00:00:00.000000000",
          "2023-01-01T00:00:00.000000000",
          "2023-02-01T00:00:00.000000000",
          "2023-03-01T00:00:00.000000000",
          "2023-04-01T00:00:00.000000000",
          "2023-05-01T00:00:00.000000000",
          "2023-06-01T00:00:00.000000000",
          "2023-07-01T00:00:00.000000000",
          "2023-08-01T00:00:00.000000000",
          "2023-09-01T00:00:00.000000000",
          "2023-10-01T00:00:00.000000000",
          "2023-11-01T00:00:00.000000000",
          "2023-12-01T00:00:00.000000000",
          "2024-01-01T00:00:00.000000000",
          "2024-02-01T00:00:00.000000000",
          "2024-03-01T00:00:00.000000000",
          "2024-04-01T00:00:00.000000000",
          "2024-05-01T00:00:00.000000000",
          "2024-06-01T00:00:00.000000000",
          "2024-07-01T00:00:00.000000000",
          "2024-08-01T00:00:00.000000000",
          "2024-09-01T00:00:00.000000000",
          "2024-10-01T00:00:00.000000000",
          "2024-11-01T00:00:00.000000000",
          "2024-12-01T00:00:00.000000000",
          "2025-01-01T00:00:00.000000000",
          "2025-02-01T00:00:00.000000000",
          "2025-03-01T00:00:00.000000000",
          "2025-04-01T00:00:00.000000000"
         ],
         "xaxis": "x",
         "y": {
          "bdata": "yeWUO82sLkCHgSj4mLgxQFby5NWlTzRA/netwV3AMUAjBJ8eKuo0QDtvLlVI61RAaXt2slmhOUCtVAZYtng6QDtxQ4uquz9AT4PWartdPkD1TXN3I2FBQJ4mpjT/HWJAWcY4JGNFRECLnDzFJy1IQHChLRFpd0pANV7bxBhGR0CxeQx2WYVMQHw8Wnqp42pAsqlhn6PMTUBch8ikkgtQQJdI/vJpJVJAK4lqVEkeUUBvVAZbQnBSQBtrlF6sbnNAYvjCZFtXVUDGYKg7JQxYQF8iz6/MG1pAHkwJOBn7VkAw1nBTzc1ZQN4aT1zvuHZAT1RWyh+lWUDfiSqv8bZYQBvhIf+C8FlAID+wbvNuWEANqiWE6JlYQJ9bjWnOoXdAwlUrR1kPWUCWATz1xs9cQMI+xjPIQl9AiLRjJGSwW0A=",
          "dtype": "f8"
         },
         "yaxis": "y"
        },
        {
         "hovertemplate": "<b>Fecha:</b> %{x}<br><b>Pronóstico:</b> %{y:.2f}<extra></extra>",
         "line": {
          "color": "#d62728",
          "width": 3
         },
         "marker": {
          "size": 6,
          "symbol": "diamond"
         },
         "mode": "lines+markers",
         "name": "Pronóstico Futuro",
         "type": "scatter",
         "x": [
          "2025-05-01T00:00:00.000000000",
          "2025-06-01T00:00:00.000000000",
          "2025-07-01T00:00:00.000000000",
          "2025-08-01T00:00:00.000000000",
          "2025-09-01T00:00:00.000000000",
          "2025-10-01T00:00:00.000000000",
          "2025-11-01T00:00:00.000000000",
          "2025-12-01T00:00:00.000000000",
          "2026-01-01T00:00:00.000000000",
          "2026-02-01T00:00:00.000000000",
          "2026-03-01T00:00:00.000000000",
          "2026-04-01T00:00:00.000000000"
         ],
         "xaxis": "x",
         "y": {
          "bdata": "56LSi9ueX0C0IZIjKg18QD8QaicjDF9A23TKfdNGXkBd3b5zrhNgQMSeAg/p4F1AtyJ6qYuEXkC5U+ybAhB+QD5MdXvA619AZQ8+9xIBYkBngathIkpjQLOayJ9Zy2BA",
          "dtype": "f8"
         },
         "yaxis": "y"
        },
        {
         "fill": "toself",
         "fillcolor": "rgba(214, 39, 40, 0.2)",
         "hoverinfo": "skip",
         "line": {
          "color": "rgba(255,255,255,0)"
         },
         "name": "Intervalo de Confianza 95%",
         "showlegend": true,
         "type": "scatter",
         "x": [
          "2025-05-01T00:00:00",
          "2025-06-01T00:00:00",
          "2025-07-01T00:00:00",
          "2025-08-01T00:00:00",
          "2025-09-01T00:00:00",
          "2025-10-01T00:00:00",
          "2025-11-01T00:00:00",
          "2025-12-01T00:00:00",
          "2026-01-01T00:00:00",
          "2026-02-01T00:00:00",
          "2026-03-01T00:00:00",
          "2026-04-01T00:00:00",
          "2026-04-01T00:00:00",
          "2026-03-01T00:00:00",
          "2026-02-01T00:00:00",
          "2026-01-01T00:00:00",
          "2025-12-01T00:00:00",
          "2025-11-01T00:00:00",
          "2025-10-01T00:00:00",
          "2025-09-01T00:00:00",
          "2025-08-01T00:00:00",
          "2025-07-01T00:00:00",
          "2025-06-01T00:00:00",
          "2025-05-01T00:00:00"
         ],
         "xaxis": "x",
         "y": [
          163.53062540551258,
          501.21724416265,
          188.35948731127456,
          195.20360914872538,
          211.4579548160761,
          210.2640851745508,
          220.0920765761718,
          585.7895496479881,
          238.82904929455026,
          261.1911311656619,
          277.19258882010087,
          262.69437381597913,
          6.015007081171433,
          31.44080510646552,
          26.875999154336284,
          16.538197074904417,
          376.21172431432365,
          24.049972010240722,
          28.76436436569955,
          45.77213603624671,
          47.00970766896147,
          60.01980394387071,
          396.4283314958178,
          89.43367466563065
         ],
         "yaxis": "y"
        },
        {
         "hovertemplate": "<b>%{x}:</b> %{y:.2f}<extra></extra>",
         "marker": {
          "color": [
           "red",
           "red",
           "green",
           "green"
          ]
         },
         "name": "Métricas",
         "showlegend": false,
         "type": "bar",
         "x": [
          "MAPE (%)",
          "SMAPE (%)",
          "RMSE",
          "MAE"
         ],
         "xaxis": "x2",
         "y": [
          34.4347,
          28.9126,
          5161.25,
          4263.65
         ],
         "yaxis": "y2"
        },
        {
         "hovertemplate": "<b>Fecha:</b> %{x}<br><b>Residuo:</b> %{y:.2f}<extra></extra>",
         "line": {
          "color": "purple"
         },
         "marker": {
          "size": 6
         },
         "mode": "markers+lines",
         "name": "Residuos",
         "showlegend": false,
         "type": "scatter",
         "x": [
          "2024-05-01T00:00:00.000000000",
          "2024-06-01T00:00:00.000000000",
          "2024-07-01T00:00:00.000000000",
          "2024-08-01T00:00:00.000000000",
          "2024-09-01T00:00:00.000000000",
          "2024-10-01T00:00:00.000000000",
          "2024-11-01T00:00:00.000000000",
          "2024-12-01T00:00:00.000000000",
          "2025-01-01T00:00:00.000000000",
          "2025-02-01T00:00:00.000000000",
          "2025-03-01T00:00:00.000000000",
          "2025-04-01T00:00:00.000000000"
         ],
         "xaxis": "x3",
         "y": {
          "bdata": "ONALh7ymLcCgZryC62s7QDxRWSl/1DHAsG3ZZN/vLsBwnCnvSgwYQLQv9O0ALzDAfIkRJVAvNsCgQHj+mQYpwAgA7aewmStAEBKlQRo6IUCQo2f7VwMqQMDBm10uNxJA",
          "dtype": "f8"
         },
         "yaxis": "y3"
        }
       ],
       "layout": {
        "annotations": [
         {
          "font": {
           "size": 16
          },
          "showarrow": false,
          "text": "Pronóstico de Horas Extra - Marketing",
          "x": 0.5,
          "xanchor": "center",
          "xref": "paper",
          "y": 1,
          "yanchor": "bottom",
          "yref": "paper"
         },
         {
          "font": {
           "size": 16
          },
          "showarrow": false,
          "text": "Métricas de Calidad del Modelo",
          "x": 0.225,
          "xanchor": "center",
          "xref": "paper",
          "y": 0.36000000000000004,
          "yanchor": "bottom",
          "yref": "paper"
         },
         {
          "font": {
           "size": 16
          },
          "showarrow": false,
          "text": "Análisis de Residuos (Últimos 12 meses)",
          "x": 0.775,
          "xanchor": "center",
          "xref": "paper",
          "y": 0.36000000000000004,
          "yanchor": "bottom",
          "yref": "paper"
         },
         {
          "align": "left",
          "bgcolor": "rgba(255,255,255,0.8)",
          "bordercolor": "gray",
          "borderwidth": 1,
          "font": {
           "size": 10
          },
          "showarrow": false,
          "text": "<b>Resumen:</b><br>Modelo: Exponential_Smoothing<br>Calidad: 🟡 Aceptable<br>Tendencia: 📈 Ascendente<br>Cambio: +6.2%",
          "x": 0.02,
          "xref": "paper",
          "y": 0.98,
          "yref": "paper"
         }
        ],
        "font": {
         "size": 10
        },
        "height": 800,
        "shapes": [
         {
          "line": {
           "color": "gray",
           "dash": "dot"
          },
          "type": "line",
          "x0": "2025-04-01T00:00:00",
          "x1": "2025-04-01T00:00:00",
          "xref": "x",
          "y0": 0,
          "y1": 1,
          "yref": "y domain"
         },
         {
          "line": {
           "color": "gray",
           "dash": "dash"
          },
          "type": "line",
          "x0": 0,
          "x1": 1,
          "xref": "x3 domain",
          "y0": 0,
          "y1": 0,
          "yref": "y3"
         }
        ],
        "showlegend": true,
        "template": {
         "data": {
          "bar": [
           {
            "error_x": {
             "color": "#2a3f5f"
            },
            "error_y": {
             "color": "#2a3f5f"
            },
            "marker": {
             "line": {
              "color": "white",
              "width": 0.5
             },
             "pattern": {
              "fillmode": "overlay",
              "size": 10,
              "solidity": 0.2
             }
            },
            "type": "bar"
           }
          ],
          "barpolar": [
           {
            "marker": {
             "line": {
              "color": "white",
              "width": 0.5
             },
             "pattern": {
              "fillmode": "overlay",
              "size": 10,
              "solidity": 0.2
             }
            },
            "type": "barpolar"
           }
          ],
          "carpet": [
           {
            "aaxis": {
             "endlinecolor": "#2a3f5f",
             "gridcolor": "#C8D4E3",
             "linecolor": "#C8D4E3",
             "minorgridcolor": "#C8D4E3",
             "startlinecolor": "#2a3f5f"
            },
            "baxis": {
             "endlinecolor": "#2a3f5f",
             "gridcolor": "#C8D4E3",
             "linecolor": "#C8D4E3",
             "minorgridcolor": "#C8D4E3",
             "startlinecolor": "#2a3f5f"
            },
            "type": "carpet"
           }
          ],
          "choropleth": [
           {
            "colorbar": {
             "outlinewidth": 0,
             "ticks": ""
            },
            "type": "choropleth"
           }
          ],
          "contour": [
           {
            "colorbar": {
             "outlinewidth": 0,
             "ticks": ""
            },
            "colorscale": [
             [
              0,
              "#0d0887"
             ],
             [
              0.1111111111111111,
              "#46039f"
             ],
             [
              0.2222222222222222,
              "#7201a8"
             ],
             [
              0.3333333333333333,
              "#9c179e"
             ],
             [
              0.4444444444444444,
              "#bd3786"
             ],
             [
              0.5555555555555556,
              "#d8576b"
             ],
             [
              0.6666666666666666,
              "#ed7953"
             ],
             [
              0.7777777777777778,
              "#fb9f3a"
             ],
             [
              0.8888888888888888,
              "#fdca26"
             ],
             [
              1,
              "#f0f921"
             ]
            ],
            "type": "contour"
           }
          ],
          "contourcarpet": [
           {
            "colorbar": {
             "outlinewidth": 0,
             "ticks": ""
            },
            "type": "contourcarpet"
           }
          ],
          "heatmap": [
           {
            "colorbar": {
             "outlinewidth": 0,
             "ticks": ""
            },
            "colorscale": [
             [
              0,
              "#0d0887"
             ],
             [
              0.1111111111111111,
              "#46039f"
             ],
             [
              0.2222222222222222,
              "#7201a8"
             ],
             [
              0.3333333333333333,
              "#9c179e"
             ],
             [
              0.4444444444444444,
              "#bd3786"
             ],
             [
              0.5555555555555556,
              "#d8576b"
             ],
             [
              0.6666666666666666,
              "#ed7953"
             ],
             [
              0.7777777777777778,
              "#fb9f3a"
             ],
             [
              0.8888888888888888,
              "#fdca26"
             ],
             [
              1,
              "#f0f921"
             ]
            ],
            "type": "heatmap"
           }
          ],
          "histogram": [
           {
            "marker": {
             "pattern": {
              "fillmode": "overlay",
              "size": 10,
              "solidity": 0.2
             }
            },
            "type": "histogram"
           }
          ],
          "histogram2d": [
           {
            "colorbar": {
             "outlinewidth": 0,
             "ticks": ""
            },
            "colorscale": [
             [
              0,
              "#0d0887"
             ],
             [
              0.1111111111111111,
              "#46039f"
             ],
             [
              0.2222222222222222,
              "#7201a8"
             ],
             [
              0.3333333333333333,
              "#9c179e"
             ],
             [
              0.4444444444444444,
              "#bd3786"
             ],
             [
              0.5555555555555556,
              "#d8576b"
             ],
             [
              0.6666666666666666,
              "#ed7953"
             ],
             [
              0.7777777777777778,
              "#fb9f3a"
             ],
             [
              0.8888888888888888,
              "#fdca26"
             ],
             [
              1,
              "#f0f921"
             ]
            ],
            "type": "histogram2d"
           }
          ],
          "histogram2dcontour": [
           {
            "colorbar": {
             "outlinewidth": 0,
             "ticks": ""
            },
            "colorscale": [
             [
              0,
              "#0d0887"
             ],
             [
              0.1111111111111111,
              "#46039f"
             ],
             [
              0.2222222222222222,
              "#7201a8"
             ],
             [
              0.3333333333333333,
              "#9c179e"
             ],
             [
              0.4444444444444444,
              "#bd3786"
             ],
             [
              0.5555555555555556,
              "#d8576b"
             ],
             [
              0.6666666666666666,
              "#ed7953"
             ],
             [
              0.7777777777777778,
              "#fb9f3a"
             ],
             [
              0.8888888888888888,
              "#fdca26"
             ],
             [
              1,
              "#f0f921"
             ]
            ],
            "type": "histogram2dcontour"
           }
          ],
          "mesh3d": [
           {
            "colorbar": {
             "outlinewidth": 0,
             "ticks": ""
            },
            "type": "mesh3d"
           }
          ],
          "parcoords": [
           {
            "line": {
             "colorbar": {
              "outlinewidth": 0,
              "ticks": ""
             }
            },
            "type": "parcoords"
           }
          ],
          "pie": [
           {
            "automargin": true,
            "type": "pie"
           }
          ],
          "scatter": [
           {
            "fillpattern": {
             "fillmode": "overlay",
             "size": 10,
             "solidity": 0.2
            },
            "type": "scatter"
           }
          ],
          "scatter3d": [
           {
            "line": {
             "colorbar": {
              "outlinewidth": 0,
              "ticks": ""
             }
            },
            "marker": {
             "colorbar": {
              "outlinewidth": 0,
              "ticks": ""
             }
            },
            "type": "scatter3d"
           }
          ],
          "scattercarpet": [
           {
            "marker": {
             "colorbar": {
              "outlinewidth": 0,
              "ticks": ""
             }
            },
            "type": "scattercarpet"
           }
          ],
          "scattergeo": [
           {
            "marker": {
             "colorbar": {
              "outlinewidth": 0,
              "ticks": ""
             }
            },
            "type": "scattergeo"
           }
          ],
          "scattergl": [
           {
            "marker": {
             "colorbar": {
              "outlinewidth": 0,
              "ticks": ""
             }
            },
            "type": "scattergl"
           }
          ],
          "scattermap": [
           {
            "marker": {
             "colorbar": {
              "outlinewidth": 0,
              "ticks": ""
             }
            },
            "type": "scattermap"
           }
          ],
          "scattermapbox": [
           {
            "marker": {
             "colorbar": {
              "outlinewidth": 0,
              "ticks": ""
             }
            },
            "type": "scattermapbox"
           }
          ],
          "scatterpolar": [
           {
            "marker": {
             "colorbar": {
              "outlinewidth": 0,
              "ticks": ""
             }
            },
            "type": "scatterpolar"
           }
          ],
          "scatterpolargl": [
           {
            "marker": {
             "colorbar": {
              "outlinewidth": 0,
              "ticks": ""
             }
            },
            "type": "scatterpolargl"
           }
          ],
          "scatterternary": [
           {
            "marker": {
             "colorbar": {
              "outlinewidth": 0,
              "ticks": ""
             }
            },
            "type": "scatterternary"
           }
          ],
          "surface": [
           {
            "colorbar": {
             "outlinewidth": 0,
             "ticks": ""
            },
            "colorscale": [
             [
              0,
              "#0d0887"
             ],
             [
              0.1111111111111111,
              "#46039f"
             ],
             [
              0.2222222222222222,
              "#7201a8"
             ],
             [
              0.3333333333333333,
              "#9c179e"
             ],
             [
              0.4444444444444444,
              "#bd3786"
             ],
             [
              0.5555555555555556,
              "#d8576b"
             ],
             [
              0.6666666666666666,
              "#ed7953"
             ],
             [
              0.7777777777777778,
              "#fb9f3a"
             ],
             [
              0.8888888888888888,
              "#fdca26"
             ],
             [
              1,
              "#f0f921"
             ]
            ],
            "type": "surface"
           }
          ],
          "table": [
           {
            "cells": {
             "fill": {
              "color": "#EBF0F8"
             },
             "line": {
              "color": "white"
             }
            },
            "header": {
             "fill": {
              "color": "#C8D4E3"
             },
             "line": {
              "color": "white"
             }
            },
            "type": "table"
           }
          ]
         },
         "layout": {
          "annotationdefaults": {
           "arrowcolor": "#2a3f5f",
           "arrowhead": 0,
           "arrowwidth": 1
          },
          "autotypenumbers": "strict",
          "coloraxis": {
           "colorbar": {
            "outlinewidth": 0,
            "ticks": ""
           }
          },
          "colorscale": {
           "diverging": [
            [
             0,
             "#8e0152"
            ],
            [
             0.1,
             "#c51b7d"
            ],
            [
             0.2,
             "#de77ae"
            ],
            [
             0.3,
             "#f1b6da"
            ],
            [
             0.4,
             "#fde0ef"
            ],
            [
             0.5,
             "#f7f7f7"
            ],
            [
             0.6,
             "#e6f5d0"
            ],
            [
             0.7,
             "#b8e186"
            ],
            [
             0.8,
             "#7fbc41"
            ],
            [
             0.9,
             "#4d9221"
            ],
            [
             1,
             "#276419"
            ]
           ],
           "sequential": [
            [
             0,
             "#0d0887"
            ],
            [
             0.1111111111111111,
             "#46039f"
            ],
            [
             0.2222222222222222,
             "#7201a8"
            ],
            [
             0.3333333333333333,
             "#9c179e"
            ],
            [
             0.4444444444444444,
             "#bd3786"
            ],
            [
             0.5555555555555556,
             "#d8576b"
            ],
            [
             0.6666666666666666,
             "#ed7953"
            ],
            [
             0.7777777777777778,
             "#fb9f3a"
            ],
            [
             0.8888888888888888,
             "#fdca26"
            ],
            [
             1,
             "#f0f921"
            ]
           ],
           "sequentialminus": [
            [
             0,
             "#0d0887"
            ],
            [
             0.1111111111111111,
             "#46039f"
            ],
            [
             0.2222222222222222,
             "#7201a8"
            ],
            [
             0.3333333333333333,
             "#9c179e"
            ],
            [
             0.4444444444444444,
             "#bd3786"
            ],
            [
             0.5555555555555556,
             "#d8576b"
            ],
            [
             0.6666666666666666,
             "#ed7953"
            ],
            [
             0.7777777777777778,
             "#fb9f3a"
            ],
            [
             0.8888888888888888,
             "#fdca26"
            ],
            [
             1,
             "#f0f921"
            ]
           ]
          },
          "colorway": [
           "#636efa",
           "#EF553B",
           "#00cc96",
           "#ab63fa",
           "#FFA15A",
           "#19d3f3",
           "#FF6692",
           "#B6E880",
           "#FF97FF",
           "#FECB52"
          ],
          "font": {
           "color": "#2a3f5f"
          },
          "geo": {
           "bgcolor": "white",
           "lakecolor": "white",
           "landcolor": "white",
           "showlakes": true,
           "showland": true,
           "subunitcolor": "#C8D4E3"
          },
          "hoverlabel": {
           "align": "left"
          },
          "hovermode": "closest",
          "mapbox": {
           "style": "light"
          },
          "paper_bgcolor": "white",
          "plot_bgcolor": "white",
          "polar": {
           "angularaxis": {
            "gridcolor": "#EBF0F8",
            "linecolor": "#EBF0F8",
            "ticks": ""
           },
           "bgcolor": "white",
           "radialaxis": {
            "gridcolor": "#EBF0F8",
            "linecolor": "#EBF0F8",
            "ticks": ""
           }
          },
          "scene": {
           "xaxis": {
            "backgroundcolor": "white",
            "gridcolor": "#DFE8F3",
            "gridwidth": 2,
            "linecolor": "#EBF0F8",
            "showbackground": true,
            "ticks": "",
            "zerolinecolor": "#EBF0F8"
           },
           "yaxis": {
            "backgroundcolor": "white",
            "gridcolor": "#DFE8F3",
            "gridwidth": 2,
            "linecolor": "#EBF0F8",
            "showbackground": true,
            "ticks": "",
            "zerolinecolor": "#EBF0F8"
           },
           "zaxis": {
            "backgroundcolor": "white",
            "gridcolor": "#DFE8F3",
            "gridwidth": 2,
            "linecolor": "#EBF0F8",
            "showbackground": true,
            "ticks": "",
            "zerolinecolor": "#EBF0F8"
           }
          },
          "shapedefaults": {
           "line": {
            "color": "#2a3f5f"
           }
          },
          "ternary": {
           "aaxis": {
            "gridcolor": "#DFE8F3",
            "linecolor": "#A2B1C6",
            "ticks": ""
           },
           "baxis": {
            "gridcolor": "#DFE8F3",
            "linecolor": "#A2B1C6",
            "ticks": ""
           },
           "bgcolor": "white",
           "caxis": {
            "gridcolor": "#DFE8F3",
            "linecolor": "#A2B1C6",
            "ticks": ""
           }
          },
          "title": {
           "x": 0.05
          },
          "xaxis": {
           "automargin": true,
           "gridcolor": "#EBF0F8",
           "linecolor": "#EBF0F8",
           "ticks": "",
           "title": {
            "standoff": 15
           },
           "zerolinecolor": "#EBF0F8",
           "zerolinewidth": 2
          },
          "yaxis": {
           "automargin": true,
           "gridcolor": "#EBF0F8",
           "linecolor": "#EBF0F8",
           "ticks": "",
           "title": {
            "standoff": 15
           },
           "zerolinecolor": "#EBF0F8",
           "zerolinewidth": 2
          }
         }
        },
        "title": {
         "font": {
          "size": 16
         },
         "text": "Análisis Completo de Pronóstico - Marketing (Modelo: Exponential_Smoothing)",
         "x": 0.5
        },
        "xaxis": {
         "anchor": "y",
         "domain": [
          0,
          1
         ],
         "title": {
          "text": "Fecha"
         }
        },
        "xaxis2": {
         "anchor": "y2",
         "domain": [
          0,
          0.45
         ],
         "title": {
          "text": "Métricas"
         }
        },
        "xaxis3": {
         "anchor": "y3",
         "domain": [
          0.55,
          1
         ],
         "title": {
          "text": "Fecha"
         }
        },
        "yaxis": {
         "anchor": "x",
         "domain": [
          0.4600000000000001,
          1
         ],
         "title": {
          "text": "Horas Extra"
         }
        },
        "yaxis2": {
         "anchor": "x2",
         "domain": [
          0,
          0.36000000000000004
         ],
         "title": {
          "text": "Valor"
         }
        },
        "yaxis3": {
         "anchor": "x3",
         "domain": [
          0,
          0.36000000000000004
         ],
         "title": {
          "text": "Residuos"
         }
        }
       }
      }
     },
     "metadata": {},
     "output_type": "display_data"
    },
    {
     "name": "stdout",
     "output_type": "stream",
     "text": [
      "   ✅ Predicciones generadas exitosamente\n",
      "   📊 Modelo seleccionado: Exponential_Smoothing\n",
      "   📈 Próximos 3 meses: [126.48, 448.82, 124.19]\n",
      "   🎯 MAPE: 34.43%, SMAPE: 28.91%\n",
      "\n",
      "🔍 Procesando Sales...\n"
     ]
    },
    {
     "data": {
      "application/vnd.plotly.v1+json": {
       "config": {
        "plotlyServerURL": "https://plot.ly"
       },
       "data": [
        {
         "hovertemplate": "<b>Fecha:</b> %{x}<br><b>Valor Real:</b> %{y:.2f}<extra></extra>",
         "line": {
          "color": "#1f77b4",
          "width": 2
         },
         "marker": {
          "size": 4
         },
         "mode": "lines+markers",
         "name": "Histórico Real",
         "type": "scatter",
         "x": [
          "2022-01-01T00:00:00.000000000",
          "2022-02-01T00:00:00.000000000",
          "2022-03-01T00:00:00.000000000",
          "2022-04-01T00:00:00.000000000",
          "2022-05-01T00:00:00.000000000",
          "2022-06-01T00:00:00.000000000",
          "2022-07-01T00:00:00.000000000",
          "2022-08-01T00:00:00.000000000",
          "2022-09-01T00:00:00.000000000",
          "2022-10-01T00:00:00.000000000",
          "2022-11-01T00:00:00.000000000",
          "2022-12-01T00:00:00.000000000",
          "2023-01-01T00:00:00.000000000",
          "2023-02-01T00:00:00.000000000",
          "2023-03-01T00:00:00.000000000",
          "2023-04-01T00:00:00.000000000",
          "2023-05-01T00:00:00.000000000",
          "2023-06-01T00:00:00.000000000",
          "2023-07-01T00:00:00.000000000",
          "2023-08-01T00:00:00.000000000",
          "2023-09-01T00:00:00.000000000",
          "2023-10-01T00:00:00.000000000",
          "2023-11-01T00:00:00.000000000",
          "2023-12-01T00:00:00.000000000",
          "2024-01-01T00:00:00.000000000",
          "2024-02-01T00:00:00.000000000",
          "2024-03-01T00:00:00.000000000",
          "2024-04-01T00:00:00.000000000",
          "2024-05-01T00:00:00.000000000",
          "2024-06-01T00:00:00.000000000",
          "2024-07-01T00:00:00.000000000",
          "2024-08-01T00:00:00.000000000",
          "2024-09-01T00:00:00.000000000",
          "2024-10-01T00:00:00.000000000",
          "2024-11-01T00:00:00.000000000",
          "2024-12-01T00:00:00.000000000",
          "2025-01-01T00:00:00.000000000",
          "2025-02-01T00:00:00.000000000",
          "2025-03-01T00:00:00.000000000",
          "2025-04-01T00:00:00.000000000"
         ],
         "xaxis": "x",
         "y": {
          "bdata": "9ihcj8J1OkBI4XoUrndVQFK4HoXr4WBA4XoUrkcJbECQwvUoXHt6QPYoXI/CTY9AexSuR+H6ekCPwvUoXNN7QEjhehSu+3tA4noUrkephEDsUbgehU+IQLgehetR3apArkfhehSiiECQwvUoXAmEQOxRuB6FHYlA7FG4HoUxj0ApXI/C9T6RQJqZmZmZKadA16NwPQqdkkCPwvUoXB2PQFK4HoXr4YxA4noUrkd/lECkcD0K1yuUQBSuR+G65bdAhetRuB4akUB7FK5H4bWSQOxRuB6F+pdA7FG4HoX1lEAehetRuLGSQOxRuB7F/7FArkfhehQAlEAehetRuDKVQJDC9ShcQZlAZmZmZmZllUA9CtejcEWSQOF6FK6nxMBAj8L1KFyWlUC4HoXrUTyWQHE9Ctejo55AZmZmZmbEmUA=",
          "dtype": "f8"
         },
         "yaxis": "y"
        },
        {
         "hovertemplate": "<b>Fecha:</b> %{x}<br><b>Predicción:</b> %{y:.2f}<extra></extra>",
         "line": {
          "color": "#ff7f0e",
          "dash": "dash",
          "width": 2
         },
         "mode": "lines",
         "name": "Ajuste del Modelo",
         "opacity": 0.8,
         "type": "scatter",
         "x": [
          "2022-01-01T00:00:00.000000000",
          "2022-02-01T00:00:00.000000000",
          "2022-03-01T00:00:00.000000000",
          "2022-04-01T00:00:00.000000000",
          "2022-05-01T00:00:00.000000000",
          "2022-06-01T00:00:00.000000000",
          "2022-07-01T00:00:00.000000000",
          "2022-08-01T00:00:00.000000000",
          "2022-09-01T00:00:00.000000000",
          "2022-10-01T00:00:00.000000000",
          "2022-11-01T00:00:00.000000000",
          "2022-12-01T00:00:00.000000000",
          "2023-01-01T00:00:00.000000000",
          "2023-02-01T00:00:00.000000000",
          "2023-03-01T00:00:00.000000000",
          "2023-04-01T00:00:00.000000000",
          "2023-05-01T00:00:00.000000000",
          "2023-06-01T00:00:00.000000000",
          "2023-07-01T00:00:00.000000000",
          "2023-08-01T00:00:00.000000000",
          "2023-09-01T00:00:00.000000000",
          "2023-10-01T00:00:00.000000000",
          "2023-11-01T00:00:00.000000000",
          "2023-12-01T00:00:00.000000000",
          "2024-01-01T00:00:00.000000000",
          "2024-02-01T00:00:00.000000000",
          "2024-03-01T00:00:00.000000000",
          "2024-04-01T00:00:00.000000000",
          "2024-05-01T00:00:00.000000000",
          "2024-06-01T00:00:00.000000000",
          "2024-07-01T00:00:00.000000000",
          "2024-08-01T00:00:00.000000000",
          "2024-09-01T00:00:00.000000000",
          "2024-10-01T00:00:00.000000000",
          "2024-11-01T00:00:00.000000000",
          "2024-12-01T00:00:00.000000000",
          "2025-01-01T00:00:00.000000000",
          "2025-02-01T00:00:00.000000000",
          "2025-03-01T00:00:00.000000000",
          "2025-04-01T00:00:00.000000000"
         ],
         "xaxis": "x",
         "y": {
          "bdata": "AQOE7PnNT0B8OZU+k/pcQHY/WGEnvWpAQuRfFRy5bkBh0QXHeMpyQPRuV6T9rpFAihutrreeeUAooshDCFZ7QMKZz/BDFoBAHXZ+jV/agUALAousbqiBQKe2ZmVbOatA8ulnapDxg0AiaV0SjSOFQJwcQDjs64xAywmbpJnHikDDwvZvKAyMQL8aqSITr6dAD7SajzbKjkAKhI3C1lGOQDOvcHE8s5BAKvuxApiBkUBlw5MpzHeQQOvCIt6wdbhAD8PHZ3glkUAtvuIgh5GRQKerVZmNWJdANdutJmoFlUD0EqqU+3mVQOno5tC5xbFAgRKJ9EGUlkCkzSN1NNCVQBQ+SrEznpdAr97M1dFcmEBSMVMukpKWQIQoxAZzkMBAjVoXcTvhlkDgFV87YSmXQPNbKUtCcp5A4OxZy50em0A=",
          "dtype": "f8"
         },
         "yaxis": "y"
        },
        {
         "hovertemplate": "<b>Fecha:</b> %{x}<br><b>Pronóstico:</b> %{y:.2f}<extra></extra>",
         "line": {
          "color": "#d62728",
          "width": 3
         },
         "marker": {
          "size": 6,
          "symbol": "diamond"
         },
         "mode": "lines+markers",
         "name": "Pronóstico Futuro",
         "type": "scatter",
         "x": [
          "2025-05-01T00:00:00.000000000",
          "2025-06-01T00:00:00.000000000",
          "2025-07-01T00:00:00.000000000",
          "2025-08-01T00:00:00.000000000",
          "2025-09-01T00:00:00.000000000",
          "2025-10-01T00:00:00.000000000",
          "2025-11-01T00:00:00.000000000",
          "2025-12-01T00:00:00.000000000",
          "2026-01-01T00:00:00.000000000",
          "2026-02-01T00:00:00.000000000",
          "2026-03-01T00:00:00.000000000",
          "2026-04-01T00:00:00.000000000"
         ],
         "xaxis": "x",
         "y": {
          "bdata": "rPW/xadum0CHaI2f9oK2QIoR5dP8UZxAjT8iJVwhm0AUXdxUcSWdQI2+KWp7151AfH2aI3Bzm0DU1SwzLAfEQMqe8g8sdptApZ+3dZ+hm0DZeKH6bA+iQF1mDzc6/p9A",
          "dtype": "f8"
         },
         "yaxis": "y"
        },
        {
         "fill": "toself",
         "fillcolor": "rgba(214, 39, 40, 0.2)",
         "hoverinfo": "skip",
         "line": {
          "color": "rgba(255,255,255,0)"
         },
         "name": "Intervalo de Confianza 95%",
         "showlegend": true,
         "type": "scatter",
         "x": [
          "2025-05-01T00:00:00",
          "2025-06-01T00:00:00",
          "2025-07-01T00:00:00",
          "2025-08-01T00:00:00",
          "2025-09-01T00:00:00",
          "2025-10-01T00:00:00",
          "2025-11-01T00:00:00",
          "2025-12-01T00:00:00",
          "2026-01-01T00:00:00",
          "2026-02-01T00:00:00",
          "2026-03-01T00:00:00",
          "2026-04-01T00:00:00",
          "2026-04-01T00:00:00",
          "2026-03-01T00:00:00",
          "2026-02-01T00:00:00",
          "2026-01-01T00:00:00",
          "2025-12-01T00:00:00",
          "2025-11-01T00:00:00",
          "2025-10-01T00:00:00",
          "2025-09-01T00:00:00",
          "2025-08-01T00:00:00",
          "2025-07-01T00:00:00",
          "2025-06-01T00:00:00",
          "2025-05-01T00:00:00"
         ],
         "xaxis": "x",
         "y": [
          2499.4214123323327,
          6814.795417571361,
          3100.722805350213,
          3223.8551294822364,
          3528.453165140256,
          3731.697065994422,
          3724.6570821530195,
          12358.009402731881,
          3988.8157457029315,
          4120.373677133446,
          4778.477651100129,
          4624.008657234232,
          0,
          0,
          0,
          0,
          8150.681220750648,
          0,
          88.04397834047677,
          202.2681854212317,
          248.82484132603827,
          524.2709987788066,
          4711.131326580745,
          1011.9062682542335
         ],
         "yaxis": "y"
        },
        {
         "hovertemplate": "<b>%{x}:</b> %{y:.2f}<extra></extra>",
         "marker": {
          "color": [
           "orange",
           "orange",
           "green",
           "green"
          ]
         },
         "name": "Métricas",
         "showlegend": false,
         "type": "bar",
         "x": [
          "MAPE (%)",
          "SMAPE (%)",
          "RMSE",
          "MAE"
         ],
         "xaxis": "x2",
         "y": [
          18.9139,
          16.6437,
          34332.63,
          29282.47
         ],
         "yaxis": "y2"
        },
        {
         "hovertemplate": "<b>Fecha:</b> %{x}<br><b>Residuo:</b> %{y:.2f}<extra></extra>",
         "line": {
          "color": "purple"
         },
         "marker": {
          "size": 6
         },
         "mode": "markers+lines",
         "name": "Residuos",
         "showlegend": false,
         "type": "scatter",
         "x": [
          "2024-05-01T00:00:00.000000000",
          "2024-06-01T00:00:00.000000000",
          "2024-07-01T00:00:00.000000000",
          "2024-08-01T00:00:00.000000000",
          "2024-09-01T00:00:00.000000000",
          "2024-10-01T00:00:00.000000000",
          "2024-11-01T00:00:00.000000000",
          "2024-12-01T00:00:00.000000000",
          "2025-01-01T00:00:00.000000000",
          "2025-02-01T00:00:00.000000000",
          "2025-03-01T00:00:00.000000000",
          "2025-04-01T00:00:00.000000000"
         ],
         "xaxis": "x3",
         "y": {
          "bdata": "sG70FRpCZsCAgbTopgVNQJhWPs1roWTAwBAJZ4SvQ8DAR7h6hzJaQEjCM3tbu2fAVJzwKYY0ccCALimoUxpaQOB/GYL0rVTAAOU+++mhTcAAv3DwxbAoQKBnOE92o1XA",
          "dtype": "f8"
         },
         "yaxis": "y3"
        }
       ],
       "layout": {
        "annotations": [
         {
          "font": {
           "size": 16
          },
          "showarrow": false,
          "text": "Pronóstico de Horas Extra - Sales",
          "x": 0.5,
          "xanchor": "center",
          "xref": "paper",
          "y": 1,
          "yanchor": "bottom",
          "yref": "paper"
         },
         {
          "font": {
           "size": 16
          },
          "showarrow": false,
          "text": "Métricas de Calidad del Modelo",
          "x": 0.225,
          "xanchor": "center",
          "xref": "paper",
          "y": 0.36000000000000004,
          "yanchor": "bottom",
          "yref": "paper"
         },
         {
          "font": {
           "size": 16
          },
          "showarrow": false,
          "text": "Análisis de Residuos (Últimos 12 meses)",
          "x": 0.775,
          "xanchor": "center",
          "xref": "paper",
          "y": 0.36000000000000004,
          "yanchor": "bottom",
          "yref": "paper"
         },
         {
          "align": "left",
          "bgcolor": "rgba(255,255,255,0.8)",
          "bordercolor": "gray",
          "borderwidth": 1,
          "font": {
           "size": 10
          },
          "showarrow": false,
          "text": "<b>Resumen:</b><br>Modelo: Exponential_Smoothing<br>Calidad: 🟡 Aceptable<br>Tendencia: 📈 Ascendente<br>Cambio: +16.6%",
          "x": 0.02,
          "xref": "paper",
          "y": 0.98,
          "yref": "paper"
         }
        ],
        "font": {
         "size": 10
        },
        "height": 800,
        "shapes": [
         {
          "line": {
           "color": "gray",
           "dash": "dot"
          },
          "type": "line",
          "x0": "2025-04-01T00:00:00",
          "x1": "2025-04-01T00:00:00",
          "xref": "x",
          "y0": 0,
          "y1": 1,
          "yref": "y domain"
         },
         {
          "line": {
           "color": "gray",
           "dash": "dash"
          },
          "type": "line",
          "x0": 0,
          "x1": 1,
          "xref": "x3 domain",
          "y0": 0,
          "y1": 0,
          "yref": "y3"
         }
        ],
        "showlegend": true,
        "template": {
         "data": {
          "bar": [
           {
            "error_x": {
             "color": "#2a3f5f"
            },
            "error_y": {
             "color": "#2a3f5f"
            },
            "marker": {
             "line": {
              "color": "white",
              "width": 0.5
             },
             "pattern": {
              "fillmode": "overlay",
              "size": 10,
              "solidity": 0.2
             }
            },
            "type": "bar"
           }
          ],
          "barpolar": [
           {
            "marker": {
             "line": {
              "color": "white",
              "width": 0.5
             },
             "pattern": {
              "fillmode": "overlay",
              "size": 10,
              "solidity": 0.2
             }
            },
            "type": "barpolar"
           }
          ],
          "carpet": [
           {
            "aaxis": {
             "endlinecolor": "#2a3f5f",
             "gridcolor": "#C8D4E3",
             "linecolor": "#C8D4E3",
             "minorgridcolor": "#C8D4E3",
             "startlinecolor": "#2a3f5f"
            },
            "baxis": {
             "endlinecolor": "#2a3f5f",
             "gridcolor": "#C8D4E3",
             "linecolor": "#C8D4E3",
             "minorgridcolor": "#C8D4E3",
             "startlinecolor": "#2a3f5f"
            },
            "type": "carpet"
           }
          ],
          "choropleth": [
           {
            "colorbar": {
             "outlinewidth": 0,
             "ticks": ""
            },
            "type": "choropleth"
           }
          ],
          "contour": [
           {
            "colorbar": {
             "outlinewidth": 0,
             "ticks": ""
            },
            "colorscale": [
             [
              0,
              "#0d0887"
             ],
             [
              0.1111111111111111,
              "#46039f"
             ],
             [
              0.2222222222222222,
              "#7201a8"
             ],
             [
              0.3333333333333333,
              "#9c179e"
             ],
             [
              0.4444444444444444,
              "#bd3786"
             ],
             [
              0.5555555555555556,
              "#d8576b"
             ],
             [
              0.6666666666666666,
              "#ed7953"
             ],
             [
              0.7777777777777778,
              "#fb9f3a"
             ],
             [
              0.8888888888888888,
              "#fdca26"
             ],
             [
              1,
              "#f0f921"
             ]
            ],
            "type": "contour"
           }
          ],
          "contourcarpet": [
           {
            "colorbar": {
             "outlinewidth": 0,
             "ticks": ""
            },
            "type": "contourcarpet"
           }
          ],
          "heatmap": [
           {
            "colorbar": {
             "outlinewidth": 0,
             "ticks": ""
            },
            "colorscale": [
             [
              0,
              "#0d0887"
             ],
             [
              0.1111111111111111,
              "#46039f"
             ],
             [
              0.2222222222222222,
              "#7201a8"
             ],
             [
              0.3333333333333333,
              "#9c179e"
             ],
             [
              0.4444444444444444,
              "#bd3786"
             ],
             [
              0.5555555555555556,
              "#d8576b"
             ],
             [
              0.6666666666666666,
              "#ed7953"
             ],
             [
              0.7777777777777778,
              "#fb9f3a"
             ],
             [
              0.8888888888888888,
              "#fdca26"
             ],
             [
              1,
              "#f0f921"
             ]
            ],
            "type": "heatmap"
           }
          ],
          "histogram": [
           {
            "marker": {
             "pattern": {
              "fillmode": "overlay",
              "size": 10,
              "solidity": 0.2
             }
            },
            "type": "histogram"
           }
          ],
          "histogram2d": [
           {
            "colorbar": {
             "outlinewidth": 0,
             "ticks": ""
            },
            "colorscale": [
             [
              0,
              "#0d0887"
             ],
             [
              0.1111111111111111,
              "#46039f"
             ],
             [
              0.2222222222222222,
              "#7201a8"
             ],
             [
              0.3333333333333333,
              "#9c179e"
             ],
             [
              0.4444444444444444,
              "#bd3786"
             ],
             [
              0.5555555555555556,
              "#d8576b"
             ],
             [
              0.6666666666666666,
              "#ed7953"
             ],
             [
              0.7777777777777778,
              "#fb9f3a"
             ],
             [
              0.8888888888888888,
              "#fdca26"
             ],
             [
              1,
              "#f0f921"
             ]
            ],
            "type": "histogram2d"
           }
          ],
          "histogram2dcontour": [
           {
            "colorbar": {
             "outlinewidth": 0,
             "ticks": ""
            },
            "colorscale": [
             [
              0,
              "#0d0887"
             ],
             [
              0.1111111111111111,
              "#46039f"
             ],
             [
              0.2222222222222222,
              "#7201a8"
             ],
             [
              0.3333333333333333,
              "#9c179e"
             ],
             [
              0.4444444444444444,
              "#bd3786"
             ],
             [
              0.5555555555555556,
              "#d8576b"
             ],
             [
              0.6666666666666666,
              "#ed7953"
             ],
             [
              0.7777777777777778,
              "#fb9f3a"
             ],
             [
              0.8888888888888888,
              "#fdca26"
             ],
             [
              1,
              "#f0f921"
             ]
            ],
            "type": "histogram2dcontour"
           }
          ],
          "mesh3d": [
           {
            "colorbar": {
             "outlinewidth": 0,
             "ticks": ""
            },
            "type": "mesh3d"
           }
          ],
          "parcoords": [
           {
            "line": {
             "colorbar": {
              "outlinewidth": 0,
              "ticks": ""
             }
            },
            "type": "parcoords"
           }
          ],
          "pie": [
           {
            "automargin": true,
            "type": "pie"
           }
          ],
          "scatter": [
           {
            "fillpattern": {
             "fillmode": "overlay",
             "size": 10,
             "solidity": 0.2
            },
            "type": "scatter"
           }
          ],
          "scatter3d": [
           {
            "line": {
             "colorbar": {
              "outlinewidth": 0,
              "ticks": ""
             }
            },
            "marker": {
             "colorbar": {
              "outlinewidth": 0,
              "ticks": ""
             }
            },
            "type": "scatter3d"
           }
          ],
          "scattercarpet": [
           {
            "marker": {
             "colorbar": {
              "outlinewidth": 0,
              "ticks": ""
             }
            },
            "type": "scattercarpet"
           }
          ],
          "scattergeo": [
           {
            "marker": {
             "colorbar": {
              "outlinewidth": 0,
              "ticks": ""
             }
            },
            "type": "scattergeo"
           }
          ],
          "scattergl": [
           {
            "marker": {
             "colorbar": {
              "outlinewidth": 0,
              "ticks": ""
             }
            },
            "type": "scattergl"
           }
          ],
          "scattermap": [
           {
            "marker": {
             "colorbar": {
              "outlinewidth": 0,
              "ticks": ""
             }
            },
            "type": "scattermap"
           }
          ],
          "scattermapbox": [
           {
            "marker": {
             "colorbar": {
              "outlinewidth": 0,
              "ticks": ""
             }
            },
            "type": "scattermapbox"
           }
          ],
          "scatterpolar": [
           {
            "marker": {
             "colorbar": {
              "outlinewidth": 0,
              "ticks": ""
             }
            },
            "type": "scatterpolar"
           }
          ],
          "scatterpolargl": [
           {
            "marker": {
             "colorbar": {
              "outlinewidth": 0,
              "ticks": ""
             }
            },
            "type": "scatterpolargl"
           }
          ],
          "scatterternary": [
           {
            "marker": {
             "colorbar": {
              "outlinewidth": 0,
              "ticks": ""
             }
            },
            "type": "scatterternary"
           }
          ],
          "surface": [
           {
            "colorbar": {
             "outlinewidth": 0,
             "ticks": ""
            },
            "colorscale": [
             [
              0,
              "#0d0887"
             ],
             [
              0.1111111111111111,
              "#46039f"
             ],
             [
              0.2222222222222222,
              "#7201a8"
             ],
             [
              0.3333333333333333,
              "#9c179e"
             ],
             [
              0.4444444444444444,
              "#bd3786"
             ],
             [
              0.5555555555555556,
              "#d8576b"
             ],
             [
              0.6666666666666666,
              "#ed7953"
             ],
             [
              0.7777777777777778,
              "#fb9f3a"
             ],
             [
              0.8888888888888888,
              "#fdca26"
             ],
             [
              1,
              "#f0f921"
             ]
            ],
            "type": "surface"
           }
          ],
          "table": [
           {
            "cells": {
             "fill": {
              "color": "#EBF0F8"
             },
             "line": {
              "color": "white"
             }
            },
            "header": {
             "fill": {
              "color": "#C8D4E3"
             },
             "line": {
              "color": "white"
             }
            },
            "type": "table"
           }
          ]
         },
         "layout": {
          "annotationdefaults": {
           "arrowcolor": "#2a3f5f",
           "arrowhead": 0,
           "arrowwidth": 1
          },
          "autotypenumbers": "strict",
          "coloraxis": {
           "colorbar": {
            "outlinewidth": 0,
            "ticks": ""
           }
          },
          "colorscale": {
           "diverging": [
            [
             0,
             "#8e0152"
            ],
            [
             0.1,
             "#c51b7d"
            ],
            [
             0.2,
             "#de77ae"
            ],
            [
             0.3,
             "#f1b6da"
            ],
            [
             0.4,
             "#fde0ef"
            ],
            [
             0.5,
             "#f7f7f7"
            ],
            [
             0.6,
             "#e6f5d0"
            ],
            [
             0.7,
             "#b8e186"
            ],
            [
             0.8,
             "#7fbc41"
            ],
            [
             0.9,
             "#4d9221"
            ],
            [
             1,
             "#276419"
            ]
           ],
           "sequential": [
            [
             0,
             "#0d0887"
            ],
            [
             0.1111111111111111,
             "#46039f"
            ],
            [
             0.2222222222222222,
             "#7201a8"
            ],
            [
             0.3333333333333333,
             "#9c179e"
            ],
            [
             0.4444444444444444,
             "#bd3786"
            ],
            [
             0.5555555555555556,
             "#d8576b"
            ],
            [
             0.6666666666666666,
             "#ed7953"
            ],
            [
             0.7777777777777778,
             "#fb9f3a"
            ],
            [
             0.8888888888888888,
             "#fdca26"
            ],
            [
             1,
             "#f0f921"
            ]
           ],
           "sequentialminus": [
            [
             0,
             "#0d0887"
            ],
            [
             0.1111111111111111,
             "#46039f"
            ],
            [
             0.2222222222222222,
             "#7201a8"
            ],
            [
             0.3333333333333333,
             "#9c179e"
            ],
            [
             0.4444444444444444,
             "#bd3786"
            ],
            [
             0.5555555555555556,
             "#d8576b"
            ],
            [
             0.6666666666666666,
             "#ed7953"
            ],
            [
             0.7777777777777778,
             "#fb9f3a"
            ],
            [
             0.8888888888888888,
             "#fdca26"
            ],
            [
             1,
             "#f0f921"
            ]
           ]
          },
          "colorway": [
           "#636efa",
           "#EF553B",
           "#00cc96",
           "#ab63fa",
           "#FFA15A",
           "#19d3f3",
           "#FF6692",
           "#B6E880",
           "#FF97FF",
           "#FECB52"
          ],
          "font": {
           "color": "#2a3f5f"
          },
          "geo": {
           "bgcolor": "white",
           "lakecolor": "white",
           "landcolor": "white",
           "showlakes": true,
           "showland": true,
           "subunitcolor": "#C8D4E3"
          },
          "hoverlabel": {
           "align": "left"
          },
          "hovermode": "closest",
          "mapbox": {
           "style": "light"
          },
          "paper_bgcolor": "white",
          "plot_bgcolor": "white",
          "polar": {
           "angularaxis": {
            "gridcolor": "#EBF0F8",
            "linecolor": "#EBF0F8",
            "ticks": ""
           },
           "bgcolor": "white",
           "radialaxis": {
            "gridcolor": "#EBF0F8",
            "linecolor": "#EBF0F8",
            "ticks": ""
           }
          },
          "scene": {
           "xaxis": {
            "backgroundcolor": "white",
            "gridcolor": "#DFE8F3",
            "gridwidth": 2,
            "linecolor": "#EBF0F8",
            "showbackground": true,
            "ticks": "",
            "zerolinecolor": "#EBF0F8"
           },
           "yaxis": {
            "backgroundcolor": "white",
            "gridcolor": "#DFE8F3",
            "gridwidth": 2,
            "linecolor": "#EBF0F8",
            "showbackground": true,
            "ticks": "",
            "zerolinecolor": "#EBF0F8"
           },
           "zaxis": {
            "backgroundcolor": "white",
            "gridcolor": "#DFE8F3",
            "gridwidth": 2,
            "linecolor": "#EBF0F8",
            "showbackground": true,
            "ticks": "",
            "zerolinecolor": "#EBF0F8"
           }
          },
          "shapedefaults": {
           "line": {
            "color": "#2a3f5f"
           }
          },
          "ternary": {
           "aaxis": {
            "gridcolor": "#DFE8F3",
            "linecolor": "#A2B1C6",
            "ticks": ""
           },
           "baxis": {
            "gridcolor": "#DFE8F3",
            "linecolor": "#A2B1C6",
            "ticks": ""
           },
           "bgcolor": "white",
           "caxis": {
            "gridcolor": "#DFE8F3",
            "linecolor": "#A2B1C6",
            "ticks": ""
           }
          },
          "title": {
           "x": 0.05
          },
          "xaxis": {
           "automargin": true,
           "gridcolor": "#EBF0F8",
           "linecolor": "#EBF0F8",
           "ticks": "",
           "title": {
            "standoff": 15
           },
           "zerolinecolor": "#EBF0F8",
           "zerolinewidth": 2
          },
          "yaxis": {
           "automargin": true,
           "gridcolor": "#EBF0F8",
           "linecolor": "#EBF0F8",
           "ticks": "",
           "title": {
            "standoff": 15
           },
           "zerolinecolor": "#EBF0F8",
           "zerolinewidth": 2
          }
         }
        },
        "title": {
         "font": {
          "size": 16
         },
         "text": "Análisis Completo de Pronóstico - Sales (Modelo: Exponential_Smoothing)",
         "x": 0.5
        },
        "xaxis": {
         "anchor": "y",
         "domain": [
          0,
          1
         ],
         "title": {
          "text": "Fecha"
         }
        },
        "xaxis2": {
         "anchor": "y2",
         "domain": [
          0,
          0.45
         ],
         "title": {
          "text": "Métricas"
         }
        },
        "xaxis3": {
         "anchor": "y3",
         "domain": [
          0.55,
          1
         ],
         "title": {
          "text": "Fecha"
         }
        },
        "yaxis": {
         "anchor": "x",
         "domain": [
          0.4600000000000001,
          1
         ],
         "title": {
          "text": "Horas Extra"
         }
        },
        "yaxis2": {
         "anchor": "x2",
         "domain": [
          0,
          0.36000000000000004
         ],
         "title": {
          "text": "Valor"
         }
        },
        "yaxis3": {
         "anchor": "x3",
         "domain": [
          0,
          0.36000000000000004
         ],
         "title": {
          "text": "Residuos"
         }
        }
       }
      }
     },
     "metadata": {},
     "output_type": "display_data"
    },
    {
     "name": "stdout",
     "output_type": "stream",
     "text": [
      "   ✅ Predicciones generadas exitosamente\n",
      "   📊 Modelo seleccionado: Exponential_Smoothing\n",
      "   📈 Próximos 3 meses: [1755.66, 5762.96, 1812.5]\n",
      "   🎯 MAPE: 18.91%, SMAPE: 16.64%\n",
      "\n",
      "====================================================================================================\n",
      "📊 RESUMEN EJECUTIVO DE PREDICCIONES DE HORAS EXTRA\n",
      "====================================================================================================\n",
      "Departamento          Mejor_Modelo MAPE (%) SMAPE (%) Score_Compuesto     Calidad Predicción_Promedio Tendencia Primer_Mes Último_Mes Incertidumbre (%)\n",
      "     Finance Exponential_Smoothing    31.09     31.01          0.9096 🟡 Aceptable               141.1  📉 -14.1%      122.9      105.5             129.4\n",
      "          HR Exponential_Smoothing    25.83     25.56          0.8305 🟡 Aceptable               200.5   📉 -4.7%      139.7      133.1              87.0\n",
      "          IT Exponential_Smoothing    12.29     12.74          0.4810 🟡 Aceptable               343.4  📈 +29.8%      243.1      315.6              73.9\n",
      "   Inventory               Prophet    27.51     36.47          0.6863 🟡 Aceptable               513.8  📈 +27.4%      282.4      359.6               7.7\n",
      "   Marketing Exponential_Smoothing    34.43     28.91          0.8164 🟡 Aceptable               186.0   📈 +6.2%      126.5      134.4              97.1\n",
      "       Sales Exponential_Smoothing    18.91     16.64          0.5424 🟡 Aceptable              2894.9  📈 +16.6%     1755.7     2047.6             119.6\n",
      "\n",
      "📈 ESTADÍSTICAS GENERALES:\n",
      "   • Total de departamentos analizados: 6\n",
      "   • Modelos con calidad excelente: 0/6 (0.0%)\n",
      "   • MAPE promedio: 25.01%\n",
      "   • SMAPE promedio: 25.22%\n",
      "\n",
      "🏆 DISTRIBUCIÓN DE MEJORES MODELOS:\n",
      "   • Exponential_Smoothing: 5 departamentos (83.3%)\n",
      "   • Prophet: 1 departamentos (16.7%)\n",
      "\n",
      "========================================================================================================================\n",
      "📋 RESUMEN DE PREDICCIONES POR DEPARTAMENTO (Próximos 6 meses)\n",
      "========================================================================================================================\n",
      "Departamento                Modelo   MAPE  Mes_1  Mes_2  Mes_3  Mes_4  Mes_5  Mes_6 Promedio_6M Tendencia\n",
      "     Finance Exponential_Smoothing 31.09%  122.9  242.0  128.1  109.4  114.1  113.1       138.3         📉\n",
      "          HR Exponential_Smoothing 25.83%  139.7  497.7  117.6  123.2  131.3  131.7       190.2         📉\n",
      "          IT Exponential_Smoothing 12.29%  243.1  649.0  253.7  257.6  259.8  295.6       326.5         📈\n",
      "   Inventory               Prophet 27.51%  282.4  922.0  273.9  313.4  289.4  271.2       392.1         📉\n",
      "   Marketing Exponential_Smoothing 34.43%  126.5  448.8  124.2  121.1  128.6  119.5       178.1         📉\n",
      "       Sales Exponential_Smoothing 18.91% 1755.7 5763.0 1812.5 1736.3 1865.4 1909.9      2473.8         📈\n",
      "\n",
      "📅 Nota: Los valores corresponden a horas extra predichas por mes\n",
      "\n",
      "🎨 Creando visualización consolidada...\n"
     ]
    },
    {
     "name": "stderr",
     "output_type": "stream",
     "text": [
      "2025-08-14 17:17:55,894 - ERROR - Error creando gráfico consolidado: \n",
      "    Invalid value of type 'builtins.str' received for the 'fillcolor' property of scatter\n",
      "        Received value: 'rgba77b, 0.2)'\n",
      "\n",
      "    The 'fillcolor' property is a color and may be specified as:\n",
      "      - A hex string (e.g. '#ff0000')\n",
      "      - An rgb/rgba string (e.g. 'rgb(255,0,0)')\n",
      "      - An hsl/hsla string (e.g. 'hsl(0,100%,50%)')\n",
      "      - An hsv/hsva string (e.g. 'hsv(0,100%,100%)')\n",
      "      - A named CSS color: see https://plotly.com/python/css-colors/ for a list\n"
     ]
    },
    {
     "name": "stdout",
     "output_type": "stream",
     "text": [
      "\n",
      "✅ Proceso completado exitosamente!\n",
      "   📊 Departamentos procesados: 6\n",
      "   🎯 Predicciones generadas para los próximos 12 meses\n",
      "   📈 Visualizaciones creadas para análisis detallado\n"
     ]
    }
   ],
   "source": [
    "## 5. Generación de Predicciones Homologadas\n",
    "\n",
    "import pandas as pd\n",
    "import numpy as np\n",
    "import logging\n",
    "from datetime import datetime\n",
    "import plotly.graph_objects as go\n",
    "from plotly.subplots import make_subplots\n",
    "import warnings\n",
    "\n",
    "warnings.filterwarnings(\"ignore\")\n",
    "\n",
    "# =====================\n",
    "# CLASE UNIFICADA PARA PREDICCIONES\n",
    "# =====================\n",
    "class UnifiedPredictor:\n",
    "    \"\"\"Clase unificada para generar predicciones homologadas de todos los modelos\"\"\"\n",
    "    \n",
    "    def __init__(self, model_info, model_name, series):\n",
    "        self.model_info = model_info\n",
    "        self.model_name = model_name\n",
    "        self.model = model_info['model']\n",
    "        self.params = model_info.get('params', {})\n",
    "        self.optimizer = model_info.get('optimizer')\n",
    "        self.series = series\n",
    "        \n",
    "    def generate_confidence_intervals(self, predictions, method='adaptive', confidence_level=0.95):\n",
    "        \"\"\"\n",
    "        Genera intervalos de confianza adaptativos basados en la variabilidad histórica\n",
    "        \"\"\"\n",
    "        try:\n",
    "            predictions = np.array(predictions)\n",
    "            alpha = 1 - confidence_level\n",
    "            z_score = 1.96  # Para 95% de confianza\n",
    "            \n",
    "            # Calcular variabilidad histórica\n",
    "            series_std = self.series.std()\n",
    "            series_mean = self.series.mean()\n",
    "            cv = series_std / series_mean if series_mean > 0 else 0.1\n",
    "            \n",
    "            if method == 'adaptive':\n",
    "                # Método adaptativo que considera la tendencia y estacionalidad\n",
    "                base_uncertainty = series_std * 0.15  # 15% de la desviación estándar base\n",
    "                \n",
    "                # Incrementar incertidumbre con el horizonte\n",
    "                horizon_factor = np.sqrt(np.arange(1, len(predictions) + 1))\n",
    "                \n",
    "                # Factor de variabilidad relativa\n",
    "                variability_factor = 1 + cv * 0.5\n",
    "                \n",
    "                # Calcular intervalos\n",
    "                uncertainty = base_uncertainty * horizon_factor * variability_factor\n",
    "                lower = predictions - z_score * uncertainty\n",
    "                upper = predictions + z_score * uncertainty\n",
    "                \n",
    "            elif method == 'percentage':\n",
    "                # Método basado en porcentaje de las predicciones\n",
    "                uncertainty_pct = max(0.1, cv * 0.5)  # Mínimo 10% de incertidumbre\n",
    "                uncertainty = predictions * uncertainty_pct\n",
    "                lower = predictions - z_score * uncertainty\n",
    "                upper = predictions + z_score * uncertainty\n",
    "                \n",
    "            else:\n",
    "                # Método simple por defecto\n",
    "                uncertainty = series_std * 0.2 * np.sqrt(np.arange(1, len(predictions) + 1))\n",
    "                lower = predictions - z_score * uncertainty\n",
    "                upper = predictions + z_score * uncertainty\n",
    "            \n",
    "            # Asegurar que los límites sean no negativos y lógicos\n",
    "            lower = np.maximum(lower, 0)\n",
    "            upper = np.maximum(upper, predictions)\n",
    "            \n",
    "            return lower, upper\n",
    "            \n",
    "        except Exception as e:\n",
    "            logging.warning(f\"Error generando intervalos de confianza: {e}\")\n",
    "            # Fallback simple\n",
    "            return predictions * 0.8, predictions * 1.2\n",
    "    \n",
    "    def generate_historical_predictions(self):\n",
    "        \"\"\"\n",
    "        Genera predicciones históricas homologadas para todos los tipos de modelo\n",
    "        \"\"\"\n",
    "        try:\n",
    "            if self.model_name == 'ARIMA':\n",
    "                return self._generate_arima_historical()\n",
    "            elif self.model_name == 'Prophet':\n",
    "                return self._generate_prophet_historical()\n",
    "            elif self.model_name == 'Exponential_Smoothing':\n",
    "                return self._generate_es_historical()\n",
    "            elif self.model_name == 'XGBoost':\n",
    "                return self._generate_xgboost_historical()\n",
    "            else:\n",
    "                return self._generate_fallback_historical()\n",
    "                \n",
    "        except Exception as e:\n",
    "            logging.error(f\"Error generando predicciones históricas para {self.model_name}: {e}\")\n",
    "            return self._generate_fallback_historical()\n",
    "    \n",
    "    def _generate_arima_historical(self):\n",
    "        \"\"\"Predicciones históricas para ARIMA\"\"\"\n",
    "        try:\n",
    "            fitted_values = self.model.fittedvalues()\n",
    "            \n",
    "            # Alinear con el índice original\n",
    "            if len(fitted_values) != len(self.series):\n",
    "                fitted_values = fitted_values[-len(self.series):]\n",
    "            \n",
    "            # Generar intervalos de confianza\n",
    "            lower, upper = self.generate_confidence_intervals(fitted_values, method='adaptive')\n",
    "            \n",
    "            historical_pred = pd.DataFrame({\n",
    "                'yhat': fitted_values,\n",
    "                'yhat_lower': lower,\n",
    "                'yhat_upper': upper\n",
    "            }, index=self.series.index[-len(fitted_values):])\n",
    "            \n",
    "            return historical_pred\n",
    "            \n",
    "        except Exception as e:\n",
    "            logging.warning(f\"Error en predicciones históricas ARIMA: {e}\")\n",
    "            return self._generate_fallback_historical()\n",
    "    \n",
    "    def _generate_prophet_historical(self):\n",
    "        \"\"\"Predicciones históricas para Prophet\"\"\"\n",
    "        try:\n",
    "            df_hist = pd.DataFrame({'ds': self.series.index, 'y': self.series.values})\n",
    "            forecast_hist = self.model.predict(df_hist)\n",
    "            \n",
    "            historical_pred = pd.DataFrame({\n",
    "                'yhat': forecast_hist['yhat'].values,\n",
    "                'yhat_lower': forecast_hist['yhat_lower'].values,\n",
    "                'yhat_upper': forecast_hist['yhat_upper'].values\n",
    "            }, index=self.series.index)\n",
    "            \n",
    "            return historical_pred\n",
    "            \n",
    "        except Exception as e:\n",
    "            logging.warning(f\"Error en predicciones históricas Prophet: {e}\")\n",
    "            return self._generate_fallback_historical()\n",
    "    \n",
    "    def _generate_es_historical(self):\n",
    "        \"\"\"Predicciones históricas para Exponential Smoothing\"\"\"\n",
    "        try:\n",
    "            fitted_values = self.model.fittedvalues\n",
    "            \n",
    "            if len(fitted_values) != len(self.series):\n",
    "                fitted_values = fitted_values[-len(self.series):]\n",
    "            \n",
    "            # Generar intervalos de confianza\n",
    "            lower, upper = self.generate_confidence_intervals(fitted_values, method='adaptive')\n",
    "            \n",
    "            historical_pred = pd.DataFrame({\n",
    "                'yhat': fitted_values,\n",
    "                'yhat_lower': lower,\n",
    "                'yhat_upper': upper\n",
    "            }, index=self.series.index[-len(fitted_values):])\n",
    "            \n",
    "            return historical_pred\n",
    "            \n",
    "        except Exception as e:\n",
    "            logging.warning(f\"Error en predicciones históricas ES: {e}\")\n",
    "            return self._generate_fallback_historical()\n",
    "    \n",
    "    def _generate_xgboost_historical(self):\n",
    "        \"\"\"Predicciones históricas para XGBoost\"\"\"\n",
    "        try:\n",
    "            # Recrear características\n",
    "            df_features = self.optimizer.create_features(self.series)\n",
    "            X_hist = df_features.drop('y', axis=1)\n",
    "            \n",
    "            predictions_hist = self.model.predict(X_hist)\n",
    "            \n",
    "            # Alinear con el índice\n",
    "            aligned_index = self.series.index[-len(predictions_hist):]\n",
    "            \n",
    "            # Generar intervalos de confianza\n",
    "            lower, upper = self.generate_confidence_intervals(predictions_hist, method='adaptive')\n",
    "            \n",
    "            historical_pred = pd.DataFrame({\n",
    "                'yhat': predictions_hist,\n",
    "                'yhat_lower': lower,\n",
    "                'yhat_upper': upper\n",
    "            }, index=aligned_index)\n",
    "            \n",
    "            return historical_pred\n",
    "            \n",
    "        except Exception as e:\n",
    "            logging.warning(f\"Error en predicciones históricas XGBoost: {e}\")\n",
    "            return self._generate_fallback_historical()\n",
    "    \n",
    "    def _generate_fallback_historical(self):\n",
    "        \"\"\"Predicciones históricas de respaldo\"\"\"\n",
    "        lower, upper = self.generate_confidence_intervals(self.series.values, method='percentage')\n",
    "        \n",
    "        return pd.DataFrame({\n",
    "            'yhat': self.series.values,\n",
    "            'yhat_lower': lower,\n",
    "            'yhat_upper': upper\n",
    "        }, index=self.series.index)\n",
    "    \n",
    "    def generate_future_predictions(self, horizon=12):\n",
    "        \"\"\"\n",
    "        Genera predicciones futuras homologadas para todos los tipos de modelo\n",
    "        \"\"\"\n",
    "        try:\n",
    "            if self.model_name == 'ARIMA':\n",
    "                return self._generate_arima_future(horizon)\n",
    "            elif self.model_name == 'Prophet':\n",
    "                return self._generate_prophet_future(horizon)\n",
    "            elif self.model_name == 'Exponential_Smoothing':\n",
    "                return self._generate_es_future(horizon)\n",
    "            elif self.model_name == 'XGBoost':\n",
    "                return self._generate_xgboost_future(horizon)\n",
    "            else:\n",
    "                return self._generate_fallback_future(horizon)\n",
    "                \n",
    "        except Exception as e:\n",
    "            logging.error(f\"Error generando predicciones futuras para {self.model_name}: {e}\")\n",
    "            return self._generate_fallback_future(horizon)\n",
    "    \n",
    "    def _generate_arima_future(self, horizon):\n",
    "        \"\"\"Predicciones futuras para ARIMA\"\"\"\n",
    "        try:\n",
    "            forecast_result = self.model.predict(n_periods=horizon, return_conf_int=True)\n",
    "            predictions = forecast_result[0]\n",
    "            conf_int = forecast_result[1]\n",
    "            \n",
    "            confidence_lower = conf_int[:, 0]\n",
    "            confidence_upper = conf_int[:, 1]\n",
    "            \n",
    "            return self._create_forecast_dataframe(predictions, confidence_lower, confidence_upper, horizon)\n",
    "            \n",
    "        except Exception as e:\n",
    "            logging.warning(f\"Error en predicciones futuras ARIMA: {e}\")\n",
    "            return self._generate_fallback_future(horizon)\n",
    "    \n",
    "    def _generate_prophet_future(self, horizon):\n",
    "        \"\"\"Predicciones futuras para Prophet\"\"\"\n",
    "        try:\n",
    "            future = self.model.make_future_dataframe(periods=horizon, freq='MS')\n",
    "            forecast = self.model.predict(future)\n",
    "            \n",
    "            # Tomar solo las predicciones futuras\n",
    "            predictions = forecast['yhat'].tail(horizon).values\n",
    "            confidence_lower = forecast['yhat_lower'].tail(horizon).values\n",
    "            confidence_upper = forecast['yhat_upper'].tail(horizon).values\n",
    "            \n",
    "            return self._create_forecast_dataframe(predictions, confidence_lower, confidence_upper, horizon)\n",
    "            \n",
    "        except Exception as e:\n",
    "            logging.warning(f\"Error en predicciones futuras Prophet: {e}\")\n",
    "            return self._generate_fallback_future(horizon)\n",
    "    \n",
    "    def _generate_es_future(self, horizon):\n",
    "        \"\"\"Predicciones futuras para Exponential Smoothing\"\"\"\n",
    "        try:\n",
    "            predictions = self.model.forecast(horizon)\n",
    "            if hasattr(predictions, 'values'):\n",
    "                predictions = predictions.values\n",
    "            \n",
    "            # Generar intervalos de confianza estimados\n",
    "            confidence_lower, confidence_upper = self.generate_confidence_intervals(\n",
    "                predictions, method='adaptive'\n",
    "            )\n",
    "            \n",
    "            return self._create_forecast_dataframe(predictions, confidence_lower, confidence_upper, horizon)\n",
    "            \n",
    "        except Exception as e:\n",
    "            logging.warning(f\"Error en predicciones futuras ES: {e}\")\n",
    "            return self._generate_fallback_future(horizon)\n",
    "    \n",
    "    def _generate_xgboost_future(self, horizon):\n",
    "        \"\"\"Predicciones futuras para XGBoost\"\"\"\n",
    "        try:\n",
    "            # Usar el optimizador para generar predicciones\n",
    "            predictions, _ = self.optimizer.fit_predict(self.series, horizon, **self.params)\n",
    "            \n",
    "            if predictions is None:\n",
    "                return self._generate_fallback_future(horizon)\n",
    "            \n",
    "            predictions = np.array(predictions)\n",
    "            confidence_lower, confidence_upper = self.generate_confidence_intervals(\n",
    "                predictions, method='adaptive'\n",
    "            )\n",
    "            \n",
    "            return self._create_forecast_dataframe(predictions, confidence_lower, confidence_upper, horizon)\n",
    "            \n",
    "        except Exception as e:\n",
    "            logging.warning(f\"Error en predicciones futuras XGBoost: {e}\")\n",
    "            return self._generate_fallback_future(horizon)\n",
    "    \n",
    "    def _generate_fallback_future(self, horizon):\n",
    "        \"\"\"Predicciones futuras de respaldo usando tendencia simple\"\"\"\n",
    "        try:\n",
    "            # Calcular tendencia simple\n",
    "            recent_values = self.series.tail(12).values\n",
    "            trend = np.polyfit(range(len(recent_values)), recent_values, 1)[0]\n",
    "            last_value = self.series.iloc[-1]\n",
    "            \n",
    "            # Generar predicciones con tendencia\n",
    "            predictions = [last_value + trend * (i + 1) for i in range(horizon)]\n",
    "            predictions = np.maximum(predictions, 0)  # No negativos\n",
    "            \n",
    "            confidence_lower, confidence_upper = self.generate_confidence_intervals(\n",
    "                predictions, method='percentage'\n",
    "            )\n",
    "            \n",
    "            return self._create_forecast_dataframe(predictions, confidence_lower, confidence_upper, horizon)\n",
    "            \n",
    "        except Exception as e:\n",
    "            logging.error(f\"Error en predicciones de respaldo: {e}\")\n",
    "            return None\n",
    "    \n",
    "    def _create_forecast_dataframe(self, predictions, confidence_lower, confidence_upper, horizon):\n",
    "        \"\"\"Crea un DataFrame estructurado con las predicciones\"\"\"\n",
    "        try:\n",
    "            # Asegurar que las predicciones sean no negativas\n",
    "            predictions = np.maximum(predictions, 0)\n",
    "            confidence_lower = np.maximum(confidence_lower, 0)\n",
    "            confidence_upper = np.maximum(confidence_upper, predictions)\n",
    "            \n",
    "            # Crear fechas futuras\n",
    "            start_date = self.series.index[-1] + pd.DateOffset(months=1)\n",
    "            future_dates = pd.date_range(start=start_date, periods=horizon, freq='MS')\n",
    "            \n",
    "            forecast_df = pd.DataFrame({\n",
    "                'yhat': predictions,\n",
    "                'yhat_lower': confidence_lower,\n",
    "                'yhat_upper': confidence_upper\n",
    "            }, index=future_dates)\n",
    "            \n",
    "            return forecast_df\n",
    "            \n",
    "        except Exception as e:\n",
    "            logging.error(f\"Error creando DataFrame de predicciones: {e}\")\n",
    "            return None\n",
    "\n",
    "# =====================\n",
    "# VISUALIZACIÓN MEJORADA Y CORREGIDA\n",
    "# =====================\n",
    "def create_comprehensive_forecast_plot(historical_data, historical_pred, future_forecast, dept, model_name, metrics_row):\n",
    "    \"\"\"\n",
    "    Crea una visualización completa y profesional del pronóstico\n",
    "    \"\"\"\n",
    "    try:\n",
    "        # Crear figura con subplots reorganizados para evitar problemas con tablas\n",
    "        fig = make_subplots(\n",
    "            rows=2, cols=2,\n",
    "            subplot_titles=[\n",
    "                f'Pronóstico de Horas Extra - {dept}',\n",
    "                'Métricas de Calidad del Modelo',\n",
    "                'Análisis de Residuos (Últimos 12 meses)',\n",
    "                'Análisis de Tendencia'\n",
    "            ],\n",
    "            specs=[\n",
    "                [{\"colspan\": 2}, None],\n",
    "                [{}, {}]\n",
    "            ],\n",
    "            row_heights=[0.6, 0.4],\n",
    "            vertical_spacing=0.1,\n",
    "            horizontal_spacing=0.1\n",
    "        )\n",
    "        \n",
    "        # GRÁFICO PRINCIPAL DE PRONÓSTICO (Fila 1, completa)\n",
    "        # Datos históricos reales\n",
    "        fig.add_trace(\n",
    "            go.Scatter(\n",
    "                x=historical_data.index,\n",
    "                y=historical_data.values,\n",
    "                mode='lines+markers',\n",
    "                name='Histórico Real',\n",
    "                line=dict(color='#1f77b4', width=2),\n",
    "                marker=dict(size=4),\n",
    "                hovertemplate='<b>Fecha:</b> %{x}<br><b>Valor Real:</b> %{y:.2f}<extra></extra>'\n",
    "            ),\n",
    "            row=1, col=1\n",
    "        )\n",
    "        \n",
    "        # Predicciones históricas (ajuste del modelo)\n",
    "        if historical_pred is not None and len(historical_pred) > 0:\n",
    "            fig.add_trace(\n",
    "                go.Scatter(\n",
    "                    x=historical_pred.index,\n",
    "                    y=historical_pred['yhat'],\n",
    "                    mode='lines',\n",
    "                    name='Ajuste del Modelo',\n",
    "                    line=dict(color='#ff7f0e', width=2, dash='dash'),\n",
    "                    opacity=0.8,\n",
    "                    hovertemplate='<b>Fecha:</b> %{x}<br><b>Predicción:</b> %{y:.2f}<extra></extra>'\n",
    "                ),\n",
    "                row=1, col=1\n",
    "            )\n",
    "        \n",
    "        # Predicciones futuras\n",
    "        if future_forecast is not None and len(future_forecast) > 0:\n",
    "            fig.add_trace(\n",
    "                go.Scatter(\n",
    "                    x=future_forecast.index,\n",
    "                    y=future_forecast['yhat'],\n",
    "                    mode='lines+markers',\n",
    "                    name='Pronóstico Futuro',\n",
    "                    line=dict(color='#d62728', width=3),\n",
    "                    marker=dict(size=6, symbol='diamond'),\n",
    "                    hovertemplate='<b>Fecha:</b> %{x}<br><b>Pronóstico:</b> %{y:.2f}<extra></extra>'\n",
    "                ),\n",
    "                row=1, col=1\n",
    "            )\n",
    "            \n",
    "            # Intervalo de confianza\n",
    "            fig.add_trace(\n",
    "                go.Scatter(\n",
    "                    x=list(future_forecast.index) + list(future_forecast.index[::-1]),\n",
    "                    y=list(future_forecast['yhat_upper']) + list(future_forecast['yhat_lower'][::-1]),\n",
    "                    fill='toself',\n",
    "                    fillcolor='rgba(214, 39, 40, 0.2)',\n",
    "                    line=dict(color='rgba(255,255,255,0)'),\n",
    "                    hoverinfo=\"skip\",\n",
    "                    showlegend=True,\n",
    "                    name='Intervalo de Confianza 95%'\n",
    "                ),\n",
    "                row=1, col=1\n",
    "            )\n",
    "        \n",
    "        # Línea vertical separando histórico de pronóstico\n",
    "        fig.add_vline(\n",
    "            x=historical_data.index[-1],\n",
    "            line_dash=\"dot\",\n",
    "            line_color=\"gray\",\n",
    "            row=1, col=1\n",
    "        )\n",
    "        \n",
    "        # GRÁFICO DE MÉTRICAS (Fila 2, Columna 1) - Como barras en lugar de tabla\n",
    "        metrics_names = ['MAPE (%)', 'SMAPE (%)', 'RMSE', 'MAE']\n",
    "        metrics_values = [\n",
    "            metrics_row['MAPE'],\n",
    "            metrics_row['SMAPE'],\n",
    "            metrics_row['RMSE'] * 100,  # Escalar RMSE para visualización\n",
    "            metrics_row['MAE'] * 100   # Escalar MAE para visualización\n",
    "        ]\n",
    "        metrics_colors = [\n",
    "            'green' if metrics_row['MAPE'] <= 10 else 'orange' if metrics_row['MAPE'] <= 20 else 'red',\n",
    "            'green' if metrics_row['SMAPE'] <= 10 else 'orange' if metrics_row['SMAPE'] <= 20 else 'red',\n",
    "            'green',\n",
    "            'green'\n",
    "        ]\n",
    "        \n",
    "        fig.add_trace(\n",
    "            go.Bar(\n",
    "                x=metrics_names,\n",
    "                y=metrics_values,\n",
    "                marker_color=metrics_colors,\n",
    "                name='Métricas',\n",
    "                showlegend=False,\n",
    "                hovertemplate='<b>%{x}:</b> %{y:.2f}<extra></extra>'\n",
    "            ),\n",
    "            row=2, col=1\n",
    "        )\n",
    "        \n",
    "        # ANÁLISIS DE RESIDUOS (Fila 2, Columna 2)\n",
    "        if historical_pred is not None and len(historical_data) >= 12 and len(historical_pred) >= 12:\n",
    "            recent_actual = historical_data.tail(12)\n",
    "            recent_pred = historical_pred.tail(12)['yhat']\n",
    "            \n",
    "            # Alinear índices\n",
    "            common_idx = recent_actual.index.intersection(recent_pred.index)\n",
    "            if len(common_idx) > 0:\n",
    "                residuals = recent_actual.loc[common_idx] - recent_pred.loc[common_idx]\n",
    "                \n",
    "                fig.add_trace(\n",
    "                    go.Scatter(\n",
    "                        x=common_idx,\n",
    "                        y=residuals,\n",
    "                        mode='markers+lines',\n",
    "                        name='Residuos',\n",
    "                        line=dict(color='purple'),\n",
    "                        marker=dict(size=6),\n",
    "                        showlegend=False,\n",
    "                        hovertemplate='<b>Fecha:</b> %{x}<br><b>Residuo:</b> %{y:.2f}<extra></extra>'\n",
    "                    ),\n",
    "                    row=2, col=2\n",
    "                )\n",
    "                \n",
    "                # Línea de referencia en cero\n",
    "                fig.add_hline(y=0, line_dash=\"dash\", line_color=\"gray\", row=2, col=2)\n",
    "        \n",
    "        # Configurar layout\n",
    "        fig.update_layout(\n",
    "            height=800,\n",
    "            title=dict(\n",
    "                text=f\"Análisis Completo de Pronóstico - {dept} (Modelo: {model_name})\",\n",
    "                x=0.5,\n",
    "                font=dict(size=16)\n",
    "            ),\n",
    "            showlegend=True,\n",
    "            template=\"plotly_white\",\n",
    "            font=dict(size=10)\n",
    "        )\n",
    "        \n",
    "        # Configurar ejes\n",
    "        fig.update_xaxes(title_text=\"Fecha\", row=1, col=1)\n",
    "        fig.update_yaxes(title_text=\"Horas Extra\", row=1, col=1)\n",
    "        fig.update_xaxes(title_text=\"Métricas\", row=2, col=1)\n",
    "        fig.update_yaxes(title_text=\"Valor\", row=2, col=1)\n",
    "        fig.update_xaxes(title_text=\"Fecha\", row=2, col=2)\n",
    "        fig.update_yaxes(title_text=\"Residuos\", row=2, col=2)\n",
    "        \n",
    "        # Agregar anotaciones con información clave\n",
    "        # Calcular tendencia si hay predicciones futuras\n",
    "        if future_forecast is not None and len(future_forecast) > 1:\n",
    "            trend_values = future_forecast['yhat'].values\n",
    "            trend_change = ((trend_values[-1] - trend_values[0]) / trend_values[0]) * 100 if trend_values[0] > 0 else 0\n",
    "            trend_direction = \"📈 Ascendente\" if trend_change > 2 else \"📉 Descendente\" if trend_change < -2 else \"➡️ Estable\"\n",
    "            \n",
    "            fig.add_annotation(\n",
    "                x=0.02, y=0.98,\n",
    "                xref=\"paper\", yref=\"paper\",\n",
    "                text=f\"<b>Resumen:</b><br>Modelo: {model_name}<br>Calidad: {'🟢 Excelente' if metrics_row['Meets_Target'] else '🟡 Aceptable'}<br>Tendencia: {trend_direction}<br>Cambio: {trend_change:+.1f}%\",\n",
    "                showarrow=False,\n",
    "                align=\"left\",\n",
    "                bgcolor=\"rgba(255,255,255,0.8)\",\n",
    "                bordercolor=\"gray\",\n",
    "                borderwidth=1,\n",
    "                font=dict(size=10)\n",
    "            )\n",
    "        \n",
    "        fig.show()\n",
    "        return fig\n",
    "        \n",
    "    except Exception as e:\n",
    "        logging.error(f\"Error creando visualización para {dept}: {e}\")\n",
    "        # Crear gráfico simple de respaldo\n",
    "        return create_simple_forecast_plot(historical_data, future_forecast, dept, model_name)\n",
    "\n",
    "def create_simple_forecast_plot(historical_data, future_forecast, dept, model_name):\n",
    "    \"\"\"\n",
    "    Crea una visualización simple como respaldo\n",
    "    \"\"\"\n",
    "    try:\n",
    "        fig = go.Figure()\n",
    "        \n",
    "        # Datos históricos\n",
    "        fig.add_trace(\n",
    "            go.Scatter(\n",
    "                x=historical_data.index,\n",
    "                y=historical_data.values,\n",
    "                mode='lines+markers',\n",
    "                name='Histórico Real',\n",
    "                line=dict(color='blue', width=2)\n",
    "            )\n",
    "        )\n",
    "        \n",
    "        # Predicciones futuras\n",
    "        if future_forecast is not None and len(future_forecast) > 0:\n",
    "            fig.add_trace(\n",
    "                go.Scatter(\n",
    "                    x=future_forecast.index,\n",
    "                    y=future_forecast['yhat'],\n",
    "                    mode='lines+markers',\n",
    "                    name='Pronóstico Futuro',\n",
    "                    line=dict(color='red', width=2)\n",
    "                )\n",
    "            )\n",
    "            \n",
    "            # Intervalo de confianza\n",
    "            fig.add_trace(\n",
    "                go.Scatter(\n",
    "                    x=list(future_forecast.index) + list(future_forecast.index[::-1]),\n",
    "                    y=list(future_forecast['yhat_upper']) + list(future_forecast['yhat_lower'][::-1]),\n",
    "                    fill='toself',\n",
    "                    fillcolor='rgba(255, 0, 0, 0.2)',\n",
    "                    line=dict(color='rgba(255,255,255,0)'),\n",
    "                    name='Intervalo de Confianza'\n",
    "                )\n",
    "            )\n",
    "        \n",
    "        fig.update_layout(\n",
    "            title=f\"Pronóstico de Horas Extra - {dept} (Modelo: {model_name})\",\n",
    "            xaxis_title=\"Fecha\",\n",
    "            yaxis_title=\"Horas Extra\",\n",
    "            template=\"plotly_white\"\n",
    "        )\n",
    "        \n",
    "        fig.show()\n",
    "        return fig\n",
    "        \n",
    "    except Exception as e:\n",
    "        logging.error(f\"Error creando gráfico simple para {dept}: {e}\")\n",
    "        return None\n",
    "\n",
    "# =====================\n",
    "# RESUMEN EJECUTIVO MEJORADO\n",
    "# =====================\n",
    "def generate_executive_summary(all_models, all_metrics, all_forecasts):\n",
    "    \"\"\"\n",
    "    Genera un resumen ejecutivo completo con análisis detallado\n",
    "    \"\"\"\n",
    "    try:\n",
    "        summary_data = []\n",
    "        \n",
    "        for dept in all_models.keys():\n",
    "            if dept not in all_metrics or dept not in all_forecasts:\n",
    "                continue\n",
    "                \n",
    "            # Obtener información del mejor modelo\n",
    "            metrics_df = all_metrics[dept]\n",
    "            best_model_row = metrics_df.iloc[0]\n",
    "            \n",
    "            forecast_info = all_forecasts[dept]\n",
    "            future_forecast = forecast_info['future']\n",
    "            \n",
    "            if future_forecast is None or len(future_forecast) == 0:\n",
    "                continue\n",
    "            \n",
    "            predictions = future_forecast['yhat'].values\n",
    "            \n",
    "            # Calcular estadísticas de las predicciones\n",
    "            pred_mean = np.mean(predictions)\n",
    "            pred_trend = \"📈\" if predictions[-1] > predictions[0] else \"📉\" if predictions[-1] < predictions[0] else \"➡️\"\n",
    "            trend_change = ((predictions[-1] - predictions[0]) / predictions[0]) * 100 if predictions[0] > 0 else 0\n",
    "            \n",
    "            # Calcular variabilidad\n",
    "            ci_width = (future_forecast['yhat_upper'] - future_forecast['yhat_lower']).mean()\n",
    "            uncertainty_pct = (ci_width / pred_mean) * 100 if pred_mean > 0 else 0\n",
    "            \n",
    "            summary_data.append({\n",
    "                'Departamento': dept,\n",
    "                'Mejor_Modelo': best_model_row['Model'],\n",
    "                'MAPE (%)': f\"{best_model_row['MAPE']:.2f}\",\n",
    "                'SMAPE (%)': f\"{best_model_row['SMAPE']:.2f}\",\n",
    "                'Score_Compuesto': f\"{best_model_row['Composite_Score']:.4f}\",\n",
    "                'Calidad': '🟢 Excelente' if best_model_row['Meets_Target'] else '🟡 Aceptable',\n",
    "                'Predicción_Promedio': f\"{pred_mean:.1f}\",\n",
    "                'Tendencia': f\"{pred_trend} {trend_change:+.1f}%\",\n",
    "                'Primer_Mes': f\"{predictions[0]:.1f}\",\n",
    "                'Último_Mes': f\"{predictions[-1]:.1f}\",\n",
    "                'Incertidumbre (%)': f\"{uncertainty_pct:.1f}\"\n",
    "            })\n",
    "        \n",
    "        summary_df = pd.DataFrame(summary_data)\n",
    "        \n",
    "        print(\"\\n\" + \"=\"*100)\n",
    "        print(\"📊 RESUMEN EJECUTIVO DE PREDICCIONES DE HORAS EXTRA\")\n",
    "        print(\"=\"*100)\n",
    "        print(summary_df.to_string(index=False))\n",
    "        \n",
    "        # Estadísticas generales\n",
    "        total_depts = len(summary_df)\n",
    "        excellent_models = len([x for x in summary_data if '🟢' in x['Calidad']])\n",
    "        avg_mape = np.mean([float(x['MAPE (%)']) for x in summary_data])\n",
    "        avg_smape = np.mean([float(x['SMAPE (%)']) for x in summary_data])\n",
    "        \n",
    "        print(f\"\\n📈 ESTADÍSTICAS GENERALES:\")\n",
    "        print(f\"   • Total de departamentos analizados: {total_depts}\")\n",
    "        print(f\"   • Modelos con calidad excelente: {excellent_models}/{total_depts} ({(excellent_models/total_depts)*100:.1f}%)\")\n",
    "        print(f\"   • MAPE promedio: {avg_mape:.2f}%\")\n",
    "        print(f\"   • SMAPE promedio: {avg_smape:.2f}%\")\n",
    "        \n",
    "        # Distribución de modelos\n",
    "        model_distribution = summary_df['Mejor_Modelo'].value_counts()\n",
    "        print(f\"\\n🏆 DISTRIBUCIÓN DE MEJORES MODELOS:\")\n",
    "        for model, count in model_distribution.items():\n",
    "            print(f\"   • {model}: {count} departamentos ({(count/total_depts)*100:.1f}%)\")\n",
    "        \n",
    "        return summary_df\n",
    "        \n",
    "    except Exception as e:\n",
    "        logging.error(f\"Error generando resumen ejecutivo: {e}\")\n",
    "        return pd.DataFrame()\n",
    "\n",
    "# =====================\n",
    "# EJECUCIÓN PRINCIPAL\n",
    "# =====================\n",
    "def run_unified_prediction_generation(all_models, all_metrics, horizon=12):\n",
    "    \"\"\"\n",
    "    Ejecuta la generación unificada de predicciones para todos los departamentos\n",
    "    \"\"\"\n",
    "    \n",
    "    print(\"\\n\" + \"=\"*80)\n",
    "    print(\"🔮 GENERACIÓN UNIFICADA DE PREDICCIONES\")\n",
    "    print(\"=\"*80)\n",
    "    \n",
    "    all_forecasts = {}\n",
    "    \n",
    "    for dept in all_models.keys():\n",
    "        print(f\"\\n🔍 Procesando {dept}...\")\n",
    "        \n",
    "        try:\n",
    "            # Obtener datos del departamento\n",
    "            dept_series = (\n",
    "                df_all_data[df_all_data['department'] == dept]\n",
    "                .set_index('ds')['y']\n",
    "                .asfreq('MS')\n",
    "                .interpolate(method='linear')\n",
    "            )\n",
    "            \n",
    "            if len(dept_series) < 24:\n",
    "                logging.warning(f\"Datos insuficientes para {dept}: {len(dept_series)} meses\")\n",
    "                continue\n",
    "            \n",
    "            # Obtener modelo y métricas\n",
    "            model_info = all_models[dept]\n",
    "            metrics_df = all_metrics[dept]\n",
    "            best_model_name = metrics_df.iloc[0]['Model']\n",
    "            best_metrics_row = metrics_df.iloc[0]\n",
    "            \n",
    "            # Crear predictor unificado\n",
    "            predictor = UnifiedPredictor(model_info, best_model_name, dept_series)\n",
    "            \n",
    "            # Generar predicciones históricas\n",
    "            historical_pred = predictor.generate_historical_predictions()\n",
    "            \n",
    "            # Generar predicciones futuras\n",
    "            future_forecast = predictor.generate_future_predictions(horizon)\n",
    "            \n",
    "            if future_forecast is None:\n",
    "                logging.error(f\"No se pudieron generar predicciones para {dept}\")\n",
    "                continue\n",
    "            \n",
    "            # Almacenar resultados\n",
    "            all_forecasts[dept] = {\n",
    "                'historical_pred': historical_pred,\n",
    "                'future': future_forecast,\n",
    "                'model_name': best_model_name,\n",
    "                'metrics': best_metrics_row,\n",
    "                'predictor': predictor\n",
    "            }\n",
    "            \n",
    "            # Crear visualización\n",
    "            fig = create_comprehensive_forecast_plot(\n",
    "                dept_series, historical_pred, future_forecast, \n",
    "                dept, best_model_name, best_metrics_row\n",
    "            )\n",
    "            \n",
    "            print(f\"   ✅ Predicciones generadas exitosamente\")\n",
    "            print(f\"   📊 Modelo seleccionado: {best_model_name}\")\n",
    "            print(f\"   📈 Próximos 3 meses: {future_forecast['yhat'].head(3).round(2).tolist()}\")\n",
    "            print(f\"   🎯 MAPE: {best_metrics_row['MAPE']:.2f}%, SMAPE: {best_metrics_row['SMAPE']:.2f}%\")\n",
    "            \n",
    "        except Exception as e:\n",
    "            logging.error(f\"Error procesando {dept}: {e}\")\n",
    "            continue\n",
    "    \n",
    "    # Generar resumen ejecutivo\n",
    "    summary_df = generate_executive_summary(all_models, all_metrics, all_forecasts)\n",
    "    \n",
    "    return all_forecasts, summary_df\n",
    "\n",
    "# =====================\n",
    "# FUNCIÓN AUXILIAR PARA MOSTRAR RESULTADOS\n",
    "# =====================\n",
    "def display_forecast_summary(all_forecasts):\n",
    "    \"\"\"\n",
    "    Muestra un resumen tabular de todas las predicciones\n",
    "    \"\"\"\n",
    "    try:\n",
    "        summary_data = []\n",
    "        \n",
    "        for dept, forecast_info in all_forecasts.items():\n",
    "            future_forecast = forecast_info['future']\n",
    "            model_name = forecast_info['model_name']\n",
    "            metrics = forecast_info['metrics']\n",
    "            \n",
    "            if future_forecast is not None and len(future_forecast) >= 6:\n",
    "                # Tomar los primeros 6 meses\n",
    "                first_6_months = future_forecast.head(6)\n",
    "                \n",
    "                summary_data.append({\n",
    "                    'Departamento': dept,\n",
    "                    'Modelo': model_name,\n",
    "                    'MAPE': f\"{metrics['MAPE']:.2f}%\",\n",
    "                    'Mes_1': f\"{first_6_months.iloc[0]['yhat']:.1f}\",\n",
    "                    'Mes_2': f\"{first_6_months.iloc[1]['yhat']:.1f}\",\n",
    "                    'Mes_3': f\"{first_6_months.iloc[2]['yhat']:.1f}\",\n",
    "                    'Mes_4': f\"{first_6_months.iloc[3]['yhat']:.1f}\",\n",
    "                    'Mes_5': f\"{first_6_months.iloc[4]['yhat']:.1f}\",\n",
    "                    'Mes_6': f\"{first_6_months.iloc[5]['yhat']:.1f}\",\n",
    "                    'Promedio_6M': f\"{first_6_months['yhat'].mean():.1f}\",\n",
    "                    'Tendencia': '📈' if first_6_months.iloc[-1]['yhat'] > first_6_months.iloc[0]['yhat'] else '📉'\n",
    "                })\n",
    "        \n",
    "        if summary_data:\n",
    "            summary_df = pd.DataFrame(summary_data)\n",
    "            print(\"\\n\" + \"=\"*120)\n",
    "            print(\"📋 RESUMEN DE PREDICCIONES POR DEPARTAMENTO (Próximos 6 meses)\")\n",
    "            print(\"=\"*120)\n",
    "            print(summary_df.to_string(index=False))\n",
    "            print(\"\\n📅 Nota: Los valores corresponden a horas extra predichas por mes\")\n",
    "            \n",
    "            return summary_df\n",
    "        else:\n",
    "            print(\"⚠️ No hay datos de predicciones para mostrar\")\n",
    "            return pd.DataFrame()\n",
    "            \n",
    "    except Exception as e:\n",
    "        logging.error(f\"Error mostrando resumen de predicciones: {e}\")\n",
    "        return pd.DataFrame()\n",
    "\n",
    "# =====================\n",
    "# FUNCIÓN PARA CREAR GRÁFICO CONSOLIDADO\n",
    "# =====================\n",
    "def create_consolidated_forecast_plot(all_forecasts, top_n=6):\n",
    "    \"\"\"\n",
    "    Crea un gráfico consolidado con los departamentos más relevantes\n",
    "    \"\"\"\n",
    "    try:\n",
    "        # Seleccionar los top departamentos por volumen promedio predicho\n",
    "        dept_volumes = {}\n",
    "        for dept, forecast_info in all_forecasts.items():\n",
    "            future_forecast = forecast_info['future']\n",
    "            if future_forecast is not None and len(future_forecast) > 0:\n",
    "                dept_volumes[dept] = future_forecast['yhat'].mean()\n",
    "        \n",
    "        # Ordenar y tomar los top N\n",
    "        top_depts = sorted(dept_volumes.items(), key=lambda x: x[1], reverse=True)[:top_n]\n",
    "        \n",
    "        if not top_depts:\n",
    "            print(\"⚠️ No hay datos suficientes para crear gráfico consolidado\")\n",
    "            return None\n",
    "        \n",
    "        # Crear subplots\n",
    "        fig = make_subplots(\n",
    "            rows=2, cols=3,\n",
    "            subplot_titles=[dept[0] for dept in top_depts],\n",
    "            vertical_spacing=0.12,\n",
    "            horizontal_spacing=0.08\n",
    "        )\n",
    "        \n",
    "        colors = ['#1f77b4', '#ff7f0e', '#2ca02c', '#d62728', '#9467bd', '#8c564b']\n",
    "        \n",
    "        for idx, (dept, _) in enumerate(top_depts):\n",
    "            row = (idx // 3) + 1\n",
    "            col = (idx % 3) + 1\n",
    "            \n",
    "            forecast_info = all_forecasts[dept]\n",
    "            future_forecast = forecast_info['future']\n",
    "            \n",
    "            if future_forecast is not None:\n",
    "                # Predicciones futuras\n",
    "                fig.add_trace(\n",
    "                    go.Scatter(\n",
    "                        x=future_forecast.index,\n",
    "                        y=future_forecast['yhat'],\n",
    "                        mode='lines+markers',\n",
    "                        name=f'{dept}',\n",
    "                        line=dict(color=colors[idx % len(colors)], width=2),\n",
    "                        showlegend=False,\n",
    "                        hovertemplate=f'<b>{dept}</b><br>Fecha: %{{x}}<br>Predicción: %{{y:.1f}}<extra></extra>'\n",
    "                    ),\n",
    "                    row=row, col=col\n",
    "                )\n",
    "                \n",
    "                # Intervalo de confianza\n",
    "                fig.add_trace(\n",
    "                    go.Scatter(\n",
    "                        x=list(future_forecast.index) + list(future_forecast.index[::-1]),\n",
    "                        y=list(future_forecast['yhat_upper']) + list(future_forecast['yhat_lower'][::-1]),\n",
    "                        fill='toself',\n",
    "                        fillcolor=f'rgba{colors[idx % len(colors)][3:-1]}, 0.2)',\n",
    "                        line=dict(color='rgba(255,255,255,0)'),\n",
    "                        hoverinfo=\"skip\",\n",
    "                        showlegend=False\n",
    "                    ),\n",
    "                    row=row, col=col\n",
    "                )\n",
    "        \n",
    "        fig.update_layout(\n",
    "            title=dict(\n",
    "                text=\"🔮 Pronósticos Consolidados - Top Departamentos por Volumen\",\n",
    "                x=0.5,\n",
    "                font=dict(size=16)\n",
    "            ),\n",
    "            height=600,\n",
    "            template=\"plotly_white\"\n",
    "        )\n",
    "        \n",
    "        # Actualizar ejes\n",
    "        for i in range(1, 3):\n",
    "            for j in range(1, 4):\n",
    "                fig.update_xaxes(title_text=\"Fecha\", row=i, col=j)\n",
    "                fig.update_yaxes(title_text=\"Horas Extra\", row=i, col=j)\n",
    "        \n",
    "        fig.show()\n",
    "        return fig\n",
    "        \n",
    "    except Exception as e:\n",
    "        logging.error(f\"Error creando gráfico consolidado: {e}\")\n",
    "        return None\n",
    "\n",
    "# Ejecutar generación unificada de predicciones\n",
    "print(\"🚀 Iniciando generación de predicciones...\")\n",
    "all_forecasts, predictions_summary = run_unified_prediction_generation(all_models, all_metrics, horizon=12)\n",
    "\n",
    "# Mostrar resumen tabular\n",
    "forecast_summary_df = display_forecast_summary(all_forecasts)\n",
    "\n",
    "# Crear gráfico consolidado\n",
    "print(\"\\n🎨 Creando visualización consolidada...\")\n",
    "consolidated_fig = create_consolidated_forecast_plot(all_forecasts, top_n=6)\n",
    "\n",
    "print(f\"\\n✅ Proceso completado exitosamente!\")\n",
    "print(f\"   📊 Departamentos procesados: {len(all_forecasts)}\")\n",
    "print(f\"   🎯 Predicciones generadas para los próximos 12 meses\")\n",
    "print(f\"   📈 Visualizaciones creadas para análisis detallado\")"
   ]
  },
  {
   "cell_type": "markdown",
   "id": "new_metrics",
   "metadata": {},
   "source": [
    "## 6. Guardar Resultados\n",
    "\n",
    "Guardamos los modelos, predicciones y métricas en SQL Server. La tabla Overtime_Predictions incluye datos históricos y predicciones con una columna data_type para distinguir entre \"Histórico\" y \"Forecast\".\n"
   ]
  },
  {
   "cell_type": "code",
   "execution_count": 62,
   "id": "b2c90e4c",
   "metadata": {},
   "outputs": [
    {
     "name": "stdout",
     "output_type": "stream",
     "text": [
      "🚀 Iniciando guardado consistente de predicciones...\n",
      "\n",
      "================================================================================\n",
      "💾 GUARDANDO PREDICCIONES Y MÉTRICAS CONSISTENTES EN SQL SERVER\n",
      "================================================================================\n",
      "🕐 Timestamp de ejecución: 2025-08-14 17:22:09.434578\n",
      "📊 Procesando 6 departamentos...\n",
      "\n",
      "🔍 Procesando Finance...\n",
      "   🏆 Mejor modelo: Exponential_Smoothing\n",
      "   📈 MAPE: 31.09%, SMAPE: 31.01%\n",
      "   💾 Modelo guardado exitosamente\n",
      "   ✅ Métricas preparadas\n",
      "   ✅ 12 predicciones preparadas\n",
      "\n",
      "🔍 Procesando HR...\n",
      "   🏆 Mejor modelo: Exponential_Smoothing\n",
      "   📈 MAPE: 25.83%, SMAPE: 25.56%\n",
      "   💾 Modelo guardado exitosamente\n",
      "   ✅ Métricas preparadas\n",
      "   ✅ 12 predicciones preparadas\n",
      "\n",
      "🔍 Procesando IT...\n",
      "   🏆 Mejor modelo: Exponential_Smoothing\n",
      "   📈 MAPE: 12.29%, SMAPE: 12.74%\n"
     ]
    },
    {
     "name": "stderr",
     "output_type": "stream",
     "text": [
      "2025-08-14 17:22:11,754 - INFO - Prophet no se guarda físicamente para Inventory\n"
     ]
    },
    {
     "name": "stdout",
     "output_type": "stream",
     "text": [
      "   💾 Modelo guardado exitosamente\n",
      "   ✅ Métricas preparadas\n",
      "   ✅ 12 predicciones preparadas\n",
      "\n",
      "🔍 Procesando Inventory...\n",
      "   🏆 Mejor modelo: Prophet\n",
      "   📈 MAPE: 27.51%, SMAPE: 36.47%\n",
      "   ⚠️ Modelo no guardado (Prophet o error)\n",
      "   ✅ Métricas preparadas\n",
      "   ✅ 12 predicciones preparadas\n",
      "\n",
      "🔍 Procesando Marketing...\n",
      "   🏆 Mejor modelo: Exponential_Smoothing\n",
      "   📈 MAPE: 34.43%, SMAPE: 28.91%\n",
      "   💾 Modelo guardado exitosamente\n",
      "   ✅ Métricas preparadas\n",
      "   ✅ 12 predicciones preparadas\n",
      "\n",
      "🔍 Procesando Sales...\n",
      "   🏆 Mejor modelo: Exponential_Smoothing\n",
      "   📈 MAPE: 18.91%, SMAPE: 16.64%\n"
     ]
    },
    {
     "name": "stderr",
     "output_type": "stream",
     "text": [
      "2025-08-14 17:22:12,629 - INFO - Conexión a la base de datos exitosa\n"
     ]
    },
    {
     "name": "stdout",
     "output_type": "stream",
     "text": [
      "   💾 Modelo guardado exitosamente\n",
      "   ✅ Métricas preparadas\n",
      "   ✅ 12 predicciones preparadas\n",
      "\n",
      "📋 Creando DataFrames...\n",
      "   📊 Predicciones: 72 registros\n",
      "   📈 Métricas: 6 registros\n",
      "   💾 Modelos guardados: 5\n",
      "\n",
      "🔌 Conectando a SQL Server...\n",
      "   🏗️ Creando/actualizando tablas...\n",
      "   ✅ Tablas creadas/actualizadas exitosamente\n",
      "   📊 Insertando 72 predicciones...\n"
     ]
    },
    {
     "name": "stderr",
     "output_type": "stream",
     "text": [
      "2025-08-14 17:22:15,424 - INFO - Conexión a la base de datos exitosa\n"
     ]
    },
    {
     "name": "stdout",
     "output_type": "stream",
     "text": [
      "   📈 Insertando 6 métricas...\n",
      "✅ Datos guardados exitosamente en SQL Server\n",
      "   📊 Predicciones insertadas: 72\n",
      "   📈 Métricas insertadas: 6\n",
      "\n",
      "================================================================================\n",
      "📋 RESUMEN DE DATOS GUARDADOS\n",
      "================================================================================\n",
      "\n",
      "🏆 MÉTRICAS DE MODELOS SELECCIONADOS:\n",
      "Departamento                Modelo  MAPE(%)  SMAPE(%)    RMSE     MAE   Calidad  Score\n",
      "     Finance Exponential_Smoothing   31.088    31.007  76.466  48.916 Aceptable  0.910\n",
      "          HR Exponential_Smoothing   25.829    25.557  45.462  34.056 Aceptable  0.831\n",
      "          IT Exponential_Smoothing   12.289    12.735  42.484  32.438 Aceptable  0.481\n",
      "   Inventory               Prophet   27.508    36.475 110.235  83.276 Aceptable  0.686\n",
      "   Marketing Exponential_Smoothing   34.435    28.913  51.612  42.636 Aceptable  0.816\n",
      "       Sales Exponential_Smoothing   18.914    16.644 343.326 292.825 Aceptable  0.542\n",
      "\n",
      "📊 MUESTRA DE PREDICCIONES (Primeros 3 meses por departamento):\n",
      "Departamento      Fecha Predicción IC_Inferior IC_Superior                Modelo\n",
      "     Finance 2025-05-01      122.9        84.3       161.6 Exponential_Smoothing\n",
      "     Finance 2025-06-01      242.0       187.4       296.6 Exponential_Smoothing\n",
      "     Finance 2025-07-01      128.1        61.3       195.0 Exponential_Smoothing\n",
      "          HR 2025-05-01      139.7       104.0       175.5 Exponential_Smoothing\n",
      "          HR 2025-06-01      497.7       447.1       548.2 Exponential_Smoothing\n",
      "          HR 2025-07-01      117.6        55.7       179.6 Exponential_Smoothing\n",
      "          IT 2025-05-01      243.1       191.1       295.1 Exponential_Smoothing\n",
      "          IT 2025-06-01      649.0       575.4       722.5 Exponential_Smoothing\n",
      "          IT 2025-07-01      253.7       163.6       343.8 Exponential_Smoothing\n",
      "   Inventory 2025-05-01      282.4       268.4       296.3               Prophet\n",
      "   Inventory 2025-06-01      922.0       907.0       937.5               Prophet\n",
      "   Inventory 2025-07-01      273.9       260.2       286.8               Prophet\n",
      "   Marketing 2025-05-01      126.5        89.4       163.5 Exponential_Smoothing\n",
      "   Marketing 2025-06-01      448.8       396.4       501.2 Exponential_Smoothing\n",
      "   Marketing 2025-07-01      124.2        60.0       188.4 Exponential_Smoothing\n",
      "\n",
      "📈 ESTADÍSTICAS GENERALES:\n",
      "   • Departamentos procesados: 6\n",
      "   • Total de predicciones: 72\n",
      "   • MAPE promedio: 25.01%\n",
      "   • Modelos con calidad excelente: 0/6\n",
      "\n",
      "🔍 VERIFICANDO DATOS GUARDADOS EN SQL SERVER...\n",
      "✅ Predicciones en BD: 504\n",
      "✅ Métricas en BD: 90\n",
      "\n",
      "📊 Predicciones por departamento:\n",
      "   • Finance: 84 predicciones\n",
      "   • HR: 84 predicciones\n",
      "   • Inventory: 84 predicciones\n",
      "   • IT: 84 predicciones\n",
      "   • Marketing: 84 predicciones\n",
      "\n",
      "🏆 Métricas guardadas:\n",
      "   • Finance: None (MAPE: N/A, Calidad: Aceptable)\n",
      "   • Finance: None (MAPE: N/A, Calidad: Aceptable)\n",
      "   • Finance: None (MAPE: N/A, Calidad: Aceptable)\n",
      "   • Finance: None (MAPE: N/A, Calidad: Aceptable)\n",
      "   • Finance: Exponential Smoothing (MAPE: 2.23%, Calidad: Bueno)\n",
      "\n",
      "🎉 ¡PROCESO COMPLETADO EXITOSAMENTE!\n",
      "✅ Predicciones y métricas guardadas de forma consistente\n",
      "✅ Los datos en SQL Server coinciden con las visualizaciones del módulo 5\n"
     ]
    }
   ],
   "source": [
    "## 6. Guardado de Predicciones y Métricas en SQL Server (CORREGIDO)\n",
    "\n",
    "import pandas as pd\n",
    "import numpy as np\n",
    "import logging\n",
    "from datetime import datetime\n",
    "import joblib\n",
    "import os\n",
    "import warnings\n",
    "from statsmodels.tsa.holtwinters import ExponentialSmoothing\n",
    "from pmdarima import auto_arima\n",
    "from xgboost import XGBRegressor\n",
    "\n",
    "warnings.filterwarnings(\"ignore\")\n",
    "\n",
    "# =====================\n",
    "# FUNCIÓN MEJORADA PARA GUARDAR PREDICCIONES CONSISTENTES\n",
    "# =====================\n",
    "def save_consistent_predictions_and_metrics():\n",
    "    \"\"\"\n",
    "    Guarda las predicciones y métricas ya calculadas en el módulo 5\n",
    "    manteniendo consistencia total con lo mostrado en las visualizaciones\n",
    "    \"\"\"\n",
    "    \n",
    "    print(\"\\n\" + \"=\"*80)\n",
    "    print(\"💾 GUARDANDO PREDICCIONES Y MÉTRICAS CONSISTENTES EN SQL SERVER\")\n",
    "    print(\"=\"*80)\n",
    "    \n",
    "    # Verificar que tenemos los datos necesarios\n",
    "    if not all_forecasts:\n",
    "        logging.error(\"No hay predicciones disponibles para guardar\")\n",
    "        print(\"❌ Error: No hay predicciones disponibles\")\n",
    "        return None, None\n",
    "    \n",
    "    if not all_metrics:\n",
    "        logging.error(\"No hay métricas disponibles para guardar\")\n",
    "        print(\"❌ Error: No hay métricas disponibles\")\n",
    "        return None, None\n",
    "    \n",
    "    # Crear directorio para modelos\n",
    "    os.makedirs('Modelos Entrenados', exist_ok=True)\n",
    "    timestamp = datetime.now()\n",
    "    \n",
    "    predictions_summary = []\n",
    "    metrics_summary = []\n",
    "    models_saved = []\n",
    "    errors = []\n",
    "    \n",
    "    print(f\"🕐 Timestamp de ejecución: {timestamp}\")\n",
    "    print(f\"📊 Procesando {len(all_forecasts)} departamentos...\")\n",
    "    \n",
    "    # =====================\n",
    "    # PROCESAMIENTO POR DEPARTAMENTO\n",
    "    # =====================\n",
    "    for dept in all_forecasts.keys():\n",
    "        try:\n",
    "            print(f\"\\n🔍 Procesando {dept}...\")\n",
    "            \n",
    "            # Obtener datos del departamento\n",
    "            forecast_info = all_forecasts[dept]\n",
    "            metrics_info = all_metrics[dept]\n",
    "            \n",
    "            # Obtener el mejor modelo y sus métricas (ya calculadas en módulo 5)\n",
    "            best_model_row = metrics_info.iloc[0]  # El primer registro es el mejor\n",
    "            best_model_name = best_model_row['Model']\n",
    "            \n",
    "            print(f\"   🏆 Mejor modelo: {best_model_name}\")\n",
    "            print(f\"   📈 MAPE: {best_model_row['MAPE']:.2f}%, SMAPE: {best_model_row['SMAPE']:.2f}%\")\n",
    "            \n",
    "            # =====================\n",
    "            # GUARDAR MODELO FÍSICO\n",
    "            # =====================\n",
    "            try:\n",
    "                model_saved = save_physical_model(dept, best_model_name)\n",
    "                if model_saved:\n",
    "                    models_saved.append(f\"{dept}_{best_model_name}\")\n",
    "                    print(f\"   💾 Modelo guardado exitosamente\")\n",
    "                else:\n",
    "                    print(f\"   ⚠️ Modelo no guardado (Prophet o error)\")\n",
    "            except Exception as e:\n",
    "                logging.warning(f\"Error guardando modelo físico para {dept}: {e}\")\n",
    "                print(f\"   ⚠️ Error guardando modelo: {e}\")\n",
    "            \n",
    "            # =====================\n",
    "            # PREPARAR MÉTRICAS (usando las ya calculadas)\n",
    "            # =====================\n",
    "            metrics_row = {\n",
    "                'timestamp': timestamp,\n",
    "                'department': dept,\n",
    "                'rmse': best_model_row['RMSE'] if pd.notna(best_model_row['RMSE']) else None,\n",
    "                'mae': best_model_row['MAE'] if pd.notna(best_model_row['MAE']) else None,\n",
    "                'smape': best_model_row['SMAPE'] if pd.notna(best_model_row['SMAPE']) else None,\n",
    "                'mape': best_model_row['MAPE'] if pd.notna(best_model_row['MAPE']) else None,\n",
    "                'mase': best_model_row['MASE'] if pd.notna(best_model_row['MASE']) else None,\n",
    "                'model_quality': 'Excelente' if best_model_row['Meets_Target'] else 'Aceptable',\n",
    "                'model_type': best_model_name,\n",
    "                'composite_score': best_model_row['Composite_Score'] if pd.notna(best_model_row['Composite_Score']) else None\n",
    "            }\n",
    "            \n",
    "            metrics_summary.append(metrics_row)\n",
    "            print(f\"   ✅ Métricas preparadas\")\n",
    "            \n",
    "            # =====================\n",
    "            # PREPARAR PREDICCIONES (usando las ya calculadas)\n",
    "            # =====================\n",
    "            future_forecast = forecast_info['future']\n",
    "            \n",
    "            if future_forecast is None or len(future_forecast) == 0:\n",
    "                logging.warning(f\"No hay predicciones futuras para {dept}\")\n",
    "                print(f\"   ⚠️ No hay predicciones futuras disponibles\")\n",
    "                continue\n",
    "            \n",
    "            # Validar y limpiar índice de fechas\n",
    "            future_forecast_clean = future_forecast.copy()\n",
    "            \n",
    "            # Asegurar que el índice sea datetime\n",
    "            if not pd.api.types.is_datetime64_any_dtype(future_forecast_clean.index):\n",
    "                logging.warning(f\"Índice no es datetime para {dept}, reconstruyendo...\")\n",
    "                # Obtener datos originales para calcular próxima fecha\n",
    "                dept_data = df_all_data[df_all_data['department'] == dept].set_index('ds')['y']\n",
    "                last_date = dept_data.index[-1]\n",
    "                new_index = pd.date_range(\n",
    "                    start=last_date + pd.DateOffset(months=1), \n",
    "                    periods=len(future_forecast_clean), \n",
    "                    freq='MS'\n",
    "                )\n",
    "                future_forecast_clean.index = new_index\n",
    "            \n",
    "            # Procesar cada predicción\n",
    "            predictions_count = 0\n",
    "            for date_idx, row in future_forecast_clean.iterrows():\n",
    "                try:\n",
    "                    prediction_date = date_idx.date() if hasattr(date_idx, 'date') else date_idx\n",
    "                    \n",
    "                    prediction_row = {\n",
    "                        'timestamp': timestamp,\n",
    "                        'department': dept,\n",
    "                        'prediction_date': prediction_date,\n",
    "                        'predicted_value': float(row['yhat']) if pd.notna(row['yhat']) else None,\n",
    "                        'confidence_lower': float(row['yhat_lower']) if pd.notna(row['yhat_lower']) else None,\n",
    "                        'confidence_upper': float(row['yhat_upper']) if pd.notna(row['yhat_upper']) else None,\n",
    "                        'model_used': best_model_name\n",
    "                    }\n",
    "                    \n",
    "                    # Validar que los valores sean finitos\n",
    "                    for key in ['predicted_value', 'confidence_lower', 'confidence_upper']:\n",
    "                        if prediction_row[key] is not None and not np.isfinite(prediction_row[key]):\n",
    "                            prediction_row[key] = None\n",
    "                    \n",
    "                    predictions_summary.append(prediction_row)\n",
    "                    predictions_count += 1\n",
    "                    \n",
    "                except Exception as e:\n",
    "                    logging.error(f\"Error procesando predicción para {dept} en fecha {date_idx}: {e}\")\n",
    "                    continue\n",
    "            \n",
    "            print(f\"   ✅ {predictions_count} predicciones preparadas\")\n",
    "            \n",
    "        except Exception as e:\n",
    "            logging.error(f\"Error procesando departamento {dept}: {e}\")\n",
    "            errors.append(dept)\n",
    "            print(f\"   ❌ Error procesando {dept}: {e}\")\n",
    "            continue\n",
    "    \n",
    "    # =====================\n",
    "    # CREAR DATAFRAMES\n",
    "    # =====================\n",
    "    print(f\"\\n📋 Creando DataFrames...\")\n",
    "    predictions_df = pd.DataFrame(predictions_summary)\n",
    "    metrics_df = pd.DataFrame(metrics_summary)\n",
    "    \n",
    "    print(f\"   📊 Predicciones: {len(predictions_df)} registros\")\n",
    "    print(f\"   📈 Métricas: {len(metrics_df)} registros\")\n",
    "    print(f\"   💾 Modelos guardados: {len(models_saved)}\")\n",
    "    \n",
    "    if errors:\n",
    "        print(f\"   ⚠️ Errores en: {', '.join(errors)}\")\n",
    "    \n",
    "    # =====================\n",
    "    # GUARDAR EN BASE DE DATOS\n",
    "    # =====================\n",
    "    try:\n",
    "        print(f\"\\n🔌 Conectando a SQL Server...\")\n",
    "        conn = get_db_connection()\n",
    "        cursor = conn.cursor()\n",
    "        \n",
    "        # Crear/actualizar tablas\n",
    "        create_enhanced_tables(cursor)\n",
    "        \n",
    "        # Insertar datos\n",
    "        inserted_predictions, inserted_metrics = insert_data_to_db(\n",
    "            cursor, predictions_df, metrics_df\n",
    "        )\n",
    "        \n",
    "        conn.commit()\n",
    "        print(f\"✅ Datos guardados exitosamente en SQL Server\")\n",
    "        print(f\"   📊 Predicciones insertadas: {inserted_predictions}\")\n",
    "        print(f\"   📈 Métricas insertadas: {inserted_metrics}\")\n",
    "        \n",
    "        # Mostrar resumen\n",
    "        display_save_summary(predictions_df, metrics_df)\n",
    "        \n",
    "        return predictions_df, metrics_df\n",
    "        \n",
    "    except Exception as e:\n",
    "        conn.rollback()\n",
    "        logging.error(f\"Error guardando en base de datos: {e}\")\n",
    "        print(f\"❌ Error guardando en SQL Server: {e}\")\n",
    "        raise\n",
    "    finally:\n",
    "        conn.close()\n",
    "\n",
    "def save_physical_model(dept, model_name):\n",
    "    \"\"\"\n",
    "    Guarda el modelo físico entrenado\n",
    "    \"\"\"\n",
    "    try:\n",
    "        # Obtener datos del departamento\n",
    "        dept_data = df_all_data[df_all_data['department'] == dept].set_index('ds')['y']\n",
    "        dept_data_clean = dept_data.fillna(dept_data.median()).interpolate(method='linear')\n",
    "        \n",
    "        model_path = f'Modelos Entrenados/overtime_forecast_model_{dept}_{model_name}.pkl'\n",
    "        \n",
    "        if model_name == 'ARIMA':\n",
    "            # Re-entrenar ARIMA para guardar\n",
    "            model = auto_arima(\n",
    "                dept_data_clean, \n",
    "                seasonal=False, \n",
    "                stepwise=True, \n",
    "                suppress_warnings=True, \n",
    "                error_action='ignore'\n",
    "            )\n",
    "            joblib.dump(model, model_path)\n",
    "            return True\n",
    "            \n",
    "        elif model_name == 'Exponential_Smoothing':\n",
    "            # Re-entrenar Exponential Smoothing\n",
    "            model = ExponentialSmoothing(\n",
    "                dept_data_clean, \n",
    "                trend='add', \n",
    "                seasonal='add', \n",
    "                seasonal_periods=12\n",
    "            ).fit()\n",
    "            joblib.dump(model, model_path)\n",
    "            return True\n",
    "            \n",
    "        elif model_name == 'XGBoost':\n",
    "            # Re-entrenar XGBoost\n",
    "            def create_lag_features_simple(series, n_lags=6):\n",
    "                df = pd.DataFrame({'y': series})\n",
    "                for i in range(1, n_lags + 1):\n",
    "                    df[f'lag_{i}'] = df['y'].shift(i)\n",
    "                df['month'] = series.index.month\n",
    "                df['quarter'] = series.index.quarter\n",
    "                return df.dropna()\n",
    "            \n",
    "            df_features = create_lag_features_simple(dept_data_clean)\n",
    "            X = df_features.drop('y', axis=1).values\n",
    "            y = df_features['y'].values\n",
    "            \n",
    "            model = XGBRegressor(n_estimators=100, random_state=42)\n",
    "            model.fit(X, y)\n",
    "            joblib.dump(model, model_path)\n",
    "            return True\n",
    "            \n",
    "        elif model_name == 'Prophet':\n",
    "            # Prophet no se guarda por problemas de serialización\n",
    "            logging.info(f\"Prophet no se guarda físicamente para {dept}\")\n",
    "            return False\n",
    "            \n",
    "        else:\n",
    "            logging.warning(f\"Tipo de modelo desconocido: {model_name}\")\n",
    "            return False\n",
    "            \n",
    "    except Exception as e:\n",
    "        logging.error(f\"Error guardando modelo físico {model_name} para {dept}: {e}\")\n",
    "        return False\n",
    "\n",
    "def create_enhanced_tables(cursor):\n",
    "    \"\"\"\n",
    "    Crea o actualiza las tablas en SQL Server con estructura mejorada\n",
    "    \"\"\"\n",
    "    try:\n",
    "        print(\"   🏗️ Creando/actualizando tablas...\")\n",
    "        \n",
    "        # Tabla de predicciones mejorada\n",
    "        cursor.execute(\"\"\"\n",
    "            IF NOT EXISTS (SELECT * FROM sys.tables WHERE name = 'Overtime_Predictions')\n",
    "            BEGIN\n",
    "                CREATE TABLE Overtime_Predictions (\n",
    "                    id INT IDENTITY(1,1) PRIMARY KEY,\n",
    "                    timestamp DATETIME NOT NULL,\n",
    "                    department VARCHAR(100) NOT NULL,\n",
    "                    prediction_date DATE NOT NULL,\n",
    "                    predicted_value FLOAT,\n",
    "                    confidence_lower FLOAT,\n",
    "                    confidence_upper FLOAT,\n",
    "                    model_used VARCHAR(50),\n",
    "                    created_at DATETIME DEFAULT GETDATE()\n",
    "                )\n",
    "                \n",
    "                CREATE INDEX IX_Overtime_Predictions_Dept_Date \n",
    "                ON Overtime_Predictions (department, prediction_date)\n",
    "            END\n",
    "        \"\"\")\n",
    "        \n",
    "        # Tabla de métricas mejorada\n",
    "        cursor.execute(\"\"\"\n",
    "            IF NOT EXISTS (SELECT * FROM sys.tables WHERE name = 'ML_Model_Metrics_Overtime_Predictions')\n",
    "            BEGIN\n",
    "                CREATE TABLE ML_Model_Metrics_Overtime_Predictions (\n",
    "                    id INT IDENTITY(1,1) PRIMARY KEY,\n",
    "                    timestamp DATETIME NOT NULL,\n",
    "                    department VARCHAR(100) NOT NULL,\n",
    "                    rmse FLOAT,\n",
    "                    mae FLOAT,\n",
    "                    smape FLOAT,\n",
    "                    mape FLOAT,\n",
    "                    mase FLOAT,\n",
    "                    model_quality VARCHAR(50),\n",
    "                    model_type VARCHAR(50),\n",
    "                    composite_score FLOAT,\n",
    "                    created_at DATETIME DEFAULT GETDATE()\n",
    "                )\n",
    "                \n",
    "                CREATE INDEX IX_ML_Metrics_Dept \n",
    "                ON ML_Model_Metrics_Overtime_Predictions (department)\n",
    "            END\n",
    "        \"\"\")\n",
    "        \n",
    "        # Verificar y agregar columnas faltantes\n",
    "        cursor.execute(\"\"\"\n",
    "            IF EXISTS (SELECT * FROM sys.tables WHERE name = 'Overtime_Predictions')\n",
    "            BEGIN\n",
    "                IF NOT EXISTS (SELECT * FROM sys.columns \n",
    "                               WHERE object_id = OBJECT_ID('Overtime_Predictions') \n",
    "                               AND name = 'model_used')\n",
    "                BEGIN\n",
    "                    ALTER TABLE Overtime_Predictions\n",
    "                    ADD model_used VARCHAR(50)\n",
    "                END\n",
    "                \n",
    "                IF NOT EXISTS (SELECT * FROM sys.columns \n",
    "                               WHERE object_id = OBJECT_ID('Overtime_Predictions') \n",
    "                               AND name = 'created_at')\n",
    "                BEGIN\n",
    "                    ALTER TABLE Overtime_Predictions\n",
    "                    ADD created_at DATETIME DEFAULT GETDATE()\n",
    "                END\n",
    "            END\n",
    "        \"\"\")\n",
    "        \n",
    "        cursor.execute(\"\"\"\n",
    "            IF EXISTS (SELECT * FROM sys.tables WHERE name = 'ML_Model_Metrics_Overtime_Predictions')\n",
    "            BEGIN\n",
    "                IF NOT EXISTS (SELECT * FROM sys.columns \n",
    "                               WHERE object_id = OBJECT_ID('ML_Model_Metrics_Overtime_Predictions') \n",
    "                               AND name = 'composite_score')\n",
    "                BEGIN\n",
    "                    ALTER TABLE ML_Model_Metrics_Overtime_Predictions\n",
    "                    ADD composite_score FLOAT\n",
    "                END\n",
    "                \n",
    "                IF NOT EXISTS (SELECT * FROM sys.columns \n",
    "                               WHERE object_id = OBJECT_ID('ML_Model_Metrics_Overtime_Predictions') \n",
    "                               AND name = 'created_at')\n",
    "                BEGIN\n",
    "                    ALTER TABLE ML_Model_Metrics_Overtime_Predictions\n",
    "                    ADD created_at DATETIME DEFAULT GETDATE()\n",
    "                END\n",
    "                \n",
    "                IF NOT EXISTS (SELECT * FROM sys.columns \n",
    "                               WHERE object_id = OBJECT_ID('ML_Model_Metrics_Overtime_Predictions') \n",
    "                               AND name = 'mape')\n",
    "                BEGIN\n",
    "                    ALTER TABLE ML_Model_Metrics_Overtime_Predictions\n",
    "                    ADD mape FLOAT\n",
    "                END\n",
    "                \n",
    "                IF NOT EXISTS (SELECT * FROM sys.columns \n",
    "                               WHERE object_id = OBJECT_ID('ML_Model_Metrics_Overtime_Predictions') \n",
    "                               AND name = 'model_type')\n",
    "                BEGIN\n",
    "                    ALTER TABLE ML_Model_Metrics_Overtime_Predictions\n",
    "                    ADD model_type VARCHAR(50)\n",
    "                END\n",
    "            END\n",
    "        \"\"\")\n",
    "        \n",
    "        print(\"   ✅ Tablas creadas/actualizadas exitosamente\")\n",
    "        \n",
    "    except Exception as e:\n",
    "        logging.error(f\"Error creando tablas: {e}\")\n",
    "        print(f\"   ❌ Error creando tablas: {e}\")\n",
    "        raise\n",
    "\n",
    "def insert_data_to_db(cursor, predictions_df, metrics_df):\n",
    "    \"\"\"\n",
    "    Inserta los datos en las tablas de SQL Server\n",
    "    \"\"\"\n",
    "    inserted_predictions = 0\n",
    "    inserted_metrics = 0\n",
    "    \n",
    "    try:\n",
    "        # Insertar predicciones\n",
    "        if not predictions_df.empty:\n",
    "            print(f\"   📊 Insertando {len(predictions_df)} predicciones...\")\n",
    "            for _, row in predictions_df.iterrows():\n",
    "                try:\n",
    "                    cursor.execute(\"\"\"\n",
    "                        INSERT INTO Overtime_Predictions \n",
    "                        (timestamp, department, prediction_date, predicted_value, \n",
    "                         confidence_lower, confidence_upper, model_used)\n",
    "                        VALUES (%s, %s, %s, %s, %s, %s, %s)\n",
    "                    \"\"\", (\n",
    "                        row['timestamp'],\n",
    "                        row['department'],\n",
    "                        row['prediction_date'],\n",
    "                        row['predicted_value'],\n",
    "                        row['confidence_lower'],\n",
    "                        row['confidence_upper'],\n",
    "                        row['model_used']\n",
    "                    ))\n",
    "                    inserted_predictions += 1\n",
    "                except Exception as e:\n",
    "                    logging.error(f\"Error insertando predicción para {row['department']}: {e}\")\n",
    "                    continue\n",
    "        \n",
    "        # Insertar métricas\n",
    "        if not metrics_df.empty:\n",
    "            print(f\"   📈 Insertando {len(metrics_df)} métricas...\")\n",
    "            for _, row in metrics_df.iterrows():\n",
    "                try:\n",
    "                    cursor.execute(\"\"\"\n",
    "                        INSERT INTO ML_Model_Metrics_Overtime_Predictions \n",
    "                        (timestamp, department, rmse, mae, smape, mape, mase, \n",
    "                         model_quality, model_type, composite_score)\n",
    "                        VALUES (%s, %s, %s, %s, %s, %s, %s, %s, %s, %s)\n",
    "                    \"\"\", (\n",
    "                        row['timestamp'],\n",
    "                        row['department'],\n",
    "                        row['rmse'],\n",
    "                        row['mae'],\n",
    "                        row['smape'],\n",
    "                        row['mape'],\n",
    "                        row['mase'],\n",
    "                        row['model_quality'],\n",
    "                        row['model_type'],\n",
    "                        row['composite_score']\n",
    "                    ))\n",
    "                    inserted_metrics += 1\n",
    "                except Exception as e:\n",
    "                    logging.error(f\"Error insertando métricas para {row['department']}: {e}\")\n",
    "                    continue\n",
    "        \n",
    "        return inserted_predictions, inserted_metrics\n",
    "        \n",
    "    except Exception as e:\n",
    "        logging.error(f\"Error insertando datos: {e}\")\n",
    "        raise\n",
    "\n",
    "def display_save_summary(predictions_df, metrics_df):\n",
    "    \"\"\"\n",
    "    Muestra un resumen de los datos guardados\n",
    "    \"\"\"\n",
    "    print(f\"\\n\" + \"=\"*80)\n",
    "    print(f\"📋 RESUMEN DE DATOS GUARDADOS\")\n",
    "    print(f\"=\"*80)\n",
    "    \n",
    "    if not metrics_df.empty:\n",
    "        print(f\"\\n🏆 MÉTRICAS DE MODELOS SELECCIONADOS:\")\n",
    "        display_metrics = metrics_df[[\n",
    "            'department', 'model_type', 'mape', 'smape', \n",
    "            'rmse', 'mae', 'model_quality', 'composite_score'\n",
    "        ]].copy()\n",
    "        display_metrics.columns = [\n",
    "            'Departamento', 'Modelo', 'MAPE(%)', 'SMAPE(%)', \n",
    "            'RMSE', 'MAE', 'Calidad', 'Score'\n",
    "        ]\n",
    "        print(display_metrics.to_string(index=False, float_format='%.3f'))\n",
    "    \n",
    "    if not predictions_df.empty:\n",
    "        print(f\"\\n📊 MUESTRA DE PREDICCIONES (Primeros 3 meses por departamento):\")\n",
    "        sample_predictions = []\n",
    "        for dept in predictions_df['department'].unique()[:5]:  # Mostrar solo 5 departamentos\n",
    "            dept_preds = predictions_df[predictions_df['department'] == dept].head(3)\n",
    "            for _, row in dept_preds.iterrows():\n",
    "                sample_predictions.append({\n",
    "                    'Departamento': row['department'],\n",
    "                    'Fecha': row['prediction_date'],\n",
    "                    'Predicción': f\"{row['predicted_value']:.1f}\" if pd.notna(row['predicted_value']) else 'N/A',\n",
    "                    'IC_Inferior': f\"{row['confidence_lower']:.1f}\" if pd.notna(row['confidence_lower']) else 'N/A',\n",
    "                    'IC_Superior': f\"{row['confidence_upper']:.1f}\" if pd.notna(row['confidence_upper']) else 'N/A',\n",
    "                    'Modelo': row['model_used']\n",
    "                })\n",
    "        \n",
    "        if sample_predictions:\n",
    "            sample_df = pd.DataFrame(sample_predictions)\n",
    "            print(sample_df.to_string(index=False))\n",
    "    \n",
    "    # Estadísticas generales\n",
    "    total_depts = len(predictions_df['department'].unique()) if not predictions_df.empty else 0\n",
    "    total_predictions = len(predictions_df) if not predictions_df.empty else 0\n",
    "    avg_mape = metrics_df['mape'].mean() if not metrics_df.empty and 'mape' in metrics_df.columns else 0\n",
    "    \n",
    "    print(f\"\\n📈 ESTADÍSTICAS GENERALES:\")\n",
    "    print(f\"   • Departamentos procesados: {total_depts}\")\n",
    "    print(f\"   • Total de predicciones: {total_predictions}\")\n",
    "    print(f\"   • MAPE promedio: {avg_mape:.2f}%\")\n",
    "    \n",
    "    if not metrics_df.empty:\n",
    "        excellent_count = (metrics_df['model_quality'] == 'Excelente').sum()\n",
    "        print(f\"   • Modelos con calidad excelente: {excellent_count}/{len(metrics_df)}\")\n",
    "\n",
    "def verify_saved_data():\n",
    "    \"\"\"\n",
    "    Verifica que los datos se hayan guardado correctamente\n",
    "    \"\"\"\n",
    "    try:\n",
    "        print(f\"\\n🔍 VERIFICANDO DATOS GUARDADOS EN SQL SERVER...\")\n",
    "        \n",
    "        conn = get_db_connection()\n",
    "        cursor = conn.cursor()\n",
    "        \n",
    "        # Verificar predicciones\n",
    "        cursor.execute(\"SELECT COUNT(*) FROM Overtime_Predictions\")\n",
    "        pred_count = cursor.fetchone()[0]\n",
    "        \n",
    "        cursor.execute(\"\"\"\n",
    "            SELECT department, COUNT(*) as predictions_count \n",
    "            FROM Overtime_Predictions \n",
    "            GROUP BY department \n",
    "            ORDER BY predictions_count DESC\n",
    "        \"\"\")\n",
    "        dept_counts = cursor.fetchall()\n",
    "        \n",
    "        # Verificar métricas\n",
    "        cursor.execute(\"SELECT COUNT(*) FROM ML_Model_Metrics_Overtime_Predictions\")\n",
    "        metrics_count = cursor.fetchone()[0]\n",
    "        \n",
    "        cursor.execute(\"\"\"\n",
    "            SELECT department, model_type, mape, model_quality\n",
    "            FROM ML_Model_Metrics_Overtime_Predictions \n",
    "            ORDER BY department\n",
    "        \"\"\")\n",
    "        metrics_data = cursor.fetchall()\n",
    "        \n",
    "        print(f\"✅ Predicciones en BD: {pred_count}\")\n",
    "        print(f\"✅ Métricas en BD: {metrics_count}\")\n",
    "        \n",
    "        if dept_counts:\n",
    "            print(f\"\\n📊 Predicciones por departamento:\")\n",
    "            for dept, count in dept_counts[:5]:  # Top 5\n",
    "                print(f\"   • {dept}: {count} predicciones\")\n",
    "        \n",
    "        if metrics_data:\n",
    "            print(f\"\\n🏆 Métricas guardadas:\")\n",
    "            for dept, model, mape, quality in metrics_data[:5]:  # Top 5\n",
    "                mape_str = f\"{mape:.2f}%\" if mape else \"N/A\"\n",
    "                print(f\"   • {dept}: {model} (MAPE: {mape_str}, Calidad: {quality})\")\n",
    "        \n",
    "        conn.close()\n",
    "        \n",
    "    except Exception as e:\n",
    "        logging.error(f\"Error verificando datos guardados: {e}\")\n",
    "        print(f\"❌ Error verificando datos: {e}\")\n",
    "\n",
    "# =====================\n",
    "# EJECUCIÓN PRINCIPAL\n",
    "# =====================\n",
    "print(\"🚀 Iniciando guardado consistente de predicciones...\")\n",
    "\n",
    "try:\n",
    "    # Guardar predicciones y métricas consistentes\n",
    "    predictions_saved_df, metrics_saved_df = save_consistent_predictions_and_metrics()\n",
    "    \n",
    "    # Verificar que se guardaron correctamente\n",
    "    verify_saved_data()\n",
    "    \n",
    "    print(f\"\\n🎉 ¡PROCESO COMPLETADO EXITOSAMENTE!\")\n",
    "    print(f\"✅ Predicciones y métricas guardadas de forma consistente\")\n",
    "    print(f\"✅ Los datos en SQL Server coinciden con las visualizaciones del módulo 5\")\n",
    "    \n",
    "except Exception as e:\n",
    "    print(f\"\\n❌ ERROR EN EL PROCESO DE GUARDADO:\")\n",
    "    print(f\"   {e}\")\n",
    "    logging.error(f\"Error en proceso principal de guardado: {e}\")"
   ]
  }
 ],
 "metadata": {
  "kernelspec": {
   "display_name": "Maestro_Yoda",
   "language": "python",
   "name": "python3"
  },
  "language_info": {
   "codemirror_mode": {
    "name": "ipython",
    "version": 3
   },
   "file_extension": ".py",
   "mimetype": "text/x-python",
   "name": "python",
   "nbconvert_exporter": "python",
   "pygments_lexer": "ipython3",
   "version": "3.10.11"
  }
 },
 "nbformat": 4,
 "nbformat_minor": 5
}
