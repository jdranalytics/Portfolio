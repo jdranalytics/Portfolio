{
 "cells": [
  {
   "cell_type": "markdown",
   "id": "300023e6",
   "metadata": {},
   "source": [
    "# HR Overtime Prediction and Forecasting\n",
    "## Predicción y Pronóstico de Horas Extra de RRHH\n",
    "\n",
    "Este notebook implementa un pipeline automatizado para el pronóstico de horas extra por departamento, utilizando datos históricos almacenados en SQL Server. El flujo incluye:\n",
    "\n",
    "- **Carga y limpieza de datos:** Importación desde SQL Server, agregación quincenal, interpolación de valores faltantes y detección/corrección de outliers con el filtro de Hampel.\n",
    "- **Análisis exploratorio y descomposición:** Selección automática del tipo de descomposición (aditiva o multiplicativa) según la varianza de los residuos y análisis de estacionariedad.\n",
    "- **Entrenamiento y comparación de modelos:** Se entrenan y comparan cuatro modelos de forecasting:\n",
    "  - ARIMA (selección automática de parámetros)\n",
    "  - Prophet (con modo de estacionalidad dinámico y silenciamiento de outputs)\n",
    "  - Holt-Winters (Suavización Exponencial)\n",
    "  - XGBoost (con variables de rezago y codificación seno/coseno del mes para capturar estacionalidad)\n",
    "- **Selección automática del mejor modelo:** Basada en métricas de validación cruzada (RMSE, MAPE, etc.), con lógica para evitar modelos de línea plana.\n",
    "- **Generación de pronósticos:** Predicción de las próximas 12 quincenas (6 meses) con intervalos de confianza, usando solo el mejor modelo por departamento.\n",
    "- **Visualización interactiva:** Gráficas con Plotly para históricos, descomposición y pronóstico.\n",
    "- **Trazabilidad y auditoría:** Almacenamiento de modelos, métricas y predicciones en SQL Server para seguimiento y control.\n",
    "- **Outputs limpios:** El notebook suprime mensajes innecesarios, especialmente de Prophet, y utiliza logging para trazabilidad.\n",
    "\n",
    "**Objetivo:** Proveer pronósticos robustos y auditables de horas extra, minimizando la intervención manual y maximizando la calidad y trazabilidad del proceso analítico."
   ]
  },
  {
   "cell_type": "markdown",
   "id": "8ff71e94",
   "metadata": {},
   "source": [
    "## 1. Importar Librerías y Configuración\n",
    "\n",
    "Importamos las librerías necesarias para análisis, modelado, visualización y conexión con la base de datos. Configuramos el logging para trazabilidad y suprimimos advertencias innecesarias para mantener un output limpio."
   ]
  },
  {
   "cell_type": "code",
   "execution_count": 25,
   "id": "fede85d1",
   "metadata": {},
   "outputs": [],
   "source": [
    "import pandas as pd\n",
    "import numpy as np\n",
    "import pymssql\n",
    "import logging\n",
    "import datetime\n",
    "from datetime import datetime\n",
    "import os\n",
    "from statsmodels.tsa.seasonal import seasonal_decompose\n",
    "from statsmodels.tsa.holtwinters import ExponentialSmoothing\n",
    "from statsmodels.tsa.stattools import adfuller\n",
    "from pmdarima import auto_arima\n",
    "from prophet import Prophet\n",
    "from sklearn.metrics import mean_squared_error, mean_absolute_error, mean_absolute_percentage_error\n",
    "from sklearn.model_selection import TimeSeriesSplit\n",
    "from scipy.stats import median_abs_deviation\n",
    "import joblib\n",
    "import plotly.express as px\n",
    "import plotly.graph_objects as go\n",
    "from plotly.subplots import make_subplots\n",
    "import warnings\n",
    "from xgboost import XGBRegressor\n",
    "import contextlib\n",
    "import sys\n",
    "import io\n",
    "\n",
    "# Configurar advertencias y logging\n",
    "warnings.filterwarnings(\"ignore\")\n",
    "logging.basicConfig(\n",
    "    level=logging.INFO,\n",
    "    format='%(asctime)s - %(levelname)s - %(message)s',\n",
    "    handlers=[\n",
    "        logging.StreamHandler(),\n",
    "        logging.FileHandler('overtime_forecast.log')\n",
    "    ]\n",
    ")"
   ]
  },
  {
   "cell_type": "markdown",
   "id": "a04f107c",
   "metadata": {},
   "source": [
    "## 2. Conectar a la Base de Datos\n",
    "Establecemos una conexión segura a SQL Server para cargar datos históricos y almacenar resultados."
   ]
  },
  {
   "cell_type": "code",
   "execution_count": 26,
   "id": "d1955ac3",
   "metadata": {},
   "outputs": [],
   "source": [
    "def get_db_connection():\n",
    "    SQL_SERVER = \"172.28.192.1:50121\"\n",
    "    SQL_DB = \"HR_Analytics\"\n",
    "    SQL_USER = \"sa\"\n",
    "    SQL_PASSWORD = \"123456\"\n",
    "    try:\n",
    "        conn = pymssql.connect(\n",
    "            server=SQL_SERVER,\n",
    "            database=SQL_DB,\n",
    "            user=SQL_USER,\n",
    "            password=SQL_PASSWORD\n",
    "        )\n",
    "        logging.info(\"Conexión a la base de datos exitosa\")\n",
    "        return conn\n",
    "    except Exception as e:\n",
    "        logging.error(f\"Error de conexión a la base de datos: {e}\")\n",
    "        raise"
   ]
  },
  {
   "cell_type": "markdown",
   "id": "8f66e5fb",
   "metadata": {},
   "source": [
    "## 3. Cargar y Procesar Datos Históricos\n",
    "\n",
    "Cargamos los datos históricos con `work_date < 2025-05-04`, los agregamos quincenalmente y manejamos datos faltantes con interpolación. Se aplica un filtrado de Hampel para detectar y corregir outliers. Finalmente, se realiza una descomposición de series de tiempo, seleccionando automáticamente el modelo (aditivo o multiplicativo) que mejor se ajuste a los datos según la varianza de los residuos."
   ]
  },
  {
   "cell_type": "code",
   "execution_count": 27,
   "id": "615deef2",
   "metadata": {},
   "outputs": [
    {
     "name": "stderr",
     "output_type": "stream",
     "text": [
      "2025-08-13 16:26:25,671 - INFO - Conexión a la base de datos exitosa\n",
      "2025-08-13 16:26:33,666 - INFO - Datos cargados: 420 registros\n",
      "2025-08-13 16:26:33,666 - INFO - Datos cargados: 420 registros\n",
      "2025-08-13 16:26:33,752 - WARNING - Outliers detectados en Finance:\n",
      "   department         ds       y\n",
      "11    Finance 2024-06-02   61.74\n",
      "12    Finance 2024-06-16  118.32\n",
      "13    Finance 2024-06-30   74.01\n",
      "21    Finance 2024-10-20   59.40\n",
      "25    Finance 2024-12-15  107.94\n",
      "26    Finance 2024-12-29   98.50\n",
      "2025-08-13 16:26:33,765 - WARNING - Outliers detectados en HR:\n",
      "   department         ds       y\n",
      "36         HR 2023-12-31    7.85\n",
      "47         HR 2024-06-02   99.88\n",
      "48         HR 2024-06-16  150.72\n",
      "49         HR 2024-06-30   91.51\n",
      "60         HR 2024-12-01   88.00\n",
      "61         HR 2024-12-15  151.65\n",
      "62         HR 2024-12-29   93.23\n",
      "2025-08-13 16:26:33,752 - WARNING - Outliers detectados en Finance:\n",
      "   department         ds       y\n",
      "11    Finance 2024-06-02   61.74\n",
      "12    Finance 2024-06-16  118.32\n",
      "13    Finance 2024-06-30   74.01\n",
      "21    Finance 2024-10-20   59.40\n",
      "25    Finance 2024-12-15  107.94\n",
      "26    Finance 2024-12-29   98.50\n",
      "2025-08-13 16:26:33,765 - WARNING - Outliers detectados en HR:\n",
      "   department         ds       y\n",
      "36         HR 2023-12-31    7.85\n",
      "47         HR 2024-06-02   99.88\n",
      "48         HR 2024-06-16  150.72\n",
      "49         HR 2024-06-30   91.51\n",
      "60         HR 2024-12-01   88.00\n",
      "61         HR 2024-12-15  151.65\n",
      "62         HR 2024-12-29   93.23\n",
      "2025-08-13 16:26:33,780 - WARNING - Outliers detectados en IT:\n",
      "    department         ds       y\n",
      "72          IT 2023-12-31   38.47\n",
      "83          IT 2024-06-02  192.24\n",
      "84          IT 2024-06-16  258.99\n",
      "85          IT 2024-06-30  214.20\n",
      "96          IT 2024-12-01  236.99\n",
      "97          IT 2024-12-15  352.79\n",
      "98          IT 2024-12-29  262.22\n",
      "107         IT 2025-05-04   39.76\n",
      "2025-08-13 16:26:33,795 - WARNING - Outliers detectados en Inventory:\n",
      "    department         ds       y\n",
      "108  Inventory 2023-12-31   38.31\n",
      "119  Inventory 2024-06-02  263.35\n",
      "120  Inventory 2024-06-16  436.13\n",
      "121  Inventory 2024-06-30  302.09\n",
      "132  Inventory 2024-12-01  267.64\n",
      "133  Inventory 2024-12-15  496.38\n",
      "134  Inventory 2024-12-29  327.11\n",
      "143  Inventory 2025-05-04   49.61\n",
      "2025-08-13 16:26:33,780 - WARNING - Outliers detectados en IT:\n",
      "    department         ds       y\n",
      "72          IT 2023-12-31   38.47\n",
      "83          IT 2024-06-02  192.24\n",
      "84          IT 2024-06-16  258.99\n",
      "85          IT 2024-06-30  214.20\n",
      "96          IT 2024-12-01  236.99\n",
      "97          IT 2024-12-15  352.79\n",
      "98          IT 2024-12-29  262.22\n",
      "107         IT 2025-05-04   39.76\n",
      "2025-08-13 16:26:33,795 - WARNING - Outliers detectados en Inventory:\n",
      "    department         ds       y\n",
      "108  Inventory 2023-12-31   38.31\n",
      "119  Inventory 2024-06-02  263.35\n",
      "120  Inventory 2024-06-16  436.13\n",
      "121  Inventory 2024-06-30  302.09\n",
      "132  Inventory 2024-12-01  267.64\n",
      "133  Inventory 2024-12-15  496.38\n",
      "134  Inventory 2024-12-29  327.11\n",
      "143  Inventory 2025-05-04   49.61\n",
      "2025-08-13 16:26:33,823 - WARNING - Outliers detectados en Marketing:\n",
      "    department         ds       y\n",
      "144  Marketing 2023-12-31   20.33\n",
      "155  Marketing 2024-06-02  154.06\n",
      "156  Marketing 2024-06-16  176.26\n",
      "157  Marketing 2024-06-30  103.05\n",
      "168  Marketing 2024-12-01  104.58\n",
      "169  Marketing 2024-12-15  212.28\n",
      "170  Marketing 2024-12-29  119.16\n",
      "172  Marketing 2025-01-26   92.01\n",
      "179  Marketing 2025-05-04   23.97\n",
      "2025-08-13 16:26:33,823 - WARNING - Outliers detectados en Marketing:\n",
      "    department         ds       y\n",
      "144  Marketing 2023-12-31   20.33\n",
      "155  Marketing 2024-06-02  154.06\n",
      "156  Marketing 2024-06-16  176.26\n",
      "157  Marketing 2024-06-30  103.05\n",
      "168  Marketing 2024-12-01  104.58\n",
      "169  Marketing 2024-12-15  212.28\n",
      "170  Marketing 2024-12-29  119.16\n",
      "172  Marketing 2025-01-26   92.01\n",
      "179  Marketing 2025-05-04   23.97\n",
      "2025-08-13 16:26:33,872 - WARNING - Outliers detectados en Sales:\n",
      "    department         ds        y\n",
      "180      Sales 2023-12-31   288.86\n",
      "191      Sales 2024-06-02  1622.82\n",
      "192      Sales 2024-06-16  2212.35\n",
      "193      Sales 2024-06-30  1666.45\n",
      "204      Sales 2024-12-01  2365.14\n",
      "205      Sales 2024-12-15  3726.33\n",
      "206      Sales 2024-12-29  2500.63\n",
      "215      Sales 2025-05-04   358.48\n",
      "2025-08-13 16:26:33,894 - INFO - Resumen de datos:\n",
      "Departamentos únicos: ['Finance' 'HR' 'IT' 'Inventory' 'Marketing' 'Sales']\n",
      "Fechas únicas: <DatetimeArray>\n",
      "['2023-12-31 00:00:00', '2024-01-14 00:00:00', '2024-01-28 00:00:00',\n",
      " '2024-02-11 00:00:00', '2024-02-25 00:00:00', '2024-03-10 00:00:00',\n",
      " '2024-03-24 00:00:00', '2024-04-07 00:00:00', '2024-04-21 00:00:00',\n",
      " '2024-05-05 00:00:00', '2024-05-19 00:00:00', '2024-06-02 00:00:00',\n",
      " '2024-06-16 00:00:00', '2024-06-30 00:00:00', '2024-07-14 00:00:00',\n",
      " '2024-07-28 00:00:00', '2024-08-11 00:00:00', '2024-08-25 00:00:00',\n",
      " '2024-09-08 00:00:00', '2024-09-22 00:00:00', '2024-10-06 00:00:00',\n",
      " '2024-10-20 00:00:00', '2024-11-03 00:00:00', '2024-11-17 00:00:00',\n",
      " '2024-12-01 00:00:00', '2024-12-15 00:00:00', '2024-12-29 00:00:00',\n",
      " '2025-01-12 00:00:00', '2025-01-26 00:00:00', '2025-02-09 00:00:00',\n",
      " '2025-02-23 00:00:00', '2025-03-09 00:00:00', '2025-03-23 00:00:00',\n",
      " '2025-04-06 00:00:00', '2025-04-20 00:00:00', '2025-05-04 00:00:00']\n",
      "Length: 36, dtype: datetime64[ns]\n",
      "Total registros: 216\n",
      "2025-08-13 16:26:33,872 - WARNING - Outliers detectados en Sales:\n",
      "    department         ds        y\n",
      "180      Sales 2023-12-31   288.86\n",
      "191      Sales 2024-06-02  1622.82\n",
      "192      Sales 2024-06-16  2212.35\n",
      "193      Sales 2024-06-30  1666.45\n",
      "204      Sales 2024-12-01  2365.14\n",
      "205      Sales 2024-12-15  3726.33\n",
      "206      Sales 2024-12-29  2500.63\n",
      "215      Sales 2025-05-04   358.48\n",
      "2025-08-13 16:26:33,894 - INFO - Resumen de datos:\n",
      "Departamentos únicos: ['Finance' 'HR' 'IT' 'Inventory' 'Marketing' 'Sales']\n",
      "Fechas únicas: <DatetimeArray>\n",
      "['2023-12-31 00:00:00', '2024-01-14 00:00:00', '2024-01-28 00:00:00',\n",
      " '2024-02-11 00:00:00', '2024-02-25 00:00:00', '2024-03-10 00:00:00',\n",
      " '2024-03-24 00:00:00', '2024-04-07 00:00:00', '2024-04-21 00:00:00',\n",
      " '2024-05-05 00:00:00', '2024-05-19 00:00:00', '2024-06-02 00:00:00',\n",
      " '2024-06-16 00:00:00', '2024-06-30 00:00:00', '2024-07-14 00:00:00',\n",
      " '2024-07-28 00:00:00', '2024-08-11 00:00:00', '2024-08-25 00:00:00',\n",
      " '2024-09-08 00:00:00', '2024-09-22 00:00:00', '2024-10-06 00:00:00',\n",
      " '2024-10-20 00:00:00', '2024-11-03 00:00:00', '2024-11-17 00:00:00',\n",
      " '2024-12-01 00:00:00', '2024-12-15 00:00:00', '2024-12-29 00:00:00',\n",
      " '2025-01-12 00:00:00', '2025-01-26 00:00:00', '2025-02-09 00:00:00',\n",
      " '2025-02-23 00:00:00', '2025-03-09 00:00:00', '2025-03-23 00:00:00',\n",
      " '2025-04-06 00:00:00', '2025-04-20 00:00:00', '2025-05-04 00:00:00']\n",
      "Length: 36, dtype: datetime64[ns]\n",
      "Total registros: 216\n",
      "2025-08-13 16:26:33,937 - INFO - Desviación estándar de los residuales aditivos: 4.87\n",
      "2025-08-13 16:26:33,939 - INFO - Desviación estándar de los residuales multiplicativos: 0.16\n",
      "2025-08-13 16:26:33,942 - INFO - P-value del test ADF: 0.00\n",
      "2025-08-13 16:26:33,946 - INFO - Criterio de selección: La desviación estándar de los residuos multiplicative es menor.\n",
      "2025-08-13 16:26:33,937 - INFO - Desviación estándar de los residuales aditivos: 4.87\n",
      "2025-08-13 16:26:33,939 - INFO - Desviación estándar de los residuales multiplicativos: 0.16\n",
      "2025-08-13 16:26:33,942 - INFO - P-value del test ADF: 0.00\n",
      "2025-08-13 16:26:33,946 - INFO - Criterio de selección: La desviación estándar de los residuos multiplicative es menor.\n",
      "2025-08-13 16:26:33,954 - INFO - El departamento Finance tiene una descomposición multiplicative.\n",
      "2025-08-13 16:26:33,954 - INFO - El departamento Finance tiene una descomposición multiplicative.\n"
     ]
    },
    {
     "data": {
      "application/vnd.plotly.v1+json": {
       "config": {
        "plotlyServerURL": "https://plot.ly"
       },
       "data": [
        {
         "mode": "lines",
         "name": "Original",
         "type": "scatter",
         "x": [
          "2023-12-31T00:00:00.000000000",
          "2024-01-14T00:00:00.000000000",
          "2024-01-28T00:00:00.000000000",
          "2024-02-11T00:00:00.000000000",
          "2024-02-25T00:00:00.000000000",
          "2024-03-10T00:00:00.000000000",
          "2024-03-24T00:00:00.000000000",
          "2024-04-07T00:00:00.000000000",
          "2024-04-21T00:00:00.000000000",
          "2024-05-05T00:00:00.000000000",
          "2024-05-19T00:00:00.000000000",
          "2024-06-02T00:00:00.000000000",
          "2024-06-16T00:00:00.000000000",
          "2024-06-30T00:00:00.000000000",
          "2024-07-14T00:00:00.000000000",
          "2024-07-28T00:00:00.000000000",
          "2024-08-11T00:00:00.000000000",
          "2024-08-25T00:00:00.000000000",
          "2024-09-08T00:00:00.000000000",
          "2024-09-22T00:00:00.000000000",
          "2024-10-06T00:00:00.000000000",
          "2024-10-20T00:00:00.000000000",
          "2024-11-03T00:00:00.000000000",
          "2024-11-17T00:00:00.000000000",
          "2024-12-01T00:00:00.000000000",
          "2024-12-15T00:00:00.000000000",
          "2024-12-29T00:00:00.000000000",
          "2025-01-12T00:00:00.000000000",
          "2025-01-26T00:00:00.000000000",
          "2025-02-09T00:00:00.000000000",
          "2025-02-23T00:00:00.000000000",
          "2025-03-09T00:00:00.000000000",
          "2025-03-23T00:00:00.000000000",
          "2025-04-06T00:00:00.000000000",
          "2025-04-20T00:00:00.000000000",
          "2025-05-04T00:00:00.000000000"
         ],
         "xaxis": "x",
         "y": {
          "bdata": "rkfhehQuLEDD9Shcj+JBQGZmZmZmJkJA9ihcj8JVQEBmZmZmZuY+QJDC9Shc70BAH4XrUbieOkCQwvUoXA80QBSuR+F6dEBAZmZmZmYmRkApXI/C9WgyQI/C9ShcvzZA9ihcj8IVO0Bcj8L1KGw/QOF6FK5H4UFArkfhehQuQEApXI/C9Sg9QHE9CtejcDtAZmZmZmbmMkDXo3A9Clc4QNejcD0K10NACtejcD3qREA+CtejcP1FQPYoXI/CNTFAZ2ZmZmZGRkCh0wY6beBCQLaBThvo9D5AKVyPwvUoOEDrUbgehYtAQLgehetRODtAj8L1KFyPPUBcj8L1KBw/QLgehetReDdA9ihcj8KVQUBSuB6F6/FDQD0K16NwPTZA",
          "dtype": "f8"
         },
         "yaxis": "y"
        },
        {
         "mode": "lines",
         "name": "Tendencia",
         "type": "scatter",
         "x": [
          "2023-12-31T00:00:00.000000000",
          "2024-01-14T00:00:00.000000000",
          "2024-01-28T00:00:00.000000000",
          "2024-02-11T00:00:00.000000000",
          "2024-02-25T00:00:00.000000000",
          "2024-03-10T00:00:00.000000000",
          "2024-03-24T00:00:00.000000000",
          "2024-04-07T00:00:00.000000000",
          "2024-04-21T00:00:00.000000000",
          "2024-05-05T00:00:00.000000000",
          "2024-05-19T00:00:00.000000000",
          "2024-06-02T00:00:00.000000000",
          "2024-06-16T00:00:00.000000000",
          "2024-06-30T00:00:00.000000000",
          "2024-07-14T00:00:00.000000000",
          "2024-07-28T00:00:00.000000000",
          "2024-08-11T00:00:00.000000000",
          "2024-08-25T00:00:00.000000000",
          "2024-09-08T00:00:00.000000000",
          "2024-09-22T00:00:00.000000000",
          "2024-10-06T00:00:00.000000000",
          "2024-10-20T00:00:00.000000000",
          "2024-11-03T00:00:00.000000000",
          "2024-11-17T00:00:00.000000000",
          "2024-12-01T00:00:00.000000000",
          "2024-12-15T00:00:00.000000000",
          "2024-12-29T00:00:00.000000000",
          "2025-01-12T00:00:00.000000000",
          "2025-01-26T00:00:00.000000000",
          "2025-02-09T00:00:00.000000000",
          "2025-02-23T00:00:00.000000000",
          "2025-03-09T00:00:00.000000000",
          "2025-03-23T00:00:00.000000000",
          "2025-04-06T00:00:00.000000000",
          "2025-04-20T00:00:00.000000000",
          "2025-05-04T00:00:00.000000000"
         ],
         "xaxis": "x2",
         "y": {
          "bdata": "AAAAAAAA+H8AAAAAAAD4fwAAAAAAAPh/AAAAAAAA+H8AAAAAAAD4fwAAAAAAAPh/oNMGOm2YPUCqqqqqqvQ9QIiIiIiIwD1Ad3d3d3e3PUCZmZmZmaE9QNpApw10Sj1A61G4HoWzPEAGOm2g0448QOMXS36xBD1AwPUoXI8yPUAnXI/C9Sg+QG49Ctej/j5A3N3d3d19P0At2IIt2D1AQOwwdbn9RUBAcT0K16MAQEC6u7u7u9M/QBvotIFO+z9AVlVVVVU1QEB+seQXS5JAQIwlv1jyX0BAjCW/WPLLP0DiehSuR1k/QBvotIFOYz9AAAAAAAAA+H8AAAAAAAD4fwAAAAAAAPh/AAAAAAAA+H8AAAAAAAD4fwAAAAAAAPh/",
          "dtype": "f8"
         },
         "yaxis": "y2"
        },
        {
         "mode": "lines",
         "name": "Estacionalidad",
         "type": "scatter",
         "x": [
          "2023-12-31T00:00:00.000000000",
          "2024-01-14T00:00:00.000000000",
          "2024-01-28T00:00:00.000000000",
          "2024-02-11T00:00:00.000000000",
          "2024-02-25T00:00:00.000000000",
          "2024-03-10T00:00:00.000000000",
          "2024-03-24T00:00:00.000000000",
          "2024-04-07T00:00:00.000000000",
          "2024-04-21T00:00:00.000000000",
          "2024-05-05T00:00:00.000000000",
          "2024-05-19T00:00:00.000000000",
          "2024-06-02T00:00:00.000000000",
          "2024-06-16T00:00:00.000000000",
          "2024-06-30T00:00:00.000000000",
          "2024-07-14T00:00:00.000000000",
          "2024-07-28T00:00:00.000000000",
          "2024-08-11T00:00:00.000000000",
          "2024-08-25T00:00:00.000000000",
          "2024-09-08T00:00:00.000000000",
          "2024-09-22T00:00:00.000000000",
          "2024-10-06T00:00:00.000000000",
          "2024-10-20T00:00:00.000000000",
          "2024-11-03T00:00:00.000000000",
          "2024-11-17T00:00:00.000000000",
          "2024-12-01T00:00:00.000000000",
          "2024-12-15T00:00:00.000000000",
          "2024-12-29T00:00:00.000000000",
          "2025-01-12T00:00:00.000000000",
          "2025-01-26T00:00:00.000000000",
          "2025-02-09T00:00:00.000000000",
          "2025-02-23T00:00:00.000000000",
          "2025-03-09T00:00:00.000000000",
          "2025-03-23T00:00:00.000000000",
          "2025-04-06T00:00:00.000000000",
          "2025-04-20T00:00:00.000000000",
          "2025-05-04T00:00:00.000000000"
         ],
         "xaxis": "x3",
         "y": {
          "bdata": "VMcZ37a/8j+nQUKjCB3yP8uV5tb9nPE/EHmX0IQ47j+EpfrVpVvwPxnop7S3Wew/y+9dGV9C6D/YWEHWWfTmP01jRWXjzvI/V00sthqh9j9GCLSvzTPwP+hbW5asROU/VMcZ37a/8j+nQUKjCB3yP8uV5tb9nPE/EHmX0IQ47j+EpfrVpVvwPxnop7S3Wew/y+9dGV9C6D/YWEHWWfTmP01jRWXjzvI/V00sthqh9j9GCLSvzTPwP+hbW5asROU/VMcZ37a/8j+nQUKjCB3yP8uV5tb9nPE/EHmX0IQ47j+EpfrVpVvwPxnop7S3Wew/y+9dGV9C6D/YWEHWWfTmP01jRWXjzvI/V00sthqh9j9GCLSvzTPwP+hbW5asROU/",
          "dtype": "f8"
         },
         "yaxis": "y3"
        },
        {
         "mode": "lines",
         "name": "Residuos",
         "type": "scatter",
         "x": [
          "2023-12-31T00:00:00.000000000",
          "2024-01-14T00:00:00.000000000",
          "2024-01-28T00:00:00.000000000",
          "2024-02-11T00:00:00.000000000",
          "2024-02-25T00:00:00.000000000",
          "2024-03-10T00:00:00.000000000",
          "2024-03-24T00:00:00.000000000",
          "2024-04-07T00:00:00.000000000",
          "2024-04-21T00:00:00.000000000",
          "2024-05-05T00:00:00.000000000",
          "2024-05-19T00:00:00.000000000",
          "2024-06-02T00:00:00.000000000",
          "2024-06-16T00:00:00.000000000",
          "2024-06-30T00:00:00.000000000",
          "2024-07-14T00:00:00.000000000",
          "2024-07-28T00:00:00.000000000",
          "2024-08-11T00:00:00.000000000",
          "2024-08-25T00:00:00.000000000",
          "2024-09-08T00:00:00.000000000",
          "2024-09-22T00:00:00.000000000",
          "2024-10-06T00:00:00.000000000",
          "2024-10-20T00:00:00.000000000",
          "2024-11-03T00:00:00.000000000",
          "2024-11-17T00:00:00.000000000",
          "2024-12-01T00:00:00.000000000",
          "2024-12-15T00:00:00.000000000",
          "2024-12-29T00:00:00.000000000",
          "2025-01-12T00:00:00.000000000",
          "2025-01-26T00:00:00.000000000",
          "2025-02-09T00:00:00.000000000",
          "2025-02-23T00:00:00.000000000",
          "2025-03-09T00:00:00.000000000",
          "2025-03-23T00:00:00.000000000",
          "2025-04-06T00:00:00.000000000",
          "2025-04-20T00:00:00.000000000",
          "2025-05-04T00:00:00.000000000"
         ],
         "xaxis": "x4",
         "y": {
          "bdata": "AAAAAAAA+H8AAAAAAAD4fwAAAAAAAPh/AAAAAAAA+H8AAAAAAAD4fwAAAAAAAPh/rNWzqcX78j8oKV27kN/tP+eodIyTHO4/m4ygrEzd8D9cuEysJqLjP5mF83IUsvI/fRYqZT7F6T8reczcBxrvP7P1GMFG6fE/aUDUP+zG8j+RFq3SCkPuP362cMUX+u8/90gkq0ZV6T+UZZehoLbwP7SlCzkfmPA/G9tKpTiS7T/5nR+pVdX1PyHppBip6Ok/6u6wzMnD8j+Tvd8QZRnwP+oIWnxEeus/fnPjfvm+6T/gbu+V44TwP9Q9Gzm6Uu8/AAAAAAAA+H8AAAAAAAD4fwAAAAAAAPh/AAAAAAAA+H8AAAAAAAD4fwAAAAAAAPh/",
          "dtype": "f8"
         },
         "yaxis": "y4"
        }
       ],
       "layout": {
        "annotations": [
         {
          "font": {
           "size": 16
          },
          "showarrow": false,
          "text": "Original",
          "x": 0.5,
          "xanchor": "center",
          "xref": "paper",
          "y": 1,
          "yanchor": "bottom",
          "yref": "paper"
         },
         {
          "font": {
           "size": 16
          },
          "showarrow": false,
          "text": "Tendencia",
          "x": 0.5,
          "xanchor": "center",
          "xref": "paper",
          "y": 0.71875,
          "yanchor": "bottom",
          "yref": "paper"
         },
         {
          "font": {
           "size": 16
          },
          "showarrow": false,
          "text": "Estacionalidad",
          "x": 0.5,
          "xanchor": "center",
          "xref": "paper",
          "y": 0.4375,
          "yanchor": "bottom",
          "yref": "paper"
         },
         {
          "font": {
           "size": 16
          },
          "showarrow": false,
          "text": "Residuos",
          "x": 0.5,
          "xanchor": "center",
          "xref": "paper",
          "y": 0.15625,
          "yanchor": "bottom",
          "yref": "paper"
         }
        ],
        "height": 800,
        "template": {
         "data": {
          "bar": [
           {
            "error_x": {
             "color": "#2a3f5f"
            },
            "error_y": {
             "color": "#2a3f5f"
            },
            "marker": {
             "line": {
              "color": "#E5ECF6",
              "width": 0.5
             },
             "pattern": {
              "fillmode": "overlay",
              "size": 10,
              "solidity": 0.2
             }
            },
            "type": "bar"
           }
          ],
          "barpolar": [
           {
            "marker": {
             "line": {
              "color": "#E5ECF6",
              "width": 0.5
             },
             "pattern": {
              "fillmode": "overlay",
              "size": 10,
              "solidity": 0.2
             }
            },
            "type": "barpolar"
           }
          ],
          "carpet": [
           {
            "aaxis": {
             "endlinecolor": "#2a3f5f",
             "gridcolor": "white",
             "linecolor": "white",
             "minorgridcolor": "white",
             "startlinecolor": "#2a3f5f"
            },
            "baxis": {
             "endlinecolor": "#2a3f5f",
             "gridcolor": "white",
             "linecolor": "white",
             "minorgridcolor": "white",
             "startlinecolor": "#2a3f5f"
            },
            "type": "carpet"
           }
          ],
          "choropleth": [
           {
            "colorbar": {
             "outlinewidth": 0,
             "ticks": ""
            },
            "type": "choropleth"
           }
          ],
          "contour": [
           {
            "colorbar": {
             "outlinewidth": 0,
             "ticks": ""
            },
            "colorscale": [
             [
              0,
              "#0d0887"
             ],
             [
              0.1111111111111111,
              "#46039f"
             ],
             [
              0.2222222222222222,
              "#7201a8"
             ],
             [
              0.3333333333333333,
              "#9c179e"
             ],
             [
              0.4444444444444444,
              "#bd3786"
             ],
             [
              0.5555555555555556,
              "#d8576b"
             ],
             [
              0.6666666666666666,
              "#ed7953"
             ],
             [
              0.7777777777777778,
              "#fb9f3a"
             ],
             [
              0.8888888888888888,
              "#fdca26"
             ],
             [
              1,
              "#f0f921"
             ]
            ],
            "type": "contour"
           }
          ],
          "contourcarpet": [
           {
            "colorbar": {
             "outlinewidth": 0,
             "ticks": ""
            },
            "type": "contourcarpet"
           }
          ],
          "heatmap": [
           {
            "colorbar": {
             "outlinewidth": 0,
             "ticks": ""
            },
            "colorscale": [
             [
              0,
              "#0d0887"
             ],
             [
              0.1111111111111111,
              "#46039f"
             ],
             [
              0.2222222222222222,
              "#7201a8"
             ],
             [
              0.3333333333333333,
              "#9c179e"
             ],
             [
              0.4444444444444444,
              "#bd3786"
             ],
             [
              0.5555555555555556,
              "#d8576b"
             ],
             [
              0.6666666666666666,
              "#ed7953"
             ],
             [
              0.7777777777777778,
              "#fb9f3a"
             ],
             [
              0.8888888888888888,
              "#fdca26"
             ],
             [
              1,
              "#f0f921"
             ]
            ],
            "type": "heatmap"
           }
          ],
          "histogram": [
           {
            "marker": {
             "pattern": {
              "fillmode": "overlay",
              "size": 10,
              "solidity": 0.2
             }
            },
            "type": "histogram"
           }
          ],
          "histogram2d": [
           {
            "colorbar": {
             "outlinewidth": 0,
             "ticks": ""
            },
            "colorscale": [
             [
              0,
              "#0d0887"
             ],
             [
              0.1111111111111111,
              "#46039f"
             ],
             [
              0.2222222222222222,
              "#7201a8"
             ],
             [
              0.3333333333333333,
              "#9c179e"
             ],
             [
              0.4444444444444444,
              "#bd3786"
             ],
             [
              0.5555555555555556,
              "#d8576b"
             ],
             [
              0.6666666666666666,
              "#ed7953"
             ],
             [
              0.7777777777777778,
              "#fb9f3a"
             ],
             [
              0.8888888888888888,
              "#fdca26"
             ],
             [
              1,
              "#f0f921"
             ]
            ],
            "type": "histogram2d"
           }
          ],
          "histogram2dcontour": [
           {
            "colorbar": {
             "outlinewidth": 0,
             "ticks": ""
            },
            "colorscale": [
             [
              0,
              "#0d0887"
             ],
             [
              0.1111111111111111,
              "#46039f"
             ],
             [
              0.2222222222222222,
              "#7201a8"
             ],
             [
              0.3333333333333333,
              "#9c179e"
             ],
             [
              0.4444444444444444,
              "#bd3786"
             ],
             [
              0.5555555555555556,
              "#d8576b"
             ],
             [
              0.6666666666666666,
              "#ed7953"
             ],
             [
              0.7777777777777778,
              "#fb9f3a"
             ],
             [
              0.8888888888888888,
              "#fdca26"
             ],
             [
              1,
              "#f0f921"
             ]
            ],
            "type": "histogram2dcontour"
           }
          ],
          "mesh3d": [
           {
            "colorbar": {
             "outlinewidth": 0,
             "ticks": ""
            },
            "type": "mesh3d"
           }
          ],
          "parcoords": [
           {
            "line": {
             "colorbar": {
              "outlinewidth": 0,
              "ticks": ""
             }
            },
            "type": "parcoords"
           }
          ],
          "pie": [
           {
            "automargin": true,
            "type": "pie"
           }
          ],
          "scatter": [
           {
            "fillpattern": {
             "fillmode": "overlay",
             "size": 10,
             "solidity": 0.2
            },
            "type": "scatter"
           }
          ],
          "scatter3d": [
           {
            "line": {
             "colorbar": {
              "outlinewidth": 0,
              "ticks": ""
             }
            },
            "marker": {
             "colorbar": {
              "outlinewidth": 0,
              "ticks": ""
             }
            },
            "type": "scatter3d"
           }
          ],
          "scattercarpet": [
           {
            "marker": {
             "colorbar": {
              "outlinewidth": 0,
              "ticks": ""
             }
            },
            "type": "scattercarpet"
           }
          ],
          "scattergeo": [
           {
            "marker": {
             "colorbar": {
              "outlinewidth": 0,
              "ticks": ""
             }
            },
            "type": "scattergeo"
           }
          ],
          "scattergl": [
           {
            "marker": {
             "colorbar": {
              "outlinewidth": 0,
              "ticks": ""
             }
            },
            "type": "scattergl"
           }
          ],
          "scattermap": [
           {
            "marker": {
             "colorbar": {
              "outlinewidth": 0,
              "ticks": ""
             }
            },
            "type": "scattermap"
           }
          ],
          "scattermapbox": [
           {
            "marker": {
             "colorbar": {
              "outlinewidth": 0,
              "ticks": ""
             }
            },
            "type": "scattermapbox"
           }
          ],
          "scatterpolar": [
           {
            "marker": {
             "colorbar": {
              "outlinewidth": 0,
              "ticks": ""
             }
            },
            "type": "scatterpolar"
           }
          ],
          "scatterpolargl": [
           {
            "marker": {
             "colorbar": {
              "outlinewidth": 0,
              "ticks": ""
             }
            },
            "type": "scatterpolargl"
           }
          ],
          "scatterternary": [
           {
            "marker": {
             "colorbar": {
              "outlinewidth": 0,
              "ticks": ""
             }
            },
            "type": "scatterternary"
           }
          ],
          "surface": [
           {
            "colorbar": {
             "outlinewidth": 0,
             "ticks": ""
            },
            "colorscale": [
             [
              0,
              "#0d0887"
             ],
             [
              0.1111111111111111,
              "#46039f"
             ],
             [
              0.2222222222222222,
              "#7201a8"
             ],
             [
              0.3333333333333333,
              "#9c179e"
             ],
             [
              0.4444444444444444,
              "#bd3786"
             ],
             [
              0.5555555555555556,
              "#d8576b"
             ],
             [
              0.6666666666666666,
              "#ed7953"
             ],
             [
              0.7777777777777778,
              "#fb9f3a"
             ],
             [
              0.8888888888888888,
              "#fdca26"
             ],
             [
              1,
              "#f0f921"
             ]
            ],
            "type": "surface"
           }
          ],
          "table": [
           {
            "cells": {
             "fill": {
              "color": "#EBF0F8"
             },
             "line": {
              "color": "white"
             }
            },
            "header": {
             "fill": {
              "color": "#C8D4E3"
             },
             "line": {
              "color": "white"
             }
            },
            "type": "table"
           }
          ]
         },
         "layout": {
          "annotationdefaults": {
           "arrowcolor": "#2a3f5f",
           "arrowhead": 0,
           "arrowwidth": 1
          },
          "autotypenumbers": "strict",
          "coloraxis": {
           "colorbar": {
            "outlinewidth": 0,
            "ticks": ""
           }
          },
          "colorscale": {
           "diverging": [
            [
             0,
             "#8e0152"
            ],
            [
             0.1,
             "#c51b7d"
            ],
            [
             0.2,
             "#de77ae"
            ],
            [
             0.3,
             "#f1b6da"
            ],
            [
             0.4,
             "#fde0ef"
            ],
            [
             0.5,
             "#f7f7f7"
            ],
            [
             0.6,
             "#e6f5d0"
            ],
            [
             0.7,
             "#b8e186"
            ],
            [
             0.8,
             "#7fbc41"
            ],
            [
             0.9,
             "#4d9221"
            ],
            [
             1,
             "#276419"
            ]
           ],
           "sequential": [
            [
             0,
             "#0d0887"
            ],
            [
             0.1111111111111111,
             "#46039f"
            ],
            [
             0.2222222222222222,
             "#7201a8"
            ],
            [
             0.3333333333333333,
             "#9c179e"
            ],
            [
             0.4444444444444444,
             "#bd3786"
            ],
            [
             0.5555555555555556,
             "#d8576b"
            ],
            [
             0.6666666666666666,
             "#ed7953"
            ],
            [
             0.7777777777777778,
             "#fb9f3a"
            ],
            [
             0.8888888888888888,
             "#fdca26"
            ],
            [
             1,
             "#f0f921"
            ]
           ],
           "sequentialminus": [
            [
             0,
             "#0d0887"
            ],
            [
             0.1111111111111111,
             "#46039f"
            ],
            [
             0.2222222222222222,
             "#7201a8"
            ],
            [
             0.3333333333333333,
             "#9c179e"
            ],
            [
             0.4444444444444444,
             "#bd3786"
            ],
            [
             0.5555555555555556,
             "#d8576b"
            ],
            [
             0.6666666666666666,
             "#ed7953"
            ],
            [
             0.7777777777777778,
             "#fb9f3a"
            ],
            [
             0.8888888888888888,
             "#fdca26"
            ],
            [
             1,
             "#f0f921"
            ]
           ]
          },
          "colorway": [
           "#636efa",
           "#EF553B",
           "#00cc96",
           "#ab63fa",
           "#FFA15A",
           "#19d3f3",
           "#FF6692",
           "#B6E880",
           "#FF97FF",
           "#FECB52"
          ],
          "font": {
           "color": "#2a3f5f"
          },
          "geo": {
           "bgcolor": "white",
           "lakecolor": "white",
           "landcolor": "#E5ECF6",
           "showlakes": true,
           "showland": true,
           "subunitcolor": "white"
          },
          "hoverlabel": {
           "align": "left"
          },
          "hovermode": "closest",
          "mapbox": {
           "style": "light"
          },
          "paper_bgcolor": "white",
          "plot_bgcolor": "#E5ECF6",
          "polar": {
           "angularaxis": {
            "gridcolor": "white",
            "linecolor": "white",
            "ticks": ""
           },
           "bgcolor": "#E5ECF6",
           "radialaxis": {
            "gridcolor": "white",
            "linecolor": "white",
            "ticks": ""
           }
          },
          "scene": {
           "xaxis": {
            "backgroundcolor": "#E5ECF6",
            "gridcolor": "white",
            "gridwidth": 2,
            "linecolor": "white",
            "showbackground": true,
            "ticks": "",
            "zerolinecolor": "white"
           },
           "yaxis": {
            "backgroundcolor": "#E5ECF6",
            "gridcolor": "white",
            "gridwidth": 2,
            "linecolor": "white",
            "showbackground": true,
            "ticks": "",
            "zerolinecolor": "white"
           },
           "zaxis": {
            "backgroundcolor": "#E5ECF6",
            "gridcolor": "white",
            "gridwidth": 2,
            "linecolor": "white",
            "showbackground": true,
            "ticks": "",
            "zerolinecolor": "white"
           }
          },
          "shapedefaults": {
           "line": {
            "color": "#2a3f5f"
           }
          },
          "ternary": {
           "aaxis": {
            "gridcolor": "white",
            "linecolor": "white",
            "ticks": ""
           },
           "baxis": {
            "gridcolor": "white",
            "linecolor": "white",
            "ticks": ""
           },
           "bgcolor": "#E5ECF6",
           "caxis": {
            "gridcolor": "white",
            "linecolor": "white",
            "ticks": ""
           }
          },
          "title": {
           "x": 0.05
          },
          "xaxis": {
           "automargin": true,
           "gridcolor": "white",
           "linecolor": "white",
           "ticks": "",
           "title": {
            "standoff": 15
           },
           "zerolinecolor": "white",
           "zerolinewidth": 2
          },
          "yaxis": {
           "automargin": true,
           "gridcolor": "white",
           "linecolor": "white",
           "ticks": "",
           "title": {
            "standoff": 15
           },
           "zerolinecolor": "white",
           "zerolinewidth": 2
          }
         }
        },
        "title": {
         "text": "Descomposición de la Serie Temporal (Multiplicative) para Finance"
        },
        "xaxis": {
         "anchor": "y",
         "domain": [
          0,
          1
         ]
        },
        "xaxis2": {
         "anchor": "y2",
         "domain": [
          0,
          1
         ]
        },
        "xaxis3": {
         "anchor": "y3",
         "domain": [
          0,
          1
         ]
        },
        "xaxis4": {
         "anchor": "y4",
         "domain": [
          0,
          1
         ]
        },
        "yaxis": {
         "anchor": "x",
         "domain": [
          0.84375,
          1
         ]
        },
        "yaxis2": {
         "anchor": "x2",
         "domain": [
          0.5625,
          0.71875
         ]
        },
        "yaxis3": {
         "anchor": "x3",
         "domain": [
          0.28125,
          0.4375
         ]
        },
        "yaxis4": {
         "anchor": "x4",
         "domain": [
          0,
          0.15625
         ]
        }
       }
      }
     },
     "metadata": {},
     "output_type": "display_data"
    },
    {
     "name": "stderr",
     "output_type": "stream",
     "text": [
      "2025-08-13 16:26:34,197 - INFO - Desviación estándar de los residuales aditivos: 4.23\n",
      "2025-08-13 16:26:34,199 - INFO - Desviación estándar de los residuales multiplicativos: 0.08\n",
      "2025-08-13 16:26:34,202 - INFO - P-value del test ADF: 0.01\n",
      "2025-08-13 16:26:34,206 - INFO - Criterio de selección: La desviación estándar de los residuos multiplicative es menor.\n",
      "2025-08-13 16:26:34,208 - INFO - El departamento HR tiene una descomposición multiplicative.\n",
      "2025-08-13 16:26:34,199 - INFO - Desviación estándar de los residuales multiplicativos: 0.08\n",
      "2025-08-13 16:26:34,202 - INFO - P-value del test ADF: 0.01\n",
      "2025-08-13 16:26:34,206 - INFO - Criterio de selección: La desviación estándar de los residuos multiplicative es menor.\n",
      "2025-08-13 16:26:34,208 - INFO - El departamento HR tiene una descomposición multiplicative.\n"
     ]
    },
    {
     "data": {
      "application/vnd.plotly.v1+json": {
       "config": {
        "plotlyServerURL": "https://plot.ly"
       },
       "data": [
        {
         "mode": "lines",
         "name": "Original",
         "type": "scatter",
         "x": [
          "2023-12-31T00:00:00.000000000",
          "2024-01-14T00:00:00.000000000",
          "2024-01-28T00:00:00.000000000",
          "2024-02-11T00:00:00.000000000",
          "2024-02-25T00:00:00.000000000",
          "2024-03-10T00:00:00.000000000",
          "2024-03-24T00:00:00.000000000",
          "2024-04-07T00:00:00.000000000",
          "2024-04-21T00:00:00.000000000",
          "2024-05-05T00:00:00.000000000",
          "2024-05-19T00:00:00.000000000",
          "2024-06-02T00:00:00.000000000",
          "2024-06-16T00:00:00.000000000",
          "2024-06-30T00:00:00.000000000",
          "2024-07-14T00:00:00.000000000",
          "2024-07-28T00:00:00.000000000",
          "2024-08-11T00:00:00.000000000",
          "2024-08-25T00:00:00.000000000",
          "2024-09-08T00:00:00.000000000",
          "2024-09-22T00:00:00.000000000",
          "2024-10-06T00:00:00.000000000",
          "2024-10-20T00:00:00.000000000",
          "2024-11-03T00:00:00.000000000",
          "2024-11-17T00:00:00.000000000",
          "2024-12-01T00:00:00.000000000",
          "2024-12-15T00:00:00.000000000",
          "2024-12-29T00:00:00.000000000",
          "2025-01-12T00:00:00.000000000",
          "2025-01-26T00:00:00.000000000",
          "2025-02-09T00:00:00.000000000",
          "2025-02-23T00:00:00.000000000",
          "2025-03-09T00:00:00.000000000",
          "2025-03-23T00:00:00.000000000",
          "2025-04-06T00:00:00.000000000",
          "2025-04-20T00:00:00.000000000",
          "2025-05-04T00:00:00.000000000"
         ],
         "xaxis": "x",
         "y": {
          "bdata": "AAAAAAAA+H/C9Shcj6JGQAAAAAAAQEZAcD0K16PQQkAfhetRuH5EQD4K16Nw3UtAwvUoXI/iQ0AAAAAAAGBDQOF6FK5HAUZAKlyPwvWoTkBSuB6F61FGQDMzMzMzI0ZAFK5H4Xr0RUD2KFyPwsVFQNejcD0Kl0VAPgrXo3CdRUAK16NwPepCQOJ6FK5HQUNAAAAAAACASEAK16NwPWpBQOJ6FK5HQURAj8L1KFxvS0BmZmZmZlZQQJqZmZmZ+U5AcT0K16PwTEBI4XoUrudKQB+F61G43khA9ihcj8LVRkC4HoXrUXhJQDMzMzMz00dArkfhehTuOkDC9Shcj8JHQPYoXI/CVU1ApHA9CtcDSUDiehSuR6FGQOxRuB6FKzhA",
          "dtype": "f8"
         },
         "yaxis": "y"
        },
        {
         "mode": "lines",
         "name": "Tendencia",
         "type": "scatter",
         "x": [
          "2023-12-31T00:00:00.000000000",
          "2024-01-14T00:00:00.000000000",
          "2024-01-28T00:00:00.000000000",
          "2024-02-11T00:00:00.000000000",
          "2024-02-25T00:00:00.000000000",
          "2024-03-10T00:00:00.000000000",
          "2024-03-24T00:00:00.000000000",
          "2024-04-07T00:00:00.000000000",
          "2024-04-21T00:00:00.000000000",
          "2024-05-05T00:00:00.000000000",
          "2024-05-19T00:00:00.000000000",
          "2024-06-02T00:00:00.000000000",
          "2024-06-16T00:00:00.000000000",
          "2024-06-30T00:00:00.000000000",
          "2024-07-14T00:00:00.000000000",
          "2024-07-28T00:00:00.000000000",
          "2024-08-11T00:00:00.000000000",
          "2024-08-25T00:00:00.000000000",
          "2024-09-08T00:00:00.000000000",
          "2024-09-22T00:00:00.000000000",
          "2024-10-06T00:00:00.000000000",
          "2024-10-20T00:00:00.000000000",
          "2024-11-03T00:00:00.000000000",
          "2024-11-17T00:00:00.000000000",
          "2024-12-01T00:00:00.000000000",
          "2024-12-15T00:00:00.000000000",
          "2024-12-29T00:00:00.000000000",
          "2025-01-12T00:00:00.000000000",
          "2025-01-26T00:00:00.000000000",
          "2025-02-09T00:00:00.000000000",
          "2025-02-23T00:00:00.000000000",
          "2025-03-09T00:00:00.000000000",
          "2025-03-23T00:00:00.000000000",
          "2025-04-06T00:00:00.000000000",
          "2025-04-20T00:00:00.000000000",
          "2025-05-04T00:00:00.000000000"
         ],
         "xaxis": "x2",
         "y": {
          "bdata": "AAAAAAAA+H8AAAAAAAD4fwAAAAAAAPh/AAAAAAAA+H8AAAAAAAD4fwAAAAAAAPh/76vdX+mTRkDgehSuR39GQNajcD0Kb0ZA3t3d3d2FRkB6FK5H4ZJGQJX8YskvJkZAYCz5xZL7RUAYS36x5BdGQLgehetR8EVApw102kC7RUAa6LSBTgdGQDltoNMG1EZAzczMzMx8R0B02kCnDf5HQC+W/GLJV0hAMJb8YsmHSEAfhetRuNpIQMgvlvxiUUlAoNMGOm0MSUBlZmZmZtpIQO7u7u7ufklAxpJfLPnFSUCcNtBpA0FJQCz5xZJfDEhAAAAAAAAA+H8AAAAAAAD4fwAAAAAAAPh/AAAAAAAA+H8AAAAAAAD4fwAAAAAAAPh/",
          "dtype": "f8"
         },
         "yaxis": "y2"
        },
        {
         "mode": "lines",
         "name": "Estacionalidad",
         "type": "scatter",
         "x": [
          "2023-12-31T00:00:00.000000000",
          "2024-01-14T00:00:00.000000000",
          "2024-01-28T00:00:00.000000000",
          "2024-02-11T00:00:00.000000000",
          "2024-02-25T00:00:00.000000000",
          "2024-03-10T00:00:00.000000000",
          "2024-03-24T00:00:00.000000000",
          "2024-04-07T00:00:00.000000000",
          "2024-04-21T00:00:00.000000000",
          "2024-05-05T00:00:00.000000000",
          "2024-05-19T00:00:00.000000000",
          "2024-06-02T00:00:00.000000000",
          "2024-06-16T00:00:00.000000000",
          "2024-06-30T00:00:00.000000000",
          "2024-07-14T00:00:00.000000000",
          "2024-07-28T00:00:00.000000000",
          "2024-08-11T00:00:00.000000000",
          "2024-08-25T00:00:00.000000000",
          "2024-09-08T00:00:00.000000000",
          "2024-09-22T00:00:00.000000000",
          "2024-10-06T00:00:00.000000000",
          "2024-10-20T00:00:00.000000000",
          "2024-11-03T00:00:00.000000000",
          "2024-11-17T00:00:00.000000000",
          "2024-12-01T00:00:00.000000000",
          "2024-12-15T00:00:00.000000000",
          "2024-12-29T00:00:00.000000000",
          "2025-01-12T00:00:00.000000000",
          "2025-01-26T00:00:00.000000000",
          "2025-02-09T00:00:00.000000000",
          "2025-02-23T00:00:00.000000000",
          "2025-03-09T00:00:00.000000000",
          "2025-03-23T00:00:00.000000000",
          "2025-04-06T00:00:00.000000000",
          "2025-04-20T00:00:00.000000000",
          "2025-05-04T00:00:00.000000000"
         ],
         "xaxis": "x3",
         "y": {
          "bdata": "GH/2iHIq8T/Y+K644nrwP0AEO4EoO+8/2VLMoyX57T91hciaY8LtP4K13bKiO+0/MHuTWG+p7j+4dAwnZUvpP4KJUVoF5ew/ieRq5qrC8z9Yz5poEVvyP3dOBUnXtvE/GH/2iHIq8T/Y+K644nrwP0AEO4EoO+8/2VLMoyX57T91hciaY8LtP4K13bKiO+0/MHuTWG+p7j+4dAwnZUvpP4KJUVoF5ew/ieRq5qrC8z9Yz5poEVvyP3dOBUnXtvE/GH/2iHIq8T/Y+K644nrwP0AEO4EoO+8/2VLMoyX57T91hciaY8LtP4K13bKiO+0/MHuTWG+p7j+4dAwnZUvpP4KJUVoF5ew/ieRq5qrC8z9Yz5poEVvyP3dOBUnXtvE/",
          "dtype": "f8"
         },
         "yaxis": "y3"
        },
        {
         "mode": "lines",
         "name": "Residuos",
         "type": "scatter",
         "x": [
          "2023-12-31T00:00:00.000000000",
          "2024-01-14T00:00:00.000000000",
          "2024-01-28T00:00:00.000000000",
          "2024-02-11T00:00:00.000000000",
          "2024-02-25T00:00:00.000000000",
          "2024-03-10T00:00:00.000000000",
          "2024-03-24T00:00:00.000000000",
          "2024-04-07T00:00:00.000000000",
          "2024-04-21T00:00:00.000000000",
          "2024-05-05T00:00:00.000000000",
          "2024-05-19T00:00:00.000000000",
          "2024-06-02T00:00:00.000000000",
          "2024-06-16T00:00:00.000000000",
          "2024-06-30T00:00:00.000000000",
          "2024-07-14T00:00:00.000000000",
          "2024-07-28T00:00:00.000000000",
          "2024-08-11T00:00:00.000000000",
          "2024-08-25T00:00:00.000000000",
          "2024-09-08T00:00:00.000000000",
          "2024-09-22T00:00:00.000000000",
          "2024-10-06T00:00:00.000000000",
          "2024-10-20T00:00:00.000000000",
          "2024-11-03T00:00:00.000000000",
          "2024-11-17T00:00:00.000000000",
          "2024-12-01T00:00:00.000000000",
          "2024-12-15T00:00:00.000000000",
          "2024-12-29T00:00:00.000000000",
          "2025-01-12T00:00:00.000000000",
          "2025-01-26T00:00:00.000000000",
          "2025-02-09T00:00:00.000000000",
          "2025-02-23T00:00:00.000000000",
          "2025-03-09T00:00:00.000000000",
          "2025-03-23T00:00:00.000000000",
          "2025-04-06T00:00:00.000000000",
          "2025-04-20T00:00:00.000000000",
          "2025-05-04T00:00:00.000000000"
         ],
         "xaxis": "x4",
         "y": {
          "bdata": "AAAAAAAA+H8AAAAAAAD4fwAAAAAAAPh/AAAAAAAA+H8AAAAAAAD4fwAAAAAAAPh/CPGkhNdp7T/563WksW7xPz0Z2H2DYfE/Dupfh7mi8T8LUoGhY5TrP2nKytNa4+w/WuMJyATK7T8HEsv5453uP6yoz/YgIvA/BM+quoj98D/ieFzDwIvtPxDUezTGi+0/RNNJtwhr8T+fv0yqhWLtPxRliPfhfO0/dsN45HX67D/CotuowlXyP5Lmtg9HrvE/HVqXFfI68T/EwrZ8AtHwPzdGmQWn++8/iPnifddE7j9YD+4XFFrxP8FhXl8RWvE/AAAAAAAA+H8AAAAAAAD4fwAAAAAAAPh/AAAAAAAA+H8AAAAAAAD4fwAAAAAAAPh/",
          "dtype": "f8"
         },
         "yaxis": "y4"
        }
       ],
       "layout": {
        "annotations": [
         {
          "font": {
           "size": 16
          },
          "showarrow": false,
          "text": "Original",
          "x": 0.5,
          "xanchor": "center",
          "xref": "paper",
          "y": 1,
          "yanchor": "bottom",
          "yref": "paper"
         },
         {
          "font": {
           "size": 16
          },
          "showarrow": false,
          "text": "Tendencia",
          "x": 0.5,
          "xanchor": "center",
          "xref": "paper",
          "y": 0.71875,
          "yanchor": "bottom",
          "yref": "paper"
         },
         {
          "font": {
           "size": 16
          },
          "showarrow": false,
          "text": "Estacionalidad",
          "x": 0.5,
          "xanchor": "center",
          "xref": "paper",
          "y": 0.4375,
          "yanchor": "bottom",
          "yref": "paper"
         },
         {
          "font": {
           "size": 16
          },
          "showarrow": false,
          "text": "Residuos",
          "x": 0.5,
          "xanchor": "center",
          "xref": "paper",
          "y": 0.15625,
          "yanchor": "bottom",
          "yref": "paper"
         }
        ],
        "height": 800,
        "template": {
         "data": {
          "bar": [
           {
            "error_x": {
             "color": "#2a3f5f"
            },
            "error_y": {
             "color": "#2a3f5f"
            },
            "marker": {
             "line": {
              "color": "#E5ECF6",
              "width": 0.5
             },
             "pattern": {
              "fillmode": "overlay",
              "size": 10,
              "solidity": 0.2
             }
            },
            "type": "bar"
           }
          ],
          "barpolar": [
           {
            "marker": {
             "line": {
              "color": "#E5ECF6",
              "width": 0.5
             },
             "pattern": {
              "fillmode": "overlay",
              "size": 10,
              "solidity": 0.2
             }
            },
            "type": "barpolar"
           }
          ],
          "carpet": [
           {
            "aaxis": {
             "endlinecolor": "#2a3f5f",
             "gridcolor": "white",
             "linecolor": "white",
             "minorgridcolor": "white",
             "startlinecolor": "#2a3f5f"
            },
            "baxis": {
             "endlinecolor": "#2a3f5f",
             "gridcolor": "white",
             "linecolor": "white",
             "minorgridcolor": "white",
             "startlinecolor": "#2a3f5f"
            },
            "type": "carpet"
           }
          ],
          "choropleth": [
           {
            "colorbar": {
             "outlinewidth": 0,
             "ticks": ""
            },
            "type": "choropleth"
           }
          ],
          "contour": [
           {
            "colorbar": {
             "outlinewidth": 0,
             "ticks": ""
            },
            "colorscale": [
             [
              0,
              "#0d0887"
             ],
             [
              0.1111111111111111,
              "#46039f"
             ],
             [
              0.2222222222222222,
              "#7201a8"
             ],
             [
              0.3333333333333333,
              "#9c179e"
             ],
             [
              0.4444444444444444,
              "#bd3786"
             ],
             [
              0.5555555555555556,
              "#d8576b"
             ],
             [
              0.6666666666666666,
              "#ed7953"
             ],
             [
              0.7777777777777778,
              "#fb9f3a"
             ],
             [
              0.8888888888888888,
              "#fdca26"
             ],
             [
              1,
              "#f0f921"
             ]
            ],
            "type": "contour"
           }
          ],
          "contourcarpet": [
           {
            "colorbar": {
             "outlinewidth": 0,
             "ticks": ""
            },
            "type": "contourcarpet"
           }
          ],
          "heatmap": [
           {
            "colorbar": {
             "outlinewidth": 0,
             "ticks": ""
            },
            "colorscale": [
             [
              0,
              "#0d0887"
             ],
             [
              0.1111111111111111,
              "#46039f"
             ],
             [
              0.2222222222222222,
              "#7201a8"
             ],
             [
              0.3333333333333333,
              "#9c179e"
             ],
             [
              0.4444444444444444,
              "#bd3786"
             ],
             [
              0.5555555555555556,
              "#d8576b"
             ],
             [
              0.6666666666666666,
              "#ed7953"
             ],
             [
              0.7777777777777778,
              "#fb9f3a"
             ],
             [
              0.8888888888888888,
              "#fdca26"
             ],
             [
              1,
              "#f0f921"
             ]
            ],
            "type": "heatmap"
           }
          ],
          "histogram": [
           {
            "marker": {
             "pattern": {
              "fillmode": "overlay",
              "size": 10,
              "solidity": 0.2
             }
            },
            "type": "histogram"
           }
          ],
          "histogram2d": [
           {
            "colorbar": {
             "outlinewidth": 0,
             "ticks": ""
            },
            "colorscale": [
             [
              0,
              "#0d0887"
             ],
             [
              0.1111111111111111,
              "#46039f"
             ],
             [
              0.2222222222222222,
              "#7201a8"
             ],
             [
              0.3333333333333333,
              "#9c179e"
             ],
             [
              0.4444444444444444,
              "#bd3786"
             ],
             [
              0.5555555555555556,
              "#d8576b"
             ],
             [
              0.6666666666666666,
              "#ed7953"
             ],
             [
              0.7777777777777778,
              "#fb9f3a"
             ],
             [
              0.8888888888888888,
              "#fdca26"
             ],
             [
              1,
              "#f0f921"
             ]
            ],
            "type": "histogram2d"
           }
          ],
          "histogram2dcontour": [
           {
            "colorbar": {
             "outlinewidth": 0,
             "ticks": ""
            },
            "colorscale": [
             [
              0,
              "#0d0887"
             ],
             [
              0.1111111111111111,
              "#46039f"
             ],
             [
              0.2222222222222222,
              "#7201a8"
             ],
             [
              0.3333333333333333,
              "#9c179e"
             ],
             [
              0.4444444444444444,
              "#bd3786"
             ],
             [
              0.5555555555555556,
              "#d8576b"
             ],
             [
              0.6666666666666666,
              "#ed7953"
             ],
             [
              0.7777777777777778,
              "#fb9f3a"
             ],
             [
              0.8888888888888888,
              "#fdca26"
             ],
             [
              1,
              "#f0f921"
             ]
            ],
            "type": "histogram2dcontour"
           }
          ],
          "mesh3d": [
           {
            "colorbar": {
             "outlinewidth": 0,
             "ticks": ""
            },
            "type": "mesh3d"
           }
          ],
          "parcoords": [
           {
            "line": {
             "colorbar": {
              "outlinewidth": 0,
              "ticks": ""
             }
            },
            "type": "parcoords"
           }
          ],
          "pie": [
           {
            "automargin": true,
            "type": "pie"
           }
          ],
          "scatter": [
           {
            "fillpattern": {
             "fillmode": "overlay",
             "size": 10,
             "solidity": 0.2
            },
            "type": "scatter"
           }
          ],
          "scatter3d": [
           {
            "line": {
             "colorbar": {
              "outlinewidth": 0,
              "ticks": ""
             }
            },
            "marker": {
             "colorbar": {
              "outlinewidth": 0,
              "ticks": ""
             }
            },
            "type": "scatter3d"
           }
          ],
          "scattercarpet": [
           {
            "marker": {
             "colorbar": {
              "outlinewidth": 0,
              "ticks": ""
             }
            },
            "type": "scattercarpet"
           }
          ],
          "scattergeo": [
           {
            "marker": {
             "colorbar": {
              "outlinewidth": 0,
              "ticks": ""
             }
            },
            "type": "scattergeo"
           }
          ],
          "scattergl": [
           {
            "marker": {
             "colorbar": {
              "outlinewidth": 0,
              "ticks": ""
             }
            },
            "type": "scattergl"
           }
          ],
          "scattermap": [
           {
            "marker": {
             "colorbar": {
              "outlinewidth": 0,
              "ticks": ""
             }
            },
            "type": "scattermap"
           }
          ],
          "scattermapbox": [
           {
            "marker": {
             "colorbar": {
              "outlinewidth": 0,
              "ticks": ""
             }
            },
            "type": "scattermapbox"
           }
          ],
          "scatterpolar": [
           {
            "marker": {
             "colorbar": {
              "outlinewidth": 0,
              "ticks": ""
             }
            },
            "type": "scatterpolar"
           }
          ],
          "scatterpolargl": [
           {
            "marker": {
             "colorbar": {
              "outlinewidth": 0,
              "ticks": ""
             }
            },
            "type": "scatterpolargl"
           }
          ],
          "scatterternary": [
           {
            "marker": {
             "colorbar": {
              "outlinewidth": 0,
              "ticks": ""
             }
            },
            "type": "scatterternary"
           }
          ],
          "surface": [
           {
            "colorbar": {
             "outlinewidth": 0,
             "ticks": ""
            },
            "colorscale": [
             [
              0,
              "#0d0887"
             ],
             [
              0.1111111111111111,
              "#46039f"
             ],
             [
              0.2222222222222222,
              "#7201a8"
             ],
             [
              0.3333333333333333,
              "#9c179e"
             ],
             [
              0.4444444444444444,
              "#bd3786"
             ],
             [
              0.5555555555555556,
              "#d8576b"
             ],
             [
              0.6666666666666666,
              "#ed7953"
             ],
             [
              0.7777777777777778,
              "#fb9f3a"
             ],
             [
              0.8888888888888888,
              "#fdca26"
             ],
             [
              1,
              "#f0f921"
             ]
            ],
            "type": "surface"
           }
          ],
          "table": [
           {
            "cells": {
             "fill": {
              "color": "#EBF0F8"
             },
             "line": {
              "color": "white"
             }
            },
            "header": {
             "fill": {
              "color": "#C8D4E3"
             },
             "line": {
              "color": "white"
             }
            },
            "type": "table"
           }
          ]
         },
         "layout": {
          "annotationdefaults": {
           "arrowcolor": "#2a3f5f",
           "arrowhead": 0,
           "arrowwidth": 1
          },
          "autotypenumbers": "strict",
          "coloraxis": {
           "colorbar": {
            "outlinewidth": 0,
            "ticks": ""
           }
          },
          "colorscale": {
           "diverging": [
            [
             0,
             "#8e0152"
            ],
            [
             0.1,
             "#c51b7d"
            ],
            [
             0.2,
             "#de77ae"
            ],
            [
             0.3,
             "#f1b6da"
            ],
            [
             0.4,
             "#fde0ef"
            ],
            [
             0.5,
             "#f7f7f7"
            ],
            [
             0.6,
             "#e6f5d0"
            ],
            [
             0.7,
             "#b8e186"
            ],
            [
             0.8,
             "#7fbc41"
            ],
            [
             0.9,
             "#4d9221"
            ],
            [
             1,
             "#276419"
            ]
           ],
           "sequential": [
            [
             0,
             "#0d0887"
            ],
            [
             0.1111111111111111,
             "#46039f"
            ],
            [
             0.2222222222222222,
             "#7201a8"
            ],
            [
             0.3333333333333333,
             "#9c179e"
            ],
            [
             0.4444444444444444,
             "#bd3786"
            ],
            [
             0.5555555555555556,
             "#d8576b"
            ],
            [
             0.6666666666666666,
             "#ed7953"
            ],
            [
             0.7777777777777778,
             "#fb9f3a"
            ],
            [
             0.8888888888888888,
             "#fdca26"
            ],
            [
             1,
             "#f0f921"
            ]
           ],
           "sequentialminus": [
            [
             0,
             "#0d0887"
            ],
            [
             0.1111111111111111,
             "#46039f"
            ],
            [
             0.2222222222222222,
             "#7201a8"
            ],
            [
             0.3333333333333333,
             "#9c179e"
            ],
            [
             0.4444444444444444,
             "#bd3786"
            ],
            [
             0.5555555555555556,
             "#d8576b"
            ],
            [
             0.6666666666666666,
             "#ed7953"
            ],
            [
             0.7777777777777778,
             "#fb9f3a"
            ],
            [
             0.8888888888888888,
             "#fdca26"
            ],
            [
             1,
             "#f0f921"
            ]
           ]
          },
          "colorway": [
           "#636efa",
           "#EF553B",
           "#00cc96",
           "#ab63fa",
           "#FFA15A",
           "#19d3f3",
           "#FF6692",
           "#B6E880",
           "#FF97FF",
           "#FECB52"
          ],
          "font": {
           "color": "#2a3f5f"
          },
          "geo": {
           "bgcolor": "white",
           "lakecolor": "white",
           "landcolor": "#E5ECF6",
           "showlakes": true,
           "showland": true,
           "subunitcolor": "white"
          },
          "hoverlabel": {
           "align": "left"
          },
          "hovermode": "closest",
          "mapbox": {
           "style": "light"
          },
          "paper_bgcolor": "white",
          "plot_bgcolor": "#E5ECF6",
          "polar": {
           "angularaxis": {
            "gridcolor": "white",
            "linecolor": "white",
            "ticks": ""
           },
           "bgcolor": "#E5ECF6",
           "radialaxis": {
            "gridcolor": "white",
            "linecolor": "white",
            "ticks": ""
           }
          },
          "scene": {
           "xaxis": {
            "backgroundcolor": "#E5ECF6",
            "gridcolor": "white",
            "gridwidth": 2,
            "linecolor": "white",
            "showbackground": true,
            "ticks": "",
            "zerolinecolor": "white"
           },
           "yaxis": {
            "backgroundcolor": "#E5ECF6",
            "gridcolor": "white",
            "gridwidth": 2,
            "linecolor": "white",
            "showbackground": true,
            "ticks": "",
            "zerolinecolor": "white"
           },
           "zaxis": {
            "backgroundcolor": "#E5ECF6",
            "gridcolor": "white",
            "gridwidth": 2,
            "linecolor": "white",
            "showbackground": true,
            "ticks": "",
            "zerolinecolor": "white"
           }
          },
          "shapedefaults": {
           "line": {
            "color": "#2a3f5f"
           }
          },
          "ternary": {
           "aaxis": {
            "gridcolor": "white",
            "linecolor": "white",
            "ticks": ""
           },
           "baxis": {
            "gridcolor": "white",
            "linecolor": "white",
            "ticks": ""
           },
           "bgcolor": "#E5ECF6",
           "caxis": {
            "gridcolor": "white",
            "linecolor": "white",
            "ticks": ""
           }
          },
          "title": {
           "x": 0.05
          },
          "xaxis": {
           "automargin": true,
           "gridcolor": "white",
           "linecolor": "white",
           "ticks": "",
           "title": {
            "standoff": 15
           },
           "zerolinecolor": "white",
           "zerolinewidth": 2
          },
          "yaxis": {
           "automargin": true,
           "gridcolor": "white",
           "linecolor": "white",
           "ticks": "",
           "title": {
            "standoff": 15
           },
           "zerolinecolor": "white",
           "zerolinewidth": 2
          }
         }
        },
        "title": {
         "text": "Descomposición de la Serie Temporal (Multiplicative) para HR"
        },
        "xaxis": {
         "anchor": "y",
         "domain": [
          0,
          1
         ]
        },
        "xaxis2": {
         "anchor": "y2",
         "domain": [
          0,
          1
         ]
        },
        "xaxis3": {
         "anchor": "y3",
         "domain": [
          0,
          1
         ]
        },
        "xaxis4": {
         "anchor": "y4",
         "domain": [
          0,
          1
         ]
        },
        "yaxis": {
         "anchor": "x",
         "domain": [
          0.84375,
          1
         ]
        },
        "yaxis2": {
         "anchor": "x2",
         "domain": [
          0.5625,
          0.71875
         ]
        },
        "yaxis3": {
         "anchor": "x3",
         "domain": [
          0.28125,
          0.4375
         ]
        },
        "yaxis4": {
         "anchor": "x4",
         "domain": [
          0,
          0.15625
         ]
        }
       }
      }
     },
     "metadata": {},
     "output_type": "display_data"
    },
    {
     "name": "stderr",
     "output_type": "stream",
     "text": [
      "2025-08-13 16:26:34,556 - INFO - Desviación estándar de los residuales aditivos: 9.02\n",
      "2025-08-13 16:26:34,628 - INFO - Desviación estándar de los residuales multiplicativos: 0.09\n",
      "2025-08-13 16:26:34,630 - INFO - P-value del test ADF: 0.00\n",
      "2025-08-13 16:26:34,641 - INFO - Criterio de selección: La desviación estándar de los residuos multiplicative es menor.\n",
      "2025-08-13 16:26:34,645 - INFO - El departamento IT tiene una descomposición multiplicative.\n",
      "2025-08-13 16:26:34,628 - INFO - Desviación estándar de los residuales multiplicativos: 0.09\n",
      "2025-08-13 16:26:34,630 - INFO - P-value del test ADF: 0.00\n",
      "2025-08-13 16:26:34,641 - INFO - Criterio de selección: La desviación estándar de los residuos multiplicative es menor.\n",
      "2025-08-13 16:26:34,645 - INFO - El departamento IT tiene una descomposición multiplicative.\n"
     ]
    },
    {
     "data": {
      "application/vnd.plotly.v1+json": {
       "config": {
        "plotlyServerURL": "https://plot.ly"
       },
       "data": [
        {
         "mode": "lines",
         "name": "Original",
         "type": "scatter",
         "x": [
          "2023-12-31T00:00:00.000000000",
          "2024-01-14T00:00:00.000000000",
          "2024-01-28T00:00:00.000000000",
          "2024-02-11T00:00:00.000000000",
          "2024-02-25T00:00:00.000000000",
          "2024-03-10T00:00:00.000000000",
          "2024-03-24T00:00:00.000000000",
          "2024-04-07T00:00:00.000000000",
          "2024-04-21T00:00:00.000000000",
          "2024-05-05T00:00:00.000000000",
          "2024-05-19T00:00:00.000000000",
          "2024-06-02T00:00:00.000000000",
          "2024-06-16T00:00:00.000000000",
          "2024-06-30T00:00:00.000000000",
          "2024-07-14T00:00:00.000000000",
          "2024-07-28T00:00:00.000000000",
          "2024-08-11T00:00:00.000000000",
          "2024-08-25T00:00:00.000000000",
          "2024-09-08T00:00:00.000000000",
          "2024-09-22T00:00:00.000000000",
          "2024-10-06T00:00:00.000000000",
          "2024-10-20T00:00:00.000000000",
          "2024-11-03T00:00:00.000000000",
          "2024-11-17T00:00:00.000000000",
          "2024-12-01T00:00:00.000000000",
          "2024-12-15T00:00:00.000000000",
          "2024-12-29T00:00:00.000000000",
          "2025-01-12T00:00:00.000000000",
          "2025-01-26T00:00:00.000000000",
          "2025-02-09T00:00:00.000000000",
          "2025-02-23T00:00:00.000000000",
          "2025-03-09T00:00:00.000000000",
          "2025-03-23T00:00:00.000000000",
          "2025-04-06T00:00:00.000000000",
          "2025-04-20T00:00:00.000000000",
          "2025-05-04T00:00:00.000000000"
         ],
         "xaxis": "x",
         "y": {
          "bdata": "AAAAAAAA+H8ehetRuB5WQOxRuB6Fa1lAHoXrUbjeU0BmZmZmZhZVQOF6FK5H8VtAkML1KFwPVkBwPQrXo7BZQK5H4XoUTllAzMzMzMzcVkBcj8L1KMxXQPYoXI/CKVhAj8L1KFyHWEAoXI/C9eRYQML1KFyPQllAexSuR+G6VEC4HoXrUWhaQKRwPQrXo1dAXI/C9SjMUkCkcD0K12NSQAAAAAAAIFJAZmZmZmbGWkBSuB6F6yFdQML1KFyPElpAAAAAAAA8W0A9CtejcGVcQHoUrkfhjl1AuB6F61G4XkCkcD0K11NbQArXo3A9qmFAZmZmZmbmWEDsUbgehftfQClcj8L1mFtArkfhehR+UkB6FK5H4TpWQHoUrkfhOlZA",
          "dtype": "f8"
         },
         "yaxis": "y"
        },
        {
         "mode": "lines",
         "name": "Tendencia",
         "type": "scatter",
         "x": [
          "2023-12-31T00:00:00.000000000",
          "2024-01-14T00:00:00.000000000",
          "2024-01-28T00:00:00.000000000",
          "2024-02-11T00:00:00.000000000",
          "2024-02-25T00:00:00.000000000",
          "2024-03-10T00:00:00.000000000",
          "2024-03-24T00:00:00.000000000",
          "2024-04-07T00:00:00.000000000",
          "2024-04-21T00:00:00.000000000",
          "2024-05-05T00:00:00.000000000",
          "2024-05-19T00:00:00.000000000",
          "2024-06-02T00:00:00.000000000",
          "2024-06-16T00:00:00.000000000",
          "2024-06-30T00:00:00.000000000",
          "2024-07-14T00:00:00.000000000",
          "2024-07-28T00:00:00.000000000",
          "2024-08-11T00:00:00.000000000",
          "2024-08-25T00:00:00.000000000",
          "2024-09-08T00:00:00.000000000",
          "2024-09-22T00:00:00.000000000",
          "2024-10-06T00:00:00.000000000",
          "2024-10-20T00:00:00.000000000",
          "2024-11-03T00:00:00.000000000",
          "2024-11-17T00:00:00.000000000",
          "2024-12-01T00:00:00.000000000",
          "2024-12-15T00:00:00.000000000",
          "2024-12-29T00:00:00.000000000",
          "2025-01-12T00:00:00.000000000",
          "2025-01-26T00:00:00.000000000",
          "2025-02-09T00:00:00.000000000",
          "2025-02-23T00:00:00.000000000",
          "2025-03-09T00:00:00.000000000",
          "2025-03-23T00:00:00.000000000",
          "2025-04-06T00:00:00.000000000",
          "2025-04-20T00:00:00.000000000",
          "2025-05-04T00:00:00.000000000"
         ],
         "xaxis": "x2",
         "y": {
          "bdata": "AAAAAAAA+H8AAAAAAAD4fwAAAAAAAPh/AAAAAAAA+H8AAAAAAAD4fwAAAAAAAPh/1UU06PO/V0AGOm2gU9pXQM5pA5029ldAR+F6FK79V0CZmZmZmT9YQNlApw10SlhA9Chcj8L5V0BKfrHkF4lXQG89Ctej7lZAL5b8YsnLVkCf0wY6bS5XQDQzMzOze1dAoNMGOu2sV0BwPQrXI+9XQKRwPQpXQlhAWPKLJb/aWECE61G4Hk9ZQNMGOm2g1VlABJ020GmTWkCw5BdLfmVbQOtRuB6FW1xA0GkDnTZoXEAL16NwPcZbQNMGOm2gU1tAAAAAAAAA+H8AAAAAAAD4fwAAAAAAAPh/AAAAAAAA+H8AAAAAAAD4fwAAAAAAAPh/",
          "dtype": "f8"
         },
         "yaxis": "y2"
        },
        {
         "mode": "lines",
         "name": "Estacionalidad",
         "type": "scatter",
         "x": [
          "2023-12-31T00:00:00.000000000",
          "2024-01-14T00:00:00.000000000",
          "2024-01-28T00:00:00.000000000",
          "2024-02-11T00:00:00.000000000",
          "2024-02-25T00:00:00.000000000",
          "2024-03-10T00:00:00.000000000",
          "2024-03-24T00:00:00.000000000",
          "2024-04-07T00:00:00.000000000",
          "2024-04-21T00:00:00.000000000",
          "2024-05-05T00:00:00.000000000",
          "2024-05-19T00:00:00.000000000",
          "2024-06-02T00:00:00.000000000",
          "2024-06-16T00:00:00.000000000",
          "2024-06-30T00:00:00.000000000",
          "2024-07-14T00:00:00.000000000",
          "2024-07-28T00:00:00.000000000",
          "2024-08-11T00:00:00.000000000",
          "2024-08-25T00:00:00.000000000",
          "2024-09-08T00:00:00.000000000",
          "2024-09-22T00:00:00.000000000",
          "2024-10-06T00:00:00.000000000",
          "2024-10-20T00:00:00.000000000",
          "2024-11-03T00:00:00.000000000",
          "2024-11-17T00:00:00.000000000",
          "2024-12-01T00:00:00.000000000",
          "2024-12-15T00:00:00.000000000",
          "2024-12-29T00:00:00.000000000",
          "2025-01-12T00:00:00.000000000",
          "2025-01-26T00:00:00.000000000",
          "2025-02-09T00:00:00.000000000",
          "2025-02-23T00:00:00.000000000",
          "2025-03-09T00:00:00.000000000",
          "2025-03-23T00:00:00.000000000",
          "2025-04-06T00:00:00.000000000",
          "2025-04-20T00:00:00.000000000",
          "2025-05-04T00:00:00.000000000"
         ],
         "xaxis": "x3",
         "y": {
          "bdata": "z7tRsuo48D8mJ6rd+JbwP1bQuf2X+/A/c+4Wc2aK7z+5ldi8etHwP7MlIhtbN/I/KALTf4ZL6z8ZYZzSojztPwQVfSiOkew/suBdnTEV8D+NIakch+TwP1q3jdLNv+8/z7tRsuo48D8mJ6rd+JbwP1bQuf2X+/A/c+4Wc2aK7z+5ldi8etHwP7MlIhtbN/I/KALTf4ZL6z8ZYZzSojztPwQVfSiOkew/suBdnTEV8D+NIakch+TwP1q3jdLNv+8/z7tRsuo48D8mJ6rd+JbwP1bQuf2X+/A/c+4Wc2aK7z+5ldi8etHwP7MlIhtbN/I/KALTf4ZL6z8ZYZzSojztPwQVfSiOkew/suBdnTEV8D+NIakch+TwP1q3jdLNv+8/",
          "dtype": "f8"
         },
         "yaxis": "y3"
        },
        {
         "mode": "lines",
         "name": "Residuos",
         "type": "scatter",
         "x": [
          "2023-12-31T00:00:00.000000000",
          "2024-01-14T00:00:00.000000000",
          "2024-01-28T00:00:00.000000000",
          "2024-02-11T00:00:00.000000000",
          "2024-02-25T00:00:00.000000000",
          "2024-03-10T00:00:00.000000000",
          "2024-03-24T00:00:00.000000000",
          "2024-04-07T00:00:00.000000000",
          "2024-04-21T00:00:00.000000000",
          "2024-05-05T00:00:00.000000000",
          "2024-05-19T00:00:00.000000000",
          "2024-06-02T00:00:00.000000000",
          "2024-06-16T00:00:00.000000000",
          "2024-06-30T00:00:00.000000000",
          "2024-07-14T00:00:00.000000000",
          "2024-07-28T00:00:00.000000000",
          "2024-08-11T00:00:00.000000000",
          "2024-08-25T00:00:00.000000000",
          "2024-09-08T00:00:00.000000000",
          "2024-09-22T00:00:00.000000000",
          "2024-10-06T00:00:00.000000000",
          "2024-10-20T00:00:00.000000000",
          "2024-11-03T00:00:00.000000000",
          "2024-11-17T00:00:00.000000000",
          "2024-12-01T00:00:00.000000000",
          "2024-12-15T00:00:00.000000000",
          "2024-12-29T00:00:00.000000000",
          "2025-01-12T00:00:00.000000000",
          "2025-01-26T00:00:00.000000000",
          "2025-02-09T00:00:00.000000000",
          "2025-02-23T00:00:00.000000000",
          "2025-03-09T00:00:00.000000000",
          "2025-03-23T00:00:00.000000000",
          "2025-04-06T00:00:00.000000000",
          "2025-04-20T00:00:00.000000000",
          "2025-05-04T00:00:00.000000000"
         ],
         "xaxis": "x4",
         "y": {
          "bdata": "AAAAAAAA+H8AAAAAAAD4fwAAAAAAAPh/AAAAAAAA+H8AAAAAAAD4fwAAAAAAAPh/r+9FBWFs8T+YJbtmZtzyP1U05tAq7fI/YjZlx35W7j/KoSsJzr7tPwyRLZelCvA/cUeSbBAl8D9TDZHSeVLwPzetWhGvmvA/5LvSiAuG7T/FGzJ+BFfxP2J9+iFiS+w/pAzia0/J7T/ToPeoROnqP1yDodS7x+o/0lqEV8kl8T8dJaG2oXHxP/VkCSRjRvA/j66kTvgr8D9f0UvRHf3vP5SRuFOzbO8/EZjN9gKO8T94tAl6CPTtP1K3OapXK/I/AAAAAAAA+H8AAAAAAAD4fwAAAAAAAPh/AAAAAAAA+H8AAAAAAAD4fwAAAAAAAPh/",
          "dtype": "f8"
         },
         "yaxis": "y4"
        }
       ],
       "layout": {
        "annotations": [
         {
          "font": {
           "size": 16
          },
          "showarrow": false,
          "text": "Original",
          "x": 0.5,
          "xanchor": "center",
          "xref": "paper",
          "y": 1,
          "yanchor": "bottom",
          "yref": "paper"
         },
         {
          "font": {
           "size": 16
          },
          "showarrow": false,
          "text": "Tendencia",
          "x": 0.5,
          "xanchor": "center",
          "xref": "paper",
          "y": 0.71875,
          "yanchor": "bottom",
          "yref": "paper"
         },
         {
          "font": {
           "size": 16
          },
          "showarrow": false,
          "text": "Estacionalidad",
          "x": 0.5,
          "xanchor": "center",
          "xref": "paper",
          "y": 0.4375,
          "yanchor": "bottom",
          "yref": "paper"
         },
         {
          "font": {
           "size": 16
          },
          "showarrow": false,
          "text": "Residuos",
          "x": 0.5,
          "xanchor": "center",
          "xref": "paper",
          "y": 0.15625,
          "yanchor": "bottom",
          "yref": "paper"
         }
        ],
        "height": 800,
        "template": {
         "data": {
          "bar": [
           {
            "error_x": {
             "color": "#2a3f5f"
            },
            "error_y": {
             "color": "#2a3f5f"
            },
            "marker": {
             "line": {
              "color": "#E5ECF6",
              "width": 0.5
             },
             "pattern": {
              "fillmode": "overlay",
              "size": 10,
              "solidity": 0.2
             }
            },
            "type": "bar"
           }
          ],
          "barpolar": [
           {
            "marker": {
             "line": {
              "color": "#E5ECF6",
              "width": 0.5
             },
             "pattern": {
              "fillmode": "overlay",
              "size": 10,
              "solidity": 0.2
             }
            },
            "type": "barpolar"
           }
          ],
          "carpet": [
           {
            "aaxis": {
             "endlinecolor": "#2a3f5f",
             "gridcolor": "white",
             "linecolor": "white",
             "minorgridcolor": "white",
             "startlinecolor": "#2a3f5f"
            },
            "baxis": {
             "endlinecolor": "#2a3f5f",
             "gridcolor": "white",
             "linecolor": "white",
             "minorgridcolor": "white",
             "startlinecolor": "#2a3f5f"
            },
            "type": "carpet"
           }
          ],
          "choropleth": [
           {
            "colorbar": {
             "outlinewidth": 0,
             "ticks": ""
            },
            "type": "choropleth"
           }
          ],
          "contour": [
           {
            "colorbar": {
             "outlinewidth": 0,
             "ticks": ""
            },
            "colorscale": [
             [
              0,
              "#0d0887"
             ],
             [
              0.1111111111111111,
              "#46039f"
             ],
             [
              0.2222222222222222,
              "#7201a8"
             ],
             [
              0.3333333333333333,
              "#9c179e"
             ],
             [
              0.4444444444444444,
              "#bd3786"
             ],
             [
              0.5555555555555556,
              "#d8576b"
             ],
             [
              0.6666666666666666,
              "#ed7953"
             ],
             [
              0.7777777777777778,
              "#fb9f3a"
             ],
             [
              0.8888888888888888,
              "#fdca26"
             ],
             [
              1,
              "#f0f921"
             ]
            ],
            "type": "contour"
           }
          ],
          "contourcarpet": [
           {
            "colorbar": {
             "outlinewidth": 0,
             "ticks": ""
            },
            "type": "contourcarpet"
           }
          ],
          "heatmap": [
           {
            "colorbar": {
             "outlinewidth": 0,
             "ticks": ""
            },
            "colorscale": [
             [
              0,
              "#0d0887"
             ],
             [
              0.1111111111111111,
              "#46039f"
             ],
             [
              0.2222222222222222,
              "#7201a8"
             ],
             [
              0.3333333333333333,
              "#9c179e"
             ],
             [
              0.4444444444444444,
              "#bd3786"
             ],
             [
              0.5555555555555556,
              "#d8576b"
             ],
             [
              0.6666666666666666,
              "#ed7953"
             ],
             [
              0.7777777777777778,
              "#fb9f3a"
             ],
             [
              0.8888888888888888,
              "#fdca26"
             ],
             [
              1,
              "#f0f921"
             ]
            ],
            "type": "heatmap"
           }
          ],
          "histogram": [
           {
            "marker": {
             "pattern": {
              "fillmode": "overlay",
              "size": 10,
              "solidity": 0.2
             }
            },
            "type": "histogram"
           }
          ],
          "histogram2d": [
           {
            "colorbar": {
             "outlinewidth": 0,
             "ticks": ""
            },
            "colorscale": [
             [
              0,
              "#0d0887"
             ],
             [
              0.1111111111111111,
              "#46039f"
             ],
             [
              0.2222222222222222,
              "#7201a8"
             ],
             [
              0.3333333333333333,
              "#9c179e"
             ],
             [
              0.4444444444444444,
              "#bd3786"
             ],
             [
              0.5555555555555556,
              "#d8576b"
             ],
             [
              0.6666666666666666,
              "#ed7953"
             ],
             [
              0.7777777777777778,
              "#fb9f3a"
             ],
             [
              0.8888888888888888,
              "#fdca26"
             ],
             [
              1,
              "#f0f921"
             ]
            ],
            "type": "histogram2d"
           }
          ],
          "histogram2dcontour": [
           {
            "colorbar": {
             "outlinewidth": 0,
             "ticks": ""
            },
            "colorscale": [
             [
              0,
              "#0d0887"
             ],
             [
              0.1111111111111111,
              "#46039f"
             ],
             [
              0.2222222222222222,
              "#7201a8"
             ],
             [
              0.3333333333333333,
              "#9c179e"
             ],
             [
              0.4444444444444444,
              "#bd3786"
             ],
             [
              0.5555555555555556,
              "#d8576b"
             ],
             [
              0.6666666666666666,
              "#ed7953"
             ],
             [
              0.7777777777777778,
              "#fb9f3a"
             ],
             [
              0.8888888888888888,
              "#fdca26"
             ],
             [
              1,
              "#f0f921"
             ]
            ],
            "type": "histogram2dcontour"
           }
          ],
          "mesh3d": [
           {
            "colorbar": {
             "outlinewidth": 0,
             "ticks": ""
            },
            "type": "mesh3d"
           }
          ],
          "parcoords": [
           {
            "line": {
             "colorbar": {
              "outlinewidth": 0,
              "ticks": ""
             }
            },
            "type": "parcoords"
           }
          ],
          "pie": [
           {
            "automargin": true,
            "type": "pie"
           }
          ],
          "scatter": [
           {
            "fillpattern": {
             "fillmode": "overlay",
             "size": 10,
             "solidity": 0.2
            },
            "type": "scatter"
           }
          ],
          "scatter3d": [
           {
            "line": {
             "colorbar": {
              "outlinewidth": 0,
              "ticks": ""
             }
            },
            "marker": {
             "colorbar": {
              "outlinewidth": 0,
              "ticks": ""
             }
            },
            "type": "scatter3d"
           }
          ],
          "scattercarpet": [
           {
            "marker": {
             "colorbar": {
              "outlinewidth": 0,
              "ticks": ""
             }
            },
            "type": "scattercarpet"
           }
          ],
          "scattergeo": [
           {
            "marker": {
             "colorbar": {
              "outlinewidth": 0,
              "ticks": ""
             }
            },
            "type": "scattergeo"
           }
          ],
          "scattergl": [
           {
            "marker": {
             "colorbar": {
              "outlinewidth": 0,
              "ticks": ""
             }
            },
            "type": "scattergl"
           }
          ],
          "scattermap": [
           {
            "marker": {
             "colorbar": {
              "outlinewidth": 0,
              "ticks": ""
             }
            },
            "type": "scattermap"
           }
          ],
          "scattermapbox": [
           {
            "marker": {
             "colorbar": {
              "outlinewidth": 0,
              "ticks": ""
             }
            },
            "type": "scattermapbox"
           }
          ],
          "scatterpolar": [
           {
            "marker": {
             "colorbar": {
              "outlinewidth": 0,
              "ticks": ""
             }
            },
            "type": "scatterpolar"
           }
          ],
          "scatterpolargl": [
           {
            "marker": {
             "colorbar": {
              "outlinewidth": 0,
              "ticks": ""
             }
            },
            "type": "scatterpolargl"
           }
          ],
          "scatterternary": [
           {
            "marker": {
             "colorbar": {
              "outlinewidth": 0,
              "ticks": ""
             }
            },
            "type": "scatterternary"
           }
          ],
          "surface": [
           {
            "colorbar": {
             "outlinewidth": 0,
             "ticks": ""
            },
            "colorscale": [
             [
              0,
              "#0d0887"
             ],
             [
              0.1111111111111111,
              "#46039f"
             ],
             [
              0.2222222222222222,
              "#7201a8"
             ],
             [
              0.3333333333333333,
              "#9c179e"
             ],
             [
              0.4444444444444444,
              "#bd3786"
             ],
             [
              0.5555555555555556,
              "#d8576b"
             ],
             [
              0.6666666666666666,
              "#ed7953"
             ],
             [
              0.7777777777777778,
              "#fb9f3a"
             ],
             [
              0.8888888888888888,
              "#fdca26"
             ],
             [
              1,
              "#f0f921"
             ]
            ],
            "type": "surface"
           }
          ],
          "table": [
           {
            "cells": {
             "fill": {
              "color": "#EBF0F8"
             },
             "line": {
              "color": "white"
             }
            },
            "header": {
             "fill": {
              "color": "#C8D4E3"
             },
             "line": {
              "color": "white"
             }
            },
            "type": "table"
           }
          ]
         },
         "layout": {
          "annotationdefaults": {
           "arrowcolor": "#2a3f5f",
           "arrowhead": 0,
           "arrowwidth": 1
          },
          "autotypenumbers": "strict",
          "coloraxis": {
           "colorbar": {
            "outlinewidth": 0,
            "ticks": ""
           }
          },
          "colorscale": {
           "diverging": [
            [
             0,
             "#8e0152"
            ],
            [
             0.1,
             "#c51b7d"
            ],
            [
             0.2,
             "#de77ae"
            ],
            [
             0.3,
             "#f1b6da"
            ],
            [
             0.4,
             "#fde0ef"
            ],
            [
             0.5,
             "#f7f7f7"
            ],
            [
             0.6,
             "#e6f5d0"
            ],
            [
             0.7,
             "#b8e186"
            ],
            [
             0.8,
             "#7fbc41"
            ],
            [
             0.9,
             "#4d9221"
            ],
            [
             1,
             "#276419"
            ]
           ],
           "sequential": [
            [
             0,
             "#0d0887"
            ],
            [
             0.1111111111111111,
             "#46039f"
            ],
            [
             0.2222222222222222,
             "#7201a8"
            ],
            [
             0.3333333333333333,
             "#9c179e"
            ],
            [
             0.4444444444444444,
             "#bd3786"
            ],
            [
             0.5555555555555556,
             "#d8576b"
            ],
            [
             0.6666666666666666,
             "#ed7953"
            ],
            [
             0.7777777777777778,
             "#fb9f3a"
            ],
            [
             0.8888888888888888,
             "#fdca26"
            ],
            [
             1,
             "#f0f921"
            ]
           ],
           "sequentialminus": [
            [
             0,
             "#0d0887"
            ],
            [
             0.1111111111111111,
             "#46039f"
            ],
            [
             0.2222222222222222,
             "#7201a8"
            ],
            [
             0.3333333333333333,
             "#9c179e"
            ],
            [
             0.4444444444444444,
             "#bd3786"
            ],
            [
             0.5555555555555556,
             "#d8576b"
            ],
            [
             0.6666666666666666,
             "#ed7953"
            ],
            [
             0.7777777777777778,
             "#fb9f3a"
            ],
            [
             0.8888888888888888,
             "#fdca26"
            ],
            [
             1,
             "#f0f921"
            ]
           ]
          },
          "colorway": [
           "#636efa",
           "#EF553B",
           "#00cc96",
           "#ab63fa",
           "#FFA15A",
           "#19d3f3",
           "#FF6692",
           "#B6E880",
           "#FF97FF",
           "#FECB52"
          ],
          "font": {
           "color": "#2a3f5f"
          },
          "geo": {
           "bgcolor": "white",
           "lakecolor": "white",
           "landcolor": "#E5ECF6",
           "showlakes": true,
           "showland": true,
           "subunitcolor": "white"
          },
          "hoverlabel": {
           "align": "left"
          },
          "hovermode": "closest",
          "mapbox": {
           "style": "light"
          },
          "paper_bgcolor": "white",
          "plot_bgcolor": "#E5ECF6",
          "polar": {
           "angularaxis": {
            "gridcolor": "white",
            "linecolor": "white",
            "ticks": ""
           },
           "bgcolor": "#E5ECF6",
           "radialaxis": {
            "gridcolor": "white",
            "linecolor": "white",
            "ticks": ""
           }
          },
          "scene": {
           "xaxis": {
            "backgroundcolor": "#E5ECF6",
            "gridcolor": "white",
            "gridwidth": 2,
            "linecolor": "white",
            "showbackground": true,
            "ticks": "",
            "zerolinecolor": "white"
           },
           "yaxis": {
            "backgroundcolor": "#E5ECF6",
            "gridcolor": "white",
            "gridwidth": 2,
            "linecolor": "white",
            "showbackground": true,
            "ticks": "",
            "zerolinecolor": "white"
           },
           "zaxis": {
            "backgroundcolor": "#E5ECF6",
            "gridcolor": "white",
            "gridwidth": 2,
            "linecolor": "white",
            "showbackground": true,
            "ticks": "",
            "zerolinecolor": "white"
           }
          },
          "shapedefaults": {
           "line": {
            "color": "#2a3f5f"
           }
          },
          "ternary": {
           "aaxis": {
            "gridcolor": "white",
            "linecolor": "white",
            "ticks": ""
           },
           "baxis": {
            "gridcolor": "white",
            "linecolor": "white",
            "ticks": ""
           },
           "bgcolor": "#E5ECF6",
           "caxis": {
            "gridcolor": "white",
            "linecolor": "white",
            "ticks": ""
           }
          },
          "title": {
           "x": 0.05
          },
          "xaxis": {
           "automargin": true,
           "gridcolor": "white",
           "linecolor": "white",
           "ticks": "",
           "title": {
            "standoff": 15
           },
           "zerolinecolor": "white",
           "zerolinewidth": 2
          },
          "yaxis": {
           "automargin": true,
           "gridcolor": "white",
           "linecolor": "white",
           "ticks": "",
           "title": {
            "standoff": 15
           },
           "zerolinecolor": "white",
           "zerolinewidth": 2
          }
         }
        },
        "title": {
         "text": "Descomposición de la Serie Temporal (Multiplicative) para IT"
        },
        "xaxis": {
         "anchor": "y",
         "domain": [
          0,
          1
         ]
        },
        "xaxis2": {
         "anchor": "y2",
         "domain": [
          0,
          1
         ]
        },
        "xaxis3": {
         "anchor": "y3",
         "domain": [
          0,
          1
         ]
        },
        "xaxis4": {
         "anchor": "y4",
         "domain": [
          0,
          1
         ]
        },
        "yaxis": {
         "anchor": "x",
         "domain": [
          0.84375,
          1
         ]
        },
        "yaxis2": {
         "anchor": "x2",
         "domain": [
          0.5625,
          0.71875
         ]
        },
        "yaxis3": {
         "anchor": "x3",
         "domain": [
          0.28125,
          0.4375
         ]
        },
        "yaxis4": {
         "anchor": "x4",
         "domain": [
          0,
          0.15625
         ]
        }
       }
      }
     },
     "metadata": {},
     "output_type": "display_data"
    },
    {
     "name": "stderr",
     "output_type": "stream",
     "text": [
      "2025-08-13 16:26:35,933 - INFO - Desviación estándar de los residuales aditivos: 7.68\n",
      "2025-08-13 16:26:35,934 - INFO - Desviación estándar de los residuales multiplicativos: 0.06\n",
      "2025-08-13 16:26:35,936 - INFO - P-value del test ADF: 0.00\n",
      "2025-08-13 16:26:35,939 - INFO - Criterio de selección: La desviación estándar de los residuos multiplicative es menor.\n",
      "2025-08-13 16:26:35,941 - INFO - El departamento Inventory tiene una descomposición multiplicative.\n",
      "2025-08-13 16:26:35,934 - INFO - Desviación estándar de los residuales multiplicativos: 0.06\n",
      "2025-08-13 16:26:35,936 - INFO - P-value del test ADF: 0.00\n",
      "2025-08-13 16:26:35,939 - INFO - Criterio de selección: La desviación estándar de los residuos multiplicative es menor.\n",
      "2025-08-13 16:26:35,941 - INFO - El departamento Inventory tiene una descomposición multiplicative.\n"
     ]
    },
    {
     "data": {
      "application/vnd.plotly.v1+json": {
       "config": {
        "plotlyServerURL": "https://plot.ly"
       },
       "data": [
        {
         "mode": "lines",
         "name": "Original",
         "type": "scatter",
         "x": [
          "2023-12-31T00:00:00.000000000",
          "2024-01-14T00:00:00.000000000",
          "2024-01-28T00:00:00.000000000",
          "2024-02-11T00:00:00.000000000",
          "2024-02-25T00:00:00.000000000",
          "2024-03-10T00:00:00.000000000",
          "2024-03-24T00:00:00.000000000",
          "2024-04-07T00:00:00.000000000",
          "2024-04-21T00:00:00.000000000",
          "2024-05-05T00:00:00.000000000",
          "2024-05-19T00:00:00.000000000",
          "2024-06-02T00:00:00.000000000",
          "2024-06-16T00:00:00.000000000",
          "2024-06-30T00:00:00.000000000",
          "2024-07-14T00:00:00.000000000",
          "2024-07-28T00:00:00.000000000",
          "2024-08-11T00:00:00.000000000",
          "2024-08-25T00:00:00.000000000",
          "2024-09-08T00:00:00.000000000",
          "2024-09-22T00:00:00.000000000",
          "2024-10-06T00:00:00.000000000",
          "2024-10-20T00:00:00.000000000",
          "2024-11-03T00:00:00.000000000",
          "2024-11-17T00:00:00.000000000",
          "2024-12-01T00:00:00.000000000",
          "2024-12-15T00:00:00.000000000",
          "2024-12-29T00:00:00.000000000",
          "2025-01-12T00:00:00.000000000",
          "2025-01-26T00:00:00.000000000",
          "2025-02-09T00:00:00.000000000",
          "2025-02-23T00:00:00.000000000",
          "2025-03-09T00:00:00.000000000",
          "2025-03-23T00:00:00.000000000",
          "2025-04-06T00:00:00.000000000",
          "2025-04-20T00:00:00.000000000",
          "2025-05-04T00:00:00.000000000"
         ],
         "xaxis": "x",
         "y": {
          "bdata": "AAAAAAAA+H9mZmZmZvZaQJDC9ShcX11AehSuR+HqVkAAAAAAAEBXQEjhehSuB2FACtejcD0KWkCamZmZmclbQGZmZmZmtlxA2KNwPQo3VkCamZmZmUlaQJDC9Shcb1tAhetRuB6VXEB6FK5H4bpdQHA9Ctej4F5ArkfhehTOX0DrUbgehbtfQArXo3A9cmBAH4XrUbhuXEAK16NwPXpaQIXrUbgeHWJApHA9CteTWkBwPQrXo1BdQArXo3A9cmFAAAAAAACKYEDrUbgehUNfQNajcD0Kc11AwvUoXI+iW0AfhetRuO5ZQAAAAAAAwFtAKVyPwvV4V0CG61G4HvVfQML1KFyP2mBAPQrXo3D9XkC4HoXrUahcQLgehetRqFxA",
          "dtype": "f8"
         },
         "yaxis": "y"
        },
        {
         "mode": "lines",
         "name": "Tendencia",
         "type": "scatter",
         "x": [
          "2023-12-31T00:00:00.000000000",
          "2024-01-14T00:00:00.000000000",
          "2024-01-28T00:00:00.000000000",
          "2024-02-11T00:00:00.000000000",
          "2024-02-25T00:00:00.000000000",
          "2024-03-10T00:00:00.000000000",
          "2024-03-24T00:00:00.000000000",
          "2024-04-07T00:00:00.000000000",
          "2024-04-21T00:00:00.000000000",
          "2024-05-05T00:00:00.000000000",
          "2024-05-19T00:00:00.000000000",
          "2024-06-02T00:00:00.000000000",
          "2024-06-16T00:00:00.000000000",
          "2024-06-30T00:00:00.000000000",
          "2024-07-14T00:00:00.000000000",
          "2024-07-28T00:00:00.000000000",
          "2024-08-11T00:00:00.000000000",
          "2024-08-25T00:00:00.000000000",
          "2024-09-08T00:00:00.000000000",
          "2024-09-22T00:00:00.000000000",
          "2024-10-06T00:00:00.000000000",
          "2024-10-20T00:00:00.000000000",
          "2024-11-03T00:00:00.000000000",
          "2024-11-17T00:00:00.000000000",
          "2024-12-01T00:00:00.000000000",
          "2024-12-15T00:00:00.000000000",
          "2024-12-29T00:00:00.000000000",
          "2025-01-12T00:00:00.000000000",
          "2025-01-26T00:00:00.000000000",
          "2025-02-09T00:00:00.000000000",
          "2025-02-23T00:00:00.000000000",
          "2025-03-09T00:00:00.000000000",
          "2025-03-23T00:00:00.000000000",
          "2025-04-06T00:00:00.000000000",
          "2025-04-20T00:00:00.000000000",
          "2025-05-04T00:00:00.000000000"
         ],
         "xaxis": "x2",
         "y": {
          "bdata": "AAAAAAAA+H8AAAAAAAD4fwAAAAAAAPh/AAAAAAAA+H8AAAAAAAD4fwAAAAAAAPh/R67F1XD8WkB3d3d3dxVbQNejcD0KQ1tAF0t+seSxW0D4xZJfLGtcQDQzMzMzuVxARERERETGXEBqA5020NFcQP//////E11A5hdLfrGSXUDsUbgeheFdQI7C9ShcUV5AjsL1KNzQXkD4xZJfLBFfQMzMzMxMEl9A/GLJL5bWXkAJ16NwPWxeQOtRuB6F911A9Shcj8KLXUAZ6LSBTpFdQHwUrkfhsF1AEBERERHFXUCF61G4Hu1dQJmZmZmZo11AAAAAAAAA+H8AAAAAAAD4fwAAAAAAAPh/AAAAAAAA+H8AAAAAAAD4fwAAAAAAAPh/",
          "dtype": "f8"
         },
         "yaxis": "y2"
        },
        {
         "mode": "lines",
         "name": "Estacionalidad",
         "type": "scatter",
         "x": [
          "2023-12-31T00:00:00.000000000",
          "2024-01-14T00:00:00.000000000",
          "2024-01-28T00:00:00.000000000",
          "2024-02-11T00:00:00.000000000",
          "2024-02-25T00:00:00.000000000",
          "2024-03-10T00:00:00.000000000",
          "2024-03-24T00:00:00.000000000",
          "2024-04-07T00:00:00.000000000",
          "2024-04-21T00:00:00.000000000",
          "2024-05-05T00:00:00.000000000",
          "2024-05-19T00:00:00.000000000",
          "2024-06-02T00:00:00.000000000",
          "2024-06-16T00:00:00.000000000",
          "2024-06-30T00:00:00.000000000",
          "2024-07-14T00:00:00.000000000",
          "2024-07-28T00:00:00.000000000",
          "2024-08-11T00:00:00.000000000",
          "2024-08-25T00:00:00.000000000",
          "2024-09-08T00:00:00.000000000",
          "2024-09-22T00:00:00.000000000",
          "2024-10-06T00:00:00.000000000",
          "2024-10-20T00:00:00.000000000",
          "2024-11-03T00:00:00.000000000",
          "2024-11-17T00:00:00.000000000",
          "2024-12-01T00:00:00.000000000",
          "2024-12-15T00:00:00.000000000",
          "2024-12-29T00:00:00.000000000",
          "2025-01-12T00:00:00.000000000",
          "2025-01-26T00:00:00.000000000",
          "2025-02-09T00:00:00.000000000",
          "2025-02-23T00:00:00.000000000",
          "2025-03-09T00:00:00.000000000",
          "2025-03-23T00:00:00.000000000",
          "2025-04-06T00:00:00.000000000",
          "2025-04-20T00:00:00.000000000",
          "2025-05-04T00:00:00.000000000"
         ],
         "xaxis": "x3",
         "y": {
          "bdata": "h03UaHL/8D/xAG4RLs7wP2C9ex2qhfA/GGaTgroe8D+jNhAJfwfvP2r05w2dQvA/+2RVx/pe7j8lEn4YdzjuP0XvJy5R2vE/JlIfa9rF6j+Mj+aoFGPuP6riKascDfE/h03UaHL/8D/xAG4RLs7wP2C9ex2qhfA/GGaTgroe8D+jNhAJfwfvP2r05w2dQvA/+2RVx/pe7j8lEn4YdzjuP0XvJy5R2vE/JlIfa9rF6j+Mj+aoFGPuP6riKascDfE/h03UaHL/8D/xAG4RLs7wP2C9ex2qhfA/GGaTgroe8D+jNhAJfwfvP2r05w2dQvA/+2RVx/pe7j8lEn4YdzjuP0XvJy5R2vE/JlIfa9rF6j+Mj+aoFGPuP6riKascDfE/",
          "dtype": "f8"
         },
         "yaxis": "y3"
        },
        {
         "mode": "lines",
         "name": "Residuos",
         "type": "scatter",
         "x": [
          "2023-12-31T00:00:00.000000000",
          "2024-01-14T00:00:00.000000000",
          "2024-01-28T00:00:00.000000000",
          "2024-02-11T00:00:00.000000000",
          "2024-02-25T00:00:00.000000000",
          "2024-03-10T00:00:00.000000000",
          "2024-03-24T00:00:00.000000000",
          "2024-04-07T00:00:00.000000000",
          "2024-04-21T00:00:00.000000000",
          "2024-05-05T00:00:00.000000000",
          "2024-05-19T00:00:00.000000000",
          "2024-06-02T00:00:00.000000000",
          "2024-06-16T00:00:00.000000000",
          "2024-06-30T00:00:00.000000000",
          "2024-07-14T00:00:00.000000000",
          "2024-07-28T00:00:00.000000000",
          "2024-08-11T00:00:00.000000000",
          "2024-08-25T00:00:00.000000000",
          "2024-09-08T00:00:00.000000000",
          "2024-09-22T00:00:00.000000000",
          "2024-10-06T00:00:00.000000000",
          "2024-10-20T00:00:00.000000000",
          "2024-11-03T00:00:00.000000000",
          "2024-11-17T00:00:00.000000000",
          "2024-12-01T00:00:00.000000000",
          "2024-12-15T00:00:00.000000000",
          "2024-12-29T00:00:00.000000000",
          "2025-01-12T00:00:00.000000000",
          "2025-01-26T00:00:00.000000000",
          "2025-02-09T00:00:00.000000000",
          "2025-02-23T00:00:00.000000000",
          "2025-03-09T00:00:00.000000000",
          "2025-03-23T00:00:00.000000000",
          "2025-04-06T00:00:00.000000000",
          "2025-04-20T00:00:00.000000000",
          "2025-05-04T00:00:00.000000000"
         ],
         "xaxis": "x4",
         "y": {
          "bdata": "AAAAAAAA+H8AAAAAAAD4fwAAAAAAAPh/AAAAAAAA+H8AAAAAAAD4fwAAAAAAAPh/j9R0MmRE8D8RTqwY3GHxPzNiSg17NO4/NsgvlQOu7j+VrWO35ivvPzjT2oglruw/QSCQeqbr7T9nH5x4yW3vP4I4vVUDdPA/erZxd1YU8T8+HF3o4oXxP1clVE+7FPE/nvKVuNEb7z+Z/ybs4eDsP8OcGogPuPA/wuknREt78D8T9w2zWTzwP0FkUko6e/E/vb130Xnc8D8svnFSaBvwP7QqBXKTvO4/xS6cLu177T9AY8VM1JjsPwtR134je+0/AAAAAAAA+H8AAAAAAAD4fwAAAAAAAPh/AAAAAAAA+H8AAAAAAAD4fwAAAAAAAPh/",
          "dtype": "f8"
         },
         "yaxis": "y4"
        }
       ],
       "layout": {
        "annotations": [
         {
          "font": {
           "size": 16
          },
          "showarrow": false,
          "text": "Original",
          "x": 0.5,
          "xanchor": "center",
          "xref": "paper",
          "y": 1,
          "yanchor": "bottom",
          "yref": "paper"
         },
         {
          "font": {
           "size": 16
          },
          "showarrow": false,
          "text": "Tendencia",
          "x": 0.5,
          "xanchor": "center",
          "xref": "paper",
          "y": 0.71875,
          "yanchor": "bottom",
          "yref": "paper"
         },
         {
          "font": {
           "size": 16
          },
          "showarrow": false,
          "text": "Estacionalidad",
          "x": 0.5,
          "xanchor": "center",
          "xref": "paper",
          "y": 0.4375,
          "yanchor": "bottom",
          "yref": "paper"
         },
         {
          "font": {
           "size": 16
          },
          "showarrow": false,
          "text": "Residuos",
          "x": 0.5,
          "xanchor": "center",
          "xref": "paper",
          "y": 0.15625,
          "yanchor": "bottom",
          "yref": "paper"
         }
        ],
        "height": 800,
        "template": {
         "data": {
          "bar": [
           {
            "error_x": {
             "color": "#2a3f5f"
            },
            "error_y": {
             "color": "#2a3f5f"
            },
            "marker": {
             "line": {
              "color": "#E5ECF6",
              "width": 0.5
             },
             "pattern": {
              "fillmode": "overlay",
              "size": 10,
              "solidity": 0.2
             }
            },
            "type": "bar"
           }
          ],
          "barpolar": [
           {
            "marker": {
             "line": {
              "color": "#E5ECF6",
              "width": 0.5
             },
             "pattern": {
              "fillmode": "overlay",
              "size": 10,
              "solidity": 0.2
             }
            },
            "type": "barpolar"
           }
          ],
          "carpet": [
           {
            "aaxis": {
             "endlinecolor": "#2a3f5f",
             "gridcolor": "white",
             "linecolor": "white",
             "minorgridcolor": "white",
             "startlinecolor": "#2a3f5f"
            },
            "baxis": {
             "endlinecolor": "#2a3f5f",
             "gridcolor": "white",
             "linecolor": "white",
             "minorgridcolor": "white",
             "startlinecolor": "#2a3f5f"
            },
            "type": "carpet"
           }
          ],
          "choropleth": [
           {
            "colorbar": {
             "outlinewidth": 0,
             "ticks": ""
            },
            "type": "choropleth"
           }
          ],
          "contour": [
           {
            "colorbar": {
             "outlinewidth": 0,
             "ticks": ""
            },
            "colorscale": [
             [
              0,
              "#0d0887"
             ],
             [
              0.1111111111111111,
              "#46039f"
             ],
             [
              0.2222222222222222,
              "#7201a8"
             ],
             [
              0.3333333333333333,
              "#9c179e"
             ],
             [
              0.4444444444444444,
              "#bd3786"
             ],
             [
              0.5555555555555556,
              "#d8576b"
             ],
             [
              0.6666666666666666,
              "#ed7953"
             ],
             [
              0.7777777777777778,
              "#fb9f3a"
             ],
             [
              0.8888888888888888,
              "#fdca26"
             ],
             [
              1,
              "#f0f921"
             ]
            ],
            "type": "contour"
           }
          ],
          "contourcarpet": [
           {
            "colorbar": {
             "outlinewidth": 0,
             "ticks": ""
            },
            "type": "contourcarpet"
           }
          ],
          "heatmap": [
           {
            "colorbar": {
             "outlinewidth": 0,
             "ticks": ""
            },
            "colorscale": [
             [
              0,
              "#0d0887"
             ],
             [
              0.1111111111111111,
              "#46039f"
             ],
             [
              0.2222222222222222,
              "#7201a8"
             ],
             [
              0.3333333333333333,
              "#9c179e"
             ],
             [
              0.4444444444444444,
              "#bd3786"
             ],
             [
              0.5555555555555556,
              "#d8576b"
             ],
             [
              0.6666666666666666,
              "#ed7953"
             ],
             [
              0.7777777777777778,
              "#fb9f3a"
             ],
             [
              0.8888888888888888,
              "#fdca26"
             ],
             [
              1,
              "#f0f921"
             ]
            ],
            "type": "heatmap"
           }
          ],
          "histogram": [
           {
            "marker": {
             "pattern": {
              "fillmode": "overlay",
              "size": 10,
              "solidity": 0.2
             }
            },
            "type": "histogram"
           }
          ],
          "histogram2d": [
           {
            "colorbar": {
             "outlinewidth": 0,
             "ticks": ""
            },
            "colorscale": [
             [
              0,
              "#0d0887"
             ],
             [
              0.1111111111111111,
              "#46039f"
             ],
             [
              0.2222222222222222,
              "#7201a8"
             ],
             [
              0.3333333333333333,
              "#9c179e"
             ],
             [
              0.4444444444444444,
              "#bd3786"
             ],
             [
              0.5555555555555556,
              "#d8576b"
             ],
             [
              0.6666666666666666,
              "#ed7953"
             ],
             [
              0.7777777777777778,
              "#fb9f3a"
             ],
             [
              0.8888888888888888,
              "#fdca26"
             ],
             [
              1,
              "#f0f921"
             ]
            ],
            "type": "histogram2d"
           }
          ],
          "histogram2dcontour": [
           {
            "colorbar": {
             "outlinewidth": 0,
             "ticks": ""
            },
            "colorscale": [
             [
              0,
              "#0d0887"
             ],
             [
              0.1111111111111111,
              "#46039f"
             ],
             [
              0.2222222222222222,
              "#7201a8"
             ],
             [
              0.3333333333333333,
              "#9c179e"
             ],
             [
              0.4444444444444444,
              "#bd3786"
             ],
             [
              0.5555555555555556,
              "#d8576b"
             ],
             [
              0.6666666666666666,
              "#ed7953"
             ],
             [
              0.7777777777777778,
              "#fb9f3a"
             ],
             [
              0.8888888888888888,
              "#fdca26"
             ],
             [
              1,
              "#f0f921"
             ]
            ],
            "type": "histogram2dcontour"
           }
          ],
          "mesh3d": [
           {
            "colorbar": {
             "outlinewidth": 0,
             "ticks": ""
            },
            "type": "mesh3d"
           }
          ],
          "parcoords": [
           {
            "line": {
             "colorbar": {
              "outlinewidth": 0,
              "ticks": ""
             }
            },
            "type": "parcoords"
           }
          ],
          "pie": [
           {
            "automargin": true,
            "type": "pie"
           }
          ],
          "scatter": [
           {
            "fillpattern": {
             "fillmode": "overlay",
             "size": 10,
             "solidity": 0.2
            },
            "type": "scatter"
           }
          ],
          "scatter3d": [
           {
            "line": {
             "colorbar": {
              "outlinewidth": 0,
              "ticks": ""
             }
            },
            "marker": {
             "colorbar": {
              "outlinewidth": 0,
              "ticks": ""
             }
            },
            "type": "scatter3d"
           }
          ],
          "scattercarpet": [
           {
            "marker": {
             "colorbar": {
              "outlinewidth": 0,
              "ticks": ""
             }
            },
            "type": "scattercarpet"
           }
          ],
          "scattergeo": [
           {
            "marker": {
             "colorbar": {
              "outlinewidth": 0,
              "ticks": ""
             }
            },
            "type": "scattergeo"
           }
          ],
          "scattergl": [
           {
            "marker": {
             "colorbar": {
              "outlinewidth": 0,
              "ticks": ""
             }
            },
            "type": "scattergl"
           }
          ],
          "scattermap": [
           {
            "marker": {
             "colorbar": {
              "outlinewidth": 0,
              "ticks": ""
             }
            },
            "type": "scattermap"
           }
          ],
          "scattermapbox": [
           {
            "marker": {
             "colorbar": {
              "outlinewidth": 0,
              "ticks": ""
             }
            },
            "type": "scattermapbox"
           }
          ],
          "scatterpolar": [
           {
            "marker": {
             "colorbar": {
              "outlinewidth": 0,
              "ticks": ""
             }
            },
            "type": "scatterpolar"
           }
          ],
          "scatterpolargl": [
           {
            "marker": {
             "colorbar": {
              "outlinewidth": 0,
              "ticks": ""
             }
            },
            "type": "scatterpolargl"
           }
          ],
          "scatterternary": [
           {
            "marker": {
             "colorbar": {
              "outlinewidth": 0,
              "ticks": ""
             }
            },
            "type": "scatterternary"
           }
          ],
          "surface": [
           {
            "colorbar": {
             "outlinewidth": 0,
             "ticks": ""
            },
            "colorscale": [
             [
              0,
              "#0d0887"
             ],
             [
              0.1111111111111111,
              "#46039f"
             ],
             [
              0.2222222222222222,
              "#7201a8"
             ],
             [
              0.3333333333333333,
              "#9c179e"
             ],
             [
              0.4444444444444444,
              "#bd3786"
             ],
             [
              0.5555555555555556,
              "#d8576b"
             ],
             [
              0.6666666666666666,
              "#ed7953"
             ],
             [
              0.7777777777777778,
              "#fb9f3a"
             ],
             [
              0.8888888888888888,
              "#fdca26"
             ],
             [
              1,
              "#f0f921"
             ]
            ],
            "type": "surface"
           }
          ],
          "table": [
           {
            "cells": {
             "fill": {
              "color": "#EBF0F8"
             },
             "line": {
              "color": "white"
             }
            },
            "header": {
             "fill": {
              "color": "#C8D4E3"
             },
             "line": {
              "color": "white"
             }
            },
            "type": "table"
           }
          ]
         },
         "layout": {
          "annotationdefaults": {
           "arrowcolor": "#2a3f5f",
           "arrowhead": 0,
           "arrowwidth": 1
          },
          "autotypenumbers": "strict",
          "coloraxis": {
           "colorbar": {
            "outlinewidth": 0,
            "ticks": ""
           }
          },
          "colorscale": {
           "diverging": [
            [
             0,
             "#8e0152"
            ],
            [
             0.1,
             "#c51b7d"
            ],
            [
             0.2,
             "#de77ae"
            ],
            [
             0.3,
             "#f1b6da"
            ],
            [
             0.4,
             "#fde0ef"
            ],
            [
             0.5,
             "#f7f7f7"
            ],
            [
             0.6,
             "#e6f5d0"
            ],
            [
             0.7,
             "#b8e186"
            ],
            [
             0.8,
             "#7fbc41"
            ],
            [
             0.9,
             "#4d9221"
            ],
            [
             1,
             "#276419"
            ]
           ],
           "sequential": [
            [
             0,
             "#0d0887"
            ],
            [
             0.1111111111111111,
             "#46039f"
            ],
            [
             0.2222222222222222,
             "#7201a8"
            ],
            [
             0.3333333333333333,
             "#9c179e"
            ],
            [
             0.4444444444444444,
             "#bd3786"
            ],
            [
             0.5555555555555556,
             "#d8576b"
            ],
            [
             0.6666666666666666,
             "#ed7953"
            ],
            [
             0.7777777777777778,
             "#fb9f3a"
            ],
            [
             0.8888888888888888,
             "#fdca26"
            ],
            [
             1,
             "#f0f921"
            ]
           ],
           "sequentialminus": [
            [
             0,
             "#0d0887"
            ],
            [
             0.1111111111111111,
             "#46039f"
            ],
            [
             0.2222222222222222,
             "#7201a8"
            ],
            [
             0.3333333333333333,
             "#9c179e"
            ],
            [
             0.4444444444444444,
             "#bd3786"
            ],
            [
             0.5555555555555556,
             "#d8576b"
            ],
            [
             0.6666666666666666,
             "#ed7953"
            ],
            [
             0.7777777777777778,
             "#fb9f3a"
            ],
            [
             0.8888888888888888,
             "#fdca26"
            ],
            [
             1,
             "#f0f921"
            ]
           ]
          },
          "colorway": [
           "#636efa",
           "#EF553B",
           "#00cc96",
           "#ab63fa",
           "#FFA15A",
           "#19d3f3",
           "#FF6692",
           "#B6E880",
           "#FF97FF",
           "#FECB52"
          ],
          "font": {
           "color": "#2a3f5f"
          },
          "geo": {
           "bgcolor": "white",
           "lakecolor": "white",
           "landcolor": "#E5ECF6",
           "showlakes": true,
           "showland": true,
           "subunitcolor": "white"
          },
          "hoverlabel": {
           "align": "left"
          },
          "hovermode": "closest",
          "mapbox": {
           "style": "light"
          },
          "paper_bgcolor": "white",
          "plot_bgcolor": "#E5ECF6",
          "polar": {
           "angularaxis": {
            "gridcolor": "white",
            "linecolor": "white",
            "ticks": ""
           },
           "bgcolor": "#E5ECF6",
           "radialaxis": {
            "gridcolor": "white",
            "linecolor": "white",
            "ticks": ""
           }
          },
          "scene": {
           "xaxis": {
            "backgroundcolor": "#E5ECF6",
            "gridcolor": "white",
            "gridwidth": 2,
            "linecolor": "white",
            "showbackground": true,
            "ticks": "",
            "zerolinecolor": "white"
           },
           "yaxis": {
            "backgroundcolor": "#E5ECF6",
            "gridcolor": "white",
            "gridwidth": 2,
            "linecolor": "white",
            "showbackground": true,
            "ticks": "",
            "zerolinecolor": "white"
           },
           "zaxis": {
            "backgroundcolor": "#E5ECF6",
            "gridcolor": "white",
            "gridwidth": 2,
            "linecolor": "white",
            "showbackground": true,
            "ticks": "",
            "zerolinecolor": "white"
           }
          },
          "shapedefaults": {
           "line": {
            "color": "#2a3f5f"
           }
          },
          "ternary": {
           "aaxis": {
            "gridcolor": "white",
            "linecolor": "white",
            "ticks": ""
           },
           "baxis": {
            "gridcolor": "white",
            "linecolor": "white",
            "ticks": ""
           },
           "bgcolor": "#E5ECF6",
           "caxis": {
            "gridcolor": "white",
            "linecolor": "white",
            "ticks": ""
           }
          },
          "title": {
           "x": 0.05
          },
          "xaxis": {
           "automargin": true,
           "gridcolor": "white",
           "linecolor": "white",
           "ticks": "",
           "title": {
            "standoff": 15
           },
           "zerolinecolor": "white",
           "zerolinewidth": 2
          },
          "yaxis": {
           "automargin": true,
           "gridcolor": "white",
           "linecolor": "white",
           "ticks": "",
           "title": {
            "standoff": 15
           },
           "zerolinecolor": "white",
           "zerolinewidth": 2
          }
         }
        },
        "title": {
         "text": "Descomposición de la Serie Temporal (Multiplicative) para Inventory"
        },
        "xaxis": {
         "anchor": "y",
         "domain": [
          0,
          1
         ]
        },
        "xaxis2": {
         "anchor": "y2",
         "domain": [
          0,
          1
         ]
        },
        "xaxis3": {
         "anchor": "y3",
         "domain": [
          0,
          1
         ]
        },
        "xaxis4": {
         "anchor": "y4",
         "domain": [
          0,
          1
         ]
        },
        "yaxis": {
         "anchor": "x",
         "domain": [
          0.84375,
          1
         ]
        },
        "yaxis2": {
         "anchor": "x2",
         "domain": [
          0.5625,
          0.71875
         ]
        },
        "yaxis3": {
         "anchor": "x3",
         "domain": [
          0.28125,
          0.4375
         ]
        },
        "yaxis4": {
         "anchor": "x4",
         "domain": [
          0,
          0.15625
         ]
        }
       }
      }
     },
     "metadata": {},
     "output_type": "display_data"
    },
    {
     "name": "stderr",
     "output_type": "stream",
     "text": [
      "2025-08-13 16:26:36,029 - INFO - Desviación estándar de los residuales aditivos: 3.56\n",
      "2025-08-13 16:26:36,030 - INFO - Desviación estándar de los residuales multiplicativos: 0.05\n",
      "2025-08-13 16:26:36,031 - INFO - P-value del test ADF: 0.00\n",
      "2025-08-13 16:26:36,030 - INFO - Desviación estándar de los residuales multiplicativos: 0.05\n",
      "2025-08-13 16:26:36,031 - INFO - P-value del test ADF: 0.00\n",
      "2025-08-13 16:26:36,032 - INFO - Criterio de selección: La desviación estándar de los residuos multiplicative es menor.\n",
      "2025-08-13 16:26:36,033 - INFO - El departamento Marketing tiene una descomposición multiplicative.\n",
      "2025-08-13 16:26:36,032 - INFO - Criterio de selección: La desviación estándar de los residuos multiplicative es menor.\n",
      "2025-08-13 16:26:36,033 - INFO - El departamento Marketing tiene una descomposición multiplicative.\n"
     ]
    },
    {
     "data": {
      "application/vnd.plotly.v1+json": {
       "config": {
        "plotlyServerURL": "https://plot.ly"
       },
       "data": [
        {
         "mode": "lines",
         "name": "Original",
         "type": "scatter",
         "x": [
          "2023-12-31T00:00:00.000000000",
          "2024-01-14T00:00:00.000000000",
          "2024-01-28T00:00:00.000000000",
          "2024-02-11T00:00:00.000000000",
          "2024-02-25T00:00:00.000000000",
          "2024-03-10T00:00:00.000000000",
          "2024-03-24T00:00:00.000000000",
          "2024-04-07T00:00:00.000000000",
          "2024-04-21T00:00:00.000000000",
          "2024-05-05T00:00:00.000000000",
          "2024-05-19T00:00:00.000000000",
          "2024-06-02T00:00:00.000000000",
          "2024-06-16T00:00:00.000000000",
          "2024-06-30T00:00:00.000000000",
          "2024-07-14T00:00:00.000000000",
          "2024-07-28T00:00:00.000000000",
          "2024-08-11T00:00:00.000000000",
          "2024-08-25T00:00:00.000000000",
          "2024-09-08T00:00:00.000000000",
          "2024-09-22T00:00:00.000000000",
          "2024-10-06T00:00:00.000000000",
          "2024-10-20T00:00:00.000000000",
          "2024-11-03T00:00:00.000000000",
          "2024-11-17T00:00:00.000000000",
          "2024-12-01T00:00:00.000000000",
          "2024-12-15T00:00:00.000000000",
          "2024-12-29T00:00:00.000000000",
          "2025-01-12T00:00:00.000000000",
          "2025-01-26T00:00:00.000000000",
          "2025-02-09T00:00:00.000000000",
          "2025-02-23T00:00:00.000000000",
          "2025-03-09T00:00:00.000000000",
          "2025-03-23T00:00:00.000000000",
          "2025-04-06T00:00:00.000000000",
          "2025-04-20T00:00:00.000000000",
          "2025-05-04T00:00:00.000000000"
         ],
         "xaxis": "x",
         "y": {
          "bdata": "AAAAAAAA+H+QwvUoXC9IQHsUrkfhOktAKVyPwvXISEDMzMzMzCxNQOxRuB6Fy01AFK5H4XoUS0B7FK5H4ZpKQArXo3A9KkpAXI/C9Sh8SkAK16NwPSpQQFyPwvUosFBArkfhehQ2UUAAAAAAALxRQFK4HoXrQVJAwvUoXI9iSkDNzMzMzMxTQPYoXI/CxVJAKVyPwvXIS0DMzMzMzJxSQOF6FK5HYUpAHoXrUbj+S0DNzMzMzOxOQHE9CtejgFBA4noUrkcNUECkcD0K1zNPQIXrUbgeTU5AZmZmZmZmTUAAAAAAAKBQQM3MzMzMjFJAcD0K16PwSkAUrkfhehRLQML1KFyPMlNArkfhehTOTkDhehSuR/FRQOF6FK5H8VFA",
          "dtype": "f8"
         },
         "yaxis": "y"
        },
        {
         "mode": "lines",
         "name": "Tendencia",
         "type": "scatter",
         "x": [
          "2023-12-31T00:00:00.000000000",
          "2024-01-14T00:00:00.000000000",
          "2024-01-28T00:00:00.000000000",
          "2024-02-11T00:00:00.000000000",
          "2024-02-25T00:00:00.000000000",
          "2024-03-10T00:00:00.000000000",
          "2024-03-24T00:00:00.000000000",
          "2024-04-07T00:00:00.000000000",
          "2024-04-21T00:00:00.000000000",
          "2024-05-05T00:00:00.000000000",
          "2024-05-19T00:00:00.000000000",
          "2024-06-02T00:00:00.000000000",
          "2024-06-16T00:00:00.000000000",
          "2024-06-30T00:00:00.000000000",
          "2024-07-14T00:00:00.000000000",
          "2024-07-28T00:00:00.000000000",
          "2024-08-11T00:00:00.000000000",
          "2024-08-25T00:00:00.000000000",
          "2024-09-08T00:00:00.000000000",
          "2024-09-22T00:00:00.000000000",
          "2024-10-06T00:00:00.000000000",
          "2024-10-20T00:00:00.000000000",
          "2024-11-03T00:00:00.000000000",
          "2024-11-17T00:00:00.000000000",
          "2024-12-01T00:00:00.000000000",
          "2024-12-15T00:00:00.000000000",
          "2024-12-29T00:00:00.000000000",
          "2025-01-12T00:00:00.000000000",
          "2025-01-26T00:00:00.000000000",
          "2025-02-09T00:00:00.000000000",
          "2025-02-23T00:00:00.000000000",
          "2025-03-09T00:00:00.000000000",
          "2025-03-23T00:00:00.000000000",
          "2025-04-06T00:00:00.000000000",
          "2025-04-20T00:00:00.000000000",
          "2025-05-04T00:00:00.000000000"
         ],
         "xaxis": "x2",
         "y": {
          "bdata": "AAAAAAAA+H8AAAAAAAD4fwAAAAAAAPh/AAAAAAAA+H8AAAAAAAD4fwAAAAAAAPh/sGYjVddUTEAlv1jyi/BMQIwlv1jyy01Ac9pApw1ATkC3HoXrUcBOQJb8Yskvgk9ALPnFkl/cT0D9YskvlipQQC35xZJfZFBAXyz5xZJtUEAiIiIiIm5QQF2PwvWoZFBAagOdNlBWUEDlF0t+MTNQQJqZmZmZ9k9AFa5H4XrUT0C1gU4b6LBPQKDTBjptaE9AqaqqqqpaT0A+CtejcOVOQMgvlvxi+U5A7VG4HoWXT0BmZmZmZupPQJw20GkDH1BAAAAAAAAA+H8AAAAAAAD4fwAAAAAAAPh/AAAAAAAA+H8AAAAAAAD4fwAAAAAAAPh/",
          "dtype": "f8"
         },
         "yaxis": "y2"
        },
        {
         "mode": "lines",
         "name": "Estacionalidad",
         "type": "scatter",
         "x": [
          "2023-12-31T00:00:00.000000000",
          "2024-01-14T00:00:00.000000000",
          "2024-01-28T00:00:00.000000000",
          "2024-02-11T00:00:00.000000000",
          "2024-02-25T00:00:00.000000000",
          "2024-03-10T00:00:00.000000000",
          "2024-03-24T00:00:00.000000000",
          "2024-04-07T00:00:00.000000000",
          "2024-04-21T00:00:00.000000000",
          "2024-05-05T00:00:00.000000000",
          "2024-05-19T00:00:00.000000000",
          "2024-06-02T00:00:00.000000000",
          "2024-06-16T00:00:00.000000000",
          "2024-06-30T00:00:00.000000000",
          "2024-07-14T00:00:00.000000000",
          "2024-07-28T00:00:00.000000000",
          "2024-08-11T00:00:00.000000000",
          "2024-08-25T00:00:00.000000000",
          "2024-09-08T00:00:00.000000000",
          "2024-09-22T00:00:00.000000000",
          "2024-10-06T00:00:00.000000000",
          "2024-10-20T00:00:00.000000000",
          "2024-11-03T00:00:00.000000000",
          "2024-11-17T00:00:00.000000000",
          "2024-12-01T00:00:00.000000000",
          "2024-12-15T00:00:00.000000000",
          "2024-12-29T00:00:00.000000000",
          "2025-01-12T00:00:00.000000000",
          "2025-01-26T00:00:00.000000000",
          "2025-02-09T00:00:00.000000000",
          "2025-02-23T00:00:00.000000000",
          "2025-03-09T00:00:00.000000000",
          "2025-03-23T00:00:00.000000000",
          "2025-04-06T00:00:00.000000000",
          "2025-04-20T00:00:00.000000000",
          "2025-05-04T00:00:00.000000000"
         ],
         "xaxis": "x3",
         "y": {
          "bdata": "fdY1Va/M8D8k7MK8/dHwP0y0PoSus/A/o2bZhV+u6z+R/tGzHvDxP+R4maEMVPI/PgK9gNDW7D/wAzXf/ILwP039J6bRMus/mDYAOMMF7D9BPdXYBi/wPwiC8+mS2PA/fdY1Va/M8D8k7MK8/dHwP0y0PoSus/A/o2bZhV+u6z+R/tGzHvDxP+R4maEMVPI/PgK9gNDW7D/wAzXf/ILwP039J6bRMus/mDYAOMMF7D9BPdXYBi/wPwiC8+mS2PA/fdY1Va/M8D8k7MK8/dHwP0y0PoSus/A/o2bZhV+u6z+R/tGzHvDxP+R4maEMVPI/PgK9gNDW7D/wAzXf/ILwP039J6bRMus/mDYAOMMF7D9BPdXYBi/wPwiC8+mS2PA/",
          "dtype": "f8"
         },
         "yaxis": "y3"
        },
        {
         "mode": "lines",
         "name": "Residuos",
         "type": "scatter",
         "x": [
          "2023-12-31T00:00:00.000000000",
          "2024-01-14T00:00:00.000000000",
          "2024-01-28T00:00:00.000000000",
          "2024-02-11T00:00:00.000000000",
          "2024-02-25T00:00:00.000000000",
          "2024-03-10T00:00:00.000000000",
          "2024-03-24T00:00:00.000000000",
          "2024-04-07T00:00:00.000000000",
          "2024-04-21T00:00:00.000000000",
          "2024-05-05T00:00:00.000000000",
          "2024-05-19T00:00:00.000000000",
          "2024-06-02T00:00:00.000000000",
          "2024-06-16T00:00:00.000000000",
          "2024-06-30T00:00:00.000000000",
          "2024-07-14T00:00:00.000000000",
          "2024-07-28T00:00:00.000000000",
          "2024-08-11T00:00:00.000000000",
          "2024-08-25T00:00:00.000000000",
          "2024-09-08T00:00:00.000000000",
          "2024-09-22T00:00:00.000000000",
          "2024-10-06T00:00:00.000000000",
          "2024-10-20T00:00:00.000000000",
          "2024-11-03T00:00:00.000000000",
          "2024-11-17T00:00:00.000000000",
          "2024-12-01T00:00:00.000000000",
          "2024-12-15T00:00:00.000000000",
          "2024-12-29T00:00:00.000000000",
          "2025-01-12T00:00:00.000000000",
          "2025-01-26T00:00:00.000000000",
          "2025-02-09T00:00:00.000000000",
          "2025-02-23T00:00:00.000000000",
          "2025-03-09T00:00:00.000000000",
          "2025-03-23T00:00:00.000000000",
          "2025-04-06T00:00:00.000000000",
          "2025-04-20T00:00:00.000000000",
          "2025-05-04T00:00:00.000000000"
         ],
         "xaxis": "x4",
         "y": {
          "bdata": "AAAAAAAA+H8AAAAAAAD4fwAAAAAAAPh/AAAAAAAA+H8AAAAAAAD4fwAAAAAAAPh/DAA0lC/48D9SsQCKwIHsP9LirJ66h/A/hK1TbGP+7z/aCY39Z6HwP05qr6LnGPA/tzzXZLV28D8zHwFrKLLwP8/mIq5nEvE/6EpQUvm07T+QQvpfzDLxPwqspSpH/e8/f4adF68x7j+kagLbJtDxP/PAqwKZEu8/iuzYadUR8D/gcutEPt/uP/uxpvo+8O8/LA1XdqM07z8xSANqvb3uP/m4v+M+/e0/153adoo28T97ARGAdbztP0btr4pjEvA/AAAAAAAA+H8AAAAAAAD4fwAAAAAAAPh/AAAAAAAA+H8AAAAAAAD4fwAAAAAAAPh/",
          "dtype": "f8"
         },
         "yaxis": "y4"
        }
       ],
       "layout": {
        "annotations": [
         {
          "font": {
           "size": 16
          },
          "showarrow": false,
          "text": "Original",
          "x": 0.5,
          "xanchor": "center",
          "xref": "paper",
          "y": 1,
          "yanchor": "bottom",
          "yref": "paper"
         },
         {
          "font": {
           "size": 16
          },
          "showarrow": false,
          "text": "Tendencia",
          "x": 0.5,
          "xanchor": "center",
          "xref": "paper",
          "y": 0.71875,
          "yanchor": "bottom",
          "yref": "paper"
         },
         {
          "font": {
           "size": 16
          },
          "showarrow": false,
          "text": "Estacionalidad",
          "x": 0.5,
          "xanchor": "center",
          "xref": "paper",
          "y": 0.4375,
          "yanchor": "bottom",
          "yref": "paper"
         },
         {
          "font": {
           "size": 16
          },
          "showarrow": false,
          "text": "Residuos",
          "x": 0.5,
          "xanchor": "center",
          "xref": "paper",
          "y": 0.15625,
          "yanchor": "bottom",
          "yref": "paper"
         }
        ],
        "height": 800,
        "template": {
         "data": {
          "bar": [
           {
            "error_x": {
             "color": "#2a3f5f"
            },
            "error_y": {
             "color": "#2a3f5f"
            },
            "marker": {
             "line": {
              "color": "#E5ECF6",
              "width": 0.5
             },
             "pattern": {
              "fillmode": "overlay",
              "size": 10,
              "solidity": 0.2
             }
            },
            "type": "bar"
           }
          ],
          "barpolar": [
           {
            "marker": {
             "line": {
              "color": "#E5ECF6",
              "width": 0.5
             },
             "pattern": {
              "fillmode": "overlay",
              "size": 10,
              "solidity": 0.2
             }
            },
            "type": "barpolar"
           }
          ],
          "carpet": [
           {
            "aaxis": {
             "endlinecolor": "#2a3f5f",
             "gridcolor": "white",
             "linecolor": "white",
             "minorgridcolor": "white",
             "startlinecolor": "#2a3f5f"
            },
            "baxis": {
             "endlinecolor": "#2a3f5f",
             "gridcolor": "white",
             "linecolor": "white",
             "minorgridcolor": "white",
             "startlinecolor": "#2a3f5f"
            },
            "type": "carpet"
           }
          ],
          "choropleth": [
           {
            "colorbar": {
             "outlinewidth": 0,
             "ticks": ""
            },
            "type": "choropleth"
           }
          ],
          "contour": [
           {
            "colorbar": {
             "outlinewidth": 0,
             "ticks": ""
            },
            "colorscale": [
             [
              0,
              "#0d0887"
             ],
             [
              0.1111111111111111,
              "#46039f"
             ],
             [
              0.2222222222222222,
              "#7201a8"
             ],
             [
              0.3333333333333333,
              "#9c179e"
             ],
             [
              0.4444444444444444,
              "#bd3786"
             ],
             [
              0.5555555555555556,
              "#d8576b"
             ],
             [
              0.6666666666666666,
              "#ed7953"
             ],
             [
              0.7777777777777778,
              "#fb9f3a"
             ],
             [
              0.8888888888888888,
              "#fdca26"
             ],
             [
              1,
              "#f0f921"
             ]
            ],
            "type": "contour"
           }
          ],
          "contourcarpet": [
           {
            "colorbar": {
             "outlinewidth": 0,
             "ticks": ""
            },
            "type": "contourcarpet"
           }
          ],
          "heatmap": [
           {
            "colorbar": {
             "outlinewidth": 0,
             "ticks": ""
            },
            "colorscale": [
             [
              0,
              "#0d0887"
             ],
             [
              0.1111111111111111,
              "#46039f"
             ],
             [
              0.2222222222222222,
              "#7201a8"
             ],
             [
              0.3333333333333333,
              "#9c179e"
             ],
             [
              0.4444444444444444,
              "#bd3786"
             ],
             [
              0.5555555555555556,
              "#d8576b"
             ],
             [
              0.6666666666666666,
              "#ed7953"
             ],
             [
              0.7777777777777778,
              "#fb9f3a"
             ],
             [
              0.8888888888888888,
              "#fdca26"
             ],
             [
              1,
              "#f0f921"
             ]
            ],
            "type": "heatmap"
           }
          ],
          "histogram": [
           {
            "marker": {
             "pattern": {
              "fillmode": "overlay",
              "size": 10,
              "solidity": 0.2
             }
            },
            "type": "histogram"
           }
          ],
          "histogram2d": [
           {
            "colorbar": {
             "outlinewidth": 0,
             "ticks": ""
            },
            "colorscale": [
             [
              0,
              "#0d0887"
             ],
             [
              0.1111111111111111,
              "#46039f"
             ],
             [
              0.2222222222222222,
              "#7201a8"
             ],
             [
              0.3333333333333333,
              "#9c179e"
             ],
             [
              0.4444444444444444,
              "#bd3786"
             ],
             [
              0.5555555555555556,
              "#d8576b"
             ],
             [
              0.6666666666666666,
              "#ed7953"
             ],
             [
              0.7777777777777778,
              "#fb9f3a"
             ],
             [
              0.8888888888888888,
              "#fdca26"
             ],
             [
              1,
              "#f0f921"
             ]
            ],
            "type": "histogram2d"
           }
          ],
          "histogram2dcontour": [
           {
            "colorbar": {
             "outlinewidth": 0,
             "ticks": ""
            },
            "colorscale": [
             [
              0,
              "#0d0887"
             ],
             [
              0.1111111111111111,
              "#46039f"
             ],
             [
              0.2222222222222222,
              "#7201a8"
             ],
             [
              0.3333333333333333,
              "#9c179e"
             ],
             [
              0.4444444444444444,
              "#bd3786"
             ],
             [
              0.5555555555555556,
              "#d8576b"
             ],
             [
              0.6666666666666666,
              "#ed7953"
             ],
             [
              0.7777777777777778,
              "#fb9f3a"
             ],
             [
              0.8888888888888888,
              "#fdca26"
             ],
             [
              1,
              "#f0f921"
             ]
            ],
            "type": "histogram2dcontour"
           }
          ],
          "mesh3d": [
           {
            "colorbar": {
             "outlinewidth": 0,
             "ticks": ""
            },
            "type": "mesh3d"
           }
          ],
          "parcoords": [
           {
            "line": {
             "colorbar": {
              "outlinewidth": 0,
              "ticks": ""
             }
            },
            "type": "parcoords"
           }
          ],
          "pie": [
           {
            "automargin": true,
            "type": "pie"
           }
          ],
          "scatter": [
           {
            "fillpattern": {
             "fillmode": "overlay",
             "size": 10,
             "solidity": 0.2
            },
            "type": "scatter"
           }
          ],
          "scatter3d": [
           {
            "line": {
             "colorbar": {
              "outlinewidth": 0,
              "ticks": ""
             }
            },
            "marker": {
             "colorbar": {
              "outlinewidth": 0,
              "ticks": ""
             }
            },
            "type": "scatter3d"
           }
          ],
          "scattercarpet": [
           {
            "marker": {
             "colorbar": {
              "outlinewidth": 0,
              "ticks": ""
             }
            },
            "type": "scattercarpet"
           }
          ],
          "scattergeo": [
           {
            "marker": {
             "colorbar": {
              "outlinewidth": 0,
              "ticks": ""
             }
            },
            "type": "scattergeo"
           }
          ],
          "scattergl": [
           {
            "marker": {
             "colorbar": {
              "outlinewidth": 0,
              "ticks": ""
             }
            },
            "type": "scattergl"
           }
          ],
          "scattermap": [
           {
            "marker": {
             "colorbar": {
              "outlinewidth": 0,
              "ticks": ""
             }
            },
            "type": "scattermap"
           }
          ],
          "scattermapbox": [
           {
            "marker": {
             "colorbar": {
              "outlinewidth": 0,
              "ticks": ""
             }
            },
            "type": "scattermapbox"
           }
          ],
          "scatterpolar": [
           {
            "marker": {
             "colorbar": {
              "outlinewidth": 0,
              "ticks": ""
             }
            },
            "type": "scatterpolar"
           }
          ],
          "scatterpolargl": [
           {
            "marker": {
             "colorbar": {
              "outlinewidth": 0,
              "ticks": ""
             }
            },
            "type": "scatterpolargl"
           }
          ],
          "scatterternary": [
           {
            "marker": {
             "colorbar": {
              "outlinewidth": 0,
              "ticks": ""
             }
            },
            "type": "scatterternary"
           }
          ],
          "surface": [
           {
            "colorbar": {
             "outlinewidth": 0,
             "ticks": ""
            },
            "colorscale": [
             [
              0,
              "#0d0887"
             ],
             [
              0.1111111111111111,
              "#46039f"
             ],
             [
              0.2222222222222222,
              "#7201a8"
             ],
             [
              0.3333333333333333,
              "#9c179e"
             ],
             [
              0.4444444444444444,
              "#bd3786"
             ],
             [
              0.5555555555555556,
              "#d8576b"
             ],
             [
              0.6666666666666666,
              "#ed7953"
             ],
             [
              0.7777777777777778,
              "#fb9f3a"
             ],
             [
              0.8888888888888888,
              "#fdca26"
             ],
             [
              1,
              "#f0f921"
             ]
            ],
            "type": "surface"
           }
          ],
          "table": [
           {
            "cells": {
             "fill": {
              "color": "#EBF0F8"
             },
             "line": {
              "color": "white"
             }
            },
            "header": {
             "fill": {
              "color": "#C8D4E3"
             },
             "line": {
              "color": "white"
             }
            },
            "type": "table"
           }
          ]
         },
         "layout": {
          "annotationdefaults": {
           "arrowcolor": "#2a3f5f",
           "arrowhead": 0,
           "arrowwidth": 1
          },
          "autotypenumbers": "strict",
          "coloraxis": {
           "colorbar": {
            "outlinewidth": 0,
            "ticks": ""
           }
          },
          "colorscale": {
           "diverging": [
            [
             0,
             "#8e0152"
            ],
            [
             0.1,
             "#c51b7d"
            ],
            [
             0.2,
             "#de77ae"
            ],
            [
             0.3,
             "#f1b6da"
            ],
            [
             0.4,
             "#fde0ef"
            ],
            [
             0.5,
             "#f7f7f7"
            ],
            [
             0.6,
             "#e6f5d0"
            ],
            [
             0.7,
             "#b8e186"
            ],
            [
             0.8,
             "#7fbc41"
            ],
            [
             0.9,
             "#4d9221"
            ],
            [
             1,
             "#276419"
            ]
           ],
           "sequential": [
            [
             0,
             "#0d0887"
            ],
            [
             0.1111111111111111,
             "#46039f"
            ],
            [
             0.2222222222222222,
             "#7201a8"
            ],
            [
             0.3333333333333333,
             "#9c179e"
            ],
            [
             0.4444444444444444,
             "#bd3786"
            ],
            [
             0.5555555555555556,
             "#d8576b"
            ],
            [
             0.6666666666666666,
             "#ed7953"
            ],
            [
             0.7777777777777778,
             "#fb9f3a"
            ],
            [
             0.8888888888888888,
             "#fdca26"
            ],
            [
             1,
             "#f0f921"
            ]
           ],
           "sequentialminus": [
            [
             0,
             "#0d0887"
            ],
            [
             0.1111111111111111,
             "#46039f"
            ],
            [
             0.2222222222222222,
             "#7201a8"
            ],
            [
             0.3333333333333333,
             "#9c179e"
            ],
            [
             0.4444444444444444,
             "#bd3786"
            ],
            [
             0.5555555555555556,
             "#d8576b"
            ],
            [
             0.6666666666666666,
             "#ed7953"
            ],
            [
             0.7777777777777778,
             "#fb9f3a"
            ],
            [
             0.8888888888888888,
             "#fdca26"
            ],
            [
             1,
             "#f0f921"
            ]
           ]
          },
          "colorway": [
           "#636efa",
           "#EF553B",
           "#00cc96",
           "#ab63fa",
           "#FFA15A",
           "#19d3f3",
           "#FF6692",
           "#B6E880",
           "#FF97FF",
           "#FECB52"
          ],
          "font": {
           "color": "#2a3f5f"
          },
          "geo": {
           "bgcolor": "white",
           "lakecolor": "white",
           "landcolor": "#E5ECF6",
           "showlakes": true,
           "showland": true,
           "subunitcolor": "white"
          },
          "hoverlabel": {
           "align": "left"
          },
          "hovermode": "closest",
          "mapbox": {
           "style": "light"
          },
          "paper_bgcolor": "white",
          "plot_bgcolor": "#E5ECF6",
          "polar": {
           "angularaxis": {
            "gridcolor": "white",
            "linecolor": "white",
            "ticks": ""
           },
           "bgcolor": "#E5ECF6",
           "radialaxis": {
            "gridcolor": "white",
            "linecolor": "white",
            "ticks": ""
           }
          },
          "scene": {
           "xaxis": {
            "backgroundcolor": "#E5ECF6",
            "gridcolor": "white",
            "gridwidth": 2,
            "linecolor": "white",
            "showbackground": true,
            "ticks": "",
            "zerolinecolor": "white"
           },
           "yaxis": {
            "backgroundcolor": "#E5ECF6",
            "gridcolor": "white",
            "gridwidth": 2,
            "linecolor": "white",
            "showbackground": true,
            "ticks": "",
            "zerolinecolor": "white"
           },
           "zaxis": {
            "backgroundcolor": "#E5ECF6",
            "gridcolor": "white",
            "gridwidth": 2,
            "linecolor": "white",
            "showbackground": true,
            "ticks": "",
            "zerolinecolor": "white"
           }
          },
          "shapedefaults": {
           "line": {
            "color": "#2a3f5f"
           }
          },
          "ternary": {
           "aaxis": {
            "gridcolor": "white",
            "linecolor": "white",
            "ticks": ""
           },
           "baxis": {
            "gridcolor": "white",
            "linecolor": "white",
            "ticks": ""
           },
           "bgcolor": "#E5ECF6",
           "caxis": {
            "gridcolor": "white",
            "linecolor": "white",
            "ticks": ""
           }
          },
          "title": {
           "x": 0.05
          },
          "xaxis": {
           "automargin": true,
           "gridcolor": "white",
           "linecolor": "white",
           "ticks": "",
           "title": {
            "standoff": 15
           },
           "zerolinecolor": "white",
           "zerolinewidth": 2
          },
          "yaxis": {
           "automargin": true,
           "gridcolor": "white",
           "linecolor": "white",
           "ticks": "",
           "title": {
            "standoff": 15
           },
           "zerolinecolor": "white",
           "zerolinewidth": 2
          }
         }
        },
        "title": {
         "text": "Descomposición de la Serie Temporal (Multiplicative) para Marketing"
        },
        "xaxis": {
         "anchor": "y",
         "domain": [
          0,
          1
         ]
        },
        "xaxis2": {
         "anchor": "y2",
         "domain": [
          0,
          1
         ]
        },
        "xaxis3": {
         "anchor": "y3",
         "domain": [
          0,
          1
         ]
        },
        "xaxis4": {
         "anchor": "y4",
         "domain": [
          0,
          1
         ]
        },
        "yaxis": {
         "anchor": "x",
         "domain": [
          0.84375,
          1
         ]
        },
        "yaxis2": {
         "anchor": "x2",
         "domain": [
          0.5625,
          0.71875
         ]
        },
        "yaxis3": {
         "anchor": "x3",
         "domain": [
          0.28125,
          0.4375
         ]
        },
        "yaxis4": {
         "anchor": "x4",
         "domain": [
          0,
          0.15625
         ]
        }
       }
      }
     },
     "metadata": {},
     "output_type": "display_data"
    },
    {
     "name": "stderr",
     "output_type": "stream",
     "text": [
      "2025-08-13 16:26:36,254 - INFO - Desviación estándar de los residuales aditivos: 27.08\n",
      "2025-08-13 16:26:36,256 - INFO - Desviación estándar de los residuales multiplicativos: 0.04\n",
      "2025-08-13 16:26:36,258 - INFO - P-value del test ADF: 0.00\n",
      "2025-08-13 16:26:36,261 - INFO - Criterio de selección: La desviación estándar de los residuos multiplicative es menor.\n",
      "2025-08-13 16:26:36,263 - INFO - El departamento Sales tiene una descomposición multiplicative.\n",
      "2025-08-13 16:26:36,256 - INFO - Desviación estándar de los residuales multiplicativos: 0.04\n",
      "2025-08-13 16:26:36,258 - INFO - P-value del test ADF: 0.00\n",
      "2025-08-13 16:26:36,261 - INFO - Criterio de selección: La desviación estándar de los residuos multiplicative es menor.\n",
      "2025-08-13 16:26:36,263 - INFO - El departamento Sales tiene una descomposición multiplicative.\n"
     ]
    },
    {
     "data": {
      "application/vnd.plotly.v1+json": {
       "config": {
        "plotlyServerURL": "https://plot.ly"
       },
       "data": [
        {
         "mode": "lines",
         "name": "Original",
         "type": "scatter",
         "x": [
          "2023-12-31T00:00:00.000000000",
          "2024-01-14T00:00:00.000000000",
          "2024-01-28T00:00:00.000000000",
          "2024-02-11T00:00:00.000000000",
          "2024-02-25T00:00:00.000000000",
          "2024-03-10T00:00:00.000000000",
          "2024-03-24T00:00:00.000000000",
          "2024-04-07T00:00:00.000000000",
          "2024-04-21T00:00:00.000000000",
          "2024-05-05T00:00:00.000000000",
          "2024-05-19T00:00:00.000000000",
          "2024-06-02T00:00:00.000000000",
          "2024-06-16T00:00:00.000000000",
          "2024-06-30T00:00:00.000000000",
          "2024-07-14T00:00:00.000000000",
          "2024-07-28T00:00:00.000000000",
          "2024-08-11T00:00:00.000000000",
          "2024-08-25T00:00:00.000000000",
          "2024-09-08T00:00:00.000000000",
          "2024-09-22T00:00:00.000000000",
          "2024-10-06T00:00:00.000000000",
          "2024-10-20T00:00:00.000000000",
          "2024-11-03T00:00:00.000000000",
          "2024-11-17T00:00:00.000000000",
          "2024-12-01T00:00:00.000000000",
          "2024-12-15T00:00:00.000000000",
          "2024-12-29T00:00:00.000000000",
          "2025-01-12T00:00:00.000000000",
          "2025-01-26T00:00:00.000000000",
          "2025-02-09T00:00:00.000000000",
          "2025-02-23T00:00:00.000000000",
          "2025-03-09T00:00:00.000000000",
          "2025-03-23T00:00:00.000000000",
          "2025-04-06T00:00:00.000000000",
          "2025-04-20T00:00:00.000000000",
          "2025-05-04T00:00:00.000000000"
         ],
         "xaxis": "x",
         "y": {
          "bdata": "AAAAAAAA+H9wPQrXo8qCQOxRuB6Fa4VArkfhehRIhUBwPQrXo8yBQK5H4XoUpoVAHoXrUbgghUBmZmZmZgKGQArXo3A93IVAmpmZmZmBhECamZmZmV+DQPYoXI/CpYNAUrgehevrg0CuR+F6FDKEQArXo3A9eIRA16NwPQplhEDXo3A9CrWDQHsUrkfhuIZAwvUoXI8kg0CamZmZmZWJQPYoXI/CoYdAKVyPwvWwhUBcj8L1KHaGQArXo3A9/oNAHoXrUTjGhEAzMzMzM46FQEjhehQuVoZAXI/C9Sgeh0AK16NwPbqCQML1KFyPbIRACtejcD0ug0AzMzMzM4mFQFyPwvUoLoZANDMzMzOLhUCamZmZmbuGQJqZmZmZu4ZA",
          "dtype": "f8"
         },
         "yaxis": "y"
        },
        {
         "mode": "lines",
         "name": "Tendencia",
         "type": "scatter",
         "x": [
          "2023-12-31T00:00:00.000000000",
          "2024-01-14T00:00:00.000000000",
          "2024-01-28T00:00:00.000000000",
          "2024-02-11T00:00:00.000000000",
          "2024-02-25T00:00:00.000000000",
          "2024-03-10T00:00:00.000000000",
          "2024-03-24T00:00:00.000000000",
          "2024-04-07T00:00:00.000000000",
          "2024-04-21T00:00:00.000000000",
          "2024-05-05T00:00:00.000000000",
          "2024-05-19T00:00:00.000000000",
          "2024-06-02T00:00:00.000000000",
          "2024-06-16T00:00:00.000000000",
          "2024-06-30T00:00:00.000000000",
          "2024-07-14T00:00:00.000000000",
          "2024-07-28T00:00:00.000000000",
          "2024-08-11T00:00:00.000000000",
          "2024-08-25T00:00:00.000000000",
          "2024-09-08T00:00:00.000000000",
          "2024-09-22T00:00:00.000000000",
          "2024-10-06T00:00:00.000000000",
          "2024-10-20T00:00:00.000000000",
          "2024-11-03T00:00:00.000000000",
          "2024-11-17T00:00:00.000000000",
          "2024-12-01T00:00:00.000000000",
          "2024-12-15T00:00:00.000000000",
          "2024-12-29T00:00:00.000000000",
          "2025-01-12T00:00:00.000000000",
          "2025-01-26T00:00:00.000000000",
          "2025-02-09T00:00:00.000000000",
          "2025-02-23T00:00:00.000000000",
          "2025-03-09T00:00:00.000000000",
          "2025-03-23T00:00:00.000000000",
          "2025-04-06T00:00:00.000000000",
          "2025-04-20T00:00:00.000000000",
          "2025-05-04T00:00:00.000000000"
         ],
         "xaxis": "x2",
         "y": {
          "bdata": "AAAAAAAA+H8AAAAAAAD4fwAAAAAAAPh/AAAAAAAA+H8AAAAAAAD4fwAAAAAAAPh/CSoRUGt/hEBcj8L16IGEQAEAAADAhoRADnTaQCdzhEB+seQXC36EQEx+seTXnYRAhOtRuB6UhECtR+F6FKWEQJDC9Sgc3oRAv1jyi6X9hEBuoNMGOiuFQEKnDXTaT4VAXyz5xaJchUBjyS+WPHSFQEp+seSnloVA393d3Z3HhUDRaQOdNtqFQAAAAABAt4VAbz0K1yOfhUCOwvUoXHSFQOQXS36xOYVAyS+W/KIohUCCThvo9CmFQGAs+cUSSoVAAAAAAAAA+H8AAAAAAAD4fwAAAAAAAPh/AAAAAAAA+H8AAAAAAAD4fwAAAAAAAPh/",
          "dtype": "f8"
         },
         "yaxis": "y2"
        },
        {
         "mode": "lines",
         "name": "Estacionalidad",
         "type": "scatter",
         "x": [
          "2023-12-31T00:00:00.000000000",
          "2024-01-14T00:00:00.000000000",
          "2024-01-28T00:00:00.000000000",
          "2024-02-11T00:00:00.000000000",
          "2024-02-25T00:00:00.000000000",
          "2024-03-10T00:00:00.000000000",
          "2024-03-24T00:00:00.000000000",
          "2024-04-07T00:00:00.000000000",
          "2024-04-21T00:00:00.000000000",
          "2024-05-05T00:00:00.000000000",
          "2024-05-19T00:00:00.000000000",
          "2024-06-02T00:00:00.000000000",
          "2024-06-16T00:00:00.000000000",
          "2024-06-30T00:00:00.000000000",
          "2024-07-14T00:00:00.000000000",
          "2024-07-28T00:00:00.000000000",
          "2024-08-11T00:00:00.000000000",
          "2024-08-25T00:00:00.000000000",
          "2024-09-08T00:00:00.000000000",
          "2024-09-22T00:00:00.000000000",
          "2024-10-06T00:00:00.000000000",
          "2024-10-20T00:00:00.000000000",
          "2024-11-03T00:00:00.000000000",
          "2024-11-17T00:00:00.000000000",
          "2024-12-01T00:00:00.000000000",
          "2024-12-15T00:00:00.000000000",
          "2024-12-29T00:00:00.000000000",
          "2025-01-12T00:00:00.000000000",
          "2025-01-26T00:00:00.000000000",
          "2025-02-09T00:00:00.000000000",
          "2025-02-23T00:00:00.000000000",
          "2025-03-09T00:00:00.000000000",
          "2025-03-23T00:00:00.000000000",
          "2025-04-06T00:00:00.000000000",
          "2025-04-20T00:00:00.000000000",
          "2025-05-04T00:00:00.000000000"
         ],
         "xaxis": "x3",
         "y": {
          "bdata": "eulGB8DM7j992sGVvqnvP72fzGrDO/A/dJlMEO168D9AKQEVof7sP9HXhevnK/A/WlrgxHvE7j+iCHuy5hbyP5lvsRkCPvE/+m4oBCHq7z/YhNyVNoLvPzWyeYkK6+0/eulGB8DM7j992sGVvqnvP72fzGrDO/A/dJlMEO168D9AKQEVof7sP9HXhevnK/A/WlrgxHvE7j+iCHuy5hbyP5lvsRkCPvE/+m4oBCHq7z/YhNyVNoLvPzWyeYkK6+0/eulGB8DM7j992sGVvqnvP72fzGrDO/A/dJlMEO168D9AKQEVof7sP9HXhevnK/A/WlrgxHvE7j+iCHuy5hbyP5lvsRkCPvE/+m4oBCHq7z/YhNyVNoLvPzWyeYkK6+0/",
          "dtype": "f8"
         },
         "yaxis": "y3"
        },
        {
         "mode": "lines",
         "name": "Residuos",
         "type": "scatter",
         "x": [
          "2023-12-31T00:00:00.000000000",
          "2024-01-14T00:00:00.000000000",
          "2024-01-28T00:00:00.000000000",
          "2024-02-11T00:00:00.000000000",
          "2024-02-25T00:00:00.000000000",
          "2024-03-10T00:00:00.000000000",
          "2024-03-24T00:00:00.000000000",
          "2024-04-07T00:00:00.000000000",
          "2024-04-21T00:00:00.000000000",
          "2024-05-05T00:00:00.000000000",
          "2024-05-19T00:00:00.000000000",
          "2024-06-02T00:00:00.000000000",
          "2024-06-16T00:00:00.000000000",
          "2024-06-30T00:00:00.000000000",
          "2024-07-14T00:00:00.000000000",
          "2024-07-28T00:00:00.000000000",
          "2024-08-11T00:00:00.000000000",
          "2024-08-25T00:00:00.000000000",
          "2024-09-08T00:00:00.000000000",
          "2024-09-22T00:00:00.000000000",
          "2024-10-06T00:00:00.000000000",
          "2024-10-20T00:00:00.000000000",
          "2024-11-03T00:00:00.000000000",
          "2024-11-17T00:00:00.000000000",
          "2024-12-01T00:00:00.000000000",
          "2024-12-15T00:00:00.000000000",
          "2024-12-29T00:00:00.000000000",
          "2025-01-12T00:00:00.000000000",
          "2025-01-26T00:00:00.000000000",
          "2025-02-09T00:00:00.000000000",
          "2025-02-23T00:00:00.000000000",
          "2025-03-09T00:00:00.000000000",
          "2025-03-23T00:00:00.000000000",
          "2025-04-06T00:00:00.000000000",
          "2025-04-20T00:00:00.000000000",
          "2025-05-04T00:00:00.000000000"
         ],
         "xaxis": "x4",
         "y": {
          "bdata": "AAAAAAAA+H8AAAAAAAD4fwAAAAAAAPh/AAAAAAAA+H8AAAAAAAD4fwAAAAAAAPh/a+I8Ugcn8T9oHzTCbWDuP2IdxszSn+8/odtqVEwW8D9BL7WnebnuP4/Ncg8YT/A/XJ3lFb0X8D819uIYBqPvP2PZTzQ58O4/ArJXynEv7j/HudRgbHDwPxAzOyW64PA/DqrwVxfT7T+9JxsdXODwP8Io0pepQPA/obeUU4307z/Sn1oq1rPwP8bThN31gu8/LzSf0Kvx7z9YvMPxDz/wP79KDWR2mPA/cV4JGdr48D9V+8A6TUDvP8II9LGxX+4/AAAAAAAA+H8AAAAAAAD4fwAAAAAAAPh/AAAAAAAA+H8AAAAAAAD4fwAAAAAAAPh/",
          "dtype": "f8"
         },
         "yaxis": "y4"
        }
       ],
       "layout": {
        "annotations": [
         {
          "font": {
           "size": 16
          },
          "showarrow": false,
          "text": "Original",
          "x": 0.5,
          "xanchor": "center",
          "xref": "paper",
          "y": 1,
          "yanchor": "bottom",
          "yref": "paper"
         },
         {
          "font": {
           "size": 16
          },
          "showarrow": false,
          "text": "Tendencia",
          "x": 0.5,
          "xanchor": "center",
          "xref": "paper",
          "y": 0.71875,
          "yanchor": "bottom",
          "yref": "paper"
         },
         {
          "font": {
           "size": 16
          },
          "showarrow": false,
          "text": "Estacionalidad",
          "x": 0.5,
          "xanchor": "center",
          "xref": "paper",
          "y": 0.4375,
          "yanchor": "bottom",
          "yref": "paper"
         },
         {
          "font": {
           "size": 16
          },
          "showarrow": false,
          "text": "Residuos",
          "x": 0.5,
          "xanchor": "center",
          "xref": "paper",
          "y": 0.15625,
          "yanchor": "bottom",
          "yref": "paper"
         }
        ],
        "height": 800,
        "template": {
         "data": {
          "bar": [
           {
            "error_x": {
             "color": "#2a3f5f"
            },
            "error_y": {
             "color": "#2a3f5f"
            },
            "marker": {
             "line": {
              "color": "#E5ECF6",
              "width": 0.5
             },
             "pattern": {
              "fillmode": "overlay",
              "size": 10,
              "solidity": 0.2
             }
            },
            "type": "bar"
           }
          ],
          "barpolar": [
           {
            "marker": {
             "line": {
              "color": "#E5ECF6",
              "width": 0.5
             },
             "pattern": {
              "fillmode": "overlay",
              "size": 10,
              "solidity": 0.2
             }
            },
            "type": "barpolar"
           }
          ],
          "carpet": [
           {
            "aaxis": {
             "endlinecolor": "#2a3f5f",
             "gridcolor": "white",
             "linecolor": "white",
             "minorgridcolor": "white",
             "startlinecolor": "#2a3f5f"
            },
            "baxis": {
             "endlinecolor": "#2a3f5f",
             "gridcolor": "white",
             "linecolor": "white",
             "minorgridcolor": "white",
             "startlinecolor": "#2a3f5f"
            },
            "type": "carpet"
           }
          ],
          "choropleth": [
           {
            "colorbar": {
             "outlinewidth": 0,
             "ticks": ""
            },
            "type": "choropleth"
           }
          ],
          "contour": [
           {
            "colorbar": {
             "outlinewidth": 0,
             "ticks": ""
            },
            "colorscale": [
             [
              0,
              "#0d0887"
             ],
             [
              0.1111111111111111,
              "#46039f"
             ],
             [
              0.2222222222222222,
              "#7201a8"
             ],
             [
              0.3333333333333333,
              "#9c179e"
             ],
             [
              0.4444444444444444,
              "#bd3786"
             ],
             [
              0.5555555555555556,
              "#d8576b"
             ],
             [
              0.6666666666666666,
              "#ed7953"
             ],
             [
              0.7777777777777778,
              "#fb9f3a"
             ],
             [
              0.8888888888888888,
              "#fdca26"
             ],
             [
              1,
              "#f0f921"
             ]
            ],
            "type": "contour"
           }
          ],
          "contourcarpet": [
           {
            "colorbar": {
             "outlinewidth": 0,
             "ticks": ""
            },
            "type": "contourcarpet"
           }
          ],
          "heatmap": [
           {
            "colorbar": {
             "outlinewidth": 0,
             "ticks": ""
            },
            "colorscale": [
             [
              0,
              "#0d0887"
             ],
             [
              0.1111111111111111,
              "#46039f"
             ],
             [
              0.2222222222222222,
              "#7201a8"
             ],
             [
              0.3333333333333333,
              "#9c179e"
             ],
             [
              0.4444444444444444,
              "#bd3786"
             ],
             [
              0.5555555555555556,
              "#d8576b"
             ],
             [
              0.6666666666666666,
              "#ed7953"
             ],
             [
              0.7777777777777778,
              "#fb9f3a"
             ],
             [
              0.8888888888888888,
              "#fdca26"
             ],
             [
              1,
              "#f0f921"
             ]
            ],
            "type": "heatmap"
           }
          ],
          "histogram": [
           {
            "marker": {
             "pattern": {
              "fillmode": "overlay",
              "size": 10,
              "solidity": 0.2
             }
            },
            "type": "histogram"
           }
          ],
          "histogram2d": [
           {
            "colorbar": {
             "outlinewidth": 0,
             "ticks": ""
            },
            "colorscale": [
             [
              0,
              "#0d0887"
             ],
             [
              0.1111111111111111,
              "#46039f"
             ],
             [
              0.2222222222222222,
              "#7201a8"
             ],
             [
              0.3333333333333333,
              "#9c179e"
             ],
             [
              0.4444444444444444,
              "#bd3786"
             ],
             [
              0.5555555555555556,
              "#d8576b"
             ],
             [
              0.6666666666666666,
              "#ed7953"
             ],
             [
              0.7777777777777778,
              "#fb9f3a"
             ],
             [
              0.8888888888888888,
              "#fdca26"
             ],
             [
              1,
              "#f0f921"
             ]
            ],
            "type": "histogram2d"
           }
          ],
          "histogram2dcontour": [
           {
            "colorbar": {
             "outlinewidth": 0,
             "ticks": ""
            },
            "colorscale": [
             [
              0,
              "#0d0887"
             ],
             [
              0.1111111111111111,
              "#46039f"
             ],
             [
              0.2222222222222222,
              "#7201a8"
             ],
             [
              0.3333333333333333,
              "#9c179e"
             ],
             [
              0.4444444444444444,
              "#bd3786"
             ],
             [
              0.5555555555555556,
              "#d8576b"
             ],
             [
              0.6666666666666666,
              "#ed7953"
             ],
             [
              0.7777777777777778,
              "#fb9f3a"
             ],
             [
              0.8888888888888888,
              "#fdca26"
             ],
             [
              1,
              "#f0f921"
             ]
            ],
            "type": "histogram2dcontour"
           }
          ],
          "mesh3d": [
           {
            "colorbar": {
             "outlinewidth": 0,
             "ticks": ""
            },
            "type": "mesh3d"
           }
          ],
          "parcoords": [
           {
            "line": {
             "colorbar": {
              "outlinewidth": 0,
              "ticks": ""
             }
            },
            "type": "parcoords"
           }
          ],
          "pie": [
           {
            "automargin": true,
            "type": "pie"
           }
          ],
          "scatter": [
           {
            "fillpattern": {
             "fillmode": "overlay",
             "size": 10,
             "solidity": 0.2
            },
            "type": "scatter"
           }
          ],
          "scatter3d": [
           {
            "line": {
             "colorbar": {
              "outlinewidth": 0,
              "ticks": ""
             }
            },
            "marker": {
             "colorbar": {
              "outlinewidth": 0,
              "ticks": ""
             }
            },
            "type": "scatter3d"
           }
          ],
          "scattercarpet": [
           {
            "marker": {
             "colorbar": {
              "outlinewidth": 0,
              "ticks": ""
             }
            },
            "type": "scattercarpet"
           }
          ],
          "scattergeo": [
           {
            "marker": {
             "colorbar": {
              "outlinewidth": 0,
              "ticks": ""
             }
            },
            "type": "scattergeo"
           }
          ],
          "scattergl": [
           {
            "marker": {
             "colorbar": {
              "outlinewidth": 0,
              "ticks": ""
             }
            },
            "type": "scattergl"
           }
          ],
          "scattermap": [
           {
            "marker": {
             "colorbar": {
              "outlinewidth": 0,
              "ticks": ""
             }
            },
            "type": "scattermap"
           }
          ],
          "scattermapbox": [
           {
            "marker": {
             "colorbar": {
              "outlinewidth": 0,
              "ticks": ""
             }
            },
            "type": "scattermapbox"
           }
          ],
          "scatterpolar": [
           {
            "marker": {
             "colorbar": {
              "outlinewidth": 0,
              "ticks": ""
             }
            },
            "type": "scatterpolar"
           }
          ],
          "scatterpolargl": [
           {
            "marker": {
             "colorbar": {
              "outlinewidth": 0,
              "ticks": ""
             }
            },
            "type": "scatterpolargl"
           }
          ],
          "scatterternary": [
           {
            "marker": {
             "colorbar": {
              "outlinewidth": 0,
              "ticks": ""
             }
            },
            "type": "scatterternary"
           }
          ],
          "surface": [
           {
            "colorbar": {
             "outlinewidth": 0,
             "ticks": ""
            },
            "colorscale": [
             [
              0,
              "#0d0887"
             ],
             [
              0.1111111111111111,
              "#46039f"
             ],
             [
              0.2222222222222222,
              "#7201a8"
             ],
             [
              0.3333333333333333,
              "#9c179e"
             ],
             [
              0.4444444444444444,
              "#bd3786"
             ],
             [
              0.5555555555555556,
              "#d8576b"
             ],
             [
              0.6666666666666666,
              "#ed7953"
             ],
             [
              0.7777777777777778,
              "#fb9f3a"
             ],
             [
              0.8888888888888888,
              "#fdca26"
             ],
             [
              1,
              "#f0f921"
             ]
            ],
            "type": "surface"
           }
          ],
          "table": [
           {
            "cells": {
             "fill": {
              "color": "#EBF0F8"
             },
             "line": {
              "color": "white"
             }
            },
            "header": {
             "fill": {
              "color": "#C8D4E3"
             },
             "line": {
              "color": "white"
             }
            },
            "type": "table"
           }
          ]
         },
         "layout": {
          "annotationdefaults": {
           "arrowcolor": "#2a3f5f",
           "arrowhead": 0,
           "arrowwidth": 1
          },
          "autotypenumbers": "strict",
          "coloraxis": {
           "colorbar": {
            "outlinewidth": 0,
            "ticks": ""
           }
          },
          "colorscale": {
           "diverging": [
            [
             0,
             "#8e0152"
            ],
            [
             0.1,
             "#c51b7d"
            ],
            [
             0.2,
             "#de77ae"
            ],
            [
             0.3,
             "#f1b6da"
            ],
            [
             0.4,
             "#fde0ef"
            ],
            [
             0.5,
             "#f7f7f7"
            ],
            [
             0.6,
             "#e6f5d0"
            ],
            [
             0.7,
             "#b8e186"
            ],
            [
             0.8,
             "#7fbc41"
            ],
            [
             0.9,
             "#4d9221"
            ],
            [
             1,
             "#276419"
            ]
           ],
           "sequential": [
            [
             0,
             "#0d0887"
            ],
            [
             0.1111111111111111,
             "#46039f"
            ],
            [
             0.2222222222222222,
             "#7201a8"
            ],
            [
             0.3333333333333333,
             "#9c179e"
            ],
            [
             0.4444444444444444,
             "#bd3786"
            ],
            [
             0.5555555555555556,
             "#d8576b"
            ],
            [
             0.6666666666666666,
             "#ed7953"
            ],
            [
             0.7777777777777778,
             "#fb9f3a"
            ],
            [
             0.8888888888888888,
             "#fdca26"
            ],
            [
             1,
             "#f0f921"
            ]
           ],
           "sequentialminus": [
            [
             0,
             "#0d0887"
            ],
            [
             0.1111111111111111,
             "#46039f"
            ],
            [
             0.2222222222222222,
             "#7201a8"
            ],
            [
             0.3333333333333333,
             "#9c179e"
            ],
            [
             0.4444444444444444,
             "#bd3786"
            ],
            [
             0.5555555555555556,
             "#d8576b"
            ],
            [
             0.6666666666666666,
             "#ed7953"
            ],
            [
             0.7777777777777778,
             "#fb9f3a"
            ],
            [
             0.8888888888888888,
             "#fdca26"
            ],
            [
             1,
             "#f0f921"
            ]
           ]
          },
          "colorway": [
           "#636efa",
           "#EF553B",
           "#00cc96",
           "#ab63fa",
           "#FFA15A",
           "#19d3f3",
           "#FF6692",
           "#B6E880",
           "#FF97FF",
           "#FECB52"
          ],
          "font": {
           "color": "#2a3f5f"
          },
          "geo": {
           "bgcolor": "white",
           "lakecolor": "white",
           "landcolor": "#E5ECF6",
           "showlakes": true,
           "showland": true,
           "subunitcolor": "white"
          },
          "hoverlabel": {
           "align": "left"
          },
          "hovermode": "closest",
          "mapbox": {
           "style": "light"
          },
          "paper_bgcolor": "white",
          "plot_bgcolor": "#E5ECF6",
          "polar": {
           "angularaxis": {
            "gridcolor": "white",
            "linecolor": "white",
            "ticks": ""
           },
           "bgcolor": "#E5ECF6",
           "radialaxis": {
            "gridcolor": "white",
            "linecolor": "white",
            "ticks": ""
           }
          },
          "scene": {
           "xaxis": {
            "backgroundcolor": "#E5ECF6",
            "gridcolor": "white",
            "gridwidth": 2,
            "linecolor": "white",
            "showbackground": true,
            "ticks": "",
            "zerolinecolor": "white"
           },
           "yaxis": {
            "backgroundcolor": "#E5ECF6",
            "gridcolor": "white",
            "gridwidth": 2,
            "linecolor": "white",
            "showbackground": true,
            "ticks": "",
            "zerolinecolor": "white"
           },
           "zaxis": {
            "backgroundcolor": "#E5ECF6",
            "gridcolor": "white",
            "gridwidth": 2,
            "linecolor": "white",
            "showbackground": true,
            "ticks": "",
            "zerolinecolor": "white"
           }
          },
          "shapedefaults": {
           "line": {
            "color": "#2a3f5f"
           }
          },
          "ternary": {
           "aaxis": {
            "gridcolor": "white",
            "linecolor": "white",
            "ticks": ""
           },
           "baxis": {
            "gridcolor": "white",
            "linecolor": "white",
            "ticks": ""
           },
           "bgcolor": "#E5ECF6",
           "caxis": {
            "gridcolor": "white",
            "linecolor": "white",
            "ticks": ""
           }
          },
          "title": {
           "x": 0.05
          },
          "xaxis": {
           "automargin": true,
           "gridcolor": "white",
           "linecolor": "white",
           "ticks": "",
           "title": {
            "standoff": 15
           },
           "zerolinecolor": "white",
           "zerolinewidth": 2
          },
          "yaxis": {
           "automargin": true,
           "gridcolor": "white",
           "linecolor": "white",
           "ticks": "",
           "title": {
            "standoff": 15
           },
           "zerolinecolor": "white",
           "zerolinewidth": 2
          }
         }
        },
        "title": {
         "text": "Descomposición de la Serie Temporal (Multiplicative) para Sales"
        },
        "xaxis": {
         "anchor": "y",
         "domain": [
          0,
          1
         ]
        },
        "xaxis2": {
         "anchor": "y2",
         "domain": [
          0,
          1
         ]
        },
        "xaxis3": {
         "anchor": "y3",
         "domain": [
          0,
          1
         ]
        },
        "xaxis4": {
         "anchor": "y4",
         "domain": [
          0,
          1
         ]
        },
        "yaxis": {
         "anchor": "x",
         "domain": [
          0.84375,
          1
         ]
        },
        "yaxis2": {
         "anchor": "x2",
         "domain": [
          0.5625,
          0.71875
         ]
        },
        "yaxis3": {
         "anchor": "x3",
         "domain": [
          0.28125,
          0.4375
         ]
        },
        "yaxis4": {
         "anchor": "x4",
         "domain": [
          0,
          0.15625
         ]
        }
       }
      }
     },
     "metadata": {},
     "output_type": "display_data"
    }
   ],
   "source": [
    "def load_data():\n",
    "    try:\n",
    "        conn = get_db_connection()\n",
    "        query = \"SELECT work_date, department, total_overtime FROM vw_historical_data WHERE work_date < '2025-05-04' ORDER BY work_date\"\n",
    "        df = pd.read_sql(query, conn)\n",
    "        conn.close()\n",
    "        logging.info(f\"Datos cargados: {len(df)} registros\")\n",
    "        df['work_date'] = pd.to_datetime(df['work_date'])\n",
    "        \n",
    "        # Agrupar por quincena\n",
    "        df.set_index('work_date', inplace=True)\n",
    "        df = df.groupby('department').resample('2W').sum(numeric_only=True).reset_index()\n",
    "        df.rename(columns={'work_date': 'ds', 'total_overtime': 'y'}, inplace=True)\n",
    "        \n",
    "        return df\n",
    "    except Exception as e:\n",
    "        logging.error(f\"Error al cargar datos: {e}\")\n",
    "        return pd.DataFrame()\n",
    "\n",
    "def handle_outliers(df):\n",
    "    df_cleaned = df.copy()\n",
    "    for dept in df_cleaned['department'].unique():\n",
    "        dept_data = df_cleaned[df_cleaned['department'] == dept]['y']\n",
    "        \n",
    "        # Filtrado de Hampel para detección de outliers\n",
    "        median = dept_data.median()\n",
    "        mad = median_abs_deviation(dept_data)\n",
    "        threshold = 3 * mad\n",
    "        \n",
    "        lower_bound = median - threshold\n",
    "        upper_bound = median + threshold\n",
    "        \n",
    "        outliers = dept_data[(dept_data < lower_bound) | (dept_data > upper_bound)]\n",
    "        if not outliers.empty:\n",
    "            logging.warning(f\"Outliers detectados en {dept}:\\n{df_cleaned[(df_cleaned['department'] == dept) & df_cleaned['y'].isin(outliers)]}\")\n",
    "            df_cleaned.loc[(df_cleaned['department'] == dept) & (df_cleaned['y'].isin(outliers)), 'y'] = np.nan\n",
    "        \n",
    "    df_cleaned['y'] = df_cleaned.groupby('department')['y'].transform(lambda x: x.interpolate(method='linear'))\n",
    "    return df_cleaned\n",
    "\n",
    "df_all_data = load_data()\n",
    "df_all_data = handle_outliers(df_all_data)\n",
    "\n",
    "logging.info(f\"Resumen de datos:\\nDepartamentos únicos: {df_all_data['department'].unique()}\\nFechas únicas: {df_all_data['ds'].unique()}\\nTotal registros: {len(df_all_data)}\")\n",
    "\n",
    "\n",
    "def select_decomposition_type(series):\n",
    "    # Rellenar valores nulos con la media de la serie para evitar errores\n",
    "    series_filled = series.fillna(series.mean())\n",
    "\n",
    "    # Realizar el test de Dickey-Fuller para verificar estacionalidad\n",
    "    adf_result = adfuller(series_filled)\n",
    "    is_stationary = adf_result[1] <= 0.05\n",
    "\n",
    "    # Descomposición aditiva\n",
    "    result_add = seasonal_decompose(series_filled, model='additive', period=12)\n",
    "    std_add = np.nanstd(result_add.resid)\n",
    "    \n",
    "    # Descomposición multiplicativa\n",
    "    result_mul = seasonal_decompose(series_filled, model='multiplicative', period=12)\n",
    "    std_mul = np.nanstd(result_mul.resid)\n",
    "\n",
    "    decomposition_type = 'additive' if std_add < std_mul else 'multiplicative'\n",
    "\n",
    "    # Limpiar prints: solo logging\n",
    "    logging.info(f\"Desviación estándar de los residuales aditivos: {std_add:.2f}\")\n",
    "    logging.info(f\"Desviación estándar de los residuales multiplicativos: {std_mul:.2f}\")\n",
    "    logging.info(f\"P-value del test ADF: {adf_result[1]:.2f}\")\n",
    "\n",
    "    if not is_stationary and decomposition_type == 'additive':\n",
    "        logging.info(\"La serie no es estacionaria y no tiene una tendencia clara. Se descarta ARIMA.\")\n",
    "        return decomposition_type, False\n",
    "\n",
    "    logging.info(f\"Criterio de selección: La desviación estándar de los residuos {decomposition_type} es menor.\")\n",
    "    return decomposition_type, True\n",
    "\n",
    "def plot_decomposition(series, decomposition_type, dept):\n",
    "    # Rellenar valores nulos con la media de la serie para una visualización completa\n",
    "    series_filled = series.fillna(series.mean())\n",
    "    result = seasonal_decompose(series_filled, model=decomposition_type, period=12)\n",
    "    fig = make_subplots(rows=4, cols=1, subplot_titles=['Original', 'Tendencia', 'Estacionalidad', 'Residuos'])\n",
    "    \n",
    "    fig.add_trace(go.Scatter(x=series.index, y=series, mode='lines', name='Original'), row=1, col=1)\n",
    "    fig.add_trace(go.Scatter(x=result.trend.index, y=result.trend, mode='lines', name='Tendencia'), row=2, col=1)\n",
    "    fig.add_trace(go.Scatter(x=result.seasonal.index, y=result.seasonal, mode='lines', name='Estacionalidad'), row=3, col=1)\n",
    "    fig.add_trace(go.Scatter(x=result.resid.index, y=result.resid, mode='lines', name='Residuos'), row=4, col=1)\n",
    "    \n",
    "    fig.update_layout(height=800, title_text=f\"Descomposición de la Serie Temporal ({decomposition_type.capitalize()}) para {dept}\")\n",
    "    fig.show()\n",
    "\n",
    "# Ejemplo de uso\n",
    "for dept in df_all_data['department'].unique():\n",
    "    dept_data = df_all_data[df_all_data['department'] == dept].set_index('ds')['y']\n",
    "    decomposition_type, _ = select_decomposition_type(dept_data)\n",
    "    logging.info(f\"El departamento {dept} tiene una descomposición {decomposition_type}.\")\n",
    "    plot_decomposition(dept_data, decomposition_type, dept)"
   ]
  },
  {
   "cell_type": "markdown",
   "id": "new_model_training",
   "metadata": {},
   "source": [
    "## 4. Entrenamiento y Selección de Modelos\n",
    "\n",
    "Para cada departamento, entrenamos y evaluamos tres modelos de pronóstico:\n",
    "\n",
    "1.  **ARIMA**: Se utiliza `auto_arima` para encontrar los parámetros óptimos. \n",
    "2.  **Prophet**: Actúa como un modelo robusto de respaldo. Su modo de estacionalidad (`additive` o `multiplicative`) se configura dinámicamente según el análisis de descomposición previo.\n",
    "3.  **Holt (Suavización Exponencial)**: Un modelo clásico que captura tendencias.\n",
    "\n",
    "Los modelos se evalúan mediante validación cruzada de series de tiempo. El mejor modelo se selecciona en función de su rendimiento en métricas clave (RMSE, MAE, SMAPE, MASE). Se genera una tabla comparativa para visualizar el rendimiento y la selección final."
   ]
  },
  {
   "cell_type": "code",
   "execution_count": 28,
   "id": "new_model_training_code",
   "metadata": {},
   "outputs": [
    {
     "name": "stderr",
     "output_type": "stream",
     "text": [
      "2025-08-13 16:26:44,006 - INFO - Iniciando análisis para el departamento: Finance\n",
      "2025-08-13 16:26:44,029 - INFO - Desviación estándar de los residuales aditivos: 4.87\n",
      "2025-08-13 16:26:44,029 - INFO - Desviación estándar de los residuales aditivos: 4.87\n",
      "2025-08-13 16:26:44,031 - INFO - Desviación estándar de los residuales multiplicativos: 0.16\n",
      "2025-08-13 16:26:44,035 - INFO - P-value del test ADF: 0.00\n",
      "2025-08-13 16:26:44,038 - INFO - Criterio de selección: La desviación estándar de los residuos multiplicative es menor.\n",
      "2025-08-13 16:26:44,031 - INFO - Desviación estándar de los residuales multiplicativos: 0.16\n",
      "2025-08-13 16:26:44,035 - INFO - P-value del test ADF: 0.00\n",
      "2025-08-13 16:26:44,038 - INFO - Criterio de selección: La desviación estándar de los residuos multiplicative es menor.\n",
      "2025-08-13 16:26:46,236 - DEBUG - cmd: where.exe tbb.dll\n",
      "cwd: None\n",
      "2025-08-13 16:26:46,236 - DEBUG - cmd: where.exe tbb.dll\n",
      "cwd: None\n",
      "2025-08-13 16:26:47,046 - DEBUG - TBB already found in load path\n",
      "2025-08-13 16:26:47,060 - INFO - Disabling yearly seasonality. Run prophet with yearly_seasonality=True to override this.\n",
      "2025-08-13 16:26:47,046 - DEBUG - TBB already found in load path\n",
      "2025-08-13 16:26:47,060 - INFO - Disabling yearly seasonality. Run prophet with yearly_seasonality=True to override this.\n",
      "2025-08-13 16:26:47,062 - INFO - Disabling weekly seasonality. Run prophet with weekly_seasonality=True to override this.\n",
      "2025-08-13 16:26:47,062 - INFO - Disabling weekly seasonality. Run prophet with weekly_seasonality=True to override this.\n",
      "2025-08-13 16:26:47,064 - INFO - Disabling daily seasonality. Run prophet with daily_seasonality=True to override this.\n",
      "2025-08-13 16:26:47,094 - INFO - n_changepoints greater than number of observations. Using 18.\n",
      "2025-08-13 16:26:47,064 - INFO - Disabling daily seasonality. Run prophet with daily_seasonality=True to override this.\n",
      "2025-08-13 16:26:47,094 - INFO - n_changepoints greater than number of observations. Using 18.\n",
      "2025-08-13 16:26:47,103 - DEBUG - input tempfile: C:\\Users\\joey_\\AppData\\Local\\Temp\\tmp8qze_rgk\\ykjxa0_a.json\n",
      "2025-08-13 16:26:47,103 - DEBUG - input tempfile: C:\\Users\\joey_\\AppData\\Local\\Temp\\tmp8qze_rgk\\ykjxa0_a.json\n",
      "2025-08-13 16:26:47,125 - DEBUG - input tempfile: C:\\Users\\joey_\\AppData\\Local\\Temp\\tmp8qze_rgk\\jh3imcr2.json\n",
      "2025-08-13 16:26:47,135 - DEBUG - idx 0\n",
      "2025-08-13 16:26:47,138 - DEBUG - running CmdStan, num_threads: None\n",
      "2025-08-13 16:26:47,125 - DEBUG - input tempfile: C:\\Users\\joey_\\AppData\\Local\\Temp\\tmp8qze_rgk\\jh3imcr2.json\n",
      "2025-08-13 16:26:47,135 - DEBUG - idx 0\n",
      "2025-08-13 16:26:47,138 - DEBUG - running CmdStan, num_threads: None\n",
      "2025-08-13 16:26:47,139 - DEBUG - CmdStan args: ['C:\\\\Users\\\\joey_\\\\AppData\\\\Local\\\\Programs\\\\Python\\\\Maestro_Yoda\\\\Lib\\\\site-packages\\\\prophet\\\\stan_model\\\\prophet_model.bin', 'random', 'seed=83002', 'data', 'file=C:\\\\Users\\\\joey_\\\\AppData\\\\Local\\\\Temp\\\\tmp8qze_rgk\\\\ykjxa0_a.json', 'init=C:\\\\Users\\\\joey_\\\\AppData\\\\Local\\\\Temp\\\\tmp8qze_rgk\\\\jh3imcr2.json', 'output', 'file=C:\\\\Users\\\\joey_\\\\AppData\\\\Local\\\\Temp\\\\tmp8qze_rgk\\\\prophet_modelt4ff4o75\\\\prophet_model-20250813162647.csv', 'method=optimize', 'algorithm=newton', 'iter=10000']\n",
      "16:26:47 - cmdstanpy - INFO - Chain [1] start processing\n",
      "2025-08-13 16:26:47,144 - INFO - Chain [1] start processing\n",
      "2025-08-13 16:26:47,139 - DEBUG - CmdStan args: ['C:\\\\Users\\\\joey_\\\\AppData\\\\Local\\\\Programs\\\\Python\\\\Maestro_Yoda\\\\Lib\\\\site-packages\\\\prophet\\\\stan_model\\\\prophet_model.bin', 'random', 'seed=83002', 'data', 'file=C:\\\\Users\\\\joey_\\\\AppData\\\\Local\\\\Temp\\\\tmp8qze_rgk\\\\ykjxa0_a.json', 'init=C:\\\\Users\\\\joey_\\\\AppData\\\\Local\\\\Temp\\\\tmp8qze_rgk\\\\jh3imcr2.json', 'output', 'file=C:\\\\Users\\\\joey_\\\\AppData\\\\Local\\\\Temp\\\\tmp8qze_rgk\\\\prophet_modelt4ff4o75\\\\prophet_model-20250813162647.csv', 'method=optimize', 'algorithm=newton', 'iter=10000']\n",
      "16:26:47 - cmdstanpy - INFO - Chain [1] start processing\n",
      "2025-08-13 16:26:47,144 - INFO - Chain [1] start processing\n",
      "16:26:49 - cmdstanpy - INFO - Chain [1] done processing\n",
      "2025-08-13 16:26:49,237 - INFO - Chain [1] done processing\n",
      "16:26:49 - cmdstanpy - INFO - Chain [1] done processing\n",
      "2025-08-13 16:26:49,237 - INFO - Chain [1] done processing\n",
      "2025-08-13 16:26:54,405 - INFO - El mejor modelo FINAL para Finance es: ARIMA con RMSE de 6.81\n",
      "2025-08-13 16:26:54,405 - INFO - El mejor modelo FINAL para Finance es: ARIMA con RMSE de 6.81\n",
      "2025-08-13 16:26:54,434 - INFO - Iniciando análisis para el departamento: HR\n",
      "2025-08-13 16:26:54,434 - INFO - Iniciando análisis para el departamento: HR\n",
      "2025-08-13 16:26:54,467 - INFO - Desviación estándar de los residuales aditivos: 4.23\n",
      "2025-08-13 16:26:54,472 - INFO - Desviación estándar de los residuales multiplicativos: 0.08\n",
      "2025-08-13 16:26:54,480 - INFO - P-value del test ADF: 0.01\n",
      "2025-08-13 16:26:54,488 - INFO - Criterio de selección: La desviación estándar de los residuos multiplicative es menor.\n",
      "2025-08-13 16:26:54,467 - INFO - Desviación estándar de los residuales aditivos: 4.23\n",
      "2025-08-13 16:26:54,472 - INFO - Desviación estándar de los residuales multiplicativos: 0.08\n",
      "2025-08-13 16:26:54,480 - INFO - P-value del test ADF: 0.01\n",
      "2025-08-13 16:26:54,488 - INFO - Criterio de selección: La desviación estándar de los residuos multiplicative es menor.\n"
     ]
    },
    {
     "name": "stdout",
     "output_type": "stream",
     "text": [
      "Métricas de los modelos para Finance:\n",
      "                  Modelo       RMSE       MAPE\n",
      "0                  ARIMA   6.810098  17.271081\n",
      "1  Exponential Smoothing   9.957076  25.438809\n",
      "2                Prophet  10.767921  29.569347\n",
      "3                XGBoost  11.785891  32.289255\n",
      "\n"
     ]
    },
    {
     "name": "stderr",
     "output_type": "stream",
     "text": [
      "2025-08-13 16:26:57,796 - DEBUG - cmd: where.exe tbb.dll\n",
      "cwd: None\n",
      "2025-08-13 16:26:58,333 - DEBUG - TBB already found in load path\n",
      "2025-08-13 16:26:58,333 - DEBUG - TBB already found in load path\n",
      "2025-08-13 16:26:58,346 - INFO - Disabling yearly seasonality. Run prophet with yearly_seasonality=True to override this.\n",
      "2025-08-13 16:26:58,349 - INFO - Disabling weekly seasonality. Run prophet with weekly_seasonality=True to override this.\n",
      "2025-08-13 16:26:58,346 - INFO - Disabling yearly seasonality. Run prophet with yearly_seasonality=True to override this.\n",
      "2025-08-13 16:26:58,349 - INFO - Disabling weekly seasonality. Run prophet with weekly_seasonality=True to override this.\n",
      "2025-08-13 16:26:58,351 - INFO - Disabling daily seasonality. Run prophet with daily_seasonality=True to override this.\n",
      "2025-08-13 16:26:58,386 - INFO - n_changepoints greater than number of observations. Using 18.\n",
      "2025-08-13 16:26:58,351 - INFO - Disabling daily seasonality. Run prophet with daily_seasonality=True to override this.\n",
      "2025-08-13 16:26:58,386 - INFO - n_changepoints greater than number of observations. Using 18.\n",
      "2025-08-13 16:26:58,400 - DEBUG - input tempfile: C:\\Users\\joey_\\AppData\\Local\\Temp\\tmp8qze_rgk\\ulqpc9_7.json\n",
      "2025-08-13 16:26:58,409 - DEBUG - input tempfile: C:\\Users\\joey_\\AppData\\Local\\Temp\\tmp8qze_rgk\\6oeprrsh.json\n",
      "2025-08-13 16:26:58,400 - DEBUG - input tempfile: C:\\Users\\joey_\\AppData\\Local\\Temp\\tmp8qze_rgk\\ulqpc9_7.json\n",
      "2025-08-13 16:26:58,409 - DEBUG - input tempfile: C:\\Users\\joey_\\AppData\\Local\\Temp\\tmp8qze_rgk\\6oeprrsh.json\n",
      "2025-08-13 16:26:58,415 - DEBUG - idx 0\n",
      "2025-08-13 16:26:58,419 - DEBUG - running CmdStan, num_threads: None\n",
      "2025-08-13 16:26:58,415 - DEBUG - idx 0\n",
      "2025-08-13 16:26:58,419 - DEBUG - running CmdStan, num_threads: None\n",
      "2025-08-13 16:26:58,426 - DEBUG - CmdStan args: ['C:\\\\Users\\\\joey_\\\\AppData\\\\Local\\\\Programs\\\\Python\\\\Maestro_Yoda\\\\Lib\\\\site-packages\\\\prophet\\\\stan_model\\\\prophet_model.bin', 'random', 'seed=67687', 'data', 'file=C:\\\\Users\\\\joey_\\\\AppData\\\\Local\\\\Temp\\\\tmp8qze_rgk\\\\ulqpc9_7.json', 'init=C:\\\\Users\\\\joey_\\\\AppData\\\\Local\\\\Temp\\\\tmp8qze_rgk\\\\6oeprrsh.json', 'output', 'file=C:\\\\Users\\\\joey_\\\\AppData\\\\Local\\\\Temp\\\\tmp8qze_rgk\\\\prophet_model_o7aptoy\\\\prophet_model-20250813162658.csv', 'method=optimize', 'algorithm=newton', 'iter=10000']\n",
      "16:26:58 - cmdstanpy - INFO - Chain [1] start processing\n",
      "2025-08-13 16:26:58,481 - INFO - Chain [1] start processing\n",
      "2025-08-13 16:26:58,426 - DEBUG - CmdStan args: ['C:\\\\Users\\\\joey_\\\\AppData\\\\Local\\\\Programs\\\\Python\\\\Maestro_Yoda\\\\Lib\\\\site-packages\\\\prophet\\\\stan_model\\\\prophet_model.bin', 'random', 'seed=67687', 'data', 'file=C:\\\\Users\\\\joey_\\\\AppData\\\\Local\\\\Temp\\\\tmp8qze_rgk\\\\ulqpc9_7.json', 'init=C:\\\\Users\\\\joey_\\\\AppData\\\\Local\\\\Temp\\\\tmp8qze_rgk\\\\6oeprrsh.json', 'output', 'file=C:\\\\Users\\\\joey_\\\\AppData\\\\Local\\\\Temp\\\\tmp8qze_rgk\\\\prophet_model_o7aptoy\\\\prophet_model-20250813162658.csv', 'method=optimize', 'algorithm=newton', 'iter=10000']\n",
      "16:26:58 - cmdstanpy - INFO - Chain [1] start processing\n",
      "2025-08-13 16:26:58,481 - INFO - Chain [1] start processing\n",
      "16:26:59 - cmdstanpy - INFO - Chain [1] done processing\n",
      "2025-08-13 16:26:59,113 - INFO - Chain [1] done processing\n",
      "16:26:59 - cmdstanpy - INFO - Chain [1] done processing\n",
      "2025-08-13 16:26:59,113 - INFO - Chain [1] done processing\n",
      "2025-08-13 16:27:01,486 - INFO - El mejor modelo FINAL para HR es: ARIMA con RMSE de 9.94\n",
      "2025-08-13 16:27:01,486 - INFO - El mejor modelo FINAL para HR es: ARIMA con RMSE de 9.94\n",
      "2025-08-13 16:27:01,512 - INFO - Iniciando análisis para el departamento: IT\n",
      "2025-08-13 16:27:01,512 - INFO - Iniciando análisis para el departamento: IT\n",
      "2025-08-13 16:27:01,570 - INFO - Desviación estándar de los residuales aditivos: 9.02\n",
      "2025-08-13 16:27:01,573 - INFO - Desviación estándar de los residuales multiplicativos: 0.09\n",
      "2025-08-13 16:27:01,577 - INFO - P-value del test ADF: 0.00\n",
      "2025-08-13 16:27:01,579 - INFO - Criterio de selección: La desviación estándar de los residuos multiplicative es menor.\n",
      "2025-08-13 16:27:01,570 - INFO - Desviación estándar de los residuales aditivos: 9.02\n",
      "2025-08-13 16:27:01,573 - INFO - Desviación estándar de los residuales multiplicativos: 0.09\n",
      "2025-08-13 16:27:01,577 - INFO - P-value del test ADF: 0.00\n",
      "2025-08-13 16:27:01,579 - INFO - Criterio de selección: La desviación estándar de los residuos multiplicative es menor.\n"
     ]
    },
    {
     "name": "stdout",
     "output_type": "stream",
     "text": [
      "Métricas de los modelos para HR:\n",
      "                  Modelo       RMSE       MAPE\n",
      "0                  ARIMA   9.936516  20.449663\n",
      "3                XGBoost  10.080056  22.248131\n",
      "2                Prophet  13.243985  25.069007\n",
      "1  Exponential Smoothing  17.524741  37.037066\n",
      "\n"
     ]
    },
    {
     "name": "stderr",
     "output_type": "stream",
     "text": [
      "2025-08-13 16:27:03,561 - DEBUG - cmd: where.exe tbb.dll\n",
      "cwd: None\n",
      "2025-08-13 16:27:03,978 - DEBUG - TBB already found in load path\n",
      "2025-08-13 16:27:03,978 - DEBUG - TBB already found in load path\n",
      "2025-08-13 16:27:03,990 - INFO - Disabling yearly seasonality. Run prophet with yearly_seasonality=True to override this.\n",
      "2025-08-13 16:27:03,993 - INFO - Disabling weekly seasonality. Run prophet with weekly_seasonality=True to override this.\n",
      "2025-08-13 16:27:03,996 - INFO - Disabling daily seasonality. Run prophet with daily_seasonality=True to override this.\n",
      "2025-08-13 16:27:03,990 - INFO - Disabling yearly seasonality. Run prophet with yearly_seasonality=True to override this.\n",
      "2025-08-13 16:27:03,993 - INFO - Disabling weekly seasonality. Run prophet with weekly_seasonality=True to override this.\n",
      "2025-08-13 16:27:03,996 - INFO - Disabling daily seasonality. Run prophet with daily_seasonality=True to override this.\n",
      "2025-08-13 16:27:04,033 - INFO - n_changepoints greater than number of observations. Using 18.\n",
      "2025-08-13 16:27:04,046 - DEBUG - input tempfile: C:\\Users\\joey_\\AppData\\Local\\Temp\\tmp8qze_rgk\\gdqfmd7p.json\n",
      "2025-08-13 16:27:04,054 - DEBUG - input tempfile: C:\\Users\\joey_\\AppData\\Local\\Temp\\tmp8qze_rgk\\iley271h.json\n",
      "2025-08-13 16:27:04,066 - DEBUG - idx 0\n",
      "2025-08-13 16:27:04,069 - DEBUG - running CmdStan, num_threads: None\n",
      "2025-08-13 16:27:04,072 - DEBUG - CmdStan args: ['C:\\\\Users\\\\joey_\\\\AppData\\\\Local\\\\Programs\\\\Python\\\\Maestro_Yoda\\\\Lib\\\\site-packages\\\\prophet\\\\stan_model\\\\prophet_model.bin', 'random', 'seed=96094', 'data', 'file=C:\\\\Users\\\\joey_\\\\AppData\\\\Local\\\\Temp\\\\tmp8qze_rgk\\\\gdqfmd7p.json', 'init=C:\\\\Users\\\\joey_\\\\AppData\\\\Local\\\\Temp\\\\tmp8qze_rgk\\\\iley271h.json', 'output', 'file=C:\\\\Users\\\\joey_\\\\AppData\\\\Local\\\\Temp\\\\tmp8qze_rgk\\\\prophet_modellztd0qv4\\\\prophet_model-20250813162704.csv', 'method=optimize', 'algorithm=newton', 'iter=10000']\n",
      "16:27:04 - cmdstanpy - INFO - Chain [1] start processing\n",
      "2025-08-13 16:27:04,077 - INFO - Chain [1] start processing\n",
      "2025-08-13 16:27:04,033 - INFO - n_changepoints greater than number of observations. Using 18.\n",
      "2025-08-13 16:27:04,046 - DEBUG - input tempfile: C:\\Users\\joey_\\AppData\\Local\\Temp\\tmp8qze_rgk\\gdqfmd7p.json\n",
      "2025-08-13 16:27:04,054 - DEBUG - input tempfile: C:\\Users\\joey_\\AppData\\Local\\Temp\\tmp8qze_rgk\\iley271h.json\n",
      "2025-08-13 16:27:04,066 - DEBUG - idx 0\n",
      "2025-08-13 16:27:04,069 - DEBUG - running CmdStan, num_threads: None\n",
      "2025-08-13 16:27:04,072 - DEBUG - CmdStan args: ['C:\\\\Users\\\\joey_\\\\AppData\\\\Local\\\\Programs\\\\Python\\\\Maestro_Yoda\\\\Lib\\\\site-packages\\\\prophet\\\\stan_model\\\\prophet_model.bin', 'random', 'seed=96094', 'data', 'file=C:\\\\Users\\\\joey_\\\\AppData\\\\Local\\\\Temp\\\\tmp8qze_rgk\\\\gdqfmd7p.json', 'init=C:\\\\Users\\\\joey_\\\\AppData\\\\Local\\\\Temp\\\\tmp8qze_rgk\\\\iley271h.json', 'output', 'file=C:\\\\Users\\\\joey_\\\\AppData\\\\Local\\\\Temp\\\\tmp8qze_rgk\\\\prophet_modellztd0qv4\\\\prophet_model-20250813162704.csv', 'method=optimize', 'algorithm=newton', 'iter=10000']\n",
      "16:27:04 - cmdstanpy - INFO - Chain [1] start processing\n",
      "2025-08-13 16:27:04,077 - INFO - Chain [1] start processing\n",
      "16:27:04 - cmdstanpy - INFO - Chain [1] done processing\n",
      "2025-08-13 16:27:04,603 - INFO - Chain [1] done processing\n",
      "16:27:04 - cmdstanpy - INFO - Chain [1] done processing\n",
      "2025-08-13 16:27:04,603 - INFO - Chain [1] done processing\n",
      "2025-08-13 16:27:07,607 - INFO - El mejor modelo FINAL para IT es: ARIMA con RMSE de 22.70\n",
      "2025-08-13 16:27:07,607 - INFO - El mejor modelo FINAL para IT es: ARIMA con RMSE de 22.70\n",
      "2025-08-13 16:27:07,647 - INFO - Iniciando análisis para el departamento: Inventory\n",
      "2025-08-13 16:27:07,647 - INFO - Iniciando análisis para el departamento: Inventory\n",
      "2025-08-13 16:27:07,678 - INFO - Desviación estándar de los residuales aditivos: 7.68\n",
      "2025-08-13 16:27:07,687 - INFO - Desviación estándar de los residuales multiplicativos: 0.06\n",
      "2025-08-13 16:27:07,699 - INFO - P-value del test ADF: 0.00\n",
      "2025-08-13 16:27:07,678 - INFO - Desviación estándar de los residuales aditivos: 7.68\n",
      "2025-08-13 16:27:07,687 - INFO - Desviación estándar de los residuales multiplicativos: 0.06\n",
      "2025-08-13 16:27:07,699 - INFO - P-value del test ADF: 0.00\n",
      "2025-08-13 16:27:07,710 - INFO - Criterio de selección: La desviación estándar de los residuos multiplicative es menor.\n",
      "2025-08-13 16:27:07,710 - INFO - Criterio de selección: La desviación estándar de los residuos multiplicative es menor.\n"
     ]
    },
    {
     "name": "stdout",
     "output_type": "stream",
     "text": [
      "Métricas de los modelos para IT:\n",
      "                  Modelo       RMSE       MAPE\n",
      "0                  ARIMA  22.696867  17.102295\n",
      "2                Prophet  24.366909  18.851146\n",
      "1  Exponential Smoothing  25.419806  21.023774\n",
      "3                XGBoost  27.202833  20.467695\n",
      "\n"
     ]
    },
    {
     "name": "stderr",
     "output_type": "stream",
     "text": [
      "2025-08-13 16:27:12,288 - DEBUG - cmd: where.exe tbb.dll\n",
      "cwd: None\n",
      "2025-08-13 16:27:12,767 - DEBUG - TBB already found in load path\n",
      "2025-08-13 16:27:12,780 - INFO - Disabling yearly seasonality. Run prophet with yearly_seasonality=True to override this.\n",
      "2025-08-13 16:27:12,767 - DEBUG - TBB already found in load path\n",
      "2025-08-13 16:27:12,780 - INFO - Disabling yearly seasonality. Run prophet with yearly_seasonality=True to override this.\n",
      "2025-08-13 16:27:12,782 - INFO - Disabling weekly seasonality. Run prophet with weekly_seasonality=True to override this.\n",
      "2025-08-13 16:27:12,782 - INFO - Disabling weekly seasonality. Run prophet with weekly_seasonality=True to override this.\n",
      "2025-08-13 16:27:12,785 - INFO - Disabling daily seasonality. Run prophet with daily_seasonality=True to override this.\n",
      "2025-08-13 16:27:12,785 - INFO - Disabling daily seasonality. Run prophet with daily_seasonality=True to override this.\n",
      "2025-08-13 16:27:12,823 - INFO - n_changepoints greater than number of observations. Using 18.\n",
      "2025-08-13 16:27:12,834 - DEBUG - input tempfile: C:\\Users\\joey_\\AppData\\Local\\Temp\\tmp8qze_rgk\\rb_r0w41.json\n",
      "2025-08-13 16:27:12,823 - INFO - n_changepoints greater than number of observations. Using 18.\n",
      "2025-08-13 16:27:12,834 - DEBUG - input tempfile: C:\\Users\\joey_\\AppData\\Local\\Temp\\tmp8qze_rgk\\rb_r0w41.json\n",
      "2025-08-13 16:27:12,843 - DEBUG - input tempfile: C:\\Users\\joey_\\AppData\\Local\\Temp\\tmp8qze_rgk\\pko43jh6.json\n",
      "2025-08-13 16:27:12,851 - DEBUG - idx 0\n",
      "2025-08-13 16:27:12,855 - DEBUG - running CmdStan, num_threads: None\n",
      "2025-08-13 16:27:12,843 - DEBUG - input tempfile: C:\\Users\\joey_\\AppData\\Local\\Temp\\tmp8qze_rgk\\pko43jh6.json\n",
      "2025-08-13 16:27:12,851 - DEBUG - idx 0\n",
      "2025-08-13 16:27:12,855 - DEBUG - running CmdStan, num_threads: None\n",
      "2025-08-13 16:27:12,861 - DEBUG - CmdStan args: ['C:\\\\Users\\\\joey_\\\\AppData\\\\Local\\\\Programs\\\\Python\\\\Maestro_Yoda\\\\Lib\\\\site-packages\\\\prophet\\\\stan_model\\\\prophet_model.bin', 'random', 'seed=95684', 'data', 'file=C:\\\\Users\\\\joey_\\\\AppData\\\\Local\\\\Temp\\\\tmp8qze_rgk\\\\rb_r0w41.json', 'init=C:\\\\Users\\\\joey_\\\\AppData\\\\Local\\\\Temp\\\\tmp8qze_rgk\\\\pko43jh6.json', 'output', 'file=C:\\\\Users\\\\joey_\\\\AppData\\\\Local\\\\Temp\\\\tmp8qze_rgk\\\\prophet_modelqno95pao\\\\prophet_model-20250813162712.csv', 'method=optimize', 'algorithm=newton', 'iter=10000']\n",
      "16:27:12 - cmdstanpy - INFO - Chain [1] start processing\n",
      "2025-08-13 16:27:12,901 - INFO - Chain [1] start processing\n",
      "2025-08-13 16:27:12,861 - DEBUG - CmdStan args: ['C:\\\\Users\\\\joey_\\\\AppData\\\\Local\\\\Programs\\\\Python\\\\Maestro_Yoda\\\\Lib\\\\site-packages\\\\prophet\\\\stan_model\\\\prophet_model.bin', 'random', 'seed=95684', 'data', 'file=C:\\\\Users\\\\joey_\\\\AppData\\\\Local\\\\Temp\\\\tmp8qze_rgk\\\\rb_r0w41.json', 'init=C:\\\\Users\\\\joey_\\\\AppData\\\\Local\\\\Temp\\\\tmp8qze_rgk\\\\pko43jh6.json', 'output', 'file=C:\\\\Users\\\\joey_\\\\AppData\\\\Local\\\\Temp\\\\tmp8qze_rgk\\\\prophet_modelqno95pao\\\\prophet_model-20250813162712.csv', 'method=optimize', 'algorithm=newton', 'iter=10000']\n",
      "16:27:12 - cmdstanpy - INFO - Chain [1] start processing\n",
      "2025-08-13 16:27:12,901 - INFO - Chain [1] start processing\n",
      "16:27:13 - cmdstanpy - INFO - Chain [1] done processing\n",
      "2025-08-13 16:27:13,273 - INFO - Chain [1] done processing\n",
      "16:27:13 - cmdstanpy - INFO - Chain [1] done processing\n",
      "2025-08-13 16:27:13,273 - INFO - Chain [1] done processing\n",
      "2025-08-13 16:27:15,231 - WARNING - El mejor modelo actual (ARIMA) produce una predicción histórica de línea plana. Se seleccionará el siguiente mejor modelo.\n",
      "2025-08-13 16:27:15,231 - WARNING - El mejor modelo actual (ARIMA) produce una predicción histórica de línea plana. Se seleccionará el siguiente mejor modelo.\n",
      "2025-08-13 16:27:15,386 - INFO - El mejor modelo FINAL para Inventory es: XGBoost con RMSE de 16.44\n",
      "2025-08-13 16:27:15,386 - INFO - El mejor modelo FINAL para Inventory es: XGBoost con RMSE de 16.44\n",
      "2025-08-13 16:27:15,541 - INFO - Iniciando análisis para el departamento: Marketing\n",
      "2025-08-13 16:27:15,541 - INFO - Iniciando análisis para el departamento: Marketing\n",
      "2025-08-13 16:27:15,564 - INFO - Desviación estándar de los residuales aditivos: 3.56\n",
      "2025-08-13 16:27:15,568 - INFO - Desviación estándar de los residuales multiplicativos: 0.05\n",
      "2025-08-13 16:27:15,571 - INFO - P-value del test ADF: 0.00\n",
      "2025-08-13 16:27:15,573 - INFO - Criterio de selección: La desviación estándar de los residuos multiplicative es menor.\n",
      "2025-08-13 16:27:15,564 - INFO - Desviación estándar de los residuales aditivos: 3.56\n",
      "2025-08-13 16:27:15,568 - INFO - Desviación estándar de los residuales multiplicativos: 0.05\n",
      "2025-08-13 16:27:15,571 - INFO - P-value del test ADF: 0.00\n",
      "2025-08-13 16:27:15,573 - INFO - Criterio de selección: La desviación estándar de los residuos multiplicative es menor.\n"
     ]
    },
    {
     "name": "stdout",
     "output_type": "stream",
     "text": [
      "Métricas de los modelos para Inventory:\n",
      "                  Modelo       RMSE       MAPE\n",
      "0                XGBoost  16.438580  10.857656\n",
      "1  Exponential Smoothing  24.169849  18.311116\n",
      "2                Prophet  24.884310  19.803423\n",
      "\n"
     ]
    },
    {
     "name": "stderr",
     "output_type": "stream",
     "text": [
      "2025-08-13 16:27:18,499 - DEBUG - cmd: where.exe tbb.dll\n",
      "cwd: None\n",
      "2025-08-13 16:27:18,797 - DEBUG - TBB already found in load path\n",
      "2025-08-13 16:27:18,811 - INFO - Disabling yearly seasonality. Run prophet with yearly_seasonality=True to override this.\n",
      "2025-08-13 16:27:18,797 - DEBUG - TBB already found in load path\n",
      "2025-08-13 16:27:18,811 - INFO - Disabling yearly seasonality. Run prophet with yearly_seasonality=True to override this.\n",
      "2025-08-13 16:27:18,814 - INFO - Disabling weekly seasonality. Run prophet with weekly_seasonality=True to override this.\n",
      "2025-08-13 16:27:18,815 - INFO - Disabling daily seasonality. Run prophet with daily_seasonality=True to override this.\n",
      "2025-08-13 16:27:18,814 - INFO - Disabling weekly seasonality. Run prophet with weekly_seasonality=True to override this.\n",
      "2025-08-13 16:27:18,815 - INFO - Disabling daily seasonality. Run prophet with daily_seasonality=True to override this.\n",
      "2025-08-13 16:27:18,856 - INFO - n_changepoints greater than number of observations. Using 18.\n",
      "2025-08-13 16:27:18,867 - DEBUG - input tempfile: C:\\Users\\joey_\\AppData\\Local\\Temp\\tmp8qze_rgk\\kisl6jeh.json\n",
      "2025-08-13 16:27:18,856 - INFO - n_changepoints greater than number of observations. Using 18.\n",
      "2025-08-13 16:27:18,867 - DEBUG - input tempfile: C:\\Users\\joey_\\AppData\\Local\\Temp\\tmp8qze_rgk\\kisl6jeh.json\n",
      "2025-08-13 16:27:18,914 - DEBUG - input tempfile: C:\\Users\\joey_\\AppData\\Local\\Temp\\tmp8qze_rgk\\tyotbbkm.json\n",
      "2025-08-13 16:27:18,914 - DEBUG - input tempfile: C:\\Users\\joey_\\AppData\\Local\\Temp\\tmp8qze_rgk\\tyotbbkm.json\n",
      "2025-08-13 16:27:18,984 - DEBUG - idx 0\n",
      "2025-08-13 16:27:18,986 - DEBUG - running CmdStan, num_threads: None\n",
      "2025-08-13 16:27:18,989 - DEBUG - CmdStan args: ['C:\\\\Users\\\\joey_\\\\AppData\\\\Local\\\\Programs\\\\Python\\\\Maestro_Yoda\\\\Lib\\\\site-packages\\\\prophet\\\\stan_model\\\\prophet_model.bin', 'random', 'seed=96497', 'data', 'file=C:\\\\Users\\\\joey_\\\\AppData\\\\Local\\\\Temp\\\\tmp8qze_rgk\\\\kisl6jeh.json', 'init=C:\\\\Users\\\\joey_\\\\AppData\\\\Local\\\\Temp\\\\tmp8qze_rgk\\\\tyotbbkm.json', 'output', 'file=C:\\\\Users\\\\joey_\\\\AppData\\\\Local\\\\Temp\\\\tmp8qze_rgk\\\\prophet_modelbtfzbsav\\\\prophet_model-20250813162718.csv', 'method=optimize', 'algorithm=newton', 'iter=10000']\n",
      "16:27:18 - cmdstanpy - INFO - Chain [1] start processing\n",
      "2025-08-13 16:27:18,984 - DEBUG - idx 0\n",
      "2025-08-13 16:27:18,986 - DEBUG - running CmdStan, num_threads: None\n",
      "2025-08-13 16:27:18,989 - DEBUG - CmdStan args: ['C:\\\\Users\\\\joey_\\\\AppData\\\\Local\\\\Programs\\\\Python\\\\Maestro_Yoda\\\\Lib\\\\site-packages\\\\prophet\\\\stan_model\\\\prophet_model.bin', 'random', 'seed=96497', 'data', 'file=C:\\\\Users\\\\joey_\\\\AppData\\\\Local\\\\Temp\\\\tmp8qze_rgk\\\\kisl6jeh.json', 'init=C:\\\\Users\\\\joey_\\\\AppData\\\\Local\\\\Temp\\\\tmp8qze_rgk\\\\tyotbbkm.json', 'output', 'file=C:\\\\Users\\\\joey_\\\\AppData\\\\Local\\\\Temp\\\\tmp8qze_rgk\\\\prophet_modelbtfzbsav\\\\prophet_model-20250813162718.csv', 'method=optimize', 'algorithm=newton', 'iter=10000']\n",
      "16:27:18 - cmdstanpy - INFO - Chain [1] start processing\n",
      "2025-08-13 16:27:18,993 - INFO - Chain [1] start processing\n",
      "2025-08-13 16:27:18,993 - INFO - Chain [1] start processing\n",
      "16:27:19 - cmdstanpy - INFO - Chain [1] done processing\n",
      "2025-08-13 16:27:19,349 - INFO - Chain [1] done processing\n",
      "16:27:19 - cmdstanpy - INFO - Chain [1] done processing\n",
      "2025-08-13 16:27:19,349 - INFO - Chain [1] done processing\n",
      "2025-08-13 16:27:22,408 - WARNING - El mejor modelo actual (ARIMA) produce una predicción histórica de línea plana. Se seleccionará el siguiente mejor modelo.\n",
      "2025-08-13 16:27:22,408 - WARNING - El mejor modelo actual (ARIMA) produce una predicción histórica de línea plana. Se seleccionará el siguiente mejor modelo.\n",
      "2025-08-13 16:27:22,830 - INFO - El mejor modelo FINAL para Marketing es: Exponential Smoothing con RMSE de 11.03\n",
      "2025-08-13 16:27:22,830 - INFO - El mejor modelo FINAL para Marketing es: Exponential Smoothing con RMSE de 11.03\n",
      "2025-08-13 16:27:22,867 - INFO - Iniciando análisis para el departamento: Sales\n",
      "2025-08-13 16:27:22,867 - INFO - Iniciando análisis para el departamento: Sales\n",
      "2025-08-13 16:27:22,908 - INFO - Desviación estándar de los residuales aditivos: 27.08\n",
      "2025-08-13 16:27:22,910 - INFO - Desviación estándar de los residuales multiplicativos: 0.04\n",
      "2025-08-13 16:27:22,914 - INFO - P-value del test ADF: 0.00\n",
      "2025-08-13 16:27:22,917 - INFO - Criterio de selección: La desviación estándar de los residuos multiplicative es menor.\n",
      "2025-08-13 16:27:22,908 - INFO - Desviación estándar de los residuales aditivos: 27.08\n",
      "2025-08-13 16:27:22,910 - INFO - Desviación estándar de los residuales multiplicativos: 0.04\n",
      "2025-08-13 16:27:22,914 - INFO - P-value del test ADF: 0.00\n",
      "2025-08-13 16:27:22,917 - INFO - Criterio de selección: La desviación estándar de los residuos multiplicative es menor.\n"
     ]
    },
    {
     "name": "stdout",
     "output_type": "stream",
     "text": [
      "Métricas de los modelos para Marketing:\n",
      "                  Modelo       RMSE       MAPE\n",
      "0  Exponential Smoothing  11.027292  14.238330\n",
      "1                XGBoost  12.199810  14.181886\n",
      "2                Prophet  15.205894  20.692580\n",
      "\n"
     ]
    },
    {
     "name": "stderr",
     "output_type": "stream",
     "text": [
      "2025-08-13 16:27:25,326 - DEBUG - cmd: where.exe tbb.dll\n",
      "cwd: None\n",
      "2025-08-13 16:27:25,677 - DEBUG - TBB already found in load path\n",
      "2025-08-13 16:27:25,688 - INFO - Disabling yearly seasonality. Run prophet with yearly_seasonality=True to override this.\n",
      "2025-08-13 16:27:25,677 - DEBUG - TBB already found in load path\n",
      "2025-08-13 16:27:25,688 - INFO - Disabling yearly seasonality. Run prophet with yearly_seasonality=True to override this.\n",
      "2025-08-13 16:27:25,692 - INFO - Disabling weekly seasonality. Run prophet with weekly_seasonality=True to override this.\n",
      "2025-08-13 16:27:25,692 - INFO - Disabling weekly seasonality. Run prophet with weekly_seasonality=True to override this.\n",
      "2025-08-13 16:27:25,694 - INFO - Disabling daily seasonality. Run prophet with daily_seasonality=True to override this.\n",
      "2025-08-13 16:27:25,727 - INFO - n_changepoints greater than number of observations. Using 18.\n",
      "2025-08-13 16:27:25,694 - INFO - Disabling daily seasonality. Run prophet with daily_seasonality=True to override this.\n",
      "2025-08-13 16:27:25,727 - INFO - n_changepoints greater than number of observations. Using 18.\n",
      "2025-08-13 16:27:25,738 - DEBUG - input tempfile: C:\\Users\\joey_\\AppData\\Local\\Temp\\tmp8qze_rgk\\9fae9jqw.json\n",
      "2025-08-13 16:27:25,746 - DEBUG - input tempfile: C:\\Users\\joey_\\AppData\\Local\\Temp\\tmp8qze_rgk\\qkz3pso4.json\n",
      "2025-08-13 16:27:25,758 - DEBUG - idx 0\n",
      "2025-08-13 16:27:25,738 - DEBUG - input tempfile: C:\\Users\\joey_\\AppData\\Local\\Temp\\tmp8qze_rgk\\9fae9jqw.json\n",
      "2025-08-13 16:27:25,746 - DEBUG - input tempfile: C:\\Users\\joey_\\AppData\\Local\\Temp\\tmp8qze_rgk\\qkz3pso4.json\n",
      "2025-08-13 16:27:25,758 - DEBUG - idx 0\n",
      "2025-08-13 16:27:25,762 - DEBUG - running CmdStan, num_threads: None\n",
      "2025-08-13 16:27:25,764 - DEBUG - CmdStan args: ['C:\\\\Users\\\\joey_\\\\AppData\\\\Local\\\\Programs\\\\Python\\\\Maestro_Yoda\\\\Lib\\\\site-packages\\\\prophet\\\\stan_model\\\\prophet_model.bin', 'random', 'seed=30771', 'data', 'file=C:\\\\Users\\\\joey_\\\\AppData\\\\Local\\\\Temp\\\\tmp8qze_rgk\\\\9fae9jqw.json', 'init=C:\\\\Users\\\\joey_\\\\AppData\\\\Local\\\\Temp\\\\tmp8qze_rgk\\\\qkz3pso4.json', 'output', 'file=C:\\\\Users\\\\joey_\\\\AppData\\\\Local\\\\Temp\\\\tmp8qze_rgk\\\\prophet_model562q5jtw\\\\prophet_model-20250813162725.csv', 'method=optimize', 'algorithm=newton', 'iter=10000']\n",
      "16:27:25 - cmdstanpy - INFO - Chain [1] start processing\n",
      "2025-08-13 16:27:25,770 - INFO - Chain [1] start processing\n",
      "2025-08-13 16:27:25,762 - DEBUG - running CmdStan, num_threads: None\n",
      "2025-08-13 16:27:25,764 - DEBUG - CmdStan args: ['C:\\\\Users\\\\joey_\\\\AppData\\\\Local\\\\Programs\\\\Python\\\\Maestro_Yoda\\\\Lib\\\\site-packages\\\\prophet\\\\stan_model\\\\prophet_model.bin', 'random', 'seed=30771', 'data', 'file=C:\\\\Users\\\\joey_\\\\AppData\\\\Local\\\\Temp\\\\tmp8qze_rgk\\\\9fae9jqw.json', 'init=C:\\\\Users\\\\joey_\\\\AppData\\\\Local\\\\Temp\\\\tmp8qze_rgk\\\\qkz3pso4.json', 'output', 'file=C:\\\\Users\\\\joey_\\\\AppData\\\\Local\\\\Temp\\\\tmp8qze_rgk\\\\prophet_model562q5jtw\\\\prophet_model-20250813162725.csv', 'method=optimize', 'algorithm=newton', 'iter=10000']\n",
      "16:27:25 - cmdstanpy - INFO - Chain [1] start processing\n",
      "2025-08-13 16:27:25,770 - INFO - Chain [1] start processing\n",
      "16:27:26 - cmdstanpy - INFO - Chain [1] done processing\n",
      "2025-08-13 16:27:26,317 - INFO - Chain [1] done processing\n",
      "16:27:26 - cmdstanpy - INFO - Chain [1] done processing\n",
      "2025-08-13 16:27:26,317 - INFO - Chain [1] done processing\n",
      "2025-08-13 16:27:29,013 - WARNING - El mejor modelo actual (ARIMA) produce una predicción histórica de línea plana. Se seleccionará el siguiente mejor modelo.\n",
      "2025-08-13 16:27:29,024 - DEBUG - cmd: where.exe tbb.dll\n",
      "cwd: None\n",
      "2025-08-13 16:27:29,013 - WARNING - El mejor modelo actual (ARIMA) produce una predicción histórica de línea plana. Se seleccionará el siguiente mejor modelo.\n",
      "2025-08-13 16:27:29,024 - DEBUG - cmd: where.exe tbb.dll\n",
      "cwd: None\n",
      "2025-08-13 16:27:29,324 - DEBUG - TBB already found in load path\n",
      "2025-08-13 16:27:29,334 - INFO - Disabling yearly seasonality. Run prophet with yearly_seasonality=True to override this.\n",
      "2025-08-13 16:27:29,324 - DEBUG - TBB already found in load path\n",
      "2025-08-13 16:27:29,334 - INFO - Disabling yearly seasonality. Run prophet with yearly_seasonality=True to override this.\n",
      "2025-08-13 16:27:29,336 - INFO - Disabling weekly seasonality. Run prophet with weekly_seasonality=True to override this.\n",
      "2025-08-13 16:27:29,336 - INFO - Disabling weekly seasonality. Run prophet with weekly_seasonality=True to override this.\n",
      "2025-08-13 16:27:29,338 - INFO - Disabling daily seasonality. Run prophet with daily_seasonality=True to override this.\n",
      "2025-08-13 16:27:29,373 - DEBUG - input tempfile: C:\\Users\\joey_\\AppData\\Local\\Temp\\tmp8qze_rgk\\fohqjogz.json\n",
      "2025-08-13 16:27:29,338 - INFO - Disabling daily seasonality. Run prophet with daily_seasonality=True to override this.\n",
      "2025-08-13 16:27:29,373 - DEBUG - input tempfile: C:\\Users\\joey_\\AppData\\Local\\Temp\\tmp8qze_rgk\\fohqjogz.json\n",
      "2025-08-13 16:27:29,385 - DEBUG - input tempfile: C:\\Users\\joey_\\AppData\\Local\\Temp\\tmp8qze_rgk\\rqh0g6gu.json\n",
      "2025-08-13 16:27:29,385 - DEBUG - input tempfile: C:\\Users\\joey_\\AppData\\Local\\Temp\\tmp8qze_rgk\\rqh0g6gu.json\n",
      "2025-08-13 16:27:29,392 - DEBUG - idx 0\n",
      "2025-08-13 16:27:29,401 - DEBUG - running CmdStan, num_threads: None\n",
      "2025-08-13 16:27:29,404 - DEBUG - CmdStan args: ['C:\\\\Users\\\\joey_\\\\AppData\\\\Local\\\\Programs\\\\Python\\\\Maestro_Yoda\\\\Lib\\\\site-packages\\\\prophet\\\\stan_model\\\\prophet_model.bin', 'random', 'seed=46992', 'data', 'file=C:\\\\Users\\\\joey_\\\\AppData\\\\Local\\\\Temp\\\\tmp8qze_rgk\\\\fohqjogz.json', 'init=C:\\\\Users\\\\joey_\\\\AppData\\\\Local\\\\Temp\\\\tmp8qze_rgk\\\\rqh0g6gu.json', 'output', 'file=C:\\\\Users\\\\joey_\\\\AppData\\\\Local\\\\Temp\\\\tmp8qze_rgk\\\\prophet_model7sono84q\\\\prophet_model-20250813162729.csv', 'method=optimize', 'algorithm=newton', 'iter=10000']\n",
      "16:27:29 - cmdstanpy - INFO - Chain [1] start processing\n",
      "2025-08-13 16:27:29,407 - INFO - Chain [1] start processing\n",
      "2025-08-13 16:27:29,392 - DEBUG - idx 0\n",
      "2025-08-13 16:27:29,401 - DEBUG - running CmdStan, num_threads: None\n",
      "2025-08-13 16:27:29,404 - DEBUG - CmdStan args: ['C:\\\\Users\\\\joey_\\\\AppData\\\\Local\\\\Programs\\\\Python\\\\Maestro_Yoda\\\\Lib\\\\site-packages\\\\prophet\\\\stan_model\\\\prophet_model.bin', 'random', 'seed=46992', 'data', 'file=C:\\\\Users\\\\joey_\\\\AppData\\\\Local\\\\Temp\\\\tmp8qze_rgk\\\\fohqjogz.json', 'init=C:\\\\Users\\\\joey_\\\\AppData\\\\Local\\\\Temp\\\\tmp8qze_rgk\\\\rqh0g6gu.json', 'output', 'file=C:\\\\Users\\\\joey_\\\\AppData\\\\Local\\\\Temp\\\\tmp8qze_rgk\\\\prophet_model7sono84q\\\\prophet_model-20250813162729.csv', 'method=optimize', 'algorithm=newton', 'iter=10000']\n",
      "16:27:29 - cmdstanpy - INFO - Chain [1] start processing\n",
      "2025-08-13 16:27:29,407 - INFO - Chain [1] start processing\n",
      "16:27:30 - cmdstanpy - INFO - Chain [1] done processing\n",
      "2025-08-13 16:27:30,019 - INFO - Chain [1] done processing\n",
      "16:27:30 - cmdstanpy - INFO - Chain [1] done processing\n",
      "2025-08-13 16:27:30,019 - INFO - Chain [1] done processing\n",
      "2025-08-13 16:27:30,036 - INFO - El mejor modelo FINAL para Sales es: Prophet con RMSE de 56.90\n",
      "2025-08-13 16:27:30,036 - INFO - El mejor modelo FINAL para Sales es: Prophet con RMSE de 56.90\n"
     ]
    },
    {
     "name": "stdout",
     "output_type": "stream",
     "text": [
      "Métricas de los modelos para Sales:\n",
      "                  Modelo       RMSE      MAPE\n",
      "0                Prophet  56.903104  6.930763\n",
      "1  Exponential Smoothing  57.499348  7.120223\n",
      "2                XGBoost  77.892926  9.598943\n",
      "\n"
     ]
    }
   ],
   "source": [
    "def create_lag_features(series, n_lags=6):\n",
    "    df = pd.DataFrame({'y': series})\n",
    "    for lag in range(1, n_lags + 1):\n",
    "        df[f'lag_{lag}'] = df['y'].shift(lag)\n",
    "    df = df.dropna()\n",
    "    return df\n",
    "\n",
    "def create_lag_features_with_time(series, n_lags=6):\n",
    "    \"\"\"\n",
    "    Crea un DataFrame con lags y variables seno/coseno del mes del año para capturar estacionalidad.\n",
    "    \"\"\"\n",
    "    df = pd.DataFrame({'y': series})\n",
    "    df['month'] = df.index.month\n",
    "    df['sin_month'] = np.sin(2 * np.pi * df['month'] / 12)\n",
    "    df['cos_month'] = np.cos(2 * np.pi * df['month'] / 12)\n",
    "    for lag in range(1, n_lags + 1):\n",
    "        df[f'lag_{lag}'] = df['y'].shift(lag)\n",
    "    df = df.dropna()\n",
    "    return df\n",
    "\n",
    "def train_and_compare_models_with_cv(series, decomposition_type, consider_arima):\n",
    "    series_filled = series.fillna(series.mean()).interpolate(method='linear')\n",
    "    min_train_size = 24\n",
    "    if len(series_filled) < min_train_size:\n",
    "        raise ValueError(f\"La serie tiene solo {len(series_filled)} puntos, se necesitan al menos {min_train_size} para el entrenamiento estacional.\")\n",
    "    n_splits = len(series_filled) // 12 - 1 \n",
    "    if n_splits < 1:\n",
    "        n_splits = 1\n",
    "    tscv = TimeSeriesSplit(n_splits=n_splits)\n",
    "\n",
    "    all_arima_rmses, all_arima_mapes = [], []\n",
    "    all_es_rmses, all_es_mapes = [], []\n",
    "    all_prophet_rmses, all_prophet_mapes = [], []\n",
    "    all_xgb_rmses, all_xgb_mapes = [], []\n",
    "\n",
    "    for train_index, val_index in tscv.split(series_filled):\n",
    "        train_data = series_filled.iloc[train_index]\n",
    "        val_data = series_filled.iloc[val_index]\n",
    "        if len(train_data) < min_train_size:\n",
    "            continue\n",
    "\n",
    "        # ARIMA\n",
    "        if consider_arima:\n",
    "            try:\n",
    "                arima_model = auto_arima(train_data, seasonal=False, stepwise=True, suppress_warnings=True, error_action='ignore')\n",
    "                arima_preds = arima_model.predict(n_periods=len(val_data))\n",
    "                all_arima_rmses.append(np.sqrt(mean_squared_error(val_data, arima_preds)))\n",
    "                all_arima_mapes.append(mean_absolute_percentage_error(val_data, arima_preds))\n",
    "            except Exception as e:\n",
    "                logging.error(f\"Error al entrenar ARIMA: {e}\")\n",
    "                all_arima_rmses.append(np.inf)\n",
    "                all_arima_mapes.append(np.inf)\n",
    "        else:\n",
    "            all_arima_rmses.append(np.inf)\n",
    "            all_arima_mapes.append(np.inf)\n",
    "\n",
    "        # Exponential Smoothing\n",
    "        try:\n",
    "            es_model = ExponentialSmoothing(train_data, trend='add', seasonal=decomposition_type, seasonal_periods=12).fit()\n",
    "            es_preds = es_model.predict(start=val_data.index[0], end=val_data.index[-1])\n",
    "            all_es_rmses.append(np.sqrt(mean_squared_error(val_data, es_preds)))\n",
    "            all_es_mapes.append(mean_absolute_percentage_error(val_data, es_preds))\n",
    "        except Exception as e:\n",
    "            logging.error(f\"Error al entrenar Exponential Smoothing: {e}\")\n",
    "            all_es_rmses.append(np.inf)\n",
    "            all_es_mapes.append(np.inf)\n",
    "\n",
    "        # Prophet (silenciar output)\n",
    "        try:\n",
    "            prophet_df_train = train_data.reset_index().rename(columns={'index': 'ds', 'y': 'y'})\n",
    "            prophet_model = Prophet(seasonality_mode=decomposition_type)\n",
    "            prophet_model.add_seasonality(name='biweekly', period=26, fourier_order=5)\n",
    "            with contextlib.redirect_stdout(io.StringIO()), contextlib.redirect_stderr(io.StringIO()):\n",
    "                prophet_model.fit(prophet_df_train)\n",
    "            future = prophet_model.make_future_dataframe(periods=len(val_data), freq='2W')\n",
    "            with contextlib.redirect_stdout(io.StringIO()), contextlib.redirect_stderr(io.StringIO()):\n",
    "                prophet_preds_df = prophet_model.predict(future)\n",
    "            prophet_preds = prophet_preds_df['yhat'].iloc[-len(val_data):]\n",
    "            all_prophet_rmses.append(np.sqrt(mean_squared_error(val_data, prophet_preds)))\n",
    "            all_prophet_mapes.append(mean_absolute_percentage_error(val_data, prophet_preds))\n",
    "        except Exception as e:\n",
    "            logging.error(f\"Error al entrenar Prophet: {e}\")\n",
    "            all_prophet_rmses.append(np.inf)\n",
    "            all_prophet_mapes.append(np.inf)\n",
    "\n",
    "        # XGBoost con lags y seno/coseno del mes\n",
    "        try:\n",
    "            n_lags = 6\n",
    "            df_lag = create_lag_features_with_time(train_data, n_lags=n_lags)\n",
    "            X_train = df_lag.drop('y', axis=1).values\n",
    "            y_train = df_lag['y'].values\n",
    "            # Para validación, usar los últimos n_lags valores del train + val para construir features\n",
    "            df_val = pd.concat([train_data.iloc[-n_lags:], val_data])\n",
    "            df_val_lag = create_lag_features_with_time(df_val, n_lags=n_lags)\n",
    "            X_val = df_val_lag.drop('y', axis=1).values\n",
    "            y_val = df_val_lag['y'].values\n",
    "            xgb_model = XGBRegressor(n_estimators=100, random_state=42)\n",
    "            xgb_model.fit(X_train, y_train)\n",
    "            xgb_preds = xgb_model.predict(X_val)\n",
    "            all_xgb_rmses.append(np.sqrt(mean_squared_error(y_val, xgb_preds)))\n",
    "            all_xgb_mapes.append(mean_absolute_percentage_error(y_val, xgb_preds))\n",
    "        except Exception as e:\n",
    "            logging.error(f\"Error al entrenar XGBoost: {e}\")\n",
    "            all_xgb_rmses.append(np.inf)\n",
    "            all_xgb_mapes.append(np.inf)\n",
    "\n",
    "    avg_arima_rmse = np.mean(all_arima_rmses) if all_arima_rmses else np.inf\n",
    "    avg_arima_mape = np.mean(all_arima_mapes) if all_arima_mapes else np.inf\n",
    "    avg_es_rmse = np.mean(all_es_rmses) if all_es_rmses else np.inf\n",
    "    avg_es_mape = np.mean(all_es_mapes) if all_es_mapes else np.inf\n",
    "    avg_prophet_rmse = np.mean(all_prophet_rmses) if all_prophet_rmses else np.inf\n",
    "    avg_prophet_mape = np.mean(all_prophet_mapes) if all_prophet_mapes else np.inf\n",
    "    avg_xgb_rmse = np.mean(all_xgb_rmses) if all_xgb_rmses else np.inf\n",
    "    avg_xgb_mape = np.mean(all_xgb_mapes) if all_xgb_mapes else np.inf\n",
    "\n",
    "    metrics = pd.DataFrame({\n",
    "        'Modelo': ['ARIMA', 'Exponential Smoothing', 'Prophet', 'XGBoost'],\n",
    "        'RMSE': [avg_arima_rmse, avg_es_rmse, avg_prophet_rmse, avg_xgb_rmse],\n",
    "        'MAPE': [avg_arima_mape * 100, avg_es_mape * 100, avg_prophet_mape * 100, avg_xgb_mape * 100]\n",
    "    }).sort_values('RMSE')\n",
    "\n",
    "    best_model_name = metrics.iloc[0]['Modelo']\n",
    "    best_model = None\n",
    "\n",
    "    series_filled_final = series.fillna(series.mean()).interpolate(method='linear')\n",
    "    if best_model_name == 'ARIMA':\n",
    "        best_model = auto_arima(series_filled_final, seasonal=False, stepwise=True, suppress_warnings=True, error_action='ignore')\n",
    "    elif best_model_name == 'Exponential Smoothing':\n",
    "        best_model = ExponentialSmoothing(series_filled_final, trend='add', seasonal=decomposition_type, seasonal_periods=12).fit()\n",
    "    elif best_model_name == 'Prophet':\n",
    "        prophet_df_all = series_filled_final.reset_index().rename(columns={'index': 'ds', 'y': 'y'})\n",
    "        best_model = Prophet(seasonality_mode=decomposition_type)\n",
    "        best_model.add_seasonality(name='biweekly', period=26, fourier_order=5)\n",
    "        with contextlib.redirect_stdout(io.StringIO()), contextlib.redirect_stderr(io.StringIO()):\n",
    "            best_model.fit(prophet_df_all)\n",
    "    elif best_model_name == 'XGBoost':\n",
    "        n_lags = 6\n",
    "        df_lag = create_lag_features_with_time(series_filled_final, n_lags=n_lags)\n",
    "        X = df_lag.drop('y', axis=1).values\n",
    "        y = df_lag['y'].values\n",
    "        best_model = XGBRegressor(n_estimators=100, random_state=42)\n",
    "        best_model.fit(X, y)\n",
    "\n",
    "    return best_model, best_model_name, metrics\n",
    "\n",
    "\n",
    "\n",
    "# Lógica principal del script (Líneas corregidas)\n",
    "all_metrics = {}\n",
    "all_forecasts = {}\n",
    "n_periods_forecast = 12 \n",
    "\n",
    "for dept in df_all_data['department'].unique():\n",
    "    logging.info(f\"Iniciando análisis para el departamento: {dept}\")\n",
    "    dept_data = df_all_data[df_all_data['department'] == dept].set_index('ds')['y']\n",
    "    \n",
    "\n",
    "    decomposition_type, consider_arima = select_decomposition_type(dept_data)\n",
    "    \n",
    "    best_model, best_model_name, metrics = train_and_compare_models_with_cv(dept_data, decomposition_type, consider_arima)\n",
    "    \n",
    "    # ---- LÓGICA DE VERIFICACIÓN DE LÍNEA PLANA ----\n",
    "    series_filled_final = dept_data.fillna(dept_data.mean()).interpolate(method='linear')\n",
    "    \n",
    "    historical_pred_check = None\n",
    "    if best_model_name == 'ARIMA':\n",
    "        historical_pred_check = best_model.predict_in_sample()\n",
    "    elif best_model_name == 'Exponential Smoothing':\n",
    "        historical_pred_check = pd.Series(best_model.fittedvalues, index=dept_data.index)\n",
    "    elif best_model_name == 'Prophet':\n",
    "        prophet_df_all = series_filled_final.reset_index().rename(columns={'index': 'ds', 'y': 'y'})\n",
    "        future = best_model.make_future_dataframe(periods=n_periods_forecast, freq='2W', include_history=False)  # Solo futuro\n",
    "        with contextlib.redirect_stdout(io.StringIO()), contextlib.redirect_stderr(io.StringIO()):\n",
    "            forecast_df = best_model.predict(future)\n",
    "        historical_pred_check = forecast_df.set_index('ds')['yhat'].reindex(dept_data.index, method='ffill')  # Alinear con históricos\n",
    "\n",
    "    if historical_pred_check is not None and np.std(historical_pred_check) < 0.1:\n",
    "        logging.warning(f\"El mejor modelo actual ({best_model_name}) produce una predicción histórica de línea plana. Se seleccionará el siguiente mejor modelo.\")\n",
    "        \n",
    "        second_best_model_name = metrics.iloc[1]['Modelo']\n",
    "        metrics = metrics.iloc[1:].reset_index(drop=True)\n",
    "        best_model_name = second_best_model_name\n",
    "        \n",
    "        if best_model_name == 'ARIMA':\n",
    "            best_model = auto_arima(series_filled_final, seasonal=False, stepwise=True, suppress_warnings=True, error_action='ignore')\n",
    "        elif best_model_name == 'Exponential Smoothing':\n",
    "            best_model = ExponentialSmoothing(series_filled_final, trend='add', seasonal=decomposition_type, seasonal_periods=12).fit()\n",
    "        elif best_model_name == 'Prophet':\n",
    "            prophet_df_all = series_filled_final.reset_index().rename(columns={'index': 'ds', 'y': 'y'})\n",
    "            best_model = Prophet(seasonality_mode=decomposition_type)\n",
    "            best_model.add_seasonality(name='biweekly', period=26, fourier_order=5)\n",
    "            with contextlib.redirect_stdout(io.StringIO()), contextlib.redirect_stderr(io.StringIO()):\n",
    "                best_model.fit(prophet_df_all)\n",
    "        elif best_model_name == 'XGBoost':\n",
    "            n_lags = 6\n",
    "            df_lag = create_lag_features_with_time(series_filled_final, n_lags=n_lags)\n",
    "            X = df_lag.drop('y', axis=1).values\n",
    "            y = df_lag['y'].values\n",
    "            best_model = XGBRegressor(n_estimators=100, random_state=42)\n",
    "            best_model.fit(X, y)\n",
    "            \n",
    "    # ---- FIN DE LA LÓGICA DE VERIFICACIÓN ----\n",
    "\n",
    "    all_metrics[dept] = metrics\n",
    "    \n",
    "    logging.info(f\"El mejor modelo FINAL para {dept} es: {best_model_name} con RMSE de {metrics.iloc[0]['RMSE']:.2f}\")\n",
    "    print(f\"Métricas de los modelos para {dept}:\\n{metrics}\\n\")\n",
    "    \n",
    "    # Generar predicciones para el periodo histórico + futuro\n",
    "    if best_model_name == 'ARIMA':\n",
    "        forecast_historical = best_model.predict_in_sample()\n",
    "        forecast_future = best_model.predict(n_periods=n_periods_forecast)\n",
    "        \n",
    "        forecast_combined = pd.concat([forecast_historical, forecast_future])\n",
    "        forecast_combined.name = 'yhat'\n",
    "\n",
    "        future_index = pd.date_range(start=dept_data.index[-1] + pd.Timedelta(days=1), periods=n_periods_forecast, freq='2W')\n",
    "        forecast_df_final = pd.DataFrame(forecast_combined.iloc[-n_periods_forecast:].values, index=future_index, columns=['yhat'])\n",
    "        forecast_df_final['yhat_lower'] = forecast_df_final['yhat'] - (forecast_df_final['yhat'] * 0.1)\n",
    "        forecast_df_final['yhat_upper'] = forecast_df_final['yhat'] + (forecast_df_final['yhat'] * 0.1)\n",
    "\n",
    "        historical_pred_df = pd.DataFrame(forecast_combined.iloc[:len(dept_data)].values, index=dept_data.index, columns=['yhat'])\n",
    "        historical_pred_df['yhat_lower'] = historical_pred_df['yhat'] - (historical_pred_df['yhat'] * 0.1)\n",
    "        historical_pred_df['yhat_upper'] = historical_pred_df['yhat'] + (historical_pred_df['yhat'] * 0.1)\n",
    "\n",
    "    elif best_model_name == 'Exponential Smoothing':\n",
    "        forecast_historical = pd.Series(best_model.fittedvalues, index=dept_data.index)\n",
    "        forecast_future = best_model.forecast(steps=n_periods_forecast)\n",
    "        \n",
    "        # Asegurar que las fechas futuras se asignen como columna 'ds'\n",
    "        future_index = pd.date_range(start=dept_data.index[-1] + pd.Timedelta(days=1), periods=n_periods_forecast, freq='2W')\n",
    "        forecast_df_final = pd.DataFrame({\n",
    "            'ds': future_index,\n",
    "            'yhat': forecast_future.values\n",
    "        })\n",
    "        forecast_df_final['yhat_lower'] = forecast_df_final['yhat'] - (forecast_df_final['yhat'] * 0.1)\n",
    "        forecast_df_final['yhat_upper'] = forecast_df_final['yhat'] + (forecast_df_final['yhat'] * 0.1)\n",
    "        \n",
    "        historical_pred_df = pd.DataFrame(forecast_historical, columns=['yhat'])\n",
    "        historical_pred_df['yhat_lower'] = historical_pred_df['yhat'] - (historical_pred_df['yhat'] * 0.1)\n",
    "        historical_pred_df['yhat_upper'] = historical_pred_df['yhat'] + (historical_pred_df['yhat'] * 0.1)\n",
    "\n",
    "    elif best_model_name == 'Prophet':\n",
    "        prophet_df_all = dept_data.reset_index().rename(columns={'index': 'ds', 'y': 'y'})\n",
    "        # Generar solo las fechas futuras a partir del día siguiente\n",
    "        last_date = dept_data.index[-1]\n",
    "        future_dates = pd.date_range(start=last_date + pd.Timedelta(days=1), periods=n_periods_forecast, freq='2W')\n",
    "        future_df = pd.DataFrame({'ds': future_dates})\n",
    "        with contextlib.redirect_stdout(io.StringIO()), contextlib.redirect_stderr(io.StringIO()):\n",
    "            forecast_df = best_model.predict(future_df)\n",
    "        forecast_df_final = forecast_df.set_index('ds')[['yhat', 'yhat_lower', 'yhat_upper']]\n",
    "        future_all = best_model.make_future_dataframe(periods=len(dept_data) + n_periods_forecast, freq='2W', include_history=True)\n",
    "        with contextlib.redirect_stdout(io.StringIO()), contextlib.redirect_stderr(io.StringIO()):\n",
    "            forecast_all = best_model.predict(future_all)\n",
    "        historical_pred_df = forecast_all.iloc[:len(dept_data)].set_index('ds')[['yhat', 'yhat_lower', 'yhat_upper']]\n",
    "    elif best_model_name == 'XGBoost':\n",
    "        n_lags = 6\n",
    "        # Predicción histórica\n",
    "        df_lag = create_lag_features_with_time(series_filled_final, n_lags=n_lags)\n",
    "        X_hist = df_lag.drop('y', axis=1).values\n",
    "        y_hist = df_lag['y'].values\n",
    "        yhat_hist = best_model.predict(X_hist)\n",
    "        historical_pred_df = pd.DataFrame({'yhat': yhat_hist}, index=series_filled_final.index[n_lags:])\n",
    "        historical_pred_df['yhat_lower'] = historical_pred_df['yhat'] * 0.9\n",
    "        historical_pred_df['yhat_upper'] = historical_pred_df['yhat'] * 1.1\n",
    "        # Predicción futura (multi-step, recursiva)\n",
    "        last_values = list(series_filled_final[-n_lags:])\n",
    "        last_index = series_filled_final.index[-1]\n",
    "        preds = []\n",
    "        future_dates = []\n",
    "        for i in range(n_periods_forecast):\n",
    "            next_date = last_index + pd.DateOffset(weeks=2*(i+1))\n",
    "            month = next_date.month\n",
    "            sin_month = np.sin(2 * np.pi * month / 12)\n",
    "            cos_month = np.cos(2 * np.pi * month / 12)\n",
    "            X_pred = np.array(last_values[-n_lags:] + [month, sin_month, cos_month]).reshape(1, -1)\n",
    "            # XGBoost espera las columnas en el mismo orden que el entrenamiento\n",
    "            # Por lo tanto, construimos un DataFrame temporal para asegurar el orden\n",
    "            cols = [f'lag_{lag}' for lag in range(1, n_lags+1)] + ['month', 'sin_month', 'cos_month']\n",
    "            X_pred_df = pd.DataFrame([last_values[-n_lags:] + [month, sin_month, cos_month]], columns=cols)\n",
    "            pred = best_model.predict(X_pred_df.values)[0]\n",
    "            preds.append(pred)\n",
    "            last_values.append(pred)\n",
    "            future_dates.append(next_date)\n",
    "        forecast_df_final = pd.DataFrame({'ds': future_dates, 'yhat': preds})\n",
    "        forecast_df_final['yhat_lower'] = forecast_df_final['yhat'] * 0.9\n",
    "        forecast_df_final['yhat_upper'] = forecast_df_final['yhat'] * 1.1\n",
    "\n",
    "    all_forecasts[dept] = {'future': forecast_df_final, 'historical_pred': historical_pred_df}"
   ]
  },
  {
   "cell_type": "markdown",
   "id": "new_forecasting",
   "metadata": {},
   "source": [
    "## 5. Generar Predicciones\n",
    "\n",
    "Generamos predicciones para las próximas 12 quincenas con intervalos de confianza, utilizando el mejor modelo seleccionado para cada departamento."
   ]
  },
  {
   "cell_type": "code",
   "execution_count": 29,
   "id": "new_forecasting_code",
   "metadata": {},
   "outputs": [
    {
     "name": "stderr",
     "output_type": "stream",
     "text": [
      "2025-08-13 16:27:56,980 - INFO - Columnas disponibles en df_all_data para Finance: ['department', 'ds', 'y']\n",
      "2025-08-13 16:27:56,994 - INFO - Rango de fechas en future_data para Finance: 2025-05-11 00:00:00 a 2025-10-12 00:00:00\n",
      "2025-08-13 16:27:56,994 - INFO - Rango de fechas en future_data para Finance: 2025-05-11 00:00:00 a 2025-10-12 00:00:00\n"
     ]
    },
    {
     "data": {
      "application/vnd.plotly.v1+json": {
       "config": {
        "plotlyServerURL": "https://plot.ly"
       },
       "data": [
        {
         "line": {
          "color": "blue"
         },
         "mode": "lines",
         "name": "Histórico Real",
         "type": "scatter",
         "x": [
          "2023-12-31T00:00:00.000000000",
          "2024-01-14T00:00:00.000000000",
          "2024-01-28T00:00:00.000000000",
          "2024-02-11T00:00:00.000000000",
          "2024-02-25T00:00:00.000000000",
          "2024-03-10T00:00:00.000000000",
          "2024-03-24T00:00:00.000000000",
          "2024-04-07T00:00:00.000000000",
          "2024-04-21T00:00:00.000000000",
          "2024-05-05T00:00:00.000000000",
          "2024-05-19T00:00:00.000000000",
          "2024-06-02T00:00:00.000000000",
          "2024-06-16T00:00:00.000000000",
          "2024-06-30T00:00:00.000000000",
          "2024-07-14T00:00:00.000000000",
          "2024-07-28T00:00:00.000000000",
          "2024-08-11T00:00:00.000000000",
          "2024-08-25T00:00:00.000000000",
          "2024-09-08T00:00:00.000000000",
          "2024-09-22T00:00:00.000000000",
          "2024-10-06T00:00:00.000000000",
          "2024-10-20T00:00:00.000000000",
          "2024-11-03T00:00:00.000000000",
          "2024-11-17T00:00:00.000000000",
          "2024-12-01T00:00:00.000000000",
          "2024-12-15T00:00:00.000000000",
          "2024-12-29T00:00:00.000000000",
          "2025-01-12T00:00:00.000000000",
          "2025-01-26T00:00:00.000000000",
          "2025-02-09T00:00:00.000000000",
          "2025-02-23T00:00:00.000000000",
          "2025-03-09T00:00:00.000000000",
          "2025-03-23T00:00:00.000000000",
          "2025-04-06T00:00:00.000000000",
          "2025-04-20T00:00:00.000000000",
          "2025-05-04T00:00:00.000000000"
         ],
         "y": {
          "bdata": "rkfhehQuLEDD9Shcj+JBQGZmZmZmJkJA9ihcj8JVQEBmZmZmZuY+QJDC9Shc70BAH4XrUbieOkCQwvUoXA80QBSuR+F6dEBAZmZmZmYmRkApXI/C9WgyQI/C9ShcvzZA9ihcj8IVO0Bcj8L1KGw/QOF6FK5H4UFArkfhehQuQEApXI/C9Sg9QHE9CtejcDtAZmZmZmbmMkDXo3A9Clc4QNejcD0K10NACtejcD3qREA+CtejcP1FQPYoXI/CNTFAZ2ZmZmZGRkCh0wY6beBCQLaBThvo9D5AKVyPwvUoOEDrUbgehYtAQLgehetRODtAj8L1KFyPPUBcj8L1KBw/QLgehetReDdA9ihcj8KVQUBSuB6F6/FDQD0K16NwPTZA",
          "dtype": "f8"
         }
        },
        {
         "line": {
          "color": "orange",
          "dash": "dash"
         },
         "mode": "lines",
         "name": "Predicción Histórica",
         "type": "scatter",
         "x": [
          "2023-12-31T00:00:00.000000000",
          "2024-01-14T00:00:00.000000000",
          "2024-01-28T00:00:00.000000000",
          "2024-02-11T00:00:00.000000000",
          "2024-02-25T00:00:00.000000000",
          "2024-03-10T00:00:00.000000000",
          "2024-03-24T00:00:00.000000000",
          "2024-04-07T00:00:00.000000000",
          "2024-04-21T00:00:00.000000000",
          "2024-05-05T00:00:00.000000000",
          "2024-05-19T00:00:00.000000000",
          "2024-06-02T00:00:00.000000000",
          "2024-06-16T00:00:00.000000000",
          "2024-06-30T00:00:00.000000000",
          "2024-07-14T00:00:00.000000000",
          "2024-07-28T00:00:00.000000000",
          "2024-08-11T00:00:00.000000000",
          "2024-08-25T00:00:00.000000000",
          "2024-09-08T00:00:00.000000000",
          "2024-09-22T00:00:00.000000000",
          "2024-10-06T00:00:00.000000000",
          "2024-10-20T00:00:00.000000000",
          "2024-11-03T00:00:00.000000000",
          "2024-11-17T00:00:00.000000000",
          "2024-12-01T00:00:00.000000000",
          "2024-12-15T00:00:00.000000000",
          "2024-12-29T00:00:00.000000000",
          "2025-01-12T00:00:00.000000000",
          "2025-01-26T00:00:00.000000000",
          "2025-02-09T00:00:00.000000000",
          "2025-02-23T00:00:00.000000000",
          "2025-03-09T00:00:00.000000000",
          "2025-03-23T00:00:00.000000000",
          "2025-04-06T00:00:00.000000000",
          "2025-04-20T00:00:00.000000000",
          "2025-05-04T00:00:00.000000000"
         ],
         "y": {
          "bdata": "jbbHAzeOPkDqkQPgCv8+QCKwM0IXwUFAwLV7wCy6PEAUpr8qfLA8QEy2Rq5E4j1AtgIsJulUPkD65vhh66g9QFfY9RdrE0BAqKnnv5TfQEBRHJjGo1Y9QBQTdU/YsTpA3SnL7yNPQUDxv2iodY5AQAisDMKOmz9AMdhHMzIaPkACLe6pZN48QAS0GViqCj5APM3pa6kZP0BOcefGyO8/QD3KC/1qNEFAcJ90IUMWQECQRU0LO1A7QGi4nzc3kTpAEg8wpi/WOkA3RLGDDR1BQFpruwn97zlAXSxRJNVLPEBf7eY+rac+QC6g0A8SO0BA47gr3c/hPUD7AJ1VhaE/QKT/LDq62D5A4BgnqKKhPkCPFaRZRU1AQPbL5WHQyTxA",
          "dtype": "f8"
         }
        },
        {
         "line": {
          "color": "red",
          "dash": "dot"
         },
         "mode": "lines",
         "name": "Pronóstico Futuro",
         "type": "scatter",
         "x": [
          "2025-05-11T00:00:00.000000000",
          "2025-05-25T00:00:00.000000000",
          "2025-06-08T00:00:00.000000000",
          "2025-06-22T00:00:00.000000000",
          "2025-07-06T00:00:00.000000000",
          "2025-07-20T00:00:00.000000000",
          "2025-08-03T00:00:00.000000000",
          "2025-08-17T00:00:00.000000000",
          "2025-08-31T00:00:00.000000000",
          "2025-09-14T00:00:00.000000000",
          "2025-09-28T00:00:00.000000000",
          "2025-10-12T00:00:00.000000000"
         ],
         "y": {
          "bdata": "nGlUWJLvO0A9dw/05Z5AQMafhJBDRz9ArGWeEz2xPUA+/sqUQFw+QIL1/Bbm1D5AoEIxUFGbPkBgHdLOtHc+QEUung3rij5AxBgeEFqVPkBoC/Yc/o4+QGSnLRz2iz5A",
          "dtype": "f8"
         }
        },
        {
         "fill": "toself",
         "fillcolor": "rgba(255,0,0,0.1)",
         "hoverinfo": "skip",
         "line": {
          "color": "rgba(255,255,255,0)"
         },
         "name": "Intervalo de Confianza",
         "showlegend": false,
         "type": "scatter",
         "x": [
          "2025-05-11T00:00:00",
          "2025-05-25T00:00:00",
          "2025-06-08T00:00:00",
          "2025-06-22T00:00:00",
          "2025-07-06T00:00:00",
          "2025-07-20T00:00:00",
          "2025-08-03T00:00:00",
          "2025-08-17T00:00:00",
          "2025-08-31T00:00:00",
          "2025-09-14T00:00:00",
          "2025-09-28T00:00:00",
          "2025-10-12T00:00:00",
          "2025-10-12T00:00:00",
          "2025-09-28T00:00:00",
          "2025-09-14T00:00:00",
          "2025-08-31T00:00:00",
          "2025-08-17T00:00:00",
          "2025-08-03T00:00:00",
          "2025-07-20T00:00:00",
          "2025-07-06T00:00:00",
          "2025-06-22T00:00:00",
          "2025-06-08T00:00:00",
          "2025-05-25T00:00:00",
          "2025-05-11T00:00:00"
         ],
         "y": [
          30.72940947787226,
          36.565531881625,
          34.40621217309649,
          32.661572026050855,
          33.39639647437549,
          33.914799480851485,
          33.66738044093044,
          33.51436292546015,
          33.59691403983133,
          33.64174605186712,
          33.614421454502505,
          33.60139650083595,
          27.492051682502144,
          27.502708462774777,
          27.525064951527646,
          27.488384214407453,
          27.420842393558303,
          27.546038542579446,
          27.748472302514852,
          27.324324388125405,
          26.723104384950698,
          28.150537232533495,
          29.917253357693177,
          25.14224411825912
         ]
        }
       ],
       "layout": {
        "legend": {
         "orientation": "h",
         "x": 0.5,
         "xanchor": "center",
         "y": 1.02,
         "yanchor": "bottom"
        },
        "template": {
         "data": {
          "bar": [
           {
            "error_x": {
             "color": "#2a3f5f"
            },
            "error_y": {
             "color": "#2a3f5f"
            },
            "marker": {
             "line": {
              "color": "white",
              "width": 0.5
             },
             "pattern": {
              "fillmode": "overlay",
              "size": 10,
              "solidity": 0.2
             }
            },
            "type": "bar"
           }
          ],
          "barpolar": [
           {
            "marker": {
             "line": {
              "color": "white",
              "width": 0.5
             },
             "pattern": {
              "fillmode": "overlay",
              "size": 10,
              "solidity": 0.2
             }
            },
            "type": "barpolar"
           }
          ],
          "carpet": [
           {
            "aaxis": {
             "endlinecolor": "#2a3f5f",
             "gridcolor": "#C8D4E3",
             "linecolor": "#C8D4E3",
             "minorgridcolor": "#C8D4E3",
             "startlinecolor": "#2a3f5f"
            },
            "baxis": {
             "endlinecolor": "#2a3f5f",
             "gridcolor": "#C8D4E3",
             "linecolor": "#C8D4E3",
             "minorgridcolor": "#C8D4E3",
             "startlinecolor": "#2a3f5f"
            },
            "type": "carpet"
           }
          ],
          "choropleth": [
           {
            "colorbar": {
             "outlinewidth": 0,
             "ticks": ""
            },
            "type": "choropleth"
           }
          ],
          "contour": [
           {
            "colorbar": {
             "outlinewidth": 0,
             "ticks": ""
            },
            "colorscale": [
             [
              0,
              "#0d0887"
             ],
             [
              0.1111111111111111,
              "#46039f"
             ],
             [
              0.2222222222222222,
              "#7201a8"
             ],
             [
              0.3333333333333333,
              "#9c179e"
             ],
             [
              0.4444444444444444,
              "#bd3786"
             ],
             [
              0.5555555555555556,
              "#d8576b"
             ],
             [
              0.6666666666666666,
              "#ed7953"
             ],
             [
              0.7777777777777778,
              "#fb9f3a"
             ],
             [
              0.8888888888888888,
              "#fdca26"
             ],
             [
              1,
              "#f0f921"
             ]
            ],
            "type": "contour"
           }
          ],
          "contourcarpet": [
           {
            "colorbar": {
             "outlinewidth": 0,
             "ticks": ""
            },
            "type": "contourcarpet"
           }
          ],
          "heatmap": [
           {
            "colorbar": {
             "outlinewidth": 0,
             "ticks": ""
            },
            "colorscale": [
             [
              0,
              "#0d0887"
             ],
             [
              0.1111111111111111,
              "#46039f"
             ],
             [
              0.2222222222222222,
              "#7201a8"
             ],
             [
              0.3333333333333333,
              "#9c179e"
             ],
             [
              0.4444444444444444,
              "#bd3786"
             ],
             [
              0.5555555555555556,
              "#d8576b"
             ],
             [
              0.6666666666666666,
              "#ed7953"
             ],
             [
              0.7777777777777778,
              "#fb9f3a"
             ],
             [
              0.8888888888888888,
              "#fdca26"
             ],
             [
              1,
              "#f0f921"
             ]
            ],
            "type": "heatmap"
           }
          ],
          "histogram": [
           {
            "marker": {
             "pattern": {
              "fillmode": "overlay",
              "size": 10,
              "solidity": 0.2
             }
            },
            "type": "histogram"
           }
          ],
          "histogram2d": [
           {
            "colorbar": {
             "outlinewidth": 0,
             "ticks": ""
            },
            "colorscale": [
             [
              0,
              "#0d0887"
             ],
             [
              0.1111111111111111,
              "#46039f"
             ],
             [
              0.2222222222222222,
              "#7201a8"
             ],
             [
              0.3333333333333333,
              "#9c179e"
             ],
             [
              0.4444444444444444,
              "#bd3786"
             ],
             [
              0.5555555555555556,
              "#d8576b"
             ],
             [
              0.6666666666666666,
              "#ed7953"
             ],
             [
              0.7777777777777778,
              "#fb9f3a"
             ],
             [
              0.8888888888888888,
              "#fdca26"
             ],
             [
              1,
              "#f0f921"
             ]
            ],
            "type": "histogram2d"
           }
          ],
          "histogram2dcontour": [
           {
            "colorbar": {
             "outlinewidth": 0,
             "ticks": ""
            },
            "colorscale": [
             [
              0,
              "#0d0887"
             ],
             [
              0.1111111111111111,
              "#46039f"
             ],
             [
              0.2222222222222222,
              "#7201a8"
             ],
             [
              0.3333333333333333,
              "#9c179e"
             ],
             [
              0.4444444444444444,
              "#bd3786"
             ],
             [
              0.5555555555555556,
              "#d8576b"
             ],
             [
              0.6666666666666666,
              "#ed7953"
             ],
             [
              0.7777777777777778,
              "#fb9f3a"
             ],
             [
              0.8888888888888888,
              "#fdca26"
             ],
             [
              1,
              "#f0f921"
             ]
            ],
            "type": "histogram2dcontour"
           }
          ],
          "mesh3d": [
           {
            "colorbar": {
             "outlinewidth": 0,
             "ticks": ""
            },
            "type": "mesh3d"
           }
          ],
          "parcoords": [
           {
            "line": {
             "colorbar": {
              "outlinewidth": 0,
              "ticks": ""
             }
            },
            "type": "parcoords"
           }
          ],
          "pie": [
           {
            "automargin": true,
            "type": "pie"
           }
          ],
          "scatter": [
           {
            "fillpattern": {
             "fillmode": "overlay",
             "size": 10,
             "solidity": 0.2
            },
            "type": "scatter"
           }
          ],
          "scatter3d": [
           {
            "line": {
             "colorbar": {
              "outlinewidth": 0,
              "ticks": ""
             }
            },
            "marker": {
             "colorbar": {
              "outlinewidth": 0,
              "ticks": ""
             }
            },
            "type": "scatter3d"
           }
          ],
          "scattercarpet": [
           {
            "marker": {
             "colorbar": {
              "outlinewidth": 0,
              "ticks": ""
             }
            },
            "type": "scattercarpet"
           }
          ],
          "scattergeo": [
           {
            "marker": {
             "colorbar": {
              "outlinewidth": 0,
              "ticks": ""
             }
            },
            "type": "scattergeo"
           }
          ],
          "scattergl": [
           {
            "marker": {
             "colorbar": {
              "outlinewidth": 0,
              "ticks": ""
             }
            },
            "type": "scattergl"
           }
          ],
          "scattermap": [
           {
            "marker": {
             "colorbar": {
              "outlinewidth": 0,
              "ticks": ""
             }
            },
            "type": "scattermap"
           }
          ],
          "scattermapbox": [
           {
            "marker": {
             "colorbar": {
              "outlinewidth": 0,
              "ticks": ""
             }
            },
            "type": "scattermapbox"
           }
          ],
          "scatterpolar": [
           {
            "marker": {
             "colorbar": {
              "outlinewidth": 0,
              "ticks": ""
             }
            },
            "type": "scatterpolar"
           }
          ],
          "scatterpolargl": [
           {
            "marker": {
             "colorbar": {
              "outlinewidth": 0,
              "ticks": ""
             }
            },
            "type": "scatterpolargl"
           }
          ],
          "scatterternary": [
           {
            "marker": {
             "colorbar": {
              "outlinewidth": 0,
              "ticks": ""
             }
            },
            "type": "scatterternary"
           }
          ],
          "surface": [
           {
            "colorbar": {
             "outlinewidth": 0,
             "ticks": ""
            },
            "colorscale": [
             [
              0,
              "#0d0887"
             ],
             [
              0.1111111111111111,
              "#46039f"
             ],
             [
              0.2222222222222222,
              "#7201a8"
             ],
             [
              0.3333333333333333,
              "#9c179e"
             ],
             [
              0.4444444444444444,
              "#bd3786"
             ],
             [
              0.5555555555555556,
              "#d8576b"
             ],
             [
              0.6666666666666666,
              "#ed7953"
             ],
             [
              0.7777777777777778,
              "#fb9f3a"
             ],
             [
              0.8888888888888888,
              "#fdca26"
             ],
             [
              1,
              "#f0f921"
             ]
            ],
            "type": "surface"
           }
          ],
          "table": [
           {
            "cells": {
             "fill": {
              "color": "#EBF0F8"
             },
             "line": {
              "color": "white"
             }
            },
            "header": {
             "fill": {
              "color": "#C8D4E3"
             },
             "line": {
              "color": "white"
             }
            },
            "type": "table"
           }
          ]
         },
         "layout": {
          "annotationdefaults": {
           "arrowcolor": "#2a3f5f",
           "arrowhead": 0,
           "arrowwidth": 1
          },
          "autotypenumbers": "strict",
          "coloraxis": {
           "colorbar": {
            "outlinewidth": 0,
            "ticks": ""
           }
          },
          "colorscale": {
           "diverging": [
            [
             0,
             "#8e0152"
            ],
            [
             0.1,
             "#c51b7d"
            ],
            [
             0.2,
             "#de77ae"
            ],
            [
             0.3,
             "#f1b6da"
            ],
            [
             0.4,
             "#fde0ef"
            ],
            [
             0.5,
             "#f7f7f7"
            ],
            [
             0.6,
             "#e6f5d0"
            ],
            [
             0.7,
             "#b8e186"
            ],
            [
             0.8,
             "#7fbc41"
            ],
            [
             0.9,
             "#4d9221"
            ],
            [
             1,
             "#276419"
            ]
           ],
           "sequential": [
            [
             0,
             "#0d0887"
            ],
            [
             0.1111111111111111,
             "#46039f"
            ],
            [
             0.2222222222222222,
             "#7201a8"
            ],
            [
             0.3333333333333333,
             "#9c179e"
            ],
            [
             0.4444444444444444,
             "#bd3786"
            ],
            [
             0.5555555555555556,
             "#d8576b"
            ],
            [
             0.6666666666666666,
             "#ed7953"
            ],
            [
             0.7777777777777778,
             "#fb9f3a"
            ],
            [
             0.8888888888888888,
             "#fdca26"
            ],
            [
             1,
             "#f0f921"
            ]
           ],
           "sequentialminus": [
            [
             0,
             "#0d0887"
            ],
            [
             0.1111111111111111,
             "#46039f"
            ],
            [
             0.2222222222222222,
             "#7201a8"
            ],
            [
             0.3333333333333333,
             "#9c179e"
            ],
            [
             0.4444444444444444,
             "#bd3786"
            ],
            [
             0.5555555555555556,
             "#d8576b"
            ],
            [
             0.6666666666666666,
             "#ed7953"
            ],
            [
             0.7777777777777778,
             "#fb9f3a"
            ],
            [
             0.8888888888888888,
             "#fdca26"
            ],
            [
             1,
             "#f0f921"
            ]
           ]
          },
          "colorway": [
           "#636efa",
           "#EF553B",
           "#00cc96",
           "#ab63fa",
           "#FFA15A",
           "#19d3f3",
           "#FF6692",
           "#B6E880",
           "#FF97FF",
           "#FECB52"
          ],
          "font": {
           "color": "#2a3f5f"
          },
          "geo": {
           "bgcolor": "white",
           "lakecolor": "white",
           "landcolor": "white",
           "showlakes": true,
           "showland": true,
           "subunitcolor": "#C8D4E3"
          },
          "hoverlabel": {
           "align": "left"
          },
          "hovermode": "closest",
          "mapbox": {
           "style": "light"
          },
          "paper_bgcolor": "white",
          "plot_bgcolor": "white",
          "polar": {
           "angularaxis": {
            "gridcolor": "#EBF0F8",
            "linecolor": "#EBF0F8",
            "ticks": ""
           },
           "bgcolor": "white",
           "radialaxis": {
            "gridcolor": "#EBF0F8",
            "linecolor": "#EBF0F8",
            "ticks": ""
           }
          },
          "scene": {
           "xaxis": {
            "backgroundcolor": "white",
            "gridcolor": "#DFE8F3",
            "gridwidth": 2,
            "linecolor": "#EBF0F8",
            "showbackground": true,
            "ticks": "",
            "zerolinecolor": "#EBF0F8"
           },
           "yaxis": {
            "backgroundcolor": "white",
            "gridcolor": "#DFE8F3",
            "gridwidth": 2,
            "linecolor": "#EBF0F8",
            "showbackground": true,
            "ticks": "",
            "zerolinecolor": "#EBF0F8"
           },
           "zaxis": {
            "backgroundcolor": "white",
            "gridcolor": "#DFE8F3",
            "gridwidth": 2,
            "linecolor": "#EBF0F8",
            "showbackground": true,
            "ticks": "",
            "zerolinecolor": "#EBF0F8"
           }
          },
          "shapedefaults": {
           "line": {
            "color": "#2a3f5f"
           }
          },
          "ternary": {
           "aaxis": {
            "gridcolor": "#DFE8F3",
            "linecolor": "#A2B1C6",
            "ticks": ""
           },
           "baxis": {
            "gridcolor": "#DFE8F3",
            "linecolor": "#A2B1C6",
            "ticks": ""
           },
           "bgcolor": "white",
           "caxis": {
            "gridcolor": "#DFE8F3",
            "linecolor": "#A2B1C6",
            "ticks": ""
           }
          },
          "title": {
           "x": 0.05
          },
          "xaxis": {
           "automargin": true,
           "gridcolor": "#EBF0F8",
           "linecolor": "#EBF0F8",
           "ticks": "",
           "title": {
            "standoff": 15
           },
           "zerolinecolor": "#EBF0F8",
           "zerolinewidth": 2
          },
          "yaxis": {
           "automargin": true,
           "gridcolor": "#EBF0F8",
           "linecolor": "#EBF0F8",
           "ticks": "",
           "title": {
            "standoff": 15
           },
           "zerolinecolor": "#EBF0F8",
           "zerolinewidth": 2
          }
         }
        },
        "title": {
         "text": "Pronóstico y Ajuste de Horas Extra para Finance con Modelo ARIMA"
        },
        "xaxis": {
         "title": {
          "text": "Fecha"
         }
        },
        "yaxis": {
         "title": {
          "text": "Horas Extra"
         }
        }
       }
      }
     },
     "metadata": {},
     "output_type": "display_data"
    },
    {
     "name": "stderr",
     "output_type": "stream",
     "text": [
      "2025-08-13 16:27:57,134 - INFO - Columnas disponibles en df_all_data para HR: ['department', 'ds', 'y']\n",
      "2025-08-13 16:27:57,148 - INFO - Rango de fechas en future_data para HR: 2025-05-11 00:00:00 a 2025-10-12 00:00:00\n",
      "2025-08-13 16:27:57,148 - INFO - Rango de fechas en future_data para HR: 2025-05-11 00:00:00 a 2025-10-12 00:00:00\n"
     ]
    },
    {
     "data": {
      "application/vnd.plotly.v1+json": {
       "config": {
        "plotlyServerURL": "https://plot.ly"
       },
       "data": [
        {
         "line": {
          "color": "blue"
         },
         "mode": "lines",
         "name": "Histórico Real",
         "type": "scatter",
         "x": [
          "2023-12-31T00:00:00.000000000",
          "2024-01-14T00:00:00.000000000",
          "2024-01-28T00:00:00.000000000",
          "2024-02-11T00:00:00.000000000",
          "2024-02-25T00:00:00.000000000",
          "2024-03-10T00:00:00.000000000",
          "2024-03-24T00:00:00.000000000",
          "2024-04-07T00:00:00.000000000",
          "2024-04-21T00:00:00.000000000",
          "2024-05-05T00:00:00.000000000",
          "2024-05-19T00:00:00.000000000",
          "2024-06-02T00:00:00.000000000",
          "2024-06-16T00:00:00.000000000",
          "2024-06-30T00:00:00.000000000",
          "2024-07-14T00:00:00.000000000",
          "2024-07-28T00:00:00.000000000",
          "2024-08-11T00:00:00.000000000",
          "2024-08-25T00:00:00.000000000",
          "2024-09-08T00:00:00.000000000",
          "2024-09-22T00:00:00.000000000",
          "2024-10-06T00:00:00.000000000",
          "2024-10-20T00:00:00.000000000",
          "2024-11-03T00:00:00.000000000",
          "2024-11-17T00:00:00.000000000",
          "2024-12-01T00:00:00.000000000",
          "2024-12-15T00:00:00.000000000",
          "2024-12-29T00:00:00.000000000",
          "2025-01-12T00:00:00.000000000",
          "2025-01-26T00:00:00.000000000",
          "2025-02-09T00:00:00.000000000",
          "2025-02-23T00:00:00.000000000",
          "2025-03-09T00:00:00.000000000",
          "2025-03-23T00:00:00.000000000",
          "2025-04-06T00:00:00.000000000",
          "2025-04-20T00:00:00.000000000",
          "2025-05-04T00:00:00.000000000"
         ],
         "y": {
          "bdata": "AAAAAAAA+H/C9Shcj6JGQAAAAAAAQEZAcD0K16PQQkAfhetRuH5EQD4K16Nw3UtAwvUoXI/iQ0AAAAAAAGBDQOF6FK5HAUZAKlyPwvWoTkBSuB6F61FGQDMzMzMzI0ZAFK5H4Xr0RUD2KFyPwsVFQNejcD0Kl0VAPgrXo3CdRUAK16NwPepCQOJ6FK5HQUNAAAAAAACASEAK16NwPWpBQOJ6FK5HQURAj8L1KFxvS0BmZmZmZlZQQJqZmZmZ+U5AcT0K16PwTEBI4XoUrudKQB+F61G43khA9ihcj8LVRkC4HoXrUXhJQDMzMzMz00dArkfhehTuOkDC9Shcj8JHQPYoXI/CVU1ApHA9CtcDSUDiehSuR6FGQOxRuB6FKzhA",
          "dtype": "f8"
         }
        },
        {
         "line": {
          "color": "orange",
          "dash": "dash"
         },
         "mode": "lines",
         "name": "Predicción Histórica",
         "type": "scatter",
         "x": [
          "2023-12-31T00:00:00.000000000",
          "2024-01-14T00:00:00.000000000",
          "2024-01-28T00:00:00.000000000",
          "2024-02-11T00:00:00.000000000",
          "2024-02-25T00:00:00.000000000",
          "2024-03-10T00:00:00.000000000",
          "2024-03-24T00:00:00.000000000",
          "2024-04-07T00:00:00.000000000",
          "2024-04-21T00:00:00.000000000",
          "2024-05-05T00:00:00.000000000",
          "2024-05-19T00:00:00.000000000",
          "2024-06-02T00:00:00.000000000",
          "2024-06-16T00:00:00.000000000",
          "2024-06-30T00:00:00.000000000",
          "2024-07-14T00:00:00.000000000",
          "2024-07-28T00:00:00.000000000",
          "2024-08-11T00:00:00.000000000",
          "2024-08-25T00:00:00.000000000",
          "2024-09-08T00:00:00.000000000",
          "2024-09-22T00:00:00.000000000",
          "2024-10-06T00:00:00.000000000",
          "2024-10-20T00:00:00.000000000",
          "2024-11-03T00:00:00.000000000",
          "2024-11-17T00:00:00.000000000",
          "2024-12-01T00:00:00.000000000",
          "2024-12-15T00:00:00.000000000",
          "2024-12-29T00:00:00.000000000",
          "2025-01-12T00:00:00.000000000",
          "2025-01-26T00:00:00.000000000",
          "2025-02-09T00:00:00.000000000",
          "2025-02-23T00:00:00.000000000",
          "2025-03-09T00:00:00.000000000",
          "2025-03-23T00:00:00.000000000",
          "2025-04-06T00:00:00.000000000",
          "2025-04-20T00:00:00.000000000",
          "2025-05-04T00:00:00.000000000"
         ],
         "y": {
          "bdata": "ek8LGKvlRkDYvQ/+FfJGQNukVpILw0ZAKMWd8w6rRkCh9uLgIipFQKDgopGCmEZAS2cM9PtESUAO1lDTC3lEQEFOHP4gZ0ZA79QOts+3RkA4C9qAFXlKQNsal9L7BkVAixKQqqJlR0CNRsEzdT9GQGYnVdzfrkZAKPBTlqxnRkAOZL4DnYpGQDzXvyusQ0VAmqEewxD+RUADeOxFsgZIQMOiTc+l60NADBV8UDkMR0B/9jHsWt9IQOjikzQCaUpA/BSTOdLzSEBOF8CKSbFIQBQb+Ryv5EdAajdR8T5WR0ACsXlz0atGQL8SaRxFKEhAoUfAsF2/RkDeSWETvbdCQCncjs3aKklAOgTJmQnGSEBvY6affgFHQJcdLiBZukZA",
          "dtype": "f8"
         }
        },
        {
         "line": {
          "color": "red",
          "dash": "dot"
         },
         "mode": "lines",
         "name": "Pronóstico Futuro",
         "type": "scatter",
         "x": [
          "2025-05-11T00:00:00.000000000",
          "2025-05-25T00:00:00.000000000",
          "2025-06-08T00:00:00.000000000",
          "2025-06-22T00:00:00.000000000",
          "2025-07-06T00:00:00.000000000",
          "2025-07-20T00:00:00.000000000",
          "2025-08-03T00:00:00.000000000",
          "2025-08-17T00:00:00.000000000",
          "2025-08-31T00:00:00.000000000",
          "2025-09-14T00:00:00.000000000",
          "2025-09-28T00:00:00.000000000",
          "2025-10-12T00:00:00.000000000"
         ],
         "y": {
          "bdata": "fB3zZe8aQkB6TwsYq+VGQHpPCxir5UZAek8LGKvlRkB6TwsYq+VGQHpPCxir5UZAek8LGKvlRkB6TwsYq+VGQHpPCxir5UZAek8LGKvlRkB6TwsYq+VGQHpPCxir5UZA",
          "dtype": "f8"
         }
        },
        {
         "fill": "toself",
         "fillcolor": "rgba(255,0,0,0.1)",
         "hoverinfo": "skip",
         "line": {
          "color": "rgba(255,255,255,0)"
         },
         "name": "Intervalo de Confianza",
         "showlegend": false,
         "type": "scatter",
         "x": [
          "2025-05-11T00:00:00",
          "2025-05-25T00:00:00",
          "2025-06-08T00:00:00",
          "2025-06-22T00:00:00",
          "2025-07-06T00:00:00",
          "2025-07-20T00:00:00",
          "2025-08-03T00:00:00",
          "2025-08-17T00:00:00",
          "2025-08-31T00:00:00",
          "2025-09-14T00:00:00",
          "2025-09-28T00:00:00",
          "2025-10-12T00:00:00",
          "2025-10-12T00:00:00",
          "2025-09-28T00:00:00",
          "2025-09-14T00:00:00",
          "2025-08-31T00:00:00",
          "2025-08-17T00:00:00",
          "2025-08-03T00:00:00",
          "2025-07-20T00:00:00",
          "2025-07-06T00:00:00",
          "2025-06-22T00:00:00",
          "2025-06-08T00:00:00",
          "2025-05-25T00:00:00",
          "2025-05-11T00:00:00"
         ],
         "y": [
          39.83147393997139,
          50.37371225936408,
          50.37371225936408,
          50.37371225936408,
          50.37371225936408,
          50.37371225936408,
          50.37371225936408,
          50.37371225936408,
          50.37371225936408,
          50.37371225936408,
          50.37371225936408,
          50.37371225936408,
          41.21485548493425,
          41.21485548493425,
          41.21485548493425,
          41.21485548493425,
          41.21485548493425,
          41.21485548493425,
          41.21485548493425,
          41.21485548493425,
          41.21485548493425,
          41.21485548493425,
          41.21485548493425,
          32.5893877690675
         ]
        }
       ],
       "layout": {
        "legend": {
         "orientation": "h",
         "x": 0.5,
         "xanchor": "center",
         "y": 1.02,
         "yanchor": "bottom"
        },
        "template": {
         "data": {
          "bar": [
           {
            "error_x": {
             "color": "#2a3f5f"
            },
            "error_y": {
             "color": "#2a3f5f"
            },
            "marker": {
             "line": {
              "color": "white",
              "width": 0.5
             },
             "pattern": {
              "fillmode": "overlay",
              "size": 10,
              "solidity": 0.2
             }
            },
            "type": "bar"
           }
          ],
          "barpolar": [
           {
            "marker": {
             "line": {
              "color": "white",
              "width": 0.5
             },
             "pattern": {
              "fillmode": "overlay",
              "size": 10,
              "solidity": 0.2
             }
            },
            "type": "barpolar"
           }
          ],
          "carpet": [
           {
            "aaxis": {
             "endlinecolor": "#2a3f5f",
             "gridcolor": "#C8D4E3",
             "linecolor": "#C8D4E3",
             "minorgridcolor": "#C8D4E3",
             "startlinecolor": "#2a3f5f"
            },
            "baxis": {
             "endlinecolor": "#2a3f5f",
             "gridcolor": "#C8D4E3",
             "linecolor": "#C8D4E3",
             "minorgridcolor": "#C8D4E3",
             "startlinecolor": "#2a3f5f"
            },
            "type": "carpet"
           }
          ],
          "choropleth": [
           {
            "colorbar": {
             "outlinewidth": 0,
             "ticks": ""
            },
            "type": "choropleth"
           }
          ],
          "contour": [
           {
            "colorbar": {
             "outlinewidth": 0,
             "ticks": ""
            },
            "colorscale": [
             [
              0,
              "#0d0887"
             ],
             [
              0.1111111111111111,
              "#46039f"
             ],
             [
              0.2222222222222222,
              "#7201a8"
             ],
             [
              0.3333333333333333,
              "#9c179e"
             ],
             [
              0.4444444444444444,
              "#bd3786"
             ],
             [
              0.5555555555555556,
              "#d8576b"
             ],
             [
              0.6666666666666666,
              "#ed7953"
             ],
             [
              0.7777777777777778,
              "#fb9f3a"
             ],
             [
              0.8888888888888888,
              "#fdca26"
             ],
             [
              1,
              "#f0f921"
             ]
            ],
            "type": "contour"
           }
          ],
          "contourcarpet": [
           {
            "colorbar": {
             "outlinewidth": 0,
             "ticks": ""
            },
            "type": "contourcarpet"
           }
          ],
          "heatmap": [
           {
            "colorbar": {
             "outlinewidth": 0,
             "ticks": ""
            },
            "colorscale": [
             [
              0,
              "#0d0887"
             ],
             [
              0.1111111111111111,
              "#46039f"
             ],
             [
              0.2222222222222222,
              "#7201a8"
             ],
             [
              0.3333333333333333,
              "#9c179e"
             ],
             [
              0.4444444444444444,
              "#bd3786"
             ],
             [
              0.5555555555555556,
              "#d8576b"
             ],
             [
              0.6666666666666666,
              "#ed7953"
             ],
             [
              0.7777777777777778,
              "#fb9f3a"
             ],
             [
              0.8888888888888888,
              "#fdca26"
             ],
             [
              1,
              "#f0f921"
             ]
            ],
            "type": "heatmap"
           }
          ],
          "histogram": [
           {
            "marker": {
             "pattern": {
              "fillmode": "overlay",
              "size": 10,
              "solidity": 0.2
             }
            },
            "type": "histogram"
           }
          ],
          "histogram2d": [
           {
            "colorbar": {
             "outlinewidth": 0,
             "ticks": ""
            },
            "colorscale": [
             [
              0,
              "#0d0887"
             ],
             [
              0.1111111111111111,
              "#46039f"
             ],
             [
              0.2222222222222222,
              "#7201a8"
             ],
             [
              0.3333333333333333,
              "#9c179e"
             ],
             [
              0.4444444444444444,
              "#bd3786"
             ],
             [
              0.5555555555555556,
              "#d8576b"
             ],
             [
              0.6666666666666666,
              "#ed7953"
             ],
             [
              0.7777777777777778,
              "#fb9f3a"
             ],
             [
              0.8888888888888888,
              "#fdca26"
             ],
             [
              1,
              "#f0f921"
             ]
            ],
            "type": "histogram2d"
           }
          ],
          "histogram2dcontour": [
           {
            "colorbar": {
             "outlinewidth": 0,
             "ticks": ""
            },
            "colorscale": [
             [
              0,
              "#0d0887"
             ],
             [
              0.1111111111111111,
              "#46039f"
             ],
             [
              0.2222222222222222,
              "#7201a8"
             ],
             [
              0.3333333333333333,
              "#9c179e"
             ],
             [
              0.4444444444444444,
              "#bd3786"
             ],
             [
              0.5555555555555556,
              "#d8576b"
             ],
             [
              0.6666666666666666,
              "#ed7953"
             ],
             [
              0.7777777777777778,
              "#fb9f3a"
             ],
             [
              0.8888888888888888,
              "#fdca26"
             ],
             [
              1,
              "#f0f921"
             ]
            ],
            "type": "histogram2dcontour"
           }
          ],
          "mesh3d": [
           {
            "colorbar": {
             "outlinewidth": 0,
             "ticks": ""
            },
            "type": "mesh3d"
           }
          ],
          "parcoords": [
           {
            "line": {
             "colorbar": {
              "outlinewidth": 0,
              "ticks": ""
             }
            },
            "type": "parcoords"
           }
          ],
          "pie": [
           {
            "automargin": true,
            "type": "pie"
           }
          ],
          "scatter": [
           {
            "fillpattern": {
             "fillmode": "overlay",
             "size": 10,
             "solidity": 0.2
            },
            "type": "scatter"
           }
          ],
          "scatter3d": [
           {
            "line": {
             "colorbar": {
              "outlinewidth": 0,
              "ticks": ""
             }
            },
            "marker": {
             "colorbar": {
              "outlinewidth": 0,
              "ticks": ""
             }
            },
            "type": "scatter3d"
           }
          ],
          "scattercarpet": [
           {
            "marker": {
             "colorbar": {
              "outlinewidth": 0,
              "ticks": ""
             }
            },
            "type": "scattercarpet"
           }
          ],
          "scattergeo": [
           {
            "marker": {
             "colorbar": {
              "outlinewidth": 0,
              "ticks": ""
             }
            },
            "type": "scattergeo"
           }
          ],
          "scattergl": [
           {
            "marker": {
             "colorbar": {
              "outlinewidth": 0,
              "ticks": ""
             }
            },
            "type": "scattergl"
           }
          ],
          "scattermap": [
           {
            "marker": {
             "colorbar": {
              "outlinewidth": 0,
              "ticks": ""
             }
            },
            "type": "scattermap"
           }
          ],
          "scattermapbox": [
           {
            "marker": {
             "colorbar": {
              "outlinewidth": 0,
              "ticks": ""
             }
            },
            "type": "scattermapbox"
           }
          ],
          "scatterpolar": [
           {
            "marker": {
             "colorbar": {
              "outlinewidth": 0,
              "ticks": ""
             }
            },
            "type": "scatterpolar"
           }
          ],
          "scatterpolargl": [
           {
            "marker": {
             "colorbar": {
              "outlinewidth": 0,
              "ticks": ""
             }
            },
            "type": "scatterpolargl"
           }
          ],
          "scatterternary": [
           {
            "marker": {
             "colorbar": {
              "outlinewidth": 0,
              "ticks": ""
             }
            },
            "type": "scatterternary"
           }
          ],
          "surface": [
           {
            "colorbar": {
             "outlinewidth": 0,
             "ticks": ""
            },
            "colorscale": [
             [
              0,
              "#0d0887"
             ],
             [
              0.1111111111111111,
              "#46039f"
             ],
             [
              0.2222222222222222,
              "#7201a8"
             ],
             [
              0.3333333333333333,
              "#9c179e"
             ],
             [
              0.4444444444444444,
              "#bd3786"
             ],
             [
              0.5555555555555556,
              "#d8576b"
             ],
             [
              0.6666666666666666,
              "#ed7953"
             ],
             [
              0.7777777777777778,
              "#fb9f3a"
             ],
             [
              0.8888888888888888,
              "#fdca26"
             ],
             [
              1,
              "#f0f921"
             ]
            ],
            "type": "surface"
           }
          ],
          "table": [
           {
            "cells": {
             "fill": {
              "color": "#EBF0F8"
             },
             "line": {
              "color": "white"
             }
            },
            "header": {
             "fill": {
              "color": "#C8D4E3"
             },
             "line": {
              "color": "white"
             }
            },
            "type": "table"
           }
          ]
         },
         "layout": {
          "annotationdefaults": {
           "arrowcolor": "#2a3f5f",
           "arrowhead": 0,
           "arrowwidth": 1
          },
          "autotypenumbers": "strict",
          "coloraxis": {
           "colorbar": {
            "outlinewidth": 0,
            "ticks": ""
           }
          },
          "colorscale": {
           "diverging": [
            [
             0,
             "#8e0152"
            ],
            [
             0.1,
             "#c51b7d"
            ],
            [
             0.2,
             "#de77ae"
            ],
            [
             0.3,
             "#f1b6da"
            ],
            [
             0.4,
             "#fde0ef"
            ],
            [
             0.5,
             "#f7f7f7"
            ],
            [
             0.6,
             "#e6f5d0"
            ],
            [
             0.7,
             "#b8e186"
            ],
            [
             0.8,
             "#7fbc41"
            ],
            [
             0.9,
             "#4d9221"
            ],
            [
             1,
             "#276419"
            ]
           ],
           "sequential": [
            [
             0,
             "#0d0887"
            ],
            [
             0.1111111111111111,
             "#46039f"
            ],
            [
             0.2222222222222222,
             "#7201a8"
            ],
            [
             0.3333333333333333,
             "#9c179e"
            ],
            [
             0.4444444444444444,
             "#bd3786"
            ],
            [
             0.5555555555555556,
             "#d8576b"
            ],
            [
             0.6666666666666666,
             "#ed7953"
            ],
            [
             0.7777777777777778,
             "#fb9f3a"
            ],
            [
             0.8888888888888888,
             "#fdca26"
            ],
            [
             1,
             "#f0f921"
            ]
           ],
           "sequentialminus": [
            [
             0,
             "#0d0887"
            ],
            [
             0.1111111111111111,
             "#46039f"
            ],
            [
             0.2222222222222222,
             "#7201a8"
            ],
            [
             0.3333333333333333,
             "#9c179e"
            ],
            [
             0.4444444444444444,
             "#bd3786"
            ],
            [
             0.5555555555555556,
             "#d8576b"
            ],
            [
             0.6666666666666666,
             "#ed7953"
            ],
            [
             0.7777777777777778,
             "#fb9f3a"
            ],
            [
             0.8888888888888888,
             "#fdca26"
            ],
            [
             1,
             "#f0f921"
            ]
           ]
          },
          "colorway": [
           "#636efa",
           "#EF553B",
           "#00cc96",
           "#ab63fa",
           "#FFA15A",
           "#19d3f3",
           "#FF6692",
           "#B6E880",
           "#FF97FF",
           "#FECB52"
          ],
          "font": {
           "color": "#2a3f5f"
          },
          "geo": {
           "bgcolor": "white",
           "lakecolor": "white",
           "landcolor": "white",
           "showlakes": true,
           "showland": true,
           "subunitcolor": "#C8D4E3"
          },
          "hoverlabel": {
           "align": "left"
          },
          "hovermode": "closest",
          "mapbox": {
           "style": "light"
          },
          "paper_bgcolor": "white",
          "plot_bgcolor": "white",
          "polar": {
           "angularaxis": {
            "gridcolor": "#EBF0F8",
            "linecolor": "#EBF0F8",
            "ticks": ""
           },
           "bgcolor": "white",
           "radialaxis": {
            "gridcolor": "#EBF0F8",
            "linecolor": "#EBF0F8",
            "ticks": ""
           }
          },
          "scene": {
           "xaxis": {
            "backgroundcolor": "white",
            "gridcolor": "#DFE8F3",
            "gridwidth": 2,
            "linecolor": "#EBF0F8",
            "showbackground": true,
            "ticks": "",
            "zerolinecolor": "#EBF0F8"
           },
           "yaxis": {
            "backgroundcolor": "white",
            "gridcolor": "#DFE8F3",
            "gridwidth": 2,
            "linecolor": "#EBF0F8",
            "showbackground": true,
            "ticks": "",
            "zerolinecolor": "#EBF0F8"
           },
           "zaxis": {
            "backgroundcolor": "white",
            "gridcolor": "#DFE8F3",
            "gridwidth": 2,
            "linecolor": "#EBF0F8",
            "showbackground": true,
            "ticks": "",
            "zerolinecolor": "#EBF0F8"
           }
          },
          "shapedefaults": {
           "line": {
            "color": "#2a3f5f"
           }
          },
          "ternary": {
           "aaxis": {
            "gridcolor": "#DFE8F3",
            "linecolor": "#A2B1C6",
            "ticks": ""
           },
           "baxis": {
            "gridcolor": "#DFE8F3",
            "linecolor": "#A2B1C6",
            "ticks": ""
           },
           "bgcolor": "white",
           "caxis": {
            "gridcolor": "#DFE8F3",
            "linecolor": "#A2B1C6",
            "ticks": ""
           }
          },
          "title": {
           "x": 0.05
          },
          "xaxis": {
           "automargin": true,
           "gridcolor": "#EBF0F8",
           "linecolor": "#EBF0F8",
           "ticks": "",
           "title": {
            "standoff": 15
           },
           "zerolinecolor": "#EBF0F8",
           "zerolinewidth": 2
          },
          "yaxis": {
           "automargin": true,
           "gridcolor": "#EBF0F8",
           "linecolor": "#EBF0F8",
           "ticks": "",
           "title": {
            "standoff": 15
           },
           "zerolinecolor": "#EBF0F8",
           "zerolinewidth": 2
          }
         }
        },
        "title": {
         "text": "Pronóstico y Ajuste de Horas Extra para HR con Modelo ARIMA"
        },
        "xaxis": {
         "title": {
          "text": "Fecha"
         }
        },
        "yaxis": {
         "title": {
          "text": "Horas Extra"
         }
        }
       }
      }
     },
     "metadata": {},
     "output_type": "display_data"
    },
    {
     "name": "stderr",
     "output_type": "stream",
     "text": [
      "2025-08-13 16:27:57,522 - INFO - Columnas disponibles en df_all_data para IT: ['department', 'ds', 'y']\n",
      "2025-08-13 16:27:57,538 - INFO - Rango de fechas en future_data para IT: 2025-05-11 00:00:00 a 2025-10-12 00:00:00\n",
      "2025-08-13 16:27:57,538 - INFO - Rango de fechas en future_data para IT: 2025-05-11 00:00:00 a 2025-10-12 00:00:00\n"
     ]
    },
    {
     "data": {
      "application/vnd.plotly.v1+json": {
       "config": {
        "plotlyServerURL": "https://plot.ly"
       },
       "data": [
        {
         "line": {
          "color": "blue"
         },
         "mode": "lines",
         "name": "Histórico Real",
         "type": "scatter",
         "x": [
          "2023-12-31T00:00:00.000000000",
          "2024-01-14T00:00:00.000000000",
          "2024-01-28T00:00:00.000000000",
          "2024-02-11T00:00:00.000000000",
          "2024-02-25T00:00:00.000000000",
          "2024-03-10T00:00:00.000000000",
          "2024-03-24T00:00:00.000000000",
          "2024-04-07T00:00:00.000000000",
          "2024-04-21T00:00:00.000000000",
          "2024-05-05T00:00:00.000000000",
          "2024-05-19T00:00:00.000000000",
          "2024-06-02T00:00:00.000000000",
          "2024-06-16T00:00:00.000000000",
          "2024-06-30T00:00:00.000000000",
          "2024-07-14T00:00:00.000000000",
          "2024-07-28T00:00:00.000000000",
          "2024-08-11T00:00:00.000000000",
          "2024-08-25T00:00:00.000000000",
          "2024-09-08T00:00:00.000000000",
          "2024-09-22T00:00:00.000000000",
          "2024-10-06T00:00:00.000000000",
          "2024-10-20T00:00:00.000000000",
          "2024-11-03T00:00:00.000000000",
          "2024-11-17T00:00:00.000000000",
          "2024-12-01T00:00:00.000000000",
          "2024-12-15T00:00:00.000000000",
          "2024-12-29T00:00:00.000000000",
          "2025-01-12T00:00:00.000000000",
          "2025-01-26T00:00:00.000000000",
          "2025-02-09T00:00:00.000000000",
          "2025-02-23T00:00:00.000000000",
          "2025-03-09T00:00:00.000000000",
          "2025-03-23T00:00:00.000000000",
          "2025-04-06T00:00:00.000000000",
          "2025-04-20T00:00:00.000000000",
          "2025-05-04T00:00:00.000000000"
         ],
         "y": {
          "bdata": "AAAAAAAA+H8ehetRuB5WQOxRuB6Fa1lAHoXrUbjeU0BmZmZmZhZVQOF6FK5H8VtAkML1KFwPVkBwPQrXo7BZQK5H4XoUTllAzMzMzMzcVkBcj8L1KMxXQPYoXI/CKVhAj8L1KFyHWEAoXI/C9eRYQML1KFyPQllAexSuR+G6VEC4HoXrUWhaQKRwPQrXo1dAXI/C9SjMUkCkcD0K12NSQAAAAAAAIFJAZmZmZmbGWkBSuB6F6yFdQML1KFyPElpAAAAAAAA8W0A9CtejcGVcQHoUrkfhjl1AuB6F61G4XkCkcD0K11NbQArXo3A9qmFAZmZmZmbmWEDsUbgehftfQClcj8L1mFtArkfhehR+UkB6FK5H4TpWQHoUrkfhOlZA",
          "dtype": "f8"
         }
        },
        {
         "line": {
          "color": "orange",
          "dash": "dash"
         },
         "mode": "lines",
         "name": "Predicción Histórica",
         "type": "scatter",
         "x": [
          "2023-12-31T00:00:00.000000000",
          "2024-01-14T00:00:00.000000000",
          "2024-01-28T00:00:00.000000000",
          "2024-02-11T00:00:00.000000000",
          "2024-02-25T00:00:00.000000000",
          "2024-03-10T00:00:00.000000000",
          "2024-03-24T00:00:00.000000000",
          "2024-04-07T00:00:00.000000000",
          "2024-04-21T00:00:00.000000000",
          "2024-05-05T00:00:00.000000000",
          "2024-05-19T00:00:00.000000000",
          "2024-06-02T00:00:00.000000000",
          "2024-06-16T00:00:00.000000000",
          "2024-06-30T00:00:00.000000000",
          "2024-07-14T00:00:00.000000000",
          "2024-07-28T00:00:00.000000000",
          "2024-08-11T00:00:00.000000000",
          "2024-08-25T00:00:00.000000000",
          "2024-09-08T00:00:00.000000000",
          "2024-09-22T00:00:00.000000000",
          "2024-10-06T00:00:00.000000000",
          "2024-10-20T00:00:00.000000000",
          "2024-11-03T00:00:00.000000000",
          "2024-11-17T00:00:00.000000000",
          "2024-12-01T00:00:00.000000000",
          "2024-12-15T00:00:00.000000000",
          "2024-12-29T00:00:00.000000000",
          "2025-01-12T00:00:00.000000000",
          "2025-01-26T00:00:00.000000000",
          "2025-02-09T00:00:00.000000000",
          "2025-02-23T00:00:00.000000000",
          "2025-03-09T00:00:00.000000000",
          "2025-03-23T00:00:00.000000000",
          "2025-04-06T00:00:00.000000000",
          "2025-04-20T00:00:00.000000000",
          "2025-05-04T00:00:00.000000000"
         ],
         "y": {
          "bdata": "nloxaNfHWEBUh64UjsxYQMY+kxC5zFdAJFAj5S8EWUAIkF9oXPhWQGh3SbpFa1dAGidUt0TyWUBf4S5XD8dXQHj0ZqerHVlAHJ3NQVX5WECuQs1mzRJYQETy0+8Ma1hAd4uPMY+NWECpJEtzEbBYQNu9BrWT0lhADlfC9hX1WEDcyqjJh0lXQHTRYfBjYVlAFH0saS9cWEBkin2WIpNWQAGQXousbFZAdfONmKlTVkCSjeh/E4RZQKtjRZSVYlpA78dGpcVBWUC2+FDzbq9ZQH4pW0EYHVpARVplj8GKWkAMi2/davhaQLBpDws5uFlAyZO5AYarXECdJmieG9NYQHu4ZHqTb1tABA5TzbTRWUCSrxQoWXZWQAbqdeQa11dA",
          "dtype": "f8"
         }
        },
        {
         "line": {
          "color": "red",
          "dash": "dot"
         },
         "mode": "lines",
         "name": "Pronóstico Futuro",
         "type": "scatter",
         "x": [
          "2025-05-11T00:00:00.000000000",
          "2025-05-25T00:00:00.000000000",
          "2025-06-08T00:00:00.000000000",
          "2025-06-22T00:00:00.000000000",
          "2025-07-06T00:00:00.000000000",
          "2025-07-20T00:00:00.000000000",
          "2025-08-03T00:00:00.000000000",
          "2025-08-17T00:00:00.000000000",
          "2025-08-31T00:00:00.000000000",
          "2025-09-14T00:00:00.000000000",
          "2025-09-28T00:00:00.000000000",
          "2025-10-12T00:00:00.000000000"
         ],
         "y": {
          "bdata": "Bup15BrXV0DCvdr2FW9YQGJSVGAep1hAWIIw7sa7WECDxz68ZMNYQIb82JgzxlhASDs8oTzHWEDMYdhXnsdYQJtxVF7Cx1hAlv6Cps/HWEB9pRqM1MdYQFKQSFrWx1hA",
          "dtype": "f8"
         }
        },
        {
         "fill": "toself",
         "fillcolor": "rgba(255,0,0,0.1)",
         "hoverinfo": "skip",
         "line": {
          "color": "rgba(255,255,255,0)"
         },
         "name": "Intervalo de Confianza",
         "showlegend": false,
         "type": "scatter",
         "x": [
          "2025-05-11T00:00:00",
          "2025-05-25T00:00:00",
          "2025-06-08T00:00:00",
          "2025-06-22T00:00:00",
          "2025-07-06T00:00:00",
          "2025-07-20T00:00:00",
          "2025-08-03T00:00:00",
          "2025-08-17T00:00:00",
          "2025-08-31T00:00:00",
          "2025-09-14T00:00:00",
          "2025-09-28T00:00:00",
          "2025-10-12T00:00:00",
          "2025-10-12T00:00:00",
          "2025-09-28T00:00:00",
          "2025-09-14T00:00:00",
          "2025-08-31T00:00:00",
          "2025-08-17T00:00:00",
          "2025-08-03T00:00:00",
          "2025-07-20T00:00:00",
          "2025-07-06T00:00:00",
          "2025-06-22T00:00:00",
          "2025-06-08T00:00:00",
          "2025-05-25T00:00:00",
          "2025-05-11T00:00:00"
         ],
         "y": [
          104.89711802164611,
          107.5092871522674,
          108.47235192354209,
          108.8274184247107,
          108.95832573646426,
          109.00658915814483,
          109.02438310594738,
          109.03094344848788,
          109.03336214133365,
          109.0342538745086,
          109.03458264219675,
          109.03470385355887,
          89.21021224382089,
          89.21011307088826,
          89.2098440791434,
          89.209114479273,
          89.2071355487628,
          89.20176799577513,
          89.18720931120941,
          89.14772105710712,
          89.0406150747633,
          88.7501061192617,
          87.96214403367333,
          85.82491474498319
         ]
        }
       ],
       "layout": {
        "legend": {
         "orientation": "h",
         "x": 0.5,
         "xanchor": "center",
         "y": 1.02,
         "yanchor": "bottom"
        },
        "template": {
         "data": {
          "bar": [
           {
            "error_x": {
             "color": "#2a3f5f"
            },
            "error_y": {
             "color": "#2a3f5f"
            },
            "marker": {
             "line": {
              "color": "white",
              "width": 0.5
             },
             "pattern": {
              "fillmode": "overlay",
              "size": 10,
              "solidity": 0.2
             }
            },
            "type": "bar"
           }
          ],
          "barpolar": [
           {
            "marker": {
             "line": {
              "color": "white",
              "width": 0.5
             },
             "pattern": {
              "fillmode": "overlay",
              "size": 10,
              "solidity": 0.2
             }
            },
            "type": "barpolar"
           }
          ],
          "carpet": [
           {
            "aaxis": {
             "endlinecolor": "#2a3f5f",
             "gridcolor": "#C8D4E3",
             "linecolor": "#C8D4E3",
             "minorgridcolor": "#C8D4E3",
             "startlinecolor": "#2a3f5f"
            },
            "baxis": {
             "endlinecolor": "#2a3f5f",
             "gridcolor": "#C8D4E3",
             "linecolor": "#C8D4E3",
             "minorgridcolor": "#C8D4E3",
             "startlinecolor": "#2a3f5f"
            },
            "type": "carpet"
           }
          ],
          "choropleth": [
           {
            "colorbar": {
             "outlinewidth": 0,
             "ticks": ""
            },
            "type": "choropleth"
           }
          ],
          "contour": [
           {
            "colorbar": {
             "outlinewidth": 0,
             "ticks": ""
            },
            "colorscale": [
             [
              0,
              "#0d0887"
             ],
             [
              0.1111111111111111,
              "#46039f"
             ],
             [
              0.2222222222222222,
              "#7201a8"
             ],
             [
              0.3333333333333333,
              "#9c179e"
             ],
             [
              0.4444444444444444,
              "#bd3786"
             ],
             [
              0.5555555555555556,
              "#d8576b"
             ],
             [
              0.6666666666666666,
              "#ed7953"
             ],
             [
              0.7777777777777778,
              "#fb9f3a"
             ],
             [
              0.8888888888888888,
              "#fdca26"
             ],
             [
              1,
              "#f0f921"
             ]
            ],
            "type": "contour"
           }
          ],
          "contourcarpet": [
           {
            "colorbar": {
             "outlinewidth": 0,
             "ticks": ""
            },
            "type": "contourcarpet"
           }
          ],
          "heatmap": [
           {
            "colorbar": {
             "outlinewidth": 0,
             "ticks": ""
            },
            "colorscale": [
             [
              0,
              "#0d0887"
             ],
             [
              0.1111111111111111,
              "#46039f"
             ],
             [
              0.2222222222222222,
              "#7201a8"
             ],
             [
              0.3333333333333333,
              "#9c179e"
             ],
             [
              0.4444444444444444,
              "#bd3786"
             ],
             [
              0.5555555555555556,
              "#d8576b"
             ],
             [
              0.6666666666666666,
              "#ed7953"
             ],
             [
              0.7777777777777778,
              "#fb9f3a"
             ],
             [
              0.8888888888888888,
              "#fdca26"
             ],
             [
              1,
              "#f0f921"
             ]
            ],
            "type": "heatmap"
           }
          ],
          "histogram": [
           {
            "marker": {
             "pattern": {
              "fillmode": "overlay",
              "size": 10,
              "solidity": 0.2
             }
            },
            "type": "histogram"
           }
          ],
          "histogram2d": [
           {
            "colorbar": {
             "outlinewidth": 0,
             "ticks": ""
            },
            "colorscale": [
             [
              0,
              "#0d0887"
             ],
             [
              0.1111111111111111,
              "#46039f"
             ],
             [
              0.2222222222222222,
              "#7201a8"
             ],
             [
              0.3333333333333333,
              "#9c179e"
             ],
             [
              0.4444444444444444,
              "#bd3786"
             ],
             [
              0.5555555555555556,
              "#d8576b"
             ],
             [
              0.6666666666666666,
              "#ed7953"
             ],
             [
              0.7777777777777778,
              "#fb9f3a"
             ],
             [
              0.8888888888888888,
              "#fdca26"
             ],
             [
              1,
              "#f0f921"
             ]
            ],
            "type": "histogram2d"
           }
          ],
          "histogram2dcontour": [
           {
            "colorbar": {
             "outlinewidth": 0,
             "ticks": ""
            },
            "colorscale": [
             [
              0,
              "#0d0887"
             ],
             [
              0.1111111111111111,
              "#46039f"
             ],
             [
              0.2222222222222222,
              "#7201a8"
             ],
             [
              0.3333333333333333,
              "#9c179e"
             ],
             [
              0.4444444444444444,
              "#bd3786"
             ],
             [
              0.5555555555555556,
              "#d8576b"
             ],
             [
              0.6666666666666666,
              "#ed7953"
             ],
             [
              0.7777777777777778,
              "#fb9f3a"
             ],
             [
              0.8888888888888888,
              "#fdca26"
             ],
             [
              1,
              "#f0f921"
             ]
            ],
            "type": "histogram2dcontour"
           }
          ],
          "mesh3d": [
           {
            "colorbar": {
             "outlinewidth": 0,
             "ticks": ""
            },
            "type": "mesh3d"
           }
          ],
          "parcoords": [
           {
            "line": {
             "colorbar": {
              "outlinewidth": 0,
              "ticks": ""
             }
            },
            "type": "parcoords"
           }
          ],
          "pie": [
           {
            "automargin": true,
            "type": "pie"
           }
          ],
          "scatter": [
           {
            "fillpattern": {
             "fillmode": "overlay",
             "size": 10,
             "solidity": 0.2
            },
            "type": "scatter"
           }
          ],
          "scatter3d": [
           {
            "line": {
             "colorbar": {
              "outlinewidth": 0,
              "ticks": ""
             }
            },
            "marker": {
             "colorbar": {
              "outlinewidth": 0,
              "ticks": ""
             }
            },
            "type": "scatter3d"
           }
          ],
          "scattercarpet": [
           {
            "marker": {
             "colorbar": {
              "outlinewidth": 0,
              "ticks": ""
             }
            },
            "type": "scattercarpet"
           }
          ],
          "scattergeo": [
           {
            "marker": {
             "colorbar": {
              "outlinewidth": 0,
              "ticks": ""
             }
            },
            "type": "scattergeo"
           }
          ],
          "scattergl": [
           {
            "marker": {
             "colorbar": {
              "outlinewidth": 0,
              "ticks": ""
             }
            },
            "type": "scattergl"
           }
          ],
          "scattermap": [
           {
            "marker": {
             "colorbar": {
              "outlinewidth": 0,
              "ticks": ""
             }
            },
            "type": "scattermap"
           }
          ],
          "scattermapbox": [
           {
            "marker": {
             "colorbar": {
              "outlinewidth": 0,
              "ticks": ""
             }
            },
            "type": "scattermapbox"
           }
          ],
          "scatterpolar": [
           {
            "marker": {
             "colorbar": {
              "outlinewidth": 0,
              "ticks": ""
             }
            },
            "type": "scatterpolar"
           }
          ],
          "scatterpolargl": [
           {
            "marker": {
             "colorbar": {
              "outlinewidth": 0,
              "ticks": ""
             }
            },
            "type": "scatterpolargl"
           }
          ],
          "scatterternary": [
           {
            "marker": {
             "colorbar": {
              "outlinewidth": 0,
              "ticks": ""
             }
            },
            "type": "scatterternary"
           }
          ],
          "surface": [
           {
            "colorbar": {
             "outlinewidth": 0,
             "ticks": ""
            },
            "colorscale": [
             [
              0,
              "#0d0887"
             ],
             [
              0.1111111111111111,
              "#46039f"
             ],
             [
              0.2222222222222222,
              "#7201a8"
             ],
             [
              0.3333333333333333,
              "#9c179e"
             ],
             [
              0.4444444444444444,
              "#bd3786"
             ],
             [
              0.5555555555555556,
              "#d8576b"
             ],
             [
              0.6666666666666666,
              "#ed7953"
             ],
             [
              0.7777777777777778,
              "#fb9f3a"
             ],
             [
              0.8888888888888888,
              "#fdca26"
             ],
             [
              1,
              "#f0f921"
             ]
            ],
            "type": "surface"
           }
          ],
          "table": [
           {
            "cells": {
             "fill": {
              "color": "#EBF0F8"
             },
             "line": {
              "color": "white"
             }
            },
            "header": {
             "fill": {
              "color": "#C8D4E3"
             },
             "line": {
              "color": "white"
             }
            },
            "type": "table"
           }
          ]
         },
         "layout": {
          "annotationdefaults": {
           "arrowcolor": "#2a3f5f",
           "arrowhead": 0,
           "arrowwidth": 1
          },
          "autotypenumbers": "strict",
          "coloraxis": {
           "colorbar": {
            "outlinewidth": 0,
            "ticks": ""
           }
          },
          "colorscale": {
           "diverging": [
            [
             0,
             "#8e0152"
            ],
            [
             0.1,
             "#c51b7d"
            ],
            [
             0.2,
             "#de77ae"
            ],
            [
             0.3,
             "#f1b6da"
            ],
            [
             0.4,
             "#fde0ef"
            ],
            [
             0.5,
             "#f7f7f7"
            ],
            [
             0.6,
             "#e6f5d0"
            ],
            [
             0.7,
             "#b8e186"
            ],
            [
             0.8,
             "#7fbc41"
            ],
            [
             0.9,
             "#4d9221"
            ],
            [
             1,
             "#276419"
            ]
           ],
           "sequential": [
            [
             0,
             "#0d0887"
            ],
            [
             0.1111111111111111,
             "#46039f"
            ],
            [
             0.2222222222222222,
             "#7201a8"
            ],
            [
             0.3333333333333333,
             "#9c179e"
            ],
            [
             0.4444444444444444,
             "#bd3786"
            ],
            [
             0.5555555555555556,
             "#d8576b"
            ],
            [
             0.6666666666666666,
             "#ed7953"
            ],
            [
             0.7777777777777778,
             "#fb9f3a"
            ],
            [
             0.8888888888888888,
             "#fdca26"
            ],
            [
             1,
             "#f0f921"
            ]
           ],
           "sequentialminus": [
            [
             0,
             "#0d0887"
            ],
            [
             0.1111111111111111,
             "#46039f"
            ],
            [
             0.2222222222222222,
             "#7201a8"
            ],
            [
             0.3333333333333333,
             "#9c179e"
            ],
            [
             0.4444444444444444,
             "#bd3786"
            ],
            [
             0.5555555555555556,
             "#d8576b"
            ],
            [
             0.6666666666666666,
             "#ed7953"
            ],
            [
             0.7777777777777778,
             "#fb9f3a"
            ],
            [
             0.8888888888888888,
             "#fdca26"
            ],
            [
             1,
             "#f0f921"
            ]
           ]
          },
          "colorway": [
           "#636efa",
           "#EF553B",
           "#00cc96",
           "#ab63fa",
           "#FFA15A",
           "#19d3f3",
           "#FF6692",
           "#B6E880",
           "#FF97FF",
           "#FECB52"
          ],
          "font": {
           "color": "#2a3f5f"
          },
          "geo": {
           "bgcolor": "white",
           "lakecolor": "white",
           "landcolor": "white",
           "showlakes": true,
           "showland": true,
           "subunitcolor": "#C8D4E3"
          },
          "hoverlabel": {
           "align": "left"
          },
          "hovermode": "closest",
          "mapbox": {
           "style": "light"
          },
          "paper_bgcolor": "white",
          "plot_bgcolor": "white",
          "polar": {
           "angularaxis": {
            "gridcolor": "#EBF0F8",
            "linecolor": "#EBF0F8",
            "ticks": ""
           },
           "bgcolor": "white",
           "radialaxis": {
            "gridcolor": "#EBF0F8",
            "linecolor": "#EBF0F8",
            "ticks": ""
           }
          },
          "scene": {
           "xaxis": {
            "backgroundcolor": "white",
            "gridcolor": "#DFE8F3",
            "gridwidth": 2,
            "linecolor": "#EBF0F8",
            "showbackground": true,
            "ticks": "",
            "zerolinecolor": "#EBF0F8"
           },
           "yaxis": {
            "backgroundcolor": "white",
            "gridcolor": "#DFE8F3",
            "gridwidth": 2,
            "linecolor": "#EBF0F8",
            "showbackground": true,
            "ticks": "",
            "zerolinecolor": "#EBF0F8"
           },
           "zaxis": {
            "backgroundcolor": "white",
            "gridcolor": "#DFE8F3",
            "gridwidth": 2,
            "linecolor": "#EBF0F8",
            "showbackground": true,
            "ticks": "",
            "zerolinecolor": "#EBF0F8"
           }
          },
          "shapedefaults": {
           "line": {
            "color": "#2a3f5f"
           }
          },
          "ternary": {
           "aaxis": {
            "gridcolor": "#DFE8F3",
            "linecolor": "#A2B1C6",
            "ticks": ""
           },
           "baxis": {
            "gridcolor": "#DFE8F3",
            "linecolor": "#A2B1C6",
            "ticks": ""
           },
           "bgcolor": "white",
           "caxis": {
            "gridcolor": "#DFE8F3",
            "linecolor": "#A2B1C6",
            "ticks": ""
           }
          },
          "title": {
           "x": 0.05
          },
          "xaxis": {
           "automargin": true,
           "gridcolor": "#EBF0F8",
           "linecolor": "#EBF0F8",
           "ticks": "",
           "title": {
            "standoff": 15
           },
           "zerolinecolor": "#EBF0F8",
           "zerolinewidth": 2
          },
          "yaxis": {
           "automargin": true,
           "gridcolor": "#EBF0F8",
           "linecolor": "#EBF0F8",
           "ticks": "",
           "title": {
            "standoff": 15
           },
           "zerolinecolor": "#EBF0F8",
           "zerolinewidth": 2
          }
         }
        },
        "title": {
         "text": "Pronóstico y Ajuste de Horas Extra para IT con Modelo ARIMA"
        },
        "xaxis": {
         "title": {
          "text": "Fecha"
         }
        },
        "yaxis": {
         "title": {
          "text": "Horas Extra"
         }
        }
       }
      }
     },
     "metadata": {},
     "output_type": "display_data"
    },
    {
     "name": "stderr",
     "output_type": "stream",
     "text": [
      "2025-08-13 16:27:58,232 - INFO - Columnas disponibles en df_all_data para Inventory: ['department', 'ds', 'y']\n",
      "2025-08-13 16:27:58,243 - WARNING - future_forecast para Inventory comienza en 2025-05-18 00:00:00 cuando debería ser después de 2025-05-04 00:00:00\n",
      "2025-08-13 16:27:58,243 - WARNING - future_forecast para Inventory comienza en 2025-05-18 00:00:00 cuando debería ser después de 2025-05-04 00:00:00\n",
      "2025-08-13 16:27:58,265 - INFO - Rango de fechas en future_data para Inventory: 2025-05-18 00:00:00 a 2025-10-19 00:00:00\n",
      "2025-08-13 16:27:58,265 - INFO - Rango de fechas en future_data para Inventory: 2025-05-18 00:00:00 a 2025-10-19 00:00:00\n"
     ]
    },
    {
     "data": {
      "application/vnd.plotly.v1+json": {
       "config": {
        "plotlyServerURL": "https://plot.ly"
       },
       "data": [
        {
         "line": {
          "color": "blue"
         },
         "mode": "lines",
         "name": "Histórico Real",
         "type": "scatter",
         "x": [
          "2023-12-31T00:00:00.000000000",
          "2024-01-14T00:00:00.000000000",
          "2024-01-28T00:00:00.000000000",
          "2024-02-11T00:00:00.000000000",
          "2024-02-25T00:00:00.000000000",
          "2024-03-10T00:00:00.000000000",
          "2024-03-24T00:00:00.000000000",
          "2024-04-07T00:00:00.000000000",
          "2024-04-21T00:00:00.000000000",
          "2024-05-05T00:00:00.000000000",
          "2024-05-19T00:00:00.000000000",
          "2024-06-02T00:00:00.000000000",
          "2024-06-16T00:00:00.000000000",
          "2024-06-30T00:00:00.000000000",
          "2024-07-14T00:00:00.000000000",
          "2024-07-28T00:00:00.000000000",
          "2024-08-11T00:00:00.000000000",
          "2024-08-25T00:00:00.000000000",
          "2024-09-08T00:00:00.000000000",
          "2024-09-22T00:00:00.000000000",
          "2024-10-06T00:00:00.000000000",
          "2024-10-20T00:00:00.000000000",
          "2024-11-03T00:00:00.000000000",
          "2024-11-17T00:00:00.000000000",
          "2024-12-01T00:00:00.000000000",
          "2024-12-15T00:00:00.000000000",
          "2024-12-29T00:00:00.000000000",
          "2025-01-12T00:00:00.000000000",
          "2025-01-26T00:00:00.000000000",
          "2025-02-09T00:00:00.000000000",
          "2025-02-23T00:00:00.000000000",
          "2025-03-09T00:00:00.000000000",
          "2025-03-23T00:00:00.000000000",
          "2025-04-06T00:00:00.000000000",
          "2025-04-20T00:00:00.000000000",
          "2025-05-04T00:00:00.000000000"
         ],
         "y": {
          "bdata": "AAAAAAAA+H9mZmZmZvZaQJDC9ShcX11AehSuR+HqVkAAAAAAAEBXQEjhehSuB2FACtejcD0KWkCamZmZmclbQGZmZmZmtlxA2KNwPQo3VkCamZmZmUlaQJDC9Shcb1tAhetRuB6VXEB6FK5H4bpdQHA9Ctej4F5ArkfhehTOX0DrUbgehbtfQArXo3A9cmBAH4XrUbhuXEAK16NwPXpaQIXrUbgeHWJApHA9CteTWkBwPQrXo1BdQArXo3A9cmFAAAAAAACKYEDrUbgehUNfQNajcD0Kc11AwvUoXI+iW0AfhetRuO5ZQAAAAAAAwFtAKVyPwvV4V0CG61G4HvVfQML1KFyP2mBAPQrXo3D9XkC4HoXrUahcQLgehetRqFxA",
          "dtype": "f8"
         }
        },
        {
         "line": {
          "color": "orange",
          "dash": "dash"
         },
         "mode": "lines",
         "name": "Predicción Histórica",
         "type": "scatter",
         "x": [
          "2024-03-24T00:00:00.000000000",
          "2024-04-07T00:00:00.000000000",
          "2024-04-21T00:00:00.000000000",
          "2024-05-05T00:00:00.000000000",
          "2024-05-19T00:00:00.000000000",
          "2024-06-02T00:00:00.000000000",
          "2024-06-16T00:00:00.000000000",
          "2024-06-30T00:00:00.000000000",
          "2024-07-14T00:00:00.000000000",
          "2024-07-28T00:00:00.000000000",
          "2024-08-11T00:00:00.000000000",
          "2024-08-25T00:00:00.000000000",
          "2024-09-08T00:00:00.000000000",
          "2024-09-22T00:00:00.000000000",
          "2024-10-06T00:00:00.000000000",
          "2024-10-20T00:00:00.000000000",
          "2024-11-03T00:00:00.000000000",
          "2024-11-17T00:00:00.000000000",
          "2024-12-01T00:00:00.000000000",
          "2024-12-15T00:00:00.000000000",
          "2024-12-29T00:00:00.000000000",
          "2025-01-12T00:00:00.000000000",
          "2025-01-26T00:00:00.000000000",
          "2025-02-09T00:00:00.000000000",
          "2025-02-23T00:00:00.000000000",
          "2025-03-09T00:00:00.000000000",
          "2025-03-23T00:00:00.000000000",
          "2025-04-06T00:00:00.000000000",
          "2025-04-20T00:00:00.000000000",
          "2025-05-04T00:00:00.000000000"
         ],
         "y": {
          "bdata": "JlLQQsNM3kI3s+VCIbmxQgBN0kLiettC8KjkQgnX7UImBfdCVnD+QnDc/UKlkQNDG3bjQvrR00KC6BBD5p7UQiyF6kLXkQtD408EQzgc+kJQmOtCfRTdQqF1z0Ld/91CRsi7QvOo/0JL1AZDZ+v3QsJC5UKrQuVC",
          "dtype": "f4"
         }
        },
        {
         "line": {
          "color": "red",
          "dash": "dot"
         },
         "mode": "lines",
         "name": "Pronóstico Futuro",
         "type": "scatter",
         "x": [
          "2025-05-18T00:00:00.000000000",
          "2025-06-01T00:00:00.000000000",
          "2025-06-15T00:00:00.000000000",
          "2025-06-29T00:00:00.000000000",
          "2025-07-13T00:00:00.000000000",
          "2025-07-27T00:00:00.000000000",
          "2025-08-10T00:00:00.000000000",
          "2025-08-24T00:00:00.000000000",
          "2025-09-07T00:00:00.000000000",
          "2025-09-21T00:00:00.000000000",
          "2025-10-05T00:00:00.000000000",
          "2025-10-19T00:00:00.000000000"
         ],
         "y": {
          "bdata": "W5D8Qupw+0KKL/ZC/U73Qv1O90JXLPdC/U73Qv1O90L9TvdC/U73Qv1O90L9TvdC",
          "dtype": "f4"
         }
        },
        {
         "fill": "toself",
         "fillcolor": "rgba(255,0,0,0.1)",
         "hoverinfo": "skip",
         "line": {
          "color": "rgba(255,255,255,0)"
         },
         "name": "Intervalo de Confianza",
         "showlegend": false,
         "type": "scatter",
         "x": [
          "2025-05-18T00:00:00",
          "2025-06-01T00:00:00",
          "2025-06-15T00:00:00",
          "2025-06-29T00:00:00",
          "2025-07-13T00:00:00",
          "2025-07-27T00:00:00",
          "2025-08-10T00:00:00",
          "2025-08-24T00:00:00",
          "2025-09-07T00:00:00",
          "2025-09-21T00:00:00",
          "2025-10-05T00:00:00",
          "2025-10-19T00:00:00",
          "2025-10-19T00:00:00",
          "2025-10-05T00:00:00",
          "2025-09-21T00:00:00",
          "2025-09-07T00:00:00",
          "2025-08-24T00:00:00",
          "2025-08-10T00:00:00",
          "2025-07-27T00:00:00",
          "2025-07-13T00:00:00",
          "2025-06-29T00:00:00",
          "2025-06-15T00:00:00",
          "2025-06-01T00:00:00",
          "2025-05-18T00:00:00"
         ],
         "y": [
          138.91014099121094,
          138.29258728027344,
          135.40213012695312,
          136.0196990966797,
          136.0196990966797,
          135.9452667236328,
          136.0196990966797,
          136.0196990966797,
          136.0196990966797,
          136.0196990966797,
          136.0196990966797,
          136.0196990966797,
          111.2888412475586,
          111.2888412475586,
          111.2888412475586,
          111.2888412475586,
          111.2888412475586,
          111.2888412475586,
          111.22793579101562,
          111.2888412475586,
          111.2888412475586,
          110.78356170654297,
          113.14847564697266,
          113.65374755859375
         ]
        }
       ],
       "layout": {
        "legend": {
         "orientation": "h",
         "x": 0.5,
         "xanchor": "center",
         "y": 1.02,
         "yanchor": "bottom"
        },
        "template": {
         "data": {
          "bar": [
           {
            "error_x": {
             "color": "#2a3f5f"
            },
            "error_y": {
             "color": "#2a3f5f"
            },
            "marker": {
             "line": {
              "color": "white",
              "width": 0.5
             },
             "pattern": {
              "fillmode": "overlay",
              "size": 10,
              "solidity": 0.2
             }
            },
            "type": "bar"
           }
          ],
          "barpolar": [
           {
            "marker": {
             "line": {
              "color": "white",
              "width": 0.5
             },
             "pattern": {
              "fillmode": "overlay",
              "size": 10,
              "solidity": 0.2
             }
            },
            "type": "barpolar"
           }
          ],
          "carpet": [
           {
            "aaxis": {
             "endlinecolor": "#2a3f5f",
             "gridcolor": "#C8D4E3",
             "linecolor": "#C8D4E3",
             "minorgridcolor": "#C8D4E3",
             "startlinecolor": "#2a3f5f"
            },
            "baxis": {
             "endlinecolor": "#2a3f5f",
             "gridcolor": "#C8D4E3",
             "linecolor": "#C8D4E3",
             "minorgridcolor": "#C8D4E3",
             "startlinecolor": "#2a3f5f"
            },
            "type": "carpet"
           }
          ],
          "choropleth": [
           {
            "colorbar": {
             "outlinewidth": 0,
             "ticks": ""
            },
            "type": "choropleth"
           }
          ],
          "contour": [
           {
            "colorbar": {
             "outlinewidth": 0,
             "ticks": ""
            },
            "colorscale": [
             [
              0,
              "#0d0887"
             ],
             [
              0.1111111111111111,
              "#46039f"
             ],
             [
              0.2222222222222222,
              "#7201a8"
             ],
             [
              0.3333333333333333,
              "#9c179e"
             ],
             [
              0.4444444444444444,
              "#bd3786"
             ],
             [
              0.5555555555555556,
              "#d8576b"
             ],
             [
              0.6666666666666666,
              "#ed7953"
             ],
             [
              0.7777777777777778,
              "#fb9f3a"
             ],
             [
              0.8888888888888888,
              "#fdca26"
             ],
             [
              1,
              "#f0f921"
             ]
            ],
            "type": "contour"
           }
          ],
          "contourcarpet": [
           {
            "colorbar": {
             "outlinewidth": 0,
             "ticks": ""
            },
            "type": "contourcarpet"
           }
          ],
          "heatmap": [
           {
            "colorbar": {
             "outlinewidth": 0,
             "ticks": ""
            },
            "colorscale": [
             [
              0,
              "#0d0887"
             ],
             [
              0.1111111111111111,
              "#46039f"
             ],
             [
              0.2222222222222222,
              "#7201a8"
             ],
             [
              0.3333333333333333,
              "#9c179e"
             ],
             [
              0.4444444444444444,
              "#bd3786"
             ],
             [
              0.5555555555555556,
              "#d8576b"
             ],
             [
              0.6666666666666666,
              "#ed7953"
             ],
             [
              0.7777777777777778,
              "#fb9f3a"
             ],
             [
              0.8888888888888888,
              "#fdca26"
             ],
             [
              1,
              "#f0f921"
             ]
            ],
            "type": "heatmap"
           }
          ],
          "histogram": [
           {
            "marker": {
             "pattern": {
              "fillmode": "overlay",
              "size": 10,
              "solidity": 0.2
             }
            },
            "type": "histogram"
           }
          ],
          "histogram2d": [
           {
            "colorbar": {
             "outlinewidth": 0,
             "ticks": ""
            },
            "colorscale": [
             [
              0,
              "#0d0887"
             ],
             [
              0.1111111111111111,
              "#46039f"
             ],
             [
              0.2222222222222222,
              "#7201a8"
             ],
             [
              0.3333333333333333,
              "#9c179e"
             ],
             [
              0.4444444444444444,
              "#bd3786"
             ],
             [
              0.5555555555555556,
              "#d8576b"
             ],
             [
              0.6666666666666666,
              "#ed7953"
             ],
             [
              0.7777777777777778,
              "#fb9f3a"
             ],
             [
              0.8888888888888888,
              "#fdca26"
             ],
             [
              1,
              "#f0f921"
             ]
            ],
            "type": "histogram2d"
           }
          ],
          "histogram2dcontour": [
           {
            "colorbar": {
             "outlinewidth": 0,
             "ticks": ""
            },
            "colorscale": [
             [
              0,
              "#0d0887"
             ],
             [
              0.1111111111111111,
              "#46039f"
             ],
             [
              0.2222222222222222,
              "#7201a8"
             ],
             [
              0.3333333333333333,
              "#9c179e"
             ],
             [
              0.4444444444444444,
              "#bd3786"
             ],
             [
              0.5555555555555556,
              "#d8576b"
             ],
             [
              0.6666666666666666,
              "#ed7953"
             ],
             [
              0.7777777777777778,
              "#fb9f3a"
             ],
             [
              0.8888888888888888,
              "#fdca26"
             ],
             [
              1,
              "#f0f921"
             ]
            ],
            "type": "histogram2dcontour"
           }
          ],
          "mesh3d": [
           {
            "colorbar": {
             "outlinewidth": 0,
             "ticks": ""
            },
            "type": "mesh3d"
           }
          ],
          "parcoords": [
           {
            "line": {
             "colorbar": {
              "outlinewidth": 0,
              "ticks": ""
             }
            },
            "type": "parcoords"
           }
          ],
          "pie": [
           {
            "automargin": true,
            "type": "pie"
           }
          ],
          "scatter": [
           {
            "fillpattern": {
             "fillmode": "overlay",
             "size": 10,
             "solidity": 0.2
            },
            "type": "scatter"
           }
          ],
          "scatter3d": [
           {
            "line": {
             "colorbar": {
              "outlinewidth": 0,
              "ticks": ""
             }
            },
            "marker": {
             "colorbar": {
              "outlinewidth": 0,
              "ticks": ""
             }
            },
            "type": "scatter3d"
           }
          ],
          "scattercarpet": [
           {
            "marker": {
             "colorbar": {
              "outlinewidth": 0,
              "ticks": ""
             }
            },
            "type": "scattercarpet"
           }
          ],
          "scattergeo": [
           {
            "marker": {
             "colorbar": {
              "outlinewidth": 0,
              "ticks": ""
             }
            },
            "type": "scattergeo"
           }
          ],
          "scattergl": [
           {
            "marker": {
             "colorbar": {
              "outlinewidth": 0,
              "ticks": ""
             }
            },
            "type": "scattergl"
           }
          ],
          "scattermap": [
           {
            "marker": {
             "colorbar": {
              "outlinewidth": 0,
              "ticks": ""
             }
            },
            "type": "scattermap"
           }
          ],
          "scattermapbox": [
           {
            "marker": {
             "colorbar": {
              "outlinewidth": 0,
              "ticks": ""
             }
            },
            "type": "scattermapbox"
           }
          ],
          "scatterpolar": [
           {
            "marker": {
             "colorbar": {
              "outlinewidth": 0,
              "ticks": ""
             }
            },
            "type": "scatterpolar"
           }
          ],
          "scatterpolargl": [
           {
            "marker": {
             "colorbar": {
              "outlinewidth": 0,
              "ticks": ""
             }
            },
            "type": "scatterpolargl"
           }
          ],
          "scatterternary": [
           {
            "marker": {
             "colorbar": {
              "outlinewidth": 0,
              "ticks": ""
             }
            },
            "type": "scatterternary"
           }
          ],
          "surface": [
           {
            "colorbar": {
             "outlinewidth": 0,
             "ticks": ""
            },
            "colorscale": [
             [
              0,
              "#0d0887"
             ],
             [
              0.1111111111111111,
              "#46039f"
             ],
             [
              0.2222222222222222,
              "#7201a8"
             ],
             [
              0.3333333333333333,
              "#9c179e"
             ],
             [
              0.4444444444444444,
              "#bd3786"
             ],
             [
              0.5555555555555556,
              "#d8576b"
             ],
             [
              0.6666666666666666,
              "#ed7953"
             ],
             [
              0.7777777777777778,
              "#fb9f3a"
             ],
             [
              0.8888888888888888,
              "#fdca26"
             ],
             [
              1,
              "#f0f921"
             ]
            ],
            "type": "surface"
           }
          ],
          "table": [
           {
            "cells": {
             "fill": {
              "color": "#EBF0F8"
             },
             "line": {
              "color": "white"
             }
            },
            "header": {
             "fill": {
              "color": "#C8D4E3"
             },
             "line": {
              "color": "white"
             }
            },
            "type": "table"
           }
          ]
         },
         "layout": {
          "annotationdefaults": {
           "arrowcolor": "#2a3f5f",
           "arrowhead": 0,
           "arrowwidth": 1
          },
          "autotypenumbers": "strict",
          "coloraxis": {
           "colorbar": {
            "outlinewidth": 0,
            "ticks": ""
           }
          },
          "colorscale": {
           "diverging": [
            [
             0,
             "#8e0152"
            ],
            [
             0.1,
             "#c51b7d"
            ],
            [
             0.2,
             "#de77ae"
            ],
            [
             0.3,
             "#f1b6da"
            ],
            [
             0.4,
             "#fde0ef"
            ],
            [
             0.5,
             "#f7f7f7"
            ],
            [
             0.6,
             "#e6f5d0"
            ],
            [
             0.7,
             "#b8e186"
            ],
            [
             0.8,
             "#7fbc41"
            ],
            [
             0.9,
             "#4d9221"
            ],
            [
             1,
             "#276419"
            ]
           ],
           "sequential": [
            [
             0,
             "#0d0887"
            ],
            [
             0.1111111111111111,
             "#46039f"
            ],
            [
             0.2222222222222222,
             "#7201a8"
            ],
            [
             0.3333333333333333,
             "#9c179e"
            ],
            [
             0.4444444444444444,
             "#bd3786"
            ],
            [
             0.5555555555555556,
             "#d8576b"
            ],
            [
             0.6666666666666666,
             "#ed7953"
            ],
            [
             0.7777777777777778,
             "#fb9f3a"
            ],
            [
             0.8888888888888888,
             "#fdca26"
            ],
            [
             1,
             "#f0f921"
            ]
           ],
           "sequentialminus": [
            [
             0,
             "#0d0887"
            ],
            [
             0.1111111111111111,
             "#46039f"
            ],
            [
             0.2222222222222222,
             "#7201a8"
            ],
            [
             0.3333333333333333,
             "#9c179e"
            ],
            [
             0.4444444444444444,
             "#bd3786"
            ],
            [
             0.5555555555555556,
             "#d8576b"
            ],
            [
             0.6666666666666666,
             "#ed7953"
            ],
            [
             0.7777777777777778,
             "#fb9f3a"
            ],
            [
             0.8888888888888888,
             "#fdca26"
            ],
            [
             1,
             "#f0f921"
            ]
           ]
          },
          "colorway": [
           "#636efa",
           "#EF553B",
           "#00cc96",
           "#ab63fa",
           "#FFA15A",
           "#19d3f3",
           "#FF6692",
           "#B6E880",
           "#FF97FF",
           "#FECB52"
          ],
          "font": {
           "color": "#2a3f5f"
          },
          "geo": {
           "bgcolor": "white",
           "lakecolor": "white",
           "landcolor": "white",
           "showlakes": true,
           "showland": true,
           "subunitcolor": "#C8D4E3"
          },
          "hoverlabel": {
           "align": "left"
          },
          "hovermode": "closest",
          "mapbox": {
           "style": "light"
          },
          "paper_bgcolor": "white",
          "plot_bgcolor": "white",
          "polar": {
           "angularaxis": {
            "gridcolor": "#EBF0F8",
            "linecolor": "#EBF0F8",
            "ticks": ""
           },
           "bgcolor": "white",
           "radialaxis": {
            "gridcolor": "#EBF0F8",
            "linecolor": "#EBF0F8",
            "ticks": ""
           }
          },
          "scene": {
           "xaxis": {
            "backgroundcolor": "white",
            "gridcolor": "#DFE8F3",
            "gridwidth": 2,
            "linecolor": "#EBF0F8",
            "showbackground": true,
            "ticks": "",
            "zerolinecolor": "#EBF0F8"
           },
           "yaxis": {
            "backgroundcolor": "white",
            "gridcolor": "#DFE8F3",
            "gridwidth": 2,
            "linecolor": "#EBF0F8",
            "showbackground": true,
            "ticks": "",
            "zerolinecolor": "#EBF0F8"
           },
           "zaxis": {
            "backgroundcolor": "white",
            "gridcolor": "#DFE8F3",
            "gridwidth": 2,
            "linecolor": "#EBF0F8",
            "showbackground": true,
            "ticks": "",
            "zerolinecolor": "#EBF0F8"
           }
          },
          "shapedefaults": {
           "line": {
            "color": "#2a3f5f"
           }
          },
          "ternary": {
           "aaxis": {
            "gridcolor": "#DFE8F3",
            "linecolor": "#A2B1C6",
            "ticks": ""
           },
           "baxis": {
            "gridcolor": "#DFE8F3",
            "linecolor": "#A2B1C6",
            "ticks": ""
           },
           "bgcolor": "white",
           "caxis": {
            "gridcolor": "#DFE8F3",
            "linecolor": "#A2B1C6",
            "ticks": ""
           }
          },
          "title": {
           "x": 0.05
          },
          "xaxis": {
           "automargin": true,
           "gridcolor": "#EBF0F8",
           "linecolor": "#EBF0F8",
           "ticks": "",
           "title": {
            "standoff": 15
           },
           "zerolinecolor": "#EBF0F8",
           "zerolinewidth": 2
          },
          "yaxis": {
           "automargin": true,
           "gridcolor": "#EBF0F8",
           "linecolor": "#EBF0F8",
           "ticks": "",
           "title": {
            "standoff": 15
           },
           "zerolinecolor": "#EBF0F8",
           "zerolinewidth": 2
          }
         }
        },
        "title": {
         "text": "Pronóstico y Ajuste de Horas Extra para Inventory con Modelo XGBoost"
        },
        "xaxis": {
         "title": {
          "text": "Fecha"
         }
        },
        "yaxis": {
         "title": {
          "text": "Horas Extra"
         }
        }
       }
      }
     },
     "metadata": {},
     "output_type": "display_data"
    },
    {
     "name": "stderr",
     "output_type": "stream",
     "text": [
      "2025-08-13 16:27:59,101 - INFO - Columnas disponibles en df_all_data para Marketing: ['department', 'ds', 'y']\n",
      "2025-08-13 16:27:59,112 - WARNING - future_forecast para Marketing comienza en 2025-05-11 00:00:00 cuando debería ser después de 2025-05-04 00:00:00\n",
      "2025-08-13 16:27:59,112 - WARNING - future_forecast para Marketing comienza en 2025-05-11 00:00:00 cuando debería ser después de 2025-05-04 00:00:00\n",
      "2025-08-13 16:27:59,121 - INFO - Rango de fechas en future_data para Marketing: 2025-05-11 00:00:00 a 2025-10-12 00:00:00\n",
      "2025-08-13 16:27:59,121 - INFO - Rango de fechas en future_data para Marketing: 2025-05-11 00:00:00 a 2025-10-12 00:00:00\n"
     ]
    },
    {
     "data": {
      "application/vnd.plotly.v1+json": {
       "config": {
        "plotlyServerURL": "https://plot.ly"
       },
       "data": [
        {
         "line": {
          "color": "blue"
         },
         "mode": "lines",
         "name": "Histórico Real",
         "type": "scatter",
         "x": [
          "2023-12-31T00:00:00.000000000",
          "2024-01-14T00:00:00.000000000",
          "2024-01-28T00:00:00.000000000",
          "2024-02-11T00:00:00.000000000",
          "2024-02-25T00:00:00.000000000",
          "2024-03-10T00:00:00.000000000",
          "2024-03-24T00:00:00.000000000",
          "2024-04-07T00:00:00.000000000",
          "2024-04-21T00:00:00.000000000",
          "2024-05-05T00:00:00.000000000",
          "2024-05-19T00:00:00.000000000",
          "2024-06-02T00:00:00.000000000",
          "2024-06-16T00:00:00.000000000",
          "2024-06-30T00:00:00.000000000",
          "2024-07-14T00:00:00.000000000",
          "2024-07-28T00:00:00.000000000",
          "2024-08-11T00:00:00.000000000",
          "2024-08-25T00:00:00.000000000",
          "2024-09-08T00:00:00.000000000",
          "2024-09-22T00:00:00.000000000",
          "2024-10-06T00:00:00.000000000",
          "2024-10-20T00:00:00.000000000",
          "2024-11-03T00:00:00.000000000",
          "2024-11-17T00:00:00.000000000",
          "2024-12-01T00:00:00.000000000",
          "2024-12-15T00:00:00.000000000",
          "2024-12-29T00:00:00.000000000",
          "2025-01-12T00:00:00.000000000",
          "2025-01-26T00:00:00.000000000",
          "2025-02-09T00:00:00.000000000",
          "2025-02-23T00:00:00.000000000",
          "2025-03-09T00:00:00.000000000",
          "2025-03-23T00:00:00.000000000",
          "2025-04-06T00:00:00.000000000",
          "2025-04-20T00:00:00.000000000",
          "2025-05-04T00:00:00.000000000"
         ],
         "y": {
          "bdata": "AAAAAAAA+H+QwvUoXC9IQHsUrkfhOktAKVyPwvXISEDMzMzMzCxNQOxRuB6Fy01AFK5H4XoUS0B7FK5H4ZpKQArXo3A9KkpAXI/C9Sh8SkAK16NwPSpQQFyPwvUosFBArkfhehQ2UUAAAAAAALxRQFK4HoXrQVJAwvUoXI9iSkDNzMzMzMxTQPYoXI/CxVJAKVyPwvXIS0DMzMzMzJxSQOF6FK5HYUpAHoXrUbj+S0DNzMzMzOxOQHE9CtejgFBA4noUrkcNUECkcD0K1zNPQIXrUbgeTU5AZmZmZmZmTUAAAAAAAKBQQM3MzMzMjFJAcD0K16PwSkAUrkfhehRLQML1KFyPMlNArkfhehTOTkDhehSuR/FRQOF6FK5H8VFA",
          "dtype": "f8"
         }
        },
        {
         "line": {
          "color": "orange",
          "dash": "dash"
         },
         "mode": "lines",
         "name": "Predicción Histórica",
         "type": "scatter",
         "x": [
          "2023-12-31T00:00:00.000000000",
          "2024-01-14T00:00:00.000000000",
          "2024-01-28T00:00:00.000000000",
          "2024-02-11T00:00:00.000000000",
          "2024-02-25T00:00:00.000000000",
          "2024-03-10T00:00:00.000000000",
          "2024-03-24T00:00:00.000000000",
          "2024-04-07T00:00:00.000000000",
          "2024-04-21T00:00:00.000000000",
          "2024-05-05T00:00:00.000000000",
          "2024-05-19T00:00:00.000000000",
          "2024-06-02T00:00:00.000000000",
          "2024-06-16T00:00:00.000000000",
          "2024-06-30T00:00:00.000000000",
          "2024-07-14T00:00:00.000000000",
          "2024-07-28T00:00:00.000000000",
          "2024-08-11T00:00:00.000000000",
          "2024-08-25T00:00:00.000000000",
          "2024-09-08T00:00:00.000000000",
          "2024-09-22T00:00:00.000000000",
          "2024-10-06T00:00:00.000000000",
          "2024-10-20T00:00:00.000000000",
          "2024-11-03T00:00:00.000000000",
          "2024-11-17T00:00:00.000000000",
          "2024-12-01T00:00:00.000000000",
          "2024-12-15T00:00:00.000000000",
          "2024-12-29T00:00:00.000000000",
          "2025-01-12T00:00:00.000000000",
          "2025-01-26T00:00:00.000000000",
          "2025-02-09T00:00:00.000000000",
          "2025-02-23T00:00:00.000000000",
          "2025-03-09T00:00:00.000000000",
          "2025-03-23T00:00:00.000000000",
          "2025-04-06T00:00:00.000000000",
          "2025-04-20T00:00:00.000000000",
          "2025-05-04T00:00:00.000000000"
         ],
         "y": {
          "bdata": "cLTc+zbeTEAmbEJaJbNLQGSeKtOgpktAZf+ezBl/R0BVGE1QAm9OQB378kjqyE5AAdbC7ym7R0CvAUXq5eVLQI+nALBDCUtA+ni1zqxKSUCrCdks0MJNQHT9sFVhfk9AlVZT8GOnUECVbleSTIlPQAU0unsp4VBAc5L1cZptTUAmjLu38DBSQJPb4lVfDlNA37PfeRt6TUBnZ11geF5QQJwsjSinrFBAaQtra4qVTUDXo01TCOZQQK29SGNGBlFAIB8zdVmLUUAHeB2pTQ5QQATL7N9IeFBAm42jgpdwS0AkWVIIz9RRQAIA6D9V4VFAiSCDw2sUTEB94zWjylhPQIRLra8Ek01AEIpi13I+TkBTStqSSaFRQOTi+BxpSFJA",
          "dtype": "f8"
         }
        },
        {
         "line": {
          "color": "red",
          "dash": "dot"
         },
         "mode": "lines",
         "name": "Pronóstico Futuro",
         "type": "scatter",
         "x": [
          "2025-05-11T00:00:00.000000000",
          "2025-05-25T00:00:00.000000000",
          "2025-06-08T00:00:00.000000000",
          "2025-06-22T00:00:00.000000000",
          "2025-07-06T00:00:00.000000000",
          "2025-07-20T00:00:00.000000000",
          "2025-08-03T00:00:00.000000000",
          "2025-08-17T00:00:00.000000000",
          "2025-08-31T00:00:00.000000000",
          "2025-09-14T00:00:00.000000000",
          "2025-09-28T00:00:00.000000000",
          "2025-10-12T00:00:00.000000000"
         ],
         "y": {
          "bdata": "DPsKMoTlUkAhFMqLjLVRQKYqOUq/TFJA0vapkJsrT0A2aXtyyNZTQKbRFbn8Q1RAtAhbJKZ3T0CoRZ+YEsFRQIThV51lZ1FAy4AzpaxmUEBJS54TFgNTQBz094XYm1NA",
          "dtype": "f8"
         }
        },
        {
         "fill": "toself",
         "fillcolor": "rgba(255,0,0,0.1)",
         "hoverinfo": "skip",
         "line": {
          "color": "rgba(255,255,255,0)"
         },
         "name": "Intervalo de Confianza",
         "showlegend": false,
         "type": "scatter",
         "x": [
          "2025-05-11T00:00:00",
          "2025-05-25T00:00:00",
          "2025-06-08T00:00:00",
          "2025-06-22T00:00:00",
          "2025-07-06T00:00:00",
          "2025-07-20T00:00:00",
          "2025-08-03T00:00:00",
          "2025-08-17T00:00:00",
          "2025-08-31T00:00:00",
          "2025-09-14T00:00:00",
          "2025-09-28T00:00:00",
          "2025-10-12T00:00:00",
          "2025-10-12T00:00:00",
          "2025-09-28T00:00:00",
          "2025-09-14T00:00:00",
          "2025-08-31T00:00:00",
          "2025-08-17T00:00:00",
          "2025-08-03T00:00:00",
          "2025-07-20T00:00:00",
          "2025-07-06T00:00:00",
          "2025-06-22T00:00:00",
          "2025-06-08T00:00:00",
          "2025-05-25T00:00:00",
          "2025-05-11T00:00:00"
         ],
         "y": [
          83.14481292895853,
          77.92037357528368,
          80.51909295216505,
          68.57475346688207,
          87.29158275849379,
          89.16852998584586,
          69.2282335270836,
          78.11843602284725,
          76.57713477077802,
          72.16471617729721,
          83.65304469589469,
          86.27859958778033,
          70.59158148091119,
          68.44340020573202,
          59.04385869051589,
          62.65401935790929,
          63.9150840186932,
          56.64128197670476,
          72.95606998841934,
          71.42038589331311,
          56.10661647290351,
          65.87925786995324,
          63.75303292523209,
          68.02757421460244
         ]
        }
       ],
       "layout": {
        "legend": {
         "orientation": "h",
         "x": 0.5,
         "xanchor": "center",
         "y": 1.02,
         "yanchor": "bottom"
        },
        "template": {
         "data": {
          "bar": [
           {
            "error_x": {
             "color": "#2a3f5f"
            },
            "error_y": {
             "color": "#2a3f5f"
            },
            "marker": {
             "line": {
              "color": "white",
              "width": 0.5
             },
             "pattern": {
              "fillmode": "overlay",
              "size": 10,
              "solidity": 0.2
             }
            },
            "type": "bar"
           }
          ],
          "barpolar": [
           {
            "marker": {
             "line": {
              "color": "white",
              "width": 0.5
             },
             "pattern": {
              "fillmode": "overlay",
              "size": 10,
              "solidity": 0.2
             }
            },
            "type": "barpolar"
           }
          ],
          "carpet": [
           {
            "aaxis": {
             "endlinecolor": "#2a3f5f",
             "gridcolor": "#C8D4E3",
             "linecolor": "#C8D4E3",
             "minorgridcolor": "#C8D4E3",
             "startlinecolor": "#2a3f5f"
            },
            "baxis": {
             "endlinecolor": "#2a3f5f",
             "gridcolor": "#C8D4E3",
             "linecolor": "#C8D4E3",
             "minorgridcolor": "#C8D4E3",
             "startlinecolor": "#2a3f5f"
            },
            "type": "carpet"
           }
          ],
          "choropleth": [
           {
            "colorbar": {
             "outlinewidth": 0,
             "ticks": ""
            },
            "type": "choropleth"
           }
          ],
          "contour": [
           {
            "colorbar": {
             "outlinewidth": 0,
             "ticks": ""
            },
            "colorscale": [
             [
              0,
              "#0d0887"
             ],
             [
              0.1111111111111111,
              "#46039f"
             ],
             [
              0.2222222222222222,
              "#7201a8"
             ],
             [
              0.3333333333333333,
              "#9c179e"
             ],
             [
              0.4444444444444444,
              "#bd3786"
             ],
             [
              0.5555555555555556,
              "#d8576b"
             ],
             [
              0.6666666666666666,
              "#ed7953"
             ],
             [
              0.7777777777777778,
              "#fb9f3a"
             ],
             [
              0.8888888888888888,
              "#fdca26"
             ],
             [
              1,
              "#f0f921"
             ]
            ],
            "type": "contour"
           }
          ],
          "contourcarpet": [
           {
            "colorbar": {
             "outlinewidth": 0,
             "ticks": ""
            },
            "type": "contourcarpet"
           }
          ],
          "heatmap": [
           {
            "colorbar": {
             "outlinewidth": 0,
             "ticks": ""
            },
            "colorscale": [
             [
              0,
              "#0d0887"
             ],
             [
              0.1111111111111111,
              "#46039f"
             ],
             [
              0.2222222222222222,
              "#7201a8"
             ],
             [
              0.3333333333333333,
              "#9c179e"
             ],
             [
              0.4444444444444444,
              "#bd3786"
             ],
             [
              0.5555555555555556,
              "#d8576b"
             ],
             [
              0.6666666666666666,
              "#ed7953"
             ],
             [
              0.7777777777777778,
              "#fb9f3a"
             ],
             [
              0.8888888888888888,
              "#fdca26"
             ],
             [
              1,
              "#f0f921"
             ]
            ],
            "type": "heatmap"
           }
          ],
          "histogram": [
           {
            "marker": {
             "pattern": {
              "fillmode": "overlay",
              "size": 10,
              "solidity": 0.2
             }
            },
            "type": "histogram"
           }
          ],
          "histogram2d": [
           {
            "colorbar": {
             "outlinewidth": 0,
             "ticks": ""
            },
            "colorscale": [
             [
              0,
              "#0d0887"
             ],
             [
              0.1111111111111111,
              "#46039f"
             ],
             [
              0.2222222222222222,
              "#7201a8"
             ],
             [
              0.3333333333333333,
              "#9c179e"
             ],
             [
              0.4444444444444444,
              "#bd3786"
             ],
             [
              0.5555555555555556,
              "#d8576b"
             ],
             [
              0.6666666666666666,
              "#ed7953"
             ],
             [
              0.7777777777777778,
              "#fb9f3a"
             ],
             [
              0.8888888888888888,
              "#fdca26"
             ],
             [
              1,
              "#f0f921"
             ]
            ],
            "type": "histogram2d"
           }
          ],
          "histogram2dcontour": [
           {
            "colorbar": {
             "outlinewidth": 0,
             "ticks": ""
            },
            "colorscale": [
             [
              0,
              "#0d0887"
             ],
             [
              0.1111111111111111,
              "#46039f"
             ],
             [
              0.2222222222222222,
              "#7201a8"
             ],
             [
              0.3333333333333333,
              "#9c179e"
             ],
             [
              0.4444444444444444,
              "#bd3786"
             ],
             [
              0.5555555555555556,
              "#d8576b"
             ],
             [
              0.6666666666666666,
              "#ed7953"
             ],
             [
              0.7777777777777778,
              "#fb9f3a"
             ],
             [
              0.8888888888888888,
              "#fdca26"
             ],
             [
              1,
              "#f0f921"
             ]
            ],
            "type": "histogram2dcontour"
           }
          ],
          "mesh3d": [
           {
            "colorbar": {
             "outlinewidth": 0,
             "ticks": ""
            },
            "type": "mesh3d"
           }
          ],
          "parcoords": [
           {
            "line": {
             "colorbar": {
              "outlinewidth": 0,
              "ticks": ""
             }
            },
            "type": "parcoords"
           }
          ],
          "pie": [
           {
            "automargin": true,
            "type": "pie"
           }
          ],
          "scatter": [
           {
            "fillpattern": {
             "fillmode": "overlay",
             "size": 10,
             "solidity": 0.2
            },
            "type": "scatter"
           }
          ],
          "scatter3d": [
           {
            "line": {
             "colorbar": {
              "outlinewidth": 0,
              "ticks": ""
             }
            },
            "marker": {
             "colorbar": {
              "outlinewidth": 0,
              "ticks": ""
             }
            },
            "type": "scatter3d"
           }
          ],
          "scattercarpet": [
           {
            "marker": {
             "colorbar": {
              "outlinewidth": 0,
              "ticks": ""
             }
            },
            "type": "scattercarpet"
           }
          ],
          "scattergeo": [
           {
            "marker": {
             "colorbar": {
              "outlinewidth": 0,
              "ticks": ""
             }
            },
            "type": "scattergeo"
           }
          ],
          "scattergl": [
           {
            "marker": {
             "colorbar": {
              "outlinewidth": 0,
              "ticks": ""
             }
            },
            "type": "scattergl"
           }
          ],
          "scattermap": [
           {
            "marker": {
             "colorbar": {
              "outlinewidth": 0,
              "ticks": ""
             }
            },
            "type": "scattermap"
           }
          ],
          "scattermapbox": [
           {
            "marker": {
             "colorbar": {
              "outlinewidth": 0,
              "ticks": ""
             }
            },
            "type": "scattermapbox"
           }
          ],
          "scatterpolar": [
           {
            "marker": {
             "colorbar": {
              "outlinewidth": 0,
              "ticks": ""
             }
            },
            "type": "scatterpolar"
           }
          ],
          "scatterpolargl": [
           {
            "marker": {
             "colorbar": {
              "outlinewidth": 0,
              "ticks": ""
             }
            },
            "type": "scatterpolargl"
           }
          ],
          "scatterternary": [
           {
            "marker": {
             "colorbar": {
              "outlinewidth": 0,
              "ticks": ""
             }
            },
            "type": "scatterternary"
           }
          ],
          "surface": [
           {
            "colorbar": {
             "outlinewidth": 0,
             "ticks": ""
            },
            "colorscale": [
             [
              0,
              "#0d0887"
             ],
             [
              0.1111111111111111,
              "#46039f"
             ],
             [
              0.2222222222222222,
              "#7201a8"
             ],
             [
              0.3333333333333333,
              "#9c179e"
             ],
             [
              0.4444444444444444,
              "#bd3786"
             ],
             [
              0.5555555555555556,
              "#d8576b"
             ],
             [
              0.6666666666666666,
              "#ed7953"
             ],
             [
              0.7777777777777778,
              "#fb9f3a"
             ],
             [
              0.8888888888888888,
              "#fdca26"
             ],
             [
              1,
              "#f0f921"
             ]
            ],
            "type": "surface"
           }
          ],
          "table": [
           {
            "cells": {
             "fill": {
              "color": "#EBF0F8"
             },
             "line": {
              "color": "white"
             }
            },
            "header": {
             "fill": {
              "color": "#C8D4E3"
             },
             "line": {
              "color": "white"
             }
            },
            "type": "table"
           }
          ]
         },
         "layout": {
          "annotationdefaults": {
           "arrowcolor": "#2a3f5f",
           "arrowhead": 0,
           "arrowwidth": 1
          },
          "autotypenumbers": "strict",
          "coloraxis": {
           "colorbar": {
            "outlinewidth": 0,
            "ticks": ""
           }
          },
          "colorscale": {
           "diverging": [
            [
             0,
             "#8e0152"
            ],
            [
             0.1,
             "#c51b7d"
            ],
            [
             0.2,
             "#de77ae"
            ],
            [
             0.3,
             "#f1b6da"
            ],
            [
             0.4,
             "#fde0ef"
            ],
            [
             0.5,
             "#f7f7f7"
            ],
            [
             0.6,
             "#e6f5d0"
            ],
            [
             0.7,
             "#b8e186"
            ],
            [
             0.8,
             "#7fbc41"
            ],
            [
             0.9,
             "#4d9221"
            ],
            [
             1,
             "#276419"
            ]
           ],
           "sequential": [
            [
             0,
             "#0d0887"
            ],
            [
             0.1111111111111111,
             "#46039f"
            ],
            [
             0.2222222222222222,
             "#7201a8"
            ],
            [
             0.3333333333333333,
             "#9c179e"
            ],
            [
             0.4444444444444444,
             "#bd3786"
            ],
            [
             0.5555555555555556,
             "#d8576b"
            ],
            [
             0.6666666666666666,
             "#ed7953"
            ],
            [
             0.7777777777777778,
             "#fb9f3a"
            ],
            [
             0.8888888888888888,
             "#fdca26"
            ],
            [
             1,
             "#f0f921"
            ]
           ],
           "sequentialminus": [
            [
             0,
             "#0d0887"
            ],
            [
             0.1111111111111111,
             "#46039f"
            ],
            [
             0.2222222222222222,
             "#7201a8"
            ],
            [
             0.3333333333333333,
             "#9c179e"
            ],
            [
             0.4444444444444444,
             "#bd3786"
            ],
            [
             0.5555555555555556,
             "#d8576b"
            ],
            [
             0.6666666666666666,
             "#ed7953"
            ],
            [
             0.7777777777777778,
             "#fb9f3a"
            ],
            [
             0.8888888888888888,
             "#fdca26"
            ],
            [
             1,
             "#f0f921"
            ]
           ]
          },
          "colorway": [
           "#636efa",
           "#EF553B",
           "#00cc96",
           "#ab63fa",
           "#FFA15A",
           "#19d3f3",
           "#FF6692",
           "#B6E880",
           "#FF97FF",
           "#FECB52"
          ],
          "font": {
           "color": "#2a3f5f"
          },
          "geo": {
           "bgcolor": "white",
           "lakecolor": "white",
           "landcolor": "white",
           "showlakes": true,
           "showland": true,
           "subunitcolor": "#C8D4E3"
          },
          "hoverlabel": {
           "align": "left"
          },
          "hovermode": "closest",
          "mapbox": {
           "style": "light"
          },
          "paper_bgcolor": "white",
          "plot_bgcolor": "white",
          "polar": {
           "angularaxis": {
            "gridcolor": "#EBF0F8",
            "linecolor": "#EBF0F8",
            "ticks": ""
           },
           "bgcolor": "white",
           "radialaxis": {
            "gridcolor": "#EBF0F8",
            "linecolor": "#EBF0F8",
            "ticks": ""
           }
          },
          "scene": {
           "xaxis": {
            "backgroundcolor": "white",
            "gridcolor": "#DFE8F3",
            "gridwidth": 2,
            "linecolor": "#EBF0F8",
            "showbackground": true,
            "ticks": "",
            "zerolinecolor": "#EBF0F8"
           },
           "yaxis": {
            "backgroundcolor": "white",
            "gridcolor": "#DFE8F3",
            "gridwidth": 2,
            "linecolor": "#EBF0F8",
            "showbackground": true,
            "ticks": "",
            "zerolinecolor": "#EBF0F8"
           },
           "zaxis": {
            "backgroundcolor": "white",
            "gridcolor": "#DFE8F3",
            "gridwidth": 2,
            "linecolor": "#EBF0F8",
            "showbackground": true,
            "ticks": "",
            "zerolinecolor": "#EBF0F8"
           }
          },
          "shapedefaults": {
           "line": {
            "color": "#2a3f5f"
           }
          },
          "ternary": {
           "aaxis": {
            "gridcolor": "#DFE8F3",
            "linecolor": "#A2B1C6",
            "ticks": ""
           },
           "baxis": {
            "gridcolor": "#DFE8F3",
            "linecolor": "#A2B1C6",
            "ticks": ""
           },
           "bgcolor": "white",
           "caxis": {
            "gridcolor": "#DFE8F3",
            "linecolor": "#A2B1C6",
            "ticks": ""
           }
          },
          "title": {
           "x": 0.05
          },
          "xaxis": {
           "automargin": true,
           "gridcolor": "#EBF0F8",
           "linecolor": "#EBF0F8",
           "ticks": "",
           "title": {
            "standoff": 15
           },
           "zerolinecolor": "#EBF0F8",
           "zerolinewidth": 2
          },
          "yaxis": {
           "automargin": true,
           "gridcolor": "#EBF0F8",
           "linecolor": "#EBF0F8",
           "ticks": "",
           "title": {
            "standoff": 15
           },
           "zerolinecolor": "#EBF0F8",
           "zerolinewidth": 2
          }
         }
        },
        "title": {
         "text": "Pronóstico y Ajuste de Horas Extra para Marketing con Modelo Exponential Smoothing"
        },
        "xaxis": {
         "title": {
          "text": "Fecha"
         }
        },
        "yaxis": {
         "title": {
          "text": "Horas Extra"
         }
        }
       }
      }
     },
     "metadata": {},
     "output_type": "display_data"
    },
    {
     "name": "stderr",
     "output_type": "stream",
     "text": [
      "2025-08-13 16:27:59,506 - INFO - Columnas disponibles en df_all_data para Sales: ['department', 'ds', 'y']\n",
      "2025-08-13 16:27:59,548 - INFO - Rango de fechas en future_data para Sales: 2025-05-11 00:00:00 a 2025-10-12 00:00:00\n",
      "2025-08-13 16:27:59,548 - INFO - Rango de fechas en future_data para Sales: 2025-05-11 00:00:00 a 2025-10-12 00:00:00\n"
     ]
    },
    {
     "data": {
      "application/vnd.plotly.v1+json": {
       "config": {
        "plotlyServerURL": "https://plot.ly"
       },
       "data": [
        {
         "line": {
          "color": "blue"
         },
         "mode": "lines",
         "name": "Histórico Real",
         "type": "scatter",
         "x": [
          "2023-12-31T00:00:00.000000000",
          "2024-01-14T00:00:00.000000000",
          "2024-01-28T00:00:00.000000000",
          "2024-02-11T00:00:00.000000000",
          "2024-02-25T00:00:00.000000000",
          "2024-03-10T00:00:00.000000000",
          "2024-03-24T00:00:00.000000000",
          "2024-04-07T00:00:00.000000000",
          "2024-04-21T00:00:00.000000000",
          "2024-05-05T00:00:00.000000000",
          "2024-05-19T00:00:00.000000000",
          "2024-06-02T00:00:00.000000000",
          "2024-06-16T00:00:00.000000000",
          "2024-06-30T00:00:00.000000000",
          "2024-07-14T00:00:00.000000000",
          "2024-07-28T00:00:00.000000000",
          "2024-08-11T00:00:00.000000000",
          "2024-08-25T00:00:00.000000000",
          "2024-09-08T00:00:00.000000000",
          "2024-09-22T00:00:00.000000000",
          "2024-10-06T00:00:00.000000000",
          "2024-10-20T00:00:00.000000000",
          "2024-11-03T00:00:00.000000000",
          "2024-11-17T00:00:00.000000000",
          "2024-12-01T00:00:00.000000000",
          "2024-12-15T00:00:00.000000000",
          "2024-12-29T00:00:00.000000000",
          "2025-01-12T00:00:00.000000000",
          "2025-01-26T00:00:00.000000000",
          "2025-02-09T00:00:00.000000000",
          "2025-02-23T00:00:00.000000000",
          "2025-03-09T00:00:00.000000000",
          "2025-03-23T00:00:00.000000000",
          "2025-04-06T00:00:00.000000000",
          "2025-04-20T00:00:00.000000000",
          "2025-05-04T00:00:00.000000000"
         ],
         "y": {
          "bdata": "AAAAAAAA+H9wPQrXo8qCQOxRuB6Fa4VArkfhehRIhUBwPQrXo8yBQK5H4XoUpoVAHoXrUbgghUBmZmZmZgKGQArXo3A93IVAmpmZmZmBhECamZmZmV+DQPYoXI/CpYNAUrgehevrg0CuR+F6FDKEQArXo3A9eIRA16NwPQplhEDXo3A9CrWDQHsUrkfhuIZAwvUoXI8kg0CamZmZmZWJQPYoXI/CoYdAKVyPwvWwhUBcj8L1KHaGQArXo3A9/oNAHoXrUTjGhEAzMzMzM46FQEjhehQuVoZAXI/C9Sgeh0AK16NwPbqCQML1KFyPbIRACtejcD0ug0AzMzMzM4mFQFyPwvUoLoZANDMzMzOLhUCamZmZmbuGQJqZmZmZu4ZA",
          "dtype": "f8"
         }
        },
        {
         "line": {
          "color": "orange",
          "dash": "dash"
         },
         "mode": "lines",
         "name": "Predicción Histórica",
         "type": "scatter",
         "x": [
          "2023-12-31T00:00:00.000000000",
          "2024-01-14T00:00:00.000000000",
          "2024-01-28T00:00:00.000000000",
          "2024-02-11T00:00:00.000000000",
          "2024-02-25T00:00:00.000000000",
          "2024-03-10T00:00:00.000000000",
          "2024-03-24T00:00:00.000000000",
          "2024-04-07T00:00:00.000000000",
          "2024-04-21T00:00:00.000000000",
          "2024-05-05T00:00:00.000000000",
          "2024-05-19T00:00:00.000000000",
          "2024-06-02T00:00:00.000000000",
          "2024-06-16T00:00:00.000000000",
          "2024-06-30T00:00:00.000000000",
          "2024-07-14T00:00:00.000000000",
          "2024-07-28T00:00:00.000000000",
          "2024-08-11T00:00:00.000000000",
          "2024-08-25T00:00:00.000000000",
          "2024-09-08T00:00:00.000000000",
          "2024-09-22T00:00:00.000000000",
          "2024-10-06T00:00:00.000000000",
          "2024-10-20T00:00:00.000000000",
          "2024-11-03T00:00:00.000000000",
          "2024-11-17T00:00:00.000000000",
          "2024-12-01T00:00:00.000000000",
          "2024-12-15T00:00:00.000000000",
          "2024-12-29T00:00:00.000000000",
          "2025-01-12T00:00:00.000000000",
          "2025-01-26T00:00:00.000000000",
          "2025-02-09T00:00:00.000000000",
          "2025-02-23T00:00:00.000000000",
          "2025-03-09T00:00:00.000000000",
          "2025-03-23T00:00:00.000000000",
          "2025-04-06T00:00:00.000000000",
          "2025-04-20T00:00:00.000000000",
          "2025-05-04T00:00:00.000000000"
         ],
         "y": {
          "bdata": "5bd8C7TFhEDGEh35QnGEQHJIwNQjzINAHFdvJZEJhECxzGgV0XqDQHeXPVsCYoRAmPS0nD+QhkA8ILLW+fKFQAhjdZpZoIVAhU4Ej5V7hUDL+pPeFo6DQMHTOzovCoRAAi7qXBt8hEBe8zpjii+FQE4JgFBC2YRADgkmyrMwhEAGr95qMW+EQMXD7rp23YNArIoESxLJhEBbNcrJKAKHQIxn12OcYYZAJzac0y8NhkATysRTh+eFQBZc+DAx8INAAaDzWY5uhEBNgQeHiuKEQKLoZctOmYVAt7LJyCxBhUCny9hsLJWEQKxwV/K21IRA2aXbmv8/hECA0VyhATCFQDycAo7sc4dACmh8fRrQhkAK4FsT4nmGQCZIH01VU4ZA",
          "dtype": "f8"
         }
        },
        {
         "line": {
          "color": "red",
          "dash": "dot"
         },
         "mode": "lines",
         "name": "Pronóstico Futuro",
         "type": "scatter",
         "x": [
          "2025-05-11T00:00:00.000000000",
          "2025-05-25T00:00:00.000000000",
          "2025-06-08T00:00:00.000000000",
          "2025-06-22T00:00:00.000000000",
          "2025-07-06T00:00:00.000000000",
          "2025-07-20T00:00:00.000000000",
          "2025-08-03T00:00:00.000000000",
          "2025-08-17T00:00:00.000000000",
          "2025-08-31T00:00:00.000000000",
          "2025-09-14T00:00:00.000000000",
          "2025-09-28T00:00:00.000000000",
          "2025-10-12T00:00:00.000000000"
         ],
         "y": {
          "bdata": "Nsr4KVH6g0AhALM/owOFQJWFgHvtGoZAk5Q3xLYwhkA02qeJPeKHQCTuGDv8PIdA3tYtu+UxhUDJmyyJRnqFQPL0BIRD0YRAw7wPKi6BhUAPe8ZCV+GFQLId4VbFJIZA",
          "dtype": "f8"
         }
        },
        {
         "fill": "toself",
         "fillcolor": "rgba(255,0,0,0.1)",
         "hoverinfo": "skip",
         "line": {
          "color": "rgba(255,255,255,0)"
         },
         "name": "Intervalo de Confianza",
         "showlegend": false,
         "type": "scatter",
         "x": [
          "2025-05-11T00:00:00",
          "2025-05-25T00:00:00",
          "2025-06-08T00:00:00",
          "2025-06-22T00:00:00",
          "2025-07-06T00:00:00",
          "2025-07-20T00:00:00",
          "2025-08-03T00:00:00",
          "2025-08-17T00:00:00",
          "2025-08-31T00:00:00",
          "2025-09-14T00:00:00",
          "2025-09-28T00:00:00",
          "2025-10-12T00:00:00",
          "2025-10-12T00:00:00",
          "2025-09-28T00:00:00",
          "2025-09-14T00:00:00",
          "2025-08-31T00:00:00",
          "2025-08-17T00:00:00",
          "2025-08-03T00:00:00",
          "2025-07-20T00:00:00",
          "2025-07-06T00:00:00",
          "2025-06-22T00:00:00",
          "2025-06-08T00:00:00",
          "2025-05-25T00:00:00",
          "2025-05-11T00:00:00"
         ],
         "y": [
          686.575946458474,
          717.6736019966909,
          751.7168031089219,
          757.547385232947,
          813.4243585994816,
          793.9033822931569,
          728.5212306597301,
          732.892197398526,
          712.6759188632599,
          734.0466729943685,
          745.3340506548889,
          756.0262174796312,
          661.2882482076745,
          649.058689633016,
          639.8732141035584,
          618.9481728559173,
          639.2297473954458,
          629.323149513877,
          698.4141184073568,
          717.3706078289102,
          664.9331921085021,
          660.9261468759249,
          624.6824357889213,
          588.1906649337915
         ]
        }
       ],
       "layout": {
        "legend": {
         "orientation": "h",
         "x": 0.5,
         "xanchor": "center",
         "y": 1.02,
         "yanchor": "bottom"
        },
        "template": {
         "data": {
          "bar": [
           {
            "error_x": {
             "color": "#2a3f5f"
            },
            "error_y": {
             "color": "#2a3f5f"
            },
            "marker": {
             "line": {
              "color": "white",
              "width": 0.5
             },
             "pattern": {
              "fillmode": "overlay",
              "size": 10,
              "solidity": 0.2
             }
            },
            "type": "bar"
           }
          ],
          "barpolar": [
           {
            "marker": {
             "line": {
              "color": "white",
              "width": 0.5
             },
             "pattern": {
              "fillmode": "overlay",
              "size": 10,
              "solidity": 0.2
             }
            },
            "type": "barpolar"
           }
          ],
          "carpet": [
           {
            "aaxis": {
             "endlinecolor": "#2a3f5f",
             "gridcolor": "#C8D4E3",
             "linecolor": "#C8D4E3",
             "minorgridcolor": "#C8D4E3",
             "startlinecolor": "#2a3f5f"
            },
            "baxis": {
             "endlinecolor": "#2a3f5f",
             "gridcolor": "#C8D4E3",
             "linecolor": "#C8D4E3",
             "minorgridcolor": "#C8D4E3",
             "startlinecolor": "#2a3f5f"
            },
            "type": "carpet"
           }
          ],
          "choropleth": [
           {
            "colorbar": {
             "outlinewidth": 0,
             "ticks": ""
            },
            "type": "choropleth"
           }
          ],
          "contour": [
           {
            "colorbar": {
             "outlinewidth": 0,
             "ticks": ""
            },
            "colorscale": [
             [
              0,
              "#0d0887"
             ],
             [
              0.1111111111111111,
              "#46039f"
             ],
             [
              0.2222222222222222,
              "#7201a8"
             ],
             [
              0.3333333333333333,
              "#9c179e"
             ],
             [
              0.4444444444444444,
              "#bd3786"
             ],
             [
              0.5555555555555556,
              "#d8576b"
             ],
             [
              0.6666666666666666,
              "#ed7953"
             ],
             [
              0.7777777777777778,
              "#fb9f3a"
             ],
             [
              0.8888888888888888,
              "#fdca26"
             ],
             [
              1,
              "#f0f921"
             ]
            ],
            "type": "contour"
           }
          ],
          "contourcarpet": [
           {
            "colorbar": {
             "outlinewidth": 0,
             "ticks": ""
            },
            "type": "contourcarpet"
           }
          ],
          "heatmap": [
           {
            "colorbar": {
             "outlinewidth": 0,
             "ticks": ""
            },
            "colorscale": [
             [
              0,
              "#0d0887"
             ],
             [
              0.1111111111111111,
              "#46039f"
             ],
             [
              0.2222222222222222,
              "#7201a8"
             ],
             [
              0.3333333333333333,
              "#9c179e"
             ],
             [
              0.4444444444444444,
              "#bd3786"
             ],
             [
              0.5555555555555556,
              "#d8576b"
             ],
             [
              0.6666666666666666,
              "#ed7953"
             ],
             [
              0.7777777777777778,
              "#fb9f3a"
             ],
             [
              0.8888888888888888,
              "#fdca26"
             ],
             [
              1,
              "#f0f921"
             ]
            ],
            "type": "heatmap"
           }
          ],
          "histogram": [
           {
            "marker": {
             "pattern": {
              "fillmode": "overlay",
              "size": 10,
              "solidity": 0.2
             }
            },
            "type": "histogram"
           }
          ],
          "histogram2d": [
           {
            "colorbar": {
             "outlinewidth": 0,
             "ticks": ""
            },
            "colorscale": [
             [
              0,
              "#0d0887"
             ],
             [
              0.1111111111111111,
              "#46039f"
             ],
             [
              0.2222222222222222,
              "#7201a8"
             ],
             [
              0.3333333333333333,
              "#9c179e"
             ],
             [
              0.4444444444444444,
              "#bd3786"
             ],
             [
              0.5555555555555556,
              "#d8576b"
             ],
             [
              0.6666666666666666,
              "#ed7953"
             ],
             [
              0.7777777777777778,
              "#fb9f3a"
             ],
             [
              0.8888888888888888,
              "#fdca26"
             ],
             [
              1,
              "#f0f921"
             ]
            ],
            "type": "histogram2d"
           }
          ],
          "histogram2dcontour": [
           {
            "colorbar": {
             "outlinewidth": 0,
             "ticks": ""
            },
            "colorscale": [
             [
              0,
              "#0d0887"
             ],
             [
              0.1111111111111111,
              "#46039f"
             ],
             [
              0.2222222222222222,
              "#7201a8"
             ],
             [
              0.3333333333333333,
              "#9c179e"
             ],
             [
              0.4444444444444444,
              "#bd3786"
             ],
             [
              0.5555555555555556,
              "#d8576b"
             ],
             [
              0.6666666666666666,
              "#ed7953"
             ],
             [
              0.7777777777777778,
              "#fb9f3a"
             ],
             [
              0.8888888888888888,
              "#fdca26"
             ],
             [
              1,
              "#f0f921"
             ]
            ],
            "type": "histogram2dcontour"
           }
          ],
          "mesh3d": [
           {
            "colorbar": {
             "outlinewidth": 0,
             "ticks": ""
            },
            "type": "mesh3d"
           }
          ],
          "parcoords": [
           {
            "line": {
             "colorbar": {
              "outlinewidth": 0,
              "ticks": ""
             }
            },
            "type": "parcoords"
           }
          ],
          "pie": [
           {
            "automargin": true,
            "type": "pie"
           }
          ],
          "scatter": [
           {
            "fillpattern": {
             "fillmode": "overlay",
             "size": 10,
             "solidity": 0.2
            },
            "type": "scatter"
           }
          ],
          "scatter3d": [
           {
            "line": {
             "colorbar": {
              "outlinewidth": 0,
              "ticks": ""
             }
            },
            "marker": {
             "colorbar": {
              "outlinewidth": 0,
              "ticks": ""
             }
            },
            "type": "scatter3d"
           }
          ],
          "scattercarpet": [
           {
            "marker": {
             "colorbar": {
              "outlinewidth": 0,
              "ticks": ""
             }
            },
            "type": "scattercarpet"
           }
          ],
          "scattergeo": [
           {
            "marker": {
             "colorbar": {
              "outlinewidth": 0,
              "ticks": ""
             }
            },
            "type": "scattergeo"
           }
          ],
          "scattergl": [
           {
            "marker": {
             "colorbar": {
              "outlinewidth": 0,
              "ticks": ""
             }
            },
            "type": "scattergl"
           }
          ],
          "scattermap": [
           {
            "marker": {
             "colorbar": {
              "outlinewidth": 0,
              "ticks": ""
             }
            },
            "type": "scattermap"
           }
          ],
          "scattermapbox": [
           {
            "marker": {
             "colorbar": {
              "outlinewidth": 0,
              "ticks": ""
             }
            },
            "type": "scattermapbox"
           }
          ],
          "scatterpolar": [
           {
            "marker": {
             "colorbar": {
              "outlinewidth": 0,
              "ticks": ""
             }
            },
            "type": "scatterpolar"
           }
          ],
          "scatterpolargl": [
           {
            "marker": {
             "colorbar": {
              "outlinewidth": 0,
              "ticks": ""
             }
            },
            "type": "scatterpolargl"
           }
          ],
          "scatterternary": [
           {
            "marker": {
             "colorbar": {
              "outlinewidth": 0,
              "ticks": ""
             }
            },
            "type": "scatterternary"
           }
          ],
          "surface": [
           {
            "colorbar": {
             "outlinewidth": 0,
             "ticks": ""
            },
            "colorscale": [
             [
              0,
              "#0d0887"
             ],
             [
              0.1111111111111111,
              "#46039f"
             ],
             [
              0.2222222222222222,
              "#7201a8"
             ],
             [
              0.3333333333333333,
              "#9c179e"
             ],
             [
              0.4444444444444444,
              "#bd3786"
             ],
             [
              0.5555555555555556,
              "#d8576b"
             ],
             [
              0.6666666666666666,
              "#ed7953"
             ],
             [
              0.7777777777777778,
              "#fb9f3a"
             ],
             [
              0.8888888888888888,
              "#fdca26"
             ],
             [
              1,
              "#f0f921"
             ]
            ],
            "type": "surface"
           }
          ],
          "table": [
           {
            "cells": {
             "fill": {
              "color": "#EBF0F8"
             },
             "line": {
              "color": "white"
             }
            },
            "header": {
             "fill": {
              "color": "#C8D4E3"
             },
             "line": {
              "color": "white"
             }
            },
            "type": "table"
           }
          ]
         },
         "layout": {
          "annotationdefaults": {
           "arrowcolor": "#2a3f5f",
           "arrowhead": 0,
           "arrowwidth": 1
          },
          "autotypenumbers": "strict",
          "coloraxis": {
           "colorbar": {
            "outlinewidth": 0,
            "ticks": ""
           }
          },
          "colorscale": {
           "diverging": [
            [
             0,
             "#8e0152"
            ],
            [
             0.1,
             "#c51b7d"
            ],
            [
             0.2,
             "#de77ae"
            ],
            [
             0.3,
             "#f1b6da"
            ],
            [
             0.4,
             "#fde0ef"
            ],
            [
             0.5,
             "#f7f7f7"
            ],
            [
             0.6,
             "#e6f5d0"
            ],
            [
             0.7,
             "#b8e186"
            ],
            [
             0.8,
             "#7fbc41"
            ],
            [
             0.9,
             "#4d9221"
            ],
            [
             1,
             "#276419"
            ]
           ],
           "sequential": [
            [
             0,
             "#0d0887"
            ],
            [
             0.1111111111111111,
             "#46039f"
            ],
            [
             0.2222222222222222,
             "#7201a8"
            ],
            [
             0.3333333333333333,
             "#9c179e"
            ],
            [
             0.4444444444444444,
             "#bd3786"
            ],
            [
             0.5555555555555556,
             "#d8576b"
            ],
            [
             0.6666666666666666,
             "#ed7953"
            ],
            [
             0.7777777777777778,
             "#fb9f3a"
            ],
            [
             0.8888888888888888,
             "#fdca26"
            ],
            [
             1,
             "#f0f921"
            ]
           ],
           "sequentialminus": [
            [
             0,
             "#0d0887"
            ],
            [
             0.1111111111111111,
             "#46039f"
            ],
            [
             0.2222222222222222,
             "#7201a8"
            ],
            [
             0.3333333333333333,
             "#9c179e"
            ],
            [
             0.4444444444444444,
             "#bd3786"
            ],
            [
             0.5555555555555556,
             "#d8576b"
            ],
            [
             0.6666666666666666,
             "#ed7953"
            ],
            [
             0.7777777777777778,
             "#fb9f3a"
            ],
            [
             0.8888888888888888,
             "#fdca26"
            ],
            [
             1,
             "#f0f921"
            ]
           ]
          },
          "colorway": [
           "#636efa",
           "#EF553B",
           "#00cc96",
           "#ab63fa",
           "#FFA15A",
           "#19d3f3",
           "#FF6692",
           "#B6E880",
           "#FF97FF",
           "#FECB52"
          ],
          "font": {
           "color": "#2a3f5f"
          },
          "geo": {
           "bgcolor": "white",
           "lakecolor": "white",
           "landcolor": "white",
           "showlakes": true,
           "showland": true,
           "subunitcolor": "#C8D4E3"
          },
          "hoverlabel": {
           "align": "left"
          },
          "hovermode": "closest",
          "mapbox": {
           "style": "light"
          },
          "paper_bgcolor": "white",
          "plot_bgcolor": "white",
          "polar": {
           "angularaxis": {
            "gridcolor": "#EBF0F8",
            "linecolor": "#EBF0F8",
            "ticks": ""
           },
           "bgcolor": "white",
           "radialaxis": {
            "gridcolor": "#EBF0F8",
            "linecolor": "#EBF0F8",
            "ticks": ""
           }
          },
          "scene": {
           "xaxis": {
            "backgroundcolor": "white",
            "gridcolor": "#DFE8F3",
            "gridwidth": 2,
            "linecolor": "#EBF0F8",
            "showbackground": true,
            "ticks": "",
            "zerolinecolor": "#EBF0F8"
           },
           "yaxis": {
            "backgroundcolor": "white",
            "gridcolor": "#DFE8F3",
            "gridwidth": 2,
            "linecolor": "#EBF0F8",
            "showbackground": true,
            "ticks": "",
            "zerolinecolor": "#EBF0F8"
           },
           "zaxis": {
            "backgroundcolor": "white",
            "gridcolor": "#DFE8F3",
            "gridwidth": 2,
            "linecolor": "#EBF0F8",
            "showbackground": true,
            "ticks": "",
            "zerolinecolor": "#EBF0F8"
           }
          },
          "shapedefaults": {
           "line": {
            "color": "#2a3f5f"
           }
          },
          "ternary": {
           "aaxis": {
            "gridcolor": "#DFE8F3",
            "linecolor": "#A2B1C6",
            "ticks": ""
           },
           "baxis": {
            "gridcolor": "#DFE8F3",
            "linecolor": "#A2B1C6",
            "ticks": ""
           },
           "bgcolor": "white",
           "caxis": {
            "gridcolor": "#DFE8F3",
            "linecolor": "#A2B1C6",
            "ticks": ""
           }
          },
          "title": {
           "x": 0.05
          },
          "xaxis": {
           "automargin": true,
           "gridcolor": "#EBF0F8",
           "linecolor": "#EBF0F8",
           "ticks": "",
           "title": {
            "standoff": 15
           },
           "zerolinecolor": "#EBF0F8",
           "zerolinewidth": 2
          },
          "yaxis": {
           "automargin": true,
           "gridcolor": "#EBF0F8",
           "linecolor": "#EBF0F8",
           "ticks": "",
           "title": {
            "standoff": 15
           },
           "zerolinecolor": "#EBF0F8",
           "zerolinewidth": 2
          }
         }
        },
        "title": {
         "text": "Pronóstico y Ajuste de Horas Extra para Sales con Modelo Prophet"
        },
        "xaxis": {
         "title": {
          "text": "Fecha"
         }
        },
        "yaxis": {
         "title": {
          "text": "Horas Extra"
         }
        }
       }
      }
     },
     "metadata": {},
     "output_type": "display_data"
    }
   ],
   "source": [
    "def plot_forecast_combined(historical_data, historical_pred, future_forecast, dept, best_model_name):\n",
    "    fig = go.Figure()\n",
    "\n",
    "    # Asegurarse de que los índices sean fechas continuas y ordenadas\n",
    "    historical_data = historical_data.sort_index()\n",
    "    historical_pred = historical_pred.sort_index()\n",
    "\n",
    "    # Convertir future_forecast a DataFrame si es una Serie, usando el índice como 'ds'\n",
    "    if isinstance(future_forecast, pd.Series):\n",
    "        future_data = pd.DataFrame({\n",
    "            'ds': future_forecast.index,\n",
    "            'yhat': future_forecast.values\n",
    "        })\n",
    "        # Generar intervalos de confianza aproximados si no están presentes\n",
    "        if 'yhat_lower' not in future_data.columns or 'yhat_upper' not in future_data.columns:\n",
    "            future_data['yhat_lower'] = future_data['yhat'] * 0.9\n",
    "            future_data['yhat_upper'] = future_data['yhat'] * 1.1\n",
    "    elif isinstance(future_forecast, pd.DataFrame):\n",
    "        future_data = future_forecast.copy()\n",
    "        if 'ds' not in future_data.columns:\n",
    "            future_data['ds'] = pd.to_datetime(future_data.index)\n",
    "        if 'yhat' not in future_data.columns:\n",
    "            raise ValueError(\"future_forecast debe contener la columna 'yhat'\")\n",
    "        if 'yhat_lower' not in future_data.columns or 'yhat_upper' not in future_data.columns:\n",
    "            future_data['yhat_lower'] = future_data['yhat'] * 0.9  # Placeholder\n",
    "            future_data['yhat_upper'] = future_data['yhat'] * 1.1  # Placeholder\n",
    "    else:\n",
    "        raise ValueError(\"future_forecast debe ser una Serie o DataFrame\")\n",
    "\n",
    "    # Convertir 'ds' a datetime si no lo es\n",
    "    future_data['ds'] = pd.to_datetime(future_data['ds'])\n",
    "\n",
    "    # Depuración: Mostrar el rango de fechas en future_data\n",
    "    logging.info(f\"Rango de fechas en future_data para {dept}: {future_data['ds'].min()} a {future_data['ds'].max()}\")\n",
    "\n",
    "    # Agregar la línea de datos históricos reales\n",
    "    fig.add_trace(go.Scatter(x=historical_data.index, y=historical_data, mode='lines', name='Histórico Real', line=dict(color='blue')))\n",
    "\n",
    "    # Agregar la línea de predicción histórica (amarillo dash)\n",
    "    fig.add_trace(go.Scatter(x=historical_pred.index, y=historical_pred['yhat'], mode='lines', name='Predicción Histórica', line=dict(color='orange', dash='dash')))\n",
    "\n",
    "    # Agregar la línea de pronóstico futuro (rojo punteado)\n",
    "    future_mask = future_data['ds'] > historical_data.index[-1]\n",
    "    if not future_mask.any():\n",
    "        logging.warning(f\"No hay datos futuros para {dept}. Verifica future_periods en calculate_metrics.\")\n",
    "    fig.add_trace(go.Scatter(x=future_data.loc[future_mask, 'ds'], y=future_data.loc[future_mask, 'yhat'], mode='lines', name='Pronóstico Futuro', line=dict(color='red', dash='dot')))\n",
    "\n",
    "    # Agregar el intervalo de confianza para el pronóstico futuro\n",
    "    fig.add_trace(go.Scatter(\n",
    "        x=future_data.loc[future_mask, 'ds'].tolist() + future_data.loc[future_mask, 'ds'].tolist()[::-1],\n",
    "        y=future_data.loc[future_mask, 'yhat_upper'].tolist() + future_data.loc[future_mask, 'yhat_lower'].tolist()[::-1],\n",
    "        fill='toself',\n",
    "        fillcolor='rgba(255,0,0,0.1)',\n",
    "        line=dict(color='rgba(255,255,255,0)'),\n",
    "        hoverinfo=\"skip\",\n",
    "        showlegend=False,\n",
    "        name='Intervalo de Confianza'\n",
    "    ))\n",
    "\n",
    "    fig.update_layout(\n",
    "        title=f\"Pronóstico y Ajuste de Horas Extra para {dept} con Modelo {best_model_name}\",\n",
    "        xaxis_title=\"Fecha\",\n",
    "        yaxis_title=\"Horas Extra\",\n",
    "        legend=dict(\n",
    "            orientation=\"h\",\n",
    "            yanchor=\"bottom\",\n",
    "            y=1.02,\n",
    "            xanchor=\"center\",\n",
    "            x=0.5\n",
    "        ),\n",
    "        template=\"plotly_white\"\n",
    "    )\n",
    "    fig.show()\n",
    "\n",
    "import pandas as pd\n",
    "import logging\n",
    "\n",
    "logging.basicConfig(level=logging.INFO, format='%(asctime)s - %(levelname)s - %(message)s')\n",
    "\n",
    "# Asegurarse de que dept_data tenga el índice correcto\n",
    "for dept in all_forecasts:\n",
    "    # Verificar las columnas disponibles en df_all_data\n",
    "    logging.info(f\"Columnas disponibles en df_all_data para {dept}: {df_all_data.columns.tolist()}\")\n",
    "    \n",
    "    # Ajustar el nombre de la columna de horas extra\n",
    "    overtime_column = 'total_overtime' if 'total_overtime' in df_all_data.columns else 'y' if 'y' in df_all_data.columns else None\n",
    "    if overtime_column is None:\n",
    "        logging.error(f\"No se encontró una columna de horas extra (e.g., 'total_overtime' o 'y') en df_all_data para {dept}\")\n",
    "        raise KeyError(f\"No se encontró columna de horas extra en df_all_data para {dept}\")\n",
    "    \n",
    "    dept_data = df_all_data[df_all_data['department'] == dept].set_index('ds')[overtime_column]\n",
    "    future_forecast = all_forecasts[dept]['future']\n",
    "    historical_pred = all_forecasts[dept]['historical_pred']\n",
    "    \n",
    "    # Verificar y ajustar future_forecast si es necesario\n",
    "    if isinstance(future_forecast, pd.Series):\n",
    "        future_forecast = pd.DataFrame({'ds': future_forecast.index, 'yhat': future_forecast.values})\n",
    "        if 'yhat_lower' not in future_forecast.columns or 'yhat_upper' not in future_forecast.columns:\n",
    "            future_forecast['yhat_lower'] = future_forecast['yhat'] * 0.9\n",
    "            future_forecast['yhat_upper'] = future_forecast['yhat'] * 1.1\n",
    "    \n",
    "    # Asegurarse de que future_forecast contenga datos futuros\n",
    "    if isinstance(future_forecast, pd.DataFrame) and 'ds' in future_forecast.columns:\n",
    "        future_dates = pd.to_datetime(future_forecast['ds'])\n",
    "        if future_dates.min() < dept_data.index[-1]:\n",
    "            future_forecast = future_forecast[future_forecast['ds'] > dept_data.index[-1]].reset_index(drop=True)\n",
    "            logging.info(f\"Ajustado future_forecast para {dept} a partir de {dept_data.index[-1]}\")\n",
    "        elif future_dates.min() > dept_data.index[-1] + pd.Timedelta(days=1):\n",
    "            logging.warning(f\"future_forecast para {dept} comienza en {future_dates.min()} cuando debería ser después de {dept_data.index[-1]}\")\n",
    "    \n",
    "    plot_forecast_combined(dept_data, historical_pred, future_forecast, dept, all_metrics[dept].iloc[0]['Modelo'])"
   ]
  },
  {
   "cell_type": "markdown",
   "id": "new_metrics",
   "metadata": {},
   "source": [
    "## 6. Guardar Resultados\n",
    "\n",
    "Guardamos los modelos, predicciones y métricas en SQL Server. La tabla Overtime_Predictions incluye datos históricos y predicciones con una columna data_type para distinguir entre \"Histórico\" y \"Forecast\".\n"
   ]
  },
  {
   "cell_type": "code",
   "execution_count": 30,
   "id": "b2c90e4c",
   "metadata": {},
   "outputs": [
    {
     "name": "stderr",
     "output_type": "stream",
     "text": [
      "2025-08-13 16:28:59,754 - INFO - Timestamp establecido: 2025-08-13 16:28:59.754076\n",
      "2025-08-13 16:28:59,779 - INFO - Desviación estándar de los residuales aditivos: 4.87\n",
      "2025-08-13 16:28:59,779 - INFO - Desviación estándar de los residuales aditivos: 4.87\n",
      "2025-08-13 16:28:59,781 - INFO - Desviación estándar de los residuales multiplicativos: 0.16\n",
      "2025-08-13 16:28:59,781 - INFO - Desviación estándar de los residuales multiplicativos: 0.16\n",
      "2025-08-13 16:28:59,797 - INFO - P-value del test ADF: 0.00\n",
      "2025-08-13 16:28:59,797 - INFO - P-value del test ADF: 0.00\n",
      "2025-08-13 16:28:59,802 - INFO - Criterio de selección: La desviación estándar de los residuos multiplicative es menor.\n",
      "2025-08-13 16:28:59,802 - INFO - Criterio de selección: La desviación estándar de los residuos multiplicative es menor.\n",
      "2025-08-13 16:29:06,422 - INFO - Modelo ARIMA guardado para Finance en: Modelos Entrenados/overtime_forecast_model_Finance_ARIMA.pkl\n",
      "2025-08-13 16:29:06,431 - INFO - y - Actual data: len=8, mean=30.22, std=5.92\n",
      "2025-08-13 16:29:06,434 - INFO - y - Predictions: len=8, mean=30.94, std=1.28\n",
      "2025-08-13 16:29:06,422 - INFO - Modelo ARIMA guardado para Finance en: Modelos Entrenados/overtime_forecast_model_Finance_ARIMA.pkl\n",
      "2025-08-13 16:29:06,431 - INFO - y - Actual data: len=8, mean=30.22, std=5.92\n",
      "2025-08-13 16:29:06,434 - INFO - y - Predictions: len=8, mean=30.94, std=1.28\n",
      "2025-08-13 16:29:06,489 - INFO - Índice de future_forecast para Finance: DatetimeIndex(['2025-05-11', '2025-05-25', '2025-06-08'], dtype='datetime64[ns]', freq='2W-SUN')... (len=12)\n",
      "2025-08-13 16:29:06,492 - INFO - Primeras fechas esperadas: DatetimeIndex(['2025-05-11', '2025-05-25', '2025-06-08'], dtype='datetime64[ns]', freq='2W-SUN')...\n",
      "2025-08-13 16:29:06,489 - INFO - Índice de future_forecast para Finance: DatetimeIndex(['2025-05-11', '2025-05-25', '2025-06-08'], dtype='datetime64[ns]', freq='2W-SUN')... (len=12)\n",
      "2025-08-13 16:29:06,492 - INFO - Primeras fechas esperadas: DatetimeIndex(['2025-05-11', '2025-05-25', '2025-06-08'], dtype='datetime64[ns]', freq='2W-SUN')...\n",
      "2025-08-13 16:29:06,524 - INFO - Desviación estándar de los residuales aditivos: 4.23\n",
      "2025-08-13 16:29:06,528 - INFO - Desviación estándar de los residuales multiplicativos: 0.08\n",
      "2025-08-13 16:29:06,531 - INFO - P-value del test ADF: 0.01\n",
      "2025-08-13 16:29:06,533 - INFO - Criterio de selección: La desviación estándar de los residuos multiplicative es menor.\n",
      "2025-08-13 16:29:06,524 - INFO - Desviación estándar de los residuales aditivos: 4.23\n",
      "2025-08-13 16:29:06,528 - INFO - Desviación estándar de los residuales multiplicativos: 0.08\n",
      "2025-08-13 16:29:06,531 - INFO - P-value del test ADF: 0.01\n",
      "2025-08-13 16:29:06,533 - INFO - Criterio de selección: La desviación estándar de los residuos multiplicative es menor.\n",
      "2025-08-13 16:29:09,445 - INFO - Modelo ARIMA guardado para HR en: Modelos Entrenados/overtime_forecast_model_HR_ARIMA.pkl\n",
      "2025-08-13 16:29:09,454 - INFO - y - Actual data: len=8, mean=43.90, std=12.02\n",
      "2025-08-13 16:29:09,457 - INFO - y - Predictions: len=8, mean=45.99, std=3.98\n",
      "2025-08-13 16:29:09,445 - INFO - Modelo ARIMA guardado para HR en: Modelos Entrenados/overtime_forecast_model_HR_ARIMA.pkl\n",
      "2025-08-13 16:29:09,454 - INFO - y - Actual data: len=8, mean=43.90, std=12.02\n",
      "2025-08-13 16:29:09,457 - INFO - y - Predictions: len=8, mean=45.99, std=3.98\n",
      "2025-08-13 16:29:09,474 - INFO - Índice de future_forecast para HR: DatetimeIndex(['2025-05-11', '2025-05-25', '2025-06-08'], dtype='datetime64[ns]', freq='2W-SUN')... (len=12)\n",
      "2025-08-13 16:29:09,477 - INFO - Primeras fechas esperadas: DatetimeIndex(['2025-05-11', '2025-05-25', '2025-06-08'], dtype='datetime64[ns]', freq='2W-SUN')...\n",
      "2025-08-13 16:29:09,474 - INFO - Índice de future_forecast para HR: DatetimeIndex(['2025-05-11', '2025-05-25', '2025-06-08'], dtype='datetime64[ns]', freq='2W-SUN')... (len=12)\n",
      "2025-08-13 16:29:09,477 - INFO - Primeras fechas esperadas: DatetimeIndex(['2025-05-11', '2025-05-25', '2025-06-08'], dtype='datetime64[ns]', freq='2W-SUN')...\n",
      "2025-08-13 16:29:09,527 - INFO - Desviación estándar de los residuales aditivos: 9.02\n",
      "2025-08-13 16:29:09,530 - INFO - Desviación estándar de los residuales multiplicativos: 0.09\n",
      "2025-08-13 16:29:09,533 - INFO - P-value del test ADF: 0.00\n",
      "2025-08-13 16:29:09,536 - INFO - Criterio de selección: La desviación estándar de los residuos multiplicative es menor.\n",
      "2025-08-13 16:29:09,527 - INFO - Desviación estándar de los residuales aditivos: 9.02\n",
      "2025-08-13 16:29:09,530 - INFO - Desviación estándar de los residuales multiplicativos: 0.09\n",
      "2025-08-13 16:29:09,533 - INFO - P-value del test ADF: 0.00\n",
      "2025-08-13 16:29:09,536 - INFO - Criterio de selección: La desviación estándar de los residuos multiplicative es menor.\n",
      "2025-08-13 16:29:13,981 - INFO - Modelo ARIMA guardado para IT en: Modelos Entrenados/overtime_forecast_model_IT_ARIMA.pkl\n",
      "2025-08-13 16:29:13,991 - INFO - y - Actual data: len=8, mean=105.04, std=22.04\n",
      "2025-08-13 16:29:13,981 - INFO - Modelo ARIMA guardado para IT en: Modelos Entrenados/overtime_forecast_model_IT_ARIMA.pkl\n",
      "2025-08-13 16:29:13,991 - INFO - y - Actual data: len=8, mean=105.04, std=22.04\n",
      "2025-08-13 16:29:13,994 - INFO - y - Predictions: len=8, mean=102.87, std=8.02\n",
      "2025-08-13 16:29:13,994 - INFO - y - Predictions: len=8, mean=102.87, std=8.02\n",
      "2025-08-13 16:29:14,044 - INFO - Índice de future_forecast para IT: DatetimeIndex(['2025-05-11', '2025-05-25', '2025-06-08'], dtype='datetime64[ns]', freq='2W-SUN')... (len=12)\n",
      "2025-08-13 16:29:14,047 - INFO - Primeras fechas esperadas: DatetimeIndex(['2025-05-11', '2025-05-25', '2025-06-08'], dtype='datetime64[ns]', freq='2W-SUN')...\n",
      "2025-08-13 16:29:14,044 - INFO - Índice de future_forecast para IT: DatetimeIndex(['2025-05-11', '2025-05-25', '2025-06-08'], dtype='datetime64[ns]', freq='2W-SUN')... (len=12)\n",
      "2025-08-13 16:29:14,047 - INFO - Primeras fechas esperadas: DatetimeIndex(['2025-05-11', '2025-05-25', '2025-06-08'], dtype='datetime64[ns]', freq='2W-SUN')...\n",
      "2025-08-13 16:29:14,125 - INFO - Desviación estándar de los residuales aditivos: 7.68\n",
      "2025-08-13 16:29:14,128 - INFO - Desviación estándar de los residuales multiplicativos: 0.06\n",
      "2025-08-13 16:29:14,133 - INFO - P-value del test ADF: 0.00\n",
      "2025-08-13 16:29:14,135 - INFO - Criterio de selección: La desviación estándar de los residuos multiplicative es menor.\n",
      "2025-08-13 16:29:14,125 - INFO - Desviación estándar de los residuales aditivos: 7.68\n",
      "2025-08-13 16:29:14,128 - INFO - Desviación estándar de los residuales multiplicativos: 0.06\n",
      "2025-08-13 16:29:14,133 - INFO - P-value del test ADF: 0.00\n",
      "2025-08-13 16:29:14,135 - INFO - Criterio de selección: La desviación estándar de los residuos multiplicative es menor.\n",
      "2025-08-13 16:29:14,315 - INFO - Modelo XGBoost guardado para Inventory en: Modelos Entrenados/overtime_forecast_model_Inventory_XGBoost.pkl\n",
      "2025-08-13 16:29:14,325 - INFO - y - Actual data: len=8, mean=115.56, std=13.23\n",
      "2025-08-13 16:29:14,328 - INFO - y - Predictions: len=8, mean=115.56, std=13.23\n",
      "2025-08-13 16:29:14,315 - INFO - Modelo XGBoost guardado para Inventory en: Modelos Entrenados/overtime_forecast_model_Inventory_XGBoost.pkl\n",
      "2025-08-13 16:29:14,325 - INFO - y - Actual data: len=8, mean=115.56, std=13.23\n",
      "2025-08-13 16:29:14,328 - INFO - y - Predictions: len=8, mean=115.56, std=13.23\n",
      "2025-08-13 16:29:14,348 - WARNING - Índice de future_forecast para Inventory no es datetime. Reconstruyendo índice.\n",
      "2025-08-13 16:29:14,352 - INFO - Índice de future_forecast para Inventory: DatetimeIndex(['2025-05-11', '2025-05-25', '2025-06-08'], dtype='datetime64[ns]', freq='2W-SUN')... (len=12)\n",
      "2025-08-13 16:29:14,354 - INFO - Primeras fechas esperadas: DatetimeIndex(['2025-05-11', '2025-05-25', '2025-06-08'], dtype='datetime64[ns]', freq='2W-SUN')...\n",
      "2025-08-13 16:29:14,348 - WARNING - Índice de future_forecast para Inventory no es datetime. Reconstruyendo índice.\n",
      "2025-08-13 16:29:14,352 - INFO - Índice de future_forecast para Inventory: DatetimeIndex(['2025-05-11', '2025-05-25', '2025-06-08'], dtype='datetime64[ns]', freq='2W-SUN')... (len=12)\n",
      "2025-08-13 16:29:14,354 - INFO - Primeras fechas esperadas: DatetimeIndex(['2025-05-11', '2025-05-25', '2025-06-08'], dtype='datetime64[ns]', freq='2W-SUN')...\n",
      "2025-08-13 16:29:14,437 - INFO - Desviación estándar de los residuales aditivos: 3.56\n",
      "2025-08-13 16:29:14,440 - INFO - Desviación estándar de los residuales multiplicativos: 0.05\n",
      "2025-08-13 16:29:14,443 - INFO - P-value del test ADF: 0.00\n",
      "2025-08-13 16:29:14,446 - INFO - Criterio de selección: La desviación estándar de los residuos multiplicative es menor.\n",
      "2025-08-13 16:29:14,437 - INFO - Desviación estándar de los residuales aditivos: 3.56\n",
      "2025-08-13 16:29:14,440 - INFO - Desviación estándar de los residuales multiplicativos: 0.05\n",
      "2025-08-13 16:29:14,443 - INFO - P-value del test ADF: 0.00\n",
      "2025-08-13 16:29:14,446 - INFO - Criterio de selección: La desviación estándar de los residuos multiplicative es menor.\n",
      "2025-08-13 16:29:15,062 - INFO - Modelo Exponential Smoothing guardado para Marketing en: Modelos Entrenados/overtime_forecast_model_Marketing_Exponential Smoothing.pkl\n",
      "2025-08-13 16:29:15,074 - INFO - y - Actual data: len=8, mean=66.33, std=8.91\n",
      "2025-08-13 16:29:15,062 - INFO - Modelo Exponential Smoothing guardado para Marketing en: Modelos Entrenados/overtime_forecast_model_Marketing_Exponential Smoothing.pkl\n",
      "2025-08-13 16:29:15,074 - INFO - y - Actual data: len=8, mean=66.33, std=8.91\n",
      "2025-08-13 16:29:15,078 - INFO - y - Predictions: len=8, mean=65.62, std=6.70\n",
      "2025-08-13 16:29:15,096 - WARNING - Índice de future_forecast para Marketing no es datetime. Reconstruyendo índice.\n",
      "2025-08-13 16:29:15,078 - INFO - y - Predictions: len=8, mean=65.62, std=6.70\n",
      "2025-08-13 16:29:15,096 - WARNING - Índice de future_forecast para Marketing no es datetime. Reconstruyendo índice.\n",
      "2025-08-13 16:29:15,100 - INFO - Índice de future_forecast para Marketing: DatetimeIndex(['2025-05-11', '2025-05-25', '2025-06-08'], dtype='datetime64[ns]', freq='2W-SUN')... (len=12)\n",
      "2025-08-13 16:29:15,106 - INFO - Primeras fechas esperadas: DatetimeIndex(['2025-05-11', '2025-05-25', '2025-06-08'], dtype='datetime64[ns]', freq='2W-SUN')...\n",
      "2025-08-13 16:29:15,100 - INFO - Índice de future_forecast para Marketing: DatetimeIndex(['2025-05-11', '2025-05-25', '2025-06-08'], dtype='datetime64[ns]', freq='2W-SUN')... (len=12)\n",
      "2025-08-13 16:29:15,106 - INFO - Primeras fechas esperadas: DatetimeIndex(['2025-05-11', '2025-05-25', '2025-06-08'], dtype='datetime64[ns]', freq='2W-SUN')...\n",
      "2025-08-13 16:29:15,245 - INFO - Desviación estándar de los residuales aditivos: 27.08\n",
      "2025-08-13 16:29:15,257 - INFO - Desviación estándar de los residuales multiplicativos: 0.04\n",
      "2025-08-13 16:29:15,261 - INFO - P-value del test ADF: 0.00\n",
      "2025-08-13 16:29:15,265 - INFO - Criterio de selección: La desviación estándar de los residuos multiplicative es menor.\n",
      "2025-08-13 16:29:15,245 - INFO - Desviación estándar de los residuales aditivos: 27.08\n",
      "2025-08-13 16:29:15,257 - INFO - Desviación estándar de los residuales multiplicativos: 0.04\n",
      "2025-08-13 16:29:15,261 - INFO - P-value del test ADF: 0.00\n",
      "2025-08-13 16:29:15,265 - INFO - Criterio de selección: La desviación estándar de los residuos multiplicative es menor.\n",
      "2025-08-13 16:29:15,276 - WARNING - Prophet no se guarda en disco para Sales debido a problemas de serialización.\n",
      "2025-08-13 16:29:15,339 - INFO - y - Actual data: len=8, mean=676.23, std=49.35\n",
      "2025-08-13 16:29:15,341 - INFO - y - Predictions: len=8, mean=695.67, std=37.59\n",
      "2025-08-13 16:29:15,356 - INFO - Índice de future_forecast para Sales: DatetimeIndex(['2025-05-11', '2025-05-25', '2025-06-08'], dtype='datetime64[ns]', name='ds', freq=None)... (len=12)\n",
      "2025-08-13 16:29:15,359 - INFO - Primeras fechas esperadas: DatetimeIndex(['2025-05-11', '2025-05-25', '2025-06-08'], dtype='datetime64[ns]', freq='2W-SUN')...\n",
      "2025-08-13 16:29:15,276 - WARNING - Prophet no se guarda en disco para Sales debido a problemas de serialización.\n",
      "2025-08-13 16:29:15,339 - INFO - y - Actual data: len=8, mean=676.23, std=49.35\n",
      "2025-08-13 16:29:15,341 - INFO - y - Predictions: len=8, mean=695.67, std=37.59\n",
      "2025-08-13 16:29:15,356 - INFO - Índice de future_forecast para Sales: DatetimeIndex(['2025-05-11', '2025-05-25', '2025-06-08'], dtype='datetime64[ns]', name='ds', freq=None)... (len=12)\n",
      "2025-08-13 16:29:15,359 - INFO - Primeras fechas esperadas: DatetimeIndex(['2025-05-11', '2025-05-25', '2025-06-08'], dtype='datetime64[ns]', freq='2W-SUN')...\n",
      "2025-08-13 16:29:15,667 - INFO - Conexión a la base de datos exitosa\n",
      "2025-08-13 16:29:15,669 - INFO - Conexión a la base de datos exitosa\n",
      "2025-08-13 16:29:15,667 - INFO - Conexión a la base de datos exitosa\n",
      "2025-08-13 16:29:15,669 - INFO - Conexión a la base de datos exitosa\n",
      "2025-08-13 16:29:19,361 - INFO - Predicciones y métricas guardadas exitosamente\n",
      "2025-08-13 16:29:19,361 - INFO - Predicciones y métricas guardadas exitosamente\n"
     ]
    },
    {
     "name": "stdout",
     "output_type": "stream",
     "text": [
      "\n",
      "=== Resumen de Modelos y Predicciones ===\n",
      "\n",
      "Modelos y Métricas por Departamento:\n"
     ]
    },
    {
     "data": {
      "application/vnd.microsoft.datawrangler.viewer.v0+json": {
       "columns": [
        {
         "name": "index",
         "rawType": "int64",
         "type": "integer"
        },
        {
         "name": "department",
         "rawType": "object",
         "type": "string"
        },
        {
         "name": "rmse",
         "rawType": "float64",
         "type": "float"
        },
        {
         "name": "mae",
         "rawType": "float64",
         "type": "float"
        },
        {
         "name": "smape",
         "rawType": "float64",
         "type": "float"
        },
        {
         "name": "mape",
         "rawType": "float64",
         "type": "float"
        },
        {
         "name": "mase",
         "rawType": "float64",
         "type": "float"
        },
        {
         "name": "model_quality",
         "rawType": "object",
         "type": "string"
        },
        {
         "name": "model_type",
         "rawType": "object",
         "type": "string"
        }
       ],
       "ref": "750c9b4d-e396-45eb-9455-c4afd10b13db",
       "rows": [
        [
         "0",
         "Finance",
         "5.059173394993434",
         "4.28367257826554",
         "14.334099253826748",
         "15.177938853988431",
         "0.5825861287712993",
         "Pobre",
         "ARIMA"
        ],
        [
         "1",
         "HR",
         "11.18869648790509",
         "8.220927506580512",
         "20.884262133313253",
         "25.930421882552967",
         "0.6376342664383777",
         "Pobre",
         "ARIMA"
        ],
        [
         "2",
         "IT",
         "20.702073500230313",
         "15.113122655586874",
         "14.220141778237247",
         "14.315467218084812",
         "0.6187743966140734",
         "Pobre",
         "ARIMA"
        ],
        [
         "3",
         "Inventory",
         "0.0005316280468761995",
         "0.0004076004028323865",
         "0.0003733250134124295",
         "0.000373325778619978",
         "3.3362989006392736e-05",
         "Bueno",
         "XGBoost"
        ],
        [
         "4",
         "Marketing",
         "7.283323929909325",
         "4.961546319883183",
         "7.607099348225418",
         "7.410892037545159",
         "0.45536677906361983",
         "Aceptable",
         "Exponential Smoothing"
        ],
        [
         "5",
         "Sales",
         "32.66137825847871",
         "27.54205410454874",
         "4.088676711761213",
         "4.205065460258477",
         "0.7758637318678472",
         "Bueno",
         "Prophet"
        ]
       ],
       "shape": {
        "columns": 8,
        "rows": 6
       }
      },
      "text/html": [
       "<div>\n",
       "<style scoped>\n",
       "    .dataframe tbody tr th:only-of-type {\n",
       "        vertical-align: middle;\n",
       "    }\n",
       "\n",
       "    .dataframe tbody tr th {\n",
       "        vertical-align: top;\n",
       "    }\n",
       "\n",
       "    .dataframe thead th {\n",
       "        text-align: right;\n",
       "    }\n",
       "</style>\n",
       "<table border=\"1\" class=\"dataframe\">\n",
       "  <thead>\n",
       "    <tr style=\"text-align: right;\">\n",
       "      <th></th>\n",
       "      <th>department</th>\n",
       "      <th>rmse</th>\n",
       "      <th>mae</th>\n",
       "      <th>smape</th>\n",
       "      <th>mape</th>\n",
       "      <th>mase</th>\n",
       "      <th>model_quality</th>\n",
       "      <th>model_type</th>\n",
       "    </tr>\n",
       "  </thead>\n",
       "  <tbody>\n",
       "    <tr>\n",
       "      <th>0</th>\n",
       "      <td>Finance</td>\n",
       "      <td>5.059173</td>\n",
       "      <td>4.283673</td>\n",
       "      <td>14.334099</td>\n",
       "      <td>15.177939</td>\n",
       "      <td>0.582586</td>\n",
       "      <td>Pobre</td>\n",
       "      <td>ARIMA</td>\n",
       "    </tr>\n",
       "    <tr>\n",
       "      <th>1</th>\n",
       "      <td>HR</td>\n",
       "      <td>11.188696</td>\n",
       "      <td>8.220928</td>\n",
       "      <td>20.884262</td>\n",
       "      <td>25.930422</td>\n",
       "      <td>0.637634</td>\n",
       "      <td>Pobre</td>\n",
       "      <td>ARIMA</td>\n",
       "    </tr>\n",
       "    <tr>\n",
       "      <th>2</th>\n",
       "      <td>IT</td>\n",
       "      <td>20.702074</td>\n",
       "      <td>15.113123</td>\n",
       "      <td>14.220142</td>\n",
       "      <td>14.315467</td>\n",
       "      <td>0.618774</td>\n",
       "      <td>Pobre</td>\n",
       "      <td>ARIMA</td>\n",
       "    </tr>\n",
       "    <tr>\n",
       "      <th>3</th>\n",
       "      <td>Inventory</td>\n",
       "      <td>0.000532</td>\n",
       "      <td>0.000408</td>\n",
       "      <td>0.000373</td>\n",
       "      <td>0.000373</td>\n",
       "      <td>0.000033</td>\n",
       "      <td>Bueno</td>\n",
       "      <td>XGBoost</td>\n",
       "    </tr>\n",
       "    <tr>\n",
       "      <th>4</th>\n",
       "      <td>Marketing</td>\n",
       "      <td>7.283324</td>\n",
       "      <td>4.961546</td>\n",
       "      <td>7.607099</td>\n",
       "      <td>7.410892</td>\n",
       "      <td>0.455367</td>\n",
       "      <td>Aceptable</td>\n",
       "      <td>Exponential Smoothing</td>\n",
       "    </tr>\n",
       "    <tr>\n",
       "      <th>5</th>\n",
       "      <td>Sales</td>\n",
       "      <td>32.661378</td>\n",
       "      <td>27.542054</td>\n",
       "      <td>4.088677</td>\n",
       "      <td>4.205065</td>\n",
       "      <td>0.775864</td>\n",
       "      <td>Bueno</td>\n",
       "      <td>Prophet</td>\n",
       "    </tr>\n",
       "  </tbody>\n",
       "</table>\n",
       "</div>"
      ],
      "text/plain": [
       "  department       rmse        mae      smape       mape      mase  \\\n",
       "0    Finance   5.059173   4.283673  14.334099  15.177939  0.582586   \n",
       "1         HR  11.188696   8.220928  20.884262  25.930422  0.637634   \n",
       "2         IT  20.702074  15.113123  14.220142  14.315467  0.618774   \n",
       "3  Inventory   0.000532   0.000408   0.000373   0.000373  0.000033   \n",
       "4  Marketing   7.283324   4.961546   7.607099   7.410892  0.455367   \n",
       "5      Sales  32.661378  27.542054   4.088677   4.205065  0.775864   \n",
       "\n",
       "  model_quality             model_type  \n",
       "0         Pobre                  ARIMA  \n",
       "1         Pobre                  ARIMA  \n",
       "2         Pobre                  ARIMA  \n",
       "3         Bueno                XGBoost  \n",
       "4     Aceptable  Exponential Smoothing  \n",
       "5         Bueno                Prophet  "
      ]
     },
     "metadata": {},
     "output_type": "display_data"
    },
    {
     "name": "stdout",
     "output_type": "stream",
     "text": [
      "\n",
      "Valores Predichos con Intervalos de Confianza:\n"
     ]
    },
    {
     "data": {
      "application/vnd.microsoft.datawrangler.viewer.v0+json": {
       "columns": [
        {
         "name": "index",
         "rawType": "int64",
         "type": "integer"
        },
        {
         "name": "department",
         "rawType": "object",
         "type": "string"
        },
        {
         "name": "prediction_date",
         "rawType": "object",
         "type": "unknown"
        },
        {
         "name": "predicted_value",
         "rawType": "float64",
         "type": "float"
        },
        {
         "name": "confidence_lower",
         "rawType": "float64",
         "type": "float"
        },
        {
         "name": "confidence_upper",
         "rawType": "float64",
         "type": "float"
        }
       ],
       "ref": "9850fda4-4af7-4fff-8f88-c4fd8de5dbaa",
       "rows": [
        [
         "0",
         "Finance",
         "2025-05-11",
         "27.93582679806569",
         "25.14224411825912",
         "30.72940947787226"
        ],
        [
         "1",
         "Finance",
         "2025-05-25",
         "33.24139261965909",
         "29.917253357693177",
         "36.565531881625"
        ],
        [
         "2",
         "Finance",
         "2025-06-08",
         "31.278374702814993",
         "28.150537232533495",
         "34.40621217309649"
        ],
        [
         "3",
         "Finance",
         "2025-06-22",
         "29.692338205500775",
         "26.723104384950698",
         "32.661572026050855"
        ],
        [
         "4",
         "Finance",
         "2025-07-06",
         "30.36036043125045",
         "27.324324388125405",
         "33.39639647437549"
        ],
        [
         "5",
         "Finance",
         "2025-07-20",
         "30.83163589168317",
         "27.748472302514852",
         "33.914799480851485"
        ],
        [
         "6",
         "Finance",
         "2025-08-03",
         "30.60670949175494",
         "27.546038542579446",
         "33.66738044093044"
        ],
        [
         "7",
         "Finance",
         "2025-08-17",
         "30.467602659509225",
         "27.420842393558303",
         "33.51436292546015"
        ],
        [
         "8",
         "Finance",
         "2025-08-31",
         "30.542649127119393",
         "27.488384214407453",
         "33.59691403983133"
        ],
        [
         "9",
         "Finance",
         "2025-09-14",
         "30.583405501697385",
         "27.525064951527646",
         "33.64174605186712"
        ],
        [
         "10",
         "Finance",
         "2025-09-28",
         "30.55856495863864",
         "27.502708462774777",
         "33.614421454502505"
        ],
        [
         "11",
         "Finance",
         "2025-10-12",
         "30.54672409166905",
         "27.492051682502144",
         "33.60139650083595"
        ],
        [
         "12",
         "HR",
         "2025-05-11",
         "36.210430854519444",
         "32.5893877690675",
         "39.83147393997139"
        ],
        [
         "13",
         "HR",
         "2025-05-25",
         "45.794283872149165",
         "41.21485548493425",
         "50.37371225936408"
        ],
        [
         "14",
         "HR",
         "2025-06-08",
         "45.794283872149165",
         "41.21485548493425",
         "50.37371225936408"
        ],
        [
         "15",
         "HR",
         "2025-06-22",
         "45.794283872149165",
         "41.21485548493425",
         "50.37371225936408"
        ],
        [
         "16",
         "HR",
         "2025-07-06",
         "45.794283872149165",
         "41.21485548493425",
         "50.37371225936408"
        ],
        [
         "17",
         "HR",
         "2025-07-20",
         "45.794283872149165",
         "41.21485548493425",
         "50.37371225936408"
        ],
        [
         "18",
         "HR",
         "2025-08-03",
         "45.794283872149165",
         "41.21485548493425",
         "50.37371225936408"
        ],
        [
         "19",
         "HR",
         "2025-08-17",
         "45.794283872149165",
         "41.21485548493425",
         "50.37371225936408"
        ],
        [
         "20",
         "HR",
         "2025-08-31",
         "45.794283872149165",
         "41.21485548493425",
         "50.37371225936408"
        ],
        [
         "21",
         "HR",
         "2025-09-14",
         "45.794283872149165",
         "41.21485548493425",
         "50.37371225936408"
        ],
        [
         "22",
         "HR",
         "2025-09-28",
         "45.794283872149165",
         "41.21485548493425",
         "50.37371225936408"
        ],
        [
         "23",
         "HR",
         "2025-10-12",
         "45.794283872149165",
         "41.21485548493425",
         "50.37371225936408"
        ],
        [
         "24",
         "IT",
         "2025-05-11",
         "95.36101638331465",
         "85.82491474498319",
         "104.89711802164611"
        ],
        [
         "25",
         "IT",
         "2025-05-25",
         "97.73571559297037",
         "87.96214403367333",
         "107.5092871522674"
        ],
        [
         "26",
         "IT",
         "2025-06-08",
         "98.6112290214019",
         "88.7501061192617",
         "108.47235192354209"
        ],
        [
         "27",
         "IT",
         "2025-06-22",
         "98.934016749737",
         "89.0406150747633",
         "108.8274184247107"
        ],
        [
         "28",
         "IT",
         "2025-07-06",
         "99.05302339678569",
         "89.14772105710712",
         "108.95832573646426"
        ],
        [
         "29",
         "IT",
         "2025-07-20",
         "99.09689923467712",
         "89.18720931120941",
         "109.00658915814483"
        ],
        [
         "30",
         "IT",
         "2025-08-03",
         "99.11307555086125",
         "89.20176799577513",
         "109.02438310594738"
        ],
        [
         "31",
         "IT",
         "2025-08-17",
         "99.11903949862534",
         "89.2071355487628",
         "109.03094344848788"
        ],
        [
         "32",
         "IT",
         "2025-08-31",
         "99.12123831030333",
         "89.209114479273",
         "109.03336214133365"
        ],
        [
         "33",
         "IT",
         "2025-09-14",
         "99.122048976826",
         "89.2098440791434",
         "109.0342538745086"
        ],
        [
         "34",
         "IT",
         "2025-09-28",
         "99.1223478565425",
         "89.21011307088826",
         "109.03458264219675"
        ],
        [
         "35",
         "IT",
         "2025-10-12",
         "99.12245804868988",
         "89.21021224382089",
         "109.03470385355887"
        ],
        [
         "36",
         "Inventory",
         "2025-05-11",
         "126.28194427490234",
         "113.65374755859375",
         "138.91014099121094"
        ],
        [
         "37",
         "Inventory",
         "2025-05-25",
         "125.72053527832031",
         "113.14847564697266",
         "138.29258728027344"
        ],
        [
         "38",
         "Inventory",
         "2025-06-08",
         "123.09284973144531",
         "110.78356170654297",
         "135.40213012695312"
        ],
        [
         "39",
         "Inventory",
         "2025-06-22",
         "123.6542739868164",
         "111.2888412475586",
         "136.0196990966797"
        ],
        [
         "40",
         "Inventory",
         "2025-07-06",
         "123.6542739868164",
         "111.2888412475586",
         "136.0196990966797"
        ],
        [
         "41",
         "Inventory",
         "2025-07-20",
         "123.58660125732422",
         "111.22793579101562",
         "135.9452667236328"
        ],
        [
         "42",
         "Inventory",
         "2025-08-03",
         "123.6542739868164",
         "111.2888412475586",
         "136.0196990966797"
        ],
        [
         "43",
         "Inventory",
         "2025-08-17",
         "123.6542739868164",
         "111.2888412475586",
         "136.0196990966797"
        ],
        [
         "44",
         "Inventory",
         "2025-08-31",
         "123.6542739868164",
         "111.2888412475586",
         "136.0196990966797"
        ],
        [
         "45",
         "Inventory",
         "2025-09-14",
         "123.6542739868164",
         "111.2888412475586",
         "136.0196990966797"
        ],
        [
         "46",
         "Inventory",
         "2025-09-28",
         "123.6542739868164",
         "111.2888412475586",
         "136.0196990966797"
        ],
        [
         "47",
         "Inventory",
         "2025-10-12",
         "123.6542739868164",
         "111.2888412475586",
         "136.0196990966797"
        ],
        [
         "48",
         "Marketing",
         "2025-05-11",
         "75.58619357178048",
         "68.02757421460244",
         "83.14481292895853"
        ],
        [
         "49",
         "Marketing",
         "2025-05-25",
         "70.83670325025788",
         "63.75303292523209",
         "77.92037357528368"
        ]
       ],
       "shape": {
        "columns": 5,
        "rows": 72
       }
      },
      "text/html": [
       "<div>\n",
       "<style scoped>\n",
       "    .dataframe tbody tr th:only-of-type {\n",
       "        vertical-align: middle;\n",
       "    }\n",
       "\n",
       "    .dataframe tbody tr th {\n",
       "        vertical-align: top;\n",
       "    }\n",
       "\n",
       "    .dataframe thead th {\n",
       "        text-align: right;\n",
       "    }\n",
       "</style>\n",
       "<table border=\"1\" class=\"dataframe\">\n",
       "  <thead>\n",
       "    <tr style=\"text-align: right;\">\n",
       "      <th></th>\n",
       "      <th>department</th>\n",
       "      <th>prediction_date</th>\n",
       "      <th>predicted_value</th>\n",
       "      <th>confidence_lower</th>\n",
       "      <th>confidence_upper</th>\n",
       "    </tr>\n",
       "  </thead>\n",
       "  <tbody>\n",
       "    <tr>\n",
       "      <th>0</th>\n",
       "      <td>Finance</td>\n",
       "      <td>2025-05-11</td>\n",
       "      <td>27.935827</td>\n",
       "      <td>25.142244</td>\n",
       "      <td>30.729409</td>\n",
       "    </tr>\n",
       "    <tr>\n",
       "      <th>1</th>\n",
       "      <td>Finance</td>\n",
       "      <td>2025-05-25</td>\n",
       "      <td>33.241393</td>\n",
       "      <td>29.917253</td>\n",
       "      <td>36.565532</td>\n",
       "    </tr>\n",
       "    <tr>\n",
       "      <th>2</th>\n",
       "      <td>Finance</td>\n",
       "      <td>2025-06-08</td>\n",
       "      <td>31.278375</td>\n",
       "      <td>28.150537</td>\n",
       "      <td>34.406212</td>\n",
       "    </tr>\n",
       "    <tr>\n",
       "      <th>3</th>\n",
       "      <td>Finance</td>\n",
       "      <td>2025-06-22</td>\n",
       "      <td>29.692338</td>\n",
       "      <td>26.723104</td>\n",
       "      <td>32.661572</td>\n",
       "    </tr>\n",
       "    <tr>\n",
       "      <th>4</th>\n",
       "      <td>Finance</td>\n",
       "      <td>2025-07-06</td>\n",
       "      <td>30.360360</td>\n",
       "      <td>27.324324</td>\n",
       "      <td>33.396396</td>\n",
       "    </tr>\n",
       "    <tr>\n",
       "      <th>...</th>\n",
       "      <td>...</td>\n",
       "      <td>...</td>\n",
       "      <td>...</td>\n",
       "      <td>...</td>\n",
       "      <td>...</td>\n",
       "    </tr>\n",
       "    <tr>\n",
       "      <th>67</th>\n",
       "      <td>Sales</td>\n",
       "      <td>2025-08-17</td>\n",
       "      <td>687.284441</td>\n",
       "      <td>639.229747</td>\n",
       "      <td>732.892197</td>\n",
       "    </tr>\n",
       "    <tr>\n",
       "      <th>68</th>\n",
       "      <td>Sales</td>\n",
       "      <td>2025-08-31</td>\n",
       "      <td>666.157967</td>\n",
       "      <td>618.948173</td>\n",
       "      <td>712.675919</td>\n",
       "    </tr>\n",
       "    <tr>\n",
       "      <th>69</th>\n",
       "      <td>Sales</td>\n",
       "      <td>2025-09-14</td>\n",
       "      <td>688.147541</td>\n",
       "      <td>639.873214</td>\n",
       "      <td>734.046673</td>\n",
       "    </tr>\n",
       "    <tr>\n",
       "      <th>70</th>\n",
       "      <td>Sales</td>\n",
       "      <td>2025-09-28</td>\n",
       "      <td>700.167608</td>\n",
       "      <td>649.058690</td>\n",
       "      <td>745.334051</td>\n",
       "    </tr>\n",
       "    <tr>\n",
       "      <th>71</th>\n",
       "      <td>Sales</td>\n",
       "      <td>2025-10-12</td>\n",
       "      <td>708.596357</td>\n",
       "      <td>661.288248</td>\n",
       "      <td>756.026217</td>\n",
       "    </tr>\n",
       "  </tbody>\n",
       "</table>\n",
       "<p>72 rows × 5 columns</p>\n",
       "</div>"
      ],
      "text/plain": [
       "   department prediction_date  predicted_value  confidence_lower  \\\n",
       "0     Finance      2025-05-11        27.935827         25.142244   \n",
       "1     Finance      2025-05-25        33.241393         29.917253   \n",
       "2     Finance      2025-06-08        31.278375         28.150537   \n",
       "3     Finance      2025-06-22        29.692338         26.723104   \n",
       "4     Finance      2025-07-06        30.360360         27.324324   \n",
       "..        ...             ...              ...               ...   \n",
       "67      Sales      2025-08-17       687.284441        639.229747   \n",
       "68      Sales      2025-08-31       666.157967        618.948173   \n",
       "69      Sales      2025-09-14       688.147541        639.873214   \n",
       "70      Sales      2025-09-28       700.167608        649.058690   \n",
       "71      Sales      2025-10-12       708.596357        661.288248   \n",
       "\n",
       "    confidence_upper  \n",
       "0          30.729409  \n",
       "1          36.565532  \n",
       "2          34.406212  \n",
       "3          32.661572  \n",
       "4          33.396396  \n",
       "..               ...  \n",
       "67        732.892197  \n",
       "68        712.675919  \n",
       "69        734.046673  \n",
       "70        745.334051  \n",
       "71        756.026217  \n",
       "\n",
       "[72 rows x 5 columns]"
      ]
     },
     "metadata": {},
     "output_type": "display_data"
    },
    {
     "name": "stderr",
     "output_type": "stream",
     "text": [
      "2025-08-13 16:29:19,524 - INFO - Conexión a la base de datos exitosa\n",
      "2025-08-13 16:29:19,579 - INFO - Registros en Overtime_Predictions: 144\n",
      "2025-08-13 16:29:19,579 - INFO - Registros en Overtime_Predictions: 144\n"
     ]
    },
    {
     "name": "stdout",
     "output_type": "stream",
     "text": [
      "\n",
      "Datos guardados exitosamente en la base de datos.\n"
     ]
    },
    {
     "name": "stderr",
     "output_type": "stream",
     "text": [
      "2025-08-13 16:29:19,582 - INFO - Registros en ML_Model_Metrics_Overtime_Predictions: 36\n"
     ]
    },
    {
     "name": "stdout",
     "output_type": "stream",
     "text": [
      "\n",
      "Registros en Overtime_Predictions: 144\n",
      "Registros en ML_Model_Metrics: 36\n"
     ]
    }
   ],
   "source": [
    "\n",
    "def calculate_metrics(dept_data, historical_pred, model_type, train_test_split=True, test_size=0.2):\n",
    "\n",
    "    try:\n",
    "        department = dept_data.name if dept_data.name else 'Unknown'\n",
    "        # Ensure no NaN in input data\n",
    "        dept_data_clean = dept_data.fillna(dept_data.median())\n",
    "        historical_pred_clean = historical_pred['yhat'].reindex(dept_data_clean.index).fillna(dept_data_clean.median()).clip(lower=0)\n",
    "\n",
    "        # Split data into train and test\n",
    "        if train_test_split:\n",
    "            train_size = int(len(dept_data_clean) * (1 - test_size))\n",
    "            actual = dept_data_clean.iloc[train_size:]\n",
    "            predictions = historical_pred_clean.iloc[train_size:]\n",
    "        else:\n",
    "            actual = dept_data_clean\n",
    "            predictions = historical_pred_clean\n",
    "\n",
    "        # Ensure indices align\n",
    "        common_index = actual.index.intersection(predictions.index)\n",
    "        if len(common_index) == 0:\n",
    "            logging.error(f\"No hay índices comunes para {department}. Índice real: {actual.index[:3]}..., Índice predicciones: {predictions.index[:3]}...\")\n",
    "            raise ValueError(f\"No hay índices comunes para {department}\")\n",
    "        actual = actual.loc[common_index]\n",
    "        predictions = predictions.loc[common_index]\n",
    "\n",
    "        # Log data statistics\n",
    "        logging.info(f\"{department} - Actual data: len={len(actual)}, mean={actual.mean():.2f}, std={actual.std():.2f}\")\n",
    "        logging.info(f\"{department} - Predictions: len={len(predictions)}, mean={predictions.mean():.2f}, std={predictions.std():.2f}\")\n",
    "\n",
    "        # Calculate metrics\n",
    "        rmse = np.sqrt(mean_squared_error(actual, predictions))\n",
    "        mae = mean_absolute_error(actual, predictions)\n",
    "        smape = np.mean(2 * np.abs(predictions - actual) / (np.abs(predictions) + np.abs(actual) + 1e-10)) * 100\n",
    "        mape = mean_absolute_percentage_error(actual, predictions) * 100\n",
    "        naive_forecast = actual.shift(1).fillna(actual.mean())\n",
    "        mase = mae / mean_absolute_error(actual[1:], naive_forecast[1:]) if naive_forecast.std() > 0 else float('inf')\n",
    "\n",
    "        # Calculate department-specific thresholds based on mean overtime\n",
    "        mean_overtime = dept_data_clean.mean()\n",
    "        mae_threshold_good = 0.05 * mean_overtime  # 5% of mean\n",
    "        mae_threshold_acceptable = 0.10 * mean_overtime  # 10% of mean\n",
    "        rmse_threshold_good = 0.10 * mean_overtime  # 10% of mean\n",
    "        rmse_threshold_acceptable = 0.20 * mean_overtime  # 20% of mean\n",
    "\n",
    "        # Determine model quality\n",
    "        if (mae < mae_threshold_good and smape < 10 and mape < 10 and mase < 0.8 and rmse < rmse_threshold_good):\n",
    "            quality = \"Bueno\"\n",
    "        elif (mae < mae_threshold_acceptable and smape < 20 and mape < 20 and mase < 1.2 and rmse < rmse_threshold_acceptable):\n",
    "            quality = \"Aceptable\"\n",
    "        else:\n",
    "            quality = \"Pobre\"\n",
    "\n",
    "        # Ensure finite values for SQL\n",
    "        rmse = rmse if np.isfinite(rmse) else None\n",
    "        mae = mae if np.isfinite(mae) else None\n",
    "        smape = smape if np.isfinite(smape) else None\n",
    "        mape = mape if np.isfinite(mape) else None\n",
    "        mase = mase if np.isfinite(mase) else None\n",
    "\n",
    "        return {\n",
    "            'rmse': rmse,\n",
    "            'mae': mae,\n",
    "            'smape': smape,\n",
    "            'mape': mape,\n",
    "            'mase': mase,\n",
    "            'quality': quality\n",
    "        }\n",
    "    except Exception as e:\n",
    "        logging.error(f\"Error calculando métricas para {department} ({model_type}): {e}\")\n",
    "        return {\n",
    "            'rmse': None,\n",
    "            'mae': None,\n",
    "            'smape': None,\n",
    "            'mape': None,\n",
    "            'mase': None,\n",
    "            'quality': 'Pobre'\n",
    "        }\n",
    "\n",
    "def save_predictions():\n",
    "\n",
    "    os.makedirs('Modelos Entrenados', exist_ok=True)\n",
    "    timestamp = datetime.now()\n",
    "    logging.info(f\"Timestamp establecido: {timestamp}\")\n",
    "    predictions_summary = []\n",
    "    metrics_summary = []\n",
    "    insert_errors = []\n",
    "\n",
    "    # Save models and collect predictions and metrics\n",
    "    for dept in all_forecasts:\n",
    "        try:\n",
    "            # Get best model and metrics\n",
    "            best_model = None  # Will be retrieved if saving is needed\n",
    "            best_model_name = all_metrics[dept].iloc[0]['Modelo']\n",
    "            model_path = f'Modelos Entrenados/overtime_forecast_model_{dept}_{best_model_name}.pkl'\n",
    "\n",
    "            # Retrieve the best model for saving (re-train to ensure consistency)\n",
    "            dept_data = df_all_data[df_all_data['department'] == dept].set_index('ds')['y']\n",
    "            decomposition_type, consider_arima = select_decomposition_type(dept_data)\n",
    "            series_filled_final = dept_data.fillna(dept_data.mean()).interpolate(method='linear')\n",
    "            if best_model_name == 'ARIMA' and consider_arima:\n",
    "                best_model = auto_arima(series_filled_final, seasonal=False, stepwise=True, suppress_warnings=True, error_action='ignore')\n",
    "                joblib.dump(best_model, model_path)\n",
    "                logging.info(f\"Modelo ARIMA guardado para {dept} en: {model_path}\")\n",
    "            elif best_model_name == 'Exponential Smoothing':\n",
    "                best_model = ExponentialSmoothing(series_filled_final, trend='add', seasonal=decomposition_type, seasonal_periods=12).fit()\n",
    "                joblib.dump(best_model, model_path)\n",
    "                logging.info(f\"Modelo Exponential Smoothing guardado para {dept} en: {model_path}\")\n",
    "            elif best_model_name == 'Prophet':\n",
    "                logging.warning(f\"Prophet no se guarda en disco para {dept} debido a problemas de serialización.\")\n",
    "            elif best_model_name == 'XGBoost':\n",
    "                n_lags = 6\n",
    "                df_lag = create_lag_features_with_time(series_filled_final, n_lags=n_lags)\n",
    "                X = df_lag.drop('y', axis=1).values\n",
    "                y = df_lag['y'].values\n",
    "                best_model = XGBRegressor(n_estimators=100, random_state=42)\n",
    "                best_model.fit(X, y)\n",
    "                joblib.dump(best_model, model_path)\n",
    "                logging.info(f\"Modelo XGBoost guardado para {dept} en: {model_path}\")\n",
    "\n",
    "            # Calculate metrics using historical predictions\n",
    "            historical_pred = all_forecasts[dept]['historical_pred']\n",
    "            metrics = calculate_metrics(dept_data, historical_pred, best_model_name)\n",
    "\n",
    "            # Collect metrics for summary\n",
    "            metrics_summary.append({\n",
    "                'timestamp': timestamp,\n",
    "                'department': dept,\n",
    "                'rmse': metrics['rmse'],\n",
    "                'mae': metrics['mae'],\n",
    "                'smape': metrics['smape'],\n",
    "                'mape': metrics['mape'],\n",
    "                'mase': metrics['mase'],\n",
    "                'model_quality': metrics['quality'],\n",
    "                'model_type': best_model_name\n",
    "            })\n",
    "\n",
    "            # Collect future predictions with robust index handling\n",
    "            future_forecast = all_forecasts[dept]['future']\n",
    "            n_periods_forecast = len(future_forecast)\n",
    "            last_date = dept_data.index[-1]\n",
    "\n",
    "            # Define expected_index before index handling\n",
    "            expected_index = pd.date_range(start=last_date + pd.Timedelta(days=1), periods=n_periods_forecast, freq='2W')\n",
    "\n",
    "            # Ensure future_forecast index is datetime\n",
    "            if not pd.api.types.is_datetime64_any_dtype(future_forecast.index):\n",
    "                logging.warning(f\"Índice de future_forecast para {dept} no es datetime. Reconstruyendo índice.\")\n",
    "                future_forecast = future_forecast.copy()  # Avoid modifying original\n",
    "                future_forecast.index = expected_index\n",
    "            else:\n",
    "                # Verify index alignment\n",
    "                if not all(future_forecast.index == expected_index):\n",
    "                    logging.warning(f\"Índice de future_forecast para {dept} no está alineado. Reconstruyendo índice.\")\n",
    "                    future_forecast = future_forecast.copy()\n",
    "                    future_forecast.index = expected_index\n",
    "\n",
    "            # Log index details\n",
    "            logging.info(f\"Índice de future_forecast para {dept}: {future_forecast.index[:3]}... (len={len(future_forecast)})\")\n",
    "            logging.info(f\"Primeras fechas esperadas: {expected_index[:3]}...\")\n",
    "\n",
    "            for _, row in future_forecast.iterrows():\n",
    "                predicted_value = row['yhat'] if pd.notna(row['yhat']) else None\n",
    "                confidence_lower = row['yhat_lower'] if pd.notna(row['yhat_lower']) else None\n",
    "                confidence_upper = row['yhat_upper'] if pd.notna(row['yhat_upper']) else None\n",
    "                try:\n",
    "                    prediction_date = row.name.date() if pd.notna(row.name) and hasattr(row.name, 'date') else None\n",
    "                    if prediction_date is None:\n",
    "                        raise ValueError(f\"Fecha inválida para {dept}, índice: {row.name}\")\n",
    "                    predictions_summary.append({\n",
    "                        'timestamp': timestamp,\n",
    "                        'department': dept,\n",
    "                        'prediction_date': prediction_date,\n",
    "                        'predicted_value': predicted_value,\n",
    "                        'confidence_lower': confidence_lower,\n",
    "                        'confidence_upper': confidence_upper\n",
    "                    })\n",
    "                except Exception as e:\n",
    "                    logging.error(f\"Error procesando fecha de predicción para {dept}: {e}\")\n",
    "                    # Fallback: Assign date from expected_index\n",
    "                    row_index = future_forecast.index.get_loc(row.name)\n",
    "                    prediction_date = expected_index[row_index].date()\n",
    "                    logging.info(f\"Asignando fecha de respaldo para {dept}: {prediction_date}\")\n",
    "                    predictions_summary.append({\n",
    "                        'timestamp': timestamp,\n",
    "                        'department': dept,\n",
    "                        'prediction_date': prediction_date,\n",
    "                        'predicted_value': predicted_value,\n",
    "                        'confidence_lower': confidence_lower,\n",
    "                        'confidence_upper': confidence_upper\n",
    "                    })\n",
    "\n",
    "        except Exception as e:\n",
    "            logging.error(f\"Error procesando datos para {dept}: {e}\")\n",
    "            insert_errors.append(dept)\n",
    "\n",
    "    # Create DataFrames\n",
    "    predictions_summary_df = pd.DataFrame(predictions_summary)\n",
    "    metrics_summary_df = pd.DataFrame(metrics_summary)\n",
    "\n",
    "    # Add 'id' column (will be auto-generated by SQL Server)\n",
    "    if not predictions_summary_df.empty:\n",
    "        predictions_summary_df.insert(0, 'id', range(1, len(predictions_summary_df) + 1))\n",
    "    if not metrics_summary_df.empty:\n",
    "        metrics_summary_df.insert(0, 'id', range(1, len(metrics_summary_df) + 1))\n",
    "\n",
    "    # Save to database\n",
    "    conn = get_db_connection()\n",
    "    cursor = conn.cursor()\n",
    "\n",
    "    try:\n",
    "        logging.info(\"Conexión a la base de datos exitosa\")\n",
    "        # Create tables if they don’t exist\n",
    "        cursor.execute(\"\"\"\n",
    "            IF NOT EXISTS (SELECT * FROM sys.tables WHERE name = 'Overtime_Predictions')\n",
    "            CREATE TABLE Overtime_Predictions (\n",
    "                id INT IDENTITY(1,1) PRIMARY KEY,\n",
    "                timestamp DATETIME,\n",
    "                department VARCHAR(100),\n",
    "                prediction_date DATE,\n",
    "                predicted_value FLOAT,\n",
    "                confidence_lower FLOAT,\n",
    "                confidence_upper FLOAT\n",
    "            )\n",
    "        \"\"\")\n",
    "\n",
    "        # Create or alter ML_Model_Metrics_Overtime_Predictions table to include mape and model_type\n",
    "        cursor.execute(\"\"\"\n",
    "            IF NOT EXISTS (SELECT * FROM sys.tables WHERE name = 'ML_Model_Metrics_Overtime_Predictions')\n",
    "            BEGIN\n",
    "                CREATE TABLE ML_Model_Metrics_Overtime_Predictions (\n",
    "                    id INT IDENTITY(1,1) PRIMARY KEY,\n",
    "                    timestamp DATETIME,\n",
    "                    department VARCHAR(100),\n",
    "                    rmse FLOAT,\n",
    "                    mae FLOAT,\n",
    "                    smape FLOAT,\n",
    "                    mape FLOAT,\n",
    "                    mase FLOAT,\n",
    "                    model_quality VARCHAR(50),\n",
    "                    model_type VARCHAR(50)\n",
    "                )\n",
    "            END\n",
    "            ELSE\n",
    "            BEGIN\n",
    "                IF NOT EXISTS (SELECT * FROM sys.columns \n",
    "                               WHERE object_id = OBJECT_ID('ML_Model_Metrics_Overtime_Predictions') \n",
    "                               AND name = 'mape')\n",
    "                BEGIN\n",
    "                    ALTER TABLE ML_Model_Metrics_Overtime_Predictions\n",
    "                    ADD mape FLOAT\n",
    "                END\n",
    "                IF NOT EXISTS (SELECT * FROM sys.columns \n",
    "                               WHERE object_id = OBJECT_ID('ML_Model_Metrics_Overtime_Predictions') \n",
    "                               AND name = 'model_type')\n",
    "                BEGIN\n",
    "                    ALTER TABLE ML_Model_Metrics_Overtime_Predictions\n",
    "                    ADD model_type VARCHAR(50)\n",
    "                END\n",
    "            END\n",
    "        \"\"\")\n",
    "\n",
    "        # Insert predictions\n",
    "        if not predictions_summary_df.empty:\n",
    "            for _, row in predictions_summary_df.iterrows():\n",
    "                cursor.execute(\"\"\"\n",
    "                    INSERT INTO Overtime_Predictions \n",
    "                    (timestamp, department, prediction_date, predicted_value, confidence_lower, confidence_upper)\n",
    "                    VALUES (%s, %s, %s, %s, %s, %s)\n",
    "                \"\"\", (\n",
    "                    row['timestamp'],\n",
    "                    row['department'],\n",
    "                    row['prediction_date'],\n",
    "                    row['predicted_value'],\n",
    "                    row['confidence_lower'],\n",
    "                    row['confidence_upper']\n",
    "                ))\n",
    "        else:\n",
    "            logging.warning(\"predictions_summary_df está vacío, no se insertaron predicciones.\")\n",
    "\n",
    "        # Insert metrics\n",
    "        if not metrics_summary_df.empty:\n",
    "            for _, row in metrics_summary_df.iterrows():\n",
    "                cursor.execute(\"\"\"\n",
    "                    INSERT INTO ML_Model_Metrics_Overtime_Predictions \n",
    "                    (timestamp, department, rmse, mae, smape, mape, mase, model_quality, model_type)\n",
    "                    VALUES (%s, %s, %s, %s, %s, %s, %s, %s, %s)\n",
    "                \"\"\", (\n",
    "                    row['timestamp'],\n",
    "                    row['department'],\n",
    "                    row['rmse'],\n",
    "                    row['mae'],\n",
    "                    row['smape'],\n",
    "                    row['mape'],\n",
    "                    row['mase'],\n",
    "                    row['model_quality'],\n",
    "                    row['model_type']\n",
    "                ))\n",
    "        else:\n",
    "            logging.warning(\"metrics_summary_df está vacío, no se insertaron métricas.\")\n",
    "\n",
    "        if insert_errors and len(insert_errors) == len(all_forecasts):\n",
    "            raise ValueError(\"No se pudieron insertar datos para ningún departamento\")\n",
    "\n",
    "        conn.commit()\n",
    "        logging.info(\"Predicciones y métricas guardadas exitosamente\")\n",
    "\n",
    "        # Display summary\n",
    "        print(\"\\n=== Resumen de Modelos y Predicciones ===\")\n",
    "        print(\"\\nModelos y Métricas por Departamento:\")\n",
    "        display(metrics_summary_df.drop(columns=['id', 'timestamp']))\n",
    "        print(\"\\nValores Predichos con Intervalos de Confianza:\")\n",
    "        display(predictions_summary_df.drop(columns=['id', 'timestamp']))\n",
    "\n",
    "        return predictions_summary_df, metrics_summary_df\n",
    "\n",
    "    except Exception as e:\n",
    "        conn.rollback()\n",
    "        logging.error(f\"Error al guardar los datos: {e}\")\n",
    "        raise\n",
    "    finally:\n",
    "        conn.close()\n",
    "\n",
    "def verify_tables():\n",
    "\n",
    "    conn = get_db_connection()\n",
    "    cursor = conn.cursor()\n",
    "    try:\n",
    "        cursor.execute(\"SELECT COUNT(*) FROM Overtime_Predictions\")\n",
    "        pred_count = cursor.fetchone()[0]\n",
    "        \n",
    "        cursor.execute(\"SELECT COUNT(*) FROM ML_Model_Metrics_Overtime_Predictions\")\n",
    "        metrics_count = cursor.fetchone()[0]\n",
    "        \n",
    "        logging.info(f\"Registros en Overtime_Predictions: {pred_count}\")\n",
    "        logging.info(f\"Registros en ML_Model_Metrics_Overtime_Predictions: {metrics_count}\")\n",
    "        print(f\"\\nRegistros en Overtime_Predictions: {pred_count}\")\n",
    "        print(f\"Registros en ML_Model_Metrics: {metrics_count}\")\n",
    "    except Exception as e:\n",
    "        logging.error(f\"Error verificando tablas: {e}\")\n",
    "        print(f\"Error verificando tablas: {e}\")\n",
    "    finally:\n",
    "        conn.close()\n",
    "\n",
    "# Execute saving and display summary\n",
    "try:\n",
    "    predictions_summary_df, metrics_summary_df = save_predictions()\n",
    "    print(\"\\nDatos guardados exitosamente en la base de datos.\")\n",
    "except Exception as e:\n",
    "    print(f\"\\nError al guardar los datos: {str(e)}\")\n",
    "\n",
    "# Verify tables\n",
    "verify_tables()"
   ]
  }
 ],
 "metadata": {
  "kernelspec": {
   "display_name": "Maestro_Yoda",
   "language": "python",
   "name": "python3"
  },
  "language_info": {
   "codemirror_mode": {
    "name": "ipython",
    "version": 3
   },
   "file_extension": ".py",
   "mimetype": "text/x-python",
   "name": "python",
   "nbconvert_exporter": "python",
   "pygments_lexer": "ipython3",
   "version": "3.10.11"
  }
 },
 "nbformat": 4,
 "nbformat_minor": 5
}
