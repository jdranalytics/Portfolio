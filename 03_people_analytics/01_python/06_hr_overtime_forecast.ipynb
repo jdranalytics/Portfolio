{
 "cells": [
  {
   "cell_type": "markdown",
   "id": "300023e6",
   "metadata": {},
   "source": [
    "# HR Overtime Prediction and Forecasting\n",
    "## Predicción y Pronóstico de Horas Extra de RRHH\n",
    "\n",
    "Los componentes principales incluyen:\n",
    "\n",
    "* Carga de datos históricos desde SQL Server con manejo de datos faltantes mediante interpolación.\n",
    "* Análisis exploratorio con una lógica comparativa para determinar automáticamente si la serie es aditiva o multiplicativa.\n",
    "* Preprocesamiento para garantizar estacionariedad y detección de outliers con filtrado de Hampel.\n",
    "* Entrenamiento de tres modelos: ARIMA (con selección automática de parámetros), Prophet (como fallback y con modo de estacionalidad dinámico) y Suavización Exponencial (Holt) también como fallbaclk.\n",
    "* Selección automática del mejor modelo basada en un conjunto de métricas (RMSE, MAE, SMAPE, MASE), con prioridad para ARIMA(0,0,0) si resulta ser un modelo válido.\n",
    "* Generación de predicciones para los próximos 6 meses con intervalos de confianza, utilizando únicamente el mejor modelo seleccionado.\n",
    "* Visualización interactiva con Plotly para datos históricos, descomposición de series y pronósticos.\n",
    "* Almacenamiento de modelos, predicciones detalladas y métricas de rendimiento en SQL Server para trazabilidad y auditoría.\n",
    "\n",
    "**Objetivo:** Producir pronósticos precisos y robustos de horas extra por departamento para los próximos 6 meses, minimizando la intervención manual y asegurando la calidad del modelo mediante una selección competitiva."
   ]
  },
  {
   "cell_type": "markdown",
   "id": "8ff71e94",
   "metadata": {},
   "source": [
    "## 1. Importar Librerías y Configuración\n",
    "\n",
    "Importamos las librerías necesarias para análisis, modelado, visualización y conexión con la base de datos. Configuramos el logging para trazabilidad y suprimimos advertencias innecesarias para mantener un output limpio."
   ]
  },
  {
   "cell_type": "code",
   "execution_count": 1,
   "id": "fede85d1",
   "metadata": {},
   "outputs": [
    {
     "name": "stderr",
     "output_type": "stream",
     "text": [
      "c:\\Users\\joey_\\AppData\\Local\\Programs\\Python\\Maestro_Yoda\\lib\\site-packages\\tqdm\\auto.py:21: TqdmWarning: IProgress not found. Please update jupyter and ipywidgets. See https://ipywidgets.readthedocs.io/en/stable/user_install.html\n",
      "  from .autonotebook import tqdm as notebook_tqdm\n"
     ]
    }
   ],
   "source": [
    "import pandas as pd\n",
    "import numpy as np\n",
    "import pymssql\n",
    "import logging\n",
    "import datetime\n",
    "from datetime import datetime\n",
    "import os\n",
    "from statsmodels.tsa.seasonal import seasonal_decompose\n",
    "from statsmodels.tsa.holtwinters import ExponentialSmoothing\n",
    "from statsmodels.tsa.stattools import adfuller\n",
    "from pmdarima import auto_arima\n",
    "from prophet import Prophet\n",
    "from sklearn.metrics import mean_squared_error, mean_absolute_error, mean_absolute_percentage_error\n",
    "from sklearn.model_selection import TimeSeriesSplit\n",
    "from scipy.stats import median_abs_deviation\n",
    "import joblib\n",
    "import plotly.express as px\n",
    "import plotly.graph_objects as go\n",
    "from plotly.subplots import make_subplots\n",
    "import warnings\n",
    "\n",
    "# Configurar advertencias y logging\n",
    "warnings.filterwarnings(\"ignore\")\n",
    "logging.basicConfig(\n",
    "    level=logging.INFO,\n",
    "    format='%(asctime)s - %(levelname)s - %(message)s',\n",
    "    handlers=[\n",
    "        logging.StreamHandler(),\n",
    "        logging.FileHandler('overtime_forecast.log')\n",
    "    ]\n",
    ")"
   ]
  },
  {
   "cell_type": "markdown",
   "id": "a04f107c",
   "metadata": {},
   "source": [
    "## 2. Conectar a la Base de Datos\n",
    "Establecemos una conexión segura a SQL Server para cargar datos históricos y almacenar resultados."
   ]
  },
  {
   "cell_type": "code",
   "execution_count": 2,
   "id": "d1955ac3",
   "metadata": {},
   "outputs": [],
   "source": [
    "def get_db_connection():\n",
    "    SQL_SERVER = \"172.28.192.1:50121\"\n",
    "    SQL_DB = \"HR_Analytics\"\n",
    "    SQL_USER = \"sa\"\n",
    "    SQL_PASSWORD = \"123456\"\n",
    "    try:\n",
    "        conn = pymssql.connect(\n",
    "            server=SQL_SERVER,\n",
    "            database=SQL_DB,\n",
    "            user=SQL_USER,\n",
    "            password=SQL_PASSWORD\n",
    "        )\n",
    "        logging.info(\"Conexión a la base de datos exitosa\")\n",
    "        return conn\n",
    "    except Exception as e:\n",
    "        logging.error(f\"Error de conexión a la base de datos: {e}\")\n",
    "        raise"
   ]
  },
  {
   "cell_type": "markdown",
   "id": "8f66e5fb",
   "metadata": {},
   "source": [
    "## 3. Cargar y Procesar Datos Históricos\n",
    "\n",
    "Cargamos los datos históricos con `work_date < 2025-05-04`, los agregamos quincenalmente y manejamos datos faltantes con interpolación. Se aplica un filtrado de Hampel para detectar y corregir outliers. Finalmente, se realiza una descomposición de series de tiempo, seleccionando automáticamente el modelo (aditivo o multiplicativo) que mejor se ajuste a los datos según la varianza de los residuos."
   ]
  },
  {
   "cell_type": "code",
   "execution_count": 3,
   "id": "615deef2",
   "metadata": {},
   "outputs": [
    {
     "name": "stderr",
     "output_type": "stream",
     "text": [
      "2025-08-09 15:48:20,181 - INFO - Conexión a la base de datos exitosa\n",
      "2025-08-09 15:48:20,785 - INFO - Datos cargados: 420 registros\n",
      "2025-08-09 15:48:21,397 - WARNING - Outliers detectados en Finance:\n",
      "   department         ds       y\n",
      "0     Finance 2023-12-31  115.84\n",
      "12    Finance 2024-06-16  382.81\n",
      "25    Finance 2024-12-15  416.33\n",
      "35    Finance 2025-05-04  128.96\n",
      "2025-08-09 15:48:21,404 - WARNING - Outliers detectados en HR:\n",
      "   department         ds       y\n",
      "36         HR 2023-12-31  159.77\n",
      "71         HR 2025-05-04  194.28\n",
      "2025-08-09 15:48:21,412 - WARNING - Outliers detectados en IT:\n",
      "    department         ds       y\n",
      "72          IT 2023-12-31  144.26\n",
      "73          IT 2024-01-14  330.33\n",
      "97          IT 2024-12-15  540.77\n",
      "107         IT 2025-05-04  245.44\n",
      "2025-08-09 15:48:21,423 - WARNING - Outliers detectados en Inventory:\n",
      "    department         ds       y\n",
      "108  Inventory 2023-12-31  261.12\n",
      "129  Inventory 2024-10-20  616.69\n",
      "132  Inventory 2024-12-01  661.05\n",
      "133  Inventory 2024-12-15  847.48\n",
      "143  Inventory 2025-05-04  262.63\n",
      "2025-08-09 15:48:21,430 - WARNING - Outliers detectados en Marketing:\n",
      "    department         ds       y\n",
      "144  Marketing 2023-12-31  200.85\n",
      "169  Marketing 2024-12-15  653.42\n",
      "179  Marketing 2025-05-04  238.23\n",
      "2025-08-09 15:48:21,437 - WARNING - Outliers detectados en Sales:\n",
      "    department         ds       y\n",
      "180      Sales 2023-12-31  199.68\n",
      "192      Sales 2024-06-16  756.68\n",
      "204      Sales 2024-12-01  718.81\n",
      "205      Sales 2024-12-15  944.19\n",
      "206      Sales 2024-12-29  753.04\n",
      "215      Sales 2025-05-04  230.27\n",
      "2025-08-09 15:48:21,484 - INFO - Resumen de datos:\n",
      "Departamentos únicos: ['Finance' 'HR' 'IT' 'Inventory' 'Marketing' 'Sales']\n",
      "Fechas únicas: <DatetimeArray>\n",
      "['2023-12-31 00:00:00', '2024-01-14 00:00:00', '2024-01-28 00:00:00',\n",
      " '2024-02-11 00:00:00', '2024-02-25 00:00:00', '2024-03-10 00:00:00',\n",
      " '2024-03-24 00:00:00', '2024-04-07 00:00:00', '2024-04-21 00:00:00',\n",
      " '2024-05-05 00:00:00', '2024-05-19 00:00:00', '2024-06-02 00:00:00',\n",
      " '2024-06-16 00:00:00', '2024-06-30 00:00:00', '2024-07-14 00:00:00',\n",
      " '2024-07-28 00:00:00', '2024-08-11 00:00:00', '2024-08-25 00:00:00',\n",
      " '2024-09-08 00:00:00', '2024-09-22 00:00:00', '2024-10-06 00:00:00',\n",
      " '2024-10-20 00:00:00', '2024-11-03 00:00:00', '2024-11-17 00:00:00',\n",
      " '2024-12-01 00:00:00', '2024-12-15 00:00:00', '2024-12-29 00:00:00',\n",
      " '2025-01-12 00:00:00', '2025-01-26 00:00:00', '2025-02-09 00:00:00',\n",
      " '2025-02-23 00:00:00', '2025-03-09 00:00:00', '2025-03-23 00:00:00',\n",
      " '2025-04-06 00:00:00', '2025-04-20 00:00:00', '2025-05-04 00:00:00']\n",
      "Length: 36, dtype: datetime64[ns]\n",
      "Total registros: 216\n",
      "2025-08-09 15:48:21,673 - INFO - Criterio de selección: La desviación estándar de los residuos multiplicative es menor.\n",
      "2025-08-09 15:48:21,674 - INFO - El departamento Finance tiene una descomposición multiplicative.\n"
     ]
    },
    {
     "name": "stdout",
     "output_type": "stream",
     "text": [
      "Desviación estándar de los residuales aditivos: 15.56\n",
      "Desviación estándar de los residuales multiplicativos: 0.05\n",
      "P-value del test ADF: 0.00\n"
     ]
    },
    {
     "data": {
      "application/vnd.plotly.v1+json": {
       "config": {
        "plotlyServerURL": "https://plot.ly"
       },
       "data": [
        {
         "mode": "lines",
         "name": "Original",
         "type": "scatter",
         "x": [
          "2023-12-31T00:00:00.000000000",
          "2024-01-14T00:00:00.000000000",
          "2024-01-28T00:00:00.000000000",
          "2024-02-11T00:00:00.000000000",
          "2024-02-25T00:00:00.000000000",
          "2024-03-10T00:00:00.000000000",
          "2024-03-24T00:00:00.000000000",
          "2024-04-07T00:00:00.000000000",
          "2024-04-21T00:00:00.000000000",
          "2024-05-05T00:00:00.000000000",
          "2024-05-19T00:00:00.000000000",
          "2024-06-02T00:00:00.000000000",
          "2024-06-16T00:00:00.000000000",
          "2024-06-30T00:00:00.000000000",
          "2024-07-14T00:00:00.000000000",
          "2024-07-28T00:00:00.000000000",
          "2024-08-11T00:00:00.000000000",
          "2024-08-25T00:00:00.000000000",
          "2024-09-08T00:00:00.000000000",
          "2024-09-22T00:00:00.000000000",
          "2024-10-06T00:00:00.000000000",
          "2024-10-20T00:00:00.000000000",
          "2024-11-03T00:00:00.000000000",
          "2024-11-17T00:00:00.000000000",
          "2024-12-01T00:00:00.000000000",
          "2024-12-15T00:00:00.000000000",
          "2024-12-29T00:00:00.000000000",
          "2025-01-12T00:00:00.000000000",
          "2025-01-26T00:00:00.000000000",
          "2025-02-09T00:00:00.000000000",
          "2025-02-23T00:00:00.000000000",
          "2025-03-09T00:00:00.000000000",
          "2025-03-23T00:00:00.000000000",
          "2025-04-06T00:00:00.000000000",
          "2025-04-20T00:00:00.000000000",
          "2025-05-04T00:00:00.000000000"
         ],
         "xaxis": "x",
         "y": {
          "bdata": "AAAAAAAA+H9cj8L1KGBwQLgehetR2HJApHA9CtdncUCQwvUoXFdxQM3MzMzMHHNA16NwPQoDcEAAAAAAAIh0QJDC9Shcb3JA7FG4HoVfckCF61G4Hj11QIXrUbgedXRAzMzMzMysc0AUrkfheuRyQIXrUbgeDXJAFK5H4Xr0c0BwPQrXo6R0QAAAAAAAiHFACtejcD3qb0D2KFyPwg1vQKRwPQrXw3JAKVyPwvUwcUBcj8L1KMx0QNejcD0K53FAwvUoXI8GdUAUrkfhejx0QGZmZmZmcnNAhetRuB75c0BwPQrXo9hxQD4K16Nw5XFAAAAAAABYcEDXo3A9Cu9xQGZmZmZmwnJA16NwPQpHckCkcD0K1690QKRwPQrXr3RA",
          "dtype": "f8"
         },
         "yaxis": "y"
        },
        {
         "mode": "lines",
         "name": "Tendencia",
         "type": "scatter",
         "x": [
          "2023-12-31T00:00:00.000000000",
          "2024-01-14T00:00:00.000000000",
          "2024-01-28T00:00:00.000000000",
          "2024-02-11T00:00:00.000000000",
          "2024-02-25T00:00:00.000000000",
          "2024-03-10T00:00:00.000000000",
          "2024-03-24T00:00:00.000000000",
          "2024-04-07T00:00:00.000000000",
          "2024-04-21T00:00:00.000000000",
          "2024-05-05T00:00:00.000000000",
          "2024-05-19T00:00:00.000000000",
          "2024-06-02T00:00:00.000000000",
          "2024-06-16T00:00:00.000000000",
          "2024-06-30T00:00:00.000000000",
          "2024-07-14T00:00:00.000000000",
          "2024-07-28T00:00:00.000000000",
          "2024-08-11T00:00:00.000000000",
          "2024-08-25T00:00:00.000000000",
          "2024-09-08T00:00:00.000000000",
          "2024-09-22T00:00:00.000000000",
          "2024-10-06T00:00:00.000000000",
          "2024-10-20T00:00:00.000000000",
          "2024-11-03T00:00:00.000000000",
          "2024-11-17T00:00:00.000000000",
          "2024-12-01T00:00:00.000000000",
          "2024-12-15T00:00:00.000000000",
          "2024-12-29T00:00:00.000000000",
          "2025-01-12T00:00:00.000000000",
          "2025-01-26T00:00:00.000000000",
          "2025-02-09T00:00:00.000000000",
          "2025-02-23T00:00:00.000000000",
          "2025-03-09T00:00:00.000000000",
          "2025-03-23T00:00:00.000000000",
          "2025-04-06T00:00:00.000000000",
          "2025-04-20T00:00:00.000000000",
          "2025-05-04T00:00:00.000000000"
         ],
         "xaxis": "x2",
         "y": {
          "bdata": "AAAAAAAA+H8AAAAAAAD4fwAAAAAAAPh/AAAAAAAA+H8AAAAAAAD4fwAAAAAAAPh/QLNSsPCbckDOzMzMTMFyQEjhehSu03JAtYFOG2jmckC5HoXr0SRzQPnFkl8sN3NAbKDTBrolc0BDRERExO9yQLSBThvovXJAtx6F69G0ckBOG+i0gaNyQCa/WPKLg3JANDMzM7N2ckA9CtejcJNyQFyPwvWosHJAC9ejcL2/ckCZmZmZGaJyQF2PwvUoiHJA+cWSXyyQckB3d3d3961yQK9H4XqUx3JA6LSBThvTckCdNtBpg91yQIeIiIgI+nJAAAAAAAAA+H8AAAAAAAD4fwAAAAAAAPh/AAAAAAAA+H8AAAAAAAD4fwAAAAAAAPh/",
          "dtype": "f8"
         },
         "yaxis": "y2"
        },
        {
         "mode": "lines",
         "name": "Estacionalidad",
         "type": "scatter",
         "x": [
          "2023-12-31T00:00:00.000000000",
          "2024-01-14T00:00:00.000000000",
          "2024-01-28T00:00:00.000000000",
          "2024-02-11T00:00:00.000000000",
          "2024-02-25T00:00:00.000000000",
          "2024-03-10T00:00:00.000000000",
          "2024-03-24T00:00:00.000000000",
          "2024-04-07T00:00:00.000000000",
          "2024-04-21T00:00:00.000000000",
          "2024-05-05T00:00:00.000000000",
          "2024-05-19T00:00:00.000000000",
          "2024-06-02T00:00:00.000000000",
          "2024-06-16T00:00:00.000000000",
          "2024-06-30T00:00:00.000000000",
          "2024-07-14T00:00:00.000000000",
          "2024-07-28T00:00:00.000000000",
          "2024-08-11T00:00:00.000000000",
          "2024-08-25T00:00:00.000000000",
          "2024-09-08T00:00:00.000000000",
          "2024-09-22T00:00:00.000000000",
          "2024-10-06T00:00:00.000000000",
          "2024-10-20T00:00:00.000000000",
          "2024-11-03T00:00:00.000000000",
          "2024-11-17T00:00:00.000000000",
          "2024-12-01T00:00:00.000000000",
          "2024-12-15T00:00:00.000000000",
          "2024-12-29T00:00:00.000000000",
          "2025-01-12T00:00:00.000000000",
          "2025-01-26T00:00:00.000000000",
          "2025-02-09T00:00:00.000000000",
          "2025-02-23T00:00:00.000000000",
          "2025-03-09T00:00:00.000000000",
          "2025-03-23T00:00:00.000000000",
          "2025-04-06T00:00:00.000000000",
          "2025-04-20T00:00:00.000000000",
          "2025-05-04T00:00:00.000000000"
         ],
         "xaxis": "x3",
         "y": {
          "bdata": "Ca4sia028T+2dXF4HZXwPyGKM1hc2u8/cLgTz3z08D/km/XNDF3wP6CXXm7nHu4/cdrAcIV86z8855b9bsTuP1NjXxMpm+8/hqEyVgQb7j9PD9O6CbzxP32ER9duLvA/Ca4sia028T+2dXF4HZXwPyGKM1hc2u8/cLgTz3z08D/km/XNDF3wP6CXXm7nHu4/cdrAcIV86z8855b9bsTuP1NjXxMpm+8/hqEyVgQb7j9PD9O6CbzxP32ER9duLvA/Ca4sia028T+2dXF4HZXwPyGKM1hc2u8/cLgTz3z08D/km/XNDF3wP6CXXm7nHu4/cdrAcIV86z8855b9bsTuP1NjXxMpm+8/hqEyVgQb7j9PD9O6CbzxP32ER9duLvA/",
          "dtype": "f8"
         },
         "yaxis": "y3"
        },
        {
         "mode": "lines",
         "name": "Residuos",
         "type": "scatter",
         "x": [
          "2023-12-31T00:00:00.000000000",
          "2024-01-14T00:00:00.000000000",
          "2024-01-28T00:00:00.000000000",
          "2024-02-11T00:00:00.000000000",
          "2024-02-25T00:00:00.000000000",
          "2024-03-10T00:00:00.000000000",
          "2024-03-24T00:00:00.000000000",
          "2024-04-07T00:00:00.000000000",
          "2024-04-21T00:00:00.000000000",
          "2024-05-05T00:00:00.000000000",
          "2024-05-19T00:00:00.000000000",
          "2024-06-02T00:00:00.000000000",
          "2024-06-16T00:00:00.000000000",
          "2024-06-30T00:00:00.000000000",
          "2024-07-14T00:00:00.000000000",
          "2024-07-28T00:00:00.000000000",
          "2024-08-11T00:00:00.000000000",
          "2024-08-25T00:00:00.000000000",
          "2024-09-08T00:00:00.000000000",
          "2024-09-22T00:00:00.000000000",
          "2024-10-06T00:00:00.000000000",
          "2024-10-20T00:00:00.000000000",
          "2024-11-03T00:00:00.000000000",
          "2024-11-17T00:00:00.000000000",
          "2024-12-01T00:00:00.000000000",
          "2024-12-15T00:00:00.000000000",
          "2024-12-29T00:00:00.000000000",
          "2025-01-12T00:00:00.000000000",
          "2025-01-26T00:00:00.000000000",
          "2025-02-09T00:00:00.000000000",
          "2025-02-23T00:00:00.000000000",
          "2025-03-09T00:00:00.000000000",
          "2025-03-23T00:00:00.000000000",
          "2025-04-06T00:00:00.000000000",
          "2025-04-20T00:00:00.000000000",
          "2025-05-04T00:00:00.000000000"
         ],
         "xaxis": "x4",
         "y": {
          "bdata": "AAAAAAAA+H8AAAAAAAD4fwAAAAAAAPh/AAAAAAAA+H8AAAAAAAD4fwAAAAAAAPh/KahpDw8H8D8Q0T45jTfyP/ybZx91ue8/jIldKWCI8D8HLT+7xwPwPzjZHI3c1/A/TTxr2EaQ7j+Jm5m4183uP9cdqHqS9u4/7jtH6Esb8D9yKAaUuFPxP6nYjwmaGPA/IvkglVcZ8D90oJfWstHrP03T1hSsQ/A/ey9a9gww7z9FdEvpnhzwPyOQ2y4Uke4/IwNVOEPY8D+F0z3IernwP16SNmcdpfA/XWVDvBoF8D+w8QghXJntP6LI+prMB/A/AAAAAAAA+H8AAAAAAAD4fwAAAAAAAPh/AAAAAAAA+H8AAAAAAAD4fwAAAAAAAPh/",
          "dtype": "f8"
         },
         "yaxis": "y4"
        }
       ],
       "layout": {
        "annotations": [
         {
          "font": {
           "size": 16
          },
          "showarrow": false,
          "text": "Original",
          "x": 0.5,
          "xanchor": "center",
          "xref": "paper",
          "y": 1,
          "yanchor": "bottom",
          "yref": "paper"
         },
         {
          "font": {
           "size": 16
          },
          "showarrow": false,
          "text": "Tendencia",
          "x": 0.5,
          "xanchor": "center",
          "xref": "paper",
          "y": 0.71875,
          "yanchor": "bottom",
          "yref": "paper"
         },
         {
          "font": {
           "size": 16
          },
          "showarrow": false,
          "text": "Estacionalidad",
          "x": 0.5,
          "xanchor": "center",
          "xref": "paper",
          "y": 0.4375,
          "yanchor": "bottom",
          "yref": "paper"
         },
         {
          "font": {
           "size": 16
          },
          "showarrow": false,
          "text": "Residuos",
          "x": 0.5,
          "xanchor": "center",
          "xref": "paper",
          "y": 0.15625,
          "yanchor": "bottom",
          "yref": "paper"
         }
        ],
        "height": 800,
        "template": {
         "data": {
          "bar": [
           {
            "error_x": {
             "color": "#2a3f5f"
            },
            "error_y": {
             "color": "#2a3f5f"
            },
            "marker": {
             "line": {
              "color": "#E5ECF6",
              "width": 0.5
             },
             "pattern": {
              "fillmode": "overlay",
              "size": 10,
              "solidity": 0.2
             }
            },
            "type": "bar"
           }
          ],
          "barpolar": [
           {
            "marker": {
             "line": {
              "color": "#E5ECF6",
              "width": 0.5
             },
             "pattern": {
              "fillmode": "overlay",
              "size": 10,
              "solidity": 0.2
             }
            },
            "type": "barpolar"
           }
          ],
          "carpet": [
           {
            "aaxis": {
             "endlinecolor": "#2a3f5f",
             "gridcolor": "white",
             "linecolor": "white",
             "minorgridcolor": "white",
             "startlinecolor": "#2a3f5f"
            },
            "baxis": {
             "endlinecolor": "#2a3f5f",
             "gridcolor": "white",
             "linecolor": "white",
             "minorgridcolor": "white",
             "startlinecolor": "#2a3f5f"
            },
            "type": "carpet"
           }
          ],
          "choropleth": [
           {
            "colorbar": {
             "outlinewidth": 0,
             "ticks": ""
            },
            "type": "choropleth"
           }
          ],
          "contour": [
           {
            "colorbar": {
             "outlinewidth": 0,
             "ticks": ""
            },
            "colorscale": [
             [
              0,
              "#0d0887"
             ],
             [
              0.1111111111111111,
              "#46039f"
             ],
             [
              0.2222222222222222,
              "#7201a8"
             ],
             [
              0.3333333333333333,
              "#9c179e"
             ],
             [
              0.4444444444444444,
              "#bd3786"
             ],
             [
              0.5555555555555556,
              "#d8576b"
             ],
             [
              0.6666666666666666,
              "#ed7953"
             ],
             [
              0.7777777777777778,
              "#fb9f3a"
             ],
             [
              0.8888888888888888,
              "#fdca26"
             ],
             [
              1,
              "#f0f921"
             ]
            ],
            "type": "contour"
           }
          ],
          "contourcarpet": [
           {
            "colorbar": {
             "outlinewidth": 0,
             "ticks": ""
            },
            "type": "contourcarpet"
           }
          ],
          "heatmap": [
           {
            "colorbar": {
             "outlinewidth": 0,
             "ticks": ""
            },
            "colorscale": [
             [
              0,
              "#0d0887"
             ],
             [
              0.1111111111111111,
              "#46039f"
             ],
             [
              0.2222222222222222,
              "#7201a8"
             ],
             [
              0.3333333333333333,
              "#9c179e"
             ],
             [
              0.4444444444444444,
              "#bd3786"
             ],
             [
              0.5555555555555556,
              "#d8576b"
             ],
             [
              0.6666666666666666,
              "#ed7953"
             ],
             [
              0.7777777777777778,
              "#fb9f3a"
             ],
             [
              0.8888888888888888,
              "#fdca26"
             ],
             [
              1,
              "#f0f921"
             ]
            ],
            "type": "heatmap"
           }
          ],
          "histogram": [
           {
            "marker": {
             "pattern": {
              "fillmode": "overlay",
              "size": 10,
              "solidity": 0.2
             }
            },
            "type": "histogram"
           }
          ],
          "histogram2d": [
           {
            "colorbar": {
             "outlinewidth": 0,
             "ticks": ""
            },
            "colorscale": [
             [
              0,
              "#0d0887"
             ],
             [
              0.1111111111111111,
              "#46039f"
             ],
             [
              0.2222222222222222,
              "#7201a8"
             ],
             [
              0.3333333333333333,
              "#9c179e"
             ],
             [
              0.4444444444444444,
              "#bd3786"
             ],
             [
              0.5555555555555556,
              "#d8576b"
             ],
             [
              0.6666666666666666,
              "#ed7953"
             ],
             [
              0.7777777777777778,
              "#fb9f3a"
             ],
             [
              0.8888888888888888,
              "#fdca26"
             ],
             [
              1,
              "#f0f921"
             ]
            ],
            "type": "histogram2d"
           }
          ],
          "histogram2dcontour": [
           {
            "colorbar": {
             "outlinewidth": 0,
             "ticks": ""
            },
            "colorscale": [
             [
              0,
              "#0d0887"
             ],
             [
              0.1111111111111111,
              "#46039f"
             ],
             [
              0.2222222222222222,
              "#7201a8"
             ],
             [
              0.3333333333333333,
              "#9c179e"
             ],
             [
              0.4444444444444444,
              "#bd3786"
             ],
             [
              0.5555555555555556,
              "#d8576b"
             ],
             [
              0.6666666666666666,
              "#ed7953"
             ],
             [
              0.7777777777777778,
              "#fb9f3a"
             ],
             [
              0.8888888888888888,
              "#fdca26"
             ],
             [
              1,
              "#f0f921"
             ]
            ],
            "type": "histogram2dcontour"
           }
          ],
          "mesh3d": [
           {
            "colorbar": {
             "outlinewidth": 0,
             "ticks": ""
            },
            "type": "mesh3d"
           }
          ],
          "parcoords": [
           {
            "line": {
             "colorbar": {
              "outlinewidth": 0,
              "ticks": ""
             }
            },
            "type": "parcoords"
           }
          ],
          "pie": [
           {
            "automargin": true,
            "type": "pie"
           }
          ],
          "scatter": [
           {
            "fillpattern": {
             "fillmode": "overlay",
             "size": 10,
             "solidity": 0.2
            },
            "type": "scatter"
           }
          ],
          "scatter3d": [
           {
            "line": {
             "colorbar": {
              "outlinewidth": 0,
              "ticks": ""
             }
            },
            "marker": {
             "colorbar": {
              "outlinewidth": 0,
              "ticks": ""
             }
            },
            "type": "scatter3d"
           }
          ],
          "scattercarpet": [
           {
            "marker": {
             "colorbar": {
              "outlinewidth": 0,
              "ticks": ""
             }
            },
            "type": "scattercarpet"
           }
          ],
          "scattergeo": [
           {
            "marker": {
             "colorbar": {
              "outlinewidth": 0,
              "ticks": ""
             }
            },
            "type": "scattergeo"
           }
          ],
          "scattergl": [
           {
            "marker": {
             "colorbar": {
              "outlinewidth": 0,
              "ticks": ""
             }
            },
            "type": "scattergl"
           }
          ],
          "scattermap": [
           {
            "marker": {
             "colorbar": {
              "outlinewidth": 0,
              "ticks": ""
             }
            },
            "type": "scattermap"
           }
          ],
          "scattermapbox": [
           {
            "marker": {
             "colorbar": {
              "outlinewidth": 0,
              "ticks": ""
             }
            },
            "type": "scattermapbox"
           }
          ],
          "scatterpolar": [
           {
            "marker": {
             "colorbar": {
              "outlinewidth": 0,
              "ticks": ""
             }
            },
            "type": "scatterpolar"
           }
          ],
          "scatterpolargl": [
           {
            "marker": {
             "colorbar": {
              "outlinewidth": 0,
              "ticks": ""
             }
            },
            "type": "scatterpolargl"
           }
          ],
          "scatterternary": [
           {
            "marker": {
             "colorbar": {
              "outlinewidth": 0,
              "ticks": ""
             }
            },
            "type": "scatterternary"
           }
          ],
          "surface": [
           {
            "colorbar": {
             "outlinewidth": 0,
             "ticks": ""
            },
            "colorscale": [
             [
              0,
              "#0d0887"
             ],
             [
              0.1111111111111111,
              "#46039f"
             ],
             [
              0.2222222222222222,
              "#7201a8"
             ],
             [
              0.3333333333333333,
              "#9c179e"
             ],
             [
              0.4444444444444444,
              "#bd3786"
             ],
             [
              0.5555555555555556,
              "#d8576b"
             ],
             [
              0.6666666666666666,
              "#ed7953"
             ],
             [
              0.7777777777777778,
              "#fb9f3a"
             ],
             [
              0.8888888888888888,
              "#fdca26"
             ],
             [
              1,
              "#f0f921"
             ]
            ],
            "type": "surface"
           }
          ],
          "table": [
           {
            "cells": {
             "fill": {
              "color": "#EBF0F8"
             },
             "line": {
              "color": "white"
             }
            },
            "header": {
             "fill": {
              "color": "#C8D4E3"
             },
             "line": {
              "color": "white"
             }
            },
            "type": "table"
           }
          ]
         },
         "layout": {
          "annotationdefaults": {
           "arrowcolor": "#2a3f5f",
           "arrowhead": 0,
           "arrowwidth": 1
          },
          "autotypenumbers": "strict",
          "coloraxis": {
           "colorbar": {
            "outlinewidth": 0,
            "ticks": ""
           }
          },
          "colorscale": {
           "diverging": [
            [
             0,
             "#8e0152"
            ],
            [
             0.1,
             "#c51b7d"
            ],
            [
             0.2,
             "#de77ae"
            ],
            [
             0.3,
             "#f1b6da"
            ],
            [
             0.4,
             "#fde0ef"
            ],
            [
             0.5,
             "#f7f7f7"
            ],
            [
             0.6,
             "#e6f5d0"
            ],
            [
             0.7,
             "#b8e186"
            ],
            [
             0.8,
             "#7fbc41"
            ],
            [
             0.9,
             "#4d9221"
            ],
            [
             1,
             "#276419"
            ]
           ],
           "sequential": [
            [
             0,
             "#0d0887"
            ],
            [
             0.1111111111111111,
             "#46039f"
            ],
            [
             0.2222222222222222,
             "#7201a8"
            ],
            [
             0.3333333333333333,
             "#9c179e"
            ],
            [
             0.4444444444444444,
             "#bd3786"
            ],
            [
             0.5555555555555556,
             "#d8576b"
            ],
            [
             0.6666666666666666,
             "#ed7953"
            ],
            [
             0.7777777777777778,
             "#fb9f3a"
            ],
            [
             0.8888888888888888,
             "#fdca26"
            ],
            [
             1,
             "#f0f921"
            ]
           ],
           "sequentialminus": [
            [
             0,
             "#0d0887"
            ],
            [
             0.1111111111111111,
             "#46039f"
            ],
            [
             0.2222222222222222,
             "#7201a8"
            ],
            [
             0.3333333333333333,
             "#9c179e"
            ],
            [
             0.4444444444444444,
             "#bd3786"
            ],
            [
             0.5555555555555556,
             "#d8576b"
            ],
            [
             0.6666666666666666,
             "#ed7953"
            ],
            [
             0.7777777777777778,
             "#fb9f3a"
            ],
            [
             0.8888888888888888,
             "#fdca26"
            ],
            [
             1,
             "#f0f921"
            ]
           ]
          },
          "colorway": [
           "#636efa",
           "#EF553B",
           "#00cc96",
           "#ab63fa",
           "#FFA15A",
           "#19d3f3",
           "#FF6692",
           "#B6E880",
           "#FF97FF",
           "#FECB52"
          ],
          "font": {
           "color": "#2a3f5f"
          },
          "geo": {
           "bgcolor": "white",
           "lakecolor": "white",
           "landcolor": "#E5ECF6",
           "showlakes": true,
           "showland": true,
           "subunitcolor": "white"
          },
          "hoverlabel": {
           "align": "left"
          },
          "hovermode": "closest",
          "mapbox": {
           "style": "light"
          },
          "paper_bgcolor": "white",
          "plot_bgcolor": "#E5ECF6",
          "polar": {
           "angularaxis": {
            "gridcolor": "white",
            "linecolor": "white",
            "ticks": ""
           },
           "bgcolor": "#E5ECF6",
           "radialaxis": {
            "gridcolor": "white",
            "linecolor": "white",
            "ticks": ""
           }
          },
          "scene": {
           "xaxis": {
            "backgroundcolor": "#E5ECF6",
            "gridcolor": "white",
            "gridwidth": 2,
            "linecolor": "white",
            "showbackground": true,
            "ticks": "",
            "zerolinecolor": "white"
           },
           "yaxis": {
            "backgroundcolor": "#E5ECF6",
            "gridcolor": "white",
            "gridwidth": 2,
            "linecolor": "white",
            "showbackground": true,
            "ticks": "",
            "zerolinecolor": "white"
           },
           "zaxis": {
            "backgroundcolor": "#E5ECF6",
            "gridcolor": "white",
            "gridwidth": 2,
            "linecolor": "white",
            "showbackground": true,
            "ticks": "",
            "zerolinecolor": "white"
           }
          },
          "shapedefaults": {
           "line": {
            "color": "#2a3f5f"
           }
          },
          "ternary": {
           "aaxis": {
            "gridcolor": "white",
            "linecolor": "white",
            "ticks": ""
           },
           "baxis": {
            "gridcolor": "white",
            "linecolor": "white",
            "ticks": ""
           },
           "bgcolor": "#E5ECF6",
           "caxis": {
            "gridcolor": "white",
            "linecolor": "white",
            "ticks": ""
           }
          },
          "title": {
           "x": 0.05
          },
          "xaxis": {
           "automargin": true,
           "gridcolor": "white",
           "linecolor": "white",
           "ticks": "",
           "title": {
            "standoff": 15
           },
           "zerolinecolor": "white",
           "zerolinewidth": 2
          },
          "yaxis": {
           "automargin": true,
           "gridcolor": "white",
           "linecolor": "white",
           "ticks": "",
           "title": {
            "standoff": 15
           },
           "zerolinecolor": "white",
           "zerolinewidth": 2
          }
         }
        },
        "title": {
         "text": "Descomposición de la Serie Temporal (Multiplicative) para Finance"
        },
        "xaxis": {
         "anchor": "y",
         "domain": [
          0,
          1
         ]
        },
        "xaxis2": {
         "anchor": "y2",
         "domain": [
          0,
          1
         ]
        },
        "xaxis3": {
         "anchor": "y3",
         "domain": [
          0,
          1
         ]
        },
        "xaxis4": {
         "anchor": "y4",
         "domain": [
          0,
          1
         ]
        },
        "yaxis": {
         "anchor": "x",
         "domain": [
          0.84375,
          1
         ]
        },
        "yaxis2": {
         "anchor": "x2",
         "domain": [
          0.5625,
          0.71875
         ]
        },
        "yaxis3": {
         "anchor": "x3",
         "domain": [
          0.28125,
          0.4375
         ]
        },
        "yaxis4": {
         "anchor": "x4",
         "domain": [
          0,
          0.15625
         ]
        }
       }
      }
     },
     "metadata": {},
     "output_type": "display_data"
    },
    {
     "name": "stderr",
     "output_type": "stream",
     "text": [
      "2025-08-09 15:48:29,879 - INFO - Criterio de selección: La desviación estándar de los residuos multiplicative es menor.\n",
      "2025-08-09 15:48:29,891 - INFO - El departamento HR tiene una descomposición multiplicative.\n"
     ]
    },
    {
     "name": "stdout",
     "output_type": "stream",
     "text": [
      "Desviación estándar de los residuales aditivos: 24.99\n",
      "Desviación estándar de los residuales multiplicativos: 0.06\n",
      "P-value del test ADF: 0.00\n"
     ]
    },
    {
     "data": {
      "application/vnd.plotly.v1+json": {
       "config": {
        "plotlyServerURL": "https://plot.ly"
       },
       "data": [
        {
         "mode": "lines",
         "name": "Original",
         "type": "scatter",
         "x": [
          "2023-12-31T00:00:00.000000000",
          "2024-01-14T00:00:00.000000000",
          "2024-01-28T00:00:00.000000000",
          "2024-02-11T00:00:00.000000000",
          "2024-02-25T00:00:00.000000000",
          "2024-03-10T00:00:00.000000000",
          "2024-03-24T00:00:00.000000000",
          "2024-04-07T00:00:00.000000000",
          "2024-04-21T00:00:00.000000000",
          "2024-05-05T00:00:00.000000000",
          "2024-05-19T00:00:00.000000000",
          "2024-06-02T00:00:00.000000000",
          "2024-06-16T00:00:00.000000000",
          "2024-06-30T00:00:00.000000000",
          "2024-07-14T00:00:00.000000000",
          "2024-07-28T00:00:00.000000000",
          "2024-08-11T00:00:00.000000000",
          "2024-08-25T00:00:00.000000000",
          "2024-09-08T00:00:00.000000000",
          "2024-09-22T00:00:00.000000000",
          "2024-10-06T00:00:00.000000000",
          "2024-10-20T00:00:00.000000000",
          "2024-11-03T00:00:00.000000000",
          "2024-11-17T00:00:00.000000000",
          "2024-12-01T00:00:00.000000000",
          "2024-12-15T00:00:00.000000000",
          "2024-12-29T00:00:00.000000000",
          "2025-01-12T00:00:00.000000000",
          "2025-01-26T00:00:00.000000000",
          "2025-02-09T00:00:00.000000000",
          "2025-02-23T00:00:00.000000000",
          "2025-03-09T00:00:00.000000000",
          "2025-03-23T00:00:00.000000000",
          "2025-04-06T00:00:00.000000000",
          "2025-04-20T00:00:00.000000000",
          "2025-05-04T00:00:00.000000000"
         ],
         "xaxis": "x",
         "y": {
          "bdata": "AAAAAAAA+H8+CtejcA11QKRwPQrXs3lAH4XrUbhmd0DiehSuR2F2QD4K16NwGXhAzczMzMyIeUDMzMzMzOB5QJqZmZmZQXhAj8L1KFzbe0C4HoXrURh4QPYoXI/CaXdAzczMzMzUe0A+CtejcOV1QK5H4XoUHnpAmpmZmZn1ekCkcD0K15t2QLgehetRcHdAZmZmZmZadUDsUbgehbN3QNejcD0Ki3pAUrgeheu1d0AK16NwPWp7QFK4HoXrbXdAexSuR+EKeUAUrkfhelx8QLgehetRWHdAuB6F61F8eUB7FK5H4WJ2QFyPwvUohHVAUrgehevdc0DsUbgehWN5QHA9CtejmHhAhetRuB4heEBmZmZmZmp5QGZmZmZmanlA",
          "dtype": "f8"
         },
         "yaxis": "y"
        },
        {
         "mode": "lines",
         "name": "Tendencia",
         "type": "scatter",
         "x": [
          "2023-12-31T00:00:00.000000000",
          "2024-01-14T00:00:00.000000000",
          "2024-01-28T00:00:00.000000000",
          "2024-02-11T00:00:00.000000000",
          "2024-02-25T00:00:00.000000000",
          "2024-03-10T00:00:00.000000000",
          "2024-03-24T00:00:00.000000000",
          "2024-04-07T00:00:00.000000000",
          "2024-04-21T00:00:00.000000000",
          "2024-05-05T00:00:00.000000000",
          "2024-05-19T00:00:00.000000000",
          "2024-06-02T00:00:00.000000000",
          "2024-06-16T00:00:00.000000000",
          "2024-06-30T00:00:00.000000000",
          "2024-07-14T00:00:00.000000000",
          "2024-07-28T00:00:00.000000000",
          "2024-08-11T00:00:00.000000000",
          "2024-08-25T00:00:00.000000000",
          "2024-09-08T00:00:00.000000000",
          "2024-09-22T00:00:00.000000000",
          "2024-10-06T00:00:00.000000000",
          "2024-10-20T00:00:00.000000000",
          "2024-11-03T00:00:00.000000000",
          "2024-11-17T00:00:00.000000000",
          "2024-12-01T00:00:00.000000000",
          "2024-12-15T00:00:00.000000000",
          "2024-12-29T00:00:00.000000000",
          "2025-01-12T00:00:00.000000000",
          "2025-01-26T00:00:00.000000000",
          "2025-02-09T00:00:00.000000000",
          "2025-02-23T00:00:00.000000000",
          "2025-03-09T00:00:00.000000000",
          "2025-03-23T00:00:00.000000000",
          "2025-04-06T00:00:00.000000000",
          "2025-04-20T00:00:00.000000000",
          "2025-05-04T00:00:00.000000000"
         ],
         "xaxis": "x2",
         "y": {
          "bdata": "AAAAAAAA+H8AAAAAAAD4fwAAAAAAAPh/AAAAAAAA+H8AAAAAAAD4fwAAAAAAAPh/vITvaEx7eECdNtBpA6l4QD4K16NwtnhAuR6F69HgeEDPaQOdNgl5QOe0gU6bBHlAKFyPwvXQeEBwPQrXI414QGoDnTZQjnhAFK5H4Xp6eECqqqqqqnF4QKcNdNpAlXhASOF6FK53eEAYS36x5J54QOF6FK5HxnhAY8kvlvyYeEAYS36x5IZ4QJ420GkDcHhADnTaQKdLeEDOzMzMzE14QIiIiIgIS3hAvLu7u7s6eEAt+cWS3yl4QLy7u7u7KXhAAAAAAAAA+H8AAAAAAAD4fwAAAAAAAPh/AAAAAAAA+H8AAAAAAAD4fwAAAAAAAPh/",
          "dtype": "f8"
         },
         "yaxis": "y2"
        },
        {
         "mode": "lines",
         "name": "Estacionalidad",
         "type": "scatter",
         "x": [
          "2023-12-31T00:00:00.000000000",
          "2024-01-14T00:00:00.000000000",
          "2024-01-28T00:00:00.000000000",
          "2024-02-11T00:00:00.000000000",
          "2024-02-25T00:00:00.000000000",
          "2024-03-10T00:00:00.000000000",
          "2024-03-24T00:00:00.000000000",
          "2024-04-07T00:00:00.000000000",
          "2024-04-21T00:00:00.000000000",
          "2024-05-05T00:00:00.000000000",
          "2024-05-19T00:00:00.000000000",
          "2024-06-02T00:00:00.000000000",
          "2024-06-16T00:00:00.000000000",
          "2024-06-30T00:00:00.000000000",
          "2024-07-14T00:00:00.000000000",
          "2024-07-28T00:00:00.000000000",
          "2024-08-11T00:00:00.000000000",
          "2024-08-25T00:00:00.000000000",
          "2024-09-08T00:00:00.000000000",
          "2024-09-22T00:00:00.000000000",
          "2024-10-06T00:00:00.000000000",
          "2024-10-20T00:00:00.000000000",
          "2024-11-03T00:00:00.000000000",
          "2024-11-17T00:00:00.000000000",
          "2024-12-01T00:00:00.000000000",
          "2024-12-15T00:00:00.000000000",
          "2024-12-29T00:00:00.000000000",
          "2025-01-12T00:00:00.000000000",
          "2025-01-26T00:00:00.000000000",
          "2025-02-09T00:00:00.000000000",
          "2025-02-23T00:00:00.000000000",
          "2025-03-09T00:00:00.000000000",
          "2025-03-23T00:00:00.000000000",
          "2025-04-06T00:00:00.000000000",
          "2025-04-20T00:00:00.000000000",
          "2025-05-04T00:00:00.000000000"
         ],
         "xaxis": "x3",
         "y": {
          "bdata": "pxGNYEYh8T+uwELZ4mLwPwBnGt8iHfA/zuNQzjoj8T+VQqpmeHjtPzK/YdcaWu0/16ZycbJ+7j/e7JuNnwPwPwbJjEroVvA/12HBoJCV8D/Yn2VlbI7wP/Wta8WiKO4/pxGNYEYh8T+uwELZ4mLwPwBnGt8iHfA/zuNQzjoj8T+VQqpmeHjtPzK/YdcaWu0/16ZycbJ+7j/e7JuNnwPwPwbJjEroVvA/12HBoJCV8D/Yn2VlbI7wP/Wta8WiKO4/pxGNYEYh8T+uwELZ4mLwPwBnGt8iHfA/zuNQzjoj8T+VQqpmeHjtPzK/YdcaWu0/16ZycbJ+7j/e7JuNnwPwPwbJjEroVvA/12HBoJCV8D/Yn2VlbI7wP/Wta8WiKO4/",
          "dtype": "f8"
         },
         "yaxis": "y3"
        },
        {
         "mode": "lines",
         "name": "Residuos",
         "type": "scatter",
         "x": [
          "2023-12-31T00:00:00.000000000",
          "2024-01-14T00:00:00.000000000",
          "2024-01-28T00:00:00.000000000",
          "2024-02-11T00:00:00.000000000",
          "2024-02-25T00:00:00.000000000",
          "2024-03-10T00:00:00.000000000",
          "2024-03-24T00:00:00.000000000",
          "2024-04-07T00:00:00.000000000",
          "2024-04-21T00:00:00.000000000",
          "2024-05-05T00:00:00.000000000",
          "2024-05-19T00:00:00.000000000",
          "2024-06-02T00:00:00.000000000",
          "2024-06-16T00:00:00.000000000",
          "2024-06-30T00:00:00.000000000",
          "2024-07-14T00:00:00.000000000",
          "2024-07-28T00:00:00.000000000",
          "2024-08-11T00:00:00.000000000",
          "2024-08-25T00:00:00.000000000",
          "2024-09-08T00:00:00.000000000",
          "2024-09-22T00:00:00.000000000",
          "2024-10-06T00:00:00.000000000",
          "2024-10-20T00:00:00.000000000",
          "2024-11-03T00:00:00.000000000",
          "2024-11-17T00:00:00.000000000",
          "2024-12-01T00:00:00.000000000",
          "2024-12-15T00:00:00.000000000",
          "2024-12-29T00:00:00.000000000",
          "2025-01-12T00:00:00.000000000",
          "2025-01-26T00:00:00.000000000",
          "2025-02-09T00:00:00.000000000",
          "2025-02-23T00:00:00.000000000",
          "2025-03-09T00:00:00.000000000",
          "2025-03-23T00:00:00.000000000",
          "2025-04-06T00:00:00.000000000",
          "2025-04-20T00:00:00.000000000",
          "2025-05-04T00:00:00.000000000"
         ],
         "xaxis": "x4",
         "y": {
          "bdata": "AAAAAAAA+H8AAAAAAAD4fwAAAAAAAPh/AAAAAAAA+H8AAAAAAAD4fwAAAAAAAPh/WP8ZbPyC8T+XKwt/fsbwP+A0o1Olwe4/2sHFnddI8T89Os7EK8PtP4xuvKCNxu8/mUafpZ3C8D8Ml86t293rP4D3vhy15fA/V9n5x65z8D99EyZJoRHwP5f89x6rofA/EtZPfSBO7T+VfW1XHMfuP/FP8AA6yfA/EFH4GWrC7T9EzVrIdkjxPxyzY9rFRvA/k0dFCt7O7j/entrTHjvyP8TlBRyviO4/FCKQxbts7z/l1pthaxjwP5TbkxfDEO8/AAAAAAAA+H8AAAAAAAD4fwAAAAAAAPh/AAAAAAAA+H8AAAAAAAD4fwAAAAAAAPh/",
          "dtype": "f8"
         },
         "yaxis": "y4"
        }
       ],
       "layout": {
        "annotations": [
         {
          "font": {
           "size": 16
          },
          "showarrow": false,
          "text": "Original",
          "x": 0.5,
          "xanchor": "center",
          "xref": "paper",
          "y": 1,
          "yanchor": "bottom",
          "yref": "paper"
         },
         {
          "font": {
           "size": 16
          },
          "showarrow": false,
          "text": "Tendencia",
          "x": 0.5,
          "xanchor": "center",
          "xref": "paper",
          "y": 0.71875,
          "yanchor": "bottom",
          "yref": "paper"
         },
         {
          "font": {
           "size": 16
          },
          "showarrow": false,
          "text": "Estacionalidad",
          "x": 0.5,
          "xanchor": "center",
          "xref": "paper",
          "y": 0.4375,
          "yanchor": "bottom",
          "yref": "paper"
         },
         {
          "font": {
           "size": 16
          },
          "showarrow": false,
          "text": "Residuos",
          "x": 0.5,
          "xanchor": "center",
          "xref": "paper",
          "y": 0.15625,
          "yanchor": "bottom",
          "yref": "paper"
         }
        ],
        "height": 800,
        "template": {
         "data": {
          "bar": [
           {
            "error_x": {
             "color": "#2a3f5f"
            },
            "error_y": {
             "color": "#2a3f5f"
            },
            "marker": {
             "line": {
              "color": "#E5ECF6",
              "width": 0.5
             },
             "pattern": {
              "fillmode": "overlay",
              "size": 10,
              "solidity": 0.2
             }
            },
            "type": "bar"
           }
          ],
          "barpolar": [
           {
            "marker": {
             "line": {
              "color": "#E5ECF6",
              "width": 0.5
             },
             "pattern": {
              "fillmode": "overlay",
              "size": 10,
              "solidity": 0.2
             }
            },
            "type": "barpolar"
           }
          ],
          "carpet": [
           {
            "aaxis": {
             "endlinecolor": "#2a3f5f",
             "gridcolor": "white",
             "linecolor": "white",
             "minorgridcolor": "white",
             "startlinecolor": "#2a3f5f"
            },
            "baxis": {
             "endlinecolor": "#2a3f5f",
             "gridcolor": "white",
             "linecolor": "white",
             "minorgridcolor": "white",
             "startlinecolor": "#2a3f5f"
            },
            "type": "carpet"
           }
          ],
          "choropleth": [
           {
            "colorbar": {
             "outlinewidth": 0,
             "ticks": ""
            },
            "type": "choropleth"
           }
          ],
          "contour": [
           {
            "colorbar": {
             "outlinewidth": 0,
             "ticks": ""
            },
            "colorscale": [
             [
              0,
              "#0d0887"
             ],
             [
              0.1111111111111111,
              "#46039f"
             ],
             [
              0.2222222222222222,
              "#7201a8"
             ],
             [
              0.3333333333333333,
              "#9c179e"
             ],
             [
              0.4444444444444444,
              "#bd3786"
             ],
             [
              0.5555555555555556,
              "#d8576b"
             ],
             [
              0.6666666666666666,
              "#ed7953"
             ],
             [
              0.7777777777777778,
              "#fb9f3a"
             ],
             [
              0.8888888888888888,
              "#fdca26"
             ],
             [
              1,
              "#f0f921"
             ]
            ],
            "type": "contour"
           }
          ],
          "contourcarpet": [
           {
            "colorbar": {
             "outlinewidth": 0,
             "ticks": ""
            },
            "type": "contourcarpet"
           }
          ],
          "heatmap": [
           {
            "colorbar": {
             "outlinewidth": 0,
             "ticks": ""
            },
            "colorscale": [
             [
              0,
              "#0d0887"
             ],
             [
              0.1111111111111111,
              "#46039f"
             ],
             [
              0.2222222222222222,
              "#7201a8"
             ],
             [
              0.3333333333333333,
              "#9c179e"
             ],
             [
              0.4444444444444444,
              "#bd3786"
             ],
             [
              0.5555555555555556,
              "#d8576b"
             ],
             [
              0.6666666666666666,
              "#ed7953"
             ],
             [
              0.7777777777777778,
              "#fb9f3a"
             ],
             [
              0.8888888888888888,
              "#fdca26"
             ],
             [
              1,
              "#f0f921"
             ]
            ],
            "type": "heatmap"
           }
          ],
          "histogram": [
           {
            "marker": {
             "pattern": {
              "fillmode": "overlay",
              "size": 10,
              "solidity": 0.2
             }
            },
            "type": "histogram"
           }
          ],
          "histogram2d": [
           {
            "colorbar": {
             "outlinewidth": 0,
             "ticks": ""
            },
            "colorscale": [
             [
              0,
              "#0d0887"
             ],
             [
              0.1111111111111111,
              "#46039f"
             ],
             [
              0.2222222222222222,
              "#7201a8"
             ],
             [
              0.3333333333333333,
              "#9c179e"
             ],
             [
              0.4444444444444444,
              "#bd3786"
             ],
             [
              0.5555555555555556,
              "#d8576b"
             ],
             [
              0.6666666666666666,
              "#ed7953"
             ],
             [
              0.7777777777777778,
              "#fb9f3a"
             ],
             [
              0.8888888888888888,
              "#fdca26"
             ],
             [
              1,
              "#f0f921"
             ]
            ],
            "type": "histogram2d"
           }
          ],
          "histogram2dcontour": [
           {
            "colorbar": {
             "outlinewidth": 0,
             "ticks": ""
            },
            "colorscale": [
             [
              0,
              "#0d0887"
             ],
             [
              0.1111111111111111,
              "#46039f"
             ],
             [
              0.2222222222222222,
              "#7201a8"
             ],
             [
              0.3333333333333333,
              "#9c179e"
             ],
             [
              0.4444444444444444,
              "#bd3786"
             ],
             [
              0.5555555555555556,
              "#d8576b"
             ],
             [
              0.6666666666666666,
              "#ed7953"
             ],
             [
              0.7777777777777778,
              "#fb9f3a"
             ],
             [
              0.8888888888888888,
              "#fdca26"
             ],
             [
              1,
              "#f0f921"
             ]
            ],
            "type": "histogram2dcontour"
           }
          ],
          "mesh3d": [
           {
            "colorbar": {
             "outlinewidth": 0,
             "ticks": ""
            },
            "type": "mesh3d"
           }
          ],
          "parcoords": [
           {
            "line": {
             "colorbar": {
              "outlinewidth": 0,
              "ticks": ""
             }
            },
            "type": "parcoords"
           }
          ],
          "pie": [
           {
            "automargin": true,
            "type": "pie"
           }
          ],
          "scatter": [
           {
            "fillpattern": {
             "fillmode": "overlay",
             "size": 10,
             "solidity": 0.2
            },
            "type": "scatter"
           }
          ],
          "scatter3d": [
           {
            "line": {
             "colorbar": {
              "outlinewidth": 0,
              "ticks": ""
             }
            },
            "marker": {
             "colorbar": {
              "outlinewidth": 0,
              "ticks": ""
             }
            },
            "type": "scatter3d"
           }
          ],
          "scattercarpet": [
           {
            "marker": {
             "colorbar": {
              "outlinewidth": 0,
              "ticks": ""
             }
            },
            "type": "scattercarpet"
           }
          ],
          "scattergeo": [
           {
            "marker": {
             "colorbar": {
              "outlinewidth": 0,
              "ticks": ""
             }
            },
            "type": "scattergeo"
           }
          ],
          "scattergl": [
           {
            "marker": {
             "colorbar": {
              "outlinewidth": 0,
              "ticks": ""
             }
            },
            "type": "scattergl"
           }
          ],
          "scattermap": [
           {
            "marker": {
             "colorbar": {
              "outlinewidth": 0,
              "ticks": ""
             }
            },
            "type": "scattermap"
           }
          ],
          "scattermapbox": [
           {
            "marker": {
             "colorbar": {
              "outlinewidth": 0,
              "ticks": ""
             }
            },
            "type": "scattermapbox"
           }
          ],
          "scatterpolar": [
           {
            "marker": {
             "colorbar": {
              "outlinewidth": 0,
              "ticks": ""
             }
            },
            "type": "scatterpolar"
           }
          ],
          "scatterpolargl": [
           {
            "marker": {
             "colorbar": {
              "outlinewidth": 0,
              "ticks": ""
             }
            },
            "type": "scatterpolargl"
           }
          ],
          "scatterternary": [
           {
            "marker": {
             "colorbar": {
              "outlinewidth": 0,
              "ticks": ""
             }
            },
            "type": "scatterternary"
           }
          ],
          "surface": [
           {
            "colorbar": {
             "outlinewidth": 0,
             "ticks": ""
            },
            "colorscale": [
             [
              0,
              "#0d0887"
             ],
             [
              0.1111111111111111,
              "#46039f"
             ],
             [
              0.2222222222222222,
              "#7201a8"
             ],
             [
              0.3333333333333333,
              "#9c179e"
             ],
             [
              0.4444444444444444,
              "#bd3786"
             ],
             [
              0.5555555555555556,
              "#d8576b"
             ],
             [
              0.6666666666666666,
              "#ed7953"
             ],
             [
              0.7777777777777778,
              "#fb9f3a"
             ],
             [
              0.8888888888888888,
              "#fdca26"
             ],
             [
              1,
              "#f0f921"
             ]
            ],
            "type": "surface"
           }
          ],
          "table": [
           {
            "cells": {
             "fill": {
              "color": "#EBF0F8"
             },
             "line": {
              "color": "white"
             }
            },
            "header": {
             "fill": {
              "color": "#C8D4E3"
             },
             "line": {
              "color": "white"
             }
            },
            "type": "table"
           }
          ]
         },
         "layout": {
          "annotationdefaults": {
           "arrowcolor": "#2a3f5f",
           "arrowhead": 0,
           "arrowwidth": 1
          },
          "autotypenumbers": "strict",
          "coloraxis": {
           "colorbar": {
            "outlinewidth": 0,
            "ticks": ""
           }
          },
          "colorscale": {
           "diverging": [
            [
             0,
             "#8e0152"
            ],
            [
             0.1,
             "#c51b7d"
            ],
            [
             0.2,
             "#de77ae"
            ],
            [
             0.3,
             "#f1b6da"
            ],
            [
             0.4,
             "#fde0ef"
            ],
            [
             0.5,
             "#f7f7f7"
            ],
            [
             0.6,
             "#e6f5d0"
            ],
            [
             0.7,
             "#b8e186"
            ],
            [
             0.8,
             "#7fbc41"
            ],
            [
             0.9,
             "#4d9221"
            ],
            [
             1,
             "#276419"
            ]
           ],
           "sequential": [
            [
             0,
             "#0d0887"
            ],
            [
             0.1111111111111111,
             "#46039f"
            ],
            [
             0.2222222222222222,
             "#7201a8"
            ],
            [
             0.3333333333333333,
             "#9c179e"
            ],
            [
             0.4444444444444444,
             "#bd3786"
            ],
            [
             0.5555555555555556,
             "#d8576b"
            ],
            [
             0.6666666666666666,
             "#ed7953"
            ],
            [
             0.7777777777777778,
             "#fb9f3a"
            ],
            [
             0.8888888888888888,
             "#fdca26"
            ],
            [
             1,
             "#f0f921"
            ]
           ],
           "sequentialminus": [
            [
             0,
             "#0d0887"
            ],
            [
             0.1111111111111111,
             "#46039f"
            ],
            [
             0.2222222222222222,
             "#7201a8"
            ],
            [
             0.3333333333333333,
             "#9c179e"
            ],
            [
             0.4444444444444444,
             "#bd3786"
            ],
            [
             0.5555555555555556,
             "#d8576b"
            ],
            [
             0.6666666666666666,
             "#ed7953"
            ],
            [
             0.7777777777777778,
             "#fb9f3a"
            ],
            [
             0.8888888888888888,
             "#fdca26"
            ],
            [
             1,
             "#f0f921"
            ]
           ]
          },
          "colorway": [
           "#636efa",
           "#EF553B",
           "#00cc96",
           "#ab63fa",
           "#FFA15A",
           "#19d3f3",
           "#FF6692",
           "#B6E880",
           "#FF97FF",
           "#FECB52"
          ],
          "font": {
           "color": "#2a3f5f"
          },
          "geo": {
           "bgcolor": "white",
           "lakecolor": "white",
           "landcolor": "#E5ECF6",
           "showlakes": true,
           "showland": true,
           "subunitcolor": "white"
          },
          "hoverlabel": {
           "align": "left"
          },
          "hovermode": "closest",
          "mapbox": {
           "style": "light"
          },
          "paper_bgcolor": "white",
          "plot_bgcolor": "#E5ECF6",
          "polar": {
           "angularaxis": {
            "gridcolor": "white",
            "linecolor": "white",
            "ticks": ""
           },
           "bgcolor": "#E5ECF6",
           "radialaxis": {
            "gridcolor": "white",
            "linecolor": "white",
            "ticks": ""
           }
          },
          "scene": {
           "xaxis": {
            "backgroundcolor": "#E5ECF6",
            "gridcolor": "white",
            "gridwidth": 2,
            "linecolor": "white",
            "showbackground": true,
            "ticks": "",
            "zerolinecolor": "white"
           },
           "yaxis": {
            "backgroundcolor": "#E5ECF6",
            "gridcolor": "white",
            "gridwidth": 2,
            "linecolor": "white",
            "showbackground": true,
            "ticks": "",
            "zerolinecolor": "white"
           },
           "zaxis": {
            "backgroundcolor": "#E5ECF6",
            "gridcolor": "white",
            "gridwidth": 2,
            "linecolor": "white",
            "showbackground": true,
            "ticks": "",
            "zerolinecolor": "white"
           }
          },
          "shapedefaults": {
           "line": {
            "color": "#2a3f5f"
           }
          },
          "ternary": {
           "aaxis": {
            "gridcolor": "white",
            "linecolor": "white",
            "ticks": ""
           },
           "baxis": {
            "gridcolor": "white",
            "linecolor": "white",
            "ticks": ""
           },
           "bgcolor": "#E5ECF6",
           "caxis": {
            "gridcolor": "white",
            "linecolor": "white",
            "ticks": ""
           }
          },
          "title": {
           "x": 0.05
          },
          "xaxis": {
           "automargin": true,
           "gridcolor": "white",
           "linecolor": "white",
           "ticks": "",
           "title": {
            "standoff": 15
           },
           "zerolinecolor": "white",
           "zerolinewidth": 2
          },
          "yaxis": {
           "automargin": true,
           "gridcolor": "white",
           "linecolor": "white",
           "ticks": "",
           "title": {
            "standoff": 15
           },
           "zerolinecolor": "white",
           "zerolinewidth": 2
          }
         }
        },
        "title": {
         "text": "Descomposición de la Serie Temporal (Multiplicative) para HR"
        },
        "xaxis": {
         "anchor": "y",
         "domain": [
          0,
          1
         ]
        },
        "xaxis2": {
         "anchor": "y2",
         "domain": [
          0,
          1
         ]
        },
        "xaxis3": {
         "anchor": "y3",
         "domain": [
          0,
          1
         ]
        },
        "xaxis4": {
         "anchor": "y4",
         "domain": [
          0,
          1
         ]
        },
        "yaxis": {
         "anchor": "x",
         "domain": [
          0.84375,
          1
         ]
        },
        "yaxis2": {
         "anchor": "x2",
         "domain": [
          0.5625,
          0.71875
         ]
        },
        "yaxis3": {
         "anchor": "x3",
         "domain": [
          0.28125,
          0.4375
         ]
        },
        "yaxis4": {
         "anchor": "x4",
         "domain": [
          0,
          0.15625
         ]
        }
       }
      }
     },
     "metadata": {},
     "output_type": "display_data"
    },
    {
     "name": "stderr",
     "output_type": "stream",
     "text": [
      "2025-08-09 15:48:30,012 - INFO - Criterio de selección: La desviación estándar de los residuos multiplicative es menor.\n",
      "2025-08-09 15:48:30,013 - INFO - El departamento IT tiene una descomposición multiplicative.\n"
     ]
    },
    {
     "name": "stdout",
     "output_type": "stream",
     "text": [
      "Desviación estándar de los residuales aditivos: 15.15\n",
      "Desviación estándar de los residuales multiplicativos: 0.04\n",
      "P-value del test ADF: 0.00\n"
     ]
    },
    {
     "data": {
      "application/vnd.plotly.v1+json": {
       "config": {
        "plotlyServerURL": "https://plot.ly"
       },
       "data": [
        {
         "mode": "lines",
         "name": "Original",
         "type": "scatter",
         "x": [
          "2023-12-31T00:00:00.000000000",
          "2024-01-14T00:00:00.000000000",
          "2024-01-28T00:00:00.000000000",
          "2024-02-11T00:00:00.000000000",
          "2024-02-25T00:00:00.000000000",
          "2024-03-10T00:00:00.000000000",
          "2024-03-24T00:00:00.000000000",
          "2024-04-07T00:00:00.000000000",
          "2024-04-21T00:00:00.000000000",
          "2024-05-05T00:00:00.000000000",
          "2024-05-19T00:00:00.000000000",
          "2024-06-02T00:00:00.000000000",
          "2024-06-16T00:00:00.000000000",
          "2024-06-30T00:00:00.000000000",
          "2024-07-14T00:00:00.000000000",
          "2024-07-28T00:00:00.000000000",
          "2024-08-11T00:00:00.000000000",
          "2024-08-25T00:00:00.000000000",
          "2024-09-08T00:00:00.000000000",
          "2024-09-22T00:00:00.000000000",
          "2024-10-06T00:00:00.000000000",
          "2024-10-20T00:00:00.000000000",
          "2024-11-03T00:00:00.000000000",
          "2024-11-17T00:00:00.000000000",
          "2024-12-01T00:00:00.000000000",
          "2024-12-15T00:00:00.000000000",
          "2024-12-29T00:00:00.000000000",
          "2025-01-12T00:00:00.000000000",
          "2025-01-26T00:00:00.000000000",
          "2025-02-09T00:00:00.000000000",
          "2025-02-23T00:00:00.000000000",
          "2025-03-09T00:00:00.000000000",
          "2025-03-23T00:00:00.000000000",
          "2025-04-06T00:00:00.000000000",
          "2025-04-20T00:00:00.000000000",
          "2025-05-04T00:00:00.000000000"
         ],
         "xaxis": "x",
         "y": {
          "bdata": "AAAAAAAA+H8AAAAAAAD4f5DC9ShcU3pAj8L1KFzneUCamZmZmbF1QJDC9Shcp3pAMzMzMzNXeEBSuB6F61l5QFyPwvUoSHpAXI/C9Sjke0CkcD0K10d4QMP1KFyPSnxAmpmZmZkhe0BI4XoUrlN8QJDC9Shcn3pAuB6F61EAeEBmZmZmZg56QPYoXI/CZXpAmpmZmZkxeUApXI/C9QR9QK5H4XoUbnxA9ihcj8I5ekCQwvUoXMN8QD4K16NwAXpAuB6F61GMe0DMzMzMzHJ6QOF6FK5HWXlA4XoUrkcVeEDrUbgehTN6QGZmZmZmMnpAXI/C9SgYd0AUrkfheox7QGZmZmZmyntA7FG4HoWjfUDMzMzMzKh4QMzMzMzMqHhA",
          "dtype": "f8"
         },
         "yaxis": "y"
        },
        {
         "mode": "lines",
         "name": "Tendencia",
         "type": "scatter",
         "x": [
          "2023-12-31T00:00:00.000000000",
          "2024-01-14T00:00:00.000000000",
          "2024-01-28T00:00:00.000000000",
          "2024-02-11T00:00:00.000000000",
          "2024-02-25T00:00:00.000000000",
          "2024-03-10T00:00:00.000000000",
          "2024-03-24T00:00:00.000000000",
          "2024-04-07T00:00:00.000000000",
          "2024-04-21T00:00:00.000000000",
          "2024-05-05T00:00:00.000000000",
          "2024-05-19T00:00:00.000000000",
          "2024-06-02T00:00:00.000000000",
          "2024-06-16T00:00:00.000000000",
          "2024-06-30T00:00:00.000000000",
          "2024-07-14T00:00:00.000000000",
          "2024-07-28T00:00:00.000000000",
          "2024-08-11T00:00:00.000000000",
          "2024-08-25T00:00:00.000000000",
          "2024-09-08T00:00:00.000000000",
          "2024-09-22T00:00:00.000000000",
          "2024-10-06T00:00:00.000000000",
          "2024-10-20T00:00:00.000000000",
          "2024-11-03T00:00:00.000000000",
          "2024-11-17T00:00:00.000000000",
          "2024-12-01T00:00:00.000000000",
          "2024-12-15T00:00:00.000000000",
          "2024-12-29T00:00:00.000000000",
          "2025-01-12T00:00:00.000000000",
          "2025-01-26T00:00:00.000000000",
          "2025-02-09T00:00:00.000000000",
          "2025-02-23T00:00:00.000000000",
          "2025-03-09T00:00:00.000000000",
          "2025-03-23T00:00:00.000000000",
          "2025-04-06T00:00:00.000000000",
          "2025-04-20T00:00:00.000000000",
          "2025-05-04T00:00:00.000000000"
         ],
         "xaxis": "x2",
         "y": {
          "bdata": "AAAAAAAA+H8AAAAAAAD4fwAAAAAAAPh/AAAAAAAA+H8AAAAAAAD4fwAAAAAAAPh/mMv+MUXUeUBb9Y4o4vN5QLy7u7s7DXpA57SBThv8eUDyiyW/WBZ6QL9Y8oslQnpAnTbQaYNIekAJ16NwvXh6QOF6FK7HtnpAoNMGOu27ekDFkl8s+dl6QLWBThto8XpAxZJfLHndekAiIiIi4s16QPcoXI9CrHpAJr9Y8oufekB4d3d396F6QC35xZJfoXpApHA9CteIekD2KFyPwmJ6QKgNdNpATHpApHA9CtdpekDGkl8seWJ6QKJwPQpXKHpAAAAAAAAA+H8AAAAAAAD4fwAAAAAAAPh/AAAAAAAA+H8AAAAAAAD4fwAAAAAAAPh/",
          "dtype": "f8"
         },
         "yaxis": "y2"
        },
        {
         "mode": "lines",
         "name": "Estacionalidad",
         "type": "scatter",
         "x": [
          "2023-12-31T00:00:00.000000000",
          "2024-01-14T00:00:00.000000000",
          "2024-01-28T00:00:00.000000000",
          "2024-02-11T00:00:00.000000000",
          "2024-02-25T00:00:00.000000000",
          "2024-03-10T00:00:00.000000000",
          "2024-03-24T00:00:00.000000000",
          "2024-04-07T00:00:00.000000000",
          "2024-04-21T00:00:00.000000000",
          "2024-05-05T00:00:00.000000000",
          "2024-05-19T00:00:00.000000000",
          "2024-06-02T00:00:00.000000000",
          "2024-06-16T00:00:00.000000000",
          "2024-06-30T00:00:00.000000000",
          "2024-07-14T00:00:00.000000000",
          "2024-07-28T00:00:00.000000000",
          "2024-08-11T00:00:00.000000000",
          "2024-08-25T00:00:00.000000000",
          "2024-09-08T00:00:00.000000000",
          "2024-09-22T00:00:00.000000000",
          "2024-10-06T00:00:00.000000000",
          "2024-10-20T00:00:00.000000000",
          "2024-11-03T00:00:00.000000000",
          "2024-11-17T00:00:00.000000000",
          "2024-12-01T00:00:00.000000000",
          "2024-12-15T00:00:00.000000000",
          "2024-12-29T00:00:00.000000000",
          "2025-01-12T00:00:00.000000000",
          "2025-01-26T00:00:00.000000000",
          "2025-02-09T00:00:00.000000000",
          "2025-02-23T00:00:00.000000000",
          "2025-03-09T00:00:00.000000000",
          "2025-03-23T00:00:00.000000000",
          "2025-04-06T00:00:00.000000000",
          "2025-04-20T00:00:00.000000000",
          "2025-05-04T00:00:00.000000000"
         ],
         "xaxis": "x3",
         "y": {
          "bdata": "o5Rc0yuR8D8QDKBgQpXwP5UOhJrHX+8/R3A+um/17D+zVAR63GvvP67m3Z7gtO8/9jILZa8W7j/GRNcopnrwPyO2rgbgmfA/IwAC5Id48D8bE/by1BbwP45aLdxcb/A/o5Rc0yuR8D8QDKBgQpXwP5UOhJrHX+8/R3A+um/17D+zVAR63GvvP67m3Z7gtO8/9jILZa8W7j/GRNcopnrwPyO2rgbgmfA/IwAC5Id48D8bE/by1BbwP45aLdxcb/A/o5Rc0yuR8D8QDKBgQpXwP5UOhJrHX+8/R3A+um/17D+zVAR63GvvP67m3Z7gtO8/9jILZa8W7j/GRNcopnrwPyO2rgbgmfA/IwAC5Id48D8bE/by1BbwP45aLdxcb/A/",
          "dtype": "f8"
         },
         "yaxis": "y3"
        },
        {
         "mode": "lines",
         "name": "Residuos",
         "type": "scatter",
         "x": [
          "2023-12-31T00:00:00.000000000",
          "2024-01-14T00:00:00.000000000",
          "2024-01-28T00:00:00.000000000",
          "2024-02-11T00:00:00.000000000",
          "2024-02-25T00:00:00.000000000",
          "2024-03-10T00:00:00.000000000",
          "2024-03-24T00:00:00.000000000",
          "2024-04-07T00:00:00.000000000",
          "2024-04-21T00:00:00.000000000",
          "2024-05-05T00:00:00.000000000",
          "2024-05-19T00:00:00.000000000",
          "2024-06-02T00:00:00.000000000",
          "2024-06-16T00:00:00.000000000",
          "2024-06-30T00:00:00.000000000",
          "2024-07-14T00:00:00.000000000",
          "2024-07-28T00:00:00.000000000",
          "2024-08-11T00:00:00.000000000",
          "2024-08-25T00:00:00.000000000",
          "2024-09-08T00:00:00.000000000",
          "2024-09-22T00:00:00.000000000",
          "2024-10-06T00:00:00.000000000",
          "2024-10-20T00:00:00.000000000",
          "2024-11-03T00:00:00.000000000",
          "2024-11-17T00:00:00.000000000",
          "2024-12-01T00:00:00.000000000",
          "2024-12-15T00:00:00.000000000",
          "2024-12-29T00:00:00.000000000",
          "2025-01-12T00:00:00.000000000",
          "2025-01-26T00:00:00.000000000",
          "2025-02-09T00:00:00.000000000",
          "2025-02-23T00:00:00.000000000",
          "2025-03-09T00:00:00.000000000",
          "2025-03-23T00:00:00.000000000",
          "2025-04-06T00:00:00.000000000",
          "2025-04-20T00:00:00.000000000",
          "2025-05-04T00:00:00.000000000"
         ],
         "xaxis": "x4",
         "y": {
          "bdata": "AAAAAAAA+H8AAAAAAAD4fwAAAAAAAPh/AAAAAAAA+H8AAAAAAAD4fwAAAAAAAPh/YbiJ7yUJ8D/CBSd8g1nuPz8d/ysnHe8/N8IqLdeu8D+ttvxuZp7tPyXvo21LyPA/y2qvX9rm7z8ms2OG9YTwP0Hxe7pmQ/A/ji3k/vi+7z9f6jLNyp/vPydNROxspO8/9iJUKF7q7z/7RqBFk9HwPzw7tG3Bb/A/Rw8Srfue7j+EbjXMIS/xP2y1HywTbO4/dRTc0+cK8D9qLaD6vvLuPzOxb5Lcde8/FbNBhNge8D+rVBqdby7wP0ijkY0eLPA/AAAAAAAA+H8AAAAAAAD4fwAAAAAAAPh/AAAAAAAA+H8AAAAAAAD4fwAAAAAAAPh/",
          "dtype": "f8"
         },
         "yaxis": "y4"
        }
       ],
       "layout": {
        "annotations": [
         {
          "font": {
           "size": 16
          },
          "showarrow": false,
          "text": "Original",
          "x": 0.5,
          "xanchor": "center",
          "xref": "paper",
          "y": 1,
          "yanchor": "bottom",
          "yref": "paper"
         },
         {
          "font": {
           "size": 16
          },
          "showarrow": false,
          "text": "Tendencia",
          "x": 0.5,
          "xanchor": "center",
          "xref": "paper",
          "y": 0.71875,
          "yanchor": "bottom",
          "yref": "paper"
         },
         {
          "font": {
           "size": 16
          },
          "showarrow": false,
          "text": "Estacionalidad",
          "x": 0.5,
          "xanchor": "center",
          "xref": "paper",
          "y": 0.4375,
          "yanchor": "bottom",
          "yref": "paper"
         },
         {
          "font": {
           "size": 16
          },
          "showarrow": false,
          "text": "Residuos",
          "x": 0.5,
          "xanchor": "center",
          "xref": "paper",
          "y": 0.15625,
          "yanchor": "bottom",
          "yref": "paper"
         }
        ],
        "height": 800,
        "template": {
         "data": {
          "bar": [
           {
            "error_x": {
             "color": "#2a3f5f"
            },
            "error_y": {
             "color": "#2a3f5f"
            },
            "marker": {
             "line": {
              "color": "#E5ECF6",
              "width": 0.5
             },
             "pattern": {
              "fillmode": "overlay",
              "size": 10,
              "solidity": 0.2
             }
            },
            "type": "bar"
           }
          ],
          "barpolar": [
           {
            "marker": {
             "line": {
              "color": "#E5ECF6",
              "width": 0.5
             },
             "pattern": {
              "fillmode": "overlay",
              "size": 10,
              "solidity": 0.2
             }
            },
            "type": "barpolar"
           }
          ],
          "carpet": [
           {
            "aaxis": {
             "endlinecolor": "#2a3f5f",
             "gridcolor": "white",
             "linecolor": "white",
             "minorgridcolor": "white",
             "startlinecolor": "#2a3f5f"
            },
            "baxis": {
             "endlinecolor": "#2a3f5f",
             "gridcolor": "white",
             "linecolor": "white",
             "minorgridcolor": "white",
             "startlinecolor": "#2a3f5f"
            },
            "type": "carpet"
           }
          ],
          "choropleth": [
           {
            "colorbar": {
             "outlinewidth": 0,
             "ticks": ""
            },
            "type": "choropleth"
           }
          ],
          "contour": [
           {
            "colorbar": {
             "outlinewidth": 0,
             "ticks": ""
            },
            "colorscale": [
             [
              0,
              "#0d0887"
             ],
             [
              0.1111111111111111,
              "#46039f"
             ],
             [
              0.2222222222222222,
              "#7201a8"
             ],
             [
              0.3333333333333333,
              "#9c179e"
             ],
             [
              0.4444444444444444,
              "#bd3786"
             ],
             [
              0.5555555555555556,
              "#d8576b"
             ],
             [
              0.6666666666666666,
              "#ed7953"
             ],
             [
              0.7777777777777778,
              "#fb9f3a"
             ],
             [
              0.8888888888888888,
              "#fdca26"
             ],
             [
              1,
              "#f0f921"
             ]
            ],
            "type": "contour"
           }
          ],
          "contourcarpet": [
           {
            "colorbar": {
             "outlinewidth": 0,
             "ticks": ""
            },
            "type": "contourcarpet"
           }
          ],
          "heatmap": [
           {
            "colorbar": {
             "outlinewidth": 0,
             "ticks": ""
            },
            "colorscale": [
             [
              0,
              "#0d0887"
             ],
             [
              0.1111111111111111,
              "#46039f"
             ],
             [
              0.2222222222222222,
              "#7201a8"
             ],
             [
              0.3333333333333333,
              "#9c179e"
             ],
             [
              0.4444444444444444,
              "#bd3786"
             ],
             [
              0.5555555555555556,
              "#d8576b"
             ],
             [
              0.6666666666666666,
              "#ed7953"
             ],
             [
              0.7777777777777778,
              "#fb9f3a"
             ],
             [
              0.8888888888888888,
              "#fdca26"
             ],
             [
              1,
              "#f0f921"
             ]
            ],
            "type": "heatmap"
           }
          ],
          "histogram": [
           {
            "marker": {
             "pattern": {
              "fillmode": "overlay",
              "size": 10,
              "solidity": 0.2
             }
            },
            "type": "histogram"
           }
          ],
          "histogram2d": [
           {
            "colorbar": {
             "outlinewidth": 0,
             "ticks": ""
            },
            "colorscale": [
             [
              0,
              "#0d0887"
             ],
             [
              0.1111111111111111,
              "#46039f"
             ],
             [
              0.2222222222222222,
              "#7201a8"
             ],
             [
              0.3333333333333333,
              "#9c179e"
             ],
             [
              0.4444444444444444,
              "#bd3786"
             ],
             [
              0.5555555555555556,
              "#d8576b"
             ],
             [
              0.6666666666666666,
              "#ed7953"
             ],
             [
              0.7777777777777778,
              "#fb9f3a"
             ],
             [
              0.8888888888888888,
              "#fdca26"
             ],
             [
              1,
              "#f0f921"
             ]
            ],
            "type": "histogram2d"
           }
          ],
          "histogram2dcontour": [
           {
            "colorbar": {
             "outlinewidth": 0,
             "ticks": ""
            },
            "colorscale": [
             [
              0,
              "#0d0887"
             ],
             [
              0.1111111111111111,
              "#46039f"
             ],
             [
              0.2222222222222222,
              "#7201a8"
             ],
             [
              0.3333333333333333,
              "#9c179e"
             ],
             [
              0.4444444444444444,
              "#bd3786"
             ],
             [
              0.5555555555555556,
              "#d8576b"
             ],
             [
              0.6666666666666666,
              "#ed7953"
             ],
             [
              0.7777777777777778,
              "#fb9f3a"
             ],
             [
              0.8888888888888888,
              "#fdca26"
             ],
             [
              1,
              "#f0f921"
             ]
            ],
            "type": "histogram2dcontour"
           }
          ],
          "mesh3d": [
           {
            "colorbar": {
             "outlinewidth": 0,
             "ticks": ""
            },
            "type": "mesh3d"
           }
          ],
          "parcoords": [
           {
            "line": {
             "colorbar": {
              "outlinewidth": 0,
              "ticks": ""
             }
            },
            "type": "parcoords"
           }
          ],
          "pie": [
           {
            "automargin": true,
            "type": "pie"
           }
          ],
          "scatter": [
           {
            "fillpattern": {
             "fillmode": "overlay",
             "size": 10,
             "solidity": 0.2
            },
            "type": "scatter"
           }
          ],
          "scatter3d": [
           {
            "line": {
             "colorbar": {
              "outlinewidth": 0,
              "ticks": ""
             }
            },
            "marker": {
             "colorbar": {
              "outlinewidth": 0,
              "ticks": ""
             }
            },
            "type": "scatter3d"
           }
          ],
          "scattercarpet": [
           {
            "marker": {
             "colorbar": {
              "outlinewidth": 0,
              "ticks": ""
             }
            },
            "type": "scattercarpet"
           }
          ],
          "scattergeo": [
           {
            "marker": {
             "colorbar": {
              "outlinewidth": 0,
              "ticks": ""
             }
            },
            "type": "scattergeo"
           }
          ],
          "scattergl": [
           {
            "marker": {
             "colorbar": {
              "outlinewidth": 0,
              "ticks": ""
             }
            },
            "type": "scattergl"
           }
          ],
          "scattermap": [
           {
            "marker": {
             "colorbar": {
              "outlinewidth": 0,
              "ticks": ""
             }
            },
            "type": "scattermap"
           }
          ],
          "scattermapbox": [
           {
            "marker": {
             "colorbar": {
              "outlinewidth": 0,
              "ticks": ""
             }
            },
            "type": "scattermapbox"
           }
          ],
          "scatterpolar": [
           {
            "marker": {
             "colorbar": {
              "outlinewidth": 0,
              "ticks": ""
             }
            },
            "type": "scatterpolar"
           }
          ],
          "scatterpolargl": [
           {
            "marker": {
             "colorbar": {
              "outlinewidth": 0,
              "ticks": ""
             }
            },
            "type": "scatterpolargl"
           }
          ],
          "scatterternary": [
           {
            "marker": {
             "colorbar": {
              "outlinewidth": 0,
              "ticks": ""
             }
            },
            "type": "scatterternary"
           }
          ],
          "surface": [
           {
            "colorbar": {
             "outlinewidth": 0,
             "ticks": ""
            },
            "colorscale": [
             [
              0,
              "#0d0887"
             ],
             [
              0.1111111111111111,
              "#46039f"
             ],
             [
              0.2222222222222222,
              "#7201a8"
             ],
             [
              0.3333333333333333,
              "#9c179e"
             ],
             [
              0.4444444444444444,
              "#bd3786"
             ],
             [
              0.5555555555555556,
              "#d8576b"
             ],
             [
              0.6666666666666666,
              "#ed7953"
             ],
             [
              0.7777777777777778,
              "#fb9f3a"
             ],
             [
              0.8888888888888888,
              "#fdca26"
             ],
             [
              1,
              "#f0f921"
             ]
            ],
            "type": "surface"
           }
          ],
          "table": [
           {
            "cells": {
             "fill": {
              "color": "#EBF0F8"
             },
             "line": {
              "color": "white"
             }
            },
            "header": {
             "fill": {
              "color": "#C8D4E3"
             },
             "line": {
              "color": "white"
             }
            },
            "type": "table"
           }
          ]
         },
         "layout": {
          "annotationdefaults": {
           "arrowcolor": "#2a3f5f",
           "arrowhead": 0,
           "arrowwidth": 1
          },
          "autotypenumbers": "strict",
          "coloraxis": {
           "colorbar": {
            "outlinewidth": 0,
            "ticks": ""
           }
          },
          "colorscale": {
           "diverging": [
            [
             0,
             "#8e0152"
            ],
            [
             0.1,
             "#c51b7d"
            ],
            [
             0.2,
             "#de77ae"
            ],
            [
             0.3,
             "#f1b6da"
            ],
            [
             0.4,
             "#fde0ef"
            ],
            [
             0.5,
             "#f7f7f7"
            ],
            [
             0.6,
             "#e6f5d0"
            ],
            [
             0.7,
             "#b8e186"
            ],
            [
             0.8,
             "#7fbc41"
            ],
            [
             0.9,
             "#4d9221"
            ],
            [
             1,
             "#276419"
            ]
           ],
           "sequential": [
            [
             0,
             "#0d0887"
            ],
            [
             0.1111111111111111,
             "#46039f"
            ],
            [
             0.2222222222222222,
             "#7201a8"
            ],
            [
             0.3333333333333333,
             "#9c179e"
            ],
            [
             0.4444444444444444,
             "#bd3786"
            ],
            [
             0.5555555555555556,
             "#d8576b"
            ],
            [
             0.6666666666666666,
             "#ed7953"
            ],
            [
             0.7777777777777778,
             "#fb9f3a"
            ],
            [
             0.8888888888888888,
             "#fdca26"
            ],
            [
             1,
             "#f0f921"
            ]
           ],
           "sequentialminus": [
            [
             0,
             "#0d0887"
            ],
            [
             0.1111111111111111,
             "#46039f"
            ],
            [
             0.2222222222222222,
             "#7201a8"
            ],
            [
             0.3333333333333333,
             "#9c179e"
            ],
            [
             0.4444444444444444,
             "#bd3786"
            ],
            [
             0.5555555555555556,
             "#d8576b"
            ],
            [
             0.6666666666666666,
             "#ed7953"
            ],
            [
             0.7777777777777778,
             "#fb9f3a"
            ],
            [
             0.8888888888888888,
             "#fdca26"
            ],
            [
             1,
             "#f0f921"
            ]
           ]
          },
          "colorway": [
           "#636efa",
           "#EF553B",
           "#00cc96",
           "#ab63fa",
           "#FFA15A",
           "#19d3f3",
           "#FF6692",
           "#B6E880",
           "#FF97FF",
           "#FECB52"
          ],
          "font": {
           "color": "#2a3f5f"
          },
          "geo": {
           "bgcolor": "white",
           "lakecolor": "white",
           "landcolor": "#E5ECF6",
           "showlakes": true,
           "showland": true,
           "subunitcolor": "white"
          },
          "hoverlabel": {
           "align": "left"
          },
          "hovermode": "closest",
          "mapbox": {
           "style": "light"
          },
          "paper_bgcolor": "white",
          "plot_bgcolor": "#E5ECF6",
          "polar": {
           "angularaxis": {
            "gridcolor": "white",
            "linecolor": "white",
            "ticks": ""
           },
           "bgcolor": "#E5ECF6",
           "radialaxis": {
            "gridcolor": "white",
            "linecolor": "white",
            "ticks": ""
           }
          },
          "scene": {
           "xaxis": {
            "backgroundcolor": "#E5ECF6",
            "gridcolor": "white",
            "gridwidth": 2,
            "linecolor": "white",
            "showbackground": true,
            "ticks": "",
            "zerolinecolor": "white"
           },
           "yaxis": {
            "backgroundcolor": "#E5ECF6",
            "gridcolor": "white",
            "gridwidth": 2,
            "linecolor": "white",
            "showbackground": true,
            "ticks": "",
            "zerolinecolor": "white"
           },
           "zaxis": {
            "backgroundcolor": "#E5ECF6",
            "gridcolor": "white",
            "gridwidth": 2,
            "linecolor": "white",
            "showbackground": true,
            "ticks": "",
            "zerolinecolor": "white"
           }
          },
          "shapedefaults": {
           "line": {
            "color": "#2a3f5f"
           }
          },
          "ternary": {
           "aaxis": {
            "gridcolor": "white",
            "linecolor": "white",
            "ticks": ""
           },
           "baxis": {
            "gridcolor": "white",
            "linecolor": "white",
            "ticks": ""
           },
           "bgcolor": "#E5ECF6",
           "caxis": {
            "gridcolor": "white",
            "linecolor": "white",
            "ticks": ""
           }
          },
          "title": {
           "x": 0.05
          },
          "xaxis": {
           "automargin": true,
           "gridcolor": "white",
           "linecolor": "white",
           "ticks": "",
           "title": {
            "standoff": 15
           },
           "zerolinecolor": "white",
           "zerolinewidth": 2
          },
          "yaxis": {
           "automargin": true,
           "gridcolor": "white",
           "linecolor": "white",
           "ticks": "",
           "title": {
            "standoff": 15
           },
           "zerolinecolor": "white",
           "zerolinewidth": 2
          }
         }
        },
        "title": {
         "text": "Descomposición de la Serie Temporal (Multiplicative) para IT"
        },
        "xaxis": {
         "anchor": "y",
         "domain": [
          0,
          1
         ]
        },
        "xaxis2": {
         "anchor": "y2",
         "domain": [
          0,
          1
         ]
        },
        "xaxis3": {
         "anchor": "y3",
         "domain": [
          0,
          1
         ]
        },
        "xaxis4": {
         "anchor": "y4",
         "domain": [
          0,
          1
         ]
        },
        "yaxis": {
         "anchor": "x",
         "domain": [
          0.84375,
          1
         ]
        },
        "yaxis2": {
         "anchor": "x2",
         "domain": [
          0.5625,
          0.71875
         ]
        },
        "yaxis3": {
         "anchor": "x3",
         "domain": [
          0.28125,
          0.4375
         ]
        },
        "yaxis4": {
         "anchor": "x4",
         "domain": [
          0,
          0.15625
         ]
        }
       }
      }
     },
     "metadata": {},
     "output_type": "display_data"
    },
    {
     "name": "stderr",
     "output_type": "stream",
     "text": [
      "2025-08-09 15:48:30,126 - INFO - Criterio de selección: La desviación estándar de los residuos multiplicative es menor.\n",
      "2025-08-09 15:48:30,128 - INFO - El departamento Inventory tiene una descomposición multiplicative.\n"
     ]
    },
    {
     "name": "stdout",
     "output_type": "stream",
     "text": [
      "Desviación estándar de los residuales aditivos: 17.28\n",
      "Desviación estándar de los residuales multiplicativos: 0.03\n",
      "P-value del test ADF: 0.00\n"
     ]
    },
    {
     "data": {
      "application/vnd.plotly.v1+json": {
       "config": {
        "plotlyServerURL": "https://plot.ly"
       },
       "data": [
        {
         "mode": "lines",
         "name": "Original",
         "type": "scatter",
         "x": [
          "2023-12-31T00:00:00.000000000",
          "2024-01-14T00:00:00.000000000",
          "2024-01-28T00:00:00.000000000",
          "2024-02-11T00:00:00.000000000",
          "2024-02-25T00:00:00.000000000",
          "2024-03-10T00:00:00.000000000",
          "2024-03-24T00:00:00.000000000",
          "2024-04-07T00:00:00.000000000",
          "2024-04-21T00:00:00.000000000",
          "2024-05-05T00:00:00.000000000",
          "2024-05-19T00:00:00.000000000",
          "2024-06-02T00:00:00.000000000",
          "2024-06-16T00:00:00.000000000",
          "2024-06-30T00:00:00.000000000",
          "2024-07-14T00:00:00.000000000",
          "2024-07-28T00:00:00.000000000",
          "2024-08-11T00:00:00.000000000",
          "2024-08-25T00:00:00.000000000",
          "2024-09-08T00:00:00.000000000",
          "2024-09-22T00:00:00.000000000",
          "2024-10-06T00:00:00.000000000",
          "2024-10-20T00:00:00.000000000",
          "2024-11-03T00:00:00.000000000",
          "2024-11-17T00:00:00.000000000",
          "2024-12-01T00:00:00.000000000",
          "2024-12-15T00:00:00.000000000",
          "2024-12-29T00:00:00.000000000",
          "2025-01-12T00:00:00.000000000",
          "2025-01-26T00:00:00.000000000",
          "2025-02-09T00:00:00.000000000",
          "2025-02-23T00:00:00.000000000",
          "2025-03-09T00:00:00.000000000",
          "2025-03-23T00:00:00.000000000",
          "2025-04-06T00:00:00.000000000",
          "2025-04-20T00:00:00.000000000",
          "2025-05-04T00:00:00.000000000"
         ],
         "xaxis": "x",
         "y": {
          "bdata": "AAAAAAAA+H8AAAAAAJB8QHoUrkfhjIBA4XoUrkc1f0AfhetRuCqBQM3MzMzMIH5A4noUrkfhfkAzMzMzM0WAQJDC9Shcf4BA16NwPQr7gEDMzMzMzKiAQI/C9ShcT4JAFK5H4XqKgUBxPQrXo7yAQHA9CtejBIBArkfhehRogUA0MzMzM/t/QML1KFyP9oBA4XoUrkddgEAUrkfhehqBQFyPwvUofoBApHA9CtdqgEDsUbgehVeAQEjhehSug39ADnTaQKdJgEB3d3d3d9GAQOF6FK5HWYFACtejcD0wgkD2KFyPwsl9QLgehetRWIBAXI/C9SiAfUDC9Shcj+qBQB+F61G4woBAmpmZmZlPgUDNzMzMzGqAQM3MzMzMaoBA",
          "dtype": "f8"
         },
         "yaxis": "y"
        },
        {
         "mode": "lines",
         "name": "Tendencia",
         "type": "scatter",
         "x": [
          "2023-12-31T00:00:00.000000000",
          "2024-01-14T00:00:00.000000000",
          "2024-01-28T00:00:00.000000000",
          "2024-02-11T00:00:00.000000000",
          "2024-02-25T00:00:00.000000000",
          "2024-03-10T00:00:00.000000000",
          "2024-03-24T00:00:00.000000000",
          "2024-04-07T00:00:00.000000000",
          "2024-04-21T00:00:00.000000000",
          "2024-05-05T00:00:00.000000000",
          "2024-05-19T00:00:00.000000000",
          "2024-06-02T00:00:00.000000000",
          "2024-06-16T00:00:00.000000000",
          "2024-06-30T00:00:00.000000000",
          "2024-07-14T00:00:00.000000000",
          "2024-07-28T00:00:00.000000000",
          "2024-08-11T00:00:00.000000000",
          "2024-08-25T00:00:00.000000000",
          "2024-09-08T00:00:00.000000000",
          "2024-09-22T00:00:00.000000000",
          "2024-10-06T00:00:00.000000000",
          "2024-10-20T00:00:00.000000000",
          "2024-11-03T00:00:00.000000000",
          "2024-11-17T00:00:00.000000000",
          "2024-12-01T00:00:00.000000000",
          "2024-12-15T00:00:00.000000000",
          "2024-12-29T00:00:00.000000000",
          "2025-01-12T00:00:00.000000000",
          "2025-01-26T00:00:00.000000000",
          "2025-02-09T00:00:00.000000000",
          "2025-02-23T00:00:00.000000000",
          "2025-03-09T00:00:00.000000000",
          "2025-03-23T00:00:00.000000000",
          "2025-04-06T00:00:00.000000000",
          "2025-04-20T00:00:00.000000000",
          "2025-05-04T00:00:00.000000000"
         ],
         "xaxis": "x2",
         "y": {
          "bdata": "AAAAAAAA+H8AAAAAAAD4fwAAAAAAAPh/AAAAAAAA+H8AAAAAAAD4fwAAAAAAAPh/GAhtIv9RgEC5HoXrUXeAQPxiyS/Wi4BAyS+W/GKZgEAREREREaCAQDltoNPGp4BAF0t+seTFgEBwPQrXo9iAQGyg0wZ64YBAfrHkF2vbgECTXyz5BdKAQLWBThtos4BA4JtXE8+KgEDfm1cTT36AQITrUbhejYBADHTaQOejgEAlv1jyi6CAQE0b6LRBjoBAiyW/WHJ2gEBmZmZm5m2AQKDTBjpteYBAPArXo9CFgEBmZmZmJpCAQLHkF0v+l4BAAAAAAAAA+H8AAAAAAAD4fwAAAAAAAPh/AAAAAAAA+H8AAAAAAAD4fwAAAAAAAPh/",
          "dtype": "f8"
         },
         "yaxis": "y2"
        },
        {
         "mode": "lines",
         "name": "Estacionalidad",
         "type": "scatter",
         "x": [
          "2023-12-31T00:00:00.000000000",
          "2024-01-14T00:00:00.000000000",
          "2024-01-28T00:00:00.000000000",
          "2024-02-11T00:00:00.000000000",
          "2024-02-25T00:00:00.000000000",
          "2024-03-10T00:00:00.000000000",
          "2024-03-24T00:00:00.000000000",
          "2024-04-07T00:00:00.000000000",
          "2024-04-21T00:00:00.000000000",
          "2024-05-05T00:00:00.000000000",
          "2024-05-19T00:00:00.000000000",
          "2024-06-02T00:00:00.000000000",
          "2024-06-16T00:00:00.000000000",
          "2024-06-30T00:00:00.000000000",
          "2024-07-14T00:00:00.000000000",
          "2024-07-28T00:00:00.000000000",
          "2024-08-11T00:00:00.000000000",
          "2024-08-25T00:00:00.000000000",
          "2024-09-08T00:00:00.000000000",
          "2024-09-22T00:00:00.000000000",
          "2024-10-06T00:00:00.000000000",
          "2024-10-20T00:00:00.000000000",
          "2024-11-03T00:00:00.000000000",
          "2024-11-17T00:00:00.000000000",
          "2024-12-01T00:00:00.000000000",
          "2024-12-15T00:00:00.000000000",
          "2024-12-29T00:00:00.000000000",
          "2025-01-12T00:00:00.000000000",
          "2025-01-26T00:00:00.000000000",
          "2025-02-09T00:00:00.000000000",
          "2025-02-23T00:00:00.000000000",
          "2025-03-09T00:00:00.000000000",
          "2025-03-23T00:00:00.000000000",
          "2025-04-06T00:00:00.000000000",
          "2025-04-20T00:00:00.000000000",
          "2025-05-04T00:00:00.000000000"
         ],
         "xaxis": "x3",
         "y": {
          "bdata": "uA9C4XBB8D+WQORDsBzwP+ysW4cy++8/hvM7vFkK8T8PpgW5Ro3tP5ewM0kN9u8/sRqhBZDq7j+CcapT4CzwP+Cg+xZk2O8/btF8VSgN8D/6a+WaWLXvP6rj6tQSYvA/uA9C4XBB8D+WQORDsBzwP+ysW4cy++8/hvM7vFkK8T8PpgW5Ro3tP5ewM0kN9u8/sRqhBZDq7j+CcapT4CzwP+Cg+xZk2O8/btF8VSgN8D/6a+WaWLXvP6rj6tQSYvA/uA9C4XBB8D+WQORDsBzwP+ysW4cy++8/hvM7vFkK8T8PpgW5Ro3tP5ewM0kN9u8/sRqhBZDq7j+CcapT4CzwP+Cg+xZk2O8/btF8VSgN8D/6a+WaWLXvP6rj6tQSYvA/",
          "dtype": "f8"
         },
         "yaxis": "y3"
        },
        {
         "mode": "lines",
         "name": "Residuos",
         "type": "scatter",
         "x": [
          "2023-12-31T00:00:00.000000000",
          "2024-01-14T00:00:00.000000000",
          "2024-01-28T00:00:00.000000000",
          "2024-02-11T00:00:00.000000000",
          "2024-02-25T00:00:00.000000000",
          "2024-03-10T00:00:00.000000000",
          "2024-03-24T00:00:00.000000000",
          "2024-04-07T00:00:00.000000000",
          "2024-04-21T00:00:00.000000000",
          "2024-05-05T00:00:00.000000000",
          "2024-05-19T00:00:00.000000000",
          "2024-06-02T00:00:00.000000000",
          "2024-06-16T00:00:00.000000000",
          "2024-06-30T00:00:00.000000000",
          "2024-07-14T00:00:00.000000000",
          "2024-07-28T00:00:00.000000000",
          "2024-08-11T00:00:00.000000000",
          "2024-08-25T00:00:00.000000000",
          "2024-09-08T00:00:00.000000000",
          "2024-09-22T00:00:00.000000000",
          "2024-10-06T00:00:00.000000000",
          "2024-10-20T00:00:00.000000000",
          "2024-11-03T00:00:00.000000000",
          "2024-11-17T00:00:00.000000000",
          "2024-12-01T00:00:00.000000000",
          "2024-12-15T00:00:00.000000000",
          "2024-12-29T00:00:00.000000000",
          "2025-01-12T00:00:00.000000000",
          "2025-01-26T00:00:00.000000000",
          "2025-02-09T00:00:00.000000000",
          "2025-02-23T00:00:00.000000000",
          "2025-03-09T00:00:00.000000000",
          "2025-03-23T00:00:00.000000000",
          "2025-04-06T00:00:00.000000000",
          "2025-04-20T00:00:00.000000000",
          "2025-05-04T00:00:00.000000000"
         ],
         "xaxis": "x4",
         "y": {
          "bdata": "AAAAAAAA+H8AAAAAAAD4fwAAAAAAAPh/AAAAAAAA+H8AAAAAAAD4fwAAAAAAAPh/FTc3TM5V7z/BchuG30bvP3gtrf/GB/A/LzgtK7ZQ8D8xAHsEJy7wPwEp4cGeLfE/TbdUbip48D8aUod8NJLvP6ZADGTuYe4/iKRLO4oG7z88jHwFhXjwPy1CtctkRfA/enoKTABi8D+kXBivd2nwP47oeHIgBfA/r7vxjWJ47z+pK1bbgL3vPwjaiWCRvu0/cr2iB3op7z/6bOIzzUPwP7X1H0Dw2/A/w0OAVKKJ8D+UE1PZxCjvP7Sn4UwFj+8/AAAAAAAA+H8AAAAAAAD4fwAAAAAAAPh/AAAAAAAA+H8AAAAAAAD4fwAAAAAAAPh/",
          "dtype": "f8"
         },
         "yaxis": "y4"
        }
       ],
       "layout": {
        "annotations": [
         {
          "font": {
           "size": 16
          },
          "showarrow": false,
          "text": "Original",
          "x": 0.5,
          "xanchor": "center",
          "xref": "paper",
          "y": 1,
          "yanchor": "bottom",
          "yref": "paper"
         },
         {
          "font": {
           "size": 16
          },
          "showarrow": false,
          "text": "Tendencia",
          "x": 0.5,
          "xanchor": "center",
          "xref": "paper",
          "y": 0.71875,
          "yanchor": "bottom",
          "yref": "paper"
         },
         {
          "font": {
           "size": 16
          },
          "showarrow": false,
          "text": "Estacionalidad",
          "x": 0.5,
          "xanchor": "center",
          "xref": "paper",
          "y": 0.4375,
          "yanchor": "bottom",
          "yref": "paper"
         },
         {
          "font": {
           "size": 16
          },
          "showarrow": false,
          "text": "Residuos",
          "x": 0.5,
          "xanchor": "center",
          "xref": "paper",
          "y": 0.15625,
          "yanchor": "bottom",
          "yref": "paper"
         }
        ],
        "height": 800,
        "template": {
         "data": {
          "bar": [
           {
            "error_x": {
             "color": "#2a3f5f"
            },
            "error_y": {
             "color": "#2a3f5f"
            },
            "marker": {
             "line": {
              "color": "#E5ECF6",
              "width": 0.5
             },
             "pattern": {
              "fillmode": "overlay",
              "size": 10,
              "solidity": 0.2
             }
            },
            "type": "bar"
           }
          ],
          "barpolar": [
           {
            "marker": {
             "line": {
              "color": "#E5ECF6",
              "width": 0.5
             },
             "pattern": {
              "fillmode": "overlay",
              "size": 10,
              "solidity": 0.2
             }
            },
            "type": "barpolar"
           }
          ],
          "carpet": [
           {
            "aaxis": {
             "endlinecolor": "#2a3f5f",
             "gridcolor": "white",
             "linecolor": "white",
             "minorgridcolor": "white",
             "startlinecolor": "#2a3f5f"
            },
            "baxis": {
             "endlinecolor": "#2a3f5f",
             "gridcolor": "white",
             "linecolor": "white",
             "minorgridcolor": "white",
             "startlinecolor": "#2a3f5f"
            },
            "type": "carpet"
           }
          ],
          "choropleth": [
           {
            "colorbar": {
             "outlinewidth": 0,
             "ticks": ""
            },
            "type": "choropleth"
           }
          ],
          "contour": [
           {
            "colorbar": {
             "outlinewidth": 0,
             "ticks": ""
            },
            "colorscale": [
             [
              0,
              "#0d0887"
             ],
             [
              0.1111111111111111,
              "#46039f"
             ],
             [
              0.2222222222222222,
              "#7201a8"
             ],
             [
              0.3333333333333333,
              "#9c179e"
             ],
             [
              0.4444444444444444,
              "#bd3786"
             ],
             [
              0.5555555555555556,
              "#d8576b"
             ],
             [
              0.6666666666666666,
              "#ed7953"
             ],
             [
              0.7777777777777778,
              "#fb9f3a"
             ],
             [
              0.8888888888888888,
              "#fdca26"
             ],
             [
              1,
              "#f0f921"
             ]
            ],
            "type": "contour"
           }
          ],
          "contourcarpet": [
           {
            "colorbar": {
             "outlinewidth": 0,
             "ticks": ""
            },
            "type": "contourcarpet"
           }
          ],
          "heatmap": [
           {
            "colorbar": {
             "outlinewidth": 0,
             "ticks": ""
            },
            "colorscale": [
             [
              0,
              "#0d0887"
             ],
             [
              0.1111111111111111,
              "#46039f"
             ],
             [
              0.2222222222222222,
              "#7201a8"
             ],
             [
              0.3333333333333333,
              "#9c179e"
             ],
             [
              0.4444444444444444,
              "#bd3786"
             ],
             [
              0.5555555555555556,
              "#d8576b"
             ],
             [
              0.6666666666666666,
              "#ed7953"
             ],
             [
              0.7777777777777778,
              "#fb9f3a"
             ],
             [
              0.8888888888888888,
              "#fdca26"
             ],
             [
              1,
              "#f0f921"
             ]
            ],
            "type": "heatmap"
           }
          ],
          "histogram": [
           {
            "marker": {
             "pattern": {
              "fillmode": "overlay",
              "size": 10,
              "solidity": 0.2
             }
            },
            "type": "histogram"
           }
          ],
          "histogram2d": [
           {
            "colorbar": {
             "outlinewidth": 0,
             "ticks": ""
            },
            "colorscale": [
             [
              0,
              "#0d0887"
             ],
             [
              0.1111111111111111,
              "#46039f"
             ],
             [
              0.2222222222222222,
              "#7201a8"
             ],
             [
              0.3333333333333333,
              "#9c179e"
             ],
             [
              0.4444444444444444,
              "#bd3786"
             ],
             [
              0.5555555555555556,
              "#d8576b"
             ],
             [
              0.6666666666666666,
              "#ed7953"
             ],
             [
              0.7777777777777778,
              "#fb9f3a"
             ],
             [
              0.8888888888888888,
              "#fdca26"
             ],
             [
              1,
              "#f0f921"
             ]
            ],
            "type": "histogram2d"
           }
          ],
          "histogram2dcontour": [
           {
            "colorbar": {
             "outlinewidth": 0,
             "ticks": ""
            },
            "colorscale": [
             [
              0,
              "#0d0887"
             ],
             [
              0.1111111111111111,
              "#46039f"
             ],
             [
              0.2222222222222222,
              "#7201a8"
             ],
             [
              0.3333333333333333,
              "#9c179e"
             ],
             [
              0.4444444444444444,
              "#bd3786"
             ],
             [
              0.5555555555555556,
              "#d8576b"
             ],
             [
              0.6666666666666666,
              "#ed7953"
             ],
             [
              0.7777777777777778,
              "#fb9f3a"
             ],
             [
              0.8888888888888888,
              "#fdca26"
             ],
             [
              1,
              "#f0f921"
             ]
            ],
            "type": "histogram2dcontour"
           }
          ],
          "mesh3d": [
           {
            "colorbar": {
             "outlinewidth": 0,
             "ticks": ""
            },
            "type": "mesh3d"
           }
          ],
          "parcoords": [
           {
            "line": {
             "colorbar": {
              "outlinewidth": 0,
              "ticks": ""
             }
            },
            "type": "parcoords"
           }
          ],
          "pie": [
           {
            "automargin": true,
            "type": "pie"
           }
          ],
          "scatter": [
           {
            "fillpattern": {
             "fillmode": "overlay",
             "size": 10,
             "solidity": 0.2
            },
            "type": "scatter"
           }
          ],
          "scatter3d": [
           {
            "line": {
             "colorbar": {
              "outlinewidth": 0,
              "ticks": ""
             }
            },
            "marker": {
             "colorbar": {
              "outlinewidth": 0,
              "ticks": ""
             }
            },
            "type": "scatter3d"
           }
          ],
          "scattercarpet": [
           {
            "marker": {
             "colorbar": {
              "outlinewidth": 0,
              "ticks": ""
             }
            },
            "type": "scattercarpet"
           }
          ],
          "scattergeo": [
           {
            "marker": {
             "colorbar": {
              "outlinewidth": 0,
              "ticks": ""
             }
            },
            "type": "scattergeo"
           }
          ],
          "scattergl": [
           {
            "marker": {
             "colorbar": {
              "outlinewidth": 0,
              "ticks": ""
             }
            },
            "type": "scattergl"
           }
          ],
          "scattermap": [
           {
            "marker": {
             "colorbar": {
              "outlinewidth": 0,
              "ticks": ""
             }
            },
            "type": "scattermap"
           }
          ],
          "scattermapbox": [
           {
            "marker": {
             "colorbar": {
              "outlinewidth": 0,
              "ticks": ""
             }
            },
            "type": "scattermapbox"
           }
          ],
          "scatterpolar": [
           {
            "marker": {
             "colorbar": {
              "outlinewidth": 0,
              "ticks": ""
             }
            },
            "type": "scatterpolar"
           }
          ],
          "scatterpolargl": [
           {
            "marker": {
             "colorbar": {
              "outlinewidth": 0,
              "ticks": ""
             }
            },
            "type": "scatterpolargl"
           }
          ],
          "scatterternary": [
           {
            "marker": {
             "colorbar": {
              "outlinewidth": 0,
              "ticks": ""
             }
            },
            "type": "scatterternary"
           }
          ],
          "surface": [
           {
            "colorbar": {
             "outlinewidth": 0,
             "ticks": ""
            },
            "colorscale": [
             [
              0,
              "#0d0887"
             ],
             [
              0.1111111111111111,
              "#46039f"
             ],
             [
              0.2222222222222222,
              "#7201a8"
             ],
             [
              0.3333333333333333,
              "#9c179e"
             ],
             [
              0.4444444444444444,
              "#bd3786"
             ],
             [
              0.5555555555555556,
              "#d8576b"
             ],
             [
              0.6666666666666666,
              "#ed7953"
             ],
             [
              0.7777777777777778,
              "#fb9f3a"
             ],
             [
              0.8888888888888888,
              "#fdca26"
             ],
             [
              1,
              "#f0f921"
             ]
            ],
            "type": "surface"
           }
          ],
          "table": [
           {
            "cells": {
             "fill": {
              "color": "#EBF0F8"
             },
             "line": {
              "color": "white"
             }
            },
            "header": {
             "fill": {
              "color": "#C8D4E3"
             },
             "line": {
              "color": "white"
             }
            },
            "type": "table"
           }
          ]
         },
         "layout": {
          "annotationdefaults": {
           "arrowcolor": "#2a3f5f",
           "arrowhead": 0,
           "arrowwidth": 1
          },
          "autotypenumbers": "strict",
          "coloraxis": {
           "colorbar": {
            "outlinewidth": 0,
            "ticks": ""
           }
          },
          "colorscale": {
           "diverging": [
            [
             0,
             "#8e0152"
            ],
            [
             0.1,
             "#c51b7d"
            ],
            [
             0.2,
             "#de77ae"
            ],
            [
             0.3,
             "#f1b6da"
            ],
            [
             0.4,
             "#fde0ef"
            ],
            [
             0.5,
             "#f7f7f7"
            ],
            [
             0.6,
             "#e6f5d0"
            ],
            [
             0.7,
             "#b8e186"
            ],
            [
             0.8,
             "#7fbc41"
            ],
            [
             0.9,
             "#4d9221"
            ],
            [
             1,
             "#276419"
            ]
           ],
           "sequential": [
            [
             0,
             "#0d0887"
            ],
            [
             0.1111111111111111,
             "#46039f"
            ],
            [
             0.2222222222222222,
             "#7201a8"
            ],
            [
             0.3333333333333333,
             "#9c179e"
            ],
            [
             0.4444444444444444,
             "#bd3786"
            ],
            [
             0.5555555555555556,
             "#d8576b"
            ],
            [
             0.6666666666666666,
             "#ed7953"
            ],
            [
             0.7777777777777778,
             "#fb9f3a"
            ],
            [
             0.8888888888888888,
             "#fdca26"
            ],
            [
             1,
             "#f0f921"
            ]
           ],
           "sequentialminus": [
            [
             0,
             "#0d0887"
            ],
            [
             0.1111111111111111,
             "#46039f"
            ],
            [
             0.2222222222222222,
             "#7201a8"
            ],
            [
             0.3333333333333333,
             "#9c179e"
            ],
            [
             0.4444444444444444,
             "#bd3786"
            ],
            [
             0.5555555555555556,
             "#d8576b"
            ],
            [
             0.6666666666666666,
             "#ed7953"
            ],
            [
             0.7777777777777778,
             "#fb9f3a"
            ],
            [
             0.8888888888888888,
             "#fdca26"
            ],
            [
             1,
             "#f0f921"
            ]
           ]
          },
          "colorway": [
           "#636efa",
           "#EF553B",
           "#00cc96",
           "#ab63fa",
           "#FFA15A",
           "#19d3f3",
           "#FF6692",
           "#B6E880",
           "#FF97FF",
           "#FECB52"
          ],
          "font": {
           "color": "#2a3f5f"
          },
          "geo": {
           "bgcolor": "white",
           "lakecolor": "white",
           "landcolor": "#E5ECF6",
           "showlakes": true,
           "showland": true,
           "subunitcolor": "white"
          },
          "hoverlabel": {
           "align": "left"
          },
          "hovermode": "closest",
          "mapbox": {
           "style": "light"
          },
          "paper_bgcolor": "white",
          "plot_bgcolor": "#E5ECF6",
          "polar": {
           "angularaxis": {
            "gridcolor": "white",
            "linecolor": "white",
            "ticks": ""
           },
           "bgcolor": "#E5ECF6",
           "radialaxis": {
            "gridcolor": "white",
            "linecolor": "white",
            "ticks": ""
           }
          },
          "scene": {
           "xaxis": {
            "backgroundcolor": "#E5ECF6",
            "gridcolor": "white",
            "gridwidth": 2,
            "linecolor": "white",
            "showbackground": true,
            "ticks": "",
            "zerolinecolor": "white"
           },
           "yaxis": {
            "backgroundcolor": "#E5ECF6",
            "gridcolor": "white",
            "gridwidth": 2,
            "linecolor": "white",
            "showbackground": true,
            "ticks": "",
            "zerolinecolor": "white"
           },
           "zaxis": {
            "backgroundcolor": "#E5ECF6",
            "gridcolor": "white",
            "gridwidth": 2,
            "linecolor": "white",
            "showbackground": true,
            "ticks": "",
            "zerolinecolor": "white"
           }
          },
          "shapedefaults": {
           "line": {
            "color": "#2a3f5f"
           }
          },
          "ternary": {
           "aaxis": {
            "gridcolor": "white",
            "linecolor": "white",
            "ticks": ""
           },
           "baxis": {
            "gridcolor": "white",
            "linecolor": "white",
            "ticks": ""
           },
           "bgcolor": "#E5ECF6",
           "caxis": {
            "gridcolor": "white",
            "linecolor": "white",
            "ticks": ""
           }
          },
          "title": {
           "x": 0.05
          },
          "xaxis": {
           "automargin": true,
           "gridcolor": "white",
           "linecolor": "white",
           "ticks": "",
           "title": {
            "standoff": 15
           },
           "zerolinecolor": "white",
           "zerolinewidth": 2
          },
          "yaxis": {
           "automargin": true,
           "gridcolor": "white",
           "linecolor": "white",
           "ticks": "",
           "title": {
            "standoff": 15
           },
           "zerolinecolor": "white",
           "zerolinewidth": 2
          }
         }
        },
        "title": {
         "text": "Descomposición de la Serie Temporal (Multiplicative) para Inventory"
        },
        "xaxis": {
         "anchor": "y",
         "domain": [
          0,
          1
         ]
        },
        "xaxis2": {
         "anchor": "y2",
         "domain": [
          0,
          1
         ]
        },
        "xaxis3": {
         "anchor": "y3",
         "domain": [
          0,
          1
         ]
        },
        "xaxis4": {
         "anchor": "y4",
         "domain": [
          0,
          1
         ]
        },
        "yaxis": {
         "anchor": "x",
         "domain": [
          0.84375,
          1
         ]
        },
        "yaxis2": {
         "anchor": "x2",
         "domain": [
          0.5625,
          0.71875
         ]
        },
        "yaxis3": {
         "anchor": "x3",
         "domain": [
          0.28125,
          0.4375
         ]
        },
        "yaxis4": {
         "anchor": "x4",
         "domain": [
          0,
          0.15625
         ]
        }
       }
      }
     },
     "metadata": {},
     "output_type": "display_data"
    },
    {
     "name": "stderr",
     "output_type": "stream",
     "text": [
      "2025-08-09 15:48:30,204 - INFO - Criterio de selección: La desviación estándar de los residuos multiplicative es menor.\n",
      "2025-08-09 15:48:30,205 - INFO - El departamento Marketing tiene una descomposición multiplicative.\n"
     ]
    },
    {
     "name": "stdout",
     "output_type": "stream",
     "text": [
      "Desviación estándar de los residuales aditivos: 31.14\n",
      "Desviación estándar de los residuales multiplicativos: 0.07\n",
      "P-value del test ADF: 0.00\n"
     ]
    },
    {
     "data": {
      "application/vnd.plotly.v1+json": {
       "config": {
        "plotlyServerURL": "https://plot.ly"
       },
       "data": [
        {
         "mode": "lines",
         "name": "Original",
         "type": "scatter",
         "x": [
          "2023-12-31T00:00:00.000000000",
          "2024-01-14T00:00:00.000000000",
          "2024-01-28T00:00:00.000000000",
          "2024-02-11T00:00:00.000000000",
          "2024-02-25T00:00:00.000000000",
          "2024-03-10T00:00:00.000000000",
          "2024-03-24T00:00:00.000000000",
          "2024-04-07T00:00:00.000000000",
          "2024-04-21T00:00:00.000000000",
          "2024-05-05T00:00:00.000000000",
          "2024-05-19T00:00:00.000000000",
          "2024-06-02T00:00:00.000000000",
          "2024-06-16T00:00:00.000000000",
          "2024-06-30T00:00:00.000000000",
          "2024-07-14T00:00:00.000000000",
          "2024-07-28T00:00:00.000000000",
          "2024-08-11T00:00:00.000000000",
          "2024-08-25T00:00:00.000000000",
          "2024-09-08T00:00:00.000000000",
          "2024-09-22T00:00:00.000000000",
          "2024-10-06T00:00:00.000000000",
          "2024-10-20T00:00:00.000000000",
          "2024-11-03T00:00:00.000000000",
          "2024-11-17T00:00:00.000000000",
          "2024-12-01T00:00:00.000000000",
          "2024-12-15T00:00:00.000000000",
          "2024-12-29T00:00:00.000000000",
          "2025-01-12T00:00:00.000000000",
          "2025-01-26T00:00:00.000000000",
          "2025-02-09T00:00:00.000000000",
          "2025-02-23T00:00:00.000000000",
          "2025-03-09T00:00:00.000000000",
          "2025-03-23T00:00:00.000000000",
          "2025-04-06T00:00:00.000000000",
          "2025-04-20T00:00:00.000000000",
          "2025-05-04T00:00:00.000000000"
         ],
         "xaxis": "x",
         "y": {
          "bdata": "AAAAAAAA+H8Urkfhevh4QB6F61G4FntA4noUrkcJfUCuR+F6FF53QFyPwvUojHtAKVyPwvVYe0B7FK5H4dZ4QK5H4XoU/npAPgrXo3BJgECF61G4HmF8QArXo3A9Pn9AcD0K16NIf0DXo3A9Cmt/QGZmZmZmFntA4noUrkcRfUCF61G4HhF+QArXo3A9nnpAHoXrUbiWe0DXo3A9Crd8QHwUrkfhNn9AhetRuB6pe0DiehSuRyl/QM3MzMzMMHxAKVyPwvWYgUAAAAAAAOx/QK5H4XoUpnxAhetRuB4LgEC4HoXrURR2QAAAAAAATH9A4noUrkdFfEBcj8L1KHh6QGZmZmZmzn9AFK5H4XoCgEDYo3A9CnN+QNijcD0Kc35A",
          "dtype": "f8"
         },
         "yaxis": "y"
        },
        {
         "mode": "lines",
         "name": "Tendencia",
         "type": "scatter",
         "x": [
          "2023-12-31T00:00:00.000000000",
          "2024-01-14T00:00:00.000000000",
          "2024-01-28T00:00:00.000000000",
          "2024-02-11T00:00:00.000000000",
          "2024-02-25T00:00:00.000000000",
          "2024-03-10T00:00:00.000000000",
          "2024-03-24T00:00:00.000000000",
          "2024-04-07T00:00:00.000000000",
          "2024-04-21T00:00:00.000000000",
          "2024-05-05T00:00:00.000000000",
          "2024-05-19T00:00:00.000000000",
          "2024-06-02T00:00:00.000000000",
          "2024-06-16T00:00:00.000000000",
          "2024-06-30T00:00:00.000000000",
          "2024-07-14T00:00:00.000000000",
          "2024-07-28T00:00:00.000000000",
          "2024-08-11T00:00:00.000000000",
          "2024-08-25T00:00:00.000000000",
          "2024-09-08T00:00:00.000000000",
          "2024-09-22T00:00:00.000000000",
          "2024-10-06T00:00:00.000000000",
          "2024-10-20T00:00:00.000000000",
          "2024-11-03T00:00:00.000000000",
          "2024-11-17T00:00:00.000000000",
          "2024-12-01T00:00:00.000000000",
          "2024-12-15T00:00:00.000000000",
          "2024-12-29T00:00:00.000000000",
          "2025-01-12T00:00:00.000000000",
          "2025-01-26T00:00:00.000000000",
          "2025-02-09T00:00:00.000000000",
          "2025-02-23T00:00:00.000000000",
          "2025-03-09T00:00:00.000000000",
          "2025-03-23T00:00:00.000000000",
          "2025-04-06T00:00:00.000000000",
          "2025-04-20T00:00:00.000000000",
          "2025-05-04T00:00:00.000000000"
         ],
         "xaxis": "x2",
         "y": {
          "bdata": "AAAAAAAA+H8AAAAAAAD4fwAAAAAAAPh/AAAAAAAA+H8AAAAAAAD4fwAAAAAAAPh/YWPFGALLe0BlZmZmZih8QFuPwvUobXxAFK5H4XptfECSXyz5RbV8QLcehevR8nxAE65H4XrrfEAWS36xZBd9QEJERETEbX1AFkt+sWRmfUBbj8L1qE99QJJfLPnFTH1A7u7u7u5VfUA6baDTBoV9QHTaQKcNm31AA5020OnLfUBRuB6F65Z9QNMGOm2gc31AG+i0gc6sfUDTBjptIJx9QGPJL5Z8in1Af7HkF0u/fUDkF0t+MeZ9QOUXS36x9n1AAAAAAAAA+H8AAAAAAAD4fwAAAAAAAPh/AAAAAAAA+H8AAAAAAAD4fwAAAAAAAPh/",
          "dtype": "f8"
         },
         "yaxis": "y2"
        },
        {
         "mode": "lines",
         "name": "Estacionalidad",
         "type": "scatter",
         "x": [
          "2023-12-31T00:00:00.000000000",
          "2024-01-14T00:00:00.000000000",
          "2024-01-28T00:00:00.000000000",
          "2024-02-11T00:00:00.000000000",
          "2024-02-25T00:00:00.000000000",
          "2024-03-10T00:00:00.000000000",
          "2024-03-24T00:00:00.000000000",
          "2024-04-07T00:00:00.000000000",
          "2024-04-21T00:00:00.000000000",
          "2024-05-05T00:00:00.000000000",
          "2024-05-19T00:00:00.000000000",
          "2024-06-02T00:00:00.000000000",
          "2024-06-16T00:00:00.000000000",
          "2024-06-30T00:00:00.000000000",
          "2024-07-14T00:00:00.000000000",
          "2024-07-28T00:00:00.000000000",
          "2024-08-11T00:00:00.000000000",
          "2024-08-25T00:00:00.000000000",
          "2024-09-08T00:00:00.000000000",
          "2024-09-22T00:00:00.000000000",
          "2024-10-06T00:00:00.000000000",
          "2024-10-20T00:00:00.000000000",
          "2024-11-03T00:00:00.000000000",
          "2024-11-17T00:00:00.000000000",
          "2024-12-01T00:00:00.000000000",
          "2024-12-15T00:00:00.000000000",
          "2024-12-29T00:00:00.000000000",
          "2025-01-12T00:00:00.000000000",
          "2025-01-26T00:00:00.000000000",
          "2025-02-09T00:00:00.000000000",
          "2025-02-23T00:00:00.000000000",
          "2025-03-09T00:00:00.000000000",
          "2025-03-23T00:00:00.000000000",
          "2025-04-06T00:00:00.000000000",
          "2025-04-20T00:00:00.000000000",
          "2025-05-04T00:00:00.000000000"
         ],
         "xaxis": "x3",
         "y": {
          "bdata": "2iES3GId8j8iR7VoEz3xP4ROMAHMMu4/qb2e7Y6D8D9oMd+QfC/sP1P6v79WM+8/M6pYtZe+7j/jSRV6OaLtP/VSYU/QAfA/H0f+T4KR8D8xgTQIDk/wP+UGZ+VhRPA/2iES3GId8j8iR7VoEz3xP4ROMAHMMu4/qb2e7Y6D8D9oMd+QfC/sP1P6v79WM+8/M6pYtZe+7j/jSRV6OaLtP/VSYU/QAfA/H0f+T4KR8D8xgTQIDk/wP+UGZ+VhRPA/2iES3GId8j8iR7VoEz3xP4ROMAHMMu4/qb2e7Y6D8D9oMd+QfC/sP1P6v79WM+8/M6pYtZe+7j/jSRV6OaLtP/VSYU/QAfA/H0f+T4KR8D8xgTQIDk/wP+UGZ+VhRPA/",
          "dtype": "f8"
         },
         "yaxis": "y3"
        },
        {
         "mode": "lines",
         "name": "Residuos",
         "type": "scatter",
         "x": [
          "2023-12-31T00:00:00.000000000",
          "2024-01-14T00:00:00.000000000",
          "2024-01-28T00:00:00.000000000",
          "2024-02-11T00:00:00.000000000",
          "2024-02-25T00:00:00.000000000",
          "2024-03-10T00:00:00.000000000",
          "2024-03-24T00:00:00.000000000",
          "2024-04-07T00:00:00.000000000",
          "2024-04-21T00:00:00.000000000",
          "2024-05-05T00:00:00.000000000",
          "2024-05-19T00:00:00.000000000",
          "2024-06-02T00:00:00.000000000",
          "2024-06-16T00:00:00.000000000",
          "2024-06-30T00:00:00.000000000",
          "2024-07-14T00:00:00.000000000",
          "2024-07-28T00:00:00.000000000",
          "2024-08-11T00:00:00.000000000",
          "2024-08-25T00:00:00.000000000",
          "2024-09-08T00:00:00.000000000",
          "2024-09-22T00:00:00.000000000",
          "2024-10-06T00:00:00.000000000",
          "2024-10-20T00:00:00.000000000",
          "2024-11-03T00:00:00.000000000",
          "2024-11-17T00:00:00.000000000",
          "2024-12-01T00:00:00.000000000",
          "2024-12-15T00:00:00.000000000",
          "2024-12-29T00:00:00.000000000",
          "2025-01-12T00:00:00.000000000",
          "2025-01-26T00:00:00.000000000",
          "2025-02-09T00:00:00.000000000",
          "2025-02-23T00:00:00.000000000",
          "2025-03-09T00:00:00.000000000",
          "2025-03-23T00:00:00.000000000",
          "2025-04-06T00:00:00.000000000",
          "2025-04-20T00:00:00.000000000",
          "2025-05-04T00:00:00.000000000"
         ],
         "xaxis": "x4",
         "y": {
          "bdata": "AAAAAAAA+H8AAAAAAAD4fwAAAAAAAPh/AAAAAAAA+H8AAAAAAAD4fwAAAAAAAPh/YbJS6e1i8D8HuY70nXvuP+WiyXxUX+4/Qn+l+2C08T8eok952wjvP15CWU8U/PA/tF0NMROT7j+CeZKzxAnwP/hDgToaNu8/qU7nVVCn7j812nMLO6LyP65CnIzk0O0/BB7W+cdS7z/eZPbrgs7wP+/v2Ken3PA/QIQw1eGv7D9T8JUp5IfwPwf+yC17IO4/iBK3TcjC8D/gR6syjQLwP2Yf/chEcfA/DRpKu6m48D9ZzpO1LdTqPwug75/fI/E/AAAAAAAA+H8AAAAAAAD4fwAAAAAAAPh/AAAAAAAA+H8AAAAAAAD4fwAAAAAAAPh/",
          "dtype": "f8"
         },
         "yaxis": "y4"
        }
       ],
       "layout": {
        "annotations": [
         {
          "font": {
           "size": 16
          },
          "showarrow": false,
          "text": "Original",
          "x": 0.5,
          "xanchor": "center",
          "xref": "paper",
          "y": 1,
          "yanchor": "bottom",
          "yref": "paper"
         },
         {
          "font": {
           "size": 16
          },
          "showarrow": false,
          "text": "Tendencia",
          "x": 0.5,
          "xanchor": "center",
          "xref": "paper",
          "y": 0.71875,
          "yanchor": "bottom",
          "yref": "paper"
         },
         {
          "font": {
           "size": 16
          },
          "showarrow": false,
          "text": "Estacionalidad",
          "x": 0.5,
          "xanchor": "center",
          "xref": "paper",
          "y": 0.4375,
          "yanchor": "bottom",
          "yref": "paper"
         },
         {
          "font": {
           "size": 16
          },
          "showarrow": false,
          "text": "Residuos",
          "x": 0.5,
          "xanchor": "center",
          "xref": "paper",
          "y": 0.15625,
          "yanchor": "bottom",
          "yref": "paper"
         }
        ],
        "height": 800,
        "template": {
         "data": {
          "bar": [
           {
            "error_x": {
             "color": "#2a3f5f"
            },
            "error_y": {
             "color": "#2a3f5f"
            },
            "marker": {
             "line": {
              "color": "#E5ECF6",
              "width": 0.5
             },
             "pattern": {
              "fillmode": "overlay",
              "size": 10,
              "solidity": 0.2
             }
            },
            "type": "bar"
           }
          ],
          "barpolar": [
           {
            "marker": {
             "line": {
              "color": "#E5ECF6",
              "width": 0.5
             },
             "pattern": {
              "fillmode": "overlay",
              "size": 10,
              "solidity": 0.2
             }
            },
            "type": "barpolar"
           }
          ],
          "carpet": [
           {
            "aaxis": {
             "endlinecolor": "#2a3f5f",
             "gridcolor": "white",
             "linecolor": "white",
             "minorgridcolor": "white",
             "startlinecolor": "#2a3f5f"
            },
            "baxis": {
             "endlinecolor": "#2a3f5f",
             "gridcolor": "white",
             "linecolor": "white",
             "minorgridcolor": "white",
             "startlinecolor": "#2a3f5f"
            },
            "type": "carpet"
           }
          ],
          "choropleth": [
           {
            "colorbar": {
             "outlinewidth": 0,
             "ticks": ""
            },
            "type": "choropleth"
           }
          ],
          "contour": [
           {
            "colorbar": {
             "outlinewidth": 0,
             "ticks": ""
            },
            "colorscale": [
             [
              0,
              "#0d0887"
             ],
             [
              0.1111111111111111,
              "#46039f"
             ],
             [
              0.2222222222222222,
              "#7201a8"
             ],
             [
              0.3333333333333333,
              "#9c179e"
             ],
             [
              0.4444444444444444,
              "#bd3786"
             ],
             [
              0.5555555555555556,
              "#d8576b"
             ],
             [
              0.6666666666666666,
              "#ed7953"
             ],
             [
              0.7777777777777778,
              "#fb9f3a"
             ],
             [
              0.8888888888888888,
              "#fdca26"
             ],
             [
              1,
              "#f0f921"
             ]
            ],
            "type": "contour"
           }
          ],
          "contourcarpet": [
           {
            "colorbar": {
             "outlinewidth": 0,
             "ticks": ""
            },
            "type": "contourcarpet"
           }
          ],
          "heatmap": [
           {
            "colorbar": {
             "outlinewidth": 0,
             "ticks": ""
            },
            "colorscale": [
             [
              0,
              "#0d0887"
             ],
             [
              0.1111111111111111,
              "#46039f"
             ],
             [
              0.2222222222222222,
              "#7201a8"
             ],
             [
              0.3333333333333333,
              "#9c179e"
             ],
             [
              0.4444444444444444,
              "#bd3786"
             ],
             [
              0.5555555555555556,
              "#d8576b"
             ],
             [
              0.6666666666666666,
              "#ed7953"
             ],
             [
              0.7777777777777778,
              "#fb9f3a"
             ],
             [
              0.8888888888888888,
              "#fdca26"
             ],
             [
              1,
              "#f0f921"
             ]
            ],
            "type": "heatmap"
           }
          ],
          "histogram": [
           {
            "marker": {
             "pattern": {
              "fillmode": "overlay",
              "size": 10,
              "solidity": 0.2
             }
            },
            "type": "histogram"
           }
          ],
          "histogram2d": [
           {
            "colorbar": {
             "outlinewidth": 0,
             "ticks": ""
            },
            "colorscale": [
             [
              0,
              "#0d0887"
             ],
             [
              0.1111111111111111,
              "#46039f"
             ],
             [
              0.2222222222222222,
              "#7201a8"
             ],
             [
              0.3333333333333333,
              "#9c179e"
             ],
             [
              0.4444444444444444,
              "#bd3786"
             ],
             [
              0.5555555555555556,
              "#d8576b"
             ],
             [
              0.6666666666666666,
              "#ed7953"
             ],
             [
              0.7777777777777778,
              "#fb9f3a"
             ],
             [
              0.8888888888888888,
              "#fdca26"
             ],
             [
              1,
              "#f0f921"
             ]
            ],
            "type": "histogram2d"
           }
          ],
          "histogram2dcontour": [
           {
            "colorbar": {
             "outlinewidth": 0,
             "ticks": ""
            },
            "colorscale": [
             [
              0,
              "#0d0887"
             ],
             [
              0.1111111111111111,
              "#46039f"
             ],
             [
              0.2222222222222222,
              "#7201a8"
             ],
             [
              0.3333333333333333,
              "#9c179e"
             ],
             [
              0.4444444444444444,
              "#bd3786"
             ],
             [
              0.5555555555555556,
              "#d8576b"
             ],
             [
              0.6666666666666666,
              "#ed7953"
             ],
             [
              0.7777777777777778,
              "#fb9f3a"
             ],
             [
              0.8888888888888888,
              "#fdca26"
             ],
             [
              1,
              "#f0f921"
             ]
            ],
            "type": "histogram2dcontour"
           }
          ],
          "mesh3d": [
           {
            "colorbar": {
             "outlinewidth": 0,
             "ticks": ""
            },
            "type": "mesh3d"
           }
          ],
          "parcoords": [
           {
            "line": {
             "colorbar": {
              "outlinewidth": 0,
              "ticks": ""
             }
            },
            "type": "parcoords"
           }
          ],
          "pie": [
           {
            "automargin": true,
            "type": "pie"
           }
          ],
          "scatter": [
           {
            "fillpattern": {
             "fillmode": "overlay",
             "size": 10,
             "solidity": 0.2
            },
            "type": "scatter"
           }
          ],
          "scatter3d": [
           {
            "line": {
             "colorbar": {
              "outlinewidth": 0,
              "ticks": ""
             }
            },
            "marker": {
             "colorbar": {
              "outlinewidth": 0,
              "ticks": ""
             }
            },
            "type": "scatter3d"
           }
          ],
          "scattercarpet": [
           {
            "marker": {
             "colorbar": {
              "outlinewidth": 0,
              "ticks": ""
             }
            },
            "type": "scattercarpet"
           }
          ],
          "scattergeo": [
           {
            "marker": {
             "colorbar": {
              "outlinewidth": 0,
              "ticks": ""
             }
            },
            "type": "scattergeo"
           }
          ],
          "scattergl": [
           {
            "marker": {
             "colorbar": {
              "outlinewidth": 0,
              "ticks": ""
             }
            },
            "type": "scattergl"
           }
          ],
          "scattermap": [
           {
            "marker": {
             "colorbar": {
              "outlinewidth": 0,
              "ticks": ""
             }
            },
            "type": "scattermap"
           }
          ],
          "scattermapbox": [
           {
            "marker": {
             "colorbar": {
              "outlinewidth": 0,
              "ticks": ""
             }
            },
            "type": "scattermapbox"
           }
          ],
          "scatterpolar": [
           {
            "marker": {
             "colorbar": {
              "outlinewidth": 0,
              "ticks": ""
             }
            },
            "type": "scatterpolar"
           }
          ],
          "scatterpolargl": [
           {
            "marker": {
             "colorbar": {
              "outlinewidth": 0,
              "ticks": ""
             }
            },
            "type": "scatterpolargl"
           }
          ],
          "scatterternary": [
           {
            "marker": {
             "colorbar": {
              "outlinewidth": 0,
              "ticks": ""
             }
            },
            "type": "scatterternary"
           }
          ],
          "surface": [
           {
            "colorbar": {
             "outlinewidth": 0,
             "ticks": ""
            },
            "colorscale": [
             [
              0,
              "#0d0887"
             ],
             [
              0.1111111111111111,
              "#46039f"
             ],
             [
              0.2222222222222222,
              "#7201a8"
             ],
             [
              0.3333333333333333,
              "#9c179e"
             ],
             [
              0.4444444444444444,
              "#bd3786"
             ],
             [
              0.5555555555555556,
              "#d8576b"
             ],
             [
              0.6666666666666666,
              "#ed7953"
             ],
             [
              0.7777777777777778,
              "#fb9f3a"
             ],
             [
              0.8888888888888888,
              "#fdca26"
             ],
             [
              1,
              "#f0f921"
             ]
            ],
            "type": "surface"
           }
          ],
          "table": [
           {
            "cells": {
             "fill": {
              "color": "#EBF0F8"
             },
             "line": {
              "color": "white"
             }
            },
            "header": {
             "fill": {
              "color": "#C8D4E3"
             },
             "line": {
              "color": "white"
             }
            },
            "type": "table"
           }
          ]
         },
         "layout": {
          "annotationdefaults": {
           "arrowcolor": "#2a3f5f",
           "arrowhead": 0,
           "arrowwidth": 1
          },
          "autotypenumbers": "strict",
          "coloraxis": {
           "colorbar": {
            "outlinewidth": 0,
            "ticks": ""
           }
          },
          "colorscale": {
           "diverging": [
            [
             0,
             "#8e0152"
            ],
            [
             0.1,
             "#c51b7d"
            ],
            [
             0.2,
             "#de77ae"
            ],
            [
             0.3,
             "#f1b6da"
            ],
            [
             0.4,
             "#fde0ef"
            ],
            [
             0.5,
             "#f7f7f7"
            ],
            [
             0.6,
             "#e6f5d0"
            ],
            [
             0.7,
             "#b8e186"
            ],
            [
             0.8,
             "#7fbc41"
            ],
            [
             0.9,
             "#4d9221"
            ],
            [
             1,
             "#276419"
            ]
           ],
           "sequential": [
            [
             0,
             "#0d0887"
            ],
            [
             0.1111111111111111,
             "#46039f"
            ],
            [
             0.2222222222222222,
             "#7201a8"
            ],
            [
             0.3333333333333333,
             "#9c179e"
            ],
            [
             0.4444444444444444,
             "#bd3786"
            ],
            [
             0.5555555555555556,
             "#d8576b"
            ],
            [
             0.6666666666666666,
             "#ed7953"
            ],
            [
             0.7777777777777778,
             "#fb9f3a"
            ],
            [
             0.8888888888888888,
             "#fdca26"
            ],
            [
             1,
             "#f0f921"
            ]
           ],
           "sequentialminus": [
            [
             0,
             "#0d0887"
            ],
            [
             0.1111111111111111,
             "#46039f"
            ],
            [
             0.2222222222222222,
             "#7201a8"
            ],
            [
             0.3333333333333333,
             "#9c179e"
            ],
            [
             0.4444444444444444,
             "#bd3786"
            ],
            [
             0.5555555555555556,
             "#d8576b"
            ],
            [
             0.6666666666666666,
             "#ed7953"
            ],
            [
             0.7777777777777778,
             "#fb9f3a"
            ],
            [
             0.8888888888888888,
             "#fdca26"
            ],
            [
             1,
             "#f0f921"
            ]
           ]
          },
          "colorway": [
           "#636efa",
           "#EF553B",
           "#00cc96",
           "#ab63fa",
           "#FFA15A",
           "#19d3f3",
           "#FF6692",
           "#B6E880",
           "#FF97FF",
           "#FECB52"
          ],
          "font": {
           "color": "#2a3f5f"
          },
          "geo": {
           "bgcolor": "white",
           "lakecolor": "white",
           "landcolor": "#E5ECF6",
           "showlakes": true,
           "showland": true,
           "subunitcolor": "white"
          },
          "hoverlabel": {
           "align": "left"
          },
          "hovermode": "closest",
          "mapbox": {
           "style": "light"
          },
          "paper_bgcolor": "white",
          "plot_bgcolor": "#E5ECF6",
          "polar": {
           "angularaxis": {
            "gridcolor": "white",
            "linecolor": "white",
            "ticks": ""
           },
           "bgcolor": "#E5ECF6",
           "radialaxis": {
            "gridcolor": "white",
            "linecolor": "white",
            "ticks": ""
           }
          },
          "scene": {
           "xaxis": {
            "backgroundcolor": "#E5ECF6",
            "gridcolor": "white",
            "gridwidth": 2,
            "linecolor": "white",
            "showbackground": true,
            "ticks": "",
            "zerolinecolor": "white"
           },
           "yaxis": {
            "backgroundcolor": "#E5ECF6",
            "gridcolor": "white",
            "gridwidth": 2,
            "linecolor": "white",
            "showbackground": true,
            "ticks": "",
            "zerolinecolor": "white"
           },
           "zaxis": {
            "backgroundcolor": "#E5ECF6",
            "gridcolor": "white",
            "gridwidth": 2,
            "linecolor": "white",
            "showbackground": true,
            "ticks": "",
            "zerolinecolor": "white"
           }
          },
          "shapedefaults": {
           "line": {
            "color": "#2a3f5f"
           }
          },
          "ternary": {
           "aaxis": {
            "gridcolor": "white",
            "linecolor": "white",
            "ticks": ""
           },
           "baxis": {
            "gridcolor": "white",
            "linecolor": "white",
            "ticks": ""
           },
           "bgcolor": "#E5ECF6",
           "caxis": {
            "gridcolor": "white",
            "linecolor": "white",
            "ticks": ""
           }
          },
          "title": {
           "x": 0.05
          },
          "xaxis": {
           "automargin": true,
           "gridcolor": "white",
           "linecolor": "white",
           "ticks": "",
           "title": {
            "standoff": 15
           },
           "zerolinecolor": "white",
           "zerolinewidth": 2
          },
          "yaxis": {
           "automargin": true,
           "gridcolor": "white",
           "linecolor": "white",
           "ticks": "",
           "title": {
            "standoff": 15
           },
           "zerolinecolor": "white",
           "zerolinewidth": 2
          }
         }
        },
        "title": {
         "text": "Descomposición de la Serie Temporal (Multiplicative) para Marketing"
        },
        "xaxis": {
         "anchor": "y",
         "domain": [
          0,
          1
         ]
        },
        "xaxis2": {
         "anchor": "y2",
         "domain": [
          0,
          1
         ]
        },
        "xaxis3": {
         "anchor": "y3",
         "domain": [
          0,
          1
         ]
        },
        "xaxis4": {
         "anchor": "y4",
         "domain": [
          0,
          1
         ]
        },
        "yaxis": {
         "anchor": "x",
         "domain": [
          0.84375,
          1
         ]
        },
        "yaxis2": {
         "anchor": "x2",
         "domain": [
          0.5625,
          0.71875
         ]
        },
        "yaxis3": {
         "anchor": "x3",
         "domain": [
          0.28125,
          0.4375
         ]
        },
        "yaxis4": {
         "anchor": "x4",
         "domain": [
          0,
          0.15625
         ]
        }
       }
      }
     },
     "metadata": {},
     "output_type": "display_data"
    },
    {
     "name": "stderr",
     "output_type": "stream",
     "text": [
      "2025-08-09 15:48:30,279 - INFO - Criterio de selección: La desviación estándar de los residuos multiplicative es menor.\n",
      "2025-08-09 15:48:30,280 - INFO - El departamento Sales tiene una descomposición multiplicative.\n"
     ]
    },
    {
     "name": "stdout",
     "output_type": "stream",
     "text": [
      "Desviación estándar de los residuales aditivos: 23.60\n",
      "Desviación estándar de los residuales multiplicativos: 0.05\n",
      "P-value del test ADF: 0.00\n"
     ]
    },
    {
     "data": {
      "application/vnd.plotly.v1+json": {
       "config": {
        "plotlyServerURL": "https://plot.ly"
       },
       "data": [
        {
         "mode": "lines",
         "name": "Original",
         "type": "scatter",
         "x": [
          "2023-12-31T00:00:00.000000000",
          "2024-01-14T00:00:00.000000000",
          "2024-01-28T00:00:00.000000000",
          "2024-02-11T00:00:00.000000000",
          "2024-02-25T00:00:00.000000000",
          "2024-03-10T00:00:00.000000000",
          "2024-03-24T00:00:00.000000000",
          "2024-04-07T00:00:00.000000000",
          "2024-04-21T00:00:00.000000000",
          "2024-05-05T00:00:00.000000000",
          "2024-05-19T00:00:00.000000000",
          "2024-06-02T00:00:00.000000000",
          "2024-06-16T00:00:00.000000000",
          "2024-06-30T00:00:00.000000000",
          "2024-07-14T00:00:00.000000000",
          "2024-07-28T00:00:00.000000000",
          "2024-08-11T00:00:00.000000000",
          "2024-08-25T00:00:00.000000000",
          "2024-09-08T00:00:00.000000000",
          "2024-09-22T00:00:00.000000000",
          "2024-10-06T00:00:00.000000000",
          "2024-10-20T00:00:00.000000000",
          "2024-11-03T00:00:00.000000000",
          "2024-11-17T00:00:00.000000000",
          "2024-12-01T00:00:00.000000000",
          "2024-12-15T00:00:00.000000000",
          "2024-12-29T00:00:00.000000000",
          "2025-01-12T00:00:00.000000000",
          "2025-01-26T00:00:00.000000000",
          "2025-02-09T00:00:00.000000000",
          "2025-02-23T00:00:00.000000000",
          "2025-03-09T00:00:00.000000000",
          "2025-03-23T00:00:00.000000000",
          "2025-04-06T00:00:00.000000000",
          "2025-04-20T00:00:00.000000000",
          "2025-05-04T00:00:00.000000000"
         ],
         "xaxis": "x",
         "y": {
          "bdata": "AAAAAAAA+H9mZmZmZvJ6QKRwPQrXi3pAZmZmZmYWfUAUrkfheih7QB6F61G4YnhAUrgehevtfkD2KFyPwsF/QFyPwvUo7H5Aj8L1KFwbfECPwvUoXF9/QOxRuB6F54BAAAAAAACcgEAUrkfhelCAQBSuR+F6MHtAj8L1KFz3fkAUrkfheiR+QGZmZmZmWIBApHA9Ctcze0DC9Shcjy59QIXrUbgeP4BAUrgehevNf0BmZmZmZk5/QDQzMzMz53tAUrgehet8fEBxPQrXoxJ9QJDC9ShcqH1ArkfhehQ+fkDC9Shcj756QB+F61G4Xn9AUrgehetxfEDXo3A9Cpd9QD4K16Nw4XxAH4XrUbhif0B6FK5H4TJ9QHoUrkfhMn1A",
          "dtype": "f8"
         },
         "yaxis": "y"
        },
        {
         "mode": "lines",
         "name": "Tendencia",
         "type": "scatter",
         "x": [
          "2023-12-31T00:00:00.000000000",
          "2024-01-14T00:00:00.000000000",
          "2024-01-28T00:00:00.000000000",
          "2024-02-11T00:00:00.000000000",
          "2024-02-25T00:00:00.000000000",
          "2024-03-10T00:00:00.000000000",
          "2024-03-24T00:00:00.000000000",
          "2024-04-07T00:00:00.000000000",
          "2024-04-21T00:00:00.000000000",
          "2024-05-05T00:00:00.000000000",
          "2024-05-19T00:00:00.000000000",
          "2024-06-02T00:00:00.000000000",
          "2024-06-16T00:00:00.000000000",
          "2024-06-30T00:00:00.000000000",
          "2024-07-14T00:00:00.000000000",
          "2024-07-28T00:00:00.000000000",
          "2024-08-11T00:00:00.000000000",
          "2024-08-25T00:00:00.000000000",
          "2024-09-08T00:00:00.000000000",
          "2024-09-22T00:00:00.000000000",
          "2024-10-06T00:00:00.000000000",
          "2024-10-20T00:00:00.000000000",
          "2024-11-03T00:00:00.000000000",
          "2024-11-17T00:00:00.000000000",
          "2024-12-01T00:00:00.000000000",
          "2024-12-15T00:00:00.000000000",
          "2024-12-29T00:00:00.000000000",
          "2025-01-12T00:00:00.000000000",
          "2025-01-26T00:00:00.000000000",
          "2025-02-09T00:00:00.000000000",
          "2025-02-23T00:00:00.000000000",
          "2025-03-09T00:00:00.000000000",
          "2025-03-23T00:00:00.000000000",
          "2025-04-06T00:00:00.000000000",
          "2025-04-20T00:00:00.000000000",
          "2025-05-04T00:00:00.000000000"
         ],
         "xaxis": "x2",
         "y": {
          "bdata": "AAAAAAAA+H8AAAAAAAD4fwAAAAAAAPh/AAAAAAAA+H8AAAAAAAD4fwAAAAAAAPh/zyLb+b5ffUBsoNMGusF9QOQXS34xBX5ASn6x5BcgfkB4d3d391N+QMgvlvxizH5AHYXrUTj9fkAAAAAAALp+QC2W/GJJr35AE65H4XrnfkDPaQOdNg5/QJw20GmDzn5A7+7u7g5dfkCrqqqqqgR+QD0K16MQ+X1A+sWSX6wLfkCBThvotN99QC35xZJfrX1A1qNwPYqsfUC+WPKLJb59QHh3d3f3m31Ad3d3d/dwfUDqUbgeBVZ9QI/C9ShcTX1AAAAAAAAA+H8AAAAAAAD4fwAAAAAAAPh/AAAAAAAA+H8AAAAAAAD4fwAAAAAAAPh/",
          "dtype": "f8"
         },
         "yaxis": "y2"
        },
        {
         "mode": "lines",
         "name": "Estacionalidad",
         "type": "scatter",
         "x": [
          "2023-12-31T00:00:00.000000000",
          "2024-01-14T00:00:00.000000000",
          "2024-01-28T00:00:00.000000000",
          "2024-02-11T00:00:00.000000000",
          "2024-02-25T00:00:00.000000000",
          "2024-03-10T00:00:00.000000000",
          "2024-03-24T00:00:00.000000000",
          "2024-04-07T00:00:00.000000000",
          "2024-04-21T00:00:00.000000000",
          "2024-05-05T00:00:00.000000000",
          "2024-05-19T00:00:00.000000000",
          "2024-06-02T00:00:00.000000000",
          "2024-06-16T00:00:00.000000000",
          "2024-06-30T00:00:00.000000000",
          "2024-07-14T00:00:00.000000000",
          "2024-07-28T00:00:00.000000000",
          "2024-08-11T00:00:00.000000000",
          "2024-08-25T00:00:00.000000000",
          "2024-09-08T00:00:00.000000000",
          "2024-09-22T00:00:00.000000000",
          "2024-10-06T00:00:00.000000000",
          "2024-10-20T00:00:00.000000000",
          "2024-11-03T00:00:00.000000000",
          "2024-11-17T00:00:00.000000000",
          "2024-12-01T00:00:00.000000000",
          "2024-12-15T00:00:00.000000000",
          "2024-12-29T00:00:00.000000000",
          "2025-01-12T00:00:00.000000000",
          "2025-01-26T00:00:00.000000000",
          "2025-02-09T00:00:00.000000000",
          "2025-02-23T00:00:00.000000000",
          "2025-03-09T00:00:00.000000000",
          "2025-03-23T00:00:00.000000000",
          "2025-04-06T00:00:00.000000000",
          "2025-04-20T00:00:00.000000000",
          "2025-05-04T00:00:00.000000000"
         ],
         "xaxis": "x3",
         "y": {
          "bdata": "GvYC8kkc8D/AA9owUCvwPz5Twpn87u0/Dl17sbAW8D/xtZLAy9jtP1daQPG75vA/Avud8Rnn7j+Rzh3KQSvwP3zXDJgKw/A/cxYAX2SU7z+tvCBCmoLwP7FeokBvKPA/GvYC8kkc8D/AA9owUCvwPz5Twpn87u0/Dl17sbAW8D/xtZLAy9jtP1daQPG75vA/Avud8Rnn7j+Rzh3KQSvwP3zXDJgKw/A/cxYAX2SU7z+tvCBCmoLwP7FeokBvKPA/GvYC8kkc8D/AA9owUCvwPz5Twpn87u0/Dl17sbAW8D/xtZLAy9jtP1daQPG75vA/Avud8Rnn7j+Rzh3KQSvwP3zXDJgKw/A/cxYAX2SU7z+tvCBCmoLwP7FeokBvKPA/",
          "dtype": "f8"
         },
         "yaxis": "y3"
        },
        {
         "mode": "lines",
         "name": "Residuos",
         "type": "scatter",
         "x": [
          "2023-12-31T00:00:00.000000000",
          "2024-01-14T00:00:00.000000000",
          "2024-01-28T00:00:00.000000000",
          "2024-02-11T00:00:00.000000000",
          "2024-02-25T00:00:00.000000000",
          "2024-03-10T00:00:00.000000000",
          "2024-03-24T00:00:00.000000000",
          "2024-04-07T00:00:00.000000000",
          "2024-04-21T00:00:00.000000000",
          "2024-05-05T00:00:00.000000000",
          "2024-05-19T00:00:00.000000000",
          "2024-06-02T00:00:00.000000000",
          "2024-06-16T00:00:00.000000000",
          "2024-06-30T00:00:00.000000000",
          "2024-07-14T00:00:00.000000000",
          "2024-07-28T00:00:00.000000000",
          "2024-08-11T00:00:00.000000000",
          "2024-08-25T00:00:00.000000000",
          "2024-09-08T00:00:00.000000000",
          "2024-09-22T00:00:00.000000000",
          "2024-10-06T00:00:00.000000000",
          "2024-10-20T00:00:00.000000000",
          "2024-11-03T00:00:00.000000000",
          "2024-11-17T00:00:00.000000000",
          "2024-12-01T00:00:00.000000000",
          "2024-12-15T00:00:00.000000000",
          "2024-12-29T00:00:00.000000000",
          "2025-01-12T00:00:00.000000000",
          "2025-01-26T00:00:00.000000000",
          "2025-02-09T00:00:00.000000000",
          "2025-02-23T00:00:00.000000000",
          "2025-03-09T00:00:00.000000000",
          "2025-03-23T00:00:00.000000000",
          "2025-04-06T00:00:00.000000000",
          "2025-04-20T00:00:00.000000000",
          "2025-05-04T00:00:00.000000000"
         ],
         "xaxis": "x4",
         "y": {
          "bdata": "AAAAAAAA+H8AAAAAAAD4fwAAAAAAAPh/AAAAAAAA+H8AAAAAAAD4fwAAAAAAAPh/Hxa6sQVy8T/qMT5+ouXwP/cfLryndu8/h85vgNhA7j/ApxU7JArwP2S2W05oZPE/m+5gS5UI8T+G6te2DtDwP1f0JmXzT+4/YoY32Tjj7z/1eQM5YKbwP1YDEV2yEvA/YrSsMsKv7T/MfKSZiMjuP1Ng+eySjvA/DYnYinop8T+RyPqPwj/wP9dzafn8yu0/aQNf/6KC7j+VC3EosPPuPyP2fBjtIfE/IK10XkpY8D+27BkkDUfvP/ls/200N/A/AAAAAAAA+H8AAAAAAAD4fwAAAAAAAPh/AAAAAAAA+H8AAAAAAAD4fwAAAAAAAPh/",
          "dtype": "f8"
         },
         "yaxis": "y4"
        }
       ],
       "layout": {
        "annotations": [
         {
          "font": {
           "size": 16
          },
          "showarrow": false,
          "text": "Original",
          "x": 0.5,
          "xanchor": "center",
          "xref": "paper",
          "y": 1,
          "yanchor": "bottom",
          "yref": "paper"
         },
         {
          "font": {
           "size": 16
          },
          "showarrow": false,
          "text": "Tendencia",
          "x": 0.5,
          "xanchor": "center",
          "xref": "paper",
          "y": 0.71875,
          "yanchor": "bottom",
          "yref": "paper"
         },
         {
          "font": {
           "size": 16
          },
          "showarrow": false,
          "text": "Estacionalidad",
          "x": 0.5,
          "xanchor": "center",
          "xref": "paper",
          "y": 0.4375,
          "yanchor": "bottom",
          "yref": "paper"
         },
         {
          "font": {
           "size": 16
          },
          "showarrow": false,
          "text": "Residuos",
          "x": 0.5,
          "xanchor": "center",
          "xref": "paper",
          "y": 0.15625,
          "yanchor": "bottom",
          "yref": "paper"
         }
        ],
        "height": 800,
        "template": {
         "data": {
          "bar": [
           {
            "error_x": {
             "color": "#2a3f5f"
            },
            "error_y": {
             "color": "#2a3f5f"
            },
            "marker": {
             "line": {
              "color": "#E5ECF6",
              "width": 0.5
             },
             "pattern": {
              "fillmode": "overlay",
              "size": 10,
              "solidity": 0.2
             }
            },
            "type": "bar"
           }
          ],
          "barpolar": [
           {
            "marker": {
             "line": {
              "color": "#E5ECF6",
              "width": 0.5
             },
             "pattern": {
              "fillmode": "overlay",
              "size": 10,
              "solidity": 0.2
             }
            },
            "type": "barpolar"
           }
          ],
          "carpet": [
           {
            "aaxis": {
             "endlinecolor": "#2a3f5f",
             "gridcolor": "white",
             "linecolor": "white",
             "minorgridcolor": "white",
             "startlinecolor": "#2a3f5f"
            },
            "baxis": {
             "endlinecolor": "#2a3f5f",
             "gridcolor": "white",
             "linecolor": "white",
             "minorgridcolor": "white",
             "startlinecolor": "#2a3f5f"
            },
            "type": "carpet"
           }
          ],
          "choropleth": [
           {
            "colorbar": {
             "outlinewidth": 0,
             "ticks": ""
            },
            "type": "choropleth"
           }
          ],
          "contour": [
           {
            "colorbar": {
             "outlinewidth": 0,
             "ticks": ""
            },
            "colorscale": [
             [
              0,
              "#0d0887"
             ],
             [
              0.1111111111111111,
              "#46039f"
             ],
             [
              0.2222222222222222,
              "#7201a8"
             ],
             [
              0.3333333333333333,
              "#9c179e"
             ],
             [
              0.4444444444444444,
              "#bd3786"
             ],
             [
              0.5555555555555556,
              "#d8576b"
             ],
             [
              0.6666666666666666,
              "#ed7953"
             ],
             [
              0.7777777777777778,
              "#fb9f3a"
             ],
             [
              0.8888888888888888,
              "#fdca26"
             ],
             [
              1,
              "#f0f921"
             ]
            ],
            "type": "contour"
           }
          ],
          "contourcarpet": [
           {
            "colorbar": {
             "outlinewidth": 0,
             "ticks": ""
            },
            "type": "contourcarpet"
           }
          ],
          "heatmap": [
           {
            "colorbar": {
             "outlinewidth": 0,
             "ticks": ""
            },
            "colorscale": [
             [
              0,
              "#0d0887"
             ],
             [
              0.1111111111111111,
              "#46039f"
             ],
             [
              0.2222222222222222,
              "#7201a8"
             ],
             [
              0.3333333333333333,
              "#9c179e"
             ],
             [
              0.4444444444444444,
              "#bd3786"
             ],
             [
              0.5555555555555556,
              "#d8576b"
             ],
             [
              0.6666666666666666,
              "#ed7953"
             ],
             [
              0.7777777777777778,
              "#fb9f3a"
             ],
             [
              0.8888888888888888,
              "#fdca26"
             ],
             [
              1,
              "#f0f921"
             ]
            ],
            "type": "heatmap"
           }
          ],
          "histogram": [
           {
            "marker": {
             "pattern": {
              "fillmode": "overlay",
              "size": 10,
              "solidity": 0.2
             }
            },
            "type": "histogram"
           }
          ],
          "histogram2d": [
           {
            "colorbar": {
             "outlinewidth": 0,
             "ticks": ""
            },
            "colorscale": [
             [
              0,
              "#0d0887"
             ],
             [
              0.1111111111111111,
              "#46039f"
             ],
             [
              0.2222222222222222,
              "#7201a8"
             ],
             [
              0.3333333333333333,
              "#9c179e"
             ],
             [
              0.4444444444444444,
              "#bd3786"
             ],
             [
              0.5555555555555556,
              "#d8576b"
             ],
             [
              0.6666666666666666,
              "#ed7953"
             ],
             [
              0.7777777777777778,
              "#fb9f3a"
             ],
             [
              0.8888888888888888,
              "#fdca26"
             ],
             [
              1,
              "#f0f921"
             ]
            ],
            "type": "histogram2d"
           }
          ],
          "histogram2dcontour": [
           {
            "colorbar": {
             "outlinewidth": 0,
             "ticks": ""
            },
            "colorscale": [
             [
              0,
              "#0d0887"
             ],
             [
              0.1111111111111111,
              "#46039f"
             ],
             [
              0.2222222222222222,
              "#7201a8"
             ],
             [
              0.3333333333333333,
              "#9c179e"
             ],
             [
              0.4444444444444444,
              "#bd3786"
             ],
             [
              0.5555555555555556,
              "#d8576b"
             ],
             [
              0.6666666666666666,
              "#ed7953"
             ],
             [
              0.7777777777777778,
              "#fb9f3a"
             ],
             [
              0.8888888888888888,
              "#fdca26"
             ],
             [
              1,
              "#f0f921"
             ]
            ],
            "type": "histogram2dcontour"
           }
          ],
          "mesh3d": [
           {
            "colorbar": {
             "outlinewidth": 0,
             "ticks": ""
            },
            "type": "mesh3d"
           }
          ],
          "parcoords": [
           {
            "line": {
             "colorbar": {
              "outlinewidth": 0,
              "ticks": ""
             }
            },
            "type": "parcoords"
           }
          ],
          "pie": [
           {
            "automargin": true,
            "type": "pie"
           }
          ],
          "scatter": [
           {
            "fillpattern": {
             "fillmode": "overlay",
             "size": 10,
             "solidity": 0.2
            },
            "type": "scatter"
           }
          ],
          "scatter3d": [
           {
            "line": {
             "colorbar": {
              "outlinewidth": 0,
              "ticks": ""
             }
            },
            "marker": {
             "colorbar": {
              "outlinewidth": 0,
              "ticks": ""
             }
            },
            "type": "scatter3d"
           }
          ],
          "scattercarpet": [
           {
            "marker": {
             "colorbar": {
              "outlinewidth": 0,
              "ticks": ""
             }
            },
            "type": "scattercarpet"
           }
          ],
          "scattergeo": [
           {
            "marker": {
             "colorbar": {
              "outlinewidth": 0,
              "ticks": ""
             }
            },
            "type": "scattergeo"
           }
          ],
          "scattergl": [
           {
            "marker": {
             "colorbar": {
              "outlinewidth": 0,
              "ticks": ""
             }
            },
            "type": "scattergl"
           }
          ],
          "scattermap": [
           {
            "marker": {
             "colorbar": {
              "outlinewidth": 0,
              "ticks": ""
             }
            },
            "type": "scattermap"
           }
          ],
          "scattermapbox": [
           {
            "marker": {
             "colorbar": {
              "outlinewidth": 0,
              "ticks": ""
             }
            },
            "type": "scattermapbox"
           }
          ],
          "scatterpolar": [
           {
            "marker": {
             "colorbar": {
              "outlinewidth": 0,
              "ticks": ""
             }
            },
            "type": "scatterpolar"
           }
          ],
          "scatterpolargl": [
           {
            "marker": {
             "colorbar": {
              "outlinewidth": 0,
              "ticks": ""
             }
            },
            "type": "scatterpolargl"
           }
          ],
          "scatterternary": [
           {
            "marker": {
             "colorbar": {
              "outlinewidth": 0,
              "ticks": ""
             }
            },
            "type": "scatterternary"
           }
          ],
          "surface": [
           {
            "colorbar": {
             "outlinewidth": 0,
             "ticks": ""
            },
            "colorscale": [
             [
              0,
              "#0d0887"
             ],
             [
              0.1111111111111111,
              "#46039f"
             ],
             [
              0.2222222222222222,
              "#7201a8"
             ],
             [
              0.3333333333333333,
              "#9c179e"
             ],
             [
              0.4444444444444444,
              "#bd3786"
             ],
             [
              0.5555555555555556,
              "#d8576b"
             ],
             [
              0.6666666666666666,
              "#ed7953"
             ],
             [
              0.7777777777777778,
              "#fb9f3a"
             ],
             [
              0.8888888888888888,
              "#fdca26"
             ],
             [
              1,
              "#f0f921"
             ]
            ],
            "type": "surface"
           }
          ],
          "table": [
           {
            "cells": {
             "fill": {
              "color": "#EBF0F8"
             },
             "line": {
              "color": "white"
             }
            },
            "header": {
             "fill": {
              "color": "#C8D4E3"
             },
             "line": {
              "color": "white"
             }
            },
            "type": "table"
           }
          ]
         },
         "layout": {
          "annotationdefaults": {
           "arrowcolor": "#2a3f5f",
           "arrowhead": 0,
           "arrowwidth": 1
          },
          "autotypenumbers": "strict",
          "coloraxis": {
           "colorbar": {
            "outlinewidth": 0,
            "ticks": ""
           }
          },
          "colorscale": {
           "diverging": [
            [
             0,
             "#8e0152"
            ],
            [
             0.1,
             "#c51b7d"
            ],
            [
             0.2,
             "#de77ae"
            ],
            [
             0.3,
             "#f1b6da"
            ],
            [
             0.4,
             "#fde0ef"
            ],
            [
             0.5,
             "#f7f7f7"
            ],
            [
             0.6,
             "#e6f5d0"
            ],
            [
             0.7,
             "#b8e186"
            ],
            [
             0.8,
             "#7fbc41"
            ],
            [
             0.9,
             "#4d9221"
            ],
            [
             1,
             "#276419"
            ]
           ],
           "sequential": [
            [
             0,
             "#0d0887"
            ],
            [
             0.1111111111111111,
             "#46039f"
            ],
            [
             0.2222222222222222,
             "#7201a8"
            ],
            [
             0.3333333333333333,
             "#9c179e"
            ],
            [
             0.4444444444444444,
             "#bd3786"
            ],
            [
             0.5555555555555556,
             "#d8576b"
            ],
            [
             0.6666666666666666,
             "#ed7953"
            ],
            [
             0.7777777777777778,
             "#fb9f3a"
            ],
            [
             0.8888888888888888,
             "#fdca26"
            ],
            [
             1,
             "#f0f921"
            ]
           ],
           "sequentialminus": [
            [
             0,
             "#0d0887"
            ],
            [
             0.1111111111111111,
             "#46039f"
            ],
            [
             0.2222222222222222,
             "#7201a8"
            ],
            [
             0.3333333333333333,
             "#9c179e"
            ],
            [
             0.4444444444444444,
             "#bd3786"
            ],
            [
             0.5555555555555556,
             "#d8576b"
            ],
            [
             0.6666666666666666,
             "#ed7953"
            ],
            [
             0.7777777777777778,
             "#fb9f3a"
            ],
            [
             0.8888888888888888,
             "#fdca26"
            ],
            [
             1,
             "#f0f921"
            ]
           ]
          },
          "colorway": [
           "#636efa",
           "#EF553B",
           "#00cc96",
           "#ab63fa",
           "#FFA15A",
           "#19d3f3",
           "#FF6692",
           "#B6E880",
           "#FF97FF",
           "#FECB52"
          ],
          "font": {
           "color": "#2a3f5f"
          },
          "geo": {
           "bgcolor": "white",
           "lakecolor": "white",
           "landcolor": "#E5ECF6",
           "showlakes": true,
           "showland": true,
           "subunitcolor": "white"
          },
          "hoverlabel": {
           "align": "left"
          },
          "hovermode": "closest",
          "mapbox": {
           "style": "light"
          },
          "paper_bgcolor": "white",
          "plot_bgcolor": "#E5ECF6",
          "polar": {
           "angularaxis": {
            "gridcolor": "white",
            "linecolor": "white",
            "ticks": ""
           },
           "bgcolor": "#E5ECF6",
           "radialaxis": {
            "gridcolor": "white",
            "linecolor": "white",
            "ticks": ""
           }
          },
          "scene": {
           "xaxis": {
            "backgroundcolor": "#E5ECF6",
            "gridcolor": "white",
            "gridwidth": 2,
            "linecolor": "white",
            "showbackground": true,
            "ticks": "",
            "zerolinecolor": "white"
           },
           "yaxis": {
            "backgroundcolor": "#E5ECF6",
            "gridcolor": "white",
            "gridwidth": 2,
            "linecolor": "white",
            "showbackground": true,
            "ticks": "",
            "zerolinecolor": "white"
           },
           "zaxis": {
            "backgroundcolor": "#E5ECF6",
            "gridcolor": "white",
            "gridwidth": 2,
            "linecolor": "white",
            "showbackground": true,
            "ticks": "",
            "zerolinecolor": "white"
           }
          },
          "shapedefaults": {
           "line": {
            "color": "#2a3f5f"
           }
          },
          "ternary": {
           "aaxis": {
            "gridcolor": "white",
            "linecolor": "white",
            "ticks": ""
           },
           "baxis": {
            "gridcolor": "white",
            "linecolor": "white",
            "ticks": ""
           },
           "bgcolor": "#E5ECF6",
           "caxis": {
            "gridcolor": "white",
            "linecolor": "white",
            "ticks": ""
           }
          },
          "title": {
           "x": 0.05
          },
          "xaxis": {
           "automargin": true,
           "gridcolor": "white",
           "linecolor": "white",
           "ticks": "",
           "title": {
            "standoff": 15
           },
           "zerolinecolor": "white",
           "zerolinewidth": 2
          },
          "yaxis": {
           "automargin": true,
           "gridcolor": "white",
           "linecolor": "white",
           "ticks": "",
           "title": {
            "standoff": 15
           },
           "zerolinecolor": "white",
           "zerolinewidth": 2
          }
         }
        },
        "title": {
         "text": "Descomposición de la Serie Temporal (Multiplicative) para Sales"
        },
        "xaxis": {
         "anchor": "y",
         "domain": [
          0,
          1
         ]
        },
        "xaxis2": {
         "anchor": "y2",
         "domain": [
          0,
          1
         ]
        },
        "xaxis3": {
         "anchor": "y3",
         "domain": [
          0,
          1
         ]
        },
        "xaxis4": {
         "anchor": "y4",
         "domain": [
          0,
          1
         ]
        },
        "yaxis": {
         "anchor": "x",
         "domain": [
          0.84375,
          1
         ]
        },
        "yaxis2": {
         "anchor": "x2",
         "domain": [
          0.5625,
          0.71875
         ]
        },
        "yaxis3": {
         "anchor": "x3",
         "domain": [
          0.28125,
          0.4375
         ]
        },
        "yaxis4": {
         "anchor": "x4",
         "domain": [
          0,
          0.15625
         ]
        }
       }
      }
     },
     "metadata": {},
     "output_type": "display_data"
    }
   ],
   "source": [
    "def load_data():\n",
    "    try:\n",
    "        conn = get_db_connection()\n",
    "        query = \"SELECT work_date, department, total_overtime FROM vw_historical_data WHERE work_date < '2025-05-04' ORDER BY work_date\"\n",
    "        df = pd.read_sql(query, conn)\n",
    "        conn.close()\n",
    "        logging.info(f\"Datos cargados: {len(df)} registros\")\n",
    "        df['work_date'] = pd.to_datetime(df['work_date'])\n",
    "        \n",
    "        # Agrupar por quincena\n",
    "        df.set_index('work_date', inplace=True)\n",
    "        df = df.groupby('department').resample('2W').sum(numeric_only=True).reset_index()\n",
    "        df.rename(columns={'work_date': 'ds', 'total_overtime': 'y'}, inplace=True)\n",
    "        \n",
    "        return df\n",
    "    except Exception as e:\n",
    "        logging.error(f\"Error al cargar datos: {e}\")\n",
    "        return pd.DataFrame()\n",
    "\n",
    "def handle_outliers(df):\n",
    "    df_cleaned = df.copy()\n",
    "    for dept in df_cleaned['department'].unique():\n",
    "        dept_data = df_cleaned[df_cleaned['department'] == dept]['y']\n",
    "        \n",
    "        # Filtrado de Hampel para detección de outliers\n",
    "        median = dept_data.median()\n",
    "        mad = median_abs_deviation(dept_data)\n",
    "        threshold = 3 * mad\n",
    "        \n",
    "        lower_bound = median - threshold\n",
    "        upper_bound = median + threshold\n",
    "        \n",
    "        outliers = dept_data[(dept_data < lower_bound) | (dept_data > upper_bound)]\n",
    "        if not outliers.empty:\n",
    "            logging.warning(f\"Outliers detectados en {dept}:\\n{df_cleaned[(df_cleaned['department'] == dept) & df_cleaned['y'].isin(outliers)]}\")\n",
    "            df_cleaned.loc[(df_cleaned['department'] == dept) & (df_cleaned['y'].isin(outliers)), 'y'] = np.nan\n",
    "        \n",
    "    df_cleaned['y'] = df_cleaned.groupby('department')['y'].transform(lambda x: x.interpolate(method='linear'))\n",
    "    return df_cleaned\n",
    "\n",
    "df_all_data = load_data()\n",
    "df_all_data = handle_outliers(df_all_data)\n",
    "\n",
    "logging.info(f\"Resumen de datos:\\nDepartamentos únicos: {df_all_data['department'].unique()}\\nFechas únicas: {df_all_data['ds'].unique()}\\nTotal registros: {len(df_all_data)}\")\n",
    "\n",
    "\n",
    "def select_decomposition_type(series):\n",
    "    # Rellenar valores nulos con la media de la serie para evitar errores\n",
    "    series_filled = series.fillna(series.mean())\n",
    "\n",
    "    # Realizar el test de Dickey-Fuller para verificar estacionalidad\n",
    "    adf_result = adfuller(series_filled)\n",
    "    is_stationary = adf_result[1] <= 0.05\n",
    "\n",
    "    # Descomposición aditiva\n",
    "    result_add = seasonal_decompose(series_filled, model='additive', period=12)\n",
    "    std_add = np.nanstd(result_add.resid)\n",
    "    \n",
    "    # Descomposición multiplicativa\n",
    "    result_mul = seasonal_decompose(series_filled, model='multiplicative', period=12)\n",
    "    std_mul = np.nanstd(result_mul.resid)\n",
    "\n",
    "    decomposition_type = 'additive' if std_add < std_mul else 'multiplicative'\n",
    "\n",
    "    # Imprimir los valores de std y el p-value para referencia\n",
    "    print(f\"Desviación estándar de los residuales aditivos: {std_add:.2f}\")\n",
    "    print(f\"Desviación estándar de los residuales multiplicativos: {std_mul:.2f}\")\n",
    "    print(f\"P-value del test ADF: {adf_result[1]:.2f}\")\n",
    "    \n",
    "    # Si la serie no es estacionaria y no tiene una tendencia clara, se descarta ARIMA\n",
    "    if not is_stationary and decomposition_type == 'additive':\n",
    "        logging.info(\"La serie no es estacionaria y no tiene una tendencia clara. Se descarta ARIMA.\")\n",
    "        return decomposition_type, False\n",
    "    \n",
    "    logging.info(f\"Criterio de selección: La desviación estándar de los residuos {decomposition_type} es menor.\")\n",
    "    return decomposition_type, True\n",
    "\n",
    "def plot_decomposition(series, decomposition_type, dept):\n",
    "    # Rellenar valores nulos con la media de la serie para una visualización completa\n",
    "    series_filled = series.fillna(series.mean())\n",
    "    result = seasonal_decompose(series_filled, model=decomposition_type, period=12)\n",
    "    fig = make_subplots(rows=4, cols=1, subplot_titles=['Original', 'Tendencia', 'Estacionalidad', 'Residuos'])\n",
    "    \n",
    "    fig.add_trace(go.Scatter(x=series.index, y=series, mode='lines', name='Original'), row=1, col=1)\n",
    "    fig.add_trace(go.Scatter(x=result.trend.index, y=result.trend, mode='lines', name='Tendencia'), row=2, col=1)\n",
    "    fig.add_trace(go.Scatter(x=result.seasonal.index, y=result.seasonal, mode='lines', name='Estacionalidad'), row=3, col=1)\n",
    "    fig.add_trace(go.Scatter(x=result.resid.index, y=result.resid, mode='lines', name='Residuos'), row=4, col=1)\n",
    "    \n",
    "    fig.update_layout(height=800, title_text=f\"Descomposición de la Serie Temporal ({decomposition_type.capitalize()}) para {dept}\")\n",
    "    fig.show()\n",
    "\n",
    "# Ejemplo de uso\n",
    "for dept in df_all_data['department'].unique():\n",
    "    dept_data = df_all_data[df_all_data['department'] == dept].set_index('ds')['y']\n",
    "    decomposition_type, _ = select_decomposition_type(dept_data)\n",
    "    logging.info(f\"El departamento {dept} tiene una descomposición {decomposition_type}.\")\n",
    "    plot_decomposition(dept_data, decomposition_type, dept)"
   ]
  },
  {
   "cell_type": "markdown",
   "id": "new_model_training",
   "metadata": {},
   "source": [
    "## 4. Entrenamiento y Selección de Modelos\n",
    "\n",
    "Para cada departamento, entrenamos y evaluamos tres modelos de pronóstico:\n",
    "\n",
    "1.  **ARIMA**: Se utiliza `auto_arima` para encontrar los parámetros óptimos. \n",
    "2.  **Prophet**: Actúa como un modelo robusto de respaldo. Su modo de estacionalidad (`additive` o `multiplicative`) se configura dinámicamente según el análisis de descomposición previo.\n",
    "3.  **Holt (Suavización Exponencial)**: Un modelo clásico que captura tendencias.\n",
    "\n",
    "Los modelos se evalúan mediante validación cruzada de series de tiempo. El mejor modelo se selecciona en función de su rendimiento en métricas clave (RMSE, MAE, SMAPE, MASE). Se genera una tabla comparativa para visualizar el rendimiento y la selección final."
   ]
  },
  {
   "cell_type": "code",
   "execution_count": 4,
   "id": "new_model_training_code",
   "metadata": {},
   "outputs": [
    {
     "name": "stderr",
     "output_type": "stream",
     "text": [
      "2025-08-09 15:48:30,433 - INFO - Iniciando análisis para el departamento: Finance\n",
      "2025-08-09 15:48:30,447 - INFO - Criterio de selección: La desviación estándar de los residuos multiplicative es menor.\n"
     ]
    },
    {
     "name": "stdout",
     "output_type": "stream",
     "text": [
      "Desviación estándar de los residuales aditivos: 15.56\n",
      "Desviación estándar de los residuales multiplicativos: 0.05\n",
      "P-value del test ADF: 0.00\n"
     ]
    },
    {
     "name": "stderr",
     "output_type": "stream",
     "text": [
      "2025-08-09 15:48:35,463 - DEBUG - cmd: where.exe tbb.dll\n",
      "cwd: None\n",
      "2025-08-09 15:48:36,053 - DEBUG - Adding TBB (c:\\Users\\joey_\\AppData\\Local\\Programs\\Python\\Maestro_Yoda\\lib\\site-packages\\prophet\\stan_model\\cmdstan-2.33.1\\stan\\lib\\stan_math\\lib\\tbb) to PATH\n",
      "2025-08-09 15:48:36,083 - INFO - Disabling yearly seasonality. Run prophet with yearly_seasonality=True to override this.\n",
      "2025-08-09 15:48:36,085 - INFO - Disabling weekly seasonality. Run prophet with weekly_seasonality=True to override this.\n",
      "2025-08-09 15:48:36,087 - INFO - Disabling daily seasonality. Run prophet with daily_seasonality=True to override this.\n",
      "2025-08-09 15:48:36,243 - INFO - n_changepoints greater than number of observations. Using 18.\n",
      "2025-08-09 15:48:36,250 - DEBUG - input tempfile: C:\\Users\\joey_\\AppData\\Local\\Temp\\tmp9m1vbk43\\uizm3h_g.json\n",
      "2025-08-09 15:48:36,259 - DEBUG - input tempfile: C:\\Users\\joey_\\AppData\\Local\\Temp\\tmp9m1vbk43\\_b_nby4m.json\n",
      "2025-08-09 15:48:36,295 - DEBUG - idx 0\n",
      "2025-08-09 15:48:36,297 - DEBUG - running CmdStan, num_threads: None\n",
      "2025-08-09 15:48:36,299 - DEBUG - CmdStan args: ['C:\\\\Users\\\\joey_\\\\AppData\\\\Local\\\\Programs\\\\Python\\\\Maestro_Yoda\\\\Lib\\\\site-packages\\\\prophet\\\\stan_model\\\\prophet_model.bin', 'random', 'seed=16054', 'data', 'file=C:\\\\Users\\\\joey_\\\\AppData\\\\Local\\\\Temp\\\\tmp9m1vbk43\\\\uizm3h_g.json', 'init=C:\\\\Users\\\\joey_\\\\AppData\\\\Local\\\\Temp\\\\tmp9m1vbk43\\\\_b_nby4m.json', 'output', 'file=C:\\\\Users\\\\joey_\\\\AppData\\\\Local\\\\Temp\\\\tmp9m1vbk43\\\\prophet_model388uasc9\\\\prophet_model-20250809154836.csv', 'method=optimize', 'algorithm=newton', 'iter=10000']\n",
      "15:48:36 - cmdstanpy - INFO - Chain [1] start processing\n",
      "2025-08-09 15:48:36,300 - INFO - Chain [1] start processing\n",
      "15:48:47 - cmdstanpy - INFO - Chain [1] done processing\n",
      "2025-08-09 15:48:47,638 - INFO - Chain [1] done processing\n",
      "2025-08-09 15:48:49,909 - INFO - El mejor modelo FINAL para Finance es: Exponential Smoothing con RMSE de 21.30\n",
      "2025-08-09 15:48:49,937 - INFO - Iniciando análisis para el departamento: HR\n",
      "2025-08-09 15:48:49,974 - INFO - Criterio de selección: La desviación estándar de los residuos multiplicative es menor.\n"
     ]
    },
    {
     "name": "stdout",
     "output_type": "stream",
     "text": [
      "Métricas de los modelos para Finance:\n",
      "                  Modelo       RMSE      MAPE\n",
      "1  Exponential Smoothing  21.304284  5.264780\n",
      "0                  ARIMA  24.475237  6.670518\n",
      "2                Prophet  27.261435  6.988199\n",
      "\n",
      "Desviación estándar de los residuales aditivos: 24.99\n",
      "Desviación estándar de los residuales multiplicativos: 0.06\n",
      "P-value del test ADF: 0.00\n"
     ]
    },
    {
     "name": "stderr",
     "output_type": "stream",
     "text": [
      "2025-08-09 15:48:53,921 - DEBUG - cmd: where.exe tbb.dll\n",
      "cwd: None\n",
      "2025-08-09 15:48:54,485 - DEBUG - TBB already found in load path\n",
      "2025-08-09 15:48:54,498 - INFO - Disabling yearly seasonality. Run prophet with yearly_seasonality=True to override this.\n",
      "2025-08-09 15:48:54,501 - INFO - Disabling weekly seasonality. Run prophet with weekly_seasonality=True to override this.\n",
      "2025-08-09 15:48:54,503 - INFO - Disabling daily seasonality. Run prophet with daily_seasonality=True to override this.\n",
      "2025-08-09 15:48:54,535 - INFO - n_changepoints greater than number of observations. Using 18.\n",
      "2025-08-09 15:48:54,543 - DEBUG - input tempfile: C:\\Users\\joey_\\AppData\\Local\\Temp\\tmp9m1vbk43\\zckgs1rd.json\n",
      "2025-08-09 15:48:54,551 - DEBUG - input tempfile: C:\\Users\\joey_\\AppData\\Local\\Temp\\tmp9m1vbk43\\_vobeybj.json\n",
      "2025-08-09 15:48:54,566 - DEBUG - idx 0\n",
      "2025-08-09 15:48:54,569 - DEBUG - running CmdStan, num_threads: None\n",
      "2025-08-09 15:48:54,572 - DEBUG - CmdStan args: ['C:\\\\Users\\\\joey_\\\\AppData\\\\Local\\\\Programs\\\\Python\\\\Maestro_Yoda\\\\Lib\\\\site-packages\\\\prophet\\\\stan_model\\\\prophet_model.bin', 'random', 'seed=75304', 'data', 'file=C:\\\\Users\\\\joey_\\\\AppData\\\\Local\\\\Temp\\\\tmp9m1vbk43\\\\zckgs1rd.json', 'init=C:\\\\Users\\\\joey_\\\\AppData\\\\Local\\\\Temp\\\\tmp9m1vbk43\\\\_vobeybj.json', 'output', 'file=C:\\\\Users\\\\joey_\\\\AppData\\\\Local\\\\Temp\\\\tmp9m1vbk43\\\\prophet_modelb9wdyhb9\\\\prophet_model-20250809154854.csv', 'method=optimize', 'algorithm=newton', 'iter=10000']\n",
      "15:48:54 - cmdstanpy - INFO - Chain [1] start processing\n",
      "2025-08-09 15:48:54,579 - INFO - Chain [1] start processing\n",
      "15:48:55 - cmdstanpy - INFO - Chain [1] done processing\n",
      "2025-08-09 15:48:55,170 - INFO - Chain [1] done processing\n",
      "2025-08-09 15:48:55,338 - DEBUG - cmd: where.exe tbb.dll\n",
      "cwd: None\n",
      "2025-08-09 15:48:55,683 - DEBUG - TBB already found in load path\n",
      "2025-08-09 15:48:55,698 - INFO - Disabling yearly seasonality. Run prophet with yearly_seasonality=True to override this.\n",
      "2025-08-09 15:48:55,703 - INFO - Disabling weekly seasonality. Run prophet with weekly_seasonality=True to override this.\n",
      "2025-08-09 15:48:55,704 - INFO - Disabling daily seasonality. Run prophet with daily_seasonality=True to override this.\n",
      "2025-08-09 15:48:55,753 - DEBUG - input tempfile: C:\\Users\\joey_\\AppData\\Local\\Temp\\tmp9m1vbk43\\q89escwe.json\n",
      "2025-08-09 15:48:55,785 - DEBUG - input tempfile: C:\\Users\\joey_\\AppData\\Local\\Temp\\tmp9m1vbk43\\uj3y1vyo.json\n",
      "2025-08-09 15:48:55,789 - DEBUG - idx 0\n",
      "2025-08-09 15:48:55,798 - DEBUG - running CmdStan, num_threads: None\n",
      "2025-08-09 15:48:55,801 - DEBUG - CmdStan args: ['C:\\\\Users\\\\joey_\\\\AppData\\\\Local\\\\Programs\\\\Python\\\\Maestro_Yoda\\\\Lib\\\\site-packages\\\\prophet\\\\stan_model\\\\prophet_model.bin', 'random', 'seed=33084', 'data', 'file=C:\\\\Users\\\\joey_\\\\AppData\\\\Local\\\\Temp\\\\tmp9m1vbk43\\\\q89escwe.json', 'init=C:\\\\Users\\\\joey_\\\\AppData\\\\Local\\\\Temp\\\\tmp9m1vbk43\\\\uj3y1vyo.json', 'output', 'file=C:\\\\Users\\\\joey_\\\\AppData\\\\Local\\\\Temp\\\\tmp9m1vbk43\\\\prophet_modelgqtlhurn\\\\prophet_model-20250809154855.csv', 'method=optimize', 'algorithm=newton', 'iter=10000']\n",
      "15:48:55 - cmdstanpy - INFO - Chain [1] start processing\n",
      "2025-08-09 15:48:55,805 - INFO - Chain [1] start processing\n",
      "15:48:56 - cmdstanpy - INFO - Chain [1] done processing\n",
      "2025-08-09 15:48:56,356 - INFO - Chain [1] done processing\n",
      "2025-08-09 15:48:56,733 - INFO - El mejor modelo FINAL para HR es: Prophet con RMSE de 32.49\n"
     ]
    },
    {
     "name": "stdout",
     "output_type": "stream",
     "text": [
      "Métricas de los modelos para HR:\n",
      "                  Modelo       RMSE      MAPE\n",
      "2                Prophet  32.490940  7.393169\n",
      "0                  ARIMA  34.172555  7.003698\n",
      "1  Exponential Smoothing  42.879806  8.428653\n",
      "\n"
     ]
    },
    {
     "name": "stderr",
     "output_type": "stream",
     "text": [
      "2025-08-09 15:48:57,037 - INFO - Iniciando análisis para el departamento: IT\n",
      "2025-08-09 15:48:57,059 - INFO - Criterio de selección: La desviación estándar de los residuos multiplicative es menor.\n"
     ]
    },
    {
     "name": "stdout",
     "output_type": "stream",
     "text": [
      "Desviación estándar de los residuales aditivos: 15.15\n",
      "Desviación estándar de los residuales multiplicativos: 0.04\n",
      "P-value del test ADF: 0.00\n"
     ]
    },
    {
     "name": "stderr",
     "output_type": "stream",
     "text": [
      "2025-08-09 15:49:02,494 - DEBUG - cmd: where.exe tbb.dll\n",
      "cwd: None\n",
      "2025-08-09 15:49:03,277 - DEBUG - TBB already found in load path\n",
      "2025-08-09 15:49:03,291 - INFO - Disabling yearly seasonality. Run prophet with yearly_seasonality=True to override this.\n",
      "2025-08-09 15:49:03,294 - INFO - Disabling weekly seasonality. Run prophet with weekly_seasonality=True to override this.\n",
      "2025-08-09 15:49:03,296 - INFO - Disabling daily seasonality. Run prophet with daily_seasonality=True to override this.\n",
      "2025-08-09 15:49:03,326 - INFO - n_changepoints greater than number of observations. Using 18.\n",
      "2025-08-09 15:49:03,334 - DEBUG - input tempfile: C:\\Users\\joey_\\AppData\\Local\\Temp\\tmp9m1vbk43\\qh7mq84i.json\n",
      "2025-08-09 15:49:03,352 - DEBUG - input tempfile: C:\\Users\\joey_\\AppData\\Local\\Temp\\tmp9m1vbk43\\b8zb272c.json\n",
      "2025-08-09 15:49:03,357 - DEBUG - idx 0\n",
      "2025-08-09 15:49:03,360 - DEBUG - running CmdStan, num_threads: None\n",
      "2025-08-09 15:49:03,362 - DEBUG - CmdStan args: ['C:\\\\Users\\\\joey_\\\\AppData\\\\Local\\\\Programs\\\\Python\\\\Maestro_Yoda\\\\Lib\\\\site-packages\\\\prophet\\\\stan_model\\\\prophet_model.bin', 'random', 'seed=42151', 'data', 'file=C:\\\\Users\\\\joey_\\\\AppData\\\\Local\\\\Temp\\\\tmp9m1vbk43\\\\qh7mq84i.json', 'init=C:\\\\Users\\\\joey_\\\\AppData\\\\Local\\\\Temp\\\\tmp9m1vbk43\\\\b8zb272c.json', 'output', 'file=C:\\\\Users\\\\joey_\\\\AppData\\\\Local\\\\Temp\\\\tmp9m1vbk43\\\\prophet_modeli2b9xypo\\\\prophet_model-20250809154903.csv', 'method=optimize', 'algorithm=newton', 'iter=10000']\n",
      "15:49:03 - cmdstanpy - INFO - Chain [1] start processing\n",
      "2025-08-09 15:49:03,365 - INFO - Chain [1] start processing\n",
      "15:49:04 - cmdstanpy - INFO - Chain [1] done processing\n",
      "2025-08-09 15:49:04,319 - INFO - Chain [1] done processing\n",
      "2025-08-09 15:49:08,679 - WARNING - El mejor modelo actual (ARIMA) produce una predicción histórica de línea plana. Se seleccionará el siguiente mejor modelo.\n",
      "2025-08-09 15:49:09,195 - INFO - El mejor modelo FINAL para IT es: Exponential Smoothing con RMSE de 37.59\n",
      "2025-08-09 15:49:09,232 - INFO - Iniciando análisis para el departamento: Inventory\n",
      "2025-08-09 15:49:09,315 - INFO - Criterio de selección: La desviación estándar de los residuos multiplicative es menor.\n"
     ]
    },
    {
     "name": "stdout",
     "output_type": "stream",
     "text": [
      "Métricas de los modelos para IT:\n",
      "                  Modelo       RMSE      MAPE\n",
      "0  Exponential Smoothing  37.594536  8.293211\n",
      "1                Prophet  45.665765  9.338043\n",
      "\n",
      "Desviación estándar de los residuales aditivos: 17.28\n",
      "Desviación estándar de los residuales multiplicativos: 0.03\n",
      "P-value del test ADF: 0.00\n"
     ]
    },
    {
     "name": "stderr",
     "output_type": "stream",
     "text": [
      "2025-08-09 15:49:12,460 - DEBUG - cmd: where.exe tbb.dll\n",
      "cwd: None\n",
      "2025-08-09 15:49:13,013 - DEBUG - TBB already found in load path\n",
      "2025-08-09 15:49:13,027 - INFO - Disabling yearly seasonality. Run prophet with yearly_seasonality=True to override this.\n",
      "2025-08-09 15:49:13,029 - INFO - Disabling weekly seasonality. Run prophet with weekly_seasonality=True to override this.\n",
      "2025-08-09 15:49:13,033 - INFO - Disabling daily seasonality. Run prophet with daily_seasonality=True to override this.\n",
      "2025-08-09 15:49:13,077 - INFO - n_changepoints greater than number of observations. Using 18.\n",
      "2025-08-09 15:49:13,159 - DEBUG - input tempfile: C:\\Users\\joey_\\AppData\\Local\\Temp\\tmp9m1vbk43\\knnosjx6.json\n",
      "2025-08-09 15:49:13,182 - DEBUG - input tempfile: C:\\Users\\joey_\\AppData\\Local\\Temp\\tmp9m1vbk43\\gdyhe5oi.json\n",
      "2025-08-09 15:49:13,189 - DEBUG - idx 0\n",
      "2025-08-09 15:49:13,193 - DEBUG - running CmdStan, num_threads: None\n",
      "2025-08-09 15:49:13,203 - DEBUG - CmdStan args: ['C:\\\\Users\\\\joey_\\\\AppData\\\\Local\\\\Programs\\\\Python\\\\Maestro_Yoda\\\\Lib\\\\site-packages\\\\prophet\\\\stan_model\\\\prophet_model.bin', 'random', 'seed=6656', 'data', 'file=C:\\\\Users\\\\joey_\\\\AppData\\\\Local\\\\Temp\\\\tmp9m1vbk43\\\\knnosjx6.json', 'init=C:\\\\Users\\\\joey_\\\\AppData\\\\Local\\\\Temp\\\\tmp9m1vbk43\\\\gdyhe5oi.json', 'output', 'file=C:\\\\Users\\\\joey_\\\\AppData\\\\Local\\\\Temp\\\\tmp9m1vbk43\\\\prophet_model768vn3qc\\\\prophet_model-20250809154913.csv', 'method=optimize', 'algorithm=newton', 'iter=10000']\n",
      "15:49:13 - cmdstanpy - INFO - Chain [1] start processing\n",
      "2025-08-09 15:49:13,226 - INFO - Chain [1] start processing\n",
      "15:49:13 - cmdstanpy - INFO - Chain [1] done processing\n",
      "2025-08-09 15:49:13,946 - INFO - Chain [1] done processing\n",
      "2025-08-09 15:49:25,573 - INFO - El mejor modelo FINAL para Inventory es: ARIMA con RMSE de 32.48\n",
      "2025-08-09 15:49:25,613 - INFO - Iniciando análisis para el departamento: Marketing\n",
      "2025-08-09 15:49:25,650 - INFO - Criterio de selección: La desviación estándar de los residuos multiplicative es menor.\n"
     ]
    },
    {
     "name": "stdout",
     "output_type": "stream",
     "text": [
      "Métricas de los modelos para Inventory:\n",
      "                  Modelo       RMSE      MAPE\n",
      "0                  ARIMA  32.481733  4.658158\n",
      "1  Exponential Smoothing  33.678559  5.401582\n",
      "2                Prophet  46.783069  7.431419\n",
      "\n",
      "Desviación estándar de los residuales aditivos: 31.14\n",
      "Desviación estándar de los residuales multiplicativos: 0.07\n",
      "P-value del test ADF: 0.00\n"
     ]
    },
    {
     "name": "stderr",
     "output_type": "stream",
     "text": [
      "2025-08-09 15:49:30,077 - DEBUG - cmd: where.exe tbb.dll\n",
      "cwd: None\n",
      "2025-08-09 15:49:30,430 - DEBUG - TBB already found in load path\n",
      "2025-08-09 15:49:30,445 - INFO - Disabling yearly seasonality. Run prophet with yearly_seasonality=True to override this.\n",
      "2025-08-09 15:49:30,447 - INFO - Disabling weekly seasonality. Run prophet with weekly_seasonality=True to override this.\n",
      "2025-08-09 15:49:30,450 - INFO - Disabling daily seasonality. Run prophet with daily_seasonality=True to override this.\n",
      "2025-08-09 15:49:30,480 - INFO - n_changepoints greater than number of observations. Using 18.\n",
      "2025-08-09 15:49:30,490 - DEBUG - input tempfile: C:\\Users\\joey_\\AppData\\Local\\Temp\\tmp9m1vbk43\\xb2cu56e.json\n",
      "2025-08-09 15:49:30,497 - DEBUG - input tempfile: C:\\Users\\joey_\\AppData\\Local\\Temp\\tmp9m1vbk43\\c54zbq55.json\n",
      "2025-08-09 15:49:30,503 - DEBUG - idx 0\n",
      "2025-08-09 15:49:30,509 - DEBUG - running CmdStan, num_threads: None\n",
      "2025-08-09 15:49:30,511 - DEBUG - CmdStan args: ['C:\\\\Users\\\\joey_\\\\AppData\\\\Local\\\\Programs\\\\Python\\\\Maestro_Yoda\\\\Lib\\\\site-packages\\\\prophet\\\\stan_model\\\\prophet_model.bin', 'random', 'seed=89865', 'data', 'file=C:\\\\Users\\\\joey_\\\\AppData\\\\Local\\\\Temp\\\\tmp9m1vbk43\\\\xb2cu56e.json', 'init=C:\\\\Users\\\\joey_\\\\AppData\\\\Local\\\\Temp\\\\tmp9m1vbk43\\\\c54zbq55.json', 'output', 'file=C:\\\\Users\\\\joey_\\\\AppData\\\\Local\\\\Temp\\\\tmp9m1vbk43\\\\prophet_modelin04nmau\\\\prophet_model-20250809154930.csv', 'method=optimize', 'algorithm=newton', 'iter=10000']\n",
      "15:49:30 - cmdstanpy - INFO - Chain [1] start processing\n",
      "2025-08-09 15:49:30,513 - INFO - Chain [1] start processing\n",
      "15:49:30 - cmdstanpy - INFO - Chain [1] done processing\n",
      "2025-08-09 15:49:30,901 - INFO - Chain [1] done processing\n",
      "2025-08-09 15:49:31,409 - INFO - El mejor modelo FINAL para Marketing es: Exponential Smoothing con RMSE de 39.50\n",
      "2025-08-09 15:49:31,429 - INFO - Iniciando análisis para el departamento: Sales\n",
      "2025-08-09 15:49:31,455 - INFO - Criterio de selección: La desviación estándar de los residuos multiplicative es menor.\n"
     ]
    },
    {
     "name": "stdout",
     "output_type": "stream",
     "text": [
      "Métricas de los modelos para Marketing:\n",
      "                  Modelo       RMSE       MAPE\n",
      "1  Exponential Smoothing  39.495186   6.665473\n",
      "2                Prophet  56.455266   9.980317\n",
      "0                  ARIMA  57.698094  10.268615\n",
      "\n",
      "Desviación estándar de los residuales aditivos: 23.60\n",
      "Desviación estándar de los residuales multiplicativos: 0.05\n",
      "P-value del test ADF: 0.00\n"
     ]
    },
    {
     "name": "stderr",
     "output_type": "stream",
     "text": [
      "2025-08-09 15:49:35,233 - DEBUG - cmd: where.exe tbb.dll\n",
      "cwd: None\n",
      "2025-08-09 15:49:35,610 - DEBUG - TBB already found in load path\n",
      "2025-08-09 15:49:35,620 - INFO - Disabling yearly seasonality. Run prophet with yearly_seasonality=True to override this.\n",
      "2025-08-09 15:49:35,623 - INFO - Disabling weekly seasonality. Run prophet with weekly_seasonality=True to override this.\n",
      "2025-08-09 15:49:35,625 - INFO - Disabling daily seasonality. Run prophet with daily_seasonality=True to override this.\n",
      "2025-08-09 15:49:35,659 - INFO - n_changepoints greater than number of observations. Using 18.\n",
      "2025-08-09 15:49:35,672 - DEBUG - input tempfile: C:\\Users\\joey_\\AppData\\Local\\Temp\\tmp9m1vbk43\\ss95pbjq.json\n",
      "2025-08-09 15:49:35,683 - DEBUG - input tempfile: C:\\Users\\joey_\\AppData\\Local\\Temp\\tmp9m1vbk43\\86uff2c8.json\n",
      "2025-08-09 15:49:35,694 - DEBUG - idx 0\n",
      "2025-08-09 15:49:35,697 - DEBUG - running CmdStan, num_threads: None\n",
      "2025-08-09 15:49:35,700 - DEBUG - CmdStan args: ['C:\\\\Users\\\\joey_\\\\AppData\\\\Local\\\\Programs\\\\Python\\\\Maestro_Yoda\\\\Lib\\\\site-packages\\\\prophet\\\\stan_model\\\\prophet_model.bin', 'random', 'seed=63447', 'data', 'file=C:\\\\Users\\\\joey_\\\\AppData\\\\Local\\\\Temp\\\\tmp9m1vbk43\\\\ss95pbjq.json', 'init=C:\\\\Users\\\\joey_\\\\AppData\\\\Local\\\\Temp\\\\tmp9m1vbk43\\\\86uff2c8.json', 'output', 'file=C:\\\\Users\\\\joey_\\\\AppData\\\\Local\\\\Temp\\\\tmp9m1vbk43\\\\prophet_modeljcb56hpl\\\\prophet_model-20250809154935.csv', 'method=optimize', 'algorithm=newton', 'iter=10000']\n",
      "15:49:35 - cmdstanpy - INFO - Chain [1] start processing\n",
      "2025-08-09 15:49:35,706 - INFO - Chain [1] start processing\n",
      "15:49:36 - cmdstanpy - INFO - Chain [1] done processing\n",
      "2025-08-09 15:49:36,037 - INFO - Chain [1] done processing\n",
      "2025-08-09 15:49:38,545 - WARNING - El mejor modelo actual (ARIMA) produce una predicción histórica de línea plana. Se seleccionará el siguiente mejor modelo.\n",
      "2025-08-09 15:49:38,853 - INFO - El mejor modelo FINAL para Sales es: Exponential Smoothing con RMSE de 51.74\n"
     ]
    },
    {
     "name": "stdout",
     "output_type": "stream",
     "text": [
      "Métricas de los modelos para Sales:\n",
      "                  Modelo       RMSE       MAPE\n",
      "0  Exponential Smoothing  51.742158   9.909054\n",
      "1                Prophet  52.606740  10.037457\n",
      "\n"
     ]
    }
   ],
   "source": [
    "def train_and_compare_models_with_cv(series, decomposition_type, consider_arima):\n",
    "    series_filled = series.fillna(series.mean()).interpolate(method='linear')\n",
    "    \n",
    "    min_train_size = 24\n",
    "    if len(series_filled) < min_train_size:\n",
    "        raise ValueError(f\"La serie tiene solo {len(series_filled)} puntos, se necesitan al menos {min_train_size} para el entrenamiento estacional.\")\n",
    "    \n",
    "    n_splits = len(series_filled) // 12 - 1 \n",
    "    if n_splits < 1:\n",
    "        n_splits = 1\n",
    "        \n",
    "    tscv = TimeSeriesSplit(n_splits=n_splits)\n",
    "    \n",
    "    all_arima_rmses, all_arima_mapes = [], []\n",
    "    all_es_rmses, all_es_mapes = [], []\n",
    "    all_prophet_rmses, all_prophet_mapes = [], []\n",
    "\n",
    "    for train_index, val_index in tscv.split(series_filled):\n",
    "        train_data = series_filled.iloc[train_index]\n",
    "        val_data = series_filled.iloc[val_index]\n",
    "        \n",
    "        if len(train_data) < min_train_size:\n",
    "            continue\n",
    "\n",
    "        # Modelo 1: ARIMA (Solo se entrena si se considera)\n",
    "        if consider_arima:\n",
    "            try:\n",
    "                arima_model = auto_arima(train_data, seasonal=False, stepwise=True, suppress_warnings=True, error_action='ignore')\n",
    "                arima_preds = arima_model.predict(n_periods=len(val_data))\n",
    "                all_arima_rmses.append(np.sqrt(mean_squared_error(val_data, arima_preds)))\n",
    "                all_arima_mapes.append(mean_absolute_percentage_error(val_data, arima_preds))\n",
    "            except Exception as e:\n",
    "                logging.error(f\"Error al entrenar ARIMA: {e}\")\n",
    "                all_arima_rmses.append(np.inf)\n",
    "                all_arima_mapes.append(np.inf)\n",
    "        else:\n",
    "            all_arima_rmses.append(np.inf)\n",
    "            all_arima_mapes.append(np.inf)\n",
    "\n",
    "        # Modelo 2: Exponential Smoothing\n",
    "        try:\n",
    "            es_model = ExponentialSmoothing(train_data, trend='add', seasonal=decomposition_type, seasonal_periods=12).fit()\n",
    "            es_preds = es_model.predict(start=val_data.index[0], end=val_data.index[-1])\n",
    "            all_es_rmses.append(np.sqrt(mean_squared_error(val_data, es_preds)))\n",
    "            all_es_mapes.append(mean_absolute_percentage_error(val_data, es_preds))\n",
    "        except Exception as e:\n",
    "            logging.error(f\"Error al entrenar Exponential Smoothing: {e}\")\n",
    "            all_es_rmses.append(np.inf)\n",
    "            all_es_mapes.append(np.inf)\n",
    "\n",
    "        # Modelo 3: Prophet\n",
    "        try:\n",
    "            prophet_df_train = train_data.reset_index().rename(columns={'index': 'ds', 'y': 'y'})\n",
    "            prophet_model = Prophet(seasonality_mode=decomposition_type)\n",
    "            # Ajustar seasonality biweekly a 26 periodos (6 meses bi-semanalmente)\n",
    "            prophet_model.add_seasonality(name='biweekly', period=26, fourier_order=5)\n",
    "            prophet_model.fit(prophet_df_train)\n",
    "            \n",
    "            future = prophet_model.make_future_dataframe(periods=len(val_data), freq='2W')\n",
    "            prophet_preds_df = prophet_model.predict(future)\n",
    "            prophet_preds = prophet_preds_df['yhat'].iloc[-len(val_data):]\n",
    "            all_prophet_rmses.append(np.sqrt(mean_squared_error(val_data, prophet_preds)))\n",
    "            all_prophet_mapes.append(mean_absolute_percentage_error(val_data, prophet_preds))\n",
    "        except Exception as e:\n",
    "            logging.error(f\"Error al entrenar Prophet: {e}\")\n",
    "            all_prophet_rmses.append(np.inf)\n",
    "            all_prophet_mapes.append(np.inf)\n",
    "    \n",
    "    avg_arima_rmse = np.mean(all_arima_rmses) if all_arima_rmses else np.inf\n",
    "    avg_arima_mape = np.mean(all_arima_mapes) if all_arima_mapes else np.inf\n",
    "    avg_es_rmse = np.mean(all_es_rmses) if all_es_rmses else np.inf\n",
    "    avg_es_mape = np.mean(all_es_mapes) if all_es_mapes else np.inf\n",
    "    avg_prophet_rmse = np.mean(all_prophet_rmses) if all_prophet_rmses else np.inf\n",
    "    avg_prophet_mape = np.mean(all_prophet_mapes) if all_prophet_mapes else np.inf\n",
    "\n",
    "    metrics = pd.DataFrame({\n",
    "        'Modelo': ['ARIMA', 'Exponential Smoothing', 'Prophet'],\n",
    "        'RMSE': [avg_arima_rmse, avg_es_rmse, avg_prophet_rmse],\n",
    "        'MAPE': [avg_arima_mape * 100, avg_es_mape * 100, avg_prophet_mape * 100]\n",
    "    }).sort_values('RMSE')\n",
    "\n",
    "    best_model_name = metrics.iloc[0]['Modelo']\n",
    "    best_model = None\n",
    "\n",
    "    series_filled_final = series.fillna(series.mean()).interpolate(method='linear')\n",
    "    if best_model_name == 'ARIMA':\n",
    "        best_model = auto_arima(series_filled_final, seasonal=False, stepwise=True, suppress_warnings=True, error_action='ignore')\n",
    "    elif best_model_name == 'Exponential Smoothing':\n",
    "        best_model = ExponentialSmoothing(series_filled_final, trend='add', seasonal=decomposition_type, seasonal_periods=12).fit()\n",
    "    elif best_model_name == 'Prophet':\n",
    "        prophet_df_all = series_filled_final.reset_index().rename(columns={'index': 'ds', 'y': 'y'})\n",
    "        best_model = Prophet(seasonality_mode=decomposition_type)\n",
    "        best_model.add_seasonality(name='biweekly', period=26, fourier_order=5)\n",
    "        best_model.fit(prophet_df_all)\n",
    "    \n",
    "    return best_model, best_model_name, metrics\n",
    "\n",
    "\n",
    "\n",
    "# Lógica principal del script (Líneas corregidas)\n",
    "all_metrics = {}\n",
    "all_forecasts = {}\n",
    "n_periods_forecast = 12 \n",
    "\n",
    "for dept in df_all_data['department'].unique():\n",
    "    logging.info(f\"Iniciando análisis para el departamento: {dept}\")\n",
    "    dept_data = df_all_data[df_all_data['department'] == dept].set_index('ds')['y']\n",
    "    \n",
    "\n",
    "    decomposition_type, consider_arima = select_decomposition_type(dept_data)\n",
    "    \n",
    "    best_model, best_model_name, metrics = train_and_compare_models_with_cv(dept_data, decomposition_type, consider_arima)\n",
    "    \n",
    "    # ---- LÓGICA DE VERIFICACIÓN DE LÍNEA PLANA ----\n",
    "    series_filled_final = dept_data.fillna(dept_data.mean()).interpolate(method='linear')\n",
    "    \n",
    "    historical_pred_check = None\n",
    "    if best_model_name == 'ARIMA':\n",
    "        historical_pred_check = best_model.predict_in_sample()\n",
    "    elif best_model_name == 'Exponential Smoothing':\n",
    "        historical_pred_check = pd.Series(best_model.fittedvalues, index=dept_data.index)\n",
    "    elif best_model_name == 'Prophet':\n",
    "        prophet_df_all = series_filled_final.reset_index().rename(columns={'index': 'ds', 'y': 'y'})\n",
    "        future = best_model.make_future_dataframe(periods=n_periods_forecast, freq='2W', include_history=False)  # Solo futuro\n",
    "        forecast_df = best_model.predict(future)\n",
    "        historical_pred_check = forecast_df.set_index('ds')['yhat'].reindex(dept_data.index, method='ffill')  # Alinear con históricos\n",
    "\n",
    "    if historical_pred_check is not None and np.std(historical_pred_check) < 0.1:\n",
    "        logging.warning(f\"El mejor modelo actual ({best_model_name}) produce una predicción histórica de línea plana. Se seleccionará el siguiente mejor modelo.\")\n",
    "        \n",
    "        second_best_model_name = metrics.iloc[1]['Modelo']\n",
    "        metrics = metrics.iloc[1:].reset_index(drop=True)\n",
    "        best_model_name = second_best_model_name\n",
    "        \n",
    "        if best_model_name == 'ARIMA':\n",
    "            best_model = auto_arima(series_filled_final, seasonal=False, stepwise=True, suppress_warnings=True, error_action='ignore')\n",
    "        elif best_model_name == 'Exponential Smoothing':\n",
    "            best_model = ExponentialSmoothing(series_filled_final, trend='add', seasonal=decomposition_type, seasonal_periods=12).fit()\n",
    "        elif best_model_name == 'Prophet':\n",
    "            prophet_df_all = series_filled_final.reset_index().rename(columns={'index': 'ds', 'y': 'y'})\n",
    "            best_model = Prophet(seasonality_mode=decomposition_type)\n",
    "            best_model.add_seasonality(name='biweekly', period=26, fourier_order=5)\n",
    "            best_model.fit(prophet_df_all)\n",
    "            \n",
    "    # ---- FIN DE LA LÓGICA DE VERIFICACIÓN ----\n",
    "\n",
    "    all_metrics[dept] = metrics\n",
    "    \n",
    "    logging.info(f\"El mejor modelo FINAL para {dept} es: {best_model_name} con RMSE de {metrics.iloc[0]['RMSE']:.2f}\")\n",
    "    print(f\"Métricas de los modelos para {dept}:\\n{metrics}\\n\")\n",
    "    \n",
    "    # Generar predicciones para el periodo histórico + futuro\n",
    "    if best_model_name == 'ARIMA':\n",
    "        forecast_historical = best_model.predict_in_sample()\n",
    "        forecast_future = best_model.predict(n_periods=n_periods_forecast)\n",
    "        \n",
    "        forecast_combined = pd.concat([forecast_historical, forecast_future])\n",
    "        forecast_combined.name = 'yhat'\n",
    "\n",
    "        future_index = pd.date_range(start=dept_data.index[-1] + pd.Timedelta(days=1), periods=n_periods_forecast, freq='2W')\n",
    "        forecast_df_final = pd.DataFrame(forecast_combined.iloc[-n_periods_forecast:].values, index=future_index, columns=['yhat'])\n",
    "        forecast_df_final['yhat_lower'] = forecast_df_final['yhat'] - (forecast_df_final['yhat'] * 0.1)\n",
    "        forecast_df_final['yhat_upper'] = forecast_df_final['yhat'] + (forecast_df_final['yhat'] * 0.1)\n",
    "\n",
    "        historical_pred_df = pd.DataFrame(forecast_combined.iloc[:len(dept_data)].values, index=dept_data.index, columns=['yhat'])\n",
    "        historical_pred_df['yhat_lower'] = historical_pred_df['yhat'] - (historical_pred_df['yhat'] * 0.1)\n",
    "        historical_pred_df['yhat_upper'] = historical_pred_df['yhat'] + (historical_pred_df['yhat'] * 0.1)\n",
    "\n",
    "    elif best_model_name == 'Exponential Smoothing':\n",
    "        forecast_historical = pd.Series(best_model.fittedvalues, index=dept_data.index)\n",
    "        forecast_future = best_model.forecast(steps=n_periods_forecast)\n",
    "        \n",
    "        # Asegurar que las fechas futuras se asignen como columna 'ds'\n",
    "        future_index = pd.date_range(start=dept_data.index[-1] + pd.Timedelta(days=1), periods=n_periods_forecast, freq='2W')\n",
    "        forecast_df_final = pd.DataFrame({\n",
    "            'ds': future_index,\n",
    "            'yhat': forecast_future.values\n",
    "        })\n",
    "        forecast_df_final['yhat_lower'] = forecast_df_final['yhat'] - (forecast_df_final['yhat'] * 0.1)\n",
    "        forecast_df_final['yhat_upper'] = forecast_df_final['yhat'] + (forecast_df_final['yhat'] * 0.1)\n",
    "        \n",
    "        historical_pred_df = pd.DataFrame(forecast_historical, columns=['yhat'])\n",
    "        historical_pred_df['yhat_lower'] = historical_pred_df['yhat'] - (historical_pred_df['yhat'] * 0.1)\n",
    "        historical_pred_df['yhat_upper'] = historical_pred_df['yhat'] + (historical_pred_df['yhat'] * 0.1)\n",
    "\n",
    "    elif best_model_name == 'Prophet':\n",
    "        prophet_df_all = dept_data.reset_index().rename(columns={'index': 'ds', 'y': 'y'})\n",
    "        # Generar solo las fechas futuras a partir del día siguiente\n",
    "        last_date = dept_data.index[-1]\n",
    "        future_dates = pd.date_range(start=last_date + pd.Timedelta(days=1), periods=n_periods_forecast, freq='2W')\n",
    "        future_df = pd.DataFrame({'ds': future_dates})\n",
    "        forecast_df = best_model.predict(future_df)\n",
    "        forecast_df_final = forecast_df.set_index('ds')[['yhat', 'yhat_lower', 'yhat_upper']]\n",
    "        \n",
    "        # Generar predicciones históricas\n",
    "        future_all = best_model.make_future_dataframe(periods=len(dept_data) + n_periods_forecast, freq='2W', include_history=True)\n",
    "        forecast_all = best_model.predict(future_all)\n",
    "        historical_pred_df = forecast_all.iloc[:len(dept_data)].set_index('ds')[['yhat', 'yhat_lower', 'yhat_upper']]\n",
    "\n",
    "    all_forecasts[dept] = {'future': forecast_df_final, 'historical_pred': historical_pred_df}"
   ]
  },
  {
   "cell_type": "markdown",
   "id": "new_forecasting",
   "metadata": {},
   "source": [
    "## 5. Generar Predicciones\n",
    "\n",
    "Generamos predicciones para las próximas 12 quincenas con intervalos de confianza, utilizando el mejor modelo seleccionado para cada departamento."
   ]
  },
  {
   "cell_type": "code",
   "execution_count": 5,
   "id": "new_forecasting_code",
   "metadata": {},
   "outputs": [
    {
     "name": "stderr",
     "output_type": "stream",
     "text": [
      "2025-08-09 15:49:38,949 - INFO - Columnas disponibles en df_all_data para Finance: ['department', 'ds', 'y']\n",
      "2025-08-09 15:49:38,964 - WARNING - future_forecast para Finance comienza en 2025-05-11 00:00:00 cuando debería ser después de 2025-05-04 00:00:00\n",
      "2025-08-09 15:49:38,974 - INFO - Rango de fechas en future_data para Finance: 2025-05-11 00:00:00 a 2025-10-12 00:00:00\n"
     ]
    },
    {
     "data": {
      "application/vnd.plotly.v1+json": {
       "config": {
        "plotlyServerURL": "https://plot.ly"
       },
       "data": [
        {
         "line": {
          "color": "blue"
         },
         "mode": "lines",
         "name": "Histórico Real",
         "type": "scatter",
         "x": [
          "2023-12-31T00:00:00.000000000",
          "2024-01-14T00:00:00.000000000",
          "2024-01-28T00:00:00.000000000",
          "2024-02-11T00:00:00.000000000",
          "2024-02-25T00:00:00.000000000",
          "2024-03-10T00:00:00.000000000",
          "2024-03-24T00:00:00.000000000",
          "2024-04-07T00:00:00.000000000",
          "2024-04-21T00:00:00.000000000",
          "2024-05-05T00:00:00.000000000",
          "2024-05-19T00:00:00.000000000",
          "2024-06-02T00:00:00.000000000",
          "2024-06-16T00:00:00.000000000",
          "2024-06-30T00:00:00.000000000",
          "2024-07-14T00:00:00.000000000",
          "2024-07-28T00:00:00.000000000",
          "2024-08-11T00:00:00.000000000",
          "2024-08-25T00:00:00.000000000",
          "2024-09-08T00:00:00.000000000",
          "2024-09-22T00:00:00.000000000",
          "2024-10-06T00:00:00.000000000",
          "2024-10-20T00:00:00.000000000",
          "2024-11-03T00:00:00.000000000",
          "2024-11-17T00:00:00.000000000",
          "2024-12-01T00:00:00.000000000",
          "2024-12-15T00:00:00.000000000",
          "2024-12-29T00:00:00.000000000",
          "2025-01-12T00:00:00.000000000",
          "2025-01-26T00:00:00.000000000",
          "2025-02-09T00:00:00.000000000",
          "2025-02-23T00:00:00.000000000",
          "2025-03-09T00:00:00.000000000",
          "2025-03-23T00:00:00.000000000",
          "2025-04-06T00:00:00.000000000",
          "2025-04-20T00:00:00.000000000",
          "2025-05-04T00:00:00.000000000"
         ],
         "y": {
          "bdata": "AAAAAAAA+H9cj8L1KGBwQLgehetR2HJApHA9CtdncUCQwvUoXFdxQM3MzMzMHHNA16NwPQoDcEAAAAAAAIh0QJDC9Shcb3JA7FG4HoVfckCF61G4Hj11QIXrUbgedXRAzMzMzMysc0AUrkfheuRyQIXrUbgeDXJAFK5H4Xr0c0BwPQrXo6R0QAAAAAAAiHFACtejcD3qb0D2KFyPwg1vQKRwPQrXw3JAKVyPwvUwcUBcj8L1KMx0QNejcD0K53FAwvUoXI8GdUAUrkfhejx0QGZmZmZmcnNAhetRuB75c0BwPQrXo9hxQD4K16Nw5XFAAAAAAABYcEDXo3A9Cu9xQGZmZmZmwnJA16NwPQpHckCkcD0K1690QKRwPQrXr3RA",
          "dtype": "f8"
         }
        },
        {
         "line": {
          "color": "orange",
          "dash": "dash"
         },
         "mode": "lines",
         "name": "Predicción Histórica",
         "type": "scatter",
         "x": [
          "2023-12-31T00:00:00.000000000",
          "2024-01-14T00:00:00.000000000",
          "2024-01-28T00:00:00.000000000",
          "2024-02-11T00:00:00.000000000",
          "2024-02-25T00:00:00.000000000",
          "2024-03-10T00:00:00.000000000",
          "2024-03-24T00:00:00.000000000",
          "2024-04-07T00:00:00.000000000",
          "2024-04-21T00:00:00.000000000",
          "2024-05-05T00:00:00.000000000",
          "2024-05-19T00:00:00.000000000",
          "2024-06-02T00:00:00.000000000",
          "2024-06-16T00:00:00.000000000",
          "2024-06-30T00:00:00.000000000",
          "2024-07-14T00:00:00.000000000",
          "2024-07-28T00:00:00.000000000",
          "2024-08-11T00:00:00.000000000",
          "2024-08-25T00:00:00.000000000",
          "2024-09-08T00:00:00.000000000",
          "2024-09-22T00:00:00.000000000",
          "2024-10-06T00:00:00.000000000",
          "2024-10-20T00:00:00.000000000",
          "2024-11-03T00:00:00.000000000",
          "2024-11-17T00:00:00.000000000",
          "2024-12-01T00:00:00.000000000",
          "2024-12-15T00:00:00.000000000",
          "2024-12-29T00:00:00.000000000",
          "2025-01-12T00:00:00.000000000",
          "2025-01-26T00:00:00.000000000",
          "2025-02-09T00:00:00.000000000",
          "2025-02-23T00:00:00.000000000",
          "2025-03-09T00:00:00.000000000",
          "2025-03-23T00:00:00.000000000",
          "2025-04-06T00:00:00.000000000",
          "2025-04-20T00:00:00.000000000",
          "2025-05-04T00:00:00.000000000"
         ],
         "y": {
          "bdata": "7WTqWUKDc0ARQ2kYmz5yQFfEJGYogXJAKaNqcfTWckC/L3XqIFZyQEZR9juY53FAkXhXLC68b0BgfYqs+rdxQBe+AsUSYXJARgalTZ6ucUDKzfDp1ph0QKG0vhXQZHNAZ5eLhSfOc0CHEo/Ji4RyQCiLC5YByHJANc2eIv8ec0BZK5WrKJxyQAZmABvkK3JA3BOKfYoacEBwCyMOZvtxQKvTmmbrpnJA8wQGgLvxcUCQVkzD6+Z0QIJmFgk+rnNAbeC2rwwZdEAshm15fMpyQOenWsTaDnNAOerC0glnc0BsOA9rMOJyQMhW8vYvcHJAEoeZ4v1WcECXCkht0T5yQDQolAfE7HJAjtS5sdg0ckDhRIecADV1QGxVY/yr93NA",
          "dtype": "f8"
         }
        },
        {
         "line": {
          "color": "red",
          "dash": "dot"
         },
         "mode": "lines",
         "name": "Pronóstico Futuro",
         "type": "scatter",
         "x": [
          "2025-05-11T00:00:00.000000000",
          "2025-05-25T00:00:00.000000000",
          "2025-06-08T00:00:00.000000000",
          "2025-06-22T00:00:00.000000000",
          "2025-07-06T00:00:00.000000000",
          "2025-07-20T00:00:00.000000000",
          "2025-08-03T00:00:00.000000000",
          "2025-08-17T00:00:00.000000000",
          "2025-08-31T00:00:00.000000000",
          "2025-09-14T00:00:00.000000000",
          "2025-09-28T00:00:00.000000000",
          "2025-10-12T00:00:00.000000000"
         ],
         "y": {
          "bdata": "9rkz2/FjdECehRAqbRBzQCPDzfKzVXNAT4KpghSvc0BiWToqOChzQGWyl9N7tHJAPOxgSHGTcEAuMS/NPIJyQFIr3aicMnNAA4LV4/V3ckBVY/h1FYN1QJ+MG/AZQXRA",
          "dtype": "f8"
         }
        },
        {
         "fill": "toself",
         "fillcolor": "rgba(255,0,0,0.1)",
         "hoverinfo": "skip",
         "line": {
          "color": "rgba(255,255,255,0)"
         },
         "name": "Intervalo de Confianza",
         "showlegend": false,
         "type": "scatter",
         "x": [
          "2025-05-11T00:00:00",
          "2025-05-25T00:00:00",
          "2025-06-08T00:00:00",
          "2025-06-22T00:00:00",
          "2025-07-06T00:00:00",
          "2025-07-20T00:00:00",
          "2025-08-03T00:00:00",
          "2025-08-17T00:00:00",
          "2025-08-31T00:00:00",
          "2025-09-14T00:00:00",
          "2025-09-28T00:00:00",
          "2025-10-12T00:00:00",
          "2025-10-12T00:00:00",
          "2025-09-28T00:00:00",
          "2025-09-14T00:00:00",
          "2025-08-31T00:00:00",
          "2025-08-17T00:00:00",
          "2025-08-03T00:00:00",
          "2025-07-20T00:00:00",
          "2025-07-06T00:00:00",
          "2025-06-22T00:00:00",
          "2025-06-08T00:00:00",
          "2025-05-25T00:00:00",
          "2025-05-11T00:00:00"
         ],
         "y": [
          358.8712016317958,
          335.52931658839486,
          340.29207600034204,
          346.4367581637946,
          337.1650833613577,
          329.20825419599765,
          291.73667260786544,
          325.7538285281931,
          337.87957167657515,
          325.0472849058309,
          378.61201340417125,
          356.4757157500991,
          291.6619492500811,
          309.7734655125037,
          265.94777855931625,
          276.44692228083426,
          266.52585970488525,
          238.69364122461718,
          269.3522079785435,
          275.86234093201995,
          283.4482566794683,
          278.42078945482535,
          274.5239862995958,
          293.62189224419654
         ]
        }
       ],
       "layout": {
        "legend": {
         "orientation": "h",
         "x": 0.5,
         "xanchor": "center",
         "y": 1.02,
         "yanchor": "bottom"
        },
        "template": {
         "data": {
          "bar": [
           {
            "error_x": {
             "color": "#2a3f5f"
            },
            "error_y": {
             "color": "#2a3f5f"
            },
            "marker": {
             "line": {
              "color": "white",
              "width": 0.5
             },
             "pattern": {
              "fillmode": "overlay",
              "size": 10,
              "solidity": 0.2
             }
            },
            "type": "bar"
           }
          ],
          "barpolar": [
           {
            "marker": {
             "line": {
              "color": "white",
              "width": 0.5
             },
             "pattern": {
              "fillmode": "overlay",
              "size": 10,
              "solidity": 0.2
             }
            },
            "type": "barpolar"
           }
          ],
          "carpet": [
           {
            "aaxis": {
             "endlinecolor": "#2a3f5f",
             "gridcolor": "#C8D4E3",
             "linecolor": "#C8D4E3",
             "minorgridcolor": "#C8D4E3",
             "startlinecolor": "#2a3f5f"
            },
            "baxis": {
             "endlinecolor": "#2a3f5f",
             "gridcolor": "#C8D4E3",
             "linecolor": "#C8D4E3",
             "minorgridcolor": "#C8D4E3",
             "startlinecolor": "#2a3f5f"
            },
            "type": "carpet"
           }
          ],
          "choropleth": [
           {
            "colorbar": {
             "outlinewidth": 0,
             "ticks": ""
            },
            "type": "choropleth"
           }
          ],
          "contour": [
           {
            "colorbar": {
             "outlinewidth": 0,
             "ticks": ""
            },
            "colorscale": [
             [
              0,
              "#0d0887"
             ],
             [
              0.1111111111111111,
              "#46039f"
             ],
             [
              0.2222222222222222,
              "#7201a8"
             ],
             [
              0.3333333333333333,
              "#9c179e"
             ],
             [
              0.4444444444444444,
              "#bd3786"
             ],
             [
              0.5555555555555556,
              "#d8576b"
             ],
             [
              0.6666666666666666,
              "#ed7953"
             ],
             [
              0.7777777777777778,
              "#fb9f3a"
             ],
             [
              0.8888888888888888,
              "#fdca26"
             ],
             [
              1,
              "#f0f921"
             ]
            ],
            "type": "contour"
           }
          ],
          "contourcarpet": [
           {
            "colorbar": {
             "outlinewidth": 0,
             "ticks": ""
            },
            "type": "contourcarpet"
           }
          ],
          "heatmap": [
           {
            "colorbar": {
             "outlinewidth": 0,
             "ticks": ""
            },
            "colorscale": [
             [
              0,
              "#0d0887"
             ],
             [
              0.1111111111111111,
              "#46039f"
             ],
             [
              0.2222222222222222,
              "#7201a8"
             ],
             [
              0.3333333333333333,
              "#9c179e"
             ],
             [
              0.4444444444444444,
              "#bd3786"
             ],
             [
              0.5555555555555556,
              "#d8576b"
             ],
             [
              0.6666666666666666,
              "#ed7953"
             ],
             [
              0.7777777777777778,
              "#fb9f3a"
             ],
             [
              0.8888888888888888,
              "#fdca26"
             ],
             [
              1,
              "#f0f921"
             ]
            ],
            "type": "heatmap"
           }
          ],
          "histogram": [
           {
            "marker": {
             "pattern": {
              "fillmode": "overlay",
              "size": 10,
              "solidity": 0.2
             }
            },
            "type": "histogram"
           }
          ],
          "histogram2d": [
           {
            "colorbar": {
             "outlinewidth": 0,
             "ticks": ""
            },
            "colorscale": [
             [
              0,
              "#0d0887"
             ],
             [
              0.1111111111111111,
              "#46039f"
             ],
             [
              0.2222222222222222,
              "#7201a8"
             ],
             [
              0.3333333333333333,
              "#9c179e"
             ],
             [
              0.4444444444444444,
              "#bd3786"
             ],
             [
              0.5555555555555556,
              "#d8576b"
             ],
             [
              0.6666666666666666,
              "#ed7953"
             ],
             [
              0.7777777777777778,
              "#fb9f3a"
             ],
             [
              0.8888888888888888,
              "#fdca26"
             ],
             [
              1,
              "#f0f921"
             ]
            ],
            "type": "histogram2d"
           }
          ],
          "histogram2dcontour": [
           {
            "colorbar": {
             "outlinewidth": 0,
             "ticks": ""
            },
            "colorscale": [
             [
              0,
              "#0d0887"
             ],
             [
              0.1111111111111111,
              "#46039f"
             ],
             [
              0.2222222222222222,
              "#7201a8"
             ],
             [
              0.3333333333333333,
              "#9c179e"
             ],
             [
              0.4444444444444444,
              "#bd3786"
             ],
             [
              0.5555555555555556,
              "#d8576b"
             ],
             [
              0.6666666666666666,
              "#ed7953"
             ],
             [
              0.7777777777777778,
              "#fb9f3a"
             ],
             [
              0.8888888888888888,
              "#fdca26"
             ],
             [
              1,
              "#f0f921"
             ]
            ],
            "type": "histogram2dcontour"
           }
          ],
          "mesh3d": [
           {
            "colorbar": {
             "outlinewidth": 0,
             "ticks": ""
            },
            "type": "mesh3d"
           }
          ],
          "parcoords": [
           {
            "line": {
             "colorbar": {
              "outlinewidth": 0,
              "ticks": ""
             }
            },
            "type": "parcoords"
           }
          ],
          "pie": [
           {
            "automargin": true,
            "type": "pie"
           }
          ],
          "scatter": [
           {
            "fillpattern": {
             "fillmode": "overlay",
             "size": 10,
             "solidity": 0.2
            },
            "type": "scatter"
           }
          ],
          "scatter3d": [
           {
            "line": {
             "colorbar": {
              "outlinewidth": 0,
              "ticks": ""
             }
            },
            "marker": {
             "colorbar": {
              "outlinewidth": 0,
              "ticks": ""
             }
            },
            "type": "scatter3d"
           }
          ],
          "scattercarpet": [
           {
            "marker": {
             "colorbar": {
              "outlinewidth": 0,
              "ticks": ""
             }
            },
            "type": "scattercarpet"
           }
          ],
          "scattergeo": [
           {
            "marker": {
             "colorbar": {
              "outlinewidth": 0,
              "ticks": ""
             }
            },
            "type": "scattergeo"
           }
          ],
          "scattergl": [
           {
            "marker": {
             "colorbar": {
              "outlinewidth": 0,
              "ticks": ""
             }
            },
            "type": "scattergl"
           }
          ],
          "scattermap": [
           {
            "marker": {
             "colorbar": {
              "outlinewidth": 0,
              "ticks": ""
             }
            },
            "type": "scattermap"
           }
          ],
          "scattermapbox": [
           {
            "marker": {
             "colorbar": {
              "outlinewidth": 0,
              "ticks": ""
             }
            },
            "type": "scattermapbox"
           }
          ],
          "scatterpolar": [
           {
            "marker": {
             "colorbar": {
              "outlinewidth": 0,
              "ticks": ""
             }
            },
            "type": "scatterpolar"
           }
          ],
          "scatterpolargl": [
           {
            "marker": {
             "colorbar": {
              "outlinewidth": 0,
              "ticks": ""
             }
            },
            "type": "scatterpolargl"
           }
          ],
          "scatterternary": [
           {
            "marker": {
             "colorbar": {
              "outlinewidth": 0,
              "ticks": ""
             }
            },
            "type": "scatterternary"
           }
          ],
          "surface": [
           {
            "colorbar": {
             "outlinewidth": 0,
             "ticks": ""
            },
            "colorscale": [
             [
              0,
              "#0d0887"
             ],
             [
              0.1111111111111111,
              "#46039f"
             ],
             [
              0.2222222222222222,
              "#7201a8"
             ],
             [
              0.3333333333333333,
              "#9c179e"
             ],
             [
              0.4444444444444444,
              "#bd3786"
             ],
             [
              0.5555555555555556,
              "#d8576b"
             ],
             [
              0.6666666666666666,
              "#ed7953"
             ],
             [
              0.7777777777777778,
              "#fb9f3a"
             ],
             [
              0.8888888888888888,
              "#fdca26"
             ],
             [
              1,
              "#f0f921"
             ]
            ],
            "type": "surface"
           }
          ],
          "table": [
           {
            "cells": {
             "fill": {
              "color": "#EBF0F8"
             },
             "line": {
              "color": "white"
             }
            },
            "header": {
             "fill": {
              "color": "#C8D4E3"
             },
             "line": {
              "color": "white"
             }
            },
            "type": "table"
           }
          ]
         },
         "layout": {
          "annotationdefaults": {
           "arrowcolor": "#2a3f5f",
           "arrowhead": 0,
           "arrowwidth": 1
          },
          "autotypenumbers": "strict",
          "coloraxis": {
           "colorbar": {
            "outlinewidth": 0,
            "ticks": ""
           }
          },
          "colorscale": {
           "diverging": [
            [
             0,
             "#8e0152"
            ],
            [
             0.1,
             "#c51b7d"
            ],
            [
             0.2,
             "#de77ae"
            ],
            [
             0.3,
             "#f1b6da"
            ],
            [
             0.4,
             "#fde0ef"
            ],
            [
             0.5,
             "#f7f7f7"
            ],
            [
             0.6,
             "#e6f5d0"
            ],
            [
             0.7,
             "#b8e186"
            ],
            [
             0.8,
             "#7fbc41"
            ],
            [
             0.9,
             "#4d9221"
            ],
            [
             1,
             "#276419"
            ]
           ],
           "sequential": [
            [
             0,
             "#0d0887"
            ],
            [
             0.1111111111111111,
             "#46039f"
            ],
            [
             0.2222222222222222,
             "#7201a8"
            ],
            [
             0.3333333333333333,
             "#9c179e"
            ],
            [
             0.4444444444444444,
             "#bd3786"
            ],
            [
             0.5555555555555556,
             "#d8576b"
            ],
            [
             0.6666666666666666,
             "#ed7953"
            ],
            [
             0.7777777777777778,
             "#fb9f3a"
            ],
            [
             0.8888888888888888,
             "#fdca26"
            ],
            [
             1,
             "#f0f921"
            ]
           ],
           "sequentialminus": [
            [
             0,
             "#0d0887"
            ],
            [
             0.1111111111111111,
             "#46039f"
            ],
            [
             0.2222222222222222,
             "#7201a8"
            ],
            [
             0.3333333333333333,
             "#9c179e"
            ],
            [
             0.4444444444444444,
             "#bd3786"
            ],
            [
             0.5555555555555556,
             "#d8576b"
            ],
            [
             0.6666666666666666,
             "#ed7953"
            ],
            [
             0.7777777777777778,
             "#fb9f3a"
            ],
            [
             0.8888888888888888,
             "#fdca26"
            ],
            [
             1,
             "#f0f921"
            ]
           ]
          },
          "colorway": [
           "#636efa",
           "#EF553B",
           "#00cc96",
           "#ab63fa",
           "#FFA15A",
           "#19d3f3",
           "#FF6692",
           "#B6E880",
           "#FF97FF",
           "#FECB52"
          ],
          "font": {
           "color": "#2a3f5f"
          },
          "geo": {
           "bgcolor": "white",
           "lakecolor": "white",
           "landcolor": "white",
           "showlakes": true,
           "showland": true,
           "subunitcolor": "#C8D4E3"
          },
          "hoverlabel": {
           "align": "left"
          },
          "hovermode": "closest",
          "mapbox": {
           "style": "light"
          },
          "paper_bgcolor": "white",
          "plot_bgcolor": "white",
          "polar": {
           "angularaxis": {
            "gridcolor": "#EBF0F8",
            "linecolor": "#EBF0F8",
            "ticks": ""
           },
           "bgcolor": "white",
           "radialaxis": {
            "gridcolor": "#EBF0F8",
            "linecolor": "#EBF0F8",
            "ticks": ""
           }
          },
          "scene": {
           "xaxis": {
            "backgroundcolor": "white",
            "gridcolor": "#DFE8F3",
            "gridwidth": 2,
            "linecolor": "#EBF0F8",
            "showbackground": true,
            "ticks": "",
            "zerolinecolor": "#EBF0F8"
           },
           "yaxis": {
            "backgroundcolor": "white",
            "gridcolor": "#DFE8F3",
            "gridwidth": 2,
            "linecolor": "#EBF0F8",
            "showbackground": true,
            "ticks": "",
            "zerolinecolor": "#EBF0F8"
           },
           "zaxis": {
            "backgroundcolor": "white",
            "gridcolor": "#DFE8F3",
            "gridwidth": 2,
            "linecolor": "#EBF0F8",
            "showbackground": true,
            "ticks": "",
            "zerolinecolor": "#EBF0F8"
           }
          },
          "shapedefaults": {
           "line": {
            "color": "#2a3f5f"
           }
          },
          "ternary": {
           "aaxis": {
            "gridcolor": "#DFE8F3",
            "linecolor": "#A2B1C6",
            "ticks": ""
           },
           "baxis": {
            "gridcolor": "#DFE8F3",
            "linecolor": "#A2B1C6",
            "ticks": ""
           },
           "bgcolor": "white",
           "caxis": {
            "gridcolor": "#DFE8F3",
            "linecolor": "#A2B1C6",
            "ticks": ""
           }
          },
          "title": {
           "x": 0.05
          },
          "xaxis": {
           "automargin": true,
           "gridcolor": "#EBF0F8",
           "linecolor": "#EBF0F8",
           "ticks": "",
           "title": {
            "standoff": 15
           },
           "zerolinecolor": "#EBF0F8",
           "zerolinewidth": 2
          },
          "yaxis": {
           "automargin": true,
           "gridcolor": "#EBF0F8",
           "linecolor": "#EBF0F8",
           "ticks": "",
           "title": {
            "standoff": 15
           },
           "zerolinecolor": "#EBF0F8",
           "zerolinewidth": 2
          }
         }
        },
        "title": {
         "text": "Pronóstico y Ajuste de Horas Extra para Finance con Modelo Exponential Smoothing"
        },
        "xaxis": {
         "title": {
          "text": "Fecha"
         }
        },
        "yaxis": {
         "title": {
          "text": "Horas Extra"
         }
        }
       }
      }
     },
     "metadata": {},
     "output_type": "display_data"
    },
    {
     "name": "stderr",
     "output_type": "stream",
     "text": [
      "2025-08-09 15:49:44,221 - INFO - Columnas disponibles en df_all_data para HR: ['department', 'ds', 'y']\n",
      "2025-08-09 15:49:44,237 - INFO - Rango de fechas en future_data para HR: 2025-05-11 00:00:00 a 2025-10-12 00:00:00\n"
     ]
    },
    {
     "data": {
      "application/vnd.plotly.v1+json": {
       "config": {
        "plotlyServerURL": "https://plot.ly"
       },
       "data": [
        {
         "line": {
          "color": "blue"
         },
         "mode": "lines",
         "name": "Histórico Real",
         "type": "scatter",
         "x": [
          "2023-12-31T00:00:00.000000000",
          "2024-01-14T00:00:00.000000000",
          "2024-01-28T00:00:00.000000000",
          "2024-02-11T00:00:00.000000000",
          "2024-02-25T00:00:00.000000000",
          "2024-03-10T00:00:00.000000000",
          "2024-03-24T00:00:00.000000000",
          "2024-04-07T00:00:00.000000000",
          "2024-04-21T00:00:00.000000000",
          "2024-05-05T00:00:00.000000000",
          "2024-05-19T00:00:00.000000000",
          "2024-06-02T00:00:00.000000000",
          "2024-06-16T00:00:00.000000000",
          "2024-06-30T00:00:00.000000000",
          "2024-07-14T00:00:00.000000000",
          "2024-07-28T00:00:00.000000000",
          "2024-08-11T00:00:00.000000000",
          "2024-08-25T00:00:00.000000000",
          "2024-09-08T00:00:00.000000000",
          "2024-09-22T00:00:00.000000000",
          "2024-10-06T00:00:00.000000000",
          "2024-10-20T00:00:00.000000000",
          "2024-11-03T00:00:00.000000000",
          "2024-11-17T00:00:00.000000000",
          "2024-12-01T00:00:00.000000000",
          "2024-12-15T00:00:00.000000000",
          "2024-12-29T00:00:00.000000000",
          "2025-01-12T00:00:00.000000000",
          "2025-01-26T00:00:00.000000000",
          "2025-02-09T00:00:00.000000000",
          "2025-02-23T00:00:00.000000000",
          "2025-03-09T00:00:00.000000000",
          "2025-03-23T00:00:00.000000000",
          "2025-04-06T00:00:00.000000000",
          "2025-04-20T00:00:00.000000000",
          "2025-05-04T00:00:00.000000000"
         ],
         "y": {
          "bdata": "AAAAAAAA+H8+CtejcA11QKRwPQrXs3lAH4XrUbhmd0DiehSuR2F2QD4K16NwGXhAzczMzMyIeUDMzMzMzOB5QJqZmZmZQXhAj8L1KFzbe0C4HoXrURh4QPYoXI/CaXdAzczMzMzUe0A+CtejcOV1QK5H4XoUHnpAmpmZmZn1ekCkcD0K15t2QLgehetRcHdAZmZmZmZadUDsUbgehbN3QNejcD0Ki3pAUrgeheu1d0AK16NwPWp7QFK4HoXrbXdAexSuR+EKeUAUrkfhelx8QLgehetRWHdAuB6F61F8eUB7FK5H4WJ2QFyPwvUohHVAUrgehevdc0DsUbgehWN5QHA9CtejmHhAhetRuB4heEBmZmZmZmp5QGZmZmZmanlA",
          "dtype": "f8"
         }
        },
        {
         "line": {
          "color": "orange",
          "dash": "dash"
         },
         "mode": "lines",
         "name": "Predicción Histórica",
         "type": "scatter",
         "x": [
          "2023-12-31T00:00:00.000000000",
          "2024-01-14T00:00:00.000000000",
          "2024-01-28T00:00:00.000000000",
          "2024-02-11T00:00:00.000000000",
          "2024-02-25T00:00:00.000000000",
          "2024-03-10T00:00:00.000000000",
          "2024-03-24T00:00:00.000000000",
          "2024-04-07T00:00:00.000000000",
          "2024-04-21T00:00:00.000000000",
          "2024-05-05T00:00:00.000000000",
          "2024-05-19T00:00:00.000000000",
          "2024-06-02T00:00:00.000000000",
          "2024-06-16T00:00:00.000000000",
          "2024-06-30T00:00:00.000000000",
          "2024-07-14T00:00:00.000000000",
          "2024-07-28T00:00:00.000000000",
          "2024-08-11T00:00:00.000000000",
          "2024-08-25T00:00:00.000000000",
          "2024-09-08T00:00:00.000000000",
          "2024-09-22T00:00:00.000000000",
          "2024-10-06T00:00:00.000000000",
          "2024-10-20T00:00:00.000000000",
          "2024-11-03T00:00:00.000000000",
          "2024-11-17T00:00:00.000000000",
          "2024-12-01T00:00:00.000000000",
          "2024-12-15T00:00:00.000000000",
          "2024-12-29T00:00:00.000000000",
          "2025-01-12T00:00:00.000000000",
          "2025-01-26T00:00:00.000000000",
          "2025-02-09T00:00:00.000000000",
          "2025-02-23T00:00:00.000000000",
          "2025-03-09T00:00:00.000000000",
          "2025-03-23T00:00:00.000000000",
          "2025-04-06T00:00:00.000000000",
          "2025-04-20T00:00:00.000000000",
          "2025-05-04T00:00:00.000000000"
         ],
         "y": {
          "bdata": "C+g/e0W5d0CNaZWdFbp4QKvpiE/KIXlAz8QtnWt7dkCEzGwZUUV2QJayA+6FM3hAOMVyI3fceEDDhnqq23x5QCE7XUERsnhAfvAoE0qJe0CYxrHzVRR4QLMkoCkL7ndA8vTRNyj5e0AezSZ27nN3QM1gWLe/cXhAn+kzbjTYeEDkwp4YiTl2QF/S7l7+A3ZA7XROjnnsd0BmEsxBapN4QJIlLoPmMXlABDULAmBpeEALN0bOKTh7QMg0vMFUzXdAVp420mqnd0As/ZULhqZ7QDJof/SWLndAZCV9RGkpeEDGr84Ino54QJYIpSem93VAlhavQqvCdUCTl97ObKV3QGmBpQhdSnhAhNlRDfHmeEB2BmuBriB4QAtvo0wJ53pA",
          "dtype": "f8"
         }
        },
        {
         "line": {
          "color": "red",
          "dash": "dot"
         },
         "mode": "lines",
         "name": "Pronóstico Futuro",
         "type": "scatter",
         "x": [
          "2025-05-11T00:00:00.000000000",
          "2025-05-25T00:00:00.000000000",
          "2025-06-08T00:00:00.000000000",
          "2025-06-22T00:00:00.000000000",
          "2025-07-06T00:00:00.000000000",
          "2025-07-20T00:00:00.000000000",
          "2025-08-03T00:00:00.000000000",
          "2025-08-17T00:00:00.000000000",
          "2025-08-31T00:00:00.000000000",
          "2025-09-14T00:00:00.000000000",
          "2025-09-28T00:00:00.000000000",
          "2025-10-12T00:00:00.000000000"
         ],
         "y": {
          "bdata": "FLV1LDPZdkCCUcyR48h2QAr4UmidUnZAA285dRTkd0CiXjSmsPd4QMnTL6j2I3pAz/sOKRnLdkDE/fo7jYB5QCDekdL4mXlAk/u7pNkFdkCgvX+XLE56QC6gsvj5I3hA",
          "dtype": "f8"
         }
        },
        {
         "fill": "toself",
         "fillcolor": "rgba(255,0,0,0.1)",
         "hoverinfo": "skip",
         "line": {
          "color": "rgba(255,255,255,0)"
         },
         "name": "Intervalo de Confianza",
         "showlegend": false,
         "type": "scatter",
         "x": [
          "2025-05-11T00:00:00",
          "2025-05-25T00:00:00",
          "2025-06-08T00:00:00",
          "2025-06-22T00:00:00",
          "2025-07-06T00:00:00",
          "2025-07-20T00:00:00",
          "2025-08-03T00:00:00",
          "2025-08-17T00:00:00",
          "2025-08-31T00:00:00",
          "2025-09-14T00:00:00",
          "2025-09-28T00:00:00",
          "2025-10-12T00:00:00",
          "2025-10-12T00:00:00",
          "2025-09-28T00:00:00",
          "2025-09-14T00:00:00",
          "2025-08-31T00:00:00",
          "2025-08-17T00:00:00",
          "2025-08-03T00:00:00",
          "2025-07-20T00:00:00",
          "2025-07-06T00:00:00",
          "2025-06-22T00:00:00",
          "2025-06-08T00:00:00",
          "2025-05-25T00:00:00",
          "2025-05-11T00:00:00"
         ],
         "y": [
          393.1008715928475,
          391.11141228652474,
          381.0983709932622,
          408.1198671040742,
          427.3331113596744,
          444.9031431988012,
          388.8085185775009,
          435.6345216699594,
          437.1417546934256,
          377.50180801198985,
          445.41889008985896,
          410.3480586227865,
          360.98779570941207,
          393.7775776669185,
          328.66701179068895,
          383.3892541950856,
          381.7992145653642,
          339.10841530306914,
          393.81927291989797,
          371.81613581841816,
          353.8641267895262,
          332.1250673058742,
          340.98546487088754,
          340.09155418387525
         ]
        }
       ],
       "layout": {
        "legend": {
         "orientation": "h",
         "x": 0.5,
         "xanchor": "center",
         "y": 1.02,
         "yanchor": "bottom"
        },
        "template": {
         "data": {
          "bar": [
           {
            "error_x": {
             "color": "#2a3f5f"
            },
            "error_y": {
             "color": "#2a3f5f"
            },
            "marker": {
             "line": {
              "color": "white",
              "width": 0.5
             },
             "pattern": {
              "fillmode": "overlay",
              "size": 10,
              "solidity": 0.2
             }
            },
            "type": "bar"
           }
          ],
          "barpolar": [
           {
            "marker": {
             "line": {
              "color": "white",
              "width": 0.5
             },
             "pattern": {
              "fillmode": "overlay",
              "size": 10,
              "solidity": 0.2
             }
            },
            "type": "barpolar"
           }
          ],
          "carpet": [
           {
            "aaxis": {
             "endlinecolor": "#2a3f5f",
             "gridcolor": "#C8D4E3",
             "linecolor": "#C8D4E3",
             "minorgridcolor": "#C8D4E3",
             "startlinecolor": "#2a3f5f"
            },
            "baxis": {
             "endlinecolor": "#2a3f5f",
             "gridcolor": "#C8D4E3",
             "linecolor": "#C8D4E3",
             "minorgridcolor": "#C8D4E3",
             "startlinecolor": "#2a3f5f"
            },
            "type": "carpet"
           }
          ],
          "choropleth": [
           {
            "colorbar": {
             "outlinewidth": 0,
             "ticks": ""
            },
            "type": "choropleth"
           }
          ],
          "contour": [
           {
            "colorbar": {
             "outlinewidth": 0,
             "ticks": ""
            },
            "colorscale": [
             [
              0,
              "#0d0887"
             ],
             [
              0.1111111111111111,
              "#46039f"
             ],
             [
              0.2222222222222222,
              "#7201a8"
             ],
             [
              0.3333333333333333,
              "#9c179e"
             ],
             [
              0.4444444444444444,
              "#bd3786"
             ],
             [
              0.5555555555555556,
              "#d8576b"
             ],
             [
              0.6666666666666666,
              "#ed7953"
             ],
             [
              0.7777777777777778,
              "#fb9f3a"
             ],
             [
              0.8888888888888888,
              "#fdca26"
             ],
             [
              1,
              "#f0f921"
             ]
            ],
            "type": "contour"
           }
          ],
          "contourcarpet": [
           {
            "colorbar": {
             "outlinewidth": 0,
             "ticks": ""
            },
            "type": "contourcarpet"
           }
          ],
          "heatmap": [
           {
            "colorbar": {
             "outlinewidth": 0,
             "ticks": ""
            },
            "colorscale": [
             [
              0,
              "#0d0887"
             ],
             [
              0.1111111111111111,
              "#46039f"
             ],
             [
              0.2222222222222222,
              "#7201a8"
             ],
             [
              0.3333333333333333,
              "#9c179e"
             ],
             [
              0.4444444444444444,
              "#bd3786"
             ],
             [
              0.5555555555555556,
              "#d8576b"
             ],
             [
              0.6666666666666666,
              "#ed7953"
             ],
             [
              0.7777777777777778,
              "#fb9f3a"
             ],
             [
              0.8888888888888888,
              "#fdca26"
             ],
             [
              1,
              "#f0f921"
             ]
            ],
            "type": "heatmap"
           }
          ],
          "histogram": [
           {
            "marker": {
             "pattern": {
              "fillmode": "overlay",
              "size": 10,
              "solidity": 0.2
             }
            },
            "type": "histogram"
           }
          ],
          "histogram2d": [
           {
            "colorbar": {
             "outlinewidth": 0,
             "ticks": ""
            },
            "colorscale": [
             [
              0,
              "#0d0887"
             ],
             [
              0.1111111111111111,
              "#46039f"
             ],
             [
              0.2222222222222222,
              "#7201a8"
             ],
             [
              0.3333333333333333,
              "#9c179e"
             ],
             [
              0.4444444444444444,
              "#bd3786"
             ],
             [
              0.5555555555555556,
              "#d8576b"
             ],
             [
              0.6666666666666666,
              "#ed7953"
             ],
             [
              0.7777777777777778,
              "#fb9f3a"
             ],
             [
              0.8888888888888888,
              "#fdca26"
             ],
             [
              1,
              "#f0f921"
             ]
            ],
            "type": "histogram2d"
           }
          ],
          "histogram2dcontour": [
           {
            "colorbar": {
             "outlinewidth": 0,
             "ticks": ""
            },
            "colorscale": [
             [
              0,
              "#0d0887"
             ],
             [
              0.1111111111111111,
              "#46039f"
             ],
             [
              0.2222222222222222,
              "#7201a8"
             ],
             [
              0.3333333333333333,
              "#9c179e"
             ],
             [
              0.4444444444444444,
              "#bd3786"
             ],
             [
              0.5555555555555556,
              "#d8576b"
             ],
             [
              0.6666666666666666,
              "#ed7953"
             ],
             [
              0.7777777777777778,
              "#fb9f3a"
             ],
             [
              0.8888888888888888,
              "#fdca26"
             ],
             [
              1,
              "#f0f921"
             ]
            ],
            "type": "histogram2dcontour"
           }
          ],
          "mesh3d": [
           {
            "colorbar": {
             "outlinewidth": 0,
             "ticks": ""
            },
            "type": "mesh3d"
           }
          ],
          "parcoords": [
           {
            "line": {
             "colorbar": {
              "outlinewidth": 0,
              "ticks": ""
             }
            },
            "type": "parcoords"
           }
          ],
          "pie": [
           {
            "automargin": true,
            "type": "pie"
           }
          ],
          "scatter": [
           {
            "fillpattern": {
             "fillmode": "overlay",
             "size": 10,
             "solidity": 0.2
            },
            "type": "scatter"
           }
          ],
          "scatter3d": [
           {
            "line": {
             "colorbar": {
              "outlinewidth": 0,
              "ticks": ""
             }
            },
            "marker": {
             "colorbar": {
              "outlinewidth": 0,
              "ticks": ""
             }
            },
            "type": "scatter3d"
           }
          ],
          "scattercarpet": [
           {
            "marker": {
             "colorbar": {
              "outlinewidth": 0,
              "ticks": ""
             }
            },
            "type": "scattercarpet"
           }
          ],
          "scattergeo": [
           {
            "marker": {
             "colorbar": {
              "outlinewidth": 0,
              "ticks": ""
             }
            },
            "type": "scattergeo"
           }
          ],
          "scattergl": [
           {
            "marker": {
             "colorbar": {
              "outlinewidth": 0,
              "ticks": ""
             }
            },
            "type": "scattergl"
           }
          ],
          "scattermap": [
           {
            "marker": {
             "colorbar": {
              "outlinewidth": 0,
              "ticks": ""
             }
            },
            "type": "scattermap"
           }
          ],
          "scattermapbox": [
           {
            "marker": {
             "colorbar": {
              "outlinewidth": 0,
              "ticks": ""
             }
            },
            "type": "scattermapbox"
           }
          ],
          "scatterpolar": [
           {
            "marker": {
             "colorbar": {
              "outlinewidth": 0,
              "ticks": ""
             }
            },
            "type": "scatterpolar"
           }
          ],
          "scatterpolargl": [
           {
            "marker": {
             "colorbar": {
              "outlinewidth": 0,
              "ticks": ""
             }
            },
            "type": "scatterpolargl"
           }
          ],
          "scatterternary": [
           {
            "marker": {
             "colorbar": {
              "outlinewidth": 0,
              "ticks": ""
             }
            },
            "type": "scatterternary"
           }
          ],
          "surface": [
           {
            "colorbar": {
             "outlinewidth": 0,
             "ticks": ""
            },
            "colorscale": [
             [
              0,
              "#0d0887"
             ],
             [
              0.1111111111111111,
              "#46039f"
             ],
             [
              0.2222222222222222,
              "#7201a8"
             ],
             [
              0.3333333333333333,
              "#9c179e"
             ],
             [
              0.4444444444444444,
              "#bd3786"
             ],
             [
              0.5555555555555556,
              "#d8576b"
             ],
             [
              0.6666666666666666,
              "#ed7953"
             ],
             [
              0.7777777777777778,
              "#fb9f3a"
             ],
             [
              0.8888888888888888,
              "#fdca26"
             ],
             [
              1,
              "#f0f921"
             ]
            ],
            "type": "surface"
           }
          ],
          "table": [
           {
            "cells": {
             "fill": {
              "color": "#EBF0F8"
             },
             "line": {
              "color": "white"
             }
            },
            "header": {
             "fill": {
              "color": "#C8D4E3"
             },
             "line": {
              "color": "white"
             }
            },
            "type": "table"
           }
          ]
         },
         "layout": {
          "annotationdefaults": {
           "arrowcolor": "#2a3f5f",
           "arrowhead": 0,
           "arrowwidth": 1
          },
          "autotypenumbers": "strict",
          "coloraxis": {
           "colorbar": {
            "outlinewidth": 0,
            "ticks": ""
           }
          },
          "colorscale": {
           "diverging": [
            [
             0,
             "#8e0152"
            ],
            [
             0.1,
             "#c51b7d"
            ],
            [
             0.2,
             "#de77ae"
            ],
            [
             0.3,
             "#f1b6da"
            ],
            [
             0.4,
             "#fde0ef"
            ],
            [
             0.5,
             "#f7f7f7"
            ],
            [
             0.6,
             "#e6f5d0"
            ],
            [
             0.7,
             "#b8e186"
            ],
            [
             0.8,
             "#7fbc41"
            ],
            [
             0.9,
             "#4d9221"
            ],
            [
             1,
             "#276419"
            ]
           ],
           "sequential": [
            [
             0,
             "#0d0887"
            ],
            [
             0.1111111111111111,
             "#46039f"
            ],
            [
             0.2222222222222222,
             "#7201a8"
            ],
            [
             0.3333333333333333,
             "#9c179e"
            ],
            [
             0.4444444444444444,
             "#bd3786"
            ],
            [
             0.5555555555555556,
             "#d8576b"
            ],
            [
             0.6666666666666666,
             "#ed7953"
            ],
            [
             0.7777777777777778,
             "#fb9f3a"
            ],
            [
             0.8888888888888888,
             "#fdca26"
            ],
            [
             1,
             "#f0f921"
            ]
           ],
           "sequentialminus": [
            [
             0,
             "#0d0887"
            ],
            [
             0.1111111111111111,
             "#46039f"
            ],
            [
             0.2222222222222222,
             "#7201a8"
            ],
            [
             0.3333333333333333,
             "#9c179e"
            ],
            [
             0.4444444444444444,
             "#bd3786"
            ],
            [
             0.5555555555555556,
             "#d8576b"
            ],
            [
             0.6666666666666666,
             "#ed7953"
            ],
            [
             0.7777777777777778,
             "#fb9f3a"
            ],
            [
             0.8888888888888888,
             "#fdca26"
            ],
            [
             1,
             "#f0f921"
            ]
           ]
          },
          "colorway": [
           "#636efa",
           "#EF553B",
           "#00cc96",
           "#ab63fa",
           "#FFA15A",
           "#19d3f3",
           "#FF6692",
           "#B6E880",
           "#FF97FF",
           "#FECB52"
          ],
          "font": {
           "color": "#2a3f5f"
          },
          "geo": {
           "bgcolor": "white",
           "lakecolor": "white",
           "landcolor": "white",
           "showlakes": true,
           "showland": true,
           "subunitcolor": "#C8D4E3"
          },
          "hoverlabel": {
           "align": "left"
          },
          "hovermode": "closest",
          "mapbox": {
           "style": "light"
          },
          "paper_bgcolor": "white",
          "plot_bgcolor": "white",
          "polar": {
           "angularaxis": {
            "gridcolor": "#EBF0F8",
            "linecolor": "#EBF0F8",
            "ticks": ""
           },
           "bgcolor": "white",
           "radialaxis": {
            "gridcolor": "#EBF0F8",
            "linecolor": "#EBF0F8",
            "ticks": ""
           }
          },
          "scene": {
           "xaxis": {
            "backgroundcolor": "white",
            "gridcolor": "#DFE8F3",
            "gridwidth": 2,
            "linecolor": "#EBF0F8",
            "showbackground": true,
            "ticks": "",
            "zerolinecolor": "#EBF0F8"
           },
           "yaxis": {
            "backgroundcolor": "white",
            "gridcolor": "#DFE8F3",
            "gridwidth": 2,
            "linecolor": "#EBF0F8",
            "showbackground": true,
            "ticks": "",
            "zerolinecolor": "#EBF0F8"
           },
           "zaxis": {
            "backgroundcolor": "white",
            "gridcolor": "#DFE8F3",
            "gridwidth": 2,
            "linecolor": "#EBF0F8",
            "showbackground": true,
            "ticks": "",
            "zerolinecolor": "#EBF0F8"
           }
          },
          "shapedefaults": {
           "line": {
            "color": "#2a3f5f"
           }
          },
          "ternary": {
           "aaxis": {
            "gridcolor": "#DFE8F3",
            "linecolor": "#A2B1C6",
            "ticks": ""
           },
           "baxis": {
            "gridcolor": "#DFE8F3",
            "linecolor": "#A2B1C6",
            "ticks": ""
           },
           "bgcolor": "white",
           "caxis": {
            "gridcolor": "#DFE8F3",
            "linecolor": "#A2B1C6",
            "ticks": ""
           }
          },
          "title": {
           "x": 0.05
          },
          "xaxis": {
           "automargin": true,
           "gridcolor": "#EBF0F8",
           "linecolor": "#EBF0F8",
           "ticks": "",
           "title": {
            "standoff": 15
           },
           "zerolinecolor": "#EBF0F8",
           "zerolinewidth": 2
          },
          "yaxis": {
           "automargin": true,
           "gridcolor": "#EBF0F8",
           "linecolor": "#EBF0F8",
           "ticks": "",
           "title": {
            "standoff": 15
           },
           "zerolinecolor": "#EBF0F8",
           "zerolinewidth": 2
          }
         }
        },
        "title": {
         "text": "Pronóstico y Ajuste de Horas Extra para HR con Modelo Prophet"
        },
        "xaxis": {
         "title": {
          "text": "Fecha"
         }
        },
        "yaxis": {
         "title": {
          "text": "Horas Extra"
         }
        }
       }
      }
     },
     "metadata": {},
     "output_type": "display_data"
    },
    {
     "name": "stderr",
     "output_type": "stream",
     "text": [
      "2025-08-09 15:49:44,518 - INFO - Columnas disponibles en df_all_data para IT: ['department', 'ds', 'y']\n",
      "2025-08-09 15:49:44,525 - WARNING - future_forecast para IT comienza en 2025-05-11 00:00:00 cuando debería ser después de 2025-05-04 00:00:00\n",
      "2025-08-09 15:49:44,533 - INFO - Rango de fechas en future_data para IT: 2025-05-11 00:00:00 a 2025-10-12 00:00:00\n"
     ]
    },
    {
     "data": {
      "application/vnd.plotly.v1+json": {
       "config": {
        "plotlyServerURL": "https://plot.ly"
       },
       "data": [
        {
         "line": {
          "color": "blue"
         },
         "mode": "lines",
         "name": "Histórico Real",
         "type": "scatter",
         "x": [
          "2023-12-31T00:00:00.000000000",
          "2024-01-14T00:00:00.000000000",
          "2024-01-28T00:00:00.000000000",
          "2024-02-11T00:00:00.000000000",
          "2024-02-25T00:00:00.000000000",
          "2024-03-10T00:00:00.000000000",
          "2024-03-24T00:00:00.000000000",
          "2024-04-07T00:00:00.000000000",
          "2024-04-21T00:00:00.000000000",
          "2024-05-05T00:00:00.000000000",
          "2024-05-19T00:00:00.000000000",
          "2024-06-02T00:00:00.000000000",
          "2024-06-16T00:00:00.000000000",
          "2024-06-30T00:00:00.000000000",
          "2024-07-14T00:00:00.000000000",
          "2024-07-28T00:00:00.000000000",
          "2024-08-11T00:00:00.000000000",
          "2024-08-25T00:00:00.000000000",
          "2024-09-08T00:00:00.000000000",
          "2024-09-22T00:00:00.000000000",
          "2024-10-06T00:00:00.000000000",
          "2024-10-20T00:00:00.000000000",
          "2024-11-03T00:00:00.000000000",
          "2024-11-17T00:00:00.000000000",
          "2024-12-01T00:00:00.000000000",
          "2024-12-15T00:00:00.000000000",
          "2024-12-29T00:00:00.000000000",
          "2025-01-12T00:00:00.000000000",
          "2025-01-26T00:00:00.000000000",
          "2025-02-09T00:00:00.000000000",
          "2025-02-23T00:00:00.000000000",
          "2025-03-09T00:00:00.000000000",
          "2025-03-23T00:00:00.000000000",
          "2025-04-06T00:00:00.000000000",
          "2025-04-20T00:00:00.000000000",
          "2025-05-04T00:00:00.000000000"
         ],
         "y": {
          "bdata": "AAAAAAAA+H8AAAAAAAD4f5DC9ShcU3pAj8L1KFzneUCamZmZmbF1QJDC9Shcp3pAMzMzMzNXeEBSuB6F61l5QFyPwvUoSHpAXI/C9Sjke0CkcD0K10d4QMP1KFyPSnxAmpmZmZkhe0BI4XoUrlN8QJDC9Shcn3pAuB6F61EAeEBmZmZmZg56QPYoXI/CZXpAmpmZmZkxeUApXI/C9QR9QK5H4XoUbnxA9ihcj8I5ekCQwvUoXMN8QD4K16NwAXpAuB6F61GMe0DMzMzMzHJ6QOF6FK5HWXlA4XoUrkcVeEDrUbgehTN6QGZmZmZmMnpAXI/C9SgYd0AUrkfheox7QGZmZmZmyntA7FG4HoWjfUDMzMzMzKh4QMzMzMzMqHhA",
          "dtype": "f8"
         }
        },
        {
         "line": {
          "color": "orange",
          "dash": "dash"
         },
         "mode": "lines",
         "name": "Predicción Histórica",
         "type": "scatter",
         "x": [
          "2023-12-31T00:00:00.000000000",
          "2024-01-14T00:00:00.000000000",
          "2024-01-28T00:00:00.000000000",
          "2024-02-11T00:00:00.000000000",
          "2024-02-25T00:00:00.000000000",
          "2024-03-10T00:00:00.000000000",
          "2024-03-24T00:00:00.000000000",
          "2024-04-07T00:00:00.000000000",
          "2024-04-21T00:00:00.000000000",
          "2024-05-05T00:00:00.000000000",
          "2024-05-19T00:00:00.000000000",
          "2024-06-02T00:00:00.000000000",
          "2024-06-16T00:00:00.000000000",
          "2024-06-30T00:00:00.000000000",
          "2024-07-14T00:00:00.000000000",
          "2024-07-28T00:00:00.000000000",
          "2024-08-11T00:00:00.000000000",
          "2024-08-25T00:00:00.000000000",
          "2024-09-08T00:00:00.000000000",
          "2024-09-22T00:00:00.000000000",
          "2024-10-06T00:00:00.000000000",
          "2024-10-20T00:00:00.000000000",
          "2024-11-03T00:00:00.000000000",
          "2024-11-17T00:00:00.000000000",
          "2024-12-01T00:00:00.000000000",
          "2024-12-15T00:00:00.000000000",
          "2024-12-29T00:00:00.000000000",
          "2025-01-12T00:00:00.000000000",
          "2025-01-26T00:00:00.000000000",
          "2025-02-09T00:00:00.000000000",
          "2025-02-23T00:00:00.000000000",
          "2025-03-09T00:00:00.000000000",
          "2025-03-23T00:00:00.000000000",
          "2025-04-06T00:00:00.000000000",
          "2025-04-20T00:00:00.000000000",
          "2025-05-04T00:00:00.000000000"
         ],
         "y": {
          "bdata": "kqMghcrOekDClwu6XNZ6QOSl3kij7nlA879tttmAeEAQN4JaHYF4QI4mxLykP3pA4PT7bvMNeECMAqOAnCN7QBwbKfi2VHtAjmLcAyC/e0DQq9IrML15QJHwWvBXJXpAC8OwFED6ekB4nQWw2AF7QERR6B2iGHpAtR4D04KoeEBksUCLwah4QDnynpIVanpAimXX19I0eECykyEfck97QHoox/bVgHtAMSUwxeTre0DgRdEdsuZ5QMTsijB8T3pAnuMGp7Ule0AsIqioVC17QMCJjvSgQnpAUiy/8CvQeEBFpqS9ZdB4QNAAHGmGlHpAn7dKQbJbeEDjVHa9R3t7QB4Y8PP0rHtAtUtUhKkYfEAiZPYONBB6QO0wsG2geXpA",
          "dtype": "f8"
         }
        },
        {
         "line": {
          "color": "red",
          "dash": "dot"
         },
         "mode": "lines",
         "name": "Pronóstico Futuro",
         "type": "scatter",
         "x": [
          "2025-05-11T00:00:00.000000000",
          "2025-05-25T00:00:00.000000000",
          "2025-06-08T00:00:00.000000000",
          "2025-06-22T00:00:00.000000000",
          "2025-07-06T00:00:00.000000000",
          "2025-07-20T00:00:00.000000000",
          "2025-08-03T00:00:00.000000000",
          "2025-08-17T00:00:00.000000000",
          "2025-08-31T00:00:00.000000000",
          "2025-09-14T00:00:00.000000000",
          "2025-09-28T00:00:00.000000000",
          "2025-10-12T00:00:00.000000000"
         ],
         "y": {
          "bdata": "0/J3NitRe0CGqjue0Fh7QCc47MifbHpAuC7hDNX3eEBWIqLuCfh4QAbmuj33vnpADwY0qZGCeEDSdAxbHad7QHOXvvAT2XtAkOxJQ25FfEA5s9T+tTl6QA4R+qrEo3pA",
          "dtype": "f8"
         }
        },
        {
         "fill": "toself",
         "fillcolor": "rgba(255,0,0,0.1)",
         "hoverinfo": "skip",
         "line": {
          "color": "rgba(255,255,255,0)"
         },
         "name": "Intervalo de Confianza",
         "showlegend": false,
         "type": "scatter",
         "x": [
          "2025-05-11T00:00:00",
          "2025-05-25T00:00:00",
          "2025-06-08T00:00:00",
          "2025-06-22T00:00:00",
          "2025-07-06T00:00:00",
          "2025-07-20T00:00:00",
          "2025-08-03T00:00:00",
          "2025-08-17T00:00:00",
          "2025-08-31T00:00:00",
          "2025-09-14T00:00:00",
          "2025-09-28T00:00:00",
          "2025-10-12T00:00:00",
          "2025-10-12T00:00:00",
          "2025-09-28T00:00:00",
          "2025-09-14T00:00:00",
          "2025-08-31T00:00:00",
          "2025-08-17T00:00:00",
          "2025-08-03T00:00:00",
          "2025-07-20T00:00:00",
          "2025-07-06T00:00:00",
          "2025-06-22T00:00:00",
          "2025-06-08T00:00:00",
          "2025-05-25T00:00:00",
          "2025-05-11T00:00:00"
         ],
         "y": [
          480.7803549913443,
          481.30602536809715,
          465.0679109716463,
          439.4384656596957,
          439.4526673285199,
          470.72889776523556,
          431.3766179309265,
          486.68913359978035,
          490.124105090092,
          497.5733616043496,
          461.56762572664803,
          468.859066080575,
          383.61196315683407,
          377.64623923089385,
          407.10547767628606,
          401.01063143734797,
          398.2002002180021,
          352.94450557984896,
          385.1418254442836,
          359.55218235969807,
          359.54056281247824,
          380.5101089768015,
          393.795838937534,
          393.36574499291805
         ]
        }
       ],
       "layout": {
        "legend": {
         "orientation": "h",
         "x": 0.5,
         "xanchor": "center",
         "y": 1.02,
         "yanchor": "bottom"
        },
        "template": {
         "data": {
          "bar": [
           {
            "error_x": {
             "color": "#2a3f5f"
            },
            "error_y": {
             "color": "#2a3f5f"
            },
            "marker": {
             "line": {
              "color": "white",
              "width": 0.5
             },
             "pattern": {
              "fillmode": "overlay",
              "size": 10,
              "solidity": 0.2
             }
            },
            "type": "bar"
           }
          ],
          "barpolar": [
           {
            "marker": {
             "line": {
              "color": "white",
              "width": 0.5
             },
             "pattern": {
              "fillmode": "overlay",
              "size": 10,
              "solidity": 0.2
             }
            },
            "type": "barpolar"
           }
          ],
          "carpet": [
           {
            "aaxis": {
             "endlinecolor": "#2a3f5f",
             "gridcolor": "#C8D4E3",
             "linecolor": "#C8D4E3",
             "minorgridcolor": "#C8D4E3",
             "startlinecolor": "#2a3f5f"
            },
            "baxis": {
             "endlinecolor": "#2a3f5f",
             "gridcolor": "#C8D4E3",
             "linecolor": "#C8D4E3",
             "minorgridcolor": "#C8D4E3",
             "startlinecolor": "#2a3f5f"
            },
            "type": "carpet"
           }
          ],
          "choropleth": [
           {
            "colorbar": {
             "outlinewidth": 0,
             "ticks": ""
            },
            "type": "choropleth"
           }
          ],
          "contour": [
           {
            "colorbar": {
             "outlinewidth": 0,
             "ticks": ""
            },
            "colorscale": [
             [
              0,
              "#0d0887"
             ],
             [
              0.1111111111111111,
              "#46039f"
             ],
             [
              0.2222222222222222,
              "#7201a8"
             ],
             [
              0.3333333333333333,
              "#9c179e"
             ],
             [
              0.4444444444444444,
              "#bd3786"
             ],
             [
              0.5555555555555556,
              "#d8576b"
             ],
             [
              0.6666666666666666,
              "#ed7953"
             ],
             [
              0.7777777777777778,
              "#fb9f3a"
             ],
             [
              0.8888888888888888,
              "#fdca26"
             ],
             [
              1,
              "#f0f921"
             ]
            ],
            "type": "contour"
           }
          ],
          "contourcarpet": [
           {
            "colorbar": {
             "outlinewidth": 0,
             "ticks": ""
            },
            "type": "contourcarpet"
           }
          ],
          "heatmap": [
           {
            "colorbar": {
             "outlinewidth": 0,
             "ticks": ""
            },
            "colorscale": [
             [
              0,
              "#0d0887"
             ],
             [
              0.1111111111111111,
              "#46039f"
             ],
             [
              0.2222222222222222,
              "#7201a8"
             ],
             [
              0.3333333333333333,
              "#9c179e"
             ],
             [
              0.4444444444444444,
              "#bd3786"
             ],
             [
              0.5555555555555556,
              "#d8576b"
             ],
             [
              0.6666666666666666,
              "#ed7953"
             ],
             [
              0.7777777777777778,
              "#fb9f3a"
             ],
             [
              0.8888888888888888,
              "#fdca26"
             ],
             [
              1,
              "#f0f921"
             ]
            ],
            "type": "heatmap"
           }
          ],
          "histogram": [
           {
            "marker": {
             "pattern": {
              "fillmode": "overlay",
              "size": 10,
              "solidity": 0.2
             }
            },
            "type": "histogram"
           }
          ],
          "histogram2d": [
           {
            "colorbar": {
             "outlinewidth": 0,
             "ticks": ""
            },
            "colorscale": [
             [
              0,
              "#0d0887"
             ],
             [
              0.1111111111111111,
              "#46039f"
             ],
             [
              0.2222222222222222,
              "#7201a8"
             ],
             [
              0.3333333333333333,
              "#9c179e"
             ],
             [
              0.4444444444444444,
              "#bd3786"
             ],
             [
              0.5555555555555556,
              "#d8576b"
             ],
             [
              0.6666666666666666,
              "#ed7953"
             ],
             [
              0.7777777777777778,
              "#fb9f3a"
             ],
             [
              0.8888888888888888,
              "#fdca26"
             ],
             [
              1,
              "#f0f921"
             ]
            ],
            "type": "histogram2d"
           }
          ],
          "histogram2dcontour": [
           {
            "colorbar": {
             "outlinewidth": 0,
             "ticks": ""
            },
            "colorscale": [
             [
              0,
              "#0d0887"
             ],
             [
              0.1111111111111111,
              "#46039f"
             ],
             [
              0.2222222222222222,
              "#7201a8"
             ],
             [
              0.3333333333333333,
              "#9c179e"
             ],
             [
              0.4444444444444444,
              "#bd3786"
             ],
             [
              0.5555555555555556,
              "#d8576b"
             ],
             [
              0.6666666666666666,
              "#ed7953"
             ],
             [
              0.7777777777777778,
              "#fb9f3a"
             ],
             [
              0.8888888888888888,
              "#fdca26"
             ],
             [
              1,
              "#f0f921"
             ]
            ],
            "type": "histogram2dcontour"
           }
          ],
          "mesh3d": [
           {
            "colorbar": {
             "outlinewidth": 0,
             "ticks": ""
            },
            "type": "mesh3d"
           }
          ],
          "parcoords": [
           {
            "line": {
             "colorbar": {
              "outlinewidth": 0,
              "ticks": ""
             }
            },
            "type": "parcoords"
           }
          ],
          "pie": [
           {
            "automargin": true,
            "type": "pie"
           }
          ],
          "scatter": [
           {
            "fillpattern": {
             "fillmode": "overlay",
             "size": 10,
             "solidity": 0.2
            },
            "type": "scatter"
           }
          ],
          "scatter3d": [
           {
            "line": {
             "colorbar": {
              "outlinewidth": 0,
              "ticks": ""
             }
            },
            "marker": {
             "colorbar": {
              "outlinewidth": 0,
              "ticks": ""
             }
            },
            "type": "scatter3d"
           }
          ],
          "scattercarpet": [
           {
            "marker": {
             "colorbar": {
              "outlinewidth": 0,
              "ticks": ""
             }
            },
            "type": "scattercarpet"
           }
          ],
          "scattergeo": [
           {
            "marker": {
             "colorbar": {
              "outlinewidth": 0,
              "ticks": ""
             }
            },
            "type": "scattergeo"
           }
          ],
          "scattergl": [
           {
            "marker": {
             "colorbar": {
              "outlinewidth": 0,
              "ticks": ""
             }
            },
            "type": "scattergl"
           }
          ],
          "scattermap": [
           {
            "marker": {
             "colorbar": {
              "outlinewidth": 0,
              "ticks": ""
             }
            },
            "type": "scattermap"
           }
          ],
          "scattermapbox": [
           {
            "marker": {
             "colorbar": {
              "outlinewidth": 0,
              "ticks": ""
             }
            },
            "type": "scattermapbox"
           }
          ],
          "scatterpolar": [
           {
            "marker": {
             "colorbar": {
              "outlinewidth": 0,
              "ticks": ""
             }
            },
            "type": "scatterpolar"
           }
          ],
          "scatterpolargl": [
           {
            "marker": {
             "colorbar": {
              "outlinewidth": 0,
              "ticks": ""
             }
            },
            "type": "scatterpolargl"
           }
          ],
          "scatterternary": [
           {
            "marker": {
             "colorbar": {
              "outlinewidth": 0,
              "ticks": ""
             }
            },
            "type": "scatterternary"
           }
          ],
          "surface": [
           {
            "colorbar": {
             "outlinewidth": 0,
             "ticks": ""
            },
            "colorscale": [
             [
              0,
              "#0d0887"
             ],
             [
              0.1111111111111111,
              "#46039f"
             ],
             [
              0.2222222222222222,
              "#7201a8"
             ],
             [
              0.3333333333333333,
              "#9c179e"
             ],
             [
              0.4444444444444444,
              "#bd3786"
             ],
             [
              0.5555555555555556,
              "#d8576b"
             ],
             [
              0.6666666666666666,
              "#ed7953"
             ],
             [
              0.7777777777777778,
              "#fb9f3a"
             ],
             [
              0.8888888888888888,
              "#fdca26"
             ],
             [
              1,
              "#f0f921"
             ]
            ],
            "type": "surface"
           }
          ],
          "table": [
           {
            "cells": {
             "fill": {
              "color": "#EBF0F8"
             },
             "line": {
              "color": "white"
             }
            },
            "header": {
             "fill": {
              "color": "#C8D4E3"
             },
             "line": {
              "color": "white"
             }
            },
            "type": "table"
           }
          ]
         },
         "layout": {
          "annotationdefaults": {
           "arrowcolor": "#2a3f5f",
           "arrowhead": 0,
           "arrowwidth": 1
          },
          "autotypenumbers": "strict",
          "coloraxis": {
           "colorbar": {
            "outlinewidth": 0,
            "ticks": ""
           }
          },
          "colorscale": {
           "diverging": [
            [
             0,
             "#8e0152"
            ],
            [
             0.1,
             "#c51b7d"
            ],
            [
             0.2,
             "#de77ae"
            ],
            [
             0.3,
             "#f1b6da"
            ],
            [
             0.4,
             "#fde0ef"
            ],
            [
             0.5,
             "#f7f7f7"
            ],
            [
             0.6,
             "#e6f5d0"
            ],
            [
             0.7,
             "#b8e186"
            ],
            [
             0.8,
             "#7fbc41"
            ],
            [
             0.9,
             "#4d9221"
            ],
            [
             1,
             "#276419"
            ]
           ],
           "sequential": [
            [
             0,
             "#0d0887"
            ],
            [
             0.1111111111111111,
             "#46039f"
            ],
            [
             0.2222222222222222,
             "#7201a8"
            ],
            [
             0.3333333333333333,
             "#9c179e"
            ],
            [
             0.4444444444444444,
             "#bd3786"
            ],
            [
             0.5555555555555556,
             "#d8576b"
            ],
            [
             0.6666666666666666,
             "#ed7953"
            ],
            [
             0.7777777777777778,
             "#fb9f3a"
            ],
            [
             0.8888888888888888,
             "#fdca26"
            ],
            [
             1,
             "#f0f921"
            ]
           ],
           "sequentialminus": [
            [
             0,
             "#0d0887"
            ],
            [
             0.1111111111111111,
             "#46039f"
            ],
            [
             0.2222222222222222,
             "#7201a8"
            ],
            [
             0.3333333333333333,
             "#9c179e"
            ],
            [
             0.4444444444444444,
             "#bd3786"
            ],
            [
             0.5555555555555556,
             "#d8576b"
            ],
            [
             0.6666666666666666,
             "#ed7953"
            ],
            [
             0.7777777777777778,
             "#fb9f3a"
            ],
            [
             0.8888888888888888,
             "#fdca26"
            ],
            [
             1,
             "#f0f921"
            ]
           ]
          },
          "colorway": [
           "#636efa",
           "#EF553B",
           "#00cc96",
           "#ab63fa",
           "#FFA15A",
           "#19d3f3",
           "#FF6692",
           "#B6E880",
           "#FF97FF",
           "#FECB52"
          ],
          "font": {
           "color": "#2a3f5f"
          },
          "geo": {
           "bgcolor": "white",
           "lakecolor": "white",
           "landcolor": "white",
           "showlakes": true,
           "showland": true,
           "subunitcolor": "#C8D4E3"
          },
          "hoverlabel": {
           "align": "left"
          },
          "hovermode": "closest",
          "mapbox": {
           "style": "light"
          },
          "paper_bgcolor": "white",
          "plot_bgcolor": "white",
          "polar": {
           "angularaxis": {
            "gridcolor": "#EBF0F8",
            "linecolor": "#EBF0F8",
            "ticks": ""
           },
           "bgcolor": "white",
           "radialaxis": {
            "gridcolor": "#EBF0F8",
            "linecolor": "#EBF0F8",
            "ticks": ""
           }
          },
          "scene": {
           "xaxis": {
            "backgroundcolor": "white",
            "gridcolor": "#DFE8F3",
            "gridwidth": 2,
            "linecolor": "#EBF0F8",
            "showbackground": true,
            "ticks": "",
            "zerolinecolor": "#EBF0F8"
           },
           "yaxis": {
            "backgroundcolor": "white",
            "gridcolor": "#DFE8F3",
            "gridwidth": 2,
            "linecolor": "#EBF0F8",
            "showbackground": true,
            "ticks": "",
            "zerolinecolor": "#EBF0F8"
           },
           "zaxis": {
            "backgroundcolor": "white",
            "gridcolor": "#DFE8F3",
            "gridwidth": 2,
            "linecolor": "#EBF0F8",
            "showbackground": true,
            "ticks": "",
            "zerolinecolor": "#EBF0F8"
           }
          },
          "shapedefaults": {
           "line": {
            "color": "#2a3f5f"
           }
          },
          "ternary": {
           "aaxis": {
            "gridcolor": "#DFE8F3",
            "linecolor": "#A2B1C6",
            "ticks": ""
           },
           "baxis": {
            "gridcolor": "#DFE8F3",
            "linecolor": "#A2B1C6",
            "ticks": ""
           },
           "bgcolor": "white",
           "caxis": {
            "gridcolor": "#DFE8F3",
            "linecolor": "#A2B1C6",
            "ticks": ""
           }
          },
          "title": {
           "x": 0.05
          },
          "xaxis": {
           "automargin": true,
           "gridcolor": "#EBF0F8",
           "linecolor": "#EBF0F8",
           "ticks": "",
           "title": {
            "standoff": 15
           },
           "zerolinecolor": "#EBF0F8",
           "zerolinewidth": 2
          },
          "yaxis": {
           "automargin": true,
           "gridcolor": "#EBF0F8",
           "linecolor": "#EBF0F8",
           "ticks": "",
           "title": {
            "standoff": 15
           },
           "zerolinecolor": "#EBF0F8",
           "zerolinewidth": 2
          }
         }
        },
        "title": {
         "text": "Pronóstico y Ajuste de Horas Extra para IT con Modelo Exponential Smoothing"
        },
        "xaxis": {
         "title": {
          "text": "Fecha"
         }
        },
        "yaxis": {
         "title": {
          "text": "Horas Extra"
         }
        }
       }
      }
     },
     "metadata": {},
     "output_type": "display_data"
    },
    {
     "name": "stderr",
     "output_type": "stream",
     "text": [
      "2025-08-09 15:49:44,656 - INFO - Columnas disponibles en df_all_data para Inventory: ['department', 'ds', 'y']\n",
      "2025-08-09 15:49:44,670 - INFO - Rango de fechas en future_data para Inventory: 2025-05-11 00:00:00 a 2025-10-12 00:00:00\n"
     ]
    },
    {
     "data": {
      "application/vnd.plotly.v1+json": {
       "config": {
        "plotlyServerURL": "https://plot.ly"
       },
       "data": [
        {
         "line": {
          "color": "blue"
         },
         "mode": "lines",
         "name": "Histórico Real",
         "type": "scatter",
         "x": [
          "2023-12-31T00:00:00.000000000",
          "2024-01-14T00:00:00.000000000",
          "2024-01-28T00:00:00.000000000",
          "2024-02-11T00:00:00.000000000",
          "2024-02-25T00:00:00.000000000",
          "2024-03-10T00:00:00.000000000",
          "2024-03-24T00:00:00.000000000",
          "2024-04-07T00:00:00.000000000",
          "2024-04-21T00:00:00.000000000",
          "2024-05-05T00:00:00.000000000",
          "2024-05-19T00:00:00.000000000",
          "2024-06-02T00:00:00.000000000",
          "2024-06-16T00:00:00.000000000",
          "2024-06-30T00:00:00.000000000",
          "2024-07-14T00:00:00.000000000",
          "2024-07-28T00:00:00.000000000",
          "2024-08-11T00:00:00.000000000",
          "2024-08-25T00:00:00.000000000",
          "2024-09-08T00:00:00.000000000",
          "2024-09-22T00:00:00.000000000",
          "2024-10-06T00:00:00.000000000",
          "2024-10-20T00:00:00.000000000",
          "2024-11-03T00:00:00.000000000",
          "2024-11-17T00:00:00.000000000",
          "2024-12-01T00:00:00.000000000",
          "2024-12-15T00:00:00.000000000",
          "2024-12-29T00:00:00.000000000",
          "2025-01-12T00:00:00.000000000",
          "2025-01-26T00:00:00.000000000",
          "2025-02-09T00:00:00.000000000",
          "2025-02-23T00:00:00.000000000",
          "2025-03-09T00:00:00.000000000",
          "2025-03-23T00:00:00.000000000",
          "2025-04-06T00:00:00.000000000",
          "2025-04-20T00:00:00.000000000",
          "2025-05-04T00:00:00.000000000"
         ],
         "y": {
          "bdata": "AAAAAAAA+H8AAAAAAJB8QHoUrkfhjIBA4XoUrkc1f0AfhetRuCqBQM3MzMzMIH5A4noUrkfhfkAzMzMzM0WAQJDC9Shcf4BA16NwPQr7gEDMzMzMzKiAQI/C9ShcT4JAFK5H4XqKgUBxPQrXo7yAQHA9CtejBIBArkfhehRogUA0MzMzM/t/QML1KFyP9oBA4XoUrkddgEAUrkfhehqBQFyPwvUofoBApHA9CtdqgEDsUbgehVeAQEjhehSug39ADnTaQKdJgEB3d3d3d9GAQOF6FK5HWYFACtejcD0wgkD2KFyPwsl9QLgehetRWIBAXI/C9SiAfUDC9Shcj+qBQB+F61G4woBAmpmZmZlPgUDNzMzMzGqAQM3MzMzMaoBA",
          "dtype": "f8"
         }
        },
        {
         "line": {
          "color": "orange",
          "dash": "dash"
         },
         "mode": "lines",
         "name": "Predicción Histórica",
         "type": "scatter",
         "x": [
          "2023-12-31T00:00:00.000000000",
          "2024-01-14T00:00:00.000000000",
          "2024-01-28T00:00:00.000000000",
          "2024-02-11T00:00:00.000000000",
          "2024-02-25T00:00:00.000000000",
          "2024-03-10T00:00:00.000000000",
          "2024-03-24T00:00:00.000000000",
          "2024-04-07T00:00:00.000000000",
          "2024-04-21T00:00:00.000000000",
          "2024-05-05T00:00:00.000000000",
          "2024-05-19T00:00:00.000000000",
          "2024-06-02T00:00:00.000000000",
          "2024-06-16T00:00:00.000000000",
          "2024-06-30T00:00:00.000000000",
          "2024-07-14T00:00:00.000000000",
          "2024-07-28T00:00:00.000000000",
          "2024-08-11T00:00:00.000000000",
          "2024-08-25T00:00:00.000000000",
          "2024-09-08T00:00:00.000000000",
          "2024-09-22T00:00:00.000000000",
          "2024-10-06T00:00:00.000000000",
          "2024-10-20T00:00:00.000000000",
          "2024-11-03T00:00:00.000000000",
          "2024-11-17T00:00:00.000000000",
          "2024-12-01T00:00:00.000000000",
          "2024-12-15T00:00:00.000000000",
          "2024-12-29T00:00:00.000000000",
          "2025-01-12T00:00:00.000000000",
          "2025-01-26T00:00:00.000000000",
          "2025-02-09T00:00:00.000000000",
          "2025-02-23T00:00:00.000000000",
          "2025-03-09T00:00:00.000000000",
          "2025-03-23T00:00:00.000000000",
          "2025-04-06T00:00:00.000000000",
          "2025-04-20T00:00:00.000000000",
          "2025-05-04T00:00:00.000000000"
         ],
         "y": {
          "bdata": "h2eMXG+BgEDhBdpVP4GAQHQF15tkYYBAwmvFLwQyf0AjBX5rei6BQF2S1VitEoBAU2ucRRqEgEBW6ztyVhh/QAu96P6llYBALJT9M83sgEBqvuO0VjGAQKB7RcsP4IBAmtEdO/X+gECg7yx1HViBQA/9gK48LYBAoWKe2B4/gEA5NXNY4uOAQKRv/zni0IBAkC+i849vf0BC25d/LUyBQPHEnlhgZYBAaJEq3Jx3gEDqXek5e5WAQOKAs0b+WYBAk/c7r/RDgEDQD4HyuD+AQEaX44AI2YBA3qLv7AfUgEAa83evjwmBQGc9BVBTgoBAxIsX6+XnfUBoOSpqAVSBQGgFZw/oAIBADKSJBJ50gUAoO8N9/mKAQKZ84cQyfYBA",
          "dtype": "f8"
         }
        },
        {
         "line": {
          "color": "red",
          "dash": "dot"
         },
         "mode": "lines",
         "name": "Pronóstico Futuro",
         "type": "scatter",
         "x": [
          "2025-05-11T00:00:00.000000000",
          "2025-05-25T00:00:00.000000000",
          "2025-06-08T00:00:00.000000000",
          "2025-06-22T00:00:00.000000000",
          "2025-07-06T00:00:00.000000000",
          "2025-07-20T00:00:00.000000000",
          "2025-08-03T00:00:00.000000000",
          "2025-08-17T00:00:00.000000000",
          "2025-08-31T00:00:00.000000000",
          "2025-09-14T00:00:00.000000000",
          "2025-09-28T00:00:00.000000000",
          "2025-10-12T00:00:00.000000000"
         ],
         "y": {
          "bdata": "QIGtOmSEgEAaJ3GRoXKAQGHR2sPsioBAmFYwBVp7gECS+F+tVYWAQJQaFmfvfoBAdFaLmQmDgEBmdgtiaICAQHjV3fAXgoBALauvSwOBgEBPccqitIGAQAZMN/RCgYBA",
          "dtype": "f8"
         }
        },
        {
         "fill": "toself",
         "fillcolor": "rgba(255,0,0,0.1)",
         "hoverinfo": "skip",
         "line": {
          "color": "rgba(255,255,255,0)"
         },
         "name": "Intervalo de Confianza",
         "showlegend": false,
         "type": "scatter",
         "x": [
          "2025-05-11T00:00:00",
          "2025-05-25T00:00:00",
          "2025-06-08T00:00:00",
          "2025-06-22T00:00:00",
          "2025-07-06T00:00:00",
          "2025-07-20T00:00:00",
          "2025-08-03T00:00:00",
          "2025-08-17T00:00:00",
          "2025-08-31T00:00:00",
          "2025-09-14T00:00:00",
          "2025-09-28T00:00:00",
          "2025-10-12T00:00:00",
          "2025-10-12T00:00:00",
          "2025-09-28T00:00:00",
          "2025-09-14T00:00:00",
          "2025-08-31T00:00:00",
          "2025-08-17T00:00:00",
          "2025-08-03T00:00:00",
          "2025-07-20T00:00:00",
          "2025-07-06T00:00:00",
          "2025-06-22T00:00:00",
          "2025-06-08T00:00:00",
          "2025-05-25T00:00:00",
          "2025-05-11T00:00:00"
         ],
         "y": [
          581.4038340483261,
          578.9617797588409,
          582.3021687321341,
          580.1608507303304,
          581.5335180518633,
          580.65358542438,
          581.2176561331114,
          580.856065081125,
          581.0878588737343,
          580.939270124104,
          581.0345212361728,
          580.973461604317,
          475.34192313080484,
          475.39188101141417,
          475.31394828335783,
          475.4355208966916,
          475.24587143001145,
          475.5417186543639,
          475.08020625631093,
          475.8001511333427,
          474.6770596884521,
          476.4290471444733,
          473.6960016208698,
          475.69404603953956
         ]
        }
       ],
       "layout": {
        "legend": {
         "orientation": "h",
         "x": 0.5,
         "xanchor": "center",
         "y": 1.02,
         "yanchor": "bottom"
        },
        "template": {
         "data": {
          "bar": [
           {
            "error_x": {
             "color": "#2a3f5f"
            },
            "error_y": {
             "color": "#2a3f5f"
            },
            "marker": {
             "line": {
              "color": "white",
              "width": 0.5
             },
             "pattern": {
              "fillmode": "overlay",
              "size": 10,
              "solidity": 0.2
             }
            },
            "type": "bar"
           }
          ],
          "barpolar": [
           {
            "marker": {
             "line": {
              "color": "white",
              "width": 0.5
             },
             "pattern": {
              "fillmode": "overlay",
              "size": 10,
              "solidity": 0.2
             }
            },
            "type": "barpolar"
           }
          ],
          "carpet": [
           {
            "aaxis": {
             "endlinecolor": "#2a3f5f",
             "gridcolor": "#C8D4E3",
             "linecolor": "#C8D4E3",
             "minorgridcolor": "#C8D4E3",
             "startlinecolor": "#2a3f5f"
            },
            "baxis": {
             "endlinecolor": "#2a3f5f",
             "gridcolor": "#C8D4E3",
             "linecolor": "#C8D4E3",
             "minorgridcolor": "#C8D4E3",
             "startlinecolor": "#2a3f5f"
            },
            "type": "carpet"
           }
          ],
          "choropleth": [
           {
            "colorbar": {
             "outlinewidth": 0,
             "ticks": ""
            },
            "type": "choropleth"
           }
          ],
          "contour": [
           {
            "colorbar": {
             "outlinewidth": 0,
             "ticks": ""
            },
            "colorscale": [
             [
              0,
              "#0d0887"
             ],
             [
              0.1111111111111111,
              "#46039f"
             ],
             [
              0.2222222222222222,
              "#7201a8"
             ],
             [
              0.3333333333333333,
              "#9c179e"
             ],
             [
              0.4444444444444444,
              "#bd3786"
             ],
             [
              0.5555555555555556,
              "#d8576b"
             ],
             [
              0.6666666666666666,
              "#ed7953"
             ],
             [
              0.7777777777777778,
              "#fb9f3a"
             ],
             [
              0.8888888888888888,
              "#fdca26"
             ],
             [
              1,
              "#f0f921"
             ]
            ],
            "type": "contour"
           }
          ],
          "contourcarpet": [
           {
            "colorbar": {
             "outlinewidth": 0,
             "ticks": ""
            },
            "type": "contourcarpet"
           }
          ],
          "heatmap": [
           {
            "colorbar": {
             "outlinewidth": 0,
             "ticks": ""
            },
            "colorscale": [
             [
              0,
              "#0d0887"
             ],
             [
              0.1111111111111111,
              "#46039f"
             ],
             [
              0.2222222222222222,
              "#7201a8"
             ],
             [
              0.3333333333333333,
              "#9c179e"
             ],
             [
              0.4444444444444444,
              "#bd3786"
             ],
             [
              0.5555555555555556,
              "#d8576b"
             ],
             [
              0.6666666666666666,
              "#ed7953"
             ],
             [
              0.7777777777777778,
              "#fb9f3a"
             ],
             [
              0.8888888888888888,
              "#fdca26"
             ],
             [
              1,
              "#f0f921"
             ]
            ],
            "type": "heatmap"
           }
          ],
          "histogram": [
           {
            "marker": {
             "pattern": {
              "fillmode": "overlay",
              "size": 10,
              "solidity": 0.2
             }
            },
            "type": "histogram"
           }
          ],
          "histogram2d": [
           {
            "colorbar": {
             "outlinewidth": 0,
             "ticks": ""
            },
            "colorscale": [
             [
              0,
              "#0d0887"
             ],
             [
              0.1111111111111111,
              "#46039f"
             ],
             [
              0.2222222222222222,
              "#7201a8"
             ],
             [
              0.3333333333333333,
              "#9c179e"
             ],
             [
              0.4444444444444444,
              "#bd3786"
             ],
             [
              0.5555555555555556,
              "#d8576b"
             ],
             [
              0.6666666666666666,
              "#ed7953"
             ],
             [
              0.7777777777777778,
              "#fb9f3a"
             ],
             [
              0.8888888888888888,
              "#fdca26"
             ],
             [
              1,
              "#f0f921"
             ]
            ],
            "type": "histogram2d"
           }
          ],
          "histogram2dcontour": [
           {
            "colorbar": {
             "outlinewidth": 0,
             "ticks": ""
            },
            "colorscale": [
             [
              0,
              "#0d0887"
             ],
             [
              0.1111111111111111,
              "#46039f"
             ],
             [
              0.2222222222222222,
              "#7201a8"
             ],
             [
              0.3333333333333333,
              "#9c179e"
             ],
             [
              0.4444444444444444,
              "#bd3786"
             ],
             [
              0.5555555555555556,
              "#d8576b"
             ],
             [
              0.6666666666666666,
              "#ed7953"
             ],
             [
              0.7777777777777778,
              "#fb9f3a"
             ],
             [
              0.8888888888888888,
              "#fdca26"
             ],
             [
              1,
              "#f0f921"
             ]
            ],
            "type": "histogram2dcontour"
           }
          ],
          "mesh3d": [
           {
            "colorbar": {
             "outlinewidth": 0,
             "ticks": ""
            },
            "type": "mesh3d"
           }
          ],
          "parcoords": [
           {
            "line": {
             "colorbar": {
              "outlinewidth": 0,
              "ticks": ""
             }
            },
            "type": "parcoords"
           }
          ],
          "pie": [
           {
            "automargin": true,
            "type": "pie"
           }
          ],
          "scatter": [
           {
            "fillpattern": {
             "fillmode": "overlay",
             "size": 10,
             "solidity": 0.2
            },
            "type": "scatter"
           }
          ],
          "scatter3d": [
           {
            "line": {
             "colorbar": {
              "outlinewidth": 0,
              "ticks": ""
             }
            },
            "marker": {
             "colorbar": {
              "outlinewidth": 0,
              "ticks": ""
             }
            },
            "type": "scatter3d"
           }
          ],
          "scattercarpet": [
           {
            "marker": {
             "colorbar": {
              "outlinewidth": 0,
              "ticks": ""
             }
            },
            "type": "scattercarpet"
           }
          ],
          "scattergeo": [
           {
            "marker": {
             "colorbar": {
              "outlinewidth": 0,
              "ticks": ""
             }
            },
            "type": "scattergeo"
           }
          ],
          "scattergl": [
           {
            "marker": {
             "colorbar": {
              "outlinewidth": 0,
              "ticks": ""
             }
            },
            "type": "scattergl"
           }
          ],
          "scattermap": [
           {
            "marker": {
             "colorbar": {
              "outlinewidth": 0,
              "ticks": ""
             }
            },
            "type": "scattermap"
           }
          ],
          "scattermapbox": [
           {
            "marker": {
             "colorbar": {
              "outlinewidth": 0,
              "ticks": ""
             }
            },
            "type": "scattermapbox"
           }
          ],
          "scatterpolar": [
           {
            "marker": {
             "colorbar": {
              "outlinewidth": 0,
              "ticks": ""
             }
            },
            "type": "scatterpolar"
           }
          ],
          "scatterpolargl": [
           {
            "marker": {
             "colorbar": {
              "outlinewidth": 0,
              "ticks": ""
             }
            },
            "type": "scatterpolargl"
           }
          ],
          "scatterternary": [
           {
            "marker": {
             "colorbar": {
              "outlinewidth": 0,
              "ticks": ""
             }
            },
            "type": "scatterternary"
           }
          ],
          "surface": [
           {
            "colorbar": {
             "outlinewidth": 0,
             "ticks": ""
            },
            "colorscale": [
             [
              0,
              "#0d0887"
             ],
             [
              0.1111111111111111,
              "#46039f"
             ],
             [
              0.2222222222222222,
              "#7201a8"
             ],
             [
              0.3333333333333333,
              "#9c179e"
             ],
             [
              0.4444444444444444,
              "#bd3786"
             ],
             [
              0.5555555555555556,
              "#d8576b"
             ],
             [
              0.6666666666666666,
              "#ed7953"
             ],
             [
              0.7777777777777778,
              "#fb9f3a"
             ],
             [
              0.8888888888888888,
              "#fdca26"
             ],
             [
              1,
              "#f0f921"
             ]
            ],
            "type": "surface"
           }
          ],
          "table": [
           {
            "cells": {
             "fill": {
              "color": "#EBF0F8"
             },
             "line": {
              "color": "white"
             }
            },
            "header": {
             "fill": {
              "color": "#C8D4E3"
             },
             "line": {
              "color": "white"
             }
            },
            "type": "table"
           }
          ]
         },
         "layout": {
          "annotationdefaults": {
           "arrowcolor": "#2a3f5f",
           "arrowhead": 0,
           "arrowwidth": 1
          },
          "autotypenumbers": "strict",
          "coloraxis": {
           "colorbar": {
            "outlinewidth": 0,
            "ticks": ""
           }
          },
          "colorscale": {
           "diverging": [
            [
             0,
             "#8e0152"
            ],
            [
             0.1,
             "#c51b7d"
            ],
            [
             0.2,
             "#de77ae"
            ],
            [
             0.3,
             "#f1b6da"
            ],
            [
             0.4,
             "#fde0ef"
            ],
            [
             0.5,
             "#f7f7f7"
            ],
            [
             0.6,
             "#e6f5d0"
            ],
            [
             0.7,
             "#b8e186"
            ],
            [
             0.8,
             "#7fbc41"
            ],
            [
             0.9,
             "#4d9221"
            ],
            [
             1,
             "#276419"
            ]
           ],
           "sequential": [
            [
             0,
             "#0d0887"
            ],
            [
             0.1111111111111111,
             "#46039f"
            ],
            [
             0.2222222222222222,
             "#7201a8"
            ],
            [
             0.3333333333333333,
             "#9c179e"
            ],
            [
             0.4444444444444444,
             "#bd3786"
            ],
            [
             0.5555555555555556,
             "#d8576b"
            ],
            [
             0.6666666666666666,
             "#ed7953"
            ],
            [
             0.7777777777777778,
             "#fb9f3a"
            ],
            [
             0.8888888888888888,
             "#fdca26"
            ],
            [
             1,
             "#f0f921"
            ]
           ],
           "sequentialminus": [
            [
             0,
             "#0d0887"
            ],
            [
             0.1111111111111111,
             "#46039f"
            ],
            [
             0.2222222222222222,
             "#7201a8"
            ],
            [
             0.3333333333333333,
             "#9c179e"
            ],
            [
             0.4444444444444444,
             "#bd3786"
            ],
            [
             0.5555555555555556,
             "#d8576b"
            ],
            [
             0.6666666666666666,
             "#ed7953"
            ],
            [
             0.7777777777777778,
             "#fb9f3a"
            ],
            [
             0.8888888888888888,
             "#fdca26"
            ],
            [
             1,
             "#f0f921"
            ]
           ]
          },
          "colorway": [
           "#636efa",
           "#EF553B",
           "#00cc96",
           "#ab63fa",
           "#FFA15A",
           "#19d3f3",
           "#FF6692",
           "#B6E880",
           "#FF97FF",
           "#FECB52"
          ],
          "font": {
           "color": "#2a3f5f"
          },
          "geo": {
           "bgcolor": "white",
           "lakecolor": "white",
           "landcolor": "white",
           "showlakes": true,
           "showland": true,
           "subunitcolor": "#C8D4E3"
          },
          "hoverlabel": {
           "align": "left"
          },
          "hovermode": "closest",
          "mapbox": {
           "style": "light"
          },
          "paper_bgcolor": "white",
          "plot_bgcolor": "white",
          "polar": {
           "angularaxis": {
            "gridcolor": "#EBF0F8",
            "linecolor": "#EBF0F8",
            "ticks": ""
           },
           "bgcolor": "white",
           "radialaxis": {
            "gridcolor": "#EBF0F8",
            "linecolor": "#EBF0F8",
            "ticks": ""
           }
          },
          "scene": {
           "xaxis": {
            "backgroundcolor": "white",
            "gridcolor": "#DFE8F3",
            "gridwidth": 2,
            "linecolor": "#EBF0F8",
            "showbackground": true,
            "ticks": "",
            "zerolinecolor": "#EBF0F8"
           },
           "yaxis": {
            "backgroundcolor": "white",
            "gridcolor": "#DFE8F3",
            "gridwidth": 2,
            "linecolor": "#EBF0F8",
            "showbackground": true,
            "ticks": "",
            "zerolinecolor": "#EBF0F8"
           },
           "zaxis": {
            "backgroundcolor": "white",
            "gridcolor": "#DFE8F3",
            "gridwidth": 2,
            "linecolor": "#EBF0F8",
            "showbackground": true,
            "ticks": "",
            "zerolinecolor": "#EBF0F8"
           }
          },
          "shapedefaults": {
           "line": {
            "color": "#2a3f5f"
           }
          },
          "ternary": {
           "aaxis": {
            "gridcolor": "#DFE8F3",
            "linecolor": "#A2B1C6",
            "ticks": ""
           },
           "baxis": {
            "gridcolor": "#DFE8F3",
            "linecolor": "#A2B1C6",
            "ticks": ""
           },
           "bgcolor": "white",
           "caxis": {
            "gridcolor": "#DFE8F3",
            "linecolor": "#A2B1C6",
            "ticks": ""
           }
          },
          "title": {
           "x": 0.05
          },
          "xaxis": {
           "automargin": true,
           "gridcolor": "#EBF0F8",
           "linecolor": "#EBF0F8",
           "ticks": "",
           "title": {
            "standoff": 15
           },
           "zerolinecolor": "#EBF0F8",
           "zerolinewidth": 2
          },
          "yaxis": {
           "automargin": true,
           "gridcolor": "#EBF0F8",
           "linecolor": "#EBF0F8",
           "ticks": "",
           "title": {
            "standoff": 15
           },
           "zerolinecolor": "#EBF0F8",
           "zerolinewidth": 2
          }
         }
        },
        "title": {
         "text": "Pronóstico y Ajuste de Horas Extra para Inventory con Modelo ARIMA"
        },
        "xaxis": {
         "title": {
          "text": "Fecha"
         }
        },
        "yaxis": {
         "title": {
          "text": "Horas Extra"
         }
        }
       }
      }
     },
     "metadata": {},
     "output_type": "display_data"
    },
    {
     "name": "stderr",
     "output_type": "stream",
     "text": [
      "2025-08-09 15:49:44,859 - INFO - Columnas disponibles en df_all_data para Marketing: ['department', 'ds', 'y']\n",
      "2025-08-09 15:49:44,867 - WARNING - future_forecast para Marketing comienza en 2025-05-11 00:00:00 cuando debería ser después de 2025-05-04 00:00:00\n",
      "2025-08-09 15:49:44,875 - INFO - Rango de fechas en future_data para Marketing: 2025-05-11 00:00:00 a 2025-10-12 00:00:00\n"
     ]
    },
    {
     "data": {
      "application/vnd.plotly.v1+json": {
       "config": {
        "plotlyServerURL": "https://plot.ly"
       },
       "data": [
        {
         "line": {
          "color": "blue"
         },
         "mode": "lines",
         "name": "Histórico Real",
         "type": "scatter",
         "x": [
          "2023-12-31T00:00:00.000000000",
          "2024-01-14T00:00:00.000000000",
          "2024-01-28T00:00:00.000000000",
          "2024-02-11T00:00:00.000000000",
          "2024-02-25T00:00:00.000000000",
          "2024-03-10T00:00:00.000000000",
          "2024-03-24T00:00:00.000000000",
          "2024-04-07T00:00:00.000000000",
          "2024-04-21T00:00:00.000000000",
          "2024-05-05T00:00:00.000000000",
          "2024-05-19T00:00:00.000000000",
          "2024-06-02T00:00:00.000000000",
          "2024-06-16T00:00:00.000000000",
          "2024-06-30T00:00:00.000000000",
          "2024-07-14T00:00:00.000000000",
          "2024-07-28T00:00:00.000000000",
          "2024-08-11T00:00:00.000000000",
          "2024-08-25T00:00:00.000000000",
          "2024-09-08T00:00:00.000000000",
          "2024-09-22T00:00:00.000000000",
          "2024-10-06T00:00:00.000000000",
          "2024-10-20T00:00:00.000000000",
          "2024-11-03T00:00:00.000000000",
          "2024-11-17T00:00:00.000000000",
          "2024-12-01T00:00:00.000000000",
          "2024-12-15T00:00:00.000000000",
          "2024-12-29T00:00:00.000000000",
          "2025-01-12T00:00:00.000000000",
          "2025-01-26T00:00:00.000000000",
          "2025-02-09T00:00:00.000000000",
          "2025-02-23T00:00:00.000000000",
          "2025-03-09T00:00:00.000000000",
          "2025-03-23T00:00:00.000000000",
          "2025-04-06T00:00:00.000000000",
          "2025-04-20T00:00:00.000000000",
          "2025-05-04T00:00:00.000000000"
         ],
         "y": {
          "bdata": "AAAAAAAA+H8Urkfhevh4QB6F61G4FntA4noUrkcJfUCuR+F6FF53QFyPwvUojHtAKVyPwvVYe0B7FK5H4dZ4QK5H4XoU/npAPgrXo3BJgECF61G4HmF8QArXo3A9Pn9AcD0K16NIf0DXo3A9Cmt/QGZmZmZmFntA4noUrkcRfUCF61G4HhF+QArXo3A9nnpAHoXrUbiWe0DXo3A9Crd8QHwUrkfhNn9AhetRuB6pe0DiehSuRyl/QM3MzMzMMHxAKVyPwvWYgUAAAAAAAOx/QK5H4XoUpnxAhetRuB4LgEC4HoXrURR2QAAAAAAATH9A4noUrkdFfEBcj8L1KHh6QGZmZmZmzn9AFK5H4XoCgEDYo3A9CnN+QNijcD0Kc35A",
          "dtype": "f8"
         }
        },
        {
         "line": {
          "color": "orange",
          "dash": "dash"
         },
         "mode": "lines",
         "name": "Predicción Histórica",
         "type": "scatter",
         "x": [
          "2023-12-31T00:00:00.000000000",
          "2024-01-14T00:00:00.000000000",
          "2024-01-28T00:00:00.000000000",
          "2024-02-11T00:00:00.000000000",
          "2024-02-25T00:00:00.000000000",
          "2024-03-10T00:00:00.000000000",
          "2024-03-24T00:00:00.000000000",
          "2024-04-07T00:00:00.000000000",
          "2024-04-21T00:00:00.000000000",
          "2024-05-05T00:00:00.000000000",
          "2024-05-19T00:00:00.000000000",
          "2024-06-02T00:00:00.000000000",
          "2024-06-16T00:00:00.000000000",
          "2024-06-30T00:00:00.000000000",
          "2024-07-14T00:00:00.000000000",
          "2024-07-28T00:00:00.000000000",
          "2024-08-11T00:00:00.000000000",
          "2024-08-25T00:00:00.000000000",
          "2024-09-08T00:00:00.000000000",
          "2024-09-22T00:00:00.000000000",
          "2024-10-06T00:00:00.000000000",
          "2024-10-20T00:00:00.000000000",
          "2024-11-03T00:00:00.000000000",
          "2024-11-17T00:00:00.000000000",
          "2024-12-01T00:00:00.000000000",
          "2024-12-15T00:00:00.000000000",
          "2024-12-29T00:00:00.000000000",
          "2025-01-12T00:00:00.000000000",
          "2025-01-26T00:00:00.000000000",
          "2025-02-09T00:00:00.000000000",
          "2025-02-23T00:00:00.000000000",
          "2025-03-09T00:00:00.000000000",
          "2025-03-23T00:00:00.000000000",
          "2025-04-06T00:00:00.000000000",
          "2025-04-20T00:00:00.000000000",
          "2025-05-04T00:00:00.000000000"
         ],
         "y": {
          "bdata": "HhRo9j98fkB45X36kDl8QEFwNT1iaHpAMC6UHIzHfEA3JarUNgx4QH9Mo36SSntAm5mx186JekDUOQYKiol5QBFbz3QPxXxACrTyRrpqfUDr4cLTDrx8QEuu7sK5qnxAF8/F2T3ef0CnOiBTE4B9QEkgjOe5mHtAvvUa1PsRfkDlWv85Sx95QA4o3s6YgXxAhHZNJiK3e0BYvxw7bqp6QOEhvVRTCX5AiYsUHhO1fkAq8ypGkf19QDYJ6UpQ6n1ABz8d3x2ggEBFgCKtlcZ+QP5IyJERyXxAn4Lxi2tcf0CXLDagXzJ6QI1R8RufuH1Al4s2c3XkfEA7d61qUst7QGClPTGXTX9AHf7L8Gv/f0CAY4i2Ez9/QFuf/c/mKX9A",
          "dtype": "f8"
         }
        },
        {
         "line": {
          "color": "red",
          "dash": "dot"
         },
         "mode": "lines",
         "name": "Pronóstico Futuro",
         "type": "scatter",
         "x": [
          "2025-05-11T00:00:00.000000000",
          "2025-05-25T00:00:00.000000000",
          "2025-06-08T00:00:00.000000000",
          "2025-06-22T00:00:00.000000000",
          "2025-07-06T00:00:00.000000000",
          "2025-07-20T00:00:00.000000000",
          "2025-08-03T00:00:00.000000000",
          "2025-08-17T00:00:00.000000000",
          "2025-08-31T00:00:00.000000000",
          "2025-09-14T00:00:00.000000000",
          "2025-09-28T00:00:00.000000000",
          "2025-10-12T00:00:00.000000000"
         ],
         "y": {
          "bdata": "twh50BxRgUC2GUECjAaAQE5UeTlp+X1AmV56oG1TgEC/E5ADdEV7QOZ+gWml735ADkZgv8gRfkAvQ8uZNux8QJdcR4ftSIBAho0xYuKkgEBihX8TS0CAQLuU7aq+NIBA",
          "dtype": "f8"
         }
        },
        {
         "fill": "toself",
         "fillcolor": "rgba(255,0,0,0.1)",
         "hoverinfo": "skip",
         "line": {
          "color": "rgba(255,255,255,0)"
         },
         "name": "Intervalo de Confianza",
         "showlegend": false,
         "type": "scatter",
         "x": [
          "2025-05-11T00:00:00",
          "2025-05-25T00:00:00",
          "2025-06-08T00:00:00",
          "2025-06-22T00:00:00",
          "2025-07-06T00:00:00",
          "2025-07-20T00:00:00",
          "2025-08-03T00:00:00",
          "2025-08-17T00:00:00",
          "2025-08-31T00:00:00",
          "2025-09-14T00:00:00",
          "2025-09-28T00:00:00",
          "2025-10-12T00:00:00",
          "2025-10-12T00:00:00",
          "2025-09-28T00:00:00",
          "2025-09-14T00:00:00",
          "2025-08-31T00:00:00",
          "2025-08-17T00:00:00",
          "2025-08-03T00:00:00",
          "2025-07-20T00:00:00",
          "2025-07-06T00:00:00",
          "2025-06-22T00:00:00",
          "2025-06-08T00:00:00",
          "2025-05-25T00:00:00",
          "2025-05-11T00:00:00"
         ],
         "y": [
          609.5529764558185,
          564.1002000422067,
          527.5470085347528,
          574.6713816181308,
          479.9749060812773,
          544.475672203471,
          529.2226616989859,
          509.0396632894452,
          573.2275787480015,
          585.8715927370497,
          572.0403241118277,
          570.4524094025721,
          466.7337895111954,
          468.03299245513176,
          479.349484966677,
          469.0043826120012,
          416.4869972368188,
          433.00035957189755,
          445.4800954392035,
          392.7067413392269,
          470.1856758693797,
          431.62937061934315,
          461.53652730726,
          498.7251625547606
         ]
        }
       ],
       "layout": {
        "legend": {
         "orientation": "h",
         "x": 0.5,
         "xanchor": "center",
         "y": 1.02,
         "yanchor": "bottom"
        },
        "template": {
         "data": {
          "bar": [
           {
            "error_x": {
             "color": "#2a3f5f"
            },
            "error_y": {
             "color": "#2a3f5f"
            },
            "marker": {
             "line": {
              "color": "white",
              "width": 0.5
             },
             "pattern": {
              "fillmode": "overlay",
              "size": 10,
              "solidity": 0.2
             }
            },
            "type": "bar"
           }
          ],
          "barpolar": [
           {
            "marker": {
             "line": {
              "color": "white",
              "width": 0.5
             },
             "pattern": {
              "fillmode": "overlay",
              "size": 10,
              "solidity": 0.2
             }
            },
            "type": "barpolar"
           }
          ],
          "carpet": [
           {
            "aaxis": {
             "endlinecolor": "#2a3f5f",
             "gridcolor": "#C8D4E3",
             "linecolor": "#C8D4E3",
             "minorgridcolor": "#C8D4E3",
             "startlinecolor": "#2a3f5f"
            },
            "baxis": {
             "endlinecolor": "#2a3f5f",
             "gridcolor": "#C8D4E3",
             "linecolor": "#C8D4E3",
             "minorgridcolor": "#C8D4E3",
             "startlinecolor": "#2a3f5f"
            },
            "type": "carpet"
           }
          ],
          "choropleth": [
           {
            "colorbar": {
             "outlinewidth": 0,
             "ticks": ""
            },
            "type": "choropleth"
           }
          ],
          "contour": [
           {
            "colorbar": {
             "outlinewidth": 0,
             "ticks": ""
            },
            "colorscale": [
             [
              0,
              "#0d0887"
             ],
             [
              0.1111111111111111,
              "#46039f"
             ],
             [
              0.2222222222222222,
              "#7201a8"
             ],
             [
              0.3333333333333333,
              "#9c179e"
             ],
             [
              0.4444444444444444,
              "#bd3786"
             ],
             [
              0.5555555555555556,
              "#d8576b"
             ],
             [
              0.6666666666666666,
              "#ed7953"
             ],
             [
              0.7777777777777778,
              "#fb9f3a"
             ],
             [
              0.8888888888888888,
              "#fdca26"
             ],
             [
              1,
              "#f0f921"
             ]
            ],
            "type": "contour"
           }
          ],
          "contourcarpet": [
           {
            "colorbar": {
             "outlinewidth": 0,
             "ticks": ""
            },
            "type": "contourcarpet"
           }
          ],
          "heatmap": [
           {
            "colorbar": {
             "outlinewidth": 0,
             "ticks": ""
            },
            "colorscale": [
             [
              0,
              "#0d0887"
             ],
             [
              0.1111111111111111,
              "#46039f"
             ],
             [
              0.2222222222222222,
              "#7201a8"
             ],
             [
              0.3333333333333333,
              "#9c179e"
             ],
             [
              0.4444444444444444,
              "#bd3786"
             ],
             [
              0.5555555555555556,
              "#d8576b"
             ],
             [
              0.6666666666666666,
              "#ed7953"
             ],
             [
              0.7777777777777778,
              "#fb9f3a"
             ],
             [
              0.8888888888888888,
              "#fdca26"
             ],
             [
              1,
              "#f0f921"
             ]
            ],
            "type": "heatmap"
           }
          ],
          "histogram": [
           {
            "marker": {
             "pattern": {
              "fillmode": "overlay",
              "size": 10,
              "solidity": 0.2
             }
            },
            "type": "histogram"
           }
          ],
          "histogram2d": [
           {
            "colorbar": {
             "outlinewidth": 0,
             "ticks": ""
            },
            "colorscale": [
             [
              0,
              "#0d0887"
             ],
             [
              0.1111111111111111,
              "#46039f"
             ],
             [
              0.2222222222222222,
              "#7201a8"
             ],
             [
              0.3333333333333333,
              "#9c179e"
             ],
             [
              0.4444444444444444,
              "#bd3786"
             ],
             [
              0.5555555555555556,
              "#d8576b"
             ],
             [
              0.6666666666666666,
              "#ed7953"
             ],
             [
              0.7777777777777778,
              "#fb9f3a"
             ],
             [
              0.8888888888888888,
              "#fdca26"
             ],
             [
              1,
              "#f0f921"
             ]
            ],
            "type": "histogram2d"
           }
          ],
          "histogram2dcontour": [
           {
            "colorbar": {
             "outlinewidth": 0,
             "ticks": ""
            },
            "colorscale": [
             [
              0,
              "#0d0887"
             ],
             [
              0.1111111111111111,
              "#46039f"
             ],
             [
              0.2222222222222222,
              "#7201a8"
             ],
             [
              0.3333333333333333,
              "#9c179e"
             ],
             [
              0.4444444444444444,
              "#bd3786"
             ],
             [
              0.5555555555555556,
              "#d8576b"
             ],
             [
              0.6666666666666666,
              "#ed7953"
             ],
             [
              0.7777777777777778,
              "#fb9f3a"
             ],
             [
              0.8888888888888888,
              "#fdca26"
             ],
             [
              1,
              "#f0f921"
             ]
            ],
            "type": "histogram2dcontour"
           }
          ],
          "mesh3d": [
           {
            "colorbar": {
             "outlinewidth": 0,
             "ticks": ""
            },
            "type": "mesh3d"
           }
          ],
          "parcoords": [
           {
            "line": {
             "colorbar": {
              "outlinewidth": 0,
              "ticks": ""
             }
            },
            "type": "parcoords"
           }
          ],
          "pie": [
           {
            "automargin": true,
            "type": "pie"
           }
          ],
          "scatter": [
           {
            "fillpattern": {
             "fillmode": "overlay",
             "size": 10,
             "solidity": 0.2
            },
            "type": "scatter"
           }
          ],
          "scatter3d": [
           {
            "line": {
             "colorbar": {
              "outlinewidth": 0,
              "ticks": ""
             }
            },
            "marker": {
             "colorbar": {
              "outlinewidth": 0,
              "ticks": ""
             }
            },
            "type": "scatter3d"
           }
          ],
          "scattercarpet": [
           {
            "marker": {
             "colorbar": {
              "outlinewidth": 0,
              "ticks": ""
             }
            },
            "type": "scattercarpet"
           }
          ],
          "scattergeo": [
           {
            "marker": {
             "colorbar": {
              "outlinewidth": 0,
              "ticks": ""
             }
            },
            "type": "scattergeo"
           }
          ],
          "scattergl": [
           {
            "marker": {
             "colorbar": {
              "outlinewidth": 0,
              "ticks": ""
             }
            },
            "type": "scattergl"
           }
          ],
          "scattermap": [
           {
            "marker": {
             "colorbar": {
              "outlinewidth": 0,
              "ticks": ""
             }
            },
            "type": "scattermap"
           }
          ],
          "scattermapbox": [
           {
            "marker": {
             "colorbar": {
              "outlinewidth": 0,
              "ticks": ""
             }
            },
            "type": "scattermapbox"
           }
          ],
          "scatterpolar": [
           {
            "marker": {
             "colorbar": {
              "outlinewidth": 0,
              "ticks": ""
             }
            },
            "type": "scatterpolar"
           }
          ],
          "scatterpolargl": [
           {
            "marker": {
             "colorbar": {
              "outlinewidth": 0,
              "ticks": ""
             }
            },
            "type": "scatterpolargl"
           }
          ],
          "scatterternary": [
           {
            "marker": {
             "colorbar": {
              "outlinewidth": 0,
              "ticks": ""
             }
            },
            "type": "scatterternary"
           }
          ],
          "surface": [
           {
            "colorbar": {
             "outlinewidth": 0,
             "ticks": ""
            },
            "colorscale": [
             [
              0,
              "#0d0887"
             ],
             [
              0.1111111111111111,
              "#46039f"
             ],
             [
              0.2222222222222222,
              "#7201a8"
             ],
             [
              0.3333333333333333,
              "#9c179e"
             ],
             [
              0.4444444444444444,
              "#bd3786"
             ],
             [
              0.5555555555555556,
              "#d8576b"
             ],
             [
              0.6666666666666666,
              "#ed7953"
             ],
             [
              0.7777777777777778,
              "#fb9f3a"
             ],
             [
              0.8888888888888888,
              "#fdca26"
             ],
             [
              1,
              "#f0f921"
             ]
            ],
            "type": "surface"
           }
          ],
          "table": [
           {
            "cells": {
             "fill": {
              "color": "#EBF0F8"
             },
             "line": {
              "color": "white"
             }
            },
            "header": {
             "fill": {
              "color": "#C8D4E3"
             },
             "line": {
              "color": "white"
             }
            },
            "type": "table"
           }
          ]
         },
         "layout": {
          "annotationdefaults": {
           "arrowcolor": "#2a3f5f",
           "arrowhead": 0,
           "arrowwidth": 1
          },
          "autotypenumbers": "strict",
          "coloraxis": {
           "colorbar": {
            "outlinewidth": 0,
            "ticks": ""
           }
          },
          "colorscale": {
           "diverging": [
            [
             0,
             "#8e0152"
            ],
            [
             0.1,
             "#c51b7d"
            ],
            [
             0.2,
             "#de77ae"
            ],
            [
             0.3,
             "#f1b6da"
            ],
            [
             0.4,
             "#fde0ef"
            ],
            [
             0.5,
             "#f7f7f7"
            ],
            [
             0.6,
             "#e6f5d0"
            ],
            [
             0.7,
             "#b8e186"
            ],
            [
             0.8,
             "#7fbc41"
            ],
            [
             0.9,
             "#4d9221"
            ],
            [
             1,
             "#276419"
            ]
           ],
           "sequential": [
            [
             0,
             "#0d0887"
            ],
            [
             0.1111111111111111,
             "#46039f"
            ],
            [
             0.2222222222222222,
             "#7201a8"
            ],
            [
             0.3333333333333333,
             "#9c179e"
            ],
            [
             0.4444444444444444,
             "#bd3786"
            ],
            [
             0.5555555555555556,
             "#d8576b"
            ],
            [
             0.6666666666666666,
             "#ed7953"
            ],
            [
             0.7777777777777778,
             "#fb9f3a"
            ],
            [
             0.8888888888888888,
             "#fdca26"
            ],
            [
             1,
             "#f0f921"
            ]
           ],
           "sequentialminus": [
            [
             0,
             "#0d0887"
            ],
            [
             0.1111111111111111,
             "#46039f"
            ],
            [
             0.2222222222222222,
             "#7201a8"
            ],
            [
             0.3333333333333333,
             "#9c179e"
            ],
            [
             0.4444444444444444,
             "#bd3786"
            ],
            [
             0.5555555555555556,
             "#d8576b"
            ],
            [
             0.6666666666666666,
             "#ed7953"
            ],
            [
             0.7777777777777778,
             "#fb9f3a"
            ],
            [
             0.8888888888888888,
             "#fdca26"
            ],
            [
             1,
             "#f0f921"
            ]
           ]
          },
          "colorway": [
           "#636efa",
           "#EF553B",
           "#00cc96",
           "#ab63fa",
           "#FFA15A",
           "#19d3f3",
           "#FF6692",
           "#B6E880",
           "#FF97FF",
           "#FECB52"
          ],
          "font": {
           "color": "#2a3f5f"
          },
          "geo": {
           "bgcolor": "white",
           "lakecolor": "white",
           "landcolor": "white",
           "showlakes": true,
           "showland": true,
           "subunitcolor": "#C8D4E3"
          },
          "hoverlabel": {
           "align": "left"
          },
          "hovermode": "closest",
          "mapbox": {
           "style": "light"
          },
          "paper_bgcolor": "white",
          "plot_bgcolor": "white",
          "polar": {
           "angularaxis": {
            "gridcolor": "#EBF0F8",
            "linecolor": "#EBF0F8",
            "ticks": ""
           },
           "bgcolor": "white",
           "radialaxis": {
            "gridcolor": "#EBF0F8",
            "linecolor": "#EBF0F8",
            "ticks": ""
           }
          },
          "scene": {
           "xaxis": {
            "backgroundcolor": "white",
            "gridcolor": "#DFE8F3",
            "gridwidth": 2,
            "linecolor": "#EBF0F8",
            "showbackground": true,
            "ticks": "",
            "zerolinecolor": "#EBF0F8"
           },
           "yaxis": {
            "backgroundcolor": "white",
            "gridcolor": "#DFE8F3",
            "gridwidth": 2,
            "linecolor": "#EBF0F8",
            "showbackground": true,
            "ticks": "",
            "zerolinecolor": "#EBF0F8"
           },
           "zaxis": {
            "backgroundcolor": "white",
            "gridcolor": "#DFE8F3",
            "gridwidth": 2,
            "linecolor": "#EBF0F8",
            "showbackground": true,
            "ticks": "",
            "zerolinecolor": "#EBF0F8"
           }
          },
          "shapedefaults": {
           "line": {
            "color": "#2a3f5f"
           }
          },
          "ternary": {
           "aaxis": {
            "gridcolor": "#DFE8F3",
            "linecolor": "#A2B1C6",
            "ticks": ""
           },
           "baxis": {
            "gridcolor": "#DFE8F3",
            "linecolor": "#A2B1C6",
            "ticks": ""
           },
           "bgcolor": "white",
           "caxis": {
            "gridcolor": "#DFE8F3",
            "linecolor": "#A2B1C6",
            "ticks": ""
           }
          },
          "title": {
           "x": 0.05
          },
          "xaxis": {
           "automargin": true,
           "gridcolor": "#EBF0F8",
           "linecolor": "#EBF0F8",
           "ticks": "",
           "title": {
            "standoff": 15
           },
           "zerolinecolor": "#EBF0F8",
           "zerolinewidth": 2
          },
          "yaxis": {
           "automargin": true,
           "gridcolor": "#EBF0F8",
           "linecolor": "#EBF0F8",
           "ticks": "",
           "title": {
            "standoff": 15
           },
           "zerolinecolor": "#EBF0F8",
           "zerolinewidth": 2
          }
         }
        },
        "title": {
         "text": "Pronóstico y Ajuste de Horas Extra para Marketing con Modelo Exponential Smoothing"
        },
        "xaxis": {
         "title": {
          "text": "Fecha"
         }
        },
        "yaxis": {
         "title": {
          "text": "Horas Extra"
         }
        }
       }
      }
     },
     "metadata": {},
     "output_type": "display_data"
    },
    {
     "name": "stderr",
     "output_type": "stream",
     "text": [
      "2025-08-09 15:49:44,981 - INFO - Columnas disponibles en df_all_data para Sales: ['department', 'ds', 'y']\n",
      "2025-08-09 15:49:44,988 - WARNING - future_forecast para Sales comienza en 2025-05-11 00:00:00 cuando debería ser después de 2025-05-04 00:00:00\n",
      "2025-08-09 15:49:45,005 - INFO - Rango de fechas en future_data para Sales: 2025-05-11 00:00:00 a 2025-10-12 00:00:00\n"
     ]
    },
    {
     "data": {
      "application/vnd.plotly.v1+json": {
       "config": {
        "plotlyServerURL": "https://plot.ly"
       },
       "data": [
        {
         "line": {
          "color": "blue"
         },
         "mode": "lines",
         "name": "Histórico Real",
         "type": "scatter",
         "x": [
          "2023-12-31T00:00:00.000000000",
          "2024-01-14T00:00:00.000000000",
          "2024-01-28T00:00:00.000000000",
          "2024-02-11T00:00:00.000000000",
          "2024-02-25T00:00:00.000000000",
          "2024-03-10T00:00:00.000000000",
          "2024-03-24T00:00:00.000000000",
          "2024-04-07T00:00:00.000000000",
          "2024-04-21T00:00:00.000000000",
          "2024-05-05T00:00:00.000000000",
          "2024-05-19T00:00:00.000000000",
          "2024-06-02T00:00:00.000000000",
          "2024-06-16T00:00:00.000000000",
          "2024-06-30T00:00:00.000000000",
          "2024-07-14T00:00:00.000000000",
          "2024-07-28T00:00:00.000000000",
          "2024-08-11T00:00:00.000000000",
          "2024-08-25T00:00:00.000000000",
          "2024-09-08T00:00:00.000000000",
          "2024-09-22T00:00:00.000000000",
          "2024-10-06T00:00:00.000000000",
          "2024-10-20T00:00:00.000000000",
          "2024-11-03T00:00:00.000000000",
          "2024-11-17T00:00:00.000000000",
          "2024-12-01T00:00:00.000000000",
          "2024-12-15T00:00:00.000000000",
          "2024-12-29T00:00:00.000000000",
          "2025-01-12T00:00:00.000000000",
          "2025-01-26T00:00:00.000000000",
          "2025-02-09T00:00:00.000000000",
          "2025-02-23T00:00:00.000000000",
          "2025-03-09T00:00:00.000000000",
          "2025-03-23T00:00:00.000000000",
          "2025-04-06T00:00:00.000000000",
          "2025-04-20T00:00:00.000000000",
          "2025-05-04T00:00:00.000000000"
         ],
         "y": {
          "bdata": "AAAAAAAA+H9mZmZmZvJ6QKRwPQrXi3pAZmZmZmYWfUAUrkfheih7QB6F61G4YnhAUrgehevtfkD2KFyPwsF/QFyPwvUo7H5Aj8L1KFwbfECPwvUoXF9/QOxRuB6F54BAAAAAAACcgEAUrkfhelCAQBSuR+F6MHtAj8L1KFz3fkAUrkfheiR+QGZmZmZmWIBApHA9Ctcze0DC9Shcjy59QIXrUbgeP4BAUrgehevNf0BmZmZmZk5/QDQzMzMz53tAUrgehet8fEBxPQrXoxJ9QJDC9ShcqH1ArkfhehQ+fkDC9Shcj756QB+F61G4Xn9AUrgehetxfEDXo3A9Cpd9QD4K16Nw4XxAH4XrUbhif0B6FK5H4TJ9QHoUrkfhMn1A",
          "dtype": "f8"
         }
        },
        {
         "line": {
          "color": "orange",
          "dash": "dash"
         },
         "mode": "lines",
         "name": "Predicción Histórica",
         "type": "scatter",
         "x": [
          "2023-12-31T00:00:00.000000000",
          "2024-01-14T00:00:00.000000000",
          "2024-01-28T00:00:00.000000000",
          "2024-02-11T00:00:00.000000000",
          "2024-02-25T00:00:00.000000000",
          "2024-03-10T00:00:00.000000000",
          "2024-03-24T00:00:00.000000000",
          "2024-04-07T00:00:00.000000000",
          "2024-04-21T00:00:00.000000000",
          "2024-05-05T00:00:00.000000000",
          "2024-05-19T00:00:00.000000000",
          "2024-06-02T00:00:00.000000000",
          "2024-06-16T00:00:00.000000000",
          "2024-06-30T00:00:00.000000000",
          "2024-07-14T00:00:00.000000000",
          "2024-07-28T00:00:00.000000000",
          "2024-08-11T00:00:00.000000000",
          "2024-08-25T00:00:00.000000000",
          "2024-09-08T00:00:00.000000000",
          "2024-09-22T00:00:00.000000000",
          "2024-10-06T00:00:00.000000000",
          "2024-10-20T00:00:00.000000000",
          "2024-11-03T00:00:00.000000000",
          "2024-11-17T00:00:00.000000000",
          "2024-12-01T00:00:00.000000000",
          "2024-12-15T00:00:00.000000000",
          "2024-12-29T00:00:00.000000000",
          "2025-01-12T00:00:00.000000000",
          "2025-01-26T00:00:00.000000000",
          "2025-02-09T00:00:00.000000000",
          "2025-02-23T00:00:00.000000000",
          "2025-03-09T00:00:00.000000000",
          "2025-03-23T00:00:00.000000000",
          "2025-04-06T00:00:00.000000000",
          "2025-04-20T00:00:00.000000000",
          "2025-05-04T00:00:00.000000000"
         ],
         "y": {
          "bdata": "/21C//ByfUAXjqVv16p8QL42JP0LlXpAn+YoSMPKfEAHA6cAU996QBlxYlCafnxAnvD7TgzGekCL9qCW+fV8QADfUrt0Kn5ApiSBAFIHfkDZs7OPbMV9QKVCYLHIuX1Ao98PyNALf0CMZu2psJZ+QDYUgs78Fn1AZShJxFYaf0CryurSUPF8QMjTnm994H5An4Y2if84fkCmYUaEPBJ/QJkELB4LXX9Ampvz2q5Jf0BKCpFCSIZ/QMZ/ZT7aGH9ARLcfHMT1fkAQMmTvQJp9QPSGOyDIrntAIFoloktrfkDfF10Sfkx8QCAPTxEJnX1AsafuFHX9fEAcyCDfXEx+QAChsxHF0H5AgAYz8HYjfkBhMNrSkoR+QEEHgYDL4n1A",
          "dtype": "f8"
         }
        },
        {
         "line": {
          "color": "red",
          "dash": "dot"
         },
         "mode": "lines",
         "name": "Pronóstico Futuro",
         "type": "scatter",
         "x": [
          "2025-05-11T00:00:00.000000000",
          "2025-05-25T00:00:00.000000000",
          "2025-06-08T00:00:00.000000000",
          "2025-06-22T00:00:00.000000000",
          "2025-07-06T00:00:00.000000000",
          "2025-07-20T00:00:00.000000000",
          "2025-08-03T00:00:00.000000000",
          "2025-08-17T00:00:00.000000000",
          "2025-08-31T00:00:00.000000000",
          "2025-09-14T00:00:00.000000000",
          "2025-09-28T00:00:00.000000000",
          "2025-10-12T00:00:00.000000000"
         ],
         "y": {
          "bdata": "qiGqIEI9fkBusS1lD2J9QOnGXAaIk3tAHlY4WUTgfUBi6UtChNN7QJI8MCdRcX1APuaYKDJ8fED46J0TIOJ9QBLPe31WiX5AGiv06t0+fkCBy0Qx9l9+QFU00MNbAX5A",
          "dtype": "f8"
         }
        },
        {
         "fill": "toself",
         "fillcolor": "rgba(255,0,0,0.1)",
         "hoverinfo": "skip",
         "line": {
          "color": "rgba(255,255,255,0)"
         },
         "name": "Intervalo de Confianza",
         "showlegend": false,
         "type": "scatter",
         "x": [
          "2025-05-11T00:00:00",
          "2025-05-25T00:00:00",
          "2025-06-08T00:00:00",
          "2025-06-22T00:00:00",
          "2025-07-06T00:00:00",
          "2025-07-20T00:00:00",
          "2025-08-03T00:00:00",
          "2025-08-17T00:00:00",
          "2025-08-31T00:00:00",
          "2025-09-14T00:00:00",
          "2025-09-28T00:00:00",
          "2025-10-12T00:00:00",
          "2025-10-12T00:00:00",
          "2025-09-28T00:00:00",
          "2025-09-14T00:00:00",
          "2025-08-31T00:00:00",
          "2025-08-17T00:00:00",
          "2025-08-03T00:00:00",
          "2025-07-20T00:00:00",
          "2025-07-06T00:00:00",
          "2025-06-22T00:00:00",
          "2025-06-08T00:00:00",
          "2025-05-25T00:00:00",
          "2025-05-11T00:00:00"
         ],
         "y": [
          532.2115088758791,
          517.141634460771,
          485.34278011193385,
          525.8183553143219,
          489.7417687665776,
          518.1905440399805,
          501.338470322599,
          525.94611432888,
          537.4419773406898,
          532.3220970622644,
          534.5973661380799,
          528.0933938928874,
          432.07641318508973,
          437.3978450220653,
          435.5362612327618,
          439.72525418783715,
          430.31954808726545,
          410.1860211730355,
          423.9740814872568,
          400.69781080901805,
          430.21501798444524,
          397.0986382734004,
          423.11588274063087,
          435.44577998935563
         ]
        }
       ],
       "layout": {
        "legend": {
         "orientation": "h",
         "x": 0.5,
         "xanchor": "center",
         "y": 1.02,
         "yanchor": "bottom"
        },
        "template": {
         "data": {
          "bar": [
           {
            "error_x": {
             "color": "#2a3f5f"
            },
            "error_y": {
             "color": "#2a3f5f"
            },
            "marker": {
             "line": {
              "color": "white",
              "width": 0.5
             },
             "pattern": {
              "fillmode": "overlay",
              "size": 10,
              "solidity": 0.2
             }
            },
            "type": "bar"
           }
          ],
          "barpolar": [
           {
            "marker": {
             "line": {
              "color": "white",
              "width": 0.5
             },
             "pattern": {
              "fillmode": "overlay",
              "size": 10,
              "solidity": 0.2
             }
            },
            "type": "barpolar"
           }
          ],
          "carpet": [
           {
            "aaxis": {
             "endlinecolor": "#2a3f5f",
             "gridcolor": "#C8D4E3",
             "linecolor": "#C8D4E3",
             "minorgridcolor": "#C8D4E3",
             "startlinecolor": "#2a3f5f"
            },
            "baxis": {
             "endlinecolor": "#2a3f5f",
             "gridcolor": "#C8D4E3",
             "linecolor": "#C8D4E3",
             "minorgridcolor": "#C8D4E3",
             "startlinecolor": "#2a3f5f"
            },
            "type": "carpet"
           }
          ],
          "choropleth": [
           {
            "colorbar": {
             "outlinewidth": 0,
             "ticks": ""
            },
            "type": "choropleth"
           }
          ],
          "contour": [
           {
            "colorbar": {
             "outlinewidth": 0,
             "ticks": ""
            },
            "colorscale": [
             [
              0,
              "#0d0887"
             ],
             [
              0.1111111111111111,
              "#46039f"
             ],
             [
              0.2222222222222222,
              "#7201a8"
             ],
             [
              0.3333333333333333,
              "#9c179e"
             ],
             [
              0.4444444444444444,
              "#bd3786"
             ],
             [
              0.5555555555555556,
              "#d8576b"
             ],
             [
              0.6666666666666666,
              "#ed7953"
             ],
             [
              0.7777777777777778,
              "#fb9f3a"
             ],
             [
              0.8888888888888888,
              "#fdca26"
             ],
             [
              1,
              "#f0f921"
             ]
            ],
            "type": "contour"
           }
          ],
          "contourcarpet": [
           {
            "colorbar": {
             "outlinewidth": 0,
             "ticks": ""
            },
            "type": "contourcarpet"
           }
          ],
          "heatmap": [
           {
            "colorbar": {
             "outlinewidth": 0,
             "ticks": ""
            },
            "colorscale": [
             [
              0,
              "#0d0887"
             ],
             [
              0.1111111111111111,
              "#46039f"
             ],
             [
              0.2222222222222222,
              "#7201a8"
             ],
             [
              0.3333333333333333,
              "#9c179e"
             ],
             [
              0.4444444444444444,
              "#bd3786"
             ],
             [
              0.5555555555555556,
              "#d8576b"
             ],
             [
              0.6666666666666666,
              "#ed7953"
             ],
             [
              0.7777777777777778,
              "#fb9f3a"
             ],
             [
              0.8888888888888888,
              "#fdca26"
             ],
             [
              1,
              "#f0f921"
             ]
            ],
            "type": "heatmap"
           }
          ],
          "histogram": [
           {
            "marker": {
             "pattern": {
              "fillmode": "overlay",
              "size": 10,
              "solidity": 0.2
             }
            },
            "type": "histogram"
           }
          ],
          "histogram2d": [
           {
            "colorbar": {
             "outlinewidth": 0,
             "ticks": ""
            },
            "colorscale": [
             [
              0,
              "#0d0887"
             ],
             [
              0.1111111111111111,
              "#46039f"
             ],
             [
              0.2222222222222222,
              "#7201a8"
             ],
             [
              0.3333333333333333,
              "#9c179e"
             ],
             [
              0.4444444444444444,
              "#bd3786"
             ],
             [
              0.5555555555555556,
              "#d8576b"
             ],
             [
              0.6666666666666666,
              "#ed7953"
             ],
             [
              0.7777777777777778,
              "#fb9f3a"
             ],
             [
              0.8888888888888888,
              "#fdca26"
             ],
             [
              1,
              "#f0f921"
             ]
            ],
            "type": "histogram2d"
           }
          ],
          "histogram2dcontour": [
           {
            "colorbar": {
             "outlinewidth": 0,
             "ticks": ""
            },
            "colorscale": [
             [
              0,
              "#0d0887"
             ],
             [
              0.1111111111111111,
              "#46039f"
             ],
             [
              0.2222222222222222,
              "#7201a8"
             ],
             [
              0.3333333333333333,
              "#9c179e"
             ],
             [
              0.4444444444444444,
              "#bd3786"
             ],
             [
              0.5555555555555556,
              "#d8576b"
             ],
             [
              0.6666666666666666,
              "#ed7953"
             ],
             [
              0.7777777777777778,
              "#fb9f3a"
             ],
             [
              0.8888888888888888,
              "#fdca26"
             ],
             [
              1,
              "#f0f921"
             ]
            ],
            "type": "histogram2dcontour"
           }
          ],
          "mesh3d": [
           {
            "colorbar": {
             "outlinewidth": 0,
             "ticks": ""
            },
            "type": "mesh3d"
           }
          ],
          "parcoords": [
           {
            "line": {
             "colorbar": {
              "outlinewidth": 0,
              "ticks": ""
             }
            },
            "type": "parcoords"
           }
          ],
          "pie": [
           {
            "automargin": true,
            "type": "pie"
           }
          ],
          "scatter": [
           {
            "fillpattern": {
             "fillmode": "overlay",
             "size": 10,
             "solidity": 0.2
            },
            "type": "scatter"
           }
          ],
          "scatter3d": [
           {
            "line": {
             "colorbar": {
              "outlinewidth": 0,
              "ticks": ""
             }
            },
            "marker": {
             "colorbar": {
              "outlinewidth": 0,
              "ticks": ""
             }
            },
            "type": "scatter3d"
           }
          ],
          "scattercarpet": [
           {
            "marker": {
             "colorbar": {
              "outlinewidth": 0,
              "ticks": ""
             }
            },
            "type": "scattercarpet"
           }
          ],
          "scattergeo": [
           {
            "marker": {
             "colorbar": {
              "outlinewidth": 0,
              "ticks": ""
             }
            },
            "type": "scattergeo"
           }
          ],
          "scattergl": [
           {
            "marker": {
             "colorbar": {
              "outlinewidth": 0,
              "ticks": ""
             }
            },
            "type": "scattergl"
           }
          ],
          "scattermap": [
           {
            "marker": {
             "colorbar": {
              "outlinewidth": 0,
              "ticks": ""
             }
            },
            "type": "scattermap"
           }
          ],
          "scattermapbox": [
           {
            "marker": {
             "colorbar": {
              "outlinewidth": 0,
              "ticks": ""
             }
            },
            "type": "scattermapbox"
           }
          ],
          "scatterpolar": [
           {
            "marker": {
             "colorbar": {
              "outlinewidth": 0,
              "ticks": ""
             }
            },
            "type": "scatterpolar"
           }
          ],
          "scatterpolargl": [
           {
            "marker": {
             "colorbar": {
              "outlinewidth": 0,
              "ticks": ""
             }
            },
            "type": "scatterpolargl"
           }
          ],
          "scatterternary": [
           {
            "marker": {
             "colorbar": {
              "outlinewidth": 0,
              "ticks": ""
             }
            },
            "type": "scatterternary"
           }
          ],
          "surface": [
           {
            "colorbar": {
             "outlinewidth": 0,
             "ticks": ""
            },
            "colorscale": [
             [
              0,
              "#0d0887"
             ],
             [
              0.1111111111111111,
              "#46039f"
             ],
             [
              0.2222222222222222,
              "#7201a8"
             ],
             [
              0.3333333333333333,
              "#9c179e"
             ],
             [
              0.4444444444444444,
              "#bd3786"
             ],
             [
              0.5555555555555556,
              "#d8576b"
             ],
             [
              0.6666666666666666,
              "#ed7953"
             ],
             [
              0.7777777777777778,
              "#fb9f3a"
             ],
             [
              0.8888888888888888,
              "#fdca26"
             ],
             [
              1,
              "#f0f921"
             ]
            ],
            "type": "surface"
           }
          ],
          "table": [
           {
            "cells": {
             "fill": {
              "color": "#EBF0F8"
             },
             "line": {
              "color": "white"
             }
            },
            "header": {
             "fill": {
              "color": "#C8D4E3"
             },
             "line": {
              "color": "white"
             }
            },
            "type": "table"
           }
          ]
         },
         "layout": {
          "annotationdefaults": {
           "arrowcolor": "#2a3f5f",
           "arrowhead": 0,
           "arrowwidth": 1
          },
          "autotypenumbers": "strict",
          "coloraxis": {
           "colorbar": {
            "outlinewidth": 0,
            "ticks": ""
           }
          },
          "colorscale": {
           "diverging": [
            [
             0,
             "#8e0152"
            ],
            [
             0.1,
             "#c51b7d"
            ],
            [
             0.2,
             "#de77ae"
            ],
            [
             0.3,
             "#f1b6da"
            ],
            [
             0.4,
             "#fde0ef"
            ],
            [
             0.5,
             "#f7f7f7"
            ],
            [
             0.6,
             "#e6f5d0"
            ],
            [
             0.7,
             "#b8e186"
            ],
            [
             0.8,
             "#7fbc41"
            ],
            [
             0.9,
             "#4d9221"
            ],
            [
             1,
             "#276419"
            ]
           ],
           "sequential": [
            [
             0,
             "#0d0887"
            ],
            [
             0.1111111111111111,
             "#46039f"
            ],
            [
             0.2222222222222222,
             "#7201a8"
            ],
            [
             0.3333333333333333,
             "#9c179e"
            ],
            [
             0.4444444444444444,
             "#bd3786"
            ],
            [
             0.5555555555555556,
             "#d8576b"
            ],
            [
             0.6666666666666666,
             "#ed7953"
            ],
            [
             0.7777777777777778,
             "#fb9f3a"
            ],
            [
             0.8888888888888888,
             "#fdca26"
            ],
            [
             1,
             "#f0f921"
            ]
           ],
           "sequentialminus": [
            [
             0,
             "#0d0887"
            ],
            [
             0.1111111111111111,
             "#46039f"
            ],
            [
             0.2222222222222222,
             "#7201a8"
            ],
            [
             0.3333333333333333,
             "#9c179e"
            ],
            [
             0.4444444444444444,
             "#bd3786"
            ],
            [
             0.5555555555555556,
             "#d8576b"
            ],
            [
             0.6666666666666666,
             "#ed7953"
            ],
            [
             0.7777777777777778,
             "#fb9f3a"
            ],
            [
             0.8888888888888888,
             "#fdca26"
            ],
            [
             1,
             "#f0f921"
            ]
           ]
          },
          "colorway": [
           "#636efa",
           "#EF553B",
           "#00cc96",
           "#ab63fa",
           "#FFA15A",
           "#19d3f3",
           "#FF6692",
           "#B6E880",
           "#FF97FF",
           "#FECB52"
          ],
          "font": {
           "color": "#2a3f5f"
          },
          "geo": {
           "bgcolor": "white",
           "lakecolor": "white",
           "landcolor": "white",
           "showlakes": true,
           "showland": true,
           "subunitcolor": "#C8D4E3"
          },
          "hoverlabel": {
           "align": "left"
          },
          "hovermode": "closest",
          "mapbox": {
           "style": "light"
          },
          "paper_bgcolor": "white",
          "plot_bgcolor": "white",
          "polar": {
           "angularaxis": {
            "gridcolor": "#EBF0F8",
            "linecolor": "#EBF0F8",
            "ticks": ""
           },
           "bgcolor": "white",
           "radialaxis": {
            "gridcolor": "#EBF0F8",
            "linecolor": "#EBF0F8",
            "ticks": ""
           }
          },
          "scene": {
           "xaxis": {
            "backgroundcolor": "white",
            "gridcolor": "#DFE8F3",
            "gridwidth": 2,
            "linecolor": "#EBF0F8",
            "showbackground": true,
            "ticks": "",
            "zerolinecolor": "#EBF0F8"
           },
           "yaxis": {
            "backgroundcolor": "white",
            "gridcolor": "#DFE8F3",
            "gridwidth": 2,
            "linecolor": "#EBF0F8",
            "showbackground": true,
            "ticks": "",
            "zerolinecolor": "#EBF0F8"
           },
           "zaxis": {
            "backgroundcolor": "white",
            "gridcolor": "#DFE8F3",
            "gridwidth": 2,
            "linecolor": "#EBF0F8",
            "showbackground": true,
            "ticks": "",
            "zerolinecolor": "#EBF0F8"
           }
          },
          "shapedefaults": {
           "line": {
            "color": "#2a3f5f"
           }
          },
          "ternary": {
           "aaxis": {
            "gridcolor": "#DFE8F3",
            "linecolor": "#A2B1C6",
            "ticks": ""
           },
           "baxis": {
            "gridcolor": "#DFE8F3",
            "linecolor": "#A2B1C6",
            "ticks": ""
           },
           "bgcolor": "white",
           "caxis": {
            "gridcolor": "#DFE8F3",
            "linecolor": "#A2B1C6",
            "ticks": ""
           }
          },
          "title": {
           "x": 0.05
          },
          "xaxis": {
           "automargin": true,
           "gridcolor": "#EBF0F8",
           "linecolor": "#EBF0F8",
           "ticks": "",
           "title": {
            "standoff": 15
           },
           "zerolinecolor": "#EBF0F8",
           "zerolinewidth": 2
          },
          "yaxis": {
           "automargin": true,
           "gridcolor": "#EBF0F8",
           "linecolor": "#EBF0F8",
           "ticks": "",
           "title": {
            "standoff": 15
           },
           "zerolinecolor": "#EBF0F8",
           "zerolinewidth": 2
          }
         }
        },
        "title": {
         "text": "Pronóstico y Ajuste de Horas Extra para Sales con Modelo Exponential Smoothing"
        },
        "xaxis": {
         "title": {
          "text": "Fecha"
         }
        },
        "yaxis": {
         "title": {
          "text": "Horas Extra"
         }
        }
       }
      }
     },
     "metadata": {},
     "output_type": "display_data"
    }
   ],
   "source": [
    "def plot_forecast_combined(historical_data, historical_pred, future_forecast, dept, best_model_name):\n",
    "    fig = go.Figure()\n",
    "\n",
    "    # Asegurarse de que los índices sean fechas continuas y ordenadas\n",
    "    historical_data = historical_data.sort_index()\n",
    "    historical_pred = historical_pred.sort_index()\n",
    "\n",
    "    # Convertir future_forecast a DataFrame si es una Serie, usando el índice como 'ds'\n",
    "    if isinstance(future_forecast, pd.Series):\n",
    "        future_data = pd.DataFrame({\n",
    "            'ds': future_forecast.index,\n",
    "            'yhat': future_forecast.values\n",
    "        })\n",
    "        # Generar intervalos de confianza aproximados si no están presentes\n",
    "        if 'yhat_lower' not in future_data.columns or 'yhat_upper' not in future_data.columns:\n",
    "            future_data['yhat_lower'] = future_data['yhat'] * 0.9\n",
    "            future_data['yhat_upper'] = future_data['yhat'] * 1.1\n",
    "    elif isinstance(future_forecast, pd.DataFrame):\n",
    "        future_data = future_forecast.copy()\n",
    "        if 'ds' not in future_data.columns:\n",
    "            future_data['ds'] = pd.to_datetime(future_data.index)\n",
    "        if 'yhat' not in future_data.columns:\n",
    "            raise ValueError(\"future_forecast debe contener la columna 'yhat'\")\n",
    "        if 'yhat_lower' not in future_data.columns or 'yhat_upper' not in future_data.columns:\n",
    "            future_data['yhat_lower'] = future_data['yhat'] * 0.9  # Placeholder\n",
    "            future_data['yhat_upper'] = future_data['yhat'] * 1.1  # Placeholder\n",
    "    else:\n",
    "        raise ValueError(\"future_forecast debe ser una Serie o DataFrame\")\n",
    "\n",
    "    # Convertir 'ds' a datetime si no lo es\n",
    "    future_data['ds'] = pd.to_datetime(future_data['ds'])\n",
    "\n",
    "    # Depuración: Mostrar el rango de fechas en future_data\n",
    "    logging.info(f\"Rango de fechas en future_data para {dept}: {future_data['ds'].min()} a {future_data['ds'].max()}\")\n",
    "\n",
    "    # Agregar la línea de datos históricos reales\n",
    "    fig.add_trace(go.Scatter(x=historical_data.index, y=historical_data, mode='lines', name='Histórico Real', line=dict(color='blue')))\n",
    "\n",
    "    # Agregar la línea de predicción histórica (amarillo dash)\n",
    "    fig.add_trace(go.Scatter(x=historical_pred.index, y=historical_pred['yhat'], mode='lines', name='Predicción Histórica', line=dict(color='orange', dash='dash')))\n",
    "\n",
    "    # Agregar la línea de pronóstico futuro (rojo punteado)\n",
    "    future_mask = future_data['ds'] > historical_data.index[-1]\n",
    "    if not future_mask.any():\n",
    "        logging.warning(f\"No hay datos futuros para {dept}. Verifica future_periods en calculate_metrics.\")\n",
    "    fig.add_trace(go.Scatter(x=future_data.loc[future_mask, 'ds'], y=future_data.loc[future_mask, 'yhat'], mode='lines', name='Pronóstico Futuro', line=dict(color='red', dash='dot')))\n",
    "\n",
    "    # Agregar el intervalo de confianza para el pronóstico futuro\n",
    "    fig.add_trace(go.Scatter(\n",
    "        x=future_data.loc[future_mask, 'ds'].tolist() + future_data.loc[future_mask, 'ds'].tolist()[::-1],\n",
    "        y=future_data.loc[future_mask, 'yhat_upper'].tolist() + future_data.loc[future_mask, 'yhat_lower'].tolist()[::-1],\n",
    "        fill='toself',\n",
    "        fillcolor='rgba(255,0,0,0.1)',\n",
    "        line=dict(color='rgba(255,255,255,0)'),\n",
    "        hoverinfo=\"skip\",\n",
    "        showlegend=False,\n",
    "        name='Intervalo de Confianza'\n",
    "    ))\n",
    "\n",
    "    fig.update_layout(\n",
    "        title=f\"Pronóstico y Ajuste de Horas Extra para {dept} con Modelo {best_model_name}\",\n",
    "        xaxis_title=\"Fecha\",\n",
    "        yaxis_title=\"Horas Extra\",\n",
    "        legend=dict(\n",
    "            orientation=\"h\",\n",
    "            yanchor=\"bottom\",\n",
    "            y=1.02,\n",
    "            xanchor=\"center\",\n",
    "            x=0.5\n",
    "        ),\n",
    "        template=\"plotly_white\"\n",
    "    )\n",
    "    fig.show()\n",
    "\n",
    "import pandas as pd\n",
    "import logging\n",
    "\n",
    "logging.basicConfig(level=logging.INFO, format='%(asctime)s - %(levelname)s - %(message)s')\n",
    "\n",
    "# Asegurarse de que dept_data tenga el índice correcto\n",
    "for dept in all_forecasts:\n",
    "    # Verificar las columnas disponibles en df_all_data\n",
    "    logging.info(f\"Columnas disponibles en df_all_data para {dept}: {df_all_data.columns.tolist()}\")\n",
    "    \n",
    "    # Ajustar el nombre de la columna de horas extra\n",
    "    overtime_column = 'total_overtime' if 'total_overtime' in df_all_data.columns else 'y' if 'y' in df_all_data.columns else None\n",
    "    if overtime_column is None:\n",
    "        logging.error(f\"No se encontró una columna de horas extra (e.g., 'total_overtime' o 'y') en df_all_data para {dept}\")\n",
    "        raise KeyError(f\"No se encontró columna de horas extra en df_all_data para {dept}\")\n",
    "    \n",
    "    dept_data = df_all_data[df_all_data['department'] == dept].set_index('ds')[overtime_column]\n",
    "    future_forecast = all_forecasts[dept]['future']\n",
    "    historical_pred = all_forecasts[dept]['historical_pred']\n",
    "    \n",
    "    # Verificar y ajustar future_forecast si es necesario\n",
    "    if isinstance(future_forecast, pd.Series):\n",
    "        future_forecast = pd.DataFrame({'ds': future_forecast.index, 'yhat': future_forecast.values})\n",
    "        if 'yhat_lower' not in future_forecast.columns or 'yhat_upper' not in future_forecast.columns:\n",
    "            future_forecast['yhat_lower'] = future_forecast['yhat'] * 0.9\n",
    "            future_forecast['yhat_upper'] = future_forecast['yhat'] * 1.1\n",
    "    \n",
    "    # Asegurarse de que future_forecast contenga datos futuros\n",
    "    if isinstance(future_forecast, pd.DataFrame) and 'ds' in future_forecast.columns:\n",
    "        future_dates = pd.to_datetime(future_forecast['ds'])\n",
    "        if future_dates.min() < dept_data.index[-1]:\n",
    "            future_forecast = future_forecast[future_forecast['ds'] > dept_data.index[-1]].reset_index(drop=True)\n",
    "            logging.info(f\"Ajustado future_forecast para {dept} a partir de {dept_data.index[-1]}\")\n",
    "        elif future_dates.min() > dept_data.index[-1] + pd.Timedelta(days=1):\n",
    "            logging.warning(f\"future_forecast para {dept} comienza en {future_dates.min()} cuando debería ser después de {dept_data.index[-1]}\")\n",
    "    \n",
    "    plot_forecast_combined(dept_data, historical_pred, future_forecast, dept, all_metrics[dept].iloc[0]['Modelo'])"
   ]
  },
  {
   "cell_type": "markdown",
   "id": "new_metrics",
   "metadata": {},
   "source": [
    "## 6. Guardar Resultados\n",
    "\n",
    "Guardamos los modelos, predicciones y métricas en SQL Server. La tabla Overtime_Predictions incluye datos históricos y predicciones con una columna data_type para distinguir entre \"Histórico\" y \"Forecast\".\n"
   ]
  },
  {
   "cell_type": "code",
   "execution_count": 6,
   "id": "b2c90e4c",
   "metadata": {},
   "outputs": [
    {
     "name": "stderr",
     "output_type": "stream",
     "text": [
      "2025-08-09 15:49:45,419 - INFO - Timestamp establecido: 2025-08-09 15:49:45.419611\n",
      "2025-08-09 15:49:45,463 - INFO - Criterio de selección: La desviación estándar de los residuos multiplicative es menor.\n"
     ]
    },
    {
     "name": "stdout",
     "output_type": "stream",
     "text": [
      "Desviación estándar de los residuales aditivos: 15.56\n",
      "Desviación estándar de los residuales multiplicativos: 0.05\n",
      "P-value del test ADF: 0.00\n"
     ]
    },
    {
     "name": "stderr",
     "output_type": "stream",
     "text": [
      "2025-08-09 15:49:46,998 - INFO - Modelo Exponential Smoothing guardado para Finance en: Modelos Entrenados/overtime_forecast_model_Finance_Exponential Smoothing.pkl\n",
      "2025-08-09 15:49:47,010 - INFO - y - Actual data: len=8, mean=296.86, std=23.75\n",
      "2025-08-09 15:49:47,013 - INFO - y - Predictions: len=8, mean=300.43, std=22.64\n",
      "2025-08-09 15:49:47,043 - WARNING - Índice de future_forecast para Finance no es datetime. Reconstruyendo índice.\n",
      "2025-08-09 15:49:47,075 - INFO - Índice de future_forecast para Finance: DatetimeIndex(['2025-05-11', '2025-05-25', '2025-06-08'], dtype='datetime64[ns]', freq='2W-SUN')... (len=12)\n",
      "2025-08-09 15:49:47,078 - INFO - Primeras fechas esperadas: DatetimeIndex(['2025-05-11', '2025-05-25', '2025-06-08'], dtype='datetime64[ns]', freq='2W-SUN')...\n",
      "2025-08-09 15:49:47,178 - INFO - Criterio de selección: La desviación estándar de los residuos multiplicative es menor.\n",
      "2025-08-09 15:49:47,182 - WARNING - Prophet no se guarda en disco para HR debido a problemas de serialización.\n",
      "2025-08-09 15:49:47,192 - INFO - y - Actual data: len=8, mean=377.43, std=33.57\n",
      "2025-08-09 15:49:47,198 - INFO - y - Predictions: len=8, mean=384.31, std=26.30\n",
      "2025-08-09 15:49:47,230 - INFO - Índice de future_forecast para HR: DatetimeIndex(['2025-05-11', '2025-05-25', '2025-06-08'], dtype='datetime64[ns]', name='ds', freq=None)... (len=12)\n",
      "2025-08-09 15:49:47,240 - INFO - Primeras fechas esperadas: DatetimeIndex(['2025-05-11', '2025-05-25', '2025-06-08'], dtype='datetime64[ns]', freq='2W-SUN')...\n"
     ]
    },
    {
     "name": "stdout",
     "output_type": "stream",
     "text": [
      "Desviación estándar de los residuales aditivos: 24.99\n",
      "Desviación estándar de los residuales multiplicativos: 0.06\n",
      "P-value del test ADF: 0.00\n"
     ]
    },
    {
     "name": "stderr",
     "output_type": "stream",
     "text": [
      "2025-08-09 15:49:47,527 - INFO - Criterio de selección: La desviación estándar de los residuos multiplicative es menor.\n"
     ]
    },
    {
     "name": "stdout",
     "output_type": "stream",
     "text": [
      "Desviación estándar de los residuales aditivos: 15.15\n",
      "Desviación estándar de los residuales multiplicativos: 0.04\n",
      "P-value del test ADF: 0.00\n"
     ]
    },
    {
     "name": "stderr",
     "output_type": "stream",
     "text": [
      "2025-08-09 15:49:48,520 - INFO - Modelo Exponential Smoothing guardado para IT en: Modelos Entrenados/overtime_forecast_model_IT_Exponential Smoothing.pkl\n",
      "2025-08-09 15:49:48,527 - INFO - y - Actual data: len=8, mean=419.58, std=33.43\n",
      "2025-08-09 15:49:48,530 - INFO - y - Predictions: len=8, mean=423.09, std=21.38\n",
      "2025-08-09 15:49:48,545 - WARNING - Índice de future_forecast para IT no es datetime. Reconstruyendo índice.\n",
      "2025-08-09 15:49:48,560 - INFO - Índice de future_forecast para IT: DatetimeIndex(['2025-05-11', '2025-05-25', '2025-06-08'], dtype='datetime64[ns]', freq='2W-SUN')... (len=12)\n",
      "2025-08-09 15:49:48,563 - INFO - Primeras fechas esperadas: DatetimeIndex(['2025-05-11', '2025-05-25', '2025-06-08'], dtype='datetime64[ns]', freq='2W-SUN')...\n",
      "2025-08-09 15:49:48,643 - INFO - Criterio de selección: La desviación estándar de los residuos multiplicative es menor.\n"
     ]
    },
    {
     "name": "stdout",
     "output_type": "stream",
     "text": [
      "Desviación estándar de los residuales aditivos: 17.28\n",
      "Desviación estándar de los residuales multiplicativos: 0.03\n",
      "P-value del test ADF: 0.00\n"
     ]
    },
    {
     "name": "stderr",
     "output_type": "stream",
     "text": [
      "2025-08-09 15:49:57,928 - INFO - Modelo ARIMA guardado para Inventory en: Modelos Entrenados/overtime_forecast_model_Inventory_ARIMA.pkl\n",
      "2025-08-09 15:49:57,943 - INFO - y - Actual data: len=8, mean=523.25, std=34.70\n",
      "2025-08-09 15:49:57,946 - INFO - y - Predictions: len=8, mean=528.65, std=25.76\n",
      "2025-08-09 15:49:57,972 - INFO - Índice de future_forecast para Inventory: DatetimeIndex(['2025-05-11', '2025-05-25', '2025-06-08'], dtype='datetime64[ns]', freq='2W-SUN')... (len=12)\n",
      "2025-08-09 15:49:57,978 - INFO - Primeras fechas esperadas: DatetimeIndex(['2025-05-11', '2025-05-25', '2025-06-08'], dtype='datetime64[ns]', freq='2W-SUN')...\n",
      "2025-08-09 15:49:58,020 - INFO - Criterio de selección: La desviación estándar de los residuos multiplicative es menor.\n"
     ]
    },
    {
     "name": "stdout",
     "output_type": "stream",
     "text": [
      "Desviación estándar de los residuales aditivos: 31.14\n",
      "Desviación estándar de los residuales multiplicativos: 0.07\n",
      "P-value del test ADF: 0.00\n"
     ]
    },
    {
     "name": "stderr",
     "output_type": "stream",
     "text": [
      "2025-08-09 15:49:58,708 - INFO - Modelo Exponential Smoothing guardado para Marketing en: Modelos Entrenados/overtime_forecast_model_Marketing_Exponential Smoothing.pkl\n",
      "2025-08-09 15:49:58,716 - INFO - y - Actual data: len=8, mean=465.68, std=54.50\n",
      "2025-08-09 15:49:58,718 - INFO - y - Predictions: len=8, mean=476.63, std=32.50\n",
      "2025-08-09 15:49:58,745 - WARNING - Índice de future_forecast para Marketing no es datetime. Reconstruyendo índice.\n",
      "2025-08-09 15:49:58,749 - INFO - Índice de future_forecast para Marketing: DatetimeIndex(['2025-05-11', '2025-05-25', '2025-06-08'], dtype='datetime64[ns]', freq='2W-SUN')... (len=12)\n",
      "2025-08-09 15:49:58,758 - INFO - Primeras fechas esperadas: DatetimeIndex(['2025-05-11', '2025-05-25', '2025-06-08'], dtype='datetime64[ns]', freq='2W-SUN')...\n",
      "2025-08-09 15:49:58,865 - INFO - Criterio de selección: La desviación estándar de los residuos multiplicative es menor.\n"
     ]
    },
    {
     "name": "stdout",
     "output_type": "stream",
     "text": [
      "Desviación estándar de los residuales aditivos: 23.60\n",
      "Desviación estándar de los residuales multiplicativos: 0.05\n",
      "P-value del test ADF: 0.00\n"
     ]
    },
    {
     "name": "stderr",
     "output_type": "stream",
     "text": [
      "2025-08-09 15:49:59,651 - INFO - Modelo Exponential Smoothing guardado para Sales en: Modelos Entrenados/overtime_forecast_model_Sales_Exponential Smoothing.pkl\n",
      "2025-08-09 15:49:59,661 - INFO - y - Actual data: len=8, mean=469.63, std=24.31\n",
      "2025-08-09 15:49:59,665 - INFO - y - Predictions: len=8, mean=477.12, std=13.33\n",
      "2025-08-09 15:49:59,714 - WARNING - Índice de future_forecast para Sales no es datetime. Reconstruyendo índice.\n",
      "2025-08-09 15:49:59,718 - INFO - Índice de future_forecast para Sales: DatetimeIndex(['2025-05-11', '2025-05-25', '2025-06-08'], dtype='datetime64[ns]', freq='2W-SUN')... (len=12)\n",
      "2025-08-09 15:49:59,726 - INFO - Primeras fechas esperadas: DatetimeIndex(['2025-05-11', '2025-05-25', '2025-06-08'], dtype='datetime64[ns]', freq='2W-SUN')...\n",
      "2025-08-09 15:49:59,856 - INFO - Conexión a la base de datos exitosa\n",
      "2025-08-09 15:49:59,858 - INFO - Conexión a la base de datos exitosa\n",
      "2025-08-09 15:50:02,010 - INFO - Predicciones y métricas guardadas exitosamente\n"
     ]
    },
    {
     "name": "stdout",
     "output_type": "stream",
     "text": [
      "\n",
      "=== Resumen de Modelos y Predicciones ===\n",
      "\n",
      "Modelos y Métricas por Departamento:\n"
     ]
    },
    {
     "data": {
      "application/vnd.microsoft.datawrangler.viewer.v0+json": {
       "columns": [
        {
         "name": "index",
         "rawType": "int64",
         "type": "integer"
        },
        {
         "name": "department",
         "rawType": "object",
         "type": "string"
        },
        {
         "name": "rmse",
         "rawType": "float64",
         "type": "float"
        },
        {
         "name": "mae",
         "rawType": "float64",
         "type": "float"
        },
        {
         "name": "smape",
         "rawType": "float64",
         "type": "float"
        },
        {
         "name": "mape",
         "rawType": "float64",
         "type": "float"
        },
        {
         "name": "mase",
         "rawType": "float64",
         "type": "float"
        },
        {
         "name": "model_quality",
         "rawType": "object",
         "type": "string"
        },
        {
         "name": "model_type",
         "rawType": "object",
         "type": "string"
        }
       ],
       "ref": "ce9aec12-0c1f-4d66-9d7f-0cf5d2176d98",
       "rows": [
        [
         "0",
         "Finance",
         "8.555560928247033",
         "6.741974043965001",
         "2.2085850832579004",
         "2.233221160245344",
         "0.4269002108345091",
         "Bueno",
         "Exponential Smoothing"
        ],
        [
         "1",
         "HR",
         "22.69686874265469",
         "20.22283733368338",
         "5.351875090789199",
         "5.444006965822693",
         "0.835703768438418",
         "Aceptable",
         "Prophet"
        ],
        [
         "2",
         "IT",
         "19.043617054756233",
         "15.957146053245154",
         "3.8571173659489504",
         "3.893525613541153",
         "0.47716699719217415",
         "Bueno",
         "Exponential Smoothing"
        ],
        [
         "3",
         "Inventory",
         "26.791513826806924",
         "16.40851915442731",
         "3.150083680319144",
         "3.253256824947891",
         "0.4073614487196455",
         "Bueno",
         "ARIMA"
        ],
        [
         "4",
         "Marketing",
         "27.115599722288923",
         "19.351711912806664",
         "4.48068069908021",
         "4.687550969344309",
         "0.4000176688803647",
         "Bueno",
         "Exponential Smoothing"
        ],
        [
         "5",
         "Sales",
         "21.02330477785641",
         "19.505240904545296",
         "4.119082303435914",
         "4.158221250416821",
         "0.6053499726527024",
         "Bueno",
         "Exponential Smoothing"
        ]
       ],
       "shape": {
        "columns": 8,
        "rows": 6
       }
      },
      "text/html": [
       "<div>\n",
       "<style scoped>\n",
       "    .dataframe tbody tr th:only-of-type {\n",
       "        vertical-align: middle;\n",
       "    }\n",
       "\n",
       "    .dataframe tbody tr th {\n",
       "        vertical-align: top;\n",
       "    }\n",
       "\n",
       "    .dataframe thead th {\n",
       "        text-align: right;\n",
       "    }\n",
       "</style>\n",
       "<table border=\"1\" class=\"dataframe\">\n",
       "  <thead>\n",
       "    <tr style=\"text-align: right;\">\n",
       "      <th></th>\n",
       "      <th>department</th>\n",
       "      <th>rmse</th>\n",
       "      <th>mae</th>\n",
       "      <th>smape</th>\n",
       "      <th>mape</th>\n",
       "      <th>mase</th>\n",
       "      <th>model_quality</th>\n",
       "      <th>model_type</th>\n",
       "    </tr>\n",
       "  </thead>\n",
       "  <tbody>\n",
       "    <tr>\n",
       "      <th>0</th>\n",
       "      <td>Finance</td>\n",
       "      <td>8.555561</td>\n",
       "      <td>6.741974</td>\n",
       "      <td>2.208585</td>\n",
       "      <td>2.233221</td>\n",
       "      <td>0.426900</td>\n",
       "      <td>Bueno</td>\n",
       "      <td>Exponential Smoothing</td>\n",
       "    </tr>\n",
       "    <tr>\n",
       "      <th>1</th>\n",
       "      <td>HR</td>\n",
       "      <td>22.696869</td>\n",
       "      <td>20.222837</td>\n",
       "      <td>5.351875</td>\n",
       "      <td>5.444007</td>\n",
       "      <td>0.835704</td>\n",
       "      <td>Aceptable</td>\n",
       "      <td>Prophet</td>\n",
       "    </tr>\n",
       "    <tr>\n",
       "      <th>2</th>\n",
       "      <td>IT</td>\n",
       "      <td>19.043617</td>\n",
       "      <td>15.957146</td>\n",
       "      <td>3.857117</td>\n",
       "      <td>3.893526</td>\n",
       "      <td>0.477167</td>\n",
       "      <td>Bueno</td>\n",
       "      <td>Exponential Smoothing</td>\n",
       "    </tr>\n",
       "    <tr>\n",
       "      <th>3</th>\n",
       "      <td>Inventory</td>\n",
       "      <td>26.791514</td>\n",
       "      <td>16.408519</td>\n",
       "      <td>3.150084</td>\n",
       "      <td>3.253257</td>\n",
       "      <td>0.407361</td>\n",
       "      <td>Bueno</td>\n",
       "      <td>ARIMA</td>\n",
       "    </tr>\n",
       "    <tr>\n",
       "      <th>4</th>\n",
       "      <td>Marketing</td>\n",
       "      <td>27.115600</td>\n",
       "      <td>19.351712</td>\n",
       "      <td>4.480681</td>\n",
       "      <td>4.687551</td>\n",
       "      <td>0.400018</td>\n",
       "      <td>Bueno</td>\n",
       "      <td>Exponential Smoothing</td>\n",
       "    </tr>\n",
       "    <tr>\n",
       "      <th>5</th>\n",
       "      <td>Sales</td>\n",
       "      <td>21.023305</td>\n",
       "      <td>19.505241</td>\n",
       "      <td>4.119082</td>\n",
       "      <td>4.158221</td>\n",
       "      <td>0.605350</td>\n",
       "      <td>Bueno</td>\n",
       "      <td>Exponential Smoothing</td>\n",
       "    </tr>\n",
       "  </tbody>\n",
       "</table>\n",
       "</div>"
      ],
      "text/plain": [
       "  department       rmse        mae     smape      mape      mase  \\\n",
       "0    Finance   8.555561   6.741974  2.208585  2.233221  0.426900   \n",
       "1         HR  22.696869  20.222837  5.351875  5.444007  0.835704   \n",
       "2         IT  19.043617  15.957146  3.857117  3.893526  0.477167   \n",
       "3  Inventory  26.791514  16.408519  3.150084  3.253257  0.407361   \n",
       "4  Marketing  27.115600  19.351712  4.480681  4.687551  0.400018   \n",
       "5      Sales  21.023305  19.505241  4.119082  4.158221  0.605350   \n",
       "\n",
       "  model_quality             model_type  \n",
       "0         Bueno  Exponential Smoothing  \n",
       "1     Aceptable                Prophet  \n",
       "2         Bueno  Exponential Smoothing  \n",
       "3         Bueno                  ARIMA  \n",
       "4         Bueno  Exponential Smoothing  \n",
       "5         Bueno  Exponential Smoothing  "
      ]
     },
     "metadata": {},
     "output_type": "display_data"
    },
    {
     "name": "stdout",
     "output_type": "stream",
     "text": [
      "\n",
      "Valores Predichos con Intervalos de Confianza:\n"
     ]
    },
    {
     "data": {
      "application/vnd.microsoft.datawrangler.viewer.v0+json": {
       "columns": [
        {
         "name": "index",
         "rawType": "int64",
         "type": "integer"
        },
        {
         "name": "department",
         "rawType": "object",
         "type": "string"
        },
        {
         "name": "prediction_date",
         "rawType": "object",
         "type": "unknown"
        },
        {
         "name": "predicted_value",
         "rawType": "float64",
         "type": "float"
        },
        {
         "name": "confidence_lower",
         "rawType": "float64",
         "type": "float"
        },
        {
         "name": "confidence_upper",
         "rawType": "float64",
         "type": "float"
        }
       ],
       "ref": "edaf9ddc-a08a-49cb-bca9-7b77b14f2dd9",
       "rows": [
        [
         "0",
         "Finance",
         "2025-05-11",
         "326.2465469379962",
         "293.62189224419654",
         "358.8712016317958"
        ],
        [
         "1",
         "Finance",
         "2025-05-25",
         "305.0266514439953",
         "274.5239862995958",
         "335.52931658839486"
        ],
        [
         "2",
         "Finance",
         "2025-06-08",
         "309.3564327275837",
         "278.42078945482535",
         "340.29207600034204"
        ],
        [
         "3",
         "Finance",
         "2025-06-22",
         "314.94250742163143",
         "283.4482566794683",
         "346.4367581637946"
        ],
        [
         "4",
         "Finance",
         "2025-07-06",
         "306.5137121466888",
         "275.86234093201995",
         "337.1650833613577"
        ],
        [
         "5",
         "Finance",
         "2025-07-20",
         "299.2802310872706",
         "269.3522079785435",
         "329.20825419599765"
        ],
        [
         "6",
         "Finance",
         "2025-08-03",
         "265.2151569162413",
         "238.69364122461718",
         "291.73667260786544"
        ],
        [
         "7",
         "Finance",
         "2025-08-17",
         "296.13984411653917",
         "266.52585970488525",
         "325.7538285281931"
        ],
        [
         "8",
         "Finance",
         "2025-08-31",
         "307.1632469787047",
         "276.44692228083426",
         "337.87957167657515"
        ],
        [
         "9",
         "Finance",
         "2025-09-14",
         "295.4975317325736",
         "265.94777855931625",
         "325.0472849058309"
        ],
        [
         "10",
         "Finance",
         "2025-09-28",
         "344.1927394583375",
         "309.7734655125037",
         "378.61201340417125"
        ],
        [
         "11",
         "Finance",
         "2025-10-12",
         "324.0688325000901",
         "291.6619492500811",
         "356.4757157500991"
        ],
        [
         "12",
         "HR",
         "2025-05-11",
         "365.5749935720389",
         "340.09155418387525",
         "393.1008715928475"
        ],
        [
         "13",
         "HR",
         "2025-05-25",
         "364.5555589657962",
         "340.98546487088754",
         "391.11141228652474"
        ],
        [
         "14",
         "HR",
         "2025-06-08",
         "357.16342956933715",
         "332.1250673058742",
         "381.0983709932622"
        ],
        [
         "15",
         "HR",
         "2025-06-22",
         "382.254994606352",
         "353.8641267895262",
         "408.1198671040742"
        ],
        [
         "16",
         "HR",
         "2025-07-06",
         "399.4806272550287",
         "371.81613581841816",
         "427.3331113596744"
        ],
        [
         "17",
         "HR",
         "2025-07-20",
         "418.2477189892057",
         "393.81927291989797",
         "444.9031431988012"
        ],
        [
         "18",
         "HR",
         "2025-08-03",
         "364.69364267209033",
         "339.10841530306914",
         "388.8085185775009"
        ],
        [
         "19",
         "HR",
         "2025-08-17",
         "408.034481029925",
         "381.7992145653642",
         "435.6345216699594"
        ],
        [
         "20",
         "HR",
         "2025-08-31",
         "409.6232476900059",
         "383.3892541950856",
         "437.1417546934256"
        ],
        [
         "21",
         "HR",
         "2025-09-14",
         "352.36563561850306",
         "328.66701179068895",
         "377.50180801198985"
        ],
        [
         "22",
         "HR",
         "2025-09-28",
         "420.88588666819305",
         "393.7775776669185",
         "445.41889008985896"
        ],
        [
         "23",
         "HR",
         "2025-10-12",
         "386.24852819228806",
         "360.98779570941207",
         "410.3480586227865"
        ],
        [
         "24",
         "IT",
         "2025-05-11",
         "437.0730499921312",
         "393.36574499291805",
         "480.7803549913443"
        ],
        [
         "25",
         "IT",
         "2025-05-25",
         "437.55093215281556",
         "393.795838937534",
         "481.30602536809715"
        ],
        [
         "26",
         "IT",
         "2025-06-08",
         "422.7890099742239",
         "380.5101089768015",
         "465.0679109716463"
        ],
        [
         "27",
         "IT",
         "2025-06-22",
         "399.48951423608696",
         "359.54056281247824",
         "439.4384656596957"
        ],
        [
         "28",
         "IT",
         "2025-07-06",
         "399.502424844109",
         "359.55218235969807",
         "439.4526673285199"
        ],
        [
         "29",
         "IT",
         "2025-07-20",
         "427.9353616047596",
         "385.1418254442836",
         "470.72889776523556"
        ],
        [
         "30",
         "IT",
         "2025-08-03",
         "392.16056175538773",
         "352.94450557984896",
         "431.3766179309265"
        ],
        [
         "31",
         "IT",
         "2025-08-17",
         "442.44466690889124",
         "398.2002002180021",
         "486.68913359978035"
        ],
        [
         "32",
         "IT",
         "2025-08-31",
         "445.56736826371997",
         "401.01063143734797",
         "490.124105090092"
        ],
        [
         "33",
         "IT",
         "2025-09-14",
         "452.33941964031783",
         "407.10547767628606",
         "497.5733616043496"
        ],
        [
         "34",
         "IT",
         "2025-09-28",
         "419.60693247877094",
         "377.64623923089385",
         "461.56762572664803"
        ],
        [
         "35",
         "IT",
         "2025-10-12",
         "426.23551461870454",
         "383.61196315683407",
         "468.859066080575"
        ],
        [
         "36",
         "Inventory",
         "2025-05-11",
         "528.5489400439328",
         "475.69404603953956",
         "581.4038340483261"
        ],
        [
         "37",
         "Inventory",
         "2025-05-25",
         "526.3288906898554",
         "473.6960016208698",
         "578.9617797588409"
        ],
        [
         "38",
         "Inventory",
         "2025-06-08",
         "529.3656079383037",
         "476.4290471444733",
         "582.3021687321341"
        ],
        [
         "39",
         "Inventory",
         "2025-06-22",
         "527.4189552093912",
         "474.6770596884521",
         "580.1608507303304"
        ],
        [
         "40",
         "Inventory",
         "2025-07-06",
         "528.666834592603",
         "475.8001511333427",
         "581.5335180518633"
        ],
        [
         "41",
         "Inventory",
         "2025-07-20",
         "527.8668958403455",
         "475.08020625631093",
         "580.65358542438"
        ],
        [
         "42",
         "Inventory",
         "2025-08-03",
         "528.3796873937376",
         "475.5417186543639",
         "581.2176561331114"
        ],
        [
         "43",
         "Inventory",
         "2025-08-17",
         "528.0509682555683",
         "475.24587143001145",
         "580.856065081125"
        ],
        [
         "44",
         "Inventory",
         "2025-08-31",
         "528.261689885213",
         "475.4355208966916",
         "581.0878588737343"
        ],
        [
         "45",
         "Inventory",
         "2025-09-14",
         "528.1266092037309",
         "475.31394828335783",
         "580.939270124104"
        ],
        [
         "46",
         "Inventory",
         "2025-09-28",
         "528.2132011237935",
         "475.39188101141417",
         "581.0345212361728"
        ],
        [
         "47",
         "Inventory",
         "2025-10-12",
         "528.1576923675609",
         "475.34192313080484",
         "580.973461604317"
        ],
        [
         "48",
         "Marketing",
         "2025-05-11",
         "554.1390695052895",
         "498.7251625547606",
         "609.5529764558185"
        ],
        [
         "49",
         "Marketing",
         "2025-05-25",
         "512.8183636747333",
         "461.53652730726",
         "564.1002000422067"
        ]
       ],
       "shape": {
        "columns": 5,
        "rows": 72
       }
      },
      "text/html": [
       "<div>\n",
       "<style scoped>\n",
       "    .dataframe tbody tr th:only-of-type {\n",
       "        vertical-align: middle;\n",
       "    }\n",
       "\n",
       "    .dataframe tbody tr th {\n",
       "        vertical-align: top;\n",
       "    }\n",
       "\n",
       "    .dataframe thead th {\n",
       "        text-align: right;\n",
       "    }\n",
       "</style>\n",
       "<table border=\"1\" class=\"dataframe\">\n",
       "  <thead>\n",
       "    <tr style=\"text-align: right;\">\n",
       "      <th></th>\n",
       "      <th>department</th>\n",
       "      <th>prediction_date</th>\n",
       "      <th>predicted_value</th>\n",
       "      <th>confidence_lower</th>\n",
       "      <th>confidence_upper</th>\n",
       "    </tr>\n",
       "  </thead>\n",
       "  <tbody>\n",
       "    <tr>\n",
       "      <th>0</th>\n",
       "      <td>Finance</td>\n",
       "      <td>2025-05-11</td>\n",
       "      <td>326.246547</td>\n",
       "      <td>293.621892</td>\n",
       "      <td>358.871202</td>\n",
       "    </tr>\n",
       "    <tr>\n",
       "      <th>1</th>\n",
       "      <td>Finance</td>\n",
       "      <td>2025-05-25</td>\n",
       "      <td>305.026651</td>\n",
       "      <td>274.523986</td>\n",
       "      <td>335.529317</td>\n",
       "    </tr>\n",
       "    <tr>\n",
       "      <th>2</th>\n",
       "      <td>Finance</td>\n",
       "      <td>2025-06-08</td>\n",
       "      <td>309.356433</td>\n",
       "      <td>278.420789</td>\n",
       "      <td>340.292076</td>\n",
       "    </tr>\n",
       "    <tr>\n",
       "      <th>3</th>\n",
       "      <td>Finance</td>\n",
       "      <td>2025-06-22</td>\n",
       "      <td>314.942507</td>\n",
       "      <td>283.448257</td>\n",
       "      <td>346.436758</td>\n",
       "    </tr>\n",
       "    <tr>\n",
       "      <th>4</th>\n",
       "      <td>Finance</td>\n",
       "      <td>2025-07-06</td>\n",
       "      <td>306.513712</td>\n",
       "      <td>275.862341</td>\n",
       "      <td>337.165083</td>\n",
       "    </tr>\n",
       "    <tr>\n",
       "      <th>...</th>\n",
       "      <td>...</td>\n",
       "      <td>...</td>\n",
       "      <td>...</td>\n",
       "      <td>...</td>\n",
       "      <td>...</td>\n",
       "    </tr>\n",
       "    <tr>\n",
       "      <th>67</th>\n",
       "      <td>Sales</td>\n",
       "      <td>2025-08-17</td>\n",
       "      <td>478.132831</td>\n",
       "      <td>430.319548</td>\n",
       "      <td>525.946114</td>\n",
       "    </tr>\n",
       "    <tr>\n",
       "      <th>68</th>\n",
       "      <td>Sales</td>\n",
       "      <td>2025-08-31</td>\n",
       "      <td>488.583616</td>\n",
       "      <td>439.725254</td>\n",
       "      <td>537.441977</td>\n",
       "    </tr>\n",
       "    <tr>\n",
       "      <th>69</th>\n",
       "      <td>Sales</td>\n",
       "      <td>2025-09-14</td>\n",
       "      <td>483.929179</td>\n",
       "      <td>435.536261</td>\n",
       "      <td>532.322097</td>\n",
       "    </tr>\n",
       "    <tr>\n",
       "      <th>70</th>\n",
       "      <td>Sales</td>\n",
       "      <td>2025-09-28</td>\n",
       "      <td>485.997606</td>\n",
       "      <td>437.397845</td>\n",
       "      <td>534.597366</td>\n",
       "    </tr>\n",
       "    <tr>\n",
       "      <th>71</th>\n",
       "      <td>Sales</td>\n",
       "      <td>2025-10-12</td>\n",
       "      <td>480.084904</td>\n",
       "      <td>432.076413</td>\n",
       "      <td>528.093394</td>\n",
       "    </tr>\n",
       "  </tbody>\n",
       "</table>\n",
       "<p>72 rows × 5 columns</p>\n",
       "</div>"
      ],
      "text/plain": [
       "   department prediction_date  predicted_value  confidence_lower  \\\n",
       "0     Finance      2025-05-11       326.246547        293.621892   \n",
       "1     Finance      2025-05-25       305.026651        274.523986   \n",
       "2     Finance      2025-06-08       309.356433        278.420789   \n",
       "3     Finance      2025-06-22       314.942507        283.448257   \n",
       "4     Finance      2025-07-06       306.513712        275.862341   \n",
       "..        ...             ...              ...               ...   \n",
       "67      Sales      2025-08-17       478.132831        430.319548   \n",
       "68      Sales      2025-08-31       488.583616        439.725254   \n",
       "69      Sales      2025-09-14       483.929179        435.536261   \n",
       "70      Sales      2025-09-28       485.997606        437.397845   \n",
       "71      Sales      2025-10-12       480.084904        432.076413   \n",
       "\n",
       "    confidence_upper  \n",
       "0         358.871202  \n",
       "1         335.529317  \n",
       "2         340.292076  \n",
       "3         346.436758  \n",
       "4         337.165083  \n",
       "..               ...  \n",
       "67        525.946114  \n",
       "68        537.441977  \n",
       "69        532.322097  \n",
       "70        534.597366  \n",
       "71        528.093394  \n",
       "\n",
       "[72 rows x 5 columns]"
      ]
     },
     "metadata": {},
     "output_type": "display_data"
    },
    {
     "name": "stdout",
     "output_type": "stream",
     "text": [
      "\n",
      "Datos guardados exitosamente en la base de datos.\n"
     ]
    },
    {
     "name": "stderr",
     "output_type": "stream",
     "text": [
      "2025-08-09 15:50:02,859 - INFO - Conexión a la base de datos exitosa\n",
      "2025-08-09 15:50:02,957 - INFO - Registros en Overtime_Predictions: 72\n",
      "2025-08-09 15:50:02,959 - INFO - Registros en ML_Model_Metrics_Overtime_Predictions: 30\n"
     ]
    },
    {
     "name": "stdout",
     "output_type": "stream",
     "text": [
      "\n",
      "Registros en Overtime_Predictions: 72\n",
      "Registros en ML_Model_Metrics: 30\n"
     ]
    }
   ],
   "source": [
    "\n",
    "def calculate_metrics(dept_data, historical_pred, model_type, train_test_split=True, test_size=0.2):\n",
    "\n",
    "    try:\n",
    "        department = dept_data.name if dept_data.name else 'Unknown'\n",
    "        # Ensure no NaN in input data\n",
    "        dept_data_clean = dept_data.fillna(dept_data.median())\n",
    "        historical_pred_clean = historical_pred['yhat'].reindex(dept_data_clean.index).fillna(dept_data_clean.median()).clip(lower=0)\n",
    "\n",
    "        # Split data into train and test\n",
    "        if train_test_split:\n",
    "            train_size = int(len(dept_data_clean) * (1 - test_size))\n",
    "            actual = dept_data_clean.iloc[train_size:]\n",
    "            predictions = historical_pred_clean.iloc[train_size:]\n",
    "        else:\n",
    "            actual = dept_data_clean\n",
    "            predictions = historical_pred_clean\n",
    "\n",
    "        # Ensure indices align\n",
    "        common_index = actual.index.intersection(predictions.index)\n",
    "        if len(common_index) == 0:\n",
    "            logging.error(f\"No hay índices comunes para {department}. Índice real: {actual.index[:3]}..., Índice predicciones: {predictions.index[:3]}...\")\n",
    "            raise ValueError(f\"No hay índices comunes para {department}\")\n",
    "        actual = actual.loc[common_index]\n",
    "        predictions = predictions.loc[common_index]\n",
    "\n",
    "        # Log data statistics\n",
    "        logging.info(f\"{department} - Actual data: len={len(actual)}, mean={actual.mean():.2f}, std={actual.std():.2f}\")\n",
    "        logging.info(f\"{department} - Predictions: len={len(predictions)}, mean={predictions.mean():.2f}, std={predictions.std():.2f}\")\n",
    "\n",
    "        # Calculate metrics\n",
    "        rmse = np.sqrt(mean_squared_error(actual, predictions))\n",
    "        mae = mean_absolute_error(actual, predictions)\n",
    "        smape = np.mean(2 * np.abs(predictions - actual) / (np.abs(predictions) + np.abs(actual) + 1e-10)) * 100\n",
    "        mape = mean_absolute_percentage_error(actual, predictions) * 100\n",
    "        naive_forecast = actual.shift(1).fillna(actual.mean())\n",
    "        mase = mae / mean_absolute_error(actual[1:], naive_forecast[1:]) if naive_forecast.std() > 0 else float('inf')\n",
    "\n",
    "        # Calculate department-specific thresholds based on mean overtime\n",
    "        mean_overtime = dept_data_clean.mean()\n",
    "        mae_threshold_good = 0.05 * mean_overtime  # 5% of mean\n",
    "        mae_threshold_acceptable = 0.10 * mean_overtime  # 10% of mean\n",
    "        rmse_threshold_good = 0.10 * mean_overtime  # 10% of mean\n",
    "        rmse_threshold_acceptable = 0.20 * mean_overtime  # 20% of mean\n",
    "\n",
    "        # Determine model quality\n",
    "        if (mae < mae_threshold_good and smape < 10 and mape < 10 and mase < 0.8 and rmse < rmse_threshold_good):\n",
    "            quality = \"Bueno\"\n",
    "        elif (mae < mae_threshold_acceptable and smape < 20 and mape < 20 and mase < 1.2 and rmse < rmse_threshold_acceptable):\n",
    "            quality = \"Aceptable\"\n",
    "        else:\n",
    "            quality = \"Pobre\"\n",
    "\n",
    "        # Ensure finite values for SQL\n",
    "        rmse = rmse if np.isfinite(rmse) else None\n",
    "        mae = mae if np.isfinite(mae) else None\n",
    "        smape = smape if np.isfinite(smape) else None\n",
    "        mape = mape if np.isfinite(mape) else None\n",
    "        mase = mase if np.isfinite(mase) else None\n",
    "\n",
    "        return {\n",
    "            'rmse': rmse,\n",
    "            'mae': mae,\n",
    "            'smape': smape,\n",
    "            'mape': mape,\n",
    "            'mase': mase,\n",
    "            'quality': quality\n",
    "        }\n",
    "    except Exception as e:\n",
    "        logging.error(f\"Error calculando métricas para {department} ({model_type}): {e}\")\n",
    "        return {\n",
    "            'rmse': None,\n",
    "            'mae': None,\n",
    "            'smape': None,\n",
    "            'mape': None,\n",
    "            'mase': None,\n",
    "            'quality': 'Pobre'\n",
    "        }\n",
    "\n",
    "def save_predictions():\n",
    "\n",
    "    os.makedirs('Modelos Entrenados', exist_ok=True)\n",
    "    timestamp = datetime.now()\n",
    "    logging.info(f\"Timestamp establecido: {timestamp}\")\n",
    "    predictions_summary = []\n",
    "    metrics_summary = []\n",
    "    insert_errors = []\n",
    "\n",
    "    # Save models and collect predictions and metrics\n",
    "    for dept in all_forecasts:\n",
    "        try:\n",
    "            # Get best model and metrics\n",
    "            best_model = None  # Will be retrieved if saving is needed\n",
    "            best_model_name = all_metrics[dept].iloc[0]['Modelo']\n",
    "            model_path = f'Modelos Entrenados/overtime_forecast_model_{dept}_{best_model_name}.pkl'\n",
    "\n",
    "            # Retrieve the best model for saving (re-train to ensure consistency)\n",
    "            dept_data = df_all_data[df_all_data['department'] == dept].set_index('ds')['y']\n",
    "            decomposition_type, consider_arima = select_decomposition_type(dept_data)\n",
    "            series_filled_final = dept_data.fillna(dept_data.mean()).interpolate(method='linear')\n",
    "            if best_model_name == 'ARIMA' and consider_arima:\n",
    "                best_model = auto_arima(series_filled_final, seasonal=False, stepwise=True, suppress_warnings=True, error_action='ignore')\n",
    "                joblib.dump(best_model, model_path)\n",
    "                logging.info(f\"Modelo ARIMA guardado para {dept} en: {model_path}\")\n",
    "            elif best_model_name == 'Exponential Smoothing':\n",
    "                best_model = ExponentialSmoothing(series_filled_final, trend='add', seasonal=decomposition_type, seasonal_periods=12).fit()\n",
    "                joblib.dump(best_model, model_path)\n",
    "                logging.info(f\"Modelo Exponential Smoothing guardado para {dept} en: {model_path}\")\n",
    "            elif best_model_name == 'Prophet':\n",
    "                logging.warning(f\"Prophet no se guarda en disco para {dept} debido a problemas de serialización.\")\n",
    "                # Prophet model is not saved due to serialization issues; re-trained if needed later\n",
    "\n",
    "            # Calculate metrics using historical predictions\n",
    "            historical_pred = all_forecasts[dept]['historical_pred']\n",
    "            metrics = calculate_metrics(dept_data, historical_pred, best_model_name)\n",
    "\n",
    "            # Collect metrics for summary\n",
    "            metrics_summary.append({\n",
    "                'timestamp': timestamp,\n",
    "                'department': dept,\n",
    "                'rmse': metrics['rmse'],\n",
    "                'mae': metrics['mae'],\n",
    "                'smape': metrics['smape'],\n",
    "                'mape': metrics['mape'],\n",
    "                'mase': metrics['mase'],\n",
    "                'model_quality': metrics['quality'],\n",
    "                'model_type': best_model_name\n",
    "            })\n",
    "\n",
    "            # Collect future predictions with robust index handling\n",
    "            future_forecast = all_forecasts[dept]['future']\n",
    "            n_periods_forecast = len(future_forecast)\n",
    "            last_date = dept_data.index[-1]\n",
    "\n",
    "            # Define expected_index before index handling\n",
    "            expected_index = pd.date_range(start=last_date + pd.Timedelta(days=1), periods=n_periods_forecast, freq='2W')\n",
    "\n",
    "            # Ensure future_forecast index is datetime\n",
    "            if not pd.api.types.is_datetime64_any_dtype(future_forecast.index):\n",
    "                logging.warning(f\"Índice de future_forecast para {dept} no es datetime. Reconstruyendo índice.\")\n",
    "                future_forecast = future_forecast.copy()  # Avoid modifying original\n",
    "                future_forecast.index = expected_index\n",
    "            else:\n",
    "                # Verify index alignment\n",
    "                if not all(future_forecast.index == expected_index):\n",
    "                    logging.warning(f\"Índice de future_forecast para {dept} no está alineado. Reconstruyendo índice.\")\n",
    "                    future_forecast = future_forecast.copy()\n",
    "                    future_forecast.index = expected_index\n",
    "\n",
    "            # Log index details\n",
    "            logging.info(f\"Índice de future_forecast para {dept}: {future_forecast.index[:3]}... (len={len(future_forecast)})\")\n",
    "            logging.info(f\"Primeras fechas esperadas: {expected_index[:3]}...\")\n",
    "\n",
    "            for _, row in future_forecast.iterrows():\n",
    "                predicted_value = row['yhat'] if pd.notna(row['yhat']) else None\n",
    "                confidence_lower = row['yhat_lower'] if pd.notna(row['yhat_lower']) else None\n",
    "                confidence_upper = row['yhat_upper'] if pd.notna(row['yhat_upper']) else None\n",
    "                try:\n",
    "                    prediction_date = row.name.date() if pd.notna(row.name) and hasattr(row.name, 'date') else None\n",
    "                    if prediction_date is None:\n",
    "                        raise ValueError(f\"Fecha inválida para {dept}, índice: {row.name}\")\n",
    "                    predictions_summary.append({\n",
    "                        'timestamp': timestamp,\n",
    "                        'department': dept,\n",
    "                        'prediction_date': prediction_date,\n",
    "                        'predicted_value': predicted_value,\n",
    "                        'confidence_lower': confidence_lower,\n",
    "                        'confidence_upper': confidence_upper\n",
    "                    })\n",
    "                except Exception as e:\n",
    "                    logging.error(f\"Error procesando fecha de predicción para {dept}: {e}\")\n",
    "                    # Fallback: Assign date from expected_index\n",
    "                    row_index = future_forecast.index.get_loc(row.name)\n",
    "                    prediction_date = expected_index[row_index].date()\n",
    "                    logging.info(f\"Asignando fecha de respaldo para {dept}: {prediction_date}\")\n",
    "                    predictions_summary.append({\n",
    "                        'timestamp': timestamp,\n",
    "                        'department': dept,\n",
    "                        'prediction_date': prediction_date,\n",
    "                        'predicted_value': predicted_value,\n",
    "                        'confidence_lower': confidence_lower,\n",
    "                        'confidence_upper': confidence_upper\n",
    "                    })\n",
    "\n",
    "        except Exception as e:\n",
    "            logging.error(f\"Error procesando datos para {dept}: {e}\")\n",
    "            insert_errors.append(dept)\n",
    "\n",
    "    # Create DataFrames\n",
    "    predictions_summary_df = pd.DataFrame(predictions_summary)\n",
    "    metrics_summary_df = pd.DataFrame(metrics_summary)\n",
    "\n",
    "    # Add 'id' column (will be auto-generated by SQL Server)\n",
    "    if not predictions_summary_df.empty:\n",
    "        predictions_summary_df.insert(0, 'id', range(1, len(predictions_summary_df) + 1))\n",
    "    if not metrics_summary_df.empty:\n",
    "        metrics_summary_df.insert(0, 'id', range(1, len(metrics_summary_df) + 1))\n",
    "\n",
    "    # Save to database\n",
    "    conn = get_db_connection()\n",
    "    cursor = conn.cursor()\n",
    "\n",
    "    try:\n",
    "        logging.info(\"Conexión a la base de datos exitosa\")\n",
    "        # Create tables if they don’t exist\n",
    "        cursor.execute(\"\"\"\n",
    "            IF NOT EXISTS (SELECT * FROM sys.tables WHERE name = 'Overtime_Predictions')\n",
    "            CREATE TABLE Overtime_Predictions (\n",
    "                id INT IDENTITY(1,1) PRIMARY KEY,\n",
    "                timestamp DATETIME,\n",
    "                department VARCHAR(100),\n",
    "                prediction_date DATE,\n",
    "                predicted_value FLOAT,\n",
    "                confidence_lower FLOAT,\n",
    "                confidence_upper FLOAT\n",
    "            )\n",
    "        \"\"\")\n",
    "\n",
    "        # Create or alter ML_Model_Metrics_Overtime_Predictions table to include mape and model_type\n",
    "        cursor.execute(\"\"\"\n",
    "            IF NOT EXISTS (SELECT * FROM sys.tables WHERE name = 'ML_Model_Metrics_Overtime_Predictions')\n",
    "            BEGIN\n",
    "                CREATE TABLE ML_Model_Metrics_Overtime_Predictions (\n",
    "                    id INT IDENTITY(1,1) PRIMARY KEY,\n",
    "                    timestamp DATETIME,\n",
    "                    department VARCHAR(100),\n",
    "                    rmse FLOAT,\n",
    "                    mae FLOAT,\n",
    "                    smape FLOAT,\n",
    "                    mape FLOAT,\n",
    "                    mase FLOAT,\n",
    "                    model_quality VARCHAR(50),\n",
    "                    model_type VARCHAR(50)\n",
    "                )\n",
    "            END\n",
    "            ELSE\n",
    "            BEGIN\n",
    "                IF NOT EXISTS (SELECT * FROM sys.columns \n",
    "                               WHERE object_id = OBJECT_ID('ML_Model_Metrics_Overtime_Predictions') \n",
    "                               AND name = 'mape')\n",
    "                BEGIN\n",
    "                    ALTER TABLE ML_Model_Metrics_Overtime_Predictions\n",
    "                    ADD mape FLOAT\n",
    "                END\n",
    "                IF NOT EXISTS (SELECT * FROM sys.columns \n",
    "                               WHERE object_id = OBJECT_ID('ML_Model_Metrics_Overtime_Predictions') \n",
    "                               AND name = 'model_type')\n",
    "                BEGIN\n",
    "                    ALTER TABLE ML_Model_Metrics_Overtime_Predictions\n",
    "                    ADD model_type VARCHAR(50)\n",
    "                END\n",
    "            END\n",
    "        \"\"\")\n",
    "\n",
    "        # Insert predictions\n",
    "        if not predictions_summary_df.empty:\n",
    "            for _, row in predictions_summary_df.iterrows():\n",
    "                cursor.execute(\"\"\"\n",
    "                    INSERT INTO Overtime_Predictions \n",
    "                    (timestamp, department, prediction_date, predicted_value, confidence_lower, confidence_upper)\n",
    "                    VALUES (%s, %s, %s, %s, %s, %s)\n",
    "                \"\"\", (\n",
    "                    row['timestamp'],\n",
    "                    row['department'],\n",
    "                    row['prediction_date'],\n",
    "                    row['predicted_value'],\n",
    "                    row['confidence_lower'],\n",
    "                    row['confidence_upper']\n",
    "                ))\n",
    "        else:\n",
    "            logging.warning(\"predictions_summary_df está vacío, no se insertaron predicciones.\")\n",
    "\n",
    "        # Insert metrics\n",
    "        if not metrics_summary_df.empty:\n",
    "            for _, row in metrics_summary_df.iterrows():\n",
    "                cursor.execute(\"\"\"\n",
    "                    INSERT INTO ML_Model_Metrics_Overtime_Predictions \n",
    "                    (timestamp, department, rmse, mae, smape, mape, mase, model_quality, model_type)\n",
    "                    VALUES (%s, %s, %s, %s, %s, %s, %s, %s, %s)\n",
    "                \"\"\", (\n",
    "                    row['timestamp'],\n",
    "                    row['department'],\n",
    "                    row['rmse'],\n",
    "                    row['mae'],\n",
    "                    row['smape'],\n",
    "                    row['mape'],\n",
    "                    row['mase'],\n",
    "                    row['model_quality'],\n",
    "                    row['model_type']\n",
    "                ))\n",
    "        else:\n",
    "            logging.warning(\"metrics_summary_df está vacío, no se insertaron métricas.\")\n",
    "\n",
    "        if insert_errors and len(insert_errors) == len(all_forecasts):\n",
    "            raise ValueError(\"No se pudieron insertar datos para ningún departamento\")\n",
    "\n",
    "        conn.commit()\n",
    "        logging.info(\"Predicciones y métricas guardadas exitosamente\")\n",
    "\n",
    "        # Display summary\n",
    "        print(\"\\n=== Resumen de Modelos y Predicciones ===\")\n",
    "        print(\"\\nModelos y Métricas por Departamento:\")\n",
    "        display(metrics_summary_df.drop(columns=['id', 'timestamp']))\n",
    "        print(\"\\nValores Predichos con Intervalos de Confianza:\")\n",
    "        display(predictions_summary_df.drop(columns=['id', 'timestamp']))\n",
    "\n",
    "        return predictions_summary_df, metrics_summary_df\n",
    "\n",
    "    except Exception as e:\n",
    "        conn.rollback()\n",
    "        logging.error(f\"Error al guardar los datos: {e}\")\n",
    "        raise\n",
    "    finally:\n",
    "        conn.close()\n",
    "\n",
    "def verify_tables():\n",
    "\n",
    "    conn = get_db_connection()\n",
    "    cursor = conn.cursor()\n",
    "    try:\n",
    "        cursor.execute(\"SELECT COUNT(*) FROM Overtime_Predictions\")\n",
    "        pred_count = cursor.fetchone()[0]\n",
    "        \n",
    "        cursor.execute(\"SELECT COUNT(*) FROM ML_Model_Metrics_Overtime_Predictions\")\n",
    "        metrics_count = cursor.fetchone()[0]\n",
    "        \n",
    "        logging.info(f\"Registros en Overtime_Predictions: {pred_count}\")\n",
    "        logging.info(f\"Registros en ML_Model_Metrics_Overtime_Predictions: {metrics_count}\")\n",
    "        print(f\"\\nRegistros en Overtime_Predictions: {pred_count}\")\n",
    "        print(f\"Registros en ML_Model_Metrics: {metrics_count}\")\n",
    "    except Exception as e:\n",
    "        logging.error(f\"Error verificando tablas: {e}\")\n",
    "        print(f\"Error verificando tablas: {e}\")\n",
    "    finally:\n",
    "        conn.close()\n",
    "\n",
    "# Execute saving and display summary\n",
    "try:\n",
    "    predictions_summary_df, metrics_summary_df = save_predictions()\n",
    "    print(\"\\nDatos guardados exitosamente en la base de datos.\")\n",
    "except Exception as e:\n",
    "    print(f\"\\nError al guardar los datos: {str(e)}\")\n",
    "\n",
    "# Verify tables\n",
    "verify_tables()\n"
   ]
  }
 ],
 "metadata": {
  "kernelspec": {
   "display_name": "Maestro_Yoda",
   "language": "python",
   "name": "python3"
  },
  "language_info": {
   "codemirror_mode": {
    "name": "ipython",
    "version": 3
   },
   "file_extension": ".py",
   "mimetype": "text/x-python",
   "name": "python",
   "nbconvert_exporter": "python",
   "pygments_lexer": "ipython3",
   "version": "3.10.11"
  }
 },
 "nbformat": 4,
 "nbformat_minor": 5
}
