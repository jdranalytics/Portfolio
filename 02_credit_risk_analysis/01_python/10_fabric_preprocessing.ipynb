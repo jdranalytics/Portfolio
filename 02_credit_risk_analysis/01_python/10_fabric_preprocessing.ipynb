{
 "cells": [
  {
   "cell_type": "code",
   "execution_count": null,
   "id": "3cdd46d2-e516-4c35-bd55-eb677278c647",
   "metadata": {
    "cellStatus": "{\"José Daniel Rojas\":{\"session_start_time\":\"2025-04-16T21:24:01.8960239Z\",\"execution_start_time\":\"2025-04-16T21:24:10.6993505Z\",\"execution_finish_time\":\"2025-04-16T21:24:25.2074541Z\",\"state\":\"finished\",\"livy_statement_state\":\"available\",\"normalized_state\":\"finished\"}}",
    "jupyter": {
     "source_hidden": false
    },
    "microsoft": {
     "language": "python",
     "language_group": "synapse_pyspark"
    }
   },
   "outputs": [
    {
     "data": {
      "application/vnd.livy.statement-meta+json": {
       "execution_finish_time": "2025-04-16T21:24:25.2074541Z",
       "execution_start_time": "2025-04-16T21:24:10.6993505Z",
       "livy_statement_state": "available",
       "normalized_state": "finished",
       "parent_msg_id": "aa13615d-d87f-48f3-880f-53c2b57761db",
       "queued_time": "2025-04-16T21:24:01.8948992Z",
       "session_id": "0f93f0a1-f030-480c-aabd-a980a14a1c9d",
       "session_start_time": "2025-04-16T21:24:01.8960239Z",
       "spark_pool": null,
       "state": "finished",
       "statement_id": 3,
       "statement_ids": [
        3
       ]
      },
      "text/plain": [
       "StatementMeta(, 0f93f0a1-f030-480c-aabd-a980a14a1c9d, 3, Finished, Available, Finished)"
      ]
     },
     "metadata": {},
     "output_type": "display_data"
    }
   ],
   "source": [
    "from pyspark.sql.functions import col, when, isnull\n",
    "from pyspark.sql.types import IntegerType\n",
    "\n",
    "df = spark.read.format(\"delta\").load(\"Tables/solicitudes\")\n",
    "\n",
    "# Transformar solicitud_credito a estado\n",
    "df = df.withColumn(\"estado_solicitud\",\n",
    "                   when(col(\"solicitud_credito\") == 1, \"Aprobado\")\n",
    "                   .when(col(\"solicitud_credito\") == 0, \"Rechazado\")\n",
    "                   .when(col(\"solicitud_credito\").isNull(), \"Pendiente\")\n",
    "                   .otherwise(\"Pendiente\"))\n",
    "\n",
    "# Manejar valores faltantes\n",
    "df = df.fillna({\"ingresos_anuales\": 0, \"deuda_actual\": 0, \"puntaje_crediticio\": 0})\n",
    "\n",
    "# Convertir puntaje_crediticio a entero\n",
    "df = df.withColumn(\"puntaje_crediticio\", col(\"puntaje_crediticio\").cast(IntegerType()))\n",
    "\n",
    "# Codificar columnas categóricas\n",
    "df = df.withColumn(\"historial_pagos_encoded\",\n",
    "                   when(col(\"historial_pagos\") == \"Bueno\", 2)\n",
    "                   .when(col(\"historial_pagos\") == \"Regular\", 1)\n",
    "                   .otherwise(0))\n",
    "\n",
    "df = df.withColumn(\"estado_civil_encoded\",\n",
    "                   when(col(\"estado_civil\") == \"Casado\", 0)\n",
    "                   .when(col(\"estado_civil\") == \"Soltero\", 1)\n",
    "                   .when(col(\"estado_civil\") == \"Viudo\", 2)\n",
    "                   .otherwise(3))\n",
    "                   \n",
    "df = df.withColumn(\"tipo_empleo_encoded\",\n",
    "                   when(col(\"tipo_empleo\") == \"Fijo\", 0)\n",
    "                   .when(col(\"tipo_empleo\") == \"Autonomo\", 1)\n",
    "                   .when(col(\"tipo_empleo\") == \"Desempleado\", 2)\n",
    "                   .otherwise(3))\n",
    "\n",
    "\n",
    "\n",
    "# Guardar datos procesados\n",
    "df.write.mode(\"overwrite\").format(\"delta\").save(\"Tables/solicitudes_processed\")\n"
   ]
  }
 ],
 "metadata": {
  "dependencies": {
   "lakehouse": {
    "default_lakehouse": "4913d9bf-b1b7-475e-b2a2-b1b684d107c5",
    "default_lakehouse_name": "RISKAPP",
    "default_lakehouse_workspace_id": "a2c9f91b-6c69-4d1d-96f9-24b310914c2b",
    "known_lakehouses": [
     {
      "id": "4913d9bf-b1b7-475e-b2a2-b1b684d107c5"
     }
    ]
   }
  },
  "kernel_info": {
   "name": "synapse_pyspark"
  },
  "kernelspec": {
   "display_name": "Synapse PySpark",
   "language": "Python",
   "name": "synapse_pyspark"
  },
  "language_info": {
   "name": "python"
  },
  "microsoft": {
   "language": "python",
   "language_group": "synapse_pyspark",
   "ms_spell_check": {
    "ms_spell_check_language": "en"
   }
  },
  "nteract": {
   "version": "nteract-front-end@1.0.0"
  },
  "spark_compute": {
   "compute_id": "/trident/default",
   "session_options": {
    "conf": {
     "spark.synapse.nbs.session.timeout": "1200000"
    }
   }
  }
 },
 "nbformat": 4,
 "nbformat_minor": 5
}
